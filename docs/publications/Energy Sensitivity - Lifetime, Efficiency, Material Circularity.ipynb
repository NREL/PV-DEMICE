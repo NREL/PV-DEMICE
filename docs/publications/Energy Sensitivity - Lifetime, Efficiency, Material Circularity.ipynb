{
 "cells": [
  {
   "cell_type": "markdown",
   "id": "49f50c7f",
   "metadata": {},
   "source": [
    "# Energy Analysis Sensitivity of Lifetime, Efficiency, and Material Circularity\n",
    "This journal complements the 17-Energy Results journal to understand the sensitivity of our metrics to three module design aspects; lifetime, efficiency, and material circularity. This journal creates a simple modern module; 25 years, 20% efficiency, no material circularity, and modifies first one parameter, and then two parameters at a time. This will allow us to elucidate if there are multiplicative effects of changing design aspects.\n",
    "\n",
    "Circularity will only consider the glass, silicon, silver, and aluminium_frames, as these are the currently captured and recycled materials explored in the main energy analysis, and have recycling routes in current industry practice"
   ]
  },
  {
   "cell_type": "code",
   "execution_count": 1,
   "id": "e91793e6",
   "metadata": {},
   "outputs": [],
   "source": [
    "import numpy as np\n",
    "import pandas as pd\n",
    "import os,sys\n",
    "from pathlib import Path\n",
    "import matplotlib.pyplot as plt\n",
    "\n",
    "cwd = os.getcwd() #grabs current working directory\n",
    "\n",
    "testfolder = str(Path().resolve().parent.parent / 'PV_ICE' / 'TEMP' / 'EnergyAnalysis'/'Sensitivity')\n",
    "inputfolder = str(Path().resolve().parent.parent / 'PV_ICE' / 'TEMP')\n",
    "baselinesfolder = str(Path().resolve().parent.parent /'PV_ICE' / 'baselines')\n",
    "supportMatfolder = str(Path().resolve().parent.parent / 'PV_ICE' / 'baselines' / 'SupportingMaterial')\n",
    "altBaselinesfolder = str(Path().resolve().parent.parent / 'PV_ICE' / 'baselines' / 'Energy_CellModuleTechCompare')\n",
    "\n",
    "if not os.path.exists(testfolder):\n",
    "    os.makedirs(testfolder)"
   ]
  },
  {
   "cell_type": "code",
   "execution_count": 2,
   "id": "e8657ba8",
   "metadata": {},
   "outputs": [
    {
     "name": "stdout",
     "output_type": "stream",
     "text": [
      "3.8.8\n"
     ]
    }
   ],
   "source": [
    "from platform import python_version \n",
    "print(python_version())"
   ]
  },
  {
   "cell_type": "code",
   "execution_count": 3,
   "id": "49f06f6c",
   "metadata": {},
   "outputs": [
    {
     "data": {
      "text/plain": [
       "'v0.2.0+502.g70a70d1.dirty'"
      ]
     },
     "execution_count": 3,
     "metadata": {},
     "output_type": "execute_result"
    }
   ],
   "source": [
    "import PV_ICE\n",
    "PV_ICE.__version__"
   ]
  },
  {
   "cell_type": "code",
   "execution_count": 4,
   "id": "ac5460b5",
   "metadata": {},
   "outputs": [],
   "source": [
    "MATERIALS = ['glass', 'silicon', 'silver', 'aluminium_frames', 'copper', 'encapsulant', 'backsheet']\n",
    "MATERIALS_recycle = ['glass','silicon','silver','aluminium_frames']\n",
    "MATERIALS_NOrecycle = ['copper','encapsulant','backsheet']\n",
    "\n",
    "moduleFile_m = os.path.join(baselinesfolder, 'baseline_modules_mass_US.csv')\n",
    "moduleFile_e = os.path.join(baselinesfolder, 'baseline_modules_energy.csv')"
   ]
  },
  {
   "cell_type": "code",
   "execution_count": 5,
   "id": "6fbd2e80",
   "metadata": {},
   "outputs": [
    {
     "name": "stdout",
     "output_type": "stream",
     "text": [
      "path = C:\\Users\\hmirletz\\Documents\\GitHub\\PV_ICE\\PV_ICE\\TEMP\\EnergyAnalysis\\Sensitivity\n",
      "Baseline folder directed to default:  C:\\Users\\hmirletz\\Documents\\GitHub\\PV_ICE\\PV_ICE\\baselines\n"
     ]
    }
   ],
   "source": [
    "#load in a baseline and materials for modification\n",
    "sim1 = PV_ICE.Simulation(name='sim1', path=testfolder)\n",
    "\n",
    "sim1.createScenario(name='PV_ICE', massmodulefile=moduleFile_m, energymodulefile=moduleFile_e)\n",
    "for mat in range (0, len(MATERIALS)):\n",
    "    matbaseline_m = os.path.join(baselinesfolder,'baseline_material_mass_'+MATERIALS[mat]+'.csv')\n",
    "    matbaseline_e = os.path.join(baselinesfolder,'baseline_material_energy_'+MATERIALS[mat]+'.csv')\n",
    "    sim1.scenario['PV_ICE'].addMaterial(MATERIALS[mat], massmatfile=matbaseline_m, energymatfile=matbaseline_e)"
   ]
  },
  {
   "cell_type": "markdown",
   "id": "bc284ac8",
   "metadata": {},
   "source": [
    "## Create Sensitivity Scenarios\n",
    "First, examine only the effect of one set of parameters (life, eff, material circularity) at a time. Possibly get to interactions."
   ]
  },
  {
   "cell_type": "code",
   "execution_count": 6,
   "id": "2a1921e7",
   "metadata": {},
   "outputs": [],
   "source": [
    "timeshift = 2022-1995"
   ]
  },
  {
   "cell_type": "markdown",
   "id": "0e1313cf",
   "metadata": {},
   "source": [
    "### Life"
   ]
  },
  {
   "cell_type": "code",
   "execution_count": 7,
   "id": "90bb7f5c",
   "metadata": {},
   "outputs": [],
   "source": [
    "#life sensitivity\n",
    "#mod_reliability_t50, mod_reliability_t90, mod_degradation, mod_lifetime\n",
    "\n",
    "sim1.createScenario(name='life_high', massmodulefile=moduleFile_m, energymodulefile=moduleFile_e)\n",
    "for mat in range (0, len(MATERIALS)):\n",
    "    matbaseline_m = os.path.join(baselinesfolder,'baseline_material_mass_'+MATERIALS[mat]+'.csv')\n",
    "    matbaseline_e = os.path.join(baselinesfolder,'baseline_material_energy_'+MATERIALS[mat]+'.csv')\n",
    "    sim1.scenario['life_high'].addMaterial(MATERIALS[mat], massmatfile=matbaseline_m, energymatfile=matbaseline_e)\n",
    "    \n",
    "#Lifetime and Degradation\n",
    "#degradation rate:\n",
    "sim1.modifyScenario('life_high', 'mod_degradation', \n",
    "                    sim1.scenario['PV_ICE'].dataIn_m.loc[timeshift:,'mod_degradation']-0.1, start_year=2022) #standard current degrdation\n",
    "#T50\n",
    "sim1.modifyScenario('life_high', 'mod_reliability_t50',\n",
    "                    sim1.scenario['PV_ICE'].dataIn_m.loc[timeshift:,'mod_reliability_t50']+10, start_year=2022)\n",
    "#t90\n",
    "sim1.modifyScenario('life_high', 'mod_reliability_t90',\n",
    "                    sim1.scenario['PV_ICE'].dataIn_m.loc[timeshift:,'mod_reliability_t90']+10, start_year=2022) \n",
    "#Mod Project Lifetime\n",
    "sim1.modifyScenario('life_high', 'mod_lifetime',\n",
    "                    sim1.scenario['PV_ICE'].dataIn_m.loc[timeshift:,'mod_lifetime']+10, start_year=2022) #project lifetime of 25 years\n",
    "\n",
    "#--------------------------------------------------------------------------------------\n",
    "\n",
    "#life low\n",
    "sim1.createScenario(name='life_low', massmodulefile=moduleFile_m, energymodulefile=moduleFile_e)\n",
    "for mat in range (0, len(MATERIALS)):\n",
    "    matbaseline_m = os.path.join(baselinesfolder,'baseline_material_mass_'+MATERIALS[mat]+'.csv')\n",
    "    matbaseline_e = os.path.join(baselinesfolder,'baseline_material_energy_'+MATERIALS[mat]+'.csv')\n",
    "    sim1.scenario['life_low'].addMaterial(MATERIALS[mat], massmatfile=matbaseline_m, energymatfile=matbaseline_e)\n",
    "    \n",
    "#Lifetime and Degradation\n",
    "#degradation rate:\n",
    "sim1.modifyScenario('life_low', 'mod_degradation', \n",
    "                    sim1.scenario['PV_ICE'].dataIn_m.loc[timeshift:,'mod_degradation']+0.1, start_year=2022) #standard current degrdation\n",
    "#T50\n",
    "sim1.modifyScenario('life_low', 'mod_reliability_t50',\n",
    "                    sim1.scenario['PV_ICE'].dataIn_m.loc[timeshift:,'mod_reliability_t50']-10, start_year=2022)\n",
    "#t90\n",
    "sim1.modifyScenario('life_low', 'mod_reliability_t90',\n",
    "                    sim1.scenario['PV_ICE'].dataIn_m.loc[timeshift:,'mod_reliability_t90']-10, start_year=2022) \n",
    "#Mod Project Lifetime\n",
    "sim1.modifyScenario('life_low', 'mod_lifetime',\n",
    "                    sim1.scenario['PV_ICE'].dataIn_m.loc[timeshift:,'mod_lifetime']-10, start_year=2022) #project lifetime of 25 years\n",
    "\n"
   ]
  },
  {
   "cell_type": "markdown",
   "id": "18b3f19d",
   "metadata": {},
   "source": [
    "### Efficiency"
   ]
  },
  {
   "cell_type": "code",
   "execution_count": 8,
   "id": "ec291355",
   "metadata": {},
   "outputs": [],
   "source": [
    "sim1.createScenario(name='eff_high', massmodulefile=moduleFile_m, energymodulefile=moduleFile_e)\n",
    "for mat in range (0, len(MATERIALS)):\n",
    "    matbaseline_m = os.path.join(baselinesfolder,'baseline_material_mass_'+MATERIALS[mat]+'.csv')\n",
    "    matbaseline_e = os.path.join(baselinesfolder,'baseline_material_energy_'+MATERIALS[mat]+'.csv')\n",
    "    sim1.scenario['eff_high'].addMaterial(MATERIALS[mat], massmatfile=matbaseline_m, energymatfile=matbaseline_e)\n",
    "    \n",
    "sim1.modifyScenario('eff_high', 'mod_eff', \n",
    "                    sim1.scenario['PV_ICE'].dataIn_m.loc[timeshift:,'mod_eff']+5, start_year=2022) #\n",
    "\n",
    "#-------------------------------------------------------------------------------------------------------\n",
    "\n",
    "sim1.createScenario(name='eff_high_bifi', massmodulefile=moduleFile_m, energymodulefile=moduleFile_e)\n",
    "for mat in range (0, len(MATERIALS)):\n",
    "    matbaseline_m = os.path.join(baselinesfolder,'baseline_material_mass_'+MATERIALS[mat]+'.csv')\n",
    "    matbaseline_e = os.path.join(baselinesfolder,'baseline_material_energy_'+MATERIALS[mat]+'.csv')\n",
    "    sim1.scenario['eff_high_bifi'].addMaterial(MATERIALS[mat], massmatfile=matbaseline_m, energymatfile=matbaseline_e)\n",
    "    \n",
    "sim1.modifyScenario('eff_high_bifi', 'mod_eff', \n",
    "                    sim1.scenario['PV_ICE'].dataIn_m.loc[timeshift:,'mod_eff']+5, start_year=2022) #\n",
    "\n",
    "#------------------------------------------------------------------------------------------------------\n",
    "\n",
    "sim1.createScenario(name='eff_low', massmodulefile=moduleFile_m, energymodulefile=moduleFile_e)\n",
    "for mat in range (0, len(MATERIALS)):\n",
    "    matbaseline_m = os.path.join(baselinesfolder,'baseline_material_mass_'+MATERIALS[mat]+'.csv')\n",
    "    matbaseline_e = os.path.join(baselinesfolder,'baseline_material_energy_'+MATERIALS[mat]+'.csv')\n",
    "    sim1.scenario['eff_low'].addMaterial(MATERIALS[mat], massmatfile=matbaseline_m, energymatfile=matbaseline_e)\n",
    "    \n",
    "sim1.modifyScenario('eff_low', 'mod_eff', \n",
    "                    sim1.scenario['PV_ICE'].dataIn_m.loc[timeshift:,'mod_eff']-5, start_year=2022) #"
   ]
  },
  {
   "cell_type": "markdown",
   "id": "d88ce84b",
   "metadata": {},
   "source": [
    "### Material Circularity\n",
    "Here, we will use recycling as a stand in for the forms of material circularity. We set to 0%, 25%, and 100% closed loop (through mat_PG4_Recycling_target). This will give us the maximum and minimum, as well as a middle value that is a change more comparable to varying lifetime and efficiency (also changed by 20-30%). Using the recycling target variable means that it will not spend energy on recycling unless it is a target."
   ]
  },
  {
   "cell_type": "code",
   "execution_count": 9,
   "id": "c16356a3",
   "metadata": {},
   "outputs": [],
   "source": [
    "mod_circ_vars = ['mod_EOL_pg4_recycled', 'mod_EOL_pb4_recycled']\n",
    "\n",
    "mod_alt_paths = ['mod_EOL_pg0_resell','mod_EOL_pg2_stored','mod_EOL_pg3_reMFG',\n",
    "                 'mod_EOL_reMFG_yield','mod_EOL_sp_reMFG_recycle',\n",
    "                 'mod_EOL_pb2_stored','mod_EOL_pb3_reMFG'] #removed landfills\n",
    "\n",
    "mat_circ_vars = ['mat_MFG_scrap_Recycled', 'mat_MFG_scrap_Recycling_eff', 'mat_MFG_scrap_Recycled_into_HQ',\n",
    "                 'mat_MFG_scrap_Recycled_into_HQ_Reused4MFG', \n",
    "                 'mat_PG4_Recycling_target', 'mat_Recycling_yield',\n",
    "                 'mat_EOL_Recycled_into_HQ', 'mat_EOL_RecycledHQ_Reused4MFG']\n",
    "\n",
    "#mat_mfgscrap = ['mat_MFG_scrap_Recycled', 'mat_MFG_scrap_Recycling_eff', 'mat_MFG_scrap_Recycled_into_HQ',\n",
    "#                 'mat_MFG_scrap_Recycled_into_HQ_Reused4MFG']\n",
    "\n",
    "#path control variables are:\n",
    "# 'mat_PG4_Recycling_target'\n",
    "# 'mat_MFG_scrap_Recycled'\n",
    "# 'mod_EOL_pg4_recycled'\n",
    "# 'mod_EOL_pb4_recycled'"
   ]
  },
  {
   "cell_type": "code",
   "execution_count": 10,
   "id": "a74b8c2e",
   "metadata": {},
   "outputs": [],
   "source": [
    "sim1.createScenario(name='circ_high', massmodulefile=moduleFile_m, energymodulefile=moduleFile_e)\n",
    "for mat in range (0, len(MATERIALS)):\n",
    "    matbaseline_m = os.path.join(baselinesfolder,'baseline_material_mass_'+MATERIALS[mat]+'.csv')\n",
    "    matbaseline_e = os.path.join(baselinesfolder,'baseline_material_energy_'+MATERIALS[mat]+'.csv')\n",
    "    sim1.scenario['circ_high'].addMaterial(MATERIALS[mat], massmatfile=matbaseline_m, energymatfile=matbaseline_e)\n",
    "    \n",
    "for var in range(0,len(mod_alt_paths)):\n",
    "    sim1.modifyScenario('circ_high', mod_alt_paths[var], 0.0, start_year=2022) #set non recycle to 0   \n",
    "\n",
    "sim1.modifyScenario('circ_high', 'mod_EOL_collection_eff',100.0, start_year=2022) #collect everything\n",
    "sim1.modifyScenario('circ_high','mod_EOL_pb1_landfill',100.0,start_year=2022) #landfill up just in case\n",
    "sim1.modifyScenario('circ_high','mod_EOL_pg1_landfill',100.0,start_year=2022)\n",
    "    \n",
    "for var in range(0,len(mod_circ_vars)):\n",
    "    sim1.modifyScenario('circ_high', mod_circ_vars[var], 100.0, start_year=2022) #set recycle paths to 100%\n",
    "\n",
    "for mat in range (0, len(MATERIALS_recycle)): #modify only targeted materials\n",
    "    for mvar in range(0,len(mat_circ_vars)):\n",
    "        sim1.scenario['circ_high'].modifyMaterials(MATERIALS_recycle[mat], mat_circ_vars[mvar],100.0, start_year=2022) #\n",
    "        sim1.scenario['circ_high'].modifyMaterials(MATERIALS_recycle[mat], 'mat_MFG_scrap_Recycled',100.0, start_year=2022) #\n",
    "\n",
    "#--------------------------------------------------------------------------------------------------------\n",
    "        \n",
    "sim1.createScenario(name='circ_mid', massmodulefile=moduleFile_m, energymodulefile=moduleFile_e)\n",
    "for mat in range (0, len(MATERIALS)):\n",
    "    matbaseline_m = os.path.join(baselinesfolder,'baseline_material_mass_'+MATERIALS[mat]+'.csv')\n",
    "    matbaseline_e = os.path.join(baselinesfolder,'baseline_material_energy_'+MATERIALS[mat]+'.csv')\n",
    "    sim1.scenario['circ_mid'].addMaterial(MATERIALS[mat], massmatfile=matbaseline_m, energymatfile=matbaseline_e)\n",
    "    \n",
    "for var in range(0,len(mod_alt_paths)):\n",
    "    sim1.modifyScenario('circ_mid', mod_alt_paths[var], 0.0, start_year=2022) #set non recycle to 0   \n",
    "\n",
    "sim1.modifyScenario('circ_mid', 'mod_EOL_collection_eff',100.0, start_year=2022) #collect everything\n",
    "sim1.modifyScenario('circ_mid','mod_EOL_pb1_landfill',100.0,start_year=2022) #landfill up just in case\n",
    "sim1.modifyScenario('circ_mid','mod_EOL_pg1_landfill',100.0,start_year=2022)\n",
    "    \n",
    "for var in range(0,len(mod_circ_vars)):\n",
    "    sim1.modifyScenario('circ_mid', mod_circ_vars[var], 25.0, start_year=2022) #set recycle paths to 25%\n",
    "\n",
    "for mat in range (0, len(MATERIALS_recycle)): #modify only targeted materials\n",
    "    for mvar in range(0,len(mat_circ_vars)):\n",
    "        sim1.scenario['circ_mid'].modifyMaterials(MATERIALS_recycle[mat], mat_circ_vars[mvar],100.0, start_year=2022) #\n",
    "        sim1.scenario['circ_mid'].modifyMaterials(MATERIALS_recycle[mat], 'mat_MFG_scrap_Recycled',25.0, start_year=2022) #\n",
    "#-----------------------------------------------------------------------------------------------------------\n",
    "\n",
    "sim1.createScenario(name='circ_low', massmodulefile=moduleFile_m, energymodulefile=moduleFile_e)\n",
    "for mat in range (0, len(MATERIALS)):\n",
    "    matbaseline_m = os.path.join(baselinesfolder,'baseline_material_mass_'+MATERIALS[mat]+'.csv')\n",
    "    matbaseline_e = os.path.join(baselinesfolder,'baseline_material_energy_'+MATERIALS[mat]+'.csv')\n",
    "    sim1.scenario['circ_low'].addMaterial(MATERIALS[mat], massmatfile=matbaseline_m, energymatfile=matbaseline_e)\n",
    "    \n",
    "#sim1.scenMod_noCircularity(scenarios='circ_low') #sets all years to 0\n",
    "    \n",
    "for var in range(0,len(mod_circ_vars)):\n",
    "    sim1.modifyScenario('circ_low', mod_circ_vars[var],0.0, start_year=2022) #set recycle to 0\n",
    "    \n",
    "for var in range(0,len(mod_alt_paths)):\n",
    "    sim1.modifyScenario('circ_low', mod_alt_paths[var], 0.0, start_year=2022) #set non recycle to 0   \n",
    "\n",
    "sim1.modifyScenario('circ_low', 'mod_EOL_collection_eff',0.0, start_year=2022) #collect nothing\n",
    "sim1.modifyScenario('circ_low','mod_EOL_pb1_landfill',100.0,start_year=2022) #landfill up \n",
    "sim1.modifyScenario('circ_low','mod_EOL_pg1_landfill',100.0,start_year=2022)\n",
    "\n",
    "for mat in range (0, len(MATERIALS_recycle)): #modify only targeted materials\n",
    "    for mvar in range(0,len(mat_circ_vars)):\n",
    "        sim1.scenario['circ_low'].modifyMaterials(MATERIALS_recycle[mat], mat_circ_vars[mvar],0.0, start_year=2022) #"
   ]
  },
  {
   "cell_type": "code",
   "execution_count": null,
   "id": "aecb0ab7",
   "metadata": {},
   "outputs": [],
   "source": []
  },
  {
   "cell_type": "code",
   "execution_count": 11,
   "id": "68ac2f21",
   "metadata": {
    "scrolled": true
   },
   "outputs": [
    {
     "name": "stdout",
     "output_type": "stream",
     "text": [
      "Trimming and extending  PV_ICE\n",
      "PV_ICE glass : Data trimmed for Energy, years now encompass  2000  to  2100\n",
      "PV_ICE silicon : Data trimmed for Energy, years now encompass  2000  to  2100\n",
      "PV_ICE silver : Data trimmed for Energy, years now encompass  2000  to  2100\n",
      "PV_ICE aluminium_frames : Data trimmed for Energy, years now encompass  2000  to  2100\n",
      "PV_ICE copper : Data trimmed for Energy, years now encompass  2000  to  2100\n",
      "PV_ICE encapsulant : Data trimmed for Energy, years now encompass  2000  to  2100\n",
      "PV_ICE backsheet : Data trimmed for Energy, years now encompass  2000  to  2100\n",
      "PV_ICE backsheet : Data trimmed for Mass, years now encompass  2000  to  2100\n",
      "Trimming and extending  life_high\n",
      "life_high glass : Data trimmed for Energy, years now encompass  2000  to  2100\n",
      "life_high silicon : Data trimmed for Energy, years now encompass  2000  to  2100\n",
      "life_high silver : Data trimmed for Energy, years now encompass  2000  to  2100\n",
      "life_high aluminium_frames : Data trimmed for Energy, years now encompass  2000  to  2100\n",
      "life_high copper : Data trimmed for Energy, years now encompass  2000  to  2100\n",
      "life_high encapsulant : Data trimmed for Energy, years now encompass  2000  to  2100\n",
      "life_high backsheet : Data trimmed for Energy, years now encompass  2000  to  2100\n",
      "life_high backsheet : Data trimmed for Mass, years now encompass  2000  to  2100\n",
      "Trimming and extending  life_low\n",
      "life_low glass : Data trimmed for Energy, years now encompass  2000  to  2100\n",
      "life_low silicon : Data trimmed for Energy, years now encompass  2000  to  2100\n",
      "life_low silver : Data trimmed for Energy, years now encompass  2000  to  2100\n",
      "life_low aluminium_frames : Data trimmed for Energy, years now encompass  2000  to  2100\n",
      "life_low copper : Data trimmed for Energy, years now encompass  2000  to  2100\n",
      "life_low encapsulant : Data trimmed for Energy, years now encompass  2000  to  2100\n",
      "life_low backsheet : Data trimmed for Energy, years now encompass  2000  to  2100\n",
      "life_low backsheet : Data trimmed for Mass, years now encompass  2000  to  2100\n",
      "Trimming and extending  eff_high\n",
      "eff_high glass : Data trimmed for Energy, years now encompass  2000  to  2100\n",
      "eff_high silicon : Data trimmed for Energy, years now encompass  2000  to  2100\n",
      "eff_high silver : Data trimmed for Energy, years now encompass  2000  to  2100\n",
      "eff_high aluminium_frames : Data trimmed for Energy, years now encompass  2000  to  2100\n",
      "eff_high copper : Data trimmed for Energy, years now encompass  2000  to  2100\n",
      "eff_high encapsulant : Data trimmed for Energy, years now encompass  2000  to  2100\n",
      "eff_high backsheet : Data trimmed for Energy, years now encompass  2000  to  2100\n",
      "eff_high backsheet : Data trimmed for Mass, years now encompass  2000  to  2100\n",
      "Trimming and extending  eff_high_bifi\n",
      "eff_high_bifi glass : Data trimmed for Energy, years now encompass  2000  to  2100\n",
      "eff_high_bifi silicon : Data trimmed for Energy, years now encompass  2000  to  2100\n",
      "eff_high_bifi silver : Data trimmed for Energy, years now encompass  2000  to  2100\n",
      "eff_high_bifi aluminium_frames : Data trimmed for Energy, years now encompass  2000  to  2100\n",
      "eff_high_bifi copper : Data trimmed for Energy, years now encompass  2000  to  2100\n",
      "eff_high_bifi encapsulant : Data trimmed for Energy, years now encompass  2000  to  2100\n",
      "eff_high_bifi backsheet : Data trimmed for Energy, years now encompass  2000  to  2100\n",
      "eff_high_bifi backsheet : Data trimmed for Mass, years now encompass  2000  to  2100\n",
      "Trimming and extending  eff_low\n",
      "eff_low glass : Data trimmed for Energy, years now encompass  2000  to  2100\n",
      "eff_low silicon : Data trimmed for Energy, years now encompass  2000  to  2100\n",
      "eff_low silver : Data trimmed for Energy, years now encompass  2000  to  2100\n",
      "eff_low aluminium_frames : Data trimmed for Energy, years now encompass  2000  to  2100\n",
      "eff_low copper : Data trimmed for Energy, years now encompass  2000  to  2100\n",
      "eff_low encapsulant : Data trimmed for Energy, years now encompass  2000  to  2100\n",
      "eff_low backsheet : Data trimmed for Energy, years now encompass  2000  to  2100\n",
      "eff_low backsheet : Data trimmed for Mass, years now encompass  2000  to  2100\n",
      "Trimming and extending  circ_high\n",
      "circ_high glass : Data trimmed for Energy, years now encompass  2000  to  2100\n",
      "circ_high silicon : Data trimmed for Energy, years now encompass  2000  to  2100\n",
      "circ_high silver : Data trimmed for Energy, years now encompass  2000  to  2100\n",
      "circ_high aluminium_frames : Data trimmed for Energy, years now encompass  2000  to  2100\n",
      "circ_high copper : Data trimmed for Energy, years now encompass  2000  to  2100\n",
      "circ_high encapsulant : Data trimmed for Energy, years now encompass  2000  to  2100\n",
      "circ_high backsheet : Data trimmed for Energy, years now encompass  2000  to  2100\n",
      "circ_high backsheet : Data trimmed for Mass, years now encompass  2000  to  2100\n",
      "Trimming and extending  circ_mid\n",
      "circ_mid glass : Data trimmed for Energy, years now encompass  2000  to  2100\n",
      "circ_mid silicon : Data trimmed for Energy, years now encompass  2000  to  2100\n",
      "circ_mid silver : Data trimmed for Energy, years now encompass  2000  to  2100\n",
      "circ_mid aluminium_frames : Data trimmed for Energy, years now encompass  2000  to  2100\n",
      "circ_mid copper : Data trimmed for Energy, years now encompass  2000  to  2100\n",
      "circ_mid encapsulant : Data trimmed for Energy, years now encompass  2000  to  2100\n",
      "circ_mid backsheet : Data trimmed for Energy, years now encompass  2000  to  2100\n",
      "circ_mid backsheet : Data trimmed for Mass, years now encompass  2000  to  2100\n",
      "Trimming and extending  circ_low\n",
      "circ_low glass : Data trimmed for Energy, years now encompass  2000  to  2100\n",
      "circ_low silicon : Data trimmed for Energy, years now encompass  2000  to  2100\n",
      "circ_low silver : Data trimmed for Energy, years now encompass  2000  to  2100\n",
      "circ_low aluminium_frames : Data trimmed for Energy, years now encompass  2000  to  2100\n",
      "circ_low copper : Data trimmed for Energy, years now encompass  2000  to  2100\n",
      "circ_low encapsulant : Data trimmed for Energy, years now encompass  2000  to  2100\n",
      "circ_low backsheet : Data trimmed for Energy, years now encompass  2000  to  2100\n",
      "circ_low backsheet : Data trimmed for Mass, years now encompass  2000  to  2100\n"
     ]
    }
   ],
   "source": [
    "#trim to start in 2000, this trims module and materials\n",
    "#had to specify and end year, cannot use to extend\n",
    "sim1.trim_Years(startYear=2000, endYear=2100)"
   ]
  },
  {
   "cell_type": "code",
   "execution_count": 12,
   "id": "327fa6f4",
   "metadata": {},
   "outputs": [
    {
     "data": {
      "text/plain": [
       "World_cum              85966000.0\n",
       "World_annual_[MWdc]      219320.0\n",
       "Name: 2100, dtype: float64"
      ]
     },
     "execution_count": 12,
     "metadata": {},
     "output_type": "execute_result"
    }
   ],
   "source": [
    "global_projection = pd.read_csv(os.path.join(supportMatfolder,'output-globalInstallsProjection.csv'), index_col=0)\n",
    "global_projection.iloc[-1,:]\n",
    "\n",
    "#fig, ax1 = plt.subplots()\n",
    "\n",
    "#ax1.stackplot(global_projection.index, global_projection['World_cum']/1e6, color='#F7A11A')\n",
    "#ax1.set_ylabel('Cumulative Solar Capacity [TW]', color='#F7A11A')\n",
    "#ax1.set_ylim(0,90)\n",
    "#ax1.set_xlim(2000,2100)\n",
    "#ax2 = ax1.twinx()\n",
    "#ax2.plot(global_projection['World_annual_[MWdc]']/1e6)\n",
    "#ax2.set_ylabel('Annual Installations [TW]')\n",
    "#ax2.set_ylim(0,5)\n",
    "#plt.show()\n",
    "\n",
    "#fig.savefig('energyresults-deployment.png', dpi=300, bbox_inches='tight')"
   ]
  },
  {
   "cell_type": "code",
   "execution_count": 13,
   "id": "bf6e4e10",
   "metadata": {},
   "outputs": [],
   "source": [
    "#deployment projection for all scenarios\n",
    "sim1.modifyScenario(scenarios=None,stage='new_Installed_Capacity_[MW]', \n",
    "                    value= global_projection['World_annual_[MWdc]'], start_year=2000)"
   ]
  },
  {
   "cell_type": "code",
   "execution_count": 14,
   "id": "083e8bbe",
   "metadata": {},
   "outputs": [
    {
     "data": {
      "text/plain": [
       "dict_keys(['PV_ICE', 'life_high', 'life_low', 'eff_high', 'eff_high_bifi', 'eff_low', 'circ_high', 'circ_mid', 'circ_low'])"
      ]
     },
     "execution_count": 14,
     "metadata": {},
     "output_type": "execute_result"
    }
   ],
   "source": [
    "scennames_labels = sim1.scenario.keys()\n",
    "scennames_labels"
   ]
  },
  {
   "cell_type": "code",
   "execution_count": 15,
   "id": "dfd60811",
   "metadata": {},
   "outputs": [],
   "source": [
    "bifiFactors = {'PV_ICE':0.0,\n",
    "               'life_high':0.0,\n",
    "               'life_low': 0.0,\n",
    "               'eff_high': 0.0,\n",
    "               'eff_high_bifi': 0.9,\n",
    "               'eff_low': 0.0,\n",
    "               'circ_high':0.0,\n",
    "               'circ_mid':0.0,\n",
    "               'circ_low': 0.0\n",
    "              } \n",
    "\n",
    "#PV ICE currently set up to read in a csv of bifi factors, so generate files to read in \n",
    "idx_temp = pd.RangeIndex(start=2000,stop=2101,step=1) #create the index\n",
    "df_temp = pd.DataFrame(index=idx_temp, columns=['bifi'], dtype=float)\n",
    "bifiPathDict={}\n",
    "\n",
    "for f in bifiFactors.keys(): #loop over module types\n",
    "    bifi = df_temp.copy() #copy of df\n",
    "    bifi['bifi'] = bifiFactors[f] #assign column\n",
    "    bifipath = os.path.join(testfolder,'bifi_'+str(f)+'.csv') #create file path\n",
    "    bifi.to_csv(path_or_buf=bifipath, index_label='year') #create file\n",
    "    bifiPathDict[str(f)] = bifipath\n",
    "    #append bifi path to dict? or list?"
   ]
  },
  {
   "cell_type": "markdown",
   "id": "5fe55439",
   "metadata": {},
   "source": [
    "## Calculate Mass Flow: Identical Installs"
   ]
  },
  {
   "cell_type": "code",
   "execution_count": 16,
   "id": "6afdcc60",
   "metadata": {
    "scrolled": true
   },
   "outputs": [
    {
     "name": "stdout",
     "output_type": "stream",
     "text": [
      ">>>> Calculating Material Flows <<<<\n",
      "\n",
      "Working on Scenario:  PV_ICE\n",
      "********************\n",
      "Finished Area+Power Generation Calculations\n",
      "==> Working on Material :  glass\n",
      "==> Working on Material :  silicon\n",
      "==> Working on Material :  silver\n",
      "==> Working on Material :  aluminium_frames\n",
      "==> Working on Material :  copper\n",
      "==> Working on Material :  encapsulant\n",
      "==> Working on Material :  backsheet\n",
      ">>>> Calculating Material Flows <<<<\n",
      "\n",
      "Working on Scenario:  life_high\n",
      "********************\n",
      "Finished Area+Power Generation Calculations\n",
      "==> Working on Material :  glass\n",
      "==> Working on Material :  silicon\n",
      "==> Working on Material :  silver\n",
      "==> Working on Material :  aluminium_frames\n",
      "==> Working on Material :  copper\n",
      "==> Working on Material :  encapsulant\n",
      "==> Working on Material :  backsheet\n",
      ">>>> Calculating Material Flows <<<<\n",
      "\n",
      "Working on Scenario:  life_low\n",
      "********************\n",
      "Finished Area+Power Generation Calculations\n",
      "==> Working on Material :  glass\n",
      "==> Working on Material :  silicon\n",
      "==> Working on Material :  silver\n",
      "==> Working on Material :  aluminium_frames\n",
      "==> Working on Material :  copper\n",
      "==> Working on Material :  encapsulant\n",
      "==> Working on Material :  backsheet\n",
      ">>>> Calculating Material Flows <<<<\n",
      "\n",
      "Working on Scenario:  eff_high\n",
      "********************\n",
      "Finished Area+Power Generation Calculations\n",
      "==> Working on Material :  glass\n",
      "==> Working on Material :  silicon\n",
      "==> Working on Material :  silver\n",
      "==> Working on Material :  aluminium_frames\n",
      "==> Working on Material :  copper\n",
      "==> Working on Material :  encapsulant\n",
      "==> Working on Material :  backsheet\n",
      ">>>> Calculating Material Flows <<<<\n",
      "\n",
      "Working on Scenario:  eff_high_bifi\n",
      "********************\n",
      "Finished Area+Power Generation Calculations\n",
      "==> Working on Material :  glass\n",
      "==> Working on Material :  silicon\n",
      "==> Working on Material :  silver\n",
      "==> Working on Material :  aluminium_frames\n",
      "==> Working on Material :  copper\n",
      "==> Working on Material :  encapsulant\n",
      "==> Working on Material :  backsheet\n",
      ">>>> Calculating Material Flows <<<<\n",
      "\n",
      "Working on Scenario:  eff_low\n",
      "********************\n",
      "Finished Area+Power Generation Calculations\n",
      "==> Working on Material :  glass\n",
      "==> Working on Material :  silicon\n",
      "==> Working on Material :  silver\n",
      "==> Working on Material :  aluminium_frames\n",
      "==> Working on Material :  copper\n",
      "==> Working on Material :  encapsulant\n",
      "==> Working on Material :  backsheet\n",
      ">>>> Calculating Material Flows <<<<\n",
      "\n",
      "Working on Scenario:  circ_high\n",
      "********************\n",
      "Finished Area+Power Generation Calculations\n",
      "Warning: Paths 0 through 4 add to above 100%;Fixing by Updating Landfill value to the remainder of100-(P0+P2+P3+P4).\n",
      "Warning: Paths B 1 through 4 add to above 100%;Fixing by Updating Landfill value to the remainder of100-(P2+P3+P4).\n",
      "==> Working on Material :  glass\n",
      "Recycled surplus End of Sim for Mat  glass  Scenario  circ_high  =  2787030969.8975344  tonnes.\n",
      "==> Working on Material :  silicon\n",
      "Recycled surplus End of Sim for Mat  silicon  Scenario  circ_high  =  92130764.51066588  tonnes.\n",
      "==> Working on Material :  silver\n",
      "Recycled surplus End of Sim for Mat  silver  Scenario  circ_high  =  522204.79505684547  tonnes.\n",
      "==> Working on Material :  aluminium_frames\n",
      "Recycled surplus End of Sim for Mat  aluminium_frames  Scenario  circ_high  =  315960505.1026145  tonnes.\n",
      "==> Working on Material :  copper\n",
      "==> Working on Material :  encapsulant\n",
      "==> Working on Material :  backsheet\n",
      ">>>> Calculating Material Flows <<<<\n",
      "\n",
      "Working on Scenario:  circ_mid\n",
      "********************\n",
      "Finished Area+Power Generation Calculations\n",
      "Warning: Paths 0 through 4 add to above 100%;Fixing by Updating Landfill value to the remainder of100-(P0+P2+P3+P4).\n",
      "Warning: Paths B 1 through 4 add to above 100%;Fixing by Updating Landfill value to the remainder of100-(P2+P3+P4).\n",
      "==> Working on Material :  glass\n",
      "Recycled surplus End of Sim for Mat  glass  Scenario  circ_mid  =  418253471.1418514  tonnes.\n",
      "==> Working on Material :  silicon\n",
      "Recycled surplus End of Sim for Mat  silicon  Scenario  circ_mid  =  10423569.155712938  tonnes.\n",
      "==> Working on Material :  silver\n",
      "Recycled surplus End of Sim for Mat  silver  Scenario  circ_mid  =  65959.96369586585  tonnes.\n",
      "==> Working on Material :  aluminium_frames\n",
      "Recycled surplus End of Sim for Mat  aluminium_frames  Scenario  circ_mid  =  47346661.458926745  tonnes.\n",
      "==> Working on Material :  copper\n",
      "==> Working on Material :  encapsulant\n",
      "==> Working on Material :  backsheet\n",
      ">>>> Calculating Material Flows <<<<\n",
      "\n",
      "Working on Scenario:  circ_low\n",
      "********************\n",
      "Finished Area+Power Generation Calculations\n",
      "==> Working on Material :  glass\n",
      "==> Working on Material :  silicon\n",
      "==> Working on Material :  silver\n",
      "==> Working on Material :  aluminium_frames\n",
      "==> Working on Material :  copper\n",
      "==> Working on Material :  encapsulant\n",
      "==> Working on Material :  backsheet\n"
     ]
    }
   ],
   "source": [
    "#CALCULATE MASS FLOWs\n",
    "#13 scenarios, 7 mats = \n",
    "\n",
    "for scen in sim1.scenario.keys(): #loop over scenarios\n",
    "    sim1.calculateMassFlow(scenarios=[scen], bifacialityfactors=bifiPathDict[scen])"
   ]
  },
  {
   "cell_type": "code",
   "execution_count": 17,
   "id": "7ff0feec",
   "metadata": {
    "scrolled": true
   },
   "outputs": [],
   "source": [
    "#sim1.calculateMassFlow()"
   ]
  },
  {
   "cell_type": "code",
   "execution_count": 18,
   "id": "263974e8",
   "metadata": {},
   "outputs": [
    {
     "name": "stdout",
     "output_type": "stream",
     "text": [
      ":) Saved Input and Output Dataframes\n"
     ]
    }
   ],
   "source": [
    "ii_yearly, ii_cumu = sim1.aggregateResults() #have to do this to get auto plots\n",
    "sim1.saveSimulation(customname='_EnergySensitivity_identicalinstalls')"
   ]
  },
  {
   "cell_type": "code",
   "execution_count": 19,
   "id": "b1dda301",
   "metadata": {},
   "outputs": [
    {
     "data": {
      "text/plain": [
       "(0.0, 90.26425956655)"
      ]
     },
     "execution_count": 19,
     "metadata": {},
     "output_type": "execute_result"
    },
    {
     "data": {
      "image/png": "[encoded data removed]",
      "text/plain": [
       "<Figure size 640x480 with 1 Axes>"
      ]
     },
     "metadata": {},
     "output_type": "display_data"
    }
   ],
   "source": [
    "effective_capacity = ii_yearly.filter(like='ActiveCapacity')\n",
    "plt.plot(ii_cumu['newInstalledCapacity_sim1_PV_ICE_[MW]']/1e6, label='Capacity Target', color='black', ls='--')\n",
    "plt.plot(effective_capacity/1e6, label=sim1.scenario.keys())\n",
    "plt.legend()\n",
    "plt.ylabel('Effective Capacity [TW]')\n",
    "plt.title('Effective Capacity: No Replacements')\n",
    "plt.ylim(0,)"
   ]
  },
  {
   "cell_type": "code",
   "execution_count": 20,
   "id": "8aa459c7",
   "metadata": {},
   "outputs": [
    {
     "data": {
      "text/plain": [
       "Text(0.5, 1.0, 'Cumulative Installs with Replacements')"
      ]
     },
     "execution_count": 20,
     "metadata": {},
     "output_type": "execute_result"
    },
    {
     "data": {
      "image/png": "[encoded data removed]",
      "text/plain": [
       "<Figure size 640x480 with 1 Axes>"
      ]
     },
     "metadata": {},
     "output_type": "display_data"
    }
   ],
   "source": [
    "cumu_installs = ii_cumu.filter(like='newInstalled')\n",
    "total_installed = cumu_installs.loc[2100]\n",
    "total_installed.index= scennames_labels\n",
    "\n",
    "plt.bar(scennames_labels, total_installed/1e6)\n",
    "plt.xticks(rotation=45)\n",
    "plt.ylabel('Cumulative installed [TW]')\n",
    "plt.title('Cumulative Installs with Replacements')\n",
    "#plt.ylim(0,410)"
   ]
  },
  {
   "cell_type": "code",
   "execution_count": 21,
   "id": "48eea52d",
   "metadata": {},
   "outputs": [
    {
     "data": {
      "text/plain": [
       "Text(0, 0.5, 'Virgin Material Requirements\\n[billion tonnes]')"
      ]
     },
     "execution_count": 21,
     "metadata": {},
     "output_type": "execute_result"
    },
    {
     "data": {
      "image/png": "[encoded data removed]",
      "text/plain": [
       "<Figure size 640x480 with 1 Axes>"
      ]
     },
     "metadata": {},
     "output_type": "display_data"
    }
   ],
   "source": [
    "cumu_virgin_module = ii_cumu.filter(like='VirginStock_Module')\n",
    "virgin = cumu_virgin_module.loc[2100]\n",
    "virgin.index= scennames_labels\n",
    "\n",
    "plt.bar(scennames_labels, virgin/1e9)\n",
    "#plt.legend(scennames)\n",
    "plt.title('Cumulative Virgin Material Demands')\n",
    "plt.ylabel('Virgin Material Requirements\\n[billion tonnes]')\n",
    "#plt.xticks(rotation=90)"
   ]
  },
  {
   "cell_type": "code",
   "execution_count": null,
   "id": "be5cfdff",
   "metadata": {},
   "outputs": [],
   "source": []
  },
  {
   "cell_type": "code",
   "execution_count": 22,
   "id": "889daa6f",
   "metadata": {},
   "outputs": [
    {
     "data": {
      "text/html": [
       "<div>\n",
       "<style scoped>\n",
       "    .dataframe tbody tr th:only-of-type {\n",
       "        vertical-align: middle;\n",
       "    }\n",
       "\n",
       "    .dataframe tbody tr th {\n",
       "        vertical-align: top;\n",
       "    }\n",
       "\n",
       "    .dataframe thead th {\n",
       "        text-align: right;\n",
       "    }\n",
       "</style>\n",
       "<table border=\"1\" class=\"dataframe\">\n",
       "  <thead>\n",
       "    <tr style=\"text-align: right;\">\n",
       "      <th></th>\n",
       "      <th>year</th>\n",
       "      <th>new_Installed_Capacity_[MW]</th>\n",
       "      <th>mod_eff</th>\n",
       "      <th>mod_reliability_t50</th>\n",
       "      <th>mod_reliability_t90</th>\n",
       "      <th>mod_degradation</th>\n",
       "      <th>mod_lifetime</th>\n",
       "      <th>mod_MFG_eff</th>\n",
       "      <th>mod_Repair</th>\n",
       "      <th>mod_MerchantTail</th>\n",
       "      <th>...</th>\n",
       "      <th>mod_EOL_pg1_landfill</th>\n",
       "      <th>mod_EOL_pg2_stored</th>\n",
       "      <th>mod_EOL_pg3_reMFG</th>\n",
       "      <th>mod_EOL_pg4_recycled</th>\n",
       "      <th>mod_EOL_reMFG_yield</th>\n",
       "      <th>mod_EOL_sp_reMFG_recycle</th>\n",
       "      <th>mod_EOL_pb1_landfill</th>\n",
       "      <th>mod_EOL_pb2_stored</th>\n",
       "      <th>mod_EOL_pb3_reMFG</th>\n",
       "      <th>mod_EOL_pb4_recycled</th>\n",
       "    </tr>\n",
       "  </thead>\n",
       "  <tbody>\n",
       "    <tr>\n",
       "      <th>0</th>\n",
       "      <td>2000</td>\n",
       "      <td>808.669</td>\n",
       "      <td>13.420000</td>\n",
       "      <td>19.0</td>\n",
       "      <td>23.0</td>\n",
       "      <td>0.75</td>\n",
       "      <td>20.0</td>\n",
       "      <td>98.0</td>\n",
       "      <td>0.0</td>\n",
       "      <td>0.0</td>\n",
       "      <td>...</td>\n",
       "      <td>60.0</td>\n",
       "      <td>0.0</td>\n",
       "      <td>0.0</td>\n",
       "      <td>40.0</td>\n",
       "      <td>0.0</td>\n",
       "      <td>100.0</td>\n",
       "      <td>60.0</td>\n",
       "      <td>0.0</td>\n",
       "      <td>0.0</td>\n",
       "      <td>40.0</td>\n",
       "    </tr>\n",
       "    <tr>\n",
       "      <th>1</th>\n",
       "      <td>2001</td>\n",
       "      <td>284.317</td>\n",
       "      <td>13.600000</td>\n",
       "      <td>19.0</td>\n",
       "      <td>23.0</td>\n",
       "      <td>0.75</td>\n",
       "      <td>20.0</td>\n",
       "      <td>98.0</td>\n",
       "      <td>0.0</td>\n",
       "      <td>0.0</td>\n",
       "      <td>...</td>\n",
       "      <td>60.0</td>\n",
       "      <td>0.0</td>\n",
       "      <td>0.0</td>\n",
       "      <td>40.0</td>\n",
       "      <td>0.0</td>\n",
       "      <td>100.0</td>\n",
       "      <td>60.0</td>\n",
       "      <td>0.0</td>\n",
       "      <td>0.0</td>\n",
       "      <td>40.0</td>\n",
       "    </tr>\n",
       "    <tr>\n",
       "      <th>2</th>\n",
       "      <td>2002</td>\n",
       "      <td>344.073</td>\n",
       "      <td>13.722222</td>\n",
       "      <td>19.0</td>\n",
       "      <td>23.0</td>\n",
       "      <td>0.75</td>\n",
       "      <td>20.0</td>\n",
       "      <td>98.0</td>\n",
       "      <td>0.0</td>\n",
       "      <td>0.0</td>\n",
       "      <td>...</td>\n",
       "      <td>60.0</td>\n",
       "      <td>0.0</td>\n",
       "      <td>0.0</td>\n",
       "      <td>40.0</td>\n",
       "      <td>0.0</td>\n",
       "      <td>100.0</td>\n",
       "      <td>60.0</td>\n",
       "      <td>0.0</td>\n",
       "      <td>0.0</td>\n",
       "      <td>40.0</td>\n",
       "    </tr>\n",
       "    <tr>\n",
       "      <th>3</th>\n",
       "      <td>2003</td>\n",
       "      <td>527.971</td>\n",
       "      <td>13.844444</td>\n",
       "      <td>19.0</td>\n",
       "      <td>23.0</td>\n",
       "      <td>0.75</td>\n",
       "      <td>20.0</td>\n",
       "      <td>98.0</td>\n",
       "      <td>0.0</td>\n",
       "      <td>0.0</td>\n",
       "      <td>...</td>\n",
       "      <td>60.0</td>\n",
       "      <td>0.0</td>\n",
       "      <td>0.0</td>\n",
       "      <td>40.0</td>\n",
       "      <td>0.0</td>\n",
       "      <td>100.0</td>\n",
       "      <td>60.0</td>\n",
       "      <td>0.0</td>\n",
       "      <td>0.0</td>\n",
       "      <td>40.0</td>\n",
       "    </tr>\n",
       "    <tr>\n",
       "      <th>4</th>\n",
       "      <td>2004</td>\n",
       "      <td>1086.949</td>\n",
       "      <td>13.966667</td>\n",
       "      <td>19.0</td>\n",
       "      <td>23.0</td>\n",
       "      <td>0.75</td>\n",
       "      <td>20.0</td>\n",
       "      <td>98.0</td>\n",
       "      <td>0.0</td>\n",
       "      <td>0.0</td>\n",
       "      <td>...</td>\n",
       "      <td>60.0</td>\n",
       "      <td>0.0</td>\n",
       "      <td>0.0</td>\n",
       "      <td>40.0</td>\n",
       "      <td>0.0</td>\n",
       "      <td>100.0</td>\n",
       "      <td>60.0</td>\n",
       "      <td>0.0</td>\n",
       "      <td>0.0</td>\n",
       "      <td>40.0</td>\n",
       "    </tr>\n",
       "    <tr>\n",
       "      <th>...</th>\n",
       "      <td>...</td>\n",
       "      <td>...</td>\n",
       "      <td>...</td>\n",
       "      <td>...</td>\n",
       "      <td>...</td>\n",
       "      <td>...</td>\n",
       "      <td>...</td>\n",
       "      <td>...</td>\n",
       "      <td>...</td>\n",
       "      <td>...</td>\n",
       "      <td>...</td>\n",
       "      <td>...</td>\n",
       "      <td>...</td>\n",
       "      <td>...</td>\n",
       "      <td>...</td>\n",
       "      <td>...</td>\n",
       "      <td>...</td>\n",
       "      <td>...</td>\n",
       "      <td>...</td>\n",
       "      <td>...</td>\n",
       "      <td>...</td>\n",
       "    </tr>\n",
       "    <tr>\n",
       "      <th>96</th>\n",
       "      <td>2096</td>\n",
       "      <td>219320.000</td>\n",
       "      <td>30.001640</td>\n",
       "      <td>40.0</td>\n",
       "      <td>44.0</td>\n",
       "      <td>0.50</td>\n",
       "      <td>35.0</td>\n",
       "      <td>98.0</td>\n",
       "      <td>0.0</td>\n",
       "      <td>0.0</td>\n",
       "      <td>...</td>\n",
       "      <td>60.0</td>\n",
       "      <td>0.0</td>\n",
       "      <td>0.0</td>\n",
       "      <td>40.0</td>\n",
       "      <td>0.0</td>\n",
       "      <td>100.0</td>\n",
       "      <td>60.0</td>\n",
       "      <td>0.0</td>\n",
       "      <td>0.0</td>\n",
       "      <td>40.0</td>\n",
       "    </tr>\n",
       "    <tr>\n",
       "      <th>97</th>\n",
       "      <td>2097</td>\n",
       "      <td>219320.000</td>\n",
       "      <td>30.001640</td>\n",
       "      <td>40.0</td>\n",
       "      <td>44.0</td>\n",
       "      <td>0.50</td>\n",
       "      <td>35.0</td>\n",
       "      <td>98.0</td>\n",
       "      <td>0.0</td>\n",
       "      <td>0.0</td>\n",
       "      <td>...</td>\n",
       "      <td>60.0</td>\n",
       "      <td>0.0</td>\n",
       "      <td>0.0</td>\n",
       "      <td>40.0</td>\n",
       "      <td>0.0</td>\n",
       "      <td>100.0</td>\n",
       "      <td>60.0</td>\n",
       "      <td>0.0</td>\n",
       "      <td>0.0</td>\n",
       "      <td>40.0</td>\n",
       "    </tr>\n",
       "    <tr>\n",
       "      <th>98</th>\n",
       "      <td>2098</td>\n",
       "      <td>219320.000</td>\n",
       "      <td>30.001640</td>\n",
       "      <td>40.0</td>\n",
       "      <td>44.0</td>\n",
       "      <td>0.50</td>\n",
       "      <td>35.0</td>\n",
       "      <td>98.0</td>\n",
       "      <td>0.0</td>\n",
       "      <td>0.0</td>\n",
       "      <td>...</td>\n",
       "      <td>60.0</td>\n",
       "      <td>0.0</td>\n",
       "      <td>0.0</td>\n",
       "      <td>40.0</td>\n",
       "      <td>0.0</td>\n",
       "      <td>100.0</td>\n",
       "      <td>60.0</td>\n",
       "      <td>0.0</td>\n",
       "      <td>0.0</td>\n",
       "      <td>40.0</td>\n",
       "    </tr>\n",
       "    <tr>\n",
       "      <th>99</th>\n",
       "      <td>2099</td>\n",
       "      <td>219320.000</td>\n",
       "      <td>30.001640</td>\n",
       "      <td>40.0</td>\n",
       "      <td>44.0</td>\n",
       "      <td>0.50</td>\n",
       "      <td>35.0</td>\n",
       "      <td>98.0</td>\n",
       "      <td>0.0</td>\n",
       "      <td>0.0</td>\n",
       "      <td>...</td>\n",
       "      <td>60.0</td>\n",
       "      <td>0.0</td>\n",
       "      <td>0.0</td>\n",
       "      <td>40.0</td>\n",
       "      <td>0.0</td>\n",
       "      <td>100.0</td>\n",
       "      <td>60.0</td>\n",
       "      <td>0.0</td>\n",
       "      <td>0.0</td>\n",
       "      <td>40.0</td>\n",
       "    </tr>\n",
       "    <tr>\n",
       "      <th>100</th>\n",
       "      <td>2100</td>\n",
       "      <td>219320.000</td>\n",
       "      <td>30.001640</td>\n",
       "      <td>40.0</td>\n",
       "      <td>44.0</td>\n",
       "      <td>0.50</td>\n",
       "      <td>35.0</td>\n",
       "      <td>98.0</td>\n",
       "      <td>0.0</td>\n",
       "      <td>0.0</td>\n",
       "      <td>...</td>\n",
       "      <td>60.0</td>\n",
       "      <td>0.0</td>\n",
       "      <td>0.0</td>\n",
       "      <td>40.0</td>\n",
       "      <td>0.0</td>\n",
       "      <td>100.0</td>\n",
       "      <td>60.0</td>\n",
       "      <td>0.0</td>\n",
       "      <td>0.0</td>\n",
       "      <td>40.0</td>\n",
       "    </tr>\n",
       "  </tbody>\n",
       "</table>\n",
       "<p>101 rows × 22 columns</p>\n",
       "</div>"
      ],
      "text/plain": [
       "     year  new_Installed_Capacity_[MW]    mod_eff  mod_reliability_t50  \\\n",
       "0    2000                      808.669  13.420000                 19.0   \n",
       "1    2001                      284.317  13.600000                 19.0   \n",
       "2    2002                      344.073  13.722222                 19.0   \n",
       "3    2003                      527.971  13.844444                 19.0   \n",
       "4    2004                     1086.949  13.966667                 19.0   \n",
       "..    ...                          ...        ...                  ...   \n",
       "96   2096                   219320.000  30.001640                 40.0   \n",
       "97   2097                   219320.000  30.001640                 40.0   \n",
       "98   2098                   219320.000  30.001640                 40.0   \n",
       "99   2099                   219320.000  30.001640                 40.0   \n",
       "100  2100                   219320.000  30.001640                 40.0   \n",
       "\n",
       "     mod_reliability_t90  mod_degradation  mod_lifetime  mod_MFG_eff  \\\n",
       "0                   23.0             0.75          20.0         98.0   \n",
       "1                   23.0             0.75          20.0         98.0   \n",
       "2                   23.0             0.75          20.0         98.0   \n",
       "3                   23.0             0.75          20.0         98.0   \n",
       "4                   23.0             0.75          20.0         98.0   \n",
       "..                   ...              ...           ...          ...   \n",
       "96                  44.0             0.50          35.0         98.0   \n",
       "97                  44.0             0.50          35.0         98.0   \n",
       "98                  44.0             0.50          35.0         98.0   \n",
       "99                  44.0             0.50          35.0         98.0   \n",
       "100                 44.0             0.50          35.0         98.0   \n",
       "\n",
       "     mod_Repair  mod_MerchantTail  ...  mod_EOL_pg1_landfill  \\\n",
       "0           0.0               0.0  ...                  60.0   \n",
       "1           0.0               0.0  ...                  60.0   \n",
       "2           0.0               0.0  ...                  60.0   \n",
       "3           0.0               0.0  ...                  60.0   \n",
       "4           0.0               0.0  ...                  60.0   \n",
       "..          ...               ...  ...                   ...   \n",
       "96          0.0               0.0  ...                  60.0   \n",
       "97          0.0               0.0  ...                  60.0   \n",
       "98          0.0               0.0  ...                  60.0   \n",
       "99          0.0               0.0  ...                  60.0   \n",
       "100         0.0               0.0  ...                  60.0   \n",
       "\n",
       "     mod_EOL_pg2_stored  mod_EOL_pg3_reMFG  mod_EOL_pg4_recycled  \\\n",
       "0                   0.0                0.0                  40.0   \n",
       "1                   0.0                0.0                  40.0   \n",
       "2                   0.0                0.0                  40.0   \n",
       "3                   0.0                0.0                  40.0   \n",
       "4                   0.0                0.0                  40.0   \n",
       "..                  ...                ...                   ...   \n",
       "96                  0.0                0.0                  40.0   \n",
       "97                  0.0                0.0                  40.0   \n",
       "98                  0.0                0.0                  40.0   \n",
       "99                  0.0                0.0                  40.0   \n",
       "100                 0.0                0.0                  40.0   \n",
       "\n",
       "     mod_EOL_reMFG_yield  mod_EOL_sp_reMFG_recycle  mod_EOL_pb1_landfill  \\\n",
       "0                    0.0                     100.0                  60.0   \n",
       "1                    0.0                     100.0                  60.0   \n",
       "2                    0.0                     100.0                  60.0   \n",
       "3                    0.0                     100.0                  60.0   \n",
       "4                    0.0                     100.0                  60.0   \n",
       "..                   ...                       ...                   ...   \n",
       "96                   0.0                     100.0                  60.0   \n",
       "97                   0.0                     100.0                  60.0   \n",
       "98                   0.0                     100.0                  60.0   \n",
       "99                   0.0                     100.0                  60.0   \n",
       "100                  0.0                     100.0                  60.0   \n",
       "\n",
       "     mod_EOL_pb2_stored  mod_EOL_pb3_reMFG  mod_EOL_pb4_recycled  \n",
       "0                   0.0                0.0                  40.0  \n",
       "1                   0.0                0.0                  40.0  \n",
       "2                   0.0                0.0                  40.0  \n",
       "3                   0.0                0.0                  40.0  \n",
       "4                   0.0                0.0                  40.0  \n",
       "..                  ...                ...                   ...  \n",
       "96                  0.0                0.0                  40.0  \n",
       "97                  0.0                0.0                  40.0  \n",
       "98                  0.0                0.0                  40.0  \n",
       "99                  0.0                0.0                  40.0  \n",
       "100                 0.0                0.0                  40.0  \n",
       "\n",
       "[101 rows x 22 columns]"
      ]
     },
     "execution_count": 22,
     "metadata": {},
     "output_type": "execute_result"
    }
   ],
   "source": [
    "sim1.scenario['eff_high'].dataIn_m"
   ]
  },
  {
   "cell_type": "code",
   "execution_count": 23,
   "id": "24491d0b",
   "metadata": {},
   "outputs": [
    {
     "data": {
      "text/plain": [
       "<matplotlib.legend.Legend at 0x20a7c81b5b0>"
      ]
     },
     "execution_count": 23,
     "metadata": {},
     "output_type": "execute_result"
    },
    {
     "data": {
      "image/png": "[encoded data removed]",
      "text/plain": [
       "<Figure size 640x480 with 1 Axes>"
      ]
     },
     "metadata": {},
     "output_type": "display_data"
    }
   ],
   "source": [
    "#plt.plot(sim1.scenario['eff_high'].dataOut_m['Yearly_Sum_Area_PathsBad'])\n",
    "#plt.plot(sim1.scenario['eff_high'].dataOut_m['Cumulative_Active_Area'])\n",
    "plt.plot(sim1.scenario['eff_high'].dataOut_m['Area']/1e10, label='eff_high')\n",
    "\n",
    "#plt.plot(sim1.scenario['eff_high_bifi'].dataOut_m['Yearly_Sum_Area_PathsBad'])\n",
    "#plt.plot(sim1.scenario['eff_high_bifi'].dataOut_m['Cumulative_Active_Area'])\n",
    "plt.plot(sim1.scenario['eff_high_bifi'].dataOut_m['Area']/1e10, label='eff_high_bifi')\n",
    "\n",
    "plt.plot(sim1.scenario['PV_ICE'].dataOut_m['Area']/1e10, label='PVICE')\n",
    "\n",
    "\n",
    "plt.plot(sim1.scenario['eff_high_bifi'].dataIn_m['new_Installed_Capacity_[MW]']/1e6, label='eff_high_bifi_installs')\n",
    "plt.plot(sim1.scenario['PV_ICE'].dataIn_m['new_Installed_Capacity_[MW]']/1e6, label='PVICE_installs')\n",
    "plt.legend()"
   ]
  },
  {
   "cell_type": "markdown",
   "id": "e1ad68d8",
   "metadata": {},
   "source": [
    "## Calculate Flows: Capacity Compensation"
   ]
  },
  {
   "cell_type": "code",
   "execution_count": null,
   "id": "af587d72",
   "metadata": {},
   "outputs": [
    {
     "name": "stdout",
     "output_type": "stream",
     "text": [
      "0\n",
      "PV_ICE\n",
      ">>>> Calculating Material Flows <<<<\n",
      "\n",
      "Working on Scenario:  PV_ICE\n",
      "********************\n"
     ]
    },
    {
     "name": "stderr",
     "output_type": "stream",
     "text": [
      "C:\\Users\\hmirletz\\AppData\\Local\\Temp\\1\\ipykernel_16012\\1835082948.py:9: SettingWithCopyWarning: \n",
      "A value is trying to be set on a copy of a slice from a DataFrame\n",
      "\n",
      "See the caveats in the documentation: https://pandas.pydata.org/pandas-docs/stable/user_guide/indexing.html#returning-a-view-versus-a-copy\n",
      "  sim1.scenario[scen].dataIn_m['new_Installed_Capacity_[MW]'][row] += Under_Installment #overwrite new installed\n"
     ]
    },
    {
     "name": "stdout",
     "output_type": "stream",
     "text": [
      "Finished Area+Power Generation Calculations\n",
      "==> Working on Material :  glass\n",
      "==> Working on Material :  silicon\n",
      "==> Working on Material :  silver\n",
      "==> Working on Material :  aluminium_frames\n",
      "==> Working on Material :  copper\n",
      "==> Working on Material :  encapsulant\n",
      "==> Working on Material :  backsheet\n",
      "life_high\n",
      ">>>> Calculating Material Flows <<<<\n",
      "\n",
      "Working on Scenario:  life_high\n",
      "********************\n"
     ]
    },
    {
     "name": "stderr",
     "output_type": "stream",
     "text": [
      "C:\\Users\\hmirletz\\AppData\\Local\\Temp\\1\\ipykernel_16012\\1835082948.py:9: SettingWithCopyWarning: \n",
      "A value is trying to be set on a copy of a slice from a DataFrame\n",
      "\n",
      "See the caveats in the documentation: https://pandas.pydata.org/pandas-docs/stable/user_guide/indexing.html#returning-a-view-versus-a-copy\n",
      "  sim1.scenario[scen].dataIn_m['new_Installed_Capacity_[MW]'][row] += Under_Installment #overwrite new installed\n"
     ]
    },
    {
     "name": "stdout",
     "output_type": "stream",
     "text": [
      "Finished Area+Power Generation Calculations\n",
      "==> Working on Material :  glass\n",
      "==> Working on Material :  silicon\n",
      "==> Working on Material :  silver\n",
      "==> Working on Material :  aluminium_frames\n",
      "==> Working on Material :  copper\n",
      "==> Working on Material :  encapsulant\n",
      "==> Working on Material :  backsheet\n",
      "life_low\n",
      ">>>> Calculating Material Flows <<<<\n",
      "\n",
      "Working on Scenario:  life_low\n",
      "********************\n"
     ]
    },
    {
     "name": "stderr",
     "output_type": "stream",
     "text": [
      "C:\\Users\\hmirletz\\AppData\\Local\\Temp\\1\\ipykernel_16012\\1835082948.py:9: SettingWithCopyWarning: \n",
      "A value is trying to be set on a copy of a slice from a DataFrame\n",
      "\n",
      "See the caveats in the documentation: https://pandas.pydata.org/pandas-docs/stable/user_guide/indexing.html#returning-a-view-versus-a-copy\n",
      "  sim1.scenario[scen].dataIn_m['new_Installed_Capacity_[MW]'][row] += Under_Installment #overwrite new installed\n"
     ]
    },
    {
     "name": "stdout",
     "output_type": "stream",
     "text": [
      "Finished Area+Power Generation Calculations\n",
      "==> Working on Material :  glass\n",
      "==> Working on Material :  silicon\n",
      "==> Working on Material :  silver\n",
      "==> Working on Material :  aluminium_frames\n",
      "==> Working on Material :  copper\n",
      "==> Working on Material :  encapsulant\n",
      "==> Working on Material :  backsheet\n",
      "eff_high\n",
      ">>>> Calculating Material Flows <<<<\n",
      "\n",
      "Working on Scenario:  eff_high\n",
      "********************\n"
     ]
    },
    {
     "name": "stderr",
     "output_type": "stream",
     "text": [
      "C:\\Users\\hmirletz\\AppData\\Local\\Temp\\1\\ipykernel_16012\\1835082948.py:9: SettingWithCopyWarning: \n",
      "A value is trying to be set on a copy of a slice from a DataFrame\n",
      "\n",
      "See the caveats in the documentation: https://pandas.pydata.org/pandas-docs/stable/user_guide/indexing.html#returning-a-view-versus-a-copy\n",
      "  sim1.scenario[scen].dataIn_m['new_Installed_Capacity_[MW]'][row] += Under_Installment #overwrite new installed\n"
     ]
    },
    {
     "name": "stdout",
     "output_type": "stream",
     "text": [
      "Finished Area+Power Generation Calculations\n",
      "==> Working on Material :  glass\n",
      "==> Working on Material :  silicon\n",
      "==> Working on Material :  silver\n",
      "==> Working on Material :  aluminium_frames\n",
      "==> Working on Material :  copper\n",
      "==> Working on Material :  encapsulant\n",
      "==> Working on Material :  backsheet\n",
      "eff_high_bifi\n",
      ">>>> Calculating Material Flows <<<<\n",
      "\n",
      "Working on Scenario:  eff_high_bifi\n",
      "********************\n"
     ]
    },
    {
     "name": "stderr",
     "output_type": "stream",
     "text": [
      "C:\\Users\\hmirletz\\AppData\\Local\\Temp\\1\\ipykernel_16012\\1835082948.py:9: SettingWithCopyWarning: \n",
      "A value is trying to be set on a copy of a slice from a DataFrame\n",
      "\n",
      "See the caveats in the documentation: https://pandas.pydata.org/pandas-docs/stable/user_guide/indexing.html#returning-a-view-versus-a-copy\n",
      "  sim1.scenario[scen].dataIn_m['new_Installed_Capacity_[MW]'][row] += Under_Installment #overwrite new installed\n"
     ]
    },
    {
     "name": "stdout",
     "output_type": "stream",
     "text": [
      "Finished Area+Power Generation Calculations\n",
      "==> Working on Material :  glass\n",
      "==> Working on Material :  silicon\n",
      "==> Working on Material :  silver\n",
      "==> Working on Material :  aluminium_frames\n",
      "==> Working on Material :  copper\n",
      "==> Working on Material :  encapsulant\n",
      "==> Working on Material :  backsheet\n",
      "eff_low\n",
      ">>>> Calculating Material Flows <<<<\n",
      "\n",
      "Working on Scenario:  eff_low\n",
      "********************\n"
     ]
    },
    {
     "name": "stderr",
     "output_type": "stream",
     "text": [
      "C:\\Users\\hmirletz\\AppData\\Local\\Temp\\1\\ipykernel_16012\\1835082948.py:9: SettingWithCopyWarning: \n",
      "A value is trying to be set on a copy of a slice from a DataFrame\n",
      "\n",
      "See the caveats in the documentation: https://pandas.pydata.org/pandas-docs/stable/user_guide/indexing.html#returning-a-view-versus-a-copy\n",
      "  sim1.scenario[scen].dataIn_m['new_Installed_Capacity_[MW]'][row] += Under_Installment #overwrite new installed\n"
     ]
    },
    {
     "name": "stdout",
     "output_type": "stream",
     "text": [
      "Finished Area+Power Generation Calculations\n",
      "==> Working on Material :  glass\n",
      "==> Working on Material :  silicon\n",
      "==> Working on Material :  silver\n",
      "==> Working on Material :  aluminium_frames\n",
      "==> Working on Material :  copper\n",
      "==> Working on Material :  encapsulant\n",
      "==> Working on Material :  backsheet\n",
      "circ_high\n",
      ">>>> Calculating Material Flows <<<<\n",
      "\n",
      "Working on Scenario:  circ_high\n",
      "********************\n"
     ]
    },
    {
     "name": "stderr",
     "output_type": "stream",
     "text": [
      "C:\\Users\\hmirletz\\AppData\\Local\\Temp\\1\\ipykernel_16012\\1835082948.py:9: SettingWithCopyWarning: \n",
      "A value is trying to be set on a copy of a slice from a DataFrame\n",
      "\n",
      "See the caveats in the documentation: https://pandas.pydata.org/pandas-docs/stable/user_guide/indexing.html#returning-a-view-versus-a-copy\n",
      "  sim1.scenario[scen].dataIn_m['new_Installed_Capacity_[MW]'][row] += Under_Installment #overwrite new installed\n"
     ]
    },
    {
     "name": "stdout",
     "output_type": "stream",
     "text": [
      "Finished Area+Power Generation Calculations\n",
      "Warning: Paths 0 through 4 add to above 100%;Fixing by Updating Landfill value to the remainder of100-(P0+P2+P3+P4).\n",
      "Warning: Paths B 1 through 4 add to above 100%;Fixing by Updating Landfill value to the remainder of100-(P2+P3+P4).\n",
      "==> Working on Material :  glass\n",
      "Recycled surplus End of Sim for Mat  glass  Scenario  circ_high  =  2787030969.8975344  tonnes.\n",
      "==> Working on Material :  silicon\n",
      "Recycled surplus End of Sim for Mat  silicon  Scenario  circ_high  =  92130764.51066588  tonnes.\n",
      "==> Working on Material :  silver\n",
      "Recycled surplus End of Sim for Mat  silver  Scenario  circ_high  =  522204.79505684547  tonnes.\n",
      "==> Working on Material :  aluminium_frames\n",
      "Recycled surplus End of Sim for Mat  aluminium_frames  Scenario  circ_high  =  315960505.1026145  tonnes.\n",
      "==> Working on Material :  copper\n",
      "==> Working on Material :  encapsulant\n",
      "==> Working on Material :  backsheet\n",
      "circ_mid\n",
      ">>>> Calculating Material Flows <<<<\n",
      "\n",
      "Working on Scenario:  circ_mid\n",
      "********************\n"
     ]
    },
    {
     "name": "stderr",
     "output_type": "stream",
     "text": [
      "C:\\Users\\hmirletz\\AppData\\Local\\Temp\\1\\ipykernel_16012\\1835082948.py:9: SettingWithCopyWarning: \n",
      "A value is trying to be set on a copy of a slice from a DataFrame\n",
      "\n",
      "See the caveats in the documentation: https://pandas.pydata.org/pandas-docs/stable/user_guide/indexing.html#returning-a-view-versus-a-copy\n",
      "  sim1.scenario[scen].dataIn_m['new_Installed_Capacity_[MW]'][row] += Under_Installment #overwrite new installed\n"
     ]
    },
    {
     "name": "stdout",
     "output_type": "stream",
     "text": [
      "Finished Area+Power Generation Calculations\n",
      "Warning: Paths 0 through 4 add to above 100%;Fixing by Updating Landfill value to the remainder of100-(P0+P2+P3+P4).\n",
      "Warning: Paths B 1 through 4 add to above 100%;Fixing by Updating Landfill value to the remainder of100-(P2+P3+P4).\n",
      "==> Working on Material :  glass\n",
      "Recycled surplus End of Sim for Mat  glass  Scenario  circ_mid  =  418253471.1418514  tonnes.\n",
      "==> Working on Material :  silicon\n",
      "Recycled surplus End of Sim for Mat  silicon  Scenario  circ_mid  =  10423569.155712938  tonnes.\n",
      "==> Working on Material :  silver\n",
      "Recycled surplus End of Sim for Mat  silver  Scenario  circ_mid  =  65959.96369586585  tonnes.\n",
      "==> Working on Material :  aluminium_frames\n",
      "Recycled surplus End of Sim for Mat  aluminium_frames  Scenario  circ_mid  =  47346661.458926745  tonnes.\n",
      "==> Working on Material :  copper\n",
      "==> Working on Material :  encapsulant\n",
      "==> Working on Material :  backsheet\n",
      "circ_low\n",
      ">>>> Calculating Material Flows <<<<\n",
      "\n",
      "Working on Scenario:  circ_low\n",
      "********************\n"
     ]
    },
    {
     "name": "stderr",
     "output_type": "stream",
     "text": [
      "C:\\Users\\hmirletz\\AppData\\Local\\Temp\\1\\ipykernel_16012\\1835082948.py:9: SettingWithCopyWarning: \n",
      "A value is trying to be set on a copy of a slice from a DataFrame\n",
      "\n",
      "See the caveats in the documentation: https://pandas.pydata.org/pandas-docs/stable/user_guide/indexing.html#returning-a-view-versus-a-copy\n",
      "  sim1.scenario[scen].dataIn_m['new_Installed_Capacity_[MW]'][row] += Under_Installment #overwrite new installed\n"
     ]
    },
    {
     "name": "stdout",
     "output_type": "stream",
     "text": [
      "Finished Area+Power Generation Calculations\n",
      "==> Working on Material :  glass\n",
      "==> Working on Material :  silicon\n",
      "==> Working on Material :  silver\n",
      "==> Working on Material :  aluminium_frames\n",
      "==> Working on Material :  copper\n",
      "==> Working on Material :  encapsulant\n",
      "==> Working on Material :  backsheet\n",
      "1\n",
      "PV_ICE\n",
      ">>>> Calculating Material Flows <<<<\n",
      "\n",
      "Working on Scenario:  PV_ICE\n",
      "********************\n"
     ]
    },
    {
     "name": "stderr",
     "output_type": "stream",
     "text": [
      "C:\\Users\\hmirletz\\AppData\\Local\\Temp\\1\\ipykernel_16012\\1835082948.py:9: SettingWithCopyWarning: \n",
      "A value is trying to be set on a copy of a slice from a DataFrame\n",
      "\n",
      "See the caveats in the documentation: https://pandas.pydata.org/pandas-docs/stable/user_guide/indexing.html#returning-a-view-versus-a-copy\n",
      "  sim1.scenario[scen].dataIn_m['new_Installed_Capacity_[MW]'][row] += Under_Installment #overwrite new installed\n"
     ]
    },
    {
     "name": "stdout",
     "output_type": "stream",
     "text": [
      "Finished Area+Power Generation Calculations\n",
      "==> Working on Material :  glass\n",
      "==> Working on Material :  silicon\n",
      "==> Working on Material :  silver\n",
      "==> Working on Material :  aluminium_frames\n",
      "==> Working on Material :  copper\n",
      "==> Working on Material :  encapsulant\n",
      "==> Working on Material :  backsheet\n",
      "life_high\n",
      ">>>> Calculating Material Flows <<<<\n",
      "\n",
      "Working on Scenario:  life_high\n",
      "********************\n"
     ]
    },
    {
     "name": "stderr",
     "output_type": "stream",
     "text": [
      "C:\\Users\\hmirletz\\AppData\\Local\\Temp\\1\\ipykernel_16012\\1835082948.py:9: SettingWithCopyWarning: \n",
      "A value is trying to be set on a copy of a slice from a DataFrame\n",
      "\n",
      "See the caveats in the documentation: https://pandas.pydata.org/pandas-docs/stable/user_guide/indexing.html#returning-a-view-versus-a-copy\n",
      "  sim1.scenario[scen].dataIn_m['new_Installed_Capacity_[MW]'][row] += Under_Installment #overwrite new installed\n"
     ]
    },
    {
     "name": "stdout",
     "output_type": "stream",
     "text": [
      "Finished Area+Power Generation Calculations\n",
      "==> Working on Material :  glass\n",
      "==> Working on Material :  silicon\n",
      "==> Working on Material :  silver\n",
      "==> Working on Material :  aluminium_frames\n",
      "==> Working on Material :  copper\n",
      "==> Working on Material :  encapsulant\n",
      "==> Working on Material :  backsheet\n",
      "life_low\n",
      ">>>> Calculating Material Flows <<<<\n",
      "\n",
      "Working on Scenario:  life_low\n",
      "********************\n"
     ]
    },
    {
     "name": "stderr",
     "output_type": "stream",
     "text": [
      "C:\\Users\\hmirletz\\AppData\\Local\\Temp\\1\\ipykernel_16012\\1835082948.py:9: SettingWithCopyWarning: \n",
      "A value is trying to be set on a copy of a slice from a DataFrame\n",
      "\n",
      "See the caveats in the documentation: https://pandas.pydata.org/pandas-docs/stable/user_guide/indexing.html#returning-a-view-versus-a-copy\n",
      "  sim1.scenario[scen].dataIn_m['new_Installed_Capacity_[MW]'][row] += Under_Installment #overwrite new installed\n"
     ]
    },
    {
     "name": "stdout",
     "output_type": "stream",
     "text": [
      "Finished Area+Power Generation Calculations\n",
      "==> Working on Material :  glass\n",
      "==> Working on Material :  silicon\n",
      "==> Working on Material :  silver\n",
      "==> Working on Material :  aluminium_frames\n",
      "==> Working on Material :  copper\n",
      "==> Working on Material :  encapsulant\n",
      "==> Working on Material :  backsheet\n",
      "eff_high\n",
      ">>>> Calculating Material Flows <<<<\n",
      "\n",
      "Working on Scenario:  eff_high\n",
      "********************\n"
     ]
    },
    {
     "name": "stderr",
     "output_type": "stream",
     "text": [
      "C:\\Users\\hmirletz\\AppData\\Local\\Temp\\1\\ipykernel_16012\\1835082948.py:9: SettingWithCopyWarning: \n",
      "A value is trying to be set on a copy of a slice from a DataFrame\n",
      "\n",
      "See the caveats in the documentation: https://pandas.pydata.org/pandas-docs/stable/user_guide/indexing.html#returning-a-view-versus-a-copy\n",
      "  sim1.scenario[scen].dataIn_m['new_Installed_Capacity_[MW]'][row] += Under_Installment #overwrite new installed\n"
     ]
    }
   ],
   "source": [
    "UnderInstall_df = pd.DataFrame()\n",
    "\n",
    "\n",
    "for row in range (0,len(sim1.scenario['PV_ICE'].dataIn_m)): #loop over length of years\n",
    "    print(row)\n",
    "    for scen in sim1.scenario.keys(): #loop over scenarios\n",
    "        print(scen)\n",
    "        Under_Installment = global_projection.iloc[row,0] - ((sim1.scenario[scen].dataOut_m['Effective_Capacity_[W]'][row])/1e6)  # MWATTS\n",
    "        sim1.scenario[scen].dataIn_m['new_Installed_Capacity_[MW]'][row] += Under_Installment #overwrite new installed\n",
    "        UnderInstall_df.loc[row,scen] = Under_Installment #save the underinstallment as df\n",
    "        #calculate flows for that scenario with it's bifi factor and modified weibull\n",
    "        sim1.calculateMassFlow(scenarios=[scen], bifacialityfactors=bifiPathDict[scen])\n",
    "\n",
    "sim1.calculateEnergyFlow()"
   ]
  },
  {
   "cell_type": "code",
   "execution_count": null,
   "id": "d4841da3",
   "metadata": {
    "scrolled": true
   },
   "outputs": [],
   "source": [
    "sim1.saveSimulation(customname='_EnergySensitivity_withreplacements')\n",
    "\n",
    "#aggregate results - mass\n",
    "cc_yearly, cc_cumu = sim1.aggregateResults() #have to do this to get auto plots\n",
    "cc_yearly.to_csv(os.path.join(testfolder, 'cc_sensitivity_3aspect_yearly.csv'))\n",
    "cc_cumu.to_csv(os.path.join(testfolder, 'cc_sensitivity_3aspect_cumu.csv'))\n",
    "\n",
    "#aggregate results - energy\n",
    "allenergy, energyGen, energy_demands = sim1.aggregateEnergyResults()\n",
    "allenergy.to_csv(os.path.join(testfolder, 'cc_sensitivity_3aspect_allenergy.csv'))\n",
    "energyGen.to_csv(os.path.join(testfolder, 'cc_sensitivity_3aspect_energyGen.csv'))\n",
    "energy_demands.to_csv(os.path.join(testfolder, 'cc_sensitivity_3aspect_energy_demands.csv'))\n",
    "\n",
    "UnderInstall_df.to_csv(os.path.join(testfolder, 'cc_sensitivity_3aspect_underInstalls.csv'))"
   ]
  },
  {
   "cell_type": "code",
   "execution_count": null,
   "id": "ff392ba1",
   "metadata": {},
   "outputs": [],
   "source": [
    "cc_yearly = pd.read_csv(os.path.join(testfolder, 'cc_sensitivity_3aspect_yearly.csv'), index_col='year')\n",
    "cc_cumu = pd.read_csv(os.path.join(testfolder, 'cc_sensitivity_3aspect_cumu.csv'), index_col='year')\n",
    "\n",
    "allenergy=pd.read_csv(os.path.join(testfolder, 'cc_sensitivity_3aspect_allenergy.csv'), index_col='year')\n",
    "energyGen=pd.read_csv(os.path.join(testfolder, 'cc_sensitivity_3aspect_energyGen.csv'), index_col='year')\n",
    "energy_demands=pd.read_csv(os.path.join(testfolder, 'cc_sensitivity_3aspect_energy_demands.csv'), index_col='year')"
   ]
  },
  {
   "cell_type": "code",
   "execution_count": null,
   "id": "497e9ac0",
   "metadata": {},
   "outputs": [],
   "source": [
    "scennames_labels = ['PV_ICE', 'life_high', 'life_low', 'eff_high', 'eff_high_bifi', 'eff_low', 'circ_high', 'circ_mid', 'circ_low']"
   ]
  },
  {
   "cell_type": "code",
   "execution_count": null,
   "id": "307afc5e",
   "metadata": {},
   "outputs": [],
   "source": [
    "cumu_installs = cc_cumu.filter(like='newInstalled')\n",
    "total_installed = cumu_installs.loc[2100]\n",
    "total_installed.index= scennames_labels\n",
    "\n",
    "plt.bar(scennames_labels, total_installed/1e6)\n",
    "plt.xticks(rotation=45)\n",
    "plt.ylabel('Cumulative installed [TW]')\n",
    "plt.title('Cumulative Installs with Replacements')\n",
    "#plt.ylim(0,410)"
   ]
  },
  {
   "cell_type": "code",
   "execution_count": null,
   "id": "b0065b55",
   "metadata": {},
   "outputs": [],
   "source": [
    "cumu_area_deployed = pd.DataFrame()\n",
    "\n",
    "for scen in sim1.scenario.keys():\n",
    "    area_deploy = sim1.scenario[scen].dataOut_m['Area'].cumsum()\n",
    "    cumu_area_deployed = pd.concat([cumu_area_deployed,area_deploy], axis=1)\n",
    "    \n",
    "cumu_area_deployed.columns = sim1.scenario.keys()\n",
    "cumu_area_deployed_total = cumu_area_deployed.iloc[-1,:]\n",
    "#cumu_area_deployed\n",
    "\n",
    "plt.bar(scennames_labels, cumu_area_deployed.iloc[-1,:]/1e12)\n",
    "plt.xticks(rotation=45)\n",
    "plt.ylabel('Cumulative installed Area [m2 1e12]')\n",
    "plt.title('Cumulative Area Deployed with Replacements')\n",
    "#plt.ylim(0,410)"
   ]
  },
  {
   "cell_type": "code",
   "execution_count": null,
   "id": "f2bde620",
   "metadata": {},
   "outputs": [],
   "source": [
    "cumu_virgin_module = cc_cumu.filter(like='VirginStock_Module')\n",
    "virgin = cumu_virgin_module.loc[2100]\n",
    "virgin.index= scennames_labels\n",
    "\n",
    "plt.bar(scennames_labels, virgin/1e9)\n",
    "#plt.legend(scennames)\n",
    "plt.title('Cumulative Virgin Material Demands')\n",
    "plt.ylabel('Virgin Material Requirements\\n[billion tonnes]')\n",
    "#plt.xticks(rotation=90)"
   ]
  },
  {
   "cell_type": "code",
   "execution_count": null,
   "id": "daf55892",
   "metadata": {},
   "outputs": [],
   "source": [
    "cumu_lifecycle_wastes = cc_cumu.filter(like='WasteAll_Module')\n",
    "wastes = cumu_lifecycle_wastes.loc[2100]\n",
    "wastes.index= scennames_labels\n",
    "\n",
    "plt.bar(scennames_labels, wastes/1e9)\n",
    "#plt.legend(scennames)\n",
    "plt.title('Cumulative Lifecycle Wastes')\n",
    "plt.ylabel('Lifecycle Wastes\\n[billion tonnes]')"
   ]
  },
  {
   "cell_type": "code",
   "execution_count": null,
   "id": "f94c26b1",
   "metadata": {},
   "outputs": [],
   "source": [
    "e_annual_sumDemands = energy_demands.filter(like='demand_total')\n",
    "e_annual_sumDemands_cumu = e_annual_sumDemands.cumsum()\n",
    "cumu_e_demands = e_annual_sumDemands_cumu.loc[2100]\n",
    "cumu_e_demands.index= scennames_labels\n",
    "\n",
    "plt.bar(scennames_labels, cumu_e_demands/1e12)\n",
    "plt.title('Cumulative Lifecycle Energy Demands')\n",
    "plt.ylabel('Cumulative Energy Demands\\n[TWh]')"
   ]
  },
  {
   "cell_type": "code",
   "execution_count": null,
   "id": "75394c9c",
   "metadata": {},
   "outputs": [],
   "source": [
    "e_demands_eff_high = energy_demands.filter(like='eff_high')\n",
    "e_demands_eff_high_cumu = e_demands_eff_high.cumsum()\n",
    "\n",
    "e_demands_eff_high_cumu\n",
    "\n",
    "#plt.bar(e_demands_eff_high_cumu.columns, e_demands_eff_high_cumu.iloc[-1,:])"
   ]
  },
  {
   "cell_type": "code",
   "execution_count": null,
   "id": "fa413bdf",
   "metadata": {},
   "outputs": [],
   "source": [
    "energyGen_cumu = energyGen.cumsum()\n",
    "energyGen_cumu.columns = e_annual_sumDemands_cumu.columns = scennames_labels\n",
    "netEnergy_cumu = energyGen_cumu.loc[[2100]] - e_annual_sumDemands_cumu.loc[[2100]]\n",
    "#netEnergy_cumu.index= scennames_labels\n",
    "\n",
    "plt.bar(scennames_labels, netEnergy_cumu.loc[2100]/1e12)\n",
    "plt.title('Net Energy Cumulatively')\n",
    "plt.ylabel('Cumulative Net Energy [TWh]')"
   ]
  },
  {
   "cell_type": "code",
   "execution_count": null,
   "id": "9ce1d88c",
   "metadata": {},
   "outputs": [],
   "source": [
    "netEnergy_cumu_norm = netEnergy_cumu/netEnergy_cumu.loc[2100,'PV_ICE']\n",
    "netEnergy_cumu_norm_waterfall = netEnergy_cumu_norm-1\n",
    "\n",
    "plt.bar(scennames_labels, netEnergy_cumu_norm_waterfall.loc[2100])\n",
    "plt.title('Net Energy Cumulatively Relative to PV ICE')\n",
    "plt.ylabel('Relative Cumulative Net Energy')\n",
    "#plt.ylim(-0.026,0.005)\n",
    "plt.plot(0.0, lw=2)\n",
    "plt.xticks(rotation=90)"
   ]
  },
  {
   "cell_type": "code",
   "execution_count": null,
   "id": "4672e91b",
   "metadata": {},
   "outputs": [],
   "source": [
    "energyBalance_allyears = energyGen_cumu/e_annual_sumDemands_cumu\n",
    "energyBalance = energyBalance_allyears.loc[2100]\n",
    "energyBalance.index = scennames_labels\n",
    "\n",
    "plt.bar(scennames_labels, energyBalance)\n",
    "plt.title('Energy Balance')\n",
    "plt.ylabel('Unitless')"
   ]
  },
  {
   "cell_type": "code",
   "execution_count": null,
   "id": "e66d4e4f",
   "metadata": {},
   "outputs": [],
   "source": [
    "discussTable = pd.concat([total_installed,cumu_area_deployed_total,virgin,wastes,\n",
    "                          cumu_e_demands, netEnergy_cumu.loc[2100].T, energyBalance],\n",
    "                         axis=1, keys=['replacements','area','virgin','wastes','energydemand','netenergy','energybalance'])\n",
    "#discussTable.to_csv(os.path.join(testfolder,'discussiontable.csv'))\n",
    "discussTable"
   ]
  },
  {
   "cell_type": "code",
   "execution_count": null,
   "id": "a265ae5e",
   "metadata": {},
   "outputs": [],
   "source": [
    "discussTable = pd.concat([total_installed,virgin,wastes,\n",
    "                          cumu_e_demands, netEnergy_cumu.loc[2100].T, energyBalance],\n",
    "                         axis=1, keys=['replacements','virgin','wastes','energydemand','netenergy','energybalance'])\n",
    "#discussTable.to_csv(os.path.join(testfolder,'discussiontable.csv'))\n",
    "discussTable"
   ]
  },
  {
   "cell_type": "code",
   "execution_count": null,
   "id": "350e7ab0",
   "metadata": {},
   "outputs": [],
   "source": [
    "discussTable_norm = (discussTable/discussTable.loc['PV_ICE'])*100-100\n",
    "discussTable_norm"
   ]
  },
  {
   "cell_type": "code",
   "execution_count": null,
   "id": "13dbb691",
   "metadata": {
    "scrolled": false
   },
   "outputs": [],
   "source": [
    "sense_table = discussTable_norm.T.drop(columns=['PV_ICE'])\n",
    "sense_table.loc[['replacements','virgin','wastes','energydemand'],:]*=-1\n",
    "\n",
    "colors=['#0579C1','#9DC3E6', #life_high, life_low \n",
    "        '#FF0000', '#C00000','#FF9B9B',#eff_high, eff_high_bifi, eff_low\n",
    "        '#CC9B00','#FFC000','#FFE699'#circular_high, circ_mid, circ_low\n",
    "            ] \n",
    "\n",
    "metric_labels = ['Total\\nDeployment','Virgin\\nMaterial\\nDemands','Lifecycle\\nWastes',\n",
    "                 'Energy\\nDemands','Net\\nEnergy','Energy\\nBalance']\n",
    "\n",
    "sens_scenarios = ['Life+10 years','Life-10 years',\n",
    "                  'Efficiency+5%','Efficiency+5% & 0.9','Efficiency-5%',\n",
    "                  'Recycling 100%','Recycling 25%','Recycling 0%']\n",
    "\n",
    "plt.rcParams.update({'font.size': 14})\n",
    "\n",
    "sensitivitybars, ax = plt.subplots(figsize=(8,5))\n",
    "\n",
    "x=np.arange(len(metric_labels)) #label locations\n",
    "bwidth = 0.25 # bar width\n",
    "\n",
    "#lifes = ax.bar(x, sense_table.iloc[:,0:1], color=colors[0:1], label=sens_scenarios[0:1],\n",
    "#              width=bwidth)\n",
    "\n",
    "#effs = ax.bar(x+bwidth, sense_table.iloc[:,2:5], color=colors[2:5], label=sens_scenarios[2:5],\n",
    "#              width=bwidth)\n",
    "\n",
    "#circs = ax.bar(x+2*bwidth, sense_table.iloc[:,5:], color=colors[5:], label=sens_scenarios[5:],\n",
    "#              width=bwidth)\n",
    "\n",
    "ax.axhline(0, lw=1, color='black')\n",
    "ax.grid(axis='y', color='0.7', ls='--')\n",
    "ax.set_axisbelow(True) \n",
    "ax.axhspan(0,-100, facecolor='0.2', alpha=0.1)\n",
    "\n",
    "plt.bar(x, sense_table.iloc[:,0], color=colors[0], label=sens_scenarios[0],width=bwidth)\n",
    "plt.bar(x, sense_table.iloc[:,1], color=colors[1], label=sens_scenarios[1],width=bwidth)\n",
    "plt.bar(x+bwidth, sense_table.iloc[:,3], color=colors[3], label=sens_scenarios[3],width=bwidth)\n",
    "plt.bar(x+bwidth, sense_table.iloc[:,2], color=colors[2], label=sens_scenarios[2],width=bwidth)\n",
    "plt.bar(x+bwidth, sense_table.iloc[:,4], color=colors[4], label=sens_scenarios[4],width=bwidth)\n",
    "plt.bar(x+2*bwidth, sense_table.iloc[:,5], color=colors[5], label=sens_scenarios[5],width=bwidth)\n",
    "plt.bar(x+2*bwidth, sense_table.iloc[:,6], color=colors[6], label=sens_scenarios[6],width=bwidth)\n",
    "plt.bar(x+2*bwidth, sense_table.iloc[:,7], color=colors[7], label=sens_scenarios[7],width=bwidth)\n",
    "\n",
    "plt.ylim(-80,100)\n",
    "ax.set_xticks(x+2*bwidth / 2)\n",
    "ax.set_xticklabels(metric_labels, fontsize=12)\n",
    "\n",
    "plt.ylabel('% Worsening        % Improvement     ')\n",
    "plt.title('Sensitivity of Design Aspects')\n",
    "\n",
    "ax.legend(bbox_to_anchor=(1,1.02), fontsize=12)\n",
    "\n",
    "sensitivitybars.savefig('energyresults-sensitivity-3aspects.png', dpi=300, bbox_inches='tight')"
   ]
  },
  {
   "cell_type": "code",
   "execution_count": null,
   "id": "c4dd3283",
   "metadata": {
    "scrolled": true
   },
   "outputs": [],
   "source": [
    "sense_table.loc[:,cols]"
   ]
  },
  {
   "cell_type": "code",
   "execution_count": null,
   "id": "ecfe3104",
   "metadata": {},
   "outputs": [],
   "source": []
  },
  {
   "cell_type": "code",
   "execution_count": null,
   "id": "f960cb2f",
   "metadata": {},
   "outputs": [],
   "source": []
  },
  {
   "cell_type": "code",
   "execution_count": null,
   "id": "982dba12",
   "metadata": {},
   "outputs": [],
   "source": []
  },
  {
   "cell_type": "markdown",
   "id": "0bf40068",
   "metadata": {},
   "source": [
    "# Best Combos and Worst Combos\n",
    "Now, what happens when we combine these?"
   ]
  },
  {
   "cell_type": "code",
   "execution_count": null,
   "id": "69f1b861",
   "metadata": {
    "scrolled": true
   },
   "outputs": [],
   "source": [
    "#load in a baseline and materials for modification\n",
    "sim2 = PV_ICE.Simulation(name='sim2', path=testfolder)\n",
    "\n",
    "sim2.createScenario(name='PV_ICE', massmodulefile=moduleFile_m, energymodulefile=moduleFile_e)\n",
    "for mat in range (0, len(MATERIALS)):\n",
    "    matbaseline_m = os.path.join(baselinesfolder,'baseline_material_mass_'+MATERIALS[mat]+'.csv')\n",
    "    matbaseline_e = os.path.join(baselinesfolder,'baseline_material_energy_'+MATERIALS[mat]+'.csv')\n",
    "    sim2.scenario['PV_ICE'].addMaterial(MATERIALS[mat], massmatfile=matbaseline_m, energymatfile=matbaseline_e)"
   ]
  },
  {
   "cell_type": "code",
   "execution_count": null,
   "id": "3b2930cf",
   "metadata": {},
   "outputs": [],
   "source": [
    "mod_circ_vars = ['mod_EOL_pg4_recycled', 'mod_EOL_pb4_recycled']\n",
    "\n",
    "mod_alt_paths = ['mod_EOL_pg0_resell','mod_EOL_pg1_landfill','mod_EOL_pg2_stored','mod_EOL_pg3_reMFG',\n",
    "                 'mod_EOL_reMFG_yield','mod_EOL_sp_reMFG_recycle',\n",
    "                 'mod_EOL_pb1_landfill','mod_EOL_pb2_stored','mod_EOL_pb3_reMFG']\n",
    "\n",
    "mat_circ_vars = ['mat_MFG_scrap_Recycled', 'mat_MFG_scrap_Recycling_eff', 'mat_MFG_scrap_Recycled_into_HQ',\n",
    "                 'mat_MFG_scrap_Recycled_into_HQ_Reused4MFG',\n",
    "                 \n",
    "                 'mat_PG4_Recycling_target', 'mat_Recycling_yield',\n",
    "                 'mat_EOL_Recycled_into_HQ', 'mat_EOL_RecycledHQ_Reused4MFG']\n",
    "\n",
    "#mat_mfgscrap = ['mat_MFG_scrap_Recycled', 'mat_MFG_scrap_Recycling_eff', 'mat_MFG_scrap_Recycled_into_HQ',\n",
    "#                 'mat_MFG_scrap_Recycled_into_HQ_Reused4MFG']\n",
    "\n",
    "#path control variables are:\n",
    "# 'mat_PG4_Recycling_target'\n",
    "# 'mat_MFG_scrap_Recycled'\n",
    "# 'mod_EOL_pg4_recycled'"
   ]
  },
  {
   "cell_type": "markdown",
   "id": "15c356e6",
   "metadata": {},
   "source": [
    "### Good Combos"
   ]
  },
  {
   "cell_type": "code",
   "execution_count": null,
   "id": "a2d8aee4",
   "metadata": {},
   "outputs": [],
   "source": [
    "#Life+Eff\n",
    "\n",
    "sim2.createScenario(name='good_eff_life', massmodulefile=moduleFile_m, energymodulefile=moduleFile_e)\n",
    "for mat in range (0, len(MATERIALS)):\n",
    "    matbaseline_m = os.path.join(baselinesfolder,'baseline_material_mass_'+MATERIALS[mat]+'.csv')\n",
    "    matbaseline_e = os.path.join(baselinesfolder,'baseline_material_energy_'+MATERIALS[mat]+'.csv')\n",
    "    sim2.scenario['good_eff_life'].addMaterial(MATERIALS[mat], massmatfile=matbaseline_m, energymatfile=matbaseline_e)\n",
    "    \n",
    "#Lifetime and Degradation\n",
    "#degradation rate:\n",
    "sim2.modifyScenario('good_eff_life', 'mod_degradation', \n",
    "                    sim2.scenario['PV_ICE'].dataIn_m.loc[timeshift:,'mod_degradation']-0.1, start_year=2022) #standard current degrdation\n",
    "#T50\n",
    "sim2.modifyScenario('good_eff_life', 'mod_reliability_t50',\n",
    "                    sim2.scenario['PV_ICE'].dataIn_m.loc[timeshift:,'mod_reliability_t50']+10, start_year=2022)\n",
    "#t90\n",
    "sim2.modifyScenario('good_eff_life', 'mod_reliability_t90',\n",
    "                    sim2.scenario['PV_ICE'].dataIn_m.loc[timeshift:,'mod_reliability_t90']+10, start_year=2022) \n",
    "#Mod Project Lifetime\n",
    "sim2.modifyScenario('good_eff_life', 'mod_lifetime',\n",
    "                    sim2.scenario['PV_ICE'].dataIn_m.loc[timeshift:,'mod_lifetime']+10, start_year=2022) #\n",
    "\n",
    "sim2.modifyScenario('good_eff_life', 'mod_eff', \n",
    "                    sim2.scenario['PV_ICE'].dataIn_m.loc[timeshift:,'mod_eff']+5, start_year=2022) #\n",
    "\n",
    "\n"
   ]
  },
  {
   "cell_type": "code",
   "execution_count": null,
   "id": "d226c277",
   "metadata": {},
   "outputs": [],
   "source": [
    "#Eff+Circ\n",
    "sim2.createScenario(name='good_eff_circ', massmodulefile=moduleFile_m, energymodulefile=moduleFile_e)\n",
    "for mat in range (0, len(MATERIALS)):\n",
    "    matbaseline_m = os.path.join(baselinesfolder,'baseline_material_mass_'+MATERIALS[mat]+'.csv')\n",
    "    matbaseline_e = os.path.join(baselinesfolder,'baseline_material_energy_'+MATERIALS[mat]+'.csv')\n",
    "    sim2.scenario['good_eff_circ'].addMaterial(MATERIALS[mat], massmatfile=matbaseline_m, energymatfile=matbaseline_e)\n",
    "\n",
    "for var in range(0,len(mod_alt_paths)):\n",
    "    sim2.modifyScenario('good_eff_circ', mod_alt_paths[var], 0.0, start_year=2022) #set non recycle to 0   \n",
    "\n",
    "sim2.modifyScenario('good_eff_circ', 'mod_EOL_collection_eff',100.0, start_year=2022) #collect everything\n",
    "sim2.modifyScenario('good_eff_circ','mod_EOL_pb1_landfill',100.0,start_year=2022) #landfill up just in case\n",
    "sim2.modifyScenario('good_eff_circ','mod_EOL_pg1_landfill',100.0,start_year=2022)\n",
    "    \n",
    "for var in range(0,len(mod_circ_vars)):\n",
    "    sim2.modifyScenario('good_eff_circ', mod_circ_vars[var], 25.0, start_year=2022) #set recycle paths to 25%\n",
    "\n",
    "for mat in range (0, len(MATERIALS_recycle)):\n",
    "    for mvar in range(0,len(mat_circ_vars)):\n",
    "        sim2.scenario['good_eff_circ'].modifyMaterials(MATERIALS_recycle[mat], mat_circ_vars[mvar],100.0, start_year=2022) #\n",
    "        sim2.scenario['good_eff_circ'].modifyMaterials(MATERIALS_recycle[mat], 'mat_MFG_scrap_Recycled',25.0, start_year=2022) #\n",
    "\n",
    "sim2.modifyScenario('good_eff_circ', 'mod_eff', \n",
    "                    sim2.scenario['PV_ICE'].dataIn_m.loc[timeshift:,'mod_eff']+5, start_year=2022) #"
   ]
  },
  {
   "cell_type": "code",
   "execution_count": null,
   "id": "a0b03429",
   "metadata": {},
   "outputs": [],
   "source": [
    "#Life+Circ\n",
    "\n",
    "sim2.createScenario(name='good_life_circ', massmodulefile=moduleFile_m, energymodulefile=moduleFile_e)\n",
    "for mat in range (0, len(MATERIALS)):\n",
    "    matbaseline_m = os.path.join(baselinesfolder,'baseline_material_mass_'+MATERIALS[mat]+'.csv')\n",
    "    matbaseline_e = os.path.join(baselinesfolder,'baseline_material_energy_'+MATERIALS[mat]+'.csv')\n",
    "    sim2.scenario['good_life_circ'].addMaterial(MATERIALS[mat], massmatfile=matbaseline_m, energymatfile=matbaseline_e)\n",
    "    \n",
    "#Lifetime and Degradation\n",
    "#degradation rate:\n",
    "sim2.modifyScenario('good_life_circ', 'mod_degradation', \n",
    "                    sim2.scenario['PV_ICE'].dataIn_m.loc[timeshift:,'mod_degradation']-0.1, start_year=2022) #standard current degrdation\n",
    "#T50\n",
    "sim2.modifyScenario('good_life_circ', 'mod_reliability_t50',\n",
    "                    sim2.scenario['PV_ICE'].dataIn_m.loc[timeshift:,'mod_reliability_t50']+10, start_year=2022)\n",
    "#t90\n",
    "sim2.modifyScenario('good_life_circ', 'mod_reliability_t90',\n",
    "                    sim2.scenario['PV_ICE'].dataIn_m.loc[timeshift:,'mod_reliability_t90']+10, start_year=2022) \n",
    "#Mod Project Lifetime\n",
    "sim2.modifyScenario('good_life_circ', 'mod_lifetime',\n",
    "                    sim2.scenario['PV_ICE'].dataIn_m.loc[timeshift:,'mod_lifetime']+10, start_year=2022) #\n",
    "\n",
    "for var in range(0,len(mod_alt_paths)):\n",
    "    sim2.modifyScenario('good_life_circ', mod_alt_paths[var], 0.0, start_year=2022) #set non recycle to 0   \n",
    "\n",
    "sim2.modifyScenario('good_life_circ', 'mod_EOL_collection_eff',100.0, start_year=2022) #collect everything\n",
    "sim2.modifyScenario('good_life_circ','mod_EOL_pb1_landfill',100.0,start_year=2022) #landfill up just in case\n",
    "sim2.modifyScenario('good_life_circ','mod_EOL_pg1_landfill',100.0,start_year=2022)\n",
    "    \n",
    "for var in range(0,len(mod_circ_vars)):\n",
    "    sim2.modifyScenario('good_life_circ', mod_circ_vars[var], 25.0, start_year=2022) #set recycle paths to 25%\n",
    "\n",
    "for mat in range (0, len(MATERIALS_recycle)):\n",
    "    for mvar in range(0,len(mat_circ_vars)):\n",
    "        sim2.scenario['good_life_circ'].modifyMaterials(MATERIALS_recycle[mat], mat_circ_vars[mvar],100.0, start_year=2022) #\n",
    "        sim2.scenario['good_life_circ'].modifyMaterials(MATERIALS_recycle[mat], 'mat_MFG_scrap_Recycled',25.0, start_year=2022) #"
   ]
  },
  {
   "cell_type": "markdown",
   "id": "8d48412b",
   "metadata": {},
   "source": [
    "### Bad Combos"
   ]
  },
  {
   "cell_type": "code",
   "execution_count": null,
   "id": "4f5fd2bb",
   "metadata": {},
   "outputs": [],
   "source": [
    "#life eff\n",
    "sim2.createScenario(name='bad_life_eff', massmodulefile=moduleFile_m, energymodulefile=moduleFile_e)\n",
    "for mat in range (0, len(MATERIALS)):\n",
    "    matbaseline_m = os.path.join(baselinesfolder,'baseline_material_mass_'+MATERIALS[mat]+'.csv')\n",
    "    matbaseline_e = os.path.join(baselinesfolder,'baseline_material_energy_'+MATERIALS[mat]+'.csv')\n",
    "    sim2.scenario['bad_life_eff'].addMaterial(MATERIALS[mat], massmatfile=matbaseline_m, energymatfile=matbaseline_e)\n",
    "    \n",
    "#Lifetime and Degradation\n",
    "#degradation rate:\n",
    "sim2.modifyScenario('bad_life_eff', 'mod_degradation', \n",
    "                    sim2.scenario['PV_ICE'].dataIn_m.loc[timeshift:,'mod_degradation']+0.1, start_year=2022) #standard current degrdation\n",
    "#T50\n",
    "sim2.modifyScenario('bad_life_eff', 'mod_reliability_t50',\n",
    "                    sim2.scenario['PV_ICE'].dataIn_m.loc[timeshift:,'mod_reliability_t50']-10, start_year=2022)\n",
    "#t90\n",
    "sim2.modifyScenario('bad_life_eff', 'mod_reliability_t90',\n",
    "                    sim2.scenario['PV_ICE'].dataIn_m.loc[timeshift:,'mod_reliability_t90']-10, start_year=2022) \n",
    "#Mod Project Lifetime\n",
    "sim2.modifyScenario('bad_life_eff', 'mod_lifetime',\n",
    "                    sim2.scenario['PV_ICE'].dataIn_m.loc[timeshift:,'mod_lifetime']-10, start_year=2022) #project lifetime of 25 years\n",
    "#eff -5\n",
    "sim2.modifyScenario('bad_life_eff', 'mod_eff', \n",
    "                    sim2.scenario['PV_ICE'].dataIn_m.loc[timeshift:,'mod_eff']-5, start_year=2022) #"
   ]
  },
  {
   "cell_type": "code",
   "execution_count": null,
   "id": "d37d5684",
   "metadata": {},
   "outputs": [],
   "source": [
    "#eff circ\n",
    "sim2.createScenario(name='bad_eff_circ', massmodulefile=moduleFile_m, energymodulefile=moduleFile_e)\n",
    "for mat in range (0, len(MATERIALS)):\n",
    "    matbaseline_m = os.path.join(baselinesfolder,'baseline_material_mass_'+MATERIALS[mat]+'.csv')\n",
    "    matbaseline_e = os.path.join(baselinesfolder,'baseline_material_energy_'+MATERIALS[mat]+'.csv')\n",
    "    sim2.scenario['bad_eff_circ'].addMaterial(MATERIALS[mat], massmatfile=matbaseline_m, energymatfile=matbaseline_e)\n",
    "\n",
    "sim2.modifyScenario('bad_eff_circ', 'mod_eff', \n",
    "                    sim2.scenario['PV_ICE'].dataIn_m.loc[timeshift:,'mod_eff']-5, start_year=2022) #\n",
    "\n",
    "for var in range(0,len(mod_circ_vars)):\n",
    "    sim2.modifyScenario('bad_eff_circ', mod_circ_vars[var],0.0, start_year=2022) #set recycle to 0\n",
    "    \n",
    "for var in range(0,len(mod_alt_paths)):\n",
    "    sim2.modifyScenario('bad_eff_circ', mod_alt_paths[var], 0.0, start_year=2022) #set non recycle to 0   \n",
    "\n",
    "sim2.modifyScenario('bad_eff_circ', 'mod_EOL_collection_eff',0.0, start_year=2022) #collect nothing\n",
    "sim2.modifyScenario('bad_eff_circ','mod_EOL_pb1_landfill',100.0,start_year=2022) #landfill up just in case\n",
    "sim2.modifyScenario('bad_eff_circ','mod_EOL_pg1_landfill',100.0,start_year=2022)\n",
    "\n",
    "for mat in range (0, len(MATERIALS_recycle)):\n",
    "    for mvar in range(0,len(mat_circ_vars)):\n",
    "        sim2.scenario['bad_eff_circ'].modifyMaterials(MATERIALS_recycle[mat], mat_circ_vars[mvar],0.0, start_year=2022) #"
   ]
  },
  {
   "cell_type": "code",
   "execution_count": null,
   "id": "29c808a7",
   "metadata": {},
   "outputs": [],
   "source": [
    "#life circ\n",
    "sim2.createScenario(name='bad_life_circ', massmodulefile=moduleFile_m, energymodulefile=moduleFile_e)\n",
    "for mat in range (0, len(MATERIALS)):\n",
    "    matbaseline_m = os.path.join(baselinesfolder,'baseline_material_mass_'+MATERIALS[mat]+'.csv')\n",
    "    matbaseline_e = os.path.join(baselinesfolder,'baseline_material_energy_'+MATERIALS[mat]+'.csv')\n",
    "    sim2.scenario['bad_life_circ'].addMaterial(MATERIALS[mat], massmatfile=matbaseline_m, energymatfile=matbaseline_e)\n",
    "\n",
    "#degradation rate:\n",
    "sim2.modifyScenario('bad_life_circ', 'mod_degradation', \n",
    "                    sim2.scenario['PV_ICE'].dataIn_m.loc[timeshift:,'mod_degradation']+0.1, start_year=2022) #standard current degrdation\n",
    "#T50\n",
    "sim2.modifyScenario('bad_life_circ', 'mod_reliability_t50',\n",
    "                    sim2.scenario['PV_ICE'].dataIn_m.loc[timeshift:,'mod_reliability_t50']-10, start_year=2022)\n",
    "#t90\n",
    "sim2.modifyScenario('bad_life_circ', 'mod_reliability_t90',\n",
    "                    sim2.scenario['PV_ICE'].dataIn_m.loc[timeshift:,'mod_reliability_t90']-10, start_year=2022) \n",
    "#Mod Project Lifetime\n",
    "sim2.modifyScenario('bad_life_circ', 'mod_lifetime',\n",
    "                    sim2.scenario['PV_ICE'].dataIn_m.loc[timeshift:,'mod_lifetime']-10, start_year=2022)\n",
    "    \n",
    "#0 circ\n",
    "for var in range(0,len(mod_circ_vars)):\n",
    "    sim2.modifyScenario('bad_life_circ', mod_circ_vars[var],0.0, start_year=2022) #set recycle to 0\n",
    "    \n",
    "for var in range(0,len(mod_alt_paths)):\n",
    "    sim2.modifyScenario('bad_life_circ', mod_alt_paths[var], 0.0, start_year=2022) #set non recycle to 0   \n",
    "\n",
    "sim2.modifyScenario('bad_life_circ', 'mod_EOL_collection_eff',0.0, start_year=2022) #collect nothing\n",
    "sim2.modifyScenario('bad_life_circ','mod_EOL_pb1_landfill',100.0,start_year=2022) #landfill up just in case\n",
    "sim2.modifyScenario('bad_life_circ','mod_EOL_pg1_landfill',100.0,start_year=2022)\n",
    "\n",
    "for mat in range (0, len(MATERIALS_recycle)):\n",
    "    for mvar in range(0,len(mat_circ_vars)):\n",
    "        sim2.scenario['bad_life_circ'].modifyMaterials(MATERIALS_recycle[mat], mat_circ_vars[mvar],0.0, start_year=2022) #"
   ]
  },
  {
   "cell_type": "code",
   "execution_count": null,
   "id": "f7091685",
   "metadata": {},
   "outputs": [],
   "source": []
  },
  {
   "cell_type": "code",
   "execution_count": null,
   "id": "0fe17bae",
   "metadata": {
    "scrolled": true
   },
   "outputs": [],
   "source": [
    "#trim to start in 2000, this trims module and materials\n",
    "#had to specify and end year, cannot use to extend\n",
    "sim2.trim_Years(startYear=2000, endYear=2100)"
   ]
  },
  {
   "cell_type": "code",
   "execution_count": null,
   "id": "e077a452",
   "metadata": {},
   "outputs": [],
   "source": [
    "global_projection = pd.read_csv(os.path.join(supportMatfolder,'output-globalInstallsProjection.csv'), index_col=0)\n",
    "global_projection.iloc[-1,:]\n",
    "\n",
    "#fig, ax1 = plt.subplots()\n",
    "\n",
    "#ax1.stackplot(global_projection.index, global_projection['World_cum']/1e6, color='#F7A11A')\n",
    "#ax1.set_ylabel('Cumulative Solar Capacity [TW]', color='#F7A11A')\n",
    "#ax1.set_ylim(0,90)\n",
    "#ax1.set_xlim(2000,2100)\n",
    "#ax2 = ax1.twinx()\n",
    "#ax2.plot(global_projection['World_annual_[MWdc]']/1e6)\n",
    "#ax2.set_ylabel('Annual Installations [TW]')\n",
    "#ax2.set_ylim(0,5)\n",
    "#plt.show()\n",
    "\n",
    "#fig.savefig('energyresults-deployment.png', dpi=300, bbox_inches='tight')"
   ]
  },
  {
   "cell_type": "code",
   "execution_count": null,
   "id": "456aecd7",
   "metadata": {},
   "outputs": [],
   "source": [
    "#deployment projection for all scenarios\n",
    "sim2.modifyScenario(scenarios=None,stage='new_Installed_Capacity_[MW]', \n",
    "                    value= global_projection['World_annual_[MWdc]'], start_year=2000)"
   ]
  },
  {
   "cell_type": "code",
   "execution_count": null,
   "id": "bc697fb9",
   "metadata": {},
   "outputs": [],
   "source": [
    "sim2.scenario.keys()"
   ]
  },
  {
   "cell_type": "code",
   "execution_count": null,
   "id": "6631a8b2",
   "metadata": {},
   "outputs": [],
   "source": [
    "bifiFactors = {'PV_ICE':0.0,\n",
    "               'good_eff_life':0.9, \n",
    "               'good_eff_circ': 0.9,\n",
    "               'good_life_circ': 0.0,\n",
    "               'bad_life_eff': 0.0,\n",
    "               'bad_eff_circ':0.0,\n",
    "               'bad_life_circ': 0.0\n",
    "              } \n",
    "\n",
    "#PV ICE currently set up to read in a csv of bifi factors, so generate files to read in \n",
    "idx_temp = pd.RangeIndex(start=2000,stop=2101,step=1) #create the index\n",
    "df_temp = pd.DataFrame(index=idx_temp, columns=['bifi'], dtype=float)\n",
    "bifiPathDict={}\n",
    "\n",
    "for f in bifiFactors.keys(): #loop over module types\n",
    "    bifi = df_temp.copy() #copy of df\n",
    "    bifi['bifi'] = bifiFactors[f] #assign column\n",
    "    bifipath = os.path.join(testfolder,'bifi_'+str(f)+'.csv') #create file path\n",
    "    bifi.to_csv(path_or_buf=bifipath, index_label='year') #create file\n",
    "    bifiPathDict[str(f)] = bifipath\n",
    "    #append bifi path to dict? or list?"
   ]
  },
  {
   "cell_type": "code",
   "execution_count": null,
   "id": "e119e7f7",
   "metadata": {},
   "outputs": [],
   "source": []
  },
  {
   "cell_type": "code",
   "execution_count": null,
   "id": "582eb4f2",
   "metadata": {},
   "outputs": [],
   "source": []
  },
  {
   "cell_type": "markdown",
   "id": "d3c00bdb",
   "metadata": {},
   "source": [
    "## Calculate Mass Flow: Identical Installs"
   ]
  },
  {
   "cell_type": "code",
   "execution_count": null,
   "id": "c8408c71",
   "metadata": {
    "scrolled": true
   },
   "outputs": [],
   "source": [
    "#CALCULATE MASS FLOW= \n",
    "\n",
    "for scen in sim2.scenario.keys(): #loop over scenarios\n",
    "    sim2.calculateMassFlow(scenarios=[scen], bifacialityfactors=bifiPathDict[scen])"
   ]
  },
  {
   "cell_type": "code",
   "execution_count": null,
   "id": "5dbc6b8c",
   "metadata": {},
   "outputs": [],
   "source": [
    "#sim1.calculateMassFlow()"
   ]
  },
  {
   "cell_type": "code",
   "execution_count": null,
   "id": "5d66576c",
   "metadata": {},
   "outputs": [],
   "source": [
    "ii_yearly2, ii_cumu2 = sim2.aggregateResults() #have to do this to get auto plots\n",
    "sim2.saveSimulation(customname='_EnergySensitivity-goodbad_identicalinstalls')"
   ]
  },
  {
   "cell_type": "code",
   "execution_count": null,
   "id": "a3a44d01",
   "metadata": {},
   "outputs": [],
   "source": [
    "effective_capacity = ii_yearly2.filter(like='ActiveCapacity')\n",
    "\n",
    "plt.plot(ii_cumu2['newInstalledCapacity_sim2_PV_ICE_[MW]']/1e6, label='Capacity Target', color='black', ls='--')\n",
    "\n",
    "plt.plot(effective_capacity/1e6, label=sim2.scenario.keys())\n",
    "\n",
    "plt.legend()\n",
    "plt.ylabel('Effective Capacity [TW]')\n",
    "plt.title('Effective Capacity: No Replacements')\n",
    "plt.ylim(0,)"
   ]
  },
  {
   "cell_type": "code",
   "execution_count": null,
   "id": "5f814f0a",
   "metadata": {},
   "outputs": [],
   "source": [
    "## Calculate Flows: Capacity Compensation"
   ]
  },
  {
   "cell_type": "code",
   "execution_count": null,
   "id": "a5fde25d",
   "metadata": {},
   "outputs": [],
   "source": [
    "UnderInstall_df = pd.DataFrame()\n",
    "\n",
    "\n",
    "for row in range (0,len(sim2.scenario['PV_ICE'].dataIn_m)): #loop over length of years\n",
    "    print(row)\n",
    "    for scen in sim2.scenario.keys(): #loop over scenarios\n",
    "        print(scen)\n",
    "        Under_Installment = global_projection.iloc[row,0] - ((sim2.scenario[scen].dataOut_m['Effective_Capacity_[W]'][row])/1e6)  # MWATTS\n",
    "        sim2.scenario[scen].dataIn_m['new_Installed_Capacity_[MW]'][row] += Under_Installment #overwrite new installed\n",
    "        UnderInstall_df.loc[row,scen] = Under_Installment #save the underinstallment as df\n",
    "        #calculate flows for that scenario with it's bifi factor and modified weibull\n",
    "        sim2.calculateMassFlow(scenarios=[scen], bifacialityfactors=bifiPathDict[scen])\n",
    "\n",
    "sim2.calculateEnergyFlow()"
   ]
  },
  {
   "cell_type": "code",
   "execution_count": null,
   "id": "1a107745",
   "metadata": {
    "scrolled": true
   },
   "outputs": [],
   "source": [
    "sim2.saveSimulation(customname='_EnergySensitivity_withreplacements')\n",
    "\n",
    "#aggregate results - mass\n",
    "cc_yearly2, cc_cumu2 = sim2.aggregateResults() #have to do this to get auto plots\n",
    "cc_yearly2.to_csv(os.path.join(testfolder, 'cc_sensitivity_combos_yearly.csv'))\n",
    "cc_cumu2.to_csv(os.path.join(testfolder, 'cc_sensitivity_combos_cumu.csv'))\n",
    "\n",
    "#aggregate results - energy\n",
    "allenergy2, energyGen2, energy_demands2 = sim2.aggregateEnergyResults()\n",
    "allenergy2.to_csv(os.path.join(testfolder, 'cc_sensitivity_combos_allenergy.csv'))\n",
    "energyGen2.to_csv(os.path.join(testfolder, 'cc_sensitivity_combos_energyGen.csv'))\n",
    "energy_demands2.to_csv(os.path.join(testfolder, 'cc_sensitivity_combos_energy_demands.csv'))\n",
    "\n",
    "UnderInstall_df.to_csv(os.path.join(testfolder, 'cc_sensitivity_combos_underInstalls.csv'))"
   ]
  },
  {
   "cell_type": "code",
   "execution_count": null,
   "id": "2c8107eb",
   "metadata": {},
   "outputs": [],
   "source": [
    "scennames_labels2=sim2.scenario.keys()"
   ]
  },
  {
   "cell_type": "code",
   "execution_count": null,
   "id": "abc05a7c",
   "metadata": {},
   "outputs": [],
   "source": [
    "cumu_installs2 = cc_cumu2.filter(like='newInstalled')\n",
    "total_installed2 = cumu_installs2.loc[2100]\n",
    "total_installed2.index= scennames_labels2\n",
    "\n",
    "plt.bar(scennames_labels2, total_installed2/1e6)\n",
    "plt.xticks(rotation=45)\n",
    "plt.ylabel('Cumulative installed [TW]')\n",
    "plt.title('Cumulative Installs with Replacements')\n",
    "#plt.ylim(0,410)"
   ]
  },
  {
   "cell_type": "code",
   "execution_count": null,
   "id": "42111ad0",
   "metadata": {},
   "outputs": [],
   "source": [
    "cumu_area_deployed2 = pd.DataFrame()\n",
    "\n",
    "for scen in sim2.scenario.keys():\n",
    "    area_deploy = sim2.scenario[scen].dataOut_m['Area'].cumsum()\n",
    "    cumu_area_deployed2 = pd.concat([cumu_area_deployed2,area_deploy], axis=1)\n",
    "    \n",
    "cumu_area_deployed2.columns = sim2.scenario.keys()\n",
    "cumu_area_deployed2_total = cumu_area_deployed2.iloc[-1,:]\n",
    "#cumu_area_deployed\n",
    "\n",
    "plt.bar(scennames_labels2, cumu_area_deployed2.iloc[-1,:]/1e12)\n",
    "plt.xticks(rotation=45)\n",
    "plt.ylabel('Cumulative installed Area [m2 1e12]')\n",
    "plt.title('Cumulative Area Deployed with Replacements')\n",
    "#plt.ylim(0,410)"
   ]
  },
  {
   "cell_type": "code",
   "execution_count": null,
   "id": "3d01fd8e",
   "metadata": {},
   "outputs": [],
   "source": [
    "cumu_virgin_module2 = cc_cumu2.filter(like='VirginStock_Module')\n",
    "virgin2 = cumu_virgin_module2.loc[2100]\n",
    "virgin2.index= scennames_labels2\n",
    "\n",
    "plt.bar(scennames_labels2, virgin2/1e9)\n",
    "#plt.legend(scennames)\n",
    "plt.title('Cumulative Virgin Material Demands')\n",
    "plt.ylabel('Virgin Material Requirements\\n[billion tonnes]')\n",
    "plt.xticks(rotation=45)"
   ]
  },
  {
   "cell_type": "code",
   "execution_count": null,
   "id": "552b1fa5",
   "metadata": {},
   "outputs": [],
   "source": [
    "cumu_lifecycle_wastes2 = cc_cumu2.filter(like='WasteAll_Module')\n",
    "wastes2 = cumu_lifecycle_wastes2.loc[2100]\n",
    "wastes2.index= scennames_labels2\n",
    "\n",
    "plt.bar(scennames_labels2, wastes2/1e9)\n",
    "#plt.legend(scennames)\n",
    "plt.title('Cumulative Lifecycle Wastes')\n",
    "plt.ylabel('Lifecycle Wastes\\n[billion tonnes]')\n",
    "plt.xticks(rotation=45)"
   ]
  },
  {
   "cell_type": "code",
   "execution_count": null,
   "id": "085cefdc",
   "metadata": {},
   "outputs": [],
   "source": [
    "e_annual_sumDemands2 = energy_demands2.filter(like='demand_total')\n",
    "e_annual_sumDemands_cumu2 = e_annual_sumDemands2.cumsum()\n",
    "cumu_e_demands2 = e_annual_sumDemands_cumu2.loc[2100]\n",
    "cumu_e_demands2.index= scennames_labels2\n",
    "\n",
    "plt.bar(scennames_labels2, cumu_e_demands2/1e12)\n",
    "plt.title('Cumulative Lifecycle Energy Demands')\n",
    "plt.ylabel('Cumulative Energy Demands\\n[TWh]')"
   ]
  },
  {
   "cell_type": "code",
   "execution_count": null,
   "id": "68d9b7d1",
   "metadata": {},
   "outputs": [],
   "source": [
    "energyGen_cumu2 = energyGen2.cumsum()\n",
    "energyGen_cumu2.columns = e_annual_sumDemands_cumu2.columns = scennames_labels2\n",
    "netEnergy_cumu2 = energyGen_cumu2.loc[[2100]] - e_annual_sumDemands_cumu2.loc[[2100]]\n",
    "#netEnergy_cumu.index= scennames_labels\n",
    "\n",
    "plt.bar(scennames_labels2, netEnergy_cumu2.loc[2100]/1e12)\n",
    "plt.title('Net Energy Cumulatively')\n",
    "plt.ylabel('Cumulative Net Energy [TWh]')"
   ]
  },
  {
   "cell_type": "code",
   "execution_count": null,
   "id": "8cf7a662",
   "metadata": {},
   "outputs": [],
   "source": [
    "netEnergy_cumu_norm2 = netEnergy_cumu2/netEnergy_cumu2.loc[2100,'PV_ICE']\n",
    "netEnergy_cumu_norm_waterfall2 = netEnergy_cumu_norm2-1\n",
    "\n",
    "plt.bar(scennames_labels2, netEnergy_cumu_norm_waterfall2.loc[2100])\n",
    "plt.title('Net Energy Cumulatively Relative to PV ICE')\n",
    "plt.ylabel('Relative Cumulative Net Energy')\n",
    "#plt.ylim(-0.026,0.005)\n",
    "plt.plot(0.0, lw=2)\n",
    "plt.xticks(rotation=90)"
   ]
  },
  {
   "cell_type": "code",
   "execution_count": null,
   "id": "f19fb806",
   "metadata": {},
   "outputs": [],
   "source": [
    "energyBalance_allyears2 = energyGen_cumu2/e_annual_sumDemands_cumu2\n",
    "energyBalance2 = energyBalance_allyears2.loc[2100]\n",
    "energyBalance2.index = scennames_labels2\n",
    "\n",
    "plt.bar(scennames_labels2, energyBalance2)\n",
    "plt.title('Energy Balance')\n",
    "plt.ylabel('Unitless')"
   ]
  },
  {
   "cell_type": "code",
   "execution_count": null,
   "id": "a1f35257",
   "metadata": {},
   "outputs": [],
   "source": [
    "discussTable2 = pd.concat([total_installed2,cumu_area_deployed2_total,virgin2,wastes2,\n",
    "                           cumu_e_demands2, netEnergy_cumu2.loc[2100].T, energyBalance2],\n",
    "                         axis=1, keys=['replacements','area','virgin','wastes','energydemand','netenergy','energybalance'])\n",
    "#discussTable.to_csv(os.path.join(testfolder,'discussiontable.csv'))\n",
    "discussTable2"
   ]
  },
  {
   "cell_type": "code",
   "execution_count": null,
   "id": "51d3b4c9",
   "metadata": {},
   "outputs": [],
   "source": [
    "discussTable_all = pd.concat([discussTable,discussTable2], axis=0)\n",
    "discussTable_all"
   ]
  },
  {
   "cell_type": "code",
   "execution_count": null,
   "id": "63cdd823",
   "metadata": {},
   "outputs": [],
   "source": [
    "discussTable_norm = (discussTable_all/discussTable.loc['PV_ICE'])*100-100\n",
    "discussTable_norm"
   ]
  },
  {
   "cell_type": "code",
   "execution_count": null,
   "id": "abcebbdf",
   "metadata": {},
   "outputs": [],
   "source": [
    "graph_order = ['life_high','life_low','good_eff_life','bad_life_eff','eff_high','eff_high_bifi','eff_low','good_eff_circ',\n",
    "               'bad_eff_circ','circ_high','circ_low','good_life_circ','bad_life_circ']\n"
   ]
  },
  {
   "cell_type": "code",
   "execution_count": null,
   "id": "84a10968",
   "metadata": {},
   "outputs": [],
   "source": []
  },
  {
   "cell_type": "code",
   "execution_count": null,
   "id": "a664bb2c",
   "metadata": {},
   "outputs": [],
   "source": []
  },
  {
   "cell_type": "code",
   "execution_count": null,
   "id": "6443d101",
   "metadata": {},
   "outputs": [],
   "source": []
  },
  {
   "cell_type": "markdown",
   "id": "b413f34b",
   "metadata": {},
   "source": [
    "# Sensitivity of Energy to Circularity\n",
    "Above it appears that both increasing and decreasing circularity reduce energy demands, which would imply there might be a bell curve or threshold situation. OR more likely, open vs closed loop matters a lot."
   ]
  },
  {
   "cell_type": "code",
   "execution_count": null,
   "id": "37302bb6",
   "metadata": {},
   "outputs": [],
   "source": [
    "MATERIALS = ['glass', 'silicon', 'silver', 'aluminium_frames', 'copper', 'encapsulant', 'backsheet']\n",
    "MATERIALS_recycle = ['glass','silicon','silver','aluminium_frames']\n",
    "MATERIALS_NOrecycle = ['copper','encapsulant','backsheet']"
   ]
  },
  {
   "cell_type": "code",
   "execution_count": null,
   "id": "4f753b14",
   "metadata": {},
   "outputs": [],
   "source": [
    "#load in a baseline and materials for modification\n",
    "sim3 = PV_ICE.Simulation(name='sim3', path=testfolder)\n",
    "\n",
    "sim3.createScenario(name='PV_ICE', massmodulefile=moduleFile_m, energymodulefile=moduleFile_e)\n",
    "for mat in range (0, len(MATERIALS)):\n",
    "    matbaseline_m = os.path.join(baselinesfolder,'baseline_material_mass_'+MATERIALS[mat]+'.csv')\n",
    "    matbaseline_e = os.path.join(baselinesfolder,'baseline_material_energy_'+MATERIALS[mat]+'.csv')\n",
    "    sim3.scenario['PV_ICE'].addMaterial(MATERIALS[mat], massmatfile=matbaseline_m, energymatfile=matbaseline_e)"
   ]
  },
  {
   "cell_type": "code",
   "execution_count": null,
   "id": "f4363eb2",
   "metadata": {},
   "outputs": [],
   "source": [
    "mod_circ_vars = ['mod_EOL_pg4_recycled', 'mod_EOL_pb4_recycled']\n",
    "\n",
    "mod_alt_paths = ['mod_EOL_pg0_resell','mod_EOL_pg2_stored','mod_EOL_pg3_reMFG',\n",
    "                 'mod_EOL_reMFG_yield','mod_EOL_sp_reMFG_recycle',\n",
    "                 'mod_EOL_pb2_stored','mod_EOL_pb3_reMFG'] #removed landfills\n",
    "\n",
    "mat_circ_vars = ['mat_MFG_scrap_Recycled', 'mat_MFG_scrap_Recycling_eff', 'mat_MFG_scrap_Recycled_into_HQ',\n",
    "                 'mat_MFG_scrap_Recycled_into_HQ_Reused4MFG', \n",
    "                 'mat_PG4_Recycling_target', 'mat_Recycling_yield',\n",
    "                 'mat_EOL_Recycled_into_HQ', 'mat_EOL_RecycledHQ_Reused4MFG']\n",
    "\n",
    "#mat_mfgscrap = ['mat_MFG_scrap_Recycled', 'mat_MFG_scrap_Recycling_eff', 'mat_MFG_scrap_Recycled_into_HQ',\n",
    "#                 'mat_MFG_scrap_Recycled_into_HQ_Reused4MFG']"
   ]
  },
  {
   "cell_type": "code",
   "execution_count": null,
   "id": "f57db018",
   "metadata": {},
   "outputs": [],
   "source": [
    "#range of circularity / closed loop vs downcycling\n",
    "rrates = pd.Series(range(0,101,10))\n",
    "for r in range(0,len(rrates)): print(rrates[r])"
   ]
  },
  {
   "cell_type": "code",
   "execution_count": null,
   "id": "9ec0f3af",
   "metadata": {
    "scrolled": true
   },
   "outputs": [],
   "source": [
    "#closed loop at various rates\n",
    "for r in range(0,len(rrates)):\n",
    "    scenname = 'circ_CL_'+str(rrates[r])\n",
    "    sim3.createScenario(name=scenname, massmodulefile=moduleFile_m, energymodulefile=moduleFile_e)\n",
    "    for mat in range (0, len(MATERIALS)):\n",
    "        matbaseline_m = os.path.join(baselinesfolder,'baseline_material_mass_'+MATERIALS[mat]+'.csv')\n",
    "        matbaseline_e = os.path.join(baselinesfolder,'baseline_material_energy_'+MATERIALS[mat]+'.csv')\n",
    "        sim3.scenario[scenname].addMaterial(MATERIALS[mat], massmatfile=matbaseline_m, energymatfile=matbaseline_e)\n",
    "    \n",
    "    for var in range(0,len(mod_alt_paths)):\n",
    "        sim3.modifyScenario(scenname, mod_alt_paths[var], 0.0, start_year=2022) #set non recycle to 0 (landfill should auto adjust)\n",
    "    \n",
    "    sim3.modifyScenario(scenname, 'mod_EOL_collection_eff',100.0, start_year=2022) #collect everything\n",
    "    sim3.modifyScenario(scenname,'mod_EOL_pb1_landfill',100.0,start_year=2022) #landfill up just in case\n",
    "    sim3.modifyScenario(scenname,'mod_EOL_pg1_landfill',100.0,start_year=2022)\n",
    "    \n",
    "    for var in range(0,len(mod_circ_vars)):\n",
    "        sim3.modifyScenario(scenname, mod_circ_vars[var], rrates[r], start_year=2022) #recycle modules at the rate at EoL\n",
    "\n",
    "    for mat in range (0, len(MATERIALS_recycle)): #modify only the recycled materials\n",
    "        for mvar in range(0,len(mat_circ_vars)):\n",
    "            sim3.scenario[scenname].modifyMaterials(MATERIALS_recycle[mat], mat_circ_vars[mvar], 100.0, start_year=2022) #100% recycle HQ path and yield\n",
    "            sim3.scenario[scenname].modifyMaterials(MATERIALS_recycle[mat], 'mat_MFG_scrap_Recycled', rrates[r], start_year=2022) # MFG scrap at rate\n"
   ]
  },
  {
   "cell_type": "code",
   "execution_count": null,
   "id": "0b092450",
   "metadata": {},
   "outputs": [],
   "source": [
    "#open loop at various rates\n",
    "for r in range(0,len(rrates)):\n",
    "    scenname = 'circ_OL_'+str(rrates[r])\n",
    "    sim3.createScenario(name=scenname, massmodulefile=moduleFile_m, energymodulefile=moduleFile_e)\n",
    "    for mat in range (0, len(MATERIALS)):\n",
    "        matbaseline_m = os.path.join(baselinesfolder,'baseline_material_mass_'+MATERIALS[mat]+'.csv')\n",
    "        matbaseline_e = os.path.join(baselinesfolder,'baseline_material_energy_'+MATERIALS[mat]+'.csv')\n",
    "        sim3.scenario[scenname].addMaterial(MATERIALS[mat], massmatfile=matbaseline_m, energymatfile=matbaseline_e)\n",
    "    \n",
    "    for var in range(0,len(mod_alt_paths)):\n",
    "        sim3.modifyScenario(scenname, mod_alt_paths[var], 0.0, start_year=2022) #set non recycle to 0\n",
    "        \n",
    "    sim3.modifyScenario(scenname, 'mod_EOL_collection_eff',100.0, start_year=2022) #collect everything\n",
    "    sim3.modifyScenario(scenname,'mod_EOL_pb1_landfill',100.0,start_year=2022) #landfill up just in case\n",
    "    sim3.modifyScenario(scenname,'mod_EOL_pg1_landfill',100.0,start_year=2022)\n",
    "    \n",
    "    for var in range(0,len(mod_circ_vars)):\n",
    "        sim3.modifyScenario(scenname, mod_circ_vars[var], rrates[r], start_year=2022) #recycle modules at the rate\n",
    "\n",
    "    for mat in range (0, len(MATERIALS_recycle)): #modify only the recycled materials\n",
    "        for mvar in range(0,len(mat_circ_vars)):\n",
    "            sim3.scenario[scenname].modifyMaterials(MATERIALS_recycle[mat], mat_circ_vars[mvar], 100.0, start_year=2022) # 100% recycle HQ path and yield\n",
    "            sim3.scenario[scenname].modifyMaterials(MATERIALS_recycle[mat], 'mat_MFG_scrap_Recycled', rrates[r], start_year=2022) #MFG scrap at rate\n",
    "            sim3.scenario[scenname].modifyMaterials(MATERIALS_recycle[mat], 'mat_MFG_scrap_Recycled_into_HQ', 0.0, start_year=2022) #Open loop\n",
    "            sim3.scenario[scenname].modifyMaterials(MATERIALS_recycle[mat], 'mat_EOL_RecycledHQ_Reused4MFG', 0.0, start_year=2022) #Open loop"
   ]
  },
  {
   "cell_type": "code",
   "execution_count": null,
   "id": "db6fcd1d",
   "metadata": {
    "scrolled": false
   },
   "outputs": [],
   "source": [
    "#trim to start in 2000, this trims module and materials\n",
    "#had to specify and end year, cannot use to extend\n",
    "sim3.trim_Years(startYear=2000, endYear=2100)"
   ]
  },
  {
   "cell_type": "code",
   "execution_count": null,
   "id": "7e670824",
   "metadata": {},
   "outputs": [],
   "source": [
    "global_projection = pd.read_csv(os.path.join(supportMatfolder,'output-globalInstallsProjection.csv'), index_col=0)\n",
    "global_projection.iloc[-1,:]\n",
    "\n",
    "#fig, ax1 = plt.subplots()\n",
    "\n",
    "#ax1.stackplot(global_projection.index, global_projection['World_cum']/1e6, color='#F7A11A')\n",
    "#ax1.set_ylabel('Cumulative Solar Capacity [TW]', color='#F7A11A')\n",
    "#ax1.set_ylim(0,90)\n",
    "#ax1.set_xlim(2000,2100)\n",
    "#ax2 = ax1.twinx()\n",
    "#ax2.plot(global_projection['World_annual_[MWdc]']/1e6)\n",
    "#ax2.set_ylabel('Annual Installations [TW]')\n",
    "#ax2.set_ylim(0,5)\n",
    "#plt.show()\n",
    "\n",
    "#fig.savefig('energyresults-deployment.png', dpi=300, bbox_inches='tight')"
   ]
  },
  {
   "cell_type": "code",
   "execution_count": null,
   "id": "ccd87e89",
   "metadata": {},
   "outputs": [],
   "source": [
    "#deployment projection for all scenarios\n",
    "sim3.modifyScenario(scenarios=None,stage='new_Installed_Capacity_[MW]', \n",
    "                    value= global_projection['World_annual_[MWdc]'], start_year=2000)"
   ]
  },
  {
   "cell_type": "code",
   "execution_count": null,
   "id": "6ca50388",
   "metadata": {},
   "outputs": [],
   "source": [
    "sim3.scenario['circ_CL_0'].material['silicon'].matdataIn_e"
   ]
  },
  {
   "cell_type": "code",
   "execution_count": null,
   "id": "eee69200",
   "metadata": {
    "scrolled": true
   },
   "outputs": [],
   "source": [
    "sim3.calculateMassFlow()"
   ]
  },
  {
   "cell_type": "code",
   "execution_count": null,
   "id": "1cf518b3",
   "metadata": {
    "scrolled": true
   },
   "outputs": [],
   "source": [
    "UnderInstall_df = pd.DataFrame()\n",
    "\n",
    "\n",
    "for row in range (0,len(sim3.scenario['PV_ICE'].dataIn_m)): #loop over length of years\n",
    "    print(row)\n",
    "    for scen in sim3.scenario.keys(): #loop over scenarios\n",
    "        print(scen)\n",
    "        Under_Installment = global_projection.iloc[row,0] - ((sim3.scenario[scen].dataOut_m['Effective_Capacity_[W]'][row])/1e6)  # MWATTS\n",
    "        sim3.scenario[scen].dataIn_m['new_Installed_Capacity_[MW]'][row] += Under_Installment #overwrite new installed\n",
    "        UnderInstall_df.loc[row,scen] = Under_Installment #save the underinstallment as df\n",
    "        #calculate flows for that scenario with it's bifi factor and modified weibull\n",
    "        sim3.calculateMassFlow(scenarios=[scen])\n",
    "\n",
    "sim3.calculateEnergyFlow()"
   ]
  },
  {
   "cell_type": "code",
   "execution_count": null,
   "id": "bbc14e7a",
   "metadata": {},
   "outputs": [],
   "source": []
  },
  {
   "cell_type": "code",
   "execution_count": null,
   "id": "f7a77d3b",
   "metadata": {
    "scrolled": true
   },
   "outputs": [],
   "source": [
    "sim3.saveSimulation(customname='_EnergySensitivity_withreplacements')\n",
    "\n",
    "#aggregate results - mass\n",
    "cc_yearly3, cc_cumu3 = sim3.aggregateResults() #have to do this to get auto plots\n",
    "cc_yearly3.to_csv(os.path.join(testfolder, 'cc_sensitivity_CLOL_yearly3.csv'))\n",
    "cc_cumu3.to_csv(os.path.join(testfolder, 'cc_sensitivity_CLOL_cumu3.csv'))\n",
    "\n",
    "#aggregate results - energy\n",
    "allenergy3, energyGen3, energy_demands3 = sim3.aggregateEnergyResults()\n",
    "allenergy3.to_csv(os.path.join(testfolder, 'cc_sensitivity_CLOL_allenergy3.csv'))\n",
    "energyGen3.to_csv(os.path.join(testfolder, 'cc_sensitivity_CLOL_energyGen3.csv'))\n",
    "energy_demands3.to_csv(os.path.join(testfolder, 'cc_sensitivity_CLOL_energy_demands3.csv'))\n",
    "\n",
    "#UnderInstall_df.to_csv(os.path.join(testfolder, 'cc_10scen_underInstalls.csv'))"
   ]
  },
  {
   "cell_type": "code",
   "execution_count": null,
   "id": "a0c47e72",
   "metadata": {},
   "outputs": [],
   "source": [
    "#read in files for speed\n",
    "allenergy3 = pd.read_csv(os.path.join(testfolder, 'cc_sensitivity_CLOL_allenergy3.csv'), index_col=0)\n",
    "energyGen3 = pd.read_csv(os.path.join(testfolder, 'cc_sensitivity_CLOL_energyGen3.csv'), index_col=0)\n",
    "energy_demands3 = pd.read_csv(os.path.join(testfolder, 'cc_sensitivity_CLOL_energy_demands3.csv'), index_col=0)"
   ]
  },
  {
   "cell_type": "code",
   "execution_count": null,
   "id": "580638f0",
   "metadata": {},
   "outputs": [],
   "source": [
    "scennames_labels3=sim3.scenario.keys()"
   ]
  },
  {
   "cell_type": "code",
   "execution_count": null,
   "id": "d477b7f9",
   "metadata": {},
   "outputs": [],
   "source": [
    "cumu_installs3 = cc_cumu3.filter(like='newInstalled')\n",
    "total_installed3 = cumu_installs3.loc[2100]\n",
    "total_installed3.index= scennames_labels3\n",
    "\n",
    "plt.bar(scennames_labels3, total_installed3/1e6)\n",
    "#plt.xticks(rotation=90)\n",
    "plt.ylabel('Cumulative installed [TW]')\n",
    "plt.title('Cumulative Installs with Replacements')\n",
    "#plt.ylim(0,410)"
   ]
  },
  {
   "cell_type": "code",
   "execution_count": null,
   "id": "38cb2ecc",
   "metadata": {},
   "outputs": [],
   "source": [
    "cumu_area_deployed3 = pd.DataFrame()\n",
    "\n",
    "for scen in sim3.scenario.keys():\n",
    "    area_deploy = sim3.scenario[scen].dataOut_m['Area'].cumsum()\n",
    "    cumu_area_deployed3 = pd.concat([cumu_area_deployed3,area_deploy], axis=1)\n",
    "    \n",
    "cumu_area_deployed3.columns = sim3.scenario.keys()\n",
    "cumu_area_deployed3_total = cumu_area_deployed3.iloc[-1,:]\n",
    "#cumu_area_deployed\n",
    "\n",
    "plt.bar(scennames_labels3, cumu_area_deployed3.iloc[-1,:]/1e12)\n",
    "plt.xticks(rotation=45)\n",
    "plt.ylabel('Cumulative installed Area [m2 1e12]')\n",
    "plt.title('Cumulative Area Deployed with Replacements')\n",
    "#plt.ylim(0,410)"
   ]
  },
  {
   "cell_type": "code",
   "execution_count": null,
   "id": "4009258e",
   "metadata": {},
   "outputs": [],
   "source": [
    "cumu_virgin_module3 = cc_cumu3.filter(like='VirginStock_Module')\n",
    "virgin3 = cumu_virgin_module3.loc[2100]\n",
    "virgin3.index= scennames_labels3\n",
    "\n",
    "plt.bar(scennames_labels3, virgin3/1e9)\n",
    "#plt.legend(scennames)\n",
    "plt.title('Cumulative Virgin Material Demands')\n",
    "plt.ylabel('Virgin Material Requirements\\n[billion tonnes]')\n",
    "#plt.xticks(rotation=90)"
   ]
  },
  {
   "cell_type": "code",
   "execution_count": null,
   "id": "20fd3fb9",
   "metadata": {},
   "outputs": [],
   "source": [
    "cumu_lifecycle_wastes3 = cc_cumu3.filter(like='WasteAll_Module')\n",
    "wastes3 = cumu_lifecycle_wastes3.loc[2100]\n",
    "wastes3.index= scennames_labels3\n",
    "\n",
    "plt.bar(scennames_labels3, wastes3/1e9)\n",
    "#plt.legend(scennames)\n",
    "plt.title('Cumulative Lifecycle Wastes')\n",
    "plt.ylabel('Lifecycle Wastes\\n[billion tonnes]')"
   ]
  },
  {
   "cell_type": "code",
   "execution_count": null,
   "id": "e4f4fb4a",
   "metadata": {},
   "outputs": [],
   "source": [
    "cumu_e_demands3"
   ]
  },
  {
   "cell_type": "code",
   "execution_count": null,
   "id": "2a2f3be0",
   "metadata": {
    "scrolled": false
   },
   "outputs": [],
   "source": [
    "e_annual_sumDemands3 = energy_demands3.filter(like='demand_total')\n",
    "e_annual_sumDemands_cumu3 = e_annual_sumDemands3.cumsum()\n",
    "cumu_e_demands3 = e_annual_sumDemands_cumu3.loc[2100]\n",
    "cumu_e_demands3.index= scennames_labels3\n",
    "\n",
    "plt.bar(scennames_labels3, cumu_e_demands3/1e12)\n",
    "plt.title('Cumulative Lifecycle Energy Demands')\n",
    "plt.ylabel('Cumulative Energy Demands\\n[TWh]')\n",
    "plt.xticks(rotation=90)"
   ]
  },
  {
   "cell_type": "code",
   "execution_count": null,
   "id": "31ef18fd",
   "metadata": {
    "scrolled": false
   },
   "outputs": [],
   "source": [
    "cumu_e_demands3_norm = cumu_e_demands3/cumu_e_demands3.loc['PV_ICE']-1\n",
    "plt.bar(scennames_labels3, cumu_e_demands3_norm)\n",
    "plt.title('Energy Demands - Normalized')\n",
    "plt.ylabel('Fraction Change from Baseline')\n",
    "plt.xticks(rotation=90)"
   ]
  },
  {
   "cell_type": "code",
   "execution_count": null,
   "id": "3aab9fdd",
   "metadata": {},
   "outputs": [],
   "source": [
    "energyGen3"
   ]
  },
  {
   "cell_type": "code",
   "execution_count": null,
   "id": "ee3bb4f0",
   "metadata": {},
   "outputs": [],
   "source": [
    "energyGen_cumu3 = energyGen3.cumsum()\n",
    "energyGen_cumu3.columns = e_annual_sumDemands_cumu3.columns = scennames_labels3\n",
    "netEnergy_cumu3 = energyGen_cumu3.loc[[2100]] - e_annual_sumDemands_cumu3.loc[[2100]]\n",
    "#netEnergy_cumu.index= scennames_labels\n",
    "\n",
    "plt.bar(scennames_labels3, netEnergy_cumu3.loc[2100]/1e12)\n",
    "plt.title('Net Energy Cumulatively')\n",
    "plt.ylabel('Cumulative Net Energy [TWh]')"
   ]
  },
  {
   "cell_type": "code",
   "execution_count": null,
   "id": "7789f7e9",
   "metadata": {},
   "outputs": [],
   "source": [
    "netEnergy_cumu_norm3 = netEnergy_cumu3/netEnergy_cumu3.loc[2100,'PV_ICE']\n",
    "netEnergy_cumu_norm_waterfall3 = netEnergy_cumu_norm3-1\n",
    "\n",
    "plt.bar(scennames_labels3, netEnergy_cumu_norm_waterfall3.loc[2100])\n",
    "plt.title('Net Energy Cumulatively Relative to PV ICE')\n",
    "plt.ylabel('Relative Cumulative Net Energy')\n",
    "#plt.ylim(-0.026,0.005)\n",
    "plt.plot(0.0, lw=2)\n",
    "plt.xticks(rotation=90)"
   ]
  },
  {
   "cell_type": "code",
   "execution_count": null,
   "id": "683f6b65",
   "metadata": {},
   "outputs": [],
   "source": [
    "energyBalance_allyears3 = energyGen_cumu3/e_annual_sumDemands_cumu3\n",
    "energyBalance3 = energyBalance_allyears3.loc[2100]\n",
    "energyBalance3.index = scennames_labels3\n",
    "\n",
    "plt.bar(scennames_labels3, energyBalance3)\n",
    "plt.title('Energy Balance')\n",
    "plt.ylabel('Unitless')"
   ]
  },
  {
   "cell_type": "code",
   "execution_count": null,
   "id": "5e3b2a33",
   "metadata": {
    "scrolled": false
   },
   "outputs": [],
   "source": [
    "energyBalance3_norm = energyBalance3/energyBalance3.loc['PV_ICE']-1\n",
    "plt.bar(scennames_labels3, energyBalance3_norm)\n",
    "plt.title('Energy Balance - Normalized')\n",
    "plt.ylabel('Unitless')\n",
    "plt.xticks(rotation=90)"
   ]
  },
  {
   "cell_type": "code",
   "execution_count": null,
   "id": "3d783a7a",
   "metadata": {
    "scrolled": false
   },
   "outputs": [],
   "source": [
    "discussTable3 = pd.concat([total_installed3,cumu_area_deployed3_total,virgin3,wastes3,\n",
    "                           cumu_e_demands3, netEnergy_cumu3.loc[2100].T, energyBalance3],\n",
    "                         axis=1, keys=['replacements','area','virgin','wastes','energydemand','netenergy','energybalance'])\n",
    "#discussTable.to_csv(os.path.join(testfolder,'discussiontable.csv'))\n",
    "discussTable3"
   ]
  },
  {
   "cell_type": "code",
   "execution_count": null,
   "id": "c270f894",
   "metadata": {},
   "outputs": [],
   "source": [
    "discussTable3_norm = (discussTable3/discussTable3.loc['PV_ICE'])*100-100\n",
    "discussTable3_norm"
   ]
  },
  {
   "cell_type": "code",
   "execution_count": null,
   "id": "3ce85598",
   "metadata": {},
   "outputs": [],
   "source": []
  },
  {
   "cell_type": "code",
   "execution_count": null,
   "id": "83c279f8",
   "metadata": {},
   "outputs": [],
   "source": []
  }
 ],
 "metadata": {
  "kernelspec": {
   "display_name": "Python 3 (ipykernel)",
   "language": "python",
   "name": "python3"
  },
  "language_info": {
   "codemirror_mode": {
    "name": "ipython",
    "version": 3
   },
   "file_extension": ".py",
   "mimetype": "text/x-python",
   "name": "python",
   "nbconvert_exporter": "python",
   "pygments_lexer": "ipython3",
   "version": "3.8.8"
  }
 },
 "nbformat": 4,
 "nbformat_minor": 5
}
