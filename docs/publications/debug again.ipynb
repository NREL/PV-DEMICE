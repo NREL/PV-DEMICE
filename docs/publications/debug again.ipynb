{
 "cells": [
  {
   "cell_type": "code",
   "execution_count": 1,
   "id": "5ef8a789",
   "metadata": {},
   "outputs": [],
   "source": [
    "import numpy as np\n",
    "import pandas as pd\n",
    "import os,sys\n",
    "from pathlib import Path\n",
    "import matplotlib.pyplot as plt\n",
    "\n",
    "cwd = os.getcwd() #grabs current working directory\n",
    "\n",
    "testfolder = str(Path().resolve().parent.parent / 'PV_ICE' / 'TEMP' / 'EnergyAnalysis'/'Sensitivity')\n",
    "inputfolder = str(Path().resolve().parent.parent / 'PV_ICE' / 'TEMP')\n",
    "baselinesfolder = str(Path().resolve().parent.parent /'PV_ICE' / 'baselines')\n",
    "supportMatfolder = str(Path().resolve().parent.parent / 'PV_ICE' / 'baselines' / 'SupportingMaterial')\n",
    "altBaselinesfolder = str(Path().resolve().parent.parent / 'PV_ICE' / 'baselines' / 'Energy_CellModuleTechCompare')\n",
    "\n",
    "if not os.path.exists(testfolder):\n",
    "    os.makedirs(testfolder)"
   ]
  },
  {
   "cell_type": "code",
   "execution_count": 2,
   "id": "2a98bcca",
   "metadata": {},
   "outputs": [
    {
     "name": "stdout",
     "output_type": "stream",
     "text": [
      "3.8.8\n"
     ]
    }
   ],
   "source": [
    "from platform import python_version \n",
    "print(python_version())"
   ]
  },
  {
   "cell_type": "code",
   "execution_count": 3,
   "id": "9deef402",
   "metadata": {},
   "outputs": [
    {
     "data": {
      "text/plain": [
       "'v0.2.0+486.g25106de.dirty'"
      ]
     },
     "execution_count": 3,
     "metadata": {},
     "output_type": "execute_result"
    }
   ],
   "source": [
    "import PV_ICE\n",
    "PV_ICE.__version__"
   ]
  },
  {
   "cell_type": "code",
   "execution_count": 4,
   "id": "41e82cae",
   "metadata": {},
   "outputs": [],
   "source": [
    "MATERIALS = ['glass', 'silicon', 'silver', 'aluminium_frames', 'copper', 'encapsulant', 'backsheet']\n",
    "moduleFile_m = os.path.join(baselinesfolder, 'baseline_modules_mass_US.csv')\n",
    "moduleFile_e = os.path.join(baselinesfolder, 'baseline_modules_energy.csv')"
   ]
  },
  {
   "cell_type": "code",
   "execution_count": 5,
   "id": "d5e3521c",
   "metadata": {},
   "outputs": [],
   "source": [
    "timeshift = 2022-1995"
   ]
  },
  {
   "cell_type": "code",
   "execution_count": 6,
   "id": "b3671bac",
   "metadata": {},
   "outputs": [
    {
     "name": "stdout",
     "output_type": "stream",
     "text": [
      "path = C:\\Users\\hmirletz\\Documents\\GitHub\\PV_ICE\\PV_ICE\\TEMP\\EnergyAnalysis\\Sensitivity\n",
      "Baseline folder directed to default:  C:\\Users\\hmirletz\\Documents\\GitHub\\PV_ICE\\PV_ICE\\baselines\n"
     ]
    }
   ],
   "source": [
    "#load in a baseline and materials for modification\n",
    "sim1 = PV_ICE.Simulation(name='sim1', path=testfolder)\n",
    "\n",
    "sim1.createScenario(name='PV_ICE', massmodulefile=moduleFile_m, energymodulefile=moduleFile_e)\n",
    "for mat in range (0, len(MATERIALS)):\n",
    "    matbaseline_m = os.path.join(baselinesfolder,'baseline_material_mass_'+MATERIALS[mat]+'.csv')\n",
    "    matbaseline_e = os.path.join(baselinesfolder,'baseline_material_energy_'+MATERIALS[mat]+'.csv')\n",
    "    sim1.scenario['PV_ICE'].addMaterial(MATERIALS[mat], massmatfile=matbaseline_m, energymatfile=matbaseline_e)"
   ]
  },
  {
   "cell_type": "code",
   "execution_count": 7,
   "id": "2464110c",
   "metadata": {},
   "outputs": [],
   "source": [
    "mod_circ_vars = ['mod_EOL_pg4_recycled', 'mod_EOL_pb4_recycled']\n",
    "\n",
    "mod_alt_paths = ['mod_EOL_pg0_resell','mod_EOL_pg1_landfill','mod_EOL_pg2_stored','mod_EOL_pg3_reMFG',\n",
    "                 'mod_EOL_reMFG_yield','mod_EOL_sp_reMFG_recycle',\n",
    "                 'mod_EOL_pb1_landfill','mod_EOL_pb2_stored','mod_EOL_pb3_reMFG']\n",
    "\n",
    "mat_circ_vars = ['mat_MFG_scrap_Recycled', 'mat_MFG_scrap_Recycling_eff', 'mat_MFG_scrap_Recycled_into_HQ',\n",
    "                 'mat_MFG_scrap_Recycled_into_HQ_Reused4MFG', 'mat_PG4_Recycling_target', 'mat_Recycling_yield',\n",
    "                 'mat_EOL_Recycled_into_HQ', 'mat_EOL_RecycledHQ_Reused4MFG']"
   ]
  },
  {
   "cell_type": "code",
   "execution_count": 8,
   "id": "237cfee1",
   "metadata": {},
   "outputs": [],
   "source": [
    "sim1.createScenario(name='circ_high', massmodulefile=moduleFile_m, energymodulefile=moduleFile_e)\n",
    "for mat in range (0, len(MATERIALS)):\n",
    "    matbaseline_m = os.path.join(baselinesfolder,'baseline_material_mass_'+MATERIALS[mat]+'.csv')\n",
    "    matbaseline_e = os.path.join(baselinesfolder,'baseline_material_energy_'+MATERIALS[mat]+'.csv')\n",
    "    sim1.scenario['circ_high'].addMaterial(MATERIALS[mat], massmatfile=matbaseline_m, energymatfile=matbaseline_e)\n",
    "    \n",
    "for var in range(0,len(mod_alt_paths)):\n",
    "    sim1.modifyScenario('circ_high', mod_alt_paths[var], 0.0, start_year=2022) #set non recycle to 0   \n",
    "\n",
    "sim1.modifyScenario('circ_high', 'mod_EOL_collection_eff',100.0, start_year=2022) #collect everything\n",
    "    \n",
    "for var in range(0,len(mod_circ_vars)):\n",
    "    sim1.modifyScenario('circ_high', mod_circ_vars[var], 100.0, start_year=2022) #set recycle paths to 100%\n",
    "\n",
    "for mat in range (0, len(MATERIALS)):\n",
    "    for mvar in range(0,len(mat_circ_vars)):\n",
    "        sim1.scenario['circ_high'].modifyMaterials(MATERIALS[mat], mat_circ_vars[mvar],100.0, start_year=2022) #\n",
    "        #sim1.scenario['circ_high'].modifyMaterials(MATERIALS[mat], 'mat_PG4_Recycling_target',100.0, start_year=2022) #"
   ]
  },
  {
   "cell_type": "code",
   "execution_count": 9,
   "id": "ab9fa10f",
   "metadata": {},
   "outputs": [],
   "source": [
    "sim1.createScenario(name='circ_mid', massmodulefile=moduleFile_m, energymodulefile=moduleFile_e)\n",
    "for mat in range (0, len(MATERIALS)):\n",
    "    matbaseline_m = os.path.join(baselinesfolder,'baseline_material_mass_'+MATERIALS[mat]+'.csv')\n",
    "    matbaseline_e = os.path.join(baselinesfolder,'baseline_material_energy_'+MATERIALS[mat]+'.csv')\n",
    "    sim1.scenario['circ_mid'].addMaterial(MATERIALS[mat], massmatfile=matbaseline_m, energymatfile=matbaseline_e)\n",
    "    \n",
    "for var in range(0,len(mod_alt_paths)):\n",
    "    sim1.modifyScenario('circ_mid', mod_alt_paths[var], 0.0, start_year=2022) #set non recycle to 0   \n",
    "\n",
    "sim1.modifyScenario('circ_mid', 'mod_EOL_collection_eff',100.0, start_year=2022) #collect everything\n",
    "    \n",
    "for var in range(0,len(mod_circ_vars)):\n",
    "    sim1.modifyScenario('circ_mid', mod_circ_vars[var], 25.0, start_year=2022) #set recycle paths to 25%\n",
    "\n",
    "for mat in range (0, len(MATERIALS)):\n",
    "    for mvar in range(0,len(mat_circ_vars)):\n",
    "        sim1.scenario['circ_mid'].modifyMaterials(MATERIALS[mat], mat_circ_vars[mvar],100.0, start_year=2022) #\n",
    "        #sim1.scenario['circ_mid'].modifyMaterials(MATERIALS[mat], 'mat_PG4_Recycling_target',25.0, start_year=2022) #"
   ]
  },
  {
   "cell_type": "code",
   "execution_count": 10,
   "id": "effe922f",
   "metadata": {},
   "outputs": [],
   "source": [
    "sim1.createScenario(name='circ_low', massmodulefile=moduleFile_m, energymodulefile=moduleFile_e)\n",
    "for mat in range (0, len(MATERIALS)):\n",
    "    matbaseline_m = os.path.join(baselinesfolder,'baseline_material_mass_'+MATERIALS[mat]+'.csv')\n",
    "    matbaseline_e = os.path.join(baselinesfolder,'baseline_material_energy_'+MATERIALS[mat]+'.csv')\n",
    "    sim1.scenario['circ_low'].addMaterial(MATERIALS[mat], massmatfile=matbaseline_m, energymatfile=matbaseline_e)\n",
    "    \n",
    "#sim1.scenMod_noCircularity(scenarios='circ_low') #sets all years to 0\n",
    "    \n",
    "for var in range(0,len(mod_circ_vars)):\n",
    "    sim1.modifyScenario('circ_low', mod_circ_vars[var],0.0, start_year=2022) #set recycle to 0\n",
    "    \n",
    "for var in range(0,len(mod_alt_paths)):\n",
    "    sim1.modifyScenario('circ_low', mod_alt_paths[var], 0.0, start_year=2022) #set non recycle to 0   \n",
    "\n",
    "sim1.modifyScenario('circ_low', 'mod_EOL_collection_eff',0.0, start_year=2022) #collect nothing\n",
    "\n",
    "sim1.modifyScenario('circ_low','mod_EOL_pb1_landfill',100.0,start_year=2022) #landfill up just in case\n",
    "sim1.modifyScenario('circ_low','mod_EOL_pg1_landfill',100.0,start_year=2022)\n",
    "\n",
    "for mat in range (0, len(MATERIALS)):\n",
    "    for mvar in range(0,len(mat_circ_vars)):\n",
    "        sim1.scenario['circ_low'].modifyMaterials(MATERIALS[mat], mat_circ_vars[mvar],0.0, start_year=2022) #"
   ]
  },
  {
   "cell_type": "code",
   "execution_count": 13,
   "id": "fbfadbd9",
   "metadata": {},
   "outputs": [],
   "source": [
    "global_projection = pd.read_csv(os.path.join(supportMatfolder,'output-globalInstallsProjection.csv'), index_col=0)"
   ]
  },
  {
   "cell_type": "code",
   "execution_count": 14,
   "id": "ef354d8f",
   "metadata": {
    "scrolled": true
   },
   "outputs": [
    {
     "name": "stdout",
     "output_type": "stream",
     "text": [
      "Trimming and extending  PV_ICE\n",
      "PV_ICE glass : Data trimmed for Energy, years now encompass  2000  to  2100\n",
      "PV_ICE silicon : Data trimmed for Energy, years now encompass  2000  to  2100\n",
      "PV_ICE silver : Data trimmed for Energy, years now encompass  2000  to  2100\n",
      "PV_ICE aluminium_frames : Data trimmed for Energy, years now encompass  2000  to  2100\n",
      "PV_ICE copper : Data trimmed for Energy, years now encompass  2000  to  2100\n",
      "PV_ICE encapsulant : Data trimmed for Energy, years now encompass  2000  to  2100\n",
      "PV_ICE backsheet : Data trimmed for Energy, years now encompass  2000  to  2100\n",
      "PV_ICE backsheet : Data trimmed for Mass, years now encompass  2000  to  2100\n",
      "Trimming and extending  circ_high\n",
      "circ_high glass : Data trimmed for Energy, years now encompass  2000  to  2100\n",
      "circ_high silicon : Data trimmed for Energy, years now encompass  2000  to  2100\n",
      "circ_high silver : Data trimmed for Energy, years now encompass  2000  to  2100\n",
      "circ_high aluminium_frames : Data trimmed for Energy, years now encompass  2000  to  2100\n",
      "circ_high copper : Data trimmed for Energy, years now encompass  2000  to  2100\n",
      "circ_high encapsulant : Data trimmed for Energy, years now encompass  2000  to  2100\n",
      "circ_high backsheet : Data trimmed for Energy, years now encompass  2000  to  2100\n",
      "circ_high backsheet : Data trimmed for Mass, years now encompass  2000  to  2100\n",
      "Trimming and extending  circ_mid\n",
      "circ_mid glass : Data trimmed for Energy, years now encompass  2000  to  2100\n",
      "circ_mid silicon : Data trimmed for Energy, years now encompass  2000  to  2100\n",
      "circ_mid silver : Data trimmed for Energy, years now encompass  2000  to  2100\n",
      "circ_mid aluminium_frames : Data trimmed for Energy, years now encompass  2000  to  2100\n",
      "circ_mid copper : Data trimmed for Energy, years now encompass  2000  to  2100\n",
      "circ_mid encapsulant : Data trimmed for Energy, years now encompass  2000  to  2100\n",
      "circ_mid backsheet : Data trimmed for Energy, years now encompass  2000  to  2100\n",
      "circ_mid backsheet : Data trimmed for Mass, years now encompass  2000  to  2100\n",
      "Trimming and extending  circ_low\n",
      "circ_low glass : Data trimmed for Energy, years now encompass  2000  to  2100\n",
      "circ_low silicon : Data trimmed for Energy, years now encompass  2000  to  2100\n",
      "circ_low silver : Data trimmed for Energy, years now encompass  2000  to  2100\n",
      "circ_low aluminium_frames : Data trimmed for Energy, years now encompass  2000  to  2100\n",
      "circ_low copper : Data trimmed for Energy, years now encompass  2000  to  2100\n",
      "circ_low encapsulant : Data trimmed for Energy, years now encompass  2000  to  2100\n",
      "circ_low backsheet : Data trimmed for Energy, years now encompass  2000  to  2100\n",
      "circ_low backsheet : Data trimmed for Mass, years now encompass  2000  to  2100\n"
     ]
    }
   ],
   "source": [
    "#trim to start in 2000, this trims module and materials\n",
    "#had to specify and end year, cannot use to extend\n",
    "sim1.trim_Years(startYear=2000, endYear=2100)"
   ]
  },
  {
   "cell_type": "code",
   "execution_count": 15,
   "id": "d8ea9faf",
   "metadata": {},
   "outputs": [],
   "source": [
    "#deployment projection for all scenarios\n",
    "sim1.modifyScenario(scenarios=None,stage='new_Installed_Capacity_[MW]', \n",
    "                    value= global_projection['World_annual_[MWdc]'], start_year=2000)"
   ]
  },
  {
   "cell_type": "code",
   "execution_count": null,
   "id": "c66b423c",
   "metadata": {},
   "outputs": [],
   "source": []
  },
  {
   "cell_type": "code",
   "execution_count": 16,
   "id": "7cf8ac97",
   "metadata": {
    "scrolled": true
   },
   "outputs": [
    {
     "name": "stdout",
     "output_type": "stream",
     "text": [
      ">>>> Calculating Material Flows <<<<\n",
      "\n",
      "Working on Scenario:  PV_ICE\n",
      "********************\n",
      "Finished Area+Power Generation Calculations\n",
      "==> Working on Material :  glass\n",
      "==> Working on Material :  silicon\n",
      "==> Working on Material :  silver\n",
      "==> Working on Material :  aluminium_frames\n",
      "==> Working on Material :  copper\n",
      "==> Working on Material :  encapsulant\n",
      "==> Working on Material :  backsheet\n",
      "Working on Scenario:  circ_high\n",
      "********************\n",
      "Finished Area+Power Generation Calculations\n",
      "==> Working on Material :  glass\n",
      "Recycled surplus End of Sim for Mat  glass  Scenario  circ_high  =  2787030969.8975344  tonnes.\n",
      "==> Working on Material :  silicon\n",
      "Recycled surplus End of Sim for Mat  silicon  Scenario  circ_high  =  92130764.51066588  tonnes.\n",
      "==> Working on Material :  silver\n",
      "Recycled surplus End of Sim for Mat  silver  Scenario  circ_high  =  522204.79505684547  tonnes.\n",
      "==> Working on Material :  aluminium_frames\n",
      "Recycled surplus End of Sim for Mat  aluminium_frames  Scenario  circ_high  =  315960505.1026145  tonnes.\n",
      "==> Working on Material :  copper\n",
      "Recycled surplus End of Sim for Mat  copper  Scenario  circ_high  =  1904912.986497598  tonnes.\n",
      "==> Working on Material :  encapsulant\n",
      "Recycled surplus End of Sim for Mat  encapsulant  Scenario  circ_high  =  185857396.31027597  tonnes.\n",
      "==> Working on Material :  backsheet\n",
      "Recycled surplus End of Sim for Mat  backsheet  Scenario  circ_high  =  78240039.20964287  tonnes.\n",
      "Working on Scenario:  circ_mid\n",
      "********************\n",
      "Finished Area+Power Generation Calculations\n",
      "==> Working on Material :  glass\n",
      "Recycled surplus End of Sim for Mat  glass  Scenario  circ_mid  =  426233162.6874477  tonnes.\n",
      "==> Working on Material :  silicon\n",
      "Recycled surplus End of Sim for Mat  silicon  Scenario  circ_mid  =  14056687.844464416  tonnes.\n",
      "==> Working on Material :  silver\n",
      "Recycled surplus End of Sim for Mat  silver  Scenario  circ_mid  =  79082.69019301583  tonnes.\n",
      "==> Working on Material :  aluminium_frames\n",
      "Recycled surplus End of Sim for Mat  aluminium_frames  Scenario  circ_mid  =  48247896.22123377  tonnes.\n",
      "==> Working on Material :  copper\n",
      "Recycled surplus End of Sim for Mat  copper  Scenario  circ_mid  =  290035.9591884496  tonnes.\n",
      "==> Working on Material :  encapsulant\n",
      "Recycled surplus End of Sim for Mat  encapsulant  Scenario  circ_mid  =  28333066.983154226  tonnes.\n",
      "==> Working on Material :  backsheet\n",
      "Recycled surplus End of Sim for Mat  backsheet  Scenario  circ_mid  =  11899991.040827412  tonnes.\n",
      "Working on Scenario:  circ_low\n",
      "********************\n",
      "Finished Area+Power Generation Calculations\n",
      "==> Working on Material :  glass\n",
      "==> Working on Material :  silicon\n",
      "==> Working on Material :  silver\n",
      "==> Working on Material :  aluminium_frames\n",
      "==> Working on Material :  copper\n",
      "==> Working on Material :  encapsulant\n",
      "==> Working on Material :  backsheet\n",
      "\n",
      "\n",
      ">>>> Calculating Energy Flows <<<<\n",
      "\n",
      "Working on Scenario:  PV_ICE\n",
      "********************\n",
      "==> Working on Energy for Material :  glass\n",
      "==> Working on Energy for Material :  silicon\n",
      "==> Working on Energy for Material :  silver\n",
      "==> Working on Energy for Material :  aluminium_frames\n",
      "==> Working on Energy for Material :  copper\n",
      "==> Working on Energy for Material :  encapsulant\n",
      "==> Working on Energy for Material :  backsheet\n",
      "Working on Scenario:  circ_high\n",
      "********************\n",
      "==> Working on Energy for Material :  glass\n",
      "==> Working on Energy for Material :  silicon\n",
      "==> Working on Energy for Material :  silver\n",
      "==> Working on Energy for Material :  aluminium_frames\n",
      "==> Working on Energy for Material :  copper\n",
      "==> Working on Energy for Material :  encapsulant\n",
      "==> Working on Energy for Material :  backsheet\n",
      "Working on Scenario:  circ_mid\n",
      "********************\n",
      "==> Working on Energy for Material :  glass\n",
      "==> Working on Energy for Material :  silicon\n",
      "==> Working on Energy for Material :  silver\n",
      "==> Working on Energy for Material :  aluminium_frames\n",
      "==> Working on Energy for Material :  copper\n",
      "==> Working on Energy for Material :  encapsulant\n",
      "==> Working on Energy for Material :  backsheet\n",
      "Working on Scenario:  circ_low\n",
      "********************\n",
      "==> Working on Energy for Material :  glass\n",
      "==> Working on Energy for Material :  silicon\n",
      "==> Working on Energy for Material :  silver\n",
      "==> Working on Energy for Material :  aluminium_frames\n",
      "==> Working on Energy for Material :  copper\n",
      "==> Working on Energy for Material :  encapsulant\n",
      "==> Working on Energy for Material :  backsheet\n"
     ]
    }
   ],
   "source": [
    "sim1.calculateFlows()"
   ]
  },
  {
   "cell_type": "code",
   "execution_count": 17,
   "id": "b9845b06",
   "metadata": {
    "scrolled": true
   },
   "outputs": [
    {
     "name": "stdout",
     "output_type": "stream",
     "text": [
      "0\n",
      "PV_ICE\n",
      ">>>> Calculating Material Flows <<<<\n",
      "\n",
      "Working on Scenario:  PV_ICE\n",
      "********************\n"
     ]
    },
    {
     "name": "stderr",
     "output_type": "stream",
     "text": [
      "C:\\Users\\hmirletz\\AppData\\Local\\Temp\\1\\ipykernel_3292\\3246415230.py:6: SettingWithCopyWarning: \n",
      "A value is trying to be set on a copy of a slice from a DataFrame\n",
      "\n",
      "See the caveats in the documentation: https://pandas.pydata.org/pandas-docs/stable/user_guide/indexing.html#returning-a-view-versus-a-copy\n",
      "  sim1.scenario[scen].dataIn_m['new_Installed_Capacity_[MW]'][row] += Under_Installment #overwrite new installed\n"
     ]
    },
    {
     "name": "stdout",
     "output_type": "stream",
     "text": [
      "Finished Area+Power Generation Calculations\n",
      "==> Working on Material :  glass\n",
      "==> Working on Material :  silicon\n",
      "==> Working on Material :  silver\n",
      "==> Working on Material :  aluminium_frames\n",
      "==> Working on Material :  copper\n",
      "==> Working on Material :  encapsulant\n",
      "==> Working on Material :  backsheet\n",
      "circ_high\n",
      ">>>> Calculating Material Flows <<<<\n",
      "\n",
      "Working on Scenario:  circ_high\n",
      "********************\n"
     ]
    },
    {
     "name": "stderr",
     "output_type": "stream",
     "text": [
      "C:\\Users\\hmirletz\\AppData\\Local\\Temp\\1\\ipykernel_3292\\3246415230.py:6: SettingWithCopyWarning: \n",
      "A value is trying to be set on a copy of a slice from a DataFrame\n",
      "\n",
      "See the caveats in the documentation: https://pandas.pydata.org/pandas-docs/stable/user_guide/indexing.html#returning-a-view-versus-a-copy\n",
      "  sim1.scenario[scen].dataIn_m['new_Installed_Capacity_[MW]'][row] += Under_Installment #overwrite new installed\n"
     ]
    },
    {
     "name": "stdout",
     "output_type": "stream",
     "text": [
      "Finished Area+Power Generation Calculations\n",
      "==> Working on Material :  glass\n",
      "Recycled surplus End of Sim for Mat  glass  Scenario  circ_high  =  2787030969.8975344  tonnes.\n",
      "==> Working on Material :  silicon\n",
      "Recycled surplus End of Sim for Mat  silicon  Scenario  circ_high  =  92130764.51066588  tonnes.\n",
      "==> Working on Material :  silver\n",
      "Recycled surplus End of Sim for Mat  silver  Scenario  circ_high  =  522204.79505684547  tonnes.\n",
      "==> Working on Material :  aluminium_frames\n",
      "Recycled surplus End of Sim for Mat  aluminium_frames  Scenario  circ_high  =  315960505.1026145  tonnes.\n",
      "==> Working on Material :  copper\n",
      "Recycled surplus End of Sim for Mat  copper  Scenario  circ_high  =  1904912.986497598  tonnes.\n",
      "==> Working on Material :  encapsulant\n",
      "Recycled surplus End of Sim for Mat  encapsulant  Scenario  circ_high  =  185857396.31027597  tonnes.\n",
      "==> Working on Material :  backsheet\n",
      "Recycled surplus End of Sim for Mat  backsheet  Scenario  circ_high  =  78240039.20964287  tonnes.\n",
      "circ_mid\n",
      ">>>> Calculating Material Flows <<<<\n",
      "\n",
      "Working on Scenario:  circ_mid\n",
      "********************\n"
     ]
    },
    {
     "name": "stderr",
     "output_type": "stream",
     "text": [
      "C:\\Users\\hmirletz\\AppData\\Local\\Temp\\1\\ipykernel_3292\\3246415230.py:6: SettingWithCopyWarning: \n",
      "A value is trying to be set on a copy of a slice from a DataFrame\n",
      "\n",
      "See the caveats in the documentation: https://pandas.pydata.org/pandas-docs/stable/user_guide/indexing.html#returning-a-view-versus-a-copy\n",
      "  sim1.scenario[scen].dataIn_m['new_Installed_Capacity_[MW]'][row] += Under_Installment #overwrite new installed\n"
     ]
    },
    {
     "name": "stdout",
     "output_type": "stream",
     "text": [
      "Finished Area+Power Generation Calculations\n",
      "==> Working on Material :  glass\n",
      "Recycled surplus End of Sim for Mat  glass  Scenario  circ_mid  =  426233162.6874477  tonnes.\n",
      "==> Working on Material :  silicon\n",
      "Recycled surplus End of Sim for Mat  silicon  Scenario  circ_mid  =  14056687.844464416  tonnes.\n",
      "==> Working on Material :  silver\n",
      "Recycled surplus End of Sim for Mat  silver  Scenario  circ_mid  =  79082.69019301583  tonnes.\n",
      "==> Working on Material :  aluminium_frames\n",
      "Recycled surplus End of Sim for Mat  aluminium_frames  Scenario  circ_mid  =  48247896.22123377  tonnes.\n",
      "==> Working on Material :  copper\n",
      "Recycled surplus End of Sim for Mat  copper  Scenario  circ_mid  =  290035.9591884496  tonnes.\n",
      "==> Working on Material :  encapsulant\n",
      "Recycled surplus End of Sim for Mat  encapsulant  Scenario  circ_mid  =  28333066.983154226  tonnes.\n",
      "==> Working on Material :  backsheet\n",
      "Recycled surplus End of Sim for Mat  backsheet  Scenario  circ_mid  =  11899991.040827412  tonnes.\n",
      "circ_low\n",
      ">>>> Calculating Material Flows <<<<\n",
      "\n",
      "Working on Scenario:  circ_low\n",
      "********************\n"
     ]
    },
    {
     "name": "stderr",
     "output_type": "stream",
     "text": [
      "C:\\Users\\hmirletz\\AppData\\Local\\Temp\\1\\ipykernel_3292\\3246415230.py:6: SettingWithCopyWarning: \n",
      "A value is trying to be set on a copy of a slice from a DataFrame\n",
      "\n",
      "See the caveats in the documentation: https://pandas.pydata.org/pandas-docs/stable/user_guide/indexing.html#returning-a-view-versus-a-copy\n",
      "  sim1.scenario[scen].dataIn_m['new_Installed_Capacity_[MW]'][row] += Under_Installment #overwrite new installed\n"
     ]
    },
    {
     "name": "stdout",
     "output_type": "stream",
     "text": [
      "Finished Area+Power Generation Calculations\n",
      "==> Working on Material :  glass\n",
      "==> Working on Material :  silicon\n",
      "==> Working on Material :  silver\n",
      "==> Working on Material :  aluminium_frames\n",
      "==> Working on Material :  copper\n",
      "==> Working on Material :  encapsulant\n",
      "==> Working on Material :  backsheet\n",
      "1\n",
      "PV_ICE\n",
      ">>>> Calculating Material Flows <<<<\n",
      "\n",
      "Working on Scenario:  PV_ICE\n",
      "********************\n"
     ]
    },
    {
     "name": "stderr",
     "output_type": "stream",
     "text": [
      "C:\\Users\\hmirletz\\AppData\\Local\\Temp\\1\\ipykernel_3292\\3246415230.py:6: SettingWithCopyWarning: \n",
      "A value is trying to be set on a copy of a slice from a DataFrame\n",
      "\n",
      "See the caveats in the documentation: https://pandas.pydata.org/pandas-docs/stable/user_guide/indexing.html#returning-a-view-versus-a-copy\n",
      "  sim1.scenario[scen].dataIn_m['new_Installed_Capacity_[MW]'][row] += Under_Installment #overwrite new installed\n"
     ]
    },
    {
     "name": "stdout",
     "output_type": "stream",
     "text": [
      "Finished Area+Power Generation Calculations\n",
      "==> Working on Material :  glass\n",
      "==> Working on Material :  silicon\n",
      "==> Working on Material :  silver\n",
      "==> Working on Material :  aluminium_frames\n",
      "==> Working on Material :  copper\n",
      "==> Working on Material :  encapsulant\n",
      "==> Working on Material :  backsheet\n",
      "circ_high\n",
      ">>>> Calculating Material Flows <<<<\n",
      "\n",
      "Working on Scenario:  circ_high\n",
      "********************\n"
     ]
    },
    {
     "name": "stderr",
     "output_type": "stream",
     "text": [
      "C:\\Users\\hmirletz\\AppData\\Local\\Temp\\1\\ipykernel_3292\\3246415230.py:6: SettingWithCopyWarning: \n",
      "A value is trying to be set on a copy of a slice from a DataFrame\n",
      "\n",
      "See the caveats in the documentation: https://pandas.pydata.org/pandas-docs/stable/user_guide/indexing.html#returning-a-view-versus-a-copy\n",
      "  sim1.scenario[scen].dataIn_m['new_Installed_Capacity_[MW]'][row] += Under_Installment #overwrite new installed\n"
     ]
    },
    {
     "name": "stdout",
     "output_type": "stream",
     "text": [
      "Finished Area+Power Generation Calculations\n",
      "==> Working on Material :  glass\n",
      "Recycled surplus End of Sim for Mat  glass  Scenario  circ_high  =  2787030969.8975344  tonnes.\n",
      "==> Working on Material :  silicon\n",
      "Recycled surplus End of Sim for Mat  silicon  Scenario  circ_high  =  92130764.51066588  tonnes.\n",
      "==> Working on Material :  silver\n",
      "Recycled surplus End of Sim for Mat  silver  Scenario  circ_high  =  522204.79505684547  tonnes.\n",
      "==> Working on Material :  aluminium_frames\n",
      "Recycled surplus End of Sim for Mat  aluminium_frames  Scenario  circ_high  =  315960505.1026145  tonnes.\n",
      "==> Working on Material :  copper\n",
      "Recycled surplus End of Sim for Mat  copper  Scenario  circ_high  =  1904912.986497598  tonnes.\n",
      "==> Working on Material :  encapsulant\n",
      "Recycled surplus End of Sim for Mat  encapsulant  Scenario  circ_high  =  185857396.31027597  tonnes.\n",
      "==> Working on Material :  backsheet\n",
      "Recycled surplus End of Sim for Mat  backsheet  Scenario  circ_high  =  78240039.20964287  tonnes.\n",
      "circ_mid\n",
      ">>>> Calculating Material Flows <<<<\n",
      "\n",
      "Working on Scenario:  circ_mid\n",
      "********************\n"
     ]
    },
    {
     "name": "stderr",
     "output_type": "stream",
     "text": [
      "C:\\Users\\hmirletz\\AppData\\Local\\Temp\\1\\ipykernel_3292\\3246415230.py:6: SettingWithCopyWarning: \n",
      "A value is trying to be set on a copy of a slice from a DataFrame\n",
      "\n",
      "See the caveats in the documentation: https://pandas.pydata.org/pandas-docs/stable/user_guide/indexing.html#returning-a-view-versus-a-copy\n",
      "  sim1.scenario[scen].dataIn_m['new_Installed_Capacity_[MW]'][row] += Under_Installment #overwrite new installed\n"
     ]
    },
    {
     "name": "stdout",
     "output_type": "stream",
     "text": [
      "Finished Area+Power Generation Calculations\n",
      "==> Working on Material :  glass\n",
      "Recycled surplus End of Sim for Mat  glass  Scenario  circ_mid  =  426233162.6874477  tonnes.\n",
      "==> Working on Material :  silicon\n",
      "Recycled surplus End of Sim for Mat  silicon  Scenario  circ_mid  =  14056687.844464416  tonnes.\n",
      "==> Working on Material :  silver\n",
      "Recycled surplus End of Sim for Mat  silver  Scenario  circ_mid  =  79082.69019301583  tonnes.\n",
      "==> Working on Material :  aluminium_frames\n",
      "Recycled surplus End of Sim for Mat  aluminium_frames  Scenario  circ_mid  =  48247896.22123377  tonnes.\n",
      "==> Working on Material :  copper\n",
      "Recycled surplus End of Sim for Mat  copper  Scenario  circ_mid  =  290035.9591884496  tonnes.\n",
      "==> Working on Material :  encapsulant\n",
      "Recycled surplus End of Sim for Mat  encapsulant  Scenario  circ_mid  =  28333066.983154226  tonnes.\n",
      "==> Working on Material :  backsheet\n",
      "Recycled surplus End of Sim for Mat  backsheet  Scenario  circ_mid  =  11899991.040827412  tonnes.\n",
      "circ_low\n",
      ">>>> Calculating Material Flows <<<<\n",
      "\n",
      "Working on Scenario:  circ_low\n",
      "********************\n"
     ]
    },
    {
     "name": "stderr",
     "output_type": "stream",
     "text": [
      "C:\\Users\\hmirletz\\AppData\\Local\\Temp\\1\\ipykernel_3292\\3246415230.py:6: SettingWithCopyWarning: \n",
      "A value is trying to be set on a copy of a slice from a DataFrame\n",
      "\n",
      "See the caveats in the documentation: https://pandas.pydata.org/pandas-docs/stable/user_guide/indexing.html#returning-a-view-versus-a-copy\n",
      "  sim1.scenario[scen].dataIn_m['new_Installed_Capacity_[MW]'][row] += Under_Installment #overwrite new installed\n"
     ]
    },
    {
     "name": "stdout",
     "output_type": "stream",
     "text": [
      "Finished Area+Power Generation Calculations\n",
      "==> Working on Material :  glass\n",
      "==> Working on Material :  silicon\n",
      "==> Working on Material :  silver\n",
      "==> Working on Material :  aluminium_frames\n",
      "==> Working on Material :  copper\n",
      "==> Working on Material :  encapsulant\n",
      "==> Working on Material :  backsheet\n",
      "2\n",
      "PV_ICE\n",
      ">>>> Calculating Material Flows <<<<\n",
      "\n",
      "Working on Scenario:  PV_ICE\n",
      "********************\n"
     ]
    },
    {
     "name": "stderr",
     "output_type": "stream",
     "text": [
      "C:\\Users\\hmirletz\\AppData\\Local\\Temp\\1\\ipykernel_3292\\3246415230.py:6: SettingWithCopyWarning: \n",
      "A value is trying to be set on a copy of a slice from a DataFrame\n",
      "\n",
      "See the caveats in the documentation: https://pandas.pydata.org/pandas-docs/stable/user_guide/indexing.html#returning-a-view-versus-a-copy\n",
      "  sim1.scenario[scen].dataIn_m['new_Installed_Capacity_[MW]'][row] += Under_Installment #overwrite new installed\n"
     ]
    },
    {
     "name": "stdout",
     "output_type": "stream",
     "text": [
      "Finished Area+Power Generation Calculations\n",
      "==> Working on Material :  glass\n",
      "==> Working on Material :  silicon\n",
      "==> Working on Material :  silver\n",
      "==> Working on Material :  aluminium_frames\n",
      "==> Working on Material :  copper\n",
      "==> Working on Material :  encapsulant\n",
      "==> Working on Material :  backsheet\n",
      "circ_high\n",
      ">>>> Calculating Material Flows <<<<\n",
      "\n",
      "Working on Scenario:  circ_high\n",
      "********************\n"
     ]
    },
    {
     "name": "stderr",
     "output_type": "stream",
     "text": [
      "C:\\Users\\hmirletz\\AppData\\Local\\Temp\\1\\ipykernel_3292\\3246415230.py:6: SettingWithCopyWarning: \n",
      "A value is trying to be set on a copy of a slice from a DataFrame\n",
      "\n",
      "See the caveats in the documentation: https://pandas.pydata.org/pandas-docs/stable/user_guide/indexing.html#returning-a-view-versus-a-copy\n",
      "  sim1.scenario[scen].dataIn_m['new_Installed_Capacity_[MW]'][row] += Under_Installment #overwrite new installed\n"
     ]
    },
    {
     "name": "stdout",
     "output_type": "stream",
     "text": [
      "Finished Area+Power Generation Calculations\n",
      "==> Working on Material :  glass\n",
      "Recycled surplus End of Sim for Mat  glass  Scenario  circ_high  =  2787030969.8975344  tonnes.\n",
      "==> Working on Material :  silicon\n",
      "Recycled surplus End of Sim for Mat  silicon  Scenario  circ_high  =  92130764.51066588  tonnes.\n",
      "==> Working on Material :  silver\n",
      "Recycled surplus End of Sim for Mat  silver  Scenario  circ_high  =  522204.79505684547  tonnes.\n",
      "==> Working on Material :  aluminium_frames\n",
      "Recycled surplus End of Sim for Mat  aluminium_frames  Scenario  circ_high  =  315960505.1026145  tonnes.\n",
      "==> Working on Material :  copper\n",
      "Recycled surplus End of Sim for Mat  copper  Scenario  circ_high  =  1904912.986497598  tonnes.\n",
      "==> Working on Material :  encapsulant\n",
      "Recycled surplus End of Sim for Mat  encapsulant  Scenario  circ_high  =  185857396.31027597  tonnes.\n",
      "==> Working on Material :  backsheet\n",
      "Recycled surplus End of Sim for Mat  backsheet  Scenario  circ_high  =  78240039.20964287  tonnes.\n",
      "circ_mid\n",
      ">>>> Calculating Material Flows <<<<\n",
      "\n",
      "Working on Scenario:  circ_mid\n",
      "********************\n"
     ]
    },
    {
     "name": "stderr",
     "output_type": "stream",
     "text": [
      "C:\\Users\\hmirletz\\AppData\\Local\\Temp\\1\\ipykernel_3292\\3246415230.py:6: SettingWithCopyWarning: \n",
      "A value is trying to be set on a copy of a slice from a DataFrame\n",
      "\n",
      "See the caveats in the documentation: https://pandas.pydata.org/pandas-docs/stable/user_guide/indexing.html#returning-a-view-versus-a-copy\n",
      "  sim1.scenario[scen].dataIn_m['new_Installed_Capacity_[MW]'][row] += Under_Installment #overwrite new installed\n"
     ]
    },
    {
     "name": "stdout",
     "output_type": "stream",
     "text": [
      "Finished Area+Power Generation Calculations\n",
      "==> Working on Material :  glass\n",
      "Recycled surplus End of Sim for Mat  glass  Scenario  circ_mid  =  426233162.6874477  tonnes.\n",
      "==> Working on Material :  silicon\n",
      "Recycled surplus End of Sim for Mat  silicon  Scenario  circ_mid  =  14056687.844464416  tonnes.\n",
      "==> Working on Material :  silver\n",
      "Recycled surplus End of Sim for Mat  silver  Scenario  circ_mid  =  79082.69019301583  tonnes.\n",
      "==> Working on Material :  aluminium_frames\n",
      "Recycled surplus End of Sim for Mat  aluminium_frames  Scenario  circ_mid  =  48247896.22123377  tonnes.\n",
      "==> Working on Material :  copper\n",
      "Recycled surplus End of Sim for Mat  copper  Scenario  circ_mid  =  290035.9591884496  tonnes.\n",
      "==> Working on Material :  encapsulant\n",
      "Recycled surplus End of Sim for Mat  encapsulant  Scenario  circ_mid  =  28333066.983154226  tonnes.\n",
      "==> Working on Material :  backsheet\n",
      "Recycled surplus End of Sim for Mat  backsheet  Scenario  circ_mid  =  11899991.040827412  tonnes.\n",
      "circ_low\n",
      ">>>> Calculating Material Flows <<<<\n",
      "\n",
      "Working on Scenario:  circ_low\n",
      "********************\n"
     ]
    },
    {
     "name": "stderr",
     "output_type": "stream",
     "text": [
      "C:\\Users\\hmirletz\\AppData\\Local\\Temp\\1\\ipykernel_3292\\3246415230.py:6: SettingWithCopyWarning: \n",
      "A value is trying to be set on a copy of a slice from a DataFrame\n",
      "\n",
      "See the caveats in the documentation: https://pandas.pydata.org/pandas-docs/stable/user_guide/indexing.html#returning-a-view-versus-a-copy\n",
      "  sim1.scenario[scen].dataIn_m['new_Installed_Capacity_[MW]'][row] += Under_Installment #overwrite new installed\n"
     ]
    },
    {
     "name": "stdout",
     "output_type": "stream",
     "text": [
      "Finished Area+Power Generation Calculations\n",
      "==> Working on Material :  glass\n",
      "==> Working on Material :  silicon\n",
      "==> Working on Material :  silver\n",
      "==> Working on Material :  aluminium_frames\n",
      "==> Working on Material :  copper\n",
      "==> Working on Material :  encapsulant\n",
      "==> Working on Material :  backsheet\n",
      "3\n",
      "PV_ICE\n",
      ">>>> Calculating Material Flows <<<<\n",
      "\n",
      "Working on Scenario:  PV_ICE\n",
      "********************\n"
     ]
    },
    {
     "name": "stderr",
     "output_type": "stream",
     "text": [
      "C:\\Users\\hmirletz\\AppData\\Local\\Temp\\1\\ipykernel_3292\\3246415230.py:6: SettingWithCopyWarning: \n",
      "A value is trying to be set on a copy of a slice from a DataFrame\n",
      "\n",
      "See the caveats in the documentation: https://pandas.pydata.org/pandas-docs/stable/user_guide/indexing.html#returning-a-view-versus-a-copy\n",
      "  sim1.scenario[scen].dataIn_m['new_Installed_Capacity_[MW]'][row] += Under_Installment #overwrite new installed\n"
     ]
    },
    {
     "name": "stdout",
     "output_type": "stream",
     "text": [
      "Finished Area+Power Generation Calculations\n",
      "==> Working on Material :  glass\n",
      "==> Working on Material :  silicon\n",
      "==> Working on Material :  silver\n",
      "==> Working on Material :  aluminium_frames\n",
      "==> Working on Material :  copper\n",
      "==> Working on Material :  encapsulant\n",
      "==> Working on Material :  backsheet\n",
      "circ_high\n",
      ">>>> Calculating Material Flows <<<<\n",
      "\n",
      "Working on Scenario:  circ_high\n",
      "********************\n"
     ]
    },
    {
     "name": "stderr",
     "output_type": "stream",
     "text": [
      "C:\\Users\\hmirletz\\AppData\\Local\\Temp\\1\\ipykernel_3292\\3246415230.py:6: SettingWithCopyWarning: \n",
      "A value is trying to be set on a copy of a slice from a DataFrame\n",
      "\n",
      "See the caveats in the documentation: https://pandas.pydata.org/pandas-docs/stable/user_guide/indexing.html#returning-a-view-versus-a-copy\n",
      "  sim1.scenario[scen].dataIn_m['new_Installed_Capacity_[MW]'][row] += Under_Installment #overwrite new installed\n"
     ]
    },
    {
     "name": "stdout",
     "output_type": "stream",
     "text": [
      "Finished Area+Power Generation Calculations\n",
      "==> Working on Material :  glass\n",
      "Recycled surplus End of Sim for Mat  glass  Scenario  circ_high  =  2787030969.8975344  tonnes.\n",
      "==> Working on Material :  silicon\n",
      "Recycled surplus End of Sim for Mat  silicon  Scenario  circ_high  =  92130764.51066588  tonnes.\n",
      "==> Working on Material :  silver\n",
      "Recycled surplus End of Sim for Mat  silver  Scenario  circ_high  =  522204.79505684547  tonnes.\n",
      "==> Working on Material :  aluminium_frames\n",
      "Recycled surplus End of Sim for Mat  aluminium_frames  Scenario  circ_high  =  315960505.1026145  tonnes.\n",
      "==> Working on Material :  copper\n",
      "Recycled surplus End of Sim for Mat  copper  Scenario  circ_high  =  1904912.986497598  tonnes.\n",
      "==> Working on Material :  encapsulant\n",
      "Recycled surplus End of Sim for Mat  encapsulant  Scenario  circ_high  =  185857396.31027597  tonnes.\n",
      "==> Working on Material :  backsheet\n",
      "Recycled surplus End of Sim for Mat  backsheet  Scenario  circ_high  =  78240039.20964287  tonnes.\n",
      "circ_mid\n",
      ">>>> Calculating Material Flows <<<<\n",
      "\n",
      "Working on Scenario:  circ_mid\n",
      "********************\n"
     ]
    },
    {
     "name": "stderr",
     "output_type": "stream",
     "text": [
      "C:\\Users\\hmirletz\\AppData\\Local\\Temp\\1\\ipykernel_3292\\3246415230.py:6: SettingWithCopyWarning: \n",
      "A value is trying to be set on a copy of a slice from a DataFrame\n",
      "\n",
      "See the caveats in the documentation: https://pandas.pydata.org/pandas-docs/stable/user_guide/indexing.html#returning-a-view-versus-a-copy\n",
      "  sim1.scenario[scen].dataIn_m['new_Installed_Capacity_[MW]'][row] += Under_Installment #overwrite new installed\n"
     ]
    },
    {
     "name": "stdout",
     "output_type": "stream",
     "text": [
      "Finished Area+Power Generation Calculations\n",
      "==> Working on Material :  glass\n",
      "Recycled surplus End of Sim for Mat  glass  Scenario  circ_mid  =  426233162.6874477  tonnes.\n",
      "==> Working on Material :  silicon\n",
      "Recycled surplus End of Sim for Mat  silicon  Scenario  circ_mid  =  14056687.844464416  tonnes.\n",
      "==> Working on Material :  silver\n",
      "Recycled surplus End of Sim for Mat  silver  Scenario  circ_mid  =  79082.69019301583  tonnes.\n",
      "==> Working on Material :  aluminium_frames\n",
      "Recycled surplus End of Sim for Mat  aluminium_frames  Scenario  circ_mid  =  48247896.22123377  tonnes.\n",
      "==> Working on Material :  copper\n",
      "Recycled surplus End of Sim for Mat  copper  Scenario  circ_mid  =  290035.9591884496  tonnes.\n",
      "==> Working on Material :  encapsulant\n",
      "Recycled surplus End of Sim for Mat  encapsulant  Scenario  circ_mid  =  28333066.983154226  tonnes.\n",
      "==> Working on Material :  backsheet\n",
      "Recycled surplus End of Sim for Mat  backsheet  Scenario  circ_mid  =  11899991.040827412  tonnes.\n",
      "circ_low\n",
      ">>>> Calculating Material Flows <<<<\n",
      "\n",
      "Working on Scenario:  circ_low\n",
      "********************\n"
     ]
    },
    {
     "name": "stderr",
     "output_type": "stream",
     "text": [
      "C:\\Users\\hmirletz\\AppData\\Local\\Temp\\1\\ipykernel_3292\\3246415230.py:6: SettingWithCopyWarning: \n",
      "A value is trying to be set on a copy of a slice from a DataFrame\n",
      "\n",
      "See the caveats in the documentation: https://pandas.pydata.org/pandas-docs/stable/user_guide/indexing.html#returning-a-view-versus-a-copy\n",
      "  sim1.scenario[scen].dataIn_m['new_Installed_Capacity_[MW]'][row] += Under_Installment #overwrite new installed\n"
     ]
    },
    {
     "name": "stdout",
     "output_type": "stream",
     "text": [
      "Finished Area+Power Generation Calculations\n",
      "==> Working on Material :  glass\n",
      "==> Working on Material :  silicon\n",
      "==> Working on Material :  silver\n",
      "==> Working on Material :  aluminium_frames\n",
      "==> Working on Material :  copper\n",
      "==> Working on Material :  encapsulant\n",
      "==> Working on Material :  backsheet\n",
      "4\n",
      "PV_ICE\n",
      ">>>> Calculating Material Flows <<<<\n",
      "\n",
      "Working on Scenario:  PV_ICE\n",
      "********************\n"
     ]
    },
    {
     "name": "stderr",
     "output_type": "stream",
     "text": [
      "C:\\Users\\hmirletz\\AppData\\Local\\Temp\\1\\ipykernel_3292\\3246415230.py:6: SettingWithCopyWarning: \n",
      "A value is trying to be set on a copy of a slice from a DataFrame\n",
      "\n",
      "See the caveats in the documentation: https://pandas.pydata.org/pandas-docs/stable/user_guide/indexing.html#returning-a-view-versus-a-copy\n",
      "  sim1.scenario[scen].dataIn_m['new_Installed_Capacity_[MW]'][row] += Under_Installment #overwrite new installed\n"
     ]
    },
    {
     "name": "stdout",
     "output_type": "stream",
     "text": [
      "Finished Area+Power Generation Calculations\n",
      "==> Working on Material :  glass\n",
      "==> Working on Material :  silicon\n",
      "==> Working on Material :  silver\n",
      "==> Working on Material :  aluminium_frames\n",
      "==> Working on Material :  copper\n",
      "==> Working on Material :  encapsulant\n",
      "==> Working on Material :  backsheet\n",
      "circ_high\n",
      ">>>> Calculating Material Flows <<<<\n",
      "\n",
      "Working on Scenario:  circ_high\n",
      "********************\n"
     ]
    },
    {
     "name": "stderr",
     "output_type": "stream",
     "text": [
      "C:\\Users\\hmirletz\\AppData\\Local\\Temp\\1\\ipykernel_3292\\3246415230.py:6: SettingWithCopyWarning: \n",
      "A value is trying to be set on a copy of a slice from a DataFrame\n",
      "\n",
      "See the caveats in the documentation: https://pandas.pydata.org/pandas-docs/stable/user_guide/indexing.html#returning-a-view-versus-a-copy\n",
      "  sim1.scenario[scen].dataIn_m['new_Installed_Capacity_[MW]'][row] += Under_Installment #overwrite new installed\n"
     ]
    },
    {
     "name": "stdout",
     "output_type": "stream",
     "text": [
      "Finished Area+Power Generation Calculations\n",
      "==> Working on Material :  glass\n",
      "Recycled surplus End of Sim for Mat  glass  Scenario  circ_high  =  2787030969.8975344  tonnes.\n",
      "==> Working on Material :  silicon\n",
      "Recycled surplus End of Sim for Mat  silicon  Scenario  circ_high  =  92130764.51066588  tonnes.\n",
      "==> Working on Material :  silver\n",
      "Recycled surplus End of Sim for Mat  silver  Scenario  circ_high  =  522204.79505684547  tonnes.\n",
      "==> Working on Material :  aluminium_frames\n",
      "Recycled surplus End of Sim for Mat  aluminium_frames  Scenario  circ_high  =  315960505.1026145  tonnes.\n",
      "==> Working on Material :  copper\n",
      "Recycled surplus End of Sim for Mat  copper  Scenario  circ_high  =  1904912.986497598  tonnes.\n",
      "==> Working on Material :  encapsulant\n",
      "Recycled surplus End of Sim for Mat  encapsulant  Scenario  circ_high  =  185857396.31027597  tonnes.\n",
      "==> Working on Material :  backsheet\n",
      "Recycled surplus End of Sim for Mat  backsheet  Scenario  circ_high  =  78240039.20964287  tonnes.\n",
      "circ_mid\n",
      ">>>> Calculating Material Flows <<<<\n",
      "\n",
      "Working on Scenario:  circ_mid\n",
      "********************\n"
     ]
    },
    {
     "name": "stderr",
     "output_type": "stream",
     "text": [
      "C:\\Users\\hmirletz\\AppData\\Local\\Temp\\1\\ipykernel_3292\\3246415230.py:6: SettingWithCopyWarning: \n",
      "A value is trying to be set on a copy of a slice from a DataFrame\n",
      "\n",
      "See the caveats in the documentation: https://pandas.pydata.org/pandas-docs/stable/user_guide/indexing.html#returning-a-view-versus-a-copy\n",
      "  sim1.scenario[scen].dataIn_m['new_Installed_Capacity_[MW]'][row] += Under_Installment #overwrite new installed\n"
     ]
    },
    {
     "name": "stdout",
     "output_type": "stream",
     "text": [
      "Finished Area+Power Generation Calculations\n",
      "==> Working on Material :  glass\n",
      "Recycled surplus End of Sim for Mat  glass  Scenario  circ_mid  =  426233162.6874477  tonnes.\n",
      "==> Working on Material :  silicon\n",
      "Recycled surplus End of Sim for Mat  silicon  Scenario  circ_mid  =  14056687.844464416  tonnes.\n",
      "==> Working on Material :  silver\n",
      "Recycled surplus End of Sim for Mat  silver  Scenario  circ_mid  =  79082.69019301583  tonnes.\n",
      "==> Working on Material :  aluminium_frames\n",
      "Recycled surplus End of Sim for Mat  aluminium_frames  Scenario  circ_mid  =  48247896.22123377  tonnes.\n",
      "==> Working on Material :  copper\n",
      "Recycled surplus End of Sim for Mat  copper  Scenario  circ_mid  =  290035.9591884496  tonnes.\n",
      "==> Working on Material :  encapsulant\n",
      "Recycled surplus End of Sim for Mat  encapsulant  Scenario  circ_mid  =  28333066.983154226  tonnes.\n",
      "==> Working on Material :  backsheet\n",
      "Recycled surplus End of Sim for Mat  backsheet  Scenario  circ_mid  =  11899991.040827412  tonnes.\n",
      "circ_low\n",
      ">>>> Calculating Material Flows <<<<\n",
      "\n",
      "Working on Scenario:  circ_low\n",
      "********************\n"
     ]
    },
    {
     "name": "stderr",
     "output_type": "stream",
     "text": [
      "C:\\Users\\hmirletz\\AppData\\Local\\Temp\\1\\ipykernel_3292\\3246415230.py:6: SettingWithCopyWarning: \n",
      "A value is trying to be set on a copy of a slice from a DataFrame\n",
      "\n",
      "See the caveats in the documentation: https://pandas.pydata.org/pandas-docs/stable/user_guide/indexing.html#returning-a-view-versus-a-copy\n",
      "  sim1.scenario[scen].dataIn_m['new_Installed_Capacity_[MW]'][row] += Under_Installment #overwrite new installed\n"
     ]
    },
    {
     "name": "stdout",
     "output_type": "stream",
     "text": [
      "Finished Area+Power Generation Calculations\n",
      "==> Working on Material :  glass\n",
      "==> Working on Material :  silicon\n",
      "==> Working on Material :  silver\n",
      "==> Working on Material :  aluminium_frames\n",
      "==> Working on Material :  copper\n",
      "==> Working on Material :  encapsulant\n",
      "==> Working on Material :  backsheet\n",
      "5\n",
      "PV_ICE\n",
      ">>>> Calculating Material Flows <<<<\n",
      "\n",
      "Working on Scenario:  PV_ICE\n",
      "********************\n"
     ]
    },
    {
     "name": "stderr",
     "output_type": "stream",
     "text": [
      "C:\\Users\\hmirletz\\AppData\\Local\\Temp\\1\\ipykernel_3292\\3246415230.py:6: SettingWithCopyWarning: \n",
      "A value is trying to be set on a copy of a slice from a DataFrame\n",
      "\n",
      "See the caveats in the documentation: https://pandas.pydata.org/pandas-docs/stable/user_guide/indexing.html#returning-a-view-versus-a-copy\n",
      "  sim1.scenario[scen].dataIn_m['new_Installed_Capacity_[MW]'][row] += Under_Installment #overwrite new installed\n"
     ]
    },
    {
     "name": "stdout",
     "output_type": "stream",
     "text": [
      "Finished Area+Power Generation Calculations\n",
      "==> Working on Material :  glass\n",
      "==> Working on Material :  silicon\n",
      "==> Working on Material :  silver\n",
      "==> Working on Material :  aluminium_frames\n",
      "==> Working on Material :  copper\n",
      "==> Working on Material :  encapsulant\n",
      "==> Working on Material :  backsheet\n",
      "circ_high\n",
      ">>>> Calculating Material Flows <<<<\n",
      "\n",
      "Working on Scenario:  circ_high\n",
      "********************\n"
     ]
    },
    {
     "name": "stderr",
     "output_type": "stream",
     "text": [
      "C:\\Users\\hmirletz\\AppData\\Local\\Temp\\1\\ipykernel_3292\\3246415230.py:6: SettingWithCopyWarning: \n",
      "A value is trying to be set on a copy of a slice from a DataFrame\n",
      "\n",
      "See the caveats in the documentation: https://pandas.pydata.org/pandas-docs/stable/user_guide/indexing.html#returning-a-view-versus-a-copy\n",
      "  sim1.scenario[scen].dataIn_m['new_Installed_Capacity_[MW]'][row] += Under_Installment #overwrite new installed\n"
     ]
    },
    {
     "name": "stdout",
     "output_type": "stream",
     "text": [
      "Finished Area+Power Generation Calculations\n",
      "==> Working on Material :  glass\n",
      "Recycled surplus End of Sim for Mat  glass  Scenario  circ_high  =  2787030969.8975344  tonnes.\n",
      "==> Working on Material :  silicon\n",
      "Recycled surplus End of Sim for Mat  silicon  Scenario  circ_high  =  92130764.51066588  tonnes.\n",
      "==> Working on Material :  silver\n",
      "Recycled surplus End of Sim for Mat  silver  Scenario  circ_high  =  522204.79505684547  tonnes.\n",
      "==> Working on Material :  aluminium_frames\n",
      "Recycled surplus End of Sim for Mat  aluminium_frames  Scenario  circ_high  =  315960505.1026145  tonnes.\n",
      "==> Working on Material :  copper\n",
      "Recycled surplus End of Sim for Mat  copper  Scenario  circ_high  =  1904912.986497598  tonnes.\n",
      "==> Working on Material :  encapsulant\n",
      "Recycled surplus End of Sim for Mat  encapsulant  Scenario  circ_high  =  185857396.31027597  tonnes.\n",
      "==> Working on Material :  backsheet\n",
      "Recycled surplus End of Sim for Mat  backsheet  Scenario  circ_high  =  78240039.20964287  tonnes.\n",
      "circ_mid\n",
      ">>>> Calculating Material Flows <<<<\n",
      "\n",
      "Working on Scenario:  circ_mid\n",
      "********************\n"
     ]
    },
    {
     "name": "stderr",
     "output_type": "stream",
     "text": [
      "C:\\Users\\hmirletz\\AppData\\Local\\Temp\\1\\ipykernel_3292\\3246415230.py:6: SettingWithCopyWarning: \n",
      "A value is trying to be set on a copy of a slice from a DataFrame\n",
      "\n",
      "See the caveats in the documentation: https://pandas.pydata.org/pandas-docs/stable/user_guide/indexing.html#returning-a-view-versus-a-copy\n",
      "  sim1.scenario[scen].dataIn_m['new_Installed_Capacity_[MW]'][row] += Under_Installment #overwrite new installed\n"
     ]
    },
    {
     "name": "stdout",
     "output_type": "stream",
     "text": [
      "Finished Area+Power Generation Calculations\n",
      "==> Working on Material :  glass\n",
      "Recycled surplus End of Sim for Mat  glass  Scenario  circ_mid  =  426233162.6874477  tonnes.\n",
      "==> Working on Material :  silicon\n",
      "Recycled surplus End of Sim for Mat  silicon  Scenario  circ_mid  =  14056687.844464416  tonnes.\n",
      "==> Working on Material :  silver\n",
      "Recycled surplus End of Sim for Mat  silver  Scenario  circ_mid  =  79082.69019301583  tonnes.\n",
      "==> Working on Material :  aluminium_frames\n",
      "Recycled surplus End of Sim for Mat  aluminium_frames  Scenario  circ_mid  =  48247896.22123377  tonnes.\n",
      "==> Working on Material :  copper\n",
      "Recycled surplus End of Sim for Mat  copper  Scenario  circ_mid  =  290035.9591884496  tonnes.\n",
      "==> Working on Material :  encapsulant\n",
      "Recycled surplus End of Sim for Mat  encapsulant  Scenario  circ_mid  =  28333066.983154226  tonnes.\n",
      "==> Working on Material :  backsheet\n",
      "Recycled surplus End of Sim for Mat  backsheet  Scenario  circ_mid  =  11899991.040827412  tonnes.\n",
      "circ_low\n",
      ">>>> Calculating Material Flows <<<<\n",
      "\n",
      "Working on Scenario:  circ_low\n",
      "********************\n"
     ]
    },
    {
     "name": "stderr",
     "output_type": "stream",
     "text": [
      "C:\\Users\\hmirletz\\AppData\\Local\\Temp\\1\\ipykernel_3292\\3246415230.py:6: SettingWithCopyWarning: \n",
      "A value is trying to be set on a copy of a slice from a DataFrame\n",
      "\n",
      "See the caveats in the documentation: https://pandas.pydata.org/pandas-docs/stable/user_guide/indexing.html#returning-a-view-versus-a-copy\n",
      "  sim1.scenario[scen].dataIn_m['new_Installed_Capacity_[MW]'][row] += Under_Installment #overwrite new installed\n"
     ]
    },
    {
     "name": "stdout",
     "output_type": "stream",
     "text": [
      "Finished Area+Power Generation Calculations\n",
      "==> Working on Material :  glass\n",
      "==> Working on Material :  silicon\n",
      "==> Working on Material :  silver\n",
      "==> Working on Material :  aluminium_frames\n",
      "==> Working on Material :  copper\n",
      "==> Working on Material :  encapsulant\n",
      "==> Working on Material :  backsheet\n",
      "6\n",
      "PV_ICE\n",
      ">>>> Calculating Material Flows <<<<\n",
      "\n",
      "Working on Scenario:  PV_ICE\n",
      "********************\n"
     ]
    },
    {
     "name": "stderr",
     "output_type": "stream",
     "text": [
      "C:\\Users\\hmirletz\\AppData\\Local\\Temp\\1\\ipykernel_3292\\3246415230.py:6: SettingWithCopyWarning: \n",
      "A value is trying to be set on a copy of a slice from a DataFrame\n",
      "\n",
      "See the caveats in the documentation: https://pandas.pydata.org/pandas-docs/stable/user_guide/indexing.html#returning-a-view-versus-a-copy\n",
      "  sim1.scenario[scen].dataIn_m['new_Installed_Capacity_[MW]'][row] += Under_Installment #overwrite new installed\n"
     ]
    },
    {
     "name": "stdout",
     "output_type": "stream",
     "text": [
      "Finished Area+Power Generation Calculations\n",
      "==> Working on Material :  glass\n",
      "==> Working on Material :  silicon\n",
      "==> Working on Material :  silver\n",
      "==> Working on Material :  aluminium_frames\n",
      "==> Working on Material :  copper\n",
      "==> Working on Material :  encapsulant\n",
      "==> Working on Material :  backsheet\n",
      "circ_high\n",
      ">>>> Calculating Material Flows <<<<\n",
      "\n",
      "Working on Scenario:  circ_high\n",
      "********************\n"
     ]
    },
    {
     "name": "stderr",
     "output_type": "stream",
     "text": [
      "C:\\Users\\hmirletz\\AppData\\Local\\Temp\\1\\ipykernel_3292\\3246415230.py:6: SettingWithCopyWarning: \n",
      "A value is trying to be set on a copy of a slice from a DataFrame\n",
      "\n",
      "See the caveats in the documentation: https://pandas.pydata.org/pandas-docs/stable/user_guide/indexing.html#returning-a-view-versus-a-copy\n",
      "  sim1.scenario[scen].dataIn_m['new_Installed_Capacity_[MW]'][row] += Under_Installment #overwrite new installed\n"
     ]
    },
    {
     "name": "stdout",
     "output_type": "stream",
     "text": [
      "Finished Area+Power Generation Calculations\n",
      "==> Working on Material :  glass\n",
      "Recycled surplus End of Sim for Mat  glass  Scenario  circ_high  =  2787030969.8975344  tonnes.\n",
      "==> Working on Material :  silicon\n",
      "Recycled surplus End of Sim for Mat  silicon  Scenario  circ_high  =  92130764.51066588  tonnes.\n",
      "==> Working on Material :  silver\n",
      "Recycled surplus End of Sim for Mat  silver  Scenario  circ_high  =  522204.79505684547  tonnes.\n",
      "==> Working on Material :  aluminium_frames\n",
      "Recycled surplus End of Sim for Mat  aluminium_frames  Scenario  circ_high  =  315960505.1026145  tonnes.\n",
      "==> Working on Material :  copper\n",
      "Recycled surplus End of Sim for Mat  copper  Scenario  circ_high  =  1904912.986497598  tonnes.\n",
      "==> Working on Material :  encapsulant\n",
      "Recycled surplus End of Sim for Mat  encapsulant  Scenario  circ_high  =  185857396.31027597  tonnes.\n",
      "==> Working on Material :  backsheet\n",
      "Recycled surplus End of Sim for Mat  backsheet  Scenario  circ_high  =  78240039.20964287  tonnes.\n",
      "circ_mid\n",
      ">>>> Calculating Material Flows <<<<\n",
      "\n",
      "Working on Scenario:  circ_mid\n",
      "********************\n"
     ]
    },
    {
     "name": "stderr",
     "output_type": "stream",
     "text": [
      "C:\\Users\\hmirletz\\AppData\\Local\\Temp\\1\\ipykernel_3292\\3246415230.py:6: SettingWithCopyWarning: \n",
      "A value is trying to be set on a copy of a slice from a DataFrame\n",
      "\n",
      "See the caveats in the documentation: https://pandas.pydata.org/pandas-docs/stable/user_guide/indexing.html#returning-a-view-versus-a-copy\n",
      "  sim1.scenario[scen].dataIn_m['new_Installed_Capacity_[MW]'][row] += Under_Installment #overwrite new installed\n"
     ]
    },
    {
     "name": "stdout",
     "output_type": "stream",
     "text": [
      "Finished Area+Power Generation Calculations\n",
      "==> Working on Material :  glass\n",
      "Recycled surplus End of Sim for Mat  glass  Scenario  circ_mid  =  426233162.6874477  tonnes.\n",
      "==> Working on Material :  silicon\n",
      "Recycled surplus End of Sim for Mat  silicon  Scenario  circ_mid  =  14056687.844464416  tonnes.\n",
      "==> Working on Material :  silver\n",
      "Recycled surplus End of Sim for Mat  silver  Scenario  circ_mid  =  79082.69019301583  tonnes.\n",
      "==> Working on Material :  aluminium_frames\n",
      "Recycled surplus End of Sim for Mat  aluminium_frames  Scenario  circ_mid  =  48247896.22123377  tonnes.\n",
      "==> Working on Material :  copper\n",
      "Recycled surplus End of Sim for Mat  copper  Scenario  circ_mid  =  290035.9591884496  tonnes.\n",
      "==> Working on Material :  encapsulant\n",
      "Recycled surplus End of Sim for Mat  encapsulant  Scenario  circ_mid  =  28333066.983154226  tonnes.\n",
      "==> Working on Material :  backsheet\n",
      "Recycled surplus End of Sim for Mat  backsheet  Scenario  circ_mid  =  11899991.040827412  tonnes.\n",
      "circ_low\n",
      ">>>> Calculating Material Flows <<<<\n",
      "\n",
      "Working on Scenario:  circ_low\n",
      "********************\n"
     ]
    },
    {
     "name": "stderr",
     "output_type": "stream",
     "text": [
      "C:\\Users\\hmirletz\\AppData\\Local\\Temp\\1\\ipykernel_3292\\3246415230.py:6: SettingWithCopyWarning: \n",
      "A value is trying to be set on a copy of a slice from a DataFrame\n",
      "\n",
      "See the caveats in the documentation: https://pandas.pydata.org/pandas-docs/stable/user_guide/indexing.html#returning-a-view-versus-a-copy\n",
      "  sim1.scenario[scen].dataIn_m['new_Installed_Capacity_[MW]'][row] += Under_Installment #overwrite new installed\n"
     ]
    },
    {
     "name": "stdout",
     "output_type": "stream",
     "text": [
      "Finished Area+Power Generation Calculations\n",
      "==> Working on Material :  glass\n",
      "==> Working on Material :  silicon\n",
      "==> Working on Material :  silver\n",
      "==> Working on Material :  aluminium_frames\n",
      "==> Working on Material :  copper\n",
      "==> Working on Material :  encapsulant\n",
      "==> Working on Material :  backsheet\n",
      "7\n",
      "PV_ICE\n",
      ">>>> Calculating Material Flows <<<<\n",
      "\n",
      "Working on Scenario:  PV_ICE\n",
      "********************\n"
     ]
    },
    {
     "name": "stderr",
     "output_type": "stream",
     "text": [
      "C:\\Users\\hmirletz\\AppData\\Local\\Temp\\1\\ipykernel_3292\\3246415230.py:6: SettingWithCopyWarning: \n",
      "A value is trying to be set on a copy of a slice from a DataFrame\n",
      "\n",
      "See the caveats in the documentation: https://pandas.pydata.org/pandas-docs/stable/user_guide/indexing.html#returning-a-view-versus-a-copy\n",
      "  sim1.scenario[scen].dataIn_m['new_Installed_Capacity_[MW]'][row] += Under_Installment #overwrite new installed\n"
     ]
    },
    {
     "name": "stdout",
     "output_type": "stream",
     "text": [
      "Finished Area+Power Generation Calculations\n",
      "==> Working on Material :  glass\n",
      "==> Working on Material :  silicon\n",
      "==> Working on Material :  silver\n",
      "==> Working on Material :  aluminium_frames\n",
      "==> Working on Material :  copper\n",
      "==> Working on Material :  encapsulant\n",
      "==> Working on Material :  backsheet\n",
      "circ_high\n",
      ">>>> Calculating Material Flows <<<<\n",
      "\n",
      "Working on Scenario:  circ_high\n",
      "********************\n"
     ]
    },
    {
     "name": "stderr",
     "output_type": "stream",
     "text": [
      "C:\\Users\\hmirletz\\AppData\\Local\\Temp\\1\\ipykernel_3292\\3246415230.py:6: SettingWithCopyWarning: \n",
      "A value is trying to be set on a copy of a slice from a DataFrame\n",
      "\n",
      "See the caveats in the documentation: https://pandas.pydata.org/pandas-docs/stable/user_guide/indexing.html#returning-a-view-versus-a-copy\n",
      "  sim1.scenario[scen].dataIn_m['new_Installed_Capacity_[MW]'][row] += Under_Installment #overwrite new installed\n"
     ]
    },
    {
     "name": "stdout",
     "output_type": "stream",
     "text": [
      "Finished Area+Power Generation Calculations\n",
      "==> Working on Material :  glass\n",
      "Recycled surplus End of Sim for Mat  glass  Scenario  circ_high  =  2787030969.8975344  tonnes.\n",
      "==> Working on Material :  silicon\n",
      "Recycled surplus End of Sim for Mat  silicon  Scenario  circ_high  =  92130764.51066588  tonnes.\n",
      "==> Working on Material :  silver\n",
      "Recycled surplus End of Sim for Mat  silver  Scenario  circ_high  =  522204.79505684547  tonnes.\n",
      "==> Working on Material :  aluminium_frames\n",
      "Recycled surplus End of Sim for Mat  aluminium_frames  Scenario  circ_high  =  315960505.1026145  tonnes.\n",
      "==> Working on Material :  copper\n",
      "Recycled surplus End of Sim for Mat  copper  Scenario  circ_high  =  1904912.986497598  tonnes.\n",
      "==> Working on Material :  encapsulant\n",
      "Recycled surplus End of Sim for Mat  encapsulant  Scenario  circ_high  =  185857396.31027597  tonnes.\n",
      "==> Working on Material :  backsheet\n",
      "Recycled surplus End of Sim for Mat  backsheet  Scenario  circ_high  =  78240039.20964287  tonnes.\n",
      "circ_mid\n",
      ">>>> Calculating Material Flows <<<<\n",
      "\n",
      "Working on Scenario:  circ_mid\n",
      "********************\n"
     ]
    },
    {
     "name": "stderr",
     "output_type": "stream",
     "text": [
      "C:\\Users\\hmirletz\\AppData\\Local\\Temp\\1\\ipykernel_3292\\3246415230.py:6: SettingWithCopyWarning: \n",
      "A value is trying to be set on a copy of a slice from a DataFrame\n",
      "\n",
      "See the caveats in the documentation: https://pandas.pydata.org/pandas-docs/stable/user_guide/indexing.html#returning-a-view-versus-a-copy\n",
      "  sim1.scenario[scen].dataIn_m['new_Installed_Capacity_[MW]'][row] += Under_Installment #overwrite new installed\n"
     ]
    },
    {
     "name": "stdout",
     "output_type": "stream",
     "text": [
      "Finished Area+Power Generation Calculations\n",
      "==> Working on Material :  glass\n",
      "Recycled surplus End of Sim for Mat  glass  Scenario  circ_mid  =  426233162.6874477  tonnes.\n",
      "==> Working on Material :  silicon\n",
      "Recycled surplus End of Sim for Mat  silicon  Scenario  circ_mid  =  14056687.844464416  tonnes.\n",
      "==> Working on Material :  silver\n",
      "Recycled surplus End of Sim for Mat  silver  Scenario  circ_mid  =  79082.69019301583  tonnes.\n",
      "==> Working on Material :  aluminium_frames\n",
      "Recycled surplus End of Sim for Mat  aluminium_frames  Scenario  circ_mid  =  48247896.22123377  tonnes.\n",
      "==> Working on Material :  copper\n",
      "Recycled surplus End of Sim for Mat  copper  Scenario  circ_mid  =  290035.9591884496  tonnes.\n",
      "==> Working on Material :  encapsulant\n",
      "Recycled surplus End of Sim for Mat  encapsulant  Scenario  circ_mid  =  28333066.983154226  tonnes.\n",
      "==> Working on Material :  backsheet\n",
      "Recycled surplus End of Sim for Mat  backsheet  Scenario  circ_mid  =  11899991.040827412  tonnes.\n",
      "circ_low\n",
      ">>>> Calculating Material Flows <<<<\n",
      "\n",
      "Working on Scenario:  circ_low\n",
      "********************\n"
     ]
    },
    {
     "name": "stderr",
     "output_type": "stream",
     "text": [
      "C:\\Users\\hmirletz\\AppData\\Local\\Temp\\1\\ipykernel_3292\\3246415230.py:6: SettingWithCopyWarning: \n",
      "A value is trying to be set on a copy of a slice from a DataFrame\n",
      "\n",
      "See the caveats in the documentation: https://pandas.pydata.org/pandas-docs/stable/user_guide/indexing.html#returning-a-view-versus-a-copy\n",
      "  sim1.scenario[scen].dataIn_m['new_Installed_Capacity_[MW]'][row] += Under_Installment #overwrite new installed\n"
     ]
    },
    {
     "name": "stdout",
     "output_type": "stream",
     "text": [
      "Finished Area+Power Generation Calculations\n",
      "==> Working on Material :  glass\n",
      "==> Working on Material :  silicon\n",
      "==> Working on Material :  silver\n",
      "==> Working on Material :  aluminium_frames\n",
      "==> Working on Material :  copper\n",
      "==> Working on Material :  encapsulant\n",
      "==> Working on Material :  backsheet\n",
      "8\n",
      "PV_ICE\n",
      ">>>> Calculating Material Flows <<<<\n",
      "\n",
      "Working on Scenario:  PV_ICE\n",
      "********************\n"
     ]
    },
    {
     "name": "stderr",
     "output_type": "stream",
     "text": [
      "C:\\Users\\hmirletz\\AppData\\Local\\Temp\\1\\ipykernel_3292\\3246415230.py:6: SettingWithCopyWarning: \n",
      "A value is trying to be set on a copy of a slice from a DataFrame\n",
      "\n",
      "See the caveats in the documentation: https://pandas.pydata.org/pandas-docs/stable/user_guide/indexing.html#returning-a-view-versus-a-copy\n",
      "  sim1.scenario[scen].dataIn_m['new_Installed_Capacity_[MW]'][row] += Under_Installment #overwrite new installed\n"
     ]
    },
    {
     "name": "stdout",
     "output_type": "stream",
     "text": [
      "Finished Area+Power Generation Calculations\n",
      "==> Working on Material :  glass\n",
      "==> Working on Material :  silicon\n",
      "==> Working on Material :  silver\n",
      "==> Working on Material :  aluminium_frames\n",
      "==> Working on Material :  copper\n",
      "==> Working on Material :  encapsulant\n",
      "==> Working on Material :  backsheet\n",
      "circ_high\n",
      ">>>> Calculating Material Flows <<<<\n",
      "\n",
      "Working on Scenario:  circ_high\n",
      "********************\n"
     ]
    },
    {
     "name": "stderr",
     "output_type": "stream",
     "text": [
      "C:\\Users\\hmirletz\\AppData\\Local\\Temp\\1\\ipykernel_3292\\3246415230.py:6: SettingWithCopyWarning: \n",
      "A value is trying to be set on a copy of a slice from a DataFrame\n",
      "\n",
      "See the caveats in the documentation: https://pandas.pydata.org/pandas-docs/stable/user_guide/indexing.html#returning-a-view-versus-a-copy\n",
      "  sim1.scenario[scen].dataIn_m['new_Installed_Capacity_[MW]'][row] += Under_Installment #overwrite new installed\n"
     ]
    },
    {
     "name": "stdout",
     "output_type": "stream",
     "text": [
      "Finished Area+Power Generation Calculations\n",
      "==> Working on Material :  glass\n",
      "Recycled surplus End of Sim for Mat  glass  Scenario  circ_high  =  2787030969.8975344  tonnes.\n",
      "==> Working on Material :  silicon\n",
      "Recycled surplus End of Sim for Mat  silicon  Scenario  circ_high  =  92130764.51066588  tonnes.\n",
      "==> Working on Material :  silver\n",
      "Recycled surplus End of Sim for Mat  silver  Scenario  circ_high  =  522204.79505684547  tonnes.\n",
      "==> Working on Material :  aluminium_frames\n",
      "Recycled surplus End of Sim for Mat  aluminium_frames  Scenario  circ_high  =  315960505.1026145  tonnes.\n",
      "==> Working on Material :  copper\n",
      "Recycled surplus End of Sim for Mat  copper  Scenario  circ_high  =  1904912.986497598  tonnes.\n",
      "==> Working on Material :  encapsulant\n",
      "Recycled surplus End of Sim for Mat  encapsulant  Scenario  circ_high  =  185857396.31027597  tonnes.\n",
      "==> Working on Material :  backsheet\n",
      "Recycled surplus End of Sim for Mat  backsheet  Scenario  circ_high  =  78240039.20964287  tonnes.\n",
      "circ_mid\n",
      ">>>> Calculating Material Flows <<<<\n",
      "\n",
      "Working on Scenario:  circ_mid\n",
      "********************\n"
     ]
    },
    {
     "name": "stderr",
     "output_type": "stream",
     "text": [
      "C:\\Users\\hmirletz\\AppData\\Local\\Temp\\1\\ipykernel_3292\\3246415230.py:6: SettingWithCopyWarning: \n",
      "A value is trying to be set on a copy of a slice from a DataFrame\n",
      "\n",
      "See the caveats in the documentation: https://pandas.pydata.org/pandas-docs/stable/user_guide/indexing.html#returning-a-view-versus-a-copy\n",
      "  sim1.scenario[scen].dataIn_m['new_Installed_Capacity_[MW]'][row] += Under_Installment #overwrite new installed\n"
     ]
    },
    {
     "name": "stdout",
     "output_type": "stream",
     "text": [
      "Finished Area+Power Generation Calculations\n",
      "==> Working on Material :  glass\n",
      "Recycled surplus End of Sim for Mat  glass  Scenario  circ_mid  =  426233162.6874477  tonnes.\n",
      "==> Working on Material :  silicon\n",
      "Recycled surplus End of Sim for Mat  silicon  Scenario  circ_mid  =  14056687.844464416  tonnes.\n",
      "==> Working on Material :  silver\n",
      "Recycled surplus End of Sim for Mat  silver  Scenario  circ_mid  =  79082.69019301583  tonnes.\n",
      "==> Working on Material :  aluminium_frames\n",
      "Recycled surplus End of Sim for Mat  aluminium_frames  Scenario  circ_mid  =  48247896.22123377  tonnes.\n",
      "==> Working on Material :  copper\n",
      "Recycled surplus End of Sim for Mat  copper  Scenario  circ_mid  =  290035.9591884496  tonnes.\n",
      "==> Working on Material :  encapsulant\n",
      "Recycled surplus End of Sim for Mat  encapsulant  Scenario  circ_mid  =  28333066.983154226  tonnes.\n",
      "==> Working on Material :  backsheet\n",
      "Recycled surplus End of Sim for Mat  backsheet  Scenario  circ_mid  =  11899991.040827412  tonnes.\n",
      "circ_low\n",
      ">>>> Calculating Material Flows <<<<\n",
      "\n",
      "Working on Scenario:  circ_low\n",
      "********************\n"
     ]
    },
    {
     "name": "stderr",
     "output_type": "stream",
     "text": [
      "C:\\Users\\hmirletz\\AppData\\Local\\Temp\\1\\ipykernel_3292\\3246415230.py:6: SettingWithCopyWarning: \n",
      "A value is trying to be set on a copy of a slice from a DataFrame\n",
      "\n",
      "See the caveats in the documentation: https://pandas.pydata.org/pandas-docs/stable/user_guide/indexing.html#returning-a-view-versus-a-copy\n",
      "  sim1.scenario[scen].dataIn_m['new_Installed_Capacity_[MW]'][row] += Under_Installment #overwrite new installed\n"
     ]
    },
    {
     "name": "stdout",
     "output_type": "stream",
     "text": [
      "Finished Area+Power Generation Calculations\n",
      "==> Working on Material :  glass\n",
      "==> Working on Material :  silicon\n",
      "==> Working on Material :  silver\n",
      "==> Working on Material :  aluminium_frames\n",
      "==> Working on Material :  copper\n",
      "==> Working on Material :  encapsulant\n",
      "==> Working on Material :  backsheet\n",
      "9\n",
      "PV_ICE\n",
      ">>>> Calculating Material Flows <<<<\n",
      "\n",
      "Working on Scenario:  PV_ICE\n",
      "********************\n"
     ]
    },
    {
     "name": "stderr",
     "output_type": "stream",
     "text": [
      "C:\\Users\\hmirletz\\AppData\\Local\\Temp\\1\\ipykernel_3292\\3246415230.py:6: SettingWithCopyWarning: \n",
      "A value is trying to be set on a copy of a slice from a DataFrame\n",
      "\n",
      "See the caveats in the documentation: https://pandas.pydata.org/pandas-docs/stable/user_guide/indexing.html#returning-a-view-versus-a-copy\n",
      "  sim1.scenario[scen].dataIn_m['new_Installed_Capacity_[MW]'][row] += Under_Installment #overwrite new installed\n"
     ]
    },
    {
     "name": "stdout",
     "output_type": "stream",
     "text": [
      "Finished Area+Power Generation Calculations\n",
      "==> Working on Material :  glass\n",
      "==> Working on Material :  silicon\n",
      "==> Working on Material :  silver\n",
      "==> Working on Material :  aluminium_frames\n",
      "==> Working on Material :  copper\n",
      "==> Working on Material :  encapsulant\n",
      "==> Working on Material :  backsheet\n",
      "circ_high\n",
      ">>>> Calculating Material Flows <<<<\n",
      "\n",
      "Working on Scenario:  circ_high\n",
      "********************\n"
     ]
    },
    {
     "name": "stderr",
     "output_type": "stream",
     "text": [
      "C:\\Users\\hmirletz\\AppData\\Local\\Temp\\1\\ipykernel_3292\\3246415230.py:6: SettingWithCopyWarning: \n",
      "A value is trying to be set on a copy of a slice from a DataFrame\n",
      "\n",
      "See the caveats in the documentation: https://pandas.pydata.org/pandas-docs/stable/user_guide/indexing.html#returning-a-view-versus-a-copy\n",
      "  sim1.scenario[scen].dataIn_m['new_Installed_Capacity_[MW]'][row] += Under_Installment #overwrite new installed\n"
     ]
    },
    {
     "name": "stdout",
     "output_type": "stream",
     "text": [
      "Finished Area+Power Generation Calculations\n",
      "==> Working on Material :  glass\n",
      "Recycled surplus End of Sim for Mat  glass  Scenario  circ_high  =  2787030969.8975344  tonnes.\n",
      "==> Working on Material :  silicon\n",
      "Recycled surplus End of Sim for Mat  silicon  Scenario  circ_high  =  92130764.51066588  tonnes.\n",
      "==> Working on Material :  silver\n",
      "Recycled surplus End of Sim for Mat  silver  Scenario  circ_high  =  522204.79505684547  tonnes.\n",
      "==> Working on Material :  aluminium_frames\n",
      "Recycled surplus End of Sim for Mat  aluminium_frames  Scenario  circ_high  =  315960505.1026145  tonnes.\n",
      "==> Working on Material :  copper\n",
      "Recycled surplus End of Sim for Mat  copper  Scenario  circ_high  =  1904912.986497598  tonnes.\n",
      "==> Working on Material :  encapsulant\n",
      "Recycled surplus End of Sim for Mat  encapsulant  Scenario  circ_high  =  185857396.31027597  tonnes.\n",
      "==> Working on Material :  backsheet\n",
      "Recycled surplus End of Sim for Mat  backsheet  Scenario  circ_high  =  78240039.20964287  tonnes.\n",
      "circ_mid\n",
      ">>>> Calculating Material Flows <<<<\n",
      "\n",
      "Working on Scenario:  circ_mid\n",
      "********************\n"
     ]
    },
    {
     "name": "stderr",
     "output_type": "stream",
     "text": [
      "C:\\Users\\hmirletz\\AppData\\Local\\Temp\\1\\ipykernel_3292\\3246415230.py:6: SettingWithCopyWarning: \n",
      "A value is trying to be set on a copy of a slice from a DataFrame\n",
      "\n",
      "See the caveats in the documentation: https://pandas.pydata.org/pandas-docs/stable/user_guide/indexing.html#returning-a-view-versus-a-copy\n",
      "  sim1.scenario[scen].dataIn_m['new_Installed_Capacity_[MW]'][row] += Under_Installment #overwrite new installed\n"
     ]
    },
    {
     "name": "stdout",
     "output_type": "stream",
     "text": [
      "Finished Area+Power Generation Calculations\n",
      "==> Working on Material :  glass\n",
      "Recycled surplus End of Sim for Mat  glass  Scenario  circ_mid  =  426233162.6874477  tonnes.\n",
      "==> Working on Material :  silicon\n",
      "Recycled surplus End of Sim for Mat  silicon  Scenario  circ_mid  =  14056687.844464416  tonnes.\n",
      "==> Working on Material :  silver\n",
      "Recycled surplus End of Sim for Mat  silver  Scenario  circ_mid  =  79082.69019301583  tonnes.\n",
      "==> Working on Material :  aluminium_frames\n",
      "Recycled surplus End of Sim for Mat  aluminium_frames  Scenario  circ_mid  =  48247896.22123377  tonnes.\n",
      "==> Working on Material :  copper\n",
      "Recycled surplus End of Sim for Mat  copper  Scenario  circ_mid  =  290035.9591884496  tonnes.\n",
      "==> Working on Material :  encapsulant\n",
      "Recycled surplus End of Sim for Mat  encapsulant  Scenario  circ_mid  =  28333066.983154226  tonnes.\n",
      "==> Working on Material :  backsheet\n",
      "Recycled surplus End of Sim for Mat  backsheet  Scenario  circ_mid  =  11899991.040827412  tonnes.\n",
      "circ_low\n",
      ">>>> Calculating Material Flows <<<<\n",
      "\n",
      "Working on Scenario:  circ_low\n",
      "********************\n"
     ]
    },
    {
     "name": "stderr",
     "output_type": "stream",
     "text": [
      "C:\\Users\\hmirletz\\AppData\\Local\\Temp\\1\\ipykernel_3292\\3246415230.py:6: SettingWithCopyWarning: \n",
      "A value is trying to be set on a copy of a slice from a DataFrame\n",
      "\n",
      "See the caveats in the documentation: https://pandas.pydata.org/pandas-docs/stable/user_guide/indexing.html#returning-a-view-versus-a-copy\n",
      "  sim1.scenario[scen].dataIn_m['new_Installed_Capacity_[MW]'][row] += Under_Installment #overwrite new installed\n"
     ]
    },
    {
     "name": "stdout",
     "output_type": "stream",
     "text": [
      "Finished Area+Power Generation Calculations\n",
      "==> Working on Material :  glass\n",
      "==> Working on Material :  silicon\n",
      "==> Working on Material :  silver\n",
      "==> Working on Material :  aluminium_frames\n",
      "==> Working on Material :  copper\n",
      "==> Working on Material :  encapsulant\n",
      "==> Working on Material :  backsheet\n",
      "10\n",
      "PV_ICE\n",
      ">>>> Calculating Material Flows <<<<\n",
      "\n",
      "Working on Scenario:  PV_ICE\n",
      "********************\n"
     ]
    },
    {
     "name": "stderr",
     "output_type": "stream",
     "text": [
      "C:\\Users\\hmirletz\\AppData\\Local\\Temp\\1\\ipykernel_3292\\3246415230.py:6: SettingWithCopyWarning: \n",
      "A value is trying to be set on a copy of a slice from a DataFrame\n",
      "\n",
      "See the caveats in the documentation: https://pandas.pydata.org/pandas-docs/stable/user_guide/indexing.html#returning-a-view-versus-a-copy\n",
      "  sim1.scenario[scen].dataIn_m['new_Installed_Capacity_[MW]'][row] += Under_Installment #overwrite new installed\n"
     ]
    },
    {
     "name": "stdout",
     "output_type": "stream",
     "text": [
      "Finished Area+Power Generation Calculations\n",
      "==> Working on Material :  glass\n",
      "==> Working on Material :  silicon\n",
      "==> Working on Material :  silver\n",
      "==> Working on Material :  aluminium_frames\n",
      "==> Working on Material :  copper\n",
      "==> Working on Material :  encapsulant\n",
      "==> Working on Material :  backsheet\n",
      "circ_high\n",
      ">>>> Calculating Material Flows <<<<\n",
      "\n",
      "Working on Scenario:  circ_high\n",
      "********************\n"
     ]
    },
    {
     "name": "stderr",
     "output_type": "stream",
     "text": [
      "C:\\Users\\hmirletz\\AppData\\Local\\Temp\\1\\ipykernel_3292\\3246415230.py:6: SettingWithCopyWarning: \n",
      "A value is trying to be set on a copy of a slice from a DataFrame\n",
      "\n",
      "See the caveats in the documentation: https://pandas.pydata.org/pandas-docs/stable/user_guide/indexing.html#returning-a-view-versus-a-copy\n",
      "  sim1.scenario[scen].dataIn_m['new_Installed_Capacity_[MW]'][row] += Under_Installment #overwrite new installed\n"
     ]
    },
    {
     "name": "stdout",
     "output_type": "stream",
     "text": [
      "Finished Area+Power Generation Calculations\n",
      "==> Working on Material :  glass\n",
      "Recycled surplus End of Sim for Mat  glass  Scenario  circ_high  =  2787030969.8975344  tonnes.\n",
      "==> Working on Material :  silicon\n",
      "Recycled surplus End of Sim for Mat  silicon  Scenario  circ_high  =  92130764.51066588  tonnes.\n",
      "==> Working on Material :  silver\n",
      "Recycled surplus End of Sim for Mat  silver  Scenario  circ_high  =  522204.79505684547  tonnes.\n",
      "==> Working on Material :  aluminium_frames\n",
      "Recycled surplus End of Sim for Mat  aluminium_frames  Scenario  circ_high  =  315960505.1026145  tonnes.\n",
      "==> Working on Material :  copper\n",
      "Recycled surplus End of Sim for Mat  copper  Scenario  circ_high  =  1904912.986497598  tonnes.\n",
      "==> Working on Material :  encapsulant\n",
      "Recycled surplus End of Sim for Mat  encapsulant  Scenario  circ_high  =  185857396.31027597  tonnes.\n",
      "==> Working on Material :  backsheet\n",
      "Recycled surplus End of Sim for Mat  backsheet  Scenario  circ_high  =  78240039.20964287  tonnes.\n",
      "circ_mid\n",
      ">>>> Calculating Material Flows <<<<\n",
      "\n",
      "Working on Scenario:  circ_mid\n",
      "********************\n"
     ]
    },
    {
     "name": "stderr",
     "output_type": "stream",
     "text": [
      "C:\\Users\\hmirletz\\AppData\\Local\\Temp\\1\\ipykernel_3292\\3246415230.py:6: SettingWithCopyWarning: \n",
      "A value is trying to be set on a copy of a slice from a DataFrame\n",
      "\n",
      "See the caveats in the documentation: https://pandas.pydata.org/pandas-docs/stable/user_guide/indexing.html#returning-a-view-versus-a-copy\n",
      "  sim1.scenario[scen].dataIn_m['new_Installed_Capacity_[MW]'][row] += Under_Installment #overwrite new installed\n"
     ]
    },
    {
     "name": "stdout",
     "output_type": "stream",
     "text": [
      "Finished Area+Power Generation Calculations\n",
      "==> Working on Material :  glass\n",
      "Recycled surplus End of Sim for Mat  glass  Scenario  circ_mid  =  426233162.6874477  tonnes.\n",
      "==> Working on Material :  silicon\n",
      "Recycled surplus End of Sim for Mat  silicon  Scenario  circ_mid  =  14056687.844464416  tonnes.\n",
      "==> Working on Material :  silver\n",
      "Recycled surplus End of Sim for Mat  silver  Scenario  circ_mid  =  79082.69019301583  tonnes.\n",
      "==> Working on Material :  aluminium_frames\n",
      "Recycled surplus End of Sim for Mat  aluminium_frames  Scenario  circ_mid  =  48247896.22123377  tonnes.\n",
      "==> Working on Material :  copper\n",
      "Recycled surplus End of Sim for Mat  copper  Scenario  circ_mid  =  290035.9591884496  tonnes.\n",
      "==> Working on Material :  encapsulant\n",
      "Recycled surplus End of Sim for Mat  encapsulant  Scenario  circ_mid  =  28333066.983154226  tonnes.\n",
      "==> Working on Material :  backsheet\n",
      "Recycled surplus End of Sim for Mat  backsheet  Scenario  circ_mid  =  11899991.040827412  tonnes.\n",
      "circ_low\n",
      ">>>> Calculating Material Flows <<<<\n",
      "\n",
      "Working on Scenario:  circ_low\n",
      "********************\n"
     ]
    },
    {
     "name": "stderr",
     "output_type": "stream",
     "text": [
      "C:\\Users\\hmirletz\\AppData\\Local\\Temp\\1\\ipykernel_3292\\3246415230.py:6: SettingWithCopyWarning: \n",
      "A value is trying to be set on a copy of a slice from a DataFrame\n",
      "\n",
      "See the caveats in the documentation: https://pandas.pydata.org/pandas-docs/stable/user_guide/indexing.html#returning-a-view-versus-a-copy\n",
      "  sim1.scenario[scen].dataIn_m['new_Installed_Capacity_[MW]'][row] += Under_Installment #overwrite new installed\n"
     ]
    },
    {
     "name": "stdout",
     "output_type": "stream",
     "text": [
      "Finished Area+Power Generation Calculations\n",
      "==> Working on Material :  glass\n",
      "==> Working on Material :  silicon\n",
      "==> Working on Material :  silver\n",
      "==> Working on Material :  aluminium_frames\n",
      "==> Working on Material :  copper\n",
      "==> Working on Material :  encapsulant\n",
      "==> Working on Material :  backsheet\n",
      "11\n",
      "PV_ICE\n",
      ">>>> Calculating Material Flows <<<<\n",
      "\n",
      "Working on Scenario:  PV_ICE\n",
      "********************\n"
     ]
    },
    {
     "name": "stderr",
     "output_type": "stream",
     "text": [
      "C:\\Users\\hmirletz\\AppData\\Local\\Temp\\1\\ipykernel_3292\\3246415230.py:6: SettingWithCopyWarning: \n",
      "A value is trying to be set on a copy of a slice from a DataFrame\n",
      "\n",
      "See the caveats in the documentation: https://pandas.pydata.org/pandas-docs/stable/user_guide/indexing.html#returning-a-view-versus-a-copy\n",
      "  sim1.scenario[scen].dataIn_m['new_Installed_Capacity_[MW]'][row] += Under_Installment #overwrite new installed\n"
     ]
    },
    {
     "name": "stdout",
     "output_type": "stream",
     "text": [
      "Finished Area+Power Generation Calculations\n",
      "==> Working on Material :  glass\n",
      "==> Working on Material :  silicon\n",
      "==> Working on Material :  silver\n",
      "==> Working on Material :  aluminium_frames\n",
      "==> Working on Material :  copper\n",
      "==> Working on Material :  encapsulant\n",
      "==> Working on Material :  backsheet\n",
      "circ_high\n",
      ">>>> Calculating Material Flows <<<<\n",
      "\n",
      "Working on Scenario:  circ_high\n",
      "********************\n"
     ]
    },
    {
     "name": "stderr",
     "output_type": "stream",
     "text": [
      "C:\\Users\\hmirletz\\AppData\\Local\\Temp\\1\\ipykernel_3292\\3246415230.py:6: SettingWithCopyWarning: \n",
      "A value is trying to be set on a copy of a slice from a DataFrame\n",
      "\n",
      "See the caveats in the documentation: https://pandas.pydata.org/pandas-docs/stable/user_guide/indexing.html#returning-a-view-versus-a-copy\n",
      "  sim1.scenario[scen].dataIn_m['new_Installed_Capacity_[MW]'][row] += Under_Installment #overwrite new installed\n"
     ]
    },
    {
     "name": "stdout",
     "output_type": "stream",
     "text": [
      "Finished Area+Power Generation Calculations\n",
      "==> Working on Material :  glass\n",
      "Recycled surplus End of Sim for Mat  glass  Scenario  circ_high  =  2787030969.8975344  tonnes.\n",
      "==> Working on Material :  silicon\n",
      "Recycled surplus End of Sim for Mat  silicon  Scenario  circ_high  =  92130764.51066588  tonnes.\n",
      "==> Working on Material :  silver\n",
      "Recycled surplus End of Sim for Mat  silver  Scenario  circ_high  =  522204.79505684547  tonnes.\n",
      "==> Working on Material :  aluminium_frames\n",
      "Recycled surplus End of Sim for Mat  aluminium_frames  Scenario  circ_high  =  315960505.1026145  tonnes.\n",
      "==> Working on Material :  copper\n",
      "Recycled surplus End of Sim for Mat  copper  Scenario  circ_high  =  1904912.986497598  tonnes.\n",
      "==> Working on Material :  encapsulant\n",
      "Recycled surplus End of Sim for Mat  encapsulant  Scenario  circ_high  =  185857396.31027597  tonnes.\n",
      "==> Working on Material :  backsheet\n",
      "Recycled surplus End of Sim for Mat  backsheet  Scenario  circ_high  =  78240039.20964287  tonnes.\n",
      "circ_mid\n",
      ">>>> Calculating Material Flows <<<<\n",
      "\n",
      "Working on Scenario:  circ_mid\n",
      "********************\n"
     ]
    },
    {
     "name": "stderr",
     "output_type": "stream",
     "text": [
      "C:\\Users\\hmirletz\\AppData\\Local\\Temp\\1\\ipykernel_3292\\3246415230.py:6: SettingWithCopyWarning: \n",
      "A value is trying to be set on a copy of a slice from a DataFrame\n",
      "\n",
      "See the caveats in the documentation: https://pandas.pydata.org/pandas-docs/stable/user_guide/indexing.html#returning-a-view-versus-a-copy\n",
      "  sim1.scenario[scen].dataIn_m['new_Installed_Capacity_[MW]'][row] += Under_Installment #overwrite new installed\n"
     ]
    },
    {
     "name": "stdout",
     "output_type": "stream",
     "text": [
      "Finished Area+Power Generation Calculations\n",
      "==> Working on Material :  glass\n",
      "Recycled surplus End of Sim for Mat  glass  Scenario  circ_mid  =  426233162.6874477  tonnes.\n",
      "==> Working on Material :  silicon\n",
      "Recycled surplus End of Sim for Mat  silicon  Scenario  circ_mid  =  14056687.844464416  tonnes.\n",
      "==> Working on Material :  silver\n",
      "Recycled surplus End of Sim for Mat  silver  Scenario  circ_mid  =  79082.69019301583  tonnes.\n",
      "==> Working on Material :  aluminium_frames\n",
      "Recycled surplus End of Sim for Mat  aluminium_frames  Scenario  circ_mid  =  48247896.22123377  tonnes.\n",
      "==> Working on Material :  copper\n",
      "Recycled surplus End of Sim for Mat  copper  Scenario  circ_mid  =  290035.9591884496  tonnes.\n",
      "==> Working on Material :  encapsulant\n",
      "Recycled surplus End of Sim for Mat  encapsulant  Scenario  circ_mid  =  28333066.983154226  tonnes.\n",
      "==> Working on Material :  backsheet\n",
      "Recycled surplus End of Sim for Mat  backsheet  Scenario  circ_mid  =  11899991.040827412  tonnes.\n",
      "circ_low\n",
      ">>>> Calculating Material Flows <<<<\n",
      "\n",
      "Working on Scenario:  circ_low\n",
      "********************\n"
     ]
    },
    {
     "name": "stderr",
     "output_type": "stream",
     "text": [
      "C:\\Users\\hmirletz\\AppData\\Local\\Temp\\1\\ipykernel_3292\\3246415230.py:6: SettingWithCopyWarning: \n",
      "A value is trying to be set on a copy of a slice from a DataFrame\n",
      "\n",
      "See the caveats in the documentation: https://pandas.pydata.org/pandas-docs/stable/user_guide/indexing.html#returning-a-view-versus-a-copy\n",
      "  sim1.scenario[scen].dataIn_m['new_Installed_Capacity_[MW]'][row] += Under_Installment #overwrite new installed\n"
     ]
    },
    {
     "name": "stdout",
     "output_type": "stream",
     "text": [
      "Finished Area+Power Generation Calculations\n",
      "==> Working on Material :  glass\n",
      "==> Working on Material :  silicon\n",
      "==> Working on Material :  silver\n",
      "==> Working on Material :  aluminium_frames\n",
      "==> Working on Material :  copper\n",
      "==> Working on Material :  encapsulant\n",
      "==> Working on Material :  backsheet\n",
      "12\n",
      "PV_ICE\n",
      ">>>> Calculating Material Flows <<<<\n",
      "\n",
      "Working on Scenario:  PV_ICE\n",
      "********************\n"
     ]
    },
    {
     "name": "stderr",
     "output_type": "stream",
     "text": [
      "C:\\Users\\hmirletz\\AppData\\Local\\Temp\\1\\ipykernel_3292\\3246415230.py:6: SettingWithCopyWarning: \n",
      "A value is trying to be set on a copy of a slice from a DataFrame\n",
      "\n",
      "See the caveats in the documentation: https://pandas.pydata.org/pandas-docs/stable/user_guide/indexing.html#returning-a-view-versus-a-copy\n",
      "  sim1.scenario[scen].dataIn_m['new_Installed_Capacity_[MW]'][row] += Under_Installment #overwrite new installed\n"
     ]
    },
    {
     "name": "stdout",
     "output_type": "stream",
     "text": [
      "Finished Area+Power Generation Calculations\n",
      "==> Working on Material :  glass\n",
      "==> Working on Material :  silicon\n",
      "==> Working on Material :  silver\n",
      "==> Working on Material :  aluminium_frames\n",
      "==> Working on Material :  copper\n",
      "==> Working on Material :  encapsulant\n",
      "==> Working on Material :  backsheet\n",
      "circ_high\n",
      ">>>> Calculating Material Flows <<<<\n",
      "\n",
      "Working on Scenario:  circ_high\n",
      "********************\n"
     ]
    },
    {
     "name": "stderr",
     "output_type": "stream",
     "text": [
      "C:\\Users\\hmirletz\\AppData\\Local\\Temp\\1\\ipykernel_3292\\3246415230.py:6: SettingWithCopyWarning: \n",
      "A value is trying to be set on a copy of a slice from a DataFrame\n",
      "\n",
      "See the caveats in the documentation: https://pandas.pydata.org/pandas-docs/stable/user_guide/indexing.html#returning-a-view-versus-a-copy\n",
      "  sim1.scenario[scen].dataIn_m['new_Installed_Capacity_[MW]'][row] += Under_Installment #overwrite new installed\n"
     ]
    },
    {
     "name": "stdout",
     "output_type": "stream",
     "text": [
      "Finished Area+Power Generation Calculations\n",
      "==> Working on Material :  glass\n",
      "Recycled surplus End of Sim for Mat  glass  Scenario  circ_high  =  2787030969.8975344  tonnes.\n",
      "==> Working on Material :  silicon\n",
      "Recycled surplus End of Sim for Mat  silicon  Scenario  circ_high  =  92130764.51066588  tonnes.\n",
      "==> Working on Material :  silver\n",
      "Recycled surplus End of Sim for Mat  silver  Scenario  circ_high  =  522204.79505684547  tonnes.\n",
      "==> Working on Material :  aluminium_frames\n",
      "Recycled surplus End of Sim for Mat  aluminium_frames  Scenario  circ_high  =  315960505.1026145  tonnes.\n",
      "==> Working on Material :  copper\n",
      "Recycled surplus End of Sim for Mat  copper  Scenario  circ_high  =  1904912.986497598  tonnes.\n",
      "==> Working on Material :  encapsulant\n",
      "Recycled surplus End of Sim for Mat  encapsulant  Scenario  circ_high  =  185857396.31027597  tonnes.\n",
      "==> Working on Material :  backsheet\n",
      "Recycled surplus End of Sim for Mat  backsheet  Scenario  circ_high  =  78240039.20964287  tonnes.\n",
      "circ_mid\n",
      ">>>> Calculating Material Flows <<<<\n",
      "\n",
      "Working on Scenario:  circ_mid\n",
      "********************\n"
     ]
    },
    {
     "name": "stderr",
     "output_type": "stream",
     "text": [
      "C:\\Users\\hmirletz\\AppData\\Local\\Temp\\1\\ipykernel_3292\\3246415230.py:6: SettingWithCopyWarning: \n",
      "A value is trying to be set on a copy of a slice from a DataFrame\n",
      "\n",
      "See the caveats in the documentation: https://pandas.pydata.org/pandas-docs/stable/user_guide/indexing.html#returning-a-view-versus-a-copy\n",
      "  sim1.scenario[scen].dataIn_m['new_Installed_Capacity_[MW]'][row] += Under_Installment #overwrite new installed\n"
     ]
    },
    {
     "name": "stdout",
     "output_type": "stream",
     "text": [
      "Finished Area+Power Generation Calculations\n",
      "==> Working on Material :  glass\n",
      "Recycled surplus End of Sim for Mat  glass  Scenario  circ_mid  =  426233162.6874477  tonnes.\n",
      "==> Working on Material :  silicon\n",
      "Recycled surplus End of Sim for Mat  silicon  Scenario  circ_mid  =  14056687.844464416  tonnes.\n",
      "==> Working on Material :  silver\n",
      "Recycled surplus End of Sim for Mat  silver  Scenario  circ_mid  =  79082.69019301583  tonnes.\n",
      "==> Working on Material :  aluminium_frames\n",
      "Recycled surplus End of Sim for Mat  aluminium_frames  Scenario  circ_mid  =  48247896.22123377  tonnes.\n",
      "==> Working on Material :  copper\n",
      "Recycled surplus End of Sim for Mat  copper  Scenario  circ_mid  =  290035.9591884496  tonnes.\n",
      "==> Working on Material :  encapsulant\n",
      "Recycled surplus End of Sim for Mat  encapsulant  Scenario  circ_mid  =  28333066.983154226  tonnes.\n",
      "==> Working on Material :  backsheet\n",
      "Recycled surplus End of Sim for Mat  backsheet  Scenario  circ_mid  =  11899991.040827412  tonnes.\n",
      "circ_low\n",
      ">>>> Calculating Material Flows <<<<\n",
      "\n",
      "Working on Scenario:  circ_low\n",
      "********************\n"
     ]
    },
    {
     "name": "stderr",
     "output_type": "stream",
     "text": [
      "C:\\Users\\hmirletz\\AppData\\Local\\Temp\\1\\ipykernel_3292\\3246415230.py:6: SettingWithCopyWarning: \n",
      "A value is trying to be set on a copy of a slice from a DataFrame\n",
      "\n",
      "See the caveats in the documentation: https://pandas.pydata.org/pandas-docs/stable/user_guide/indexing.html#returning-a-view-versus-a-copy\n",
      "  sim1.scenario[scen].dataIn_m['new_Installed_Capacity_[MW]'][row] += Under_Installment #overwrite new installed\n"
     ]
    },
    {
     "name": "stdout",
     "output_type": "stream",
     "text": [
      "Finished Area+Power Generation Calculations\n",
      "==> Working on Material :  glass\n",
      "==> Working on Material :  silicon\n",
      "==> Working on Material :  silver\n",
      "==> Working on Material :  aluminium_frames\n",
      "==> Working on Material :  copper\n",
      "==> Working on Material :  encapsulant\n",
      "==> Working on Material :  backsheet\n",
      "13\n",
      "PV_ICE\n",
      ">>>> Calculating Material Flows <<<<\n",
      "\n",
      "Working on Scenario:  PV_ICE\n",
      "********************\n"
     ]
    },
    {
     "name": "stderr",
     "output_type": "stream",
     "text": [
      "C:\\Users\\hmirletz\\AppData\\Local\\Temp\\1\\ipykernel_3292\\3246415230.py:6: SettingWithCopyWarning: \n",
      "A value is trying to be set on a copy of a slice from a DataFrame\n",
      "\n",
      "See the caveats in the documentation: https://pandas.pydata.org/pandas-docs/stable/user_guide/indexing.html#returning-a-view-versus-a-copy\n",
      "  sim1.scenario[scen].dataIn_m['new_Installed_Capacity_[MW]'][row] += Under_Installment #overwrite new installed\n"
     ]
    },
    {
     "name": "stdout",
     "output_type": "stream",
     "text": [
      "Finished Area+Power Generation Calculations\n",
      "==> Working on Material :  glass\n",
      "==> Working on Material :  silicon\n",
      "==> Working on Material :  silver\n",
      "==> Working on Material :  aluminium_frames\n",
      "==> Working on Material :  copper\n",
      "==> Working on Material :  encapsulant\n",
      "==> Working on Material :  backsheet\n",
      "circ_high\n",
      ">>>> Calculating Material Flows <<<<\n",
      "\n",
      "Working on Scenario:  circ_high\n",
      "********************\n"
     ]
    },
    {
     "name": "stderr",
     "output_type": "stream",
     "text": [
      "C:\\Users\\hmirletz\\AppData\\Local\\Temp\\1\\ipykernel_3292\\3246415230.py:6: SettingWithCopyWarning: \n",
      "A value is trying to be set on a copy of a slice from a DataFrame\n",
      "\n",
      "See the caveats in the documentation: https://pandas.pydata.org/pandas-docs/stable/user_guide/indexing.html#returning-a-view-versus-a-copy\n",
      "  sim1.scenario[scen].dataIn_m['new_Installed_Capacity_[MW]'][row] += Under_Installment #overwrite new installed\n"
     ]
    },
    {
     "name": "stdout",
     "output_type": "stream",
     "text": [
      "Finished Area+Power Generation Calculations\n",
      "==> Working on Material :  glass\n",
      "Recycled surplus End of Sim for Mat  glass  Scenario  circ_high  =  2787030969.8975344  tonnes.\n",
      "==> Working on Material :  silicon\n",
      "Recycled surplus End of Sim for Mat  silicon  Scenario  circ_high  =  92130764.51066588  tonnes.\n",
      "==> Working on Material :  silver\n",
      "Recycled surplus End of Sim for Mat  silver  Scenario  circ_high  =  522204.79505684547  tonnes.\n",
      "==> Working on Material :  aluminium_frames\n",
      "Recycled surplus End of Sim for Mat  aluminium_frames  Scenario  circ_high  =  315960505.1026145  tonnes.\n",
      "==> Working on Material :  copper\n",
      "Recycled surplus End of Sim for Mat  copper  Scenario  circ_high  =  1904912.986497598  tonnes.\n",
      "==> Working on Material :  encapsulant\n",
      "Recycled surplus End of Sim for Mat  encapsulant  Scenario  circ_high  =  185857396.31027597  tonnes.\n",
      "==> Working on Material :  backsheet\n",
      "Recycled surplus End of Sim for Mat  backsheet  Scenario  circ_high  =  78240039.20964287  tonnes.\n",
      "circ_mid\n"
     ]
    },
    {
     "name": "stderr",
     "output_type": "stream",
     "text": [
      "C:\\Users\\hmirletz\\AppData\\Local\\Temp\\1\\ipykernel_3292\\3246415230.py:6: SettingWithCopyWarning: \n",
      "A value is trying to be set on a copy of a slice from a DataFrame\n",
      "\n",
      "See the caveats in the documentation: https://pandas.pydata.org/pandas-docs/stable/user_guide/indexing.html#returning-a-view-versus-a-copy\n",
      "  sim1.scenario[scen].dataIn_m['new_Installed_Capacity_[MW]'][row] += Under_Installment #overwrite new installed\n"
     ]
    },
    {
     "name": "stdout",
     "output_type": "stream",
     "text": [
      ">>>> Calculating Material Flows <<<<\n",
      "\n",
      "Working on Scenario:  circ_mid\n",
      "********************\n",
      "Finished Area+Power Generation Calculations\n",
      "==> Working on Material :  glass\n",
      "Recycled surplus End of Sim for Mat  glass  Scenario  circ_mid  =  426233162.6874477  tonnes.\n",
      "==> Working on Material :  silicon\n",
      "Recycled surplus End of Sim for Mat  silicon  Scenario  circ_mid  =  14056687.844464416  tonnes.\n",
      "==> Working on Material :  silver\n",
      "Recycled surplus End of Sim for Mat  silver  Scenario  circ_mid  =  79082.69019301583  tonnes.\n",
      "==> Working on Material :  aluminium_frames\n",
      "Recycled surplus End of Sim for Mat  aluminium_frames  Scenario  circ_mid  =  48247896.22123377  tonnes.\n",
      "==> Working on Material :  copper\n",
      "Recycled surplus End of Sim for Mat  copper  Scenario  circ_mid  =  290035.9591884496  tonnes.\n",
      "==> Working on Material :  encapsulant\n",
      "Recycled surplus End of Sim for Mat  encapsulant  Scenario  circ_mid  =  28333066.983154226  tonnes.\n",
      "==> Working on Material :  backsheet\n",
      "Recycled surplus End of Sim for Mat  backsheet  Scenario  circ_mid  =  11899991.040827412  tonnes.\n",
      "circ_low\n",
      ">>>> Calculating Material Flows <<<<\n",
      "\n",
      "Working on Scenario:  circ_low\n",
      "********************\n"
     ]
    },
    {
     "name": "stderr",
     "output_type": "stream",
     "text": [
      "C:\\Users\\hmirletz\\AppData\\Local\\Temp\\1\\ipykernel_3292\\3246415230.py:6: SettingWithCopyWarning: \n",
      "A value is trying to be set on a copy of a slice from a DataFrame\n",
      "\n",
      "See the caveats in the documentation: https://pandas.pydata.org/pandas-docs/stable/user_guide/indexing.html#returning-a-view-versus-a-copy\n",
      "  sim1.scenario[scen].dataIn_m['new_Installed_Capacity_[MW]'][row] += Under_Installment #overwrite new installed\n"
     ]
    },
    {
     "name": "stdout",
     "output_type": "stream",
     "text": [
      "Finished Area+Power Generation Calculations\n",
      "==> Working on Material :  glass\n",
      "==> Working on Material :  silicon\n",
      "==> Working on Material :  silver\n",
      "==> Working on Material :  aluminium_frames\n",
      "==> Working on Material :  copper\n",
      "==> Working on Material :  encapsulant\n",
      "==> Working on Material :  backsheet\n",
      "14\n",
      "PV_ICE\n",
      ">>>> Calculating Material Flows <<<<\n",
      "\n",
      "Working on Scenario:  PV_ICE\n",
      "********************\n"
     ]
    },
    {
     "name": "stderr",
     "output_type": "stream",
     "text": [
      "C:\\Users\\hmirletz\\AppData\\Local\\Temp\\1\\ipykernel_3292\\3246415230.py:6: SettingWithCopyWarning: \n",
      "A value is trying to be set on a copy of a slice from a DataFrame\n",
      "\n",
      "See the caveats in the documentation: https://pandas.pydata.org/pandas-docs/stable/user_guide/indexing.html#returning-a-view-versus-a-copy\n",
      "  sim1.scenario[scen].dataIn_m['new_Installed_Capacity_[MW]'][row] += Under_Installment #overwrite new installed\n"
     ]
    },
    {
     "name": "stdout",
     "output_type": "stream",
     "text": [
      "Finished Area+Power Generation Calculations\n",
      "==> Working on Material :  glass\n",
      "==> Working on Material :  silicon\n",
      "==> Working on Material :  silver\n",
      "==> Working on Material :  aluminium_frames\n",
      "==> Working on Material :  copper\n",
      "==> Working on Material :  encapsulant\n",
      "==> Working on Material :  backsheet\n",
      "circ_high\n",
      ">>>> Calculating Material Flows <<<<\n",
      "\n",
      "Working on Scenario:  circ_high\n",
      "********************\n"
     ]
    },
    {
     "name": "stderr",
     "output_type": "stream",
     "text": [
      "C:\\Users\\hmirletz\\AppData\\Local\\Temp\\1\\ipykernel_3292\\3246415230.py:6: SettingWithCopyWarning: \n",
      "A value is trying to be set on a copy of a slice from a DataFrame\n",
      "\n",
      "See the caveats in the documentation: https://pandas.pydata.org/pandas-docs/stable/user_guide/indexing.html#returning-a-view-versus-a-copy\n",
      "  sim1.scenario[scen].dataIn_m['new_Installed_Capacity_[MW]'][row] += Under_Installment #overwrite new installed\n"
     ]
    },
    {
     "name": "stdout",
     "output_type": "stream",
     "text": [
      "Finished Area+Power Generation Calculations\n",
      "==> Working on Material :  glass\n",
      "Recycled surplus End of Sim for Mat  glass  Scenario  circ_high  =  2787030969.8975344  tonnes.\n",
      "==> Working on Material :  silicon\n",
      "Recycled surplus End of Sim for Mat  silicon  Scenario  circ_high  =  92130764.51066588  tonnes.\n",
      "==> Working on Material :  silver\n",
      "Recycled surplus End of Sim for Mat  silver  Scenario  circ_high  =  522204.79505684547  tonnes.\n",
      "==> Working on Material :  aluminium_frames\n",
      "Recycled surplus End of Sim for Mat  aluminium_frames  Scenario  circ_high  =  315960505.1026145  tonnes.\n",
      "==> Working on Material :  copper\n",
      "Recycled surplus End of Sim for Mat  copper  Scenario  circ_high  =  1904912.986497598  tonnes.\n",
      "==> Working on Material :  encapsulant\n",
      "Recycled surplus End of Sim for Mat  encapsulant  Scenario  circ_high  =  185857396.31027597  tonnes.\n",
      "==> Working on Material :  backsheet\n",
      "Recycled surplus End of Sim for Mat  backsheet  Scenario  circ_high  =  78240039.20964287  tonnes.\n",
      "circ_mid\n",
      ">>>> Calculating Material Flows <<<<\n",
      "\n",
      "Working on Scenario:  circ_mid\n",
      "********************\n"
     ]
    },
    {
     "name": "stderr",
     "output_type": "stream",
     "text": [
      "C:\\Users\\hmirletz\\AppData\\Local\\Temp\\1\\ipykernel_3292\\3246415230.py:6: SettingWithCopyWarning: \n",
      "A value is trying to be set on a copy of a slice from a DataFrame\n",
      "\n",
      "See the caveats in the documentation: https://pandas.pydata.org/pandas-docs/stable/user_guide/indexing.html#returning-a-view-versus-a-copy\n",
      "  sim1.scenario[scen].dataIn_m['new_Installed_Capacity_[MW]'][row] += Under_Installment #overwrite new installed\n"
     ]
    },
    {
     "name": "stdout",
     "output_type": "stream",
     "text": [
      "Finished Area+Power Generation Calculations\n",
      "==> Working on Material :  glass\n",
      "Recycled surplus End of Sim for Mat  glass  Scenario  circ_mid  =  426233162.6874477  tonnes.\n",
      "==> Working on Material :  silicon\n",
      "Recycled surplus End of Sim for Mat  silicon  Scenario  circ_mid  =  14056687.844464416  tonnes.\n",
      "==> Working on Material :  silver\n",
      "Recycled surplus End of Sim for Mat  silver  Scenario  circ_mid  =  79082.69019301583  tonnes.\n",
      "==> Working on Material :  aluminium_frames\n",
      "Recycled surplus End of Sim for Mat  aluminium_frames  Scenario  circ_mid  =  48247896.22123377  tonnes.\n",
      "==> Working on Material :  copper\n",
      "Recycled surplus End of Sim for Mat  copper  Scenario  circ_mid  =  290035.9591884496  tonnes.\n",
      "==> Working on Material :  encapsulant\n",
      "Recycled surplus End of Sim for Mat  encapsulant  Scenario  circ_mid  =  28333066.983154226  tonnes.\n",
      "==> Working on Material :  backsheet\n",
      "Recycled surplus End of Sim for Mat  backsheet  Scenario  circ_mid  =  11899991.040827412  tonnes.\n",
      "circ_low\n",
      ">>>> Calculating Material Flows <<<<\n",
      "\n",
      "Working on Scenario:  circ_low\n",
      "********************\n"
     ]
    },
    {
     "name": "stderr",
     "output_type": "stream",
     "text": [
      "C:\\Users\\hmirletz\\AppData\\Local\\Temp\\1\\ipykernel_3292\\3246415230.py:6: SettingWithCopyWarning: \n",
      "A value is trying to be set on a copy of a slice from a DataFrame\n",
      "\n",
      "See the caveats in the documentation: https://pandas.pydata.org/pandas-docs/stable/user_guide/indexing.html#returning-a-view-versus-a-copy\n",
      "  sim1.scenario[scen].dataIn_m['new_Installed_Capacity_[MW]'][row] += Under_Installment #overwrite new installed\n"
     ]
    },
    {
     "name": "stdout",
     "output_type": "stream",
     "text": [
      "Finished Area+Power Generation Calculations\n",
      "==> Working on Material :  glass\n",
      "==> Working on Material :  silicon\n",
      "==> Working on Material :  silver\n",
      "==> Working on Material :  aluminium_frames\n",
      "==> Working on Material :  copper\n",
      "==> Working on Material :  encapsulant\n",
      "==> Working on Material :  backsheet\n",
      "15\n",
      "PV_ICE\n",
      ">>>> Calculating Material Flows <<<<\n",
      "\n",
      "Working on Scenario:  PV_ICE\n",
      "********************\n"
     ]
    },
    {
     "name": "stderr",
     "output_type": "stream",
     "text": [
      "C:\\Users\\hmirletz\\AppData\\Local\\Temp\\1\\ipykernel_3292\\3246415230.py:6: SettingWithCopyWarning: \n",
      "A value is trying to be set on a copy of a slice from a DataFrame\n",
      "\n",
      "See the caveats in the documentation: https://pandas.pydata.org/pandas-docs/stable/user_guide/indexing.html#returning-a-view-versus-a-copy\n",
      "  sim1.scenario[scen].dataIn_m['new_Installed_Capacity_[MW]'][row] += Under_Installment #overwrite new installed\n"
     ]
    },
    {
     "name": "stdout",
     "output_type": "stream",
     "text": [
      "Finished Area+Power Generation Calculations\n",
      "==> Working on Material :  glass\n",
      "==> Working on Material :  silicon\n",
      "==> Working on Material :  silver\n",
      "==> Working on Material :  aluminium_frames\n",
      "==> Working on Material :  copper\n",
      "==> Working on Material :  encapsulant\n",
      "==> Working on Material :  backsheet\n",
      "circ_high\n",
      ">>>> Calculating Material Flows <<<<\n",
      "\n",
      "Working on Scenario:  circ_high\n",
      "********************\n"
     ]
    },
    {
     "name": "stderr",
     "output_type": "stream",
     "text": [
      "C:\\Users\\hmirletz\\AppData\\Local\\Temp\\1\\ipykernel_3292\\3246415230.py:6: SettingWithCopyWarning: \n",
      "A value is trying to be set on a copy of a slice from a DataFrame\n",
      "\n",
      "See the caveats in the documentation: https://pandas.pydata.org/pandas-docs/stable/user_guide/indexing.html#returning-a-view-versus-a-copy\n",
      "  sim1.scenario[scen].dataIn_m['new_Installed_Capacity_[MW]'][row] += Under_Installment #overwrite new installed\n"
     ]
    },
    {
     "name": "stdout",
     "output_type": "stream",
     "text": [
      "Finished Area+Power Generation Calculations\n",
      "==> Working on Material :  glass\n",
      "Recycled surplus End of Sim for Mat  glass  Scenario  circ_high  =  2787030969.8975344  tonnes.\n",
      "==> Working on Material :  silicon\n",
      "Recycled surplus End of Sim for Mat  silicon  Scenario  circ_high  =  92130764.51066588  tonnes.\n",
      "==> Working on Material :  silver\n",
      "Recycled surplus End of Sim for Mat  silver  Scenario  circ_high  =  522204.79505684547  tonnes.\n",
      "==> Working on Material :  aluminium_frames\n",
      "Recycled surplus End of Sim for Mat  aluminium_frames  Scenario  circ_high  =  315960505.1026145  tonnes.\n",
      "==> Working on Material :  copper\n",
      "Recycled surplus End of Sim for Mat  copper  Scenario  circ_high  =  1904912.986497598  tonnes.\n",
      "==> Working on Material :  encapsulant\n",
      "Recycled surplus End of Sim for Mat  encapsulant  Scenario  circ_high  =  185857396.31027597  tonnes.\n",
      "==> Working on Material :  backsheet\n",
      "Recycled surplus End of Sim for Mat  backsheet  Scenario  circ_high  =  78240039.20964287  tonnes.\n",
      "circ_mid\n",
      ">>>> Calculating Material Flows <<<<\n",
      "\n",
      "Working on Scenario:  circ_mid\n",
      "********************\n"
     ]
    },
    {
     "name": "stderr",
     "output_type": "stream",
     "text": [
      "C:\\Users\\hmirletz\\AppData\\Local\\Temp\\1\\ipykernel_3292\\3246415230.py:6: SettingWithCopyWarning: \n",
      "A value is trying to be set on a copy of a slice from a DataFrame\n",
      "\n",
      "See the caveats in the documentation: https://pandas.pydata.org/pandas-docs/stable/user_guide/indexing.html#returning-a-view-versus-a-copy\n",
      "  sim1.scenario[scen].dataIn_m['new_Installed_Capacity_[MW]'][row] += Under_Installment #overwrite new installed\n"
     ]
    },
    {
     "name": "stdout",
     "output_type": "stream",
     "text": [
      "Finished Area+Power Generation Calculations\n",
      "==> Working on Material :  glass\n",
      "Recycled surplus End of Sim for Mat  glass  Scenario  circ_mid  =  426233162.6874477  tonnes.\n",
      "==> Working on Material :  silicon\n",
      "Recycled surplus End of Sim for Mat  silicon  Scenario  circ_mid  =  14056687.844464416  tonnes.\n",
      "==> Working on Material :  silver\n",
      "Recycled surplus End of Sim for Mat  silver  Scenario  circ_mid  =  79082.69019301583  tonnes.\n",
      "==> Working on Material :  aluminium_frames\n",
      "Recycled surplus End of Sim for Mat  aluminium_frames  Scenario  circ_mid  =  48247896.22123377  tonnes.\n",
      "==> Working on Material :  copper\n",
      "Recycled surplus End of Sim for Mat  copper  Scenario  circ_mid  =  290035.9591884496  tonnes.\n",
      "==> Working on Material :  encapsulant\n",
      "Recycled surplus End of Sim for Mat  encapsulant  Scenario  circ_mid  =  28333066.983154226  tonnes.\n",
      "==> Working on Material :  backsheet\n",
      "Recycled surplus End of Sim for Mat  backsheet  Scenario  circ_mid  =  11899991.040827412  tonnes.\n",
      "circ_low\n",
      ">>>> Calculating Material Flows <<<<\n",
      "\n",
      "Working on Scenario:  circ_low\n",
      "********************\n"
     ]
    },
    {
     "name": "stderr",
     "output_type": "stream",
     "text": [
      "C:\\Users\\hmirletz\\AppData\\Local\\Temp\\1\\ipykernel_3292\\3246415230.py:6: SettingWithCopyWarning: \n",
      "A value is trying to be set on a copy of a slice from a DataFrame\n",
      "\n",
      "See the caveats in the documentation: https://pandas.pydata.org/pandas-docs/stable/user_guide/indexing.html#returning-a-view-versus-a-copy\n",
      "  sim1.scenario[scen].dataIn_m['new_Installed_Capacity_[MW]'][row] += Under_Installment #overwrite new installed\n"
     ]
    },
    {
     "name": "stdout",
     "output_type": "stream",
     "text": [
      "Finished Area+Power Generation Calculations\n",
      "==> Working on Material :  glass\n",
      "==> Working on Material :  silicon\n",
      "==> Working on Material :  silver\n",
      "==> Working on Material :  aluminium_frames\n",
      "==> Working on Material :  copper\n",
      "==> Working on Material :  encapsulant\n",
      "==> Working on Material :  backsheet\n",
      "16\n",
      "PV_ICE\n",
      ">>>> Calculating Material Flows <<<<\n",
      "\n",
      "Working on Scenario:  PV_ICE\n",
      "********************\n"
     ]
    },
    {
     "name": "stderr",
     "output_type": "stream",
     "text": [
      "C:\\Users\\hmirletz\\AppData\\Local\\Temp\\1\\ipykernel_3292\\3246415230.py:6: SettingWithCopyWarning: \n",
      "A value is trying to be set on a copy of a slice from a DataFrame\n",
      "\n",
      "See the caveats in the documentation: https://pandas.pydata.org/pandas-docs/stable/user_guide/indexing.html#returning-a-view-versus-a-copy\n",
      "  sim1.scenario[scen].dataIn_m['new_Installed_Capacity_[MW]'][row] += Under_Installment #overwrite new installed\n"
     ]
    },
    {
     "name": "stdout",
     "output_type": "stream",
     "text": [
      "Finished Area+Power Generation Calculations\n",
      "==> Working on Material :  glass\n",
      "==> Working on Material :  silicon\n",
      "==> Working on Material :  silver\n",
      "==> Working on Material :  aluminium_frames\n",
      "==> Working on Material :  copper\n",
      "==> Working on Material :  encapsulant\n",
      "==> Working on Material :  backsheet\n",
      "circ_high\n",
      ">>>> Calculating Material Flows <<<<\n",
      "\n",
      "Working on Scenario:  circ_high\n",
      "********************\n"
     ]
    },
    {
     "name": "stderr",
     "output_type": "stream",
     "text": [
      "C:\\Users\\hmirletz\\AppData\\Local\\Temp\\1\\ipykernel_3292\\3246415230.py:6: SettingWithCopyWarning: \n",
      "A value is trying to be set on a copy of a slice from a DataFrame\n",
      "\n",
      "See the caveats in the documentation: https://pandas.pydata.org/pandas-docs/stable/user_guide/indexing.html#returning-a-view-versus-a-copy\n",
      "  sim1.scenario[scen].dataIn_m['new_Installed_Capacity_[MW]'][row] += Under_Installment #overwrite new installed\n"
     ]
    },
    {
     "name": "stdout",
     "output_type": "stream",
     "text": [
      "Finished Area+Power Generation Calculations\n",
      "==> Working on Material :  glass\n",
      "Recycled surplus End of Sim for Mat  glass  Scenario  circ_high  =  2787030969.8975344  tonnes.\n",
      "==> Working on Material :  silicon\n",
      "Recycled surplus End of Sim for Mat  silicon  Scenario  circ_high  =  92130764.51066588  tonnes.\n",
      "==> Working on Material :  silver\n",
      "Recycled surplus End of Sim for Mat  silver  Scenario  circ_high  =  522204.79505684547  tonnes.\n",
      "==> Working on Material :  aluminium_frames\n",
      "Recycled surplus End of Sim for Mat  aluminium_frames  Scenario  circ_high  =  315960505.1026145  tonnes.\n",
      "==> Working on Material :  copper\n",
      "Recycled surplus End of Sim for Mat  copper  Scenario  circ_high  =  1904912.986497598  tonnes.\n",
      "==> Working on Material :  encapsulant\n",
      "Recycled surplus End of Sim for Mat  encapsulant  Scenario  circ_high  =  185857396.31027597  tonnes.\n",
      "==> Working on Material :  backsheet\n",
      "Recycled surplus End of Sim for Mat  backsheet  Scenario  circ_high  =  78240039.20964287  tonnes.\n",
      "circ_mid\n",
      ">>>> Calculating Material Flows <<<<\n",
      "\n",
      "Working on Scenario:  circ_mid\n",
      "********************\n"
     ]
    },
    {
     "name": "stderr",
     "output_type": "stream",
     "text": [
      "C:\\Users\\hmirletz\\AppData\\Local\\Temp\\1\\ipykernel_3292\\3246415230.py:6: SettingWithCopyWarning: \n",
      "A value is trying to be set on a copy of a slice from a DataFrame\n",
      "\n",
      "See the caveats in the documentation: https://pandas.pydata.org/pandas-docs/stable/user_guide/indexing.html#returning-a-view-versus-a-copy\n",
      "  sim1.scenario[scen].dataIn_m['new_Installed_Capacity_[MW]'][row] += Under_Installment #overwrite new installed\n"
     ]
    },
    {
     "name": "stdout",
     "output_type": "stream",
     "text": [
      "Finished Area+Power Generation Calculations\n",
      "==> Working on Material :  glass\n",
      "Recycled surplus End of Sim for Mat  glass  Scenario  circ_mid  =  426233162.6874477  tonnes.\n",
      "==> Working on Material :  silicon\n",
      "Recycled surplus End of Sim for Mat  silicon  Scenario  circ_mid  =  14056687.844464416  tonnes.\n",
      "==> Working on Material :  silver\n",
      "Recycled surplus End of Sim for Mat  silver  Scenario  circ_mid  =  79082.69019301583  tonnes.\n",
      "==> Working on Material :  aluminium_frames\n",
      "Recycled surplus End of Sim for Mat  aluminium_frames  Scenario  circ_mid  =  48247896.22123377  tonnes.\n",
      "==> Working on Material :  copper\n",
      "Recycled surplus End of Sim for Mat  copper  Scenario  circ_mid  =  290035.9591884496  tonnes.\n",
      "==> Working on Material :  encapsulant\n",
      "Recycled surplus End of Sim for Mat  encapsulant  Scenario  circ_mid  =  28333066.983154226  tonnes.\n",
      "==> Working on Material :  backsheet\n",
      "Recycled surplus End of Sim for Mat  backsheet  Scenario  circ_mid  =  11899991.040827412  tonnes.\n",
      "circ_low\n",
      ">>>> Calculating Material Flows <<<<\n",
      "\n",
      "Working on Scenario:  circ_low\n",
      "********************\n"
     ]
    },
    {
     "name": "stderr",
     "output_type": "stream",
     "text": [
      "C:\\Users\\hmirletz\\AppData\\Local\\Temp\\1\\ipykernel_3292\\3246415230.py:6: SettingWithCopyWarning: \n",
      "A value is trying to be set on a copy of a slice from a DataFrame\n",
      "\n",
      "See the caveats in the documentation: https://pandas.pydata.org/pandas-docs/stable/user_guide/indexing.html#returning-a-view-versus-a-copy\n",
      "  sim1.scenario[scen].dataIn_m['new_Installed_Capacity_[MW]'][row] += Under_Installment #overwrite new installed\n"
     ]
    },
    {
     "name": "stdout",
     "output_type": "stream",
     "text": [
      "Finished Area+Power Generation Calculations\n",
      "==> Working on Material :  glass\n",
      "==> Working on Material :  silicon\n",
      "==> Working on Material :  silver\n",
      "==> Working on Material :  aluminium_frames\n",
      "==> Working on Material :  copper\n",
      "==> Working on Material :  encapsulant\n",
      "==> Working on Material :  backsheet\n",
      "17\n",
      "PV_ICE\n",
      ">>>> Calculating Material Flows <<<<\n",
      "\n",
      "Working on Scenario:  PV_ICE\n",
      "********************\n"
     ]
    },
    {
     "name": "stderr",
     "output_type": "stream",
     "text": [
      "C:\\Users\\hmirletz\\AppData\\Local\\Temp\\1\\ipykernel_3292\\3246415230.py:6: SettingWithCopyWarning: \n",
      "A value is trying to be set on a copy of a slice from a DataFrame\n",
      "\n",
      "See the caveats in the documentation: https://pandas.pydata.org/pandas-docs/stable/user_guide/indexing.html#returning-a-view-versus-a-copy\n",
      "  sim1.scenario[scen].dataIn_m['new_Installed_Capacity_[MW]'][row] += Under_Installment #overwrite new installed\n"
     ]
    },
    {
     "name": "stdout",
     "output_type": "stream",
     "text": [
      "Finished Area+Power Generation Calculations\n",
      "==> Working on Material :  glass\n",
      "==> Working on Material :  silicon\n",
      "==> Working on Material :  silver\n",
      "==> Working on Material :  aluminium_frames\n",
      "==> Working on Material :  copper\n",
      "==> Working on Material :  encapsulant\n",
      "==> Working on Material :  backsheet\n",
      "circ_high\n",
      ">>>> Calculating Material Flows <<<<\n",
      "\n",
      "Working on Scenario:  circ_high\n",
      "********************\n"
     ]
    },
    {
     "name": "stderr",
     "output_type": "stream",
     "text": [
      "C:\\Users\\hmirletz\\AppData\\Local\\Temp\\1\\ipykernel_3292\\3246415230.py:6: SettingWithCopyWarning: \n",
      "A value is trying to be set on a copy of a slice from a DataFrame\n",
      "\n",
      "See the caveats in the documentation: https://pandas.pydata.org/pandas-docs/stable/user_guide/indexing.html#returning-a-view-versus-a-copy\n",
      "  sim1.scenario[scen].dataIn_m['new_Installed_Capacity_[MW]'][row] += Under_Installment #overwrite new installed\n"
     ]
    },
    {
     "name": "stdout",
     "output_type": "stream",
     "text": [
      "Finished Area+Power Generation Calculations\n",
      "==> Working on Material :  glass\n",
      "Recycled surplus End of Sim for Mat  glass  Scenario  circ_high  =  2787030969.8975344  tonnes.\n",
      "==> Working on Material :  silicon\n",
      "Recycled surplus End of Sim for Mat  silicon  Scenario  circ_high  =  92130764.51066588  tonnes.\n",
      "==> Working on Material :  silver\n",
      "Recycled surplus End of Sim for Mat  silver  Scenario  circ_high  =  522204.79505684547  tonnes.\n",
      "==> Working on Material :  aluminium_frames\n",
      "Recycled surplus End of Sim for Mat  aluminium_frames  Scenario  circ_high  =  315960505.1026145  tonnes.\n",
      "==> Working on Material :  copper\n",
      "Recycled surplus End of Sim for Mat  copper  Scenario  circ_high  =  1904912.986497598  tonnes.\n",
      "==> Working on Material :  encapsulant\n",
      "Recycled surplus End of Sim for Mat  encapsulant  Scenario  circ_high  =  185857396.31027597  tonnes.\n",
      "==> Working on Material :  backsheet\n",
      "Recycled surplus End of Sim for Mat  backsheet  Scenario  circ_high  =  78240039.20964287  tonnes.\n",
      "circ_mid\n",
      ">>>> Calculating Material Flows <<<<\n",
      "\n",
      "Working on Scenario:  circ_mid\n",
      "********************\n"
     ]
    },
    {
     "name": "stderr",
     "output_type": "stream",
     "text": [
      "C:\\Users\\hmirletz\\AppData\\Local\\Temp\\1\\ipykernel_3292\\3246415230.py:6: SettingWithCopyWarning: \n",
      "A value is trying to be set on a copy of a slice from a DataFrame\n",
      "\n",
      "See the caveats in the documentation: https://pandas.pydata.org/pandas-docs/stable/user_guide/indexing.html#returning-a-view-versus-a-copy\n",
      "  sim1.scenario[scen].dataIn_m['new_Installed_Capacity_[MW]'][row] += Under_Installment #overwrite new installed\n"
     ]
    },
    {
     "name": "stdout",
     "output_type": "stream",
     "text": [
      "Finished Area+Power Generation Calculations\n",
      "==> Working on Material :  glass\n",
      "Recycled surplus End of Sim for Mat  glass  Scenario  circ_mid  =  426233162.6874477  tonnes.\n",
      "==> Working on Material :  silicon\n",
      "Recycled surplus End of Sim for Mat  silicon  Scenario  circ_mid  =  14056687.844464416  tonnes.\n",
      "==> Working on Material :  silver\n",
      "Recycled surplus End of Sim for Mat  silver  Scenario  circ_mid  =  79082.69019301583  tonnes.\n",
      "==> Working on Material :  aluminium_frames\n",
      "Recycled surplus End of Sim for Mat  aluminium_frames  Scenario  circ_mid  =  48247896.22123377  tonnes.\n",
      "==> Working on Material :  copper\n",
      "Recycled surplus End of Sim for Mat  copper  Scenario  circ_mid  =  290035.9591884496  tonnes.\n",
      "==> Working on Material :  encapsulant\n",
      "Recycled surplus End of Sim for Mat  encapsulant  Scenario  circ_mid  =  28333066.983154226  tonnes.\n",
      "==> Working on Material :  backsheet\n",
      "Recycled surplus End of Sim for Mat  backsheet  Scenario  circ_mid  =  11899991.040827412  tonnes.\n",
      "circ_low\n",
      ">>>> Calculating Material Flows <<<<\n",
      "\n",
      "Working on Scenario:  circ_low\n",
      "********************\n"
     ]
    },
    {
     "name": "stderr",
     "output_type": "stream",
     "text": [
      "C:\\Users\\hmirletz\\AppData\\Local\\Temp\\1\\ipykernel_3292\\3246415230.py:6: SettingWithCopyWarning: \n",
      "A value is trying to be set on a copy of a slice from a DataFrame\n",
      "\n",
      "See the caveats in the documentation: https://pandas.pydata.org/pandas-docs/stable/user_guide/indexing.html#returning-a-view-versus-a-copy\n",
      "  sim1.scenario[scen].dataIn_m['new_Installed_Capacity_[MW]'][row] += Under_Installment #overwrite new installed\n"
     ]
    },
    {
     "name": "stdout",
     "output_type": "stream",
     "text": [
      "Finished Area+Power Generation Calculations\n",
      "==> Working on Material :  glass\n",
      "==> Working on Material :  silicon\n",
      "==> Working on Material :  silver\n",
      "==> Working on Material :  aluminium_frames\n",
      "==> Working on Material :  copper\n",
      "==> Working on Material :  encapsulant\n",
      "==> Working on Material :  backsheet\n",
      "18\n",
      "PV_ICE\n",
      ">>>> Calculating Material Flows <<<<\n",
      "\n",
      "Working on Scenario:  PV_ICE\n",
      "********************\n"
     ]
    },
    {
     "name": "stderr",
     "output_type": "stream",
     "text": [
      "C:\\Users\\hmirletz\\AppData\\Local\\Temp\\1\\ipykernel_3292\\3246415230.py:6: SettingWithCopyWarning: \n",
      "A value is trying to be set on a copy of a slice from a DataFrame\n",
      "\n",
      "See the caveats in the documentation: https://pandas.pydata.org/pandas-docs/stable/user_guide/indexing.html#returning-a-view-versus-a-copy\n",
      "  sim1.scenario[scen].dataIn_m['new_Installed_Capacity_[MW]'][row] += Under_Installment #overwrite new installed\n"
     ]
    },
    {
     "name": "stdout",
     "output_type": "stream",
     "text": [
      "Finished Area+Power Generation Calculations\n",
      "==> Working on Material :  glass\n",
      "==> Working on Material :  silicon\n",
      "==> Working on Material :  silver\n",
      "==> Working on Material :  aluminium_frames\n",
      "==> Working on Material :  copper\n",
      "==> Working on Material :  encapsulant\n",
      "==> Working on Material :  backsheet\n",
      "circ_high\n",
      ">>>> Calculating Material Flows <<<<\n",
      "\n",
      "Working on Scenario:  circ_high\n",
      "********************\n"
     ]
    },
    {
     "name": "stderr",
     "output_type": "stream",
     "text": [
      "C:\\Users\\hmirletz\\AppData\\Local\\Temp\\1\\ipykernel_3292\\3246415230.py:6: SettingWithCopyWarning: \n",
      "A value is trying to be set on a copy of a slice from a DataFrame\n",
      "\n",
      "See the caveats in the documentation: https://pandas.pydata.org/pandas-docs/stable/user_guide/indexing.html#returning-a-view-versus-a-copy\n",
      "  sim1.scenario[scen].dataIn_m['new_Installed_Capacity_[MW]'][row] += Under_Installment #overwrite new installed\n"
     ]
    },
    {
     "name": "stdout",
     "output_type": "stream",
     "text": [
      "Finished Area+Power Generation Calculations\n",
      "==> Working on Material :  glass\n",
      "Recycled surplus End of Sim for Mat  glass  Scenario  circ_high  =  2787030969.8975344  tonnes.\n",
      "==> Working on Material :  silicon\n",
      "Recycled surplus End of Sim for Mat  silicon  Scenario  circ_high  =  92130764.51066588  tonnes.\n",
      "==> Working on Material :  silver\n",
      "Recycled surplus End of Sim for Mat  silver  Scenario  circ_high  =  522204.79505684547  tonnes.\n",
      "==> Working on Material :  aluminium_frames\n",
      "Recycled surplus End of Sim for Mat  aluminium_frames  Scenario  circ_high  =  315960505.1026145  tonnes.\n",
      "==> Working on Material :  copper\n",
      "Recycled surplus End of Sim for Mat  copper  Scenario  circ_high  =  1904912.986497598  tonnes.\n",
      "==> Working on Material :  encapsulant\n",
      "Recycled surplus End of Sim for Mat  encapsulant  Scenario  circ_high  =  185857396.31027597  tonnes.\n",
      "==> Working on Material :  backsheet\n",
      "Recycled surplus End of Sim for Mat  backsheet  Scenario  circ_high  =  78240039.20964287  tonnes.\n",
      "circ_mid\n",
      ">>>> Calculating Material Flows <<<<\n",
      "\n",
      "Working on Scenario:  circ_mid\n",
      "********************\n"
     ]
    },
    {
     "name": "stderr",
     "output_type": "stream",
     "text": [
      "C:\\Users\\hmirletz\\AppData\\Local\\Temp\\1\\ipykernel_3292\\3246415230.py:6: SettingWithCopyWarning: \n",
      "A value is trying to be set on a copy of a slice from a DataFrame\n",
      "\n",
      "See the caveats in the documentation: https://pandas.pydata.org/pandas-docs/stable/user_guide/indexing.html#returning-a-view-versus-a-copy\n",
      "  sim1.scenario[scen].dataIn_m['new_Installed_Capacity_[MW]'][row] += Under_Installment #overwrite new installed\n"
     ]
    },
    {
     "name": "stdout",
     "output_type": "stream",
     "text": [
      "Finished Area+Power Generation Calculations\n",
      "==> Working on Material :  glass\n",
      "Recycled surplus End of Sim for Mat  glass  Scenario  circ_mid  =  426233162.6874477  tonnes.\n",
      "==> Working on Material :  silicon\n",
      "Recycled surplus End of Sim for Mat  silicon  Scenario  circ_mid  =  14056687.844464416  tonnes.\n",
      "==> Working on Material :  silver\n",
      "Recycled surplus End of Sim for Mat  silver  Scenario  circ_mid  =  79082.69019301583  tonnes.\n",
      "==> Working on Material :  aluminium_frames\n",
      "Recycled surplus End of Sim for Mat  aluminium_frames  Scenario  circ_mid  =  48247896.22123377  tonnes.\n",
      "==> Working on Material :  copper\n",
      "Recycled surplus End of Sim for Mat  copper  Scenario  circ_mid  =  290035.9591884496  tonnes.\n",
      "==> Working on Material :  encapsulant\n",
      "Recycled surplus End of Sim for Mat  encapsulant  Scenario  circ_mid  =  28333066.983154226  tonnes.\n",
      "==> Working on Material :  backsheet\n",
      "Recycled surplus End of Sim for Mat  backsheet  Scenario  circ_mid  =  11899991.040827412  tonnes.\n",
      "circ_low\n",
      ">>>> Calculating Material Flows <<<<\n",
      "\n",
      "Working on Scenario:  circ_low\n",
      "********************\n"
     ]
    },
    {
     "name": "stderr",
     "output_type": "stream",
     "text": [
      "C:\\Users\\hmirletz\\AppData\\Local\\Temp\\1\\ipykernel_3292\\3246415230.py:6: SettingWithCopyWarning: \n",
      "A value is trying to be set on a copy of a slice from a DataFrame\n",
      "\n",
      "See the caveats in the documentation: https://pandas.pydata.org/pandas-docs/stable/user_guide/indexing.html#returning-a-view-versus-a-copy\n",
      "  sim1.scenario[scen].dataIn_m['new_Installed_Capacity_[MW]'][row] += Under_Installment #overwrite new installed\n"
     ]
    },
    {
     "name": "stdout",
     "output_type": "stream",
     "text": [
      "Finished Area+Power Generation Calculations\n",
      "==> Working on Material :  glass\n",
      "==> Working on Material :  silicon\n",
      "==> Working on Material :  silver\n",
      "==> Working on Material :  aluminium_frames\n",
      "==> Working on Material :  copper\n",
      "==> Working on Material :  encapsulant\n",
      "==> Working on Material :  backsheet\n",
      "19\n",
      "PV_ICE\n",
      ">>>> Calculating Material Flows <<<<\n",
      "\n",
      "Working on Scenario:  PV_ICE\n",
      "********************\n"
     ]
    },
    {
     "name": "stderr",
     "output_type": "stream",
     "text": [
      "C:\\Users\\hmirletz\\AppData\\Local\\Temp\\1\\ipykernel_3292\\3246415230.py:6: SettingWithCopyWarning: \n",
      "A value is trying to be set on a copy of a slice from a DataFrame\n",
      "\n",
      "See the caveats in the documentation: https://pandas.pydata.org/pandas-docs/stable/user_guide/indexing.html#returning-a-view-versus-a-copy\n",
      "  sim1.scenario[scen].dataIn_m['new_Installed_Capacity_[MW]'][row] += Under_Installment #overwrite new installed\n"
     ]
    },
    {
     "name": "stdout",
     "output_type": "stream",
     "text": [
      "Finished Area+Power Generation Calculations\n",
      "==> Working on Material :  glass\n",
      "==> Working on Material :  silicon\n",
      "==> Working on Material :  silver\n",
      "==> Working on Material :  aluminium_frames\n",
      "==> Working on Material :  copper\n",
      "==> Working on Material :  encapsulant\n",
      "==> Working on Material :  backsheet\n",
      "circ_high\n",
      ">>>> Calculating Material Flows <<<<\n",
      "\n",
      "Working on Scenario:  circ_high\n",
      "********************\n"
     ]
    },
    {
     "name": "stderr",
     "output_type": "stream",
     "text": [
      "C:\\Users\\hmirletz\\AppData\\Local\\Temp\\1\\ipykernel_3292\\3246415230.py:6: SettingWithCopyWarning: \n",
      "A value is trying to be set on a copy of a slice from a DataFrame\n",
      "\n",
      "See the caveats in the documentation: https://pandas.pydata.org/pandas-docs/stable/user_guide/indexing.html#returning-a-view-versus-a-copy\n",
      "  sim1.scenario[scen].dataIn_m['new_Installed_Capacity_[MW]'][row] += Under_Installment #overwrite new installed\n"
     ]
    },
    {
     "name": "stdout",
     "output_type": "stream",
     "text": [
      "Finished Area+Power Generation Calculations\n",
      "==> Working on Material :  glass\n",
      "Recycled surplus End of Sim for Mat  glass  Scenario  circ_high  =  2787030969.8975344  tonnes.\n",
      "==> Working on Material :  silicon\n",
      "Recycled surplus End of Sim for Mat  silicon  Scenario  circ_high  =  92130764.51066588  tonnes.\n",
      "==> Working on Material :  silver\n",
      "Recycled surplus End of Sim for Mat  silver  Scenario  circ_high  =  522204.79505684547  tonnes.\n",
      "==> Working on Material :  aluminium_frames\n",
      "Recycled surplus End of Sim for Mat  aluminium_frames  Scenario  circ_high  =  315960505.1026145  tonnes.\n",
      "==> Working on Material :  copper\n",
      "Recycled surplus End of Sim for Mat  copper  Scenario  circ_high  =  1904912.986497598  tonnes.\n",
      "==> Working on Material :  encapsulant\n",
      "Recycled surplus End of Sim for Mat  encapsulant  Scenario  circ_high  =  185857396.31027597  tonnes.\n",
      "==> Working on Material :  backsheet\n",
      "Recycled surplus End of Sim for Mat  backsheet  Scenario  circ_high  =  78240039.20964287  tonnes.\n",
      "circ_mid\n",
      ">>>> Calculating Material Flows <<<<\n",
      "\n",
      "Working on Scenario:  circ_mid\n",
      "********************\n"
     ]
    },
    {
     "name": "stderr",
     "output_type": "stream",
     "text": [
      "C:\\Users\\hmirletz\\AppData\\Local\\Temp\\1\\ipykernel_3292\\3246415230.py:6: SettingWithCopyWarning: \n",
      "A value is trying to be set on a copy of a slice from a DataFrame\n",
      "\n",
      "See the caveats in the documentation: https://pandas.pydata.org/pandas-docs/stable/user_guide/indexing.html#returning-a-view-versus-a-copy\n",
      "  sim1.scenario[scen].dataIn_m['new_Installed_Capacity_[MW]'][row] += Under_Installment #overwrite new installed\n"
     ]
    },
    {
     "name": "stdout",
     "output_type": "stream",
     "text": [
      "Finished Area+Power Generation Calculations\n",
      "==> Working on Material :  glass\n",
      "Recycled surplus End of Sim for Mat  glass  Scenario  circ_mid  =  426233162.6874477  tonnes.\n",
      "==> Working on Material :  silicon\n",
      "Recycled surplus End of Sim for Mat  silicon  Scenario  circ_mid  =  14056687.844464416  tonnes.\n",
      "==> Working on Material :  silver\n",
      "Recycled surplus End of Sim for Mat  silver  Scenario  circ_mid  =  79082.69019301583  tonnes.\n",
      "==> Working on Material :  aluminium_frames\n",
      "Recycled surplus End of Sim for Mat  aluminium_frames  Scenario  circ_mid  =  48247896.22123377  tonnes.\n",
      "==> Working on Material :  copper\n",
      "Recycled surplus End of Sim for Mat  copper  Scenario  circ_mid  =  290035.9591884496  tonnes.\n",
      "==> Working on Material :  encapsulant\n",
      "Recycled surplus End of Sim for Mat  encapsulant  Scenario  circ_mid  =  28333066.983154226  tonnes.\n",
      "==> Working on Material :  backsheet\n",
      "Recycled surplus End of Sim for Mat  backsheet  Scenario  circ_mid  =  11899991.040827412  tonnes.\n",
      "circ_low\n",
      ">>>> Calculating Material Flows <<<<\n",
      "\n",
      "Working on Scenario:  circ_low\n",
      "********************\n"
     ]
    },
    {
     "name": "stderr",
     "output_type": "stream",
     "text": [
      "C:\\Users\\hmirletz\\AppData\\Local\\Temp\\1\\ipykernel_3292\\3246415230.py:6: SettingWithCopyWarning: \n",
      "A value is trying to be set on a copy of a slice from a DataFrame\n",
      "\n",
      "See the caveats in the documentation: https://pandas.pydata.org/pandas-docs/stable/user_guide/indexing.html#returning-a-view-versus-a-copy\n",
      "  sim1.scenario[scen].dataIn_m['new_Installed_Capacity_[MW]'][row] += Under_Installment #overwrite new installed\n"
     ]
    },
    {
     "name": "stdout",
     "output_type": "stream",
     "text": [
      "Finished Area+Power Generation Calculations\n",
      "==> Working on Material :  glass\n",
      "==> Working on Material :  silicon\n",
      "==> Working on Material :  silver\n",
      "==> Working on Material :  aluminium_frames\n",
      "==> Working on Material :  copper\n",
      "==> Working on Material :  encapsulant\n",
      "==> Working on Material :  backsheet\n",
      "20\n",
      "PV_ICE\n",
      ">>>> Calculating Material Flows <<<<\n",
      "\n",
      "Working on Scenario:  PV_ICE\n",
      "********************\n"
     ]
    },
    {
     "name": "stderr",
     "output_type": "stream",
     "text": [
      "C:\\Users\\hmirletz\\AppData\\Local\\Temp\\1\\ipykernel_3292\\3246415230.py:6: SettingWithCopyWarning: \n",
      "A value is trying to be set on a copy of a slice from a DataFrame\n",
      "\n",
      "See the caveats in the documentation: https://pandas.pydata.org/pandas-docs/stable/user_guide/indexing.html#returning-a-view-versus-a-copy\n",
      "  sim1.scenario[scen].dataIn_m['new_Installed_Capacity_[MW]'][row] += Under_Installment #overwrite new installed\n"
     ]
    },
    {
     "name": "stdout",
     "output_type": "stream",
     "text": [
      "Finished Area+Power Generation Calculations\n",
      "==> Working on Material :  glass\n",
      "==> Working on Material :  silicon\n",
      "==> Working on Material :  silver\n",
      "==> Working on Material :  aluminium_frames\n",
      "==> Working on Material :  copper\n",
      "==> Working on Material :  encapsulant\n",
      "==> Working on Material :  backsheet\n",
      "circ_high\n",
      ">>>> Calculating Material Flows <<<<\n",
      "\n",
      "Working on Scenario:  circ_high\n",
      "********************\n"
     ]
    },
    {
     "name": "stderr",
     "output_type": "stream",
     "text": [
      "C:\\Users\\hmirletz\\AppData\\Local\\Temp\\1\\ipykernel_3292\\3246415230.py:6: SettingWithCopyWarning: \n",
      "A value is trying to be set on a copy of a slice from a DataFrame\n",
      "\n",
      "See the caveats in the documentation: https://pandas.pydata.org/pandas-docs/stable/user_guide/indexing.html#returning-a-view-versus-a-copy\n",
      "  sim1.scenario[scen].dataIn_m['new_Installed_Capacity_[MW]'][row] += Under_Installment #overwrite new installed\n"
     ]
    },
    {
     "name": "stdout",
     "output_type": "stream",
     "text": [
      "Finished Area+Power Generation Calculations\n",
      "==> Working on Material :  glass\n",
      "Recycled surplus End of Sim for Mat  glass  Scenario  circ_high  =  2787030969.8975344  tonnes.\n",
      "==> Working on Material :  silicon\n",
      "Recycled surplus End of Sim for Mat  silicon  Scenario  circ_high  =  92130764.51066588  tonnes.\n",
      "==> Working on Material :  silver\n",
      "Recycled surplus End of Sim for Mat  silver  Scenario  circ_high  =  522204.79505684547  tonnes.\n",
      "==> Working on Material :  aluminium_frames\n",
      "Recycled surplus End of Sim for Mat  aluminium_frames  Scenario  circ_high  =  315960505.1026145  tonnes.\n",
      "==> Working on Material :  copper\n",
      "Recycled surplus End of Sim for Mat  copper  Scenario  circ_high  =  1904912.986497598  tonnes.\n",
      "==> Working on Material :  encapsulant\n",
      "Recycled surplus End of Sim for Mat  encapsulant  Scenario  circ_high  =  185857396.31027597  tonnes.\n",
      "==> Working on Material :  backsheet\n",
      "Recycled surplus End of Sim for Mat  backsheet  Scenario  circ_high  =  78240039.20964287  tonnes.\n",
      "circ_mid\n",
      ">>>> Calculating Material Flows <<<<\n",
      "\n",
      "Working on Scenario:  circ_mid\n",
      "********************\n"
     ]
    },
    {
     "name": "stderr",
     "output_type": "stream",
     "text": [
      "C:\\Users\\hmirletz\\AppData\\Local\\Temp\\1\\ipykernel_3292\\3246415230.py:6: SettingWithCopyWarning: \n",
      "A value is trying to be set on a copy of a slice from a DataFrame\n",
      "\n",
      "See the caveats in the documentation: https://pandas.pydata.org/pandas-docs/stable/user_guide/indexing.html#returning-a-view-versus-a-copy\n",
      "  sim1.scenario[scen].dataIn_m['new_Installed_Capacity_[MW]'][row] += Under_Installment #overwrite new installed\n"
     ]
    },
    {
     "name": "stdout",
     "output_type": "stream",
     "text": [
      "Finished Area+Power Generation Calculations\n",
      "==> Working on Material :  glass\n",
      "Recycled surplus End of Sim for Mat  glass  Scenario  circ_mid  =  426233162.6874477  tonnes.\n",
      "==> Working on Material :  silicon\n",
      "Recycled surplus End of Sim for Mat  silicon  Scenario  circ_mid  =  14056687.844464416  tonnes.\n",
      "==> Working on Material :  silver\n",
      "Recycled surplus End of Sim for Mat  silver  Scenario  circ_mid  =  79082.69019301583  tonnes.\n",
      "==> Working on Material :  aluminium_frames\n",
      "Recycled surplus End of Sim for Mat  aluminium_frames  Scenario  circ_mid  =  48247896.22123377  tonnes.\n",
      "==> Working on Material :  copper\n",
      "Recycled surplus End of Sim for Mat  copper  Scenario  circ_mid  =  290035.9591884496  tonnes.\n",
      "==> Working on Material :  encapsulant\n",
      "Recycled surplus End of Sim for Mat  encapsulant  Scenario  circ_mid  =  28333066.983154226  tonnes.\n",
      "==> Working on Material :  backsheet\n",
      "Recycled surplus End of Sim for Mat  backsheet  Scenario  circ_mid  =  11899991.040827412  tonnes.\n",
      "circ_low\n",
      ">>>> Calculating Material Flows <<<<\n",
      "\n",
      "Working on Scenario:  circ_low\n",
      "********************\n"
     ]
    },
    {
     "name": "stderr",
     "output_type": "stream",
     "text": [
      "C:\\Users\\hmirletz\\AppData\\Local\\Temp\\1\\ipykernel_3292\\3246415230.py:6: SettingWithCopyWarning: \n",
      "A value is trying to be set on a copy of a slice from a DataFrame\n",
      "\n",
      "See the caveats in the documentation: https://pandas.pydata.org/pandas-docs/stable/user_guide/indexing.html#returning-a-view-versus-a-copy\n",
      "  sim1.scenario[scen].dataIn_m['new_Installed_Capacity_[MW]'][row] += Under_Installment #overwrite new installed\n"
     ]
    },
    {
     "name": "stdout",
     "output_type": "stream",
     "text": [
      "Finished Area+Power Generation Calculations\n",
      "==> Working on Material :  glass\n",
      "==> Working on Material :  silicon\n",
      "==> Working on Material :  silver\n",
      "==> Working on Material :  aluminium_frames\n",
      "==> Working on Material :  copper\n",
      "==> Working on Material :  encapsulant\n",
      "==> Working on Material :  backsheet\n",
      "21\n",
      "PV_ICE\n",
      ">>>> Calculating Material Flows <<<<\n",
      "\n",
      "Working on Scenario:  PV_ICE\n",
      "********************\n"
     ]
    },
    {
     "name": "stderr",
     "output_type": "stream",
     "text": [
      "C:\\Users\\hmirletz\\AppData\\Local\\Temp\\1\\ipykernel_3292\\3246415230.py:6: SettingWithCopyWarning: \n",
      "A value is trying to be set on a copy of a slice from a DataFrame\n",
      "\n",
      "See the caveats in the documentation: https://pandas.pydata.org/pandas-docs/stable/user_guide/indexing.html#returning-a-view-versus-a-copy\n",
      "  sim1.scenario[scen].dataIn_m['new_Installed_Capacity_[MW]'][row] += Under_Installment #overwrite new installed\n"
     ]
    },
    {
     "name": "stdout",
     "output_type": "stream",
     "text": [
      "Finished Area+Power Generation Calculations\n",
      "==> Working on Material :  glass\n",
      "==> Working on Material :  silicon\n",
      "==> Working on Material :  silver\n",
      "==> Working on Material :  aluminium_frames\n",
      "==> Working on Material :  copper\n",
      "==> Working on Material :  encapsulant\n",
      "==> Working on Material :  backsheet\n",
      "circ_high\n",
      ">>>> Calculating Material Flows <<<<\n",
      "\n",
      "Working on Scenario:  circ_high\n",
      "********************\n"
     ]
    },
    {
     "name": "stderr",
     "output_type": "stream",
     "text": [
      "C:\\Users\\hmirletz\\AppData\\Local\\Temp\\1\\ipykernel_3292\\3246415230.py:6: SettingWithCopyWarning: \n",
      "A value is trying to be set on a copy of a slice from a DataFrame\n",
      "\n",
      "See the caveats in the documentation: https://pandas.pydata.org/pandas-docs/stable/user_guide/indexing.html#returning-a-view-versus-a-copy\n",
      "  sim1.scenario[scen].dataIn_m['new_Installed_Capacity_[MW]'][row] += Under_Installment #overwrite new installed\n"
     ]
    },
    {
     "name": "stdout",
     "output_type": "stream",
     "text": [
      "Finished Area+Power Generation Calculations\n",
      "==> Working on Material :  glass\n",
      "Recycled surplus End of Sim for Mat  glass  Scenario  circ_high  =  2787030969.8975344  tonnes.\n",
      "==> Working on Material :  silicon\n",
      "Recycled surplus End of Sim for Mat  silicon  Scenario  circ_high  =  92130764.51066588  tonnes.\n",
      "==> Working on Material :  silver\n",
      "Recycled surplus End of Sim for Mat  silver  Scenario  circ_high  =  522281.0480266041  tonnes.\n",
      "==> Working on Material :  aluminium_frames\n",
      "Recycled surplus End of Sim for Mat  aluminium_frames  Scenario  circ_high  =  315960505.1026145  tonnes.\n",
      "==> Working on Material :  copper\n",
      "Recycled surplus End of Sim for Mat  copper  Scenario  circ_high  =  1904912.986497598  tonnes.\n",
      "==> Working on Material :  encapsulant\n",
      "Recycled surplus End of Sim for Mat  encapsulant  Scenario  circ_high  =  185857396.31027597  tonnes.\n",
      "==> Working on Material :  backsheet\n",
      "Recycled surplus End of Sim for Mat  backsheet  Scenario  circ_high  =  78240039.20964287  tonnes.\n",
      "circ_mid\n",
      ">>>> Calculating Material Flows <<<<\n",
      "\n",
      "Working on Scenario:  circ_mid\n",
      "********************\n"
     ]
    },
    {
     "name": "stderr",
     "output_type": "stream",
     "text": [
      "C:\\Users\\hmirletz\\AppData\\Local\\Temp\\1\\ipykernel_3292\\3246415230.py:6: SettingWithCopyWarning: \n",
      "A value is trying to be set on a copy of a slice from a DataFrame\n",
      "\n",
      "See the caveats in the documentation: https://pandas.pydata.org/pandas-docs/stable/user_guide/indexing.html#returning-a-view-versus-a-copy\n",
      "  sim1.scenario[scen].dataIn_m['new_Installed_Capacity_[MW]'][row] += Under_Installment #overwrite new installed\n"
     ]
    },
    {
     "name": "stdout",
     "output_type": "stream",
     "text": [
      "Finished Area+Power Generation Calculations\n",
      "==> Working on Material :  glass\n",
      "Recycled surplus End of Sim for Mat  glass  Scenario  circ_mid  =  426233162.6874477  tonnes.\n",
      "==> Working on Material :  silicon\n",
      "Recycled surplus End of Sim for Mat  silicon  Scenario  circ_mid  =  14056687.844464416  tonnes.\n",
      "==> Working on Material :  silver\n",
      "Recycled surplus End of Sim for Mat  silver  Scenario  circ_mid  =  79082.69019301583  tonnes.\n",
      "==> Working on Material :  aluminium_frames\n",
      "Recycled surplus End of Sim for Mat  aluminium_frames  Scenario  circ_mid  =  48247896.22123377  tonnes.\n",
      "==> Working on Material :  copper\n",
      "Recycled surplus End of Sim for Mat  copper  Scenario  circ_mid  =  290035.9591884496  tonnes.\n",
      "==> Working on Material :  encapsulant\n",
      "Recycled surplus End of Sim for Mat  encapsulant  Scenario  circ_mid  =  28333066.983154226  tonnes.\n",
      "==> Working on Material :  backsheet\n",
      "Recycled surplus End of Sim for Mat  backsheet  Scenario  circ_mid  =  11899991.040827412  tonnes.\n",
      "circ_low\n",
      ">>>> Calculating Material Flows <<<<\n",
      "\n",
      "Working on Scenario:  circ_low\n",
      "********************\n"
     ]
    },
    {
     "name": "stderr",
     "output_type": "stream",
     "text": [
      "C:\\Users\\hmirletz\\AppData\\Local\\Temp\\1\\ipykernel_3292\\3246415230.py:6: SettingWithCopyWarning: \n",
      "A value is trying to be set on a copy of a slice from a DataFrame\n",
      "\n",
      "See the caveats in the documentation: https://pandas.pydata.org/pandas-docs/stable/user_guide/indexing.html#returning-a-view-versus-a-copy\n",
      "  sim1.scenario[scen].dataIn_m['new_Installed_Capacity_[MW]'][row] += Under_Installment #overwrite new installed\n"
     ]
    },
    {
     "name": "stdout",
     "output_type": "stream",
     "text": [
      "Finished Area+Power Generation Calculations\n",
      "==> Working on Material :  glass\n",
      "==> Working on Material :  silicon\n",
      "==> Working on Material :  silver\n",
      "==> Working on Material :  aluminium_frames\n",
      "==> Working on Material :  copper\n",
      "==> Working on Material :  encapsulant\n",
      "==> Working on Material :  backsheet\n",
      "22\n",
      "PV_ICE\n",
      ">>>> Calculating Material Flows <<<<\n",
      "\n",
      "Working on Scenario:  PV_ICE\n",
      "********************\n"
     ]
    },
    {
     "name": "stderr",
     "output_type": "stream",
     "text": [
      "C:\\Users\\hmirletz\\AppData\\Local\\Temp\\1\\ipykernel_3292\\3246415230.py:6: SettingWithCopyWarning: \n",
      "A value is trying to be set on a copy of a slice from a DataFrame\n",
      "\n",
      "See the caveats in the documentation: https://pandas.pydata.org/pandas-docs/stable/user_guide/indexing.html#returning-a-view-versus-a-copy\n",
      "  sim1.scenario[scen].dataIn_m['new_Installed_Capacity_[MW]'][row] += Under_Installment #overwrite new installed\n"
     ]
    },
    {
     "name": "stdout",
     "output_type": "stream",
     "text": [
      "Finished Area+Power Generation Calculations\n",
      "==> Working on Material :  glass\n",
      "==> Working on Material :  silicon\n",
      "==> Working on Material :  silver\n",
      "==> Working on Material :  aluminium_frames\n",
      "==> Working on Material :  copper\n",
      "==> Working on Material :  encapsulant\n",
      "==> Working on Material :  backsheet\n",
      "circ_high\n",
      ">>>> Calculating Material Flows <<<<\n",
      "\n",
      "Working on Scenario:  circ_high\n",
      "********************\n"
     ]
    },
    {
     "name": "stderr",
     "output_type": "stream",
     "text": [
      "C:\\Users\\hmirletz\\AppData\\Local\\Temp\\1\\ipykernel_3292\\3246415230.py:6: SettingWithCopyWarning: \n",
      "A value is trying to be set on a copy of a slice from a DataFrame\n",
      "\n",
      "See the caveats in the documentation: https://pandas.pydata.org/pandas-docs/stable/user_guide/indexing.html#returning-a-view-versus-a-copy\n",
      "  sim1.scenario[scen].dataIn_m['new_Installed_Capacity_[MW]'][row] += Under_Installment #overwrite new installed\n"
     ]
    },
    {
     "name": "stdout",
     "output_type": "stream",
     "text": [
      "Finished Area+Power Generation Calculations\n",
      "==> Working on Material :  glass\n",
      "Recycled surplus End of Sim for Mat  glass  Scenario  circ_high  =  2787195276.6245084  tonnes.\n",
      "==> Working on Material :  silicon\n",
      "Recycled surplus End of Sim for Mat  silicon  Scenario  circ_high  =  92137323.551914  tonnes.\n",
      "==> Working on Material :  silver\n",
      "Recycled surplus End of Sim for Mat  silver  Scenario  circ_high  =  522370.0331784635  tonnes.\n",
      "==> Working on Material :  aluminium_frames\n",
      "Recycled surplus End of Sim for Mat  aluminium_frames  Scenario  circ_high  =  315981852.8637393  tonnes.\n",
      "==> Working on Material :  copper\n",
      "Recycled surplus End of Sim for Mat  copper  Scenario  circ_high  =  1905079.478916816  tonnes.\n",
      "==> Working on Material :  encapsulant\n",
      "Recycled surplus End of Sim for Mat  encapsulant  Scenario  circ_high  =  185870755.69400868  tonnes.\n",
      "==> Working on Material :  backsheet\n",
      "Recycled surplus End of Sim for Mat  backsheet  Scenario  circ_high  =  78249089.93890864  tonnes.\n",
      "circ_mid\n",
      ">>>> Calculating Material Flows <<<<\n",
      "\n",
      "Working on Scenario:  circ_mid\n",
      "********************\n"
     ]
    },
    {
     "name": "stderr",
     "output_type": "stream",
     "text": [
      "C:\\Users\\hmirletz\\AppData\\Local\\Temp\\1\\ipykernel_3292\\3246415230.py:6: SettingWithCopyWarning: \n",
      "A value is trying to be set on a copy of a slice from a DataFrame\n",
      "\n",
      "See the caveats in the documentation: https://pandas.pydata.org/pandas-docs/stable/user_guide/indexing.html#returning-a-view-versus-a-copy\n",
      "  sim1.scenario[scen].dataIn_m['new_Installed_Capacity_[MW]'][row] += Under_Installment #overwrite new installed\n"
     ]
    },
    {
     "name": "stdout",
     "output_type": "stream",
     "text": [
      "Finished Area+Power Generation Calculations\n",
      "==> Working on Material :  glass\n",
      "Recycled surplus End of Sim for Mat  glass  Scenario  circ_mid  =  426233162.6874477  tonnes.\n",
      "==> Working on Material :  silicon\n",
      "Recycled surplus End of Sim for Mat  silicon  Scenario  circ_mid  =  14056687.844464416  tonnes.\n",
      "==> Working on Material :  silver\n",
      "Recycled surplus End of Sim for Mat  silver  Scenario  circ_mid  =  79082.69019301583  tonnes.\n",
      "==> Working on Material :  aluminium_frames\n",
      "Recycled surplus End of Sim for Mat  aluminium_frames  Scenario  circ_mid  =  48247896.22123377  tonnes.\n",
      "==> Working on Material :  copper\n",
      "Recycled surplus End of Sim for Mat  copper  Scenario  circ_mid  =  290035.9591884496  tonnes.\n",
      "==> Working on Material :  encapsulant\n",
      "Recycled surplus End of Sim for Mat  encapsulant  Scenario  circ_mid  =  28333066.983154226  tonnes.\n",
      "==> Working on Material :  backsheet\n",
      "Recycled surplus End of Sim for Mat  backsheet  Scenario  circ_mid  =  11899991.040827412  tonnes.\n",
      "circ_low\n",
      ">>>> Calculating Material Flows <<<<\n",
      "\n",
      "Working on Scenario:  circ_low\n",
      "********************\n"
     ]
    },
    {
     "name": "stderr",
     "output_type": "stream",
     "text": [
      "C:\\Users\\hmirletz\\AppData\\Local\\Temp\\1\\ipykernel_3292\\3246415230.py:6: SettingWithCopyWarning: \n",
      "A value is trying to be set on a copy of a slice from a DataFrame\n",
      "\n",
      "See the caveats in the documentation: https://pandas.pydata.org/pandas-docs/stable/user_guide/indexing.html#returning-a-view-versus-a-copy\n",
      "  sim1.scenario[scen].dataIn_m['new_Installed_Capacity_[MW]'][row] += Under_Installment #overwrite new installed\n"
     ]
    },
    {
     "name": "stdout",
     "output_type": "stream",
     "text": [
      "Finished Area+Power Generation Calculations\n",
      "==> Working on Material :  glass\n",
      "==> Working on Material :  silicon\n",
      "==> Working on Material :  silver\n",
      "==> Working on Material :  aluminium_frames\n",
      "==> Working on Material :  copper\n",
      "==> Working on Material :  encapsulant\n",
      "==> Working on Material :  backsheet\n",
      "23\n",
      "PV_ICE\n",
      ">>>> Calculating Material Flows <<<<\n",
      "\n",
      "Working on Scenario:  PV_ICE\n",
      "********************\n"
     ]
    },
    {
     "name": "stderr",
     "output_type": "stream",
     "text": [
      "C:\\Users\\hmirletz\\AppData\\Local\\Temp\\1\\ipykernel_3292\\3246415230.py:6: SettingWithCopyWarning: \n",
      "A value is trying to be set on a copy of a slice from a DataFrame\n",
      "\n",
      "See the caveats in the documentation: https://pandas.pydata.org/pandas-docs/stable/user_guide/indexing.html#returning-a-view-versus-a-copy\n",
      "  sim1.scenario[scen].dataIn_m['new_Installed_Capacity_[MW]'][row] += Under_Installment #overwrite new installed\n"
     ]
    },
    {
     "name": "stdout",
     "output_type": "stream",
     "text": [
      "Finished Area+Power Generation Calculations\n",
      "==> Working on Material :  glass\n",
      "==> Working on Material :  silicon\n",
      "==> Working on Material :  silver\n",
      "==> Working on Material :  aluminium_frames\n",
      "==> Working on Material :  copper\n",
      "==> Working on Material :  encapsulant\n",
      "==> Working on Material :  backsheet\n",
      "circ_high\n",
      ">>>> Calculating Material Flows <<<<\n",
      "\n",
      "Working on Scenario:  circ_high\n",
      "********************\n"
     ]
    },
    {
     "name": "stderr",
     "output_type": "stream",
     "text": [
      "C:\\Users\\hmirletz\\AppData\\Local\\Temp\\1\\ipykernel_3292\\3246415230.py:6: SettingWithCopyWarning: \n",
      "A value is trying to be set on a copy of a slice from a DataFrame\n",
      "\n",
      "See the caveats in the documentation: https://pandas.pydata.org/pandas-docs/stable/user_guide/indexing.html#returning-a-view-versus-a-copy\n",
      "  sim1.scenario[scen].dataIn_m['new_Installed_Capacity_[MW]'][row] += Under_Installment #overwrite new installed\n"
     ]
    },
    {
     "name": "stdout",
     "output_type": "stream",
     "text": [
      "Finished Area+Power Generation Calculations\n",
      "==> Working on Material :  glass\n",
      "Recycled surplus End of Sim for Mat  glass  Scenario  circ_high  =  2787421571.4978733  tonnes.\n",
      "==> Working on Material :  silicon\n",
      "Recycled surplus End of Sim for Mat  silicon  Scenario  circ_high  =  92145977.2661618  tonnes.\n",
      "==> Working on Material :  silver\n",
      "Recycled surplus End of Sim for Mat  silver  Scenario  circ_high  =  522470.6197191128  tonnes.\n",
      "==> Working on Material :  aluminium_frames\n",
      "Recycled surplus End of Sim for Mat  aluminium_frames  Scenario  circ_high  =  316010223.10240877  tonnes.\n",
      "==> Working on Material :  copper\n",
      "Recycled surplus End of Sim for Mat  copper  Scenario  circ_high  =  1905299.08363438  tonnes.\n",
      "==> Working on Material :  encapsulant\n",
      "Recycled surplus End of Sim for Mat  encapsulant  Scenario  circ_high  =  185888718.48207664  tonnes.\n",
      "==> Working on Material :  backsheet\n",
      "Recycled surplus End of Sim for Mat  backsheet  Scenario  circ_high  =  78260304.15714504  tonnes.\n",
      "circ_mid\n",
      ">>>> Calculating Material Flows <<<<\n",
      "\n",
      "Working on Scenario:  circ_mid\n",
      "********************\n"
     ]
    },
    {
     "name": "stderr",
     "output_type": "stream",
     "text": [
      "C:\\Users\\hmirletz\\AppData\\Local\\Temp\\1\\ipykernel_3292\\3246415230.py:6: SettingWithCopyWarning: \n",
      "A value is trying to be set on a copy of a slice from a DataFrame\n",
      "\n",
      "See the caveats in the documentation: https://pandas.pydata.org/pandas-docs/stable/user_guide/indexing.html#returning-a-view-versus-a-copy\n",
      "  sim1.scenario[scen].dataIn_m['new_Installed_Capacity_[MW]'][row] += Under_Installment #overwrite new installed\n"
     ]
    },
    {
     "name": "stdout",
     "output_type": "stream",
     "text": [
      "Finished Area+Power Generation Calculations\n",
      "==> Working on Material :  glass\n",
      "Recycled surplus End of Sim for Mat  glass  Scenario  circ_mid  =  426233162.6874477  tonnes.\n",
      "==> Working on Material :  silicon\n",
      "Recycled surplus End of Sim for Mat  silicon  Scenario  circ_mid  =  14056687.844464416  tonnes.\n",
      "==> Working on Material :  silver\n",
      "Recycled surplus End of Sim for Mat  silver  Scenario  circ_mid  =  79082.69019301583  tonnes.\n",
      "==> Working on Material :  aluminium_frames\n",
      "Recycled surplus End of Sim for Mat  aluminium_frames  Scenario  circ_mid  =  48247896.22123377  tonnes.\n",
      "==> Working on Material :  copper\n",
      "Recycled surplus End of Sim for Mat  copper  Scenario  circ_mid  =  290035.9591884496  tonnes.\n",
      "==> Working on Material :  encapsulant\n",
      "Recycled surplus End of Sim for Mat  encapsulant  Scenario  circ_mid  =  28333066.983154226  tonnes.\n",
      "==> Working on Material :  backsheet\n",
      "Recycled surplus End of Sim for Mat  backsheet  Scenario  circ_mid  =  11899991.040827412  tonnes.\n",
      "circ_low\n",
      ">>>> Calculating Material Flows <<<<\n",
      "\n",
      "Working on Scenario:  circ_low\n",
      "********************\n"
     ]
    },
    {
     "name": "stderr",
     "output_type": "stream",
     "text": [
      "C:\\Users\\hmirletz\\AppData\\Local\\Temp\\1\\ipykernel_3292\\3246415230.py:6: SettingWithCopyWarning: \n",
      "A value is trying to be set on a copy of a slice from a DataFrame\n",
      "\n",
      "See the caveats in the documentation: https://pandas.pydata.org/pandas-docs/stable/user_guide/indexing.html#returning-a-view-versus-a-copy\n",
      "  sim1.scenario[scen].dataIn_m['new_Installed_Capacity_[MW]'][row] += Under_Installment #overwrite new installed\n"
     ]
    },
    {
     "name": "stdout",
     "output_type": "stream",
     "text": [
      "Finished Area+Power Generation Calculations\n",
      "==> Working on Material :  glass\n",
      "==> Working on Material :  silicon\n",
      "==> Working on Material :  silver\n",
      "==> Working on Material :  aluminium_frames\n",
      "==> Working on Material :  copper\n",
      "==> Working on Material :  encapsulant\n",
      "==> Working on Material :  backsheet\n",
      "24\n",
      "PV_ICE\n",
      ">>>> Calculating Material Flows <<<<\n",
      "\n",
      "Working on Scenario:  PV_ICE\n",
      "********************\n"
     ]
    },
    {
     "name": "stderr",
     "output_type": "stream",
     "text": [
      "C:\\Users\\hmirletz\\AppData\\Local\\Temp\\1\\ipykernel_3292\\3246415230.py:6: SettingWithCopyWarning: \n",
      "A value is trying to be set on a copy of a slice from a DataFrame\n",
      "\n",
      "See the caveats in the documentation: https://pandas.pydata.org/pandas-docs/stable/user_guide/indexing.html#returning-a-view-versus-a-copy\n",
      "  sim1.scenario[scen].dataIn_m['new_Installed_Capacity_[MW]'][row] += Under_Installment #overwrite new installed\n"
     ]
    },
    {
     "name": "stdout",
     "output_type": "stream",
     "text": [
      "Finished Area+Power Generation Calculations\n",
      "==> Working on Material :  glass\n",
      "==> Working on Material :  silicon\n",
      "==> Working on Material :  silver\n",
      "==> Working on Material :  aluminium_frames\n",
      "==> Working on Material :  copper\n",
      "==> Working on Material :  encapsulant\n",
      "==> Working on Material :  backsheet\n",
      "circ_high\n",
      ">>>> Calculating Material Flows <<<<\n",
      "\n",
      "Working on Scenario:  circ_high\n",
      "********************\n"
     ]
    },
    {
     "name": "stderr",
     "output_type": "stream",
     "text": [
      "C:\\Users\\hmirletz\\AppData\\Local\\Temp\\1\\ipykernel_3292\\3246415230.py:6: SettingWithCopyWarning: \n",
      "A value is trying to be set on a copy of a slice from a DataFrame\n",
      "\n",
      "See the caveats in the documentation: https://pandas.pydata.org/pandas-docs/stable/user_guide/indexing.html#returning-a-view-versus-a-copy\n",
      "  sim1.scenario[scen].dataIn_m['new_Installed_Capacity_[MW]'][row] += Under_Installment #overwrite new installed\n"
     ]
    },
    {
     "name": "stdout",
     "output_type": "stream",
     "text": [
      "Finished Area+Power Generation Calculations\n",
      "==> Working on Material :  glass\n",
      "Recycled surplus End of Sim for Mat  glass  Scenario  circ_high  =  2787753322.5102015  tonnes.\n",
      "==> Working on Material :  silicon\n",
      "Recycled surplus End of Sim for Mat  silicon  Scenario  circ_high  =  92158135.3186515  tonnes.\n",
      "==> Working on Material :  silver\n",
      "Recycled surplus End of Sim for Mat  silver  Scenario  circ_high  =  522593.43704018486  tonnes.\n",
      "==> Working on Material :  aluminium_frames\n",
      "Recycled surplus End of Sim for Mat  aluminium_frames  Scenario  circ_high  =  316050622.1522593  tonnes.\n",
      "==> Working on Material :  copper\n",
      "Recycled surplus End of Sim for Mat  copper  Scenario  circ_high  =  1905609.6324606165  tonnes.\n",
      "==> Working on Material :  encapsulant\n",
      "Recycled surplus End of Sim for Mat  encapsulant  Scenario  circ_high  =  185913857.16491142  tonnes.\n",
      "==> Working on Material :  backsheet\n",
      "Recycled surplus End of Sim for Mat  backsheet  Scenario  circ_high  =  78275471.89481662  tonnes.\n",
      "circ_mid\n",
      ">>>> Calculating Material Flows <<<<\n",
      "\n",
      "Working on Scenario:  circ_mid\n",
      "********************\n"
     ]
    },
    {
     "name": "stderr",
     "output_type": "stream",
     "text": [
      "C:\\Users\\hmirletz\\AppData\\Local\\Temp\\1\\ipykernel_3292\\3246415230.py:6: SettingWithCopyWarning: \n",
      "A value is trying to be set on a copy of a slice from a DataFrame\n",
      "\n",
      "See the caveats in the documentation: https://pandas.pydata.org/pandas-docs/stable/user_guide/indexing.html#returning-a-view-versus-a-copy\n",
      "  sim1.scenario[scen].dataIn_m['new_Installed_Capacity_[MW]'][row] += Under_Installment #overwrite new installed\n"
     ]
    },
    {
     "name": "stdout",
     "output_type": "stream",
     "text": [
      "Finished Area+Power Generation Calculations\n",
      "==> Working on Material :  glass\n",
      "Recycled surplus End of Sim for Mat  glass  Scenario  circ_mid  =  426233162.6874477  tonnes.\n",
      "==> Working on Material :  silicon\n",
      "Recycled surplus End of Sim for Mat  silicon  Scenario  circ_mid  =  14056687.844464416  tonnes.\n",
      "==> Working on Material :  silver\n",
      "Recycled surplus End of Sim for Mat  silver  Scenario  circ_mid  =  79082.69019301583  tonnes.\n",
      "==> Working on Material :  aluminium_frames\n",
      "Recycled surplus End of Sim for Mat  aluminium_frames  Scenario  circ_mid  =  48247896.22123377  tonnes.\n",
      "==> Working on Material :  copper\n",
      "Recycled surplus End of Sim for Mat  copper  Scenario  circ_mid  =  290035.9591884496  tonnes.\n",
      "==> Working on Material :  encapsulant\n",
      "Recycled surplus End of Sim for Mat  encapsulant  Scenario  circ_mid  =  28333066.983154226  tonnes.\n",
      "==> Working on Material :  backsheet\n",
      "Recycled surplus End of Sim for Mat  backsheet  Scenario  circ_mid  =  11899991.040827412  tonnes.\n",
      "circ_low\n",
      ">>>> Calculating Material Flows <<<<\n",
      "\n",
      "Working on Scenario:  circ_low\n",
      "********************\n"
     ]
    },
    {
     "name": "stderr",
     "output_type": "stream",
     "text": [
      "C:\\Users\\hmirletz\\AppData\\Local\\Temp\\1\\ipykernel_3292\\3246415230.py:6: SettingWithCopyWarning: \n",
      "A value is trying to be set on a copy of a slice from a DataFrame\n",
      "\n",
      "See the caveats in the documentation: https://pandas.pydata.org/pandas-docs/stable/user_guide/indexing.html#returning-a-view-versus-a-copy\n",
      "  sim1.scenario[scen].dataIn_m['new_Installed_Capacity_[MW]'][row] += Under_Installment #overwrite new installed\n"
     ]
    },
    {
     "name": "stdout",
     "output_type": "stream",
     "text": [
      "Finished Area+Power Generation Calculations\n",
      "==> Working on Material :  glass\n",
      "==> Working on Material :  silicon\n",
      "==> Working on Material :  silver\n",
      "==> Working on Material :  aluminium_frames\n",
      "==> Working on Material :  copper\n",
      "==> Working on Material :  encapsulant\n",
      "==> Working on Material :  backsheet\n",
      "25\n",
      "PV_ICE\n",
      ">>>> Calculating Material Flows <<<<\n",
      "\n",
      "Working on Scenario:  PV_ICE\n",
      "********************\n"
     ]
    },
    {
     "name": "stderr",
     "output_type": "stream",
     "text": [
      "C:\\Users\\hmirletz\\AppData\\Local\\Temp\\1\\ipykernel_3292\\3246415230.py:6: SettingWithCopyWarning: \n",
      "A value is trying to be set on a copy of a slice from a DataFrame\n",
      "\n",
      "See the caveats in the documentation: https://pandas.pydata.org/pandas-docs/stable/user_guide/indexing.html#returning-a-view-versus-a-copy\n",
      "  sim1.scenario[scen].dataIn_m['new_Installed_Capacity_[MW]'][row] += Under_Installment #overwrite new installed\n"
     ]
    },
    {
     "name": "stdout",
     "output_type": "stream",
     "text": [
      "Finished Area+Power Generation Calculations\n",
      "==> Working on Material :  glass\n",
      "==> Working on Material :  silicon\n",
      "==> Working on Material :  silver\n",
      "==> Working on Material :  aluminium_frames\n",
      "==> Working on Material :  copper\n",
      "==> Working on Material :  encapsulant\n",
      "==> Working on Material :  backsheet\n",
      "circ_high\n",
      ">>>> Calculating Material Flows <<<<\n",
      "\n",
      "Working on Scenario:  circ_high\n",
      "********************\n"
     ]
    },
    {
     "name": "stderr",
     "output_type": "stream",
     "text": [
      "C:\\Users\\hmirletz\\AppData\\Local\\Temp\\1\\ipykernel_3292\\3246415230.py:6: SettingWithCopyWarning: \n",
      "A value is trying to be set on a copy of a slice from a DataFrame\n",
      "\n",
      "See the caveats in the documentation: https://pandas.pydata.org/pandas-docs/stable/user_guide/indexing.html#returning-a-view-versus-a-copy\n",
      "  sim1.scenario[scen].dataIn_m['new_Installed_Capacity_[MW]'][row] += Under_Installment #overwrite new installed\n"
     ]
    },
    {
     "name": "stdout",
     "output_type": "stream",
     "text": [
      "Finished Area+Power Generation Calculations\n",
      "==> Working on Material :  glass\n",
      "Recycled surplus End of Sim for Mat  glass  Scenario  circ_high  =  2788227043.1910014  tonnes.\n",
      "==> Working on Material :  silicon\n",
      "Recycled surplus End of Sim for Mat  silicon  Scenario  circ_high  =  92175283.71670865  tonnes.\n",
      "==> Working on Material :  silver\n",
      "Recycled surplus End of Sim for Mat  silver  Scenario  circ_high  =  522747.92204010184  tonnes.\n",
      "==> Working on Material :  aluminium_frames\n",
      "Recycled surplus End of Sim for Mat  aluminium_frames  Scenario  circ_high  =  316107844.0453842  tonnes.\n",
      "==> Working on Material :  copper\n",
      "Recycled surplus End of Sim for Mat  copper  Scenario  circ_high  =  1906031.5436963488  tonnes.\n",
      "==> Working on Material :  encapsulant\n",
      "Recycled surplus End of Sim for Mat  encapsulant  Scenario  circ_high  =  185948190.46619388  tonnes.\n",
      "==> Working on Material :  backsheet\n",
      "Recycled surplus End of Sim for Mat  backsheet  Scenario  circ_high  =  78296097.5906738  tonnes.\n",
      "circ_mid\n",
      ">>>> Calculating Material Flows <<<<\n",
      "\n",
      "Working on Scenario:  circ_mid\n",
      "********************\n"
     ]
    },
    {
     "name": "stderr",
     "output_type": "stream",
     "text": [
      "C:\\Users\\hmirletz\\AppData\\Local\\Temp\\1\\ipykernel_3292\\3246415230.py:6: SettingWithCopyWarning: \n",
      "A value is trying to be set on a copy of a slice from a DataFrame\n",
      "\n",
      "See the caveats in the documentation: https://pandas.pydata.org/pandas-docs/stable/user_guide/indexing.html#returning-a-view-versus-a-copy\n",
      "  sim1.scenario[scen].dataIn_m['new_Installed_Capacity_[MW]'][row] += Under_Installment #overwrite new installed\n"
     ]
    },
    {
     "name": "stdout",
     "output_type": "stream",
     "text": [
      "Finished Area+Power Generation Calculations\n",
      "==> Working on Material :  glass\n",
      "Recycled surplus End of Sim for Mat  glass  Scenario  circ_mid  =  426233162.6874477  tonnes.\n",
      "==> Working on Material :  silicon\n",
      "Recycled surplus End of Sim for Mat  silicon  Scenario  circ_mid  =  14056687.844464416  tonnes.\n",
      "==> Working on Material :  silver\n",
      "Recycled surplus End of Sim for Mat  silver  Scenario  circ_mid  =  79082.69019301583  tonnes.\n",
      "==> Working on Material :  aluminium_frames\n",
      "Recycled surplus End of Sim for Mat  aluminium_frames  Scenario  circ_mid  =  48247896.22123377  tonnes.\n",
      "==> Working on Material :  copper\n",
      "Recycled surplus End of Sim for Mat  copper  Scenario  circ_mid  =  290035.9591884496  tonnes.\n",
      "==> Working on Material :  encapsulant\n",
      "Recycled surplus End of Sim for Mat  encapsulant  Scenario  circ_mid  =  28333066.983154226  tonnes.\n",
      "==> Working on Material :  backsheet\n",
      "Recycled surplus End of Sim for Mat  backsheet  Scenario  circ_mid  =  11899991.040827412  tonnes.\n",
      "circ_low\n",
      ">>>> Calculating Material Flows <<<<\n",
      "\n",
      "Working on Scenario:  circ_low\n",
      "********************\n"
     ]
    },
    {
     "name": "stderr",
     "output_type": "stream",
     "text": [
      "C:\\Users\\hmirletz\\AppData\\Local\\Temp\\1\\ipykernel_3292\\3246415230.py:6: SettingWithCopyWarning: \n",
      "A value is trying to be set on a copy of a slice from a DataFrame\n",
      "\n",
      "See the caveats in the documentation: https://pandas.pydata.org/pandas-docs/stable/user_guide/indexing.html#returning-a-view-versus-a-copy\n",
      "  sim1.scenario[scen].dataIn_m['new_Installed_Capacity_[MW]'][row] += Under_Installment #overwrite new installed\n"
     ]
    },
    {
     "name": "stdout",
     "output_type": "stream",
     "text": [
      "Finished Area+Power Generation Calculations\n",
      "==> Working on Material :  glass\n",
      "==> Working on Material :  silicon\n",
      "==> Working on Material :  silver\n",
      "==> Working on Material :  aluminium_frames\n",
      "==> Working on Material :  copper\n",
      "==> Working on Material :  encapsulant\n",
      "==> Working on Material :  backsheet\n",
      "26\n",
      "PV_ICE\n",
      ">>>> Calculating Material Flows <<<<\n",
      "\n",
      "Working on Scenario:  PV_ICE\n",
      "********************\n"
     ]
    },
    {
     "name": "stderr",
     "output_type": "stream",
     "text": [
      "C:\\Users\\hmirletz\\AppData\\Local\\Temp\\1\\ipykernel_3292\\3246415230.py:6: SettingWithCopyWarning: \n",
      "A value is trying to be set on a copy of a slice from a DataFrame\n",
      "\n",
      "See the caveats in the documentation: https://pandas.pydata.org/pandas-docs/stable/user_guide/indexing.html#returning-a-view-versus-a-copy\n",
      "  sim1.scenario[scen].dataIn_m['new_Installed_Capacity_[MW]'][row] += Under_Installment #overwrite new installed\n"
     ]
    },
    {
     "name": "stdout",
     "output_type": "stream",
     "text": [
      "Finished Area+Power Generation Calculations\n",
      "==> Working on Material :  glass\n",
      "==> Working on Material :  silicon\n",
      "==> Working on Material :  silver\n",
      "==> Working on Material :  aluminium_frames\n",
      "==> Working on Material :  copper\n",
      "==> Working on Material :  encapsulant\n",
      "==> Working on Material :  backsheet\n",
      "circ_high\n",
      ">>>> Calculating Material Flows <<<<\n",
      "\n",
      "Working on Scenario:  circ_high\n",
      "********************\n"
     ]
    },
    {
     "name": "stderr",
     "output_type": "stream",
     "text": [
      "C:\\Users\\hmirletz\\AppData\\Local\\Temp\\1\\ipykernel_3292\\3246415230.py:6: SettingWithCopyWarning: \n",
      "A value is trying to be set on a copy of a slice from a DataFrame\n",
      "\n",
      "See the caveats in the documentation: https://pandas.pydata.org/pandas-docs/stable/user_guide/indexing.html#returning-a-view-versus-a-copy\n",
      "  sim1.scenario[scen].dataIn_m['new_Installed_Capacity_[MW]'][row] += Under_Installment #overwrite new installed\n"
     ]
    },
    {
     "name": "stdout",
     "output_type": "stream",
     "text": [
      "Finished Area+Power Generation Calculations\n",
      "==> Working on Material :  glass\n",
      "Recycled surplus End of Sim for Mat  glass  Scenario  circ_high  =  2788888852.2380667  tonnes.\n",
      "==> Working on Material :  silicon\n",
      "Recycled surplus End of Sim for Mat  silicon  Scenario  circ_high  =  92198945.35354482  tonnes.\n",
      "==> Working on Material :  silver\n",
      "Recycled surplus End of Sim for Mat  silver  Scenario  circ_high  =  522940.98065930686  tonnes.\n",
      "==> Working on Material :  aluminium_frames\n",
      "Recycled surplus End of Sim for Mat  aluminium_frames  Scenario  circ_high  =  316187461.4129709  tonnes.\n",
      "==> Working on Material :  copper\n",
      "Recycled surplus End of Sim for Mat  copper  Scenario  circ_high  =  1906594.3077959258  tonnes.\n",
      "==> Working on Material :  encapsulant\n",
      "Recycled surplus End of Sim for Mat  encapsulant  Scenario  circ_high  =  185994449.43586808  tonnes.\n",
      "==> Working on Material :  backsheet\n",
      "Recycled surplus End of Sim for Mat  backsheet  Scenario  circ_high  =  78322998.88555433  tonnes.\n",
      "circ_mid\n",
      ">>>> Calculating Material Flows <<<<\n",
      "\n",
      "Working on Scenario:  circ_mid\n",
      "********************\n"
     ]
    },
    {
     "name": "stderr",
     "output_type": "stream",
     "text": [
      "C:\\Users\\hmirletz\\AppData\\Local\\Temp\\1\\ipykernel_3292\\3246415230.py:6: SettingWithCopyWarning: \n",
      "A value is trying to be set on a copy of a slice from a DataFrame\n",
      "\n",
      "See the caveats in the documentation: https://pandas.pydata.org/pandas-docs/stable/user_guide/indexing.html#returning-a-view-versus-a-copy\n",
      "  sim1.scenario[scen].dataIn_m['new_Installed_Capacity_[MW]'][row] += Under_Installment #overwrite new installed\n"
     ]
    },
    {
     "name": "stdout",
     "output_type": "stream",
     "text": [
      "Finished Area+Power Generation Calculations\n",
      "==> Working on Material :  glass\n",
      "Recycled surplus End of Sim for Mat  glass  Scenario  circ_mid  =  426233162.6874477  tonnes.\n",
      "==> Working on Material :  silicon\n",
      "Recycled surplus End of Sim for Mat  silicon  Scenario  circ_mid  =  14056687.844464416  tonnes.\n",
      "==> Working on Material :  silver\n",
      "Recycled surplus End of Sim for Mat  silver  Scenario  circ_mid  =  79082.69019301583  tonnes.\n",
      "==> Working on Material :  aluminium_frames\n",
      "Recycled surplus End of Sim for Mat  aluminium_frames  Scenario  circ_mid  =  48247896.22123377  tonnes.\n",
      "==> Working on Material :  copper\n",
      "Recycled surplus End of Sim for Mat  copper  Scenario  circ_mid  =  290035.9591884496  tonnes.\n",
      "==> Working on Material :  encapsulant\n",
      "Recycled surplus End of Sim for Mat  encapsulant  Scenario  circ_mid  =  28333066.983154226  tonnes.\n",
      "==> Working on Material :  backsheet\n",
      "Recycled surplus End of Sim for Mat  backsheet  Scenario  circ_mid  =  11899991.040827412  tonnes.\n",
      "circ_low\n",
      ">>>> Calculating Material Flows <<<<\n",
      "\n",
      "Working on Scenario:  circ_low\n",
      "********************\n"
     ]
    },
    {
     "name": "stderr",
     "output_type": "stream",
     "text": [
      "C:\\Users\\hmirletz\\AppData\\Local\\Temp\\1\\ipykernel_3292\\3246415230.py:6: SettingWithCopyWarning: \n",
      "A value is trying to be set on a copy of a slice from a DataFrame\n",
      "\n",
      "See the caveats in the documentation: https://pandas.pydata.org/pandas-docs/stable/user_guide/indexing.html#returning-a-view-versus-a-copy\n",
      "  sim1.scenario[scen].dataIn_m['new_Installed_Capacity_[MW]'][row] += Under_Installment #overwrite new installed\n"
     ]
    },
    {
     "name": "stdout",
     "output_type": "stream",
     "text": [
      "Finished Area+Power Generation Calculations\n",
      "==> Working on Material :  glass\n",
      "==> Working on Material :  silicon\n",
      "==> Working on Material :  silver\n",
      "==> Working on Material :  aluminium_frames\n",
      "==> Working on Material :  copper\n",
      "==> Working on Material :  encapsulant\n",
      "==> Working on Material :  backsheet\n",
      "27\n",
      "PV_ICE\n",
      ">>>> Calculating Material Flows <<<<\n",
      "\n",
      "Working on Scenario:  PV_ICE\n",
      "********************\n"
     ]
    },
    {
     "name": "stderr",
     "output_type": "stream",
     "text": [
      "C:\\Users\\hmirletz\\AppData\\Local\\Temp\\1\\ipykernel_3292\\3246415230.py:6: SettingWithCopyWarning: \n",
      "A value is trying to be set on a copy of a slice from a DataFrame\n",
      "\n",
      "See the caveats in the documentation: https://pandas.pydata.org/pandas-docs/stable/user_guide/indexing.html#returning-a-view-versus-a-copy\n",
      "  sim1.scenario[scen].dataIn_m['new_Installed_Capacity_[MW]'][row] += Under_Installment #overwrite new installed\n"
     ]
    },
    {
     "name": "stdout",
     "output_type": "stream",
     "text": [
      "Finished Area+Power Generation Calculations\n",
      "==> Working on Material :  glass\n",
      "==> Working on Material :  silicon\n",
      "==> Working on Material :  silver\n",
      "==> Working on Material :  aluminium_frames\n",
      "==> Working on Material :  copper\n",
      "==> Working on Material :  encapsulant\n",
      "==> Working on Material :  backsheet\n",
      "circ_high\n",
      ">>>> Calculating Material Flows <<<<\n",
      "\n",
      "Working on Scenario:  circ_high\n",
      "********************\n"
     ]
    },
    {
     "name": "stderr",
     "output_type": "stream",
     "text": [
      "C:\\Users\\hmirletz\\AppData\\Local\\Temp\\1\\ipykernel_3292\\3246415230.py:6: SettingWithCopyWarning: \n",
      "A value is trying to be set on a copy of a slice from a DataFrame\n",
      "\n",
      "See the caveats in the documentation: https://pandas.pydata.org/pandas-docs/stable/user_guide/indexing.html#returning-a-view-versus-a-copy\n",
      "  sim1.scenario[scen].dataIn_m['new_Installed_Capacity_[MW]'][row] += Under_Installment #overwrite new installed\n"
     ]
    },
    {
     "name": "stdout",
     "output_type": "stream",
     "text": [
      "Finished Area+Power Generation Calculations\n",
      "==> Working on Material :  glass\n",
      "Recycled surplus End of Sim for Mat  glass  Scenario  circ_high  =  2789926501.1222167  tonnes.\n",
      "==> Working on Material :  silicon\n",
      "Recycled surplus End of Sim for Mat  silicon  Scenario  circ_high  =  92235084.68404324  tonnes.\n",
      "==> Working on Material :  silver\n",
      "Recycled surplus End of Sim for Mat  silver  Scenario  circ_high  =  523177.6819884945  tonnes.\n",
      "==> Working on Material :  aluminium_frames\n",
      "Recycled surplus End of Sim for Mat  aluminium_frames  Scenario  circ_high  =  316309971.9112594  tonnes.\n",
      "==> Working on Material :  copper\n",
      "Recycled surplus End of Sim for Mat  copper  Scenario  circ_high  =  1907391.761098963  tonnes.\n",
      "==> Working on Material :  encapsulant\n",
      "Recycled surplus End of Sim for Mat  encapsulant  Scenario  circ_high  =  186064979.1339966  tonnes.\n",
      "==> Working on Material :  backsheet\n",
      "Recycled surplus End of Sim for Mat  backsheet  Scenario  circ_high  =  78359045.09197274  tonnes.\n",
      "circ_mid\n",
      ">>>> Calculating Material Flows <<<<\n",
      "\n",
      "Working on Scenario:  circ_mid\n",
      "********************\n"
     ]
    },
    {
     "name": "stderr",
     "output_type": "stream",
     "text": [
      "C:\\Users\\hmirletz\\AppData\\Local\\Temp\\1\\ipykernel_3292\\3246415230.py:6: SettingWithCopyWarning: \n",
      "A value is trying to be set on a copy of a slice from a DataFrame\n",
      "\n",
      "See the caveats in the documentation: https://pandas.pydata.org/pandas-docs/stable/user_guide/indexing.html#returning-a-view-versus-a-copy\n",
      "  sim1.scenario[scen].dataIn_m['new_Installed_Capacity_[MW]'][row] += Under_Installment #overwrite new installed\n"
     ]
    },
    {
     "name": "stdout",
     "output_type": "stream",
     "text": [
      "Finished Area+Power Generation Calculations\n",
      "==> Working on Material :  glass\n",
      "Recycled surplus End of Sim for Mat  glass  Scenario  circ_mid  =  426472215.617196  tonnes.\n",
      "==> Working on Material :  silicon\n",
      "Recycled surplus End of Sim for Mat  silicon  Scenario  circ_mid  =  14065013.601824885  tonnes.\n",
      "==> Working on Material :  silver\n",
      "Recycled surplus End of Sim for Mat  silver  Scenario  circ_mid  =  79136.83521893906  tonnes.\n",
      "==> Working on Material :  aluminium_frames\n",
      "Recycled surplus End of Sim for Mat  aluminium_frames  Scenario  circ_mid  =  48276120.11660741  tonnes.\n",
      "==> Working on Material :  copper\n",
      "Recycled surplus End of Sim for Mat  copper  Scenario  circ_mid  =  290219.1530635853  tonnes.\n",
      "==> Working on Material :  encapsulant\n",
      "Recycled surplus End of Sim for Mat  encapsulant  Scenario  circ_mid  =  28349315.572854865  tonnes.\n",
      "==> Working on Material :  backsheet\n",
      "Recycled surplus End of Sim for Mat  backsheet  Scenario  circ_mid  =  11908256.351073697  tonnes.\n",
      "circ_low\n",
      ">>>> Calculating Material Flows <<<<\n",
      "\n",
      "Working on Scenario:  circ_low\n",
      "********************\n"
     ]
    },
    {
     "name": "stderr",
     "output_type": "stream",
     "text": [
      "C:\\Users\\hmirletz\\AppData\\Local\\Temp\\1\\ipykernel_3292\\3246415230.py:6: SettingWithCopyWarning: \n",
      "A value is trying to be set on a copy of a slice from a DataFrame\n",
      "\n",
      "See the caveats in the documentation: https://pandas.pydata.org/pandas-docs/stable/user_guide/indexing.html#returning-a-view-versus-a-copy\n",
      "  sim1.scenario[scen].dataIn_m['new_Installed_Capacity_[MW]'][row] += Under_Installment #overwrite new installed\n"
     ]
    },
    {
     "name": "stdout",
     "output_type": "stream",
     "text": [
      "Finished Area+Power Generation Calculations\n",
      "==> Working on Material :  glass\n",
      "==> Working on Material :  silicon\n",
      "==> Working on Material :  silver\n",
      "==> Working on Material :  aluminium_frames\n",
      "==> Working on Material :  copper\n",
      "==> Working on Material :  encapsulant\n",
      "==> Working on Material :  backsheet\n",
      "28\n",
      "PV_ICE\n",
      ">>>> Calculating Material Flows <<<<\n",
      "\n",
      "Working on Scenario:  PV_ICE\n",
      "********************\n"
     ]
    },
    {
     "name": "stderr",
     "output_type": "stream",
     "text": [
      "C:\\Users\\hmirletz\\AppData\\Local\\Temp\\1\\ipykernel_3292\\3246415230.py:6: SettingWithCopyWarning: \n",
      "A value is trying to be set on a copy of a slice from a DataFrame\n",
      "\n",
      "See the caveats in the documentation: https://pandas.pydata.org/pandas-docs/stable/user_guide/indexing.html#returning-a-view-versus-a-copy\n",
      "  sim1.scenario[scen].dataIn_m['new_Installed_Capacity_[MW]'][row] += Under_Installment #overwrite new installed\n"
     ]
    },
    {
     "name": "stdout",
     "output_type": "stream",
     "text": [
      "Finished Area+Power Generation Calculations\n",
      "==> Working on Material :  glass\n",
      "==> Working on Material :  silicon\n",
      "==> Working on Material :  silver\n",
      "==> Working on Material :  aluminium_frames\n",
      "==> Working on Material :  copper\n",
      "==> Working on Material :  encapsulant\n",
      "==> Working on Material :  backsheet\n",
      "circ_high\n",
      ">>>> Calculating Material Flows <<<<\n",
      "\n",
      "Working on Scenario:  circ_high\n",
      "********************\n"
     ]
    },
    {
     "name": "stderr",
     "output_type": "stream",
     "text": [
      "C:\\Users\\hmirletz\\AppData\\Local\\Temp\\1\\ipykernel_3292\\3246415230.py:6: SettingWithCopyWarning: \n",
      "A value is trying to be set on a copy of a slice from a DataFrame\n",
      "\n",
      "See the caveats in the documentation: https://pandas.pydata.org/pandas-docs/stable/user_guide/indexing.html#returning-a-view-versus-a-copy\n",
      "  sim1.scenario[scen].dataIn_m['new_Installed_Capacity_[MW]'][row] += Under_Installment #overwrite new installed\n"
     ]
    },
    {
     "name": "stdout",
     "output_type": "stream",
     "text": [
      "Finished Area+Power Generation Calculations\n",
      "==> Working on Material :  glass\n",
      "Recycled surplus End of Sim for Mat  glass  Scenario  circ_high  =  2791301481.9354954  tonnes.\n",
      "==> Working on Material :  silicon\n",
      "Recycled surplus End of Sim for Mat  silicon  Scenario  circ_high  =  92281736.62505063  tonnes.\n",
      "==> Working on Material :  silver\n",
      "Recycled surplus End of Sim for Mat  silver  Scenario  circ_high  =  523468.5348794645  tonnes.\n",
      "==> Working on Material :  aluminium_frames\n",
      "Recycled surplus End of Sim for Mat  aluminium_frames  Scenario  circ_high  =  316469328.64485127  tonnes.\n",
      "==> Working on Material :  copper\n",
      "Recycled surplus End of Sim for Mat  copper  Scenario  circ_high  =  1908399.0236872435  tonnes.\n",
      "==> Working on Material :  encapsulant\n",
      "Recycled surplus End of Sim for Mat  encapsulant  Scenario  circ_high  =  186155843.23558044  tonnes.\n",
      "==> Working on Material :  backsheet\n",
      "Recycled surplus End of Sim for Mat  backsheet  Scenario  circ_high  =  78404029.8430971  tonnes.\n",
      "circ_mid\n",
      ">>>> Calculating Material Flows <<<<\n",
      "\n",
      "Working on Scenario:  circ_mid\n",
      "********************\n"
     ]
    },
    {
     "name": "stderr",
     "output_type": "stream",
     "text": [
      "C:\\Users\\hmirletz\\AppData\\Local\\Temp\\1\\ipykernel_3292\\3246415230.py:6: SettingWithCopyWarning: \n",
      "A value is trying to be set on a copy of a slice from a DataFrame\n",
      "\n",
      "See the caveats in the documentation: https://pandas.pydata.org/pandas-docs/stable/user_guide/indexing.html#returning-a-view-versus-a-copy\n",
      "  sim1.scenario[scen].dataIn_m['new_Installed_Capacity_[MW]'][row] += Under_Installment #overwrite new installed\n"
     ]
    },
    {
     "name": "stdout",
     "output_type": "stream",
     "text": [
      "Finished Area+Power Generation Calculations\n",
      "==> Working on Material :  glass\n",
      "Recycled surplus End of Sim for Mat  glass  Scenario  circ_mid  =  426797065.9959624  tonnes.\n",
      "==> Working on Material :  silicon\n",
      "Recycled surplus End of Sim for Mat  silicon  Scenario  circ_mid  =  14076035.501592556  tonnes.\n",
      "==> Working on Material :  silver\n",
      "Recycled surplus End of Sim for Mat  silver  Scenario  circ_mid  =  79205.24073045597  tonnes.\n",
      "==> Working on Material :  aluminium_frames\n",
      "Recycled surplus End of Sim for Mat  aluminium_frames  Scenario  circ_mid  =  48313769.43852254  tonnes.\n",
      "==> Working on Material :  copper\n",
      "Recycled surplus End of Sim for Mat  copper  Scenario  circ_mid  =  290456.6857330204  tonnes.\n",
      "==> Working on Material :  encapsulant\n",
      "Recycled surplus End of Sim for Mat  encapsulant  Scenario  circ_mid  =  28370782.954458095  tonnes.\n",
      "==> Working on Material :  backsheet\n",
      "Recycled surplus End of Sim for Mat  backsheet  Scenario  circ_mid  =  11918852.051046932  tonnes.\n",
      "circ_low\n",
      ">>>> Calculating Material Flows <<<<\n",
      "\n",
      "Working on Scenario:  circ_low\n",
      "********************\n"
     ]
    },
    {
     "name": "stderr",
     "output_type": "stream",
     "text": [
      "C:\\Users\\hmirletz\\AppData\\Local\\Temp\\1\\ipykernel_3292\\3246415230.py:6: SettingWithCopyWarning: \n",
      "A value is trying to be set on a copy of a slice from a DataFrame\n",
      "\n",
      "See the caveats in the documentation: https://pandas.pydata.org/pandas-docs/stable/user_guide/indexing.html#returning-a-view-versus-a-copy\n",
      "  sim1.scenario[scen].dataIn_m['new_Installed_Capacity_[MW]'][row] += Under_Installment #overwrite new installed\n"
     ]
    },
    {
     "name": "stdout",
     "output_type": "stream",
     "text": [
      "Finished Area+Power Generation Calculations\n",
      "==> Working on Material :  glass\n",
      "==> Working on Material :  silicon\n",
      "==> Working on Material :  silver\n",
      "==> Working on Material :  aluminium_frames\n",
      "==> Working on Material :  copper\n",
      "==> Working on Material :  encapsulant\n",
      "==> Working on Material :  backsheet\n",
      "29\n",
      "PV_ICE\n",
      ">>>> Calculating Material Flows <<<<\n",
      "\n",
      "Working on Scenario:  PV_ICE\n",
      "********************\n"
     ]
    },
    {
     "name": "stderr",
     "output_type": "stream",
     "text": [
      "C:\\Users\\hmirletz\\AppData\\Local\\Temp\\1\\ipykernel_3292\\3246415230.py:6: SettingWithCopyWarning: \n",
      "A value is trying to be set on a copy of a slice from a DataFrame\n",
      "\n",
      "See the caveats in the documentation: https://pandas.pydata.org/pandas-docs/stable/user_guide/indexing.html#returning-a-view-versus-a-copy\n",
      "  sim1.scenario[scen].dataIn_m['new_Installed_Capacity_[MW]'][row] += Under_Installment #overwrite new installed\n"
     ]
    },
    {
     "name": "stdout",
     "output_type": "stream",
     "text": [
      "Finished Area+Power Generation Calculations\n",
      "==> Working on Material :  glass\n",
      "==> Working on Material :  silicon\n",
      "==> Working on Material :  silver\n",
      "==> Working on Material :  aluminium_frames\n",
      "==> Working on Material :  copper\n",
      "==> Working on Material :  encapsulant\n",
      "==> Working on Material :  backsheet\n",
      "circ_high\n",
      ">>>> Calculating Material Flows <<<<\n",
      "\n",
      "Working on Scenario:  circ_high\n",
      "********************\n"
     ]
    },
    {
     "name": "stderr",
     "output_type": "stream",
     "text": [
      "C:\\Users\\hmirletz\\AppData\\Local\\Temp\\1\\ipykernel_3292\\3246415230.py:6: SettingWithCopyWarning: \n",
      "A value is trying to be set on a copy of a slice from a DataFrame\n",
      "\n",
      "See the caveats in the documentation: https://pandas.pydata.org/pandas-docs/stable/user_guide/indexing.html#returning-a-view-versus-a-copy\n",
      "  sim1.scenario[scen].dataIn_m['new_Installed_Capacity_[MW]'][row] += Under_Installment #overwrite new installed\n"
     ]
    },
    {
     "name": "stdout",
     "output_type": "stream",
     "text": [
      "Finished Area+Power Generation Calculations\n",
      "==> Working on Material :  glass\n",
      "Recycled surplus End of Sim for Mat  glass  Scenario  circ_high  =  2793101589.7211823  tonnes.\n",
      "==> Working on Material :  silicon\n",
      "Recycled surplus End of Sim for Mat  silicon  Scenario  circ_high  =  92341238.93991047  tonnes.\n",
      "==> Working on Material :  silver\n",
      "Recycled surplus End of Sim for Mat  silver  Scenario  circ_high  =  523820.6539082674  tonnes.\n",
      "==> Working on Material :  aluminium_frames\n",
      "Recycled surplus End of Sim for Mat  aluminium_frames  Scenario  circ_high  =  316674172.1953207  tonnes.\n",
      "==> Working on Material :  copper\n",
      "Recycled surplus End of Sim for Mat  copper  Scenario  circ_high  =  1909655.0701142598  tonnes.\n",
      "==> Working on Material :  encapsulant\n",
      "Recycled surplus End of Sim for Mat  encapsulant  Scenario  circ_high  =  186273929.41358855  tonnes.\n",
      "==> Working on Material :  backsheet\n",
      "Recycled surplus End of Sim for Mat  backsheet  Scenario  circ_high  =  78459126.38977602  tonnes.\n",
      "circ_mid\n",
      ">>>> Calculating Material Flows <<<<\n",
      "\n",
      "Working on Scenario:  circ_mid\n",
      "********************\n"
     ]
    },
    {
     "name": "stderr",
     "output_type": "stream",
     "text": [
      "C:\\Users\\hmirletz\\AppData\\Local\\Temp\\1\\ipykernel_3292\\3246415230.py:6: SettingWithCopyWarning: \n",
      "A value is trying to be set on a copy of a slice from a DataFrame\n",
      "\n",
      "See the caveats in the documentation: https://pandas.pydata.org/pandas-docs/stable/user_guide/indexing.html#returning-a-view-versus-a-copy\n",
      "  sim1.scenario[scen].dataIn_m['new_Installed_Capacity_[MW]'][row] += Under_Installment #overwrite new installed\n"
     ]
    },
    {
     "name": "stdout",
     "output_type": "stream",
     "text": [
      "Finished Area+Power Generation Calculations\n",
      "==> Working on Material :  glass\n",
      "Recycled surplus End of Sim for Mat  glass  Scenario  circ_mid  =  427230031.4016186  tonnes.\n",
      "==> Working on Material :  silicon\n",
      "Recycled surplus End of Sim for Mat  silicon  Scenario  circ_mid  =  14090347.113428034  tonnes.\n",
      "==> Working on Material :  silver\n",
      "Recycled surplus End of Sim for Mat  silver  Scenario  circ_mid  =  79289.69267075224  tonnes.\n",
      "==> Working on Material :  aluminium_frames\n",
      "Recycled surplus End of Sim for Mat  aluminium_frames  Scenario  circ_mid  =  48363038.805407286  tonnes.\n",
      "==> Working on Material :  copper\n",
      "Recycled surplus End of Sim for Mat  copper  Scenario  circ_mid  =  290758.43349928886  tonnes.\n",
      "==> Working on Material :  encapsulant\n",
      "Recycled surplus End of Sim for Mat  encapsulant  Scenario  circ_mid  =  28399185.270347293  tonnes.\n",
      "==> Working on Material :  backsheet\n",
      "Recycled surplus End of Sim for Mat  backsheet  Scenario  circ_mid  =  11932078.335809648  tonnes.\n",
      "circ_low\n",
      ">>>> Calculating Material Flows <<<<\n",
      "\n",
      "Working on Scenario:  circ_low\n",
      "********************\n"
     ]
    },
    {
     "name": "stderr",
     "output_type": "stream",
     "text": [
      "C:\\Users\\hmirletz\\AppData\\Local\\Temp\\1\\ipykernel_3292\\3246415230.py:6: SettingWithCopyWarning: \n",
      "A value is trying to be set on a copy of a slice from a DataFrame\n",
      "\n",
      "See the caveats in the documentation: https://pandas.pydata.org/pandas-docs/stable/user_guide/indexing.html#returning-a-view-versus-a-copy\n",
      "  sim1.scenario[scen].dataIn_m['new_Installed_Capacity_[MW]'][row] += Under_Installment #overwrite new installed\n"
     ]
    },
    {
     "name": "stdout",
     "output_type": "stream",
     "text": [
      "Finished Area+Power Generation Calculations\n",
      "==> Working on Material :  glass\n",
      "==> Working on Material :  silicon\n",
      "==> Working on Material :  silver\n",
      "==> Working on Material :  aluminium_frames\n",
      "==> Working on Material :  copper\n",
      "==> Working on Material :  encapsulant\n",
      "==> Working on Material :  backsheet\n",
      "30\n",
      "PV_ICE\n",
      ">>>> Calculating Material Flows <<<<\n",
      "\n",
      "Working on Scenario:  PV_ICE\n",
      "********************\n"
     ]
    },
    {
     "name": "stderr",
     "output_type": "stream",
     "text": [
      "C:\\Users\\hmirletz\\AppData\\Local\\Temp\\1\\ipykernel_3292\\3246415230.py:6: SettingWithCopyWarning: \n",
      "A value is trying to be set on a copy of a slice from a DataFrame\n",
      "\n",
      "See the caveats in the documentation: https://pandas.pydata.org/pandas-docs/stable/user_guide/indexing.html#returning-a-view-versus-a-copy\n",
      "  sim1.scenario[scen].dataIn_m['new_Installed_Capacity_[MW]'][row] += Under_Installment #overwrite new installed\n"
     ]
    },
    {
     "name": "stdout",
     "output_type": "stream",
     "text": [
      "Finished Area+Power Generation Calculations\n",
      "==> Working on Material :  glass\n",
      "==> Working on Material :  silicon\n",
      "==> Working on Material :  silver\n",
      "==> Working on Material :  aluminium_frames\n",
      "==> Working on Material :  copper\n",
      "==> Working on Material :  encapsulant\n",
      "==> Working on Material :  backsheet\n",
      "circ_high\n",
      ">>>> Calculating Material Flows <<<<\n",
      "\n",
      "Working on Scenario:  circ_high\n",
      "********************\n"
     ]
    },
    {
     "name": "stderr",
     "output_type": "stream",
     "text": [
      "C:\\Users\\hmirletz\\AppData\\Local\\Temp\\1\\ipykernel_3292\\3246415230.py:6: SettingWithCopyWarning: \n",
      "A value is trying to be set on a copy of a slice from a DataFrame\n",
      "\n",
      "See the caveats in the documentation: https://pandas.pydata.org/pandas-docs/stable/user_guide/indexing.html#returning-a-view-versus-a-copy\n",
      "  sim1.scenario[scen].dataIn_m['new_Installed_Capacity_[MW]'][row] += Under_Installment #overwrite new installed\n"
     ]
    },
    {
     "name": "stdout",
     "output_type": "stream",
     "text": [
      "Finished Area+Power Generation Calculations\n",
      "==> Working on Material :  glass\n",
      "Recycled surplus End of Sim for Mat  glass  Scenario  circ_high  =  2795367450.4316335  tonnes.\n",
      "==> Working on Material :  silicon\n",
      "Recycled surplus End of Sim for Mat  silicon  Scenario  circ_high  =  92415953.5149775  tonnes.\n",
      "==> Working on Material :  silver\n",
      "Recycled surplus End of Sim for Mat  silver  Scenario  circ_high  =  524234.9240568888  tonnes.\n",
      "==> Working on Material :  aluminium_frames\n",
      "Recycled surplus End of Sim for Mat  aluminium_frames  Scenario  circ_high  =  316931048.95472646  tonnes.\n",
      "==> Working on Material :  copper\n",
      "Recycled surplus End of Sim for Mat  copper  Scenario  circ_high  =  1911181.2284745786  tonnes.\n",
      "==> Working on Material :  encapsulant\n",
      "Recycled surplus End of Sim for Mat  encapsulant  Scenario  circ_high  =  186423578.9659491  tonnes.\n",
      "==> Working on Material :  backsheet\n",
      "Recycled surplus End of Sim for Mat  backsheet  Scenario  circ_high  =  78524902.07039961  tonnes.\n",
      "circ_mid\n",
      ">>>> Calculating Material Flows <<<<\n",
      "\n",
      "Working on Scenario:  circ_mid\n",
      "********************\n"
     ]
    },
    {
     "name": "stderr",
     "output_type": "stream",
     "text": [
      "C:\\Users\\hmirletz\\AppData\\Local\\Temp\\1\\ipykernel_3292\\3246415230.py:6: SettingWithCopyWarning: \n",
      "A value is trying to be set on a copy of a slice from a DataFrame\n",
      "\n",
      "See the caveats in the documentation: https://pandas.pydata.org/pandas-docs/stable/user_guide/indexing.html#returning-a-view-versus-a-copy\n",
      "  sim1.scenario[scen].dataIn_m['new_Installed_Capacity_[MW]'][row] += Under_Installment #overwrite new installed\n"
     ]
    },
    {
     "name": "stdout",
     "output_type": "stream",
     "text": [
      "Finished Area+Power Generation Calculations\n",
      "==> Working on Material :  glass\n",
      "Recycled surplus End of Sim for Mat  glass  Scenario  circ_mid  =  427781906.6853505  tonnes.\n",
      "==> Working on Material :  silicon\n",
      "Recycled surplus End of Sim for Mat  silicon  Scenario  circ_mid  =  14108544.669493087  tonnes.\n",
      "==> Working on Material :  silver\n",
      "Recycled surplus End of Sim for Mat  silver  Scenario  circ_mid  =  79390.41641753186  tonnes.\n",
      "==> Working on Material :  aluminium_frames\n",
      "Recycled surplus End of Sim for Mat  aluminium_frames  Scenario  circ_mid  =  48425603.963904135  tonnes.\n",
      "==> Working on Material :  copper\n",
      "Recycled surplus End of Sim for Mat  copper  Scenario  circ_mid  =  291129.8681821223  tonnes.\n",
      "==> Working on Material :  encapsulant\n",
      "Recycled surplus End of Sim for Mat  encapsulant  Scenario  circ_mid  =  28435634.06386245  tonnes.\n",
      "==> Working on Material :  backsheet\n",
      "Recycled surplus End of Sim for Mat  backsheet  Scenario  circ_mid  =  11948079.356112953  tonnes.\n",
      "circ_low\n",
      ">>>> Calculating Material Flows <<<<\n",
      "\n",
      "Working on Scenario:  circ_low\n",
      "********************\n"
     ]
    },
    {
     "name": "stderr",
     "output_type": "stream",
     "text": [
      "C:\\Users\\hmirletz\\AppData\\Local\\Temp\\1\\ipykernel_3292\\3246415230.py:6: SettingWithCopyWarning: \n",
      "A value is trying to be set on a copy of a slice from a DataFrame\n",
      "\n",
      "See the caveats in the documentation: https://pandas.pydata.org/pandas-docs/stable/user_guide/indexing.html#returning-a-view-versus-a-copy\n",
      "  sim1.scenario[scen].dataIn_m['new_Installed_Capacity_[MW]'][row] += Under_Installment #overwrite new installed\n"
     ]
    },
    {
     "name": "stdout",
     "output_type": "stream",
     "text": [
      "Finished Area+Power Generation Calculations\n",
      "==> Working on Material :  glass\n",
      "==> Working on Material :  silicon\n",
      "==> Working on Material :  silver\n",
      "==> Working on Material :  aluminium_frames\n",
      "==> Working on Material :  copper\n",
      "==> Working on Material :  encapsulant\n",
      "==> Working on Material :  backsheet\n",
      "31\n",
      "PV_ICE\n",
      ">>>> Calculating Material Flows <<<<\n",
      "\n",
      "Working on Scenario:  PV_ICE\n",
      "********************\n"
     ]
    },
    {
     "name": "stderr",
     "output_type": "stream",
     "text": [
      "C:\\Users\\hmirletz\\AppData\\Local\\Temp\\1\\ipykernel_3292\\3246415230.py:6: SettingWithCopyWarning: \n",
      "A value is trying to be set on a copy of a slice from a DataFrame\n",
      "\n",
      "See the caveats in the documentation: https://pandas.pydata.org/pandas-docs/stable/user_guide/indexing.html#returning-a-view-versus-a-copy\n",
      "  sim1.scenario[scen].dataIn_m['new_Installed_Capacity_[MW]'][row] += Under_Installment #overwrite new installed\n"
     ]
    },
    {
     "name": "stdout",
     "output_type": "stream",
     "text": [
      "Finished Area+Power Generation Calculations\n",
      "==> Working on Material :  glass\n",
      "==> Working on Material :  silicon\n",
      "==> Working on Material :  silver\n",
      "==> Working on Material :  aluminium_frames\n",
      "==> Working on Material :  copper\n",
      "==> Working on Material :  encapsulant\n",
      "==> Working on Material :  backsheet\n",
      "circ_high\n",
      ">>>> Calculating Material Flows <<<<\n",
      "\n",
      "Working on Scenario:  circ_high\n",
      "********************\n"
     ]
    },
    {
     "name": "stderr",
     "output_type": "stream",
     "text": [
      "C:\\Users\\hmirletz\\AppData\\Local\\Temp\\1\\ipykernel_3292\\3246415230.py:6: SettingWithCopyWarning: \n",
      "A value is trying to be set on a copy of a slice from a DataFrame\n",
      "\n",
      "See the caveats in the documentation: https://pandas.pydata.org/pandas-docs/stable/user_guide/indexing.html#returning-a-view-versus-a-copy\n",
      "  sim1.scenario[scen].dataIn_m['new_Installed_Capacity_[MW]'][row] += Under_Installment #overwrite new installed\n"
     ]
    },
    {
     "name": "stdout",
     "output_type": "stream",
     "text": [
      "Finished Area+Power Generation Calculations\n",
      "==> Working on Material :  glass\n",
      "Recycled surplus End of Sim for Mat  glass  Scenario  circ_high  =  2797740088.0142555  tonnes.\n",
      "==> Working on Material :  silicon\n",
      "Recycled surplus End of Sim for Mat  silicon  Scenario  circ_high  =  92493997.85689422  tonnes.\n",
      "==> Working on Material :  silver\n",
      "Recycled surplus End of Sim for Mat  silver  Scenario  circ_high  =  524670.3802205924  tonnes.\n",
      "==> Working on Material :  aluminium_frames\n",
      "Recycled surplus End of Sim for Mat  aluminium_frames  Scenario  circ_high  =  317199017.14066404  tonnes.\n",
      "==> Working on Material :  copper\n",
      "Recycled surplus End of Sim for Mat  copper  Scenario  circ_high  =  1912786.0908413366  tonnes.\n",
      "==> Working on Material :  encapsulant\n",
      "Recycled surplus End of Sim for Mat  encapsulant  Scenario  circ_high  =  186581352.8259736  tonnes.\n",
      "==> Working on Material :  backsheet\n",
      "Recycled surplus End of Sim for Mat  backsheet  Scenario  circ_high  =  78590032.36400834  tonnes.\n",
      "circ_mid\n",
      ">>>> Calculating Material Flows <<<<\n",
      "\n",
      "Working on Scenario:  circ_mid\n",
      "********************\n"
     ]
    },
    {
     "name": "stderr",
     "output_type": "stream",
     "text": [
      "C:\\Users\\hmirletz\\AppData\\Local\\Temp\\1\\ipykernel_3292\\3246415230.py:6: SettingWithCopyWarning: \n",
      "A value is trying to be set on a copy of a slice from a DataFrame\n",
      "\n",
      "See the caveats in the documentation: https://pandas.pydata.org/pandas-docs/stable/user_guide/indexing.html#returning-a-view-versus-a-copy\n",
      "  sim1.scenario[scen].dataIn_m['new_Installed_Capacity_[MW]'][row] += Under_Installment #overwrite new installed\n"
     ]
    },
    {
     "name": "stdout",
     "output_type": "stream",
     "text": [
      "Finished Area+Power Generation Calculations\n",
      "==> Working on Material :  glass\n",
      "Recycled surplus End of Sim for Mat  glass  Scenario  circ_mid  =  428364844.2304817  tonnes.\n",
      "==> Working on Material :  silicon\n",
      "Recycled surplus End of Sim for Mat  silicon  Scenario  circ_mid  =  14127719.5225855  tonnes.\n",
      "==> Working on Material :  silver\n",
      "Recycled surplus End of Sim for Mat  silver  Scenario  circ_mid  =  79497.29170758514  tonnes.\n",
      "==> Working on Material :  aluminium_frames\n",
      "Recycled surplus End of Sim for Mat  aluminium_frames  Scenario  circ_mid  =  48491441.54383115  tonnes.\n",
      "==> Working on Material :  copper\n",
      "Recycled surplus End of Sim for Mat  copper  Scenario  circ_mid  =  291523.9876498038  tonnes.\n",
      "==> Working on Material :  encapsulant\n",
      "Recycled surplus End of Sim for Mat  encapsulant  Scenario  circ_mid  =  28474397.80398112  tonnes.\n",
      "==> Working on Material :  backsheet\n",
      "Recycled surplus End of Sim for Mat  backsheet  Scenario  circ_mid  =  11964069.483356506  tonnes.\n",
      "circ_low\n",
      ">>>> Calculating Material Flows <<<<\n",
      "\n",
      "Working on Scenario:  circ_low\n",
      "********************\n"
     ]
    },
    {
     "name": "stderr",
     "output_type": "stream",
     "text": [
      "C:\\Users\\hmirletz\\AppData\\Local\\Temp\\1\\ipykernel_3292\\3246415230.py:6: SettingWithCopyWarning: \n",
      "A value is trying to be set on a copy of a slice from a DataFrame\n",
      "\n",
      "See the caveats in the documentation: https://pandas.pydata.org/pandas-docs/stable/user_guide/indexing.html#returning-a-view-versus-a-copy\n",
      "  sim1.scenario[scen].dataIn_m['new_Installed_Capacity_[MW]'][row] += Under_Installment #overwrite new installed\n"
     ]
    },
    {
     "name": "stdout",
     "output_type": "stream",
     "text": [
      "Finished Area+Power Generation Calculations\n",
      "==> Working on Material :  glass\n",
      "==> Working on Material :  silicon\n",
      "==> Working on Material :  silver\n",
      "==> Working on Material :  aluminium_frames\n",
      "==> Working on Material :  copper\n",
      "==> Working on Material :  encapsulant\n",
      "==> Working on Material :  backsheet\n",
      "32\n",
      "PV_ICE\n",
      ">>>> Calculating Material Flows <<<<\n",
      "\n",
      "Working on Scenario:  PV_ICE\n",
      "********************\n"
     ]
    },
    {
     "name": "stderr",
     "output_type": "stream",
     "text": [
      "C:\\Users\\hmirletz\\AppData\\Local\\Temp\\1\\ipykernel_3292\\3246415230.py:6: SettingWithCopyWarning: \n",
      "A value is trying to be set on a copy of a slice from a DataFrame\n",
      "\n",
      "See the caveats in the documentation: https://pandas.pydata.org/pandas-docs/stable/user_guide/indexing.html#returning-a-view-versus-a-copy\n",
      "  sim1.scenario[scen].dataIn_m['new_Installed_Capacity_[MW]'][row] += Under_Installment #overwrite new installed\n"
     ]
    },
    {
     "name": "stdout",
     "output_type": "stream",
     "text": [
      "Finished Area+Power Generation Calculations\n",
      "==> Working on Material :  glass\n",
      "==> Working on Material :  silicon\n",
      "==> Working on Material :  silver\n",
      "==> Working on Material :  aluminium_frames\n",
      "==> Working on Material :  copper\n",
      "==> Working on Material :  encapsulant\n",
      "==> Working on Material :  backsheet\n",
      "circ_high\n",
      ">>>> Calculating Material Flows <<<<\n",
      "\n",
      "Working on Scenario:  circ_high\n",
      "********************\n"
     ]
    },
    {
     "name": "stderr",
     "output_type": "stream",
     "text": [
      "C:\\Users\\hmirletz\\AppData\\Local\\Temp\\1\\ipykernel_3292\\3246415230.py:6: SettingWithCopyWarning: \n",
      "A value is trying to be set on a copy of a slice from a DataFrame\n",
      "\n",
      "See the caveats in the documentation: https://pandas.pydata.org/pandas-docs/stable/user_guide/indexing.html#returning-a-view-versus-a-copy\n",
      "  sim1.scenario[scen].dataIn_m['new_Installed_Capacity_[MW]'][row] += Under_Installment #overwrite new installed\n"
     ]
    },
    {
     "name": "stdout",
     "output_type": "stream",
     "text": [
      "Finished Area+Power Generation Calculations\n",
      "==> Working on Material :  glass\n",
      "Recycled surplus End of Sim for Mat  glass  Scenario  circ_high  =  2800993751.8636756  tonnes.\n",
      "==> Working on Material :  silicon\n",
      "Recycled surplus End of Sim for Mat  silicon  Scenario  circ_high  =  92601022.23171073  tonnes.\n",
      "==> Working on Material :  silver\n",
      "Recycled surplus End of Sim for Mat  silver  Scenario  circ_high  =  525267.2749926466  tonnes.\n",
      "==> Working on Material :  aluminium_frames\n",
      "Recycled surplus End of Sim for Mat  aluminium_frames  Scenario  circ_high  =  317566489.36051166  tonnes.\n",
      "==> Working on Material :  copper\n",
      "Recycled surplus End of Sim for Mat  copper  Scenario  circ_high  =  1914986.48129674  tonnes.\n",
      "==> Working on Material :  encapsulant\n",
      "Recycled surplus End of Sim for Mat  encapsulant  Scenario  circ_high  =  186797712.50454617  tonnes.\n",
      "==> Working on Material :  backsheet\n",
      "Recycled surplus End of Sim for Mat  backsheet  Scenario  circ_high  =  78679320.83767305  tonnes.\n",
      "circ_mid\n",
      ">>>> Calculating Material Flows <<<<\n",
      "\n",
      "Working on Scenario:  circ_mid\n",
      "********************\n"
     ]
    },
    {
     "name": "stderr",
     "output_type": "stream",
     "text": [
      "C:\\Users\\hmirletz\\AppData\\Local\\Temp\\1\\ipykernel_3292\\3246415230.py:6: SettingWithCopyWarning: \n",
      "A value is trying to be set on a copy of a slice from a DataFrame\n",
      "\n",
      "See the caveats in the documentation: https://pandas.pydata.org/pandas-docs/stable/user_guide/indexing.html#returning-a-view-versus-a-copy\n",
      "  sim1.scenario[scen].dataIn_m['new_Installed_Capacity_[MW]'][row] += Under_Installment #overwrite new installed\n"
     ]
    },
    {
     "name": "stdout",
     "output_type": "stream",
     "text": [
      "Finished Area+Power Generation Calculations\n",
      "==> Working on Material :  glass\n",
      "Recycled surplus End of Sim for Mat  glass  Scenario  circ_mid  =  429169026.6329967  tonnes.\n",
      "==> Working on Material :  silicon\n",
      "Recycled surplus End of Sim for Mat  silicon  Scenario  circ_mid  =  14154171.89223731  tonnes.\n",
      "==> Working on Material :  silver\n",
      "Recycled surplus End of Sim for Mat  silver  Scenario  circ_mid  =  79644.7298478154  tonnes.\n",
      "==> Working on Material :  aluminium_frames\n",
      "Recycled surplus End of Sim for Mat  aluminium_frames  Scenario  circ_mid  =  48582266.75082579  tonnes.\n",
      "==> Working on Material :  copper\n",
      "Recycled surplus End of Sim for Mat  copper  Scenario  circ_mid  =  292067.6890172063  tonnes.\n",
      "==> Working on Material :  encapsulant\n",
      "Recycled surplus End of Sim for Mat  encapsulant  Scenario  circ_mid  =  28527873.71734348  tonnes.\n",
      "==> Working on Material :  backsheet\n",
      "Recycled surplus End of Sim for Mat  backsheet  Scenario  circ_mid  =  11986128.41411271  tonnes.\n",
      "circ_low\n",
      ">>>> Calculating Material Flows <<<<\n",
      "\n",
      "Working on Scenario:  circ_low\n",
      "********************\n"
     ]
    },
    {
     "name": "stderr",
     "output_type": "stream",
     "text": [
      "C:\\Users\\hmirletz\\AppData\\Local\\Temp\\1\\ipykernel_3292\\3246415230.py:6: SettingWithCopyWarning: \n",
      "A value is trying to be set on a copy of a slice from a DataFrame\n",
      "\n",
      "See the caveats in the documentation: https://pandas.pydata.org/pandas-docs/stable/user_guide/indexing.html#returning-a-view-versus-a-copy\n",
      "  sim1.scenario[scen].dataIn_m['new_Installed_Capacity_[MW]'][row] += Under_Installment #overwrite new installed\n"
     ]
    },
    {
     "name": "stdout",
     "output_type": "stream",
     "text": [
      "Finished Area+Power Generation Calculations\n",
      "==> Working on Material :  glass\n",
      "==> Working on Material :  silicon\n",
      "==> Working on Material :  silver\n",
      "==> Working on Material :  aluminium_frames\n",
      "==> Working on Material :  copper\n",
      "==> Working on Material :  encapsulant\n",
      "==> Working on Material :  backsheet\n",
      "33\n",
      "PV_ICE\n",
      ">>>> Calculating Material Flows <<<<\n",
      "\n",
      "Working on Scenario:  PV_ICE\n",
      "********************\n"
     ]
    },
    {
     "name": "stderr",
     "output_type": "stream",
     "text": [
      "C:\\Users\\hmirletz\\AppData\\Local\\Temp\\1\\ipykernel_3292\\3246415230.py:6: SettingWithCopyWarning: \n",
      "A value is trying to be set on a copy of a slice from a DataFrame\n",
      "\n",
      "See the caveats in the documentation: https://pandas.pydata.org/pandas-docs/stable/user_guide/indexing.html#returning-a-view-versus-a-copy\n",
      "  sim1.scenario[scen].dataIn_m['new_Installed_Capacity_[MW]'][row] += Under_Installment #overwrite new installed\n"
     ]
    },
    {
     "name": "stdout",
     "output_type": "stream",
     "text": [
      "Finished Area+Power Generation Calculations\n",
      "==> Working on Material :  glass\n",
      "==> Working on Material :  silicon\n",
      "==> Working on Material :  silver\n",
      "==> Working on Material :  aluminium_frames\n",
      "==> Working on Material :  copper\n",
      "==> Working on Material :  encapsulant\n",
      "==> Working on Material :  backsheet\n"
     ]
    },
    {
     "name": "stderr",
     "output_type": "stream",
     "text": [
      "C:\\Users\\hmirletz\\AppData\\Local\\Temp\\1\\ipykernel_3292\\3246415230.py:6: SettingWithCopyWarning: \n",
      "A value is trying to be set on a copy of a slice from a DataFrame\n",
      "\n",
      "See the caveats in the documentation: https://pandas.pydata.org/pandas-docs/stable/user_guide/indexing.html#returning-a-view-versus-a-copy\n",
      "  sim1.scenario[scen].dataIn_m['new_Installed_Capacity_[MW]'][row] += Under_Installment #overwrite new installed\n"
     ]
    },
    {
     "name": "stdout",
     "output_type": "stream",
     "text": [
      "circ_high\n",
      ">>>> Calculating Material Flows <<<<\n",
      "\n",
      "Working on Scenario:  circ_high\n",
      "********************\n",
      "Finished Area+Power Generation Calculations\n",
      "==> Working on Material :  glass\n",
      "Recycled surplus End of Sim for Mat  glass  Scenario  circ_high  =  2804174565.4355016  tonnes.\n",
      "==> Working on Material :  silicon\n",
      "Recycled surplus End of Sim for Mat  silicon  Scenario  circ_high  =  92705650.30630213  tonnes.\n",
      "==> Working on Material :  silver\n",
      "Recycled surplus End of Sim for Mat  silver  Scenario  circ_high  =  525850.6512047087  tonnes.\n",
      "==> Working on Material :  aluminium_frames\n",
      "Recycled surplus End of Sim for Mat  aluminium_frames  Scenario  circ_high  =  317925733.79332805  tonnes.\n",
      "==> Working on Material :  copper\n",
      "Recycled surplus End of Sim for Mat  copper  Scenario  circ_high  =  1917137.3588633481  tonnes.\n",
      "==> Working on Material :  encapsulant\n",
      "Recycled surplus End of Sim for Mat  encapsulant  Scenario  circ_high  =  187009227.84044114  tonnes.\n",
      "==> Working on Material :  backsheet\n",
      "Recycled surplus End of Sim for Mat  backsheet  Scenario  circ_high  =  78766594.05575582  tonnes.\n",
      "circ_mid\n",
      ">>>> Calculating Material Flows <<<<\n",
      "\n",
      "Working on Scenario:  circ_mid\n",
      "********************\n"
     ]
    },
    {
     "name": "stderr",
     "output_type": "stream",
     "text": [
      "C:\\Users\\hmirletz\\AppData\\Local\\Temp\\1\\ipykernel_3292\\3246415230.py:6: SettingWithCopyWarning: \n",
      "A value is trying to be set on a copy of a slice from a DataFrame\n",
      "\n",
      "See the caveats in the documentation: https://pandas.pydata.org/pandas-docs/stable/user_guide/indexing.html#returning-a-view-versus-a-copy\n",
      "  sim1.scenario[scen].dataIn_m['new_Installed_Capacity_[MW]'][row] += Under_Installment #overwrite new installed\n"
     ]
    },
    {
     "name": "stdout",
     "output_type": "stream",
     "text": [
      "Finished Area+Power Generation Calculations\n",
      "==> Working on Material :  glass\n",
      "Recycled surplus End of Sim for Mat  glass  Scenario  circ_mid  =  429958379.5820324  tonnes.\n",
      "==> Working on Material :  silicon\n",
      "Recycled surplus End of Sim for Mat  silicon  Scenario  circ_mid  =  14180136.469338644  tonnes.\n",
      "==> Working on Material :  silver\n",
      "Recycled surplus End of Sim for Mat  silver  Scenario  circ_mid  =  79789.4491682421  tonnes.\n",
      "==> Working on Material :  aluminium_frames\n",
      "Recycled surplus End of Sim for Mat  aluminium_frames  Scenario  circ_mid  =  48671417.10373549  tonnes.\n",
      "==> Working on Material :  copper\n",
      "Recycled surplus End of Sim for Mat  copper  Scenario  circ_mid  =  292601.3643082991  tonnes.\n",
      "==> Working on Material :  encapsulant\n",
      "Recycled surplus End of Sim for Mat  encapsulant  Scenario  circ_mid  =  28580363.51292088  tonnes.\n",
      "==> Working on Material :  backsheet\n",
      "Recycled surplus End of Sim for Mat  backsheet  Scenario  circ_mid  =  12007780.569134418  tonnes.\n",
      "circ_low\n",
      ">>>> Calculating Material Flows <<<<\n",
      "\n",
      "Working on Scenario:  circ_low\n",
      "********************\n"
     ]
    },
    {
     "name": "stderr",
     "output_type": "stream",
     "text": [
      "C:\\Users\\hmirletz\\AppData\\Local\\Temp\\1\\ipykernel_3292\\3246415230.py:6: SettingWithCopyWarning: \n",
      "A value is trying to be set on a copy of a slice from a DataFrame\n",
      "\n",
      "See the caveats in the documentation: https://pandas.pydata.org/pandas-docs/stable/user_guide/indexing.html#returning-a-view-versus-a-copy\n",
      "  sim1.scenario[scen].dataIn_m['new_Installed_Capacity_[MW]'][row] += Under_Installment #overwrite new installed\n"
     ]
    },
    {
     "name": "stdout",
     "output_type": "stream",
     "text": [
      "Finished Area+Power Generation Calculations\n",
      "==> Working on Material :  glass\n",
      "==> Working on Material :  silicon\n",
      "==> Working on Material :  silver\n",
      "==> Working on Material :  aluminium_frames\n",
      "==> Working on Material :  copper\n",
      "==> Working on Material :  encapsulant\n",
      "==> Working on Material :  backsheet\n",
      "34\n",
      "PV_ICE\n",
      ">>>> Calculating Material Flows <<<<\n",
      "\n",
      "Working on Scenario:  PV_ICE\n",
      "********************\n"
     ]
    },
    {
     "name": "stderr",
     "output_type": "stream",
     "text": [
      "C:\\Users\\hmirletz\\AppData\\Local\\Temp\\1\\ipykernel_3292\\3246415230.py:6: SettingWithCopyWarning: \n",
      "A value is trying to be set on a copy of a slice from a DataFrame\n",
      "\n",
      "See the caveats in the documentation: https://pandas.pydata.org/pandas-docs/stable/user_guide/indexing.html#returning-a-view-versus-a-copy\n",
      "  sim1.scenario[scen].dataIn_m['new_Installed_Capacity_[MW]'][row] += Under_Installment #overwrite new installed\n"
     ]
    },
    {
     "name": "stdout",
     "output_type": "stream",
     "text": [
      "Finished Area+Power Generation Calculations\n",
      "==> Working on Material :  glass\n",
      "==> Working on Material :  silicon\n",
      "==> Working on Material :  silver\n",
      "==> Working on Material :  aluminium_frames\n",
      "==> Working on Material :  copper\n",
      "==> Working on Material :  encapsulant\n",
      "==> Working on Material :  backsheet\n",
      "circ_high\n",
      ">>>> Calculating Material Flows <<<<\n",
      "\n",
      "Working on Scenario:  circ_high\n",
      "********************\n"
     ]
    },
    {
     "name": "stderr",
     "output_type": "stream",
     "text": [
      "C:\\Users\\hmirletz\\AppData\\Local\\Temp\\1\\ipykernel_3292\\3246415230.py:6: SettingWithCopyWarning: \n",
      "A value is trying to be set on a copy of a slice from a DataFrame\n",
      "\n",
      "See the caveats in the documentation: https://pandas.pydata.org/pandas-docs/stable/user_guide/indexing.html#returning-a-view-versus-a-copy\n",
      "  sim1.scenario[scen].dataIn_m['new_Installed_Capacity_[MW]'][row] += Under_Installment #overwrite new installed\n"
     ]
    },
    {
     "name": "stdout",
     "output_type": "stream",
     "text": [
      "Finished Area+Power Generation Calculations\n",
      "==> Working on Material :  glass\n",
      "Recycled surplus End of Sim for Mat  glass  Scenario  circ_high  =  2808613754.4781585  tonnes.\n",
      "==> Working on Material :  silicon\n",
      "Recycled surplus End of Sim for Mat  silicon  Scenario  circ_high  =  92851670.7478629  tonnes.\n",
      "==> Working on Material :  silver\n",
      "Recycled surplus End of Sim for Mat  silver  Scenario  circ_high  =  526664.6914524983  tonnes.\n",
      "==> Working on Material :  aluminium_frames\n",
      "Recycled surplus End of Sim for Mat  aluminium_frames  Scenario  circ_high  =  318427100.4763427  tonnes.\n",
      "==> Working on Material :  copper\n",
      "Recycled surplus End of Sim for Mat  copper  Scenario  circ_high  =  1920138.9447025075  tonnes.\n",
      "==> Working on Material :  encapsulant\n",
      "Recycled surplus End of Sim for Mat  encapsulant  Scenario  circ_high  =  187304421.67694125  tonnes.\n",
      "==> Working on Material :  backsheet\n",
      "Recycled surplus End of Sim for Mat  backsheet  Scenario  circ_high  =  78888380.21572058  tonnes.\n",
      "circ_mid\n",
      ">>>> Calculating Material Flows <<<<\n",
      "\n",
      "Working on Scenario:  circ_mid\n",
      "********************\n"
     ]
    },
    {
     "name": "stderr",
     "output_type": "stream",
     "text": [
      "C:\\Users\\hmirletz\\AppData\\Local\\Temp\\1\\ipykernel_3292\\3246415230.py:6: SettingWithCopyWarning: \n",
      "A value is trying to be set on a copy of a slice from a DataFrame\n",
      "\n",
      "See the caveats in the documentation: https://pandas.pydata.org/pandas-docs/stable/user_guide/indexing.html#returning-a-view-versus-a-copy\n",
      "  sim1.scenario[scen].dataIn_m['new_Installed_Capacity_[MW]'][row] += Under_Installment #overwrite new installed\n"
     ]
    },
    {
     "name": "stdout",
     "output_type": "stream",
     "text": [
      "Finished Area+Power Generation Calculations\n",
      "==> Working on Material :  glass\n",
      "Recycled surplus End of Sim for Mat  glass  Scenario  circ_mid  =  431062974.40776515  tonnes.\n",
      "==> Working on Material :  silicon\n",
      "Recycled surplus End of Sim for Mat  silicon  Scenario  circ_mid  =  14216470.453462625  tonnes.\n",
      "==> Working on Material :  silver\n",
      "Recycled surplus End of Sim for Mat  silver  Scenario  circ_mid  =  79991.96467505336  tonnes.\n",
      "==> Working on Material :  aluminium_frames\n",
      "Recycled surplus End of Sim for Mat  aluminium_frames  Scenario  circ_mid  =  48796171.206012085  tonnes.\n",
      "==> Working on Material :  copper\n",
      "Recycled surplus End of Sim for Mat  copper  Scenario  circ_mid  =  293348.17214107234  tonnes.\n",
      "==> Working on Material :  encapsulant\n",
      "Recycled surplus End of Sim for Mat  encapsulant  Scenario  circ_mid  =  28653816.024461385  tonnes.\n",
      "==> Working on Material :  backsheet\n",
      "Recycled surplus End of Sim for Mat  backsheet  Scenario  circ_mid  =  12038079.890156988  tonnes.\n",
      "circ_low\n",
      ">>>> Calculating Material Flows <<<<\n",
      "\n",
      "Working on Scenario:  circ_low\n",
      "********************\n"
     ]
    },
    {
     "name": "stderr",
     "output_type": "stream",
     "text": [
      "C:\\Users\\hmirletz\\AppData\\Local\\Temp\\1\\ipykernel_3292\\3246415230.py:6: SettingWithCopyWarning: \n",
      "A value is trying to be set on a copy of a slice from a DataFrame\n",
      "\n",
      "See the caveats in the documentation: https://pandas.pydata.org/pandas-docs/stable/user_guide/indexing.html#returning-a-view-versus-a-copy\n",
      "  sim1.scenario[scen].dataIn_m['new_Installed_Capacity_[MW]'][row] += Under_Installment #overwrite new installed\n"
     ]
    },
    {
     "name": "stdout",
     "output_type": "stream",
     "text": [
      "Finished Area+Power Generation Calculations\n",
      "==> Working on Material :  glass\n",
      "==> Working on Material :  silicon\n",
      "==> Working on Material :  silver\n",
      "==> Working on Material :  aluminium_frames\n",
      "==> Working on Material :  copper\n",
      "==> Working on Material :  encapsulant\n",
      "==> Working on Material :  backsheet\n",
      "35\n",
      "PV_ICE\n",
      ">>>> Calculating Material Flows <<<<\n",
      "\n",
      "Working on Scenario:  PV_ICE\n",
      "********************\n"
     ]
    },
    {
     "name": "stderr",
     "output_type": "stream",
     "text": [
      "C:\\Users\\hmirletz\\AppData\\Local\\Temp\\1\\ipykernel_3292\\3246415230.py:6: SettingWithCopyWarning: \n",
      "A value is trying to be set on a copy of a slice from a DataFrame\n",
      "\n",
      "See the caveats in the documentation: https://pandas.pydata.org/pandas-docs/stable/user_guide/indexing.html#returning-a-view-versus-a-copy\n",
      "  sim1.scenario[scen].dataIn_m['new_Installed_Capacity_[MW]'][row] += Under_Installment #overwrite new installed\n"
     ]
    },
    {
     "name": "stdout",
     "output_type": "stream",
     "text": [
      "Finished Area+Power Generation Calculations\n",
      "==> Working on Material :  glass\n",
      "==> Working on Material :  silicon\n",
      "==> Working on Material :  silver\n",
      "==> Working on Material :  aluminium_frames\n",
      "==> Working on Material :  copper\n",
      "==> Working on Material :  encapsulant\n",
      "==> Working on Material :  backsheet\n",
      "circ_high\n",
      ">>>> Calculating Material Flows <<<<\n",
      "\n",
      "Working on Scenario:  circ_high\n",
      "********************\n"
     ]
    },
    {
     "name": "stderr",
     "output_type": "stream",
     "text": [
      "C:\\Users\\hmirletz\\AppData\\Local\\Temp\\1\\ipykernel_3292\\3246415230.py:6: SettingWithCopyWarning: \n",
      "A value is trying to be set on a copy of a slice from a DataFrame\n",
      "\n",
      "See the caveats in the documentation: https://pandas.pydata.org/pandas-docs/stable/user_guide/indexing.html#returning-a-view-versus-a-copy\n",
      "  sim1.scenario[scen].dataIn_m['new_Installed_Capacity_[MW]'][row] += Under_Installment #overwrite new installed\n"
     ]
    },
    {
     "name": "stdout",
     "output_type": "stream",
     "text": [
      "Finished Area+Power Generation Calculations\n",
      "==> Working on Material :  glass\n",
      "Recycled surplus End of Sim for Mat  glass  Scenario  circ_high  =  2813439329.2291484  tonnes.\n",
      "==> Working on Material :  silicon\n",
      "Recycled surplus End of Sim for Mat  silicon  Scenario  circ_high  =  93010400.76570019  tonnes.\n",
      "==> Working on Material :  silver\n",
      "Recycled surplus End of Sim for Mat  silver  Scenario  circ_high  =  527549.5047579606  tonnes.\n",
      "==> Working on Material :  aluminium_frames\n",
      "Recycled surplus End of Sim for Mat  aluminium_frames  Scenario  circ_high  =  318972105.96795267  tonnes.\n",
      "==> Working on Material :  copper\n",
      "Recycled surplus End of Sim for Mat  copper  Scenario  circ_high  =  1923401.651473931  tonnes.\n",
      "==> Working on Material :  encapsulant\n",
      "Recycled surplus End of Sim for Mat  encapsulant  Scenario  circ_high  =  187625309.09812894  tonnes.\n",
      "==> Working on Material :  backsheet\n",
      "Recycled surplus End of Sim for Mat  backsheet  Scenario  circ_high  =  79020757.86377515  tonnes.\n",
      "circ_mid\n",
      ">>>> Calculating Material Flows <<<<\n",
      "\n",
      "Working on Scenario:  circ_mid\n",
      "********************\n"
     ]
    },
    {
     "name": "stderr",
     "output_type": "stream",
     "text": [
      "C:\\Users\\hmirletz\\AppData\\Local\\Temp\\1\\ipykernel_3292\\3246415230.py:6: SettingWithCopyWarning: \n",
      "A value is trying to be set on a copy of a slice from a DataFrame\n",
      "\n",
      "See the caveats in the documentation: https://pandas.pydata.org/pandas-docs/stable/user_guide/indexing.html#returning-a-view-versus-a-copy\n",
      "  sim1.scenario[scen].dataIn_m['new_Installed_Capacity_[MW]'][row] += Under_Installment #overwrite new installed\n"
     ]
    },
    {
     "name": "stdout",
     "output_type": "stream",
     "text": [
      "Finished Area+Power Generation Calculations\n",
      "==> Working on Material :  glass\n",
      "Recycled surplus End of Sim for Mat  glass  Scenario  circ_mid  =  432265829.29683965  tonnes.\n",
      "==> Working on Material :  silicon\n",
      "Recycled surplus End of Sim for Mat  silicon  Scenario  circ_mid  =  14256036.554466296  tonnes.\n",
      "==> Working on Material :  silver\n",
      "Recycled surplus End of Sim for Mat  silver  Scenario  circ_mid  =  80212.49510105795  tonnes.\n",
      "==> Working on Material :  aluminium_frames\n",
      "Recycled surplus End of Sim for Mat  aluminium_frames  Scenario  circ_mid  =  48932022.903267615  tonnes.\n",
      "==> Working on Material :  copper\n",
      "Recycled surplus End of Sim for Mat  copper  Scenario  circ_mid  =  294161.41282618465  tonnes.\n",
      "==> Working on Material :  encapsulant\n",
      "Recycled surplus End of Sim for Mat  encapsulant  Scenario  circ_mid  =  28733802.559399817  tonnes.\n",
      "==> Working on Material :  backsheet\n",
      "Recycled surplus End of Sim for Mat  backsheet  Scenario  circ_mid  =  12071074.510065204  tonnes.\n",
      "circ_low\n",
      ">>>> Calculating Material Flows <<<<\n",
      "\n",
      "Working on Scenario:  circ_low\n",
      "********************\n"
     ]
    },
    {
     "name": "stderr",
     "output_type": "stream",
     "text": [
      "C:\\Users\\hmirletz\\AppData\\Local\\Temp\\1\\ipykernel_3292\\3246415230.py:6: SettingWithCopyWarning: \n",
      "A value is trying to be set on a copy of a slice from a DataFrame\n",
      "\n",
      "See the caveats in the documentation: https://pandas.pydata.org/pandas-docs/stable/user_guide/indexing.html#returning-a-view-versus-a-copy\n",
      "  sim1.scenario[scen].dataIn_m['new_Installed_Capacity_[MW]'][row] += Under_Installment #overwrite new installed\n"
     ]
    },
    {
     "name": "stdout",
     "output_type": "stream",
     "text": [
      "Finished Area+Power Generation Calculations\n",
      "==> Working on Material :  glass\n",
      "==> Working on Material :  silicon\n",
      "==> Working on Material :  silver\n",
      "==> Working on Material :  aluminium_frames\n",
      "==> Working on Material :  copper\n",
      "==> Working on Material :  encapsulant\n",
      "==> Working on Material :  backsheet\n",
      "36\n",
      "PV_ICE\n",
      ">>>> Calculating Material Flows <<<<\n",
      "\n",
      "Working on Scenario:  PV_ICE\n",
      "********************\n"
     ]
    },
    {
     "name": "stderr",
     "output_type": "stream",
     "text": [
      "C:\\Users\\hmirletz\\AppData\\Local\\Temp\\1\\ipykernel_3292\\3246415230.py:6: SettingWithCopyWarning: \n",
      "A value is trying to be set on a copy of a slice from a DataFrame\n",
      "\n",
      "See the caveats in the documentation: https://pandas.pydata.org/pandas-docs/stable/user_guide/indexing.html#returning-a-view-versus-a-copy\n",
      "  sim1.scenario[scen].dataIn_m['new_Installed_Capacity_[MW]'][row] += Under_Installment #overwrite new installed\n"
     ]
    },
    {
     "name": "stdout",
     "output_type": "stream",
     "text": [
      "Finished Area+Power Generation Calculations\n",
      "==> Working on Material :  glass\n",
      "==> Working on Material :  silicon\n",
      "==> Working on Material :  silver\n",
      "==> Working on Material :  aluminium_frames\n",
      "==> Working on Material :  copper\n",
      "==> Working on Material :  encapsulant\n",
      "==> Working on Material :  backsheet\n",
      "circ_high\n",
      ">>>> Calculating Material Flows <<<<\n",
      "\n",
      "Working on Scenario:  circ_high\n",
      "********************\n"
     ]
    },
    {
     "name": "stderr",
     "output_type": "stream",
     "text": [
      "C:\\Users\\hmirletz\\AppData\\Local\\Temp\\1\\ipykernel_3292\\3246415230.py:6: SettingWithCopyWarning: \n",
      "A value is trying to be set on a copy of a slice from a DataFrame\n",
      "\n",
      "See the caveats in the documentation: https://pandas.pydata.org/pandas-docs/stable/user_guide/indexing.html#returning-a-view-versus-a-copy\n",
      "  sim1.scenario[scen].dataIn_m['new_Installed_Capacity_[MW]'][row] += Under_Installment #overwrite new installed\n"
     ]
    },
    {
     "name": "stdout",
     "output_type": "stream",
     "text": [
      "Finished Area+Power Generation Calculations\n",
      "==> Working on Material :  glass\n",
      "Recycled surplus End of Sim for Mat  glass  Scenario  circ_high  =  2818032791.4253945  tonnes.\n",
      "==> Working on Material :  silicon\n",
      "Recycled surplus End of Sim for Mat  silicon  Scenario  circ_high  =  93161495.79043178  tonnes.\n",
      "==> Working on Material :  silver\n",
      "Recycled surplus End of Sim for Mat  silver  Scenario  circ_high  =  528391.7146926689  tonnes.\n",
      "==> Working on Material :  aluminium_frames\n",
      "Recycled surplus End of Sim for Mat  aluminium_frames  Scenario  circ_high  =  319490896.4233161  tonnes.\n",
      "==> Working on Material :  copper\n",
      "Recycled surplus End of Sim for Mat  copper  Scenario  circ_high  =  1926507.3449560367  tonnes.\n",
      "==> Working on Material :  encapsulant\n",
      "Recycled surplus End of Sim for Mat  encapsulant  Scenario  circ_high  =  187930761.67415085  tonnes.\n",
      "==> Working on Material :  backsheet\n",
      "Recycled surplus End of Sim for Mat  backsheet  Scenario  circ_high  =  79146763.28798284  tonnes.\n",
      "circ_mid\n",
      ">>>> Calculating Material Flows <<<<\n",
      "\n",
      "Working on Scenario:  circ_mid\n",
      "********************\n"
     ]
    },
    {
     "name": "stderr",
     "output_type": "stream",
     "text": [
      "C:\\Users\\hmirletz\\AppData\\Local\\Temp\\1\\ipykernel_3292\\3246415230.py:6: SettingWithCopyWarning: \n",
      "A value is trying to be set on a copy of a slice from a DataFrame\n",
      "\n",
      "See the caveats in the documentation: https://pandas.pydata.org/pandas-docs/stable/user_guide/indexing.html#returning-a-view-versus-a-copy\n",
      "  sim1.scenario[scen].dataIn_m['new_Installed_Capacity_[MW]'][row] += Under_Installment #overwrite new installed\n"
     ]
    },
    {
     "name": "stdout",
     "output_type": "stream",
     "text": [
      "Finished Area+Power Generation Calculations\n",
      "==> Working on Material :  glass\n",
      "Recycled surplus End of Sim for Mat  glass  Scenario  circ_mid  =  433412127.2457216  tonnes.\n",
      "==> Working on Material :  silicon\n",
      "Recycled surplus End of Sim for Mat  silicon  Scenario  circ_mid  =  14293742.300053503  tonnes.\n",
      "==> Working on Material :  silver\n",
      "Recycled surplus End of Sim for Mat  silver  Scenario  circ_mid  =  80422.65642416618  tonnes.\n",
      "==> Working on Material :  aluminium_frames\n",
      "Recycled surplus End of Sim for Mat  aluminium_frames  Scenario  circ_mid  =  49061487.00016793  tonnes.\n",
      "==> Working on Material :  copper\n",
      "Recycled surplus End of Sim for Mat  copper  Scenario  circ_mid  =  294936.415810966  tonnes.\n",
      "==> Working on Material :  encapsulant\n",
      "Recycled surplus End of Sim for Mat  encapsulant  Scenario  circ_mid  =  28810028.21369187  tonnes.\n",
      "==> Working on Material :  backsheet\n",
      "Recycled surplus End of Sim for Mat  backsheet  Scenario  circ_mid  =  12102517.758513922  tonnes.\n",
      "circ_low\n",
      ">>>> Calculating Material Flows <<<<\n",
      "\n",
      "Working on Scenario:  circ_low\n",
      "********************\n"
     ]
    },
    {
     "name": "stderr",
     "output_type": "stream",
     "text": [
      "C:\\Users\\hmirletz\\AppData\\Local\\Temp\\1\\ipykernel_3292\\3246415230.py:6: SettingWithCopyWarning: \n",
      "A value is trying to be set on a copy of a slice from a DataFrame\n",
      "\n",
      "See the caveats in the documentation: https://pandas.pydata.org/pandas-docs/stable/user_guide/indexing.html#returning-a-view-versus-a-copy\n",
      "  sim1.scenario[scen].dataIn_m['new_Installed_Capacity_[MW]'][row] += Under_Installment #overwrite new installed\n"
     ]
    },
    {
     "name": "stdout",
     "output_type": "stream",
     "text": [
      "Finished Area+Power Generation Calculations\n",
      "==> Working on Material :  glass\n",
      "==> Working on Material :  silicon\n",
      "==> Working on Material :  silver\n",
      "==> Working on Material :  aluminium_frames\n",
      "==> Working on Material :  copper\n",
      "==> Working on Material :  encapsulant\n",
      "==> Working on Material :  backsheet\n",
      "37\n",
      "PV_ICE\n",
      ">>>> Calculating Material Flows <<<<\n",
      "\n",
      "Working on Scenario:  PV_ICE\n",
      "********************\n"
     ]
    },
    {
     "name": "stderr",
     "output_type": "stream",
     "text": [
      "C:\\Users\\hmirletz\\AppData\\Local\\Temp\\1\\ipykernel_3292\\3246415230.py:6: SettingWithCopyWarning: \n",
      "A value is trying to be set on a copy of a slice from a DataFrame\n",
      "\n",
      "See the caveats in the documentation: https://pandas.pydata.org/pandas-docs/stable/user_guide/indexing.html#returning-a-view-versus-a-copy\n",
      "  sim1.scenario[scen].dataIn_m['new_Installed_Capacity_[MW]'][row] += Under_Installment #overwrite new installed\n"
     ]
    },
    {
     "name": "stdout",
     "output_type": "stream",
     "text": [
      "Finished Area+Power Generation Calculations\n",
      "==> Working on Material :  glass\n",
      "==> Working on Material :  silicon\n",
      "==> Working on Material :  silver\n",
      "==> Working on Material :  aluminium_frames\n",
      "==> Working on Material :  copper\n",
      "==> Working on Material :  encapsulant\n",
      "==> Working on Material :  backsheet\n",
      "circ_high\n"
     ]
    },
    {
     "name": "stderr",
     "output_type": "stream",
     "text": [
      "C:\\Users\\hmirletz\\AppData\\Local\\Temp\\1\\ipykernel_3292\\3246415230.py:6: SettingWithCopyWarning: \n",
      "A value is trying to be set on a copy of a slice from a DataFrame\n",
      "\n",
      "See the caveats in the documentation: https://pandas.pydata.org/pandas-docs/stable/user_guide/indexing.html#returning-a-view-versus-a-copy\n",
      "  sim1.scenario[scen].dataIn_m['new_Installed_Capacity_[MW]'][row] += Under_Installment #overwrite new installed\n"
     ]
    },
    {
     "name": "stdout",
     "output_type": "stream",
     "text": [
      ">>>> Calculating Material Flows <<<<\n",
      "\n",
      "Working on Scenario:  circ_high\n",
      "********************\n",
      "Finished Area+Power Generation Calculations\n",
      "==> Working on Material :  glass\n",
      "Recycled surplus End of Sim for Mat  glass  Scenario  circ_high  =  2824257545.2388563  tonnes.\n",
      "==> Working on Material :  silicon\n",
      "Recycled surplus End of Sim for Mat  silicon  Scenario  circ_high  =  93366249.69744375  tonnes.\n",
      "==> Working on Material :  silver\n",
      "Recycled surplus End of Sim for Mat  silver  Scenario  circ_high  =  529532.9892598252  tonnes.\n",
      "==> Working on Material :  aluminium_frames\n",
      "Recycled surplus End of Sim for Mat  aluminium_frames  Scenario  circ_high  =  320193926.6709692  tonnes.\n",
      "==> Working on Material :  copper\n",
      "Recycled surplus End of Sim for Mat  copper  Scenario  circ_high  =  1930715.915950823  tonnes.\n",
      "==> Working on Material :  encapsulant\n",
      "Recycled surplus End of Sim for Mat  encapsulant  Scenario  circ_high  =  188344690.64671937  tonnes.\n",
      "==> Working on Material :  backsheet\n",
      "Recycled surplus End of Sim for Mat  backsheet  Scenario  circ_high  =  79317513.8106859  tonnes.\n",
      "circ_mid\n",
      ">>>> Calculating Material Flows <<<<\n",
      "\n",
      "Working on Scenario:  circ_mid\n",
      "********************\n"
     ]
    },
    {
     "name": "stderr",
     "output_type": "stream",
     "text": [
      "C:\\Users\\hmirletz\\AppData\\Local\\Temp\\1\\ipykernel_3292\\3246415230.py:6: SettingWithCopyWarning: \n",
      "A value is trying to be set on a copy of a slice from a DataFrame\n",
      "\n",
      "See the caveats in the documentation: https://pandas.pydata.org/pandas-docs/stable/user_guide/indexing.html#returning-a-view-versus-a-copy\n",
      "  sim1.scenario[scen].dataIn_m['new_Installed_Capacity_[MW]'][row] += Under_Installment #overwrite new installed\n"
     ]
    },
    {
     "name": "stdout",
     "output_type": "stream",
     "text": [
      "Finished Area+Power Generation Calculations\n",
      "==> Working on Material :  glass\n",
      "Recycled surplus End of Sim for Mat  glass  Scenario  circ_mid  =  434966631.25379205  tonnes.\n",
      "==> Working on Material :  silicon\n",
      "Recycled surplus End of Sim for Mat  silicon  Scenario  circ_mid  =  14344875.369513994  tonnes.\n",
      "==> Working on Material :  silver\n",
      "Recycled surplus End of Sim for Mat  silver  Scenario  circ_mid  =  80707.65791041312  tonnes.\n",
      "==> Working on Material :  aluminium_frames\n",
      "Recycled surplus End of Sim for Mat  aluminium_frames  Scenario  circ_mid  =  49237054.319056585  tonnes.\n",
      "==> Working on Material :  copper\n",
      "Recycled surplus End of Sim for Mat  copper  Scenario  circ_mid  =  295987.40368657396  tonnes.\n",
      "==> Working on Material :  encapsulant\n",
      "Recycled surplus End of Sim for Mat  encapsulant  Scenario  circ_mid  =  28913398.445864383  tonnes.\n",
      "==> Working on Material :  backsheet\n",
      "Recycled surplus End of Sim for Mat  backsheet  Scenario  circ_mid  =  12145158.204471244  tonnes.\n",
      "circ_low\n",
      ">>>> Calculating Material Flows <<<<\n",
      "\n",
      "Working on Scenario:  circ_low\n",
      "********************\n"
     ]
    },
    {
     "name": "stderr",
     "output_type": "stream",
     "text": [
      "C:\\Users\\hmirletz\\AppData\\Local\\Temp\\1\\ipykernel_3292\\3246415230.py:6: SettingWithCopyWarning: \n",
      "A value is trying to be set on a copy of a slice from a DataFrame\n",
      "\n",
      "See the caveats in the documentation: https://pandas.pydata.org/pandas-docs/stable/user_guide/indexing.html#returning-a-view-versus-a-copy\n",
      "  sim1.scenario[scen].dataIn_m['new_Installed_Capacity_[MW]'][row] += Under_Installment #overwrite new installed\n"
     ]
    },
    {
     "name": "stdout",
     "output_type": "stream",
     "text": [
      "Finished Area+Power Generation Calculations\n",
      "==> Working on Material :  glass\n",
      "==> Working on Material :  silicon\n",
      "==> Working on Material :  silver\n",
      "==> Working on Material :  aluminium_frames\n",
      "==> Working on Material :  copper\n",
      "==> Working on Material :  encapsulant\n",
      "==> Working on Material :  backsheet\n",
      "38\n",
      "PV_ICE\n",
      ">>>> Calculating Material Flows <<<<\n",
      "\n",
      "Working on Scenario:  PV_ICE\n",
      "********************\n"
     ]
    },
    {
     "name": "stderr",
     "output_type": "stream",
     "text": [
      "C:\\Users\\hmirletz\\AppData\\Local\\Temp\\1\\ipykernel_3292\\3246415230.py:6: SettingWithCopyWarning: \n",
      "A value is trying to be set on a copy of a slice from a DataFrame\n",
      "\n",
      "See the caveats in the documentation: https://pandas.pydata.org/pandas-docs/stable/user_guide/indexing.html#returning-a-view-versus-a-copy\n",
      "  sim1.scenario[scen].dataIn_m['new_Installed_Capacity_[MW]'][row] += Under_Installment #overwrite new installed\n"
     ]
    },
    {
     "name": "stdout",
     "output_type": "stream",
     "text": [
      "Finished Area+Power Generation Calculations\n",
      "==> Working on Material :  glass\n",
      "==> Working on Material :  silicon\n",
      "==> Working on Material :  silver\n",
      "==> Working on Material :  aluminium_frames\n",
      "==> Working on Material :  copper\n",
      "==> Working on Material :  encapsulant\n",
      "==> Working on Material :  backsheet\n",
      "circ_high\n",
      ">>>> Calculating Material Flows <<<<\n",
      "\n",
      "Working on Scenario:  circ_high\n",
      "********************\n"
     ]
    },
    {
     "name": "stderr",
     "output_type": "stream",
     "text": [
      "C:\\Users\\hmirletz\\AppData\\Local\\Temp\\1\\ipykernel_3292\\3246415230.py:6: SettingWithCopyWarning: \n",
      "A value is trying to be set on a copy of a slice from a DataFrame\n",
      "\n",
      "See the caveats in the documentation: https://pandas.pydata.org/pandas-docs/stable/user_guide/indexing.html#returning-a-view-versus-a-copy\n",
      "  sim1.scenario[scen].dataIn_m['new_Installed_Capacity_[MW]'][row] += Under_Installment #overwrite new installed\n"
     ]
    },
    {
     "name": "stdout",
     "output_type": "stream",
     "text": [
      "Finished Area+Power Generation Calculations\n",
      "==> Working on Material :  glass\n",
      "Recycled surplus End of Sim for Mat  glass  Scenario  circ_high  =  2830060746.3905454  tonnes.\n",
      "==> Working on Material :  silicon\n",
      "Recycled surplus End of Sim for Mat  silicon  Scenario  circ_high  =  93557137.2641801  tonnes.\n",
      "==> Working on Material :  silver\n",
      "Recycled surplus End of Sim for Mat  silver  Scenario  circ_high  =  530596.9585714351  tonnes.\n",
      "==> Working on Material :  aluminium_frames\n",
      "Recycled surplus End of Sim for Mat  aluminium_frames  Scenario  circ_high  =  320849346.31728977  tonnes.\n",
      "==> Working on Material :  copper\n",
      "Recycled surplus End of Sim for Mat  copper  Scenario  circ_high  =  1934639.4446724465  tonnes.\n",
      "==> Working on Material :  encapsulant\n",
      "Recycled surplus End of Sim for Mat  encapsulant  Scenario  circ_high  =  188730587.5291201  tonnes.\n",
      "==> Working on Material :  backsheet\n",
      "Recycled surplus End of Sim for Mat  backsheet  Scenario  circ_high  =  79476698.9404396  tonnes.\n",
      "circ_mid\n",
      ">>>> Calculating Material Flows <<<<\n",
      "\n",
      "Working on Scenario:  circ_mid\n",
      "********************\n"
     ]
    },
    {
     "name": "stderr",
     "output_type": "stream",
     "text": [
      "C:\\Users\\hmirletz\\AppData\\Local\\Temp\\1\\ipykernel_3292\\3246415230.py:6: SettingWithCopyWarning: \n",
      "A value is trying to be set on a copy of a slice from a DataFrame\n",
      "\n",
      "See the caveats in the documentation: https://pandas.pydata.org/pandas-docs/stable/user_guide/indexing.html#returning-a-view-versus-a-copy\n",
      "  sim1.scenario[scen].dataIn_m['new_Installed_Capacity_[MW]'][row] += Under_Installment #overwrite new installed\n"
     ]
    },
    {
     "name": "stdout",
     "output_type": "stream",
     "text": [
      "Finished Area+Power Generation Calculations\n",
      "==> Working on Material :  glass\n",
      "Recycled surplus End of Sim for Mat  glass  Scenario  circ_mid  =  436416508.3878277  tonnes.\n",
      "==> Working on Material :  silicon\n",
      "Recycled surplus End of Sim for Mat  silicon  Scenario  circ_mid  =  14392566.895440541  tonnes.\n",
      "==> Working on Material :  silver\n",
      "Recycled surplus End of Sim for Mat  silver  Scenario  circ_mid  =  80973.47719163098  tonnes.\n",
      "==> Working on Material :  aluminium_frames\n",
      "Recycled surplus End of Sim for Mat  aluminium_frames  Scenario  circ_mid  =  49400804.9686651  tonnes.\n",
      "==> Working on Material :  copper\n",
      "Recycled surplus End of Sim for Mat  copper  Scenario  circ_mid  =  296967.6541594461  tonnes.\n",
      "==> Working on Material :  encapsulant\n",
      "Recycled surplus End of Sim for Mat  encapsulant  Scenario  circ_mid  =  29009811.279275406  tonnes.\n",
      "==> Working on Material :  backsheet\n",
      "Recycled surplus End of Sim for Mat  backsheet  Scenario  circ_mid  =  12184928.708283158  tonnes.\n",
      "circ_low\n",
      ">>>> Calculating Material Flows <<<<\n",
      "\n",
      "Working on Scenario:  circ_low\n",
      "********************\n"
     ]
    },
    {
     "name": "stderr",
     "output_type": "stream",
     "text": [
      "C:\\Users\\hmirletz\\AppData\\Local\\Temp\\1\\ipykernel_3292\\3246415230.py:6: SettingWithCopyWarning: \n",
      "A value is trying to be set on a copy of a slice from a DataFrame\n",
      "\n",
      "See the caveats in the documentation: https://pandas.pydata.org/pandas-docs/stable/user_guide/indexing.html#returning-a-view-versus-a-copy\n",
      "  sim1.scenario[scen].dataIn_m['new_Installed_Capacity_[MW]'][row] += Under_Installment #overwrite new installed\n"
     ]
    },
    {
     "name": "stdout",
     "output_type": "stream",
     "text": [
      "Finished Area+Power Generation Calculations\n",
      "==> Working on Material :  glass\n",
      "==> Working on Material :  silicon\n",
      "==> Working on Material :  silver\n",
      "==> Working on Material :  aluminium_frames\n",
      "==> Working on Material :  copper\n",
      "==> Working on Material :  encapsulant\n",
      "==> Working on Material :  backsheet\n",
      "39\n",
      "PV_ICE\n",
      ">>>> Calculating Material Flows <<<<\n",
      "\n",
      "Working on Scenario:  PV_ICE\n",
      "********************\n"
     ]
    },
    {
     "name": "stderr",
     "output_type": "stream",
     "text": [
      "C:\\Users\\hmirletz\\AppData\\Local\\Temp\\1\\ipykernel_3292\\3246415230.py:6: SettingWithCopyWarning: \n",
      "A value is trying to be set on a copy of a slice from a DataFrame\n",
      "\n",
      "See the caveats in the documentation: https://pandas.pydata.org/pandas-docs/stable/user_guide/indexing.html#returning-a-view-versus-a-copy\n",
      "  sim1.scenario[scen].dataIn_m['new_Installed_Capacity_[MW]'][row] += Under_Installment #overwrite new installed\n"
     ]
    },
    {
     "name": "stdout",
     "output_type": "stream",
     "text": [
      "Finished Area+Power Generation Calculations\n",
      "==> Working on Material :  glass\n",
      "==> Working on Material :  silicon\n",
      "==> Working on Material :  silver\n",
      "==> Working on Material :  aluminium_frames\n",
      "==> Working on Material :  copper\n",
      "==> Working on Material :  encapsulant\n",
      "==> Working on Material :  backsheet\n",
      "circ_high\n",
      ">>>> Calculating Material Flows <<<<\n",
      "\n",
      "Working on Scenario:  circ_high\n",
      "********************\n"
     ]
    },
    {
     "name": "stderr",
     "output_type": "stream",
     "text": [
      "C:\\Users\\hmirletz\\AppData\\Local\\Temp\\1\\ipykernel_3292\\3246415230.py:6: SettingWithCopyWarning: \n",
      "A value is trying to be set on a copy of a slice from a DataFrame\n",
      "\n",
      "See the caveats in the documentation: https://pandas.pydata.org/pandas-docs/stable/user_guide/indexing.html#returning-a-view-versus-a-copy\n",
      "  sim1.scenario[scen].dataIn_m['new_Installed_Capacity_[MW]'][row] += Under_Installment #overwrite new installed\n"
     ]
    },
    {
     "name": "stdout",
     "output_type": "stream",
     "text": [
      "Finished Area+Power Generation Calculations\n",
      "==> Working on Material :  glass\n",
      "Recycled surplus End of Sim for Mat  glass  Scenario  circ_high  =  2836579374.5242863  tonnes.\n",
      "==> Working on Material :  silicon\n",
      "Recycled surplus End of Sim for Mat  silicon  Scenario  circ_high  =  93771557.72460942  tonnes.\n",
      "==> Working on Material :  silver\n",
      "Recycled surplus End of Sim for Mat  silver  Scenario  circ_high  =  531792.0864684732  tonnes.\n",
      "==> Working on Material :  aluminium_frames\n",
      "Recycled surplus End of Sim for Mat  aluminium_frames  Scenario  circ_high  =  321585567.03999704  tonnes.\n",
      "==> Working on Material :  copper\n",
      "Recycled surplus End of Sim for Mat  copper  Scenario  circ_high  =  1939046.6541563289  tonnes.\n",
      "==> Working on Material :  encapsulant\n",
      "Recycled surplus End of Sim for Mat  encapsulant  Scenario  circ_high  =  189164058.33404103  tonnes.\n",
      "==> Working on Material :  backsheet\n",
      "Recycled surplus End of Sim for Mat  backsheet  Scenario  circ_high  =  79655507.5719415  tonnes.\n",
      "circ_mid\n",
      ">>>> Calculating Material Flows <<<<\n",
      "\n",
      "Working on Scenario:  circ_mid\n",
      "********************\n"
     ]
    },
    {
     "name": "stderr",
     "output_type": "stream",
     "text": [
      "C:\\Users\\hmirletz\\AppData\\Local\\Temp\\1\\ipykernel_3292\\3246415230.py:6: SettingWithCopyWarning: \n",
      "A value is trying to be set on a copy of a slice from a DataFrame\n",
      "\n",
      "See the caveats in the documentation: https://pandas.pydata.org/pandas-docs/stable/user_guide/indexing.html#returning-a-view-versus-a-copy\n",
      "  sim1.scenario[scen].dataIn_m['new_Installed_Capacity_[MW]'][row] += Under_Installment #overwrite new installed\n"
     ]
    },
    {
     "name": "stdout",
     "output_type": "stream",
     "text": [
      "Finished Area+Power Generation Calculations\n",
      "==> Working on Material :  glass\n",
      "Recycled surplus End of Sim for Mat  glass  Scenario  circ_mid  =  438045570.4940834  tonnes.\n",
      "==> Working on Material :  silicon\n",
      "Recycled surplus End of Sim for Mat  silicon  Scenario  circ_mid  =  14446152.4413138  tonnes.\n",
      "==> Working on Material :  silver\n",
      "Recycled surplus End of Sim for Mat  silver  Scenario  circ_mid  =  81272.14809827451  tonnes.\n",
      "==> Working on Material :  aluminium_frames\n",
      "Recycled surplus End of Sim for Mat  aluminium_frames  Scenario  circ_mid  =  49584792.95764005  tonnes.\n",
      "==> Working on Material :  copper\n",
      "Recycled surplus End of Sim for Mat  copper  Scenario  circ_mid  =  298069.0501760522  tonnes.\n",
      "==> Working on Material :  encapsulant\n",
      "Recycled surplus End of Sim for Mat  encapsulant  Scenario  circ_mid  =  29118139.419487868  tonnes.\n",
      "==> Working on Material :  backsheet\n",
      "Recycled surplus End of Sim for Mat  backsheet  Scenario  circ_mid  =  12229614.30210748  tonnes.\n",
      "circ_low\n",
      ">>>> Calculating Material Flows <<<<\n",
      "\n",
      "Working on Scenario:  circ_low\n",
      "********************\n"
     ]
    },
    {
     "name": "stderr",
     "output_type": "stream",
     "text": [
      "C:\\Users\\hmirletz\\AppData\\Local\\Temp\\1\\ipykernel_3292\\3246415230.py:6: SettingWithCopyWarning: \n",
      "A value is trying to be set on a copy of a slice from a DataFrame\n",
      "\n",
      "See the caveats in the documentation: https://pandas.pydata.org/pandas-docs/stable/user_guide/indexing.html#returning-a-view-versus-a-copy\n",
      "  sim1.scenario[scen].dataIn_m['new_Installed_Capacity_[MW]'][row] += Under_Installment #overwrite new installed\n"
     ]
    },
    {
     "name": "stdout",
     "output_type": "stream",
     "text": [
      "Finished Area+Power Generation Calculations\n",
      "==> Working on Material :  glass\n",
      "==> Working on Material :  silicon\n",
      "==> Working on Material :  silver\n",
      "==> Working on Material :  aluminium_frames\n",
      "==> Working on Material :  copper\n",
      "==> Working on Material :  encapsulant\n",
      "==> Working on Material :  backsheet\n",
      "40\n",
      "PV_ICE\n",
      ">>>> Calculating Material Flows <<<<\n",
      "\n",
      "Working on Scenario:  PV_ICE\n",
      "********************\n"
     ]
    },
    {
     "name": "stderr",
     "output_type": "stream",
     "text": [
      "C:\\Users\\hmirletz\\AppData\\Local\\Temp\\1\\ipykernel_3292\\3246415230.py:6: SettingWithCopyWarning: \n",
      "A value is trying to be set on a copy of a slice from a DataFrame\n",
      "\n",
      "See the caveats in the documentation: https://pandas.pydata.org/pandas-docs/stable/user_guide/indexing.html#returning-a-view-versus-a-copy\n",
      "  sim1.scenario[scen].dataIn_m['new_Installed_Capacity_[MW]'][row] += Under_Installment #overwrite new installed\n"
     ]
    },
    {
     "name": "stdout",
     "output_type": "stream",
     "text": [
      "Finished Area+Power Generation Calculations\n",
      "==> Working on Material :  glass\n",
      "==> Working on Material :  silicon\n",
      "==> Working on Material :  silver\n",
      "==> Working on Material :  aluminium_frames\n",
      "==> Working on Material :  copper\n",
      "==> Working on Material :  encapsulant\n",
      "==> Working on Material :  backsheet\n",
      "circ_high\n",
      ">>>> Calculating Material Flows <<<<\n",
      "\n",
      "Working on Scenario:  circ_high\n",
      "********************\n"
     ]
    },
    {
     "name": "stderr",
     "output_type": "stream",
     "text": [
      "C:\\Users\\hmirletz\\AppData\\Local\\Temp\\1\\ipykernel_3292\\3246415230.py:6: SettingWithCopyWarning: \n",
      "A value is trying to be set on a copy of a slice from a DataFrame\n",
      "\n",
      "See the caveats in the documentation: https://pandas.pydata.org/pandas-docs/stable/user_guide/indexing.html#returning-a-view-versus-a-copy\n",
      "  sim1.scenario[scen].dataIn_m['new_Installed_Capacity_[MW]'][row] += Under_Installment #overwrite new installed\n"
     ]
    },
    {
     "name": "stdout",
     "output_type": "stream",
     "text": [
      "Finished Area+Power Generation Calculations\n",
      "==> Working on Material :  glass\n",
      "Recycled surplus End of Sim for Mat  glass  Scenario  circ_high  =  2844772000.2107983  tonnes.\n",
      "==> Working on Material :  silicon\n",
      "Recycled surplus End of Sim for Mat  silicon  Scenario  circ_high  =  94041041.81478697  tonnes.\n",
      "==> Working on Material :  silver\n",
      "Recycled surplus End of Sim for Mat  silver  Scenario  circ_high  =  533294.1201828112  tonnes.\n",
      "==> Working on Material :  aluminium_frames\n",
      "Recycled surplus End of Sim for Mat  aluminium_frames  Scenario  circ_high  =  322510850.80830634  tonnes.\n",
      "==> Working on Material :  copper\n",
      "Recycled surplus End of Sim for Mat  copper  Scenario  circ_high  =  1944585.6332488398  tonnes.\n",
      "==> Working on Material :  encapsulant\n",
      "Recycled surplus End of Sim for Mat  encapsulant  Scenario  circ_high  =  189708845.3625212  tonnes.\n",
      "==> Working on Material :  backsheet\n",
      "Recycled surplus End of Sim for Mat  backsheet  Scenario  circ_high  =  79880233.96856377  tonnes.\n",
      "circ_mid\n",
      ">>>> Calculating Material Flows <<<<\n",
      "\n",
      "Working on Scenario:  circ_mid\n",
      "********************\n"
     ]
    },
    {
     "name": "stderr",
     "output_type": "stream",
     "text": [
      "C:\\Users\\hmirletz\\AppData\\Local\\Temp\\1\\ipykernel_3292\\3246415230.py:6: SettingWithCopyWarning: \n",
      "A value is trying to be set on a copy of a slice from a DataFrame\n",
      "\n",
      "See the caveats in the documentation: https://pandas.pydata.org/pandas-docs/stable/user_guide/indexing.html#returning-a-view-versus-a-copy\n",
      "  sim1.scenario[scen].dataIn_m['new_Installed_Capacity_[MW]'][row] += Under_Installment #overwrite new installed\n"
     ]
    },
    {
     "name": "stdout",
     "output_type": "stream",
     "text": [
      "Finished Area+Power Generation Calculations\n",
      "==> Working on Material :  glass\n",
      "Recycled surplus End of Sim for Mat  glass  Scenario  circ_mid  =  440093309.1782962  tonnes.\n",
      "==> Working on Material :  silicon\n",
      "Recycled surplus End of Sim for Mat  silicon  Scenario  circ_mid  =  14513509.723014701  tonnes.\n",
      "==> Working on Material :  silver\n",
      "Recycled surplus End of Sim for Mat  silver  Scenario  circ_mid  =  81647.57882435569  tonnes.\n",
      "==> Working on Material :  aluminium_frames\n",
      "Recycled surplus End of Sim for Mat  aluminium_frames  Scenario  circ_mid  =  49816066.72001399  tonnes.\n",
      "==> Working on Material :  copper\n",
      "Recycled surplus End of Sim for Mat  copper  Scenario  circ_mid  =  299453.5101184827  tonnes.\n",
      "==> Working on Material :  encapsulant\n",
      "Recycled surplus End of Sim for Mat  encapsulant  Scenario  circ_mid  =  29254308.398221124  tonnes.\n",
      "==> Working on Material :  backsheet\n",
      "Recycled surplus End of Sim for Mat  backsheet  Scenario  circ_mid  =  12285784.302471312  tonnes.\n",
      "circ_low\n",
      ">>>> Calculating Material Flows <<<<\n",
      "\n",
      "Working on Scenario:  circ_low\n",
      "********************\n"
     ]
    },
    {
     "name": "stderr",
     "output_type": "stream",
     "text": [
      "C:\\Users\\hmirletz\\AppData\\Local\\Temp\\1\\ipykernel_3292\\3246415230.py:6: SettingWithCopyWarning: \n",
      "A value is trying to be set on a copy of a slice from a DataFrame\n",
      "\n",
      "See the caveats in the documentation: https://pandas.pydata.org/pandas-docs/stable/user_guide/indexing.html#returning-a-view-versus-a-copy\n",
      "  sim1.scenario[scen].dataIn_m['new_Installed_Capacity_[MW]'][row] += Under_Installment #overwrite new installed\n"
     ]
    },
    {
     "name": "stdout",
     "output_type": "stream",
     "text": [
      "Finished Area+Power Generation Calculations\n",
      "==> Working on Material :  glass\n",
      "==> Working on Material :  silicon\n",
      "==> Working on Material :  silver\n",
      "==> Working on Material :  aluminium_frames\n",
      "==> Working on Material :  copper\n",
      "==> Working on Material :  encapsulant\n",
      "==> Working on Material :  backsheet\n",
      "41\n",
      "PV_ICE\n",
      ">>>> Calculating Material Flows <<<<\n",
      "\n",
      "Working on Scenario:  PV_ICE\n",
      "********************\n"
     ]
    },
    {
     "name": "stderr",
     "output_type": "stream",
     "text": [
      "C:\\Users\\hmirletz\\AppData\\Local\\Temp\\1\\ipykernel_3292\\3246415230.py:6: SettingWithCopyWarning: \n",
      "A value is trying to be set on a copy of a slice from a DataFrame\n",
      "\n",
      "See the caveats in the documentation: https://pandas.pydata.org/pandas-docs/stable/user_guide/indexing.html#returning-a-view-versus-a-copy\n",
      "  sim1.scenario[scen].dataIn_m['new_Installed_Capacity_[MW]'][row] += Under_Installment #overwrite new installed\n"
     ]
    },
    {
     "name": "stdout",
     "output_type": "stream",
     "text": [
      "Finished Area+Power Generation Calculations\n",
      "==> Working on Material :  glass\n",
      "==> Working on Material :  silicon\n",
      "==> Working on Material :  silver\n",
      "==> Working on Material :  aluminium_frames\n",
      "==> Working on Material :  copper\n",
      "==> Working on Material :  encapsulant\n",
      "==> Working on Material :  backsheet\n",
      "circ_high\n",
      ">>>> Calculating Material Flows <<<<\n",
      "\n",
      "Working on Scenario:  circ_high\n",
      "********************\n"
     ]
    },
    {
     "name": "stderr",
     "output_type": "stream",
     "text": [
      "C:\\Users\\hmirletz\\AppData\\Local\\Temp\\1\\ipykernel_3292\\3246415230.py:6: SettingWithCopyWarning: \n",
      "A value is trying to be set on a copy of a slice from a DataFrame\n",
      "\n",
      "See the caveats in the documentation: https://pandas.pydata.org/pandas-docs/stable/user_guide/indexing.html#returning-a-view-versus-a-copy\n",
      "  sim1.scenario[scen].dataIn_m['new_Installed_Capacity_[MW]'][row] += Under_Installment #overwrite new installed\n"
     ]
    },
    {
     "name": "stdout",
     "output_type": "stream",
     "text": [
      "Finished Area+Power Generation Calculations\n",
      "==> Working on Material :  glass\n",
      "Recycled surplus End of Sim for Mat  glass  Scenario  circ_high  =  2852784634.3728247  tonnes.\n",
      "==> Working on Material :  silicon\n",
      "Recycled surplus End of Sim for Mat  silicon  Scenario  circ_high  =  94304605.35469502  tonnes.\n",
      "==> Working on Material :  silver\n",
      "Recycled surplus End of Sim for Mat  silver  Scenario  circ_high  =  534763.1517727083  tonnes.\n",
      "==> Working on Material :  aluminium_frames\n",
      "Recycled surplus End of Sim for Mat  aluminium_frames  Scenario  circ_high  =  323415806.14438707  tonnes.\n",
      "==> Working on Material :  copper\n",
      "Recycled surplus End of Sim for Mat  copper  Scenario  circ_high  =  1950002.9160047998  tonnes.\n",
      "==> Working on Material :  encapsulant\n",
      "Recycled surplus End of Sim for Mat  encapsulant  Scenario  circ_high  =  190241663.45069712  tonnes.\n",
      "==> Working on Material :  backsheet\n",
      "Recycled surplus End of Sim for Mat  backsheet  Scenario  circ_high  =  80100022.82646595  tonnes.\n",
      "circ_mid\n",
      ">>>> Calculating Material Flows <<<<\n",
      "\n",
      "Working on Scenario:  circ_mid\n",
      "********************\n"
     ]
    },
    {
     "name": "stderr",
     "output_type": "stream",
     "text": [
      "C:\\Users\\hmirletz\\AppData\\Local\\Temp\\1\\ipykernel_3292\\3246415230.py:6: SettingWithCopyWarning: \n",
      "A value is trying to be set on a copy of a slice from a DataFrame\n",
      "\n",
      "See the caveats in the documentation: https://pandas.pydata.org/pandas-docs/stable/user_guide/indexing.html#returning-a-view-versus-a-copy\n",
      "  sim1.scenario[scen].dataIn_m['new_Installed_Capacity_[MW]'][row] += Under_Installment #overwrite new installed\n"
     ]
    },
    {
     "name": "stdout",
     "output_type": "stream",
     "text": [
      "Finished Area+Power Generation Calculations\n",
      "==> Working on Material :  glass\n",
      "Recycled surplus End of Sim for Mat  glass  Scenario  circ_mid  =  442096246.00236064  tonnes.\n",
      "==> Working on Material :  silicon\n",
      "Recycled surplus End of Sim for Mat  silicon  Scenario  circ_mid  =  14579393.314963093  tonnes.\n",
      "==> Working on Material :  silver\n",
      "Recycled surplus End of Sim for Mat  silver  Scenario  circ_mid  =  82014.79561424715  tonnes.\n",
      "==> Working on Material :  aluminium_frames\n",
      "Recycled surplus End of Sim for Mat  aluminium_frames  Scenario  circ_mid  =  50042280.513145864  tonnes.\n",
      "==> Working on Material :  copper\n",
      "Recycled surplus End of Sim for Mat  copper  Scenario  circ_mid  =  300807.67987730715  tonnes.\n",
      "==> Working on Material :  encapsulant\n",
      "Recycled surplus End of Sim for Mat  encapsulant  Scenario  circ_mid  =  29387498.176732793  tonnes.\n",
      "==> Working on Material :  backsheet\n",
      "Recycled surplus End of Sim for Mat  backsheet  Scenario  circ_mid  =  12340725.376253722  tonnes.\n",
      "circ_low\n",
      ">>>> Calculating Material Flows <<<<\n",
      "\n",
      "Working on Scenario:  circ_low\n",
      "********************\n"
     ]
    },
    {
     "name": "stderr",
     "output_type": "stream",
     "text": [
      "C:\\Users\\hmirletz\\AppData\\Local\\Temp\\1\\ipykernel_3292\\3246415230.py:6: SettingWithCopyWarning: \n",
      "A value is trying to be set on a copy of a slice from a DataFrame\n",
      "\n",
      "See the caveats in the documentation: https://pandas.pydata.org/pandas-docs/stable/user_guide/indexing.html#returning-a-view-versus-a-copy\n",
      "  sim1.scenario[scen].dataIn_m['new_Installed_Capacity_[MW]'][row] += Under_Installment #overwrite new installed\n"
     ]
    },
    {
     "name": "stdout",
     "output_type": "stream",
     "text": [
      "Finished Area+Power Generation Calculations\n",
      "==> Working on Material :  glass\n",
      "==> Working on Material :  silicon\n",
      "==> Working on Material :  silver\n",
      "==> Working on Material :  aluminium_frames\n",
      "==> Working on Material :  copper\n",
      "==> Working on Material :  encapsulant\n",
      "==> Working on Material :  backsheet\n",
      "42\n",
      "PV_ICE\n",
      ">>>> Calculating Material Flows <<<<\n",
      "\n",
      "Working on Scenario:  PV_ICE\n",
      "********************\n"
     ]
    },
    {
     "name": "stderr",
     "output_type": "stream",
     "text": [
      "C:\\Users\\hmirletz\\AppData\\Local\\Temp\\1\\ipykernel_3292\\3246415230.py:6: SettingWithCopyWarning: \n",
      "A value is trying to be set on a copy of a slice from a DataFrame\n",
      "\n",
      "See the caveats in the documentation: https://pandas.pydata.org/pandas-docs/stable/user_guide/indexing.html#returning-a-view-versus-a-copy\n",
      "  sim1.scenario[scen].dataIn_m['new_Installed_Capacity_[MW]'][row] += Under_Installment #overwrite new installed\n"
     ]
    },
    {
     "name": "stdout",
     "output_type": "stream",
     "text": [
      "Finished Area+Power Generation Calculations\n",
      "==> Working on Material :  glass\n",
      "==> Working on Material :  silicon\n",
      "==> Working on Material :  silver\n",
      "==> Working on Material :  aluminium_frames\n",
      "==> Working on Material :  copper\n",
      "==> Working on Material :  encapsulant\n",
      "==> Working on Material :  backsheet\n",
      "circ_high\n",
      ">>>> Calculating Material Flows <<<<\n",
      "\n",
      "Working on Scenario:  circ_high\n",
      "********************\n"
     ]
    },
    {
     "name": "stderr",
     "output_type": "stream",
     "text": [
      "C:\\Users\\hmirletz\\AppData\\Local\\Temp\\1\\ipykernel_3292\\3246415230.py:6: SettingWithCopyWarning: \n",
      "A value is trying to be set on a copy of a slice from a DataFrame\n",
      "\n",
      "See the caveats in the documentation: https://pandas.pydata.org/pandas-docs/stable/user_guide/indexing.html#returning-a-view-versus-a-copy\n",
      "  sim1.scenario[scen].dataIn_m['new_Installed_Capacity_[MW]'][row] += Under_Installment #overwrite new installed\n"
     ]
    },
    {
     "name": "stdout",
     "output_type": "stream",
     "text": [
      "Finished Area+Power Generation Calculations\n",
      "==> Working on Material :  glass\n",
      "Recycled surplus End of Sim for Mat  glass  Scenario  circ_high  =  2861674070.7769837  tonnes.\n",
      "==> Working on Material :  silicon\n",
      "Recycled surplus End of Sim for Mat  silicon  Scenario  circ_high  =  94597009.98456965  tonnes.\n",
      "==> Working on Material :  silver\n",
      "Recycled surplus End of Sim for Mat  silver  Scenario  circ_high  =  536392.9345323204  tonnes.\n",
      "==> Working on Material :  aluminium_frames\n",
      "Recycled surplus End of Sim for Mat  aluminium_frames  Scenario  circ_high  =  324419788.44858617  tonnes.\n",
      "==> Working on Material :  copper\n",
      "Recycled surplus End of Sim for Mat  copper  Scenario  circ_high  =  1956012.9955901532  tonnes.\n",
      "==> Working on Material :  encapsulant\n",
      "Recycled surplus End of Sim for Mat  encapsulant  Scenario  circ_high  =  190832786.47142273  tonnes.\n",
      "==> Working on Material :  backsheet\n",
      "Recycled surplus End of Sim for Mat  backsheet  Scenario  circ_high  =  80343862.46569243  tonnes.\n",
      "circ_mid\n",
      ">>>> Calculating Material Flows <<<<\n",
      "\n",
      "Working on Scenario:  circ_mid\n",
      "********************\n"
     ]
    },
    {
     "name": "stderr",
     "output_type": "stream",
     "text": [
      "C:\\Users\\hmirletz\\AppData\\Local\\Temp\\1\\ipykernel_3292\\3246415230.py:6: SettingWithCopyWarning: \n",
      "A value is trying to be set on a copy of a slice from a DataFrame\n",
      "\n",
      "See the caveats in the documentation: https://pandas.pydata.org/pandas-docs/stable/user_guide/indexing.html#returning-a-view-versus-a-copy\n",
      "  sim1.scenario[scen].dataIn_m['new_Installed_Capacity_[MW]'][row] += Under_Installment #overwrite new installed\n"
     ]
    },
    {
     "name": "stdout",
     "output_type": "stream",
     "text": [
      "Finished Area+Power Generation Calculations\n",
      "==> Working on Material :  glass\n",
      "Recycled surplus End of Sim for Mat  glass  Scenario  circ_mid  =  444318475.8219298  tonnes.\n",
      "==> Working on Material :  silicon\n",
      "Recycled surplus End of Sim for Mat  silicon  Scenario  circ_mid  =  14652490.219912374  tonnes.\n",
      "==> Working on Material :  silver\n",
      "Recycled surplus End of Sim for Mat  silver  Scenario  circ_mid  =  82422.21740156412  tonnes.\n",
      "==> Working on Material :  aluminium_frames\n",
      "Recycled surplus End of Sim for Mat  aluminium_frames  Scenario  circ_mid  =  50293261.48801029  tonnes.\n",
      "==> Working on Material :  copper\n",
      "Recycled surplus End of Sim for Mat  copper  Scenario  circ_mid  =  302310.1118974605  tonnes.\n",
      "==> Working on Material :  encapsulant\n",
      "Recycled surplus End of Sim for Mat  encapsulant  Scenario  circ_mid  =  29535270.335052714  tonnes.\n",
      "==> Working on Material :  backsheet\n",
      "Recycled surplus End of Sim for Mat  backsheet  Scenario  circ_mid  =  12401681.713473918  tonnes.\n",
      "circ_low\n",
      ">>>> Calculating Material Flows <<<<\n",
      "\n",
      "Working on Scenario:  circ_low\n",
      "********************\n"
     ]
    },
    {
     "name": "stderr",
     "output_type": "stream",
     "text": [
      "C:\\Users\\hmirletz\\AppData\\Local\\Temp\\1\\ipykernel_3292\\3246415230.py:6: SettingWithCopyWarning: \n",
      "A value is trying to be set on a copy of a slice from a DataFrame\n",
      "\n",
      "See the caveats in the documentation: https://pandas.pydata.org/pandas-docs/stable/user_guide/indexing.html#returning-a-view-versus-a-copy\n",
      "  sim1.scenario[scen].dataIn_m['new_Installed_Capacity_[MW]'][row] += Under_Installment #overwrite new installed\n"
     ]
    },
    {
     "name": "stdout",
     "output_type": "stream",
     "text": [
      "Finished Area+Power Generation Calculations\n",
      "==> Working on Material :  glass\n",
      "==> Working on Material :  silicon\n",
      "==> Working on Material :  silver\n",
      "==> Working on Material :  aluminium_frames\n",
      "==> Working on Material :  copper\n",
      "==> Working on Material :  encapsulant\n",
      "==> Working on Material :  backsheet\n",
      "43\n",
      "PV_ICE\n",
      ">>>> Calculating Material Flows <<<<\n",
      "\n",
      "Working on Scenario:  PV_ICE\n",
      "********************\n"
     ]
    },
    {
     "name": "stderr",
     "output_type": "stream",
     "text": [
      "C:\\Users\\hmirletz\\AppData\\Local\\Temp\\1\\ipykernel_3292\\3246415230.py:6: SettingWithCopyWarning: \n",
      "A value is trying to be set on a copy of a slice from a DataFrame\n",
      "\n",
      "See the caveats in the documentation: https://pandas.pydata.org/pandas-docs/stable/user_guide/indexing.html#returning-a-view-versus-a-copy\n",
      "  sim1.scenario[scen].dataIn_m['new_Installed_Capacity_[MW]'][row] += Under_Installment #overwrite new installed\n"
     ]
    },
    {
     "name": "stdout",
     "output_type": "stream",
     "text": [
      "Finished Area+Power Generation Calculations\n",
      "==> Working on Material :  glass\n",
      "==> Working on Material :  silicon\n",
      "==> Working on Material :  silver\n",
      "==> Working on Material :  aluminium_frames\n",
      "==> Working on Material :  copper\n",
      "==> Working on Material :  encapsulant\n",
      "==> Working on Material :  backsheet\n",
      "circ_high\n",
      ">>>> Calculating Material Flows <<<<\n",
      "\n",
      "Working on Scenario:  circ_high\n",
      "********************\n"
     ]
    },
    {
     "name": "stderr",
     "output_type": "stream",
     "text": [
      "C:\\Users\\hmirletz\\AppData\\Local\\Temp\\1\\ipykernel_3292\\3246415230.py:6: SettingWithCopyWarning: \n",
      "A value is trying to be set on a copy of a slice from a DataFrame\n",
      "\n",
      "See the caveats in the documentation: https://pandas.pydata.org/pandas-docs/stable/user_guide/indexing.html#returning-a-view-versus-a-copy\n",
      "  sim1.scenario[scen].dataIn_m['new_Installed_Capacity_[MW]'][row] += Under_Installment #overwrite new installed\n"
     ]
    },
    {
     "name": "stdout",
     "output_type": "stream",
     "text": [
      "Finished Area+Power Generation Calculations\n",
      "==> Working on Material :  glass\n",
      "Recycled surplus End of Sim for Mat  glass  Scenario  circ_high  =  2872313003.2230663  tonnes.\n",
      "==> Working on Material :  silicon\n",
      "Recycled surplus End of Sim for Mat  silicon  Scenario  circ_high  =  94946961.65335065  tonnes.\n",
      "==> Working on Material :  silver\n",
      "Recycled surplus End of Sim for Mat  silver  Scenario  circ_high  =  538343.4680064864  tonnes.\n",
      "==> Working on Material :  aluminium_frames\n",
      "Recycled surplus End of Sim for Mat  aluminium_frames  Scenario  circ_high  =  325621360.67721933  tonnes.\n",
      "==> Working on Material :  copper\n",
      "Recycled surplus End of Sim for Mat  copper  Scenario  circ_high  =  1963205.8946048683  tonnes.\n",
      "==> Working on Material :  encapsulant\n",
      "Recycled surplus End of Sim for Mat  encapsulant  Scenario  circ_high  =  191540246.15715513  tonnes.\n",
      "==> Working on Material :  backsheet\n",
      "Recycled surplus End of Sim for Mat  backsheet  Scenario  circ_high  =  80635691.17438301  tonnes.\n",
      "circ_mid\n",
      ">>>> Calculating Material Flows <<<<\n",
      "\n",
      "Working on Scenario:  circ_mid\n",
      "********************\n"
     ]
    },
    {
     "name": "stderr",
     "output_type": "stream",
     "text": [
      "C:\\Users\\hmirletz\\AppData\\Local\\Temp\\1\\ipykernel_3292\\3246415230.py:6: SettingWithCopyWarning: \n",
      "A value is trying to be set on a copy of a slice from a DataFrame\n",
      "\n",
      "See the caveats in the documentation: https://pandas.pydata.org/pandas-docs/stable/user_guide/indexing.html#returning-a-view-versus-a-copy\n",
      "  sim1.scenario[scen].dataIn_m['new_Installed_Capacity_[MW]'][row] += Under_Installment #overwrite new installed\n"
     ]
    },
    {
     "name": "stdout",
     "output_type": "stream",
     "text": [
      "Finished Area+Power Generation Calculations\n",
      "==> Working on Material :  glass\n",
      "Recycled surplus End of Sim for Mat  glass  Scenario  circ_mid  =  446978130.4426546  tonnes.\n",
      "==> Working on Material :  silicon\n",
      "Recycled surplus End of Sim for Mat  silicon  Scenario  circ_mid  =  14739975.555271039  tonnes.\n",
      "==> Working on Material :  silver\n",
      "Recycled surplus End of Sim for Mat  silver  Scenario  circ_mid  =  82909.83629213934  tonnes.\n",
      "==> Working on Material :  aluminium_frames\n",
      "Recycled surplus End of Sim for Mat  aluminium_frames  Scenario  circ_mid  =  50593645.68033545  tonnes.\n",
      "==> Working on Material :  copper\n",
      "Recycled surplus End of Sim for Mat  copper  Scenario  circ_mid  =  304108.28336898726  tonnes.\n",
      "==> Working on Material :  encapsulant\n",
      "Recycled surplus End of Sim for Mat  encapsulant  Scenario  circ_mid  =  29712130.037064202  tonnes.\n",
      "==> Working on Material :  backsheet\n",
      "Recycled surplus End of Sim for Mat  backsheet  Scenario  circ_mid  =  12474636.725832444  tonnes.\n",
      "circ_low\n",
      ">>>> Calculating Material Flows <<<<\n",
      "\n",
      "Working on Scenario:  circ_low\n",
      "********************\n"
     ]
    },
    {
     "name": "stderr",
     "output_type": "stream",
     "text": [
      "C:\\Users\\hmirletz\\AppData\\Local\\Temp\\1\\ipykernel_3292\\3246415230.py:6: SettingWithCopyWarning: \n",
      "A value is trying to be set on a copy of a slice from a DataFrame\n",
      "\n",
      "See the caveats in the documentation: https://pandas.pydata.org/pandas-docs/stable/user_guide/indexing.html#returning-a-view-versus-a-copy\n",
      "  sim1.scenario[scen].dataIn_m['new_Installed_Capacity_[MW]'][row] += Under_Installment #overwrite new installed\n"
     ]
    },
    {
     "name": "stdout",
     "output_type": "stream",
     "text": [
      "Finished Area+Power Generation Calculations\n",
      "==> Working on Material :  glass\n",
      "==> Working on Material :  silicon\n",
      "==> Working on Material :  silver\n",
      "==> Working on Material :  aluminium_frames\n",
      "==> Working on Material :  copper\n",
      "==> Working on Material :  encapsulant\n",
      "==> Working on Material :  backsheet\n",
      "44\n",
      "PV_ICE\n",
      ">>>> Calculating Material Flows <<<<\n",
      "\n",
      "Working on Scenario:  PV_ICE\n",
      "********************\n"
     ]
    },
    {
     "name": "stderr",
     "output_type": "stream",
     "text": [
      "C:\\Users\\hmirletz\\AppData\\Local\\Temp\\1\\ipykernel_3292\\3246415230.py:6: SettingWithCopyWarning: \n",
      "A value is trying to be set on a copy of a slice from a DataFrame\n",
      "\n",
      "See the caveats in the documentation: https://pandas.pydata.org/pandas-docs/stable/user_guide/indexing.html#returning-a-view-versus-a-copy\n",
      "  sim1.scenario[scen].dataIn_m['new_Installed_Capacity_[MW]'][row] += Under_Installment #overwrite new installed\n"
     ]
    },
    {
     "name": "stdout",
     "output_type": "stream",
     "text": [
      "Finished Area+Power Generation Calculations\n",
      "==> Working on Material :  glass\n",
      "==> Working on Material :  silicon\n",
      "==> Working on Material :  silver\n",
      "==> Working on Material :  aluminium_frames\n",
      "==> Working on Material :  copper\n",
      "==> Working on Material :  encapsulant\n",
      "==> Working on Material :  backsheet\n",
      "circ_high\n",
      ">>>> Calculating Material Flows <<<<\n",
      "\n",
      "Working on Scenario:  circ_high\n",
      "********************\n"
     ]
    },
    {
     "name": "stderr",
     "output_type": "stream",
     "text": [
      "C:\\Users\\hmirletz\\AppData\\Local\\Temp\\1\\ipykernel_3292\\3246415230.py:6: SettingWithCopyWarning: \n",
      "A value is trying to be set on a copy of a slice from a DataFrame\n",
      "\n",
      "See the caveats in the documentation: https://pandas.pydata.org/pandas-docs/stable/user_guide/indexing.html#returning-a-view-versus-a-copy\n",
      "  sim1.scenario[scen].dataIn_m['new_Installed_Capacity_[MW]'][row] += Under_Installment #overwrite new installed\n"
     ]
    },
    {
     "name": "stdout",
     "output_type": "stream",
     "text": [
      "Finished Area+Power Generation Calculations\n",
      "==> Working on Material :  glass\n",
      "Recycled surplus End of Sim for Mat  glass  Scenario  circ_high  =  2884196069.6063523  tonnes.\n",
      "==> Working on Material :  silicon\n",
      "Recycled surplus End of Sim for Mat  silicon  Scenario  circ_high  =  95337837.2352891  tonnes.\n",
      "==> Working on Material :  silver\n",
      "Recycled surplus End of Sim for Mat  silver  Scenario  circ_high  =  540522.0997540507  tonnes.\n",
      "==> Working on Material :  aluminium_frames\n",
      "Recycled surplus End of Sim for Mat  aluminium_frames  Scenario  circ_high  =  326963446.70225245  tonnes.\n",
      "==> Working on Material :  copper\n",
      "Recycled surplus End of Sim for Mat  copper  Scenario  circ_high  =  1971239.942219598  tonnes.\n",
      "==> Working on Material :  encapsulant\n",
      "Recycled surplus End of Sim for Mat  encapsulant  Scenario  circ_high  =  192330437.3207574  tonnes.\n",
      "==> Working on Material :  backsheet\n",
      "Recycled surplus End of Sim for Mat  backsheet  Scenario  circ_high  =  80961646.76876783  tonnes.\n",
      "circ_mid\n",
      ">>>> Calculating Material Flows <<<<\n",
      "\n",
      "Working on Scenario:  circ_mid\n",
      "********************\n"
     ]
    },
    {
     "name": "stderr",
     "output_type": "stream",
     "text": [
      "C:\\Users\\hmirletz\\AppData\\Local\\Temp\\1\\ipykernel_3292\\3246415230.py:6: SettingWithCopyWarning: \n",
      "A value is trying to be set on a copy of a slice from a DataFrame\n",
      "\n",
      "See the caveats in the documentation: https://pandas.pydata.org/pandas-docs/stable/user_guide/indexing.html#returning-a-view-versus-a-copy\n",
      "  sim1.scenario[scen].dataIn_m['new_Installed_Capacity_[MW]'][row] += Under_Installment #overwrite new installed\n"
     ]
    },
    {
     "name": "stdout",
     "output_type": "stream",
     "text": [
      "Finished Area+Power Generation Calculations\n",
      "==> Working on Material :  glass\n",
      "Recycled surplus End of Sim for Mat  glass  Scenario  circ_mid  =  449948854.2823944  tonnes.\n",
      "==> Working on Material :  silicon\n",
      "Recycled surplus End of Sim for Mat  silicon  Scenario  circ_mid  =  14837693.044358693  tonnes.\n",
      "==> Working on Material :  silver\n",
      "Recycled surplus End of Sim for Mat  silver  Scenario  circ_mid  =  83454.48635747175  tonnes.\n",
      "==> Working on Material :  aluminium_frames\n",
      "Recycled surplus End of Sim for Mat  aluminium_frames  Scenario  circ_mid  =  50929162.35767685  tonnes.\n",
      "==> Working on Material :  copper\n",
      "Recycled surplus End of Sim for Mat  copper  Scenario  circ_mid  =  306116.7662813096  tonnes.\n",
      "==> Working on Material :  encapsulant\n",
      "Recycled surplus End of Sim for Mat  encapsulant  Scenario  circ_mid  =  29909674.984803174  tonnes.\n",
      "==> Working on Material :  backsheet\n",
      "Recycled surplus End of Sim for Mat  backsheet  Scenario  circ_mid  =  12556124.447115185  tonnes.\n",
      "circ_low\n",
      ">>>> Calculating Material Flows <<<<\n",
      "\n",
      "Working on Scenario:  circ_low\n",
      "********************\n"
     ]
    },
    {
     "name": "stderr",
     "output_type": "stream",
     "text": [
      "C:\\Users\\hmirletz\\AppData\\Local\\Temp\\1\\ipykernel_3292\\3246415230.py:6: SettingWithCopyWarning: \n",
      "A value is trying to be set on a copy of a slice from a DataFrame\n",
      "\n",
      "See the caveats in the documentation: https://pandas.pydata.org/pandas-docs/stable/user_guide/indexing.html#returning-a-view-versus-a-copy\n",
      "  sim1.scenario[scen].dataIn_m['new_Installed_Capacity_[MW]'][row] += Under_Installment #overwrite new installed\n"
     ]
    },
    {
     "name": "stdout",
     "output_type": "stream",
     "text": [
      "Finished Area+Power Generation Calculations\n",
      "==> Working on Material :  glass\n",
      "==> Working on Material :  silicon\n",
      "==> Working on Material :  silver\n",
      "==> Working on Material :  aluminium_frames\n",
      "==> Working on Material :  copper\n",
      "==> Working on Material :  encapsulant\n",
      "==> Working on Material :  backsheet\n",
      "45\n",
      "PV_ICE\n",
      ">>>> Calculating Material Flows <<<<\n",
      "\n",
      "Working on Scenario:  PV_ICE\n",
      "********************\n"
     ]
    },
    {
     "name": "stderr",
     "output_type": "stream",
     "text": [
      "C:\\Users\\hmirletz\\AppData\\Local\\Temp\\1\\ipykernel_3292\\3246415230.py:6: SettingWithCopyWarning: \n",
      "A value is trying to be set on a copy of a slice from a DataFrame\n",
      "\n",
      "See the caveats in the documentation: https://pandas.pydata.org/pandas-docs/stable/user_guide/indexing.html#returning-a-view-versus-a-copy\n",
      "  sim1.scenario[scen].dataIn_m['new_Installed_Capacity_[MW]'][row] += Under_Installment #overwrite new installed\n"
     ]
    },
    {
     "name": "stdout",
     "output_type": "stream",
     "text": [
      "Finished Area+Power Generation Calculations\n",
      "==> Working on Material :  glass\n",
      "==> Working on Material :  silicon\n",
      "==> Working on Material :  silver\n",
      "==> Working on Material :  aluminium_frames\n",
      "==> Working on Material :  copper\n",
      "==> Working on Material :  encapsulant\n",
      "==> Working on Material :  backsheet\n",
      "circ_high\n",
      ">>>> Calculating Material Flows <<<<\n",
      "\n",
      "Working on Scenario:  circ_high\n",
      "********************\n"
     ]
    },
    {
     "name": "stderr",
     "output_type": "stream",
     "text": [
      "C:\\Users\\hmirletz\\AppData\\Local\\Temp\\1\\ipykernel_3292\\3246415230.py:6: SettingWithCopyWarning: \n",
      "A value is trying to be set on a copy of a slice from a DataFrame\n",
      "\n",
      "See the caveats in the documentation: https://pandas.pydata.org/pandas-docs/stable/user_guide/indexing.html#returning-a-view-versus-a-copy\n",
      "  sim1.scenario[scen].dataIn_m['new_Installed_Capacity_[MW]'][row] += Under_Installment #overwrite new installed\n"
     ]
    },
    {
     "name": "stdout",
     "output_type": "stream",
     "text": [
      "Finished Area+Power Generation Calculations\n",
      "==> Working on Material :  glass\n",
      "Recycled surplus End of Sim for Mat  glass  Scenario  circ_high  =  2895657711.0240116  tonnes.\n",
      "==> Working on Material :  silicon\n",
      "Recycled surplus End of Sim for Mat  silicon  Scenario  circ_high  =  95714850.67732444  tonnes.\n",
      "==> Working on Material :  silver\n",
      "Recycled surplus End of Sim for Mat  silver  Scenario  circ_high  =  542623.4677022506  tonnes.\n",
      "==> Working on Material :  aluminium_frames\n",
      "Recycled surplus End of Sim for Mat  aluminium_frames  Scenario  circ_high  =  328257936.54809034  tonnes.\n",
      "==> Working on Material :  copper\n",
      "Recycled surplus End of Sim for Mat  copper  Scenario  circ_high  =  1978989.0675110093  tonnes.\n",
      "==> Working on Material :  encapsulant\n",
      "Recycled surplus End of Sim for Mat  encapsulant  Scenario  circ_high  =  193092604.88563365  tonnes.\n",
      "==> Working on Material :  backsheet\n",
      "Recycled surplus End of Sim for Mat  backsheet  Scenario  circ_high  =  81276042.55495977  tonnes.\n",
      "circ_mid\n",
      ">>>> Calculating Material Flows <<<<\n",
      "\n",
      "Working on Scenario:  circ_mid\n",
      "********************\n"
     ]
    },
    {
     "name": "stderr",
     "output_type": "stream",
     "text": [
      "C:\\Users\\hmirletz\\AppData\\Local\\Temp\\1\\ipykernel_3292\\3246415230.py:6: SettingWithCopyWarning: \n",
      "A value is trying to be set on a copy of a slice from a DataFrame\n",
      "\n",
      "See the caveats in the documentation: https://pandas.pydata.org/pandas-docs/stable/user_guide/indexing.html#returning-a-view-versus-a-copy\n",
      "  sim1.scenario[scen].dataIn_m['new_Installed_Capacity_[MW]'][row] += Under_Installment #overwrite new installed\n"
     ]
    },
    {
     "name": "stdout",
     "output_type": "stream",
     "text": [
      "Finished Area+Power Generation Calculations\n",
      "==> Working on Material :  glass\n",
      "Recycled surplus End of Sim for Mat  glass  Scenario  circ_mid  =  452814245.39196205  tonnes.\n",
      "==> Working on Material :  silicon\n",
      "Recycled surplus End of Sim for Mat  silicon  Scenario  circ_mid  =  14931945.771837248  tonnes.\n",
      "==> Working on Material :  silver\n",
      "Recycled surplus End of Sim for Mat  silver  Scenario  circ_mid  =  83979.82480669142  tonnes.\n",
      "==> Working on Material :  aluminium_frames\n",
      "Recycled surplus End of Sim for Mat  aluminium_frames  Scenario  circ_mid  =  51252782.64560302  tonnes.\n",
      "==> Working on Material :  copper\n",
      "Recycled surplus End of Sim for Mat  copper  Scenario  circ_mid  =  308054.0345671395  tonnes.\n",
      "==> Working on Material :  encapsulant\n",
      "Recycled surplus End of Sim for Mat  encapsulant  Scenario  circ_mid  =  30100215.596292946  tonnes.\n",
      "==> Working on Material :  backsheet\n",
      "Recycled surplus End of Sim for Mat  backsheet  Scenario  circ_mid  =  12634722.864436585  tonnes.\n",
      "circ_low\n",
      ">>>> Calculating Material Flows <<<<\n",
      "\n",
      "Working on Scenario:  circ_low\n",
      "********************\n"
     ]
    },
    {
     "name": "stderr",
     "output_type": "stream",
     "text": [
      "C:\\Users\\hmirletz\\AppData\\Local\\Temp\\1\\ipykernel_3292\\3246415230.py:6: SettingWithCopyWarning: \n",
      "A value is trying to be set on a copy of a slice from a DataFrame\n",
      "\n",
      "See the caveats in the documentation: https://pandas.pydata.org/pandas-docs/stable/user_guide/indexing.html#returning-a-view-versus-a-copy\n",
      "  sim1.scenario[scen].dataIn_m['new_Installed_Capacity_[MW]'][row] += Under_Installment #overwrite new installed\n"
     ]
    },
    {
     "name": "stdout",
     "output_type": "stream",
     "text": [
      "Finished Area+Power Generation Calculations\n",
      "==> Working on Material :  glass\n",
      "==> Working on Material :  silicon\n",
      "==> Working on Material :  silver\n",
      "==> Working on Material :  aluminium_frames\n",
      "==> Working on Material :  copper\n",
      "==> Working on Material :  encapsulant\n",
      "==> Working on Material :  backsheet\n",
      "46\n",
      "PV_ICE\n",
      ">>>> Calculating Material Flows <<<<\n",
      "\n",
      "Working on Scenario:  PV_ICE\n",
      "********************\n"
     ]
    },
    {
     "name": "stderr",
     "output_type": "stream",
     "text": [
      "C:\\Users\\hmirletz\\AppData\\Local\\Temp\\1\\ipykernel_3292\\3246415230.py:6: SettingWithCopyWarning: \n",
      "A value is trying to be set on a copy of a slice from a DataFrame\n",
      "\n",
      "See the caveats in the documentation: https://pandas.pydata.org/pandas-docs/stable/user_guide/indexing.html#returning-a-view-versus-a-copy\n",
      "  sim1.scenario[scen].dataIn_m['new_Installed_Capacity_[MW]'][row] += Under_Installment #overwrite new installed\n"
     ]
    },
    {
     "name": "stdout",
     "output_type": "stream",
     "text": [
      "Finished Area+Power Generation Calculations\n",
      "==> Working on Material :  glass\n",
      "==> Working on Material :  silicon\n",
      "==> Working on Material :  silver\n",
      "==> Working on Material :  aluminium_frames\n",
      "==> Working on Material :  copper\n",
      "==> Working on Material :  encapsulant\n",
      "==> Working on Material :  backsheet\n",
      "circ_high\n",
      ">>>> Calculating Material Flows <<<<\n",
      "\n",
      "Working on Scenario:  circ_high\n",
      "********************\n"
     ]
    },
    {
     "name": "stderr",
     "output_type": "stream",
     "text": [
      "C:\\Users\\hmirletz\\AppData\\Local\\Temp\\1\\ipykernel_3292\\3246415230.py:6: SettingWithCopyWarning: \n",
      "A value is trying to be set on a copy of a slice from a DataFrame\n",
      "\n",
      "See the caveats in the documentation: https://pandas.pydata.org/pandas-docs/stable/user_guide/indexing.html#returning-a-view-versus-a-copy\n",
      "  sim1.scenario[scen].dataIn_m['new_Installed_Capacity_[MW]'][row] += Under_Installment #overwrite new installed\n"
     ]
    },
    {
     "name": "stdout",
     "output_type": "stream",
     "text": [
      "Finished Area+Power Generation Calculations\n",
      "==> Working on Material :  glass\n",
      "Recycled surplus End of Sim for Mat  glass  Scenario  circ_high  =  2909514269.5710473  tonnes.\n",
      "==> Working on Material :  silicon\n",
      "Recycled surplus End of Sim for Mat  silicon  Scenario  circ_high  =  96170641.31343117  tonnes.\n",
      "==> Working on Material :  silver\n",
      "Recycled surplus End of Sim for Mat  silver  Scenario  circ_high  =  545163.9177613085  tonnes.\n",
      "==> Working on Material :  aluminium_frames\n",
      "Recycled surplus End of Sim for Mat  aluminium_frames  Scenario  circ_high  =  329822910.85532695  tonnes.\n",
      "==> Working on Material :  copper\n",
      "Recycled surplus End of Sim for Mat  copper  Scenario  circ_high  =  1988357.3772798944  tonnes.\n",
      "==> Working on Material :  encapsulant\n",
      "Recycled surplus End of Sim for Mat  encapsulant  Scenario  circ_high  =  194014027.83898902  tonnes.\n",
      "==> Working on Material :  backsheet\n",
      "Recycled surplus End of Sim for Mat  backsheet  Scenario  circ_high  =  81656131.53223194  tonnes.\n",
      "circ_mid\n",
      ">>>> Calculating Material Flows <<<<\n",
      "\n",
      "Working on Scenario:  circ_mid\n",
      "********************\n"
     ]
    },
    {
     "name": "stderr",
     "output_type": "stream",
     "text": [
      "C:\\Users\\hmirletz\\AppData\\Local\\Temp\\1\\ipykernel_3292\\3246415230.py:6: SettingWithCopyWarning: \n",
      "A value is trying to be set on a copy of a slice from a DataFrame\n",
      "\n",
      "See the caveats in the documentation: https://pandas.pydata.org/pandas-docs/stable/user_guide/indexing.html#returning-a-view-versus-a-copy\n",
      "  sim1.scenario[scen].dataIn_m['new_Installed_Capacity_[MW]'][row] += Under_Installment #overwrite new installed\n"
     ]
    },
    {
     "name": "stdout",
     "output_type": "stream",
     "text": [
      "Finished Area+Power Generation Calculations\n",
      "==> Working on Material :  glass\n",
      "Recycled surplus End of Sim for Mat  glass  Scenario  circ_mid  =  456278374.69781613  tonnes.\n",
      "==> Working on Material :  silicon\n",
      "Recycled surplus End of Sim for Mat  silicon  Scenario  circ_mid  =  15045893.091044376  tonnes.\n",
      "==> Working on Material :  silver\n",
      "Recycled surplus End of Sim for Mat  silver  Scenario  circ_mid  =  84614.93542435103  tonnes.\n",
      "==> Working on Material :  aluminium_frames\n",
      "Recycled surplus End of Sim for Mat  aluminium_frames  Scenario  circ_mid  =  51644025.05562895  tonnes.\n",
      "==> Working on Material :  copper\n",
      "Recycled surplus End of Sim for Mat  copper  Scenario  circ_mid  =  310396.1050160348  tonnes.\n",
      "==> Working on Material :  encapsulant\n",
      "Recycled surplus End of Sim for Mat  encapsulant  Scenario  circ_mid  =  30330570.647655096  tonnes.\n",
      "==> Working on Material :  backsheet\n",
      "Recycled surplus End of Sim for Mat  backsheet  Scenario  circ_mid  =  12729744.824938832  tonnes.\n",
      "circ_low\n",
      ">>>> Calculating Material Flows <<<<\n",
      "\n",
      "Working on Scenario:  circ_low\n",
      "********************\n"
     ]
    },
    {
     "name": "stderr",
     "output_type": "stream",
     "text": [
      "C:\\Users\\hmirletz\\AppData\\Local\\Temp\\1\\ipykernel_3292\\3246415230.py:6: SettingWithCopyWarning: \n",
      "A value is trying to be set on a copy of a slice from a DataFrame\n",
      "\n",
      "See the caveats in the documentation: https://pandas.pydata.org/pandas-docs/stable/user_guide/indexing.html#returning-a-view-versus-a-copy\n",
      "  sim1.scenario[scen].dataIn_m['new_Installed_Capacity_[MW]'][row] += Under_Installment #overwrite new installed\n"
     ]
    },
    {
     "name": "stdout",
     "output_type": "stream",
     "text": [
      "Finished Area+Power Generation Calculations\n",
      "==> Working on Material :  glass\n",
      "==> Working on Material :  silicon\n",
      "==> Working on Material :  silver\n",
      "==> Working on Material :  aluminium_frames\n",
      "==> Working on Material :  copper\n",
      "==> Working on Material :  encapsulant\n",
      "==> Working on Material :  backsheet\n",
      "47\n",
      "PV_ICE\n",
      ">>>> Calculating Material Flows <<<<\n",
      "\n",
      "Working on Scenario:  PV_ICE\n",
      "********************\n"
     ]
    },
    {
     "name": "stderr",
     "output_type": "stream",
     "text": [
      "C:\\Users\\hmirletz\\AppData\\Local\\Temp\\1\\ipykernel_3292\\3246415230.py:6: SettingWithCopyWarning: \n",
      "A value is trying to be set on a copy of a slice from a DataFrame\n",
      "\n",
      "See the caveats in the documentation: https://pandas.pydata.org/pandas-docs/stable/user_guide/indexing.html#returning-a-view-versus-a-copy\n",
      "  sim1.scenario[scen].dataIn_m['new_Installed_Capacity_[MW]'][row] += Under_Installment #overwrite new installed\n"
     ]
    },
    {
     "name": "stdout",
     "output_type": "stream",
     "text": [
      "Finished Area+Power Generation Calculations\n",
      "==> Working on Material :  glass\n",
      "==> Working on Material :  silicon\n",
      "==> Working on Material :  silver\n",
      "==> Working on Material :  aluminium_frames\n",
      "==> Working on Material :  copper\n",
      "==> Working on Material :  encapsulant\n",
      "==> Working on Material :  backsheet\n",
      "circ_high\n",
      ">>>> Calculating Material Flows <<<<\n",
      "\n",
      "Working on Scenario:  circ_high\n",
      "********************\n"
     ]
    },
    {
     "name": "stderr",
     "output_type": "stream",
     "text": [
      "C:\\Users\\hmirletz\\AppData\\Local\\Temp\\1\\ipykernel_3292\\3246415230.py:6: SettingWithCopyWarning: \n",
      "A value is trying to be set on a copy of a slice from a DataFrame\n",
      "\n",
      "See the caveats in the documentation: https://pandas.pydata.org/pandas-docs/stable/user_guide/indexing.html#returning-a-view-versus-a-copy\n",
      "  sim1.scenario[scen].dataIn_m['new_Installed_Capacity_[MW]'][row] += Under_Installment #overwrite new installed\n"
     ]
    },
    {
     "name": "stdout",
     "output_type": "stream",
     "text": [
      "Finished Area+Power Generation Calculations\n",
      "==> Working on Material :  glass\n",
      "Recycled surplus End of Sim for Mat  glass  Scenario  circ_high  =  2922924819.8279414  tonnes.\n",
      "==> Working on Material :  silicon\n",
      "Recycled surplus End of Sim for Mat  silicon  Scenario  circ_high  =  96611761.17817841  tonnes.\n",
      "==> Working on Material :  silver\n",
      "Recycled surplus End of Sim for Mat  silver  Scenario  circ_high  =  547622.5970177903  tonnes.\n",
      "==> Working on Material :  aluminium_frames\n",
      "Recycled surplus End of Sim for Mat  aluminium_frames  Scenario  circ_high  =  331337512.51682204  tonnes.\n",
      "==> Working on Material :  copper\n",
      "Recycled surplus End of Sim for Mat  copper  Scenario  circ_high  =  1997424.1443416267  tonnes.\n",
      "==> Working on Material :  encapsulant\n",
      "Recycled surplus End of Sim for Mat  encapsulant  Scenario  circ_high  =  194905792.47029212  tonnes.\n",
      "==> Working on Material :  backsheet\n",
      "Recycled surplus End of Sim for Mat  backsheet  Scenario  circ_high  =  82023986.38569231  tonnes.\n",
      "circ_mid\n",
      ">>>> Calculating Material Flows <<<<\n",
      "\n",
      "Working on Scenario:  circ_mid\n",
      "********************\n"
     ]
    },
    {
     "name": "stderr",
     "output_type": "stream",
     "text": [
      "C:\\Users\\hmirletz\\AppData\\Local\\Temp\\1\\ipykernel_3292\\3246415230.py:6: SettingWithCopyWarning: \n",
      "A value is trying to be set on a copy of a slice from a DataFrame\n",
      "\n",
      "See the caveats in the documentation: https://pandas.pydata.org/pandas-docs/stable/user_guide/indexing.html#returning-a-view-versus-a-copy\n",
      "  sim1.scenario[scen].dataIn_m['new_Installed_Capacity_[MW]'][row] += Under_Installment #overwrite new installed\n"
     ]
    },
    {
     "name": "stdout",
     "output_type": "stream",
     "text": [
      "Finished Area+Power Generation Calculations\n",
      "==> Working on Material :  glass\n",
      "Recycled surplus End of Sim for Mat  glass  Scenario  circ_mid  =  459631008.0661129  tonnes.\n",
      "==> Working on Material :  silicon\n",
      "Recycled surplus End of Sim for Mat  silicon  Scenario  circ_mid  =  15156172.919212492  tonnes.\n",
      "==> Working on Material :  silver\n",
      "Recycled surplus End of Sim for Mat  silver  Scenario  circ_mid  =  85229.6044685252  tonnes.\n",
      "==> Working on Material :  aluminium_frames\n",
      "Recycled surplus End of Sim for Mat  aluminium_frames  Scenario  circ_mid  =  52022674.99711031  tonnes.\n",
      "==> Working on Material :  copper\n",
      "Recycled surplus End of Sim for Mat  copper  Scenario  circ_mid  =  312662.7939426282  tonnes.\n",
      "==> Working on Material :  encapsulant\n",
      "Recycled surplus End of Sim for Mat  encapsulant  Scenario  circ_mid  =  30553511.526463307  tonnes.\n",
      "==> Working on Material :  backsheet\n",
      "Recycled surplus End of Sim for Mat  backsheet  Scenario  circ_mid  =  12821708.423111225  tonnes.\n",
      "circ_low\n",
      ">>>> Calculating Material Flows <<<<\n",
      "\n",
      "Working on Scenario:  circ_low\n",
      "********************\n"
     ]
    },
    {
     "name": "stderr",
     "output_type": "stream",
     "text": [
      "C:\\Users\\hmirletz\\AppData\\Local\\Temp\\1\\ipykernel_3292\\3246415230.py:6: SettingWithCopyWarning: \n",
      "A value is trying to be set on a copy of a slice from a DataFrame\n",
      "\n",
      "See the caveats in the documentation: https://pandas.pydata.org/pandas-docs/stable/user_guide/indexing.html#returning-a-view-versus-a-copy\n",
      "  sim1.scenario[scen].dataIn_m['new_Installed_Capacity_[MW]'][row] += Under_Installment #overwrite new installed\n"
     ]
    },
    {
     "name": "stdout",
     "output_type": "stream",
     "text": [
      "Finished Area+Power Generation Calculations\n",
      "==> Working on Material :  glass\n",
      "==> Working on Material :  silicon\n",
      "==> Working on Material :  silver\n",
      "==> Working on Material :  aluminium_frames\n",
      "==> Working on Material :  copper\n",
      "==> Working on Material :  encapsulant\n",
      "==> Working on Material :  backsheet\n",
      "48\n",
      "PV_ICE\n",
      ">>>> Calculating Material Flows <<<<\n",
      "\n",
      "Working on Scenario:  PV_ICE\n",
      "********************\n"
     ]
    },
    {
     "name": "stderr",
     "output_type": "stream",
     "text": [
      "C:\\Users\\hmirletz\\AppData\\Local\\Temp\\1\\ipykernel_3292\\3246415230.py:6: SettingWithCopyWarning: \n",
      "A value is trying to be set on a copy of a slice from a DataFrame\n",
      "\n",
      "See the caveats in the documentation: https://pandas.pydata.org/pandas-docs/stable/user_guide/indexing.html#returning-a-view-versus-a-copy\n",
      "  sim1.scenario[scen].dataIn_m['new_Installed_Capacity_[MW]'][row] += Under_Installment #overwrite new installed\n"
     ]
    },
    {
     "name": "stdout",
     "output_type": "stream",
     "text": [
      "Finished Area+Power Generation Calculations\n",
      "==> Working on Material :  glass\n",
      "==> Working on Material :  silicon\n",
      "==> Working on Material :  silver\n",
      "==> Working on Material :  aluminium_frames\n",
      "==> Working on Material :  copper\n",
      "==> Working on Material :  encapsulant\n",
      "==> Working on Material :  backsheet\n",
      "circ_high\n",
      ">>>> Calculating Material Flows <<<<\n",
      "\n",
      "Working on Scenario:  circ_high\n",
      "********************\n"
     ]
    },
    {
     "name": "stderr",
     "output_type": "stream",
     "text": [
      "C:\\Users\\hmirletz\\AppData\\Local\\Temp\\1\\ipykernel_3292\\3246415230.py:6: SettingWithCopyWarning: \n",
      "A value is trying to be set on a copy of a slice from a DataFrame\n",
      "\n",
      "See the caveats in the documentation: https://pandas.pydata.org/pandas-docs/stable/user_guide/indexing.html#returning-a-view-versus-a-copy\n",
      "  sim1.scenario[scen].dataIn_m['new_Installed_Capacity_[MW]'][row] += Under_Installment #overwrite new installed\n"
     ]
    },
    {
     "name": "stdout",
     "output_type": "stream",
     "text": [
      "Finished Area+Power Generation Calculations\n",
      "==> Working on Material :  glass\n",
      "Recycled surplus End of Sim for Mat  glass  Scenario  circ_high  =  2938565694.2934284  tonnes.\n",
      "==> Working on Material :  silicon\n",
      "Recycled surplus End of Sim for Mat  silicon  Scenario  circ_high  =  97126244.20061798  tonnes.\n",
      "==> Working on Material :  silver\n",
      "Recycled surplus End of Sim for Mat  silver  Scenario  circ_high  =  550490.1820781209  tonnes.\n",
      "==> Working on Material :  aluminium_frames\n",
      "Recycled surplus End of Sim for Mat  aluminium_frames  Scenario  circ_high  =  333104009.34199774  tonnes.\n",
      "==> Working on Material :  copper\n",
      "Recycled surplus End of Sim for Mat  copper  Scenario  circ_high  =  2007998.8159697722  tonnes.\n",
      "==> Working on Material :  encapsulant\n",
      "Recycled surplus End of Sim for Mat  encapsulant  Scenario  circ_high  =  195945867.5144763  tonnes.\n",
      "==> Working on Material :  backsheet\n",
      "Recycled surplus End of Sim for Mat  backsheet  Scenario  circ_high  =  82453019.60724808  tonnes.\n",
      "circ_mid\n",
      ">>>> Calculating Material Flows <<<<\n",
      "\n",
      "Working on Scenario:  circ_mid\n",
      "********************\n"
     ]
    },
    {
     "name": "stderr",
     "output_type": "stream",
     "text": [
      "C:\\Users\\hmirletz\\AppData\\Local\\Temp\\1\\ipykernel_3292\\3246415230.py:6: SettingWithCopyWarning: \n",
      "A value is trying to be set on a copy of a slice from a DataFrame\n",
      "\n",
      "See the caveats in the documentation: https://pandas.pydata.org/pandas-docs/stable/user_guide/indexing.html#returning-a-view-versus-a-copy\n",
      "  sim1.scenario[scen].dataIn_m['new_Installed_Capacity_[MW]'][row] += Under_Installment #overwrite new installed\n"
     ]
    },
    {
     "name": "stdout",
     "output_type": "stream",
     "text": [
      "Finished Area+Power Generation Calculations\n",
      "==> Working on Material :  glass\n",
      "Recycled surplus End of Sim for Mat  glass  Scenario  circ_mid  =  463541224.75745726  tonnes.\n",
      "==> Working on Material :  silicon\n",
      "Recycled surplus End of Sim for Mat  silicon  Scenario  circ_mid  =  15284793.611501517  tonnes.\n",
      "==> Working on Material :  silver\n",
      "Recycled surplus End of Sim for Mat  silver  Scenario  circ_mid  =  85946.50038052992  tonnes.\n",
      "==> Working on Material :  aluminium_frames\n",
      "Recycled surplus End of Sim for Mat  aluminium_frames  Scenario  circ_mid  =  52464298.98598963  tonnes.\n",
      "==> Working on Material :  copper\n",
      "Recycled surplus End of Sim for Mat  copper  Scenario  circ_mid  =  315306.4605477107  tonnes.\n",
      "==> Working on Material :  encapsulant\n",
      "Recycled surplus End of Sim for Mat  encapsulant  Scenario  circ_mid  =  30813530.159500353  tonnes.\n",
      "==> Working on Material :  backsheet\n",
      "Recycled surplus End of Sim for Mat  backsheet  Scenario  circ_mid  =  12928966.675674787  tonnes.\n",
      "circ_low\n",
      ">>>> Calculating Material Flows <<<<\n",
      "\n",
      "Working on Scenario:  circ_low\n",
      "********************\n"
     ]
    },
    {
     "name": "stderr",
     "output_type": "stream",
     "text": [
      "C:\\Users\\hmirletz\\AppData\\Local\\Temp\\1\\ipykernel_3292\\3246415230.py:6: SettingWithCopyWarning: \n",
      "A value is trying to be set on a copy of a slice from a DataFrame\n",
      "\n",
      "See the caveats in the documentation: https://pandas.pydata.org/pandas-docs/stable/user_guide/indexing.html#returning-a-view-versus-a-copy\n",
      "  sim1.scenario[scen].dataIn_m['new_Installed_Capacity_[MW]'][row] += Under_Installment #overwrite new installed\n"
     ]
    },
    {
     "name": "stdout",
     "output_type": "stream",
     "text": [
      "Finished Area+Power Generation Calculations\n",
      "==> Working on Material :  glass\n",
      "==> Working on Material :  silicon\n",
      "==> Working on Material :  silver\n",
      "==> Working on Material :  aluminium_frames\n",
      "==> Working on Material :  copper\n",
      "==> Working on Material :  encapsulant\n",
      "==> Working on Material :  backsheet\n",
      "49\n",
      "PV_ICE\n"
     ]
    },
    {
     "name": "stderr",
     "output_type": "stream",
     "text": [
      "C:\\Users\\hmirletz\\AppData\\Local\\Temp\\1\\ipykernel_3292\\3246415230.py:6: SettingWithCopyWarning: \n",
      "A value is trying to be set on a copy of a slice from a DataFrame\n",
      "\n",
      "See the caveats in the documentation: https://pandas.pydata.org/pandas-docs/stable/user_guide/indexing.html#returning-a-view-versus-a-copy\n",
      "  sim1.scenario[scen].dataIn_m['new_Installed_Capacity_[MW]'][row] += Under_Installment #overwrite new installed\n"
     ]
    },
    {
     "name": "stdout",
     "output_type": "stream",
     "text": [
      ">>>> Calculating Material Flows <<<<\n",
      "\n",
      "Working on Scenario:  PV_ICE\n",
      "********************\n",
      "Finished Area+Power Generation Calculations\n",
      "==> Working on Material :  glass\n",
      "==> Working on Material :  silicon\n",
      "==> Working on Material :  silver\n",
      "==> Working on Material :  aluminium_frames\n",
      "==> Working on Material :  copper\n",
      "==> Working on Material :  encapsulant\n",
      "==> Working on Material :  backsheet\n",
      "circ_high\n",
      ">>>> Calculating Material Flows <<<<\n",
      "\n",
      "Working on Scenario:  circ_high\n",
      "********************\n"
     ]
    },
    {
     "name": "stderr",
     "output_type": "stream",
     "text": [
      "C:\\Users\\hmirletz\\AppData\\Local\\Temp\\1\\ipykernel_3292\\3246415230.py:6: SettingWithCopyWarning: \n",
      "A value is trying to be set on a copy of a slice from a DataFrame\n",
      "\n",
      "See the caveats in the documentation: https://pandas.pydata.org/pandas-docs/stable/user_guide/indexing.html#returning-a-view-versus-a-copy\n",
      "  sim1.scenario[scen].dataIn_m['new_Installed_Capacity_[MW]'][row] += Under_Installment #overwrite new installed\n"
     ]
    },
    {
     "name": "stdout",
     "output_type": "stream",
     "text": [
      "Finished Area+Power Generation Calculations\n",
      "==> Working on Material :  glass\n",
      "Recycled surplus End of Sim for Mat  glass  Scenario  circ_high  =  2955371900.3007436  tonnes.\n",
      "==> Working on Material :  silicon\n",
      "Recycled surplus End of Sim for Mat  silicon  Scenario  circ_high  =  97679059.05003479  tonnes.\n",
      "==> Working on Material :  silver\n",
      "Recycled surplus End of Sim for Mat  silver  Scenario  circ_high  =  553571.4180643447  tonnes.\n",
      "==> Working on Material :  aluminium_frames\n",
      "Recycled surplus End of Sim for Mat  aluminium_frames  Scenario  circ_high  =  335002119.93809533  tonnes.\n",
      "==> Working on Material :  copper\n",
      "Recycled surplus End of Sim for Mat  copper  Scenario  circ_high  =  2019361.359042944  tonnes.\n",
      "==> Working on Material :  encapsulant\n",
      "Recycled surplus End of Sim for Mat  encapsulant  Scenario  circ_high  =  197063433.89442506  tonnes.\n",
      "==> Working on Material :  backsheet\n",
      "Recycled surplus End of Sim for Mat  backsheet  Scenario  circ_high  =  82914018.17354493  tonnes.\n",
      "circ_mid\n",
      ">>>> Calculating Material Flows <<<<\n",
      "\n",
      "Working on Scenario:  circ_mid\n",
      "********************\n"
     ]
    },
    {
     "name": "stderr",
     "output_type": "stream",
     "text": [
      "C:\\Users\\hmirletz\\AppData\\Local\\Temp\\1\\ipykernel_3292\\3246415230.py:6: SettingWithCopyWarning: \n",
      "A value is trying to be set on a copy of a slice from a DataFrame\n",
      "\n",
      "See the caveats in the documentation: https://pandas.pydata.org/pandas-docs/stable/user_guide/indexing.html#returning-a-view-versus-a-copy\n",
      "  sim1.scenario[scen].dataIn_m['new_Installed_Capacity_[MW]'][row] += Under_Installment #overwrite new installed\n"
     ]
    },
    {
     "name": "stdout",
     "output_type": "stream",
     "text": [
      "Finished Area+Power Generation Calculations\n",
      "==> Working on Material :  glass\n",
      "Recycled surplus End of Sim for Mat  glass  Scenario  circ_mid  =  467742775.504396  tonnes.\n",
      "==> Working on Material :  silicon\n",
      "Recycled surplus End of Sim for Mat  silicon  Scenario  circ_mid  =  15422997.29902475  tonnes.\n",
      "==> Working on Material :  silver\n",
      "Recycled surplus End of Sim for Mat  silver  Scenario  circ_mid  =  86716.80923866264  tonnes.\n",
      "==> Working on Material :  aluminium_frames\n",
      "Recycled surplus End of Sim for Mat  aluminium_frames  Scenario  circ_mid  =  52938826.54975593  tonnes.\n",
      "==> Working on Material :  copper\n",
      "Recycled surplus End of Sim for Mat  copper  Scenario  circ_mid  =  318147.0958055543  tonnes.\n",
      "==> Working on Material :  encapsulant\n",
      "Recycled surplus End of Sim for Mat  encapsulant  Scenario  circ_mid  =  31092921.704289448  tonnes.\n",
      "==> Working on Material :  backsheet\n",
      "Recycled surplus End of Sim for Mat  backsheet  Scenario  circ_mid  =  13044216.296538854  tonnes.\n",
      "circ_low\n",
      ">>>> Calculating Material Flows <<<<\n",
      "\n",
      "Working on Scenario:  circ_low\n",
      "********************\n"
     ]
    },
    {
     "name": "stderr",
     "output_type": "stream",
     "text": [
      "C:\\Users\\hmirletz\\AppData\\Local\\Temp\\1\\ipykernel_3292\\3246415230.py:6: SettingWithCopyWarning: \n",
      "A value is trying to be set on a copy of a slice from a DataFrame\n",
      "\n",
      "See the caveats in the documentation: https://pandas.pydata.org/pandas-docs/stable/user_guide/indexing.html#returning-a-view-versus-a-copy\n",
      "  sim1.scenario[scen].dataIn_m['new_Installed_Capacity_[MW]'][row] += Under_Installment #overwrite new installed\n"
     ]
    },
    {
     "name": "stdout",
     "output_type": "stream",
     "text": [
      "Finished Area+Power Generation Calculations\n",
      "==> Working on Material :  glass\n",
      "==> Working on Material :  silicon\n",
      "==> Working on Material :  silver\n",
      "==> Working on Material :  aluminium_frames\n",
      "==> Working on Material :  copper\n",
      "==> Working on Material :  encapsulant\n",
      "==> Working on Material :  backsheet\n",
      "50\n",
      "PV_ICE\n",
      ">>>> Calculating Material Flows <<<<\n",
      "\n",
      "Working on Scenario:  PV_ICE\n",
      "********************\n"
     ]
    },
    {
     "name": "stderr",
     "output_type": "stream",
     "text": [
      "C:\\Users\\hmirletz\\AppData\\Local\\Temp\\1\\ipykernel_3292\\3246415230.py:6: SettingWithCopyWarning: \n",
      "A value is trying to be set on a copy of a slice from a DataFrame\n",
      "\n",
      "See the caveats in the documentation: https://pandas.pydata.org/pandas-docs/stable/user_guide/indexing.html#returning-a-view-versus-a-copy\n",
      "  sim1.scenario[scen].dataIn_m['new_Installed_Capacity_[MW]'][row] += Under_Installment #overwrite new installed\n"
     ]
    },
    {
     "name": "stdout",
     "output_type": "stream",
     "text": [
      "Finished Area+Power Generation Calculations\n",
      "==> Working on Material :  glass\n",
      "==> Working on Material :  silicon\n",
      "==> Working on Material :  silver\n",
      "==> Working on Material :  aluminium_frames\n",
      "==> Working on Material :  copper\n",
      "==> Working on Material :  encapsulant\n",
      "==> Working on Material :  backsheet\n",
      "circ_high\n",
      ">>>> Calculating Material Flows <<<<\n",
      "\n",
      "Working on Scenario:  circ_high\n",
      "********************\n"
     ]
    },
    {
     "name": "stderr",
     "output_type": "stream",
     "text": [
      "C:\\Users\\hmirletz\\AppData\\Local\\Temp\\1\\ipykernel_3292\\3246415230.py:6: SettingWithCopyWarning: \n",
      "A value is trying to be set on a copy of a slice from a DataFrame\n",
      "\n",
      "See the caveats in the documentation: https://pandas.pydata.org/pandas-docs/stable/user_guide/indexing.html#returning-a-view-versus-a-copy\n",
      "  sim1.scenario[scen].dataIn_m['new_Installed_Capacity_[MW]'][row] += Under_Installment #overwrite new installed\n"
     ]
    },
    {
     "name": "stdout",
     "output_type": "stream",
     "text": [
      "Finished Area+Power Generation Calculations\n",
      "==> Working on Material :  glass\n",
      "Recycled surplus End of Sim for Mat  glass  Scenario  circ_high  =  2975389712.6847734  tonnes.\n",
      "==> Working on Material :  silicon\n",
      "Recycled surplus End of Sim for Mat  silicon  Scenario  circ_high  =  98337514.8570096  tonnes.\n",
      "==> Working on Material :  silver\n",
      "Recycled surplus End of Sim for Mat  silver  Scenario  circ_high  =  557241.4673220231  tonnes.\n",
      "==> Working on Material :  aluminium_frames\n",
      "Recycled surplus End of Sim for Mat  aluminium_frames  Scenario  circ_high  =  337262952.73880476  tonnes.\n",
      "==> Working on Material :  copper\n",
      "Recycled surplus End of Sim for Mat  copper  Scenario  circ_high  =  2032895.2438078865  tonnes.\n",
      "==> Working on Material :  encapsulant\n",
      "Recycled surplus End of Sim for Mat  encapsulant  Scenario  circ_high  =  198394563.2469258  tonnes.\n",
      "==> Working on Material :  backsheet\n",
      "Recycled surplus End of Sim for Mat  backsheet  Scenario  circ_high  =  83463111.93124261  tonnes.\n",
      "circ_mid\n",
      ">>>> Calculating Material Flows <<<<\n",
      "\n",
      "Working on Scenario:  circ_mid\n",
      "********************\n"
     ]
    },
    {
     "name": "stderr",
     "output_type": "stream",
     "text": [
      "C:\\Users\\hmirletz\\AppData\\Local\\Temp\\1\\ipykernel_3292\\3246415230.py:6: SettingWithCopyWarning: \n",
      "A value is trying to be set on a copy of a slice from a DataFrame\n",
      "\n",
      "See the caveats in the documentation: https://pandas.pydata.org/pandas-docs/stable/user_guide/indexing.html#returning-a-view-versus-a-copy\n",
      "  sim1.scenario[scen].dataIn_m['new_Installed_Capacity_[MW]'][row] += Under_Installment #overwrite new installed\n"
     ]
    },
    {
     "name": "stdout",
     "output_type": "stream",
     "text": [
      "Finished Area+Power Generation Calculations\n",
      "==> Working on Material :  glass\n",
      "Recycled surplus End of Sim for Mat  glass  Scenario  circ_mid  =  472747228.29987365  tonnes.\n",
      "==> Working on Material :  silicon\n",
      "Recycled surplus End of Sim for Mat  silicon  Scenario  circ_mid  =  15587611.240882972  tonnes.\n",
      "==> Working on Material :  silver\n",
      "Recycled surplus End of Sim for Mat  silver  Scenario  circ_mid  =  87634.32149798067  tonnes.\n",
      "==> Working on Material :  aluminium_frames\n",
      "Recycled surplus End of Sim for Mat  aluminium_frames  Scenario  circ_mid  =  53504034.71599116  tonnes.\n",
      "==> Working on Material :  copper\n",
      "Recycled surplus End of Sim for Mat  copper  Scenario  circ_mid  =  321530.566793595  tonnes.\n",
      "==> Working on Material :  encapsulant\n",
      "Recycled surplus End of Sim for Mat  encapsulant  Scenario  circ_mid  =  31425704.022430245  tonnes.\n",
      "==> Working on Material :  backsheet\n",
      "Recycled surplus End of Sim for Mat  backsheet  Scenario  circ_mid  =  13181489.727719255  tonnes.\n",
      "circ_low\n",
      ">>>> Calculating Material Flows <<<<\n",
      "\n",
      "Working on Scenario:  circ_low\n",
      "********************\n"
     ]
    },
    {
     "name": "stderr",
     "output_type": "stream",
     "text": [
      "C:\\Users\\hmirletz\\AppData\\Local\\Temp\\1\\ipykernel_3292\\3246415230.py:6: SettingWithCopyWarning: \n",
      "A value is trying to be set on a copy of a slice from a DataFrame\n",
      "\n",
      "See the caveats in the documentation: https://pandas.pydata.org/pandas-docs/stable/user_guide/indexing.html#returning-a-view-versus-a-copy\n",
      "  sim1.scenario[scen].dataIn_m['new_Installed_Capacity_[MW]'][row] += Under_Installment #overwrite new installed\n"
     ]
    },
    {
     "name": "stdout",
     "output_type": "stream",
     "text": [
      "Finished Area+Power Generation Calculations\n",
      "==> Working on Material :  glass\n",
      "==> Working on Material :  silicon\n",
      "==> Working on Material :  silver\n",
      "==> Working on Material :  aluminium_frames\n",
      "==> Working on Material :  copper\n",
      "==> Working on Material :  encapsulant\n",
      "==> Working on Material :  backsheet\n",
      "51\n",
      "PV_ICE\n",
      ">>>> Calculating Material Flows <<<<\n",
      "\n",
      "Working on Scenario:  PV_ICE\n",
      "********************\n"
     ]
    },
    {
     "name": "stderr",
     "output_type": "stream",
     "text": [
      "C:\\Users\\hmirletz\\AppData\\Local\\Temp\\1\\ipykernel_3292\\3246415230.py:6: SettingWithCopyWarning: \n",
      "A value is trying to be set on a copy of a slice from a DataFrame\n",
      "\n",
      "See the caveats in the documentation: https://pandas.pydata.org/pandas-docs/stable/user_guide/indexing.html#returning-a-view-versus-a-copy\n",
      "  sim1.scenario[scen].dataIn_m['new_Installed_Capacity_[MW]'][row] += Under_Installment #overwrite new installed\n"
     ]
    },
    {
     "name": "stdout",
     "output_type": "stream",
     "text": [
      "Finished Area+Power Generation Calculations\n",
      "==> Working on Material :  glass\n",
      "==> Working on Material :  silicon\n",
      "==> Working on Material :  silver\n",
      "==> Working on Material :  aluminium_frames\n",
      "==> Working on Material :  copper\n",
      "==> Working on Material :  encapsulant\n",
      "==> Working on Material :  backsheet\n",
      "circ_high\n"
     ]
    },
    {
     "name": "stderr",
     "output_type": "stream",
     "text": [
      "C:\\Users\\hmirletz\\AppData\\Local\\Temp\\1\\ipykernel_3292\\3246415230.py:6: SettingWithCopyWarning: \n",
      "A value is trying to be set on a copy of a slice from a DataFrame\n",
      "\n",
      "See the caveats in the documentation: https://pandas.pydata.org/pandas-docs/stable/user_guide/indexing.html#returning-a-view-versus-a-copy\n",
      "  sim1.scenario[scen].dataIn_m['new_Installed_Capacity_[MW]'][row] += Under_Installment #overwrite new installed\n"
     ]
    },
    {
     "name": "stdout",
     "output_type": "stream",
     "text": [
      ">>>> Calculating Material Flows <<<<\n",
      "\n",
      "Working on Scenario:  circ_high\n",
      "********************\n",
      "Finished Area+Power Generation Calculations\n",
      "==> Working on Material :  glass\n",
      "Recycled surplus End of Sim for Mat  glass  Scenario  circ_high  =  2997077331.212422  tonnes.\n",
      "==> Working on Material :  silicon\n",
      "Recycled surplus End of Sim for Mat  silicon  Scenario  circ_high  =  99050896.42363763  tonnes.\n",
      "==> Working on Material :  silver\n",
      "Recycled surplus End of Sim for Mat  silver  Scenario  circ_high  =  560767.4137569807  tonnes.\n",
      "==> Working on Material :  aluminium_frames\n",
      "Recycled surplus End of Sim for Mat  aluminium_frames  Scenario  circ_high  =  339712375.20295477  tonnes.\n",
      "==> Working on Material :  copper\n",
      "Recycled surplus End of Sim for Mat  copper  Scenario  circ_high  =  2047558.0713110892  tonnes.\n",
      "==> Working on Material :  encapsulant\n",
      "Recycled surplus End of Sim for Mat  encapsulant  Scenario  circ_high  =  199836730.10582942  tonnes.\n",
      "==> Working on Material :  backsheet\n",
      "Recycled surplus End of Sim for Mat  backsheet  Scenario  circ_high  =  84058008.90221876  tonnes.\n",
      "circ_mid\n",
      ">>>> Calculating Material Flows <<<<\n",
      "\n",
      "Working on Scenario:  circ_mid\n",
      "********************\n"
     ]
    },
    {
     "name": "stderr",
     "output_type": "stream",
     "text": [
      "C:\\Users\\hmirletz\\AppData\\Local\\Temp\\1\\ipykernel_3292\\3246415230.py:6: SettingWithCopyWarning: \n",
      "A value is trying to be set on a copy of a slice from a DataFrame\n",
      "\n",
      "See the caveats in the documentation: https://pandas.pydata.org/pandas-docs/stable/user_guide/indexing.html#returning-a-view-versus-a-copy\n",
      "  sim1.scenario[scen].dataIn_m['new_Installed_Capacity_[MW]'][row] += Under_Installment #overwrite new installed\n"
     ]
    },
    {
     "name": "stdout",
     "output_type": "stream",
     "text": [
      "Finished Area+Power Generation Calculations\n",
      "==> Working on Material :  glass\n",
      "Recycled surplus End of Sim for Mat  glass  Scenario  circ_mid  =  478169132.8337669  tonnes.\n",
      "==> Working on Material :  silicon\n",
      "Recycled surplus End of Sim for Mat  silicon  Scenario  circ_mid  =  15765956.6293158  tonnes.\n",
      "==> Working on Material :  silver\n",
      "Recycled surplus End of Sim for Mat  silver  Scenario  circ_mid  =  88628.36901566229  tonnes.\n",
      "==> Working on Material :  aluminium_frames\n",
      "Recycled surplus End of Sim for Mat  aluminium_frames  Scenario  circ_mid  =  54116390.320958294  tonnes.\n",
      "==> Working on Material :  copper\n",
      "Recycled surplus End of Sim for Mat  copper  Scenario  circ_mid  =  325196.27360312507  tonnes.\n",
      "==> Working on Material :  encapsulant\n",
      "Recycled surplus End of Sim for Mat  encapsulant  Scenario  circ_mid  =  31786245.73063815  tonnes.\n",
      "==> Working on Material :  backsheet\n",
      "Recycled surplus End of Sim for Mat  backsheet  Scenario  circ_mid  =  13330213.967774589  tonnes.\n",
      "circ_low\n",
      ">>>> Calculating Material Flows <<<<\n",
      "\n",
      "Working on Scenario:  circ_low\n",
      "********************\n"
     ]
    },
    {
     "name": "stderr",
     "output_type": "stream",
     "text": [
      "C:\\Users\\hmirletz\\AppData\\Local\\Temp\\1\\ipykernel_3292\\3246415230.py:6: SettingWithCopyWarning: \n",
      "A value is trying to be set on a copy of a slice from a DataFrame\n",
      "\n",
      "See the caveats in the documentation: https://pandas.pydata.org/pandas-docs/stable/user_guide/indexing.html#returning-a-view-versus-a-copy\n",
      "  sim1.scenario[scen].dataIn_m['new_Installed_Capacity_[MW]'][row] += Under_Installment #overwrite new installed\n"
     ]
    },
    {
     "name": "stdout",
     "output_type": "stream",
     "text": [
      "Finished Area+Power Generation Calculations\n",
      "==> Working on Material :  glass\n",
      "==> Working on Material :  silicon\n",
      "==> Working on Material :  silver\n",
      "==> Working on Material :  aluminium_frames\n",
      "==> Working on Material :  copper\n",
      "==> Working on Material :  encapsulant\n",
      "==> Working on Material :  backsheet\n",
      "52\n",
      "PV_ICE\n",
      ">>>> Calculating Material Flows <<<<\n",
      "\n",
      "Working on Scenario:  PV_ICE\n",
      "********************\n"
     ]
    },
    {
     "name": "stderr",
     "output_type": "stream",
     "text": [
      "C:\\Users\\hmirletz\\AppData\\Local\\Temp\\1\\ipykernel_3292\\3246415230.py:6: SettingWithCopyWarning: \n",
      "A value is trying to be set on a copy of a slice from a DataFrame\n",
      "\n",
      "See the caveats in the documentation: https://pandas.pydata.org/pandas-docs/stable/user_guide/indexing.html#returning-a-view-versus-a-copy\n",
      "  sim1.scenario[scen].dataIn_m['new_Installed_Capacity_[MW]'][row] += Under_Installment #overwrite new installed\n"
     ]
    },
    {
     "name": "stdout",
     "output_type": "stream",
     "text": [
      "Finished Area+Power Generation Calculations\n",
      "==> Working on Material :  glass\n",
      "==> Working on Material :  silicon\n",
      "==> Working on Material :  silver\n",
      "==> Working on Material :  aluminium_frames\n",
      "==> Working on Material :  copper\n",
      "==> Working on Material :  encapsulant\n",
      "==> Working on Material :  backsheet\n",
      "circ_high\n",
      ">>>> Calculating Material Flows <<<<\n",
      "\n",
      "Working on Scenario:  circ_high\n",
      "********************\n"
     ]
    },
    {
     "name": "stderr",
     "output_type": "stream",
     "text": [
      "C:\\Users\\hmirletz\\AppData\\Local\\Temp\\1\\ipykernel_3292\\3246415230.py:6: SettingWithCopyWarning: \n",
      "A value is trying to be set on a copy of a slice from a DataFrame\n",
      "\n",
      "See the caveats in the documentation: https://pandas.pydata.org/pandas-docs/stable/user_guide/indexing.html#returning-a-view-versus-a-copy\n",
      "  sim1.scenario[scen].dataIn_m['new_Installed_Capacity_[MW]'][row] += Under_Installment #overwrite new installed\n"
     ]
    },
    {
     "name": "stdout",
     "output_type": "stream",
     "text": [
      "Finished Area+Power Generation Calculations\n",
      "==> Working on Material :  glass\n",
      "Recycled surplus End of Sim for Mat  glass  Scenario  circ_high  =  3015817080.9179287  tonnes.\n",
      "==> Working on Material :  silicon\n",
      "Recycled surplus End of Sim for Mat  silicon  Scenario  circ_high  =  99667312.28257981  tonnes.\n",
      "==> Working on Material :  silver\n",
      "Recycled surplus End of Sim for Mat  silver  Scenario  circ_high  =  564203.1440543853  tonnes.\n",
      "==> Working on Material :  aluminium_frames\n",
      "Recycled surplus End of Sim for Mat  aluminium_frames  Scenario  circ_high  =  341828862.2595073  tonnes.\n",
      "==> Working on Material :  copper\n",
      "Recycled surplus End of Sim for Mat  copper  Scenario  circ_high  =  2060227.8679987553  tonnes.\n",
      "==> Working on Material :  encapsulant\n",
      "Recycled surplus End of Sim for Mat  encapsulant  Scenario  circ_high  =  201082871.81267345  tonnes.\n",
      "==> Working on Material :  backsheet\n",
      "Recycled surplus End of Sim for Mat  backsheet  Scenario  circ_high  =  84572045.07094066  tonnes.\n",
      "circ_mid\n",
      ">>>> Calculating Material Flows <<<<\n",
      "\n",
      "Working on Scenario:  circ_mid\n",
      "********************\n"
     ]
    },
    {
     "name": "stderr",
     "output_type": "stream",
     "text": [
      "C:\\Users\\hmirletz\\AppData\\Local\\Temp\\1\\ipykernel_3292\\3246415230.py:6: SettingWithCopyWarning: \n",
      "A value is trying to be set on a copy of a slice from a DataFrame\n",
      "\n",
      "See the caveats in the documentation: https://pandas.pydata.org/pandas-docs/stable/user_guide/indexing.html#returning-a-view-versus-a-copy\n",
      "  sim1.scenario[scen].dataIn_m['new_Installed_Capacity_[MW]'][row] += Under_Installment #overwrite new installed\n"
     ]
    },
    {
     "name": "stdout",
     "output_type": "stream",
     "text": [
      "Finished Area+Power Generation Calculations\n",
      "==> Working on Material :  glass\n",
      "Recycled surplus End of Sim for Mat  glass  Scenario  circ_mid  =  482854070.2376791  tonnes.\n",
      "==> Working on Material :  silicon\n",
      "Recycled surplus End of Sim for Mat  silicon  Scenario  circ_mid  =  15920060.593312414  tonnes.\n",
      "==> Working on Material :  silver\n",
      "Recycled surplus End of Sim for Mat  silver  Scenario  circ_mid  =  89487.30158589488  tonnes.\n",
      "==> Working on Material :  aluminium_frames\n",
      "Recycled surplus End of Sim for Mat  aluminium_frames  Scenario  circ_mid  =  54645512.08255927  tonnes.\n",
      "==> Working on Material :  copper\n",
      "Recycled surplus End of Sim for Mat  copper  Scenario  circ_mid  =  328363.72275985364  tonnes.\n",
      "==> Working on Material :  encapsulant\n",
      "Recycled surplus End of Sim for Mat  encapsulant  Scenario  circ_mid  =  32097781.155855354  tonnes.\n",
      "==> Working on Material :  backsheet\n",
      "Recycled surplus End of Sim for Mat  backsheet  Scenario  circ_mid  =  13458723.00933886  tonnes.\n",
      "circ_low\n",
      ">>>> Calculating Material Flows <<<<\n",
      "\n",
      "Working on Scenario:  circ_low\n",
      "********************\n"
     ]
    },
    {
     "name": "stderr",
     "output_type": "stream",
     "text": [
      "C:\\Users\\hmirletz\\AppData\\Local\\Temp\\1\\ipykernel_3292\\3246415230.py:6: SettingWithCopyWarning: \n",
      "A value is trying to be set on a copy of a slice from a DataFrame\n",
      "\n",
      "See the caveats in the documentation: https://pandas.pydata.org/pandas-docs/stable/user_guide/indexing.html#returning-a-view-versus-a-copy\n",
      "  sim1.scenario[scen].dataIn_m['new_Installed_Capacity_[MW]'][row] += Under_Installment #overwrite new installed\n"
     ]
    },
    {
     "name": "stdout",
     "output_type": "stream",
     "text": [
      "Finished Area+Power Generation Calculations\n",
      "==> Working on Material :  glass\n",
      "==> Working on Material :  silicon\n",
      "==> Working on Material :  silver\n",
      "==> Working on Material :  aluminium_frames\n",
      "==> Working on Material :  copper\n",
      "==> Working on Material :  encapsulant\n",
      "==> Working on Material :  backsheet\n",
      "53\n",
      "PV_ICE\n",
      ">>>> Calculating Material Flows <<<<\n",
      "\n",
      "Working on Scenario:  PV_ICE\n",
      "********************\n"
     ]
    },
    {
     "name": "stderr",
     "output_type": "stream",
     "text": [
      "C:\\Users\\hmirletz\\AppData\\Local\\Temp\\1\\ipykernel_3292\\3246415230.py:6: SettingWithCopyWarning: \n",
      "A value is trying to be set on a copy of a slice from a DataFrame\n",
      "\n",
      "See the caveats in the documentation: https://pandas.pydata.org/pandas-docs/stable/user_guide/indexing.html#returning-a-view-versus-a-copy\n",
      "  sim1.scenario[scen].dataIn_m['new_Installed_Capacity_[MW]'][row] += Under_Installment #overwrite new installed\n"
     ]
    },
    {
     "name": "stdout",
     "output_type": "stream",
     "text": [
      "Finished Area+Power Generation Calculations\n",
      "==> Working on Material :  glass\n",
      "==> Working on Material :  silicon\n",
      "==> Working on Material :  silver\n",
      "==> Working on Material :  aluminium_frames\n",
      "==> Working on Material :  copper\n",
      "==> Working on Material :  encapsulant\n",
      "==> Working on Material :  backsheet\n",
      "circ_high\n",
      ">>>> Calculating Material Flows <<<<\n",
      "\n",
      "Working on Scenario:  circ_high\n",
      "********************\n"
     ]
    },
    {
     "name": "stderr",
     "output_type": "stream",
     "text": [
      "C:\\Users\\hmirletz\\AppData\\Local\\Temp\\1\\ipykernel_3292\\3246415230.py:6: SettingWithCopyWarning: \n",
      "A value is trying to be set on a copy of a slice from a DataFrame\n",
      "\n",
      "See the caveats in the documentation: https://pandas.pydata.org/pandas-docs/stable/user_guide/indexing.html#returning-a-view-versus-a-copy\n",
      "  sim1.scenario[scen].dataIn_m['new_Installed_Capacity_[MW]'][row] += Under_Installment #overwrite new installed\n"
     ]
    },
    {
     "name": "stdout",
     "output_type": "stream",
     "text": [
      "Finished Area+Power Generation Calculations\n",
      "==> Working on Material :  glass\n",
      "Recycled surplus End of Sim for Mat  glass  Scenario  circ_high  =  3035416181.6079946  tonnes.\n",
      "==> Working on Material :  silicon\n",
      "Recycled surplus End of Sim for Mat  silicon  Scenario  circ_high  =  100311995.19863883  tonnes.\n",
      "==> Working on Material :  silver\n",
      "Recycled surplus End of Sim for Mat  silver  Scenario  circ_high  =  567796.4270544758  tonnes.\n",
      "==> Working on Material :  aluminium_frames\n",
      "Recycled surplus End of Sim for Mat  aluminium_frames  Scenario  circ_high  =  344042405.3207792  tonnes.\n",
      "==> Working on Material :  copper\n",
      "Recycled surplus End of Sim for Mat  copper  Scenario  circ_high  =  2073478.6650961826  tonnes.\n",
      "==> Working on Material :  encapsulant\n",
      "Recycled surplus End of Sim for Mat  encapsulant  Scenario  circ_high  =  202386157.99153593  tonnes.\n",
      "==> Working on Material :  backsheet\n",
      "Recycled surplus End of Sim for Mat  backsheet  Scenario  circ_high  =  85109653.45885612  tonnes.\n",
      "circ_mid\n",
      ">>>> Calculating Material Flows <<<<\n",
      "\n",
      "Working on Scenario:  circ_mid\n",
      "********************\n"
     ]
    },
    {
     "name": "stderr",
     "output_type": "stream",
     "text": [
      "C:\\Users\\hmirletz\\AppData\\Local\\Temp\\1\\ipykernel_3292\\3246415230.py:6: SettingWithCopyWarning: \n",
      "A value is trying to be set on a copy of a slice from a DataFrame\n",
      "\n",
      "See the caveats in the documentation: https://pandas.pydata.org/pandas-docs/stable/user_guide/indexing.html#returning-a-view-versus-a-copy\n",
      "  sim1.scenario[scen].dataIn_m['new_Installed_Capacity_[MW]'][row] += Under_Installment #overwrite new installed\n"
     ]
    },
    {
     "name": "stdout",
     "output_type": "stream",
     "text": [
      "Finished Area+Power Generation Calculations\n",
      "==> Working on Material :  glass\n",
      "Recycled surplus End of Sim for Mat  glass  Scenario  circ_mid  =  487753845.4048669  tonnes.\n",
      "==> Working on Material :  silicon\n",
      "Recycled surplus End of Sim for Mat  silicon  Scenario  circ_mid  =  16081231.322151884  tonnes.\n",
      "==> Working on Material :  silver\n",
      "Recycled surplus End of Sim for Mat  silver  Scenario  circ_mid  =  90385.62233494048  tonnes.\n",
      "==> Working on Material :  aluminium_frames\n",
      "Recycled surplus End of Sim for Mat  aluminium_frames  Scenario  circ_mid  =  55198897.84727536  tonnes.\n",
      "==> Working on Material :  copper\n",
      "Recycled surplus End of Sim for Mat  copper  Scenario  circ_mid  =  331676.4220306076  tonnes.\n",
      "==> Working on Material :  encapsulant\n",
      "Recycled surplus End of Sim for Mat  encapsulant  Scenario  circ_mid  =  32423602.70021661  tonnes.\n",
      "==> Working on Material :  backsheet\n",
      "Recycled surplus End of Sim for Mat  backsheet  Scenario  circ_mid  =  13593125.106171552  tonnes.\n",
      "circ_low\n",
      ">>>> Calculating Material Flows <<<<\n",
      "\n",
      "Working on Scenario:  circ_low\n",
      "********************\n"
     ]
    },
    {
     "name": "stderr",
     "output_type": "stream",
     "text": [
      "C:\\Users\\hmirletz\\AppData\\Local\\Temp\\1\\ipykernel_3292\\3246415230.py:6: SettingWithCopyWarning: \n",
      "A value is trying to be set on a copy of a slice from a DataFrame\n",
      "\n",
      "See the caveats in the documentation: https://pandas.pydata.org/pandas-docs/stable/user_guide/indexing.html#returning-a-view-versus-a-copy\n",
      "  sim1.scenario[scen].dataIn_m['new_Installed_Capacity_[MW]'][row] += Under_Installment #overwrite new installed\n"
     ]
    },
    {
     "name": "stdout",
     "output_type": "stream",
     "text": [
      "Finished Area+Power Generation Calculations\n",
      "==> Working on Material :  glass\n",
      "==> Working on Material :  silicon\n",
      "==> Working on Material :  silver\n",
      "==> Working on Material :  aluminium_frames\n",
      "==> Working on Material :  copper\n",
      "==> Working on Material :  encapsulant\n",
      "==> Working on Material :  backsheet\n",
      "54\n",
      "PV_ICE\n",
      ">>>> Calculating Material Flows <<<<\n",
      "\n",
      "Working on Scenario:  PV_ICE\n",
      "********************\n"
     ]
    },
    {
     "name": "stderr",
     "output_type": "stream",
     "text": [
      "C:\\Users\\hmirletz\\AppData\\Local\\Temp\\1\\ipykernel_3292\\3246415230.py:6: SettingWithCopyWarning: \n",
      "A value is trying to be set on a copy of a slice from a DataFrame\n",
      "\n",
      "See the caveats in the documentation: https://pandas.pydata.org/pandas-docs/stable/user_guide/indexing.html#returning-a-view-versus-a-copy\n",
      "  sim1.scenario[scen].dataIn_m['new_Installed_Capacity_[MW]'][row] += Under_Installment #overwrite new installed\n"
     ]
    },
    {
     "name": "stdout",
     "output_type": "stream",
     "text": [
      "Finished Area+Power Generation Calculations\n",
      "==> Working on Material :  glass\n",
      "==> Working on Material :  silicon\n",
      "==> Working on Material :  silver\n",
      "==> Working on Material :  aluminium_frames\n",
      "==> Working on Material :  copper\n",
      "==> Working on Material :  encapsulant\n",
      "==> Working on Material :  backsheet\n",
      "circ_high\n",
      ">>>> Calculating Material Flows <<<<\n",
      "\n",
      "Working on Scenario:  circ_high\n",
      "********************\n"
     ]
    },
    {
     "name": "stderr",
     "output_type": "stream",
     "text": [
      "C:\\Users\\hmirletz\\AppData\\Local\\Temp\\1\\ipykernel_3292\\3246415230.py:6: SettingWithCopyWarning: \n",
      "A value is trying to be set on a copy of a slice from a DataFrame\n",
      "\n",
      "See the caveats in the documentation: https://pandas.pydata.org/pandas-docs/stable/user_guide/indexing.html#returning-a-view-versus-a-copy\n",
      "  sim1.scenario[scen].dataIn_m['new_Installed_Capacity_[MW]'][row] += Under_Installment #overwrite new installed\n"
     ]
    },
    {
     "name": "stdout",
     "output_type": "stream",
     "text": [
      "Finished Area+Power Generation Calculations\n",
      "==> Working on Material :  glass\n",
      "Recycled surplus End of Sim for Mat  glass  Scenario  circ_high  =  3055971913.195142  tonnes.\n",
      "==> Working on Material :  silicon\n",
      "Recycled surplus End of Sim for Mat  silicon  Scenario  circ_high  =  100988145.04810843  tonnes.\n",
      "==> Working on Material :  silver\n",
      "Recycled surplus End of Sim for Mat  silver  Scenario  circ_high  =  571428.0465142544  tonnes.\n",
      "==> Working on Material :  aluminium_frames\n",
      "Recycled surplus End of Sim for Mat  aluminium_frames  Scenario  circ_high  =  346363991.282484  tonnes.\n",
      "==> Working on Material :  copper\n",
      "Recycled surplus End of Sim for Mat  copper  Scenario  circ_high  =  2087376.2327834861  tonnes.\n",
      "==> Working on Material :  encapsulant\n",
      "Recycled surplus End of Sim for Mat  encapsulant  Scenario  circ_high  =  203753057.4884865  tonnes.\n",
      "==> Working on Material :  backsheet\n",
      "Recycled surplus End of Sim for Mat  backsheet  Scenario  circ_high  =  85665862.4336774  tonnes.\n",
      "circ_mid\n",
      ">>>> Calculating Material Flows <<<<\n",
      "\n",
      "Working on Scenario:  circ_mid\n",
      "********************\n"
     ]
    },
    {
     "name": "stderr",
     "output_type": "stream",
     "text": [
      "C:\\Users\\hmirletz\\AppData\\Local\\Temp\\1\\ipykernel_3292\\3246415230.py:6: SettingWithCopyWarning: \n",
      "A value is trying to be set on a copy of a slice from a DataFrame\n",
      "\n",
      "See the caveats in the documentation: https://pandas.pydata.org/pandas-docs/stable/user_guide/indexing.html#returning-a-view-versus-a-copy\n",
      "  sim1.scenario[scen].dataIn_m['new_Installed_Capacity_[MW]'][row] += Under_Installment #overwrite new installed\n"
     ]
    },
    {
     "name": "stdout",
     "output_type": "stream",
     "text": [
      "Finished Area+Power Generation Calculations\n",
      "==> Working on Material :  glass\n",
      "Recycled surplus End of Sim for Mat  glass  Scenario  circ_mid  =  492892778.300614  tonnes.\n",
      "==> Working on Material :  silicon\n",
      "Recycled surplus End of Sim for Mat  silicon  Scenario  circ_mid  =  16250268.784485089  tonnes.\n",
      "==> Working on Material :  silver\n",
      "Recycled surplus End of Sim for Mat  silver  Scenario  circ_mid  =  91327.79006523092  tonnes.\n",
      "==> Working on Material :  aluminium_frames\n",
      "Recycled surplus End of Sim for Mat  aluminium_frames  Scenario  circ_mid  =  55779294.33758414  tonnes.\n",
      "==> Working on Material :  copper\n",
      "Recycled surplus End of Sim for Mat  copper  Scenario  circ_mid  =  335150.81395173055  tonnes.\n",
      "==> Working on Material :  encapsulant\n",
      "Recycled surplus End of Sim for Mat  encapsulant  Scenario  circ_mid  =  32765327.574385125  tonnes.\n",
      "==> Working on Material :  backsheet\n",
      "Recycled surplus End of Sim for Mat  backsheet  Scenario  circ_mid  =  13734087.361194238  tonnes.\n",
      "circ_low\n",
      ">>>> Calculating Material Flows <<<<\n",
      "\n",
      "Working on Scenario:  circ_low\n",
      "********************\n"
     ]
    },
    {
     "name": "stderr",
     "output_type": "stream",
     "text": [
      "C:\\Users\\hmirletz\\AppData\\Local\\Temp\\1\\ipykernel_3292\\3246415230.py:6: SettingWithCopyWarning: \n",
      "A value is trying to be set on a copy of a slice from a DataFrame\n",
      "\n",
      "See the caveats in the documentation: https://pandas.pydata.org/pandas-docs/stable/user_guide/indexing.html#returning-a-view-versus-a-copy\n",
      "  sim1.scenario[scen].dataIn_m['new_Installed_Capacity_[MW]'][row] += Under_Installment #overwrite new installed\n"
     ]
    },
    {
     "name": "stdout",
     "output_type": "stream",
     "text": [
      "Finished Area+Power Generation Calculations\n",
      "==> Working on Material :  glass\n",
      "==> Working on Material :  silicon\n",
      "==> Working on Material :  silver\n",
      "==> Working on Material :  aluminium_frames\n",
      "==> Working on Material :  copper\n",
      "==> Working on Material :  encapsulant\n",
      "==> Working on Material :  backsheet\n",
      "55\n",
      "PV_ICE\n",
      ">>>> Calculating Material Flows <<<<\n",
      "\n",
      "Working on Scenario:  PV_ICE\n",
      "********************\n"
     ]
    },
    {
     "name": "stderr",
     "output_type": "stream",
     "text": [
      "C:\\Users\\hmirletz\\AppData\\Local\\Temp\\1\\ipykernel_3292\\3246415230.py:6: SettingWithCopyWarning: \n",
      "A value is trying to be set on a copy of a slice from a DataFrame\n",
      "\n",
      "See the caveats in the documentation: https://pandas.pydata.org/pandas-docs/stable/user_guide/indexing.html#returning-a-view-versus-a-copy\n",
      "  sim1.scenario[scen].dataIn_m['new_Installed_Capacity_[MW]'][row] += Under_Installment #overwrite new installed\n"
     ]
    },
    {
     "name": "stdout",
     "output_type": "stream",
     "text": [
      "Finished Area+Power Generation Calculations\n",
      "==> Working on Material :  glass\n",
      "==> Working on Material :  silicon\n",
      "==> Working on Material :  silver\n",
      "==> Working on Material :  aluminium_frames\n",
      "==> Working on Material :  copper\n",
      "==> Working on Material :  encapsulant\n",
      "==> Working on Material :  backsheet\n",
      "circ_high\n",
      ">>>> Calculating Material Flows <<<<\n",
      "\n",
      "Working on Scenario:  circ_high\n",
      "********************\n"
     ]
    },
    {
     "name": "stderr",
     "output_type": "stream",
     "text": [
      "C:\\Users\\hmirletz\\AppData\\Local\\Temp\\1\\ipykernel_3292\\3246415230.py:6: SettingWithCopyWarning: \n",
      "A value is trying to be set on a copy of a slice from a DataFrame\n",
      "\n",
      "See the caveats in the documentation: https://pandas.pydata.org/pandas-docs/stable/user_guide/indexing.html#returning-a-view-versus-a-copy\n",
      "  sim1.scenario[scen].dataIn_m['new_Installed_Capacity_[MW]'][row] += Under_Installment #overwrite new installed\n"
     ]
    },
    {
     "name": "stdout",
     "output_type": "stream",
     "text": [
      "Finished Area+Power Generation Calculations\n",
      "==> Working on Material :  glass\n",
      "Recycled surplus End of Sim for Mat  glass  Scenario  circ_high  =  3077552471.375847  tonnes.\n",
      "==> Working on Material :  silicon\n",
      "Recycled surplus End of Sim for Mat  silicon  Scenario  circ_high  =  101698005.02577409  tonnes.\n",
      "==> Working on Material :  silver\n",
      "Recycled surplus End of Sim for Mat  silver  Scenario  circ_high  =  574907.5228115292  tonnes.\n",
      "==> Working on Material :  aluminium_frames\n",
      "Recycled surplus End of Sim for Mat  aluminium_frames  Scenario  circ_high  =  348801322.238362  tonnes.\n",
      "==> Working on Material :  copper\n",
      "Recycled surplus End of Sim for Mat  copper  Scenario  circ_high  =  2101422.880456818  tonnes.\n",
      "==> Working on Material :  encapsulant\n",
      "Recycled surplus End of Sim for Mat  encapsulant  Scenario  circ_high  =  205188105.12938696  tonnes.\n",
      "==> Working on Material :  backsheet\n",
      "Recycled surplus End of Sim for Mat  backsheet  Scenario  circ_high  =  86200868.42035276  tonnes.\n",
      "circ_mid\n",
      ">>>> Calculating Material Flows <<<<\n",
      "\n",
      "Working on Scenario:  circ_mid\n",
      "********************\n"
     ]
    },
    {
     "name": "stderr",
     "output_type": "stream",
     "text": [
      "C:\\Users\\hmirletz\\AppData\\Local\\Temp\\1\\ipykernel_3292\\3246415230.py:6: SettingWithCopyWarning: \n",
      "A value is trying to be set on a copy of a slice from a DataFrame\n",
      "\n",
      "See the caveats in the documentation: https://pandas.pydata.org/pandas-docs/stable/user_guide/indexing.html#returning-a-view-versus-a-copy\n",
      "  sim1.scenario[scen].dataIn_m['new_Installed_Capacity_[MW]'][row] += Under_Installment #overwrite new installed\n"
     ]
    },
    {
     "name": "stdout",
     "output_type": "stream",
     "text": [
      "Finished Area+Power Generation Calculations\n",
      "==> Working on Material :  glass\n",
      "Recycled surplus End of Sim for Mat  glass  Scenario  circ_mid  =  498287917.84563375  tonnes.\n",
      "==> Working on Material :  silicon\n",
      "Recycled surplus End of Sim for Mat  silicon  Scenario  circ_mid  =  16427733.77889636  tonnes.\n",
      "==> Working on Material :  silver\n",
      "Recycled surplus End of Sim for Mat  silver  Scenario  circ_mid  =  92316.93051186689  tonnes.\n",
      "==> Working on Material :  aluminium_frames\n",
      "Recycled surplus End of Sim for Mat  aluminium_frames  Scenario  circ_mid  =  56388627.07653599  tonnes.\n",
      "==> Working on Material :  copper\n",
      "Recycled surplus End of Sim for Mat  copper  Scenario  circ_mid  =  338798.42516378965  tonnes.\n",
      "==> Working on Material :  encapsulant\n",
      "Recycled surplus End of Sim for Mat  encapsulant  Scenario  circ_mid  =  33124089.484599832  tonnes.\n",
      "==> Working on Material :  backsheet\n",
      "Recycled surplus End of Sim for Mat  backsheet  Scenario  circ_mid  =  13882077.430700181  tonnes.\n",
      "circ_low\n",
      ">>>> Calculating Material Flows <<<<\n",
      "\n",
      "Working on Scenario:  circ_low\n",
      "********************\n"
     ]
    },
    {
     "name": "stderr",
     "output_type": "stream",
     "text": [
      "C:\\Users\\hmirletz\\AppData\\Local\\Temp\\1\\ipykernel_3292\\3246415230.py:6: SettingWithCopyWarning: \n",
      "A value is trying to be set on a copy of a slice from a DataFrame\n",
      "\n",
      "See the caveats in the documentation: https://pandas.pydata.org/pandas-docs/stable/user_guide/indexing.html#returning-a-view-versus-a-copy\n",
      "  sim1.scenario[scen].dataIn_m['new_Installed_Capacity_[MW]'][row] += Under_Installment #overwrite new installed\n"
     ]
    },
    {
     "name": "stdout",
     "output_type": "stream",
     "text": [
      "Finished Area+Power Generation Calculations\n",
      "==> Working on Material :  glass\n",
      "==> Working on Material :  silicon\n",
      "==> Working on Material :  silver\n",
      "==> Working on Material :  aluminium_frames\n",
      "==> Working on Material :  copper\n",
      "==> Working on Material :  encapsulant\n",
      "==> Working on Material :  backsheet\n",
      "56\n",
      "PV_ICE\n",
      ">>>> Calculating Material Flows <<<<\n",
      "\n",
      "Working on Scenario:  PV_ICE\n",
      "********************\n"
     ]
    },
    {
     "name": "stderr",
     "output_type": "stream",
     "text": [
      "C:\\Users\\hmirletz\\AppData\\Local\\Temp\\1\\ipykernel_3292\\3246415230.py:6: SettingWithCopyWarning: \n",
      "A value is trying to be set on a copy of a slice from a DataFrame\n",
      "\n",
      "See the caveats in the documentation: https://pandas.pydata.org/pandas-docs/stable/user_guide/indexing.html#returning-a-view-versus-a-copy\n",
      "  sim1.scenario[scen].dataIn_m['new_Installed_Capacity_[MW]'][row] += Under_Installment #overwrite new installed\n"
     ]
    },
    {
     "name": "stdout",
     "output_type": "stream",
     "text": [
      "Finished Area+Power Generation Calculations\n",
      "==> Working on Material :  glass\n",
      "==> Working on Material :  silicon\n",
      "==> Working on Material :  silver\n",
      "==> Working on Material :  aluminium_frames\n",
      "==> Working on Material :  copper\n",
      "==> Working on Material :  encapsulant\n",
      "==> Working on Material :  backsheet\n",
      "circ_high\n",
      ">>>> Calculating Material Flows <<<<\n",
      "\n",
      "Working on Scenario:  circ_high\n",
      "********************\n"
     ]
    },
    {
     "name": "stderr",
     "output_type": "stream",
     "text": [
      "C:\\Users\\hmirletz\\AppData\\Local\\Temp\\1\\ipykernel_3292\\3246415230.py:6: SettingWithCopyWarning: \n",
      "A value is trying to be set on a copy of a slice from a DataFrame\n",
      "\n",
      "See the caveats in the documentation: https://pandas.pydata.org/pandas-docs/stable/user_guide/indexing.html#returning-a-view-versus-a-copy\n",
      "  sim1.scenario[scen].dataIn_m['new_Installed_Capacity_[MW]'][row] += Under_Installment #overwrite new installed\n"
     ]
    },
    {
     "name": "stdout",
     "output_type": "stream",
     "text": [
      "Finished Area+Power Generation Calculations\n",
      "==> Working on Material :  glass\n",
      "Recycled surplus End of Sim for Mat  glass  Scenario  circ_high  =  3099775636.2760825  tonnes.\n",
      "==> Working on Material :  silicon\n",
      "Recycled surplus End of Sim for Mat  silicon  Scenario  circ_high  =  102394201.90379474  tonnes.\n",
      "==> Working on Material :  silver\n",
      "Recycled surplus End of Sim for Mat  silver  Scenario  circ_high  =  578237.8342585985  tonnes.\n",
      "==> Working on Material :  aluminium_frames\n",
      "Recycled surplus End of Sim for Mat  aluminium_frames  Scenario  circ_high  =  351227318.19112796  tonnes.\n",
      "==> Working on Material :  copper\n",
      "Recycled surplus End of Sim for Mat  copper  Scenario  circ_high  =  2115078.32507386  tonnes.\n",
      "==> Working on Material :  encapsulant\n",
      "Recycled surplus End of Sim for Mat  encapsulant  Scenario  circ_high  =  206596889.55809063  tonnes.\n",
      "==> Working on Material :  backsheet\n",
      "Recycled surplus End of Sim for Mat  backsheet  Scenario  circ_high  =  86714638.74314183  tonnes.\n",
      "circ_mid\n",
      ">>>> Calculating Material Flows <<<<\n",
      "\n",
      "Working on Scenario:  circ_mid\n",
      "********************\n"
     ]
    },
    {
     "name": "stderr",
     "output_type": "stream",
     "text": [
      "C:\\Users\\hmirletz\\AppData\\Local\\Temp\\1\\ipykernel_3292\\3246415230.py:6: SettingWithCopyWarning: \n",
      "A value is trying to be set on a copy of a slice from a DataFrame\n",
      "\n",
      "See the caveats in the documentation: https://pandas.pydata.org/pandas-docs/stable/user_guide/indexing.html#returning-a-view-versus-a-copy\n",
      "  sim1.scenario[scen].dataIn_m['new_Installed_Capacity_[MW]'][row] += Under_Installment #overwrite new installed\n"
     ]
    },
    {
     "name": "stdout",
     "output_type": "stream",
     "text": [
      "Finished Area+Power Generation Calculations\n",
      "==> Working on Material :  glass\n",
      "Recycled surplus End of Sim for Mat  glass  Scenario  circ_mid  =  503945264.91573524  tonnes.\n",
      "==> Working on Material :  silicon\n",
      "Recycled surplus End of Sim for Mat  silicon  Scenario  circ_mid  =  16613823.69516274  tonnes.\n",
      "==> Working on Material :  silver\n",
      "Recycled surplus End of Sim for Mat  silver  Scenario  circ_mid  =  93354.14387048341  tonnes.\n",
      "==> Working on Material :  aluminium_frames\n",
      "Recycled surplus End of Sim for Mat  aluminium_frames  Scenario  circ_mid  =  57027573.80936117  tonnes.\n",
      "==> Working on Material :  copper\n",
      "Recycled surplus End of Sim for Mat  copper  Scenario  circ_mid  =  342623.3128114988  tonnes.\n",
      "==> Working on Material :  encapsulant\n",
      "Recycled surplus End of Sim for Mat  encapsulant  Scenario  circ_mid  =  33500287.47256304  tonnes.\n",
      "==> Working on Material :  backsheet\n",
      "Recycled surplus End of Sim for Mat  backsheet  Scenario  circ_mid  =  14037259.920260897  tonnes.\n",
      "circ_low\n",
      ">>>> Calculating Material Flows <<<<\n",
      "\n",
      "Working on Scenario:  circ_low\n",
      "********************\n"
     ]
    },
    {
     "name": "stderr",
     "output_type": "stream",
     "text": [
      "C:\\Users\\hmirletz\\AppData\\Local\\Temp\\1\\ipykernel_3292\\3246415230.py:6: SettingWithCopyWarning: \n",
      "A value is trying to be set on a copy of a slice from a DataFrame\n",
      "\n",
      "See the caveats in the documentation: https://pandas.pydata.org/pandas-docs/stable/user_guide/indexing.html#returning-a-view-versus-a-copy\n",
      "  sim1.scenario[scen].dataIn_m['new_Installed_Capacity_[MW]'][row] += Under_Installment #overwrite new installed\n"
     ]
    },
    {
     "name": "stdout",
     "output_type": "stream",
     "text": [
      "Finished Area+Power Generation Calculations\n",
      "==> Working on Material :  glass\n",
      "==> Working on Material :  silicon\n",
      "==> Working on Material :  silver\n",
      "==> Working on Material :  aluminium_frames\n",
      "==> Working on Material :  copper\n",
      "==> Working on Material :  encapsulant\n",
      "==> Working on Material :  backsheet\n",
      "57\n",
      "PV_ICE\n",
      ">>>> Calculating Material Flows <<<<\n",
      "\n",
      "Working on Scenario:  PV_ICE\n",
      "********************\n"
     ]
    },
    {
     "name": "stderr",
     "output_type": "stream",
     "text": [
      "C:\\Users\\hmirletz\\AppData\\Local\\Temp\\1\\ipykernel_3292\\3246415230.py:6: SettingWithCopyWarning: \n",
      "A value is trying to be set on a copy of a slice from a DataFrame\n",
      "\n",
      "See the caveats in the documentation: https://pandas.pydata.org/pandas-docs/stable/user_guide/indexing.html#returning-a-view-versus-a-copy\n",
      "  sim1.scenario[scen].dataIn_m['new_Installed_Capacity_[MW]'][row] += Under_Installment #overwrite new installed\n"
     ]
    },
    {
     "name": "stdout",
     "output_type": "stream",
     "text": [
      "Finished Area+Power Generation Calculations\n",
      "==> Working on Material :  glass\n",
      "==> Working on Material :  silicon\n",
      "==> Working on Material :  silver\n",
      "==> Working on Material :  aluminium_frames\n",
      "==> Working on Material :  copper\n",
      "==> Working on Material :  encapsulant\n",
      "==> Working on Material :  backsheet\n",
      "circ_high\n",
      ">>>> Calculating Material Flows <<<<\n",
      "\n",
      "Working on Scenario:  circ_high\n",
      "********************\n"
     ]
    },
    {
     "name": "stderr",
     "output_type": "stream",
     "text": [
      "C:\\Users\\hmirletz\\AppData\\Local\\Temp\\1\\ipykernel_3292\\3246415230.py:6: SettingWithCopyWarning: \n",
      "A value is trying to be set on a copy of a slice from a DataFrame\n",
      "\n",
      "See the caveats in the documentation: https://pandas.pydata.org/pandas-docs/stable/user_guide/indexing.html#returning-a-view-versus-a-copy\n",
      "  sim1.scenario[scen].dataIn_m['new_Installed_Capacity_[MW]'][row] += Under_Installment #overwrite new installed\n"
     ]
    },
    {
     "name": "stdout",
     "output_type": "stream",
     "text": [
      "Finished Area+Power Generation Calculations\n",
      "==> Working on Material :  glass\n",
      "Recycled surplus End of Sim for Mat  glass  Scenario  circ_high  =  3120846512.782079  tonnes.\n",
      "==> Working on Material :  silicon\n",
      "Recycled surplus End of Sim for Mat  silicon  Scenario  circ_high  =  103028070.13692683  tonnes.\n",
      "==> Working on Material :  silver\n",
      "Recycled surplus End of Sim for Mat  silver  Scenario  circ_high  =  580869.3039919726  tonnes.\n",
      "==> Working on Material :  aluminium_frames\n",
      "Recycled surplus End of Sim for Mat  aluminium_frames  Scenario  circ_high  =  353463949.5712474  tonnes.\n",
      "==> Working on Material :  copper\n",
      "Recycled surplus End of Sim for Mat  copper  Scenario  circ_high  =  2127242.775371737  tonnes.\n",
      "==> Working on Material :  encapsulant\n",
      "Recycled surplus End of Sim for Mat  encapsulant  Scenario  circ_high  =  207879100.6267007  tonnes.\n",
      "==> Working on Material :  backsheet\n",
      "Recycled surplus End of Sim for Mat  backsheet  Scenario  circ_high  =  87144186.62409392  tonnes.\n",
      "circ_mid\n",
      ">>>> Calculating Material Flows <<<<\n",
      "\n",
      "Working on Scenario:  circ_mid\n",
      "********************\n"
     ]
    },
    {
     "name": "stderr",
     "output_type": "stream",
     "text": [
      "C:\\Users\\hmirletz\\AppData\\Local\\Temp\\1\\ipykernel_3292\\3246415230.py:6: SettingWithCopyWarning: \n",
      "A value is trying to be set on a copy of a slice from a DataFrame\n",
      "\n",
      "See the caveats in the documentation: https://pandas.pydata.org/pandas-docs/stable/user_guide/indexing.html#returning-a-view-versus-a-copy\n",
      "  sim1.scenario[scen].dataIn_m['new_Installed_Capacity_[MW]'][row] += Under_Installment #overwrite new installed\n"
     ]
    },
    {
     "name": "stdout",
     "output_type": "stream",
     "text": [
      "Finished Area+Power Generation Calculations\n",
      "==> Working on Material :  glass\n",
      "Recycled surplus End of Sim for Mat  glass  Scenario  circ_mid  =  510393901.8934021  tonnes.\n",
      "==> Working on Material :  silicon\n",
      "Recycled surplus End of Sim for Mat  silicon  Scenario  circ_mid  =  16825941.901865736  tonnes.\n",
      "==> Working on Material :  silver\n",
      "Recycled surplus End of Sim for Mat  silver  Scenario  circ_mid  =  94536.43166991031  tonnes.\n",
      "==> Working on Material :  aluminium_frames\n",
      "Recycled surplus End of Sim for Mat  aluminium_frames  Scenario  circ_mid  =  57755889.657231174  tonnes.\n",
      "==> Working on Material :  copper\n",
      "Recycled surplus End of Sim for Mat  copper  Scenario  circ_mid  =  346983.1853126559  tonnes.\n",
      "==> Working on Material :  encapsulant\n",
      "Recycled surplus End of Sim for Mat  encapsulant  Scenario  circ_mid  =  33929104.05850743  tonnes.\n",
      "==> Working on Material :  backsheet\n",
      "Recycled surplus End of Sim for Mat  backsheet  Scenario  circ_mid  =  14214147.69611546  tonnes.\n",
      "circ_low\n",
      ">>>> Calculating Material Flows <<<<\n",
      "\n",
      "Working on Scenario:  circ_low\n",
      "********************\n"
     ]
    },
    {
     "name": "stderr",
     "output_type": "stream",
     "text": [
      "C:\\Users\\hmirletz\\AppData\\Local\\Temp\\1\\ipykernel_3292\\3246415230.py:6: SettingWithCopyWarning: \n",
      "A value is trying to be set on a copy of a slice from a DataFrame\n",
      "\n",
      "See the caveats in the documentation: https://pandas.pydata.org/pandas-docs/stable/user_guide/indexing.html#returning-a-view-versus-a-copy\n",
      "  sim1.scenario[scen].dataIn_m['new_Installed_Capacity_[MW]'][row] += Under_Installment #overwrite new installed\n"
     ]
    },
    {
     "name": "stdout",
     "output_type": "stream",
     "text": [
      "Finished Area+Power Generation Calculations\n",
      "==> Working on Material :  glass\n",
      "==> Working on Material :  silicon\n",
      "==> Working on Material :  silver\n",
      "==> Working on Material :  aluminium_frames\n",
      "==> Working on Material :  copper\n",
      "==> Working on Material :  encapsulant\n",
      "==> Working on Material :  backsheet\n",
      "58\n",
      "PV_ICE\n",
      ">>>> Calculating Material Flows <<<<\n",
      "\n",
      "Working on Scenario:  PV_ICE\n",
      "********************\n"
     ]
    },
    {
     "name": "stderr",
     "output_type": "stream",
     "text": [
      "C:\\Users\\hmirletz\\AppData\\Local\\Temp\\1\\ipykernel_3292\\3246415230.py:6: SettingWithCopyWarning: \n",
      "A value is trying to be set on a copy of a slice from a DataFrame\n",
      "\n",
      "See the caveats in the documentation: https://pandas.pydata.org/pandas-docs/stable/user_guide/indexing.html#returning-a-view-versus-a-copy\n",
      "  sim1.scenario[scen].dataIn_m['new_Installed_Capacity_[MW]'][row] += Under_Installment #overwrite new installed\n"
     ]
    },
    {
     "name": "stdout",
     "output_type": "stream",
     "text": [
      "Finished Area+Power Generation Calculations\n",
      "==> Working on Material :  glass\n",
      "==> Working on Material :  silicon\n",
      "==> Working on Material :  silver\n",
      "==> Working on Material :  aluminium_frames\n",
      "==> Working on Material :  copper\n",
      "==> Working on Material :  encapsulant\n",
      "==> Working on Material :  backsheet\n",
      "circ_high\n",
      ">>>> Calculating Material Flows <<<<\n",
      "\n",
      "Working on Scenario:  circ_high\n",
      "********************\n"
     ]
    },
    {
     "name": "stderr",
     "output_type": "stream",
     "text": [
      "C:\\Users\\hmirletz\\AppData\\Local\\Temp\\1\\ipykernel_3292\\3246415230.py:6: SettingWithCopyWarning: \n",
      "A value is trying to be set on a copy of a slice from a DataFrame\n",
      "\n",
      "See the caveats in the documentation: https://pandas.pydata.org/pandas-docs/stable/user_guide/indexing.html#returning-a-view-versus-a-copy\n",
      "  sim1.scenario[scen].dataIn_m['new_Installed_Capacity_[MW]'][row] += Under_Installment #overwrite new installed\n"
     ]
    },
    {
     "name": "stdout",
     "output_type": "stream",
     "text": [
      "Finished Area+Power Generation Calculations\n",
      "==> Working on Material :  glass\n",
      "Recycled surplus End of Sim for Mat  glass  Scenario  circ_high  =  3141313723.7506366  tonnes.\n",
      "==> Working on Material :  silicon\n",
      "Recycled surplus End of Sim for Mat  silicon  Scenario  circ_high  =  103638822.48560081  tonnes.\n",
      "==> Working on Material :  silver\n",
      "Recycled surplus End of Sim for Mat  silver  Scenario  circ_high  =  583282.4200130433  tonnes.\n",
      "==> Working on Material :  aluminium_frames\n",
      "Recycled surplus End of Sim for Mat  aluminium_frames  Scenario  circ_high  =  355626826.0576378  tonnes.\n",
      "==> Working on Material :  copper\n",
      "Recycled surplus End of Sim for Mat  copper  Scenario  circ_high  =  2138675.5043504247  tonnes.\n",
      "==> Working on Material :  encapsulant\n",
      "Recycled surplus End of Sim for Mat  encapsulant  Scenario  circ_high  =  209107859.0308703  tonnes.\n",
      "==> Working on Material :  backsheet\n",
      "Recycled surplus End of Sim for Mat  backsheet  Scenario  circ_high  =  87539226.61699185  tonnes.\n",
      "circ_mid\n"
     ]
    },
    {
     "name": "stderr",
     "output_type": "stream",
     "text": [
      "C:\\Users\\hmirletz\\AppData\\Local\\Temp\\1\\ipykernel_3292\\3246415230.py:6: SettingWithCopyWarning: \n",
      "A value is trying to be set on a copy of a slice from a DataFrame\n",
      "\n",
      "See the caveats in the documentation: https://pandas.pydata.org/pandas-docs/stable/user_guide/indexing.html#returning-a-view-versus-a-copy\n",
      "  sim1.scenario[scen].dataIn_m['new_Installed_Capacity_[MW]'][row] += Under_Installment #overwrite new installed\n"
     ]
    },
    {
     "name": "stdout",
     "output_type": "stream",
     "text": [
      ">>>> Calculating Material Flows <<<<\n",
      "\n",
      "Working on Scenario:  circ_mid\n",
      "********************\n",
      "Finished Area+Power Generation Calculations\n",
      "==> Working on Material :  glass\n",
      "Recycled surplus End of Sim for Mat  glass  Scenario  circ_mid  =  517341167.4922504  tonnes.\n",
      "==> Working on Material :  silicon\n",
      "Recycled surplus End of Sim for Mat  silicon  Scenario  circ_mid  =  17054461.746512085  tonnes.\n",
      "==> Working on Material :  silver\n",
      "Recycled surplus End of Sim for Mat  silver  Scenario  circ_mid  =  95810.13763061842  tonnes.\n",
      "==> Working on Material :  aluminium_frames\n",
      "Recycled surplus End of Sim for Mat  aluminium_frames  Scenario  circ_mid  =  58540521.14641667  tonnes.\n",
      "==> Working on Material :  copper\n",
      "Recycled surplus End of Sim for Mat  copper  Scenario  circ_mid  =  351680.1766842518  tonnes.\n",
      "==> Working on Material :  encapsulant\n",
      "Recycled surplus End of Sim for Mat  encapsulant  Scenario  circ_mid  =  34391078.073491454  tonnes.\n",
      "==> Working on Material :  backsheet\n",
      "Recycled surplus End of Sim for Mat  backsheet  Scenario  circ_mid  =  14404712.983680442  tonnes.\n",
      "circ_low\n",
      ">>>> Calculating Material Flows <<<<\n",
      "\n",
      "Working on Scenario:  circ_low\n",
      "********************\n"
     ]
    },
    {
     "name": "stderr",
     "output_type": "stream",
     "text": [
      "C:\\Users\\hmirletz\\AppData\\Local\\Temp\\1\\ipykernel_3292\\3246415230.py:6: SettingWithCopyWarning: \n",
      "A value is trying to be set on a copy of a slice from a DataFrame\n",
      "\n",
      "See the caveats in the documentation: https://pandas.pydata.org/pandas-docs/stable/user_guide/indexing.html#returning-a-view-versus-a-copy\n",
      "  sim1.scenario[scen].dataIn_m['new_Installed_Capacity_[MW]'][row] += Under_Installment #overwrite new installed\n"
     ]
    },
    {
     "name": "stdout",
     "output_type": "stream",
     "text": [
      "Finished Area+Power Generation Calculations\n",
      "==> Working on Material :  glass\n",
      "==> Working on Material :  silicon\n",
      "==> Working on Material :  silver\n",
      "==> Working on Material :  aluminium_frames\n",
      "==> Working on Material :  copper\n",
      "==> Working on Material :  encapsulant\n",
      "==> Working on Material :  backsheet\n",
      "59\n",
      "PV_ICE\n",
      ">>>> Calculating Material Flows <<<<\n",
      "\n",
      "Working on Scenario:  PV_ICE\n",
      "********************\n"
     ]
    },
    {
     "name": "stderr",
     "output_type": "stream",
     "text": [
      "C:\\Users\\hmirletz\\AppData\\Local\\Temp\\1\\ipykernel_3292\\3246415230.py:6: SettingWithCopyWarning: \n",
      "A value is trying to be set on a copy of a slice from a DataFrame\n",
      "\n",
      "See the caveats in the documentation: https://pandas.pydata.org/pandas-docs/stable/user_guide/indexing.html#returning-a-view-versus-a-copy\n",
      "  sim1.scenario[scen].dataIn_m['new_Installed_Capacity_[MW]'][row] += Under_Installment #overwrite new installed\n"
     ]
    },
    {
     "name": "stdout",
     "output_type": "stream",
     "text": [
      "Finished Area+Power Generation Calculations\n",
      "==> Working on Material :  glass\n",
      "==> Working on Material :  silicon\n",
      "==> Working on Material :  silver\n",
      "==> Working on Material :  aluminium_frames\n",
      "==> Working on Material :  copper\n",
      "==> Working on Material :  encapsulant\n",
      "==> Working on Material :  backsheet\n",
      "circ_high\n",
      ">>>> Calculating Material Flows <<<<\n",
      "\n",
      "Working on Scenario:  circ_high\n",
      "********************\n"
     ]
    },
    {
     "name": "stderr",
     "output_type": "stream",
     "text": [
      "C:\\Users\\hmirletz\\AppData\\Local\\Temp\\1\\ipykernel_3292\\3246415230.py:6: SettingWithCopyWarning: \n",
      "A value is trying to be set on a copy of a slice from a DataFrame\n",
      "\n",
      "See the caveats in the documentation: https://pandas.pydata.org/pandas-docs/stable/user_guide/indexing.html#returning-a-view-versus-a-copy\n",
      "  sim1.scenario[scen].dataIn_m['new_Installed_Capacity_[MW]'][row] += Under_Installment #overwrite new installed\n"
     ]
    },
    {
     "name": "stdout",
     "output_type": "stream",
     "text": [
      "Finished Area+Power Generation Calculations\n",
      "==> Working on Material :  glass\n",
      "Recycled surplus End of Sim for Mat  glass  Scenario  circ_high  =  3161209910.5689354  tonnes.\n",
      "==> Working on Material :  silicon\n",
      "Recycled surplus End of Sim for Mat  silicon  Scenario  circ_high  =  104235758.12859832  tonnes.\n",
      "==> Working on Material :  silver\n",
      "Recycled surplus End of Sim for Mat  silver  Scenario  circ_high  =  585633.9891010947  tonnes.\n",
      "==> Working on Material :  aluminium_frames\n",
      "Recycled surplus End of Sim for Mat  aluminium_frames  Scenario  circ_high  =  357735405.107835  tonnes.\n",
      "==> Working on Material :  copper\n",
      "Recycled surplus End of Sim for Mat  copper  Scenario  circ_high  =  2149515.978349514  tonnes.\n",
      "==> Working on Material :  encapsulant\n",
      "Recycled surplus End of Sim for Mat  encapsulant  Scenario  circ_high  =  210311380.46317437  tonnes.\n",
      "==> Working on Material :  backsheet\n",
      "Recycled surplus End of Sim for Mat  backsheet  Scenario  circ_high  =  87909011.25213963  tonnes.\n",
      "circ_mid\n",
      ">>>> Calculating Material Flows <<<<\n",
      "\n",
      "Working on Scenario:  circ_mid\n",
      "********************\n"
     ]
    },
    {
     "name": "stderr",
     "output_type": "stream",
     "text": [
      "C:\\Users\\hmirletz\\AppData\\Local\\Temp\\1\\ipykernel_3292\\3246415230.py:6: SettingWithCopyWarning: \n",
      "A value is trying to be set on a copy of a slice from a DataFrame\n",
      "\n",
      "See the caveats in the documentation: https://pandas.pydata.org/pandas-docs/stable/user_guide/indexing.html#returning-a-view-versus-a-copy\n",
      "  sim1.scenario[scen].dataIn_m['new_Installed_Capacity_[MW]'][row] += Under_Installment #overwrite new installed\n"
     ]
    },
    {
     "name": "stdout",
     "output_type": "stream",
     "text": [
      "Finished Area+Power Generation Calculations\n",
      "==> Working on Material :  glass\n",
      "Recycled surplus End of Sim for Mat  glass  Scenario  circ_mid  =  524708333.23438686  tonnes.\n",
      "==> Working on Material :  silicon\n",
      "Recycled surplus End of Sim for Mat  silicon  Scenario  circ_mid  =  17296793.57432587  tonnes.\n",
      "==> Working on Material :  silver\n",
      "Recycled surplus End of Sim for Mat  silver  Scenario  circ_mid  =  97160.82773822549  tonnes.\n",
      "==> Working on Material :  aluminium_frames\n",
      "Recycled surplus End of Sim for Mat  aluminium_frames  Scenario  circ_mid  =  59372576.59975746  tonnes.\n",
      "==> Working on Material :  copper\n",
      "Recycled surplus End of Sim for Mat  copper  Scenario  circ_mid  =  356661.05922452285  tonnes.\n",
      "==> Working on Material :  encapsulant\n",
      "Recycled surplus End of Sim for Mat  encapsulant  Scenario  circ_mid  =  34880974.29071846  tonnes.\n",
      "==> Working on Material :  backsheet\n",
      "Recycled surplus End of Sim for Mat  backsheet  Scenario  circ_mid  =  14606796.240497598  tonnes.\n",
      "circ_low\n",
      ">>>> Calculating Material Flows <<<<\n",
      "\n",
      "Working on Scenario:  circ_low\n",
      "********************\n"
     ]
    },
    {
     "name": "stderr",
     "output_type": "stream",
     "text": [
      "C:\\Users\\hmirletz\\AppData\\Local\\Temp\\1\\ipykernel_3292\\3246415230.py:6: SettingWithCopyWarning: \n",
      "A value is trying to be set on a copy of a slice from a DataFrame\n",
      "\n",
      "See the caveats in the documentation: https://pandas.pydata.org/pandas-docs/stable/user_guide/indexing.html#returning-a-view-versus-a-copy\n",
      "  sim1.scenario[scen].dataIn_m['new_Installed_Capacity_[MW]'][row] += Under_Installment #overwrite new installed\n"
     ]
    },
    {
     "name": "stdout",
     "output_type": "stream",
     "text": [
      "Finished Area+Power Generation Calculations\n",
      "==> Working on Material :  glass\n",
      "==> Working on Material :  silicon\n",
      "==> Working on Material :  silver\n",
      "==> Working on Material :  aluminium_frames\n",
      "==> Working on Material :  copper\n",
      "==> Working on Material :  encapsulant\n",
      "==> Working on Material :  backsheet\n",
      "60\n",
      "PV_ICE\n",
      ">>>> Calculating Material Flows <<<<\n",
      "\n",
      "Working on Scenario:  PV_ICE\n",
      "********************\n"
     ]
    },
    {
     "name": "stderr",
     "output_type": "stream",
     "text": [
      "C:\\Users\\hmirletz\\AppData\\Local\\Temp\\1\\ipykernel_3292\\3246415230.py:6: SettingWithCopyWarning: \n",
      "A value is trying to be set on a copy of a slice from a DataFrame\n",
      "\n",
      "See the caveats in the documentation: https://pandas.pydata.org/pandas-docs/stable/user_guide/indexing.html#returning-a-view-versus-a-copy\n",
      "  sim1.scenario[scen].dataIn_m['new_Installed_Capacity_[MW]'][row] += Under_Installment #overwrite new installed\n"
     ]
    },
    {
     "name": "stdout",
     "output_type": "stream",
     "text": [
      "Finished Area+Power Generation Calculations\n",
      "==> Working on Material :  glass\n",
      "==> Working on Material :  silicon\n",
      "==> Working on Material :  silver\n",
      "==> Working on Material :  aluminium_frames\n",
      "==> Working on Material :  copper\n",
      "==> Working on Material :  encapsulant\n",
      "==> Working on Material :  backsheet\n",
      "circ_high\n",
      ">>>> Calculating Material Flows <<<<\n",
      "\n",
      "Working on Scenario:  circ_high\n",
      "********************\n"
     ]
    },
    {
     "name": "stderr",
     "output_type": "stream",
     "text": [
      "C:\\Users\\hmirletz\\AppData\\Local\\Temp\\1\\ipykernel_3292\\3246415230.py:6: SettingWithCopyWarning: \n",
      "A value is trying to be set on a copy of a slice from a DataFrame\n",
      "\n",
      "See the caveats in the documentation: https://pandas.pydata.org/pandas-docs/stable/user_guide/indexing.html#returning-a-view-versus-a-copy\n",
      "  sim1.scenario[scen].dataIn_m['new_Installed_Capacity_[MW]'][row] += Under_Installment #overwrite new installed\n"
     ]
    },
    {
     "name": "stdout",
     "output_type": "stream",
     "text": [
      "Finished Area+Power Generation Calculations\n",
      "==> Working on Material :  glass\n",
      "Recycled surplus End of Sim for Mat  glass  Scenario  circ_high  =  3180885815.8628216  tonnes.\n",
      "==> Working on Material :  silicon\n",
      "Recycled surplus End of Sim for Mat  silicon  Scenario  circ_high  =  104828164.82524592  tonnes.\n",
      "==> Working on Material :  silver\n",
      "Recycled surplus End of Sim for Mat  silver  Scenario  circ_high  =  588044.6004268441  tonnes.\n",
      "==> Working on Material :  aluminium_frames\n",
      "Recycled surplus End of Sim for Mat  aluminium_frames  Scenario  circ_high  =  359824289.52355015  tonnes.\n",
      "==> Working on Material :  copper\n",
      "Recycled surplus End of Sim for Mat  copper  Scenario  circ_high  =  2160356.4688913035  tonnes.\n",
      "==> Working on Material :  encapsulant\n",
      "Recycled surplus End of Sim for Mat  encapsulant  Scenario  circ_high  =  211531178.87541956  tonnes.\n",
      "==> Working on Material :  backsheet\n",
      "Recycled surplus End of Sim for Mat  backsheet  Scenario  circ_high  =  88269545.89969556  tonnes.\n",
      "circ_mid\n",
      ">>>> Calculating Material Flows <<<<\n",
      "\n",
      "Working on Scenario:  circ_mid\n",
      "********************\n"
     ]
    },
    {
     "name": "stderr",
     "output_type": "stream",
     "text": [
      "C:\\Users\\hmirletz\\AppData\\Local\\Temp\\1\\ipykernel_3292\\3246415230.py:6: SettingWithCopyWarning: \n",
      "A value is trying to be set on a copy of a slice from a DataFrame\n",
      "\n",
      "See the caveats in the documentation: https://pandas.pydata.org/pandas-docs/stable/user_guide/indexing.html#returning-a-view-versus-a-copy\n",
      "  sim1.scenario[scen].dataIn_m['new_Installed_Capacity_[MW]'][row] += Under_Installment #overwrite new installed\n"
     ]
    },
    {
     "name": "stdout",
     "output_type": "stream",
     "text": [
      "Finished Area+Power Generation Calculations\n",
      "==> Working on Material :  glass\n",
      "Recycled surplus End of Sim for Mat  glass  Scenario  circ_mid  =  532390207.3812081  tonnes.\n",
      "==> Working on Material :  silicon\n",
      "Recycled surplus End of Sim for Mat  silicon  Scenario  circ_mid  =  17549477.261403468  tonnes.\n",
      "==> Working on Material :  silver\n",
      "Recycled surplus End of Sim for Mat  silver  Scenario  circ_mid  =  98569.21622589714  tonnes.\n",
      "==> Working on Material :  aluminium_frames\n",
      "Recycled surplus End of Sim for Mat  aluminium_frames  Scenario  circ_mid  =  60240175.55157457  tonnes.\n",
      "==> Working on Material :  copper\n",
      "Recycled surplus End of Sim for Mat  copper  Scenario  circ_mid  =  361854.71363026276  tonnes.\n",
      "==> Working on Material :  encapsulant\n",
      "Recycled surplus End of Sim for Mat  encapsulant  Scenario  circ_mid  =  35391797.749490105  tonnes.\n",
      "==> Working on Material :  backsheet\n",
      "Recycled surplus End of Sim for Mat  backsheet  Scenario  circ_mid  =  14817512.0300407  tonnes.\n",
      "circ_low\n",
      ">>>> Calculating Material Flows <<<<\n",
      "\n",
      "Working on Scenario:  circ_low\n",
      "********************\n"
     ]
    },
    {
     "name": "stderr",
     "output_type": "stream",
     "text": [
      "C:\\Users\\hmirletz\\AppData\\Local\\Temp\\1\\ipykernel_3292\\3246415230.py:6: SettingWithCopyWarning: \n",
      "A value is trying to be set on a copy of a slice from a DataFrame\n",
      "\n",
      "See the caveats in the documentation: https://pandas.pydata.org/pandas-docs/stable/user_guide/indexing.html#returning-a-view-versus-a-copy\n",
      "  sim1.scenario[scen].dataIn_m['new_Installed_Capacity_[MW]'][row] += Under_Installment #overwrite new installed\n"
     ]
    },
    {
     "name": "stdout",
     "output_type": "stream",
     "text": [
      "Finished Area+Power Generation Calculations\n",
      "==> Working on Material :  glass\n",
      "==> Working on Material :  silicon\n",
      "==> Working on Material :  silver\n",
      "==> Working on Material :  aluminium_frames\n",
      "==> Working on Material :  copper\n",
      "==> Working on Material :  encapsulant\n",
      "==> Working on Material :  backsheet\n",
      "61\n",
      "PV_ICE\n",
      ">>>> Calculating Material Flows <<<<\n",
      "\n",
      "Working on Scenario:  PV_ICE\n",
      "********************\n"
     ]
    },
    {
     "name": "stderr",
     "output_type": "stream",
     "text": [
      "C:\\Users\\hmirletz\\AppData\\Local\\Temp\\1\\ipykernel_3292\\3246415230.py:6: SettingWithCopyWarning: \n",
      "A value is trying to be set on a copy of a slice from a DataFrame\n",
      "\n",
      "See the caveats in the documentation: https://pandas.pydata.org/pandas-docs/stable/user_guide/indexing.html#returning-a-view-versus-a-copy\n",
      "  sim1.scenario[scen].dataIn_m['new_Installed_Capacity_[MW]'][row] += Under_Installment #overwrite new installed\n"
     ]
    },
    {
     "name": "stdout",
     "output_type": "stream",
     "text": [
      "Finished Area+Power Generation Calculations\n",
      "==> Working on Material :  glass\n",
      "==> Working on Material :  silicon\n",
      "==> Working on Material :  silver\n",
      "==> Working on Material :  aluminium_frames\n",
      "==> Working on Material :  copper\n",
      "==> Working on Material :  encapsulant\n",
      "==> Working on Material :  backsheet\n",
      "circ_high\n",
      ">>>> Calculating Material Flows <<<<\n",
      "\n",
      "Working on Scenario:  circ_high\n",
      "********************\n"
     ]
    },
    {
     "name": "stderr",
     "output_type": "stream",
     "text": [
      "C:\\Users\\hmirletz\\AppData\\Local\\Temp\\1\\ipykernel_3292\\3246415230.py:6: SettingWithCopyWarning: \n",
      "A value is trying to be set on a copy of a slice from a DataFrame\n",
      "\n",
      "See the caveats in the documentation: https://pandas.pydata.org/pandas-docs/stable/user_guide/indexing.html#returning-a-view-versus-a-copy\n",
      "  sim1.scenario[scen].dataIn_m['new_Installed_Capacity_[MW]'][row] += Under_Installment #overwrite new installed\n"
     ]
    },
    {
     "name": "stdout",
     "output_type": "stream",
     "text": [
      "Finished Area+Power Generation Calculations\n",
      "==> Working on Material :  glass\n",
      "Recycled surplus End of Sim for Mat  glass  Scenario  circ_high  =  3200477911.0676184  tonnes.\n",
      "==> Working on Material :  silicon\n",
      "Recycled surplus End of Sim for Mat  silicon  Scenario  circ_high  =  105424114.46718764  tonnes.\n",
      "==> Working on Material :  silver\n",
      "Recycled surplus End of Sim for Mat  silver  Scenario  circ_high  =  590617.9217952703  tonnes.\n",
      "==> Working on Material :  aluminium_frames\n",
      "Recycled surplus End of Sim for Mat  aluminium_frames  Scenario  circ_high  =  361911204.6060303  tonnes.\n",
      "==> Working on Material :  copper\n",
      "Recycled surplus End of Sim for Mat  copper  Scenario  circ_high  =  2171457.4305810607  tonnes.\n",
      "==> Working on Material :  encapsulant\n",
      "Recycled surplus End of Sim for Mat  encapsulant  Scenario  circ_high  =  212780225.36896104  tonnes.\n",
      "==> Working on Material :  backsheet\n",
      "Recycled surplus End of Sim for Mat  backsheet  Scenario  circ_high  =  88645579.93173994  tonnes.\n",
      "circ_mid\n",
      ">>>> Calculating Material Flows <<<<\n",
      "\n",
      "Working on Scenario:  circ_mid\n",
      "********************\n"
     ]
    },
    {
     "name": "stderr",
     "output_type": "stream",
     "text": [
      "C:\\Users\\hmirletz\\AppData\\Local\\Temp\\1\\ipykernel_3292\\3246415230.py:6: SettingWithCopyWarning: \n",
      "A value is trying to be set on a copy of a slice from a DataFrame\n",
      "\n",
      "See the caveats in the documentation: https://pandas.pydata.org/pandas-docs/stable/user_guide/indexing.html#returning-a-view-versus-a-copy\n",
      "  sim1.scenario[scen].dataIn_m['new_Installed_Capacity_[MW]'][row] += Under_Installment #overwrite new installed\n"
     ]
    },
    {
     "name": "stdout",
     "output_type": "stream",
     "text": [
      "Finished Area+Power Generation Calculations\n",
      "==> Working on Material :  glass\n",
      "Recycled surplus End of Sim for Mat  glass  Scenario  circ_mid  =  540324285.2321125  tonnes.\n",
      "==> Working on Material :  silicon\n",
      "Recycled surplus End of Sim for Mat  silicon  Scenario  circ_mid  =  17810456.809702463  tonnes.\n",
      "==> Working on Material :  silver\n",
      "Recycled surplus End of Sim for Mat  silver  Scenario  circ_mid  =  100023.84353323575  tonnes.\n",
      "==> Working on Material :  aluminium_frames\n",
      "Recycled surplus End of Sim for Mat  aluminium_frames  Scenario  circ_mid  =  61136258.65519171  tonnes.\n",
      "==> Working on Material :  copper\n",
      "Recycled surplus End of Sim for Mat  copper  Scenario  circ_mid  =  367218.88096732897  tonnes.\n",
      "==> Working on Material :  encapsulant\n",
      "Recycled surplus End of Sim for Mat  encapsulant  Scenario  circ_mid  =  35919392.05948534  tonnes.\n",
      "==> Working on Material :  backsheet\n",
      "Recycled surplus End of Sim for Mat  backsheet  Scenario  circ_mid  =  15035145.832247877  tonnes.\n",
      "circ_low\n",
      ">>>> Calculating Material Flows <<<<\n",
      "\n",
      "Working on Scenario:  circ_low\n",
      "********************\n"
     ]
    },
    {
     "name": "stderr",
     "output_type": "stream",
     "text": [
      "C:\\Users\\hmirletz\\AppData\\Local\\Temp\\1\\ipykernel_3292\\3246415230.py:6: SettingWithCopyWarning: \n",
      "A value is trying to be set on a copy of a slice from a DataFrame\n",
      "\n",
      "See the caveats in the documentation: https://pandas.pydata.org/pandas-docs/stable/user_guide/indexing.html#returning-a-view-versus-a-copy\n",
      "  sim1.scenario[scen].dataIn_m['new_Installed_Capacity_[MW]'][row] += Under_Installment #overwrite new installed\n"
     ]
    },
    {
     "name": "stdout",
     "output_type": "stream",
     "text": [
      "Finished Area+Power Generation Calculations\n",
      "==> Working on Material :  glass\n",
      "==> Working on Material :  silicon\n",
      "==> Working on Material :  silver\n",
      "==> Working on Material :  aluminium_frames\n",
      "==> Working on Material :  copper\n",
      "==> Working on Material :  encapsulant\n",
      "==> Working on Material :  backsheet\n",
      "62\n",
      "PV_ICE\n",
      ">>>> Calculating Material Flows <<<<\n",
      "\n",
      "Working on Scenario:  PV_ICE\n",
      "********************\n"
     ]
    },
    {
     "name": "stderr",
     "output_type": "stream",
     "text": [
      "C:\\Users\\hmirletz\\AppData\\Local\\Temp\\1\\ipykernel_3292\\3246415230.py:6: SettingWithCopyWarning: \n",
      "A value is trying to be set on a copy of a slice from a DataFrame\n",
      "\n",
      "See the caveats in the documentation: https://pandas.pydata.org/pandas-docs/stable/user_guide/indexing.html#returning-a-view-versus-a-copy\n",
      "  sim1.scenario[scen].dataIn_m['new_Installed_Capacity_[MW]'][row] += Under_Installment #overwrite new installed\n"
     ]
    },
    {
     "name": "stdout",
     "output_type": "stream",
     "text": [
      "Finished Area+Power Generation Calculations\n",
      "==> Working on Material :  glass\n",
      "==> Working on Material :  silicon\n",
      "==> Working on Material :  silver\n",
      "==> Working on Material :  aluminium_frames\n",
      "==> Working on Material :  copper\n",
      "==> Working on Material :  encapsulant\n",
      "==> Working on Material :  backsheet\n",
      "circ_high\n",
      ">>>> Calculating Material Flows <<<<\n",
      "\n",
      "Working on Scenario:  circ_high\n",
      "********************\n"
     ]
    },
    {
     "name": "stderr",
     "output_type": "stream",
     "text": [
      "C:\\Users\\hmirletz\\AppData\\Local\\Temp\\1\\ipykernel_3292\\3246415230.py:6: SettingWithCopyWarning: \n",
      "A value is trying to be set on a copy of a slice from a DataFrame\n",
      "\n",
      "See the caveats in the documentation: https://pandas.pydata.org/pandas-docs/stable/user_guide/indexing.html#returning-a-view-versus-a-copy\n",
      "  sim1.scenario[scen].dataIn_m['new_Installed_Capacity_[MW]'][row] += Under_Installment #overwrite new installed\n"
     ]
    },
    {
     "name": "stdout",
     "output_type": "stream",
     "text": [
      "Finished Area+Power Generation Calculations\n",
      "==> Working on Material :  glass\n",
      "Recycled surplus End of Sim for Mat  glass  Scenario  circ_high  =  3213364918.3037395  tonnes.\n",
      "==> Working on Material :  silicon\n",
      "Recycled surplus End of Sim for Mat  silicon  Scenario  circ_high  =  105764716.64868635  tonnes.\n",
      "==> Working on Material :  silver\n",
      "Recycled surplus End of Sim for Mat  silver  Scenario  circ_high  =  591109.5194818717  tonnes.\n",
      "==> Working on Material :  aluminium_frames\n",
      "Recycled surplus End of Sim for Mat  aluminium_frames  Scenario  circ_high  =  363145046.2009012  tonnes.\n",
      "==> Working on Material :  copper\n",
      "Recycled surplus End of Sim for Mat  copper  Scenario  circ_high  =  2176266.0539972535  tonnes.\n",
      "==> Working on Material :  encapsulant\n",
      "Recycled surplus End of Sim for Mat  encapsulant  Scenario  circ_high  =  213577083.50659513  tonnes.\n",
      "==> Working on Material :  backsheet\n",
      "Recycled surplus End of Sim for Mat  backsheet  Scenario  circ_high  =  88685426.03433602  tonnes.\n",
      "circ_mid\n",
      ">>>> Calculating Material Flows <<<<\n",
      "\n",
      "Working on Scenario:  circ_mid\n",
      "********************\n"
     ]
    },
    {
     "name": "stderr",
     "output_type": "stream",
     "text": [
      "C:\\Users\\hmirletz\\AppData\\Local\\Temp\\1\\ipykernel_3292\\3246415230.py:6: SettingWithCopyWarning: \n",
      "A value is trying to be set on a copy of a slice from a DataFrame\n",
      "\n",
      "See the caveats in the documentation: https://pandas.pydata.org/pandas-docs/stable/user_guide/indexing.html#returning-a-view-versus-a-copy\n",
      "  sim1.scenario[scen].dataIn_m['new_Installed_Capacity_[MW]'][row] += Under_Installment #overwrite new installed\n"
     ]
    },
    {
     "name": "stdout",
     "output_type": "stream",
     "text": [
      "Finished Area+Power Generation Calculations\n",
      "==> Working on Material :  glass\n",
      "Recycled surplus End of Sim for Mat  glass  Scenario  circ_mid  =  550207452.2343423  tonnes.\n",
      "==> Working on Material :  silicon\n",
      "Recycled surplus End of Sim for Mat  silicon  Scenario  circ_mid  =  18114724.58090008  tonnes.\n",
      "==> Working on Material :  silver\n",
      "Recycled surplus End of Sim for Mat  silver  Scenario  circ_mid  =  101368.04133733685  tonnes.\n",
      "==> Working on Material :  aluminium_frames\n",
      "Recycled surplus End of Sim for Mat  aluminium_frames  Scenario  circ_mid  =  62197066.297404714  tonnes.\n",
      "==> Working on Material :  copper\n",
      "Recycled surplus End of Sim for Mat  copper  Scenario  circ_mid  =  372924.7669926064  tonnes.\n",
      "==> Working on Material :  encapsulant\n",
      "Recycled surplus End of Sim for Mat  encapsulant  Scenario  circ_mid  =  36561572.344733715  tonnes.\n",
      "==> Working on Material :  backsheet\n",
      "Recycled surplus End of Sim for Mat  backsheet  Scenario  circ_mid  =  15227831.695094012  tonnes.\n",
      "circ_low\n",
      ">>>> Calculating Material Flows <<<<\n",
      "\n",
      "Working on Scenario:  circ_low\n",
      "********************\n"
     ]
    },
    {
     "name": "stderr",
     "output_type": "stream",
     "text": [
      "C:\\Users\\hmirletz\\AppData\\Local\\Temp\\1\\ipykernel_3292\\3246415230.py:6: SettingWithCopyWarning: \n",
      "A value is trying to be set on a copy of a slice from a DataFrame\n",
      "\n",
      "See the caveats in the documentation: https://pandas.pydata.org/pandas-docs/stable/user_guide/indexing.html#returning-a-view-versus-a-copy\n",
      "  sim1.scenario[scen].dataIn_m['new_Installed_Capacity_[MW]'][row] += Under_Installment #overwrite new installed\n"
     ]
    },
    {
     "name": "stdout",
     "output_type": "stream",
     "text": [
      "Finished Area+Power Generation Calculations\n",
      "==> Working on Material :  glass\n",
      "==> Working on Material :  silicon\n",
      "==> Working on Material :  silver\n",
      "==> Working on Material :  aluminium_frames\n",
      "==> Working on Material :  copper\n",
      "==> Working on Material :  encapsulant\n",
      "==> Working on Material :  backsheet\n",
      "63\n",
      "PV_ICE\n",
      ">>>> Calculating Material Flows <<<<\n",
      "\n",
      "Working on Scenario:  PV_ICE\n",
      "********************\n"
     ]
    },
    {
     "name": "stderr",
     "output_type": "stream",
     "text": [
      "C:\\Users\\hmirletz\\AppData\\Local\\Temp\\1\\ipykernel_3292\\3246415230.py:6: SettingWithCopyWarning: \n",
      "A value is trying to be set on a copy of a slice from a DataFrame\n",
      "\n",
      "See the caveats in the documentation: https://pandas.pydata.org/pandas-docs/stable/user_guide/indexing.html#returning-a-view-versus-a-copy\n",
      "  sim1.scenario[scen].dataIn_m['new_Installed_Capacity_[MW]'][row] += Under_Installment #overwrite new installed\n"
     ]
    },
    {
     "name": "stdout",
     "output_type": "stream",
     "text": [
      "Finished Area+Power Generation Calculations\n",
      "==> Working on Material :  glass\n",
      "==> Working on Material :  silicon\n",
      "==> Working on Material :  silver\n",
      "==> Working on Material :  aluminium_frames\n",
      "==> Working on Material :  copper\n",
      "==> Working on Material :  encapsulant\n",
      "==> Working on Material :  backsheet\n",
      "circ_high\n",
      ">>>> Calculating Material Flows <<<<\n",
      "\n",
      "Working on Scenario:  circ_high\n",
      "********************\n"
     ]
    },
    {
     "name": "stderr",
     "output_type": "stream",
     "text": [
      "C:\\Users\\hmirletz\\AppData\\Local\\Temp\\1\\ipykernel_3292\\3246415230.py:6: SettingWithCopyWarning: \n",
      "A value is trying to be set on a copy of a slice from a DataFrame\n",
      "\n",
      "See the caveats in the documentation: https://pandas.pydata.org/pandas-docs/stable/user_guide/indexing.html#returning-a-view-versus-a-copy\n",
      "  sim1.scenario[scen].dataIn_m['new_Installed_Capacity_[MW]'][row] += Under_Installment #overwrite new installed\n"
     ]
    },
    {
     "name": "stdout",
     "output_type": "stream",
     "text": [
      "Finished Area+Power Generation Calculations\n",
      "==> Working on Material :  glass\n",
      "Recycled surplus End of Sim for Mat  glass  Scenario  circ_high  =  3224276117.0574393  tonnes.\n",
      "==> Working on Material :  silicon\n",
      "Recycled surplus End of Sim for Mat  silicon  Scenario  circ_high  =  106072112.84309636  tonnes.\n",
      "==> Working on Material :  silver\n",
      "Recycled surplus End of Sim for Mat  silver  Scenario  circ_high  =  591747.0710837702  tonnes.\n",
      "==> Working on Material :  aluminium_frames\n",
      "Recycled surplus End of Sim for Mat  aluminium_frames  Scenario  circ_high  =  364229434.64980394  tonnes.\n",
      "==> Working on Material :  copper\n",
      "Recycled surplus End of Sim for Mat  copper  Scenario  circ_high  =  2180891.533722879  tonnes.\n",
      "==> Working on Material :  encapsulant\n",
      "Recycled surplus End of Sim for Mat  encapsulant  Scenario  circ_high  =  214325096.8655666  tonnes.\n",
      "==> Working on Material :  backsheet\n",
      "Recycled surplus End of Sim for Mat  backsheet  Scenario  circ_high  =  88721504.03642517  tonnes.\n",
      "circ_mid\n",
      ">>>> Calculating Material Flows <<<<\n",
      "\n",
      "Working on Scenario:  circ_mid\n",
      "********************\n"
     ]
    },
    {
     "name": "stderr",
     "output_type": "stream",
     "text": [
      "C:\\Users\\hmirletz\\AppData\\Local\\Temp\\1\\ipykernel_3292\\3246415230.py:6: SettingWithCopyWarning: \n",
      "A value is trying to be set on a copy of a slice from a DataFrame\n",
      "\n",
      "See the caveats in the documentation: https://pandas.pydata.org/pandas-docs/stable/user_guide/indexing.html#returning-a-view-versus-a-copy\n",
      "  sim1.scenario[scen].dataIn_m['new_Installed_Capacity_[MW]'][row] += Under_Installment #overwrite new installed\n"
     ]
    },
    {
     "name": "stdout",
     "output_type": "stream",
     "text": [
      "Finished Area+Power Generation Calculations\n",
      "==> Working on Material :  glass\n",
      "Recycled surplus End of Sim for Mat  glass  Scenario  circ_mid  =  559596667.1159673  tonnes.\n",
      "==> Working on Material :  silicon\n",
      "Recycled surplus End of Sim for Mat  silicon  Scenario  circ_mid  =  18410690.855325513  tonnes.\n",
      "==> Working on Material :  silver\n",
      "Recycled surplus End of Sim for Mat  silver  Scenario  circ_mid  =  102748.72762026229  tonnes.\n",
      "==> Working on Material :  aluminium_frames\n",
      "Recycled surplus End of Sim for Mat  aluminium_frames  Scenario  circ_mid  =  63220510.65312568  tonnes.\n",
      "==> Working on Material :  copper\n",
      "Recycled surplus End of Sim for Mat  copper  Scenario  circ_mid  =  378584.86709524185  tonnes.\n",
      "==> Working on Material :  encapsulant\n",
      "Recycled surplus End of Sim for Mat  encapsulant  Scenario  circ_mid  =  37191541.43531648  tonnes.\n",
      "==> Working on Material :  backsheet\n",
      "Recycled surplus End of Sim for Mat  backsheet  Scenario  circ_mid  =  15419575.53281339  tonnes.\n",
      "circ_low\n",
      ">>>> Calculating Material Flows <<<<\n",
      "\n",
      "Working on Scenario:  circ_low\n",
      "********************\n"
     ]
    },
    {
     "name": "stderr",
     "output_type": "stream",
     "text": [
      "C:\\Users\\hmirletz\\AppData\\Local\\Temp\\1\\ipykernel_3292\\3246415230.py:6: SettingWithCopyWarning: \n",
      "A value is trying to be set on a copy of a slice from a DataFrame\n",
      "\n",
      "See the caveats in the documentation: https://pandas.pydata.org/pandas-docs/stable/user_guide/indexing.html#returning-a-view-versus-a-copy\n",
      "  sim1.scenario[scen].dataIn_m['new_Installed_Capacity_[MW]'][row] += Under_Installment #overwrite new installed\n"
     ]
    },
    {
     "name": "stdout",
     "output_type": "stream",
     "text": [
      "Finished Area+Power Generation Calculations\n",
      "==> Working on Material :  glass\n",
      "==> Working on Material :  silicon\n",
      "==> Working on Material :  silver\n",
      "==> Working on Material :  aluminium_frames\n",
      "==> Working on Material :  copper\n",
      "==> Working on Material :  encapsulant\n",
      "==> Working on Material :  backsheet\n",
      "64\n",
      "PV_ICE\n",
      ">>>> Calculating Material Flows <<<<\n",
      "\n",
      "Working on Scenario:  PV_ICE\n",
      "********************\n"
     ]
    },
    {
     "name": "stderr",
     "output_type": "stream",
     "text": [
      "C:\\Users\\hmirletz\\AppData\\Local\\Temp\\1\\ipykernel_3292\\3246415230.py:6: SettingWithCopyWarning: \n",
      "A value is trying to be set on a copy of a slice from a DataFrame\n",
      "\n",
      "See the caveats in the documentation: https://pandas.pydata.org/pandas-docs/stable/user_guide/indexing.html#returning-a-view-versus-a-copy\n",
      "  sim1.scenario[scen].dataIn_m['new_Installed_Capacity_[MW]'][row] += Under_Installment #overwrite new installed\n"
     ]
    },
    {
     "name": "stdout",
     "output_type": "stream",
     "text": [
      "Finished Area+Power Generation Calculations\n",
      "==> Working on Material :  glass\n",
      "==> Working on Material :  silicon\n",
      "==> Working on Material :  silver\n",
      "==> Working on Material :  aluminium_frames\n",
      "==> Working on Material :  copper\n",
      "==> Working on Material :  encapsulant\n",
      "==> Working on Material :  backsheet\n",
      "circ_high\n",
      ">>>> Calculating Material Flows <<<<\n",
      "\n",
      "Working on Scenario:  circ_high\n",
      "********************\n"
     ]
    },
    {
     "name": "stderr",
     "output_type": "stream",
     "text": [
      "C:\\Users\\hmirletz\\AppData\\Local\\Temp\\1\\ipykernel_3292\\3246415230.py:6: SettingWithCopyWarning: \n",
      "A value is trying to be set on a copy of a slice from a DataFrame\n",
      "\n",
      "See the caveats in the documentation: https://pandas.pydata.org/pandas-docs/stable/user_guide/indexing.html#returning-a-view-versus-a-copy\n",
      "  sim1.scenario[scen].dataIn_m['new_Installed_Capacity_[MW]'][row] += Under_Installment #overwrite new installed\n"
     ]
    },
    {
     "name": "stdout",
     "output_type": "stream",
     "text": [
      "Finished Area+Power Generation Calculations\n",
      "==> Working on Material :  glass\n",
      "Recycled surplus End of Sim for Mat  glass  Scenario  circ_high  =  3233159691.4400015  tonnes.\n",
      "==> Working on Material :  silicon\n",
      "Recycled surplus End of Sim for Mat  silicon  Scenario  circ_high  =  106355022.30992965  tonnes.\n",
      "==> Working on Material :  silver\n",
      "Recycled surplus End of Sim for Mat  silver  Scenario  circ_high  =  592712.4385074496  tonnes.\n",
      "==> Working on Material :  aluminium_frames\n",
      "Recycled surplus End of Sim for Mat  aluminium_frames  Scenario  circ_high  =  365183516.62116724  tonnes.\n",
      "==> Working on Material :  copper\n",
      "Recycled surplus End of Sim for Mat  copper  Scenario  circ_high  =  2185720.4844666948  tonnes.\n",
      "==> Working on Material :  encapsulant\n",
      "Recycled surplus End of Sim for Mat  encapsulant  Scenario  circ_high  =  214967588.90801114  tonnes.\n",
      "==> Working on Material :  backsheet\n",
      "Recycled surplus End of Sim for Mat  backsheet  Scenario  circ_high  =  88785433.40861087  tonnes.\n",
      "circ_mid\n",
      ">>>> Calculating Material Flows <<<<\n",
      "\n",
      "Working on Scenario:  circ_mid\n",
      "********************\n"
     ]
    },
    {
     "name": "stderr",
     "output_type": "stream",
     "text": [
      "C:\\Users\\hmirletz\\AppData\\Local\\Temp\\1\\ipykernel_3292\\3246415230.py:6: SettingWithCopyWarning: \n",
      "A value is trying to be set on a copy of a slice from a DataFrame\n",
      "\n",
      "See the caveats in the documentation: https://pandas.pydata.org/pandas-docs/stable/user_guide/indexing.html#returning-a-view-versus-a-copy\n",
      "  sim1.scenario[scen].dataIn_m['new_Installed_Capacity_[MW]'][row] += Under_Installment #overwrite new installed\n"
     ]
    },
    {
     "name": "stdout",
     "output_type": "stream",
     "text": [
      "Finished Area+Power Generation Calculations\n",
      "==> Working on Material :  glass\n",
      "Recycled surplus End of Sim for Mat  glass  Scenario  circ_mid  =  568478975.9048082  tonnes.\n",
      "==> Working on Material :  silicon\n",
      "Recycled surplus End of Sim for Mat  silicon  Scenario  circ_mid  =  18700535.44785677  tonnes.\n",
      "==> Working on Material :  silver\n",
      "Recycled surplus End of Sim for Mat  silver  Scenario  circ_mid  =  104211.3678586329  tonnes.\n",
      "==> Working on Material :  aluminium_frames\n",
      "Recycled surplus End of Sim for Mat  aluminium_frames  Scenario  circ_mid  =  64211378.38946176  tonnes.\n",
      "==> Working on Material :  copper\n",
      "Recycled surplus End of Sim for Mat  copper  Scenario  circ_mid  =  384295.83495242486  tonnes.\n",
      "==> Working on Material :  encapsulant\n",
      "Recycled surplus End of Sim for Mat  encapsulant  Scenario  circ_mid  =  37795130.196767464  tonnes.\n",
      "==> Working on Material :  backsheet\n",
      "Recycled surplus End of Sim for Mat  backsheet  Scenario  circ_mid  =  15618282.213056928  tonnes.\n",
      "circ_low\n",
      ">>>> Calculating Material Flows <<<<\n",
      "\n",
      "Working on Scenario:  circ_low\n",
      "********************\n"
     ]
    },
    {
     "name": "stderr",
     "output_type": "stream",
     "text": [
      "C:\\Users\\hmirletz\\AppData\\Local\\Temp\\1\\ipykernel_3292\\3246415230.py:6: SettingWithCopyWarning: \n",
      "A value is trying to be set on a copy of a slice from a DataFrame\n",
      "\n",
      "See the caveats in the documentation: https://pandas.pydata.org/pandas-docs/stable/user_guide/indexing.html#returning-a-view-versus-a-copy\n",
      "  sim1.scenario[scen].dataIn_m['new_Installed_Capacity_[MW]'][row] += Under_Installment #overwrite new installed\n"
     ]
    },
    {
     "name": "stdout",
     "output_type": "stream",
     "text": [
      "Finished Area+Power Generation Calculations\n",
      "==> Working on Material :  glass\n",
      "==> Working on Material :  silicon\n",
      "==> Working on Material :  silver\n",
      "==> Working on Material :  aluminium_frames\n",
      "==> Working on Material :  copper\n",
      "==> Working on Material :  encapsulant\n",
      "==> Working on Material :  backsheet\n",
      "65\n",
      "PV_ICE\n",
      ">>>> Calculating Material Flows <<<<\n",
      "\n",
      "Working on Scenario:  PV_ICE\n",
      "********************\n"
     ]
    },
    {
     "name": "stderr",
     "output_type": "stream",
     "text": [
      "C:\\Users\\hmirletz\\AppData\\Local\\Temp\\1\\ipykernel_3292\\3246415230.py:6: SettingWithCopyWarning: \n",
      "A value is trying to be set on a copy of a slice from a DataFrame\n",
      "\n",
      "See the caveats in the documentation: https://pandas.pydata.org/pandas-docs/stable/user_guide/indexing.html#returning-a-view-versus-a-copy\n",
      "  sim1.scenario[scen].dataIn_m['new_Installed_Capacity_[MW]'][row] += Under_Installment #overwrite new installed\n"
     ]
    },
    {
     "name": "stdout",
     "output_type": "stream",
     "text": [
      "Finished Area+Power Generation Calculations\n",
      "==> Working on Material :  glass\n",
      "==> Working on Material :  silicon\n",
      "==> Working on Material :  silver\n",
      "==> Working on Material :  aluminium_frames\n",
      "==> Working on Material :  copper\n",
      "==> Working on Material :  encapsulant\n",
      "==> Working on Material :  backsheet\n",
      "circ_high\n",
      ">>>> Calculating Material Flows <<<<\n",
      "\n",
      "Working on Scenario:  circ_high\n",
      "********************\n"
     ]
    },
    {
     "name": "stderr",
     "output_type": "stream",
     "text": [
      "C:\\Users\\hmirletz\\AppData\\Local\\Temp\\1\\ipykernel_3292\\3246415230.py:6: SettingWithCopyWarning: \n",
      "A value is trying to be set on a copy of a slice from a DataFrame\n",
      "\n",
      "See the caveats in the documentation: https://pandas.pydata.org/pandas-docs/stable/user_guide/indexing.html#returning-a-view-versus-a-copy\n",
      "  sim1.scenario[scen].dataIn_m['new_Installed_Capacity_[MW]'][row] += Under_Installment #overwrite new installed\n"
     ]
    },
    {
     "name": "stdout",
     "output_type": "stream",
     "text": [
      "Finished Area+Power Generation Calculations\n",
      "==> Working on Material :  glass\n",
      "Recycled surplus End of Sim for Mat  glass  Scenario  circ_high  =  3242505656.2274404  tonnes.\n",
      "==> Working on Material :  silicon\n",
      "Recycled surplus End of Sim for Mat  silicon  Scenario  circ_high  =  106657342.84706168  tonnes.\n",
      "==> Working on Material :  silver\n",
      "Recycled surplus End of Sim for Mat  silver  Scenario  circ_high  =  594478.3200243704  tonnes.\n",
      "==> Working on Material :  aluminium_frames\n",
      "Recycled surplus End of Sim for Mat  aluminium_frames  Scenario  circ_high  =  366212001.7636639  tonnes.\n",
      "==> Working on Material :  copper\n",
      "Recycled surplus End of Sim for Mat  copper  Scenario  circ_high  =  2192232.450732148  tonnes.\n",
      "==> Working on Material :  encapsulant\n",
      "Recycled surplus End of Sim for Mat  encapsulant  Scenario  circ_high  =  215617689.47829115  tonnes.\n",
      "==> Working on Material :  backsheet\n",
      "Recycled surplus End of Sim for Mat  backsheet  Scenario  circ_high  =  88942766.62065046  tonnes.\n",
      "circ_mid\n",
      ">>>> Calculating Material Flows <<<<\n",
      "\n",
      "Working on Scenario:  circ_mid\n",
      "********************\n"
     ]
    },
    {
     "name": "stderr",
     "output_type": "stream",
     "text": [
      "C:\\Users\\hmirletz\\AppData\\Local\\Temp\\1\\ipykernel_3292\\3246415230.py:6: SettingWithCopyWarning: \n",
      "A value is trying to be set on a copy of a slice from a DataFrame\n",
      "\n",
      "See the caveats in the documentation: https://pandas.pydata.org/pandas-docs/stable/user_guide/indexing.html#returning-a-view-versus-a-copy\n",
      "  sim1.scenario[scen].dataIn_m['new_Installed_Capacity_[MW]'][row] += Under_Installment #overwrite new installed\n"
     ]
    },
    {
     "name": "stdout",
     "output_type": "stream",
     "text": [
      "Finished Area+Power Generation Calculations\n",
      "==> Working on Material :  glass\n",
      "Recycled surplus End of Sim for Mat  glass  Scenario  circ_mid  =  577476882.294868  tonnes.\n",
      "==> Working on Material :  silicon\n",
      "Recycled surplus End of Sim for Mat  silicon  Scenario  circ_mid  =  18995232.8079627  tonnes.\n",
      "==> Working on Material :  silver\n",
      "Recycled surplus End of Sim for Mat  silver  Scenario  circ_mid  =  105874.13662031395  tonnes.\n",
      "==> Working on Material :  aluminium_frames\n",
      "Recycled surplus End of Sim for Mat  aluminium_frames  Scenario  circ_mid  =  65220846.918581195  tonnes.\n",
      "==> Working on Material :  copper\n",
      "Recycled surplus End of Sim for Mat  copper  Scenario  circ_mid  =  390427.55669001746  tonnes.\n",
      "==> Working on Material :  encapsulant\n",
      "Recycled surplus End of Sim for Mat  encapsulant  Scenario  circ_mid  =  38400621.09017735  tonnes.\n",
      "==> Working on Material :  backsheet\n",
      "Recycled surplus End of Sim for Mat  backsheet  Scenario  circ_mid  =  15840339.853263928  tonnes.\n",
      "circ_low\n",
      ">>>> Calculating Material Flows <<<<\n",
      "\n",
      "Working on Scenario:  circ_low\n",
      "********************\n"
     ]
    },
    {
     "name": "stderr",
     "output_type": "stream",
     "text": [
      "C:\\Users\\hmirletz\\AppData\\Local\\Temp\\1\\ipykernel_3292\\3246415230.py:6: SettingWithCopyWarning: \n",
      "A value is trying to be set on a copy of a slice from a DataFrame\n",
      "\n",
      "See the caveats in the documentation: https://pandas.pydata.org/pandas-docs/stable/user_guide/indexing.html#returning-a-view-versus-a-copy\n",
      "  sim1.scenario[scen].dataIn_m['new_Installed_Capacity_[MW]'][row] += Under_Installment #overwrite new installed\n"
     ]
    },
    {
     "name": "stdout",
     "output_type": "stream",
     "text": [
      "Finished Area+Power Generation Calculations\n",
      "==> Working on Material :  glass\n",
      "==> Working on Material :  silicon\n",
      "==> Working on Material :  silver\n",
      "==> Working on Material :  aluminium_frames\n",
      "==> Working on Material :  copper\n",
      "==> Working on Material :  encapsulant\n",
      "==> Working on Material :  backsheet\n",
      "66\n",
      "PV_ICE\n",
      ">>>> Calculating Material Flows <<<<\n",
      "\n",
      "Working on Scenario:  PV_ICE\n",
      "********************\n"
     ]
    },
    {
     "name": "stderr",
     "output_type": "stream",
     "text": [
      "C:\\Users\\hmirletz\\AppData\\Local\\Temp\\1\\ipykernel_3292\\3246415230.py:6: SettingWithCopyWarning: \n",
      "A value is trying to be set on a copy of a slice from a DataFrame\n",
      "\n",
      "See the caveats in the documentation: https://pandas.pydata.org/pandas-docs/stable/user_guide/indexing.html#returning-a-view-versus-a-copy\n",
      "  sim1.scenario[scen].dataIn_m['new_Installed_Capacity_[MW]'][row] += Under_Installment #overwrite new installed\n"
     ]
    },
    {
     "name": "stdout",
     "output_type": "stream",
     "text": [
      "Finished Area+Power Generation Calculations\n",
      "==> Working on Material :  glass\n",
      "==> Working on Material :  silicon\n",
      "==> Working on Material :  silver\n",
      "==> Working on Material :  aluminium_frames\n",
      "==> Working on Material :  copper\n",
      "==> Working on Material :  encapsulant\n",
      "==> Working on Material :  backsheet\n",
      "circ_high\n",
      ">>>> Calculating Material Flows <<<<\n",
      "\n",
      "Working on Scenario:  circ_high\n",
      "********************\n"
     ]
    },
    {
     "name": "stderr",
     "output_type": "stream",
     "text": [
      "C:\\Users\\hmirletz\\AppData\\Local\\Temp\\1\\ipykernel_3292\\3246415230.py:6: SettingWithCopyWarning: \n",
      "A value is trying to be set on a copy of a slice from a DataFrame\n",
      "\n",
      "See the caveats in the documentation: https://pandas.pydata.org/pandas-docs/stable/user_guide/indexing.html#returning-a-view-versus-a-copy\n",
      "  sim1.scenario[scen].dataIn_m['new_Installed_Capacity_[MW]'][row] += Under_Installment #overwrite new installed\n"
     ]
    },
    {
     "name": "stdout",
     "output_type": "stream",
     "text": [
      "Finished Area+Power Generation Calculations\n",
      "==> Working on Material :  glass\n",
      "Recycled surplus End of Sim for Mat  glass  Scenario  circ_high  =  3180084591.6749086  tonnes.\n",
      "==> Working on Material :  silicon\n",
      "Recycled surplus End of Sim for Mat  silicon  Scenario  circ_high  =  104604095.8866218  tonnes.\n",
      "==> Working on Material :  silver\n",
      "Recycled surplus End of Sim for Mat  silver  Scenario  circ_high  =  583034.0933911637  tonnes.\n",
      "==> Working on Material :  aluminium_frames\n",
      "Recycled surplus End of Sim for Mat  aluminium_frames  Scenario  circ_high  =  359162101.0308466  tonnes.\n",
      "==> Working on Material :  copper\n",
      "Recycled surplus End of Sim for Mat  copper  Scenario  circ_high  =  2150030.062261832  tonnes.\n",
      "==> Working on Material :  encapsulant\n",
      "Recycled surplus End of Sim for Mat  encapsulant  Scenario  circ_high  =  211466860.72407037  tonnes.\n",
      "==> Working on Material :  backsheet\n",
      "Recycled surplus End of Sim for Mat  backsheet  Scenario  circ_high  =  87230540.71719038  tonnes.\n",
      "circ_mid\n",
      ">>>> Calculating Material Flows <<<<\n",
      "\n",
      "Working on Scenario:  circ_mid\n",
      "********************\n"
     ]
    },
    {
     "name": "stderr",
     "output_type": "stream",
     "text": [
      "C:\\Users\\hmirletz\\AppData\\Local\\Temp\\1\\ipykernel_3292\\3246415230.py:6: SettingWithCopyWarning: \n",
      "A value is trying to be set on a copy of a slice from a DataFrame\n",
      "\n",
      "See the caveats in the documentation: https://pandas.pydata.org/pandas-docs/stable/user_guide/indexing.html#returning-a-view-versus-a-copy\n",
      "  sim1.scenario[scen].dataIn_m['new_Installed_Capacity_[MW]'][row] += Under_Installment #overwrite new installed\n"
     ]
    },
    {
     "name": "stdout",
     "output_type": "stream",
     "text": [
      "Finished Area+Power Generation Calculations\n",
      "==> Working on Material :  glass\n",
      "Recycled surplus End of Sim for Mat  glass  Scenario  circ_mid  =  568533031.3499345  tonnes.\n",
      "==> Working on Material :  silicon\n",
      "Recycled surplus End of Sim for Mat  silicon  Scenario  circ_mid  =  18701038.293675676  tonnes.\n",
      "==> Working on Material :  silver\n",
      "Recycled surplus End of Sim for Mat  silver  Scenario  circ_mid  =  104234.37834446304  tonnes.\n",
      "==> Working on Material :  aluminium_frames\n",
      "Recycled surplus End of Sim for Mat  aluminium_frames  Scenario  circ_mid  =  64210718.978872165  tonnes.\n",
      "==> Working on Material :  copper\n",
      "Recycled surplus End of Sim for Mat  copper  Scenario  circ_mid  =  384380.6897436675  tonnes.\n",
      "==> Working on Material :  encapsulant\n",
      "Recycled surplus End of Sim for Mat  encapsulant  Scenario  circ_mid  =  37805879.65246202  tonnes.\n",
      "==> Working on Material :  backsheet\n",
      "Recycled surplus End of Sim for Mat  backsheet  Scenario  circ_mid  =  15595007.71459602  tonnes.\n",
      "circ_low\n",
      ">>>> Calculating Material Flows <<<<\n",
      "\n",
      "Working on Scenario:  circ_low\n",
      "********************\n"
     ]
    },
    {
     "name": "stderr",
     "output_type": "stream",
     "text": [
      "C:\\Users\\hmirletz\\AppData\\Local\\Temp\\1\\ipykernel_3292\\3246415230.py:6: SettingWithCopyWarning: \n",
      "A value is trying to be set on a copy of a slice from a DataFrame\n",
      "\n",
      "See the caveats in the documentation: https://pandas.pydata.org/pandas-docs/stable/user_guide/indexing.html#returning-a-view-versus-a-copy\n",
      "  sim1.scenario[scen].dataIn_m['new_Installed_Capacity_[MW]'][row] += Under_Installment #overwrite new installed\n"
     ]
    },
    {
     "name": "stdout",
     "output_type": "stream",
     "text": [
      "Finished Area+Power Generation Calculations\n",
      "==> Working on Material :  glass\n",
      "==> Working on Material :  silicon\n",
      "==> Working on Material :  silver\n",
      "==> Working on Material :  aluminium_frames\n",
      "==> Working on Material :  copper\n",
      "==> Working on Material :  encapsulant\n",
      "==> Working on Material :  backsheet\n",
      "67\n",
      "PV_ICE\n",
      ">>>> Calculating Material Flows <<<<\n",
      "\n",
      "Working on Scenario:  PV_ICE\n",
      "********************\n"
     ]
    },
    {
     "name": "stderr",
     "output_type": "stream",
     "text": [
      "C:\\Users\\hmirletz\\AppData\\Local\\Temp\\1\\ipykernel_3292\\3246415230.py:6: SettingWithCopyWarning: \n",
      "A value is trying to be set on a copy of a slice from a DataFrame\n",
      "\n",
      "See the caveats in the documentation: https://pandas.pydata.org/pandas-docs/stable/user_guide/indexing.html#returning-a-view-versus-a-copy\n",
      "  sim1.scenario[scen].dataIn_m['new_Installed_Capacity_[MW]'][row] += Under_Installment #overwrite new installed\n"
     ]
    },
    {
     "name": "stdout",
     "output_type": "stream",
     "text": [
      "Finished Area+Power Generation Calculations\n",
      "==> Working on Material :  glass\n",
      "==> Working on Material :  silicon\n",
      "==> Working on Material :  silver\n",
      "==> Working on Material :  aluminium_frames\n",
      "==> Working on Material :  copper\n",
      "==> Working on Material :  encapsulant\n",
      "==> Working on Material :  backsheet\n",
      "circ_high\n",
      ">>>> Calculating Material Flows <<<<\n",
      "\n",
      "Working on Scenario:  circ_high\n",
      "********************\n"
     ]
    },
    {
     "name": "stderr",
     "output_type": "stream",
     "text": [
      "C:\\Users\\hmirletz\\AppData\\Local\\Temp\\1\\ipykernel_3292\\3246415230.py:6: SettingWithCopyWarning: \n",
      "A value is trying to be set on a copy of a slice from a DataFrame\n",
      "\n",
      "See the caveats in the documentation: https://pandas.pydata.org/pandas-docs/stable/user_guide/indexing.html#returning-a-view-versus-a-copy\n",
      "  sim1.scenario[scen].dataIn_m['new_Installed_Capacity_[MW]'][row] += Under_Installment #overwrite new installed\n"
     ]
    },
    {
     "name": "stdout",
     "output_type": "stream",
     "text": [
      "Finished Area+Power Generation Calculations\n",
      "==> Working on Material :  glass\n",
      "Recycled surplus End of Sim for Mat  glass  Scenario  circ_high  =  3108316553.9718065  tonnes.\n",
      "==> Working on Material :  silicon\n",
      "Recycled surplus End of Sim for Mat  silicon  Scenario  circ_high  =  102243394.31373188  tonnes.\n",
      "==> Working on Material :  silver\n",
      "Recycled surplus End of Sim for Mat  silver  Scenario  circ_high  =  569876.2003884964  tonnes.\n",
      "==> Working on Material :  aluminium_frames\n",
      "Recycled surplus End of Sim for Mat  aluminium_frames  Scenario  circ_high  =  351056543.3121035  tonnes.\n",
      "==> Working on Material :  copper\n",
      "Recycled surplus End of Sim for Mat  copper  Scenario  circ_high  =  2101508.259107552  tonnes.\n",
      "==> Working on Material :  encapsulant\n",
      "Recycled surplus End of Sim for Mat  encapsulant  Scenario  circ_high  =  206694484.01650354  tonnes.\n",
      "==> Working on Material :  backsheet\n",
      "Recycled surplus End of Sim for Mat  backsheet  Scenario  circ_high  =  85261924.9289682  tonnes.\n",
      "circ_mid\n",
      ">>>> Calculating Material Flows <<<<\n",
      "\n",
      "Working on Scenario:  circ_mid\n",
      "********************\n"
     ]
    },
    {
     "name": "stderr",
     "output_type": "stream",
     "text": [
      "C:\\Users\\hmirletz\\AppData\\Local\\Temp\\1\\ipykernel_3292\\3246415230.py:6: SettingWithCopyWarning: \n",
      "A value is trying to be set on a copy of a slice from a DataFrame\n",
      "\n",
      "See the caveats in the documentation: https://pandas.pydata.org/pandas-docs/stable/user_guide/indexing.html#returning-a-view-versus-a-copy\n",
      "  sim1.scenario[scen].dataIn_m['new_Installed_Capacity_[MW]'][row] += Under_Installment #overwrite new installed\n"
     ]
    },
    {
     "name": "stdout",
     "output_type": "stream",
     "text": [
      "Finished Area+Power Generation Calculations\n",
      "==> Working on Material :  glass\n",
      "Recycled surplus End of Sim for Mat  glass  Scenario  circ_mid  =  557252437.1173592  tonnes.\n",
      "==> Working on Material :  silicon\n",
      "Recycled surplus End of Sim for Mat  silicon  Scenario  circ_mid  =  18329980.126276117  tonnes.\n",
      "==> Working on Material :  silver\n",
      "Recycled surplus End of Sim for Mat  silver  Scenario  circ_mid  =  102166.20347624698  tonnes.\n",
      "==> Working on Material :  aluminium_frames\n",
      "Recycled surplus End of Sim for Mat  aluminium_frames  Scenario  circ_mid  =  62936676.79268165  tonnes.\n",
      "==> Working on Material :  copper\n",
      "Recycled surplus End of Sim for Mat  copper  Scenario  circ_mid  =  376753.96912632673  tonnes.\n",
      "==> Working on Material :  encapsulant\n",
      "Recycled surplus End of Sim for Mat  encapsulant  Scenario  circ_mid  =  37055751.22641012  tonnes.\n",
      "==> Working on Material :  backsheet\n",
      "Recycled surplus End of Sim for Mat  backsheet  Scenario  circ_mid  =  15285578.104737578  tonnes.\n",
      "circ_low\n",
      ">>>> Calculating Material Flows <<<<\n",
      "\n",
      "Working on Scenario:  circ_low\n",
      "********************\n"
     ]
    },
    {
     "name": "stderr",
     "output_type": "stream",
     "text": [
      "C:\\Users\\hmirletz\\AppData\\Local\\Temp\\1\\ipykernel_3292\\3246415230.py:6: SettingWithCopyWarning: \n",
      "A value is trying to be set on a copy of a slice from a DataFrame\n",
      "\n",
      "See the caveats in the documentation: https://pandas.pydata.org/pandas-docs/stable/user_guide/indexing.html#returning-a-view-versus-a-copy\n",
      "  sim1.scenario[scen].dataIn_m['new_Installed_Capacity_[MW]'][row] += Under_Installment #overwrite new installed\n"
     ]
    },
    {
     "name": "stdout",
     "output_type": "stream",
     "text": [
      "Finished Area+Power Generation Calculations\n",
      "==> Working on Material :  glass\n",
      "==> Working on Material :  silicon\n",
      "==> Working on Material :  silver\n",
      "==> Working on Material :  aluminium_frames\n",
      "==> Working on Material :  copper\n",
      "==> Working on Material :  encapsulant\n",
      "==> Working on Material :  backsheet\n",
      "68\n",
      "PV_ICE\n",
      ">>>> Calculating Material Flows <<<<\n",
      "\n",
      "Working on Scenario:  PV_ICE\n",
      "********************\n"
     ]
    },
    {
     "name": "stderr",
     "output_type": "stream",
     "text": [
      "C:\\Users\\hmirletz\\AppData\\Local\\Temp\\1\\ipykernel_3292\\3246415230.py:6: SettingWithCopyWarning: \n",
      "A value is trying to be set on a copy of a slice from a DataFrame\n",
      "\n",
      "See the caveats in the documentation: https://pandas.pydata.org/pandas-docs/stable/user_guide/indexing.html#returning-a-view-versus-a-copy\n",
      "  sim1.scenario[scen].dataIn_m['new_Installed_Capacity_[MW]'][row] += Under_Installment #overwrite new installed\n"
     ]
    },
    {
     "name": "stdout",
     "output_type": "stream",
     "text": [
      "Finished Area+Power Generation Calculations\n",
      "==> Working on Material :  glass\n",
      "==> Working on Material :  silicon\n",
      "==> Working on Material :  silver\n",
      "==> Working on Material :  aluminium_frames\n",
      "==> Working on Material :  copper\n",
      "==> Working on Material :  encapsulant\n",
      "==> Working on Material :  backsheet\n",
      "circ_high\n",
      ">>>> Calculating Material Flows <<<<\n",
      "\n",
      "Working on Scenario:  circ_high\n",
      "********************\n"
     ]
    },
    {
     "name": "stderr",
     "output_type": "stream",
     "text": [
      "C:\\Users\\hmirletz\\AppData\\Local\\Temp\\1\\ipykernel_3292\\3246415230.py:6: SettingWithCopyWarning: \n",
      "A value is trying to be set on a copy of a slice from a DataFrame\n",
      "\n",
      "See the caveats in the documentation: https://pandas.pydata.org/pandas-docs/stable/user_guide/indexing.html#returning-a-view-versus-a-copy\n",
      "  sim1.scenario[scen].dataIn_m['new_Installed_Capacity_[MW]'][row] += Under_Installment #overwrite new installed\n"
     ]
    },
    {
     "name": "stdout",
     "output_type": "stream",
     "text": [
      "Finished Area+Power Generation Calculations\n",
      "==> Working on Material :  glass\n",
      "Recycled surplus End of Sim for Mat  glass  Scenario  circ_high  =  3028386085.161887  tonnes.\n",
      "==> Working on Material :  silicon\n",
      "Recycled surplus End of Sim for Mat  silicon  Scenario  circ_high  =  99614201.85591367  tonnes.\n",
      "==> Working on Material :  silver\n",
      "Recycled surplus End of Sim for Mat  silver  Scenario  circ_high  =  555221.813980373  tonnes.\n",
      "==> Working on Material :  aluminium_frames\n",
      "Recycled surplus End of Sim for Mat  aluminium_frames  Scenario  circ_high  =  342029112.0326631  tonnes.\n",
      "==> Working on Material :  copper\n",
      "Recycled surplus End of Sim for Mat  copper  Scenario  circ_high  =  2047467.9007844112  tonnes.\n",
      "==> Working on Material :  encapsulant\n",
      "Recycled surplus End of Sim for Mat  encapsulant  Scenario  circ_high  =  201379328.13678688  tonnes.\n",
      "==> Working on Material :  backsheet\n",
      "Recycled surplus End of Sim for Mat  backsheet  Scenario  circ_high  =  83069411.54982078  tonnes.\n",
      "circ_mid\n",
      ">>>> Calculating Material Flows <<<<\n",
      "\n",
      "Working on Scenario:  circ_mid\n",
      "********************\n"
     ]
    },
    {
     "name": "stderr",
     "output_type": "stream",
     "text": [
      "C:\\Users\\hmirletz\\AppData\\Local\\Temp\\1\\ipykernel_3292\\3246415230.py:6: SettingWithCopyWarning: \n",
      "A value is trying to be set on a copy of a slice from a DataFrame\n",
      "\n",
      "See the caveats in the documentation: https://pandas.pydata.org/pandas-docs/stable/user_guide/indexing.html#returning-a-view-versus-a-copy\n",
      "  sim1.scenario[scen].dataIn_m['new_Installed_Capacity_[MW]'][row] += Under_Installment #overwrite new installed\n"
     ]
    },
    {
     "name": "stdout",
     "output_type": "stream",
     "text": [
      "Finished Area+Power Generation Calculations\n",
      "==> Working on Material :  glass\n",
      "Recycled surplus End of Sim for Mat  glass  Scenario  circ_mid  =  543931235.1080786  tonnes.\n",
      "==> Working on Material :  silicon\n",
      "Recycled surplus End of Sim for Mat  silicon  Scenario  circ_mid  =  17891799.237644486  tonnes.\n",
      "==> Working on Material :  silver\n",
      "Recycled surplus End of Sim for Mat  silver  Scenario  circ_mid  =  99723.90525666696  tonnes.\n",
      "==> Working on Material :  aluminium_frames\n",
      "Recycled surplus End of Sim for Mat  aluminium_frames  Scenario  circ_mid  =  61432166.21631689  tonnes.\n",
      "==> Working on Material :  copper\n",
      "Recycled surplus End of Sim for Mat  copper  Scenario  circ_mid  =  367747.60971677065  tonnes.\n",
      "==> Working on Material :  encapsulant\n",
      "Recycled surplus End of Sim for Mat  encapsulant  Scenario  circ_mid  =  36169928.007320784  tonnes.\n",
      "==> Working on Material :  backsheet\n",
      "Recycled surplus End of Sim for Mat  backsheet  Scenario  circ_mid  =  14920174.097147819  tonnes.\n",
      "circ_low\n",
      ">>>> Calculating Material Flows <<<<\n",
      "\n",
      "Working on Scenario:  circ_low\n",
      "********************\n"
     ]
    },
    {
     "name": "stderr",
     "output_type": "stream",
     "text": [
      "C:\\Users\\hmirletz\\AppData\\Local\\Temp\\1\\ipykernel_3292\\3246415230.py:6: SettingWithCopyWarning: \n",
      "A value is trying to be set on a copy of a slice from a DataFrame\n",
      "\n",
      "See the caveats in the documentation: https://pandas.pydata.org/pandas-docs/stable/user_guide/indexing.html#returning-a-view-versus-a-copy\n",
      "  sim1.scenario[scen].dataIn_m['new_Installed_Capacity_[MW]'][row] += Under_Installment #overwrite new installed\n"
     ]
    },
    {
     "name": "stdout",
     "output_type": "stream",
     "text": [
      "Finished Area+Power Generation Calculations\n",
      "==> Working on Material :  glass\n",
      "==> Working on Material :  silicon\n",
      "==> Working on Material :  silver\n",
      "==> Working on Material :  aluminium_frames\n",
      "==> Working on Material :  copper\n",
      "==> Working on Material :  encapsulant\n",
      "==> Working on Material :  backsheet\n",
      "69\n",
      "PV_ICE\n",
      ">>>> Calculating Material Flows <<<<\n",
      "\n",
      "Working on Scenario:  PV_ICE\n",
      "********************\n"
     ]
    },
    {
     "name": "stderr",
     "output_type": "stream",
     "text": [
      "C:\\Users\\hmirletz\\AppData\\Local\\Temp\\1\\ipykernel_3292\\3246415230.py:6: SettingWithCopyWarning: \n",
      "A value is trying to be set on a copy of a slice from a DataFrame\n",
      "\n",
      "See the caveats in the documentation: https://pandas.pydata.org/pandas-docs/stable/user_guide/indexing.html#returning-a-view-versus-a-copy\n",
      "  sim1.scenario[scen].dataIn_m['new_Installed_Capacity_[MW]'][row] += Under_Installment #overwrite new installed\n"
     ]
    },
    {
     "name": "stdout",
     "output_type": "stream",
     "text": [
      "Finished Area+Power Generation Calculations\n",
      "==> Working on Material :  glass\n",
      "==> Working on Material :  silicon\n",
      "==> Working on Material :  silver\n",
      "==> Working on Material :  aluminium_frames\n",
      "==> Working on Material :  copper\n",
      "==> Working on Material :  encapsulant\n",
      "==> Working on Material :  backsheet\n",
      "circ_high\n",
      ">>>> Calculating Material Flows <<<<\n",
      "\n",
      "Working on Scenario:  circ_high\n",
      "********************\n"
     ]
    },
    {
     "name": "stderr",
     "output_type": "stream",
     "text": [
      "C:\\Users\\hmirletz\\AppData\\Local\\Temp\\1\\ipykernel_3292\\3246415230.py:6: SettingWithCopyWarning: \n",
      "A value is trying to be set on a copy of a slice from a DataFrame\n",
      "\n",
      "See the caveats in the documentation: https://pandas.pydata.org/pandas-docs/stable/user_guide/indexing.html#returning-a-view-versus-a-copy\n",
      "  sim1.scenario[scen].dataIn_m['new_Installed_Capacity_[MW]'][row] += Under_Installment #overwrite new installed\n"
     ]
    },
    {
     "name": "stdout",
     "output_type": "stream",
     "text": [
      "Finished Area+Power Generation Calculations\n",
      "==> Working on Material :  glass\n",
      "Recycled surplus End of Sim for Mat  glass  Scenario  circ_high  =  2939464840.3230333  tonnes.\n",
      "==> Working on Material :  silicon\n",
      "Recycled surplus End of Sim for Mat  silicon  Scenario  circ_high  =  96689271.3538033  tonnes.\n",
      "==> Working on Material :  silver\n",
      "Recycled surplus End of Sim for Mat  silver  Scenario  circ_high  =  538919.0660900951  tonnes.\n",
      "==> Working on Material :  aluminium_frames\n",
      "Recycled surplus End of Sim for Mat  aluminium_frames  Scenario  circ_high  =  331986253.04513544  tonnes.\n",
      "==> Working on Material :  copper\n",
      "Recycled surplus End of Sim for Mat  copper  Scenario  circ_high  =  1987348.9498364474  tonnes.\n",
      "==> Working on Material :  encapsulant\n",
      "Recycled surplus End of Sim for Mat  encapsulant  Scenario  circ_high  =  195466310.43059915  tonnes.\n",
      "==> Working on Material :  backsheet\n",
      "Recycled surplus End of Sim for Mat  backsheet  Scenario  circ_high  =  80630278.86484602  tonnes.\n",
      "circ_mid\n",
      ">>>> Calculating Material Flows <<<<\n",
      "\n",
      "Working on Scenario:  circ_mid\n",
      "********************\n"
     ]
    },
    {
     "name": "stderr",
     "output_type": "stream",
     "text": [
      "C:\\Users\\hmirletz\\AppData\\Local\\Temp\\1\\ipykernel_3292\\3246415230.py:6: SettingWithCopyWarning: \n",
      "A value is trying to be set on a copy of a slice from a DataFrame\n",
      "\n",
      "See the caveats in the documentation: https://pandas.pydata.org/pandas-docs/stable/user_guide/indexing.html#returning-a-view-versus-a-copy\n",
      "  sim1.scenario[scen].dataIn_m['new_Installed_Capacity_[MW]'][row] += Under_Installment #overwrite new installed\n"
     ]
    },
    {
     "name": "stdout",
     "output_type": "stream",
     "text": [
      "Finished Area+Power Generation Calculations\n",
      "==> Working on Material :  glass\n",
      "Recycled surplus End of Sim for Mat  glass  Scenario  circ_mid  =  528362339.0915653  tonnes.\n",
      "==> Working on Material :  silicon\n",
      "Recycled surplus End of Sim for Mat  silicon  Scenario  circ_mid  =  17379683.837939832  tonnes.\n",
      "==> Working on Material :  silver\n",
      "Recycled surplus End of Sim for Mat  silver  Scenario  circ_mid  =  96869.51666654828  tonnes.\n",
      "==> Working on Material :  aluminium_frames\n",
      "Recycled surplus End of Sim for Mat  aluminium_frames  Scenario  circ_mid  =  59673798.712930225  tonnes.\n",
      "==> Working on Material :  copper\n",
      "Recycled surplus End of Sim for Mat  copper  Scenario  circ_mid  =  357221.6021510088  tonnes.\n",
      "==> Working on Material :  encapsulant\n",
      "Recycled surplus End of Sim for Mat  encapsulant  Scenario  circ_mid  =  35134639.331613705  tonnes.\n",
      "==> Working on Material :  backsheet\n",
      "Recycled surplus End of Sim for Mat  backsheet  Scenario  circ_mid  =  14493115.263101244  tonnes.\n",
      "circ_low\n",
      ">>>> Calculating Material Flows <<<<\n",
      "\n",
      "Working on Scenario:  circ_low\n",
      "********************\n"
     ]
    },
    {
     "name": "stderr",
     "output_type": "stream",
     "text": [
      "C:\\Users\\hmirletz\\AppData\\Local\\Temp\\1\\ipykernel_3292\\3246415230.py:6: SettingWithCopyWarning: \n",
      "A value is trying to be set on a copy of a slice from a DataFrame\n",
      "\n",
      "See the caveats in the documentation: https://pandas.pydata.org/pandas-docs/stable/user_guide/indexing.html#returning-a-view-versus-a-copy\n",
      "  sim1.scenario[scen].dataIn_m['new_Installed_Capacity_[MW]'][row] += Under_Installment #overwrite new installed\n"
     ]
    },
    {
     "name": "stdout",
     "output_type": "stream",
     "text": [
      "Finished Area+Power Generation Calculations\n",
      "==> Working on Material :  glass\n",
      "==> Working on Material :  silicon\n",
      "==> Working on Material :  silver\n",
      "==> Working on Material :  aluminium_frames\n",
      "==> Working on Material :  copper\n",
      "==> Working on Material :  encapsulant\n",
      "==> Working on Material :  backsheet\n",
      "70\n",
      "PV_ICE\n",
      ">>>> Calculating Material Flows <<<<\n",
      "\n",
      "Working on Scenario:  PV_ICE\n",
      "********************\n"
     ]
    },
    {
     "name": "stderr",
     "output_type": "stream",
     "text": [
      "C:\\Users\\hmirletz\\AppData\\Local\\Temp\\1\\ipykernel_3292\\3246415230.py:6: SettingWithCopyWarning: \n",
      "A value is trying to be set on a copy of a slice from a DataFrame\n",
      "\n",
      "See the caveats in the documentation: https://pandas.pydata.org/pandas-docs/stable/user_guide/indexing.html#returning-a-view-versus-a-copy\n",
      "  sim1.scenario[scen].dataIn_m['new_Installed_Capacity_[MW]'][row] += Under_Installment #overwrite new installed\n"
     ]
    },
    {
     "name": "stdout",
     "output_type": "stream",
     "text": [
      "Finished Area+Power Generation Calculations\n",
      "==> Working on Material :  glass\n",
      "==> Working on Material :  silicon\n",
      "==> Working on Material :  silver\n",
      "==> Working on Material :  aluminium_frames\n",
      "==> Working on Material :  copper\n",
      "==> Working on Material :  encapsulant\n",
      "==> Working on Material :  backsheet\n",
      "circ_high\n",
      ">>>> Calculating Material Flows <<<<\n",
      "\n",
      "Working on Scenario:  circ_high\n",
      "********************\n"
     ]
    },
    {
     "name": "stderr",
     "output_type": "stream",
     "text": [
      "C:\\Users\\hmirletz\\AppData\\Local\\Temp\\1\\ipykernel_3292\\3246415230.py:6: SettingWithCopyWarning: \n",
      "A value is trying to be set on a copy of a slice from a DataFrame\n",
      "\n",
      "See the caveats in the documentation: https://pandas.pydata.org/pandas-docs/stable/user_guide/indexing.html#returning-a-view-versus-a-copy\n",
      "  sim1.scenario[scen].dataIn_m['new_Installed_Capacity_[MW]'][row] += Under_Installment #overwrite new installed\n"
     ]
    },
    {
     "name": "stdout",
     "output_type": "stream",
     "text": [
      "Finished Area+Power Generation Calculations\n",
      "==> Working on Material :  glass\n",
      "Recycled surplus End of Sim for Mat  glass  Scenario  circ_high  =  2842607769.427746  tonnes.\n",
      "==> Working on Material :  silicon\n",
      "Recycled surplus End of Sim for Mat  silicon  Scenario  circ_high  =  93503303.7988045  tonnes.\n",
      "==> Working on Material :  silver\n",
      "Recycled surplus End of Sim for Mat  silver  Scenario  circ_high  =  521161.3703779141  tonnes.\n",
      "==> Working on Material :  aluminium_frames\n",
      "Recycled surplus End of Sim for Mat  aluminium_frames  Scenario  circ_high  =  321047113.5098179  tonnes.\n",
      "==> Working on Material :  copper\n",
      "Recycled surplus End of Sim for Mat  copper  Scenario  circ_high  =  1921864.6496034728  tonnes.\n",
      "==> Working on Material :  encapsulant\n",
      "Recycled surplus End of Sim for Mat  encapsulant  Scenario  circ_high  =  189025582.16356662  tonnes.\n",
      "==> Working on Material :  backsheet\n",
      "Recycled surplus End of Sim for Mat  backsheet  Scenario  circ_high  =  77973464.42393544  tonnes.\n",
      "circ_mid\n",
      ">>>> Calculating Material Flows <<<<\n",
      "\n",
      "Working on Scenario:  circ_mid\n",
      "********************\n"
     ]
    },
    {
     "name": "stderr",
     "output_type": "stream",
     "text": [
      "C:\\Users\\hmirletz\\AppData\\Local\\Temp\\1\\ipykernel_3292\\3246415230.py:6: SettingWithCopyWarning: \n",
      "A value is trying to be set on a copy of a slice from a DataFrame\n",
      "\n",
      "See the caveats in the documentation: https://pandas.pydata.org/pandas-docs/stable/user_guide/indexing.html#returning-a-view-versus-a-copy\n",
      "  sim1.scenario[scen].dataIn_m['new_Installed_Capacity_[MW]'][row] += Under_Installment #overwrite new installed\n"
     ]
    },
    {
     "name": "stdout",
     "output_type": "stream",
     "text": [
      "Finished Area+Power Generation Calculations\n",
      "==> Working on Material :  glass\n",
      "Recycled surplus End of Sim for Mat  glass  Scenario  circ_mid  =  510809486.5609433  tonnes.\n",
      "==> Working on Material :  silicon\n",
      "Recycled surplus End of Sim for Mat  silicon  Scenario  circ_mid  =  16802309.175013054  tonnes.\n",
      "==> Working on Material :  silver\n",
      "Recycled surplus End of Sim for Mat  silver  Scenario  circ_mid  =  93651.39112095386  tonnes.\n",
      "==> Working on Material :  aluminium_frames\n",
      "Recycled surplus End of Sim for Mat  aluminium_frames  Scenario  circ_mid  =  57691361.07259614  tonnes.\n",
      "==> Working on Material :  copper\n",
      "Recycled surplus End of Sim for Mat  copper  Scenario  circ_mid  =  345354.2572639944  tonnes.\n",
      "==> Working on Material :  encapsulant\n",
      "Recycled surplus End of Sim for Mat  encapsulant  Scenario  circ_mid  =  33967423.01569545  tonnes.\n",
      "==> Working on Material :  backsheet\n",
      "Recycled surplus End of Sim for Mat  backsheet  Scenario  circ_mid  =  14011635.990070695  tonnes.\n",
      "circ_low\n",
      ">>>> Calculating Material Flows <<<<\n",
      "\n",
      "Working on Scenario:  circ_low\n",
      "********************\n"
     ]
    },
    {
     "name": "stderr",
     "output_type": "stream",
     "text": [
      "C:\\Users\\hmirletz\\AppData\\Local\\Temp\\1\\ipykernel_3292\\3246415230.py:6: SettingWithCopyWarning: \n",
      "A value is trying to be set on a copy of a slice from a DataFrame\n",
      "\n",
      "See the caveats in the documentation: https://pandas.pydata.org/pandas-docs/stable/user_guide/indexing.html#returning-a-view-versus-a-copy\n",
      "  sim1.scenario[scen].dataIn_m['new_Installed_Capacity_[MW]'][row] += Under_Installment #overwrite new installed\n"
     ]
    },
    {
     "name": "stdout",
     "output_type": "stream",
     "text": [
      "Finished Area+Power Generation Calculations\n",
      "==> Working on Material :  glass\n",
      "==> Working on Material :  silicon\n",
      "==> Working on Material :  silver\n",
      "==> Working on Material :  aluminium_frames\n",
      "==> Working on Material :  copper\n",
      "==> Working on Material :  encapsulant\n",
      "==> Working on Material :  backsheet\n",
      "71\n",
      "PV_ICE\n",
      ">>>> Calculating Material Flows <<<<\n",
      "\n",
      "Working on Scenario:  PV_ICE\n",
      "********************\n"
     ]
    },
    {
     "name": "stderr",
     "output_type": "stream",
     "text": [
      "C:\\Users\\hmirletz\\AppData\\Local\\Temp\\1\\ipykernel_3292\\3246415230.py:6: SettingWithCopyWarning: \n",
      "A value is trying to be set on a copy of a slice from a DataFrame\n",
      "\n",
      "See the caveats in the documentation: https://pandas.pydata.org/pandas-docs/stable/user_guide/indexing.html#returning-a-view-versus-a-copy\n",
      "  sim1.scenario[scen].dataIn_m['new_Installed_Capacity_[MW]'][row] += Under_Installment #overwrite new installed\n"
     ]
    },
    {
     "name": "stdout",
     "output_type": "stream",
     "text": [
      "Finished Area+Power Generation Calculations\n",
      "==> Working on Material :  glass\n",
      "==> Working on Material :  silicon\n",
      "==> Working on Material :  silver\n",
      "==> Working on Material :  aluminium_frames\n",
      "==> Working on Material :  copper\n",
      "==> Working on Material :  encapsulant\n",
      "==> Working on Material :  backsheet\n",
      "circ_high\n",
      ">>>> Calculating Material Flows <<<<\n",
      "\n",
      "Working on Scenario:  circ_high\n",
      "********************\n"
     ]
    },
    {
     "name": "stderr",
     "output_type": "stream",
     "text": [
      "C:\\Users\\hmirletz\\AppData\\Local\\Temp\\1\\ipykernel_3292\\3246415230.py:6: SettingWithCopyWarning: \n",
      "A value is trying to be set on a copy of a slice from a DataFrame\n",
      "\n",
      "See the caveats in the documentation: https://pandas.pydata.org/pandas-docs/stable/user_guide/indexing.html#returning-a-view-versus-a-copy\n",
      "  sim1.scenario[scen].dataIn_m['new_Installed_Capacity_[MW]'][row] += Under_Installment #overwrite new installed\n"
     ]
    },
    {
     "name": "stdout",
     "output_type": "stream",
     "text": [
      "Finished Area+Power Generation Calculations\n",
      "==> Working on Material :  glass\n",
      "Recycled surplus End of Sim for Mat  glass  Scenario  circ_high  =  2738586442.8181143  tonnes.\n",
      "==> Working on Material :  silicon\n",
      "Recycled surplus End of Sim for Mat  silicon  Scenario  circ_high  =  90081678.83592993  tonnes.\n",
      "==> Working on Material :  silver\n",
      "Recycled surplus End of Sim for Mat  silver  Scenario  circ_high  =  502090.1859157266  tonnes.\n",
      "==> Working on Material :  aluminium_frames\n",
      "Recycled surplus End of Sim for Mat  aluminium_frames  Scenario  circ_high  =  309298835.3932743  tonnes.\n",
      "==> Working on Material :  copper\n",
      "Recycled surplus End of Sim for Mat  copper  Scenario  circ_high  =  1851536.652696552  tonnes.\n",
      "==> Working on Material :  encapsulant\n",
      "Recycled surplus End of Sim for Mat  encapsulant  Scenario  circ_high  =  182108450.63691542  tonnes.\n",
      "==> Working on Material :  backsheet\n",
      "Recycled surplus End of Sim for Mat  backsheet  Scenario  circ_high  =  75120132.6006148  tonnes.\n",
      "circ_mid\n",
      ">>>> Calculating Material Flows <<<<\n",
      "\n",
      "Working on Scenario:  circ_mid\n",
      "********************\n"
     ]
    },
    {
     "name": "stderr",
     "output_type": "stream",
     "text": [
      "C:\\Users\\hmirletz\\AppData\\Local\\Temp\\1\\ipykernel_3292\\3246415230.py:6: SettingWithCopyWarning: \n",
      "A value is trying to be set on a copy of a slice from a DataFrame\n",
      "\n",
      "See the caveats in the documentation: https://pandas.pydata.org/pandas-docs/stable/user_guide/indexing.html#returning-a-view-versus-a-copy\n",
      "  sim1.scenario[scen].dataIn_m['new_Installed_Capacity_[MW]'][row] += Under_Installment #overwrite new installed\n"
     ]
    },
    {
     "name": "stdout",
     "output_type": "stream",
     "text": [
      "Finished Area+Power Generation Calculations\n",
      "==> Working on Material :  glass\n",
      "Recycled surplus End of Sim for Mat  glass  Scenario  circ_mid  =  491465570.1017352  tonnes.\n",
      "==> Working on Material :  silicon\n",
      "Recycled surplus End of Sim for Mat  silicon  Scenario  circ_mid  =  16166020.16011736  tonnes.\n",
      "==> Working on Material :  silver\n",
      "Recycled surplus End of Sim for Mat  silver  Scenario  circ_mid  =  90104.89338785782  tonnes.\n",
      "==> Working on Material :  aluminium_frames\n",
      "Recycled surplus End of Sim for Mat  aluminium_frames  Scenario  circ_mid  =  55506638.78695559  tonnes.\n",
      "==> Working on Material :  copper\n",
      "Recycled surplus End of Sim for Mat  copper  Scenario  circ_mid  =  332275.9882084932  tonnes.\n",
      "==> Working on Material :  encapsulant\n",
      "Recycled surplus End of Sim for Mat  encapsulant  Scenario  circ_mid  =  32681105.88487253  tonnes.\n",
      "==> Working on Material :  backsheet\n",
      "Recycled surplus End of Sim for Mat  backsheet  Scenario  circ_mid  =  13481027.371437646  tonnes.\n",
      "circ_low\n",
      ">>>> Calculating Material Flows <<<<\n",
      "\n",
      "Working on Scenario:  circ_low\n",
      "********************\n"
     ]
    },
    {
     "name": "stderr",
     "output_type": "stream",
     "text": [
      "C:\\Users\\hmirletz\\AppData\\Local\\Temp\\1\\ipykernel_3292\\3246415230.py:6: SettingWithCopyWarning: \n",
      "A value is trying to be set on a copy of a slice from a DataFrame\n",
      "\n",
      "See the caveats in the documentation: https://pandas.pydata.org/pandas-docs/stable/user_guide/indexing.html#returning-a-view-versus-a-copy\n",
      "  sim1.scenario[scen].dataIn_m['new_Installed_Capacity_[MW]'][row] += Under_Installment #overwrite new installed\n"
     ]
    },
    {
     "name": "stdout",
     "output_type": "stream",
     "text": [
      "Finished Area+Power Generation Calculations\n",
      "==> Working on Material :  glass\n",
      "==> Working on Material :  silicon\n",
      "==> Working on Material :  silver\n",
      "==> Working on Material :  aluminium_frames\n",
      "==> Working on Material :  copper\n",
      "==> Working on Material :  encapsulant\n",
      "==> Working on Material :  backsheet\n",
      "72\n",
      "PV_ICE\n",
      ">>>> Calculating Material Flows <<<<\n",
      "\n",
      "Working on Scenario:  PV_ICE\n",
      "********************\n"
     ]
    },
    {
     "name": "stderr",
     "output_type": "stream",
     "text": [
      "C:\\Users\\hmirletz\\AppData\\Local\\Temp\\1\\ipykernel_3292\\3246415230.py:6: SettingWithCopyWarning: \n",
      "A value is trying to be set on a copy of a slice from a DataFrame\n",
      "\n",
      "See the caveats in the documentation: https://pandas.pydata.org/pandas-docs/stable/user_guide/indexing.html#returning-a-view-versus-a-copy\n",
      "  sim1.scenario[scen].dataIn_m['new_Installed_Capacity_[MW]'][row] += Under_Installment #overwrite new installed\n"
     ]
    },
    {
     "name": "stdout",
     "output_type": "stream",
     "text": [
      "Finished Area+Power Generation Calculations\n",
      "==> Working on Material :  glass\n",
      "==> Working on Material :  silicon\n",
      "==> Working on Material :  silver\n",
      "==> Working on Material :  aluminium_frames\n",
      "==> Working on Material :  copper\n",
      "==> Working on Material :  encapsulant\n",
      "==> Working on Material :  backsheet\n",
      "circ_high\n",
      ">>>> Calculating Material Flows <<<<\n",
      "\n",
      "Working on Scenario:  circ_high\n",
      "********************\n"
     ]
    },
    {
     "name": "stderr",
     "output_type": "stream",
     "text": [
      "C:\\Users\\hmirletz\\AppData\\Local\\Temp\\1\\ipykernel_3292\\3246415230.py:6: SettingWithCopyWarning: \n",
      "A value is trying to be set on a copy of a slice from a DataFrame\n",
      "\n",
      "See the caveats in the documentation: https://pandas.pydata.org/pandas-docs/stable/user_guide/indexing.html#returning-a-view-versus-a-copy\n",
      "  sim1.scenario[scen].dataIn_m['new_Installed_Capacity_[MW]'][row] += Under_Installment #overwrite new installed\n"
     ]
    },
    {
     "name": "stdout",
     "output_type": "stream",
     "text": [
      "Finished Area+Power Generation Calculations\n",
      "==> Working on Material :  glass\n",
      "Recycled surplus End of Sim for Mat  glass  Scenario  circ_high  =  2625935825.684617  tonnes.\n",
      "==> Working on Material :  silicon\n",
      "Recycled surplus End of Sim for Mat  silicon  Scenario  circ_high  =  86376206.35033397  tonnes.\n",
      "==> Working on Material :  silver\n",
      "Recycled surplus End of Sim for Mat  silver  Scenario  circ_high  =  481436.91442655836  tonnes.\n",
      "==> Working on Material :  aluminium_frames\n",
      "Recycled surplus End of Sim for Mat  aluminium_frames  Scenario  circ_high  =  296575956.12207294  tonnes.\n",
      "==> Working on Material :  copper\n",
      "Recycled surplus End of Sim for Mat  copper  Scenario  circ_high  =  1775374.460658196  tonnes.\n",
      "==> Working on Material :  encapsulant\n",
      "Recycled surplus End of Sim for Mat  encapsulant  Scenario  circ_high  =  174617495.07359102  tonnes.\n",
      "==> Working on Material :  backsheet\n",
      "Recycled surplus End of Sim for Mat  backsheet  Scenario  circ_high  =  72030097.11212347  tonnes.\n",
      "circ_mid\n",
      ">>>> Calculating Material Flows <<<<\n",
      "\n",
      "Working on Scenario:  circ_mid\n",
      "********************\n"
     ]
    },
    {
     "name": "stderr",
     "output_type": "stream",
     "text": [
      "C:\\Users\\hmirletz\\AppData\\Local\\Temp\\1\\ipykernel_3292\\3246415230.py:6: SettingWithCopyWarning: \n",
      "A value is trying to be set on a copy of a slice from a DataFrame\n",
      "\n",
      "See the caveats in the documentation: https://pandas.pydata.org/pandas-docs/stable/user_guide/indexing.html#returning-a-view-versus-a-copy\n",
      "  sim1.scenario[scen].dataIn_m['new_Installed_Capacity_[MW]'][row] += Under_Installment #overwrite new installed\n"
     ]
    },
    {
     "name": "stdout",
     "output_type": "stream",
     "text": [
      "Finished Area+Power Generation Calculations\n",
      "==> Working on Material :  glass\n",
      "Recycled surplus End of Sim for Mat  glass  Scenario  circ_mid  =  469964331.0115615  tonnes.\n",
      "==> Working on Material :  silicon\n",
      "Recycled surplus End of Sim for Mat  silicon  Scenario  circ_mid  =  15458769.264541293  tonnes.\n",
      "==> Working on Material :  silver\n",
      "Recycled surplus End of Sim for Mat  silver  Scenario  circ_mid  =  86162.87389801658  tonnes.\n",
      "==> Working on Material :  aluminium_frames\n",
      "Recycled surplus End of Sim for Mat  aluminium_frames  Scenario  circ_mid  =  53078266.21265053  tonnes.\n",
      "==> Working on Material :  copper\n",
      "Recycled surplus End of Sim for Mat  copper  Scenario  circ_mid  =  317739.1703701333  tonnes.\n",
      "==> Working on Material :  encapsulant\n",
      "Recycled surplus End of Sim for Mat  encapsulant  Scenario  circ_mid  =  31251332.744881324  tonnes.\n",
      "==> Working on Material :  backsheet\n",
      "Recycled surplus End of Sim for Mat  backsheet  Scenario  circ_mid  =  12891242.83651192  tonnes.\n",
      "circ_low\n",
      ">>>> Calculating Material Flows <<<<\n",
      "\n",
      "Working on Scenario:  circ_low\n",
      "********************\n"
     ]
    },
    {
     "name": "stderr",
     "output_type": "stream",
     "text": [
      "C:\\Users\\hmirletz\\AppData\\Local\\Temp\\1\\ipykernel_3292\\3246415230.py:6: SettingWithCopyWarning: \n",
      "A value is trying to be set on a copy of a slice from a DataFrame\n",
      "\n",
      "See the caveats in the documentation: https://pandas.pydata.org/pandas-docs/stable/user_guide/indexing.html#returning-a-view-versus-a-copy\n",
      "  sim1.scenario[scen].dataIn_m['new_Installed_Capacity_[MW]'][row] += Under_Installment #overwrite new installed\n"
     ]
    },
    {
     "name": "stdout",
     "output_type": "stream",
     "text": [
      "Finished Area+Power Generation Calculations\n",
      "==> Working on Material :  glass\n",
      "==> Working on Material :  silicon\n",
      "==> Working on Material :  silver\n",
      "==> Working on Material :  aluminium_frames\n",
      "==> Working on Material :  copper\n",
      "==> Working on Material :  encapsulant\n",
      "==> Working on Material :  backsheet\n",
      "73\n",
      "PV_ICE\n",
      ">>>> Calculating Material Flows <<<<\n",
      "\n",
      "Working on Scenario:  PV_ICE\n",
      "********************\n"
     ]
    },
    {
     "name": "stderr",
     "output_type": "stream",
     "text": [
      "C:\\Users\\hmirletz\\AppData\\Local\\Temp\\1\\ipykernel_3292\\3246415230.py:6: SettingWithCopyWarning: \n",
      "A value is trying to be set on a copy of a slice from a DataFrame\n",
      "\n",
      "See the caveats in the documentation: https://pandas.pydata.org/pandas-docs/stable/user_guide/indexing.html#returning-a-view-versus-a-copy\n",
      "  sim1.scenario[scen].dataIn_m['new_Installed_Capacity_[MW]'][row] += Under_Installment #overwrite new installed\n"
     ]
    },
    {
     "name": "stdout",
     "output_type": "stream",
     "text": [
      "Finished Area+Power Generation Calculations\n",
      "==> Working on Material :  glass\n",
      "==> Working on Material :  silicon\n",
      "==> Working on Material :  silver\n",
      "==> Working on Material :  aluminium_frames\n",
      "==> Working on Material :  copper\n",
      "==> Working on Material :  encapsulant\n",
      "==> Working on Material :  backsheet\n",
      "circ_high\n",
      ">>>> Calculating Material Flows <<<<\n",
      "\n",
      "Working on Scenario:  circ_high\n",
      "********************\n"
     ]
    },
    {
     "name": "stderr",
     "output_type": "stream",
     "text": [
      "C:\\Users\\hmirletz\\AppData\\Local\\Temp\\1\\ipykernel_3292\\3246415230.py:6: SettingWithCopyWarning: \n",
      "A value is trying to be set on a copy of a slice from a DataFrame\n",
      "\n",
      "See the caveats in the documentation: https://pandas.pydata.org/pandas-docs/stable/user_guide/indexing.html#returning-a-view-versus-a-copy\n",
      "  sim1.scenario[scen].dataIn_m['new_Installed_Capacity_[MW]'][row] += Under_Installment #overwrite new installed\n"
     ]
    },
    {
     "name": "stdout",
     "output_type": "stream",
     "text": [
      "Finished Area+Power Generation Calculations\n",
      "==> Working on Material :  glass\n",
      "Recycled surplus End of Sim for Mat  glass  Scenario  circ_high  =  2506647741.0719676  tonnes.\n",
      "==> Working on Material :  silicon\n",
      "Recycled surplus End of Sim for Mat  silicon  Scenario  circ_high  =  82452404.3629218  tonnes.\n",
      "==> Working on Material :  silver\n",
      "Recycled surplus End of Sim for Mat  silver  Scenario  circ_high  =  459566.7351091357  tonnes.\n",
      "==> Working on Material :  aluminium_frames\n",
      "Recycled surplus End of Sim for Mat  aluminium_frames  Scenario  circ_high  =  283103434.28740734  tonnes.\n",
      "==> Working on Material :  copper\n",
      "Recycled surplus End of Sim for Mat  copper  Scenario  circ_high  =  1694724.7293088338  tonnes.\n",
      "==> Working on Material :  encapsulant\n",
      "Recycled surplus End of Sim for Mat  encapsulant  Scenario  circ_high  =  166685166.2164086  tonnes.\n",
      "==> Working on Material :  backsheet\n",
      "Recycled surplus End of Sim for Mat  backsheet  Scenario  circ_high  =  68757994.17840911  tonnes.\n",
      "circ_mid\n",
      ">>>> Calculating Material Flows <<<<\n",
      "\n",
      "Working on Scenario:  circ_mid\n",
      "********************\n"
     ]
    },
    {
     "name": "stderr",
     "output_type": "stream",
     "text": [
      "C:\\Users\\hmirletz\\AppData\\Local\\Temp\\1\\ipykernel_3292\\3246415230.py:6: SettingWithCopyWarning: \n",
      "A value is trying to be set on a copy of a slice from a DataFrame\n",
      "\n",
      "See the caveats in the documentation: https://pandas.pydata.org/pandas-docs/stable/user_guide/indexing.html#returning-a-view-versus-a-copy\n",
      "  sim1.scenario[scen].dataIn_m['new_Installed_Capacity_[MW]'][row] += Under_Installment #overwrite new installed\n"
     ]
    },
    {
     "name": "stdout",
     "output_type": "stream",
     "text": [
      "Finished Area+Power Generation Calculations\n",
      "==> Working on Material :  glass\n",
      "Recycled surplus End of Sim for Mat  glass  Scenario  circ_mid  =  446803725.05159914  tonnes.\n",
      "==> Working on Material :  silicon\n",
      "Recycled surplus End of Sim for Mat  silicon  Scenario  circ_mid  =  14696935.993511185  tonnes.\n",
      "==> Working on Material :  silver\n",
      "Recycled surplus End of Sim for Mat  silver  Scenario  circ_mid  =  81916.62745111172  tonnes.\n",
      "==> Working on Material :  aluminium_frames\n",
      "Recycled surplus End of Sim for Mat  aluminium_frames  Scenario  circ_mid  =  50462482.99747938  tonnes.\n",
      "==> Working on Material :  copper\n",
      "Recycled surplus End of Sim for Mat  copper  Scenario  circ_mid  =  302080.4677040219  tonnes.\n",
      "==> Working on Material :  encapsulant\n",
      "Recycled surplus End of Sim for Mat  encapsulant  Scenario  circ_mid  =  29711216.2814256  tonnes.\n",
      "==> Working on Material :  backsheet\n",
      "Recycled surplus End of Sim for Mat  backsheet  Scenario  circ_mid  =  12255941.440280436  tonnes.\n",
      "circ_low\n",
      ">>>> Calculating Material Flows <<<<\n",
      "\n",
      "Working on Scenario:  circ_low\n",
      "********************\n"
     ]
    },
    {
     "name": "stderr",
     "output_type": "stream",
     "text": [
      "C:\\Users\\hmirletz\\AppData\\Local\\Temp\\1\\ipykernel_3292\\3246415230.py:6: SettingWithCopyWarning: \n",
      "A value is trying to be set on a copy of a slice from a DataFrame\n",
      "\n",
      "See the caveats in the documentation: https://pandas.pydata.org/pandas-docs/stable/user_guide/indexing.html#returning-a-view-versus-a-copy\n",
      "  sim1.scenario[scen].dataIn_m['new_Installed_Capacity_[MW]'][row] += Under_Installment #overwrite new installed\n"
     ]
    },
    {
     "name": "stdout",
     "output_type": "stream",
     "text": [
      "Finished Area+Power Generation Calculations\n",
      "==> Working on Material :  glass\n",
      "==> Working on Material :  silicon\n",
      "==> Working on Material :  silver\n",
      "==> Working on Material :  aluminium_frames\n",
      "==> Working on Material :  copper\n",
      "==> Working on Material :  encapsulant\n",
      "==> Working on Material :  backsheet\n",
      "74\n",
      "PV_ICE\n",
      ">>>> Calculating Material Flows <<<<\n",
      "\n",
      "Working on Scenario:  PV_ICE\n",
      "********************\n"
     ]
    },
    {
     "name": "stderr",
     "output_type": "stream",
     "text": [
      "C:\\Users\\hmirletz\\AppData\\Local\\Temp\\1\\ipykernel_3292\\3246415230.py:6: SettingWithCopyWarning: \n",
      "A value is trying to be set on a copy of a slice from a DataFrame\n",
      "\n",
      "See the caveats in the documentation: https://pandas.pydata.org/pandas-docs/stable/user_guide/indexing.html#returning-a-view-versus-a-copy\n",
      "  sim1.scenario[scen].dataIn_m['new_Installed_Capacity_[MW]'][row] += Under_Installment #overwrite new installed\n"
     ]
    },
    {
     "name": "stdout",
     "output_type": "stream",
     "text": [
      "Finished Area+Power Generation Calculations\n",
      "==> Working on Material :  glass\n",
      "==> Working on Material :  silicon\n",
      "==> Working on Material :  silver\n",
      "==> Working on Material :  aluminium_frames\n",
      "==> Working on Material :  copper\n",
      "==> Working on Material :  encapsulant\n",
      "==> Working on Material :  backsheet\n",
      "circ_high\n",
      ">>>> Calculating Material Flows <<<<\n",
      "\n",
      "Working on Scenario:  circ_high\n",
      "********************\n"
     ]
    },
    {
     "name": "stderr",
     "output_type": "stream",
     "text": [
      "C:\\Users\\hmirletz\\AppData\\Local\\Temp\\1\\ipykernel_3292\\3246415230.py:6: SettingWithCopyWarning: \n",
      "A value is trying to be set on a copy of a slice from a DataFrame\n",
      "\n",
      "See the caveats in the documentation: https://pandas.pydata.org/pandas-docs/stable/user_guide/indexing.html#returning-a-view-versus-a-copy\n",
      "  sim1.scenario[scen].dataIn_m['new_Installed_Capacity_[MW]'][row] += Under_Installment #overwrite new installed\n"
     ]
    },
    {
     "name": "stdout",
     "output_type": "stream",
     "text": [
      "Finished Area+Power Generation Calculations\n",
      "==> Working on Material :  glass\n",
      "Recycled surplus End of Sim for Mat  glass  Scenario  circ_high  =  2379819490.372835  tonnes.\n",
      "==> Working on Material :  silicon\n",
      "Recycled surplus End of Sim for Mat  silicon  Scenario  circ_high  =  78280579.9617737  tonnes.\n",
      "==> Working on Material :  silver\n",
      "Recycled surplus End of Sim for Mat  silver  Scenario  circ_high  =  436314.1479432675  tonnes.\n",
      "==> Working on Material :  aluminium_frames\n",
      "Recycled surplus End of Sim for Mat  aluminium_frames  Scenario  circ_high  =  268779318.15841615  tonnes.\n",
      "==> Working on Material :  copper\n",
      "Recycled surplus End of Sim for Mat  copper  Scenario  circ_high  =  1608977.1512534993  tonnes.\n",
      "==> Working on Material :  encapsulant\n",
      "Recycled surplus End of Sim for Mat  encapsulant  Scenario  circ_high  =  158251437.09590587  tonnes.\n",
      "==> Working on Material :  backsheet\n",
      "Recycled surplus End of Sim for Mat  backsheet  Scenario  circ_high  =  65279062.543803245  tonnes.\n",
      "circ_mid\n",
      ">>>> Calculating Material Flows <<<<\n",
      "\n",
      "Working on Scenario:  circ_mid\n",
      "********************\n"
     ]
    },
    {
     "name": "stderr",
     "output_type": "stream",
     "text": [
      "C:\\Users\\hmirletz\\AppData\\Local\\Temp\\1\\ipykernel_3292\\3246415230.py:6: SettingWithCopyWarning: \n",
      "A value is trying to be set on a copy of a slice from a DataFrame\n",
      "\n",
      "See the caveats in the documentation: https://pandas.pydata.org/pandas-docs/stable/user_guide/indexing.html#returning-a-view-versus-a-copy\n",
      "  sim1.scenario[scen].dataIn_m['new_Installed_Capacity_[MW]'][row] += Under_Installment #overwrite new installed\n"
     ]
    },
    {
     "name": "stdout",
     "output_type": "stream",
     "text": [
      "Finished Area+Power Generation Calculations\n",
      "==> Working on Material :  glass\n",
      "Recycled surplus End of Sim for Mat  glass  Scenario  circ_mid  =  421758077.5700163  tonnes.\n",
      "==> Working on Material :  silicon\n",
      "Recycled surplus End of Sim for Mat  silicon  Scenario  circ_mid  =  13873097.119047098  tonnes.\n",
      "==> Working on Material :  silver\n",
      "Recycled surplus End of Sim for Mat  silver  Scenario  circ_mid  =  77324.7790420955  tonnes.\n",
      "==> Working on Material :  aluminium_frames\n",
      "Recycled surplus End of Sim for Mat  aluminium_frames  Scenario  circ_mid  =  47633801.208726875  tonnes.\n",
      "==> Working on Material :  copper\n",
      "Recycled surplus End of Sim for Mat  copper  Scenario  circ_mid  =  285147.3033614174  tonnes.\n",
      "==> Working on Material :  encapsulant\n",
      "Recycled surplus End of Sim for Mat  encapsulant  Scenario  circ_mid  =  28045749.752139796  tonnes.\n",
      "==> Working on Material :  backsheet\n",
      "Recycled surplus End of Sim for Mat  backsheet  Scenario  circ_mid  =  11568932.868826076  tonnes.\n",
      "circ_low\n",
      ">>>> Calculating Material Flows <<<<\n",
      "\n",
      "Working on Scenario:  circ_low\n",
      "********************\n"
     ]
    },
    {
     "name": "stderr",
     "output_type": "stream",
     "text": [
      "C:\\Users\\hmirletz\\AppData\\Local\\Temp\\1\\ipykernel_3292\\3246415230.py:6: SettingWithCopyWarning: \n",
      "A value is trying to be set on a copy of a slice from a DataFrame\n",
      "\n",
      "See the caveats in the documentation: https://pandas.pydata.org/pandas-docs/stable/user_guide/indexing.html#returning-a-view-versus-a-copy\n",
      "  sim1.scenario[scen].dataIn_m['new_Installed_Capacity_[MW]'][row] += Under_Installment #overwrite new installed\n"
     ]
    },
    {
     "name": "stdout",
     "output_type": "stream",
     "text": [
      "Finished Area+Power Generation Calculations\n",
      "==> Working on Material :  glass\n",
      "==> Working on Material :  silicon\n",
      "==> Working on Material :  silver\n",
      "==> Working on Material :  aluminium_frames\n",
      "==> Working on Material :  copper\n",
      "==> Working on Material :  encapsulant\n",
      "==> Working on Material :  backsheet\n",
      "75\n",
      "PV_ICE\n",
      ">>>> Calculating Material Flows <<<<\n",
      "\n",
      "Working on Scenario:  PV_ICE\n",
      "********************\n"
     ]
    },
    {
     "name": "stderr",
     "output_type": "stream",
     "text": [
      "C:\\Users\\hmirletz\\AppData\\Local\\Temp\\1\\ipykernel_3292\\3246415230.py:6: SettingWithCopyWarning: \n",
      "A value is trying to be set on a copy of a slice from a DataFrame\n",
      "\n",
      "See the caveats in the documentation: https://pandas.pydata.org/pandas-docs/stable/user_guide/indexing.html#returning-a-view-versus-a-copy\n",
      "  sim1.scenario[scen].dataIn_m['new_Installed_Capacity_[MW]'][row] += Under_Installment #overwrite new installed\n"
     ]
    },
    {
     "name": "stdout",
     "output_type": "stream",
     "text": [
      "Finished Area+Power Generation Calculations\n",
      "==> Working on Material :  glass\n",
      "==> Working on Material :  silicon\n",
      "==> Working on Material :  silver\n",
      "==> Working on Material :  aluminium_frames\n",
      "==> Working on Material :  copper\n",
      "==> Working on Material :  encapsulant\n",
      "==> Working on Material :  backsheet\n",
      "circ_high\n",
      ">>>> Calculating Material Flows <<<<\n",
      "\n",
      "Working on Scenario:  circ_high\n",
      "********************\n"
     ]
    },
    {
     "name": "stderr",
     "output_type": "stream",
     "text": [
      "C:\\Users\\hmirletz\\AppData\\Local\\Temp\\1\\ipykernel_3292\\3246415230.py:6: SettingWithCopyWarning: \n",
      "A value is trying to be set on a copy of a slice from a DataFrame\n",
      "\n",
      "See the caveats in the documentation: https://pandas.pydata.org/pandas-docs/stable/user_guide/indexing.html#returning-a-view-versus-a-copy\n",
      "  sim1.scenario[scen].dataIn_m['new_Installed_Capacity_[MW]'][row] += Under_Installment #overwrite new installed\n"
     ]
    },
    {
     "name": "stdout",
     "output_type": "stream",
     "text": [
      "Finished Area+Power Generation Calculations\n",
      "==> Working on Material :  glass\n",
      "Recycled surplus End of Sim for Mat  glass  Scenario  circ_high  =  2245536746.9510183  tonnes.\n",
      "==> Working on Material :  silicon\n",
      "Recycled surplus End of Sim for Mat  silicon  Scenario  circ_high  =  73863551.24323379  tonnes.\n",
      "==> Working on Material :  silver\n",
      "Recycled surplus End of Sim for Mat  silver  Scenario  circ_high  =  411694.8602130056  tonnes.\n",
      "==> Working on Material :  aluminium_frames\n",
      "Recycled surplus End of Sim for Mat  aluminium_frames  Scenario  circ_high  =  253613283.77498367  tonnes.\n",
      "==> Working on Material :  copper\n",
      "Recycled surplus End of Sim for Mat  copper  Scenario  circ_high  =  1518189.6495764325  tonnes.\n",
      "==> Working on Material :  encapsulant\n",
      "Recycled surplus End of Sim for Mat  encapsulant  Scenario  circ_high  =  149322004.75465128  tonnes.\n",
      "==> Working on Material :  backsheet\n",
      "Recycled surplus End of Sim for Mat  backsheet  Scenario  circ_high  =  61595652.25077597  tonnes.\n",
      "circ_mid\n",
      ">>>> Calculating Material Flows <<<<\n",
      "\n",
      "Working on Scenario:  circ_mid\n",
      "********************\n"
     ]
    },
    {
     "name": "stderr",
     "output_type": "stream",
     "text": [
      "C:\\Users\\hmirletz\\AppData\\Local\\Temp\\1\\ipykernel_3292\\3246415230.py:6: SettingWithCopyWarning: \n",
      "A value is trying to be set on a copy of a slice from a DataFrame\n",
      "\n",
      "See the caveats in the documentation: https://pandas.pydata.org/pandas-docs/stable/user_guide/indexing.html#returning-a-view-versus-a-copy\n",
      "  sim1.scenario[scen].dataIn_m['new_Installed_Capacity_[MW]'][row] += Under_Installment #overwrite new installed\n"
     ]
    },
    {
     "name": "stdout",
     "output_type": "stream",
     "text": [
      "Finished Area+Power Generation Calculations\n",
      "==> Working on Material :  glass\n",
      "Recycled surplus End of Sim for Mat  glass  Scenario  circ_mid  =  394646211.10333055  tonnes.\n",
      "==> Working on Material :  silicon\n",
      "Recycled surplus End of Sim for Mat  silicon  Scenario  circ_mid  =  12981293.081201432  tonnes.\n",
      "==> Working on Material :  silver\n",
      "Recycled surplus End of Sim for Mat  silver  Scenario  circ_mid  =  72354.11174383316  tonnes.\n",
      "==> Working on Material :  aluminium_frames\n",
      "Recycled surplus End of Sim for Mat  aluminium_frames  Scenario  circ_mid  =  44571758.47296622  tonnes.\n",
      "==> Working on Material :  copper\n",
      "Recycled surplus End of Sim for Mat  copper  Scenario  circ_mid  =  266817.18469098856  tonnes.\n",
      "==> Working on Material :  encapsulant\n",
      "Recycled surplus End of Sim for Mat  encapsulant  Scenario  circ_mid  =  26242885.355045073  tonnes.\n",
      "==> Working on Material :  backsheet\n",
      "Recycled surplus End of Sim for Mat  backsheet  Scenario  circ_mid  =  10825247.377587097  tonnes.\n",
      "circ_low\n",
      ">>>> Calculating Material Flows <<<<\n",
      "\n",
      "Working on Scenario:  circ_low\n",
      "********************\n"
     ]
    },
    {
     "name": "stderr",
     "output_type": "stream",
     "text": [
      "C:\\Users\\hmirletz\\AppData\\Local\\Temp\\1\\ipykernel_3292\\3246415230.py:6: SettingWithCopyWarning: \n",
      "A value is trying to be set on a copy of a slice from a DataFrame\n",
      "\n",
      "See the caveats in the documentation: https://pandas.pydata.org/pandas-docs/stable/user_guide/indexing.html#returning-a-view-versus-a-copy\n",
      "  sim1.scenario[scen].dataIn_m['new_Installed_Capacity_[MW]'][row] += Under_Installment #overwrite new installed\n"
     ]
    },
    {
     "name": "stdout",
     "output_type": "stream",
     "text": [
      "Finished Area+Power Generation Calculations\n",
      "==> Working on Material :  glass\n",
      "==> Working on Material :  silicon\n",
      "==> Working on Material :  silver\n",
      "==> Working on Material :  aluminium_frames\n",
      "==> Working on Material :  copper\n",
      "==> Working on Material :  encapsulant\n",
      "==> Working on Material :  backsheet\n",
      "76\n",
      "PV_ICE\n",
      ">>>> Calculating Material Flows <<<<\n",
      "\n",
      "Working on Scenario:  PV_ICE\n",
      "********************\n"
     ]
    },
    {
     "name": "stderr",
     "output_type": "stream",
     "text": [
      "C:\\Users\\hmirletz\\AppData\\Local\\Temp\\1\\ipykernel_3292\\3246415230.py:6: SettingWithCopyWarning: \n",
      "A value is trying to be set on a copy of a slice from a DataFrame\n",
      "\n",
      "See the caveats in the documentation: https://pandas.pydata.org/pandas-docs/stable/user_guide/indexing.html#returning-a-view-versus-a-copy\n",
      "  sim1.scenario[scen].dataIn_m['new_Installed_Capacity_[MW]'][row] += Under_Installment #overwrite new installed\n"
     ]
    },
    {
     "name": "stdout",
     "output_type": "stream",
     "text": [
      "Finished Area+Power Generation Calculations\n",
      "==> Working on Material :  glass\n",
      "==> Working on Material :  silicon\n",
      "==> Working on Material :  silver\n",
      "==> Working on Material :  aluminium_frames\n",
      "==> Working on Material :  copper\n",
      "==> Working on Material :  encapsulant\n",
      "==> Working on Material :  backsheet\n",
      "circ_high\n",
      ">>>> Calculating Material Flows <<<<\n",
      "\n",
      "Working on Scenario:  circ_high\n",
      "********************\n"
     ]
    },
    {
     "name": "stderr",
     "output_type": "stream",
     "text": [
      "C:\\Users\\hmirletz\\AppData\\Local\\Temp\\1\\ipykernel_3292\\3246415230.py:6: SettingWithCopyWarning: \n",
      "A value is trying to be set on a copy of a slice from a DataFrame\n",
      "\n",
      "See the caveats in the documentation: https://pandas.pydata.org/pandas-docs/stable/user_guide/indexing.html#returning-a-view-versus-a-copy\n",
      "  sim1.scenario[scen].dataIn_m['new_Installed_Capacity_[MW]'][row] += Under_Installment #overwrite new installed\n"
     ]
    },
    {
     "name": "stdout",
     "output_type": "stream",
     "text": [
      "Finished Area+Power Generation Calculations\n",
      "==> Working on Material :  glass\n",
      "Recycled surplus End of Sim for Mat  glass  Scenario  circ_high  =  2105520501.6696033  tonnes.\n",
      "==> Working on Material :  silicon\n",
      "Recycled surplus End of Sim for Mat  silicon  Scenario  circ_high  =  69257927.61125739  tonnes.\n",
      "==> Working on Material :  silver\n",
      "Recycled surplus End of Sim for Mat  silver  Scenario  circ_high  =  386024.3969676588  tonnes.\n",
      "==> Working on Material :  aluminium_frames\n",
      "Recycled surplus End of Sim for Mat  aluminium_frames  Scenario  circ_high  =  237799701.65664226  tonnes.\n",
      "==> Working on Material :  copper\n",
      "Recycled surplus End of Sim for Mat  copper  Scenario  circ_high  =  1423525.772600281  tonnes.\n",
      "==> Working on Material :  encapsulant\n",
      "Recycled surplus End of Sim for Mat  encapsulant  Scenario  circ_high  =  140011310.34182188  tonnes.\n",
      "==> Working on Material :  backsheet\n",
      "Recycled surplus End of Sim for Mat  backsheet  Scenario  circ_high  =  57754970.5226664  tonnes.\n",
      "circ_mid\n"
     ]
    },
    {
     "name": "stderr",
     "output_type": "stream",
     "text": [
      "C:\\Users\\hmirletz\\AppData\\Local\\Temp\\1\\ipykernel_3292\\3246415230.py:6: SettingWithCopyWarning: \n",
      "A value is trying to be set on a copy of a slice from a DataFrame\n",
      "\n",
      "See the caveats in the documentation: https://pandas.pydata.org/pandas-docs/stable/user_guide/indexing.html#returning-a-view-versus-a-copy\n",
      "  sim1.scenario[scen].dataIn_m['new_Installed_Capacity_[MW]'][row] += Under_Installment #overwrite new installed\n"
     ]
    },
    {
     "name": "stdout",
     "output_type": "stream",
     "text": [
      ">>>> Calculating Material Flows <<<<\n",
      "\n",
      "Working on Scenario:  circ_mid\n",
      "********************\n",
      "Finished Area+Power Generation Calculations\n",
      "==> Working on Material :  glass\n",
      "Recycled surplus End of Sim for Mat  glass  Scenario  circ_mid  =  365914955.28766245  tonnes.\n",
      "==> Working on Material :  silicon\n",
      "Recycled surplus End of Sim for Mat  silicon  Scenario  circ_mid  =  12036221.668273289  tonnes.\n",
      "==> Working on Material :  silver\n",
      "Recycled surplus End of Sim for Mat  silver  Scenario  circ_mid  =  67086.54693428983  tonnes.\n",
      "==> Working on Material :  aluminium_frames\n",
      "Recycled surplus End of Sim for Mat  aluminium_frames  Scenario  circ_mid  =  41326820.19961824  tonnes.\n",
      "==> Working on Material :  copper\n",
      "Recycled surplus End of Sim for Mat  copper  Scenario  circ_mid  =  247392.20967870875  tonnes.\n",
      "==> Working on Material :  encapsulant\n",
      "Recycled surplus End of Sim for Mat  encapsulant  Scenario  circ_mid  =  24332336.029437505  tonnes.\n",
      "==> Working on Material :  backsheet\n",
      "Recycled surplus End of Sim for Mat  backsheet  Scenario  circ_mid  =  10037141.61875109  tonnes.\n",
      "circ_low\n",
      ">>>> Calculating Material Flows <<<<\n",
      "\n",
      "Working on Scenario:  circ_low\n",
      "********************\n"
     ]
    },
    {
     "name": "stderr",
     "output_type": "stream",
     "text": [
      "C:\\Users\\hmirletz\\AppData\\Local\\Temp\\1\\ipykernel_3292\\3246415230.py:6: SettingWithCopyWarning: \n",
      "A value is trying to be set on a copy of a slice from a DataFrame\n",
      "\n",
      "See the caveats in the documentation: https://pandas.pydata.org/pandas-docs/stable/user_guide/indexing.html#returning-a-view-versus-a-copy\n",
      "  sim1.scenario[scen].dataIn_m['new_Installed_Capacity_[MW]'][row] += Under_Installment #overwrite new installed\n"
     ]
    },
    {
     "name": "stdout",
     "output_type": "stream",
     "text": [
      "Finished Area+Power Generation Calculations\n",
      "==> Working on Material :  glass\n",
      "==> Working on Material :  silicon\n",
      "==> Working on Material :  silver\n",
      "==> Working on Material :  aluminium_frames\n",
      "==> Working on Material :  copper\n",
      "==> Working on Material :  encapsulant\n",
      "==> Working on Material :  backsheet\n",
      "77\n",
      "PV_ICE\n",
      ">>>> Calculating Material Flows <<<<\n",
      "\n",
      "Working on Scenario:  PV_ICE\n",
      "********************\n"
     ]
    },
    {
     "name": "stderr",
     "output_type": "stream",
     "text": [
      "C:\\Users\\hmirletz\\AppData\\Local\\Temp\\1\\ipykernel_3292\\3246415230.py:6: SettingWithCopyWarning: \n",
      "A value is trying to be set on a copy of a slice from a DataFrame\n",
      "\n",
      "See the caveats in the documentation: https://pandas.pydata.org/pandas-docs/stable/user_guide/indexing.html#returning-a-view-versus-a-copy\n",
      "  sim1.scenario[scen].dataIn_m['new_Installed_Capacity_[MW]'][row] += Under_Installment #overwrite new installed\n"
     ]
    },
    {
     "name": "stdout",
     "output_type": "stream",
     "text": [
      "Finished Area+Power Generation Calculations\n",
      "==> Working on Material :  glass\n",
      "==> Working on Material :  silicon\n",
      "==> Working on Material :  silver\n",
      "==> Working on Material :  aluminium_frames\n",
      "==> Working on Material :  copper\n",
      "==> Working on Material :  encapsulant\n",
      "==> Working on Material :  backsheet\n",
      "circ_high\n",
      ">>>> Calculating Material Flows <<<<\n",
      "\n",
      "Working on Scenario:  circ_high\n",
      "********************\n"
     ]
    },
    {
     "name": "stderr",
     "output_type": "stream",
     "text": [
      "C:\\Users\\hmirletz\\AppData\\Local\\Temp\\1\\ipykernel_3292\\3246415230.py:6: SettingWithCopyWarning: \n",
      "A value is trying to be set on a copy of a slice from a DataFrame\n",
      "\n",
      "See the caveats in the documentation: https://pandas.pydata.org/pandas-docs/stable/user_guide/indexing.html#returning-a-view-versus-a-copy\n",
      "  sim1.scenario[scen].dataIn_m['new_Installed_Capacity_[MW]'][row] += Under_Installment #overwrite new installed\n"
     ]
    },
    {
     "name": "stdout",
     "output_type": "stream",
     "text": [
      "Finished Area+Power Generation Calculations\n",
      "==> Working on Material :  glass\n",
      "Recycled surplus End of Sim for Mat  glass  Scenario  circ_high  =  1959083922.049504  tonnes.\n",
      "==> Working on Material :  silicon\n",
      "Recycled surplus End of Sim for Mat  silicon  Scenario  circ_high  =  64441116.74528538  tonnes.\n",
      "==> Working on Material :  silver\n",
      "Recycled surplus End of Sim for Mat  silver  Scenario  circ_high  =  359176.8349054366  tonnes.\n",
      "==> Working on Material :  aluminium_frames\n",
      "Recycled surplus End of Sim for Mat  aluminium_frames  Scenario  circ_high  =  221261000.2202678  tonnes.\n",
      "==> Working on Material :  copper\n",
      "Recycled surplus End of Sim for Mat  copper  Scenario  circ_high  =  1324521.158313531  tonnes.\n",
      "==> Working on Material :  encapsulant\n",
      "Recycled surplus End of Sim for Mat  encapsulant  Scenario  circ_high  =  130273681.39053562  tonnes.\n",
      "==> Working on Material :  backsheet\n",
      "Recycled surplus End of Sim for Mat  backsheet  Scenario  circ_high  =  53738177.36739079  tonnes.\n",
      "circ_mid\n"
     ]
    },
    {
     "name": "stderr",
     "output_type": "stream",
     "text": [
      "C:\\Users\\hmirletz\\AppData\\Local\\Temp\\1\\ipykernel_3292\\3246415230.py:6: SettingWithCopyWarning: \n",
      "A value is trying to be set on a copy of a slice from a DataFrame\n",
      "\n",
      "See the caveats in the documentation: https://pandas.pydata.org/pandas-docs/stable/user_guide/indexing.html#returning-a-view-versus-a-copy\n",
      "  sim1.scenario[scen].dataIn_m['new_Installed_Capacity_[MW]'][row] += Under_Installment #overwrite new installed\n"
     ]
    },
    {
     "name": "stdout",
     "output_type": "stream",
     "text": [
      ">>>> Calculating Material Flows <<<<\n",
      "\n",
      "Working on Scenario:  circ_mid\n",
      "********************\n",
      "Finished Area+Power Generation Calculations\n",
      "==> Working on Material :  glass\n",
      "Recycled surplus End of Sim for Mat  glass  Scenario  circ_mid  =  335357266.3363977  tonnes.\n",
      "==> Working on Material :  silicon\n",
      "Recycled surplus End of Sim for Mat  silicon  Scenario  circ_mid  =  11031072.48655038  tonnes.\n",
      "==> Working on Material :  silver\n",
      "Recycled surplus End of Sim for Mat  silver  Scenario  circ_mid  =  61484.12537592296  tonnes.\n",
      "==> Working on Material :  aluminium_frames\n",
      "Recycled surplus End of Sim for Mat  aluminium_frames  Scenario  circ_mid  =  37875602.64549554  tonnes.\n",
      "==> Working on Material :  copper\n",
      "Recycled surplus End of Sim for Mat  copper  Scenario  circ_mid  =  226732.3976565819  tonnes.\n",
      "==> Working on Material :  encapsulant\n",
      "Recycled surplus End of Sim for Mat  encapsulant  Scenario  circ_mid  =  22300333.934140038  tonnes.\n",
      "==> Working on Material :  backsheet\n",
      "Recycled surplus End of Sim for Mat  backsheet  Scenario  circ_mid  =  9198936.327840075  tonnes.\n",
      "circ_low\n",
      ">>>> Calculating Material Flows <<<<\n",
      "\n",
      "Working on Scenario:  circ_low\n",
      "********************\n"
     ]
    },
    {
     "name": "stderr",
     "output_type": "stream",
     "text": [
      "C:\\Users\\hmirletz\\AppData\\Local\\Temp\\1\\ipykernel_3292\\3246415230.py:6: SettingWithCopyWarning: \n",
      "A value is trying to be set on a copy of a slice from a DataFrame\n",
      "\n",
      "See the caveats in the documentation: https://pandas.pydata.org/pandas-docs/stable/user_guide/indexing.html#returning-a-view-versus-a-copy\n",
      "  sim1.scenario[scen].dataIn_m['new_Installed_Capacity_[MW]'][row] += Under_Installment #overwrite new installed\n"
     ]
    },
    {
     "name": "stdout",
     "output_type": "stream",
     "text": [
      "Finished Area+Power Generation Calculations\n",
      "==> Working on Material :  glass\n",
      "==> Working on Material :  silicon\n",
      "==> Working on Material :  silver\n",
      "==> Working on Material :  aluminium_frames\n",
      "==> Working on Material :  copper\n",
      "==> Working on Material :  encapsulant\n",
      "==> Working on Material :  backsheet\n",
      "78\n",
      "PV_ICE\n",
      ">>>> Calculating Material Flows <<<<\n",
      "\n",
      "Working on Scenario:  PV_ICE\n",
      "********************\n"
     ]
    },
    {
     "name": "stderr",
     "output_type": "stream",
     "text": [
      "C:\\Users\\hmirletz\\AppData\\Local\\Temp\\1\\ipykernel_3292\\3246415230.py:6: SettingWithCopyWarning: \n",
      "A value is trying to be set on a copy of a slice from a DataFrame\n",
      "\n",
      "See the caveats in the documentation: https://pandas.pydata.org/pandas-docs/stable/user_guide/indexing.html#returning-a-view-versus-a-copy\n",
      "  sim1.scenario[scen].dataIn_m['new_Installed_Capacity_[MW]'][row] += Under_Installment #overwrite new installed\n"
     ]
    },
    {
     "name": "stdout",
     "output_type": "stream",
     "text": [
      "Finished Area+Power Generation Calculations\n",
      "==> Working on Material :  glass\n",
      "==> Working on Material :  silicon\n",
      "==> Working on Material :  silver\n",
      "==> Working on Material :  aluminium_frames\n",
      "==> Working on Material :  copper\n",
      "==> Working on Material :  encapsulant\n",
      "==> Working on Material :  backsheet\n",
      "circ_high\n",
      ">>>> Calculating Material Flows <<<<\n",
      "\n",
      "Working on Scenario:  circ_high\n",
      "********************\n"
     ]
    },
    {
     "name": "stderr",
     "output_type": "stream",
     "text": [
      "C:\\Users\\hmirletz\\AppData\\Local\\Temp\\1\\ipykernel_3292\\3246415230.py:6: SettingWithCopyWarning: \n",
      "A value is trying to be set on a copy of a slice from a DataFrame\n",
      "\n",
      "See the caveats in the documentation: https://pandas.pydata.org/pandas-docs/stable/user_guide/indexing.html#returning-a-view-versus-a-copy\n",
      "  sim1.scenario[scen].dataIn_m['new_Installed_Capacity_[MW]'][row] += Under_Installment #overwrite new installed\n"
     ]
    },
    {
     "name": "stdout",
     "output_type": "stream",
     "text": [
      "Finished Area+Power Generation Calculations\n",
      "==> Working on Material :  glass\n",
      "Recycled surplus End of Sim for Mat  glass  Scenario  circ_high  =  1805724760.735071  tonnes.\n",
      "==> Working on Material :  silicon\n",
      "Recycled surplus End of Sim for Mat  silicon  Scenario  circ_high  =  59396597.97455112  tonnes.\n",
      "==> Working on Material :  silver\n",
      "Recycled surplus End of Sim for Mat  silver  Scenario  circ_high  =  331060.09240925784  tonnes.\n",
      "==> Working on Material :  aluminium_frames\n",
      "Recycled surplus End of Sim for Mat  aluminium_frames  Scenario  circ_high  =  203940455.12086532  tonnes.\n",
      "==> Working on Material :  copper\n",
      "Recycled surplus End of Sim for Mat  copper  Scenario  circ_high  =  1220836.241247966  tonnes.\n",
      "==> Working on Material :  encapsulant\n",
      "Recycled surplus End of Sim for Mat  encapsulant  Scenario  circ_high  =  120075719.8358844  tonnes.\n",
      "==> Working on Material :  backsheet\n",
      "Recycled surplus End of Sim for Mat  backsheet  Scenario  circ_high  =  49531496.010418765  tonnes.\n",
      "circ_mid\n",
      ">>>> Calculating Material Flows <<<<\n",
      "\n",
      "Working on Scenario:  circ_mid\n",
      "********************\n"
     ]
    },
    {
     "name": "stderr",
     "output_type": "stream",
     "text": [
      "C:\\Users\\hmirletz\\AppData\\Local\\Temp\\1\\ipykernel_3292\\3246415230.py:6: SettingWithCopyWarning: \n",
      "A value is trying to be set on a copy of a slice from a DataFrame\n",
      "\n",
      "See the caveats in the documentation: https://pandas.pydata.org/pandas-docs/stable/user_guide/indexing.html#returning-a-view-versus-a-copy\n",
      "  sim1.scenario[scen].dataIn_m['new_Installed_Capacity_[MW]'][row] += Under_Installment #overwrite new installed\n"
     ]
    },
    {
     "name": "stdout",
     "output_type": "stream",
     "text": [
      "Finished Area+Power Generation Calculations\n",
      "==> Working on Material :  glass\n",
      "Recycled surplus End of Sim for Mat  glass  Scenario  circ_mid  =  302823852.91776836  tonnes.\n",
      "==> Working on Material :  silicon\n",
      "Recycled surplus End of Sim for Mat  silicon  Scenario  circ_mid  =  9960934.822391896  tonnes.\n",
      "==> Working on Material :  silver\n",
      "Recycled surplus End of Sim for Mat  silver  Scenario  circ_mid  =  55519.47611875965  tonnes.\n",
      "==> Working on Material :  aluminium_frames\n",
      "Recycled surplus End of Sim for Mat  aluminium_frames  Scenario  circ_mid  =  34201244.69044953  tonnes.\n",
      "==> Working on Material :  copper\n",
      "Recycled surplus End of Sim for Mat  copper  Scenario  circ_mid  =  204736.8139349538  tonnes.\n",
      "==> Working on Material :  encapsulant\n",
      "Recycled surplus End of Sim for Mat  encapsulant  Scenario  circ_mid  =  20136951.607051585  tonnes.\n",
      "==> Working on Material :  backsheet\n",
      "Recycled surplus End of Sim for Mat  backsheet  Scenario  circ_mid  =  8306536.405110911  tonnes.\n",
      "circ_low\n",
      ">>>> Calculating Material Flows <<<<\n",
      "\n",
      "Working on Scenario:  circ_low\n",
      "********************\n"
     ]
    },
    {
     "name": "stderr",
     "output_type": "stream",
     "text": [
      "C:\\Users\\hmirletz\\AppData\\Local\\Temp\\1\\ipykernel_3292\\3246415230.py:6: SettingWithCopyWarning: \n",
      "A value is trying to be set on a copy of a slice from a DataFrame\n",
      "\n",
      "See the caveats in the documentation: https://pandas.pydata.org/pandas-docs/stable/user_guide/indexing.html#returning-a-view-versus-a-copy\n",
      "  sim1.scenario[scen].dataIn_m['new_Installed_Capacity_[MW]'][row] += Under_Installment #overwrite new installed\n"
     ]
    },
    {
     "name": "stdout",
     "output_type": "stream",
     "text": [
      "Finished Area+Power Generation Calculations\n",
      "==> Working on Material :  glass\n",
      "==> Working on Material :  silicon\n",
      "==> Working on Material :  silver\n",
      "==> Working on Material :  aluminium_frames\n",
      "==> Working on Material :  copper\n",
      "==> Working on Material :  encapsulant\n",
      "==> Working on Material :  backsheet\n",
      "79\n",
      "PV_ICE\n",
      ">>>> Calculating Material Flows <<<<\n",
      "\n",
      "Working on Scenario:  PV_ICE\n",
      "********************\n"
     ]
    },
    {
     "name": "stderr",
     "output_type": "stream",
     "text": [
      "C:\\Users\\hmirletz\\AppData\\Local\\Temp\\1\\ipykernel_3292\\3246415230.py:6: SettingWithCopyWarning: \n",
      "A value is trying to be set on a copy of a slice from a DataFrame\n",
      "\n",
      "See the caveats in the documentation: https://pandas.pydata.org/pandas-docs/stable/user_guide/indexing.html#returning-a-view-versus-a-copy\n",
      "  sim1.scenario[scen].dataIn_m['new_Installed_Capacity_[MW]'][row] += Under_Installment #overwrite new installed\n"
     ]
    },
    {
     "name": "stdout",
     "output_type": "stream",
     "text": [
      "Finished Area+Power Generation Calculations\n",
      "==> Working on Material :  glass\n",
      "==> Working on Material :  silicon\n",
      "==> Working on Material :  silver\n",
      "==> Working on Material :  aluminium_frames\n",
      "==> Working on Material :  copper\n",
      "==> Working on Material :  encapsulant\n",
      "==> Working on Material :  backsheet\n",
      "circ_high\n",
      ">>>> Calculating Material Flows <<<<\n",
      "\n",
      "Working on Scenario:  circ_high\n",
      "********************\n"
     ]
    },
    {
     "name": "stderr",
     "output_type": "stream",
     "text": [
      "C:\\Users\\hmirletz\\AppData\\Local\\Temp\\1\\ipykernel_3292\\3246415230.py:6: SettingWithCopyWarning: \n",
      "A value is trying to be set on a copy of a slice from a DataFrame\n",
      "\n",
      "See the caveats in the documentation: https://pandas.pydata.org/pandas-docs/stable/user_guide/indexing.html#returning-a-view-versus-a-copy\n",
      "  sim1.scenario[scen].dataIn_m['new_Installed_Capacity_[MW]'][row] += Under_Installment #overwrite new installed\n"
     ]
    },
    {
     "name": "stdout",
     "output_type": "stream",
     "text": [
      "Finished Area+Power Generation Calculations\n",
      "==> Working on Material :  glass\n",
      "Recycled surplus End of Sim for Mat  glass  Scenario  circ_high  =  1646019453.358442  tonnes.\n",
      "==> Working on Material :  silicon\n",
      "Recycled surplus End of Sim for Mat  silicon  Scenario  circ_high  =  54143332.28150599  tonnes.\n",
      "==> Working on Material :  silver\n",
      "Recycled surplus End of Sim for Mat  silver  Scenario  circ_high  =  301779.85271379474  tonnes.\n",
      "==> Working on Material :  aluminium_frames\n",
      "Recycled surplus End of Sim for Mat  aluminium_frames  Scenario  circ_high  =  185903169.6054645  tonnes.\n",
      "==> Working on Material :  copper\n",
      "Recycled surplus End of Sim for Mat  copper  Scenario  circ_high  =  1112860.744979274  tonnes.\n",
      "==> Working on Material :  encapsulant\n",
      "Recycled surplus End of Sim for Mat  encapsulant  Scenario  circ_high  =  109455757.05869274  tonnes.\n",
      "==> Working on Material :  backsheet\n"
     ]
    },
    {
     "name": "stderr",
     "output_type": "stream",
     "text": [
      "C:\\Users\\hmirletz\\AppData\\Local\\Temp\\1\\ipykernel_3292\\3246415230.py:6: SettingWithCopyWarning: \n",
      "A value is trying to be set on a copy of a slice from a DataFrame\n",
      "\n",
      "See the caveats in the documentation: https://pandas.pydata.org/pandas-docs/stable/user_guide/indexing.html#returning-a-view-versus-a-copy\n",
      "  sim1.scenario[scen].dataIn_m['new_Installed_Capacity_[MW]'][row] += Under_Installment #overwrite new installed\n"
     ]
    },
    {
     "name": "stdout",
     "output_type": "stream",
     "text": [
      "Recycled surplus End of Sim for Mat  backsheet  Scenario  circ_high  =  45150738.229843184  tonnes.\n",
      "circ_mid\n",
      ">>>> Calculating Material Flows <<<<\n",
      "\n",
      "Working on Scenario:  circ_mid\n",
      "********************\n",
      "Finished Area+Power Generation Calculations\n",
      "==> Working on Material :  glass\n",
      "Recycled surplus End of Sim for Mat  glass  Scenario  circ_mid  =  268492420.493002  tonnes.\n",
      "==> Working on Material :  silicon\n",
      "Recycled surplus End of Sim for Mat  silicon  Scenario  circ_mid  =  8831654.029457439  tonnes.\n",
      "==> Working on Material :  silver\n",
      "Recycled surplus End of Sim for Mat  silver  Scenario  circ_mid  =  49225.17953589697  tonnes.\n",
      "==> Working on Material :  aluminium_frames\n",
      "Recycled surplus End of Sim for Mat  aluminium_frames  Scenario  circ_mid  =  30323816.576317754  tonnes.\n",
      "==> Working on Material :  copper\n",
      "Recycled surplus End of Sim for Mat  copper  Scenario  circ_mid  =  181525.60377186767  tonnes.\n",
      "==> Working on Material :  encapsulant\n",
      "Recycled surplus End of Sim for Mat  encapsulant  Scenario  circ_mid  =  17854005.971570194  tonnes.\n",
      "==> Working on Material :  backsheet\n",
      "Recycled surplus End of Sim for Mat  backsheet  Scenario  circ_mid  =  7364816.357207796  tonnes.\n",
      "circ_low\n",
      ">>>> Calculating Material Flows <<<<\n",
      "\n",
      "Working on Scenario:  circ_low\n",
      "********************\n"
     ]
    },
    {
     "name": "stderr",
     "output_type": "stream",
     "text": [
      "C:\\Users\\hmirletz\\AppData\\Local\\Temp\\1\\ipykernel_3292\\3246415230.py:6: SettingWithCopyWarning: \n",
      "A value is trying to be set on a copy of a slice from a DataFrame\n",
      "\n",
      "See the caveats in the documentation: https://pandas.pydata.org/pandas-docs/stable/user_guide/indexing.html#returning-a-view-versus-a-copy\n",
      "  sim1.scenario[scen].dataIn_m['new_Installed_Capacity_[MW]'][row] += Under_Installment #overwrite new installed\n"
     ]
    },
    {
     "name": "stdout",
     "output_type": "stream",
     "text": [
      "Finished Area+Power Generation Calculations\n",
      "==> Working on Material :  glass\n",
      "==> Working on Material :  silicon\n",
      "==> Working on Material :  silver\n",
      "==> Working on Material :  aluminium_frames\n",
      "==> Working on Material :  copper\n",
      "==> Working on Material :  encapsulant\n",
      "==> Working on Material :  backsheet\n",
      "80\n",
      "PV_ICE\n",
      ">>>> Calculating Material Flows <<<<\n",
      "\n",
      "Working on Scenario:  PV_ICE\n",
      "********************\n"
     ]
    },
    {
     "name": "stderr",
     "output_type": "stream",
     "text": [
      "C:\\Users\\hmirletz\\AppData\\Local\\Temp\\1\\ipykernel_3292\\3246415230.py:6: SettingWithCopyWarning: \n",
      "A value is trying to be set on a copy of a slice from a DataFrame\n",
      "\n",
      "See the caveats in the documentation: https://pandas.pydata.org/pandas-docs/stable/user_guide/indexing.html#returning-a-view-versus-a-copy\n",
      "  sim1.scenario[scen].dataIn_m['new_Installed_Capacity_[MW]'][row] += Under_Installment #overwrite new installed\n"
     ]
    },
    {
     "name": "stdout",
     "output_type": "stream",
     "text": [
      "Finished Area+Power Generation Calculations\n",
      "==> Working on Material :  glass\n",
      "==> Working on Material :  silicon\n",
      "==> Working on Material :  silver\n",
      "==> Working on Material :  aluminium_frames\n",
      "==> Working on Material :  copper\n",
      "==> Working on Material :  encapsulant\n",
      "==> Working on Material :  backsheet\n",
      "circ_high\n",
      ">>>> Calculating Material Flows <<<<\n",
      "\n",
      "Working on Scenario:  circ_high\n",
      "********************\n"
     ]
    },
    {
     "name": "stderr",
     "output_type": "stream",
     "text": [
      "C:\\Users\\hmirletz\\AppData\\Local\\Temp\\1\\ipykernel_3292\\3246415230.py:6: SettingWithCopyWarning: \n",
      "A value is trying to be set on a copy of a slice from a DataFrame\n",
      "\n",
      "See the caveats in the documentation: https://pandas.pydata.org/pandas-docs/stable/user_guide/indexing.html#returning-a-view-versus-a-copy\n",
      "  sim1.scenario[scen].dataIn_m['new_Installed_Capacity_[MW]'][row] += Under_Installment #overwrite new installed\n"
     ]
    },
    {
     "name": "stdout",
     "output_type": "stream",
     "text": [
      "Finished Area+Power Generation Calculations\n",
      "==> Working on Material :  glass\n",
      "Recycled surplus End of Sim for Mat  glass  Scenario  circ_high  =  1481457612.8480675  tonnes.\n",
      "==> Working on Material :  silicon\n",
      "Recycled surplus End of Sim for Mat  silicon  Scenario  circ_high  =  48730318.24122223  tonnes.\n",
      "==> Working on Material :  silver\n",
      "Recycled surplus End of Sim for Mat  silver  Scenario  circ_high  =  271609.2202281302  tonnes.\n",
      "==> Working on Material :  aluminium_frames\n",
      "Recycled surplus End of Sim for Mat  aluminium_frames  Scenario  circ_high  =  167317382.12611946  tonnes.\n",
      "==> Working on Material :  copper\n",
      "Recycled surplus End of Sim for Mat  copper  Scenario  circ_high  =  1001601.7850369237  tonnes.\n",
      "==> Working on Material :  encapsulant\n",
      "Recycled surplus End of Sim for Mat  encapsulant  Scenario  circ_high  =  98512848.21318437  tonnes.\n",
      "==> Working on Material :  backsheet\n",
      "Recycled surplus End of Sim for Mat  backsheet  Scenario  circ_high  =  40636764.49256736  tonnes.\n",
      "circ_mid\n",
      ">>>> Calculating Material Flows <<<<\n",
      "\n",
      "Working on Scenario:  circ_mid\n",
      "********************\n"
     ]
    },
    {
     "name": "stderr",
     "output_type": "stream",
     "text": [
      "C:\\Users\\hmirletz\\AppData\\Local\\Temp\\1\\ipykernel_3292\\3246415230.py:6: SettingWithCopyWarning: \n",
      "A value is trying to be set on a copy of a slice from a DataFrame\n",
      "\n",
      "See the caveats in the documentation: https://pandas.pydata.org/pandas-docs/stable/user_guide/indexing.html#returning-a-view-versus-a-copy\n",
      "  sim1.scenario[scen].dataIn_m['new_Installed_Capacity_[MW]'][row] += Under_Installment #overwrite new installed\n"
     ]
    },
    {
     "name": "stdout",
     "output_type": "stream",
     "text": [
      "Finished Area+Power Generation Calculations\n",
      "==> Working on Material :  glass\n",
      "Recycled surplus End of Sim for Mat  glass  Scenario  circ_mid  =  232814263.3229091  tonnes.\n",
      "==> Working on Material :  silicon\n",
      "Recycled surplus End of Sim for Mat  silicon  Scenario  circ_mid  =  7658074.75315501  tonnes.\n",
      "==> Working on Material :  silver\n",
      "Recycled surplus End of Sim for Mat  silver  Scenario  circ_mid  =  42683.97554591862  tonnes.\n",
      "==> Working on Material :  aluminium_frames\n",
      "Recycled surplus End of Sim for Mat  aluminium_frames  Scenario  circ_mid  =  26294287.95193287  tonnes.\n",
      "==> Working on Material :  copper\n",
      "Recycled surplus End of Sim for Mat  copper  Scenario  circ_mid  =  157403.8836507685  tonnes.\n",
      "==> Working on Material :  encapsulant\n",
      "Recycled surplus End of Sim for Mat  encapsulant  Scenario  circ_mid  =  15481506.852228904  tonnes.\n",
      "==> Working on Material :  backsheet\n",
      "Recycled surplus End of Sim for Mat  backsheet  Scenario  circ_mid  =  6386155.302125317  tonnes.\n",
      "circ_low\n",
      ">>>> Calculating Material Flows <<<<\n",
      "\n",
      "Working on Scenario:  circ_low\n",
      "********************\n"
     ]
    },
    {
     "name": "stderr",
     "output_type": "stream",
     "text": [
      "C:\\Users\\hmirletz\\AppData\\Local\\Temp\\1\\ipykernel_3292\\3246415230.py:6: SettingWithCopyWarning: \n",
      "A value is trying to be set on a copy of a slice from a DataFrame\n",
      "\n",
      "See the caveats in the documentation: https://pandas.pydata.org/pandas-docs/stable/user_guide/indexing.html#returning-a-view-versus-a-copy\n",
      "  sim1.scenario[scen].dataIn_m['new_Installed_Capacity_[MW]'][row] += Under_Installment #overwrite new installed\n"
     ]
    },
    {
     "name": "stdout",
     "output_type": "stream",
     "text": [
      "Finished Area+Power Generation Calculations\n",
      "==> Working on Material :  glass\n",
      "==> Working on Material :  silicon\n",
      "==> Working on Material :  silver\n",
      "==> Working on Material :  aluminium_frames\n",
      "==> Working on Material :  copper\n",
      "==> Working on Material :  encapsulant\n",
      "==> Working on Material :  backsheet\n",
      "81\n",
      "PV_ICE\n",
      ">>>> Calculating Material Flows <<<<\n",
      "\n",
      "Working on Scenario:  PV_ICE\n",
      "********************\n"
     ]
    },
    {
     "name": "stderr",
     "output_type": "stream",
     "text": [
      "C:\\Users\\hmirletz\\AppData\\Local\\Temp\\1\\ipykernel_3292\\3246415230.py:6: SettingWithCopyWarning: \n",
      "A value is trying to be set on a copy of a slice from a DataFrame\n",
      "\n",
      "See the caveats in the documentation: https://pandas.pydata.org/pandas-docs/stable/user_guide/indexing.html#returning-a-view-versus-a-copy\n",
      "  sim1.scenario[scen].dataIn_m['new_Installed_Capacity_[MW]'][row] += Under_Installment #overwrite new installed\n"
     ]
    },
    {
     "name": "stdout",
     "output_type": "stream",
     "text": [
      "Finished Area+Power Generation Calculations\n",
      "==> Working on Material :  glass\n",
      "==> Working on Material :  silicon\n",
      "==> Working on Material :  silver\n",
      "==> Working on Material :  aluminium_frames\n",
      "==> Working on Material :  copper\n",
      "==> Working on Material :  encapsulant\n",
      "==> Working on Material :  backsheet\n",
      "circ_high\n",
      ">>>> Calculating Material Flows <<<<\n",
      "\n",
      "Working on Scenario:  circ_high\n",
      "********************\n"
     ]
    },
    {
     "name": "stderr",
     "output_type": "stream",
     "text": [
      "C:\\Users\\hmirletz\\AppData\\Local\\Temp\\1\\ipykernel_3292\\3246415230.py:6: SettingWithCopyWarning: \n",
      "A value is trying to be set on a copy of a slice from a DataFrame\n",
      "\n",
      "See the caveats in the documentation: https://pandas.pydata.org/pandas-docs/stable/user_guide/indexing.html#returning-a-view-versus-a-copy\n",
      "  sim1.scenario[scen].dataIn_m['new_Installed_Capacity_[MW]'][row] += Under_Installment #overwrite new installed\n"
     ]
    },
    {
     "name": "stdout",
     "output_type": "stream",
     "text": [
      "Finished Area+Power Generation Calculations\n",
      "==> Working on Material :  glass\n",
      "Recycled surplus End of Sim for Mat  glass  Scenario  circ_high  =  1310308917.5888746  tonnes.\n",
      "==> Working on Material :  silicon\n",
      "Recycled surplus End of Sim for Mat  silicon  Scenario  circ_high  =  43100639.52870291  tonnes.\n",
      "==> Working on Material :  silver\n",
      "Recycled surplus End of Sim for Mat  silver  Scenario  circ_high  =  240230.959210561  tonnes.\n",
      "==> Working on Material :  aluminium_frames\n",
      "Recycled surplus End of Sim for Mat  aluminium_frames  Scenario  circ_high  =  147987668.3383473  tonnes.\n",
      "==> Working on Material :  copper\n",
      "Recycled surplus End of Sim for Mat  copper  Scenario  circ_high  =  885889.5046505865  tonnes.\n",
      "==> Working on Material :  encapsulant\n",
      "Recycled surplus End of Sim for Mat  encapsulant  Scenario  circ_high  =  87131931.68089166  tonnes.\n",
      "==> Working on Material :  backsheet\n",
      "Recycled surplus End of Sim for Mat  backsheet  Scenario  circ_high  =  35942111.63031817  tonnes.\n",
      "circ_mid\n",
      ">>>> Calculating Material Flows <<<<\n",
      "\n",
      "Working on Scenario:  circ_mid\n",
      "********************\n"
     ]
    },
    {
     "name": "stderr",
     "output_type": "stream",
     "text": [
      "C:\\Users\\hmirletz\\AppData\\Local\\Temp\\1\\ipykernel_3292\\3246415230.py:6: SettingWithCopyWarning: \n",
      "A value is trying to be set on a copy of a slice from a DataFrame\n",
      "\n",
      "See the caveats in the documentation: https://pandas.pydata.org/pandas-docs/stable/user_guide/indexing.html#returning-a-view-versus-a-copy\n",
      "  sim1.scenario[scen].dataIn_m['new_Installed_Capacity_[MW]'][row] += Under_Installment #overwrite new installed\n"
     ]
    },
    {
     "name": "stdout",
     "output_type": "stream",
     "text": [
      "Finished Area+Power Generation Calculations\n",
      "==> Working on Material :  glass\n",
      "Recycled surplus End of Sim for Mat  glass  Scenario  circ_mid  =  195269086.78995907  tonnes.\n",
      "==> Working on Material :  silicon\n",
      "Recycled surplus End of Sim for Mat  silicon  Scenario  circ_mid  =  6423082.685203641  tonnes.\n",
      "==> Working on Material :  silver\n",
      "Recycled surplus End of Sim for Mat  silver  Scenario  circ_mid  =  35800.4737615932  tonnes.\n",
      "==> Working on Material :  aluminium_frames\n",
      "Recycled surplus End of Sim for Mat  aluminium_frames  Scenario  circ_mid  =  22053896.195546865  tonnes.\n",
      "==> Working on Material :  copper\n",
      "Recycled surplus End of Sim for Mat  copper  Scenario  circ_mid  =  132019.8864922983  tonnes.\n",
      "==> Working on Material :  encapsulant\n",
      "Recycled surplus End of Sim for Mat  encapsulant  Scenario  circ_mid  =  12984856.09094449  tonnes.\n",
      "==> Working on Material :  backsheet\n",
      "Recycled surplus End of Sim for Mat  backsheet  Scenario  circ_mid  =  5356281.4242840195  tonnes.\n",
      "circ_low\n",
      ">>>> Calculating Material Flows <<<<\n",
      "\n",
      "Working on Scenario:  circ_low\n",
      "********************\n"
     ]
    },
    {
     "name": "stderr",
     "output_type": "stream",
     "text": [
      "C:\\Users\\hmirletz\\AppData\\Local\\Temp\\1\\ipykernel_3292\\3246415230.py:6: SettingWithCopyWarning: \n",
      "A value is trying to be set on a copy of a slice from a DataFrame\n",
      "\n",
      "See the caveats in the documentation: https://pandas.pydata.org/pandas-docs/stable/user_guide/indexing.html#returning-a-view-versus-a-copy\n",
      "  sim1.scenario[scen].dataIn_m['new_Installed_Capacity_[MW]'][row] += Under_Installment #overwrite new installed\n"
     ]
    },
    {
     "name": "stdout",
     "output_type": "stream",
     "text": [
      "Finished Area+Power Generation Calculations\n",
      "==> Working on Material :  glass\n",
      "==> Working on Material :  silicon\n",
      "==> Working on Material :  silver\n",
      "==> Working on Material :  aluminium_frames\n",
      "==> Working on Material :  copper\n",
      "==> Working on Material :  encapsulant\n",
      "==> Working on Material :  backsheet\n",
      "82\n",
      "PV_ICE\n"
     ]
    },
    {
     "name": "stderr",
     "output_type": "stream",
     "text": [
      "C:\\Users\\hmirletz\\AppData\\Local\\Temp\\1\\ipykernel_3292\\3246415230.py:6: SettingWithCopyWarning: \n",
      "A value is trying to be set on a copy of a slice from a DataFrame\n",
      "\n",
      "See the caveats in the documentation: https://pandas.pydata.org/pandas-docs/stable/user_guide/indexing.html#returning-a-view-versus-a-copy\n",
      "  sim1.scenario[scen].dataIn_m['new_Installed_Capacity_[MW]'][row] += Under_Installment #overwrite new installed\n"
     ]
    },
    {
     "name": "stdout",
     "output_type": "stream",
     "text": [
      ">>>> Calculating Material Flows <<<<\n",
      "\n",
      "Working on Scenario:  PV_ICE\n",
      "********************\n",
      "Finished Area+Power Generation Calculations\n",
      "==> Working on Material :  glass\n",
      "==> Working on Material :  silicon\n",
      "==> Working on Material :  silver\n",
      "==> Working on Material :  aluminium_frames\n",
      "==> Working on Material :  copper\n",
      "==> Working on Material :  encapsulant\n",
      "==> Working on Material :  backsheet\n",
      "circ_high\n",
      ">>>> Calculating Material Flows <<<<\n",
      "\n",
      "Working on Scenario:  circ_high\n",
      "********************\n"
     ]
    },
    {
     "name": "stderr",
     "output_type": "stream",
     "text": [
      "C:\\Users\\hmirletz\\AppData\\Local\\Temp\\1\\ipykernel_3292\\3246415230.py:6: SettingWithCopyWarning: \n",
      "A value is trying to be set on a copy of a slice from a DataFrame\n",
      "\n",
      "See the caveats in the documentation: https://pandas.pydata.org/pandas-docs/stable/user_guide/indexing.html#returning-a-view-versus-a-copy\n",
      "  sim1.scenario[scen].dataIn_m['new_Installed_Capacity_[MW]'][row] += Under_Installment #overwrite new installed\n"
     ]
    },
    {
     "name": "stdout",
     "output_type": "stream",
     "text": [
      "Finished Area+Power Generation Calculations\n",
      "==> Working on Material :  glass\n",
      "Recycled surplus End of Sim for Mat  glass  Scenario  circ_high  =  1135215822.7825544  tonnes.\n",
      "==> Working on Material :  silicon\n",
      "Recycled surplus End of Sim for Mat  silicon  Scenario  circ_high  =  37341215.730306655  tonnes.\n",
      "==> Working on Material :  silver\n",
      "Recycled surplus End of Sim for Mat  silver  Scenario  circ_high  =  208129.5352243238  tonnes.\n",
      "==> Working on Material :  aluminium_frames\n",
      "Recycled surplus End of Sim for Mat  aluminium_frames  Scenario  circ_high  =  128212469.91398415  tonnes.\n",
      "==> Working on Material :  copper\n",
      "Recycled surplus End of Sim for Mat  copper  Scenario  circ_high  =  767510.4469004982  tonnes.\n",
      "==> Working on Material :  encapsulant\n",
      "Recycled surplus End of Sim for Mat  encapsulant  Scenario  circ_high  =  75488723.44986369  tonnes.\n",
      "==> Working on Material :  backsheet\n",
      "Recycled surplus End of Sim for Mat  backsheet  Scenario  circ_high  =  31139262.870953165  tonnes.\n",
      "circ_mid\n",
      ">>>> Calculating Material Flows <<<<\n",
      "\n",
      "Working on Scenario:  circ_mid\n",
      "********************\n"
     ]
    },
    {
     "name": "stderr",
     "output_type": "stream",
     "text": [
      "C:\\Users\\hmirletz\\AppData\\Local\\Temp\\1\\ipykernel_3292\\3246415230.py:6: SettingWithCopyWarning: \n",
      "A value is trying to be set on a copy of a slice from a DataFrame\n",
      "\n",
      "See the caveats in the documentation: https://pandas.pydata.org/pandas-docs/stable/user_guide/indexing.html#returning-a-view-versus-a-copy\n",
      "  sim1.scenario[scen].dataIn_m['new_Installed_Capacity_[MW]'][row] += Under_Installment #overwrite new installed\n"
     ]
    },
    {
     "name": "stdout",
     "output_type": "stream",
     "text": [
      "Finished Area+Power Generation Calculations\n",
      "==> Working on Material :  glass\n",
      "Recycled surplus End of Sim for Mat  glass  Scenario  circ_mid  =  156652118.1017316  tonnes.\n",
      "==> Working on Material :  silicon\n",
      "Recycled surplus End of Sim for Mat  silicon  Scenario  circ_mid  =  5152835.627597394  tonnes.\n",
      "==> Working on Material :  silver\n",
      "Recycled surplus End of Sim for Mat  silver  Scenario  circ_mid  =  28720.47048507742  tonnes.\n",
      "==> Working on Material :  aluminium_frames\n",
      "Recycled surplus End of Sim for Mat  aluminium_frames  Scenario  circ_mid  =  17692455.105012495  tonnes.\n",
      "==> Working on Material :  copper\n",
      "Recycled surplus End of Sim for Mat  copper  Scenario  circ_mid  =  105911.25912733146  tonnes.\n",
      "==> Working on Material :  encapsulant\n",
      "Recycled surplus End of Sim for Mat  encapsulant  Scenario  circ_mid  =  10416934.10529753  tonnes.\n",
      "==> Working on Material :  backsheet\n",
      "Recycled surplus End of Sim for Mat  backsheet  Scenario  circ_mid  =  4297008.0111328615  tonnes.\n",
      "circ_low\n",
      ">>>> Calculating Material Flows <<<<\n",
      "\n",
      "Working on Scenario:  circ_low\n",
      "********************\n"
     ]
    },
    {
     "name": "stderr",
     "output_type": "stream",
     "text": [
      "C:\\Users\\hmirletz\\AppData\\Local\\Temp\\1\\ipykernel_3292\\3246415230.py:6: SettingWithCopyWarning: \n",
      "A value is trying to be set on a copy of a slice from a DataFrame\n",
      "\n",
      "See the caveats in the documentation: https://pandas.pydata.org/pandas-docs/stable/user_guide/indexing.html#returning-a-view-versus-a-copy\n",
      "  sim1.scenario[scen].dataIn_m['new_Installed_Capacity_[MW]'][row] += Under_Installment #overwrite new installed\n"
     ]
    },
    {
     "name": "stdout",
     "output_type": "stream",
     "text": [
      "Finished Area+Power Generation Calculations\n",
      "==> Working on Material :  glass\n",
      "==> Working on Material :  silicon\n",
      "==> Working on Material :  silver\n",
      "==> Working on Material :  aluminium_frames\n",
      "==> Working on Material :  copper\n",
      "==> Working on Material :  encapsulant\n",
      "==> Working on Material :  backsheet\n",
      "83\n",
      "PV_ICE\n",
      ">>>> Calculating Material Flows <<<<\n",
      "\n",
      "Working on Scenario:  PV_ICE\n",
      "********************\n"
     ]
    },
    {
     "name": "stderr",
     "output_type": "stream",
     "text": [
      "C:\\Users\\hmirletz\\AppData\\Local\\Temp\\1\\ipykernel_3292\\3246415230.py:6: SettingWithCopyWarning: \n",
      "A value is trying to be set on a copy of a slice from a DataFrame\n",
      "\n",
      "See the caveats in the documentation: https://pandas.pydata.org/pandas-docs/stable/user_guide/indexing.html#returning-a-view-versus-a-copy\n",
      "  sim1.scenario[scen].dataIn_m['new_Installed_Capacity_[MW]'][row] += Under_Installment #overwrite new installed\n"
     ]
    },
    {
     "name": "stdout",
     "output_type": "stream",
     "text": [
      "Finished Area+Power Generation Calculations\n",
      "==> Working on Material :  glass\n",
      "==> Working on Material :  silicon\n",
      "==> Working on Material :  silver\n",
      "==> Working on Material :  aluminium_frames\n",
      "==> Working on Material :  copper\n",
      "==> Working on Material :  encapsulant\n",
      "==> Working on Material :  backsheet\n",
      "circ_high\n",
      ">>>> Calculating Material Flows <<<<\n",
      "\n",
      "Working on Scenario:  circ_high\n",
      "********************\n"
     ]
    },
    {
     "name": "stderr",
     "output_type": "stream",
     "text": [
      "C:\\Users\\hmirletz\\AppData\\Local\\Temp\\1\\ipykernel_3292\\3246415230.py:6: SettingWithCopyWarning: \n",
      "A value is trying to be set on a copy of a slice from a DataFrame\n",
      "\n",
      "See the caveats in the documentation: https://pandas.pydata.org/pandas-docs/stable/user_guide/indexing.html#returning-a-view-versus-a-copy\n",
      "  sim1.scenario[scen].dataIn_m['new_Installed_Capacity_[MW]'][row] += Under_Installment #overwrite new installed\n"
     ]
    },
    {
     "name": "stdout",
     "output_type": "stream",
     "text": [
      "Finished Area+Power Generation Calculations\n",
      "==> Working on Material :  glass\n",
      "Recycled surplus End of Sim for Mat  glass  Scenario  circ_high  =  954885228.7516917  tonnes.\n",
      "==> Working on Material :  silicon\n",
      "Recycled surplus End of Sim for Mat  silicon  Scenario  circ_high  =  31409512.278556384  tonnes.\n",
      "==> Working on Material :  silver\n",
      "Recycled surplus End of Sim for Mat  silver  Scenario  circ_high  =  175067.87243814635  tonnes.\n",
      "==> Working on Material :  aluminium_frames\n",
      "Recycled surplus End of Sim for Mat  aluminium_frames  Scenario  circ_high  =  107845742.81439057  tonnes.\n",
      "==> Working on Material :  copper\n",
      "Recycled surplus End of Sim for Mat  copper  Scenario  circ_high  =  645590.3573132949  tonnes.\n",
      "==> Working on Material :  encapsulant\n",
      "Recycled surplus End of Sim for Mat  encapsulant  Scenario  circ_high  =  63497235.95546063  tonnes.\n",
      "==> Working on Material :  backsheet\n",
      "Recycled surplus End of Sim for Mat  backsheet  Scenario  circ_high  =  26192748.15673938  tonnes.\n",
      "circ_mid\n",
      ">>>> Calculating Material Flows <<<<\n",
      "\n",
      "Working on Scenario:  circ_mid\n",
      "********************\n"
     ]
    },
    {
     "name": "stderr",
     "output_type": "stream",
     "text": [
      "C:\\Users\\hmirletz\\AppData\\Local\\Temp\\1\\ipykernel_3292\\3246415230.py:6: SettingWithCopyWarning: \n",
      "A value is trying to be set on a copy of a slice from a DataFrame\n",
      "\n",
      "See the caveats in the documentation: https://pandas.pydata.org/pandas-docs/stable/user_guide/indexing.html#returning-a-view-versus-a-copy\n",
      "  sim1.scenario[scen].dataIn_m['new_Installed_Capacity_[MW]'][row] += Under_Installment #overwrite new installed\n"
     ]
    },
    {
     "name": "stdout",
     "output_type": "stream",
     "text": [
      "Finished Area+Power Generation Calculations\n",
      "==> Working on Material :  glass\n",
      "Recycled surplus End of Sim for Mat  glass  Scenario  circ_mid  =  116576048.04748492  tonnes.\n",
      "==> Working on Material :  silicon\n",
      "Recycled surplus End of Sim for Mat  silicon  Scenario  circ_mid  =  3834593.6268380783  tonnes.\n",
      "==> Working on Material :  silver\n",
      "Recycled surplus End of Sim for Mat  silver  Scenario  circ_mid  =  21372.956764238937  tonnes.\n",
      "==> Working on Material :  aluminium_frames\n",
      "Recycled surplus End of Sim for Mat  aluminium_frames  Scenario  circ_mid  =  13166221.57040026  tonnes.\n",
      "==> Working on Material :  copper\n",
      "Recycled surplus End of Sim for Mat  copper  Scenario  circ_mid  =  78816.14485914144  tonnes.\n",
      "==> Working on Material :  encapsulant\n",
      "Recycled surplus End of Sim for Mat  encapsulant  Scenario  circ_mid  =  7751985.900235502  tonnes.\n",
      "==> Working on Material :  backsheet\n",
      "Recycled surplus End of Sim for Mat  backsheet  Scenario  circ_mid  =  3197711.071106896  tonnes.\n",
      "circ_low\n",
      ">>>> Calculating Material Flows <<<<\n",
      "\n",
      "Working on Scenario:  circ_low\n",
      "********************\n"
     ]
    },
    {
     "name": "stderr",
     "output_type": "stream",
     "text": [
      "C:\\Users\\hmirletz\\AppData\\Local\\Temp\\1\\ipykernel_3292\\3246415230.py:6: SettingWithCopyWarning: \n",
      "A value is trying to be set on a copy of a slice from a DataFrame\n",
      "\n",
      "See the caveats in the documentation: https://pandas.pydata.org/pandas-docs/stable/user_guide/indexing.html#returning-a-view-versus-a-copy\n",
      "  sim1.scenario[scen].dataIn_m['new_Installed_Capacity_[MW]'][row] += Under_Installment #overwrite new installed\n"
     ]
    },
    {
     "name": "stdout",
     "output_type": "stream",
     "text": [
      "Finished Area+Power Generation Calculations\n",
      "==> Working on Material :  glass\n",
      "==> Working on Material :  silicon\n",
      "==> Working on Material :  silver\n",
      "==> Working on Material :  aluminium_frames\n",
      "==> Working on Material :  copper\n",
      "==> Working on Material :  encapsulant\n",
      "==> Working on Material :  backsheet\n",
      "84\n",
      "PV_ICE\n",
      ">>>> Calculating Material Flows <<<<\n",
      "\n",
      "Working on Scenario:  PV_ICE\n",
      "********************\n"
     ]
    },
    {
     "name": "stderr",
     "output_type": "stream",
     "text": [
      "C:\\Users\\hmirletz\\AppData\\Local\\Temp\\1\\ipykernel_3292\\3246415230.py:6: SettingWithCopyWarning: \n",
      "A value is trying to be set on a copy of a slice from a DataFrame\n",
      "\n",
      "See the caveats in the documentation: https://pandas.pydata.org/pandas-docs/stable/user_guide/indexing.html#returning-a-view-versus-a-copy\n",
      "  sim1.scenario[scen].dataIn_m['new_Installed_Capacity_[MW]'][row] += Under_Installment #overwrite new installed\n"
     ]
    },
    {
     "name": "stdout",
     "output_type": "stream",
     "text": [
      "Finished Area+Power Generation Calculations\n",
      "==> Working on Material :  glass\n",
      "==> Working on Material :  silicon\n",
      "==> Working on Material :  silver\n",
      "==> Working on Material :  aluminium_frames\n",
      "==> Working on Material :  copper\n",
      "==> Working on Material :  encapsulant\n",
      "==> Working on Material :  backsheet\n",
      "circ_high\n",
      ">>>> Calculating Material Flows <<<<\n",
      "\n",
      "Working on Scenario:  circ_high\n",
      "********************\n"
     ]
    },
    {
     "name": "stderr",
     "output_type": "stream",
     "text": [
      "C:\\Users\\hmirletz\\AppData\\Local\\Temp\\1\\ipykernel_3292\\3246415230.py:6: SettingWithCopyWarning: \n",
      "A value is trying to be set on a copy of a slice from a DataFrame\n",
      "\n",
      "See the caveats in the documentation: https://pandas.pydata.org/pandas-docs/stable/user_guide/indexing.html#returning-a-view-versus-a-copy\n",
      "  sim1.scenario[scen].dataIn_m['new_Installed_Capacity_[MW]'][row] += Under_Installment #overwrite new installed\n"
     ]
    },
    {
     "name": "stdout",
     "output_type": "stream",
     "text": [
      "Finished Area+Power Generation Calculations\n",
      "==> Working on Material :  glass\n",
      "Recycled surplus End of Sim for Mat  glass  Scenario  circ_high  =  771108458.209719  tonnes.\n",
      "==> Working on Material :  silicon\n",
      "Recycled surplus End of Sim for Mat  silicon  Scenario  circ_high  =  25364452.037759025  tonnes.\n",
      "==> Working on Material :  silver\n",
      "Recycled surplus End of Sim for Mat  silver  Scenario  circ_high  =  141374.3904849315  tonnes.\n",
      "==> Working on Material :  aluminium_frames\n",
      "Recycled surplus End of Sim for Mat  aluminium_frames  Scenario  circ_high  =  87089800.91230604  tonnes.\n",
      "==> Working on Material :  copper\n",
      "Recycled surplus End of Sim for Mat  copper  Scenario  circ_high  =  521340.33501985366  tonnes.\n",
      "==> Working on Material :  encapsulant\n",
      "Recycled surplus End of Sim for Mat  encapsulant  Scenario  circ_high  =  51276587.22106629  tonnes.\n",
      "==> Working on Material :  backsheet\n",
      "Recycled surplus End of Sim for Mat  backsheet  Scenario  circ_high  =  21151703.931814503  tonnes.\n",
      "circ_mid\n",
      ">>>> Calculating Material Flows <<<<\n",
      "\n",
      "Working on Scenario:  circ_mid\n",
      "********************\n"
     ]
    },
    {
     "name": "stderr",
     "output_type": "stream",
     "text": [
      "C:\\Users\\hmirletz\\AppData\\Local\\Temp\\1\\ipykernel_3292\\3246415230.py:6: SettingWithCopyWarning: \n",
      "A value is trying to be set on a copy of a slice from a DataFrame\n",
      "\n",
      "See the caveats in the documentation: https://pandas.pydata.org/pandas-docs/stable/user_guide/indexing.html#returning-a-view-versus-a-copy\n",
      "  sim1.scenario[scen].dataIn_m['new_Installed_Capacity_[MW]'][row] += Under_Installment #overwrite new installed\n"
     ]
    },
    {
     "name": "stdout",
     "output_type": "stream",
     "text": [
      "Finished Area+Power Generation Calculations\n",
      "==> Working on Material :  glass\n",
      "Recycled surplus End of Sim for Mat  glass  Scenario  circ_mid  =  75578894.95008953  tonnes.\n",
      "==> Working on Material :  silicon\n",
      "Recycled surplus End of Sim for Mat  silicon  Scenario  circ_mid  =  2486053.985815573  tonnes.\n",
      "==> Working on Material :  silver\n",
      "Recycled surplus End of Sim for Mat  silver  Scenario  circ_mid  =  13856.572435868144  tonnes.\n",
      "==> Working on Material :  aluminium_frames\n",
      "Recycled surplus End of Sim for Mat  aluminium_frames  Scenario  circ_mid  =  8535959.947394634  tonnes.\n",
      "==> Working on Material :  copper\n",
      "Recycled surplus End of Sim for Mat  copper  Scenario  circ_mid  =  51098.29362420725  tonnes.\n",
      "==> Working on Material :  encapsulant\n",
      "Recycled surplus End of Sim for Mat  encapsulant  Scenario  circ_mid  =  5025788.211398482  tonnes.\n",
      "==> Working on Material :  backsheet\n",
      "Recycled surplus End of Sim for Mat  backsheet  Scenario  circ_mid  =  2073148.585595235  tonnes.\n",
      "circ_low\n",
      ">>>> Calculating Material Flows <<<<\n",
      "\n",
      "Working on Scenario:  circ_low\n",
      "********************\n"
     ]
    },
    {
     "name": "stderr",
     "output_type": "stream",
     "text": [
      "C:\\Users\\hmirletz\\AppData\\Local\\Temp\\1\\ipykernel_3292\\3246415230.py:6: SettingWithCopyWarning: \n",
      "A value is trying to be set on a copy of a slice from a DataFrame\n",
      "\n",
      "See the caveats in the documentation: https://pandas.pydata.org/pandas-docs/stable/user_guide/indexing.html#returning-a-view-versus-a-copy\n",
      "  sim1.scenario[scen].dataIn_m['new_Installed_Capacity_[MW]'][row] += Under_Installment #overwrite new installed\n"
     ]
    },
    {
     "name": "stdout",
     "output_type": "stream",
     "text": [
      "Finished Area+Power Generation Calculations\n",
      "==> Working on Material :  glass\n",
      "==> Working on Material :  silicon\n",
      "==> Working on Material :  silver\n",
      "==> Working on Material :  aluminium_frames\n",
      "==> Working on Material :  copper\n",
      "==> Working on Material :  encapsulant\n",
      "==> Working on Material :  backsheet\n",
      "85\n",
      "PV_ICE\n",
      ">>>> Calculating Material Flows <<<<\n",
      "\n",
      "Working on Scenario:  PV_ICE\n",
      "********************\n"
     ]
    },
    {
     "name": "stderr",
     "output_type": "stream",
     "text": [
      "C:\\Users\\hmirletz\\AppData\\Local\\Temp\\1\\ipykernel_3292\\3246415230.py:6: SettingWithCopyWarning: \n",
      "A value is trying to be set on a copy of a slice from a DataFrame\n",
      "\n",
      "See the caveats in the documentation: https://pandas.pydata.org/pandas-docs/stable/user_guide/indexing.html#returning-a-view-versus-a-copy\n",
      "  sim1.scenario[scen].dataIn_m['new_Installed_Capacity_[MW]'][row] += Under_Installment #overwrite new installed\n"
     ]
    },
    {
     "name": "stdout",
     "output_type": "stream",
     "text": [
      "Finished Area+Power Generation Calculations\n",
      "==> Working on Material :  glass\n",
      "==> Working on Material :  silicon\n",
      "==> Working on Material :  silver\n",
      "==> Working on Material :  aluminium_frames\n",
      "==> Working on Material :  copper\n",
      "==> Working on Material :  encapsulant\n",
      "==> Working on Material :  backsheet\n",
      "circ_high\n",
      ">>>> Calculating Material Flows <<<<\n",
      "\n",
      "Working on Scenario:  circ_high\n",
      "********************\n"
     ]
    },
    {
     "name": "stderr",
     "output_type": "stream",
     "text": [
      "C:\\Users\\hmirletz\\AppData\\Local\\Temp\\1\\ipykernel_3292\\3246415230.py:6: SettingWithCopyWarning: \n",
      "A value is trying to be set on a copy of a slice from a DataFrame\n",
      "\n",
      "See the caveats in the documentation: https://pandas.pydata.org/pandas-docs/stable/user_guide/indexing.html#returning-a-view-versus-a-copy\n",
      "  sim1.scenario[scen].dataIn_m['new_Installed_Capacity_[MW]'][row] += Under_Installment #overwrite new installed\n"
     ]
    },
    {
     "name": "stdout",
     "output_type": "stream",
     "text": [
      "Finished Area+Power Generation Calculations\n",
      "==> Working on Material :  glass\n",
      "Recycled surplus End of Sim for Mat  glass  Scenario  circ_high  =  583674688.7977773  tonnes.\n",
      "==> Working on Material :  silicon\n",
      "Recycled surplus End of Sim for Mat  silicon  Scenario  circ_high  =  19199100.323755916  tonnes.\n",
      "==> Working on Material :  silver\n",
      "Recycled surplus End of Sim for Mat  silver  Scenario  circ_high  =  107010.43736680906  tonnes.\n",
      "==> Working on Material :  aluminium_frames\n",
      "Recycled surplus End of Sim for Mat  aluminium_frames  Scenario  circ_high  =  65920833.70861661  tonnes.\n",
      "==> Working on Material :  copper\n",
      "Recycled surplus End of Sim for Mat  copper  Scenario  circ_high  =  394617.84468934353  tonnes.\n",
      "==> Working on Material :  encapsulant\n",
      "Recycled surplus End of Sim for Mat  encapsulant  Scenario  circ_high  =  38812758.14086345  tonnes.\n",
      "==> Working on Material :  backsheet\n",
      "Recycled surplus End of Sim for Mat  backsheet  Scenario  circ_high  =  16010347.284489097  tonnes.\n",
      "circ_mid\n",
      ">>>> Calculating Material Flows <<<<\n",
      "\n",
      "Working on Scenario:  circ_mid\n",
      "********************\n"
     ]
    },
    {
     "name": "stderr",
     "output_type": "stream",
     "text": [
      "C:\\Users\\hmirletz\\AppData\\Local\\Temp\\1\\ipykernel_3292\\3246415230.py:6: SettingWithCopyWarning: \n",
      "A value is trying to be set on a copy of a slice from a DataFrame\n",
      "\n",
      "See the caveats in the documentation: https://pandas.pydata.org/pandas-docs/stable/user_guide/indexing.html#returning-a-view-versus-a-copy\n",
      "  sim1.scenario[scen].dataIn_m['new_Installed_Capacity_[MW]'][row] += Under_Installment #overwrite new installed\n"
     ]
    },
    {
     "name": "stdout",
     "output_type": "stream",
     "text": [
      "Finished Area+Power Generation Calculations\n",
      "==> Working on Material :  glass\n",
      "Recycled surplus End of Sim for Mat  glass  Scenario  circ_mid  =  41654907.392956056  tonnes.\n",
      "==> Working on Material :  silicon\n",
      "Recycled surplus End of Sim for Mat  silicon  Scenario  circ_mid  =  1370175.4785039283  tonnes.\n",
      "==> Working on Material :  silver\n",
      "Recycled surplus End of Sim for Mat  silver  Scenario  circ_mid  =  7636.976459910402  tonnes.\n",
      "==> Working on Material :  aluminium_frames\n",
      "Recycled surplus End of Sim for Mat  aluminium_frames  Scenario  circ_mid  =  4704549.085475673  tonnes.\n",
      "==> Working on Material :  copper\n",
      "Recycled surplus End of Sim for Mat  copper  Scenario  circ_mid  =  28162.55371635213  tonnes.\n",
      "==> Working on Material :  encapsulant\n",
      "Recycled surplus End of Sim for Mat  encapsulant  Scenario  circ_mid  =  2769936.536657001  tonnes.\n",
      "==> Working on Material :  backsheet\n",
      "Recycled surplus End of Sim for Mat  backsheet  Scenario  circ_mid  =  1142604.8555199893  tonnes.\n",
      "circ_low\n",
      ">>>> Calculating Material Flows <<<<\n",
      "\n",
      "Working on Scenario:  circ_low\n",
      "********************\n"
     ]
    },
    {
     "name": "stderr",
     "output_type": "stream",
     "text": [
      "C:\\Users\\hmirletz\\AppData\\Local\\Temp\\1\\ipykernel_3292\\3246415230.py:6: SettingWithCopyWarning: \n",
      "A value is trying to be set on a copy of a slice from a DataFrame\n",
      "\n",
      "See the caveats in the documentation: https://pandas.pydata.org/pandas-docs/stable/user_guide/indexing.html#returning-a-view-versus-a-copy\n",
      "  sim1.scenario[scen].dataIn_m['new_Installed_Capacity_[MW]'][row] += Under_Installment #overwrite new installed\n"
     ]
    },
    {
     "name": "stdout",
     "output_type": "stream",
     "text": [
      "Finished Area+Power Generation Calculations\n",
      "==> Working on Material :  glass\n",
      "==> Working on Material :  silicon\n",
      "==> Working on Material :  silver\n",
      "==> Working on Material :  aluminium_frames\n",
      "==> Working on Material :  copper\n",
      "==> Working on Material :  encapsulant\n",
      "==> Working on Material :  backsheet\n",
      "86\n",
      "PV_ICE\n",
      ">>>> Calculating Material Flows <<<<\n",
      "\n",
      "Working on Scenario:  PV_ICE\n",
      "********************\n"
     ]
    },
    {
     "name": "stderr",
     "output_type": "stream",
     "text": [
      "C:\\Users\\hmirletz\\AppData\\Local\\Temp\\1\\ipykernel_3292\\3246415230.py:6: SettingWithCopyWarning: \n",
      "A value is trying to be set on a copy of a slice from a DataFrame\n",
      "\n",
      "See the caveats in the documentation: https://pandas.pydata.org/pandas-docs/stable/user_guide/indexing.html#returning-a-view-versus-a-copy\n",
      "  sim1.scenario[scen].dataIn_m['new_Installed_Capacity_[MW]'][row] += Under_Installment #overwrite new installed\n"
     ]
    },
    {
     "name": "stdout",
     "output_type": "stream",
     "text": [
      "Finished Area+Power Generation Calculations\n",
      "==> Working on Material :  glass\n",
      "==> Working on Material :  silicon\n",
      "==> Working on Material :  silver\n",
      "==> Working on Material :  aluminium_frames\n",
      "==> Working on Material :  copper\n",
      "==> Working on Material :  encapsulant\n",
      "==> Working on Material :  backsheet\n",
      "circ_high\n",
      ">>>> Calculating Material Flows <<<<\n",
      "\n",
      "Working on Scenario:  circ_high\n",
      "********************\n"
     ]
    },
    {
     "name": "stderr",
     "output_type": "stream",
     "text": [
      "C:\\Users\\hmirletz\\AppData\\Local\\Temp\\1\\ipykernel_3292\\3246415230.py:6: SettingWithCopyWarning: \n",
      "A value is trying to be set on a copy of a slice from a DataFrame\n",
      "\n",
      "See the caveats in the documentation: https://pandas.pydata.org/pandas-docs/stable/user_guide/indexing.html#returning-a-view-versus-a-copy\n",
      "  sim1.scenario[scen].dataIn_m['new_Installed_Capacity_[MW]'][row] += Under_Installment #overwrite new installed\n"
     ]
    },
    {
     "name": "stdout",
     "output_type": "stream",
     "text": [
      "Finished Area+Power Generation Calculations\n",
      "==> Working on Material :  glass\n",
      "Recycled surplus End of Sim for Mat  glass  Scenario  circ_high  =  541258251.8884532  tonnes.\n",
      "==> Working on Material :  silicon\n",
      "Recycled surplus End of Sim for Mat  silicon  Scenario  circ_high  =  17803875.47808761  tonnes.\n",
      "==> Working on Material :  silver\n",
      "Recycled surplus End of Sim for Mat  silver  Scenario  circ_high  =  99233.84271173221  tonnes.\n",
      "==> Working on Material :  aluminium_frames\n",
      "Recycled surplus End of Sim for Mat  aluminium_frames  Scenario  circ_high  =  61130276.678002685  tonnes.\n",
      "==> Working on Material :  copper\n",
      "Recycled surplus End of Sim for Mat  copper  Scenario  circ_high  =  365940.42688485445  tonnes.\n",
      "==> Working on Material :  encapsulant\n",
      "Recycled surplus End of Sim for Mat  encapsulant  Scenario  circ_high  =  35992181.99021735  tonnes.\n",
      "==> Working on Material :  backsheet\n",
      "Recycled surplus End of Sim for Mat  backsheet  Scenario  circ_high  =  14846853.477883097  tonnes.\n",
      "circ_mid\n",
      ">>>> Calculating Material Flows <<<<\n",
      "\n",
      "Working on Scenario:  circ_mid\n",
      "********************\n"
     ]
    },
    {
     "name": "stderr",
     "output_type": "stream",
     "text": [
      "C:\\Users\\hmirletz\\AppData\\Local\\Temp\\1\\ipykernel_3292\\3246415230.py:6: SettingWithCopyWarning: \n",
      "A value is trying to be set on a copy of a slice from a DataFrame\n",
      "\n",
      "See the caveats in the documentation: https://pandas.pydata.org/pandas-docs/stable/user_guide/indexing.html#returning-a-view-versus-a-copy\n",
      "  sim1.scenario[scen].dataIn_m['new_Installed_Capacity_[MW]'][row] += Under_Installment #overwrite new installed\n"
     ]
    },
    {
     "name": "stdout",
     "output_type": "stream",
     "text": [
      "Finished Area+Power Generation Calculations\n",
      "==> Working on Material :  glass\n",
      "Recycled surplus End of Sim for Mat  glass  Scenario  circ_mid  =  41654920.67583647  tonnes.\n",
      "==> Working on Material :  silicon\n",
      "Recycled surplus End of Sim for Mat  silicon  Scenario  circ_mid  =  1370175.9154242857  tonnes.\n",
      "==> Working on Material :  silver\n",
      "Recycled surplus End of Sim for Mat  silver  Scenario  circ_mid  =  7636.978895182773  tonnes.\n",
      "==> Working on Material :  aluminium_frames\n",
      "Recycled surplus End of Sim for Mat  aluminium_frames  Scenario  circ_mid  =  4704550.585658167  tonnes.\n",
      "==> Working on Material :  copper\n",
      "Recycled surplus End of Sim for Mat  copper  Scenario  circ_mid  =  28162.562696802615  tonnes.\n",
      "==> Working on Material :  encapsulant\n",
      "Recycled surplus End of Sim for Mat  encapsulant  Scenario  circ_mid  =  2769937.4199319384  tonnes.\n",
      "==> Working on Material :  backsheet\n",
      "Recycled surplus End of Sim for Mat  backsheet  Scenario  circ_mid  =  1142605.2198728258  tonnes.\n",
      "circ_low\n",
      ">>>> Calculating Material Flows <<<<\n",
      "\n",
      "Working on Scenario:  circ_low\n",
      "********************\n"
     ]
    },
    {
     "name": "stderr",
     "output_type": "stream",
     "text": [
      "C:\\Users\\hmirletz\\AppData\\Local\\Temp\\1\\ipykernel_3292\\3246415230.py:6: SettingWithCopyWarning: \n",
      "A value is trying to be set on a copy of a slice from a DataFrame\n",
      "\n",
      "See the caveats in the documentation: https://pandas.pydata.org/pandas-docs/stable/user_guide/indexing.html#returning-a-view-versus-a-copy\n",
      "  sim1.scenario[scen].dataIn_m['new_Installed_Capacity_[MW]'][row] += Under_Installment #overwrite new installed\n"
     ]
    },
    {
     "name": "stdout",
     "output_type": "stream",
     "text": [
      "Finished Area+Power Generation Calculations\n",
      "==> Working on Material :  glass\n",
      "==> Working on Material :  silicon\n",
      "==> Working on Material :  silver\n",
      "==> Working on Material :  aluminium_frames\n",
      "==> Working on Material :  copper\n",
      "==> Working on Material :  encapsulant\n",
      "==> Working on Material :  backsheet\n",
      "87\n",
      "PV_ICE\n",
      ">>>> Calculating Material Flows <<<<\n",
      "\n",
      "Working on Scenario:  PV_ICE\n",
      "********************\n"
     ]
    },
    {
     "name": "stderr",
     "output_type": "stream",
     "text": [
      "C:\\Users\\hmirletz\\AppData\\Local\\Temp\\1\\ipykernel_3292\\3246415230.py:6: SettingWithCopyWarning: \n",
      "A value is trying to be set on a copy of a slice from a DataFrame\n",
      "\n",
      "See the caveats in the documentation: https://pandas.pydata.org/pandas-docs/stable/user_guide/indexing.html#returning-a-view-versus-a-copy\n",
      "  sim1.scenario[scen].dataIn_m['new_Installed_Capacity_[MW]'][row] += Under_Installment #overwrite new installed\n"
     ]
    },
    {
     "name": "stdout",
     "output_type": "stream",
     "text": [
      "Finished Area+Power Generation Calculations\n",
      "==> Working on Material :  glass\n",
      "==> Working on Material :  silicon\n",
      "==> Working on Material :  silver\n",
      "==> Working on Material :  aluminium_frames\n",
      "==> Working on Material :  copper\n",
      "==> Working on Material :  encapsulant\n",
      "==> Working on Material :  backsheet\n",
      "circ_high\n",
      ">>>> Calculating Material Flows <<<<\n",
      "\n",
      "Working on Scenario:  circ_high\n",
      "********************\n"
     ]
    },
    {
     "name": "stderr",
     "output_type": "stream",
     "text": [
      "C:\\Users\\hmirletz\\AppData\\Local\\Temp\\1\\ipykernel_3292\\3246415230.py:6: SettingWithCopyWarning: \n",
      "A value is trying to be set on a copy of a slice from a DataFrame\n",
      "\n",
      "See the caveats in the documentation: https://pandas.pydata.org/pandas-docs/stable/user_guide/indexing.html#returning-a-view-versus-a-copy\n",
      "  sim1.scenario[scen].dataIn_m['new_Installed_Capacity_[MW]'][row] += Under_Installment #overwrite new installed\n"
     ]
    },
    {
     "name": "stdout",
     "output_type": "stream",
     "text": [
      "Finished Area+Power Generation Calculations\n",
      "==> Working on Material :  glass\n",
      "Recycled surplus End of Sim for Mat  glass  Scenario  circ_high  =  500953793.6608844  tonnes.\n",
      "==> Working on Material :  silicon\n",
      "Recycled surplus End of Sim for Mat  silicon  Scenario  circ_high  =  16478120.992143434  tonnes.\n",
      "==> Working on Material :  silver\n",
      "Recycled surplus End of Sim for Mat  silver  Scenario  circ_high  =  91844.45649104803  tonnes.\n",
      "==> Working on Material :  aluminium_frames\n",
      "Recycled surplus End of Sim for Mat  aluminium_frames  Scenario  circ_high  =  56578248.74270194  tonnes.\n",
      "==> Working on Material :  copper\n",
      "Recycled surplus End of Sim for Mat  copper  Scenario  circ_high  =  338690.9011774867  tonnes.\n",
      "==> Working on Material :  encapsulant\n",
      "Recycled surplus End of Sim for Mat  encapsulant  Scenario  circ_high  =  33312046.601089396  tonnes.\n",
      "==> Working on Material :  backsheet\n",
      "Recycled surplus End of Sim for Mat  backsheet  Scenario  circ_high  =  13741291.791345526  tonnes.\n",
      "circ_mid\n",
      ">>>> Calculating Material Flows <<<<\n",
      "\n",
      "Working on Scenario:  circ_mid\n",
      "********************\n"
     ]
    },
    {
     "name": "stderr",
     "output_type": "stream",
     "text": [
      "C:\\Users\\hmirletz\\AppData\\Local\\Temp\\1\\ipykernel_3292\\3246415230.py:6: SettingWithCopyWarning: \n",
      "A value is trying to be set on a copy of a slice from a DataFrame\n",
      "\n",
      "See the caveats in the documentation: https://pandas.pydata.org/pandas-docs/stable/user_guide/indexing.html#returning-a-view-versus-a-copy\n",
      "  sim1.scenario[scen].dataIn_m['new_Installed_Capacity_[MW]'][row] += Under_Installment #overwrite new installed\n"
     ]
    },
    {
     "name": "stdout",
     "output_type": "stream",
     "text": [
      "Finished Area+Power Generation Calculations\n",
      "==> Working on Material :  glass\n",
      "Recycled surplus End of Sim for Mat  glass  Scenario  circ_mid  =  41654925.63841503  tonnes.\n",
      "==> Working on Material :  silicon\n",
      "Recycled surplus End of Sim for Mat  silicon  Scenario  circ_mid  =  1370176.078660837  tonnes.\n",
      "==> Working on Material :  silver\n",
      "Recycled surplus End of Sim for Mat  silver  Scenario  circ_mid  =  7636.9798050178415  tonnes.\n",
      "==> Working on Material :  aluminium_frames\n",
      "Recycled surplus End of Sim for Mat  aluminium_frames  Scenario  circ_mid  =  4704551.146137012  tonnes.\n",
      "==> Working on Material :  copper\n",
      "Recycled surplus End of Sim for Mat  copper  Scenario  circ_mid  =  28162.56605196275  tonnes.\n",
      "==> Working on Material :  encapsulant\n",
      "Recycled surplus End of Sim for Mat  encapsulant  Scenario  circ_mid  =  2769937.749929735  tonnes.\n",
      "==> Working on Material :  backsheet\n",
      "Recycled surplus End of Sim for Mat  backsheet  Scenario  circ_mid  =  1142605.3559976353  tonnes.\n",
      "circ_low\n",
      ">>>> Calculating Material Flows <<<<\n",
      "\n",
      "Working on Scenario:  circ_low\n",
      "********************\n"
     ]
    },
    {
     "name": "stderr",
     "output_type": "stream",
     "text": [
      "C:\\Users\\hmirletz\\AppData\\Local\\Temp\\1\\ipykernel_3292\\3246415230.py:6: SettingWithCopyWarning: \n",
      "A value is trying to be set on a copy of a slice from a DataFrame\n",
      "\n",
      "See the caveats in the documentation: https://pandas.pydata.org/pandas-docs/stable/user_guide/indexing.html#returning-a-view-versus-a-copy\n",
      "  sim1.scenario[scen].dataIn_m['new_Installed_Capacity_[MW]'][row] += Under_Installment #overwrite new installed\n"
     ]
    },
    {
     "name": "stdout",
     "output_type": "stream",
     "text": [
      "Finished Area+Power Generation Calculations\n",
      "==> Working on Material :  glass\n",
      "==> Working on Material :  silicon\n",
      "==> Working on Material :  silver\n",
      "==> Working on Material :  aluminium_frames\n",
      "==> Working on Material :  copper\n",
      "==> Working on Material :  encapsulant\n",
      "==> Working on Material :  backsheet\n",
      "88\n",
      "PV_ICE\n",
      ">>>> Calculating Material Flows <<<<\n",
      "\n",
      "Working on Scenario:  PV_ICE\n",
      "********************\n"
     ]
    },
    {
     "name": "stderr",
     "output_type": "stream",
     "text": [
      "C:\\Users\\hmirletz\\AppData\\Local\\Temp\\1\\ipykernel_3292\\3246415230.py:6: SettingWithCopyWarning: \n",
      "A value is trying to be set on a copy of a slice from a DataFrame\n",
      "\n",
      "See the caveats in the documentation: https://pandas.pydata.org/pandas-docs/stable/user_guide/indexing.html#returning-a-view-versus-a-copy\n",
      "  sim1.scenario[scen].dataIn_m['new_Installed_Capacity_[MW]'][row] += Under_Installment #overwrite new installed\n"
     ]
    },
    {
     "name": "stdout",
     "output_type": "stream",
     "text": [
      "Finished Area+Power Generation Calculations\n",
      "==> Working on Material :  glass\n",
      "==> Working on Material :  silicon\n",
      "==> Working on Material :  silver\n",
      "==> Working on Material :  aluminium_frames\n",
      "==> Working on Material :  copper\n",
      "==> Working on Material :  encapsulant\n",
      "==> Working on Material :  backsheet\n",
      "circ_high\n",
      ">>>> Calculating Material Flows <<<<\n",
      "\n",
      "Working on Scenario:  circ_high\n",
      "********************\n"
     ]
    },
    {
     "name": "stderr",
     "output_type": "stream",
     "text": [
      "C:\\Users\\hmirletz\\AppData\\Local\\Temp\\1\\ipykernel_3292\\3246415230.py:6: SettingWithCopyWarning: \n",
      "A value is trying to be set on a copy of a slice from a DataFrame\n",
      "\n",
      "See the caveats in the documentation: https://pandas.pydata.org/pandas-docs/stable/user_guide/indexing.html#returning-a-view-versus-a-copy\n",
      "  sim1.scenario[scen].dataIn_m['new_Installed_Capacity_[MW]'][row] += Under_Installment #overwrite new installed\n"
     ]
    },
    {
     "name": "stdout",
     "output_type": "stream",
     "text": [
      "Finished Area+Power Generation Calculations\n",
      "==> Working on Material :  glass\n",
      "Recycled surplus End of Sim for Mat  glass  Scenario  circ_high  =  473287878.4664393  tonnes.\n",
      "==> Working on Material :  silicon\n",
      "Recycled surplus End of Sim for Mat  silicon  Scenario  circ_high  =  15568092.3553685  tonnes.\n",
      "==> Working on Material :  silver\n",
      "Recycled surplus End of Sim for Mat  silver  Scenario  circ_high  =  86772.21035474804  tonnes.\n",
      "==> Working on Material :  aluminium_frames\n",
      "Recycled surplus End of Sim for Mat  aluminium_frames  Scenario  circ_high  =  53453631.16045556  tonnes.\n",
      "==> Working on Material :  copper\n",
      "Recycled surplus End of Sim for Mat  copper  Scenario  circ_high  =  319986.1945405117  tonnes.\n",
      "==> Working on Material :  encapsulant\n",
      "Recycled surplus End of Sim for Mat  encapsulant  Scenario  circ_high  =  31472339.490610827  tonnes.\n",
      "==> Working on Material :  backsheet\n",
      "Recycled surplus End of Sim for Mat  backsheet  Scenario  circ_high  =  12982408.600575961  tonnes.\n",
      "circ_mid\n",
      ">>>> Calculating Material Flows <<<<\n",
      "\n",
      "Working on Scenario:  circ_mid\n",
      "********************\n"
     ]
    },
    {
     "name": "stderr",
     "output_type": "stream",
     "text": [
      "C:\\Users\\hmirletz\\AppData\\Local\\Temp\\1\\ipykernel_3292\\3246415230.py:6: SettingWithCopyWarning: \n",
      "A value is trying to be set on a copy of a slice from a DataFrame\n",
      "\n",
      "See the caveats in the documentation: https://pandas.pydata.org/pandas-docs/stable/user_guide/indexing.html#returning-a-view-versus-a-copy\n",
      "  sim1.scenario[scen].dataIn_m['new_Installed_Capacity_[MW]'][row] += Under_Installment #overwrite new installed\n"
     ]
    },
    {
     "name": "stdout",
     "output_type": "stream",
     "text": [
      "Finished Area+Power Generation Calculations\n",
      "==> Working on Material :  glass\n",
      "Recycled surplus End of Sim for Mat  glass  Scenario  circ_mid  =  41654927.486419365  tonnes.\n",
      "==> Working on Material :  silicon\n",
      "Recycled surplus End of Sim for Mat  silicon  Scenario  circ_mid  =  1370176.1394481582  tonnes.\n",
      "==> Working on Material :  silver\n",
      "Recycled surplus End of Sim for Mat  silver  Scenario  circ_mid  =  7636.980143829439  tonnes.\n",
      "==> Working on Material :  aluminium_frames\n",
      "Recycled surplus End of Sim for Mat  aluminium_frames  Scenario  circ_mid  =  4704551.354852567  tonnes.\n",
      "==> Working on Material :  copper\n",
      "Recycled surplus End of Sim for Mat  copper  Scenario  circ_mid  =  28162.567301383886  tonnes.\n",
      "==> Working on Material :  encapsulant\n",
      "Recycled surplus End of Sim for Mat  encapsulant  Scenario  circ_mid  =  2769937.872816931  tonnes.\n",
      "==> Working on Material :  backsheet\n",
      "Recycled surplus End of Sim for Mat  backsheet  Scenario  circ_mid  =  1142605.4066888716  tonnes.\n",
      "circ_low\n",
      ">>>> Calculating Material Flows <<<<\n",
      "\n",
      "Working on Scenario:  circ_low\n",
      "********************\n"
     ]
    },
    {
     "name": "stderr",
     "output_type": "stream",
     "text": [
      "C:\\Users\\hmirletz\\AppData\\Local\\Temp\\1\\ipykernel_3292\\3246415230.py:6: SettingWithCopyWarning: \n",
      "A value is trying to be set on a copy of a slice from a DataFrame\n",
      "\n",
      "See the caveats in the documentation: https://pandas.pydata.org/pandas-docs/stable/user_guide/indexing.html#returning-a-view-versus-a-copy\n",
      "  sim1.scenario[scen].dataIn_m['new_Installed_Capacity_[MW]'][row] += Under_Installment #overwrite new installed\n"
     ]
    },
    {
     "name": "stdout",
     "output_type": "stream",
     "text": [
      "Finished Area+Power Generation Calculations\n",
      "==> Working on Material :  glass\n",
      "==> Working on Material :  silicon\n",
      "==> Working on Material :  silver\n",
      "==> Working on Material :  aluminium_frames\n",
      "==> Working on Material :  copper\n",
      "==> Working on Material :  encapsulant\n",
      "==> Working on Material :  backsheet\n",
      "89\n",
      "PV_ICE\n",
      ">>>> Calculating Material Flows <<<<\n",
      "\n",
      "Working on Scenario:  PV_ICE\n",
      "********************\n"
     ]
    },
    {
     "name": "stderr",
     "output_type": "stream",
     "text": [
      "C:\\Users\\hmirletz\\AppData\\Local\\Temp\\1\\ipykernel_3292\\3246415230.py:6: SettingWithCopyWarning: \n",
      "A value is trying to be set on a copy of a slice from a DataFrame\n",
      "\n",
      "See the caveats in the documentation: https://pandas.pydata.org/pandas-docs/stable/user_guide/indexing.html#returning-a-view-versus-a-copy\n",
      "  sim1.scenario[scen].dataIn_m['new_Installed_Capacity_[MW]'][row] += Under_Installment #overwrite new installed\n"
     ]
    },
    {
     "name": "stdout",
     "output_type": "stream",
     "text": [
      "Finished Area+Power Generation Calculations\n",
      "==> Working on Material :  glass\n",
      "==> Working on Material :  silicon\n",
      "==> Working on Material :  silver\n",
      "==> Working on Material :  aluminium_frames\n",
      "==> Working on Material :  copper\n",
      "==> Working on Material :  encapsulant\n",
      "==> Working on Material :  backsheet\n",
      "circ_high\n",
      ">>>> Calculating Material Flows <<<<\n",
      "\n",
      "Working on Scenario:  circ_high\n",
      "********************\n"
     ]
    },
    {
     "name": "stderr",
     "output_type": "stream",
     "text": [
      "C:\\Users\\hmirletz\\AppData\\Local\\Temp\\1\\ipykernel_3292\\3246415230.py:6: SettingWithCopyWarning: \n",
      "A value is trying to be set on a copy of a slice from a DataFrame\n",
      "\n",
      "See the caveats in the documentation: https://pandas.pydata.org/pandas-docs/stable/user_guide/indexing.html#returning-a-view-versus-a-copy\n",
      "  sim1.scenario[scen].dataIn_m['new_Installed_Capacity_[MW]'][row] += Under_Installment #overwrite new installed\n"
     ]
    },
    {
     "name": "stdout",
     "output_type": "stream",
     "text": [
      "Finished Area+Power Generation Calculations\n",
      "==> Working on Material :  glass\n",
      "Recycled surplus End of Sim for Mat  glass  Scenario  circ_high  =  452197757.66976273  tonnes.\n",
      "==> Working on Material :  silicon\n",
      "Recycled surplus End of Sim for Mat  silicon  Scenario  circ_high  =  14874364.57722973  tonnes.\n",
      "==> Working on Material :  silver\n",
      "Recycled surplus End of Sim for Mat  silver  Scenario  circ_high  =  82905.56495468837  tonnes.\n",
      "==> Working on Material :  aluminium_frames\n",
      "Recycled surplus End of Sim for Mat  aluminium_frames  Scenario  circ_high  =  51071690.718947  tonnes.\n",
      "==> Working on Material :  copper\n",
      "Recycled surplus End of Sim for Mat  copper  Scenario  circ_high  =  305727.33053158113  tonnes.\n",
      "==> Working on Material :  encapsulant\n",
      "Recycled surplus End of Sim for Mat  encapsulant  Scenario  circ_high  =  30069904.5840552  tonnes.\n",
      "==> Working on Material :  backsheet\n",
      "Recycled surplus End of Sim for Mat  backsheet  Scenario  circ_high  =  12403901.146497197  tonnes.\n",
      "circ_mid\n",
      ">>>> Calculating Material Flows <<<<\n",
      "\n",
      "Working on Scenario:  circ_mid\n",
      "********************\n"
     ]
    },
    {
     "name": "stderr",
     "output_type": "stream",
     "text": [
      "C:\\Users\\hmirletz\\AppData\\Local\\Temp\\1\\ipykernel_3292\\3246415230.py:6: SettingWithCopyWarning: \n",
      "A value is trying to be set on a copy of a slice from a DataFrame\n",
      "\n",
      "See the caveats in the documentation: https://pandas.pydata.org/pandas-docs/stable/user_guide/indexing.html#returning-a-view-versus-a-copy\n",
      "  sim1.scenario[scen].dataIn_m['new_Installed_Capacity_[MW]'][row] += Under_Installment #overwrite new installed\n"
     ]
    },
    {
     "name": "stdout",
     "output_type": "stream",
     "text": [
      "Finished Area+Power Generation Calculations\n",
      "==> Working on Material :  glass\n",
      "Recycled surplus End of Sim for Mat  glass  Scenario  circ_mid  =  41654928.11806393  tonnes.\n",
      "==> Working on Material :  silicon\n",
      "Recycled surplus End of Sim for Mat  silicon  Scenario  circ_mid  =  1370176.1602251553  tonnes.\n",
      "==> Working on Material :  silver\n",
      "Recycled surplus End of Sim for Mat  silver  Scenario  circ_mid  =  7636.980259634634  tonnes.\n",
      "==> Working on Material :  aluminium_frames\n",
      "Recycled surplus End of Sim for Mat  aluminium_frames  Scenario  circ_mid  =  4704551.426191169  tonnes.\n",
      "==> Working on Material :  copper\n",
      "Recycled surplus End of Sim for Mat  copper  Scenario  circ_mid  =  28162.56772843378  tonnes.\n",
      "==> Working on Material :  encapsulant\n",
      "Recycled surplus End of Sim for Mat  encapsulant  Scenario  circ_mid  =  2769937.914819552  tonnes.\n",
      "==> Working on Material :  backsheet\n",
      "Recycled surplus End of Sim for Mat  backsheet  Scenario  circ_mid  =  1142605.4240150445  tonnes.\n",
      "circ_low\n",
      ">>>> Calculating Material Flows <<<<\n",
      "\n",
      "Working on Scenario:  circ_low\n",
      "********************\n"
     ]
    },
    {
     "name": "stderr",
     "output_type": "stream",
     "text": [
      "C:\\Users\\hmirletz\\AppData\\Local\\Temp\\1\\ipykernel_3292\\3246415230.py:6: SettingWithCopyWarning: \n",
      "A value is trying to be set on a copy of a slice from a DataFrame\n",
      "\n",
      "See the caveats in the documentation: https://pandas.pydata.org/pandas-docs/stable/user_guide/indexing.html#returning-a-view-versus-a-copy\n",
      "  sim1.scenario[scen].dataIn_m['new_Installed_Capacity_[MW]'][row] += Under_Installment #overwrite new installed\n"
     ]
    },
    {
     "name": "stdout",
     "output_type": "stream",
     "text": [
      "Finished Area+Power Generation Calculations\n",
      "==> Working on Material :  glass\n",
      "==> Working on Material :  silicon\n",
      "==> Working on Material :  silver\n",
      "==> Working on Material :  aluminium_frames\n",
      "==> Working on Material :  copper\n",
      "==> Working on Material :  encapsulant\n",
      "==> Working on Material :  backsheet\n",
      "90\n",
      "PV_ICE\n",
      ">>>> Calculating Material Flows <<<<\n",
      "\n",
      "Working on Scenario:  PV_ICE\n",
      "********************\n"
     ]
    },
    {
     "name": "stderr",
     "output_type": "stream",
     "text": [
      "C:\\Users\\hmirletz\\AppData\\Local\\Temp\\1\\ipykernel_3292\\3246415230.py:6: SettingWithCopyWarning: \n",
      "A value is trying to be set on a copy of a slice from a DataFrame\n",
      "\n",
      "See the caveats in the documentation: https://pandas.pydata.org/pandas-docs/stable/user_guide/indexing.html#returning-a-view-versus-a-copy\n",
      "  sim1.scenario[scen].dataIn_m['new_Installed_Capacity_[MW]'][row] += Under_Installment #overwrite new installed\n"
     ]
    },
    {
     "name": "stdout",
     "output_type": "stream",
     "text": [
      "Finished Area+Power Generation Calculations\n",
      "==> Working on Material :  glass\n",
      "==> Working on Material :  silicon\n",
      "==> Working on Material :  silver\n",
      "==> Working on Material :  aluminium_frames\n",
      "==> Working on Material :  copper\n",
      "==> Working on Material :  encapsulant\n",
      "==> Working on Material :  backsheet\n",
      "circ_high\n",
      ">>>> Calculating Material Flows <<<<\n",
      "\n",
      "Working on Scenario:  circ_high\n",
      "********************\n"
     ]
    },
    {
     "name": "stderr",
     "output_type": "stream",
     "text": [
      "C:\\Users\\hmirletz\\AppData\\Local\\Temp\\1\\ipykernel_3292\\3246415230.py:6: SettingWithCopyWarning: \n",
      "A value is trying to be set on a copy of a slice from a DataFrame\n",
      "\n",
      "See the caveats in the documentation: https://pandas.pydata.org/pandas-docs/stable/user_guide/indexing.html#returning-a-view-versus-a-copy\n",
      "  sim1.scenario[scen].dataIn_m['new_Installed_Capacity_[MW]'][row] += Under_Installment #overwrite new installed\n"
     ]
    },
    {
     "name": "stdout",
     "output_type": "stream",
     "text": [
      "Finished Area+Power Generation Calculations\n",
      "==> Working on Material :  glass\n",
      "Recycled surplus End of Sim for Mat  glass  Scenario  circ_high  =  429941374.7770426  tonnes.\n",
      "==> Working on Material :  silicon\n",
      "Recycled surplus End of Sim for Mat  silicon  Scenario  circ_high  =  14142274.362933483  tonnes.\n",
      "==> Working on Material :  silver\n",
      "Recycled surplus End of Sim for Mat  silver  Scenario  circ_high  =  78825.0980212005  tonnes.\n",
      "==> Working on Material :  aluminium_frames\n",
      "Recycled surplus End of Sim for Mat  aluminium_frames  Scenario  circ_high  =  48558031.408744134  tonnes.\n",
      "==> Working on Material :  copper\n",
      "Recycled surplus End of Sim for Mat  copper  Scenario  circ_high  =  290679.96593573707  tonnes.\n",
      "==> Working on Material :  encapsulant\n",
      "Recycled surplus End of Sim for Mat  encapsulant  Scenario  circ_high  =  28589916.462444384  tonnes.\n",
      "==> Working on Material :  backsheet\n",
      "Recycled surplus End of Sim for Mat  backsheet  Scenario  circ_high  =  11793402.822262915  tonnes.\n",
      "circ_mid\n",
      ">>>> Calculating Material Flows <<<<\n",
      "\n",
      "Working on Scenario:  circ_mid\n",
      "********************\n"
     ]
    },
    {
     "name": "stderr",
     "output_type": "stream",
     "text": [
      "C:\\Users\\hmirletz\\AppData\\Local\\Temp\\1\\ipykernel_3292\\3246415230.py:6: SettingWithCopyWarning: \n",
      "A value is trying to be set on a copy of a slice from a DataFrame\n",
      "\n",
      "See the caveats in the documentation: https://pandas.pydata.org/pandas-docs/stable/user_guide/indexing.html#returning-a-view-versus-a-copy\n",
      "  sim1.scenario[scen].dataIn_m['new_Installed_Capacity_[MW]'][row] += Under_Installment #overwrite new installed\n"
     ]
    },
    {
     "name": "stdout",
     "output_type": "stream",
     "text": [
      "Finished Area+Power Generation Calculations\n",
      "==> Working on Material :  glass\n",
      "Recycled surplus End of Sim for Mat  glass  Scenario  circ_mid  =  41654928.31285177  tonnes.\n",
      "==> Working on Material :  silicon\n",
      "Recycled surplus End of Sim for Mat  silicon  Scenario  circ_mid  =  1370176.1666324083  tonnes.\n",
      "==> Working on Material :  silver\n",
      "Recycled surplus End of Sim for Mat  silver  Scenario  circ_mid  =  7636.980295346876  tonnes.\n",
      "==> Working on Material :  aluminium_frames\n",
      "Recycled surplus End of Sim for Mat  aluminium_frames  Scenario  circ_mid  =  4704551.448190712  tonnes.\n",
      "==> Working on Material :  copper\n",
      "Recycled surplus End of Sim for Mat  copper  Scenario  circ_mid  =  28162.5678601283  tonnes.\n",
      "==> Working on Material :  encapsulant\n",
      "Recycled surplus End of Sim for Mat  encapsulant  Scenario  circ_mid  =  2769937.927772408  tonnes.\n",
      "==> Working on Material :  backsheet\n",
      "Recycled surplus End of Sim for Mat  backsheet  Scenario  circ_mid  =  1142605.4293581252  tonnes.\n",
      "circ_low\n",
      ">>>> Calculating Material Flows <<<<\n",
      "\n",
      "Working on Scenario:  circ_low\n",
      "********************\n"
     ]
    },
    {
     "name": "stderr",
     "output_type": "stream",
     "text": [
      "C:\\Users\\hmirletz\\AppData\\Local\\Temp\\1\\ipykernel_3292\\3246415230.py:6: SettingWithCopyWarning: \n",
      "A value is trying to be set on a copy of a slice from a DataFrame\n",
      "\n",
      "See the caveats in the documentation: https://pandas.pydata.org/pandas-docs/stable/user_guide/indexing.html#returning-a-view-versus-a-copy\n",
      "  sim1.scenario[scen].dataIn_m['new_Installed_Capacity_[MW]'][row] += Under_Installment #overwrite new installed\n"
     ]
    },
    {
     "name": "stdout",
     "output_type": "stream",
     "text": [
      "Finished Area+Power Generation Calculations\n",
      "==> Working on Material :  glass\n",
      "==> Working on Material :  silicon\n",
      "==> Working on Material :  silver\n",
      "==> Working on Material :  aluminium_frames\n",
      "==> Working on Material :  copper\n",
      "==> Working on Material :  encapsulant\n",
      "==> Working on Material :  backsheet\n",
      "91\n",
      "PV_ICE\n",
      ">>>> Calculating Material Flows <<<<\n",
      "\n",
      "Working on Scenario:  PV_ICE\n",
      "********************\n"
     ]
    },
    {
     "name": "stderr",
     "output_type": "stream",
     "text": [
      "C:\\Users\\hmirletz\\AppData\\Local\\Temp\\1\\ipykernel_3292\\3246415230.py:6: SettingWithCopyWarning: \n",
      "A value is trying to be set on a copy of a slice from a DataFrame\n",
      "\n",
      "See the caveats in the documentation: https://pandas.pydata.org/pandas-docs/stable/user_guide/indexing.html#returning-a-view-versus-a-copy\n",
      "  sim1.scenario[scen].dataIn_m['new_Installed_Capacity_[MW]'][row] += Under_Installment #overwrite new installed\n"
     ]
    },
    {
     "name": "stdout",
     "output_type": "stream",
     "text": [
      "Finished Area+Power Generation Calculations\n",
      "==> Working on Material :  glass\n",
      "==> Working on Material :  silicon\n",
      "==> Working on Material :  silver\n",
      "==> Working on Material :  aluminium_frames\n",
      "==> Working on Material :  copper\n",
      "==> Working on Material :  encapsulant\n",
      "==> Working on Material :  backsheet\n",
      "circ_high\n",
      ">>>> Calculating Material Flows <<<<\n",
      "\n",
      "Working on Scenario:  circ_high\n",
      "********************\n"
     ]
    },
    {
     "name": "stderr",
     "output_type": "stream",
     "text": [
      "C:\\Users\\hmirletz\\AppData\\Local\\Temp\\1\\ipykernel_3292\\3246415230.py:6: SettingWithCopyWarning: \n",
      "A value is trying to be set on a copy of a slice from a DataFrame\n",
      "\n",
      "See the caveats in the documentation: https://pandas.pydata.org/pandas-docs/stable/user_guide/indexing.html#returning-a-view-versus-a-copy\n",
      "  sim1.scenario[scen].dataIn_m['new_Installed_Capacity_[MW]'][row] += Under_Installment #overwrite new installed\n"
     ]
    },
    {
     "name": "stdout",
     "output_type": "stream",
     "text": [
      "Finished Area+Power Generation Calculations\n",
      "==> Working on Material :  glass\n",
      "Recycled surplus End of Sim for Mat  glass  Scenario  circ_high  =  406430660.41854113  tonnes.\n",
      "==> Working on Material :  silicon\n",
      "Recycled surplus End of Sim for Mat  silicon  Scenario  circ_high  =  13368924.803126842  tonnes.\n",
      "==> Working on Material :  silver\n",
      "Recycled surplus End of Sim for Mat  silver  Scenario  circ_high  =  74514.66298847455  tonnes.\n",
      "==> Working on Material :  aluminium_frames\n",
      "Recycled surplus End of Sim for Mat  aluminium_frames  Scenario  circ_high  =  45902706.58252997  tonnes.\n",
      "==> Working on Material :  copper\n",
      "Recycled surplus End of Sim for Mat  copper  Scenario  circ_high  =  274784.55774805555  tonnes.\n",
      "==> Working on Material :  encapsulant\n",
      "Recycled surplus End of Sim for Mat  encapsulant  Scenario  circ_high  =  27026518.755418587  tonnes.\n",
      "==> Working on Material :  backsheet\n",
      "Recycled surplus End of Sim for Mat  backsheet  Scenario  circ_high  =  11148497.862341914  tonnes.\n",
      "circ_mid\n",
      ">>>> Calculating Material Flows <<<<\n",
      "\n",
      "Working on Scenario:  circ_mid\n",
      "********************\n"
     ]
    },
    {
     "name": "stderr",
     "output_type": "stream",
     "text": [
      "C:\\Users\\hmirletz\\AppData\\Local\\Temp\\1\\ipykernel_3292\\3246415230.py:6: SettingWithCopyWarning: \n",
      "A value is trying to be set on a copy of a slice from a DataFrame\n",
      "\n",
      "See the caveats in the documentation: https://pandas.pydata.org/pandas-docs/stable/user_guide/indexing.html#returning-a-view-versus-a-copy\n",
      "  sim1.scenario[scen].dataIn_m['new_Installed_Capacity_[MW]'][row] += Under_Installment #overwrite new installed\n"
     ]
    },
    {
     "name": "stdout",
     "output_type": "stream",
     "text": [
      "Finished Area+Power Generation Calculations\n",
      "==> Working on Material :  glass\n",
      "Recycled surplus End of Sim for Mat  glass  Scenario  circ_mid  =  41654928.36583749  tonnes.\n",
      "==> Working on Material :  silicon\n",
      "Recycled surplus End of Sim for Mat  silicon  Scenario  circ_mid  =  1370176.1683752935  tonnes.\n",
      "==> Working on Material :  silver\n",
      "Recycled surplus End of Sim for Mat  silver  Scenario  circ_mid  =  7636.980305061235  tonnes.\n",
      "==> Working on Material :  aluminium_frames\n",
      "Recycled surplus End of Sim for Mat  aluminium_frames  Scenario  circ_mid  =  4704551.454174976  tonnes.\n",
      "==> Working on Material :  copper\n",
      "Recycled surplus End of Sim for Mat  copper  Scenario  circ_mid  =  28162.567895951528  tonnes.\n",
      "==> Working on Material :  encapsulant\n",
      "Recycled surplus End of Sim for Mat  encapsulant  Scenario  circ_mid  =  2769937.9312958117  tonnes.\n",
      "==> Working on Material :  backsheet\n",
      "Recycled surplus End of Sim for Mat  backsheet  Scenario  circ_mid  =  1142605.4308115372  tonnes.\n",
      "circ_low\n",
      ">>>> Calculating Material Flows <<<<\n",
      "\n",
      "Working on Scenario:  circ_low\n",
      "********************\n"
     ]
    },
    {
     "name": "stderr",
     "output_type": "stream",
     "text": [
      "C:\\Users\\hmirletz\\AppData\\Local\\Temp\\1\\ipykernel_3292\\3246415230.py:6: SettingWithCopyWarning: \n",
      "A value is trying to be set on a copy of a slice from a DataFrame\n",
      "\n",
      "See the caveats in the documentation: https://pandas.pydata.org/pandas-docs/stable/user_guide/indexing.html#returning-a-view-versus-a-copy\n",
      "  sim1.scenario[scen].dataIn_m['new_Installed_Capacity_[MW]'][row] += Under_Installment #overwrite new installed\n"
     ]
    },
    {
     "name": "stdout",
     "output_type": "stream",
     "text": [
      "Finished Area+Power Generation Calculations\n",
      "==> Working on Material :  glass\n",
      "==> Working on Material :  silicon\n",
      "==> Working on Material :  silver\n",
      "==> Working on Material :  aluminium_frames\n",
      "==> Working on Material :  copper\n",
      "==> Working on Material :  encapsulant\n",
      "==> Working on Material :  backsheet\n",
      "92\n",
      "PV_ICE\n",
      ">>>> Calculating Material Flows <<<<\n",
      "\n",
      "Working on Scenario:  PV_ICE\n",
      "********************\n"
     ]
    },
    {
     "name": "stderr",
     "output_type": "stream",
     "text": [
      "C:\\Users\\hmirletz\\AppData\\Local\\Temp\\1\\ipykernel_3292\\3246415230.py:6: SettingWithCopyWarning: \n",
      "A value is trying to be set on a copy of a slice from a DataFrame\n",
      "\n",
      "See the caveats in the documentation: https://pandas.pydata.org/pandas-docs/stable/user_guide/indexing.html#returning-a-view-versus-a-copy\n",
      "  sim1.scenario[scen].dataIn_m['new_Installed_Capacity_[MW]'][row] += Under_Installment #overwrite new installed\n"
     ]
    },
    {
     "name": "stdout",
     "output_type": "stream",
     "text": [
      "Finished Area+Power Generation Calculations\n",
      "==> Working on Material :  glass\n",
      "==> Working on Material :  silicon\n",
      "==> Working on Material :  silver\n",
      "==> Working on Material :  aluminium_frames\n",
      "==> Working on Material :  copper\n",
      "==> Working on Material :  encapsulant\n",
      "==> Working on Material :  backsheet\n",
      "circ_high\n",
      ">>>> Calculating Material Flows <<<<\n",
      "\n",
      "Working on Scenario:  circ_high\n",
      "********************\n"
     ]
    },
    {
     "name": "stderr",
     "output_type": "stream",
     "text": [
      "C:\\Users\\hmirletz\\AppData\\Local\\Temp\\1\\ipykernel_3292\\3246415230.py:6: SettingWithCopyWarning: \n",
      "A value is trying to be set on a copy of a slice from a DataFrame\n",
      "\n",
      "See the caveats in the documentation: https://pandas.pydata.org/pandas-docs/stable/user_guide/indexing.html#returning-a-view-versus-a-copy\n",
      "  sim1.scenario[scen].dataIn_m['new_Installed_Capacity_[MW]'][row] += Under_Installment #overwrite new installed\n"
     ]
    },
    {
     "name": "stdout",
     "output_type": "stream",
     "text": [
      "Finished Area+Power Generation Calculations\n",
      "==> Working on Material :  glass\n",
      "Recycled surplus End of Sim for Mat  glass  Scenario  circ_high  =  379712340.90829295  tonnes.\n",
      "==> Working on Material :  silicon\n",
      "Recycled surplus End of Sim for Mat  silicon  Scenario  circ_high  =  12490065.900034772  tonnes.\n",
      "==> Working on Material :  silver\n",
      "Recycled surplus End of Sim for Mat  silver  Scenario  circ_high  =  69616.14826550975  tonnes.\n",
      "==> Working on Material :  aluminium_frames\n",
      "Recycled surplus End of Sim for Mat  aluminium_frames  Scenario  circ_high  =  42885111.45426326  tonnes.\n",
      "==> Working on Material :  copper\n",
      "Recycled surplus End of Sim for Mat  copper  Scenario  circ_high  =  256720.51306492495  tonnes.\n",
      "==> Working on Material :  encapsulant\n",
      "Recycled surplus End of Sim for Mat  encapsulant  Scenario  circ_high  =  25249824.146273278  tonnes.\n",
      "==> Working on Material :  backsheet\n",
      "Recycled surplus End of Sim for Mat  backsheet  Scenario  circ_high  =  10415607.465641463  tonnes.\n",
      "circ_mid\n",
      ">>>> Calculating Material Flows <<<<\n",
      "\n",
      "Working on Scenario:  circ_mid\n",
      "********************\n"
     ]
    },
    {
     "name": "stderr",
     "output_type": "stream",
     "text": [
      "C:\\Users\\hmirletz\\AppData\\Local\\Temp\\1\\ipykernel_3292\\3246415230.py:6: SettingWithCopyWarning: \n",
      "A value is trying to be set on a copy of a slice from a DataFrame\n",
      "\n",
      "See the caveats in the documentation: https://pandas.pydata.org/pandas-docs/stable/user_guide/indexing.html#returning-a-view-versus-a-copy\n",
      "  sim1.scenario[scen].dataIn_m['new_Installed_Capacity_[MW]'][row] += Under_Installment #overwrite new installed\n"
     ]
    },
    {
     "name": "stdout",
     "output_type": "stream",
     "text": [
      "Finished Area+Power Generation Calculations\n",
      "==> Working on Material :  glass\n",
      "Recycled surplus End of Sim for Mat  glass  Scenario  circ_mid  =  41636763.68147519  tonnes.\n",
      "==> Working on Material :  silicon\n",
      "Recycled surplus End of Sim for Mat  silicon  Scenario  circ_mid  =  1369578.6684252112  tonnes.\n",
      "==> Working on Material :  silver\n",
      "Recycled surplus End of Sim for Mat  silver  Scenario  circ_mid  =  7633.650006770857  tonnes.\n",
      "==> Working on Material :  aluminium_frames\n",
      "Recycled surplus End of Sim for Mat  aluminium_frames  Scenario  circ_mid  =  4702499.915603578  tonnes.\n",
      "==> Working on Material :  copper\n",
      "Recycled surplus End of Sim for Mat  copper  Scenario  circ_mid  =  28150.28689639803  tonnes.\n",
      "==> Working on Material :  encapsulant\n",
      "Recycled surplus End of Sim for Mat  encapsulant  Scenario  circ_mid  =  2768730.029849355  tonnes.\n",
      "==> Working on Material :  backsheet\n",
      "Recycled surplus End of Sim for Mat  backsheet  Scenario  circ_mid  =  1142107.1688335293  tonnes.\n",
      "circ_low\n",
      ">>>> Calculating Material Flows <<<<\n",
      "\n",
      "Working on Scenario:  circ_low\n",
      "********************\n"
     ]
    },
    {
     "name": "stderr",
     "output_type": "stream",
     "text": [
      "C:\\Users\\hmirletz\\AppData\\Local\\Temp\\1\\ipykernel_3292\\3246415230.py:6: SettingWithCopyWarning: \n",
      "A value is trying to be set on a copy of a slice from a DataFrame\n",
      "\n",
      "See the caveats in the documentation: https://pandas.pydata.org/pandas-docs/stable/user_guide/indexing.html#returning-a-view-versus-a-copy\n",
      "  sim1.scenario[scen].dataIn_m['new_Installed_Capacity_[MW]'][row] += Under_Installment #overwrite new installed\n"
     ]
    },
    {
     "name": "stdout",
     "output_type": "stream",
     "text": [
      "Finished Area+Power Generation Calculations\n",
      "==> Working on Material :  glass\n",
      "==> Working on Material :  silicon\n",
      "==> Working on Material :  silver\n",
      "==> Working on Material :  aluminium_frames\n",
      "==> Working on Material :  copper\n",
      "==> Working on Material :  encapsulant\n",
      "==> Working on Material :  backsheet\n",
      "93\n",
      "PV_ICE\n",
      ">>>> Calculating Material Flows <<<<\n",
      "\n",
      "Working on Scenario:  PV_ICE\n",
      "********************\n"
     ]
    },
    {
     "name": "stderr",
     "output_type": "stream",
     "text": [
      "C:\\Users\\hmirletz\\AppData\\Local\\Temp\\1\\ipykernel_3292\\3246415230.py:6: SettingWithCopyWarning: \n",
      "A value is trying to be set on a copy of a slice from a DataFrame\n",
      "\n",
      "See the caveats in the documentation: https://pandas.pydata.org/pandas-docs/stable/user_guide/indexing.html#returning-a-view-versus-a-copy\n",
      "  sim1.scenario[scen].dataIn_m['new_Installed_Capacity_[MW]'][row] += Under_Installment #overwrite new installed\n"
     ]
    },
    {
     "name": "stdout",
     "output_type": "stream",
     "text": [
      "Finished Area+Power Generation Calculations\n",
      "==> Working on Material :  glass\n",
      "==> Working on Material :  silicon\n",
      "==> Working on Material :  silver\n",
      "==> Working on Material :  aluminium_frames\n",
      "==> Working on Material :  copper\n",
      "==> Working on Material :  encapsulant\n",
      "==> Working on Material :  backsheet\n",
      "circ_high\n",
      ">>>> Calculating Material Flows <<<<\n",
      "\n",
      "Working on Scenario:  circ_high\n",
      "********************\n"
     ]
    },
    {
     "name": "stderr",
     "output_type": "stream",
     "text": [
      "C:\\Users\\hmirletz\\AppData\\Local\\Temp\\1\\ipykernel_3292\\3246415230.py:6: SettingWithCopyWarning: \n",
      "A value is trying to be set on a copy of a slice from a DataFrame\n",
      "\n",
      "See the caveats in the documentation: https://pandas.pydata.org/pandas-docs/stable/user_guide/indexing.html#returning-a-view-versus-a-copy\n",
      "  sim1.scenario[scen].dataIn_m['new_Installed_Capacity_[MW]'][row] += Under_Installment #overwrite new installed\n"
     ]
    },
    {
     "name": "stdout",
     "output_type": "stream",
     "text": [
      "Finished Area+Power Generation Calculations\n",
      "==> Working on Material :  glass\n",
      "Recycled surplus End of Sim for Mat  glass  Scenario  circ_high  =  350786605.0973553  tonnes.\n",
      "==> Working on Material :  silicon\n",
      "Recycled surplus End of Sim for Mat  silicon  Scenario  circ_high  =  11538597.360399228  tonnes.\n",
      "==> Working on Material :  silver\n",
      "Recycled surplus End of Sim for Mat  silver  Scenario  circ_high  =  64312.92765359517  tonnes.\n",
      "==> Working on Material :  aluminium_frames\n",
      "Recycled surplus End of Sim for Mat  aluminium_frames  Scenario  circ_high  =  39618208.405546635  tonnes.\n",
      "==> Working on Material :  copper\n",
      "Recycled surplus End of Sim for Mat  copper  Scenario  circ_high  =  237164.05166469404  tonnes.\n",
      "==> Working on Material :  encapsulant\n",
      "Recycled surplus End of Sim for Mat  encapsulant  Scenario  circ_high  =  23326342.436986063  tonnes.\n",
      "==> Working on Material :  backsheet\n",
      "Recycled surplus End of Sim for Mat  backsheet  Scenario  circ_high  =  9622167.07036514  tonnes.\n",
      "circ_mid\n",
      ">>>> Calculating Material Flows <<<<\n",
      "\n",
      "Working on Scenario:  circ_mid\n",
      "********************\n"
     ]
    },
    {
     "name": "stderr",
     "output_type": "stream",
     "text": [
      "C:\\Users\\hmirletz\\AppData\\Local\\Temp\\1\\ipykernel_3292\\3246415230.py:6: SettingWithCopyWarning: \n",
      "A value is trying to be set on a copy of a slice from a DataFrame\n",
      "\n",
      "See the caveats in the documentation: https://pandas.pydata.org/pandas-docs/stable/user_guide/indexing.html#returning-a-view-versus-a-copy\n",
      "  sim1.scenario[scen].dataIn_m['new_Installed_Capacity_[MW]'][row] += Under_Installment #overwrite new installed\n"
     ]
    },
    {
     "name": "stdout",
     "output_type": "stream",
     "text": [
      "Finished Area+Power Generation Calculations\n",
      "==> Working on Material :  glass\n",
      "Recycled surplus End of Sim for Mat  glass  Scenario  circ_mid  =  41066744.92194057  tonnes.\n",
      "==> Working on Material :  silicon\n",
      "Recycled surplus End of Sim for Mat  silicon  Scenario  circ_mid  =  1350828.759339261  tonnes.\n",
      "==> Working on Material :  silver\n",
      "Recycled surplus End of Sim for Mat  silver  Scenario  circ_mid  =  7529.143236243036  tonnes.\n",
      "==> Working on Material :  aluminium_frames\n",
      "Recycled surplus End of Sim for Mat  aluminium_frames  Scenario  circ_mid  =  4638121.3969197  tonnes.\n",
      "==> Working on Material :  copper\n",
      "Recycled surplus End of Sim for Mat  copper  Scenario  circ_mid  =  27764.90171756944  tonnes.\n",
      "==> Working on Material :  encapsulant\n",
      "Recycled surplus End of Sim for Mat  encapsulant  Scenario  circ_mid  =  2730825.353367421  tonnes.\n",
      "==> Working on Material :  backsheet\n",
      "Recycled surplus End of Sim for Mat  backsheet  Scenario  circ_mid  =  1126471.4072115533  tonnes.\n",
      "circ_low\n",
      ">>>> Calculating Material Flows <<<<\n",
      "\n",
      "Working on Scenario:  circ_low\n",
      "********************\n"
     ]
    },
    {
     "name": "stderr",
     "output_type": "stream",
     "text": [
      "C:\\Users\\hmirletz\\AppData\\Local\\Temp\\1\\ipykernel_3292\\3246415230.py:6: SettingWithCopyWarning: \n",
      "A value is trying to be set on a copy of a slice from a DataFrame\n",
      "\n",
      "See the caveats in the documentation: https://pandas.pydata.org/pandas-docs/stable/user_guide/indexing.html#returning-a-view-versus-a-copy\n",
      "  sim1.scenario[scen].dataIn_m['new_Installed_Capacity_[MW]'][row] += Under_Installment #overwrite new installed\n"
     ]
    },
    {
     "name": "stdout",
     "output_type": "stream",
     "text": [
      "Finished Area+Power Generation Calculations\n",
      "==> Working on Material :  glass\n",
      "==> Working on Material :  silicon\n",
      "==> Working on Material :  silver\n",
      "==> Working on Material :  aluminium_frames\n",
      "==> Working on Material :  copper\n",
      "==> Working on Material :  encapsulant\n",
      "==> Working on Material :  backsheet\n",
      "94\n",
      "PV_ICE\n",
      ">>>> Calculating Material Flows <<<<\n",
      "\n",
      "Working on Scenario:  PV_ICE\n",
      "********************\n"
     ]
    },
    {
     "name": "stderr",
     "output_type": "stream",
     "text": [
      "C:\\Users\\hmirletz\\AppData\\Local\\Temp\\1\\ipykernel_3292\\3246415230.py:6: SettingWithCopyWarning: \n",
      "A value is trying to be set on a copy of a slice from a DataFrame\n",
      "\n",
      "See the caveats in the documentation: https://pandas.pydata.org/pandas-docs/stable/user_guide/indexing.html#returning-a-view-versus-a-copy\n",
      "  sim1.scenario[scen].dataIn_m['new_Installed_Capacity_[MW]'][row] += Under_Installment #overwrite new installed\n"
     ]
    },
    {
     "name": "stdout",
     "output_type": "stream",
     "text": [
      "Finished Area+Power Generation Calculations\n",
      "==> Working on Material :  glass\n",
      "==> Working on Material :  silicon\n",
      "==> Working on Material :  silver\n",
      "==> Working on Material :  aluminium_frames\n",
      "==> Working on Material :  copper\n",
      "==> Working on Material :  encapsulant\n",
      "==> Working on Material :  backsheet\n",
      "circ_high\n",
      ">>>> Calculating Material Flows <<<<\n",
      "\n",
      "Working on Scenario:  circ_high\n",
      "********************\n"
     ]
    },
    {
     "name": "stderr",
     "output_type": "stream",
     "text": [
      "C:\\Users\\hmirletz\\AppData\\Local\\Temp\\1\\ipykernel_3292\\3246415230.py:6: SettingWithCopyWarning: \n",
      "A value is trying to be set on a copy of a slice from a DataFrame\n",
      "\n",
      "See the caveats in the documentation: https://pandas.pydata.org/pandas-docs/stable/user_guide/indexing.html#returning-a-view-versus-a-copy\n",
      "  sim1.scenario[scen].dataIn_m['new_Installed_Capacity_[MW]'][row] += Under_Installment #overwrite new installed\n"
     ]
    },
    {
     "name": "stdout",
     "output_type": "stream",
     "text": [
      "Finished Area+Power Generation Calculations\n",
      "==> Working on Material :  glass\n",
      "Recycled surplus End of Sim for Mat  glass  Scenario  circ_high  =  319830312.2845469  tonnes.\n",
      "==> Working on Material :  silicon\n",
      "Recycled surplus End of Sim for Mat  silicon  Scenario  circ_high  =  10520336.704641059  tonnes.\n",
      "==> Working on Material :  silver\n",
      "Recycled surplus End of Sim for Mat  silver  Scenario  circ_high  =  58637.42639110793  tonnes.\n",
      "==> Working on Material :  aluminium_frames\n",
      "Recycled surplus End of Sim for Mat  aluminium_frames  Scenario  circ_high  =  36121972.11174462  tonnes.\n",
      "==> Working on Material :  copper\n",
      "Recycled surplus End of Sim for Mat  copper  Scenario  circ_high  =  216234.74672168825  tonnes.\n",
      "==> Working on Material :  encapsulant\n",
      "Recycled surplus End of Sim for Mat  encapsulant  Scenario  circ_high  =  21267834.283486955  tonnes.\n",
      "==> Working on Material :  backsheet\n",
      "Recycled surplus End of Sim for Mat  backsheet  Scenario  circ_high  =  8773027.972703991  tonnes.\n",
      "circ_mid\n",
      ">>>> Calculating Material Flows <<<<\n",
      "\n",
      "Working on Scenario:  circ_mid\n",
      "********************\n"
     ]
    },
    {
     "name": "stderr",
     "output_type": "stream",
     "text": [
      "C:\\Users\\hmirletz\\AppData\\Local\\Temp\\1\\ipykernel_3292\\3246415230.py:6: SettingWithCopyWarning: \n",
      "A value is trying to be set on a copy of a slice from a DataFrame\n",
      "\n",
      "See the caveats in the documentation: https://pandas.pydata.org/pandas-docs/stable/user_guide/indexing.html#returning-a-view-versus-a-copy\n",
      "  sim1.scenario[scen].dataIn_m['new_Installed_Capacity_[MW]'][row] += Under_Installment #overwrite new installed\n"
     ]
    },
    {
     "name": "stdout",
     "output_type": "stream",
     "text": [
      "Finished Area+Power Generation Calculations\n",
      "==> Working on Material :  glass\n",
      "Recycled surplus End of Sim for Mat  glass  Scenario  circ_mid  =  39989086.91193822  tonnes.\n",
      "==> Working on Material :  silicon\n",
      "Recycled surplus End of Sim for Mat  silicon  Scenario  circ_mid  =  1315380.8212226531  tonnes.\n",
      "==> Working on Material :  silver\n",
      "Recycled surplus End of Sim for Mat  silver  Scenario  circ_mid  =  7331.566303072048  tonnes.\n",
      "==> Working on Material :  aluminium_frames\n",
      "Recycled surplus End of Sim for Mat  aluminium_frames  Scenario  circ_mid  =  4516409.566964477  tonnes.\n",
      "==> Working on Material :  copper\n",
      "Recycled surplus End of Sim for Mat  copper  Scenario  circ_mid  =  27036.305653047162  tonnes.\n",
      "==> Working on Material :  encapsulant\n",
      "Recycled surplus End of Sim for Mat  encapsulant  Scenario  circ_mid  =  2659164.0658325143  tonnes.\n",
      "==> Working on Material :  backsheet\n",
      "Recycled surplus End of Sim for Mat  backsheet  Scenario  circ_mid  =  1096910.9699933708  tonnes.\n",
      "circ_low\n",
      ">>>> Calculating Material Flows <<<<\n",
      "\n",
      "Working on Scenario:  circ_low\n",
      "********************\n"
     ]
    },
    {
     "name": "stderr",
     "output_type": "stream",
     "text": [
      "C:\\Users\\hmirletz\\AppData\\Local\\Temp\\1\\ipykernel_3292\\3246415230.py:6: SettingWithCopyWarning: \n",
      "A value is trying to be set on a copy of a slice from a DataFrame\n",
      "\n",
      "See the caveats in the documentation: https://pandas.pydata.org/pandas-docs/stable/user_guide/indexing.html#returning-a-view-versus-a-copy\n",
      "  sim1.scenario[scen].dataIn_m['new_Installed_Capacity_[MW]'][row] += Under_Installment #overwrite new installed\n"
     ]
    },
    {
     "name": "stdout",
     "output_type": "stream",
     "text": [
      "Finished Area+Power Generation Calculations\n",
      "==> Working on Material :  glass\n",
      "==> Working on Material :  silicon\n",
      "==> Working on Material :  silver\n",
      "==> Working on Material :  aluminium_frames\n",
      "==> Working on Material :  copper\n",
      "==> Working on Material :  encapsulant\n",
      "==> Working on Material :  backsheet\n",
      "95\n",
      "PV_ICE\n",
      ">>>> Calculating Material Flows <<<<\n",
      "\n",
      "Working on Scenario:  PV_ICE\n",
      "********************\n"
     ]
    },
    {
     "name": "stderr",
     "output_type": "stream",
     "text": [
      "C:\\Users\\hmirletz\\AppData\\Local\\Temp\\1\\ipykernel_3292\\3246415230.py:6: SettingWithCopyWarning: \n",
      "A value is trying to be set on a copy of a slice from a DataFrame\n",
      "\n",
      "See the caveats in the documentation: https://pandas.pydata.org/pandas-docs/stable/user_guide/indexing.html#returning-a-view-versus-a-copy\n",
      "  sim1.scenario[scen].dataIn_m['new_Installed_Capacity_[MW]'][row] += Under_Installment #overwrite new installed\n"
     ]
    },
    {
     "name": "stdout",
     "output_type": "stream",
     "text": [
      "Finished Area+Power Generation Calculations\n",
      "==> Working on Material :  glass\n",
      "==> Working on Material :  silicon\n",
      "==> Working on Material :  silver\n",
      "==> Working on Material :  aluminium_frames\n",
      "==> Working on Material :  copper\n",
      "==> Working on Material :  encapsulant\n",
      "==> Working on Material :  backsheet\n",
      "circ_high\n",
      ">>>> Calculating Material Flows <<<<\n",
      "\n",
      "Working on Scenario:  circ_high\n",
      "********************\n"
     ]
    },
    {
     "name": "stderr",
     "output_type": "stream",
     "text": [
      "C:\\Users\\hmirletz\\AppData\\Local\\Temp\\1\\ipykernel_3292\\3246415230.py:6: SettingWithCopyWarning: \n",
      "A value is trying to be set on a copy of a slice from a DataFrame\n",
      "\n",
      "See the caveats in the documentation: https://pandas.pydata.org/pandas-docs/stable/user_guide/indexing.html#returning-a-view-versus-a-copy\n",
      "  sim1.scenario[scen].dataIn_m['new_Installed_Capacity_[MW]'][row] += Under_Installment #overwrite new installed\n"
     ]
    },
    {
     "name": "stdout",
     "output_type": "stream",
     "text": [
      "Finished Area+Power Generation Calculations\n",
      "==> Working on Material :  glass\n",
      "Recycled surplus End of Sim for Mat  glass  Scenario  circ_high  =  287058768.3494613  tonnes.\n",
      "==> Working on Material :  silicon\n",
      "Recycled surplus End of Sim for Mat  silicon  Scenario  circ_high  =  9442366.09558476  tonnes.\n",
      "==> Working on Material :  silver\n",
      "Recycled surplus End of Sim for Mat  silver  Scenario  circ_high  =  52629.11848092178  tonnes.\n",
      "==> Working on Material :  aluminium_frames\n",
      "Recycled surplus End of Sim for Mat  aluminium_frames  Scenario  circ_high  =  32420719.445522044  tonnes.\n",
      "==> Working on Material :  copper\n",
      "Recycled surplus End of Sim for Mat  copper  Scenario  circ_high  =  194078.16483967655  tonnes.\n",
      "==> Working on Material :  encapsulant\n",
      "Recycled surplus End of Sim for Mat  encapsulant  Scenario  circ_high  =  19088616.933364976  tonnes.\n",
      "==> Working on Material :  backsheet\n",
      "Recycled surplus End of Sim for Mat  backsheet  Scenario  circ_high  =  7874096.068477805  tonnes.\n",
      "circ_mid\n",
      ">>>> Calculating Material Flows <<<<\n",
      "\n",
      "Working on Scenario:  circ_mid\n",
      "********************\n"
     ]
    },
    {
     "name": "stderr",
     "output_type": "stream",
     "text": [
      "C:\\Users\\hmirletz\\AppData\\Local\\Temp\\1\\ipykernel_3292\\3246415230.py:6: SettingWithCopyWarning: \n",
      "A value is trying to be set on a copy of a slice from a DataFrame\n",
      "\n",
      "See the caveats in the documentation: https://pandas.pydata.org/pandas-docs/stable/user_guide/indexing.html#returning-a-view-versus-a-copy\n",
      "  sim1.scenario[scen].dataIn_m['new_Installed_Capacity_[MW]'][row] += Under_Installment #overwrite new installed\n"
     ]
    },
    {
     "name": "stdout",
     "output_type": "stream",
     "text": [
      "Finished Area+Power Generation Calculations\n",
      "==> Working on Material :  glass\n",
      "Recycled surplus End of Sim for Mat  glass  Scenario  circ_mid  =  38457616.12136655  tonnes.\n",
      "==> Working on Material :  silicon\n",
      "Recycled surplus End of Sim for Mat  silicon  Scenario  circ_mid  =  1265005.394781514  tonnes.\n",
      "==> Working on Material :  silver\n",
      "Recycled surplus End of Sim for Mat  silver  Scenario  circ_mid  =  7050.787707976336  tonnes.\n",
      "==> Working on Material :  aluminium_frames\n",
      "Recycled surplus End of Sim for Mat  aluminium_frames  Scenario  circ_mid  =  4343443.643904112  tonnes.\n",
      "==> Working on Material :  copper\n",
      "Recycled surplus End of Sim for Mat  copper  Scenario  circ_mid  =  26000.89035377339  tonnes.\n",
      "==> Working on Material :  encapsulant\n",
      "Recycled surplus End of Sim for Mat  encapsulant  Scenario  circ_mid  =  2557325.479141891  tonnes.\n",
      "==> Working on Material :  backsheet\n",
      "Recycled surplus End of Sim for Mat  backsheet  Scenario  circ_mid  =  1054902.331133928  tonnes.\n",
      "circ_low\n",
      ">>>> Calculating Material Flows <<<<\n",
      "\n",
      "Working on Scenario:  circ_low\n",
      "********************\n"
     ]
    },
    {
     "name": "stderr",
     "output_type": "stream",
     "text": [
      "C:\\Users\\hmirletz\\AppData\\Local\\Temp\\1\\ipykernel_3292\\3246415230.py:6: SettingWithCopyWarning: \n",
      "A value is trying to be set on a copy of a slice from a DataFrame\n",
      "\n",
      "See the caveats in the documentation: https://pandas.pydata.org/pandas-docs/stable/user_guide/indexing.html#returning-a-view-versus-a-copy\n",
      "  sim1.scenario[scen].dataIn_m['new_Installed_Capacity_[MW]'][row] += Under_Installment #overwrite new installed\n"
     ]
    },
    {
     "name": "stdout",
     "output_type": "stream",
     "text": [
      "Finished Area+Power Generation Calculations\n",
      "==> Working on Material :  glass\n",
      "==> Working on Material :  silicon\n",
      "==> Working on Material :  silver\n",
      "==> Working on Material :  aluminium_frames\n",
      "==> Working on Material :  copper\n",
      "==> Working on Material :  encapsulant\n",
      "==> Working on Material :  backsheet\n",
      "96\n",
      "PV_ICE\n",
      ">>>> Calculating Material Flows <<<<\n",
      "\n",
      "Working on Scenario:  PV_ICE\n",
      "********************\n"
     ]
    },
    {
     "name": "stderr",
     "output_type": "stream",
     "text": [
      "C:\\Users\\hmirletz\\AppData\\Local\\Temp\\1\\ipykernel_3292\\3246415230.py:6: SettingWithCopyWarning: \n",
      "A value is trying to be set on a copy of a slice from a DataFrame\n",
      "\n",
      "See the caveats in the documentation: https://pandas.pydata.org/pandas-docs/stable/user_guide/indexing.html#returning-a-view-versus-a-copy\n",
      "  sim1.scenario[scen].dataIn_m['new_Installed_Capacity_[MW]'][row] += Under_Installment #overwrite new installed\n"
     ]
    },
    {
     "name": "stdout",
     "output_type": "stream",
     "text": [
      "Finished Area+Power Generation Calculations\n",
      "==> Working on Material :  glass\n",
      "==> Working on Material :  silicon\n",
      "==> Working on Material :  silver\n",
      "==> Working on Material :  aluminium_frames\n",
      "==> Working on Material :  copper\n",
      "==> Working on Material :  encapsulant\n",
      "==> Working on Material :  backsheet\n",
      "circ_high\n",
      ">>>> Calculating Material Flows <<<<\n",
      "\n",
      "Working on Scenario:  circ_high\n",
      "********************\n"
     ]
    },
    {
     "name": "stderr",
     "output_type": "stream",
     "text": [
      "C:\\Users\\hmirletz\\AppData\\Local\\Temp\\1\\ipykernel_3292\\3246415230.py:6: SettingWithCopyWarning: \n",
      "A value is trying to be set on a copy of a slice from a DataFrame\n",
      "\n",
      "See the caveats in the documentation: https://pandas.pydata.org/pandas-docs/stable/user_guide/indexing.html#returning-a-view-versus-a-copy\n",
      "  sim1.scenario[scen].dataIn_m['new_Installed_Capacity_[MW]'][row] += Under_Installment #overwrite new installed\n"
     ]
    },
    {
     "name": "stdout",
     "output_type": "stream",
     "text": [
      "Finished Area+Power Generation Calculations\n",
      "==> Working on Material :  glass\n",
      "Recycled surplus End of Sim for Mat  glass  Scenario  circ_high  =  252461179.52559337  tonnes.\n",
      "==> Working on Material :  silicon\n",
      "Recycled surplus End of Sim for Mat  silicon  Scenario  circ_high  =  8304330.488528256  tonnes.\n",
      "==> Working on Material :  silver\n",
      "Recycled surplus End of Sim for Mat  silver  Scenario  circ_high  =  46286.025002763716  tonnes.\n",
      "==> Working on Material :  aluminium_frames\n",
      "Recycled surplus End of Sim for Mat  aluminium_frames  Scenario  circ_high  =  28513231.347528692  tonnes.\n",
      "==> Working on Material :  copper\n",
      "Recycled surplus End of Sim for Mat  copper  Scenario  circ_high  =  170687.00843842118  tonnes.\n",
      "==> Working on Material :  encapsulant\n",
      "Recycled surplus End of Sim for Mat  encapsulant  Scenario  circ_high  =  16787972.630896233  tonnes.\n",
      "==> Working on Material :  backsheet\n",
      "Recycled surplus End of Sim for Mat  backsheet  Scenario  circ_high  =  6925075.281886872  tonnes.\n",
      "circ_mid\n",
      ">>>> Calculating Material Flows <<<<\n",
      "\n",
      "Working on Scenario:  circ_mid\n",
      "********************\n"
     ]
    },
    {
     "name": "stderr",
     "output_type": "stream",
     "text": [
      "C:\\Users\\hmirletz\\AppData\\Local\\Temp\\1\\ipykernel_3292\\3246415230.py:6: SettingWithCopyWarning: \n",
      "A value is trying to be set on a copy of a slice from a DataFrame\n",
      "\n",
      "See the caveats in the documentation: https://pandas.pydata.org/pandas-docs/stable/user_guide/indexing.html#returning-a-view-versus-a-copy\n",
      "  sim1.scenario[scen].dataIn_m['new_Installed_Capacity_[MW]'][row] += Under_Installment #overwrite new installed\n"
     ]
    },
    {
     "name": "stdout",
     "output_type": "stream",
     "text": [
      "Finished Area+Power Generation Calculations\n",
      "==> Working on Material :  glass\n",
      "Recycled surplus End of Sim for Mat  glass  Scenario  circ_mid  =  36469634.108599335  tonnes.\n",
      "==> Working on Material :  silicon\n",
      "Recycled surplus End of Sim for Mat  silicon  Scenario  circ_mid  =  1199613.7188403227  tonnes.\n",
      "==> Working on Material :  silver\n",
      "Recycled surplus End of Sim for Mat  silver  Scenario  circ_mid  =  6686.3127208876385  tonnes.\n",
      "==> Working on Material :  aluminium_frames\n",
      "Recycled surplus End of Sim for Mat  aluminium_frames  Scenario  circ_mid  =  4118918.8629010557  tonnes.\n",
      "==> Working on Material :  copper\n",
      "Recycled surplus End of Sim for Mat  copper  Scenario  circ_mid  =  24656.831424688688  tonnes.\n",
      "==> Working on Material :  encapsulant\n",
      "Recycled surplus End of Sim for Mat  encapsulant  Scenario  circ_mid  =  2425130.1543645756  tonnes.\n",
      "==> Working on Material :  backsheet\n",
      "Recycled surplus End of Sim for Mat  backsheet  Scenario  circ_mid  =  1000371.4716832998  tonnes.\n",
      "circ_low\n",
      ">>>> Calculating Material Flows <<<<\n",
      "\n",
      "Working on Scenario:  circ_low\n",
      "********************\n"
     ]
    },
    {
     "name": "stderr",
     "output_type": "stream",
     "text": [
      "C:\\Users\\hmirletz\\AppData\\Local\\Temp\\1\\ipykernel_3292\\3246415230.py:6: SettingWithCopyWarning: \n",
      "A value is trying to be set on a copy of a slice from a DataFrame\n",
      "\n",
      "See the caveats in the documentation: https://pandas.pydata.org/pandas-docs/stable/user_guide/indexing.html#returning-a-view-versus-a-copy\n",
      "  sim1.scenario[scen].dataIn_m['new_Installed_Capacity_[MW]'][row] += Under_Installment #overwrite new installed\n"
     ]
    },
    {
     "name": "stdout",
     "output_type": "stream",
     "text": [
      "Finished Area+Power Generation Calculations\n",
      "==> Working on Material :  glass\n",
      "==> Working on Material :  silicon\n",
      "==> Working on Material :  silver\n",
      "==> Working on Material :  aluminium_frames\n",
      "==> Working on Material :  copper\n",
      "==> Working on Material :  encapsulant\n",
      "==> Working on Material :  backsheet\n",
      "97\n",
      "PV_ICE\n",
      ">>>> Calculating Material Flows <<<<\n",
      "\n",
      "Working on Scenario:  PV_ICE\n",
      "********************\n"
     ]
    },
    {
     "name": "stderr",
     "output_type": "stream",
     "text": [
      "C:\\Users\\hmirletz\\AppData\\Local\\Temp\\1\\ipykernel_3292\\3246415230.py:6: SettingWithCopyWarning: \n",
      "A value is trying to be set on a copy of a slice from a DataFrame\n",
      "\n",
      "See the caveats in the documentation: https://pandas.pydata.org/pandas-docs/stable/user_guide/indexing.html#returning-a-view-versus-a-copy\n",
      "  sim1.scenario[scen].dataIn_m['new_Installed_Capacity_[MW]'][row] += Under_Installment #overwrite new installed\n"
     ]
    },
    {
     "name": "stdout",
     "output_type": "stream",
     "text": [
      "Finished Area+Power Generation Calculations\n",
      "==> Working on Material :  glass\n",
      "==> Working on Material :  silicon\n",
      "==> Working on Material :  silver\n",
      "==> Working on Material :  aluminium_frames\n",
      "==> Working on Material :  copper\n",
      "==> Working on Material :  encapsulant\n",
      "==> Working on Material :  backsheet\n",
      "circ_high\n",
      ">>>> Calculating Material Flows <<<<\n",
      "\n",
      "Working on Scenario:  circ_high\n",
      "********************\n"
     ]
    },
    {
     "name": "stderr",
     "output_type": "stream",
     "text": [
      "C:\\Users\\hmirletz\\AppData\\Local\\Temp\\1\\ipykernel_3292\\3246415230.py:6: SettingWithCopyWarning: \n",
      "A value is trying to be set on a copy of a slice from a DataFrame\n",
      "\n",
      "See the caveats in the documentation: https://pandas.pydata.org/pandas-docs/stable/user_guide/indexing.html#returning-a-view-versus-a-copy\n",
      "  sim1.scenario[scen].dataIn_m['new_Installed_Capacity_[MW]'][row] += Under_Installment #overwrite new installed\n"
     ]
    },
    {
     "name": "stdout",
     "output_type": "stream",
     "text": [
      "Finished Area+Power Generation Calculations\n",
      "==> Working on Material :  glass\n",
      "Recycled surplus End of Sim for Mat  glass  Scenario  circ_high  =  198678686.19520208  tonnes.\n",
      "==> Working on Material :  silicon\n",
      "Recycled surplus End of Sim for Mat  silicon  Scenario  circ_high  =  6535236.325410165  tonnes.\n",
      "==> Working on Material :  silver\n",
      "Recycled surplus End of Sim for Mat  silver  Scenario  circ_high  =  36425.58691212609  tonnes.\n",
      "==> Working on Material :  aluminium_frames\n",
      "Recycled surplus End of Sim for Mat  aluminium_frames  Scenario  circ_high  =  22438979.941201463  tonnes.\n",
      "==> Working on Material :  copper\n",
      "Recycled surplus End of Sim for Mat  copper  Scenario  circ_high  =  134325.089706305  tonnes.\n",
      "==> Working on Material :  encapsulant\n",
      "Recycled surplus End of Sim for Mat  encapsulant  Scenario  circ_high  =  13211585.054205708  tonnes.\n",
      "==> Working on Material :  backsheet\n",
      "Recycled surplus End of Sim for Mat  backsheet  Scenario  circ_high  =  5449807.6155453995  tonnes.\n",
      "circ_mid\n",
      ">>>> Calculating Material Flows <<<<\n",
      "\n",
      "Working on Scenario:  circ_mid\n",
      "********************\n"
     ]
    },
    {
     "name": "stderr",
     "output_type": "stream",
     "text": [
      "C:\\Users\\hmirletz\\AppData\\Local\\Temp\\1\\ipykernel_3292\\3246415230.py:6: SettingWithCopyWarning: \n",
      "A value is trying to be set on a copy of a slice from a DataFrame\n",
      "\n",
      "See the caveats in the documentation: https://pandas.pydata.org/pandas-docs/stable/user_guide/indexing.html#returning-a-view-versus-a-copy\n",
      "  sim1.scenario[scen].dataIn_m['new_Installed_Capacity_[MW]'][row] += Under_Installment #overwrite new installed\n"
     ]
    },
    {
     "name": "stdout",
     "output_type": "stream",
     "text": [
      "Finished Area+Power Generation Calculations\n",
      "==> Working on Material :  glass\n",
      "Recycled surplus End of Sim for Mat  glass  Scenario  circ_mid  =  29685425.969201274  tonnes.\n",
      "==> Working on Material :  silicon\n",
      "Recycled surplus End of Sim for Mat  silicon  Scenario  circ_mid  =  976457.4038837351  tonnes.\n",
      "==> Working on Material :  silver\n",
      "Recycled surplus End of Sim for Mat  silver  Scenario  circ_mid  =  5442.501580679054  tonnes.\n",
      "==> Working on Material :  aluminium_frames\n",
      "Recycled surplus End of Sim for Mat  aluminium_frames  Scenario  circ_mid  =  3352703.254814529  tonnes.\n",
      "==> Working on Material :  copper\n",
      "Recycled surplus End of Sim for Mat  copper  Scenario  circ_mid  =  20070.08191288879  tonnes.\n",
      "==> Working on Material :  encapsulant\n",
      "Recycled surplus End of Sim for Mat  encapsulant  Scenario  circ_mid  =  1973999.0110318153  tonnes.\n",
      "==> Working on Material :  backsheet\n",
      "Recycled surplus End of Sim for Mat  backsheet  Scenario  circ_mid  =  814278.8922950361  tonnes.\n",
      "circ_low\n",
      ">>>> Calculating Material Flows <<<<\n",
      "\n",
      "Working on Scenario:  circ_low\n",
      "********************\n"
     ]
    },
    {
     "name": "stderr",
     "output_type": "stream",
     "text": [
      "C:\\Users\\hmirletz\\AppData\\Local\\Temp\\1\\ipykernel_3292\\3246415230.py:6: SettingWithCopyWarning: \n",
      "A value is trying to be set on a copy of a slice from a DataFrame\n",
      "\n",
      "See the caveats in the documentation: https://pandas.pydata.org/pandas-docs/stable/user_guide/indexing.html#returning-a-view-versus-a-copy\n",
      "  sim1.scenario[scen].dataIn_m['new_Installed_Capacity_[MW]'][row] += Under_Installment #overwrite new installed\n"
     ]
    },
    {
     "name": "stdout",
     "output_type": "stream",
     "text": [
      "Finished Area+Power Generation Calculations\n",
      "==> Working on Material :  glass\n",
      "==> Working on Material :  silicon\n",
      "==> Working on Material :  silver\n",
      "==> Working on Material :  aluminium_frames\n",
      "==> Working on Material :  copper\n",
      "==> Working on Material :  encapsulant\n",
      "==> Working on Material :  backsheet\n",
      "98\n",
      "PV_ICE\n",
      ">>>> Calculating Material Flows <<<<\n",
      "\n",
      "Working on Scenario:  PV_ICE\n",
      "********************\n"
     ]
    },
    {
     "name": "stderr",
     "output_type": "stream",
     "text": [
      "C:\\Users\\hmirletz\\AppData\\Local\\Temp\\1\\ipykernel_3292\\3246415230.py:6: SettingWithCopyWarning: \n",
      "A value is trying to be set on a copy of a slice from a DataFrame\n",
      "\n",
      "See the caveats in the documentation: https://pandas.pydata.org/pandas-docs/stable/user_guide/indexing.html#returning-a-view-versus-a-copy\n",
      "  sim1.scenario[scen].dataIn_m['new_Installed_Capacity_[MW]'][row] += Under_Installment #overwrite new installed\n"
     ]
    },
    {
     "name": "stdout",
     "output_type": "stream",
     "text": [
      "Finished Area+Power Generation Calculations\n",
      "==> Working on Material :  glass\n",
      "==> Working on Material :  silicon\n",
      "==> Working on Material :  silver\n",
      "==> Working on Material :  aluminium_frames\n",
      "==> Working on Material :  copper\n",
      "==> Working on Material :  encapsulant\n",
      "==> Working on Material :  backsheet\n",
      "circ_high\n",
      ">>>> Calculating Material Flows <<<<\n",
      "\n",
      "Working on Scenario:  circ_high\n",
      "********************\n"
     ]
    },
    {
     "name": "stderr",
     "output_type": "stream",
     "text": [
      "C:\\Users\\hmirletz\\AppData\\Local\\Temp\\1\\ipykernel_3292\\3246415230.py:6: SettingWithCopyWarning: \n",
      "A value is trying to be set on a copy of a slice from a DataFrame\n",
      "\n",
      "See the caveats in the documentation: https://pandas.pydata.org/pandas-docs/stable/user_guide/indexing.html#returning-a-view-versus-a-copy\n",
      "  sim1.scenario[scen].dataIn_m['new_Installed_Capacity_[MW]'][row] += Under_Installment #overwrite new installed\n"
     ]
    },
    {
     "name": "stdout",
     "output_type": "stream",
     "text": [
      "Finished Area+Power Generation Calculations\n",
      "==> Working on Material :  glass\n",
      "Recycled surplus End of Sim for Mat  glass  Scenario  circ_high  =  138970435.17024675  tonnes.\n",
      "==> Working on Material :  silicon\n",
      "Recycled surplus End of Sim for Mat  silicon  Scenario  circ_high  =  4571223.282553531  tonnes.\n",
      "==> Working on Material :  silver\n",
      "Recycled surplus End of Sim for Mat  silver  Scenario  circ_high  =  25478.72527975299  tonnes.\n",
      "==> Working on Material :  aluminium_frames\n",
      "Recycled surplus End of Sim for Mat  aluminium_frames  Scenario  circ_high  =  15695467.223602524  tonnes.\n",
      "==> Working on Material :  copper\n",
      "Recycled surplus End of Sim for Mat  copper  Scenario  circ_high  =  93956.81302435767  tonnes.\n",
      "==> Working on Material :  encapsulant\n",
      "Recycled surplus End of Sim for Mat  encapsulant  Scenario  circ_high  =  9241150.922791  tonnes.\n",
      "==> Working on Material :  backsheet\n",
      "Recycled surplus End of Sim for Mat  backsheet  Scenario  circ_high  =  3811994.886972222  tonnes.\n",
      "circ_mid\n",
      ">>>> Calculating Material Flows <<<<\n",
      "\n",
      "Working on Scenario:  circ_mid\n",
      "********************\n"
     ]
    },
    {
     "name": "stderr",
     "output_type": "stream",
     "text": [
      "C:\\Users\\hmirletz\\AppData\\Local\\Temp\\1\\ipykernel_3292\\3246415230.py:6: SettingWithCopyWarning: \n",
      "A value is trying to be set on a copy of a slice from a DataFrame\n",
      "\n",
      "See the caveats in the documentation: https://pandas.pydata.org/pandas-docs/stable/user_guide/indexing.html#returning-a-view-versus-a-copy\n",
      "  sim1.scenario[scen].dataIn_m['new_Installed_Capacity_[MW]'][row] += Under_Installment #overwrite new installed\n"
     ]
    },
    {
     "name": "stdout",
     "output_type": "stream",
     "text": [
      "Finished Area+Power Generation Calculations\n",
      "==> Working on Material :  glass\n",
      "Recycled surplus End of Sim for Mat  glass  Scenario  circ_mid  =  21419778.40616218  tonnes.\n",
      "==> Working on Material :  silicon\n",
      "Recycled surplus End of Sim for Mat  silicon  Scenario  circ_mid  =  704571.3689925122  tonnes.\n",
      "==> Working on Material :  silver\n",
      "Recycled surplus End of Sim for Mat  silver  Scenario  circ_mid  =  3927.084555036604  tonnes.\n",
      "==> Working on Material :  aluminium_frames\n",
      "Recycled surplus End of Sim for Mat  aluminium_frames  Scenario  circ_mid  =  2419172.318910072  tonnes.\n",
      "==> Working on Material :  copper\n",
      "Recycled surplus End of Sim for Mat  copper  Scenario  circ_mid  =  14481.742913631118  tonnes.\n",
      "==> Working on Material :  encapsulant\n",
      "Recycled surplus End of Sim for Mat  encapsulant  Scenario  circ_mid  =  1424356.2290180088  tonnes.\n",
      "==> Working on Material :  backsheet\n",
      "Recycled surplus End of Sim for Mat  backsheet  Scenario  circ_mid  =  587550.0473488462  tonnes.\n",
      "circ_low\n",
      ">>>> Calculating Material Flows <<<<\n",
      "\n",
      "Working on Scenario:  circ_low\n",
      "********************\n"
     ]
    },
    {
     "name": "stderr",
     "output_type": "stream",
     "text": [
      "C:\\Users\\hmirletz\\AppData\\Local\\Temp\\1\\ipykernel_3292\\3246415230.py:6: SettingWithCopyWarning: \n",
      "A value is trying to be set on a copy of a slice from a DataFrame\n",
      "\n",
      "See the caveats in the documentation: https://pandas.pydata.org/pandas-docs/stable/user_guide/indexing.html#returning-a-view-versus-a-copy\n",
      "  sim1.scenario[scen].dataIn_m['new_Installed_Capacity_[MW]'][row] += Under_Installment #overwrite new installed\n"
     ]
    },
    {
     "name": "stdout",
     "output_type": "stream",
     "text": [
      "Finished Area+Power Generation Calculations\n",
      "==> Working on Material :  glass\n",
      "==> Working on Material :  silicon\n",
      "==> Working on Material :  silver\n",
      "==> Working on Material :  aluminium_frames\n",
      "==> Working on Material :  copper\n",
      "==> Working on Material :  encapsulant\n",
      "==> Working on Material :  backsheet\n",
      "99\n",
      "PV_ICE\n",
      ">>>> Calculating Material Flows <<<<\n",
      "\n",
      "Working on Scenario:  PV_ICE\n",
      "********************\n"
     ]
    },
    {
     "name": "stderr",
     "output_type": "stream",
     "text": [
      "C:\\Users\\hmirletz\\AppData\\Local\\Temp\\1\\ipykernel_3292\\3246415230.py:6: SettingWithCopyWarning: \n",
      "A value is trying to be set on a copy of a slice from a DataFrame\n",
      "\n",
      "See the caveats in the documentation: https://pandas.pydata.org/pandas-docs/stable/user_guide/indexing.html#returning-a-view-versus-a-copy\n",
      "  sim1.scenario[scen].dataIn_m['new_Installed_Capacity_[MW]'][row] += Under_Installment #overwrite new installed\n"
     ]
    },
    {
     "name": "stdout",
     "output_type": "stream",
     "text": [
      "Finished Area+Power Generation Calculations\n",
      "==> Working on Material :  glass\n",
      "==> Working on Material :  silicon\n",
      "==> Working on Material :  silver\n",
      "==> Working on Material :  aluminium_frames\n",
      "==> Working on Material :  copper\n",
      "==> Working on Material :  encapsulant\n",
      "==> Working on Material :  backsheet\n",
      "circ_high\n",
      ">>>> Calculating Material Flows <<<<\n",
      "\n",
      "Working on Scenario:  circ_high\n",
      "********************\n"
     ]
    },
    {
     "name": "stderr",
     "output_type": "stream",
     "text": [
      "C:\\Users\\hmirletz\\AppData\\Local\\Temp\\1\\ipykernel_3292\\3246415230.py:6: SettingWithCopyWarning: \n",
      "A value is trying to be set on a copy of a slice from a DataFrame\n",
      "\n",
      "See the caveats in the documentation: https://pandas.pydata.org/pandas-docs/stable/user_guide/indexing.html#returning-a-view-versus-a-copy\n",
      "  sim1.scenario[scen].dataIn_m['new_Installed_Capacity_[MW]'][row] += Under_Installment #overwrite new installed\n"
     ]
    },
    {
     "name": "stdout",
     "output_type": "stream",
     "text": [
      "Finished Area+Power Generation Calculations\n",
      "==> Working on Material :  glass\n",
      "Recycled surplus End of Sim for Mat  glass  Scenario  circ_high  =  73253083.5953516  tonnes.\n",
      "==> Working on Material :  silicon\n",
      "Recycled surplus End of Sim for Mat  silicon  Scenario  circ_high  =  2409549.9221808827  tonnes.\n",
      "==> Working on Material :  silver\n",
      "Recycled surplus End of Sim for Mat  silver  Scenario  circ_high  =  13430.160095090034  tonnes.\n",
      "==> Working on Material :  aluminium_frames\n",
      "Recycled surplus End of Sim for Mat  aluminium_frames  Scenario  circ_high  =  8273280.364921921  tonnes.\n",
      "==> Working on Material :  copper\n",
      "Recycled surplus End of Sim for Mat  copper  Scenario  circ_high  =  49525.8309466649  tonnes.\n",
      "==> Working on Material :  encapsulant\n",
      "Recycled surplus End of Sim for Mat  encapsulant  Scenario  circ_high  =  4871128.166470632  tonnes.\n",
      "==> Working on Material :  backsheet\n",
      "Recycled surplus End of Sim for Mat  backsheet  Scenario  circ_high  =  2009350.9801444006  tonnes.\n",
      "circ_mid\n",
      ">>>> Calculating Material Flows <<<<\n",
      "\n",
      "Working on Scenario:  circ_mid\n",
      "********************\n"
     ]
    },
    {
     "name": "stderr",
     "output_type": "stream",
     "text": [
      "C:\\Users\\hmirletz\\AppData\\Local\\Temp\\1\\ipykernel_3292\\3246415230.py:6: SettingWithCopyWarning: \n",
      "A value is trying to be set on a copy of a slice from a DataFrame\n",
      "\n",
      "See the caveats in the documentation: https://pandas.pydata.org/pandas-docs/stable/user_guide/indexing.html#returning-a-view-versus-a-copy\n",
      "  sim1.scenario[scen].dataIn_m['new_Installed_Capacity_[MW]'][row] += Under_Installment #overwrite new installed\n"
     ]
    },
    {
     "name": "stdout",
     "output_type": "stream",
     "text": [
      "Finished Area+Power Generation Calculations\n",
      "==> Working on Material :  glass\n",
      "Recycled surplus End of Sim for Mat  glass  Scenario  circ_mid  =  11651855.705638146  tonnes.\n",
      "==> Working on Material :  silicon\n",
      "Recycled surplus End of Sim for Mat  silicon  Scenario  circ_mid  =  383270.25472228543  tonnes.\n",
      "==> Working on Material :  silver\n",
      "Recycled surplus End of Sim for Mat  silver  Scenario  circ_mid  =  2136.241641321686  tonnes.\n",
      "==> Working on Material :  aluminium_frames\n",
      "Recycled surplus End of Sim for Mat  aluminium_frames  Scenario  circ_mid  =  1315972.8477352008  tonnes.\n",
      "==> Working on Material :  copper\n",
      "Recycled surplus End of Sim for Mat  copper  Scenario  circ_mid  =  7877.727565437078  tonnes.\n",
      "==> Working on Material :  encapsulant\n",
      "Recycled surplus End of Sim for Mat  encapsulant  Scenario  circ_mid  =  774816.2907777872  tonnes.\n",
      "==> Working on Material :  backsheet\n",
      "Recycled surplus End of Sim for Mat  backsheet  Scenario  circ_mid  =  319613.40783899557  tonnes.\n",
      "circ_low\n",
      ">>>> Calculating Material Flows <<<<\n",
      "\n",
      "Working on Scenario:  circ_low\n",
      "********************\n"
     ]
    },
    {
     "name": "stderr",
     "output_type": "stream",
     "text": [
      "C:\\Users\\hmirletz\\AppData\\Local\\Temp\\1\\ipykernel_3292\\3246415230.py:6: SettingWithCopyWarning: \n",
      "A value is trying to be set on a copy of a slice from a DataFrame\n",
      "\n",
      "See the caveats in the documentation: https://pandas.pydata.org/pandas-docs/stable/user_guide/indexing.html#returning-a-view-versus-a-copy\n",
      "  sim1.scenario[scen].dataIn_m['new_Installed_Capacity_[MW]'][row] += Under_Installment #overwrite new installed\n"
     ]
    },
    {
     "name": "stdout",
     "output_type": "stream",
     "text": [
      "Finished Area+Power Generation Calculations\n",
      "==> Working on Material :  glass\n",
      "==> Working on Material :  silicon\n",
      "==> Working on Material :  silver\n",
      "==> Working on Material :  aluminium_frames\n",
      "==> Working on Material :  copper\n",
      "==> Working on Material :  encapsulant\n",
      "==> Working on Material :  backsheet\n",
      "100\n",
      "PV_ICE\n",
      ">>>> Calculating Material Flows <<<<\n",
      "\n",
      "Working on Scenario:  PV_ICE\n",
      "********************\n"
     ]
    },
    {
     "name": "stderr",
     "output_type": "stream",
     "text": [
      "C:\\Users\\hmirletz\\AppData\\Local\\Temp\\1\\ipykernel_3292\\3246415230.py:6: SettingWithCopyWarning: \n",
      "A value is trying to be set on a copy of a slice from a DataFrame\n",
      "\n",
      "See the caveats in the documentation: https://pandas.pydata.org/pandas-docs/stable/user_guide/indexing.html#returning-a-view-versus-a-copy\n",
      "  sim1.scenario[scen].dataIn_m['new_Installed_Capacity_[MW]'][row] += Under_Installment #overwrite new installed\n"
     ]
    },
    {
     "name": "stdout",
     "output_type": "stream",
     "text": [
      "Finished Area+Power Generation Calculations\n",
      "==> Working on Material :  glass\n",
      "==> Working on Material :  silicon\n",
      "==> Working on Material :  silver\n",
      "==> Working on Material :  aluminium_frames\n",
      "==> Working on Material :  copper\n",
      "==> Working on Material :  encapsulant\n",
      "==> Working on Material :  backsheet\n",
      "circ_high\n",
      ">>>> Calculating Material Flows <<<<\n",
      "\n",
      "Working on Scenario:  circ_high\n",
      "********************\n"
     ]
    },
    {
     "name": "stderr",
     "output_type": "stream",
     "text": [
      "C:\\Users\\hmirletz\\AppData\\Local\\Temp\\1\\ipykernel_3292\\3246415230.py:6: SettingWithCopyWarning: \n",
      "A value is trying to be set on a copy of a slice from a DataFrame\n",
      "\n",
      "See the caveats in the documentation: https://pandas.pydata.org/pandas-docs/stable/user_guide/indexing.html#returning-a-view-versus-a-copy\n",
      "  sim1.scenario[scen].dataIn_m['new_Installed_Capacity_[MW]'][row] += Under_Installment #overwrite new installed\n"
     ]
    },
    {
     "name": "stdout",
     "output_type": "stream",
     "text": [
      "Finished Area+Power Generation Calculations\n",
      "==> Working on Material :  glass\n",
      "==> Working on Material :  silicon\n",
      "==> Working on Material :  silver\n",
      "==> Working on Material :  aluminium_frames\n",
      "==> Working on Material :  copper\n",
      "==> Working on Material :  encapsulant\n",
      "==> Working on Material :  backsheet\n",
      "circ_mid\n",
      ">>>> Calculating Material Flows <<<<\n",
      "\n",
      "Working on Scenario:  circ_mid\n",
      "********************\n"
     ]
    },
    {
     "name": "stderr",
     "output_type": "stream",
     "text": [
      "C:\\Users\\hmirletz\\AppData\\Local\\Temp\\1\\ipykernel_3292\\3246415230.py:6: SettingWithCopyWarning: \n",
      "A value is trying to be set on a copy of a slice from a DataFrame\n",
      "\n",
      "See the caveats in the documentation: https://pandas.pydata.org/pandas-docs/stable/user_guide/indexing.html#returning-a-view-versus-a-copy\n",
      "  sim1.scenario[scen].dataIn_m['new_Installed_Capacity_[MW]'][row] += Under_Installment #overwrite new installed\n"
     ]
    },
    {
     "name": "stdout",
     "output_type": "stream",
     "text": [
      "Finished Area+Power Generation Calculations\n",
      "==> Working on Material :  glass\n",
      "==> Working on Material :  silicon\n",
      "==> Working on Material :  silver\n",
      "==> Working on Material :  aluminium_frames\n",
      "==> Working on Material :  copper\n",
      "==> Working on Material :  encapsulant\n",
      "==> Working on Material :  backsheet\n",
      "circ_low\n",
      ">>>> Calculating Material Flows <<<<\n",
      "\n",
      "Working on Scenario:  circ_low\n",
      "********************\n"
     ]
    },
    {
     "name": "stderr",
     "output_type": "stream",
     "text": [
      "C:\\Users\\hmirletz\\AppData\\Local\\Temp\\1\\ipykernel_3292\\3246415230.py:6: SettingWithCopyWarning: \n",
      "A value is trying to be set on a copy of a slice from a DataFrame\n",
      "\n",
      "See the caveats in the documentation: https://pandas.pydata.org/pandas-docs/stable/user_guide/indexing.html#returning-a-view-versus-a-copy\n",
      "  sim1.scenario[scen].dataIn_m['new_Installed_Capacity_[MW]'][row] += Under_Installment #overwrite new installed\n"
     ]
    },
    {
     "name": "stdout",
     "output_type": "stream",
     "text": [
      "Finished Area+Power Generation Calculations\n",
      "==> Working on Material :  glass\n",
      "==> Working on Material :  silicon\n",
      "==> Working on Material :  silver\n",
      "==> Working on Material :  aluminium_frames\n",
      "==> Working on Material :  copper\n",
      "==> Working on Material :  encapsulant\n",
      "==> Working on Material :  backsheet\n",
      "\n",
      "\n",
      ">>>> Calculating Energy Flows <<<<\n",
      "\n",
      "Working on Scenario:  PV_ICE\n",
      "********************\n",
      "==> Working on Energy for Material :  glass\n",
      "==> Working on Energy for Material :  silicon\n",
      "==> Working on Energy for Material :  silver\n",
      "==> Working on Energy for Material :  aluminium_frames\n",
      "==> Working on Energy for Material :  copper\n",
      "==> Working on Energy for Material :  encapsulant\n",
      "==> Working on Energy for Material :  backsheet\n",
      "Working on Scenario:  circ_high\n",
      "********************\n",
      "==> Working on Energy for Material :  glass\n",
      "==> Working on Energy for Material :  silicon\n",
      "==> Working on Energy for Material :  silver\n",
      "==> Working on Energy for Material :  aluminium_frames\n",
      "==> Working on Energy for Material :  copper\n",
      "==> Working on Energy for Material :  encapsulant\n",
      "==> Working on Energy for Material :  backsheet\n",
      "Working on Scenario:  circ_mid\n",
      "********************\n",
      "==> Working on Energy for Material :  glass\n",
      "==> Working on Energy for Material :  silicon\n",
      "==> Working on Energy for Material :  silver\n",
      "==> Working on Energy for Material :  aluminium_frames\n",
      "==> Working on Energy for Material :  copper\n",
      "==> Working on Energy for Material :  encapsulant\n",
      "==> Working on Energy for Material :  backsheet\n",
      "Working on Scenario:  circ_low\n",
      "********************\n",
      "==> Working on Energy for Material :  glass\n",
      "==> Working on Energy for Material :  silicon\n",
      "==> Working on Energy for Material :  silver\n",
      "==> Working on Energy for Material :  aluminium_frames\n",
      "==> Working on Energy for Material :  copper\n",
      "==> Working on Energy for Material :  encapsulant\n",
      "==> Working on Energy for Material :  backsheet\n"
     ]
    }
   ],
   "source": [
    "\n",
    "for row in range (0,len(sim1.scenario['PV_ICE'].dataIn_m)): #loop over length of years\n",
    "    print(row)\n",
    "    for scen in sim1.scenario.keys(): #loop over scenarios\n",
    "        print(scen)\n",
    "        Under_Installment = global_projection.iloc[row,0] - ((sim1.scenario[scen].dataOut_m['Effective_Capacity_[W]'][row])/1e6)  # MWATTS\n",
    "        sim1.scenario[scen].dataIn_m['new_Installed_Capacity_[MW]'][row] += Under_Installment #overwrite new installed\n",
    "        #UnderInstall_df.loc[row,scen] = Under_Installment #save the underinstallment as df\n",
    "        #calculate flows for that scenario with it's bifi factor and modified weibull\n",
    "        sim1.calculateMassFlow(scenarios=[scen])#, bifacialityfactors=bifiPathDict[scen])\n",
    "\n",
    "sim1.calculateEnergyFlow()"
   ]
  },
  {
   "cell_type": "code",
   "execution_count": 28,
   "id": "970bd4b6",
   "metadata": {},
   "outputs": [],
   "source": [
    "cc_yearly, cc_cumu = sim1.aggregateResults() #have to do this to get auto plots"
   ]
  },
  {
   "cell_type": "code",
   "execution_count": 18,
   "id": "5924917e",
   "metadata": {
    "scrolled": true
   },
   "outputs": [
    {
     "name": "stderr",
     "output_type": "stream",
     "text": [
      "C:\\Users\\hmirletz\\Documents\\GitHub\\PV_ICE\\PV_ICE\\main.py:2236: SettingWithCopyWarning: \n",
      "A value is trying to be set on a copy of a slice from a DataFrame.\n",
      "Try using .loc[row_indexer,col_indexer] = value instead\n",
      "\n",
      "See the caveats in the documentation: https://pandas.pydata.org/pandas-docs/stable/user_guide/indexing.html#returning-a-view-versus-a-copy\n",
      "  scende_demands.loc[:,colname] = scende_demands.sum(axis=1) #sums module and material energy demands\n",
      "C:\\Users\\hmirletz\\Documents\\GitHub\\PV_ICE\\PV_ICE\\main.py:2236: SettingWithCopyWarning: \n",
      "A value is trying to be set on a copy of a slice from a DataFrame.\n",
      "Try using .loc[row_indexer,col_indexer] = value instead\n",
      "\n",
      "See the caveats in the documentation: https://pandas.pydata.org/pandas-docs/stable/user_guide/indexing.html#returning-a-view-versus-a-copy\n",
      "  scende_demands.loc[:,colname] = scende_demands.sum(axis=1) #sums module and material energy demands\n",
      "C:\\Users\\hmirletz\\Documents\\GitHub\\PV_ICE\\PV_ICE\\main.py:2236: SettingWithCopyWarning: \n",
      "A value is trying to be set on a copy of a slice from a DataFrame.\n",
      "Try using .loc[row_indexer,col_indexer] = value instead\n",
      "\n",
      "See the caveats in the documentation: https://pandas.pydata.org/pandas-docs/stable/user_guide/indexing.html#returning-a-view-versus-a-copy\n",
      "  scende_demands.loc[:,colname] = scende_demands.sum(axis=1) #sums module and material energy demands\n",
      "C:\\Users\\hmirletz\\Documents\\GitHub\\PV_ICE\\PV_ICE\\main.py:2236: SettingWithCopyWarning: \n",
      "A value is trying to be set on a copy of a slice from a DataFrame.\n",
      "Try using .loc[row_indexer,col_indexer] = value instead\n",
      "\n",
      "See the caveats in the documentation: https://pandas.pydata.org/pandas-docs/stable/user_guide/indexing.html#returning-a-view-versus-a-copy\n",
      "  scende_demands.loc[:,colname] = scende_demands.sum(axis=1) #sums module and material energy demands\n"
     ]
    }
   ],
   "source": [
    "allenergy, energyGen, energy_demands = sim1.aggregateEnergyResults()"
   ]
  },
  {
   "cell_type": "code",
   "execution_count": 21,
   "id": "cae2da74",
   "metadata": {},
   "outputs": [],
   "source": [
    "scennames_labels = sim1.scenario.keys()"
   ]
  },
  {
   "cell_type": "code",
   "execution_count": 56,
   "id": "1973faed",
   "metadata": {},
   "outputs": [
    {
     "data": {
      "text/plain": [
       "[<matplotlib.lines.Line2D at 0x18bf7450490>]"
      ]
     },
     "execution_count": 56,
     "metadata": {},
     "output_type": "execute_result"
    },
    {
     "data": {
      "image/png": "[encoded data removed]",
      "text/plain": [
       "<Figure size 640x480 with 1 Axes>"
      ]
     },
     "metadata": {},
     "output_type": "display_data"
    }
   ],
   "source": [
    "circ_high_p4 = sim1.scenario['circ_high'].dataOut_m['P4_recycled']\n",
    "circ_mid_p4 = sim1.scenario['circ_mid'].dataOut_m['P4_recycled']\n",
    "circ_low_p4 = sim1.scenario['circ_low'].dataOut_m['P4_recycled']\n",
    "circ_low_p0 = sim1.scenario['circ_low'].dataOut_m['EOL_Landfill0']\n",
    "\n",
    "\n",
    "plt.plot(circ_high_p4)\n",
    "plt.plot(circ_mid_p4)\n",
    "plt.plot(circ_low_p4)\n",
    "plt.plot(circ_low_p0, ls='--')"
   ]
  },
  {
   "cell_type": "code",
   "execution_count": 36,
   "id": "c0280277",
   "metadata": {},
   "outputs": [
    {
     "data": {
      "text/plain": [
       "[<matplotlib.lines.Line2D at 0x18bf711cf40>]"
      ]
     },
     "execution_count": 36,
     "metadata": {},
     "output_type": "execute_result"
    },
    {
     "data": {
      "image/png": "[encoded data removed]",
      "text/plain": [
       "<Figure size 640x480 with 1 Axes>"
      ]
     },
     "metadata": {},
     "output_type": "display_data"
    }
   ],
   "source": [
    "circ_high_modcrushe = sim1.scenario['circ_high'].dataOut_e['mod_Recycle_Crush']\n",
    "circ_mid_modcrushe = sim1.scenario['circ_mid'].dataOut_e['mod_Recycle_Crush']\n",
    "circ_low_modcrushe = sim1.scenario['circ_low'].dataOut_e['mod_Recycle_Crush']\n",
    "\n",
    "\n",
    "plt.plot(circ_high_modcrushe)\n",
    "plt.plot(circ_mid_modcrushe)\n",
    "plt.plot(circ_low_modcrushe)"
   ]
  },
  {
   "cell_type": "code",
   "execution_count": 53,
   "id": "120f2fca",
   "metadata": {},
   "outputs": [
    {
     "data": {
      "text/plain": [
       "[<matplotlib.lines.Line2D at 0x18bf73833d0>]"
      ]
     },
     "execution_count": 53,
     "metadata": {},
     "output_type": "execute_result"
    },
    {
     "data": {
      "image/png": "[encoded data removed]",
      "text/plain": [
       "<Figure size 640x480 with 1 Axes>"
      ]
     },
     "metadata": {},
     "output_type": "display_data"
    }
   ],
   "source": [
    "circ_high_matRHQ_e = sim1.scenario['circ_high'].material['glass'].matdataOut_e['mat_Recycled_HQ']\n",
    "circ_mid_matRHQ_e = sim1.scenario['circ_mid'].material['glass'].matdataOut_e['mat_Recycled_HQ']\n",
    "circ_low_matRHQ_e = sim1.scenario['circ_low'].material['glass'].matdataOut_e['mat_Recycled_HQ']\n",
    "\n",
    "plt.plot(circ_high_matRHQ_e)\n",
    "plt.plot(circ_mid_matRHQ_e)\n",
    "plt.plot(circ_low_matRHQ_e)"
   ]
  },
  {
   "cell_type": "code",
   "execution_count": null,
   "id": "1aaa4353",
   "metadata": {},
   "outputs": [],
   "source": []
  },
  {
   "cell_type": "code",
   "execution_count": null,
   "id": "b0544945",
   "metadata": {},
   "outputs": [],
   "source": []
  },
  {
   "cell_type": "code",
   "execution_count": 25,
   "id": "afe37c0e",
   "metadata": {},
   "outputs": [
    {
     "data": {
      "text/plain": [
       "Text(0, 0.5, 'Cumulative Energy Demands\\n[TWh]')"
      ]
     },
     "execution_count": 25,
     "metadata": {},
     "output_type": "execute_result"
    },
    {
     "data": {
      "image/png": "[encoded data removed]",
      "text/plain": [
       "<Figure size 640x480 with 1 Axes>"
      ]
     },
     "metadata": {},
     "output_type": "display_data"
    }
   ],
   "source": [
    "e_annual_sumDemands = energy_demands.filter(like='demand_total')\n",
    "e_annual_sumDemands_cumu = e_annual_sumDemands.cumsum()\n",
    "cumu_e_demands = e_annual_sumDemands_cumu.loc[2100]\n",
    "cumu_e_demands.index= scennames_labels\n",
    "\n",
    "plt.bar(scennames_labels, cumu_e_demands/1e12)\n",
    "plt.title('Cumulative Lifecycle Energy Demands')\n",
    "plt.ylabel('Cumulative Energy Demands\\n[TWh]')"
   ]
  },
  {
   "cell_type": "code",
   "execution_count": 26,
   "id": "a3f10acf",
   "metadata": {},
   "outputs": [
    {
     "data": {
      "text/plain": [
       "PV_ICE       1.467115e+17\n",
       "circ_high    1.734309e+17\n",
       "circ_mid     1.897816e+17\n",
       "circ_low     1.441579e+17\n",
       "Name: 2100, dtype: float64"
      ]
     },
     "execution_count": 26,
     "metadata": {},
     "output_type": "execute_result"
    }
   ],
   "source": [
    "cumu_e_demands"
   ]
  },
  {
   "cell_type": "code",
   "execution_count": null,
   "id": "320c6b50",
   "metadata": {},
   "outputs": [],
   "source": []
  }
 ],
 "metadata": {
  "kernelspec": {
   "display_name": "Python 3 (ipykernel)",
   "language": "python",
   "name": "python3"
  },
  "language_info": {
   "codemirror_mode": {
    "name": "ipython",
    "version": 3
   },
   "file_extension": ".py",
   "mimetype": "text/x-python",
   "name": "python",
   "nbconvert_exporter": "python",
   "pygments_lexer": "ipython3",
   "version": "3.8.8"
  }
 },
 "nbformat": 4,
 "nbformat_minor": 5
}
