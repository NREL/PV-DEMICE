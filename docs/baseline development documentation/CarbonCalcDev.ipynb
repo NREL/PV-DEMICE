{
 "cells": [
  {
   "cell_type": "code",
   "execution_count": 1,
   "id": "91459484",
   "metadata": {},
   "outputs": [
    {
     "name": "stdout",
     "output_type": "stream",
     "text": [
      "C:\\Users\\hmirletz\\Documents\\GitHub\\PV_ICE\\docs\\baseline development documentation\n"
     ]
    }
   ],
   "source": [
    "import numpy as np\n",
    "import pandas as pd\n",
    "import os,sys\n",
    "from pathlib import Path\n",
    "import matplotlib.pyplot as plt\n",
    "plt.rcParams.update({'font.size': 18})\n",
    "plt.rcParams['figure.figsize'] = (8, 4)\n",
    "cwd = os.getcwd() #grabs current working directory\n",
    "\n",
    "supportMatfolder = str(Path().resolve().parent.parent / 'PV_ICE' / 'baselines' / 'SupportingMaterial')\n",
    "baselinesFolder = str(Path().resolve().parent.parent / 'PV_ICE' / 'baselines')\n",
    "carbonfolder = str(Path().resolve().parent.parent / 'PV_ICE'/ 'baselines'/ 'CarbonLayer')\n",
    "\n",
    "print(cwd)"
   ]
  },
  {
   "cell_type": "code",
   "execution_count": 2,
   "id": "76b31fe9",
   "metadata": {},
   "outputs": [],
   "source": [
    "#df = self.scenario[scen].dataOut_m\n",
    "#df_in = self.scenario[scen].dataIn_m\n",
    "#de = self.scenario[scen].dataOut_e\n",
    "            \n",
    "#pull in pickles\n",
    "df = pd.read_pickle('dataOut_m.pkl')\n",
    "df_in = pd.read_pickle('dataIn_m.pkl')\n",
    "de = pd.read_pickle('dataOut_e.pkl')\n",
    "de_in = pd.read_pickle('dataIn_e.pkl')"
   ]
  },
  {
   "cell_type": "code",
   "execution_count": null,
   "id": "e31b61b8",
   "metadata": {},
   "outputs": [],
   "source": []
  },
  {
   "cell_type": "code",
   "execution_count": 3,
   "id": "c596c281",
   "metadata": {},
   "outputs": [],
   "source": [
    "gridemissionfactors = pd.read_csv(os.path.join(carbonfolder,'baseline_electricityemissionfactors.csv'))\n",
    "materialprocesscarbon = pd.read_csv(os.path.join(carbonfolder,'baseline_materials_processCO2.csv'), index_col='Material')\n",
    "countrygridmixes = pd.read_csv(os.path.join(carbonfolder, 'baseline_countrygridmix.csv'))\n",
    "countrymodmfg = pd.read_csv(os.path.join(carbonfolder, 'baseline_module_countrymarketshare.csv'))\n"
   ]
  },
  {
   "cell_type": "code",
   "execution_count": 4,
   "id": "17493136",
   "metadata": {},
   "outputs": [],
   "source": [
    "#carbon intensity of country grid mixes\n",
    "#extract lists\n",
    "countryfuellist = [cols.split('_')[0] for cols in countrygridmixes.columns[1:]]\n",
    "countrylist = (pd.DataFrame(countryfuellist)[0].unique()).tolist()\n",
    "countryfuellist_fuels = [cols.split('_')[1] for cols in countrygridmixes.columns[1:]]\n",
    "fuellist = (pd.DataFrame(countryfuellist_fuels)[0].unique()).tolist()\n",
    "\n",
    "#create carbon intensity of country grid mix\n",
    "final_country_carbon_int = []\n",
    "for country in countrylist:\n",
    "    temp_country_carbon = []\n",
    "    for fuel in fuellist: \n",
    "        fuelemitfactor = gridemissionfactors[gridemissionfactors['Energy Source']==fuel]['CO2eq_gpWh_IPCC2006']\n",
    "        fuelemitfactor = list(fuelemitfactor)[0]\n",
    "        if str(country+'_'+fuel) in countrygridmixes:\n",
    "            countryfuel = countrygridmixes[str(country+'_'+fuel)]\n",
    "            temp_country_carbon.append(list(0.01*countryfuel*fuelemitfactor)) #multiply country fuel % by fuel factor\n",
    "    final_country_carbon_int.append(list(pd.DataFrame(temp_country_carbon).sum())) #sum the carbon int by country\n",
    "\n",
    "country_carbonpkwh = pd.DataFrame(final_country_carbon_int).T\n",
    "country_carbonpkwh.columns = countrylist"
   ]
  },
  {
   "cell_type": "code",
   "execution_count": 5,
   "id": "8295debc",
   "metadata": {},
   "outputs": [
    {
     "data": {
      "text/plain": [
       "0.0"
      ]
     },
     "execution_count": 5,
     "metadata": {},
     "output_type": "execute_result"
    }
   ],
   "source": [
    "fuelemitfactor"
   ]
  },
  {
   "cell_type": "code",
   "execution_count": null,
   "id": "d509457f",
   "metadata": {},
   "outputs": [],
   "source": [
    "#carbon intensity of module manufacturing weighted by country\n",
    "#list countries mfging modules\n",
    "countriesmfgingmodules = list(countrymodmfg.columns[1:])\n",
    "\n",
    "#weight carbon intensity of electricity by countries which mfging modules\n",
    "countrycarbon_modmfg_co2eqpkwh = []\n",
    "for country in countriesmfgingmodules:\n",
    "    if country in country_carbonpkwh:\n",
    "        currentcountry = country_carbonpkwh[country]*countrymodmfg[country]*.01\n",
    "        countrycarbon_modmfg_co2eqpkwh.append(currentcountry)\n",
    "    else: print(country)\n",
    "        \n",
    "modmfg_co2eqpkwh_bycountry = pd.DataFrame(countrycarbon_modmfg_co2eqpkwh).T #\n",
    "modmfg_co2eqpkwh_bycountry['Global_kgCO2eqpkWh'] = modmfg_co2eqpkwh_bycountry.sum(axis=1) #annual carbon intensity of pv module mfg wtd by country\n"
   ]
  },
  {
   "cell_type": "code",
   "execution_count": 6,
   "id": "4f00f542-c77d-4bba-8e55-0adad2caabe4",
   "metadata": {},
   "outputs": [
    {
     "data": {
      "text/html": [
       "<div>\n",
       "<style scoped>\n",
       "    .dataframe tbody tr th:only-of-type {\n",
       "        vertical-align: middle;\n",
       "    }\n",
       "\n",
       "    .dataframe tbody tr th {\n",
       "        vertical-align: top;\n",
       "    }\n",
       "\n",
       "    .dataframe thead th {\n",
       "        text-align: right;\n",
       "    }\n",
       "</style>\n",
       "<table border=\"1\" class=\"dataframe\">\n",
       "  <thead>\n",
       "    <tr style=\"text-align: right;\">\n",
       "      <th></th>\n",
       "      <th>mod_MFG</th>\n",
       "      <th>mod_Install</th>\n",
       "      <th>mod_OandM</th>\n",
       "      <th>mod_Repair</th>\n",
       "      <th>mod_Demount</th>\n",
       "      <th>mod_Store</th>\n",
       "      <th>mod_Resell_Certify</th>\n",
       "      <th>mod_ReMFG_Disassembly</th>\n",
       "      <th>mod_Recycle_Crush</th>\n",
       "      <th>e_out_annual_[Wh]</th>\n",
       "    </tr>\n",
       "  </thead>\n",
       "  <tbody>\n",
       "    <tr>\n",
       "      <th>0</th>\n",
       "      <td>5.595432e+10</td>\n",
       "      <td>5.724557e+07</td>\n",
       "      <td>0.0</td>\n",
       "      <td>0.0</td>\n",
       "      <td>0.000000e+00</td>\n",
       "      <td>0.0</td>\n",
       "      <td>0.0</td>\n",
       "      <td>0.0</td>\n",
       "      <td>0.000000e+00</td>\n",
       "      <td>1.204270e+12</td>\n",
       "    </tr>\n",
       "    <tr>\n",
       "      <th>1</th>\n",
       "      <td>1.962572e+10</td>\n",
       "      <td>1.986038e+07</td>\n",
       "      <td>0.0</td>\n",
       "      <td>0.0</td>\n",
       "      <td>0.000000e+00</td>\n",
       "      <td>0.0</td>\n",
       "      <td>0.0</td>\n",
       "      <td>0.0</td>\n",
       "      <td>1.547705e+00</td>\n",
       "      <td>1.618643e+12</td>\n",
       "    </tr>\n",
       "    <tr>\n",
       "      <th>2</th>\n",
       "      <td>2.379485e+10</td>\n",
       "      <td>2.382044e+07</td>\n",
       "      <td>0.0</td>\n",
       "      <td>0.0</td>\n",
       "      <td>0.000000e+00</td>\n",
       "      <td>0.0</td>\n",
       "      <td>0.0</td>\n",
       "      <td>0.0</td>\n",
       "      <td>1.195730e+02</td>\n",
       "      <td>2.118896e+12</td>\n",
       "    </tr>\n",
       "    <tr>\n",
       "      <th>3</th>\n",
       "      <td>3.657938e+10</td>\n",
       "      <td>3.622915e+07</td>\n",
       "      <td>0.0</td>\n",
       "      <td>0.0</td>\n",
       "      <td>0.000000e+00</td>\n",
       "      <td>0.0</td>\n",
       "      <td>0.0</td>\n",
       "      <td>0.0</td>\n",
       "      <td>1.462358e+03</td>\n",
       "      <td>2.889251e+12</td>\n",
       "    </tr>\n",
       "    <tr>\n",
       "      <th>4</th>\n",
       "      <td>7.544213e+10</td>\n",
       "      <td>7.393329e+07</td>\n",
       "      <td>0.0</td>\n",
       "      <td>0.0</td>\n",
       "      <td>0.000000e+00</td>\n",
       "      <td>0.0</td>\n",
       "      <td>0.0</td>\n",
       "      <td>0.0</td>\n",
       "      <td>8.396954e+03</td>\n",
       "      <td>4.486226e+12</td>\n",
       "    </tr>\n",
       "    <tr>\n",
       "      <th>...</th>\n",
       "      <td>...</td>\n",
       "      <td>...</td>\n",
       "      <td>...</td>\n",
       "      <td>...</td>\n",
       "      <td>...</td>\n",
       "      <td>...</td>\n",
       "      <td>...</td>\n",
       "      <td>...</td>\n",
       "      <td>...</td>\n",
       "      <td>...</td>\n",
       "    </tr>\n",
       "    <tr>\n",
       "      <th>96</th>\n",
       "      <td>2.971815e+12</td>\n",
       "      <td>8.333613e+09</td>\n",
       "      <td>0.0</td>\n",
       "      <td>0.0</td>\n",
       "      <td>1.314255e+10</td>\n",
       "      <td>0.0</td>\n",
       "      <td>0.0</td>\n",
       "      <td>0.0</td>\n",
       "      <td>5.987943e+10</td>\n",
       "      <td>1.043767e+16</td>\n",
       "    </tr>\n",
       "    <tr>\n",
       "      <th>97</th>\n",
       "      <td>2.971815e+12</td>\n",
       "      <td>8.333613e+09</td>\n",
       "      <td>0.0</td>\n",
       "      <td>0.0</td>\n",
       "      <td>1.314255e+10</td>\n",
       "      <td>0.0</td>\n",
       "      <td>0.0</td>\n",
       "      <td>0.0</td>\n",
       "      <td>5.987943e+10</td>\n",
       "      <td>1.043767e+16</td>\n",
       "    </tr>\n",
       "    <tr>\n",
       "      <th>98</th>\n",
       "      <td>2.971815e+12</td>\n",
       "      <td>8.333613e+09</td>\n",
       "      <td>0.0</td>\n",
       "      <td>0.0</td>\n",
       "      <td>1.314255e+10</td>\n",
       "      <td>0.0</td>\n",
       "      <td>0.0</td>\n",
       "      <td>0.0</td>\n",
       "      <td>5.987943e+10</td>\n",
       "      <td>1.043767e+16</td>\n",
       "    </tr>\n",
       "    <tr>\n",
       "      <th>99</th>\n",
       "      <td>2.971815e+12</td>\n",
       "      <td>8.333613e+09</td>\n",
       "      <td>0.0</td>\n",
       "      <td>0.0</td>\n",
       "      <td>1.314255e+10</td>\n",
       "      <td>0.0</td>\n",
       "      <td>0.0</td>\n",
       "      <td>0.0</td>\n",
       "      <td>5.987943e+10</td>\n",
       "      <td>1.043767e+16</td>\n",
       "    </tr>\n",
       "    <tr>\n",
       "      <th>100</th>\n",
       "      <td>2.971815e+12</td>\n",
       "      <td>8.333613e+09</td>\n",
       "      <td>0.0</td>\n",
       "      <td>0.0</td>\n",
       "      <td>1.314255e+10</td>\n",
       "      <td>0.0</td>\n",
       "      <td>0.0</td>\n",
       "      <td>0.0</td>\n",
       "      <td>5.987943e+10</td>\n",
       "      <td>1.043767e+16</td>\n",
       "    </tr>\n",
       "  </tbody>\n",
       "</table>\n",
       "<p>101 rows × 10 columns</p>\n",
       "</div>"
      ],
      "text/plain": [
       "          mod_MFG   mod_Install  mod_OandM  mod_Repair   mod_Demount  \\\n",
       "0    5.595432e+10  5.724557e+07        0.0         0.0  0.000000e+00   \n",
       "1    1.962572e+10  1.986038e+07        0.0         0.0  0.000000e+00   \n",
       "2    2.379485e+10  2.382044e+07        0.0         0.0  0.000000e+00   \n",
       "3    3.657938e+10  3.622915e+07        0.0         0.0  0.000000e+00   \n",
       "4    7.544213e+10  7.393329e+07        0.0         0.0  0.000000e+00   \n",
       "..            ...           ...        ...         ...           ...   \n",
       "96   2.971815e+12  8.333613e+09        0.0         0.0  1.314255e+10   \n",
       "97   2.971815e+12  8.333613e+09        0.0         0.0  1.314255e+10   \n",
       "98   2.971815e+12  8.333613e+09        0.0         0.0  1.314255e+10   \n",
       "99   2.971815e+12  8.333613e+09        0.0         0.0  1.314255e+10   \n",
       "100  2.971815e+12  8.333613e+09        0.0         0.0  1.314255e+10   \n",
       "\n",
       "     mod_Store  mod_Resell_Certify  mod_ReMFG_Disassembly  mod_Recycle_Crush  \\\n",
       "0          0.0                 0.0                    0.0       0.000000e+00   \n",
       "1          0.0                 0.0                    0.0       1.547705e+00   \n",
       "2          0.0                 0.0                    0.0       1.195730e+02   \n",
       "3          0.0                 0.0                    0.0       1.462358e+03   \n",
       "4          0.0                 0.0                    0.0       8.396954e+03   \n",
       "..         ...                 ...                    ...                ...   \n",
       "96         0.0                 0.0                    0.0       5.987943e+10   \n",
       "97         0.0                 0.0                    0.0       5.987943e+10   \n",
       "98         0.0                 0.0                    0.0       5.987943e+10   \n",
       "99         0.0                 0.0                    0.0       5.987943e+10   \n",
       "100        0.0                 0.0                    0.0       5.987943e+10   \n",
       "\n",
       "     e_out_annual_[Wh]  \n",
       "0         1.204270e+12  \n",
       "1         1.618643e+12  \n",
       "2         2.118896e+12  \n",
       "3         2.889251e+12  \n",
       "4         4.486226e+12  \n",
       "..                 ...  \n",
       "96        1.043767e+16  \n",
       "97        1.043767e+16  \n",
       "98        1.043767e+16  \n",
       "99        1.043767e+16  \n",
       "100       1.043767e+16  \n",
       "\n",
       "[101 rows x 10 columns]"
      ]
     },
     "execution_count": 6,
     "metadata": {},
     "output_type": "execute_result"
    }
   ],
   "source": [
    "de"
   ]
  },
  {
   "cell_type": "code",
   "execution_count": null,
   "id": "bbe63c5d-1552-4dc2-9dc1-9a04e77d179e",
   "metadata": {
    "scrolled": true
   },
   "outputs": [],
   "source": [
    "modmfg_co2eqpkwh_bycountry"
   ]
  },
  {
   "cell_type": "code",
   "execution_count": null,
   "id": "d29a101f",
   "metadata": {},
   "outputs": [],
   "source": [
    "#carbon impacts module mfging wtd by country\n",
    "dc = modmfg_co2eqpkwh_bycountry.mul(de['mod_MFG'], axis=0)\n",
    "dc.rename(columns={'Global_kgCO2eqpkWh':'Global'}, inplace=True)\n",
    "dc = dc.add_suffix('_mod_MFG_kgCO2eq')\n",
    "\n"
   ]
  },
  {
   "cell_type": "code",
   "execution_count": null,
   "id": "44a95b4c",
   "metadata": {},
   "outputs": [],
   "source": [
    "#carbon impacts other module level steps\n",
    "#assumption: all CO2 after mfg is attributable to target deployment country\n",
    "country_deploy = 'USA' #user input in calc carbon function, default USA\n",
    "dc['mod_Install_kgCO2eq'] = de['mod_Install']*country_carbonpkwh[country_deploy]\n",
    "dc['mod_OandM_kgCO2eq'] = de['mod_OandM']*country_carbonpkwh[country_deploy]\n",
    "dc['mod_Repair_kgCO2eq'] = de['mod_Repair']*country_carbonpkwh[country_deploy]\n",
    "dc['mod_Demount_kgCO2eq'] = de['mod_Demount']*country_carbonpkwh[country_deploy]\n",
    "dc['mod_Store_kgCO2eq'] = de['mod_Store']*country_carbonpkwh[country_deploy]\n",
    "dc['mod_Resell_Certify_kgCO2eq'] = de['mod_Resell_Certify']*country_carbonpkwh[country_deploy]\n",
    "dc['mod_ReMFG_Disassembly_kgCO2eq'] = de['mod_ReMFG_Disassembly']*country_carbonpkwh[country_deploy]\n",
    "dc['mod_Recycle_Crush_kgCO2eq'] = de['mod_Recycle_Crush']*country_carbonpkwh[country_deploy]"
   ]
  },
  {
   "cell_type": "code",
   "execution_count": null,
   "id": "052d6560",
   "metadata": {},
   "outputs": [],
   "source": [
    "dc.tail()"
   ]
  },
  {
   "cell_type": "markdown",
   "id": "f9290e4c",
   "metadata": {},
   "source": [
    "# Material Level"
   ]
  },
  {
   "cell_type": "code",
   "execution_count": null,
   "id": "7feb5864",
   "metadata": {},
   "outputs": [],
   "source": [
    "matEnergy = pd.read_pickle('matdataIn_e.pkl')\n",
    "matMass = pd.read_pickle('matdataIn_m.pkl')\n",
    "demat = pd.read_pickle('matdataOut_e.pkl')\n",
    "dm = pd.read_pickle('matdataOut_m.pkl')\n",
    "\n",
    "#e_mat_MFG_fuelfraction, e_mat_MFG\n",
    "#e_mat_Recycled_HQ_fuelfraction"
   ]
  },
  {
   "cell_type": "code",
   "execution_count": null,
   "id": "c71371c7",
   "metadata": {},
   "outputs": [],
   "source": [
    "countrymatmfg = pd.read_csv(os.path.join(carbonfolder, 'baseline_silicon_MFGing_countrymarketshare.csv'))\n",
    "#countrymatmfg.head()\n",
    "mat='silicon'"
   ]
  },
  {
   "cell_type": "code",
   "execution_count": null,
   "id": "b6f8473f",
   "metadata": {},
   "outputs": [],
   "source": [
    "#carbon intensity of material manufacturing weighted by country\n",
    "#list countries mfging material\n",
    "countriesmfgingmat = list(countrymatmfg.columns[1:])\n",
    "\n",
    "#weight carbon intensity of electricity by countries which mfging modules\n",
    "countrycarbon_matmfg_co2eqpkwh = []\n",
    "for country in countriesmfgingmat:\n",
    "    if country in country_carbonpkwh:\n",
    "        currentcountry = country_carbonpkwh[country]*countrymatmfg[country]*.01\n",
    "        countrycarbon_matmfg_co2eqpkwh.append(currentcountry)\n",
    "    else: print(country)\n",
    "        \n",
    "matmfg_co2eqpkwh_bycountry = pd.DataFrame(countrycarbon_modmfg_co2eqpkwh).T #\n",
    "matmfg_co2eqpkwh_bycountry['Global_kgCO2eqpkWh'] = modmfg_co2eqpkwh_bycountry.sum(axis=1) #annual carbon intensity of pv module mfg wtd by country\n"
   ]
  },
  {
   "cell_type": "code",
   "execution_count": null,
   "id": "2c03e619",
   "metadata": {},
   "outputs": [],
   "source": [
    "#carbon impacts mat mfging wtd by country\n",
    "#electric\n",
    "dcmat = matmfg_co2eqpkwh_bycountry.mul((demat['mat_MFG_virgin']-demat['mat_MFG_virgin_fuel']),axis=0)\n",
    "dcmat.rename(columns={'Global_kgCO2eqpkWh':'Global'}, inplace=True)\n",
    "dcmat = dcmat.add_suffix('_vmfg_elec_kgCO2eq')\n",
    "\n",
    "#fuel CO2 impacts\n",
    "steamHeat = list(gridemissionfactors[gridemissionfactors['Energy Source']=='SteamAndHeat']['CO2_kgpkWh_EPA'])[0]\n",
    "dcmat['mat_MFG_virgin_fuel_kgCO2eq'] = demat['mat_MFG_virgin_fuel']*steamHeat #CO2 from mfging fuels\n",
    "dcmat['mat_MFGScrap_HQ_fuel_kgCO2eq'] = demat['mat_MFGScrap_HQ_fuel']*steamHeat #CO2 from recycling fuels\n"
   ]
  },
  {
   "cell_type": "code",
   "execution_count": null,
   "id": "ff5e14d5",
   "metadata": {},
   "outputs": [],
   "source": [
    "dcmat"
   ]
  },
  {
   "cell_type": "code",
   "execution_count": null,
   "id": "5b80b422",
   "metadata": {},
   "outputs": [],
   "source": [
    "#CO2 process emissions from MFGing (v, lq, hq)\n",
    "#mass of material being processed in each stream * CO2 intensity of that process\n",
    "dcmat['mat_vMFG_kgCO2eq'] = dm['mat_Virgin_Stock']*materialprocesscarbon.loc[mat,'v_MFG_kgCO2eqpkg']\n",
    "dcmat['mat_LQmfg_kgCO2eq'] = dm['mat_MFG_Scrap_Sentto_Recycling']*materialprocesscarbon.loc[mat,'LQ_Recycle_kgCO2eqpkg']\n",
    "dcmat['mat_LQeol_kgCO2eq'] = dm['mat_recycled_target']*materialprocesscarbon.loc[mat,'LQ_Recycle_kgCO2eqpkg']\n",
    "dcmat['mat_LQ_kgCO2eq'] = dcmat['mat_LQmfg_kgCO2eq']+dcmat['mat_LQeol_kgCO2eq']\n",
    "dcmat['mat_HQmfg_kgCO2eq'] = dm['mat_MFG_Recycled_into_HQ']*materialprocesscarbon.loc[mat,'HQ_Recycle_kgCO2eqpkg']\n",
    "dcmat['mat_HQeol_kgCO2eq'] = dm['mat_EOL_Recycled_2_HQ']*materialprocesscarbon.loc[mat,'HQ_Recycle_kgCO2eqpkg']\n",
    "dcmat['mat_HQ_kgCO2eq'] = dcmat['mat_HQmfg_kgCO2eq']+dcmat['mat_HQeol_kgCO2eq'] "
   ]
  },
  {
   "cell_type": "code",
   "execution_count": null,
   "id": "9a11bc4f",
   "metadata": {},
   "outputs": [],
   "source": [
    "dcmat"
   ]
  },
  {
   "cell_type": "code",
   "execution_count": null,
   "id": "76acaefd",
   "metadata": {},
   "outputs": [],
   "source": [
    "#sum carbon stuff\n",
    "dcmat['mat_vMFG_energy_kgCO2eq'] = dcmat['Global_vmfg_elec_kgCO2eq']+dcmat['mat_MFG_virgin_fuel_kgCO2eq']\n",
    "dcmat['mat_vMFG_total_kgCO2eq'] = dcmat['mat_vMFG_energy_kgCO2eq']+dcmat['mat_vMFG_kgCO2eq']\n",
    "dcmat['mat_Recycle_kgCO2eq'] = dcmat['mat_HQ_kgCO2eq'] + dcmat['mat_LQ_kgCO2eq'] + dcmat['mat_MFGScrap_HQ_fuel_kgCO2eq']"
   ]
  },
  {
   "cell_type": "code",
   "execution_count": null,
   "id": "9b50e018",
   "metadata": {},
   "outputs": [],
   "source": [
    "dcmat"
   ]
  }
 ],
 "metadata": {
  "kernelspec": {
   "display_name": "Python 3 (ipykernel)",
   "language": "python",
   "name": "python3"
  },
  "language_info": {
   "codemirror_mode": {
    "name": "ipython",
    "version": 3
   },
   "file_extension": ".py",
   "mimetype": "text/x-python",
   "name": "python",
   "nbconvert_exporter": "python",
   "pygments_lexer": "ipython3",
   "version": "3.11.5"
  }
 },
 "nbformat": 4,
 "nbformat_minor": 5
}
