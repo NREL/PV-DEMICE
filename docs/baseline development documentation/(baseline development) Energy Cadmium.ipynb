{
 "cells": [
  {
   "cell_type": "markdown",
   "id": "e1e25111-dd41-4ac3-89c4-d614c7faf982",
   "metadata": {},
   "source": [
    "# Baseline Development - Energy of Cadmium\n",
    "\n",
    "This journal documents the calculations for the energy of refining cadmium for CdTe PV. The Energy of extraction is calculated separately of the energy of manufacturing. Extraction includes mining and initial processing. Energy of manufacturing covers refining, purification, and incorporation into the semiconductor CdTe. Because Cd is a secondary product of zinc, e_mat_extractin will be zinc mining energy. Additionally, energies associated with refining zinc will be included in Cd energy as necessary steps on the way to cadmium purification. The manufacturing energy includes a % fuel contribution."
   ]
  },
  {
   "cell_type": "code",
   "execution_count": null,
   "id": "ccc1f55d-23d0-43b8-8780-e142a8cd5c16",
   "metadata": {},
   "outputs": [],
   "source": [
    "import numpy as np\n",
    "import pandas as pd\n",
    "import os,sys\n",
    "from pathlib import Path\n",
    "import matplotlib.pyplot as plt\n",
    "plt.rcParams.update({'font.size': 22})\n",
    "plt.rcParams['figure.figsize'] = (12, 8)"
   ]
  },
  {
   "cell_type": "code",
   "execution_count": null,
   "id": "fc57286f-02fe-4657-8c4b-8fcb20d696f2",
   "metadata": {},
   "outputs": [],
   "source": [
    "baselinesfolder = str(Path().resolve().parent.parent /'PV_ICE' / 'baselines')\n",
    "supportMatfolder = str(Path().resolve().parent.parent / 'PV_ICE' / 'baselines' / 'SupportingMaterial')"
   ]
  },
  {
   "cell_type": "code",
   "execution_count": null,
   "id": "bf71ede9-232e-42b9-b803-4d06452ff24f",
   "metadata": {},
   "outputs": [],
   "source": [
    "cwd = os.getcwd() #grabs current working directory\n",
    "print(cwd)"
   ]
  },
  {
   "cell_type": "markdown",
   "id": "4c7aea27-df6d-42e6-a7c7-07adcb8ef623",
   "metadata": {},
   "source": [
    "#### Mining Energy\n",
    "See the Supporting Materials Folder, input-energy-CdTe-ZnCdMining.csv for the collected data. Based on the numbers, and notes/caveats, a value of 2.0 kWh/kg was assumed for e_mat_extraction."
   ]
  },
  {
   "cell_type": "markdown",
   "id": "5fd19d46-57fe-47b0-9dbf-64bd101652ff",
   "metadata": {},
   "source": [
    "#### Manufacturing Energy"
   ]
  },
  {
   "cell_type": "code",
   "execution_count": null,
   "id": "8d71e05c-ddc1-4ad0-95d1-21a43fa18f91",
   "metadata": {},
   "outputs": [],
   "source": [
    "skipcols = ['Source', 'Notes']\n",
    "e_modmfg_raw = pd.read_csv(os.path.join(supportMatfolder, \"input-energy-CdTe-moduleMFGing.csv\"), index_col='year')\n",
    "                           #, usecols=lambda x: x not in skipcols)"
   ]
  },
  {
   "cell_type": "code",
   "execution_count": null,
   "id": "e6f5cb03-1bd2-46af-be46-517a5f2d8761",
   "metadata": {},
   "outputs": [],
   "source": []
  },
  {
   "cell_type": "code",
   "execution_count": null,
   "id": "101c6cc1-fb3e-4f16-b0ac-4b5f92503fb0",
   "metadata": {},
   "outputs": [],
   "source": []
  }
 ],
 "metadata": {
  "kernelspec": {
   "display_name": "Python 3 (ipykernel)",
   "language": "python",
   "name": "python3"
  },
  "language_info": {
   "codemirror_mode": {
    "name": "ipython",
    "version": 3
   },
   "file_extension": ".py",
   "mimetype": "text/x-python",
   "name": "python",
   "nbconvert_exporter": "python",
   "pygments_lexer": "ipython3",
   "version": "3.11.5"
  }
 },
 "nbformat": 4,
 "nbformat_minor": 5
}
