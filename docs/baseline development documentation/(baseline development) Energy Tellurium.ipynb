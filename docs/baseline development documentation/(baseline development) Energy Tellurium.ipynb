{
 "cells": [
  {
   "cell_type": "markdown",
   "id": "ee592186-b03b-4e25-ae83-d295d860f273",
   "metadata": {},
   "source": [
    "# Baseline Development: Energy of Tellurium\n",
    "This journal documents the calculations of extracting and refining Tellurim. Te is a 2ndary mineral typically from copper anode slimes. The anode slime is processed via electrowinning to extract the Te at low quality, then upgraded to semiconductor purity through vacuum distillation, although zone refining is also sometimes used. The manufacturing energy includes a % fuel contribution. Because Te is a secondary product of copper, e_mat_extraction will be copper mining energy, and copper extraction+refining energy will be added to the Te refining and purification energy."
   ]
  },
  {
   "cell_type": "code",
   "execution_count": 1,
   "id": "d1f81891-a621-4be8-ae3d-b757c82ce825",
   "metadata": {},
   "outputs": [],
   "source": [
    "import numpy as np\n",
    "import pandas as pd\n",
    "import os,sys\n",
    "from pathlib import Path\n",
    "import matplotlib.pyplot as plt"
   ]
  },
  {
   "cell_type": "code",
   "execution_count": 2,
   "id": "4b67c074-27b7-4a95-9226-a9285bd073cd",
   "metadata": {},
   "outputs": [],
   "source": [
    "plt.rcParams.update({'font.size': 18})\n",
    "plt.rcParams['figure.figsize'] = (10, 5)"
   ]
  },
  {
   "cell_type": "code",
   "execution_count": 3,
   "id": "0b82ba69-c39c-4915-ab04-addf96357990",
   "metadata": {},
   "outputs": [],
   "source": [
    "baselinesfolder = str(Path().resolve().parent.parent /'PV_ICE' / 'baselines')\n",
    "supportMatfolder = str(Path().resolve().parent.parent / 'PV_ICE' / 'baselines' / 'SupportingMaterial')"
   ]
  },
  {
   "cell_type": "code",
   "execution_count": 4,
   "id": "88ae0b3b-7bf6-4769-9ae8-4c2107a77924",
   "metadata": {},
   "outputs": [
    {
     "name": "stdout",
     "output_type": "stream",
     "text": [
      "C:\\Users\\hmirletz\\Documents\\GitHub\\PV_ICE\\docs\\baseline development documentation\n"
     ]
    }
   ],
   "source": [
    "cwd = os.getcwd() #grabs current working directory\n",
    "print(cwd)"
   ]
  },
  {
   "cell_type": "markdown",
   "id": "4db74922-683d-4ab8-8e49-3caf11d7863b",
   "metadata": {},
   "source": [
    "### Copper Refining Energy - Metallurgy"
   ]
  },
  {
   "cell_type": "code",
   "execution_count": 5,
   "id": "3b146917-d85d-4359-bdb8-6620403017fb",
   "metadata": {},
   "outputs": [],
   "source": [
    "skipcols = ['Source', 'Notes']\n",
    "e_CuMetallurgy_raw = pd.read_csv(os.path.join(supportMatfolder, \"output-energy-copper-metallurgy.csv\"), index_col=0)\n",
    "                           #, usecols=lambda x: x not in skipcols)"
   ]
  },
  {
   "cell_type": "code",
   "execution_count": 6,
   "id": "7f495b26-e771-4eb2-be67-5ad813ad13f0",
   "metadata": {},
   "outputs": [
    {
     "data": {
      "text/html": [
       "<div>\n",
       "<style scoped>\n",
       "    .dataframe tbody tr th:only-of-type {\n",
       "        vertical-align: middle;\n",
       "    }\n",
       "\n",
       "    .dataframe tbody tr th {\n",
       "        vertical-align: top;\n",
       "    }\n",
       "\n",
       "    .dataframe thead th {\n",
       "        text-align: right;\n",
       "    }\n",
       "</style>\n",
       "<table border=\"1\" class=\"dataframe\">\n",
       "  <thead>\n",
       "    <tr style=\"text-align: right;\">\n",
       "      <th></th>\n",
       "      <th>E_Cu_metallurgy_kWhpkg</th>\n",
       "      <th>PrctFuel</th>\n",
       "      <th>E_Cu_metallurgy_fuel_kWhpkg</th>\n",
       "    </tr>\n",
       "  </thead>\n",
       "  <tbody>\n",
       "    <tr>\n",
       "      <th>1995</th>\n",
       "      <td>9.587714</td>\n",
       "      <td>42.221508</td>\n",
       "      <td>4.048077</td>\n",
       "    </tr>\n",
       "    <tr>\n",
       "      <th>1996</th>\n",
       "      <td>9.517284</td>\n",
       "      <td>42.734129</td>\n",
       "      <td>4.067129</td>\n",
       "    </tr>\n",
       "    <tr>\n",
       "      <th>1997</th>\n",
       "      <td>9.407868</td>\n",
       "      <td>43.257701</td>\n",
       "      <td>4.069628</td>\n",
       "    </tr>\n",
       "    <tr>\n",
       "      <th>1998</th>\n",
       "      <td>9.381570</td>\n",
       "      <td>44.302701</td>\n",
       "      <td>4.156289</td>\n",
       "    </tr>\n",
       "    <tr>\n",
       "      <th>1999</th>\n",
       "      <td>9.269918</td>\n",
       "      <td>45.103279</td>\n",
       "      <td>4.181037</td>\n",
       "    </tr>\n",
       "  </tbody>\n",
       "</table>\n",
       "</div>"
      ],
      "text/plain": [
       "      E_Cu_metallurgy_kWhpkg   PrctFuel  E_Cu_metallurgy_fuel_kWhpkg\n",
       "1995                9.587714  42.221508                     4.048077\n",
       "1996                9.517284  42.734129                     4.067129\n",
       "1997                9.407868  43.257701                     4.069628\n",
       "1998                9.381570  44.302701                     4.156289\n",
       "1999                9.269918  45.103279                     4.181037"
      ]
     },
     "execution_count": 6,
     "metadata": {},
     "output_type": "execute_result"
    }
   ],
   "source": [
    "e_CuMetallurgy_raw.head()"
   ]
  },
  {
   "cell_type": "markdown",
   "id": "a02d62bc-fa92-4938-a3f6-11288cac48f8",
   "metadata": {},
   "source": [
    "### Refine Te to ~3N"
   ]
  },
  {
   "cell_type": "code",
   "execution_count": 7,
   "id": "7f4450c2-2934-49f8-994e-4f59004c665d",
   "metadata": {},
   "outputs": [],
   "source": [
    "skipcols = ['Source', 'Notes']\n",
    "e_TeRefine_raw = pd.read_csv(os.path.join(supportMatfolder, \"input-energy-CdTe-TeRefining.csv\"), index_col='year')\n",
    "                           #, usecols=lambda x: x not in skipcols)"
   ]
  },
  {
   "cell_type": "code",
   "execution_count": 8,
   "id": "0e5d73d2-01cf-4733-9b59-a2e7aa9ce277",
   "metadata": {},
   "outputs": [
    {
     "data": {
      "text/html": [
       "<div>\n",
       "<style scoped>\n",
       "    .dataframe tbody tr th:only-of-type {\n",
       "        vertical-align: middle;\n",
       "    }\n",
       "\n",
       "    .dataframe tbody tr th {\n",
       "        vertical-align: top;\n",
       "    }\n",
       "\n",
       "    .dataframe thead th {\n",
       "        text-align: right;\n",
       "    }\n",
       "</style>\n",
       "<table border=\"1\" class=\"dataframe\">\n",
       "  <thead>\n",
       "    <tr style=\"text-align: right;\">\n",
       "      <th></th>\n",
       "      <th>E_MFG_Te_Refine_[kWh/kg]</th>\n",
       "      <th>prct_Fuel</th>\n",
       "      <th>Source</th>\n",
       "      <th>Notes</th>\n",
       "    </tr>\n",
       "    <tr>\n",
       "      <th>year</th>\n",
       "      <th></th>\n",
       "      <th></th>\n",
       "      <th></th>\n",
       "      <th></th>\n",
       "    </tr>\n",
       "  </thead>\n",
       "  <tbody>\n",
       "    <tr>\n",
       "      <th>2009</th>\n",
       "      <td>0.1750</td>\n",
       "      <td>0.0</td>\n",
       "      <td>Kruyswijk, Lizelle. “Electrorefining of Base M...</td>\n",
       "      <td>treating anode slimes, need to divide by Te re...</td>\n",
       "    </tr>\n",
       "    <tr>\n",
       "      <th>2014</th>\n",
       "      <td>2.0000</td>\n",
       "      <td>0.0</td>\n",
       "      <td>Subbaiah, Tondepu, Barada Kanta Mishra, Malay ...</td>\n",
       "      <td>year applied for patent, hydrometallurgy</td>\n",
       "    </tr>\n",
       "    <tr>\n",
       "      <th>2019</th>\n",
       "      <td>3.4000</td>\n",
       "      <td>0.0</td>\n",
       "      <td>Xu, Zhipeng, Xueyi Guo, Qinghua Tian, Dong Li,...</td>\n",
       "      <td>uncited \"typical industry\" energy consumption ...</td>\n",
       "    </tr>\n",
       "    <tr>\n",
       "      <th>2020</th>\n",
       "      <td>1.7376</td>\n",
       "      <td>0.0</td>\n",
       "      <td>Xu, Zhipeng, Xueyi Guo, Qinghua Tian, Dong Li,...</td>\n",
       "      <td>approx 3 simultaneous papers on cyclone electr...</td>\n",
       "    </tr>\n",
       "    <tr>\n",
       "      <th>2023</th>\n",
       "      <td>2.1420</td>\n",
       "      <td>0.0</td>\n",
       "      <td>Sarangi, Chinmaya Kumar, Abdul Rauf Sheik, Bar...</td>\n",
       "      <td>not a great paper, but has some experimental d...</td>\n",
       "    </tr>\n",
       "  </tbody>\n",
       "</table>\n",
       "</div>"
      ],
      "text/plain": [
       "      E_MFG_Te_Refine_[kWh/kg]  prct_Fuel  \\\n",
       "year                                        \n",
       "2009                    0.1750        0.0   \n",
       "2014                    2.0000        0.0   \n",
       "2019                    3.4000        0.0   \n",
       "2020                    1.7376        0.0   \n",
       "2023                    2.1420        0.0   \n",
       "\n",
       "                                                 Source  \\\n",
       "year                                                      \n",
       "2009  Kruyswijk, Lizelle. “Electrorefining of Base M...   \n",
       "2014  Subbaiah, Tondepu, Barada Kanta Mishra, Malay ...   \n",
       "2019  Xu, Zhipeng, Xueyi Guo, Qinghua Tian, Dong Li,...   \n",
       "2020  Xu, Zhipeng, Xueyi Guo, Qinghua Tian, Dong Li,...   \n",
       "2023  Sarangi, Chinmaya Kumar, Abdul Rauf Sheik, Bar...   \n",
       "\n",
       "                                                  Notes  \n",
       "year                                                     \n",
       "2009  treating anode slimes, need to divide by Te re...  \n",
       "2014           year applied for patent, hydrometallurgy  \n",
       "2019  uncited \"typical industry\" energy consumption ...  \n",
       "2020  approx 3 simultaneous papers on cyclone electr...  \n",
       "2023  not a great paper, but has some experimental d...  "
      ]
     },
     "execution_count": 8,
     "metadata": {},
     "output_type": "execute_result"
    }
   ],
   "source": [
    "e_TeRefine_raw.dropna(how='all')"
   ]
  },
  {
   "cell_type": "code",
   "execution_count": 9,
   "id": "259caef8-d316-4a80-8561-8d489481674d",
   "metadata": {},
   "outputs": [
    {
     "data": {
      "text/plain": [
       "Text(0.5, 1.0, 'E_MFG_Te_Refine_[kWh/kg]')"
      ]
     },
     "execution_count": 9,
     "metadata": {},
     "output_type": "execute_result"
    },
    {
     "data": {
      "image/png": "[encoded data removed]",
      "text/plain": [
       "<Figure size 1000x500 with 1 Axes>"
      ]
     },
     "metadata": {},
     "output_type": "display_data"
    }
   ],
   "source": [
    "plt.plot(e_TeRefine_raw.index, e_TeRefine_raw.iloc[:,0], marker='o')\n",
    "plt.xlim(2000,2025)\n",
    "plt.ylim(0,5)\n",
    "plt.title(e_TeRefine_raw.columns[0])"
   ]
  },
  {
   "cell_type": "markdown",
   "id": "b96b96fe-b518-449c-a32f-bb8f2eeb3caf",
   "metadata": {},
   "source": [
    "The 2009 data point is from a thesis that doesn't provide recovery of Te in mass (only ppm), therefore, we will drop this data point.\n",
    "\n",
    "The others are hovering around 2 kWh/kg. Therefore, we will take the electrowinning of Te to achieve ~3N to be 2 kWh/kg."
   ]
  },
  {
   "cell_type": "markdown",
   "id": "4de775b9-e58f-4cff-9a49-34704462eb51",
   "metadata": {},
   "source": [
    "### Purify Te to Semiconductor grade\n",
    "Literature searches reveal little to no reliable information on purifying Te and the energy consumption thereof via either vacuum distillation or zone refining. Based on the very wide range of adjacent data found, we will estimate 4 kWh/kg for vacuum distillation to purify Te to semiconductor grade.\n",
    "\n",
    "Therefore, the overall Te specific energy is 6 kWh/kg on top of the required energy to extract copper precursors."
   ]
  },
  {
   "cell_type": "code",
   "execution_count": 12,
   "id": "a0cafc03-2adb-4fb1-baf9-c13af7bc0515",
   "metadata": {},
   "outputs": [
    {
     "data": {
      "text/html": [
       "<div>\n",
       "<style scoped>\n",
       "    .dataframe tbody tr th:only-of-type {\n",
       "        vertical-align: middle;\n",
       "    }\n",
       "\n",
       "    .dataframe tbody tr th {\n",
       "        vertical-align: top;\n",
       "    }\n",
       "\n",
       "    .dataframe thead th {\n",
       "        text-align: right;\n",
       "    }\n",
       "</style>\n",
       "<table border=\"1\" class=\"dataframe\">\n",
       "  <thead>\n",
       "    <tr style=\"text-align: right;\">\n",
       "      <th></th>\n",
       "      <th>E_Cu_metallurgy_kWhpkg</th>\n",
       "      <th>PrctFuel</th>\n",
       "      <th>E_Cu_metallurgy_fuel_kWhpkg</th>\n",
       "    </tr>\n",
       "  </thead>\n",
       "  <tbody>\n",
       "    <tr>\n",
       "      <th>1995</th>\n",
       "      <td>9.587714</td>\n",
       "      <td>42.221508</td>\n",
       "      <td>4.048077</td>\n",
       "    </tr>\n",
       "    <tr>\n",
       "      <th>1996</th>\n",
       "      <td>9.517284</td>\n",
       "      <td>42.734129</td>\n",
       "      <td>4.067129</td>\n",
       "    </tr>\n",
       "  </tbody>\n",
       "</table>\n",
       "</div>"
      ],
      "text/plain": [
       "      E_Cu_metallurgy_kWhpkg   PrctFuel  E_Cu_metallurgy_fuel_kWhpkg\n",
       "1995                9.587714  42.221508                     4.048077\n",
       "1996                9.517284  42.734129                     4.067129"
      ]
     },
     "execution_count": 12,
     "metadata": {},
     "output_type": "execute_result"
    }
   ],
   "source": [
    "e_CuMetallurgy_raw.head(2)"
   ]
  },
  {
   "cell_type": "code",
   "execution_count": 14,
   "id": "2dd9364c-2c83-4666-9cd2-e49ff8e37875",
   "metadata": {},
   "outputs": [
    {
     "data": {
      "text/html": [
       "<div>\n",
       "<style scoped>\n",
       "    .dataframe tbody tr th:only-of-type {\n",
       "        vertical-align: middle;\n",
       "    }\n",
       "\n",
       "    .dataframe tbody tr th {\n",
       "        vertical-align: top;\n",
       "    }\n",
       "\n",
       "    .dataframe thead th {\n",
       "        text-align: right;\n",
       "    }\n",
       "</style>\n",
       "<table border=\"1\" class=\"dataframe\">\n",
       "  <thead>\n",
       "    <tr style=\"text-align: right;\">\n",
       "      <th></th>\n",
       "      <th>E_Cu_metallurgy_kWhpkg</th>\n",
       "      <th>PrctFuel</th>\n",
       "      <th>E_Cu_metallurgy_fuel_kWhpkg</th>\n",
       "      <th>E_Te_kWhpkg</th>\n",
       "      <th>E_Te_fuelfract</th>\n",
       "    </tr>\n",
       "  </thead>\n",
       "  <tbody>\n",
       "    <tr>\n",
       "      <th>1995</th>\n",
       "      <td>9.587714</td>\n",
       "      <td>42.221508</td>\n",
       "      <td>4.048077</td>\n",
       "      <td>15.587714</td>\n",
       "      <td>25.969667</td>\n",
       "    </tr>\n",
       "    <tr>\n",
       "      <th>1996</th>\n",
       "      <td>9.517284</td>\n",
       "      <td>42.734129</td>\n",
       "      <td>4.067129</td>\n",
       "      <td>15.517284</td>\n",
       "      <td>26.210311</td>\n",
       "    </tr>\n",
       "    <tr>\n",
       "      <th>1997</th>\n",
       "      <td>9.407868</td>\n",
       "      <td>43.257701</td>\n",
       "      <td>4.069628</td>\n",
       "      <td>15.407868</td>\n",
       "      <td>26.412658</td>\n",
       "    </tr>\n",
       "    <tr>\n",
       "      <th>1998</th>\n",
       "      <td>9.381570</td>\n",
       "      <td>44.302701</td>\n",
       "      <td>4.156289</td>\n",
       "      <td>15.381570</td>\n",
       "      <td>27.021227</td>\n",
       "    </tr>\n",
       "    <tr>\n",
       "      <th>1999</th>\n",
       "      <td>9.269918</td>\n",
       "      <td>45.103279</td>\n",
       "      <td>4.181037</td>\n",
       "      <td>15.269918</td>\n",
       "      <td>27.380874</td>\n",
       "    </tr>\n",
       "  </tbody>\n",
       "</table>\n",
       "</div>"
      ],
      "text/plain": [
       "      E_Cu_metallurgy_kWhpkg   PrctFuel  E_Cu_metallurgy_fuel_kWhpkg  \\\n",
       "1995                9.587714  42.221508                     4.048077   \n",
       "1996                9.517284  42.734129                     4.067129   \n",
       "1997                9.407868  43.257701                     4.069628   \n",
       "1998                9.381570  44.302701                     4.156289   \n",
       "1999                9.269918  45.103279                     4.181037   \n",
       "\n",
       "      E_Te_kWhpkg  E_Te_fuelfract  \n",
       "1995    15.587714       25.969667  \n",
       "1996    15.517284       26.210311  \n",
       "1997    15.407868       26.412658  \n",
       "1998    15.381570       27.021227  \n",
       "1999    15.269918       27.380874  "
      ]
     },
     "execution_count": 14,
     "metadata": {},
     "output_type": "execute_result"
    }
   ],
   "source": [
    "e_CuMetallurgy_raw['E_Te_kWhpkg'] = e_CuMetallurgy_raw.iloc[:,0]+6\n",
    "e_CuMetallurgy_raw['E_Te_fuelfract'] = e_CuMetallurgy_raw['E_Cu_metallurgy_fuel_kWhpkg']/e_CuMetallurgy_raw['E_Te_kWhpkg']*100\n",
    "e_CuMetallurgy_raw.head()"
   ]
  },
  {
   "cell_type": "code",
   "execution_count": 18,
   "id": "cfb89fce-9555-4937-8bd8-1a6d132a5cf0",
   "metadata": {},
   "outputs": [],
   "source": [
    "e_Te_final = e_CuMetallurgy_raw.filter(like='_Te').round(2)\n",
    "e_Te_final.to_csv(os.path.join(supportMatfolder,'output-energy-CdTe-TeMFGingE.csv'))"
   ]
  },
  {
   "cell_type": "code",
   "execution_count": null,
   "id": "37d7e818-b053-4aa8-8d6f-08700b7fc44d",
   "metadata": {},
   "outputs": [],
   "source": []
  }
 ],
 "metadata": {
  "kernelspec": {
   "display_name": "Python 3 (ipykernel)",
   "language": "python",
   "name": "python3"
  },
  "language_info": {
   "codemirror_mode": {
    "name": "ipython",
    "version": 3
   },
   "file_extension": ".py",
   "mimetype": "text/x-python",
   "name": "python",
   "nbconvert_exporter": "python",
   "pygments_lexer": "ipython3",
   "version": "3.11.5"
  }
 },
 "nbformat": 4,
 "nbformat_minor": 5
}
