{
 "cells": [
  {
   "cell_type": "code",
   "execution_count": 1,
   "id": "97730b4f",
   "metadata": {},
   "outputs": [
    {
     "name": "stdout",
     "output_type": "stream",
     "text": [
      "Successfully imported PV_ICE, version  v0.2.0+516.g4d52040.dirty\n",
      "Your simulation will be stored in C:\\Users\\sayala\\Documents\\GitHub\\PV_ICE\\PV_ICE\\TEMP\\test\n",
      "Your baselines are stored in C:\\Users\\sayala\\Documents\\GitHub\\PV_ICE\\PV_ICE\\baselines\n"
     ]
    }
   ],
   "source": [
    "import os # Creates and removes a directory (folder), fetch its contents, change and identify the current directory\n",
    "from pathlib import Path\n",
    "import PV_ICE # Load PV_ICE package\n",
    "\n",
    "print(\"Successfully imported PV_ICE, version \", PV_ICE.__version__)\n",
    "\n",
    "testfolder = str(Path().resolve().parent.parent / 'PV_ICE' / 'TEMP' / 'test') # Path to the simulation folder.\n",
    "\n",
    "baselinesfolder = str(Path().resolve().parent.parent / 'PV_ICE' / 'baselines')  # Path to baselines and data.\n",
    "\n",
    "# Another option using relative address; for some operative systems you might need '/' instead of '\\'\n",
    "# testfolder = os.path.abspath(r'..\\..\\PV_DEMICE\\TEMP')  \n",
    "\n",
    "print (\"Your simulation will be stored in %s\" % testfolder)\n",
    "print (\"Your baselines are stored in %s\" % baselinesfolder)\n",
    "\n",
    "if not os.path.exists(testfolder):\n",
    "    os.makedirs(testfolder)"
   ]
  },
  {
   "cell_type": "code",
   "execution_count": null,
   "id": "8ab35cfd",
   "metadata": {},
   "outputs": [],
   "source": [
    "r1 = PV_ICE.Simulation.load_Simpickle(filename=r'C:\\Users\\sayala\\Documents\\GitHub\\PV_ICE\\PV_ICE\\TEMP\\test\\Simulation1.pkl')"
   ]
  },
  {
   "cell_type": "code",
   "execution_count": 10,
   "id": "6c5232df",
   "metadata": {},
   "outputs": [],
   "source": [
    "import pandas as pd\n",
    "import numpy as np"
   ]
  },
  {
   "cell_type": "code",
   "execution_count": 2,
   "id": "daef4f85",
   "metadata": {},
   "outputs": [],
   "source": [
    "from os.path import normpath, basename\n",
    "pathstr = r'C:\\Users\\sayala\\Documents\\GitHub\\PV_ICE\\PV_ICE\\TEMP\\test'\n",
    "\n",
    "name = basename(normpath(pathstr))\n",
    "\n",
    "inputfiles = os.listdir(os.path.join(pathstr, 'input'))"
   ]
  },
  {
   "cell_type": "code",
   "execution_count": 8,
   "id": "e63ff5f2",
   "metadata": {},
   "outputs": [
    {
     "ename": "RuntimeError",
     "evalue": "Set changed size during iteration",
     "output_type": "error",
     "traceback": [
      "\u001b[1;31m---------------------------------------------------------------------------\u001b[0m",
      "\u001b[1;31mRuntimeError\u001b[0m                              Traceback (most recent call last)",
      "Cell \u001b[1;32mIn[8], line 9\u001b[0m\n\u001b[0;32m      6\u001b[0m materials\n\u001b[0;32m      8\u001b[0m a\u001b[38;5;241m=\u001b[39m\u001b[38;5;28mset\u001b[39m(materials)\n\u001b[1;32m----> 9\u001b[0m \u001b[38;5;28;01mfor\u001b[39;00m ii \u001b[38;5;129;01min\u001b[39;00m a:\n\u001b[0;32m     10\u001b[0m     material \u001b[38;5;241m=\u001b[39m a\u001b[38;5;241m.\u001b[39mpop()\n\u001b[0;32m     12\u001b[0m \u001b[38;5;28;01mif\u001b[39;00m \u001b[38;5;28mlen\u001b[39m(materials)\u001b[38;5;241m%\u001b[39m\u001b[38;5;28mlen\u001b[39m(a) \u001b[38;5;241m!=\u001b[39m \u001b[38;5;241m0\u001b[39m:\n",
      "\u001b[1;31mRuntimeError\u001b[0m: Set changed size during iteration"
     ]
    }
   ],
   "source": [
    "scenarios = [s[:-13] for s in inputfiles if \"_dataIn_m.csv\" in s]\n",
    "\n",
    "scen = len(scenarios[0]) + 1 # ('Adding 1 for the underscore')\n",
    "materials = [s[scen:-16] for s in inputfiles if \"_matdataIn_m.csv\" in s]\n",
    "#materials = [s[scen:] for s in materials if scenarios[0] in s]\n",
    "materials = list(set(materials))\n",
    "\n",
    "if len(materials)%len(a) != 0:\n",
    "    print(\"there might be an issue with the number of materials saved. Perhaps, tell silvana.\")\n",
    "    \n",
    "for scen in scenarios:\n",
    "    filee = scen + '_dataIn_m.csv'\n",
    "    scenfile = os.path.join(pathstr, 'input', filee)\n",
    "    with open(scenfile) as fd:\n",
    "        headers = [next(fd) for i in range(2) ]\n",
    "        cols = headers[0].strip().split(',')\n",
    "        meta = headers[1].strip().split(',')\n",
    "\n",
    "        df = pd.read_csv(fd, sep=',', names=cols)\n",
    "        df2 = df.drop(df.columns[0],axis=1)\n",
    "        \n",
    "        cols = cols[1:] # removing the first empty item\n",
    "        meta = meta[1:]\n",
    "        metadict = {cols[i]: meta[i] for i in range(len(cols))}\n",
    "        for mat in materials:\n",
    "            "
   ]
  },
  {
   "cell_type": "code",
   "execution_count": null,
   "id": "c05a2284",
   "metadata": {},
   "outputs": [],
   "source": []
  },
  {
   "cell_type": "code",
   "execution_count": null,
   "id": "a0e0e657",
   "metadata": {},
   "outputs": [],
   "source": []
  },
  {
   "cell_type": "code",
   "execution_count": null,
   "id": "a987a28d",
   "metadata": {},
   "outputs": [],
   "source": []
  },
  {
   "cell_type": "code",
   "execution_count": null,
   "id": "9054ffae",
   "metadata": {},
   "outputs": [],
   "source": []
  },
  {
   "cell_type": "code",
   "execution_count": null,
   "id": "8e9b533e",
   "metadata": {},
   "outputs": [],
   "source": []
  },
  {
   "cell_type": "code",
   "execution_count": null,
   "id": "3417d9ca",
   "metadata": {},
   "outputs": [],
   "source": [
    "r1 = PV_ICE.Simulation(name='Simulation1', path=testfolder)\n",
    "r1.createScenario(name='base', massmodulefile=r'..\\..\\baselines\\baseline_modules_mass_US.csv', energymodulefile=r'..\\..\\baselines\\baseline_modules_energy.csv')\n",
    "r1.scenario['base'].addMaterials(['glass', 'silicon'])\n",
    "\n",
    "r1.createScenario(name='pvsk', massmodulefile=r'..\\..\\baselines\\baseline_modules_mass_US.csv', energymodulefile=r'..\\..\\baselines\\baseline_modules_energy.csv')\n",
    "r1.scenario['pvsk'].addMaterials(['glass', 'silicon'])\n"
   ]
  },
  {
   "cell_type": "code",
   "execution_count": null,
   "id": "6af093e6",
   "metadata": {},
   "outputs": [],
   "source": [
    "r1.scenario['pvsk'].dataIn_m['mod_reliability_t50'] = 10\n",
    "r1.scenario['pvsk'].dataIn_m['mod_reliability_t90'] = 12\n",
    "r1.scenario['pvsk'].dataIn_m['mod_lifetime'] = 15\n"
   ]
  },
  {
   "cell_type": "code",
   "execution_count": null,
   "id": "a5da9704",
   "metadata": {},
   "outputs": [],
   "source": [
    "r1.calculateFlows()"
   ]
  },
  {
   "cell_type": "code",
   "execution_count": null,
   "id": "8ee832d8",
   "metadata": {},
   "outputs": [],
   "source": [
    "r1.pickle_Sim()"
   ]
  },
  {
   "cell_type": "code",
   "execution_count": null,
   "id": "e121917e",
   "metadata": {},
   "outputs": [],
   "source": [
    "USyearly, UScum = r1.aggregateResults()\n"
   ]
  },
  {
   "cell_type": "code",
   "execution_count": null,
   "id": "7aef09a1",
   "metadata": {},
   "outputs": [],
   "source": [
    "r1.saveSimulation()"
   ]
  },
  {
   "cell_type": "code",
   "execution_count": null,
   "id": "22e1306b",
   "metadata": {},
   "outputs": [],
   "source": []
  }
 ],
 "metadata": {
  "kernelspec": {
   "display_name": "Python 3 (ipykernel)",
   "language": "python",
   "name": "python3"
  },
  "language_info": {
   "codemirror_mode": {
    "name": "ipython",
    "version": 3
   },
   "file_extension": ".py",
   "mimetype": "text/x-python",
   "name": "python",
   "nbconvert_exporter": "python",
   "pygments_lexer": "ipython3",
   "version": "3.11.4"
  }
 },
 "nbformat": 4,
 "nbformat_minor": 5
}
