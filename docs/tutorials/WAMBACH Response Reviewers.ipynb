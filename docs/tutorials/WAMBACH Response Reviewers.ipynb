{
 "cells": [
  {
   "cell_type": "code",
   "execution_count": 1,
   "metadata": {},
   "outputs": [
    {
     "name": "stdout",
     "output_type": "stream",
     "text": [
      "Your simulation will be stored in C:\\Users\\Silvana\\Documents\\GitHub\\CircularEconomy-MassFlowCalculator\\PV_ICE\\TEMP\\ElectricFutures\n"
     ]
    }
   ],
   "source": [
    "import PV_ICE\n",
    "import matplotlib.pyplot as plt\n",
    "import pandas as pd\n",
    "import numpy as np\n",
    "import os\n",
    "from pathlib import Path\n",
    "\n",
    "testfolder = str(Path().resolve().parent.parent / 'PV_ICE' / 'TEMP' / 'ElectricFutures')\n",
    "\n",
    "# Another option using relative address; for some operative systems you might need '/' instead of '\\'\n",
    "# testfolder = os.path.abspath(r'..\\..\\PV_DEMICE\\TEMP')  \n",
    "\n",
    "print (\"Your simulation will be stored in %s\" % testfolder)\n",
    "\n"
   ]
  },
  {
   "cell_type": "code",
   "execution_count": 2,
   "metadata": {},
   "outputs": [
    {
     "data": {
      "text/plain": [
       "'v0.2.0+65.gb072a64.dirty'"
      ]
     },
     "execution_count": 2,
     "metadata": {},
     "output_type": "execute_result"
    }
   ],
   "source": [
    "PV_ICE.__version__\n"
   ]
  },
  {
   "cell_type": "code",
   "execution_count": 3,
   "metadata": {},
   "outputs": [],
   "source": [
    "MATERIALS = ['WAMBACH']\n",
    "MATERIAL = MATERIALS[0]\n",
    "\n",
    "MODULEBASELINE = r'C:\\Users\\Silvana\\Documents\\GitHub\\PRIVATE_Wambach_US_INSTALLS_2020.csv'\n",
    "#MODULEBASELINE = r'\\..\\..\\PRIVATE_Wambach_US_INSTALLS_2020.csv'\n"
   ]
  },
  {
   "cell_type": "code",
   "execution_count": 4,
   "metadata": {},
   "outputs": [
    {
     "name": "stdout",
     "output_type": "stream",
     "text": [
      "path = C:\\Users\\Silvana\\Documents\\GitHub\\CircularEconomy-MassFlowCalculator\\PV_ICE\\TEMP\\ElectricFutures\n",
      "Using Irena Early Loss Assumptions\n",
      "path = C:\\Users\\Silvana\\Documents\\GitHub\\CircularEconomy-MassFlowCalculator\\PV_ICE\\TEMP\\ElectricFutures\n",
      "Using Irena Early Loss Assumptions\n",
      "path = C:\\Users\\Silvana\\Documents\\GitHub\\CircularEconomy-MassFlowCalculator\\PV_ICE\\TEMP\\ElectricFutures\n",
      "Using Irena Early Loss Assumptions\n"
     ]
    }
   ],
   "source": [
    "r1 = PV_ICE.Simulation(name='PV_ICE', path=testfolder)\n",
    "r1.createScenario(name='base', file=MODULEBASELINE)\n",
    "r1.scenario['base'].addMaterials(MATERIALS, r'..\\..\\baselines')\n",
    "r1.scenMod_IRENIFY('base', ELorRL = 'EL' )\n",
    "\n",
    "r1b = PV_ICE.Simulation(name='PV_ICE', path=testfolder)\n",
    "r1b.createScenario(name='base', file=MODULEBASELINE)\n",
    "r1b.scenario['base'].addMaterials(MATERIALS, r'..\\..\\baselines')\n",
    "r1b.scenMod_IRENIFY('base', ELorRL = 'EL' )\n",
    "r1c = PV_ICE.Simulation(name='PV_ICE', path=testfolder)\n",
    "r1c.createScenario(name='base', file=MODULEBASELINE)\n",
    "r1c.scenario['base'].addMaterials(MATERIALS, r'..\\..\\baselines')\n",
    "r1c.scenMod_IRENIFY('base', ELorRL = 'EL' )\n"
   ]
  },
  {
   "cell_type": "code",
   "execution_count": 5,
   "metadata": {},
   "outputs": [
    {
     "name": "stdout",
     "output_type": "stream",
     "text": [
      "Working on Scenario:  base\n",
      "********************\n",
      "Warning, this is for special debuging of Wambach Procedure.Make sure to use Wambach Module\n",
      "Finished Area+Power Generation Calculations\n",
      "==> Working on Material :  WAMBACH\n",
      "Working on Scenario:  base\n",
      "********************\n",
      "Warning, this is for special debuging of Wambach Procedure.Make sure to use Wambach Module\n",
      "Finished Area+Power Generation Calculations\n",
      "==> Working on Material :  WAMBACH\n",
      "Working on Scenario:  base\n",
      "********************\n",
      "Warning, this is for special debuging of Wambach Procedure.Make sure to use Wambach Module\n",
      "Finished Area+Power Generation Calculations\n",
      "==> Working on Material :  WAMBACH\n"
     ]
    }
   ],
   "source": [
    "r1.calculateMassFlow(m1=True)\n",
    "r1b.calculateMassFlow(m2=True)\n",
    "r1c.calculateMassFlow(m3=True)\n"
   ]
  },
  {
   "cell_type": "code",
   "execution_count": 7,
   "metadata": {},
   "outputs": [],
   "source": [
    "pvice_Usyearly1, pvice_Uscum1 = r1.aggregateResults()\n",
    "pvice_Usyearly1b, pvice_Uscum1b = r1b.aggregateResults()\n",
    "pvice_Usyearly1c, pvice_Uscum1c = r1c.aggregateResults()\n",
    "\n",
    "pvice_Usyearly1 *= 1000000\n",
    "pvice_Uscum1 *= 1000000\n",
    "pvice_Usyearly1b *= 1000000\n",
    "pvice_Uscum1b *= 1000000\n",
    "pvice_Usyearly1c *= 1000000\n",
    "pvice_Uscum1c *= 1000000\n",
    "\n",
    "\n"
   ]
  },
  {
   "cell_type": "code",
   "execution_count": 8,
   "metadata": {},
   "outputs": [
    {
     "data": {
      "text/plain": [
       "Index(['VirginStock_WAMBACH_PV_ICE_base_[Tonnes]',\n",
       "       'VirginStock_Module_PV_ICE_base_[Tonnes]',\n",
       "       'WasteAll_WAMBACH_PV_ICE_base_[Tonnes]',\n",
       "       'WasteAll_Module_PV_ICE_base_[Tonnes]',\n",
       "       'WasteEOL_WAMBACH_PV_ICE_base_[Tonnes]',\n",
       "       'WasteEOL_Module_PV_ICE_base_[Tonnes]',\n",
       "       'WasteMFG_WAMBACH_PV_ICE_base_[Tonnes]',\n",
       "       'WasteMFG_Module_PV_ICE_base_[Tonnes]',\n",
       "       'newInstalledCapacity_base_[MW]', 'Capacity_base_[MW]'],\n",
       "      dtype='object')"
      ]
     },
     "execution_count": 8,
     "metadata": {},
     "output_type": "execute_result"
    }
   ],
   "source": [
    "pvice_Usyearly1.keys()"
   ]
  },
  {
   "cell_type": "code",
   "execution_count": 9,
   "metadata": {},
   "outputs": [
    {
     "name": "stderr",
     "output_type": "stream",
     "text": [
      "c:\\users\\silvana\\documents\\github\\circulareconomy-massflowcalculator\\PV_ICE\\main.py:1130: RuntimeWarning: divide by zero encountered in true_divide\n",
      "  return (alpha/np.array(x)) * ((np.array(x)/beta)**alpha) * (np.exp(-(np.array(x)/beta)**alpha))\n",
      "c:\\users\\silvana\\documents\\github\\circulareconomy-massflowcalculator\\PV_ICE\\main.py:1130: RuntimeWarning: invalid value encountered in double_scalars\n",
      "  return (alpha/np.array(x)) * ((np.array(x)/beta)**alpha) * (np.exp(-(np.array(x)/beta)**alpha))\n"
     ]
    },
    {
     "data": {
      "text/plain": [
       "[nan,\n",
       " 0.0005181187237110884,\n",
       " 0.00145676320067946,\n",
       " 0.002662992009776714,\n",
       " 0.004077690839084213,\n",
       " 0.005661780755125835,\n",
       " 0.00738387462083499,\n",
       " 0.009215948490341784,\n",
       " 0.011131451850179401,\n",
       " 0.01310442114091319,\n",
       " 0.015109090463344155,\n",
       " 0.017119783319336838,\n",
       " 0.019110978837940745,\n",
       " 0.021057492930080607,\n",
       " 0.022934736779223513,\n",
       " 0.024719025990171766,\n",
       " 0.026387919424053358,\n",
       " 0.02792056992303453,\n",
       " 0.029298071099174733,\n",
       " 0.030503785825704118,\n",
       " 0.031523643407641404,\n",
       " 0.03234639383203807,\n",
       " 0.03296380911431851,\n",
       " 0.033370823608492424,\n",
       " 0.03356560723200979,\n",
       " 0.03354956783390183,\n",
       " 0.03332728134619002,\n",
       " 0.032906350824510086,\n",
       " 0.03229719791474788,\n",
       " 0.03151279258383587,\n",
       " 0.030568329031739044,\n",
       " 0.029480857472229186,\n",
       " 0.028268882858808846,\n",
       " 0.026951942582364174,\n",
       " 0.025550175642243968,\n",
       " 0.02408389577831389,\n",
       " 0.022573180557213628,\n",
       " 0.021037487463386493,\n",
       " 0.01949530670716247,\n",
       " 0.017963858798741936]"
      ]
     },
     "execution_count": 9,
     "metadata": {},
     "output_type": "execute_result"
    }
   ],
   "source": [
    "PV_ICE.main.weibull_pdf_vis(2.4928, 30, xlim=40)"
   ]
  },
  {
   "cell_type": "code",
   "execution_count": 10,
   "metadata": {},
   "outputs": [
    {
     "data": {
      "text/plain": [
       "[0.0,\n",
       " 0.00020786769219860446,\n",
       " 0.0011694607231729215,\n",
       " 0.0032099777943431773,\n",
       " 0.006564744858571392,\n",
       " 0.011421745463288557,\n",
       " 0.017934273023796465,\n",
       " 0.026226139521245306,\n",
       " 0.03639397392250243,\n",
       " 0.048508196688295424,\n",
       " 0.06261338211055012,\n",
       " 0.0787283838782955,\n",
       " 0.0968464459950018,\n",
       " 0.11693544119715138,\n",
       " 0.13893833176370407,\n",
       " 0.16277391607759106,\n",
       " 0.18833790076863444,\n",
       " 0.21550431902548672,\n",
       " 0.24412729891802887,\n",
       " 0.2740431705009577,\n",
       " 0.3050728867766406,\n",
       " 0.33702472127114114,\n",
       " 0.3696971941670478,\n",
       " 0.4028821698588202,\n",
       " 0.4363680616874349,\n",
       " 0.4699430746868176,\n",
       " 0.5033984146008101,\n",
       " 0.5365313913014529,\n",
       " 0.5691483470675739,\n",
       " 0.6010673448848733,\n",
       " 0.6321205588285577,\n",
       " 0.6621563174208605,\n",
       " 0.691040761272244,\n",
       " 0.7186590879049389,\n",
       " 0.7449163689621491,\n",
       " 0.7697379375416318,\n",
       " 0.7930693556717635,\n",
       " 0.8148759835055772,\n",
       " 0.8351421822199449,\n",
       " 0.8538701915114191]"
      ]
     },
     "execution_count": 10,
     "metadata": {},
     "output_type": "execute_result"
    }
   ],
   "source": [
    "PV_ICE.main.weibull_cdf_vis(2.4928, 30, xlim=40)\n"
   ]
  },
  {
   "cell_type": "code",
   "execution_count": 11,
   "metadata": {
    "scrolled": true
   },
   "outputs": [
    {
     "name": "stderr",
     "output_type": "stream",
     "text": [
      "C:\\Users\\Silvana\\Anaconda3\\lib\\site-packages\\ipykernel_launcher.py:2: DeprecationWarning: \n",
      ".ix is deprecated. Please use\n",
      ".loc for label based indexing or\n",
      ".iloc for positional indexing\n",
      "\n",
      "See the documentation here:\n",
      "http://pandas.pydata.org/pandas-docs/stable/indexing.html#ix-indexer-is-deprecated\n",
      "  \n"
     ]
    },
    {
     "data": {
      "text/plain": [
       "[<matplotlib.lines.Line2D at 0x63632c6780>]"
      ]
     },
     "execution_count": 11,
     "metadata": {},
     "output_type": "execute_result"
    },
    {
     "data": {
      "image/png": "[encoded data removed]",
      "text/plain": [
       "<Figure size 432x288 with 1 Axes>"
      ]
     },
     "metadata": {
      "needs_background": "light"
     },
     "output_type": "display_data"
    }
   ],
   "source": [
    "foo = r1.scenario['base'].data\n",
    "plt.plot(foo.ix[0,'EOL_on_Year_0':'EOL_on_Year_39'])\n",
    "#plt.plot(r1.scenario['base'].data['EOL_on_Year_30']"
   ]
  },
  {
   "cell_type": "code",
   "execution_count": 12,
   "metadata": {},
   "outputs": [
    {
     "name": "stderr",
     "output_type": "stream",
     "text": [
      "C:\\Users\\Silvana\\Anaconda3\\lib\\site-packages\\ipykernel_launcher.py:2: DeprecationWarning: \n",
      ".ix is deprecated. Please use\n",
      ".loc for label based indexing or\n",
      ".iloc for positional indexing\n",
      "\n",
      "See the documentation here:\n",
      "http://pandas.pydata.org/pandas-docs/stable/indexing.html#ix-indexer-is-deprecated\n",
      "  \n"
     ]
    },
    {
     "data": {
      "text/plain": [
       "[<matplotlib.lines.Line2D at 0x6363795400>]"
      ]
     },
     "execution_count": 12,
     "metadata": {},
     "output_type": "execute_result"
    },
    {
     "data": {
      "image/png": "[encoded data removed]",
      "text/plain": [
       "<Figure size 432x288 with 1 Axes>"
      ]
     },
     "metadata": {
      "needs_background": "light"
     },
     "output_type": "display_data"
    }
   ],
   "source": [
    "foo = r1b.scenario['base'].data\n",
    "plt.plot(foo.ix[0,'EOL_on_Year_0':'EOL_on_Year_39'])\n",
    "#plt.plot(r1.scenario['base'].data['EOL_on_Year_30']"
   ]
  },
  {
   "cell_type": "code",
   "execution_count": 13,
   "metadata": {},
   "outputs": [
    {
     "name": "stderr",
     "output_type": "stream",
     "text": [
      "C:\\Users\\Silvana\\Anaconda3\\lib\\site-packages\\ipykernel_launcher.py:2: DeprecationWarning: \n",
      ".ix is deprecated. Please use\n",
      ".loc for label based indexing or\n",
      ".iloc for positional indexing\n",
      "\n",
      "See the documentation here:\n",
      "http://pandas.pydata.org/pandas-docs/stable/indexing.html#ix-indexer-is-deprecated\n",
      "  \n",
      "C:\\Users\\Silvana\\Anaconda3\\lib\\site-packages\\ipykernel_launcher.py:4: DeprecationWarning: \n",
      ".ix is deprecated. Please use\n",
      ".loc for label based indexing or\n",
      ".iloc for positional indexing\n",
      "\n",
      "See the documentation here:\n",
      "http://pandas.pydata.org/pandas-docs/stable/indexing.html#ix-indexer-is-deprecated\n",
      "  after removing the cwd from sys.path.\n"
     ]
    },
    {
     "data": {
      "text/plain": [
       "36.413780348480486"
      ]
     },
     "execution_count": 13,
     "metadata": {},
     "output_type": "execute_result"
    },
    {
     "data": {
      "image/png": "[encoded data removed]",
      "text/plain": [
       "<Figure size 432x288 with 1 Axes>"
      ]
     },
     "metadata": {
      "needs_background": "light"
     },
     "output_type": "display_data"
    }
   ],
   "source": [
    "foo = r1c.scenario['base'].data\n",
    "plt.plot(foo.ix[0,'EOL_on_Year_0':'EOL_on_Year_39'])\n",
    "#plt.plot(r1.scenario['base'].data['EOL_on_Year_30']\n",
    "max(foo.ix[0,'EOL_on_Year_0':'EOL_on_Year_39'])\n"
   ]
  },
  {
   "cell_type": "code",
   "execution_count": 14,
   "metadata": {},
   "outputs": [
    {
     "data": {
      "text/plain": [
       "year\n",
       "1985     0.000000\n",
       "1986     0.225443\n",
       "1987     1.512139\n",
       "1988     5.123797\n",
       "1989    12.745806\n",
       "Name: WasteAll_WAMBACH_PV_ICE_base_[Tonnes], dtype: float64"
      ]
     },
     "execution_count": 14,
     "metadata": {},
     "output_type": "execute_result"
    }
   ],
   "source": [
    "pvice_Uscum1['WasteAll_WAMBACH_PV_ICE_base_[Tonnes]'].head()"
   ]
  },
  {
   "cell_type": "code",
   "execution_count": 15,
   "metadata": {},
   "outputs": [
    {
     "data": {
      "text/plain": [
       "year\n",
       "2026    4.747500e+05\n",
       "2027    5.953017e+05\n",
       "2028    7.372070e+05\n",
       "2029    9.031628e+05\n",
       "2030    1.096541e+06\n",
       "Name: WasteAll_WAMBACH_PV_ICE_base_[Tonnes], dtype: float64"
      ]
     },
     "execution_count": 15,
     "metadata": {},
     "output_type": "execute_result"
    }
   ],
   "source": [
    "pvice_Uscum1c['WasteAll_WAMBACH_PV_ICE_base_[Tonnes]'].tail()"
   ]
  },
  {
   "cell_type": "code",
   "execution_count": 16,
   "metadata": {},
   "outputs": [
    {
     "ename": "SyntaxError",
     "evalue": "invalid syntax (<ipython-input-16-6f5ccaa6769c>, line 1)",
     "output_type": "error",
     "traceback": [
      "\u001b[1;36m  File \u001b[1;32m\"<ipython-input-16-6f5ccaa6769c>\"\u001b[1;36m, line \u001b[1;32m1\u001b[0m\n\u001b[1;33m    wambachResults = [2019 66,335\u001b[0m\n\u001b[1;37m                            ^\u001b[0m\n\u001b[1;31mSyntaxError\u001b[0m\u001b[1;31m:\u001b[0m invalid syntax\n"
     ]
    }
   ],
   "source": [
    "wambachResults = [2019 66,335\n",
    "2020\t92,362\n",
    "2021\t126,148\n",
    "2022\t169,008\n",
    "2023\t224,393\n",
    "2024\t293,597\n",
    "2025\t378,725\n",
    "2026\t481,696\n",
    "2027\t604,955\n",
    "2028\t749,954\n",
    "2029\t919,283\n",
    "2030\t1,116,586\n"
   ]
  },
  {
   "cell_type": "code",
   "execution_count": 17,
   "metadata": {},
   "outputs": [],
   "source": [
    "import matplotlib.pyplot as plt"
   ]
  },
  {
   "cell_type": "markdown",
   "metadata": {},
   "source": [
    "# R1: EL\n",
    "# R2: RL\n",
    "# R3: PV ICE"
   ]
  },
  {
   "cell_type": "code",
   "execution_count": 18,
   "metadata": {},
   "outputs": [
    {
     "name": "stdout",
     "output_type": "stream",
     "text": [
      "path = C:\\Users\\Silvana\\Documents\\GitHub\\CircularEconomy-MassFlowCalculator\\PV_ICE\\TEMP\\ElectricFutures\n",
      "Using Irena Early Loss Assumptions\n",
      "Using Irena Regular Loss Assumptions\n",
      "Working on Scenario:  IrenaEL\n",
      "********************\n",
      "Warning, this is for special debuging of Wambach Procedure.Make sure to use Wambach Module\n",
      "Finished Area+Power Generation Calculations\n",
      "==> Working on Material :  WAMBACH\n",
      "Working on Scenario:  IrenaRL\n",
      "********************\n",
      "Warning, this is for special debuging of Wambach Procedure.Make sure to use Wambach Module\n",
      "Finished Area+Power Generation Calculations\n",
      "==> Working on Material :  WAMBACH\n",
      "Working on Scenario:  base\n",
      "********************\n",
      "Warning, this is for special debuging of Wambach Procedure.Make sure to use Wambach Module\n",
      "Finished Area+Power Generation Calculations\n",
      "==> Working on Material :  WAMBACH\n"
     ]
    }
   ],
   "source": [
    "r1 = PV_ICE.Simulation(name='PV_ICE', path=testfolder)\n",
    "r1.createScenario(name='IrenaEL', file=MODULEBASELINE)\n",
    "r1.createScenario(name='IrenaRL', file=MODULEBASELINE)\n",
    "r1.createScenario(name='base', file=MODULEBASELINE)\n",
    "r1.scenario['IrenaEL'].addMaterials(MATERIALS, r'..\\..\\baselines')\n",
    "r1.scenMod_IRENIFY('IrenaEL', ELorRL = 'EL' )\n",
    "r1.scenario['IrenaRL'].addMaterials(MATERIALS, r'..\\..\\baselines')\n",
    "r1.scenMod_IRENIFY('IrenaRL', ELorRL = 'RL' )\n",
    "r1.scenario['base'].addMaterials(MATERIALS, r'..\\..\\baselines')\n",
    "\n",
    "r1.calculateMassFlow(m3=True)\n",
    "\n",
    "pvice_Usyearly1, pvice_Uscum1 = r1.aggregateResults()\n",
    "\n",
    "pvice_Usyearly1 *= 1000000\n",
    "pvice_Uscum1 *= 1000000\n",
    "\n",
    "#USCum = pd.concat([pvice_Uscum1, pvice_Uscum2, pvice_Uscum3], axis=1)\n",
    "#USYearly = pd.concat([pvice_Usyearly1, pvice_Usyearly2, pvice_Usyearly3], axis=1)\n",
    "\n",
    "pvice_Uscum1.to_csv('pvice_USCum_WAMBACH.csv')\n",
    "pvice_Usyearly1.to_csv('pvice_USYearly_WAMBACH.csv')\n"
   ]
  },
  {
   "cell_type": "code",
   "execution_count": 19,
   "metadata": {},
   "outputs": [
    {
     "data": {
      "text/plain": [
       "41    {'alpha': 2.4928, 'beta': 30.0}\n",
       "42    {'alpha': 2.4928, 'beta': 30.0}\n",
       "43    {'alpha': 2.4928, 'beta': 30.0}\n",
       "44    {'alpha': 2.4928, 'beta': 30.0}\n",
       "45    {'alpha': 2.4928, 'beta': 30.0}\n",
       "Name: WeibullParams, dtype: object"
      ]
     },
     "execution_count": 19,
     "metadata": {},
     "output_type": "execute_result"
    }
   ],
   "source": [
    "r1.scenario['IrenaEL'].data['WeibullParams'].tail()"
   ]
  },
  {
   "cell_type": "code",
   "execution_count": 20,
   "metadata": {},
   "outputs": [
    {
     "data": {
      "text/plain": [
       "41    {'alpha': 5.3759, 'beta': 30.0}\n",
       "42    {'alpha': 5.3759, 'beta': 30.0}\n",
       "43    {'alpha': 5.3759, 'beta': 30.0}\n",
       "44    {'alpha': 5.3759, 'beta': 30.0}\n",
       "45    {'alpha': 5.3759, 'beta': 30.0}\n",
       "Name: WeibullParams, dtype: object"
      ]
     },
     "execution_count": 20,
     "metadata": {},
     "output_type": "execute_result"
    }
   ],
   "source": [
    "r1.scenario['IrenaRL'].data['WeibullParams'].tail()"
   ]
  },
  {
   "cell_type": "code",
   "execution_count": 21,
   "metadata": {},
   "outputs": [
    {
     "data": {
      "text/plain": [
       "41    {'alpha': 8.509762505705414, 'beta': 34.452351...\n",
       "42    {'alpha': 12.596192434998898, 'beta': 41.18098...\n",
       "43    {'alpha': 12.596192434998898, 'beta': 41.18098...\n",
       "44    {'alpha': 12.596192434998898, 'beta': 41.18098...\n",
       "45    {'alpha': 12.596192434998898, 'beta': 41.18098...\n",
       "Name: WeibullParams, dtype: object"
      ]
     },
     "execution_count": 21,
     "metadata": {},
     "output_type": "execute_result"
    }
   ],
   "source": [
    "r1.scenario['base'].data['WeibullParams'].tail()"
   ]
  },
  {
   "cell_type": "code",
   "execution_count": 22,
   "metadata": {},
   "outputs": [],
   "source": [
    "'''\n",
    "r1.createScenario(name='base', file=MODULEBASELINE)\n",
    "r1.scenario['base'].addMaterials(MATERIALS, r'..\\..\\baselines')\n",
    "r1.scenMod_IRENIFY('base', ELorRL = 'EL' )\n",
    "\n",
    "r2 = PV_ICE.Simulation(name='PV_ICE', path=testfolder)\n",
    "r2.createScenario(name='base', file=MODULEBASELINE)\n",
    "r2.scenario['base'].addMaterials(MATERIALS, r'..\\..\\baselines')\n",
    "r2.scenMod_IRENIFY('base', ELorRL = 'RL' )\n",
    "\n",
    "r3 = PV_ICE.Simulation(name='PV_ICE', path=testfolder)\n",
    "r3.createScenario(name='base', file=MODULEBASELINE)\n",
    "r3.scenario['base'].addMaterials(MATERIALS, r'..\\..\\baselines')\n",
    "\n",
    "\n",
    "r1.calculateMassFlow(m3=True)\n",
    "r2.calculateMassFlow(m3=True)\n",
    "r3.calculateMassFlow(m3=True)\n",
    "\n",
    "scenarios = ['base']\n",
    "\n",
    "pvice_Usyearly1, pvice_Uscum1 = r1.aggregateResults()\n",
    "pvice_Usyearly2, pvice_Uscum2 = r2.aggregateResults()\n",
    "pvice_Usyearly3, pvice_Uscum3 = r3.aggregateResults()\n",
    "\n",
    "pvice_Usyearly1 *= 1000000\n",
    "pvice_Uscum1 *= 1000000\n",
    "pvice_Usyearly2 *= 1000000\n",
    "pvice_Uscum2 *= 1000000\n",
    "pvice_Usyearly3 *= 1000000\n",
    "pvice_Uscum3 *= 1000000\n",
    "\n",
    "USCum = pd.concat([pvice_Uscum1, pvice_Uscum2, pvice_Uscum3], axis=1)\n",
    "USYearly = pd.concat([pvice_Usyearly1, pvice_Usyearly2, pvice_Usyearly3], axis=1)\n",
    "\n",
    "USCum.to_csv('pvice_USCum_WAMBACH.csv')\n",
    "USYearly.to_csv('pvice_USYearly_WAMBACH.csv')\n",
    "\n",
    "\n",
    "''';"
   ]
  },
  {
   "cell_type": "code",
   "execution_count": 24,
   "metadata": {},
   "outputs": [
    {
     "ename": "ModuleNotFoundError",
     "evalue": "No module named 'plotly'",
     "output_type": "error",
     "traceback": [
      "\u001b[1;31m---------------------------------------------------------------------------\u001b[0m",
      "\u001b[1;31mModuleNotFoundError\u001b[0m                       Traceback (most recent call last)",
      "\u001b[1;32m<ipython-input-24-c2965c81f486>\u001b[0m in \u001b[0;36m<module>\u001b[1;34m\u001b[0m\n\u001b[1;32m----> 1\u001b[1;33m \u001b[0mr1\u001b[0m\u001b[1;33m.\u001b[0m\u001b[0mplotMetricResults\u001b[0m\u001b[1;33m(\u001b[0m\u001b[1;33m)\u001b[0m\u001b[1;33m\u001b[0m\u001b[1;33m\u001b[0m\u001b[0m\n\u001b[0m",
      "\u001b[1;32mc:\\users\\silvana\\documents\\github\\circulareconomy-massflowcalculator\\PV_ICE\\main.py\u001b[0m in \u001b[0;36mplotMetricResults\u001b[1;34m(self)\u001b[0m\n\u001b[0;32m    832\u001b[0m \u001b[1;33m\u001b[0m\u001b[0m\n\u001b[0;32m    833\u001b[0m     \u001b[1;32mdef\u001b[0m \u001b[0mplotMetricResults\u001b[0m\u001b[1;33m(\u001b[0m\u001b[0mself\u001b[0m\u001b[1;33m)\u001b[0m\u001b[1;33m:\u001b[0m\u001b[1;33m\u001b[0m\u001b[1;33m\u001b[0m\u001b[0m\n\u001b[1;32m--> 834\u001b[1;33m         \u001b[1;32mfrom\u001b[0m \u001b[0mplotly\u001b[0m\u001b[1;33m.\u001b[0m\u001b[0msubplots\u001b[0m \u001b[1;32mimport\u001b[0m \u001b[0mmake_subplots\u001b[0m\u001b[1;33m\u001b[0m\u001b[1;33m\u001b[0m\u001b[0m\n\u001b[0m\u001b[0;32m    835\u001b[0m        \u001b[1;31m# import plotly.graph_objects as go\u001b[0m\u001b[1;33m\u001b[0m\u001b[1;33m\u001b[0m\u001b[1;33m\u001b[0m\u001b[0m\n\u001b[0;32m    836\u001b[0m \u001b[1;33m\u001b[0m\u001b[0m\n",
      "\u001b[1;31mModuleNotFoundError\u001b[0m: No module named 'plotly'"
     ]
    }
   ],
   "source": [
    "r1.plotMetricResults()"
   ]
  },
  {
   "cell_type": "code",
   "execution_count": null,
   "metadata": {},
   "outputs": [],
   "source": []
  },
  {
   "cell_type": "code",
   "execution_count": null,
   "metadata": {},
   "outputs": [],
   "source": [
    "plt.plot(pvice_Usyearly1['VirginStock_Module_PV_ICE_base_[Tonnes]'])\n",
    "plt.plot(pvice_Usyearly2['VirginStock_WAMBACH_PV_ICE_base_[Tonnes]'])\n",
    "plt.plot(pvice_Usyearly3['VirginStock_WAMBACH_PV_ICE_base_[Tonnes]'])\n",
    "plt.ylabel('Metric Tonnes')"
   ]
  },
  {
   "cell_type": "code",
   "execution_count": null,
   "metadata": {},
   "outputs": [],
   "source": [
    "plt.plot(pvice_Usyearly1['WasteMFG_WAMBACH_PV_ICE_base_[Tonnes]'])\n",
    "plt.plot(pvice_Usyearly2['WasteMFG_WAMBACH_PV_ICE_base_[Tonnes]'])\n",
    "plt.plot(pvice_Usyearly3['WasteMFG_WAMBACH_PV_ICE_base_[Tonnes]'])\n",
    "plt.ylabel('Metric Tonnes')"
   ]
  },
  {
   "cell_type": "code",
   "execution_count": null,
   "metadata": {},
   "outputs": [],
   "source": [
    "plt.rcParams.update({'font.size': 15})\n",
    "plt.rcParams['figure.figsize'] = (12, 5)"
   ]
  },
  {
   "cell_type": "code",
   "execution_count": null,
   "metadata": {},
   "outputs": [],
   "source": [
    "fig, (a0,a1,a2,a3) = plt.subplots(1,4, figsize=(20, 6), facecolor='w', edgecolor='k')\n",
    "fig.subplots_adjust(hspace = .2, wspace=.4)\n",
    "\n",
    "a0.plot(pvice_Usyearly1['WasteAll_WAMBACH_PV_ICE_base_[Tonnes]'], label='EL')\n",
    "a0.plot(pvice_Usyearly2['WasteAll_WAMBACH_PV_ICE_base_[Tonnes]'], label='RL')\n",
    "a0.plot(pvice_Usyearly3['WasteAll_WAMBACH_PV_ICE_base_[Tonnes]'], label='PV_ICE')\n",
    "a0.legend()\n",
    "#a0.set_yscale('log')\n",
    "a0.set_title('Yearly')\n",
    "a0.set_ylabel('EOL Waste [Metric Tonnes]')\n",
    "\n",
    "a1.plot(pvice_Usyearly1['WasteAll_WAMBACH_PV_ICE_base_[Tonnes]'], label='EL')\n",
    "a1.plot(pvice_Usyearly2['WasteAll_WAMBACH_PV_ICE_base_[Tonnes]'], label='RL')\n",
    "a1.plot(pvice_Usyearly3['WasteAll_WAMBACH_PV_ICE_base_[Tonnes]'], label='PV_ICE')\n",
    "a1.legend()\n",
    "a1.set_yscale('log')\n",
    "a1.set_title('Yearly LOG')\n",
    "a1.set_ylabel('EOL Waste [Metric Tonnes]')\n",
    "\n",
    "\n",
    "a2.plot(pvice_Uscum1['WasteAll_WAMBACH_PV_ICE_base_[Tonnes]'], label='EL')\n",
    "a2.plot(pvice_Uscum2['WasteAll_WAMBACH_PV_ICE_base_[Tonnes]'], label='RL')\n",
    "a2.plot(pvice_Uscum3['WasteAll_WAMBACH_PV_ICE_base_[Tonnes]'], label='PV_ICE')\n",
    "a2.legend()\n",
    "a2.set_title('Cumulative')\n",
    "a2.set_ylabel('EOL Waste [Metric Tonnes]')\n",
    "\n",
    "\n",
    "a3.plot(pvice_Uscum1['WasteAll_WAMBACH_PV_ICE_base_[Tonnes]'], label='EL')\n",
    "a3.plot(pvice_Uscum2['WasteAll_WAMBACH_PV_ICE_base_[Tonnes]'], label='RL')\n",
    "a3.plot(pvice_Uscum3['WasteAll_WAMBACH_PV_ICE_base_[Tonnes]'], label='PV_ICE')\n",
    "a3.legend()\n",
    "a3.set_title('Cumulative LOG')\n",
    "a3.set_yscale('log')\n",
    "a3.set_ylabel('EOL Waste [Metric Tonnes]')\n"
   ]
  },
  {
   "cell_type": "code",
   "execution_count": null,
   "metadata": {},
   "outputs": [],
   "source": []
  },
  {
   "cell_type": "raw",
   "metadata": {},
   "source": []
  },
  {
   "cell_type": "code",
   "execution_count": null,
   "metadata": {},
   "outputs": [],
   "source": []
  },
  {
   "cell_type": "code",
   "execution_count": null,
   "metadata": {},
   "outputs": [],
   "source": [
    "foo.ix[0,'EOL_on_Year_0':'EOL_on_Year_30']"
   ]
  },
  {
   "cell_type": "code",
   "execution_count": null,
   "metadata": {},
   "outputs": [],
   "source": []
  },
  {
   "cell_type": "code",
   "execution_count": null,
   "metadata": {},
   "outputs": [],
   "source": [
    "pvice_Usyearly1c['WasteAll_Module_PV_ICE_base_[Tonnes]'].head()"
   ]
  },
  {
   "cell_type": "code",
   "execution_count": null,
   "metadata": {},
   "outputs": [],
   "source": [
    "fig, ax = \n",
    "WasteAll_WAMBACH_PV_ICE_base_"
   ]
  },
  {
   "cell_type": "code",
   "execution_count": null,
   "metadata": {},
   "outputs": [],
   "source": []
  }
 ],
 "metadata": {
  "kernelspec": {
   "display_name": "Python 3",
   "language": "python",
   "name": "python3"
  },
  "language_info": {
   "codemirror_mode": {
    "name": "ipython",
    "version": 3
   },
   "file_extension": ".py",
   "mimetype": "text/x-python",
   "name": "python",
   "nbconvert_exporter": "python",
   "pygments_lexer": "ipython3",
   "version": "3.7.3"
  }
 },
 "nbformat": 4,
 "nbformat_minor": 2
}
