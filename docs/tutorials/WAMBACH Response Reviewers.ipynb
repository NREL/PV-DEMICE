{
 "cells": [
  {
   "cell_type": "code",
   "execution_count": null,
   "metadata": {},
   "outputs": [],
   "source": [
    "import PV_ICE\n",
    "import matplotlib.pyplot as plt\n",
    "import pandas as pd\n",
    "import numpy as np\n",
    "import os\n",
    "from pathlib import Path\n",
    "\n",
    "testfolder = str(Path().resolve().parent.parent / 'PV_ICE' / 'TEMP' / 'ElectricFutures')\n",
    "\n",
    "# Another option using relative address; for some operative systems you might need '/' instead of '\\'\n",
    "# testfolder = os.path.abspath(r'..\\..\\PV_DEMICE\\TEMP')  \n",
    "\n",
    "print (\"Your simulation will be stored in %s\" % testfolder)\n",
    "\n"
   ]
  },
  {
   "cell_type": "code",
   "execution_count": null,
   "metadata": {},
   "outputs": [],
   "source": [
    "PV_ICE.__version__\n"
   ]
  },
  {
   "cell_type": "code",
   "execution_count": null,
   "metadata": {},
   "outputs": [],
   "source": [
    "MATERIALS = ['WAMBACH']\n",
    "MATERIAL = MATERIALS[0]\n",
    "\n",
    "MODULEBASELINE = r'C:\\Users\\Silvana\\Documents\\GitHub\\PRIVATE_Wambach_US_INSTALLS_2020.csv'\n",
    "#MODULEBASELINE = r'\\..\\..\\PRIVATE_Wambach_US_INSTALLS_2020.csv'\n"
   ]
  },
  {
   "cell_type": "code",
   "execution_count": null,
   "metadata": {},
   "outputs": [],
   "source": [
    "r1 = PV_ICE.Simulation(name='PV_ICE', path=testfolder)\n",
    "r1.createScenario(name='base', file=MODULEBASELINE)\n",
    "r1.scenario['base'].addMaterials(MATERIALS, r'..\\..\\baselines')\n",
    "r1.scenMod_IRENIFY('base', ELorRL = 'EL' )\n",
    "\n",
    "r1b = PV_ICE.Simulation(name='PV_ICE', path=testfolder)\n",
    "r1b.createScenario(name='base', file=MODULEBASELINE)\n",
    "r1b.scenario['base'].addMaterials(MATERIALS, r'..\\..\\baselines')\n",
    "r1b.scenMod_IRENIFY('base', ELorRL = 'EL' )\n",
    "r1c = PV_ICE.Simulation(name='PV_ICE', path=testfolder)\n",
    "r1c.createScenario(name='base', file=MODULEBASELINE)\n",
    "r1c.scenario['base'].addMaterials(MATERIALS, r'..\\..\\baselines')\n",
    "r1c.scenMod_IRENIFY('base', ELorRL = 'EL' )\n"
   ]
  },
  {
   "cell_type": "code",
   "execution_count": null,
   "metadata": {},
   "outputs": [],
   "source": [
    "r1.calculateMassFlow(m1=True)\n",
    "r1b.calculateMassFlow(m2=True)\n",
    "r1c.calculateMassFlow(m3=True)\n"
   ]
  },
  {
   "cell_type": "code",
   "execution_count": null,
   "metadata": {},
   "outputs": [],
   "source": [
    "objects = [r1, r2, r3]\n",
    "scenarios = ['base']\n",
    "\n",
    "pvice_Usyearly1, pvice_Uscum1 = r1.aggregateResults()\n",
    "pvice_Usyearly1b, pvice_Uscum1b = r1b.aggregateResults()\n",
    "pvice_Usyearly1c, pvice_Uscum1c = r1c.aggregateResults()\n",
    "\n",
    "pvice_Usyearly1 *= 1000000\n",
    "pvice_Uscum1 *= 1000000\n",
    "pvice_Usyearly1b *= 1000000\n",
    "pvice_Uscum1b *= 1000000\n",
    "pvice_Usyearly1c *= 1000000\n",
    "pvice_Uscum1c *= 1000000\n",
    "\n",
    "\n"
   ]
  },
  {
   "cell_type": "code",
   "execution_count": null,
   "metadata": {},
   "outputs": [],
   "source": [
    "pvice_Usyearly1.keys()"
   ]
  },
  {
   "cell_type": "code",
   "execution_count": null,
   "metadata": {},
   "outputs": [],
   "source": [
    "PV_ICE.main.weibull_pdf_vis(2.4928, 30, xlim=40)"
   ]
  },
  {
   "cell_type": "code",
   "execution_count": null,
   "metadata": {},
   "outputs": [],
   "source": [
    "PV_ICE.main.weibull_cdf_vis(2.4928, 30, xlim=40)\n"
   ]
  },
  {
   "cell_type": "code",
   "execution_count": null,
   "metadata": {
    "scrolled": true
   },
   "outputs": [],
   "source": [
    "foo = r1.scenario['base'].data\n",
    "plt.plot(foo.ix[0,'EOL_on_Year_0':'EOL_on_Year_39'])\n",
    "#plt.plot(r1.scenario['base'].data['EOL_on_Year_30']"
   ]
  },
  {
   "cell_type": "code",
   "execution_count": null,
   "metadata": {},
   "outputs": [],
   "source": [
    "foo = r1b.scenario['base'].data\n",
    "plt.plot(foo.ix[0,'EOL_on_Year_0':'EOL_on_Year_39'])\n",
    "#plt.plot(r1.scenario['base'].data['EOL_on_Year_30']"
   ]
  },
  {
   "cell_type": "code",
   "execution_count": null,
   "metadata": {},
   "outputs": [],
   "source": [
    "foo = r1c.scenario['base'].data\n",
    "plt.plot(foo.ix[0,'EOL_on_Year_0':'EOL_on_Year_39'])\n",
    "#plt.plot(r1.scenario['base'].data['EOL_on_Year_30']\n",
    "max(foo.ix[0,'EOL_on_Year_0':'EOL_on_Year_39'])\n"
   ]
  },
  {
   "cell_type": "code",
   "execution_count": null,
   "metadata": {},
   "outputs": [],
   "source": [
    "pvice_Uscum1['WasteAll_WAMBACH_PV_ICE_base_[Tonnes]'].head()"
   ]
  },
  {
   "cell_type": "code",
   "execution_count": null,
   "metadata": {},
   "outputs": [],
   "source": [
    "pvice_Uscum1c['WasteAll_WAMBACH_PV_ICE_base_[Tonnes]'].tail()"
   ]
  },
  {
   "cell_type": "code",
   "execution_count": null,
   "metadata": {},
   "outputs": [],
   "source": [
    "wambachResults = [2019 66,335\n",
    "2020\t92,362\n",
    "2021\t126,148\n",
    "2022\t169,008\n",
    "2023\t224,393\n",
    "2024\t293,597\n",
    "2025\t378,725\n",
    "2026\t481,696\n",
    "2027\t604,955\n",
    "2028\t749,954\n",
    "2029\t919,283\n",
    "2030\t1,116,586\n"
   ]
  },
  {
   "cell_type": "code",
   "execution_count": null,
   "metadata": {},
   "outputs": [],
   "source": [
    "import matplotlib.pyplot as plt"
   ]
  },
  {
   "cell_type": "markdown",
   "metadata": {},
   "source": [
    "# R1: EL\n",
    "# R2: RL\n",
    "# R3: PV ICE"
   ]
  },
  {
   "cell_type": "code",
   "execution_count": null,
   "metadata": {},
   "outputs": [],
   "source": [
    "r1 = PV_ICE.Simulation(name='PV_ICE', path=testfolder)\n",
    "r1.createScenario(name='IrenaEL', file=MODULEBASELINE)\n",
    "r1.createScenario(name='IrenaRL', file=MODULEBASELINE)\n",
    "r1.createScenario(name='base', file=MODULEBASELINE)\n",
    "r1.scenario['IrenaEL'].addMaterials(MATERIALS, r'..\\..\\baselines')\n",
    "r1.scenMod_IRENIFY('IrenaEL', ELorRL = 'EL' )\n",
    "r1.scenario['IrenaRL'].addMaterials(MATERIALS, r'..\\..\\baselines')\n",
    "r1.scenMod_IRENIFY('IrenaRL', ELorRL = 'RL' )\n",
    "r1.scenario['base'].addMaterials(MATERIALS, r'..\\..\\baselines')\n",
    "\n",
    "r1.calculateMassFlow(m3=True)\n",
    "\n",
    "pvice_Usyearly1, pvice_Uscum1 = r1.aggregateResults()\n",
    "\n",
    "pvice_Usyearly1 *= 1000000\n",
    "pvice_Uscum1 *= 1000000\n",
    "\n",
    "#USCum = pd.concat([pvice_Uscum1, pvice_Uscum2, pvice_Uscum3], axis=1)\n",
    "#USYearly = pd.concat([pvice_Usyearly1, pvice_Usyearly2, pvice_Usyearly3], axis=1)\n",
    "\n",
    "pvice_Uscum1.to_csv('pvice_USCum_WAMBACH.csv')\n",
    "pvice_Usyearly1.to_csv('pvice_USYearly_WAMBACH.csv')\n"
   ]
  },
  {
   "cell_type": "code",
   "execution_count": null,
   "metadata": {},
   "outputs": [],
   "source": [
    "r1.scenario['IrenaEL'].data['WeibullParams'].tail()"
   ]
  },
  {
   "cell_type": "code",
   "execution_count": null,
   "metadata": {},
   "outputs": [],
   "source": [
    "r1.scenario['IrenaRL'].data['WeibullParams'].tail()"
   ]
  },
  {
   "cell_type": "code",
   "execution_count": null,
   "metadata": {},
   "outputs": [],
   "source": [
    "r1.scenario['base'].data['WeibullParams'].tail()"
   ]
  },
  {
   "cell_type": "code",
   "execution_count": null,
   "metadata": {},
   "outputs": [],
   "source": [
    "'''\n",
    "r1.createScenario(name='base', file=MODULEBASELINE)\n",
    "r1.scenario['base'].addMaterials(MATERIALS, r'..\\..\\baselines')\n",
    "r1.scenMod_IRENIFY('base', ELorRL = 'EL' )\n",
    "\n",
    "r2 = PV_ICE.Simulation(name='PV_ICE', path=testfolder)\n",
    "r2.createScenario(name='base', file=MODULEBASELINE)\n",
    "r2.scenario['base'].addMaterials(MATERIALS, r'..\\..\\baselines')\n",
    "r2.scenMod_IRENIFY('base', ELorRL = 'RL' )\n",
    "\n",
    "r3 = PV_ICE.Simulation(name='PV_ICE', path=testfolder)\n",
    "r3.createScenario(name='base', file=MODULEBASELINE)\n",
    "r3.scenario['base'].addMaterials(MATERIALS, r'..\\..\\baselines')\n",
    "\n",
    "\n",
    "r1.calculateMassFlow(m3=True)\n",
    "r2.calculateMassFlow(m3=True)\n",
    "r3.calculateMassFlow(m3=True)\n",
    "\n",
    "scenarios = ['base']\n",
    "\n",
    "pvice_Usyearly1, pvice_Uscum1 = r1.aggregateResults()\n",
    "pvice_Usyearly2, pvice_Uscum2 = r2.aggregateResults()\n",
    "pvice_Usyearly3, pvice_Uscum3 = r3.aggregateResults()\n",
    "\n",
    "pvice_Usyearly1 *= 1000000\n",
    "pvice_Uscum1 *= 1000000\n",
    "pvice_Usyearly2 *= 1000000\n",
    "pvice_Uscum2 *= 1000000\n",
    "pvice_Usyearly3 *= 1000000\n",
    "pvice_Uscum3 *= 1000000\n",
    "\n",
    "USCum = pd.concat([pvice_Uscum1, pvice_Uscum2, pvice_Uscum3], axis=1)\n",
    "USYearly = pd.concat([pvice_Usyearly1, pvice_Usyearly2, pvice_Usyearly3], axis=1)\n",
    "\n",
    "USCum.to_csv('pvice_USCum_WAMBACH.csv')\n",
    "USYearly.to_csv('pvice_USYearly_WAMBACH.csv')\n",
    "\n",
    "\n",
    "''';"
   ]
  },
  {
   "cell_type": "code",
   "execution_count": null,
   "metadata": {},
   "outputs": [],
   "source": [
    "r1.plotMetricResults()"
   ]
  },
  {
   "cell_type": "code",
   "execution_count": null,
   "metadata": {},
   "outputs": [],
   "source": []
  },
  {
   "cell_type": "code",
   "execution_count": null,
   "metadata": {},
   "outputs": [],
   "source": [
    "plt.plot(pvice_Usyearly1['VirginStock_Module_PV_ICE_base_[Tonnes]'])\n",
    "plt.plot(pvice_Usyearly2['VirginStock_WAMBACH_PV_ICE_base_[Tonnes]'])\n",
    "plt.plot(pvice_Usyearly3['VirginStock_WAMBACH_PV_ICE_base_[Tonnes]'])\n",
    "plt.ylabel('Metric Tonnes')"
   ]
  },
  {
   "cell_type": "code",
   "execution_count": null,
   "metadata": {},
   "outputs": [],
   "source": [
    "plt.plot(pvice_Usyearly1['WasteMFG_WAMBACH_PV_ICE_base_[Tonnes]'])\n",
    "plt.plot(pvice_Usyearly2['WasteMFG_WAMBACH_PV_ICE_base_[Tonnes]'])\n",
    "plt.plot(pvice_Usyearly3['WasteMFG_WAMBACH_PV_ICE_base_[Tonnes]'])\n",
    "plt.ylabel('Metric Tonnes')"
   ]
  },
  {
   "cell_type": "code",
   "execution_count": null,
   "metadata": {},
   "outputs": [],
   "source": [
    "plt.rcParams.update({'font.size': 15})\n",
    "plt.rcParams['figure.figsize'] = (12, 5)"
   ]
  },
  {
   "cell_type": "code",
   "execution_count": null,
   "metadata": {},
   "outputs": [],
   "source": [
    "fig, (a0,a1,a2,a3) = plt.subplots(1,4, figsize=(20, 6), facecolor='w', edgecolor='k')\n",
    "fig.subplots_adjust(hspace = .2, wspace=.4)\n",
    "\n",
    "a0.plot(pvice_Usyearly1['WasteAll_WAMBACH_PV_ICE_base_[Tonnes]'], label='EL')\n",
    "a0.plot(pvice_Usyearly2['WasteAll_WAMBACH_PV_ICE_base_[Tonnes]'], label='RL')\n",
    "a0.plot(pvice_Usyearly3['WasteAll_WAMBACH_PV_ICE_base_[Tonnes]'], label='PV_ICE')\n",
    "a0.legend()\n",
    "#a0.set_yscale('log')\n",
    "a0.set_title('Yearly')\n",
    "a0.set_ylabel('EOL Waste [Metric Tonnes]')\n",
    "\n",
    "a1.plot(pvice_Usyearly1['WasteAll_WAMBACH_PV_ICE_base_[Tonnes]'], label='EL')\n",
    "a1.plot(pvice_Usyearly2['WasteAll_WAMBACH_PV_ICE_base_[Tonnes]'], label='RL')\n",
    "a1.plot(pvice_Usyearly3['WasteAll_WAMBACH_PV_ICE_base_[Tonnes]'], label='PV_ICE')\n",
    "a1.legend()\n",
    "a1.set_yscale('log')\n",
    "a1.set_title('Yearly LOG')\n",
    "a1.set_ylabel('EOL Waste [Metric Tonnes]')\n",
    "\n",
    "\n",
    "a2.plot(pvice_Uscum1['WasteAll_WAMBACH_PV_ICE_base_[Tonnes]'], label='EL')\n",
    "a2.plot(pvice_Uscum2['WasteAll_WAMBACH_PV_ICE_base_[Tonnes]'], label='RL')\n",
    "a2.plot(pvice_Uscum3['WasteAll_WAMBACH_PV_ICE_base_[Tonnes]'], label='PV_ICE')\n",
    "a2.legend()\n",
    "a2.set_title('Cumulative')\n",
    "a2.set_ylabel('EOL Waste [Metric Tonnes]')\n",
    "\n",
    "\n",
    "a3.plot(pvice_Uscum1['WasteAll_WAMBACH_PV_ICE_base_[Tonnes]'], label='EL')\n",
    "a3.plot(pvice_Uscum2['WasteAll_WAMBACH_PV_ICE_base_[Tonnes]'], label='RL')\n",
    "a3.plot(pvice_Uscum3['WasteAll_WAMBACH_PV_ICE_base_[Tonnes]'], label='PV_ICE')\n",
    "a3.legend()\n",
    "a3.set_title('Cumulative LOG')\n",
    "a3.set_yscale('log')\n",
    "a3.set_ylabel('EOL Waste [Metric Tonnes]')\n"
   ]
  },
  {
   "cell_type": "code",
   "execution_count": null,
   "metadata": {},
   "outputs": [],
   "source": []
  },
  {
   "cell_type": "raw",
   "metadata": {},
   "source": []
  },
  {
   "cell_type": "code",
   "execution_count": null,
   "metadata": {},
   "outputs": [],
   "source": []
  },
  {
   "cell_type": "code",
   "execution_count": null,
   "metadata": {},
   "outputs": [],
   "source": [
    "foo.ix[0,'EOL_on_Year_0':'EOL_on_Year_30']"
   ]
  },
  {
   "cell_type": "code",
   "execution_count": null,
   "metadata": {},
   "outputs": [],
   "source": []
  },
  {
   "cell_type": "code",
   "execution_count": null,
   "metadata": {},
   "outputs": [],
   "source": [
    "pvice_Usyearly1c['WasteAll_Module_PV_ICE_base_[Tonnes]'].head()"
   ]
  },
  {
   "cell_type": "code",
   "execution_count": null,
   "metadata": {},
   "outputs": [],
   "source": [
    "fig, ax = \n",
    "WasteAll_WAMBACH_PV_ICE_base_"
   ]
  },
  {
   "cell_type": "code",
   "execution_count": null,
   "metadata": {},
   "outputs": [],
   "source": []
  }
 ],
 "metadata": {
  "kernelspec": {
   "display_name": "Python 3",
   "language": "python",
   "name": "python3"
  },
  "language_info": {
   "codemirror_mode": {
    "name": "ipython",
    "version": 3
   },
   "file_extension": ".py",
   "mimetype": "text/x-python",
   "name": "python",
   "nbconvert_exporter": "python",
   "pygments_lexer": "ipython3",
   "version": "3.7.3"
  }
 },
 "nbformat": 4,
 "nbformat_minor": 2
}
