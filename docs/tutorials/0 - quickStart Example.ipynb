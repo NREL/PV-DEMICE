{
 "cells": [
  {
   "cell_type": "markdown",
   "metadata": {
    "slideshow": {
     "slide_type": "slide"
    }
   },
   "source": [
    "# 0 - quickStart Example"
   ]
  },
  {
   "cell_type": "markdown",
   "metadata": {
    "slideshow": {
     "slide_type": "subslide"
    }
   },
   "source": [
    "#### 1. Create a folder for your simulation, and load PV_DEMICE\n",
    "\n",
    "First let's set the folder where the simulation will be saved. By default, this is the TEMP folder in the PV_DEMICE distribution.\n",
    "\n",
    "The lines below find the location of the folder relative to this Jupyter Journal. You can alternatively point to an empty directory (it will open a load GUI Visual Interface) or specify any other directory in your computer, for example:\n",
    "\n"
   ]
  },
  {
   "cell_type": "code",
   "execution_count": 1,
   "metadata": {
    "slideshow": {
     "slide_type": "subslide"
    }
   },
   "outputs": [
    {
     "name": "stdout",
     "output_type": "stream",
     "text": [
      "Your simulation will be stored in C:\\Users\\sayala\\Documents\\GitHub\\CircularEconomy-MassFlowCalculator\\PV_DEMICE\\TEMP\n"
     ]
    }
   ],
   "source": [
    "import os\n",
    "from pathlib import Path\n",
    "\n",
    "testfolder = str(Path().resolve().parent.parent / 'PV_DEMICE' / 'TEMP')\n",
    "\n",
    "# Another option using relative address; for some operative systems you might need '/' instead of '\\'\n",
    "# testfolder = os.path.abspath(r'..\\..\\PV_DEMICE\\TEMP')  \n",
    "\n",
    "print (\"Your simulation will be stored in %s\" % testfolder)"
   ]
  },
  {
   "cell_type": "code",
   "execution_count": 2,
   "metadata": {
    "slideshow": {
     "slide_type": "subslide"
    }
   },
   "outputs": [],
   "source": [
    "import PV_ICE"
   ]
  },
  {
   "cell_type": "markdown",
   "metadata": {
    "slideshow": {
     "slide_type": "slide"
    }
   },
   "source": [
    "### 2. Create your Simulation Object\n",
    "\n",
    "This will create the container for all the different scenario(s) you might want to test. We are also pointing to the testfolder defined above."
   ]
  },
  {
   "cell_type": "code",
   "execution_count": 3,
   "metadata": {},
   "outputs": [
    {
     "name": "stdout",
     "output_type": "stream",
     "text": [
      "path = C:\\Users\\blond\\Documents\\GitHub\\CircularEconomy-MassFlowCalculator\\PV_DEMICE\\TEMP\n"
     ]
    }
   ],
   "source": [
    "r1 = PV_DEMICE.Simulation(name='Simulation1', path=testfolder)"
   ]
  },
  {
   "cell_type": "markdown",
   "metadata": {},
   "source": [
    "### 3. Specify your baseline Scenario \n",
    "\n",
    "We have put together scenarios representing the average module for various situations, for example throughout the US history. We will load this baseline scenario now, and it will be named ``standard``:"
   ]
  },
  {
   "cell_type": "code",
   "execution_count": 4,
   "metadata": {},
   "outputs": [],
   "source": [
    "r1.createScenario(name='standard', file=r'..\\baselines\\baseline_modules_US.csv')"
   ]
  },
  {
   "cell_type": "markdown",
   "metadata": {},
   "source": [
    "If a file is not provided, the automatic file loader will pop-up.\n",
    "\n",
    "\n",
    "\n",
    "### 4. Specify material(s)\n",
    "\n",
    "We will add the material 'glass' to our simulation. Years of data must match, and they do if using the provided baselines."
   ]
  },
  {
   "cell_type": "code",
   "execution_count": 5,
   "metadata": {},
   "outputs": [],
   "source": [
    "r1.scenario['standard'].addMaterial('glass', file=r'..\\baselines\\baseline_material_glass.csv')"
   ]
  },
  {
   "cell_type": "markdown",
   "metadata": {},
   "source": [
    "### 5. Run the Mass Flow with Circular Pathways Calculations"
   ]
  },
  {
   "cell_type": "code",
   "execution_count": 6,
   "metadata": {},
   "outputs": [
    {
     "name": "stdout",
     "output_type": "stream",
     "text": [
      "Working on Scenario:  standard\n",
      "********************\n",
      "Finished Area+Power Generation Calculations\n",
      "==> Working on Material :  glass\n"
     ]
    }
   ],
   "source": [
    "r1.calculateMassFlow()"
   ]
  },
  {
   "cell_type": "code",
   "execution_count": 7,
   "metadata": {},
   "outputs": [
    {
     "data": {
      "text/html": [
       "<div>\n",
       "<style scoped>\n",
       "    .dataframe tbody tr th:only-of-type {\n",
       "        vertical-align: middle;\n",
       "    }\n",
       "\n",
       "    .dataframe tbody tr th {\n",
       "        vertical-align: top;\n",
       "    }\n",
       "\n",
       "    .dataframe thead th {\n",
       "        text-align: right;\n",
       "    }\n",
       "</style>\n",
       "<table border=\"1\" class=\"dataframe\">\n",
       "  <thead>\n",
       "    <tr style=\"text-align: right;\">\n",
       "      <th></th>\n",
       "      <th>year</th>\n",
       "      <th>new_Installed_Capacity_[MW]</th>\n",
       "      <th>mod_eff</th>\n",
       "      <th>mod_reliability_t50</th>\n",
       "      <th>mod_reliability_t90</th>\n",
       "      <th>mod_degradation</th>\n",
       "      <th>mod_lifetime</th>\n",
       "      <th>mod_MFG_eff</th>\n",
       "      <th>mod_EOL_collection_eff</th>\n",
       "      <th>mod_EOL_collected_recycled</th>\n",
       "      <th>...</th>\n",
       "      <th>EOL_on_Year_50</th>\n",
       "      <th>EOL_on_Year_51</th>\n",
       "      <th>EOL_on_Year_52</th>\n",
       "      <th>EOL_on_Year_53</th>\n",
       "      <th>EOL_on_Year_54</th>\n",
       "      <th>EOL_on_Year_55</th>\n",
       "      <th>EoL_Collected</th>\n",
       "      <th>EoL_NotCollected</th>\n",
       "      <th>EoL_Recycled</th>\n",
       "      <th>EoL_NotRecycled_Landfilled</th>\n",
       "    </tr>\n",
       "  </thead>\n",
       "  <tbody>\n",
       "    <tr>\n",
       "      <th>0</th>\n",
       "      <td>1995</td>\n",
       "      <td>66.8</td>\n",
       "      <td>9.5</td>\n",
       "      <td>15.0</td>\n",
       "      <td>20.0</td>\n",
       "      <td>0.55</td>\n",
       "      <td>10.0</td>\n",
       "      <td>95.0</td>\n",
       "      <td>15.0</td>\n",
       "      <td>40.0</td>\n",
       "      <td>...</td>\n",
       "      <td>0.0</td>\n",
       "      <td>0.0</td>\n",
       "      <td>0.0</td>\n",
       "      <td>0.0</td>\n",
       "      <td>0.0</td>\n",
       "      <td>0.0</td>\n",
       "      <td>0.000000</td>\n",
       "      <td>0.000000</td>\n",
       "      <td>0.000000</td>\n",
       "      <td>0.000000</td>\n",
       "    </tr>\n",
       "    <tr>\n",
       "      <th>1</th>\n",
       "      <td>1996</td>\n",
       "      <td>76.5</td>\n",
       "      <td>10.1</td>\n",
       "      <td>15.0</td>\n",
       "      <td>20.0</td>\n",
       "      <td>0.55</td>\n",
       "      <td>10.0</td>\n",
       "      <td>95.0</td>\n",
       "      <td>15.0</td>\n",
       "      <td>40.0</td>\n",
       "      <td>...</td>\n",
       "      <td>0.0</td>\n",
       "      <td>0.0</td>\n",
       "      <td>0.0</td>\n",
       "      <td>0.0</td>\n",
       "      <td>0.0</td>\n",
       "      <td>0.0</td>\n",
       "      <td>0.903530</td>\n",
       "      <td>5.120001</td>\n",
       "      <td>0.361412</td>\n",
       "      <td>0.542118</td>\n",
       "    </tr>\n",
       "    <tr>\n",
       "      <th>2</th>\n",
       "      <td>1997</td>\n",
       "      <td>88.2</td>\n",
       "      <td>10.7</td>\n",
       "      <td>16.0</td>\n",
       "      <td>21.0</td>\n",
       "      <td>0.55</td>\n",
       "      <td>15.0</td>\n",
       "      <td>95.0</td>\n",
       "      <td>15.0</td>\n",
       "      <td>40.0</td>\n",
       "      <td>...</td>\n",
       "      <td>0.0</td>\n",
       "      <td>0.0</td>\n",
       "      <td>0.0</td>\n",
       "      <td>0.0</td>\n",
       "      <td>0.0</td>\n",
       "      <td>0.0</td>\n",
       "      <td>17.272053</td>\n",
       "      <td>97.874968</td>\n",
       "      <td>6.908821</td>\n",
       "      <td>10.363232</td>\n",
       "    </tr>\n",
       "    <tr>\n",
       "      <th>3</th>\n",
       "      <td>1998</td>\n",
       "      <td>100.1</td>\n",
       "      <td>11.2</td>\n",
       "      <td>16.0</td>\n",
       "      <td>21.0</td>\n",
       "      <td>0.55</td>\n",
       "      <td>15.0</td>\n",
       "      <td>95.0</td>\n",
       "      <td>15.0</td>\n",
       "      <td>40.0</td>\n",
       "      <td>...</td>\n",
       "      <td>0.0</td>\n",
       "      <td>0.0</td>\n",
       "      <td>0.0</td>\n",
       "      <td>0.0</td>\n",
       "      <td>0.0</td>\n",
       "      <td>0.0</td>\n",
       "      <td>106.441060</td>\n",
       "      <td>603.166007</td>\n",
       "      <td>42.576424</td>\n",
       "      <td>63.864636</td>\n",
       "    </tr>\n",
       "    <tr>\n",
       "      <th>4</th>\n",
       "      <td>1999</td>\n",
       "      <td>117.3</td>\n",
       "      <td>11.8</td>\n",
       "      <td>17.0</td>\n",
       "      <td>22.0</td>\n",
       "      <td>0.55</td>\n",
       "      <td>15.0</td>\n",
       "      <td>95.0</td>\n",
       "      <td>15.0</td>\n",
       "      <td>40.0</td>\n",
       "      <td>...</td>\n",
       "      <td>0.0</td>\n",
       "      <td>0.0</td>\n",
       "      <td>0.0</td>\n",
       "      <td>0.0</td>\n",
       "      <td>0.0</td>\n",
       "      <td>0.0</td>\n",
       "      <td>397.937360</td>\n",
       "      <td>2254.978372</td>\n",
       "      <td>159.174944</td>\n",
       "      <td>238.762416</td>\n",
       "    </tr>\n",
       "  </tbody>\n",
       "</table>\n",
       "<p>5 rows × 78 columns</p>\n",
       "</div>"
      ],
      "text/plain": [
       "   year  new_Installed_Capacity_[MW]  mod_eff  mod_reliability_t50  \\\n",
       "0  1995                         66.8      9.5                 15.0   \n",
       "1  1996                         76.5     10.1                 15.0   \n",
       "2  1997                         88.2     10.7                 16.0   \n",
       "3  1998                        100.1     11.2                 16.0   \n",
       "4  1999                        117.3     11.8                 17.0   \n",
       "\n",
       "   mod_reliability_t90  mod_degradation  mod_lifetime  mod_MFG_eff  \\\n",
       "0                 20.0             0.55          10.0         95.0   \n",
       "1                 20.0             0.55          10.0         95.0   \n",
       "2                 21.0             0.55          15.0         95.0   \n",
       "3                 21.0             0.55          15.0         95.0   \n",
       "4                 22.0             0.55          15.0         95.0   \n",
       "\n",
       "   mod_EOL_collection_eff  mod_EOL_collected_recycled  ...  EOL_on_Year_50  \\\n",
       "0                    15.0                        40.0  ...             0.0   \n",
       "1                    15.0                        40.0  ...             0.0   \n",
       "2                    15.0                        40.0  ...             0.0   \n",
       "3                    15.0                        40.0  ...             0.0   \n",
       "4                    15.0                        40.0  ...             0.0   \n",
       "\n",
       "   EOL_on_Year_51  EOL_on_Year_52  EOL_on_Year_53  EOL_on_Year_54  \\\n",
       "0             0.0             0.0             0.0             0.0   \n",
       "1             0.0             0.0             0.0             0.0   \n",
       "2             0.0             0.0             0.0             0.0   \n",
       "3             0.0             0.0             0.0             0.0   \n",
       "4             0.0             0.0             0.0             0.0   \n",
       "\n",
       "   EOL_on_Year_55  EoL_Collected  EoL_NotCollected  EoL_Recycled  \\\n",
       "0             0.0       0.000000          0.000000      0.000000   \n",
       "1             0.0       0.903530          5.120001      0.361412   \n",
       "2             0.0      17.272053         97.874968      6.908821   \n",
       "3             0.0     106.441060        603.166007     42.576424   \n",
       "4             0.0     397.937360       2254.978372    159.174944   \n",
       "\n",
       "   EoL_NotRecycled_Landfilled  \n",
       "0                    0.000000  \n",
       "1                    0.542118  \n",
       "2                   10.363232  \n",
       "3                   63.864636  \n",
       "4                  238.762416  \n",
       "\n",
       "[5 rows x 78 columns]"
      ]
     },
     "execution_count": 7,
     "metadata": {},
     "output_type": "execute_result"
    }
   ],
   "source": [
    "r1.scenario['standard'].data.head()"
   ]
  },
  {
   "cell_type": "markdown",
   "metadata": {},
   "source": [
    "###  6. Plot Mass Flow Results"
   ]
  },
  {
   "cell_type": "code",
   "execution_count": 8,
   "metadata": {},
   "outputs": [
    {
     "data": {
      "image/png": "[encoded data removed]",
      "text/plain": [
       "<Figure size 432x288 with 1 Axes>"
      ]
     },
     "metadata": {
      "needs_background": "light"
     },
     "output_type": "display_data"
    },
    {
     "data": {
      "image/png": "[encoded data removed]",
      "text/plain": [
       "<Figure size 432x288 with 1 Axes>"
      ]
     },
     "metadata": {
      "needs_background": "light"
     },
     "output_type": "display_data"
    }
   ],
   "source": [
    "r1.plotScenariosComparison(keyword='Cumulative_Area_disposedby_Failure')\n",
    "r1.plotMaterialComparisonAcrossScenarios(material='glass', keyword='mat_EOL_Recycled_2_HQ')"
   ]
  },
  {
   "cell_type": "code",
   "execution_count": null,
   "metadata": {},
   "outputs": [],
   "source": []
  }
 ],
 "metadata": {
  "celltoolbar": "Slideshow",
  "kernelspec": {
   "display_name": "Python 3",
   "language": "python",
   "name": "python3"
  },
  "language_info": {
   "codemirror_mode": {
    "name": "ipython",
    "version": 3
   },
   "file_extension": ".py",
   "mimetype": "text/x-python",
   "name": "python",
   "nbconvert_exporter": "python",
   "pygments_lexer": "ipython3",
   "version": "3.7.3"
  }
 },
 "nbformat": 4,
 "nbformat_minor": 2
}
