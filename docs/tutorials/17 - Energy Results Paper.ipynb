{
 "cells": [
  {
   "cell_type": "markdown",
   "id": "a1069aec",
   "metadata": {},
   "source": [
    "# Energy Analysis\n",
    "We will be using the new energy layer to analyze the following future PV options\n",
    "- SHJ\n",
    "- Perovskite (tandem?)\n",
    "- 50-year PERC module (multiple uses)\n",
    "- Recycled Si PERC (Fraunhofer)\n",
    "- Cheap crap module\n",
    "- CdTe?\n",
    "\n",
    "We will use a literture-sourced global scale deployment schedule through 2050, then assume that capacity increases at a lower constant rate through 2100."
   ]
  },
  {
   "cell_type": "code",
   "execution_count": 1,
   "id": "15a273e6",
   "metadata": {},
   "outputs": [],
   "source": [
    "import numpy as np\n",
    "import pandas as pd\n",
    "import os,sys\n",
    "from pathlib import Path\n",
    "import matplotlib.pyplot as plt\n",
    "\n",
    "plt.rcParams.update({'font.size': 18})\n",
    "plt.rcParams['figure.figsize'] = (10, 6)\n",
    "\n",
    "cwd = os.getcwd() #grabs current working directory\n",
    "\n",
    "testfolder = str(Path().resolve().parent.parent / 'PV_ICE' / 'TEMP' / 'EnergyAnalysis')\n",
    "inputfolder = str(Path().resolve().parent.parent / 'PV_ICE' / 'TEMP')\n",
    "baselinesfolder = str(Path().resolve().parent.parent /'PV_ICE' / 'baselines')\n",
    "supportMatfolder = str(Path().resolve().parent.parent / 'PV_ICE' / 'baselines' / 'SupportingMaterial')\n",
    "\n",
    "if not os.path.exists(testfolder):\n",
    "    os.makedirs(testfolder)"
   ]
  },
  {
   "cell_type": "code",
   "execution_count": 2,
   "id": "d306f62e",
   "metadata": {},
   "outputs": [],
   "source": [
    "#creating scenarios for identical power of multiple technologies\n",
    "scennames = ['PERC_50','SHJ','Perovskite','RecycledPERC','CheapCrap','Repowered'] #might need a PV ICE baseline too\n",
    "MATERIALS = ['glass','silver','silicon', 'copper', 'aluminium_frames'] #'encapsulant', 'backsheet',\n",
    "moduleFile_m = os.path.join(baselinesfolder, 'baseline_modules_mass_US.csv')\n",
    "moduleFile_e = os.path.join(baselinesfolder, 'baseline_modules_energy.csv')"
   ]
  },
  {
   "cell_type": "markdown",
   "id": "fc6e5884",
   "metadata": {},
   "source": [
    "We will be deploying based on power (not area) because each of these have different efficiencies, and those differences should be accounted for in the simulation. Additionally, we will run the installation compensation to simulate the required replacements for each module type."
   ]
  },
  {
   "cell_type": "code",
   "execution_count": 3,
   "id": "c6833a34",
   "metadata": {
    "scrolled": true
   },
   "outputs": [
    {
     "name": "stdout",
     "output_type": "stream",
     "text": [
      "path = C:\\Users\\hmirletz\\Documents\\GitHub\\PV_ICE\\PV_ICE\\TEMP\\EnergyAnalysis\n"
     ]
    }
   ],
   "source": [
    "#load in a baseline and materials for modification\n",
    "import PV_ICE\n",
    "\n",
    "sim1 = PV_ICE.Simulation(name='sim1', path=testfolder)\n",
    "for scen in scennames:\n",
    "    sim1.createScenario(name=scen, massmodulefile=moduleFile_m, energymodulefile=moduleFile_e)\n",
    "    for mat in range (0, len(MATERIALS)):\n",
    "        matbaseline_m = os.path.join(baselinesfolder,'baseline_material_mass_'+MATERIALS[mat]+'.csv')\n",
    "        matbaseline_e = os.path.join(baselinesfolder,'baseline_material_energy_'+MATERIALS[mat]+'.csv')\n",
    "        sim1.scenario[scen].addMaterial(MATERIALS[mat], massmatfile=matbaseline_m, energymatfile=matbaseline_e)"
   ]
  },
  {
   "cell_type": "code",
   "execution_count": null,
   "id": "ac033d55",
   "metadata": {},
   "outputs": [],
   "source": [
    "#idx_late = pd.RangeIndex(start=2050,stop=2101,step=1) #create the index\n",
    "#proj_2050_2100_energyIncrease = pd.DataFrame(index=idx_late, columns=['World_cum'], dtype=float) #turn into df "
   ]
  },
  {
   "cell_type": "code",
   "execution_count": null,
   "id": "b8478d59",
   "metadata": {},
   "outputs": [],
   "source": []
  },
  {
   "cell_type": "markdown",
   "id": "b1aae019",
   "metadata": {},
   "source": [
    "## Module Types Creation"
   ]
  },
  {
   "cell_type": "code",
   "execution_count": 7,
   "id": "81c90663",
   "metadata": {
    "scrolled": true
   },
   "outputs": [
    {
     "data": {
      "text/plain": [
       "dict_keys(['PERC_50', 'SHJ', 'Perovskite', 'RecycledPERC', 'CheapCrap', 'Repowered'])"
      ]
     },
     "execution_count": 7,
     "metadata": {},
     "output_type": "execute_result"
    }
   ],
   "source": [
    "sim1.scenario.keys()"
   ]
  },
  {
   "cell_type": "code",
   "execution_count": 8,
   "id": "8a2b6b35",
   "metadata": {},
   "outputs": [],
   "source": [
    "celltech_modeff = pd.read_csv(os.path.join(supportMatfolder, 'output-celltech-modeffimprovements.csv')) #pull in module eff\n",
    "celltech_aguse = pd.read_csv(os.path.join(supportMatfolder, 'output-celltech-Agusageimprovements.csv')) #pull in Ag use"
   ]
  },
  {
   "cell_type": "code",
   "execution_count": 46,
   "id": "e69ae121",
   "metadata": {},
   "outputs": [
    {
     "name": "stdout",
     "output_type": "stream",
     "text": [
      "The mass per module area of glass is 12500.0 g/m^2 for all modules with a glass-glass package\n"
     ]
    }
   ],
   "source": [
    "#glass-glass package mass per area calculation\n",
    "#ITRPV 2022 Figs 36 and 38, we are assuming that the front and back glass heave equal thickness of 2.5mm\n",
    "density_glass = 2500*1000 # g/m^3 \n",
    "glassperm2 = (2.5/1000)* 2 * density_glass\n",
    "print('The mass per module area of glass is '+str(glassperm2)+' g/m^2 for all modules with a glass-glass package')"
   ]
  },
  {
   "cell_type": "markdown",
   "id": "f4c51d07",
   "metadata": {},
   "source": [
    "#### PERC_50"
   ]
  },
  {
   "cell_type": "code",
   "execution_count": 35,
   "id": "140da8f8",
   "metadata": {
    "scrolled": true
   },
   "outputs": [],
   "source": [
    "#silver modify for PERC\n",
    "sim1.scenario['PERC_50'].material['silver'].matdataIn_m.loc[20:(20+len(celltech_aguse)-1),'mat_massperm2'] = celltech_aguse['PERC'].values"
   ]
  },
  {
   "cell_type": "code",
   "execution_count": null,
   "id": "09331ad7",
   "metadata": {},
   "outputs": [],
   "source": [
    "#modify package to glass glass\n",
    "sim1.scenario['PERC_50'].material['glass'].matdataIn_m.loc[20:(20+len(celltech_aguse)-1),'mat_massperm2'] = glassperm2"
   ]
  },
  {
   "cell_type": "code",
   "execution_count": 40,
   "id": "dff0c529",
   "metadata": {},
   "outputs": [],
   "source": [
    "#module efficiency modify for PERC\n",
    "sim1.scenario['PERC_50'].dataIn_m.loc[20:(20+len(celltech_modeff)-1),'mod_eff'] = celltech_modeff['PERC'].values"
   ]
  },
  {
   "cell_type": "code",
   "execution_count": 45,
   "id": "5de7a9d5",
   "metadata": {},
   "outputs": [],
   "source": [
    "#Lifetime and Degradation\n",
    "#values taken from lifetime vs recycling paper\n",
    "#degradation rate:\n",
    "sim1.modifyScenario('PERC_50', 'mod_degradation', 0.445, start_year=2022) #annual power degradation to reach 80% at 50 yrs\n",
    "#T50\n",
    "sim1.modifyScenario('PERC_50', 'mod_reliability_t50', 56.07, start_year=2022)\n",
    "#t90\n",
    "sim1.modifyScenario('PERC_50', 'mod_reliability_t90', 59.15, start_year=2022) \n",
    "#Mod Project Lifetime\n",
    "sim1.modifyScenario('PERC_50', 'mod_lifetime', 50, start_year=2022) #project lifetime of 50 years\n",
    "#Merchant Tail set high\n",
    "sim1.modifyScenario('PERC_50', 'mod_MerchantTail', 100, start_year=2022) #all installations stay for merchant tail"
   ]
  },
  {
   "cell_type": "code",
   "execution_count": null,
   "id": "4a02b660",
   "metadata": {},
   "outputs": [],
   "source": [
    "#Change to no recycling"
   ]
  },
  {
   "cell_type": "code",
   "execution_count": null,
   "id": "f178cfb7",
   "metadata": {},
   "outputs": [],
   "source": [
    "#include bifaciality of 0.7%"
   ]
  },
  {
   "cell_type": "code",
   "execution_count": 44,
   "id": "b03c7f49",
   "metadata": {},
   "outputs": [
    {
     "data": {
      "text/plain": [
       "Index(['year', 'new_Installed_Capacity_[MW]', 'mod_eff', 'mod_reliability_t50',\n",
       "       'mod_reliability_t90', 'mod_degradation', 'mod_lifetime', 'mod_MFG_eff',\n",
       "       'mod_Repair', 'mod_MerchantTail', 'mod_EOL_collection_eff',\n",
       "       'mod_EOL_pg0_resell', 'mod_EOL_pg1_landfill', 'mod_EOL_pg2_stored',\n",
       "       'mod_EOL_pg3_reMFG', 'mod_EOL_pg4_recycled', 'mod_EOL_reMFG_yield',\n",
       "       'mod_EOL_sp_reMFG_recycle', 'mod_EOL_pb1_landfill',\n",
       "       'mod_EOL_pb2_stored', 'mod_EOL_pb3_reMFG', 'mod_EOL_pb4_recycled'],\n",
       "      dtype='object')"
      ]
     },
     "execution_count": 44,
     "metadata": {},
     "output_type": "execute_result"
    }
   ],
   "source": [
    "sim1.scenario['PERC_50'].dataIn_m.keys()"
   ]
  },
  {
   "cell_type": "code",
   "execution_count": null,
   "id": "f1e20bd8",
   "metadata": {},
   "outputs": [],
   "source": []
  },
  {
   "cell_type": "markdown",
   "id": "676dde51",
   "metadata": {},
   "source": [
    "#### SHJ"
   ]
  },
  {
   "cell_type": "code",
   "execution_count": 37,
   "id": "ca5e85cc",
   "metadata": {},
   "outputs": [],
   "source": [
    "#silver modify for SHJ\n",
    "sim1.scenario['SHJ'].material['silver'].matdataIn_m.loc[20:(20+len(celltech_aguse)-1),'mat_massperm2'] = celltech_aguse['SHJ'].values"
   ]
  },
  {
   "cell_type": "code",
   "execution_count": 41,
   "id": "95973d19",
   "metadata": {},
   "outputs": [],
   "source": [
    "#module efficiency modify for PERC\n",
    "sim1.scenario['SHJ'].dataIn_m.loc[20:(20+len(celltech_modeff)-1),'mod_eff'] = celltech_modeff['SHJ'].values"
   ]
  },
  {
   "cell_type": "code",
   "execution_count": null,
   "id": "0c0327b4",
   "metadata": {},
   "outputs": [],
   "source": []
  },
  {
   "cell_type": "code",
   "execution_count": null,
   "id": "165c426d",
   "metadata": {},
   "outputs": [],
   "source": []
  },
  {
   "cell_type": "markdown",
   "id": "c5eb8c4d",
   "metadata": {},
   "source": [
    "#### Perovskite"
   ]
  },
  {
   "cell_type": "code",
   "execution_count": null,
   "id": "fc24ecbd",
   "metadata": {},
   "outputs": [],
   "source": []
  },
  {
   "cell_type": "code",
   "execution_count": null,
   "id": "488b26dc",
   "metadata": {},
   "outputs": [],
   "source": []
  },
  {
   "cell_type": "code",
   "execution_count": null,
   "id": "e797b746",
   "metadata": {},
   "outputs": [],
   "source": []
  },
  {
   "cell_type": "code",
   "execution_count": null,
   "id": "b9e90e4b",
   "metadata": {},
   "outputs": [],
   "source": []
  },
  {
   "cell_type": "markdown",
   "id": "116c5f82",
   "metadata": {},
   "source": [
    "#### Recycled PERC"
   ]
  },
  {
   "cell_type": "code",
   "execution_count": null,
   "id": "a41d37d1",
   "metadata": {},
   "outputs": [],
   "source": []
  },
  {
   "cell_type": "code",
   "execution_count": null,
   "id": "c76ff080",
   "metadata": {},
   "outputs": [],
   "source": []
  },
  {
   "cell_type": "code",
   "execution_count": null,
   "id": "0e668752",
   "metadata": {},
   "outputs": [],
   "source": []
  },
  {
   "cell_type": "code",
   "execution_count": null,
   "id": "98c23d52",
   "metadata": {},
   "outputs": [],
   "source": []
  },
  {
   "cell_type": "markdown",
   "id": "450de154",
   "metadata": {},
   "source": [
    "#### Cheap Crap"
   ]
  },
  {
   "cell_type": "code",
   "execution_count": null,
   "id": "19a6c8a1",
   "metadata": {},
   "outputs": [],
   "source": []
  },
  {
   "cell_type": "code",
   "execution_count": null,
   "id": "0cc75ebb",
   "metadata": {},
   "outputs": [],
   "source": []
  },
  {
   "cell_type": "code",
   "execution_count": null,
   "id": "265e42f6",
   "metadata": {},
   "outputs": [],
   "source": []
  },
  {
   "cell_type": "code",
   "execution_count": null,
   "id": "bac99ecd",
   "metadata": {},
   "outputs": [],
   "source": []
  },
  {
   "cell_type": "markdown",
   "id": "0c07f58d",
   "metadata": {},
   "source": [
    "#### Repowered"
   ]
  },
  {
   "cell_type": "code",
   "execution_count": null,
   "id": "3d41c82f",
   "metadata": {},
   "outputs": [],
   "source": []
  },
  {
   "cell_type": "code",
   "execution_count": null,
   "id": "6ea2ef02",
   "metadata": {},
   "outputs": [],
   "source": []
  },
  {
   "cell_type": "code",
   "execution_count": null,
   "id": "f7568faf",
   "metadata": {},
   "outputs": [],
   "source": []
  },
  {
   "cell_type": "markdown",
   "id": "233a3662",
   "metadata": {},
   "source": [
    "### Modify Years 2000 to 2100\n",
    "We do this after we modify the baselines to propogate the modified 2050 values forward"
   ]
  },
  {
   "cell_type": "code",
   "execution_count": 4,
   "id": "4e36e4e1",
   "metadata": {
    "scrolled": true
   },
   "outputs": [
    {
     "name": "stdout",
     "output_type": "stream",
     "text": [
      "Data trimed, years now encompass  2000  to  2100\n",
      "Data trimed, years now encompass  2000  to  2100\n",
      "Data trimed, years now encompass  2000  to  2100\n",
      "Data trimed, years now encompass  2000  to  2100\n",
      "Data trimed, years now encompass  2000  to  2100\n",
      "Data trimed, years now encompass  2000  to  2100\n"
     ]
    }
   ],
   "source": [
    "#trim to start in 2000, this trims module and materials\n",
    "#had to specify and end year, cannot use to extend\n",
    "sim1.trim_Years(startYear=2000, endYear=2100)"
   ]
  },
  {
   "cell_type": "code",
   "execution_count": 5,
   "id": "1733de91",
   "metadata": {},
   "outputs": [
    {
     "data": {
      "text/html": [
       "<div>\n",
       "<style scoped>\n",
       "    .dataframe tbody tr th:only-of-type {\n",
       "        vertical-align: middle;\n",
       "    }\n",
       "\n",
       "    .dataframe tbody tr th {\n",
       "        vertical-align: top;\n",
       "    }\n",
       "\n",
       "    .dataframe thead th {\n",
       "        text-align: right;\n",
       "    }\n",
       "</style>\n",
       "<table border=\"1\" class=\"dataframe\">\n",
       "  <thead>\n",
       "    <tr style=\"text-align: right;\">\n",
       "      <th></th>\n",
       "      <th>year</th>\n",
       "      <th>e_mat_extraction</th>\n",
       "      <th>e_mat_MFG</th>\n",
       "      <th>e_mat_MFG_fuelfraction</th>\n",
       "      <th>e_mat_MFGScrap_LQ</th>\n",
       "      <th>e_mat_MFGScrap_HQ</th>\n",
       "      <th>e_mat_Landfill</th>\n",
       "      <th>e_mat_Landfill_fuelfraction</th>\n",
       "      <th>e_mat_EoL_ReMFG_clean</th>\n",
       "      <th>e_mat_Recycled_LQ</th>\n",
       "      <th>...</th>\n",
       "      <th>e_mod_MFG</th>\n",
       "      <th>e_mod_Install</th>\n",
       "      <th>e_mod_OandM</th>\n",
       "      <th>e_mod_Repair</th>\n",
       "      <th>e_mod_Demount</th>\n",
       "      <th>e_mod_Demount_fuelfraction</th>\n",
       "      <th>e_mod_Resell_Certify</th>\n",
       "      <th>e_mod_Store</th>\n",
       "      <th>e_mod_ReMFG_Disassembly</th>\n",
       "      <th>e_mod_Recycle_Crush</th>\n",
       "    </tr>\n",
       "  </thead>\n",
       "  <tbody>\n",
       "    <tr>\n",
       "      <th>0</th>\n",
       "      <td>2000</td>\n",
       "      <td>0.0062</td>\n",
       "      <td>4.434640</td>\n",
       "      <td>80.005988</td>\n",
       "      <td>1.4</td>\n",
       "      <td>1.4</td>\n",
       "      <td>0.09</td>\n",
       "      <td>78.0</td>\n",
       "      <td>0.61</td>\n",
       "      <td>1.4</td>\n",
       "      <td>...</td>\n",
       "      <td>NaN</td>\n",
       "      <td>NaN</td>\n",
       "      <td>NaN</td>\n",
       "      <td>NaN</td>\n",
       "      <td>NaN</td>\n",
       "      <td>NaN</td>\n",
       "      <td>NaN</td>\n",
       "      <td>NaN</td>\n",
       "      <td>NaN</td>\n",
       "      <td>NaN</td>\n",
       "    </tr>\n",
       "    <tr>\n",
       "      <th>1</th>\n",
       "      <td>2001</td>\n",
       "      <td>0.0062</td>\n",
       "      <td>4.382279</td>\n",
       "      <td>79.998397</td>\n",
       "      <td>1.4</td>\n",
       "      <td>1.4</td>\n",
       "      <td>0.09</td>\n",
       "      <td>78.0</td>\n",
       "      <td>0.61</td>\n",
       "      <td>1.4</td>\n",
       "      <td>...</td>\n",
       "      <td>NaN</td>\n",
       "      <td>NaN</td>\n",
       "      <td>NaN</td>\n",
       "      <td>NaN</td>\n",
       "      <td>NaN</td>\n",
       "      <td>NaN</td>\n",
       "      <td>NaN</td>\n",
       "      <td>NaN</td>\n",
       "      <td>NaN</td>\n",
       "      <td>NaN</td>\n",
       "    </tr>\n",
       "    <tr>\n",
       "      <th>2</th>\n",
       "      <td>2002</td>\n",
       "      <td>0.0062</td>\n",
       "      <td>4.318724</td>\n",
       "      <td>80.200079</td>\n",
       "      <td>1.4</td>\n",
       "      <td>1.4</td>\n",
       "      <td>0.09</td>\n",
       "      <td>78.0</td>\n",
       "      <td>0.61</td>\n",
       "      <td>1.4</td>\n",
       "      <td>...</td>\n",
       "      <td>NaN</td>\n",
       "      <td>NaN</td>\n",
       "      <td>NaN</td>\n",
       "      <td>NaN</td>\n",
       "      <td>NaN</td>\n",
       "      <td>NaN</td>\n",
       "      <td>NaN</td>\n",
       "      <td>NaN</td>\n",
       "      <td>NaN</td>\n",
       "      <td>NaN</td>\n",
       "    </tr>\n",
       "    <tr>\n",
       "      <th>3</th>\n",
       "      <td>2003</td>\n",
       "      <td>0.0062</td>\n",
       "      <td>4.255168</td>\n",
       "      <td>80.409933</td>\n",
       "      <td>1.4</td>\n",
       "      <td>1.4</td>\n",
       "      <td>0.09</td>\n",
       "      <td>78.0</td>\n",
       "      <td>0.61</td>\n",
       "      <td>1.4</td>\n",
       "      <td>...</td>\n",
       "      <td>NaN</td>\n",
       "      <td>NaN</td>\n",
       "      <td>NaN</td>\n",
       "      <td>NaN</td>\n",
       "      <td>NaN</td>\n",
       "      <td>NaN</td>\n",
       "      <td>NaN</td>\n",
       "      <td>NaN</td>\n",
       "      <td>NaN</td>\n",
       "      <td>NaN</td>\n",
       "    </tr>\n",
       "    <tr>\n",
       "      <th>4</th>\n",
       "      <td>2004</td>\n",
       "      <td>0.0062</td>\n",
       "      <td>4.191613</td>\n",
       "      <td>80.628330</td>\n",
       "      <td>1.4</td>\n",
       "      <td>1.4</td>\n",
       "      <td>0.09</td>\n",
       "      <td>78.0</td>\n",
       "      <td>0.61</td>\n",
       "      <td>1.4</td>\n",
       "      <td>...</td>\n",
       "      <td>NaN</td>\n",
       "      <td>NaN</td>\n",
       "      <td>NaN</td>\n",
       "      <td>NaN</td>\n",
       "      <td>NaN</td>\n",
       "      <td>NaN</td>\n",
       "      <td>NaN</td>\n",
       "      <td>NaN</td>\n",
       "      <td>NaN</td>\n",
       "      <td>NaN</td>\n",
       "    </tr>\n",
       "    <tr>\n",
       "      <th>...</th>\n",
       "      <td>...</td>\n",
       "      <td>...</td>\n",
       "      <td>...</td>\n",
       "      <td>...</td>\n",
       "      <td>...</td>\n",
       "      <td>...</td>\n",
       "      <td>...</td>\n",
       "      <td>...</td>\n",
       "      <td>...</td>\n",
       "      <td>...</td>\n",
       "      <td>...</td>\n",
       "      <td>...</td>\n",
       "      <td>...</td>\n",
       "      <td>...</td>\n",
       "      <td>...</td>\n",
       "      <td>...</td>\n",
       "      <td>...</td>\n",
       "      <td>...</td>\n",
       "      <td>...</td>\n",
       "      <td>...</td>\n",
       "      <td>...</td>\n",
       "    </tr>\n",
       "    <tr>\n",
       "      <th>96</th>\n",
       "      <td>2096</td>\n",
       "      <td>0.0062</td>\n",
       "      <td>3.512724</td>\n",
       "      <td>86.798744</td>\n",
       "      <td>1.4</td>\n",
       "      <td>1.4</td>\n",
       "      <td>0.09</td>\n",
       "      <td>78.0</td>\n",
       "      <td>0.61</td>\n",
       "      <td>1.4</td>\n",
       "      <td>...</td>\n",
       "      <td>NaN</td>\n",
       "      <td>NaN</td>\n",
       "      <td>NaN</td>\n",
       "      <td>NaN</td>\n",
       "      <td>NaN</td>\n",
       "      <td>NaN</td>\n",
       "      <td>NaN</td>\n",
       "      <td>NaN</td>\n",
       "      <td>NaN</td>\n",
       "      <td>NaN</td>\n",
       "    </tr>\n",
       "    <tr>\n",
       "      <th>97</th>\n",
       "      <td>2097</td>\n",
       "      <td>0.0062</td>\n",
       "      <td>3.512724</td>\n",
       "      <td>86.798744</td>\n",
       "      <td>1.4</td>\n",
       "      <td>1.4</td>\n",
       "      <td>0.09</td>\n",
       "      <td>78.0</td>\n",
       "      <td>0.61</td>\n",
       "      <td>1.4</td>\n",
       "      <td>...</td>\n",
       "      <td>NaN</td>\n",
       "      <td>NaN</td>\n",
       "      <td>NaN</td>\n",
       "      <td>NaN</td>\n",
       "      <td>NaN</td>\n",
       "      <td>NaN</td>\n",
       "      <td>NaN</td>\n",
       "      <td>NaN</td>\n",
       "      <td>NaN</td>\n",
       "      <td>NaN</td>\n",
       "    </tr>\n",
       "    <tr>\n",
       "      <th>98</th>\n",
       "      <td>2098</td>\n",
       "      <td>0.0062</td>\n",
       "      <td>3.512724</td>\n",
       "      <td>86.798744</td>\n",
       "      <td>1.4</td>\n",
       "      <td>1.4</td>\n",
       "      <td>0.09</td>\n",
       "      <td>78.0</td>\n",
       "      <td>0.61</td>\n",
       "      <td>1.4</td>\n",
       "      <td>...</td>\n",
       "      <td>NaN</td>\n",
       "      <td>NaN</td>\n",
       "      <td>NaN</td>\n",
       "      <td>NaN</td>\n",
       "      <td>NaN</td>\n",
       "      <td>NaN</td>\n",
       "      <td>NaN</td>\n",
       "      <td>NaN</td>\n",
       "      <td>NaN</td>\n",
       "      <td>NaN</td>\n",
       "    </tr>\n",
       "    <tr>\n",
       "      <th>99</th>\n",
       "      <td>2099</td>\n",
       "      <td>0.0062</td>\n",
       "      <td>3.512724</td>\n",
       "      <td>86.798744</td>\n",
       "      <td>1.4</td>\n",
       "      <td>1.4</td>\n",
       "      <td>0.09</td>\n",
       "      <td>78.0</td>\n",
       "      <td>0.61</td>\n",
       "      <td>1.4</td>\n",
       "      <td>...</td>\n",
       "      <td>NaN</td>\n",
       "      <td>NaN</td>\n",
       "      <td>NaN</td>\n",
       "      <td>NaN</td>\n",
       "      <td>NaN</td>\n",
       "      <td>NaN</td>\n",
       "      <td>NaN</td>\n",
       "      <td>NaN</td>\n",
       "      <td>NaN</td>\n",
       "      <td>NaN</td>\n",
       "    </tr>\n",
       "    <tr>\n",
       "      <th>100</th>\n",
       "      <td>2100</td>\n",
       "      <td>0.0062</td>\n",
       "      <td>3.512724</td>\n",
       "      <td>86.798744</td>\n",
       "      <td>1.4</td>\n",
       "      <td>1.4</td>\n",
       "      <td>0.09</td>\n",
       "      <td>78.0</td>\n",
       "      <td>0.61</td>\n",
       "      <td>1.4</td>\n",
       "      <td>...</td>\n",
       "      <td>NaN</td>\n",
       "      <td>NaN</td>\n",
       "      <td>NaN</td>\n",
       "      <td>NaN</td>\n",
       "      <td>NaN</td>\n",
       "      <td>NaN</td>\n",
       "      <td>NaN</td>\n",
       "      <td>NaN</td>\n",
       "      <td>NaN</td>\n",
       "      <td>NaN</td>\n",
       "    </tr>\n",
       "  </tbody>\n",
       "</table>\n",
       "<p>101 rows × 22 columns</p>\n",
       "</div>"
      ],
      "text/plain": [
       "     year  e_mat_extraction  e_mat_MFG  e_mat_MFG_fuelfraction  \\\n",
       "0    2000            0.0062   4.434640               80.005988   \n",
       "1    2001            0.0062   4.382279               79.998397   \n",
       "2    2002            0.0062   4.318724               80.200079   \n",
       "3    2003            0.0062   4.255168               80.409933   \n",
       "4    2004            0.0062   4.191613               80.628330   \n",
       "..    ...               ...        ...                     ...   \n",
       "96   2096            0.0062   3.512724               86.798744   \n",
       "97   2097            0.0062   3.512724               86.798744   \n",
       "98   2098            0.0062   3.512724               86.798744   \n",
       "99   2099            0.0062   3.512724               86.798744   \n",
       "100  2100            0.0062   3.512724               86.798744   \n",
       "\n",
       "     e_mat_MFGScrap_LQ  e_mat_MFGScrap_HQ  e_mat_Landfill  \\\n",
       "0                  1.4                1.4            0.09   \n",
       "1                  1.4                1.4            0.09   \n",
       "2                  1.4                1.4            0.09   \n",
       "3                  1.4                1.4            0.09   \n",
       "4                  1.4                1.4            0.09   \n",
       "..                 ...                ...             ...   \n",
       "96                 1.4                1.4            0.09   \n",
       "97                 1.4                1.4            0.09   \n",
       "98                 1.4                1.4            0.09   \n",
       "99                 1.4                1.4            0.09   \n",
       "100                1.4                1.4            0.09   \n",
       "\n",
       "     e_mat_Landfill_fuelfraction  e_mat_EoL_ReMFG_clean  e_mat_Recycled_LQ  \\\n",
       "0                           78.0                   0.61                1.4   \n",
       "1                           78.0                   0.61                1.4   \n",
       "2                           78.0                   0.61                1.4   \n",
       "3                           78.0                   0.61                1.4   \n",
       "4                           78.0                   0.61                1.4   \n",
       "..                           ...                    ...                ...   \n",
       "96                          78.0                   0.61                1.4   \n",
       "97                          78.0                   0.61                1.4   \n",
       "98                          78.0                   0.61                1.4   \n",
       "99                          78.0                   0.61                1.4   \n",
       "100                         78.0                   0.61                1.4   \n",
       "\n",
       "     ...  e_mod_MFG  e_mod_Install  e_mod_OandM  e_mod_Repair  e_mod_Demount  \\\n",
       "0    ...        NaN            NaN          NaN           NaN            NaN   \n",
       "1    ...        NaN            NaN          NaN           NaN            NaN   \n",
       "2    ...        NaN            NaN          NaN           NaN            NaN   \n",
       "3    ...        NaN            NaN          NaN           NaN            NaN   \n",
       "4    ...        NaN            NaN          NaN           NaN            NaN   \n",
       "..   ...        ...            ...          ...           ...            ...   \n",
       "96   ...        NaN            NaN          NaN           NaN            NaN   \n",
       "97   ...        NaN            NaN          NaN           NaN            NaN   \n",
       "98   ...        NaN            NaN          NaN           NaN            NaN   \n",
       "99   ...        NaN            NaN          NaN           NaN            NaN   \n",
       "100  ...        NaN            NaN          NaN           NaN            NaN   \n",
       "\n",
       "     e_mod_Demount_fuelfraction  e_mod_Resell_Certify  e_mod_Store  \\\n",
       "0                           NaN                   NaN          NaN   \n",
       "1                           NaN                   NaN          NaN   \n",
       "2                           NaN                   NaN          NaN   \n",
       "3                           NaN                   NaN          NaN   \n",
       "4                           NaN                   NaN          NaN   \n",
       "..                          ...                   ...          ...   \n",
       "96                          NaN                   NaN          NaN   \n",
       "97                          NaN                   NaN          NaN   \n",
       "98                          NaN                   NaN          NaN   \n",
       "99                          NaN                   NaN          NaN   \n",
       "100                         NaN                   NaN          NaN   \n",
       "\n",
       "     e_mod_ReMFG_Disassembly  e_mod_Recycle_Crush  \n",
       "0                        NaN                  NaN  \n",
       "1                        NaN                  NaN  \n",
       "2                        NaN                  NaN  \n",
       "3                        NaN                  NaN  \n",
       "4                        NaN                  NaN  \n",
       "..                       ...                  ...  \n",
       "96                       NaN                  NaN  \n",
       "97                       NaN                  NaN  \n",
       "98                       NaN                  NaN  \n",
       "99                       NaN                  NaN  \n",
       "100                      NaN                  NaN  \n",
       "\n",
       "[101 rows x 22 columns]"
      ]
     },
     "execution_count": 5,
     "metadata": {},
     "output_type": "execute_result"
    }
   ],
   "source": [
    "sim1.scenario['SHJ'].material['glass'].matdataIn_e"
   ]
  },
  {
   "cell_type": "markdown",
   "id": "31625649",
   "metadata": {},
   "source": [
    "### Apply deployment curve\n",
    "For the full derivation of the deployment curve, see the \"PV Installations - Global\" development journal. Essentially, the projection is 2000-2021 IRENA historical installation data, 2022 through 2050 is a quadratic fit to achieve 50 TW in 2050, and from 2050 to 2100 is a linear increase to approx 60 TW based on 2000-2021 global increase in electricity capacity (219.32 GW/year).\n",
    "\n",
    "This is the deployment curve applied to all PV technologies - however, it will be modified for each PV tech using the installation compensation method, increasing it for any replacement modules required to maintain capacity."
   ]
  },
  {
   "cell_type": "code",
   "execution_count": 42,
   "id": "0c453214",
   "metadata": {},
   "outputs": [
    {
     "data": {
      "image/png": "[encoded data removed]",
      "text/plain": [
       "<Figure size 1000x600 with 2 Axes>"
      ]
     },
     "metadata": {},
     "output_type": "display_data"
    }
   ],
   "source": [
    "global_projection = pd.read_csv(os.path.join(supportMatfolder,'output-globalInstallsProjection.csv'), index_col=0)\n",
    "\n",
    "fig, ax1 = plt.subplots()\n",
    "\n",
    "ax1.plot(global_projection['World_cum']/1e6, color='orange')\n",
    "ax1.set_ylabel('Cumulative Solar Capacity [TW]', color='orange')\n",
    "ax2 = ax1.twinx()\n",
    "ax2.plot(global_projection['World_annual_[MWdc]']/1e6)\n",
    "ax2.set_ylabel('Annual Installations [TW]')\n",
    "plt.show()\n"
   ]
  },
  {
   "cell_type": "code",
   "execution_count": null,
   "id": "68799e77",
   "metadata": {},
   "outputs": [],
   "source": [
    "#deployment projection\n",
    "for scen in scennames:\n",
    "    sim1.scenario[scen].dataIn_m.loc[0:len(global_projection.index-1),'new_Installed_Capacity_[MW]'] = global_projection['World_annual_[MWdc]'].values"
   ]
  },
  {
   "cell_type": "code",
   "execution_count": null,
   "id": "86a21894",
   "metadata": {},
   "outputs": [],
   "source": []
  },
  {
   "cell_type": "code",
   "execution_count": null,
   "id": "0284fd69",
   "metadata": {},
   "outputs": [],
   "source": []
  }
 ],
 "metadata": {
  "kernelspec": {
   "display_name": "Python 3 (ipykernel)",
   "language": "python",
   "name": "python3"
  },
  "language_info": {
   "codemirror_mode": {
    "name": "ipython",
    "version": 3
   },
   "file_extension": ".py",
   "mimetype": "text/x-python",
   "name": "python",
   "nbconvert_exporter": "python",
   "pygments_lexer": "ipython3",
   "version": "3.8.8"
  }
 },
 "nbformat": 4,
 "nbformat_minor": 5
}
