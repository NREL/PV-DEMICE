{
 "cells": [
  {
   "cell_type": "markdown",
   "id": "a1069aec",
   "metadata": {},
   "source": [
    "# Energy Analysis\n",
    "We will be using the new energy layer to analyze the following future PV options\n",
    "- SHJ\n",
    "- Perovskite (tandem?)\n",
    "- 50-year PERC module (multiple uses)\n",
    "- Recycled Si PERC (Fraunhofer)\n",
    "- Cheap crap module\n",
    "- CdTe?\n",
    "\n",
    "We will use a literture-sourced global scale deployment schedule through 2050, then assume that capacity increases at a lower constant rate through 2100."
   ]
  },
  {
   "cell_type": "code",
   "execution_count": 1,
   "id": "15a273e6",
   "metadata": {},
   "outputs": [],
   "source": [
    "import numpy as np\n",
    "import pandas as pd\n",
    "import os,sys\n",
    "from pathlib import Path\n",
    "import matplotlib.pyplot as plt\n",
    "\n",
    "plt.rcParams.update({'font.size': 18})\n",
    "#plt.rcParams['figure.figsize'] = (10, 6)\n",
    "\n",
    "cwd = os.getcwd() #grabs current working directory\n",
    "\n",
    "testfolder = str(Path().resolve().parent.parent / 'PV_ICE' / 'TEMP' / 'EnergyAnalysis')\n",
    "inputfolder = str(Path().resolve().parent.parent / 'PV_ICE' / 'TEMP')\n",
    "baselinesfolder = str(Path().resolve().parent.parent /'PV_ICE' / 'baselines')\n",
    "supportMatfolder = str(Path().resolve().parent.parent / 'PV_ICE' / 'baselines' / 'SupportingMaterial')\n",
    "\n",
    "if not os.path.exists(testfolder):\n",
    "    os.makedirs(testfolder)"
   ]
  },
  {
   "cell_type": "code",
   "execution_count": null,
   "id": "38edd6bc",
   "metadata": {},
   "outputs": [],
   "source": []
  },
  {
   "cell_type": "code",
   "execution_count": 7,
   "id": "d306f62e",
   "metadata": {},
   "outputs": [],
   "source": [
    "#creating scenarios for identical power of multiple technologies\n",
    "scennames = ['PERC_50','SHJ','Perovskite','RecycledPERC','CheapCrap','Repowered']\n",
    "MATERIALS = ['glass','silver','silicon', 'copper', 'aluminium_frames'] #'encapsulant', 'backsheet',\n",
    "moduleFile_m = os.path.join(baselinesfolder, 'baseline_modules_mass_US.csv')\n",
    "moduleFile_e = os.path.join(baselinesfolder, 'baseline_modules_energy.csv')"
   ]
  },
  {
   "cell_type": "markdown",
   "id": "fc6e5884",
   "metadata": {},
   "source": [
    "We will be deploying based on power (not area) because each of these have different efficiencies, and those differences should be accounted for in the simulation. Additionally, we will run the installation compensation to simulate the required replacements for each module type."
   ]
  },
  {
   "cell_type": "code",
   "execution_count": 8,
   "id": "c6833a34",
   "metadata": {
    "scrolled": true
   },
   "outputs": [
    {
     "name": "stdout",
     "output_type": "stream",
     "text": [
      "path = C:\\Users\\hmirletz\\Documents\\GitHub\\PV_ICE\\PV_ICE\\TEMP\\EnergyAnalysis\n"
     ]
    }
   ],
   "source": [
    "#load in a baseline and materials for modification\n",
    "import PV_ICE\n",
    "\n",
    "sim1 = PV_ICE.Simulation(name='sim1', path=testfolder)\n",
    "for scen in scennames:\n",
    "    sim1.createScenario(name=scen, massmodulefile=moduleFile_m, energymodulefile=moduleFile_e)\n",
    "    for mat in range (0, len(MATERIALS)):\n",
    "        matbaseline_m = os.path.join(baselinesfolder,'baseline_material_mass_'+MATERIALS[mat]+'.csv')\n",
    "        matbaseline_e = os.path.join(baselinesfolder,'baseline_material_energy_'+MATERIALS[mat]+'.csv')\n",
    "        sim1.scenario[scen].addMaterial(MATERIALS[mat], massmatfile=matbaseline_m, energymatfile=matbaseline_e)"
   ]
  },
  {
   "cell_type": "code",
   "execution_count": 20,
   "id": "41dd294f",
   "metadata": {},
   "outputs": [
    {
     "name": "stdout",
     "output_type": "stream",
     "text": [
      "Data trimed, years now encompass  2000  to  2100\n",
      "Data trimed, years now encompass  2000  to  2100\n",
      "Data trimed, years now encompass  2000  to  2100\n",
      "Data trimed, years now encompass  2000  to  2100\n",
      "Data trimed, years now encompass  2000  to  2100\n",
      "Data trimed, years now encompass  2000  to  2100\n"
     ]
    }
   ],
   "source": [
    "#trim to start in 2000, this trims module and materials\n",
    "#had to specify and end year, cannot use to extend\n",
    "sim1.trim_Years(startYear=2000, endYear=2100, methodAddedYears='repeat')"
   ]
  },
  {
   "cell_type": "code",
   "execution_count": 21,
   "id": "8e899088",
   "metadata": {},
   "outputs": [
    {
     "data": {
      "text/plain": [
       "0     2000\n",
       "1     2001\n",
       "2     2002\n",
       "3     2003\n",
       "4     2004\n",
       "5     2005\n",
       "6     2006\n",
       "7     2007\n",
       "8     2008\n",
       "9     2009\n",
       "10    2010\n",
       "11    2011\n",
       "12    2012\n",
       "13    2013\n",
       "14    2014\n",
       "15    2015\n",
       "16    2016\n",
       "17    2017\n",
       "18    2018\n",
       "19    2019\n",
       "20    2020\n",
       "21    2021\n",
       "22    2022\n",
       "23    2023\n",
       "24    2024\n",
       "25    2025\n",
       "26    2026\n",
       "27    2027\n",
       "28    2028\n",
       "29    2029\n",
       "30    2030\n",
       "31    2031\n",
       "32    2032\n",
       "33    2033\n",
       "34    2034\n",
       "35    2035\n",
       "36    2036\n",
       "37    2037\n",
       "38    2038\n",
       "39    2039\n",
       "40    2040\n",
       "41    2041\n",
       "42    2042\n",
       "43    2043\n",
       "44    2044\n",
       "45    2045\n",
       "46    2046\n",
       "47    2047\n",
       "48    2048\n",
       "49    2049\n",
       "50    2050\n",
       "Name: year, dtype: int64"
      ]
     },
     "execution_count": 21,
     "metadata": {},
     "output_type": "execute_result"
    }
   ],
   "source": [
    "sim1.scenario['SHJ'].dataIn_m['year'] "
   ]
  },
  {
   "cell_type": "markdown",
   "id": "b1aae019",
   "metadata": {},
   "source": [
    "## Module Types\n",
    "\n",
    "This module includes continuing improvements in silver usage and efficiency, as created in 16-PERC vs SHJ vs TOPCon journal."
   ]
  },
  {
   "cell_type": "code",
   "execution_count": 2,
   "id": "4e00f5e6",
   "metadata": {},
   "outputs": [],
   "source": [
    "celltech_modeff = pd.read_csv(os.path.join(supportMatfolder, 'output-celltech-modeffimprovements.csv')) #pull in module eff\n",
    "celltech_aguse = pd.read_csv(os.path.join(supportMatfolder, 'output-celltech-Agusageimprovements.csv')) #pull in Ag use"
   ]
  },
  {
   "cell_type": "code",
   "execution_count": null,
   "id": "140da8f8",
   "metadata": {},
   "outputs": [],
   "source": [
    "#silver modify for PERC and SHJ\n",
    "for scen in scennames:\n",
    "    sim1.scenario[scen].material['silver'].matdataIn_m.loc[0:len(Aguse.index-1),'mat_massperm2'] = Aguse.filter(like=str(scen[0:3])).values"
   ]
  },
  {
   "cell_type": "code",
   "execution_count": null,
   "id": "98d34926",
   "metadata": {},
   "outputs": [],
   "source": [
    "#module eff for PERC and SHJ\n",
    "for scen in scennames:\n",
    "    sim1.scenario[scen].dataIn_m.loc[0:len(modeffs.index-1),'mod_eff'] = modeffs.filter(like=str(scen[0:3])).values"
   ]
  },
  {
   "cell_type": "code",
   "execution_count": null,
   "id": "0c0327b4",
   "metadata": {},
   "outputs": [],
   "source": []
  },
  {
   "cell_type": "code",
   "execution_count": null,
   "id": "2149c3b3",
   "metadata": {},
   "outputs": [],
   "source": []
  },
  {
   "cell_type": "markdown",
   "id": "31625649",
   "metadata": {},
   "source": [
    "### Apply deployment curve"
   ]
  },
  {
   "cell_type": "code",
   "execution_count": null,
   "id": "0c453214",
   "metadata": {},
   "outputs": [],
   "source": [
    "pd.read_csv(os.path.join(supportMatfolder, 'output-.csv'))"
   ]
  },
  {
   "cell_type": "code",
   "execution_count": null,
   "id": "68799e77",
   "metadata": {},
   "outputs": [],
   "source": [
    "#deployment projection\n",
    "for scen in scennames:\n",
    "    sim1.scenario[scen].dataIn_m.loc[0:len(newdeploymentcurve.index-1),'new_Installed_Capacity_[MW]'] = newdeploymentcurve_global['MW'].values"
   ]
  }
 ],
 "metadata": {
  "kernelspec": {
   "display_name": "Python 3 (ipykernel)",
   "language": "python",
   "name": "python3"
  },
  "language_info": {
   "codemirror_mode": {
    "name": "ipython",
    "version": 3
   },
   "file_extension": ".py",
   "mimetype": "text/x-python",
   "name": "python",
   "nbconvert_exporter": "python",
   "pygments_lexer": "ipython3",
   "version": "3.8.8"
  }
 },
 "nbformat": 4,
 "nbformat_minor": 5
}
