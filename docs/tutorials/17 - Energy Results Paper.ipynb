{
 "cells": [
  {
   "cell_type": "markdown",
   "id": "a1069aec",
   "metadata": {},
   "source": [
    "# Energy Analysis\n",
    "We will be using the new energy layer to analyze the following future PV options\n",
    "- modules..\n",
    "\n",
    "We will use a literture-sourced global scale deployment schedule through 2050, then assume that capacity increases at a lower constant rate through 2100."
   ]
  },
  {
   "cell_type": "code",
   "execution_count": 1,
   "id": "15a273e6",
   "metadata": {},
   "outputs": [],
   "source": [
    "import numpy as np\n",
    "import pandas as pd\n",
    "import os,sys\n",
    "from pathlib import Path\n",
    "import matplotlib.pyplot as plt\n",
    "\n",
    "cwd = os.getcwd() #grabs current working directory\n",
    "\n",
    "testfolder = str(Path().resolve().parent.parent / 'PV_ICE' / 'TEMP' / 'EnergyAnalysis')\n",
    "inputfolder = str(Path().resolve().parent.parent / 'PV_ICE' / 'TEMP')\n",
    "baselinesfolder = str(Path().resolve().parent.parent /'PV_ICE' / 'baselines')\n",
    "supportMatfolder = str(Path().resolve().parent.parent / 'PV_ICE' / 'baselines' / 'SupportingMaterial')\n",
    "altBaselinesfolder = str(Path().resolve().parent.parent / 'PV_ICE' / 'baselines' / 'Energy_CellModuleTechCompare')\n",
    "\n",
    "if not os.path.exists(testfolder):\n",
    "    os.makedirs(testfolder)"
   ]
  },
  {
   "cell_type": "code",
   "execution_count": 2,
   "id": "8c375e45",
   "metadata": {},
   "outputs": [
    {
     "name": "stdout",
     "output_type": "stream",
     "text": [
      "3.8.8\n"
     ]
    }
   ],
   "source": [
    "from platform import python_version \n",
    "print(python_version())"
   ]
  },
  {
   "cell_type": "markdown",
   "id": "6ffa2c25",
   "metadata": {},
   "source": [
    "Graphing settings"
   ]
  },
  {
   "cell_type": "code",
   "execution_count": 3,
   "id": "3c08aa04",
   "metadata": {},
   "outputs": [],
   "source": [
    "#https://www.learnui.design/tools/data-color-picker.html#palette\n",
    "#color pallette - modify here for all graphs below\n",
    "colorpalette=['#003f5c','#374c80','#7a5195','#bc5090','#ef5675','#ff764a','#ffa600']\n",
    "import matplotlib as mpl #import matplotlib\n",
    "from cycler import cycler #import cycler\n",
    "mpl.rcParams['axes.prop_cycle'] = cycler(color=colorpalette) #reset the default color palette of mpl\n",
    "\n",
    "plt.rcParams.update({'font.size': 14})\n",
    "plt.rcParams['figure.figsize'] = (8, 6)\n",
    "\n",
    "scennames_labels = ['PV_ICE','PERC_50','High Eff','Idealized\\nPerovskite\\nSi-Tandem','Lightweight'\n",
    "                    'SHJ','TOPCon','Recycled\\nPERC','IRENA\\nreg.loss'] #"
   ]
  },
  {
   "cell_type": "markdown",
   "id": "329a62b0",
   "metadata": {},
   "source": [
    "Scenarios and materials"
   ]
  },
  {
   "cell_type": "code",
   "execution_count": 4,
   "id": "d306f62e",
   "metadata": {},
   "outputs": [],
   "source": [
    "#creating scenarios for identical power of multiple technologies\n",
    "scennames_ex = ['PV_ICE','ex_PERC_50','ex_High_eff', 'ex_Perovskite','ex_Lightweight'] #extreme cases\n",
    "scennames_r = ['r_PERC','r_SHJ', 'r_TOPCon','r_Perovskite', 'r_RecycledPERC','r_IRENA', 'r_50PERC'] #realistic cases\n",
    "\n",
    "MATERIALS = ['glass','silver','silicon', 'copper', 'aluminium_frames','encapsulant', 'backsheet']\n",
    "moduleFile_m = os.path.join(baselinesfolder, 'baseline_modules_mass_US.csv')\n",
    "moduleFile_e = os.path.join(baselinesfolder, 'baseline_modules_energy.csv')"
   ]
  },
  {
   "cell_type": "markdown",
   "id": "fc6e5884",
   "metadata": {},
   "source": [
    "We will be deploying based on power (not area) because each of these have different efficiencies, and those differences should be accounted for in the simulation. Additionally, we will run the installation compensation to simulate the required replacements for each module type."
   ]
  },
  {
   "cell_type": "code",
   "execution_count": 5,
   "id": "c6833a34",
   "metadata": {
    "scrolled": true
   },
   "outputs": [
    {
     "name": "stdout",
     "output_type": "stream",
     "text": [
      "path = C:\\Users\\hmirletz\\Documents\\GitHub\\PV_ICE\\PV_ICE\\TEMP\\EnergyAnalysis\n"
     ]
    }
   ],
   "source": [
    "#load in a baseline and materials for modification\n",
    "import PV_ICE\n",
    "\n",
    "sim1 = PV_ICE.Simulation(name='sim1', path=testfolder)\n",
    "for scen in scennames_ex:\n",
    "    sim1.createScenario(name=scen, massmodulefile=moduleFile_m, energymodulefile=moduleFile_e)\n",
    "    for mat in range (0, len(MATERIALS)):\n",
    "        matbaseline_m = os.path.join(baselinesfolder,'baseline_material_mass_'+MATERIALS[mat]+'.csv')\n",
    "        matbaseline_e = os.path.join(baselinesfolder,'baseline_material_energy_'+MATERIALS[mat]+'.csv')\n",
    "        sim1.scenario[scen].addMaterial(MATERIALS[mat], massmatfile=matbaseline_m, energymatfile=matbaseline_e)"
   ]
  },
  {
   "cell_type": "code",
   "execution_count": 6,
   "id": "20d7c666",
   "metadata": {},
   "outputs": [
    {
     "data": {
      "text/plain": [
       "'v0.2.0+407.gcebad8a.dirty'"
      ]
     },
     "execution_count": 6,
     "metadata": {},
     "output_type": "execute_result"
    }
   ],
   "source": [
    "PV_ICE.__version__"
   ]
  },
  {
   "cell_type": "markdown",
   "id": "b1aae019",
   "metadata": {},
   "source": [
    "## Module Types Creation\n",
    "Starting modifications in 2022, using PV ICE baseline as historical for all modules\n",
    "\n",
    "**NOTE: Currently have to modify all scenarios before extending the years to avoid errors.**\n",
    "\n",
    "**NOTE: all dynamic values changed with PV ICE modify functions must feed in a Pandas Series**"
   ]
  },
  {
   "cell_type": "code",
   "execution_count": 7,
   "id": "81c90663",
   "metadata": {
    "scrolled": false
   },
   "outputs": [
    {
     "data": {
      "text/plain": [
       "dict_keys(['PV_ICE', 'ex_PERC_50', 'ex_High_eff', 'ex_Perovskite', 'ex_Lightweight'])"
      ]
     },
     "execution_count": 7,
     "metadata": {},
     "output_type": "execute_result"
    }
   ],
   "source": [
    "sim1.scenario.keys()"
   ]
  },
  {
   "cell_type": "code",
   "execution_count": 8,
   "id": "8a2b6b35",
   "metadata": {},
   "outputs": [],
   "source": [
    "celltech_modeff = pd.read_csv(os.path.join(supportMatfolder, 'output-celltech-modeffimprovements.csv'),index_col=0) #pull in module eff\n",
    "celltech_aguse = pd.read_csv(os.path.join(supportMatfolder, 'output-celltech-Agusageimprovements.csv'),index_col=0) #pull in Ag use"
   ]
  },
  {
   "cell_type": "code",
   "execution_count": 9,
   "id": "4950a3aa",
   "metadata": {},
   "outputs": [
    {
     "data": {
      "text/plain": [
       "PERC      22.8\n",
       "SHJ       23.5\n",
       "TOPCon    23.2\n",
       "Name: 2020, dtype: float64"
      ]
     },
     "execution_count": 9,
     "metadata": {},
     "output_type": "execute_result"
    }
   ],
   "source": [
    "celltech_modeff.loc[2020]"
   ]
  },
  {
   "cell_type": "code",
   "execution_count": 10,
   "id": "e69ae121",
   "metadata": {},
   "outputs": [
    {
     "name": "stdout",
     "output_type": "stream",
     "text": [
      "The mass per module area of glass is 12500.0 g/m^2 for all modules with a glass-glass package\n"
     ]
    }
   ],
   "source": [
    "#glass-glass package mass per area calculation\n",
    "#ITRPV 2022 Figs 36 and 38, we are assuming that the front and back glass heave equal thickness of 2.5mm\n",
    "density_glass = 2500*1000 # g/m^3 \n",
    "glassperm2 = (2.5/1000)* 2 * density_glass\n",
    "print('The mass per module area of glass is '+str(glassperm2)+' g/m^2 for all modules with a glass-glass package')"
   ]
  },
  {
   "cell_type": "code",
   "execution_count": 11,
   "id": "9a28a648",
   "metadata": {},
   "outputs": [],
   "source": [
    "timeshift = 2022-1995"
   ]
  },
  {
   "cell_type": "markdown",
   "id": "6546c6c0",
   "metadata": {},
   "source": [
    "## Extreme modules"
   ]
  },
  {
   "cell_type": "markdown",
   "id": "f4c51d07",
   "metadata": {},
   "source": [
    "### PERC_50\n",
    "This module represents current PERC technology (so good efficiency) if it were to have it's lifetime extended significantly. Glass-glass technology is assumed, expected decreases in silver usage and increases in module efficiency are derived from Zhang et al 2021, Gervais et al 2021 and ITRPV 2022. It is assumed that this module is no more recyclable than current technology (downcycle glass and recycle aluminium frames)."
   ]
  },
  {
   "cell_type": "code",
   "execution_count": 12,
   "id": "4863c411",
   "metadata": {},
   "outputs": [],
   "source": [
    "#module efficiency modify for PERC\n",
    "sim1.modifyScenario('ex_PERC_50', 'mod_eff', celltech_modeff.loc[2022:,'PERC'], start_year=2022) #changing module eff"
   ]
  },
  {
   "cell_type": "code",
   "execution_count": 13,
   "id": "140da8f8",
   "metadata": {
    "scrolled": true
   },
   "outputs": [],
   "source": [
    "#silver modify for PERC\n",
    "sim1.scenario['ex_PERC_50'].modifyMaterials('silver', 'mat_massperm2', celltech_aguse.loc[2022:,'PERC'], start_year=2022)\n",
    "#old way\n",
    "#sim1.scenario['PERC_50'].material['silver'].matdataIn_m.loc[timeshift:,'mat_massperm2'] = celltech_aguse.loc[2022:,'PERC'].values"
   ]
  },
  {
   "cell_type": "code",
   "execution_count": 14,
   "id": "09331ad7",
   "metadata": {},
   "outputs": [],
   "source": [
    "#modify package to glass glass\n",
    "sim1.scenario['ex_PERC_50'].modifyMaterials('glass', 'mat_massperm2', glassperm2, start_year=2022) #"
   ]
  },
  {
   "cell_type": "code",
   "execution_count": 15,
   "id": "5de7a9d5",
   "metadata": {},
   "outputs": [],
   "source": [
    "#Lifetime and Degradation\n",
    "#values taken from lifetime vs recycling paper\n",
    "#degradation rate:\n",
    "sim1.modifyScenario('ex_PERC_50', 'mod_degradation', 0.445, start_year=2022) #annual power degradation to reach 80% at 50 yrs\n",
    "#T50\n",
    "sim1.modifyScenario('ex_PERC_50', 'mod_reliability_t50', 56.07, start_year=2022)\n",
    "#t90\n",
    "sim1.modifyScenario('ex_PERC_50', 'mod_reliability_t90', 59.15, start_year=2022) \n",
    "#Mod Project Lifetime\n",
    "sim1.modifyScenario('ex_PERC_50', 'mod_lifetime', 50, start_year=2022) #project lifetime of 50 years\n"
   ]
  },
  {
   "cell_type": "code",
   "execution_count": 16,
   "id": "4a02b660",
   "metadata": {},
   "outputs": [],
   "source": [
    "#Merchant Tail set high\n",
    "sim1.modifyScenario('ex_PERC_50', 'mod_MerchantTail', 100, start_year=2022) #all installations stay for merchant tail\n",
    "#Change recycling?"
   ]
  },
  {
   "cell_type": "markdown",
   "id": "5176b5da",
   "metadata": {},
   "source": [
    "### High Efficiency\n",
    "This represents a 25 year lifetime module where efficiency has been prioritized. This could represent a silicon based tandem, along the lines of SHJ "
   ]
  },
  {
   "cell_type": "code",
   "execution_count": 17,
   "id": "86354f0c",
   "metadata": {},
   "outputs": [],
   "source": [
    "idx_temp = pd.RangeIndex(start=2022,stop=2051,step=1) #create the index\n",
    "df_higheff = pd.DataFrame(index=idx_temp, columns=['mod_eff_p'], dtype=float)\n",
    "df_higheff.loc[2022] = 22.0\n",
    "df_higheff.loc[2030] = 25.0\n",
    "df_higheff.loc[2050] = 30.0\n",
    "df_higheff.interpolate(inplace=True)\n",
    "#module efficiency modify for PERC\n",
    "sim1.modifyScenario('ex_High_eff', 'mod_eff', df_higheff.loc[2022:,], start_year=2022) #changing module eff"
   ]
  },
  {
   "cell_type": "code",
   "execution_count": 18,
   "id": "5c43c239",
   "metadata": {},
   "outputs": [],
   "source": [
    "#Lifetime and Degradation\n",
    "#values taken from lifetime vs recycling paper\n",
    "#degradation rate:\n",
    "sim1.modifyScenario('ex_High_eff', 'mod_degradation', 0.7, start_year=2022) #standard current degrdation\n",
    "#T50\n",
    "sim1.modifyScenario('ex_High_eff', 'mod_reliability_t50', 25, start_year=2022)\n",
    "#t90\n",
    "sim1.modifyScenario('ex_High_eff', 'mod_reliability_t90', 31, start_year=2022) \n",
    "#Mod Project Lifetime\n",
    "sim1.modifyScenario('ex_High_eff', 'mod_lifetime', 25, start_year=2022) #project lifetime of 25 years"
   ]
  },
  {
   "cell_type": "code",
   "execution_count": null,
   "id": "10077bab",
   "metadata": {},
   "outputs": [],
   "source": []
  },
  {
   "cell_type": "code",
   "execution_count": null,
   "id": "d9f0f9ac",
   "metadata": {},
   "outputs": [],
   "source": []
  },
  {
   "cell_type": "markdown",
   "id": "d60fd891",
   "metadata": {},
   "source": [
    "### Idealized Perovskite\n",
    "This perovskite module uses current best module and cell efficiencies, has a prospective life of 15 years and 1.5% degradation rate, and is highly circular. This is a best case scenario for perovskites given current data."
   ]
  },
  {
   "cell_type": "code",
   "execution_count": 19,
   "id": "f3a19dd1",
   "metadata": {},
   "outputs": [],
   "source": [
    "#2022 module eff = 17.9% #https://www.nrel.gov/pv/assets/pdfs/champion-module-efficiencies-rev220401b.pdf\n",
    "#2050 module eff = 27.3% # Sofia et al 2019 4T future\n",
    "idx_perovskite_eff = pd.RangeIndex(start=2022,stop=2051,step=1) #create the index\n",
    "df_perovskite_eff = pd.DataFrame(index=idx_perovskite_eff, columns=['mod_eff_p'], dtype=float)\n",
    "df_perovskite_eff.loc[2022] = 17.9\n",
    "df_perovskite_eff.loc[2030] = 27.3\n",
    "df_perovskite_eff.loc[2050] = 27.3\n",
    "df_perovskite_eff.interpolate(inplace=True)"
   ]
  },
  {
   "cell_type": "code",
   "execution_count": 20,
   "id": "7d58748b",
   "metadata": {},
   "outputs": [],
   "source": [
    "#module efficiency modify for PERC\n",
    "sim1.modifyScenario('ex_Perovskite', 'mod_eff', df_perovskite_eff['mod_eff_p'], start_year=2022) #changing module eff"
   ]
  },
  {
   "cell_type": "code",
   "execution_count": 21,
   "id": "add7b4ab",
   "metadata": {},
   "outputs": [],
   "source": [
    "#modify package to glass glass\n",
    "sim1.scenario['ex_Perovskite'].modifyMaterials('glass', 'mat_massperm2', glassperm2, start_year=2022)"
   ]
  },
  {
   "cell_type": "code",
   "execution_count": 22,
   "id": "686bcde7",
   "metadata": {},
   "outputs": [],
   "source": [
    "#Lifetime and Degradation\n",
    "#values taken from lifetime vs recycling paper\n",
    "#degradation rate:\n",
    "sim1.modifyScenario('ex_Perovskite', 'mod_degradation', 1.47, start_year=2022) #annual power degradation\n",
    "#Mod Project Lifetime\n",
    "sim1.modifyScenario('ex_Perovskite', 'mod_lifetime', 15, start_year=2022) #project lifetime of 15 years\n",
    "#T50\n",
    "sim1.modifyScenario('ex_Perovskite', 'mod_reliability_t50', 14, start_year=2022)\n",
    "#t90\n",
    "sim1.modifyScenario('ex_Perovskite', 'mod_reliability_t90', 20, start_year=2022) "
   ]
  },
  {
   "cell_type": "code",
   "execution_count": 23,
   "id": "ab8c3004",
   "metadata": {},
   "outputs": [],
   "source": [
    "#As Circular as possible\n",
    "#100% collection rate\n",
    "sim1.modifyScenario('ex_Perovskite', 'mod_EOL_collection_eff', 100.0, start_year=2022) #100% collection\n",
    "sim1.modifyScenario('ex_Perovskite', 'mod_EOL_pg1_landfill', 0.0, start_year=2022) #100% collection\n",
    "sim1.modifyScenario('ex_Perovskite', 'mod_EOL_pb1_landfill', 0.0, start_year=2022) #100% collection\n",
    "\n",
    "# remanufacturing\n",
    "sim1.modifyScenario('ex_Perovskite', 'mod_EOL_pg3_reMFG', 100.0, start_year=2022) #all modules attempt remfg\n",
    "sim1.modifyScenario('ex_Perovskite', 'mod_EOL_sp_reMFG_recycle', 100.0, start_year=2022) # recycle if can't remfg\n",
    "sim1.modifyScenario('ex_Perovskite', 'mod_EOL_pb3_reMFG', 100.0, start_year=2022) # remfg bad mods too\n",
    "sim1.modifyScenario('ex_Perovskite', 'mod_EOL_reMFG_yield', 98.0, start_year=2022) # REMFG YIELD 98%\n",
    "\n",
    "#set all other paths to 0\n",
    "sim1.modifyScenario('ex_Perovskite', 'mod_EOL_pg0_resell', 0.0, start_year=2022) # \n",
    "sim1.modifyScenario('ex_Perovskite', 'mod_EOL_pg1_landfill', 0.0, start_year=2022) # \n",
    "sim1.modifyScenario('ex_Perovskite', 'mod_EOL_pg2_stored', 0.0, start_year=2022) #\n",
    "sim1.modifyScenario('ex_Perovskite', 'mod_EOL_pg4_recycled', 0.0, start_year=2022) # \n",
    "sim1.modifyScenario('ex_Perovskite', 'mod_EOL_pb1_landfill', 0.0, start_year=2022) # \n",
    "sim1.modifyScenario('ex_Perovskite', 'mod_EOL_pb2_stored', 0.0, start_year=2022) # \n",
    "sim1.modifyScenario('ex_Perovskite', 'mod_EOL_pb4_recycled', 0.0, start_year=2022) # \n",
    "sim1.modifyScenario('ex_Perovskite', 'mod_Repair', 0.0, start_year=2022) #\n",
    "sim1.modifyScenario('ex_Perovskite', 'mod_MerchantTail', 0.0, start_year=2022) #\n",
    "\n",
    "\n",
    "#Material Remanufacture\n",
    "#Glass\n",
    "#mfg scrap\n",
    "sim1.scenario['ex_Perovskite'].modifyMaterials('glass', 'mat_MFG_scrap_Recycled', 100.0, start_year=2022) #send mfg scrap to recycle\n",
    "sim1.scenario['ex_Perovskite'].modifyMaterials('glass', 'mat_MFG_scrap_Recycling_eff', 98.0, start_year=2022) #99% yield\n",
    "sim1.scenario['ex_Perovskite'].modifyMaterials('glass', 'mat_MFG_scrap_Recycled_into_HQ', 100.0, start_year=2022) #all HQ\n",
    "sim1.scenario['ex_Perovskite'].modifyMaterials('glass', 'mat_MFG_scrap_Recycled_into_HQ_Reused4MFG', 100.0, start_year=2022) #closed-loop\n",
    "#eol\n",
    "sim1.scenario['ex_Perovskite'].modifyMaterials('glass', 'mat_PG3_ReMFG_target', 100.0, start_year=2022) #send all to remfg\n",
    "sim1.scenario['ex_Perovskite'].modifyMaterials('glass', 'mat_PG4_Recycling_target', 100.0, start_year=2022) #send none to recycle\n",
    "sim1.scenario['ex_Perovskite'].modifyMaterials('glass', 'mat_ReMFG_yield', 98.0, start_year=2022) #99% yeild\n",
    "sim1.scenario['ex_Perovskite'].modifyMaterials('glass', 'mat_Recycling_yield', 98.0, start_year=2022) #99% yeild\n",
    "\n",
    "\n",
    "#silicon ReMFG \n",
    "#mfg scrap\n",
    "sim1.scenario['ex_Perovskite'].modifyMaterials('silicon', 'mat_MFG_scrap_Recycled', 100.0, start_year=2022) #send mfg scrap to recycle\n",
    "sim1.scenario['ex_Perovskite'].modifyMaterials('silicon', 'mat_MFG_scrap_Recycling_eff', 98.0, start_year=2022) #98% yield\n",
    "sim1.scenario['ex_Perovskite'].modifyMaterials('silicon', 'mat_MFG_scrap_Recycled_into_HQ', 100.0, start_year=2022) #all HQ\n",
    "sim1.scenario['ex_Perovskite'].modifyMaterials('silicon', 'mat_MFG_scrap_Recycled_into_HQ_Reused4MFG', 100.0, start_year=2022) #closed-loop\n",
    "#eol\n",
    "sim1.scenario['ex_Perovskite'].modifyMaterials('silicon', 'mat_PG3_ReMFG_target', 100.0, start_year=2022) #send to remfg\n",
    "sim1.scenario['ex_Perovskite'].modifyMaterials('silicon', 'mat_ReMFG_yield', 98.0, start_year=2022) #98% yeild\n",
    "sim1.scenario['ex_Perovskite'].modifyMaterials('silicon', 'mat_PG4_Recycling_target', 0.0, start_year=2022) #send to remfg\n",
    "sim1.scenario['ex_Perovskite'].modifyMaterials('silicon', 'mat_Recycling_yield', 98.0, start_year=2022) #99% yeild\n",
    "sim1.scenario['ex_Perovskite'].modifyMaterials('silicon', 'mat_EOL_Recycled_into_HQ', 100.0, start_year=2022) #all HQ\n",
    "sim1.scenario['ex_Perovskite'].modifyMaterials('silicon', 'mat_EOL_RecycledHQ_Reused4MFG', 100.0, start_year=2022) #closed-loop\n",
    "\n",
    "\n",
    "#aluminium_frames recycle\n",
    "#mfg scrap\n",
    "sim1.scenario['ex_Perovskite'].modifyMaterials('aluminium_frames', 'mat_MFG_scrap_Recycled', 100.0, start_year=2022) #send mfg scrap to recycle\n",
    "sim1.scenario['ex_Perovskite'].modifyMaterials('aluminium_frames', 'mat_MFG_scrap_Recycling_eff', 98.0, start_year=2022) #98% yield\n",
    "sim1.scenario['ex_Perovskite'].modifyMaterials('aluminium_frames', 'mat_MFG_scrap_Recycled_into_HQ', 100.0, start_year=2022) #all HQ\n",
    "sim1.scenario['ex_Perovskite'].modifyMaterials('aluminium_frames', 'mat_MFG_scrap_Recycled_into_HQ_Reused4MFG', 100.0, start_year=2022) #closed-loop\n",
    "#eol\n",
    "sim1.scenario['ex_Perovskite'].modifyMaterials('aluminium_frames', 'mat_PG3_ReMFG_target', 0.0, start_year=2022) #send to recycle\n",
    "sim1.scenario['ex_Perovskite'].modifyMaterials('aluminium_frames', 'mat_PG4_Recycling_target', 100.0, start_year=2022) #send to recycle\n",
    "sim1.scenario['ex_Perovskite'].modifyMaterials('aluminium_frames', 'mat_Recycling_yield', 98.0, start_year=2022) #99% yeild\n",
    "sim1.scenario['ex_Perovskite'].modifyMaterials('aluminium_frames', 'mat_EOL_Recycled_into_HQ', 100.0, start_year=2022) #all HQ\n",
    "sim1.scenario['ex_Perovskite'].modifyMaterials('aluminium_frames', 'mat_EOL_RecycledHQ_Reused4MFG', 100.0, start_year=2022) #closed-loop\n",
    "sim1.scenario['ex_Perovskite'].modifyMaterials('aluminium_frames', 'mat_ReMFG_yield', 0.0, start_year=2022) #0% yeild\n"
   ]
  },
  {
   "cell_type": "markdown",
   "id": "6878ef57",
   "metadata": {},
   "source": [
    "### Lightweighting\n",
    "- 10% Si\n",
    "- 50% encapsulant\n",
    "- 2mm glass\n",
    "- frameless\n",
    "- possibly reduced reliability\n",
    "\n",
    "Could represent a thin film"
   ]
  },
  {
   "cell_type": "code",
   "execution_count": 24,
   "id": "7571df24",
   "metadata": {},
   "outputs": [],
   "source": [
    "#module efficiency modify for PERC\n",
    "sim1.modifyScenario('ex_Lightweight', 'mod_eff', celltech_modeff.loc[2022:,'PERC'], start_year=2022) #changing module eff"
   ]
  },
  {
   "cell_type": "code",
   "execution_count": 25,
   "id": "d61100ec",
   "metadata": {},
   "outputs": [],
   "source": [
    "#2mm glass calculation\n",
    "lightweightglass = (2.0/1000)* 1 * density_glass\n",
    "\n",
    "#50% encapsulant\n",
    "light_encap = pd.Series(sim1.scenario['PV_ICE'].material['encapsulant'].matdataIn_m.loc[timeshift:,'mat_massperm2']*0.5)\n",
    "\n",
    "#10% silicon\n",
    "light_Si = pd.Series(sim1.scenario['PV_ICE'].material['silicon'].matdataIn_m.loc[timeshift:,'mat_massperm2']*0.1)\n",
    "\n",
    "#modify BOM\n",
    "sim1.scenario['ex_Lightweight'].modifyMaterials('glass', 'mat_massperm2', lightweightglass, start_year=2022) #glass\n",
    "sim1.scenario['ex_Lightweight'].modifyMaterials('aluminium_frames', 'mat_massperm2', 0.0, start_year=2022) #frameless\n",
    "sim1.scenario['ex_Lightweight'].modifyMaterials('encapsulant', 'mat_massperm2', light_encap, start_year=2022) #50% encapsulant\n",
    "sim1.scenario['ex_Lightweight'].modifyMaterials('silicon', 'mat_massperm2', light_Si, start_year=2022) #10% silicon\n"
   ]
  },
  {
   "cell_type": "code",
   "execution_count": 26,
   "id": "7be8050f",
   "metadata": {},
   "outputs": [],
   "source": [
    "#Lifetime and Degradation\n",
    "#values taken from lifetime vs recycling paper\n",
    "#degradation rate:\n",
    "sim1.modifyScenario('ex_Lightweight', 'mod_degradation', 0.7, start_year=2022) #annual power degradation\n",
    "#Mod Project Lifetime\n",
    "sim1.modifyScenario('ex_Lightweight', 'mod_lifetime', 25, start_year=2022) #project lifetime of 15 years\n",
    "#T50\n",
    "sim1.modifyScenario('ex_Lightweight', 'mod_reliability_t50', 25, start_year=2022) #this will get changed with IRENA alpha/b\n",
    "#t90\n",
    "sim1.modifyScenario('ex_Lightweight', 'mod_reliability_t90', 31, start_year=2022) #this will get changed with IRENA alpha/b"
   ]
  },
  {
   "cell_type": "code",
   "execution_count": 27,
   "id": "cb903dcb",
   "metadata": {
    "scrolled": true
   },
   "outputs": [
    {
     "data": {
      "text/plain": [
       "56"
      ]
     },
     "execution_count": 27,
     "metadata": {},
     "output_type": "execute_result"
    }
   ],
   "source": [
    "len(sim1.scenario['ex_Lightweight'].material['silicon'].matdataIn_m)"
   ]
  },
  {
   "cell_type": "markdown",
   "id": "524dddad",
   "metadata": {},
   "source": [
    "## Evolving Realistic Modules"
   ]
  },
  {
   "cell_type": "markdown",
   "id": "954fae8b",
   "metadata": {},
   "source": [
    "For these more realisitic evolving modules, some module and material input files have been modified and are stored in the baselines\\Energy_CellModuleTechCompare folder."
   ]
  },
  {
   "cell_type": "code",
   "execution_count": 28,
   "id": "03d8a0a7",
   "metadata": {},
   "outputs": [
    {
     "data": {
      "text/plain": [
       "'C:\\\\Users\\\\hmirletz\\\\Documents\\\\GitHub\\\\PV_ICE\\\\PV_ICE\\\\baselines\\\\Energy_CellModuleTechCompare'"
      ]
     },
     "execution_count": 28,
     "metadata": {},
     "output_type": "execute_result"
    }
   ],
   "source": [
    "altBaselinesfolder"
   ]
  },
  {
   "cell_type": "markdown",
   "id": "c600d901",
   "metadata": {},
   "source": [
    "Improving recycling:\n",
    "- 2022: 15% collection, 75% recycled module, 100% downcycled glass, 100% HQ al frames, 20% closed loop\n",
    "- 2030: 30% collection, 80% recycled module, 30% closed-loop glass, 30% closed-loop silicon, 30% closed-loop silver, 50% closed loop Al frames\n",
    "- 2050: 75% collection, 95% recycled module, 75% closed loop recycled glass, 75% closed loop recycled silicon, 75% closed-loop silver, 100% closed loop al frames"
   ]
  },
  {
   "cell_type": "markdown",
   "id": "93e5f701",
   "metadata": {},
   "source": [
    "### PERC"
   ]
  },
  {
   "cell_type": "code",
   "execution_count": 29,
   "id": "cd70ab03",
   "metadata": {},
   "outputs": [],
   "source": [
    "#modified module\n",
    "moduleinput_m_r_PERC = os.path.join(altBaselinesfolder, 'mod_r_PERC.csv')\n",
    "sim1.createScenario(name='r_PERC', massmodulefile=moduleinput_m_r_PERC, energymodulefile=moduleFile_e) "
   ]
  },
  {
   "cell_type": "code",
   "execution_count": 30,
   "id": "5a6a1a50",
   "metadata": {},
   "outputs": [],
   "source": [
    "#module efficiency modify for PERC\n",
    "sim1.modifyScenario('r_PERC', 'mod_eff', celltech_modeff.loc[2022:,'PERC'], start_year=2022) #changing module eff\n",
    "#sim1.scenario['SHJ'].dataIn_m.loc[timeshift:,'mod_eff'] = celltech_modeff.loc[2022:,'SHJ'].values"
   ]
  },
  {
   "cell_type": "code",
   "execution_count": 31,
   "id": "b21454b0",
   "metadata": {},
   "outputs": [],
   "source": [
    "#modified materials\n",
    "#glass\n",
    "matinput_glass_m_improvedRecycle = os.path.join(altBaselinesfolder,'material_mass_glass_improvedRecycle.csv')\n",
    "matbaseline_e_glass = os.path.join(baselinesfolder,'baseline_material_energy_glass.csv')\n",
    "sim1.scenario['r_PERC'].addMaterial('glass', massmatfile=matinput_glass_m_improvedRecycle, energymatfile=matbaseline_e_glass)\n",
    "#silicon\n",
    "matinput_silicon_m_improvedRecycle = os.path.join(altBaselinesfolder,'material_mass_silicon_improvedRecycle.csv')\n",
    "matbaseline_e_si = os.path.join(baselinesfolder,'baseline_material_energy_silicon.csv')\n",
    "sim1.scenario['r_PERC'].addMaterial('silicon', massmatfile=matinput_silicon_m_improvedRecycle, energymatfile=matbaseline_e_si)\n",
    "#silver\n",
    "matinput_silver_m_improvedRecycle = os.path.join(altBaselinesfolder,'material_mass_silver_improvedRecycle.csv')\n",
    "matbaseline_e_ag = os.path.join(baselinesfolder,'baseline_material_energy_silver.csv')\n",
    "sim1.scenario['r_PERC'].addMaterial('silver', massmatfile=matinput_silver_m_improvedRecycle, energymatfile=matbaseline_e_ag)\n",
    "#aluminium frames\n",
    "matinput_Al_m_improvedRecycle = os.path.join(altBaselinesfolder,'material_mass_aluminium_frames_improvedRecycle.csv')\n",
    "matbaseline_e_al = os.path.join(baselinesfolder,'baseline_material_energy_aluminium_frames.csv')\n",
    "sim1.scenario['r_PERC'].addMaterial('aluminium_frames', massmatfile=matinput_Al_m_improvedRecycle, energymatfile=matbaseline_e_al)\n",
    "\n",
    "#standard materials\n",
    "baselineMats=['copper', 'encapsulant', 'backsheet']\n",
    "for mats in range (0, len(baselineMats)):\n",
    "    matbaseline_m = os.path.join(baselinesfolder,'baseline_material_mass_'+baselineMats[mats]+'.csv')\n",
    "    matbaseline_e = os.path.join(baselinesfolder,'baseline_material_energy_'+baselineMats[mats]+'.csv')\n",
    "    sim1.scenario['r_PERC'].addMaterial(baselineMats[mats], massmatfile=matbaseline_m, energymatfile=matbaseline_e)"
   ]
  },
  {
   "cell_type": "code",
   "execution_count": 33,
   "id": "f327d43a",
   "metadata": {},
   "outputs": [],
   "source": [
    "#modify silver usage for PERC\n",
    "sim1.scenario['r_PERC'].modifyMaterials('silver', 'mat_massperm2', celltech_aguse.loc[2022:,'PERC'], start_year=2022)"
   ]
  },
  {
   "cell_type": "code",
   "execution_count": 34,
   "id": "a18a7606",
   "metadata": {},
   "outputs": [],
   "source": [
    "#modify package to glass glass\n",
    "sim1.scenario['r_PERC'].modifyMaterials('glass', 'mat_massperm2', glassperm2, start_year=2022)"
   ]
  },
  {
   "cell_type": "code",
   "execution_count": null,
   "id": "34a9cf71",
   "metadata": {},
   "outputs": [],
   "source": []
  },
  {
   "cell_type": "code",
   "execution_count": null,
   "id": "ca6e8654",
   "metadata": {},
   "outputs": [],
   "source": []
  },
  {
   "cell_type": "code",
   "execution_count": null,
   "id": "f0f779e6",
   "metadata": {},
   "outputs": [],
   "source": []
  },
  {
   "cell_type": "markdown",
   "id": "676dde51",
   "metadata": {},
   "source": [
    "### SHJ\n",
    "This is a modern SHJ module with expected silver and module efficiency improvements taken from Zhang et al 2021, Gervais et al 2021, and ITPRV 2022. See PERC vs SHJ vs TOPCon for a more detailed evaluation."
   ]
  },
  {
   "cell_type": "code",
   "execution_count": null,
   "id": "a2bff9e2",
   "metadata": {},
   "outputs": [],
   "source": []
  },
  {
   "cell_type": "code",
   "execution_count": 35,
   "id": "d70ddc20",
   "metadata": {},
   "outputs": [],
   "source": [
    "#modified module\n",
    "moduleinput_m_r_SHJ = os.path.join(altBaselinesfolder, 'mod_r_SHJ.csv')\n",
    "sim1.createScenario(name='r_SHJ', massmodulefile=moduleinput_m_r_SHJ, energymodulefile=moduleFile_e) "
   ]
  },
  {
   "cell_type": "code",
   "execution_count": 36,
   "id": "a4a656b7",
   "metadata": {},
   "outputs": [],
   "source": [
    "#module efficiency modify for SHJ\n",
    "sim1.modifyScenario('r_SHJ', 'mod_eff', celltech_modeff.loc[2022:,'SHJ'], start_year=2022) #changing module eff\n",
    "#sim1.scenario['SHJ'].dataIn_m.loc[timeshift:,'mod_eff'] = celltech_modeff.loc[2022:,'SHJ'].values"
   ]
  },
  {
   "cell_type": "code",
   "execution_count": 37,
   "id": "379b30ad",
   "metadata": {},
   "outputs": [],
   "source": [
    "#load modified materials\n",
    "#modified materials\n",
    "#glass\n",
    "matinput_glass_m_improvedRecycle = os.path.join(altBaselinesfolder,'material_mass_glass_improvedRecycle.csv')\n",
    "matbaseline_e_glass = os.path.join(baselinesfolder,'baseline_material_energy_glass.csv')\n",
    "sim1.scenario['r_SHJ'].addMaterial('glass', massmatfile=matinput_glass_m_improvedRecycle, energymatfile=matbaseline_e_glass)\n",
    "#silicon\n",
    "matinput_silicon_m_improvedRecycle = os.path.join(altBaselinesfolder,'material_mass_silicon_improvedRecycle.csv')\n",
    "matbaseline_e_si = os.path.join(baselinesfolder,'baseline_material_energy_silicon.csv')\n",
    "sim1.scenario['r_SHJ'].addMaterial('silicon', massmatfile=matinput_silicon_m_improvedRecycle, energymatfile=matbaseline_e_si)\n",
    "#silver\n",
    "matinput_silver_m_improvedRecycle = os.path.join(altBaselinesfolder,'material_mass_silver_improvedRecycle.csv')\n",
    "matbaseline_e_ag = os.path.join(baselinesfolder,'baseline_material_energy_silver.csv')\n",
    "sim1.scenario['r_SHJ'].addMaterial('silver', massmatfile=matinput_silver_m_improvedRecycle, energymatfile=matbaseline_e_ag)\n",
    "#aluminium frames\n",
    "matinput_Al_m_improvedRecycle = os.path.join(altBaselinesfolder,'material_mass_aluminium_frames_improvedRecycle.csv')\n",
    "matbaseline_e_al = os.path.join(baselinesfolder,'baseline_material_energy_aluminium_frames.csv')\n",
    "sim1.scenario['r_SHJ'].addMaterial('aluminium_frames', massmatfile=matinput_Al_m_improvedRecycle, energymatfile=matbaseline_e_al)\n",
    "\n",
    "#standard materials\n",
    "baselineMats=['copper', 'encapsulant', 'backsheet']\n",
    "for mats in range (0, len(baselineMats)):\n",
    "    matbaseline_m = os.path.join(baselinesfolder,'baseline_material_mass_'+baselineMats[mats]+'.csv')\n",
    "    matbaseline_e = os.path.join(baselinesfolder,'baseline_material_energy_'+baselineMats[mats]+'.csv')\n",
    "    sim1.scenario['r_SHJ'].addMaterial(baselineMats[mats], massmatfile=matbaseline_m, energymatfile=matbaseline_e)"
   ]
  },
  {
   "cell_type": "code",
   "execution_count": 38,
   "id": "8f6a64d5",
   "metadata": {},
   "outputs": [],
   "source": [
    "#modify silver usage for SHJ\n",
    "sim1.scenario['r_SHJ'].modifyMaterials('silver', 'mat_massperm2', celltech_aguse.loc[2022:,'SHJ'], start_year=2022)"
   ]
  },
  {
   "cell_type": "code",
   "execution_count": 39,
   "id": "bbe51f33",
   "metadata": {},
   "outputs": [],
   "source": [
    "#modify package to glass glass\n",
    "sim1.scenario['r_SHJ'].modifyMaterials('glass', 'mat_massperm2', glassperm2, start_year=2022)"
   ]
  },
  {
   "cell_type": "code",
   "execution_count": null,
   "id": "165c426d",
   "metadata": {},
   "outputs": [],
   "source": [
    "#Merchant Tail set high\n",
    "#sim1.modifyScenario('SHJ', 'mod_MerchantTail', 50, start_year=2022) #50% stay for merchant tail, possibly change to DYNAMIC\n"
   ]
  },
  {
   "cell_type": "code",
   "execution_count": 40,
   "id": "3216c921",
   "metadata": {
    "scrolled": true
   },
   "outputs": [
    {
     "data": {
      "text/plain": [
       "Text(0.5, 1.0, 'Silicon Management Evolution')"
      ]
     },
     "execution_count": 40,
     "metadata": {},
     "output_type": "execute_result"
    },
    {
     "data": {
      "image/png": "[encoded data removed]",
      "text/plain": [
       "<Figure size 800x600 with 1 Axes>"
      ]
     },
     "metadata": {},
     "output_type": "display_data"
    }
   ],
   "source": [
    "plt.plot(sim1.scenario['r_SHJ'].material['silicon'].matdataIn_m.iloc[:,0],sim1.scenario['r_SHJ'].material['silicon'].matdataIn_m.iloc[:,3:])\n",
    "plt.legend(sim1.scenario['PV_ICE'].material['silicon'].matdataIn_m.iloc[:,3:].columns, \n",
    "           bbox_to_anchor=(0, -0.1), loc='upper left', ncol=1)\n",
    "plt.title('Silicon Management Evolution')"
   ]
  },
  {
   "cell_type": "code",
   "execution_count": null,
   "id": "a888d369",
   "metadata": {},
   "outputs": [],
   "source": [
    "plt.plot(sim1.scenario['r_SHJ'].material['glass'].matdataIn_m.iloc[:,0],sim1.scenario['r_SHJ'].material['glass'].matdataIn_m.iloc[:,3:])\n",
    "plt.legend(sim1.scenario['PV_ICE'].material['glass'].matdataIn_m.iloc[:,3:].columns, \n",
    "           bbox_to_anchor=(0, -0.1), loc='upper left', ncol=1)\n",
    "plt.title('Glass Management Evolution')"
   ]
  },
  {
   "cell_type": "code",
   "execution_count": null,
   "id": "593481e7",
   "metadata": {},
   "outputs": [],
   "source": [
    "plt.plot(sim1.scenario['r_SHJ'].material['aluminium_frames'].matdataIn_m.iloc[:,0],sim1.scenario['r_SHJ'].material['aluminium_frames'].matdataIn_m.iloc[:,3:])\n",
    "plt.legend(sim1.scenario['PV_ICE'].material['aluminium_frames'].matdataIn_m.iloc[:,3:].columns, \n",
    "           bbox_to_anchor=(0, -0.1), loc='upper left', ncol=1)\n",
    "plt.title('Glass Management Evolution')"
   ]
  },
  {
   "cell_type": "code",
   "execution_count": null,
   "id": "0233393a",
   "metadata": {},
   "outputs": [],
   "source": [
    "plt.plot(sim1.scenario['r_SHJ'].material['silver'].matdataIn_m.iloc[:,0],sim1.scenario['r_SHJ'].material['silver'].matdataIn_m.iloc[:,3:])\n",
    "plt.legend(sim1.scenario['PV_ICE'].material['aluminium_frames'].matdataIn_m.iloc[:,3:].columns, \n",
    "           bbox_to_anchor=(0, -0.1), loc='upper left', ncol=1)\n",
    "plt.title('Glass Management Evolution')"
   ]
  },
  {
   "cell_type": "code",
   "execution_count": null,
   "id": "13eba3d5",
   "metadata": {},
   "outputs": [],
   "source": []
  },
  {
   "cell_type": "markdown",
   "id": "d1347e9d",
   "metadata": {},
   "source": [
    "### TOPCon"
   ]
  },
  {
   "cell_type": "code",
   "execution_count": 41,
   "id": "bbf24647",
   "metadata": {},
   "outputs": [],
   "source": [
    "#modified module\n",
    "moduleinput_m_r_TOPCon = os.path.join(altBaselinesfolder, 'mod_r_TOPCon.csv')\n",
    "sim1.createScenario(name='r_TOPCon', massmodulefile=moduleinput_m_r_TOPCon, energymodulefile=moduleFile_e) "
   ]
  },
  {
   "cell_type": "code",
   "execution_count": 42,
   "id": "94976bb4",
   "metadata": {},
   "outputs": [],
   "source": [
    "#module efficiency modify\n",
    "sim1.modifyScenario('r_TOPCon', 'mod_eff', celltech_modeff.loc[2022:,'TOPCon'], start_year=2022) #changing module eff\n",
    "#sim1.scenario['SHJ'].dataIn_m.loc[timeshift:,'mod_eff'] = celltech_modeff.loc[2022:,'SHJ'].values"
   ]
  },
  {
   "cell_type": "code",
   "execution_count": 43,
   "id": "4e7cfbc3",
   "metadata": {},
   "outputs": [],
   "source": [
    "#modified materials\n",
    "#glass\n",
    "matinput_glass_m_improvedRecycle = os.path.join(altBaselinesfolder,'material_mass_glass_improvedRecycle.csv')\n",
    "matbaseline_e_glass = os.path.join(baselinesfolder,'baseline_material_energy_glass.csv')\n",
    "sim1.scenario['r_TOPCon'].addMaterial('glass', massmatfile=matinput_glass_m_improvedRecycle, energymatfile=matbaseline_e_glass)\n",
    "#silicon\n",
    "matinput_silicon_m_improvedRecycle = os.path.join(altBaselinesfolder,'material_mass_silicon_improvedRecycle.csv')\n",
    "matbaseline_e_si = os.path.join(baselinesfolder,'baseline_material_energy_silicon.csv')\n",
    "sim1.scenario['r_TOPCon'].addMaterial('silicon', massmatfile=matinput_silicon_m_improvedRecycle, energymatfile=matbaseline_e_si)\n",
    "#silver\n",
    "matinput_silver_m_improvedRecycle = os.path.join(altBaselinesfolder,'material_mass_silver_improvedRecycle.csv')\n",
    "matbaseline_e_ag = os.path.join(baselinesfolder,'baseline_material_energy_silver.csv')\n",
    "sim1.scenario['r_TOPCon'].addMaterial('silver', massmatfile=matinput_silver_m_improvedRecycle, energymatfile=matbaseline_e_ag)\n",
    "#aluminium frames\n",
    "matinput_Al_m_improvedRecycle = os.path.join(altBaselinesfolder,'material_mass_aluminium_frames_improvedRecycle.csv')\n",
    "matbaseline_e_al = os.path.join(baselinesfolder,'baseline_material_energy_aluminium_frames.csv')\n",
    "sim1.scenario['r_TOPCon'].addMaterial('aluminium_frames', massmatfile=matinput_Al_m_improvedRecycle, energymatfile=matbaseline_e_al)\n",
    "\n",
    "#standard materials\n",
    "baselineMats=['copper', 'encapsulant', 'backsheet']\n",
    "for mats in range (0, len(baselineMats)):\n",
    "    matbaseline_m = os.path.join(baselinesfolder,'baseline_material_mass_'+baselineMats[mats]+'.csv')\n",
    "    matbaseline_e = os.path.join(baselinesfolder,'baseline_material_energy_'+baselineMats[mats]+'.csv')\n",
    "    sim1.scenario['r_TOPCon'].addMaterial(baselineMats[mats], massmatfile=matbaseline_m, energymatfile=matbaseline_e)"
   ]
  },
  {
   "cell_type": "code",
   "execution_count": 44,
   "id": "3110042c",
   "metadata": {},
   "outputs": [],
   "source": [
    "#modify silver usage for PERC\n",
    "sim1.scenario['r_TOPCon'].modifyMaterials('silver', 'mat_massperm2', celltech_aguse.loc[2022:,'TOPCon'], start_year=2022)"
   ]
  },
  {
   "cell_type": "code",
   "execution_count": 45,
   "id": "b60a5daa",
   "metadata": {},
   "outputs": [],
   "source": [
    "#modify package to glass glass\n",
    "sim1.scenario['r_TOPCon'].modifyMaterials('glass', 'mat_massperm2', glassperm2, start_year=2022)"
   ]
  },
  {
   "cell_type": "code",
   "execution_count": null,
   "id": "d3e754a0",
   "metadata": {},
   "outputs": [],
   "source": []
  },
  {
   "cell_type": "markdown",
   "id": "38595515",
   "metadata": {},
   "source": [
    "### IRENA Reg. Loss with improved recycling\n",
    "This scenario uses the IRENA 2016 regular loss scenario results, or a low quality module, and assumes the same EoL recycling improvement as the previous three scenarios"
   ]
  },
  {
   "cell_type": "code",
   "execution_count": 46,
   "id": "9ceffca9",
   "metadata": {},
   "outputs": [],
   "source": [
    "#modified module\n",
    "moduleinput_m_r_IRENA = os.path.join(altBaselinesfolder, 'mod_r_IRENAregloss.csv')\n",
    "sim1.createScenario(name='r_IRENA', massmodulefile=moduleinput_m_r_IRENA, energymodulefile=moduleFile_e) "
   ]
  },
  {
   "cell_type": "code",
   "execution_count": 47,
   "id": "74df49ea",
   "metadata": {},
   "outputs": [],
   "source": [
    "#modified materials\n",
    "#glass\n",
    "matinput_glass_m_improvedRecycle = os.path.join(altBaselinesfolder,'material_mass_glass_improvedRecycle.csv')\n",
    "matbaseline_e_glass = os.path.join(baselinesfolder,'baseline_material_energy_glass.csv')\n",
    "sim1.scenario['r_IRENA'].addMaterial('glass', massmatfile=matinput_glass_m_improvedRecycle, energymatfile=matbaseline_e_glass)\n",
    "#silicon\n",
    "matinput_silicon_m_improvedRecycle = os.path.join(altBaselinesfolder,'material_mass_silicon_improvedRecycle.csv')\n",
    "matbaseline_e_si = os.path.join(baselinesfolder,'baseline_material_energy_silicon.csv')\n",
    "sim1.scenario['r_IRENA'].addMaterial('silicon', massmatfile=matinput_silicon_m_improvedRecycle, energymatfile=matbaseline_e_si)\n",
    "#silver\n",
    "matinput_silver_m_improvedRecycle = os.path.join(altBaselinesfolder,'material_mass_silver_improvedRecycle.csv')\n",
    "matbaseline_e_ag = os.path.join(baselinesfolder,'baseline_material_energy_silver.csv')\n",
    "sim1.scenario['r_IRENA'].addMaterial('silver', massmatfile=matinput_silver_m_improvedRecycle, energymatfile=matbaseline_e_ag)\n",
    "#aluminium frames\n",
    "matinput_Al_m_improvedRecycle = os.path.join(altBaselinesfolder,'material_mass_aluminium_frames_improvedRecycle.csv')\n",
    "matbaseline_e_al = os.path.join(baselinesfolder,'baseline_material_energy_aluminium_frames.csv')\n",
    "sim1.scenario['r_IRENA'].addMaterial('aluminium_frames', massmatfile=matinput_Al_m_improvedRecycle, energymatfile=matbaseline_e_al)\n",
    "\n",
    "#standard materials\n",
    "baselineMats=['copper', 'encapsulant', 'backsheet']\n",
    "for mats in range (0, len(baselineMats)):\n",
    "    matbaseline_m = os.path.join(baselinesfolder,'baseline_material_mass_'+baselineMats[mats]+'.csv')\n",
    "    matbaseline_e = os.path.join(baselinesfolder,'baseline_material_energy_'+baselineMats[mats]+'.csv')\n",
    "    sim1.scenario['r_IRENA'].addMaterial(baselineMats[mats], massmatfile=matbaseline_m, energymatfile=matbaseline_e)"
   ]
  },
  {
   "cell_type": "code",
   "execution_count": null,
   "id": "27728d89",
   "metadata": {},
   "outputs": [],
   "source": []
  },
  {
   "cell_type": "markdown",
   "id": "116c5f82",
   "metadata": {},
   "source": [
    "### Recycled PERC\n",
    "This module is based on the recent test from Fraunhofer ISE in which an old module was dissassembled, and the silicon wafer cleaned, put into a Cz ingot growth process and made using standard PERC processing, creating a 19% efficient module.\n",
    "https://www.ise.fraunhofer.de/en/press-media/press-releases/2022/solar-cells-from-recycled-silicon.html"
   ]
  },
  {
   "cell_type": "code",
   "execution_count": 50,
   "id": "efcf30d6",
   "metadata": {},
   "outputs": [],
   "source": [
    "#modified module\n",
    "moduleinput_m_r_RecyclePERC = os.path.join(altBaselinesfolder, 'mod_r_PERCrecycleSi.csv')\n",
    "sim1.createScenario(name='r_RecycledPERC', massmodulefile=moduleinput_m_r_RecyclePERC, energymodulefile=moduleFile_e) \n",
    "\n",
    "for mat in range (0, len(MATERIALS)):\n",
    "    matbaseline_m = os.path.join(baselinesfolder,'baseline_material_mass_'+MATERIALS[mat]+'.csv')\n",
    "    matbaseline_e = os.path.join(baselinesfolder,'baseline_material_energy_'+MATERIALS[mat]+'.csv')\n",
    "    sim1.scenario['r_RecycledPERC'].addMaterial(MATERIALS[mat], massmatfile=matbaseline_m, energymatfile=matbaseline_e)"
   ]
  },
  {
   "cell_type": "code",
   "execution_count": 65,
   "id": "98c23d52",
   "metadata": {},
   "outputs": [],
   "source": [
    "#glass recycling\n",
    "#eol\n",
    "sim1.scenario['r_RecycledPERC'].modifyMaterials('glass', 'mat_PG3_ReMFG_target', 0.0, start_year=2022) #send to recycle\n",
    "sim1.scenario['r_RecycledPERC'].modifyMaterials('glass', 'mat_PG4_Recycling_target', 100.0, start_year=2022) #send to recycle\n",
    "#sim1.scenario['r_RecycledPERC'].modifyMaterials('glass', 'mat_Recycling_yield', 98.0, start_year=2022) #99% yeild\n",
    "sim1.scenario['r_RecycledPERC'].modifyMaterials('glass', 'mat_EOL_Recycled_into_HQ', 0.0, start_year=2022) #all HQ\n",
    "sim1.scenario['r_RecycledPERC'].modifyMaterials('glass', 'mat_EOL_RecycledHQ_Reused4MFG', 0.0, start_year=2022) #closed-loop\n",
    "\n",
    "#silicon recycled\n",
    "#mfg scrap\n",
    "sim1.scenario['r_RecycledPERC'].modifyMaterials('silicon', 'mat_MFG_scrap_Recycled', 100.0, start_year=2022) #send mfg scrap to recycle\n",
    "sim1.scenario['r_RecycledPERC'].modifyMaterials('silicon', 'mat_MFG_scrap_Recycling_eff', 98.0, start_year=2022) #98% yield\n",
    "sim1.scenario['r_RecycledPERC'].modifyMaterials('silicon', 'mat_MFG_scrap_Recycled_into_HQ', 100.0, start_year=2022) #all HQ\n",
    "sim1.scenario['r_RecycledPERC'].modifyMaterials('silicon', 'mat_MFG_scrap_Recycled_into_HQ_Reused4MFG', 100.0, start_year=2022) #closed-loop\n",
    "#eol\n",
    "sim1.scenario['r_RecycledPERC'].modifyMaterials('silicon', 'mat_PG3_ReMFG_target', 0.0, start_year=2022) #send to recycle\n",
    "sim1.scenario['r_RecycledPERC'].modifyMaterials('silicon', 'mat_PG4_Recycling_target', 100.0, start_year=2022) #send to recycle\n",
    "sim1.scenario['r_RecycledPERC'].modifyMaterials('silicon', 'mat_Recycling_yield', 98.0, start_year=2022) #99% yeild\n",
    "sim1.scenario['r_RecycledPERC'].modifyMaterials('silicon', 'mat_EOL_Recycled_into_HQ', 100.0, start_year=2022) #all HQ\n",
    "sim1.scenario['r_RecycledPERC'].modifyMaterials('silicon', 'mat_EOL_RecycledHQ_Reused4MFG', 100.0, start_year=2022) #closed-loop\n",
    "\n",
    "#aluminium_frames recycle\n",
    "#mfg scrap\n",
    "sim1.scenario['r_RecycledPERC'].modifyMaterials('aluminium_frames', 'mat_MFG_scrap_Recycled', 100.0, start_year=2022) #send mfg scrap to recycle\n",
    "sim1.scenario['r_RecycledPERC'].modifyMaterials('aluminium_frames', 'mat_MFG_scrap_Recycling_eff', 98.0, start_year=2022) #98% yield\n",
    "sim1.scenario['r_RecycledPERC'].modifyMaterials('aluminium_frames', 'mat_MFG_scrap_Recycled_into_HQ', 100.0, start_year=2022) #all HQ\n",
    "sim1.scenario['r_RecycledPERC'].modifyMaterials('aluminium_frames', 'mat_MFG_scrap_Recycled_into_HQ_Reused4MFG', 100.0, start_year=2022) #closed-loop\n",
    "#eol\n",
    "sim1.scenario['r_RecycledPERC'].modifyMaterials('aluminium_frames', 'mat_PG3_ReMFG_target', 0.0, start_year=2022) #send to recycle\n",
    "sim1.scenario['r_RecycledPERC'].modifyMaterials('aluminium_frames', 'mat_PG4_Recycling_target', 100.0, start_year=2022) #send to recycle\n",
    "sim1.scenario['r_RecycledPERC'].modifyMaterials('aluminium_frames', 'mat_Recycling_yield', 98.0, start_year=2022) #99% yeild\n",
    "sim1.scenario['r_RecycledPERC'].modifyMaterials('aluminium_frames', 'mat_EOL_Recycled_into_HQ', 100.0, start_year=2022) #all HQ\n",
    "sim1.scenario['r_RecycledPERC'].modifyMaterials('aluminium_frames', 'mat_EOL_RecycledHQ_Reused4MFG', 100.0, start_year=2022) #closed-loop\n",
    "\n",
    "#silver recycling improvement\n",
    "#create improvement series\n",
    "idx_temp = pd.RangeIndex(start=2022,stop=2051,step=1) #create the index\n",
    "df_silver_recycleimprove = pd.DataFrame(index=idx_temp, columns=['mat_PG4_Recycling_target'], dtype=float)\n",
    "df_silver_recycleimprove.loc[2022] = 0\n",
    "df_silver_recycleimprove.loc[2030] = 40\n",
    "df_silver_recycleimprove.loc[2050] = 100\n",
    "df_silver_recycleimprove.interpolate(inplace=True)\n",
    "\n",
    "#eol\n",
    "sim1.scenario['r_RecycledPERC'].modifyMaterials('silver', 'mat_PG3_ReMFG_target', 0.0, start_year=2022) #send to recycle\n",
    "sim1.scenario['r_RecycledPERC'].modifyMaterials('silver', 'mat_PG4_Recycling_target',\n",
    "                                                df_silver_recycleimprove.loc[2022:,'mat_PG4_Recycling_target'], start_year=2022) \n",
    "sim1.scenario['r_RecycledPERC'].modifyMaterials('silver', 'mat_Recycling_yield', 98.0, start_year=2022) #99% yeild\n",
    "sim1.scenario['r_RecycledPERC'].modifyMaterials('silver', 'mat_EOL_Recycled_into_HQ', 100.0, start_year=2022) #all HQ\n",
    "sim1.scenario['r_RecycledPERC'].modifyMaterials('silver', 'mat_EOL_RecycledHQ_Reused4MFG', 100.0, start_year=2022) #closed-loop\n"
   ]
  },
  {
   "cell_type": "code",
   "execution_count": 60,
   "id": "aeb1f753",
   "metadata": {},
   "outputs": [],
   "source": [
    "#the cool feature of this module was that the wafer was directly put into the Cz process\n",
    "#therefore, we need to modify the recycling energy to reflect this\n",
    "#this energy profile is output by the (baseline development) Energy Silicon Manufacturing journal.\n",
    "altHQRecycle_e = pd.read_csv(os.path.join(supportMatfolder, 'output_energy_silicon_eol_recycleHQ_ALT.csv'), index_col=0)\n",
    "altHQRecycle_e"
   ]
  },
  {
   "cell_type": "code",
   "execution_count": 62,
   "id": "48e54417",
   "metadata": {},
   "outputs": [],
   "source": [
    "#modify silicon recycling energy\n",
    "sim1.scenario['r_RecycledPERC'].modifyMaterialEnergy('silicon', 'e_mat_Recycled_HQ', altHQRecycle_e.loc[2022:,'E_MFG_kWhpkg'], start_year=2022)\n",
    "sim1.scenario['r_RecycledPERC'].modifyMaterialEnergy('silicon', 'e_mat_Recycled_HQ_fuelfraction', altHQRecycle_e.loc[2022:,'E_mfgFuelFraction'], start_year=2022)\n"
   ]
  },
  {
   "cell_type": "code",
   "execution_count": 64,
   "id": "290a37f3",
   "metadata": {
    "scrolled": true
   },
   "outputs": [
    {
     "data": {
      "text/html": [
       "<div>\n",
       "<style scoped>\n",
       "    .dataframe tbody tr th:only-of-type {\n",
       "        vertical-align: middle;\n",
       "    }\n",
       "\n",
       "    .dataframe tbody tr th {\n",
       "        vertical-align: top;\n",
       "    }\n",
       "\n",
       "    .dataframe thead th {\n",
       "        text-align: right;\n",
       "    }\n",
       "</style>\n",
       "<table border=\"1\" class=\"dataframe\">\n",
       "  <thead>\n",
       "    <tr style=\"text-align: right;\">\n",
       "      <th></th>\n",
       "      <th>year</th>\n",
       "      <th>e_mat_extraction</th>\n",
       "      <th>e_mat_MFG</th>\n",
       "      <th>e_mat_MFG_fuelfraction</th>\n",
       "      <th>e_mat_MFGScrap_LQ</th>\n",
       "      <th>e_mat_MFGScrap_HQ</th>\n",
       "      <th>e_mat_Landfill</th>\n",
       "      <th>e_mat_Landfill_fuelfraction</th>\n",
       "      <th>e_mat_EoL_ReMFG_clean</th>\n",
       "      <th>e_mat_Recycled_LQ</th>\n",
       "      <th>e_mat_Recycled_HQ</th>\n",
       "      <th>e_mat_Recycled_HQ_fuelfraction</th>\n",
       "    </tr>\n",
       "  </thead>\n",
       "  <tbody>\n",
       "    <tr>\n",
       "      <th>25</th>\n",
       "      <td>2020</td>\n",
       "      <td>0.0062</td>\n",
       "      <td>169.06</td>\n",
       "      <td>0.22</td>\n",
       "      <td>24.5</td>\n",
       "      <td>600.0</td>\n",
       "      <td>0.09</td>\n",
       "      <td>0.0</td>\n",
       "      <td>0.4</td>\n",
       "      <td>1.6</td>\n",
       "      <td>138.380000</td>\n",
       "      <td>0.200000</td>\n",
       "    </tr>\n",
       "    <tr>\n",
       "      <th>26</th>\n",
       "      <td>2021</td>\n",
       "      <td>0.0062</td>\n",
       "      <td>170.73</td>\n",
       "      <td>0.21</td>\n",
       "      <td>24.5</td>\n",
       "      <td>600.0</td>\n",
       "      <td>0.09</td>\n",
       "      <td>0.0</td>\n",
       "      <td>0.4</td>\n",
       "      <td>1.6</td>\n",
       "      <td>143.040000</td>\n",
       "      <td>0.190000</td>\n",
       "    </tr>\n",
       "    <tr>\n",
       "      <th>27</th>\n",
       "      <td>2022</td>\n",
       "      <td>0.0062</td>\n",
       "      <td>169.05</td>\n",
       "      <td>0.20</td>\n",
       "      <td>24.5</td>\n",
       "      <td>600.0</td>\n",
       "      <td>0.09</td>\n",
       "      <td>0.0</td>\n",
       "      <td>0.4</td>\n",
       "      <td>1.6</td>\n",
       "      <td>77.837724</td>\n",
       "      <td>0.055738</td>\n",
       "    </tr>\n",
       "    <tr>\n",
       "      <th>28</th>\n",
       "      <td>2023</td>\n",
       "      <td>0.0062</td>\n",
       "      <td>168.80</td>\n",
       "      <td>0.20</td>\n",
       "      <td>24.5</td>\n",
       "      <td>600.0</td>\n",
       "      <td>0.09</td>\n",
       "      <td>0.0</td>\n",
       "      <td>0.4</td>\n",
       "      <td>1.6</td>\n",
       "      <td>77.837724</td>\n",
       "      <td>0.055738</td>\n",
       "    </tr>\n",
       "    <tr>\n",
       "      <th>29</th>\n",
       "      <td>2024</td>\n",
       "      <td>0.0062</td>\n",
       "      <td>169.09</td>\n",
       "      <td>0.20</td>\n",
       "      <td>24.5</td>\n",
       "      <td>600.0</td>\n",
       "      <td>0.09</td>\n",
       "      <td>0.0</td>\n",
       "      <td>0.4</td>\n",
       "      <td>1.6</td>\n",
       "      <td>77.837724</td>\n",
       "      <td>0.055738</td>\n",
       "    </tr>\n",
       "  </tbody>\n",
       "</table>\n",
       "</div>"
      ],
      "text/plain": [
       "    year  e_mat_extraction  e_mat_MFG  e_mat_MFG_fuelfraction  \\\n",
       "25  2020            0.0062     169.06                    0.22   \n",
       "26  2021            0.0062     170.73                    0.21   \n",
       "27  2022            0.0062     169.05                    0.20   \n",
       "28  2023            0.0062     168.80                    0.20   \n",
       "29  2024            0.0062     169.09                    0.20   \n",
       "\n",
       "    e_mat_MFGScrap_LQ  e_mat_MFGScrap_HQ  e_mat_Landfill  \\\n",
       "25               24.5              600.0            0.09   \n",
       "26               24.5              600.0            0.09   \n",
       "27               24.5              600.0            0.09   \n",
       "28               24.5              600.0            0.09   \n",
       "29               24.5              600.0            0.09   \n",
       "\n",
       "    e_mat_Landfill_fuelfraction  e_mat_EoL_ReMFG_clean  e_mat_Recycled_LQ  \\\n",
       "25                          0.0                    0.4                1.6   \n",
       "26                          0.0                    0.4                1.6   \n",
       "27                          0.0                    0.4                1.6   \n",
       "28                          0.0                    0.4                1.6   \n",
       "29                          0.0                    0.4                1.6   \n",
       "\n",
       "    e_mat_Recycled_HQ  e_mat_Recycled_HQ_fuelfraction  \n",
       "25         138.380000                        0.200000  \n",
       "26         143.040000                        0.190000  \n",
       "27          77.837724                        0.055738  \n",
       "28          77.837724                        0.055738  \n",
       "29          77.837724                        0.055738  "
      ]
     },
     "execution_count": 64,
     "metadata": {},
     "output_type": "execute_result"
    }
   ],
   "source": [
    "sim1.scenario['r_RecycledPERC'].material['silicon'].matdataIn_e.iloc[25:30,]"
   ]
  },
  {
   "cell_type": "markdown",
   "id": "b1f6ca9f",
   "metadata": {},
   "source": [
    "### 50-year PERC gradual improvement"
   ]
  },
  {
   "cell_type": "code",
   "execution_count": 67,
   "id": "3900bfd8",
   "metadata": {},
   "outputs": [],
   "source": [
    "#modified module\n",
    "moduleinput_m_r_50PERC = os.path.join(altBaselinesfolder, 'mod_r_50PERC.csv')\n",
    "sim1.createScenario(name='r_50PERC', massmodulefile=moduleinput_m_r_50PERC, energymodulefile=moduleFile_e) \n",
    "\n",
    "#load standard materials\n",
    "for mat in range (0, len(MATERIALS)):\n",
    "    matbaseline_m = os.path.join(baselinesfolder,'baseline_material_mass_'+MATERIALS[mat]+'.csv')\n",
    "    matbaseline_e = os.path.join(baselinesfolder,'baseline_material_energy_'+MATERIALS[mat]+'.csv')\n",
    "    sim1.scenario['r_50PERC'].addMaterial(MATERIALS[mat], massmatfile=matbaseline_m, energymatfile=matbaseline_e)"
   ]
  },
  {
   "cell_type": "code",
   "execution_count": 70,
   "id": "cb7255f3",
   "metadata": {},
   "outputs": [],
   "source": [
    "#glass recycling\n",
    "#create improvement series\n",
    "idx_temp = pd.RangeIndex(start=2022,stop=2051,step=1) #create the index\n",
    "df_glass_target = pd.DataFrame(index=idx_temp, columns=['mat_PG4_Recycling_target'], dtype=float)\n",
    "df_glass_target.loc[2022] = 0\n",
    "df_glass_target.loc[2030] = 100\n",
    "df_glass_target.loc[2050] = 100\n",
    "df_glass_target.interpolate(inplace=True)\n",
    "\n",
    "df_glass_lowrecycle = pd.DataFrame(index=idx_temp, columns=['mat_EOL_Recycled_into_HQ'], dtype=float)\n",
    "df_glass_lowrecycle.loc[2022] = 0\n",
    "df_glass_lowrecycle.loc[2030] = 0\n",
    "df_glass_lowrecycle.loc[2050] = 50\n",
    "df_glass_lowrecycle.interpolate(inplace=True)\n",
    "\n",
    "#eol\n",
    "sim1.scenario['r_50PERC'].modifyMaterials('glass', 'mat_PG3_ReMFG_target', 0.0, start_year=2022) #send to recycle\n",
    "sim1.scenario['r_50PERC'].modifyMaterials('glass', 'mat_PG4_Recycling_target', \n",
    "                                          df_glass_target.loc[2022:,'mat_PG4_Recycling_target'], start_year=2022) #send to recycle\n",
    "#sim1.scenario['r_RecycledPERC'].modifyMaterials('glass', 'mat_Recycling_yield', 98.0, start_year=2022) #99% yeild\n",
    "sim1.scenario['r_50PERC'].modifyMaterials('glass', 'mat_EOL_Recycled_into_HQ', \n",
    "                                          df_glass_lowrecycle.loc[2022:,'mat_EOL_Recycled_into_HQ'], start_year=2022) #all HQ\n",
    "sim1.scenario['r_50PERC'].modifyMaterials('glass', 'mat_EOL_RecycledHQ_Reused4MFG', 100.0, start_year=2022) #closed-loop\n"
   ]
  },
  {
   "cell_type": "code",
   "execution_count": 73,
   "id": "265e42f6",
   "metadata": {},
   "outputs": [],
   "source": [
    "#silicon recycled\n",
    "#create improvement series\n",
    "idx_temp = pd.RangeIndex(start=2022,stop=2051,step=1) #create the index\n",
    "df_si_target = pd.DataFrame(index=idx_temp, columns=['mat_PG4_Recycling_target'], dtype=float)\n",
    "df_si_target.loc[2022] = 0\n",
    "df_si_target.loc[2030] = 0\n",
    "df_si_target.loc[2050] = 50\n",
    "df_si_target.interpolate(inplace=True)\n",
    "\n",
    "#eol\n",
    "sim1.scenario['r_50PERC'].modifyMaterials('silicon', 'mat_PG3_ReMFG_target', 0.0, start_year=2022) #send to recycle\n",
    "sim1.scenario['r_50PERC'].modifyMaterials('silicon', 'mat_PG4_Recycling_target', \n",
    "                                          df_si_target.loc[2022:,'mat_PG4_Recycling_target'], start_year=2022) #send to recycle\n",
    "#sim1.scenario['r_50PERC'].modifyMaterials('silicon', 'mat_Recycling_yield', 98.0, start_year=2022) #99% yeild\n",
    "sim1.scenario['r_50PERC'].modifyMaterials('silicon', 'mat_EOL_Recycled_into_HQ', 100.0, start_year=2022) #all HQ\n",
    "sim1.scenario['r_50PERC'].modifyMaterials('silicon', 'mat_EOL_RecycledHQ_Reused4MFG', 100.0, start_year=2022) #closed-loop\n",
    "\n"
   ]
  },
  {
   "cell_type": "code",
   "execution_count": 78,
   "id": "d1e3316d",
   "metadata": {
    "scrolled": true
   },
   "outputs": [],
   "source": [
    "#sim1.scenario['r_50PERC'].material['silicon'].matdataIn_m"
   ]
  },
  {
   "cell_type": "code",
   "execution_count": 75,
   "id": "d5da26c0",
   "metadata": {},
   "outputs": [],
   "source": [
    "#aluminium_frames recycle\n",
    "idx_temp = pd.RangeIndex(start=2022,stop=2051,step=1) #create the index\n",
    "df_al_target = pd.DataFrame(index=idx_temp, columns=['mat_PG4_Recycling_target'], dtype=float)\n",
    "df_al_target.loc[2022] = 0\n",
    "df_al_target.loc[2030] = 100\n",
    "df_al_target.loc[2050] = 100\n",
    "df_al_target.interpolate(inplace=True)\n",
    "\n",
    "df_al_lowrecycle = pd.DataFrame(index=idx_temp, columns=['mat_EOL_Recycled_into_HQ'], dtype=float)\n",
    "df_al_lowrecycle.loc[2022] = 0\n",
    "df_al_lowrecycle.loc[2030] = 100\n",
    "df_al_lowrecycle.loc[2050] = 100\n",
    "df_al_lowrecycle.interpolate(inplace=True)\n",
    "\n",
    "df_al_lowCL = pd.DataFrame(index=idx_temp, columns=['mat_EOL_RecycledHQ_Reused4MFG'], dtype=float)\n",
    "df_al_lowCL.loc[2022] = 0\n",
    "df_al_lowCL.loc[2030] = 20\n",
    "df_al_lowCL.loc[2050] = 50\n",
    "df_al_lowCL.interpolate(inplace=True)\n",
    "\n",
    "#eol\n",
    "sim1.scenario['r_50PERC'].modifyMaterials('aluminium_frames', 'mat_PG3_ReMFG_target', 0.0, start_year=2022) #send to recycle\n",
    "sim1.scenario['r_50PERC'].modifyMaterials('aluminium_frames', 'mat_PG4_Recycling_target', \n",
    "                                          df_al_target.loc[2022:,'mat_PG4_Recycling_target'], start_year=2022) #send to recycle\n",
    "sim1.scenario['r_50PERC'].modifyMaterials('aluminium_frames', 'mat_Recycling_yield', 98.0, start_year=2022) #99% yeild\n",
    "sim1.scenario['r_50PERC'].modifyMaterials('aluminium_frames', 'mat_EOL_Recycled_into_HQ', \n",
    "                                          df_al_lowrecycle.loc[2022:,'mat_EOL_Recycled_into_HQ'], start_year=2022) #all HQ\n",
    "sim1.scenario['r_50PERC'].modifyMaterials('aluminium_frames', 'mat_EOL_RecycledHQ_Reused4MFG', \n",
    "                                          df_al_lowCL.loc[2022:,'mat_EOL_RecycledHQ_Reused4MFG'], start_year=2022) #closed-loop\n"
   ]
  },
  {
   "cell_type": "code",
   "execution_count": 77,
   "id": "ae1d5770",
   "metadata": {
    "scrolled": true
   },
   "outputs": [],
   "source": [
    "#sim1.scenario['r_50PERC'].material['aluminium_frames'].matdataIn_m"
   ]
  },
  {
   "cell_type": "markdown",
   "id": "91435763",
   "metadata": {},
   "source": [
    "#### Hopeful Perovskite, Gradually increasing circularity"
   ]
  },
  {
   "cell_type": "code",
   "execution_count": 79,
   "id": "13a1eab1",
   "metadata": {},
   "outputs": [],
   "source": [
    "#modified module\n",
    "moduleinput_m_r_perovskite = os.path.join(altBaselinesfolder, 'mod_r_perovskite.csv')\n",
    "sim1.createScenario(name='r_Perovskite', massmodulefile=moduleinput_m_r_perovskite, energymodulefile=moduleFile_e) \n",
    "\n",
    "#modified materials\n",
    "#glass\n",
    "matinput_glass_m_remfg = os.path.join(altBaselinesfolder,'material_mass_glass_r_perovskite.csv')\n",
    "matbaseline_e_glass = os.path.join(baselinesfolder,'baseline_material_energy_glass.csv')\n",
    "sim1.scenario['r_Perovskite'].addMaterial('glass', massmatfile=matinput_glass_m_remfg, energymatfile=matbaseline_e_glass)\n",
    "\n",
    "#silicon\n",
    "matinput_silicon_m_remfg = os.path.join(altBaselinesfolder,'material_mass_silicon_r_perovskite.csv')\n",
    "matbaseline_e_si = os.path.join(baselinesfolder,'baseline_material_energy_silicon.csv')\n",
    "sim1.scenario['r_Perovskite'].addMaterial('silicon', massmatfile=matinput_silicon_m_remfg, energymatfile=matbaseline_e_si)\n",
    "\n",
    "#load standard materials\n",
    "subMats =['silver', 'copper', 'aluminium_frames','encapsulant', 'backsheet']\n",
    "for mat in range (0, len(subMats)):\n",
    "    matbaseline_m = os.path.join(baselinesfolder,'baseline_material_mass_'+MATERIALS[mat]+'.csv')\n",
    "    matbaseline_e = os.path.join(baselinesfolder,'baseline_material_energy_'+MATERIALS[mat]+'.csv')\n",
    "    sim1.scenario['r_Perovskite'].addMaterial(MATERIALS[mat], massmatfile=matbaseline_m, energymatfile=matbaseline_e)"
   ]
  },
  {
   "cell_type": "code",
   "execution_count": 80,
   "id": "8441db61",
   "metadata": {},
   "outputs": [],
   "source": [
    "#aluminium_frames recycle\n",
    "\n",
    "#eol\n",
    "sim1.scenario['r_Perovskite'].modifyMaterials('aluminium_frames', 'mat_PG3_ReMFG_target', 0.0, start_year=2022) #send to recycle\n",
    "sim1.scenario['r_Perovskite'].modifyMaterials('aluminium_frames', 'mat_PG4_Recycling_target', 100.0, start_year=2022) #send to recycle\n",
    "sim1.scenario['r_Perovskite'].modifyMaterials('aluminium_frames', 'mat_Recycling_yield', 98.0, start_year=2022) #99% yeild\n",
    "sim1.scenario['r_Perovskite'].modifyMaterials('aluminium_frames', 'mat_EOL_Recycled_into_HQ', 100.0, start_year=2022) #all HQ\n",
    "sim1.scenario['r_Perovskite'].modifyMaterials('aluminium_frames', 'mat_EOL_RecycledHQ_Reused4MFG',100.0, start_year=2022) #closed-loop\n"
   ]
  },
  {
   "cell_type": "code",
   "execution_count": null,
   "id": "bac99ecd",
   "metadata": {},
   "outputs": [],
   "source": []
  },
  {
   "cell_type": "markdown",
   "id": "233a3662",
   "metadata": {},
   "source": [
    "### Modify Years 2000 to 2100\n",
    "We do this after we modify the baselines to propogate the modified 2050 values forward"
   ]
  },
  {
   "cell_type": "code",
   "execution_count": null,
   "id": "4e36e4e1",
   "metadata": {
    "scrolled": true
   },
   "outputs": [],
   "source": [
    "#trim to start in 2000, this trims module and materials\n",
    "#had to specify and end year, cannot use to extend\n",
    "sim1.trim_Years(startYear=2000, endYear=2100)"
   ]
  },
  {
   "cell_type": "code",
   "execution_count": null,
   "id": "1733de91",
   "metadata": {},
   "outputs": [],
   "source": [
    "#check\n",
    "sim1.scenario['r_SHJ'].material['glass'].matdataIn_e"
   ]
  },
  {
   "cell_type": "markdown",
   "id": "31625649",
   "metadata": {},
   "source": [
    "### Apply deployment curve\n",
    "For the full derivation of the deployment curve, see the \"PV Installations - Global\" development journal. Essentially, the projection is 2000-2021 IRENA historical installation data, 2022 through 2050 is a quadratic fit to achieve 50 TW in 2050, and from 2050 to 2100 is a linear increase to approx 60 TW based on 2000-2021 global increase in electricity capacity (219.32 GW/year).\n",
    "\n",
    "This is the deployment curve applied to all PV technologies - however, it will be modified for each PV tech using the installation compensation method, increasing it for any replacement modules required to maintain capacity."
   ]
  },
  {
   "cell_type": "code",
   "execution_count": null,
   "id": "0c453214",
   "metadata": {},
   "outputs": [],
   "source": [
    "global_projection = pd.read_csv(os.path.join(supportMatfolder,'output-globalInstallsProjection.csv'), index_col=0)\n",
    "\n",
    "fig, ax1 = plt.subplots()\n",
    "\n",
    "ax1.stackplot(global_projection.index, global_projection['World_cum']/1e6, color='#F7A11A')\n",
    "ax1.set_ylabel('Cumulative Solar Capacity [TW]', color='#F7A11A')\n",
    "ax2 = ax1.twinx()\n",
    "ax2.plot(global_projection['World_annual_[MWdc]']/1e6)\n",
    "ax2.set_ylabel('Annual Installations [TW]')\n",
    "plt.show()\n"
   ]
  },
  {
   "cell_type": "code",
   "execution_count": null,
   "id": "68799e77",
   "metadata": {},
   "outputs": [],
   "source": [
    "#deployment projection for all scenarios\n",
    "sim1.modifyScenario(scenarios=None,stage='new_Installed_Capacity_[MW]', value= global_projection['World_annual_[MWdc]'], start_year=2000)\n",
    "#for scen in scennames:\n",
    "#    sim1.scenario[scen].dataIn_m.loc[0:len(global_projection.index-1),'new_Installed_Capacity_[MW]'] = global_projection['World_annual_[MWdc]'].values"
   ]
  },
  {
   "cell_type": "code",
   "execution_count": null,
   "id": "86a21894",
   "metadata": {},
   "outputs": [],
   "source": []
  },
  {
   "cell_type": "markdown",
   "id": "f1be526b",
   "metadata": {},
   "source": [
    "# Calculate Mass flow\n",
    "Can just calc mass here (exclude energy) because we're going to immediately do Install Compensation."
   ]
  },
  {
   "cell_type": "code",
   "execution_count": null,
   "id": "ed466bcc",
   "metadata": {
    "scrolled": true
   },
   "outputs": [],
   "source": [
    "sim1.calculateMassFlow()\n",
    "sim1.calculateFlows(scenarios=['CheapCrap'], weibullInputParams=cheapcrapweibull)"
   ]
  },
  {
   "cell_type": "code",
   "execution_count": null,
   "id": "b364cb8d",
   "metadata": {},
   "outputs": [],
   "source": [
    "ii_yearly, ii_cumu = sim1.aggregateResults() #have to do this to get auto plots"
   ]
  },
  {
   "cell_type": "code",
   "execution_count": null,
   "id": "21c580e4",
   "metadata": {},
   "outputs": [],
   "source": [
    "ii_cumu['newInstalledCapacity_sim1_PV_ICE_[MW]']"
   ]
  },
  {
   "cell_type": "code",
   "execution_count": null,
   "id": "98f84402",
   "metadata": {},
   "outputs": [],
   "source": [
    "sim1.scenario['CheapCrap'].dataOut_m['WeibullParams']"
   ]
  },
  {
   "cell_type": "code",
   "execution_count": null,
   "id": "58773d73",
   "metadata": {},
   "outputs": [],
   "source": [
    "effective_capacity = ii_yearly.filter(like='ActiveCapacity')\n",
    "plt.plot(ii_cumu['newInstalledCapacity_sim1_PV_ICE_[MW]']/1e6, label='Capacity Target', color='black', ls='--')\n",
    "plt.plot(effective_capacity/1e6, label=scennames_labels)\n",
    "plt.legend()\n",
    "plt.ylabel('Effective Capacity [TW]')\n",
    "plt.title('Effective Capacity: No Replacements')\n",
    "plt.ylim(0,)"
   ]
  },
  {
   "cell_type": "markdown",
   "id": "267b2129",
   "metadata": {},
   "source": [
    "# Installation Compensation\n",
    "Make the installations always match up to the cumulative capacity deployment schedule. (i.e. not the PV ICE baseline)"
   ]
  },
  {
   "cell_type": "markdown",
   "id": "94cbe8e3",
   "metadata": {},
   "source": [
    "#### Bifacial Factors"
   ]
  },
  {
   "cell_type": "code",
   "execution_count": null,
   "id": "f10b2b9e",
   "metadata": {},
   "outputs": [],
   "source": [
    "bifiFactors = {'PERC_50':0.7, # ITRPV 2022, Fig. 58\n",
    "               'SHJ':0.9, # ITRPV 2022, Fig. 58\n",
    "               'TOPCon':0.8, # ITRPV 2022, Fig. 58\n",
    "               'Perovskite': 0.0,\n",
    "               'RecycledPERC':0.6,\n",
    "                'PV_ICE':0.0,\n",
    "                'CheapCrap':0.0} \n",
    "\n",
    "#MAY NEED TO CHANGE TO BE DYNAMIC"
   ]
  },
  {
   "cell_type": "code",
   "execution_count": null,
   "id": "6067d38a",
   "metadata": {},
   "outputs": [],
   "source": [
    "#PV ICE currently set up to read in a csv of bifi factors, so generate files to read in \n",
    "idx_temp = pd.RangeIndex(start=2000,stop=2101,step=1) #create the index\n",
    "df_temp = pd.DataFrame(index=idx_temp, columns=['bifi'], dtype=float)\n",
    "bifiPathDict={}\n",
    "\n",
    "for f in bifiFactors.keys(): #loop over module types\n",
    "    bifi = df_temp.copy() #copy of df\n",
    "    bifi['bifi'] = bifiFactors[f] #assign column\n",
    "    bifipath = os.path.join(testfolder,'bifi_'+str(f)+'.csv') #create file path\n",
    "    bifi.to_csv(path_or_buf=bifipath, index_label='year') #create file\n",
    "    bifiPathDict[str(f)] = bifipath\n",
    "    #append bifi path to dict? or list?\n"
   ]
  },
  {
   "cell_type": "code",
   "execution_count": null,
   "id": "d01774d9",
   "metadata": {
    "scrolled": true
   },
   "outputs": [],
   "source": [
    "#currently takes 15 mins to run with 5 mateirals and 5 scenarios\n",
    "\n",
    "for row in range (0,len(sim1.scenario['PV_ICE'].dataIn_m)): #loop over length of years\n",
    "    print(row)\n",
    "    for scen in scennames: #loop over scenarios\n",
    "        print(scen)\n",
    "        Under_Installment = global_projection.iloc[row,0] - ((sim1.scenario[scen].dataOut_m['Installed_Capacity_[W]'][row])/1e6)  # MWATTS\n",
    "        sim1.scenario[scen].dataIn_m['new_Installed_Capacity_[MW]'][row] += Under_Installment #overwrite new installed\n",
    "        #calculate flows for that scenario with it's bifi factor and modified weibull\n",
    "        if scen == 'CheapCrap':\n",
    "            sim1.calculateFlows(scenarios=[scen], bifacialityfactors=bifiPathDict[scen], weibullInputParams=cheapcrapweibull)\n",
    "        else:\n",
    "            sim1.calculateFlows(scenarios=[scen], bifacialityfactors=bifiPathDict[scen]) \n"
   ]
  },
  {
   "cell_type": "code",
   "execution_count": null,
   "id": "624a5b4a",
   "metadata": {},
   "outputs": [],
   "source": [
    "sim1.scenario['CheapCrap'].dataOut_m['WeibullParams'].tail(2)"
   ]
  },
  {
   "cell_type": "code",
   "execution_count": null,
   "id": "d9fe4898",
   "metadata": {},
   "outputs": [],
   "source": [
    "plt.plot(sim1.scenario['CheapCrap'].dataOut_m['Installed_Capacity_[W]'])"
   ]
  },
  {
   "cell_type": "code",
   "execution_count": null,
   "id": "5513844a",
   "metadata": {},
   "outputs": [],
   "source": [
    "#sim1.scenario['PV_ICE'].dataOut_m['irradiance_stc'].head(2)\n",
    "sim1.scenario['PV_ICE'].dataOut_m['WeibullParams']"
   ]
  },
  {
   "cell_type": "code",
   "execution_count": null,
   "id": "bce7eea3",
   "metadata": {},
   "outputs": [],
   "source": [
    "sim1.scenario['PERC_50'].dataOut_m['irradiance_stc'].head(2)"
   ]
  },
  {
   "cell_type": "code",
   "execution_count": null,
   "id": "847efed7",
   "metadata": {},
   "outputs": [],
   "source": [
    "sim1.scenario['Perovskite'].dataOut_m['irradiance_stc'].head(2)"
   ]
  },
  {
   "cell_type": "code",
   "execution_count": null,
   "id": "4227fd5e",
   "metadata": {},
   "outputs": [],
   "source": [
    "sim1.scenario['RecycledPERC'].dataOut_m['irradiance_stc'].head(2)"
   ]
  },
  {
   "cell_type": "code",
   "execution_count": null,
   "id": "b5ca0d79",
   "metadata": {},
   "outputs": [],
   "source": [
    "#aggregate results - mass\n",
    "cc_yearly, cc_cumu = sim1.aggregateResults() #have to do this to get auto plots\n",
    "cc_yearly.to_csv(os.path.join(testfolder, 'cc_yearly.csv'))\n",
    "cc_cumu.to_csv(os.path.join(testfolder, 'cc_cumu.csv'))"
   ]
  },
  {
   "cell_type": "code",
   "execution_count": null,
   "id": "f5e1bc89",
   "metadata": {
    "scrolled": true
   },
   "outputs": [],
   "source": [
    "#aggregate results - energy\n",
    "allenergy, energyGen, energy_demands = sim1.aggregateEnergyResults()\n",
    "allenergy.to_csv(os.path.join(testfolder, 'cc_allenergy.csv'))\n",
    "energyGen.to_csv(os.path.join(testfolder, 'cc_energyGen.csv'))\n",
    "energy_demands.to_csv(os.path.join(testfolder, 'cc_energy_demands.csv'))"
   ]
  },
  {
   "cell_type": "code",
   "execution_count": null,
   "id": "0e41bc35",
   "metadata": {},
   "outputs": [],
   "source": [
    "#read in saved results files for speed\n",
    "cc_yearly = pd.read_csv(os.path.join(testfolder, 'cc_yearly.csv'), index_col='year')\n",
    "cc_cumu = pd.read_csv(os.path.join(testfolder, 'cc_cumu.csv'), index_col='year')\n",
    "allenergy = pd.read_csv(os.path.join(testfolder, 'cc_allenergy.csv'), index_col='year')\n",
    "energyGen = pd.read_csv(os.path.join(testfolder, 'cc_energyGen.csv'), index_col='year')\n",
    "energy_demands = pd.read_csv(os.path.join(testfolder, 'cc_energy_demands.csv'), index_col='year')\n"
   ]
  },
  {
   "cell_type": "code",
   "execution_count": null,
   "id": "679001d8",
   "metadata": {
    "scrolled": true
   },
   "outputs": [],
   "source": [
    "sim1.plotMetricResults()"
   ]
  },
  {
   "cell_type": "markdown",
   "id": "ef1aa884",
   "metadata": {},
   "source": [
    "# RESULTS: Effective Capacity and Replacements"
   ]
  },
  {
   "cell_type": "code",
   "execution_count": null,
   "id": "1fabd0e0",
   "metadata": {
    "scrolled": false
   },
   "outputs": [],
   "source": [
    "effective_capacity = cc_yearly.filter(like='ActiveCapacity')\n",
    "plt.plot(effective_capacity/1e6)\n",
    "plt.legend(scennames_labels)\n",
    "plt.ylabel('Effective Capacity [TW]')\n",
    "plt.title('Effective Capacity: With Replacements')\n",
    "plt.ylim(0,)"
   ]
  },
  {
   "cell_type": "code",
   "execution_count": null,
   "id": "0513311a",
   "metadata": {},
   "outputs": [],
   "source": [
    "annual_EoL = cc_yearly.filter(like='DecommisionedCapacity')\n",
    "plt.plot(annual_EoL/1e6)\n",
    "plt.legend(scennames_labels)\n",
    "plt.ylabel('Annual EoL [TW]')\n",
    "plt.title('Annual Decommissions [TW]')\n",
    "plt.ylim(0,)"
   ]
  },
  {
   "cell_type": "code",
   "execution_count": null,
   "id": "5135c3ea",
   "metadata": {
    "scrolled": false
   },
   "outputs": [],
   "source": [
    "annual_installs = cc_yearly.filter(like='newInstalled')\n",
    "plt.plot(annual_installs/1e6)\n",
    "plt.legend(scennames_labels)\n",
    "plt.ylabel('Annual installed [TW]')\n",
    "plt.title('Annual Installs with Replacements')\n",
    "plt.ylim(0,)"
   ]
  },
  {
   "cell_type": "code",
   "execution_count": null,
   "id": "ca8483e8",
   "metadata": {
    "scrolled": false
   },
   "outputs": [],
   "source": [
    "cumu_installs_annually = cc_cumu.filter(like='newInstalled')\n",
    "plt.plot(cumu_installs_annually/1e6)\n",
    "plt.legend(scennames_labels)\n",
    "plt.ylabel('Cumulative installed [TW]')\n",
    "plt.title('Replacements Adjusted Deployment Curve \\n Cumulative Installs with Replacements')\n",
    "plt.ylim(0,)"
   ]
  },
  {
   "cell_type": "code",
   "execution_count": null,
   "id": "e7fedf69",
   "metadata": {
    "scrolled": false
   },
   "outputs": [],
   "source": [
    "cumu_installs = cc_cumu.filter(like='newInstalled')\n",
    "plt.bar(scennames, cumu_installs.loc[2100]/1e6, tick_label=scennames_labels, color=colorpalette)\n",
    "#plt.legend(scennames)\n",
    "plt.ylabel('Cumulative installed [TW]')\n",
    "plt.title('Cumulative Installs with Replacements')"
   ]
  },
  {
   "cell_type": "code",
   "execution_count": null,
   "id": "5a397a05",
   "metadata": {},
   "outputs": [],
   "source": [
    "cumulative_nameplate_installs = global_projection.loc[2100,'World_cum'] #MW\n",
    "print('The nameplate installations for energy transition and through 2100 are '+str(cumulative_nameplate_installs/1e6)+' TW.')"
   ]
  },
  {
   "cell_type": "code",
   "execution_count": null,
   "id": "706b1ba7",
   "metadata": {},
   "outputs": [],
   "source": [
    "global_projection['World_annual_[MWdc]'].sum()"
   ]
  },
  {
   "cell_type": "code",
   "execution_count": null,
   "id": "9243d640",
   "metadata": {
    "scrolled": false
   },
   "outputs": [],
   "source": [
    "Additional_installs = cumu_installs.loc[2100]-global_projection.loc[2100,'World_cum']\n",
    "plt.bar(scennames, Additional_installs/1e6, tick_label=scennames_labels, color=colorpalette)\n",
    "#plt.legend(scennames)\n",
    "plt.ylabel('Cumulative Replacements [TW]')\n",
    "plt.title('Replacements Required by Technology')"
   ]
  },
  {
   "cell_type": "markdown",
   "id": "0b2cd99f",
   "metadata": {},
   "source": [
    "# RESULTS: Virgin Material Demands"
   ]
  },
  {
   "cell_type": "code",
   "execution_count": null,
   "id": "029e463f",
   "metadata": {
    "scrolled": false
   },
   "outputs": [],
   "source": [
    "cumu_virgin_module = cc_cumu.filter(like='VirginStock_Module')\n",
    "plt.bar(scennames, cumu_virgin_module.loc[2100]/1e9, tick_label=scennames_labels, color=colorpalette)\n",
    "#plt.legend(scennames)\n",
    "plt.title('Cumulative Virgin Material Demands')\n",
    "plt.ylabel('Virgin Material Requirements\\n[billion tonnes]')"
   ]
  },
  {
   "cell_type": "code",
   "execution_count": null,
   "id": "e229e621",
   "metadata": {},
   "outputs": [],
   "source": []
  },
  {
   "cell_type": "code",
   "execution_count": null,
   "id": "d6f1d3a2",
   "metadata": {},
   "outputs": [],
   "source": [
    "recycledperc_virginstock = cc_cumu.filter(like='VirginStock').filter(like='Recycled')\n",
    "recycledperc_virginstock.drop('VirginStock_Module_sim1_RecycledPERC_[Tonnes]',axis=1, inplace=True)\n",
    "plt.bar(recycledperc_virginstock.columns, recycledperc_virginstock.loc[2100], tick_label = MATERIALS, color=colorpalette)"
   ]
  },
  {
   "cell_type": "code",
   "execution_count": null,
   "id": "0cf0852a",
   "metadata": {},
   "outputs": [],
   "source": [
    "cumu_virgin_module = cc_cumu.filter(like='VirginStock_Module')\n",
    "plt.plot(cumu_virgin_module/1e9)\n",
    "plt.legend(scennames_labels)\n",
    "plt.title('Cumulative Virgin Material Extraction: Module')\n",
    "plt.ylabel('Virgin Material Requirements\\n[billion tonnes]')\n",
    "plt.ylim(0,)"
   ]
  },
  {
   "cell_type": "code",
   "execution_count": null,
   "id": "364f995d",
   "metadata": {},
   "outputs": [],
   "source": [
    "annual_virgin_module = cc_yearly.filter(like='VirginStock_Module')\n",
    "plt.plot(annual_virgin_module/1e6)\n",
    "plt.legend(scennames_labels)\n",
    "plt.title('Annual Virgin Material Extraction: Module')\n",
    "plt.ylabel('Virgin Material Requirements\\n[million tonnes]')\n",
    "plt.ylim(0,)"
   ]
  },
  {
   "cell_type": "code",
   "execution_count": null,
   "id": "45c857b6",
   "metadata": {
    "scrolled": true
   },
   "outputs": [],
   "source": [
    "#print out masses for stacked bar charts\n",
    "#mass_cumu = cc_cumu.loc[[2100]].filter(like='PV_ICE_[Tonnes]')\n",
    "mass_cumu_virgin = cc_cumu.filter(like='VirginStock').loc[2100]\n",
    "mass_cumu_wasteall = cc_cumu.filter(like='WasteAll').loc[2100]\n",
    "mass_cumu = pd.concat([mass_cumu_virgin,mass_cumu_wasteall])\n",
    "mass_cumu.to_csv(os.path.join(testfolder, 'cc_cumu_mass_2100results.csv'))"
   ]
  },
  {
   "cell_type": "code",
   "execution_count": null,
   "id": "cb80c97b",
   "metadata": {},
   "outputs": [],
   "source": []
  },
  {
   "cell_type": "code",
   "execution_count": null,
   "id": "73606762",
   "metadata": {},
   "outputs": [],
   "source": [
    "cc_cumu.to_csv(os.path.join(testfolder, 'cc_cumu_mass_results.csv'))"
   ]
  },
  {
   "cell_type": "markdown",
   "id": "a29afd49",
   "metadata": {},
   "source": [
    "# RESULTS: Lifecycle Wastes"
   ]
  },
  {
   "cell_type": "code",
   "execution_count": null,
   "id": "b1dd0ed2",
   "metadata": {},
   "outputs": [],
   "source": [
    "cumu_lifecycle_wastes = cc_cumu.filter(like='WasteAll_Module')\n",
    "\n",
    "plt.bar(scennames, cumu_lifecycle_wastes.loc[2100]/1e6, \n",
    "        tick_label=scennames_labels, color=colorpalette)\n",
    "#plt.legend(scennames)\n",
    "plt.title('Cumulative Lifecycle Wastes')\n",
    "plt.ylabel('Lifecycle Wastes\\n[million tonnes]')"
   ]
  },
  {
   "cell_type": "markdown",
   "id": "48f4004c",
   "metadata": {},
   "source": [
    "# RESULTS: Energy"
   ]
  },
  {
   "cell_type": "code",
   "execution_count": null,
   "id": "6e1fd066",
   "metadata": {},
   "outputs": [],
   "source": [
    "sim1.scenario['SHJ'].dataOut_e"
   ]
  },
  {
   "cell_type": "markdown",
   "id": "55807102",
   "metadata": {},
   "source": [
    "## Energy Generation\n",
    "Because of different bifi factors, they do NOT produce the same energy"
   ]
  },
  {
   "cell_type": "code",
   "execution_count": null,
   "id": "13e77dc9",
   "metadata": {},
   "outputs": [],
   "source": [
    "#energyGen = allenergy.filter(like='e_out_annual')\n",
    "plt.plot(energyGen/1e12)\n",
    "plt.legend(scennames_labels)\n",
    "plt.title('Annual Energy Generation')\n",
    "plt.ylabel('Energy Generation [TWh]')\n",
    "plt.ylim(0,)"
   ]
  },
  {
   "cell_type": "markdown",
   "id": "dd74a601",
   "metadata": {},
   "source": [
    "## Net Energy"
   ]
  },
  {
   "cell_type": "code",
   "execution_count": null,
   "id": "f141bbcc",
   "metadata": {},
   "outputs": [],
   "source": [
    "e_annual_sumDemands = energy_demands.filter(like='demand_total')"
   ]
  },
  {
   "cell_type": "code",
   "execution_count": null,
   "id": "2bccf78f",
   "metadata": {
    "scrolled": false
   },
   "outputs": [],
   "source": [
    "plt.plot(e_annual_sumDemands/1e12)\n",
    "plt.legend(scennames_labels)\n",
    "plt.title('Annual Lifecycle Energy Demands')\n",
    "plt.ylabel('Energy Demands\\n[TWh]')\n",
    "plt.ylim(0,)"
   ]
  },
  {
   "cell_type": "code",
   "execution_count": null,
   "id": "2556fe80",
   "metadata": {},
   "outputs": [],
   "source": [
    "e_annual_sumDemands_cumu = e_annual_sumDemands.cumsum()"
   ]
  },
  {
   "cell_type": "code",
   "execution_count": null,
   "id": "ad207d80",
   "metadata": {},
   "outputs": [],
   "source": [
    "plt.bar(e_annual_sumDemands_cumu.columns, e_annual_sumDemands_cumu.loc[2100]/1e12, \n",
    "        tick_label=(scennames_labels), color=colorpalette)\n",
    "plt.title('Cumulative Lifecycle Energy Demands')\n",
    "plt.ylabel('Cumulative Energy Demands\\n[TWh]')"
   ]
  },
  {
   "cell_type": "code",
   "execution_count": null,
   "id": "c914e73e",
   "metadata": {},
   "outputs": [],
   "source": [
    "energyGen_cumu = energyGen.cumsum()\n",
    "energyGen_cumu.columns = e_annual_sumDemands_cumu.columns = scennames\n",
    "netEnergy_cumu = energyGen_cumu.loc[[2100]] - e_annual_sumDemands_cumu.loc[[2100]]"
   ]
  },
  {
   "cell_type": "code",
   "execution_count": null,
   "id": "219f4eae",
   "metadata": {},
   "outputs": [],
   "source": [
    "e_annual_sumDemands_cumu.loc[[2100]]"
   ]
  },
  {
   "cell_type": "code",
   "execution_count": null,
   "id": "7d9152ad",
   "metadata": {},
   "outputs": [],
   "source": [
    "netEnergy_cumu"
   ]
  },
  {
   "cell_type": "code",
   "execution_count": null,
   "id": "d734b01e",
   "metadata": {
    "scrolled": false
   },
   "outputs": [],
   "source": [
    "plt.bar(netEnergy_cumu.columns, netEnergy_cumu.loc[2100]/1e12, \n",
    "        tick_label=(scennames_labels), color=colorpalette)\n",
    "plt.title('Net Energy Cumulatively')\n",
    "plt.ylabel('Cumulative Net Energy [TWh]')\n",
    "plt.ylim(4e6,5.5e6)"
   ]
  },
  {
   "cell_type": "code",
   "execution_count": null,
   "id": "a6232c9e",
   "metadata": {},
   "outputs": [],
   "source": [
    "netEnergy_relative = netEnergy_cumu - netEnergy_cumu.loc[2100,'PV_ICE']\n",
    "netEnergy_relative\n",
    "plt.bar(netEnergy_relative.columns, netEnergy_relative.loc[2100]/1e12, \n",
    "        tick_label=(scennames_labels), color=colorpalette)\n",
    "plt.title('Cumulatively Net Energy Relative to PV ICE')\n",
    "plt.ylabel('Relative Cumulative Net Energy [TWh]')"
   ]
  },
  {
   "cell_type": "code",
   "execution_count": null,
   "id": "2ce85d41",
   "metadata": {
    "scrolled": true
   },
   "outputs": [],
   "source": [
    "netEnergy_cumu_norm = netEnergy_cumu/netEnergy_cumu.loc[2100,'PV_ICE']\n",
    "netEnergy_cumu_norm_waterfall = netEnergy_cumu_norm-1\n",
    "netEnergy_cumu_norm\n"
   ]
  },
  {
   "cell_type": "code",
   "execution_count": null,
   "id": "49ff7d4a",
   "metadata": {},
   "outputs": [],
   "source": [
    "plt.bar(netEnergy_cumu.columns, netEnergy_cumu_norm_waterfall.loc[2100], \n",
    "        tick_label=(scennames_labels), color=colorpalette)\n",
    "plt.title('Net Energy Cumulatively Relative to PV ICE')\n",
    "plt.ylabel('Relative Cumulative Net Energy')\n",
    "#plt.ylim(-0.026,0.005)\n",
    "plt.plot(0.0, lw=2)"
   ]
  },
  {
   "cell_type": "code",
   "execution_count": null,
   "id": "8c4bd9cd",
   "metadata": {},
   "outputs": [],
   "source": [
    "plt.bar(netEnergy_cumu.columns, netEnergy_cumu.loc[2100]/1e12, \n",
    "        tick_label=(scennames_labels), color=colorpalette)\n",
    "plt.title('Net Energy Cumulatively')\n",
    "plt.ylabel('Cumulative Net Energy\\n[TWh]')"
   ]
  },
  {
   "cell_type": "code",
   "execution_count": null,
   "id": "8218d3b3",
   "metadata": {},
   "outputs": [],
   "source": [
    "energyGen.columns = e_annual_sumDemands.columns = scennames\n",
    "annual_net_energy = energyGen - e_annual_sumDemands"
   ]
  },
  {
   "cell_type": "code",
   "execution_count": null,
   "id": "6f313bde",
   "metadata": {
    "scrolled": false
   },
   "outputs": [],
   "source": [
    "plt.plot(annual_net_energy/1e12)\n",
    "plt.legend(scennames_labels)\n",
    "plt.title('Annual Net Energy')\n",
    "plt.ylabel('Net Energy (Eout - Ein)\\n[TWh]')\n",
    "plt.ylim(0,100000)\n",
    "plt.xlim(2000,2100)"
   ]
  },
  {
   "cell_type": "markdown",
   "id": "332b0aca",
   "metadata": {},
   "source": [
    "## System Level EROI\n",
    "This may not be an accurate use of EROI, but I want to see what will happen"
   ]
  },
  {
   "cell_type": "code",
   "execution_count": null,
   "id": "1a15701d",
   "metadata": {},
   "outputs": [],
   "source": [
    "eroi_sys_cumu = energyGen_cumu/e_annual_sumDemands_cumu"
   ]
  },
  {
   "cell_type": "code",
   "execution_count": null,
   "id": "60cfc06d",
   "metadata": {},
   "outputs": [],
   "source": [
    "plt.bar(eroi_sys_cumu.columns, eroi_sys_cumu.loc[2100], \n",
    "        tick_label=(scennames_labels), color=colorpalette)\n",
    "plt.title('EROI of all Deployments')\n",
    "plt.ylabel('Unitless')"
   ]
  },
  {
   "cell_type": "code",
   "execution_count": null,
   "id": "0b44010c",
   "metadata": {},
   "outputs": [],
   "source": []
  },
  {
   "cell_type": "code",
   "execution_count": null,
   "id": "79573064",
   "metadata": {},
   "outputs": [],
   "source": []
  },
  {
   "cell_type": "markdown",
   "id": "b244771f",
   "metadata": {},
   "source": [
    "# CE-TE Metric\n",
    "Net Energy over Linear mass flow"
   ]
  },
  {
   "cell_type": "code",
   "execution_count": null,
   "id": "787fd1c8",
   "metadata": {},
   "outputs": [],
   "source": [
    "#cumulatively\n",
    "netEnergy_cumu.columns = cumu_virgin_module.columns = cumu_lifecycle_wastes.columns = scennames_labels\n",
    "\n",
    "CEETmetric = (netEnergy_cumu.loc[2100]/1e6)/ (cumu_virgin_module.loc[2100]+ cumu_lifecycle_wastes.loc[2100])"
   ]
  },
  {
   "cell_type": "code",
   "execution_count": null,
   "id": "41129a45",
   "metadata": {},
   "outputs": [],
   "source": [
    "plt.bar(CEETmetric.index, CEETmetric, \n",
    "        tick_label=(scennames_labels), color=colorpalette)\n",
    "plt.title('CETE Metric')\n",
    "plt.ylabel('Net Energy / Linear Mass \\n[MWh/tonne]')"
   ]
  },
  {
   "cell_type": "code",
   "execution_count": null,
   "id": "24a58b3a",
   "metadata": {},
   "outputs": [],
   "source": []
  },
  {
   "cell_type": "markdown",
   "id": "a0fc2389",
   "metadata": {},
   "source": [
    "# EROI\n",
    "Create single installation simulation to evaluate EROI of modules. Do one round of 2022 modules and one of 2050 modules.\n",
    "## EROI 2022"
   ]
  },
  {
   "cell_type": "code",
   "execution_count": null,
   "id": "926890fb",
   "metadata": {},
   "outputs": [],
   "source": [
    "single_deploy_2022 = pd.DataFrame(index=idx_temp, columns=['MW'], dtype=float)\n",
    "single_deploy_2022['MW'] = 0.0\n",
    "single_deploy_2022.loc[2022] = 100.0 #install a single 100 MW system"
   ]
  },
  {
   "cell_type": "code",
   "execution_count": null,
   "id": "19d1269c",
   "metadata": {},
   "outputs": [],
   "source": [
    "sim2 = PV_ICE.Simulation(name='sim2', path=testfolder)\n",
    "for scen in scennames:\n",
    "    sim2.createScenario(name=scen, massmodulefile=moduleFile_m, energymodulefile=moduleFile_e)\n",
    "    for mat in range (0, len(MATERIALS)):\n",
    "        matbaseline_m = os.path.join(baselinesfolder,'baseline_material_mass_'+MATERIALS[mat]+'.csv')\n",
    "        matbaseline_e = os.path.join(baselinesfolder,'baseline_material_energy_'+MATERIALS[mat]+'.csv')\n",
    "        sim2.scenario[scen].addMaterial(MATERIALS[mat], massmatfile=matbaseline_m, energymatfile=matbaseline_e)"
   ]
  },
  {
   "cell_type": "code",
   "execution_count": null,
   "id": "76cb1e17",
   "metadata": {},
   "outputs": [],
   "source": [
    "#use the settings from the first simulation to create the identical settings for sim2\n",
    "for scen in scennames:\n",
    "    sim2.scenario[scen].dataIn_m = sim1.scenario[scen].dataIn_m\n",
    "    sim2.scenario[scen].dataIn_e = sim1.scenario[scen].dataIn_e\n",
    "    for mat in MATERIALS:\n",
    "        sim2.scenario[scen].material[mat].matdataIn_m = sim1.scenario[scen].material[mat].matdataIn_m\n",
    "        sim2.scenario[scen].material[mat].matdataIn_e = sim1.scenario[scen].material[mat].matdataIn_e\n",
    "        "
   ]
  },
  {
   "cell_type": "code",
   "execution_count": null,
   "id": "cea6f5f3",
   "metadata": {},
   "outputs": [],
   "source": [
    "sim2.scenario['Perovskite'].material['glass'].matdataIn_m"
   ]
  },
  {
   "cell_type": "code",
   "execution_count": null,
   "id": "e6b569e2",
   "metadata": {
    "scrolled": true
   },
   "outputs": [],
   "source": [
    "#trim to start in 2000, this trims module and materials\n",
    "#had to specify and end year, cannot use to extend\n",
    "sim2.trim_Years(startYear=2000, endYear=2100)"
   ]
  },
  {
   "cell_type": "code",
   "execution_count": null,
   "id": "9104bc8f",
   "metadata": {},
   "outputs": [],
   "source": [
    "#deployment projection for all scenarios\n",
    "sim2.modifyScenario(scenarios=None,stage='new_Installed_Capacity_[MW]', value= single_deploy_2022['MW'], start_year=2000)\n"
   ]
  },
  {
   "cell_type": "code",
   "execution_count": null,
   "id": "95c67740",
   "metadata": {},
   "outputs": [],
   "source": [
    "sim2.scenario['Perovskite'].dataIn_m.loc[19:25]"
   ]
  },
  {
   "cell_type": "code",
   "execution_count": null,
   "id": "79add8d5",
   "metadata": {
    "scrolled": true
   },
   "outputs": [],
   "source": [
    "for scen in scennames:\n",
    "    sim2.calculateFlows(scenarios=[scen],bifacialityfactors=bifiPathDict[scen])"
   ]
  },
  {
   "cell_type": "code",
   "execution_count": null,
   "id": "578f99f9",
   "metadata": {},
   "outputs": [],
   "source": [
    "sim2_yearly, sim2_cumulative = sim2.aggregateResults()"
   ]
  },
  {
   "cell_type": "code",
   "execution_count": null,
   "id": "742f2d1c",
   "metadata": {
    "scrolled": true
   },
   "outputs": [],
   "source": [
    "allenergy2, energyGen2, energy_demands2 = sim2.aggregateEnergyResults()"
   ]
  },
  {
   "cell_type": "code",
   "execution_count": null,
   "id": "ed09c323",
   "metadata": {},
   "outputs": [],
   "source": [
    "allenergy2_cumu = allenergy2.cumsum()\n",
    "energyGen2_cumu = energyGen2.cumsum()\n",
    "energy_demands2_cumu = energy_demands2.cumsum()"
   ]
  },
  {
   "cell_type": "code",
   "execution_count": null,
   "id": "f8cd41ba",
   "metadata": {},
   "outputs": [],
   "source": [
    "energy_demands2_cumu_total = energy_demands2_cumu.filter(like='demand_total')\n",
    "#energy_demands2_cumu_total"
   ]
  },
  {
   "cell_type": "code",
   "execution_count": null,
   "id": "23e94a82",
   "metadata": {},
   "outputs": [],
   "source": [
    "plt.bar(energy_demands2_cumu_total.columns, energy_demands2_cumu_total.loc[2100], \n",
    "        tick_label=(scennames_labels), color=colorpalette)\n",
    "plt.title('Energy Demands Cumulative')\n",
    "plt.ylabel('Energy Demands [Wh]')"
   ]
  },
  {
   "cell_type": "code",
   "execution_count": null,
   "id": "fb5b3f55",
   "metadata": {},
   "outputs": [],
   "source": [
    "energyGen2_cumu.columns=energy_demands2_cumu_total.columns=scennames_labels\n",
    "eroi_2022 = energyGen2_cumu.iloc[100]/energy_demands2_cumu_total.iloc[100]\n",
    "eroi_2022"
   ]
  },
  {
   "cell_type": "code",
   "execution_count": null,
   "id": "3e75cb66",
   "metadata": {},
   "outputs": [],
   "source": [
    "plt.bar(eroi_2022.index, eroi_2022, \n",
    "        tick_label=(scennames_labels), color=colorpalette)\n",
    "plt.title('EROI')\n",
    "plt.ylabel('Arb.')"
   ]
  },
  {
   "cell_type": "code",
   "execution_count": null,
   "id": "186b8c9f",
   "metadata": {},
   "outputs": [],
   "source": [
    "plt.plot(energyGen2/1e9)\n",
    "plt.legend(scennames_labels)\n",
    "plt.title('Energy Generation - Single 2022 System')\n",
    "plt.ylabel('[GWh]')"
   ]
  },
  {
   "cell_type": "markdown",
   "id": "21237e01",
   "metadata": {},
   "source": [
    "## EROI of 2050 module"
   ]
  },
  {
   "cell_type": "code",
   "execution_count": null,
   "id": "da819b6c",
   "metadata": {},
   "outputs": [],
   "source": [
    "\n",
    "single_deploy_2050 = pd.DataFrame(index=idx_temp, columns=['MW'], dtype=float)\n",
    "single_deploy_2050['MW'] = 0.0\n",
    "single_deploy_2050.loc[2050] = 100.0 #install a single 100 MW system"
   ]
  },
  {
   "cell_type": "code",
   "execution_count": null,
   "id": "029a2ec4",
   "metadata": {},
   "outputs": [],
   "source": [
    "sim3 = PV_ICE.Simulation(name='sim3', path=testfolder)\n",
    "for scen in scennames:\n",
    "    sim3.createScenario(name=scen, massmodulefile=moduleFile_m, energymodulefile=moduleFile_e)\n",
    "    for mat in range (0, len(MATERIALS)):\n",
    "        matbaseline_m = os.path.join(baselinesfolder,'baseline_material_mass_'+MATERIALS[mat]+'.csv')\n",
    "        matbaseline_e = os.path.join(baselinesfolder,'baseline_material_energy_'+MATERIALS[mat]+'.csv')\n",
    "        sim3.scenario[scen].addMaterial(MATERIALS[mat], massmatfile=matbaseline_m, energymatfile=matbaseline_e)"
   ]
  },
  {
   "cell_type": "code",
   "execution_count": null,
   "id": "297cc3d4",
   "metadata": {},
   "outputs": [],
   "source": [
    "#use the settings from the first simulation to create the identical settings for sim2\n",
    "for scen in scennames:\n",
    "    sim3.scenario[scen].dataIn_m = sim1.scenario[scen].dataIn_m\n",
    "    sim3.scenario[scen].dataIn_e = sim1.scenario[scen].dataIn_e\n",
    "    for mat in MATERIALS:\n",
    "        sim3.scenario[scen].material[mat].matdataIn_m = sim1.scenario[scen].material[mat].matdataIn_m\n",
    "        sim3.scenario[scen].material[mat].matdataIn_e = sim1.scenario[scen].material[mat].matdataIn_e\n",
    "        "
   ]
  },
  {
   "cell_type": "code",
   "execution_count": null,
   "id": "a57c9b45",
   "metadata": {
    "scrolled": false
   },
   "outputs": [],
   "source": [
    "sim3.scenario['Perovskite'].material['glass'].matdataIn_m"
   ]
  },
  {
   "cell_type": "code",
   "execution_count": null,
   "id": "441a342e",
   "metadata": {},
   "outputs": [],
   "source": [
    "#deployment projection for all scenarios\n",
    "sim3.modifyScenario(scenarios=None,stage='new_Installed_Capacity_[MW]', value= single_deploy_2050['MW'], start_year=2000)\n"
   ]
  },
  {
   "cell_type": "code",
   "execution_count": null,
   "id": "3bc966e0",
   "metadata": {
    "scrolled": true
   },
   "outputs": [],
   "source": [
    "#trim to start in 2000, this trims module and materials\n",
    "#had to specify and end year, cannot use to extend\n",
    "sim3.trim_Years(startYear=2000, endYear=2150)"
   ]
  },
  {
   "cell_type": "code",
   "execution_count": null,
   "id": "5dafff98",
   "metadata": {
    "scrolled": true
   },
   "outputs": [],
   "source": [
    "sim3.scenario['Perovskite'].dataIn_e.tail(4)#loc[49:55]"
   ]
  },
  {
   "cell_type": "code",
   "execution_count": null,
   "id": "818d02f1",
   "metadata": {},
   "outputs": [],
   "source": [
    "#PV ICE currently set up to read in a csv of bifi factors, so generate files to read in \n",
    "#need to adjust for length to 2150\n",
    "idx_temp_2150 = pd.RangeIndex(start=2000,stop=2151,step=1) #create the index\n",
    "df_temp_2150 = pd.DataFrame(index=idx_temp_2150, columns=['bifi'], dtype=float)\n",
    "bifiPathDict_2150={}\n",
    "\n",
    "for f in bifiFactors.keys(): #loop over module types\n",
    "    bifi_2150 = df_temp_2150.copy() #copy of df\n",
    "    bifi_2150['bifi'] = bifiFactors[f] #assign column\n",
    "    bifipath_2150 = os.path.join(testfolder,'bifi_'+str(f)+'.csv') #create file path\n",
    "    bifi_2150.to_csv(path_or_buf=bifipath_2150, index_label='year') #create file\n",
    "    bifiPathDict_2150[str(f)] = bifipath_2150\n",
    "    #append bifi path to dict? or list?\n"
   ]
  },
  {
   "cell_type": "code",
   "execution_count": null,
   "id": "a825d612",
   "metadata": {
    "scrolled": true
   },
   "outputs": [],
   "source": [
    "for scen in scennames:\n",
    "    sim3.calculateFlows(scenarios=[scen], bifacialityfactors=bifiPathDict_2150[scen])"
   ]
  },
  {
   "cell_type": "code",
   "execution_count": null,
   "id": "b6ace922",
   "metadata": {},
   "outputs": [],
   "source": []
  },
  {
   "cell_type": "code",
   "execution_count": null,
   "id": "533288ac",
   "metadata": {},
   "outputs": [],
   "source": [
    "sim3_yearly, sim3_cumulative = sim3.aggregateResults()"
   ]
  },
  {
   "cell_type": "code",
   "execution_count": null,
   "id": "6797feeb",
   "metadata": {
    "scrolled": true
   },
   "outputs": [],
   "source": [
    "allenergy3, energyGen3, energy_demands3 = sim3.aggregateEnergyResults()"
   ]
  },
  {
   "cell_type": "code",
   "execution_count": null,
   "id": "f905f3e4",
   "metadata": {},
   "outputs": [],
   "source": [
    "allenergy3_cumu = allenergy3.cumsum()\n",
    "energyGen3_cumu = energyGen3.cumsum()\n",
    "energy_demands3_cumu = energy_demands3.cumsum()"
   ]
  },
  {
   "cell_type": "code",
   "execution_count": null,
   "id": "d0cee259",
   "metadata": {},
   "outputs": [],
   "source": [
    "energy_demands3_cumu_total = energy_demands3_cumu.filter(like='demand_total')\n",
    "#energy_demands3_cumu_total"
   ]
  },
  {
   "cell_type": "code",
   "execution_count": null,
   "id": "990b8d84",
   "metadata": {
    "scrolled": false
   },
   "outputs": [],
   "source": [
    "plt.bar(energy_demands3_cumu_total.columns, energy_demands3_cumu_total.loc[2150], \n",
    "        tick_label=(scennames_labels), color=colorpalette)\n",
    "plt.title('Energy Demands Cumulative 2050 System')\n",
    "plt.ylabel('Energy Demands [Wh]')"
   ]
  },
  {
   "cell_type": "code",
   "execution_count": null,
   "id": "577cbf02",
   "metadata": {},
   "outputs": [],
   "source": [
    "energyGen3_cumu.columns = energy_demands3_cumu_total.columns = scennames_labels\n",
    "eroi_2050 = energyGen3_cumu.loc[2150]/energy_demands3_cumu_total.loc[2150]\n",
    "eroi_2050"
   ]
  },
  {
   "cell_type": "code",
   "execution_count": null,
   "id": "e70cfca5",
   "metadata": {},
   "outputs": [],
   "source": [
    "plt.bar(eroi_2050.index, eroi_2050, \n",
    "        tick_label=(scennames_labels), color=colorpalette)\n",
    "plt.title('EROI of a 100 MW deployment in 2050')\n",
    "plt.ylabel('Arbitrary units')"
   ]
  },
  {
   "cell_type": "code",
   "execution_count": null,
   "id": "1938387b",
   "metadata": {},
   "outputs": [],
   "source": [
    "plt.plot(energyGen3/1e9)\n",
    "plt.legend(scennames_labels)\n",
    "plt.title('Energy Generation - Single 2050 System')\n",
    "plt.ylabel('[GWh]')"
   ]
  },
  {
   "cell_type": "markdown",
   "id": "5f75ae5d",
   "metadata": {},
   "source": [
    "# To Do\n",
    "- energy requirements on a per MW installed for a single install, what is MFG\n",
    "- Y axis = normalized net energy of perovskites, x axis = remanufacturing energy variation, maybe add recycling Just change one variable \n",
    "\n",
    "lowest nergy = remfg\n",
    "mid energy = recycle\n",
    "high energy = virgin mfg"
   ]
  },
  {
   "cell_type": "code",
   "execution_count": null,
   "id": "e3b8a3b6",
   "metadata": {},
   "outputs": [],
   "source": []
  }
 ],
 "metadata": {
  "kernelspec": {
   "display_name": "Python 3 (ipykernel)",
   "language": "python",
   "name": "python3"
  },
  "language_info": {
   "codemirror_mode": {
    "name": "ipython",
    "version": 3
   },
   "file_extension": ".py",
   "mimetype": "text/x-python",
   "name": "python",
   "nbconvert_exporter": "python",
   "pygments_lexer": "ipython3",
   "version": "3.8.8"
  }
 },
 "nbformat": 4,
 "nbformat_minor": 5
}
