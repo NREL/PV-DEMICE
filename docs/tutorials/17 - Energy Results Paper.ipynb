{
 "cells": [
  {
   "cell_type": "markdown",
   "id": "a1069aec",
   "metadata": {},
   "source": [
    "# Energy Analysis\n",
    "We will be using the new energy layer to analyze the following future PV options\n",
    "- SHJ\n",
    "- Perovskite (tandem?)\n",
    "- 50-year PERC module (multiple uses)\n",
    "- Recycled Si PERC (Fraunhofer)\n",
    "- Cheap crap module\n",
    "- CdTe?\n",
    "\n",
    "We will use a literture-sourced global scale deployment schedule through 2050, then assume that capacity increases at a lower constant rate through 2100."
   ]
  },
  {
   "cell_type": "code",
   "execution_count": null,
   "id": "15a273e6",
   "metadata": {},
   "outputs": [],
   "source": [
    "import numpy as np\n",
    "import pandas as pd\n",
    "import os,sys\n",
    "from pathlib import Path\n",
    "import matplotlib.pyplot as plt\n",
    "\n",
    "plt.rcParams.update({'font.size': 18})\n",
    "plt.rcParams['figure.figsize'] = (10, 6)\n",
    "\n",
    "cwd = os.getcwd() #grabs current working directory\n",
    "\n",
    "testfolder = str(Path().resolve().parent.parent / 'PV_ICE' / 'TEMP' / 'EnergyAnalysis')\n",
    "inputfolder = str(Path().resolve().parent.parent / 'PV_ICE' / 'TEMP')\n",
    "baselinesfolder = str(Path().resolve().parent.parent /'PV_ICE' / 'baselines')\n",
    "supportMatfolder = str(Path().resolve().parent.parent / 'PV_ICE' / 'baselines' / 'SupportingMaterial')\n",
    "\n",
    "if not os.path.exists(testfolder):\n",
    "    os.makedirs(testfolder)"
   ]
  },
  {
   "cell_type": "code",
   "execution_count": null,
   "id": "38edd6bc",
   "metadata": {},
   "outputs": [],
   "source": []
  },
  {
   "cell_type": "code",
   "execution_count": null,
   "id": "d306f62e",
   "metadata": {},
   "outputs": [],
   "source": [
    "#creating scenarios for identical power of multiple technologies\n",
    "scennames = ['PERC_50','SHJ','Perovskite','RecycledPERC','CheapCrap','Repowered'] #might need a PV ICE baseline too\n",
    "MATERIALS = ['glass','silver','silicon', 'copper', 'aluminium_frames'] #'encapsulant', 'backsheet',\n",
    "moduleFile_m = os.path.join(baselinesfolder, 'baseline_modules_mass_US.csv')\n",
    "moduleFile_e = os.path.join(baselinesfolder, 'baseline_modules_energy.csv')"
   ]
  },
  {
   "cell_type": "markdown",
   "id": "fc6e5884",
   "metadata": {},
   "source": [
    "We will be deploying based on power (not area) because each of these have different efficiencies, and those differences should be accounted for in the simulation. Additionally, we will run the installation compensation to simulate the required replacements for each module type."
   ]
  },
  {
   "cell_type": "code",
   "execution_count": null,
   "id": "c6833a34",
   "metadata": {
    "scrolled": true
   },
   "outputs": [],
   "source": [
    "#load in a baseline and materials for modification\n",
    "import PV_ICE\n",
    "\n",
    "sim1 = PV_ICE.Simulation(name='sim1', path=testfolder)\n",
    "for scen in scennames:\n",
    "    sim1.createScenario(name=scen, massmodulefile=moduleFile_m, energymodulefile=moduleFile_e)\n",
    "    for mat in range (0, len(MATERIALS)):\n",
    "        matbaseline_m = os.path.join(baselinesfolder,'baseline_material_mass_'+MATERIALS[mat]+'.csv')\n",
    "        matbaseline_e = os.path.join(baselinesfolder,'baseline_material_energy_'+MATERIALS[mat]+'.csv')\n",
    "        sim1.scenario[scen].addMaterial(MATERIALS[mat], massmatfile=matbaseline_m, energymatfile=matbaseline_e)"
   ]
  },
  {
   "cell_type": "code",
   "execution_count": null,
   "id": "41dd294f",
   "metadata": {},
   "outputs": [],
   "source": [
    "#trim to start in 2000, this trims module and materials\n",
    "#had to specify and end year, cannot use to extend\n",
    "sim1.trim_Years(startYear=2000, endYear=2100, methodAddedYears='repeat')"
   ]
  },
  {
   "cell_type": "code",
   "execution_count": null,
   "id": "ac033d55",
   "metadata": {},
   "outputs": [],
   "source": [
    "idx_late = pd.RangeIndex(start=2050,stop=2101,step=1) #create the index\n",
    "proj_2050_2100_energyIncrease = pd.DataFrame(index=idx_late, columns=['World_cum'], dtype=float) #turn into df "
   ]
  },
  {
   "cell_type": "code",
   "execution_count": null,
   "id": "8e899088",
   "metadata": {},
   "outputs": [],
   "source": [
    "sim1.scenario['SHJ'].dataIn_m['year'] "
   ]
  },
  {
   "cell_type": "markdown",
   "id": "b1aae019",
   "metadata": {},
   "source": [
    "## Module Types\n",
    "\n",
    "This module includes continuing improvements in silver usage and efficiency, as created in 16-PERC vs SHJ vs TOPCon journal."
   ]
  },
  {
   "cell_type": "code",
   "execution_count": null,
   "id": "4e00f5e6",
   "metadata": {},
   "outputs": [],
   "source": [
    "celltech_modeff = pd.read_csv(os.path.join(supportMatfolder, 'output-celltech-modeffimprovements.csv')) #pull in module eff\n",
    "celltech_aguse = pd.read_csv(os.path.join(supportMatfolder, 'output-celltech-Agusageimprovements.csv')) #pull in Ag use"
   ]
  },
  {
   "cell_type": "code",
   "execution_count": null,
   "id": "140da8f8",
   "metadata": {},
   "outputs": [],
   "source": [
    "#silver modify for PERC and SHJ\n",
    "for scen in scennames:\n",
    "    sim1.scenario[scen].material['silver'].matdataIn_m.loc[0:len(Aguse.index-1),'mat_massperm2'] = Aguse.filter(like=str(scen[0:3])).values"
   ]
  },
  {
   "cell_type": "code",
   "execution_count": null,
   "id": "98d34926",
   "metadata": {},
   "outputs": [],
   "source": [
    "#module eff for PERC and SHJ\n",
    "for scen in scennames:\n",
    "    sim1.scenario[scen].dataIn_m.loc[0:len(modeffs.index-1),'mod_eff'] = modeffs.filter(like=str(scen[0:3])).values"
   ]
  },
  {
   "cell_type": "code",
   "execution_count": null,
   "id": "0c0327b4",
   "metadata": {},
   "outputs": [],
   "source": []
  },
  {
   "cell_type": "code",
   "execution_count": null,
   "id": "2149c3b3",
   "metadata": {},
   "outputs": [],
   "source": []
  },
  {
   "cell_type": "markdown",
   "id": "31625649",
   "metadata": {},
   "source": [
    "### Apply deployment curve\n",
    "For the full derivation of the deployment curve, see the \"PV Installations - Global\" development journal. Essentially, the projection is 2000-2021 IRENA historical installation data, 2022 through 2050 is a quadratic fit to achieve 50 TW in 2050, and from 2050 to 2100 is a linear increase to approx 60 TW based on 2000-2021 global increase in electricity capacity (219.32 GW/year).\n",
    "\n",
    "This is the deployment curve applied to all PV technologies - however, it will be modified for each PV tech using the installation compensation method, increasing it for any replacement modules required to maintain capacity."
   ]
  },
  {
   "cell_type": "code",
   "execution_count": null,
   "id": "0c453214",
   "metadata": {},
   "outputs": [],
   "source": [
    "global_projection = pd.read_csv(os.path.join(supportMatfolder,'output-globalInstallsProjection.csv'), index_col=0)\n",
    "\n",
    "fig, ax1 = plt.subplots()\n",
    "\n",
    "ax1.plot(global_projection['World_cum']/1e6, color='orange')\n",
    "ax1.set_ylabel('Cumulative Solar Capacity [TW]', color='orange')\n",
    "ax2 = ax1.twinx()\n",
    "ax2.plot(global_projection['World_annual_[MWdc]']/1e6)\n",
    "ax2.set_ylabel('Annual Installations [TW]')\n",
    "plt.show()\n"
   ]
  },
  {
   "cell_type": "code",
   "execution_count": null,
   "id": "68799e77",
   "metadata": {},
   "outputs": [],
   "source": [
    "#deployment projection\n",
    "for scen in scennames:\n",
    "    sim1.scenario[scen].dataIn_m.loc[0:len(global_projection.index-1),'new_Installed_Capacity_[MW]'] = global_projection['World_annual_[MWdc]'].values"
   ]
  },
  {
   "cell_type": "code",
   "execution_count": null,
   "id": "86a21894",
   "metadata": {},
   "outputs": [],
   "source": []
  },
  {
   "cell_type": "code",
   "execution_count": null,
   "id": "0284fd69",
   "metadata": {},
   "outputs": [],
   "source": []
  }
 ],
 "metadata": {
  "kernelspec": {
   "display_name": "Python 3 (ipykernel)",
   "language": "python",
   "name": "python3"
  },
  "language_info": {
   "codemirror_mode": {
    "name": "ipython",
    "version": 3
   },
   "file_extension": ".py",
   "mimetype": "text/x-python",
   "name": "python",
   "nbconvert_exporter": "python",
   "pygments_lexer": "ipython3",
   "version": "3.8.8"
  }
 },
 "nbformat": 4,
 "nbformat_minor": 5
}
