{
 "cells": [
  {
   "cell_type": "markdown",
   "id": "a1069aec",
   "metadata": {},
   "source": [
    "# Energy Analysis\n",
    "We will be using the new energy layer to analyze the following future PV options\n",
    "- SHJ\n",
    "- Perovskite (tandem?)\n",
    "- 50-year PERC module (multiple uses)\n",
    "- Recycled Si PERC (Fraunhofer)\n",
    "- Cheap crap module\n",
    "- CdTe?\n",
    "\n",
    "We will use a literture-sourced global scale deployment schedule through 2050, then assume that capacity increases at a lower constant rate through 2100."
   ]
  },
  {
   "cell_type": "code",
   "execution_count": null,
   "id": "15a273e6",
   "metadata": {},
   "outputs": [],
   "source": [
    "import numpy as np\n",
    "import pandas as pd\n",
    "import os,sys\n",
    "from pathlib import Path\n",
    "import matplotlib.pyplot as plt\n",
    "\n",
    "plt.rcParams.update({'font.size': 18})\n",
    "plt.rcParams['figure.figsize'] = (10, 6)\n",
    "\n",
    "cwd = os.getcwd() #grabs current working directory\n",
    "\n",
    "testfolder = str(Path().resolve().parent.parent / 'PV_ICE' / 'TEMP' / 'EnergyAnalysis')\n",
    "inputfolder = str(Path().resolve().parent.parent / 'PV_ICE' / 'TEMP')\n",
    "baselinesfolder = str(Path().resolve().parent.parent /'PV_ICE' / 'baselines')\n",
    "supportMatfolder = str(Path().resolve().parent.parent / 'PV_ICE' / 'baselines' / 'SupportingMaterial')\n",
    "\n",
    "if not os.path.exists(testfolder):\n",
    "    os.makedirs(testfolder)"
   ]
  },
  {
   "cell_type": "code",
   "execution_count": null,
   "id": "d306f62e",
   "metadata": {},
   "outputs": [],
   "source": [
    "#creating scenarios for identical power of multiple technologies\n",
    "scennames = ['PERC_50','SHJ','Perovskite','RecycledPERC','CheapCrap','Repowered'] #might need a PV ICE baseline too\n",
    "MATERIALS = ['glass','silver','silicon', 'copper', 'aluminium_frames'] #'encapsulant', 'backsheet',\n",
    "moduleFile_m = os.path.join(baselinesfolder, 'baseline_modules_mass_US.csv')\n",
    "moduleFile_e = os.path.join(baselinesfolder, 'baseline_modules_energy.csv')"
   ]
  },
  {
   "cell_type": "markdown",
   "id": "fc6e5884",
   "metadata": {},
   "source": [
    "We will be deploying based on power (not area) because each of these have different efficiencies, and those differences should be accounted for in the simulation. Additionally, we will run the installation compensation to simulate the required replacements for each module type."
   ]
  },
  {
   "cell_type": "code",
   "execution_count": null,
   "id": "c6833a34",
   "metadata": {
    "scrolled": true
   },
   "outputs": [],
   "source": [
    "#load in a baseline and materials for modification\n",
    "import PV_ICE\n",
    "\n",
    "sim1 = PV_ICE.Simulation(name='sim1', path=testfolder)\n",
    "for scen in scennames:\n",
    "    sim1.createScenario(name=scen, massmodulefile=moduleFile_m, energymodulefile=moduleFile_e)\n",
    "    for mat in range (0, len(MATERIALS)):\n",
    "        matbaseline_m = os.path.join(baselinesfolder,'baseline_material_mass_'+MATERIALS[mat]+'.csv')\n",
    "        matbaseline_e = os.path.join(baselinesfolder,'baseline_material_energy_'+MATERIALS[mat]+'.csv')\n",
    "        sim1.scenario[scen].addMaterial(MATERIALS[mat], massmatfile=matbaseline_m, energymatfile=matbaseline_e)"
   ]
  },
  {
   "cell_type": "markdown",
   "id": "b1aae019",
   "metadata": {},
   "source": [
    "## Module Types Creation\n",
    "Starting modifications in 2022, using PV ICE baseline as historical for all modules\n",
    "\n",
    "**NOTE: Currently have to modify all scenarios before extending the years to avoid errors.**\n",
    "\n",
    "**NOTE: all dynamic values changed with PV ICE modify functions must feed in a Pandas Series**"
   ]
  },
  {
   "cell_type": "code",
   "execution_count": null,
   "id": "81c90663",
   "metadata": {
    "scrolled": false
   },
   "outputs": [],
   "source": [
    "sim1.scenario.keys()"
   ]
  },
  {
   "cell_type": "code",
   "execution_count": null,
   "id": "8a2b6b35",
   "metadata": {},
   "outputs": [],
   "source": [
    "celltech_modeff = pd.read_csv(os.path.join(supportMatfolder, 'output-celltech-modeffimprovements.csv'),index_col=0) #pull in module eff\n",
    "celltech_aguse = pd.read_csv(os.path.join(supportMatfolder, 'output-celltech-Agusageimprovements.csv'),index_col=0) #pull in Ag use"
   ]
  },
  {
   "cell_type": "code",
   "execution_count": null,
   "id": "e69ae121",
   "metadata": {},
   "outputs": [],
   "source": [
    "#glass-glass package mass per area calculation\n",
    "#ITRPV 2022 Figs 36 and 38, we are assuming that the front and back glass heave equal thickness of 2.5mm\n",
    "density_glass = 2500*1000 # g/m^3 \n",
    "glassperm2 = (2.5/1000)* 2 * density_glass\n",
    "print('The mass per module area of glass is '+str(glassperm2)+' g/m^2 for all modules with a glass-glass package')"
   ]
  },
  {
   "cell_type": "code",
   "execution_count": null,
   "id": "bcac62b8",
   "metadata": {},
   "outputs": [],
   "source": [
    "#time shift for modifications"
   ]
  },
  {
   "cell_type": "code",
   "execution_count": null,
   "id": "31b49139",
   "metadata": {},
   "outputs": [],
   "source": [
    "sim_start_year = sim1.scenario['Perovskite'].dataIn_m.iloc[0,0]\n",
    "mod_start_year = 2022\n",
    "timeshift = mod_start_year - sim_start_year\n",
    "print('Time shift: '+str(timeshift))"
   ]
  },
  {
   "cell_type": "code",
   "execution_count": null,
   "id": "97e89ea5",
   "metadata": {},
   "outputs": [],
   "source": []
  },
  {
   "cell_type": "markdown",
   "id": "d7fa9ccc",
   "metadata": {},
   "source": [
    "#### Bifacial Factors"
   ]
  },
  {
   "cell_type": "code",
   "execution_count": null,
   "id": "cc43ce0c",
   "metadata": {},
   "outputs": [],
   "source": [
    "bifiFactors = {'PERC':0.7,\n",
    "              'SHJ':0.9,\n",
    "              'TOPCon':0.8, # ITRPV 2022, Fig. 58\n",
    "              'RecycledPERC':0.6,\n",
    "              'Repowered':0.56} \n",
    "#MAY NEED TO CHANGE TO BE DYNAMIC"
   ]
  },
  {
   "cell_type": "code",
   "execution_count": null,
   "id": "20fe7d19",
   "metadata": {},
   "outputs": [],
   "source": [
    "#PV ICE currently set up to read in a csv of bifi factors, so generate files to read in \n",
    "idx_temp = pd.RangeIndex(start=2000,stop=2101,step=1) #create the index\n",
    "df_temp = pd.DataFrame(index=idx_temp, columns=['bifi'], dtype=float)\n",
    "bifi_perc = df_temp.copy()\n",
    "bifi_perc['bifi'] = bifiFactors['PERC']\n",
    "bifi_shj = df_temp.copy()\n",
    "bifi_shj['bifi'] = bifiFactors['SHJ']\n",
    "bifi_topcon = df_temp.copy()\n",
    "bifi_topcon['bifi'] = bifiFactors['TOPCon']"
   ]
  },
  {
   "cell_type": "code",
   "execution_count": null,
   "id": "aba85ff5",
   "metadata": {},
   "outputs": [],
   "source": [
    "bifi_perc.to_csv(path_or_buf=os.path.join(testfolder,'bifi_perc.csv'), index_label='Year')\n",
    "bifi_shj.to_csv(path_or_buf=os.path.join(testfolder,'bifi_shj.csv'), index_label='Year')\n",
    "bifi_topcon.to_csv(path_or_buf=os.path.join(testfolder,'bifi_topcon.csv'), index_label='Year')"
   ]
  },
  {
   "cell_type": "code",
   "execution_count": null,
   "id": "5932d4ae",
   "metadata": {},
   "outputs": [],
   "source": [
    "bifi_perc_path = os.path.join(testfolder,'bifi_perc.csv')\n",
    "bifi_shj_path = os.path.join(testfolder,'bifi_shj.csv')\n",
    "bifi_topcon_path = os.path.join(testfolder,'bifi_topcon.csv')"
   ]
  },
  {
   "cell_type": "markdown",
   "id": "f4c51d07",
   "metadata": {},
   "source": [
    "### PERC_50\n",
    "This module represents current PERC technology (so good efficiency) if it were to have it's lifetime extended significantly. Glass-glass technology is assumed, expected decreases in silver usage and increases in module efficiency are derived from Zhang et al 2021, Gervais et al 2021 and ITRPV 2022. It is assumed that this module is no more recyclable than current technology (downcycle glass and recycle aluminium frames)."
   ]
  },
  {
   "cell_type": "code",
   "execution_count": null,
   "id": "4863c411",
   "metadata": {},
   "outputs": [],
   "source": [
    "#module efficiency modify for PERC\n",
    "sim1.modifyScenario('PERC_50', 'mod_eff', celltech_modeff.loc[2022:,'PERC'], start_year=2022) #changing module eff"
   ]
  },
  {
   "cell_type": "code",
   "execution_count": null,
   "id": "140da8f8",
   "metadata": {
    "scrolled": true
   },
   "outputs": [],
   "source": [
    "#silver modify for PERC\n",
    "sim1.scenario['PERC_50'].modifyMaterials('silver', 'mat_massperm2', celltech_aguse.loc[2022:,'PERC'], start_year=2022)\n",
    "#old way\n",
    "#sim1.scenario['PERC_50'].material['silver'].matdataIn_m.loc[timeshift:,'mat_massperm2'] = celltech_aguse.loc[2022:,'PERC'].values"
   ]
  },
  {
   "cell_type": "code",
   "execution_count": null,
   "id": "09331ad7",
   "metadata": {},
   "outputs": [],
   "source": [
    "#modify package to glass glass\n",
    "sim1.scenario['PERC_50'].modifyMaterials('glass', 'mat_massperm2', glassperm2, start_year=2022) #"
   ]
  },
  {
   "cell_type": "code",
   "execution_count": null,
   "id": "5de7a9d5",
   "metadata": {},
   "outputs": [],
   "source": [
    "#Lifetime and Degradation\n",
    "#values taken from lifetime vs recycling paper\n",
    "#degradation rate:\n",
    "sim1.modifyScenario('PERC_50', 'mod_degradation', 0.445, start_year=2022) #annual power degradation to reach 80% at 50 yrs\n",
    "#T50\n",
    "sim1.modifyScenario('PERC_50', 'mod_reliability_t50', 56.07, start_year=2022)\n",
    "#t90\n",
    "sim1.modifyScenario('PERC_50', 'mod_reliability_t90', 59.15, start_year=2022) \n",
    "#Mod Project Lifetime\n",
    "sim1.modifyScenario('PERC_50', 'mod_lifetime', 50, start_year=2022) #project lifetime of 50 years\n"
   ]
  },
  {
   "cell_type": "code",
   "execution_count": null,
   "id": "4a02b660",
   "metadata": {},
   "outputs": [],
   "source": [
    "#Merchant Tail set high\n",
    "sim1.modifyScenario('PERC_50', 'mod_MerchantTail', 100, start_year=2022) #all installations stay for merchant tail\n",
    "#Change recycling?"
   ]
  },
  {
   "cell_type": "code",
   "execution_count": null,
   "id": "f1e20bd8",
   "metadata": {},
   "outputs": [],
   "source": []
  },
  {
   "cell_type": "markdown",
   "id": "676dde51",
   "metadata": {},
   "source": [
    "### SHJ\n",
    "This is a modern SHJ module with expected silver and module efficiency improvements taken from Zhang et al 2021, Gervais et al 2021, and ITPRV 2022. See PERC vs SHJ vs TOPCon for a more detailed evaluation."
   ]
  },
  {
   "cell_type": "code",
   "execution_count": null,
   "id": "a4a656b7",
   "metadata": {},
   "outputs": [],
   "source": [
    "#module efficiency modify for PERC\n",
    "sim1.modifyScenario('SHJ', 'mod_eff', celltech_modeff.loc[2022:,'SHJ'], start_year=2022) #changing module eff\n",
    "#sim1.scenario['SHJ'].dataIn_m.loc[timeshift:,'mod_eff'] = celltech_modeff.loc[2022:,'SHJ'].values"
   ]
  },
  {
   "cell_type": "code",
   "execution_count": null,
   "id": "8f6a64d5",
   "metadata": {},
   "outputs": [],
   "source": [
    "#modify silver usage for SHJ\n",
    "sim1.scenario['SHJ'].modifyMaterials('silver', 'mat_massperm2', celltech_aguse.loc[2022:,'SHJ'], start_year=2022)"
   ]
  },
  {
   "cell_type": "code",
   "execution_count": null,
   "id": "bbe51f33",
   "metadata": {},
   "outputs": [],
   "source": [
    "#modify package to glass glass\n",
    "sim1.scenario['SHJ'].modifyMaterials('glass', 'mat_massperm2', glassperm2, start_year=2022)"
   ]
  },
  {
   "cell_type": "code",
   "execution_count": null,
   "id": "0c0327b4",
   "metadata": {},
   "outputs": [],
   "source": [
    "#Lifetime and Degradation\n",
    "#values taken from lifetime vs recycling paper\n",
    "#degradation rate:\n",
    "sim1.modifyScenario('SHJ', 'mod_degradation', 0.5, start_year=2022) #annual power degradation\n",
    "#Mod Project Lifetime\n",
    "sim1.modifyScenario('SHJ', 'mod_lifetime', 30, start_year=2022) #project lifetime of 30 years\n",
    "#T50\n",
    "sim1.modifyScenario('SHJ', 'mod_reliability_t50', 28, start_year=2022)\n",
    "#t90\n",
    "sim1.modifyScenario('SHJ', 'mod_reliability_t90', 33, start_year=2022) \n"
   ]
  },
  {
   "cell_type": "code",
   "execution_count": null,
   "id": "165c426d",
   "metadata": {},
   "outputs": [],
   "source": [
    "#Merchant Tail set high\n",
    "sim1.modifyScenario('SHJ', 'mod_MerchantTail', 50, start_year=2022) #50% stay for merchant tail, possibly change to DYNAMIC\n",
    "#recycling?!?!"
   ]
  },
  {
   "cell_type": "code",
   "execution_count": null,
   "id": "f832829b",
   "metadata": {},
   "outputs": [],
   "source": []
  },
  {
   "cell_type": "markdown",
   "id": "c5eb8c4d",
   "metadata": {},
   "source": [
    "### Perovskite\n",
    "This perovskite module uses current best module and cell efficiencies, has a prospective life of 15 years and 1.5% degradation rate, and is highly circular. This is a best case scenario for perovskites given current data."
   ]
  },
  {
   "cell_type": "code",
   "execution_count": null,
   "id": "db8c9355",
   "metadata": {},
   "outputs": [],
   "source": [
    "#2022 module eff = 17.9% #https://www.nrel.gov/pv/assets/pdfs/champion-module-efficiencies-rev220401b.pdf\n",
    "#2050 module eff = 32.5% # https://www.nrel.gov/pv/assets/pdfs/best-research-cell-efficiencies.pdf\n",
    "idx_perovskite_eff = pd.RangeIndex(start=2022,stop=2051,step=1) #create the index\n",
    "df_perovskite_eff = pd.DataFrame(index=idx_perovskite_eff, columns=['mod_eff_p'], dtype=float)\n",
    "df_perovskite_eff.loc[2022] = 17.9\n",
    "df_perovskite_eff.loc[2050] = 32.5\n",
    "df_perovskite_eff.interpolate(inplace=True)"
   ]
  },
  {
   "cell_type": "code",
   "execution_count": null,
   "id": "fc24ecbd",
   "metadata": {},
   "outputs": [],
   "source": [
    "#module efficiency modify for PERC\n",
    "sim1.modifyScenario('Perovskite', 'mod_eff', df_perovskite_eff['mod_eff_p'], start_year=2022) #changing module eff"
   ]
  },
  {
   "cell_type": "code",
   "execution_count": null,
   "id": "488b26dc",
   "metadata": {},
   "outputs": [],
   "source": [
    "#modify package to glass glass\n",
    "sim1.scenario['Perovskite'].modifyMaterials('glass', 'mat_massperm2', glassperm2, start_year=2022)"
   ]
  },
  {
   "cell_type": "code",
   "execution_count": null,
   "id": "e797b746",
   "metadata": {},
   "outputs": [],
   "source": [
    "#Lifetime and Degradation\n",
    "#values taken from lifetime vs recycling paper\n",
    "#degradation rate:\n",
    "sim1.modifyScenario('Perovskite', 'mod_degradation', 1.5, start_year=2022) #annual power degradation\n",
    "#Mod Project Lifetime\n",
    "sim1.modifyScenario('Perovskite', 'mod_lifetime', 15, start_year=2022) #project lifetime of 30 years\n",
    "#T50\n",
    "sim1.modifyScenario('Perovskite', 'mod_reliability_t50', 19, start_year=2022)\n",
    "#t90\n",
    "sim1.modifyScenario('Perovskite', 'mod_reliability_t90', 23, start_year=2022) "
   ]
  },
  {
   "cell_type": "code",
   "execution_count": null,
   "id": "b9e90e4b",
   "metadata": {},
   "outputs": [],
   "source": [
    "#As Circular as possible\n",
    "#100% collection rate\n",
    "sim1.modifyScenario('Perovskite', 'mod_EOL_collection_eff', 100, start_year=2022) #100% collection\n",
    "sim1.modifyScenario('Perovskite', 'mod_EOL_pg1_landfill', 0.0, start_year=2022) #100% collection\n",
    "sim1.modifyScenario('Perovskite', 'mod_EOL_pb1_landfill', 0.0, start_year=2022) #100% collection\n",
    "\n",
    "# remanufacturing\n",
    "sim1.modifyScenario('Perovskite', 'mod_EOL_pg3_reMFG', 100, start_year=2022) #all modules attempt remfg\n",
    "sim1.modifyScenario('Perovskite', 'mod_EOL_sp_reMFG_recycle', 100, start_year=2022) # recycle if can't remfg\n",
    "sim1.modifyScenario('Perovskite', 'mod_EOL_pb3_reMFG', 100, start_year=2022) # remfg bad mods too\n",
    "sim1.modifyScenario('Perovskite', 'mod_EOL_reMFG_yield', 98, start_year=2022) # REMFG YIELD 98%\n",
    "\n",
    "#set all other paths to 0\n",
    "sim1.modifyScenario('Perovskite', 'mod_EOL_pg0_resell', 0.0, start_year=2022) # REMFG YIELD 98%\n",
    "sim1.modifyScenario('Perovskite', 'mod_EOL_pg1_landfill', 0.0, start_year=2022) # REMFG YIELD 98%\n",
    "sim1.modifyScenario('Perovskite', 'mod_EOL_pg4_recycled', 0.0, start_year=2022) # REMFG YIELD 98%\n",
    "sim1.modifyScenario('Perovskite', 'mod_EOL_pb1_landfill', 0.0, start_year=2022) # REMFG YIELD 98%\n",
    "sim1.modifyScenario('Perovskite', 'mod_EOL_pb2_stored', 0.0, start_year=2022) # REMFG YIELD 98%\n",
    "sim1.modifyScenario('Perovskite', 'mod_EOL_pb4_recycled', 0.0, start_year=2022) # REMFG YIELD 98%\n",
    "\n",
    "\n",
    "#Material Remanufacture\n",
    "#Glass\n",
    "#mfg scrap\n",
    "sim1.scenario['Perovskite'].modifyMaterials('glass', 'mat_MFG_scrap_Recycled', 100.0, start_year=2022) #send mfg scrap to recycle\n",
    "sim1.scenario['Perovskite'].modifyMaterials('glass', 'mat_MFG_scrap_Recycling_eff', 99.0, start_year=2022) #99% yield\n",
    "sim1.scenario['Perovskite'].modifyMaterials('glass', 'mat_MFG_scrap_Recycled_into_HQ', 100.0, start_year=2022) #all HQ\n",
    "sim1.scenario['Perovskite'].modifyMaterials('glass', 'mat_MFG_scrap_Recycled_into_HQ_Reused4MFG', 100.0, start_year=2022) #closed-loop\n",
    "#eol\n",
    "sim1.scenario['Perovskite'].modifyMaterials('glass', 'mat_PG3_ReMFG_target', 100.0, start_year=2022) #send all to remfg\n",
    "sim1.scenario['Perovskite'].modifyMaterials('glass', 'mat_PG4_Recycling_target', 0.0, start_year=2022) #send none to recycle\n",
    "sim1.scenario['Perovskite'].modifyMaterials('glass', 'mat_ReMFG_yield', 99.0, start_year=2022) #99% yeild\n",
    "\n",
    "#silicon Remanufacture or recycle?\n",
    "#mfg scrap\n",
    "sim1.scenario['Perovskite'].modifyMaterials('silicon', 'mat_MFG_scrap_Recycled', 100.0, start_year=2022) #send mfg scrap to recycle\n",
    "sim1.scenario['Perovskite'].modifyMaterials('silicon', 'mat_MFG_scrap_Recycling_eff', 98.0, start_year=2022) #98% yield\n",
    "sim1.scenario['Perovskite'].modifyMaterials('silicon', 'mat_MFG_scrap_Recycled_into_HQ', 100.0, start_year=2022) #all HQ\n",
    "sim1.scenario['Perovskite'].modifyMaterials('silicon', 'mat_MFG_scrap_Recycled_into_HQ_Reused4MFG', 100.0, start_year=2022) #closed-loop\n",
    "#eol\n",
    "sim1.scenario['Perovskite'].modifyMaterials('silicon', 'mat_PG3_ReMFG_target', 0.0, start_year=2022) #send to recycle\n",
    "sim1.scenario['Perovskite'].modifyMaterials('silicon', 'mat_PG4_Recycling_target', 100.0, start_year=2022) #send to recycle\n",
    "sim1.scenario['Perovskite'].modifyMaterials('silicon', 'mat_Recycling_yield', 98.0, start_year=2022) #99% yeild\n",
    "sim1.scenario['Perovskite'].modifyMaterials('silicon', 'mat_EOL_Recycled_into_HQ', 100.0, start_year=2022) #all HQ\n",
    "sim1.scenario['Perovskite'].modifyMaterials('silicon', 'mat_EOL_RecycledHQ_Reused4MFG', 100.0, start_year=2022) #closed-loop\n",
    "\n",
    "#aluminium_frames recycle\n",
    "#mfg scrap\n",
    "sim1.scenario['Perovskite'].modifyMaterials('aluminium_frames', 'mat_MFG_scrap_Recycled', 100.0, start_year=2022) #send mfg scrap to recycle\n",
    "sim1.scenario['Perovskite'].modifyMaterials('aluminium_frames', 'mat_MFG_scrap_Recycling_eff', 99.0, start_year=2022) #98% yield\n",
    "sim1.scenario['Perovskite'].modifyMaterials('aluminium_frames', 'mat_MFG_scrap_Recycled_into_HQ', 100.0, start_year=2022) #all HQ\n",
    "sim1.scenario['Perovskite'].modifyMaterials('aluminium_frames', 'mat_MFG_scrap_Recycled_into_HQ_Reused4MFG', 100.0, start_year=2022) #closed-loop\n",
    "#eol\n",
    "sim1.scenario['Perovskite'].modifyMaterials('aluminium_frames', 'mat_PG3_ReMFG_target', 0.0, start_year=2022) #send to recycle\n",
    "sim1.scenario['Perovskite'].modifyMaterials('aluminium_frames', 'mat_PG4_Recycling_target', 100.0, start_year=2022) #send to recycle\n",
    "sim1.scenario['Perovskite'].modifyMaterials('aluminium_frames', 'mat_Recycling_yield', 99.0, start_year=2022) #99% yeild\n",
    "sim1.scenario['Perovskite'].modifyMaterials('aluminium_frames', 'mat_EOL_Recycled_into_HQ', 100.0, start_year=2022) #all HQ\n",
    "sim1.scenario['Perovskite'].modifyMaterials('aluminium_frames', 'mat_EOL_RecycledHQ_Reused4MFG', 100.0, start_year=2022) #closed-loop"
   ]
  },
  {
   "cell_type": "code",
   "execution_count": null,
   "id": "e91e607e",
   "metadata": {},
   "outputs": [],
   "source": []
  },
  {
   "cell_type": "markdown",
   "id": "116c5f82",
   "metadata": {},
   "source": [
    "#### Recycled PERC\n",
    "This module is based on the recent test from Fraunhofer ISE in which an old module was dissassembled, and the silicon wafer cleaned, put into a Cz ingot growth process and made using standard PERC processing, creating a 19% efficient module."
   ]
  },
  {
   "cell_type": "code",
   "execution_count": null,
   "id": "d1afcad2",
   "metadata": {},
   "outputs": [],
   "source": [
    "#lets assume this gets slightly better over time\n",
    "idx_RePerc_eff = pd.RangeIndex(start=2022,stop=2051,step=1) #create the index\n",
    "df_RePerc_eff = pd.DataFrame(index=idx_RePerc_eff, columns=['mod_eff_RePerc'], dtype=float)\n",
    "df_RePerc_eff.loc[2022] = 19.0\n",
    "df_RePerc_eff.loc[2050] = 22.0\n",
    "df_RePerc_eff.interpolate(inplace=True)"
   ]
  },
  {
   "cell_type": "code",
   "execution_count": null,
   "id": "a41d37d1",
   "metadata": {},
   "outputs": [],
   "source": [
    "#module efficiency\n",
    "sim1.modifyScenario('RecycledPERC', 'mod_eff', df_RePerc_eff['mod_eff_RePerc'], start_year=2022)"
   ]
  },
  {
   "cell_type": "code",
   "execution_count": null,
   "id": "c76ff080",
   "metadata": {},
   "outputs": [],
   "source": [
    "#Lifetime and Degradation\n",
    "#values taken from lifetime vs recycling paper\n",
    "#degradation rate:\n",
    "sim1.modifyScenario('RecycledPERC', 'mod_degradation', 0.5, start_year=2022) #annual power degradation\n",
    "#Mod Project Lifetime\n",
    "sim1.modifyScenario('RecycledPERC', 'mod_lifetime', 25, start_year=2022) #project lifetime of 30 years\n",
    "#T50\n",
    "sim1.modifyScenario('RecycledPERC', 'mod_reliability_t50', 25, start_year=2022)\n",
    "#t90\n",
    "sim1.modifyScenario('RecycledPERC', 'mod_reliability_t90', 30, start_year=2022) "
   ]
  },
  {
   "cell_type": "code",
   "execution_count": null,
   "id": "0e668752",
   "metadata": {},
   "outputs": [],
   "source": []
  },
  {
   "cell_type": "code",
   "execution_count": null,
   "id": "98c23d52",
   "metadata": {},
   "outputs": [],
   "source": [
    "#silicon recycled\n",
    "#mfg scrap\n",
    "sim1.scenario['RecycledPERC'].modifyMaterials('silicon', 'mat_MFG_scrap_Recycled', 100.0, start_year=2022) #send mfg scrap to recycle\n",
    "sim1.scenario['RecycledPERC'].modifyMaterials('silicon', 'mat_MFG_scrap_Recycling_eff', 98.0, start_year=2022) #98% yield\n",
    "sim1.scenario['RecycledPERC'].modifyMaterials('silicon', 'mat_MFG_scrap_Recycled_into_HQ', 100.0, start_year=2022) #all HQ\n",
    "sim1.scenario['RecycledPERC'].modifyMaterials('silicon', 'mat_MFG_scrap_Recycled_into_HQ_Reused4MFG', 100.0, start_year=2022) #closed-loop\n",
    "#eol\n",
    "sim1.scenario['RecycledPERC'].modifyMaterials('silicon', 'mat_PG3_ReMFG_target', 0.0, start_year=2022) #send to recycle\n",
    "sim1.scenario['RecycledPERC'].modifyMaterials('silicon', 'mat_PG4_Recycling_target', 100.0, start_year=2022) #send to recycle\n",
    "sim1.scenario['RecycledPERC'].modifyMaterials('silicon', 'mat_Recycling_yield', 98.0, start_year=2022) #99% yeild\n",
    "sim1.scenario['RecycledPERC'].modifyMaterials('silicon', 'mat_EOL_Recycled_into_HQ', 100.0, start_year=2022) #all HQ\n",
    "sim1.scenario['RecycledPERC'].modifyMaterials('silicon', 'mat_EOL_RecycledHQ_Reused4MFG', 100.0, start_year=2022) #closed-loop\n",
    "\n",
    "#aluminium_frames recycle\n",
    "#mfg scrap\n",
    "sim1.scenario['RecycledPERC'].modifyMaterials('aluminium_frames', 'mat_MFG_scrap_Recycled', 100.0, start_year=2022) #send mfg scrap to recycle\n",
    "sim1.scenario['RecycledPERC'].modifyMaterials('aluminium_frames', 'mat_MFG_scrap_Recycling_eff', 99.0, start_year=2022) #98% yield\n",
    "sim1.scenario['RecycledPERC'].modifyMaterials('aluminium_frames', 'mat_MFG_scrap_Recycled_into_HQ', 100.0, start_year=2022) #all HQ\n",
    "sim1.scenario['RecycledPERC'].modifyMaterials('aluminium_frames', 'mat_MFG_scrap_Recycled_into_HQ_Reused4MFG', 100.0, start_year=2022) #closed-loop\n",
    "#eol\n",
    "sim1.scenario['RecycledPERC'].modifyMaterials('aluminium_frames', 'mat_PG3_ReMFG_target', 0.0, start_year=2022) #send to recycle\n",
    "sim1.scenario['RecycledPERC'].modifyMaterials('aluminium_frames', 'mat_PG4_Recycling_target', 100.0, start_year=2022) #send to recycle\n",
    "sim1.scenario['RecycledPERC'].modifyMaterials('aluminium_frames', 'mat_Recycling_yield', 99.0, start_year=2022) #99% yeild\n",
    "sim1.scenario['RecycledPERC'].modifyMaterials('aluminium_frames', 'mat_EOL_Recycled_into_HQ', 100.0, start_year=2022) #all HQ\n",
    "sim1.scenario['RecycledPERC'].modifyMaterials('aluminium_frames', 'mat_EOL_RecycledHQ_Reused4MFG', 100.0, start_year=2022) #closed-loop"
   ]
  },
  {
   "cell_type": "code",
   "execution_count": 1,
   "id": "aeb1f753",
   "metadata": {},
   "outputs": [
    {
     "ename": "NameError",
     "evalue": "name 'pd' is not defined",
     "output_type": "error",
     "traceback": [
      "\u001b[1;31m---------------------------------------------------------------------------\u001b[0m",
      "\u001b[1;31mNameError\u001b[0m                                 Traceback (most recent call last)",
      "Input \u001b[1;32mIn [1]\u001b[0m, in \u001b[0;36m<cell line: 3>\u001b[1;34m()\u001b[0m\n\u001b[0;32m      1\u001b[0m \u001b[38;5;66;03m#the cool feature of this module was that the wafer was directly put into the Cz process\u001b[39;00m\n\u001b[0;32m      2\u001b[0m \u001b[38;5;66;03m#therefore, we need to modify the recycling energy to reflect this\u001b[39;00m\n\u001b[1;32m----> 3\u001b[0m altHQRecycle_e \u001b[38;5;241m=\u001b[39m \u001b[43mpd\u001b[49m\u001b[38;5;241m.\u001b[39mread_csv(os\u001b[38;5;241m.\u001b[39mpath\u001b[38;5;241m.\u001b[39mjoin(supportMatfolder, \u001b[38;5;124m'\u001b[39m\u001b[38;5;124moutput_energy_silicon_eol_recycleHQ_ALT.csv\u001b[39m\u001b[38;5;124m'\u001b[39m), index_col\u001b[38;5;241m=\u001b[39m\u001b[38;5;241m0\u001b[39m)\n",
      "\u001b[1;31mNameError\u001b[0m: name 'pd' is not defined"
     ]
    }
   ],
   "source": [
    "#the cool feature of this module was that the wafer was directly put into the Cz process\n",
    "#therefore, we need to modify the recycling energy to reflect this\n",
    "altHQRecycle_e = pd.read_csv(os.path.join(supportMatfolder, 'output_energy_silicon_eol_recycleHQ_ALT.csv'), index_col=0)"
   ]
  },
  {
   "cell_type": "markdown",
   "id": "450de154",
   "metadata": {},
   "source": [
    "#### Cheap Crap"
   ]
  },
  {
   "cell_type": "code",
   "execution_count": null,
   "id": "19a6c8a1",
   "metadata": {},
   "outputs": [],
   "source": []
  },
  {
   "cell_type": "code",
   "execution_count": null,
   "id": "0cc75ebb",
   "metadata": {},
   "outputs": [],
   "source": []
  },
  {
   "cell_type": "code",
   "execution_count": null,
   "id": "265e42f6",
   "metadata": {},
   "outputs": [],
   "source": []
  },
  {
   "cell_type": "code",
   "execution_count": null,
   "id": "bac99ecd",
   "metadata": {},
   "outputs": [],
   "source": []
  },
  {
   "cell_type": "markdown",
   "id": "0c07f58d",
   "metadata": {},
   "source": [
    "#### Repowered"
   ]
  },
  {
   "cell_type": "code",
   "execution_count": null,
   "id": "3d41c82f",
   "metadata": {},
   "outputs": [],
   "source": []
  },
  {
   "cell_type": "code",
   "execution_count": null,
   "id": "6ea2ef02",
   "metadata": {},
   "outputs": [],
   "source": []
  },
  {
   "cell_type": "code",
   "execution_count": null,
   "id": "f7568faf",
   "metadata": {},
   "outputs": [],
   "source": []
  },
  {
   "cell_type": "markdown",
   "id": "233a3662",
   "metadata": {},
   "source": [
    "### Modify Years 2000 to 2100\n",
    "We do this after we modify the baselines to propogate the modified 2050 values forward"
   ]
  },
  {
   "cell_type": "code",
   "execution_count": null,
   "id": "4e36e4e1",
   "metadata": {
    "scrolled": true
   },
   "outputs": [],
   "source": [
    "#trim to start in 2000, this trims module and materials\n",
    "#had to specify and end year, cannot use to extend\n",
    "sim1.trim_Years(startYear=2000, endYear=2100)"
   ]
  },
  {
   "cell_type": "code",
   "execution_count": null,
   "id": "1733de91",
   "metadata": {},
   "outputs": [],
   "source": [
    "#check\n",
    "sim1.scenario['SHJ'].material['glass'].matdataIn_e"
   ]
  },
  {
   "cell_type": "markdown",
   "id": "31625649",
   "metadata": {},
   "source": [
    "### Apply deployment curve\n",
    "For the full derivation of the deployment curve, see the \"PV Installations - Global\" development journal. Essentially, the projection is 2000-2021 IRENA historical installation data, 2022 through 2050 is a quadratic fit to achieve 50 TW in 2050, and from 2050 to 2100 is a linear increase to approx 60 TW based on 2000-2021 global increase in electricity capacity (219.32 GW/year).\n",
    "\n",
    "This is the deployment curve applied to all PV technologies - however, it will be modified for each PV tech using the installation compensation method, increasing it for any replacement modules required to maintain capacity."
   ]
  },
  {
   "cell_type": "code",
   "execution_count": null,
   "id": "0c453214",
   "metadata": {},
   "outputs": [],
   "source": [
    "global_projection = pd.read_csv(os.path.join(supportMatfolder,'output-globalInstallsProjection.csv'), index_col=0)\n",
    "\n",
    "fig, ax1 = plt.subplots()\n",
    "\n",
    "ax1.plot(global_projection['World_cum']/1e6, color='orange')\n",
    "ax1.set_ylabel('Cumulative Solar Capacity [TW]', color='orange')\n",
    "ax2 = ax1.twinx()\n",
    "ax2.plot(global_projection['World_annual_[MWdc]']/1e6)\n",
    "ax2.set_ylabel('Annual Installations [TW]')\n",
    "plt.show()\n"
   ]
  },
  {
   "cell_type": "code",
   "execution_count": null,
   "id": "68799e77",
   "metadata": {},
   "outputs": [],
   "source": [
    "#deployment projection\n",
    "sim1.modifyScenario(scenarios=None,stage='new_Installed_Capacity_[MW]', value= global_projection['World_annual_[MWdc]'], start_year=2000)\n",
    "#for scen in scennames:\n",
    "#    sim1.scenario[scen].dataIn_m.loc[0:len(global_projection.index-1),'new_Installed_Capacity_[MW]'] = global_projection['World_annual_[MWdc]'].values"
   ]
  },
  {
   "cell_type": "code",
   "execution_count": null,
   "id": "86a21894",
   "metadata": {},
   "outputs": [],
   "source": []
  },
  {
   "cell_type": "markdown",
   "id": "f1be526b",
   "metadata": {},
   "source": [
    "# Calculate Mass flow\n",
    "Can just calc mass here (exclude energy) because we're going to immediately do Install Compensation."
   ]
  },
  {
   "cell_type": "code",
   "execution_count": null,
   "id": "ed466bcc",
   "metadata": {
    "scrolled": false
   },
   "outputs": [],
   "source": [
    "sim1.calculateMassFlow()"
   ]
  },
  {
   "cell_type": "code",
   "execution_count": null,
   "id": "b364cb8d",
   "metadata": {},
   "outputs": [],
   "source": [
    "ii_yearly, ii_cum = sim1.aggregateResults() #have to do this to get auto plots"
   ]
  },
  {
   "cell_type": "code",
   "execution_count": null,
   "id": "7cd2dfb5",
   "metadata": {
    "scrolled": true
   },
   "outputs": [],
   "source": [
    "sim1.plotMetricResults()"
   ]
  },
  {
   "cell_type": "code",
   "execution_count": null,
   "id": "58773d73",
   "metadata": {},
   "outputs": [],
   "source": [
    "effective_capacity = ii_yearly.filter(like='ActiveCapacity')\n",
    "plt.plot(effective_capacity)\n",
    "plt.legend(scennames)\n",
    "plt.ylabel('Effective Capacity [MW]')\n",
    "plt.title('Effective Capacity: No Replacements')"
   ]
  },
  {
   "cell_type": "markdown",
   "id": "267b2129",
   "metadata": {},
   "source": [
    "# Installation Compensation\n",
    "Make the installations always match up to the cumulative capacity deployment schedule. (i.e. not the PV ICE baseline)"
   ]
  },
  {
   "cell_type": "code",
   "execution_count": null,
   "id": "f4f609da",
   "metadata": {},
   "outputs": [],
   "source": [
    "\n",
    "for row in range (0,len(sim1.scenario['SHJ'].dataIn_m)):\n",
    "    for scenario in range (0, len(sim1.scenario.keys())):\n",
    "        scen = list(sim1.scenario.keys())[scenario]\n",
    "        Under_Installment = ( (sim1.scenario['CAPACITY TARGET'].dataOut_m['Installed_Capacity_[W]'][row] - \n",
    "                               sim1.scenario[scen].dataOut_m['Installed_Capacity_[W]'][row])/1000000 )  # MWATTS\n",
    "        sim1.scenario[scen].dataIn_m['new_Installed_Capacity_[MW]'][row] += Under_Installment\n",
    "    sim1.calculateFlows(bifacialityfactors = ) #figure this out for multiple...\n"
   ]
  },
  {
   "cell_type": "code",
   "execution_count": null,
   "id": "b5ca0d79",
   "metadata": {},
   "outputs": [],
   "source": []
  }
 ],
 "metadata": {
  "kernelspec": {
   "display_name": "Python 3 (ipykernel)",
   "language": "python",
   "name": "python3"
  },
  "language_info": {
   "codemirror_mode": {
    "name": "ipython",
    "version": 3
   },
   "file_extension": ".py",
   "mimetype": "text/x-python",
   "name": "python",
   "nbconvert_exporter": "python",
   "pygments_lexer": "ipython3",
   "version": "3.8.8"
  }
 },
 "nbformat": 4,
 "nbformat_minor": 5
}
