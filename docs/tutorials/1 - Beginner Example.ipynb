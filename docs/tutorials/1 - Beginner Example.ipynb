{
 "cells": [
  {
   "cell_type": "markdown",
   "metadata": {},
   "source": [
    "# 1 - Create Two Scenarios with Two Materials\n",
    "\n",
    "\n",
    "This journal shows how to load the baselines and run the dynamic mas flow analysis, plotting the results for two scenarios and two materials."
   ]
  },
  {
   "cell_type": "markdown",
   "metadata": {},
   "source": [
    "### Step 1: Set Working Folder and Import PV ICE"
   ]
  },
  {
   "cell_type": "code",
   "execution_count": 1,
   "metadata": {},
   "outputs": [
    {
     "name": "stdout",
     "output_type": "stream",
     "text": [
      "Your simulation will be stored in C:\\Users\\hmirletz\\Documents\\GitHub\\PV_ICE\\PV_ICE\\TEMP\n"
     ]
    }
   ],
   "source": [
    "import os\n",
    "from pathlib import Path\n",
    "\n",
    "testfolder = str(Path().resolve().parent.parent / 'PV_ICE' / 'TEMP')\n",
    "\n",
    "# Another option using relative address; for some operative systems you might need '/' instead of '\\'\n",
    "# testfolder = os.path.abspath(r'..\\..\\PV_DEMICE\\TEMP')  \n",
    "\n",
    "print (\"Your simulation will be stored in %s\" % testfolder)"
   ]
  },
  {
   "cell_type": "code",
   "execution_count": 2,
   "metadata": {},
   "outputs": [],
   "source": [
    "import PV_ICE\n",
    "\n"
   ]
  },
  {
   "cell_type": "markdown",
   "metadata": {},
   "source": [
    "### Step 2: Add Scenarios and Materials\n",
    "\n",
    "``silicon`` and ``glass`` materials are added to the two simulations, along with a scenario, in this case the ``baseline_modules_US``. The baseline files for decadence scenario will be modified.\n"
   ]
  },
  {
   "cell_type": "code",
   "execution_count": 3,
   "metadata": {},
   "outputs": [
    {
     "name": "stdout",
     "output_type": "stream",
     "text": [
      "path = C:\\Users\\hmirletz\\Documents\\GitHub\\PV_ICE\\PV_ICE\\TEMP\n"
     ]
    }
   ],
   "source": [
    "r1 = PV_ICE.Simulation(name='Simulation1', path=testfolder)\n",
    "r1.createScenario(name='standard', file=r'..\\baselines\\baseline_modules_US.csv')\n",
    "rr1.scenario['standard'].addMaterial('silicon', file=r'..\\baselines\\baseline_material_silicon.csv' )\n",
    "\n",
    "r1.createScenario('decadence', file=r'..\\baselines\\baseline_modules_US.csv')\n",
    "r1.scenario['decadence'].addMaterial('glass', file=r'..\\baselines\\baseline_material_glass.csv')\n",
    "r1.scenario['decadence'].addMaterial('silicon', file=r'..\\baselines\\baseline_material_silicon.csv')"
   ]
  },
  {
   "cell_type": "markdown",
   "metadata": {},
   "source": [
    "### Step 3: Modify Parameters in the Scenarios\n",
    "\n",
    "We have some functions to create changes based on improvements, but for this example we'll just be modifying values for the full column and comparing effects.\n"
   ]
  },
  {
   "cell_type": "code",
   "execution_count": 4,
   "metadata": {},
   "outputs": [],
   "source": [
    "r1.scenario['decadence'].data['mod_lifetime'] = 35\n",
    "r1.scenario['decadence'].material['glass'].materialdata['mat_virgin_eff'] = 70.0\n",
    "\n",
    "r1.scenario['decadence'].material['silicon'].materialdata['mat_virgin_eff'] = 80.0\n",
    "r1.scenario['decadence'].material['silicon'].materialdata['mat_EOL_collected_Recycled'] = 100.0\n",
    "r1.scenario['decadence'].material['silicon'].materialdata['mat_massperm2'] = 22\n"
   ]
  },
  {
   "cell_type": "markdown",
   "metadata": {},
   "source": [
    "### Step 4: Run the Mass Flow Calculations on All Scenarios and Materials"
   ]
  },
  {
   "cell_type": "code",
   "execution_count": 5,
   "metadata": {
    "scrolled": true
   },
   "outputs": [
    {
     "name": "stdout",
     "output_type": "stream",
     "text": [
      "Working on Scenario:  standard\n",
      "********************\n",
      "Finished Area+Power Generation Calculations\n",
      "==> Working on Material :  glass\n",
      "==> Working on Material :  silicon\n",
      "Working on Scenario:  decadence\n",
      "********************\n",
      "Finished Area+Power Generation Calculations\n",
      "==> Working on Material :  glass\n",
      "==> Working on Material :  silicon\n"
     ]
    }
   ],
   "source": [
    "r1.calculateMassFlow()\n",
    "r1.aggregateResults();"
   ]
  },
  {
   "cell_type": "markdown",
   "metadata": {},
   "source": [
    "### Step 5: Use internal plotting functions to plot results"
   ]
  },
  {
   "cell_type": "markdown",
   "metadata": {},
   "source": [
    "Pull out the keywords by printing the keys to the module data or the material data:\n",
    "\n",
    "    print(r1.scenario.keys())\n",
    "    \n",
    "    print(r1.scenario['standard'].data.keys())\n",
    "    \n",
    "    print(r1.scenario['standard'].material['glass'].materialdata.keys())"
   ]
  },
  {
   "cell_type": "code",
   "execution_count": 6,
   "metadata": {},
   "outputs": [
    {
     "name": "stdout",
     "output_type": "stream",
     "text": [
      "Index(['year', 'mat_virgin_eff', 'mat_massperm2', 'mat_MFG_eff',\n",
      "       'mat_MFG_scrap_Recycled', 'mat_MFG_scrap_Recycling_eff',\n",
      "       'mat_MFG_scrap_Recycled_into_HQ',\n",
      "       'mat_MFG_scrap_Recycled_into_HQ_Reused4MFG', 'mat_PG3_ReMFG_target',\n",
      "       'mat_ReMFG_yield', 'mat_PG4_Recycling_target', 'mat_Recycling_yield',\n",
      "       'mat_EOL_Recycled_into_HQ', 'mat_EOL_RecycledHQ_Reused4MFG', 'mat_L0',\n",
      "       'mat_PG2_stored', 'mat_L1', 'mat_reMFG', 'mat_reMFG_mod_unyield',\n",
      "       'mat_reMFG_target', 'mat_reMFG_untarget', 'mat_reMFG_yield',\n",
      "       'mat_reMFG_unyield', 'mat_reMFG_all_unyields', 'mat_reMFG_2_recycle',\n",
      "       'mat_L2', 'mat_recycled_PG4', 'mat_recycled_all', 'mat_recycled_target',\n",
      "       'mat_L3', 'mat_recycled_yield', 'mat_L4', 'mat_EOL_Recycled_2_HQ',\n",
      "       'mat_EOL_Recycled_2_OQ', 'mat_EOL_Recycled_HQ_into_MFG',\n",
      "       'mat_EOL_Recycled_HQ_into_OU', 'mat_EnteringModuleManufacturing_total',\n",
      "       'mat_UsedSuccessfullyinModuleManufacturing',\n",
      "       'mat_LostinModuleManufacturing',\n",
      "       'mat_EnteringModuleManufacturing_virgin', 'mat_Manufacturing_Input',\n",
      "       'mat_MFG_Scrap', 'mat_MFG_Scrap_Sentto_Recycling',\n",
      "       'mat_MFG_Scrap_Landfilled', 'mat_MFG_Scrap_Recycled_Successfully',\n",
      "       'mat_MFG_Scrap_Recycled_Losses_Landfilled', 'mat_MFG_Recycled_into_HQ',\n",
      "       'mat_MFG_Recycled_into_OQ', 'mat_MFG_Recycled_HQ_into_MFG',\n",
      "       'mat_MFG_Recycled_HQ_into_OU', 'mat_Virgin_Stock',\n",
      "       'mat_Virgin_Stock_Raw', 'mat_Total_EOL_Landfilled',\n",
      "       'mat_Total_MFG_Landfilled', 'mat_Total_Landfilled',\n",
      "       'mat_Total_Recycled_OU'],\n",
      "      dtype='object')\n"
     ]
    }
   ],
   "source": [
    "#print(r1.scenario.keys())\n",
    "#print(r1.scenario['standard'].data.keys())\n",
    "print(r1.scenario['standard'].material['glass'].materialdata.keys())"
   ]
  },
  {
   "cell_type": "code",
   "execution_count": 8,
   "metadata": {},
   "outputs": [
    {
     "name": "stdout",
     "output_type": "stream",
     "text": [
      "Choose one of the keywords:  ['year', 'new_Installed_Capacity_[MW]', 'mod_eff', 'mod_reliability_t50', 'mod_reliability_t90', 'mod_degradation', 'mod_lifetime', 'mod_MFG_eff', 'mod_Repair', 'mod_MerchantTail', 'mod_EOL_collection_eff', 'mod_EOL_pg0_resell', 'mod_EOL_pg1_landfill', 'mod_EOL_pg2_stored', 'mod_EOL_pg3_reMFG', 'mod_EOL_pg4_recycled', 'mod_EOL_reMFG_yield', 'mod_EOL_sp_reMFG_recycle', 'mod_EOL_pb1_landfill', 'mod_EOL_pb2_stored', 'mod_EOL_pb3_reMFG', 'mod_EOL_pb4_recycled', 'irradiance_stc', 'Area', 'Yearly_Sum_Area_disposedby_Failure', 'Yearly_Sum_Power_disposedby_Failure', 'Yearly_Sum_Area_disposedby_ProjectLifetime', 'Yearly_Sum_Power_disposedby_ProjectLifetime', 'Yearly_Sum_Area_disposed', 'Yearly_Sum_Power_disposed', 'landfilled_noncollected', 'Repaired_[W]', 'Repaired_Area', 'Resold_Area', 'Resold_[W]', 'Cumulative_Active_Area', 'Installed_Capacity_[W]', 'Status_BAD_Area', 'Status_BAD_[W]', 'Area_for_EOL_pathsG', 'Power_for_EOL_pathsG', 'Landfill_0', 'WeibullParams', 'EOL_PG_Year_0', 'EOL_PG_Year_1', 'EOL_PG_Year_2', 'EOL_PG_Year_3', 'EOL_PG_Year_4', 'EOL_PG_Year_5', 'EOL_PG_Year_6', 'EOL_PG_Year_7', 'EOL_PG_Year_8', 'EOL_PG_Year_9', 'EOL_PG_Year_10', 'EOL_PG_Year_11', 'EOL_PG_Year_12', 'EOL_PG_Year_13', 'EOL_PG_Year_14', 'EOL_PG_Year_15', 'EOL_PG_Year_16', 'EOL_PG_Year_17', 'EOL_PG_Year_18', 'EOL_PG_Year_19', 'EOL_PG_Year_20', 'EOL_PG_Year_21', 'EOL_PG_Year_22', 'EOL_PG_Year_23', 'EOL_PG_Year_24', 'EOL_PG_Year_25', 'EOL_PG_Year_26', 'EOL_PG_Year_27', 'EOL_PG_Year_28', 'EOL_PG_Year_29', 'EOL_PG_Year_30', 'EOL_PG_Year_31', 'EOL_PG_Year_32', 'EOL_PG_Year_33', 'EOL_PG_Year_34', 'EOL_PG_Year_35', 'EOL_PG_Year_36', 'EOL_PG_Year_37', 'EOL_PG_Year_38', 'EOL_PG_Year_39', 'EOL_PG_Year_40', 'EOL_PG_Year_41', 'EOL_PG_Year_42', 'EOL_PG_Year_43', 'EOL_PG_Year_44', 'EOL_PG_Year_45', 'EOL_PG_Year_46', 'EOL_PG_Year_47', 'EOL_PG_Year_48', 'EOL_PG_Year_49', 'EOL_PG_Year_50', 'EOL_PG_Year_51', 'EOL_PG_Year_52', 'EOL_PG_Year_53', 'EOL_PG_Year_54', 'EOL_PG_Year_55', 'EOL_L0_Year_0', 'EOL_L0_Year_1', 'EOL_L0_Year_2', 'EOL_L0_Year_3', 'EOL_L0_Year_4', 'EOL_L0_Year_5', 'EOL_L0_Year_6', 'EOL_L0_Year_7', 'EOL_L0_Year_8', 'EOL_L0_Year_9', 'EOL_L0_Year_10', 'EOL_L0_Year_11', 'EOL_L0_Year_12', 'EOL_L0_Year_13', 'EOL_L0_Year_14', 'EOL_L0_Year_15', 'EOL_L0_Year_16', 'EOL_L0_Year_17', 'EOL_L0_Year_18', 'EOL_L0_Year_19', 'EOL_L0_Year_20', 'EOL_L0_Year_21', 'EOL_L0_Year_22', 'EOL_L0_Year_23', 'EOL_L0_Year_24', 'EOL_L0_Year_25', 'EOL_L0_Year_26', 'EOL_L0_Year_27', 'EOL_L0_Year_28', 'EOL_L0_Year_29', 'EOL_L0_Year_30', 'EOL_L0_Year_31', 'EOL_L0_Year_32', 'EOL_L0_Year_33', 'EOL_L0_Year_34', 'EOL_L0_Year_35', 'EOL_L0_Year_36', 'EOL_L0_Year_37', 'EOL_L0_Year_38', 'EOL_L0_Year_39', 'EOL_L0_Year_40', 'EOL_L0_Year_41', 'EOL_L0_Year_42', 'EOL_L0_Year_43', 'EOL_L0_Year_44', 'EOL_L0_Year_45', 'EOL_L0_Year_46', 'EOL_L0_Year_47', 'EOL_L0_Year_48', 'EOL_L0_Year_49', 'EOL_L0_Year_50', 'EOL_L0_Year_51', 'EOL_L0_Year_52', 'EOL_L0_Year_53', 'EOL_L0_Year_54', 'EOL_L0_Year_55', 'EOL_BS_Year0', 'EOL_BS_Year1', 'EOL_BS_Year2', 'EOL_BS_Year3', 'EOL_BS_Year4', 'EOL_BS_Year5', 'EOL_BS_Year6', 'EOL_BS_Year7', 'EOL_BS_Year8', 'EOL_BS_Year9', 'EOL_BS_Year10', 'EOL_BS_Year11', 'EOL_BS_Year12', 'EOL_BS_Year13', 'EOL_BS_Year14', 'EOL_BS_Year15', 'EOL_BS_Year16', 'EOL_BS_Year17', 'EOL_BS_Year18', 'EOL_BS_Year19', 'EOL_BS_Year20', 'EOL_BS_Year21', 'EOL_BS_Year22', 'EOL_BS_Year23', 'EOL_BS_Year24', 'EOL_BS_Year25', 'EOL_BS_Year26', 'EOL_BS_Year27', 'EOL_BS_Year28', 'EOL_BS_Year29', 'EOL_BS_Year30', 'EOL_BS_Year31', 'EOL_BS_Year32', 'EOL_BS_Year33', 'EOL_BS_Year34', 'EOL_BS_Year35', 'EOL_BS_Year36', 'EOL_BS_Year37', 'EOL_BS_Year38', 'EOL_BS_Year39', 'EOL_BS_Year40', 'EOL_BS_Year41', 'EOL_BS_Year42', 'EOL_BS_Year43', 'EOL_BS_Year44', 'EOL_BS_Year45', 'EOL_BS_Year46', 'EOL_BS_Year47', 'EOL_BS_Year48', 'EOL_BS_Year49', 'EOL_BS_Year50', 'EOL_BS_Year51', 'EOL_BS_Year52', 'EOL_BS_Year53', 'EOL_BS_Year54', 'EOL_BS_Year55', 'EOL_Landfill0', 'EOL_BadStatus', 'EOL_PG', 'EOL_PATHS', 'PG1_landfill', 'PG2_stored', 'PG3_reMFG', 'PG3_reMFG_yield', 'PG3_reMFG_unyield', 'PG4_recycled', 'PB1_landfill', 'PB2_stored', 'PB3_reMFG', 'PB3_reMFG_yield', 'PB3_reMFG_unyield', 'PB4_recycled', 'P2_stored', 'P3_reMFG', 'P4_recycled', 'ModuleTotal_MFG']\n"
     ]
    }
   ],
   "source": [
    "r1.plotScenariosComparison()"
   ]
  },
  {
   "cell_type": "code",
   "execution_count": null,
   "metadata": {},
   "outputs": [],
   "source": [
    "r1.plotMaterialComparisonAcrossScenarios(material='silicon', keyword='mat_Total_Landfilled')"
   ]
  },
  {
   "cell_type": "code",
   "execution_count": null,
   "metadata": {},
   "outputs": [],
   "source": [
    "r1.plotMaterialResults(keyword='VirginStock')"
   ]
  },
  {
   "cell_type": "code",
   "execution_count": null,
   "metadata": {},
   "outputs": [],
   "source": [
    "r1.plotMetricResults()"
   ]
  },
  {
   "cell_type": "code",
   "execution_count": null,
   "metadata": {},
   "outputs": [],
   "source": [
    "r1.plotInstalledCapacityResults()"
   ]
  },
  {
   "cell_type": "code",
   "execution_count": null,
   "metadata": {},
   "outputs": [],
   "source": [
    "datay = r1.USyearly\n",
    "datac = r1.UScum\n"
   ]
  },
  {
   "cell_type": "code",
   "execution_count": null,
   "metadata": {},
   "outputs": [],
   "source": [
    "        filter_colc = [col for col in datac if col.startswith('newInstalledCapacity')]\n",
    "        filter_coly = [col for col in datay if col.startswith('Capacity')]"
   ]
  },
  {
   "cell_type": "code",
   "execution_count": null,
   "metadata": {},
   "outputs": [],
   "source": [
    "datac[filter_colc]"
   ]
  },
  {
   "cell_type": "code",
   "execution_count": null,
   "metadata": {},
   "outputs": [],
   "source": [
    "data = datac[filter_colc].copy()\n",
    "data.join(datay[filter_coly].copy())\n"
   ]
  },
  {
   "cell_type": "code",
   "execution_count": null,
   "metadata": {},
   "outputs": [],
   "source": [
    "data"
   ]
  },
  {
   "cell_type": "code",
   "execution_count": null,
   "metadata": {},
   "outputs": [],
   "source": [
    "        mylegend = [col.split('_')[1:] for col in data]\n",
    "        mylegend = [col[:-1] for col in mylegend]\n",
    "        mylegend"
   ]
  },
  {
   "cell_type": "code",
   "execution_count": null,
   "metadata": {},
   "outputs": [],
   "source": [
    "test_list=['standard', 'decadence', '2standard', '2decadence']\n",
    "test_list2=['asdfadsf', 'dfdffd', 'dfsfs', 'ssssssss']\n",
    "#str(test_list)[1:-1]\n",
    "test_list + test_list2"
   ]
  },
  {
   "cell_type": "code",
   "execution_count": null,
   "metadata": {},
   "outputs": [],
   "source": [
    "test_list"
   ]
  },
  {
   "cell_type": "code",
   "execution_count": null,
   "metadata": {},
   "outputs": [],
   "source": []
  }
 ],
 "metadata": {
  "kernelspec": {
   "display_name": "Python 3 (ipykernel)",
   "language": "python",
   "name": "python3"
  },
  "language_info": {
   "codemirror_mode": {
    "name": "ipython",
    "version": 3
   },
   "file_extension": ".py",
   "mimetype": "text/x-python",
   "name": "python",
   "nbconvert_exporter": "python",
   "pygments_lexer": "ipython3",
   "version": "3.8.9"
  }
 },
 "nbformat": 4,
 "nbformat_minor": 4
}
