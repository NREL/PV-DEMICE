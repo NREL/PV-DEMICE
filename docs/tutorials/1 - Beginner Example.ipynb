{
 "cells": [
  {
   "cell_type": "markdown",
   "metadata": {},
   "source": [
    "# 1 - Create Two Scenarios with Two Materials\n",
    "\n",
    "\n",
    "This journal shows how to load the baselines and run the dynamic mas flow analysis, plotting the results for two scenarios and two materials."
   ]
  },
  {
   "cell_type": "markdown",
   "metadata": {},
   "source": [
    "### Step 1: Set Working Folder and Import PV ICE"
   ]
  },
  {
   "cell_type": "code",
   "execution_count": 3,
   "metadata": {},
   "outputs": [
    {
     "name": "stdout",
     "output_type": "stream",
     "text": [
      "Your simulation will be stored in C:\\Users\\sayala\\Documents\\GitHub\\PV_ICE\\PV_ICE\\TEMP\\Tutorial1\n"
     ]
    }
   ],
   "source": [
    "import os\n",
    "from pathlib import Path\n",
    "\n",
    "testfolder = str(Path().resolve().parent.parent / 'PV_ICE' / 'TEMP' / 'Tutorial1')\n",
    "\n",
    "if not os.path.exists(testfolder):\n",
    "    os.makedirs(testfolder)\n",
    "\n",
    "print (\"Your simulation will be stored in %s\" % testfolder)"
   ]
  },
  {
   "cell_type": "code",
   "execution_count": 6,
   "metadata": {},
   "outputs": [],
   "source": [
    "import PV_ICE\n",
    "import pandas as pd"
   ]
  },
  {
   "cell_type": "code",
   "execution_count": 7,
   "metadata": {},
   "outputs": [
    {
     "name": "stdout",
     "output_type": "stream",
     "text": [
      "Working on a  Windows 10\n",
      "Python version  3.11.4 | packaged by Anaconda, Inc. | (main, Jul  5 2023, 13:38:37) [MSC v.1916 64 bit (AMD64)]\n",
      "Pandas version  2.1.0\n",
      "PV_ICE version  v0.2.0+551.g3772975.dirty\n"
     ]
    }
   ],
   "source": [
    "# This information helps with debugging and getting support :)\n",
    "import sys, platform\n",
    "print(\"Working on a \", platform.system(), platform.release())\n",
    "print(\"Python version \", sys.version)\n",
    "print(\"Pandas version \", pd.__version__)\n",
    "print(\"PV_ICE version \", PV_ICE.__version__)"
   ]
  },
  {
   "cell_type": "markdown",
   "metadata": {},
   "source": [
    "### Step 2: Add Scenarios and Materials\n",
    "\n",
    "``silicon`` and ``glass`` materials are added to the two simulations, along with a scenario, in this case the ``baseline_modules_US``. The baseline files for decadence scenario will be modified.\n"
   ]
  },
  {
   "cell_type": "code",
   "execution_count": 8,
   "metadata": {},
   "outputs": [
    {
     "name": "stdout",
     "output_type": "stream",
     "text": [
      "path = C:\\Users\\sayala\\Documents\\GitHub\\PV_ICE\\PV_ICE\\TEMP\\Tutorial1\n",
      "Baseline folder directed to default:  C:\\Users\\sayala\\Documents\\GitHub\\PV_ICE\\PV_ICE\\baselines\n",
      "No energy module file passed. If desired, pass one of the following options:  ['baseline_modules_energy.csv']\n",
      "No energy module file passed. If desired, pass one of the following options:  ['baseline_modules_energy.csv']\n"
     ]
    }
   ],
   "source": [
    "r1 = PV_ICE.Simulation(name='Simulation1', path=testfolder)\n",
    "r1.createScenario(name='standard', massmodulefile=r'..\\..\\baselines\\baseline_modules_mass_US.csv')\n",
    "r1.scenario['standard'].addMaterial('glass', massmatfile=r'..\\..\\baselines\\baseline_material_mass_glass.csv' )\n",
    "r1.scenario['standard'].addMaterial('silicon', massmatfile=r'..\\..\\baselines\\baseline_material_mass_silicon.csv' )\n",
    "\n",
    "r1.createScenario('low_quality', massmodulefile=r'..\\..\\baselines\\baseline_modules_mass_US.csv')\n",
    "r1.scenario['low_quality'].addMaterial('glass', massmatfile=r'..\\..\\baselines\\baseline_material_mass_glass.csv')\n",
    "r1.scenario['low_quality'].addMaterial('silicon', massmatfile=r'..\\..\\baselines\\baseline_material_mass_silicon.csv')"
   ]
  },
  {
   "cell_type": "markdown",
   "metadata": {},
   "source": [
    "Exploring that the data got loaded properly, we can look at each scenario object, and material object saved dataframe and properties"
   ]
  },
  {
   "cell_type": "code",
   "execution_count": 9,
   "metadata": {},
   "outputs": [
    {
     "data": {
      "text/html": [
       "<div>\n",
       "<style scoped>\n",
       "    .dataframe tbody tr th:only-of-type {\n",
       "        vertical-align: middle;\n",
       "    }\n",
       "\n",
       "    .dataframe tbody tr th {\n",
       "        vertical-align: top;\n",
       "    }\n",
       "\n",
       "    .dataframe thead th {\n",
       "        text-align: right;\n",
       "    }\n",
       "</style>\n",
       "<table border=\"1\" class=\"dataframe\">\n",
       "  <thead>\n",
       "    <tr style=\"text-align: right;\">\n",
       "      <th></th>\n",
       "      <th>year</th>\n",
       "      <th>new_Installed_Capacity_[MW]</th>\n",
       "      <th>mod_eff</th>\n",
       "      <th>mod_reliability_t50</th>\n",
       "      <th>mod_reliability_t90</th>\n",
       "      <th>mod_degradation</th>\n",
       "      <th>mod_lifetime</th>\n",
       "      <th>mod_MFG_eff</th>\n",
       "      <th>mod_Repair</th>\n",
       "      <th>mod_MerchantTail</th>\n",
       "      <th>...</th>\n",
       "      <th>mod_EOL_pg1_landfill</th>\n",
       "      <th>mod_EOL_pg2_stored</th>\n",
       "      <th>mod_EOL_pg3_reMFG</th>\n",
       "      <th>mod_EOL_pg4_recycled</th>\n",
       "      <th>mod_EOL_reMFG_yield</th>\n",
       "      <th>mod_EOL_sp_reMFG_recycle</th>\n",
       "      <th>mod_EOL_pb1_landfill</th>\n",
       "      <th>mod_EOL_pb2_stored</th>\n",
       "      <th>mod_EOL_pb3_reMFG</th>\n",
       "      <th>mod_EOL_pb4_recycled</th>\n",
       "    </tr>\n",
       "  </thead>\n",
       "  <tbody>\n",
       "    <tr>\n",
       "      <th>0</th>\n",
       "      <td>1995</td>\n",
       "      <td>12.500000</td>\n",
       "      <td>12.5</td>\n",
       "      <td>16</td>\n",
       "      <td>21</td>\n",
       "      <td>0.75</td>\n",
       "      <td>10.0</td>\n",
       "      <td>98</td>\n",
       "      <td>0</td>\n",
       "      <td>0</td>\n",
       "      <td>...</td>\n",
       "      <td>60</td>\n",
       "      <td>0</td>\n",
       "      <td>0</td>\n",
       "      <td>40</td>\n",
       "      <td>0</td>\n",
       "      <td>100</td>\n",
       "      <td>60</td>\n",
       "      <td>0</td>\n",
       "      <td>0</td>\n",
       "      <td>40</td>\n",
       "    </tr>\n",
       "    <tr>\n",
       "      <th>1</th>\n",
       "      <td>1996</td>\n",
       "      <td>9.667667</td>\n",
       "      <td>12.7</td>\n",
       "      <td>16</td>\n",
       "      <td>21</td>\n",
       "      <td>0.75</td>\n",
       "      <td>10.0</td>\n",
       "      <td>98</td>\n",
       "      <td>0</td>\n",
       "      <td>0</td>\n",
       "      <td>...</td>\n",
       "      <td>60</td>\n",
       "      <td>0</td>\n",
       "      <td>0</td>\n",
       "      <td>40</td>\n",
       "      <td>0</td>\n",
       "      <td>100</td>\n",
       "      <td>60</td>\n",
       "      <td>0</td>\n",
       "      <td>0</td>\n",
       "      <td>40</td>\n",
       "    </tr>\n",
       "  </tbody>\n",
       "</table>\n",
       "<p>2 rows × 22 columns</p>\n",
       "</div>"
      ],
      "text/plain": [
       "   year  new_Installed_Capacity_[MW]  mod_eff  mod_reliability_t50  \\\n",
       "0  1995                    12.500000     12.5                   16   \n",
       "1  1996                     9.667667     12.7                   16   \n",
       "\n",
       "   mod_reliability_t90  mod_degradation  mod_lifetime  mod_MFG_eff  \\\n",
       "0                   21             0.75          10.0           98   \n",
       "1                   21             0.75          10.0           98   \n",
       "\n",
       "   mod_Repair  mod_MerchantTail  ...  mod_EOL_pg1_landfill  \\\n",
       "0           0                 0  ...                    60   \n",
       "1           0                 0  ...                    60   \n",
       "\n",
       "   mod_EOL_pg2_stored  mod_EOL_pg3_reMFG  mod_EOL_pg4_recycled  \\\n",
       "0                   0                  0                    40   \n",
       "1                   0                  0                    40   \n",
       "\n",
       "   mod_EOL_reMFG_yield  mod_EOL_sp_reMFG_recycle  mod_EOL_pb1_landfill  \\\n",
       "0                    0                       100                    60   \n",
       "1                    0                       100                    60   \n",
       "\n",
       "   mod_EOL_pb2_stored  mod_EOL_pb3_reMFG  mod_EOL_pb4_recycled  \n",
       "0                   0                  0                    40  \n",
       "1                   0                  0                    40  \n",
       "\n",
       "[2 rows x 22 columns]"
      ]
     },
     "execution_count": 9,
     "metadata": {},
     "output_type": "execute_result"
    }
   ],
   "source": [
    "r1.scenario['standard'].dataIn_m.head(2)"
   ]
  },
  {
   "cell_type": "code",
   "execution_count": 10,
   "metadata": {
    "scrolled": true
   },
   "outputs": [
    {
     "data": {
      "text/html": [
       "<div>\n",
       "<style scoped>\n",
       "    .dataframe tbody tr th:only-of-type {\n",
       "        vertical-align: middle;\n",
       "    }\n",
       "\n",
       "    .dataframe tbody tr th {\n",
       "        vertical-align: top;\n",
       "    }\n",
       "\n",
       "    .dataframe thead th {\n",
       "        text-align: right;\n",
       "    }\n",
       "</style>\n",
       "<table border=\"1\" class=\"dataframe\">\n",
       "  <thead>\n",
       "    <tr style=\"text-align: right;\">\n",
       "      <th></th>\n",
       "      <th>year</th>\n",
       "      <th>mat_virgin_eff</th>\n",
       "      <th>mat_massperm2</th>\n",
       "      <th>mat_MFG_eff</th>\n",
       "      <th>mat_MFG_scrap_Recycled</th>\n",
       "      <th>mat_MFG_scrap_Recycling_eff</th>\n",
       "      <th>mat_MFG_scrap_Recycled_into_HQ</th>\n",
       "      <th>mat_MFG_scrap_Recycled_into_HQ_Reused4MFG</th>\n",
       "      <th>mat_PG3_ReMFG_target</th>\n",
       "      <th>mat_ReMFG_yield</th>\n",
       "      <th>mat_PG4_Recycling_target</th>\n",
       "      <th>mat_Recycling_yield</th>\n",
       "      <th>mat_EOL_Recycled_into_HQ</th>\n",
       "      <th>mat_EOL_RecycledHQ_Reused4MFG</th>\n",
       "    </tr>\n",
       "  </thead>\n",
       "  <tbody>\n",
       "    <tr>\n",
       "      <th>0</th>\n",
       "      <td>1995</td>\n",
       "      <td>20.0</td>\n",
       "      <td>848.421429</td>\n",
       "      <td>45.0</td>\n",
       "      <td>100</td>\n",
       "      <td>20</td>\n",
       "      <td>0</td>\n",
       "      <td>100</td>\n",
       "      <td>0</td>\n",
       "      <td>0</td>\n",
       "      <td>20</td>\n",
       "      <td>80</td>\n",
       "      <td>0</td>\n",
       "      <td>0</td>\n",
       "    </tr>\n",
       "    <tr>\n",
       "      <th>1</th>\n",
       "      <td>1996</td>\n",
       "      <td>20.4</td>\n",
       "      <td>831.785714</td>\n",
       "      <td>45.0</td>\n",
       "      <td>100</td>\n",
       "      <td>20</td>\n",
       "      <td>0</td>\n",
       "      <td>100</td>\n",
       "      <td>0</td>\n",
       "      <td>0</td>\n",
       "      <td>20</td>\n",
       "      <td>80</td>\n",
       "      <td>0</td>\n",
       "      <td>0</td>\n",
       "    </tr>\n",
       "  </tbody>\n",
       "</table>\n",
       "</div>"
      ],
      "text/plain": [
       "   year  mat_virgin_eff  mat_massperm2  mat_MFG_eff  mat_MFG_scrap_Recycled  \\\n",
       "0  1995            20.0     848.421429         45.0                     100   \n",
       "1  1996            20.4     831.785714         45.0                     100   \n",
       "\n",
       "   mat_MFG_scrap_Recycling_eff  mat_MFG_scrap_Recycled_into_HQ  \\\n",
       "0                           20                               0   \n",
       "1                           20                               0   \n",
       "\n",
       "   mat_MFG_scrap_Recycled_into_HQ_Reused4MFG  mat_PG3_ReMFG_target  \\\n",
       "0                                        100                     0   \n",
       "1                                        100                     0   \n",
       "\n",
       "   mat_ReMFG_yield  mat_PG4_Recycling_target  mat_Recycling_yield  \\\n",
       "0                0                        20                   80   \n",
       "1                0                        20                   80   \n",
       "\n",
       "   mat_EOL_Recycled_into_HQ  mat_EOL_RecycledHQ_Reused4MFG  \n",
       "0                         0                              0  \n",
       "1                         0                              0  "
      ]
     },
     "execution_count": 10,
     "metadata": {},
     "output_type": "execute_result"
    }
   ],
   "source": [
    "r1.scenario['standard'].material['silicon'].matdataIn_m.head(2)"
   ]
  },
  {
   "cell_type": "markdown",
   "metadata": {},
   "source": [
    "# Step 3: Modify values\n",
    "    \n",
    "PV_ICE has some dedicated functions that create changes based on improvements, but for this example we'll just be modifying values for the full column and comparing effects. To modify these columns, we specify the scenario or material parameter we want to modify, and assign the new value. In this case we are updating:\n",
    "* module lifetime\n",
    "* module degradation"
   ]
  },
  {
   "cell_type": "code",
   "execution_count": 16,
   "metadata": {},
   "outputs": [],
   "source": [
    "r1.scenario['low_quality'].dataIn_m['mod_lifetime'] = 15 \n",
    "r1.scenario['low_quality'].dataIn_m['mod_degradation'] = 1.4 "
   ]
  },
  {
   "cell_type": "markdown",
   "metadata": {},
   "source": [
    "### Step 4: Run the Mass Flow Calculations on All Scenarios and Materials"
   ]
  },
  {
   "cell_type": "code",
   "execution_count": 17,
   "metadata": {
    "scrolled": true
   },
   "outputs": [
    {
     "name": "stdout",
     "output_type": "stream",
     "text": [
      ">>>> Calculating Material Flows <<<<\n",
      "\n",
      "Working on Scenario:  standard\n",
      "********************\n",
      "Finished Area+Power Generation Calculations\n",
      "==> Working on Material :  glass\n",
      "==> Working on Material :  silicon\n",
      "Working on Scenario:  low_quality\n",
      "********************\n",
      "Finished Area+Power Generation Calculations\n",
      "==> Working on Material :  glass\n",
      "==> Working on Material :  silicon\n"
     ]
    }
   ],
   "source": [
    "r1.calculateMassFlow()"
   ]
  },
  {
   "cell_type": "markdown",
   "metadata": {},
   "source": [
    "Now we have results on the mass layer that we can access"
   ]
  },
  {
   "cell_type": "code",
   "execution_count": 18,
   "metadata": {},
   "outputs": [
    {
     "data": {
      "text/plain": [
       "Index(['Area', 'Cumulative_Active_Area', 'EOL_BadStatus', 'EOL_Landfill0',\n",
       "       'EOL_PATHS', 'EOL_PG', 'Effective_Capacity_[W]', 'Landfill_0_ProjLife',\n",
       "       'MerchantTail_Area', 'MerchantTail_[W]', 'ModuleTotal_MFG', 'P2_stored',\n",
       "       'P3_reMFG', 'P4_recycled', 'PB1_landfill', 'PB2_stored', 'PB3_reMFG',\n",
       "       'PB3_reMFG_unyield', 'PB3_reMFG_yield', 'PB4_recycled', 'PG1_landfill',\n",
       "       'PG2_stored', 'PG3_reMFG', 'PG3_reMFG_unyield', 'PG3_reMFG_yield',\n",
       "       'PG4_recycled', 'Power_Degraded_[W]', 'Repaired_Area', 'Repaired_[W]',\n",
       "       'Resold_Area', 'Resold_[W]', 'WeibullParams',\n",
       "       'Yearly_Sum_Area_EOLby_Degradation', 'Yearly_Sum_Area_EOLby_Failure',\n",
       "       'Yearly_Sum_Area_EOLby_ProjectLifetime', 'Yearly_Sum_Area_PathsBad',\n",
       "       'Yearly_Sum_Area_PathsGood', 'Yearly_Sum_Area_atEOL',\n",
       "       'Yearly_Sum_Power_EOLby_Degradation', 'Yearly_Sum_Power_EOLby_Failure',\n",
       "       'Yearly_Sum_Power_EOLby_ProjectLifetime', 'Yearly_Sum_Power_PathsBad',\n",
       "       'Yearly_Sum_Power_PathsGood', 'Yearly_Sum_Power_atEOL',\n",
       "       'irradiance_stc'],\n",
       "      dtype='object')"
      ]
     },
     "execution_count": 18,
     "metadata": {},
     "output_type": "execute_result"
    }
   ],
   "source": [
    "r1.scenario['standard'].dataOut_m.keys()"
   ]
  },
  {
   "cell_type": "markdown",
   "metadata": {},
   "source": [
    "What can aggregate results from dataOut_m and matdataOut_m and compile the data so we can use it more easily"
   ]
  },
  {
   "cell_type": "code",
   "execution_count": 19,
   "metadata": {},
   "outputs": [],
   "source": [
    "USyearly, UScum = r1.aggregateResults()\n",
    "# r1.USyearly # another way of accessing after running aggregateResults()\n",
    "# r1.UScum"
   ]
  },
  {
   "cell_type": "code",
   "execution_count": 20,
   "metadata": {},
   "outputs": [
    {
     "data": {
      "text/plain": [
       "Index(['VirginStock_glass_Simulation1_standard_[Tonnes]',\n",
       "       'VirginStock_silicon_Simulation1_standard_[Tonnes]',\n",
       "       'VirginStock_Module_Simulation1_standard_[Tonnes]',\n",
       "       'WasteAll_glass_Simulation1_standard_[Tonnes]',\n",
       "       'WasteAll_silicon_Simulation1_standard_[Tonnes]',\n",
       "       'WasteAll_Module_Simulation1_standard_[Tonnes]',\n",
       "       'WasteEOL_glass_Simulation1_standard_[Tonnes]',\n",
       "       'WasteEOL_silicon_Simulation1_standard_[Tonnes]',\n",
       "       'WasteEOL_Module_Simulation1_standard_[Tonnes]',\n",
       "       'WasteMFG_glass_Simulation1_standard_[Tonnes]',\n",
       "       'WasteMFG_silicon_Simulation1_standard_[Tonnes]',\n",
       "       'WasteMFG_Module_Simulation1_standard_[Tonnes]',\n",
       "       'VirginStock_glass_Simulation1_low_quality_[Tonnes]',\n",
       "       'VirginStock_silicon_Simulation1_low_quality_[Tonnes]',\n",
       "       'VirginStock_Module_Simulation1_low_quality_[Tonnes]',\n",
       "       'WasteAll_glass_Simulation1_low_quality_[Tonnes]',\n",
       "       'WasteAll_silicon_Simulation1_low_quality_[Tonnes]',\n",
       "       'WasteAll_Module_Simulation1_low_quality_[Tonnes]',\n",
       "       'WasteEOL_glass_Simulation1_low_quality_[Tonnes]',\n",
       "       'WasteEOL_silicon_Simulation1_low_quality_[Tonnes]',\n",
       "       'WasteEOL_Module_Simulation1_low_quality_[Tonnes]',\n",
       "       'WasteMFG_glass_Simulation1_low_quality_[Tonnes]',\n",
       "       'WasteMFG_silicon_Simulation1_low_quality_[Tonnes]',\n",
       "       'WasteMFG_Module_Simulation1_low_quality_[Tonnes]',\n",
       "       'newInstalledCapacity_Simulation1_standard_[MW]',\n",
       "       'newInstalledCapacity_Simulation1_low_quality_[MW]',\n",
       "       'ActiveCapacity_Simulation1_standard_[MW]',\n",
       "       'DecommisionedCapacity_Simulation1_standard_[MW]',\n",
       "       'ActiveCapacity_Simulation1_low_quality_[MW]',\n",
       "       'DecommisionedCapacity_Simulation1_low_quality_[MW]'],\n",
       "      dtype='object')"
      ]
     },
     "execution_count": 20,
     "metadata": {},
     "output_type": "execute_result"
    }
   ],
   "source": [
    "USyearly.keys()"
   ]
  },
  {
   "cell_type": "code",
   "execution_count": 21,
   "metadata": {},
   "outputs": [
    {
     "data": {
      "text/plain": [
       "Index(['VirginStock_glass_Simulation1_standard_[Tonnes]',\n",
       "       'VirginStock_silicon_Simulation1_standard_[Tonnes]',\n",
       "       'VirginStock_Module_Simulation1_standard_[Tonnes]',\n",
       "       'WasteAll_glass_Simulation1_standard_[Tonnes]',\n",
       "       'WasteAll_silicon_Simulation1_standard_[Tonnes]',\n",
       "       'WasteAll_Module_Simulation1_standard_[Tonnes]',\n",
       "       'WasteEOL_glass_Simulation1_standard_[Tonnes]',\n",
       "       'WasteEOL_silicon_Simulation1_standard_[Tonnes]',\n",
       "       'WasteEOL_Module_Simulation1_standard_[Tonnes]',\n",
       "       'WasteMFG_glass_Simulation1_standard_[Tonnes]',\n",
       "       'WasteMFG_silicon_Simulation1_standard_[Tonnes]',\n",
       "       'WasteMFG_Module_Simulation1_standard_[Tonnes]',\n",
       "       'VirginStock_glass_Simulation1_low_quality_[Tonnes]',\n",
       "       'VirginStock_silicon_Simulation1_low_quality_[Tonnes]',\n",
       "       'VirginStock_Module_Simulation1_low_quality_[Tonnes]',\n",
       "       'WasteAll_glass_Simulation1_low_quality_[Tonnes]',\n",
       "       'WasteAll_silicon_Simulation1_low_quality_[Tonnes]',\n",
       "       'WasteAll_Module_Simulation1_low_quality_[Tonnes]',\n",
       "       'WasteEOL_glass_Simulation1_low_quality_[Tonnes]',\n",
       "       'WasteEOL_silicon_Simulation1_low_quality_[Tonnes]',\n",
       "       'WasteEOL_Module_Simulation1_low_quality_[Tonnes]',\n",
       "       'WasteMFG_glass_Simulation1_low_quality_[Tonnes]',\n",
       "       'WasteMFG_silicon_Simulation1_low_quality_[Tonnes]',\n",
       "       'WasteMFG_Module_Simulation1_low_quality_[Tonnes]',\n",
       "       'newInstalledCapacity_Simulation1_standard_[MW]',\n",
       "       'newInstalledCapacity_Simulation1_low_quality_[MW]'],\n",
       "      dtype='object')"
      ]
     },
     "execution_count": 21,
     "metadata": {},
     "output_type": "execute_result"
    }
   ],
   "source": [
    "UScum.keys()"
   ]
  },
  {
   "cell_type": "code",
   "execution_count": 22,
   "metadata": {},
   "outputs": [
    {
     "name": "stdout",
     "output_type": "stream",
     "text": [
      ":) Saved Input and Output Dataframes\n"
     ]
    }
   ],
   "source": [
    "r1.saveSimulation()"
   ]
  },
  {
   "cell_type": "markdown",
   "metadata": {},
   "source": [
    "### Step 5: Use internal plotting functions to plot results"
   ]
  },
  {
   "cell_type": "markdown",
   "metadata": {},
   "source": [
    "From this list, select the one that fits your study and select the type of plotting method. There are various plotting options:\n",
    "* `plotScenariosComparison`\n",
    "* `plotMaterialComparisonAcrossScenarios`\n",
    "* `plotMetricResults`: You can select the following keyword options: 'VirginStock', 'WasteALL', 'WasteEOL', 'WasteMFG'\n",
    "* `plotMaterialResults`\n",
    "* `plotInstalledCapacityResults`"
   ]
  },
  {
   "cell_type": "markdown",
   "metadata": {},
   "source": [
    "You can also view all the keywords you can use by calling the function without argumnets, or by printing the keys to the module data or the material data"
   ]
  },
  {
   "cell_type": "code",
   "execution_count": 23,
   "metadata": {},
   "outputs": [
    {
     "name": "stdout",
     "output_type": "stream",
     "text": [
      "Please pass a keyword:\n",
      "\n",
      " ** Scenario Data In Mass  ['year', 'new_Installed_Capacity_[MW]', 'mod_eff', 'mod_reliability_t50', 'mod_reliability_t90', 'mod_degradation', 'mod_lifetime', 'mod_MFG_eff', 'mod_Repair', 'mod_MerchantTail', 'mod_EOL_collection_eff', 'mod_EOL_pg0_resell', 'mod_EOL_pg1_landfill', 'mod_EOL_pg2_stored', 'mod_EOL_pg3_reMFG', 'mod_EOL_pg4_recycled', 'mod_EOL_reMFG_yield', 'mod_EOL_sp_reMFG_recycle', 'mod_EOL_pb1_landfill', 'mod_EOL_pb2_stored', 'mod_EOL_pb3_reMFG', 'mod_EOL_pb4_recycled']\n",
      "\n",
      " ** Scenario Data Out Mass  ['Area', 'Cumulative_Active_Area', 'EOL_BadStatus', 'EOL_Landfill0', 'EOL_PATHS', 'EOL_PG', 'Effective_Capacity_[W]', 'Landfill_0_ProjLife', 'MerchantTail_Area', 'MerchantTail_[W]', 'ModuleTotal_MFG', 'P2_stored', 'P3_reMFG', 'P4_recycled', 'PB1_landfill', 'PB2_stored', 'PB3_reMFG', 'PB3_reMFG_unyield', 'PB3_reMFG_yield', 'PB4_recycled', 'PG1_landfill', 'PG2_stored', 'PG3_reMFG', 'PG3_reMFG_unyield', 'PG3_reMFG_yield', 'PG4_recycled', 'Power_Degraded_[W]', 'Repaired_Area', 'Repaired_[W]', 'Resold_Area', 'Resold_[W]', 'WeibullParams', 'Yearly_Sum_Area_EOLby_Degradation', 'Yearly_Sum_Area_EOLby_Failure', 'Yearly_Sum_Area_EOLby_ProjectLifetime', 'Yearly_Sum_Area_PathsBad', 'Yearly_Sum_Area_PathsGood', 'Yearly_Sum_Area_atEOL', 'Yearly_Sum_Power_EOLby_Degradation', 'Yearly_Sum_Power_EOLby_Failure', 'Yearly_Sum_Power_EOLby_ProjectLifetime', 'Yearly_Sum_Power_PathsBad', 'Yearly_Sum_Power_PathsGood', 'Yearly_Sum_Power_atEOL', 'irradiance_stc']\n"
     ]
    }
   ],
   "source": [
    "r1.plotScenariosComparison()"
   ]
  },
  {
   "cell_type": "code",
   "execution_count": 28,
   "metadata": {},
   "outputs": [
    {
     "data": {
      "image/png": "[encoded data removed]",
      "text/plain": [
       "<Figure size 640x480 with 1 Axes>"
      ]
     },
     "metadata": {},
     "output_type": "display_data"
    }
   ],
   "source": [
    "r1.plotScenariosComparison('Effective_Capacity_[W]')"
   ]
  },
  {
   "cell_type": "code",
   "execution_count": 26,
   "metadata": {},
   "outputs": [
    {
     "data": {
      "application/vnd.plotly.v1+json": {
       "config": {
        "plotlyServerURL": "https://plot.ly"
       },
       "data": [
        {
         "hovertemplate": "Glass simulation1 standard",
         "legendgroup": "VirginStock_glass_Simulation1_standard_[Tonnes]",
         "line": {
          "color": "#636efa",
          "dash": "solid"
         },
         "marker": {
          "symbol": "circle"
         },
         "mode": "lines",
         "name": "Glass simulation1 standard",
         "orientation": "v",
         "showlegend": true,
         "type": "scatter",
         "x": [
          1995,
          1996,
          1997,
          1998,
          1999,
          2000,
          2001,
          2002,
          2003,
          2004,
          2005,
          2006,
          2007,
          2008,
          2009,
          2010,
          2011,
          2012,
          2013,
          2014,
          2015,
          2016,
          2017,
          2018,
          2019,
          2020,
          2021,
          2022,
          2023,
          2024,
          2025,
          2026,
          2027,
          2028,
          2029,
          2030,
          2031,
          2032,
          2033,
          2034,
          2035,
          2036,
          2037,
          2038,
          2039,
          2040,
          2041,
          2042,
          2043,
          2044,
          2045,
          2046,
          2047,
          2048,
          2049,
          2050
         ],
         "xaxis": "x",
         "y": [
          858.8167561761546,
          653.7601667659601,
          774.9354155024645,
          774.7104976491182,
          1095.2289205225634,
          1339.2073441033754,
          1767.2034717137917,
          2658.3933497739663,
          3706.1758811591108,
          5826.337165327294,
          5887.100720050186,
          5935.136810131715,
          19427.196180516585,
          18689.76165129146,
          25405.801315643228,
          42055.38915442646,
          101316.29524275057,
          172588.71929482464,
          221048.37511614375,
          202866.96193668892,
          353155.1035905471,
          640840.487194507,
          487363.5432657614,
          449992.35421411454,
          519380.5420913261,
          706214.1588176887,
          769490.9941963137,
          729781.0895944887,
          714313.7974975883,
          781149.4698562868,
          835819.216631645,
          894896.5839501936,
          974580.4602997864,
          1062126.6812673393,
          1156975.1995016877,
          1244075.6412305771,
          1341082.306062481,
          1452851.1596109103,
          1574559.2205476337,
          1707004.2792322873,
          1851135.3536550233,
          2007989.3064500554,
          2178545.5603531403,
          2364159.0495857503,
          2565995.9739607535,
          2785484.7132043727,
          3024269.420486279,
          3283922.825620474,
          3566265.5431746207,
          3873344.8498843205,
          4207428.871662901,
          4570612.234911781,
          4965705.589682241,
          5395294.757862623,
          5862547.040665567,
          6370643.8204308655
         ],
         "yaxis": "y"
        },
        {
         "hovertemplate": "Silicon simulation1 standard",
         "legendgroup": "VirginStock_silicon_Simulation1_standard_[Tonnes]",
         "line": {
          "color": "#EF553B",
          "dash": "solid"
         },
         "marker": {
          "symbol": "circle"
         },
         "mode": "lines",
         "name": "Silicon simulation1 standard",
         "orientation": "v",
         "showlegend": true,
         "type": "scatter",
         "x": [
          1995,
          1996,
          1997,
          1998,
          1999,
          2000,
          2001,
          2002,
          2003,
          2004,
          2005,
          2006,
          2007,
          2008,
          2009,
          2010,
          2011,
          2012,
          2013,
          2014,
          2015,
          2016,
          2017,
          2018,
          2019,
          2020,
          2021,
          2022,
          2023,
          2024,
          2025,
          2026,
          2027,
          2028,
          2029,
          2030,
          2031,
          2032,
          2033,
          2034,
          2035,
          2036,
          2037,
          2038,
          2039,
          2040,
          2041,
          2042,
          2043,
          2044,
          2045,
          2046,
          2047,
          2048,
          2049,
          2050
         ],
         "xaxis": "x",
         "y": [
          192.38581147392287,
          143.57896377640108,
          166.78767376515822,
          163.33643778812075,
          226.10242881299703,
          270.58781512228575,
          349.3025692619798,
          513.7770537263259,
          699.9988905652942,
          979.7952998540339,
          979.3332962452415,
          976.5154713374022,
          3160.9490876383697,
          3006.9543119102586,
          4041.253361727348,
          4245.989478662722,
          10161.836749226439,
          17500.045441935625,
          21623.403975108464,
          19485.10434922125,
          34027.07087095918,
          59021.398654661374,
          39861.71606651293,
          33505.25143894572,
          35967.96078183401,
          45074.719971996834,
          47216.517984504826,
          43146.302812170135,
          39734.294066533024,
          40634.4683888155,
          42664.35691323129,
          44950.352125540674,
          47549.99565319312,
          50252.87648497353,
          53137.72480916878,
          56734.355876518945,
          61008.63345325056,
          66093.63535210461,
          71630.09307079185,
          77656.13752668902,
          84213.51569391927,
          91347.84305881869,
          99108.89725614528,
          107550.95040508946,
          116733.13966129177,
          126719.87676387759,
          137581.29773246142,
          149393.75596090392,
          162240.36120029018,
          176211.56746405218,
          191405.81474137623,
          207930.22793705235,
          225901.37919099064,
          245446.1159996918,
          266702.46663047356,
          289820.621479818
         ],
         "yaxis": "y"
        },
        {
         "hovertemplate": "Module simulation1 standard",
         "legendgroup": "VirginStock_Module_Simulation1_standard_[Tonnes]",
         "line": {
          "color": "#00cc96",
          "dash": "solid"
         },
         "marker": {
          "symbol": "circle"
         },
         "mode": "lines",
         "name": "Module simulation1 standard",
         "orientation": "v",
         "showlegend": true,
         "type": "scatter",
         "x": [
          1995,
          1996,
          1997,
          1998,
          1999,
          2000,
          2001,
          2002,
          2003,
          2004,
          2005,
          2006,
          2007,
          2008,
          2009,
          2010,
          2011,
          2012,
          2013,
          2014,
          2015,
          2016,
          2017,
          2018,
          2019,
          2020,
          2021,
          2022,
          2023,
          2024,
          2025,
          2026,
          2027,
          2028,
          2029,
          2030,
          2031,
          2032,
          2033,
          2034,
          2035,
          2036,
          2037,
          2038,
          2039,
          2040,
          2041,
          2042,
          2043,
          2044,
          2045,
          2046,
          2047,
          2048,
          2049,
          2050
         ],
         "xaxis": "x",
         "y": [
          1051.2025676500775,
          797.3391305423611,
          941.7230892676228,
          938.046935437239,
          1321.3313493355606,
          1609.7951592256613,
          2116.5060409757716,
          3172.170403500292,
          4406.174771724405,
          6806.1324651813275,
          6866.434016295428,
          6911.652281469117,
          22588.145268154956,
          21696.71596320172,
          29447.054677370576,
          46301.37863308918,
          111478.131991977,
          190088.76473676026,
          242671.77909125222,
          222352.0662859102,
          387182.1744615063,
          699861.8858491684,
          527225.2593322743,
          483497.6056530603,
          555348.5028731602,
          751288.8787896856,
          816707.5121808186,
          772927.392406659,
          754048.0915641214,
          821783.9382451023,
          878483.5735448763,
          939846.9360757342,
          1022130.4559529795,
          1112379.5577523129,
          1210112.9243108565,
          1300809.9971070962,
          1402090.9395157315,
          1518944.7949630152,
          1646189.3136184255,
          1784660.4167589764,
          1935348.8693489423,
          2099337.149508874,
          2277654.4576092856,
          2471709.99999084,
          2682729.1136220456,
          2912204.58996825,
          3161850.71821874,
          3433316.5815813774,
          3728505.9043749105,
          4049556.4173483727,
          4398834.686404277,
          4778542.462848834,
          5191606.968873232,
          5640740.873862314,
          6129249.507296041,
          6660464.441910683
         ],
         "yaxis": "y"
        },
        {
         "hovertemplate": "Glass simulation1 low quality",
         "legendgroup": "VirginStock_glass_Simulation1_low_quality_[Tonnes]",
         "line": {
          "color": "#ab63fa",
          "dash": "solid"
         },
         "marker": {
          "symbol": "circle"
         },
         "mode": "lines",
         "name": "Glass simulation1 low quality",
         "orientation": "v",
         "showlegend": true,
         "type": "scatter",
         "x": [
          1995,
          1996,
          1997,
          1998,
          1999,
          2000,
          2001,
          2002,
          2003,
          2004,
          2005,
          2006,
          2007,
          2008,
          2009,
          2010,
          2011,
          2012,
          2013,
          2014,
          2015,
          2016,
          2017,
          2018,
          2019,
          2020,
          2021,
          2022,
          2023,
          2024,
          2025,
          2026,
          2027,
          2028,
          2029,
          2030,
          2031,
          2032,
          2033,
          2034,
          2035,
          2036,
          2037,
          2038,
          2039,
          2040,
          2041,
          2042,
          2043,
          2044,
          2045,
          2046,
          2047,
          2048,
          2049,
          2050
         ],
         "xaxis": "x",
         "y": [
          858.8167561761546,
          653.7601667659601,
          774.9354155024645,
          774.7104976491182,
          1095.2289205225634,
          1339.2073441033754,
          1767.2034717137917,
          2658.3933497739663,
          3706.1758811591108,
          5826.337165327294,
          5887.290796576202,
          5935.273042740438,
          19427.178807768978,
          18689.739812290536,
          25405.775040017274,
          42055.23580427616,
          101316.18777114061,
          172588.71929482464,
          221048.37511614375,
          202866.96193668892,
          353154.82720424887,
          640840.1433411186,
          487363.0485798321,
          449991.6973105109,
          519379.527392685,
          706213.4372623797,
          769490.3344665671,
          729777.7792622214,
          714310.7862757263,
          781144.9632113894,
          835810.8156598465,
          894874.490493882,
          974541.2006889796,
          1062077.8327831938,
          1156931.2753603708,
          1243998.166819974,
          1340931.5152052538,
          1452746.6290081015,
          1574457.4395787148,
          1706904.5317363027,
          1851001.7154454929,
          2007811.850058906,
          2178424.1584533295,
          2364000.003035829,
          2565825.269382358,
          2785339.014122957,
          3024078.63993579,
          3283718.7382793506,
          3566089.4330942105,
          3873178.8111627055,
          4207155.104113272,
          4570369.096180161,
          4965381.4575614035,
          5394981.760502705,
          5862203.921024381,
          6370349.182149309
         ],
         "yaxis": "y"
        },
        {
         "hovertemplate": "Silicon simulation1 low quality",
         "legendgroup": "VirginStock_silicon_Simulation1_low_quality_[Tonnes]",
         "line": {
          "color": "#FFA15A",
          "dash": "solid"
         },
         "marker": {
          "symbol": "circle"
         },
         "mode": "lines",
         "name": "Silicon simulation1 low quality",
         "orientation": "v",
         "showlegend": true,
         "type": "scatter",
         "x": [
          1995,
          1996,
          1997,
          1998,
          1999,
          2000,
          2001,
          2002,
          2003,
          2004,
          2005,
          2006,
          2007,
          2008,
          2009,
          2010,
          2011,
          2012,
          2013,
          2014,
          2015,
          2016,
          2017,
          2018,
          2019,
          2020,
          2021,
          2022,
          2023,
          2024,
          2025,
          2026,
          2027,
          2028,
          2029,
          2030,
          2031,
          2032,
          2033,
          2034,
          2035,
          2036,
          2037,
          2038,
          2039,
          2040,
          2041,
          2042,
          2043,
          2044,
          2045,
          2046,
          2047,
          2048,
          2049,
          2050
         ],
         "xaxis": "x",
         "y": [
          192.38581147392287,
          143.57896377640108,
          166.78767376515822,
          163.33643778812075,
          226.10242881299703,
          270.58781512228575,
          349.3025692619798,
          513.7770537263259,
          699.9988905652942,
          979.7952998540339,
          979.3332962452415,
          976.5154713374022,
          3160.9490876383697,
          3006.9543119102586,
          4041.253361727348,
          4245.989478662722,
          10161.836749226439,
          17500.045441935625,
          21623.403975108464,
          19485.10434922125,
          34027.07087095918,
          59021.398654661374,
          39861.71606651293,
          33505.25143894572,
          35967.96078183401,
          45074.719971996834,
          47216.517984504826,
          43146.302812170135,
          39734.294066533024,
          40634.4683888155,
          42664.35691323129,
          44950.352125540674,
          47549.99565319312,
          50252.87648497353,
          53137.72480916878,
          56734.355876518945,
          61008.63345325056,
          66093.63535210461,
          71630.09307079185,
          77656.13752668902,
          84213.51569391927,
          91347.84305881869,
          99108.89725614528,
          107550.95040508946,
          116733.13966129177,
          126719.87676387759,
          137581.29773246142,
          149393.75596090392,
          162240.36120029018,
          176211.56746405218,
          191405.81474137623,
          207930.22793705235,
          225901.37919099064,
          245446.1159996918,
          266702.46663047356,
          289820.621479818
         ],
         "yaxis": "y"
        },
        {
         "hovertemplate": "Module simulation1 low quality",
         "legendgroup": "VirginStock_Module_Simulation1_low_quality_[Tonnes]",
         "line": {
          "color": "#19d3f3",
          "dash": "solid"
         },
         "marker": {
          "symbol": "circle"
         },
         "mode": "lines",
         "name": "Module simulation1 low quality",
         "orientation": "v",
         "showlegend": true,
         "type": "scatter",
         "x": [
          1995,
          1996,
          1997,
          1998,
          1999,
          2000,
          2001,
          2002,
          2003,
          2004,
          2005,
          2006,
          2007,
          2008,
          2009,
          2010,
          2011,
          2012,
          2013,
          2014,
          2015,
          2016,
          2017,
          2018,
          2019,
          2020,
          2021,
          2022,
          2023,
          2024,
          2025,
          2026,
          2027,
          2028,
          2029,
          2030,
          2031,
          2032,
          2033,
          2034,
          2035,
          2036,
          2037,
          2038,
          2039,
          2040,
          2041,
          2042,
          2043,
          2044,
          2045,
          2046,
          2047,
          2048,
          2049,
          2050
         ],
         "xaxis": "x",
         "y": [
          1051.2025676500775,
          797.3391305423611,
          941.7230892676228,
          938.046935437239,
          1321.3313493355606,
          1609.7951592256613,
          2116.5060409757716,
          3172.170403500292,
          4406.174771724405,
          6806.1324651813275,
          6866.624092821444,
          6911.78851407784,
          22588.12789540735,
          21696.694124200792,
          29447.02840174462,
          46301.22528293888,
          111478.02452036705,
          190088.76473676026,
          242671.77909125222,
          222352.0662859102,
          387181.898075208,
          699861.54199578,
          527224.764646345,
          483496.9487494567,
          555347.488174519,
          751288.1572343764,
          816706.8524510721,
          772924.0820743917,
          754045.0803422594,
          821779.4316002049,
          878475.1725730778,
          939824.8426194226,
          1022091.1963421727,
          1112330.7092681674,
          1210069.0001695396,
          1300732.5226964932,
          1401940.1486585045,
          1518840.264360206,
          1646087.5326495066,
          1784560.6692629918,
          1935215.2311394121,
          2099159.6931177247,
          2277533.055709475,
          2471550.9534409186,
          2682558.4090436497,
          2912058.8908868344,
          3161659.9376682513,
          3433112.494240254,
          3728329.7942945003,
          4049390.3786267578,
          4398560.918854648,
          4778299.3241172135,
          5191282.836752393,
          5640427.876502397,
          6128906.387654855,
          6660169.803629127
         ],
         "yaxis": "y"
        }
       ],
       "layout": {
        "legend": {
         "title": {
          "text": "variable"
         },
         "tracegroupgap": 0
        },
        "margin": {
         "t": 60
        },
        "template": {
         "data": {
          "bar": [
           {
            "error_x": {
             "color": "#2a3f5f"
            },
            "error_y": {
             "color": "#2a3f5f"
            },
            "marker": {
             "line": {
              "color": "white",
              "width": 0.5
             },
             "pattern": {
              "fillmode": "overlay",
              "size": 10,
              "solidity": 0.2
             }
            },
            "type": "bar"
           }
          ],
          "barpolar": [
           {
            "marker": {
             "line": {
              "color": "white",
              "width": 0.5
             },
             "pattern": {
              "fillmode": "overlay",
              "size": 10,
              "solidity": 0.2
             }
            },
            "type": "barpolar"
           }
          ],
          "carpet": [
           {
            "aaxis": {
             "endlinecolor": "#2a3f5f",
             "gridcolor": "#C8D4E3",
             "linecolor": "#C8D4E3",
             "minorgridcolor": "#C8D4E3",
             "startlinecolor": "#2a3f5f"
            },
            "baxis": {
             "endlinecolor": "#2a3f5f",
             "gridcolor": "#C8D4E3",
             "linecolor": "#C8D4E3",
             "minorgridcolor": "#C8D4E3",
             "startlinecolor": "#2a3f5f"
            },
            "type": "carpet"
           }
          ],
          "choropleth": [
           {
            "colorbar": {
             "outlinewidth": 0,
             "ticks": ""
            },
            "type": "choropleth"
           }
          ],
          "contour": [
           {
            "colorbar": {
             "outlinewidth": 0,
             "ticks": ""
            },
            "colorscale": [
             [
              0,
              "#0d0887"
             ],
             [
              0.1111111111111111,
              "#46039f"
             ],
             [
              0.2222222222222222,
              "#7201a8"
             ],
             [
              0.3333333333333333,
              "#9c179e"
             ],
             [
              0.4444444444444444,
              "#bd3786"
             ],
             [
              0.5555555555555556,
              "#d8576b"
             ],
             [
              0.6666666666666666,
              "#ed7953"
             ],
             [
              0.7777777777777778,
              "#fb9f3a"
             ],
             [
              0.8888888888888888,
              "#fdca26"
             ],
             [
              1,
              "#f0f921"
             ]
            ],
            "type": "contour"
           }
          ],
          "contourcarpet": [
           {
            "colorbar": {
             "outlinewidth": 0,
             "ticks": ""
            },
            "type": "contourcarpet"
           }
          ],
          "heatmap": [
           {
            "colorbar": {
             "outlinewidth": 0,
             "ticks": ""
            },
            "colorscale": [
             [
              0,
              "#0d0887"
             ],
             [
              0.1111111111111111,
              "#46039f"
             ],
             [
              0.2222222222222222,
              "#7201a8"
             ],
             [
              0.3333333333333333,
              "#9c179e"
             ],
             [
              0.4444444444444444,
              "#bd3786"
             ],
             [
              0.5555555555555556,
              "#d8576b"
             ],
             [
              0.6666666666666666,
              "#ed7953"
             ],
             [
              0.7777777777777778,
              "#fb9f3a"
             ],
             [
              0.8888888888888888,
              "#fdca26"
             ],
             [
              1,
              "#f0f921"
             ]
            ],
            "type": "heatmap"
           }
          ],
          "heatmapgl": [
           {
            "colorbar": {
             "outlinewidth": 0,
             "ticks": ""
            },
            "colorscale": [
             [
              0,
              "#0d0887"
             ],
             [
              0.1111111111111111,
              "#46039f"
             ],
             [
              0.2222222222222222,
              "#7201a8"
             ],
             [
              0.3333333333333333,
              "#9c179e"
             ],
             [
              0.4444444444444444,
              "#bd3786"
             ],
             [
              0.5555555555555556,
              "#d8576b"
             ],
             [
              0.6666666666666666,
              "#ed7953"
             ],
             [
              0.7777777777777778,
              "#fb9f3a"
             ],
             [
              0.8888888888888888,
              "#fdca26"
             ],
             [
              1,
              "#f0f921"
             ]
            ],
            "type": "heatmapgl"
           }
          ],
          "histogram": [
           {
            "marker": {
             "pattern": {
              "fillmode": "overlay",
              "size": 10,
              "solidity": 0.2
             }
            },
            "type": "histogram"
           }
          ],
          "histogram2d": [
           {
            "colorbar": {
             "outlinewidth": 0,
             "ticks": ""
            },
            "colorscale": [
             [
              0,
              "#0d0887"
             ],
             [
              0.1111111111111111,
              "#46039f"
             ],
             [
              0.2222222222222222,
              "#7201a8"
             ],
             [
              0.3333333333333333,
              "#9c179e"
             ],
             [
              0.4444444444444444,
              "#bd3786"
             ],
             [
              0.5555555555555556,
              "#d8576b"
             ],
             [
              0.6666666666666666,
              "#ed7953"
             ],
             [
              0.7777777777777778,
              "#fb9f3a"
             ],
             [
              0.8888888888888888,
              "#fdca26"
             ],
             [
              1,
              "#f0f921"
             ]
            ],
            "type": "histogram2d"
           }
          ],
          "histogram2dcontour": [
           {
            "colorbar": {
             "outlinewidth": 0,
             "ticks": ""
            },
            "colorscale": [
             [
              0,
              "#0d0887"
             ],
             [
              0.1111111111111111,
              "#46039f"
             ],
             [
              0.2222222222222222,
              "#7201a8"
             ],
             [
              0.3333333333333333,
              "#9c179e"
             ],
             [
              0.4444444444444444,
              "#bd3786"
             ],
             [
              0.5555555555555556,
              "#d8576b"
             ],
             [
              0.6666666666666666,
              "#ed7953"
             ],
             [
              0.7777777777777778,
              "#fb9f3a"
             ],
             [
              0.8888888888888888,
              "#fdca26"
             ],
             [
              1,
              "#f0f921"
             ]
            ],
            "type": "histogram2dcontour"
           }
          ],
          "mesh3d": [
           {
            "colorbar": {
             "outlinewidth": 0,
             "ticks": ""
            },
            "type": "mesh3d"
           }
          ],
          "parcoords": [
           {
            "line": {
             "colorbar": {
              "outlinewidth": 0,
              "ticks": ""
             }
            },
            "type": "parcoords"
           }
          ],
          "pie": [
           {
            "automargin": true,
            "type": "pie"
           }
          ],
          "scatter": [
           {
            "fillpattern": {
             "fillmode": "overlay",
             "size": 10,
             "solidity": 0.2
            },
            "type": "scatter"
           }
          ],
          "scatter3d": [
           {
            "line": {
             "colorbar": {
              "outlinewidth": 0,
              "ticks": ""
             }
            },
            "marker": {
             "colorbar": {
              "outlinewidth": 0,
              "ticks": ""
             }
            },
            "type": "scatter3d"
           }
          ],
          "scattercarpet": [
           {
            "marker": {
             "colorbar": {
              "outlinewidth": 0,
              "ticks": ""
             }
            },
            "type": "scattercarpet"
           }
          ],
          "scattergeo": [
           {
            "marker": {
             "colorbar": {
              "outlinewidth": 0,
              "ticks": ""
             }
            },
            "type": "scattergeo"
           }
          ],
          "scattergl": [
           {
            "marker": {
             "colorbar": {
              "outlinewidth": 0,
              "ticks": ""
             }
            },
            "type": "scattergl"
           }
          ],
          "scattermapbox": [
           {
            "marker": {
             "colorbar": {
              "outlinewidth": 0,
              "ticks": ""
             }
            },
            "type": "scattermapbox"
           }
          ],
          "scatterpolar": [
           {
            "marker": {
             "colorbar": {
              "outlinewidth": 0,
              "ticks": ""
             }
            },
            "type": "scatterpolar"
           }
          ],
          "scatterpolargl": [
           {
            "marker": {
             "colorbar": {
              "outlinewidth": 0,
              "ticks": ""
             }
            },
            "type": "scatterpolargl"
           }
          ],
          "scatterternary": [
           {
            "marker": {
             "colorbar": {
              "outlinewidth": 0,
              "ticks": ""
             }
            },
            "type": "scatterternary"
           }
          ],
          "surface": [
           {
            "colorbar": {
             "outlinewidth": 0,
             "ticks": ""
            },
            "colorscale": [
             [
              0,
              "#0d0887"
             ],
             [
              0.1111111111111111,
              "#46039f"
             ],
             [
              0.2222222222222222,
              "#7201a8"
             ],
             [
              0.3333333333333333,
              "#9c179e"
             ],
             [
              0.4444444444444444,
              "#bd3786"
             ],
             [
              0.5555555555555556,
              "#d8576b"
             ],
             [
              0.6666666666666666,
              "#ed7953"
             ],
             [
              0.7777777777777778,
              "#fb9f3a"
             ],
             [
              0.8888888888888888,
              "#fdca26"
             ],
             [
              1,
              "#f0f921"
             ]
            ],
            "type": "surface"
           }
          ],
          "table": [
           {
            "cells": {
             "fill": {
              "color": "#EBF0F8"
             },
             "line": {
              "color": "white"
             }
            },
            "header": {
             "fill": {
              "color": "#C8D4E3"
             },
             "line": {
              "color": "white"
             }
            },
            "type": "table"
           }
          ]
         },
         "layout": {
          "annotationdefaults": {
           "arrowcolor": "#2a3f5f",
           "arrowhead": 0,
           "arrowwidth": 1
          },
          "autotypenumbers": "strict",
          "coloraxis": {
           "colorbar": {
            "outlinewidth": 0,
            "ticks": ""
           }
          },
          "colorscale": {
           "diverging": [
            [
             0,
             "#8e0152"
            ],
            [
             0.1,
             "#c51b7d"
            ],
            [
             0.2,
             "#de77ae"
            ],
            [
             0.3,
             "#f1b6da"
            ],
            [
             0.4,
             "#fde0ef"
            ],
            [
             0.5,
             "#f7f7f7"
            ],
            [
             0.6,
             "#e6f5d0"
            ],
            [
             0.7,
             "#b8e186"
            ],
            [
             0.8,
             "#7fbc41"
            ],
            [
             0.9,
             "#4d9221"
            ],
            [
             1,
             "#276419"
            ]
           ],
           "sequential": [
            [
             0,
             "#0d0887"
            ],
            [
             0.1111111111111111,
             "#46039f"
            ],
            [
             0.2222222222222222,
             "#7201a8"
            ],
            [
             0.3333333333333333,
             "#9c179e"
            ],
            [
             0.4444444444444444,
             "#bd3786"
            ],
            [
             0.5555555555555556,
             "#d8576b"
            ],
            [
             0.6666666666666666,
             "#ed7953"
            ],
            [
             0.7777777777777778,
             "#fb9f3a"
            ],
            [
             0.8888888888888888,
             "#fdca26"
            ],
            [
             1,
             "#f0f921"
            ]
           ],
           "sequentialminus": [
            [
             0,
             "#0d0887"
            ],
            [
             0.1111111111111111,
             "#46039f"
            ],
            [
             0.2222222222222222,
             "#7201a8"
            ],
            [
             0.3333333333333333,
             "#9c179e"
            ],
            [
             0.4444444444444444,
             "#bd3786"
            ],
            [
             0.5555555555555556,
             "#d8576b"
            ],
            [
             0.6666666666666666,
             "#ed7953"
            ],
            [
             0.7777777777777778,
             "#fb9f3a"
            ],
            [
             0.8888888888888888,
             "#fdca26"
            ],
            [
             1,
             "#f0f921"
            ]
           ]
          },
          "colorway": [
           "#636efa",
           "#EF553B",
           "#00cc96",
           "#ab63fa",
           "#FFA15A",
           "#19d3f3",
           "#FF6692",
           "#B6E880",
           "#FF97FF",
           "#FECB52"
          ],
          "font": {
           "color": "#2a3f5f"
          },
          "geo": {
           "bgcolor": "white",
           "lakecolor": "white",
           "landcolor": "white",
           "showlakes": true,
           "showland": true,
           "subunitcolor": "#C8D4E3"
          },
          "hoverlabel": {
           "align": "left"
          },
          "hovermode": "closest",
          "mapbox": {
           "style": "light"
          },
          "paper_bgcolor": "white",
          "plot_bgcolor": "white",
          "polar": {
           "angularaxis": {
            "gridcolor": "#EBF0F8",
            "linecolor": "#EBF0F8",
            "ticks": ""
           },
           "bgcolor": "white",
           "radialaxis": {
            "gridcolor": "#EBF0F8",
            "linecolor": "#EBF0F8",
            "ticks": ""
           }
          },
          "scene": {
           "xaxis": {
            "backgroundcolor": "white",
            "gridcolor": "#DFE8F3",
            "gridwidth": 2,
            "linecolor": "#EBF0F8",
            "showbackground": true,
            "ticks": "",
            "zerolinecolor": "#EBF0F8"
           },
           "yaxis": {
            "backgroundcolor": "white",
            "gridcolor": "#DFE8F3",
            "gridwidth": 2,
            "linecolor": "#EBF0F8",
            "showbackground": true,
            "ticks": "",
            "zerolinecolor": "#EBF0F8"
           },
           "zaxis": {
            "backgroundcolor": "white",
            "gridcolor": "#DFE8F3",
            "gridwidth": 2,
            "linecolor": "#EBF0F8",
            "showbackground": true,
            "ticks": "",
            "zerolinecolor": "#EBF0F8"
           }
          },
          "shapedefaults": {
           "line": {
            "color": "#2a3f5f"
           }
          },
          "ternary": {
           "aaxis": {
            "gridcolor": "#DFE8F3",
            "linecolor": "#A2B1C6",
            "ticks": ""
           },
           "baxis": {
            "gridcolor": "#DFE8F3",
            "linecolor": "#A2B1C6",
            "ticks": ""
           },
           "bgcolor": "white",
           "caxis": {
            "gridcolor": "#DFE8F3",
            "linecolor": "#A2B1C6",
            "ticks": ""
           }
          },
          "title": {
           "x": 0.05
          },
          "xaxis": {
           "automargin": true,
           "gridcolor": "#EBF0F8",
           "linecolor": "#EBF0F8",
           "ticks": "",
           "title": {
            "standoff": 15
           },
           "zerolinecolor": "#EBF0F8",
           "zerolinewidth": 2
          },
          "yaxis": {
           "automargin": true,
           "gridcolor": "#EBF0F8",
           "linecolor": "#EBF0F8",
           "ticks": "",
           "title": {
            "standoff": 15
           },
           "zerolinecolor": "#EBF0F8",
           "zerolinewidth": 2
          }
         }
        },
        "title": {
         "text": "Yearly Virgin Stock"
        },
        "xaxis": {
         "anchor": "y",
         "domain": [
          0,
          1
         ],
         "title": {
          "text": "Year"
         }
        },
        "yaxis": {
         "anchor": "x",
         "domain": [
          0,
          1
         ],
         "title": {
          "text": "[Tonnes]"
         }
        }
       }
      },
      "text/html": [
       "<div>                            <div id=\"8cc32628-67a3-4cb4-9368-0fd14fdd5837\" class=\"plotly-graph-div\" style=\"height:525px; width:100%;\"></div>            <script type=\"text/javascript\">                require([\"plotly\"], function(Plotly) {                    window.PLOTLYENV=window.PLOTLYENV || {};                                    if (document.getElementById(\"8cc32628-67a3-4cb4-9368-0fd14fdd5837\")) {                    Plotly.newPlot(                        \"8cc32628-67a3-4cb4-9368-0fd14fdd5837\",                        [{\"hovertemplate\":\"Glass simulation1 standard\",\"legendgroup\":\"VirginStock_glass_Simulation1_standard_[Tonnes]\",\"line\":{\"color\":\"#636efa\",\"dash\":\"solid\"},\"marker\":{\"symbol\":\"circle\"},\"mode\":\"lines\",\"name\":\"Glass simulation1 standard\",\"orientation\":\"v\",\"showlegend\":true,\"x\":[1995,1996,1997,1998,1999,2000,2001,2002,2003,2004,2005,2006,2007,2008,2009,2010,2011,2012,2013,2014,2015,2016,2017,2018,2019,2020,2021,2022,2023,2024,2025,2026,2027,2028,2029,2030,2031,2032,2033,2034,2035,2036,2037,2038,2039,2040,2041,2042,2043,2044,2045,2046,2047,2048,2049,2050],\"xaxis\":\"x\",\"y\":[858.8167561761546,653.7601667659601,774.9354155024645,774.7104976491182,1095.2289205225634,1339.2073441033754,1767.2034717137917,2658.3933497739663,3706.1758811591108,5826.337165327294,5887.100720050186,5935.136810131715,19427.196180516585,18689.76165129146,25405.801315643228,42055.38915442646,101316.29524275057,172588.71929482464,221048.37511614375,202866.96193668892,353155.1035905471,640840.487194507,487363.5432657614,449992.35421411454,519380.5420913261,706214.1588176887,769490.9941963137,729781.0895944887,714313.7974975883,781149.4698562868,835819.216631645,894896.5839501936,974580.4602997864,1062126.6812673393,1156975.1995016877,1244075.6412305771,1341082.306062481,1452851.1596109103,1574559.2205476337,1707004.2792322873,1851135.3536550233,2007989.3064500554,2178545.5603531403,2364159.0495857503,2565995.9739607535,2785484.7132043727,3024269.420486279,3283922.825620474,3566265.5431746207,3873344.8498843205,4207428.871662901,4570612.234911781,4965705.589682241,5395294.757862623,5862547.040665567,6370643.8204308655],\"yaxis\":\"y\",\"type\":\"scatter\"},{\"hovertemplate\":\"Silicon simulation1 standard\",\"legendgroup\":\"VirginStock_silicon_Simulation1_standard_[Tonnes]\",\"line\":{\"color\":\"#EF553B\",\"dash\":\"solid\"},\"marker\":{\"symbol\":\"circle\"},\"mode\":\"lines\",\"name\":\"Silicon simulation1 standard\",\"orientation\":\"v\",\"showlegend\":true,\"x\":[1995,1996,1997,1998,1999,2000,2001,2002,2003,2004,2005,2006,2007,2008,2009,2010,2011,2012,2013,2014,2015,2016,2017,2018,2019,2020,2021,2022,2023,2024,2025,2026,2027,2028,2029,2030,2031,2032,2033,2034,2035,2036,2037,2038,2039,2040,2041,2042,2043,2044,2045,2046,2047,2048,2049,2050],\"xaxis\":\"x\",\"y\":[192.38581147392287,143.57896377640108,166.78767376515822,163.33643778812075,226.10242881299703,270.58781512228575,349.3025692619798,513.7770537263259,699.9988905652942,979.7952998540339,979.3332962452415,976.5154713374022,3160.9490876383697,3006.9543119102586,4041.253361727348,4245.989478662722,10161.836749226439,17500.045441935625,21623.403975108464,19485.10434922125,34027.07087095918,59021.398654661374,39861.71606651293,33505.25143894572,35967.96078183401,45074.719971996834,47216.517984504826,43146.302812170135,39734.294066533024,40634.4683888155,42664.35691323129,44950.352125540674,47549.99565319312,50252.87648497353,53137.72480916878,56734.355876518945,61008.63345325056,66093.63535210461,71630.09307079185,77656.13752668902,84213.51569391927,91347.84305881869,99108.89725614528,107550.95040508946,116733.13966129177,126719.87676387759,137581.29773246142,149393.75596090392,162240.36120029018,176211.56746405218,191405.81474137623,207930.22793705235,225901.37919099064,245446.1159996918,266702.46663047356,289820.621479818],\"yaxis\":\"y\",\"type\":\"scatter\"},{\"hovertemplate\":\"Module simulation1 standard\",\"legendgroup\":\"VirginStock_Module_Simulation1_standard_[Tonnes]\",\"line\":{\"color\":\"#00cc96\",\"dash\":\"solid\"},\"marker\":{\"symbol\":\"circle\"},\"mode\":\"lines\",\"name\":\"Module simulation1 standard\",\"orientation\":\"v\",\"showlegend\":true,\"x\":[1995,1996,1997,1998,1999,2000,2001,2002,2003,2004,2005,2006,2007,2008,2009,2010,2011,2012,2013,2014,2015,2016,2017,2018,2019,2020,2021,2022,2023,2024,2025,2026,2027,2028,2029,2030,2031,2032,2033,2034,2035,2036,2037,2038,2039,2040,2041,2042,2043,2044,2045,2046,2047,2048,2049,2050],\"xaxis\":\"x\",\"y\":[1051.2025676500775,797.3391305423611,941.7230892676228,938.046935437239,1321.3313493355606,1609.7951592256613,2116.5060409757716,3172.170403500292,4406.174771724405,6806.1324651813275,6866.434016295428,6911.652281469117,22588.145268154956,21696.71596320172,29447.054677370576,46301.37863308918,111478.131991977,190088.76473676026,242671.77909125222,222352.0662859102,387182.1744615063,699861.8858491684,527225.2593322743,483497.6056530603,555348.5028731602,751288.8787896856,816707.5121808186,772927.392406659,754048.0915641214,821783.9382451023,878483.5735448763,939846.9360757342,1022130.4559529795,1112379.5577523129,1210112.9243108565,1300809.9971070962,1402090.9395157315,1518944.7949630152,1646189.3136184255,1784660.4167589764,1935348.8693489423,2099337.149508874,2277654.4576092856,2471709.99999084,2682729.1136220456,2912204.58996825,3161850.71821874,3433316.5815813774,3728505.9043749105,4049556.4173483727,4398834.686404277,4778542.462848834,5191606.968873232,5640740.873862314,6129249.507296041,6660464.441910683],\"yaxis\":\"y\",\"type\":\"scatter\"},{\"hovertemplate\":\"Glass simulation1 low quality\",\"legendgroup\":\"VirginStock_glass_Simulation1_low_quality_[Tonnes]\",\"line\":{\"color\":\"#ab63fa\",\"dash\":\"solid\"},\"marker\":{\"symbol\":\"circle\"},\"mode\":\"lines\",\"name\":\"Glass simulation1 low quality\",\"orientation\":\"v\",\"showlegend\":true,\"x\":[1995,1996,1997,1998,1999,2000,2001,2002,2003,2004,2005,2006,2007,2008,2009,2010,2011,2012,2013,2014,2015,2016,2017,2018,2019,2020,2021,2022,2023,2024,2025,2026,2027,2028,2029,2030,2031,2032,2033,2034,2035,2036,2037,2038,2039,2040,2041,2042,2043,2044,2045,2046,2047,2048,2049,2050],\"xaxis\":\"x\",\"y\":[858.8167561761546,653.7601667659601,774.9354155024645,774.7104976491182,1095.2289205225634,1339.2073441033754,1767.2034717137917,2658.3933497739663,3706.1758811591108,5826.337165327294,5887.290796576202,5935.273042740438,19427.178807768978,18689.739812290536,25405.775040017274,42055.23580427616,101316.18777114061,172588.71929482464,221048.37511614375,202866.96193668892,353154.82720424887,640840.1433411186,487363.0485798321,449991.6973105109,519379.527392685,706213.4372623797,769490.3344665671,729777.7792622214,714310.7862757263,781144.9632113894,835810.8156598465,894874.490493882,974541.2006889796,1062077.8327831938,1156931.2753603708,1243998.166819974,1340931.5152052538,1452746.6290081015,1574457.4395787148,1706904.5317363027,1851001.7154454929,2007811.850058906,2178424.1584533295,2364000.003035829,2565825.269382358,2785339.014122957,3024078.63993579,3283718.7382793506,3566089.4330942105,3873178.8111627055,4207155.104113272,4570369.096180161,4965381.4575614035,5394981.760502705,5862203.921024381,6370349.182149309],\"yaxis\":\"y\",\"type\":\"scatter\"},{\"hovertemplate\":\"Silicon simulation1 low quality\",\"legendgroup\":\"VirginStock_silicon_Simulation1_low_quality_[Tonnes]\",\"line\":{\"color\":\"#FFA15A\",\"dash\":\"solid\"},\"marker\":{\"symbol\":\"circle\"},\"mode\":\"lines\",\"name\":\"Silicon simulation1 low quality\",\"orientation\":\"v\",\"showlegend\":true,\"x\":[1995,1996,1997,1998,1999,2000,2001,2002,2003,2004,2005,2006,2007,2008,2009,2010,2011,2012,2013,2014,2015,2016,2017,2018,2019,2020,2021,2022,2023,2024,2025,2026,2027,2028,2029,2030,2031,2032,2033,2034,2035,2036,2037,2038,2039,2040,2041,2042,2043,2044,2045,2046,2047,2048,2049,2050],\"xaxis\":\"x\",\"y\":[192.38581147392287,143.57896377640108,166.78767376515822,163.33643778812075,226.10242881299703,270.58781512228575,349.3025692619798,513.7770537263259,699.9988905652942,979.7952998540339,979.3332962452415,976.5154713374022,3160.9490876383697,3006.9543119102586,4041.253361727348,4245.989478662722,10161.836749226439,17500.045441935625,21623.403975108464,19485.10434922125,34027.07087095918,59021.398654661374,39861.71606651293,33505.25143894572,35967.96078183401,45074.719971996834,47216.517984504826,43146.302812170135,39734.294066533024,40634.4683888155,42664.35691323129,44950.352125540674,47549.99565319312,50252.87648497353,53137.72480916878,56734.355876518945,61008.63345325056,66093.63535210461,71630.09307079185,77656.13752668902,84213.51569391927,91347.84305881869,99108.89725614528,107550.95040508946,116733.13966129177,126719.87676387759,137581.29773246142,149393.75596090392,162240.36120029018,176211.56746405218,191405.81474137623,207930.22793705235,225901.37919099064,245446.1159996918,266702.46663047356,289820.621479818],\"yaxis\":\"y\",\"type\":\"scatter\"},{\"hovertemplate\":\"Module simulation1 low quality\",\"legendgroup\":\"VirginStock_Module_Simulation1_low_quality_[Tonnes]\",\"line\":{\"color\":\"#19d3f3\",\"dash\":\"solid\"},\"marker\":{\"symbol\":\"circle\"},\"mode\":\"lines\",\"name\":\"Module simulation1 low quality\",\"orientation\":\"v\",\"showlegend\":true,\"x\":[1995,1996,1997,1998,1999,2000,2001,2002,2003,2004,2005,2006,2007,2008,2009,2010,2011,2012,2013,2014,2015,2016,2017,2018,2019,2020,2021,2022,2023,2024,2025,2026,2027,2028,2029,2030,2031,2032,2033,2034,2035,2036,2037,2038,2039,2040,2041,2042,2043,2044,2045,2046,2047,2048,2049,2050],\"xaxis\":\"x\",\"y\":[1051.2025676500775,797.3391305423611,941.7230892676228,938.046935437239,1321.3313493355606,1609.7951592256613,2116.5060409757716,3172.170403500292,4406.174771724405,6806.1324651813275,6866.624092821444,6911.78851407784,22588.12789540735,21696.694124200792,29447.02840174462,46301.22528293888,111478.02452036705,190088.76473676026,242671.77909125222,222352.0662859102,387181.898075208,699861.54199578,527224.764646345,483496.9487494567,555347.488174519,751288.1572343764,816706.8524510721,772924.0820743917,754045.0803422594,821779.4316002049,878475.1725730778,939824.8426194226,1022091.1963421727,1112330.7092681674,1210069.0001695396,1300732.5226964932,1401940.1486585045,1518840.264360206,1646087.5326495066,1784560.6692629918,1935215.2311394121,2099159.6931177247,2277533.055709475,2471550.9534409186,2682558.4090436497,2912058.8908868344,3161659.9376682513,3433112.494240254,3728329.7942945003,4049390.3786267578,4398560.918854648,4778299.3241172135,5191282.836752393,5640427.876502397,6128906.387654855,6660169.803629127],\"yaxis\":\"y\",\"type\":\"scatter\"}],                        {\"template\":{\"data\":{\"barpolar\":[{\"marker\":{\"line\":{\"color\":\"white\",\"width\":0.5},\"pattern\":{\"fillmode\":\"overlay\",\"size\":10,\"solidity\":0.2}},\"type\":\"barpolar\"}],\"bar\":[{\"error_x\":{\"color\":\"#2a3f5f\"},\"error_y\":{\"color\":\"#2a3f5f\"},\"marker\":{\"line\":{\"color\":\"white\",\"width\":0.5},\"pattern\":{\"fillmode\":\"overlay\",\"size\":10,\"solidity\":0.2}},\"type\":\"bar\"}],\"carpet\":[{\"aaxis\":{\"endlinecolor\":\"#2a3f5f\",\"gridcolor\":\"#C8D4E3\",\"linecolor\":\"#C8D4E3\",\"minorgridcolor\":\"#C8D4E3\",\"startlinecolor\":\"#2a3f5f\"},\"baxis\":{\"endlinecolor\":\"#2a3f5f\",\"gridcolor\":\"#C8D4E3\",\"linecolor\":\"#C8D4E3\",\"minorgridcolor\":\"#C8D4E3\",\"startlinecolor\":\"#2a3f5f\"},\"type\":\"carpet\"}],\"choropleth\":[{\"colorbar\":{\"outlinewidth\":0,\"ticks\":\"\"},\"type\":\"choropleth\"}],\"contourcarpet\":[{\"colorbar\":{\"outlinewidth\":0,\"ticks\":\"\"},\"type\":\"contourcarpet\"}],\"contour\":[{\"colorbar\":{\"outlinewidth\":0,\"ticks\":\"\"},\"colorscale\":[[0.0,\"#0d0887\"],[0.1111111111111111,\"#46039f\"],[0.2222222222222222,\"#7201a8\"],[0.3333333333333333,\"#9c179e\"],[0.4444444444444444,\"#bd3786\"],[0.5555555555555556,\"#d8576b\"],[0.6666666666666666,\"#ed7953\"],[0.7777777777777778,\"#fb9f3a\"],[0.8888888888888888,\"#fdca26\"],[1.0,\"#f0f921\"]],\"type\":\"contour\"}],\"heatmapgl\":[{\"colorbar\":{\"outlinewidth\":0,\"ticks\":\"\"},\"colorscale\":[[0.0,\"#0d0887\"],[0.1111111111111111,\"#46039f\"],[0.2222222222222222,\"#7201a8\"],[0.3333333333333333,\"#9c179e\"],[0.4444444444444444,\"#bd3786\"],[0.5555555555555556,\"#d8576b\"],[0.6666666666666666,\"#ed7953\"],[0.7777777777777778,\"#fb9f3a\"],[0.8888888888888888,\"#fdca26\"],[1.0,\"#f0f921\"]],\"type\":\"heatmapgl\"}],\"heatmap\":[{\"colorbar\":{\"outlinewidth\":0,\"ticks\":\"\"},\"colorscale\":[[0.0,\"#0d0887\"],[0.1111111111111111,\"#46039f\"],[0.2222222222222222,\"#7201a8\"],[0.3333333333333333,\"#9c179e\"],[0.4444444444444444,\"#bd3786\"],[0.5555555555555556,\"#d8576b\"],[0.6666666666666666,\"#ed7953\"],[0.7777777777777778,\"#fb9f3a\"],[0.8888888888888888,\"#fdca26\"],[1.0,\"#f0f921\"]],\"type\":\"heatmap\"}],\"histogram2dcontour\":[{\"colorbar\":{\"outlinewidth\":0,\"ticks\":\"\"},\"colorscale\":[[0.0,\"#0d0887\"],[0.1111111111111111,\"#46039f\"],[0.2222222222222222,\"#7201a8\"],[0.3333333333333333,\"#9c179e\"],[0.4444444444444444,\"#bd3786\"],[0.5555555555555556,\"#d8576b\"],[0.6666666666666666,\"#ed7953\"],[0.7777777777777778,\"#fb9f3a\"],[0.8888888888888888,\"#fdca26\"],[1.0,\"#f0f921\"]],\"type\":\"histogram2dcontour\"}],\"histogram2d\":[{\"colorbar\":{\"outlinewidth\":0,\"ticks\":\"\"},\"colorscale\":[[0.0,\"#0d0887\"],[0.1111111111111111,\"#46039f\"],[0.2222222222222222,\"#7201a8\"],[0.3333333333333333,\"#9c179e\"],[0.4444444444444444,\"#bd3786\"],[0.5555555555555556,\"#d8576b\"],[0.6666666666666666,\"#ed7953\"],[0.7777777777777778,\"#fb9f3a\"],[0.8888888888888888,\"#fdca26\"],[1.0,\"#f0f921\"]],\"type\":\"histogram2d\"}],\"histogram\":[{\"marker\":{\"pattern\":{\"fillmode\":\"overlay\",\"size\":10,\"solidity\":0.2}},\"type\":\"histogram\"}],\"mesh3d\":[{\"colorbar\":{\"outlinewidth\":0,\"ticks\":\"\"},\"type\":\"mesh3d\"}],\"parcoords\":[{\"line\":{\"colorbar\":{\"outlinewidth\":0,\"ticks\":\"\"}},\"type\":\"parcoords\"}],\"pie\":[{\"automargin\":true,\"type\":\"pie\"}],\"scatter3d\":[{\"line\":{\"colorbar\":{\"outlinewidth\":0,\"ticks\":\"\"}},\"marker\":{\"colorbar\":{\"outlinewidth\":0,\"ticks\":\"\"}},\"type\":\"scatter3d\"}],\"scattercarpet\":[{\"marker\":{\"colorbar\":{\"outlinewidth\":0,\"ticks\":\"\"}},\"type\":\"scattercarpet\"}],\"scattergeo\":[{\"marker\":{\"colorbar\":{\"outlinewidth\":0,\"ticks\":\"\"}},\"type\":\"scattergeo\"}],\"scattergl\":[{\"marker\":{\"colorbar\":{\"outlinewidth\":0,\"ticks\":\"\"}},\"type\":\"scattergl\"}],\"scattermapbox\":[{\"marker\":{\"colorbar\":{\"outlinewidth\":0,\"ticks\":\"\"}},\"type\":\"scattermapbox\"}],\"scatterpolargl\":[{\"marker\":{\"colorbar\":{\"outlinewidth\":0,\"ticks\":\"\"}},\"type\":\"scatterpolargl\"}],\"scatterpolar\":[{\"marker\":{\"colorbar\":{\"outlinewidth\":0,\"ticks\":\"\"}},\"type\":\"scatterpolar\"}],\"scatter\":[{\"fillpattern\":{\"fillmode\":\"overlay\",\"size\":10,\"solidity\":0.2},\"type\":\"scatter\"}],\"scatterternary\":[{\"marker\":{\"colorbar\":{\"outlinewidth\":0,\"ticks\":\"\"}},\"type\":\"scatterternary\"}],\"surface\":[{\"colorbar\":{\"outlinewidth\":0,\"ticks\":\"\"},\"colorscale\":[[0.0,\"#0d0887\"],[0.1111111111111111,\"#46039f\"],[0.2222222222222222,\"#7201a8\"],[0.3333333333333333,\"#9c179e\"],[0.4444444444444444,\"#bd3786\"],[0.5555555555555556,\"#d8576b\"],[0.6666666666666666,\"#ed7953\"],[0.7777777777777778,\"#fb9f3a\"],[0.8888888888888888,\"#fdca26\"],[1.0,\"#f0f921\"]],\"type\":\"surface\"}],\"table\":[{\"cells\":{\"fill\":{\"color\":\"#EBF0F8\"},\"line\":{\"color\":\"white\"}},\"header\":{\"fill\":{\"color\":\"#C8D4E3\"},\"line\":{\"color\":\"white\"}},\"type\":\"table\"}]},\"layout\":{\"annotationdefaults\":{\"arrowcolor\":\"#2a3f5f\",\"arrowhead\":0,\"arrowwidth\":1},\"autotypenumbers\":\"strict\",\"coloraxis\":{\"colorbar\":{\"outlinewidth\":0,\"ticks\":\"\"}},\"colorscale\":{\"diverging\":[[0,\"#8e0152\"],[0.1,\"#c51b7d\"],[0.2,\"#de77ae\"],[0.3,\"#f1b6da\"],[0.4,\"#fde0ef\"],[0.5,\"#f7f7f7\"],[0.6,\"#e6f5d0\"],[0.7,\"#b8e186\"],[0.8,\"#7fbc41\"],[0.9,\"#4d9221\"],[1,\"#276419\"]],\"sequential\":[[0.0,\"#0d0887\"],[0.1111111111111111,\"#46039f\"],[0.2222222222222222,\"#7201a8\"],[0.3333333333333333,\"#9c179e\"],[0.4444444444444444,\"#bd3786\"],[0.5555555555555556,\"#d8576b\"],[0.6666666666666666,\"#ed7953\"],[0.7777777777777778,\"#fb9f3a\"],[0.8888888888888888,\"#fdca26\"],[1.0,\"#f0f921\"]],\"sequentialminus\":[[0.0,\"#0d0887\"],[0.1111111111111111,\"#46039f\"],[0.2222222222222222,\"#7201a8\"],[0.3333333333333333,\"#9c179e\"],[0.4444444444444444,\"#bd3786\"],[0.5555555555555556,\"#d8576b\"],[0.6666666666666666,\"#ed7953\"],[0.7777777777777778,\"#fb9f3a\"],[0.8888888888888888,\"#fdca26\"],[1.0,\"#f0f921\"]]},\"colorway\":[\"#636efa\",\"#EF553B\",\"#00cc96\",\"#ab63fa\",\"#FFA15A\",\"#19d3f3\",\"#FF6692\",\"#B6E880\",\"#FF97FF\",\"#FECB52\"],\"font\":{\"color\":\"#2a3f5f\"},\"geo\":{\"bgcolor\":\"white\",\"lakecolor\":\"white\",\"landcolor\":\"white\",\"showlakes\":true,\"showland\":true,\"subunitcolor\":\"#C8D4E3\"},\"hoverlabel\":{\"align\":\"left\"},\"hovermode\":\"closest\",\"mapbox\":{\"style\":\"light\"},\"paper_bgcolor\":\"white\",\"plot_bgcolor\":\"white\",\"polar\":{\"angularaxis\":{\"gridcolor\":\"#EBF0F8\",\"linecolor\":\"#EBF0F8\",\"ticks\":\"\"},\"bgcolor\":\"white\",\"radialaxis\":{\"gridcolor\":\"#EBF0F8\",\"linecolor\":\"#EBF0F8\",\"ticks\":\"\"}},\"scene\":{\"xaxis\":{\"backgroundcolor\":\"white\",\"gridcolor\":\"#DFE8F3\",\"gridwidth\":2,\"linecolor\":\"#EBF0F8\",\"showbackground\":true,\"ticks\":\"\",\"zerolinecolor\":\"#EBF0F8\"},\"yaxis\":{\"backgroundcolor\":\"white\",\"gridcolor\":\"#DFE8F3\",\"gridwidth\":2,\"linecolor\":\"#EBF0F8\",\"showbackground\":true,\"ticks\":\"\",\"zerolinecolor\":\"#EBF0F8\"},\"zaxis\":{\"backgroundcolor\":\"white\",\"gridcolor\":\"#DFE8F3\",\"gridwidth\":2,\"linecolor\":\"#EBF0F8\",\"showbackground\":true,\"ticks\":\"\",\"zerolinecolor\":\"#EBF0F8\"}},\"shapedefaults\":{\"line\":{\"color\":\"#2a3f5f\"}},\"ternary\":{\"aaxis\":{\"gridcolor\":\"#DFE8F3\",\"linecolor\":\"#A2B1C6\",\"ticks\":\"\"},\"baxis\":{\"gridcolor\":\"#DFE8F3\",\"linecolor\":\"#A2B1C6\",\"ticks\":\"\"},\"bgcolor\":\"white\",\"caxis\":{\"gridcolor\":\"#DFE8F3\",\"linecolor\":\"#A2B1C6\",\"ticks\":\"\"}},\"title\":{\"x\":0.05},\"xaxis\":{\"automargin\":true,\"gridcolor\":\"#EBF0F8\",\"linecolor\":\"#EBF0F8\",\"ticks\":\"\",\"title\":{\"standoff\":15},\"zerolinecolor\":\"#EBF0F8\",\"zerolinewidth\":2},\"yaxis\":{\"automargin\":true,\"gridcolor\":\"#EBF0F8\",\"linecolor\":\"#EBF0F8\",\"ticks\":\"\",\"title\":{\"standoff\":15},\"zerolinecolor\":\"#EBF0F8\",\"zerolinewidth\":2}}},\"xaxis\":{\"anchor\":\"y\",\"domain\":[0.0,1.0],\"title\":{\"text\":\"Year\"}},\"yaxis\":{\"anchor\":\"x\",\"domain\":[0.0,1.0],\"title\":{\"text\":\"[Tonnes]\"}},\"legend\":{\"title\":{\"text\":\"variable\"},\"tracegroupgap\":0},\"margin\":{\"t\":60},\"title\":{\"text\":\"Yearly Virgin Stock\"}},                        {\"responsive\": true}                    ).then(function(){\n",
       "                            \n",
       "var gd = document.getElementById('8cc32628-67a3-4cb4-9368-0fd14fdd5837');\n",
       "var x = new MutationObserver(function (mutations, observer) {{\n",
       "        var display = window.getComputedStyle(gd).display;\n",
       "        if (!display || display === 'none') {{\n",
       "            console.log([gd, 'removed!']);\n",
       "            Plotly.purge(gd);\n",
       "            observer.disconnect();\n",
       "        }}\n",
       "}});\n",
       "\n",
       "// Listen for the removal of the full notebook cells\n",
       "var notebookContainer = gd.closest('#notebook-container');\n",
       "if (notebookContainer) {{\n",
       "    x.observe(notebookContainer, {childList: true});\n",
       "}}\n",
       "\n",
       "// Listen for the clearing of the current output cell\n",
       "var outputEl = gd.closest('.output');\n",
       "if (outputEl) {{\n",
       "    x.observe(outputEl, {childList: true});\n",
       "}}\n",
       "\n",
       "                        })                };                });            </script>        </div>"
      ]
     },
     "metadata": {},
     "output_type": "display_data"
    },
    {
     "data": {
      "application/vnd.plotly.v1+json": {
       "config": {
        "plotlyServerURL": "https://plot.ly"
       },
       "data": [
        {
         "hovertemplate": "Glass simulation1 standard",
         "legendgroup": "WasteAll_glass_Simulation1_standard_[Tonnes]",
         "line": {
          "color": "#636efa",
          "dash": "solid"
         },
         "marker": {
          "symbol": "circle"
         },
         "mode": "lines",
         "name": "Glass simulation1 standard",
         "orientation": "v",
         "showlegend": true,
         "type": "scatter",
         "x": [
          1995,
          1996,
          1997,
          1998,
          1999,
          2000,
          2001,
          2002,
          2003,
          2004,
          2005,
          2006,
          2007,
          2008,
          2009,
          2010,
          2011,
          2012,
          2013,
          2014,
          2015,
          2016,
          2017,
          2018,
          2019,
          2020,
          2021,
          2022,
          2023,
          2024,
          2025,
          2026,
          2027,
          2028,
          2029,
          2030,
          2031,
          2032,
          2033,
          2034,
          2035,
          2036,
          2037,
          2038,
          2039,
          2040,
          2041,
          2042,
          2043,
          2044,
          2045,
          2046,
          2047,
          2048,
          2049,
          2050
         ],
         "xaxis": "x",
         "y": [
          35.574650912996724,
          27.083240195462096,
          32.155320505868296,
          32.410168710496,
          46.436911754327966,
          58.1260312154571,
          78.67218666305253,
          120.087664082698,
          170.15940811216106,
          267.3395191975747,
          999.9285765787968,
          815.047354754066,
          814.9230491479439,
          793.6744174516256,
          1088.0370211029856,
          1804.7823130889572,
          4303.175978996571,
          7926.746381129632,
          9988.6921795289,
          9331.704985746135,
          14010.81322833808,
          24546.17016758225,
          18544.201354832257,
          16784.53747410762,
          19036.643735796755,
          25447.413746844148,
          26789.2806949216,
          25620.81051272426,
          24876.766059034322,
          27163.743887641915,
          28381.549171098424,
          29867.739488480445,
          29337.25281841938,
          39711.791692795945,
          42533.778241382686,
          53992.864685479675,
          42201.29017628931,
          79194.58080184052,
          58461.75873045656,
          132517.46220544857,
          183082.3494027326,
          81281.89563887747,
          260415.2738185302,
          109273.2099264137,
          132738.77524044877,
          283707.30913637974,
          175570.29577968328,
          207209.27718970878,
          402428.6049688221,
          538845.7968578167,
          223080.18868523568,
          437292.3184444261,
          244762.279459728,
          410028.61357073876,
          430453.4884661212,
          759404.3418736943
         ],
         "yaxis": "y"
        },
        {
         "hovertemplate": "Silicon simulation1 standard",
         "legendgroup": "WasteAll_silicon_Simulation1_standard_[Tonnes]",
         "line": {
          "color": "#EF553B",
          "dash": "solid"
         },
         "marker": {
          "symbol": "circle"
         },
         "mode": "lines",
         "name": "Silicon simulation1 standard",
         "orientation": "v",
         "showlegend": true,
         "type": "scatter",
         "x": [
          1995,
          1996,
          1997,
          1998,
          1999,
          2000,
          2001,
          2002,
          2003,
          2004,
          2005,
          2006,
          2007,
          2008,
          2009,
          2010,
          2011,
          2012,
          2013,
          2014,
          2015,
          2016,
          2017,
          2018,
          2019,
          2020,
          2021,
          2022,
          2023,
          2024,
          2025,
          2026,
          2027,
          2028,
          2029,
          2030,
          2031,
          2032,
          2033,
          2034,
          2035,
          2036,
          2037,
          2038,
          2039,
          2040,
          2041,
          2042,
          2043,
          2044,
          2045,
          2046,
          2047,
          2048,
          2049,
          2050
         ],
         "xaxis": "x",
         "y": [
          86.0349348911383,
          64.20879394839295,
          74.59337741124591,
          73.07826218486208,
          101.22735938402926,
          121.29020075738569,
          156.79195357272974,
          230.8244955688407,
          314.81283532826404,
          407.39679427784347,
          545.2796629380751,
          583.5651530174656,
          1728.984198168363,
          1677.6498394709035,
          2244.391154561171,
          1760.5776040314704,
          4183.130571913483,
          7405.590768215986,
          8917.35455010313,
          8041.104716097951,
          13773.773619970456,
          22551.834078023337,
          13425.100419853676,
          10201.771420220353,
          10566.284611222707,
          12704.208503780163,
          13543.002744884,
          12657.093146444964,
          11303.951119420319,
          11062.219153406604,
          11385.38333433843,
          11850.765573476843,
          12294.544919109181,
          13320.384559121945,
          13959.141355402673,
          15213.451180421198,
          15510.545565605307,
          18572.511897608652,
          18667.480696080755,
          23892.884595914747,
          27927.023576776548,
          24114.92904880418,
          35103.815846407946,
          29057.60414772434,
          32243.4774683655,
          42120.18940816057,
          38915.8674347001,
          43055.10979060659,
          55836.98008727663,
          65928.13004654006,
          52655.350739844675,
          67052.16103176952,
          60903.312325725754,
          73186.67221704115,
          78198.99630037883,
          97302.93517226788
         ],
         "yaxis": "y"
        },
        {
         "hovertemplate": "Module simulation1 standard",
         "legendgroup": "WasteAll_Module_Simulation1_standard_[Tonnes]",
         "line": {
          "color": "#00cc96",
          "dash": "solid"
         },
         "marker": {
          "symbol": "circle"
         },
         "mode": "lines",
         "name": "Module simulation1 standard",
         "orientation": "v",
         "showlegend": true,
         "type": "scatter",
         "x": [
          1995,
          1996,
          1997,
          1998,
          1999,
          2000,
          2001,
          2002,
          2003,
          2004,
          2005,
          2006,
          2007,
          2008,
          2009,
          2010,
          2011,
          2012,
          2013,
          2014,
          2015,
          2016,
          2017,
          2018,
          2019,
          2020,
          2021,
          2022,
          2023,
          2024,
          2025,
          2026,
          2027,
          2028,
          2029,
          2030,
          2031,
          2032,
          2033,
          2034,
          2035,
          2036,
          2037,
          2038,
          2039,
          2040,
          2041,
          2042,
          2043,
          2044,
          2045,
          2046,
          2047,
          2048,
          2049,
          2050
         ],
         "xaxis": "x",
         "y": [
          121.60958580413502,
          91.29203414385505,
          106.7486979171142,
          105.48843089535809,
          147.66427113835724,
          179.41623197284278,
          235.46414023578225,
          350.9121596515387,
          484.97224344042513,
          674.7363134754181,
          1545.208239516872,
          1398.6125077715317,
          2543.907247316307,
          2471.324256922529,
          3332.4281756641567,
          3565.3599171204273,
          8486.306550910054,
          15332.33714934562,
          18906.04672963203,
          17372.809701844086,
          27784.586848308532,
          47098.00424560559,
          31969.301774685933,
          26986.308894327973,
          29602.928347019464,
          38151.622250624314,
          40332.2834398056,
          38277.90365916922,
          36180.71717845464,
          38225.963041048526,
          39766.93250543685,
          41718.505061957294,
          41631.79773752856,
          53032.176251917896,
          56492.91959678535,
          69206.31586590088,
          57711.83574189462,
          97767.09269944917,
          77129.23942653732,
          156410.34680136334,
          211009.37297950915,
          105396.82468768166,
          295519.08966493816,
          138330.81407413806,
          164982.25270881428,
          325827.4985445404,
          214486.16321438338,
          250264.38698031538,
          458265.5850560987,
          604773.9269043568,
          275735.5394250804,
          504344.47947619564,
          305665.5917854537,
          483215.2857877799,
          508652.48476650007,
          856707.2770459622
         ],
         "yaxis": "y"
        },
        {
         "hovertemplate": "Glass simulation1 low quality",
         "legendgroup": "WasteAll_glass_Simulation1_low_quality_[Tonnes]",
         "line": {
          "color": "#ab63fa",
          "dash": "solid"
         },
         "marker": {
          "symbol": "circle"
         },
         "mode": "lines",
         "name": "Glass simulation1 low quality",
         "orientation": "v",
         "showlegend": true,
         "type": "scatter",
         "x": [
          1995,
          1996,
          1997,
          1998,
          1999,
          2000,
          2001,
          2002,
          2003,
          2004,
          2005,
          2006,
          2007,
          2008,
          2009,
          2010,
          2011,
          2012,
          2013,
          2014,
          2015,
          2016,
          2017,
          2018,
          2019,
          2020,
          2021,
          2022,
          2023,
          2024,
          2025,
          2026,
          2027,
          2028,
          2029,
          2030,
          2031,
          2032,
          2033,
          2034,
          2035,
          2036,
          2037,
          2038,
          2039,
          2040,
          2041,
          2042,
          2043,
          2044,
          2045,
          2046,
          2047,
          2048,
          2049,
          2050
         ],
         "xaxis": "x",
         "y": [
          35.574650912996724,
          27.083240195462096,
          32.155320505868296,
          32.410168710496,
          46.436911754327966,
          58.1260312154571,
          78.67218666305253,
          120.087664082698,
          170.15940811216106,
          267.3395191975747,
          282.4483564602473,
          300.81130392456953,
          880.4998094087625,
          876.1099055146494,
          1187.219399317668,
          2383.631800148153,
          4708.8481363468945,
          7926.746381129632,
          9988.6921795289,
          9331.704985746135,
          15054.086199838777,
          25844.11058179567,
          20411.48805712648,
          19264.145829805984,
          22866.817927445667,
          28171.062336580148,
          29279.556867906176,
          38116.29311429527,
          36243.199198809765,
          44174.9374354321,
          60092.624817573625,
          113263.71809701467,
          177530.16645054342,
          224099.74264914353,
          208333.8548790545,
          346434.8528574492,
          611390.2358199117,
          473765.3438734483,
          442653.5025200654,
          509033.47328306886,
          687525.3440185544,
          751125.0017366441,
          718669.9758814602,
          709624.8474375352,
          777095.8720843028,
          833676.3726272304,
          895707.9909878833,
          977576.0000089948,
          1067189.8035531952,
          1165590.7244336884,
          1256468.1923750907,
          1355065.9874898724,
          1468260.9948436278,
          1591497.0431387965,
          1725624.232819417,
          1871572.917009013
         ],
         "yaxis": "y"
        },
        {
         "hovertemplate": "Silicon simulation1 low quality",
         "legendgroup": "WasteAll_silicon_Simulation1_low_quality_[Tonnes]",
         "line": {
          "color": "#FFA15A",
          "dash": "solid"
         },
         "marker": {
          "symbol": "circle"
         },
         "mode": "lines",
         "name": "Silicon simulation1 low quality",
         "orientation": "v",
         "showlegend": true,
         "type": "scatter",
         "x": [
          1995,
          1996,
          1997,
          1998,
          1999,
          2000,
          2001,
          2002,
          2003,
          2004,
          2005,
          2006,
          2007,
          2008,
          2009,
          2010,
          2011,
          2012,
          2013,
          2014,
          2015,
          2016,
          2017,
          2018,
          2019,
          2020,
          2021,
          2022,
          2023,
          2024,
          2025,
          2026,
          2027,
          2028,
          2029,
          2030,
          2031,
          2032,
          2033,
          2034,
          2035,
          2036,
          2037,
          2038,
          2039,
          2040,
          2041,
          2042,
          2043,
          2044,
          2045,
          2046,
          2047,
          2048,
          2049,
          2050
         ],
         "xaxis": "x",
         "y": [
          86.0349348911383,
          64.20879394839295,
          74.59337741124591,
          73.07826218486208,
          101.22735938402926,
          121.29020075738569,
          156.79195357272974,
          230.8244955688407,
          314.81283532826404,
          407.39679427784347,
          468.25571725518625,
          529.5098321327665,
          1735.9729165930476,
          1686.4334439546865,
          2254.9569656372914,
          1822.6223758413205,
          4225.826932686633,
          7405.590768215986,
          8917.35455010313,
          8041.104716097951,
          13874.792242265494,
          22674.613888928852,
          13597.407286066275,
          10424.571132926638,
          10901.480459424281,
          12872.797585943319,
          13623.699177782488,
          13274.712818196313,
          11808.821706208935,
          11854.920603161838,
          13005.622514873603,
          16251.303419189164,
          20070.068838013824,
          22868.18330388265,
          22411.979257051633,
          30263.43080187414,
          45108.65716660862,
          38692.11572711397,
          37736.00009846615,
          41161.2610413031,
          49289.932512323474,
          52128.10310482308,
          51118.24600369135,
          51499.670617389755,
          54984.615307905624,
          58965.37109651855,
          63293.83454014604,
          68047.5438130292,
          73181.68389421862,
          78736.6775788176,
          85107.12065656779,
          92021.1341227429,
          99843.82709229755,
          108355.8003240638,
          117616.4937762363,
          127690.76291470176
         ],
         "yaxis": "y"
        },
        {
         "hovertemplate": "Module simulation1 low quality",
         "legendgroup": "WasteAll_Module_Simulation1_low_quality_[Tonnes]",
         "line": {
          "color": "#19d3f3",
          "dash": "solid"
         },
         "marker": {
          "symbol": "circle"
         },
         "mode": "lines",
         "name": "Module simulation1 low quality",
         "orientation": "v",
         "showlegend": true,
         "type": "scatter",
         "x": [
          1995,
          1996,
          1997,
          1998,
          1999,
          2000,
          2001,
          2002,
          2003,
          2004,
          2005,
          2006,
          2007,
          2008,
          2009,
          2010,
          2011,
          2012,
          2013,
          2014,
          2015,
          2016,
          2017,
          2018,
          2019,
          2020,
          2021,
          2022,
          2023,
          2024,
          2025,
          2026,
          2027,
          2028,
          2029,
          2030,
          2031,
          2032,
          2033,
          2034,
          2035,
          2036,
          2037,
          2038,
          2039,
          2040,
          2041,
          2042,
          2043,
          2044,
          2045,
          2046,
          2047,
          2048,
          2049,
          2050
         ],
         "xaxis": "x",
         "y": [
          121.60958580413502,
          91.29203414385505,
          106.7486979171142,
          105.48843089535809,
          147.66427113835724,
          179.41623197284278,
          235.46414023578225,
          350.9121596515387,
          484.97224344042513,
          674.7363134754181,
          750.7040737154337,
          830.321136057336,
          2616.47272600181,
          2562.5433494693357,
          3442.1763649549594,
          4206.254175989474,
          8934.675069033527,
          15332.33714934562,
          18906.04672963203,
          17372.809701844086,
          28928.87844210427,
          48518.72447072452,
          34008.89534319276,
          29688.716962732622,
          33768.29838686995,
          41043.859922523465,
          42903.256045688664,
          51391.005932491586,
          48052.020905018704,
          56029.858038593935,
          73098.24733244724,
          129515.02151620384,
          197600.23528855725,
          246967.9259530262,
          230745.83413610613,
          376698.28365932335,
          656498.8929865204,
          512457.45960056223,
          480389.50261853164,
          550194.7343243719,
          736815.2765308779,
          803253.1048414671,
          769788.2218851516,
          761124.5180549249,
          832080.4873922085,
          892641.743723749,
          959001.8255280294,
          1045623.543822024,
          1140371.4874474138,
          1244327.402012506,
          1341575.3130316585,
          1447087.1216126152,
          1568104.8219359254,
          1699852.8434628602,
          1843240.7265956532,
          1999263.6799237146
         ],
         "yaxis": "y"
        }
       ],
       "layout": {
        "legend": {
         "title": {
          "text": "variable"
         },
         "tracegroupgap": 0
        },
        "margin": {
         "t": 60
        },
        "template": {
         "data": {
          "bar": [
           {
            "error_x": {
             "color": "#2a3f5f"
            },
            "error_y": {
             "color": "#2a3f5f"
            },
            "marker": {
             "line": {
              "color": "white",
              "width": 0.5
             },
             "pattern": {
              "fillmode": "overlay",
              "size": 10,
              "solidity": 0.2
             }
            },
            "type": "bar"
           }
          ],
          "barpolar": [
           {
            "marker": {
             "line": {
              "color": "white",
              "width": 0.5
             },
             "pattern": {
              "fillmode": "overlay",
              "size": 10,
              "solidity": 0.2
             }
            },
            "type": "barpolar"
           }
          ],
          "carpet": [
           {
            "aaxis": {
             "endlinecolor": "#2a3f5f",
             "gridcolor": "#C8D4E3",
             "linecolor": "#C8D4E3",
             "minorgridcolor": "#C8D4E3",
             "startlinecolor": "#2a3f5f"
            },
            "baxis": {
             "endlinecolor": "#2a3f5f",
             "gridcolor": "#C8D4E3",
             "linecolor": "#C8D4E3",
             "minorgridcolor": "#C8D4E3",
             "startlinecolor": "#2a3f5f"
            },
            "type": "carpet"
           }
          ],
          "choropleth": [
           {
            "colorbar": {
             "outlinewidth": 0,
             "ticks": ""
            },
            "type": "choropleth"
           }
          ],
          "contour": [
           {
            "colorbar": {
             "outlinewidth": 0,
             "ticks": ""
            },
            "colorscale": [
             [
              0,
              "#0d0887"
             ],
             [
              0.1111111111111111,
              "#46039f"
             ],
             [
              0.2222222222222222,
              "#7201a8"
             ],
             [
              0.3333333333333333,
              "#9c179e"
             ],
             [
              0.4444444444444444,
              "#bd3786"
             ],
             [
              0.5555555555555556,
              "#d8576b"
             ],
             [
              0.6666666666666666,
              "#ed7953"
             ],
             [
              0.7777777777777778,
              "#fb9f3a"
             ],
             [
              0.8888888888888888,
              "#fdca26"
             ],
             [
              1,
              "#f0f921"
             ]
            ],
            "type": "contour"
           }
          ],
          "contourcarpet": [
           {
            "colorbar": {
             "outlinewidth": 0,
             "ticks": ""
            },
            "type": "contourcarpet"
           }
          ],
          "heatmap": [
           {
            "colorbar": {
             "outlinewidth": 0,
             "ticks": ""
            },
            "colorscale": [
             [
              0,
              "#0d0887"
             ],
             [
              0.1111111111111111,
              "#46039f"
             ],
             [
              0.2222222222222222,
              "#7201a8"
             ],
             [
              0.3333333333333333,
              "#9c179e"
             ],
             [
              0.4444444444444444,
              "#bd3786"
             ],
             [
              0.5555555555555556,
              "#d8576b"
             ],
             [
              0.6666666666666666,
              "#ed7953"
             ],
             [
              0.7777777777777778,
              "#fb9f3a"
             ],
             [
              0.8888888888888888,
              "#fdca26"
             ],
             [
              1,
              "#f0f921"
             ]
            ],
            "type": "heatmap"
           }
          ],
          "heatmapgl": [
           {
            "colorbar": {
             "outlinewidth": 0,
             "ticks": ""
            },
            "colorscale": [
             [
              0,
              "#0d0887"
             ],
             [
              0.1111111111111111,
              "#46039f"
             ],
             [
              0.2222222222222222,
              "#7201a8"
             ],
             [
              0.3333333333333333,
              "#9c179e"
             ],
             [
              0.4444444444444444,
              "#bd3786"
             ],
             [
              0.5555555555555556,
              "#d8576b"
             ],
             [
              0.6666666666666666,
              "#ed7953"
             ],
             [
              0.7777777777777778,
              "#fb9f3a"
             ],
             [
              0.8888888888888888,
              "#fdca26"
             ],
             [
              1,
              "#f0f921"
             ]
            ],
            "type": "heatmapgl"
           }
          ],
          "histogram": [
           {
            "marker": {
             "pattern": {
              "fillmode": "overlay",
              "size": 10,
              "solidity": 0.2
             }
            },
            "type": "histogram"
           }
          ],
          "histogram2d": [
           {
            "colorbar": {
             "outlinewidth": 0,
             "ticks": ""
            },
            "colorscale": [
             [
              0,
              "#0d0887"
             ],
             [
              0.1111111111111111,
              "#46039f"
             ],
             [
              0.2222222222222222,
              "#7201a8"
             ],
             [
              0.3333333333333333,
              "#9c179e"
             ],
             [
              0.4444444444444444,
              "#bd3786"
             ],
             [
              0.5555555555555556,
              "#d8576b"
             ],
             [
              0.6666666666666666,
              "#ed7953"
             ],
             [
              0.7777777777777778,
              "#fb9f3a"
             ],
             [
              0.8888888888888888,
              "#fdca26"
             ],
             [
              1,
              "#f0f921"
             ]
            ],
            "type": "histogram2d"
           }
          ],
          "histogram2dcontour": [
           {
            "colorbar": {
             "outlinewidth": 0,
             "ticks": ""
            },
            "colorscale": [
             [
              0,
              "#0d0887"
             ],
             [
              0.1111111111111111,
              "#46039f"
             ],
             [
              0.2222222222222222,
              "#7201a8"
             ],
             [
              0.3333333333333333,
              "#9c179e"
             ],
             [
              0.4444444444444444,
              "#bd3786"
             ],
             [
              0.5555555555555556,
              "#d8576b"
             ],
             [
              0.6666666666666666,
              "#ed7953"
             ],
             [
              0.7777777777777778,
              "#fb9f3a"
             ],
             [
              0.8888888888888888,
              "#fdca26"
             ],
             [
              1,
              "#f0f921"
             ]
            ],
            "type": "histogram2dcontour"
           }
          ],
          "mesh3d": [
           {
            "colorbar": {
             "outlinewidth": 0,
             "ticks": ""
            },
            "type": "mesh3d"
           }
          ],
          "parcoords": [
           {
            "line": {
             "colorbar": {
              "outlinewidth": 0,
              "ticks": ""
             }
            },
            "type": "parcoords"
           }
          ],
          "pie": [
           {
            "automargin": true,
            "type": "pie"
           }
          ],
          "scatter": [
           {
            "fillpattern": {
             "fillmode": "overlay",
             "size": 10,
             "solidity": 0.2
            },
            "type": "scatter"
           }
          ],
          "scatter3d": [
           {
            "line": {
             "colorbar": {
              "outlinewidth": 0,
              "ticks": ""
             }
            },
            "marker": {
             "colorbar": {
              "outlinewidth": 0,
              "ticks": ""
             }
            },
            "type": "scatter3d"
           }
          ],
          "scattercarpet": [
           {
            "marker": {
             "colorbar": {
              "outlinewidth": 0,
              "ticks": ""
             }
            },
            "type": "scattercarpet"
           }
          ],
          "scattergeo": [
           {
            "marker": {
             "colorbar": {
              "outlinewidth": 0,
              "ticks": ""
             }
            },
            "type": "scattergeo"
           }
          ],
          "scattergl": [
           {
            "marker": {
             "colorbar": {
              "outlinewidth": 0,
              "ticks": ""
             }
            },
            "type": "scattergl"
           }
          ],
          "scattermapbox": [
           {
            "marker": {
             "colorbar": {
              "outlinewidth": 0,
              "ticks": ""
             }
            },
            "type": "scattermapbox"
           }
          ],
          "scatterpolar": [
           {
            "marker": {
             "colorbar": {
              "outlinewidth": 0,
              "ticks": ""
             }
            },
            "type": "scatterpolar"
           }
          ],
          "scatterpolargl": [
           {
            "marker": {
             "colorbar": {
              "outlinewidth": 0,
              "ticks": ""
             }
            },
            "type": "scatterpolargl"
           }
          ],
          "scatterternary": [
           {
            "marker": {
             "colorbar": {
              "outlinewidth": 0,
              "ticks": ""
             }
            },
            "type": "scatterternary"
           }
          ],
          "surface": [
           {
            "colorbar": {
             "outlinewidth": 0,
             "ticks": ""
            },
            "colorscale": [
             [
              0,
              "#0d0887"
             ],
             [
              0.1111111111111111,
              "#46039f"
             ],
             [
              0.2222222222222222,
              "#7201a8"
             ],
             [
              0.3333333333333333,
              "#9c179e"
             ],
             [
              0.4444444444444444,
              "#bd3786"
             ],
             [
              0.5555555555555556,
              "#d8576b"
             ],
             [
              0.6666666666666666,
              "#ed7953"
             ],
             [
              0.7777777777777778,
              "#fb9f3a"
             ],
             [
              0.8888888888888888,
              "#fdca26"
             ],
             [
              1,
              "#f0f921"
             ]
            ],
            "type": "surface"
           }
          ],
          "table": [
           {
            "cells": {
             "fill": {
              "color": "#EBF0F8"
             },
             "line": {
              "color": "white"
             }
            },
            "header": {
             "fill": {
              "color": "#C8D4E3"
             },
             "line": {
              "color": "white"
             }
            },
            "type": "table"
           }
          ]
         },
         "layout": {
          "annotationdefaults": {
           "arrowcolor": "#2a3f5f",
           "arrowhead": 0,
           "arrowwidth": 1
          },
          "autotypenumbers": "strict",
          "coloraxis": {
           "colorbar": {
            "outlinewidth": 0,
            "ticks": ""
           }
          },
          "colorscale": {
           "diverging": [
            [
             0,
             "#8e0152"
            ],
            [
             0.1,
             "#c51b7d"
            ],
            [
             0.2,
             "#de77ae"
            ],
            [
             0.3,
             "#f1b6da"
            ],
            [
             0.4,
             "#fde0ef"
            ],
            [
             0.5,
             "#f7f7f7"
            ],
            [
             0.6,
             "#e6f5d0"
            ],
            [
             0.7,
             "#b8e186"
            ],
            [
             0.8,
             "#7fbc41"
            ],
            [
             0.9,
             "#4d9221"
            ],
            [
             1,
             "#276419"
            ]
           ],
           "sequential": [
            [
             0,
             "#0d0887"
            ],
            [
             0.1111111111111111,
             "#46039f"
            ],
            [
             0.2222222222222222,
             "#7201a8"
            ],
            [
             0.3333333333333333,
             "#9c179e"
            ],
            [
             0.4444444444444444,
             "#bd3786"
            ],
            [
             0.5555555555555556,
             "#d8576b"
            ],
            [
             0.6666666666666666,
             "#ed7953"
            ],
            [
             0.7777777777777778,
             "#fb9f3a"
            ],
            [
             0.8888888888888888,
             "#fdca26"
            ],
            [
             1,
             "#f0f921"
            ]
           ],
           "sequentialminus": [
            [
             0,
             "#0d0887"
            ],
            [
             0.1111111111111111,
             "#46039f"
            ],
            [
             0.2222222222222222,
             "#7201a8"
            ],
            [
             0.3333333333333333,
             "#9c179e"
            ],
            [
             0.4444444444444444,
             "#bd3786"
            ],
            [
             0.5555555555555556,
             "#d8576b"
            ],
            [
             0.6666666666666666,
             "#ed7953"
            ],
            [
             0.7777777777777778,
             "#fb9f3a"
            ],
            [
             0.8888888888888888,
             "#fdca26"
            ],
            [
             1,
             "#f0f921"
            ]
           ]
          },
          "colorway": [
           "#636efa",
           "#EF553B",
           "#00cc96",
           "#ab63fa",
           "#FFA15A",
           "#19d3f3",
           "#FF6692",
           "#B6E880",
           "#FF97FF",
           "#FECB52"
          ],
          "font": {
           "color": "#2a3f5f"
          },
          "geo": {
           "bgcolor": "white",
           "lakecolor": "white",
           "landcolor": "white",
           "showlakes": true,
           "showland": true,
           "subunitcolor": "#C8D4E3"
          },
          "hoverlabel": {
           "align": "left"
          },
          "hovermode": "closest",
          "mapbox": {
           "style": "light"
          },
          "paper_bgcolor": "white",
          "plot_bgcolor": "white",
          "polar": {
           "angularaxis": {
            "gridcolor": "#EBF0F8",
            "linecolor": "#EBF0F8",
            "ticks": ""
           },
           "bgcolor": "white",
           "radialaxis": {
            "gridcolor": "#EBF0F8",
            "linecolor": "#EBF0F8",
            "ticks": ""
           }
          },
          "scene": {
           "xaxis": {
            "backgroundcolor": "white",
            "gridcolor": "#DFE8F3",
            "gridwidth": 2,
            "linecolor": "#EBF0F8",
            "showbackground": true,
            "ticks": "",
            "zerolinecolor": "#EBF0F8"
           },
           "yaxis": {
            "backgroundcolor": "white",
            "gridcolor": "#DFE8F3",
            "gridwidth": 2,
            "linecolor": "#EBF0F8",
            "showbackground": true,
            "ticks": "",
            "zerolinecolor": "#EBF0F8"
           },
           "zaxis": {
            "backgroundcolor": "white",
            "gridcolor": "#DFE8F3",
            "gridwidth": 2,
            "linecolor": "#EBF0F8",
            "showbackground": true,
            "ticks": "",
            "zerolinecolor": "#EBF0F8"
           }
          },
          "shapedefaults": {
           "line": {
            "color": "#2a3f5f"
           }
          },
          "ternary": {
           "aaxis": {
            "gridcolor": "#DFE8F3",
            "linecolor": "#A2B1C6",
            "ticks": ""
           },
           "baxis": {
            "gridcolor": "#DFE8F3",
            "linecolor": "#A2B1C6",
            "ticks": ""
           },
           "bgcolor": "white",
           "caxis": {
            "gridcolor": "#DFE8F3",
            "linecolor": "#A2B1C6",
            "ticks": ""
           }
          },
          "title": {
           "x": 0.05
          },
          "xaxis": {
           "automargin": true,
           "gridcolor": "#EBF0F8",
           "linecolor": "#EBF0F8",
           "ticks": "",
           "title": {
            "standoff": 15
           },
           "zerolinecolor": "#EBF0F8",
           "zerolinewidth": 2
          },
          "yaxis": {
           "automargin": true,
           "gridcolor": "#EBF0F8",
           "linecolor": "#EBF0F8",
           "ticks": "",
           "title": {
            "standoff": 15
           },
           "zerolinecolor": "#EBF0F8",
           "zerolinewidth": 2
          }
         }
        },
        "title": {
         "text": "Yearly Waste All"
        },
        "xaxis": {
         "anchor": "y",
         "domain": [
          0,
          1
         ],
         "title": {
          "text": "Year"
         }
        },
        "yaxis": {
         "anchor": "x",
         "domain": [
          0,
          1
         ],
         "title": {
          "text": "[Tonnes]"
         }
        }
       }
      },
      "text/html": [
       "<div>                            <div id=\"0167531f-1f20-4161-b5f8-e8725a4f046d\" class=\"plotly-graph-div\" style=\"height:525px; width:100%;\"></div>            <script type=\"text/javascript\">                require([\"plotly\"], function(Plotly) {                    window.PLOTLYENV=window.PLOTLYENV || {};                                    if (document.getElementById(\"0167531f-1f20-4161-b5f8-e8725a4f046d\")) {                    Plotly.newPlot(                        \"0167531f-1f20-4161-b5f8-e8725a4f046d\",                        [{\"hovertemplate\":\"Glass simulation1 standard\",\"legendgroup\":\"WasteAll_glass_Simulation1_standard_[Tonnes]\",\"line\":{\"color\":\"#636efa\",\"dash\":\"solid\"},\"marker\":{\"symbol\":\"circle\"},\"mode\":\"lines\",\"name\":\"Glass simulation1 standard\",\"orientation\":\"v\",\"showlegend\":true,\"x\":[1995,1996,1997,1998,1999,2000,2001,2002,2003,2004,2005,2006,2007,2008,2009,2010,2011,2012,2013,2014,2015,2016,2017,2018,2019,2020,2021,2022,2023,2024,2025,2026,2027,2028,2029,2030,2031,2032,2033,2034,2035,2036,2037,2038,2039,2040,2041,2042,2043,2044,2045,2046,2047,2048,2049,2050],\"xaxis\":\"x\",\"y\":[35.574650912996724,27.083240195462096,32.155320505868296,32.410168710496,46.436911754327966,58.1260312154571,78.67218666305253,120.087664082698,170.15940811216106,267.3395191975747,999.9285765787968,815.047354754066,814.9230491479439,793.6744174516256,1088.0370211029856,1804.7823130889572,4303.175978996571,7926.746381129632,9988.6921795289,9331.704985746135,14010.81322833808,24546.17016758225,18544.201354832257,16784.53747410762,19036.643735796755,25447.413746844148,26789.2806949216,25620.81051272426,24876.766059034322,27163.743887641915,28381.549171098424,29867.739488480445,29337.25281841938,39711.791692795945,42533.778241382686,53992.864685479675,42201.29017628931,79194.58080184052,58461.75873045656,132517.46220544857,183082.3494027326,81281.89563887747,260415.2738185302,109273.2099264137,132738.77524044877,283707.30913637974,175570.29577968328,207209.27718970878,402428.6049688221,538845.7968578167,223080.18868523568,437292.3184444261,244762.279459728,410028.61357073876,430453.4884661212,759404.3418736943],\"yaxis\":\"y\",\"type\":\"scatter\"},{\"hovertemplate\":\"Silicon simulation1 standard\",\"legendgroup\":\"WasteAll_silicon_Simulation1_standard_[Tonnes]\",\"line\":{\"color\":\"#EF553B\",\"dash\":\"solid\"},\"marker\":{\"symbol\":\"circle\"},\"mode\":\"lines\",\"name\":\"Silicon simulation1 standard\",\"orientation\":\"v\",\"showlegend\":true,\"x\":[1995,1996,1997,1998,1999,2000,2001,2002,2003,2004,2005,2006,2007,2008,2009,2010,2011,2012,2013,2014,2015,2016,2017,2018,2019,2020,2021,2022,2023,2024,2025,2026,2027,2028,2029,2030,2031,2032,2033,2034,2035,2036,2037,2038,2039,2040,2041,2042,2043,2044,2045,2046,2047,2048,2049,2050],\"xaxis\":\"x\",\"y\":[86.0349348911383,64.20879394839295,74.59337741124591,73.07826218486208,101.22735938402926,121.29020075738569,156.79195357272974,230.8244955688407,314.81283532826404,407.39679427784347,545.2796629380751,583.5651530174656,1728.984198168363,1677.6498394709035,2244.391154561171,1760.5776040314704,4183.130571913483,7405.590768215986,8917.35455010313,8041.104716097951,13773.773619970456,22551.834078023337,13425.100419853676,10201.771420220353,10566.284611222707,12704.208503780163,13543.002744884,12657.093146444964,11303.951119420319,11062.219153406604,11385.38333433843,11850.765573476843,12294.544919109181,13320.384559121945,13959.141355402673,15213.451180421198,15510.545565605307,18572.511897608652,18667.480696080755,23892.884595914747,27927.023576776548,24114.92904880418,35103.815846407946,29057.60414772434,32243.4774683655,42120.18940816057,38915.8674347001,43055.10979060659,55836.98008727663,65928.13004654006,52655.350739844675,67052.16103176952,60903.312325725754,73186.67221704115,78198.99630037883,97302.93517226788],\"yaxis\":\"y\",\"type\":\"scatter\"},{\"hovertemplate\":\"Module simulation1 standard\",\"legendgroup\":\"WasteAll_Module_Simulation1_standard_[Tonnes]\",\"line\":{\"color\":\"#00cc96\",\"dash\":\"solid\"},\"marker\":{\"symbol\":\"circle\"},\"mode\":\"lines\",\"name\":\"Module simulation1 standard\",\"orientation\":\"v\",\"showlegend\":true,\"x\":[1995,1996,1997,1998,1999,2000,2001,2002,2003,2004,2005,2006,2007,2008,2009,2010,2011,2012,2013,2014,2015,2016,2017,2018,2019,2020,2021,2022,2023,2024,2025,2026,2027,2028,2029,2030,2031,2032,2033,2034,2035,2036,2037,2038,2039,2040,2041,2042,2043,2044,2045,2046,2047,2048,2049,2050],\"xaxis\":\"x\",\"y\":[121.60958580413502,91.29203414385505,106.7486979171142,105.48843089535809,147.66427113835724,179.41623197284278,235.46414023578225,350.9121596515387,484.97224344042513,674.7363134754181,1545.208239516872,1398.6125077715317,2543.907247316307,2471.324256922529,3332.4281756641567,3565.3599171204273,8486.306550910054,15332.33714934562,18906.04672963203,17372.809701844086,27784.586848308532,47098.00424560559,31969.301774685933,26986.308894327973,29602.928347019464,38151.622250624314,40332.2834398056,38277.90365916922,36180.71717845464,38225.963041048526,39766.93250543685,41718.505061957294,41631.79773752856,53032.176251917896,56492.91959678535,69206.31586590088,57711.83574189462,97767.09269944917,77129.23942653732,156410.34680136334,211009.37297950915,105396.82468768166,295519.08966493816,138330.81407413806,164982.25270881428,325827.4985445404,214486.16321438338,250264.38698031538,458265.5850560987,604773.9269043568,275735.5394250804,504344.47947619564,305665.5917854537,483215.2857877799,508652.48476650007,856707.2770459622],\"yaxis\":\"y\",\"type\":\"scatter\"},{\"hovertemplate\":\"Glass simulation1 low quality\",\"legendgroup\":\"WasteAll_glass_Simulation1_low_quality_[Tonnes]\",\"line\":{\"color\":\"#ab63fa\",\"dash\":\"solid\"},\"marker\":{\"symbol\":\"circle\"},\"mode\":\"lines\",\"name\":\"Glass simulation1 low quality\",\"orientation\":\"v\",\"showlegend\":true,\"x\":[1995,1996,1997,1998,1999,2000,2001,2002,2003,2004,2005,2006,2007,2008,2009,2010,2011,2012,2013,2014,2015,2016,2017,2018,2019,2020,2021,2022,2023,2024,2025,2026,2027,2028,2029,2030,2031,2032,2033,2034,2035,2036,2037,2038,2039,2040,2041,2042,2043,2044,2045,2046,2047,2048,2049,2050],\"xaxis\":\"x\",\"y\":[35.574650912996724,27.083240195462096,32.155320505868296,32.410168710496,46.436911754327966,58.1260312154571,78.67218666305253,120.087664082698,170.15940811216106,267.3395191975747,282.4483564602473,300.81130392456953,880.4998094087625,876.1099055146494,1187.219399317668,2383.631800148153,4708.8481363468945,7926.746381129632,9988.6921795289,9331.704985746135,15054.086199838777,25844.11058179567,20411.48805712648,19264.145829805984,22866.817927445667,28171.062336580148,29279.556867906176,38116.29311429527,36243.199198809765,44174.9374354321,60092.624817573625,113263.71809701467,177530.16645054342,224099.74264914353,208333.8548790545,346434.8528574492,611390.2358199117,473765.3438734483,442653.5025200654,509033.47328306886,687525.3440185544,751125.0017366441,718669.9758814602,709624.8474375352,777095.8720843028,833676.3726272304,895707.9909878833,977576.0000089948,1067189.8035531952,1165590.7244336884,1256468.1923750907,1355065.9874898724,1468260.9948436278,1591497.0431387965,1725624.232819417,1871572.917009013],\"yaxis\":\"y\",\"type\":\"scatter\"},{\"hovertemplate\":\"Silicon simulation1 low quality\",\"legendgroup\":\"WasteAll_silicon_Simulation1_low_quality_[Tonnes]\",\"line\":{\"color\":\"#FFA15A\",\"dash\":\"solid\"},\"marker\":{\"symbol\":\"circle\"},\"mode\":\"lines\",\"name\":\"Silicon simulation1 low quality\",\"orientation\":\"v\",\"showlegend\":true,\"x\":[1995,1996,1997,1998,1999,2000,2001,2002,2003,2004,2005,2006,2007,2008,2009,2010,2011,2012,2013,2014,2015,2016,2017,2018,2019,2020,2021,2022,2023,2024,2025,2026,2027,2028,2029,2030,2031,2032,2033,2034,2035,2036,2037,2038,2039,2040,2041,2042,2043,2044,2045,2046,2047,2048,2049,2050],\"xaxis\":\"x\",\"y\":[86.0349348911383,64.20879394839295,74.59337741124591,73.07826218486208,101.22735938402926,121.29020075738569,156.79195357272974,230.8244955688407,314.81283532826404,407.39679427784347,468.25571725518625,529.5098321327665,1735.9729165930476,1686.4334439546865,2254.9569656372914,1822.6223758413205,4225.826932686633,7405.590768215986,8917.35455010313,8041.104716097951,13874.792242265494,22674.613888928852,13597.407286066275,10424.571132926638,10901.480459424281,12872.797585943319,13623.699177782488,13274.712818196313,11808.821706208935,11854.920603161838,13005.622514873603,16251.303419189164,20070.068838013824,22868.18330388265,22411.979257051633,30263.43080187414,45108.65716660862,38692.11572711397,37736.00009846615,41161.2610413031,49289.932512323474,52128.10310482308,51118.24600369135,51499.670617389755,54984.615307905624,58965.37109651855,63293.83454014604,68047.5438130292,73181.68389421862,78736.6775788176,85107.12065656779,92021.1341227429,99843.82709229755,108355.8003240638,117616.4937762363,127690.76291470176],\"yaxis\":\"y\",\"type\":\"scatter\"},{\"hovertemplate\":\"Module simulation1 low quality\",\"legendgroup\":\"WasteAll_Module_Simulation1_low_quality_[Tonnes]\",\"line\":{\"color\":\"#19d3f3\",\"dash\":\"solid\"},\"marker\":{\"symbol\":\"circle\"},\"mode\":\"lines\",\"name\":\"Module simulation1 low quality\",\"orientation\":\"v\",\"showlegend\":true,\"x\":[1995,1996,1997,1998,1999,2000,2001,2002,2003,2004,2005,2006,2007,2008,2009,2010,2011,2012,2013,2014,2015,2016,2017,2018,2019,2020,2021,2022,2023,2024,2025,2026,2027,2028,2029,2030,2031,2032,2033,2034,2035,2036,2037,2038,2039,2040,2041,2042,2043,2044,2045,2046,2047,2048,2049,2050],\"xaxis\":\"x\",\"y\":[121.60958580413502,91.29203414385505,106.7486979171142,105.48843089535809,147.66427113835724,179.41623197284278,235.46414023578225,350.9121596515387,484.97224344042513,674.7363134754181,750.7040737154337,830.321136057336,2616.47272600181,2562.5433494693357,3442.1763649549594,4206.254175989474,8934.675069033527,15332.33714934562,18906.04672963203,17372.809701844086,28928.87844210427,48518.72447072452,34008.89534319276,29688.716962732622,33768.29838686995,41043.859922523465,42903.256045688664,51391.005932491586,48052.020905018704,56029.858038593935,73098.24733244724,129515.02151620384,197600.23528855725,246967.9259530262,230745.83413610613,376698.28365932335,656498.8929865204,512457.45960056223,480389.50261853164,550194.7343243719,736815.2765308779,803253.1048414671,769788.2218851516,761124.5180549249,832080.4873922085,892641.743723749,959001.8255280294,1045623.543822024,1140371.4874474138,1244327.402012506,1341575.3130316585,1447087.1216126152,1568104.8219359254,1699852.8434628602,1843240.7265956532,1999263.6799237146],\"yaxis\":\"y\",\"type\":\"scatter\"}],                        {\"template\":{\"data\":{\"barpolar\":[{\"marker\":{\"line\":{\"color\":\"white\",\"width\":0.5},\"pattern\":{\"fillmode\":\"overlay\",\"size\":10,\"solidity\":0.2}},\"type\":\"barpolar\"}],\"bar\":[{\"error_x\":{\"color\":\"#2a3f5f\"},\"error_y\":{\"color\":\"#2a3f5f\"},\"marker\":{\"line\":{\"color\":\"white\",\"width\":0.5},\"pattern\":{\"fillmode\":\"overlay\",\"size\":10,\"solidity\":0.2}},\"type\":\"bar\"}],\"carpet\":[{\"aaxis\":{\"endlinecolor\":\"#2a3f5f\",\"gridcolor\":\"#C8D4E3\",\"linecolor\":\"#C8D4E3\",\"minorgridcolor\":\"#C8D4E3\",\"startlinecolor\":\"#2a3f5f\"},\"baxis\":{\"endlinecolor\":\"#2a3f5f\",\"gridcolor\":\"#C8D4E3\",\"linecolor\":\"#C8D4E3\",\"minorgridcolor\":\"#C8D4E3\",\"startlinecolor\":\"#2a3f5f\"},\"type\":\"carpet\"}],\"choropleth\":[{\"colorbar\":{\"outlinewidth\":0,\"ticks\":\"\"},\"type\":\"choropleth\"}],\"contourcarpet\":[{\"colorbar\":{\"outlinewidth\":0,\"ticks\":\"\"},\"type\":\"contourcarpet\"}],\"contour\":[{\"colorbar\":{\"outlinewidth\":0,\"ticks\":\"\"},\"colorscale\":[[0.0,\"#0d0887\"],[0.1111111111111111,\"#46039f\"],[0.2222222222222222,\"#7201a8\"],[0.3333333333333333,\"#9c179e\"],[0.4444444444444444,\"#bd3786\"],[0.5555555555555556,\"#d8576b\"],[0.6666666666666666,\"#ed7953\"],[0.7777777777777778,\"#fb9f3a\"],[0.8888888888888888,\"#fdca26\"],[1.0,\"#f0f921\"]],\"type\":\"contour\"}],\"heatmapgl\":[{\"colorbar\":{\"outlinewidth\":0,\"ticks\":\"\"},\"colorscale\":[[0.0,\"#0d0887\"],[0.1111111111111111,\"#46039f\"],[0.2222222222222222,\"#7201a8\"],[0.3333333333333333,\"#9c179e\"],[0.4444444444444444,\"#bd3786\"],[0.5555555555555556,\"#d8576b\"],[0.6666666666666666,\"#ed7953\"],[0.7777777777777778,\"#fb9f3a\"],[0.8888888888888888,\"#fdca26\"],[1.0,\"#f0f921\"]],\"type\":\"heatmapgl\"}],\"heatmap\":[{\"colorbar\":{\"outlinewidth\":0,\"ticks\":\"\"},\"colorscale\":[[0.0,\"#0d0887\"],[0.1111111111111111,\"#46039f\"],[0.2222222222222222,\"#7201a8\"],[0.3333333333333333,\"#9c179e\"],[0.4444444444444444,\"#bd3786\"],[0.5555555555555556,\"#d8576b\"],[0.6666666666666666,\"#ed7953\"],[0.7777777777777778,\"#fb9f3a\"],[0.8888888888888888,\"#fdca26\"],[1.0,\"#f0f921\"]],\"type\":\"heatmap\"}],\"histogram2dcontour\":[{\"colorbar\":{\"outlinewidth\":0,\"ticks\":\"\"},\"colorscale\":[[0.0,\"#0d0887\"],[0.1111111111111111,\"#46039f\"],[0.2222222222222222,\"#7201a8\"],[0.3333333333333333,\"#9c179e\"],[0.4444444444444444,\"#bd3786\"],[0.5555555555555556,\"#d8576b\"],[0.6666666666666666,\"#ed7953\"],[0.7777777777777778,\"#fb9f3a\"],[0.8888888888888888,\"#fdca26\"],[1.0,\"#f0f921\"]],\"type\":\"histogram2dcontour\"}],\"histogram2d\":[{\"colorbar\":{\"outlinewidth\":0,\"ticks\":\"\"},\"colorscale\":[[0.0,\"#0d0887\"],[0.1111111111111111,\"#46039f\"],[0.2222222222222222,\"#7201a8\"],[0.3333333333333333,\"#9c179e\"],[0.4444444444444444,\"#bd3786\"],[0.5555555555555556,\"#d8576b\"],[0.6666666666666666,\"#ed7953\"],[0.7777777777777778,\"#fb9f3a\"],[0.8888888888888888,\"#fdca26\"],[1.0,\"#f0f921\"]],\"type\":\"histogram2d\"}],\"histogram\":[{\"marker\":{\"pattern\":{\"fillmode\":\"overlay\",\"size\":10,\"solidity\":0.2}},\"type\":\"histogram\"}],\"mesh3d\":[{\"colorbar\":{\"outlinewidth\":0,\"ticks\":\"\"},\"type\":\"mesh3d\"}],\"parcoords\":[{\"line\":{\"colorbar\":{\"outlinewidth\":0,\"ticks\":\"\"}},\"type\":\"parcoords\"}],\"pie\":[{\"automargin\":true,\"type\":\"pie\"}],\"scatter3d\":[{\"line\":{\"colorbar\":{\"outlinewidth\":0,\"ticks\":\"\"}},\"marker\":{\"colorbar\":{\"outlinewidth\":0,\"ticks\":\"\"}},\"type\":\"scatter3d\"}],\"scattercarpet\":[{\"marker\":{\"colorbar\":{\"outlinewidth\":0,\"ticks\":\"\"}},\"type\":\"scattercarpet\"}],\"scattergeo\":[{\"marker\":{\"colorbar\":{\"outlinewidth\":0,\"ticks\":\"\"}},\"type\":\"scattergeo\"}],\"scattergl\":[{\"marker\":{\"colorbar\":{\"outlinewidth\":0,\"ticks\":\"\"}},\"type\":\"scattergl\"}],\"scattermapbox\":[{\"marker\":{\"colorbar\":{\"outlinewidth\":0,\"ticks\":\"\"}},\"type\":\"scattermapbox\"}],\"scatterpolargl\":[{\"marker\":{\"colorbar\":{\"outlinewidth\":0,\"ticks\":\"\"}},\"type\":\"scatterpolargl\"}],\"scatterpolar\":[{\"marker\":{\"colorbar\":{\"outlinewidth\":0,\"ticks\":\"\"}},\"type\":\"scatterpolar\"}],\"scatter\":[{\"fillpattern\":{\"fillmode\":\"overlay\",\"size\":10,\"solidity\":0.2},\"type\":\"scatter\"}],\"scatterternary\":[{\"marker\":{\"colorbar\":{\"outlinewidth\":0,\"ticks\":\"\"}},\"type\":\"scatterternary\"}],\"surface\":[{\"colorbar\":{\"outlinewidth\":0,\"ticks\":\"\"},\"colorscale\":[[0.0,\"#0d0887\"],[0.1111111111111111,\"#46039f\"],[0.2222222222222222,\"#7201a8\"],[0.3333333333333333,\"#9c179e\"],[0.4444444444444444,\"#bd3786\"],[0.5555555555555556,\"#d8576b\"],[0.6666666666666666,\"#ed7953\"],[0.7777777777777778,\"#fb9f3a\"],[0.8888888888888888,\"#fdca26\"],[1.0,\"#f0f921\"]],\"type\":\"surface\"}],\"table\":[{\"cells\":{\"fill\":{\"color\":\"#EBF0F8\"},\"line\":{\"color\":\"white\"}},\"header\":{\"fill\":{\"color\":\"#C8D4E3\"},\"line\":{\"color\":\"white\"}},\"type\":\"table\"}]},\"layout\":{\"annotationdefaults\":{\"arrowcolor\":\"#2a3f5f\",\"arrowhead\":0,\"arrowwidth\":1},\"autotypenumbers\":\"strict\",\"coloraxis\":{\"colorbar\":{\"outlinewidth\":0,\"ticks\":\"\"}},\"colorscale\":{\"diverging\":[[0,\"#8e0152\"],[0.1,\"#c51b7d\"],[0.2,\"#de77ae\"],[0.3,\"#f1b6da\"],[0.4,\"#fde0ef\"],[0.5,\"#f7f7f7\"],[0.6,\"#e6f5d0\"],[0.7,\"#b8e186\"],[0.8,\"#7fbc41\"],[0.9,\"#4d9221\"],[1,\"#276419\"]],\"sequential\":[[0.0,\"#0d0887\"],[0.1111111111111111,\"#46039f\"],[0.2222222222222222,\"#7201a8\"],[0.3333333333333333,\"#9c179e\"],[0.4444444444444444,\"#bd3786\"],[0.5555555555555556,\"#d8576b\"],[0.6666666666666666,\"#ed7953\"],[0.7777777777777778,\"#fb9f3a\"],[0.8888888888888888,\"#fdca26\"],[1.0,\"#f0f921\"]],\"sequentialminus\":[[0.0,\"#0d0887\"],[0.1111111111111111,\"#46039f\"],[0.2222222222222222,\"#7201a8\"],[0.3333333333333333,\"#9c179e\"],[0.4444444444444444,\"#bd3786\"],[0.5555555555555556,\"#d8576b\"],[0.6666666666666666,\"#ed7953\"],[0.7777777777777778,\"#fb9f3a\"],[0.8888888888888888,\"#fdca26\"],[1.0,\"#f0f921\"]]},\"colorway\":[\"#636efa\",\"#EF553B\",\"#00cc96\",\"#ab63fa\",\"#FFA15A\",\"#19d3f3\",\"#FF6692\",\"#B6E880\",\"#FF97FF\",\"#FECB52\"],\"font\":{\"color\":\"#2a3f5f\"},\"geo\":{\"bgcolor\":\"white\",\"lakecolor\":\"white\",\"landcolor\":\"white\",\"showlakes\":true,\"showland\":true,\"subunitcolor\":\"#C8D4E3\"},\"hoverlabel\":{\"align\":\"left\"},\"hovermode\":\"closest\",\"mapbox\":{\"style\":\"light\"},\"paper_bgcolor\":\"white\",\"plot_bgcolor\":\"white\",\"polar\":{\"angularaxis\":{\"gridcolor\":\"#EBF0F8\",\"linecolor\":\"#EBF0F8\",\"ticks\":\"\"},\"bgcolor\":\"white\",\"radialaxis\":{\"gridcolor\":\"#EBF0F8\",\"linecolor\":\"#EBF0F8\",\"ticks\":\"\"}},\"scene\":{\"xaxis\":{\"backgroundcolor\":\"white\",\"gridcolor\":\"#DFE8F3\",\"gridwidth\":2,\"linecolor\":\"#EBF0F8\",\"showbackground\":true,\"ticks\":\"\",\"zerolinecolor\":\"#EBF0F8\"},\"yaxis\":{\"backgroundcolor\":\"white\",\"gridcolor\":\"#DFE8F3\",\"gridwidth\":2,\"linecolor\":\"#EBF0F8\",\"showbackground\":true,\"ticks\":\"\",\"zerolinecolor\":\"#EBF0F8\"},\"zaxis\":{\"backgroundcolor\":\"white\",\"gridcolor\":\"#DFE8F3\",\"gridwidth\":2,\"linecolor\":\"#EBF0F8\",\"showbackground\":true,\"ticks\":\"\",\"zerolinecolor\":\"#EBF0F8\"}},\"shapedefaults\":{\"line\":{\"color\":\"#2a3f5f\"}},\"ternary\":{\"aaxis\":{\"gridcolor\":\"#DFE8F3\",\"linecolor\":\"#A2B1C6\",\"ticks\":\"\"},\"baxis\":{\"gridcolor\":\"#DFE8F3\",\"linecolor\":\"#A2B1C6\",\"ticks\":\"\"},\"bgcolor\":\"white\",\"caxis\":{\"gridcolor\":\"#DFE8F3\",\"linecolor\":\"#A2B1C6\",\"ticks\":\"\"}},\"title\":{\"x\":0.05},\"xaxis\":{\"automargin\":true,\"gridcolor\":\"#EBF0F8\",\"linecolor\":\"#EBF0F8\",\"ticks\":\"\",\"title\":{\"standoff\":15},\"zerolinecolor\":\"#EBF0F8\",\"zerolinewidth\":2},\"yaxis\":{\"automargin\":true,\"gridcolor\":\"#EBF0F8\",\"linecolor\":\"#EBF0F8\",\"ticks\":\"\",\"title\":{\"standoff\":15},\"zerolinecolor\":\"#EBF0F8\",\"zerolinewidth\":2}}},\"xaxis\":{\"anchor\":\"y\",\"domain\":[0.0,1.0],\"title\":{\"text\":\"Year\"}},\"yaxis\":{\"anchor\":\"x\",\"domain\":[0.0,1.0],\"title\":{\"text\":\"[Tonnes]\"}},\"legend\":{\"title\":{\"text\":\"variable\"},\"tracegroupgap\":0},\"margin\":{\"t\":60},\"title\":{\"text\":\"Yearly Waste All\"}},                        {\"responsive\": true}                    ).then(function(){\n",
       "                            \n",
       "var gd = document.getElementById('0167531f-1f20-4161-b5f8-e8725a4f046d');\n",
       "var x = new MutationObserver(function (mutations, observer) {{\n",
       "        var display = window.getComputedStyle(gd).display;\n",
       "        if (!display || display === 'none') {{\n",
       "            console.log([gd, 'removed!']);\n",
       "            Plotly.purge(gd);\n",
       "            observer.disconnect();\n",
       "        }}\n",
       "}});\n",
       "\n",
       "// Listen for the removal of the full notebook cells\n",
       "var notebookContainer = gd.closest('#notebook-container');\n",
       "if (notebookContainer) {{\n",
       "    x.observe(notebookContainer, {childList: true});\n",
       "}}\n",
       "\n",
       "// Listen for the clearing of the current output cell\n",
       "var outputEl = gd.closest('.output');\n",
       "if (outputEl) {{\n",
       "    x.observe(outputEl, {childList: true});\n",
       "}}\n",
       "\n",
       "                        })                };                });            </script>        </div>"
      ]
     },
     "metadata": {},
     "output_type": "display_data"
    },
    {
     "data": {
      "application/vnd.plotly.v1+json": {
       "config": {
        "plotlyServerURL": "https://plot.ly"
       },
       "data": [
        {
         "hovertemplate": "Glass simulation1 standard",
         "legendgroup": "WasteEOL_glass_Simulation1_standard_[Tonnes]",
         "line": {
          "color": "#636efa",
          "dash": "solid"
         },
         "marker": {
          "symbol": "circle"
         },
         "mode": "lines",
         "name": "Glass simulation1 standard",
         "orientation": "v",
         "showlegend": true,
         "type": "scatter",
         "x": [
          1995,
          1996,
          1997,
          1998,
          1999,
          2000,
          2001,
          2002,
          2003,
          2004,
          2005,
          2006,
          2007,
          2008,
          2009,
          2010,
          2011,
          2012,
          2013,
          2014,
          2015,
          2016,
          2017,
          2018,
          2019,
          2020,
          2021,
          2022,
          2023,
          2024,
          2025,
          2026,
          2027,
          2028,
          2029,
          2030,
          2031,
          2032,
          2033,
          2034,
          2035,
          2036,
          2037,
          2038,
          2039,
          2040,
          2041,
          2042,
          2043,
          2044,
          2045,
          2046,
          2047,
          2048,
          2049,
          2050
         ],
         "xaxis": "x",
         "y": [
          0,
          0.0026207606793797566,
          0.055274472417310115,
          0.3194365201426828,
          1.0693798383490332,
          2.652196524108783,
          5.469495060095664,
          9.969284715682644,
          16.638800766143998,
          25.995653624511206,
          756.0596988486399,
          569.1907351995022,
          10.192804386972128,
          19.490721918194236,
          35.65554099605963,
          62.72689953232399,
          106.36354891284851,
          777.6185550114133,
          832.2259526887522,
          1167.1930798951053,
          421.4950473062555,
          641.1834628292779,
          937.9932290822321,
          1322.9078350671425,
          1802.1923161536677,
          2844.5447895257144,
          3519.7001646063154,
          4410.960501264421,
          5377.437642695188,
          6759.218133151167,
          7532.579558758384,
          9124.731070588721,
          7894.046149579879,
          17592.07672362038,
          20480.752212619645,
          31743.337570818443,
          18216.9343832938,
          53211.15556822831,
          30301.782995026868,
          101988.46447962476,
          149975.44618829322,
          45370.2705977384,
          221452.54150517136,
          66991.6488688772,
          86847.41534602885,
          233889.85809187603,
          121482.88866203367,
          148478.03222642117,
          338646.9674077443,
          469571.65171346127,
          147832.72120797876,
          355548.5998151204,
          155953.5527932489,
          313536.254359703,
          325604.6090786411,
          645467.0102492195
         ],
         "yaxis": "y"
        },
        {
         "hovertemplate": "Silicon simulation1 standard",
         "legendgroup": "WasteEOL_silicon_Simulation1_standard_[Tonnes]",
         "line": {
          "color": "#EF553B",
          "dash": "solid"
         },
         "marker": {
          "symbol": "circle"
         },
         "mode": "lines",
         "name": "Silicon simulation1 standard",
         "orientation": "v",
         "showlegend": true,
         "type": "scatter",
         "x": [
          1995,
          1996,
          1997,
          1998,
          1999,
          2000,
          2001,
          2002,
          2003,
          2004,
          2005,
          2006,
          2007,
          2008,
          2009,
          2010,
          2011,
          2012,
          2013,
          2014,
          2015,
          2016,
          2017,
          2018,
          2019,
          2020,
          2021,
          2022,
          2023,
          2024,
          2025,
          2026,
          2027,
          2028,
          2029,
          2030,
          2031,
          2032,
          2033,
          2034,
          2035,
          2036,
          2037,
          2038,
          2039,
          2040,
          2041,
          2042,
          2043,
          2044,
          2045,
          2046,
          2047,
          2048,
          2049,
          2050
         ],
         "xaxis": "x",
         "y": [
          0,
          0.000281347586394847,
          0.00592970346717858,
          0.034207206014485805,
          0.11435321885697376,
          0.2833298346995071,
          0.5838445987723657,
          1.0633971424277155,
          1.7733314674644223,
          2.767556117955942,
          81.12500886061443,
          59.884496876790685,
          1.0225105386938296,
          1.9393172650639456,
          3.509209063800367,
          6.089069431480864,
          10.158648766293336,
          78.58356500941005,
          81.52845577565863,
          111.5266016372707,
          34.880805489515446,
          52.244386563948936,
          75.21093591927136,
          104.23793855957763,
          139.2191958700251,
          224.7222110170365,
          268.4481585432955,
          326.19717367568387,
          383.0731626675618,
          467.75378565396494,
          460.6270748683574,
          505.7977808608969,
          421.0269703518681,
          955.1952065988072,
          1079.8589027279365,
          1673.5620634712463,
          950.5823938802997,
          2798.9919522804425,
          1572.6621750736124,
          5359.9255957199675,
          7829.119105526321,
          2314.3877898022242,
          11451.066844162135,
          3390.1241806133708,
          4384.629987531077,
          11877.96573630278,
          6081.520642819255,
          7401.670895876838,
          17117.645620398347,
          23874.509313098777,
          6975.559934106295,
          17428.750545584233,
          6991.012126720653,
          14609.939592192473,
          14549.347518727343,
          28136.042942398202
         ],
         "yaxis": "y"
        },
        {
         "hovertemplate": "Module simulation1 standard",
         "legendgroup": "WasteEOL_Module_Simulation1_standard_[Tonnes]",
         "line": {
          "color": "#00cc96",
          "dash": "solid"
         },
         "marker": {
          "symbol": "circle"
         },
         "mode": "lines",
         "name": "Module simulation1 standard",
         "orientation": "v",
         "showlegend": true,
         "type": "scatter",
         "x": [
          1995,
          1996,
          1997,
          1998,
          1999,
          2000,
          2001,
          2002,
          2003,
          2004,
          2005,
          2006,
          2007,
          2008,
          2009,
          2010,
          2011,
          2012,
          2013,
          2014,
          2015,
          2016,
          2017,
          2018,
          2019,
          2020,
          2021,
          2022,
          2023,
          2024,
          2025,
          2026,
          2027,
          2028,
          2029,
          2030,
          2031,
          2032,
          2033,
          2034,
          2035,
          2036,
          2037,
          2038,
          2039,
          2040,
          2041,
          2042,
          2043,
          2044,
          2045,
          2046,
          2047,
          2048,
          2049,
          2050
         ],
         "xaxis": "x",
         "y": [
          0,
          0.0029021082657746037,
          0.06120417588448869,
          0.3536437261571686,
          1.183733057206007,
          2.93552635880829,
          6.05333965886803,
          11.032681858110362,
          18.412132233608418,
          28.763209742467147,
          837.1847077092542,
          629.0752320762929,
          11.215314925665957,
          21.43003918325818,
          39.16475005985999,
          68.81596896380485,
          116.52219767914185,
          856.2021200208233,
          913.7544084644107,
          1278.719681532376,
          456.3758527957709,
          693.4278493932269,
          1013.2041650015035,
          1427.1457736267203,
          1941.411512023693,
          3069.267000542751,
          3788.148323149611,
          4737.157674940105,
          5760.510805362749,
          7226.971918805133,
          7993.206633626743,
          9630.528851449617,
          8315.073119931747,
          18547.271930219187,
          21560.61111534758,
          33416.899634289686,
          19167.5167771741,
          56010.14752050875,
          31874.44517010048,
          107348.39007534472,
          157804.56529381953,
          47684.65838754063,
          232903.6083493335,
          70381.77304949056,
          91232.04533355993,
          245767.82382817884,
          127564.40930485293,
          155879.703122298,
          355764.6130281427,
          493446.16102656,
          154808.28114208506,
          372977.35036070464,
          162944.56491996953,
          328146.19395189546,
          340153.95659736847,
          673603.0531916177
         ],
         "yaxis": "y"
        },
        {
         "hovertemplate": "Glass simulation1 low quality",
         "legendgroup": "WasteEOL_glass_Simulation1_low_quality_[Tonnes]",
         "line": {
          "color": "#ab63fa",
          "dash": "solid"
         },
         "marker": {
          "symbol": "circle"
         },
         "mode": "lines",
         "name": "Glass simulation1 low quality",
         "orientation": "v",
         "showlegend": true,
         "type": "scatter",
         "x": [
          1995,
          1996,
          1997,
          1998,
          1999,
          2000,
          2001,
          2002,
          2003,
          2004,
          2005,
          2006,
          2007,
          2008,
          2009,
          2010,
          2011,
          2012,
          2013,
          2014,
          2015,
          2016,
          2017,
          2018,
          2019,
          2020,
          2021,
          2022,
          2023,
          2024,
          2025,
          2026,
          2027,
          2028,
          2029,
          2030,
          2031,
          2032,
          2033,
          2034,
          2035,
          2036,
          2037,
          2038,
          2039,
          2040,
          2041,
          2042,
          2043,
          2044,
          2045,
          2046,
          2047,
          2048,
          2049,
          2050
         ],
         "xaxis": "x",
         "y": [
          0,
          0.0026207606793797566,
          0.055274472417310115,
          0.3194365201426828,
          1.0693798383490332,
          2.652196524108783,
          5.469495060095664,
          9.969284715682644,
          16.638800766143998,
          25.995653624511206,
          38.579478730090365,
          54.95468437000582,
          75.76956464779083,
          101.92620998121808,
          134.8379192107421,
          641.5763865915205,
          512.0357062631728,
          777.6185550114133,
          832.2259526887522,
          1167.1930798951053,
          1464.7680188069533,
          1939.123877042693,
          2805.2799313764585,
          3802.516190765508,
          5632.366507802578,
          5568.193379261713,
          6009.976337590892,
          16906.443102835434,
          16743.87078247064,
          23770.411680941354,
          39243.65520523359,
          92520.70967912296,
          156086.95978170392,
          201980.02767996796,
          186280.82885029147,
          324185.325742788,
          587405.8800269163,
          447781.91863983613,
          414493.52678463573,
          478504.475557245,
          654418.440804115,
          715213.376695505,
          679707.2435681013,
          667343.2863799987,
          731204.5121898829,
          783858.9215827266,
          841620.5838702336,
          918844.7550457072,
          1003408.1659921176,
          1096316.579289333,
          1181220.7248978338,
          1273322.2688605667,
          1379452.2681771487,
          1495004.6839277607,
          1620775.353431937,
          1757635.5853845382
         ],
         "yaxis": "y"
        },
        {
         "hovertemplate": "Silicon simulation1 low quality",
         "legendgroup": "WasteEOL_silicon_Simulation1_low_quality_[Tonnes]",
         "line": {
          "color": "#FFA15A",
          "dash": "solid"
         },
         "marker": {
          "symbol": "circle"
         },
         "mode": "lines",
         "name": "Silicon simulation1 low quality",
         "orientation": "v",
         "showlegend": true,
         "type": "scatter",
         "x": [
          1995,
          1996,
          1997,
          1998,
          1999,
          2000,
          2001,
          2002,
          2003,
          2004,
          2005,
          2006,
          2007,
          2008,
          2009,
          2010,
          2011,
          2012,
          2013,
          2014,
          2015,
          2016,
          2017,
          2018,
          2019,
          2020,
          2021,
          2022,
          2023,
          2024,
          2025,
          2026,
          2027,
          2028,
          2029,
          2030,
          2031,
          2032,
          2033,
          2034,
          2035,
          2036,
          2037,
          2038,
          2039,
          2040,
          2041,
          2042,
          2043,
          2044,
          2045,
          2046,
          2047,
          2048,
          2049,
          2050
         ],
         "xaxis": "x",
         "y": [
          0,
          0.000281347586394847,
          0.00592970346717858,
          0.034207206014485805,
          0.11435321885697376,
          0.2833298346995071,
          0.5838445987723657,
          1.0633971424277155,
          1.7733314674644223,
          2.767556117955942,
          4.101063177725497,
          5.829175992091598,
          8.011228963378388,
          10.722921748846854,
          14.075020139920873,
          68.13384124133108,
          52.85500953944315,
          78.58356500941005,
          81.52845577565863,
          111.5266016372707,
          135.8994277845527,
          175.0241974694645,
          247.51780213186964,
          327.03765126586126,
          474.4150440715997,
          393.3112931801922,
          349.1445914417842,
          943.8168454270324,
          887.9437494561786,
          1260.4552354091986,
          2080.866255403531,
          4906.335626573216,
          8196.550889256512,
          10502.993951359513,
          9532.696804376894,
          16723.54168492419,
          30548.693994883615,
          22918.595781785756,
          20641.181577459014,
          22628.302041108316,
          29192.02804107325,
          30327.561845821125,
          27465.49700144553,
          25832.190650278786,
          27125.7678270712,
          28723.147424660772,
          30459.487748265194,
          32394.104918299447,
          34462.349427340334,
          36683.05684537631,
          39427.32985082939,
          42397.7236365576,
          45931.52689329245,
          49779.06769921513,
          53966.844994584804,
          58523.87068483208
         ],
         "yaxis": "y"
        },
        {
         "hovertemplate": "Module simulation1 low quality",
         "legendgroup": "WasteEOL_Module_Simulation1_low_quality_[Tonnes]",
         "line": {
          "color": "#19d3f3",
          "dash": "solid"
         },
         "marker": {
          "symbol": "circle"
         },
         "mode": "lines",
         "name": "Module simulation1 low quality",
         "orientation": "v",
         "showlegend": true,
         "type": "scatter",
         "x": [
          1995,
          1996,
          1997,
          1998,
          1999,
          2000,
          2001,
          2002,
          2003,
          2004,
          2005,
          2006,
          2007,
          2008,
          2009,
          2010,
          2011,
          2012,
          2013,
          2014,
          2015,
          2016,
          2017,
          2018,
          2019,
          2020,
          2021,
          2022,
          2023,
          2024,
          2025,
          2026,
          2027,
          2028,
          2029,
          2030,
          2031,
          2032,
          2033,
          2034,
          2035,
          2036,
          2037,
          2038,
          2039,
          2040,
          2041,
          2042,
          2043,
          2044,
          2045,
          2046,
          2047,
          2048,
          2049,
          2050
         ],
         "xaxis": "x",
         "y": [
          0,
          0.0029021082657746037,
          0.06120417588448869,
          0.3536437261571686,
          1.183733057206007,
          2.93552635880829,
          6.05333965886803,
          11.032681858110362,
          18.412132233608418,
          28.763209742467147,
          42.68054190781586,
          60.78386036209742,
          83.78079361116922,
          112.64913173006494,
          148.91293935066295,
          709.7102278328516,
          564.8907158026159,
          856.2021200208233,
          913.7544084644107,
          1278.719681532376,
          1600.667446591506,
          2114.1480745121576,
          3052.7977335083283,
          4129.55384203137,
          6106.781551874178,
          5961.504672441905,
          6359.120929032677,
          17850.25994826246,
          17631.814531926815,
          25030.86691635055,
          41324.52146063712,
          97427.04530569617,
          164283.51067096042,
          212483.02163132746,
          195813.52565466837,
          340908.86742771213,
          617954.5740218,
          470700.51442162186,
          435134.7083620947,
          501132.77759835334,
          683610.4688451883,
          745540.9385413262,
          707172.7405695468,
          693175.4770302775,
          758330.280016954,
          812582.0690073875,
          872080.0716184988,
          951238.8599640067,
          1037870.5154194579,
          1132999.6361347092,
          1220648.054748663,
          1315719.9924971242,
          1425383.7950704412,
          1544783.7516269758,
          1674742.1984265216,
          1816159.45606937
         ],
         "yaxis": "y"
        }
       ],
       "layout": {
        "legend": {
         "title": {
          "text": "variable"
         },
         "tracegroupgap": 0
        },
        "margin": {
         "t": 60
        },
        "template": {
         "data": {
          "bar": [
           {
            "error_x": {
             "color": "#2a3f5f"
            },
            "error_y": {
             "color": "#2a3f5f"
            },
            "marker": {
             "line": {
              "color": "white",
              "width": 0.5
             },
             "pattern": {
              "fillmode": "overlay",
              "size": 10,
              "solidity": 0.2
             }
            },
            "type": "bar"
           }
          ],
          "barpolar": [
           {
            "marker": {
             "line": {
              "color": "white",
              "width": 0.5
             },
             "pattern": {
              "fillmode": "overlay",
              "size": 10,
              "solidity": 0.2
             }
            },
            "type": "barpolar"
           }
          ],
          "carpet": [
           {
            "aaxis": {
             "endlinecolor": "#2a3f5f",
             "gridcolor": "#C8D4E3",
             "linecolor": "#C8D4E3",
             "minorgridcolor": "#C8D4E3",
             "startlinecolor": "#2a3f5f"
            },
            "baxis": {
             "endlinecolor": "#2a3f5f",
             "gridcolor": "#C8D4E3",
             "linecolor": "#C8D4E3",
             "minorgridcolor": "#C8D4E3",
             "startlinecolor": "#2a3f5f"
            },
            "type": "carpet"
           }
          ],
          "choropleth": [
           {
            "colorbar": {
             "outlinewidth": 0,
             "ticks": ""
            },
            "type": "choropleth"
           }
          ],
          "contour": [
           {
            "colorbar": {
             "outlinewidth": 0,
             "ticks": ""
            },
            "colorscale": [
             [
              0,
              "#0d0887"
             ],
             [
              0.1111111111111111,
              "#46039f"
             ],
             [
              0.2222222222222222,
              "#7201a8"
             ],
             [
              0.3333333333333333,
              "#9c179e"
             ],
             [
              0.4444444444444444,
              "#bd3786"
             ],
             [
              0.5555555555555556,
              "#d8576b"
             ],
             [
              0.6666666666666666,
              "#ed7953"
             ],
             [
              0.7777777777777778,
              "#fb9f3a"
             ],
             [
              0.8888888888888888,
              "#fdca26"
             ],
             [
              1,
              "#f0f921"
             ]
            ],
            "type": "contour"
           }
          ],
          "contourcarpet": [
           {
            "colorbar": {
             "outlinewidth": 0,
             "ticks": ""
            },
            "type": "contourcarpet"
           }
          ],
          "heatmap": [
           {
            "colorbar": {
             "outlinewidth": 0,
             "ticks": ""
            },
            "colorscale": [
             [
              0,
              "#0d0887"
             ],
             [
              0.1111111111111111,
              "#46039f"
             ],
             [
              0.2222222222222222,
              "#7201a8"
             ],
             [
              0.3333333333333333,
              "#9c179e"
             ],
             [
              0.4444444444444444,
              "#bd3786"
             ],
             [
              0.5555555555555556,
              "#d8576b"
             ],
             [
              0.6666666666666666,
              "#ed7953"
             ],
             [
              0.7777777777777778,
              "#fb9f3a"
             ],
             [
              0.8888888888888888,
              "#fdca26"
             ],
             [
              1,
              "#f0f921"
             ]
            ],
            "type": "heatmap"
           }
          ],
          "heatmapgl": [
           {
            "colorbar": {
             "outlinewidth": 0,
             "ticks": ""
            },
            "colorscale": [
             [
              0,
              "#0d0887"
             ],
             [
              0.1111111111111111,
              "#46039f"
             ],
             [
              0.2222222222222222,
              "#7201a8"
             ],
             [
              0.3333333333333333,
              "#9c179e"
             ],
             [
              0.4444444444444444,
              "#bd3786"
             ],
             [
              0.5555555555555556,
              "#d8576b"
             ],
             [
              0.6666666666666666,
              "#ed7953"
             ],
             [
              0.7777777777777778,
              "#fb9f3a"
             ],
             [
              0.8888888888888888,
              "#fdca26"
             ],
             [
              1,
              "#f0f921"
             ]
            ],
            "type": "heatmapgl"
           }
          ],
          "histogram": [
           {
            "marker": {
             "pattern": {
              "fillmode": "overlay",
              "size": 10,
              "solidity": 0.2
             }
            },
            "type": "histogram"
           }
          ],
          "histogram2d": [
           {
            "colorbar": {
             "outlinewidth": 0,
             "ticks": ""
            },
            "colorscale": [
             [
              0,
              "#0d0887"
             ],
             [
              0.1111111111111111,
              "#46039f"
             ],
             [
              0.2222222222222222,
              "#7201a8"
             ],
             [
              0.3333333333333333,
              "#9c179e"
             ],
             [
              0.4444444444444444,
              "#bd3786"
             ],
             [
              0.5555555555555556,
              "#d8576b"
             ],
             [
              0.6666666666666666,
              "#ed7953"
             ],
             [
              0.7777777777777778,
              "#fb9f3a"
             ],
             [
              0.8888888888888888,
              "#fdca26"
             ],
             [
              1,
              "#f0f921"
             ]
            ],
            "type": "histogram2d"
           }
          ],
          "histogram2dcontour": [
           {
            "colorbar": {
             "outlinewidth": 0,
             "ticks": ""
            },
            "colorscale": [
             [
              0,
              "#0d0887"
             ],
             [
              0.1111111111111111,
              "#46039f"
             ],
             [
              0.2222222222222222,
              "#7201a8"
             ],
             [
              0.3333333333333333,
              "#9c179e"
             ],
             [
              0.4444444444444444,
              "#bd3786"
             ],
             [
              0.5555555555555556,
              "#d8576b"
             ],
             [
              0.6666666666666666,
              "#ed7953"
             ],
             [
              0.7777777777777778,
              "#fb9f3a"
             ],
             [
              0.8888888888888888,
              "#fdca26"
             ],
             [
              1,
              "#f0f921"
             ]
            ],
            "type": "histogram2dcontour"
           }
          ],
          "mesh3d": [
           {
            "colorbar": {
             "outlinewidth": 0,
             "ticks": ""
            },
            "type": "mesh3d"
           }
          ],
          "parcoords": [
           {
            "line": {
             "colorbar": {
              "outlinewidth": 0,
              "ticks": ""
             }
            },
            "type": "parcoords"
           }
          ],
          "pie": [
           {
            "automargin": true,
            "type": "pie"
           }
          ],
          "scatter": [
           {
            "fillpattern": {
             "fillmode": "overlay",
             "size": 10,
             "solidity": 0.2
            },
            "type": "scatter"
           }
          ],
          "scatter3d": [
           {
            "line": {
             "colorbar": {
              "outlinewidth": 0,
              "ticks": ""
             }
            },
            "marker": {
             "colorbar": {
              "outlinewidth": 0,
              "ticks": ""
             }
            },
            "type": "scatter3d"
           }
          ],
          "scattercarpet": [
           {
            "marker": {
             "colorbar": {
              "outlinewidth": 0,
              "ticks": ""
             }
            },
            "type": "scattercarpet"
           }
          ],
          "scattergeo": [
           {
            "marker": {
             "colorbar": {
              "outlinewidth": 0,
              "ticks": ""
             }
            },
            "type": "scattergeo"
           }
          ],
          "scattergl": [
           {
            "marker": {
             "colorbar": {
              "outlinewidth": 0,
              "ticks": ""
             }
            },
            "type": "scattergl"
           }
          ],
          "scattermapbox": [
           {
            "marker": {
             "colorbar": {
              "outlinewidth": 0,
              "ticks": ""
             }
            },
            "type": "scattermapbox"
           }
          ],
          "scatterpolar": [
           {
            "marker": {
             "colorbar": {
              "outlinewidth": 0,
              "ticks": ""
             }
            },
            "type": "scatterpolar"
           }
          ],
          "scatterpolargl": [
           {
            "marker": {
             "colorbar": {
              "outlinewidth": 0,
              "ticks": ""
             }
            },
            "type": "scatterpolargl"
           }
          ],
          "scatterternary": [
           {
            "marker": {
             "colorbar": {
              "outlinewidth": 0,
              "ticks": ""
             }
            },
            "type": "scatterternary"
           }
          ],
          "surface": [
           {
            "colorbar": {
             "outlinewidth": 0,
             "ticks": ""
            },
            "colorscale": [
             [
              0,
              "#0d0887"
             ],
             [
              0.1111111111111111,
              "#46039f"
             ],
             [
              0.2222222222222222,
              "#7201a8"
             ],
             [
              0.3333333333333333,
              "#9c179e"
             ],
             [
              0.4444444444444444,
              "#bd3786"
             ],
             [
              0.5555555555555556,
              "#d8576b"
             ],
             [
              0.6666666666666666,
              "#ed7953"
             ],
             [
              0.7777777777777778,
              "#fb9f3a"
             ],
             [
              0.8888888888888888,
              "#fdca26"
             ],
             [
              1,
              "#f0f921"
             ]
            ],
            "type": "surface"
           }
          ],
          "table": [
           {
            "cells": {
             "fill": {
              "color": "#EBF0F8"
             },
             "line": {
              "color": "white"
             }
            },
            "header": {
             "fill": {
              "color": "#C8D4E3"
             },
             "line": {
              "color": "white"
             }
            },
            "type": "table"
           }
          ]
         },
         "layout": {
          "annotationdefaults": {
           "arrowcolor": "#2a3f5f",
           "arrowhead": 0,
           "arrowwidth": 1
          },
          "autotypenumbers": "strict",
          "coloraxis": {
           "colorbar": {
            "outlinewidth": 0,
            "ticks": ""
           }
          },
          "colorscale": {
           "diverging": [
            [
             0,
             "#8e0152"
            ],
            [
             0.1,
             "#c51b7d"
            ],
            [
             0.2,
             "#de77ae"
            ],
            [
             0.3,
             "#f1b6da"
            ],
            [
             0.4,
             "#fde0ef"
            ],
            [
             0.5,
             "#f7f7f7"
            ],
            [
             0.6,
             "#e6f5d0"
            ],
            [
             0.7,
             "#b8e186"
            ],
            [
             0.8,
             "#7fbc41"
            ],
            [
             0.9,
             "#4d9221"
            ],
            [
             1,
             "#276419"
            ]
           ],
           "sequential": [
            [
             0,
             "#0d0887"
            ],
            [
             0.1111111111111111,
             "#46039f"
            ],
            [
             0.2222222222222222,
             "#7201a8"
            ],
            [
             0.3333333333333333,
             "#9c179e"
            ],
            [
             0.4444444444444444,
             "#bd3786"
            ],
            [
             0.5555555555555556,
             "#d8576b"
            ],
            [
             0.6666666666666666,
             "#ed7953"
            ],
            [
             0.7777777777777778,
             "#fb9f3a"
            ],
            [
             0.8888888888888888,
             "#fdca26"
            ],
            [
             1,
             "#f0f921"
            ]
           ],
           "sequentialminus": [
            [
             0,
             "#0d0887"
            ],
            [
             0.1111111111111111,
             "#46039f"
            ],
            [
             0.2222222222222222,
             "#7201a8"
            ],
            [
             0.3333333333333333,
             "#9c179e"
            ],
            [
             0.4444444444444444,
             "#bd3786"
            ],
            [
             0.5555555555555556,
             "#d8576b"
            ],
            [
             0.6666666666666666,
             "#ed7953"
            ],
            [
             0.7777777777777778,
             "#fb9f3a"
            ],
            [
             0.8888888888888888,
             "#fdca26"
            ],
            [
             1,
             "#f0f921"
            ]
           ]
          },
          "colorway": [
           "#636efa",
           "#EF553B",
           "#00cc96",
           "#ab63fa",
           "#FFA15A",
           "#19d3f3",
           "#FF6692",
           "#B6E880",
           "#FF97FF",
           "#FECB52"
          ],
          "font": {
           "color": "#2a3f5f"
          },
          "geo": {
           "bgcolor": "white",
           "lakecolor": "white",
           "landcolor": "white",
           "showlakes": true,
           "showland": true,
           "subunitcolor": "#C8D4E3"
          },
          "hoverlabel": {
           "align": "left"
          },
          "hovermode": "closest",
          "mapbox": {
           "style": "light"
          },
          "paper_bgcolor": "white",
          "plot_bgcolor": "white",
          "polar": {
           "angularaxis": {
            "gridcolor": "#EBF0F8",
            "linecolor": "#EBF0F8",
            "ticks": ""
           },
           "bgcolor": "white",
           "radialaxis": {
            "gridcolor": "#EBF0F8",
            "linecolor": "#EBF0F8",
            "ticks": ""
           }
          },
          "scene": {
           "xaxis": {
            "backgroundcolor": "white",
            "gridcolor": "#DFE8F3",
            "gridwidth": 2,
            "linecolor": "#EBF0F8",
            "showbackground": true,
            "ticks": "",
            "zerolinecolor": "#EBF0F8"
           },
           "yaxis": {
            "backgroundcolor": "white",
            "gridcolor": "#DFE8F3",
            "gridwidth": 2,
            "linecolor": "#EBF0F8",
            "showbackground": true,
            "ticks": "",
            "zerolinecolor": "#EBF0F8"
           },
           "zaxis": {
            "backgroundcolor": "white",
            "gridcolor": "#DFE8F3",
            "gridwidth": 2,
            "linecolor": "#EBF0F8",
            "showbackground": true,
            "ticks": "",
            "zerolinecolor": "#EBF0F8"
           }
          },
          "shapedefaults": {
           "line": {
            "color": "#2a3f5f"
           }
          },
          "ternary": {
           "aaxis": {
            "gridcolor": "#DFE8F3",
            "linecolor": "#A2B1C6",
            "ticks": ""
           },
           "baxis": {
            "gridcolor": "#DFE8F3",
            "linecolor": "#A2B1C6",
            "ticks": ""
           },
           "bgcolor": "white",
           "caxis": {
            "gridcolor": "#DFE8F3",
            "linecolor": "#A2B1C6",
            "ticks": ""
           }
          },
          "title": {
           "x": 0.05
          },
          "xaxis": {
           "automargin": true,
           "gridcolor": "#EBF0F8",
           "linecolor": "#EBF0F8",
           "ticks": "",
           "title": {
            "standoff": 15
           },
           "zerolinecolor": "#EBF0F8",
           "zerolinewidth": 2
          },
          "yaxis": {
           "automargin": true,
           "gridcolor": "#EBF0F8",
           "linecolor": "#EBF0F8",
           "ticks": "",
           "title": {
            "standoff": 15
           },
           "zerolinecolor": "#EBF0F8",
           "zerolinewidth": 2
          }
         }
        },
        "title": {
         "text": "Yearly Waste E O L"
        },
        "xaxis": {
         "anchor": "y",
         "domain": [
          0,
          1
         ],
         "title": {
          "text": "Year"
         }
        },
        "yaxis": {
         "anchor": "x",
         "domain": [
          0,
          1
         ],
         "title": {
          "text": "[Tonnes]"
         }
        }
       }
      },
      "text/html": [
       "<div>                            <div id=\"f7ada239-155f-4e18-aacd-c7b69dd12633\" class=\"plotly-graph-div\" style=\"height:525px; width:100%;\"></div>            <script type=\"text/javascript\">                require([\"plotly\"], function(Plotly) {                    window.PLOTLYENV=window.PLOTLYENV || {};                                    if (document.getElementById(\"f7ada239-155f-4e18-aacd-c7b69dd12633\")) {                    Plotly.newPlot(                        \"f7ada239-155f-4e18-aacd-c7b69dd12633\",                        [{\"hovertemplate\":\"Glass simulation1 standard\",\"legendgroup\":\"WasteEOL_glass_Simulation1_standard_[Tonnes]\",\"line\":{\"color\":\"#636efa\",\"dash\":\"solid\"},\"marker\":{\"symbol\":\"circle\"},\"mode\":\"lines\",\"name\":\"Glass simulation1 standard\",\"orientation\":\"v\",\"showlegend\":true,\"x\":[1995,1996,1997,1998,1999,2000,2001,2002,2003,2004,2005,2006,2007,2008,2009,2010,2011,2012,2013,2014,2015,2016,2017,2018,2019,2020,2021,2022,2023,2024,2025,2026,2027,2028,2029,2030,2031,2032,2033,2034,2035,2036,2037,2038,2039,2040,2041,2042,2043,2044,2045,2046,2047,2048,2049,2050],\"xaxis\":\"x\",\"y\":[0.0,0.0026207606793797566,0.055274472417310115,0.3194365201426828,1.0693798383490332,2.652196524108783,5.469495060095664,9.969284715682644,16.638800766143998,25.995653624511206,756.0596988486399,569.1907351995022,10.192804386972128,19.490721918194236,35.65554099605963,62.72689953232399,106.36354891284851,777.6185550114133,832.2259526887522,1167.1930798951053,421.4950473062555,641.1834628292779,937.9932290822321,1322.9078350671425,1802.1923161536677,2844.5447895257144,3519.7001646063154,4410.960501264421,5377.437642695188,6759.218133151167,7532.579558758384,9124.731070588721,7894.046149579879,17592.07672362038,20480.752212619645,31743.337570818443,18216.9343832938,53211.15556822831,30301.782995026868,101988.46447962476,149975.44618829322,45370.2705977384,221452.54150517136,66991.6488688772,86847.41534602885,233889.85809187603,121482.88866203367,148478.03222642117,338646.9674077443,469571.65171346127,147832.72120797876,355548.5998151204,155953.5527932489,313536.254359703,325604.6090786411,645467.0102492195],\"yaxis\":\"y\",\"type\":\"scatter\"},{\"hovertemplate\":\"Silicon simulation1 standard\",\"legendgroup\":\"WasteEOL_silicon_Simulation1_standard_[Tonnes]\",\"line\":{\"color\":\"#EF553B\",\"dash\":\"solid\"},\"marker\":{\"symbol\":\"circle\"},\"mode\":\"lines\",\"name\":\"Silicon simulation1 standard\",\"orientation\":\"v\",\"showlegend\":true,\"x\":[1995,1996,1997,1998,1999,2000,2001,2002,2003,2004,2005,2006,2007,2008,2009,2010,2011,2012,2013,2014,2015,2016,2017,2018,2019,2020,2021,2022,2023,2024,2025,2026,2027,2028,2029,2030,2031,2032,2033,2034,2035,2036,2037,2038,2039,2040,2041,2042,2043,2044,2045,2046,2047,2048,2049,2050],\"xaxis\":\"x\",\"y\":[0.0,0.000281347586394847,0.00592970346717858,0.034207206014485805,0.11435321885697376,0.2833298346995071,0.5838445987723657,1.0633971424277155,1.7733314674644223,2.767556117955942,81.12500886061443,59.884496876790685,1.0225105386938296,1.9393172650639456,3.509209063800367,6.089069431480864,10.158648766293336,78.58356500941005,81.52845577565863,111.5266016372707,34.880805489515446,52.244386563948936,75.21093591927136,104.23793855957763,139.2191958700251,224.7222110170365,268.4481585432955,326.19717367568387,383.0731626675618,467.75378565396494,460.6270748683574,505.7977808608969,421.0269703518681,955.1952065988072,1079.8589027279365,1673.5620634712463,950.5823938802997,2798.9919522804425,1572.6621750736124,5359.9255957199675,7829.119105526321,2314.3877898022242,11451.066844162135,3390.1241806133708,4384.629987531077,11877.96573630278,6081.520642819255,7401.670895876838,17117.645620398347,23874.509313098777,6975.559934106295,17428.750545584233,6991.012126720653,14609.939592192473,14549.347518727343,28136.042942398202],\"yaxis\":\"y\",\"type\":\"scatter\"},{\"hovertemplate\":\"Module simulation1 standard\",\"legendgroup\":\"WasteEOL_Module_Simulation1_standard_[Tonnes]\",\"line\":{\"color\":\"#00cc96\",\"dash\":\"solid\"},\"marker\":{\"symbol\":\"circle\"},\"mode\":\"lines\",\"name\":\"Module simulation1 standard\",\"orientation\":\"v\",\"showlegend\":true,\"x\":[1995,1996,1997,1998,1999,2000,2001,2002,2003,2004,2005,2006,2007,2008,2009,2010,2011,2012,2013,2014,2015,2016,2017,2018,2019,2020,2021,2022,2023,2024,2025,2026,2027,2028,2029,2030,2031,2032,2033,2034,2035,2036,2037,2038,2039,2040,2041,2042,2043,2044,2045,2046,2047,2048,2049,2050],\"xaxis\":\"x\",\"y\":[0.0,0.0029021082657746037,0.06120417588448869,0.3536437261571686,1.183733057206007,2.93552635880829,6.05333965886803,11.032681858110362,18.412132233608418,28.763209742467147,837.1847077092542,629.0752320762929,11.215314925665957,21.43003918325818,39.16475005985999,68.81596896380485,116.52219767914185,856.2021200208233,913.7544084644107,1278.719681532376,456.3758527957709,693.4278493932269,1013.2041650015035,1427.1457736267203,1941.411512023693,3069.267000542751,3788.148323149611,4737.157674940105,5760.510805362749,7226.971918805133,7993.206633626743,9630.528851449617,8315.073119931747,18547.271930219187,21560.61111534758,33416.899634289686,19167.5167771741,56010.14752050875,31874.44517010048,107348.39007534472,157804.56529381953,47684.65838754063,232903.6083493335,70381.77304949056,91232.04533355993,245767.82382817884,127564.40930485293,155879.703122298,355764.6130281427,493446.16102656,154808.28114208506,372977.35036070464,162944.56491996953,328146.19395189546,340153.95659736847,673603.0531916177],\"yaxis\":\"y\",\"type\":\"scatter\"},{\"hovertemplate\":\"Glass simulation1 low quality\",\"legendgroup\":\"WasteEOL_glass_Simulation1_low_quality_[Tonnes]\",\"line\":{\"color\":\"#ab63fa\",\"dash\":\"solid\"},\"marker\":{\"symbol\":\"circle\"},\"mode\":\"lines\",\"name\":\"Glass simulation1 low quality\",\"orientation\":\"v\",\"showlegend\":true,\"x\":[1995,1996,1997,1998,1999,2000,2001,2002,2003,2004,2005,2006,2007,2008,2009,2010,2011,2012,2013,2014,2015,2016,2017,2018,2019,2020,2021,2022,2023,2024,2025,2026,2027,2028,2029,2030,2031,2032,2033,2034,2035,2036,2037,2038,2039,2040,2041,2042,2043,2044,2045,2046,2047,2048,2049,2050],\"xaxis\":\"x\",\"y\":[0.0,0.0026207606793797566,0.055274472417310115,0.3194365201426828,1.0693798383490332,2.652196524108783,5.469495060095664,9.969284715682644,16.638800766143998,25.995653624511206,38.579478730090365,54.95468437000582,75.76956464779083,101.92620998121808,134.8379192107421,641.5763865915205,512.0357062631728,777.6185550114133,832.2259526887522,1167.1930798951053,1464.7680188069533,1939.123877042693,2805.2799313764585,3802.516190765508,5632.366507802578,5568.193379261713,6009.976337590892,16906.443102835434,16743.87078247064,23770.411680941354,39243.65520523359,92520.70967912296,156086.95978170392,201980.02767996796,186280.82885029147,324185.325742788,587405.8800269163,447781.91863983613,414493.52678463573,478504.475557245,654418.440804115,715213.376695505,679707.2435681013,667343.2863799987,731204.5121898829,783858.9215827266,841620.5838702336,918844.7550457072,1003408.1659921176,1096316.579289333,1181220.7248978338,1273322.2688605667,1379452.2681771487,1495004.6839277607,1620775.353431937,1757635.5853845382],\"yaxis\":\"y\",\"type\":\"scatter\"},{\"hovertemplate\":\"Silicon simulation1 low quality\",\"legendgroup\":\"WasteEOL_silicon_Simulation1_low_quality_[Tonnes]\",\"line\":{\"color\":\"#FFA15A\",\"dash\":\"solid\"},\"marker\":{\"symbol\":\"circle\"},\"mode\":\"lines\",\"name\":\"Silicon simulation1 low quality\",\"orientation\":\"v\",\"showlegend\":true,\"x\":[1995,1996,1997,1998,1999,2000,2001,2002,2003,2004,2005,2006,2007,2008,2009,2010,2011,2012,2013,2014,2015,2016,2017,2018,2019,2020,2021,2022,2023,2024,2025,2026,2027,2028,2029,2030,2031,2032,2033,2034,2035,2036,2037,2038,2039,2040,2041,2042,2043,2044,2045,2046,2047,2048,2049,2050],\"xaxis\":\"x\",\"y\":[0.0,0.000281347586394847,0.00592970346717858,0.034207206014485805,0.11435321885697376,0.2833298346995071,0.5838445987723657,1.0633971424277155,1.7733314674644223,2.767556117955942,4.101063177725497,5.829175992091598,8.011228963378388,10.722921748846854,14.075020139920873,68.13384124133108,52.85500953944315,78.58356500941005,81.52845577565863,111.5266016372707,135.8994277845527,175.0241974694645,247.51780213186964,327.03765126586126,474.4150440715997,393.3112931801922,349.1445914417842,943.8168454270324,887.9437494561786,1260.4552354091986,2080.866255403531,4906.335626573216,8196.550889256512,10502.993951359513,9532.696804376894,16723.54168492419,30548.693994883615,22918.595781785756,20641.181577459014,22628.302041108316,29192.02804107325,30327.561845821125,27465.49700144553,25832.190650278786,27125.7678270712,28723.147424660772,30459.487748265194,32394.104918299447,34462.349427340334,36683.05684537631,39427.32985082939,42397.7236365576,45931.52689329245,49779.06769921513,53966.844994584804,58523.87068483208],\"yaxis\":\"y\",\"type\":\"scatter\"},{\"hovertemplate\":\"Module simulation1 low quality\",\"legendgroup\":\"WasteEOL_Module_Simulation1_low_quality_[Tonnes]\",\"line\":{\"color\":\"#19d3f3\",\"dash\":\"solid\"},\"marker\":{\"symbol\":\"circle\"},\"mode\":\"lines\",\"name\":\"Module simulation1 low quality\",\"orientation\":\"v\",\"showlegend\":true,\"x\":[1995,1996,1997,1998,1999,2000,2001,2002,2003,2004,2005,2006,2007,2008,2009,2010,2011,2012,2013,2014,2015,2016,2017,2018,2019,2020,2021,2022,2023,2024,2025,2026,2027,2028,2029,2030,2031,2032,2033,2034,2035,2036,2037,2038,2039,2040,2041,2042,2043,2044,2045,2046,2047,2048,2049,2050],\"xaxis\":\"x\",\"y\":[0.0,0.0029021082657746037,0.06120417588448869,0.3536437261571686,1.183733057206007,2.93552635880829,6.05333965886803,11.032681858110362,18.412132233608418,28.763209742467147,42.68054190781586,60.78386036209742,83.78079361116922,112.64913173006494,148.91293935066295,709.7102278328516,564.8907158026159,856.2021200208233,913.7544084644107,1278.719681532376,1600.667446591506,2114.1480745121576,3052.7977335083283,4129.55384203137,6106.781551874178,5961.504672441905,6359.120929032677,17850.25994826246,17631.814531926815,25030.86691635055,41324.52146063712,97427.04530569617,164283.51067096042,212483.02163132746,195813.52565466837,340908.86742771213,617954.5740218,470700.51442162186,435134.7083620947,501132.77759835334,683610.4688451883,745540.9385413262,707172.7405695468,693175.4770302775,758330.280016954,812582.0690073875,872080.0716184988,951238.8599640067,1037870.5154194579,1132999.6361347092,1220648.054748663,1315719.9924971242,1425383.7950704412,1544783.7516269758,1674742.1984265216,1816159.45606937],\"yaxis\":\"y\",\"type\":\"scatter\"}],                        {\"template\":{\"data\":{\"barpolar\":[{\"marker\":{\"line\":{\"color\":\"white\",\"width\":0.5},\"pattern\":{\"fillmode\":\"overlay\",\"size\":10,\"solidity\":0.2}},\"type\":\"barpolar\"}],\"bar\":[{\"error_x\":{\"color\":\"#2a3f5f\"},\"error_y\":{\"color\":\"#2a3f5f\"},\"marker\":{\"line\":{\"color\":\"white\",\"width\":0.5},\"pattern\":{\"fillmode\":\"overlay\",\"size\":10,\"solidity\":0.2}},\"type\":\"bar\"}],\"carpet\":[{\"aaxis\":{\"endlinecolor\":\"#2a3f5f\",\"gridcolor\":\"#C8D4E3\",\"linecolor\":\"#C8D4E3\",\"minorgridcolor\":\"#C8D4E3\",\"startlinecolor\":\"#2a3f5f\"},\"baxis\":{\"endlinecolor\":\"#2a3f5f\",\"gridcolor\":\"#C8D4E3\",\"linecolor\":\"#C8D4E3\",\"minorgridcolor\":\"#C8D4E3\",\"startlinecolor\":\"#2a3f5f\"},\"type\":\"carpet\"}],\"choropleth\":[{\"colorbar\":{\"outlinewidth\":0,\"ticks\":\"\"},\"type\":\"choropleth\"}],\"contourcarpet\":[{\"colorbar\":{\"outlinewidth\":0,\"ticks\":\"\"},\"type\":\"contourcarpet\"}],\"contour\":[{\"colorbar\":{\"outlinewidth\":0,\"ticks\":\"\"},\"colorscale\":[[0.0,\"#0d0887\"],[0.1111111111111111,\"#46039f\"],[0.2222222222222222,\"#7201a8\"],[0.3333333333333333,\"#9c179e\"],[0.4444444444444444,\"#bd3786\"],[0.5555555555555556,\"#d8576b\"],[0.6666666666666666,\"#ed7953\"],[0.7777777777777778,\"#fb9f3a\"],[0.8888888888888888,\"#fdca26\"],[1.0,\"#f0f921\"]],\"type\":\"contour\"}],\"heatmapgl\":[{\"colorbar\":{\"outlinewidth\":0,\"ticks\":\"\"},\"colorscale\":[[0.0,\"#0d0887\"],[0.1111111111111111,\"#46039f\"],[0.2222222222222222,\"#7201a8\"],[0.3333333333333333,\"#9c179e\"],[0.4444444444444444,\"#bd3786\"],[0.5555555555555556,\"#d8576b\"],[0.6666666666666666,\"#ed7953\"],[0.7777777777777778,\"#fb9f3a\"],[0.8888888888888888,\"#fdca26\"],[1.0,\"#f0f921\"]],\"type\":\"heatmapgl\"}],\"heatmap\":[{\"colorbar\":{\"outlinewidth\":0,\"ticks\":\"\"},\"colorscale\":[[0.0,\"#0d0887\"],[0.1111111111111111,\"#46039f\"],[0.2222222222222222,\"#7201a8\"],[0.3333333333333333,\"#9c179e\"],[0.4444444444444444,\"#bd3786\"],[0.5555555555555556,\"#d8576b\"],[0.6666666666666666,\"#ed7953\"],[0.7777777777777778,\"#fb9f3a\"],[0.8888888888888888,\"#fdca26\"],[1.0,\"#f0f921\"]],\"type\":\"heatmap\"}],\"histogram2dcontour\":[{\"colorbar\":{\"outlinewidth\":0,\"ticks\":\"\"},\"colorscale\":[[0.0,\"#0d0887\"],[0.1111111111111111,\"#46039f\"],[0.2222222222222222,\"#7201a8\"],[0.3333333333333333,\"#9c179e\"],[0.4444444444444444,\"#bd3786\"],[0.5555555555555556,\"#d8576b\"],[0.6666666666666666,\"#ed7953\"],[0.7777777777777778,\"#fb9f3a\"],[0.8888888888888888,\"#fdca26\"],[1.0,\"#f0f921\"]],\"type\":\"histogram2dcontour\"}],\"histogram2d\":[{\"colorbar\":{\"outlinewidth\":0,\"ticks\":\"\"},\"colorscale\":[[0.0,\"#0d0887\"],[0.1111111111111111,\"#46039f\"],[0.2222222222222222,\"#7201a8\"],[0.3333333333333333,\"#9c179e\"],[0.4444444444444444,\"#bd3786\"],[0.5555555555555556,\"#d8576b\"],[0.6666666666666666,\"#ed7953\"],[0.7777777777777778,\"#fb9f3a\"],[0.8888888888888888,\"#fdca26\"],[1.0,\"#f0f921\"]],\"type\":\"histogram2d\"}],\"histogram\":[{\"marker\":{\"pattern\":{\"fillmode\":\"overlay\",\"size\":10,\"solidity\":0.2}},\"type\":\"histogram\"}],\"mesh3d\":[{\"colorbar\":{\"outlinewidth\":0,\"ticks\":\"\"},\"type\":\"mesh3d\"}],\"parcoords\":[{\"line\":{\"colorbar\":{\"outlinewidth\":0,\"ticks\":\"\"}},\"type\":\"parcoords\"}],\"pie\":[{\"automargin\":true,\"type\":\"pie\"}],\"scatter3d\":[{\"line\":{\"colorbar\":{\"outlinewidth\":0,\"ticks\":\"\"}},\"marker\":{\"colorbar\":{\"outlinewidth\":0,\"ticks\":\"\"}},\"type\":\"scatter3d\"}],\"scattercarpet\":[{\"marker\":{\"colorbar\":{\"outlinewidth\":0,\"ticks\":\"\"}},\"type\":\"scattercarpet\"}],\"scattergeo\":[{\"marker\":{\"colorbar\":{\"outlinewidth\":0,\"ticks\":\"\"}},\"type\":\"scattergeo\"}],\"scattergl\":[{\"marker\":{\"colorbar\":{\"outlinewidth\":0,\"ticks\":\"\"}},\"type\":\"scattergl\"}],\"scattermapbox\":[{\"marker\":{\"colorbar\":{\"outlinewidth\":0,\"ticks\":\"\"}},\"type\":\"scattermapbox\"}],\"scatterpolargl\":[{\"marker\":{\"colorbar\":{\"outlinewidth\":0,\"ticks\":\"\"}},\"type\":\"scatterpolargl\"}],\"scatterpolar\":[{\"marker\":{\"colorbar\":{\"outlinewidth\":0,\"ticks\":\"\"}},\"type\":\"scatterpolar\"}],\"scatter\":[{\"fillpattern\":{\"fillmode\":\"overlay\",\"size\":10,\"solidity\":0.2},\"type\":\"scatter\"}],\"scatterternary\":[{\"marker\":{\"colorbar\":{\"outlinewidth\":0,\"ticks\":\"\"}},\"type\":\"scatterternary\"}],\"surface\":[{\"colorbar\":{\"outlinewidth\":0,\"ticks\":\"\"},\"colorscale\":[[0.0,\"#0d0887\"],[0.1111111111111111,\"#46039f\"],[0.2222222222222222,\"#7201a8\"],[0.3333333333333333,\"#9c179e\"],[0.4444444444444444,\"#bd3786\"],[0.5555555555555556,\"#d8576b\"],[0.6666666666666666,\"#ed7953\"],[0.7777777777777778,\"#fb9f3a\"],[0.8888888888888888,\"#fdca26\"],[1.0,\"#f0f921\"]],\"type\":\"surface\"}],\"table\":[{\"cells\":{\"fill\":{\"color\":\"#EBF0F8\"},\"line\":{\"color\":\"white\"}},\"header\":{\"fill\":{\"color\":\"#C8D4E3\"},\"line\":{\"color\":\"white\"}},\"type\":\"table\"}]},\"layout\":{\"annotationdefaults\":{\"arrowcolor\":\"#2a3f5f\",\"arrowhead\":0,\"arrowwidth\":1},\"autotypenumbers\":\"strict\",\"coloraxis\":{\"colorbar\":{\"outlinewidth\":0,\"ticks\":\"\"}},\"colorscale\":{\"diverging\":[[0,\"#8e0152\"],[0.1,\"#c51b7d\"],[0.2,\"#de77ae\"],[0.3,\"#f1b6da\"],[0.4,\"#fde0ef\"],[0.5,\"#f7f7f7\"],[0.6,\"#e6f5d0\"],[0.7,\"#b8e186\"],[0.8,\"#7fbc41\"],[0.9,\"#4d9221\"],[1,\"#276419\"]],\"sequential\":[[0.0,\"#0d0887\"],[0.1111111111111111,\"#46039f\"],[0.2222222222222222,\"#7201a8\"],[0.3333333333333333,\"#9c179e\"],[0.4444444444444444,\"#bd3786\"],[0.5555555555555556,\"#d8576b\"],[0.6666666666666666,\"#ed7953\"],[0.7777777777777778,\"#fb9f3a\"],[0.8888888888888888,\"#fdca26\"],[1.0,\"#f0f921\"]],\"sequentialminus\":[[0.0,\"#0d0887\"],[0.1111111111111111,\"#46039f\"],[0.2222222222222222,\"#7201a8\"],[0.3333333333333333,\"#9c179e\"],[0.4444444444444444,\"#bd3786\"],[0.5555555555555556,\"#d8576b\"],[0.6666666666666666,\"#ed7953\"],[0.7777777777777778,\"#fb9f3a\"],[0.8888888888888888,\"#fdca26\"],[1.0,\"#f0f921\"]]},\"colorway\":[\"#636efa\",\"#EF553B\",\"#00cc96\",\"#ab63fa\",\"#FFA15A\",\"#19d3f3\",\"#FF6692\",\"#B6E880\",\"#FF97FF\",\"#FECB52\"],\"font\":{\"color\":\"#2a3f5f\"},\"geo\":{\"bgcolor\":\"white\",\"lakecolor\":\"white\",\"landcolor\":\"white\",\"showlakes\":true,\"showland\":true,\"subunitcolor\":\"#C8D4E3\"},\"hoverlabel\":{\"align\":\"left\"},\"hovermode\":\"closest\",\"mapbox\":{\"style\":\"light\"},\"paper_bgcolor\":\"white\",\"plot_bgcolor\":\"white\",\"polar\":{\"angularaxis\":{\"gridcolor\":\"#EBF0F8\",\"linecolor\":\"#EBF0F8\",\"ticks\":\"\"},\"bgcolor\":\"white\",\"radialaxis\":{\"gridcolor\":\"#EBF0F8\",\"linecolor\":\"#EBF0F8\",\"ticks\":\"\"}},\"scene\":{\"xaxis\":{\"backgroundcolor\":\"white\",\"gridcolor\":\"#DFE8F3\",\"gridwidth\":2,\"linecolor\":\"#EBF0F8\",\"showbackground\":true,\"ticks\":\"\",\"zerolinecolor\":\"#EBF0F8\"},\"yaxis\":{\"backgroundcolor\":\"white\",\"gridcolor\":\"#DFE8F3\",\"gridwidth\":2,\"linecolor\":\"#EBF0F8\",\"showbackground\":true,\"ticks\":\"\",\"zerolinecolor\":\"#EBF0F8\"},\"zaxis\":{\"backgroundcolor\":\"white\",\"gridcolor\":\"#DFE8F3\",\"gridwidth\":2,\"linecolor\":\"#EBF0F8\",\"showbackground\":true,\"ticks\":\"\",\"zerolinecolor\":\"#EBF0F8\"}},\"shapedefaults\":{\"line\":{\"color\":\"#2a3f5f\"}},\"ternary\":{\"aaxis\":{\"gridcolor\":\"#DFE8F3\",\"linecolor\":\"#A2B1C6\",\"ticks\":\"\"},\"baxis\":{\"gridcolor\":\"#DFE8F3\",\"linecolor\":\"#A2B1C6\",\"ticks\":\"\"},\"bgcolor\":\"white\",\"caxis\":{\"gridcolor\":\"#DFE8F3\",\"linecolor\":\"#A2B1C6\",\"ticks\":\"\"}},\"title\":{\"x\":0.05},\"xaxis\":{\"automargin\":true,\"gridcolor\":\"#EBF0F8\",\"linecolor\":\"#EBF0F8\",\"ticks\":\"\",\"title\":{\"standoff\":15},\"zerolinecolor\":\"#EBF0F8\",\"zerolinewidth\":2},\"yaxis\":{\"automargin\":true,\"gridcolor\":\"#EBF0F8\",\"linecolor\":\"#EBF0F8\",\"ticks\":\"\",\"title\":{\"standoff\":15},\"zerolinecolor\":\"#EBF0F8\",\"zerolinewidth\":2}}},\"xaxis\":{\"anchor\":\"y\",\"domain\":[0.0,1.0],\"title\":{\"text\":\"Year\"}},\"yaxis\":{\"anchor\":\"x\",\"domain\":[0.0,1.0],\"title\":{\"text\":\"[Tonnes]\"}},\"legend\":{\"title\":{\"text\":\"variable\"},\"tracegroupgap\":0},\"margin\":{\"t\":60},\"title\":{\"text\":\"Yearly Waste E O L\"}},                        {\"responsive\": true}                    ).then(function(){\n",
       "                            \n",
       "var gd = document.getElementById('f7ada239-155f-4e18-aacd-c7b69dd12633');\n",
       "var x = new MutationObserver(function (mutations, observer) {{\n",
       "        var display = window.getComputedStyle(gd).display;\n",
       "        if (!display || display === 'none') {{\n",
       "            console.log([gd, 'removed!']);\n",
       "            Plotly.purge(gd);\n",
       "            observer.disconnect();\n",
       "        }}\n",
       "}});\n",
       "\n",
       "// Listen for the removal of the full notebook cells\n",
       "var notebookContainer = gd.closest('#notebook-container');\n",
       "if (notebookContainer) {{\n",
       "    x.observe(notebookContainer, {childList: true});\n",
       "}}\n",
       "\n",
       "// Listen for the clearing of the current output cell\n",
       "var outputEl = gd.closest('.output');\n",
       "if (outputEl) {{\n",
       "    x.observe(outputEl, {childList: true});\n",
       "}}\n",
       "\n",
       "                        })                };                });            </script>        </div>"
      ]
     },
     "metadata": {},
     "output_type": "display_data"
    },
    {
     "data": {
      "application/vnd.plotly.v1+json": {
       "config": {
        "plotlyServerURL": "https://plot.ly"
       },
       "data": [
        {
         "hovertemplate": "Glass simulation1 standard",
         "legendgroup": "WasteMFG_glass_Simulation1_standard_[Tonnes]",
         "line": {
          "color": "#636efa",
          "dash": "solid"
         },
         "marker": {
          "symbol": "circle"
         },
         "mode": "lines",
         "name": "Glass simulation1 standard",
         "orientation": "v",
         "showlegend": true,
         "type": "scatter",
         "x": [
          1995,
          1996,
          1997,
          1998,
          1999,
          2000,
          2001,
          2002,
          2003,
          2004,
          2005,
          2006,
          2007,
          2008,
          2009,
          2010,
          2011,
          2012,
          2013,
          2014,
          2015,
          2016,
          2017,
          2018,
          2019,
          2020,
          2021,
          2022,
          2023,
          2024,
          2025,
          2026,
          2027,
          2028,
          2029,
          2030,
          2031,
          2032,
          2033,
          2034,
          2035,
          2036,
          2037,
          2038,
          2039,
          2040,
          2041,
          2042,
          2043,
          2044,
          2045,
          2046,
          2047,
          2048,
          2049,
          2050
         ],
         "xaxis": "x",
         "y": [
          35.574650912996724,
          27.08061943478272,
          32.10004603345099,
          32.09073219035332,
          45.36753191597893,
          55.473834691348316,
          73.20269160295686,
          110.11837936701536,
          153.52060734601707,
          241.34386557306345,
          243.8688777301569,
          245.8566195545637,
          804.7302447609718,
          774.1836955334313,
          1052.381480106926,
          1742.055413556633,
          4196.812430083722,
          7149.127826118219,
          9156.46622684015,
          8164.511905851031,
          13589.318181031824,
          23904.986704752977,
          17606.20812575002,
          15461.629639040479,
          17234.45141964309,
          22602.86895731843,
          23269.580530315285,
          21209.85001145984,
          19499.328416339133,
          20404.525754490747,
          20848.96961234004,
          20743.008417891724,
          21443.2066688395,
          22119.71496917556,
          22053.026028763037,
          22249.527114661232,
          23984.355792995506,
          25983.425233612204,
          28159.97573542969,
          30528.997725823825,
          33106.9032144394,
          35911.62504113906,
          38962.73231335884,
          42281.56105753652,
          45891.35989441992,
          49817.45104450371,
          54087.407117649615,
          58731.244963287594,
          63781.63756107774,
          69274.14514435547,
          75247.46747725693,
          81743.71862930566,
          88808.7266664791,
          96492.35921103574,
          104848.87938748008,
          113937.33162447481
         ],
         "yaxis": "y"
        },
        {
         "hovertemplate": "Silicon simulation1 standard",
         "legendgroup": "WasteMFG_silicon_Simulation1_standard_[Tonnes]",
         "line": {
          "color": "#EF553B",
          "dash": "solid"
         },
         "marker": {
          "symbol": "circle"
         },
         "mode": "lines",
         "name": "Silicon simulation1 standard",
         "orientation": "v",
         "showlegend": true,
         "type": "scatter",
         "x": [
          1995,
          1996,
          1997,
          1998,
          1999,
          2000,
          2001,
          2002,
          2003,
          2004,
          2005,
          2006,
          2007,
          2008,
          2009,
          2010,
          2011,
          2012,
          2013,
          2014,
          2015,
          2016,
          2017,
          2018,
          2019,
          2020,
          2021,
          2022,
          2023,
          2024,
          2025,
          2026,
          2027,
          2028,
          2029,
          2030,
          2031,
          2032,
          2033,
          2034,
          2035,
          2036,
          2037,
          2038,
          2039,
          2040,
          2041,
          2042,
          2043,
          2044,
          2045,
          2046,
          2047,
          2048,
          2049,
          2050
         ],
         "xaxis": "x",
         "y": [
          86.0349348911383,
          64.20851260080656,
          74.58744770777874,
          73.0440549788476,
          101.11300616517228,
          121.00687092268618,
          156.20810897395737,
          229.76109842641296,
          313.0395038607996,
          404.62923815988756,
          464.15465407746075,
          523.6806561406748,
          1727.961687629669,
          1675.7105222058397,
          2240.881945497371,
          1754.4885345999894,
          4172.97192314719,
          7327.007203206576,
          8835.82609432747,
          7929.57811446068,
          13738.89281448094,
          22499.58969145939,
          13349.889483934405,
          10097.533481660776,
          10427.065415352683,
          12479.486292763126,
          13274.554586340704,
          12330.89597276928,
          10920.877956752756,
          10594.46536775264,
          10924.756259470074,
          11344.967792615946,
          11873.517948757313,
          12365.189352523139,
          12879.282452674737,
          13539.889116949951,
          14559.963171725007,
          15773.519945328211,
          17094.818521007142,
          18532.959000194784,
          20097.904471250225,
          21800.54125900196,
          23652.74900224581,
          25667.479967110972,
          27858.84748083442,
          30242.223671857788,
          32834.346791880846,
          35653.43889472975,
          38719.33446687828,
          42053.62073344128,
          45679.79080573838,
          49623.41048618528,
          53912.300199005105,
          58576.73262484868,
          63649.64878165149,
          69166.89222986967
         ],
         "yaxis": "y"
        },
        {
         "hovertemplate": "Module simulation1 standard",
         "legendgroup": "WasteMFG_Module_Simulation1_standard_[Tonnes]",
         "line": {
          "color": "#00cc96",
          "dash": "solid"
         },
         "marker": {
          "symbol": "circle"
         },
         "mode": "lines",
         "name": "Module simulation1 standard",
         "orientation": "v",
         "showlegend": true,
         "type": "scatter",
         "x": [
          1995,
          1996,
          1997,
          1998,
          1999,
          2000,
          2001,
          2002,
          2003,
          2004,
          2005,
          2006,
          2007,
          2008,
          2009,
          2010,
          2011,
          2012,
          2013,
          2014,
          2015,
          2016,
          2017,
          2018,
          2019,
          2020,
          2021,
          2022,
          2023,
          2024,
          2025,
          2026,
          2027,
          2028,
          2029,
          2030,
          2031,
          2032,
          2033,
          2034,
          2035,
          2036,
          2037,
          2038,
          2039,
          2040,
          2041,
          2042,
          2043,
          2044,
          2045,
          2046,
          2047,
          2048,
          2049,
          2050
         ],
         "xaxis": "x",
         "y": [
          121.60958580413502,
          91.28913203558928,
          106.68749374122972,
          105.1347871692009,
          146.48053808115122,
          176.48070561403446,
          229.41080057691423,
          339.8794777934283,
          466.56011120681666,
          645.973103732951,
          708.0235318076177,
          769.5372756952386,
          2532.6919323906413,
          2449.894217739271,
          3293.2634256042966,
          3496.5439481566223,
          8369.78435323091,
          14476.135029324794,
          17992.292321167617,
          16094.09002031171,
          27328.210995512763,
          46404.57639621237,
          30956.097609684424,
          25559.163120701254,
          27661.516834995775,
          35082.35525008156,
          36544.13511665599,
          33540.74598422912,
          30420.20637309189,
          30998.991122243384,
          31773.72587181011,
          32087.976210507666,
          33316.72461759681,
          34484.9043216987,
          34932.30848143777,
          35789.41623161118,
          38544.318964720514,
          41756.94517894041,
          45254.79425643683,
          49061.95672601861,
          53204.80768568963,
          57712.16630014102,
          62615.48131560465,
          67949.0410246475,
          73750.20737525435,
          80059.6747163615,
          86921.75390953045,
          94384.68385801735,
          102500.97202795603,
          111327.76587779676,
          120927.2582829953,
          131367.12911549094,
          142721.0268654842,
          155069.0918358844,
          168498.52816913155,
          183104.22385434448
         ],
         "yaxis": "y"
        },
        {
         "hovertemplate": "Glass simulation1 low quality",
         "legendgroup": "WasteMFG_glass_Simulation1_low_quality_[Tonnes]",
         "line": {
          "color": "#ab63fa",
          "dash": "solid"
         },
         "marker": {
          "symbol": "circle"
         },
         "mode": "lines",
         "name": "Glass simulation1 low quality",
         "orientation": "v",
         "showlegend": true,
         "type": "scatter",
         "x": [
          1995,
          1996,
          1997,
          1998,
          1999,
          2000,
          2001,
          2002,
          2003,
          2004,
          2005,
          2006,
          2007,
          2008,
          2009,
          2010,
          2011,
          2012,
          2013,
          2014,
          2015,
          2016,
          2017,
          2018,
          2019,
          2020,
          2021,
          2022,
          2023,
          2024,
          2025,
          2026,
          2027,
          2028,
          2029,
          2030,
          2031,
          2032,
          2033,
          2034,
          2035,
          2036,
          2037,
          2038,
          2039,
          2040,
          2041,
          2042,
          2043,
          2044,
          2045,
          2046,
          2047,
          2048,
          2049,
          2050
         ],
         "xaxis": "x",
         "y": [
          35.574650912996724,
          27.08061943478272,
          32.10004603345099,
          32.09073219035332,
          45.36753191597893,
          55.473834691348316,
          73.20269160295686,
          110.11837936701536,
          153.52060734601707,
          241.34386557306345,
          243.8688777301569,
          245.8566195545637,
          804.7302447609718,
          774.1836955334313,
          1052.381480106926,
          1742.055413556633,
          4196.812430083722,
          7149.127826118219,
          9156.46622684015,
          8164.511905851031,
          13589.318181031824,
          23904.986704752977,
          17606.20812575002,
          15461.629639040479,
          17234.45141964309,
          22602.86895731843,
          23269.580530315285,
          21209.85001145984,
          19499.328416339133,
          20404.525754490747,
          20848.96961234004,
          20743.008417891724,
          21443.2066688395,
          22119.71496917556,
          22053.026028763037,
          22249.527114661232,
          23984.355792995506,
          25983.425233612204,
          28159.97573542969,
          30528.997725823825,
          33106.9032144394,
          35911.62504113906,
          38962.73231335884,
          42281.56105753652,
          45891.35989441992,
          49817.45104450371,
          54087.407117649615,
          58731.244963287594,
          63781.63756107774,
          69274.14514435547,
          75247.46747725693,
          81743.71862930566,
          88808.7266664791,
          96492.35921103574,
          104848.87938748008,
          113937.33162447481
         ],
         "yaxis": "y"
        },
        {
         "hovertemplate": "Silicon simulation1 low quality",
         "legendgroup": "WasteMFG_silicon_Simulation1_low_quality_[Tonnes]",
         "line": {
          "color": "#FFA15A",
          "dash": "solid"
         },
         "marker": {
          "symbol": "circle"
         },
         "mode": "lines",
         "name": "Silicon simulation1 low quality",
         "orientation": "v",
         "showlegend": true,
         "type": "scatter",
         "x": [
          1995,
          1996,
          1997,
          1998,
          1999,
          2000,
          2001,
          2002,
          2003,
          2004,
          2005,
          2006,
          2007,
          2008,
          2009,
          2010,
          2011,
          2012,
          2013,
          2014,
          2015,
          2016,
          2017,
          2018,
          2019,
          2020,
          2021,
          2022,
          2023,
          2024,
          2025,
          2026,
          2027,
          2028,
          2029,
          2030,
          2031,
          2032,
          2033,
          2034,
          2035,
          2036,
          2037,
          2038,
          2039,
          2040,
          2041,
          2042,
          2043,
          2044,
          2045,
          2046,
          2047,
          2048,
          2049,
          2050
         ],
         "xaxis": "x",
         "y": [
          86.0349348911383,
          64.20851260080656,
          74.58744770777874,
          73.0440549788476,
          101.11300616517228,
          121.00687092268618,
          156.20810897395737,
          229.76109842641296,
          313.0395038607996,
          404.62923815988756,
          464.15465407746075,
          523.6806561406748,
          1727.961687629669,
          1675.7105222058397,
          2240.881945497371,
          1754.4885345999894,
          4172.97192314719,
          7327.007203206576,
          8835.82609432747,
          7929.57811446068,
          13738.89281448094,
          22499.58969145939,
          13349.889483934405,
          10097.533481660776,
          10427.065415352683,
          12479.486292763126,
          13274.554586340704,
          12330.89597276928,
          10920.877956752756,
          10594.46536775264,
          10924.756259470074,
          11344.967792615946,
          11873.517948757313,
          12365.189352523139,
          12879.282452674737,
          13539.889116949951,
          14559.963171725007,
          15773.519945328211,
          17094.818521007142,
          18532.959000194784,
          20097.904471250225,
          21800.54125900196,
          23652.74900224581,
          25667.479967110972,
          27858.84748083442,
          30242.223671857788,
          32834.346791880846,
          35653.43889472975,
          38719.33446687828,
          42053.62073344128,
          45679.79080573838,
          49623.41048618528,
          53912.300199005105,
          58576.73262484868,
          63649.64878165149,
          69166.89222986967
         ],
         "yaxis": "y"
        },
        {
         "hovertemplate": "Module simulation1 low quality",
         "legendgroup": "WasteMFG_Module_Simulation1_low_quality_[Tonnes]",
         "line": {
          "color": "#19d3f3",
          "dash": "solid"
         },
         "marker": {
          "symbol": "circle"
         },
         "mode": "lines",
         "name": "Module simulation1 low quality",
         "orientation": "v",
         "showlegend": true,
         "type": "scatter",
         "x": [
          1995,
          1996,
          1997,
          1998,
          1999,
          2000,
          2001,
          2002,
          2003,
          2004,
          2005,
          2006,
          2007,
          2008,
          2009,
          2010,
          2011,
          2012,
          2013,
          2014,
          2015,
          2016,
          2017,
          2018,
          2019,
          2020,
          2021,
          2022,
          2023,
          2024,
          2025,
          2026,
          2027,
          2028,
          2029,
          2030,
          2031,
          2032,
          2033,
          2034,
          2035,
          2036,
          2037,
          2038,
          2039,
          2040,
          2041,
          2042,
          2043,
          2044,
          2045,
          2046,
          2047,
          2048,
          2049,
          2050
         ],
         "xaxis": "x",
         "y": [
          121.60958580413502,
          91.28913203558928,
          106.68749374122972,
          105.1347871692009,
          146.48053808115122,
          176.48070561403446,
          229.41080057691423,
          339.8794777934283,
          466.56011120681666,
          645.973103732951,
          708.0235318076177,
          769.5372756952386,
          2532.6919323906413,
          2449.894217739271,
          3293.2634256042966,
          3496.5439481566223,
          8369.78435323091,
          14476.135029324794,
          17992.292321167617,
          16094.09002031171,
          27328.210995512763,
          46404.57639621237,
          30956.097609684424,
          25559.163120701254,
          27661.516834995775,
          35082.35525008156,
          36544.13511665599,
          33540.74598422912,
          30420.20637309189,
          30998.991122243384,
          31773.72587181011,
          32087.976210507666,
          33316.72461759681,
          34484.9043216987,
          34932.30848143777,
          35789.41623161118,
          38544.318964720514,
          41756.94517894041,
          45254.79425643683,
          49061.95672601861,
          53204.80768568963,
          57712.16630014102,
          62615.48131560465,
          67949.0410246475,
          73750.20737525435,
          80059.6747163615,
          86921.75390953045,
          94384.68385801735,
          102500.97202795603,
          111327.76587779676,
          120927.2582829953,
          131367.12911549094,
          142721.0268654842,
          155069.0918358844,
          168498.52816913155,
          183104.22385434448
         ],
         "yaxis": "y"
        }
       ],
       "layout": {
        "legend": {
         "title": {
          "text": "variable"
         },
         "tracegroupgap": 0
        },
        "margin": {
         "t": 60
        },
        "template": {
         "data": {
          "bar": [
           {
            "error_x": {
             "color": "#2a3f5f"
            },
            "error_y": {
             "color": "#2a3f5f"
            },
            "marker": {
             "line": {
              "color": "white",
              "width": 0.5
             },
             "pattern": {
              "fillmode": "overlay",
              "size": 10,
              "solidity": 0.2
             }
            },
            "type": "bar"
           }
          ],
          "barpolar": [
           {
            "marker": {
             "line": {
              "color": "white",
              "width": 0.5
             },
             "pattern": {
              "fillmode": "overlay",
              "size": 10,
              "solidity": 0.2
             }
            },
            "type": "barpolar"
           }
          ],
          "carpet": [
           {
            "aaxis": {
             "endlinecolor": "#2a3f5f",
             "gridcolor": "#C8D4E3",
             "linecolor": "#C8D4E3",
             "minorgridcolor": "#C8D4E3",
             "startlinecolor": "#2a3f5f"
            },
            "baxis": {
             "endlinecolor": "#2a3f5f",
             "gridcolor": "#C8D4E3",
             "linecolor": "#C8D4E3",
             "minorgridcolor": "#C8D4E3",
             "startlinecolor": "#2a3f5f"
            },
            "type": "carpet"
           }
          ],
          "choropleth": [
           {
            "colorbar": {
             "outlinewidth": 0,
             "ticks": ""
            },
            "type": "choropleth"
           }
          ],
          "contour": [
           {
            "colorbar": {
             "outlinewidth": 0,
             "ticks": ""
            },
            "colorscale": [
             [
              0,
              "#0d0887"
             ],
             [
              0.1111111111111111,
              "#46039f"
             ],
             [
              0.2222222222222222,
              "#7201a8"
             ],
             [
              0.3333333333333333,
              "#9c179e"
             ],
             [
              0.4444444444444444,
              "#bd3786"
             ],
             [
              0.5555555555555556,
              "#d8576b"
             ],
             [
              0.6666666666666666,
              "#ed7953"
             ],
             [
              0.7777777777777778,
              "#fb9f3a"
             ],
             [
              0.8888888888888888,
              "#fdca26"
             ],
             [
              1,
              "#f0f921"
             ]
            ],
            "type": "contour"
           }
          ],
          "contourcarpet": [
           {
            "colorbar": {
             "outlinewidth": 0,
             "ticks": ""
            },
            "type": "contourcarpet"
           }
          ],
          "heatmap": [
           {
            "colorbar": {
             "outlinewidth": 0,
             "ticks": ""
            },
            "colorscale": [
             [
              0,
              "#0d0887"
             ],
             [
              0.1111111111111111,
              "#46039f"
             ],
             [
              0.2222222222222222,
              "#7201a8"
             ],
             [
              0.3333333333333333,
              "#9c179e"
             ],
             [
              0.4444444444444444,
              "#bd3786"
             ],
             [
              0.5555555555555556,
              "#d8576b"
             ],
             [
              0.6666666666666666,
              "#ed7953"
             ],
             [
              0.7777777777777778,
              "#fb9f3a"
             ],
             [
              0.8888888888888888,
              "#fdca26"
             ],
             [
              1,
              "#f0f921"
             ]
            ],
            "type": "heatmap"
           }
          ],
          "heatmapgl": [
           {
            "colorbar": {
             "outlinewidth": 0,
             "ticks": ""
            },
            "colorscale": [
             [
              0,
              "#0d0887"
             ],
             [
              0.1111111111111111,
              "#46039f"
             ],
             [
              0.2222222222222222,
              "#7201a8"
             ],
             [
              0.3333333333333333,
              "#9c179e"
             ],
             [
              0.4444444444444444,
              "#bd3786"
             ],
             [
              0.5555555555555556,
              "#d8576b"
             ],
             [
              0.6666666666666666,
              "#ed7953"
             ],
             [
              0.7777777777777778,
              "#fb9f3a"
             ],
             [
              0.8888888888888888,
              "#fdca26"
             ],
             [
              1,
              "#f0f921"
             ]
            ],
            "type": "heatmapgl"
           }
          ],
          "histogram": [
           {
            "marker": {
             "pattern": {
              "fillmode": "overlay",
              "size": 10,
              "solidity": 0.2
             }
            },
            "type": "histogram"
           }
          ],
          "histogram2d": [
           {
            "colorbar": {
             "outlinewidth": 0,
             "ticks": ""
            },
            "colorscale": [
             [
              0,
              "#0d0887"
             ],
             [
              0.1111111111111111,
              "#46039f"
             ],
             [
              0.2222222222222222,
              "#7201a8"
             ],
             [
              0.3333333333333333,
              "#9c179e"
             ],
             [
              0.4444444444444444,
              "#bd3786"
             ],
             [
              0.5555555555555556,
              "#d8576b"
             ],
             [
              0.6666666666666666,
              "#ed7953"
             ],
             [
              0.7777777777777778,
              "#fb9f3a"
             ],
             [
              0.8888888888888888,
              "#fdca26"
             ],
             [
              1,
              "#f0f921"
             ]
            ],
            "type": "histogram2d"
           }
          ],
          "histogram2dcontour": [
           {
            "colorbar": {
             "outlinewidth": 0,
             "ticks": ""
            },
            "colorscale": [
             [
              0,
              "#0d0887"
             ],
             [
              0.1111111111111111,
              "#46039f"
             ],
             [
              0.2222222222222222,
              "#7201a8"
             ],
             [
              0.3333333333333333,
              "#9c179e"
             ],
             [
              0.4444444444444444,
              "#bd3786"
             ],
             [
              0.5555555555555556,
              "#d8576b"
             ],
             [
              0.6666666666666666,
              "#ed7953"
             ],
             [
              0.7777777777777778,
              "#fb9f3a"
             ],
             [
              0.8888888888888888,
              "#fdca26"
             ],
             [
              1,
              "#f0f921"
             ]
            ],
            "type": "histogram2dcontour"
           }
          ],
          "mesh3d": [
           {
            "colorbar": {
             "outlinewidth": 0,
             "ticks": ""
            },
            "type": "mesh3d"
           }
          ],
          "parcoords": [
           {
            "line": {
             "colorbar": {
              "outlinewidth": 0,
              "ticks": ""
             }
            },
            "type": "parcoords"
           }
          ],
          "pie": [
           {
            "automargin": true,
            "type": "pie"
           }
          ],
          "scatter": [
           {
            "fillpattern": {
             "fillmode": "overlay",
             "size": 10,
             "solidity": 0.2
            },
            "type": "scatter"
           }
          ],
          "scatter3d": [
           {
            "line": {
             "colorbar": {
              "outlinewidth": 0,
              "ticks": ""
             }
            },
            "marker": {
             "colorbar": {
              "outlinewidth": 0,
              "ticks": ""
             }
            },
            "type": "scatter3d"
           }
          ],
          "scattercarpet": [
           {
            "marker": {
             "colorbar": {
              "outlinewidth": 0,
              "ticks": ""
             }
            },
            "type": "scattercarpet"
           }
          ],
          "scattergeo": [
           {
            "marker": {
             "colorbar": {
              "outlinewidth": 0,
              "ticks": ""
             }
            },
            "type": "scattergeo"
           }
          ],
          "scattergl": [
           {
            "marker": {
             "colorbar": {
              "outlinewidth": 0,
              "ticks": ""
             }
            },
            "type": "scattergl"
           }
          ],
          "scattermapbox": [
           {
            "marker": {
             "colorbar": {
              "outlinewidth": 0,
              "ticks": ""
             }
            },
            "type": "scattermapbox"
           }
          ],
          "scatterpolar": [
           {
            "marker": {
             "colorbar": {
              "outlinewidth": 0,
              "ticks": ""
             }
            },
            "type": "scatterpolar"
           }
          ],
          "scatterpolargl": [
           {
            "marker": {
             "colorbar": {
              "outlinewidth": 0,
              "ticks": ""
             }
            },
            "type": "scatterpolargl"
           }
          ],
          "scatterternary": [
           {
            "marker": {
             "colorbar": {
              "outlinewidth": 0,
              "ticks": ""
             }
            },
            "type": "scatterternary"
           }
          ],
          "surface": [
           {
            "colorbar": {
             "outlinewidth": 0,
             "ticks": ""
            },
            "colorscale": [
             [
              0,
              "#0d0887"
             ],
             [
              0.1111111111111111,
              "#46039f"
             ],
             [
              0.2222222222222222,
              "#7201a8"
             ],
             [
              0.3333333333333333,
              "#9c179e"
             ],
             [
              0.4444444444444444,
              "#bd3786"
             ],
             [
              0.5555555555555556,
              "#d8576b"
             ],
             [
              0.6666666666666666,
              "#ed7953"
             ],
             [
              0.7777777777777778,
              "#fb9f3a"
             ],
             [
              0.8888888888888888,
              "#fdca26"
             ],
             [
              1,
              "#f0f921"
             ]
            ],
            "type": "surface"
           }
          ],
          "table": [
           {
            "cells": {
             "fill": {
              "color": "#EBF0F8"
             },
             "line": {
              "color": "white"
             }
            },
            "header": {
             "fill": {
              "color": "#C8D4E3"
             },
             "line": {
              "color": "white"
             }
            },
            "type": "table"
           }
          ]
         },
         "layout": {
          "annotationdefaults": {
           "arrowcolor": "#2a3f5f",
           "arrowhead": 0,
           "arrowwidth": 1
          },
          "autotypenumbers": "strict",
          "coloraxis": {
           "colorbar": {
            "outlinewidth": 0,
            "ticks": ""
           }
          },
          "colorscale": {
           "diverging": [
            [
             0,
             "#8e0152"
            ],
            [
             0.1,
             "#c51b7d"
            ],
            [
             0.2,
             "#de77ae"
            ],
            [
             0.3,
             "#f1b6da"
            ],
            [
             0.4,
             "#fde0ef"
            ],
            [
             0.5,
             "#f7f7f7"
            ],
            [
             0.6,
             "#e6f5d0"
            ],
            [
             0.7,
             "#b8e186"
            ],
            [
             0.8,
             "#7fbc41"
            ],
            [
             0.9,
             "#4d9221"
            ],
            [
             1,
             "#276419"
            ]
           ],
           "sequential": [
            [
             0,
             "#0d0887"
            ],
            [
             0.1111111111111111,
             "#46039f"
            ],
            [
             0.2222222222222222,
             "#7201a8"
            ],
            [
             0.3333333333333333,
             "#9c179e"
            ],
            [
             0.4444444444444444,
             "#bd3786"
            ],
            [
             0.5555555555555556,
             "#d8576b"
            ],
            [
             0.6666666666666666,
             "#ed7953"
            ],
            [
             0.7777777777777778,
             "#fb9f3a"
            ],
            [
             0.8888888888888888,
             "#fdca26"
            ],
            [
             1,
             "#f0f921"
            ]
           ],
           "sequentialminus": [
            [
             0,
             "#0d0887"
            ],
            [
             0.1111111111111111,
             "#46039f"
            ],
            [
             0.2222222222222222,
             "#7201a8"
            ],
            [
             0.3333333333333333,
             "#9c179e"
            ],
            [
             0.4444444444444444,
             "#bd3786"
            ],
            [
             0.5555555555555556,
             "#d8576b"
            ],
            [
             0.6666666666666666,
             "#ed7953"
            ],
            [
             0.7777777777777778,
             "#fb9f3a"
            ],
            [
             0.8888888888888888,
             "#fdca26"
            ],
            [
             1,
             "#f0f921"
            ]
           ]
          },
          "colorway": [
           "#636efa",
           "#EF553B",
           "#00cc96",
           "#ab63fa",
           "#FFA15A",
           "#19d3f3",
           "#FF6692",
           "#B6E880",
           "#FF97FF",
           "#FECB52"
          ],
          "font": {
           "color": "#2a3f5f"
          },
          "geo": {
           "bgcolor": "white",
           "lakecolor": "white",
           "landcolor": "white",
           "showlakes": true,
           "showland": true,
           "subunitcolor": "#C8D4E3"
          },
          "hoverlabel": {
           "align": "left"
          },
          "hovermode": "closest",
          "mapbox": {
           "style": "light"
          },
          "paper_bgcolor": "white",
          "plot_bgcolor": "white",
          "polar": {
           "angularaxis": {
            "gridcolor": "#EBF0F8",
            "linecolor": "#EBF0F8",
            "ticks": ""
           },
           "bgcolor": "white",
           "radialaxis": {
            "gridcolor": "#EBF0F8",
            "linecolor": "#EBF0F8",
            "ticks": ""
           }
          },
          "scene": {
           "xaxis": {
            "backgroundcolor": "white",
            "gridcolor": "#DFE8F3",
            "gridwidth": 2,
            "linecolor": "#EBF0F8",
            "showbackground": true,
            "ticks": "",
            "zerolinecolor": "#EBF0F8"
           },
           "yaxis": {
            "backgroundcolor": "white",
            "gridcolor": "#DFE8F3",
            "gridwidth": 2,
            "linecolor": "#EBF0F8",
            "showbackground": true,
            "ticks": "",
            "zerolinecolor": "#EBF0F8"
           },
           "zaxis": {
            "backgroundcolor": "white",
            "gridcolor": "#DFE8F3",
            "gridwidth": 2,
            "linecolor": "#EBF0F8",
            "showbackground": true,
            "ticks": "",
            "zerolinecolor": "#EBF0F8"
           }
          },
          "shapedefaults": {
           "line": {
            "color": "#2a3f5f"
           }
          },
          "ternary": {
           "aaxis": {
            "gridcolor": "#DFE8F3",
            "linecolor": "#A2B1C6",
            "ticks": ""
           },
           "baxis": {
            "gridcolor": "#DFE8F3",
            "linecolor": "#A2B1C6",
            "ticks": ""
           },
           "bgcolor": "white",
           "caxis": {
            "gridcolor": "#DFE8F3",
            "linecolor": "#A2B1C6",
            "ticks": ""
           }
          },
          "title": {
           "x": 0.05
          },
          "xaxis": {
           "automargin": true,
           "gridcolor": "#EBF0F8",
           "linecolor": "#EBF0F8",
           "ticks": "",
           "title": {
            "standoff": 15
           },
           "zerolinecolor": "#EBF0F8",
           "zerolinewidth": 2
          },
          "yaxis": {
           "automargin": true,
           "gridcolor": "#EBF0F8",
           "linecolor": "#EBF0F8",
           "ticks": "",
           "title": {
            "standoff": 15
           },
           "zerolinecolor": "#EBF0F8",
           "zerolinewidth": 2
          }
         }
        },
        "title": {
         "text": "Yearly Waste M F G"
        },
        "xaxis": {
         "anchor": "y",
         "domain": [
          0,
          1
         ],
         "title": {
          "text": "Year"
         }
        },
        "yaxis": {
         "anchor": "x",
         "domain": [
          0,
          1
         ],
         "title": {
          "text": "[Tonnes]"
         }
        }
       }
      },
      "text/html": [
       "<div>                            <div id=\"3c8b6526-57d5-4e4e-9f38-c42af9dfb38b\" class=\"plotly-graph-div\" style=\"height:525px; width:100%;\"></div>            <script type=\"text/javascript\">                require([\"plotly\"], function(Plotly) {                    window.PLOTLYENV=window.PLOTLYENV || {};                                    if (document.getElementById(\"3c8b6526-57d5-4e4e-9f38-c42af9dfb38b\")) {                    Plotly.newPlot(                        \"3c8b6526-57d5-4e4e-9f38-c42af9dfb38b\",                        [{\"hovertemplate\":\"Glass simulation1 standard\",\"legendgroup\":\"WasteMFG_glass_Simulation1_standard_[Tonnes]\",\"line\":{\"color\":\"#636efa\",\"dash\":\"solid\"},\"marker\":{\"symbol\":\"circle\"},\"mode\":\"lines\",\"name\":\"Glass simulation1 standard\",\"orientation\":\"v\",\"showlegend\":true,\"x\":[1995,1996,1997,1998,1999,2000,2001,2002,2003,2004,2005,2006,2007,2008,2009,2010,2011,2012,2013,2014,2015,2016,2017,2018,2019,2020,2021,2022,2023,2024,2025,2026,2027,2028,2029,2030,2031,2032,2033,2034,2035,2036,2037,2038,2039,2040,2041,2042,2043,2044,2045,2046,2047,2048,2049,2050],\"xaxis\":\"x\",\"y\":[35.574650912996724,27.08061943478272,32.10004603345099,32.09073219035332,45.36753191597893,55.473834691348316,73.20269160295686,110.11837936701536,153.52060734601707,241.34386557306345,243.8688777301569,245.8566195545637,804.7302447609718,774.1836955334313,1052.381480106926,1742.055413556633,4196.812430083722,7149.127826118219,9156.46622684015,8164.511905851031,13589.318181031824,23904.986704752977,17606.20812575002,15461.629639040479,17234.45141964309,22602.86895731843,23269.580530315285,21209.85001145984,19499.328416339133,20404.525754490747,20848.96961234004,20743.008417891724,21443.2066688395,22119.71496917556,22053.026028763037,22249.527114661232,23984.355792995506,25983.425233612204,28159.97573542969,30528.997725823825,33106.9032144394,35911.62504113906,38962.73231335884,42281.56105753652,45891.35989441992,49817.45104450371,54087.407117649615,58731.244963287594,63781.63756107774,69274.14514435547,75247.46747725693,81743.71862930566,88808.7266664791,96492.35921103574,104848.87938748008,113937.33162447481],\"yaxis\":\"y\",\"type\":\"scatter\"},{\"hovertemplate\":\"Silicon simulation1 standard\",\"legendgroup\":\"WasteMFG_silicon_Simulation1_standard_[Tonnes]\",\"line\":{\"color\":\"#EF553B\",\"dash\":\"solid\"},\"marker\":{\"symbol\":\"circle\"},\"mode\":\"lines\",\"name\":\"Silicon simulation1 standard\",\"orientation\":\"v\",\"showlegend\":true,\"x\":[1995,1996,1997,1998,1999,2000,2001,2002,2003,2004,2005,2006,2007,2008,2009,2010,2011,2012,2013,2014,2015,2016,2017,2018,2019,2020,2021,2022,2023,2024,2025,2026,2027,2028,2029,2030,2031,2032,2033,2034,2035,2036,2037,2038,2039,2040,2041,2042,2043,2044,2045,2046,2047,2048,2049,2050],\"xaxis\":\"x\",\"y\":[86.0349348911383,64.20851260080656,74.58744770777874,73.0440549788476,101.11300616517228,121.00687092268618,156.20810897395737,229.76109842641296,313.0395038607996,404.62923815988756,464.15465407746075,523.6806561406748,1727.961687629669,1675.7105222058397,2240.881945497371,1754.4885345999894,4172.97192314719,7327.007203206576,8835.82609432747,7929.57811446068,13738.89281448094,22499.58969145939,13349.889483934405,10097.533481660776,10427.065415352683,12479.486292763126,13274.554586340704,12330.89597276928,10920.877956752756,10594.46536775264,10924.756259470074,11344.967792615946,11873.517948757313,12365.189352523139,12879.282452674737,13539.889116949951,14559.963171725007,15773.519945328211,17094.818521007142,18532.959000194784,20097.904471250225,21800.54125900196,23652.74900224581,25667.479967110972,27858.84748083442,30242.223671857788,32834.346791880846,35653.43889472975,38719.33446687828,42053.62073344128,45679.79080573838,49623.41048618528,53912.300199005105,58576.73262484868,63649.64878165149,69166.89222986967],\"yaxis\":\"y\",\"type\":\"scatter\"},{\"hovertemplate\":\"Module simulation1 standard\",\"legendgroup\":\"WasteMFG_Module_Simulation1_standard_[Tonnes]\",\"line\":{\"color\":\"#00cc96\",\"dash\":\"solid\"},\"marker\":{\"symbol\":\"circle\"},\"mode\":\"lines\",\"name\":\"Module simulation1 standard\",\"orientation\":\"v\",\"showlegend\":true,\"x\":[1995,1996,1997,1998,1999,2000,2001,2002,2003,2004,2005,2006,2007,2008,2009,2010,2011,2012,2013,2014,2015,2016,2017,2018,2019,2020,2021,2022,2023,2024,2025,2026,2027,2028,2029,2030,2031,2032,2033,2034,2035,2036,2037,2038,2039,2040,2041,2042,2043,2044,2045,2046,2047,2048,2049,2050],\"xaxis\":\"x\",\"y\":[121.60958580413502,91.28913203558928,106.68749374122972,105.1347871692009,146.48053808115122,176.48070561403446,229.41080057691423,339.8794777934283,466.56011120681666,645.973103732951,708.0235318076177,769.5372756952386,2532.6919323906413,2449.894217739271,3293.2634256042966,3496.5439481566223,8369.78435323091,14476.135029324794,17992.292321167617,16094.09002031171,27328.210995512763,46404.57639621237,30956.097609684424,25559.163120701254,27661.516834995775,35082.35525008156,36544.13511665599,33540.74598422912,30420.20637309189,30998.991122243384,31773.72587181011,32087.976210507666,33316.72461759681,34484.9043216987,34932.30848143777,35789.41623161118,38544.318964720514,41756.94517894041,45254.79425643683,49061.95672601861,53204.80768568963,57712.16630014102,62615.48131560465,67949.0410246475,73750.20737525435,80059.6747163615,86921.75390953045,94384.68385801735,102500.97202795603,111327.76587779676,120927.2582829953,131367.12911549094,142721.0268654842,155069.0918358844,168498.52816913155,183104.22385434448],\"yaxis\":\"y\",\"type\":\"scatter\"},{\"hovertemplate\":\"Glass simulation1 low quality\",\"legendgroup\":\"WasteMFG_glass_Simulation1_low_quality_[Tonnes]\",\"line\":{\"color\":\"#ab63fa\",\"dash\":\"solid\"},\"marker\":{\"symbol\":\"circle\"},\"mode\":\"lines\",\"name\":\"Glass simulation1 low quality\",\"orientation\":\"v\",\"showlegend\":true,\"x\":[1995,1996,1997,1998,1999,2000,2001,2002,2003,2004,2005,2006,2007,2008,2009,2010,2011,2012,2013,2014,2015,2016,2017,2018,2019,2020,2021,2022,2023,2024,2025,2026,2027,2028,2029,2030,2031,2032,2033,2034,2035,2036,2037,2038,2039,2040,2041,2042,2043,2044,2045,2046,2047,2048,2049,2050],\"xaxis\":\"x\",\"y\":[35.574650912996724,27.08061943478272,32.10004603345099,32.09073219035332,45.36753191597893,55.473834691348316,73.20269160295686,110.11837936701536,153.52060734601707,241.34386557306345,243.8688777301569,245.8566195545637,804.7302447609718,774.1836955334313,1052.381480106926,1742.055413556633,4196.812430083722,7149.127826118219,9156.46622684015,8164.511905851031,13589.318181031824,23904.986704752977,17606.20812575002,15461.629639040479,17234.45141964309,22602.86895731843,23269.580530315285,21209.85001145984,19499.328416339133,20404.525754490747,20848.96961234004,20743.008417891724,21443.2066688395,22119.71496917556,22053.026028763037,22249.527114661232,23984.355792995506,25983.425233612204,28159.97573542969,30528.997725823825,33106.9032144394,35911.62504113906,38962.73231335884,42281.56105753652,45891.35989441992,49817.45104450371,54087.407117649615,58731.244963287594,63781.63756107774,69274.14514435547,75247.46747725693,81743.71862930566,88808.7266664791,96492.35921103574,104848.87938748008,113937.33162447481],\"yaxis\":\"y\",\"type\":\"scatter\"},{\"hovertemplate\":\"Silicon simulation1 low quality\",\"legendgroup\":\"WasteMFG_silicon_Simulation1_low_quality_[Tonnes]\",\"line\":{\"color\":\"#FFA15A\",\"dash\":\"solid\"},\"marker\":{\"symbol\":\"circle\"},\"mode\":\"lines\",\"name\":\"Silicon simulation1 low quality\",\"orientation\":\"v\",\"showlegend\":true,\"x\":[1995,1996,1997,1998,1999,2000,2001,2002,2003,2004,2005,2006,2007,2008,2009,2010,2011,2012,2013,2014,2015,2016,2017,2018,2019,2020,2021,2022,2023,2024,2025,2026,2027,2028,2029,2030,2031,2032,2033,2034,2035,2036,2037,2038,2039,2040,2041,2042,2043,2044,2045,2046,2047,2048,2049,2050],\"xaxis\":\"x\",\"y\":[86.0349348911383,64.20851260080656,74.58744770777874,73.0440549788476,101.11300616517228,121.00687092268618,156.20810897395737,229.76109842641296,313.0395038607996,404.62923815988756,464.15465407746075,523.6806561406748,1727.961687629669,1675.7105222058397,2240.881945497371,1754.4885345999894,4172.97192314719,7327.007203206576,8835.82609432747,7929.57811446068,13738.89281448094,22499.58969145939,13349.889483934405,10097.533481660776,10427.065415352683,12479.486292763126,13274.554586340704,12330.89597276928,10920.877956752756,10594.46536775264,10924.756259470074,11344.967792615946,11873.517948757313,12365.189352523139,12879.282452674737,13539.889116949951,14559.963171725007,15773.519945328211,17094.818521007142,18532.959000194784,20097.904471250225,21800.54125900196,23652.74900224581,25667.479967110972,27858.84748083442,30242.223671857788,32834.346791880846,35653.43889472975,38719.33446687828,42053.62073344128,45679.79080573838,49623.41048618528,53912.300199005105,58576.73262484868,63649.64878165149,69166.89222986967],\"yaxis\":\"y\",\"type\":\"scatter\"},{\"hovertemplate\":\"Module simulation1 low quality\",\"legendgroup\":\"WasteMFG_Module_Simulation1_low_quality_[Tonnes]\",\"line\":{\"color\":\"#19d3f3\",\"dash\":\"solid\"},\"marker\":{\"symbol\":\"circle\"},\"mode\":\"lines\",\"name\":\"Module simulation1 low quality\",\"orientation\":\"v\",\"showlegend\":true,\"x\":[1995,1996,1997,1998,1999,2000,2001,2002,2003,2004,2005,2006,2007,2008,2009,2010,2011,2012,2013,2014,2015,2016,2017,2018,2019,2020,2021,2022,2023,2024,2025,2026,2027,2028,2029,2030,2031,2032,2033,2034,2035,2036,2037,2038,2039,2040,2041,2042,2043,2044,2045,2046,2047,2048,2049,2050],\"xaxis\":\"x\",\"y\":[121.60958580413502,91.28913203558928,106.68749374122972,105.1347871692009,146.48053808115122,176.48070561403446,229.41080057691423,339.8794777934283,466.56011120681666,645.973103732951,708.0235318076177,769.5372756952386,2532.6919323906413,2449.894217739271,3293.2634256042966,3496.5439481566223,8369.78435323091,14476.135029324794,17992.292321167617,16094.09002031171,27328.210995512763,46404.57639621237,30956.097609684424,25559.163120701254,27661.516834995775,35082.35525008156,36544.13511665599,33540.74598422912,30420.20637309189,30998.991122243384,31773.72587181011,32087.976210507666,33316.72461759681,34484.9043216987,34932.30848143777,35789.41623161118,38544.318964720514,41756.94517894041,45254.79425643683,49061.95672601861,53204.80768568963,57712.16630014102,62615.48131560465,67949.0410246475,73750.20737525435,80059.6747163615,86921.75390953045,94384.68385801735,102500.97202795603,111327.76587779676,120927.2582829953,131367.12911549094,142721.0268654842,155069.0918358844,168498.52816913155,183104.22385434448],\"yaxis\":\"y\",\"type\":\"scatter\"}],                        {\"template\":{\"data\":{\"barpolar\":[{\"marker\":{\"line\":{\"color\":\"white\",\"width\":0.5},\"pattern\":{\"fillmode\":\"overlay\",\"size\":10,\"solidity\":0.2}},\"type\":\"barpolar\"}],\"bar\":[{\"error_x\":{\"color\":\"#2a3f5f\"},\"error_y\":{\"color\":\"#2a3f5f\"},\"marker\":{\"line\":{\"color\":\"white\",\"width\":0.5},\"pattern\":{\"fillmode\":\"overlay\",\"size\":10,\"solidity\":0.2}},\"type\":\"bar\"}],\"carpet\":[{\"aaxis\":{\"endlinecolor\":\"#2a3f5f\",\"gridcolor\":\"#C8D4E3\",\"linecolor\":\"#C8D4E3\",\"minorgridcolor\":\"#C8D4E3\",\"startlinecolor\":\"#2a3f5f\"},\"baxis\":{\"endlinecolor\":\"#2a3f5f\",\"gridcolor\":\"#C8D4E3\",\"linecolor\":\"#C8D4E3\",\"minorgridcolor\":\"#C8D4E3\",\"startlinecolor\":\"#2a3f5f\"},\"type\":\"carpet\"}],\"choropleth\":[{\"colorbar\":{\"outlinewidth\":0,\"ticks\":\"\"},\"type\":\"choropleth\"}],\"contourcarpet\":[{\"colorbar\":{\"outlinewidth\":0,\"ticks\":\"\"},\"type\":\"contourcarpet\"}],\"contour\":[{\"colorbar\":{\"outlinewidth\":0,\"ticks\":\"\"},\"colorscale\":[[0.0,\"#0d0887\"],[0.1111111111111111,\"#46039f\"],[0.2222222222222222,\"#7201a8\"],[0.3333333333333333,\"#9c179e\"],[0.4444444444444444,\"#bd3786\"],[0.5555555555555556,\"#d8576b\"],[0.6666666666666666,\"#ed7953\"],[0.7777777777777778,\"#fb9f3a\"],[0.8888888888888888,\"#fdca26\"],[1.0,\"#f0f921\"]],\"type\":\"contour\"}],\"heatmapgl\":[{\"colorbar\":{\"outlinewidth\":0,\"ticks\":\"\"},\"colorscale\":[[0.0,\"#0d0887\"],[0.1111111111111111,\"#46039f\"],[0.2222222222222222,\"#7201a8\"],[0.3333333333333333,\"#9c179e\"],[0.4444444444444444,\"#bd3786\"],[0.5555555555555556,\"#d8576b\"],[0.6666666666666666,\"#ed7953\"],[0.7777777777777778,\"#fb9f3a\"],[0.8888888888888888,\"#fdca26\"],[1.0,\"#f0f921\"]],\"type\":\"heatmapgl\"}],\"heatmap\":[{\"colorbar\":{\"outlinewidth\":0,\"ticks\":\"\"},\"colorscale\":[[0.0,\"#0d0887\"],[0.1111111111111111,\"#46039f\"],[0.2222222222222222,\"#7201a8\"],[0.3333333333333333,\"#9c179e\"],[0.4444444444444444,\"#bd3786\"],[0.5555555555555556,\"#d8576b\"],[0.6666666666666666,\"#ed7953\"],[0.7777777777777778,\"#fb9f3a\"],[0.8888888888888888,\"#fdca26\"],[1.0,\"#f0f921\"]],\"type\":\"heatmap\"}],\"histogram2dcontour\":[{\"colorbar\":{\"outlinewidth\":0,\"ticks\":\"\"},\"colorscale\":[[0.0,\"#0d0887\"],[0.1111111111111111,\"#46039f\"],[0.2222222222222222,\"#7201a8\"],[0.3333333333333333,\"#9c179e\"],[0.4444444444444444,\"#bd3786\"],[0.5555555555555556,\"#d8576b\"],[0.6666666666666666,\"#ed7953\"],[0.7777777777777778,\"#fb9f3a\"],[0.8888888888888888,\"#fdca26\"],[1.0,\"#f0f921\"]],\"type\":\"histogram2dcontour\"}],\"histogram2d\":[{\"colorbar\":{\"outlinewidth\":0,\"ticks\":\"\"},\"colorscale\":[[0.0,\"#0d0887\"],[0.1111111111111111,\"#46039f\"],[0.2222222222222222,\"#7201a8\"],[0.3333333333333333,\"#9c179e\"],[0.4444444444444444,\"#bd3786\"],[0.5555555555555556,\"#d8576b\"],[0.6666666666666666,\"#ed7953\"],[0.7777777777777778,\"#fb9f3a\"],[0.8888888888888888,\"#fdca26\"],[1.0,\"#f0f921\"]],\"type\":\"histogram2d\"}],\"histogram\":[{\"marker\":{\"pattern\":{\"fillmode\":\"overlay\",\"size\":10,\"solidity\":0.2}},\"type\":\"histogram\"}],\"mesh3d\":[{\"colorbar\":{\"outlinewidth\":0,\"ticks\":\"\"},\"type\":\"mesh3d\"}],\"parcoords\":[{\"line\":{\"colorbar\":{\"outlinewidth\":0,\"ticks\":\"\"}},\"type\":\"parcoords\"}],\"pie\":[{\"automargin\":true,\"type\":\"pie\"}],\"scatter3d\":[{\"line\":{\"colorbar\":{\"outlinewidth\":0,\"ticks\":\"\"}},\"marker\":{\"colorbar\":{\"outlinewidth\":0,\"ticks\":\"\"}},\"type\":\"scatter3d\"}],\"scattercarpet\":[{\"marker\":{\"colorbar\":{\"outlinewidth\":0,\"ticks\":\"\"}},\"type\":\"scattercarpet\"}],\"scattergeo\":[{\"marker\":{\"colorbar\":{\"outlinewidth\":0,\"ticks\":\"\"}},\"type\":\"scattergeo\"}],\"scattergl\":[{\"marker\":{\"colorbar\":{\"outlinewidth\":0,\"ticks\":\"\"}},\"type\":\"scattergl\"}],\"scattermapbox\":[{\"marker\":{\"colorbar\":{\"outlinewidth\":0,\"ticks\":\"\"}},\"type\":\"scattermapbox\"}],\"scatterpolargl\":[{\"marker\":{\"colorbar\":{\"outlinewidth\":0,\"ticks\":\"\"}},\"type\":\"scatterpolargl\"}],\"scatterpolar\":[{\"marker\":{\"colorbar\":{\"outlinewidth\":0,\"ticks\":\"\"}},\"type\":\"scatterpolar\"}],\"scatter\":[{\"fillpattern\":{\"fillmode\":\"overlay\",\"size\":10,\"solidity\":0.2},\"type\":\"scatter\"}],\"scatterternary\":[{\"marker\":{\"colorbar\":{\"outlinewidth\":0,\"ticks\":\"\"}},\"type\":\"scatterternary\"}],\"surface\":[{\"colorbar\":{\"outlinewidth\":0,\"ticks\":\"\"},\"colorscale\":[[0.0,\"#0d0887\"],[0.1111111111111111,\"#46039f\"],[0.2222222222222222,\"#7201a8\"],[0.3333333333333333,\"#9c179e\"],[0.4444444444444444,\"#bd3786\"],[0.5555555555555556,\"#d8576b\"],[0.6666666666666666,\"#ed7953\"],[0.7777777777777778,\"#fb9f3a\"],[0.8888888888888888,\"#fdca26\"],[1.0,\"#f0f921\"]],\"type\":\"surface\"}],\"table\":[{\"cells\":{\"fill\":{\"color\":\"#EBF0F8\"},\"line\":{\"color\":\"white\"}},\"header\":{\"fill\":{\"color\":\"#C8D4E3\"},\"line\":{\"color\":\"white\"}},\"type\":\"table\"}]},\"layout\":{\"annotationdefaults\":{\"arrowcolor\":\"#2a3f5f\",\"arrowhead\":0,\"arrowwidth\":1},\"autotypenumbers\":\"strict\",\"coloraxis\":{\"colorbar\":{\"outlinewidth\":0,\"ticks\":\"\"}},\"colorscale\":{\"diverging\":[[0,\"#8e0152\"],[0.1,\"#c51b7d\"],[0.2,\"#de77ae\"],[0.3,\"#f1b6da\"],[0.4,\"#fde0ef\"],[0.5,\"#f7f7f7\"],[0.6,\"#e6f5d0\"],[0.7,\"#b8e186\"],[0.8,\"#7fbc41\"],[0.9,\"#4d9221\"],[1,\"#276419\"]],\"sequential\":[[0.0,\"#0d0887\"],[0.1111111111111111,\"#46039f\"],[0.2222222222222222,\"#7201a8\"],[0.3333333333333333,\"#9c179e\"],[0.4444444444444444,\"#bd3786\"],[0.5555555555555556,\"#d8576b\"],[0.6666666666666666,\"#ed7953\"],[0.7777777777777778,\"#fb9f3a\"],[0.8888888888888888,\"#fdca26\"],[1.0,\"#f0f921\"]],\"sequentialminus\":[[0.0,\"#0d0887\"],[0.1111111111111111,\"#46039f\"],[0.2222222222222222,\"#7201a8\"],[0.3333333333333333,\"#9c179e\"],[0.4444444444444444,\"#bd3786\"],[0.5555555555555556,\"#d8576b\"],[0.6666666666666666,\"#ed7953\"],[0.7777777777777778,\"#fb9f3a\"],[0.8888888888888888,\"#fdca26\"],[1.0,\"#f0f921\"]]},\"colorway\":[\"#636efa\",\"#EF553B\",\"#00cc96\",\"#ab63fa\",\"#FFA15A\",\"#19d3f3\",\"#FF6692\",\"#B6E880\",\"#FF97FF\",\"#FECB52\"],\"font\":{\"color\":\"#2a3f5f\"},\"geo\":{\"bgcolor\":\"white\",\"lakecolor\":\"white\",\"landcolor\":\"white\",\"showlakes\":true,\"showland\":true,\"subunitcolor\":\"#C8D4E3\"},\"hoverlabel\":{\"align\":\"left\"},\"hovermode\":\"closest\",\"mapbox\":{\"style\":\"light\"},\"paper_bgcolor\":\"white\",\"plot_bgcolor\":\"white\",\"polar\":{\"angularaxis\":{\"gridcolor\":\"#EBF0F8\",\"linecolor\":\"#EBF0F8\",\"ticks\":\"\"},\"bgcolor\":\"white\",\"radialaxis\":{\"gridcolor\":\"#EBF0F8\",\"linecolor\":\"#EBF0F8\",\"ticks\":\"\"}},\"scene\":{\"xaxis\":{\"backgroundcolor\":\"white\",\"gridcolor\":\"#DFE8F3\",\"gridwidth\":2,\"linecolor\":\"#EBF0F8\",\"showbackground\":true,\"ticks\":\"\",\"zerolinecolor\":\"#EBF0F8\"},\"yaxis\":{\"backgroundcolor\":\"white\",\"gridcolor\":\"#DFE8F3\",\"gridwidth\":2,\"linecolor\":\"#EBF0F8\",\"showbackground\":true,\"ticks\":\"\",\"zerolinecolor\":\"#EBF0F8\"},\"zaxis\":{\"backgroundcolor\":\"white\",\"gridcolor\":\"#DFE8F3\",\"gridwidth\":2,\"linecolor\":\"#EBF0F8\",\"showbackground\":true,\"ticks\":\"\",\"zerolinecolor\":\"#EBF0F8\"}},\"shapedefaults\":{\"line\":{\"color\":\"#2a3f5f\"}},\"ternary\":{\"aaxis\":{\"gridcolor\":\"#DFE8F3\",\"linecolor\":\"#A2B1C6\",\"ticks\":\"\"},\"baxis\":{\"gridcolor\":\"#DFE8F3\",\"linecolor\":\"#A2B1C6\",\"ticks\":\"\"},\"bgcolor\":\"white\",\"caxis\":{\"gridcolor\":\"#DFE8F3\",\"linecolor\":\"#A2B1C6\",\"ticks\":\"\"}},\"title\":{\"x\":0.05},\"xaxis\":{\"automargin\":true,\"gridcolor\":\"#EBF0F8\",\"linecolor\":\"#EBF0F8\",\"ticks\":\"\",\"title\":{\"standoff\":15},\"zerolinecolor\":\"#EBF0F8\",\"zerolinewidth\":2},\"yaxis\":{\"automargin\":true,\"gridcolor\":\"#EBF0F8\",\"linecolor\":\"#EBF0F8\",\"ticks\":\"\",\"title\":{\"standoff\":15},\"zerolinecolor\":\"#EBF0F8\",\"zerolinewidth\":2}}},\"xaxis\":{\"anchor\":\"y\",\"domain\":[0.0,1.0],\"title\":{\"text\":\"Year\"}},\"yaxis\":{\"anchor\":\"x\",\"domain\":[0.0,1.0],\"title\":{\"text\":\"[Tonnes]\"}},\"legend\":{\"title\":{\"text\":\"variable\"},\"tracegroupgap\":0},\"margin\":{\"t\":60},\"title\":{\"text\":\"Yearly Waste M F G\"}},                        {\"responsive\": true}                    ).then(function(){\n",
       "                            \n",
       "var gd = document.getElementById('3c8b6526-57d5-4e4e-9f38-c42af9dfb38b');\n",
       "var x = new MutationObserver(function (mutations, observer) {{\n",
       "        var display = window.getComputedStyle(gd).display;\n",
       "        if (!display || display === 'none') {{\n",
       "            console.log([gd, 'removed!']);\n",
       "            Plotly.purge(gd);\n",
       "            observer.disconnect();\n",
       "        }}\n",
       "}});\n",
       "\n",
       "// Listen for the removal of the full notebook cells\n",
       "var notebookContainer = gd.closest('#notebook-container');\n",
       "if (notebookContainer) {{\n",
       "    x.observe(notebookContainer, {childList: true});\n",
       "}}\n",
       "\n",
       "// Listen for the clearing of the current output cell\n",
       "var outputEl = gd.closest('.output');\n",
       "if (outputEl) {{\n",
       "    x.observe(outputEl, {childList: true});\n",
       "}}\n",
       "\n",
       "                        })                };                });            </script>        </div>"
      ]
     },
     "metadata": {},
     "output_type": "display_data"
    },
    {
     "data": {
      "application/vnd.plotly.v1+json": {
       "config": {
        "plotlyServerURL": "https://plot.ly"
       },
       "data": [
        {
         "hovertemplate": "Glass simulation1 standard",
         "legendgroup": "VirginStock_glass_Simulation1_standard_[Tonnes]",
         "line": {
          "color": "#636efa",
          "dash": "solid"
         },
         "marker": {
          "symbol": "circle"
         },
         "mode": "lines",
         "name": "Glass simulation1 standard",
         "orientation": "v",
         "showlegend": true,
         "type": "scatter",
         "x": [
          1995,
          1996,
          1997,
          1998,
          1999,
          2000,
          2001,
          2002,
          2003,
          2004,
          2005,
          2006,
          2007,
          2008,
          2009,
          2010,
          2011,
          2012,
          2013,
          2014,
          2015,
          2016,
          2017,
          2018,
          2019,
          2020,
          2021,
          2022,
          2023,
          2024,
          2025,
          2026,
          2027,
          2028,
          2029,
          2030,
          2031,
          2032,
          2033,
          2034,
          2035,
          2036,
          2037,
          2038,
          2039,
          2040,
          2041,
          2042,
          2043,
          2044,
          2045,
          2046,
          2047,
          2048,
          2049,
          2050
         ],
         "xaxis": "x",
         "y": [
          858.8167561761546,
          1512.5769229421148,
          2287.512338444579,
          3062.2228360936974,
          4157.451756616261,
          5496.659100719637,
          7263.862572433429,
          9922.255922207394,
          13628.431803366504,
          19454.7689686938,
          25341.869688743987,
          31277.0064988757,
          50704.202679392285,
          69393.96433068375,
          94799.76564632698,
          136855.15480075346,
          238171.450043504,
          410760.16933832865,
          631808.5444544724,
          834675.5063911614,
          1187830.6099817085,
          1828671.0971762156,
          2316034.640441977,
          2766026.9946560916,
          3285407.5367474174,
          3991621.6955651063,
          4761112.68976142,
          5490893.779355909,
          6205207.576853497,
          6986357.046709783,
          7822176.263341429,
          8717072.847291622,
          9691653.307591408,
          10753779.988858748,
          11910755.188360436,
          13154830.829591013,
          14495913.135653494,
          15948764.295264404,
          17523323.51581204,
          19230327.795044325,
          21081463.148699347,
          23089452.4551494,
          25267998.015502542,
          27632157.065088294,
          30198153.039049048,
          32983637.75225342,
          36007907.1727397,
          39291829.99836017,
          42858095.5415348,
          46731440.39141912,
          50938869.26308202,
          55509481.4979938,
          60475187.08767604,
          65870481.84553866,
          71733028.88620423,
          78103672.70663509
         ],
         "yaxis": "y"
        },
        {
         "hovertemplate": "Silicon simulation1 standard",
         "legendgroup": "VirginStock_silicon_Simulation1_standard_[Tonnes]",
         "line": {
          "color": "#EF553B",
          "dash": "solid"
         },
         "marker": {
          "symbol": "circle"
         },
         "mode": "lines",
         "name": "Silicon simulation1 standard",
         "orientation": "v",
         "showlegend": true,
         "type": "scatter",
         "x": [
          1995,
          1996,
          1997,
          1998,
          1999,
          2000,
          2001,
          2002,
          2003,
          2004,
          2005,
          2006,
          2007,
          2008,
          2009,
          2010,
          2011,
          2012,
          2013,
          2014,
          2015,
          2016,
          2017,
          2018,
          2019,
          2020,
          2021,
          2022,
          2023,
          2024,
          2025,
          2026,
          2027,
          2028,
          2029,
          2030,
          2031,
          2032,
          2033,
          2034,
          2035,
          2036,
          2037,
          2038,
          2039,
          2040,
          2041,
          2042,
          2043,
          2044,
          2045,
          2046,
          2047,
          2048,
          2049,
          2050
         ],
         "xaxis": "x",
         "y": [
          192.38581147392287,
          335.96477525032395,
          502.75244901548217,
          666.0888868036029,
          892.1913156165999,
          1162.7791307388857,
          1512.0817000008656,
          2025.8587537271915,
          2725.857644292486,
          3705.65294414652,
          4684.986240391761,
          5661.501711729164,
          8822.450799367532,
          11829.40511127779,
          15870.658473005138,
          20116.64795166786,
          30278.484700894296,
          47778.53014282992,
          69401.93411793839,
          88887.03846715964,
          122914.10933811881,
          181935.50799278019,
          221797.2240592931,
          255302.4754982388,
          291270.43628007284,
          336345.1562520697,
          383561.6742365745,
          426707.9770487446,
          466442.27111527766,
          507076.7395040932,
          549741.0964173245,
          594691.4485428652,
          642241.4441960583,
          692494.3206810318,
          745632.0454902006,
          802366.4013667196,
          863375.0348199701,
          929468.6701720748,
          1001098.7632428666,
          1078754.9007695557,
          1162968.416463475,
          1254316.2595222937,
          1353425.156778439,
          1460976.1071835284,
          1577709.2468448202,
          1704429.123608698,
          1842010.4213411594,
          1991404.1773020632,
          2153644.5385023532,
          2329856.1059664055,
          2521261.920707782,
          2729192.1486448343,
          2955093.527835825,
          3200539.6438355166,
          3467242.1104659904,
          3757062.7319458085
         ],
         "yaxis": "y"
        },
        {
         "hovertemplate": "Module simulation1 standard",
         "legendgroup": "VirginStock_Module_Simulation1_standard_[Tonnes]",
         "line": {
          "color": "#00cc96",
          "dash": "solid"
         },
         "marker": {
          "symbol": "circle"
         },
         "mode": "lines",
         "name": "Module simulation1 standard",
         "orientation": "v",
         "showlegend": true,
         "type": "scatter",
         "x": [
          1995,
          1996,
          1997,
          1998,
          1999,
          2000,
          2001,
          2002,
          2003,
          2004,
          2005,
          2006,
          2007,
          2008,
          2009,
          2010,
          2011,
          2012,
          2013,
          2014,
          2015,
          2016,
          2017,
          2018,
          2019,
          2020,
          2021,
          2022,
          2023,
          2024,
          2025,
          2026,
          2027,
          2028,
          2029,
          2030,
          2031,
          2032,
          2033,
          2034,
          2035,
          2036,
          2037,
          2038,
          2039,
          2040,
          2041,
          2042,
          2043,
          2044,
          2045,
          2046,
          2047,
          2048,
          2049,
          2050
         ],
         "xaxis": "x",
         "y": [
          1051.2025676500775,
          1848.5416981924386,
          2790.2647874600616,
          3728.3117228973006,
          5049.643072232861,
          6659.438231458523,
          8775.944272434295,
          11948.114675934587,
          16354.289447658992,
          23160.42191284032,
          30026.85592913575,
          36938.508210604865,
          59526.65347875982,
          81223.36944196155,
          110670.42411933212,
          156971.8027524213,
          268449.9347443983,
          458538.6994811585,
          701210.4785724108,
          923562.544858321,
          1310744.7193198274,
          2010606.605168996,
          2537831.8645012705,
          3021329.4701543306,
          3576677.973027491,
          4327966.851817177,
          5144674.363997995,
          5917601.756404654,
          6671649.847968776,
          7493433.786213879,
          8371917.359758755,
          9311764.29583449,
          10333894.751787469,
          11446274.309539782,
          12656387.23385064,
          13957197.230957735,
          15359288.170473468,
          16878232.96543648,
          18524422.279054906,
          20309082.695813883,
          22244431.565162826,
          24343768.7146717,
          26621423.172280986,
          29093133.172271825,
          31775862.285893872,
          34688066.87586212,
          37849917.594080865,
          41283234.17566224,
          45011740.080037154,
          49061296.497385524,
          53460131.183789805,
          58238673.64663864,
          63430280.61551187,
          69071021.48937419,
          75200270.99667023,
          81860735.43858092
         ],
         "yaxis": "y"
        },
        {
         "hovertemplate": "Glass simulation1 low quality",
         "legendgroup": "VirginStock_glass_Simulation1_low_quality_[Tonnes]",
         "line": {
          "color": "#ab63fa",
          "dash": "solid"
         },
         "marker": {
          "symbol": "circle"
         },
         "mode": "lines",
         "name": "Glass simulation1 low quality",
         "orientation": "v",
         "showlegend": true,
         "type": "scatter",
         "x": [
          1995,
          1996,
          1997,
          1998,
          1999,
          2000,
          2001,
          2002,
          2003,
          2004,
          2005,
          2006,
          2007,
          2008,
          2009,
          2010,
          2011,
          2012,
          2013,
          2014,
          2015,
          2016,
          2017,
          2018,
          2019,
          2020,
          2021,
          2022,
          2023,
          2024,
          2025,
          2026,
          2027,
          2028,
          2029,
          2030,
          2031,
          2032,
          2033,
          2034,
          2035,
          2036,
          2037,
          2038,
          2039,
          2040,
          2041,
          2042,
          2043,
          2044,
          2045,
          2046,
          2047,
          2048,
          2049,
          2050
         ],
         "xaxis": "x",
         "y": [
          858.8167561761546,
          1512.5769229421148,
          2287.512338444579,
          3062.2228360936974,
          4157.451756616261,
          5496.659100719637,
          7263.862572433429,
          9922.255922207394,
          13628.431803366504,
          19454.7689686938,
          25342.05976527,
          31277.33280801044,
          50704.51161577942,
          69394.25142806995,
          94800.02646808722,
          136855.26227236338,
          238171.450043504,
          410760.16933832865,
          631808.5444544724,
          834675.5063911614,
          1187830.3335954102,
          1828670.476936529,
          2316033.525516361,
          2766025.222826872,
          3285404.750219557,
          3991618.1874819365,
          4761108.521948503,
          5490886.301210725,
          6205197.0874864515,
          6986342.050697841,
          7822152.866357687,
          8717027.356851568,
          9691568.557540547,
          10753646.390323741,
          11910577.665684111,
          13154575.832504086,
          14495507.34770934,
          15948253.97671744,
          17522711.416296154,
          19229615.948032457,
          21080617.66347795,
          23088429.513536856,
          25266853.671990186,
          27630853.675026014,
          30196678.944408372,
          32982017.958531328,
          36006096.59846712,
          39289815.33674647,
          42855904.76984068,
          46729083.58100338,
          50936238.685116656,
          55506607.78129682,
          60471989.23885822,
          65866970.99936093,
          71729174.9203853,
          78099524.1025346
         ],
         "yaxis": "y"
        },
        {
         "hovertemplate": "Silicon simulation1 low quality",
         "legendgroup": "VirginStock_silicon_Simulation1_low_quality_[Tonnes]",
         "line": {
          "color": "#FFA15A",
          "dash": "solid"
         },
         "marker": {
          "symbol": "circle"
         },
         "mode": "lines",
         "name": "Silicon simulation1 low quality",
         "orientation": "v",
         "showlegend": true,
         "type": "scatter",
         "x": [
          1995,
          1996,
          1997,
          1998,
          1999,
          2000,
          2001,
          2002,
          2003,
          2004,
          2005,
          2006,
          2007,
          2008,
          2009,
          2010,
          2011,
          2012,
          2013,
          2014,
          2015,
          2016,
          2017,
          2018,
          2019,
          2020,
          2021,
          2022,
          2023,
          2024,
          2025,
          2026,
          2027,
          2028,
          2029,
          2030,
          2031,
          2032,
          2033,
          2034,
          2035,
          2036,
          2037,
          2038,
          2039,
          2040,
          2041,
          2042,
          2043,
          2044,
          2045,
          2046,
          2047,
          2048,
          2049,
          2050
         ],
         "xaxis": "x",
         "y": [
          192.38581147392287,
          335.96477525032395,
          502.75244901548217,
          666.0888868036029,
          892.1913156165999,
          1162.7791307388857,
          1512.0817000008656,
          2025.8587537271915,
          2725.857644292486,
          3705.65294414652,
          4684.986240391761,
          5661.501711729164,
          8822.450799367532,
          11829.40511127779,
          15870.658473005138,
          20116.64795166786,
          30278.484700894296,
          47778.53014282992,
          69401.93411793839,
          88887.03846715964,
          122914.10933811881,
          181935.50799278019,
          221797.2240592931,
          255302.4754982388,
          291270.43628007284,
          336345.1562520697,
          383561.6742365745,
          426707.9770487446,
          466442.27111527766,
          507076.7395040932,
          549741.0964173245,
          594691.4485428652,
          642241.4441960583,
          692494.3206810318,
          745632.0454902006,
          802366.4013667196,
          863375.0348199701,
          929468.6701720748,
          1001098.7632428666,
          1078754.9007695557,
          1162968.416463475,
          1254316.2595222937,
          1353425.156778439,
          1460976.1071835284,
          1577709.2468448202,
          1704429.123608698,
          1842010.4213411594,
          1991404.1773020632,
          2153644.5385023532,
          2329856.1059664055,
          2521261.920707782,
          2729192.1486448343,
          2955093.527835825,
          3200539.6438355166,
          3467242.1104659904,
          3757062.7319458085
         ],
         "yaxis": "y"
        },
        {
         "hovertemplate": "Module simulation1 low quality",
         "legendgroup": "VirginStock_Module_Simulation1_low_quality_[Tonnes]",
         "line": {
          "color": "#19d3f3",
          "dash": "solid"
         },
         "marker": {
          "symbol": "circle"
         },
         "mode": "lines",
         "name": "Module simulation1 low quality",
         "orientation": "v",
         "showlegend": true,
         "type": "scatter",
         "x": [
          1995,
          1996,
          1997,
          1998,
          1999,
          2000,
          2001,
          2002,
          2003,
          2004,
          2005,
          2006,
          2007,
          2008,
          2009,
          2010,
          2011,
          2012,
          2013,
          2014,
          2015,
          2016,
          2017,
          2018,
          2019,
          2020,
          2021,
          2022,
          2023,
          2024,
          2025,
          2026,
          2027,
          2028,
          2029,
          2030,
          2031,
          2032,
          2033,
          2034,
          2035,
          2036,
          2037,
          2038,
          2039,
          2040,
          2041,
          2042,
          2043,
          2044,
          2045,
          2046,
          2047,
          2048,
          2049,
          2050
         ],
         "xaxis": "x",
         "y": [
          1051.2025676500775,
          1848.5416981924386,
          2790.2647874600616,
          3728.3117228973006,
          5049.643072232861,
          6659.438231458523,
          8775.944272434295,
          11948.114675934587,
          16354.289447658992,
          23160.42191284032,
          30027.046005661763,
          36938.834519739605,
          59526.962415146954,
          81223.65653934775,
          110670.68494109238,
          156971.91022403125,
          268449.9347443983,
          458538.6994811585,
          701210.4785724108,
          923562.544858321,
          1310744.442933529,
          2010605.9849293088,
          2537830.749575654,
          3021327.6983251106,
          3576675.1864996296,
          4327963.343734006,
          5144670.1961850785,
          5917594.27825947,
          6671639.358601729,
          7493418.790201934,
          8371893.962775012,
          9311718.805394433,
          10333810.001736606,
          11446140.711004773,
          12656209.711174313,
          13956942.233870806,
          15358882.38252931,
          16877722.646889515,
          18523810.17953902,
          20308370.84880201,
          22243586.07994142,
          24342745.773059145,
          26620278.82876862,
          29091829.782209538,
          31774388.19125319,
          34686447.08214002,
          37848107.01980827,
          41281219.514048524,
          45009549.30834302,
          49058939.68696978,
          53457500.605824426,
          58235799.92994164,
          63427082.76669403,
          69067510.64319643,
          75196417.03085129,
          81856586.83448042
         ],
         "yaxis": "y"
        }
       ],
       "layout": {
        "legend": {
         "title": {
          "text": "variable"
         },
         "tracegroupgap": 0
        },
        "margin": {
         "t": 60
        },
        "template": {
         "data": {
          "bar": [
           {
            "error_x": {
             "color": "#2a3f5f"
            },
            "error_y": {
             "color": "#2a3f5f"
            },
            "marker": {
             "line": {
              "color": "white",
              "width": 0.5
             },
             "pattern": {
              "fillmode": "overlay",
              "size": 10,
              "solidity": 0.2
             }
            },
            "type": "bar"
           }
          ],
          "barpolar": [
           {
            "marker": {
             "line": {
              "color": "white",
              "width": 0.5
             },
             "pattern": {
              "fillmode": "overlay",
              "size": 10,
              "solidity": 0.2
             }
            },
            "type": "barpolar"
           }
          ],
          "carpet": [
           {
            "aaxis": {
             "endlinecolor": "#2a3f5f",
             "gridcolor": "#C8D4E3",
             "linecolor": "#C8D4E3",
             "minorgridcolor": "#C8D4E3",
             "startlinecolor": "#2a3f5f"
            },
            "baxis": {
             "endlinecolor": "#2a3f5f",
             "gridcolor": "#C8D4E3",
             "linecolor": "#C8D4E3",
             "minorgridcolor": "#C8D4E3",
             "startlinecolor": "#2a3f5f"
            },
            "type": "carpet"
           }
          ],
          "choropleth": [
           {
            "colorbar": {
             "outlinewidth": 0,
             "ticks": ""
            },
            "type": "choropleth"
           }
          ],
          "contour": [
           {
            "colorbar": {
             "outlinewidth": 0,
             "ticks": ""
            },
            "colorscale": [
             [
              0,
              "#0d0887"
             ],
             [
              0.1111111111111111,
              "#46039f"
             ],
             [
              0.2222222222222222,
              "#7201a8"
             ],
             [
              0.3333333333333333,
              "#9c179e"
             ],
             [
              0.4444444444444444,
              "#bd3786"
             ],
             [
              0.5555555555555556,
              "#d8576b"
             ],
             [
              0.6666666666666666,
              "#ed7953"
             ],
             [
              0.7777777777777778,
              "#fb9f3a"
             ],
             [
              0.8888888888888888,
              "#fdca26"
             ],
             [
              1,
              "#f0f921"
             ]
            ],
            "type": "contour"
           }
          ],
          "contourcarpet": [
           {
            "colorbar": {
             "outlinewidth": 0,
             "ticks": ""
            },
            "type": "contourcarpet"
           }
          ],
          "heatmap": [
           {
            "colorbar": {
             "outlinewidth": 0,
             "ticks": ""
            },
            "colorscale": [
             [
              0,
              "#0d0887"
             ],
             [
              0.1111111111111111,
              "#46039f"
             ],
             [
              0.2222222222222222,
              "#7201a8"
             ],
             [
              0.3333333333333333,
              "#9c179e"
             ],
             [
              0.4444444444444444,
              "#bd3786"
             ],
             [
              0.5555555555555556,
              "#d8576b"
             ],
             [
              0.6666666666666666,
              "#ed7953"
             ],
             [
              0.7777777777777778,
              "#fb9f3a"
             ],
             [
              0.8888888888888888,
              "#fdca26"
             ],
             [
              1,
              "#f0f921"
             ]
            ],
            "type": "heatmap"
           }
          ],
          "heatmapgl": [
           {
            "colorbar": {
             "outlinewidth": 0,
             "ticks": ""
            },
            "colorscale": [
             [
              0,
              "#0d0887"
             ],
             [
              0.1111111111111111,
              "#46039f"
             ],
             [
              0.2222222222222222,
              "#7201a8"
             ],
             [
              0.3333333333333333,
              "#9c179e"
             ],
             [
              0.4444444444444444,
              "#bd3786"
             ],
             [
              0.5555555555555556,
              "#d8576b"
             ],
             [
              0.6666666666666666,
              "#ed7953"
             ],
             [
              0.7777777777777778,
              "#fb9f3a"
             ],
             [
              0.8888888888888888,
              "#fdca26"
             ],
             [
              1,
              "#f0f921"
             ]
            ],
            "type": "heatmapgl"
           }
          ],
          "histogram": [
           {
            "marker": {
             "pattern": {
              "fillmode": "overlay",
              "size": 10,
              "solidity": 0.2
             }
            },
            "type": "histogram"
           }
          ],
          "histogram2d": [
           {
            "colorbar": {
             "outlinewidth": 0,
             "ticks": ""
            },
            "colorscale": [
             [
              0,
              "#0d0887"
             ],
             [
              0.1111111111111111,
              "#46039f"
             ],
             [
              0.2222222222222222,
              "#7201a8"
             ],
             [
              0.3333333333333333,
              "#9c179e"
             ],
             [
              0.4444444444444444,
              "#bd3786"
             ],
             [
              0.5555555555555556,
              "#d8576b"
             ],
             [
              0.6666666666666666,
              "#ed7953"
             ],
             [
              0.7777777777777778,
              "#fb9f3a"
             ],
             [
              0.8888888888888888,
              "#fdca26"
             ],
             [
              1,
              "#f0f921"
             ]
            ],
            "type": "histogram2d"
           }
          ],
          "histogram2dcontour": [
           {
            "colorbar": {
             "outlinewidth": 0,
             "ticks": ""
            },
            "colorscale": [
             [
              0,
              "#0d0887"
             ],
             [
              0.1111111111111111,
              "#46039f"
             ],
             [
              0.2222222222222222,
              "#7201a8"
             ],
             [
              0.3333333333333333,
              "#9c179e"
             ],
             [
              0.4444444444444444,
              "#bd3786"
             ],
             [
              0.5555555555555556,
              "#d8576b"
             ],
             [
              0.6666666666666666,
              "#ed7953"
             ],
             [
              0.7777777777777778,
              "#fb9f3a"
             ],
             [
              0.8888888888888888,
              "#fdca26"
             ],
             [
              1,
              "#f0f921"
             ]
            ],
            "type": "histogram2dcontour"
           }
          ],
          "mesh3d": [
           {
            "colorbar": {
             "outlinewidth": 0,
             "ticks": ""
            },
            "type": "mesh3d"
           }
          ],
          "parcoords": [
           {
            "line": {
             "colorbar": {
              "outlinewidth": 0,
              "ticks": ""
             }
            },
            "type": "parcoords"
           }
          ],
          "pie": [
           {
            "automargin": true,
            "type": "pie"
           }
          ],
          "scatter": [
           {
            "fillpattern": {
             "fillmode": "overlay",
             "size": 10,
             "solidity": 0.2
            },
            "type": "scatter"
           }
          ],
          "scatter3d": [
           {
            "line": {
             "colorbar": {
              "outlinewidth": 0,
              "ticks": ""
             }
            },
            "marker": {
             "colorbar": {
              "outlinewidth": 0,
              "ticks": ""
             }
            },
            "type": "scatter3d"
           }
          ],
          "scattercarpet": [
           {
            "marker": {
             "colorbar": {
              "outlinewidth": 0,
              "ticks": ""
             }
            },
            "type": "scattercarpet"
           }
          ],
          "scattergeo": [
           {
            "marker": {
             "colorbar": {
              "outlinewidth": 0,
              "ticks": ""
             }
            },
            "type": "scattergeo"
           }
          ],
          "scattergl": [
           {
            "marker": {
             "colorbar": {
              "outlinewidth": 0,
              "ticks": ""
             }
            },
            "type": "scattergl"
           }
          ],
          "scattermapbox": [
           {
            "marker": {
             "colorbar": {
              "outlinewidth": 0,
              "ticks": ""
             }
            },
            "type": "scattermapbox"
           }
          ],
          "scatterpolar": [
           {
            "marker": {
             "colorbar": {
              "outlinewidth": 0,
              "ticks": ""
             }
            },
            "type": "scatterpolar"
           }
          ],
          "scatterpolargl": [
           {
            "marker": {
             "colorbar": {
              "outlinewidth": 0,
              "ticks": ""
             }
            },
            "type": "scatterpolargl"
           }
          ],
          "scatterternary": [
           {
            "marker": {
             "colorbar": {
              "outlinewidth": 0,
              "ticks": ""
             }
            },
            "type": "scatterternary"
           }
          ],
          "surface": [
           {
            "colorbar": {
             "outlinewidth": 0,
             "ticks": ""
            },
            "colorscale": [
             [
              0,
              "#0d0887"
             ],
             [
              0.1111111111111111,
              "#46039f"
             ],
             [
              0.2222222222222222,
              "#7201a8"
             ],
             [
              0.3333333333333333,
              "#9c179e"
             ],
             [
              0.4444444444444444,
              "#bd3786"
             ],
             [
              0.5555555555555556,
              "#d8576b"
             ],
             [
              0.6666666666666666,
              "#ed7953"
             ],
             [
              0.7777777777777778,
              "#fb9f3a"
             ],
             [
              0.8888888888888888,
              "#fdca26"
             ],
             [
              1,
              "#f0f921"
             ]
            ],
            "type": "surface"
           }
          ],
          "table": [
           {
            "cells": {
             "fill": {
              "color": "#EBF0F8"
             },
             "line": {
              "color": "white"
             }
            },
            "header": {
             "fill": {
              "color": "#C8D4E3"
             },
             "line": {
              "color": "white"
             }
            },
            "type": "table"
           }
          ]
         },
         "layout": {
          "annotationdefaults": {
           "arrowcolor": "#2a3f5f",
           "arrowhead": 0,
           "arrowwidth": 1
          },
          "autotypenumbers": "strict",
          "coloraxis": {
           "colorbar": {
            "outlinewidth": 0,
            "ticks": ""
           }
          },
          "colorscale": {
           "diverging": [
            [
             0,
             "#8e0152"
            ],
            [
             0.1,
             "#c51b7d"
            ],
            [
             0.2,
             "#de77ae"
            ],
            [
             0.3,
             "#f1b6da"
            ],
            [
             0.4,
             "#fde0ef"
            ],
            [
             0.5,
             "#f7f7f7"
            ],
            [
             0.6,
             "#e6f5d0"
            ],
            [
             0.7,
             "#b8e186"
            ],
            [
             0.8,
             "#7fbc41"
            ],
            [
             0.9,
             "#4d9221"
            ],
            [
             1,
             "#276419"
            ]
           ],
           "sequential": [
            [
             0,
             "#0d0887"
            ],
            [
             0.1111111111111111,
             "#46039f"
            ],
            [
             0.2222222222222222,
             "#7201a8"
            ],
            [
             0.3333333333333333,
             "#9c179e"
            ],
            [
             0.4444444444444444,
             "#bd3786"
            ],
            [
             0.5555555555555556,
             "#d8576b"
            ],
            [
             0.6666666666666666,
             "#ed7953"
            ],
            [
             0.7777777777777778,
             "#fb9f3a"
            ],
            [
             0.8888888888888888,
             "#fdca26"
            ],
            [
             1,
             "#f0f921"
            ]
           ],
           "sequentialminus": [
            [
             0,
             "#0d0887"
            ],
            [
             0.1111111111111111,
             "#46039f"
            ],
            [
             0.2222222222222222,
             "#7201a8"
            ],
            [
             0.3333333333333333,
             "#9c179e"
            ],
            [
             0.4444444444444444,
             "#bd3786"
            ],
            [
             0.5555555555555556,
             "#d8576b"
            ],
            [
             0.6666666666666666,
             "#ed7953"
            ],
            [
             0.7777777777777778,
             "#fb9f3a"
            ],
            [
             0.8888888888888888,
             "#fdca26"
            ],
            [
             1,
             "#f0f921"
            ]
           ]
          },
          "colorway": [
           "#636efa",
           "#EF553B",
           "#00cc96",
           "#ab63fa",
           "#FFA15A",
           "#19d3f3",
           "#FF6692",
           "#B6E880",
           "#FF97FF",
           "#FECB52"
          ],
          "font": {
           "color": "#2a3f5f"
          },
          "geo": {
           "bgcolor": "white",
           "lakecolor": "white",
           "landcolor": "white",
           "showlakes": true,
           "showland": true,
           "subunitcolor": "#C8D4E3"
          },
          "hoverlabel": {
           "align": "left"
          },
          "hovermode": "closest",
          "mapbox": {
           "style": "light"
          },
          "paper_bgcolor": "white",
          "plot_bgcolor": "white",
          "polar": {
           "angularaxis": {
            "gridcolor": "#EBF0F8",
            "linecolor": "#EBF0F8",
            "ticks": ""
           },
           "bgcolor": "white",
           "radialaxis": {
            "gridcolor": "#EBF0F8",
            "linecolor": "#EBF0F8",
            "ticks": ""
           }
          },
          "scene": {
           "xaxis": {
            "backgroundcolor": "white",
            "gridcolor": "#DFE8F3",
            "gridwidth": 2,
            "linecolor": "#EBF0F8",
            "showbackground": true,
            "ticks": "",
            "zerolinecolor": "#EBF0F8"
           },
           "yaxis": {
            "backgroundcolor": "white",
            "gridcolor": "#DFE8F3",
            "gridwidth": 2,
            "linecolor": "#EBF0F8",
            "showbackground": true,
            "ticks": "",
            "zerolinecolor": "#EBF0F8"
           },
           "zaxis": {
            "backgroundcolor": "white",
            "gridcolor": "#DFE8F3",
            "gridwidth": 2,
            "linecolor": "#EBF0F8",
            "showbackground": true,
            "ticks": "",
            "zerolinecolor": "#EBF0F8"
           }
          },
          "shapedefaults": {
           "line": {
            "color": "#2a3f5f"
           }
          },
          "ternary": {
           "aaxis": {
            "gridcolor": "#DFE8F3",
            "linecolor": "#A2B1C6",
            "ticks": ""
           },
           "baxis": {
            "gridcolor": "#DFE8F3",
            "linecolor": "#A2B1C6",
            "ticks": ""
           },
           "bgcolor": "white",
           "caxis": {
            "gridcolor": "#DFE8F3",
            "linecolor": "#A2B1C6",
            "ticks": ""
           }
          },
          "title": {
           "x": 0.05
          },
          "xaxis": {
           "automargin": true,
           "gridcolor": "#EBF0F8",
           "linecolor": "#EBF0F8",
           "ticks": "",
           "title": {
            "standoff": 15
           },
           "zerolinecolor": "#EBF0F8",
           "zerolinewidth": 2
          },
          "yaxis": {
           "automargin": true,
           "gridcolor": "#EBF0F8",
           "linecolor": "#EBF0F8",
           "ticks": "",
           "title": {
            "standoff": 15
           },
           "zerolinecolor": "#EBF0F8",
           "zerolinewidth": 2
          }
         }
        },
        "title": {
         "text": "Cumulative Virgin Stock"
        },
        "xaxis": {
         "anchor": "y",
         "domain": [
          0,
          1
         ],
         "title": {
          "text": "Year"
         }
        },
        "yaxis": {
         "anchor": "x",
         "domain": [
          0,
          1
         ],
         "title": {
          "text": "[Tonnes]"
         }
        }
       }
      },
      "text/html": [
       "<div>                            <div id=\"583f8ac0-440b-4676-8565-e4d740b7b5a9\" class=\"plotly-graph-div\" style=\"height:525px; width:100%;\"></div>            <script type=\"text/javascript\">                require([\"plotly\"], function(Plotly) {                    window.PLOTLYENV=window.PLOTLYENV || {};                                    if (document.getElementById(\"583f8ac0-440b-4676-8565-e4d740b7b5a9\")) {                    Plotly.newPlot(                        \"583f8ac0-440b-4676-8565-e4d740b7b5a9\",                        [{\"hovertemplate\":\"Glass simulation1 standard\",\"legendgroup\":\"VirginStock_glass_Simulation1_standard_[Tonnes]\",\"line\":{\"color\":\"#636efa\",\"dash\":\"solid\"},\"marker\":{\"symbol\":\"circle\"},\"mode\":\"lines\",\"name\":\"Glass simulation1 standard\",\"orientation\":\"v\",\"showlegend\":true,\"x\":[1995,1996,1997,1998,1999,2000,2001,2002,2003,2004,2005,2006,2007,2008,2009,2010,2011,2012,2013,2014,2015,2016,2017,2018,2019,2020,2021,2022,2023,2024,2025,2026,2027,2028,2029,2030,2031,2032,2033,2034,2035,2036,2037,2038,2039,2040,2041,2042,2043,2044,2045,2046,2047,2048,2049,2050],\"xaxis\":\"x\",\"y\":[858.8167561761546,1512.5769229421148,2287.512338444579,3062.2228360936974,4157.451756616261,5496.659100719637,7263.862572433429,9922.255922207394,13628.431803366504,19454.7689686938,25341.869688743987,31277.0064988757,50704.202679392285,69393.96433068375,94799.76564632698,136855.15480075346,238171.450043504,410760.16933832865,631808.5444544724,834675.5063911614,1187830.6099817085,1828671.0971762156,2316034.640441977,2766026.9946560916,3285407.5367474174,3991621.6955651063,4761112.68976142,5490893.779355909,6205207.576853497,6986357.046709783,7822176.263341429,8717072.847291622,9691653.307591408,10753779.988858748,11910755.188360436,13154830.829591013,14495913.135653494,15948764.295264404,17523323.51581204,19230327.795044325,21081463.148699347,23089452.4551494,25267998.015502542,27632157.065088294,30198153.039049048,32983637.75225342,36007907.1727397,39291829.99836017,42858095.5415348,46731440.39141912,50938869.26308202,55509481.4979938,60475187.08767604,65870481.84553866,71733028.88620423,78103672.70663509],\"yaxis\":\"y\",\"type\":\"scatter\"},{\"hovertemplate\":\"Silicon simulation1 standard\",\"legendgroup\":\"VirginStock_silicon_Simulation1_standard_[Tonnes]\",\"line\":{\"color\":\"#EF553B\",\"dash\":\"solid\"},\"marker\":{\"symbol\":\"circle\"},\"mode\":\"lines\",\"name\":\"Silicon simulation1 standard\",\"orientation\":\"v\",\"showlegend\":true,\"x\":[1995,1996,1997,1998,1999,2000,2001,2002,2003,2004,2005,2006,2007,2008,2009,2010,2011,2012,2013,2014,2015,2016,2017,2018,2019,2020,2021,2022,2023,2024,2025,2026,2027,2028,2029,2030,2031,2032,2033,2034,2035,2036,2037,2038,2039,2040,2041,2042,2043,2044,2045,2046,2047,2048,2049,2050],\"xaxis\":\"x\",\"y\":[192.38581147392287,335.96477525032395,502.75244901548217,666.0888868036029,892.1913156165999,1162.7791307388857,1512.0817000008656,2025.8587537271915,2725.857644292486,3705.65294414652,4684.986240391761,5661.501711729164,8822.450799367532,11829.40511127779,15870.658473005138,20116.64795166786,30278.484700894296,47778.53014282992,69401.93411793839,88887.03846715964,122914.10933811881,181935.50799278019,221797.2240592931,255302.4754982388,291270.43628007284,336345.1562520697,383561.6742365745,426707.9770487446,466442.27111527766,507076.7395040932,549741.0964173245,594691.4485428652,642241.4441960583,692494.3206810318,745632.0454902006,802366.4013667196,863375.0348199701,929468.6701720748,1001098.7632428666,1078754.9007695557,1162968.416463475,1254316.2595222937,1353425.156778439,1460976.1071835284,1577709.2468448202,1704429.123608698,1842010.4213411594,1991404.1773020632,2153644.5385023532,2329856.1059664055,2521261.920707782,2729192.1486448343,2955093.527835825,3200539.6438355166,3467242.1104659904,3757062.7319458085],\"yaxis\":\"y\",\"type\":\"scatter\"},{\"hovertemplate\":\"Module simulation1 standard\",\"legendgroup\":\"VirginStock_Module_Simulation1_standard_[Tonnes]\",\"line\":{\"color\":\"#00cc96\",\"dash\":\"solid\"},\"marker\":{\"symbol\":\"circle\"},\"mode\":\"lines\",\"name\":\"Module simulation1 standard\",\"orientation\":\"v\",\"showlegend\":true,\"x\":[1995,1996,1997,1998,1999,2000,2001,2002,2003,2004,2005,2006,2007,2008,2009,2010,2011,2012,2013,2014,2015,2016,2017,2018,2019,2020,2021,2022,2023,2024,2025,2026,2027,2028,2029,2030,2031,2032,2033,2034,2035,2036,2037,2038,2039,2040,2041,2042,2043,2044,2045,2046,2047,2048,2049,2050],\"xaxis\":\"x\",\"y\":[1051.2025676500775,1848.5416981924386,2790.2647874600616,3728.3117228973006,5049.643072232861,6659.438231458523,8775.944272434295,11948.114675934587,16354.289447658992,23160.42191284032,30026.85592913575,36938.508210604865,59526.65347875982,81223.36944196155,110670.42411933212,156971.8027524213,268449.9347443983,458538.6994811585,701210.4785724108,923562.544858321,1310744.7193198274,2010606.605168996,2537831.8645012705,3021329.4701543306,3576677.973027491,4327966.851817177,5144674.363997995,5917601.756404654,6671649.847968776,7493433.786213879,8371917.359758755,9311764.29583449,10333894.751787469,11446274.309539782,12656387.23385064,13957197.230957735,15359288.170473468,16878232.96543648,18524422.279054906,20309082.695813883,22244431.565162826,24343768.7146717,26621423.172280986,29093133.172271825,31775862.285893872,34688066.87586212,37849917.594080865,41283234.17566224,45011740.080037154,49061296.497385524,53460131.183789805,58238673.64663864,63430280.61551187,69071021.48937419,75200270.99667023,81860735.43858092],\"yaxis\":\"y\",\"type\":\"scatter\"},{\"hovertemplate\":\"Glass simulation1 low quality\",\"legendgroup\":\"VirginStock_glass_Simulation1_low_quality_[Tonnes]\",\"line\":{\"color\":\"#ab63fa\",\"dash\":\"solid\"},\"marker\":{\"symbol\":\"circle\"},\"mode\":\"lines\",\"name\":\"Glass simulation1 low quality\",\"orientation\":\"v\",\"showlegend\":true,\"x\":[1995,1996,1997,1998,1999,2000,2001,2002,2003,2004,2005,2006,2007,2008,2009,2010,2011,2012,2013,2014,2015,2016,2017,2018,2019,2020,2021,2022,2023,2024,2025,2026,2027,2028,2029,2030,2031,2032,2033,2034,2035,2036,2037,2038,2039,2040,2041,2042,2043,2044,2045,2046,2047,2048,2049,2050],\"xaxis\":\"x\",\"y\":[858.8167561761546,1512.5769229421148,2287.512338444579,3062.2228360936974,4157.451756616261,5496.659100719637,7263.862572433429,9922.255922207394,13628.431803366504,19454.7689686938,25342.05976527,31277.33280801044,50704.51161577942,69394.25142806995,94800.02646808722,136855.26227236338,238171.450043504,410760.16933832865,631808.5444544724,834675.5063911614,1187830.3335954102,1828670.476936529,2316033.525516361,2766025.222826872,3285404.750219557,3991618.1874819365,4761108.521948503,5490886.301210725,6205197.0874864515,6986342.050697841,7822152.866357687,8717027.356851568,9691568.557540547,10753646.390323741,11910577.665684111,13154575.832504086,14495507.34770934,15948253.97671744,17522711.416296154,19229615.948032457,21080617.66347795,23088429.513536856,25266853.671990186,27630853.675026014,30196678.944408372,32982017.958531328,36006096.59846712,39289815.33674647,42855904.76984068,46729083.58100338,50936238.685116656,55506607.78129682,60471989.23885822,65866970.99936093,71729174.9203853,78099524.1025346],\"yaxis\":\"y\",\"type\":\"scatter\"},{\"hovertemplate\":\"Silicon simulation1 low quality\",\"legendgroup\":\"VirginStock_silicon_Simulation1_low_quality_[Tonnes]\",\"line\":{\"color\":\"#FFA15A\",\"dash\":\"solid\"},\"marker\":{\"symbol\":\"circle\"},\"mode\":\"lines\",\"name\":\"Silicon simulation1 low quality\",\"orientation\":\"v\",\"showlegend\":true,\"x\":[1995,1996,1997,1998,1999,2000,2001,2002,2003,2004,2005,2006,2007,2008,2009,2010,2011,2012,2013,2014,2015,2016,2017,2018,2019,2020,2021,2022,2023,2024,2025,2026,2027,2028,2029,2030,2031,2032,2033,2034,2035,2036,2037,2038,2039,2040,2041,2042,2043,2044,2045,2046,2047,2048,2049,2050],\"xaxis\":\"x\",\"y\":[192.38581147392287,335.96477525032395,502.75244901548217,666.0888868036029,892.1913156165999,1162.7791307388857,1512.0817000008656,2025.8587537271915,2725.857644292486,3705.65294414652,4684.986240391761,5661.501711729164,8822.450799367532,11829.40511127779,15870.658473005138,20116.64795166786,30278.484700894296,47778.53014282992,69401.93411793839,88887.03846715964,122914.10933811881,181935.50799278019,221797.2240592931,255302.4754982388,291270.43628007284,336345.1562520697,383561.6742365745,426707.9770487446,466442.27111527766,507076.7395040932,549741.0964173245,594691.4485428652,642241.4441960583,692494.3206810318,745632.0454902006,802366.4013667196,863375.0348199701,929468.6701720748,1001098.7632428666,1078754.9007695557,1162968.416463475,1254316.2595222937,1353425.156778439,1460976.1071835284,1577709.2468448202,1704429.123608698,1842010.4213411594,1991404.1773020632,2153644.5385023532,2329856.1059664055,2521261.920707782,2729192.1486448343,2955093.527835825,3200539.6438355166,3467242.1104659904,3757062.7319458085],\"yaxis\":\"y\",\"type\":\"scatter\"},{\"hovertemplate\":\"Module simulation1 low quality\",\"legendgroup\":\"VirginStock_Module_Simulation1_low_quality_[Tonnes]\",\"line\":{\"color\":\"#19d3f3\",\"dash\":\"solid\"},\"marker\":{\"symbol\":\"circle\"},\"mode\":\"lines\",\"name\":\"Module simulation1 low quality\",\"orientation\":\"v\",\"showlegend\":true,\"x\":[1995,1996,1997,1998,1999,2000,2001,2002,2003,2004,2005,2006,2007,2008,2009,2010,2011,2012,2013,2014,2015,2016,2017,2018,2019,2020,2021,2022,2023,2024,2025,2026,2027,2028,2029,2030,2031,2032,2033,2034,2035,2036,2037,2038,2039,2040,2041,2042,2043,2044,2045,2046,2047,2048,2049,2050],\"xaxis\":\"x\",\"y\":[1051.2025676500775,1848.5416981924386,2790.2647874600616,3728.3117228973006,5049.643072232861,6659.438231458523,8775.944272434295,11948.114675934587,16354.289447658992,23160.42191284032,30027.046005661763,36938.834519739605,59526.962415146954,81223.65653934775,110670.68494109238,156971.91022403125,268449.9347443983,458538.6994811585,701210.4785724108,923562.544858321,1310744.442933529,2010605.9849293088,2537830.749575654,3021327.6983251106,3576675.1864996296,4327963.343734006,5144670.1961850785,5917594.27825947,6671639.358601729,7493418.790201934,8371893.962775012,9311718.805394433,10333810.001736606,11446140.711004773,12656209.711174313,13956942.233870806,15358882.38252931,16877722.646889515,18523810.17953902,20308370.84880201,22243586.07994142,24342745.773059145,26620278.82876862,29091829.782209538,31774388.19125319,34686447.08214002,37848107.01980827,41281219.514048524,45009549.30834302,49058939.68696978,53457500.605824426,58235799.92994164,63427082.76669403,69067510.64319643,75196417.03085129,81856586.83448042],\"yaxis\":\"y\",\"type\":\"scatter\"}],                        {\"template\":{\"data\":{\"barpolar\":[{\"marker\":{\"line\":{\"color\":\"white\",\"width\":0.5},\"pattern\":{\"fillmode\":\"overlay\",\"size\":10,\"solidity\":0.2}},\"type\":\"barpolar\"}],\"bar\":[{\"error_x\":{\"color\":\"#2a3f5f\"},\"error_y\":{\"color\":\"#2a3f5f\"},\"marker\":{\"line\":{\"color\":\"white\",\"width\":0.5},\"pattern\":{\"fillmode\":\"overlay\",\"size\":10,\"solidity\":0.2}},\"type\":\"bar\"}],\"carpet\":[{\"aaxis\":{\"endlinecolor\":\"#2a3f5f\",\"gridcolor\":\"#C8D4E3\",\"linecolor\":\"#C8D4E3\",\"minorgridcolor\":\"#C8D4E3\",\"startlinecolor\":\"#2a3f5f\"},\"baxis\":{\"endlinecolor\":\"#2a3f5f\",\"gridcolor\":\"#C8D4E3\",\"linecolor\":\"#C8D4E3\",\"minorgridcolor\":\"#C8D4E3\",\"startlinecolor\":\"#2a3f5f\"},\"type\":\"carpet\"}],\"choropleth\":[{\"colorbar\":{\"outlinewidth\":0,\"ticks\":\"\"},\"type\":\"choropleth\"}],\"contourcarpet\":[{\"colorbar\":{\"outlinewidth\":0,\"ticks\":\"\"},\"type\":\"contourcarpet\"}],\"contour\":[{\"colorbar\":{\"outlinewidth\":0,\"ticks\":\"\"},\"colorscale\":[[0.0,\"#0d0887\"],[0.1111111111111111,\"#46039f\"],[0.2222222222222222,\"#7201a8\"],[0.3333333333333333,\"#9c179e\"],[0.4444444444444444,\"#bd3786\"],[0.5555555555555556,\"#d8576b\"],[0.6666666666666666,\"#ed7953\"],[0.7777777777777778,\"#fb9f3a\"],[0.8888888888888888,\"#fdca26\"],[1.0,\"#f0f921\"]],\"type\":\"contour\"}],\"heatmapgl\":[{\"colorbar\":{\"outlinewidth\":0,\"ticks\":\"\"},\"colorscale\":[[0.0,\"#0d0887\"],[0.1111111111111111,\"#46039f\"],[0.2222222222222222,\"#7201a8\"],[0.3333333333333333,\"#9c179e\"],[0.4444444444444444,\"#bd3786\"],[0.5555555555555556,\"#d8576b\"],[0.6666666666666666,\"#ed7953\"],[0.7777777777777778,\"#fb9f3a\"],[0.8888888888888888,\"#fdca26\"],[1.0,\"#f0f921\"]],\"type\":\"heatmapgl\"}],\"heatmap\":[{\"colorbar\":{\"outlinewidth\":0,\"ticks\":\"\"},\"colorscale\":[[0.0,\"#0d0887\"],[0.1111111111111111,\"#46039f\"],[0.2222222222222222,\"#7201a8\"],[0.3333333333333333,\"#9c179e\"],[0.4444444444444444,\"#bd3786\"],[0.5555555555555556,\"#d8576b\"],[0.6666666666666666,\"#ed7953\"],[0.7777777777777778,\"#fb9f3a\"],[0.8888888888888888,\"#fdca26\"],[1.0,\"#f0f921\"]],\"type\":\"heatmap\"}],\"histogram2dcontour\":[{\"colorbar\":{\"outlinewidth\":0,\"ticks\":\"\"},\"colorscale\":[[0.0,\"#0d0887\"],[0.1111111111111111,\"#46039f\"],[0.2222222222222222,\"#7201a8\"],[0.3333333333333333,\"#9c179e\"],[0.4444444444444444,\"#bd3786\"],[0.5555555555555556,\"#d8576b\"],[0.6666666666666666,\"#ed7953\"],[0.7777777777777778,\"#fb9f3a\"],[0.8888888888888888,\"#fdca26\"],[1.0,\"#f0f921\"]],\"type\":\"histogram2dcontour\"}],\"histogram2d\":[{\"colorbar\":{\"outlinewidth\":0,\"ticks\":\"\"},\"colorscale\":[[0.0,\"#0d0887\"],[0.1111111111111111,\"#46039f\"],[0.2222222222222222,\"#7201a8\"],[0.3333333333333333,\"#9c179e\"],[0.4444444444444444,\"#bd3786\"],[0.5555555555555556,\"#d8576b\"],[0.6666666666666666,\"#ed7953\"],[0.7777777777777778,\"#fb9f3a\"],[0.8888888888888888,\"#fdca26\"],[1.0,\"#f0f921\"]],\"type\":\"histogram2d\"}],\"histogram\":[{\"marker\":{\"pattern\":{\"fillmode\":\"overlay\",\"size\":10,\"solidity\":0.2}},\"type\":\"histogram\"}],\"mesh3d\":[{\"colorbar\":{\"outlinewidth\":0,\"ticks\":\"\"},\"type\":\"mesh3d\"}],\"parcoords\":[{\"line\":{\"colorbar\":{\"outlinewidth\":0,\"ticks\":\"\"}},\"type\":\"parcoords\"}],\"pie\":[{\"automargin\":true,\"type\":\"pie\"}],\"scatter3d\":[{\"line\":{\"colorbar\":{\"outlinewidth\":0,\"ticks\":\"\"}},\"marker\":{\"colorbar\":{\"outlinewidth\":0,\"ticks\":\"\"}},\"type\":\"scatter3d\"}],\"scattercarpet\":[{\"marker\":{\"colorbar\":{\"outlinewidth\":0,\"ticks\":\"\"}},\"type\":\"scattercarpet\"}],\"scattergeo\":[{\"marker\":{\"colorbar\":{\"outlinewidth\":0,\"ticks\":\"\"}},\"type\":\"scattergeo\"}],\"scattergl\":[{\"marker\":{\"colorbar\":{\"outlinewidth\":0,\"ticks\":\"\"}},\"type\":\"scattergl\"}],\"scattermapbox\":[{\"marker\":{\"colorbar\":{\"outlinewidth\":0,\"ticks\":\"\"}},\"type\":\"scattermapbox\"}],\"scatterpolargl\":[{\"marker\":{\"colorbar\":{\"outlinewidth\":0,\"ticks\":\"\"}},\"type\":\"scatterpolargl\"}],\"scatterpolar\":[{\"marker\":{\"colorbar\":{\"outlinewidth\":0,\"ticks\":\"\"}},\"type\":\"scatterpolar\"}],\"scatter\":[{\"fillpattern\":{\"fillmode\":\"overlay\",\"size\":10,\"solidity\":0.2},\"type\":\"scatter\"}],\"scatterternary\":[{\"marker\":{\"colorbar\":{\"outlinewidth\":0,\"ticks\":\"\"}},\"type\":\"scatterternary\"}],\"surface\":[{\"colorbar\":{\"outlinewidth\":0,\"ticks\":\"\"},\"colorscale\":[[0.0,\"#0d0887\"],[0.1111111111111111,\"#46039f\"],[0.2222222222222222,\"#7201a8\"],[0.3333333333333333,\"#9c179e\"],[0.4444444444444444,\"#bd3786\"],[0.5555555555555556,\"#d8576b\"],[0.6666666666666666,\"#ed7953\"],[0.7777777777777778,\"#fb9f3a\"],[0.8888888888888888,\"#fdca26\"],[1.0,\"#f0f921\"]],\"type\":\"surface\"}],\"table\":[{\"cells\":{\"fill\":{\"color\":\"#EBF0F8\"},\"line\":{\"color\":\"white\"}},\"header\":{\"fill\":{\"color\":\"#C8D4E3\"},\"line\":{\"color\":\"white\"}},\"type\":\"table\"}]},\"layout\":{\"annotationdefaults\":{\"arrowcolor\":\"#2a3f5f\",\"arrowhead\":0,\"arrowwidth\":1},\"autotypenumbers\":\"strict\",\"coloraxis\":{\"colorbar\":{\"outlinewidth\":0,\"ticks\":\"\"}},\"colorscale\":{\"diverging\":[[0,\"#8e0152\"],[0.1,\"#c51b7d\"],[0.2,\"#de77ae\"],[0.3,\"#f1b6da\"],[0.4,\"#fde0ef\"],[0.5,\"#f7f7f7\"],[0.6,\"#e6f5d0\"],[0.7,\"#b8e186\"],[0.8,\"#7fbc41\"],[0.9,\"#4d9221\"],[1,\"#276419\"]],\"sequential\":[[0.0,\"#0d0887\"],[0.1111111111111111,\"#46039f\"],[0.2222222222222222,\"#7201a8\"],[0.3333333333333333,\"#9c179e\"],[0.4444444444444444,\"#bd3786\"],[0.5555555555555556,\"#d8576b\"],[0.6666666666666666,\"#ed7953\"],[0.7777777777777778,\"#fb9f3a\"],[0.8888888888888888,\"#fdca26\"],[1.0,\"#f0f921\"]],\"sequentialminus\":[[0.0,\"#0d0887\"],[0.1111111111111111,\"#46039f\"],[0.2222222222222222,\"#7201a8\"],[0.3333333333333333,\"#9c179e\"],[0.4444444444444444,\"#bd3786\"],[0.5555555555555556,\"#d8576b\"],[0.6666666666666666,\"#ed7953\"],[0.7777777777777778,\"#fb9f3a\"],[0.8888888888888888,\"#fdca26\"],[1.0,\"#f0f921\"]]},\"colorway\":[\"#636efa\",\"#EF553B\",\"#00cc96\",\"#ab63fa\",\"#FFA15A\",\"#19d3f3\",\"#FF6692\",\"#B6E880\",\"#FF97FF\",\"#FECB52\"],\"font\":{\"color\":\"#2a3f5f\"},\"geo\":{\"bgcolor\":\"white\",\"lakecolor\":\"white\",\"landcolor\":\"white\",\"showlakes\":true,\"showland\":true,\"subunitcolor\":\"#C8D4E3\"},\"hoverlabel\":{\"align\":\"left\"},\"hovermode\":\"closest\",\"mapbox\":{\"style\":\"light\"},\"paper_bgcolor\":\"white\",\"plot_bgcolor\":\"white\",\"polar\":{\"angularaxis\":{\"gridcolor\":\"#EBF0F8\",\"linecolor\":\"#EBF0F8\",\"ticks\":\"\"},\"bgcolor\":\"white\",\"radialaxis\":{\"gridcolor\":\"#EBF0F8\",\"linecolor\":\"#EBF0F8\",\"ticks\":\"\"}},\"scene\":{\"xaxis\":{\"backgroundcolor\":\"white\",\"gridcolor\":\"#DFE8F3\",\"gridwidth\":2,\"linecolor\":\"#EBF0F8\",\"showbackground\":true,\"ticks\":\"\",\"zerolinecolor\":\"#EBF0F8\"},\"yaxis\":{\"backgroundcolor\":\"white\",\"gridcolor\":\"#DFE8F3\",\"gridwidth\":2,\"linecolor\":\"#EBF0F8\",\"showbackground\":true,\"ticks\":\"\",\"zerolinecolor\":\"#EBF0F8\"},\"zaxis\":{\"backgroundcolor\":\"white\",\"gridcolor\":\"#DFE8F3\",\"gridwidth\":2,\"linecolor\":\"#EBF0F8\",\"showbackground\":true,\"ticks\":\"\",\"zerolinecolor\":\"#EBF0F8\"}},\"shapedefaults\":{\"line\":{\"color\":\"#2a3f5f\"}},\"ternary\":{\"aaxis\":{\"gridcolor\":\"#DFE8F3\",\"linecolor\":\"#A2B1C6\",\"ticks\":\"\"},\"baxis\":{\"gridcolor\":\"#DFE8F3\",\"linecolor\":\"#A2B1C6\",\"ticks\":\"\"},\"bgcolor\":\"white\",\"caxis\":{\"gridcolor\":\"#DFE8F3\",\"linecolor\":\"#A2B1C6\",\"ticks\":\"\"}},\"title\":{\"x\":0.05},\"xaxis\":{\"automargin\":true,\"gridcolor\":\"#EBF0F8\",\"linecolor\":\"#EBF0F8\",\"ticks\":\"\",\"title\":{\"standoff\":15},\"zerolinecolor\":\"#EBF0F8\",\"zerolinewidth\":2},\"yaxis\":{\"automargin\":true,\"gridcolor\":\"#EBF0F8\",\"linecolor\":\"#EBF0F8\",\"ticks\":\"\",\"title\":{\"standoff\":15},\"zerolinecolor\":\"#EBF0F8\",\"zerolinewidth\":2}}},\"xaxis\":{\"anchor\":\"y\",\"domain\":[0.0,1.0],\"title\":{\"text\":\"Year\"}},\"yaxis\":{\"anchor\":\"x\",\"domain\":[0.0,1.0],\"title\":{\"text\":\"[Tonnes]\"}},\"legend\":{\"title\":{\"text\":\"variable\"},\"tracegroupgap\":0},\"margin\":{\"t\":60},\"title\":{\"text\":\"Cumulative Virgin Stock\"}},                        {\"responsive\": true}                    ).then(function(){\n",
       "                            \n",
       "var gd = document.getElementById('583f8ac0-440b-4676-8565-e4d740b7b5a9');\n",
       "var x = new MutationObserver(function (mutations, observer) {{\n",
       "        var display = window.getComputedStyle(gd).display;\n",
       "        if (!display || display === 'none') {{\n",
       "            console.log([gd, 'removed!']);\n",
       "            Plotly.purge(gd);\n",
       "            observer.disconnect();\n",
       "        }}\n",
       "}});\n",
       "\n",
       "// Listen for the removal of the full notebook cells\n",
       "var notebookContainer = gd.closest('#notebook-container');\n",
       "if (notebookContainer) {{\n",
       "    x.observe(notebookContainer, {childList: true});\n",
       "}}\n",
       "\n",
       "// Listen for the clearing of the current output cell\n",
       "var outputEl = gd.closest('.output');\n",
       "if (outputEl) {{\n",
       "    x.observe(outputEl, {childList: true});\n",
       "}}\n",
       "\n",
       "                        })                };                });            </script>        </div>"
      ]
     },
     "metadata": {},
     "output_type": "display_data"
    },
    {
     "data": {
      "application/vnd.plotly.v1+json": {
       "config": {
        "plotlyServerURL": "https://plot.ly"
       },
       "data": [
        {
         "hovertemplate": "Glass simulation1 standard",
         "legendgroup": "WasteAll_glass_Simulation1_standard_[Tonnes]",
         "line": {
          "color": "#636efa",
          "dash": "solid"
         },
         "marker": {
          "symbol": "circle"
         },
         "mode": "lines",
         "name": "Glass simulation1 standard",
         "orientation": "v",
         "showlegend": true,
         "type": "scatter",
         "x": [
          1995,
          1996,
          1997,
          1998,
          1999,
          2000,
          2001,
          2002,
          2003,
          2004,
          2005,
          2006,
          2007,
          2008,
          2009,
          2010,
          2011,
          2012,
          2013,
          2014,
          2015,
          2016,
          2017,
          2018,
          2019,
          2020,
          2021,
          2022,
          2023,
          2024,
          2025,
          2026,
          2027,
          2028,
          2029,
          2030,
          2031,
          2032,
          2033,
          2034,
          2035,
          2036,
          2037,
          2038,
          2039,
          2040,
          2041,
          2042,
          2043,
          2044,
          2045,
          2046,
          2047,
          2048,
          2049,
          2050
         ],
         "xaxis": "x",
         "y": [
          35.574650912996724,
          62.65789110845882,
          94.81321161432712,
          127.22338032482313,
          173.66029207915108,
          231.78632329460817,
          310.4585099576607,
          430.54617404035866,
          600.7055821525197,
          868.0451013500945,
          1867.9736779288912,
          2683.0210326829574,
          3497.9440818309013,
          4291.6184992825265,
          5379.655520385512,
          7184.43783347447,
          11487.613812471041,
          19414.360193600674,
          29403.052373129576,
          38734.75735887571,
          52745.57058721379,
          77291.74075479605,
          95835.9421096283,
          112620.47958373593,
          131657.1233195327,
          157104.53706637683,
          183893.81776129841,
          209514.62827402266,
          234391.394333057,
          261555.1382206989,
          289936.6873917973,
          319804.42688027775,
          349141.6796986971,
          388853.47139149305,
          431387.2496328757,
          485380.1143183554,
          527581.4044946447,
          606775.9852964852,
          665237.7440269418,
          797755.2062323904,
          980837.5556351229,
          1062119.4512740003,
          1322534.7250925305,
          1431807.935018944,
          1564546.7102593929,
          1848254.0193957726,
          2023824.315175456,
          2231033.592365165,
          2633462.197333987,
          3172307.9941918035,
          3395388.182877039,
          3832680.5013214652,
          4077442.780781193,
          4487471.394351932,
          4917924.8828180535,
          5677329.224691748
         ],
         "yaxis": "y"
        },
        {
         "hovertemplate": "Silicon simulation1 standard",
         "legendgroup": "WasteAll_silicon_Simulation1_standard_[Tonnes]",
         "line": {
          "color": "#EF553B",
          "dash": "solid"
         },
         "marker": {
          "symbol": "circle"
         },
         "mode": "lines",
         "name": "Silicon simulation1 standard",
         "orientation": "v",
         "showlegend": true,
         "type": "scatter",
         "x": [
          1995,
          1996,
          1997,
          1998,
          1999,
          2000,
          2001,
          2002,
          2003,
          2004,
          2005,
          2006,
          2007,
          2008,
          2009,
          2010,
          2011,
          2012,
          2013,
          2014,
          2015,
          2016,
          2017,
          2018,
          2019,
          2020,
          2021,
          2022,
          2023,
          2024,
          2025,
          2026,
          2027,
          2028,
          2029,
          2030,
          2031,
          2032,
          2033,
          2034,
          2035,
          2036,
          2037,
          2038,
          2039,
          2040,
          2041,
          2042,
          2043,
          2044,
          2045,
          2046,
          2047,
          2048,
          2049,
          2050
         ],
         "xaxis": "x",
         "y": [
          86.0349348911383,
          150.24372883953126,
          224.83710625077717,
          297.91536843563927,
          399.1427278196685,
          520.4329285770542,
          677.224882149784,
          908.0493777186247,
          1222.8622130468887,
          1630.259007324732,
          2175.538670262807,
          2759.1038232802725,
          4488.088021448635,
          6165.737860919538,
          8410.12901548071,
          10170.70661951218,
          14353.837191425664,
          21759.42795964165,
          30676.78250974478,
          38717.88722584273,
          52491.66084581318,
          75043.49492383652,
          88468.59534369019,
          98670.36676391054,
          109236.65137513325,
          121940.85987891341,
          135483.8626237974,
          148140.95577024238,
          159444.9068896627,
          170507.1260430693,
          181892.50937740772,
          193743.27495088457,
          206037.81986999375,
          219358.2044291157,
          233317.34578451837,
          248530.79696493957,
          264041.34253054485,
          282613.8544281535,
          301281.33512423426,
          325174.219720149,
          353101.24329692556,
          377216.1723457297,
          412319.9881921377,
          441377.592339862,
          473621.06980822753,
          515741.2592163881,
          554657.1266510882,
          597712.2364416948,
          653549.2165289714,
          719477.3465755115,
          772132.6973153562,
          839184.8583471257,
          900088.1706728515,
          973274.8428898926,
          1051473.8391902715,
          1148776.7743625394
         ],
         "yaxis": "y"
        },
        {
         "hovertemplate": "Module simulation1 standard",
         "legendgroup": "WasteAll_Module_Simulation1_standard_[Tonnes]",
         "line": {
          "color": "#00cc96",
          "dash": "solid"
         },
         "marker": {
          "symbol": "circle"
         },
         "mode": "lines",
         "name": "Module simulation1 standard",
         "orientation": "v",
         "showlegend": true,
         "type": "scatter",
         "x": [
          1995,
          1996,
          1997,
          1998,
          1999,
          2000,
          2001,
          2002,
          2003,
          2004,
          2005,
          2006,
          2007,
          2008,
          2009,
          2010,
          2011,
          2012,
          2013,
          2014,
          2015,
          2016,
          2017,
          2018,
          2019,
          2020,
          2021,
          2022,
          2023,
          2024,
          2025,
          2026,
          2027,
          2028,
          2029,
          2030,
          2031,
          2032,
          2033,
          2034,
          2035,
          2036,
          2037,
          2038,
          2039,
          2040,
          2041,
          2042,
          2043,
          2044,
          2045,
          2046,
          2047,
          2048,
          2049,
          2050
         ],
         "xaxis": "x",
         "y": [
          121.60958580413502,
          212.90161994799007,
          319.6503178651043,
          425.13874876046236,
          572.8030198988196,
          752.2192518716623,
          987.6833921074445,
          1338.5955517589832,
          1823.5677951994085,
          2498.3041086748267,
          4043.512348191699,
          5442.12485596323,
          7986.032103279537,
          10457.356360202066,
          13789.784535866223,
          17355.14445298665,
          25841.451003896706,
          41173.78815324233,
          60079.83488287436,
          77452.64458471845,
          105237.23143302699,
          152335.23567863257,
          184304.5374533185,
          211290.8463476465,
          240893.77469466598,
          279045.39694529027,
          319377.6803850959,
          357655.5840442651,
          393836.3012227197,
          432062.2642637682,
          471829.19676920504,
          513547.7018311623,
          555179.4995686909,
          608211.6758206087,
          664704.5954173941,
          733910.9112832949,
          791622.7470251896,
          889389.8397246387,
          966519.079151176,
          1122929.4259525393,
          1333938.7989320485,
          1439335.6236197301,
          1734854.7132846683,
          1873185.5273588062,
          2038167.7800676206,
          2363995.278612161,
          2578481.4418265442,
          2828745.8288068594,
          3287011.413862958,
          3891785.3407673147,
          4167520.8801923953,
          4671865.359668591,
          4977530.951454045,
          5460746.237241825,
          5969398.722008325,
          6826105.999054288
         ],
         "yaxis": "y"
        },
        {
         "hovertemplate": "Glass simulation1 low quality",
         "legendgroup": "WasteAll_glass_Simulation1_low_quality_[Tonnes]",
         "line": {
          "color": "#ab63fa",
          "dash": "solid"
         },
         "marker": {
          "symbol": "circle"
         },
         "mode": "lines",
         "name": "Glass simulation1 low quality",
         "orientation": "v",
         "showlegend": true,
         "type": "scatter",
         "x": [
          1995,
          1996,
          1997,
          1998,
          1999,
          2000,
          2001,
          2002,
          2003,
          2004,
          2005,
          2006,
          2007,
          2008,
          2009,
          2010,
          2011,
          2012,
          2013,
          2014,
          2015,
          2016,
          2017,
          2018,
          2019,
          2020,
          2021,
          2022,
          2023,
          2024,
          2025,
          2026,
          2027,
          2028,
          2029,
          2030,
          2031,
          2032,
          2033,
          2034,
          2035,
          2036,
          2037,
          2038,
          2039,
          2040,
          2041,
          2042,
          2043,
          2044,
          2045,
          2046,
          2047,
          2048,
          2049,
          2050
         ],
         "xaxis": "x",
         "y": [
          35.574650912996724,
          62.65789110845882,
          94.81321161432712,
          127.22338032482313,
          173.66029207915108,
          231.78632329460817,
          310.4585099576607,
          430.54617404035866,
          600.7055821525197,
          868.0451013500945,
          1150.4934578103416,
          1451.3047617349112,
          2331.8045711436735,
          3207.914476658323,
          4395.133875975991,
          6778.765676124144,
          11487.613812471038,
          19414.36019360067,
          29403.05237312957,
          38734.75735887571,
          53788.843558714485,
          79632.95414051015,
          100044.44219763663,
          119308.58802744262,
          142175.4059548883,
          170346.46829146845,
          199626.02515937464,
          237742.31827366992,
          273985.51747247967,
          318160.4549079118,
          378253.0797254854,
          491516.7978225001,
          669046.9642730436,
          893146.7069221871,
          1101480.5618012417,
          1447915.4146586908,
          2059305.6504786024,
          2533070.9943520506,
          2975724.496872116,
          3484757.9701551846,
          4172283.314173739,
          4923408.315910383,
          5642078.291791843,
          6351703.139229379,
          7128799.0113136815,
          7962475.383940912,
          8858183.374928795,
          9835759.37493779,
          10902949.178490985,
          12068539.902924674,
          13325008.095299764,
          14680074.082789635,
          16148335.077633264,
          17739832.12077206,
          19465456.353591476,
          21337029.27060049
         ],
         "yaxis": "y"
        },
        {
         "hovertemplate": "Silicon simulation1 low quality",
         "legendgroup": "WasteAll_silicon_Simulation1_low_quality_[Tonnes]",
         "line": {
          "color": "#FFA15A",
          "dash": "solid"
         },
         "marker": {
          "symbol": "circle"
         },
         "mode": "lines",
         "name": "Silicon simulation1 low quality",
         "orientation": "v",
         "showlegend": true,
         "type": "scatter",
         "x": [
          1995,
          1996,
          1997,
          1998,
          1999,
          2000,
          2001,
          2002,
          2003,
          2004,
          2005,
          2006,
          2007,
          2008,
          2009,
          2010,
          2011,
          2012,
          2013,
          2014,
          2015,
          2016,
          2017,
          2018,
          2019,
          2020,
          2021,
          2022,
          2023,
          2024,
          2025,
          2026,
          2027,
          2028,
          2029,
          2030,
          2031,
          2032,
          2033,
          2034,
          2035,
          2036,
          2037,
          2038,
          2039,
          2040,
          2041,
          2042,
          2043,
          2044,
          2045,
          2046,
          2047,
          2048,
          2049,
          2050
         ],
         "xaxis": "x",
         "y": [
          86.0349348911383,
          150.24372883953126,
          224.83710625077717,
          297.91536843563927,
          399.1427278196685,
          520.4329285770542,
          677.224882149784,
          908.0493777186247,
          1222.8622130468887,
          1630.259007324732,
          2098.514724579918,
          2628.0245567126844,
          4363.997473305732,
          6050.430917260418,
          8305.38788289771,
          10128.01025873903,
          14353.837191425664,
          21759.42795964165,
          30676.78250974478,
          38717.88722584273,
          52592.679468108225,
          75267.29335703708,
          88864.70064310335,
          99289.27177602999,
          110190.75223545427,
          123063.5498213976,
          136687.2489991801,
          149961.9618173764,
          161770.78352358533,
          173625.70412674715,
          186631.32664162075,
          202882.6300608099,
          222952.69889882373,
          245820.8822027064,
          268232.861459758,
          298496.29226163216,
          343604.94942824077,
          382297.06515535474,
          420033.0652538209,
          461194.326295124,
          510484.2588074475,
          562612.3619122705,
          613730.6079159619,
          665230.2785333516,
          720214.8938412572,
          779180.2649377758,
          842474.0994779218,
          910521.643290951,
          983703.3271851697,
          1062440.0047639874,
          1147547.1254205552,
          1239568.259543298,
          1339412.0866355957,
          1447767.8869596594,
          1565384.3807358956,
          1693075.1436505974
         ],
         "yaxis": "y"
        },
        {
         "hovertemplate": "Module simulation1 low quality",
         "legendgroup": "WasteAll_Module_Simulation1_low_quality_[Tonnes]",
         "line": {
          "color": "#19d3f3",
          "dash": "solid"
         },
         "marker": {
          "symbol": "circle"
         },
         "mode": "lines",
         "name": "Module simulation1 low quality",
         "orientation": "v",
         "showlegend": true,
         "type": "scatter",
         "x": [
          1995,
          1996,
          1997,
          1998,
          1999,
          2000,
          2001,
          2002,
          2003,
          2004,
          2005,
          2006,
          2007,
          2008,
          2009,
          2010,
          2011,
          2012,
          2013,
          2014,
          2015,
          2016,
          2017,
          2018,
          2019,
          2020,
          2021,
          2022,
          2023,
          2024,
          2025,
          2026,
          2027,
          2028,
          2029,
          2030,
          2031,
          2032,
          2033,
          2034,
          2035,
          2036,
          2037,
          2038,
          2039,
          2040,
          2041,
          2042,
          2043,
          2044,
          2045,
          2046,
          2047,
          2048,
          2049,
          2050
         ],
         "xaxis": "x",
         "y": [
          121.60958580413502,
          212.90161994799007,
          319.6503178651043,
          425.13874876046236,
          572.8030198988196,
          752.2192518716623,
          987.6833921074445,
          1338.5955517589832,
          1823.5677951994085,
          2498.3041086748267,
          3249.00818239026,
          4079.329318447596,
          6695.802044449406,
          9258.345393918742,
          12700.521758873701,
          16906.775934863173,
          25841.4510038967,
          41173.78815324232,
          60079.83488287435,
          77452.64458471844,
          106381.5230268227,
          154900.2474975472,
          188909.14284073998,
          218597.8598034726,
          252366.15819034254,
          293410.018112866,
          336313.2741585546,
          387704.2800910462,
          435756.3009960649,
          491786.15903465886,
          564884.4063671061,
          694399.42788331,
          891999.6631718673,
          1138967.5891248935,
          1369713.4232609996,
          1746411.706920323,
          2402910.599906843,
          2915368.0595074054,
          3395757.562125937,
          3945952.296450309,
          4682767.572981187,
          5486020.677822654,
          6255808.899707805,
          7016933.41776273,
          7849013.905154939,
          8741655.648878688,
          9700657.474406717,
          10746281.018228741,
          11886652.505676156,
          13130979.907688662,
          14472555.220720321,
          15919642.342332937,
          17487747.164268862,
          19187600.00773172,
          21030840.734327376,
          23030104.41425109
         ],
         "yaxis": "y"
        }
       ],
       "layout": {
        "legend": {
         "title": {
          "text": "variable"
         },
         "tracegroupgap": 0
        },
        "margin": {
         "t": 60
        },
        "template": {
         "data": {
          "bar": [
           {
            "error_x": {
             "color": "#2a3f5f"
            },
            "error_y": {
             "color": "#2a3f5f"
            },
            "marker": {
             "line": {
              "color": "white",
              "width": 0.5
             },
             "pattern": {
              "fillmode": "overlay",
              "size": 10,
              "solidity": 0.2
             }
            },
            "type": "bar"
           }
          ],
          "barpolar": [
           {
            "marker": {
             "line": {
              "color": "white",
              "width": 0.5
             },
             "pattern": {
              "fillmode": "overlay",
              "size": 10,
              "solidity": 0.2
             }
            },
            "type": "barpolar"
           }
          ],
          "carpet": [
           {
            "aaxis": {
             "endlinecolor": "#2a3f5f",
             "gridcolor": "#C8D4E3",
             "linecolor": "#C8D4E3",
             "minorgridcolor": "#C8D4E3",
             "startlinecolor": "#2a3f5f"
            },
            "baxis": {
             "endlinecolor": "#2a3f5f",
             "gridcolor": "#C8D4E3",
             "linecolor": "#C8D4E3",
             "minorgridcolor": "#C8D4E3",
             "startlinecolor": "#2a3f5f"
            },
            "type": "carpet"
           }
          ],
          "choropleth": [
           {
            "colorbar": {
             "outlinewidth": 0,
             "ticks": ""
            },
            "type": "choropleth"
           }
          ],
          "contour": [
           {
            "colorbar": {
             "outlinewidth": 0,
             "ticks": ""
            },
            "colorscale": [
             [
              0,
              "#0d0887"
             ],
             [
              0.1111111111111111,
              "#46039f"
             ],
             [
              0.2222222222222222,
              "#7201a8"
             ],
             [
              0.3333333333333333,
              "#9c179e"
             ],
             [
              0.4444444444444444,
              "#bd3786"
             ],
             [
              0.5555555555555556,
              "#d8576b"
             ],
             [
              0.6666666666666666,
              "#ed7953"
             ],
             [
              0.7777777777777778,
              "#fb9f3a"
             ],
             [
              0.8888888888888888,
              "#fdca26"
             ],
             [
              1,
              "#f0f921"
             ]
            ],
            "type": "contour"
           }
          ],
          "contourcarpet": [
           {
            "colorbar": {
             "outlinewidth": 0,
             "ticks": ""
            },
            "type": "contourcarpet"
           }
          ],
          "heatmap": [
           {
            "colorbar": {
             "outlinewidth": 0,
             "ticks": ""
            },
            "colorscale": [
             [
              0,
              "#0d0887"
             ],
             [
              0.1111111111111111,
              "#46039f"
             ],
             [
              0.2222222222222222,
              "#7201a8"
             ],
             [
              0.3333333333333333,
              "#9c179e"
             ],
             [
              0.4444444444444444,
              "#bd3786"
             ],
             [
              0.5555555555555556,
              "#d8576b"
             ],
             [
              0.6666666666666666,
              "#ed7953"
             ],
             [
              0.7777777777777778,
              "#fb9f3a"
             ],
             [
              0.8888888888888888,
              "#fdca26"
             ],
             [
              1,
              "#f0f921"
             ]
            ],
            "type": "heatmap"
           }
          ],
          "heatmapgl": [
           {
            "colorbar": {
             "outlinewidth": 0,
             "ticks": ""
            },
            "colorscale": [
             [
              0,
              "#0d0887"
             ],
             [
              0.1111111111111111,
              "#46039f"
             ],
             [
              0.2222222222222222,
              "#7201a8"
             ],
             [
              0.3333333333333333,
              "#9c179e"
             ],
             [
              0.4444444444444444,
              "#bd3786"
             ],
             [
              0.5555555555555556,
              "#d8576b"
             ],
             [
              0.6666666666666666,
              "#ed7953"
             ],
             [
              0.7777777777777778,
              "#fb9f3a"
             ],
             [
              0.8888888888888888,
              "#fdca26"
             ],
             [
              1,
              "#f0f921"
             ]
            ],
            "type": "heatmapgl"
           }
          ],
          "histogram": [
           {
            "marker": {
             "pattern": {
              "fillmode": "overlay",
              "size": 10,
              "solidity": 0.2
             }
            },
            "type": "histogram"
           }
          ],
          "histogram2d": [
           {
            "colorbar": {
             "outlinewidth": 0,
             "ticks": ""
            },
            "colorscale": [
             [
              0,
              "#0d0887"
             ],
             [
              0.1111111111111111,
              "#46039f"
             ],
             [
              0.2222222222222222,
              "#7201a8"
             ],
             [
              0.3333333333333333,
              "#9c179e"
             ],
             [
              0.4444444444444444,
              "#bd3786"
             ],
             [
              0.5555555555555556,
              "#d8576b"
             ],
             [
              0.6666666666666666,
              "#ed7953"
             ],
             [
              0.7777777777777778,
              "#fb9f3a"
             ],
             [
              0.8888888888888888,
              "#fdca26"
             ],
             [
              1,
              "#f0f921"
             ]
            ],
            "type": "histogram2d"
           }
          ],
          "histogram2dcontour": [
           {
            "colorbar": {
             "outlinewidth": 0,
             "ticks": ""
            },
            "colorscale": [
             [
              0,
              "#0d0887"
             ],
             [
              0.1111111111111111,
              "#46039f"
             ],
             [
              0.2222222222222222,
              "#7201a8"
             ],
             [
              0.3333333333333333,
              "#9c179e"
             ],
             [
              0.4444444444444444,
              "#bd3786"
             ],
             [
              0.5555555555555556,
              "#d8576b"
             ],
             [
              0.6666666666666666,
              "#ed7953"
             ],
             [
              0.7777777777777778,
              "#fb9f3a"
             ],
             [
              0.8888888888888888,
              "#fdca26"
             ],
             [
              1,
              "#f0f921"
             ]
            ],
            "type": "histogram2dcontour"
           }
          ],
          "mesh3d": [
           {
            "colorbar": {
             "outlinewidth": 0,
             "ticks": ""
            },
            "type": "mesh3d"
           }
          ],
          "parcoords": [
           {
            "line": {
             "colorbar": {
              "outlinewidth": 0,
              "ticks": ""
             }
            },
            "type": "parcoords"
           }
          ],
          "pie": [
           {
            "automargin": true,
            "type": "pie"
           }
          ],
          "scatter": [
           {
            "fillpattern": {
             "fillmode": "overlay",
             "size": 10,
             "solidity": 0.2
            },
            "type": "scatter"
           }
          ],
          "scatter3d": [
           {
            "line": {
             "colorbar": {
              "outlinewidth": 0,
              "ticks": ""
             }
            },
            "marker": {
             "colorbar": {
              "outlinewidth": 0,
              "ticks": ""
             }
            },
            "type": "scatter3d"
           }
          ],
          "scattercarpet": [
           {
            "marker": {
             "colorbar": {
              "outlinewidth": 0,
              "ticks": ""
             }
            },
            "type": "scattercarpet"
           }
          ],
          "scattergeo": [
           {
            "marker": {
             "colorbar": {
              "outlinewidth": 0,
              "ticks": ""
             }
            },
            "type": "scattergeo"
           }
          ],
          "scattergl": [
           {
            "marker": {
             "colorbar": {
              "outlinewidth": 0,
              "ticks": ""
             }
            },
            "type": "scattergl"
           }
          ],
          "scattermapbox": [
           {
            "marker": {
             "colorbar": {
              "outlinewidth": 0,
              "ticks": ""
             }
            },
            "type": "scattermapbox"
           }
          ],
          "scatterpolar": [
           {
            "marker": {
             "colorbar": {
              "outlinewidth": 0,
              "ticks": ""
             }
            },
            "type": "scatterpolar"
           }
          ],
          "scatterpolargl": [
           {
            "marker": {
             "colorbar": {
              "outlinewidth": 0,
              "ticks": ""
             }
            },
            "type": "scatterpolargl"
           }
          ],
          "scatterternary": [
           {
            "marker": {
             "colorbar": {
              "outlinewidth": 0,
              "ticks": ""
             }
            },
            "type": "scatterternary"
           }
          ],
          "surface": [
           {
            "colorbar": {
             "outlinewidth": 0,
             "ticks": ""
            },
            "colorscale": [
             [
              0,
              "#0d0887"
             ],
             [
              0.1111111111111111,
              "#46039f"
             ],
             [
              0.2222222222222222,
              "#7201a8"
             ],
             [
              0.3333333333333333,
              "#9c179e"
             ],
             [
              0.4444444444444444,
              "#bd3786"
             ],
             [
              0.5555555555555556,
              "#d8576b"
             ],
             [
              0.6666666666666666,
              "#ed7953"
             ],
             [
              0.7777777777777778,
              "#fb9f3a"
             ],
             [
              0.8888888888888888,
              "#fdca26"
             ],
             [
              1,
              "#f0f921"
             ]
            ],
            "type": "surface"
           }
          ],
          "table": [
           {
            "cells": {
             "fill": {
              "color": "#EBF0F8"
             },
             "line": {
              "color": "white"
             }
            },
            "header": {
             "fill": {
              "color": "#C8D4E3"
             },
             "line": {
              "color": "white"
             }
            },
            "type": "table"
           }
          ]
         },
         "layout": {
          "annotationdefaults": {
           "arrowcolor": "#2a3f5f",
           "arrowhead": 0,
           "arrowwidth": 1
          },
          "autotypenumbers": "strict",
          "coloraxis": {
           "colorbar": {
            "outlinewidth": 0,
            "ticks": ""
           }
          },
          "colorscale": {
           "diverging": [
            [
             0,
             "#8e0152"
            ],
            [
             0.1,
             "#c51b7d"
            ],
            [
             0.2,
             "#de77ae"
            ],
            [
             0.3,
             "#f1b6da"
            ],
            [
             0.4,
             "#fde0ef"
            ],
            [
             0.5,
             "#f7f7f7"
            ],
            [
             0.6,
             "#e6f5d0"
            ],
            [
             0.7,
             "#b8e186"
            ],
            [
             0.8,
             "#7fbc41"
            ],
            [
             0.9,
             "#4d9221"
            ],
            [
             1,
             "#276419"
            ]
           ],
           "sequential": [
            [
             0,
             "#0d0887"
            ],
            [
             0.1111111111111111,
             "#46039f"
            ],
            [
             0.2222222222222222,
             "#7201a8"
            ],
            [
             0.3333333333333333,
             "#9c179e"
            ],
            [
             0.4444444444444444,
             "#bd3786"
            ],
            [
             0.5555555555555556,
             "#d8576b"
            ],
            [
             0.6666666666666666,
             "#ed7953"
            ],
            [
             0.7777777777777778,
             "#fb9f3a"
            ],
            [
             0.8888888888888888,
             "#fdca26"
            ],
            [
             1,
             "#f0f921"
            ]
           ],
           "sequentialminus": [
            [
             0,
             "#0d0887"
            ],
            [
             0.1111111111111111,
             "#46039f"
            ],
            [
             0.2222222222222222,
             "#7201a8"
            ],
            [
             0.3333333333333333,
             "#9c179e"
            ],
            [
             0.4444444444444444,
             "#bd3786"
            ],
            [
             0.5555555555555556,
             "#d8576b"
            ],
            [
             0.6666666666666666,
             "#ed7953"
            ],
            [
             0.7777777777777778,
             "#fb9f3a"
            ],
            [
             0.8888888888888888,
             "#fdca26"
            ],
            [
             1,
             "#f0f921"
            ]
           ]
          },
          "colorway": [
           "#636efa",
           "#EF553B",
           "#00cc96",
           "#ab63fa",
           "#FFA15A",
           "#19d3f3",
           "#FF6692",
           "#B6E880",
           "#FF97FF",
           "#FECB52"
          ],
          "font": {
           "color": "#2a3f5f"
          },
          "geo": {
           "bgcolor": "white",
           "lakecolor": "white",
           "landcolor": "white",
           "showlakes": true,
           "showland": true,
           "subunitcolor": "#C8D4E3"
          },
          "hoverlabel": {
           "align": "left"
          },
          "hovermode": "closest",
          "mapbox": {
           "style": "light"
          },
          "paper_bgcolor": "white",
          "plot_bgcolor": "white",
          "polar": {
           "angularaxis": {
            "gridcolor": "#EBF0F8",
            "linecolor": "#EBF0F8",
            "ticks": ""
           },
           "bgcolor": "white",
           "radialaxis": {
            "gridcolor": "#EBF0F8",
            "linecolor": "#EBF0F8",
            "ticks": ""
           }
          },
          "scene": {
           "xaxis": {
            "backgroundcolor": "white",
            "gridcolor": "#DFE8F3",
            "gridwidth": 2,
            "linecolor": "#EBF0F8",
            "showbackground": true,
            "ticks": "",
            "zerolinecolor": "#EBF0F8"
           },
           "yaxis": {
            "backgroundcolor": "white",
            "gridcolor": "#DFE8F3",
            "gridwidth": 2,
            "linecolor": "#EBF0F8",
            "showbackground": true,
            "ticks": "",
            "zerolinecolor": "#EBF0F8"
           },
           "zaxis": {
            "backgroundcolor": "white",
            "gridcolor": "#DFE8F3",
            "gridwidth": 2,
            "linecolor": "#EBF0F8",
            "showbackground": true,
            "ticks": "",
            "zerolinecolor": "#EBF0F8"
           }
          },
          "shapedefaults": {
           "line": {
            "color": "#2a3f5f"
           }
          },
          "ternary": {
           "aaxis": {
            "gridcolor": "#DFE8F3",
            "linecolor": "#A2B1C6",
            "ticks": ""
           },
           "baxis": {
            "gridcolor": "#DFE8F3",
            "linecolor": "#A2B1C6",
            "ticks": ""
           },
           "bgcolor": "white",
           "caxis": {
            "gridcolor": "#DFE8F3",
            "linecolor": "#A2B1C6",
            "ticks": ""
           }
          },
          "title": {
           "x": 0.05
          },
          "xaxis": {
           "automargin": true,
           "gridcolor": "#EBF0F8",
           "linecolor": "#EBF0F8",
           "ticks": "",
           "title": {
            "standoff": 15
           },
           "zerolinecolor": "#EBF0F8",
           "zerolinewidth": 2
          },
          "yaxis": {
           "automargin": true,
           "gridcolor": "#EBF0F8",
           "linecolor": "#EBF0F8",
           "ticks": "",
           "title": {
            "standoff": 15
           },
           "zerolinecolor": "#EBF0F8",
           "zerolinewidth": 2
          }
         }
        },
        "title": {
         "text": "Cumulative Waste All"
        },
        "xaxis": {
         "anchor": "y",
         "domain": [
          0,
          1
         ],
         "title": {
          "text": "Year"
         }
        },
        "yaxis": {
         "anchor": "x",
         "domain": [
          0,
          1
         ],
         "title": {
          "text": "[Tonnes]"
         }
        }
       }
      },
      "text/html": [
       "<div>                            <div id=\"95e0fda0-c0c5-4517-b03e-efaa7f650c4f\" class=\"plotly-graph-div\" style=\"height:525px; width:100%;\"></div>            <script type=\"text/javascript\">                require([\"plotly\"], function(Plotly) {                    window.PLOTLYENV=window.PLOTLYENV || {};                                    if (document.getElementById(\"95e0fda0-c0c5-4517-b03e-efaa7f650c4f\")) {                    Plotly.newPlot(                        \"95e0fda0-c0c5-4517-b03e-efaa7f650c4f\",                        [{\"hovertemplate\":\"Glass simulation1 standard\",\"legendgroup\":\"WasteAll_glass_Simulation1_standard_[Tonnes]\",\"line\":{\"color\":\"#636efa\",\"dash\":\"solid\"},\"marker\":{\"symbol\":\"circle\"},\"mode\":\"lines\",\"name\":\"Glass simulation1 standard\",\"orientation\":\"v\",\"showlegend\":true,\"x\":[1995,1996,1997,1998,1999,2000,2001,2002,2003,2004,2005,2006,2007,2008,2009,2010,2011,2012,2013,2014,2015,2016,2017,2018,2019,2020,2021,2022,2023,2024,2025,2026,2027,2028,2029,2030,2031,2032,2033,2034,2035,2036,2037,2038,2039,2040,2041,2042,2043,2044,2045,2046,2047,2048,2049,2050],\"xaxis\":\"x\",\"y\":[35.574650912996724,62.65789110845882,94.81321161432712,127.22338032482313,173.66029207915108,231.78632329460817,310.4585099576607,430.54617404035866,600.7055821525197,868.0451013500945,1867.9736779288912,2683.0210326829574,3497.9440818309013,4291.6184992825265,5379.655520385512,7184.43783347447,11487.613812471041,19414.360193600674,29403.052373129576,38734.75735887571,52745.57058721379,77291.74075479605,95835.9421096283,112620.47958373593,131657.1233195327,157104.53706637683,183893.81776129841,209514.62827402266,234391.394333057,261555.1382206989,289936.6873917973,319804.42688027775,349141.6796986971,388853.47139149305,431387.2496328757,485380.1143183554,527581.4044946447,606775.9852964852,665237.7440269418,797755.2062323904,980837.5556351229,1062119.4512740003,1322534.7250925305,1431807.935018944,1564546.7102593929,1848254.0193957726,2023824.315175456,2231033.592365165,2633462.197333987,3172307.9941918035,3395388.182877039,3832680.5013214652,4077442.780781193,4487471.394351932,4917924.8828180535,5677329.224691748],\"yaxis\":\"y\",\"type\":\"scatter\"},{\"hovertemplate\":\"Silicon simulation1 standard\",\"legendgroup\":\"WasteAll_silicon_Simulation1_standard_[Tonnes]\",\"line\":{\"color\":\"#EF553B\",\"dash\":\"solid\"},\"marker\":{\"symbol\":\"circle\"},\"mode\":\"lines\",\"name\":\"Silicon simulation1 standard\",\"orientation\":\"v\",\"showlegend\":true,\"x\":[1995,1996,1997,1998,1999,2000,2001,2002,2003,2004,2005,2006,2007,2008,2009,2010,2011,2012,2013,2014,2015,2016,2017,2018,2019,2020,2021,2022,2023,2024,2025,2026,2027,2028,2029,2030,2031,2032,2033,2034,2035,2036,2037,2038,2039,2040,2041,2042,2043,2044,2045,2046,2047,2048,2049,2050],\"xaxis\":\"x\",\"y\":[86.0349348911383,150.24372883953126,224.83710625077717,297.91536843563927,399.1427278196685,520.4329285770542,677.224882149784,908.0493777186247,1222.8622130468887,1630.259007324732,2175.538670262807,2759.1038232802725,4488.088021448635,6165.737860919538,8410.12901548071,10170.70661951218,14353.837191425664,21759.42795964165,30676.78250974478,38717.88722584273,52491.66084581318,75043.49492383652,88468.59534369019,98670.36676391054,109236.65137513325,121940.85987891341,135483.8626237974,148140.95577024238,159444.9068896627,170507.1260430693,181892.50937740772,193743.27495088457,206037.81986999375,219358.2044291157,233317.34578451837,248530.79696493957,264041.34253054485,282613.8544281535,301281.33512423426,325174.219720149,353101.24329692556,377216.1723457297,412319.9881921377,441377.592339862,473621.06980822753,515741.2592163881,554657.1266510882,597712.2364416948,653549.2165289714,719477.3465755115,772132.6973153562,839184.8583471257,900088.1706728515,973274.8428898926,1051473.8391902715,1148776.7743625394],\"yaxis\":\"y\",\"type\":\"scatter\"},{\"hovertemplate\":\"Module simulation1 standard\",\"legendgroup\":\"WasteAll_Module_Simulation1_standard_[Tonnes]\",\"line\":{\"color\":\"#00cc96\",\"dash\":\"solid\"},\"marker\":{\"symbol\":\"circle\"},\"mode\":\"lines\",\"name\":\"Module simulation1 standard\",\"orientation\":\"v\",\"showlegend\":true,\"x\":[1995,1996,1997,1998,1999,2000,2001,2002,2003,2004,2005,2006,2007,2008,2009,2010,2011,2012,2013,2014,2015,2016,2017,2018,2019,2020,2021,2022,2023,2024,2025,2026,2027,2028,2029,2030,2031,2032,2033,2034,2035,2036,2037,2038,2039,2040,2041,2042,2043,2044,2045,2046,2047,2048,2049,2050],\"xaxis\":\"x\",\"y\":[121.60958580413502,212.90161994799007,319.6503178651043,425.13874876046236,572.8030198988196,752.2192518716623,987.6833921074445,1338.5955517589832,1823.5677951994085,2498.3041086748267,4043.512348191699,5442.12485596323,7986.032103279537,10457.356360202066,13789.784535866223,17355.14445298665,25841.451003896706,41173.78815324233,60079.83488287436,77452.64458471845,105237.23143302699,152335.23567863257,184304.5374533185,211290.8463476465,240893.77469466598,279045.39694529027,319377.6803850959,357655.5840442651,393836.3012227197,432062.2642637682,471829.19676920504,513547.7018311623,555179.4995686909,608211.6758206087,664704.5954173941,733910.9112832949,791622.7470251896,889389.8397246387,966519.079151176,1122929.4259525393,1333938.7989320485,1439335.6236197301,1734854.7132846683,1873185.5273588062,2038167.7800676206,2363995.278612161,2578481.4418265442,2828745.8288068594,3287011.413862958,3891785.3407673147,4167520.8801923953,4671865.359668591,4977530.951454045,5460746.237241825,5969398.722008325,6826105.999054288],\"yaxis\":\"y\",\"type\":\"scatter\"},{\"hovertemplate\":\"Glass simulation1 low quality\",\"legendgroup\":\"WasteAll_glass_Simulation1_low_quality_[Tonnes]\",\"line\":{\"color\":\"#ab63fa\",\"dash\":\"solid\"},\"marker\":{\"symbol\":\"circle\"},\"mode\":\"lines\",\"name\":\"Glass simulation1 low quality\",\"orientation\":\"v\",\"showlegend\":true,\"x\":[1995,1996,1997,1998,1999,2000,2001,2002,2003,2004,2005,2006,2007,2008,2009,2010,2011,2012,2013,2014,2015,2016,2017,2018,2019,2020,2021,2022,2023,2024,2025,2026,2027,2028,2029,2030,2031,2032,2033,2034,2035,2036,2037,2038,2039,2040,2041,2042,2043,2044,2045,2046,2047,2048,2049,2050],\"xaxis\":\"x\",\"y\":[35.574650912996724,62.65789110845882,94.81321161432712,127.22338032482313,173.66029207915108,231.78632329460817,310.4585099576607,430.54617404035866,600.7055821525197,868.0451013500945,1150.4934578103416,1451.3047617349112,2331.8045711436735,3207.914476658323,4395.133875975991,6778.765676124144,11487.613812471038,19414.36019360067,29403.05237312957,38734.75735887571,53788.843558714485,79632.95414051015,100044.44219763663,119308.58802744262,142175.4059548883,170346.46829146845,199626.02515937464,237742.31827366992,273985.51747247967,318160.4549079118,378253.0797254854,491516.7978225001,669046.9642730436,893146.7069221871,1101480.5618012417,1447915.4146586908,2059305.6504786024,2533070.9943520506,2975724.496872116,3484757.9701551846,4172283.314173739,4923408.315910383,5642078.291791843,6351703.139229379,7128799.0113136815,7962475.383940912,8858183.374928795,9835759.37493779,10902949.178490985,12068539.902924674,13325008.095299764,14680074.082789635,16148335.077633264,17739832.12077206,19465456.353591476,21337029.27060049],\"yaxis\":\"y\",\"type\":\"scatter\"},{\"hovertemplate\":\"Silicon simulation1 low quality\",\"legendgroup\":\"WasteAll_silicon_Simulation1_low_quality_[Tonnes]\",\"line\":{\"color\":\"#FFA15A\",\"dash\":\"solid\"},\"marker\":{\"symbol\":\"circle\"},\"mode\":\"lines\",\"name\":\"Silicon simulation1 low quality\",\"orientation\":\"v\",\"showlegend\":true,\"x\":[1995,1996,1997,1998,1999,2000,2001,2002,2003,2004,2005,2006,2007,2008,2009,2010,2011,2012,2013,2014,2015,2016,2017,2018,2019,2020,2021,2022,2023,2024,2025,2026,2027,2028,2029,2030,2031,2032,2033,2034,2035,2036,2037,2038,2039,2040,2041,2042,2043,2044,2045,2046,2047,2048,2049,2050],\"xaxis\":\"x\",\"y\":[86.0349348911383,150.24372883953126,224.83710625077717,297.91536843563927,399.1427278196685,520.4329285770542,677.224882149784,908.0493777186247,1222.8622130468887,1630.259007324732,2098.514724579918,2628.0245567126844,4363.997473305732,6050.430917260418,8305.38788289771,10128.01025873903,14353.837191425664,21759.42795964165,30676.78250974478,38717.88722584273,52592.679468108225,75267.29335703708,88864.70064310335,99289.27177602999,110190.75223545427,123063.5498213976,136687.2489991801,149961.9618173764,161770.78352358533,173625.70412674715,186631.32664162075,202882.6300608099,222952.69889882373,245820.8822027064,268232.861459758,298496.29226163216,343604.94942824077,382297.06515535474,420033.0652538209,461194.326295124,510484.2588074475,562612.3619122705,613730.6079159619,665230.2785333516,720214.8938412572,779180.2649377758,842474.0994779218,910521.643290951,983703.3271851697,1062440.0047639874,1147547.1254205552,1239568.259543298,1339412.0866355957,1447767.8869596594,1565384.3807358956,1693075.1436505974],\"yaxis\":\"y\",\"type\":\"scatter\"},{\"hovertemplate\":\"Module simulation1 low quality\",\"legendgroup\":\"WasteAll_Module_Simulation1_low_quality_[Tonnes]\",\"line\":{\"color\":\"#19d3f3\",\"dash\":\"solid\"},\"marker\":{\"symbol\":\"circle\"},\"mode\":\"lines\",\"name\":\"Module simulation1 low quality\",\"orientation\":\"v\",\"showlegend\":true,\"x\":[1995,1996,1997,1998,1999,2000,2001,2002,2003,2004,2005,2006,2007,2008,2009,2010,2011,2012,2013,2014,2015,2016,2017,2018,2019,2020,2021,2022,2023,2024,2025,2026,2027,2028,2029,2030,2031,2032,2033,2034,2035,2036,2037,2038,2039,2040,2041,2042,2043,2044,2045,2046,2047,2048,2049,2050],\"xaxis\":\"x\",\"y\":[121.60958580413502,212.90161994799007,319.6503178651043,425.13874876046236,572.8030198988196,752.2192518716623,987.6833921074445,1338.5955517589832,1823.5677951994085,2498.3041086748267,3249.00818239026,4079.329318447596,6695.802044449406,9258.345393918742,12700.521758873701,16906.775934863173,25841.4510038967,41173.78815324232,60079.83488287435,77452.64458471844,106381.5230268227,154900.2474975472,188909.14284073998,218597.8598034726,252366.15819034254,293410.018112866,336313.2741585546,387704.2800910462,435756.3009960649,491786.15903465886,564884.4063671061,694399.42788331,891999.6631718673,1138967.5891248935,1369713.4232609996,1746411.706920323,2402910.599906843,2915368.0595074054,3395757.562125937,3945952.296450309,4682767.572981187,5486020.677822654,6255808.899707805,7016933.41776273,7849013.905154939,8741655.648878688,9700657.474406717,10746281.018228741,11886652.505676156,13130979.907688662,14472555.220720321,15919642.342332937,17487747.164268862,19187600.00773172,21030840.734327376,23030104.41425109],\"yaxis\":\"y\",\"type\":\"scatter\"}],                        {\"template\":{\"data\":{\"barpolar\":[{\"marker\":{\"line\":{\"color\":\"white\",\"width\":0.5},\"pattern\":{\"fillmode\":\"overlay\",\"size\":10,\"solidity\":0.2}},\"type\":\"barpolar\"}],\"bar\":[{\"error_x\":{\"color\":\"#2a3f5f\"},\"error_y\":{\"color\":\"#2a3f5f\"},\"marker\":{\"line\":{\"color\":\"white\",\"width\":0.5},\"pattern\":{\"fillmode\":\"overlay\",\"size\":10,\"solidity\":0.2}},\"type\":\"bar\"}],\"carpet\":[{\"aaxis\":{\"endlinecolor\":\"#2a3f5f\",\"gridcolor\":\"#C8D4E3\",\"linecolor\":\"#C8D4E3\",\"minorgridcolor\":\"#C8D4E3\",\"startlinecolor\":\"#2a3f5f\"},\"baxis\":{\"endlinecolor\":\"#2a3f5f\",\"gridcolor\":\"#C8D4E3\",\"linecolor\":\"#C8D4E3\",\"minorgridcolor\":\"#C8D4E3\",\"startlinecolor\":\"#2a3f5f\"},\"type\":\"carpet\"}],\"choropleth\":[{\"colorbar\":{\"outlinewidth\":0,\"ticks\":\"\"},\"type\":\"choropleth\"}],\"contourcarpet\":[{\"colorbar\":{\"outlinewidth\":0,\"ticks\":\"\"},\"type\":\"contourcarpet\"}],\"contour\":[{\"colorbar\":{\"outlinewidth\":0,\"ticks\":\"\"},\"colorscale\":[[0.0,\"#0d0887\"],[0.1111111111111111,\"#46039f\"],[0.2222222222222222,\"#7201a8\"],[0.3333333333333333,\"#9c179e\"],[0.4444444444444444,\"#bd3786\"],[0.5555555555555556,\"#d8576b\"],[0.6666666666666666,\"#ed7953\"],[0.7777777777777778,\"#fb9f3a\"],[0.8888888888888888,\"#fdca26\"],[1.0,\"#f0f921\"]],\"type\":\"contour\"}],\"heatmapgl\":[{\"colorbar\":{\"outlinewidth\":0,\"ticks\":\"\"},\"colorscale\":[[0.0,\"#0d0887\"],[0.1111111111111111,\"#46039f\"],[0.2222222222222222,\"#7201a8\"],[0.3333333333333333,\"#9c179e\"],[0.4444444444444444,\"#bd3786\"],[0.5555555555555556,\"#d8576b\"],[0.6666666666666666,\"#ed7953\"],[0.7777777777777778,\"#fb9f3a\"],[0.8888888888888888,\"#fdca26\"],[1.0,\"#f0f921\"]],\"type\":\"heatmapgl\"}],\"heatmap\":[{\"colorbar\":{\"outlinewidth\":0,\"ticks\":\"\"},\"colorscale\":[[0.0,\"#0d0887\"],[0.1111111111111111,\"#46039f\"],[0.2222222222222222,\"#7201a8\"],[0.3333333333333333,\"#9c179e\"],[0.4444444444444444,\"#bd3786\"],[0.5555555555555556,\"#d8576b\"],[0.6666666666666666,\"#ed7953\"],[0.7777777777777778,\"#fb9f3a\"],[0.8888888888888888,\"#fdca26\"],[1.0,\"#f0f921\"]],\"type\":\"heatmap\"}],\"histogram2dcontour\":[{\"colorbar\":{\"outlinewidth\":0,\"ticks\":\"\"},\"colorscale\":[[0.0,\"#0d0887\"],[0.1111111111111111,\"#46039f\"],[0.2222222222222222,\"#7201a8\"],[0.3333333333333333,\"#9c179e\"],[0.4444444444444444,\"#bd3786\"],[0.5555555555555556,\"#d8576b\"],[0.6666666666666666,\"#ed7953\"],[0.7777777777777778,\"#fb9f3a\"],[0.8888888888888888,\"#fdca26\"],[1.0,\"#f0f921\"]],\"type\":\"histogram2dcontour\"}],\"histogram2d\":[{\"colorbar\":{\"outlinewidth\":0,\"ticks\":\"\"},\"colorscale\":[[0.0,\"#0d0887\"],[0.1111111111111111,\"#46039f\"],[0.2222222222222222,\"#7201a8\"],[0.3333333333333333,\"#9c179e\"],[0.4444444444444444,\"#bd3786\"],[0.5555555555555556,\"#d8576b\"],[0.6666666666666666,\"#ed7953\"],[0.7777777777777778,\"#fb9f3a\"],[0.8888888888888888,\"#fdca26\"],[1.0,\"#f0f921\"]],\"type\":\"histogram2d\"}],\"histogram\":[{\"marker\":{\"pattern\":{\"fillmode\":\"overlay\",\"size\":10,\"solidity\":0.2}},\"type\":\"histogram\"}],\"mesh3d\":[{\"colorbar\":{\"outlinewidth\":0,\"ticks\":\"\"},\"type\":\"mesh3d\"}],\"parcoords\":[{\"line\":{\"colorbar\":{\"outlinewidth\":0,\"ticks\":\"\"}},\"type\":\"parcoords\"}],\"pie\":[{\"automargin\":true,\"type\":\"pie\"}],\"scatter3d\":[{\"line\":{\"colorbar\":{\"outlinewidth\":0,\"ticks\":\"\"}},\"marker\":{\"colorbar\":{\"outlinewidth\":0,\"ticks\":\"\"}},\"type\":\"scatter3d\"}],\"scattercarpet\":[{\"marker\":{\"colorbar\":{\"outlinewidth\":0,\"ticks\":\"\"}},\"type\":\"scattercarpet\"}],\"scattergeo\":[{\"marker\":{\"colorbar\":{\"outlinewidth\":0,\"ticks\":\"\"}},\"type\":\"scattergeo\"}],\"scattergl\":[{\"marker\":{\"colorbar\":{\"outlinewidth\":0,\"ticks\":\"\"}},\"type\":\"scattergl\"}],\"scattermapbox\":[{\"marker\":{\"colorbar\":{\"outlinewidth\":0,\"ticks\":\"\"}},\"type\":\"scattermapbox\"}],\"scatterpolargl\":[{\"marker\":{\"colorbar\":{\"outlinewidth\":0,\"ticks\":\"\"}},\"type\":\"scatterpolargl\"}],\"scatterpolar\":[{\"marker\":{\"colorbar\":{\"outlinewidth\":0,\"ticks\":\"\"}},\"type\":\"scatterpolar\"}],\"scatter\":[{\"fillpattern\":{\"fillmode\":\"overlay\",\"size\":10,\"solidity\":0.2},\"type\":\"scatter\"}],\"scatterternary\":[{\"marker\":{\"colorbar\":{\"outlinewidth\":0,\"ticks\":\"\"}},\"type\":\"scatterternary\"}],\"surface\":[{\"colorbar\":{\"outlinewidth\":0,\"ticks\":\"\"},\"colorscale\":[[0.0,\"#0d0887\"],[0.1111111111111111,\"#46039f\"],[0.2222222222222222,\"#7201a8\"],[0.3333333333333333,\"#9c179e\"],[0.4444444444444444,\"#bd3786\"],[0.5555555555555556,\"#d8576b\"],[0.6666666666666666,\"#ed7953\"],[0.7777777777777778,\"#fb9f3a\"],[0.8888888888888888,\"#fdca26\"],[1.0,\"#f0f921\"]],\"type\":\"surface\"}],\"table\":[{\"cells\":{\"fill\":{\"color\":\"#EBF0F8\"},\"line\":{\"color\":\"white\"}},\"header\":{\"fill\":{\"color\":\"#C8D4E3\"},\"line\":{\"color\":\"white\"}},\"type\":\"table\"}]},\"layout\":{\"annotationdefaults\":{\"arrowcolor\":\"#2a3f5f\",\"arrowhead\":0,\"arrowwidth\":1},\"autotypenumbers\":\"strict\",\"coloraxis\":{\"colorbar\":{\"outlinewidth\":0,\"ticks\":\"\"}},\"colorscale\":{\"diverging\":[[0,\"#8e0152\"],[0.1,\"#c51b7d\"],[0.2,\"#de77ae\"],[0.3,\"#f1b6da\"],[0.4,\"#fde0ef\"],[0.5,\"#f7f7f7\"],[0.6,\"#e6f5d0\"],[0.7,\"#b8e186\"],[0.8,\"#7fbc41\"],[0.9,\"#4d9221\"],[1,\"#276419\"]],\"sequential\":[[0.0,\"#0d0887\"],[0.1111111111111111,\"#46039f\"],[0.2222222222222222,\"#7201a8\"],[0.3333333333333333,\"#9c179e\"],[0.4444444444444444,\"#bd3786\"],[0.5555555555555556,\"#d8576b\"],[0.6666666666666666,\"#ed7953\"],[0.7777777777777778,\"#fb9f3a\"],[0.8888888888888888,\"#fdca26\"],[1.0,\"#f0f921\"]],\"sequentialminus\":[[0.0,\"#0d0887\"],[0.1111111111111111,\"#46039f\"],[0.2222222222222222,\"#7201a8\"],[0.3333333333333333,\"#9c179e\"],[0.4444444444444444,\"#bd3786\"],[0.5555555555555556,\"#d8576b\"],[0.6666666666666666,\"#ed7953\"],[0.7777777777777778,\"#fb9f3a\"],[0.8888888888888888,\"#fdca26\"],[1.0,\"#f0f921\"]]},\"colorway\":[\"#636efa\",\"#EF553B\",\"#00cc96\",\"#ab63fa\",\"#FFA15A\",\"#19d3f3\",\"#FF6692\",\"#B6E880\",\"#FF97FF\",\"#FECB52\"],\"font\":{\"color\":\"#2a3f5f\"},\"geo\":{\"bgcolor\":\"white\",\"lakecolor\":\"white\",\"landcolor\":\"white\",\"showlakes\":true,\"showland\":true,\"subunitcolor\":\"#C8D4E3\"},\"hoverlabel\":{\"align\":\"left\"},\"hovermode\":\"closest\",\"mapbox\":{\"style\":\"light\"},\"paper_bgcolor\":\"white\",\"plot_bgcolor\":\"white\",\"polar\":{\"angularaxis\":{\"gridcolor\":\"#EBF0F8\",\"linecolor\":\"#EBF0F8\",\"ticks\":\"\"},\"bgcolor\":\"white\",\"radialaxis\":{\"gridcolor\":\"#EBF0F8\",\"linecolor\":\"#EBF0F8\",\"ticks\":\"\"}},\"scene\":{\"xaxis\":{\"backgroundcolor\":\"white\",\"gridcolor\":\"#DFE8F3\",\"gridwidth\":2,\"linecolor\":\"#EBF0F8\",\"showbackground\":true,\"ticks\":\"\",\"zerolinecolor\":\"#EBF0F8\"},\"yaxis\":{\"backgroundcolor\":\"white\",\"gridcolor\":\"#DFE8F3\",\"gridwidth\":2,\"linecolor\":\"#EBF0F8\",\"showbackground\":true,\"ticks\":\"\",\"zerolinecolor\":\"#EBF0F8\"},\"zaxis\":{\"backgroundcolor\":\"white\",\"gridcolor\":\"#DFE8F3\",\"gridwidth\":2,\"linecolor\":\"#EBF0F8\",\"showbackground\":true,\"ticks\":\"\",\"zerolinecolor\":\"#EBF0F8\"}},\"shapedefaults\":{\"line\":{\"color\":\"#2a3f5f\"}},\"ternary\":{\"aaxis\":{\"gridcolor\":\"#DFE8F3\",\"linecolor\":\"#A2B1C6\",\"ticks\":\"\"},\"baxis\":{\"gridcolor\":\"#DFE8F3\",\"linecolor\":\"#A2B1C6\",\"ticks\":\"\"},\"bgcolor\":\"white\",\"caxis\":{\"gridcolor\":\"#DFE8F3\",\"linecolor\":\"#A2B1C6\",\"ticks\":\"\"}},\"title\":{\"x\":0.05},\"xaxis\":{\"automargin\":true,\"gridcolor\":\"#EBF0F8\",\"linecolor\":\"#EBF0F8\",\"ticks\":\"\",\"title\":{\"standoff\":15},\"zerolinecolor\":\"#EBF0F8\",\"zerolinewidth\":2},\"yaxis\":{\"automargin\":true,\"gridcolor\":\"#EBF0F8\",\"linecolor\":\"#EBF0F8\",\"ticks\":\"\",\"title\":{\"standoff\":15},\"zerolinecolor\":\"#EBF0F8\",\"zerolinewidth\":2}}},\"xaxis\":{\"anchor\":\"y\",\"domain\":[0.0,1.0],\"title\":{\"text\":\"Year\"}},\"yaxis\":{\"anchor\":\"x\",\"domain\":[0.0,1.0],\"title\":{\"text\":\"[Tonnes]\"}},\"legend\":{\"title\":{\"text\":\"variable\"},\"tracegroupgap\":0},\"margin\":{\"t\":60},\"title\":{\"text\":\"Cumulative Waste All\"}},                        {\"responsive\": true}                    ).then(function(){\n",
       "                            \n",
       "var gd = document.getElementById('95e0fda0-c0c5-4517-b03e-efaa7f650c4f');\n",
       "var x = new MutationObserver(function (mutations, observer) {{\n",
       "        var display = window.getComputedStyle(gd).display;\n",
       "        if (!display || display === 'none') {{\n",
       "            console.log([gd, 'removed!']);\n",
       "            Plotly.purge(gd);\n",
       "            observer.disconnect();\n",
       "        }}\n",
       "}});\n",
       "\n",
       "// Listen for the removal of the full notebook cells\n",
       "var notebookContainer = gd.closest('#notebook-container');\n",
       "if (notebookContainer) {{\n",
       "    x.observe(notebookContainer, {childList: true});\n",
       "}}\n",
       "\n",
       "// Listen for the clearing of the current output cell\n",
       "var outputEl = gd.closest('.output');\n",
       "if (outputEl) {{\n",
       "    x.observe(outputEl, {childList: true});\n",
       "}}\n",
       "\n",
       "                        })                };                });            </script>        </div>"
      ]
     },
     "metadata": {},
     "output_type": "display_data"
    },
    {
     "data": {
      "application/vnd.plotly.v1+json": {
       "config": {
        "plotlyServerURL": "https://plot.ly"
       },
       "data": [
        {
         "hovertemplate": "Glass simulation1 standard",
         "legendgroup": "WasteEOL_glass_Simulation1_standard_[Tonnes]",
         "line": {
          "color": "#636efa",
          "dash": "solid"
         },
         "marker": {
          "symbol": "circle"
         },
         "mode": "lines",
         "name": "Glass simulation1 standard",
         "orientation": "v",
         "showlegend": true,
         "type": "scatter",
         "x": [
          1995,
          1996,
          1997,
          1998,
          1999,
          2000,
          2001,
          2002,
          2003,
          2004,
          2005,
          2006,
          2007,
          2008,
          2009,
          2010,
          2011,
          2012,
          2013,
          2014,
          2015,
          2016,
          2017,
          2018,
          2019,
          2020,
          2021,
          2022,
          2023,
          2024,
          2025,
          2026,
          2027,
          2028,
          2029,
          2030,
          2031,
          2032,
          2033,
          2034,
          2035,
          2036,
          2037,
          2038,
          2039,
          2040,
          2041,
          2042,
          2043,
          2044,
          2045,
          2046,
          2047,
          2048,
          2049,
          2050
         ],
         "xaxis": "x",
         "y": [
          0,
          0.0026207606793797566,
          0.05789523309668987,
          0.3773317532393727,
          1.446711591588406,
          4.0989081156971885,
          9.568403175792852,
          19.537687891475496,
          36.176488657619494,
          62.1721422821307,
          818.2318411307706,
          1387.422576330273,
          1397.615380717245,
          1417.1061026354391,
          1452.7616436314988,
          1515.488543163823,
          1621.8520920766714,
          2399.4706470880847,
          3231.6965997768366,
          4398.889679671942,
          4820.384726978197,
          5461.568189807475,
          6399.561418889707,
          7722.46925395685,
          9524.661570110517,
          12369.206359636231,
          15888.906524242546,
          20299.867025506966,
          25677.304668202152,
          32436.52280135332,
          39969.102360111705,
          49093.833430700426,
          56987.87958028031,
          74579.95630390069,
          95060.70851652033,
          126804.04608733878,
          145020.98047063258,
          198232.1360388609,
          228533.91903388777,
          330522.38351351256,
          480497.8297018058,
          525868.1002995442,
          747320.6418047155,
          814312.2906735927,
          901159.7060196216,
          1135049.5641114977,
          1256532.4527735314,
          1405010.4849999526,
          1743657.452407697,
          2213229.1041211584,
          2361061.825329137,
          2716610.4251442575,
          2872563.9779375065,
          3186100.2322972096,
          3511704.8413758506,
          4157171.85162507
         ],
         "yaxis": "y"
        },
        {
         "hovertemplate": "Silicon simulation1 standard",
         "legendgroup": "WasteEOL_silicon_Simulation1_standard_[Tonnes]",
         "line": {
          "color": "#EF553B",
          "dash": "solid"
         },
         "marker": {
          "symbol": "circle"
         },
         "mode": "lines",
         "name": "Silicon simulation1 standard",
         "orientation": "v",
         "showlegend": true,
         "type": "scatter",
         "x": [
          1995,
          1996,
          1997,
          1998,
          1999,
          2000,
          2001,
          2002,
          2003,
          2004,
          2005,
          2006,
          2007,
          2008,
          2009,
          2010,
          2011,
          2012,
          2013,
          2014,
          2015,
          2016,
          2017,
          2018,
          2019,
          2020,
          2021,
          2022,
          2023,
          2024,
          2025,
          2026,
          2027,
          2028,
          2029,
          2030,
          2031,
          2032,
          2033,
          2034,
          2035,
          2036,
          2037,
          2038,
          2039,
          2040,
          2041,
          2042,
          2043,
          2044,
          2045,
          2046,
          2047,
          2048,
          2049,
          2050
         ],
         "xaxis": "x",
         "y": [
          0,
          0.000281347586394847,
          0.006211051053573427,
          0.04041825706805923,
          0.154771475925033,
          0.4381013106245401,
          1.0219459093969059,
          2.0853430518246214,
          3.8586745192890435,
          6.626230637244985,
          87.75123949785942,
          147.6357363746501,
          148.65824691334393,
          150.59756417840788,
          154.10677324220825,
          160.1958426736891,
          170.35449143998244,
          248.9380564493925,
          330.46651222505113,
          441.9931138623218,
          476.8739193518373,
          529.1183059157862,
          604.3292418350576,
          708.5671803946352,
          847.7863762646602,
          1072.5085872816967,
          1340.9567458249921,
          1667.153919500676,
          2050.2270821682378,
          2517.9808678222025,
          2978.60794269056,
          3484.405723551457,
          3905.432693903325,
          4860.627900502132,
          5940.486803230069,
          7614.048866701316,
          8564.631260581617,
          11363.62321286206,
          12936.285387935672,
          18296.21098365564,
          26125.33008918196,
          28439.717878984186,
          39890.784723146324,
          43280.90890375969,
          47665.53889129077,
          59543.50462759355,
          65625.0252704128,
          73026.69616628965,
          90144.34178668799,
          114018.85109978677,
          120994.41103389306,
          138423.1615794773,
          145414.17370619797,
          160024.11329839044,
          174573.46081711777,
          202709.50375951597
         ],
         "yaxis": "y"
        },
        {
         "hovertemplate": "Module simulation1 standard",
         "legendgroup": "WasteEOL_Module_Simulation1_standard_[Tonnes]",
         "line": {
          "color": "#00cc96",
          "dash": "solid"
         },
         "marker": {
          "symbol": "circle"
         },
         "mode": "lines",
         "name": "Module simulation1 standard",
         "orientation": "v",
         "showlegend": true,
         "type": "scatter",
         "x": [
          1995,
          1996,
          1997,
          1998,
          1999,
          2000,
          2001,
          2002,
          2003,
          2004,
          2005,
          2006,
          2007,
          2008,
          2009,
          2010,
          2011,
          2012,
          2013,
          2014,
          2015,
          2016,
          2017,
          2018,
          2019,
          2020,
          2021,
          2022,
          2023,
          2024,
          2025,
          2026,
          2027,
          2028,
          2029,
          2030,
          2031,
          2032,
          2033,
          2034,
          2035,
          2036,
          2037,
          2038,
          2039,
          2040,
          2041,
          2042,
          2043,
          2044,
          2045,
          2046,
          2047,
          2048,
          2049,
          2050
         ],
         "xaxis": "x",
         "y": [
          0,
          0.0029021082657746037,
          0.06410628415026329,
          0.41775001030743186,
          1.6014830675134388,
          4.537009426321729,
          10.590349085189759,
          21.623030943300122,
          40.03516317690854,
          68.79837291937568,
          905.9830806286299,
          1535.0583127049226,
          1546.2736276305886,
          1567.703666813847,
          1606.8684168737068,
          1675.6843858375116,
          1792.2065835166534,
          2648.408703537477,
          3562.1631120018874,
          4840.882793534263,
          5297.258646330034,
          5990.686495723261,
          7003.8906607247645,
          8431.036434351485,
          10372.447946375178,
          13441.714946917928,
          17229.863270067537,
          21967.020945007644,
          27727.531750370392,
          34954.50366917552,
          42947.71030280227,
          52578.23915425189,
          60893.312274183634,
          79440.58420440282,
          101001.1953197504,
          134418.09495404008,
          153585.6117312142,
          209595.75925172295,
          241470.20442182344,
          348818.59449716815,
          506623.1597909877,
          554307.8181785283,
          787211.4265278619,
          857593.1995773524,
          948825.2449109124,
          1194593.0687390913,
          1322157.478043944,
          1478037.181166242,
          1833801.794194385,
          2327247.955220945,
          2482056.23636303,
          2855033.5867237346,
          3017978.151643704,
          3346124.3455955996,
          3686278.3021929683,
          4359881.355384586
         ],
         "yaxis": "y"
        },
        {
         "hovertemplate": "Glass simulation1 low quality",
         "legendgroup": "WasteEOL_glass_Simulation1_low_quality_[Tonnes]",
         "line": {
          "color": "#ab63fa",
          "dash": "solid"
         },
         "marker": {
          "symbol": "circle"
         },
         "mode": "lines",
         "name": "Glass simulation1 low quality",
         "orientation": "v",
         "showlegend": true,
         "type": "scatter",
         "x": [
          1995,
          1996,
          1997,
          1998,
          1999,
          2000,
          2001,
          2002,
          2003,
          2004,
          2005,
          2006,
          2007,
          2008,
          2009,
          2010,
          2011,
          2012,
          2013,
          2014,
          2015,
          2016,
          2017,
          2018,
          2019,
          2020,
          2021,
          2022,
          2023,
          2024,
          2025,
          2026,
          2027,
          2028,
          2029,
          2030,
          2031,
          2032,
          2033,
          2034,
          2035,
          2036,
          2037,
          2038,
          2039,
          2040,
          2041,
          2042,
          2043,
          2044,
          2045,
          2046,
          2047,
          2048,
          2049,
          2050
         ],
         "xaxis": "x",
         "y": [
          0,
          0.0026207606793797566,
          0.05789523309668987,
          0.3773317532393727,
          1.446711591588406,
          4.0989081156971885,
          9.568403175792852,
          19.537687891475496,
          36.176488657619494,
          62.1721422821307,
          100.75162101222107,
          155.7063053822269,
          231.47587003001775,
          333.40208001123585,
          468.23999922197794,
          1109.8163858134985,
          1621.8520920766714,
          2399.4706470880847,
          3231.6965997768366,
          4398.889679671942,
          5863.657698478895,
          7802.781575521589,
          10608.061506898048,
          14410.577697663555,
          20042.944205466134,
          25611.137584727847,
          31621.11392231874,
          48527.55702515417,
          65271.427807624816,
          89041.83948856617,
          128285.49469379976,
          220806.20437292272,
          376893.16415462666,
          578873.1918345946,
          765154.020684886,
          1089339.346427674,
          1676745.2264545902,
          2124527.1450944263,
          2539020.671879062,
          3017525.147436307,
          3671943.588240422,
          4387156.964935927,
          5066864.208504028,
          5734207.494884026,
          6465412.007073909,
          7249270.928656636,
          8090891.51252687,
          9009736.267572576,
          10013144.433564695,
          11109461.012854028,
          12290681.737751862,
          13564004.00661243,
          14943456.274789577,
          16438460.958717339,
          18059236.312149275,
          19816871.89753381
         ],
         "yaxis": "y"
        },
        {
         "hovertemplate": "Silicon simulation1 low quality",
         "legendgroup": "WasteEOL_silicon_Simulation1_low_quality_[Tonnes]",
         "line": {
          "color": "#FFA15A",
          "dash": "solid"
         },
         "marker": {
          "symbol": "circle"
         },
         "mode": "lines",
         "name": "Silicon simulation1 low quality",
         "orientation": "v",
         "showlegend": true,
         "type": "scatter",
         "x": [
          1995,
          1996,
          1997,
          1998,
          1999,
          2000,
          2001,
          2002,
          2003,
          2004,
          2005,
          2006,
          2007,
          2008,
          2009,
          2010,
          2011,
          2012,
          2013,
          2014,
          2015,
          2016,
          2017,
          2018,
          2019,
          2020,
          2021,
          2022,
          2023,
          2024,
          2025,
          2026,
          2027,
          2028,
          2029,
          2030,
          2031,
          2032,
          2033,
          2034,
          2035,
          2036,
          2037,
          2038,
          2039,
          2040,
          2041,
          2042,
          2043,
          2044,
          2045,
          2046,
          2047,
          2048,
          2049,
          2050
         ],
         "xaxis": "x",
         "y": [
          0,
          0.000281347586394847,
          0.006211051053573427,
          0.04041825706805923,
          0.154771475925033,
          0.4381013106245401,
          1.0219459093969059,
          2.0853430518246214,
          3.8586745192890435,
          6.626230637244985,
          10.727293814970484,
          16.556469807062083,
          24.567698770440472,
          35.29062051928733,
          49.3656406592082,
          117.49948190053928,
          170.35449143998244,
          248.9380564493925,
          330.46651222505113,
          441.9931138623218,
          577.8925416468745,
          752.916739116339,
          1000.4345412482087,
          1327.47219251407,
          1801.8872365856696,
          2195.1985297658616,
          2544.3431212076457,
          3488.1599666346783,
          4376.103716090857,
          5636.558951500056,
          7717.4252069035865,
          12623.760833476803,
          20820.311722733313,
          31323.305674092826,
          40856.002478469716,
          57579.544163393904,
          88128.23815827753,
          111046.83394006328,
          131688.0155175223,
          154316.3175586306,
          183508.34559970384,
          213835.90744552496,
          241301.4044469705,
          267133.59509724926,
          294259.36292432045,
          322982.51034898125,
          353441.99809724645,
          385836.1030155459,
          420298.4524428862,
          456981.5092882625,
          496408.8391390919,
          538806.5627756495,
          584738.0896689419,
          634517.1573681571,
          688484.0023627419,
          747007.873047574
         ],
         "yaxis": "y"
        },
        {
         "hovertemplate": "Module simulation1 low quality",
         "legendgroup": "WasteEOL_Module_Simulation1_low_quality_[Tonnes]",
         "line": {
          "color": "#19d3f3",
          "dash": "solid"
         },
         "marker": {
          "symbol": "circle"
         },
         "mode": "lines",
         "name": "Module simulation1 low quality",
         "orientation": "v",
         "showlegend": true,
         "type": "scatter",
         "x": [
          1995,
          1996,
          1997,
          1998,
          1999,
          2000,
          2001,
          2002,
          2003,
          2004,
          2005,
          2006,
          2007,
          2008,
          2009,
          2010,
          2011,
          2012,
          2013,
          2014,
          2015,
          2016,
          2017,
          2018,
          2019,
          2020,
          2021,
          2022,
          2023,
          2024,
          2025,
          2026,
          2027,
          2028,
          2029,
          2030,
          2031,
          2032,
          2033,
          2034,
          2035,
          2036,
          2037,
          2038,
          2039,
          2040,
          2041,
          2042,
          2043,
          2044,
          2045,
          2046,
          2047,
          2048,
          2049,
          2050
         ],
         "xaxis": "x",
         "y": [
          0,
          0.0029021082657746037,
          0.06410628415026329,
          0.41775001030743186,
          1.6014830675134388,
          4.537009426321729,
          10.590349085189759,
          21.623030943300122,
          40.03516317690854,
          68.79837291937568,
          111.47891482719155,
          172.26277518928896,
          256.04356880045816,
          368.6927005305231,
          517.6056398811861,
          1227.3158677140377,
          1792.2065835166536,
          2648.408703537477,
          3562.1631120018874,
          4840.882793534263,
          6441.550240125769,
          8555.698314637926,
          11608.496048146255,
          15738.049890177625,
          21844.831442051804,
          27806.336114493708,
          34165.45704352639,
          52015.71699178885,
          69647.53152371568,
          94678.39844006623,
          136002.91990070336,
          233429.96520639953,
          397713.47587736,
          610196.4975086874,
          806010.0231633558,
          1146918.890591068,
          1764873.464612868,
          2235573.97903449,
          2670708.6873965845,
          3171841.464994938,
          3855451.9338401263,
          4600992.8723814525,
          5308165.612950999,
          6001341.089981277,
          6759671.369998231,
          7572253.439005618,
          8444333.510624116,
          9395572.370588124,
          10433442.88600758,
          11566442.522142291,
          12787090.576890955,
          14102810.569388079,
          15528194.36445852,
          17072978.116085496,
          18747720.314512018,
          20563879.770581387
         ],
         "yaxis": "y"
        }
       ],
       "layout": {
        "legend": {
         "title": {
          "text": "variable"
         },
         "tracegroupgap": 0
        },
        "margin": {
         "t": 60
        },
        "template": {
         "data": {
          "bar": [
           {
            "error_x": {
             "color": "#2a3f5f"
            },
            "error_y": {
             "color": "#2a3f5f"
            },
            "marker": {
             "line": {
              "color": "white",
              "width": 0.5
             },
             "pattern": {
              "fillmode": "overlay",
              "size": 10,
              "solidity": 0.2
             }
            },
            "type": "bar"
           }
          ],
          "barpolar": [
           {
            "marker": {
             "line": {
              "color": "white",
              "width": 0.5
             },
             "pattern": {
              "fillmode": "overlay",
              "size": 10,
              "solidity": 0.2
             }
            },
            "type": "barpolar"
           }
          ],
          "carpet": [
           {
            "aaxis": {
             "endlinecolor": "#2a3f5f",
             "gridcolor": "#C8D4E3",
             "linecolor": "#C8D4E3",
             "minorgridcolor": "#C8D4E3",
             "startlinecolor": "#2a3f5f"
            },
            "baxis": {
             "endlinecolor": "#2a3f5f",
             "gridcolor": "#C8D4E3",
             "linecolor": "#C8D4E3",
             "minorgridcolor": "#C8D4E3",
             "startlinecolor": "#2a3f5f"
            },
            "type": "carpet"
           }
          ],
          "choropleth": [
           {
            "colorbar": {
             "outlinewidth": 0,
             "ticks": ""
            },
            "type": "choropleth"
           }
          ],
          "contour": [
           {
            "colorbar": {
             "outlinewidth": 0,
             "ticks": ""
            },
            "colorscale": [
             [
              0,
              "#0d0887"
             ],
             [
              0.1111111111111111,
              "#46039f"
             ],
             [
              0.2222222222222222,
              "#7201a8"
             ],
             [
              0.3333333333333333,
              "#9c179e"
             ],
             [
              0.4444444444444444,
              "#bd3786"
             ],
             [
              0.5555555555555556,
              "#d8576b"
             ],
             [
              0.6666666666666666,
              "#ed7953"
             ],
             [
              0.7777777777777778,
              "#fb9f3a"
             ],
             [
              0.8888888888888888,
              "#fdca26"
             ],
             [
              1,
              "#f0f921"
             ]
            ],
            "type": "contour"
           }
          ],
          "contourcarpet": [
           {
            "colorbar": {
             "outlinewidth": 0,
             "ticks": ""
            },
            "type": "contourcarpet"
           }
          ],
          "heatmap": [
           {
            "colorbar": {
             "outlinewidth": 0,
             "ticks": ""
            },
            "colorscale": [
             [
              0,
              "#0d0887"
             ],
             [
              0.1111111111111111,
              "#46039f"
             ],
             [
              0.2222222222222222,
              "#7201a8"
             ],
             [
              0.3333333333333333,
              "#9c179e"
             ],
             [
              0.4444444444444444,
              "#bd3786"
             ],
             [
              0.5555555555555556,
              "#d8576b"
             ],
             [
              0.6666666666666666,
              "#ed7953"
             ],
             [
              0.7777777777777778,
              "#fb9f3a"
             ],
             [
              0.8888888888888888,
              "#fdca26"
             ],
             [
              1,
              "#f0f921"
             ]
            ],
            "type": "heatmap"
           }
          ],
          "heatmapgl": [
           {
            "colorbar": {
             "outlinewidth": 0,
             "ticks": ""
            },
            "colorscale": [
             [
              0,
              "#0d0887"
             ],
             [
              0.1111111111111111,
              "#46039f"
             ],
             [
              0.2222222222222222,
              "#7201a8"
             ],
             [
              0.3333333333333333,
              "#9c179e"
             ],
             [
              0.4444444444444444,
              "#bd3786"
             ],
             [
              0.5555555555555556,
              "#d8576b"
             ],
             [
              0.6666666666666666,
              "#ed7953"
             ],
             [
              0.7777777777777778,
              "#fb9f3a"
             ],
             [
              0.8888888888888888,
              "#fdca26"
             ],
             [
              1,
              "#f0f921"
             ]
            ],
            "type": "heatmapgl"
           }
          ],
          "histogram": [
           {
            "marker": {
             "pattern": {
              "fillmode": "overlay",
              "size": 10,
              "solidity": 0.2
             }
            },
            "type": "histogram"
           }
          ],
          "histogram2d": [
           {
            "colorbar": {
             "outlinewidth": 0,
             "ticks": ""
            },
            "colorscale": [
             [
              0,
              "#0d0887"
             ],
             [
              0.1111111111111111,
              "#46039f"
             ],
             [
              0.2222222222222222,
              "#7201a8"
             ],
             [
              0.3333333333333333,
              "#9c179e"
             ],
             [
              0.4444444444444444,
              "#bd3786"
             ],
             [
              0.5555555555555556,
              "#d8576b"
             ],
             [
              0.6666666666666666,
              "#ed7953"
             ],
             [
              0.7777777777777778,
              "#fb9f3a"
             ],
             [
              0.8888888888888888,
              "#fdca26"
             ],
             [
              1,
              "#f0f921"
             ]
            ],
            "type": "histogram2d"
           }
          ],
          "histogram2dcontour": [
           {
            "colorbar": {
             "outlinewidth": 0,
             "ticks": ""
            },
            "colorscale": [
             [
              0,
              "#0d0887"
             ],
             [
              0.1111111111111111,
              "#46039f"
             ],
             [
              0.2222222222222222,
              "#7201a8"
             ],
             [
              0.3333333333333333,
              "#9c179e"
             ],
             [
              0.4444444444444444,
              "#bd3786"
             ],
             [
              0.5555555555555556,
              "#d8576b"
             ],
             [
              0.6666666666666666,
              "#ed7953"
             ],
             [
              0.7777777777777778,
              "#fb9f3a"
             ],
             [
              0.8888888888888888,
              "#fdca26"
             ],
             [
              1,
              "#f0f921"
             ]
            ],
            "type": "histogram2dcontour"
           }
          ],
          "mesh3d": [
           {
            "colorbar": {
             "outlinewidth": 0,
             "ticks": ""
            },
            "type": "mesh3d"
           }
          ],
          "parcoords": [
           {
            "line": {
             "colorbar": {
              "outlinewidth": 0,
              "ticks": ""
             }
            },
            "type": "parcoords"
           }
          ],
          "pie": [
           {
            "automargin": true,
            "type": "pie"
           }
          ],
          "scatter": [
           {
            "fillpattern": {
             "fillmode": "overlay",
             "size": 10,
             "solidity": 0.2
            },
            "type": "scatter"
           }
          ],
          "scatter3d": [
           {
            "line": {
             "colorbar": {
              "outlinewidth": 0,
              "ticks": ""
             }
            },
            "marker": {
             "colorbar": {
              "outlinewidth": 0,
              "ticks": ""
             }
            },
            "type": "scatter3d"
           }
          ],
          "scattercarpet": [
           {
            "marker": {
             "colorbar": {
              "outlinewidth": 0,
              "ticks": ""
             }
            },
            "type": "scattercarpet"
           }
          ],
          "scattergeo": [
           {
            "marker": {
             "colorbar": {
              "outlinewidth": 0,
              "ticks": ""
             }
            },
            "type": "scattergeo"
           }
          ],
          "scattergl": [
           {
            "marker": {
             "colorbar": {
              "outlinewidth": 0,
              "ticks": ""
             }
            },
            "type": "scattergl"
           }
          ],
          "scattermapbox": [
           {
            "marker": {
             "colorbar": {
              "outlinewidth": 0,
              "ticks": ""
             }
            },
            "type": "scattermapbox"
           }
          ],
          "scatterpolar": [
           {
            "marker": {
             "colorbar": {
              "outlinewidth": 0,
              "ticks": ""
             }
            },
            "type": "scatterpolar"
           }
          ],
          "scatterpolargl": [
           {
            "marker": {
             "colorbar": {
              "outlinewidth": 0,
              "ticks": ""
             }
            },
            "type": "scatterpolargl"
           }
          ],
          "scatterternary": [
           {
            "marker": {
             "colorbar": {
              "outlinewidth": 0,
              "ticks": ""
             }
            },
            "type": "scatterternary"
           }
          ],
          "surface": [
           {
            "colorbar": {
             "outlinewidth": 0,
             "ticks": ""
            },
            "colorscale": [
             [
              0,
              "#0d0887"
             ],
             [
              0.1111111111111111,
              "#46039f"
             ],
             [
              0.2222222222222222,
              "#7201a8"
             ],
             [
              0.3333333333333333,
              "#9c179e"
             ],
             [
              0.4444444444444444,
              "#bd3786"
             ],
             [
              0.5555555555555556,
              "#d8576b"
             ],
             [
              0.6666666666666666,
              "#ed7953"
             ],
             [
              0.7777777777777778,
              "#fb9f3a"
             ],
             [
              0.8888888888888888,
              "#fdca26"
             ],
             [
              1,
              "#f0f921"
             ]
            ],
            "type": "surface"
           }
          ],
          "table": [
           {
            "cells": {
             "fill": {
              "color": "#EBF0F8"
             },
             "line": {
              "color": "white"
             }
            },
            "header": {
             "fill": {
              "color": "#C8D4E3"
             },
             "line": {
              "color": "white"
             }
            },
            "type": "table"
           }
          ]
         },
         "layout": {
          "annotationdefaults": {
           "arrowcolor": "#2a3f5f",
           "arrowhead": 0,
           "arrowwidth": 1
          },
          "autotypenumbers": "strict",
          "coloraxis": {
           "colorbar": {
            "outlinewidth": 0,
            "ticks": ""
           }
          },
          "colorscale": {
           "diverging": [
            [
             0,
             "#8e0152"
            ],
            [
             0.1,
             "#c51b7d"
            ],
            [
             0.2,
             "#de77ae"
            ],
            [
             0.3,
             "#f1b6da"
            ],
            [
             0.4,
             "#fde0ef"
            ],
            [
             0.5,
             "#f7f7f7"
            ],
            [
             0.6,
             "#e6f5d0"
            ],
            [
             0.7,
             "#b8e186"
            ],
            [
             0.8,
             "#7fbc41"
            ],
            [
             0.9,
             "#4d9221"
            ],
            [
             1,
             "#276419"
            ]
           ],
           "sequential": [
            [
             0,
             "#0d0887"
            ],
            [
             0.1111111111111111,
             "#46039f"
            ],
            [
             0.2222222222222222,
             "#7201a8"
            ],
            [
             0.3333333333333333,
             "#9c179e"
            ],
            [
             0.4444444444444444,
             "#bd3786"
            ],
            [
             0.5555555555555556,
             "#d8576b"
            ],
            [
             0.6666666666666666,
             "#ed7953"
            ],
            [
             0.7777777777777778,
             "#fb9f3a"
            ],
            [
             0.8888888888888888,
             "#fdca26"
            ],
            [
             1,
             "#f0f921"
            ]
           ],
           "sequentialminus": [
            [
             0,
             "#0d0887"
            ],
            [
             0.1111111111111111,
             "#46039f"
            ],
            [
             0.2222222222222222,
             "#7201a8"
            ],
            [
             0.3333333333333333,
             "#9c179e"
            ],
            [
             0.4444444444444444,
             "#bd3786"
            ],
            [
             0.5555555555555556,
             "#d8576b"
            ],
            [
             0.6666666666666666,
             "#ed7953"
            ],
            [
             0.7777777777777778,
             "#fb9f3a"
            ],
            [
             0.8888888888888888,
             "#fdca26"
            ],
            [
             1,
             "#f0f921"
            ]
           ]
          },
          "colorway": [
           "#636efa",
           "#EF553B",
           "#00cc96",
           "#ab63fa",
           "#FFA15A",
           "#19d3f3",
           "#FF6692",
           "#B6E880",
           "#FF97FF",
           "#FECB52"
          ],
          "font": {
           "color": "#2a3f5f"
          },
          "geo": {
           "bgcolor": "white",
           "lakecolor": "white",
           "landcolor": "white",
           "showlakes": true,
           "showland": true,
           "subunitcolor": "#C8D4E3"
          },
          "hoverlabel": {
           "align": "left"
          },
          "hovermode": "closest",
          "mapbox": {
           "style": "light"
          },
          "paper_bgcolor": "white",
          "plot_bgcolor": "white",
          "polar": {
           "angularaxis": {
            "gridcolor": "#EBF0F8",
            "linecolor": "#EBF0F8",
            "ticks": ""
           },
           "bgcolor": "white",
           "radialaxis": {
            "gridcolor": "#EBF0F8",
            "linecolor": "#EBF0F8",
            "ticks": ""
           }
          },
          "scene": {
           "xaxis": {
            "backgroundcolor": "white",
            "gridcolor": "#DFE8F3",
            "gridwidth": 2,
            "linecolor": "#EBF0F8",
            "showbackground": true,
            "ticks": "",
            "zerolinecolor": "#EBF0F8"
           },
           "yaxis": {
            "backgroundcolor": "white",
            "gridcolor": "#DFE8F3",
            "gridwidth": 2,
            "linecolor": "#EBF0F8",
            "showbackground": true,
            "ticks": "",
            "zerolinecolor": "#EBF0F8"
           },
           "zaxis": {
            "backgroundcolor": "white",
            "gridcolor": "#DFE8F3",
            "gridwidth": 2,
            "linecolor": "#EBF0F8",
            "showbackground": true,
            "ticks": "",
            "zerolinecolor": "#EBF0F8"
           }
          },
          "shapedefaults": {
           "line": {
            "color": "#2a3f5f"
           }
          },
          "ternary": {
           "aaxis": {
            "gridcolor": "#DFE8F3",
            "linecolor": "#A2B1C6",
            "ticks": ""
           },
           "baxis": {
            "gridcolor": "#DFE8F3",
            "linecolor": "#A2B1C6",
            "ticks": ""
           },
           "bgcolor": "white",
           "caxis": {
            "gridcolor": "#DFE8F3",
            "linecolor": "#A2B1C6",
            "ticks": ""
           }
          },
          "title": {
           "x": 0.05
          },
          "xaxis": {
           "automargin": true,
           "gridcolor": "#EBF0F8",
           "linecolor": "#EBF0F8",
           "ticks": "",
           "title": {
            "standoff": 15
           },
           "zerolinecolor": "#EBF0F8",
           "zerolinewidth": 2
          },
          "yaxis": {
           "automargin": true,
           "gridcolor": "#EBF0F8",
           "linecolor": "#EBF0F8",
           "ticks": "",
           "title": {
            "standoff": 15
           },
           "zerolinecolor": "#EBF0F8",
           "zerolinewidth": 2
          }
         }
        },
        "title": {
         "text": "Cumulative Waste E O L"
        },
        "xaxis": {
         "anchor": "y",
         "domain": [
          0,
          1
         ],
         "title": {
          "text": "Year"
         }
        },
        "yaxis": {
         "anchor": "x",
         "domain": [
          0,
          1
         ],
         "title": {
          "text": "[Tonnes]"
         }
        }
       }
      },
      "text/html": [
       "<div>                            <div id=\"1cda96e4-884d-4bb5-8d45-39a7d60a58cd\" class=\"plotly-graph-div\" style=\"height:525px; width:100%;\"></div>            <script type=\"text/javascript\">                require([\"plotly\"], function(Plotly) {                    window.PLOTLYENV=window.PLOTLYENV || {};                                    if (document.getElementById(\"1cda96e4-884d-4bb5-8d45-39a7d60a58cd\")) {                    Plotly.newPlot(                        \"1cda96e4-884d-4bb5-8d45-39a7d60a58cd\",                        [{\"hovertemplate\":\"Glass simulation1 standard\",\"legendgroup\":\"WasteEOL_glass_Simulation1_standard_[Tonnes]\",\"line\":{\"color\":\"#636efa\",\"dash\":\"solid\"},\"marker\":{\"symbol\":\"circle\"},\"mode\":\"lines\",\"name\":\"Glass simulation1 standard\",\"orientation\":\"v\",\"showlegend\":true,\"x\":[1995,1996,1997,1998,1999,2000,2001,2002,2003,2004,2005,2006,2007,2008,2009,2010,2011,2012,2013,2014,2015,2016,2017,2018,2019,2020,2021,2022,2023,2024,2025,2026,2027,2028,2029,2030,2031,2032,2033,2034,2035,2036,2037,2038,2039,2040,2041,2042,2043,2044,2045,2046,2047,2048,2049,2050],\"xaxis\":\"x\",\"y\":[0.0,0.0026207606793797566,0.05789523309668987,0.3773317532393727,1.446711591588406,4.0989081156971885,9.568403175792852,19.537687891475496,36.176488657619494,62.1721422821307,818.2318411307706,1387.422576330273,1397.615380717245,1417.1061026354391,1452.7616436314988,1515.488543163823,1621.8520920766714,2399.4706470880847,3231.6965997768366,4398.889679671942,4820.384726978197,5461.568189807475,6399.561418889707,7722.46925395685,9524.661570110517,12369.206359636231,15888.906524242546,20299.867025506966,25677.304668202152,32436.52280135332,39969.102360111705,49093.833430700426,56987.87958028031,74579.95630390069,95060.70851652033,126804.04608733878,145020.98047063258,198232.1360388609,228533.91903388777,330522.38351351256,480497.8297018058,525868.1002995442,747320.6418047155,814312.2906735927,901159.7060196216,1135049.5641114977,1256532.4527735314,1405010.4849999526,1743657.452407697,2213229.1041211584,2361061.825329137,2716610.4251442575,2872563.9779375065,3186100.2322972096,3511704.8413758506,4157171.85162507],\"yaxis\":\"y\",\"type\":\"scatter\"},{\"hovertemplate\":\"Silicon simulation1 standard\",\"legendgroup\":\"WasteEOL_silicon_Simulation1_standard_[Tonnes]\",\"line\":{\"color\":\"#EF553B\",\"dash\":\"solid\"},\"marker\":{\"symbol\":\"circle\"},\"mode\":\"lines\",\"name\":\"Silicon simulation1 standard\",\"orientation\":\"v\",\"showlegend\":true,\"x\":[1995,1996,1997,1998,1999,2000,2001,2002,2003,2004,2005,2006,2007,2008,2009,2010,2011,2012,2013,2014,2015,2016,2017,2018,2019,2020,2021,2022,2023,2024,2025,2026,2027,2028,2029,2030,2031,2032,2033,2034,2035,2036,2037,2038,2039,2040,2041,2042,2043,2044,2045,2046,2047,2048,2049,2050],\"xaxis\":\"x\",\"y\":[0.0,0.000281347586394847,0.006211051053573427,0.04041825706805923,0.154771475925033,0.4381013106245401,1.0219459093969059,2.0853430518246214,3.8586745192890435,6.626230637244985,87.75123949785942,147.6357363746501,148.65824691334393,150.59756417840788,154.10677324220825,160.1958426736891,170.35449143998244,248.9380564493925,330.46651222505113,441.9931138623218,476.8739193518373,529.1183059157862,604.3292418350576,708.5671803946352,847.7863762646602,1072.5085872816967,1340.9567458249921,1667.153919500676,2050.2270821682378,2517.9808678222025,2978.60794269056,3484.405723551457,3905.432693903325,4860.627900502132,5940.486803230069,7614.048866701316,8564.631260581617,11363.62321286206,12936.285387935672,18296.21098365564,26125.33008918196,28439.717878984186,39890.784723146324,43280.90890375969,47665.53889129077,59543.50462759355,65625.0252704128,73026.69616628965,90144.34178668799,114018.85109978677,120994.41103389306,138423.1615794773,145414.17370619797,160024.11329839044,174573.46081711777,202709.50375951597],\"yaxis\":\"y\",\"type\":\"scatter\"},{\"hovertemplate\":\"Module simulation1 standard\",\"legendgroup\":\"WasteEOL_Module_Simulation1_standard_[Tonnes]\",\"line\":{\"color\":\"#00cc96\",\"dash\":\"solid\"},\"marker\":{\"symbol\":\"circle\"},\"mode\":\"lines\",\"name\":\"Module simulation1 standard\",\"orientation\":\"v\",\"showlegend\":true,\"x\":[1995,1996,1997,1998,1999,2000,2001,2002,2003,2004,2005,2006,2007,2008,2009,2010,2011,2012,2013,2014,2015,2016,2017,2018,2019,2020,2021,2022,2023,2024,2025,2026,2027,2028,2029,2030,2031,2032,2033,2034,2035,2036,2037,2038,2039,2040,2041,2042,2043,2044,2045,2046,2047,2048,2049,2050],\"xaxis\":\"x\",\"y\":[0.0,0.0029021082657746037,0.06410628415026329,0.41775001030743186,1.6014830675134388,4.537009426321729,10.590349085189759,21.623030943300122,40.03516317690854,68.79837291937568,905.9830806286299,1535.0583127049226,1546.2736276305886,1567.703666813847,1606.8684168737068,1675.6843858375116,1792.2065835166534,2648.408703537477,3562.1631120018874,4840.882793534263,5297.258646330034,5990.686495723261,7003.8906607247645,8431.036434351485,10372.447946375178,13441.714946917928,17229.863270067537,21967.020945007644,27727.531750370392,34954.50366917552,42947.71030280227,52578.23915425189,60893.312274183634,79440.58420440282,101001.1953197504,134418.09495404008,153585.6117312142,209595.75925172295,241470.20442182344,348818.59449716815,506623.1597909877,554307.8181785283,787211.4265278619,857593.1995773524,948825.2449109124,1194593.0687390913,1322157.478043944,1478037.181166242,1833801.794194385,2327247.955220945,2482056.23636303,2855033.5867237346,3017978.151643704,3346124.3455955996,3686278.3021929683,4359881.355384586],\"yaxis\":\"y\",\"type\":\"scatter\"},{\"hovertemplate\":\"Glass simulation1 low quality\",\"legendgroup\":\"WasteEOL_glass_Simulation1_low_quality_[Tonnes]\",\"line\":{\"color\":\"#ab63fa\",\"dash\":\"solid\"},\"marker\":{\"symbol\":\"circle\"},\"mode\":\"lines\",\"name\":\"Glass simulation1 low quality\",\"orientation\":\"v\",\"showlegend\":true,\"x\":[1995,1996,1997,1998,1999,2000,2001,2002,2003,2004,2005,2006,2007,2008,2009,2010,2011,2012,2013,2014,2015,2016,2017,2018,2019,2020,2021,2022,2023,2024,2025,2026,2027,2028,2029,2030,2031,2032,2033,2034,2035,2036,2037,2038,2039,2040,2041,2042,2043,2044,2045,2046,2047,2048,2049,2050],\"xaxis\":\"x\",\"y\":[0.0,0.0026207606793797566,0.05789523309668987,0.3773317532393727,1.446711591588406,4.0989081156971885,9.568403175792852,19.537687891475496,36.176488657619494,62.1721422821307,100.75162101222107,155.7063053822269,231.47587003001775,333.40208001123585,468.23999922197794,1109.8163858134985,1621.8520920766714,2399.4706470880847,3231.6965997768366,4398.889679671942,5863.657698478895,7802.781575521589,10608.061506898048,14410.577697663555,20042.944205466134,25611.137584727847,31621.11392231874,48527.55702515417,65271.427807624816,89041.83948856617,128285.49469379976,220806.20437292272,376893.16415462666,578873.1918345946,765154.020684886,1089339.346427674,1676745.2264545902,2124527.1450944263,2539020.671879062,3017525.147436307,3671943.588240422,4387156.964935927,5066864.208504028,5734207.494884026,6465412.007073909,7249270.928656636,8090891.51252687,9009736.267572576,10013144.433564695,11109461.012854028,12290681.737751862,13564004.00661243,14943456.274789577,16438460.958717339,18059236.312149275,19816871.89753381],\"yaxis\":\"y\",\"type\":\"scatter\"},{\"hovertemplate\":\"Silicon simulation1 low quality\",\"legendgroup\":\"WasteEOL_silicon_Simulation1_low_quality_[Tonnes]\",\"line\":{\"color\":\"#FFA15A\",\"dash\":\"solid\"},\"marker\":{\"symbol\":\"circle\"},\"mode\":\"lines\",\"name\":\"Silicon simulation1 low quality\",\"orientation\":\"v\",\"showlegend\":true,\"x\":[1995,1996,1997,1998,1999,2000,2001,2002,2003,2004,2005,2006,2007,2008,2009,2010,2011,2012,2013,2014,2015,2016,2017,2018,2019,2020,2021,2022,2023,2024,2025,2026,2027,2028,2029,2030,2031,2032,2033,2034,2035,2036,2037,2038,2039,2040,2041,2042,2043,2044,2045,2046,2047,2048,2049,2050],\"xaxis\":\"x\",\"y\":[0.0,0.000281347586394847,0.006211051053573427,0.04041825706805923,0.154771475925033,0.4381013106245401,1.0219459093969059,2.0853430518246214,3.8586745192890435,6.626230637244985,10.727293814970484,16.556469807062083,24.567698770440472,35.29062051928733,49.3656406592082,117.49948190053928,170.35449143998244,248.9380564493925,330.46651222505113,441.9931138623218,577.8925416468745,752.916739116339,1000.4345412482087,1327.47219251407,1801.8872365856696,2195.1985297658616,2544.3431212076457,3488.1599666346783,4376.103716090857,5636.558951500056,7717.4252069035865,12623.760833476803,20820.311722733313,31323.305674092826,40856.002478469716,57579.544163393904,88128.23815827753,111046.83394006328,131688.0155175223,154316.3175586306,183508.34559970384,213835.90744552496,241301.4044469705,267133.59509724926,294259.36292432045,322982.51034898125,353441.99809724645,385836.1030155459,420298.4524428862,456981.5092882625,496408.8391390919,538806.5627756495,584738.0896689419,634517.1573681571,688484.0023627419,747007.873047574],\"yaxis\":\"y\",\"type\":\"scatter\"},{\"hovertemplate\":\"Module simulation1 low quality\",\"legendgroup\":\"WasteEOL_Module_Simulation1_low_quality_[Tonnes]\",\"line\":{\"color\":\"#19d3f3\",\"dash\":\"solid\"},\"marker\":{\"symbol\":\"circle\"},\"mode\":\"lines\",\"name\":\"Module simulation1 low quality\",\"orientation\":\"v\",\"showlegend\":true,\"x\":[1995,1996,1997,1998,1999,2000,2001,2002,2003,2004,2005,2006,2007,2008,2009,2010,2011,2012,2013,2014,2015,2016,2017,2018,2019,2020,2021,2022,2023,2024,2025,2026,2027,2028,2029,2030,2031,2032,2033,2034,2035,2036,2037,2038,2039,2040,2041,2042,2043,2044,2045,2046,2047,2048,2049,2050],\"xaxis\":\"x\",\"y\":[0.0,0.0029021082657746037,0.06410628415026329,0.41775001030743186,1.6014830675134388,4.537009426321729,10.590349085189759,21.623030943300122,40.03516317690854,68.79837291937568,111.47891482719155,172.26277518928896,256.04356880045816,368.6927005305231,517.6056398811861,1227.3158677140377,1792.2065835166536,2648.408703537477,3562.1631120018874,4840.882793534263,6441.550240125769,8555.698314637926,11608.496048146255,15738.049890177625,21844.831442051804,27806.336114493708,34165.45704352639,52015.71699178885,69647.53152371568,94678.39844006623,136002.91990070336,233429.96520639953,397713.47587736,610196.4975086874,806010.0231633558,1146918.890591068,1764873.464612868,2235573.97903449,2670708.6873965845,3171841.464994938,3855451.9338401263,4600992.8723814525,5308165.612950999,6001341.089981277,6759671.369998231,7572253.439005618,8444333.510624116,9395572.370588124,10433442.88600758,11566442.522142291,12787090.576890955,14102810.569388079,15528194.36445852,17072978.116085496,18747720.314512018,20563879.770581387],\"yaxis\":\"y\",\"type\":\"scatter\"}],                        {\"template\":{\"data\":{\"barpolar\":[{\"marker\":{\"line\":{\"color\":\"white\",\"width\":0.5},\"pattern\":{\"fillmode\":\"overlay\",\"size\":10,\"solidity\":0.2}},\"type\":\"barpolar\"}],\"bar\":[{\"error_x\":{\"color\":\"#2a3f5f\"},\"error_y\":{\"color\":\"#2a3f5f\"},\"marker\":{\"line\":{\"color\":\"white\",\"width\":0.5},\"pattern\":{\"fillmode\":\"overlay\",\"size\":10,\"solidity\":0.2}},\"type\":\"bar\"}],\"carpet\":[{\"aaxis\":{\"endlinecolor\":\"#2a3f5f\",\"gridcolor\":\"#C8D4E3\",\"linecolor\":\"#C8D4E3\",\"minorgridcolor\":\"#C8D4E3\",\"startlinecolor\":\"#2a3f5f\"},\"baxis\":{\"endlinecolor\":\"#2a3f5f\",\"gridcolor\":\"#C8D4E3\",\"linecolor\":\"#C8D4E3\",\"minorgridcolor\":\"#C8D4E3\",\"startlinecolor\":\"#2a3f5f\"},\"type\":\"carpet\"}],\"choropleth\":[{\"colorbar\":{\"outlinewidth\":0,\"ticks\":\"\"},\"type\":\"choropleth\"}],\"contourcarpet\":[{\"colorbar\":{\"outlinewidth\":0,\"ticks\":\"\"},\"type\":\"contourcarpet\"}],\"contour\":[{\"colorbar\":{\"outlinewidth\":0,\"ticks\":\"\"},\"colorscale\":[[0.0,\"#0d0887\"],[0.1111111111111111,\"#46039f\"],[0.2222222222222222,\"#7201a8\"],[0.3333333333333333,\"#9c179e\"],[0.4444444444444444,\"#bd3786\"],[0.5555555555555556,\"#d8576b\"],[0.6666666666666666,\"#ed7953\"],[0.7777777777777778,\"#fb9f3a\"],[0.8888888888888888,\"#fdca26\"],[1.0,\"#f0f921\"]],\"type\":\"contour\"}],\"heatmapgl\":[{\"colorbar\":{\"outlinewidth\":0,\"ticks\":\"\"},\"colorscale\":[[0.0,\"#0d0887\"],[0.1111111111111111,\"#46039f\"],[0.2222222222222222,\"#7201a8\"],[0.3333333333333333,\"#9c179e\"],[0.4444444444444444,\"#bd3786\"],[0.5555555555555556,\"#d8576b\"],[0.6666666666666666,\"#ed7953\"],[0.7777777777777778,\"#fb9f3a\"],[0.8888888888888888,\"#fdca26\"],[1.0,\"#f0f921\"]],\"type\":\"heatmapgl\"}],\"heatmap\":[{\"colorbar\":{\"outlinewidth\":0,\"ticks\":\"\"},\"colorscale\":[[0.0,\"#0d0887\"],[0.1111111111111111,\"#46039f\"],[0.2222222222222222,\"#7201a8\"],[0.3333333333333333,\"#9c179e\"],[0.4444444444444444,\"#bd3786\"],[0.5555555555555556,\"#d8576b\"],[0.6666666666666666,\"#ed7953\"],[0.7777777777777778,\"#fb9f3a\"],[0.8888888888888888,\"#fdca26\"],[1.0,\"#f0f921\"]],\"type\":\"heatmap\"}],\"histogram2dcontour\":[{\"colorbar\":{\"outlinewidth\":0,\"ticks\":\"\"},\"colorscale\":[[0.0,\"#0d0887\"],[0.1111111111111111,\"#46039f\"],[0.2222222222222222,\"#7201a8\"],[0.3333333333333333,\"#9c179e\"],[0.4444444444444444,\"#bd3786\"],[0.5555555555555556,\"#d8576b\"],[0.6666666666666666,\"#ed7953\"],[0.7777777777777778,\"#fb9f3a\"],[0.8888888888888888,\"#fdca26\"],[1.0,\"#f0f921\"]],\"type\":\"histogram2dcontour\"}],\"histogram2d\":[{\"colorbar\":{\"outlinewidth\":0,\"ticks\":\"\"},\"colorscale\":[[0.0,\"#0d0887\"],[0.1111111111111111,\"#46039f\"],[0.2222222222222222,\"#7201a8\"],[0.3333333333333333,\"#9c179e\"],[0.4444444444444444,\"#bd3786\"],[0.5555555555555556,\"#d8576b\"],[0.6666666666666666,\"#ed7953\"],[0.7777777777777778,\"#fb9f3a\"],[0.8888888888888888,\"#fdca26\"],[1.0,\"#f0f921\"]],\"type\":\"histogram2d\"}],\"histogram\":[{\"marker\":{\"pattern\":{\"fillmode\":\"overlay\",\"size\":10,\"solidity\":0.2}},\"type\":\"histogram\"}],\"mesh3d\":[{\"colorbar\":{\"outlinewidth\":0,\"ticks\":\"\"},\"type\":\"mesh3d\"}],\"parcoords\":[{\"line\":{\"colorbar\":{\"outlinewidth\":0,\"ticks\":\"\"}},\"type\":\"parcoords\"}],\"pie\":[{\"automargin\":true,\"type\":\"pie\"}],\"scatter3d\":[{\"line\":{\"colorbar\":{\"outlinewidth\":0,\"ticks\":\"\"}},\"marker\":{\"colorbar\":{\"outlinewidth\":0,\"ticks\":\"\"}},\"type\":\"scatter3d\"}],\"scattercarpet\":[{\"marker\":{\"colorbar\":{\"outlinewidth\":0,\"ticks\":\"\"}},\"type\":\"scattercarpet\"}],\"scattergeo\":[{\"marker\":{\"colorbar\":{\"outlinewidth\":0,\"ticks\":\"\"}},\"type\":\"scattergeo\"}],\"scattergl\":[{\"marker\":{\"colorbar\":{\"outlinewidth\":0,\"ticks\":\"\"}},\"type\":\"scattergl\"}],\"scattermapbox\":[{\"marker\":{\"colorbar\":{\"outlinewidth\":0,\"ticks\":\"\"}},\"type\":\"scattermapbox\"}],\"scatterpolargl\":[{\"marker\":{\"colorbar\":{\"outlinewidth\":0,\"ticks\":\"\"}},\"type\":\"scatterpolargl\"}],\"scatterpolar\":[{\"marker\":{\"colorbar\":{\"outlinewidth\":0,\"ticks\":\"\"}},\"type\":\"scatterpolar\"}],\"scatter\":[{\"fillpattern\":{\"fillmode\":\"overlay\",\"size\":10,\"solidity\":0.2},\"type\":\"scatter\"}],\"scatterternary\":[{\"marker\":{\"colorbar\":{\"outlinewidth\":0,\"ticks\":\"\"}},\"type\":\"scatterternary\"}],\"surface\":[{\"colorbar\":{\"outlinewidth\":0,\"ticks\":\"\"},\"colorscale\":[[0.0,\"#0d0887\"],[0.1111111111111111,\"#46039f\"],[0.2222222222222222,\"#7201a8\"],[0.3333333333333333,\"#9c179e\"],[0.4444444444444444,\"#bd3786\"],[0.5555555555555556,\"#d8576b\"],[0.6666666666666666,\"#ed7953\"],[0.7777777777777778,\"#fb9f3a\"],[0.8888888888888888,\"#fdca26\"],[1.0,\"#f0f921\"]],\"type\":\"surface\"}],\"table\":[{\"cells\":{\"fill\":{\"color\":\"#EBF0F8\"},\"line\":{\"color\":\"white\"}},\"header\":{\"fill\":{\"color\":\"#C8D4E3\"},\"line\":{\"color\":\"white\"}},\"type\":\"table\"}]},\"layout\":{\"annotationdefaults\":{\"arrowcolor\":\"#2a3f5f\",\"arrowhead\":0,\"arrowwidth\":1},\"autotypenumbers\":\"strict\",\"coloraxis\":{\"colorbar\":{\"outlinewidth\":0,\"ticks\":\"\"}},\"colorscale\":{\"diverging\":[[0,\"#8e0152\"],[0.1,\"#c51b7d\"],[0.2,\"#de77ae\"],[0.3,\"#f1b6da\"],[0.4,\"#fde0ef\"],[0.5,\"#f7f7f7\"],[0.6,\"#e6f5d0\"],[0.7,\"#b8e186\"],[0.8,\"#7fbc41\"],[0.9,\"#4d9221\"],[1,\"#276419\"]],\"sequential\":[[0.0,\"#0d0887\"],[0.1111111111111111,\"#46039f\"],[0.2222222222222222,\"#7201a8\"],[0.3333333333333333,\"#9c179e\"],[0.4444444444444444,\"#bd3786\"],[0.5555555555555556,\"#d8576b\"],[0.6666666666666666,\"#ed7953\"],[0.7777777777777778,\"#fb9f3a\"],[0.8888888888888888,\"#fdca26\"],[1.0,\"#f0f921\"]],\"sequentialminus\":[[0.0,\"#0d0887\"],[0.1111111111111111,\"#46039f\"],[0.2222222222222222,\"#7201a8\"],[0.3333333333333333,\"#9c179e\"],[0.4444444444444444,\"#bd3786\"],[0.5555555555555556,\"#d8576b\"],[0.6666666666666666,\"#ed7953\"],[0.7777777777777778,\"#fb9f3a\"],[0.8888888888888888,\"#fdca26\"],[1.0,\"#f0f921\"]]},\"colorway\":[\"#636efa\",\"#EF553B\",\"#00cc96\",\"#ab63fa\",\"#FFA15A\",\"#19d3f3\",\"#FF6692\",\"#B6E880\",\"#FF97FF\",\"#FECB52\"],\"font\":{\"color\":\"#2a3f5f\"},\"geo\":{\"bgcolor\":\"white\",\"lakecolor\":\"white\",\"landcolor\":\"white\",\"showlakes\":true,\"showland\":true,\"subunitcolor\":\"#C8D4E3\"},\"hoverlabel\":{\"align\":\"left\"},\"hovermode\":\"closest\",\"mapbox\":{\"style\":\"light\"},\"paper_bgcolor\":\"white\",\"plot_bgcolor\":\"white\",\"polar\":{\"angularaxis\":{\"gridcolor\":\"#EBF0F8\",\"linecolor\":\"#EBF0F8\",\"ticks\":\"\"},\"bgcolor\":\"white\",\"radialaxis\":{\"gridcolor\":\"#EBF0F8\",\"linecolor\":\"#EBF0F8\",\"ticks\":\"\"}},\"scene\":{\"xaxis\":{\"backgroundcolor\":\"white\",\"gridcolor\":\"#DFE8F3\",\"gridwidth\":2,\"linecolor\":\"#EBF0F8\",\"showbackground\":true,\"ticks\":\"\",\"zerolinecolor\":\"#EBF0F8\"},\"yaxis\":{\"backgroundcolor\":\"white\",\"gridcolor\":\"#DFE8F3\",\"gridwidth\":2,\"linecolor\":\"#EBF0F8\",\"showbackground\":true,\"ticks\":\"\",\"zerolinecolor\":\"#EBF0F8\"},\"zaxis\":{\"backgroundcolor\":\"white\",\"gridcolor\":\"#DFE8F3\",\"gridwidth\":2,\"linecolor\":\"#EBF0F8\",\"showbackground\":true,\"ticks\":\"\",\"zerolinecolor\":\"#EBF0F8\"}},\"shapedefaults\":{\"line\":{\"color\":\"#2a3f5f\"}},\"ternary\":{\"aaxis\":{\"gridcolor\":\"#DFE8F3\",\"linecolor\":\"#A2B1C6\",\"ticks\":\"\"},\"baxis\":{\"gridcolor\":\"#DFE8F3\",\"linecolor\":\"#A2B1C6\",\"ticks\":\"\"},\"bgcolor\":\"white\",\"caxis\":{\"gridcolor\":\"#DFE8F3\",\"linecolor\":\"#A2B1C6\",\"ticks\":\"\"}},\"title\":{\"x\":0.05},\"xaxis\":{\"automargin\":true,\"gridcolor\":\"#EBF0F8\",\"linecolor\":\"#EBF0F8\",\"ticks\":\"\",\"title\":{\"standoff\":15},\"zerolinecolor\":\"#EBF0F8\",\"zerolinewidth\":2},\"yaxis\":{\"automargin\":true,\"gridcolor\":\"#EBF0F8\",\"linecolor\":\"#EBF0F8\",\"ticks\":\"\",\"title\":{\"standoff\":15},\"zerolinecolor\":\"#EBF0F8\",\"zerolinewidth\":2}}},\"xaxis\":{\"anchor\":\"y\",\"domain\":[0.0,1.0],\"title\":{\"text\":\"Year\"}},\"yaxis\":{\"anchor\":\"x\",\"domain\":[0.0,1.0],\"title\":{\"text\":\"[Tonnes]\"}},\"legend\":{\"title\":{\"text\":\"variable\"},\"tracegroupgap\":0},\"margin\":{\"t\":60},\"title\":{\"text\":\"Cumulative Waste E O L\"}},                        {\"responsive\": true}                    ).then(function(){\n",
       "                            \n",
       "var gd = document.getElementById('1cda96e4-884d-4bb5-8d45-39a7d60a58cd');\n",
       "var x = new MutationObserver(function (mutations, observer) {{\n",
       "        var display = window.getComputedStyle(gd).display;\n",
       "        if (!display || display === 'none') {{\n",
       "            console.log([gd, 'removed!']);\n",
       "            Plotly.purge(gd);\n",
       "            observer.disconnect();\n",
       "        }}\n",
       "}});\n",
       "\n",
       "// Listen for the removal of the full notebook cells\n",
       "var notebookContainer = gd.closest('#notebook-container');\n",
       "if (notebookContainer) {{\n",
       "    x.observe(notebookContainer, {childList: true});\n",
       "}}\n",
       "\n",
       "// Listen for the clearing of the current output cell\n",
       "var outputEl = gd.closest('.output');\n",
       "if (outputEl) {{\n",
       "    x.observe(outputEl, {childList: true});\n",
       "}}\n",
       "\n",
       "                        })                };                });            </script>        </div>"
      ]
     },
     "metadata": {},
     "output_type": "display_data"
    },
    {
     "data": {
      "application/vnd.plotly.v1+json": {
       "config": {
        "plotlyServerURL": "https://plot.ly"
       },
       "data": [
        {
         "hovertemplate": "Glass simulation1 standard",
         "legendgroup": "WasteMFG_glass_Simulation1_standard_[Tonnes]",
         "line": {
          "color": "#636efa",
          "dash": "solid"
         },
         "marker": {
          "symbol": "circle"
         },
         "mode": "lines",
         "name": "Glass simulation1 standard",
         "orientation": "v",
         "showlegend": true,
         "type": "scatter",
         "x": [
          1995,
          1996,
          1997,
          1998,
          1999,
          2000,
          2001,
          2002,
          2003,
          2004,
          2005,
          2006,
          2007,
          2008,
          2009,
          2010,
          2011,
          2012,
          2013,
          2014,
          2015,
          2016,
          2017,
          2018,
          2019,
          2020,
          2021,
          2022,
          2023,
          2024,
          2025,
          2026,
          2027,
          2028,
          2029,
          2030,
          2031,
          2032,
          2033,
          2034,
          2035,
          2036,
          2037,
          2038,
          2039,
          2040,
          2041,
          2042,
          2043,
          2044,
          2045,
          2046,
          2047,
          2048,
          2049,
          2050
         ],
         "xaxis": "x",
         "y": [
          35.574650912996724,
          62.65527034777944,
          94.75531638123043,
          126.84604857158375,
          172.2135804875627,
          227.687415178911,
          300.89010678186787,
          411.0084861488832,
          564.5290934949003,
          805.8729590679637,
          1049.7418367981206,
          1295.5984563526843,
          2100.3287011136563,
          2874.5123966470874,
          3926.893876754013,
          5668.949290310646,
          9865.761720394366,
          17014.889546512586,
          26171.355773352734,
          34335.867679203766,
          47925.18586023559,
          71830.17256498858,
          89436.3806907386,
          104898.01032977908,
          122132.46174942216,
          144735.33070674058,
          168004.91123705587,
          189214.76124851572,
          208714.08966485484,
          229118.6154193456,
          249967.58503168562,
          270710.59344957734,
          292153.80011841684,
          314273.5150875924,
          336326.54111635545,
          358576.0682310167,
          382560.4240240122,
          408543.84925762436,
          436703.82499305403,
          467232.82271887787,
          500339.72593331727,
          536251.3509744563,
          575214.0832878151,
          617495.6443453516,
          663387.0042397715,
          713204.4552842752,
          767291.8624019248,
          826023.1073652124,
          889804.7449262901,
          959078.8900706456,
          1034326.3575479025,
          1116070.0761772082,
          1204878.8028436874,
          1301371.1620547231,
          1406220.041442203,
          1520157.373066678
         ],
         "yaxis": "y"
        },
        {
         "hovertemplate": "Silicon simulation1 standard",
         "legendgroup": "WasteMFG_silicon_Simulation1_standard_[Tonnes]",
         "line": {
          "color": "#EF553B",
          "dash": "solid"
         },
         "marker": {
          "symbol": "circle"
         },
         "mode": "lines",
         "name": "Silicon simulation1 standard",
         "orientation": "v",
         "showlegend": true,
         "type": "scatter",
         "x": [
          1995,
          1996,
          1997,
          1998,
          1999,
          2000,
          2001,
          2002,
          2003,
          2004,
          2005,
          2006,
          2007,
          2008,
          2009,
          2010,
          2011,
          2012,
          2013,
          2014,
          2015,
          2016,
          2017,
          2018,
          2019,
          2020,
          2021,
          2022,
          2023,
          2024,
          2025,
          2026,
          2027,
          2028,
          2029,
          2030,
          2031,
          2032,
          2033,
          2034,
          2035,
          2036,
          2037,
          2038,
          2039,
          2040,
          2041,
          2042,
          2043,
          2044,
          2045,
          2046,
          2047,
          2048,
          2049,
          2050
         ],
         "xaxis": "x",
         "y": [
          86.0349348911383,
          150.24344749194486,
          224.8308951997236,
          297.8749501785712,
          398.9879563437435,
          519.9948272664296,
          676.202936240387,
          905.9640346668,
          1219.0035385275996,
          1623.6327766874872,
          2087.787430764948,
          2611.468086905623,
          4339.429774535292,
          6015.140296741132,
          8256.022242238503,
          10010.510776838493,
          14183.482699985683,
          21510.48990319226,
          30346.315997519734,
          38275.894111980415,
          52014.786926461355,
          74514.37661792075,
          87864.26610185514,
          97961.79958351592,
          108388.86499886861,
          120868.35129163173,
          134142.90587797243,
          146473.8018507417,
          157394.67980749445,
          167989.1451752471,
          178913.90143471718,
          190258.8692273331,
          202132.38717609041,
          214497.57652861354,
          227376.85898128827,
          240916.74809823823,
          255476.71126996324,
          271250.2312152914,
          288345.04973629856,
          306878.00873649336,
          326975.9132077436,
          348776.45446674555,
          372429.2034689914,
          398096.68343610235,
          425955.53091693675,
          456197.75458879455,
          489032.1013806754,
          524685.5402754052,
          563404.8747422835,
          605458.4954757248,
          651138.2862814632,
          700761.6967676484,
          754673.9969666535,
          813250.7295915022,
          876900.3783731537,
          946067.2706030235
         ],
         "yaxis": "y"
        },
        {
         "hovertemplate": "Module simulation1 standard",
         "legendgroup": "WasteMFG_Module_Simulation1_standard_[Tonnes]",
         "line": {
          "color": "#00cc96",
          "dash": "solid"
         },
         "marker": {
          "symbol": "circle"
         },
         "mode": "lines",
         "name": "Module simulation1 standard",
         "orientation": "v",
         "showlegend": true,
         "type": "scatter",
         "x": [
          1995,
          1996,
          1997,
          1998,
          1999,
          2000,
          2001,
          2002,
          2003,
          2004,
          2005,
          2006,
          2007,
          2008,
          2009,
          2010,
          2011,
          2012,
          2013,
          2014,
          2015,
          2016,
          2017,
          2018,
          2019,
          2020,
          2021,
          2022,
          2023,
          2024,
          2025,
          2026,
          2027,
          2028,
          2029,
          2030,
          2031,
          2032,
          2033,
          2034,
          2035,
          2036,
          2037,
          2038,
          2039,
          2040,
          2041,
          2042,
          2043,
          2044,
          2045,
          2046,
          2047,
          2048,
          2049,
          2050
         ],
         "xaxis": "x",
         "y": [
          121.60958580413502,
          212.8987178397243,
          319.586211580954,
          424.7209987501549,
          571.2015368313062,
          747.6822424453406,
          977.0930430222548,
          1316.972520815683,
          1783.5326320224997,
          2429.5057357554506,
          3137.529267563068,
          3907.0665432583064,
          6439.758475648948,
          8889.65269338822,
          12182.916118992516,
          15679.460067149139,
          24049.244420380048,
          38525.379449704844,
          56517.67177087246,
          72611.76179118417,
          99939.97278669693,
          146344.5491829093,
          177300.64679259373,
          202859.80991329497,
          230521.32674829074,
          265603.6819983723,
          302147.8171150283,
          335688.5630992574,
          366108.7694723493,
          397107.7605945927,
          428881.4864664028,
          460969.4626769105,
          494286.18729450734,
          528771.091616206,
          563703.4000976437,
          599492.8163292549,
          638037.1352939754,
          679794.0804729158,
          725048.8747293527,
          774110.8314553712,
          827315.6391410609,
          885027.8054412019,
          947643.2867568065,
          1015592.3277814541,
          1089342.5351567084,
          1169402.20987307,
          1256323.9637826004,
          1350708.6476406178,
          1453209.6196685738,
          1564537.3855463706,
          1685464.643829366,
          1816831.772944857,
          1959552.799810341,
          2114621.8916462255,
          2283120.419815357,
          2466224.643669701
         ],
         "yaxis": "y"
        },
        {
         "hovertemplate": "Glass simulation1 low quality",
         "legendgroup": "WasteMFG_glass_Simulation1_low_quality_[Tonnes]",
         "line": {
          "color": "#ab63fa",
          "dash": "solid"
         },
         "marker": {
          "symbol": "circle"
         },
         "mode": "lines",
         "name": "Glass simulation1 low quality",
         "orientation": "v",
         "showlegend": true,
         "type": "scatter",
         "x": [
          1995,
          1996,
          1997,
          1998,
          1999,
          2000,
          2001,
          2002,
          2003,
          2004,
          2005,
          2006,
          2007,
          2008,
          2009,
          2010,
          2011,
          2012,
          2013,
          2014,
          2015,
          2016,
          2017,
          2018,
          2019,
          2020,
          2021,
          2022,
          2023,
          2024,
          2025,
          2026,
          2027,
          2028,
          2029,
          2030,
          2031,
          2032,
          2033,
          2034,
          2035,
          2036,
          2037,
          2038,
          2039,
          2040,
          2041,
          2042,
          2043,
          2044,
          2045,
          2046,
          2047,
          2048,
          2049,
          2050
         ],
         "xaxis": "x",
         "y": [
          35.574650912996724,
          62.65527034777944,
          94.75531638123043,
          126.84604857158375,
          172.2135804875627,
          227.687415178911,
          300.89010678186787,
          411.0084861488832,
          564.5290934949003,
          805.8729590679637,
          1049.7418367981206,
          1295.5984563526843,
          2100.3287011136563,
          2874.5123966470874,
          3926.893876754013,
          5668.949290310646,
          9865.761720394366,
          17014.889546512586,
          26171.355773352734,
          34335.867679203766,
          47925.18586023559,
          71830.17256498858,
          89436.3806907386,
          104898.01032977908,
          122132.46174942216,
          144735.33070674058,
          168004.91123705587,
          189214.76124851572,
          208714.08966485484,
          229118.6154193456,
          249967.58503168562,
          270710.59344957734,
          292153.80011841684,
          314273.5150875924,
          336326.54111635545,
          358576.0682310167,
          382560.4240240122,
          408543.84925762436,
          436703.82499305403,
          467232.82271887787,
          500339.72593331727,
          536251.3509744563,
          575214.0832878151,
          617495.6443453516,
          663387.0042397715,
          713204.4552842752,
          767291.8624019248,
          826023.1073652124,
          889804.7449262901,
          959078.8900706456,
          1034326.3575479025,
          1116070.0761772082,
          1204878.8028436874,
          1301371.1620547231,
          1406220.041442203,
          1520157.373066678
         ],
         "yaxis": "y"
        },
        {
         "hovertemplate": "Silicon simulation1 low quality",
         "legendgroup": "WasteMFG_silicon_Simulation1_low_quality_[Tonnes]",
         "line": {
          "color": "#FFA15A",
          "dash": "solid"
         },
         "marker": {
          "symbol": "circle"
         },
         "mode": "lines",
         "name": "Silicon simulation1 low quality",
         "orientation": "v",
         "showlegend": true,
         "type": "scatter",
         "x": [
          1995,
          1996,
          1997,
          1998,
          1999,
          2000,
          2001,
          2002,
          2003,
          2004,
          2005,
          2006,
          2007,
          2008,
          2009,
          2010,
          2011,
          2012,
          2013,
          2014,
          2015,
          2016,
          2017,
          2018,
          2019,
          2020,
          2021,
          2022,
          2023,
          2024,
          2025,
          2026,
          2027,
          2028,
          2029,
          2030,
          2031,
          2032,
          2033,
          2034,
          2035,
          2036,
          2037,
          2038,
          2039,
          2040,
          2041,
          2042,
          2043,
          2044,
          2045,
          2046,
          2047,
          2048,
          2049,
          2050
         ],
         "xaxis": "x",
         "y": [
          86.0349348911383,
          150.24344749194486,
          224.8308951997236,
          297.8749501785712,
          398.9879563437435,
          519.9948272664296,
          676.202936240387,
          905.9640346668,
          1219.0035385275996,
          1623.6327766874872,
          2087.787430764948,
          2611.468086905623,
          4339.429774535292,
          6015.140296741132,
          8256.022242238503,
          10010.510776838493,
          14183.482699985683,
          21510.48990319226,
          30346.315997519734,
          38275.894111980415,
          52014.786926461355,
          74514.37661792075,
          87864.26610185514,
          97961.79958351592,
          108388.86499886861,
          120868.35129163173,
          134142.90587797243,
          146473.8018507417,
          157394.67980749445,
          167989.1451752471,
          178913.90143471718,
          190258.8692273331,
          202132.38717609041,
          214497.57652861354,
          227376.85898128827,
          240916.74809823823,
          255476.71126996324,
          271250.2312152914,
          288345.04973629856,
          306878.00873649336,
          326975.9132077436,
          348776.45446674555,
          372429.2034689914,
          398096.68343610235,
          425955.53091693675,
          456197.75458879455,
          489032.1013806754,
          524685.5402754052,
          563404.8747422835,
          605458.4954757248,
          651138.2862814632,
          700761.6967676484,
          754673.9969666535,
          813250.7295915022,
          876900.3783731537,
          946067.2706030235
         ],
         "yaxis": "y"
        },
        {
         "hovertemplate": "Module simulation1 low quality",
         "legendgroup": "WasteMFG_Module_Simulation1_low_quality_[Tonnes]",
         "line": {
          "color": "#19d3f3",
          "dash": "solid"
         },
         "marker": {
          "symbol": "circle"
         },
         "mode": "lines",
         "name": "Module simulation1 low quality",
         "orientation": "v",
         "showlegend": true,
         "type": "scatter",
         "x": [
          1995,
          1996,
          1997,
          1998,
          1999,
          2000,
          2001,
          2002,
          2003,
          2004,
          2005,
          2006,
          2007,
          2008,
          2009,
          2010,
          2011,
          2012,
          2013,
          2014,
          2015,
          2016,
          2017,
          2018,
          2019,
          2020,
          2021,
          2022,
          2023,
          2024,
          2025,
          2026,
          2027,
          2028,
          2029,
          2030,
          2031,
          2032,
          2033,
          2034,
          2035,
          2036,
          2037,
          2038,
          2039,
          2040,
          2041,
          2042,
          2043,
          2044,
          2045,
          2046,
          2047,
          2048,
          2049,
          2050
         ],
         "xaxis": "x",
         "y": [
          121.60958580413502,
          212.8987178397243,
          319.586211580954,
          424.7209987501549,
          571.2015368313062,
          747.6822424453406,
          977.0930430222548,
          1316.972520815683,
          1783.5326320224997,
          2429.5057357554506,
          3137.529267563068,
          3907.0665432583064,
          6439.758475648948,
          8889.65269338822,
          12182.916118992516,
          15679.460067149139,
          24049.244420380048,
          38525.379449704844,
          56517.67177087246,
          72611.76179118417,
          99939.97278669693,
          146344.5491829093,
          177300.64679259373,
          202859.80991329497,
          230521.32674829074,
          265603.6819983723,
          302147.8171150283,
          335688.5630992574,
          366108.7694723493,
          397107.7605945927,
          428881.4864664028,
          460969.4626769105,
          494286.18729450734,
          528771.091616206,
          563703.4000976437,
          599492.8163292549,
          638037.1352939754,
          679794.0804729158,
          725048.8747293527,
          774110.8314553712,
          827315.6391410609,
          885027.8054412019,
          947643.2867568065,
          1015592.3277814541,
          1089342.5351567084,
          1169402.20987307,
          1256323.9637826004,
          1350708.6476406178,
          1453209.6196685738,
          1564537.3855463706,
          1685464.643829366,
          1816831.772944857,
          1959552.799810341,
          2114621.8916462255,
          2283120.419815357,
          2466224.643669701
         ],
         "yaxis": "y"
        }
       ],
       "layout": {
        "legend": {
         "title": {
          "text": "variable"
         },
         "tracegroupgap": 0
        },
        "margin": {
         "t": 60
        },
        "template": {
         "data": {
          "bar": [
           {
            "error_x": {
             "color": "#2a3f5f"
            },
            "error_y": {
             "color": "#2a3f5f"
            },
            "marker": {
             "line": {
              "color": "white",
              "width": 0.5
             },
             "pattern": {
              "fillmode": "overlay",
              "size": 10,
              "solidity": 0.2
             }
            },
            "type": "bar"
           }
          ],
          "barpolar": [
           {
            "marker": {
             "line": {
              "color": "white",
              "width": 0.5
             },
             "pattern": {
              "fillmode": "overlay",
              "size": 10,
              "solidity": 0.2
             }
            },
            "type": "barpolar"
           }
          ],
          "carpet": [
           {
            "aaxis": {
             "endlinecolor": "#2a3f5f",
             "gridcolor": "#C8D4E3",
             "linecolor": "#C8D4E3",
             "minorgridcolor": "#C8D4E3",
             "startlinecolor": "#2a3f5f"
            },
            "baxis": {
             "endlinecolor": "#2a3f5f",
             "gridcolor": "#C8D4E3",
             "linecolor": "#C8D4E3",
             "minorgridcolor": "#C8D4E3",
             "startlinecolor": "#2a3f5f"
            },
            "type": "carpet"
           }
          ],
          "choropleth": [
           {
            "colorbar": {
             "outlinewidth": 0,
             "ticks": ""
            },
            "type": "choropleth"
           }
          ],
          "contour": [
           {
            "colorbar": {
             "outlinewidth": 0,
             "ticks": ""
            },
            "colorscale": [
             [
              0,
              "#0d0887"
             ],
             [
              0.1111111111111111,
              "#46039f"
             ],
             [
              0.2222222222222222,
              "#7201a8"
             ],
             [
              0.3333333333333333,
              "#9c179e"
             ],
             [
              0.4444444444444444,
              "#bd3786"
             ],
             [
              0.5555555555555556,
              "#d8576b"
             ],
             [
              0.6666666666666666,
              "#ed7953"
             ],
             [
              0.7777777777777778,
              "#fb9f3a"
             ],
             [
              0.8888888888888888,
              "#fdca26"
             ],
             [
              1,
              "#f0f921"
             ]
            ],
            "type": "contour"
           }
          ],
          "contourcarpet": [
           {
            "colorbar": {
             "outlinewidth": 0,
             "ticks": ""
            },
            "type": "contourcarpet"
           }
          ],
          "heatmap": [
           {
            "colorbar": {
             "outlinewidth": 0,
             "ticks": ""
            },
            "colorscale": [
             [
              0,
              "#0d0887"
             ],
             [
              0.1111111111111111,
              "#46039f"
             ],
             [
              0.2222222222222222,
              "#7201a8"
             ],
             [
              0.3333333333333333,
              "#9c179e"
             ],
             [
              0.4444444444444444,
              "#bd3786"
             ],
             [
              0.5555555555555556,
              "#d8576b"
             ],
             [
              0.6666666666666666,
              "#ed7953"
             ],
             [
              0.7777777777777778,
              "#fb9f3a"
             ],
             [
              0.8888888888888888,
              "#fdca26"
             ],
             [
              1,
              "#f0f921"
             ]
            ],
            "type": "heatmap"
           }
          ],
          "heatmapgl": [
           {
            "colorbar": {
             "outlinewidth": 0,
             "ticks": ""
            },
            "colorscale": [
             [
              0,
              "#0d0887"
             ],
             [
              0.1111111111111111,
              "#46039f"
             ],
             [
              0.2222222222222222,
              "#7201a8"
             ],
             [
              0.3333333333333333,
              "#9c179e"
             ],
             [
              0.4444444444444444,
              "#bd3786"
             ],
             [
              0.5555555555555556,
              "#d8576b"
             ],
             [
              0.6666666666666666,
              "#ed7953"
             ],
             [
              0.7777777777777778,
              "#fb9f3a"
             ],
             [
              0.8888888888888888,
              "#fdca26"
             ],
             [
              1,
              "#f0f921"
             ]
            ],
            "type": "heatmapgl"
           }
          ],
          "histogram": [
           {
            "marker": {
             "pattern": {
              "fillmode": "overlay",
              "size": 10,
              "solidity": 0.2
             }
            },
            "type": "histogram"
           }
          ],
          "histogram2d": [
           {
            "colorbar": {
             "outlinewidth": 0,
             "ticks": ""
            },
            "colorscale": [
             [
              0,
              "#0d0887"
             ],
             [
              0.1111111111111111,
              "#46039f"
             ],
             [
              0.2222222222222222,
              "#7201a8"
             ],
             [
              0.3333333333333333,
              "#9c179e"
             ],
             [
              0.4444444444444444,
              "#bd3786"
             ],
             [
              0.5555555555555556,
              "#d8576b"
             ],
             [
              0.6666666666666666,
              "#ed7953"
             ],
             [
              0.7777777777777778,
              "#fb9f3a"
             ],
             [
              0.8888888888888888,
              "#fdca26"
             ],
             [
              1,
              "#f0f921"
             ]
            ],
            "type": "histogram2d"
           }
          ],
          "histogram2dcontour": [
           {
            "colorbar": {
             "outlinewidth": 0,
             "ticks": ""
            },
            "colorscale": [
             [
              0,
              "#0d0887"
             ],
             [
              0.1111111111111111,
              "#46039f"
             ],
             [
              0.2222222222222222,
              "#7201a8"
             ],
             [
              0.3333333333333333,
              "#9c179e"
             ],
             [
              0.4444444444444444,
              "#bd3786"
             ],
             [
              0.5555555555555556,
              "#d8576b"
             ],
             [
              0.6666666666666666,
              "#ed7953"
             ],
             [
              0.7777777777777778,
              "#fb9f3a"
             ],
             [
              0.8888888888888888,
              "#fdca26"
             ],
             [
              1,
              "#f0f921"
             ]
            ],
            "type": "histogram2dcontour"
           }
          ],
          "mesh3d": [
           {
            "colorbar": {
             "outlinewidth": 0,
             "ticks": ""
            },
            "type": "mesh3d"
           }
          ],
          "parcoords": [
           {
            "line": {
             "colorbar": {
              "outlinewidth": 0,
              "ticks": ""
             }
            },
            "type": "parcoords"
           }
          ],
          "pie": [
           {
            "automargin": true,
            "type": "pie"
           }
          ],
          "scatter": [
           {
            "fillpattern": {
             "fillmode": "overlay",
             "size": 10,
             "solidity": 0.2
            },
            "type": "scatter"
           }
          ],
          "scatter3d": [
           {
            "line": {
             "colorbar": {
              "outlinewidth": 0,
              "ticks": ""
             }
            },
            "marker": {
             "colorbar": {
              "outlinewidth": 0,
              "ticks": ""
             }
            },
            "type": "scatter3d"
           }
          ],
          "scattercarpet": [
           {
            "marker": {
             "colorbar": {
              "outlinewidth": 0,
              "ticks": ""
             }
            },
            "type": "scattercarpet"
           }
          ],
          "scattergeo": [
           {
            "marker": {
             "colorbar": {
              "outlinewidth": 0,
              "ticks": ""
             }
            },
            "type": "scattergeo"
           }
          ],
          "scattergl": [
           {
            "marker": {
             "colorbar": {
              "outlinewidth": 0,
              "ticks": ""
             }
            },
            "type": "scattergl"
           }
          ],
          "scattermapbox": [
           {
            "marker": {
             "colorbar": {
              "outlinewidth": 0,
              "ticks": ""
             }
            },
            "type": "scattermapbox"
           }
          ],
          "scatterpolar": [
           {
            "marker": {
             "colorbar": {
              "outlinewidth": 0,
              "ticks": ""
             }
            },
            "type": "scatterpolar"
           }
          ],
          "scatterpolargl": [
           {
            "marker": {
             "colorbar": {
              "outlinewidth": 0,
              "ticks": ""
             }
            },
            "type": "scatterpolargl"
           }
          ],
          "scatterternary": [
           {
            "marker": {
             "colorbar": {
              "outlinewidth": 0,
              "ticks": ""
             }
            },
            "type": "scatterternary"
           }
          ],
          "surface": [
           {
            "colorbar": {
             "outlinewidth": 0,
             "ticks": ""
            },
            "colorscale": [
             [
              0,
              "#0d0887"
             ],
             [
              0.1111111111111111,
              "#46039f"
             ],
             [
              0.2222222222222222,
              "#7201a8"
             ],
             [
              0.3333333333333333,
              "#9c179e"
             ],
             [
              0.4444444444444444,
              "#bd3786"
             ],
             [
              0.5555555555555556,
              "#d8576b"
             ],
             [
              0.6666666666666666,
              "#ed7953"
             ],
             [
              0.7777777777777778,
              "#fb9f3a"
             ],
             [
              0.8888888888888888,
              "#fdca26"
             ],
             [
              1,
              "#f0f921"
             ]
            ],
            "type": "surface"
           }
          ],
          "table": [
           {
            "cells": {
             "fill": {
              "color": "#EBF0F8"
             },
             "line": {
              "color": "white"
             }
            },
            "header": {
             "fill": {
              "color": "#C8D4E3"
             },
             "line": {
              "color": "white"
             }
            },
            "type": "table"
           }
          ]
         },
         "layout": {
          "annotationdefaults": {
           "arrowcolor": "#2a3f5f",
           "arrowhead": 0,
           "arrowwidth": 1
          },
          "autotypenumbers": "strict",
          "coloraxis": {
           "colorbar": {
            "outlinewidth": 0,
            "ticks": ""
           }
          },
          "colorscale": {
           "diverging": [
            [
             0,
             "#8e0152"
            ],
            [
             0.1,
             "#c51b7d"
            ],
            [
             0.2,
             "#de77ae"
            ],
            [
             0.3,
             "#f1b6da"
            ],
            [
             0.4,
             "#fde0ef"
            ],
            [
             0.5,
             "#f7f7f7"
            ],
            [
             0.6,
             "#e6f5d0"
            ],
            [
             0.7,
             "#b8e186"
            ],
            [
             0.8,
             "#7fbc41"
            ],
            [
             0.9,
             "#4d9221"
            ],
            [
             1,
             "#276419"
            ]
           ],
           "sequential": [
            [
             0,
             "#0d0887"
            ],
            [
             0.1111111111111111,
             "#46039f"
            ],
            [
             0.2222222222222222,
             "#7201a8"
            ],
            [
             0.3333333333333333,
             "#9c179e"
            ],
            [
             0.4444444444444444,
             "#bd3786"
            ],
            [
             0.5555555555555556,
             "#d8576b"
            ],
            [
             0.6666666666666666,
             "#ed7953"
            ],
            [
             0.7777777777777778,
             "#fb9f3a"
            ],
            [
             0.8888888888888888,
             "#fdca26"
            ],
            [
             1,
             "#f0f921"
            ]
           ],
           "sequentialminus": [
            [
             0,
             "#0d0887"
            ],
            [
             0.1111111111111111,
             "#46039f"
            ],
            [
             0.2222222222222222,
             "#7201a8"
            ],
            [
             0.3333333333333333,
             "#9c179e"
            ],
            [
             0.4444444444444444,
             "#bd3786"
            ],
            [
             0.5555555555555556,
             "#d8576b"
            ],
            [
             0.6666666666666666,
             "#ed7953"
            ],
            [
             0.7777777777777778,
             "#fb9f3a"
            ],
            [
             0.8888888888888888,
             "#fdca26"
            ],
            [
             1,
             "#f0f921"
            ]
           ]
          },
          "colorway": [
           "#636efa",
           "#EF553B",
           "#00cc96",
           "#ab63fa",
           "#FFA15A",
           "#19d3f3",
           "#FF6692",
           "#B6E880",
           "#FF97FF",
           "#FECB52"
          ],
          "font": {
           "color": "#2a3f5f"
          },
          "geo": {
           "bgcolor": "white",
           "lakecolor": "white",
           "landcolor": "white",
           "showlakes": true,
           "showland": true,
           "subunitcolor": "#C8D4E3"
          },
          "hoverlabel": {
           "align": "left"
          },
          "hovermode": "closest",
          "mapbox": {
           "style": "light"
          },
          "paper_bgcolor": "white",
          "plot_bgcolor": "white",
          "polar": {
           "angularaxis": {
            "gridcolor": "#EBF0F8",
            "linecolor": "#EBF0F8",
            "ticks": ""
           },
           "bgcolor": "white",
           "radialaxis": {
            "gridcolor": "#EBF0F8",
            "linecolor": "#EBF0F8",
            "ticks": ""
           }
          },
          "scene": {
           "xaxis": {
            "backgroundcolor": "white",
            "gridcolor": "#DFE8F3",
            "gridwidth": 2,
            "linecolor": "#EBF0F8",
            "showbackground": true,
            "ticks": "",
            "zerolinecolor": "#EBF0F8"
           },
           "yaxis": {
            "backgroundcolor": "white",
            "gridcolor": "#DFE8F3",
            "gridwidth": 2,
            "linecolor": "#EBF0F8",
            "showbackground": true,
            "ticks": "",
            "zerolinecolor": "#EBF0F8"
           },
           "zaxis": {
            "backgroundcolor": "white",
            "gridcolor": "#DFE8F3",
            "gridwidth": 2,
            "linecolor": "#EBF0F8",
            "showbackground": true,
            "ticks": "",
            "zerolinecolor": "#EBF0F8"
           }
          },
          "shapedefaults": {
           "line": {
            "color": "#2a3f5f"
           }
          },
          "ternary": {
           "aaxis": {
            "gridcolor": "#DFE8F3",
            "linecolor": "#A2B1C6",
            "ticks": ""
           },
           "baxis": {
            "gridcolor": "#DFE8F3",
            "linecolor": "#A2B1C6",
            "ticks": ""
           },
           "bgcolor": "white",
           "caxis": {
            "gridcolor": "#DFE8F3",
            "linecolor": "#A2B1C6",
            "ticks": ""
           }
          },
          "title": {
           "x": 0.05
          },
          "xaxis": {
           "automargin": true,
           "gridcolor": "#EBF0F8",
           "linecolor": "#EBF0F8",
           "ticks": "",
           "title": {
            "standoff": 15
           },
           "zerolinecolor": "#EBF0F8",
           "zerolinewidth": 2
          },
          "yaxis": {
           "automargin": true,
           "gridcolor": "#EBF0F8",
           "linecolor": "#EBF0F8",
           "ticks": "",
           "title": {
            "standoff": 15
           },
           "zerolinecolor": "#EBF0F8",
           "zerolinewidth": 2
          }
         }
        },
        "title": {
         "text": "Cumulative Waste M F G"
        },
        "xaxis": {
         "anchor": "y",
         "domain": [
          0,
          1
         ],
         "title": {
          "text": "Year"
         }
        },
        "yaxis": {
         "anchor": "x",
         "domain": [
          0,
          1
         ],
         "title": {
          "text": "[Tonnes]"
         }
        }
       }
      },
      "text/html": [
       "<div>                            <div id=\"1b6ddd68-09d6-4e3e-a7f9-82ab3c586a6d\" class=\"plotly-graph-div\" style=\"height:525px; width:100%;\"></div>            <script type=\"text/javascript\">                require([\"plotly\"], function(Plotly) {                    window.PLOTLYENV=window.PLOTLYENV || {};                                    if (document.getElementById(\"1b6ddd68-09d6-4e3e-a7f9-82ab3c586a6d\")) {                    Plotly.newPlot(                        \"1b6ddd68-09d6-4e3e-a7f9-82ab3c586a6d\",                        [{\"hovertemplate\":\"Glass simulation1 standard\",\"legendgroup\":\"WasteMFG_glass_Simulation1_standard_[Tonnes]\",\"line\":{\"color\":\"#636efa\",\"dash\":\"solid\"},\"marker\":{\"symbol\":\"circle\"},\"mode\":\"lines\",\"name\":\"Glass simulation1 standard\",\"orientation\":\"v\",\"showlegend\":true,\"x\":[1995,1996,1997,1998,1999,2000,2001,2002,2003,2004,2005,2006,2007,2008,2009,2010,2011,2012,2013,2014,2015,2016,2017,2018,2019,2020,2021,2022,2023,2024,2025,2026,2027,2028,2029,2030,2031,2032,2033,2034,2035,2036,2037,2038,2039,2040,2041,2042,2043,2044,2045,2046,2047,2048,2049,2050],\"xaxis\":\"x\",\"y\":[35.574650912996724,62.65527034777944,94.75531638123043,126.84604857158375,172.2135804875627,227.687415178911,300.89010678186787,411.0084861488832,564.5290934949003,805.8729590679637,1049.7418367981206,1295.5984563526843,2100.3287011136563,2874.5123966470874,3926.893876754013,5668.949290310646,9865.761720394366,17014.889546512586,26171.355773352734,34335.867679203766,47925.18586023559,71830.17256498858,89436.3806907386,104898.01032977908,122132.46174942216,144735.33070674058,168004.91123705587,189214.76124851572,208714.08966485484,229118.6154193456,249967.58503168562,270710.59344957734,292153.80011841684,314273.5150875924,336326.54111635545,358576.0682310167,382560.4240240122,408543.84925762436,436703.82499305403,467232.82271887787,500339.72593331727,536251.3509744563,575214.0832878151,617495.6443453516,663387.0042397715,713204.4552842752,767291.8624019248,826023.1073652124,889804.7449262901,959078.8900706456,1034326.3575479025,1116070.0761772082,1204878.8028436874,1301371.1620547231,1406220.041442203,1520157.373066678],\"yaxis\":\"y\",\"type\":\"scatter\"},{\"hovertemplate\":\"Silicon simulation1 standard\",\"legendgroup\":\"WasteMFG_silicon_Simulation1_standard_[Tonnes]\",\"line\":{\"color\":\"#EF553B\",\"dash\":\"solid\"},\"marker\":{\"symbol\":\"circle\"},\"mode\":\"lines\",\"name\":\"Silicon simulation1 standard\",\"orientation\":\"v\",\"showlegend\":true,\"x\":[1995,1996,1997,1998,1999,2000,2001,2002,2003,2004,2005,2006,2007,2008,2009,2010,2011,2012,2013,2014,2015,2016,2017,2018,2019,2020,2021,2022,2023,2024,2025,2026,2027,2028,2029,2030,2031,2032,2033,2034,2035,2036,2037,2038,2039,2040,2041,2042,2043,2044,2045,2046,2047,2048,2049,2050],\"xaxis\":\"x\",\"y\":[86.0349348911383,150.24344749194486,224.8308951997236,297.8749501785712,398.9879563437435,519.9948272664296,676.202936240387,905.9640346668,1219.0035385275996,1623.6327766874872,2087.787430764948,2611.468086905623,4339.429774535292,6015.140296741132,8256.022242238503,10010.510776838493,14183.482699985683,21510.48990319226,30346.315997519734,38275.894111980415,52014.786926461355,74514.37661792075,87864.26610185514,97961.79958351592,108388.86499886861,120868.35129163173,134142.90587797243,146473.8018507417,157394.67980749445,167989.1451752471,178913.90143471718,190258.8692273331,202132.38717609041,214497.57652861354,227376.85898128827,240916.74809823823,255476.71126996324,271250.2312152914,288345.04973629856,306878.00873649336,326975.9132077436,348776.45446674555,372429.2034689914,398096.68343610235,425955.53091693675,456197.75458879455,489032.1013806754,524685.5402754052,563404.8747422835,605458.4954757248,651138.2862814632,700761.6967676484,754673.9969666535,813250.7295915022,876900.3783731537,946067.2706030235],\"yaxis\":\"y\",\"type\":\"scatter\"},{\"hovertemplate\":\"Module simulation1 standard\",\"legendgroup\":\"WasteMFG_Module_Simulation1_standard_[Tonnes]\",\"line\":{\"color\":\"#00cc96\",\"dash\":\"solid\"},\"marker\":{\"symbol\":\"circle\"},\"mode\":\"lines\",\"name\":\"Module simulation1 standard\",\"orientation\":\"v\",\"showlegend\":true,\"x\":[1995,1996,1997,1998,1999,2000,2001,2002,2003,2004,2005,2006,2007,2008,2009,2010,2011,2012,2013,2014,2015,2016,2017,2018,2019,2020,2021,2022,2023,2024,2025,2026,2027,2028,2029,2030,2031,2032,2033,2034,2035,2036,2037,2038,2039,2040,2041,2042,2043,2044,2045,2046,2047,2048,2049,2050],\"xaxis\":\"x\",\"y\":[121.60958580413502,212.8987178397243,319.586211580954,424.7209987501549,571.2015368313062,747.6822424453406,977.0930430222548,1316.972520815683,1783.5326320224997,2429.5057357554506,3137.529267563068,3907.0665432583064,6439.758475648948,8889.65269338822,12182.916118992516,15679.460067149139,24049.244420380048,38525.379449704844,56517.67177087246,72611.76179118417,99939.97278669693,146344.5491829093,177300.64679259373,202859.80991329497,230521.32674829074,265603.6819983723,302147.8171150283,335688.5630992574,366108.7694723493,397107.7605945927,428881.4864664028,460969.4626769105,494286.18729450734,528771.091616206,563703.4000976437,599492.8163292549,638037.1352939754,679794.0804729158,725048.8747293527,774110.8314553712,827315.6391410609,885027.8054412019,947643.2867568065,1015592.3277814541,1089342.5351567084,1169402.20987307,1256323.9637826004,1350708.6476406178,1453209.6196685738,1564537.3855463706,1685464.643829366,1816831.772944857,1959552.799810341,2114621.8916462255,2283120.419815357,2466224.643669701],\"yaxis\":\"y\",\"type\":\"scatter\"},{\"hovertemplate\":\"Glass simulation1 low quality\",\"legendgroup\":\"WasteMFG_glass_Simulation1_low_quality_[Tonnes]\",\"line\":{\"color\":\"#ab63fa\",\"dash\":\"solid\"},\"marker\":{\"symbol\":\"circle\"},\"mode\":\"lines\",\"name\":\"Glass simulation1 low quality\",\"orientation\":\"v\",\"showlegend\":true,\"x\":[1995,1996,1997,1998,1999,2000,2001,2002,2003,2004,2005,2006,2007,2008,2009,2010,2011,2012,2013,2014,2015,2016,2017,2018,2019,2020,2021,2022,2023,2024,2025,2026,2027,2028,2029,2030,2031,2032,2033,2034,2035,2036,2037,2038,2039,2040,2041,2042,2043,2044,2045,2046,2047,2048,2049,2050],\"xaxis\":\"x\",\"y\":[35.574650912996724,62.65527034777944,94.75531638123043,126.84604857158375,172.2135804875627,227.687415178911,300.89010678186787,411.0084861488832,564.5290934949003,805.8729590679637,1049.7418367981206,1295.5984563526843,2100.3287011136563,2874.5123966470874,3926.893876754013,5668.949290310646,9865.761720394366,17014.889546512586,26171.355773352734,34335.867679203766,47925.18586023559,71830.17256498858,89436.3806907386,104898.01032977908,122132.46174942216,144735.33070674058,168004.91123705587,189214.76124851572,208714.08966485484,229118.6154193456,249967.58503168562,270710.59344957734,292153.80011841684,314273.5150875924,336326.54111635545,358576.0682310167,382560.4240240122,408543.84925762436,436703.82499305403,467232.82271887787,500339.72593331727,536251.3509744563,575214.0832878151,617495.6443453516,663387.0042397715,713204.4552842752,767291.8624019248,826023.1073652124,889804.7449262901,959078.8900706456,1034326.3575479025,1116070.0761772082,1204878.8028436874,1301371.1620547231,1406220.041442203,1520157.373066678],\"yaxis\":\"y\",\"type\":\"scatter\"},{\"hovertemplate\":\"Silicon simulation1 low quality\",\"legendgroup\":\"WasteMFG_silicon_Simulation1_low_quality_[Tonnes]\",\"line\":{\"color\":\"#FFA15A\",\"dash\":\"solid\"},\"marker\":{\"symbol\":\"circle\"},\"mode\":\"lines\",\"name\":\"Silicon simulation1 low quality\",\"orientation\":\"v\",\"showlegend\":true,\"x\":[1995,1996,1997,1998,1999,2000,2001,2002,2003,2004,2005,2006,2007,2008,2009,2010,2011,2012,2013,2014,2015,2016,2017,2018,2019,2020,2021,2022,2023,2024,2025,2026,2027,2028,2029,2030,2031,2032,2033,2034,2035,2036,2037,2038,2039,2040,2041,2042,2043,2044,2045,2046,2047,2048,2049,2050],\"xaxis\":\"x\",\"y\":[86.0349348911383,150.24344749194486,224.8308951997236,297.8749501785712,398.9879563437435,519.9948272664296,676.202936240387,905.9640346668,1219.0035385275996,1623.6327766874872,2087.787430764948,2611.468086905623,4339.429774535292,6015.140296741132,8256.022242238503,10010.510776838493,14183.482699985683,21510.48990319226,30346.315997519734,38275.894111980415,52014.786926461355,74514.37661792075,87864.26610185514,97961.79958351592,108388.86499886861,120868.35129163173,134142.90587797243,146473.8018507417,157394.67980749445,167989.1451752471,178913.90143471718,190258.8692273331,202132.38717609041,214497.57652861354,227376.85898128827,240916.74809823823,255476.71126996324,271250.2312152914,288345.04973629856,306878.00873649336,326975.9132077436,348776.45446674555,372429.2034689914,398096.68343610235,425955.53091693675,456197.75458879455,489032.1013806754,524685.5402754052,563404.8747422835,605458.4954757248,651138.2862814632,700761.6967676484,754673.9969666535,813250.7295915022,876900.3783731537,946067.2706030235],\"yaxis\":\"y\",\"type\":\"scatter\"},{\"hovertemplate\":\"Module simulation1 low quality\",\"legendgroup\":\"WasteMFG_Module_Simulation1_low_quality_[Tonnes]\",\"line\":{\"color\":\"#19d3f3\",\"dash\":\"solid\"},\"marker\":{\"symbol\":\"circle\"},\"mode\":\"lines\",\"name\":\"Module simulation1 low quality\",\"orientation\":\"v\",\"showlegend\":true,\"x\":[1995,1996,1997,1998,1999,2000,2001,2002,2003,2004,2005,2006,2007,2008,2009,2010,2011,2012,2013,2014,2015,2016,2017,2018,2019,2020,2021,2022,2023,2024,2025,2026,2027,2028,2029,2030,2031,2032,2033,2034,2035,2036,2037,2038,2039,2040,2041,2042,2043,2044,2045,2046,2047,2048,2049,2050],\"xaxis\":\"x\",\"y\":[121.60958580413502,212.8987178397243,319.586211580954,424.7209987501549,571.2015368313062,747.6822424453406,977.0930430222548,1316.972520815683,1783.5326320224997,2429.5057357554506,3137.529267563068,3907.0665432583064,6439.758475648948,8889.65269338822,12182.916118992516,15679.460067149139,24049.244420380048,38525.379449704844,56517.67177087246,72611.76179118417,99939.97278669693,146344.5491829093,177300.64679259373,202859.80991329497,230521.32674829074,265603.6819983723,302147.8171150283,335688.5630992574,366108.7694723493,397107.7605945927,428881.4864664028,460969.4626769105,494286.18729450734,528771.091616206,563703.4000976437,599492.8163292549,638037.1352939754,679794.0804729158,725048.8747293527,774110.8314553712,827315.6391410609,885027.8054412019,947643.2867568065,1015592.3277814541,1089342.5351567084,1169402.20987307,1256323.9637826004,1350708.6476406178,1453209.6196685738,1564537.3855463706,1685464.643829366,1816831.772944857,1959552.799810341,2114621.8916462255,2283120.419815357,2466224.643669701],\"yaxis\":\"y\",\"type\":\"scatter\"}],                        {\"template\":{\"data\":{\"barpolar\":[{\"marker\":{\"line\":{\"color\":\"white\",\"width\":0.5},\"pattern\":{\"fillmode\":\"overlay\",\"size\":10,\"solidity\":0.2}},\"type\":\"barpolar\"}],\"bar\":[{\"error_x\":{\"color\":\"#2a3f5f\"},\"error_y\":{\"color\":\"#2a3f5f\"},\"marker\":{\"line\":{\"color\":\"white\",\"width\":0.5},\"pattern\":{\"fillmode\":\"overlay\",\"size\":10,\"solidity\":0.2}},\"type\":\"bar\"}],\"carpet\":[{\"aaxis\":{\"endlinecolor\":\"#2a3f5f\",\"gridcolor\":\"#C8D4E3\",\"linecolor\":\"#C8D4E3\",\"minorgridcolor\":\"#C8D4E3\",\"startlinecolor\":\"#2a3f5f\"},\"baxis\":{\"endlinecolor\":\"#2a3f5f\",\"gridcolor\":\"#C8D4E3\",\"linecolor\":\"#C8D4E3\",\"minorgridcolor\":\"#C8D4E3\",\"startlinecolor\":\"#2a3f5f\"},\"type\":\"carpet\"}],\"choropleth\":[{\"colorbar\":{\"outlinewidth\":0,\"ticks\":\"\"},\"type\":\"choropleth\"}],\"contourcarpet\":[{\"colorbar\":{\"outlinewidth\":0,\"ticks\":\"\"},\"type\":\"contourcarpet\"}],\"contour\":[{\"colorbar\":{\"outlinewidth\":0,\"ticks\":\"\"},\"colorscale\":[[0.0,\"#0d0887\"],[0.1111111111111111,\"#46039f\"],[0.2222222222222222,\"#7201a8\"],[0.3333333333333333,\"#9c179e\"],[0.4444444444444444,\"#bd3786\"],[0.5555555555555556,\"#d8576b\"],[0.6666666666666666,\"#ed7953\"],[0.7777777777777778,\"#fb9f3a\"],[0.8888888888888888,\"#fdca26\"],[1.0,\"#f0f921\"]],\"type\":\"contour\"}],\"heatmapgl\":[{\"colorbar\":{\"outlinewidth\":0,\"ticks\":\"\"},\"colorscale\":[[0.0,\"#0d0887\"],[0.1111111111111111,\"#46039f\"],[0.2222222222222222,\"#7201a8\"],[0.3333333333333333,\"#9c179e\"],[0.4444444444444444,\"#bd3786\"],[0.5555555555555556,\"#d8576b\"],[0.6666666666666666,\"#ed7953\"],[0.7777777777777778,\"#fb9f3a\"],[0.8888888888888888,\"#fdca26\"],[1.0,\"#f0f921\"]],\"type\":\"heatmapgl\"}],\"heatmap\":[{\"colorbar\":{\"outlinewidth\":0,\"ticks\":\"\"},\"colorscale\":[[0.0,\"#0d0887\"],[0.1111111111111111,\"#46039f\"],[0.2222222222222222,\"#7201a8\"],[0.3333333333333333,\"#9c179e\"],[0.4444444444444444,\"#bd3786\"],[0.5555555555555556,\"#d8576b\"],[0.6666666666666666,\"#ed7953\"],[0.7777777777777778,\"#fb9f3a\"],[0.8888888888888888,\"#fdca26\"],[1.0,\"#f0f921\"]],\"type\":\"heatmap\"}],\"histogram2dcontour\":[{\"colorbar\":{\"outlinewidth\":0,\"ticks\":\"\"},\"colorscale\":[[0.0,\"#0d0887\"],[0.1111111111111111,\"#46039f\"],[0.2222222222222222,\"#7201a8\"],[0.3333333333333333,\"#9c179e\"],[0.4444444444444444,\"#bd3786\"],[0.5555555555555556,\"#d8576b\"],[0.6666666666666666,\"#ed7953\"],[0.7777777777777778,\"#fb9f3a\"],[0.8888888888888888,\"#fdca26\"],[1.0,\"#f0f921\"]],\"type\":\"histogram2dcontour\"}],\"histogram2d\":[{\"colorbar\":{\"outlinewidth\":0,\"ticks\":\"\"},\"colorscale\":[[0.0,\"#0d0887\"],[0.1111111111111111,\"#46039f\"],[0.2222222222222222,\"#7201a8\"],[0.3333333333333333,\"#9c179e\"],[0.4444444444444444,\"#bd3786\"],[0.5555555555555556,\"#d8576b\"],[0.6666666666666666,\"#ed7953\"],[0.7777777777777778,\"#fb9f3a\"],[0.8888888888888888,\"#fdca26\"],[1.0,\"#f0f921\"]],\"type\":\"histogram2d\"}],\"histogram\":[{\"marker\":{\"pattern\":{\"fillmode\":\"overlay\",\"size\":10,\"solidity\":0.2}},\"type\":\"histogram\"}],\"mesh3d\":[{\"colorbar\":{\"outlinewidth\":0,\"ticks\":\"\"},\"type\":\"mesh3d\"}],\"parcoords\":[{\"line\":{\"colorbar\":{\"outlinewidth\":0,\"ticks\":\"\"}},\"type\":\"parcoords\"}],\"pie\":[{\"automargin\":true,\"type\":\"pie\"}],\"scatter3d\":[{\"line\":{\"colorbar\":{\"outlinewidth\":0,\"ticks\":\"\"}},\"marker\":{\"colorbar\":{\"outlinewidth\":0,\"ticks\":\"\"}},\"type\":\"scatter3d\"}],\"scattercarpet\":[{\"marker\":{\"colorbar\":{\"outlinewidth\":0,\"ticks\":\"\"}},\"type\":\"scattercarpet\"}],\"scattergeo\":[{\"marker\":{\"colorbar\":{\"outlinewidth\":0,\"ticks\":\"\"}},\"type\":\"scattergeo\"}],\"scattergl\":[{\"marker\":{\"colorbar\":{\"outlinewidth\":0,\"ticks\":\"\"}},\"type\":\"scattergl\"}],\"scattermapbox\":[{\"marker\":{\"colorbar\":{\"outlinewidth\":0,\"ticks\":\"\"}},\"type\":\"scattermapbox\"}],\"scatterpolargl\":[{\"marker\":{\"colorbar\":{\"outlinewidth\":0,\"ticks\":\"\"}},\"type\":\"scatterpolargl\"}],\"scatterpolar\":[{\"marker\":{\"colorbar\":{\"outlinewidth\":0,\"ticks\":\"\"}},\"type\":\"scatterpolar\"}],\"scatter\":[{\"fillpattern\":{\"fillmode\":\"overlay\",\"size\":10,\"solidity\":0.2},\"type\":\"scatter\"}],\"scatterternary\":[{\"marker\":{\"colorbar\":{\"outlinewidth\":0,\"ticks\":\"\"}},\"type\":\"scatterternary\"}],\"surface\":[{\"colorbar\":{\"outlinewidth\":0,\"ticks\":\"\"},\"colorscale\":[[0.0,\"#0d0887\"],[0.1111111111111111,\"#46039f\"],[0.2222222222222222,\"#7201a8\"],[0.3333333333333333,\"#9c179e\"],[0.4444444444444444,\"#bd3786\"],[0.5555555555555556,\"#d8576b\"],[0.6666666666666666,\"#ed7953\"],[0.7777777777777778,\"#fb9f3a\"],[0.8888888888888888,\"#fdca26\"],[1.0,\"#f0f921\"]],\"type\":\"surface\"}],\"table\":[{\"cells\":{\"fill\":{\"color\":\"#EBF0F8\"},\"line\":{\"color\":\"white\"}},\"header\":{\"fill\":{\"color\":\"#C8D4E3\"},\"line\":{\"color\":\"white\"}},\"type\":\"table\"}]},\"layout\":{\"annotationdefaults\":{\"arrowcolor\":\"#2a3f5f\",\"arrowhead\":0,\"arrowwidth\":1},\"autotypenumbers\":\"strict\",\"coloraxis\":{\"colorbar\":{\"outlinewidth\":0,\"ticks\":\"\"}},\"colorscale\":{\"diverging\":[[0,\"#8e0152\"],[0.1,\"#c51b7d\"],[0.2,\"#de77ae\"],[0.3,\"#f1b6da\"],[0.4,\"#fde0ef\"],[0.5,\"#f7f7f7\"],[0.6,\"#e6f5d0\"],[0.7,\"#b8e186\"],[0.8,\"#7fbc41\"],[0.9,\"#4d9221\"],[1,\"#276419\"]],\"sequential\":[[0.0,\"#0d0887\"],[0.1111111111111111,\"#46039f\"],[0.2222222222222222,\"#7201a8\"],[0.3333333333333333,\"#9c179e\"],[0.4444444444444444,\"#bd3786\"],[0.5555555555555556,\"#d8576b\"],[0.6666666666666666,\"#ed7953\"],[0.7777777777777778,\"#fb9f3a\"],[0.8888888888888888,\"#fdca26\"],[1.0,\"#f0f921\"]],\"sequentialminus\":[[0.0,\"#0d0887\"],[0.1111111111111111,\"#46039f\"],[0.2222222222222222,\"#7201a8\"],[0.3333333333333333,\"#9c179e\"],[0.4444444444444444,\"#bd3786\"],[0.5555555555555556,\"#d8576b\"],[0.6666666666666666,\"#ed7953\"],[0.7777777777777778,\"#fb9f3a\"],[0.8888888888888888,\"#fdca26\"],[1.0,\"#f0f921\"]]},\"colorway\":[\"#636efa\",\"#EF553B\",\"#00cc96\",\"#ab63fa\",\"#FFA15A\",\"#19d3f3\",\"#FF6692\",\"#B6E880\",\"#FF97FF\",\"#FECB52\"],\"font\":{\"color\":\"#2a3f5f\"},\"geo\":{\"bgcolor\":\"white\",\"lakecolor\":\"white\",\"landcolor\":\"white\",\"showlakes\":true,\"showland\":true,\"subunitcolor\":\"#C8D4E3\"},\"hoverlabel\":{\"align\":\"left\"},\"hovermode\":\"closest\",\"mapbox\":{\"style\":\"light\"},\"paper_bgcolor\":\"white\",\"plot_bgcolor\":\"white\",\"polar\":{\"angularaxis\":{\"gridcolor\":\"#EBF0F8\",\"linecolor\":\"#EBF0F8\",\"ticks\":\"\"},\"bgcolor\":\"white\",\"radialaxis\":{\"gridcolor\":\"#EBF0F8\",\"linecolor\":\"#EBF0F8\",\"ticks\":\"\"}},\"scene\":{\"xaxis\":{\"backgroundcolor\":\"white\",\"gridcolor\":\"#DFE8F3\",\"gridwidth\":2,\"linecolor\":\"#EBF0F8\",\"showbackground\":true,\"ticks\":\"\",\"zerolinecolor\":\"#EBF0F8\"},\"yaxis\":{\"backgroundcolor\":\"white\",\"gridcolor\":\"#DFE8F3\",\"gridwidth\":2,\"linecolor\":\"#EBF0F8\",\"showbackground\":true,\"ticks\":\"\",\"zerolinecolor\":\"#EBF0F8\"},\"zaxis\":{\"backgroundcolor\":\"white\",\"gridcolor\":\"#DFE8F3\",\"gridwidth\":2,\"linecolor\":\"#EBF0F8\",\"showbackground\":true,\"ticks\":\"\",\"zerolinecolor\":\"#EBF0F8\"}},\"shapedefaults\":{\"line\":{\"color\":\"#2a3f5f\"}},\"ternary\":{\"aaxis\":{\"gridcolor\":\"#DFE8F3\",\"linecolor\":\"#A2B1C6\",\"ticks\":\"\"},\"baxis\":{\"gridcolor\":\"#DFE8F3\",\"linecolor\":\"#A2B1C6\",\"ticks\":\"\"},\"bgcolor\":\"white\",\"caxis\":{\"gridcolor\":\"#DFE8F3\",\"linecolor\":\"#A2B1C6\",\"ticks\":\"\"}},\"title\":{\"x\":0.05},\"xaxis\":{\"automargin\":true,\"gridcolor\":\"#EBF0F8\",\"linecolor\":\"#EBF0F8\",\"ticks\":\"\",\"title\":{\"standoff\":15},\"zerolinecolor\":\"#EBF0F8\",\"zerolinewidth\":2},\"yaxis\":{\"automargin\":true,\"gridcolor\":\"#EBF0F8\",\"linecolor\":\"#EBF0F8\",\"ticks\":\"\",\"title\":{\"standoff\":15},\"zerolinecolor\":\"#EBF0F8\",\"zerolinewidth\":2}}},\"xaxis\":{\"anchor\":\"y\",\"domain\":[0.0,1.0],\"title\":{\"text\":\"Year\"}},\"yaxis\":{\"anchor\":\"x\",\"domain\":[0.0,1.0],\"title\":{\"text\":\"[Tonnes]\"}},\"legend\":{\"title\":{\"text\":\"variable\"},\"tracegroupgap\":0},\"margin\":{\"t\":60},\"title\":{\"text\":\"Cumulative Waste M F G\"}},                        {\"responsive\": true}                    ).then(function(){\n",
       "                            \n",
       "var gd = document.getElementById('1b6ddd68-09d6-4e3e-a7f9-82ab3c586a6d');\n",
       "var x = new MutationObserver(function (mutations, observer) {{\n",
       "        var display = window.getComputedStyle(gd).display;\n",
       "        if (!display || display === 'none') {{\n",
       "            console.log([gd, 'removed!']);\n",
       "            Plotly.purge(gd);\n",
       "            observer.disconnect();\n",
       "        }}\n",
       "}});\n",
       "\n",
       "// Listen for the removal of the full notebook cells\n",
       "var notebookContainer = gd.closest('#notebook-container');\n",
       "if (notebookContainer) {{\n",
       "    x.observe(notebookContainer, {childList: true});\n",
       "}}\n",
       "\n",
       "// Listen for the clearing of the current output cell\n",
       "var outputEl = gd.closest('.output');\n",
       "if (outputEl) {{\n",
       "    x.observe(outputEl, {childList: true});\n",
       "}}\n",
       "\n",
       "                        })                };                });            </script>        </div>"
      ]
     },
     "metadata": {},
     "output_type": "display_data"
    },
    {
     "name": "stdout",
     "output_type": "stream",
     "text": [
      "[]\n"
     ]
    },
    {
     "data": {
      "application/vnd.plotly.v1+json": {
       "config": {
        "plotlyServerURL": "https://plot.ly"
       },
       "data": [
        {
         "hovertemplate": "Capacity, Simulation1', 'standard",
         "legendgroup": "newInstalledCapacity_Simulation1_standard_[MW]",
         "line": {
          "color": "#636efa",
          "dash": "solid"
         },
         "marker": {
          "symbol": "circle"
         },
         "mode": "lines",
         "name": "Capacity, Simulation1', 'standard",
         "orientation": "v",
         "showlegend": true,
         "type": "scatter",
         "x": [
          1995,
          1996,
          1997,
          1998,
          1999,
          2000,
          2001,
          2002,
          2003,
          2004,
          2005,
          2006,
          2007,
          2008,
          2009,
          2010,
          2011,
          2012,
          2013,
          2014,
          2015,
          2016,
          2017,
          2018,
          2019,
          2020,
          2021,
          2022,
          2023,
          2024,
          2025,
          2026,
          2027,
          2028,
          2029,
          2030,
          2031,
          2032,
          2033,
          2034,
          2035,
          2036,
          2037,
          2038,
          2039,
          2040,
          2041,
          2042,
          2043,
          2044,
          2045,
          2046,
          2047,
          2048,
          2049,
          2050
         ],
         "xaxis": "x",
         "y": [
          12.5,
          22.167666667,
          33.789666667,
          45.570666667,
          62.455333337,
          83.382000007,
          111.367000007,
          153.843000007,
          213.588000007,
          308.340000007,
          404.921173227,
          503.134244837,
          827.366993237,
          1141.952101937,
          1573.196905837,
          2293.0413434370003,
          4074.4184214370002,
          7138.580702437001,
          11176.029815437001,
          14898.229300437,
          21732.558113437,
          34630.224063437,
          44414.730278437004,
          53767.259726437005,
          64717.042066437,
          79620.832066437,
          96076.392066437,
          111303.62206643699,
          126527.642066437,
          143162.072066437,
          161276.96633643698,
          181004.08619643698,
          202486.919726437,
          225881.725436437,
          251358.668856437,
          279103.060236437,
          309316.702456437,
          342219.358826437,
          378050.35161643696,
          417070.30276643694,
          459563.02956643695,
          505837.6090564369,
          556230.6261164369,
          611108.6216964369,
          670870.7588864369,
          735951.7262864369,
          806824.8997864369,
          884005.7857264369,
          968055.7705164369,
          1059586.203946437,
          1159262.845956437,
          1267810.709056437,
          1386019.332056437,
          1514748.522456437,
          1654934.610856437,
          1807597.261056437
         ],
         "yaxis": "y"
        },
        {
         "hovertemplate": "Capacity, Simulation1', 'low', 'quality",
         "legendgroup": "newInstalledCapacity_Simulation1_low_quality_[MW]",
         "line": {
          "color": "#EF553B",
          "dash": "solid"
         },
         "marker": {
          "symbol": "circle"
         },
         "mode": "lines",
         "name": "Capacity, Simulation1', 'low', 'quality",
         "orientation": "v",
         "showlegend": true,
         "type": "scatter",
         "x": [
          1995,
          1996,
          1997,
          1998,
          1999,
          2000,
          2001,
          2002,
          2003,
          2004,
          2005,
          2006,
          2007,
          2008,
          2009,
          2010,
          2011,
          2012,
          2013,
          2014,
          2015,
          2016,
          2017,
          2018,
          2019,
          2020,
          2021,
          2022,
          2023,
          2024,
          2025,
          2026,
          2027,
          2028,
          2029,
          2030,
          2031,
          2032,
          2033,
          2034,
          2035,
          2036,
          2037,
          2038,
          2039,
          2040,
          2041,
          2042,
          2043,
          2044,
          2045,
          2046,
          2047,
          2048,
          2049,
          2050
         ],
         "xaxis": "x",
         "y": [
          12.5,
          22.167666667,
          33.789666667,
          45.570666667,
          62.455333337,
          83.382000007,
          111.367000007,
          153.843000007,
          213.588000007,
          308.340000007,
          404.921173227,
          503.134244837,
          827.366993237,
          1141.952101937,
          1573.196905837,
          2293.0413434370003,
          4074.4184214370002,
          7138.580702437001,
          11176.029815437001,
          14898.229300437,
          21732.558113437,
          34630.224063437,
          44414.730278437004,
          53767.259726437005,
          64717.042066437,
          79620.832066437,
          96076.392066437,
          111303.62206643699,
          126527.642066437,
          143162.072066437,
          161276.96633643698,
          181004.08619643698,
          202486.919726437,
          225881.725436437,
          251358.668856437,
          279103.060236437,
          309316.702456437,
          342219.358826437,
          378050.35161643696,
          417070.30276643694,
          459563.02956643695,
          505837.6090564369,
          556230.6261164369,
          611108.6216964369,
          670870.7588864369,
          735951.7262864369,
          806824.8997864369,
          884005.7857264369,
          968055.7705164369,
          1059586.203946437,
          1159262.845956437,
          1267810.709056437,
          1386019.332056437,
          1514748.522456437,
          1654934.610856437,
          1807597.261056437
         ],
         "yaxis": "y"
        }
       ],
       "layout": {
        "legend": {
         "title": {
          "text": "variable"
         },
         "tracegroupgap": 0
        },
        "margin": {
         "t": 60
        },
        "template": {
         "data": {
          "bar": [
           {
            "error_x": {
             "color": "#2a3f5f"
            },
            "error_y": {
             "color": "#2a3f5f"
            },
            "marker": {
             "line": {
              "color": "white",
              "width": 0.5
             },
             "pattern": {
              "fillmode": "overlay",
              "size": 10,
              "solidity": 0.2
             }
            },
            "type": "bar"
           }
          ],
          "barpolar": [
           {
            "marker": {
             "line": {
              "color": "white",
              "width": 0.5
             },
             "pattern": {
              "fillmode": "overlay",
              "size": 10,
              "solidity": 0.2
             }
            },
            "type": "barpolar"
           }
          ],
          "carpet": [
           {
            "aaxis": {
             "endlinecolor": "#2a3f5f",
             "gridcolor": "#C8D4E3",
             "linecolor": "#C8D4E3",
             "minorgridcolor": "#C8D4E3",
             "startlinecolor": "#2a3f5f"
            },
            "baxis": {
             "endlinecolor": "#2a3f5f",
             "gridcolor": "#C8D4E3",
             "linecolor": "#C8D4E3",
             "minorgridcolor": "#C8D4E3",
             "startlinecolor": "#2a3f5f"
            },
            "type": "carpet"
           }
          ],
          "choropleth": [
           {
            "colorbar": {
             "outlinewidth": 0,
             "ticks": ""
            },
            "type": "choropleth"
           }
          ],
          "contour": [
           {
            "colorbar": {
             "outlinewidth": 0,
             "ticks": ""
            },
            "colorscale": [
             [
              0,
              "#0d0887"
             ],
             [
              0.1111111111111111,
              "#46039f"
             ],
             [
              0.2222222222222222,
              "#7201a8"
             ],
             [
              0.3333333333333333,
              "#9c179e"
             ],
             [
              0.4444444444444444,
              "#bd3786"
             ],
             [
              0.5555555555555556,
              "#d8576b"
             ],
             [
              0.6666666666666666,
              "#ed7953"
             ],
             [
              0.7777777777777778,
              "#fb9f3a"
             ],
             [
              0.8888888888888888,
              "#fdca26"
             ],
             [
              1,
              "#f0f921"
             ]
            ],
            "type": "contour"
           }
          ],
          "contourcarpet": [
           {
            "colorbar": {
             "outlinewidth": 0,
             "ticks": ""
            },
            "type": "contourcarpet"
           }
          ],
          "heatmap": [
           {
            "colorbar": {
             "outlinewidth": 0,
             "ticks": ""
            },
            "colorscale": [
             [
              0,
              "#0d0887"
             ],
             [
              0.1111111111111111,
              "#46039f"
             ],
             [
              0.2222222222222222,
              "#7201a8"
             ],
             [
              0.3333333333333333,
              "#9c179e"
             ],
             [
              0.4444444444444444,
              "#bd3786"
             ],
             [
              0.5555555555555556,
              "#d8576b"
             ],
             [
              0.6666666666666666,
              "#ed7953"
             ],
             [
              0.7777777777777778,
              "#fb9f3a"
             ],
             [
              0.8888888888888888,
              "#fdca26"
             ],
             [
              1,
              "#f0f921"
             ]
            ],
            "type": "heatmap"
           }
          ],
          "heatmapgl": [
           {
            "colorbar": {
             "outlinewidth": 0,
             "ticks": ""
            },
            "colorscale": [
             [
              0,
              "#0d0887"
             ],
             [
              0.1111111111111111,
              "#46039f"
             ],
             [
              0.2222222222222222,
              "#7201a8"
             ],
             [
              0.3333333333333333,
              "#9c179e"
             ],
             [
              0.4444444444444444,
              "#bd3786"
             ],
             [
              0.5555555555555556,
              "#d8576b"
             ],
             [
              0.6666666666666666,
              "#ed7953"
             ],
             [
              0.7777777777777778,
              "#fb9f3a"
             ],
             [
              0.8888888888888888,
              "#fdca26"
             ],
             [
              1,
              "#f0f921"
             ]
            ],
            "type": "heatmapgl"
           }
          ],
          "histogram": [
           {
            "marker": {
             "pattern": {
              "fillmode": "overlay",
              "size": 10,
              "solidity": 0.2
             }
            },
            "type": "histogram"
           }
          ],
          "histogram2d": [
           {
            "colorbar": {
             "outlinewidth": 0,
             "ticks": ""
            },
            "colorscale": [
             [
              0,
              "#0d0887"
             ],
             [
              0.1111111111111111,
              "#46039f"
             ],
             [
              0.2222222222222222,
              "#7201a8"
             ],
             [
              0.3333333333333333,
              "#9c179e"
             ],
             [
              0.4444444444444444,
              "#bd3786"
             ],
             [
              0.5555555555555556,
              "#d8576b"
             ],
             [
              0.6666666666666666,
              "#ed7953"
             ],
             [
              0.7777777777777778,
              "#fb9f3a"
             ],
             [
              0.8888888888888888,
              "#fdca26"
             ],
             [
              1,
              "#f0f921"
             ]
            ],
            "type": "histogram2d"
           }
          ],
          "histogram2dcontour": [
           {
            "colorbar": {
             "outlinewidth": 0,
             "ticks": ""
            },
            "colorscale": [
             [
              0,
              "#0d0887"
             ],
             [
              0.1111111111111111,
              "#46039f"
             ],
             [
              0.2222222222222222,
              "#7201a8"
             ],
             [
              0.3333333333333333,
              "#9c179e"
             ],
             [
              0.4444444444444444,
              "#bd3786"
             ],
             [
              0.5555555555555556,
              "#d8576b"
             ],
             [
              0.6666666666666666,
              "#ed7953"
             ],
             [
              0.7777777777777778,
              "#fb9f3a"
             ],
             [
              0.8888888888888888,
              "#fdca26"
             ],
             [
              1,
              "#f0f921"
             ]
            ],
            "type": "histogram2dcontour"
           }
          ],
          "mesh3d": [
           {
            "colorbar": {
             "outlinewidth": 0,
             "ticks": ""
            },
            "type": "mesh3d"
           }
          ],
          "parcoords": [
           {
            "line": {
             "colorbar": {
              "outlinewidth": 0,
              "ticks": ""
             }
            },
            "type": "parcoords"
           }
          ],
          "pie": [
           {
            "automargin": true,
            "type": "pie"
           }
          ],
          "scatter": [
           {
            "fillpattern": {
             "fillmode": "overlay",
             "size": 10,
             "solidity": 0.2
            },
            "type": "scatter"
           }
          ],
          "scatter3d": [
           {
            "line": {
             "colorbar": {
              "outlinewidth": 0,
              "ticks": ""
             }
            },
            "marker": {
             "colorbar": {
              "outlinewidth": 0,
              "ticks": ""
             }
            },
            "type": "scatter3d"
           }
          ],
          "scattercarpet": [
           {
            "marker": {
             "colorbar": {
              "outlinewidth": 0,
              "ticks": ""
             }
            },
            "type": "scattercarpet"
           }
          ],
          "scattergeo": [
           {
            "marker": {
             "colorbar": {
              "outlinewidth": 0,
              "ticks": ""
             }
            },
            "type": "scattergeo"
           }
          ],
          "scattergl": [
           {
            "marker": {
             "colorbar": {
              "outlinewidth": 0,
              "ticks": ""
             }
            },
            "type": "scattergl"
           }
          ],
          "scattermapbox": [
           {
            "marker": {
             "colorbar": {
              "outlinewidth": 0,
              "ticks": ""
             }
            },
            "type": "scattermapbox"
           }
          ],
          "scatterpolar": [
           {
            "marker": {
             "colorbar": {
              "outlinewidth": 0,
              "ticks": ""
             }
            },
            "type": "scatterpolar"
           }
          ],
          "scatterpolargl": [
           {
            "marker": {
             "colorbar": {
              "outlinewidth": 0,
              "ticks": ""
             }
            },
            "type": "scatterpolargl"
           }
          ],
          "scatterternary": [
           {
            "marker": {
             "colorbar": {
              "outlinewidth": 0,
              "ticks": ""
             }
            },
            "type": "scatterternary"
           }
          ],
          "surface": [
           {
            "colorbar": {
             "outlinewidth": 0,
             "ticks": ""
            },
            "colorscale": [
             [
              0,
              "#0d0887"
             ],
             [
              0.1111111111111111,
              "#46039f"
             ],
             [
              0.2222222222222222,
              "#7201a8"
             ],
             [
              0.3333333333333333,
              "#9c179e"
             ],
             [
              0.4444444444444444,
              "#bd3786"
             ],
             [
              0.5555555555555556,
              "#d8576b"
             ],
             [
              0.6666666666666666,
              "#ed7953"
             ],
             [
              0.7777777777777778,
              "#fb9f3a"
             ],
             [
              0.8888888888888888,
              "#fdca26"
             ],
             [
              1,
              "#f0f921"
             ]
            ],
            "type": "surface"
           }
          ],
          "table": [
           {
            "cells": {
             "fill": {
              "color": "#EBF0F8"
             },
             "line": {
              "color": "white"
             }
            },
            "header": {
             "fill": {
              "color": "#C8D4E3"
             },
             "line": {
              "color": "white"
             }
            },
            "type": "table"
           }
          ]
         },
         "layout": {
          "annotationdefaults": {
           "arrowcolor": "#2a3f5f",
           "arrowhead": 0,
           "arrowwidth": 1
          },
          "autotypenumbers": "strict",
          "coloraxis": {
           "colorbar": {
            "outlinewidth": 0,
            "ticks": ""
           }
          },
          "colorscale": {
           "diverging": [
            [
             0,
             "#8e0152"
            ],
            [
             0.1,
             "#c51b7d"
            ],
            [
             0.2,
             "#de77ae"
            ],
            [
             0.3,
             "#f1b6da"
            ],
            [
             0.4,
             "#fde0ef"
            ],
            [
             0.5,
             "#f7f7f7"
            ],
            [
             0.6,
             "#e6f5d0"
            ],
            [
             0.7,
             "#b8e186"
            ],
            [
             0.8,
             "#7fbc41"
            ],
            [
             0.9,
             "#4d9221"
            ],
            [
             1,
             "#276419"
            ]
           ],
           "sequential": [
            [
             0,
             "#0d0887"
            ],
            [
             0.1111111111111111,
             "#46039f"
            ],
            [
             0.2222222222222222,
             "#7201a8"
            ],
            [
             0.3333333333333333,
             "#9c179e"
            ],
            [
             0.4444444444444444,
             "#bd3786"
            ],
            [
             0.5555555555555556,
             "#d8576b"
            ],
            [
             0.6666666666666666,
             "#ed7953"
            ],
            [
             0.7777777777777778,
             "#fb9f3a"
            ],
            [
             0.8888888888888888,
             "#fdca26"
            ],
            [
             1,
             "#f0f921"
            ]
           ],
           "sequentialminus": [
            [
             0,
             "#0d0887"
            ],
            [
             0.1111111111111111,
             "#46039f"
            ],
            [
             0.2222222222222222,
             "#7201a8"
            ],
            [
             0.3333333333333333,
             "#9c179e"
            ],
            [
             0.4444444444444444,
             "#bd3786"
            ],
            [
             0.5555555555555556,
             "#d8576b"
            ],
            [
             0.6666666666666666,
             "#ed7953"
            ],
            [
             0.7777777777777778,
             "#fb9f3a"
            ],
            [
             0.8888888888888888,
             "#fdca26"
            ],
            [
             1,
             "#f0f921"
            ]
           ]
          },
          "colorway": [
           "#636efa",
           "#EF553B",
           "#00cc96",
           "#ab63fa",
           "#FFA15A",
           "#19d3f3",
           "#FF6692",
           "#B6E880",
           "#FF97FF",
           "#FECB52"
          ],
          "font": {
           "color": "#2a3f5f"
          },
          "geo": {
           "bgcolor": "white",
           "lakecolor": "white",
           "landcolor": "white",
           "showlakes": true,
           "showland": true,
           "subunitcolor": "#C8D4E3"
          },
          "hoverlabel": {
           "align": "left"
          },
          "hovermode": "closest",
          "mapbox": {
           "style": "light"
          },
          "paper_bgcolor": "white",
          "plot_bgcolor": "white",
          "polar": {
           "angularaxis": {
            "gridcolor": "#EBF0F8",
            "linecolor": "#EBF0F8",
            "ticks": ""
           },
           "bgcolor": "white",
           "radialaxis": {
            "gridcolor": "#EBF0F8",
            "linecolor": "#EBF0F8",
            "ticks": ""
           }
          },
          "scene": {
           "xaxis": {
            "backgroundcolor": "white",
            "gridcolor": "#DFE8F3",
            "gridwidth": 2,
            "linecolor": "#EBF0F8",
            "showbackground": true,
            "ticks": "",
            "zerolinecolor": "#EBF0F8"
           },
           "yaxis": {
            "backgroundcolor": "white",
            "gridcolor": "#DFE8F3",
            "gridwidth": 2,
            "linecolor": "#EBF0F8",
            "showbackground": true,
            "ticks": "",
            "zerolinecolor": "#EBF0F8"
           },
           "zaxis": {
            "backgroundcolor": "white",
            "gridcolor": "#DFE8F3",
            "gridwidth": 2,
            "linecolor": "#EBF0F8",
            "showbackground": true,
            "ticks": "",
            "zerolinecolor": "#EBF0F8"
           }
          },
          "shapedefaults": {
           "line": {
            "color": "#2a3f5f"
           }
          },
          "ternary": {
           "aaxis": {
            "gridcolor": "#DFE8F3",
            "linecolor": "#A2B1C6",
            "ticks": ""
           },
           "baxis": {
            "gridcolor": "#DFE8F3",
            "linecolor": "#A2B1C6",
            "ticks": ""
           },
           "bgcolor": "white",
           "caxis": {
            "gridcolor": "#DFE8F3",
            "linecolor": "#A2B1C6",
            "ticks": ""
           }
          },
          "title": {
           "x": 0.05
          },
          "xaxis": {
           "automargin": true,
           "gridcolor": "#EBF0F8",
           "linecolor": "#EBF0F8",
           "ticks": "",
           "title": {
            "standoff": 15
           },
           "zerolinecolor": "#EBF0F8",
           "zerolinewidth": 2
          },
          "yaxis": {
           "automargin": true,
           "gridcolor": "#EBF0F8",
           "linecolor": "#EBF0F8",
           "ticks": "",
           "title": {
            "standoff": 15
           },
           "zerolinecolor": "#EBF0F8",
           "zerolinewidth": 2
          }
         }
        },
        "title": {
         "text": "Installed Capacity and Cumulative new Installs"
        },
        "xaxis": {
         "anchor": "y",
         "domain": [
          0,
          1
         ],
         "title": {
          "text": "Year"
         }
        },
        "yaxis": {
         "anchor": "x",
         "domain": [
          0,
          1
         ],
         "title": {
          "text": "[MW]"
         }
        }
       }
      },
      "text/html": [
       "<div>                            <div id=\"bacf3c09-a8bb-408d-8ffc-c20a18baaa29\" class=\"plotly-graph-div\" style=\"height:525px; width:100%;\"></div>            <script type=\"text/javascript\">                require([\"plotly\"], function(Plotly) {                    window.PLOTLYENV=window.PLOTLYENV || {};                                    if (document.getElementById(\"bacf3c09-a8bb-408d-8ffc-c20a18baaa29\")) {                    Plotly.newPlot(                        \"bacf3c09-a8bb-408d-8ffc-c20a18baaa29\",                        [{\"hovertemplate\":\"Capacity, Simulation1', 'standard\",\"legendgroup\":\"newInstalledCapacity_Simulation1_standard_[MW]\",\"line\":{\"color\":\"#636efa\",\"dash\":\"solid\"},\"marker\":{\"symbol\":\"circle\"},\"mode\":\"lines\",\"name\":\"Capacity, Simulation1', 'standard\",\"orientation\":\"v\",\"showlegend\":true,\"x\":[1995,1996,1997,1998,1999,2000,2001,2002,2003,2004,2005,2006,2007,2008,2009,2010,2011,2012,2013,2014,2015,2016,2017,2018,2019,2020,2021,2022,2023,2024,2025,2026,2027,2028,2029,2030,2031,2032,2033,2034,2035,2036,2037,2038,2039,2040,2041,2042,2043,2044,2045,2046,2047,2048,2049,2050],\"xaxis\":\"x\",\"y\":[12.5,22.167666667,33.789666667,45.570666667,62.455333337,83.382000007,111.367000007,153.843000007,213.588000007,308.340000007,404.921173227,503.134244837,827.366993237,1141.952101937,1573.196905837,2293.0413434370003,4074.4184214370002,7138.580702437001,11176.029815437001,14898.229300437,21732.558113437,34630.224063437,44414.730278437004,53767.259726437005,64717.042066437,79620.832066437,96076.392066437,111303.62206643699,126527.642066437,143162.072066437,161276.96633643698,181004.08619643698,202486.919726437,225881.725436437,251358.668856437,279103.060236437,309316.702456437,342219.358826437,378050.35161643696,417070.30276643694,459563.02956643695,505837.6090564369,556230.6261164369,611108.6216964369,670870.7588864369,735951.7262864369,806824.8997864369,884005.7857264369,968055.7705164369,1059586.203946437,1159262.845956437,1267810.709056437,1386019.332056437,1514748.522456437,1654934.610856437,1807597.261056437],\"yaxis\":\"y\",\"type\":\"scatter\"},{\"hovertemplate\":\"Capacity, Simulation1', 'low', 'quality\",\"legendgroup\":\"newInstalledCapacity_Simulation1_low_quality_[MW]\",\"line\":{\"color\":\"#EF553B\",\"dash\":\"solid\"},\"marker\":{\"symbol\":\"circle\"},\"mode\":\"lines\",\"name\":\"Capacity, Simulation1', 'low', 'quality\",\"orientation\":\"v\",\"showlegend\":true,\"x\":[1995,1996,1997,1998,1999,2000,2001,2002,2003,2004,2005,2006,2007,2008,2009,2010,2011,2012,2013,2014,2015,2016,2017,2018,2019,2020,2021,2022,2023,2024,2025,2026,2027,2028,2029,2030,2031,2032,2033,2034,2035,2036,2037,2038,2039,2040,2041,2042,2043,2044,2045,2046,2047,2048,2049,2050],\"xaxis\":\"x\",\"y\":[12.5,22.167666667,33.789666667,45.570666667,62.455333337,83.382000007,111.367000007,153.843000007,213.588000007,308.340000007,404.921173227,503.134244837,827.366993237,1141.952101937,1573.196905837,2293.0413434370003,4074.4184214370002,7138.580702437001,11176.029815437001,14898.229300437,21732.558113437,34630.224063437,44414.730278437004,53767.259726437005,64717.042066437,79620.832066437,96076.392066437,111303.62206643699,126527.642066437,143162.072066437,161276.96633643698,181004.08619643698,202486.919726437,225881.725436437,251358.668856437,279103.060236437,309316.702456437,342219.358826437,378050.35161643696,417070.30276643694,459563.02956643695,505837.6090564369,556230.6261164369,611108.6216964369,670870.7588864369,735951.7262864369,806824.8997864369,884005.7857264369,968055.7705164369,1059586.203946437,1159262.845956437,1267810.709056437,1386019.332056437,1514748.522456437,1654934.610856437,1807597.261056437],\"yaxis\":\"y\",\"type\":\"scatter\"}],                        {\"template\":{\"data\":{\"barpolar\":[{\"marker\":{\"line\":{\"color\":\"white\",\"width\":0.5},\"pattern\":{\"fillmode\":\"overlay\",\"size\":10,\"solidity\":0.2}},\"type\":\"barpolar\"}],\"bar\":[{\"error_x\":{\"color\":\"#2a3f5f\"},\"error_y\":{\"color\":\"#2a3f5f\"},\"marker\":{\"line\":{\"color\":\"white\",\"width\":0.5},\"pattern\":{\"fillmode\":\"overlay\",\"size\":10,\"solidity\":0.2}},\"type\":\"bar\"}],\"carpet\":[{\"aaxis\":{\"endlinecolor\":\"#2a3f5f\",\"gridcolor\":\"#C8D4E3\",\"linecolor\":\"#C8D4E3\",\"minorgridcolor\":\"#C8D4E3\",\"startlinecolor\":\"#2a3f5f\"},\"baxis\":{\"endlinecolor\":\"#2a3f5f\",\"gridcolor\":\"#C8D4E3\",\"linecolor\":\"#C8D4E3\",\"minorgridcolor\":\"#C8D4E3\",\"startlinecolor\":\"#2a3f5f\"},\"type\":\"carpet\"}],\"choropleth\":[{\"colorbar\":{\"outlinewidth\":0,\"ticks\":\"\"},\"type\":\"choropleth\"}],\"contourcarpet\":[{\"colorbar\":{\"outlinewidth\":0,\"ticks\":\"\"},\"type\":\"contourcarpet\"}],\"contour\":[{\"colorbar\":{\"outlinewidth\":0,\"ticks\":\"\"},\"colorscale\":[[0.0,\"#0d0887\"],[0.1111111111111111,\"#46039f\"],[0.2222222222222222,\"#7201a8\"],[0.3333333333333333,\"#9c179e\"],[0.4444444444444444,\"#bd3786\"],[0.5555555555555556,\"#d8576b\"],[0.6666666666666666,\"#ed7953\"],[0.7777777777777778,\"#fb9f3a\"],[0.8888888888888888,\"#fdca26\"],[1.0,\"#f0f921\"]],\"type\":\"contour\"}],\"heatmapgl\":[{\"colorbar\":{\"outlinewidth\":0,\"ticks\":\"\"},\"colorscale\":[[0.0,\"#0d0887\"],[0.1111111111111111,\"#46039f\"],[0.2222222222222222,\"#7201a8\"],[0.3333333333333333,\"#9c179e\"],[0.4444444444444444,\"#bd3786\"],[0.5555555555555556,\"#d8576b\"],[0.6666666666666666,\"#ed7953\"],[0.7777777777777778,\"#fb9f3a\"],[0.8888888888888888,\"#fdca26\"],[1.0,\"#f0f921\"]],\"type\":\"heatmapgl\"}],\"heatmap\":[{\"colorbar\":{\"outlinewidth\":0,\"ticks\":\"\"},\"colorscale\":[[0.0,\"#0d0887\"],[0.1111111111111111,\"#46039f\"],[0.2222222222222222,\"#7201a8\"],[0.3333333333333333,\"#9c179e\"],[0.4444444444444444,\"#bd3786\"],[0.5555555555555556,\"#d8576b\"],[0.6666666666666666,\"#ed7953\"],[0.7777777777777778,\"#fb9f3a\"],[0.8888888888888888,\"#fdca26\"],[1.0,\"#f0f921\"]],\"type\":\"heatmap\"}],\"histogram2dcontour\":[{\"colorbar\":{\"outlinewidth\":0,\"ticks\":\"\"},\"colorscale\":[[0.0,\"#0d0887\"],[0.1111111111111111,\"#46039f\"],[0.2222222222222222,\"#7201a8\"],[0.3333333333333333,\"#9c179e\"],[0.4444444444444444,\"#bd3786\"],[0.5555555555555556,\"#d8576b\"],[0.6666666666666666,\"#ed7953\"],[0.7777777777777778,\"#fb9f3a\"],[0.8888888888888888,\"#fdca26\"],[1.0,\"#f0f921\"]],\"type\":\"histogram2dcontour\"}],\"histogram2d\":[{\"colorbar\":{\"outlinewidth\":0,\"ticks\":\"\"},\"colorscale\":[[0.0,\"#0d0887\"],[0.1111111111111111,\"#46039f\"],[0.2222222222222222,\"#7201a8\"],[0.3333333333333333,\"#9c179e\"],[0.4444444444444444,\"#bd3786\"],[0.5555555555555556,\"#d8576b\"],[0.6666666666666666,\"#ed7953\"],[0.7777777777777778,\"#fb9f3a\"],[0.8888888888888888,\"#fdca26\"],[1.0,\"#f0f921\"]],\"type\":\"histogram2d\"}],\"histogram\":[{\"marker\":{\"pattern\":{\"fillmode\":\"overlay\",\"size\":10,\"solidity\":0.2}},\"type\":\"histogram\"}],\"mesh3d\":[{\"colorbar\":{\"outlinewidth\":0,\"ticks\":\"\"},\"type\":\"mesh3d\"}],\"parcoords\":[{\"line\":{\"colorbar\":{\"outlinewidth\":0,\"ticks\":\"\"}},\"type\":\"parcoords\"}],\"pie\":[{\"automargin\":true,\"type\":\"pie\"}],\"scatter3d\":[{\"line\":{\"colorbar\":{\"outlinewidth\":0,\"ticks\":\"\"}},\"marker\":{\"colorbar\":{\"outlinewidth\":0,\"ticks\":\"\"}},\"type\":\"scatter3d\"}],\"scattercarpet\":[{\"marker\":{\"colorbar\":{\"outlinewidth\":0,\"ticks\":\"\"}},\"type\":\"scattercarpet\"}],\"scattergeo\":[{\"marker\":{\"colorbar\":{\"outlinewidth\":0,\"ticks\":\"\"}},\"type\":\"scattergeo\"}],\"scattergl\":[{\"marker\":{\"colorbar\":{\"outlinewidth\":0,\"ticks\":\"\"}},\"type\":\"scattergl\"}],\"scattermapbox\":[{\"marker\":{\"colorbar\":{\"outlinewidth\":0,\"ticks\":\"\"}},\"type\":\"scattermapbox\"}],\"scatterpolargl\":[{\"marker\":{\"colorbar\":{\"outlinewidth\":0,\"ticks\":\"\"}},\"type\":\"scatterpolargl\"}],\"scatterpolar\":[{\"marker\":{\"colorbar\":{\"outlinewidth\":0,\"ticks\":\"\"}},\"type\":\"scatterpolar\"}],\"scatter\":[{\"fillpattern\":{\"fillmode\":\"overlay\",\"size\":10,\"solidity\":0.2},\"type\":\"scatter\"}],\"scatterternary\":[{\"marker\":{\"colorbar\":{\"outlinewidth\":0,\"ticks\":\"\"}},\"type\":\"scatterternary\"}],\"surface\":[{\"colorbar\":{\"outlinewidth\":0,\"ticks\":\"\"},\"colorscale\":[[0.0,\"#0d0887\"],[0.1111111111111111,\"#46039f\"],[0.2222222222222222,\"#7201a8\"],[0.3333333333333333,\"#9c179e\"],[0.4444444444444444,\"#bd3786\"],[0.5555555555555556,\"#d8576b\"],[0.6666666666666666,\"#ed7953\"],[0.7777777777777778,\"#fb9f3a\"],[0.8888888888888888,\"#fdca26\"],[1.0,\"#f0f921\"]],\"type\":\"surface\"}],\"table\":[{\"cells\":{\"fill\":{\"color\":\"#EBF0F8\"},\"line\":{\"color\":\"white\"}},\"header\":{\"fill\":{\"color\":\"#C8D4E3\"},\"line\":{\"color\":\"white\"}},\"type\":\"table\"}]},\"layout\":{\"annotationdefaults\":{\"arrowcolor\":\"#2a3f5f\",\"arrowhead\":0,\"arrowwidth\":1},\"autotypenumbers\":\"strict\",\"coloraxis\":{\"colorbar\":{\"outlinewidth\":0,\"ticks\":\"\"}},\"colorscale\":{\"diverging\":[[0,\"#8e0152\"],[0.1,\"#c51b7d\"],[0.2,\"#de77ae\"],[0.3,\"#f1b6da\"],[0.4,\"#fde0ef\"],[0.5,\"#f7f7f7\"],[0.6,\"#e6f5d0\"],[0.7,\"#b8e186\"],[0.8,\"#7fbc41\"],[0.9,\"#4d9221\"],[1,\"#276419\"]],\"sequential\":[[0.0,\"#0d0887\"],[0.1111111111111111,\"#46039f\"],[0.2222222222222222,\"#7201a8\"],[0.3333333333333333,\"#9c179e\"],[0.4444444444444444,\"#bd3786\"],[0.5555555555555556,\"#d8576b\"],[0.6666666666666666,\"#ed7953\"],[0.7777777777777778,\"#fb9f3a\"],[0.8888888888888888,\"#fdca26\"],[1.0,\"#f0f921\"]],\"sequentialminus\":[[0.0,\"#0d0887\"],[0.1111111111111111,\"#46039f\"],[0.2222222222222222,\"#7201a8\"],[0.3333333333333333,\"#9c179e\"],[0.4444444444444444,\"#bd3786\"],[0.5555555555555556,\"#d8576b\"],[0.6666666666666666,\"#ed7953\"],[0.7777777777777778,\"#fb9f3a\"],[0.8888888888888888,\"#fdca26\"],[1.0,\"#f0f921\"]]},\"colorway\":[\"#636efa\",\"#EF553B\",\"#00cc96\",\"#ab63fa\",\"#FFA15A\",\"#19d3f3\",\"#FF6692\",\"#B6E880\",\"#FF97FF\",\"#FECB52\"],\"font\":{\"color\":\"#2a3f5f\"},\"geo\":{\"bgcolor\":\"white\",\"lakecolor\":\"white\",\"landcolor\":\"white\",\"showlakes\":true,\"showland\":true,\"subunitcolor\":\"#C8D4E3\"},\"hoverlabel\":{\"align\":\"left\"},\"hovermode\":\"closest\",\"mapbox\":{\"style\":\"light\"},\"paper_bgcolor\":\"white\",\"plot_bgcolor\":\"white\",\"polar\":{\"angularaxis\":{\"gridcolor\":\"#EBF0F8\",\"linecolor\":\"#EBF0F8\",\"ticks\":\"\"},\"bgcolor\":\"white\",\"radialaxis\":{\"gridcolor\":\"#EBF0F8\",\"linecolor\":\"#EBF0F8\",\"ticks\":\"\"}},\"scene\":{\"xaxis\":{\"backgroundcolor\":\"white\",\"gridcolor\":\"#DFE8F3\",\"gridwidth\":2,\"linecolor\":\"#EBF0F8\",\"showbackground\":true,\"ticks\":\"\",\"zerolinecolor\":\"#EBF0F8\"},\"yaxis\":{\"backgroundcolor\":\"white\",\"gridcolor\":\"#DFE8F3\",\"gridwidth\":2,\"linecolor\":\"#EBF0F8\",\"showbackground\":true,\"ticks\":\"\",\"zerolinecolor\":\"#EBF0F8\"},\"zaxis\":{\"backgroundcolor\":\"white\",\"gridcolor\":\"#DFE8F3\",\"gridwidth\":2,\"linecolor\":\"#EBF0F8\",\"showbackground\":true,\"ticks\":\"\",\"zerolinecolor\":\"#EBF0F8\"}},\"shapedefaults\":{\"line\":{\"color\":\"#2a3f5f\"}},\"ternary\":{\"aaxis\":{\"gridcolor\":\"#DFE8F3\",\"linecolor\":\"#A2B1C6\",\"ticks\":\"\"},\"baxis\":{\"gridcolor\":\"#DFE8F3\",\"linecolor\":\"#A2B1C6\",\"ticks\":\"\"},\"bgcolor\":\"white\",\"caxis\":{\"gridcolor\":\"#DFE8F3\",\"linecolor\":\"#A2B1C6\",\"ticks\":\"\"}},\"title\":{\"x\":0.05},\"xaxis\":{\"automargin\":true,\"gridcolor\":\"#EBF0F8\",\"linecolor\":\"#EBF0F8\",\"ticks\":\"\",\"title\":{\"standoff\":15},\"zerolinecolor\":\"#EBF0F8\",\"zerolinewidth\":2},\"yaxis\":{\"automargin\":true,\"gridcolor\":\"#EBF0F8\",\"linecolor\":\"#EBF0F8\",\"ticks\":\"\",\"title\":{\"standoff\":15},\"zerolinecolor\":\"#EBF0F8\",\"zerolinewidth\":2}}},\"xaxis\":{\"anchor\":\"y\",\"domain\":[0.0,1.0],\"title\":{\"text\":\"Year\"}},\"yaxis\":{\"anchor\":\"x\",\"domain\":[0.0,1.0],\"title\":{\"text\":\"[MW]\"}},\"legend\":{\"title\":{\"text\":\"variable\"},\"tracegroupgap\":0},\"margin\":{\"t\":60},\"title\":{\"text\":\"Installed Capacity and Cumulative new Installs\"}},                        {\"responsive\": true}                    ).then(function(){\n",
       "                            \n",
       "var gd = document.getElementById('bacf3c09-a8bb-408d-8ffc-c20a18baaa29');\n",
       "var x = new MutationObserver(function (mutations, observer) {{\n",
       "        var display = window.getComputedStyle(gd).display;\n",
       "        if (!display || display === 'none') {{\n",
       "            console.log([gd, 'removed!']);\n",
       "            Plotly.purge(gd);\n",
       "            observer.disconnect();\n",
       "        }}\n",
       "}});\n",
       "\n",
       "// Listen for the removal of the full notebook cells\n",
       "var notebookContainer = gd.closest('#notebook-container');\n",
       "if (notebookContainer) {{\n",
       "    x.observe(notebookContainer, {childList: true});\n",
       "}}\n",
       "\n",
       "// Listen for the clearing of the current output cell\n",
       "var outputEl = gd.closest('.output');\n",
       "if (outputEl) {{\n",
       "    x.observe(outputEl, {childList: true});\n",
       "}}\n",
       "\n",
       "                        })                };                });            </script>        </div>"
      ]
     },
     "metadata": {},
     "output_type": "display_data"
    }
   ],
   "source": [
    "r1.plotMetricResults()"
   ]
  },
  {
   "cell_type": "code",
   "execution_count": null,
   "metadata": {},
   "outputs": [],
   "source": []
  }
 ],
 "metadata": {
  "kernelspec": {
   "display_name": "Python 3 (ipykernel)",
   "language": "python",
   "name": "python3"
  },
  "language_info": {
   "codemirror_mode": {
    "name": "ipython",
    "version": 3
   },
   "file_extension": ".py",
   "mimetype": "text/x-python",
   "name": "python",
   "nbconvert_exporter": "python",
   "pygments_lexer": "ipython3",
   "version": "3.11.4"
  }
 },
 "nbformat": 4,
 "nbformat_minor": 4
}
