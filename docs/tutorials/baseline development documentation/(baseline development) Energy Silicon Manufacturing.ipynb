{
 "cells": [
  {
   "cell_type": "markdown",
   "id": "0664c559",
   "metadata": {},
   "source": [
    "# Energy Requirements of Silicon Manufacturing"
   ]
  },
  {
   "cell_type": "markdown",
   "id": "88eef6cc",
   "metadata": {},
   "source": [
    "This journal creates a baseline for the energy required to manufacture silicon for PV applications. The processes covered here include silica to MG-Si, MG-Si to polysilicon (siemens and FBR), Cz ingot growth, wafering, and cell processing steps. \n",
    "\n"
   ]
  },
  {
   "cell_type": "code",
   "execution_count": 1,
   "id": "fe0ea01d",
   "metadata": {},
   "outputs": [],
   "source": [
    "import numpy as np\n",
    "import pandas as pd\n",
    "import os,sys\n",
    "import matplotlib.pyplot as plt\n",
    "plt.rcParams.update({'font.size': 18})\n",
    "plt.rcParams['figure.figsize'] = (10, 6)"
   ]
  },
  {
   "cell_type": "markdown",
   "id": "e2c3d11d",
   "metadata": {},
   "source": [
    "## Silica to MG-Si\n",
    "\n",
    "After mining cleaning the silica sand to sufficient purity (>95%), the silica sand is mixed with carboniferous materials and undergoes carbothermic reduction to extract the silicon. This is referred to as metallurgical grade silicon, or MG-Si. The carbothermic reduction is generally done in an arc furnace, frequently an electric arc furnace."
   ]
  },
  {
   "cell_type": "code",
   "execution_count": 2,
   "id": "00d18588",
   "metadata": {},
   "outputs": [],
   "source": [
    "cwd = os.getcwd() #grabs current working directory\n",
    "#skipcols = ['Source', 'Notes','Country']\n",
    "e_reducesilica_raw = pd.read_csv(cwd+\"/../../../PV_ICE/baselines/SupportingMaterial/energy-input-silicon-reduceSilicaSi.csv\",\n",
    "                                     index_col='year')#, usecols=lambda x: x not in skipcols)"
   ]
  },
  {
   "cell_type": "code",
   "execution_count": 3,
   "id": "9557c7a1",
   "metadata": {},
   "outputs": [
    {
     "data": {
      "text/html": [
       "<div>\n",
       "<style scoped>\n",
       "    .dataframe tbody tr th:only-of-type {\n",
       "        vertical-align: middle;\n",
       "    }\n",
       "\n",
       "    .dataframe tbody tr th {\n",
       "        vertical-align: top;\n",
       "    }\n",
       "\n",
       "    .dataframe thead th {\n",
       "        text-align: right;\n",
       "    }\n",
       "</style>\n",
       "<table border=\"1\" class=\"dataframe\">\n",
       "  <thead>\n",
       "    <tr style=\"text-align: right;\">\n",
       "      <th></th>\n",
       "      <th>E_reduce_SilicatoMGSi</th>\n",
       "      <th>Fuel_Prct</th>\n",
       "      <th>Source</th>\n",
       "      <th>Notes</th>\n",
       "    </tr>\n",
       "    <tr>\n",
       "      <th>year</th>\n",
       "      <th></th>\n",
       "      <th></th>\n",
       "      <th></th>\n",
       "      <th></th>\n",
       "    </tr>\n",
       "  </thead>\n",
       "  <tbody>\n",
       "    <tr>\n",
       "      <th>1990</th>\n",
       "      <td>51.34</td>\n",
       "      <td>22.0</td>\n",
       "      <td>G. J. M. Phylipsen and E. A. Alsema, “Environm...</td>\n",
       "      <td>electrical process, thermal, and GER of carbon...</td>\n",
       "    </tr>\n",
       "    <tr>\n",
       "      <th>1995</th>\n",
       "      <td>13.89</td>\n",
       "      <td>0.0</td>\n",
       "      <td>R. Dones and R. Frischknecht, “Life-cycle asse...</td>\n",
       "      <td>arc furnace</td>\n",
       "    </tr>\n",
       "    <tr>\n",
       "      <th>2004</th>\n",
       "      <td>11.00</td>\n",
       "      <td>0.0</td>\n",
       "      <td>N. Jungbluth, “Life cycle assessment of crysta...</td>\n",
       "      <td>NaN</td>\n",
       "    </tr>\n",
       "    <tr>\n",
       "      <th>2009</th>\n",
       "      <td>12.00</td>\n",
       "      <td>0.0</td>\n",
       "      <td>B. S. Xakalashe and M. Tangstad, “Silicon proc...</td>\n",
       "      <td>NaN</td>\n",
       "    </tr>\n",
       "    <tr>\n",
       "      <th>2016</th>\n",
       "      <td>27.00</td>\n",
       "      <td>56.0</td>\n",
       "      <td>Chen Z, Ma W, Wu J, Wei K, Yang X, Lv G, Xie K...</td>\n",
       "      <td>also used by Chen 2017, total energy in = elec...</td>\n",
       "    </tr>\n",
       "    <tr>\n",
       "      <th>2017</th>\n",
       "      <td>13.10</td>\n",
       "      <td>0.0</td>\n",
       "      <td>Chen Z, Ma W, Wei K, Wu J, Li S, Xie K, Lv G. ...</td>\n",
       "      <td>data from chinese arc furnace, 4 mo, median of...</td>\n",
       "    </tr>\n",
       "    <tr>\n",
       "      <th>2020</th>\n",
       "      <td>11.00</td>\n",
       "      <td>0.0</td>\n",
       "      <td>A. Müller, L. Friedrich, C. Reichel, S. Herceg...</td>\n",
       "      <td>SoSi, modified Seimens, from Ecoinvent3.7, Fth...</td>\n",
       "    </tr>\n",
       "    <tr>\n",
       "      <th>2022</th>\n",
       "      <td>17.40</td>\n",
       "      <td>37.0</td>\n",
       "      <td>S. M. Heidari and A. Anctil, “Country-specific...</td>\n",
       "      <td>uses Muller electricity as above from PVPS, in...</td>\n",
       "    </tr>\n",
       "  </tbody>\n",
       "</table>\n",
       "</div>"
      ],
      "text/plain": [
       "      E_reduce_SilicatoMGSi  Fuel_Prct  \\\n",
       "year                                     \n",
       "1990                  51.34       22.0   \n",
       "1995                  13.89        0.0   \n",
       "2004                  11.00        0.0   \n",
       "2009                  12.00        0.0   \n",
       "2016                  27.00       56.0   \n",
       "2017                  13.10        0.0   \n",
       "2020                  11.00        0.0   \n",
       "2022                  17.40       37.0   \n",
       "\n",
       "                                                 Source  \\\n",
       "year                                                      \n",
       "1990  G. J. M. Phylipsen and E. A. Alsema, “Environm...   \n",
       "1995  R. Dones and R. Frischknecht, “Life-cycle asse...   \n",
       "2004  N. Jungbluth, “Life cycle assessment of crysta...   \n",
       "2009  B. S. Xakalashe and M. Tangstad, “Silicon proc...   \n",
       "2016  Chen Z, Ma W, Wu J, Wei K, Yang X, Lv G, Xie K...   \n",
       "2017  Chen Z, Ma W, Wei K, Wu J, Li S, Xie K, Lv G. ...   \n",
       "2020  A. Müller, L. Friedrich, C. Reichel, S. Herceg...   \n",
       "2022  S. M. Heidari and A. Anctil, “Country-specific...   \n",
       "\n",
       "                                                  Notes  \n",
       "year                                                     \n",
       "1990  electrical process, thermal, and GER of carbon...  \n",
       "1995                                        arc furnace  \n",
       "2004                                                NaN  \n",
       "2009                                                NaN  \n",
       "2016  also used by Chen 2017, total energy in = elec...  \n",
       "2017  data from chinese arc furnace, 4 mo, median of...  \n",
       "2020  SoSi, modified Seimens, from Ecoinvent3.7, Fth...  \n",
       "2022  uses Muller electricity as above from PVPS, in...  "
      ]
     },
     "execution_count": 3,
     "metadata": {},
     "output_type": "execute_result"
    }
   ],
   "source": [
    "e_reducesilica_raw.dropna(how='all')"
   ]
  },
  {
   "cell_type": "code",
   "execution_count": 4,
   "id": "b5d54efc",
   "metadata": {},
   "outputs": [
    {
     "data": {
      "text/plain": [
       "Text(0, 0.5, '[kWh/kg]')"
      ]
     },
     "execution_count": 4,
     "metadata": {},
     "output_type": "execute_result"
    },
    {
     "data": {
      "image/png": "[encoded data removed]",
      "text/plain": [
       "<Figure size 720x432 with 1 Axes>"
      ]
     },
     "metadata": {
      "needs_background": "light"
     },
     "output_type": "display_data"
    }
   ],
   "source": [
    "plt.scatter(e_reducesilica_raw.index,e_reducesilica_raw.iloc[:,0])\n",
    "plt.title('Energy: Silica Reduction')\n",
    "plt.ylabel('[kWh/kg]')"
   ]
  },
  {
   "cell_type": "markdown",
   "id": "afeee2a9",
   "metadata": {},
   "source": [
    "Two of the energy points are higher than the others, 1990 from Phylipsen and Alsema, and 2016 from Chen et al. From Phylipsen and Alsema, the note explains that 51.34 kWh/kg is the sum of direct process energy (13 kWh/kg) and the primary energy demand of the carbon inputs+carbon electrodes (11.4kWh/kg). Similarly, Chen et al 2016 has 27 kWh/kg as the sum of electricity plus carbon inputs+carbon electrodes. Our current method is to capture only the electricity or thermal process energy (natural gas/methane) in the energy flows. \n",
    "\n",
    "The final datapoint from Heidari and Anctil also includes electricity plus carbon; they use the 2020 Muller/PVPS electricity value of 11 kWh/kg.\n",
    "\n",
    "Therefore, we will adjust the values for these sections down to just the electricity numbers."
   ]
  },
  {
   "cell_type": "code",
   "execution_count": 5,
   "id": "9ea1668d",
   "metadata": {},
   "outputs": [],
   "source": [
    "e_reducesilica_raw.loc[1990,['E_reduce_SilicatoMGSi']] = 13.0 #Phylipsen Alsema\n",
    "e_reducesilica_raw.loc[2016,['E_reduce_SilicatoMGSi']] = 12.0 #Chen Fig. 2\n",
    "e_reducesilica_raw.loc[2022,['E_reduce_SilicatoMGSi']] = 11.0 #Heidari Anctil"
   ]
  },
  {
   "cell_type": "code",
   "execution_count": 6,
   "id": "c826a129",
   "metadata": {},
   "outputs": [
    {
     "data": {
      "text/plain": [
       "Text(0, 0.5, '[kWh/kg]')"
      ]
     },
     "execution_count": 6,
     "metadata": {},
     "output_type": "execute_result"
    },
    {
     "data": {
      "image/png": "[encoded data removed]",
      "text/plain": [
       "<Figure size 720x432 with 1 Axes>"
      ]
     },
     "metadata": {
      "needs_background": "light"
     },
     "output_type": "display_data"
    }
   ],
   "source": [
    "plt.scatter(e_reducesilica_raw.index,e_reducesilica_raw.iloc[:,0])\n",
    "plt.title('Energy: Silica Reduction')\n",
    "plt.ylabel('[kWh/kg]')"
   ]
  },
  {
   "cell_type": "markdown",
   "id": "0c23c4a5",
   "metadata": {},
   "source": [
    "Literature values for electric arc furnaces range from 11-13 kWh/kg of MG-Si. Chen et al 2017 notes that while electric arc furnaces in EU countries have energy demands around 11 kWh/kg, Chinese arc furnaces average around 13.1 kWh/kg. The marketshare of Chinese MG-Si has increased in the last decade, as documented in Heidari and Anctil 2022 (derived from USGS 2020, Figure 3.D) between 2005 and 2018.\n",
    "\n",
    "Pre 2005, we will do a linear interpolation between 1990 values and 2005 values.\n",
    "\n",
    "2005-2018, we will do a marketshare weighting of RoW = 11 kWh/kg and China = 13 kWh/kg.\n",
    "\n",
    "2018 through 2030, we will do a linear interpolation down to 11 kWh/kg, assuming continued improvement."
   ]
  },
  {
   "cell_type": "code",
   "execution_count": 7,
   "id": "3da56088",
   "metadata": {
    "scrolled": true
   },
   "outputs": [],
   "source": [
    "#Pre-2005\n",
    "#take average of pre 2005 value\n",
    "e_reducesilica = pd.DataFrame(columns=['E_reduceSilicatoMGSi'], index=range(1990,2005))\n",
    "e_reducesilica.index.name='year'\n",
    "e_reducesilica.loc[1990,['E_reduceSilicatoMGSi']] = e_reducesilica_raw.loc[:1995,['E_reduce_SilicatoMGSi']].dropna(how='all').mean().iloc[0]\n",
    "#e_reducesilica"
   ]
  },
  {
   "cell_type": "code",
   "execution_count": 8,
   "id": "61c1b061",
   "metadata": {
    "scrolled": true
   },
   "outputs": [],
   "source": [
    "#2005-2018\n",
    "mrktshr_mgsi_region = pd.read_csv(cwd+\"/../../../PV_ICE/baselines/SupportingMaterial/energy-input-silicon-marketshareMGSiProdRegion.csv\", index_col='year')\n",
    "mrktshr_mgsi_region['MarketShare_RoW_MGSi'] = 1.0-mrktshr_mgsi_region['MarketShare_Chinese_MGSi']\n",
    "mrktshr_mgsi_region['MarketShare_Chinese_MGSi']*=13 #multiply by kWh/kg China\n",
    "mrktshr_mgsi_region['MarketShare_RoW_MGSi']*=11 #multiply by kWh/kg RoW\n",
    "wtd_mrktshr_mgsi_region = pd.DataFrame(mrktshr_mgsi_region.sum(axis=1)) #sum weighted kWh/kg, is a series\n",
    "wtd_mrktshr_mgsi_region.columns=['E_reduceSilicatoMGSi'] #rename for merge/join\n",
    "#wtd_mrktshr_mgsi_region"
   ]
  },
  {
   "cell_type": "code",
   "execution_count": 9,
   "id": "a79e3984",
   "metadata": {
    "scrolled": true
   },
   "outputs": [],
   "source": [
    "#2018-2030, linear decrease to 11 kWh/kg in 2030\n",
    "e_reducesilica_end = pd.DataFrame(columns=['E_reduceSilicatoMGSi'], index=range(2019,2031))\n",
    "e_reducesilica_end.index.name='year'\n",
    "e_reducesilica_end.loc[2030,['E_reduceSilicatoMGSi']] = 11\n",
    "#e_reducesilica_end"
   ]
  },
  {
   "cell_type": "code",
   "execution_count": 10,
   "id": "4a796db7",
   "metadata": {
    "scrolled": true
   },
   "outputs": [],
   "source": [
    "#join all together\n",
    "e_reducesilica_gappy = pd.concat([e_reducesilica,wtd_mrktshr_mgsi_region,e_reducesilica_end])"
   ]
  },
  {
   "cell_type": "code",
   "execution_count": 11,
   "id": "2e3efeea",
   "metadata": {},
   "outputs": [],
   "source": [
    "e_reducesilica_gaps = e_reducesilica_gappy.astype(float) #for some reason this was objects?!\n",
    "e_reducesilica_full = e_reducesilica_gaps.interpolate() #linearly interpolate between points\n",
    "e_reducesilica_trim = e_reducesilica_full.loc[1995:,['E_reduceSilicatoMGSi']] #trim to 1995-2030"
   ]
  },
  {
   "cell_type": "code",
   "execution_count": 12,
   "id": "ab968f46",
   "metadata": {
    "scrolled": false
   },
   "outputs": [
    {
     "data": {
      "text/plain": [
       "Text(0, 0.5, 'Electricity Demand [kWh/kg]')"
      ]
     },
     "execution_count": 12,
     "metadata": {},
     "output_type": "execute_result"
    },
    {
     "data": {
      "image/png": "[encoded data removed]",
      "text/plain": [
       "<Figure size 720x432 with 1 Axes>"
      ]
     },
     "metadata": {
      "needs_background": "light"
     },
     "output_type": "display_data"
    }
   ],
   "source": [
    "plt.plot(e_reducesilica_trim)\n",
    "plt.title('Electricity to reduce silica to MG-Si')\n",
    "plt.ylabel('Electricity Demand [kWh/kg]')"
   ]
  },
  {
   "cell_type": "markdown",
   "id": "24175338",
   "metadata": {},
   "source": [
    "## Refine MG-Si to Solar or Electrical Grade polysilicon\n",
    "\n",
    "The next step in crystalline silicon PV cell manufacturing is purifying or refining the metallurgical grade silicon to solar or electronic grade polysilicon. Currently this is primarily done through the Seimens process, which entails conversion through trichlorosilane:\n",
    "\n",
    "    Si(s) + 3HCl = HSiCl3 + H2        (26)  followed by HSiCl3 + 3H = Si + 3HCl\n",
    "    This reaction occurs at 350°C normally without a catalyst. A competing reaction is \n",
    "    Si(s) + 4HCl = SiCl4 + 2H2        (27) \n",
    "    contributing to the formation of unsuitable tetrachlorosilane in molar proportion of 10 to 20%.\"\n",
    "    \"for  each  mole  of  Si  converted  to  polysilicon,  3  to  4  moles  are  converted  to SiCl4,\"\n",
    "    \"The present market of fumed silica is about 60 000 MT measured in terms of silicon unit. This presently corresponds to three times the  output  of  polysilicon  in  2000.\"\n",
    "\tA. CIFTJA, “Refining and Recycling of Silicon: A Review,” NORWEGIAN UNIVERSITY OF SCIENCE AND TECHNOLOGY, Feb. 2008.\n",
    "\n",
    "Here we will combine the steps of MG-Si to Trichlorosilane and trichlorosilane to polysilicon electricity demands. Please note these are electricity demands, not total ENERGY demands.\n",
    "\n",
    "We will create energy values for both the Siemens process and the FBR process as options for user."
   ]
  },
  {
   "cell_type": "code",
   "execution_count": 13,
   "id": "0705cbd1",
   "metadata": {},
   "outputs": [],
   "source": [
    "#skipcols = ['Source', 'Notes','Country']\n",
    "e_refinesilicon_raw = pd.read_csv(cwd+\"/../../../PV_ICE/baselines/SupportingMaterial/energy-input-silicon-refineMGtoSo.csv\",\n",
    "                                     index_col='year')#, usecols=lambda x: x not in skipcols)"
   ]
  },
  {
   "cell_type": "code",
   "execution_count": 14,
   "id": "f8de6545",
   "metadata": {},
   "outputs": [],
   "source": [
    "#split siemens and fbr dataframes\n",
    "e_refineSi_siemens = e_refinesilicon_raw.iloc[:,0:2]\n",
    "e_refineSi_fbr = e_refinesilicon_raw.iloc[:,3:5]"
   ]
  },
  {
   "cell_type": "markdown",
   "id": "1c9105cd",
   "metadata": {},
   "source": [
    "### Siemens"
   ]
  },
  {
   "cell_type": "code",
   "execution_count": 15,
   "id": "0fd7ccb6",
   "metadata": {
    "scrolled": false
   },
   "outputs": [
    {
     "data": {
      "text/html": [
       "<div>\n",
       "<style scoped>\n",
       "    .dataframe tbody tr th:only-of-type {\n",
       "        vertical-align: middle;\n",
       "    }\n",
       "\n",
       "    .dataframe tbody tr th {\n",
       "        vertical-align: top;\n",
       "    }\n",
       "\n",
       "    .dataframe thead th {\n",
       "        text-align: right;\n",
       "    }\n",
       "</style>\n",
       "<table border=\"1\" class=\"dataframe\">\n",
       "  <thead>\n",
       "    <tr style=\"text-align: right;\">\n",
       "      <th></th>\n",
       "      <th>ErefineSiemens kWh/kg</th>\n",
       "      <th>Source</th>\n",
       "    </tr>\n",
       "    <tr>\n",
       "      <th>year</th>\n",
       "      <th></th>\n",
       "      <th></th>\n",
       "    </tr>\n",
       "  </thead>\n",
       "  <tbody>\n",
       "    <tr>\n",
       "      <th>1990</th>\n",
       "      <td>215.0</td>\n",
       "      <td>G. J. M. Phylipsen and E. A. Alsema, “Environm...</td>\n",
       "    </tr>\n",
       "    <tr>\n",
       "      <th>1995</th>\n",
       "      <td>129.0</td>\n",
       "      <td>R. Dones and R. Frischknecht, “Life-cycle asse...</td>\n",
       "    </tr>\n",
       "    <tr>\n",
       "      <th>1996</th>\n",
       "      <td>305.0</td>\n",
       "      <td>E. D. Williams, R. U. Ayres, and M. Heller, “T...</td>\n",
       "    </tr>\n",
       "    <tr>\n",
       "      <th>1997</th>\n",
       "      <td>120.0</td>\n",
       "      <td>K. Kato, A. Murata, and K. Sakuta, “Energy pay...</td>\n",
       "    </tr>\n",
       "    <tr>\n",
       "      <th>1998</th>\n",
       "      <td>100.0</td>\n",
       "      <td>B. S. Xakalashe and M. Tangstad, “Silicon proc...</td>\n",
       "    </tr>\n",
       "    <tr>\n",
       "      <th>2004</th>\n",
       "      <td>114.0</td>\n",
       "      <td>N. Jungbluth, “Life cycle assessment of crysta...</td>\n",
       "    </tr>\n",
       "    <tr>\n",
       "      <th>2005</th>\n",
       "      <td>110.0</td>\n",
       "      <td>M. de Wild-Scholten and E. A. Alsema, “Environ...</td>\n",
       "    </tr>\n",
       "    <tr>\n",
       "      <th>2006</th>\n",
       "      <td>110.0</td>\n",
       "      <td>E. Alsema and M. de Wild-Scholten, “Reduction ...</td>\n",
       "    </tr>\n",
       "    <tr>\n",
       "      <th>2007</th>\n",
       "      <td>110.0</td>\n",
       "      <td>E. Bracquene, J. R. Peeters, W. Dewulf, and J....</td>\n",
       "    </tr>\n",
       "    <tr>\n",
       "      <th>2008</th>\n",
       "      <td>120.0</td>\n",
       "      <td>A. F. B. Braga, S. P. Moreira, P. R. Zampieri,...</td>\n",
       "    </tr>\n",
       "    <tr>\n",
       "      <th>2010</th>\n",
       "      <td>80.0</td>\n",
       "      <td>“Survey Report of Selected IEA Countries betwe...</td>\n",
       "    </tr>\n",
       "    <tr>\n",
       "      <th>2014</th>\n",
       "      <td>65.0</td>\n",
       "      <td>R. Fu, T. L. James, and M. Woodhouse, “Economi...</td>\n",
       "    </tr>\n",
       "    <tr>\n",
       "      <th>2015</th>\n",
       "      <td>55.0</td>\n",
       "      <td>“Survey Report of Selected IEA Countries betwe...</td>\n",
       "    </tr>\n",
       "    <tr>\n",
       "      <th>2017</th>\n",
       "      <td>73.0</td>\n",
       "      <td>“Trends in Photovoltaic Applications 2019,” IE...</td>\n",
       "    </tr>\n",
       "    <tr>\n",
       "      <th>2018</th>\n",
       "      <td>71.0</td>\n",
       "      <td>“Trends in Photovoltaic Applications 2019,” IE...</td>\n",
       "    </tr>\n",
       "    <tr>\n",
       "      <th>2019</th>\n",
       "      <td>72.0</td>\n",
       "      <td>A. Müller, L. Friedrich, C. Reichel, S. Herceg...</td>\n",
       "    </tr>\n",
       "    <tr>\n",
       "      <th>2020</th>\n",
       "      <td>66.5</td>\n",
       "      <td>G. Masson and I. Kaizuka, “Trends in Photovolt...</td>\n",
       "    </tr>\n",
       "  </tbody>\n",
       "</table>\n",
       "</div>"
      ],
      "text/plain": [
       "      ErefineSiemens kWh/kg                                             Source\n",
       "year                                                                          \n",
       "1990                  215.0  G. J. M. Phylipsen and E. A. Alsema, “Environm...\n",
       "1995                  129.0  R. Dones and R. Frischknecht, “Life-cycle asse...\n",
       "1996                  305.0  E. D. Williams, R. U. Ayres, and M. Heller, “T...\n",
       "1997                  120.0  K. Kato, A. Murata, and K. Sakuta, “Energy pay...\n",
       "1998                  100.0  B. S. Xakalashe and M. Tangstad, “Silicon proc...\n",
       "2004                  114.0  N. Jungbluth, “Life cycle assessment of crysta...\n",
       "2005                  110.0  M. de Wild-Scholten and E. A. Alsema, “Environ...\n",
       "2006                  110.0  E. Alsema and M. de Wild-Scholten, “Reduction ...\n",
       "2007                  110.0  E. Bracquene, J. R. Peeters, W. Dewulf, and J....\n",
       "2008                  120.0  A. F. B. Braga, S. P. Moreira, P. R. Zampieri,...\n",
       "2010                   80.0  “Survey Report of Selected IEA Countries betwe...\n",
       "2014                   65.0  R. Fu, T. L. James, and M. Woodhouse, “Economi...\n",
       "2015                   55.0  “Survey Report of Selected IEA Countries betwe...\n",
       "2017                   73.0  “Trends in Photovoltaic Applications 2019,” IE...\n",
       "2018                   71.0  “Trends in Photovoltaic Applications 2019,” IE...\n",
       "2019                   72.0  A. Müller, L. Friedrich, C. Reichel, S. Herceg...\n",
       "2020                   66.5  G. Masson and I. Kaizuka, “Trends in Photovolt..."
      ]
     },
     "execution_count": 15,
     "metadata": {},
     "output_type": "execute_result"
    }
   ],
   "source": [
    "e_refineSi_siemens.dropna(how='all')"
   ]
  },
  {
   "cell_type": "code",
   "execution_count": 16,
   "id": "77c6742d",
   "metadata": {},
   "outputs": [
    {
     "data": {
      "text/plain": [
       "Text(0, 0.5, '[kWh/kg]')"
      ]
     },
     "execution_count": 16,
     "metadata": {},
     "output_type": "execute_result"
    },
    {
     "data": {
      "image/png": "[encoded data removed]",
      "text/plain": [
       "<Figure size 720x432 with 1 Axes>"
      ]
     },
     "metadata": {
      "needs_background": "light"
     },
     "output_type": "display_data"
    }
   ],
   "source": [
    "plt.scatter(e_refineSi_siemens.index,e_refineSi_siemens.iloc[:,0])\n",
    "plt.title('Electricity: Siemens Process')\n",
    "plt.ylabel('[kWh/kg]')"
   ]
  },
  {
   "cell_type": "markdown",
   "id": "6e2caf45",
   "metadata": {},
   "source": [
    "Starting with the major outlier in 1996 from Williams et al 2002. This data point is the sum of 250 and 50 from Table 3, and the data is sourced from 3 citations ranging from 1990 through 1998. It is noted that this is the electrical energy for the two Siemens steps. Handbook from 1990 has the 250, 305 enegries but these are for small reactors, Takegoshi 1996 is unavailable, Tsuo et al 1998 state \"about 250 kWh/kg\" number with no citation.  Therefore we will exclude Williams et al. "
   ]
  },
  {
   "cell_type": "code",
   "execution_count": 17,
   "id": "86055d9d",
   "metadata": {},
   "outputs": [],
   "source": [
    "e_refineSi_siemens.loc[1996] = np.nan #removing Williams et al."
   ]
  },
  {
   "cell_type": "code",
   "execution_count": 18,
   "id": "95baa309",
   "metadata": {},
   "outputs": [
    {
     "data": {
      "text/plain": [
       "Text(0, 0.5, '[kWh/kg]')"
      ]
     },
     "execution_count": 18,
     "metadata": {},
     "output_type": "execute_result"
    },
    {
     "data": {
      "image/png": "[encoded data removed]",
      "text/plain": [
       "<Figure size 720x432 with 1 Axes>"
      ]
     },
     "metadata": {
      "needs_background": "light"
     },
     "output_type": "display_data"
    }
   ],
   "source": [
    "plt.scatter(e_refineSi_siemens.index, e_refineSi_siemens.iloc[:,0])\n",
    "plt.title('Electricity: Siemens Process')\n",
    "plt.ylabel('[kWh/kg]')"
   ]
  },
  {
   "cell_type": "markdown",
   "id": "8e63f5dc",
   "metadata": {},
   "source": [
    "There is noise, but generally there is an observable downward trend. Rather than curve fitting and being wrong all the time, I will manually remove points that cause upward or downward jumps, and interpolate based on the remaining data points. This is not a perfect solution, but should provide a decent approximation to reality."
   ]
  },
  {
   "cell_type": "code",
   "execution_count": 19,
   "id": "7d2217dc",
   "metadata": {
    "scrolled": false
   },
   "outputs": [
    {
     "data": {
      "text/plain": [
       "(1989.0, 2021.0)"
      ]
     },
     "execution_count": 19,
     "metadata": {},
     "output_type": "execute_result"
    },
    {
     "data": {
      "image/png": "[encoded data removed]",
      "text/plain": [
       "<Figure size 720x432 with 1 Axes>"
      ]
     },
     "metadata": {
      "needs_background": "light"
     },
     "output_type": "display_data"
    }
   ],
   "source": [
    "e_refineSi_siemens_manual = e_refineSi_siemens.copy()\n",
    "e_refineSi_siemens_manual.loc[1998] = np.nan #removing bumps\n",
    "e_refineSi_siemens_manual.loc[2008] = np.nan #removing bumps\n",
    "e_refineSi_siemens_manual.loc[2014] = np.nan #removing bumps\n",
    "e_refineSi_siemens_manual.loc[2015] = np.nan #removing bumps\n",
    "\n",
    "e_refineSi_siemens_manual=e_refineSi_siemens_manual.interpolate()\n",
    "\n",
    "plt.plot(e_refineSi_siemens_manual.index, e_refineSi_siemens_manual.iloc[:,0])\n",
    "plt.scatter(e_refineSi_siemens.index, e_refineSi_siemens.iloc[:,0], marker='^', color='black')\n",
    "\n",
    "plt.title('Electricity: Siemens Process')\n",
    "plt.ylabel('[kWh/kg]')\n",
    "plt.xlim(1989,2021)"
   ]
  },
  {
   "cell_type": "markdown",
   "id": "38e05255",
   "metadata": {},
   "source": [
    "### FBR"
   ]
  },
  {
   "cell_type": "code",
   "execution_count": 20,
   "id": "8bfb45e9",
   "metadata": {},
   "outputs": [
    {
     "data": {
      "text/html": [
       "<div>\n",
       "<style scoped>\n",
       "    .dataframe tbody tr th:only-of-type {\n",
       "        vertical-align: middle;\n",
       "    }\n",
       "\n",
       "    .dataframe tbody tr th {\n",
       "        vertical-align: top;\n",
       "    }\n",
       "\n",
       "    .dataframe thead th {\n",
       "        text-align: right;\n",
       "    }\n",
       "</style>\n",
       "<table border=\"1\" class=\"dataframe\">\n",
       "  <thead>\n",
       "    <tr style=\"text-align: right;\">\n",
       "      <th></th>\n",
       "      <th>ErefineFBR kWh/kg</th>\n",
       "      <th>Source.1</th>\n",
       "    </tr>\n",
       "    <tr>\n",
       "      <th>year</th>\n",
       "      <th></th>\n",
       "      <th></th>\n",
       "    </tr>\n",
       "  </thead>\n",
       "  <tbody>\n",
       "    <tr>\n",
       "      <th>1990</th>\n",
       "      <td>108.0</td>\n",
       "      <td>G. J. M. Phylipsen and E. A. Alsema, “Environm...</td>\n",
       "    </tr>\n",
       "    <tr>\n",
       "      <th>2006</th>\n",
       "      <td>30.0</td>\n",
       "      <td>E. Alsema and M. de Wild-Scholten, “Reduction ...</td>\n",
       "    </tr>\n",
       "    <tr>\n",
       "      <th>2018</th>\n",
       "      <td>33.0</td>\n",
       "      <td>“Trends in Photovoltaic Applications 2019,” IE...</td>\n",
       "    </tr>\n",
       "  </tbody>\n",
       "</table>\n",
       "</div>"
      ],
      "text/plain": [
       "      ErefineFBR kWh/kg                                           Source.1\n",
       "year                                                                      \n",
       "1990              108.0  G. J. M. Phylipsen and E. A. Alsema, “Environm...\n",
       "2006               30.0  E. Alsema and M. de Wild-Scholten, “Reduction ...\n",
       "2018               33.0  “Trends in Photovoltaic Applications 2019,” IE..."
      ]
     },
     "execution_count": 20,
     "metadata": {},
     "output_type": "execute_result"
    }
   ],
   "source": [
    "e_refineSi_fbr.dropna(how='all')"
   ]
  },
  {
   "cell_type": "markdown",
   "id": "39f95d50",
   "metadata": {},
   "source": [
    "## Ingot growth\n",
    "\n",
    "The next step in manufacturing silicon PV is ingot growth. There are two primary methods of ingot growth in the PV industry over it's history; multi-crystalline silicon and monocrystalline silicon. Initially, all PV was monocrystalline, then Multicrystalline silicon ingots were the dominent market share for most of a decade, and currently monocrystalline is making a resurgence to market dominence. We will cover the energy associated with both processes here, and weight the historical energy demand by the marketshare of these two technologies."
   ]
  },
  {
   "cell_type": "code",
   "execution_count": 21,
   "id": "fe1a7bc7",
   "metadata": {},
   "outputs": [],
   "source": [
    "pvice_mcSimono_marketshare = pd.read_csv(cwd+\"/../../../PV_ICE/baselines/SupportingMaterial/output_scaledmrktshr_mcSi_mono.csv\",\n",
    "                                     index_col='Year')\n",
    "e_ingotenergy_raw = pd.read_csv(cwd+\"/../../../PV_ICE/baselines/SupportingMaterial/energy-input-silicon-ingotgrowing.csv\",\n",
    "                                     index_col='year')"
   ]
  },
  {
   "cell_type": "markdown",
   "id": "3bc6a8e0",
   "metadata": {},
   "source": [
    "### Multi-crystalline Silicon\n",
    "\n",
    "mc-Si is created through putting chunked polysilicon into a large block, heating and casting into a single large block. This process results in many crystallographic grains within the block, which slightly reduces the efficiency of the cell, but is cheap. "
   ]
  },
  {
   "cell_type": "code",
   "execution_count": 22,
   "id": "b52afc49",
   "metadata": {},
   "outputs": [
    {
     "data": {
      "text/html": [
       "<div>\n",
       "<style scoped>\n",
       "    .dataframe tbody tr th:only-of-type {\n",
       "        vertical-align: middle;\n",
       "    }\n",
       "\n",
       "    .dataframe tbody tr th {\n",
       "        vertical-align: top;\n",
       "    }\n",
       "\n",
       "    .dataframe thead th {\n",
       "        text-align: right;\n",
       "    }\n",
       "</style>\n",
       "<table border=\"1\" class=\"dataframe\">\n",
       "  <thead>\n",
       "    <tr style=\"text-align: right;\">\n",
       "      <th></th>\n",
       "      <th>E_mcSiCast_kWhpkg</th>\n",
       "      <th>Source.1</th>\n",
       "      <th>Notes.1</th>\n",
       "    </tr>\n",
       "    <tr>\n",
       "      <th>year</th>\n",
       "      <th></th>\n",
       "      <th></th>\n",
       "      <th></th>\n",
       "    </tr>\n",
       "  </thead>\n",
       "  <tbody>\n",
       "    <tr>\n",
       "      <th>1990</th>\n",
       "      <td>10.50</td>\n",
       "      <td>G. J. M. Phylipsen and E. A. Alsema, “Environm...</td>\n",
       "      <td>Crystalox Ltd 1525 kWh of electricity for a 14...</td>\n",
       "    </tr>\n",
       "    <tr>\n",
       "      <th>2011</th>\n",
       "      <td>15.50</td>\n",
       "      <td>M. J. (Mariska) de Wild-Scholten, “Energy payb...</td>\n",
       "      <td>NaN</td>\n",
       "    </tr>\n",
       "    <tr>\n",
       "      <th>2015</th>\n",
       "      <td>15.50</td>\n",
       "      <td>V. Fthenakis and E. Leccisi, “Updated sustaina...</td>\n",
       "      <td>NaN</td>\n",
       "    </tr>\n",
       "    <tr>\n",
       "      <th>2016</th>\n",
       "      <td>40.95</td>\n",
       "      <td>M. Fan, Z. Yu, W. Ma, and L. Li, “Life Cycle A...</td>\n",
       "      <td>factory survey, includes ingot and wafering</td>\n",
       "    </tr>\n",
       "    <tr>\n",
       "      <th>2017</th>\n",
       "      <td>6.50</td>\n",
       "      <td>ITRPV 2019, Fig 19</td>\n",
       "      <td>NaN</td>\n",
       "    </tr>\n",
       "    <tr>\n",
       "      <th>2018</th>\n",
       "      <td>34.00</td>\n",
       "      <td>M. A. Woodhouse, B. Smith, A. Ramdas, and R. M...</td>\n",
       "      <td>wafer = 156.75mm x 180 micron, energy includes...</td>\n",
       "    </tr>\n",
       "    <tr>\n",
       "      <th>2019</th>\n",
       "      <td>7.00</td>\n",
       "      <td>ITRPV 2020, Fig. 6</td>\n",
       "      <td>NaN</td>\n",
       "    </tr>\n",
       "  </tbody>\n",
       "</table>\n",
       "</div>"
      ],
      "text/plain": [
       "      E_mcSiCast_kWhpkg                                           Source.1  \\\n",
       "year                                                                         \n",
       "1990              10.50  G. J. M. Phylipsen and E. A. Alsema, “Environm...   \n",
       "2011              15.50  M. J. (Mariska) de Wild-Scholten, “Energy payb...   \n",
       "2015              15.50  V. Fthenakis and E. Leccisi, “Updated sustaina...   \n",
       "2016              40.95  M. Fan, Z. Yu, W. Ma, and L. Li, “Life Cycle A...   \n",
       "2017               6.50                                 ITRPV 2019, Fig 19   \n",
       "2018              34.00  M. A. Woodhouse, B. Smith, A. Ramdas, and R. M...   \n",
       "2019               7.00                                 ITRPV 2020, Fig. 6   \n",
       "\n",
       "                                                Notes.1  \n",
       "year                                                     \n",
       "1990  Crystalox Ltd 1525 kWh of electricity for a 14...  \n",
       "2011                                                NaN  \n",
       "2015                                                NaN  \n",
       "2016        factory survey, includes ingot and wafering  \n",
       "2017                                                NaN  \n",
       "2018  wafer = 156.75mm x 180 micron, energy includes...  \n",
       "2019                                                NaN  "
      ]
     },
     "execution_count": 22,
     "metadata": {},
     "output_type": "execute_result"
    }
   ],
   "source": [
    "e_casting_raw = e_ingotenergy_raw.iloc[:,3:6]\n",
    "e_casting_raw.dropna(how='all')"
   ]
  },
  {
   "cell_type": "code",
   "execution_count": 23,
   "id": "2243c0c2",
   "metadata": {},
   "outputs": [
    {
     "data": {
      "text/plain": [
       "<matplotlib.collections.PathCollection at 0x255ca9c16d0>"
      ]
     },
     "execution_count": 23,
     "metadata": {},
     "output_type": "execute_result"
    },
    {
     "data": {
      "image/png": "[encoded data removed]",
      "text/plain": [
       "<Figure size 720x432 with 1 Axes>"
      ]
     },
     "metadata": {
      "needs_background": "light"
     },
     "output_type": "display_data"
    }
   ],
   "source": [
    "plt.scatter(e_casting_raw.index, e_casting_raw['E_mcSiCast_kWhpkg'])"
   ]
  },
  {
   "cell_type": "markdown",
   "id": "bd3dca05",
   "metadata": {},
   "source": [
    "The two high outliers are Fan et al and Woodhouse et al. Both of these datapoint include the wafering, which we prefer to calculate separately, therefore we will drop these two points, and use them later as a check that our energy demands are lining up.\n",
    "\n",
    "Next the energy seems to step up and then down over time. This is potenially real due the increasing size of blocks over time."
   ]
  },
  {
   "cell_type": "code",
   "execution_count": 24,
   "id": "616f8406",
   "metadata": {},
   "outputs": [],
   "source": [
    "e_casting_manual = e_casting_raw.copy()\n",
    "e_casting_manual.loc[2016] = np.nan #drop Fan et al\n",
    "e_casting_manual.loc[2018] = np.nan # drop Woodhouse et al"
   ]
  },
  {
   "cell_type": "code",
   "execution_count": null,
   "id": "7d9d9df0",
   "metadata": {},
   "outputs": [],
   "source": []
  },
  {
   "cell_type": "markdown",
   "id": "af3721db",
   "metadata": {},
   "source": [
    "### Mono-crystalline Silicon\n",
    "\n",
    "mono-Si is created through the Czochralski process, in which a seed crystal is rotated and drawn away from a vat of molten silicon, growing a large boule. This results in the whole boule/ingot being oriented in one crystallographic direction, which increases the cell efficiency, but is time consuming and expensive."
   ]
  },
  {
   "cell_type": "code",
   "execution_count": 25,
   "id": "4f410489",
   "metadata": {},
   "outputs": [
    {
     "data": {
      "text/html": [
       "<div>\n",
       "<style scoped>\n",
       "    .dataframe tbody tr th:only-of-type {\n",
       "        vertical-align: middle;\n",
       "    }\n",
       "\n",
       "    .dataframe tbody tr th {\n",
       "        vertical-align: top;\n",
       "    }\n",
       "\n",
       "    .dataframe thead th {\n",
       "        text-align: right;\n",
       "    }\n",
       "</style>\n",
       "<table border=\"1\" class=\"dataframe\">\n",
       "  <thead>\n",
       "    <tr style=\"text-align: right;\">\n",
       "      <th></th>\n",
       "      <th>E_Cz_kWhpkg</th>\n",
       "      <th>Source</th>\n",
       "      <th>Notes</th>\n",
       "    </tr>\n",
       "    <tr>\n",
       "      <th>year</th>\n",
       "      <th></th>\n",
       "      <th></th>\n",
       "      <th></th>\n",
       "    </tr>\n",
       "  </thead>\n",
       "  <tbody>\n",
       "    <tr>\n",
       "      <th>1990</th>\n",
       "      <td>NaN</td>\n",
       "      <td>NaN</td>\n",
       "      <td>Make sure to account for BOULE of Si, not \"ing...</td>\n",
       "    </tr>\n",
       "    <tr>\n",
       "      <th>1994</th>\n",
       "      <td>385.0</td>\n",
       "      <td>K. Kaneko, R. Kawamura, and T. Misawa, “Presen...</td>\n",
       "      <td>cost comparison to EMC, reverse enginering Cz ...</td>\n",
       "    </tr>\n",
       "    <tr>\n",
       "      <th>1996</th>\n",
       "      <td>250.0</td>\n",
       "      <td>E. D. Williams, R. U. Ayres, and M. Heller, “T...</td>\n",
       "      <td>50% yield on Cz</td>\n",
       "    </tr>\n",
       "    <tr>\n",
       "      <th>1997</th>\n",
       "      <td>214.0</td>\n",
       "      <td>K. Kato, A. Murata, and K. Sakuta, “Energy pay...</td>\n",
       "      <td>NaN</td>\n",
       "    </tr>\n",
       "    <tr>\n",
       "      <th>1999</th>\n",
       "      <td>117.0</td>\n",
       "      <td>K. Knapp and T. Jester, “Empirical investigati...</td>\n",
       "      <td>Hsu 2012 indicates this ingot growth no longer...</td>\n",
       "    </tr>\n",
       "    <tr>\n",
       "      <th>2004</th>\n",
       "      <td>123.0</td>\n",
       "      <td>N. Jungbluth, “Life cycle assessment of crysta...</td>\n",
       "      <td>NaN</td>\n",
       "    </tr>\n",
       "    <tr>\n",
       "      <th>2011</th>\n",
       "      <td>68.2</td>\n",
       "      <td>M. J. (Mariska) de Wild-Scholten, “Energy payb...</td>\n",
       "      <td>Solar grade from Siemens</td>\n",
       "    </tr>\n",
       "    <tr>\n",
       "      <th>2015</th>\n",
       "      <td>68.2</td>\n",
       "      <td>V. Fthenakis and E. Leccisi, “Updated sustaina...</td>\n",
       "      <td>NaN</td>\n",
       "    </tr>\n",
       "    <tr>\n",
       "      <th>2016</th>\n",
       "      <td>101.6</td>\n",
       "      <td>M. Fan, Z. Yu, W. Ma, and L. Li, “Life Cycle A...</td>\n",
       "      <td>factory survey, includes ingot and wafering</td>\n",
       "    </tr>\n",
       "    <tr>\n",
       "      <th>2017</th>\n",
       "      <td>35.0</td>\n",
       "      <td>ITRPV 2019, Fig 19</td>\n",
       "      <td>NaN</td>\n",
       "    </tr>\n",
       "    <tr>\n",
       "      <th>2018</th>\n",
       "      <td>87.0</td>\n",
       "      <td>M. A. Woodhouse, B. Smith, A. Ramdas, and R. M...</td>\n",
       "      <td>wafer = 156.75mm x 180 micron, energy includes...</td>\n",
       "    </tr>\n",
       "    <tr>\n",
       "      <th>2019</th>\n",
       "      <td>32.0</td>\n",
       "      <td>ITRPV 2020, Fig. 6</td>\n",
       "      <td>NaN</td>\n",
       "    </tr>\n",
       "    <tr>\n",
       "      <th>2020</th>\n",
       "      <td>38.4</td>\n",
       "      <td>A. Müller, L. Friedrich, C. Reichel, S. Herceg...</td>\n",
       "      <td>electrical only, LCI from Friedrich</td>\n",
       "    </tr>\n",
       "  </tbody>\n",
       "</table>\n",
       "</div>"
      ],
      "text/plain": [
       "      E_Cz_kWhpkg                                             Source  \\\n",
       "year                                                                   \n",
       "1990          NaN                                                NaN   \n",
       "1994        385.0  K. Kaneko, R. Kawamura, and T. Misawa, “Presen...   \n",
       "1996        250.0  E. D. Williams, R. U. Ayres, and M. Heller, “T...   \n",
       "1997        214.0  K. Kato, A. Murata, and K. Sakuta, “Energy pay...   \n",
       "1999        117.0  K. Knapp and T. Jester, “Empirical investigati...   \n",
       "2004        123.0  N. Jungbluth, “Life cycle assessment of crysta...   \n",
       "2011         68.2  M. J. (Mariska) de Wild-Scholten, “Energy payb...   \n",
       "2015         68.2  V. Fthenakis and E. Leccisi, “Updated sustaina...   \n",
       "2016        101.6  M. Fan, Z. Yu, W. Ma, and L. Li, “Life Cycle A...   \n",
       "2017         35.0                                 ITRPV 2019, Fig 19   \n",
       "2018         87.0  M. A. Woodhouse, B. Smith, A. Ramdas, and R. M...   \n",
       "2019         32.0                                 ITRPV 2020, Fig. 6   \n",
       "2020         38.4  A. Müller, L. Friedrich, C. Reichel, S. Herceg...   \n",
       "\n",
       "                                                  Notes  \n",
       "year                                                     \n",
       "1990  Make sure to account for BOULE of Si, not \"ing...  \n",
       "1994  cost comparison to EMC, reverse enginering Cz ...  \n",
       "1996                                    50% yield on Cz  \n",
       "1997                                                NaN  \n",
       "1999  Hsu 2012 indicates this ingot growth no longer...  \n",
       "2004                                                NaN  \n",
       "2011                           Solar grade from Siemens  \n",
       "2015                                                NaN  \n",
       "2016        factory survey, includes ingot and wafering  \n",
       "2017                                                NaN  \n",
       "2018  wafer = 156.75mm x 180 micron, energy includes...  \n",
       "2019                                                NaN  \n",
       "2020                electrical only, LCI from Friedrich  "
      ]
     },
     "execution_count": 25,
     "metadata": {},
     "output_type": "execute_result"
    }
   ],
   "source": [
    "e_growczingot_raw = e_ingotenergy_raw.iloc[:,0:3]\n",
    "e_growczingot_raw.dropna(how='all')"
   ]
  },
  {
   "cell_type": "code",
   "execution_count": 26,
   "id": "c95d30e0",
   "metadata": {},
   "outputs": [
    {
     "data": {
      "text/plain": [
       "<matplotlib.collections.PathCollection at 0x255caa0e850>"
      ]
     },
     "execution_count": 26,
     "metadata": {},
     "output_type": "execute_result"
    },
    {
     "data": {
      "image/png": "[encoded data removed]",
      "text/plain": [
       "<Figure size 720x432 with 1 Axes>"
      ]
     },
     "metadata": {
      "needs_background": "light"
     },
     "output_type": "display_data"
    }
   ],
   "source": [
    "plt.scatter(e_growczingot_raw.index, e_growczingot_raw['E_Cz_kWhpkg'])"
   ]
  },
  {
   "cell_type": "markdown",
   "id": "4ff6f8f7",
   "metadata": {},
   "source": [
    "There is a general downward trend. There is a lot of noise at the end. The 2016 datapoint from Fan et al is much higher, as is Woodhouse et al 2018. Fan et al data is the average of Chinese manufacturers surveys and literature data. Both sources include the wafering step (Which we prefer to calculate separately). Therefore we will drop both datapoints for this calculation, but use them as a reality check later for energy demand of the two steps.\n",
    "\n",
    "Knapp 1999 is lower than Jungbluth 2004. This is possible, but is a very small difference in overall energy demand (117 vs 123 kWh/kg). Therefore, we will take the average of the two points, and set both dates equal to that average.\n",
    "\n",
    "Lastly, the final datapoint from Muller et al ticks upward slightly, however, the previous datapoint is from ITRPV which is a global survey report whereas the Muller et al is an updated LCI ostensibly with real world data. Therefore, we will leave this slight increase  given the data quality and non-drastic change."
   ]
  },
  {
   "cell_type": "code",
   "execution_count": 27,
   "id": "fe592bad",
   "metadata": {},
   "outputs": [],
   "source": [
    "e_growczingot_manual = e_growczingot_raw.copy()\n",
    "e_growczingot_manual.loc[2016] = np.nan #drop Fan et al\n",
    "e_growczingot_manual.loc[2018] = np.nan # drop Woodhouse et al"
   ]
  },
  {
   "cell_type": "code",
   "execution_count": 28,
   "id": "e757484d",
   "metadata": {},
   "outputs": [],
   "source": [
    "avg = np.mean([e_growczingot_manual.loc[1999,'E_Cz_kWhpkg'], e_growczingot_manual.loc[2004,'E_Cz_kWhpkg']])\n",
    "e_growczingot_manual.loc[1999] = avg\n",
    "e_growczingot_manual.loc[2004] = avg"
   ]
  },
  {
   "cell_type": "code",
   "execution_count": 29,
   "id": "d14fb89f",
   "metadata": {},
   "outputs": [],
   "source": [
    "e_ingotcz_filled = e_growczingot_manual.interpolate()"
   ]
  },
  {
   "cell_type": "code",
   "execution_count": 30,
   "id": "21fadea4",
   "metadata": {},
   "outputs": [
    {
     "data": {
      "text/plain": [
       "(1993.0, 2021.0)"
      ]
     },
     "execution_count": 30,
     "metadata": {},
     "output_type": "execute_result"
    },
    {
     "data": {
      "image/png": "[encoded data removed]",
      "text/plain": [
       "<Figure size 720x432 with 1 Axes>"
      ]
     },
     "metadata": {
      "needs_background": "light"
     },
     "output_type": "display_data"
    }
   ],
   "source": [
    "plt.plot(e_ingotcz_filled.index, e_ingotcz_filled['E_Cz_kWhpkg'])\n",
    "plt.scatter(e_growczingot_raw.index, e_growczingot_raw['E_Cz_kWhpkg'], color='black')\n",
    "plt.title('Electricity: Cz Ingot Growth')\n",
    "plt.ylabel('[kWh/kg]')\n",
    "plt.xlim(1993,2021)"
   ]
  },
  {
   "cell_type": "markdown",
   "id": "19035524",
   "metadata": {},
   "source": [
    "### Market Share Weight mono-Si vs mc-Si\n",
    "Here we blend the two calculated data into an annual average energy demand based on the marketshare of installed cell type."
   ]
  },
  {
   "cell_type": "code",
   "execution_count": null,
   "id": "086052d2",
   "metadata": {},
   "outputs": [],
   "source": []
  },
  {
   "cell_type": "code",
   "execution_count": null,
   "id": "0fbd076c",
   "metadata": {},
   "outputs": [],
   "source": []
  },
  {
   "cell_type": "markdown",
   "id": "7428453e",
   "metadata": {},
   "source": [
    "## Combine All MFG energy\n",
    "\n",
    "For the energy baseline to match up with the mass baseline, we are separating the energy demands into virgin material, transport, and manufacturing energy. This journal covers the Manufacturing energy, batch processing through forming and cutting. The following calculation sum all the energies associate with manufacturing at the flat glass facility.\n",
    "\n",
    "To track the use of methane/natural gas in the processing, we will do a weighted average percent fuel column to accompany the total energy value."
   ]
  },
  {
   "cell_type": "code",
   "execution_count": null,
   "id": "f209ef73",
   "metadata": {
    "scrolled": true
   },
   "outputs": [],
   "source": [
    "dfs = [e_batchglass_trim, e_meltrefine_filled, e_glassform_filled, e_glass_annealtemper_trim]\n",
    "energies_mfg_glass = pd.concat(dfs, axis=1, keys = ['batch','melt','form','anneal'])\n",
    "energies_mfg_glass.head(5)"
   ]
  },
  {
   "cell_type": "code",
   "execution_count": null,
   "id": "84a91fef",
   "metadata": {
    "scrolled": true
   },
   "outputs": [],
   "source": [
    "#Sum the manufacturing energies\n",
    "energies_mfg_glass['sum','E_mfg_glass_kWhpkg'] = energies_mfg_glass.filter(like='E_').sum(axis=1)\n",
    "energies_mfg_glass.head(5)"
   ]
  },
  {
   "cell_type": "code",
   "execution_count": null,
   "id": "50aaaf30",
   "metadata": {
    "scrolled": true
   },
   "outputs": [],
   "source": [
    "#Take weighted average of PRCT Fuel by energy step\n",
    "wting_factors = energies_mfg_glass.filter(like='E_')\n",
    "wting_factors = wting_factors.div(energies_mfg_glass['sum','E_mfg_glass_kWhpkg'], axis=0)\n",
    "#wting_factors.drop('E_mfg_glass_kWhpkg', axis=1, inplace=True)\n",
    "wting_factors.head(5)"
   ]
  },
  {
   "cell_type": "code",
   "execution_count": null,
   "id": "fb39446e",
   "metadata": {
    "scrolled": true
   },
   "outputs": [],
   "source": [
    "fuel_fraction = energies_mfg_glass.filter(like='Prct_')\n",
    "fuel_fraction.columns.levels[0]"
   ]
  },
  {
   "cell_type": "code",
   "execution_count": null,
   "id": "b207c3c4",
   "metadata": {},
   "outputs": [],
   "source": [
    "#drop the column name levels to leave the process steps, allowing multiplication\n",
    "wting_factors.columns = wting_factors.columns.droplevel(1)\n",
    "fuel_fraction.columns = fuel_fraction.columns.droplevel(1)"
   ]
  },
  {
   "cell_type": "code",
   "execution_count": null,
   "id": "ced41467",
   "metadata": {
    "scrolled": true
   },
   "outputs": [],
   "source": [
    "wtd_fuel_fraction = wting_factors.mul(fuel_fraction, axis = 1) #multiply fraction of energy/step * PRCT Fuel fraction\n",
    "wtd_fuel_fraction['sum'] = wtd_fuel_fraction.sum(axis=1) #sum the fuel fraction"
   ]
  },
  {
   "cell_type": "code",
   "execution_count": null,
   "id": "f2b2a1b3",
   "metadata": {
    "scrolled": true
   },
   "outputs": [],
   "source": [
    "e_mfg_glass_output = pd.concat([energies_mfg_glass['sum','E_mfg_glass_kWhpkg'], wtd_fuel_fraction['sum']], axis=1)\n",
    "e_mfg_glass_output.columns=['E_mfg_glass_kWhpkg','Prct_fuel']\n",
    "e_mfg_glass_output.head(5)"
   ]
  },
  {
   "cell_type": "code",
   "execution_count": null,
   "id": "f808bbe7",
   "metadata": {},
   "outputs": [],
   "source": [
    "fig, ax1 = plt.subplots() \n",
    "#left axis\n",
    "ax1.set_ylabel('Manufacturing Energy [kWh/kg]', color='blue') \n",
    "ax1.plot(e_mfg_glass_output.index,e_mfg_glass_output.iloc[:,0], color='blue') \n",
    "ax1.set_ylim(0,5)\n",
    "\n",
    "#right axis\n",
    "ax2 = ax1.twinx()\n",
    "plt.ylabel('Fraction of Energy provided by \\n Natural Gas (Methane) [%]', color='red')\n",
    "ax2.plot(e_mfg_glass_output.index,e_mfg_glass_output.iloc[:,1], color='red')  \n",
    "ax2.set_ylim(75,100)\n",
    "\n",
    "plt.title('Energy and Fuel to Manufacture Flat Glass')\n",
    "\n",
    "plt.show()"
   ]
  },
  {
   "cell_type": "code",
   "execution_count": null,
   "id": "df402de6",
   "metadata": {
    "scrolled": false
   },
   "outputs": [],
   "source": [
    "fig, ax1 = plt.subplots() \n",
    "#left axis\n",
    "ax1.set_ylabel('Manufacturing Energy [kWh/kg]', color='blue') \n",
    "ax1.plot(e_mfg_glass_output.index,e_mfg_glass_output.iloc[:,0], color='blue') \n",
    "ax1.set_ylim(0,5)\n",
    "ax1.set_xlim(1995,2025)\n",
    "\n",
    "#right axis\n",
    "ax2 = ax1.twinx()\n",
    "plt.ylabel('Fraction of Energy provided by \\n Natural Gas (Methane) [%]', color='red')\n",
    "ax2.plot(e_mfg_glass_output.index,e_mfg_glass_output.iloc[:,1], color='red')  \n",
    "ax2.set_ylim(75,100)\n",
    "\n",
    "plt.title('Energy and Fuel to Manufacture Flat Glass')\n",
    "\n",
    "plt.show()"
   ]
  },
  {
   "cell_type": "code",
   "execution_count": null,
   "id": "e11c78e4",
   "metadata": {},
   "outputs": [],
   "source": [
    "e_mfg_glass_output.to_csv(cwd+\"/../../../PV_ICE/baselines/SupportingMaterial/output_energy_glass_MFG_FUEL.csv\")"
   ]
  }
 ],
 "metadata": {
  "kernelspec": {
   "display_name": "Python 3 (ipykernel)",
   "language": "python",
   "name": "python3"
  },
  "language_info": {
   "codemirror_mode": {
    "name": "ipython",
    "version": 3
   },
   "file_extension": ".py",
   "mimetype": "text/x-python",
   "name": "python",
   "nbconvert_exporter": "python",
   "pygments_lexer": "ipython3",
   "version": "3.8.8"
  }
 },
 "nbformat": 4,
 "nbformat_minor": 5
}
