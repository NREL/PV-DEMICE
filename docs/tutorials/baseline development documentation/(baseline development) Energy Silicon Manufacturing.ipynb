{
 "cells": [
  {
   "cell_type": "markdown",
   "id": "0664c559",
   "metadata": {},
   "source": [
    "# Energy Requirements of Silicon Manufacturing"
   ]
  },
  {
   "cell_type": "markdown",
   "id": "88eef6cc",
   "metadata": {},
   "source": [
    "This journal creates a baseline for the energy required to manufacture silicon for PV applications. The processes covered here include silica to MG-Si, MG-Si to polysilicon (siemens and FBR), Cz ingot growth, wafering, and cell processing steps. \n",
    "\n"
   ]
  },
  {
   "cell_type": "code",
   "execution_count": 1,
   "id": "fe0ea01d",
   "metadata": {},
   "outputs": [],
   "source": [
    "import numpy as np\n",
    "import pandas as pd\n",
    "import os,sys\n",
    "import matplotlib.pyplot as plt\n",
    "plt.rcParams.update({'font.size': 18})\n",
    "plt.rcParams['figure.figsize'] = (10, 6)"
   ]
  },
  {
   "cell_type": "markdown",
   "id": "e2c3d11d",
   "metadata": {},
   "source": [
    "## Silica to MG-Si\n",
    "\n",
    "After mining cleaning the silica sand to sufficient purity (>95%), the silica sand is mixed with carboniferous materials and undergoes carbothermic reduction to extract the silicon. This is referred to as metallurgical grade silicon, or MG-Si. The carbothermic reduction is generally done in an arc furnace, frequently an electric arc furnace."
   ]
  },
  {
   "cell_type": "code",
   "execution_count": 2,
   "id": "00d18588",
   "metadata": {},
   "outputs": [],
   "source": [
    "cwd = os.getcwd() #grabs current working directory\n",
    "#skipcols = ['Source', 'Notes','Country']\n",
    "e_reducesilica_raw = pd.read_csv(cwd+\"/../../../PV_ICE/baselines/SupportingMaterial/energy-input-silicon-reduceSilicaSi.csv\",\n",
    "                                     index_col='year')#, usecols=lambda x: x not in skipcols)"
   ]
  },
  {
   "cell_type": "code",
   "execution_count": 3,
   "id": "9557c7a1",
   "metadata": {},
   "outputs": [
    {
     "data": {
      "text/html": [
       "<div>\n",
       "<style scoped>\n",
       "    .dataframe tbody tr th:only-of-type {\n",
       "        vertical-align: middle;\n",
       "    }\n",
       "\n",
       "    .dataframe tbody tr th {\n",
       "        vertical-align: top;\n",
       "    }\n",
       "\n",
       "    .dataframe thead th {\n",
       "        text-align: right;\n",
       "    }\n",
       "</style>\n",
       "<table border=\"1\" class=\"dataframe\">\n",
       "  <thead>\n",
       "    <tr style=\"text-align: right;\">\n",
       "      <th></th>\n",
       "      <th>E_reduce_SilicatoMGSi</th>\n",
       "      <th>Fuel_Prct</th>\n",
       "      <th>Source</th>\n",
       "      <th>Notes</th>\n",
       "    </tr>\n",
       "    <tr>\n",
       "      <th>year</th>\n",
       "      <th></th>\n",
       "      <th></th>\n",
       "      <th></th>\n",
       "      <th></th>\n",
       "    </tr>\n",
       "  </thead>\n",
       "  <tbody>\n",
       "    <tr>\n",
       "      <th>1990</th>\n",
       "      <td>51.34</td>\n",
       "      <td>22.0</td>\n",
       "      <td>G. J. M. Phylipsen and E. A. Alsema, “Environm...</td>\n",
       "      <td>electrical process, thermal, and GER of carbon...</td>\n",
       "    </tr>\n",
       "    <tr>\n",
       "      <th>1995</th>\n",
       "      <td>13.89</td>\n",
       "      <td>0.0</td>\n",
       "      <td>R. Dones and R. Frischknecht, “Life-cycle asse...</td>\n",
       "      <td>arc furnace</td>\n",
       "    </tr>\n",
       "    <tr>\n",
       "      <th>2004</th>\n",
       "      <td>11.00</td>\n",
       "      <td>0.0</td>\n",
       "      <td>N. Jungbluth, “Life cycle assessment of crysta...</td>\n",
       "      <td>NaN</td>\n",
       "    </tr>\n",
       "    <tr>\n",
       "      <th>2009</th>\n",
       "      <td>12.00</td>\n",
       "      <td>0.0</td>\n",
       "      <td>B. S. Xakalashe and M. Tangstad, “Silicon proc...</td>\n",
       "      <td>NaN</td>\n",
       "    </tr>\n",
       "    <tr>\n",
       "      <th>2016</th>\n",
       "      <td>27.00</td>\n",
       "      <td>56.0</td>\n",
       "      <td>Chen Z, Ma W, Wu J, Wei K, Yang X, Lv G, Xie K...</td>\n",
       "      <td>also used by Chen 2017, total energy in = elec...</td>\n",
       "    </tr>\n",
       "    <tr>\n",
       "      <th>2017</th>\n",
       "      <td>13.10</td>\n",
       "      <td>0.0</td>\n",
       "      <td>Chen Z, Ma W, Wei K, Wu J, Li S, Xie K, Lv G. ...</td>\n",
       "      <td>data from chinese arc furnace, 4 mo, median of...</td>\n",
       "    </tr>\n",
       "    <tr>\n",
       "      <th>2020</th>\n",
       "      <td>11.00</td>\n",
       "      <td>0.0</td>\n",
       "      <td>A. Müller, L. Friedrich, C. Reichel, S. Herceg...</td>\n",
       "      <td>SoSi, modified Seimens, from Ecoinvent3.7, Fth...</td>\n",
       "    </tr>\n",
       "    <tr>\n",
       "      <th>2022</th>\n",
       "      <td>17.40</td>\n",
       "      <td>37.0</td>\n",
       "      <td>S. M. Heidari and A. Anctil, “Country-specific...</td>\n",
       "      <td>uses Muller electricity as above from PVPS, in...</td>\n",
       "    </tr>\n",
       "  </tbody>\n",
       "</table>\n",
       "</div>"
      ],
      "text/plain": [
       "      E_reduce_SilicatoMGSi  Fuel_Prct  \\\n",
       "year                                     \n",
       "1990                  51.34       22.0   \n",
       "1995                  13.89        0.0   \n",
       "2004                  11.00        0.0   \n",
       "2009                  12.00        0.0   \n",
       "2016                  27.00       56.0   \n",
       "2017                  13.10        0.0   \n",
       "2020                  11.00        0.0   \n",
       "2022                  17.40       37.0   \n",
       "\n",
       "                                                 Source  \\\n",
       "year                                                      \n",
       "1990  G. J. M. Phylipsen and E. A. Alsema, “Environm...   \n",
       "1995  R. Dones and R. Frischknecht, “Life-cycle asse...   \n",
       "2004  N. Jungbluth, “Life cycle assessment of crysta...   \n",
       "2009  B. S. Xakalashe and M. Tangstad, “Silicon proc...   \n",
       "2016  Chen Z, Ma W, Wu J, Wei K, Yang X, Lv G, Xie K...   \n",
       "2017  Chen Z, Ma W, Wei K, Wu J, Li S, Xie K, Lv G. ...   \n",
       "2020  A. Müller, L. Friedrich, C. Reichel, S. Herceg...   \n",
       "2022  S. M. Heidari and A. Anctil, “Country-specific...   \n",
       "\n",
       "                                                  Notes  \n",
       "year                                                     \n",
       "1990  electrical process, thermal, and GER of carbon...  \n",
       "1995                                        arc furnace  \n",
       "2004                                                NaN  \n",
       "2009                                                NaN  \n",
       "2016  also used by Chen 2017, total energy in = elec...  \n",
       "2017  data from chinese arc furnace, 4 mo, median of...  \n",
       "2020  SoSi, modified Seimens, from Ecoinvent3.7, Fth...  \n",
       "2022  uses Muller electricity as above from PVPS, in...  "
      ]
     },
     "execution_count": 3,
     "metadata": {},
     "output_type": "execute_result"
    }
   ],
   "source": [
    "e_reducesilica_raw.dropna(how='all')"
   ]
  },
  {
   "cell_type": "code",
   "execution_count": 4,
   "id": "b5d54efc",
   "metadata": {},
   "outputs": [
    {
     "data": {
      "text/plain": [
       "Text(0, 0.5, '[kWh/kg]')"
      ]
     },
     "execution_count": 4,
     "metadata": {},
     "output_type": "execute_result"
    },
    {
     "data": {
      "image/png": "[encoded data removed]",
      "text/plain": [
       "<Figure size 720x432 with 1 Axes>"
      ]
     },
     "metadata": {
      "needs_background": "light"
     },
     "output_type": "display_data"
    }
   ],
   "source": [
    "plt.plot(e_reducesilica_raw.index,e_reducesilica_raw.iloc[:,0], marker='o')\n",
    "plt.title('Energy: Silica Reduction')\n",
    "plt.ylabel('[kWh/kg]')"
   ]
  },
  {
   "cell_type": "markdown",
   "id": "afeee2a9",
   "metadata": {},
   "source": [
    "Two of the energy points are higher than the others, 1990 from Phylipsen and Alsema, and 2016 from Chen et al. From Phylipsen and Alsema, the note explains that 51.34 kWh/kg is the sum of direct process energy (13 kWh/kg) and the primary energy demand of the carbon inputs+carbon electrodes (11.4kWh/kg). Similarly, Chen et al 2016 has 27 kWh/kg as the sum of electricity plus carbon inputs+carbon electrodes. Our current method is to capture only the electricity or thermal process energy (natural gas/methane) in the energy flows. \n",
    "\n",
    "The final datapoint from Heidari and Anctil also includes electricity plus carbon; they use the 2020 Muller/PVPS electricity value of 11 kWh/kg.\n",
    "\n",
    "Therefore, we will adjust the values for these sections down to just the electricity numbers."
   ]
  },
  {
   "cell_type": "code",
   "execution_count": 5,
   "id": "9ea1668d",
   "metadata": {},
   "outputs": [],
   "source": [
    "e_reducesilica_raw.loc[1990,['E_reduce_SilicatoMGSi']] = 13.0 #Phylipsen Alsema\n",
    "e_reducesilica_raw.loc[2016,['E_reduce_SilicatoMGSi']] = 12.0 #Chen Fig. 2\n",
    "e_reducesilica_raw.loc[2022,['E_reduce_SilicatoMGSi']] = 11.0 #Heidari Anctil"
   ]
  },
  {
   "cell_type": "code",
   "execution_count": 6,
   "id": "c826a129",
   "metadata": {},
   "outputs": [
    {
     "data": {
      "text/plain": [
       "Text(0, 0.5, '[kWh/kg]')"
      ]
     },
     "execution_count": 6,
     "metadata": {},
     "output_type": "execute_result"
    },
    {
     "data": {
      "image/png": "[encoded data removed]",
      "text/plain": [
       "<Figure size 720x432 with 1 Axes>"
      ]
     },
     "metadata": {
      "needs_background": "light"
     },
     "output_type": "display_data"
    }
   ],
   "source": [
    "plt.plot(e_reducesilica_raw.index,e_reducesilica_raw.iloc[:,0], marker='o')\n",
    "plt.title('Energy: Silica Reduction')\n",
    "plt.ylabel('[kWh/kg]')"
   ]
  },
  {
   "cell_type": "markdown",
   "id": "0c23c4a5",
   "metadata": {},
   "source": [
    "Literature values for electric arc furnaces range from 11-13 kWh/kg of MG-Si. Chen et al 2017 notes that while electric arc furnaces in EU countries have energy demands around 11 kWh/kg, Chinese arc furnaces average around 13.1 kWh/kg. The marketshare of Chinese MG-Si has increased in the last decade, as documented in Heidari and Anctil 2022 (derived from USGS 2020, Figure 3.D) between 2005 and 2018.\n",
    "\n",
    "Pre 2005, we will do a linear interpolation between 1990 values and 2005 values.\n",
    "\n",
    "2005-2018, we will do a marketshare weighting of RoW = 11 kWh/kg and China = 13 kWh/kg.\n",
    "\n",
    "2018 through 2030, we will do a linear interpolation down to 11 kWh/kg, assuming continued improvement."
   ]
  },
  {
   "cell_type": "code",
   "execution_count": 7,
   "id": "3da56088",
   "metadata": {
    "scrolled": true
   },
   "outputs": [],
   "source": [
    "#Pre-2005\n",
    "#take average of pre 2005 value\n",
    "e_reducesilica = pd.DataFrame(columns=['E_reduceSilicatoMGSi'], index=range(1990,2005))\n",
    "e_reducesilica.index.name='year'\n",
    "e_reducesilica.loc[1990,['E_reduceSilicatoMGSi']] = e_reducesilica_raw.loc[:1995,['E_reduce_SilicatoMGSi']].dropna(how='all').mean().iloc[0]\n",
    "#e_reducesilica"
   ]
  },
  {
   "cell_type": "code",
   "execution_count": 8,
   "id": "61c1b061",
   "metadata": {
    "scrolled": true
   },
   "outputs": [],
   "source": [
    "#2005-2018\n",
    "mrktshr_mgsi_region = pd.read_csv(cwd+\"/../../../PV_ICE/baselines/SupportingMaterial/energy-input-silicon-marketshareMGSiProdRegion.csv\", index_col='year')\n",
    "mrktshr_mgsi_region['MarketShare_RoW_MGSi'] = 1.0-mrktshr_mgsi_region['MarketShare_Chinese_MGSi']\n",
    "mrktshr_mgsi_region['MarketShare_Chinese_MGSi']*=13 #multiply by kWh/kg China\n",
    "mrktshr_mgsi_region['MarketShare_RoW_MGSi']*=11 #multiply by kWh/kg RoW\n",
    "wtd_mrktshr_mgsi_region = pd.DataFrame(mrktshr_mgsi_region.sum(axis=1)) #sum weighted kWh/kg, is a series\n",
    "wtd_mrktshr_mgsi_region.columns=['E_reduceSilicatoMGSi'] #rename for merge/join\n",
    "#wtd_mrktshr_mgsi_region"
   ]
  },
  {
   "cell_type": "code",
   "execution_count": 9,
   "id": "a79e3984",
   "metadata": {
    "scrolled": true
   },
   "outputs": [],
   "source": [
    "#2018-2030, linear decrease to 11 kWh/kg in 2030\n",
    "e_reducesilica_end = pd.DataFrame(columns=['E_reduceSilicatoMGSi'], index=range(2019,2031))\n",
    "e_reducesilica_end.index.name='year'\n",
    "e_reducesilica_end.loc[2030,['E_reduceSilicatoMGSi']] = 11\n",
    "#e_reducesilica_end"
   ]
  },
  {
   "cell_type": "code",
   "execution_count": 13,
   "id": "4a796db7",
   "metadata": {
    "scrolled": true
   },
   "outputs": [],
   "source": [
    "#join all together\n",
    "e_reducesilica_gappy = pd.concat([e_reducesilica,wtd_mrktshr_mgsi_region,e_reducesilica_end])"
   ]
  },
  {
   "cell_type": "code",
   "execution_count": 30,
   "id": "2e3efeea",
   "metadata": {},
   "outputs": [],
   "source": [
    "e_reducesilica_gaps = e_reducesilica_gappy.astype(float) #for some reason this was objects?!\n",
    "e_reducesilica_full = e_reducesilica_gaps.interpolate() #linearly interpolate between points\n",
    "e_reducesilica_trim = e_reducesilica_full.loc[1995:,['E_reduceSilicatoMGSi']] #trim to 1995-2030"
   ]
  },
  {
   "cell_type": "code",
   "execution_count": 38,
   "id": "ab968f46",
   "metadata": {
    "scrolled": false
   },
   "outputs": [
    {
     "data": {
      "text/plain": [
       "Text(0, 0.5, 'Electricity Demand [kWh/kg]')"
      ]
     },
     "execution_count": 38,
     "metadata": {},
     "output_type": "execute_result"
    },
    {
     "data": {
      "image/png": "[encoded data removed]",
      "text/plain": [
       "<Figure size 720x432 with 1 Axes>"
      ]
     },
     "metadata": {
      "needs_background": "light"
     },
     "output_type": "display_data"
    }
   ],
   "source": [
    "plt.plot(e_reducesilica_trim)\n",
    "plt.title('Electricity to reduce silica to MG-Si')\n",
    "plt.ylabel('Electricity Demand [kWh/kg]')"
   ]
  },
  {
   "cell_type": "markdown",
   "id": "24175338",
   "metadata": {},
   "source": [
    "## Refine MG-Si to Solar or Electrical Grade polysilicon\n",
    "\n",
    "The next step in crystalline silicon PV cell manufacturing is purifying or refining the metallurgical grade silicon to solar or electronic grade polysilicon. Currently this is primarily done through the Seimens process, which entails conversion through trichlorosilane:\n",
    "\n",
    "    Si(s) + 3HCl = HSiCl3 + H2        (26)  followed by HSiCl3 + H = Si + 3HCl\n",
    "    This reaction occurs at 350°C normally without a catalyst. A competing reaction is \n",
    "    Si(s) + 4HCl = SiCl4 + 2H2        (27) \n",
    "    contributing to the formation of unsuitable tetrachlorosilane in molar proportion of 10 to 20%.\"\n",
    "    \"for  each  mole  of  Si  converted  to  polysilicon,  3  to  4  moles  are  converted  to SiCl4,\"\n",
    "    \"The present market of fumed silica is about 60 000 MT measured in terms of silicon unit. This presently corresponds to three times the  output  of  polysilicon  in  2000.\"\n",
    "\tA. CIFTJA, “Refining and Recycling of Silicon: A Review,” NORWEGIAN UNIVERSITY OF SCIENCE AND TECHNOLOGY, Feb. 2008.\n",
    "\n",
    "Here we will combine MG-Si to Trichlorosilane and trichlorosilane to polysilicon electricity demands.\n",
    "\n",
    "We will create energy values for both the Siemens process and the FBR process as options for user."
   ]
  },
  {
   "cell_type": "code",
   "execution_count": 42,
   "id": "0705cbd1",
   "metadata": {},
   "outputs": [],
   "source": [
    "#skipcols = ['Source', 'Notes','Country']\n",
    "e_refinesilicon_raw = pd.read_csv(cwd+\"/../../../PV_ICE/baselines/SupportingMaterial/energy-input-silicon-refineMGtoSo.csv\",\n",
    "                                     index_col='year')#, usecols=lambda x: x not in skipcols)"
   ]
  },
  {
   "cell_type": "code",
   "execution_count": 54,
   "id": "f8de6545",
   "metadata": {},
   "outputs": [],
   "source": [
    "#split siemens and fbr dataframes\n",
    "e_refineSi_siemens = e_refinesilicon_raw.iloc[:,0:4]\n",
    "e_refineSi_fbr = e_refinesilicon_raw.iloc[:,[4,5,6,7]]"
   ]
  },
  {
   "cell_type": "markdown",
   "id": "1c9105cd",
   "metadata": {},
   "source": [
    "### Siemens"
   ]
  },
  {
   "cell_type": "code",
   "execution_count": 58,
   "id": "0fd7ccb6",
   "metadata": {
    "scrolled": false
   },
   "outputs": [
    {
     "data": {
      "text/html": [
       "<div>\n",
       "<style scoped>\n",
       "    .dataframe tbody tr th:only-of-type {\n",
       "        vertical-align: middle;\n",
       "    }\n",
       "\n",
       "    .dataframe tbody tr th {\n",
       "        vertical-align: top;\n",
       "    }\n",
       "\n",
       "    .dataframe thead th {\n",
       "        text-align: right;\n",
       "    }\n",
       "</style>\n",
       "<table border=\"1\" class=\"dataframe\">\n",
       "  <thead>\n",
       "    <tr style=\"text-align: right;\">\n",
       "      <th></th>\n",
       "      <th>ErefineSiemens kWh/kg</th>\n",
       "      <th>PrctFuel</th>\n",
       "      <th>Source</th>\n",
       "      <th>Notes</th>\n",
       "    </tr>\n",
       "    <tr>\n",
       "      <th>year</th>\n",
       "      <th></th>\n",
       "      <th></th>\n",
       "      <th></th>\n",
       "      <th></th>\n",
       "    </tr>\n",
       "  </thead>\n",
       "  <tbody>\n",
       "    <tr>\n",
       "      <th>1990</th>\n",
       "      <td>215.0</td>\n",
       "      <td>?</td>\n",
       "      <td>G. J. M. Phylipsen and E. A. Alsema, “Environm...</td>\n",
       "      <td>estimated thermal values from Hagedorn 1989, G...</td>\n",
       "    </tr>\n",
       "    <tr>\n",
       "      <th>1995</th>\n",
       "      <td>129.0</td>\n",
       "      <td>?</td>\n",
       "      <td>R. Dones and R. Frischknecht, “Life-cycle asse...</td>\n",
       "      <td>electronic grade Si, may include Cz process?</td>\n",
       "    </tr>\n",
       "    <tr>\n",
       "      <th>1996</th>\n",
       "      <td>305.0</td>\n",
       "      <td>NaN</td>\n",
       "      <td>E. D. Williams, R. U. Ayres, and M. Heller, “T...</td>\n",
       "      <td>Si to TriClSi*yields + TriClSi to poly so it i...</td>\n",
       "    </tr>\n",
       "    <tr>\n",
       "      <th>1997</th>\n",
       "      <td>120.0</td>\n",
       "      <td>NaN</td>\n",
       "      <td>K. Kato, A. Murata, and K. Sakuta, “Energy pay...</td>\n",
       "      <td>NaN</td>\n",
       "    </tr>\n",
       "    <tr>\n",
       "      <th>1998</th>\n",
       "      <td>100.0</td>\n",
       "      <td>NaN</td>\n",
       "      <td>B. S. Xakalashe and M. Tangstad, “Silicon proc...</td>\n",
       "      <td>from reference 15 dated 1998</td>\n",
       "    </tr>\n",
       "    <tr>\n",
       "      <th>2000</th>\n",
       "      <td>110.0</td>\n",
       "      <td>NaN</td>\n",
       "      <td>E. Bracquene, J. R. Peeters, W. Dewulf, and J....</td>\n",
       "      <td>projected linear decrease to 55 kWh/kg in 2009</td>\n",
       "    </tr>\n",
       "    <tr>\n",
       "      <th>2004</th>\n",
       "      <td>148.0</td>\n",
       "      <td>23</td>\n",
       "      <td>N. Jungbluth, “Life cycle assessment of crysta...</td>\n",
       "      <td>NaN</td>\n",
       "    </tr>\n",
       "    <tr>\n",
       "      <th>2005</th>\n",
       "      <td>161.0</td>\n",
       "      <td>32</td>\n",
       "      <td>M. de Wild-Scholten and E. A. Alsema, “Environ...</td>\n",
       "      <td>NaN</td>\n",
       "    </tr>\n",
       "    <tr>\n",
       "      <th>2006</th>\n",
       "      <td>161.0</td>\n",
       "      <td>32</td>\n",
       "      <td>E. Alsema and M. de Wild-Scholten, “Reduction ...</td>\n",
       "      <td>NaN</td>\n",
       "    </tr>\n",
       "    <tr>\n",
       "      <th>2008</th>\n",
       "      <td>120.0</td>\n",
       "      <td>NaN</td>\n",
       "      <td>A. F. B. Braga, S. P. Moreira, P. R. Zampieri,...</td>\n",
       "      <td>is showing off new processes wants to make sei...</td>\n",
       "    </tr>\n",
       "    <tr>\n",
       "      <th>2014</th>\n",
       "      <td>65.0</td>\n",
       "      <td>NaN</td>\n",
       "      <td>R. Fu, T. L. James, and M. Woodhouse, “Economi...</td>\n",
       "      <td>NaN</td>\n",
       "    </tr>\n",
       "  </tbody>\n",
       "</table>\n",
       "</div>"
      ],
      "text/plain": [
       "      ErefineSiemens kWh/kg PrctFuel  \\\n",
       "year                                   \n",
       "1990                  215.0        ?   \n",
       "1995                  129.0        ?   \n",
       "1996                  305.0      NaN   \n",
       "1997                  120.0      NaN   \n",
       "1998                  100.0      NaN   \n",
       "2000                  110.0      NaN   \n",
       "2004                  148.0       23   \n",
       "2005                  161.0       32   \n",
       "2006                  161.0       32   \n",
       "2008                  120.0      NaN   \n",
       "2014                   65.0      NaN   \n",
       "\n",
       "                                                 Source  \\\n",
       "year                                                      \n",
       "1990  G. J. M. Phylipsen and E. A. Alsema, “Environm...   \n",
       "1995  R. Dones and R. Frischknecht, “Life-cycle asse...   \n",
       "1996  E. D. Williams, R. U. Ayres, and M. Heller, “T...   \n",
       "1997  K. Kato, A. Murata, and K. Sakuta, “Energy pay...   \n",
       "1998  B. S. Xakalashe and M. Tangstad, “Silicon proc...   \n",
       "2000  E. Bracquene, J. R. Peeters, W. Dewulf, and J....   \n",
       "2004  N. Jungbluth, “Life cycle assessment of crysta...   \n",
       "2005  M. de Wild-Scholten and E. A. Alsema, “Environ...   \n",
       "2006  E. Alsema and M. de Wild-Scholten, “Reduction ...   \n",
       "2008  A. F. B. Braga, S. P. Moreira, P. R. Zampieri,...   \n",
       "2014  R. Fu, T. L. James, and M. Woodhouse, “Economi...   \n",
       "\n",
       "                                                  Notes  \n",
       "year                                                     \n",
       "1990  estimated thermal values from Hagedorn 1989, G...  \n",
       "1995       electronic grade Si, may include Cz process?  \n",
       "1996  Si to TriClSi*yields + TriClSi to poly so it i...  \n",
       "1997                                                NaN  \n",
       "1998                       from reference 15 dated 1998  \n",
       "2000     projected linear decrease to 55 kWh/kg in 2009  \n",
       "2004                                                NaN  \n",
       "2005                                                NaN  \n",
       "2006                                                NaN  \n",
       "2008  is showing off new processes wants to make sei...  \n",
       "2014                                                NaN  "
      ]
     },
     "execution_count": 58,
     "metadata": {},
     "output_type": "execute_result"
    }
   ],
   "source": [
    "e_refineSi_siemens.dropna(how='all')"
   ]
  },
  {
   "cell_type": "code",
   "execution_count": 63,
   "id": "77c6742d",
   "metadata": {},
   "outputs": [
    {
     "data": {
      "text/plain": [
       "Text(0, 0.5, '[kWh/kg]')"
      ]
     },
     "execution_count": 63,
     "metadata": {},
     "output_type": "execute_result"
    },
    {
     "data": {
      "image/png": "[encoded data removed]",
      "text/plain": [
       "<Figure size 720x432 with 1 Axes>"
      ]
     },
     "metadata": {
      "needs_background": "light"
     },
     "output_type": "display_data"
    }
   ],
   "source": [
    "plt.plot(e_refineSi_siemens.index,e_refineSi_siemens.iloc[:,0], marker='o')\n",
    "plt.title('Energy: Siemens Process')\n",
    "plt.ylabel('[kWh/kg]')"
   ]
  },
  {
   "cell_type": "markdown",
   "id": "6e2caf45",
   "metadata": {},
   "source": [
    "Starting with the major outlier in 1996 from Williams et al 2002. This data point is the sum of 250 and 50 from Table 3, and the data is sourced from 3 citations ranging from 1990 through 1998. It is noted that this is the electrical energy for the two Siemens steps. Handbook from 1990 has the 250, 305 enegries but these are for small reactors, Takegoshi 1996 is unavailable, Tsuo et al 1998 state \"about 250 kWh/kg\" number with no citation.  Therefore we will exclude Williams et al. "
   ]
  },
  {
   "cell_type": "code",
   "execution_count": 69,
   "id": "86055d9d",
   "metadata": {},
   "outputs": [],
   "source": [
    "e_refineSi_siemens.loc[1996] = np.nan"
   ]
  },
  {
   "cell_type": "code",
   "execution_count": null,
   "id": "95baa309",
   "metadata": {},
   "outputs": [],
   "source": []
  },
  {
   "cell_type": "markdown",
   "id": "38e05255",
   "metadata": {},
   "source": [
    "### FBR"
   ]
  },
  {
   "cell_type": "code",
   "execution_count": 59,
   "id": "8bfb45e9",
   "metadata": {},
   "outputs": [
    {
     "data": {
      "text/html": [
       "<div>\n",
       "<style scoped>\n",
       "    .dataframe tbody tr th:only-of-type {\n",
       "        vertical-align: middle;\n",
       "    }\n",
       "\n",
       "    .dataframe tbody tr th {\n",
       "        vertical-align: top;\n",
       "    }\n",
       "\n",
       "    .dataframe thead th {\n",
       "        text-align: right;\n",
       "    }\n",
       "</style>\n",
       "<table border=\"1\" class=\"dataframe\">\n",
       "  <thead>\n",
       "    <tr style=\"text-align: right;\">\n",
       "      <th></th>\n",
       "      <th>ErefineFBR kWh/kg</th>\n",
       "      <th>PrctFuel.1</th>\n",
       "      <th>Source.1</th>\n",
       "      <th>Notes.1</th>\n",
       "    </tr>\n",
       "    <tr>\n",
       "      <th>year</th>\n",
       "      <th></th>\n",
       "      <th></th>\n",
       "      <th></th>\n",
       "      <th></th>\n",
       "    </tr>\n",
       "  </thead>\n",
       "  <tbody>\n",
       "    <tr>\n",
       "      <th>1990</th>\n",
       "      <td>108.0</td>\n",
       "      <td>?</td>\n",
       "      <td>G. J. M. Phylipsen and E. A. Alsema, “Environm...</td>\n",
       "      <td>electronics grade silicon, process and thermal...</td>\n",
       "    </tr>\n",
       "    <tr>\n",
       "      <th>2006</th>\n",
       "      <td>81.0</td>\n",
       "      <td>63</td>\n",
       "      <td>E. Alsema and M. de Wild-Scholten, “Reduction ...</td>\n",
       "      <td>NaN</td>\n",
       "    </tr>\n",
       "  </tbody>\n",
       "</table>\n",
       "</div>"
      ],
      "text/plain": [
       "      ErefineFBR kWh/kg PrctFuel.1  \\\n",
       "year                                 \n",
       "1990              108.0          ?   \n",
       "2006               81.0         63   \n",
       "\n",
       "                                               Source.1  \\\n",
       "year                                                      \n",
       "1990  G. J. M. Phylipsen and E. A. Alsema, “Environm...   \n",
       "2006  E. Alsema and M. de Wild-Scholten, “Reduction ...   \n",
       "\n",
       "                                                Notes.1  \n",
       "year                                                     \n",
       "1990  electronics grade silicon, process and thermal...  \n",
       "2006                                                NaN  "
      ]
     },
     "execution_count": 59,
     "metadata": {},
     "output_type": "execute_result"
    }
   ],
   "source": [
    "e_refineSi_fbr.dropna(how='all')"
   ]
  },
  {
   "cell_type": "markdown",
   "id": "39f95d50",
   "metadata": {},
   "source": [
    "## Ingot growth\n",
    "\n",
    "Cz"
   ]
  },
  {
   "cell_type": "markdown",
   "id": "7428453e",
   "metadata": {},
   "source": [
    "## Combine All MFG energy\n",
    "\n",
    "For the energy baseline to match up with the mass baseline, we are separating the energy demands into virgin material, transport, and manufacturing energy. This journal covers the Manufacturing energy, batch processing through forming and cutting. The following calculation sum all the energies associate with manufacturing at the flat glass facility.\n",
    "\n",
    "To track the use of methane/natural gas in the processing, we will do a weighted average percent fuel column to accompany the total energy value."
   ]
  },
  {
   "cell_type": "code",
   "execution_count": null,
   "id": "f209ef73",
   "metadata": {
    "scrolled": true
   },
   "outputs": [],
   "source": [
    "dfs = [e_batchglass_trim, e_meltrefine_filled, e_glassform_filled, e_glass_annealtemper_trim]\n",
    "energies_mfg_glass = pd.concat(dfs, axis=1, keys = ['batch','melt','form','anneal'])\n",
    "energies_mfg_glass.head(5)"
   ]
  },
  {
   "cell_type": "code",
   "execution_count": null,
   "id": "84a91fef",
   "metadata": {
    "scrolled": true
   },
   "outputs": [],
   "source": [
    "#Sum the manufacturing energies\n",
    "energies_mfg_glass['sum','E_mfg_glass_kWhpkg'] = energies_mfg_glass.filter(like='E_').sum(axis=1)\n",
    "energies_mfg_glass.head(5)"
   ]
  },
  {
   "cell_type": "code",
   "execution_count": null,
   "id": "50aaaf30",
   "metadata": {
    "scrolled": true
   },
   "outputs": [],
   "source": [
    "#Take weighted average of PRCT Fuel by energy step\n",
    "wting_factors = energies_mfg_glass.filter(like='E_')\n",
    "wting_factors = wting_factors.div(energies_mfg_glass['sum','E_mfg_glass_kWhpkg'], axis=0)\n",
    "#wting_factors.drop('E_mfg_glass_kWhpkg', axis=1, inplace=True)\n",
    "wting_factors.head(5)"
   ]
  },
  {
   "cell_type": "code",
   "execution_count": null,
   "id": "fb39446e",
   "metadata": {
    "scrolled": true
   },
   "outputs": [],
   "source": [
    "fuel_fraction = energies_mfg_glass.filter(like='Prct_')\n",
    "fuel_fraction.columns.levels[0]"
   ]
  },
  {
   "cell_type": "code",
   "execution_count": null,
   "id": "b207c3c4",
   "metadata": {},
   "outputs": [],
   "source": [
    "#drop the column name levels to leave the process steps, allowing multiplication\n",
    "wting_factors.columns = wting_factors.columns.droplevel(1)\n",
    "fuel_fraction.columns = fuel_fraction.columns.droplevel(1)"
   ]
  },
  {
   "cell_type": "code",
   "execution_count": null,
   "id": "ced41467",
   "metadata": {
    "scrolled": true
   },
   "outputs": [],
   "source": [
    "wtd_fuel_fraction = wting_factors.mul(fuel_fraction, axis = 1) #multiply fraction of energy/step * PRCT Fuel fraction\n",
    "wtd_fuel_fraction['sum'] = wtd_fuel_fraction.sum(axis=1) #sum the fuel fraction"
   ]
  },
  {
   "cell_type": "code",
   "execution_count": null,
   "id": "f2b2a1b3",
   "metadata": {
    "scrolled": true
   },
   "outputs": [],
   "source": [
    "e_mfg_glass_output = pd.concat([energies_mfg_glass['sum','E_mfg_glass_kWhpkg'], wtd_fuel_fraction['sum']], axis=1)\n",
    "e_mfg_glass_output.columns=['E_mfg_glass_kWhpkg','Prct_fuel']\n",
    "e_mfg_glass_output.head(5)"
   ]
  },
  {
   "cell_type": "code",
   "execution_count": null,
   "id": "f808bbe7",
   "metadata": {},
   "outputs": [],
   "source": [
    "fig, ax1 = plt.subplots() \n",
    "#left axis\n",
    "ax1.set_ylabel('Manufacturing Energy [kWh/kg]', color='blue') \n",
    "ax1.plot(e_mfg_glass_output.index,e_mfg_glass_output.iloc[:,0], color='blue') \n",
    "ax1.set_ylim(0,5)\n",
    "\n",
    "#right axis\n",
    "ax2 = ax1.twinx()\n",
    "plt.ylabel('Fraction of Energy provided by \\n Natural Gas (Methane) [%]', color='red')\n",
    "ax2.plot(e_mfg_glass_output.index,e_mfg_glass_output.iloc[:,1], color='red')  \n",
    "ax2.set_ylim(75,100)\n",
    "\n",
    "plt.title('Energy and Fuel to Manufacture Flat Glass')\n",
    "\n",
    "plt.show()"
   ]
  },
  {
   "cell_type": "code",
   "execution_count": null,
   "id": "df402de6",
   "metadata": {
    "scrolled": false
   },
   "outputs": [],
   "source": [
    "fig, ax1 = plt.subplots() \n",
    "#left axis\n",
    "ax1.set_ylabel('Manufacturing Energy [kWh/kg]', color='blue') \n",
    "ax1.plot(e_mfg_glass_output.index,e_mfg_glass_output.iloc[:,0], color='blue') \n",
    "ax1.set_ylim(0,5)\n",
    "ax1.set_xlim(1995,2025)\n",
    "\n",
    "#right axis\n",
    "ax2 = ax1.twinx()\n",
    "plt.ylabel('Fraction of Energy provided by \\n Natural Gas (Methane) [%]', color='red')\n",
    "ax2.plot(e_mfg_glass_output.index,e_mfg_glass_output.iloc[:,1], color='red')  \n",
    "ax2.set_ylim(75,100)\n",
    "\n",
    "plt.title('Energy and Fuel to Manufacture Flat Glass')\n",
    "\n",
    "plt.show()"
   ]
  },
  {
   "cell_type": "code",
   "execution_count": null,
   "id": "e11c78e4",
   "metadata": {},
   "outputs": [],
   "source": [
    "e_mfg_glass_output.to_csv(cwd+\"/../../../PV_ICE/baselines/SupportingMaterial/output_energy_glass_MFG_FUEL.csv\")"
   ]
  }
 ],
 "metadata": {
  "kernelspec": {
   "display_name": "Python 3 (ipykernel)",
   "language": "python",
   "name": "python3"
  },
  "language_info": {
   "codemirror_mode": {
    "name": "ipython",
    "version": 3
   },
   "file_extension": ".py",
   "mimetype": "text/x-python",
   "name": "python",
   "nbconvert_exporter": "python",
   "pygments_lexer": "ipython3",
   "version": "3.8.8"
  }
 },
 "nbformat": 4,
 "nbformat_minor": 5
}
