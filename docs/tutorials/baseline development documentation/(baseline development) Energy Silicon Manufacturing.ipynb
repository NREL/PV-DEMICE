{
 "cells": [
  {
   "cell_type": "markdown",
   "id": "0664c559",
   "metadata": {},
   "source": [
    "# Energy Requirements of Silicon Manufacturing"
   ]
  },
  {
   "cell_type": "markdown",
   "id": "88eef6cc",
   "metadata": {},
   "source": [
    "This journal creates a baseline for the energy required to manufacture silicon for PV applications. The processes covered here include silica to MG-Si, MG-Si to polysilicon (siemens and FBR), Cz ingot growth, wafering, and cell processing steps. \n",
    "\n"
   ]
  },
  {
   "cell_type": "code",
   "execution_count": 1,
   "id": "fe0ea01d",
   "metadata": {},
   "outputs": [],
   "source": [
    "import numpy as np\n",
    "import pandas as pd\n",
    "import os,sys\n",
    "import matplotlib.pyplot as plt\n",
    "plt.rcParams.update({'font.size': 18})\n",
    "plt.rcParams['figure.figsize'] = (10, 6)"
   ]
  },
  {
   "cell_type": "markdown",
   "id": "e2c3d11d",
   "metadata": {},
   "source": [
    "## Silica to MG-Si\n",
    "\n",
    "After mining cleaning the silica sand to sufficient purity (>95%), the silica sand is mixed with carboniferous materials and undergoes carbothermic reduction to extract the silicon. This is referred to as metallurgical grade silicon, or MG-Si. The carbothermic reduction is generally done in an arc furnace, frequently an electric arc furnace."
   ]
  },
  {
   "cell_type": "code",
   "execution_count": 2,
   "id": "00d18588",
   "metadata": {},
   "outputs": [],
   "source": [
    "cwd = os.getcwd() #grabs current working directory\n",
    "#skipcols = ['Source', 'Notes','Country']\n",
    "e_reducesilica_raw = pd.read_csv(cwd+\"/../../../PV_ICE/baselines/SupportingMaterial/energy-input-silicon-reduceSilicaSi.csv\",\n",
    "                                     index_col='year')#, usecols=lambda x: x not in skipcols)"
   ]
  },
  {
   "cell_type": "code",
   "execution_count": 3,
   "id": "9557c7a1",
   "metadata": {},
   "outputs": [
    {
     "data": {
      "text/html": [
       "<div>\n",
       "<style scoped>\n",
       "    .dataframe tbody tr th:only-of-type {\n",
       "        vertical-align: middle;\n",
       "    }\n",
       "\n",
       "    .dataframe tbody tr th {\n",
       "        vertical-align: top;\n",
       "    }\n",
       "\n",
       "    .dataframe thead th {\n",
       "        text-align: right;\n",
       "    }\n",
       "</style>\n",
       "<table border=\"1\" class=\"dataframe\">\n",
       "  <thead>\n",
       "    <tr style=\"text-align: right;\">\n",
       "      <th></th>\n",
       "      <th>E_reduce_SilicatoMGSi</th>\n",
       "      <th>Fuel_Prct</th>\n",
       "      <th>Source</th>\n",
       "      <th>Notes</th>\n",
       "    </tr>\n",
       "    <tr>\n",
       "      <th>year</th>\n",
       "      <th></th>\n",
       "      <th></th>\n",
       "      <th></th>\n",
       "      <th></th>\n",
       "    </tr>\n",
       "  </thead>\n",
       "  <tbody>\n",
       "    <tr>\n",
       "      <th>1990</th>\n",
       "      <td>51.34</td>\n",
       "      <td>22.0</td>\n",
       "      <td>G. J. M. Phylipsen and E. A. Alsema, “Environm...</td>\n",
       "      <td>electrical process, thermal, and GER of carbon...</td>\n",
       "    </tr>\n",
       "    <tr>\n",
       "      <th>1995</th>\n",
       "      <td>13.89</td>\n",
       "      <td>0.0</td>\n",
       "      <td>R. Dones and R. Frischknecht, “Life-cycle asse...</td>\n",
       "      <td>arc furnace</td>\n",
       "    </tr>\n",
       "    <tr>\n",
       "      <th>2004</th>\n",
       "      <td>11.00</td>\n",
       "      <td>0.0</td>\n",
       "      <td>N. Jungbluth, “Life cycle assessment of crysta...</td>\n",
       "      <td>NaN</td>\n",
       "    </tr>\n",
       "    <tr>\n",
       "      <th>2009</th>\n",
       "      <td>12.00</td>\n",
       "      <td>0.0</td>\n",
       "      <td>B. S. Xakalashe and M. Tangstad, “Silicon proc...</td>\n",
       "      <td>NaN</td>\n",
       "    </tr>\n",
       "    <tr>\n",
       "      <th>2016</th>\n",
       "      <td>27.00</td>\n",
       "      <td>56.0</td>\n",
       "      <td>Chen Z, Ma W, Wu J, Wei K, Yang X, Lv G, Xie K...</td>\n",
       "      <td>also used by Chen 2017, total energy in = elec...</td>\n",
       "    </tr>\n",
       "    <tr>\n",
       "      <th>2017</th>\n",
       "      <td>13.10</td>\n",
       "      <td>0.0</td>\n",
       "      <td>Chen Z, Ma W, Wei K, Wu J, Li S, Xie K, Lv G. ...</td>\n",
       "      <td>data from chinese arc furnace, 4 mo, median of...</td>\n",
       "    </tr>\n",
       "    <tr>\n",
       "      <th>2020</th>\n",
       "      <td>11.00</td>\n",
       "      <td>0.0</td>\n",
       "      <td>A. Müller, L. Friedrich, C. Reichel, S. Herceg...</td>\n",
       "      <td>SoSi, modified Seimens, from Ecoinvent3.7, Fth...</td>\n",
       "    </tr>\n",
       "    <tr>\n",
       "      <th>2022</th>\n",
       "      <td>17.40</td>\n",
       "      <td>37.0</td>\n",
       "      <td>S. M. Heidari and A. Anctil, “Country-specific...</td>\n",
       "      <td>uses Muller electricity as above from PVPS, in...</td>\n",
       "    </tr>\n",
       "  </tbody>\n",
       "</table>\n",
       "</div>"
      ],
      "text/plain": [
       "      E_reduce_SilicatoMGSi  Fuel_Prct  \\\n",
       "year                                     \n",
       "1990                  51.34       22.0   \n",
       "1995                  13.89        0.0   \n",
       "2004                  11.00        0.0   \n",
       "2009                  12.00        0.0   \n",
       "2016                  27.00       56.0   \n",
       "2017                  13.10        0.0   \n",
       "2020                  11.00        0.0   \n",
       "2022                  17.40       37.0   \n",
       "\n",
       "                                                 Source  \\\n",
       "year                                                      \n",
       "1990  G. J. M. Phylipsen and E. A. Alsema, “Environm...   \n",
       "1995  R. Dones and R. Frischknecht, “Life-cycle asse...   \n",
       "2004  N. Jungbluth, “Life cycle assessment of crysta...   \n",
       "2009  B. S. Xakalashe and M. Tangstad, “Silicon proc...   \n",
       "2016  Chen Z, Ma W, Wu J, Wei K, Yang X, Lv G, Xie K...   \n",
       "2017  Chen Z, Ma W, Wei K, Wu J, Li S, Xie K, Lv G. ...   \n",
       "2020  A. Müller, L. Friedrich, C. Reichel, S. Herceg...   \n",
       "2022  S. M. Heidari and A. Anctil, “Country-specific...   \n",
       "\n",
       "                                                  Notes  \n",
       "year                                                     \n",
       "1990  electrical process, thermal, and GER of carbon...  \n",
       "1995                                        arc furnace  \n",
       "2004                                                NaN  \n",
       "2009                                                NaN  \n",
       "2016  also used by Chen 2017, total energy in = elec...  \n",
       "2017  data from chinese arc furnace, 4 mo, median of...  \n",
       "2020  SoSi, modified Seimens, from Ecoinvent3.7, Fth...  \n",
       "2022  uses Muller electricity as above from PVPS, in...  "
      ]
     },
     "execution_count": 3,
     "metadata": {},
     "output_type": "execute_result"
    }
   ],
   "source": [
    "e_reducesilica_raw.dropna(how='all')"
   ]
  },
  {
   "cell_type": "code",
   "execution_count": 4,
   "id": "b5d54efc",
   "metadata": {},
   "outputs": [
    {
     "data": {
      "text/plain": [
       "Text(0, 0.5, '[kWh/kg]')"
      ]
     },
     "execution_count": 4,
     "metadata": {},
     "output_type": "execute_result"
    },
    {
     "data": {
      "image/png": "[encoded data removed]",
      "text/plain": [
       "<Figure size 720x432 with 1 Axes>"
      ]
     },
     "metadata": {
      "needs_background": "light"
     },
     "output_type": "display_data"
    }
   ],
   "source": [
    "plt.plot(e_reducesilica_raw.index,e_reducesilica_raw.iloc[:,0], marker='o')\n",
    "plt.title('Energy: Silica Reduction')\n",
    "plt.ylabel('[kWh/kg]')"
   ]
  },
  {
   "cell_type": "markdown",
   "id": "afeee2a9",
   "metadata": {},
   "source": [
    "Two of the energy points are higher than the others, 1990 from Phylipsen and Alsema, and 2016 from Chen et al. From Phylipsen and Alsema, the note explains that 51.34 kWh/kg is the sum of direct process energy (13 kWh/kg) and the primary energy demand of the carbon inputs+carbon electrodes (11.4kWh/kg). Similarly, Chen et al 2016 has 27 kWh/kg as the sum of electricity plus carbon inputs+carbon electrodes. Our current method is to capture only the electricity or thermal process energy (natural gas/methane) in the energy flows. \n",
    "\n",
    "The final datapoint from Heidari and Anctil also includes electricity plus carbon; they use the 2020 Muller/PVPS electricity value of 11 kWh/kg.\n",
    "\n",
    "Therefore, we will adjust the values for these sections down to just the electricity numbers."
   ]
  },
  {
   "cell_type": "code",
   "execution_count": 5,
   "id": "9ea1668d",
   "metadata": {},
   "outputs": [],
   "source": [
    "e_reducesilica_raw.loc[1990,['E_reduce_SilicatoMGSi']] = 13.0 #Phylipsen Alsema\n",
    "e_reducesilica_raw.loc[2016,['E_reduce_SilicatoMGSi']] = 12.0 #Chen Fig. 2\n",
    "e_reducesilica_raw.loc[2022,['E_reduce_SilicatoMGSi']] = 11.0 #Heidari Anctil"
   ]
  },
  {
   "cell_type": "code",
   "execution_count": 6,
   "id": "c826a129",
   "metadata": {},
   "outputs": [
    {
     "data": {
      "text/plain": [
       "Text(0, 0.5, '[kWh/kg]')"
      ]
     },
     "execution_count": 6,
     "metadata": {},
     "output_type": "execute_result"
    },
    {
     "data": {
      "image/png": "[encoded data removed]",
      "text/plain": [
       "<Figure size 720x432 with 1 Axes>"
      ]
     },
     "metadata": {
      "needs_background": "light"
     },
     "output_type": "display_data"
    }
   ],
   "source": [
    "plt.plot(e_reducesilica_raw.index,e_reducesilica_raw.iloc[:,0], marker='o')\n",
    "plt.title('Energy: Silica Reduction')\n",
    "plt.ylabel('[kWh/kg]')"
   ]
  },
  {
   "cell_type": "markdown",
   "id": "0c23c4a5",
   "metadata": {},
   "source": [
    "Literature values for electric arc furnaces range from 11-13 kWh/kg of MG-Si. Chen et al 2017 notes that while electric arc furnaces in EU countries have energy demands around 11 kWh/kg, Chinese arc furnaces average around 13.1 kWh/kg. The marketshare of Chinese MG-Si has increased in the last decade, as documented in Heidari and Anctil 2022 (derived from USGS 2020, Figure 3.D) between 2005 and 2018.\n",
    "\n",
    "Pre 2005, we will do a linear interpolation between 1990 values and 2005 values.\n",
    "\n",
    "2005-2018, we will do a marketshare weighting of RoW = 11 kWh/kg and China = 13 kWh/kg.\n",
    "\n",
    "2018 through 2030, we will do a linear interpolation down to 11 kWh/kg, assuming continued improvement."
   ]
  },
  {
   "cell_type": "code",
   "execution_count": 9,
   "id": "3da56088",
   "metadata": {
    "scrolled": true
   },
   "outputs": [
    {
     "ename": "KeyError",
     "evalue": "\"None of [Index(['E_reduceSilicatoMGSi'], dtype='object')] are in the [index]\"",
     "output_type": "error",
     "traceback": [
      "\u001b[1;31m---------------------------------------------------------------------------\u001b[0m",
      "\u001b[1;31mKeyError\u001b[0m                                  Traceback (most recent call last)",
      "Input \u001b[1;32mIn [9]\u001b[0m, in \u001b[0;36m<cell line: 4>\u001b[1;34m()\u001b[0m\n\u001b[0;32m      1\u001b[0m \u001b[38;5;66;03m#Pre-2005\u001b[39;00m\n\u001b[0;32m      2\u001b[0m \u001b[38;5;66;03m#take average of pre 2005 value\u001b[39;00m\n\u001b[0;32m      3\u001b[0m e_reducesilica \u001b[38;5;241m=\u001b[39m pd\u001b[38;5;241m.\u001b[39mDataFrame(index\u001b[38;5;241m=\u001b[39m\u001b[38;5;28mrange\u001b[39m(\u001b[38;5;241m1990\u001b[39m,\u001b[38;5;241m2031\u001b[39m))\n\u001b[1;32m----> 4\u001b[0m \u001b[43me_reducesilica\u001b[49m\u001b[38;5;241;43m.\u001b[39;49m\u001b[43mloc\u001b[49m\u001b[43m[\u001b[49m\u001b[38;5;241;43m1990\u001b[39;49m\u001b[43m,\u001b[49m\u001b[43m[\u001b[49m\u001b[38;5;124;43m'\u001b[39;49m\u001b[38;5;124;43mE_reduceSilicatoMGSi\u001b[39;49m\u001b[38;5;124;43m'\u001b[39;49m\u001b[43m]\u001b[49m\u001b[43m]\u001b[49m\n",
      "File \u001b[1;32m~\\Anaconda3\\lib\\site-packages\\pandas\\core\\indexing.py:961\u001b[0m, in \u001b[0;36m_LocationIndexer.__getitem__\u001b[1;34m(self, key)\u001b[0m\n\u001b[0;32m    959\u001b[0m     \u001b[38;5;28;01mif\u001b[39;00m \u001b[38;5;28mself\u001b[39m\u001b[38;5;241m.\u001b[39m_is_scalar_access(key):\n\u001b[0;32m    960\u001b[0m         \u001b[38;5;28;01mreturn\u001b[39;00m \u001b[38;5;28mself\u001b[39m\u001b[38;5;241m.\u001b[39mobj\u001b[38;5;241m.\u001b[39m_get_value(\u001b[38;5;241m*\u001b[39mkey, takeable\u001b[38;5;241m=\u001b[39m\u001b[38;5;28mself\u001b[39m\u001b[38;5;241m.\u001b[39m_takeable)\n\u001b[1;32m--> 961\u001b[0m     \u001b[38;5;28;01mreturn\u001b[39;00m \u001b[38;5;28;43mself\u001b[39;49m\u001b[38;5;241;43m.\u001b[39;49m\u001b[43m_getitem_tuple\u001b[49m\u001b[43m(\u001b[49m\u001b[43mkey\u001b[49m\u001b[43m)\u001b[49m\n\u001b[0;32m    962\u001b[0m \u001b[38;5;28;01melse\u001b[39;00m:\n\u001b[0;32m    963\u001b[0m     \u001b[38;5;66;03m# we by definition only have the 0th axis\u001b[39;00m\n\u001b[0;32m    964\u001b[0m     axis \u001b[38;5;241m=\u001b[39m \u001b[38;5;28mself\u001b[39m\u001b[38;5;241m.\u001b[39maxis \u001b[38;5;129;01mor\u001b[39;00m \u001b[38;5;241m0\u001b[39m\n",
      "File \u001b[1;32m~\\Anaconda3\\lib\\site-packages\\pandas\\core\\indexing.py:1140\u001b[0m, in \u001b[0;36m_LocIndexer._getitem_tuple\u001b[1;34m(self, tup)\u001b[0m\n\u001b[0;32m   1138\u001b[0m \u001b[38;5;28;01mwith\u001b[39;00m suppress(IndexingError):\n\u001b[0;32m   1139\u001b[0m     tup \u001b[38;5;241m=\u001b[39m \u001b[38;5;28mself\u001b[39m\u001b[38;5;241m.\u001b[39m_expand_ellipsis(tup)\n\u001b[1;32m-> 1140\u001b[0m     \u001b[38;5;28;01mreturn\u001b[39;00m \u001b[38;5;28;43mself\u001b[39;49m\u001b[38;5;241;43m.\u001b[39;49m\u001b[43m_getitem_lowerdim\u001b[49m\u001b[43m(\u001b[49m\u001b[43mtup\u001b[49m\u001b[43m)\u001b[49m\n\u001b[0;32m   1142\u001b[0m \u001b[38;5;66;03m# no multi-index, so validate all of the indexers\u001b[39;00m\n\u001b[0;32m   1143\u001b[0m tup \u001b[38;5;241m=\u001b[39m \u001b[38;5;28mself\u001b[39m\u001b[38;5;241m.\u001b[39m_validate_tuple_indexer(tup)\n",
      "File \u001b[1;32m~\\Anaconda3\\lib\\site-packages\\pandas\\core\\indexing.py:891\u001b[0m, in \u001b[0;36m_LocationIndexer._getitem_lowerdim\u001b[1;34m(self, tup)\u001b[0m\n\u001b[0;32m    889\u001b[0m             \u001b[38;5;28;01mreturn\u001b[39;00m section\n\u001b[0;32m    890\u001b[0m         \u001b[38;5;66;03m# This is an elided recursive call to iloc/loc\u001b[39;00m\n\u001b[1;32m--> 891\u001b[0m         \u001b[38;5;28;01mreturn\u001b[39;00m \u001b[38;5;28;43mgetattr\u001b[39;49m\u001b[43m(\u001b[49m\u001b[43msection\u001b[49m\u001b[43m,\u001b[49m\u001b[43m \u001b[49m\u001b[38;5;28;43mself\u001b[39;49m\u001b[38;5;241;43m.\u001b[39;49m\u001b[43mname\u001b[49m\u001b[43m)\u001b[49m\u001b[43m[\u001b[49m\u001b[43mnew_key\u001b[49m\u001b[43m]\u001b[49m\n\u001b[0;32m    893\u001b[0m \u001b[38;5;28;01mraise\u001b[39;00m IndexingError(\u001b[38;5;124m\"\u001b[39m\u001b[38;5;124mnot applicable\u001b[39m\u001b[38;5;124m\"\u001b[39m)\n",
      "File \u001b[1;32m~\\Anaconda3\\lib\\site-packages\\pandas\\core\\indexing.py:967\u001b[0m, in \u001b[0;36m_LocationIndexer.__getitem__\u001b[1;34m(self, key)\u001b[0m\n\u001b[0;32m    964\u001b[0m axis \u001b[38;5;241m=\u001b[39m \u001b[38;5;28mself\u001b[39m\u001b[38;5;241m.\u001b[39maxis \u001b[38;5;129;01mor\u001b[39;00m \u001b[38;5;241m0\u001b[39m\n\u001b[0;32m    966\u001b[0m maybe_callable \u001b[38;5;241m=\u001b[39m com\u001b[38;5;241m.\u001b[39mapply_if_callable(key, \u001b[38;5;28mself\u001b[39m\u001b[38;5;241m.\u001b[39mobj)\n\u001b[1;32m--> 967\u001b[0m \u001b[38;5;28;01mreturn\u001b[39;00m \u001b[38;5;28;43mself\u001b[39;49m\u001b[38;5;241;43m.\u001b[39;49m\u001b[43m_getitem_axis\u001b[49m\u001b[43m(\u001b[49m\u001b[43mmaybe_callable\u001b[49m\u001b[43m,\u001b[49m\u001b[43m \u001b[49m\u001b[43maxis\u001b[49m\u001b[38;5;241;43m=\u001b[39;49m\u001b[43maxis\u001b[49m\u001b[43m)\u001b[49m\n",
      "File \u001b[1;32m~\\Anaconda3\\lib\\site-packages\\pandas\\core\\indexing.py:1191\u001b[0m, in \u001b[0;36m_LocIndexer._getitem_axis\u001b[1;34m(self, key, axis)\u001b[0m\n\u001b[0;32m   1188\u001b[0m     \u001b[38;5;28;01mif\u001b[39;00m \u001b[38;5;28mhasattr\u001b[39m(key, \u001b[38;5;124m\"\u001b[39m\u001b[38;5;124mndim\u001b[39m\u001b[38;5;124m\"\u001b[39m) \u001b[38;5;129;01mand\u001b[39;00m key\u001b[38;5;241m.\u001b[39mndim \u001b[38;5;241m>\u001b[39m \u001b[38;5;241m1\u001b[39m:\n\u001b[0;32m   1189\u001b[0m         \u001b[38;5;28;01mraise\u001b[39;00m \u001b[38;5;167;01mValueError\u001b[39;00m(\u001b[38;5;124m\"\u001b[39m\u001b[38;5;124mCannot index with multidimensional key\u001b[39m\u001b[38;5;124m\"\u001b[39m)\n\u001b[1;32m-> 1191\u001b[0m     \u001b[38;5;28;01mreturn\u001b[39;00m \u001b[38;5;28;43mself\u001b[39;49m\u001b[38;5;241;43m.\u001b[39;49m\u001b[43m_getitem_iterable\u001b[49m\u001b[43m(\u001b[49m\u001b[43mkey\u001b[49m\u001b[43m,\u001b[49m\u001b[43m \u001b[49m\u001b[43maxis\u001b[49m\u001b[38;5;241;43m=\u001b[39;49m\u001b[43maxis\u001b[49m\u001b[43m)\u001b[49m\n\u001b[0;32m   1193\u001b[0m \u001b[38;5;66;03m# nested tuple slicing\u001b[39;00m\n\u001b[0;32m   1194\u001b[0m \u001b[38;5;28;01mif\u001b[39;00m is_nested_tuple(key, labels):\n",
      "File \u001b[1;32m~\\Anaconda3\\lib\\site-packages\\pandas\\core\\indexing.py:1132\u001b[0m, in \u001b[0;36m_LocIndexer._getitem_iterable\u001b[1;34m(self, key, axis)\u001b[0m\n\u001b[0;32m   1129\u001b[0m \u001b[38;5;28mself\u001b[39m\u001b[38;5;241m.\u001b[39m_validate_key(key, axis)\n\u001b[0;32m   1131\u001b[0m \u001b[38;5;66;03m# A collection of keys\u001b[39;00m\n\u001b[1;32m-> 1132\u001b[0m keyarr, indexer \u001b[38;5;241m=\u001b[39m \u001b[38;5;28;43mself\u001b[39;49m\u001b[38;5;241;43m.\u001b[39;49m\u001b[43m_get_listlike_indexer\u001b[49m\u001b[43m(\u001b[49m\u001b[43mkey\u001b[49m\u001b[43m,\u001b[49m\u001b[43m \u001b[49m\u001b[43maxis\u001b[49m\u001b[43m)\u001b[49m\n\u001b[0;32m   1133\u001b[0m \u001b[38;5;28;01mreturn\u001b[39;00m \u001b[38;5;28mself\u001b[39m\u001b[38;5;241m.\u001b[39mobj\u001b[38;5;241m.\u001b[39m_reindex_with_indexers(\n\u001b[0;32m   1134\u001b[0m     {axis: [keyarr, indexer]}, copy\u001b[38;5;241m=\u001b[39m\u001b[38;5;28;01mTrue\u001b[39;00m, allow_dups\u001b[38;5;241m=\u001b[39m\u001b[38;5;28;01mTrue\u001b[39;00m\n\u001b[0;32m   1135\u001b[0m )\n",
      "File \u001b[1;32m~\\Anaconda3\\lib\\site-packages\\pandas\\core\\indexing.py:1327\u001b[0m, in \u001b[0;36m_LocIndexer._get_listlike_indexer\u001b[1;34m(self, key, axis)\u001b[0m\n\u001b[0;32m   1324\u001b[0m ax \u001b[38;5;241m=\u001b[39m \u001b[38;5;28mself\u001b[39m\u001b[38;5;241m.\u001b[39mobj\u001b[38;5;241m.\u001b[39m_get_axis(axis)\n\u001b[0;32m   1325\u001b[0m axis_name \u001b[38;5;241m=\u001b[39m \u001b[38;5;28mself\u001b[39m\u001b[38;5;241m.\u001b[39mobj\u001b[38;5;241m.\u001b[39m_get_axis_name(axis)\n\u001b[1;32m-> 1327\u001b[0m keyarr, indexer \u001b[38;5;241m=\u001b[39m \u001b[43max\u001b[49m\u001b[38;5;241;43m.\u001b[39;49m\u001b[43m_get_indexer_strict\u001b[49m\u001b[43m(\u001b[49m\u001b[43mkey\u001b[49m\u001b[43m,\u001b[49m\u001b[43m \u001b[49m\u001b[43maxis_name\u001b[49m\u001b[43m)\u001b[49m\n\u001b[0;32m   1329\u001b[0m \u001b[38;5;28;01mreturn\u001b[39;00m keyarr, indexer\n",
      "File \u001b[1;32m~\\Anaconda3\\lib\\site-packages\\pandas\\core\\indexes\\base.py:5782\u001b[0m, in \u001b[0;36mIndex._get_indexer_strict\u001b[1;34m(self, key, axis_name)\u001b[0m\n\u001b[0;32m   5779\u001b[0m \u001b[38;5;28;01melse\u001b[39;00m:\n\u001b[0;32m   5780\u001b[0m     keyarr, indexer, new_indexer \u001b[38;5;241m=\u001b[39m \u001b[38;5;28mself\u001b[39m\u001b[38;5;241m.\u001b[39m_reindex_non_unique(keyarr)\n\u001b[1;32m-> 5782\u001b[0m \u001b[38;5;28;43mself\u001b[39;49m\u001b[38;5;241;43m.\u001b[39;49m\u001b[43m_raise_if_missing\u001b[49m\u001b[43m(\u001b[49m\u001b[43mkeyarr\u001b[49m\u001b[43m,\u001b[49m\u001b[43m \u001b[49m\u001b[43mindexer\u001b[49m\u001b[43m,\u001b[49m\u001b[43m \u001b[49m\u001b[43maxis_name\u001b[49m\u001b[43m)\u001b[49m\n\u001b[0;32m   5784\u001b[0m keyarr \u001b[38;5;241m=\u001b[39m \u001b[38;5;28mself\u001b[39m\u001b[38;5;241m.\u001b[39mtake(indexer)\n\u001b[0;32m   5785\u001b[0m \u001b[38;5;28;01mif\u001b[39;00m \u001b[38;5;28misinstance\u001b[39m(key, Index):\n\u001b[0;32m   5786\u001b[0m     \u001b[38;5;66;03m# GH 42790 - Preserve name from an Index\u001b[39;00m\n",
      "File \u001b[1;32m~\\Anaconda3\\lib\\site-packages\\pandas\\core\\indexes\\base.py:5842\u001b[0m, in \u001b[0;36mIndex._raise_if_missing\u001b[1;34m(self, key, indexer, axis_name)\u001b[0m\n\u001b[0;32m   5840\u001b[0m     \u001b[38;5;28;01mif\u001b[39;00m use_interval_msg:\n\u001b[0;32m   5841\u001b[0m         key \u001b[38;5;241m=\u001b[39m \u001b[38;5;28mlist\u001b[39m(key)\n\u001b[1;32m-> 5842\u001b[0m     \u001b[38;5;28;01mraise\u001b[39;00m \u001b[38;5;167;01mKeyError\u001b[39;00m(\u001b[38;5;124mf\u001b[39m\u001b[38;5;124m\"\u001b[39m\u001b[38;5;124mNone of [\u001b[39m\u001b[38;5;132;01m{\u001b[39;00mkey\u001b[38;5;132;01m}\u001b[39;00m\u001b[38;5;124m] are in the [\u001b[39m\u001b[38;5;132;01m{\u001b[39;00maxis_name\u001b[38;5;132;01m}\u001b[39;00m\u001b[38;5;124m]\u001b[39m\u001b[38;5;124m\"\u001b[39m)\n\u001b[0;32m   5844\u001b[0m not_found \u001b[38;5;241m=\u001b[39m \u001b[38;5;28mlist\u001b[39m(ensure_index(key)[missing_mask\u001b[38;5;241m.\u001b[39mnonzero()[\u001b[38;5;241m0\u001b[39m]]\u001b[38;5;241m.\u001b[39munique())\n\u001b[0;32m   5845\u001b[0m \u001b[38;5;28;01mraise\u001b[39;00m \u001b[38;5;167;01mKeyError\u001b[39;00m(\u001b[38;5;124mf\u001b[39m\u001b[38;5;124m\"\u001b[39m\u001b[38;5;132;01m{\u001b[39;00mnot_found\u001b[38;5;132;01m}\u001b[39;00m\u001b[38;5;124m not in index\u001b[39m\u001b[38;5;124m\"\u001b[39m)\n",
      "\u001b[1;31mKeyError\u001b[0m: \"None of [Index(['E_reduceSilicatoMGSi'], dtype='object')] are in the [index]\""
     ]
    }
   ],
   "source": [
    "#Pre-2005\n",
    "#take average of pre 2005 value\n",
    "e_reducesilica = pd.DataFrame(index=range(1990,2031))\n",
    "e_reducesilica.loc[1990,['E_reduceSilicatoMGSi']] #= e_reducesilica_raw.loc[:1995,['E_reduce_SilicatoMGSi']].dropna(how='all').mean()\n",
    "#e_reducesilica.head(2)"
   ]
  },
  {
   "cell_type": "code",
   "execution_count": null,
   "id": "61c1b061",
   "metadata": {},
   "outputs": [],
   "source": [
    "#2005-2018\n",
    "mrktshr_mgsi_region = pd.read_csv(cwd+\"/../../../PV_ICE/baselines/SupportingMaterial/energy-input-silicon-marketshareMGSiProdRegion.csv\", index_col='year')\n",
    "mrktshr_mgsi_region['MarketShare_RoW_MGSi'] = 1.0-mrktshr_mgsi_region['MarketShare_Chinese_MGSi']\n",
    "mrktshr_mgsi_region['MarketShare_Chinese_MGSi']*=13 #multiply by kWh/kg China\n",
    "mrktshr_mgsi_region['MarketShare_RoW_MGSi']*=11 #multiply by kWh/kg RoW\n",
    "mrktshr_mgsi_region.sum(axis=1) #sum weighted kWh/kg"
   ]
  },
  {
   "cell_type": "code",
   "execution_count": null,
   "id": "a79e3984",
   "metadata": {},
   "outputs": [],
   "source": [
    "#2018-2030\n"
   ]
  },
  {
   "cell_type": "code",
   "execution_count": null,
   "id": "07dea850",
   "metadata": {},
   "outputs": [],
   "source": [
    "e_batchglass_trim = e_batchglass_raw.loc[1995:,['E_batchingGlass_kWhpkg','Prct_Fuel_batch']]"
   ]
  },
  {
   "cell_type": "code",
   "execution_count": null,
   "id": "ab968f46",
   "metadata": {
    "scrolled": true
   },
   "outputs": [],
   "source": [
    "e_batchglass_trim['E_batchingGlass_kWhpkg']=avg_batch_e\n",
    "e_batchglass_trim['Prct_Fuel_batch']=0.0\n",
    "e_batchglass_trim.head(5)"
   ]
  },
  {
   "cell_type": "markdown",
   "id": "24175338",
   "metadata": {},
   "source": [
    "## Melting\n",
    "\n",
    "The next step in glass manufacturing is the melting of the glass. This is seperated out in the literature from the forming, although the process is usually continuous. This step also involves a significant quantity of methane gas heating. We will note this important aspect in our accounting as a fraciton of the total energy neede for each step."
   ]
  },
  {
   "cell_type": "code",
   "execution_count": null,
   "id": "604a13a0",
   "metadata": {},
   "outputs": [],
   "source": [
    "cwd = os.getcwd()\n",
    "#skipcols = ['Source', 'Notes','Country']\n",
    "e_meltrefine_raw = pd.read_csv(cwd+\"/../../../PV_ICE/baselines/SupportingMaterial/energy-input-glass-meltrefine.csv\",\n",
    "                                     index_col='year')#, usecols=lambda x: x not in skipcols)"
   ]
  },
  {
   "cell_type": "code",
   "execution_count": null,
   "id": "a218c94a",
   "metadata": {},
   "outputs": [],
   "source": [
    "e_meltrefine_raw.dropna(how='all')"
   ]
  },
  {
   "cell_type": "code",
   "execution_count": null,
   "id": "d8267d84",
   "metadata": {},
   "outputs": [],
   "source": [
    "e_meltrefine_raw.loc[2019,'Notes']"
   ]
  },
  {
   "cell_type": "markdown",
   "id": "25adfe54",
   "metadata": {},
   "source": [
    "One of the fractions of methane is lower than the others. This is M. Zier, P. Stenzel, L. Kotzur, and D. Stolten, “A review of decarbonization options for the glass industry,” Energy Conversion and Management: X, vol. 10, p. 100083, Jun. 2021, doi: 10.1016/j.ecmx.2021.100083. and the energy was adjusted by the overall energy carrier for glass manufacturing in Germany. This may not be representative of the whole world, and it may also include more than just the melting step. Given that the other years are all in agreement, and the 77% is an average since the 1990s, we will remove this value and use the previous datapoint (95% from Worrell)."
   ]
  },
  {
   "cell_type": "code",
   "execution_count": null,
   "id": "d6005a66",
   "metadata": {},
   "outputs": [],
   "source": [
    "e_meltrefine = e_meltrefine_raw.copy()\n",
    "e_meltrefine.loc[2019,'Prct_Fuel_melt'] = np.nan\n",
    "\n",
    "#previous version used the average of all values, but this cause the fraction to rise again.\n",
    "#e_meltrefine.loc[2019,'Prct_Fuel'] = round(e_meltrefine.loc[:,'Prct_Fuel'].mean(),0) \n",
    "#e_meltrefine.loc[2019,'Prct_Fuel']"
   ]
  },
  {
   "cell_type": "markdown",
   "id": "bf2871be",
   "metadata": {},
   "source": [
    "Now we'll examine the energy totals."
   ]
  },
  {
   "cell_type": "code",
   "execution_count": null,
   "id": "7c9e41d8",
   "metadata": {},
   "outputs": [],
   "source": [
    "plt.plot(e_meltrefine.index,e_meltrefine.iloc[:,0], marker='o')\n",
    "plt.title('Energy: Melt and Refine Glass')\n",
    "plt.ylabel('[kWh/kg]')"
   ]
  },
  {
   "cell_type": "markdown",
   "id": "6ca2b69e",
   "metadata": {},
   "source": [
    "The 1980 value is much lower than the 1997 value. This data point is from H. L. Brown, Energy Analysis of 108 Industrial Processes. The Fairmont Press, Inc., 1996. (note the publication date and the data date are not the same). and the noted batch size is a few pounds, meaning this is potentially a different scale of glass manufacturing than we are considering. Additionally, we only need to go back to 1995, therefore, we will drop this datapoint, and back propogate the 1997 data."
   ]
  },
  {
   "cell_type": "code",
   "execution_count": null,
   "id": "96d4582d",
   "metadata": {},
   "outputs": [],
   "source": [
    "e_meltrefine_subrange = e_meltrefine.loc[1995:,['E_melt_refine_total_kWhpkg','Prct_Fuel_melt']]\n"
   ]
  },
  {
   "cell_type": "markdown",
   "id": "fbf33af2",
   "metadata": {},
   "source": [
    "Now we will interpolate to create a complete data set for history. It will hold the edge values constant forward and backward."
   ]
  },
  {
   "cell_type": "code",
   "execution_count": null,
   "id": "a0cd7309",
   "metadata": {},
   "outputs": [],
   "source": [
    "e_meltrefine_filled = e_meltrefine_subrange.interpolate(limit_direction='both')"
   ]
  },
  {
   "cell_type": "code",
   "execution_count": null,
   "id": "d4a67bc2",
   "metadata": {},
   "outputs": [],
   "source": [
    "fig, ax1 = plt.subplots() \n",
    "#left axis\n",
    "ax1.set_ylabel('Melting and Refining Energy [kWh/kg]', color='blue') \n",
    "ax1.plot(e_meltrefine_filled.index,e_meltrefine_filled.iloc[:,0], color='blue') \n",
    "ax1.set_ylim(0,4)\n",
    "ax1.set_xlim(1995,2025)\n",
    "\n",
    "#right axis\n",
    "ax2 = ax1.twinx()\n",
    "plt.ylabel('Fraction of Energy provided by Methane [%]', color='red')\n",
    "ax2.plot(e_meltrefine_filled.index,e_meltrefine_filled.iloc[:,1], color='red')  \n",
    "ax2.set_ylim(80,100)\n",
    "\n",
    "plt.title('Energy: Melt & Refine Glass')\n",
    "\n",
    "plt.show()"
   ]
  },
  {
   "cell_type": "code",
   "execution_count": null,
   "id": "69068844",
   "metadata": {},
   "outputs": [],
   "source": [
    "e_meltrefine_filled.to_csv(cwd+\"/../../../PV_ICE/baselines/SupportingMaterial/output_energy_glass_meltrefine.csv\")"
   ]
  },
  {
   "cell_type": "markdown",
   "id": "39f95d50",
   "metadata": {},
   "source": [
    "## Forming\n",
    "The next step in flat glass formation is forming the flat plate from the melt. There are many ways to do this; float glass entails the molten glass to drop into and float on a bath of molten tin; Rolled glass is drawn through cooled rollers. We will use these two processes interchangably here due to a lack of data."
   ]
  },
  {
   "cell_type": "code",
   "execution_count": null,
   "id": "7084991a",
   "metadata": {},
   "outputs": [],
   "source": [
    "cwd = os.getcwd()\n",
    "#skipcols = ['Source', 'Notes','Country']\n",
    "e_glassform_raw = pd.read_csv(cwd+\"/../../../PV_ICE/baselines/SupportingMaterial/energy-input-glassforming.csv\",\n",
    "                                     index_col='year')#, usecols=lambda x: x not in skipcols)"
   ]
  },
  {
   "cell_type": "code",
   "execution_count": null,
   "id": "79014bb6",
   "metadata": {},
   "outputs": [],
   "source": [
    "e_glassform_raw.dropna(how='all')"
   ]
  },
  {
   "cell_type": "code",
   "execution_count": null,
   "id": "172f1a99",
   "metadata": {},
   "outputs": [],
   "source": [
    "plt.plot(e_glassform_raw.index,e_glassform_raw['E_Glassforming_kWhpkg'], marker='o')\n",
    "plt.title('Energy of Forming Flat glass')\n",
    "plt.xlabel('[kWh/kg]')"
   ]
  },
  {
   "cell_type": "markdown",
   "id": "1ef649ed",
   "metadata": {},
   "source": [
    "Like the previous set of data, the 1980 datapoint seems unreasonably low, and we know this might potentially be a smaller scale than the other data. Therefore, we will exclude it and perform the same interpolation for the needed time range."
   ]
  },
  {
   "cell_type": "code",
   "execution_count": null,
   "id": "86979858",
   "metadata": {},
   "outputs": [],
   "source": [
    "e_glassform = e_glassform_raw.loc[1995:,['E_Glassforming_kWhpkg','Prct_Fuel_form']]\n",
    "e_glassform_filled = e_glassform.interpolate(limit_direction='both')"
   ]
  },
  {
   "cell_type": "code",
   "execution_count": null,
   "id": "2dcf1cd5",
   "metadata": {},
   "outputs": [],
   "source": [
    "fig, ax1 = plt.subplots() \n",
    "#left axis\n",
    "ax1.set_ylabel('[kWh/kg]', color='blue') \n",
    "ax1.plot(e_glassform_filled.index,e_glassform_filled.iloc[:,0], color='blue') \n",
    "ax1.set_ylim(0,1)\n",
    "ax1.set_xlim(1995,2025)\n",
    "\n",
    "#right axis\n",
    "#ax2 = ax1.twinx()\n",
    "#plt.ylabel('Fraction of Energy provided by Methane [%]', color='red')\n",
    "#ax2.plot(e_glassform_filled.index,e_glassform_filled.iloc[:,1], color='red')  \n",
    "#ax2.set_ylim(0,2)\n",
    "\n",
    "plt.title('Energy for Forming Flat Glass')\n",
    "\n",
    "plt.show()\n"
   ]
  },
  {
   "cell_type": "code",
   "execution_count": null,
   "id": "91d9bea4",
   "metadata": {},
   "outputs": [],
   "source": [
    "e_glassform_filled.to_csv(cwd+\"/../../../PV_ICE/baselines/SupportingMaterial/output_energy_glass_formflat.csv\")"
   ]
  },
  {
   "cell_type": "markdown",
   "id": "66c70adc",
   "metadata": {},
   "source": [
    "## Post Forming: Anneal and Temper\n",
    "\n",
    "All PV flat glass for c-Si PV is tempered for safety reasons, and all tempered glass has already been annealed. Therefore, we will account for both the energy to anneal and temper the flat glass.\n",
    "\n",
    "For Bifacial PV technology, the glasses are actually NOT tempered. They are heat treated instead. LOOK INTO DIFFERENCES IN THIS ENERGY DEMAND."
   ]
  },
  {
   "cell_type": "code",
   "execution_count": null,
   "id": "692434f6",
   "metadata": {},
   "outputs": [],
   "source": [
    "cwd = os.getcwd()\n",
    "#skipcols = ['Source', 'Notes','Country']\n",
    "e_glass_annealtemper_raw = pd.read_csv(cwd+\"/../../../PV_ICE/baselines/SupportingMaterial/energy-input-glass-postforming.csv\",\n",
    "                                     index_col='year')#, usecols=lambda x: x not in skipcols)"
   ]
  },
  {
   "cell_type": "code",
   "execution_count": null,
   "id": "6e168072",
   "metadata": {},
   "outputs": [],
   "source": [
    "e_glass_annealtemper_raw.dropna(how='all')"
   ]
  },
  {
   "cell_type": "code",
   "execution_count": null,
   "id": "ff886fa2",
   "metadata": {},
   "outputs": [],
   "source": [
    "e_glass_annealtemper_raw.loc[1997,'Notes']"
   ]
  },
  {
   "cell_type": "code",
   "execution_count": null,
   "id": "c6e78f2d",
   "metadata": {},
   "outputs": [],
   "source": [
    "plt.plot(e_glass_annealtemper_raw.index,e_glass_annealtemper_raw['E_GlassTempering_kWhpkg'], marker='o')\n",
    "plt.title('Energy of Annealing and Tempering Flat glass')\n",
    "plt.xlabel('[kWh/kg]')"
   ]
  },
  {
   "cell_type": "markdown",
   "id": "098f3d8b",
   "metadata": {},
   "source": [
    "Once again, the 1980 datapoint seems excessively low and will therefore be excluded.\n",
    "\n",
    "The jump between 1997 and 2001 data seems unlikely to be a trend and more attributable to differing methods of calculating the energy requirements. The modern datapoint falls between these two points. Therefore, like for the batching energy, we wil take an average of these 3 points and use that for all time. "
   ]
  },
  {
   "cell_type": "code",
   "execution_count": null,
   "id": "9e8857ad",
   "metadata": {},
   "outputs": [],
   "source": [
    "e_glass_annealtemper_trim = e_glass_annealtemper_raw.loc[1995:,['E_GlassTempering_kWhpkg','Prct_fuel_annealtemper']]"
   ]
  },
  {
   "cell_type": "code",
   "execution_count": null,
   "id": "4f2a2b54",
   "metadata": {
    "scrolled": true
   },
   "outputs": [],
   "source": [
    "avg_annealtemper_e = e_glass_annealtemper_trim.iloc[:,0].mean()\n",
    "avg_prctfuel_annealtemper = e_glass_annealtemper_trim.iloc[:,1].mean()\n",
    "e_glass_annealtemper_trim['E_GlassTempering_kWhpkg']= avg_annealtemper_e\n",
    "e_glass_annealtemper_trim['Prct_fuel_annealtemper']= avg_prctfuel_annealtemper\n",
    "e_glass_annealtemper_trim.head(5)"
   ]
  },
  {
   "cell_type": "markdown",
   "id": "7428453e",
   "metadata": {},
   "source": [
    "## Combine All MFG energy\n",
    "\n",
    "For the energy baseline to match up with the mass baseline, we are separating the energy demands into virgin material, transport, and manufacturing energy. This journal covers the Manufacturing energy, batch processing through forming and cutting. The following calculation sum all the energies associate with manufacturing at the flat glass facility.\n",
    "\n",
    "To track the use of methane/natural gas in the processing, we will do a weighted average percent fuel column to accompany the total energy value."
   ]
  },
  {
   "cell_type": "code",
   "execution_count": null,
   "id": "f209ef73",
   "metadata": {
    "scrolled": true
   },
   "outputs": [],
   "source": [
    "dfs = [e_batchglass_trim, e_meltrefine_filled, e_glassform_filled, e_glass_annealtemper_trim]\n",
    "energies_mfg_glass = pd.concat(dfs, axis=1, keys = ['batch','melt','form','anneal'])\n",
    "energies_mfg_glass.head(5)"
   ]
  },
  {
   "cell_type": "code",
   "execution_count": null,
   "id": "84a91fef",
   "metadata": {
    "scrolled": true
   },
   "outputs": [],
   "source": [
    "#Sum the manufacturing energies\n",
    "energies_mfg_glass['sum','E_mfg_glass_kWhpkg'] = energies_mfg_glass.filter(like='E_').sum(axis=1)\n",
    "energies_mfg_glass.head(5)"
   ]
  },
  {
   "cell_type": "code",
   "execution_count": null,
   "id": "50aaaf30",
   "metadata": {
    "scrolled": true
   },
   "outputs": [],
   "source": [
    "#Take weighted average of PRCT Fuel by energy step\n",
    "wting_factors = energies_mfg_glass.filter(like='E_')\n",
    "wting_factors = wting_factors.div(energies_mfg_glass['sum','E_mfg_glass_kWhpkg'], axis=0)\n",
    "#wting_factors.drop('E_mfg_glass_kWhpkg', axis=1, inplace=True)\n",
    "wting_factors.head(5)"
   ]
  },
  {
   "cell_type": "code",
   "execution_count": null,
   "id": "fb39446e",
   "metadata": {
    "scrolled": true
   },
   "outputs": [],
   "source": [
    "fuel_fraction = energies_mfg_glass.filter(like='Prct_')\n",
    "fuel_fraction.columns.levels[0]"
   ]
  },
  {
   "cell_type": "code",
   "execution_count": null,
   "id": "b207c3c4",
   "metadata": {},
   "outputs": [],
   "source": [
    "#drop the column name levels to leave the process steps, allowing multiplication\n",
    "wting_factors.columns = wting_factors.columns.droplevel(1)\n",
    "fuel_fraction.columns = fuel_fraction.columns.droplevel(1)"
   ]
  },
  {
   "cell_type": "code",
   "execution_count": null,
   "id": "ced41467",
   "metadata": {
    "scrolled": true
   },
   "outputs": [],
   "source": [
    "wtd_fuel_fraction = wting_factors.mul(fuel_fraction, axis = 1) #multiply fraction of energy/step * PRCT Fuel fraction\n",
    "wtd_fuel_fraction['sum'] = wtd_fuel_fraction.sum(axis=1) #sum the fuel fraction"
   ]
  },
  {
   "cell_type": "code",
   "execution_count": null,
   "id": "f2b2a1b3",
   "metadata": {
    "scrolled": true
   },
   "outputs": [],
   "source": [
    "e_mfg_glass_output = pd.concat([energies_mfg_glass['sum','E_mfg_glass_kWhpkg'], wtd_fuel_fraction['sum']], axis=1)\n",
    "e_mfg_glass_output.columns=['E_mfg_glass_kWhpkg','Prct_fuel']\n",
    "e_mfg_glass_output.head(5)"
   ]
  },
  {
   "cell_type": "code",
   "execution_count": null,
   "id": "f808bbe7",
   "metadata": {},
   "outputs": [],
   "source": [
    "fig, ax1 = plt.subplots() \n",
    "#left axis\n",
    "ax1.set_ylabel('Manufacturing Energy [kWh/kg]', color='blue') \n",
    "ax1.plot(e_mfg_glass_output.index,e_mfg_glass_output.iloc[:,0], color='blue') \n",
    "ax1.set_ylim(0,5)\n",
    "\n",
    "#right axis\n",
    "ax2 = ax1.twinx()\n",
    "plt.ylabel('Fraction of Energy provided by \\n Natural Gas (Methane) [%]', color='red')\n",
    "ax2.plot(e_mfg_glass_output.index,e_mfg_glass_output.iloc[:,1], color='red')  \n",
    "ax2.set_ylim(75,100)\n",
    "\n",
    "plt.title('Energy and Fuel to Manufacture Flat Glass')\n",
    "\n",
    "plt.show()"
   ]
  },
  {
   "cell_type": "code",
   "execution_count": null,
   "id": "df402de6",
   "metadata": {
    "scrolled": false
   },
   "outputs": [],
   "source": [
    "fig, ax1 = plt.subplots() \n",
    "#left axis\n",
    "ax1.set_ylabel('Manufacturing Energy [kWh/kg]', color='blue') \n",
    "ax1.plot(e_mfg_glass_output.index,e_mfg_glass_output.iloc[:,0], color='blue') \n",
    "ax1.set_ylim(0,5)\n",
    "ax1.set_xlim(1995,2025)\n",
    "\n",
    "#right axis\n",
    "ax2 = ax1.twinx()\n",
    "plt.ylabel('Fraction of Energy provided by \\n Natural Gas (Methane) [%]', color='red')\n",
    "ax2.plot(e_mfg_glass_output.index,e_mfg_glass_output.iloc[:,1], color='red')  \n",
    "ax2.set_ylim(75,100)\n",
    "\n",
    "plt.title('Energy and Fuel to Manufacture Flat Glass')\n",
    "\n",
    "plt.show()"
   ]
  },
  {
   "cell_type": "code",
   "execution_count": null,
   "id": "e11c78e4",
   "metadata": {},
   "outputs": [],
   "source": [
    "e_mfg_glass_output.to_csv(cwd+\"/../../../PV_ICE/baselines/SupportingMaterial/output_energy_glass_MFG_FUEL.csv\")"
   ]
  }
 ],
 "metadata": {
  "kernelspec": {
   "display_name": "Python 3 (ipykernel)",
   "language": "python",
   "name": "python3"
  },
  "language_info": {
   "codemirror_mode": {
    "name": "ipython",
    "version": 3
   },
   "file_extension": ".py",
   "mimetype": "text/x-python",
   "name": "python",
   "nbconvert_exporter": "python",
   "pygments_lexer": "ipython3",
   "version": "3.8.8"
  }
 },
 "nbformat": 4,
 "nbformat_minor": 5
}
