{
 "cells": [
  {
   "cell_type": "markdown",
   "id": "96175a55",
   "metadata": {},
   "source": [
    "# Energy Carbon: Marketshare by Country Weighting\n",
    "In this first section we will determine the country-wise countribution to each of the energy steps of the silicon supply chain to correctly attribute carbon intensities to grids."
   ]
  },
  {
   "cell_type": "code",
   "execution_count": 17,
   "id": "6380e01a",
   "metadata": {},
   "outputs": [],
   "source": [
    "import numpy as np\n",
    "import pandas as pd\n",
    "import os,sys\n",
    "from pathlib import Path\n",
    "import matplotlib.pyplot as plt\n",
    "plt.rcParams.update({'font.size': 18})\n",
    "plt.rcParams['figure.figsize'] = (10, 6)\n",
    "cwd = os.getcwd() #grabs current working directory\n",
    "carbonfolder = str(Path().resolve().parent.parent.parent / 'PV_ICE' / 'baselines' / 'SupportingMaterial' / 'CarbonIntensities')\n",
    "supportmatfolder = str(Path().resolve().parent.parent.parent / 'PV_ICE' / 'baselines' / 'SupportingMaterial')"
   ]
  },
  {
   "cell_type": "markdown",
   "id": "6a3f7fc3",
   "metadata": {},
   "source": [
    "Pull in crunched data from BNEF commissioned capacity to create country marketshare. Everything that was less than 1% of global marketshare was excluded (things don't currently sum to 100). "
   ]
  },
  {
   "cell_type": "code",
   "execution_count": 15,
   "id": "74047ad8",
   "metadata": {},
   "outputs": [],
   "source": [
    "#skipcols = ['Source', 'Notes','Country']\n",
    "mrktshare_country_si_cell = pd.read_csv(os.path.join(carbonfolder, 'input-silicon-CountryMarketshare-cell.csv'),\n",
    "                                     index_col='Country')#, usecols=lambda x: x not in skipcols)\n",
    "mrktshare_country_si_wafer = pd.read_csv(os.path.join(carbonfolder, 'input-silicon-CountryMarketshare-wafer.csv'),\n",
    "                                     index_col='Country')#, usecols=lambda x: x not in skipcols)\n",
    "mrktshare_country_si_ingot_multi = pd.read_csv(os.path.join(carbonfolder, 'input-silicon-CountryMarketshare-ingot-multi.csv'),\n",
    "                                     index_col='Country')#, usecols=lambda x: x not in skipcols)\n",
    "mrktshare_country_si_ingot_mono = pd.read_csv(os.path.join(carbonfolder, 'input-silicon-CountryMarketshare-ingot-mono.csv'),\n",
    "                                     index_col='Country')#, usecols=lambda x: x not in skipcols)\n",
    "mrktshare_country_si_polysi = pd.read_csv(os.path.join(carbonfolder, 'input-silicon-CountryMarketshare-polysilicon.csv'),\n",
    "                                     index_col='Country')#, usecols=lambda x: x not in skipcols)\n",
    "#mrktshare_country_si_silica = pd.read_csv(os.path.join(carbonfolder, 'input-silicon-CountryMarketshare-silica.csv'),\n",
    "#                                     index_col='Country')#, usecols=lambda x: x not in skipcols)\n"
   ]
  },
  {
   "cell_type": "markdown",
   "id": "7d0fb640",
   "metadata": {},
   "source": [
    "Pull in silicon energy files to create a % of energy attributable to each step of the MFGing process. This will be multiplied by the country market shares to create an overall country marketshare of the energy supply chain (i.e. energy weighted...)\n",
    "\n",
    "Also the mono vs multi to attribute marketshare of these two technologies."
   ]
  },
  {
   "cell_type": "code",
   "execution_count": 52,
   "id": "16ca14c7",
   "metadata": {},
   "outputs": [],
   "source": [
    "energy_silicon_mfg = pd.read_csv(os.path.join(supportmatfolder, 'output_energy_silicon_mfg.csv'),\n",
    "                                     index_col=0)#, usecols=lambda x: x not in skipcols)\n",
    "marketshare_silicon_monoVmulti = pd.read_csv(os.path.join(supportmatfolder, 'output_scaledmrktshr_mcSi_mono.csv'),\n",
    "                                     index_col=0)#, usecols=lambda x: x not in skipcols)\n",
    "energy_silicon_mfg_STEPS_raw = pd.read_csv(os.path.join(supportmatfolder, 'output_energy_silicon_mfg_STEPS.csv'),\n",
    "                                     index_col=0)#, usecols=lambda x: x not in skipcols)"
   ]
  },
  {
   "cell_type": "code",
   "execution_count": 53,
   "id": "07e33c72",
   "metadata": {},
   "outputs": [],
   "source": [
    "energy_silicon_mfg_STEPS = energy_silicon_mfg_STEPS_raw.filter(like=\"kWhpkg\") #drop the fuel fraction columns\n",
    "energy_silicon_mfg.drop(['E_mfgFuelFraction'], axis=1, inplace=True) #drop fuel fraction\n"
   ]
  },
  {
   "cell_type": "code",
   "execution_count": 73,
   "id": "fe234a8b",
   "metadata": {},
   "outputs": [],
   "source": [
    "energyShare_silicon_mfg_STEPS = energy_silicon_mfg_STEPS.div(energy_silicon_mfg.values)\n",
    "#sanity check that everything adds to 100% or 1\n",
    "#energyShare_silicon_mfg_STEPS.sum(axis=1)"
   ]
  },
  {
   "cell_type": "code",
   "execution_count": 77,
   "id": "4fbd0562",
   "metadata": {},
   "outputs": [
    {
     "data": {
      "text/plain": [
       "Index(['E_reduce_sum_kWhpkg', 'E_refineSiemens_kWhpkg', 'E_Ingot_kWhpkg',\n",
       "       'E_Wafering_kWhpkg', 'E_cellProcess_kWhpkg'],\n",
       "      dtype='object')"
      ]
     },
     "execution_count": 77,
     "metadata": {},
     "output_type": "execute_result"
    }
   ],
   "source": [
    "energyShare_silicon_mfg_STEPS.columns"
   ]
  },
  {
   "cell_type": "markdown",
   "id": "e684430d",
   "metadata": {},
   "source": [
    "The math is:\n",
    "\n",
    "    % of energy for mfging step * % country contribution, then sum for each country across all energy steps to get the country contribution to MFGing energy"
   ]
  },
  {
   "cell_type": "code",
   "execution_count": 83,
   "id": "caee1670",
   "metadata": {},
   "outputs": [
    {
     "data": {
      "text/html": [
       "<div>\n",
       "<style scoped>\n",
       "    .dataframe tbody tr th:only-of-type {\n",
       "        vertical-align: middle;\n",
       "    }\n",
       "\n",
       "    .dataframe tbody tr th {\n",
       "        vertical-align: top;\n",
       "    }\n",
       "\n",
       "    .dataframe thead th {\n",
       "        text-align: right;\n",
       "    }\n",
       "</style>\n",
       "<table border=\"1\" class=\"dataframe\">\n",
       "  <thead>\n",
       "    <tr style=\"text-align: right;\">\n",
       "      <th></th>\n",
       "      <th>E_reduce_sum_kWhpkg</th>\n",
       "      <th>E_refineSiemens_kWhpkg</th>\n",
       "      <th>E_Ingot_kWhpkg</th>\n",
       "      <th>E_Wafering_kWhpkg</th>\n",
       "      <th>E_cellProcess_kWhpkg</th>\n",
       "    </tr>\n",
       "  </thead>\n",
       "  <tbody>\n",
       "    <tr>\n",
       "      <th>2004</th>\n",
       "      <td>0.157930</td>\n",
       "      <td>0.585792</td>\n",
       "      <td>0.085928</td>\n",
       "      <td>0.075825</td>\n",
       "      <td>0.094546</td>\n",
       "    </tr>\n",
       "    <tr>\n",
       "      <th>2005</th>\n",
       "      <td>0.154927</td>\n",
       "      <td>0.550520</td>\n",
       "      <td>0.178615</td>\n",
       "      <td>0.034834</td>\n",
       "      <td>0.081090</td>\n",
       "    </tr>\n",
       "    <tr>\n",
       "      <th>2006</th>\n",
       "      <td>0.161192</td>\n",
       "      <td>0.562690</td>\n",
       "      <td>0.163139</td>\n",
       "      <td>0.036978</td>\n",
       "      <td>0.075986</td>\n",
       "    </tr>\n",
       "    <tr>\n",
       "      <th>2007</th>\n",
       "      <td>0.158861</td>\n",
       "      <td>0.547185</td>\n",
       "      <td>0.188248</td>\n",
       "      <td>0.037345</td>\n",
       "      <td>0.068346</td>\n",
       "    </tr>\n",
       "    <tr>\n",
       "      <th>2008</th>\n",
       "      <td>0.156184</td>\n",
       "      <td>0.530331</td>\n",
       "      <td>0.213765</td>\n",
       "      <td>0.037587</td>\n",
       "      <td>0.062152</td>\n",
       "    </tr>\n",
       "    <tr>\n",
       "      <th>2009</th>\n",
       "      <td>0.156868</td>\n",
       "      <td>0.525829</td>\n",
       "      <td>0.219577</td>\n",
       "      <td>0.038694</td>\n",
       "      <td>0.059017</td>\n",
       "    </tr>\n",
       "    <tr>\n",
       "      <th>2010</th>\n",
       "      <td>0.158375</td>\n",
       "      <td>0.525649</td>\n",
       "      <td>0.217818</td>\n",
       "      <td>0.040153</td>\n",
       "      <td>0.058024</td>\n",
       "    </tr>\n",
       "    <tr>\n",
       "      <th>2011</th>\n",
       "      <td>0.164488</td>\n",
       "      <td>0.541360</td>\n",
       "      <td>0.190611</td>\n",
       "      <td>0.042912</td>\n",
       "      <td>0.060642</td>\n",
       "    </tr>\n",
       "    <tr>\n",
       "      <th>2012</th>\n",
       "      <td>0.163888</td>\n",
       "      <td>0.535220</td>\n",
       "      <td>0.193970</td>\n",
       "      <td>0.044008</td>\n",
       "      <td>0.062907</td>\n",
       "    </tr>\n",
       "    <tr>\n",
       "      <th>2013</th>\n",
       "      <td>0.166651</td>\n",
       "      <td>0.540544</td>\n",
       "      <td>0.177866</td>\n",
       "      <td>0.046080</td>\n",
       "      <td>0.068841</td>\n",
       "    </tr>\n",
       "    <tr>\n",
       "      <th>2014</th>\n",
       "      <td>0.166263</td>\n",
       "      <td>0.535443</td>\n",
       "      <td>0.175012</td>\n",
       "      <td>0.047294</td>\n",
       "      <td>0.075987</td>\n",
       "    </tr>\n",
       "    <tr>\n",
       "      <th>2015</th>\n",
       "      <td>0.162642</td>\n",
       "      <td>0.522625</td>\n",
       "      <td>0.182446</td>\n",
       "      <td>0.047794</td>\n",
       "      <td>0.084483</td>\n",
       "    </tr>\n",
       "    <tr>\n",
       "      <th>2016</th>\n",
       "      <td>0.163835</td>\n",
       "      <td>0.525546</td>\n",
       "      <td>0.162621</td>\n",
       "      <td>0.049719</td>\n",
       "      <td>0.098284</td>\n",
       "    </tr>\n",
       "    <tr>\n",
       "      <th>2017</th>\n",
       "      <td>0.160190</td>\n",
       "      <td>0.526192</td>\n",
       "      <td>0.147205</td>\n",
       "      <td>0.051446</td>\n",
       "      <td>0.114938</td>\n",
       "    </tr>\n",
       "    <tr>\n",
       "      <th>2018</th>\n",
       "      <td>0.151820</td>\n",
       "      <td>0.510173</td>\n",
       "      <td>0.155731</td>\n",
       "      <td>0.051490</td>\n",
       "      <td>0.130772</td>\n",
       "    </tr>\n",
       "    <tr>\n",
       "      <th>2019</th>\n",
       "      <td>0.142985</td>\n",
       "      <td>0.497463</td>\n",
       "      <td>0.158004</td>\n",
       "      <td>0.051763</td>\n",
       "      <td>0.149779</td>\n",
       "    </tr>\n",
       "    <tr>\n",
       "      <th>2020</th>\n",
       "      <td>0.126626</td>\n",
       "      <td>0.458853</td>\n",
       "      <td>0.203357</td>\n",
       "      <td>0.049154</td>\n",
       "      <td>0.161991</td>\n",
       "    </tr>\n",
       "    <tr>\n",
       "      <th>2021</th>\n",
       "      <td>0.116324</td>\n",
       "      <td>0.442040</td>\n",
       "      <td>0.211166</td>\n",
       "      <td>0.048673</td>\n",
       "      <td>0.182321</td>\n",
       "    </tr>\n",
       "    <tr>\n",
       "      <th>2022</th>\n",
       "      <td>0.108326</td>\n",
       "      <td>0.446433</td>\n",
       "      <td>0.212197</td>\n",
       "      <td>0.049157</td>\n",
       "      <td>0.184133</td>\n",
       "    </tr>\n",
       "  </tbody>\n",
       "</table>\n",
       "</div>"
      ],
      "text/plain": [
       "      E_reduce_sum_kWhpkg  E_refineSiemens_kWhpkg  E_Ingot_kWhpkg  \\\n",
       "2004             0.157930                0.585792        0.085928   \n",
       "2005             0.154927                0.550520        0.178615   \n",
       "2006             0.161192                0.562690        0.163139   \n",
       "2007             0.158861                0.547185        0.188248   \n",
       "2008             0.156184                0.530331        0.213765   \n",
       "2009             0.156868                0.525829        0.219577   \n",
       "2010             0.158375                0.525649        0.217818   \n",
       "2011             0.164488                0.541360        0.190611   \n",
       "2012             0.163888                0.535220        0.193970   \n",
       "2013             0.166651                0.540544        0.177866   \n",
       "2014             0.166263                0.535443        0.175012   \n",
       "2015             0.162642                0.522625        0.182446   \n",
       "2016             0.163835                0.525546        0.162621   \n",
       "2017             0.160190                0.526192        0.147205   \n",
       "2018             0.151820                0.510173        0.155731   \n",
       "2019             0.142985                0.497463        0.158004   \n",
       "2020             0.126626                0.458853        0.203357   \n",
       "2021             0.116324                0.442040        0.211166   \n",
       "2022             0.108326                0.446433        0.212197   \n",
       "\n",
       "      E_Wafering_kWhpkg  E_cellProcess_kWhpkg  \n",
       "2004           0.075825              0.094546  \n",
       "2005           0.034834              0.081090  \n",
       "2006           0.036978              0.075986  \n",
       "2007           0.037345              0.068346  \n",
       "2008           0.037587              0.062152  \n",
       "2009           0.038694              0.059017  \n",
       "2010           0.040153              0.058024  \n",
       "2011           0.042912              0.060642  \n",
       "2012           0.044008              0.062907  \n",
       "2013           0.046080              0.068841  \n",
       "2014           0.047294              0.075987  \n",
       "2015           0.047794              0.084483  \n",
       "2016           0.049719              0.098284  \n",
       "2017           0.051446              0.114938  \n",
       "2018           0.051490              0.130772  \n",
       "2019           0.051763              0.149779  \n",
       "2020           0.049154              0.161991  \n",
       "2021           0.048673              0.182321  \n",
       "2022           0.049157              0.184133  "
      ]
     },
     "execution_count": 83,
     "metadata": {},
     "output_type": "execute_result"
    }
   ],
   "source": [
    "energyShare_silicon_mfg_STEPS_subset = energyShare_silicon_mfg_STEPS.loc[2004:2022]\n",
    "energyShare_silicon_mfg_STEPS_subset"
   ]
  },
  {
   "cell_type": "markdown",
   "id": "4a103877",
   "metadata": {},
   "source": [
    "### Cell"
   ]
  },
  {
   "cell_type": "code",
   "execution_count": 113,
   "id": "e7e1979c",
   "metadata": {},
   "outputs": [],
   "source": [
    "energy_cell_fract = energyShare_silicon_mfg_STEPS_subset['E_cellProcess_kWhpkg']"
   ]
  },
  {
   "cell_type": "code",
   "execution_count": 106,
   "id": "4b538155",
   "metadata": {},
   "outputs": [],
   "source": [
    "mrktshare_country_si_cell_fractbyyear = mrktshare_country_si_cell/100 #turn it into a decimal"
   ]
  },
  {
   "cell_type": "code",
   "execution_count": 112,
   "id": "fab34f34",
   "metadata": {},
   "outputs": [],
   "source": [
    "cell_by_country = mrktshare_country_si_cell_fractbyyear*energy_cell_fract.values*100\n",
    "# sanity check: that all countries each year add to the value from energy_cell_fract or pretty close\n",
    "#cell_by_country.sum()/100"
   ]
  },
  {
   "cell_type": "markdown",
   "id": "f7f5b6c8",
   "metadata": {},
   "source": [
    "### Wafer"
   ]
  },
  {
   "cell_type": "code",
   "execution_count": 141,
   "id": "9050c8da",
   "metadata": {},
   "outputs": [],
   "source": [
    "energy_wafer_fract = energyShare_silicon_mfg_STEPS_subset['E_Wafering_kWhpkg']\n",
    "#energy_wafer_fract"
   ]
  },
  {
   "cell_type": "code",
   "execution_count": 142,
   "id": "55715452",
   "metadata": {},
   "outputs": [],
   "source": [
    "mrktshare_country_si_wafer_fractbyyear = mrktshare_country_si_wafer/100 #turn it into a decimal\n",
    "#mrktshare_country_si_wafer_fractbyyear"
   ]
  },
  {
   "cell_type": "code",
   "execution_count": 143,
   "id": "25a94f06",
   "metadata": {},
   "outputs": [],
   "source": [
    "wafer_by_country = mrktshare_country_si_wafer_fractbyyear*energy_wafer_fract.values*100\n",
    "# sanity check: that all countries each year add to the value from energy_cell_fract or pretty close\n",
    "#wafer_by_country.sum()/100\n",
    "#wafer_by_country"
   ]
  },
  {
   "cell_type": "markdown",
   "id": "cfbc1aed",
   "metadata": {},
   "source": [
    "### Ingot\n",
    "More complicated due to mono vs multi marketshare. The total ingot energy is already weighted by this marketshare. Math is:\n",
    "        \n",
    "        (mono% * % mono country production + multi% * % multi country production)* Ingot % of energy."
   ]
  },
  {
   "cell_type": "code",
   "execution_count": 133,
   "id": "1752fd75",
   "metadata": {},
   "outputs": [
    {
     "data": {
      "text/html": [
       "<div>\n",
       "<style scoped>\n",
       "    .dataframe tbody tr th:only-of-type {\n",
       "        vertical-align: middle;\n",
       "    }\n",
       "\n",
       "    .dataframe tbody tr th {\n",
       "        vertical-align: top;\n",
       "    }\n",
       "\n",
       "    .dataframe thead th {\n",
       "        text-align: right;\n",
       "    }\n",
       "</style>\n",
       "<table border=\"1\" class=\"dataframe\">\n",
       "  <thead>\n",
       "    <tr style=\"text-align: right;\">\n",
       "      <th></th>\n",
       "      <th>monoSi</th>\n",
       "      <th>mcSi</th>\n",
       "    </tr>\n",
       "    <tr>\n",
       "      <th>Year</th>\n",
       "      <th></th>\n",
       "      <th></th>\n",
       "    </tr>\n",
       "  </thead>\n",
       "  <tbody>\n",
       "    <tr>\n",
       "      <th>2004</th>\n",
       "      <td>0.080000</td>\n",
       "      <td>0.920000</td>\n",
       "    </tr>\n",
       "    <tr>\n",
       "      <th>2005</th>\n",
       "      <td>0.309000</td>\n",
       "      <td>0.691000</td>\n",
       "    </tr>\n",
       "    <tr>\n",
       "      <th>2006</th>\n",
       "      <td>0.270000</td>\n",
       "      <td>0.730000</td>\n",
       "    </tr>\n",
       "    <tr>\n",
       "      <th>2007</th>\n",
       "      <td>0.353535</td>\n",
       "      <td>0.646465</td>\n",
       "    </tr>\n",
       "    <tr>\n",
       "      <th>2008</th>\n",
       "      <td>0.454545</td>\n",
       "      <td>0.545455</td>\n",
       "    </tr>\n",
       "  </tbody>\n",
       "</table>\n",
       "</div>"
      ],
      "text/plain": [
       "        monoSi      mcSi\n",
       "Year                    \n",
       "2004  0.080000  0.920000\n",
       "2005  0.309000  0.691000\n",
       "2006  0.270000  0.730000\n",
       "2007  0.353535  0.646465\n",
       "2008  0.454545  0.545455"
      ]
     },
     "execution_count": 133,
     "metadata": {},
     "output_type": "execute_result"
    }
   ],
   "source": [
    "marketshare_silicon_monoVmulti_subset = marketshare_silicon_monoVmulti.loc[2004:2022] #in fraction form\n",
    "marketshare_silicon_monoVmulti_subset.head()"
   ]
  },
  {
   "cell_type": "code",
   "execution_count": 134,
   "id": "7f7639ab",
   "metadata": {},
   "outputs": [
    {
     "data": {
      "text/plain": [
       "2004    0.085928\n",
       "2005    0.178615\n",
       "2006    0.163139\n",
       "2007    0.188248\n",
       "2008    0.213765\n",
       "2009    0.219577\n",
       "2010    0.217818\n",
       "2011    0.190611\n",
       "2012    0.193970\n",
       "2013    0.177866\n",
       "2014    0.175012\n",
       "2015    0.182446\n",
       "2016    0.162621\n",
       "2017    0.147205\n",
       "2018    0.155731\n",
       "2019    0.158004\n",
       "2020    0.203357\n",
       "2021    0.211166\n",
       "2022    0.212197\n",
       "Name: E_Ingot_kWhpkg, dtype: float64"
      ]
     },
     "execution_count": 134,
     "metadata": {},
     "output_type": "execute_result"
    }
   ],
   "source": [
    "energy_ingot_fract = energyShare_silicon_mfg_STEPS_subset['E_Ingot_kWhpkg']\n",
    "energy_ingot_fract"
   ]
  },
  {
   "cell_type": "code",
   "execution_count": 136,
   "id": "a9b51c26",
   "metadata": {},
   "outputs": [],
   "source": [
    "mrktshare_country_si_ingot_multi_fractbyyear = mrktshare_country_si_ingot_multi/100 #turn it into a decimal\n",
    "mrktshare_country_si_ingot_mono_fractbyyear = mrktshare_country_si_ingot_mono/100 #turn it into a decimal"
   ]
  },
  {
   "cell_type": "code",
   "execution_count": 152,
   "id": "2f930a53",
   "metadata": {},
   "outputs": [],
   "source": [
    "#mono multi deployment marketshares * the countrywise marketshare of mfging these techs\n",
    "country_multi = mrktshare_country_si_ingot_multi_fractbyyear*marketshare_silicon_monoVmulti_subset['mcSi'].values\n",
    "country_mono = mrktshare_country_si_ingot_mono_fractbyyear*marketshare_silicon_monoVmulti_subset['monoSi'].values"
   ]
  },
  {
   "cell_type": "code",
   "execution_count": null,
   "id": "8908b84c",
   "metadata": {},
   "outputs": [],
   "source": [
    "#So there are not the same countries making these technologies"
   ]
  },
  {
   "cell_type": "code",
   "execution_count": 159,
   "id": "9876643a",
   "metadata": {},
   "outputs": [],
   "source": [
    "#weight both by the ingot energy\n",
    "country_multi_energy = country_multi*energy_ingot_fract.values\n",
    "country_mono_energy = country_mono*energy_ingot_fract.values"
   ]
  },
  {
   "cell_type": "code",
   "execution_count": 161,
   "id": "d880886d",
   "metadata": {},
   "outputs": [
    {
     "data": {
      "text/plain": [
       "Index(['China (mainland)', 'Germany', 'India', 'Korea (Republic)', 'Taiwan',\n",
       "       'United Kingdom'],\n",
       "      dtype='object', name='Country')"
      ]
     },
     "execution_count": 161,
     "metadata": {},
     "output_type": "execute_result"
    }
   ],
   "source": [
    "country_multi_energy.index"
   ]
  },
  {
   "cell_type": "code",
   "execution_count": 162,
   "id": "e96ee0b0",
   "metadata": {},
   "outputs": [
    {
     "data": {
      "text/plain": [
       "Index(['China (mainland)', 'Germany', 'Korea (Republic)', 'Malaysia', 'Norway',\n",
       "       'Qatar', 'Taiwan', 'Ukraine', 'United States', 'Vietnam'],\n",
       "      dtype='object', name='Country')"
      ]
     },
     "execution_count": 162,
     "metadata": {},
     "output_type": "execute_result"
    }
   ],
   "source": [
    "country_mono_energy.index"
   ]
  },
  {
   "cell_type": "code",
   "execution_count": 180,
   "id": "ca2f5d34",
   "metadata": {},
   "outputs": [],
   "source": [
    "country_wtdenergy_ingot = pd.concat([country_mono_energy, country_multi_energy]).groupby(['Country']).sum()\n",
    "#sanity check that sums by year are the same as the ingot energy fraction\n",
    "#country_wtdenergy_ingot.sum(axis=0)"
   ]
  },
  {
   "cell_type": "code",
   "execution_count": 181,
   "id": "6361530c",
   "metadata": {},
   "outputs": [],
   "source": [
    "ingot_by_country = country_wtdenergy_ingot*100"
   ]
  },
  {
   "cell_type": "markdown",
   "id": "77937c88",
   "metadata": {},
   "source": [
    "### Polysilicon"
   ]
  },
  {
   "cell_type": "code",
   "execution_count": 126,
   "id": "25487ff1",
   "metadata": {},
   "outputs": [],
   "source": [
    "energy_polysi_fract = energyShare_silicon_mfg_STEPS_subset['E_refineSiemens_kWhpkg']\n",
    "#energy_polysi_fract"
   ]
  },
  {
   "cell_type": "code",
   "execution_count": 127,
   "id": "f5efe935",
   "metadata": {},
   "outputs": [],
   "source": [
    "mrktshare_country_si_polysi_fractbyyear = mrktshare_country_si_polysi/100 #turn it into a decimal"
   ]
  },
  {
   "cell_type": "code",
   "execution_count": 128,
   "id": "923e8c3e",
   "metadata": {},
   "outputs": [],
   "source": [
    "polysi_by_country = mrktshare_country_si_polysi_fractbyyear*energy_polysi_fract.values*100\n",
    "# sanity check: that all countries each year add to the value from energy_cell_fract or pretty close\n",
    "#polysi_by_country.sum()/100"
   ]
  },
  {
   "cell_type": "markdown",
   "id": "d11197da",
   "metadata": {},
   "source": [
    "### Silica"
   ]
  },
  {
   "cell_type": "code",
   "execution_count": 120,
   "id": "e4bcf79f",
   "metadata": {},
   "outputs": [],
   "source": [
    "energy_reducesilica_fract = energyShare_silicon_mfg_STEPS_subset['E_reduce_sum_kWhpkg']\n",
    "#energy_wafer_fract"
   ]
  },
  {
   "cell_type": "code",
   "execution_count": 121,
   "id": "b4feaf98",
   "metadata": {},
   "outputs": [],
   "source": [
    "mrktshare_country_si_silica_fractbyyear = mrktshare_country_si_silica/100 #turn it into a decimal"
   ]
  },
  {
   "cell_type": "code",
   "execution_count": 122,
   "id": "65f2e7ec",
   "metadata": {},
   "outputs": [],
   "source": [
    "silicareduce_by_country = mrktshare_country_si_silica_fractbyyear*energy_reducesilica_fract.values*100\n",
    "# sanity check: that all countries each year add to the value from energy_cell_fract or pretty close\n",
    "#wafer_by_country.sum()/100"
   ]
  }
 ],
 "metadata": {
  "kernelspec": {
   "display_name": "Python 3 (ipykernel)",
   "language": "python",
   "name": "python3"
  },
  "language_info": {
   "codemirror_mode": {
    "name": "ipython",
    "version": 3
   },
   "file_extension": ".py",
   "mimetype": "text/x-python",
   "name": "python",
   "nbconvert_exporter": "python",
   "pygments_lexer": "ipython3",
   "version": "3.8.8"
  }
 },
 "nbformat": 4,
 "nbformat_minor": 5
}
