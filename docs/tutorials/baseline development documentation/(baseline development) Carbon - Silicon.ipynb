{
 "cells": [
  {
   "cell_type": "markdown",
   "id": "9076c831",
   "metadata": {},
   "source": [
    "# Energy Carbon: Marketshare by Country Weighting\n",
    "In this first section we will determine the country-wise countribution to each of the energy steps of the silicon supply chain to correctly attribute carbon intensities to grids."
   ]
  },
  {
   "cell_type": "code",
   "execution_count": 1,
   "id": "693ea653",
   "metadata": {},
   "outputs": [],
   "source": [
    "import numpy as np\n",
    "import pandas as pd\n",
    "import os,sys\n",
    "from pathlib import Path\n",
    "import matplotlib.pyplot as plt\n",
    "plt.rcParams.update({'font.size': 18})\n",
    "plt.rcParams['figure.figsize'] = (10, 6)\n",
    "cwd = os.getcwd() #grabs current working directory\n",
    "carbonfolder = str(Path().resolve().parent.parent.parent / 'PV_ICE' / 'baselines' / 'SupportingMaterial' / 'CarbonIntensities')\n",
    "supportmatfolder = str(Path().resolve().parent.parent.parent / 'PV_ICE' / 'baselines' / 'SupportingMaterial')"
   ]
  },
  {
   "cell_type": "markdown",
   "id": "fc582ee0",
   "metadata": {},
   "source": [
    "Pull in crunched data from BNEF commissioned capacity to create country marketshare. Everything that was less than 1% of global marketshare was excluded (things don't currently sum to 100). "
   ]
  },
  {
   "cell_type": "code",
   "execution_count": 2,
   "id": "274a1b3a",
   "metadata": {},
   "outputs": [],
   "source": [
    "#skipcols = ['Source', 'Notes','Country']\n",
    "mrktshare_country_si_cell = pd.read_csv(os.path.join(carbonfolder, 'input-silicon-CountryMarketshare-cell.csv'),\n",
    "                                     index_col='Country')#, usecols=lambda x: x not in skipcols)\n",
    "mrktshare_country_si_wafer = pd.read_csv(os.path.join(carbonfolder, 'input-silicon-CountryMarketshare-wafer.csv'),\n",
    "                                     index_col='Country')#, usecols=lambda x: x not in skipcols)\n",
    "mrktshare_country_si_ingot_multi = pd.read_csv(os.path.join(carbonfolder, 'input-silicon-CountryMarketshare-ingot-multi.csv'),\n",
    "                                     index_col='Country')#, usecols=lambda x: x not in skipcols)\n",
    "mrktshare_country_si_ingot_mono = pd.read_csv(os.path.join(carbonfolder, 'input-silicon-CountryMarketshare-ingot-mono.csv'),\n",
    "                                     index_col='Country')#, usecols=lambda x: x not in skipcols)\n",
    "mrktshare_country_si_polysi = pd.read_csv(os.path.join(carbonfolder, 'input-silicon-CountryMarketshare-polysilicon.csv'),\n",
    "                                     index_col='Country')#, usecols=lambda x: x not in skipcols)\n",
    "#mrktshare_country_si_silica = pd.read_csv(os.path.join(carbonfolder, 'input-silicon-CountryMarketshare-silica.csv'),\n",
    "#                                     index_col='Country')#, usecols=lambda x: x not in skipcols)\n"
   ]
  },
  {
   "cell_type": "markdown",
   "id": "328120e5",
   "metadata": {},
   "source": [
    "Pull in silicon energy files to create a % of energy attributable to each step of the MFGing process. This will be multiplied by the country market shares to create an overall country marketshare of the energy supply chain (i.e. energy weighted...)\n",
    "\n",
    "Also the mono vs multi to attribute marketshare of these two technologies."
   ]
  },
  {
   "cell_type": "code",
   "execution_count": 3,
   "id": "15e8d6ba",
   "metadata": {},
   "outputs": [],
   "source": [
    "energy_silicon_mfg = pd.read_csv(os.path.join(supportmatfolder, 'output_energy_silicon_mfg.csv'),\n",
    "                                     index_col=0)#, usecols=lambda x: x not in skipcols)\n",
    "marketshare_silicon_monoVmulti = pd.read_csv(os.path.join(supportmatfolder, 'output_scaledmrktshr_mcSi_mono.csv'),\n",
    "                                     index_col=0)#, usecols=lambda x: x not in skipcols)\n",
    "energy_silicon_mfg_STEPS_raw = pd.read_csv(os.path.join(supportmatfolder, 'output_energy_silicon_mfg_STEPS.csv'),\n",
    "                                     index_col=0)#, usecols=lambda x: x not in skipcols)"
   ]
  },
  {
   "cell_type": "code",
   "execution_count": 4,
   "id": "3c36f02d",
   "metadata": {},
   "outputs": [],
   "source": [
    "energy_silicon_mfg_STEPS = energy_silicon_mfg_STEPS_raw.filter(like=\"kWhpkg\") #drop the fuel fraction columns\n",
    "energy_silicon_mfg.drop(['E_mfgFuelFraction'], axis=1, inplace=True) #drop fuel fraction\n"
   ]
  },
  {
   "cell_type": "code",
   "execution_count": 5,
   "id": "7ae585d4",
   "metadata": {},
   "outputs": [],
   "source": [
    "energyShare_silicon_mfg_STEPS = energy_silicon_mfg_STEPS.div(energy_silicon_mfg.values)\n",
    "#sanity check that everything adds to 100% or 1\n",
    "#energyShare_silicon_mfg_STEPS.sum(axis=1)"
   ]
  },
  {
   "cell_type": "code",
   "execution_count": 6,
   "id": "25d4fd48",
   "metadata": {},
   "outputs": [
    {
     "data": {
      "text/plain": [
       "Index(['E_reduce_sum_kWhpkg', 'E_refineSiemens_kWhpkg', 'E_Ingot_kWhpkg',\n",
       "       'E_Wafering_kWhpkg', 'E_cellProcess_kWhpkg'],\n",
       "      dtype='object')"
      ]
     },
     "execution_count": 6,
     "metadata": {},
     "output_type": "execute_result"
    }
   ],
   "source": [
    "energyShare_silicon_mfg_STEPS.columns"
   ]
  },
  {
   "cell_type": "markdown",
   "id": "309c6e17",
   "metadata": {},
   "source": [
    "The math is:\n",
    "\n",
    "    % of energy for mfging step * % country contribution, then sum for each country across all energy steps to get the country contribution to MFGing energy"
   ]
  },
  {
   "cell_type": "code",
   "execution_count": 7,
   "id": "835d0e50",
   "metadata": {},
   "outputs": [],
   "source": [
    "energyShare_silicon_mfg_STEPS_subset = energyShare_silicon_mfg_STEPS.loc[2004:2022]\n",
    "#energyShare_silicon_mfg_STEPS_subset"
   ]
  },
  {
   "cell_type": "markdown",
   "id": "f2f7f3a9",
   "metadata": {},
   "source": [
    "### Cell"
   ]
  },
  {
   "cell_type": "code",
   "execution_count": 8,
   "id": "3315e5a6",
   "metadata": {},
   "outputs": [],
   "source": [
    "energy_cell_fract = energyShare_silicon_mfg_STEPS_subset['E_cellProcess_kWhpkg']"
   ]
  },
  {
   "cell_type": "code",
   "execution_count": 9,
   "id": "e6fda75c",
   "metadata": {},
   "outputs": [],
   "source": [
    "mrktshare_country_si_cell_fractbyyear = mrktshare_country_si_cell/100 #turn it into a decimal"
   ]
  },
  {
   "cell_type": "code",
   "execution_count": 10,
   "id": "4266e814",
   "metadata": {},
   "outputs": [],
   "source": [
    "cell_by_country = mrktshare_country_si_cell_fractbyyear*energy_cell_fract.values*100\n",
    "# sanity check: that all countries each year add to the value from energy_cell_fract or pretty close\n",
    "#cell_by_country.sum()/100"
   ]
  },
  {
   "cell_type": "code",
   "execution_count": 11,
   "id": "d3021a4f",
   "metadata": {},
   "outputs": [],
   "source": [
    "cell_by_country.columns = pd.Index(range(2004,2023,1)) #set index back to type int not obj"
   ]
  },
  {
   "cell_type": "markdown",
   "id": "b17ad2b6",
   "metadata": {},
   "source": [
    "### Wafer"
   ]
  },
  {
   "cell_type": "code",
   "execution_count": 12,
   "id": "c14a1705",
   "metadata": {},
   "outputs": [],
   "source": [
    "energy_wafer_fract = energyShare_silicon_mfg_STEPS_subset['E_Wafering_kWhpkg']\n",
    "#energy_wafer_fract"
   ]
  },
  {
   "cell_type": "code",
   "execution_count": 13,
   "id": "b0c5a2f1",
   "metadata": {},
   "outputs": [],
   "source": [
    "mrktshare_country_si_wafer_fractbyyear = mrktshare_country_si_wafer/100 #turn it into a decimal\n",
    "#mrktshare_country_si_wafer_fractbyyear"
   ]
  },
  {
   "cell_type": "code",
   "execution_count": 14,
   "id": "ce83b550",
   "metadata": {},
   "outputs": [],
   "source": [
    "wafer_by_country = mrktshare_country_si_wafer_fractbyyear*energy_wafer_fract.values*100\n",
    "# sanity check: that all countries each year add to the value from energy_cell_fract or pretty close\n",
    "#wafer_by_country.sum()/100\n",
    "#wafer_by_country"
   ]
  },
  {
   "cell_type": "code",
   "execution_count": 15,
   "id": "1ff519ae",
   "metadata": {},
   "outputs": [],
   "source": [
    "wafer_by_country.columns = pd.Index(range(2004,2023,1)) #set index back to type int not obj"
   ]
  },
  {
   "cell_type": "markdown",
   "id": "f1de82d3",
   "metadata": {},
   "source": [
    "### Ingot\n",
    "More complicated due to mono vs multi marketshare. The total ingot energy is already weighted by this marketshare. Math is:\n",
    "        \n",
    "        (mono% * % mono country production + multi% * % multi country production)* Ingot % of energy."
   ]
  },
  {
   "cell_type": "code",
   "execution_count": 16,
   "id": "7a215e59",
   "metadata": {},
   "outputs": [
    {
     "data": {
      "text/html": [
       "<div>\n",
       "<style scoped>\n",
       "    .dataframe tbody tr th:only-of-type {\n",
       "        vertical-align: middle;\n",
       "    }\n",
       "\n",
       "    .dataframe tbody tr th {\n",
       "        vertical-align: top;\n",
       "    }\n",
       "\n",
       "    .dataframe thead th {\n",
       "        text-align: right;\n",
       "    }\n",
       "</style>\n",
       "<table border=\"1\" class=\"dataframe\">\n",
       "  <thead>\n",
       "    <tr style=\"text-align: right;\">\n",
       "      <th></th>\n",
       "      <th>monoSi</th>\n",
       "      <th>mcSi</th>\n",
       "    </tr>\n",
       "    <tr>\n",
       "      <th>Year</th>\n",
       "      <th></th>\n",
       "      <th></th>\n",
       "    </tr>\n",
       "  </thead>\n",
       "  <tbody>\n",
       "    <tr>\n",
       "      <th>2004</th>\n",
       "      <td>0.080000</td>\n",
       "      <td>0.920000</td>\n",
       "    </tr>\n",
       "    <tr>\n",
       "      <th>2005</th>\n",
       "      <td>0.309000</td>\n",
       "      <td>0.691000</td>\n",
       "    </tr>\n",
       "    <tr>\n",
       "      <th>2006</th>\n",
       "      <td>0.270000</td>\n",
       "      <td>0.730000</td>\n",
       "    </tr>\n",
       "    <tr>\n",
       "      <th>2007</th>\n",
       "      <td>0.353535</td>\n",
       "      <td>0.646465</td>\n",
       "    </tr>\n",
       "    <tr>\n",
       "      <th>2008</th>\n",
       "      <td>0.454545</td>\n",
       "      <td>0.545455</td>\n",
       "    </tr>\n",
       "  </tbody>\n",
       "</table>\n",
       "</div>"
      ],
      "text/plain": [
       "        monoSi      mcSi\n",
       "Year                    \n",
       "2004  0.080000  0.920000\n",
       "2005  0.309000  0.691000\n",
       "2006  0.270000  0.730000\n",
       "2007  0.353535  0.646465\n",
       "2008  0.454545  0.545455"
      ]
     },
     "execution_count": 16,
     "metadata": {},
     "output_type": "execute_result"
    }
   ],
   "source": [
    "marketshare_silicon_monoVmulti_subset = marketshare_silicon_monoVmulti.loc[2004:2022] #in fraction form\n",
    "marketshare_silicon_monoVmulti_subset.head()"
   ]
  },
  {
   "cell_type": "code",
   "execution_count": 17,
   "id": "e64854fd",
   "metadata": {},
   "outputs": [],
   "source": [
    "energy_ingot_fract = energyShare_silicon_mfg_STEPS_subset['E_Ingot_kWhpkg']\n",
    "#energy_ingot_fract"
   ]
  },
  {
   "cell_type": "code",
   "execution_count": 18,
   "id": "bfdcecc3",
   "metadata": {},
   "outputs": [],
   "source": [
    "mrktshare_country_si_ingot_multi_fractbyyear = mrktshare_country_si_ingot_multi/100 #turn it into a decimal\n",
    "mrktshare_country_si_ingot_mono_fractbyyear = mrktshare_country_si_ingot_mono/100 #turn it into a decimal"
   ]
  },
  {
   "cell_type": "code",
   "execution_count": 19,
   "id": "5581082c",
   "metadata": {},
   "outputs": [],
   "source": [
    "#mono multi deployment marketshares * the countrywise marketshare of mfging these techs\n",
    "country_multi = mrktshare_country_si_ingot_multi_fractbyyear*marketshare_silicon_monoVmulti_subset['mcSi'].values\n",
    "country_mono = mrktshare_country_si_ingot_mono_fractbyyear*marketshare_silicon_monoVmulti_subset['monoSi'].values"
   ]
  },
  {
   "cell_type": "code",
   "execution_count": 20,
   "id": "55c63492",
   "metadata": {},
   "outputs": [],
   "source": [
    "#weight both by the ingot energy\n",
    "country_multi_energy = country_multi*energy_ingot_fract.values\n",
    "country_mono_energy = country_mono*energy_ingot_fract.values"
   ]
  },
  {
   "cell_type": "code",
   "execution_count": 21,
   "id": "bf73db01",
   "metadata": {},
   "outputs": [
    {
     "data": {
      "text/plain": [
       "Index(['China', 'Germany', 'India', 'Korea', 'Taiwan', 'United Kingdom'], dtype='object', name='Country')"
      ]
     },
     "execution_count": 21,
     "metadata": {},
     "output_type": "execute_result"
    }
   ],
   "source": [
    "country_multi_energy.index"
   ]
  },
  {
   "cell_type": "code",
   "execution_count": 22,
   "id": "96fecd33",
   "metadata": {},
   "outputs": [
    {
     "data": {
      "text/plain": [
       "Index(['China', 'Germany', 'Korea', 'Malaysia', 'Norway', 'Qatar', 'Taiwan',\n",
       "       'Ukraine', 'United States', 'Vietnam'],\n",
       "      dtype='object', name='Country')"
      ]
     },
     "execution_count": 22,
     "metadata": {},
     "output_type": "execute_result"
    }
   ],
   "source": [
    "country_mono_energy.index"
   ]
  },
  {
   "cell_type": "code",
   "execution_count": 23,
   "id": "4661c8bf",
   "metadata": {},
   "outputs": [],
   "source": [
    "#keeps all countries, while grouping and summing any duplicates\n",
    "country_wtdenergy_ingot = pd.concat([country_mono_energy, country_multi_energy]).groupby(['Country']).sum()\n",
    "#sanity check that sums by year are the same as the ingot energy fraction\n",
    "#country_wtdenergy_ingot.sum(axis=0)"
   ]
  },
  {
   "cell_type": "code",
   "execution_count": 24,
   "id": "e75a2356",
   "metadata": {},
   "outputs": [],
   "source": [
    "ingot_by_country = country_wtdenergy_ingot*100\n",
    "ingot_by_country.columns = pd.Index(range(2004,2023,1)) #set index back to type int not obj"
   ]
  },
  {
   "cell_type": "markdown",
   "id": "b5224794",
   "metadata": {},
   "source": [
    "### Polysilicon"
   ]
  },
  {
   "cell_type": "code",
   "execution_count": 25,
   "id": "de4a6a0e",
   "metadata": {},
   "outputs": [],
   "source": [
    "energy_polysi_fract = energyShare_silicon_mfg_STEPS_subset['E_refineSiemens_kWhpkg']\n",
    "#energy_polysi_fract"
   ]
  },
  {
   "cell_type": "code",
   "execution_count": 26,
   "id": "ea7c9c6e",
   "metadata": {},
   "outputs": [],
   "source": [
    "mrktshare_country_si_polysi_fractbyyear = mrktshare_country_si_polysi/100 #turn it into a decimal"
   ]
  },
  {
   "cell_type": "code",
   "execution_count": 27,
   "id": "666e54f3",
   "metadata": {},
   "outputs": [
    {
     "data": {
      "text/html": [
       "<div>\n",
       "<style scoped>\n",
       "    .dataframe tbody tr th:only-of-type {\n",
       "        vertical-align: middle;\n",
       "    }\n",
       "\n",
       "    .dataframe tbody tr th {\n",
       "        vertical-align: top;\n",
       "    }\n",
       "\n",
       "    .dataframe thead th {\n",
       "        text-align: right;\n",
       "    }\n",
       "</style>\n",
       "<table border=\"1\" class=\"dataframe\">\n",
       "  <thead>\n",
       "    <tr style=\"text-align: right;\">\n",
       "      <th></th>\n",
       "      <th>2004</th>\n",
       "      <th>2005</th>\n",
       "      <th>2006</th>\n",
       "      <th>2007</th>\n",
       "      <th>2008</th>\n",
       "      <th>2009</th>\n",
       "      <th>2010</th>\n",
       "      <th>2011</th>\n",
       "      <th>2012</th>\n",
       "      <th>2013</th>\n",
       "      <th>2014</th>\n",
       "      <th>2015</th>\n",
       "      <th>2016</th>\n",
       "      <th>2017</th>\n",
       "      <th>2018</th>\n",
       "      <th>2019</th>\n",
       "      <th>2020</th>\n",
       "      <th>2021</th>\n",
       "      <th>2022</th>\n",
       "    </tr>\n",
       "    <tr>\n",
       "      <th>Country</th>\n",
       "      <th></th>\n",
       "      <th></th>\n",
       "      <th></th>\n",
       "      <th></th>\n",
       "      <th></th>\n",
       "      <th></th>\n",
       "      <th></th>\n",
       "      <th></th>\n",
       "      <th></th>\n",
       "      <th></th>\n",
       "      <th></th>\n",
       "      <th></th>\n",
       "      <th></th>\n",
       "      <th></th>\n",
       "      <th></th>\n",
       "      <th></th>\n",
       "      <th></th>\n",
       "      <th></th>\n",
       "      <th></th>\n",
       "    </tr>\n",
       "  </thead>\n",
       "  <tbody>\n",
       "    <tr>\n",
       "      <th>China</th>\n",
       "      <td>0.000000</td>\n",
       "      <td>0.552362</td>\n",
       "      <td>0.459965</td>\n",
       "      <td>2.095158</td>\n",
       "      <td>6.079165</td>\n",
       "      <td>12.449101</td>\n",
       "      <td>13.808707</td>\n",
       "      <td>22.892185</td>\n",
       "      <td>20.714104</td>\n",
       "      <td>22.566285</td>\n",
       "      <td>22.735962</td>\n",
       "      <td>23.746421</td>\n",
       "      <td>23.722909</td>\n",
       "      <td>26.207230</td>\n",
       "      <td>27.827566</td>\n",
       "      <td>32.982877</td>\n",
       "      <td>33.795911</td>\n",
       "      <td>34.276461</td>\n",
       "      <td>34.617097</td>\n",
       "    </tr>\n",
       "    <tr>\n",
       "      <th>United States</th>\n",
       "      <td>51.047600</td>\n",
       "      <td>30.564010</td>\n",
       "      <td>33.577443</td>\n",
       "      <td>25.910118</td>\n",
       "      <td>26.869911</td>\n",
       "      <td>16.281707</td>\n",
       "      <td>15.614558</td>\n",
       "      <td>11.050723</td>\n",
       "      <td>9.588113</td>\n",
       "      <td>8.990210</td>\n",
       "      <td>8.323970</td>\n",
       "      <td>7.929563</td>\n",
       "      <td>8.867698</td>\n",
       "      <td>8.033052</td>\n",
       "      <td>7.195380</td>\n",
       "      <td>4.373285</td>\n",
       "      <td>4.138469</td>\n",
       "      <td>3.269695</td>\n",
       "      <td>3.302189</td>\n",
       "    </tr>\n",
       "    <tr>\n",
       "      <th>Germany</th>\n",
       "      <td>0.000000</td>\n",
       "      <td>10.126630</td>\n",
       "      <td>9.965908</td>\n",
       "      <td>11.639766</td>\n",
       "      <td>8.092889</td>\n",
       "      <td>8.637100</td>\n",
       "      <td>8.108675</td>\n",
       "      <td>5.760977</td>\n",
       "      <td>8.095924</td>\n",
       "      <td>7.591072</td>\n",
       "      <td>7.028518</td>\n",
       "      <td>6.695492</td>\n",
       "      <td>6.932393</td>\n",
       "      <td>6.283987</td>\n",
       "      <td>5.628705</td>\n",
       "      <td>4.320469</td>\n",
       "      <td>4.088489</td>\n",
       "      <td>3.230207</td>\n",
       "      <td>3.262309</td>\n",
       "    </tr>\n",
       "    <tr>\n",
       "      <th>Malaysia</th>\n",
       "      <td>0.000000</td>\n",
       "      <td>0.000000</td>\n",
       "      <td>0.000000</td>\n",
       "      <td>0.000000</td>\n",
       "      <td>0.000000</td>\n",
       "      <td>0.000000</td>\n",
       "      <td>0.000000</td>\n",
       "      <td>0.000000</td>\n",
       "      <td>0.000000</td>\n",
       "      <td>0.000000</td>\n",
       "      <td>1.855448</td>\n",
       "      <td>1.767533</td>\n",
       "      <td>1.591136</td>\n",
       "      <td>1.442312</td>\n",
       "      <td>1.591484</td>\n",
       "      <td>1.940169</td>\n",
       "      <td>1.835995</td>\n",
       "      <td>1.450571</td>\n",
       "      <td>1.464987</td>\n",
       "    </tr>\n",
       "    <tr>\n",
       "      <th>Japan</th>\n",
       "      <td>7.531613</td>\n",
       "      <td>13.809041</td>\n",
       "      <td>12.265733</td>\n",
       "      <td>10.336112</td>\n",
       "      <td>6.747873</td>\n",
       "      <td>4.079871</td>\n",
       "      <td>3.273736</td>\n",
       "      <td>2.763127</td>\n",
       "      <td>2.443877</td>\n",
       "      <td>2.291480</td>\n",
       "      <td>2.121665</td>\n",
       "      <td>2.021135</td>\n",
       "      <td>1.798675</td>\n",
       "      <td>1.599085</td>\n",
       "      <td>1.432336</td>\n",
       "      <td>1.099429</td>\n",
       "      <td>1.040397</td>\n",
       "      <td>0.821990</td>\n",
       "      <td>0.830159</td>\n",
       "    </tr>\n",
       "    <tr>\n",
       "      <th>Qatar</th>\n",
       "      <td>0.000000</td>\n",
       "      <td>0.000000</td>\n",
       "      <td>0.000000</td>\n",
       "      <td>0.000000</td>\n",
       "      <td>0.000000</td>\n",
       "      <td>0.000000</td>\n",
       "      <td>0.000000</td>\n",
       "      <td>0.000000</td>\n",
       "      <td>0.000000</td>\n",
       "      <td>0.000000</td>\n",
       "      <td>0.000000</td>\n",
       "      <td>0.000000</td>\n",
       "      <td>0.000000</td>\n",
       "      <td>0.376255</td>\n",
       "      <td>0.748934</td>\n",
       "      <td>0.574865</td>\n",
       "      <td>0.543999</td>\n",
       "      <td>0.429799</td>\n",
       "      <td>0.434070</td>\n",
       "    </tr>\n",
       "    <tr>\n",
       "      <th>Norway</th>\n",
       "      <td>0.000000</td>\n",
       "      <td>0.000000</td>\n",
       "      <td>0.000000</td>\n",
       "      <td>0.000000</td>\n",
       "      <td>0.000000</td>\n",
       "      <td>2.060541</td>\n",
       "      <td>1.513283</td>\n",
       "      <td>1.070979</td>\n",
       "      <td>0.929231</td>\n",
       "      <td>0.871285</td>\n",
       "      <td>0.806717</td>\n",
       "      <td>0.768493</td>\n",
       "      <td>0.691798</td>\n",
       "      <td>0.627092</td>\n",
       "      <td>0.786380</td>\n",
       "      <td>0.000000</td>\n",
       "      <td>0.000000</td>\n",
       "      <td>0.376074</td>\n",
       "      <td>0.379811</td>\n",
       "    </tr>\n",
       "    <tr>\n",
       "      <th>Korea</th>\n",
       "      <td>0.000000</td>\n",
       "      <td>0.000000</td>\n",
       "      <td>0.000000</td>\n",
       "      <td>0.000000</td>\n",
       "      <td>0.000000</td>\n",
       "      <td>5.838199</td>\n",
       "      <td>8.373499</td>\n",
       "      <td>8.603535</td>\n",
       "      <td>9.013539</td>\n",
       "      <td>8.451466</td>\n",
       "      <td>9.169678</td>\n",
       "      <td>8.350953</td>\n",
       "      <td>8.878075</td>\n",
       "      <td>8.047684</td>\n",
       "      <td>5.804236</td>\n",
       "      <td>4.455203</td>\n",
       "      <td>0.441999</td>\n",
       "      <td>0.349212</td>\n",
       "      <td>0.352682</td>\n",
       "    </tr>\n",
       "    <tr>\n",
       "      <th>Russia</th>\n",
       "      <td>0.000000</td>\n",
       "      <td>0.000000</td>\n",
       "      <td>0.000000</td>\n",
       "      <td>0.000000</td>\n",
       "      <td>0.227969</td>\n",
       "      <td>0.961586</td>\n",
       "      <td>0.706199</td>\n",
       "      <td>1.070979</td>\n",
       "      <td>1.161539</td>\n",
       "      <td>1.089106</td>\n",
       "      <td>0.336132</td>\n",
       "      <td>0.320205</td>\n",
       "      <td>0.000000</td>\n",
       "      <td>0.000000</td>\n",
       "      <td>0.000000</td>\n",
       "      <td>0.000000</td>\n",
       "      <td>0.000000</td>\n",
       "      <td>0.000000</td>\n",
       "      <td>0.000000</td>\n",
       "    </tr>\n",
       "    <tr>\n",
       "      <th>Canada</th>\n",
       "      <td>0.000000</td>\n",
       "      <td>0.000000</td>\n",
       "      <td>0.000000</td>\n",
       "      <td>0.081478</td>\n",
       "      <td>1.519791</td>\n",
       "      <td>0.686847</td>\n",
       "      <td>0.000000</td>\n",
       "      <td>0.008925</td>\n",
       "      <td>0.007744</td>\n",
       "      <td>0.297689</td>\n",
       "      <td>0.275628</td>\n",
       "      <td>0.262568</td>\n",
       "      <td>0.000000</td>\n",
       "      <td>0.000000</td>\n",
       "      <td>0.000000</td>\n",
       "      <td>0.000000</td>\n",
       "      <td>0.000000</td>\n",
       "      <td>0.000000</td>\n",
       "      <td>0.000000</td>\n",
       "    </tr>\n",
       "    <tr>\n",
       "      <th>Brazil</th>\n",
       "      <td>0.000000</td>\n",
       "      <td>0.000000</td>\n",
       "      <td>0.000000</td>\n",
       "      <td>4.655906</td>\n",
       "      <td>3.039583</td>\n",
       "      <td>1.373694</td>\n",
       "      <td>1.008855</td>\n",
       "      <td>0.713986</td>\n",
       "      <td>0.619487</td>\n",
       "      <td>0.580857</td>\n",
       "      <td>0.000000</td>\n",
       "      <td>0.000000</td>\n",
       "      <td>0.000000</td>\n",
       "      <td>0.000000</td>\n",
       "      <td>0.000000</td>\n",
       "      <td>0.000000</td>\n",
       "      <td>0.000000</td>\n",
       "      <td>0.000000</td>\n",
       "      <td>0.000000</td>\n",
       "    </tr>\n",
       "  </tbody>\n",
       "</table>\n",
       "</div>"
      ],
      "text/plain": [
       "                    2004       2005       2006       2007       2008  \\\n",
       "Country                                                                \n",
       "China           0.000000   0.552362   0.459965   2.095158   6.079165   \n",
       "United States  51.047600  30.564010  33.577443  25.910118  26.869911   \n",
       "Germany         0.000000  10.126630   9.965908  11.639766   8.092889   \n",
       "Malaysia        0.000000   0.000000   0.000000   0.000000   0.000000   \n",
       "Japan           7.531613  13.809041  12.265733  10.336112   6.747873   \n",
       "Qatar           0.000000   0.000000   0.000000   0.000000   0.000000   \n",
       "Norway          0.000000   0.000000   0.000000   0.000000   0.000000   \n",
       "Korea           0.000000   0.000000   0.000000   0.000000   0.000000   \n",
       "Russia          0.000000   0.000000   0.000000   0.000000   0.227969   \n",
       "Canada          0.000000   0.000000   0.000000   0.081478   1.519791   \n",
       "Brazil          0.000000   0.000000   0.000000   4.655906   3.039583   \n",
       "\n",
       "                    2009       2010       2011       2012       2013  \\\n",
       "Country                                                                \n",
       "China          12.449101  13.808707  22.892185  20.714104  22.566285   \n",
       "United States  16.281707  15.614558  11.050723   9.588113   8.990210   \n",
       "Germany         8.637100   8.108675   5.760977   8.095924   7.591072   \n",
       "Malaysia        0.000000   0.000000   0.000000   0.000000   0.000000   \n",
       "Japan           4.079871   3.273736   2.763127   2.443877   2.291480   \n",
       "Qatar           0.000000   0.000000   0.000000   0.000000   0.000000   \n",
       "Norway          2.060541   1.513283   1.070979   0.929231   0.871285   \n",
       "Korea           5.838199   8.373499   8.603535   9.013539   8.451466   \n",
       "Russia          0.961586   0.706199   1.070979   1.161539   1.089106   \n",
       "Canada          0.686847   0.000000   0.008925   0.007744   0.297689   \n",
       "Brazil          1.373694   1.008855   0.713986   0.619487   0.580857   \n",
       "\n",
       "                    2014       2015       2016       2017       2018  \\\n",
       "Country                                                                \n",
       "China          22.735962  23.746421  23.722909  26.207230  27.827566   \n",
       "United States   8.323970   7.929563   8.867698   8.033052   7.195380   \n",
       "Germany         7.028518   6.695492   6.932393   6.283987   5.628705   \n",
       "Malaysia        1.855448   1.767533   1.591136   1.442312   1.591484   \n",
       "Japan           2.121665   2.021135   1.798675   1.599085   1.432336   \n",
       "Qatar           0.000000   0.000000   0.000000   0.376255   0.748934   \n",
       "Norway          0.806717   0.768493   0.691798   0.627092   0.786380   \n",
       "Korea           9.169678   8.350953   8.878075   8.047684   5.804236   \n",
       "Russia          0.336132   0.320205   0.000000   0.000000   0.000000   \n",
       "Canada          0.275628   0.262568   0.000000   0.000000   0.000000   \n",
       "Brazil          0.000000   0.000000   0.000000   0.000000   0.000000   \n",
       "\n",
       "                    2019       2020       2021       2022  \n",
       "Country                                                    \n",
       "China          32.982877  33.795911  34.276461  34.617097  \n",
       "United States   4.373285   4.138469   3.269695   3.302189  \n",
       "Germany         4.320469   4.088489   3.230207   3.262309  \n",
       "Malaysia        1.940169   1.835995   1.450571   1.464987  \n",
       "Japan           1.099429   1.040397   0.821990   0.830159  \n",
       "Qatar           0.574865   0.543999   0.429799   0.434070  \n",
       "Norway          0.000000   0.000000   0.376074   0.379811  \n",
       "Korea           4.455203   0.441999   0.349212   0.352682  \n",
       "Russia          0.000000   0.000000   0.000000   0.000000  \n",
       "Canada          0.000000   0.000000   0.000000   0.000000  \n",
       "Brazil          0.000000   0.000000   0.000000   0.000000  "
      ]
     },
     "execution_count": 27,
     "metadata": {},
     "output_type": "execute_result"
    }
   ],
   "source": [
    "polysi_by_country = mrktshare_country_si_polysi_fractbyyear*energy_polysi_fract.values*100\n",
    "# sanity check: that all countries each year add to the value from energy_cell_fract or pretty close\n",
    "polysi_by_country#.sum()/100"
   ]
  },
  {
   "cell_type": "code",
   "execution_count": 28,
   "id": "3949a318",
   "metadata": {},
   "outputs": [],
   "source": [
    "polysi_by_country.columns = pd.Index(range(2004,2023,1)) #set index back to type int not obj"
   ]
  },
  {
   "cell_type": "markdown",
   "id": "b5b56f29",
   "metadata": {},
   "source": [
    "### MG-Si\n",
    "from USGS"
   ]
  },
  {
   "cell_type": "code",
   "execution_count": 29,
   "id": "3ee3a90c",
   "metadata": {},
   "outputs": [],
   "source": [
    "mrktshare_country_si_mgsi = pd.read_csv(os.path.join(carbonfolder, 'input-silicon-CountryMarketshare-mgSi.csv'),\n",
    "                                     index_col='Country')#, usecols=lambda x: x not in skipcols)"
   ]
  },
  {
   "cell_type": "code",
   "execution_count": 30,
   "id": "8b8932c3",
   "metadata": {},
   "outputs": [],
   "source": [
    "energy_reducesilica_fract = energyShare_silicon_mfg_STEPS_subset.loc[2007:2021,'E_reduce_sum_kWhpkg']\n",
    "#energy_reducesilica_fract"
   ]
  },
  {
   "cell_type": "code",
   "execution_count": 31,
   "id": "6a9bf8f9",
   "metadata": {},
   "outputs": [],
   "source": [
    "mrktshare_country_si_silica_fractbyyear = mrktshare_country_si_mgsi/100 #turn it into a decimal\n",
    "#mrktshare_country_si_silica_fractbyyear"
   ]
  },
  {
   "cell_type": "code",
   "execution_count": 39,
   "id": "520112ab",
   "metadata": {
    "scrolled": true
   },
   "outputs": [],
   "source": [
    "silicareduce_by_country = mrktshare_country_si_silica_fractbyyear*energy_reducesilica_fract.values*100\n",
    "# sanity check: that all countries each year add to the value from energy_cell_fract or pretty close\n",
    "#silicareduce_by_country"
   ]
  },
  {
   "cell_type": "code",
   "execution_count": 33,
   "id": "f35900c5",
   "metadata": {
    "scrolled": false
   },
   "outputs": [],
   "source": [
    "#extend data 2004-2022\n",
    "silicareduce_by_country_rotate = silicareduce_by_country.T\n",
    "silicareduce_by_country_rotate.index = pd.Index(range(2007,2022,1)) #set index back to type int not obj\n",
    "idx_extend = pd.Index(range(2004,2023,1))\n",
    "temp = pd.DataFrame(index=idx_extend, columns=silicareduce_by_country_rotate.columns)\n",
    "temp.loc[2007:2021] = silicareduce_by_country_rotate.loc['2007':'2021']\n",
    "silicareduce_by_country_extended = temp.ffill().bfill().T"
   ]
  },
  {
   "cell_type": "markdown",
   "id": "cbaa3354",
   "metadata": {},
   "source": [
    "# Sum MFGing by country contributions"
   ]
  },
  {
   "cell_type": "code",
   "execution_count": 102,
   "id": "a8b52661",
   "metadata": {},
   "outputs": [],
   "source": [
    "mfging_si_bycountry = pd.concat([cell_by_country, wafer_by_country, ingot_by_country, \n",
    "           polysi_by_country, silicareduce_by_country_extended]).groupby(['Country']).sum()"
   ]
  },
  {
   "cell_type": "markdown",
   "id": "c2d1e5c9",
   "metadata": {},
   "source": [
    "2004-2006 and 2022 are summed using extrapolated data, thus the silly numbers. We're pretty close to 100%, so will renormalize at this point."
   ]
  },
  {
   "cell_type": "code",
   "execution_count": 103,
   "id": "74e610e8",
   "metadata": {
    "scrolled": true
   },
   "outputs": [],
   "source": [
    "mfging_si_bycountry_rot = mfging_si_bycountry.T#.sum(axis=1)\n",
    "mfging_si_bycountry_rot['scale'] = 1/mfging_si_bycountry_rot.sum(axis=1)\n",
    "#mfging_si_bycountry_rot"
   ]
  },
  {
   "cell_type": "code",
   "execution_count": 104,
   "id": "e639d87c",
   "metadata": {},
   "outputs": [],
   "source": [
    "for cols in mfging_si_bycountry_rot.columns:\n",
    "    mfging_si_bycountry_rot[str(cols+'_scaled')] = mfging_si_bycountry_rot[cols]*mfging_si_bycountry_rot['scale']"
   ]
  },
  {
   "cell_type": "code",
   "execution_count": 112,
   "id": "1bcb20b8",
   "metadata": {},
   "outputs": [],
   "source": [
    "mfging_si_bycountry_rot.filter(like='_scaled').sum(axis=1) #check that it adds to 1\n",
    "mfging_si_bycountry_finalwting = mfging_si_bycountry_rot.filter(like='_scaled')*100 #turn back into %\n",
    "del mfging_si_bycountry_finalwting['scale_scaled'] #remove scaling column\n",
    "mfging_si_bycountry_finalwting.columns =  mfging_si_bycountry.T.columns.tolist()# remove _scaled from names"
   ]
  },
  {
   "cell_type": "code",
   "execution_count": 114,
   "id": "84387108",
   "metadata": {},
   "outputs": [],
   "source": [
    "mfging_si_bycountry_finalwting.to_csv(os.path.join(carbonfolder, 'output-silicon-CountryMarketshare-MFGing.csv'))"
   ]
  },
  {
   "cell_type": "code",
   "execution_count": null,
   "id": "c3381ef9",
   "metadata": {},
   "outputs": [],
   "source": []
  },
  {
   "cell_type": "code",
   "execution_count": null,
   "id": "6bf9bece",
   "metadata": {},
   "outputs": [],
   "source": []
  }
 ],
 "metadata": {
  "kernelspec": {
   "display_name": "Python 3 (ipykernel)",
   "language": "python",
   "name": "python3"
  },
  "language_info": {
   "codemirror_mode": {
    "name": "ipython",
    "version": 3
   },
   "file_extension": ".py",
   "mimetype": "text/x-python",
   "name": "python",
   "nbconvert_exporter": "python",
   "pygments_lexer": "ipython3",
   "version": "3.8.8"
  }
 },
 "nbformat": 4,
 "nbformat_minor": 5
}
