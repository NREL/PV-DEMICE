{
 "cells": [
  {
   "cell_type": "markdown",
   "metadata": {},
   "source": [
    "# Calculations for PV Global installs, c-Si Marketshare"
   ]
  },
  {
   "cell_type": "markdown",
   "metadata": {},
   "source": [
    "This journal documents the manipulation of PV installation data for Global installs. This covers selection of data, and weighting by marketshare."
   ]
  },
  {
   "cell_type": "code",
   "execution_count": null,
   "metadata": {},
   "outputs": [],
   "source": [
    "import numpy as np\n",
    "import pandas as pd\n",
    "import os,sys\n",
    "from pathlib import Path\n",
    "import matplotlib.pyplot as plt\n",
    "plt.rcParams.update({'font.size': 28})\n",
    "plt.rcParams['figure.figsize'] = (30, 15)\n",
    "\n",
    "cwd = os.getcwd() #grabs current working directory\n",
    "\n",
    "supportMatfolder = str(Path().resolve().parent.parent.parent / 'PV_ICE' / 'baselines' / 'SupportingMaterial')"
   ]
  },
  {
   "cell_type": "code",
   "execution_count": null,
   "metadata": {},
   "outputs": [],
   "source": [
    "cwd = os.getcwd() #grabs current working directory\n",
    "df_installs_raw = pd.read_csv(os.path.join(supportMatfolder,'PVInstalls_World_AllSources.csv'), index_col='Year')\n",
    "sources = df_installs_raw.columns\n",
    "print(len(sources))"
   ]
  },
  {
   "cell_type": "code",
   "execution_count": null,
   "metadata": {},
   "outputs": [],
   "source": [
    "df_installs_raw"
   ]
  },
  {
   "cell_type": "code",
   "execution_count": null,
   "metadata": {},
   "outputs": [],
   "source": [
    "plt.plot(df_installs_raw.index,df_installs_raw[sources[0]],lw=4,marker='*',label=sources[0])\n",
    "plt.plot(df_installs_raw.index,df_installs_raw[sources[1]],lw=3,marker='o',label=sources[1])\n",
    "plt.plot(df_installs_raw.index,df_installs_raw[sources[2]],lw=2,marker='o',label=sources[2])\n",
    "plt.plot(df_installs_raw.index,df_installs_raw[sources[3]],lw=2,marker='o',label=sources[3])\n",
    "\n",
    "plt.yscale('log')\n",
    "plt.ylabel('PV Installed (MW)')\n",
    "plt.legend(bbox_to_anchor=(0, 1, 1, 0), loc=\"lower left\")\n",
    "#plt.plot(df_installs_raw, marker='o')"
   ]
  },
  {
   "cell_type": "markdown",
   "metadata": {},
   "source": [
    "# Select the data to use for installs"
   ]
  },
  {
   "cell_type": "markdown",
   "metadata": {},
   "source": [
    "Based on the above graph, we will utilize Goetzberger data through 2000, then IRENA online query tool after 2000."
   ]
  },
  {
   "cell_type": "code",
   "execution_count": null,
   "metadata": {},
   "outputs": [],
   "source": [
    "#Before 2000 = Goetz\n",
    "installs_old = df_installs_raw.loc[(df_installs_raw.index<=2000) & (df_installs_raw.index>=1995)]\n",
    "installs_old_Goetz = pd.DataFrame(installs_old[sources[3]])\n",
    "installs_old_Goetz.columns = ['installed_pv_MW']\n",
    "\n",
    "#After 2000 = IRENA\n",
    "installs_recent = df_installs_raw.loc[(df_installs_raw.index>2000) & (df_installs_raw.index<2020)]\n",
    "installs_recent_IRENA = pd.DataFrame(installs_recent[sources[0]])\n",
    "installs_recent_IRENA.columns = ['installed_pv_MW']\n",
    "#print(installs_recent_IRENA)"
   ]
  },
  {
   "cell_type": "markdown",
   "metadata": {},
   "source": [
    "### Collect the installation data together into a single df"
   ]
  },
  {
   "cell_type": "code",
   "execution_count": null,
   "metadata": {},
   "outputs": [],
   "source": [
    "installs = pd.concat([installs_old_Goetz,installs_recent_IRENA])\n",
    "plt.plot(installs)\n",
    "plt.yscale('log')\n",
    "plt.title('Installations of PV Globally (MW) since 1995')"
   ]
  },
  {
   "cell_type": "code",
   "execution_count": null,
   "metadata": {},
   "outputs": [],
   "source": []
  },
  {
   "cell_type": "code",
   "execution_count": null,
   "metadata": {},
   "outputs": [],
   "source": [
    "installs.to_csv(os.path.join(supportMatfolder, 'output_Global_allPV_installs.csv'))"
   ]
  },
  {
   "cell_type": "markdown",
   "metadata": {},
   "source": [
    "# Marketshare weight the installation data for percent of Silicon vs Thin Film"
   ]
  },
  {
   "cell_type": "markdown",
   "metadata": {},
   "source": [
    "In addition to compiling a single installation record for 1995 through the present, this data is total cumulative, but the tool it currently considering crystalline silicon technology only (i.e. mono and multi, but not ribbon or amorphous)."
   ]
  },
  {
   "cell_type": "code",
   "execution_count": null,
   "metadata": {},
   "outputs": [],
   "source": [
    "cwd = os.getcwd() #grabs current working directory\n",
    "df_raw_mrktshr_siVtf = pd.read_csv(os.path.join(supportMatfolder,'MarketShare_global_c-SiVSthinfilm.csv'), index_col='Year')\n",
    "refs = df_raw_mrktshr_siVtf.columns\n",
    "print(len(refs))"
   ]
  },
  {
   "cell_type": "code",
   "execution_count": null,
   "metadata": {},
   "outputs": [],
   "source": [
    "plt.rcParams.update({'font.size': 14})\n",
    "plt.rcParams['figure.figsize'] = (12, 6)\n",
    "plt.plot(df_raw_mrktshr_siVtf.index,df_raw_mrktshr_siVtf[refs[0]],marker='o',label=refs[0])\n",
    "plt.plot(df_raw_mrktshr_siVtf.index,df_raw_mrktshr_siVtf[refs[1]],marker='o',label=refs[1])\n",
    "plt.plot(df_raw_mrktshr_siVtf.index,df_raw_mrktshr_siVtf[refs[2]],marker='o',label=refs[2])\n",
    "plt.plot(df_raw_mrktshr_siVtf.index,df_raw_mrktshr_siVtf[refs[3]],marker='o',label=refs[3])\n",
    "plt.legend(bbox_to_anchor=(0, 1, 1, 0), loc=\"lower left\")\n",
    "plt.ylim(50,100)"
   ]
  },
  {
   "cell_type": "markdown",
   "metadata": {},
   "source": [
    "The 2020 Fraunhofer and 2014 Fraunhofer appear to agree reasonably closely, and Mints agrees closely for the amount of time there is overlap. The unknown sourced wikipedia figure doesn't agree until 2010, but given the unknown source, it will be discarded. We will use the Fraunhofer ISE 2020 market share data for the entire time period."
   ]
  },
  {
   "cell_type": "code",
   "execution_count": null,
   "metadata": {},
   "outputs": [],
   "source": [
    "refs"
   ]
  },
  {
   "cell_type": "code",
   "execution_count": null,
   "metadata": {
    "scrolled": true
   },
   "outputs": [],
   "source": [
    "df_mrktshr_global =  pd.DataFrame(df_raw_mrktshr_siVtf[refs[2]]) #select Fraunhofer for historical 1995-2020\n",
    "mrktshr_global = df_mrktshr_global.loc[(df_mrktshr_global.index>=1995)]\n",
    "# use PMints for most recent data\n",
    "mrktshr_global.columns = ['Global_MarketShare']\n",
    "#print(mrktshr_global)"
   ]
  },
  {
   "cell_type": "code",
   "execution_count": null,
   "metadata": {},
   "outputs": [],
   "source": [
    "#convert to decimal\n",
    "mrktshr_global_pct = mrktshr_global/100\n",
    "\n",
    "plt.rcParams['figure.figsize'] = (12, 6)\n",
    "plt.plot(mrktshr_global_pct)\n",
    "plt.title('Global Marketshare of Silicon PV installed since 1995')\n",
    "plt.ylim(0,1.1)"
   ]
  },
  {
   "cell_type": "markdown",
   "metadata": {},
   "source": [
    "# Marketshare weight PV installs by percent Silicon\n",
    "Now we have a marketshare percentage of silicon for 1995 through 2019. We will multiply the PV installs by this silicon marketshare to get the MW of silicon PV installed globally since 1995."
   ]
  },
  {
   "cell_type": "code",
   "execution_count": null,
   "metadata": {},
   "outputs": [],
   "source": []
  },
  {
   "cell_type": "code",
   "execution_count": null,
   "metadata": {},
   "outputs": [],
   "source": [
    "#put the two dataframes together, joining for available data (excludes NANs)\n",
    "dfs = [installs,mrktshr_global_pct]\n",
    "df = pd.concat(dfs, axis=1, join='inner')\n",
    "df_clean = df.dropna()\n",
    "#creates the marketshare weighted c-Si install data\n",
    "world_si_installs = df_clean.agg('prod', axis='columns') \n",
    "\n",
    "#print(us_si_installs)\n",
    "plt.rcParams.update({'font.size': 18})\n",
    "plt.rcParams['figure.figsize'] = (15, 8)\n",
    "plt.plot(installs, label='All Global PV Installed', color='orange')\n",
    "plt.plot(world_si_installs, label='Silicon PV Installed, World', color='blue')\n",
    "plt.yscale('log')\n",
    "plt.title('Silicon PV Installations (MW) Globally, 1995 through 2019')\n",
    "plt.legend()"
   ]
  },
  {
   "cell_type": "code",
   "execution_count": null,
   "metadata": {},
   "outputs": [],
   "source": [
    "cwd = os.getcwd() #grabs current working directory\n",
    "cwd"
   ]
  },
  {
   "cell_type": "code",
   "execution_count": null,
   "metadata": {},
   "outputs": [],
   "source": [
    "#world_si_installs.to_csv(cwd+'/../../PV_ICE/baselines/SupportingMaterial/output_Global_SiPV_installs.csv', index=True)\n",
    "world_si_installs.to_csv(os.path.join(supportMatfolder, 'output_Global_allPV_installs.csv'))\n"
   ]
  },
  {
   "cell_type": "markdown",
   "metadata": {},
   "source": [
    "This data only takes installs through 2019. For the remaining years through 2050, a compound annual growth rate of 8.9% was used to predict increasing installations. This compound annual growth rate was sourced from IRENA 2016 EoL Mangement Report and IRENA 2019 Future of PV Report."
   ]
  },
  {
   "cell_type": "markdown",
   "metadata": {},
   "source": [
    "# Global Installations by Country\n",
    "\n",
    "This section documents and munges the IRENA world historical PV install data by country. We can then modify it by the world marketshare of silicon."
   ]
  },
  {
   "cell_type": "code",
   "execution_count": 1,
   "metadata": {},
   "outputs": [],
   "source": [
    "import numpy as np\n",
    "import pandas as pd\n",
    "import os,sys\n",
    "from pathlib import Path\n",
    "import matplotlib.pyplot as plt\n",
    "cwd = os.getcwd() #grabs current working directory\n",
    "\n",
    "supportMatfolder = str(Path().resolve().parent.parent.parent / 'PV_ICE' / 'baselines' / 'SupportingMaterial')\n"
   ]
  },
  {
   "cell_type": "code",
   "execution_count": 2,
   "metadata": {
    "scrolled": true
   },
   "outputs": [],
   "source": [
    "IRENA_raw_file = os.path.join(supportMatfolder, 'HistoricalCapacityWorld-QueryResult-PVCumCap.xlsx') #THIS IS CUMULATIVE\n",
    "IRENA_global_raw = pd.read_excel(IRENA_raw_file, header=7, index_col=0) #set Country/area as index\n",
    "#remove the flag indicator columns or any unnamed\n",
    "IRENA_global_raw.drop(columns=list(IRENA_global_raw.filter(like='Unnamed')), inplace=True) \n",
    "IRENA_global_raw.drop(columns=['Technology','Indicator'], inplace=True) #drop these columns"
   ]
  },
  {
   "cell_type": "code",
   "execution_count": 3,
   "metadata": {},
   "outputs": [],
   "source": [
    "IRENA_locs = list(IRENA_global_raw.index)\n",
    "regions = ['Africa','Asia','C America + Carib','Eurasia','Europe','EU 27','Middle East','N America','Oceania','S America']\n",
    "countries = [i for i in IRENA_locs if i not in regions] #leaves in world"
   ]
  },
  {
   "cell_type": "code",
   "execution_count": 4,
   "metadata": {},
   "outputs": [],
   "source": [
    "IRENA_global = IRENA_global_raw.T"
   ]
  },
  {
   "cell_type": "code",
   "execution_count": 5,
   "metadata": {},
   "outputs": [],
   "source": [
    "shiftpos = IRENA_global.shift(1).fillna(0)"
   ]
  },
  {
   "cell_type": "code",
   "execution_count": 6,
   "metadata": {
    "scrolled": true
   },
   "outputs": [],
   "source": [
    "IRENA_global_annual = IRENA_global-shiftpos"
   ]
  },
  {
   "cell_type": "code",
   "execution_count": 7,
   "metadata": {},
   "outputs": [],
   "source": [
    "IRENA_regions = IRENA_global_annual.loc[:,regions]\n",
    "IRENA_countries = IRENA_global_annual.loc[:,countries]"
   ]
  },
  {
   "cell_type": "code",
   "execution_count": 8,
   "metadata": {
    "scrolled": true
   },
   "outputs": [],
   "source": [
    "IRENA_regions.to_csv(path_or_buf=os.path.join(supportMatfolder, 'output-RegionInstalls-alltech.csv'))\n",
    "IRENA_countries.to_csv(path_or_buf=os.path.join(supportMatfolder, 'output-CountryInstalls-alltech.csv'))"
   ]
  },
  {
   "cell_type": "markdown",
   "metadata": {},
   "source": [
    "## Market Share Weight Global installs by Silicon"
   ]
  },
  {
   "cell_type": "code",
   "execution_count": 9,
   "metadata": {},
   "outputs": [
    {
     "ename": "NameError",
     "evalue": "name 'mrktshr_global' is not defined",
     "output_type": "error",
     "traceback": [
      "\u001b[1;31m---------------------------------------------------------------------------\u001b[0m",
      "\u001b[1;31mNameError\u001b[0m                                 Traceback (most recent call last)",
      "Input \u001b[1;32mIn [9]\u001b[0m, in \u001b[0;36m<cell line: 1>\u001b[1;34m()\u001b[0m\n\u001b[1;32m----> 1\u001b[0m \u001b[43mmrktshr_global\u001b[49m\u001b[38;5;241m.\u001b[39mindex[\u001b[38;5;241m-\u001b[39m\u001b[38;5;241m1\u001b[39m]\n",
      "\u001b[1;31mNameError\u001b[0m: name 'mrktshr_global' is not defined"
     ]
    }
   ],
   "source": [
    "mrktshr_global.index[-1] #what is the last year we have data for?"
   ]
  },
  {
   "cell_type": "code",
   "execution_count": null,
   "metadata": {},
   "outputs": [],
   "source": [
    "#trim the c-Si marketshare to match index of IRENA installs\n",
    "mrktshr_cSiglobal_IRENA = mrktshr_global.loc[mrktshr_global.index>1999]/100 #turn into decimal"
   ]
  },
  {
   "cell_type": "code",
   "execution_count": null,
   "metadata": {},
   "outputs": [],
   "source": [
    "mrktshr_cSiglobal_IRENA.columns"
   ]
  },
  {
   "cell_type": "code",
   "execution_count": null,
   "metadata": {},
   "outputs": [],
   "source": [
    "IRENA_regions_cSi = IRENA_regions.multiply(mrktshr_cSiglobal_IRENA[\"Global_MarketShare\"], axis=\"index\")\n",
    "IRENA_countries_cSi = IRENA_countries.multiply(mrktshr_cSiglobal_IRENA[\"Global_MarketShare\"], axis=\"index\")"
   ]
  },
  {
   "cell_type": "code",
   "execution_count": null,
   "metadata": {},
   "outputs": [],
   "source": [
    "IRENA_regions_cSi.to_csv(path_or_buf=os.path.join(supportMatfolder, 'output-RegionInstalls-cSi.csv'))\n",
    "IRENA_countries_cSi.to_csv(path_or_buf=os.path.join(supportMatfolder, 'output-CountryInstalls-cSi.csv'))"
   ]
  },
  {
   "cell_type": "code",
   "execution_count": null,
   "metadata": {},
   "outputs": [],
   "source": []
  },
  {
   "cell_type": "code",
   "execution_count": null,
   "metadata": {},
   "outputs": [],
   "source": [
    "#access the global historical install and create projection\n",
    "IRENA_hist_cSi = pd.read_csv(os.path.join(supportMatfolder,'output-CountryInstalls-cSi.csv'), index_col=0)"
   ]
  },
  {
   "cell_type": "code",
   "execution_count": null,
   "metadata": {},
   "outputs": [],
   "source": [
    "IRENA_hist_cSi_world = pd.DataFrame(IRENA_hist_cSi['World']) #extract just the global historical installs (this is a series)"
   ]
  },
  {
   "cell_type": "code",
   "execution_count": null,
   "metadata": {},
   "outputs": [],
   "source": [
    "#create a full historical deployment + projection \n",
    "# 2050 needs cumulative of 14,036 GW of PV globally [World Energy Transitions Outlook: 1.5°C Pathway.IRENA; 2021]\n",
    "#https://irena.org/Statistics/View-Data-by-Topic/Energy-Transition/REmap-Energy-Generation-and-Capacity\n",
    "idx = pd.RangeIndex(start=2018,stop=2051,step=1) #create the index\n",
    "IRENA_world_cSi_project = pd.DataFrame(index=idx, columns=['World_cum'], dtype=float) #turn into df and add column to match other series\n",
    "IRENA_world_cSi_project.loc[2018]=481*1000 #MW in 2018\n",
    "IRENA_world_cSi_project.loc[2050]=14036*1000 #MW in 2050"
   ]
  },
  {
   "cell_type": "code",
   "execution_count": null,
   "metadata": {},
   "outputs": [],
   "source": [
    "# exponential interpolation option - not great\n",
    "# Import curve fitting package from scipy\n",
    "from scipy.optimize import curve_fit\n",
    "# Function to calculate the power-law with constants a and b\n",
    "def power_law(x, a, b):\n",
    "    return a*np.power(x, b)\n",
    "#generae a dataset for the area in between\n",
    "y_dummy = power_law(IRENA_world_cSi_project.index-2017, IRENA_world_cSi_project['World_cum'][2018], 0.965)\n",
    "#played around with the exponential until y_dummy[31] closely matched 14036 GW.\n",
    "print(y_dummy[32])\n",
    "plt.plot(y_dummy)\n",
    "#plt.plot(IRENA_world_cSi_project['World_cum'][2050], marker='o')"
   ]
  },
  {
   "cell_type": "code",
   "execution_count": null,
   "metadata": {},
   "outputs": [],
   "source": [
    "IRENA_world_cSi_project['World_cum_fill']=y_dummy\n",
    "IRENA_world_cSi_project.loc[2050]"
   ]
  },
  {
   "cell_type": "code",
   "execution_count": null,
   "metadata": {},
   "outputs": [],
   "source": [
    "#IRENA_world_cSi_project.interpolate(inplace=True) #create the cumulative global deployed pv each year (linear also not great)\n",
    "IRENA_world_cSi_project['World'] = IRENA_world_cSi_project['World_cum_fill']-IRENA_world_cSi_project['World_cum_fill'].shift(1).fillna(0)"
   ]
  },
  {
   "cell_type": "code",
   "execution_count": null,
   "metadata": {},
   "outputs": [],
   "source": [
    "IRENA_world_cSi_project_annual_torev = IRENA_world_cSi_project.loc[2022:2050,['World']]\n",
    "IRENA_world_cSi_project_annual = IRENA_world_cSi_project_annual_torev.iloc[::-1] #reverse the exponential to be more realistic\n",
    "IRENA_world_cSi_project_annual.index = IRENA_world_cSi_project_annual_torev.index #reset index related to above"
   ]
  },
  {
   "cell_type": "code",
   "execution_count": null,
   "metadata": {},
   "outputs": [],
   "source": [
    "IRENA_cSi_world = pd.concat([IRENA_hist_cSi_world,IRENA_world_cSi_project_annual])\n",
    "#IRENA_cSi_world"
   ]
  },
  {
   "cell_type": "code",
   "execution_count": null,
   "metadata": {},
   "outputs": [],
   "source": [
    "plt.rcParams.update({'font.size': 14})\n",
    "plt.rcParams['figure.figsize'] = (10, 5)\n",
    "plt.plot(IRENA_cSi_world)\n",
    "plt.title('PV Installation Globally')\n",
    "plt.ylabel('Annually Deployed PV [MWdc]')"
   ]
  },
  {
   "cell_type": "markdown",
   "metadata": {},
   "source": [
    "# Alternate Future Projection Through 2050\n",
    "The above curve looks ridiculous, so lets make something else literature based. Literature values for through 2050 include:\n",
    "- Haegel et al 2019\n",
    "    - 2030: 10 TW, cumulative\n",
    "    - 2050: 30-70 TW, cumulative\n",
    "- DNV GL Energy Transition Outlook 2022\n",
    "    - 2030: 364 GW, annual\n",
    "    - 2040: 650 GW, annual (approx)\n",
    "    - 2050: 780 GW, annual (approx)\n",
    "    - 2050: 14.5 TW, cumulative\n",
    "- IEA/IRENA Net Zero by 2050\n",
    "    - 2030: 4.956 TW, cumulative\n",
    "    - 2050: 14.5 TW, cumulative\n",
    "    - 600 GW, annual\n",
    "- BNEF New Energy Outlook 2021, Green Scenario\n",
    "    - through 2030: 455 GW, annual\n",
    "    - through 2050: 710 GW, annual\n",
    "- ITRPV 2022, Summary of Scenarios\n",
    "    - Broad Electrification, 2050: 63.4 TW cumulative, 4.5 TW annual\n",
    "    - Electricity Scenario, 2050: 22.0 TW cumulative, 1.4 TW annual\n",
    "    \n",
    "So lets say cumulative of 50 TW in 2050.\n",
    "Updating to Haegel et al 75 TW in 2050."
   ]
  },
  {
   "cell_type": "code",
   "execution_count": null,
   "metadata": {},
   "outputs": [],
   "source": [
    "#2021:\n",
    "cumPV_2021 = IRENA_global.loc[2021,'World']\n",
    "print('In 2021, there is a cumulative of '+str(round(cumPV_2021,2))+' MWdc installed globally.')"
   ]
  },
  {
   "cell_type": "code",
   "execution_count": null,
   "metadata": {},
   "outputs": [],
   "source": [
    "cumPV2050_MWdc = 75*1000000 #MW or 75 TW\n",
    "req_additions = cumPV2050_MWdc-cumPV_2021\n",
    "print('A total of '+str(round(req_additions,0))+' MWdc need to be added between 2022 and 2050')"
   ]
  },
  {
   "cell_type": "code",
   "execution_count": null,
   "metadata": {},
   "outputs": [],
   "source": [
    "req_additions/(2050-2022)"
   ]
  },
  {
   "cell_type": "code",
   "execution_count": null,
   "metadata": {},
   "outputs": [],
   "source": [
    "idx_fullrange = pd.RangeIndex(start=2000,stop=2051,step=1) #create the index\n",
    "altproj_50TW_cum = pd.DataFrame(index=idx_fullrange, columns=['World_cum'], dtype=float) #turn into df \n",
    "\n",
    "altproj_50TW_cum.loc[2000:2022] = IRENA_global[['World']] #assign historical cumulative \n",
    "altproj_50TW_cum.loc[2050] = cumPV2050_MWdc #create 50 TW cumulative in 2050\n",
    "altproj_50TW_cum.interpolate(method='quadratic', inplace=True) #interpolate using a quadratic fit (cubic also looked good)\n",
    "\n",
    "#create the annual installs from the cumulative\n",
    "altproj_50TW_cum_shift = altproj_50TW_cum.shift(1).fillna(0)\n",
    "altproj_50TW_cum['World_annual_[MWdc]'] = altproj_50TW_cum-altproj_50TW_cum_shift"
   ]
  },
  {
   "cell_type": "code",
   "execution_count": null,
   "metadata": {},
   "outputs": [],
   "source": [
    "fig, ax1 = plt.subplots()\n",
    "\n",
    "ax1.plot(altproj_50TW_cum['World_cum']/1e6, color='orange')\n",
    "ax1.set_ylabel('Cumulative Capacity [TW]', color='orange')\n",
    "ax2 = ax1.twinx()\n",
    "ax2.plot(altproj_50TW_cum['World_annual_[MWdc]'])\n",
    "ax2.set_ylabel('Annual Installations [MW]')\n",
    "\n",
    "plt.show()"
   ]
  },
  {
   "cell_type": "code",
   "execution_count": null,
   "metadata": {
    "scrolled": true
   },
   "outputs": [],
   "source": [
    "altproj_50TW_annual_TW = altproj_50TW_cum['World_annual_[MWdc]']/1e6\n",
    "#compare to \n",
    "#2030: 364 GW, annual\n",
    "#2040: 650 GW, annual (approx)\n",
    "#2050: 780 GW, annual (approx)\n",
    "altproj_50TW_annual_TW.loc[2030]\n",
    "altproj_50TW_annual_TW.loc[2040]\n",
    "altproj_50TW_annual_TW.loc[2050]"
   ]
  },
  {
   "cell_type": "code",
   "execution_count": null,
   "metadata": {},
   "outputs": [],
   "source": [
    "altproj_50TW_cum.loc[2030,'World_cum']/1e6"
   ]
  },
  {
   "cell_type": "markdown",
   "metadata": {},
   "source": [
    "This projection is higher than DNV GL annual deployments because it achieves a cumulative of 50 TW in 2050, as opposed to 14.7 TW. Similarly, it has a higher deployment rate than BNEF. The ITRPV scenarios range from a cumulative of 22 and 63 TW in 2050, thus our scenario would fall in the middle - we see that the annual deployment in 2050 is indeed between ITRPVs 1.4 TW and 4.5 TW annual deployment. In 2030, this projection achieves 6.6 TW of cumulative deployment, which falls between Haegel et al's 10 TW and IRENA's Net Zero 4.9 TW. \n",
    "\n",
    "There is also a smooth transitition of increasing deployments, as opposed to a step change."
   ]
  },
  {
   "cell_type": "code",
   "execution_count": null,
   "metadata": {},
   "outputs": [],
   "source": [
    "altproj_50TW_cum.to_csv(os.path.join(supportMatfolder,'output-installationProjection-World-50TW.csv'))"
   ]
  },
  {
   "cell_type": "markdown",
   "metadata": {},
   "source": [
    "## Projection through 2100\n",
    "We can assume a few options when projecting through 2100:\n",
    "- maintain capacity, no new growth only replacements\n",
    "- small amount of growth, possibly based on historical average increasing energy demands\n",
    "\n",
    "**For Small growth through 2100:**\n",
    "From https://ember-climate.org/data/data-explorer/historical there is a linear increase in cumulative installed capacity. The slope of the increase is 219.32 GW/yr (see LiteratureIntallationProjections.xlsx in SupportingMaterials folder). If we assume that PV maintains a constant marketshare, then we can apply the increasing capacity slope to 2050 through 2100 as a steady increase in PV installation starting at the 75 TW in 2050 (Haegel et al 2023)."
   ]
  },
  {
   "cell_type": "code",
   "execution_count": null,
   "metadata": {},
   "outputs": [],
   "source": [
    "#calculate the cumulative installed capacity in 2100 using 2000-2021 historical increase in global electrical capacity\n",
    "#y=219.32 GW/yr * t + 50 TW\n",
    "idx_late = pd.RangeIndex(start=2050,stop=2101,step=1) #create the index\n",
    "proj_2050_2100_energyIncrease = pd.DataFrame(index=idx_late, columns=['World_cum'], dtype=float) #turn into df \n",
    "proj_2050_2100_energyIncrease.loc[2050,'World_cum'] = 75*1e6 #set 2050 in MW\n",
    "proj_2050_2100_energyIncrease.loc[2100,'World_cum'] = 219.32*1e3*(2100-2050)+75*1e6 #calculate 2100 in MW\n",
    "#interpolate for each year cumulative\n",
    "proj_2050_2100_energyIncrease.interpolate(inplace=True)\n",
    "\n",
    "#create a annual additions df\n",
    "#because it is a linear increase, it will just be the slope additions\n",
    "proj_2050_2100_energyIncrease['World_annual_[MWdc]'] = 219.32*1e3"
   ]
  },
  {
   "cell_type": "code",
   "execution_count": null,
   "metadata": {},
   "outputs": [],
   "source": [
    "#combine with through 2050 projection\n",
    "global_projection_full = pd.concat([altproj_50TW_cum, proj_2050_2100_energyIncrease.loc[2051:]]) #loc to remove duplicate 2050\n",
    "global_projection_full.to_csv(os.path.join(supportMatfolder, 'output-globalInstallsProjection.csv'))\n",
    "global_projection_full.loc[2021]"
   ]
  },
  {
   "cell_type": "code",
   "execution_count": null,
   "metadata": {},
   "outputs": [],
   "source": [
    "fig, ax1 = plt.subplots()\n",
    "\n",
    "ax1.plot(global_projection_full['World_cum']/1e6, color='orange')\n",
    "ax1.set_ylabel('Cumulative Solar Capacity [TW]', color='orange')\n",
    "ax2 = ax1.twinx()\n",
    "ax2.plot(global_projection_full['World_annual_[MWdc]']/1e6)\n",
    "ax2.set_ylabel('Annual Installations [TW]')\n",
    "plt.show()"
   ]
  },
  {
   "cell_type": "code",
   "execution_count": null,
   "metadata": {},
   "outputs": [],
   "source": []
  },
  {
   "cell_type": "markdown",
   "metadata": {},
   "source": [
    "## Country wise"
   ]
  },
  {
   "cell_type": "code",
   "execution_count": null,
   "metadata": {},
   "outputs": [],
   "source": [
    "#create deployment profile 2000 through 2100\n",
    "#pull in processed file from \"\"(baseline dev) PV Installations - Global\" journal\n",
    "#these are annual additions in MWdc\n",
    "histinstalls_country_alltech = pd.read_csv(os.path.join(supportMatfolder, 'output-CountryInstalls-alltech.csv'), index_col=[0])\n",
    "#fix Nan to 0.0\n",
    "histinstalls_country_alltech = histinstalls_country_alltech.fillna(0.0)\n",
    "histinstalls_country_alltech.tail()"
   ]
  },
  {
   "cell_type": "code",
   "execution_count": null,
   "metadata": {},
   "outputs": [],
   "source": []
  }
 ],
 "metadata": {
  "kernelspec": {
   "display_name": "Python 3 (ipykernel)",
   "language": "python",
   "name": "python3"
  },
  "language_info": {
   "codemirror_mode": {
    "name": "ipython",
    "version": 3
   },
   "file_extension": ".py",
   "mimetype": "text/x-python",
   "name": "python",
   "nbconvert_exporter": "python",
   "pygments_lexer": "ipython3",
   "version": "3.8.8"
  }
 },
 "nbformat": 4,
 "nbformat_minor": 4
}
