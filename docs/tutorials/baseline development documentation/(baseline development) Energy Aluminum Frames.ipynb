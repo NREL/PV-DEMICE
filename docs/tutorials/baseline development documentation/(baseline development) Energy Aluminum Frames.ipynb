{
 "cells": [
  {
   "cell_type": "markdown",
   "id": "880392de",
   "metadata": {},
   "source": [
    "# Energy Requirements of Aluminum Frames MFGing\n",
    "This journal documents the processing of literature data of the manufacturing energy of aluminum frames, from mining through extrusion, and recycling."
   ]
  },
  {
   "cell_type": "code",
   "execution_count": 1,
   "id": "34643f88",
   "metadata": {},
   "outputs": [],
   "source": [
    "import numpy as np\n",
    "import pandas as pd\n",
    "import os,sys\n",
    "import matplotlib.pyplot as plt\n",
    "plt.rcParams.update({'font.size': 18})\n",
    "plt.rcParams['figure.figsize'] = (10, 6)\n",
    "cwd = os.getcwd() #grabs current working directory"
   ]
  },
  {
   "cell_type": "markdown",
   "id": "51ef660f",
   "metadata": {},
   "source": [
    "## Bauxite Mining"
   ]
  },
  {
   "cell_type": "code",
   "execution_count": null,
   "id": "cb4039be",
   "metadata": {},
   "outputs": [],
   "source": []
  },
  {
   "cell_type": "code",
   "execution_count": null,
   "id": "f8bb2799",
   "metadata": {},
   "outputs": [],
   "source": []
  },
  {
   "cell_type": "code",
   "execution_count": null,
   "id": "b85d3c84",
   "metadata": {},
   "outputs": [],
   "source": []
  },
  {
   "cell_type": "markdown",
   "id": "d77be3f5",
   "metadata": {},
   "source": [
    "## Alumina Production"
   ]
  },
  {
   "cell_type": "code",
   "execution_count": null,
   "id": "540d4dee",
   "metadata": {},
   "outputs": [],
   "source": []
  },
  {
   "cell_type": "code",
   "execution_count": null,
   "id": "cdd06336",
   "metadata": {},
   "outputs": [],
   "source": []
  },
  {
   "cell_type": "code",
   "execution_count": null,
   "id": "21c67f75",
   "metadata": {},
   "outputs": [],
   "source": []
  },
  {
   "cell_type": "markdown",
   "id": "55c5627f",
   "metadata": {},
   "source": [
    "## Aluminum Smelting"
   ]
  },
  {
   "cell_type": "code",
   "execution_count": null,
   "id": "e5967099",
   "metadata": {},
   "outputs": [],
   "source": []
  },
  {
   "cell_type": "code",
   "execution_count": null,
   "id": "85f9ccb5",
   "metadata": {},
   "outputs": [],
   "source": []
  },
  {
   "cell_type": "code",
   "execution_count": null,
   "id": "89a191d6",
   "metadata": {},
   "outputs": [],
   "source": []
  },
  {
   "cell_type": "markdown",
   "id": "5ad8736e",
   "metadata": {},
   "source": [
    "## Casting, Extruding, Anodizing"
   ]
  },
  {
   "cell_type": "code",
   "execution_count": null,
   "id": "b6a41bdc",
   "metadata": {},
   "outputs": [],
   "source": []
  },
  {
   "cell_type": "code",
   "execution_count": null,
   "id": "a7c96d90",
   "metadata": {},
   "outputs": [],
   "source": []
  },
  {
   "cell_type": "code",
   "execution_count": null,
   "id": "12645f0f",
   "metadata": {},
   "outputs": [],
   "source": []
  }
 ],
 "metadata": {
  "kernelspec": {
   "display_name": "Python 3 (ipykernel)",
   "language": "python",
   "name": "python3"
  },
  "language_info": {
   "codemirror_mode": {
    "name": "ipython",
    "version": 3
   },
   "file_extension": ".py",
   "mimetype": "text/x-python",
   "name": "python",
   "nbconvert_exporter": "python",
   "pygments_lexer": "ipython3",
   "version": "3.8.8"
  }
 },
 "nbformat": 4,
 "nbformat_minor": 5
}
