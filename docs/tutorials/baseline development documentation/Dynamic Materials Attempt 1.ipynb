{
 "cells": [
  {
   "cell_type": "markdown",
   "id": "0dd7dd20",
   "metadata": {},
   "source": [
    "Attempting to make materials more dynamic by defining some classes"
   ]
  },
  {
   "cell_type": "code",
   "execution_count": 3,
   "id": "042560d6",
   "metadata": {},
   "outputs": [],
   "source": [
    "import pandas as pd\n",
    "import numpy as np\n",
    "import os\n",
    "import matplotlib.pyplot as plt"
   ]
  },
  {
   "cell_type": "code",
   "execution_count": 30,
   "id": "ccdc89e1",
   "metadata": {},
   "outputs": [],
   "source": [
    "class Material:\n",
    "    \"\"\"\n",
    "    create the material inputs more dynamically\n",
    "    properties of a material:\n",
    "    materialname = name the material\n",
    "    thickness = single value or value over time\n",
    "    marketshare = single value or value over time of the marketshare of a particular material\n",
    "    nlayers = number of layers of the material that appear in a pv module\n",
    "    \n",
    "    \n",
    "    \"\"\"\n",
    "            \n",
    "    densitydict = {        # density of common PV materials in g/m^3\n",
    "        'glass': 2500*1000,\n",
    "        'silicon': 2.3290*1e6,\n",
    "        'aluminium': 2.70*1e6,\n",
    "        'silver':  10.49*1e6,\n",
    "        'copper': 8.96*1e6,\n",
    "        'encapsulant': 1.0*1e6, #average of several materials\n",
    "        'backsheet': 1.5*1e6 #average of tedlar and kynar composite films\n",
    "    }\n",
    "    \n",
    "    def __init__(self, materialname, thickness=None, nlayers=None):\n",
    "        self.materialname = materialname\n",
    "        self.thickness = thickness\n",
    "        self.nlayers = nlayers\n",
    "        if materialname in densitydict:\n",
    "            self.density = densitydict[materialname]\n",
    "\n",
    "    def setDensity(self, user_density=None): # add a type check to user\n",
    "        if user_density is None:\n",
    "            print('Please enter a density in g/m^3 for the target material.')\n",
    "        else:\n",
    "            self.density = user_density\n",
    "    \n",
    "    def setThickness(self, user_thickness=None):\n",
    "        if user_thickness is None:\n",
    "            print('Please enter the thickness of a single layer in mm. It can be a list over time.')\n",
    "        else:\n",
    "            self.thickness = user_thickness\n",
    "    \n",
    "    "
   ]
  },
  {
   "cell_type": "code",
   "execution_count": 36,
   "id": "7b6eabe2",
   "metadata": {},
   "outputs": [],
   "source": [
    "glass = Material('glass')\n",
    "range_thickness = {'thickness':[2,2,2,2,2,2,2]}\n",
    "glass.setThickness(range_thickness)"
   ]
  },
  {
   "cell_type": "code",
   "execution_count": 37,
   "id": "2143e017",
   "metadata": {},
   "outputs": [
    {
     "data": {
      "text/plain": [
       "{'thickness': [2, 2, 2, 2, 2, 2, 2]}"
      ]
     },
     "execution_count": 37,
     "metadata": {},
     "output_type": "execute_result"
    }
   ],
   "source": [
    "glass.thickness"
   ]
  }
 ],
 "metadata": {
  "kernelspec": {
   "display_name": "Python 3",
   "language": "python",
   "name": "python3"
  },
  "language_info": {
   "codemirror_mode": {
    "name": "ipython",
    "version": 3
   },
   "file_extension": ".py",
   "mimetype": "text/x-python",
   "name": "python",
   "nbconvert_exporter": "python",
   "pygments_lexer": "ipython3",
   "version": "3.8.8"
  }
 },
 "nbformat": 4,
 "nbformat_minor": 5
}
