{
 "cells": [
  {
   "cell_type": "markdown",
   "id": "a76f89c6-801a-433a-9587-e3188370ca02",
   "metadata": {},
   "source": [
    "# EIA PV installs"
   ]
  },
  {
   "cell_type": "markdown",
   "id": "58e34e50-beb5-409d-9e87-963de139bece",
   "metadata": {},
   "source": [
    "This journal shows the path to obtain CdTe and c-Si market share projections based on eia860 data and the original PV install data from the notebook **(baseline development) PV Installations - US**.\n",
    "\n"
   ]
  },
  {
   "cell_type": "markdown",
   "id": "f62ed277-7168-460b-aa7b-5bd3545140fd",
   "metadata": {},
   "source": [
    "---\n",
    "## Import packages and files"
   ]
  },
  {
   "cell_type": "markdown",
   "id": "1dfa4713-705b-4e04-8bec-39ebe17327ac",
   "metadata": {
    "tags": []
   },
   "source": [
    "Import [eia 860 data](https://www.eia.gov/electricity/data/eia860/) from 2021 to extract new PV all tech and c-Si US installs."
   ]
  },
  {
   "cell_type": "code",
   "execution_count": 1,
   "id": "19ff0aef",
   "metadata": {},
   "outputs": [],
   "source": [
    "import numpy as np\n",
    "import pandas as pd\n",
    "import os,sys\n",
    "import matplotlib.pyplot as plt\n",
    "from pathlib import Path\n",
    "import seaborn as sns\n",
    "from matplotlib.ticker import FormatStrFormatter\n",
    "from matplotlib.ticker import FuncFormatter\n",
    "from matplotlib.ticker import PercentFormatter\n",
    "\n",
    "plt.rcParams.update({'font.size': 18})\n",
    "plt.rcParams['figure.figsize'] = (10, 6)\n",
    "cwd = os.getcwd()"
   ]
  },
  {
   "cell_type": "code",
   "execution_count": 2,
   "id": "6dd7afa3-a578-4ef3-a9ce-f1b81b8ad6e3",
   "metadata": {},
   "outputs": [],
   "source": [
    "cwd = os.getcwd() #grabs current working directory\n",
    "\n",
    "supportMatfolder = str(Path().resolve().parent.parent.parent / 'PV_ICE' / 'baselines' / 'SupportingMaterial')\n",
    "baselinesFolder = str(Path().resolve().parent.parent.parent / 'PV_ICE' / 'baselines')"
   ]
  },
  {
   "cell_type": "markdown",
   "id": "ee4bac1c-d2b2-432e-9f86-1c1efb443797",
   "metadata": {},
   "source": [
    "Load eia 860 solar file."
   ]
  },
  {
   "cell_type": "code",
   "execution_count": 3,
   "id": "683a5f45",
   "metadata": {},
   "outputs": [],
   "source": [
    "eia860_raw = pd.read_excel(os.path.join(supportMatfolder, '3_3_Solar_Y2021.xlsx'), sheet_name='Operable', header=1)"
   ]
  },
  {
   "cell_type": "markdown",
   "id": "69ab9f39-96cd-4952-bde5-7a12459e6a48",
   "metadata": {},
   "source": [
    "---\n",
    "### Market share correction df\n",
    "I show below what is wrong with eia860_raw. In a nutshell there are instances where some nameplate capacities are shared between c-Si and CdTe, making me double count. Therefore I am going to split these. I explain the sources below!"
   ]
  },
  {
   "cell_type": "markdown",
   "id": "aa5931c2-1afe-43a2-a5bf-3607ba7cf514",
   "metadata": {},
   "source": [
    "#### First correction: Springerville 2001"
   ]
  },
  {
   "cell_type": "markdown",
   "id": "e6199257-1d81-43ad-bdec-097ff90839ff",
   "metadata": {},
   "source": [
    "Duplicate the problematic row:"
   ]
  },
  {
   "cell_type": "code",
   "execution_count": 4,
   "id": "f0e1a746-e025-43e4-a948-842729c9d4c2",
   "metadata": {},
   "outputs": [],
   "source": [
    "index_num = eia860_raw[(eia860_raw['Operating Year'] == 2001) & (eia860_raw['Technology'] == 'Solar Photovoltaic') & (eia860_raw['Plant Name'] == 'Springerville')].index.values.astype(int)[0]\n",
    "eia860_raw_correct_1 = pd.concat([eia860_raw, eia860_raw.iloc[[index_num]]*1],ignore_index=True)"
   ]
  },
  {
   "cell_type": "code",
   "execution_count": 5,
   "id": "2c33dd2e-495c-404e-a91a-444b7695d6bd",
   "metadata": {},
   "outputs": [],
   "source": [
    "row_si_num = eia860_raw_correct_1[(eia860_raw_correct_1['Operating Year'] == 2001) & (eia860_raw_correct_1['Technology'] == 'Solar Photovoltaic') & (eia860_raw_correct_1['Plant Name'] == 'Springerville')].index.values.astype(int)[0]\n",
    "row_cdte_num = eia860_raw_correct_1[(eia860_raw_correct_1['Operating Year'] == 2001) & (eia860_raw_correct_1['Technology'] == 'Solar Photovoltaic') & (eia860_raw_correct_1['Plant Name'] == 'Springerville')].index.values.astype(int)[1]"
   ]
  },
  {
   "cell_type": "code",
   "execution_count": null,
   "id": "33a1015c-25eb-4ea8-be68-07e3c9be8e38",
   "metadata": {},
   "outputs": [],
   "source": []
  },
  {
   "cell_type": "markdown",
   "id": "58df8889-da1e-422f-871a-7aaa83e167c9",
   "metadata": {},
   "source": [
    "Values replacement and correction"
   ]
  },
  {
   "cell_type": "code",
   "execution_count": 6,
   "id": "57edb16d-a6e3-45dc-ba71-a41ea07ea4ba",
   "metadata": {},
   "outputs": [
    {
     "data": {
      "text/plain": [
       "Index(['Utility ID', 'Utility Name', 'Plant Code', 'Plant Name', 'State',\n",
       "       'County', 'Generator ID', 'Status', 'Technology', 'Prime Mover',\n",
       "       'Sector Name', 'Sector', 'Nameplate Capacity (MW)',\n",
       "       'Summer Capacity (MW)', 'Winter Capacity (MW)', 'Operating Month',\n",
       "       'Operating Year', 'Lenses / Mirrors?', 'Single-Axis Tracking?',\n",
       "       'Dual-Axis Tracking?', 'Fixed Tilt?', 'East West Fixed Tilt?',\n",
       "       'Parabolic Trough?', 'Linear Fresnel?', 'Power Tower?', 'Dish Engine?',\n",
       "       'Other Solar Technology?', 'Azimuth Angle', 'Tilt Angle',\n",
       "       'DC Net Capacity (MW)', 'Crystalline Silicon?', 'Thin-Film (CdTe)?',\n",
       "       'Thin-Film (A-Si)?', 'Thin-Film (CIGS)?', 'Thin-Film (Other)?',\n",
       "       'Other Materials?', 'Net Metering Agreement?',\n",
       "       'Net Metering DC Capacity (MW)', 'Virtual Net Metering Agreement?',\n",
       "       'Virtual Net Metering DC Capacity (MW)'],\n",
       "      dtype='object')"
      ]
     },
     "execution_count": 6,
     "metadata": {},
     "output_type": "execute_result"
    }
   ],
   "source": [
    "eia860_raw_correct_1.keys()"
   ]
  },
  {
   "cell_type": "code",
   "execution_count": 7,
   "id": "0feefcae-2cda-4395-93cc-b760092c2cab",
   "metadata": {},
   "outputs": [],
   "source": [
    "eia860_raw_correct_1.loc[row_si_num, 'Thin-Film (CdTe)?'], eia860_raw_correct_1.loc[row_si_num, 'Nameplate Capacity (MW)'] = 'N', 2.7\n",
    "eia860_raw_correct_1.loc[row_cdte_num, 'Crystalline Silicon?'], eia860_raw_correct_1.loc[row_cdte_num, 'Nameplate Capacity (MW)'] = 'N', 1"
   ]
  },
  {
   "cell_type": "markdown",
   "id": "e1ffe3b2-d506-49aa-9bb3-4cb9f4da2179",
   "metadata": {},
   "source": [
    "Check to see if I change the values:"
   ]
  },
  {
   "cell_type": "code",
   "execution_count": 8,
   "id": "f8a14d80-d187-4c70-8130-78ea75971de5",
   "metadata": {},
   "outputs": [],
   "source": [
    "#eia860_raw_correct_1.loc[row_si_num]\n",
    "eia860_raw_correct_1.loc[row_cdte_num];"
   ]
  },
  {
   "cell_type": "markdown",
   "id": "b36dd5e9-8a0d-41cd-9d74-c52e77e45b72",
   "metadata": {},
   "source": [
    "#### Correction 2: Solar Gen 2 Solar Facility"
   ]
  },
  {
   "cell_type": "markdown",
   "id": "a1a5984c-b205-47a5-9e3d-f0c5699ef545",
   "metadata": {},
   "source": [
    "I am going to change the Solar Gen 2 Solar Facility to be only CdTe (more explenation at the end of this notebook)."
   ]
  },
  {
   "cell_type": "code",
   "execution_count": 9,
   "id": "a98fadb2-6f29-4519-a00e-ed886c519343",
   "metadata": {},
   "outputs": [],
   "source": [
    "index_list = eia860_raw[(eia860_raw['Plant Name'] == 'Solar Gen 2 Solar Facility')].index.values"
   ]
  },
  {
   "cell_type": "code",
   "execution_count": 10,
   "id": "85387919-52a4-4684-8ab5-ecccba2ffdbf",
   "metadata": {},
   "outputs": [
    {
     "data": {
      "text/html": [
       "<div>\n",
       "<style scoped>\n",
       "    .dataframe tbody tr th:only-of-type {\n",
       "        vertical-align: middle;\n",
       "    }\n",
       "\n",
       "    .dataframe tbody tr th {\n",
       "        vertical-align: top;\n",
       "    }\n",
       "\n",
       "    .dataframe thead th {\n",
       "        text-align: right;\n",
       "    }\n",
       "</style>\n",
       "<table border=\"1\" class=\"dataframe\">\n",
       "  <thead>\n",
       "    <tr style=\"text-align: right;\">\n",
       "      <th></th>\n",
       "      <th>Utility ID</th>\n",
       "      <th>Utility Name</th>\n",
       "      <th>Plant Code</th>\n",
       "      <th>Plant Name</th>\n",
       "      <th>State</th>\n",
       "      <th>County</th>\n",
       "      <th>Generator ID</th>\n",
       "      <th>Status</th>\n",
       "      <th>Technology</th>\n",
       "      <th>Prime Mover</th>\n",
       "      <th>...</th>\n",
       "      <th>Crystalline Silicon?</th>\n",
       "      <th>Thin-Film (CdTe)?</th>\n",
       "      <th>Thin-Film (A-Si)?</th>\n",
       "      <th>Thin-Film (CIGS)?</th>\n",
       "      <th>Thin-Film (Other)?</th>\n",
       "      <th>Other Materials?</th>\n",
       "      <th>Net Metering Agreement?</th>\n",
       "      <th>Net Metering DC Capacity (MW)</th>\n",
       "      <th>Virtual Net Metering Agreement?</th>\n",
       "      <th>Virtual Net Metering DC Capacity (MW)</th>\n",
       "    </tr>\n",
       "  </thead>\n",
       "  <tbody>\n",
       "    <tr>\n",
       "      <th>909</th>\n",
       "      <td>17650</td>\n",
       "      <td>Southern Power Co</td>\n",
       "      <td>58592</td>\n",
       "      <td>Solar Gen 2 Solar Facility</td>\n",
       "      <td>CA</td>\n",
       "      <td>Imperial</td>\n",
       "      <td>ALHM</td>\n",
       "      <td>OP</td>\n",
       "      <td>Solar Photovoltaic</td>\n",
       "      <td>PV</td>\n",
       "      <td>...</td>\n",
       "      <td>N</td>\n",
       "      <td>Y</td>\n",
       "      <td>NaN</td>\n",
       "      <td>NaN</td>\n",
       "      <td>NaN</td>\n",
       "      <td>NaN</td>\n",
       "      <td>N</td>\n",
       "      <td></td>\n",
       "      <td>N</td>\n",
       "      <td></td>\n",
       "    </tr>\n",
       "    <tr>\n",
       "      <th>910</th>\n",
       "      <td>17650</td>\n",
       "      <td>Southern Power Co</td>\n",
       "      <td>58592</td>\n",
       "      <td>Solar Gen 2 Solar Facility</td>\n",
       "      <td>CA</td>\n",
       "      <td>Imperial</td>\n",
       "      <td>ARK</td>\n",
       "      <td>OP</td>\n",
       "      <td>Solar Photovoltaic</td>\n",
       "      <td>PV</td>\n",
       "      <td>...</td>\n",
       "      <td>N</td>\n",
       "      <td>Y</td>\n",
       "      <td>NaN</td>\n",
       "      <td>NaN</td>\n",
       "      <td>NaN</td>\n",
       "      <td>NaN</td>\n",
       "      <td>N</td>\n",
       "      <td></td>\n",
       "      <td>N</td>\n",
       "      <td></td>\n",
       "    </tr>\n",
       "    <tr>\n",
       "      <th>911</th>\n",
       "      <td>17650</td>\n",
       "      <td>Southern Power Co</td>\n",
       "      <td>58592</td>\n",
       "      <td>Solar Gen 2 Solar Facility</td>\n",
       "      <td>CA</td>\n",
       "      <td>Imperial</td>\n",
       "      <td>SONR</td>\n",
       "      <td>OP</td>\n",
       "      <td>Solar Photovoltaic</td>\n",
       "      <td>PV</td>\n",
       "      <td>...</td>\n",
       "      <td>N</td>\n",
       "      <td>Y</td>\n",
       "      <td>NaN</td>\n",
       "      <td>NaN</td>\n",
       "      <td>NaN</td>\n",
       "      <td>NaN</td>\n",
       "      <td>N</td>\n",
       "      <td></td>\n",
       "      <td>N</td>\n",
       "      <td></td>\n",
       "    </tr>\n",
       "  </tbody>\n",
       "</table>\n",
       "<p>3 rows × 40 columns</p>\n",
       "</div>"
      ],
      "text/plain": [
       "     Utility ID       Utility Name  Plant Code                  Plant Name  \\\n",
       "909       17650  Southern Power Co       58592  Solar Gen 2 Solar Facility   \n",
       "910       17650  Southern Power Co       58592  Solar Gen 2 Solar Facility   \n",
       "911       17650  Southern Power Co       58592  Solar Gen 2 Solar Facility   \n",
       "\n",
       "    State    County Generator ID Status          Technology Prime Mover  ...  \\\n",
       "909    CA  Imperial         ALHM     OP  Solar Photovoltaic          PV  ...   \n",
       "910    CA  Imperial          ARK     OP  Solar Photovoltaic          PV  ...   \n",
       "911    CA  Imperial         SONR     OP  Solar Photovoltaic          PV  ...   \n",
       "\n",
       "    Crystalline Silicon?  Thin-Film (CdTe)?  Thin-Film (A-Si)?  \\\n",
       "909                    N                  Y                NaN   \n",
       "910                    N                  Y                NaN   \n",
       "911                    N                  Y                NaN   \n",
       "\n",
       "     Thin-Film (CIGS)? Thin-Film (Other)?  Other Materials?  \\\n",
       "909                NaN                NaN               NaN   \n",
       "910                NaN                NaN               NaN   \n",
       "911                NaN                NaN               NaN   \n",
       "\n",
       "     Net Metering Agreement? Net Metering DC Capacity (MW)  \\\n",
       "909                        N                                 \n",
       "910                        N                                 \n",
       "911                        N                                 \n",
       "\n",
       "    Virtual Net Metering Agreement? Virtual Net Metering DC Capacity (MW)  \n",
       "909                               N                                        \n",
       "910                               N                                        \n",
       "911                               N                                        \n",
       "\n",
       "[3 rows x 40 columns]"
      ]
     },
     "execution_count": 10,
     "metadata": {},
     "output_type": "execute_result"
    }
   ],
   "source": [
    "eia860_raw_correct_1.loc[index_list, 'Crystalline Silicon?'] = 'N'\n",
    "eia860_raw_correct_1.loc[index_list]"
   ]
  },
  {
   "cell_type": "markdown",
   "id": "8952e825-5a40-439c-9982-678bc9787c19",
   "metadata": {},
   "source": [
    "#### Correction 3: Springbok 3 "
   ]
  },
  {
   "cell_type": "markdown",
   "id": "ba4cf59a-2df6-41aa-9520-8a92ad769811",
   "metadata": {},
   "source": [
    "There is no data on what kind Springbok 3 is. However, I can assume it is not CdTe because First Solar is not mentioned in their [website](https://avantus.com/development) nor in the [2019 First Solar annual report](https://s2.q4cdn.com/646275317/files/doc_financials/2019/ar/First-Solar-2019-Annual-Report-vPost.pdf)."
   ]
  },
  {
   "cell_type": "code",
   "execution_count": 11,
   "id": "d988d9c4-33fc-48c0-a34a-1fac9666df29",
   "metadata": {},
   "outputs": [
    {
     "data": {
      "text/plain": [
       "array([2121])"
      ]
     },
     "execution_count": 11,
     "metadata": {},
     "output_type": "execute_result"
    }
   ],
   "source": [
    "index_3 = eia860_raw[(eia860_raw['Plant Name'] == 'Springbok 3 Solar Farm Hybrid')].index.values\n",
    "index_3"
   ]
  },
  {
   "cell_type": "code",
   "execution_count": 12,
   "id": "a60d068b-a999-44a0-b005-ec213a6f4702",
   "metadata": {},
   "outputs": [],
   "source": [
    "eia860_raw_correct_1.loc[index_list, 'Thin-Film (CdTe)?'] = 'N'"
   ]
  },
  {
   "cell_type": "markdown",
   "id": "2f609ce3-a31e-4c3e-86ea-e57a89b1cdbd",
   "metadata": {},
   "source": [
    "---\n",
    "## Total PV"
   ]
  },
  {
   "cell_type": "code",
   "execution_count": 13,
   "id": "2b38181b-e3df-4a1f-ade3-74cefc9d9664",
   "metadata": {},
   "outputs": [],
   "source": [
    "eia860_raw_pv = eia860_raw_correct_1[eia860_raw_correct_1['Technology'] == 'Solar Photovoltaic']\n",
    "eia860_all_pv = eia860_raw_pv.groupby('Operating Year').sum()"
   ]
  },
  {
   "cell_type": "code",
   "execution_count": 14,
   "id": "f510646c",
   "metadata": {},
   "outputs": [
    {
     "data": {
      "text/plain": [
       "[<matplotlib.lines.Line2D at 0x17f9923e0>]"
      ]
     },
     "execution_count": 14,
     "metadata": {},
     "output_type": "execute_result"
    },
    {
     "data": {
      "image/png": "[encoded data removed]",
      "text/plain": [
       "<Figure size 432x288 with 1 Axes>"
      ]
     },
     "metadata": {
      "needs_background": "light"
     },
     "output_type": "display_data"
    }
   ],
   "source": [
    "plt.plot(eia860_all_pv.index, eia860_all_pv['Nameplate Capacity (MW)'])\n",
    "#plt.yscale('symlog')"
   ]
  },
  {
   "cell_type": "markdown",
   "id": "cc8bb517-d55e-400e-ab19-ffe3047a71bd",
   "metadata": {},
   "source": [
    "There is no data between 1995 and 2001 so I will complete it with Heather's original PV install baseline. Also also, I believe the eia data is for utility scale only, so I will see the difference between Heather's and eia dataframes. Probably I will use Heather's since it includes residential, commercial and utility.\n",
    "\n",
    "According to WoodMckenzie First Solar has a small percentage (~0.2 and 2%) of the commercial scale installs in 2021 and 2022. I need to check if we can share the actual values here."
   ]
  },
  {
   "cell_type": "markdown",
   "id": "f80c1f96-d3a0-4821-98a9-4942e6e8c7fa",
   "metadata": {},
   "source": [
    "Load the original PV installs data and drop the years from 2001."
   ]
  },
  {
   "cell_type": "code",
   "execution_count": 15,
   "id": "8337da15-b614-43e8-9b65-57700d464366",
   "metadata": {},
   "outputs": [],
   "source": [
    "us_installs_original = pd.read_csv(os.path.join(supportMatfolder,'output_USA_allPV_installs.csv'), index_col='Year')\n",
    "us_installs_original.rename(columns={'installed_pv_MW':'Nameplate Capacity (MW)'},inplace=True)\n",
    "us_installs_original_before_2001 = us_installs_original.loc[(us_installs_original.index<2001)]\n"
   ]
  },
  {
   "cell_type": "code",
   "execution_count": 16,
   "id": "ae201be8-5c91-4353-a60e-e15ddf748a7b",
   "metadata": {},
   "outputs": [
    {
     "data": {
      "text/plain": [
       "[<matplotlib.lines.Line2D at 0x17fd3d1b0>]"
      ]
     },
     "execution_count": 16,
     "metadata": {},
     "output_type": "execute_result"
    },
    {
     "data": {
      "image/png": "[encoded data removed]",
      "text/plain": [
       "<Figure size 432x288 with 1 Axes>"
      ]
     },
     "metadata": {
      "needs_background": "light"
     },
     "output_type": "display_data"
    }
   ],
   "source": [
    "plt.plot(us_installs_original_before_2001.index, us_installs_original_before_2001['Nameplate Capacity (MW)'])\n"
   ]
  },
  {
   "cell_type": "markdown",
   "id": "ac324295-e2e3-4889-9352-2d2378668815",
   "metadata": {},
   "source": [
    "Now I concatenate both datasets, and boom... we get a new PV all tech installs line."
   ]
  },
  {
   "cell_type": "code",
   "execution_count": 17,
   "id": "b09bdc0f-3dd8-4234-9923-d2421a95d366",
   "metadata": {},
   "outputs": [],
   "source": [
    "new_pv_installs = pd.concat([us_installs_original_before_2001, eia860_all_pv])"
   ]
  },
  {
   "cell_type": "code",
   "execution_count": 18,
   "id": "d726e6a8-30ff-46cf-b41c-8e51bdb67e03",
   "metadata": {},
   "outputs": [
    {
     "data": {
      "text/plain": [
       "<matplotlib.legend.Legend at 0x17fd23880>"
      ]
     },
     "execution_count": 18,
     "metadata": {},
     "output_type": "execute_result"
    },
    {
     "data": {
      "image/png": "[encoded data removed]",
      "text/plain": [
       "<Figure size 432x288 with 1 Axes>"
      ]
     },
     "metadata": {
      "needs_background": "light"
     },
     "output_type": "display_data"
    }
   ],
   "source": [
    "plt.plot(new_pv_installs.index, new_pv_installs['Nameplate Capacity (MW)'], label= 'eia860 and Heathers pre 2001')\n",
    "plt.plot(us_installs_original.index, us_installs_original['Nameplate Capacity (MW)'], label= 'Heather')\n",
    "plt.ylabel('PV Installed (MW)')\n",
    "plt.xlabel('Years')\n",
    "#plt.legend(bbox_to_anchor=(0, 1, 1, 0), loc=\"lower left\")\n",
    "plt.legend(frameon=False, bbox_to_anchor=(1.05, 1.0), loc='upper left')"
   ]
  },
  {
   "cell_type": "markdown",
   "id": "24c62f48-db78-4873-9258-f0020da2b5e8",
   "metadata": {},
   "source": [
    "Yes, the drop is huge. Therefore I will use the total PV installs from Heather to calculate the market shares since it represents more the total PV, not only utility."
   ]
  },
  {
   "cell_type": "code",
   "execution_count": 19,
   "id": "0c0adf77-9fc1-439c-9c63-b39f260a0614",
   "metadata": {},
   "outputs": [],
   "source": [
    "# Export to csv\n",
    "new_pv_installs['Nameplate Capacity (MW)'].to_csv(os.path.join(supportMatfolder, 'output_eia860_all_pv.csv'))"
   ]
  },
  {
   "cell_type": "code",
   "execution_count": null,
   "id": "20c3293a-1ef1-4561-81b9-2e5b82c5ddbb",
   "metadata": {
    "jupyter": {
     "source_hidden": true
    },
    "tags": []
   },
   "outputs": [],
   "source": []
  },
  {
   "cell_type": "markdown",
   "id": "074a969b-95c9-4da9-a4df-09184d4f57d0",
   "metadata": {},
   "source": [
    "---\n",
    "## PV separated by tech installs and market share only for utility"
   ]
  },
  {
   "cell_type": "markdown",
   "id": "5801fdbd-38ec-4c40-86d1-7cbc96a4d147",
   "metadata": {},
   "source": [
    "Find cSi data and CdTe from the eia890 dataframe."
   ]
  },
  {
   "cell_type": "code",
   "execution_count": 20,
   "id": "70b08b7f-8c02-4233-bfa2-4c19ed73e241",
   "metadata": {},
   "outputs": [],
   "source": [
    "eia860_raw_cSi = eia860_raw_correct_1[eia860_raw_correct_1['Crystalline Silicon?'] == 'Y']\n",
    "eia860_raw_CdTe = eia860_raw_correct_1[eia860_raw_correct_1['Thin-Film (CdTe)?'] == 'Y']\n",
    "# eia860_raw_CIGS = eia860_raw[eia860_raw['Thin-Film (CIGS)?'] == 'Y']\n",
    "# eia860_raw_ASi = eia860_raw[eia860_raw['Thin-Film (A-Si)?'] == 'Y']\n",
    "# eia860_raw_Other = eia860_raw[eia860_raw['Thin-Film (Other)?'] == 'Y'] # Ignore 'other' because they are mixed with c-Si and it is not clear what it is"
   ]
  },
  {
   "cell_type": "markdown",
   "id": "4a9d2e9c-2f03-4434-ad24-d3d9b707745e",
   "metadata": {},
   "source": [
    "Group by year."
   ]
  },
  {
   "cell_type": "code",
   "execution_count": 21,
   "id": "63aaccae-43c7-4141-8644-ef984dbb956c",
   "metadata": {},
   "outputs": [],
   "source": [
    "eia860_cSi = eia860_raw_cSi.groupby('Operating Year').sum()\n",
    "eia860_CdTe = eia860_raw_CdTe.groupby('Operating Year').sum()\n",
    "# eia860_CIGS = eia860_raw_CIGS.groupby('Operating Year').sum()\n",
    "# eia860_ASi = eia860_raw_ASi.groupby('Operating Year').sum()\n",
    "#eia860_Other = eia860_raw_Other.groupby('Operating Year').sum()\n"
   ]
  },
  {
   "cell_type": "markdown",
   "id": "118400bc-473a-443f-b7c9-d86256abe329",
   "metadata": {},
   "source": [
    "Concatenate cSi data pre-2001 since it was 100% c-Si."
   ]
  },
  {
   "cell_type": "code",
   "execution_count": 22,
   "id": "bc77371d-c4e4-40c0-90e0-65c34922073e",
   "metadata": {},
   "outputs": [],
   "source": [
    "eia860_cSi = pd.concat([us_installs_original_before_2001, eia860_cSi])"
   ]
  },
  {
   "cell_type": "code",
   "execution_count": 23,
   "id": "8e17cf99-7846-41e0-886e-8ac743127e42",
   "metadata": {},
   "outputs": [],
   "source": [
    "eia860_cSi.to_csv(os.path.join(supportMatfolder, 'output_eia860_c-Si_installs_utility.csv'))\n",
    "eia860_CdTe.to_csv(os.path.join(supportMatfolder, 'output_eia860_CdTe_installs_utility.csv'))"
   ]
  },
  {
   "cell_type": "markdown",
   "id": "4b917623-b9c5-4cb1-ba8c-699d3f42d788",
   "metadata": {},
   "source": [
    "Plot."
   ]
  },
  {
   "cell_type": "code",
   "execution_count": 24,
   "id": "b5e7e9c5-95a6-499d-a5cb-8cbe30323f4e",
   "metadata": {},
   "outputs": [
    {
     "data": {
      "text/plain": [
       "<matplotlib.legend.Legend at 0x17fe6b550>"
      ]
     },
     "execution_count": 24,
     "metadata": {},
     "output_type": "execute_result"
    },
    {
     "data": {
      "image/png": "[encoded data removed]",
      "text/plain": [
       "<Figure size 432x288 with 1 Axes>"
      ]
     },
     "metadata": {
      "needs_background": "light"
     },
     "output_type": "display_data"
    }
   ],
   "source": [
    "plt.plot(new_pv_installs.index, new_pv_installs['Nameplate Capacity (MW)'], label='All PV')\n",
    "plt.plot(eia860_cSi.index, eia860_cSi['Nameplate Capacity (MW)'], label='cSi')\n",
    "plt.plot(eia860_CdTe.index, eia860_CdTe['Nameplate Capacity (MW)'], label='CdTe (Thin film)')\n",
    "# plt.plot(eia860_CIGS.index, eia860_CIGS['Nameplate Capacity (MW)'], label='CIGS (Thin film)')\n",
    "# plt.plot(eia860_ASi.index, eia860_ASi['Nameplate Capacity (MW)'], label='A-Si (Thin film)')\n",
    "#plt.plot(eia860_Other.index, eia860_Other['Nameplate Capacity (MW)'], label='Other (Thin film)')\n",
    "\n",
    "plt.ylabel('PV Installed (MW)')\n",
    "plt.xlabel('Years')\n",
    "#plt.legend(bbox_to_anchor=(0, 1, 1, 0), loc=\"lower left\")\n",
    "plt.legend(frameon=False, bbox_to_anchor=(1.05, 1.0), loc='upper left')\n",
    "#plt.plot(df_installs_raw, marker='o')"
   ]
  },
  {
   "cell_type": "markdown",
   "id": "b46ba141-704a-4736-bcd5-f5d8298f2fd3",
   "metadata": {},
   "source": [
    "### Market share calculations - utility"
   ]
  },
  {
   "cell_type": "code",
   "execution_count": 25,
   "id": "67659540-2191-488d-b16d-4a0db92efa9d",
   "metadata": {},
   "outputs": [],
   "source": [
    "ms_utility = pd.DataFrame()\n",
    "ms_utility['c-Si'] = eia860_cSi['Nameplate Capacity (MW)']/new_pv_installs['Nameplate Capacity (MW)']\n",
    "ms_utility['CdTe (Thin film)'] = eia860_CdTe['Nameplate Capacity (MW)']/new_pv_installs['Nameplate Capacity (MW)']\n",
    "# ms['CIGS (Thin film)'] = eia860_CIGS['Nameplate Capacity (MW)']/new_pv_installs['Nameplate Capacity (MW)']\n",
    "# ms['A-Si (Thin film)'] = eia860_ASi['Nameplate Capacity (MW)']/new_pv_installs['Nameplate Capacity (MW)']\n",
    "#ms['Other (Thin film)'] = eia860_Other['Nameplate Capacity (MW)']/new_pv_installs['Nameplate Capacity (MW)']\n",
    "ms_utility.fillna(0, inplace=True)\n",
    "ms_utility.to_csv(os.path.join(supportMatfolder, 'output_eia860_market_share_c-Si_CdTe_utility.csv'))"
   ]
  },
  {
   "cell_type": "markdown",
   "id": "4e88443b-4ca6-4fb2-afb5-4df80b80da4d",
   "metadata": {},
   "source": [
    "Tidy data version"
   ]
  },
  {
   "cell_type": "code",
   "execution_count": 26,
   "id": "f6579ba9-d233-4fca-9b42-7b8123796483",
   "metadata": {},
   "outputs": [],
   "source": [
    "ms_utility.reset_index(inplace=True)\n",
    "ms_utility = ms_utility.rename(columns={'index': 'Year'})\n",
    "tidy_ms_utility = ms_utility.melt('Year', var_name='Technology', value_name='Market share')\n",
    "tidy_ms_utility.to_csv(os.path.join(supportMatfolder, 'output_eia860_tidy_cSi_CdTe_market_share_utility.csv'))"
   ]
  },
  {
   "cell_type": "code",
   "execution_count": 28,
   "id": "295992cf-9288-40f2-a023-8815561048c6",
   "metadata": {},
   "outputs": [
    {
     "data": {
      "text/plain": [
       "<matplotlib.legend.Legend at 0x17f90b910>"
      ]
     },
     "execution_count": 28,
     "metadata": {},
     "output_type": "execute_result"
    },
    {
     "data": {
      "image/png": "[encoded data removed]",
      "text/plain": [
       "<Figure size 432x288 with 1 Axes>"
      ]
     },
     "metadata": {
      "needs_background": "light"
     },
     "output_type": "display_data"
    }
   ],
   "source": [
    "ax = sns.lineplot(x='Year', y='Market share', data=tidy_ms_utility, hue='Technology')\n",
    "plt.gca().xaxis.set_major_formatter(FuncFormatter(lambda x, _: int(x))) # Sets year x axis as \n",
    "ax.yaxis.set_major_formatter(PercentFormatter(1))\n",
    "\n",
    "plt.ylabel('PV Market Share')\n",
    "plt.xlabel('Years')\n",
    "#plt.legend(bbox_to_anchor=(0, 1, 1, 0), loc=\"lower left\")\n",
    "plt.legend(frameon=False, bbox_to_anchor=(1.05, 1.0), loc='upper left')\n",
    "#plt.plot(df_installs_raw, marker='o')"
   ]
  },
  {
   "cell_type": "markdown",
   "id": "fbe60eb9-64cd-4b5c-9505-ec71f356bb5f",
   "metadata": {},
   "source": [
    "## PV separated by tech installs and market share with all installs."
   ]
  },
  {
   "cell_type": "markdown",
   "id": "a4a8d18d-232b-4028-963b-038ed0d9f208",
   "metadata": {},
   "source": [
    "In this version, I use Heather's original data for all PV and c-Si fraction since it comprises residential, commercial and CdTe. CdTe is virtually only utility scale."
   ]
  },
  {
   "cell_type": "code",
   "execution_count": 30,
   "id": "06f9fae6-889e-42ec-a99b-0c33b12dc58a",
   "metadata": {},
   "outputs": [],
   "source": [
    "heather_csi_data = pd.read_csv(os.path.join(supportMatfolder,'output_USA_SiPV_installs.csv'), index_col='Year')\n",
    "heather_csi_data.rename(columns={'0': 'Nameplate Capacity (MW)'}, inplace=True)"
   ]
  },
  {
   "cell_type": "code",
   "execution_count": 37,
   "id": "d4f2bd81-06af-42b9-9749-7494e2ce888f",
   "metadata": {},
   "outputs": [
    {
     "data": {
      "text/plain": [
       "<matplotlib.legend.Legend at 0x29347a920>"
      ]
     },
     "execution_count": 37,
     "metadata": {},
     "output_type": "execute_result"
    },
    {
     "data": {
      "image/png": "[encoded data removed]",
      "text/plain": [
       "<Figure size 432x288 with 1 Axes>"
      ]
     },
     "metadata": {
      "needs_background": "light"
     },
     "output_type": "display_data"
    }
   ],
   "source": [
    "plt.plot(us_installs_original.index, us_installs_original['Nameplate Capacity (MW)'], label= 'Heather')\n",
    "plt.plot(heather_csi_data.index, heather_csi_data['Nameplate Capacity (MW)'], label='cSi')\n",
    "plt.plot(eia860_CdTe.index, eia860_CdTe['Nameplate Capacity (MW)'], label='CdTe (Thin film)')\n",
    "plt.ylabel('PV Installed (MW)')\n",
    "plt.xlabel('Years')\n",
    "plt.yscale('symlog') # Comment this one if you want to see it at normal scale\n",
    "#plt.legend(bbox_to_anchor=(0, 1, 1, 0), loc=\"lower left\")\n",
    "plt.legend(frameon=False, bbox_to_anchor=(1.05, 1.0), loc='upper left')\n",
    "#plt.plot(df_installs_raw, marker='o')\n"
   ]
  },
  {
   "cell_type": "markdown",
   "id": "cd4db3ee-baae-482c-84f7-4ddaded6134e",
   "metadata": {},
   "source": [
    "This one shows a more realistic scenario. Let's now calculate market share."
   ]
  },
  {
   "cell_type": "code",
   "execution_count": 32,
   "id": "5cb73375-aee1-4bf3-be9c-f194496cf65f",
   "metadata": {},
   "outputs": [],
   "source": [
    "ms_all = pd.DataFrame()\n",
    "ms_all['c-Si'] = heather_csi_data['Nameplate Capacity (MW)']/us_installs_original['Nameplate Capacity (MW)']\n",
    "ms_all['CdTe (Thin film)'] = eia860_CdTe['Nameplate Capacity (MW)']/us_installs_original['Nameplate Capacity (MW)']\n",
    "# ms['CIGS (Thin film)'] = eia860_CIGS['Nameplate Capacity (MW)']/new_pv_installs['Nameplate Capacity (MW)']\n",
    "# ms['A-Si (Thin film)'] = eia860_ASi['Nameplate Capacity (MW)']/new_pv_installs['Nameplate Capacity (MW)']\n",
    "#ms['Other (Thin film)'] = eia860_Other['Nameplate Capacity (MW)']/new_pv_installs['Nameplate Capacity (MW)']\n",
    "ms_all.fillna(0, inplace=True)\n",
    "ms_all.to_csv(os.path.join(supportMatfolder, 'output_eia860_market_share_c-Si_CdTe_all.csv'))"
   ]
  },
  {
   "cell_type": "code",
   "execution_count": 33,
   "id": "08bb6ef8-11b3-46f8-bf4b-3223ab5554fe",
   "metadata": {},
   "outputs": [],
   "source": [
    "ms_all.reset_index(inplace=True)\n",
    "ms_all = ms_all.rename(columns={'index': 'Year'})\n",
    "tidy_ms_all = ms_all.melt('Year', var_name='Technology', value_name='Market share')\n",
    "tidy_ms_all.to_csv(os.path.join(supportMatfolder, 'output_eia860_tidy_cSi_CdTe_market_share_all.csv'))"
   ]
  },
  {
   "cell_type": "code",
   "execution_count": 34,
   "id": "9595e9a3-6f8c-4876-892e-754322a1945d",
   "metadata": {},
   "outputs": [
    {
     "data": {
      "text/plain": [
       "<matplotlib.legend.Legend at 0x17fb94190>"
      ]
     },
     "execution_count": 34,
     "metadata": {},
     "output_type": "execute_result"
    },
    {
     "data": {
      "image/png": "[encoded data removed]",
      "text/plain": [
       "<Figure size 432x288 with 1 Axes>"
      ]
     },
     "metadata": {
      "needs_background": "light"
     },
     "output_type": "display_data"
    }
   ],
   "source": [
    "ax = sns.lineplot(x='Year', y='Market share', data=tidy_ms_all, hue='Technology')\n",
    "plt.gca().xaxis.set_major_formatter(FuncFormatter(lambda x, _: int(x))) # Sets year x axis as \n",
    "ax.yaxis.set_major_formatter(PercentFormatter(1))\n",
    "\n",
    "plt.ylabel('PV Market Share')\n",
    "plt.xlabel('Years')\n",
    "#plt.legend(bbox_to_anchor=(0, 1, 1, 0), loc=\"lower left\")\n",
    "plt.legend(frameon=False, bbox_to_anchor=(1.05, 1.0), loc='upper left')\n",
    "#plt.plot(df_installs_raw, marker='o')"
   ]
  },
  {
   "cell_type": "markdown",
   "id": "04a137e5-dbcd-4d8a-8817-03ee5bfc8444",
   "metadata": {},
   "source": [
    "## PV installs projection for final cSi and CdTe installs"
   ]
  },
  {
   "cell_type": "markdown",
   "id": "d30380d0-cfea-4dd4-ac3e-e0192f651f92",
   "metadata": {},
   "source": [
    "Here I base the projections on the Electrification Futures scenario."
   ]
  },
  {
   "cell_type": "markdown",
   "id": "96eb8c94-fe6f-4791-86bb-d12337538bc0",
   "metadata": {},
   "source": [
    "Upload Electrification Futures baseline."
   ]
  },
  {
   "cell_type": "code",
   "execution_count": null,
   "id": "323b5670-cc76-474d-aea2-470c9a35334a",
   "metadata": {},
   "outputs": [],
   "source": [
    "ef_baseline = pd.read_csv(os.path.join(baselinesFolder,'output_USA_SiPV_installs.csv'), index_col='Year')\n"
   ]
  },
  {
   "cell_type": "code",
   "execution_count": null,
   "id": "6181be6f-1bfc-495d-ac27-8de30c5bd0f6",
   "metadata": {},
   "outputs": [],
   "source": []
  },
  {
   "cell_type": "code",
   "execution_count": null,
   "id": "bbe19977-2797-4462-83bc-7a1cc3064ae1",
   "metadata": {},
   "outputs": [],
   "source": []
  },
  {
   "cell_type": "markdown",
   "id": "cca43239-5205-4e8c-acba-227d3150aa03",
   "metadata": {},
   "source": [
    "---\n",
    "## Appendix: Market share correction"
   ]
  },
  {
   "cell_type": "markdown",
   "id": "b3dadf11-102c-45ae-880e-207ec483b6b1",
   "metadata": {},
   "source": [
    "That moment in 2001 indicates that there is something odd in the eia data. Going back to the original excel, I can see that some values are marked as both, c-Si and CdTe so I am accidentally double counting. I found these conflicting years, and what I will do is to find the real values and also source them from Heather's original PV baselines."
   ]
  },
  {
   "cell_type": "markdown",
   "id": "4907c781-bcc2-442f-ba0d-447109e4f213",
   "metadata": {},
   "source": [
    "Now let's look at the conflicting years that share CdTe and PV."
   ]
  },
  {
   "cell_type": "code",
   "execution_count": null,
   "id": "b74cdb6e-5d69-405f-a285-b51c72730bcd",
   "metadata": {},
   "outputs": [],
   "source": [
    "eia860_raw[(eia860_raw['Crystalline Silicon?'] == 'Y') & (eia860_raw['Thin-Film (CdTe)?'] == 'Y')][['Operating Year', 'Nameplate Capacity (MW)', 'Plant Name', 'Crystalline Silicon?', 'Thin-Film (CdTe)?']]"
   ]
  },
  {
   "cell_type": "markdown",
   "id": "f258f15f-026c-4a8f-9626-e6bbce577507",
   "metadata": {},
   "source": [
    "There are also repeated c-Si with CIGS, A-Si and 'other materials'. I am going to ignore these since their contribution to the overall capacity is almost neglectable.\n",
    "\n",
    "Doing some research, it appears that the 2001 plant Springerville had indeed both, CdTe and c-Si. From [this paper](https://www.sciencedirect.com/science/article/pii/S1473832503010046): 3.5 MW DC of crystalline silicon and thin-film modules. The Springerville site has over 1 MW of thin-film. It is a lower number than the eia. According to this, I split that 3.7 MW and assume 2.7 MW of c-Si and 1 MW of CdTe.\n",
    "\n",
    "Solar Gen 2 Solar Facility is [solely CdTe](https://www.southernpowercompany.com/content/dam/southernpower/pdfs/fact-sheets/SolarGEN2_Solar_Facility_factsheet.pdf) with 163 MW of more than 1 million First Solar modules. I don't know why they split it in three (54.4 x 3 = 163.2), this checks out so I will jsut convert these three into a three that are only CdTe (i.e. I change Silicon to 'N'). Luckily Solar Gen 2 has the data only in 2014. This should be easy to fix :).\n",
    "\n",
    "Lastly, I have not able to find anything about Springbok 3 Solar Farm Hybrid. If it was using CdTe probably First Solar would have announced it in one of their reports. Therefore I am going to assume that that 90 MW is solely c-Si."
   ]
  },
  {
   "cell_type": "code",
   "execution_count": null,
   "id": "33d17225-a50d-454e-968d-1121d9e1795a",
   "metadata": {},
   "outputs": [],
   "source": []
  }
 ],
 "metadata": {
  "kernelspec": {
   "display_name": "PV_ICE",
   "language": "python",
   "name": "pv_ice"
  },
  "language_info": {
   "codemirror_mode": {
    "name": "ipython",
    "version": 3
   },
   "file_extension": ".py",
   "mimetype": "text/x-python",
   "name": "python",
   "nbconvert_exporter": "python",
   "pygments_lexer": "ipython3",
   "version": "3.10.4"
  }
 },
 "nbformat": 4,
 "nbformat_minor": 5
}
