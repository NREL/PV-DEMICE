{
 "cells": [
  {
   "cell_type": "markdown",
   "id": "0664c559",
   "metadata": {},
   "source": [
    "# Energy Requirements of Glass Manufacturing"
   ]
  },
  {
   "cell_type": "markdown",
   "id": "88eef6cc",
   "metadata": {},
   "source": [
    "This journal creates a baseline for the energy required to manufacture glass for PV applications. The processes covered here include batch prep, melting, forming, and post forming (ex: annealing). Most glass facilities are vertically integrated; once the silica and other raw materials arrive, they are mixed into proportional batches, melted, formed, and any post forming processes applied. Therefore, we will calcualte this as a single energy step, with transportation of the silica and the finished glass cut to size before and after this energy demand.\n",
    "\n",
    "While most PV glass is rolled glass, some is float. In the literature it is hard to distinguish the energy needs and processing of float versus rolled, so here one is used interchangeably for the other. \n",
    "\n"
   ]
  },
  {
   "cell_type": "code",
   "execution_count": 2,
   "id": "fe0ea01d",
   "metadata": {},
   "outputs": [],
   "source": [
    "import numpy as np\n",
    "import pandas as pd\n",
    "import os,sys\n",
    "import matplotlib.pyplot as plt\n",
    "plt.rcParams.update({'font.size': 18})\n",
    "plt.rcParams['figure.figsize'] = (10, 6)"
   ]
  },
  {
   "cell_type": "markdown",
   "id": "e2c3d11d",
   "metadata": {},
   "source": [
    "## Batch Prep\n",
    "\n",
    "Batch preparation for glass typically involves the mixing of the constituant materials for the glass, including high quality silica and additives such as Al2O3, CaO, MgO, Na2O. This can involve crushers and mixers and conveyer belts. "
   ]
  },
  {
   "cell_type": "code",
   "execution_count": 29,
   "id": "00d18588",
   "metadata": {},
   "outputs": [],
   "source": [
    "cwd = os.getcwd() #grabs current working directory\n",
    "#skipcols = ['Source', 'Notes','Country']\n",
    "e_batchglass_raw = pd.read_csv(cwd+\"/../../../PV_ICE/baselines/SupportingMaterial/energy-input-batchglass.csv\",\n",
    "                                     index_col='year')#, usecols=lambda x: x not in skipcols)"
   ]
  },
  {
   "cell_type": "code",
   "execution_count": 30,
   "id": "9557c7a1",
   "metadata": {},
   "outputs": [
    {
     "data": {
      "text/html": [
       "<div>\n",
       "<style scoped>\n",
       "    .dataframe tbody tr th:only-of-type {\n",
       "        vertical-align: middle;\n",
       "    }\n",
       "\n",
       "    .dataframe tbody tr th {\n",
       "        vertical-align: top;\n",
       "    }\n",
       "\n",
       "    .dataframe thead th {\n",
       "        text-align: right;\n",
       "    }\n",
       "</style>\n",
       "<table border=\"1\" class=\"dataframe\">\n",
       "  <thead>\n",
       "    <tr style=\"text-align: right;\">\n",
       "      <th></th>\n",
       "      <th>E_batchingGlass_kWhpkg</th>\n",
       "      <th>Source</th>\n",
       "      <th>Notes</th>\n",
       "      <th>Country</th>\n",
       "    </tr>\n",
       "    <tr>\n",
       "      <th>year</th>\n",
       "      <th></th>\n",
       "      <th></th>\n",
       "      <th></th>\n",
       "      <th></th>\n",
       "    </tr>\n",
       "  </thead>\n",
       "  <tbody>\n",
       "    <tr>\n",
       "      <th>1980</th>\n",
       "      <td>0.012433</td>\n",
       "      <td>H. L. Brown, Energy Analysis of 108 Industrial...</td>\n",
       "      <td>1.32 lbs of mixed batch</td>\n",
       "      <td>USA</td>\n",
       "    </tr>\n",
       "    <tr>\n",
       "      <th>2001</th>\n",
       "      <td>0.088185</td>\n",
       "      <td>C. Galitsky, E. Worrell, C. Galitsky, E. Masan...</td>\n",
       "      <td>From US DOE 2002a, batch prep = conveyors, cru...</td>\n",
       "      <td>USA</td>\n",
       "    </tr>\n",
       "    <tr>\n",
       "      <th>2002</th>\n",
       "      <td>0.200000</td>\n",
       "      <td>J. L. Pellegrino, “Energy and Environmental Pr...</td>\n",
       "      <td>pg 27, \"avg specific energy use\" 3412 BTU/kWh ...</td>\n",
       "      <td>USA</td>\n",
       "    </tr>\n",
       "    <tr>\n",
       "      <th>2009</th>\n",
       "      <td>0.003000</td>\n",
       "      <td>P. W. Griffin, G. P. Hammond, and R. C. McKenn...</td>\n",
       "      <td>\"batch input\", assumes 50% cullet, majority co...</td>\n",
       "      <td>UK</td>\n",
       "    </tr>\n",
       "    <tr>\n",
       "      <th>2019</th>\n",
       "      <td>0.010000</td>\n",
       "      <td>M. Zier, P. Stenzel, L. Kotzur, and D. Stolten...</td>\n",
       "      <td>2019 German data, elec</td>\n",
       "      <td>Germany</td>\n",
       "    </tr>\n",
       "  </tbody>\n",
       "</table>\n",
       "</div>"
      ],
      "text/plain": [
       "      E_batchingGlass_kWhpkg  \\\n",
       "year                           \n",
       "1980                0.012433   \n",
       "2001                0.088185   \n",
       "2002                0.200000   \n",
       "2009                0.003000   \n",
       "2019                0.010000   \n",
       "\n",
       "                                                 Source  \\\n",
       "year                                                      \n",
       "1980  H. L. Brown, Energy Analysis of 108 Industrial...   \n",
       "2001  C. Galitsky, E. Worrell, C. Galitsky, E. Masan...   \n",
       "2002  J. L. Pellegrino, “Energy and Environmental Pr...   \n",
       "2009  P. W. Griffin, G. P. Hammond, and R. C. McKenn...   \n",
       "2019  M. Zier, P. Stenzel, L. Kotzur, and D. Stolten...   \n",
       "\n",
       "                                                  Notes  Country  \n",
       "year                                                              \n",
       "1980                            1.32 lbs of mixed batch      USA  \n",
       "2001  From US DOE 2002a, batch prep = conveyors, cru...      USA  \n",
       "2002  pg 27, \"avg specific energy use\" 3412 BTU/kWh ...      USA  \n",
       "2009  \"batch input\", assumes 50% cullet, majority co...       UK  \n",
       "2019                             2019 German data, elec  Germany  "
      ]
     },
     "execution_count": 30,
     "metadata": {},
     "output_type": "execute_result"
    }
   ],
   "source": [
    "e_batchglass_raw.dropna(how='all')"
   ]
  },
  {
   "cell_type": "code",
   "execution_count": 48,
   "id": "b5d54efc",
   "metadata": {},
   "outputs": [
    {
     "data": {
      "text/plain": [
       "Text(0, 0.5, '[kWh/kg]')"
      ]
     },
     "execution_count": 48,
     "metadata": {},
     "output_type": "execute_result"
    },
    {
     "data": {
      "image/png": "[encoded data removed]",
      "text/plain": [
       "<Figure size 720x432 with 1 Axes>"
      ]
     },
     "metadata": {
      "needs_background": "light"
     },
     "output_type": "display_data"
    }
   ],
   "source": [
    "plt.plot(e_batchglass_raw.index,e_batchglass_raw.iloc[:,0], marker='o')\n",
    "plt.title('Energy: Batching Glass')\n",
    "plt.ylabel('[kWh/kg]')"
   ]
  },
  {
   "cell_type": "markdown",
   "id": "afeee2a9",
   "metadata": {},
   "source": [
    "The early 2000s data seems significantly higher than the other points. Both are trusted DOE sources. The UK data point assumes 50% cullet, which we know to be high for float/rolled glass, but in mixing, is seems like this wouldn't cause a significant difference in energy demand. Also, the UK value includes contributions from ethane/methane, implying a heating or drying energy demand not represented by the others.\n",
    "\n",
    "Overall, all values are quite low on a kWh/kg basis, and the processing tools for this step have not changed significantly in the studied time frame. Therefore, we will average all values together for our baseline."
   ]
  },
  {
   "cell_type": "code",
   "execution_count": 51,
   "id": "9ea1668d",
   "metadata": {},
   "outputs": [
    {
     "name": "stdout",
     "output_type": "stream",
     "text": [
      "The average batching energy for glass making is 0.063 kWh/kg.\n"
     ]
    }
   ],
   "source": [
    "avg_batch_e = e_batchglass_raw.iloc[:,0].mean()\n",
    "print('The average batching energy for glass making is '+str(round(avg_batch_e,3)) + ' kWh/kg.')"
   ]
  },
  {
   "cell_type": "markdown",
   "id": "24175338",
   "metadata": {},
   "source": [
    "## Melting\n",
    "\n",
    "The next step in glass manufacturing is the melting of the glass. This is seperated out in the literature from the forming, although the process is usually continuous. This step also involves a significant quantity of methane gas heating. We will note this important aspect in our accounting as a fraciton of the total energy neede for each step."
   ]
  },
  {
   "cell_type": "code",
   "execution_count": 3,
   "id": "604a13a0",
   "metadata": {},
   "outputs": [],
   "source": [
    "cwd = os.getcwd()\n",
    "#skipcols = ['Source', 'Notes','Country']\n",
    "e_meltrefine_raw = pd.read_csv(cwd+\"/../../../PV_ICE/baselines/SupportingMaterial/energy-input-glass-meltrefine.csv\",\n",
    "                                     index_col='year')#, usecols=lambda x: x not in skipcols)"
   ]
  },
  {
   "cell_type": "code",
   "execution_count": 10,
   "id": "a218c94a",
   "metadata": {},
   "outputs": [
    {
     "data": {
      "text/html": [
       "<div>\n",
       "<style scoped>\n",
       "    .dataframe tbody tr th:only-of-type {\n",
       "        vertical-align: middle;\n",
       "    }\n",
       "\n",
       "    .dataframe tbody tr th {\n",
       "        vertical-align: top;\n",
       "    }\n",
       "\n",
       "    .dataframe thead th {\n",
       "        text-align: right;\n",
       "    }\n",
       "</style>\n",
       "<table border=\"1\" class=\"dataframe\">\n",
       "  <thead>\n",
       "    <tr style=\"text-align: right;\">\n",
       "      <th></th>\n",
       "      <th>E_melt_refine_total_kWhpkg</th>\n",
       "      <th>Prct_Fuel</th>\n",
       "      <th>Source</th>\n",
       "      <th>Notes</th>\n",
       "    </tr>\n",
       "    <tr>\n",
       "      <th>year</th>\n",
       "      <th></th>\n",
       "      <th></th>\n",
       "      <th></th>\n",
       "      <th></th>\n",
       "    </tr>\n",
       "  </thead>\n",
       "  <tbody>\n",
       "    <tr>\n",
       "      <th>1980</th>\n",
       "      <td>2.32</td>\n",
       "      <td>98.0</td>\n",
       "      <td>H. L. Brown, Energy Analysis of 108 Industrial...</td>\n",
       "      <td>small batch potentially</td>\n",
       "    </tr>\n",
       "    <tr>\n",
       "      <th>1997</th>\n",
       "      <td>2.77</td>\n",
       "      <td>96.0</td>\n",
       "      <td>J. L. Pellegrino, “Energy and Environmental Pr...</td>\n",
       "      <td>table 4-4, marketshare weighted for type of fu...</td>\n",
       "    </tr>\n",
       "    <tr>\n",
       "      <th>2006</th>\n",
       "      <td>2.40</td>\n",
       "      <td>95.0</td>\n",
       "      <td>E. Worrell, C. Galitsky, C. Galitsky, E. Masan...</td>\n",
       "      <td>marketshare weighted by furnace type, US surve...</td>\n",
       "    </tr>\n",
       "    <tr>\n",
       "      <th>2019</th>\n",
       "      <td>2.14</td>\n",
       "      <td>77.0</td>\n",
       "      <td>M. Zier, P. Stenzel, L. Kotzur, and D. Stolten...</td>\n",
       "      <td>total demand for M&amp;R adjusted by overall energ...</td>\n",
       "    </tr>\n",
       "  </tbody>\n",
       "</table>\n",
       "</div>"
      ],
      "text/plain": [
       "      E_melt_refine_total_kWhpkg  Prct_Fuel  \\\n",
       "year                                          \n",
       "1980                        2.32       98.0   \n",
       "1997                        2.77       96.0   \n",
       "2006                        2.40       95.0   \n",
       "2019                        2.14       77.0   \n",
       "\n",
       "                                                 Source  \\\n",
       "year                                                      \n",
       "1980  H. L. Brown, Energy Analysis of 108 Industrial...   \n",
       "1997  J. L. Pellegrino, “Energy and Environmental Pr...   \n",
       "2006  E. Worrell, C. Galitsky, C. Galitsky, E. Masan...   \n",
       "2019  M. Zier, P. Stenzel, L. Kotzur, and D. Stolten...   \n",
       "\n",
       "                                                  Notes  \n",
       "year                                                     \n",
       "1980                            small batch potentially  \n",
       "1997  table 4-4, marketshare weighted for type of fu...  \n",
       "2006  marketshare weighted by furnace type, US surve...  \n",
       "2019  total demand for M&R adjusted by overall energ...  "
      ]
     },
     "execution_count": 10,
     "metadata": {},
     "output_type": "execute_result"
    }
   ],
   "source": [
    "e_meltrefine_raw.dropna(how='all')"
   ]
  },
  {
   "cell_type": "code",
   "execution_count": 43,
   "id": "d8267d84",
   "metadata": {},
   "outputs": [
    {
     "data": {
      "text/plain": [
       "'total demand for M&R adjusted by overall energy carrier fraction (elec vs fuel) may be low for this step'"
      ]
     },
     "execution_count": 43,
     "metadata": {},
     "output_type": "execute_result"
    }
   ],
   "source": [
    "e_meltrefine_raw.loc[2019,'Notes']"
   ]
  },
  {
   "cell_type": "markdown",
   "id": "25adfe54",
   "metadata": {},
   "source": [
    "One of the fractions of methane is lower than the others. This is M. Zier, P. Stenzel, L. Kotzur, and D. Stolten, “A review of decarbonization options for the glass industry,” Energy Conversion and Management: X, vol. 10, p. 100083, Jun. 2021, doi: 10.1016/j.ecmx.2021.100083. and the energy was adjusted by the overall energy carrier for glass manufacturing in Germany. This may not be representative of the whole world, and it may also include more than just the melting step. Given that the other years are all in agreement, and the 77% is an average since the 1990s, we will remove this value and use the previous datapoint (95% from Worrell)."
   ]
  },
  {
   "cell_type": "code",
   "execution_count": 44,
   "id": "d6005a66",
   "metadata": {},
   "outputs": [],
   "source": [
    "e_meltrefine = e_meltrefine_raw.copy()\n",
    "e_meltrefine.loc[2019,'Prct_Fuel'] = np.nan\n",
    "\n",
    "#previous version used the average of all values, but this cause the fraction to rise again.\n",
    "#e_meltrefine.loc[2019,'Prct_Fuel'] = round(e_meltrefine.loc[:,'Prct_Fuel'].mean(),0) \n",
    "#e_meltrefine.loc[2019,'Prct_Fuel']"
   ]
  },
  {
   "cell_type": "markdown",
   "id": "bf2871be",
   "metadata": {},
   "source": [
    "Now we'll examine the energy totals."
   ]
  },
  {
   "cell_type": "code",
   "execution_count": 45,
   "id": "7c9e41d8",
   "metadata": {},
   "outputs": [
    {
     "data": {
      "text/plain": [
       "Text(0, 0.5, '[kWh/kg]')"
      ]
     },
     "execution_count": 45,
     "metadata": {},
     "output_type": "execute_result"
    },
    {
     "data": {
      "image/png": "[encoded data removed]",
      "text/plain": [
       "<Figure size 720x432 with 1 Axes>"
      ]
     },
     "metadata": {
      "needs_background": "light"
     },
     "output_type": "display_data"
    }
   ],
   "source": [
    "plt.plot(e_meltrefine.index,e_meltrefine.iloc[:,0], marker='o')\n",
    "plt.title('Energy: Melt and Refine Glass')\n",
    "plt.ylabel('[kWh/kg]')"
   ]
  },
  {
   "cell_type": "markdown",
   "id": "6ca2b69e",
   "metadata": {},
   "source": [
    "The 1980 value is much lower than the 1997 value. This data point is from H. L. Brown, Energy Analysis of 108 Industrial Processes. The Fairmont Press, Inc., 1996. (note the publication date and the data date are not the same). and the noted batch size is a few pounds, meaning this is potentially a different scale of glass manufacturing than we are considering. Additionally, we only need to go back to 1995, therefore, we will drop this datapoint, and back propogate the 1997 data."
   ]
  },
  {
   "cell_type": "code",
   "execution_count": 46,
   "id": "96d4582d",
   "metadata": {},
   "outputs": [],
   "source": [
    "e_meltrefine_subrange = e_meltrefine.loc[1995:,['E_melt_refine_total_kWhpkg','Prct_Fuel']]\n"
   ]
  },
  {
   "cell_type": "markdown",
   "id": "fbf33af2",
   "metadata": {},
   "source": [
    "Now we will interpolate to create a complete data set for history. It will hold the edge values constant forward and backward."
   ]
  },
  {
   "cell_type": "code",
   "execution_count": 47,
   "id": "a0cd7309",
   "metadata": {},
   "outputs": [],
   "source": [
    "e_meltrefine_filled = e_meltrefine_subrange.interpolate(limit_direction='both')"
   ]
  },
  {
   "cell_type": "code",
   "execution_count": 49,
   "id": "d4a67bc2",
   "metadata": {},
   "outputs": [
    {
     "data": {
      "image/png": "[encoded data removed]",
      "text/plain": [
       "<Figure size 720x432 with 2 Axes>"
      ]
     },
     "metadata": {
      "needs_background": "light"
     },
     "output_type": "display_data"
    }
   ],
   "source": [
    "fig, ax1 = plt.subplots() \n",
    "#left axis\n",
    "ax1.set_ylabel('Melting and Refining Energy [kWh/kg]', color='blue') \n",
    "ax1.plot(e_meltrefine_filled.index,e_meltrefine_filled.iloc[:,0], color='blue') \n",
    "ax1.set_ylim(0,4)\n",
    "\n",
    "#right axis\n",
    "ax2 = ax1.twinx()\n",
    "plt.ylabel('Fraction of Energy provided by Methane [%]', color='red')\n",
    "ax2.plot(e_meltrefine_filled.index,e_meltrefine_filled.iloc[:,1], color='red')  \n",
    "ax2.set_ylim(80,100)\n",
    "\n",
    "plt.show()"
   ]
  },
  {
   "cell_type": "code",
   "execution_count": 51,
   "id": "69068844",
   "metadata": {},
   "outputs": [],
   "source": [
    "e_meltrefine_filled.to_csv(cwd+\"/../../../PV_ICE/baselines/SupportingMaterial/output_energy_glass_meltrefine.csv\")"
   ]
  },
  {
   "cell_type": "markdown",
   "id": "39f95d50",
   "metadata": {},
   "source": [
    "## Forming\n",
    "The next step in flat glass formation is forming the flat plate from the melt. There are many ways to do this; float glass entails the molten glass to drop into and float on a bath of molten tin; Rolled glass is drawn through cooled rollers. We will use these two processes interchangably here due to a lack of data."
   ]
  },
  {
   "cell_type": "code",
   "execution_count": 53,
   "id": "7084991a",
   "metadata": {},
   "outputs": [],
   "source": [
    "cwd = os.getcwd()\n",
    "#skipcols = ['Source', 'Notes','Country']\n",
    "e_glassform_raw = pd.read_csv(cwd+\"/../../../PV_ICE/baselines/SupportingMaterial/energy-input-glassforming.csv\",\n",
    "                                     index_col='year')#, usecols=lambda x: x not in skipcols)"
   ]
  },
  {
   "cell_type": "code",
   "execution_count": 54,
   "id": "79014bb6",
   "metadata": {},
   "outputs": [
    {
     "data": {
      "text/html": [
       "<div>\n",
       "<style scoped>\n",
       "    .dataframe tbody tr th:only-of-type {\n",
       "        vertical-align: middle;\n",
       "    }\n",
       "\n",
       "    .dataframe tbody tr th {\n",
       "        vertical-align: top;\n",
       "    }\n",
       "\n",
       "    .dataframe thead th {\n",
       "        text-align: right;\n",
       "    }\n",
       "</style>\n",
       "<table border=\"1\" class=\"dataframe\">\n",
       "  <thead>\n",
       "    <tr style=\"text-align: right;\">\n",
       "      <th></th>\n",
       "      <th>E_Glassforming_kWhpkg</th>\n",
       "      <th>Prct_Fuel</th>\n",
       "      <th>Source</th>\n",
       "      <th>Notes</th>\n",
       "    </tr>\n",
       "    <tr>\n",
       "      <th>year</th>\n",
       "      <th></th>\n",
       "      <th></th>\n",
       "      <th></th>\n",
       "      <th></th>\n",
       "    </tr>\n",
       "  </thead>\n",
       "  <tbody>\n",
       "    <tr>\n",
       "      <th>1980</th>\n",
       "      <td>0.110</td>\n",
       "      <td>0.0</td>\n",
       "      <td>H. L. Brown, Energy Analysis of 108 Industrial...</td>\n",
       "      <td>possibly small batch</td>\n",
       "    </tr>\n",
       "    <tr>\n",
       "      <th>1997</th>\n",
       "      <td>0.485</td>\n",
       "      <td>0.0</td>\n",
       "      <td>J. L. Pellegrino, “Energy and Environmental Pr...</td>\n",
       "      <td>Table 5-2, tin bath heated by elec, all formin...</td>\n",
       "    </tr>\n",
       "    <tr>\n",
       "      <th>2001</th>\n",
       "      <td>0.440</td>\n",
       "      <td>0.0</td>\n",
       "      <td>E. Worrell, C. Galitsky, C. Galitsky, E. Masan...</td>\n",
       "      <td>US DOE 2002a, use only (exclude calculated los...</td>\n",
       "    </tr>\n",
       "    <tr>\n",
       "      <th>2019</th>\n",
       "      <td>0.036</td>\n",
       "      <td>0.0</td>\n",
       "      <td>M. Zier, P. Stenzel, L. Kotzur, and D. Stolten...</td>\n",
       "      <td>2019 German data, elec+fuel</td>\n",
       "    </tr>\n",
       "  </tbody>\n",
       "</table>\n",
       "</div>"
      ],
      "text/plain": [
       "      E_Glassforming_kWhpkg  Prct_Fuel  \\\n",
       "year                                     \n",
       "1980                  0.110        0.0   \n",
       "1997                  0.485        0.0   \n",
       "2001                  0.440        0.0   \n",
       "2019                  0.036        0.0   \n",
       "\n",
       "                                                 Source  \\\n",
       "year                                                      \n",
       "1980  H. L. Brown, Energy Analysis of 108 Industrial...   \n",
       "1997  J. L. Pellegrino, “Energy and Environmental Pr...   \n",
       "2001  E. Worrell, C. Galitsky, C. Galitsky, E. Masan...   \n",
       "2019  M. Zier, P. Stenzel, L. Kotzur, and D. Stolten...   \n",
       "\n",
       "                                                  Notes  \n",
       "year                                                     \n",
       "1980                               possibly small batch  \n",
       "1997  Table 5-2, tin bath heated by elec, all formin...  \n",
       "2001  US DOE 2002a, use only (exclude calculated los...  \n",
       "2019                        2019 German data, elec+fuel  "
      ]
     },
     "execution_count": 54,
     "metadata": {},
     "output_type": "execute_result"
    }
   ],
   "source": [
    "e_glassform_raw.dropna(how='all')"
   ]
  },
  {
   "cell_type": "code",
   "execution_count": 58,
   "id": "172f1a99",
   "metadata": {},
   "outputs": [
    {
     "data": {
      "text/plain": [
       "Text(0.5, 0, '[kWh/kg]')"
      ]
     },
     "execution_count": 58,
     "metadata": {},
     "output_type": "execute_result"
    },
    {
     "data": {
      "image/png": "[encoded data removed]",
      "text/plain": [
       "<Figure size 720x432 with 1 Axes>"
      ]
     },
     "metadata": {
      "needs_background": "light"
     },
     "output_type": "display_data"
    }
   ],
   "source": [
    "plt.plot(e_glassform_raw.index,e_glassform_raw['E_Glassforming_kWhpkg'], marker='o')\n",
    "plt.title('Energy of Forming Flat glass')\n",
    "plt.xlabel('[kWh/kg]')"
   ]
  },
  {
   "cell_type": "markdown",
   "id": "1ef649ed",
   "metadata": {},
   "source": [
    "Like the previous set of data, the 1980 datapoint seems unreasonably low, and we know this might potentially be a smaller scale than the other data. Therefore, we will exclude it and perform the same interpolation for the needed time range."
   ]
  },
  {
   "cell_type": "code",
   "execution_count": 59,
   "id": "86979858",
   "metadata": {},
   "outputs": [],
   "source": [
    "e_glassform = e_glassform_raw.loc[1995:,['E_Glassforming_kWhpkg','Prct_Fuel']]\n",
    "e_glassform_filled = e_glassform.interpolate(limit_direction='both')"
   ]
  },
  {
   "cell_type": "code",
   "execution_count": 64,
   "id": "2dcf1cd5",
   "metadata": {},
   "outputs": [
    {
     "data": {
      "image/png": "[encoded data removed]",
      "text/plain": [
       "<Figure size 720x432 with 1 Axes>"
      ]
     },
     "metadata": {
      "needs_background": "light"
     },
     "output_type": "display_data"
    }
   ],
   "source": [
    "fig, ax1 = plt.subplots() \n",
    "#left axis\n",
    "ax1.set_ylabel('[kWh/kg]', color='blue') \n",
    "ax1.plot(e_glassform_filled.index,e_glassform_filled.iloc[:,0], color='blue') \n",
    "ax1.set_ylim(0,1)\n",
    "\n",
    "#right axis\n",
    "#ax2 = ax1.twinx()\n",
    "#plt.ylabel('Fraction of Energy provided by Methane [%]', color='red')\n",
    "#ax2.plot(e_glassform_filled.index,e_glassform_filled.iloc[:,1], color='red')  \n",
    "#ax2.set_ylim(0,2)\n",
    "\n",
    "plt.title('Energy for Forming Flat Glass')\n",
    "\n",
    "plt.show()\n"
   ]
  },
  {
   "cell_type": "code",
   "execution_count": 65,
   "id": "91d9bea4",
   "metadata": {},
   "outputs": [],
   "source": [
    "e_glassform_filled.to_csv(cwd+\"/../../../PV_ICE/baselines/SupportingMaterial/output_energy_glass_formflat.csv\")"
   ]
  }
 ],
 "metadata": {
  "kernelspec": {
   "display_name": "Python 3 (ipykernel)",
   "language": "python",
   "name": "python3"
  },
  "language_info": {
   "codemirror_mode": {
    "name": "ipython",
    "version": 3
   },
   "file_extension": ".py",
   "mimetype": "text/x-python",
   "name": "python",
   "nbconvert_exporter": "python",
   "pygments_lexer": "ipython3",
   "version": "3.8.8"
  }
 },
 "nbformat": 4,
 "nbformat_minor": 5
}
