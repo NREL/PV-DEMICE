{
 "cells": [
  {
   "cell_type": "markdown",
   "id": "0664c559",
   "metadata": {},
   "source": [
    "# Energy Requirements of Glass Manufacturing"
   ]
  },
  {
   "cell_type": "markdown",
   "id": "88eef6cc",
   "metadata": {},
   "source": [
    "This journal creates a baseline for the energy required to manufacture glass for PV applications. The processes covered here include batch prep, melting, forming, and post forming (ex: annealing). Most glass facilities are vertically integrated; once the silica and other raw materials arrive, they are mixed into proportional batches, melted, formed, and any post forming processes applied. Therefore, we will calcualte this as a single energy step, with transportation of the silica and the finished glass cut to size before and after this energy demand.\n",
    "\n",
    "While most PV glass is rolled glass, some is float. In the literature it is hard to distinguish the energy needs and processing of float versus rolled, so here one is used interchangeably for the other. \n",
    "\n"
   ]
  },
  {
   "cell_type": "code",
   "execution_count": 37,
   "id": "fe0ea01d",
   "metadata": {},
   "outputs": [],
   "source": [
    "import numpy as np\n",
    "import pandas as pd\n",
    "import os,sys\n",
    "import matplotlib.pyplot as plt\n",
    "plt.rcParams.update({'font.size': 18})\n",
    "plt.rcParams['figure.figsize'] = (10, 6)"
   ]
  },
  {
   "cell_type": "markdown",
   "id": "e2c3d11d",
   "metadata": {},
   "source": [
    "## Batch Prep\n",
    "\n",
    "Batch preparation for glass typically involves the mixing of the constituant materials for the glass, including high quality silica and additives such as Al2O3, CaO, MgO, Na2O. This can involve crushers and mixers and conveyer belts. "
   ]
  },
  {
   "cell_type": "code",
   "execution_count": 29,
   "id": "00d18588",
   "metadata": {},
   "outputs": [],
   "source": [
    "cwd = os.getcwd() #grabs current working directory\n",
    "#skipcols = ['Source', 'Notes','Country']\n",
    "e_batchglass_raw = pd.read_csv(cwd+\"/../../../PV_ICE/baselines/SupportingMaterial/energy-input-batchglass.csv\",\n",
    "                                     index_col='year')#, usecols=lambda x: x not in skipcols)"
   ]
  },
  {
   "cell_type": "code",
   "execution_count": 30,
   "id": "9557c7a1",
   "metadata": {},
   "outputs": [
    {
     "data": {
      "text/html": [
       "<div>\n",
       "<style scoped>\n",
       "    .dataframe tbody tr th:only-of-type {\n",
       "        vertical-align: middle;\n",
       "    }\n",
       "\n",
       "    .dataframe tbody tr th {\n",
       "        vertical-align: top;\n",
       "    }\n",
       "\n",
       "    .dataframe thead th {\n",
       "        text-align: right;\n",
       "    }\n",
       "</style>\n",
       "<table border=\"1\" class=\"dataframe\">\n",
       "  <thead>\n",
       "    <tr style=\"text-align: right;\">\n",
       "      <th></th>\n",
       "      <th>E_batchingGlass_kWhpkg</th>\n",
       "      <th>Source</th>\n",
       "      <th>Notes</th>\n",
       "      <th>Country</th>\n",
       "    </tr>\n",
       "    <tr>\n",
       "      <th>year</th>\n",
       "      <th></th>\n",
       "      <th></th>\n",
       "      <th></th>\n",
       "      <th></th>\n",
       "    </tr>\n",
       "  </thead>\n",
       "  <tbody>\n",
       "    <tr>\n",
       "      <th>1980</th>\n",
       "      <td>0.012433</td>\n",
       "      <td>H. L. Brown, Energy Analysis of 108 Industrial...</td>\n",
       "      <td>1.32 lbs of mixed batch</td>\n",
       "      <td>USA</td>\n",
       "    </tr>\n",
       "    <tr>\n",
       "      <th>2001</th>\n",
       "      <td>0.088185</td>\n",
       "      <td>C. Galitsky, E. Worrell, C. Galitsky, E. Masan...</td>\n",
       "      <td>From US DOE 2002a, batch prep = conveyors, cru...</td>\n",
       "      <td>USA</td>\n",
       "    </tr>\n",
       "    <tr>\n",
       "      <th>2002</th>\n",
       "      <td>0.200000</td>\n",
       "      <td>J. L. Pellegrino, “Energy and Environmental Pr...</td>\n",
       "      <td>pg 27, \"avg specific energy use\" 3412 BTU/kWh ...</td>\n",
       "      <td>USA</td>\n",
       "    </tr>\n",
       "    <tr>\n",
       "      <th>2009</th>\n",
       "      <td>0.003000</td>\n",
       "      <td>P. W. Griffin, G. P. Hammond, and R. C. McKenn...</td>\n",
       "      <td>\"batch input\", assumes 50% cullet, majority co...</td>\n",
       "      <td>UK</td>\n",
       "    </tr>\n",
       "    <tr>\n",
       "      <th>2019</th>\n",
       "      <td>0.010000</td>\n",
       "      <td>M. Zier, P. Stenzel, L. Kotzur, and D. Stolten...</td>\n",
       "      <td>2019 German data, elec</td>\n",
       "      <td>Germany</td>\n",
       "    </tr>\n",
       "  </tbody>\n",
       "</table>\n",
       "</div>"
      ],
      "text/plain": [
       "      E_batchingGlass_kWhpkg  \\\n",
       "year                           \n",
       "1980                0.012433   \n",
       "2001                0.088185   \n",
       "2002                0.200000   \n",
       "2009                0.003000   \n",
       "2019                0.010000   \n",
       "\n",
       "                                                 Source  \\\n",
       "year                                                      \n",
       "1980  H. L. Brown, Energy Analysis of 108 Industrial...   \n",
       "2001  C. Galitsky, E. Worrell, C. Galitsky, E. Masan...   \n",
       "2002  J. L. Pellegrino, “Energy and Environmental Pr...   \n",
       "2009  P. W. Griffin, G. P. Hammond, and R. C. McKenn...   \n",
       "2019  M. Zier, P. Stenzel, L. Kotzur, and D. Stolten...   \n",
       "\n",
       "                                                  Notes  Country  \n",
       "year                                                              \n",
       "1980                            1.32 lbs of mixed batch      USA  \n",
       "2001  From US DOE 2002a, batch prep = conveyors, cru...      USA  \n",
       "2002  pg 27, \"avg specific energy use\" 3412 BTU/kWh ...      USA  \n",
       "2009  \"batch input\", assumes 50% cullet, majority co...       UK  \n",
       "2019                             2019 German data, elec  Germany  "
      ]
     },
     "execution_count": 30,
     "metadata": {},
     "output_type": "execute_result"
    }
   ],
   "source": [
    "e_batchglass_raw.dropna(how='all')"
   ]
  },
  {
   "cell_type": "code",
   "execution_count": 48,
   "id": "b5d54efc",
   "metadata": {},
   "outputs": [
    {
     "data": {
      "text/plain": [
       "Text(0, 0.5, '[kWh/kg]')"
      ]
     },
     "execution_count": 48,
     "metadata": {},
     "output_type": "execute_result"
    },
    {
     "data": {
      "image/png": "[encoded data removed]",
      "text/plain": [
       "<Figure size 720x432 with 1 Axes>"
      ]
     },
     "metadata": {
      "needs_background": "light"
     },
     "output_type": "display_data"
    }
   ],
   "source": [
    "plt.plot(e_batchglass_raw.index,e_batchglass_raw.iloc[:,0], marker='o')\n",
    "plt.title('Energy: Batching Glass')\n",
    "plt.ylabel('[kWh/kg]')"
   ]
  },
  {
   "cell_type": "markdown",
   "id": "afeee2a9",
   "metadata": {},
   "source": [
    "The early 2000s data seems significantly higher than the other points. Both are trusted DOE sources. The UK data point assumes 50% cullet, which we know to be high for float/rolled glass, but in mixing, is seems like this wouldn't cause a significant difference in energy demand. Also, the UK value includes contributions from ethane/methane, implying a heating or drying energy demand not represented by the others.\n",
    "\n",
    "Overall, all values are quite low on a kWh/kg basis, and the processing tools for this step have not changed significantly in the studied time frame. Therefore, we will average all values together for our baseline."
   ]
  },
  {
   "cell_type": "code",
   "execution_count": 51,
   "id": "9ea1668d",
   "metadata": {},
   "outputs": [
    {
     "name": "stdout",
     "output_type": "stream",
     "text": [
      "The average batching energy for glass making is 0.063 kWh/kg.\n"
     ]
    }
   ],
   "source": [
    "avg_batch_e = e_batchglass_raw.iloc[:,0].mean()\n",
    "print('The average batching energy for glass making is '+str(round(avg_batch_e,3)) + ' kWh/kg.')"
   ]
  },
  {
   "cell_type": "markdown",
   "id": "24175338",
   "metadata": {},
   "source": [
    "## Melting\n",
    "\n",
    "The next step in glass manufacturing is the melting of the glass. This is seperated out in the literature from the forming, although the process is usually continuous. This step also involves a significant quantity of methane gas heating. "
   ]
  },
  {
   "cell_type": "code",
   "execution_count": null,
   "id": "604a13a0",
   "metadata": {},
   "outputs": [],
   "source": [
    "#there are two ways to account for fossil energy: \n",
    "#1) seperate column/file\n",
    "#2) total energy and a column designating the fraction of total energy due to methane/fossil fuels\n",
    "#"
   ]
  }
 ],
 "metadata": {
  "kernelspec": {
   "display_name": "Python 3 (ipykernel)",
   "language": "python",
   "name": "python3"
  },
  "language_info": {
   "codemirror_mode": {
    "name": "ipython",
    "version": 3
   },
   "file_extension": ".py",
   "mimetype": "text/x-python",
   "name": "python",
   "nbconvert_exporter": "python",
   "pygments_lexer": "ipython3",
   "version": "3.8.8"
  }
 },
 "nbformat": 4,
 "nbformat_minor": 5
}
