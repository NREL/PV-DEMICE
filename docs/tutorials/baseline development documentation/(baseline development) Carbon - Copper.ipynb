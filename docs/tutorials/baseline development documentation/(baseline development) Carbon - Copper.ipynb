{
 "cells": [
  {
   "cell_type": "markdown",
   "id": "47467f14",
   "metadata": {},
   "source": [
    "# Energy Carbon from Copper Manufacturing\n",
    "The copper manufacturing can be split into the mining, smelting/SX and the refining/EW process. The Manufacturing energ is broken up differently, so we will use literature sources to weight the country energy"
   ]
  },
  {
   "cell_type": "code",
   "execution_count": 1,
   "id": "f36a5aea",
   "metadata": {},
   "outputs": [],
   "source": [
    "import numpy as np\n",
    "import pandas as pd\n",
    "import os,sys\n",
    "from pathlib import Path\n",
    "import matplotlib.pyplot as plt\n",
    "plt.rcParams.update({'font.size': 18})\n",
    "plt.rcParams['figure.figsize'] = (10, 6)\n",
    "cwd = os.getcwd() #grabs current working directory\n",
    "carbonfolder = str(Path().resolve().parent.parent.parent / 'PV_ICE' / 'baselines' / 'SupportingMaterial' / 'CarbonIntensities')\n",
    "supportmatfolder = str(Path().resolve().parent.parent.parent / 'PV_ICE' / 'baselines' / 'SupportingMaterial')"
   ]
  },
  {
   "cell_type": "code",
   "execution_count": 15,
   "id": "72ad8d60",
   "metadata": {},
   "outputs": [],
   "source": [
    "#from Marsden 2008\n",
    "hydro_refine_fract = 3840/(12440+960+1980+3840) #hydro refining energy fraction\n",
    "pyro_refine_fract_1 = 2700/((6000+900+410+1000+4420+1870+120)+5150+2700) # pyro energy #1 refining energy fraction, includes crushing and milling\n",
    "pyro_refine_fract_2 = 2700/((6000+900+5760+4640+1870+120)+5150+2700) #pyro energy #2 refining energy fraction, includes crushing and milling\n",
    "\n",
    "hydro_sx_fract = 1980/(12440+960+1980+3840) #hydro refining energy fraction\n",
    "pyro_smelt_fract_1 = 5150/((6000+900+410+1000+4420+1870+120)+5150+2700) # pyro energy #1 refining energy fraction, includes crushing and milling\n",
    "pyro_smelt_fract_2 = 5150/((6000+900+5760+4640+1870+120)+5150+2700) #pyro energy #2 refining energy fraction, includes crushing and milling\n",
    "\n",
    "hydro_mine_fract = (12440+960)/(12440+960+1980+3840) #hydro refining energy fraction\n",
    "pyro_mine_fract_1 = (6000+900+410+1000+4420+1870+120)/((6000+900+410+1000+4420+1870+120)+5150+2700) # pyro energy #1 refining energy fraction, includes crushing and milling\n",
    "pyro_mine_fract_2 = (6000+900+5760+4640+1870+120)/((6000+900+5760+4640+1870+120)+5150+2700) #pyro energy #2 refining energy fraction, includes crushing and milling\n"
   ]
  },
  {
   "cell_type": "code",
   "execution_count": 16,
   "id": "d77a8120",
   "metadata": {},
   "outputs": [
    {
     "name": "stdout",
     "output_type": "stream",
     "text": [
      "Hydro fraction attributable to ew: 19.98\n",
      "Pyro #1 fraction attributable to refining: 11.96\n",
      "Pyro #2 fraction attributable to refining: 9.95\n"
     ]
    }
   ],
   "source": [
    "print('Hydro fraction attributable to ew: '+str(round(hydro_refine_fract*100,2)))\n",
    "print('Pyro #1 fraction attributable to refining: '+str(round(pyro_refine_fract_1*100,2)))\n",
    "print('Pyro #2 fraction attributable to refining: '+str(round(pyro_refine_fract_2*100,2)))"
   ]
  },
  {
   "cell_type": "code",
   "execution_count": 17,
   "id": "d1effaf2",
   "metadata": {},
   "outputs": [
    {
     "name": "stdout",
     "output_type": "stream",
     "text": [
      "Hydro fraction attributable to sx: 10.3\n",
      "Pyro #1 fraction attributable to smelt: 22.82\n",
      "Pyro #2 fraction attributable to smelt: 18.98\n"
     ]
    }
   ],
   "source": [
    "print('Hydro fraction attributable to sx: '+str(round(hydro_sx_fract*100,2)))\n",
    "print('Pyro #1 fraction attributable to smelt: '+str(round(pyro_smelt_fract_1*100,2)))\n",
    "print('Pyro #2 fraction attributable to smelt: '+str(round(pyro_smelt_fract_2*100,2)))"
   ]
  },
  {
   "cell_type": "code",
   "execution_count": 18,
   "id": "b798d70e",
   "metadata": {},
   "outputs": [
    {
     "name": "stdout",
     "output_type": "stream",
     "text": [
      "Hydro fraction attributable to mining: 69.72\n",
      "Pyro #1 fraction attributable to mining: 65.22\n",
      "Pyro #2 fraction attributable to mining: 71.08\n"
     ]
    }
   ],
   "source": [
    "print('Hydro fraction attributable to mining: '+str(round(hydro_mine_fract*100,2)))\n",
    "print('Pyro #1 fraction attributable to mining: '+str(round(pyro_mine_fract_1*100,2)))\n",
    "print('Pyro #2 fraction attributable to mining: '+str(round(pyro_mine_fract_2*100,2)))"
   ]
  },
  {
   "cell_type": "code",
   "execution_count": 14,
   "id": "f5c0482e",
   "metadata": {},
   "outputs": [
    {
     "data": {
      "text/plain": [
       "0.30280957336108216"
      ]
     },
     "execution_count": 14,
     "metadata": {},
     "output_type": "execute_result"
    }
   ],
   "source": [
    "hydro_refine_fract+hydro_sx_fract"
   ]
  },
  {
   "cell_type": "markdown",
   "id": "69b52edf",
   "metadata": {},
   "source": [
    "“Chapter 7 Energy Use in the Copper Industry.” 1988. In . https://www.princeton.edu/~ota/disk2/1988/8808/880809.PDF.\t\n",
    "- Mining\t20%\n",
    "- milling\t40%\n",
    "- smelt, convert, refine\t40%"
   ]
  },
  {
   "cell_type": "markdown",
   "id": "3fcb3e72",
   "metadata": {},
   "source": [
    "Allen, Marc. 2021. “MINING ENERGY CONSUMPTION 2021.” engeco. https://www.mining-technology.com/wp-content/uploads/sites/19/2021/07/Weir_Minerals_engeco_Mining_Energy_Consumption_2021.pdf.\t\n",
    "- Mining - movers\t60%\n",
    "- mining-griding\t36%\n",
    "- mining-flotation, filter, dry\t4%"
   ]
  },
  {
   "cell_type": "markdown",
   "id": "797c7f7c",
   "metadata": {},
   "source": [
    "It seems the mining and moreover the milling process or mining for SX is very energy intensive. We are assuming that the milling takes place in the same location as the mining (this may be a bad assumption). Additionally, the Pyro vs Hydro routes have different energy intensities per step (EW> pyro refining). Lacking a more complex model, we will average this out to say 20% each.\n",
    "From these three literature sources, we will estimate that:\n",
    "- Mining = 60%\n",
    "- Smelt/SX = 20%\n",
    "- Refine/EW = 20%"
   ]
  },
  {
   "cell_type": "code",
   "execution_count": null,
   "id": "7266ee4b",
   "metadata": {},
   "outputs": [],
   "source": []
  },
  {
   "cell_type": "code",
   "execution_count": 10,
   "id": "13f1ddaa",
   "metadata": {},
   "outputs": [],
   "source": [
    "cu_refine_country_raw = pd.read_csv(os.path.join(carbonfolder, 'input-USGS-Cu-RefinePrimaryCountries.csv'),\n",
    "                                     index_col='Country')#, usecols=lambda x: x not in skipcols)\n",
    "cu_smelt_country_raw = pd.read_csv(os.path.join(carbonfolder, 'input-USGS-Cu-SmeltPrimaryCountries.csv'),\n",
    "                                     index_col='Country')#, usecols=lambda x: x not in skipcols)\n",
    "cu_mine_country_raw = pd.read_csv(os.path.join(carbonfolder, 'input-USGS-Cu-MinePrimaryCountries.csv'),\n",
    "                                     index_col='Country')#, usecols=lambda x: x not in skipcols)"
   ]
  },
  {
   "cell_type": "markdown",
   "id": "f4930131",
   "metadata": {},
   "source": [
    "Methods:\n",
    "- interpolate or fill the missing values in each dataframe\n",
    "- sum column and get countries to fractions of step production\n",
    "- renormalize to 100%\n",
    "- multiply by % energy associated with each step (mine, smelt, refine)\n",
    "- sum countrywise into overall energy by country %, check sum 100%"
   ]
  }
 ],
 "metadata": {
  "kernelspec": {
   "display_name": "Python 3 (ipykernel)",
   "language": "python",
   "name": "python3"
  },
  "language_info": {
   "codemirror_mode": {
    "name": "ipython",
    "version": 3
   },
   "file_extension": ".py",
   "mimetype": "text/x-python",
   "name": "python",
   "nbconvert_exporter": "python",
   "pygments_lexer": "ipython3",
   "version": "3.8.8"
  }
 },
 "nbformat": 4,
 "nbformat_minor": 5
}
