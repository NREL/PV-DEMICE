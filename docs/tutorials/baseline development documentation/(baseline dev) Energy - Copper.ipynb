{
 "cells": [
  {
   "cell_type": "markdown",
   "id": "969a731c",
   "metadata": {},
   "source": [
    "# Copper Energy Demands\n",
    "This journal documents the energy demands of mining, refining, drawing and recycling of copper for use inside the PV cell. Probably also applies to copper in wiring (not yet considered)"
   ]
  },
  {
   "cell_type": "code",
   "execution_count": 1,
   "id": "f65acfbb",
   "metadata": {},
   "outputs": [],
   "source": [
    "import numpy as np\n",
    "import pandas as pd\n",
    "import os,sys\n",
    "from pathlib import Path\n",
    "import matplotlib.pyplot as plt\n",
    "plt.rcParams.update({'font.size': 18})\n",
    "plt.rcParams['figure.figsize'] = (8, 4)\n",
    "cwd = os.getcwd() #grabs current working directory\n",
    "\n",
    "supportMatfolder = str(Path().resolve().parent.parent.parent / 'PV_ICE' / 'baselines' / 'SupportingMaterial')\n",
    "baselinesFolder = str(Path().resolve().parent.parent.parent / 'PV_ICE' / 'baselines')"
   ]
  },
  {
   "cell_type": "markdown",
   "id": "1a9a0e9d",
   "metadata": {},
   "source": [
    "### Mining Energy"
   ]
  },
  {
   "cell_type": "code",
   "execution_count": 2,
   "id": "384b62ea",
   "metadata": {},
   "outputs": [
    {
     "data": {
      "text/html": [
       "<div>\n",
       "<style scoped>\n",
       "    .dataframe tbody tr th:only-of-type {\n",
       "        vertical-align: middle;\n",
       "    }\n",
       "\n",
       "    .dataframe tbody tr th {\n",
       "        vertical-align: top;\n",
       "    }\n",
       "\n",
       "    .dataframe thead th {\n",
       "        text-align: right;\n",
       "    }\n",
       "</style>\n",
       "<table border=\"1\" class=\"dataframe\">\n",
       "  <thead>\n",
       "    <tr style=\"text-align: right;\">\n",
       "      <th></th>\n",
       "      <th>E_CuMining_kWhpkg</th>\n",
       "      <th>PrctFuel</th>\n",
       "      <th>Source</th>\n",
       "      <th>Notes</th>\n",
       "    </tr>\n",
       "    <tr>\n",
       "      <th>year</th>\n",
       "      <th></th>\n",
       "      <th></th>\n",
       "      <th></th>\n",
       "      <th></th>\n",
       "    </tr>\n",
       "  </thead>\n",
       "  <tbody>\n",
       "    <tr>\n",
       "      <th>1975</th>\n",
       "      <td>15.947000</td>\n",
       "      <td>NaN</td>\n",
       "      <td>Bravard, J. C., H. B. Flora, and Charles Porta...</td>\n",
       "      <td>mining and milling and flotation of 0.3% Cu or...</td>\n",
       "    </tr>\n",
       "    <tr>\n",
       "      <th>2001</th>\n",
       "      <td>1.319000</td>\n",
       "      <td>90.74%</td>\n",
       "      <td>Lagos, Gustavo, David Peters, Alvaro Videla, a...</td>\n",
       "      <td>Table 1, open pit mine, likely includes transp...</td>\n",
       "    </tr>\n",
       "    <tr>\n",
       "      <th>2002</th>\n",
       "      <td>0.611000</td>\n",
       "      <td>43.18%</td>\n",
       "      <td>Lagos, Gustavo, David Peters, Alvaro Videla, a...</td>\n",
       "      <td>Table 1, underground mine, likely includes tra...</td>\n",
       "    </tr>\n",
       "    <tr>\n",
       "      <th>2009</th>\n",
       "      <td>0.006000</td>\n",
       "      <td>NaN</td>\n",
       "      <td>Bleiwas, Donald. 2011. “Estimates of Electrici...</td>\n",
       "      <td>Table 13, processed ore instead of tonne coppe...</td>\n",
       "    </tr>\n",
       "    <tr>\n",
       "      <th>2010</th>\n",
       "      <td>11.110800</td>\n",
       "      <td>NaN</td>\n",
       "      <td>Norgate, Terry, and Sharif Jahanshahi. 2011. “...</td>\n",
       "      <td>Cu Mining and mineral processing HYDRO, embodi...</td>\n",
       "    </tr>\n",
       "    <tr>\n",
       "      <th>2011</th>\n",
       "      <td>18.055050</td>\n",
       "      <td>NaN</td>\n",
       "      <td>Norgate, Terry, and Sharif Jahanshahi. 2011. “...</td>\n",
       "      <td>Cu Mining and mineral processing PYRO, emboied E</td>\n",
       "    </tr>\n",
       "    <tr>\n",
       "      <th>2013</th>\n",
       "      <td>3.499902</td>\n",
       "      <td>NaN</td>\n",
       "      <td>Elshkaki, Ayman, T. E. Graedel, Luca Ciacci, a...</td>\n",
       "      <td>range of 30-90 for \"primary production\", which...</td>\n",
       "    </tr>\n",
       "    <tr>\n",
       "      <th>2014</th>\n",
       "      <td>2.244400</td>\n",
       "      <td>92.57%</td>\n",
       "      <td>Lagos, Gustavo, David Peters, Alvaro Videla, a...</td>\n",
       "      <td>Table 1, open pit mine, likely includes transp...</td>\n",
       "    </tr>\n",
       "    <tr>\n",
       "      <th>2015</th>\n",
       "      <td>1.097200</td>\n",
       "      <td>43.54%</td>\n",
       "      <td>Lagos, Gustavo, David Peters, Alvaro Videla, a...</td>\n",
       "      <td>Table 1, underground mine, likely includes tra...</td>\n",
       "    </tr>\n",
       "    <tr>\n",
       "      <th>2019</th>\n",
       "      <td>4.023100</td>\n",
       "      <td>20%</td>\n",
       "      <td>Farjana, Shahjadi Hisan, Nazmul Huda, and M. A...</td>\n",
       "      <td>Table 2 sum energies exclude transport</td>\n",
       "    </tr>\n",
       "  </tbody>\n",
       "</table>\n",
       "</div>"
      ],
      "text/plain": [
       "      E_CuMining_kWhpkg PrctFuel  \\\n",
       "year                               \n",
       "1975          15.947000      NaN   \n",
       "2001           1.319000   90.74%   \n",
       "2002           0.611000   43.18%   \n",
       "2009           0.006000      NaN   \n",
       "2010          11.110800      NaN   \n",
       "2011          18.055050      NaN   \n",
       "2013           3.499902      NaN   \n",
       "2014           2.244400   92.57%   \n",
       "2015           1.097200   43.54%   \n",
       "2019           4.023100      20%   \n",
       "\n",
       "                                                 Source  \\\n",
       "year                                                      \n",
       "1975  Bravard, J. C., H. B. Flora, and Charles Porta...   \n",
       "2001  Lagos, Gustavo, David Peters, Alvaro Videla, a...   \n",
       "2002  Lagos, Gustavo, David Peters, Alvaro Videla, a...   \n",
       "2009  Bleiwas, Donald. 2011. “Estimates of Electrici...   \n",
       "2010  Norgate, Terry, and Sharif Jahanshahi. 2011. “...   \n",
       "2011  Norgate, Terry, and Sharif Jahanshahi. 2011. “...   \n",
       "2013  Elshkaki, Ayman, T. E. Graedel, Luca Ciacci, a...   \n",
       "2014  Lagos, Gustavo, David Peters, Alvaro Videla, a...   \n",
       "2015  Lagos, Gustavo, David Peters, Alvaro Videla, a...   \n",
       "2019  Farjana, Shahjadi Hisan, Nazmul Huda, and M. A...   \n",
       "\n",
       "                                                  Notes  \n",
       "year                                                     \n",
       "1975  mining and milling and flotation of 0.3% Cu or...  \n",
       "2001  Table 1, open pit mine, likely includes transp...  \n",
       "2002  Table 1, underground mine, likely includes tra...  \n",
       "2009  Table 13, processed ore instead of tonne coppe...  \n",
       "2010  Cu Mining and mineral processing HYDRO, embodi...  \n",
       "2011   Cu Mining and mineral processing PYRO, emboied E  \n",
       "2013  range of 30-90 for \"primary production\", which...  \n",
       "2014  Table 1, open pit mine, likely includes transp...  \n",
       "2015  Table 1, underground mine, likely includes tra...  \n",
       "2019             Table 2 sum energies exclude transport  "
      ]
     },
     "execution_count": 2,
     "metadata": {},
     "output_type": "execute_result"
    }
   ],
   "source": [
    "cu_mining_raw = pd.read_csv(os.path.join(supportMatfolder+\"\\energy-input-copper-mining.csv\"), index_col='year')\n",
    "cu_mining_raw.dropna(how='all')"
   ]
  },
  {
   "cell_type": "code",
   "execution_count": 3,
   "id": "71543ac4",
   "metadata": {},
   "outputs": [
    {
     "data": {
      "text/plain": [
       "Text(0, 0.5, 'kWh/kg')"
      ]
     },
     "execution_count": 3,
     "metadata": {},
     "output_type": "execute_result"
    },
    {
     "data": {
      "image/png": "[encoded data removed]",
      "text/plain": [
       "<Figure size 800x400 with 1 Axes>"
      ]
     },
     "metadata": {},
     "output_type": "display_data"
    }
   ],
   "source": [
    "plt.scatter(cu_mining_raw.index, cu_mining_raw['E_CuMining_kWhpkg'], marker='o')\n",
    "plt.title('CED_Cu_kWhpkg')\n",
    "plt.ylabel('kWh/kg')"
   ]
  },
  {
   "cell_type": "code",
   "execution_count": 4,
   "id": "0cdcf3da",
   "metadata": {},
   "outputs": [],
   "source": [
    "#drop ones that include more than just mining and concentration.\n",
    "cu_mining_raw.loc[1975] = np.nan\n",
    "cu_mining_raw.loc[2010] = np.nan\n",
    "cu_mining_raw.loc[2011] = np.nan\n"
   ]
  },
  {
   "cell_type": "code",
   "execution_count": 5,
   "id": "12d8f84e",
   "metadata": {},
   "outputs": [
    {
     "data": {
      "text/plain": [
       "Text(0, 0.5, 'kWh/kg')"
      ]
     },
     "execution_count": 5,
     "metadata": {},
     "output_type": "execute_result"
    },
    {
     "data": {
      "image/png": "[encoded data removed]",
      "text/plain": [
       "<Figure size 800x400 with 1 Axes>"
      ]
     },
     "metadata": {},
     "output_type": "display_data"
    }
   ],
   "source": [
    "plt.scatter(cu_mining_raw.index, cu_mining_raw['E_CuMining_kWhpkg'], marker='o')\n",
    "plt.xlim(1995,2020)\n",
    "plt.title('CED_Cu_kWhpkg')\n",
    "plt.ylabel('kWh/kg')"
   ]
  },
  {
   "cell_type": "markdown",
   "id": "efa1a222",
   "metadata": {},
   "source": [
    "This is a scatter plot. We're going to use Farjana et al 2019 because of the detail provided in the datapoint. "
   ]
  },
  {
   "cell_type": "markdown",
   "id": "f2795ed1",
   "metadata": {},
   "source": [
    "### CED\n",
    "CED would include mining, so we might subtract the mining energy from the final CED trend."
   ]
  },
  {
   "cell_type": "code",
   "execution_count": 6,
   "id": "4a350acd",
   "metadata": {},
   "outputs": [
    {
     "data": {
      "text/html": [
       "<div>\n",
       "<style scoped>\n",
       "    .dataframe tbody tr th:only-of-type {\n",
       "        vertical-align: middle;\n",
       "    }\n",
       "\n",
       "    .dataframe tbody tr th {\n",
       "        vertical-align: top;\n",
       "    }\n",
       "\n",
       "    .dataframe thead th {\n",
       "        text-align: right;\n",
       "    }\n",
       "</style>\n",
       "<table border=\"1\" class=\"dataframe\">\n",
       "  <thead>\n",
       "    <tr style=\"text-align: right;\">\n",
       "      <th></th>\n",
       "      <th>CED_Cu_kWhpkg</th>\n",
       "      <th>PrctFuel</th>\n",
       "      <th>Source</th>\n",
       "      <th>Notes</th>\n",
       "    </tr>\n",
       "    <tr>\n",
       "      <th>year</th>\n",
       "      <th></th>\n",
       "      <th></th>\n",
       "      <th></th>\n",
       "      <th></th>\n",
       "    </tr>\n",
       "  </thead>\n",
       "  <tbody>\n",
       "    <tr>\n",
       "      <th>1995</th>\n",
       "      <td>25.000000</td>\n",
       "      <td>NaN</td>\n",
       "      <td>G. J. M. Phylipsen and E. A. Alsema, “Environm...</td>\n",
       "      <td>gross energy requirement cathodic copper, van ...</td>\n",
       "    </tr>\n",
       "    <tr>\n",
       "      <th>1998</th>\n",
       "      <td>11.705984</td>\n",
       "      <td>49.0</td>\n",
       "      <td>Alvarado, S. 2002. “Long Term Energy-Related E...</td>\n",
       "      <td>Table 4, data source apparently COCHILCO, only...</td>\n",
       "    </tr>\n",
       "    <tr>\n",
       "      <th>1999</th>\n",
       "      <td>0.294000</td>\n",
       "      <td>NaN</td>\n",
       "      <td>R. U. Ayres, L. W. Ayres, and I. Råde, The Lif...</td>\n",
       "      <td>Chilean Cu Smelters, average</td>\n",
       "    </tr>\n",
       "    <tr>\n",
       "      <th>2000</th>\n",
       "      <td>9.166700</td>\n",
       "      <td>NaN</td>\n",
       "      <td>Rankin, John. 2012. “Energy Use in Metal Produ...</td>\n",
       "      <td>embodied energy, pyro, from Norgate and Rankin...</td>\n",
       "    </tr>\n",
       "    <tr>\n",
       "      <th>2001</th>\n",
       "      <td>17.917000</td>\n",
       "      <td>NaN</td>\n",
       "      <td>Rankin, John. 2012. “Energy Use in Metal Produ...</td>\n",
       "      <td>embodied energy, hydro, from Norgate and Ranki...</td>\n",
       "    </tr>\n",
       "    <tr>\n",
       "      <th>2003</th>\n",
       "      <td>16.667000</td>\n",
       "      <td>NaN</td>\n",
       "      <td>R. U. Ayres, L. W. Ayres, and I. Råde, The Lif...</td>\n",
       "      <td>avg ore grade (&gt;0.1% grade), OECD</td>\n",
       "    </tr>\n",
       "    <tr>\n",
       "      <th>2005</th>\n",
       "      <td>14.900000</td>\n",
       "      <td>20.0</td>\n",
       "      <td>Marsden, John O. “Energy Efficiency &amp; Copper H...</td>\n",
       "      <td>Slide 33+35, 35% SX/EW hydro 65% Concentrate p...</td>\n",
       "    </tr>\n",
       "    <tr>\n",
       "      <th>2006</th>\n",
       "      <td>17.777000</td>\n",
       "      <td>NaN</td>\n",
       "      <td>Norgate, T. E., S. Jahanshahi, and W. J. Ranki...</td>\n",
       "      <td>GER, cradle to gate, heap leaching and SX/EW p...</td>\n",
       "    </tr>\n",
       "    <tr>\n",
       "      <th>2007</th>\n",
       "      <td>9.166000</td>\n",
       "      <td>NaN</td>\n",
       "      <td>Norgate, T. E., S. Jahanshahi, and W. J. Ranki...</td>\n",
       "      <td>GER, cradle to gate of mfg, includes Smelting/...</td>\n",
       "    </tr>\n",
       "    <tr>\n",
       "      <th>2008</th>\n",
       "      <td>16.833000</td>\n",
       "      <td>NaN</td>\n",
       "      <td>Nuss, Philip, and Matthew J. Eckelman. 2014. “...</td>\n",
       "      <td>average of non-secondary, different mine sourc...</td>\n",
       "    </tr>\n",
       "    <tr>\n",
       "      <th>2009</th>\n",
       "      <td>14.917000</td>\n",
       "      <td>NaN</td>\n",
       "      <td>Nuss, Philip, and Matthew J. Eckelman. 2014. “...</td>\n",
       "      <td>includes secondary content, is the mean distri...</td>\n",
       "    </tr>\n",
       "    <tr>\n",
       "      <th>2010</th>\n",
       "      <td>19.167000</td>\n",
       "      <td>NaN</td>\n",
       "      <td>Rötzer, Nadine, and Mario Schmidt. 2020. “Hist...</td>\n",
       "      <td>CED for Cu anodes (not wire), pyrometallurgy f...</td>\n",
       "    </tr>\n",
       "    <tr>\n",
       "      <th>2012</th>\n",
       "      <td>14.700000</td>\n",
       "      <td>NaN</td>\n",
       "      <td>“The Environmental Profile of Copper Products ...</td>\n",
       "      <td>Copper Wire in EU from companies, likely inclu...</td>\n",
       "    </tr>\n",
       "    <tr>\n",
       "      <th>2013</th>\n",
       "      <td>16.666200</td>\n",
       "      <td>NaN</td>\n",
       "      <td>Elshkaki, Ayman, T. E. Graedel, Luca Ciacci, a...</td>\n",
       "      <td>\"primary production\" from UNEP 2013, average, ...</td>\n",
       "    </tr>\n",
       "    <tr>\n",
       "      <th>2019</th>\n",
       "      <td>7.778000</td>\n",
       "      <td>NaN</td>\n",
       "      <td>“The Role of Critical Minerals in Clean Energy...</td>\n",
       "      <td>pg 124, Energy use for concentrate covers mine...</td>\n",
       "    </tr>\n",
       "    <tr>\n",
       "      <th>2049</th>\n",
       "      <td>15.200000</td>\n",
       "      <td>NaN</td>\n",
       "      <td>Haas, Jannik, Simón Moreno-Leiva, Tobias Junne...</td>\n",
       "      <td>Figure 5b, average of all countries except Ind...</td>\n",
       "    </tr>\n",
       "    <tr>\n",
       "      <th>2050</th>\n",
       "      <td>16.900000</td>\n",
       "      <td>NaN</td>\n",
       "      <td>Rötzer, Nadine, and Mario Schmidt. 2020. “Hist...</td>\n",
       "      <td>copper cathode, assumes 0.5% ore grade and 100...</td>\n",
       "    </tr>\n",
       "  </tbody>\n",
       "</table>\n",
       "</div>"
      ],
      "text/plain": [
       "      CED_Cu_kWhpkg  PrctFuel  \\\n",
       "year                            \n",
       "1995      25.000000       NaN   \n",
       "1998      11.705984      49.0   \n",
       "1999       0.294000       NaN   \n",
       "2000       9.166700       NaN   \n",
       "2001      17.917000       NaN   \n",
       "2003      16.667000       NaN   \n",
       "2005      14.900000      20.0   \n",
       "2006      17.777000       NaN   \n",
       "2007       9.166000       NaN   \n",
       "2008      16.833000       NaN   \n",
       "2009      14.917000       NaN   \n",
       "2010      19.167000       NaN   \n",
       "2012      14.700000       NaN   \n",
       "2013      16.666200       NaN   \n",
       "2019       7.778000       NaN   \n",
       "2049      15.200000       NaN   \n",
       "2050      16.900000       NaN   \n",
       "\n",
       "                                                 Source  \\\n",
       "year                                                      \n",
       "1995  G. J. M. Phylipsen and E. A. Alsema, “Environm...   \n",
       "1998  Alvarado, S. 2002. “Long Term Energy-Related E...   \n",
       "1999  R. U. Ayres, L. W. Ayres, and I. Råde, The Lif...   \n",
       "2000  Rankin, John. 2012. “Energy Use in Metal Produ...   \n",
       "2001  Rankin, John. 2012. “Energy Use in Metal Produ...   \n",
       "2003  R. U. Ayres, L. W. Ayres, and I. Råde, The Lif...   \n",
       "2005  Marsden, John O. “Energy Efficiency & Copper H...   \n",
       "2006  Norgate, T. E., S. Jahanshahi, and W. J. Ranki...   \n",
       "2007  Norgate, T. E., S. Jahanshahi, and W. J. Ranki...   \n",
       "2008  Nuss, Philip, and Matthew J. Eckelman. 2014. “...   \n",
       "2009  Nuss, Philip, and Matthew J. Eckelman. 2014. “...   \n",
       "2010  Rötzer, Nadine, and Mario Schmidt. 2020. “Hist...   \n",
       "2012  “The Environmental Profile of Copper Products ...   \n",
       "2013  Elshkaki, Ayman, T. E. Graedel, Luca Ciacci, a...   \n",
       "2019  “The Role of Critical Minerals in Clean Energy...   \n",
       "2049  Haas, Jannik, Simón Moreno-Leiva, Tobias Junne...   \n",
       "2050  Rötzer, Nadine, and Mario Schmidt. 2020. “Hist...   \n",
       "\n",
       "                                                  Notes  \n",
       "year                                                     \n",
       "1995  gross energy requirement cathodic copper, van ...  \n",
       "1998  Table 4, data source apparently COCHILCO, only...  \n",
       "1999                       Chilean Cu Smelters, average  \n",
       "2000  embodied energy, pyro, from Norgate and Rankin...  \n",
       "2001  embodied energy, hydro, from Norgate and Ranki...  \n",
       "2003                  avg ore grade (>0.1% grade), OECD  \n",
       "2005  Slide 33+35, 35% SX/EW hydro 65% Concentrate p...  \n",
       "2006  GER, cradle to gate, heap leaching and SX/EW p...  \n",
       "2007  GER, cradle to gate of mfg, includes Smelting/...  \n",
       "2008  average of non-secondary, different mine sourc...  \n",
       "2009  includes secondary content, is the mean distri...  \n",
       "2010  CED for Cu anodes (not wire), pyrometallurgy f...  \n",
       "2012  Copper Wire in EU from companies, likely inclu...  \n",
       "2013  \"primary production\" from UNEP 2013, average, ...  \n",
       "2019  pg 124, Energy use for concentrate covers mine...  \n",
       "2049  Figure 5b, average of all countries except Ind...  \n",
       "2050  copper cathode, assumes 0.5% ore grade and 100...  "
      ]
     },
     "execution_count": 6,
     "metadata": {},
     "output_type": "execute_result"
    }
   ],
   "source": [
    "cu_CED_raw = pd.read_csv(os.path.join(supportMatfolder+\"\\energy-input-copper-CED.csv\"), index_col='year')\n",
    "cu_CED_raw.dropna(how='all')"
   ]
  },
  {
   "cell_type": "code",
   "execution_count": 7,
   "id": "6714060f",
   "metadata": {},
   "outputs": [
    {
     "data": {
      "text/plain": [
       "Text(0, 0.5, 'kWh/kg')"
      ]
     },
     "execution_count": 7,
     "metadata": {},
     "output_type": "execute_result"
    },
    {
     "data": {
      "image/png": "[encoded data removed]",
      "text/plain": [
       "<Figure size 800x400 with 1 Axes>"
      ]
     },
     "metadata": {},
     "output_type": "display_data"
    }
   ],
   "source": [
    "plt.scatter(cu_CED_raw.index, cu_CED_raw['CED_Cu_kWhpkg'], marker='o')\n",
    "plt.title('CED_Cu_kWhpkg')\n",
    "plt.ylabel('kWh/kg')"
   ]
  },
  {
   "cell_type": "code",
   "execution_count": 8,
   "id": "10fe516c",
   "metadata": {},
   "outputs": [],
   "source": [
    "#drop the low outlier\n",
    "cu_CED_raw.loc[1999] = np.nan\n",
    "#drop the 2009 Nuss datapoint because it includes recycled content\n",
    "cu_CED_raw.loc[2009] = np.nan\n",
    "#drop 2012 EU survey, includes scrap content\n",
    "cu_CED_raw.loc[2012] = np.nan"
   ]
  },
  {
   "cell_type": "markdown",
   "id": "723ea2c3",
   "metadata": {},
   "source": [
    "The remaining lower energy points are associated with the difference between Hydro and Pyro metallurgy. "
   ]
  },
  {
   "cell_type": "code",
   "execution_count": 9,
   "id": "9cadbdf2",
   "metadata": {},
   "outputs": [
    {
     "data": {
      "text/html": [
       "<div>\n",
       "<style scoped>\n",
       "    .dataframe tbody tr th:only-of-type {\n",
       "        vertical-align: middle;\n",
       "    }\n",
       "\n",
       "    .dataframe tbody tr th {\n",
       "        vertical-align: top;\n",
       "    }\n",
       "\n",
       "    .dataframe thead th {\n",
       "        text-align: right;\n",
       "    }\n",
       "</style>\n",
       "<table border=\"1\" class=\"dataframe\">\n",
       "  <thead>\n",
       "    <tr style=\"text-align: right;\">\n",
       "      <th></th>\n",
       "      <th>Notes</th>\n",
       "    </tr>\n",
       "    <tr>\n",
       "      <th>year</th>\n",
       "      <th></th>\n",
       "    </tr>\n",
       "  </thead>\n",
       "  <tbody>\n",
       "    <tr>\n",
       "      <th>2000</th>\n",
       "      <td>embodied energy, pyro, from Norgate and Rankin...</td>\n",
       "    </tr>\n",
       "    <tr>\n",
       "      <th>2001</th>\n",
       "      <td>embodied energy, hydro, from Norgate and Ranki...</td>\n",
       "    </tr>\n",
       "  </tbody>\n",
       "</table>\n",
       "</div>"
      ],
      "text/plain": [
       "                                                  Notes\n",
       "year                                                   \n",
       "2000  embodied energy, pyro, from Norgate and Rankin...\n",
       "2001  embodied energy, hydro, from Norgate and Ranki..."
      ]
     },
     "execution_count": 9,
     "metadata": {},
     "output_type": "execute_result"
    }
   ],
   "source": [
    "cu_CED_raw.loc[2000:2001,['Notes']]"
   ]
  },
  {
   "cell_type": "code",
   "execution_count": 10,
   "id": "400341ae",
   "metadata": {},
   "outputs": [
    {
     "data": {
      "text/html": [
       "<div>\n",
       "<style scoped>\n",
       "    .dataframe tbody tr th:only-of-type {\n",
       "        vertical-align: middle;\n",
       "    }\n",
       "\n",
       "    .dataframe tbody tr th {\n",
       "        vertical-align: top;\n",
       "    }\n",
       "\n",
       "    .dataframe thead th {\n",
       "        text-align: right;\n",
       "    }\n",
       "</style>\n",
       "<table border=\"1\" class=\"dataframe\">\n",
       "  <thead>\n",
       "    <tr style=\"text-align: right;\">\n",
       "      <th></th>\n",
       "      <th>Notes</th>\n",
       "    </tr>\n",
       "    <tr>\n",
       "      <th>year</th>\n",
       "      <th></th>\n",
       "    </tr>\n",
       "  </thead>\n",
       "  <tbody>\n",
       "    <tr>\n",
       "      <th>2006</th>\n",
       "      <td>GER, cradle to gate, heap leaching and SX/EW p...</td>\n",
       "    </tr>\n",
       "    <tr>\n",
       "      <th>2007</th>\n",
       "      <td>GER, cradle to gate of mfg, includes Smelting/...</td>\n",
       "    </tr>\n",
       "  </tbody>\n",
       "</table>\n",
       "</div>"
      ],
      "text/plain": [
       "                                                  Notes\n",
       "year                                                   \n",
       "2006  GER, cradle to gate, heap leaching and SX/EW p...\n",
       "2007  GER, cradle to gate of mfg, includes Smelting/..."
      ]
     },
     "execution_count": 10,
     "metadata": {},
     "output_type": "execute_result"
    }
   ],
   "source": [
    "cu_CED_raw.loc[2006:2007,['Notes']]"
   ]
  },
  {
   "cell_type": "code",
   "execution_count": 11,
   "id": "1713a99b",
   "metadata": {
    "scrolled": true
   },
   "outputs": [
    {
     "data": {
      "text/html": [
       "<div>\n",
       "<style scoped>\n",
       "    .dataframe tbody tr th:only-of-type {\n",
       "        vertical-align: middle;\n",
       "    }\n",
       "\n",
       "    .dataframe tbody tr th {\n",
       "        vertical-align: top;\n",
       "    }\n",
       "\n",
       "    .dataframe thead th {\n",
       "        text-align: right;\n",
       "    }\n",
       "</style>\n",
       "<table border=\"1\" class=\"dataframe\">\n",
       "  <thead>\n",
       "    <tr style=\"text-align: right;\">\n",
       "      <th></th>\n",
       "      <th>CED_Cu_kWhpkg</th>\n",
       "      <th>PrctFuel</th>\n",
       "      <th>Source</th>\n",
       "      <th>Notes</th>\n",
       "    </tr>\n",
       "    <tr>\n",
       "      <th>year</th>\n",
       "      <th></th>\n",
       "      <th></th>\n",
       "      <th></th>\n",
       "      <th></th>\n",
       "    </tr>\n",
       "  </thead>\n",
       "  <tbody>\n",
       "    <tr>\n",
       "      <th>1998</th>\n",
       "      <td>11.705984</td>\n",
       "      <td>49.0</td>\n",
       "      <td>Alvarado, S. 2002. “Long Term Energy-Related E...</td>\n",
       "      <td>Table 4, data source apparently COCHILCO, only...</td>\n",
       "    </tr>\n",
       "    <tr>\n",
       "      <th>2000</th>\n",
       "      <td>9.166700</td>\n",
       "      <td>NaN</td>\n",
       "      <td>Rankin, John. 2012. “Energy Use in Metal Produ...</td>\n",
       "      <td>embodied energy, pyro, from Norgate and Rankin...</td>\n",
       "    </tr>\n",
       "    <tr>\n",
       "      <th>2005</th>\n",
       "      <td>14.900000</td>\n",
       "      <td>20.0</td>\n",
       "      <td>Marsden, John O. “Energy Efficiency &amp; Copper H...</td>\n",
       "      <td>Slide 33+35, 35% SX/EW hydro 65% Concentrate p...</td>\n",
       "    </tr>\n",
       "    <tr>\n",
       "      <th>2007</th>\n",
       "      <td>9.166000</td>\n",
       "      <td>NaN</td>\n",
       "      <td>Norgate, T. E., S. Jahanshahi, and W. J. Ranki...</td>\n",
       "      <td>GER, cradle to gate of mfg, includes Smelting/...</td>\n",
       "    </tr>\n",
       "    <tr>\n",
       "      <th>2010</th>\n",
       "      <td>19.167000</td>\n",
       "      <td>NaN</td>\n",
       "      <td>Rötzer, Nadine, and Mario Schmidt. 2020. “Hist...</td>\n",
       "      <td>CED for Cu anodes (not wire), pyrometallurgy f...</td>\n",
       "    </tr>\n",
       "    <tr>\n",
       "      <th>2050</th>\n",
       "      <td>16.900000</td>\n",
       "      <td>NaN</td>\n",
       "      <td>Rötzer, Nadine, and Mario Schmidt. 2020. “Hist...</td>\n",
       "      <td>copper cathode, assumes 0.5% ore grade and 100...</td>\n",
       "    </tr>\n",
       "  </tbody>\n",
       "</table>\n",
       "</div>"
      ],
      "text/plain": [
       "      CED_Cu_kWhpkg  PrctFuel  \\\n",
       "year                            \n",
       "1998      11.705984      49.0   \n",
       "2000       9.166700       NaN   \n",
       "2005      14.900000      20.0   \n",
       "2007       9.166000       NaN   \n",
       "2010      19.167000       NaN   \n",
       "2050      16.900000       NaN   \n",
       "\n",
       "                                                 Source  \\\n",
       "year                                                      \n",
       "1998  Alvarado, S. 2002. “Long Term Energy-Related E...   \n",
       "2000  Rankin, John. 2012. “Energy Use in Metal Produ...   \n",
       "2005  Marsden, John O. “Energy Efficiency & Copper H...   \n",
       "2007  Norgate, T. E., S. Jahanshahi, and W. J. Ranki...   \n",
       "2010  Rötzer, Nadine, and Mario Schmidt. 2020. “Hist...   \n",
       "2050  Rötzer, Nadine, and Mario Schmidt. 2020. “Hist...   \n",
       "\n",
       "                                                  Notes  \n",
       "year                                                     \n",
       "1998  Table 4, data source apparently COCHILCO, only...  \n",
       "2000  embodied energy, pyro, from Norgate and Rankin...  \n",
       "2005  Slide 33+35, 35% SX/EW hydro 65% Concentrate p...  \n",
       "2007  GER, cradle to gate of mfg, includes Smelting/...  \n",
       "2010  CED for Cu anodes (not wire), pyrometallurgy f...  \n",
       "2050  copper cathode, assumes 0.5% ore grade and 100...  "
      ]
     },
     "execution_count": 11,
     "metadata": {},
     "output_type": "execute_result"
    }
   ],
   "source": [
    "#find pyro data\n",
    "cu_CED_trim = cu_CED_raw.dropna(how='all')\n",
    "cu_CED_trim_pyro = cu_CED_trim[cu_CED_trim['Notes'].str.contains('pyro')]\n",
    "cu_CED_trim_pyro#.index"
   ]
  },
  {
   "cell_type": "code",
   "execution_count": 12,
   "id": "6aded3b7",
   "metadata": {},
   "outputs": [
    {
     "data": {
      "text/html": [
       "<div>\n",
       "<style scoped>\n",
       "    .dataframe tbody tr th:only-of-type {\n",
       "        vertical-align: middle;\n",
       "    }\n",
       "\n",
       "    .dataframe tbody tr th {\n",
       "        vertical-align: top;\n",
       "    }\n",
       "\n",
       "    .dataframe thead th {\n",
       "        text-align: right;\n",
       "    }\n",
       "</style>\n",
       "<table border=\"1\" class=\"dataframe\">\n",
       "  <thead>\n",
       "    <tr style=\"text-align: right;\">\n",
       "      <th></th>\n",
       "      <th>CED_Cu_kWhpkg</th>\n",
       "      <th>PrctFuel</th>\n",
       "      <th>Source</th>\n",
       "      <th>Notes</th>\n",
       "    </tr>\n",
       "    <tr>\n",
       "      <th>year</th>\n",
       "      <th></th>\n",
       "      <th></th>\n",
       "      <th></th>\n",
       "      <th></th>\n",
       "    </tr>\n",
       "  </thead>\n",
       "  <tbody>\n",
       "    <tr>\n",
       "      <th>2001</th>\n",
       "      <td>17.917</td>\n",
       "      <td>NaN</td>\n",
       "      <td>Rankin, John. 2012. “Energy Use in Metal Produ...</td>\n",
       "      <td>embodied energy, hydro, from Norgate and Ranki...</td>\n",
       "    </tr>\n",
       "    <tr>\n",
       "      <th>2005</th>\n",
       "      <td>14.900</td>\n",
       "      <td>20.0</td>\n",
       "      <td>Marsden, John O. “Energy Efficiency &amp; Copper H...</td>\n",
       "      <td>Slide 33+35, 35% SX/EW hydro 65% Concentrate p...</td>\n",
       "    </tr>\n",
       "    <tr>\n",
       "      <th>2006</th>\n",
       "      <td>17.777</td>\n",
       "      <td>NaN</td>\n",
       "      <td>Norgate, T. E., S. Jahanshahi, and W. J. Ranki...</td>\n",
       "      <td>GER, cradle to gate, heap leaching and SX/EW p...</td>\n",
       "    </tr>\n",
       "  </tbody>\n",
       "</table>\n",
       "</div>"
      ],
      "text/plain": [
       "      CED_Cu_kWhpkg  PrctFuel  \\\n",
       "year                            \n",
       "2001         17.917       NaN   \n",
       "2005         14.900      20.0   \n",
       "2006         17.777       NaN   \n",
       "\n",
       "                                                 Source  \\\n",
       "year                                                      \n",
       "2001  Rankin, John. 2012. “Energy Use in Metal Produ...   \n",
       "2005  Marsden, John O. “Energy Efficiency & Copper H...   \n",
       "2006  Norgate, T. E., S. Jahanshahi, and W. J. Ranki...   \n",
       "\n",
       "                                                  Notes  \n",
       "year                                                     \n",
       "2001  embodied energy, hydro, from Norgate and Ranki...  \n",
       "2005  Slide 33+35, 35% SX/EW hydro 65% Concentrate p...  \n",
       "2006  GER, cradle to gate, heap leaching and SX/EW p...  "
      ]
     },
     "execution_count": 12,
     "metadata": {},
     "output_type": "execute_result"
    }
   ],
   "source": [
    "#find hydro data\n",
    "cu_CED_trim_hydro = cu_CED_trim[cu_CED_trim['Notes'].str.contains('hydro')]\n",
    "cu_CED_trim_hydro#.index"
   ]
  },
  {
   "cell_type": "code",
   "execution_count": 13,
   "id": "473a3f78",
   "metadata": {},
   "outputs": [
    {
     "data": {
      "text/plain": [
       "<matplotlib.legend.Legend at 0x191ef8d49d0>"
      ]
     },
     "execution_count": 13,
     "metadata": {},
     "output_type": "execute_result"
    },
    {
     "data": {
      "image/png": "[encoded data removed]",
      "text/plain": [
       "<Figure size 800x400 with 1 Axes>"
      ]
     },
     "metadata": {},
     "output_type": "display_data"
    }
   ],
   "source": [
    "plt.scatter(cu_CED_raw.index, cu_CED_raw['CED_Cu_kWhpkg'], marker='o', label='alldata', color='black', s=40)\n",
    "plt.scatter(cu_CED_trim_pyro.index, cu_CED_trim_pyro['CED_Cu_kWhpkg'], marker='^', label='pyro', color='orange', s=30)\n",
    "plt.scatter(cu_CED_trim_hydro.index, cu_CED_trim_hydro['CED_Cu_kWhpkg'], marker='o', label='hydro', color='skyblue', s=20)\n",
    "\n",
    "plt.ylim(0,)\n",
    "plt.title('CED_Cu_kWhpkg')\n",
    "plt.ylabel('kWh/kg')\n",
    "plt.legend()"
   ]
  },
  {
   "cell_type": "markdown",
   "id": "8dab6865",
   "metadata": {},
   "source": [
    "Our method will be to take the average of the hydro and average of the pyro CEDs, then use marketshare of each technology over time for 1995 through 2050. Then we will use the projected energy from Rotzer for 2050 and interpolate. This neglects the detail of increasing energy demands for decreasing ore grade - however, the correlation from Northey is <0.4 for the full process and average global ore grade over time has been hard to find and is not fully representative of energy demands."
   ]
  },
  {
   "cell_type": "code",
   "execution_count": 14,
   "id": "538da8da",
   "metadata": {},
   "outputs": [],
   "source": [
    "#hydro\n",
    "CED_hydro = cu_CED_trim_hydro['CED_Cu_kWhpkg'].mean()"
   ]
  },
  {
   "cell_type": "code",
   "execution_count": 15,
   "id": "ccbf5339",
   "metadata": {},
   "outputs": [
    {
     "data": {
      "text/plain": [
       "12.821136808"
      ]
     },
     "execution_count": 15,
     "metadata": {},
     "output_type": "execute_result"
    }
   ],
   "source": [
    "#pyro\n",
    "cu_CED_trim_pyro.loc[2050]=np.nan #drop the 2050 value (will use to interpolate later)\n",
    "CED_pyro = cu_CED_trim_pyro['CED_Cu_kWhpkg'].mean()\n",
    "CED_pyro"
   ]
  },
  {
   "cell_type": "code",
   "execution_count": 16,
   "id": "d7ff33ec",
   "metadata": {
    "scrolled": false
   },
   "outputs": [],
   "source": [
    "#import marketshare\n",
    "mrktshr_pyrohydro_raw = pd.read_excel(os.path.join(supportMatfolder+\"\\energy-inputs-copper-maths.xlsx\"),\n",
    "              sheet_name='pyrovshydro', index_col=0, header=[0])"
   ]
  },
  {
   "cell_type": "code",
   "execution_count": 17,
   "id": "43bb7dde",
   "metadata": {},
   "outputs": [
    {
     "data": {
      "text/plain": [
       "<matplotlib.legend.Legend at 0x191f149d820>"
      ]
     },
     "execution_count": 17,
     "metadata": {},
     "output_type": "execute_result"
    },
    {
     "data": {
      "image/png": "[encoded data removed]",
      "text/plain": [
       "<Figure size 800x400 with 1 Axes>"
      ]
     },
     "metadata": {},
     "output_type": "display_data"
    }
   ],
   "source": [
    "mrktshr_pyrohydro = mrktshr_pyrohydro_raw[['% PYRO','% HYDRO']]\n",
    "\n",
    "plt.stackplot(mrktshr_pyrohydro.index, mrktshr_pyrohydro['% PYRO'], mrktshr_pyrohydro['% HYDRO'], colors=['orange','skyblue'])\n",
    "plt.legend(mrktshr_pyrohydro.columns, loc='lower right')"
   ]
  },
  {
   "cell_type": "code",
   "execution_count": 18,
   "id": "f0a52082",
   "metadata": {
    "scrolled": false
   },
   "outputs": [
    {
     "data": {
      "text/plain": [
       "“The World Copper Factbook 2022.” 2022, 68.\n",
       "1994    11.727135\n",
       "1995    11.524796\n",
       "1996    11.173422\n",
       "1997    10.791721\n",
       "1998    10.700371\n",
       "Name: % PYRO, dtype: float64"
      ]
     },
     "execution_count": 18,
     "metadata": {},
     "output_type": "execute_result"
    }
   ],
   "source": [
    "pyro_mrktshr_CED = mrktshr_pyrohydro['% PYRO']*CED_pyro\n",
    "pyro_mrktshr_CED[0:5]"
   ]
  },
  {
   "cell_type": "code",
   "execution_count": 19,
   "id": "8b9ca6d2",
   "metadata": {
    "scrolled": true
   },
   "outputs": [
    {
     "data": {
      "text/plain": [
       "“The World Copper Factbook 2022.” 2022, 68.\n",
       "1994    1.439028\n",
       "1995    1.705181\n",
       "1996    2.167372\n",
       "1997    2.669453\n",
       "1998    2.789612\n",
       "Name: % HYDRO, dtype: float64"
      ]
     },
     "execution_count": 19,
     "metadata": {},
     "output_type": "execute_result"
    }
   ],
   "source": [
    "hydro_mrktshr_CED = mrktshr_pyrohydro['% HYDRO']*CED_hydro\n",
    "hydro_mrktshr_CED[0:5]"
   ]
  },
  {
   "cell_type": "code",
   "execution_count": 20,
   "id": "e62922fe",
   "metadata": {},
   "outputs": [
    {
     "data": {
      "text/plain": [
       "13.166163000000001"
      ]
     },
     "execution_count": 20,
     "metadata": {},
     "output_type": "execute_result"
    }
   ],
   "source": [
    "11.727135+1.439028"
   ]
  },
  {
   "cell_type": "code",
   "execution_count": 21,
   "id": "2de7d0d3",
   "metadata": {},
   "outputs": [
    {
     "data": {
      "text/plain": [
       "(10.0, 20.0)"
      ]
     },
     "execution_count": 21,
     "metadata": {},
     "output_type": "execute_result"
    },
    {
     "data": {
      "image/png": "[encoded data removed]",
      "text/plain": [
       "<Figure size 800x400 with 1 Axes>"
      ]
     },
     "metadata": {},
     "output_type": "display_data"
    }
   ],
   "source": [
    "CED_mrktshr = pd.DataFrame(pyro_mrktshr_CED+hydro_mrktshr_CED)\n",
    "plt.plot(CED_mrktshr)\n",
    "plt.ylim(10,20)"
   ]
  },
  {
   "cell_type": "markdown",
   "id": "1886adcd",
   "metadata": {},
   "source": [
    "Now in 2050 we have two projections of energy demand in 2050. There is another projection from Elshkaki 2016, but this is older and nearly double the other two estimates. We will average the two 2050 projection estimates and interpolate to that value."
   ]
  },
  {
   "cell_type": "code",
   "execution_count": 22,
   "id": "1b4b3482",
   "metadata": {},
   "outputs": [],
   "source": [
    "CED_Cu_tofill = pd.concat([CED_mrktshr.loc[1995:],cu_CED_raw.loc[2022:,'CED_Cu_kWhpkg']])\n",
    "#create the new 2050 value\n",
    "CED_2050_mean = cu_CED_raw.loc[2022:,'CED_Cu_kWhpkg'].dropna(how='all').mean()\n",
    "#CED_2050_mean\n",
    "#set the 2049 to nan and 2050 to the new mean\n",
    "CED_Cu_tofill.loc[2049]=np.nan\n",
    "CED_Cu_tofill.loc[2050]=CED_2050_mean\n",
    "#interpolate\n",
    "CED_Cu_filled = CED_Cu_tofill.interpolate()"
   ]
  },
  {
   "cell_type": "code",
   "execution_count": 24,
   "id": "1b24a401",
   "metadata": {},
   "outputs": [
    {
     "data": {
      "text/plain": [
       "(10.0, 20.0)"
      ]
     },
     "execution_count": 24,
     "metadata": {},
     "output_type": "execute_result"
    },
    {
     "data": {
      "image/png": "[encoded data removed]",
      "text/plain": [
       "<Figure size 800x400 with 1 Axes>"
      ]
     },
     "metadata": {},
     "output_type": "display_data"
    }
   ],
   "source": [
    "plt.plot(CED_Cu_filled)\n",
    "plt.ylim(10,20)"
   ]
  },
  {
   "cell_type": "markdown",
   "id": "7ea79f91",
   "metadata": {},
   "source": [
    "### Add the Energy to turn Cu cathode in to Cu wire"
   ]
  },
  {
   "cell_type": "code",
   "execution_count": 25,
   "id": "409e8348",
   "metadata": {
    "scrolled": true
   },
   "outputs": [
    {
     "data": {
      "text/html": [
       "<div>\n",
       "<style scoped>\n",
       "    .dataframe tbody tr th:only-of-type {\n",
       "        vertical-align: middle;\n",
       "    }\n",
       "\n",
       "    .dataframe tbody tr th {\n",
       "        vertical-align: top;\n",
       "    }\n",
       "\n",
       "    .dataframe thead th {\n",
       "        text-align: right;\n",
       "    }\n",
       "</style>\n",
       "<table border=\"1\" class=\"dataframe\">\n",
       "  <thead>\n",
       "    <tr style=\"text-align: right;\">\n",
       "      <th></th>\n",
       "      <th>E_wireDraw_kWhpkg</th>\n",
       "      <th>PrctFuel</th>\n",
       "      <th>Source</th>\n",
       "      <th>Notes</th>\n",
       "    </tr>\n",
       "    <tr>\n",
       "      <th>year</th>\n",
       "      <th></th>\n",
       "      <th></th>\n",
       "      <th></th>\n",
       "      <th></th>\n",
       "    </tr>\n",
       "  </thead>\n",
       "  <tbody>\n",
       "    <tr>\n",
       "      <th>1995</th>\n",
       "      <td>2.778000</td>\n",
       "      <td>NaN</td>\n",
       "      <td>G. J. M. Phylipsen and E. A. Alsema, “Environm...</td>\n",
       "      <td>Estimate, 18 GJ/ton to melt Cu, only need to s...</td>\n",
       "    </tr>\n",
       "    <tr>\n",
       "      <th>2010</th>\n",
       "      <td>0.230944</td>\n",
       "      <td>NaN</td>\n",
       "      <td>Bumby, Sarah, Ekaterina Druzhinina, Rebe Feral...</td>\n",
       "      <td>LCA of grid distribution system, Supplemental ...</td>\n",
       "    </tr>\n",
       "    <tr>\n",
       "      <th>2012</th>\n",
       "      <td>14.698514</td>\n",
       "      <td>NaN</td>\n",
       "      <td>“The Environmental Profile of Copper Products ...</td>\n",
       "      <td>PED from LCA from EU copper institute, include...</td>\n",
       "    </tr>\n",
       "    <tr>\n",
       "      <th>2018</th>\n",
       "      <td>0.169952</td>\n",
       "      <td>NaN</td>\n",
       "      <td>Rodriguez-Alabanda, O., P. E. Romero, G. Guerr...</td>\n",
       "      <td>are selling a software optimizing wire pulling...</td>\n",
       "    </tr>\n",
       "    <tr>\n",
       "      <th>2021</th>\n",
       "      <td>2.160795</td>\n",
       "      <td>NaN</td>\n",
       "      <td>Yu, Huiling, Hao Sun, Weixia Liu, Ruiqiu Zhang...</td>\n",
       "      <td>Table 1 updrawing casting machine + big drawin...</td>\n",
       "    </tr>\n",
       "  </tbody>\n",
       "</table>\n",
       "</div>"
      ],
      "text/plain": [
       "      E_wireDraw_kWhpkg  PrctFuel  \\\n",
       "year                                \n",
       "1995           2.778000       NaN   \n",
       "2010           0.230944       NaN   \n",
       "2012          14.698514       NaN   \n",
       "2018           0.169952       NaN   \n",
       "2021           2.160795       NaN   \n",
       "\n",
       "                                                 Source  \\\n",
       "year                                                      \n",
       "1995  G. J. M. Phylipsen and E. A. Alsema, “Environm...   \n",
       "2010  Bumby, Sarah, Ekaterina Druzhinina, Rebe Feral...   \n",
       "2012  “The Environmental Profile of Copper Products ...   \n",
       "2018  Rodriguez-Alabanda, O., P. E. Romero, G. Guerr...   \n",
       "2021  Yu, Huiling, Hao Sun, Weixia Liu, Ruiqiu Zhang...   \n",
       "\n",
       "                                                  Notes  \n",
       "year                                                     \n",
       "1995  Estimate, 18 GJ/ton to melt Cu, only need to s...  \n",
       "2010  LCA of grid distribution system, Supplemental ...  \n",
       "2012  PED from LCA from EU copper institute, include...  \n",
       "2018  are selling a software optimizing wire pulling...  \n",
       "2021  Table 1 updrawing casting machine + big drawin...  "
      ]
     },
     "execution_count": 25,
     "metadata": {},
     "output_type": "execute_result"
    }
   ],
   "source": [
    "cu_wireDraw_raw = pd.read_csv(os.path.join(supportMatfolder+\"\\energy-input-copper-wireDraw.csv\"), index_col='year')\n",
    "cu_wireDraw_raw.dropna(how='all')"
   ]
  },
  {
   "cell_type": "code",
   "execution_count": 44,
   "id": "67791160",
   "metadata": {
    "scrolled": true
   },
   "outputs": [
    {
     "data": {
      "text/plain": [
       "0    1.131648\n",
       "dtype: float64"
      ]
     },
     "execution_count": 44,
     "metadata": {},
     "output_type": "execute_result"
    }
   ],
   "source": [
    "#subtract the average historical CED of Cu from the 2012 data to get just wire pulling part\n",
    "adj_wire = cu_wireDraw_raw.loc[2012,'E_wireDraw_kWhpkg']-CED_mrktshr.mean() #using the historical with marketshare hydro/pyro wtd\n",
    "cu_wireDraw_raw.loc[2012,'E_wireDraw_kWhpkg'] = adj_wire[0]\n",
    "adj_wire"
   ]
  },
  {
   "cell_type": "code",
   "execution_count": 45,
   "id": "4a062c60",
   "metadata": {},
   "outputs": [
    {
     "data": {
      "text/html": [
       "<div>\n",
       "<style scoped>\n",
       "    .dataframe tbody tr th:only-of-type {\n",
       "        vertical-align: middle;\n",
       "    }\n",
       "\n",
       "    .dataframe tbody tr th {\n",
       "        vertical-align: top;\n",
       "    }\n",
       "\n",
       "    .dataframe thead th {\n",
       "        text-align: right;\n",
       "    }\n",
       "</style>\n",
       "<table border=\"1\" class=\"dataframe\">\n",
       "  <thead>\n",
       "    <tr style=\"text-align: right;\">\n",
       "      <th></th>\n",
       "      <th>E_wireDraw_kWhpkg</th>\n",
       "      <th>PrctFuel</th>\n",
       "      <th>Source</th>\n",
       "      <th>Notes</th>\n",
       "    </tr>\n",
       "    <tr>\n",
       "      <th>year</th>\n",
       "      <th></th>\n",
       "      <th></th>\n",
       "      <th></th>\n",
       "      <th></th>\n",
       "    </tr>\n",
       "  </thead>\n",
       "  <tbody>\n",
       "    <tr>\n",
       "      <th>1995</th>\n",
       "      <td>2.778000</td>\n",
       "      <td>NaN</td>\n",
       "      <td>G. J. M. Phylipsen and E. A. Alsema, “Environm...</td>\n",
       "      <td>Estimate, 18 GJ/ton to melt Cu, only need to s...</td>\n",
       "    </tr>\n",
       "    <tr>\n",
       "      <th>2010</th>\n",
       "      <td>0.230944</td>\n",
       "      <td>NaN</td>\n",
       "      <td>Bumby, Sarah, Ekaterina Druzhinina, Rebe Feral...</td>\n",
       "      <td>LCA of grid distribution system, Supplemental ...</td>\n",
       "    </tr>\n",
       "    <tr>\n",
       "      <th>2012</th>\n",
       "      <td>1.131648</td>\n",
       "      <td>NaN</td>\n",
       "      <td>“The Environmental Profile of Copper Products ...</td>\n",
       "      <td>PED from LCA from EU copper institute, include...</td>\n",
       "    </tr>\n",
       "    <tr>\n",
       "      <th>2018</th>\n",
       "      <td>0.169952</td>\n",
       "      <td>NaN</td>\n",
       "      <td>Rodriguez-Alabanda, O., P. E. Romero, G. Guerr...</td>\n",
       "      <td>are selling a software optimizing wire pulling...</td>\n",
       "    </tr>\n",
       "    <tr>\n",
       "      <th>2021</th>\n",
       "      <td>2.160795</td>\n",
       "      <td>NaN</td>\n",
       "      <td>Yu, Huiling, Hao Sun, Weixia Liu, Ruiqiu Zhang...</td>\n",
       "      <td>Table 1 updrawing casting machine + big drawin...</td>\n",
       "    </tr>\n",
       "  </tbody>\n",
       "</table>\n",
       "</div>"
      ],
      "text/plain": [
       "      E_wireDraw_kWhpkg  PrctFuel  \\\n",
       "year                                \n",
       "1995           2.778000       NaN   \n",
       "2010           0.230944       NaN   \n",
       "2012           1.131648       NaN   \n",
       "2018           0.169952       NaN   \n",
       "2021           2.160795       NaN   \n",
       "\n",
       "                                                 Source  \\\n",
       "year                                                      \n",
       "1995  G. J. M. Phylipsen and E. A. Alsema, “Environm...   \n",
       "2010  Bumby, Sarah, Ekaterina Druzhinina, Rebe Feral...   \n",
       "2012  “The Environmental Profile of Copper Products ...   \n",
       "2018  Rodriguez-Alabanda, O., P. E. Romero, G. Guerr...   \n",
       "2021  Yu, Huiling, Hao Sun, Weixia Liu, Ruiqiu Zhang...   \n",
       "\n",
       "                                                  Notes  \n",
       "year                                                     \n",
       "1995  Estimate, 18 GJ/ton to melt Cu, only need to s...  \n",
       "2010  LCA of grid distribution system, Supplemental ...  \n",
       "2012  PED from LCA from EU copper institute, include...  \n",
       "2018  are selling a software optimizing wire pulling...  \n",
       "2021  Table 1 updrawing casting machine + big drawin...  "
      ]
     },
     "execution_count": 45,
     "metadata": {},
     "output_type": "execute_result"
    }
   ],
   "source": [
    "cu_wireDraw_raw.dropna(how='all')"
   ]
  },
  {
   "cell_type": "markdown",
   "id": "563dc1e7",
   "metadata": {},
   "source": [
    "None of these are very large. We will average these values to estimate the wire drawing requirements, then add it to the CED to get a MFGing of virgin Cu. This value will also be added to the recycling processing requirements below."
   ]
  },
  {
   "cell_type": "code",
   "execution_count": 48,
   "id": "43d25429",
   "metadata": {},
   "outputs": [
    {
     "data": {
      "text/plain": [
       "1.2942678788092012"
      ]
     },
     "execution_count": 48,
     "metadata": {},
     "output_type": "execute_result"
    }
   ],
   "source": [
    "e_wireDraw = cu_wireDraw_raw['E_wireDraw_kWhpkg'].mean()\n",
    "e_wireDraw"
   ]
  },
  {
   "cell_type": "code",
   "execution_count": 55,
   "id": "0bbc812a",
   "metadata": {},
   "outputs": [],
   "source": [
    "CED_Cu_virgin = round(CED_Cu_filled+e_wireDraw,2)\n",
    "CED_Cu_virgin.to_csv(os.path.join(supportMatfolder+'\\output_energy_Cu_Mfging.csv'))"
   ]
  },
  {
   "cell_type": "markdown",
   "id": "5b50989d",
   "metadata": {},
   "source": [
    "# Cu Recycling"
   ]
  },
  {
   "cell_type": "code",
   "execution_count": null,
   "id": "33fa4f7d",
   "metadata": {},
   "outputs": [],
   "source": []
  },
  {
   "cell_type": "code",
   "execution_count": null,
   "id": "c75d4c31",
   "metadata": {},
   "outputs": [],
   "source": []
  },
  {
   "cell_type": "code",
   "execution_count": null,
   "id": "a7fbb664",
   "metadata": {},
   "outputs": [],
   "source": []
  },
  {
   "cell_type": "code",
   "execution_count": null,
   "id": "fb17bd28",
   "metadata": {},
   "outputs": [],
   "source": []
  }
 ],
 "metadata": {
  "kernelspec": {
   "display_name": "Python 3 (ipykernel)",
   "language": "python",
   "name": "python3"
  },
  "language_info": {
   "codemirror_mode": {
    "name": "ipython",
    "version": 3
   },
   "file_extension": ".py",
   "mimetype": "text/x-python",
   "name": "python",
   "nbconvert_exporter": "python",
   "pygments_lexer": "ipython3",
   "version": "3.8.8"
  }
 },
 "nbformat": 4,
 "nbformat_minor": 5
}
