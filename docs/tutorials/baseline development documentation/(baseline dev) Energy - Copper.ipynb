{
 "cells": [
  {
   "cell_type": "markdown",
   "id": "969a731c",
   "metadata": {},
   "source": [
    "# Copper Energy Demands\n",
    "This journal documents the energy demands of mining, refining, drawing and recycling of copper for use inside the PV cell. Probably also applies to copper in wiring (not yet considered)"
   ]
  },
  {
   "cell_type": "code",
   "execution_count": 1,
   "id": "f65acfbb",
   "metadata": {},
   "outputs": [],
   "source": [
    "import numpy as np\n",
    "import pandas as pd\n",
    "import os,sys\n",
    "import matplotlib.pyplot as plt\n",
    "plt.rcParams.update({'font.size': 18})\n",
    "plt.rcParams['figure.figsize'] = (8, 4)\n",
    "cwd = os.getcwd() #grabs current working directory"
   ]
  },
  {
   "cell_type": "markdown",
   "id": "1a9a0e9d",
   "metadata": {},
   "source": [
    "### Mining Energy"
   ]
  },
  {
   "cell_type": "code",
   "execution_count": 2,
   "id": "384b62ea",
   "metadata": {},
   "outputs": [
    {
     "data": {
      "text/html": [
       "<div>\n",
       "<style scoped>\n",
       "    .dataframe tbody tr th:only-of-type {\n",
       "        vertical-align: middle;\n",
       "    }\n",
       "\n",
       "    .dataframe tbody tr th {\n",
       "        vertical-align: top;\n",
       "    }\n",
       "\n",
       "    .dataframe thead th {\n",
       "        text-align: right;\n",
       "    }\n",
       "</style>\n",
       "<table border=\"1\" class=\"dataframe\">\n",
       "  <thead>\n",
       "    <tr style=\"text-align: right;\">\n",
       "      <th></th>\n",
       "      <th>E_CuMining_kWhpkg</th>\n",
       "      <th>PrctFuel</th>\n",
       "      <th>Source</th>\n",
       "      <th>Notes</th>\n",
       "    </tr>\n",
       "    <tr>\n",
       "      <th>year</th>\n",
       "      <th></th>\n",
       "      <th></th>\n",
       "      <th></th>\n",
       "      <th></th>\n",
       "    </tr>\n",
       "  </thead>\n",
       "  <tbody>\n",
       "    <tr>\n",
       "      <th>1975</th>\n",
       "      <td>15.947000</td>\n",
       "      <td>NaN</td>\n",
       "      <td>Bravard, J. C., H. B. Flora, and Charles Porta...</td>\n",
       "      <td>mining and milling and flotation of 0.3% Cu or...</td>\n",
       "    </tr>\n",
       "    <tr>\n",
       "      <th>2001</th>\n",
       "      <td>1.319000</td>\n",
       "      <td>90.74%</td>\n",
       "      <td>Lagos, Gustavo, David Peters, Alvaro Videla, a...</td>\n",
       "      <td>Table 1, open pit mine, likely includes transp...</td>\n",
       "    </tr>\n",
       "    <tr>\n",
       "      <th>2002</th>\n",
       "      <td>0.611000</td>\n",
       "      <td>43.18%</td>\n",
       "      <td>Lagos, Gustavo, David Peters, Alvaro Videla, a...</td>\n",
       "      <td>Table 1, underground mine, likely includes tra...</td>\n",
       "    </tr>\n",
       "    <tr>\n",
       "      <th>2009</th>\n",
       "      <td>0.006000</td>\n",
       "      <td>NaN</td>\n",
       "      <td>Bleiwas, Donald. 2011. “Estimates of Electrici...</td>\n",
       "      <td>Table 13, processed ore instead of tonne coppe...</td>\n",
       "    </tr>\n",
       "    <tr>\n",
       "      <th>2010</th>\n",
       "      <td>11.110800</td>\n",
       "      <td>NaN</td>\n",
       "      <td>Norgate, Terry, and Sharif Jahanshahi. 2011. “...</td>\n",
       "      <td>Cu Mining and mineral processing HYDRO, embodi...</td>\n",
       "    </tr>\n",
       "    <tr>\n",
       "      <th>2011</th>\n",
       "      <td>18.055050</td>\n",
       "      <td>NaN</td>\n",
       "      <td>Norgate, Terry, and Sharif Jahanshahi. 2011. “...</td>\n",
       "      <td>Cu Mining and mineral processing PYRO, emboied E</td>\n",
       "    </tr>\n",
       "    <tr>\n",
       "      <th>2013</th>\n",
       "      <td>3.499902</td>\n",
       "      <td>NaN</td>\n",
       "      <td>Elshkaki, Ayman, T. E. Graedel, Luca Ciacci, a...</td>\n",
       "      <td>range of 30-90 for \"primary production\", which...</td>\n",
       "    </tr>\n",
       "    <tr>\n",
       "      <th>2014</th>\n",
       "      <td>2.244400</td>\n",
       "      <td>92.57%</td>\n",
       "      <td>Lagos, Gustavo, David Peters, Alvaro Videla, a...</td>\n",
       "      <td>Table 1, open pit mine, likely includes transp...</td>\n",
       "    </tr>\n",
       "    <tr>\n",
       "      <th>2015</th>\n",
       "      <td>1.097200</td>\n",
       "      <td>43.54%</td>\n",
       "      <td>Lagos, Gustavo, David Peters, Alvaro Videla, a...</td>\n",
       "      <td>Table 1, underground mine, likely includes tra...</td>\n",
       "    </tr>\n",
       "    <tr>\n",
       "      <th>2019</th>\n",
       "      <td>4.023100</td>\n",
       "      <td>20%</td>\n",
       "      <td>Farjana, Shahjadi Hisan, Nazmul Huda, and M. A...</td>\n",
       "      <td>Table 2 sum energies exclude transport</td>\n",
       "    </tr>\n",
       "  </tbody>\n",
       "</table>\n",
       "</div>"
      ],
      "text/plain": [
       "      E_CuMining_kWhpkg PrctFuel  \\\n",
       "year                               \n",
       "1975          15.947000      NaN   \n",
       "2001           1.319000   90.74%   \n",
       "2002           0.611000   43.18%   \n",
       "2009           0.006000      NaN   \n",
       "2010          11.110800      NaN   \n",
       "2011          18.055050      NaN   \n",
       "2013           3.499902      NaN   \n",
       "2014           2.244400   92.57%   \n",
       "2015           1.097200   43.54%   \n",
       "2019           4.023100      20%   \n",
       "\n",
       "                                                 Source  \\\n",
       "year                                                      \n",
       "1975  Bravard, J. C., H. B. Flora, and Charles Porta...   \n",
       "2001  Lagos, Gustavo, David Peters, Alvaro Videla, a...   \n",
       "2002  Lagos, Gustavo, David Peters, Alvaro Videla, a...   \n",
       "2009  Bleiwas, Donald. 2011. “Estimates of Electrici...   \n",
       "2010  Norgate, Terry, and Sharif Jahanshahi. 2011. “...   \n",
       "2011  Norgate, Terry, and Sharif Jahanshahi. 2011. “...   \n",
       "2013  Elshkaki, Ayman, T. E. Graedel, Luca Ciacci, a...   \n",
       "2014  Lagos, Gustavo, David Peters, Alvaro Videla, a...   \n",
       "2015  Lagos, Gustavo, David Peters, Alvaro Videla, a...   \n",
       "2019  Farjana, Shahjadi Hisan, Nazmul Huda, and M. A...   \n",
       "\n",
       "                                                  Notes  \n",
       "year                                                     \n",
       "1975  mining and milling and flotation of 0.3% Cu or...  \n",
       "2001  Table 1, open pit mine, likely includes transp...  \n",
       "2002  Table 1, underground mine, likely includes tra...  \n",
       "2009  Table 13, processed ore instead of tonne coppe...  \n",
       "2010  Cu Mining and mineral processing HYDRO, embodi...  \n",
       "2011   Cu Mining and mineral processing PYRO, emboied E  \n",
       "2013  range of 30-90 for \"primary production\", which...  \n",
       "2014  Table 1, open pit mine, likely includes transp...  \n",
       "2015  Table 1, underground mine, likely includes tra...  \n",
       "2019             Table 2 sum energies exclude transport  "
      ]
     },
     "execution_count": 2,
     "metadata": {},
     "output_type": "execute_result"
    }
   ],
   "source": [
    "cu_mining_raw = pd.read_csv(cwd+\"/../../../PV_ICE/baselines/SupportingMaterial/energy-input-copper-mining.csv\",\n",
    "                                     index_col='year')\n",
    "cu_mining_raw.dropna(how='all')"
   ]
  },
  {
   "cell_type": "code",
   "execution_count": 3,
   "id": "71543ac4",
   "metadata": {},
   "outputs": [
    {
     "data": {
      "text/plain": [
       "Text(0, 0.5, 'kWh/kg')"
      ]
     },
     "execution_count": 3,
     "metadata": {},
     "output_type": "execute_result"
    },
    {
     "data": {
      "image/png": "[encoded data removed]",
      "text/plain": [
       "<Figure size 800x400 with 1 Axes>"
      ]
     },
     "metadata": {},
     "output_type": "display_data"
    }
   ],
   "source": [
    "plt.scatter(cu_mining_raw.index, cu_mining_raw['E_CuMining_kWhpkg'], marker='o')\n",
    "plt.title('CED_Cu_kWhpkg')\n",
    "plt.ylabel('kWh/kg')"
   ]
  },
  {
   "cell_type": "code",
   "execution_count": 12,
   "id": "0cdcf3da",
   "metadata": {},
   "outputs": [],
   "source": [
    "#drop ones that include more than just mining and concentration.\n",
    "cu_mining_raw.loc[1975] = np.nan\n",
    "cu_mining_raw.loc[2010] = np.nan\n",
    "cu_mining_raw.loc[2011] = np.nan\n"
   ]
  },
  {
   "cell_type": "code",
   "execution_count": 15,
   "id": "12d8f84e",
   "metadata": {},
   "outputs": [
    {
     "data": {
      "text/plain": [
       "Text(0, 0.5, 'kWh/kg')"
      ]
     },
     "execution_count": 15,
     "metadata": {},
     "output_type": "execute_result"
    },
    {
     "data": {
      "image/png": "[encoded data removed]",
      "text/plain": [
       "<Figure size 800x400 with 1 Axes>"
      ]
     },
     "metadata": {},
     "output_type": "display_data"
    }
   ],
   "source": [
    "plt.scatter(cu_mining_raw.index, cu_mining_raw['E_CuMining_kWhpkg'], marker='o')\n",
    "plt.xlim(1995,2020)\n",
    "plt.title('CED_Cu_kWhpkg')\n",
    "plt.ylabel('kWh/kg')"
   ]
  },
  {
   "cell_type": "code",
   "execution_count": null,
   "id": "78f23903",
   "metadata": {},
   "outputs": [],
   "source": []
  },
  {
   "cell_type": "markdown",
   "id": "f2795ed1",
   "metadata": {},
   "source": [
    "### CED"
   ]
  },
  {
   "cell_type": "code",
   "execution_count": 4,
   "id": "4a350acd",
   "metadata": {},
   "outputs": [
    {
     "data": {
      "text/html": [
       "<div>\n",
       "<style scoped>\n",
       "    .dataframe tbody tr th:only-of-type {\n",
       "        vertical-align: middle;\n",
       "    }\n",
       "\n",
       "    .dataframe tbody tr th {\n",
       "        vertical-align: top;\n",
       "    }\n",
       "\n",
       "    .dataframe thead th {\n",
       "        text-align: right;\n",
       "    }\n",
       "</style>\n",
       "<table border=\"1\" class=\"dataframe\">\n",
       "  <thead>\n",
       "    <tr style=\"text-align: right;\">\n",
       "      <th></th>\n",
       "      <th>CED_Cu_kWhpkg</th>\n",
       "      <th>PrctFuel</th>\n",
       "      <th>Source</th>\n",
       "      <th>Notes</th>\n",
       "    </tr>\n",
       "    <tr>\n",
       "      <th>year</th>\n",
       "      <th></th>\n",
       "      <th></th>\n",
       "      <th></th>\n",
       "      <th></th>\n",
       "    </tr>\n",
       "  </thead>\n",
       "  <tbody>\n",
       "    <tr>\n",
       "      <th>1995</th>\n",
       "      <td>25.0000</td>\n",
       "      <td>NaN</td>\n",
       "      <td>G. J. M. Phylipsen and E. A. Alsema, “Environm...</td>\n",
       "      <td>gross energy requirement cathodic copper, van ...</td>\n",
       "    </tr>\n",
       "    <tr>\n",
       "      <th>1999</th>\n",
       "      <td>0.2940</td>\n",
       "      <td>NaN</td>\n",
       "      <td>R. U. Ayres, L. W. Ayres, and I. Råde, The Lif...</td>\n",
       "      <td>Chilean Cu Smelters, average</td>\n",
       "    </tr>\n",
       "    <tr>\n",
       "      <th>2000</th>\n",
       "      <td>9.1667</td>\n",
       "      <td>NaN</td>\n",
       "      <td>Rankin, John. 2012. “Energy Use in Metal Produ...</td>\n",
       "      <td>embodied energy, pyro, from Norgate and Rankin...</td>\n",
       "    </tr>\n",
       "    <tr>\n",
       "      <th>2001</th>\n",
       "      <td>17.9170</td>\n",
       "      <td>NaN</td>\n",
       "      <td>Rankin, John. 2012. “Energy Use in Metal Produ...</td>\n",
       "      <td>embodied energy, hydro, from Norgate and Ranki...</td>\n",
       "    </tr>\n",
       "    <tr>\n",
       "      <th>2003</th>\n",
       "      <td>16.6670</td>\n",
       "      <td>NaN</td>\n",
       "      <td>R. U. Ayres, L. W. Ayres, and I. Råde, The Lif...</td>\n",
       "      <td>avg ore grade (&gt;0.1% grade), OECD</td>\n",
       "    </tr>\n",
       "    <tr>\n",
       "      <th>2005</th>\n",
       "      <td>14.9000</td>\n",
       "      <td>20.0</td>\n",
       "      <td>Marsden, John O. “Energy Efficiency &amp; Copper H...</td>\n",
       "      <td>Slide 33+35, 35% SX/EW 65% Concentrate, assume...</td>\n",
       "    </tr>\n",
       "    <tr>\n",
       "      <th>2006</th>\n",
       "      <td>17.7770</td>\n",
       "      <td>NaN</td>\n",
       "      <td>Norgate, T. E., S. Jahanshahi, and W. J. Ranki...</td>\n",
       "      <td>GER, cradle to gate, heap leaching and SX/EW p...</td>\n",
       "    </tr>\n",
       "    <tr>\n",
       "      <th>2007</th>\n",
       "      <td>9.1660</td>\n",
       "      <td>NaN</td>\n",
       "      <td>Norgate, T. E., S. Jahanshahi, and W. J. Ranki...</td>\n",
       "      <td>GER, cradle to gate of mfg, includes Smelting/...</td>\n",
       "    </tr>\n",
       "    <tr>\n",
       "      <th>2008</th>\n",
       "      <td>16.8330</td>\n",
       "      <td>NaN</td>\n",
       "      <td>Nuss, Philip, and Matthew J. Eckelman. 2014. “...</td>\n",
       "      <td>average of non-secondary, different mine sourc...</td>\n",
       "    </tr>\n",
       "    <tr>\n",
       "      <th>2009</th>\n",
       "      <td>14.9170</td>\n",
       "      <td>NaN</td>\n",
       "      <td>Nuss, Philip, and Matthew J. Eckelman. 2014. “...</td>\n",
       "      <td>includes secondary content, is the mean distri...</td>\n",
       "    </tr>\n",
       "    <tr>\n",
       "      <th>2010</th>\n",
       "      <td>19.1670</td>\n",
       "      <td>NaN</td>\n",
       "      <td>Rötzer, Nadine, and Mario Schmidt. 2020. “Hist...</td>\n",
       "      <td>CED for Cu anodes (not wire), pyrometallurgy f...</td>\n",
       "    </tr>\n",
       "    <tr>\n",
       "      <th>2012</th>\n",
       "      <td>14.7000</td>\n",
       "      <td>NaN</td>\n",
       "      <td>“The Environmental Profile of Copper Products ...</td>\n",
       "      <td>Copper Wire in EU from companies, likely inclu...</td>\n",
       "    </tr>\n",
       "    <tr>\n",
       "      <th>2013</th>\n",
       "      <td>16.6662</td>\n",
       "      <td>NaN</td>\n",
       "      <td>Elshkaki, Ayman, T. E. Graedel, Luca Ciacci, a...</td>\n",
       "      <td>\"primary production\" from UNEP 2013, average, ...</td>\n",
       "    </tr>\n",
       "    <tr>\n",
       "      <th>2019</th>\n",
       "      <td>7.7780</td>\n",
       "      <td>NaN</td>\n",
       "      <td>“The Role of Critical Minerals in Clean Energy...</td>\n",
       "      <td>pg 124, Energy use for concentrate covers mine...</td>\n",
       "    </tr>\n",
       "    <tr>\n",
       "      <th>2050</th>\n",
       "      <td>16.9000</td>\n",
       "      <td>NaN</td>\n",
       "      <td>Rötzer, Nadine, and Mario Schmidt. 2020. “Hist...</td>\n",
       "      <td>copper cathode, assumes 0.5% ore grade and 100...</td>\n",
       "    </tr>\n",
       "  </tbody>\n",
       "</table>\n",
       "</div>"
      ],
      "text/plain": [
       "      CED_Cu_kWhpkg  PrctFuel  \\\n",
       "year                            \n",
       "1995        25.0000       NaN   \n",
       "1999         0.2940       NaN   \n",
       "2000         9.1667       NaN   \n",
       "2001        17.9170       NaN   \n",
       "2003        16.6670       NaN   \n",
       "2005        14.9000      20.0   \n",
       "2006        17.7770       NaN   \n",
       "2007         9.1660       NaN   \n",
       "2008        16.8330       NaN   \n",
       "2009        14.9170       NaN   \n",
       "2010        19.1670       NaN   \n",
       "2012        14.7000       NaN   \n",
       "2013        16.6662       NaN   \n",
       "2019         7.7780       NaN   \n",
       "2050        16.9000       NaN   \n",
       "\n",
       "                                                 Source  \\\n",
       "year                                                      \n",
       "1995  G. J. M. Phylipsen and E. A. Alsema, “Environm...   \n",
       "1999  R. U. Ayres, L. W. Ayres, and I. Råde, The Lif...   \n",
       "2000  Rankin, John. 2012. “Energy Use in Metal Produ...   \n",
       "2001  Rankin, John. 2012. “Energy Use in Metal Produ...   \n",
       "2003  R. U. Ayres, L. W. Ayres, and I. Råde, The Lif...   \n",
       "2005  Marsden, John O. “Energy Efficiency & Copper H...   \n",
       "2006  Norgate, T. E., S. Jahanshahi, and W. J. Ranki...   \n",
       "2007  Norgate, T. E., S. Jahanshahi, and W. J. Ranki...   \n",
       "2008  Nuss, Philip, and Matthew J. Eckelman. 2014. “...   \n",
       "2009  Nuss, Philip, and Matthew J. Eckelman. 2014. “...   \n",
       "2010  Rötzer, Nadine, and Mario Schmidt. 2020. “Hist...   \n",
       "2012  “The Environmental Profile of Copper Products ...   \n",
       "2013  Elshkaki, Ayman, T. E. Graedel, Luca Ciacci, a...   \n",
       "2019  “The Role of Critical Minerals in Clean Energy...   \n",
       "2050  Rötzer, Nadine, and Mario Schmidt. 2020. “Hist...   \n",
       "\n",
       "                                                  Notes  \n",
       "year                                                     \n",
       "1995  gross energy requirement cathodic copper, van ...  \n",
       "1999                       Chilean Cu Smelters, average  \n",
       "2000  embodied energy, pyro, from Norgate and Rankin...  \n",
       "2001  embodied energy, hydro, from Norgate and Ranki...  \n",
       "2003                  avg ore grade (>0.1% grade), OECD  \n",
       "2005  Slide 33+35, 35% SX/EW 65% Concentrate, assume...  \n",
       "2006  GER, cradle to gate, heap leaching and SX/EW p...  \n",
       "2007  GER, cradle to gate of mfg, includes Smelting/...  \n",
       "2008  average of non-secondary, different mine sourc...  \n",
       "2009  includes secondary content, is the mean distri...  \n",
       "2010  CED for Cu anodes (not wire), pyrometallurgy f...  \n",
       "2012  Copper Wire in EU from companies, likely inclu...  \n",
       "2013  \"primary production\" from UNEP 2013, average, ...  \n",
       "2019  pg 124, Energy use for concentrate covers mine...  \n",
       "2050  copper cathode, assumes 0.5% ore grade and 100...  "
      ]
     },
     "execution_count": 4,
     "metadata": {},
     "output_type": "execute_result"
    }
   ],
   "source": [
    "cu_CED_raw = pd.read_csv(cwd+\"/../../../PV_ICE/baselines/SupportingMaterial/energy-input-copper-CED.csv\",\n",
    "                                     index_col='year')\n",
    "cu_CED_raw.dropna(how='all')"
   ]
  },
  {
   "cell_type": "code",
   "execution_count": 5,
   "id": "6714060f",
   "metadata": {},
   "outputs": [
    {
     "data": {
      "text/plain": [
       "Text(0, 0.5, 'kWh/kg')"
      ]
     },
     "execution_count": 5,
     "metadata": {},
     "output_type": "execute_result"
    },
    {
     "data": {
      "image/png": "[encoded data removed]",
      "text/plain": [
       "<Figure size 800x400 with 1 Axes>"
      ]
     },
     "metadata": {},
     "output_type": "display_data"
    }
   ],
   "source": [
    "plt.scatter(cu_CED_raw.index, cu_CED_raw['CED_Cu_kWhpkg'], marker='o')\n",
    "plt.title('CED_Cu_kWhpkg')\n",
    "plt.ylabel('kWh/kg')"
   ]
  },
  {
   "cell_type": "code",
   "execution_count": 6,
   "id": "10fe516c",
   "metadata": {},
   "outputs": [],
   "source": [
    "#drop the low outlier\n",
    "cu_CED_raw.loc[1999] = np.nan\n",
    "#drop the 2009 Nuss datapoint because it includes recycled content\n",
    "cu_CED_raw.loc[2009] = np.nan\n",
    "#drop 2012 EU survey, includes scrap content\n",
    "cu_CED_raw.loc[2012] = np.nan"
   ]
  },
  {
   "cell_type": "markdown",
   "id": "723ea2c3",
   "metadata": {},
   "source": [
    "The remaining lower energy points are associated with the difference between Hydro and Pyro metallurgy. "
   ]
  },
  {
   "cell_type": "code",
   "execution_count": 7,
   "id": "9cadbdf2",
   "metadata": {},
   "outputs": [
    {
     "data": {
      "text/html": [
       "<div>\n",
       "<style scoped>\n",
       "    .dataframe tbody tr th:only-of-type {\n",
       "        vertical-align: middle;\n",
       "    }\n",
       "\n",
       "    .dataframe tbody tr th {\n",
       "        vertical-align: top;\n",
       "    }\n",
       "\n",
       "    .dataframe thead th {\n",
       "        text-align: right;\n",
       "    }\n",
       "</style>\n",
       "<table border=\"1\" class=\"dataframe\">\n",
       "  <thead>\n",
       "    <tr style=\"text-align: right;\">\n",
       "      <th></th>\n",
       "      <th>Notes</th>\n",
       "    </tr>\n",
       "    <tr>\n",
       "      <th>year</th>\n",
       "      <th></th>\n",
       "    </tr>\n",
       "  </thead>\n",
       "  <tbody>\n",
       "    <tr>\n",
       "      <th>2000</th>\n",
       "      <td>embodied energy, pyro, from Norgate and Rankin...</td>\n",
       "    </tr>\n",
       "    <tr>\n",
       "      <th>2001</th>\n",
       "      <td>embodied energy, hydro, from Norgate and Ranki...</td>\n",
       "    </tr>\n",
       "  </tbody>\n",
       "</table>\n",
       "</div>"
      ],
      "text/plain": [
       "                                                  Notes\n",
       "year                                                   \n",
       "2000  embodied energy, pyro, from Norgate and Rankin...\n",
       "2001  embodied energy, hydro, from Norgate and Ranki..."
      ]
     },
     "execution_count": 7,
     "metadata": {},
     "output_type": "execute_result"
    }
   ],
   "source": [
    "cu_CED_raw.loc[2000:2001,['Notes']]"
   ]
  },
  {
   "cell_type": "code",
   "execution_count": 8,
   "id": "400341ae",
   "metadata": {},
   "outputs": [
    {
     "data": {
      "text/html": [
       "<div>\n",
       "<style scoped>\n",
       "    .dataframe tbody tr th:only-of-type {\n",
       "        vertical-align: middle;\n",
       "    }\n",
       "\n",
       "    .dataframe tbody tr th {\n",
       "        vertical-align: top;\n",
       "    }\n",
       "\n",
       "    .dataframe thead th {\n",
       "        text-align: right;\n",
       "    }\n",
       "</style>\n",
       "<table border=\"1\" class=\"dataframe\">\n",
       "  <thead>\n",
       "    <tr style=\"text-align: right;\">\n",
       "      <th></th>\n",
       "      <th>Notes</th>\n",
       "    </tr>\n",
       "    <tr>\n",
       "      <th>year</th>\n",
       "      <th></th>\n",
       "    </tr>\n",
       "  </thead>\n",
       "  <tbody>\n",
       "    <tr>\n",
       "      <th>2006</th>\n",
       "      <td>GER, cradle to gate, heap leaching and SX/EW p...</td>\n",
       "    </tr>\n",
       "    <tr>\n",
       "      <th>2007</th>\n",
       "      <td>GER, cradle to gate of mfg, includes Smelting/...</td>\n",
       "    </tr>\n",
       "  </tbody>\n",
       "</table>\n",
       "</div>"
      ],
      "text/plain": [
       "                                                  Notes\n",
       "year                                                   \n",
       "2006  GER, cradle to gate, heap leaching and SX/EW p...\n",
       "2007  GER, cradle to gate of mfg, includes Smelting/..."
      ]
     },
     "execution_count": 8,
     "metadata": {},
     "output_type": "execute_result"
    }
   ],
   "source": [
    "cu_CED_raw.loc[2006:2007,['Notes']]"
   ]
  },
  {
   "cell_type": "code",
   "execution_count": 9,
   "id": "1713a99b",
   "metadata": {
    "scrolled": true
   },
   "outputs": [
    {
     "data": {
      "text/html": [
       "<div>\n",
       "<style scoped>\n",
       "    .dataframe tbody tr th:only-of-type {\n",
       "        vertical-align: middle;\n",
       "    }\n",
       "\n",
       "    .dataframe tbody tr th {\n",
       "        vertical-align: top;\n",
       "    }\n",
       "\n",
       "    .dataframe thead th {\n",
       "        text-align: right;\n",
       "    }\n",
       "</style>\n",
       "<table border=\"1\" class=\"dataframe\">\n",
       "  <thead>\n",
       "    <tr style=\"text-align: right;\">\n",
       "      <th></th>\n",
       "      <th>CED_Cu_kWhpkg</th>\n",
       "      <th>PrctFuel</th>\n",
       "      <th>Source</th>\n",
       "      <th>Notes</th>\n",
       "    </tr>\n",
       "    <tr>\n",
       "      <th>year</th>\n",
       "      <th></th>\n",
       "      <th></th>\n",
       "      <th></th>\n",
       "      <th></th>\n",
       "    </tr>\n",
       "  </thead>\n",
       "  <tbody>\n",
       "    <tr>\n",
       "      <th>2000</th>\n",
       "      <td>9.1667</td>\n",
       "      <td>NaN</td>\n",
       "      <td>Rankin, John. 2012. “Energy Use in Metal Produ...</td>\n",
       "      <td>embodied energy, pyro, from Norgate and Rankin...</td>\n",
       "    </tr>\n",
       "    <tr>\n",
       "      <th>2007</th>\n",
       "      <td>9.1660</td>\n",
       "      <td>NaN</td>\n",
       "      <td>Norgate, T. E., S. Jahanshahi, and W. J. Ranki...</td>\n",
       "      <td>GER, cradle to gate of mfg, includes Smelting/...</td>\n",
       "    </tr>\n",
       "    <tr>\n",
       "      <th>2010</th>\n",
       "      <td>19.1670</td>\n",
       "      <td>NaN</td>\n",
       "      <td>Rötzer, Nadine, and Mario Schmidt. 2020. “Hist...</td>\n",
       "      <td>CED for Cu anodes (not wire), pyrometallurgy f...</td>\n",
       "    </tr>\n",
       "    <tr>\n",
       "      <th>2050</th>\n",
       "      <td>16.9000</td>\n",
       "      <td>NaN</td>\n",
       "      <td>Rötzer, Nadine, and Mario Schmidt. 2020. “Hist...</td>\n",
       "      <td>copper cathode, assumes 0.5% ore grade and 100...</td>\n",
       "    </tr>\n",
       "  </tbody>\n",
       "</table>\n",
       "</div>"
      ],
      "text/plain": [
       "      CED_Cu_kWhpkg  PrctFuel  \\\n",
       "year                            \n",
       "2000         9.1667       NaN   \n",
       "2007         9.1660       NaN   \n",
       "2010        19.1670       NaN   \n",
       "2050        16.9000       NaN   \n",
       "\n",
       "                                                 Source  \\\n",
       "year                                                      \n",
       "2000  Rankin, John. 2012. “Energy Use in Metal Produ...   \n",
       "2007  Norgate, T. E., S. Jahanshahi, and W. J. Ranki...   \n",
       "2010  Rötzer, Nadine, and Mario Schmidt. 2020. “Hist...   \n",
       "2050  Rötzer, Nadine, and Mario Schmidt. 2020. “Hist...   \n",
       "\n",
       "                                                  Notes  \n",
       "year                                                     \n",
       "2000  embodied energy, pyro, from Norgate and Rankin...  \n",
       "2007  GER, cradle to gate of mfg, includes Smelting/...  \n",
       "2010  CED for Cu anodes (not wire), pyrometallurgy f...  \n",
       "2050  copper cathode, assumes 0.5% ore grade and 100...  "
      ]
     },
     "execution_count": 9,
     "metadata": {},
     "output_type": "execute_result"
    }
   ],
   "source": [
    "#find pyro data\n",
    "cu_CED_trim = cu_CED_raw.dropna(how='all')\n",
    "cu_CED_trim_pyro = cu_CED_trim[cu_CED_trim['Notes'].str.contains('pyro')]\n",
    "cu_CED_trim_pyro#.index"
   ]
  },
  {
   "cell_type": "code",
   "execution_count": 10,
   "id": "6aded3b7",
   "metadata": {},
   "outputs": [
    {
     "data": {
      "text/html": [
       "<div>\n",
       "<style scoped>\n",
       "    .dataframe tbody tr th:only-of-type {\n",
       "        vertical-align: middle;\n",
       "    }\n",
       "\n",
       "    .dataframe tbody tr th {\n",
       "        vertical-align: top;\n",
       "    }\n",
       "\n",
       "    .dataframe thead th {\n",
       "        text-align: right;\n",
       "    }\n",
       "</style>\n",
       "<table border=\"1\" class=\"dataframe\">\n",
       "  <thead>\n",
       "    <tr style=\"text-align: right;\">\n",
       "      <th></th>\n",
       "      <th>CED_Cu_kWhpkg</th>\n",
       "      <th>PrctFuel</th>\n",
       "      <th>Source</th>\n",
       "      <th>Notes</th>\n",
       "    </tr>\n",
       "    <tr>\n",
       "      <th>year</th>\n",
       "      <th></th>\n",
       "      <th></th>\n",
       "      <th></th>\n",
       "      <th></th>\n",
       "    </tr>\n",
       "  </thead>\n",
       "  <tbody>\n",
       "    <tr>\n",
       "      <th>2001</th>\n",
       "      <td>17.917</td>\n",
       "      <td>NaN</td>\n",
       "      <td>Rankin, John. 2012. “Energy Use in Metal Produ...</td>\n",
       "      <td>embodied energy, hydro, from Norgate and Ranki...</td>\n",
       "    </tr>\n",
       "    <tr>\n",
       "      <th>2005</th>\n",
       "      <td>14.900</td>\n",
       "      <td>20.0</td>\n",
       "      <td>Marsden, John O. “Energy Efficiency &amp; Copper H...</td>\n",
       "      <td>Slide 33+35, 35% SX/EW 65% Concentrate, assume...</td>\n",
       "    </tr>\n",
       "  </tbody>\n",
       "</table>\n",
       "</div>"
      ],
      "text/plain": [
       "      CED_Cu_kWhpkg  PrctFuel  \\\n",
       "year                            \n",
       "2001         17.917       NaN   \n",
       "2005         14.900      20.0   \n",
       "\n",
       "                                                 Source  \\\n",
       "year                                                      \n",
       "2001  Rankin, John. 2012. “Energy Use in Metal Produ...   \n",
       "2005  Marsden, John O. “Energy Efficiency & Copper H...   \n",
       "\n",
       "                                                  Notes  \n",
       "year                                                     \n",
       "2001  embodied energy, hydro, from Norgate and Ranki...  \n",
       "2005  Slide 33+35, 35% SX/EW 65% Concentrate, assume...  "
      ]
     },
     "execution_count": 10,
     "metadata": {},
     "output_type": "execute_result"
    }
   ],
   "source": [
    "#find hydro data\n",
    "cu_CED_trim_hydro = cu_CED_trim[cu_CED_trim['Notes'].str.contains('hydro')]\n",
    "cu_CED_trim_hydro#.index"
   ]
  },
  {
   "cell_type": "code",
   "execution_count": 11,
   "id": "473a3f78",
   "metadata": {},
   "outputs": [
    {
     "data": {
      "text/plain": [
       "Text(0, 0.5, 'kWh/kg')"
      ]
     },
     "execution_count": 11,
     "metadata": {},
     "output_type": "execute_result"
    },
    {
     "data": {
      "image/png": "[encoded data removed]",
      "text/plain": [
       "<Figure size 800x400 with 1 Axes>"
      ]
     },
     "metadata": {},
     "output_type": "display_data"
    }
   ],
   "source": [
    "plt.scatter(cu_CED_raw.index, cu_CED_raw['CED_Cu_kWhpkg'], marker='o')\n",
    "plt.scatter(cu_CED_trim_pyro.index, cu_CED_trim_pyro['CED_Cu_kWhpkg'], marker='o')\n",
    "plt.scatter(cu_CED_trim_hydro.index, cu_CED_trim_hydro['CED_Cu_kWhpkg'], marker='o')\n",
    "\n",
    "plt.ylim(0,)\n",
    "plt.title('CED_Cu_kWhpkg')\n",
    "plt.ylabel('kWh/kg')"
   ]
  },
  {
   "cell_type": "markdown",
   "id": "02476cec",
   "metadata": {},
   "source": [
    "Another way to go about the calculation of energy for primary Cu is to use the relationship between ore grade and energy demands. These appear regularly in literature, and history+projections of ore grade over time exist."
   ]
  },
  {
   "cell_type": "code",
   "execution_count": null,
   "id": "538da8da",
   "metadata": {},
   "outputs": [],
   "source": []
  },
  {
   "cell_type": "code",
   "execution_count": null,
   "id": "ccbf5339",
   "metadata": {},
   "outputs": [],
   "source": []
  },
  {
   "cell_type": "code",
   "execution_count": null,
   "id": "d7ff33ec",
   "metadata": {},
   "outputs": [],
   "source": []
  }
 ],
 "metadata": {
  "kernelspec": {
   "display_name": "Python 3 (ipykernel)",
   "language": "python",
   "name": "python3"
  },
  "language_info": {
   "codemirror_mode": {
    "name": "ipython",
    "version": 3
   },
   "file_extension": ".py",
   "mimetype": "text/x-python",
   "name": "python",
   "nbconvert_exporter": "python",
   "pygments_lexer": "ipython3",
   "version": "3.8.8"
  }
 },
 "nbformat": 4,
 "nbformat_minor": 5
}
