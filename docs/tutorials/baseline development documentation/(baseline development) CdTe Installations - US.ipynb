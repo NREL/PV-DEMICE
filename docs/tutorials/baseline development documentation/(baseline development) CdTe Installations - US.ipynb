{
 "cells": [
  {
   "cell_type": "markdown",
   "metadata": {},
   "source": [
    "# Calculations for PV CdTe installs, CdTe Market Share"
   ]
  },
  {
   "cell_type": "markdown",
   "metadata": {},
   "source": [
    "This journal documents the manipulation of CdTe PV installation data for US installs. This covers selection of data, and weighting by marketshare."
   ]
  },
  {
   "cell_type": "code",
   "execution_count": 1,
   "metadata": {},
   "outputs": [],
   "source": [
    "import numpy as np\n",
    "import pandas as pd\n",
    "import os,sys\n",
    "from pathlib import Path\n",
    "import matplotlib.pyplot as plt\n",
    "import seaborn as sns"
   ]
  },
  {
   "cell_type": "code",
   "execution_count": 2,
   "metadata": {},
   "outputs": [
    {
     "data": {
      "text/plain": [
       "'/Users/mmendez/Documents/Postdoc/Software_dev/PV_ICE/PV_ICE/baselines/SupportingMaterial'"
      ]
     },
     "execution_count": 2,
     "metadata": {},
     "output_type": "execute_result"
    }
   ],
   "source": [
    "sns.set_style(\"white\")\n",
    "\n",
    "plt.rcParams.update({'font.size': 28})\n",
    "plt.rcParams['figure.figsize'] = (30, 15)\n",
    "\n",
    "cwd = os.getcwd() #grabs current working directory\n",
    "\n",
    "supportMatfolder = str(Path().resolve().parent.parent.parent / 'PV_ICE' / 'baselines' / 'SupportingMaterial')\n",
    "supportMatfolder\n"
   ]
  },
  {
   "cell_type": "markdown",
   "metadata": {},
   "source": [
    "#### Load new PV capacity generated from 2013 to 2020 by [eia](https://www.eia.gov/electricity/generatorcosts/)"
   ]
  },
  {
   "cell_type": "code",
   "execution_count": 37,
   "metadata": {},
   "outputs": [],
   "source": [
    "cwd = os.getcwd()\n",
    "supportMatfolder\n",
    "df_cdte_installs = pd.read_excel(os.path.join(supportMatfolder, 'RELOG_PV_ICE.xlsx'), sheet_name='CdTe_Market_Sare', index_col='Year')"
   ]
  },
  {
   "cell_type": "code",
   "execution_count": 38,
   "metadata": {},
   "outputs": [
    {
     "data": {
      "text/plain": [
       "Index(['Technology', 'Average new capacity  at new plants (MW)',\n",
       "       'Average new capacity  at existing plants (MW)',\n",
       "       'Total new capacity (MW)'],\n",
       "      dtype='object')"
      ]
     },
     "execution_count": 38,
     "metadata": {},
     "output_type": "execute_result"
    }
   ],
   "source": [
    "df_cdte_installs.columns"
   ]
  },
  {
   "cell_type": "code",
   "execution_count": 39,
   "metadata": {},
   "outputs": [
    {
     "data": {
      "text/html": [
       "<div>\n",
       "<style scoped>\n",
       "    .dataframe tbody tr th:only-of-type {\n",
       "        vertical-align: middle;\n",
       "    }\n",
       "\n",
       "    .dataframe tbody tr th {\n",
       "        vertical-align: top;\n",
       "    }\n",
       "\n",
       "    .dataframe thead th {\n",
       "        text-align: right;\n",
       "    }\n",
       "</style>\n",
       "<table border=\"1\" class=\"dataframe\">\n",
       "  <thead>\n",
       "    <tr style=\"text-align: right;\">\n",
       "      <th></th>\n",
       "      <th>Technology</th>\n",
       "      <th>Total new capacity (MW)</th>\n",
       "    </tr>\n",
       "    <tr>\n",
       "      <th>Year</th>\n",
       "      <th></th>\n",
       "      <th></th>\n",
       "    </tr>\n",
       "  </thead>\n",
       "  <tbody>\n",
       "    <tr>\n",
       "      <th>2013</th>\n",
       "      <td>Crystalline silicon</td>\n",
       "      <td>7.894536</td>\n",
       "    </tr>\n",
       "    <tr>\n",
       "      <th>2013</th>\n",
       "      <td>Thin film</td>\n",
       "      <td>66.050000</td>\n",
       "    </tr>\n",
       "    <tr>\n",
       "      <th>2014</th>\n",
       "      <td>Crystalline silicon, fixed tilt</td>\n",
       "      <td>5.000000</td>\n",
       "    </tr>\n",
       "    <tr>\n",
       "      <th>2014</th>\n",
       "      <td>Crystalline silicon, axis-based tracking</td>\n",
       "      <td>16.000000</td>\n",
       "    </tr>\n",
       "    <tr>\n",
       "      <th>2014</th>\n",
       "      <td>Thin-film CdTe, all types</td>\n",
       "      <td>42.000000</td>\n",
       "    </tr>\n",
       "    <tr>\n",
       "      <th>2015</th>\n",
       "      <td>Crystalline silicon, fixed tilt</td>\n",
       "      <td>5.000000</td>\n",
       "    </tr>\n",
       "    <tr>\n",
       "      <th>2015</th>\n",
       "      <td>Crystalline silicon, axis-based tracking</td>\n",
       "      <td>19.000000</td>\n",
       "    </tr>\n",
       "    <tr>\n",
       "      <th>2015</th>\n",
       "      <td>Thin-film CdTe, fixed tilt</td>\n",
       "      <td>26.000000</td>\n",
       "    </tr>\n",
       "    <tr>\n",
       "      <th>2015</th>\n",
       "      <td>Thin-film CdTe, axis-based tracking</td>\n",
       "      <td>29.000000</td>\n",
       "    </tr>\n",
       "    <tr>\n",
       "      <th>2015</th>\n",
       "      <td>Other</td>\n",
       "      <td>6.000000</td>\n",
       "    </tr>\n",
       "    <tr>\n",
       "      <th>2015</th>\n",
       "      <td>Crystalline silicon, fixed tilt</td>\n",
       "      <td>6.000000</td>\n",
       "    </tr>\n",
       "    <tr>\n",
       "      <th>2016</th>\n",
       "      <td>Crystalline silicon, axis-based tracking</td>\n",
       "      <td>33.000000</td>\n",
       "    </tr>\n",
       "    <tr>\n",
       "      <th>2016</th>\n",
       "      <td>Thin-film CdTe, fixed tilt</td>\n",
       "      <td>29.000000</td>\n",
       "    </tr>\n",
       "    <tr>\n",
       "      <th>2016</th>\n",
       "      <td>Thin-film CdTe, axis-based tracking</td>\n",
       "      <td>48.000000</td>\n",
       "    </tr>\n",
       "    <tr>\n",
       "      <th>2016</th>\n",
       "      <td>Other</td>\n",
       "      <td>25.000000</td>\n",
       "    </tr>\n",
       "    <tr>\n",
       "      <th>2017</th>\n",
       "      <td>Crystalline silicon, fixed tilt</td>\n",
       "      <td>6.000000</td>\n",
       "    </tr>\n",
       "    <tr>\n",
       "      <th>2017</th>\n",
       "      <td>Crystalline silicon, axis-based tracking</td>\n",
       "      <td>17.000000</td>\n",
       "    </tr>\n",
       "    <tr>\n",
       "      <th>2017</th>\n",
       "      <td>Thin-film CdTe, fixed tilt</td>\n",
       "      <td>11.000000</td>\n",
       "    </tr>\n",
       "    <tr>\n",
       "      <th>2017</th>\n",
       "      <td>Thin-film CdTe, axis-based tracking</td>\n",
       "      <td>46.000000</td>\n",
       "    </tr>\n",
       "    <tr>\n",
       "      <th>2017</th>\n",
       "      <td>Other</td>\n",
       "      <td>9.000000</td>\n",
       "    </tr>\n",
       "    <tr>\n",
       "      <th>2018</th>\n",
       "      <td>Crystalline silicon, fixed tilt</td>\n",
       "      <td>7.000000</td>\n",
       "    </tr>\n",
       "    <tr>\n",
       "      <th>2018</th>\n",
       "      <td>Crystalline silicon, axis-based tracking</td>\n",
       "      <td>18.000000</td>\n",
       "    </tr>\n",
       "    <tr>\n",
       "      <th>2018</th>\n",
       "      <td>Thin-film CdTe, fixed tilt</td>\n",
       "      <td>3.000000</td>\n",
       "    </tr>\n",
       "    <tr>\n",
       "      <th>2018</th>\n",
       "      <td>Thin-film CdTe, axis-based tracking</td>\n",
       "      <td>48.000000</td>\n",
       "    </tr>\n",
       "    <tr>\n",
       "      <th>2018</th>\n",
       "      <td>Other</td>\n",
       "      <td>12.000000</td>\n",
       "    </tr>\n",
       "    <tr>\n",
       "      <th>2019</th>\n",
       "      <td>Crystalline silicon, fixed tilt</td>\n",
       "      <td>5.000000</td>\n",
       "    </tr>\n",
       "    <tr>\n",
       "      <th>2019</th>\n",
       "      <td>Crystalline silicon, axis-based tracking</td>\n",
       "      <td>13.000000</td>\n",
       "    </tr>\n",
       "    <tr>\n",
       "      <th>2019</th>\n",
       "      <td>Thin-film CdTe, fixed tilt</td>\n",
       "      <td>10.000000</td>\n",
       "    </tr>\n",
       "    <tr>\n",
       "      <th>2019</th>\n",
       "      <td>Thin-film CdTe, axis-based tracking</td>\n",
       "      <td>39.000000</td>\n",
       "    </tr>\n",
       "    <tr>\n",
       "      <th>2019</th>\n",
       "      <td>Other</td>\n",
       "      <td>14.000000</td>\n",
       "    </tr>\n",
       "    <tr>\n",
       "      <th>2020</th>\n",
       "      <td>Crystalline silicon, fixed tilt</td>\n",
       "      <td>6.000000</td>\n",
       "    </tr>\n",
       "    <tr>\n",
       "      <th>2020</th>\n",
       "      <td>Crystalline silicon, axis-based tracking</td>\n",
       "      <td>24.000000</td>\n",
       "    </tr>\n",
       "    <tr>\n",
       "      <th>2020</th>\n",
       "      <td>Thin-film CdTe, fixed tilt</td>\n",
       "      <td>19.000000</td>\n",
       "    </tr>\n",
       "    <tr>\n",
       "      <th>2020</th>\n",
       "      <td>Thin-film CdTe, axis-based tracking</td>\n",
       "      <td>53.000000</td>\n",
       "    </tr>\n",
       "    <tr>\n",
       "      <th>2020</th>\n",
       "      <td>Other</td>\n",
       "      <td>13.000000</td>\n",
       "    </tr>\n",
       "  </tbody>\n",
       "</table>\n",
       "</div>"
      ],
      "text/plain": [
       "                                    Technology  Total new capacity (MW)\n",
       "Year                                                                   \n",
       "2013                       Crystalline silicon                 7.894536\n",
       "2013                                 Thin film                66.050000\n",
       "2014           Crystalline silicon, fixed tilt                 5.000000\n",
       "2014  Crystalline silicon, axis-based tracking                16.000000\n",
       "2014                 Thin-film CdTe, all types                42.000000\n",
       "2015           Crystalline silicon, fixed tilt                 5.000000\n",
       "2015  Crystalline silicon, axis-based tracking                19.000000\n",
       "2015                Thin-film CdTe, fixed tilt                26.000000\n",
       "2015       Thin-film CdTe, axis-based tracking                29.000000\n",
       "2015                                     Other                 6.000000\n",
       "2015           Crystalline silicon, fixed tilt                 6.000000\n",
       "2016  Crystalline silicon, axis-based tracking                33.000000\n",
       "2016                Thin-film CdTe, fixed tilt                29.000000\n",
       "2016       Thin-film CdTe, axis-based tracking                48.000000\n",
       "2016                                     Other                25.000000\n",
       "2017           Crystalline silicon, fixed tilt                 6.000000\n",
       "2017  Crystalline silicon, axis-based tracking                17.000000\n",
       "2017                Thin-film CdTe, fixed tilt                11.000000\n",
       "2017       Thin-film CdTe, axis-based tracking                46.000000\n",
       "2017                                     Other                 9.000000\n",
       "2018           Crystalline silicon, fixed tilt                 7.000000\n",
       "2018  Crystalline silicon, axis-based tracking                18.000000\n",
       "2018                Thin-film CdTe, fixed tilt                 3.000000\n",
       "2018       Thin-film CdTe, axis-based tracking                48.000000\n",
       "2018                                     Other                12.000000\n",
       "2019           Crystalline silicon, fixed tilt                 5.000000\n",
       "2019  Crystalline silicon, axis-based tracking                13.000000\n",
       "2019                Thin-film CdTe, fixed tilt                10.000000\n",
       "2019       Thin-film CdTe, axis-based tracking                39.000000\n",
       "2019                                     Other                14.000000\n",
       "2020           Crystalline silicon, fixed tilt                 6.000000\n",
       "2020  Crystalline silicon, axis-based tracking                24.000000\n",
       "2020                Thin-film CdTe, fixed tilt                19.000000\n",
       "2020       Thin-film CdTe, axis-based tracking                53.000000\n",
       "2020                                     Other                13.000000"
      ]
     },
     "execution_count": 39,
     "metadata": {},
     "output_type": "execute_result"
    }
   ],
   "source": [
    "df_cdte_installs_total = df_cdte_installs.drop(['Average new capacity  at new plants (MW)', 'Average new capacity  at existing plants (MW)'], axis=1)\n",
    "df_cdte_installs_total"
   ]
  },
  {
   "cell_type": "code",
   "execution_count": 40,
   "metadata": {},
   "outputs": [
    {
     "data": {
      "text/plain": [
       "<matplotlib.legend.Legend at 0x141190940>"
      ]
     },
     "execution_count": 40,
     "metadata": {},
     "output_type": "execute_result"
    },
    {
     "data": {
      "image/png": "[encoded data removed]",
      "text/plain": [
       "<Figure size 432x288 with 1 Axes>"
      ]
     },
     "metadata": {
      "needs_background": "light"
     },
     "output_type": "display_data"
    }
   ],
   "source": [
    "sns.lineplot(x=df_cdte_installs_total.index, y='Total new capacity (MW)', hue='Technology', data=df_cdte_installs_total)\n",
    "plt.legend(bbox_to_anchor=(1.05, 1), loc='upper left', borderaxespad=0, frameon=False)"
   ]
  },
  {
   "cell_type": "code",
   "execution_count": 41,
   "metadata": {
    "jupyter": {
     "source_hidden": true
    },
    "tags": []
   },
   "outputs": [
    {
     "name": "stdout",
     "output_type": "stream",
     "text": [
      "4\n"
     ]
    },
    {
     "data": {
      "text/html": [
       "<div>\n",
       "<style scoped>\n",
       "    .dataframe tbody tr th:only-of-type {\n",
       "        vertical-align: middle;\n",
       "    }\n",
       "\n",
       "    .dataframe tbody tr th {\n",
       "        vertical-align: top;\n",
       "    }\n",
       "\n",
       "    .dataframe thead th {\n",
       "        text-align: right;\n",
       "    }\n",
       "</style>\n",
       "<table border=\"1\" class=\"dataframe\">\n",
       "  <thead>\n",
       "    <tr style=\"text-align: right;\">\n",
       "      <th></th>\n",
       "      <th>IRENA online query tool (https://public.tableau.com/views/IRENARETimeSeries/Charts?:embed=y&amp;:showVizHome=no&amp;publish=yes&amp;:toolbar=no)</th>\n",
       "      <th>IEA Member Country Report, 1995 (https://iea-pvps.org/wp-content/uploads/2020/01/tr_1995_01.pdf)</th>\n",
       "      <th>IEA PVPS Task 1 Market Snapshot Reports https://iea-pvps.org/snapshot-reports/</th>\n",
       "      <th>A. Goetzberger, C. Hebling, and H.-W. Schock, “Photovoltaic materials, history, status and outlook,” Materials Science and Engineering: R: Reports, vol. 40, no. 1, pp. 1–46, Jan. 2003, doi: 10.1016/S0927-796X(02)00092-X.</th>\n",
       "    </tr>\n",
       "    <tr>\n",
       "      <th>Year</th>\n",
       "      <th></th>\n",
       "      <th></th>\n",
       "      <th></th>\n",
       "      <th></th>\n",
       "    </tr>\n",
       "  </thead>\n",
       "  <tbody>\n",
       "    <tr>\n",
       "      <th>1990</th>\n",
       "      <td>NaN</td>\n",
       "      <td>NaN</td>\n",
       "      <td>NaN</td>\n",
       "      <td>NaN</td>\n",
       "    </tr>\n",
       "    <tr>\n",
       "      <th>1991</th>\n",
       "      <td>NaN</td>\n",
       "      <td>14.1</td>\n",
       "      <td>NaN</td>\n",
       "      <td>NaN</td>\n",
       "    </tr>\n",
       "    <tr>\n",
       "      <th>1992</th>\n",
       "      <td>NaN</td>\n",
       "      <td>24.9</td>\n",
       "      <td>NaN</td>\n",
       "      <td>57.9</td>\n",
       "    </tr>\n",
       "    <tr>\n",
       "      <th>1993</th>\n",
       "      <td>NaN</td>\n",
       "      <td>24.1</td>\n",
       "      <td>NaN</td>\n",
       "      <td>60.1</td>\n",
       "    </tr>\n",
       "    <tr>\n",
       "      <th>1994</th>\n",
       "      <td>NaN</td>\n",
       "      <td>27.0</td>\n",
       "      <td>NaN</td>\n",
       "      <td>69.4</td>\n",
       "    </tr>\n",
       "    <tr>\n",
       "      <th>...</th>\n",
       "      <td>...</td>\n",
       "      <td>...</td>\n",
       "      <td>...</td>\n",
       "      <td>...</td>\n",
       "    </tr>\n",
       "    <tr>\n",
       "      <th>2046</th>\n",
       "      <td>NaN</td>\n",
       "      <td>NaN</td>\n",
       "      <td>NaN</td>\n",
       "      <td>NaN</td>\n",
       "    </tr>\n",
       "    <tr>\n",
       "      <th>2047</th>\n",
       "      <td>NaN</td>\n",
       "      <td>NaN</td>\n",
       "      <td>NaN</td>\n",
       "      <td>NaN</td>\n",
       "    </tr>\n",
       "    <tr>\n",
       "      <th>2048</th>\n",
       "      <td>NaN</td>\n",
       "      <td>NaN</td>\n",
       "      <td>NaN</td>\n",
       "      <td>NaN</td>\n",
       "    </tr>\n",
       "    <tr>\n",
       "      <th>2049</th>\n",
       "      <td>NaN</td>\n",
       "      <td>NaN</td>\n",
       "      <td>NaN</td>\n",
       "      <td>NaN</td>\n",
       "    </tr>\n",
       "    <tr>\n",
       "      <th>2050</th>\n",
       "      <td>NaN</td>\n",
       "      <td>NaN</td>\n",
       "      <td>NaN</td>\n",
       "      <td>NaN</td>\n",
       "    </tr>\n",
       "  </tbody>\n",
       "</table>\n",
       "<p>61 rows × 4 columns</p>\n",
       "</div>"
      ],
      "text/plain": [
       "      IRENA online query tool (https://public.tableau.com/views/IRENARETimeSeries/Charts?:embed=y&:showVizHome=no&publish=yes&:toolbar=no)  \\\n",
       "Year                                                                                                                                         \n",
       "1990                                                NaN                                                                                      \n",
       "1991                                                NaN                                                                                      \n",
       "1992                                                NaN                                                                                      \n",
       "1993                                                NaN                                                                                      \n",
       "1994                                                NaN                                                                                      \n",
       "...                                                 ...                                                                                      \n",
       "2046                                                NaN                                                                                      \n",
       "2047                                                NaN                                                                                      \n",
       "2048                                                NaN                                                                                      \n",
       "2049                                                NaN                                                                                      \n",
       "2050                                                NaN                                                                                      \n",
       "\n",
       "      IEA Member Country Report, 1995 (https://iea-pvps.org/wp-content/uploads/2020/01/tr_1995_01.pdf)  \\\n",
       "Year                                                                                                     \n",
       "1990                                                NaN                                                  \n",
       "1991                                               14.1                                                  \n",
       "1992                                               24.9                                                  \n",
       "1993                                               24.1                                                  \n",
       "1994                                               27.0                                                  \n",
       "...                                                 ...                                                  \n",
       "2046                                                NaN                                                  \n",
       "2047                                                NaN                                                  \n",
       "2048                                                NaN                                                  \n",
       "2049                                                NaN                                                  \n",
       "2050                                                NaN                                                  \n",
       "\n",
       "      IEA PVPS Task 1 Market Snapshot Reports https://iea-pvps.org/snapshot-reports/  \\\n",
       "Year                                                                                   \n",
       "1990                                                NaN                                \n",
       "1991                                                NaN                                \n",
       "1992                                                NaN                                \n",
       "1993                                                NaN                                \n",
       "1994                                                NaN                                \n",
       "...                                                 ...                                \n",
       "2046                                                NaN                                \n",
       "2047                                                NaN                                \n",
       "2048                                                NaN                                \n",
       "2049                                                NaN                                \n",
       "2050                                                NaN                                \n",
       "\n",
       "      A. Goetzberger, C. Hebling, and H.-W. Schock, “Photovoltaic materials, history, status and outlook,” Materials Science and Engineering: R: Reports, vol. 40, no. 1, pp. 1–46, Jan. 2003, doi: 10.1016/S0927-796X(02)00092-X.  \n",
       "Year                                                                                                                                                                                                                                \n",
       "1990                                                NaN                                                                                                                                                                             \n",
       "1991                                                NaN                                                                                                                                                                             \n",
       "1992                                               57.9                                                                                                                                                                             \n",
       "1993                                               60.1                                                                                                                                                                             \n",
       "1994                                               69.4                                                                                                                                                                             \n",
       "...                                                 ...                                                                                                                                                                             \n",
       "2046                                                NaN                                                                                                                                                                             \n",
       "2047                                                NaN                                                                                                                                                                             \n",
       "2048                                                NaN                                                                                                                                                                             \n",
       "2049                                                NaN                                                                                                                                                                             \n",
       "2050                                                NaN                                                                                                                                                                             \n",
       "\n",
       "[61 rows x 4 columns]"
      ]
     },
     "execution_count": 41,
     "metadata": {},
     "output_type": "execute_result"
    }
   ],
   "source": [
    "cwd = os.getcwd() #grabs current working directory\n",
    "df_installs_raw = pd.read_csv(os.path.join(supportMatfolder,'PVInstalls_World_AllSources.csv'), index_col='Year')\n",
    "sources = df_installs_raw.columns\n",
    "print(len(sources))\n",
    "df_installs_raw"
   ]
  },
  {
   "cell_type": "code",
   "execution_count": 8,
   "metadata": {},
   "outputs": [
    {
     "data": {
      "text/plain": [
       "'Thin film'"
      ]
     },
     "execution_count": 8,
     "metadata": {},
     "output_type": "execute_result"
    }
   ],
   "source": [
    "df_cdte_installs_total['Technology'].iloc[1]"
   ]
  },
  {
   "cell_type": "code",
   "execution_count": 15,
   "metadata": {},
   "outputs": [],
   "source": [
    "df_cdte_installs_total.loc[(df_cdte_installs_total['Technology'] == 'Crystalline silicon') |\n",
    "                           (df_cdte_installs_total['Technology'] == 'Crystalline silicon, fixed tilt') |\n",
    "                           (df_cdte_installs_total['Technology'] == 'Crystalline silicon, axis-based tracking'), 'Technology'] = 'c-Si'\n",
    "df_cdte_installs_total.loc[(df_cdte_installs_total['Technology'] == 'Thin-film CdTe, all types') |\n",
    "                           (df_cdte_installs_total['Technology'] == 'Thin-film CdTe, fixed tilt') |\n",
    "                           (df_cdte_installs_total['Technology'] == 'Thin-film CdTe, axis-based tracking'), 'Technology'] = 'CdTe'\n"
   ]
  },
  {
   "cell_type": "code",
   "execution_count": 34,
   "metadata": {},
   "outputs": [
    {
     "data": {
      "text/html": [
       "<div>\n",
       "<style scoped>\n",
       "    .dataframe tbody tr th:only-of-type {\n",
       "        vertical-align: middle;\n",
       "    }\n",
       "\n",
       "    .dataframe tbody tr th {\n",
       "        vertical-align: top;\n",
       "    }\n",
       "\n",
       "    .dataframe thead th {\n",
       "        text-align: right;\n",
       "    }\n",
       "</style>\n",
       "<table border=\"1\" class=\"dataframe\">\n",
       "  <thead>\n",
       "    <tr style=\"text-align: right;\">\n",
       "      <th></th>\n",
       "      <th>Year</th>\n",
       "      <th>Technology</th>\n",
       "      <th>Total new capacity (MW)</th>\n",
       "    </tr>\n",
       "  </thead>\n",
       "  <tbody>\n",
       "    <tr>\n",
       "      <th>0</th>\n",
       "      <td>2013</td>\n",
       "      <td>Thin film</td>\n",
       "      <td>66.050000</td>\n",
       "    </tr>\n",
       "    <tr>\n",
       "      <th>1</th>\n",
       "      <td>2013</td>\n",
       "      <td>c-Si</td>\n",
       "      <td>7.894536</td>\n",
       "    </tr>\n",
       "    <tr>\n",
       "      <th>2</th>\n",
       "      <td>2014</td>\n",
       "      <td>CdTe</td>\n",
       "      <td>42.000000</td>\n",
       "    </tr>\n",
       "    <tr>\n",
       "      <th>3</th>\n",
       "      <td>2014</td>\n",
       "      <td>c-Si</td>\n",
       "      <td>21.000000</td>\n",
       "    </tr>\n",
       "    <tr>\n",
       "      <th>4</th>\n",
       "      <td>2015</td>\n",
       "      <td>CdTe</td>\n",
       "      <td>55.000000</td>\n",
       "    </tr>\n",
       "    <tr>\n",
       "      <th>5</th>\n",
       "      <td>2015</td>\n",
       "      <td>Other</td>\n",
       "      <td>6.000000</td>\n",
       "    </tr>\n",
       "    <tr>\n",
       "      <th>6</th>\n",
       "      <td>2015</td>\n",
       "      <td>c-Si</td>\n",
       "      <td>30.000000</td>\n",
       "    </tr>\n",
       "    <tr>\n",
       "      <th>7</th>\n",
       "      <td>2016</td>\n",
       "      <td>CdTe</td>\n",
       "      <td>77.000000</td>\n",
       "    </tr>\n",
       "    <tr>\n",
       "      <th>8</th>\n",
       "      <td>2016</td>\n",
       "      <td>Other</td>\n",
       "      <td>25.000000</td>\n",
       "    </tr>\n",
       "    <tr>\n",
       "      <th>9</th>\n",
       "      <td>2016</td>\n",
       "      <td>c-Si</td>\n",
       "      <td>33.000000</td>\n",
       "    </tr>\n",
       "    <tr>\n",
       "      <th>10</th>\n",
       "      <td>2017</td>\n",
       "      <td>CdTe</td>\n",
       "      <td>57.000000</td>\n",
       "    </tr>\n",
       "    <tr>\n",
       "      <th>11</th>\n",
       "      <td>2017</td>\n",
       "      <td>Other</td>\n",
       "      <td>9.000000</td>\n",
       "    </tr>\n",
       "    <tr>\n",
       "      <th>12</th>\n",
       "      <td>2017</td>\n",
       "      <td>c-Si</td>\n",
       "      <td>23.000000</td>\n",
       "    </tr>\n",
       "    <tr>\n",
       "      <th>13</th>\n",
       "      <td>2018</td>\n",
       "      <td>CdTe</td>\n",
       "      <td>51.000000</td>\n",
       "    </tr>\n",
       "    <tr>\n",
       "      <th>14</th>\n",
       "      <td>2018</td>\n",
       "      <td>Other</td>\n",
       "      <td>12.000000</td>\n",
       "    </tr>\n",
       "    <tr>\n",
       "      <th>15</th>\n",
       "      <td>2018</td>\n",
       "      <td>c-Si</td>\n",
       "      <td>25.000000</td>\n",
       "    </tr>\n",
       "    <tr>\n",
       "      <th>16</th>\n",
       "      <td>2019</td>\n",
       "      <td>CdTe</td>\n",
       "      <td>49.000000</td>\n",
       "    </tr>\n",
       "    <tr>\n",
       "      <th>17</th>\n",
       "      <td>2019</td>\n",
       "      <td>Other</td>\n",
       "      <td>14.000000</td>\n",
       "    </tr>\n",
       "    <tr>\n",
       "      <th>18</th>\n",
       "      <td>2019</td>\n",
       "      <td>c-Si</td>\n",
       "      <td>18.000000</td>\n",
       "    </tr>\n",
       "    <tr>\n",
       "      <th>19</th>\n",
       "      <td>2020</td>\n",
       "      <td>CdTe</td>\n",
       "      <td>72.000000</td>\n",
       "    </tr>\n",
       "    <tr>\n",
       "      <th>20</th>\n",
       "      <td>2020</td>\n",
       "      <td>Other</td>\n",
       "      <td>13.000000</td>\n",
       "    </tr>\n",
       "    <tr>\n",
       "      <th>21</th>\n",
       "      <td>2020</td>\n",
       "      <td>c-Si</td>\n",
       "      <td>30.000000</td>\n",
       "    </tr>\n",
       "  </tbody>\n",
       "</table>\n",
       "</div>"
      ],
      "text/plain": [
       "    Year Technology  Total new capacity (MW)\n",
       "0   2013  Thin film                66.050000\n",
       "1   2013       c-Si                 7.894536\n",
       "2   2014       CdTe                42.000000\n",
       "3   2014       c-Si                21.000000\n",
       "4   2015       CdTe                55.000000\n",
       "5   2015      Other                 6.000000\n",
       "6   2015       c-Si                30.000000\n",
       "7   2016       CdTe                77.000000\n",
       "8   2016      Other                25.000000\n",
       "9   2016       c-Si                33.000000\n",
       "10  2017       CdTe                57.000000\n",
       "11  2017      Other                 9.000000\n",
       "12  2017       c-Si                23.000000\n",
       "13  2018       CdTe                51.000000\n",
       "14  2018      Other                12.000000\n",
       "15  2018       c-Si                25.000000\n",
       "16  2019       CdTe                49.000000\n",
       "17  2019      Other                14.000000\n",
       "18  2019       c-Si                18.000000\n",
       "19  2020       CdTe                72.000000\n",
       "20  2020      Other                13.000000\n",
       "21  2020       c-Si                30.000000"
      ]
     },
     "execution_count": 34,
     "metadata": {},
     "output_type": "execute_result"
    }
   ],
   "source": [
    "df_cdte_installs_total_group = df_cdte_installs_total.groupby(['Year', 'Technology']).sum()\n",
    "df_cdte_installs_total_group = df_cdte_installs_total_group.reset_index()\n",
    "df_cdte_installs_total_group"
   ]
  },
  {
   "cell_type": "code",
   "execution_count": 36,
   "metadata": {},
   "outputs": [
    {
     "data": {
      "text/plain": [
       "<AxesSubplot:xlabel='Year', ylabel='Total new capacity (MW)'>"
      ]
     },
     "execution_count": 36,
     "metadata": {},
     "output_type": "execute_result"
    },
    {
     "data": {
      "image/png": "[encoded data removed]",
      "text/plain": [
       "<Figure size 432x288 with 1 Axes>"
      ]
     },
     "metadata": {
      "needs_background": "light"
     },
     "output_type": "display_data"
    }
   ],
   "source": [
    "sns.lineplot(x='Year', y='Total new capacity (MW)', data=df_cdte_installs_total_group, hue='Technology')"
   ]
  },
  {
   "cell_type": "code",
   "execution_count": 11,
   "metadata": {},
   "outputs": [
    {
     "data": {
      "text/plain": [
       "<matplotlib.legend.Legend at 0x140fa5a80>"
      ]
     },
     "execution_count": 11,
     "metadata": {},
     "output_type": "execute_result"
    },
    {
     "data": {
      "image/png": "[encoded data removed]",
      "text/plain": [
       "<Figure size 432x288 with 1 Axes>"
      ]
     },
     "metadata": {
      "needs_background": "light"
     },
     "output_type": "display_data"
    }
   ],
   "source": [
    "plt.plot(df_installs_raw.index,df_installs_raw[sources[0]],lw=4,marker='*',label=sources[0])\n",
    "plt.plot(df_installs_raw.index,df_installs_raw[sources[1]],lw=3,marker='o',label=sources[1])\n",
    "plt.plot(df_installs_raw.index,df_installs_raw[sources[2]],lw=2,marker='o',label=sources[2])\n",
    "plt.plot(df_installs_raw.index,df_installs_raw[sources[3]],lw=2,marker='o',label=sources[3])\n",
    "\n",
    "plt.yscale('log')\n",
    "plt.ylabel('PV Installed (MW)')\n",
    "plt.legend(bbox_to_anchor=(0, 1, 1, 0), loc=\"lower left\")\n",
    "#plt.plot(df_installs_raw, marker='o')"
   ]
  },
  {
   "cell_type": "markdown",
   "metadata": {},
   "source": [
    "# Select the data to use for installs"
   ]
  },
  {
   "cell_type": "markdown",
   "metadata": {},
   "source": [
    "Based on the above graph, we will utilize Goetzberger data through 2000, then IRENA online query tool after 2000."
   ]
  },
  {
   "cell_type": "code",
   "execution_count": 12,
   "metadata": {},
   "outputs": [],
   "source": [
    "#Before 2000 = Goetz\n",
    "installs_old = df_installs_raw.loc[(df_installs_raw.index<=2000) & (df_installs_raw.index>=1995)]\n",
    "installs_old_Goetz = pd.DataFrame(installs_old[sources[3]])\n",
    "installs_old_Goetz.columns = ['installed_pv_MW']\n",
    "\n",
    "#After 2000 = IRENA\n",
    "installs_recent = df_installs_raw.loc[(df_installs_raw.index>2000) & (df_installs_raw.index<2020)]\n",
    "installs_recent_IRENA = pd.DataFrame(installs_recent[sources[0]])\n",
    "installs_recent_IRENA.columns = ['installed_pv_MW']\n",
    "#print(installs_recent_IRENA)"
   ]
  },
  {
   "cell_type": "markdown",
   "metadata": {},
   "source": [
    "### Collect the installation data together into a single df"
   ]
  },
  {
   "cell_type": "code",
   "execution_count": 42,
   "metadata": {},
   "outputs": [
    {
     "data": {
      "text/plain": [
       "Text(0.5, 1.0, 'Installations of PV Globally (MW) since 1995')"
      ]
     },
     "execution_count": 42,
     "metadata": {},
     "output_type": "execute_result"
    },
    {
     "data": {
      "image/png": "[encoded data removed]",
      "text/plain": [
       "<Figure size 432x288 with 1 Axes>"
      ]
     },
     "metadata": {
      "needs_background": "light"
     },
     "output_type": "display_data"
    }
   ],
   "source": [
    "installs = pd.concat([installs_old_Goetz,installs_recent_IRENA])\n",
    "plt.plot(installs)\n",
    "plt.yscale('log')\n",
    "plt.title('Installations of PV Globally (MW) since 1995')"
   ]
  },
  {
   "cell_type": "markdown",
   "metadata": {},
   "source": [
    "# Marketshare weight the installation data for percent of Silicon vs Thin Film"
   ]
  },
  {
   "cell_type": "markdown",
   "metadata": {},
   "source": [
    "In addition to compiling a single installation record for 1995 through the present, this data is total cumulative, but the tool it currently considering crystalline silicon technology only (i.e. mono and multi, but not ribbon or amorphous)."
   ]
  },
  {
   "cell_type": "code",
   "execution_count": null,
   "metadata": {},
   "outputs": [],
   "source": [
    "cwd = os.getcwd() #grabs current working directory\n",
    "df_raw_mrktshr_siVtf = pd.read_csv(os.path.join(supportMatfolder,'MarketShare_global_c-SiVSthinfilm.csv'), index_col='Year')\n",
    "refs = df_raw_mrktshr_siVtf.columns\n",
    "print(len(refs))"
   ]
  },
  {
   "cell_type": "code",
   "execution_count": null,
   "metadata": {},
   "outputs": [],
   "source": [
    "df_raw_mrktshr_siVtf"
   ]
  },
  {
   "cell_type": "code",
   "execution_count": null,
   "metadata": {},
   "outputs": [],
   "source": [
    "plt.rcParams.update({'font.size': 14})\n",
    "plt.rcParams['figure.figsize'] = (12, 6)\n",
    "plt.plot(df_raw_mrktshr_siVtf.index,df_raw_mrktshr_siVtf[refs[0]],marker='o',label=refs[0])\n",
    "plt.plot(df_raw_mrktshr_siVtf.index,df_raw_mrktshr_siVtf[refs[1]],marker='o',label=refs[1])\n",
    "plt.plot(df_raw_mrktshr_siVtf.index,df_raw_mrktshr_siVtf[refs[2]],marker='o',label=refs[2])\n",
    "plt.plot(df_raw_mrktshr_siVtf.index,df_raw_mrktshr_siVtf[refs[3]],marker='o',label=refs[3])\n",
    "plt.legend(bbox_to_anchor=(0, 1, 1, 0), loc=\"lower left\")\n",
    "plt.ylim(50,100)"
   ]
  },
  {
   "cell_type": "markdown",
   "metadata": {},
   "source": [
    "The 2020 Fraunhofer and 2014 Fraunhofer appear to agree reasonably closely, and Mints agrees closely for the amount of time there is overlap. The unknown sourced wikipedia figure doesn't agree until 2010, but given the unknown source, it will be discarded. We will use the Fraunhofer ISE 2020 market share data for the entire time period."
   ]
  },
  {
   "cell_type": "code",
   "execution_count": null,
   "metadata": {},
   "outputs": [],
   "source": [
    "refs"
   ]
  },
  {
   "cell_type": "code",
   "execution_count": null,
   "metadata": {
    "scrolled": true
   },
   "outputs": [],
   "source": [
    "df_mrktshr_global =  pd.DataFrame(df_raw_mrktshr_siVtf[refs[2]]) #select Fraunhofer for historical 1995-2020\n",
    "mrktshr_global = df_mrktshr_global.loc[(df_mrktshr_global.index>=1995)]\n",
    "# use PMints for most recent data\n",
    "mrktshr_global.columns = ['Global_MarketShare']\n",
    "#print(mrktshr_global)"
   ]
  },
  {
   "cell_type": "code",
   "execution_count": null,
   "metadata": {},
   "outputs": [],
   "source": [
    "#convert to decimal\n",
    "mrktshr_global_pct = mrktshr_global/100\n",
    "\n",
    "plt.rcParams['figure.figsize'] = (12, 6)\n",
    "plt.plot(mrktshr_global_pct)\n",
    "plt.title('Global Marketshare of Silicon PV installed since 1995')\n",
    "plt.ylim(0,1.1)"
   ]
  },
  {
   "cell_type": "markdown",
   "metadata": {},
   "source": [
    "# Marketshare weight PV installs by percent Silicon\n",
    "Now we have a marketshare percentage of silicon for 1995 through 2019. We will multiply the PV installs by this silicon marketshare to get the MW of silicon PV installed globally since 1995."
   ]
  },
  {
   "cell_type": "code",
   "execution_count": null,
   "metadata": {},
   "outputs": [],
   "source": [
    "#put the two dataframes together, joining for available data (excludes NANs)\n",
    "dfs = [installs,mrktshr_global_pct]\n",
    "df = pd.concat(dfs, axis=1, join='inner')\n",
    "df_clean = df.dropna()\n",
    "#creates the marketshare weighted c-Si install data\n",
    "world_si_installs = df_clean.agg('prod', axis='columns') \n",
    "\n",
    "#print(us_si_installs)\n",
    "plt.rcParams.update({'font.size': 18})\n",
    "plt.rcParams['figure.figsize'] = (15, 8)\n",
    "plt.plot(installs, label='All Global PV Installed', color='orange')\n",
    "plt.plot(world_si_installs, label='Silicon PV Installed, World', color='blue')\n",
    "plt.yscale('log')\n",
    "plt.title('Silicon PV Installations (MW) Globally, 1995 through 2019')\n",
    "plt.legend()"
   ]
  },
  {
   "cell_type": "code",
   "execution_count": null,
   "metadata": {},
   "outputs": [],
   "source": [
    "world_si_installs.to_csv(cwd+'/../../PV_ICE/baselines/SupportingMaterial/output_Global_SiPV_installs.csv', index=True)"
   ]
  },
  {
   "cell_type": "markdown",
   "metadata": {},
   "source": [
    "This data only takes installs through 2019. For the remaining years through 2050, a compound annual growth rate of 8.9% was used to predict increasing installations. This compound annual growth rate was sourced from IRENA 2016 EoL Mangement Report and IRENA 2019 Future of PV Report."
   ]
  },
  {
   "cell_type": "markdown",
   "metadata": {},
   "source": [
    "# Global Installations by Country\n",
    "\n",
    "This section documents and munges the IRENA world historical PV install data by country. We can then modify it by the world marketshare of silicon."
   ]
  },
  {
   "cell_type": "code",
   "execution_count": null,
   "metadata": {},
   "outputs": [],
   "source": [
    "import numpy as np\n",
    "import pandas as pd\n",
    "import os,sys\n",
    "from pathlib import Path\n",
    "import matplotlib.pyplot as plt\n",
    "cwd = os.getcwd() #grabs current working directory\n",
    "\n",
    "supportMatfolder = str(Path().resolve().parent.parent.parent / 'PV_ICE' / 'baselines' / 'SupportingMaterial')\n"
   ]
  },
  {
   "cell_type": "code",
   "execution_count": null,
   "metadata": {
    "scrolled": true
   },
   "outputs": [],
   "source": [
    "IRENA_raw_file = os.path.join(supportMatfolder, 'HistoricalCapacityWorld-QueryResult-PVCumCap.xlsx') #THIS IS CUMULATIVE\n",
    "IRENA_global_raw = pd.read_excel(IRENA_raw_file, header=7, index_col=0) #set Country/area as index\n",
    "#remove the flag indicator columns or any unnamed\n",
    "IRENA_global_raw.drop(columns=list(IRENA_global_raw.filter(like='Unnamed')), inplace=True) \n",
    "IRENA_global_raw.drop(columns=['Technology','Indicator'], inplace=True) #drop these columns"
   ]
  },
  {
   "cell_type": "code",
   "execution_count": null,
   "metadata": {},
   "outputs": [],
   "source": [
    "IRENA_locs = list(IRENA_global_raw.index)\n",
    "regions = ['Africa','Asia','C America + Carib','Eurasia','Europe','EU 27','Middle East','N America','Oceania','S America']\n",
    "countries = [i for i in IRENA_locs if i not in regions] #leaves in world"
   ]
  },
  {
   "cell_type": "code",
   "execution_count": null,
   "metadata": {},
   "outputs": [],
   "source": [
    "IRENA_global = IRENA_global_raw.T"
   ]
  },
  {
   "cell_type": "code",
   "execution_count": null,
   "metadata": {},
   "outputs": [],
   "source": [
    "shiftpos = IRENA_global.shift(1).fillna(0)"
   ]
  },
  {
   "cell_type": "code",
   "execution_count": null,
   "metadata": {
    "scrolled": true
   },
   "outputs": [],
   "source": [
    "IRENA_global_annual = IRENA_global-shiftpos"
   ]
  },
  {
   "cell_type": "code",
   "execution_count": null,
   "metadata": {},
   "outputs": [],
   "source": [
    "IRENA_regions = IRENA_global_annual.loc[:,regions]\n",
    "IRENA_countries = IRENA_global_annual.loc[:,countries]"
   ]
  },
  {
   "cell_type": "code",
   "execution_count": null,
   "metadata": {
    "scrolled": true
   },
   "outputs": [],
   "source": [
    "IRENA_regions.to_csv(path_or_buf=os.path.join(supportMatfolder, 'output-RegionInstalls-alltech.csv'))\n",
    "IRENA_countries.to_csv(path_or_buf=os.path.join(supportMatfolder, 'output-CountryInstalls-alltech.csv'))"
   ]
  },
  {
   "cell_type": "markdown",
   "metadata": {},
   "source": [
    "## Market Share Weight Global installs by Silicon"
   ]
  },
  {
   "cell_type": "code",
   "execution_count": null,
   "metadata": {},
   "outputs": [],
   "source": [
    "mrktshr_global.index[-1] #what is the last year we have data for?"
   ]
  },
  {
   "cell_type": "code",
   "execution_count": null,
   "metadata": {},
   "outputs": [],
   "source": [
    "#trim the c-Si marketshare to match index of IRENA installs\n",
    "mrktshr_cSiglobal_IRENA = mrktshr_global.loc[mrktshr_global.index>1999]/100 #turn into decimal"
   ]
  },
  {
   "cell_type": "code",
   "execution_count": null,
   "metadata": {},
   "outputs": [],
   "source": [
    "mrktshr_cSiglobal_IRENA.columns"
   ]
  },
  {
   "cell_type": "code",
   "execution_count": null,
   "metadata": {},
   "outputs": [],
   "source": [
    "IRENA_regions_cSi = IRENA_regions.multiply(mrktshr_cSiglobal_IRENA[\"Global_MarketShare\"], axis=\"index\")\n",
    "IRENA_countries_cSi = IRENA_countries.multiply(mrktshr_cSiglobal_IRENA[\"Global_MarketShare\"], axis=\"index\")"
   ]
  },
  {
   "cell_type": "code",
   "execution_count": null,
   "metadata": {},
   "outputs": [],
   "source": [
    "IRENA_regions_cSi.to_csv(path_or_buf=os.path.join(supportMatfolder, 'output-RegionInstalls-cSi.csv'))\n",
    "IRENA_countries_cSi.to_csv(path_or_buf=os.path.join(supportMatfolder, 'output-CountryInstalls-cSi.csv'))"
   ]
  },
  {
   "cell_type": "code",
   "execution_count": null,
   "metadata": {},
   "outputs": [],
   "source": []
  },
  {
   "cell_type": "code",
   "execution_count": null,
   "metadata": {},
   "outputs": [],
   "source": [
    "#access the global historical install and create projection\n",
    "IRENA_hist_cSi = pd.read_csv(os.path.join(supportMatfolder,'output-CountryInstalls-cSi.csv'), index_col=0)"
   ]
  },
  {
   "cell_type": "code",
   "execution_count": null,
   "metadata": {},
   "outputs": [],
   "source": [
    "IRENA_hist_cSi_world = pd.DataFrame(IRENA_hist_cSi['World']) #extract just the global historical installs (this is a series)"
   ]
  },
  {
   "cell_type": "code",
   "execution_count": null,
   "metadata": {},
   "outputs": [],
   "source": [
    "#create a full historical deployment + projection \n",
    "# 2050 needs cumulative of 14,036 GW of PV globally [World Energy Transitions Outlook: 1.5°C Pathway.IRENA; 2021]\n",
    "#https://irena.org/Statistics/View-Data-by-Topic/Energy-Transition/REmap-Energy-Generation-and-Capacity\n",
    "idx = pd.RangeIndex(start=2018,stop=2051,step=1) #create the index\n",
    "IRENA_world_cSi_project = pd.DataFrame(index=idx, columns=['World_cum'], dtype=float) #turn into df and add column to match other series\n",
    "IRENA_world_cSi_project.loc[2018]=481*1000 #MW in 2018\n",
    "IRENA_world_cSi_project.loc[2050]=14036*1000 #MW in 2050"
   ]
  },
  {
   "cell_type": "code",
   "execution_count": null,
   "metadata": {},
   "outputs": [],
   "source": [
    "# exponential interpolation option - not great\n",
    "# Import curve fitting package from scipy\n",
    "from scipy.optimize import curve_fit\n",
    "# Function to calculate the power-law with constants a and b\n",
    "def power_law(x, a, b):\n",
    "    return a*np.power(x, b)\n",
    "#generae a dataset for the area in between\n",
    "y_dummy = power_law(IRENA_world_cSi_project.index-2017, IRENA_world_cSi_project['World_cum'][2018], 0.965)\n",
    "#played around with the exponential until y_dummy[31] closely matched 14036 GW.\n",
    "print(y_dummy[32])\n",
    "plt.plot(y_dummy)\n",
    "#plt.plot(IRENA_world_cSi_project['World_cum'][2050], marker='o')"
   ]
  },
  {
   "cell_type": "code",
   "execution_count": null,
   "metadata": {},
   "outputs": [],
   "source": [
    "IRENA_world_cSi_project['World_cum_fill']=y_dummy\n",
    "IRENA_world_cSi_project.loc[2050]"
   ]
  },
  {
   "cell_type": "code",
   "execution_count": null,
   "metadata": {},
   "outputs": [],
   "source": [
    "#IRENA_world_cSi_project.interpolate(inplace=True) #create the cumulative global deployed pv each year (linear also not great)\n",
    "IRENA_world_cSi_project['World'] = IRENA_world_cSi_project['World_cum_fill']-IRENA_world_cSi_project['World_cum_fill'].shift(1).fillna(0)"
   ]
  },
  {
   "cell_type": "code",
   "execution_count": null,
   "metadata": {},
   "outputs": [],
   "source": [
    "IRENA_world_cSi_project_annual_torev = IRENA_world_cSi_project.loc[2022:2050,['World']]\n",
    "IRENA_world_cSi_project_annual = IRENA_world_cSi_project_annual_torev.iloc[::-1] #reverse the exponential to be more realistic\n",
    "IRENA_world_cSi_project_annual.index = IRENA_world_cSi_project_annual_torev.index #reset index related to above"
   ]
  },
  {
   "cell_type": "code",
   "execution_count": null,
   "metadata": {},
   "outputs": [],
   "source": [
    "IRENA_cSi_world = pd.concat([IRENA_hist_cSi_world,IRENA_world_cSi_project_annual])\n",
    "#IRENA_cSi_world"
   ]
  },
  {
   "cell_type": "code",
   "execution_count": null,
   "metadata": {},
   "outputs": [],
   "source": [
    "plt.rcParams.update({'font.size': 14})\n",
    "plt.rcParams['figure.figsize'] = (10, 5)\n",
    "plt.plot(IRENA_cSi_world)\n",
    "plt.title('PV Installation Globally')\n",
    "plt.ylabel('Annually Deployed PV [MWdc]')"
   ]
  }
 ],
 "metadata": {
  "kernelspec": {
   "display_name": "PV_ICE",
   "language": "python",
   "name": "pv_ice"
  },
  "language_info": {
   "codemirror_mode": {
    "name": "ipython",
    "version": 3
   },
   "file_extension": ".py",
   "mimetype": "text/x-python",
   "name": "python",
   "nbconvert_exporter": "python",
   "pygments_lexer": "ipython3",
   "version": "3.10.4"
  }
 },
 "nbformat": 4,
 "nbformat_minor": 4
}
