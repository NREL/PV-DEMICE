{
 "cells": [
  {
   "cell_type": "markdown",
   "metadata": {},
   "source": [
    "# Mass per module area calculations for Encapsulants and Backsheets"
   ]
  },
  {
   "cell_type": "code",
   "execution_count": 1,
   "metadata": {},
   "outputs": [],
   "source": [
    "import numpy as np\n",
    "import pandas as pd\n",
    "import os,sys\n",
    "import matplotlib.pyplot as plt\n",
    "plt.rcParams.update({'font.size': 22})\n",
    "plt.rcParams['figure.figsize'] = (12, 8)"
   ]
  },
  {
   "cell_type": "markdown",
   "metadata": {},
   "source": [
    "Import the supporting material files"
   ]
  },
  {
   "cell_type": "markdown",
   "metadata": {},
   "source": [
    "## Encapsulants"
   ]
  },
  {
   "cell_type": "code",
   "execution_count": 2,
   "metadata": {},
   "outputs": [],
   "source": [
    "cwd = os.getcwd() #grabs current working directory\n",
    "skipcols = ['Source', 'Notes']\n",
    "encapsulants_thick_raw = pd.read_csv(cwd+\"/../../../PV_ICE/baselines/SupportingMaterial/encapsulants-thickness-micron.csv\",\n",
    "                                     index_col='year', usecols=lambda x: x not in skipcols)\n",
    "encapsulants_market_raw = pd.read_csv(cwd+\"/../../../PV_ICE/baselines/SupportingMaterial/encapsulants-marketshares-global.csv\",\n",
    "                                      index_col='year', usecols=lambda x: x not in skipcols)"
   ]
  },
  {
   "cell_type": "code",
   "execution_count": 3,
   "metadata": {},
   "outputs": [
    {
     "name": "stdout",
     "output_type": "stream",
     "text": [
      "Index(['EVA', 'TPU', 'PVB', 'Polyolefin', 'PDMS'], dtype='object')\n",
      "Index(['EVA', 'EVA+PO', 'Polyolefin', 'TPU', 'PVB', 'PDMS'], dtype='object')\n"
     ]
    }
   ],
   "source": [
    "#what materials:\n",
    "print(encapsulants_thick_raw.columns)\n",
    "print(encapsulants_market_raw.columns)\n",
    "#there is one column in marketshare that is a blend of two materials"
   ]
  },
  {
   "cell_type": "markdown",
   "metadata": {},
   "source": [
    "ITRPV provides the thickness and marketshare data for the different encapsulants. For each material, the thickness needs to be multiplied by the material density to obtain mass per module area.\n",
    "\n",
    "* EVA: Product datasheets from several companies report values of 0.96 and 0.92 g/cm^3 spanning from 2013 to 2021.\n",
    "* TPU: \n",
    "* PVB: 1.075 g/cm^3 from wmcglass, \n",
    "* Polyolefin: 0.88 g/cm^ from almaden, 0.8683 to 0.88 g/cm^3 from 3M\n",
    "* PDMS: 965 kg/m3 from wikipedia\n",
    "\n",
    "Create a dataframe with the densities of the different materials:"
   ]
  },
  {
   "cell_type": "code",
   "execution_count": 4,
   "metadata": {},
   "outputs": [
    {
     "name": "stdout",
     "output_type": "stream",
     "text": [
      "{'EVA': 940000.0, 'TPU': 1210000.0, 'PVB': 1075000.0, 'Polyolefin': 880000.0, 'PDMS': 965000.0}\n"
     ]
    }
   ],
   "source": [
    "#create dictionary with these materials, 1E6 is converting to g/m3 from cm3\n",
    "encaps_density = {\n",
    "    'EVA' : np.mean([0.96,0.92])*1E6, #g/m^3\n",
    "    'TPU' : 1.21*1E6, #https://bitfab.io/\n",
    "    'PVB' : 1.075*1E6, #g/m^3\n",
    "    'Polyolefin' : 0.88*1E6, #g/m^3\n",
    "    'PDMS' : 0.965*1E6 #g/m3\n",
    "}\n",
    "print(encaps_density)"
   ]
  },
  {
   "cell_type": "markdown",
   "metadata": {},
   "source": [
    "First, change the marketshares into percentages, and fill in missing values."
   ]
  },
  {
   "cell_type": "code",
   "execution_count": 5,
   "metadata": {
    "scrolled": true
   },
   "outputs": [
    {
     "data": {
      "text/plain": [
       "<matplotlib.axes._subplots.AxesSubplot at 0x1c9e3d37788>"
      ]
     },
     "execution_count": 5,
     "metadata": {},
     "output_type": "execute_result"
    },
    {
     "data": {
      "image/png": "[encoded data removed]",
      "text/plain": [
       "<Figure size 432x288 with 1 Axes>"
      ]
     },
     "metadata": {
      "needs_background": "light"
     },
     "output_type": "display_data"
    }
   ],
   "source": [
    "encapsulants_market_pct = encapsulants_market_raw/100\n",
    "#interpolate\n",
    "encap_market_pct_interp = encapsulants_market_pct.interpolate(method='linear',axis=0,limit=2,limit_area='inside')\n",
    "#fill na with 0\n",
    "encap_market_pct_full = encap_market_pct_interp.fillna(0.0)\n",
    "\n",
    "check = pd.DataFrame(encap_market_pct_full.agg(\"sum\", axis=\"columns\"))\n",
    "#print(check)\n",
    "#make a bar plot\n",
    "encap_market_pct_full.plot(kind='bar', stacked=True)"
   ]
  },
  {
   "cell_type": "code",
   "execution_count": 9,
   "metadata": {},
   "outputs": [
    {
     "name": "stdout",
     "output_type": "stream",
     "text": [
      "indexes are equal, proceed.\n",
      "Index(['EVA', 'EVA+PO', 'Polyolefin', 'TPU', 'PVB', 'PDMS'], dtype='object')\n",
      "Index(['EVA', 'TPU', 'PVB', 'Polyolefin', 'PDMS'], dtype='object')\n"
     ]
    }
   ],
   "source": [
    "#check if marketshare and thickness dataframes have same index\n",
    "if (len(encap_market_pct_full.index) == len(encapsulants_thick_raw.index)) & (encap_market_pct_full.index[0] == encapsulants_thick_raw.index[0]):\n",
    "    print(\"indexes are equal, proceed.\")\n",
    "else:\n",
    "    print(\"check dataframe index\")\n",
    "\n",
    "print(encap_market_pct_full.columns)\n",
    "print(encapsulants_thick_raw.columns)"
   ]
  },
  {
   "cell_type": "code",
   "execution_count": 20,
   "metadata": {},
   "outputs": [
    {
     "name": "stdout",
     "output_type": "stream",
     "text": [
      "           EVA       TPU       PVB  Polyolefin      PDMS\n",
      "year                                                    \n",
      "2013  0.000450  0.000450  0.000500    0.000475  0.000500\n",
      "2014  0.000450  0.000450  0.000500    0.000475  0.000500\n",
      "2015  0.000450  0.000450  0.000500    0.000475  0.000500\n",
      "2016  0.000450  0.000450  0.000500    0.000475  0.000500\n",
      "2017  0.000450  0.000450  0.000500    0.000475  0.000500\n",
      "2018  0.000450  0.000450  0.000500    0.000475  0.000500\n",
      "2019  0.000450  0.000450  0.000500    0.000475  0.000500\n",
      "2020  0.000450  0.000450  0.000500    0.000475  0.000500\n",
      "2021  0.000450  0.000450  0.000500    0.000475  0.000500\n",
      "2022  0.000450  0.000438  0.000487    0.000463  0.000475\n",
      "2023  0.000450  0.000425  0.000475    0.000450  0.000450\n",
      "2024  0.000438  0.000420  0.000452    0.000440  0.000435\n",
      "2025  0.000425  0.000415  0.000430    0.000430  0.000420\n",
      "2026  0.000417  0.000410  0.000420    0.000420  0.000413\n",
      "2027  0.000408  0.000405  0.000410    0.000410  0.000407\n",
      "2028  0.000400  0.000400  0.000400    0.000400  0.000400\n",
      "2029  0.000400  0.000393  0.000400    0.000400  0.000400\n",
      "2030  0.000400  0.000387  0.000400    0.000400  0.000400\n",
      "2031  0.000400  0.000380  0.000400    0.000400  0.000400\n"
     ]
    }
   ],
   "source": [
    "#fill in thickness dataframe\n",
    "encapsulants_thick_interp = encapsulants_thick_raw.interpolate(method='linear',axis=0, limit_direction='both')\n",
    "#thickness data is in micron, convert to meter\n",
    "encaps_thick_m = encapsulants_thick_interp/1E6\n",
    "print(encaps_thick_m)"
   ]
  },
  {
   "cell_type": "markdown",
   "metadata": {},
   "source": [
    "Now multiply by densities to get mass per meter sq., then weight by marketshare"
   ]
  },
  {
   "cell_type": "code",
   "execution_count": 38,
   "metadata": {},
   "outputs": [
    {
     "data": {
      "text/plain": [
       "<matplotlib.legend.Legend at 0x1c9e98ccd88>"
      ]
     },
     "execution_count": 38,
     "metadata": {},
     "output_type": "execute_result"
    },
    {
     "data": {
      "image/png": "[encoded data removed]",
      "text/plain": [
       "<Figure size 432x288 with 1 Axes>"
      ]
     },
     "metadata": {
      "needs_background": "light"
     },
     "output_type": "display_data"
    }
   ],
   "source": [
    "#multiply thickness times density to get mass per area (g/m^2)\n",
    "encaps_bymat_gpm2 = pd.DataFrame(encaps_thick_m.mul(encaps_density, 'columns'))\n",
    "#multiply by number of sheets of material used in PV module (usually 2)\n",
    "encaps_bymat_gpm2=encaps_bymat_gpm2*2\n",
    "\n",
    "plt.plot(encaps_bymat_gpm2)\n",
    "plt.title('grams encapsulants per module area over time, due to decreasing thickness')\n",
    "plt.legend(encaps_bymat_gpm2.columns)"
   ]
  },
  {
   "cell_type": "markdown",
   "metadata": {},
   "source": [
    "Now aggregate it down into a single \"encapsulant\" baseline"
   ]
  },
  {
   "cell_type": "code",
   "execution_count": 39,
   "metadata": {},
   "outputs": [
    {
     "name": "stdout",
     "output_type": "stream",
     "text": [
      "      Encapsulant_g_per_m2\n",
      "year                      \n",
      "2013            846.000000\n",
      "2014            848.090000\n",
      "2015            850.280000\n",
      "2016            852.810000\n",
      "2017            847.990000\n",
      "2018            848.955000\n",
      "2019            851.310000\n",
      "2020            849.445000\n",
      "2021            849.145000\n",
      "2022            839.244375\n",
      "2023            829.235000\n",
      "2024            801.367750\n",
      "2025            773.917000\n",
      "2026            752.614000\n",
      "2027            731.468333\n",
      "2028            710.480000\n",
      "2029            710.358667\n",
      "2030            710.237333\n",
      "2031            710.116000\n"
     ]
    }
   ],
   "source": [
    "#drop the EVA+PO column from the marketshare\n",
    "encap_market = encap_market_pct_full.drop('EVA+PO', axis='columns')\n",
    "\n",
    "#now multiply marketshare by mass per area\n",
    "encaps_gpm2 = pd.DataFrame(encaps_bymat_gpm2.mul(encap_market, 'columns'))\n",
    "#aggregate down to a single column\n",
    "encapsulant_gpm2 = pd.DataFrame(encaps_gpm2.agg(\"sum\", axis=\"columns\"))\n",
    "encapsulant_gpm2.columns = ['Encapsulant_g_per_m2']\n",
    "print(encapsulant_gpm2)"
   ]
  },
  {
   "cell_type": "code",
   "execution_count": 41,
   "metadata": {},
   "outputs": [],
   "source": [
    "#print to csv\n",
    "encapsulant_gpm2.to_csv(cwd+'/../../../PV_ICE/baselines/SupportingMaterial/output_encapsulant_gpm2.csv', index=True)"
   ]
  },
  {
   "cell_type": "code",
   "execution_count": null,
   "metadata": {},
   "outputs": [],
   "source": []
  }
 ],
 "metadata": {
  "kernelspec": {
   "display_name": "Python 3",
   "language": "python",
   "name": "python3"
  },
  "language_info": {
   "codemirror_mode": {
    "name": "ipython",
    "version": 3
   },
   "file_extension": ".py",
   "mimetype": "text/x-python",
   "name": "python",
   "nbconvert_exporter": "python",
   "pygments_lexer": "ipython3",
   "version": "3.7.4"
  }
 },
 "nbformat": 4,
 "nbformat_minor": 2
}
