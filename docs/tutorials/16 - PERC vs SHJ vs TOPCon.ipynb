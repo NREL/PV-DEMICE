{
 "cells": [
  {
   "cell_type": "markdown",
   "id": "46b25297",
   "metadata": {},
   "source": [
    "# Analysis of Cell Technology\n",
    "3 competing cell technologies may claim marketshare in future; Bifacial PERC, bifacial SHJ, and Bifacial TOPCon. Each design has different efficiency and a different silver intensity. This analysis seeks compare these technologies on a mass and energy basis. A psuedo global deployment projection hitting 100% RE targets in 2050 is used so that silver demand can be evaluated at the global level.\n",
    "\n",
    "Make 4+ scenarios\n",
    "1. All PERC\n",
    "2. All SHJ\n",
    "3. All TOPCon\n",
    "4. Realistic blend / ITRPV numbers from Martin Springer or Jarett Zuboy – DURAMat tech scounting report\n",
    "5. All of the above and turn Bifacial ON/OFF\n",
    "\n",
    "We will use the silver intensity and module efficiency projections from:\n",
    "\n",
    "    Zhang, Yuchao, Moonyong Kim, Li Wang, Pierre Verlinden, and Brett Hallam. 2021. “Design Considerations for Multi-Terawatt Scale Manufacturing of Existing and Future Photovoltaic Technologies: Challenges and Opportunities Related to Silver, Indium and Bismuth Consumption.” Energy & Environmental Science. https://doi.org/10.1039/D1EE01814K. \n",
    "\n",
    "and\n",
    "\n",
    "    Gervais, Estelle, Shivenes Shammugam, Lorenz Friedrich, and Thomas Schlegl. 2021. “Raw Material Needs for the Large-Scale Deployment of Photovoltaics – Effects of Innovation-Driven Roadmaps on Material Constraints until 2050.” Renewable and Sustainable Energy Reviews 137 (March): 110589. https://doi.org/10.1016/j.rser.2020.110589."
   ]
  },
  {
   "cell_type": "code",
   "execution_count": 1,
   "id": "4b9c125d",
   "metadata": {},
   "outputs": [],
   "source": [
    "import numpy as np\n",
    "import pandas as pd\n",
    "import os,sys\n",
    "from pathlib import Path\n",
    "import matplotlib.pyplot as plt\n",
    "\n",
    "cwd = os.getcwd() #grabs current working directory\n",
    "\n",
    "testfolder = str(Path().resolve().parent.parent / 'PV_ICE' / 'TEMP' / 'CellTechCompare')\n",
    "inputfolder = str(Path().resolve().parent.parent / 'PV_ICE' / 'TEMP')\n",
    "baselinesfolder = str(Path().resolve().parent.parent /'PV_ICE' / 'baselines')\n",
    "supportMatfolder = str(Path().resolve().parent.parent / 'PV_ICE' / 'baselines' / 'SupportingMaterial')\n",
    "\n",
    "if not os.path.exists(testfolder):\n",
    "    os.makedirs(testfolder)"
   ]
  },
  {
   "cell_type": "markdown",
   "id": "38996330",
   "metadata": {},
   "source": [
    "# Data Preparation\n",
    "Bring in the data from Zhang et al 2021 and Gervais et al 2021."
   ]
  },
  {
   "cell_type": "code",
   "execution_count": 2,
   "id": "bf7d2b91",
   "metadata": {},
   "outputs": [],
   "source": [
    "lit_celltech = pd.read_excel(os.path.join(supportMatfolder,'CellTechCompare','PERCvSHJvTOPCon-LitData.xlsx'), sheet_name='Sheet2',\n",
    "                             header=[0,1,2], index_col=0)"
   ]
  },
  {
   "cell_type": "code",
   "execution_count": 3,
   "id": "69a13a00",
   "metadata": {},
   "outputs": [
    {
     "data": {
      "text/plain": [
       "<bound method MultiIndex.get_level_values of MultiIndex([('Zhang et al 2021 (hallam)',   'PERC',  'ModuleEff'),\n",
       "            ('Zhang et al 2021 (hallam)',   'PERC', 'Ag_mgpcell'),\n",
       "            ('Zhang et al 2021 (hallam)',    'SHJ',  'ModuleEff'),\n",
       "            ('Zhang et al 2021 (hallam)',    'SHJ', 'Ag_mgpcell'),\n",
       "            ('Zhang et al 2021 (hallam)', 'TOPCon',  'ModuleEff'),\n",
       "            ('Zhang et al 2021 (hallam)', 'TOPCon', 'Ag_mgpcell')],\n",
       "           names=[None, None, 'year'])>"
      ]
     },
     "execution_count": 3,
     "metadata": {},
     "output_type": "execute_result"
    }
   ],
   "source": [
    "lit_celltech.columns.get_level_values"
   ]
  },
  {
   "cell_type": "code",
   "execution_count": 4,
   "id": "acd475e2",
   "metadata": {},
   "outputs": [],
   "source": [
    "#Zhang et al Table 2 gives cell size assumptions 166mm cells\n",
    "cell_size_m2 = np.square(0.166)"
   ]
  },
  {
   "cell_type": "code",
   "execution_count": 5,
   "id": "27ed86c7",
   "metadata": {},
   "outputs": [],
   "source": [
    "#calculate silver use per meter squared for each tech\n",
    "zhang_perc_Ag_kgpm2 = lit_celltech['Zhang et al 2021 (hallam)']['PERC']['Ag_mgpcell']/1000/cell_size_m2 #creates series\n",
    "zhang_shj_Ag_kgpm2 = lit_celltech['Zhang et al 2021 (hallam)']['SHJ']['Ag_mgpcell']/1000/cell_size_m2\n",
    "zhang_topcon_Ag_kgpm2 = lit_celltech['Zhang et al 2021 (hallam)']['TOPCon']['Ag_mgpcell']/1000/cell_size_m2"
   ]
  },
  {
   "cell_type": "markdown",
   "id": "1cc99fc1",
   "metadata": {},
   "source": [
    "Gervais et al 2021 also project silver use, but through 2050. We wil use Zhang et al silver intensity through 2030, then a futher decrease from Gervais et al to 2050. There is no projection of TOPCon from Gervais et al, so we will assume a similar magnitude of continued decrease."
   ]
  },
  {
   "cell_type": "code",
   "execution_count": 6,
   "id": "3278229e",
   "metadata": {},
   "outputs": [
    {
     "data": {
      "text/plain": [
       "                                   year      \n",
       "Zhang et al 2021 (hallam)  PERC    ModuleEff     24.5\n",
       "                                   Ag_mgpcell    57.0\n",
       "                           SHJ     ModuleEff     25.3\n",
       "                                   Ag_mgpcell    99.0\n",
       "                           TOPCon  ModuleEff     25.0\n",
       "                                   Ag_mgpcell    95.0\n",
       "Name: 2030, dtype: float64"
      ]
     },
     "execution_count": 6,
     "metadata": {},
     "output_type": "execute_result"
    }
   ],
   "source": [
    "lit_celltech.loc[2030]"
   ]
  },
  {
   "cell_type": "code",
   "execution_count": 7,
   "id": "60b77442",
   "metadata": {},
   "outputs": [],
   "source": [
    "Gervais_perc_2050 = pd.Series({2050:40}) #mg/cell\n",
    "Gervais_shj_2050 = pd.Series({2050:80}) #mg/cell\n",
    "guess_topcon_2050 = pd.Series({2050:(95-18)}) # mg/cell 99-80 = 19, 57-40 = 17, guess further 18mg decrease\n",
    "#assuming the same cell size as Zhang et al (it isn't specified in Gervais)\n",
    "Gervais_perc_2050_kgpm2 = Gervais_perc_2050/1000/cell_size_m2\n",
    "Gervais_shj_2050_kgpm2 = Gervais_shj_2050/1000/cell_size_m2\n",
    "guess_topcon_2050_kgpm2 = guess_topcon_2050/1000/cell_size_m2"
   ]
  },
  {
   "cell_type": "code",
   "execution_count": 8,
   "id": "81dcb620",
   "metadata": {},
   "outputs": [],
   "source": [
    "perc_Ag_kgpm2 = pd.concat([zhang_perc_Ag_kgpm2.loc[:2049], Gervais_perc_2050_kgpm2])\n",
    "shj_Ag_kgpm2 = pd.concat([zhang_shj_Ag_kgpm2.loc[:2049], Gervais_shj_2050_kgpm2])\n",
    "topcon_Ag_kgpm2 = pd.concat([zhang_topcon_Ag_kgpm2.loc[:2049], guess_topcon_2050_kgpm2])"
   ]
  },
  {
   "cell_type": "code",
   "execution_count": 9,
   "id": "8ea221e1",
   "metadata": {},
   "outputs": [],
   "source": [
    "#filled projections 2020 through 2050\n",
    "perc_Ag_kgpm2.interpolate(inplace=True)\n",
    "shj_Ag_kgpm2.interpolate(inplace=True)\n",
    "topcon_Ag_kgpm2.interpolate(inplace=True)"
   ]
  },
  {
   "cell_type": "markdown",
   "id": "19880eed",
   "metadata": {},
   "source": [
    "Now lets use Zhang et al's projections of efficiency increases. These are reasonably ambitious, achieving ~25% by 2030, but PV is usually an overachiever. We will hold efficiency constant after 2030."
   ]
  },
  {
   "cell_type": "code",
   "execution_count": 10,
   "id": "c6ed0d58",
   "metadata": {},
   "outputs": [],
   "source": [
    "zhang_perc_modeff = lit_celltech['Zhang et al 2021 (hallam)']['PERC']['ModuleEff']\n",
    "zhang_shj_modeff = lit_celltech['Zhang et al 2021 (hallam)']['SHJ']['ModuleEff']\n",
    "zhang_topcon_modeff = lit_celltech['Zhang et al 2021 (hallam)']['TOPCon']['ModuleEff']"
   ]
  },
  {
   "cell_type": "code",
   "execution_count": 11,
   "id": "2d7cd9b2",
   "metadata": {},
   "outputs": [],
   "source": [
    "zhang_perc_modeff.interpolate(inplace=True)\n",
    "zhang_shj_modeff.interpolate(inplace=True)\n",
    "zhang_topcon_modeff.interpolate(inplace=True)"
   ]
  },
  {
   "cell_type": "code",
   "execution_count": 12,
   "id": "17790a29",
   "metadata": {},
   "outputs": [],
   "source": [
    "modeffs = pd.concat([zhang_perc_modeff,zhang_shj_modeff,zhang_topcon_modeff], axis=1)\n",
    "modeffs.columns=['PERC','SHJ','TOPCon']\n",
    "Aguse = pd.concat([perc_Ag_kgpm2,shj_Ag_kgpm2,topcon_Ag_kgpm2], axis=1)\n",
    "Aguse.columns=['PERC','SHJ','TOPCon']"
   ]
  },
  {
   "cell_type": "code",
   "execution_count": 13,
   "id": "284416f2",
   "metadata": {},
   "outputs": [
    {
     "data": {
      "text/plain": [
       "Text(0, 0.5, 'Module Efficiency [%]')"
      ]
     },
     "execution_count": 13,
     "metadata": {},
     "output_type": "execute_result"
    },
    {
     "data": {
      "image/png": "[encoded data removed]",
      "text/plain": [
       "<Figure size 640x480 with 1 Axes>"
      ]
     },
     "metadata": {},
     "output_type": "display_data"
    }
   ],
   "source": [
    "plt.plot(modeffs, label=modeffs.columns)\n",
    "plt.legend()\n",
    "plt.title('Module Efficiency over Time')\n",
    "plt.ylabel('Module Efficiency [%]')"
   ]
  },
  {
   "cell_type": "code",
   "execution_count": 14,
   "id": "f1e721b4",
   "metadata": {},
   "outputs": [
    {
     "data": {
      "text/plain": [
       "Text(0, 0.5, 'Silver Intensity [kg/m2]')"
      ]
     },
     "execution_count": 14,
     "metadata": {},
     "output_type": "execute_result"
    },
    {
     "data": {
      "image/png": "[encoded data removed]",
      "text/plain": [
       "<Figure size 640x480 with 1 Axes>"
      ]
     },
     "metadata": {},
     "output_type": "display_data"
    }
   ],
   "source": [
    "plt.plot(Aguse, label=Aguse.columns)\n",
    "plt.legend()\n",
    "plt.title('Silver Use over time')\n",
    "plt.ylabel('Silver Intensity [kg/m2]')"
   ]
  },
  {
   "cell_type": "markdown",
   "id": "b75ebc34",
   "metadata": {},
   "source": [
    "One important aspect of these technologies is bifaciality. Each has a different bifaciality factor, and they are not expected to increase substantially with time (ITRPV 2022). We plan to explore monofacial and bifacial modules of these technologies (for example residential vs utility). We will use a static inventory of bifacial factors."
   ]
  },
  {
   "cell_type": "code",
   "execution_count": 15,
   "id": "5242e504",
   "metadata": {},
   "outputs": [],
   "source": [
    "bifiFactors = {'PERC':0.7,\n",
    "              'SHJ':0.9,\n",
    "              'TOPCon':0.8} # ITRPV 2022, Fig. 58"
   ]
  },
  {
   "cell_type": "code",
   "execution_count": 16,
   "id": "b55400b2",
   "metadata": {},
   "outputs": [],
   "source": [
    "#PV ICE currently set up to read in a csv of bifi factors, so generate files to read in \n",
    "idx_temp = Aguse.index\n",
    "df_temp = pd.DataFrame(index=idx_temp, columns=['bifi'], dtype=float)\n",
    "bifi_perc = df_temp.copy()\n",
    "bifi_perc['bifi'] = bifiFactors['PERC']\n",
    "bifi_shj = df_temp.copy()\n",
    "bifi_shj['bifi'] = bifiFactors['SHJ']\n",
    "bifi_topcon = df_temp.copy()\n",
    "bifi_topcon['bifi'] = bifiFactors['TOPCon']"
   ]
  },
  {
   "cell_type": "code",
   "execution_count": 17,
   "id": "b3695988",
   "metadata": {},
   "outputs": [],
   "source": [
    "bifi_perc.to_csv(path_or_buf=os.path.join(testfolder,'bifi_perc.csv'), index_label='Year')\n",
    "bifi_shj.to_csv(path_or_buf=os.path.join(testfolder,'bifi_shj.csv'), index_label='Year')\n",
    "bifi_topcon.to_csv(path_or_buf=os.path.join(testfolder,'bifi_topcon.csv'), index_label='Year')"
   ]
  },
  {
   "cell_type": "code",
   "execution_count": 18,
   "id": "1f99ec2f",
   "metadata": {},
   "outputs": [],
   "source": [
    "bifi_perc_path = os.path.join(testfolder,'bifi_perc.csv')\n",
    "bifi_shj_path = os.path.join(testfolder,'bifi_shj.csv')\n",
    "bifi_topcon_path = os.path.join(testfolder,'bifi_topcon.csv')"
   ]
  },
  {
   "cell_type": "markdown",
   "id": "4b7a9589",
   "metadata": {},
   "source": [
    "To create a blended scenario, we will use the ITRPV 2022 cell market share projection through 2030, and then keep it constant through 2050."
   ]
  },
  {
   "cell_type": "code",
   "execution_count": 19,
   "id": "9e758e47",
   "metadata": {},
   "outputs": [],
   "source": [
    "#insert data from Jarett here\n",
    "itrpv_celltech_marketshare = pd.read_csv(os.path.join(supportMatfolder,'CellTechCompare','ITRPV_celltech_marketshare.csv'), index_col=0)"
   ]
  },
  {
   "cell_type": "code",
   "execution_count": 20,
   "id": "d3987b5e",
   "metadata": {
    "scrolled": true
   },
   "outputs": [
    {
     "data": {
      "text/plain": [
       "Index(['p-type (Al-BSF)', 'p-type (PERC)', 'p-type (TOPCon)',\n",
       "       'n-type (back contact)', 'n-type (SHJ)', 'n-type (TOPCon)',\n",
       "       'n-type (other)', 'tandem (Si-based)'],\n",
       "      dtype='object')"
      ]
     },
     "execution_count": 20,
     "metadata": {},
     "output_type": "execute_result"
    }
   ],
   "source": [
    "itrpv_celltech_marketshare.columns\n",
    "#there are more cell techs here than I need - I'm not currently concerned with n-type vs p-type\n",
    "#the marketshares of \"n-type back contact\", \"n-type other\", \"tandem si-based\" are small and outside scope of study\n",
    "#remove and renormalize."
   ]
  },
  {
   "cell_type": "code",
   "execution_count": 21,
   "id": "031f7223",
   "metadata": {},
   "outputs": [],
   "source": [
    "#subset for desired techs\n",
    "celltech_marketshare_sub_raw = itrpv_celltech_marketshare.loc[2020:].filter(regex=('PERC|TOPCon|SHJ')) \n",
    "#interpolate to fill gaps\n",
    "celltech_marketshare_sub_raw.interpolate(inplace=True, limit_direction='both')\n",
    "#renormalize\n",
    "celltech_marketshare_sub_raw['temp_sum'] = celltech_marketshare_sub_raw.iloc[:,[0,1,2,3]].sum(axis=1)\n",
    "celltech_marketshare_sub_raw['scale'] = 1/celltech_marketshare_sub_raw['temp_sum'] #create scaling factor\n",
    "celltech_marketshare_scaled = celltech_marketshare_sub_raw.iloc[:,[0,1,2,3]]*celltech_marketshare_sub_raw.loc[:,['scale']].values\n",
    "#celltech_marketshare_scaled.sum(axis=1) # test check that everything adds to 1"
   ]
  },
  {
   "cell_type": "code",
   "execution_count": 22,
   "id": "eaf7d052",
   "metadata": {},
   "outputs": [
    {
     "data": {
      "text/plain": [
       "Index(['p-type (PERC)', 'p-type (TOPCon)', 'n-type (SHJ)', 'n-type (TOPCon)'], dtype='object')"
      ]
     },
     "execution_count": 22,
     "metadata": {},
     "output_type": "execute_result"
    }
   ],
   "source": [
    "celltech_marketshare_scaled.columns"
   ]
  },
  {
   "cell_type": "code",
   "execution_count": 23,
   "id": "6568cc01",
   "metadata": {
    "scrolled": false
   },
   "outputs": [
    {
     "data": {
      "image/png": "[encoded data removed]",
      "text/plain": [
       "<Figure size 640x480 with 1 Axes>"
      ]
     },
     "metadata": {},
     "output_type": "display_data"
    }
   ],
   "source": [
    "plt.plot([],[],color='blue', label='PERC')\n",
    "plt.plot([],[],color='orange', label='TOPCon (p-type)')\n",
    "plt.plot([],[],color='red', label='TOPCon (n-type)')\n",
    "plt.plot([],[],color='purple', label='SHJ')\n",
    "#plt.plot([],[],color='red', label='Cell')\n",
    "\n",
    "plt.stackplot(celltech_marketshare_scaled.index,\n",
    "              celltech_marketshare_scaled['p-type (PERC)'],\n",
    "              celltech_marketshare_scaled['p-type (TOPCon)'],\n",
    "              celltech_marketshare_scaled['n-type (TOPCon)'],\n",
    "              celltech_marketshare_scaled['n-type (SHJ)'],\n",
    "              colors = ['blue','orange','red','purple'])\n",
    "\n",
    "plt.title('Market Share Cell Type: Blended Projection')\n",
    "plt.ylabel('Market Share [fraction]')\n",
    "#plt.xlim(1995,2022)\n",
    "plt.legend(loc='lower center')\n",
    "plt.show()"
   ]
  },
  {
   "cell_type": "code",
   "execution_count": 24,
   "id": "9b2d91e9",
   "metadata": {},
   "outputs": [],
   "source": [
    "celltech_marketshare_scaled['TOPCon'] = celltech_marketshare_scaled.filter(like='TOPCon').sum(axis=1)"
   ]
  },
  {
   "cell_type": "markdown",
   "id": "211f34d5",
   "metadata": {},
   "source": [
    "Other Assumptions:\n",
    "- silicon wafer thickness is identical, and improvements are identical\n",
    "- glass-glass module package for bifacial using 2.5mm glass for both\n",
    "- module manufacturing energy is identical (until we get better data)\n",
    "- degradation rates between the technologies are identical (until we get better data)\n",
    "- Weibull Failure probabilities are identical between technologies (until we get better data)\n",
    "- No ciruclarity"
   ]
  },
  {
   "cell_type": "code",
   "execution_count": 25,
   "id": "aa75cc92",
   "metadata": {},
   "outputs": [
    {
     "name": "stdout",
     "output_type": "stream",
     "text": [
      "The mass per module area of glass is 12500.0 g/m^2\n"
     ]
    }
   ],
   "source": [
    "#glass-glass package mass per area calculation\n",
    "#ITRPV 2022 Figs 36 and 38, we are assuming that the front and back glass heave equal thickness of 2.5mm\n",
    "density_glass = 2500*1000 # g/m^3 \n",
    "glassperm2 = (2.5/1000)* 2 * density_glass\n",
    "print('The mass per module area of glass is '+str(glassperm2)+' g/m^2')"
   ]
  },
  {
   "cell_type": "markdown",
   "id": "d52744b3",
   "metadata": {},
   "source": [
    "Pull in deployment projection. This deployment is based on the Solar Futures report, but has been modified to be more reasonable annual deployment schedule (i.e. manufacturing ramps up). However, this does not achieve 95% RE by 2035, but it does achieve 100% RE in 2050."
   ]
  },
  {
   "cell_type": "code",
   "execution_count": 26,
   "id": "f915aa9c",
   "metadata": {},
   "outputs": [],
   "source": [
    "sf_reeds_alts = pd.read_excel(os.path.join(supportMatfolder,'SF_reeds_alternates.xlsx'),index_col=0)"
   ]
  },
  {
   "cell_type": "code",
   "execution_count": 27,
   "id": "f938bcd0",
   "metadata": {},
   "outputs": [],
   "source": [
    "sf_reeds = sf_reeds_alts.loc[2023:2050,['MW']]"
   ]
  },
  {
   "cell_type": "code",
   "execution_count": 28,
   "id": "58cec3e2",
   "metadata": {},
   "outputs": [],
   "source": [
    "#try sorting the Reeds Deployment to be in ascending order\n",
    "sf_reeds['MW'].values.sort() #this sorts the column values in place"
   ]
  },
  {
   "cell_type": "code",
   "execution_count": 29,
   "id": "7e6cd0fb",
   "metadata": {},
   "outputs": [],
   "source": [
    "sf_reeds['TW_cum'] = sf_reeds['MW'].cumsum()/1e6"
   ]
  },
  {
   "cell_type": "code",
   "execution_count": 30,
   "id": "66092e42",
   "metadata": {},
   "outputs": [
    {
     "data": {
      "image/png": "[encoded data removed]",
      "text/plain": [
       "<Figure size 640x480 with 2 Axes>"
      ]
     },
     "metadata": {},
     "output_type": "display_data"
    }
   ],
   "source": [
    "fig, ax1 = plt.subplots()\n",
    "\n",
    "ax1.plot(sf_reeds['MW'])\n",
    "ax1.set_ylabel('Annual Deployments [MW]', color='blue')\n",
    "\n",
    "ax2 = ax1.twinx()\n",
    "ax2.plot(sf_reeds['TW_cum'], color='orange')\n",
    "ax2.set_ylabel('Cumulative Capacity [TW]', color='orange')\n",
    "\n",
    "plt.legend(['Cumulative Capacity'])\n",
    "plt.show()"
   ]
  },
  {
   "cell_type": "code",
   "execution_count": 31,
   "id": "2dca25a0",
   "metadata": {},
   "outputs": [
    {
     "data": {
      "text/plain": [
       "MW        29613.993350\n",
       "TW_cum        0.207411\n",
       "Name: 2030.0, dtype: float64"
      ]
     },
     "execution_count": 31,
     "metadata": {},
     "output_type": "execute_result"
    }
   ],
   "source": [
    "sf_reeds.loc[2030]"
   ]
  },
  {
   "cell_type": "code",
   "execution_count": 32,
   "id": "8ea0b1f2",
   "metadata": {
    "scrolled": true
   },
   "outputs": [
    {
     "data": {
      "text/plain": [
       "MW        87426.894740\n",
       "TW_cum        1.523311\n",
       "Name: 2050.0, dtype: float64"
      ]
     },
     "execution_count": 32,
     "metadata": {},
     "output_type": "execute_result"
    }
   ],
   "source": [
    "sf_reeds.loc[2050]"
   ]
  },
  {
   "cell_type": "code",
   "execution_count": 33,
   "id": "f42a5223",
   "metadata": {},
   "outputs": [],
   "source": [
    "#historical 2020-2022 from Wood Mac\n",
    "history = sf_reeds_alts.loc[2020:2022,['Historically annual']]\n",
    "history.columns=['MW']\n",
    "projection = sf_reeds[['MW']]\n",
    "newdeploymentcurve = pd.concat([history,projection],axis=0)"
   ]
  },
  {
   "cell_type": "code",
   "execution_count": null,
   "id": "25e59839",
   "metadata": {},
   "outputs": [],
   "source": []
  },
  {
   "cell_type": "markdown",
   "id": "6a75d0b8",
   "metadata": {},
   "source": [
    "# Scenario Creation"
   ]
  },
  {
   "cell_type": "code",
   "execution_count": 34,
   "id": "1b1db14b",
   "metadata": {},
   "outputs": [],
   "source": [
    "scennames = ['PERC','SHJ','TOPCon'] #add later Blend and bifi on/off\n",
    "MATERIALS = ['glass','aluminium_frames','silver','silicon', 'copper', 'encapsulant', 'backsheet']\n",
    "moduleFile_m = os.path.join(baselinesfolder, 'baseline_modules_mass_US.csv')\n",
    "moduleFile_e = os.path.join(baselinesfolder, 'baseline_modules_energy.csv')"
   ]
  },
  {
   "cell_type": "code",
   "execution_count": 35,
   "id": "2af3a8c7",
   "metadata": {},
   "outputs": [
    {
     "name": "stdout",
     "output_type": "stream",
     "text": [
      "path = C:\\Users\\hmirletz\\Documents\\GitHub\\PV_ICE\\PV_ICE\\TEMP\\CellTechCompare\n"
     ]
    }
   ],
   "source": [
    "#load in a baseline and materials for modification\n",
    "import PV_ICE\n",
    "\n",
    "sim1 = PV_ICE.Simulation(name='sim1', path=testfolder)\n",
    "for scen in scennames:\n",
    "    sim1.createScenario(name=scen, massmodulefile=moduleFile_m, energymodulefile=moduleFile_e)\n",
    "    for mat in range (0, len(MATERIALS)):\n",
    "        matbaseline_m = os.path.join(baselinesfolder,'baseline_material_mass_'+MATERIALS[mat]+'.csv')\n",
    "        matbaseline_e = os.path.join(baselinesfolder,'baseline_material_energy_'+MATERIALS[mat]+'.csv')\n",
    "        sim1.scenario[scen].addMaterial(MATERIALS[mat], massmatfile=matbaseline_m, energymatfile=matbaseline_e)"
   ]
  },
  {
   "cell_type": "markdown",
   "id": "b083ed5c",
   "metadata": {},
   "source": [
    "Modify the all one tech scenarios Scenarios:\n",
    "\n",
    "Module level\n",
    "- trim to 2020-2050\n",
    "- no circularity\n",
    "- deployment projection\n",
    "- module eff\n",
    "\n",
    "material level\n",
    "- glass per m2\n",
    "- silver per m2"
   ]
  },
  {
   "cell_type": "code",
   "execution_count": 36,
   "id": "bb84dbab",
   "metadata": {},
   "outputs": [
    {
     "name": "stdout",
     "output_type": "stream",
     "text": [
      "endYear not provided. Setting to end year of Module data 2050\n"
     ]
    }
   ],
   "source": [
    "#trim to 2020-2050, this trims module and materials\n",
    "sim1.trim_Years(startYear=2020)"
   ]
  },
  {
   "cell_type": "code",
   "execution_count": 37,
   "id": "8994c7bc",
   "metadata": {},
   "outputs": [],
   "source": [
    "#no circularity\n",
    "sim1.scenMod_noCircularity()"
   ]
  },
  {
   "cell_type": "code",
   "execution_count": 38,
   "id": "ebc9be9c",
   "metadata": {},
   "outputs": [],
   "source": [
    "#deployment projection\n",
    "#NEED TO PULL IN DEPLOYMENT PROJECTION\n",
    "\n",
    "for scen in scennames:\n",
    "    sim1.scenario[scen].dataIn_m.loc[0:len(newdeploymentcurve.index-1),'new_Installed_Capacity_[MW]'] = newdeploymentcurve.values"
   ]
  },
  {
   "cell_type": "code",
   "execution_count": 39,
   "id": "cff2ade4",
   "metadata": {},
   "outputs": [],
   "source": [
    "#module eff\n",
    "#modeffs\n",
    "for scen in scennames:\n",
    "    sim1.scenario[scen].dataIn_m.loc[0:len(modeffs.index-1),'mod_eff'] = modeffs[scen].values"
   ]
  },
  {
   "cell_type": "code",
   "execution_count": 40,
   "id": "36e4d3d3",
   "metadata": {},
   "outputs": [],
   "source": [
    "#glass modify\n",
    "for scen in scennames:\n",
    "    sim1.scenario[scen].material['glass'].matdataIn_m['mat_massperm2'] = glassperm2"
   ]
  },
  {
   "cell_type": "code",
   "execution_count": 41,
   "id": "1c74a8d7",
   "metadata": {},
   "outputs": [],
   "source": [
    "#silver modify\n",
    "#Aguse\n",
    "for scen in scennames:\n",
    "    sim1.scenario[scen].material['silver'].matdataIn_m.loc[0:len(Aguse.index-1),'mat_massperm2'] = Aguse[scen].values"
   ]
  },
  {
   "cell_type": "code",
   "execution_count": 42,
   "id": "f00bff25",
   "metadata": {
    "scrolled": true
   },
   "outputs": [
    {
     "data": {
      "text/html": [
       "<div>\n",
       "<style scoped>\n",
       "    .dataframe tbody tr th:only-of-type {\n",
       "        vertical-align: middle;\n",
       "    }\n",
       "\n",
       "    .dataframe tbody tr th {\n",
       "        vertical-align: top;\n",
       "    }\n",
       "\n",
       "    .dataframe thead th {\n",
       "        text-align: right;\n",
       "    }\n",
       "</style>\n",
       "<table border=\"1\" class=\"dataframe\">\n",
       "  <thead>\n",
       "    <tr style=\"text-align: right;\">\n",
       "      <th></th>\n",
       "      <th>year</th>\n",
       "      <th>new_Installed_Capacity_[MW]</th>\n",
       "      <th>mod_eff</th>\n",
       "      <th>mod_reliability_t50</th>\n",
       "      <th>mod_reliability_t90</th>\n",
       "      <th>mod_degradation</th>\n",
       "      <th>mod_lifetime</th>\n",
       "      <th>mod_MFG_eff</th>\n",
       "      <th>mod_Repair</th>\n",
       "      <th>mod_MerchantTail</th>\n",
       "      <th>...</th>\n",
       "      <th>mod_EOL_pg4_recycled</th>\n",
       "      <th>mod_EOL_reMFG_yield</th>\n",
       "      <th>mod_EOL_sp_reMFG_recycle</th>\n",
       "      <th>mod_EOL_pb1_landfill</th>\n",
       "      <th>mod_EOL_pb2_stored</th>\n",
       "      <th>mod_EOL_pb3_reMFG</th>\n",
       "      <th>mod_EOL_pb4_recycled</th>\n",
       "      <th>mod_EOL_collection_eff</th>\n",
       "      <th>mod_EOL_collected_recycled</th>\n",
       "      <th>mod_Reuse</th>\n",
       "    </tr>\n",
       "  </thead>\n",
       "  <tbody>\n",
       "    <tr>\n",
       "      <th>0</th>\n",
       "      <td>2020</td>\n",
       "      <td>19914.550101</td>\n",
       "      <td>22.80</td>\n",
       "      <td>33.0</td>\n",
       "      <td>38.0</td>\n",
       "      <td>0.5</td>\n",
       "      <td>35.0</td>\n",
       "      <td>98.0</td>\n",
       "      <td>0.0</td>\n",
       "      <td>0.0</td>\n",
       "      <td>...</td>\n",
       "      <td>40.0</td>\n",
       "      <td>0.0</td>\n",
       "      <td>100.0</td>\n",
       "      <td>60.0</td>\n",
       "      <td>0.0</td>\n",
       "      <td>0.0</td>\n",
       "      <td>40.0</td>\n",
       "      <td>0.0</td>\n",
       "      <td>0.0</td>\n",
       "      <td>0.0</td>\n",
       "    </tr>\n",
       "    <tr>\n",
       "      <th>1</th>\n",
       "      <td>2021</td>\n",
       "      <td>24094.804465</td>\n",
       "      <td>22.97</td>\n",
       "      <td>33.0</td>\n",
       "      <td>38.0</td>\n",
       "      <td>0.5</td>\n",
       "      <td>35.0</td>\n",
       "      <td>98.0</td>\n",
       "      <td>0.0</td>\n",
       "      <td>0.0</td>\n",
       "      <td>...</td>\n",
       "      <td>40.0</td>\n",
       "      <td>0.0</td>\n",
       "      <td>100.0</td>\n",
       "      <td>60.0</td>\n",
       "      <td>0.0</td>\n",
       "      <td>0.0</td>\n",
       "      <td>40.0</td>\n",
       "      <td>0.0</td>\n",
       "      <td>0.0</td>\n",
       "      <td>0.0</td>\n",
       "    </tr>\n",
       "    <tr>\n",
       "      <th>2</th>\n",
       "      <td>2022</td>\n",
       "      <td>21893.147053</td>\n",
       "      <td>23.14</td>\n",
       "      <td>33.0</td>\n",
       "      <td>38.0</td>\n",
       "      <td>0.5</td>\n",
       "      <td>35.0</td>\n",
       "      <td>98.0</td>\n",
       "      <td>0.0</td>\n",
       "      <td>0.0</td>\n",
       "      <td>...</td>\n",
       "      <td>40.0</td>\n",
       "      <td>0.0</td>\n",
       "      <td>100.0</td>\n",
       "      <td>60.0</td>\n",
       "      <td>0.0</td>\n",
       "      <td>0.0</td>\n",
       "      <td>40.0</td>\n",
       "      <td>0.0</td>\n",
       "      <td>0.0</td>\n",
       "      <td>0.0</td>\n",
       "    </tr>\n",
       "    <tr>\n",
       "      <th>3</th>\n",
       "      <td>2023</td>\n",
       "      <td>23596.728960</td>\n",
       "      <td>23.31</td>\n",
       "      <td>33.0</td>\n",
       "      <td>38.0</td>\n",
       "      <td>0.5</td>\n",
       "      <td>35.0</td>\n",
       "      <td>98.0</td>\n",
       "      <td>0.0</td>\n",
       "      <td>0.0</td>\n",
       "      <td>...</td>\n",
       "      <td>40.0</td>\n",
       "      <td>0.0</td>\n",
       "      <td>100.0</td>\n",
       "      <td>60.0</td>\n",
       "      <td>0.0</td>\n",
       "      <td>0.0</td>\n",
       "      <td>40.0</td>\n",
       "      <td>0.0</td>\n",
       "      <td>0.0</td>\n",
       "      <td>0.0</td>\n",
       "    </tr>\n",
       "    <tr>\n",
       "      <th>4</th>\n",
       "      <td>2024</td>\n",
       "      <td>23596.728960</td>\n",
       "      <td>23.48</td>\n",
       "      <td>33.0</td>\n",
       "      <td>38.0</td>\n",
       "      <td>0.5</td>\n",
       "      <td>35.0</td>\n",
       "      <td>98.0</td>\n",
       "      <td>0.0</td>\n",
       "      <td>0.0</td>\n",
       "      <td>...</td>\n",
       "      <td>40.0</td>\n",
       "      <td>0.0</td>\n",
       "      <td>100.0</td>\n",
       "      <td>60.0</td>\n",
       "      <td>0.0</td>\n",
       "      <td>0.0</td>\n",
       "      <td>40.0</td>\n",
       "      <td>0.0</td>\n",
       "      <td>0.0</td>\n",
       "      <td>0.0</td>\n",
       "    </tr>\n",
       "  </tbody>\n",
       "</table>\n",
       "<p>5 rows × 25 columns</p>\n",
       "</div>"
      ],
      "text/plain": [
       "   year  new_Installed_Capacity_[MW]  mod_eff  mod_reliability_t50  \\\n",
       "0  2020                 19914.550101    22.80                 33.0   \n",
       "1  2021                 24094.804465    22.97                 33.0   \n",
       "2  2022                 21893.147053    23.14                 33.0   \n",
       "3  2023                 23596.728960    23.31                 33.0   \n",
       "4  2024                 23596.728960    23.48                 33.0   \n",
       "\n",
       "   mod_reliability_t90  mod_degradation  mod_lifetime  mod_MFG_eff  \\\n",
       "0                 38.0              0.5          35.0         98.0   \n",
       "1                 38.0              0.5          35.0         98.0   \n",
       "2                 38.0              0.5          35.0         98.0   \n",
       "3                 38.0              0.5          35.0         98.0   \n",
       "4                 38.0              0.5          35.0         98.0   \n",
       "\n",
       "   mod_Repair  mod_MerchantTail  ...  mod_EOL_pg4_recycled  \\\n",
       "0         0.0               0.0  ...                  40.0   \n",
       "1         0.0               0.0  ...                  40.0   \n",
       "2         0.0               0.0  ...                  40.0   \n",
       "3         0.0               0.0  ...                  40.0   \n",
       "4         0.0               0.0  ...                  40.0   \n",
       "\n",
       "   mod_EOL_reMFG_yield  mod_EOL_sp_reMFG_recycle  mod_EOL_pb1_landfill  \\\n",
       "0                  0.0                     100.0                  60.0   \n",
       "1                  0.0                     100.0                  60.0   \n",
       "2                  0.0                     100.0                  60.0   \n",
       "3                  0.0                     100.0                  60.0   \n",
       "4                  0.0                     100.0                  60.0   \n",
       "\n",
       "   mod_EOL_pb2_stored  mod_EOL_pb3_reMFG  mod_EOL_pb4_recycled  \\\n",
       "0                 0.0                0.0                  40.0   \n",
       "1                 0.0                0.0                  40.0   \n",
       "2                 0.0                0.0                  40.0   \n",
       "3                 0.0                0.0                  40.0   \n",
       "4                 0.0                0.0                  40.0   \n",
       "\n",
       "   mod_EOL_collection_eff   mod_EOL_collected_recycled  mod_Reuse  \n",
       "0                      0.0                         0.0        0.0  \n",
       "1                      0.0                         0.0        0.0  \n",
       "2                      0.0                         0.0        0.0  \n",
       "3                      0.0                         0.0        0.0  \n",
       "4                      0.0                         0.0        0.0  \n",
       "\n",
       "[5 rows x 25 columns]"
      ]
     },
     "execution_count": 42,
     "metadata": {},
     "output_type": "execute_result"
    }
   ],
   "source": [
    "sim1.scenario['PERC'].dataIn_m.head()"
   ]
  },
  {
   "cell_type": "code",
   "execution_count": 43,
   "id": "31db0303",
   "metadata": {
    "scrolled": true
   },
   "outputs": [
    {
     "data": {
      "text/html": [
       "<div>\n",
       "<style scoped>\n",
       "    .dataframe tbody tr th:only-of-type {\n",
       "        vertical-align: middle;\n",
       "    }\n",
       "\n",
       "    .dataframe tbody tr th {\n",
       "        vertical-align: top;\n",
       "    }\n",
       "\n",
       "    .dataframe thead th {\n",
       "        text-align: right;\n",
       "    }\n",
       "</style>\n",
       "<table border=\"1\" class=\"dataframe\">\n",
       "  <thead>\n",
       "    <tr style=\"text-align: right;\">\n",
       "      <th></th>\n",
       "      <th>year</th>\n",
       "      <th>mat_virgin_eff</th>\n",
       "      <th>mat_massperm2</th>\n",
       "      <th>mat_MFG_eff</th>\n",
       "      <th>mat_MFG_scrap_Recycled</th>\n",
       "      <th>mat_MFG_scrap_Recycling_eff</th>\n",
       "      <th>mat_MFG_scrap_Recycled_into_HQ</th>\n",
       "      <th>mat_MFG_scrap_Recycled_into_HQ_Reused4MFG</th>\n",
       "      <th>mat_PG3_ReMFG_target</th>\n",
       "      <th>mat_ReMFG_yield</th>\n",
       "      <th>mat_PG4_Recycling_target</th>\n",
       "      <th>mat_Recycling_yield</th>\n",
       "      <th>mat_EOL_Recycled_into_HQ</th>\n",
       "      <th>mat_EOL_RecycledHQ_Reused4MFG</th>\n",
       "      <th>mod_EOL_p5_recycled</th>\n",
       "      <th>mat_EOL_Recycling_yield</th>\n",
       "    </tr>\n",
       "  </thead>\n",
       "  <tbody>\n",
       "    <tr>\n",
       "      <th>0</th>\n",
       "      <td>2020</td>\n",
       "      <td>75.0</td>\n",
       "      <td>3.483815</td>\n",
       "      <td>80.0</td>\n",
       "      <td>0.0</td>\n",
       "      <td>0.0</td>\n",
       "      <td>0.0</td>\n",
       "      <td>0.0</td>\n",
       "      <td>0.0</td>\n",
       "      <td>0.0</td>\n",
       "      <td>0.0</td>\n",
       "      <td>97.0</td>\n",
       "      <td>0.0</td>\n",
       "      <td>0.0</td>\n",
       "      <td>0.0</td>\n",
       "      <td>0.0</td>\n",
       "    </tr>\n",
       "    <tr>\n",
       "      <th>1</th>\n",
       "      <td>2021</td>\n",
       "      <td>75.0</td>\n",
       "      <td>3.342285</td>\n",
       "      <td>80.0</td>\n",
       "      <td>0.0</td>\n",
       "      <td>0.0</td>\n",
       "      <td>0.0</td>\n",
       "      <td>0.0</td>\n",
       "      <td>0.0</td>\n",
       "      <td>0.0</td>\n",
       "      <td>0.0</td>\n",
       "      <td>97.0</td>\n",
       "      <td>0.0</td>\n",
       "      <td>0.0</td>\n",
       "      <td>0.0</td>\n",
       "      <td>0.0</td>\n",
       "    </tr>\n",
       "    <tr>\n",
       "      <th>2</th>\n",
       "      <td>2022</td>\n",
       "      <td>75.0</td>\n",
       "      <td>3.200755</td>\n",
       "      <td>80.0</td>\n",
       "      <td>0.0</td>\n",
       "      <td>0.0</td>\n",
       "      <td>0.0</td>\n",
       "      <td>0.0</td>\n",
       "      <td>0.0</td>\n",
       "      <td>0.0</td>\n",
       "      <td>0.0</td>\n",
       "      <td>97.0</td>\n",
       "      <td>0.0</td>\n",
       "      <td>0.0</td>\n",
       "      <td>0.0</td>\n",
       "      <td>0.0</td>\n",
       "    </tr>\n",
       "    <tr>\n",
       "      <th>3</th>\n",
       "      <td>2023</td>\n",
       "      <td>75.0</td>\n",
       "      <td>3.059225</td>\n",
       "      <td>80.0</td>\n",
       "      <td>0.0</td>\n",
       "      <td>0.0</td>\n",
       "      <td>0.0</td>\n",
       "      <td>0.0</td>\n",
       "      <td>0.0</td>\n",
       "      <td>0.0</td>\n",
       "      <td>0.0</td>\n",
       "      <td>97.0</td>\n",
       "      <td>0.0</td>\n",
       "      <td>0.0</td>\n",
       "      <td>0.0</td>\n",
       "      <td>0.0</td>\n",
       "    </tr>\n",
       "    <tr>\n",
       "      <th>4</th>\n",
       "      <td>2024</td>\n",
       "      <td>75.0</td>\n",
       "      <td>2.917695</td>\n",
       "      <td>80.0</td>\n",
       "      <td>0.0</td>\n",
       "      <td>0.0</td>\n",
       "      <td>0.0</td>\n",
       "      <td>0.0</td>\n",
       "      <td>0.0</td>\n",
       "      <td>0.0</td>\n",
       "      <td>0.0</td>\n",
       "      <td>97.0</td>\n",
       "      <td>0.0</td>\n",
       "      <td>0.0</td>\n",
       "      <td>0.0</td>\n",
       "      <td>0.0</td>\n",
       "    </tr>\n",
       "  </tbody>\n",
       "</table>\n",
       "</div>"
      ],
      "text/plain": [
       "   year  mat_virgin_eff  mat_massperm2  mat_MFG_eff  mat_MFG_scrap_Recycled  \\\n",
       "0  2020            75.0       3.483815         80.0                     0.0   \n",
       "1  2021            75.0       3.342285         80.0                     0.0   \n",
       "2  2022            75.0       3.200755         80.0                     0.0   \n",
       "3  2023            75.0       3.059225         80.0                     0.0   \n",
       "4  2024            75.0       2.917695         80.0                     0.0   \n",
       "\n",
       "   mat_MFG_scrap_Recycling_eff  mat_MFG_scrap_Recycled_into_HQ  \\\n",
       "0                          0.0                             0.0   \n",
       "1                          0.0                             0.0   \n",
       "2                          0.0                             0.0   \n",
       "3                          0.0                             0.0   \n",
       "4                          0.0                             0.0   \n",
       "\n",
       "   mat_MFG_scrap_Recycled_into_HQ_Reused4MFG  mat_PG3_ReMFG_target  \\\n",
       "0                                        0.0                   0.0   \n",
       "1                                        0.0                   0.0   \n",
       "2                                        0.0                   0.0   \n",
       "3                                        0.0                   0.0   \n",
       "4                                        0.0                   0.0   \n",
       "\n",
       "   mat_ReMFG_yield  mat_PG4_Recycling_target  mat_Recycling_yield  \\\n",
       "0              0.0                       0.0                 97.0   \n",
       "1              0.0                       0.0                 97.0   \n",
       "2              0.0                       0.0                 97.0   \n",
       "3              0.0                       0.0                 97.0   \n",
       "4              0.0                       0.0                 97.0   \n",
       "\n",
       "   mat_EOL_Recycled_into_HQ  mat_EOL_RecycledHQ_Reused4MFG  \\\n",
       "0                       0.0                            0.0   \n",
       "1                       0.0                            0.0   \n",
       "2                       0.0                            0.0   \n",
       "3                       0.0                            0.0   \n",
       "4                       0.0                            0.0   \n",
       "\n",
       "   mod_EOL_p5_recycled  mat_EOL_Recycling_yield  \n",
       "0                  0.0                      0.0  \n",
       "1                  0.0                      0.0  \n",
       "2                  0.0                      0.0  \n",
       "3                  0.0                      0.0  \n",
       "4                  0.0                      0.0  "
      ]
     },
     "execution_count": 43,
     "metadata": {},
     "output_type": "execute_result"
    }
   ],
   "source": [
    "sim1.scenario['PERC'].material['silver'].matdataIn_m.head()"
   ]
  },
  {
   "cell_type": "markdown",
   "id": "64a15b9a",
   "metadata": {},
   "source": [
    "# Run Simulations"
   ]
  },
  {
   "cell_type": "code",
   "execution_count": 44,
   "id": "a1545abc",
   "metadata": {},
   "outputs": [
    {
     "data": {
      "text/plain": [
       "'C:\\\\Users\\\\hmirletz\\\\Documents\\\\GitHub\\\\PV_ICE\\\\PV_ICE\\\\TEMP\\\\CellTechCompare\\\\bifi_topcon.csv'"
      ]
     },
     "execution_count": 44,
     "metadata": {},
     "output_type": "execute_result"
    }
   ],
   "source": [
    "scennames\n",
    "bifi_perc_path\n",
    "bifi_shj_path \n",
    "bifi_topcon_path "
   ]
  },
  {
   "cell_type": "code",
   "execution_count": 49,
   "id": "7ed29608",
   "metadata": {
    "scrolled": true
   },
   "outputs": [
    {
     "name": "stdout",
     "output_type": "stream",
     "text": [
      ">>>> Calculating Material Flows <<<<\n",
      "\n",
      "Working on Scenario:  PERC\n",
      "********************\n",
      "Finished Area+Power Generation Calculations\n",
      "==> Working on Material :  glass\n",
      "==> Working on Material :  aluminium_frames\n",
      "==> Working on Material :  silver\n",
      "==> Working on Material :  silicon\n",
      "==> Working on Material :  copper\n",
      "==> Working on Material :  encapsulant\n",
      "==> Working on Material :  backsheet\n",
      "\n",
      "\n",
      ">>>> Calculating Energy Flows <<<<\n",
      "\n",
      "Working on Scenario:  PERC\n",
      "********************\n",
      "==> Working on Energy for Material :  glass\n",
      "==> Working on Energy for Material :  aluminium_frames\n",
      "==> Working on Energy for Material :  silver\n",
      "==> Working on Energy for Material :  silicon\n",
      "==> Working on Energy for Material :  copper\n",
      "==> Working on Energy for Material :  encapsulant\n",
      "==> Working on Energy for Material :  backsheet\n",
      ">>>> Calculating Material Flows <<<<\n",
      "\n",
      "Working on Scenario:  SHJ\n",
      "********************\n",
      "Finished Area+Power Generation Calculations\n",
      "==> Working on Material :  glass\n",
      "==> Working on Material :  aluminium_frames\n",
      "==> Working on Material :  silver\n",
      "==> Working on Material :  silicon\n",
      "==> Working on Material :  copper\n",
      "==> Working on Material :  encapsulant\n",
      "==> Working on Material :  backsheet\n",
      "\n",
      "\n",
      ">>>> Calculating Energy Flows <<<<\n",
      "\n",
      "Working on Scenario:  SHJ\n",
      "********************\n",
      "==> Working on Energy for Material :  glass\n",
      "==> Working on Energy for Material :  aluminium_frames\n",
      "==> Working on Energy for Material :  silver\n",
      "==> Working on Energy for Material :  silicon\n",
      "==> Working on Energy for Material :  copper\n",
      "==> Working on Energy for Material :  encapsulant\n",
      "==> Working on Energy for Material :  backsheet\n",
      ">>>> Calculating Material Flows <<<<\n",
      "\n",
      "Working on Scenario:  TOPCon\n",
      "********************\n",
      "Finished Area+Power Generation Calculations\n",
      "==> Working on Material :  glass\n",
      "==> Working on Material :  aluminium_frames\n",
      "==> Working on Material :  silver\n",
      "==> Working on Material :  silicon\n",
      "==> Working on Material :  copper\n",
      "==> Working on Material :  encapsulant\n",
      "==> Working on Material :  backsheet\n",
      "\n",
      "\n",
      ">>>> Calculating Energy Flows <<<<\n",
      "\n",
      "Working on Scenario:  TOPCon\n",
      "********************\n",
      "==> Working on Energy for Material :  glass\n",
      "==> Working on Energy for Material :  aluminium_frames\n",
      "==> Working on Energy for Material :  silver\n",
      "==> Working on Energy for Material :  silicon\n",
      "==> Working on Energy for Material :  copper\n",
      "==> Working on Energy for Material :  encapsulant\n",
      "==> Working on Energy for Material :  backsheet\n"
     ]
    }
   ],
   "source": [
    "sim1.calculateFlows(scenarios='PERC', bifacialityfactors=bifi_perc_path)\n",
    "sim1.calculateFlows(scenarios='SHJ', bifacialityfactors=bifi_shj_path)\n",
    "sim1.calculateFlows(scenarios='TOPCon', bifacialityfactors=bifi_topcon_path)\n",
    "\n",
    "perc_yearly, perc_cum = sim1.aggregateResults(scenarios='PERC')\n",
    "shj_yearly, shj_cum = sim1.aggregateResults(scenarios='SHJ')\n",
    "topcon_yearly, topcon_cum = sim1.aggregateResults(scenarios='TOPCon')"
   ]
  },
  {
   "cell_type": "code",
   "execution_count": 59,
   "id": "2b801eca",
   "metadata": {
    "scrolled": true
   },
   "outputs": [
    {
     "data": {
      "application/vnd.plotly.v1+json": {
       "config": {
        "plotlyServerURL": "https://plot.ly"
       },
       "data": [
        {
         "hovertemplate": "Glass sim1 topcon",
         "legendgroup": "VirginStock_glass_sim1_TOPCon_[Tonnes]",
         "line": {
          "color": "#636efa",
          "dash": "solid"
         },
         "marker": {
          "symbol": "circle"
         },
         "mode": "lines",
         "name": "Glass sim1 topcon",
         "orientation": "v",
         "showlegend": true,
         "type": "scatter",
         "x": [
          2020,
          2021,
          2022,
          2023,
          2024,
          2025,
          2026,
          2027,
          2028,
          2029,
          2030,
          2031,
          2032,
          2033,
          2034,
          2035,
          2036,
          2037,
          2038,
          2039,
          2040,
          2041,
          2042,
          2043,
          2044,
          2045,
          2046,
          2047,
          2048,
          2049,
          2050
         ],
         "xaxis": "x",
         "y": [
          1049459.2263624459,
          1256074.2260120315,
          1130248.2934619475,
          1205236.6078010076,
          1193715.939461663,
          1214430.545620606,
          1201741.0315839734,
          1289783.565838594,
          1277761.7269622672,
          1426259.1204555016,
          1413129.4688189528,
          1679857.2998503554,
          1679857.2998503554,
          2435244.1669148016,
          2435244.1669148016,
          2739092.6250410383,
          2739092.6250410383,
          2860037.2212296817,
          2860037.2212296817,
          3149983.47896959,
          3149983.47896959,
          3199004.00022523,
          3199004.00022523,
          3538125.4194438728,
          3538125.4194438728,
          3748429.4880971466,
          3748429.4880971466,
          3874630.0166250565,
          3874630.0166250565,
          4171862.9387220666,
          4171862.9387220666
         ],
         "yaxis": "y"
        },
        {
         "hovertemplate": "Aluminium frames sim1 topcon",
         "legendgroup": "VirginStock_aluminium_frames_sim1_TOPCon_[Tonnes]",
         "line": {
          "color": "#EF553B",
          "dash": "solid"
         },
         "marker": {
          "symbol": "circle"
         },
         "mode": "lines",
         "name": "Aluminium frames sim1 topcon",
         "orientation": "v",
         "showlegend": true,
         "type": "scatter",
         "x": [
          2020,
          2021,
          2022,
          2023,
          2024,
          2025,
          2026,
          2027,
          2028,
          2029,
          2030,
          2031,
          2032,
          2033,
          2034,
          2035,
          2036,
          2037,
          2038,
          2039,
          2040,
          2041,
          2042,
          2043,
          2044,
          2045,
          2046,
          2047,
          2048,
          2049,
          2050
         ],
         "xaxis": "x",
         "y": [
          110073.47941324257,
          125124.17663038542,
          110920.87515953612,
          116611.6303576632,
          114388.37249706815,
          115239.92514102414,
          113477.77081842367,
          121063.41697335534,
          119209.83941827585,
          132384.1817067457,
          130353.7122780901,
          153677.2984273428,
          153677.2984273428,
          222781.86642148107,
          222781.86642148107,
          250578.6383141372,
          250578.6383141372,
          261642.93455127135,
          261642.93455127135,
          288167.90044126485,
          288167.90044126485,
          292652.4130690564,
          292652.4130690564,
          323676.03843831236,
          323676.03843831236,
          342915.1494757753,
          342915.1494757753,
          354460.27077030414,
          354460.27077030414,
          381651.83786091494,
          381651.83786091494
         ],
         "yaxis": "y"
        },
        {
         "hovertemplate": "Silver sim1 topcon",
         "legendgroup": "VirginStock_silver_sim1_TOPCon_[Tonnes]",
         "line": {
          "color": "#00cc96",
          "dash": "solid"
         },
         "marker": {
          "symbol": "circle"
         },
         "mode": "lines",
         "name": "Silver sim1 topcon",
         "orientation": "v",
         "showlegend": true,
         "type": "scatter",
         "x": [
          2020,
          2021,
          2022,
          2023,
          2024,
          2025,
          2026,
          2027,
          2028,
          2029,
          2030,
          2031,
          2032,
          2033,
          2034,
          2035,
          2036,
          2037,
          2038,
          2039,
          2040,
          2041,
          2042,
          2043,
          2044,
          2045,
          2046,
          2047,
          2048,
          2049,
          2050
         ],
         "xaxis": "x",
         "y": [
          599.6724882587384,
          689.9282605816659,
          595.0144479857806,
          607.483687855061,
          574.1619450899998,
          556.0131604608318,
          522.7992151706701,
          530.9577808764391,
          496.020647753232,
          520.5794031093832,
          482.30812361163635,
          567.9119835852781,
          562.4803068028472,
          807.5384897669247,
          799.6643333119927,
          890.5828267547968,
          881.7262019583402,
          911.4111210184423,
          902.1634320791347,
          983.4381937844125,
          973.252988095046,
          978.0551894867738,
          967.7114800797457,
          1058.8568332315203,
          1047.4166033406636,
          1097.5541923614392,
          1085.4339620163437,
          1109.4496015450964,
          1096.9213124435832,
          1167.579625842591,
          1154.0902591768872
         ],
         "yaxis": "y"
        },
        {
         "hovertemplate": "Silicon sim1 topcon",
         "legendgroup": "VirginStock_silicon_sim1_TOPCon_[Tonnes]",
         "line": {
          "color": "#ab63fa",
          "dash": "solid"
         },
         "marker": {
          "symbol": "circle"
         },
         "mode": "lines",
         "name": "Silicon sim1 topcon",
         "orientation": "v",
         "showlegend": true,
         "type": "scatter",
         "x": [
          2020,
          2021,
          2022,
          2023,
          2024,
          2025,
          2026,
          2027,
          2028,
          2029,
          2030,
          2031,
          2032,
          2033,
          2034,
          2035,
          2036,
          2037,
          2038,
          2039,
          2040,
          2041,
          2042,
          2043,
          2044,
          2045,
          2046,
          2047,
          2048,
          2049,
          2050
         ],
         "xaxis": "x",
         "y": [
          48075.639460522565,
          57224.59401847757,
          51441.578598991,
          52571.13881633671,
          49546.91033798556,
          49279.56061438528,
          47799.87302575681,
          50370.49081578003,
          48898.93612707687,
          53525.04860720891,
          52423.33631816562,
          61885.462362777245,
          61885.462362777245,
          89713.69844879324,
          89713.69844879324,
          100907.38872298149,
          100907.38872298149,
          105362.95304745139,
          105362.95304745139,
          116044.49023646723,
          116044.49023646723,
          117850.39221602218,
          117850.39221602218,
          130343.52828617315,
          130343.52828617315,
          138091.070012807,
          138091.070012807,
          142740.26138106926,
          142740.26138106926,
          153690.2372004745,
          153690.2372004745
         ],
         "yaxis": "y"
        },
        {
         "hovertemplate": "Copper sim1 topcon",
         "legendgroup": "VirginStock_copper_sim1_TOPCon_[Tonnes]",
         "line": {
          "color": "#FFA15A",
          "dash": "solid"
         },
         "marker": {
          "symbol": "circle"
         },
         "mode": "lines",
         "name": "Copper sim1 topcon",
         "orientation": "v",
         "showlegend": true,
         "type": "scatter",
         "x": [
          2020,
          2021,
          2022,
          2023,
          2024,
          2025,
          2026,
          2027,
          2028,
          2029,
          2030,
          2031,
          2032,
          2033,
          2034,
          2035,
          2036,
          2037,
          2038,
          2039,
          2040,
          2041,
          2042,
          2043,
          2044,
          2045,
          2046,
          2047,
          2048,
          2049,
          2050
         ],
         "xaxis": "x",
         "y": [
          741.2093086142581,
          894.7387973929599,
          811.1413725654213,
          875.1099207338764,
          875.9479329782403,
          865.2266274932251,
          831.2701779135631,
          864.3698475638639,
          827.3151529308021,
          891.8583089165116,
          851.2673832108171,
          1011.9438872125103,
          1011.9438872125103,
          1466.9879690369428,
          1466.9879690369428,
          1650.0258912861611,
          1650.0258912861611,
          1722.8827612211169,
          1722.8827612211169,
          1897.5460157524278,
          1897.5460157524278,
          1927.0759150105582,
          1927.0759150105582,
          2131.362223872452,
          2131.362223872452,
          2258.0491256399764,
          2258.0491256399764,
          2334.0721624885127,
          2334.0721624885127,
          2513.1248943016108,
          2513.1248943016108
         ],
         "yaxis": "y"
        },
        {
         "hovertemplate": "Encapsulant sim1 topcon",
         "legendgroup": "VirginStock_encapsulant_sim1_TOPCon_[Tonnes]",
         "line": {
          "color": "#19d3f3",
          "dash": "solid"
         },
         "marker": {
          "symbol": "circle"
         },
         "mode": "lines",
         "name": "Encapsulant sim1 topcon",
         "orientation": "v",
         "showlegend": true,
         "type": "scatter",
         "x": [
          2020,
          2021,
          2022,
          2023,
          2024,
          2025,
          2026,
          2027,
          2028,
          2029,
          2030,
          2031,
          2032,
          2033,
          2034,
          2035,
          2036,
          2037,
          2038,
          2039,
          2040,
          2041,
          2042,
          2043,
          2044,
          2045,
          2046,
          2047,
          2048,
          2049,
          2050
         ],
         "xaxis": "x",
         "y": [
          69587.74336898379,
          79638.55594637025,
          69414.048928192,
          73833.35849853289,
          71179.22393789786,
          69144.28820094063,
          65932.4079420087,
          69696.60864018269,
          67972.62164296553,
          76315.5198718862,
          75940.59788079713,
          90481.86256209476,
          90481.86256209476,
          131169.13444704906,
          131169.13444704906,
          147535.27127922617,
          147535.27127922617,
          154049.68909968258,
          154049.68909968258,
          169667.01412220273,
          169667.01412220273,
          172307.3979615742,
          172307.3979615742,
          190573.4361829976,
          190573.4361829976,
          201901.00777960286,
          201901.00777960286,
          208698.52497260692,
          208698.52497260692,
          224708.3303343523,
          224708.3303343523
         ],
         "yaxis": "y"
        },
        {
         "hovertemplate": "Backsheet sim1 topcon",
         "legendgroup": "VirginStock_backsheet_sim1_TOPCon_[Tonnes]",
         "line": {
          "color": "#FF6692",
          "dash": "solid"
         },
         "marker": {
          "symbol": "circle"
         },
         "mode": "lines",
         "name": "Backsheet sim1 topcon",
         "orientation": "v",
         "showlegend": true,
         "type": "scatter",
         "x": [
          2020,
          2021,
          2022,
          2023,
          2024,
          2025,
          2026,
          2027,
          2028,
          2029,
          2030,
          2031,
          2032,
          2033,
          2034,
          2035,
          2036,
          2037,
          2038,
          2039,
          2040,
          2041,
          2042,
          2043,
          2044,
          2045,
          2046,
          2047,
          2048,
          2049,
          2050
         ],
         "xaxis": "x",
         "y": [
          36351.67414580671,
          41250.54012991613,
          36245.178121531906,
          37744.19144752695,
          36936.841824916846,
          37166.59197295261,
          35408.65793278481,
          36371.650996174685,
          34418.54267899976,
          36459.00933605613,
          34201.599111038835,
          38290.90752568248,
          38290.90752568248,
          55509.303799851936,
          55509.303799851936,
          62435.26900711647,
          62435.26900711647,
          65192.09742867519,
          65192.09742867519,
          71801.17389220907,
          71801.17389220907,
          72918.55466403278,
          72918.55466403278,
          80648.53679075031,
          80648.53679075031,
          85442.23780677983,
          85442.23780677983,
          88318.87070171976,
          88318.87070171976,
          95094.04043466006,
          95094.04043466006
         ],
         "yaxis": "y"
        },
        {
         "hovertemplate": "Module sim1 topcon",
         "legendgroup": "VirginStock_Module_sim1_TOPCon_[Tonnes]",
         "line": {
          "color": "#B6E880",
          "dash": "solid"
         },
         "marker": {
          "symbol": "circle"
         },
         "mode": "lines",
         "name": "Module sim1 topcon",
         "orientation": "v",
         "showlegend": true,
         "type": "scatter",
         "x": [
          2020,
          2021,
          2022,
          2023,
          2024,
          2025,
          2026,
          2027,
          2028,
          2029,
          2030,
          2031,
          2032,
          2033,
          2034,
          2035,
          2036,
          2037,
          2038,
          2039,
          2040,
          2041,
          2042,
          2043,
          2044,
          2045,
          2046,
          2047,
          2048,
          2049,
          2050
         ],
         "xaxis": "x",
         "y": [
          1314888.6445478746,
          1560896.7597951558,
          1399676.1300907498,
          1487479.5205296562,
          1467217.3979375996,
          1486682.1513378627,
          1465713.8106960317,
          1568681.0608925268,
          1549585.0026302694,
          1726355.3176894246,
          1707382.289913867,
          2025772.6865990502,
          2025767.2549222677,
          2936692.6964907814,
          2936684.8223343263,
          3303089.8010825403,
          3303080.9444577442,
          3448919.189239002,
          3448909.9415500625,
          3798545.04187127,
          3798534.856665581,
          3857637.8892404125,
          3857627.5455310056,
          4266557.17819921,
          4266545.73796932,
          4520134.556490113,
          4520122.436259769,
          4672291.46621479,
          4672278.937925689,
          5030688.089072613,
          5030674.599705948
         ],
         "yaxis": "y"
        }
       ],
       "layout": {
        "legend": {
         "title": {
          "text": "variable"
         },
         "tracegroupgap": 0
        },
        "margin": {
         "t": 60
        },
        "template": {
         "data": {
          "bar": [
           {
            "error_x": {
             "color": "#2a3f5f"
            },
            "error_y": {
             "color": "#2a3f5f"
            },
            "marker": {
             "line": {
              "color": "white",
              "width": 0.5
             },
             "pattern": {
              "fillmode": "overlay",
              "size": 10,
              "solidity": 0.2
             }
            },
            "type": "bar"
           }
          ],
          "barpolar": [
           {
            "marker": {
             "line": {
              "color": "white",
              "width": 0.5
             },
             "pattern": {
              "fillmode": "overlay",
              "size": 10,
              "solidity": 0.2
             }
            },
            "type": "barpolar"
           }
          ],
          "carpet": [
           {
            "aaxis": {
             "endlinecolor": "#2a3f5f",
             "gridcolor": "#C8D4E3",
             "linecolor": "#C8D4E3",
             "minorgridcolor": "#C8D4E3",
             "startlinecolor": "#2a3f5f"
            },
            "baxis": {
             "endlinecolor": "#2a3f5f",
             "gridcolor": "#C8D4E3",
             "linecolor": "#C8D4E3",
             "minorgridcolor": "#C8D4E3",
             "startlinecolor": "#2a3f5f"
            },
            "type": "carpet"
           }
          ],
          "choropleth": [
           {
            "colorbar": {
             "outlinewidth": 0,
             "ticks": ""
            },
            "type": "choropleth"
           }
          ],
          "contour": [
           {
            "colorbar": {
             "outlinewidth": 0,
             "ticks": ""
            },
            "colorscale": [
             [
              0,
              "#0d0887"
             ],
             [
              0.1111111111111111,
              "#46039f"
             ],
             [
              0.2222222222222222,
              "#7201a8"
             ],
             [
              0.3333333333333333,
              "#9c179e"
             ],
             [
              0.4444444444444444,
              "#bd3786"
             ],
             [
              0.5555555555555556,
              "#d8576b"
             ],
             [
              0.6666666666666666,
              "#ed7953"
             ],
             [
              0.7777777777777778,
              "#fb9f3a"
             ],
             [
              0.8888888888888888,
              "#fdca26"
             ],
             [
              1,
              "#f0f921"
             ]
            ],
            "type": "contour"
           }
          ],
          "contourcarpet": [
           {
            "colorbar": {
             "outlinewidth": 0,
             "ticks": ""
            },
            "type": "contourcarpet"
           }
          ],
          "heatmap": [
           {
            "colorbar": {
             "outlinewidth": 0,
             "ticks": ""
            },
            "colorscale": [
             [
              0,
              "#0d0887"
             ],
             [
              0.1111111111111111,
              "#46039f"
             ],
             [
              0.2222222222222222,
              "#7201a8"
             ],
             [
              0.3333333333333333,
              "#9c179e"
             ],
             [
              0.4444444444444444,
              "#bd3786"
             ],
             [
              0.5555555555555556,
              "#d8576b"
             ],
             [
              0.6666666666666666,
              "#ed7953"
             ],
             [
              0.7777777777777778,
              "#fb9f3a"
             ],
             [
              0.8888888888888888,
              "#fdca26"
             ],
             [
              1,
              "#f0f921"
             ]
            ],
            "type": "heatmap"
           }
          ],
          "heatmapgl": [
           {
            "colorbar": {
             "outlinewidth": 0,
             "ticks": ""
            },
            "colorscale": [
             [
              0,
              "#0d0887"
             ],
             [
              0.1111111111111111,
              "#46039f"
             ],
             [
              0.2222222222222222,
              "#7201a8"
             ],
             [
              0.3333333333333333,
              "#9c179e"
             ],
             [
              0.4444444444444444,
              "#bd3786"
             ],
             [
              0.5555555555555556,
              "#d8576b"
             ],
             [
              0.6666666666666666,
              "#ed7953"
             ],
             [
              0.7777777777777778,
              "#fb9f3a"
             ],
             [
              0.8888888888888888,
              "#fdca26"
             ],
             [
              1,
              "#f0f921"
             ]
            ],
            "type": "heatmapgl"
           }
          ],
          "histogram": [
           {
            "marker": {
             "pattern": {
              "fillmode": "overlay",
              "size": 10,
              "solidity": 0.2
             }
            },
            "type": "histogram"
           }
          ],
          "histogram2d": [
           {
            "colorbar": {
             "outlinewidth": 0,
             "ticks": ""
            },
            "colorscale": [
             [
              0,
              "#0d0887"
             ],
             [
              0.1111111111111111,
              "#46039f"
             ],
             [
              0.2222222222222222,
              "#7201a8"
             ],
             [
              0.3333333333333333,
              "#9c179e"
             ],
             [
              0.4444444444444444,
              "#bd3786"
             ],
             [
              0.5555555555555556,
              "#d8576b"
             ],
             [
              0.6666666666666666,
              "#ed7953"
             ],
             [
              0.7777777777777778,
              "#fb9f3a"
             ],
             [
              0.8888888888888888,
              "#fdca26"
             ],
             [
              1,
              "#f0f921"
             ]
            ],
            "type": "histogram2d"
           }
          ],
          "histogram2dcontour": [
           {
            "colorbar": {
             "outlinewidth": 0,
             "ticks": ""
            },
            "colorscale": [
             [
              0,
              "#0d0887"
             ],
             [
              0.1111111111111111,
              "#46039f"
             ],
             [
              0.2222222222222222,
              "#7201a8"
             ],
             [
              0.3333333333333333,
              "#9c179e"
             ],
             [
              0.4444444444444444,
              "#bd3786"
             ],
             [
              0.5555555555555556,
              "#d8576b"
             ],
             [
              0.6666666666666666,
              "#ed7953"
             ],
             [
              0.7777777777777778,
              "#fb9f3a"
             ],
             [
              0.8888888888888888,
              "#fdca26"
             ],
             [
              1,
              "#f0f921"
             ]
            ],
            "type": "histogram2dcontour"
           }
          ],
          "mesh3d": [
           {
            "colorbar": {
             "outlinewidth": 0,
             "ticks": ""
            },
            "type": "mesh3d"
           }
          ],
          "parcoords": [
           {
            "line": {
             "colorbar": {
              "outlinewidth": 0,
              "ticks": ""
             }
            },
            "type": "parcoords"
           }
          ],
          "pie": [
           {
            "automargin": true,
            "type": "pie"
           }
          ],
          "scatter": [
           {
            "fillpattern": {
             "fillmode": "overlay",
             "size": 10,
             "solidity": 0.2
            },
            "type": "scatter"
           }
          ],
          "scatter3d": [
           {
            "line": {
             "colorbar": {
              "outlinewidth": 0,
              "ticks": ""
             }
            },
            "marker": {
             "colorbar": {
              "outlinewidth": 0,
              "ticks": ""
             }
            },
            "type": "scatter3d"
           }
          ],
          "scattercarpet": [
           {
            "marker": {
             "colorbar": {
              "outlinewidth": 0,
              "ticks": ""
             }
            },
            "type": "scattercarpet"
           }
          ],
          "scattergeo": [
           {
            "marker": {
             "colorbar": {
              "outlinewidth": 0,
              "ticks": ""
             }
            },
            "type": "scattergeo"
           }
          ],
          "scattergl": [
           {
            "marker": {
             "colorbar": {
              "outlinewidth": 0,
              "ticks": ""
             }
            },
            "type": "scattergl"
           }
          ],
          "scattermapbox": [
           {
            "marker": {
             "colorbar": {
              "outlinewidth": 0,
              "ticks": ""
             }
            },
            "type": "scattermapbox"
           }
          ],
          "scatterpolar": [
           {
            "marker": {
             "colorbar": {
              "outlinewidth": 0,
              "ticks": ""
             }
            },
            "type": "scatterpolar"
           }
          ],
          "scatterpolargl": [
           {
            "marker": {
             "colorbar": {
              "outlinewidth": 0,
              "ticks": ""
             }
            },
            "type": "scatterpolargl"
           }
          ],
          "scatterternary": [
           {
            "marker": {
             "colorbar": {
              "outlinewidth": 0,
              "ticks": ""
             }
            },
            "type": "scatterternary"
           }
          ],
          "surface": [
           {
            "colorbar": {
             "outlinewidth": 0,
             "ticks": ""
            },
            "colorscale": [
             [
              0,
              "#0d0887"
             ],
             [
              0.1111111111111111,
              "#46039f"
             ],
             [
              0.2222222222222222,
              "#7201a8"
             ],
             [
              0.3333333333333333,
              "#9c179e"
             ],
             [
              0.4444444444444444,
              "#bd3786"
             ],
             [
              0.5555555555555556,
              "#d8576b"
             ],
             [
              0.6666666666666666,
              "#ed7953"
             ],
             [
              0.7777777777777778,
              "#fb9f3a"
             ],
             [
              0.8888888888888888,
              "#fdca26"
             ],
             [
              1,
              "#f0f921"
             ]
            ],
            "type": "surface"
           }
          ],
          "table": [
           {
            "cells": {
             "fill": {
              "color": "#EBF0F8"
             },
             "line": {
              "color": "white"
             }
            },
            "header": {
             "fill": {
              "color": "#C8D4E3"
             },
             "line": {
              "color": "white"
             }
            },
            "type": "table"
           }
          ]
         },
         "layout": {
          "annotationdefaults": {
           "arrowcolor": "#2a3f5f",
           "arrowhead": 0,
           "arrowwidth": 1
          },
          "autotypenumbers": "strict",
          "coloraxis": {
           "colorbar": {
            "outlinewidth": 0,
            "ticks": ""
           }
          },
          "colorscale": {
           "diverging": [
            [
             0,
             "#8e0152"
            ],
            [
             0.1,
             "#c51b7d"
            ],
            [
             0.2,
             "#de77ae"
            ],
            [
             0.3,
             "#f1b6da"
            ],
            [
             0.4,
             "#fde0ef"
            ],
            [
             0.5,
             "#f7f7f7"
            ],
            [
             0.6,
             "#e6f5d0"
            ],
            [
             0.7,
             "#b8e186"
            ],
            [
             0.8,
             "#7fbc41"
            ],
            [
             0.9,
             "#4d9221"
            ],
            [
             1,
             "#276419"
            ]
           ],
           "sequential": [
            [
             0,
             "#0d0887"
            ],
            [
             0.1111111111111111,
             "#46039f"
            ],
            [
             0.2222222222222222,
             "#7201a8"
            ],
            [
             0.3333333333333333,
             "#9c179e"
            ],
            [
             0.4444444444444444,
             "#bd3786"
            ],
            [
             0.5555555555555556,
             "#d8576b"
            ],
            [
             0.6666666666666666,
             "#ed7953"
            ],
            [
             0.7777777777777778,
             "#fb9f3a"
            ],
            [
             0.8888888888888888,
             "#fdca26"
            ],
            [
             1,
             "#f0f921"
            ]
           ],
           "sequentialminus": [
            [
             0,
             "#0d0887"
            ],
            [
             0.1111111111111111,
             "#46039f"
            ],
            [
             0.2222222222222222,
             "#7201a8"
            ],
            [
             0.3333333333333333,
             "#9c179e"
            ],
            [
             0.4444444444444444,
             "#bd3786"
            ],
            [
             0.5555555555555556,
             "#d8576b"
            ],
            [
             0.6666666666666666,
             "#ed7953"
            ],
            [
             0.7777777777777778,
             "#fb9f3a"
            ],
            [
             0.8888888888888888,
             "#fdca26"
            ],
            [
             1,
             "#f0f921"
            ]
           ]
          },
          "colorway": [
           "#636efa",
           "#EF553B",
           "#00cc96",
           "#ab63fa",
           "#FFA15A",
           "#19d3f3",
           "#FF6692",
           "#B6E880",
           "#FF97FF",
           "#FECB52"
          ],
          "font": {
           "color": "#2a3f5f"
          },
          "geo": {
           "bgcolor": "white",
           "lakecolor": "white",
           "landcolor": "white",
           "showlakes": true,
           "showland": true,
           "subunitcolor": "#C8D4E3"
          },
          "hoverlabel": {
           "align": "left"
          },
          "hovermode": "closest",
          "mapbox": {
           "style": "light"
          },
          "paper_bgcolor": "white",
          "plot_bgcolor": "white",
          "polar": {
           "angularaxis": {
            "gridcolor": "#EBF0F8",
            "linecolor": "#EBF0F8",
            "ticks": ""
           },
           "bgcolor": "white",
           "radialaxis": {
            "gridcolor": "#EBF0F8",
            "linecolor": "#EBF0F8",
            "ticks": ""
           }
          },
          "scene": {
           "xaxis": {
            "backgroundcolor": "white",
            "gridcolor": "#DFE8F3",
            "gridwidth": 2,
            "linecolor": "#EBF0F8",
            "showbackground": true,
            "ticks": "",
            "zerolinecolor": "#EBF0F8"
           },
           "yaxis": {
            "backgroundcolor": "white",
            "gridcolor": "#DFE8F3",
            "gridwidth": 2,
            "linecolor": "#EBF0F8",
            "showbackground": true,
            "ticks": "",
            "zerolinecolor": "#EBF0F8"
           },
           "zaxis": {
            "backgroundcolor": "white",
            "gridcolor": "#DFE8F3",
            "gridwidth": 2,
            "linecolor": "#EBF0F8",
            "showbackground": true,
            "ticks": "",
            "zerolinecolor": "#EBF0F8"
           }
          },
          "shapedefaults": {
           "line": {
            "color": "#2a3f5f"
           }
          },
          "ternary": {
           "aaxis": {
            "gridcolor": "#DFE8F3",
            "linecolor": "#A2B1C6",
            "ticks": ""
           },
           "baxis": {
            "gridcolor": "#DFE8F3",
            "linecolor": "#A2B1C6",
            "ticks": ""
           },
           "bgcolor": "white",
           "caxis": {
            "gridcolor": "#DFE8F3",
            "linecolor": "#A2B1C6",
            "ticks": ""
           }
          },
          "title": {
           "x": 0.05
          },
          "xaxis": {
           "automargin": true,
           "gridcolor": "#EBF0F8",
           "linecolor": "#EBF0F8",
           "ticks": "",
           "title": {
            "standoff": 15
           },
           "zerolinecolor": "#EBF0F8",
           "zerolinewidth": 2
          },
          "yaxis": {
           "automargin": true,
           "gridcolor": "#EBF0F8",
           "linecolor": "#EBF0F8",
           "ticks": "",
           "title": {
            "standoff": 15
           },
           "zerolinecolor": "#EBF0F8",
           "zerolinewidth": 2
          }
         }
        },
        "title": {
         "text": "Yearly Virgin Stock"
        },
        "xaxis": {
         "anchor": "y",
         "domain": [
          0,
          1
         ],
         "title": {
          "text": "Year"
         }
        },
        "yaxis": {
         "anchor": "x",
         "domain": [
          0,
          1
         ],
         "title": {
          "text": "[Tonnes]"
         }
        }
       }
      },
      "text/html": [
       "<div>                            <div id=\"4d705933-a616-4250-818f-bef1303f21bf\" class=\"plotly-graph-div\" style=\"height:525px; width:100%;\"></div>            <script type=\"text/javascript\">                require([\"plotly\"], function(Plotly) {                    window.PLOTLYENV=window.PLOTLYENV || {};                                    if (document.getElementById(\"4d705933-a616-4250-818f-bef1303f21bf\")) {                    Plotly.newPlot(                        \"4d705933-a616-4250-818f-bef1303f21bf\",                        [{\"hovertemplate\":\"Glass sim1 topcon\",\"legendgroup\":\"VirginStock_glass_sim1_TOPCon_[Tonnes]\",\"line\":{\"color\":\"#636efa\",\"dash\":\"solid\"},\"marker\":{\"symbol\":\"circle\"},\"mode\":\"lines\",\"name\":\"Glass sim1 topcon\",\"orientation\":\"v\",\"showlegend\":true,\"x\":[2020,2021,2022,2023,2024,2025,2026,2027,2028,2029,2030,2031,2032,2033,2034,2035,2036,2037,2038,2039,2040,2041,2042,2043,2044,2045,2046,2047,2048,2049,2050],\"xaxis\":\"x\",\"y\":[1049459.2263624459,1256074.2260120315,1130248.2934619475,1205236.6078010076,1193715.939461663,1214430.545620606,1201741.0315839734,1289783.565838594,1277761.7269622672,1426259.1204555016,1413129.4688189528,1679857.2998503554,1679857.2998503554,2435244.1669148016,2435244.1669148016,2739092.6250410383,2739092.6250410383,2860037.2212296817,2860037.2212296817,3149983.47896959,3149983.47896959,3199004.00022523,3199004.00022523,3538125.4194438728,3538125.4194438728,3748429.4880971466,3748429.4880971466,3874630.0166250565,3874630.0166250565,4171862.9387220666,4171862.9387220666],\"yaxis\":\"y\",\"type\":\"scatter\"},{\"hovertemplate\":\"Aluminium frames sim1 topcon\",\"legendgroup\":\"VirginStock_aluminium_frames_sim1_TOPCon_[Tonnes]\",\"line\":{\"color\":\"#EF553B\",\"dash\":\"solid\"},\"marker\":{\"symbol\":\"circle\"},\"mode\":\"lines\",\"name\":\"Aluminium frames sim1 topcon\",\"orientation\":\"v\",\"showlegend\":true,\"x\":[2020,2021,2022,2023,2024,2025,2026,2027,2028,2029,2030,2031,2032,2033,2034,2035,2036,2037,2038,2039,2040,2041,2042,2043,2044,2045,2046,2047,2048,2049,2050],\"xaxis\":\"x\",\"y\":[110073.47941324257,125124.17663038542,110920.87515953612,116611.6303576632,114388.37249706815,115239.92514102414,113477.77081842367,121063.41697335534,119209.83941827585,132384.1817067457,130353.7122780901,153677.2984273428,153677.2984273428,222781.86642148107,222781.86642148107,250578.6383141372,250578.6383141372,261642.93455127135,261642.93455127135,288167.90044126485,288167.90044126485,292652.4130690564,292652.4130690564,323676.03843831236,323676.03843831236,342915.1494757753,342915.1494757753,354460.27077030414,354460.27077030414,381651.83786091494,381651.83786091494],\"yaxis\":\"y\",\"type\":\"scatter\"},{\"hovertemplate\":\"Silver sim1 topcon\",\"legendgroup\":\"VirginStock_silver_sim1_TOPCon_[Tonnes]\",\"line\":{\"color\":\"#00cc96\",\"dash\":\"solid\"},\"marker\":{\"symbol\":\"circle\"},\"mode\":\"lines\",\"name\":\"Silver sim1 topcon\",\"orientation\":\"v\",\"showlegend\":true,\"x\":[2020,2021,2022,2023,2024,2025,2026,2027,2028,2029,2030,2031,2032,2033,2034,2035,2036,2037,2038,2039,2040,2041,2042,2043,2044,2045,2046,2047,2048,2049,2050],\"xaxis\":\"x\",\"y\":[599.6724882587384,689.9282605816659,595.0144479857806,607.483687855061,574.1619450899998,556.0131604608318,522.7992151706701,530.9577808764391,496.020647753232,520.5794031093832,482.30812361163635,567.9119835852781,562.4803068028472,807.5384897669247,799.6643333119927,890.5828267547968,881.7262019583402,911.4111210184423,902.1634320791347,983.4381937844125,973.252988095046,978.0551894867738,967.7114800797457,1058.8568332315203,1047.4166033406636,1097.5541923614392,1085.4339620163437,1109.4496015450964,1096.9213124435832,1167.579625842591,1154.0902591768872],\"yaxis\":\"y\",\"type\":\"scatter\"},{\"hovertemplate\":\"Silicon sim1 topcon\",\"legendgroup\":\"VirginStock_silicon_sim1_TOPCon_[Tonnes]\",\"line\":{\"color\":\"#ab63fa\",\"dash\":\"solid\"},\"marker\":{\"symbol\":\"circle\"},\"mode\":\"lines\",\"name\":\"Silicon sim1 topcon\",\"orientation\":\"v\",\"showlegend\":true,\"x\":[2020,2021,2022,2023,2024,2025,2026,2027,2028,2029,2030,2031,2032,2033,2034,2035,2036,2037,2038,2039,2040,2041,2042,2043,2044,2045,2046,2047,2048,2049,2050],\"xaxis\":\"x\",\"y\":[48075.639460522565,57224.59401847757,51441.578598991,52571.13881633671,49546.91033798556,49279.56061438528,47799.87302575681,50370.49081578003,48898.93612707687,53525.04860720891,52423.33631816562,61885.462362777245,61885.462362777245,89713.69844879324,89713.69844879324,100907.38872298149,100907.38872298149,105362.95304745139,105362.95304745139,116044.49023646723,116044.49023646723,117850.39221602218,117850.39221602218,130343.52828617315,130343.52828617315,138091.070012807,138091.070012807,142740.26138106926,142740.26138106926,153690.2372004745,153690.2372004745],\"yaxis\":\"y\",\"type\":\"scatter\"},{\"hovertemplate\":\"Copper sim1 topcon\",\"legendgroup\":\"VirginStock_copper_sim1_TOPCon_[Tonnes]\",\"line\":{\"color\":\"#FFA15A\",\"dash\":\"solid\"},\"marker\":{\"symbol\":\"circle\"},\"mode\":\"lines\",\"name\":\"Copper sim1 topcon\",\"orientation\":\"v\",\"showlegend\":true,\"x\":[2020,2021,2022,2023,2024,2025,2026,2027,2028,2029,2030,2031,2032,2033,2034,2035,2036,2037,2038,2039,2040,2041,2042,2043,2044,2045,2046,2047,2048,2049,2050],\"xaxis\":\"x\",\"y\":[741.2093086142581,894.7387973929599,811.1413725654213,875.1099207338764,875.9479329782403,865.2266274932251,831.2701779135631,864.3698475638639,827.3151529308021,891.8583089165116,851.2673832108171,1011.9438872125103,1011.9438872125103,1466.9879690369428,1466.9879690369428,1650.0258912861611,1650.0258912861611,1722.8827612211169,1722.8827612211169,1897.5460157524278,1897.5460157524278,1927.0759150105582,1927.0759150105582,2131.362223872452,2131.362223872452,2258.0491256399764,2258.0491256399764,2334.0721624885127,2334.0721624885127,2513.1248943016108,2513.1248943016108],\"yaxis\":\"y\",\"type\":\"scatter\"},{\"hovertemplate\":\"Encapsulant sim1 topcon\",\"legendgroup\":\"VirginStock_encapsulant_sim1_TOPCon_[Tonnes]\",\"line\":{\"color\":\"#19d3f3\",\"dash\":\"solid\"},\"marker\":{\"symbol\":\"circle\"},\"mode\":\"lines\",\"name\":\"Encapsulant sim1 topcon\",\"orientation\":\"v\",\"showlegend\":true,\"x\":[2020,2021,2022,2023,2024,2025,2026,2027,2028,2029,2030,2031,2032,2033,2034,2035,2036,2037,2038,2039,2040,2041,2042,2043,2044,2045,2046,2047,2048,2049,2050],\"xaxis\":\"x\",\"y\":[69587.74336898379,79638.55594637025,69414.048928192,73833.35849853289,71179.22393789786,69144.28820094063,65932.4079420087,69696.60864018269,67972.62164296553,76315.5198718862,75940.59788079713,90481.86256209476,90481.86256209476,131169.13444704906,131169.13444704906,147535.27127922617,147535.27127922617,154049.68909968258,154049.68909968258,169667.01412220273,169667.01412220273,172307.3979615742,172307.3979615742,190573.4361829976,190573.4361829976,201901.00777960286,201901.00777960286,208698.52497260692,208698.52497260692,224708.3303343523,224708.3303343523],\"yaxis\":\"y\",\"type\":\"scatter\"},{\"hovertemplate\":\"Backsheet sim1 topcon\",\"legendgroup\":\"VirginStock_backsheet_sim1_TOPCon_[Tonnes]\",\"line\":{\"color\":\"#FF6692\",\"dash\":\"solid\"},\"marker\":{\"symbol\":\"circle\"},\"mode\":\"lines\",\"name\":\"Backsheet sim1 topcon\",\"orientation\":\"v\",\"showlegend\":true,\"x\":[2020,2021,2022,2023,2024,2025,2026,2027,2028,2029,2030,2031,2032,2033,2034,2035,2036,2037,2038,2039,2040,2041,2042,2043,2044,2045,2046,2047,2048,2049,2050],\"xaxis\":\"x\",\"y\":[36351.67414580671,41250.54012991613,36245.178121531906,37744.19144752695,36936.841824916846,37166.59197295261,35408.65793278481,36371.650996174685,34418.54267899976,36459.00933605613,34201.599111038835,38290.90752568248,38290.90752568248,55509.303799851936,55509.303799851936,62435.26900711647,62435.26900711647,65192.09742867519,65192.09742867519,71801.17389220907,71801.17389220907,72918.55466403278,72918.55466403278,80648.53679075031,80648.53679075031,85442.23780677983,85442.23780677983,88318.87070171976,88318.87070171976,95094.04043466006,95094.04043466006],\"yaxis\":\"y\",\"type\":\"scatter\"},{\"hovertemplate\":\"Module sim1 topcon\",\"legendgroup\":\"VirginStock_Module_sim1_TOPCon_[Tonnes]\",\"line\":{\"color\":\"#B6E880\",\"dash\":\"solid\"},\"marker\":{\"symbol\":\"circle\"},\"mode\":\"lines\",\"name\":\"Module sim1 topcon\",\"orientation\":\"v\",\"showlegend\":true,\"x\":[2020,2021,2022,2023,2024,2025,2026,2027,2028,2029,2030,2031,2032,2033,2034,2035,2036,2037,2038,2039,2040,2041,2042,2043,2044,2045,2046,2047,2048,2049,2050],\"xaxis\":\"x\",\"y\":[1314888.6445478746,1560896.7597951558,1399676.1300907498,1487479.5205296562,1467217.3979375996,1486682.1513378627,1465713.8106960317,1568681.0608925268,1549585.0026302694,1726355.3176894246,1707382.289913867,2025772.6865990502,2025767.2549222677,2936692.6964907814,2936684.8223343263,3303089.8010825403,3303080.9444577442,3448919.189239002,3448909.9415500625,3798545.04187127,3798534.856665581,3857637.8892404125,3857627.5455310056,4266557.17819921,4266545.73796932,4520134.556490113,4520122.436259769,4672291.46621479,4672278.937925689,5030688.089072613,5030674.599705948],\"yaxis\":\"y\",\"type\":\"scatter\"}],                        {\"template\":{\"data\":{\"barpolar\":[{\"marker\":{\"line\":{\"color\":\"white\",\"width\":0.5},\"pattern\":{\"fillmode\":\"overlay\",\"size\":10,\"solidity\":0.2}},\"type\":\"barpolar\"}],\"bar\":[{\"error_x\":{\"color\":\"#2a3f5f\"},\"error_y\":{\"color\":\"#2a3f5f\"},\"marker\":{\"line\":{\"color\":\"white\",\"width\":0.5},\"pattern\":{\"fillmode\":\"overlay\",\"size\":10,\"solidity\":0.2}},\"type\":\"bar\"}],\"carpet\":[{\"aaxis\":{\"endlinecolor\":\"#2a3f5f\",\"gridcolor\":\"#C8D4E3\",\"linecolor\":\"#C8D4E3\",\"minorgridcolor\":\"#C8D4E3\",\"startlinecolor\":\"#2a3f5f\"},\"baxis\":{\"endlinecolor\":\"#2a3f5f\",\"gridcolor\":\"#C8D4E3\",\"linecolor\":\"#C8D4E3\",\"minorgridcolor\":\"#C8D4E3\",\"startlinecolor\":\"#2a3f5f\"},\"type\":\"carpet\"}],\"choropleth\":[{\"colorbar\":{\"outlinewidth\":0,\"ticks\":\"\"},\"type\":\"choropleth\"}],\"contourcarpet\":[{\"colorbar\":{\"outlinewidth\":0,\"ticks\":\"\"},\"type\":\"contourcarpet\"}],\"contour\":[{\"colorbar\":{\"outlinewidth\":0,\"ticks\":\"\"},\"colorscale\":[[0.0,\"#0d0887\"],[0.1111111111111111,\"#46039f\"],[0.2222222222222222,\"#7201a8\"],[0.3333333333333333,\"#9c179e\"],[0.4444444444444444,\"#bd3786\"],[0.5555555555555556,\"#d8576b\"],[0.6666666666666666,\"#ed7953\"],[0.7777777777777778,\"#fb9f3a\"],[0.8888888888888888,\"#fdca26\"],[1.0,\"#f0f921\"]],\"type\":\"contour\"}],\"heatmapgl\":[{\"colorbar\":{\"outlinewidth\":0,\"ticks\":\"\"},\"colorscale\":[[0.0,\"#0d0887\"],[0.1111111111111111,\"#46039f\"],[0.2222222222222222,\"#7201a8\"],[0.3333333333333333,\"#9c179e\"],[0.4444444444444444,\"#bd3786\"],[0.5555555555555556,\"#d8576b\"],[0.6666666666666666,\"#ed7953\"],[0.7777777777777778,\"#fb9f3a\"],[0.8888888888888888,\"#fdca26\"],[1.0,\"#f0f921\"]],\"type\":\"heatmapgl\"}],\"heatmap\":[{\"colorbar\":{\"outlinewidth\":0,\"ticks\":\"\"},\"colorscale\":[[0.0,\"#0d0887\"],[0.1111111111111111,\"#46039f\"],[0.2222222222222222,\"#7201a8\"],[0.3333333333333333,\"#9c179e\"],[0.4444444444444444,\"#bd3786\"],[0.5555555555555556,\"#d8576b\"],[0.6666666666666666,\"#ed7953\"],[0.7777777777777778,\"#fb9f3a\"],[0.8888888888888888,\"#fdca26\"],[1.0,\"#f0f921\"]],\"type\":\"heatmap\"}],\"histogram2dcontour\":[{\"colorbar\":{\"outlinewidth\":0,\"ticks\":\"\"},\"colorscale\":[[0.0,\"#0d0887\"],[0.1111111111111111,\"#46039f\"],[0.2222222222222222,\"#7201a8\"],[0.3333333333333333,\"#9c179e\"],[0.4444444444444444,\"#bd3786\"],[0.5555555555555556,\"#d8576b\"],[0.6666666666666666,\"#ed7953\"],[0.7777777777777778,\"#fb9f3a\"],[0.8888888888888888,\"#fdca26\"],[1.0,\"#f0f921\"]],\"type\":\"histogram2dcontour\"}],\"histogram2d\":[{\"colorbar\":{\"outlinewidth\":0,\"ticks\":\"\"},\"colorscale\":[[0.0,\"#0d0887\"],[0.1111111111111111,\"#46039f\"],[0.2222222222222222,\"#7201a8\"],[0.3333333333333333,\"#9c179e\"],[0.4444444444444444,\"#bd3786\"],[0.5555555555555556,\"#d8576b\"],[0.6666666666666666,\"#ed7953\"],[0.7777777777777778,\"#fb9f3a\"],[0.8888888888888888,\"#fdca26\"],[1.0,\"#f0f921\"]],\"type\":\"histogram2d\"}],\"histogram\":[{\"marker\":{\"pattern\":{\"fillmode\":\"overlay\",\"size\":10,\"solidity\":0.2}},\"type\":\"histogram\"}],\"mesh3d\":[{\"colorbar\":{\"outlinewidth\":0,\"ticks\":\"\"},\"type\":\"mesh3d\"}],\"parcoords\":[{\"line\":{\"colorbar\":{\"outlinewidth\":0,\"ticks\":\"\"}},\"type\":\"parcoords\"}],\"pie\":[{\"automargin\":true,\"type\":\"pie\"}],\"scatter3d\":[{\"line\":{\"colorbar\":{\"outlinewidth\":0,\"ticks\":\"\"}},\"marker\":{\"colorbar\":{\"outlinewidth\":0,\"ticks\":\"\"}},\"type\":\"scatter3d\"}],\"scattercarpet\":[{\"marker\":{\"colorbar\":{\"outlinewidth\":0,\"ticks\":\"\"}},\"type\":\"scattercarpet\"}],\"scattergeo\":[{\"marker\":{\"colorbar\":{\"outlinewidth\":0,\"ticks\":\"\"}},\"type\":\"scattergeo\"}],\"scattergl\":[{\"marker\":{\"colorbar\":{\"outlinewidth\":0,\"ticks\":\"\"}},\"type\":\"scattergl\"}],\"scattermapbox\":[{\"marker\":{\"colorbar\":{\"outlinewidth\":0,\"ticks\":\"\"}},\"type\":\"scattermapbox\"}],\"scatterpolargl\":[{\"marker\":{\"colorbar\":{\"outlinewidth\":0,\"ticks\":\"\"}},\"type\":\"scatterpolargl\"}],\"scatterpolar\":[{\"marker\":{\"colorbar\":{\"outlinewidth\":0,\"ticks\":\"\"}},\"type\":\"scatterpolar\"}],\"scatter\":[{\"fillpattern\":{\"fillmode\":\"overlay\",\"size\":10,\"solidity\":0.2},\"type\":\"scatter\"}],\"scatterternary\":[{\"marker\":{\"colorbar\":{\"outlinewidth\":0,\"ticks\":\"\"}},\"type\":\"scatterternary\"}],\"surface\":[{\"colorbar\":{\"outlinewidth\":0,\"ticks\":\"\"},\"colorscale\":[[0.0,\"#0d0887\"],[0.1111111111111111,\"#46039f\"],[0.2222222222222222,\"#7201a8\"],[0.3333333333333333,\"#9c179e\"],[0.4444444444444444,\"#bd3786\"],[0.5555555555555556,\"#d8576b\"],[0.6666666666666666,\"#ed7953\"],[0.7777777777777778,\"#fb9f3a\"],[0.8888888888888888,\"#fdca26\"],[1.0,\"#f0f921\"]],\"type\":\"surface\"}],\"table\":[{\"cells\":{\"fill\":{\"color\":\"#EBF0F8\"},\"line\":{\"color\":\"white\"}},\"header\":{\"fill\":{\"color\":\"#C8D4E3\"},\"line\":{\"color\":\"white\"}},\"type\":\"table\"}]},\"layout\":{\"annotationdefaults\":{\"arrowcolor\":\"#2a3f5f\",\"arrowhead\":0,\"arrowwidth\":1},\"autotypenumbers\":\"strict\",\"coloraxis\":{\"colorbar\":{\"outlinewidth\":0,\"ticks\":\"\"}},\"colorscale\":{\"diverging\":[[0,\"#8e0152\"],[0.1,\"#c51b7d\"],[0.2,\"#de77ae\"],[0.3,\"#f1b6da\"],[0.4,\"#fde0ef\"],[0.5,\"#f7f7f7\"],[0.6,\"#e6f5d0\"],[0.7,\"#b8e186\"],[0.8,\"#7fbc41\"],[0.9,\"#4d9221\"],[1,\"#276419\"]],\"sequential\":[[0.0,\"#0d0887\"],[0.1111111111111111,\"#46039f\"],[0.2222222222222222,\"#7201a8\"],[0.3333333333333333,\"#9c179e\"],[0.4444444444444444,\"#bd3786\"],[0.5555555555555556,\"#d8576b\"],[0.6666666666666666,\"#ed7953\"],[0.7777777777777778,\"#fb9f3a\"],[0.8888888888888888,\"#fdca26\"],[1.0,\"#f0f921\"]],\"sequentialminus\":[[0.0,\"#0d0887\"],[0.1111111111111111,\"#46039f\"],[0.2222222222222222,\"#7201a8\"],[0.3333333333333333,\"#9c179e\"],[0.4444444444444444,\"#bd3786\"],[0.5555555555555556,\"#d8576b\"],[0.6666666666666666,\"#ed7953\"],[0.7777777777777778,\"#fb9f3a\"],[0.8888888888888888,\"#fdca26\"],[1.0,\"#f0f921\"]]},\"colorway\":[\"#636efa\",\"#EF553B\",\"#00cc96\",\"#ab63fa\",\"#FFA15A\",\"#19d3f3\",\"#FF6692\",\"#B6E880\",\"#FF97FF\",\"#FECB52\"],\"font\":{\"color\":\"#2a3f5f\"},\"geo\":{\"bgcolor\":\"white\",\"lakecolor\":\"white\",\"landcolor\":\"white\",\"showlakes\":true,\"showland\":true,\"subunitcolor\":\"#C8D4E3\"},\"hoverlabel\":{\"align\":\"left\"},\"hovermode\":\"closest\",\"mapbox\":{\"style\":\"light\"},\"paper_bgcolor\":\"white\",\"plot_bgcolor\":\"white\",\"polar\":{\"angularaxis\":{\"gridcolor\":\"#EBF0F8\",\"linecolor\":\"#EBF0F8\",\"ticks\":\"\"},\"bgcolor\":\"white\",\"radialaxis\":{\"gridcolor\":\"#EBF0F8\",\"linecolor\":\"#EBF0F8\",\"ticks\":\"\"}},\"scene\":{\"xaxis\":{\"backgroundcolor\":\"white\",\"gridcolor\":\"#DFE8F3\",\"gridwidth\":2,\"linecolor\":\"#EBF0F8\",\"showbackground\":true,\"ticks\":\"\",\"zerolinecolor\":\"#EBF0F8\"},\"yaxis\":{\"backgroundcolor\":\"white\",\"gridcolor\":\"#DFE8F3\",\"gridwidth\":2,\"linecolor\":\"#EBF0F8\",\"showbackground\":true,\"ticks\":\"\",\"zerolinecolor\":\"#EBF0F8\"},\"zaxis\":{\"backgroundcolor\":\"white\",\"gridcolor\":\"#DFE8F3\",\"gridwidth\":2,\"linecolor\":\"#EBF0F8\",\"showbackground\":true,\"ticks\":\"\",\"zerolinecolor\":\"#EBF0F8\"}},\"shapedefaults\":{\"line\":{\"color\":\"#2a3f5f\"}},\"ternary\":{\"aaxis\":{\"gridcolor\":\"#DFE8F3\",\"linecolor\":\"#A2B1C6\",\"ticks\":\"\"},\"baxis\":{\"gridcolor\":\"#DFE8F3\",\"linecolor\":\"#A2B1C6\",\"ticks\":\"\"},\"bgcolor\":\"white\",\"caxis\":{\"gridcolor\":\"#DFE8F3\",\"linecolor\":\"#A2B1C6\",\"ticks\":\"\"}},\"title\":{\"x\":0.05},\"xaxis\":{\"automargin\":true,\"gridcolor\":\"#EBF0F8\",\"linecolor\":\"#EBF0F8\",\"ticks\":\"\",\"title\":{\"standoff\":15},\"zerolinecolor\":\"#EBF0F8\",\"zerolinewidth\":2},\"yaxis\":{\"automargin\":true,\"gridcolor\":\"#EBF0F8\",\"linecolor\":\"#EBF0F8\",\"ticks\":\"\",\"title\":{\"standoff\":15},\"zerolinecolor\":\"#EBF0F8\",\"zerolinewidth\":2}}},\"xaxis\":{\"anchor\":\"y\",\"domain\":[0.0,1.0],\"title\":{\"text\":\"Year\"}},\"yaxis\":{\"anchor\":\"x\",\"domain\":[0.0,1.0],\"title\":{\"text\":\"[Tonnes]\"}},\"legend\":{\"title\":{\"text\":\"variable\"},\"tracegroupgap\":0},\"margin\":{\"t\":60},\"title\":{\"text\":\"Yearly Virgin Stock\"}},                        {\"responsive\": true}                    ).then(function(){\n",
       "                            \n",
       "var gd = document.getElementById('4d705933-a616-4250-818f-bef1303f21bf');\n",
       "var x = new MutationObserver(function (mutations, observer) {{\n",
       "        var display = window.getComputedStyle(gd).display;\n",
       "        if (!display || display === 'none') {{\n",
       "            console.log([gd, 'removed!']);\n",
       "            Plotly.purge(gd);\n",
       "            observer.disconnect();\n",
       "        }}\n",
       "}});\n",
       "\n",
       "// Listen for the removal of the full notebook cells\n",
       "var notebookContainer = gd.closest('#notebook-container');\n",
       "if (notebookContainer) {{\n",
       "    x.observe(notebookContainer, {childList: true});\n",
       "}}\n",
       "\n",
       "// Listen for the clearing of the current output cell\n",
       "var outputEl = gd.closest('.output');\n",
       "if (outputEl) {{\n",
       "    x.observe(outputEl, {childList: true});\n",
       "}}\n",
       "\n",
       "                        })                };                });            </script>        </div>"
      ]
     },
     "metadata": {},
     "output_type": "display_data"
    },
    {
     "data": {
      "application/vnd.plotly.v1+json": {
       "config": {
        "plotlyServerURL": "https://plot.ly"
       },
       "data": [
        {
         "hovertemplate": "Glass sim1 topcon",
         "legendgroup": "WasteAll_glass_sim1_TOPCon_[Tonnes]",
         "line": {
          "color": "#636efa",
          "dash": "solid"
         },
         "marker": {
          "symbol": "circle"
         },
         "mode": "lines",
         "name": "Glass sim1 topcon",
         "orientation": "v",
         "showlegend": true,
         "type": "scatter",
         "x": [
          2020,
          2021,
          2022,
          2023,
          2024,
          2025,
          2026,
          2027,
          2028,
          2029,
          2030,
          2031,
          2032,
          2033,
          2034,
          2035,
          2036,
          2037,
          2038,
          2039,
          2040,
          2041,
          2042,
          2043,
          2044,
          2045,
          2046,
          2047,
          2048,
          2049,
          2050
         ],
         "xaxis": "x",
         "y": [
          55957.16594964563,
          63281.01950656645,
          54726.622398821,
          54814.16185444989,
          51950.52857553849,
          50471.80703011267,
          46411.589233163286,
          47284.778426969315,
          44342.45172505516,
          45309.28361100796,
          42139.08850899306,
          50122.65435812191,
          50192.13532458072,
          72832.60815026582,
          73064.00575394853,
          82513.66098955808,
          83163.34183916904,
          87801.80341067785,
          89401.23613274217,
          100451.01746268183,
          103995.0204339308,
          110555.47473666689,
          117744.22344790176,
          137786.970167233,
          151262.8609103066,
          175460.00147436268,
          198854.29587009767,
          232514.50500841657,
          269878.74296040094,
          324269.7814427604,
          378178.4461521078
         ],
         "yaxis": "y"
        },
        {
         "hovertemplate": "Aluminium frames sim1 topcon",
         "legendgroup": "WasteAll_aluminium_frames_sim1_TOPCon_[Tonnes]",
         "line": {
          "color": "#EF553B",
          "dash": "solid"
         },
         "marker": {
          "symbol": "circle"
         },
         "mode": "lines",
         "name": "Aluminium frames sim1 topcon",
         "orientation": "v",
         "showlegend": true,
         "type": "scatter",
         "x": [
          2020,
          2021,
          2022,
          2023,
          2024,
          2025,
          2026,
          2027,
          2028,
          2029,
          2030,
          2031,
          2032,
          2033,
          2034,
          2035,
          2036,
          2037,
          2038,
          2039,
          2040,
          2041,
          2042,
          2043,
          2044,
          2045,
          2046,
          2047,
          2048,
          2049,
          2050
         ],
         "xaxis": "x",
         "y": [
          3280.189686514633,
          3728.7004635941134,
          3305.4420829015517,
          3475.026684234659,
          3408.7746603421974,
          3434.1575721732925,
          3381.67461352976,
          3607.828012382469,
          3552.885267591153,
          3946.2290236313074,
          3887.440124856835,
          4586.11790517834,
          4593.296874246929,
          6666.002621786849,
          6689.786350994051,
          7558.633059865375,
          7625.115105937895,
          8060.468128298595,
          8223.532138798213,
          9259.212517599257,
          9619.384314586137,
          10270.547835205876,
          10999.08134769502,
          12929.28823557733,
          14291.358324372472,
          16674.506857578046,
          19032.510502744553,
          22385.565484366623,
          26139.26267271628,
          31514.708991356158,
          36906.40144646724
         ],
         "yaxis": "y"
        },
        {
         "hovertemplate": "Silver sim1 topcon",
         "legendgroup": "WasteAll_silver_sim1_TOPCon_[Tonnes]",
         "line": {
          "color": "#00cc96",
          "dash": "solid"
         },
         "marker": {
          "symbol": "circle"
         },
         "mode": "lines",
         "name": "Silver sim1 topcon",
         "orientation": "v",
         "showlegend": true,
         "type": "scatter",
         "x": [
          2020,
          2021,
          2022,
          2023,
          2024,
          2025,
          2026,
          2027,
          2028,
          2029,
          2030,
          2031,
          2032,
          2033,
          2034,
          2035,
          2036,
          2037,
          2038,
          2039,
          2040,
          2041,
          2042,
          2043,
          2044,
          2045,
          2046,
          2047,
          2048,
          2049,
          2050
         ],
         "xaxis": "x",
         "y": [
          129.52925746388746,
          149.02450428567874,
          128.5231207791432,
          131.21647702659158,
          124.01898538363554,
          120.09887795692526,
          112.92479808082754,
          114.6875058043797,
          107.142413446144,
          112.45048380874965,
          104.19163904485862,
          122.69843575577379,
          121.55745076130381,
          174.55006435505925,
          172.95569303439723,
          192.7750035970721,
          191.1583558196757,
          198.04035646630405,
          196.76714510902303,
          215.40989561743316,
          214.80428682629096,
          218.12886529462116,
          219.10950257943054,
          243.22801823565266,
          246.74882002282249,
          265.5272204836157,
          273.24752349912217,
          291.6020074400296,
          305.2853621318834,
          340.42744355190086,
          360.916483203831
         ],
         "yaxis": "y"
        },
        {
         "hovertemplate": "Silicon sim1 topcon",
         "legendgroup": "WasteAll_silicon_sim1_TOPCon_[Tonnes]",
         "line": {
          "color": "#ab63fa",
          "dash": "solid"
         },
         "marker": {
          "symbol": "circle"
         },
         "mode": "lines",
         "name": "Silicon sim1 topcon",
         "orientation": "v",
         "showlegend": true,
         "type": "scatter",
         "x": [
          2020,
          2021,
          2022,
          2023,
          2024,
          2025,
          2026,
          2027,
          2028,
          2029,
          2030,
          2031,
          2032,
          2033,
          2034,
          2035,
          2036,
          2037,
          2038,
          2039,
          2040,
          2041,
          2042,
          2043,
          2044,
          2045,
          2046,
          2047,
          2048,
          2049,
          2050
         ],
         "xaxis": "x",
         "y": [
          16637.909343534047,
          20110.308569049237,
          18377.030969869335,
          18061.318487481978,
          16147.714544707915,
          15773.332454940872,
          15080.20505804843,
          15722.307350541334,
          15040.180576862627,
          16216.808752336134,
          15639.689807461811,
          18463.517186094472,
          18465.707466971173,
          26771.450729970762,
          26778.71774981278,
          30130.37559439421,
          30150.708724049575,
          31512.202423890016,
          31562.107484794007,
          34823.67128716862,
          34933.95156987612,
          35631.17331960858,
          35854.31933660657,
          39889.33014856816,
          40306.64559203161,
          43172.44862687228,
          43895.09623058481,
          46204.317468456014,
          47355.01756587423,
          52021.240025648665,
          53674.548134607605
         ],
         "yaxis": "y"
        },
        {
         "hovertemplate": "Copper sim1 topcon",
         "legendgroup": "WasteAll_copper_sim1_TOPCon_[Tonnes]",
         "line": {
          "color": "#FFA15A",
          "dash": "solid"
         },
         "marker": {
          "symbol": "circle"
         },
         "mode": "lines",
         "name": "Copper sim1 topcon",
         "orientation": "v",
         "showlegend": true,
         "type": "scatter",
         "x": [
          2020,
          2021,
          2022,
          2023,
          2024,
          2025,
          2026,
          2027,
          2028,
          2029,
          2030,
          2031,
          2032,
          2033,
          2034,
          2035,
          2036,
          2037,
          2038,
          2039,
          2040,
          2041,
          2042,
          2043,
          2044,
          2045,
          2046,
          2047,
          2048,
          2049,
          2050
         ],
         "xaxis": "x",
         "y": [
          87.46269841648245,
          105.57917809242353,
          95.71468198248843,
          103.26297127331449,
          103.36186341978417,
          102.09679156356471,
          98.09011714452815,
          101.99652682567111,
          97.62596608906334,
          105.24690044333684,
          100.46833847218159,
          119.45186594774142,
          119.49883252310491,
          173.28190291634357,
          173.4384185137667,
          195.3041057615782,
          195.74370790862872,
          205.04075819095294,
          206.12320897235074,
          228.3641538530757,
          230.76281136707175,
          237.6989102871158,
          242.56439658688524,
          273.39552739781027,
          282.51569980227725,
          309.59874049490486,
          325.4293527059267,
          354.6304764304431,
          379.90793706533077,
          431.8337416375103,
          468.28475829590013
         ],
         "yaxis": "y"
        },
        {
         "hovertemplate": "Encapsulant sim1 topcon",
         "legendgroup": "WasteAll_encapsulant_sim1_TOPCon_[Tonnes]",
         "line": {
          "color": "#19d3f3",
          "dash": "solid"
         },
         "marker": {
          "symbol": "circle"
         },
         "mode": "lines",
         "name": "Encapsulant sim1 topcon",
         "orientation": "v",
         "showlegend": true,
         "type": "scatter",
         "x": [
          2020,
          2021,
          2022,
          2023,
          2024,
          2025,
          2026,
          2027,
          2028,
          2029,
          2030,
          2031,
          2032,
          2033,
          2034,
          2035,
          2036,
          2037,
          2038,
          2039,
          2040,
          2041,
          2042,
          2043,
          2044,
          2045,
          2046,
          2047,
          2048,
          2049,
          2050
         ],
         "xaxis": "x",
         "y": [
          2073.7147523957137,
          2373.228967207427,
          2068.538660101348,
          2200.2341478507733,
          2121.141626064925,
          2060.504853501117,
          1964.809806168815,
          2077.0486556861815,
          2025.8646206612902,
          2274.9687192009037,
          2264.9114908423544,
          2700.5987195208786,
          2705.2524555081836,
          3926.4078058817836,
          3941.806630482641,
          4455.723904521831,
          4498.710767524004,
          4761.099374166474,
          4866.397153923632,
          5490.053175898397,
          5722.341201607662,
          6134.5941134784425,
          6603.889522581881,
          7795.671499431877,
          8672.020482556942,
          10173.283457080983,
          11688.443352705308,
          13823.045912853851,
          16231.184942024849,
          19634.026292013572,
          23085.192636411608
         ],
         "yaxis": "y"
        },
        {
         "hovertemplate": "Backsheet sim1 topcon",
         "legendgroup": "WasteAll_backsheet_sim1_TOPCon_[Tonnes]",
         "line": {
          "color": "#FF6692",
          "dash": "solid"
         },
         "marker": {
          "symbol": "circle"
         },
         "mode": "lines",
         "name": "Backsheet sim1 topcon",
         "orientation": "v",
         "showlegend": true,
         "type": "scatter",
         "x": [
          2020,
          2021,
          2022,
          2023,
          2024,
          2025,
          2026,
          2027,
          2028,
          2029,
          2030,
          2031,
          2032,
          2033,
          2034,
          2035,
          2036,
          2037,
          2038,
          2039,
          2040,
          2041,
          2042,
          2043,
          2044,
          2045,
          2046,
          2047,
          2048,
          2049,
          2050
         ],
         "xaxis": "x",
         "y": [
          1973.895906117302,
          2239.9043290572945,
          1968.1131730385384,
          2049.509628481858,
          2005.6708940645851,
          2018.1485198766084,
          1922.7023499511115,
          1975.0262331958377,
          1869.0693269757155,
          1980.113227889972,
          1858.1018996291307,
          2081.3474636062115,
          2083.7082812803383,
          3023.0675757930526,
          3030.8789603322975,
          3420.2532958439647,
          3442.062209931047,
          3626.392104031258,
          3679.825963472432,
          4119.0190664646,
          4236.926537374324,
          4466.941290009185,
          4705.21929233133,
          5453.739852345959,
          5898.821076120921,
          6750.2268478312435,
          7519.973574916132,
          8657.857686293439,
          9881.650100805686,
          11736.63872446243,
          13491.133576496173
         ],
         "yaxis": "y"
        },
        {
         "hovertemplate": "Module sim1 topcon",
         "legendgroup": "WasteAll_Module_sim1_TOPCon_[Tonnes]",
         "line": {
          "color": "#B6E880",
          "dash": "solid"
         },
         "marker": {
          "symbol": "circle"
         },
         "mode": "lines",
         "name": "Module sim1 topcon",
         "orientation": "v",
         "showlegend": true,
         "type": "scatter",
         "x": [
          2020,
          2021,
          2022,
          2023,
          2024,
          2025,
          2026,
          2027,
          2028,
          2029,
          2030,
          2031,
          2032,
          2033,
          2034,
          2035,
          2036,
          2037,
          2038,
          2039,
          2040,
          2041,
          2042,
          2043,
          2044,
          2045,
          2046,
          2047,
          2048,
          2049,
          2050
         ],
         "xaxis": "x",
         "y": [
          80139.86759408771,
          91987.76551785263,
          80669.9850874934,
          80834.73025079905,
          75861.21114952155,
          73980.14610012504,
          68971.99597608676,
          70883.67271140518,
          67035.21989668116,
          69945.10071831835,
          65993.89180930023,
          78196.38593422533,
          78281.15668587176,
          113567.36885096967,
          113851.58955711844,
          128466.72595354212,
          129266.84071033986,
          136165.04655572146,
          138135.98922781184,
          154586.74755928322,
          158953.19115556843,
          167514.5590705507,
          176368.40684628286,
          204371.62344878976,
          220960.97090521365,
          252805.59322470374,
          281588.99640725355,
          324231.52404425695,
          370171.0515410191,
          439948.65666143055,
          506164.92318759015
         ],
         "yaxis": "y"
        }
       ],
       "layout": {
        "legend": {
         "title": {
          "text": "variable"
         },
         "tracegroupgap": 0
        },
        "margin": {
         "t": 60
        },
        "template": {
         "data": {
          "bar": [
           {
            "error_x": {
             "color": "#2a3f5f"
            },
            "error_y": {
             "color": "#2a3f5f"
            },
            "marker": {
             "line": {
              "color": "white",
              "width": 0.5
             },
             "pattern": {
              "fillmode": "overlay",
              "size": 10,
              "solidity": 0.2
             }
            },
            "type": "bar"
           }
          ],
          "barpolar": [
           {
            "marker": {
             "line": {
              "color": "white",
              "width": 0.5
             },
             "pattern": {
              "fillmode": "overlay",
              "size": 10,
              "solidity": 0.2
             }
            },
            "type": "barpolar"
           }
          ],
          "carpet": [
           {
            "aaxis": {
             "endlinecolor": "#2a3f5f",
             "gridcolor": "#C8D4E3",
             "linecolor": "#C8D4E3",
             "minorgridcolor": "#C8D4E3",
             "startlinecolor": "#2a3f5f"
            },
            "baxis": {
             "endlinecolor": "#2a3f5f",
             "gridcolor": "#C8D4E3",
             "linecolor": "#C8D4E3",
             "minorgridcolor": "#C8D4E3",
             "startlinecolor": "#2a3f5f"
            },
            "type": "carpet"
           }
          ],
          "choropleth": [
           {
            "colorbar": {
             "outlinewidth": 0,
             "ticks": ""
            },
            "type": "choropleth"
           }
          ],
          "contour": [
           {
            "colorbar": {
             "outlinewidth": 0,
             "ticks": ""
            },
            "colorscale": [
             [
              0,
              "#0d0887"
             ],
             [
              0.1111111111111111,
              "#46039f"
             ],
             [
              0.2222222222222222,
              "#7201a8"
             ],
             [
              0.3333333333333333,
              "#9c179e"
             ],
             [
              0.4444444444444444,
              "#bd3786"
             ],
             [
              0.5555555555555556,
              "#d8576b"
             ],
             [
              0.6666666666666666,
              "#ed7953"
             ],
             [
              0.7777777777777778,
              "#fb9f3a"
             ],
             [
              0.8888888888888888,
              "#fdca26"
             ],
             [
              1,
              "#f0f921"
             ]
            ],
            "type": "contour"
           }
          ],
          "contourcarpet": [
           {
            "colorbar": {
             "outlinewidth": 0,
             "ticks": ""
            },
            "type": "contourcarpet"
           }
          ],
          "heatmap": [
           {
            "colorbar": {
             "outlinewidth": 0,
             "ticks": ""
            },
            "colorscale": [
             [
              0,
              "#0d0887"
             ],
             [
              0.1111111111111111,
              "#46039f"
             ],
             [
              0.2222222222222222,
              "#7201a8"
             ],
             [
              0.3333333333333333,
              "#9c179e"
             ],
             [
              0.4444444444444444,
              "#bd3786"
             ],
             [
              0.5555555555555556,
              "#d8576b"
             ],
             [
              0.6666666666666666,
              "#ed7953"
             ],
             [
              0.7777777777777778,
              "#fb9f3a"
             ],
             [
              0.8888888888888888,
              "#fdca26"
             ],
             [
              1,
              "#f0f921"
             ]
            ],
            "type": "heatmap"
           }
          ],
          "heatmapgl": [
           {
            "colorbar": {
             "outlinewidth": 0,
             "ticks": ""
            },
            "colorscale": [
             [
              0,
              "#0d0887"
             ],
             [
              0.1111111111111111,
              "#46039f"
             ],
             [
              0.2222222222222222,
              "#7201a8"
             ],
             [
              0.3333333333333333,
              "#9c179e"
             ],
             [
              0.4444444444444444,
              "#bd3786"
             ],
             [
              0.5555555555555556,
              "#d8576b"
             ],
             [
              0.6666666666666666,
              "#ed7953"
             ],
             [
              0.7777777777777778,
              "#fb9f3a"
             ],
             [
              0.8888888888888888,
              "#fdca26"
             ],
             [
              1,
              "#f0f921"
             ]
            ],
            "type": "heatmapgl"
           }
          ],
          "histogram": [
           {
            "marker": {
             "pattern": {
              "fillmode": "overlay",
              "size": 10,
              "solidity": 0.2
             }
            },
            "type": "histogram"
           }
          ],
          "histogram2d": [
           {
            "colorbar": {
             "outlinewidth": 0,
             "ticks": ""
            },
            "colorscale": [
             [
              0,
              "#0d0887"
             ],
             [
              0.1111111111111111,
              "#46039f"
             ],
             [
              0.2222222222222222,
              "#7201a8"
             ],
             [
              0.3333333333333333,
              "#9c179e"
             ],
             [
              0.4444444444444444,
              "#bd3786"
             ],
             [
              0.5555555555555556,
              "#d8576b"
             ],
             [
              0.6666666666666666,
              "#ed7953"
             ],
             [
              0.7777777777777778,
              "#fb9f3a"
             ],
             [
              0.8888888888888888,
              "#fdca26"
             ],
             [
              1,
              "#f0f921"
             ]
            ],
            "type": "histogram2d"
           }
          ],
          "histogram2dcontour": [
           {
            "colorbar": {
             "outlinewidth": 0,
             "ticks": ""
            },
            "colorscale": [
             [
              0,
              "#0d0887"
             ],
             [
              0.1111111111111111,
              "#46039f"
             ],
             [
              0.2222222222222222,
              "#7201a8"
             ],
             [
              0.3333333333333333,
              "#9c179e"
             ],
             [
              0.4444444444444444,
              "#bd3786"
             ],
             [
              0.5555555555555556,
              "#d8576b"
             ],
             [
              0.6666666666666666,
              "#ed7953"
             ],
             [
              0.7777777777777778,
              "#fb9f3a"
             ],
             [
              0.8888888888888888,
              "#fdca26"
             ],
             [
              1,
              "#f0f921"
             ]
            ],
            "type": "histogram2dcontour"
           }
          ],
          "mesh3d": [
           {
            "colorbar": {
             "outlinewidth": 0,
             "ticks": ""
            },
            "type": "mesh3d"
           }
          ],
          "parcoords": [
           {
            "line": {
             "colorbar": {
              "outlinewidth": 0,
              "ticks": ""
             }
            },
            "type": "parcoords"
           }
          ],
          "pie": [
           {
            "automargin": true,
            "type": "pie"
           }
          ],
          "scatter": [
           {
            "fillpattern": {
             "fillmode": "overlay",
             "size": 10,
             "solidity": 0.2
            },
            "type": "scatter"
           }
          ],
          "scatter3d": [
           {
            "line": {
             "colorbar": {
              "outlinewidth": 0,
              "ticks": ""
             }
            },
            "marker": {
             "colorbar": {
              "outlinewidth": 0,
              "ticks": ""
             }
            },
            "type": "scatter3d"
           }
          ],
          "scattercarpet": [
           {
            "marker": {
             "colorbar": {
              "outlinewidth": 0,
              "ticks": ""
             }
            },
            "type": "scattercarpet"
           }
          ],
          "scattergeo": [
           {
            "marker": {
             "colorbar": {
              "outlinewidth": 0,
              "ticks": ""
             }
            },
            "type": "scattergeo"
           }
          ],
          "scattergl": [
           {
            "marker": {
             "colorbar": {
              "outlinewidth": 0,
              "ticks": ""
             }
            },
            "type": "scattergl"
           }
          ],
          "scattermapbox": [
           {
            "marker": {
             "colorbar": {
              "outlinewidth": 0,
              "ticks": ""
             }
            },
            "type": "scattermapbox"
           }
          ],
          "scatterpolar": [
           {
            "marker": {
             "colorbar": {
              "outlinewidth": 0,
              "ticks": ""
             }
            },
            "type": "scatterpolar"
           }
          ],
          "scatterpolargl": [
           {
            "marker": {
             "colorbar": {
              "outlinewidth": 0,
              "ticks": ""
             }
            },
            "type": "scatterpolargl"
           }
          ],
          "scatterternary": [
           {
            "marker": {
             "colorbar": {
              "outlinewidth": 0,
              "ticks": ""
             }
            },
            "type": "scatterternary"
           }
          ],
          "surface": [
           {
            "colorbar": {
             "outlinewidth": 0,
             "ticks": ""
            },
            "colorscale": [
             [
              0,
              "#0d0887"
             ],
             [
              0.1111111111111111,
              "#46039f"
             ],
             [
              0.2222222222222222,
              "#7201a8"
             ],
             [
              0.3333333333333333,
              "#9c179e"
             ],
             [
              0.4444444444444444,
              "#bd3786"
             ],
             [
              0.5555555555555556,
              "#d8576b"
             ],
             [
              0.6666666666666666,
              "#ed7953"
             ],
             [
              0.7777777777777778,
              "#fb9f3a"
             ],
             [
              0.8888888888888888,
              "#fdca26"
             ],
             [
              1,
              "#f0f921"
             ]
            ],
            "type": "surface"
           }
          ],
          "table": [
           {
            "cells": {
             "fill": {
              "color": "#EBF0F8"
             },
             "line": {
              "color": "white"
             }
            },
            "header": {
             "fill": {
              "color": "#C8D4E3"
             },
             "line": {
              "color": "white"
             }
            },
            "type": "table"
           }
          ]
         },
         "layout": {
          "annotationdefaults": {
           "arrowcolor": "#2a3f5f",
           "arrowhead": 0,
           "arrowwidth": 1
          },
          "autotypenumbers": "strict",
          "coloraxis": {
           "colorbar": {
            "outlinewidth": 0,
            "ticks": ""
           }
          },
          "colorscale": {
           "diverging": [
            [
             0,
             "#8e0152"
            ],
            [
             0.1,
             "#c51b7d"
            ],
            [
             0.2,
             "#de77ae"
            ],
            [
             0.3,
             "#f1b6da"
            ],
            [
             0.4,
             "#fde0ef"
            ],
            [
             0.5,
             "#f7f7f7"
            ],
            [
             0.6,
             "#e6f5d0"
            ],
            [
             0.7,
             "#b8e186"
            ],
            [
             0.8,
             "#7fbc41"
            ],
            [
             0.9,
             "#4d9221"
            ],
            [
             1,
             "#276419"
            ]
           ],
           "sequential": [
            [
             0,
             "#0d0887"
            ],
            [
             0.1111111111111111,
             "#46039f"
            ],
            [
             0.2222222222222222,
             "#7201a8"
            ],
            [
             0.3333333333333333,
             "#9c179e"
            ],
            [
             0.4444444444444444,
             "#bd3786"
            ],
            [
             0.5555555555555556,
             "#d8576b"
            ],
            [
             0.6666666666666666,
             "#ed7953"
            ],
            [
             0.7777777777777778,
             "#fb9f3a"
            ],
            [
             0.8888888888888888,
             "#fdca26"
            ],
            [
             1,
             "#f0f921"
            ]
           ],
           "sequentialminus": [
            [
             0,
             "#0d0887"
            ],
            [
             0.1111111111111111,
             "#46039f"
            ],
            [
             0.2222222222222222,
             "#7201a8"
            ],
            [
             0.3333333333333333,
             "#9c179e"
            ],
            [
             0.4444444444444444,
             "#bd3786"
            ],
            [
             0.5555555555555556,
             "#d8576b"
            ],
            [
             0.6666666666666666,
             "#ed7953"
            ],
            [
             0.7777777777777778,
             "#fb9f3a"
            ],
            [
             0.8888888888888888,
             "#fdca26"
            ],
            [
             1,
             "#f0f921"
            ]
           ]
          },
          "colorway": [
           "#636efa",
           "#EF553B",
           "#00cc96",
           "#ab63fa",
           "#FFA15A",
           "#19d3f3",
           "#FF6692",
           "#B6E880",
           "#FF97FF",
           "#FECB52"
          ],
          "font": {
           "color": "#2a3f5f"
          },
          "geo": {
           "bgcolor": "white",
           "lakecolor": "white",
           "landcolor": "white",
           "showlakes": true,
           "showland": true,
           "subunitcolor": "#C8D4E3"
          },
          "hoverlabel": {
           "align": "left"
          },
          "hovermode": "closest",
          "mapbox": {
           "style": "light"
          },
          "paper_bgcolor": "white",
          "plot_bgcolor": "white",
          "polar": {
           "angularaxis": {
            "gridcolor": "#EBF0F8",
            "linecolor": "#EBF0F8",
            "ticks": ""
           },
           "bgcolor": "white",
           "radialaxis": {
            "gridcolor": "#EBF0F8",
            "linecolor": "#EBF0F8",
            "ticks": ""
           }
          },
          "scene": {
           "xaxis": {
            "backgroundcolor": "white",
            "gridcolor": "#DFE8F3",
            "gridwidth": 2,
            "linecolor": "#EBF0F8",
            "showbackground": true,
            "ticks": "",
            "zerolinecolor": "#EBF0F8"
           },
           "yaxis": {
            "backgroundcolor": "white",
            "gridcolor": "#DFE8F3",
            "gridwidth": 2,
            "linecolor": "#EBF0F8",
            "showbackground": true,
            "ticks": "",
            "zerolinecolor": "#EBF0F8"
           },
           "zaxis": {
            "backgroundcolor": "white",
            "gridcolor": "#DFE8F3",
            "gridwidth": 2,
            "linecolor": "#EBF0F8",
            "showbackground": true,
            "ticks": "",
            "zerolinecolor": "#EBF0F8"
           }
          },
          "shapedefaults": {
           "line": {
            "color": "#2a3f5f"
           }
          },
          "ternary": {
           "aaxis": {
            "gridcolor": "#DFE8F3",
            "linecolor": "#A2B1C6",
            "ticks": ""
           },
           "baxis": {
            "gridcolor": "#DFE8F3",
            "linecolor": "#A2B1C6",
            "ticks": ""
           },
           "bgcolor": "white",
           "caxis": {
            "gridcolor": "#DFE8F3",
            "linecolor": "#A2B1C6",
            "ticks": ""
           }
          },
          "title": {
           "x": 0.05
          },
          "xaxis": {
           "automargin": true,
           "gridcolor": "#EBF0F8",
           "linecolor": "#EBF0F8",
           "ticks": "",
           "title": {
            "standoff": 15
           },
           "zerolinecolor": "#EBF0F8",
           "zerolinewidth": 2
          },
          "yaxis": {
           "automargin": true,
           "gridcolor": "#EBF0F8",
           "linecolor": "#EBF0F8",
           "ticks": "",
           "title": {
            "standoff": 15
           },
           "zerolinecolor": "#EBF0F8",
           "zerolinewidth": 2
          }
         }
        },
        "title": {
         "text": "Yearly Waste All"
        },
        "xaxis": {
         "anchor": "y",
         "domain": [
          0,
          1
         ],
         "title": {
          "text": "Year"
         }
        },
        "yaxis": {
         "anchor": "x",
         "domain": [
          0,
          1
         ],
         "title": {
          "text": "[Tonnes]"
         }
        }
       }
      },
      "text/html": [
       "<div>                            <div id=\"9c911978-9c04-427b-bcb6-2b0e98c55b85\" class=\"plotly-graph-div\" style=\"height:525px; width:100%;\"></div>            <script type=\"text/javascript\">                require([\"plotly\"], function(Plotly) {                    window.PLOTLYENV=window.PLOTLYENV || {};                                    if (document.getElementById(\"9c911978-9c04-427b-bcb6-2b0e98c55b85\")) {                    Plotly.newPlot(                        \"9c911978-9c04-427b-bcb6-2b0e98c55b85\",                        [{\"hovertemplate\":\"Glass sim1 topcon\",\"legendgroup\":\"WasteAll_glass_sim1_TOPCon_[Tonnes]\",\"line\":{\"color\":\"#636efa\",\"dash\":\"solid\"},\"marker\":{\"symbol\":\"circle\"},\"mode\":\"lines\",\"name\":\"Glass sim1 topcon\",\"orientation\":\"v\",\"showlegend\":true,\"x\":[2020,2021,2022,2023,2024,2025,2026,2027,2028,2029,2030,2031,2032,2033,2034,2035,2036,2037,2038,2039,2040,2041,2042,2043,2044,2045,2046,2047,2048,2049,2050],\"xaxis\":\"x\",\"y\":[55957.16594964563,63281.01950656645,54726.622398821,54814.16185444989,51950.52857553849,50471.80703011267,46411.589233163286,47284.778426969315,44342.45172505516,45309.28361100796,42139.08850899306,50122.65435812191,50192.13532458072,72832.60815026582,73064.00575394853,82513.66098955808,83163.34183916904,87801.80341067785,89401.23613274217,100451.01746268183,103995.0204339308,110555.47473666689,117744.22344790176,137786.970167233,151262.8609103066,175460.00147436268,198854.29587009767,232514.50500841657,269878.74296040094,324269.7814427604,378178.4461521078],\"yaxis\":\"y\",\"type\":\"scatter\"},{\"hovertemplate\":\"Aluminium frames sim1 topcon\",\"legendgroup\":\"WasteAll_aluminium_frames_sim1_TOPCon_[Tonnes]\",\"line\":{\"color\":\"#EF553B\",\"dash\":\"solid\"},\"marker\":{\"symbol\":\"circle\"},\"mode\":\"lines\",\"name\":\"Aluminium frames sim1 topcon\",\"orientation\":\"v\",\"showlegend\":true,\"x\":[2020,2021,2022,2023,2024,2025,2026,2027,2028,2029,2030,2031,2032,2033,2034,2035,2036,2037,2038,2039,2040,2041,2042,2043,2044,2045,2046,2047,2048,2049,2050],\"xaxis\":\"x\",\"y\":[3280.189686514633,3728.7004635941134,3305.4420829015517,3475.026684234659,3408.7746603421974,3434.1575721732925,3381.67461352976,3607.828012382469,3552.885267591153,3946.2290236313074,3887.440124856835,4586.11790517834,4593.296874246929,6666.002621786849,6689.786350994051,7558.633059865375,7625.115105937895,8060.468128298595,8223.532138798213,9259.212517599257,9619.384314586137,10270.547835205876,10999.08134769502,12929.28823557733,14291.358324372472,16674.506857578046,19032.510502744553,22385.565484366623,26139.26267271628,31514.708991356158,36906.40144646724],\"yaxis\":\"y\",\"type\":\"scatter\"},{\"hovertemplate\":\"Silver sim1 topcon\",\"legendgroup\":\"WasteAll_silver_sim1_TOPCon_[Tonnes]\",\"line\":{\"color\":\"#00cc96\",\"dash\":\"solid\"},\"marker\":{\"symbol\":\"circle\"},\"mode\":\"lines\",\"name\":\"Silver sim1 topcon\",\"orientation\":\"v\",\"showlegend\":true,\"x\":[2020,2021,2022,2023,2024,2025,2026,2027,2028,2029,2030,2031,2032,2033,2034,2035,2036,2037,2038,2039,2040,2041,2042,2043,2044,2045,2046,2047,2048,2049,2050],\"xaxis\":\"x\",\"y\":[129.52925746388746,149.02450428567874,128.5231207791432,131.21647702659158,124.01898538363554,120.09887795692526,112.92479808082754,114.6875058043797,107.142413446144,112.45048380874965,104.19163904485862,122.69843575577379,121.55745076130381,174.55006435505925,172.95569303439723,192.7750035970721,191.1583558196757,198.04035646630405,196.76714510902303,215.40989561743316,214.80428682629096,218.12886529462116,219.10950257943054,243.22801823565266,246.74882002282249,265.5272204836157,273.24752349912217,291.6020074400296,305.2853621318834,340.42744355190086,360.916483203831],\"yaxis\":\"y\",\"type\":\"scatter\"},{\"hovertemplate\":\"Silicon sim1 topcon\",\"legendgroup\":\"WasteAll_silicon_sim1_TOPCon_[Tonnes]\",\"line\":{\"color\":\"#ab63fa\",\"dash\":\"solid\"},\"marker\":{\"symbol\":\"circle\"},\"mode\":\"lines\",\"name\":\"Silicon sim1 topcon\",\"orientation\":\"v\",\"showlegend\":true,\"x\":[2020,2021,2022,2023,2024,2025,2026,2027,2028,2029,2030,2031,2032,2033,2034,2035,2036,2037,2038,2039,2040,2041,2042,2043,2044,2045,2046,2047,2048,2049,2050],\"xaxis\":\"x\",\"y\":[16637.909343534047,20110.308569049237,18377.030969869335,18061.318487481978,16147.714544707915,15773.332454940872,15080.20505804843,15722.307350541334,15040.180576862627,16216.808752336134,15639.689807461811,18463.517186094472,18465.707466971173,26771.450729970762,26778.71774981278,30130.37559439421,30150.708724049575,31512.202423890016,31562.107484794007,34823.67128716862,34933.95156987612,35631.17331960858,35854.31933660657,39889.33014856816,40306.64559203161,43172.44862687228,43895.09623058481,46204.317468456014,47355.01756587423,52021.240025648665,53674.548134607605],\"yaxis\":\"y\",\"type\":\"scatter\"},{\"hovertemplate\":\"Copper sim1 topcon\",\"legendgroup\":\"WasteAll_copper_sim1_TOPCon_[Tonnes]\",\"line\":{\"color\":\"#FFA15A\",\"dash\":\"solid\"},\"marker\":{\"symbol\":\"circle\"},\"mode\":\"lines\",\"name\":\"Copper sim1 topcon\",\"orientation\":\"v\",\"showlegend\":true,\"x\":[2020,2021,2022,2023,2024,2025,2026,2027,2028,2029,2030,2031,2032,2033,2034,2035,2036,2037,2038,2039,2040,2041,2042,2043,2044,2045,2046,2047,2048,2049,2050],\"xaxis\":\"x\",\"y\":[87.46269841648245,105.57917809242353,95.71468198248843,103.26297127331449,103.36186341978417,102.09679156356471,98.09011714452815,101.99652682567111,97.62596608906334,105.24690044333684,100.46833847218159,119.45186594774142,119.49883252310491,173.28190291634357,173.4384185137667,195.3041057615782,195.74370790862872,205.04075819095294,206.12320897235074,228.3641538530757,230.76281136707175,237.6989102871158,242.56439658688524,273.39552739781027,282.51569980227725,309.59874049490486,325.4293527059267,354.6304764304431,379.90793706533077,431.8337416375103,468.28475829590013],\"yaxis\":\"y\",\"type\":\"scatter\"},{\"hovertemplate\":\"Encapsulant sim1 topcon\",\"legendgroup\":\"WasteAll_encapsulant_sim1_TOPCon_[Tonnes]\",\"line\":{\"color\":\"#19d3f3\",\"dash\":\"solid\"},\"marker\":{\"symbol\":\"circle\"},\"mode\":\"lines\",\"name\":\"Encapsulant sim1 topcon\",\"orientation\":\"v\",\"showlegend\":true,\"x\":[2020,2021,2022,2023,2024,2025,2026,2027,2028,2029,2030,2031,2032,2033,2034,2035,2036,2037,2038,2039,2040,2041,2042,2043,2044,2045,2046,2047,2048,2049,2050],\"xaxis\":\"x\",\"y\":[2073.7147523957137,2373.228967207427,2068.538660101348,2200.2341478507733,2121.141626064925,2060.504853501117,1964.809806168815,2077.0486556861815,2025.8646206612902,2274.9687192009037,2264.9114908423544,2700.5987195208786,2705.2524555081836,3926.4078058817836,3941.806630482641,4455.723904521831,4498.710767524004,4761.099374166474,4866.397153923632,5490.053175898397,5722.341201607662,6134.5941134784425,6603.889522581881,7795.671499431877,8672.020482556942,10173.283457080983,11688.443352705308,13823.045912853851,16231.184942024849,19634.026292013572,23085.192636411608],\"yaxis\":\"y\",\"type\":\"scatter\"},{\"hovertemplate\":\"Backsheet sim1 topcon\",\"legendgroup\":\"WasteAll_backsheet_sim1_TOPCon_[Tonnes]\",\"line\":{\"color\":\"#FF6692\",\"dash\":\"solid\"},\"marker\":{\"symbol\":\"circle\"},\"mode\":\"lines\",\"name\":\"Backsheet sim1 topcon\",\"orientation\":\"v\",\"showlegend\":true,\"x\":[2020,2021,2022,2023,2024,2025,2026,2027,2028,2029,2030,2031,2032,2033,2034,2035,2036,2037,2038,2039,2040,2041,2042,2043,2044,2045,2046,2047,2048,2049,2050],\"xaxis\":\"x\",\"y\":[1973.895906117302,2239.9043290572945,1968.1131730385384,2049.509628481858,2005.6708940645851,2018.1485198766084,1922.7023499511115,1975.0262331958377,1869.0693269757155,1980.113227889972,1858.1018996291307,2081.3474636062115,2083.7082812803383,3023.0675757930526,3030.8789603322975,3420.2532958439647,3442.062209931047,3626.392104031258,3679.825963472432,4119.0190664646,4236.926537374324,4466.941290009185,4705.21929233133,5453.739852345959,5898.821076120921,6750.2268478312435,7519.973574916132,8657.857686293439,9881.650100805686,11736.63872446243,13491.133576496173],\"yaxis\":\"y\",\"type\":\"scatter\"},{\"hovertemplate\":\"Module sim1 topcon\",\"legendgroup\":\"WasteAll_Module_sim1_TOPCon_[Tonnes]\",\"line\":{\"color\":\"#B6E880\",\"dash\":\"solid\"},\"marker\":{\"symbol\":\"circle\"},\"mode\":\"lines\",\"name\":\"Module sim1 topcon\",\"orientation\":\"v\",\"showlegend\":true,\"x\":[2020,2021,2022,2023,2024,2025,2026,2027,2028,2029,2030,2031,2032,2033,2034,2035,2036,2037,2038,2039,2040,2041,2042,2043,2044,2045,2046,2047,2048,2049,2050],\"xaxis\":\"x\",\"y\":[80139.86759408771,91987.76551785263,80669.9850874934,80834.73025079905,75861.21114952155,73980.14610012504,68971.99597608676,70883.67271140518,67035.21989668116,69945.10071831835,65993.89180930023,78196.38593422533,78281.15668587176,113567.36885096967,113851.58955711844,128466.72595354212,129266.84071033986,136165.04655572146,138135.98922781184,154586.74755928322,158953.19115556843,167514.5590705507,176368.40684628286,204371.62344878976,220960.97090521365,252805.59322470374,281588.99640725355,324231.52404425695,370171.0515410191,439948.65666143055,506164.92318759015],\"yaxis\":\"y\",\"type\":\"scatter\"}],                        {\"template\":{\"data\":{\"barpolar\":[{\"marker\":{\"line\":{\"color\":\"white\",\"width\":0.5},\"pattern\":{\"fillmode\":\"overlay\",\"size\":10,\"solidity\":0.2}},\"type\":\"barpolar\"}],\"bar\":[{\"error_x\":{\"color\":\"#2a3f5f\"},\"error_y\":{\"color\":\"#2a3f5f\"},\"marker\":{\"line\":{\"color\":\"white\",\"width\":0.5},\"pattern\":{\"fillmode\":\"overlay\",\"size\":10,\"solidity\":0.2}},\"type\":\"bar\"}],\"carpet\":[{\"aaxis\":{\"endlinecolor\":\"#2a3f5f\",\"gridcolor\":\"#C8D4E3\",\"linecolor\":\"#C8D4E3\",\"minorgridcolor\":\"#C8D4E3\",\"startlinecolor\":\"#2a3f5f\"},\"baxis\":{\"endlinecolor\":\"#2a3f5f\",\"gridcolor\":\"#C8D4E3\",\"linecolor\":\"#C8D4E3\",\"minorgridcolor\":\"#C8D4E3\",\"startlinecolor\":\"#2a3f5f\"},\"type\":\"carpet\"}],\"choropleth\":[{\"colorbar\":{\"outlinewidth\":0,\"ticks\":\"\"},\"type\":\"choropleth\"}],\"contourcarpet\":[{\"colorbar\":{\"outlinewidth\":0,\"ticks\":\"\"},\"type\":\"contourcarpet\"}],\"contour\":[{\"colorbar\":{\"outlinewidth\":0,\"ticks\":\"\"},\"colorscale\":[[0.0,\"#0d0887\"],[0.1111111111111111,\"#46039f\"],[0.2222222222222222,\"#7201a8\"],[0.3333333333333333,\"#9c179e\"],[0.4444444444444444,\"#bd3786\"],[0.5555555555555556,\"#d8576b\"],[0.6666666666666666,\"#ed7953\"],[0.7777777777777778,\"#fb9f3a\"],[0.8888888888888888,\"#fdca26\"],[1.0,\"#f0f921\"]],\"type\":\"contour\"}],\"heatmapgl\":[{\"colorbar\":{\"outlinewidth\":0,\"ticks\":\"\"},\"colorscale\":[[0.0,\"#0d0887\"],[0.1111111111111111,\"#46039f\"],[0.2222222222222222,\"#7201a8\"],[0.3333333333333333,\"#9c179e\"],[0.4444444444444444,\"#bd3786\"],[0.5555555555555556,\"#d8576b\"],[0.6666666666666666,\"#ed7953\"],[0.7777777777777778,\"#fb9f3a\"],[0.8888888888888888,\"#fdca26\"],[1.0,\"#f0f921\"]],\"type\":\"heatmapgl\"}],\"heatmap\":[{\"colorbar\":{\"outlinewidth\":0,\"ticks\":\"\"},\"colorscale\":[[0.0,\"#0d0887\"],[0.1111111111111111,\"#46039f\"],[0.2222222222222222,\"#7201a8\"],[0.3333333333333333,\"#9c179e\"],[0.4444444444444444,\"#bd3786\"],[0.5555555555555556,\"#d8576b\"],[0.6666666666666666,\"#ed7953\"],[0.7777777777777778,\"#fb9f3a\"],[0.8888888888888888,\"#fdca26\"],[1.0,\"#f0f921\"]],\"type\":\"heatmap\"}],\"histogram2dcontour\":[{\"colorbar\":{\"outlinewidth\":0,\"ticks\":\"\"},\"colorscale\":[[0.0,\"#0d0887\"],[0.1111111111111111,\"#46039f\"],[0.2222222222222222,\"#7201a8\"],[0.3333333333333333,\"#9c179e\"],[0.4444444444444444,\"#bd3786\"],[0.5555555555555556,\"#d8576b\"],[0.6666666666666666,\"#ed7953\"],[0.7777777777777778,\"#fb9f3a\"],[0.8888888888888888,\"#fdca26\"],[1.0,\"#f0f921\"]],\"type\":\"histogram2dcontour\"}],\"histogram2d\":[{\"colorbar\":{\"outlinewidth\":0,\"ticks\":\"\"},\"colorscale\":[[0.0,\"#0d0887\"],[0.1111111111111111,\"#46039f\"],[0.2222222222222222,\"#7201a8\"],[0.3333333333333333,\"#9c179e\"],[0.4444444444444444,\"#bd3786\"],[0.5555555555555556,\"#d8576b\"],[0.6666666666666666,\"#ed7953\"],[0.7777777777777778,\"#fb9f3a\"],[0.8888888888888888,\"#fdca26\"],[1.0,\"#f0f921\"]],\"type\":\"histogram2d\"}],\"histogram\":[{\"marker\":{\"pattern\":{\"fillmode\":\"overlay\",\"size\":10,\"solidity\":0.2}},\"type\":\"histogram\"}],\"mesh3d\":[{\"colorbar\":{\"outlinewidth\":0,\"ticks\":\"\"},\"type\":\"mesh3d\"}],\"parcoords\":[{\"line\":{\"colorbar\":{\"outlinewidth\":0,\"ticks\":\"\"}},\"type\":\"parcoords\"}],\"pie\":[{\"automargin\":true,\"type\":\"pie\"}],\"scatter3d\":[{\"line\":{\"colorbar\":{\"outlinewidth\":0,\"ticks\":\"\"}},\"marker\":{\"colorbar\":{\"outlinewidth\":0,\"ticks\":\"\"}},\"type\":\"scatter3d\"}],\"scattercarpet\":[{\"marker\":{\"colorbar\":{\"outlinewidth\":0,\"ticks\":\"\"}},\"type\":\"scattercarpet\"}],\"scattergeo\":[{\"marker\":{\"colorbar\":{\"outlinewidth\":0,\"ticks\":\"\"}},\"type\":\"scattergeo\"}],\"scattergl\":[{\"marker\":{\"colorbar\":{\"outlinewidth\":0,\"ticks\":\"\"}},\"type\":\"scattergl\"}],\"scattermapbox\":[{\"marker\":{\"colorbar\":{\"outlinewidth\":0,\"ticks\":\"\"}},\"type\":\"scattermapbox\"}],\"scatterpolargl\":[{\"marker\":{\"colorbar\":{\"outlinewidth\":0,\"ticks\":\"\"}},\"type\":\"scatterpolargl\"}],\"scatterpolar\":[{\"marker\":{\"colorbar\":{\"outlinewidth\":0,\"ticks\":\"\"}},\"type\":\"scatterpolar\"}],\"scatter\":[{\"fillpattern\":{\"fillmode\":\"overlay\",\"size\":10,\"solidity\":0.2},\"type\":\"scatter\"}],\"scatterternary\":[{\"marker\":{\"colorbar\":{\"outlinewidth\":0,\"ticks\":\"\"}},\"type\":\"scatterternary\"}],\"surface\":[{\"colorbar\":{\"outlinewidth\":0,\"ticks\":\"\"},\"colorscale\":[[0.0,\"#0d0887\"],[0.1111111111111111,\"#46039f\"],[0.2222222222222222,\"#7201a8\"],[0.3333333333333333,\"#9c179e\"],[0.4444444444444444,\"#bd3786\"],[0.5555555555555556,\"#d8576b\"],[0.6666666666666666,\"#ed7953\"],[0.7777777777777778,\"#fb9f3a\"],[0.8888888888888888,\"#fdca26\"],[1.0,\"#f0f921\"]],\"type\":\"surface\"}],\"table\":[{\"cells\":{\"fill\":{\"color\":\"#EBF0F8\"},\"line\":{\"color\":\"white\"}},\"header\":{\"fill\":{\"color\":\"#C8D4E3\"},\"line\":{\"color\":\"white\"}},\"type\":\"table\"}]},\"layout\":{\"annotationdefaults\":{\"arrowcolor\":\"#2a3f5f\",\"arrowhead\":0,\"arrowwidth\":1},\"autotypenumbers\":\"strict\",\"coloraxis\":{\"colorbar\":{\"outlinewidth\":0,\"ticks\":\"\"}},\"colorscale\":{\"diverging\":[[0,\"#8e0152\"],[0.1,\"#c51b7d\"],[0.2,\"#de77ae\"],[0.3,\"#f1b6da\"],[0.4,\"#fde0ef\"],[0.5,\"#f7f7f7\"],[0.6,\"#e6f5d0\"],[0.7,\"#b8e186\"],[0.8,\"#7fbc41\"],[0.9,\"#4d9221\"],[1,\"#276419\"]],\"sequential\":[[0.0,\"#0d0887\"],[0.1111111111111111,\"#46039f\"],[0.2222222222222222,\"#7201a8\"],[0.3333333333333333,\"#9c179e\"],[0.4444444444444444,\"#bd3786\"],[0.5555555555555556,\"#d8576b\"],[0.6666666666666666,\"#ed7953\"],[0.7777777777777778,\"#fb9f3a\"],[0.8888888888888888,\"#fdca26\"],[1.0,\"#f0f921\"]],\"sequentialminus\":[[0.0,\"#0d0887\"],[0.1111111111111111,\"#46039f\"],[0.2222222222222222,\"#7201a8\"],[0.3333333333333333,\"#9c179e\"],[0.4444444444444444,\"#bd3786\"],[0.5555555555555556,\"#d8576b\"],[0.6666666666666666,\"#ed7953\"],[0.7777777777777778,\"#fb9f3a\"],[0.8888888888888888,\"#fdca26\"],[1.0,\"#f0f921\"]]},\"colorway\":[\"#636efa\",\"#EF553B\",\"#00cc96\",\"#ab63fa\",\"#FFA15A\",\"#19d3f3\",\"#FF6692\",\"#B6E880\",\"#FF97FF\",\"#FECB52\"],\"font\":{\"color\":\"#2a3f5f\"},\"geo\":{\"bgcolor\":\"white\",\"lakecolor\":\"white\",\"landcolor\":\"white\",\"showlakes\":true,\"showland\":true,\"subunitcolor\":\"#C8D4E3\"},\"hoverlabel\":{\"align\":\"left\"},\"hovermode\":\"closest\",\"mapbox\":{\"style\":\"light\"},\"paper_bgcolor\":\"white\",\"plot_bgcolor\":\"white\",\"polar\":{\"angularaxis\":{\"gridcolor\":\"#EBF0F8\",\"linecolor\":\"#EBF0F8\",\"ticks\":\"\"},\"bgcolor\":\"white\",\"radialaxis\":{\"gridcolor\":\"#EBF0F8\",\"linecolor\":\"#EBF0F8\",\"ticks\":\"\"}},\"scene\":{\"xaxis\":{\"backgroundcolor\":\"white\",\"gridcolor\":\"#DFE8F3\",\"gridwidth\":2,\"linecolor\":\"#EBF0F8\",\"showbackground\":true,\"ticks\":\"\",\"zerolinecolor\":\"#EBF0F8\"},\"yaxis\":{\"backgroundcolor\":\"white\",\"gridcolor\":\"#DFE8F3\",\"gridwidth\":2,\"linecolor\":\"#EBF0F8\",\"showbackground\":true,\"ticks\":\"\",\"zerolinecolor\":\"#EBF0F8\"},\"zaxis\":{\"backgroundcolor\":\"white\",\"gridcolor\":\"#DFE8F3\",\"gridwidth\":2,\"linecolor\":\"#EBF0F8\",\"showbackground\":true,\"ticks\":\"\",\"zerolinecolor\":\"#EBF0F8\"}},\"shapedefaults\":{\"line\":{\"color\":\"#2a3f5f\"}},\"ternary\":{\"aaxis\":{\"gridcolor\":\"#DFE8F3\",\"linecolor\":\"#A2B1C6\",\"ticks\":\"\"},\"baxis\":{\"gridcolor\":\"#DFE8F3\",\"linecolor\":\"#A2B1C6\",\"ticks\":\"\"},\"bgcolor\":\"white\",\"caxis\":{\"gridcolor\":\"#DFE8F3\",\"linecolor\":\"#A2B1C6\",\"ticks\":\"\"}},\"title\":{\"x\":0.05},\"xaxis\":{\"automargin\":true,\"gridcolor\":\"#EBF0F8\",\"linecolor\":\"#EBF0F8\",\"ticks\":\"\",\"title\":{\"standoff\":15},\"zerolinecolor\":\"#EBF0F8\",\"zerolinewidth\":2},\"yaxis\":{\"automargin\":true,\"gridcolor\":\"#EBF0F8\",\"linecolor\":\"#EBF0F8\",\"ticks\":\"\",\"title\":{\"standoff\":15},\"zerolinecolor\":\"#EBF0F8\",\"zerolinewidth\":2}}},\"xaxis\":{\"anchor\":\"y\",\"domain\":[0.0,1.0],\"title\":{\"text\":\"Year\"}},\"yaxis\":{\"anchor\":\"x\",\"domain\":[0.0,1.0],\"title\":{\"text\":\"[Tonnes]\"}},\"legend\":{\"title\":{\"text\":\"variable\"},\"tracegroupgap\":0},\"margin\":{\"t\":60},\"title\":{\"text\":\"Yearly Waste All\"}},                        {\"responsive\": true}                    ).then(function(){\n",
       "                            \n",
       "var gd = document.getElementById('9c911978-9c04-427b-bcb6-2b0e98c55b85');\n",
       "var x = new MutationObserver(function (mutations, observer) {{\n",
       "        var display = window.getComputedStyle(gd).display;\n",
       "        if (!display || display === 'none') {{\n",
       "            console.log([gd, 'removed!']);\n",
       "            Plotly.purge(gd);\n",
       "            observer.disconnect();\n",
       "        }}\n",
       "}});\n",
       "\n",
       "// Listen for the removal of the full notebook cells\n",
       "var notebookContainer = gd.closest('#notebook-container');\n",
       "if (notebookContainer) {{\n",
       "    x.observe(notebookContainer, {childList: true});\n",
       "}}\n",
       "\n",
       "// Listen for the clearing of the current output cell\n",
       "var outputEl = gd.closest('.output');\n",
       "if (outputEl) {{\n",
       "    x.observe(outputEl, {childList: true});\n",
       "}}\n",
       "\n",
       "                        })                };                });            </script>        </div>"
      ]
     },
     "metadata": {},
     "output_type": "display_data"
    },
    {
     "data": {
      "application/vnd.plotly.v1+json": {
       "config": {
        "plotlyServerURL": "https://plot.ly"
       },
       "data": [
        {
         "hovertemplate": "Glass sim1 topcon",
         "legendgroup": "WasteEOL_glass_sim1_TOPCon_[Tonnes]",
         "line": {
          "color": "#636efa",
          "dash": "solid"
         },
         "marker": {
          "symbol": "circle"
         },
         "mode": "lines",
         "name": "Glass sim1 topcon",
         "orientation": "v",
         "showlegend": true,
         "type": "scatter",
         "x": [
          2020,
          2021,
          2022,
          2023,
          2024,
          2025,
          2026,
          2027,
          2028,
          2029,
          2030,
          2031,
          2032,
          2033,
          2034,
          2035,
          2036,
          2037,
          2038,
          2039,
          2040,
          2041,
          2042,
          2043,
          2044,
          2045,
          2046,
          2047,
          2048,
          2049,
          2050
         ],
         "xaxis": "x",
         "y": [
          0,
          8.061503516767364e-08,
          2.939339052319436e-05,
          0.0009316600925422941,
          0.010890166905173972,
          0.07355412024250632,
          0.3505933903350746,
          1.312903326489619,
          4.119799464336816,
          11.29394534120664,
          27.830338188368124,
          62.90682258113503,
          132.38778903994861,
          262.3319762047817,
          493.7295798875037,
          888.700763334928,
          1538.3816129458996,
          2572.694218033327,
          4172.126940097637,
          6581.509789388376,
          10125.512760637344,
          15225.155529954976,
          22413.904241189844,
          32350.832667805276,
          45826.723410878876,
          63756.80272906776,
          87151.09712480276,
          117050.5305129898,
          154414.76846497416,
          199948.2658688424,
          253856.93057818981
         ],
         "yaxis": "y"
        },
        {
         "hovertemplate": "Aluminium frames sim1 topcon",
         "legendgroup": "WasteEOL_aluminium_frames_sim1_TOPCon_[Tonnes]",
         "line": {
          "color": "#EF553B",
          "dash": "solid"
         },
         "marker": {
          "symbol": "circle"
         },
         "mode": "lines",
         "name": "Aluminium frames sim1 topcon",
         "orientation": "v",
         "showlegend": true,
         "type": "scatter",
         "x": [
          2020,
          2021,
          2022,
          2023,
          2024,
          2025,
          2026,
          2027,
          2028,
          2029,
          2030,
          2031,
          2032,
          2033,
          2034,
          2035,
          2036,
          2037,
          2038,
          2039,
          2040,
          2041,
          2042,
          2043,
          2044,
          2045,
          2046,
          2047,
          2048,
          2049,
          2050
         ],
         "xaxis": "x",
         "y": [
          0,
          8.633568062991641e-09,
          3.1473705854750487e-06,
          9.957628828939679e-05,
          0.0011599295693758135,
          0.0078029707777676986,
          0.03704314073724955,
          0.13818657646876742,
          0.432052926541427,
          1.1804087702847625,
          2.8994989697655495,
          6.534412043513249,
          13.713381112102498,
          27.103002426711367,
          50.886731633913314,
          91.38963810405247,
          157.87168417657412,
          263.5086786706951,
          426.5726891703135,
          671.8090844495375,
          1031.9808814364183,
          1549.50592574805,
          2278.0394382371965,
          3283.7422901156615,
          4645.812378910801,
          6455.635403199931,
          8813.63904836644,
          11822.649415411543,
          15576.3466037612,
          20141.48422310091,
          25533.176678211996
         ],
         "yaxis": "y"
        },
        {
         "hovertemplate": "Silver sim1 topcon",
         "legendgroup": "WasteEOL_silver_sim1_TOPCon_[Tonnes]",
         "line": {
          "color": "#00cc96",
          "dash": "solid"
         },
         "marker": {
          "symbol": "circle"
         },
         "mode": "lines",
         "name": "Silver sim1 topcon",
         "orientation": "v",
         "showlegend": true,
         "type": "scatter",
         "x": [
          2020,
          2021,
          2022,
          2023,
          2024,
          2025,
          2026,
          2027,
          2028,
          2029,
          2030,
          2031,
          2032,
          2033,
          2034,
          2035,
          2036,
          2037,
          2038,
          2039,
          2040,
          2041,
          2042,
          2043,
          2044,
          2045,
          2046,
          2047,
          2048,
          2049,
          2050
         ],
         "xaxis": "x",
         "y": [
          0,
          3.8990698825597655e-11,
          1.4214611484523334e-08,
          4.4989847022102455e-07,
          5.244195600991172e-06,
          3.5297385621086066e-05,
          0.000167603962797909,
          0.0006251350688948836,
          0.0019535314459352545,
          0.00533273712293012,
          0.013084344745205314,
          0.029447301353692713,
          0.06170449188885435,
          0.12175056540353704,
          0.2281970390069179,
          0.40911301803598993,
          0.7054961966742647,
          1.175554326320605,
          1.899843779929945,
          2.9872457600001954,
          4.581641397760986,
          6.868944365478091,
          10.083822882205455,
          14.514942257644272,
          20.5068337012391,
          28.45551493354482,
          38.79378770359207,
          51.960893506288706,
          68.35035864406952,
          88.23024436990117,
          111.63298722162327
         ],
         "yaxis": "y"
        },
        {
         "hovertemplate": "Silicon sim1 topcon",
         "legendgroup": "WasteEOL_silicon_sim1_TOPCon_[Tonnes]",
         "line": {
          "color": "#ab63fa",
          "dash": "solid"
         },
         "marker": {
          "symbol": "circle"
         },
         "mode": "lines",
         "name": "Silicon sim1 topcon",
         "orientation": "v",
         "showlegend": true,
         "type": "scatter",
         "x": [
          2020,
          2021,
          2022,
          2023,
          2024,
          2025,
          2026,
          2027,
          2028,
          2029,
          2030,
          2031,
          2032,
          2033,
          2034,
          2035,
          2036,
          2037,
          2038,
          2039,
          2040,
          2041,
          2042,
          2043,
          2044,
          2045,
          2046,
          2047,
          2048,
          2049,
          2050
         ],
         "xaxis": "x",
         "y": [
          0,
          2.582216457011674e-09,
          9.414611941610683e-07,
          2.9823548005180357e-05,
          0.00034822366047040476,
          0.0023488277770777398,
          0.011179538850093625,
          0.04180211333211019,
          0.1309657463580144,
          0.3584389977248259,
          0.8817624428588081,
          1.9896557805984767,
          4.17993665729986,
          8.268384340053021,
          15.53540418207356,
          27.91754049909557,
          48.25067015446543,
          80.57075960655217,
          130.47582051054422,
          205.54823456681086,
          315.82851727430386,
          474.3177789603489,
          697.4637959583424,
          1005.5512450951375,
          1422.8666885585847,
          1977.441053246567,
          2700.088656959093,
          3622.373914038519,
          4773.074011456736,
          6172.725093591877,
          7826.03320255081
         ],
         "yaxis": "y"
        },
        {
         "hovertemplate": "Copper sim1 topcon",
         "legendgroup": "WasteEOL_copper_sim1_TOPCon_[Tonnes]",
         "line": {
          "color": "#FFA15A",
          "dash": "solid"
         },
         "marker": {
          "symbol": "circle"
         },
         "mode": "lines",
         "name": "Copper sim1 topcon",
         "orientation": "v",
         "showlegend": true,
         "type": "scatter",
         "x": [
          2020,
          2021,
          2022,
          2023,
          2024,
          2025,
          2026,
          2027,
          2028,
          2029,
          2030,
          2031,
          2032,
          2033,
          2034,
          2035,
          2036,
          2037,
          2038,
          2039,
          2040,
          2041,
          2042,
          2043,
          2044,
          2045,
          2046,
          2047,
          2048,
          2049,
          2050
         ],
         "xaxis": "x",
         "y": [
          0,
          5.421759905674266e-11,
          1.9768863713355037e-08,
          6.267169837503984e-07,
          7.32835184746594e-06,
          4.951936417031298e-05,
          0.00023615072774696614,
          0.000884813135176347,
          0.0027780432288109676,
          0.007619991188406406,
          0.018787253305232458,
          0.04248725666525959,
          0.0894538320287395,
          0.1773225699845547,
          0.333838167407682,
          0.6010505898112046,
          1.0406527368617438,
          1.7405923668612826,
          2.8230431482590803,
          4.453723994289325,
          6.852381508285399,
          10.30395231587005,
          15.16943861563949,
          21.89478498086079,
          31.01495738532777,
          43.14894366938749,
          58.979555880409315,
          79.20996125679882,
          104.48742189168642,
          135.2850041099205,
          171.73602076831028
         ],
         "yaxis": "y"
        },
        {
         "hovertemplate": "Encapsulant sim1 topcon",
         "legendgroup": "WasteEOL_encapsulant_sim1_TOPCon_[Tonnes]",
         "line": {
          "color": "#19d3f3",
          "dash": "solid"
         },
         "marker": {
          "symbol": "circle"
         },
         "mode": "lines",
         "name": "Encapsulant sim1 topcon",
         "orientation": "v",
         "showlegend": true,
         "type": "scatter",
         "x": [
          2020,
          2021,
          2022,
          2023,
          2024,
          2025,
          2026,
          2027,
          2028,
          2029,
          2030,
          2031,
          2032,
          2033,
          2034,
          2035,
          2036,
          2037,
          2038,
          2039,
          2040,
          2041,
          2042,
          2043,
          2044,
          2045,
          2046,
          2047,
          2048,
          2049,
          2050
         ],
         "xaxis": "x",
         "y": [
          0,
          5.599185490433733e-09,
          2.04122835831806e-06,
          6.459448652811018e-05,
          0.0007527155597727086,
          0.005065113085677745,
          0.02404949695509046,
          0.0897182087339115,
          0.28049570091728565,
          0.7662270186986868,
          1.8816739946062726,
          4.239215170460825,
          8.892951157765324,
          17.567599359719043,
          32.96642396057715,
          59.172820400890046,
          102.1596834030631,
          170.41863899591127,
          275.7164187530689,
          433.97615505675344,
          666.2641807660184,
          999.8336542235287,
          1469.1290633269678,
          2116.5831011785504,
          2992.9320843036166,
          4156.633425248799,
          5671.793320873123,
          7603.8298686701355,
          10011.968897841132,
          12937.718048049888,
          16388.884392447926
         ],
         "yaxis": "y"
        },
        {
         "hovertemplate": "Backsheet sim1 topcon",
         "legendgroup": "WasteEOL_backsheet_sim1_TOPCon_[Tonnes]",
         "line": {
          "color": "#FF6692",
          "dash": "solid"
         },
         "marker": {
          "symbol": "circle"
         },
         "mode": "lines",
         "name": "Backsheet sim1 topcon",
         "orientation": "v",
         "showlegend": true,
         "type": "scatter",
         "x": [
          2020,
          2021,
          2022,
          2023,
          2024,
          2025,
          2026,
          2027,
          2028,
          2029,
          2030,
          2031,
          2032,
          2033,
          2034,
          2035,
          2036,
          2037,
          2038,
          2039,
          2040,
          2041,
          2042,
          2043,
          2044,
          2045,
          2046,
          2047,
          2048,
          2049,
          2050
         ],
         "xaxis": "x",
         "y": [
          0,
          2.8510749700059166e-09,
          1.0393548692446384e-06,
          3.288114215159938e-05,
          0.00038297159824214003,
          0.002575745283667269,
          0.012224200890380819,
          0.045584103552531785,
          0.14245950602707508,
          0.38902094212646615,
          0.9550678997223486,
          2.151184961649855,
          4.512002635776448,
          8.912379461082224,
          16.723764000327154,
          30.01818875753889,
          51.827102844621386,
          86.46121365419827,
          139.89507309537163,
          220.21532411763064,
          338.1227950273543,
          507.4637717521962,
          745.7417740743413,
          1074.524304608212,
          1519.605528383174,
          2110.7133349231017,
          2880.4600620079896,
          3862.1430071900445,
          5085.935421702292,
          6573.032328860394,
          8327.52718089414
         ],
         "yaxis": "y"
        },
        {
         "hovertemplate": "Module sim1 topcon",
         "legendgroup": "WasteEOL_Module_sim1_TOPCon_[Tonnes]",
         "line": {
          "color": "#B6E880",
          "dash": "solid"
         },
         "marker": {
          "symbol": "circle"
         },
         "mode": "lines",
         "name": "Module sim1 topcon",
         "orientation": "v",
         "showlegend": true,
         "type": "scatter",
         "x": [
          2020,
          2021,
          2022,
          2023,
          2024,
          2025,
          2026,
          2027,
          2028,
          2029,
          2030,
          2031,
          2032,
          2033,
          2034,
          2035,
          2036,
          2037,
          2038,
          2039,
          2040,
          2041,
          2042,
          2043,
          2044,
          2045,
          2046,
          2047,
          2048,
          2049,
          2050
         ],
         "xaxis": "x",
         "y": [
          0,
          1.0037428844599893e-07,
          3.659678900559105e-05,
          0.0011596121729705521,
          0.013546579840483497,
          0.09143159391648817,
          0.43549352245843387,
          1.6297042767810108,
          5.110504918855365,
          14.000993798352718,
          34.48021309337153,
          77.8932250953764,
          163.83721892681035,
          324.4824149277354,
          610.4039388708094,
          1098.2091147043518,
          1900.2369024581596,
          3176.569655653866,
          5149.509828555124,
          8120.499557333398,
          12489.143158047485,
          18773.44955732045,
          27629.53157428454,
          39867.64333604134,
          56459.46188212162,
          78528.83040428908,
          107314.85155659344,
          144092.69757306314,
          190034.93118027126,
          245996.74081092532,
          312215.9210402846
         ],
         "yaxis": "y"
        }
       ],
       "layout": {
        "legend": {
         "title": {
          "text": "variable"
         },
         "tracegroupgap": 0
        },
        "margin": {
         "t": 60
        },
        "template": {
         "data": {
          "bar": [
           {
            "error_x": {
             "color": "#2a3f5f"
            },
            "error_y": {
             "color": "#2a3f5f"
            },
            "marker": {
             "line": {
              "color": "white",
              "width": 0.5
             },
             "pattern": {
              "fillmode": "overlay",
              "size": 10,
              "solidity": 0.2
             }
            },
            "type": "bar"
           }
          ],
          "barpolar": [
           {
            "marker": {
             "line": {
              "color": "white",
              "width": 0.5
             },
             "pattern": {
              "fillmode": "overlay",
              "size": 10,
              "solidity": 0.2
             }
            },
            "type": "barpolar"
           }
          ],
          "carpet": [
           {
            "aaxis": {
             "endlinecolor": "#2a3f5f",
             "gridcolor": "#C8D4E3",
             "linecolor": "#C8D4E3",
             "minorgridcolor": "#C8D4E3",
             "startlinecolor": "#2a3f5f"
            },
            "baxis": {
             "endlinecolor": "#2a3f5f",
             "gridcolor": "#C8D4E3",
             "linecolor": "#C8D4E3",
             "minorgridcolor": "#C8D4E3",
             "startlinecolor": "#2a3f5f"
            },
            "type": "carpet"
           }
          ],
          "choropleth": [
           {
            "colorbar": {
             "outlinewidth": 0,
             "ticks": ""
            },
            "type": "choropleth"
           }
          ],
          "contour": [
           {
            "colorbar": {
             "outlinewidth": 0,
             "ticks": ""
            },
            "colorscale": [
             [
              0,
              "#0d0887"
             ],
             [
              0.1111111111111111,
              "#46039f"
             ],
             [
              0.2222222222222222,
              "#7201a8"
             ],
             [
              0.3333333333333333,
              "#9c179e"
             ],
             [
              0.4444444444444444,
              "#bd3786"
             ],
             [
              0.5555555555555556,
              "#d8576b"
             ],
             [
              0.6666666666666666,
              "#ed7953"
             ],
             [
              0.7777777777777778,
              "#fb9f3a"
             ],
             [
              0.8888888888888888,
              "#fdca26"
             ],
             [
              1,
              "#f0f921"
             ]
            ],
            "type": "contour"
           }
          ],
          "contourcarpet": [
           {
            "colorbar": {
             "outlinewidth": 0,
             "ticks": ""
            },
            "type": "contourcarpet"
           }
          ],
          "heatmap": [
           {
            "colorbar": {
             "outlinewidth": 0,
             "ticks": ""
            },
            "colorscale": [
             [
              0,
              "#0d0887"
             ],
             [
              0.1111111111111111,
              "#46039f"
             ],
             [
              0.2222222222222222,
              "#7201a8"
             ],
             [
              0.3333333333333333,
              "#9c179e"
             ],
             [
              0.4444444444444444,
              "#bd3786"
             ],
             [
              0.5555555555555556,
              "#d8576b"
             ],
             [
              0.6666666666666666,
              "#ed7953"
             ],
             [
              0.7777777777777778,
              "#fb9f3a"
             ],
             [
              0.8888888888888888,
              "#fdca26"
             ],
             [
              1,
              "#f0f921"
             ]
            ],
            "type": "heatmap"
           }
          ],
          "heatmapgl": [
           {
            "colorbar": {
             "outlinewidth": 0,
             "ticks": ""
            },
            "colorscale": [
             [
              0,
              "#0d0887"
             ],
             [
              0.1111111111111111,
              "#46039f"
             ],
             [
              0.2222222222222222,
              "#7201a8"
             ],
             [
              0.3333333333333333,
              "#9c179e"
             ],
             [
              0.4444444444444444,
              "#bd3786"
             ],
             [
              0.5555555555555556,
              "#d8576b"
             ],
             [
              0.6666666666666666,
              "#ed7953"
             ],
             [
              0.7777777777777778,
              "#fb9f3a"
             ],
             [
              0.8888888888888888,
              "#fdca26"
             ],
             [
              1,
              "#f0f921"
             ]
            ],
            "type": "heatmapgl"
           }
          ],
          "histogram": [
           {
            "marker": {
             "pattern": {
              "fillmode": "overlay",
              "size": 10,
              "solidity": 0.2
             }
            },
            "type": "histogram"
           }
          ],
          "histogram2d": [
           {
            "colorbar": {
             "outlinewidth": 0,
             "ticks": ""
            },
            "colorscale": [
             [
              0,
              "#0d0887"
             ],
             [
              0.1111111111111111,
              "#46039f"
             ],
             [
              0.2222222222222222,
              "#7201a8"
             ],
             [
              0.3333333333333333,
              "#9c179e"
             ],
             [
              0.4444444444444444,
              "#bd3786"
             ],
             [
              0.5555555555555556,
              "#d8576b"
             ],
             [
              0.6666666666666666,
              "#ed7953"
             ],
             [
              0.7777777777777778,
              "#fb9f3a"
             ],
             [
              0.8888888888888888,
              "#fdca26"
             ],
             [
              1,
              "#f0f921"
             ]
            ],
            "type": "histogram2d"
           }
          ],
          "histogram2dcontour": [
           {
            "colorbar": {
             "outlinewidth": 0,
             "ticks": ""
            },
            "colorscale": [
             [
              0,
              "#0d0887"
             ],
             [
              0.1111111111111111,
              "#46039f"
             ],
             [
              0.2222222222222222,
              "#7201a8"
             ],
             [
              0.3333333333333333,
              "#9c179e"
             ],
             [
              0.4444444444444444,
              "#bd3786"
             ],
             [
              0.5555555555555556,
              "#d8576b"
             ],
             [
              0.6666666666666666,
              "#ed7953"
             ],
             [
              0.7777777777777778,
              "#fb9f3a"
             ],
             [
              0.8888888888888888,
              "#fdca26"
             ],
             [
              1,
              "#f0f921"
             ]
            ],
            "type": "histogram2dcontour"
           }
          ],
          "mesh3d": [
           {
            "colorbar": {
             "outlinewidth": 0,
             "ticks": ""
            },
            "type": "mesh3d"
           }
          ],
          "parcoords": [
           {
            "line": {
             "colorbar": {
              "outlinewidth": 0,
              "ticks": ""
             }
            },
            "type": "parcoords"
           }
          ],
          "pie": [
           {
            "automargin": true,
            "type": "pie"
           }
          ],
          "scatter": [
           {
            "fillpattern": {
             "fillmode": "overlay",
             "size": 10,
             "solidity": 0.2
            },
            "type": "scatter"
           }
          ],
          "scatter3d": [
           {
            "line": {
             "colorbar": {
              "outlinewidth": 0,
              "ticks": ""
             }
            },
            "marker": {
             "colorbar": {
              "outlinewidth": 0,
              "ticks": ""
             }
            },
            "type": "scatter3d"
           }
          ],
          "scattercarpet": [
           {
            "marker": {
             "colorbar": {
              "outlinewidth": 0,
              "ticks": ""
             }
            },
            "type": "scattercarpet"
           }
          ],
          "scattergeo": [
           {
            "marker": {
             "colorbar": {
              "outlinewidth": 0,
              "ticks": ""
             }
            },
            "type": "scattergeo"
           }
          ],
          "scattergl": [
           {
            "marker": {
             "colorbar": {
              "outlinewidth": 0,
              "ticks": ""
             }
            },
            "type": "scattergl"
           }
          ],
          "scattermapbox": [
           {
            "marker": {
             "colorbar": {
              "outlinewidth": 0,
              "ticks": ""
             }
            },
            "type": "scattermapbox"
           }
          ],
          "scatterpolar": [
           {
            "marker": {
             "colorbar": {
              "outlinewidth": 0,
              "ticks": ""
             }
            },
            "type": "scatterpolar"
           }
          ],
          "scatterpolargl": [
           {
            "marker": {
             "colorbar": {
              "outlinewidth": 0,
              "ticks": ""
             }
            },
            "type": "scatterpolargl"
           }
          ],
          "scatterternary": [
           {
            "marker": {
             "colorbar": {
              "outlinewidth": 0,
              "ticks": ""
             }
            },
            "type": "scatterternary"
           }
          ],
          "surface": [
           {
            "colorbar": {
             "outlinewidth": 0,
             "ticks": ""
            },
            "colorscale": [
             [
              0,
              "#0d0887"
             ],
             [
              0.1111111111111111,
              "#46039f"
             ],
             [
              0.2222222222222222,
              "#7201a8"
             ],
             [
              0.3333333333333333,
              "#9c179e"
             ],
             [
              0.4444444444444444,
              "#bd3786"
             ],
             [
              0.5555555555555556,
              "#d8576b"
             ],
             [
              0.6666666666666666,
              "#ed7953"
             ],
             [
              0.7777777777777778,
              "#fb9f3a"
             ],
             [
              0.8888888888888888,
              "#fdca26"
             ],
             [
              1,
              "#f0f921"
             ]
            ],
            "type": "surface"
           }
          ],
          "table": [
           {
            "cells": {
             "fill": {
              "color": "#EBF0F8"
             },
             "line": {
              "color": "white"
             }
            },
            "header": {
             "fill": {
              "color": "#C8D4E3"
             },
             "line": {
              "color": "white"
             }
            },
            "type": "table"
           }
          ]
         },
         "layout": {
          "annotationdefaults": {
           "arrowcolor": "#2a3f5f",
           "arrowhead": 0,
           "arrowwidth": 1
          },
          "autotypenumbers": "strict",
          "coloraxis": {
           "colorbar": {
            "outlinewidth": 0,
            "ticks": ""
           }
          },
          "colorscale": {
           "diverging": [
            [
             0,
             "#8e0152"
            ],
            [
             0.1,
             "#c51b7d"
            ],
            [
             0.2,
             "#de77ae"
            ],
            [
             0.3,
             "#f1b6da"
            ],
            [
             0.4,
             "#fde0ef"
            ],
            [
             0.5,
             "#f7f7f7"
            ],
            [
             0.6,
             "#e6f5d0"
            ],
            [
             0.7,
             "#b8e186"
            ],
            [
             0.8,
             "#7fbc41"
            ],
            [
             0.9,
             "#4d9221"
            ],
            [
             1,
             "#276419"
            ]
           ],
           "sequential": [
            [
             0,
             "#0d0887"
            ],
            [
             0.1111111111111111,
             "#46039f"
            ],
            [
             0.2222222222222222,
             "#7201a8"
            ],
            [
             0.3333333333333333,
             "#9c179e"
            ],
            [
             0.4444444444444444,
             "#bd3786"
            ],
            [
             0.5555555555555556,
             "#d8576b"
            ],
            [
             0.6666666666666666,
             "#ed7953"
            ],
            [
             0.7777777777777778,
             "#fb9f3a"
            ],
            [
             0.8888888888888888,
             "#fdca26"
            ],
            [
             1,
             "#f0f921"
            ]
           ],
           "sequentialminus": [
            [
             0,
             "#0d0887"
            ],
            [
             0.1111111111111111,
             "#46039f"
            ],
            [
             0.2222222222222222,
             "#7201a8"
            ],
            [
             0.3333333333333333,
             "#9c179e"
            ],
            [
             0.4444444444444444,
             "#bd3786"
            ],
            [
             0.5555555555555556,
             "#d8576b"
            ],
            [
             0.6666666666666666,
             "#ed7953"
            ],
            [
             0.7777777777777778,
             "#fb9f3a"
            ],
            [
             0.8888888888888888,
             "#fdca26"
            ],
            [
             1,
             "#f0f921"
            ]
           ]
          },
          "colorway": [
           "#636efa",
           "#EF553B",
           "#00cc96",
           "#ab63fa",
           "#FFA15A",
           "#19d3f3",
           "#FF6692",
           "#B6E880",
           "#FF97FF",
           "#FECB52"
          ],
          "font": {
           "color": "#2a3f5f"
          },
          "geo": {
           "bgcolor": "white",
           "lakecolor": "white",
           "landcolor": "white",
           "showlakes": true,
           "showland": true,
           "subunitcolor": "#C8D4E3"
          },
          "hoverlabel": {
           "align": "left"
          },
          "hovermode": "closest",
          "mapbox": {
           "style": "light"
          },
          "paper_bgcolor": "white",
          "plot_bgcolor": "white",
          "polar": {
           "angularaxis": {
            "gridcolor": "#EBF0F8",
            "linecolor": "#EBF0F8",
            "ticks": ""
           },
           "bgcolor": "white",
           "radialaxis": {
            "gridcolor": "#EBF0F8",
            "linecolor": "#EBF0F8",
            "ticks": ""
           }
          },
          "scene": {
           "xaxis": {
            "backgroundcolor": "white",
            "gridcolor": "#DFE8F3",
            "gridwidth": 2,
            "linecolor": "#EBF0F8",
            "showbackground": true,
            "ticks": "",
            "zerolinecolor": "#EBF0F8"
           },
           "yaxis": {
            "backgroundcolor": "white",
            "gridcolor": "#DFE8F3",
            "gridwidth": 2,
            "linecolor": "#EBF0F8",
            "showbackground": true,
            "ticks": "",
            "zerolinecolor": "#EBF0F8"
           },
           "zaxis": {
            "backgroundcolor": "white",
            "gridcolor": "#DFE8F3",
            "gridwidth": 2,
            "linecolor": "#EBF0F8",
            "showbackground": true,
            "ticks": "",
            "zerolinecolor": "#EBF0F8"
           }
          },
          "shapedefaults": {
           "line": {
            "color": "#2a3f5f"
           }
          },
          "ternary": {
           "aaxis": {
            "gridcolor": "#DFE8F3",
            "linecolor": "#A2B1C6",
            "ticks": ""
           },
           "baxis": {
            "gridcolor": "#DFE8F3",
            "linecolor": "#A2B1C6",
            "ticks": ""
           },
           "bgcolor": "white",
           "caxis": {
            "gridcolor": "#DFE8F3",
            "linecolor": "#A2B1C6",
            "ticks": ""
           }
          },
          "title": {
           "x": 0.05
          },
          "xaxis": {
           "automargin": true,
           "gridcolor": "#EBF0F8",
           "linecolor": "#EBF0F8",
           "ticks": "",
           "title": {
            "standoff": 15
           },
           "zerolinecolor": "#EBF0F8",
           "zerolinewidth": 2
          },
          "yaxis": {
           "automargin": true,
           "gridcolor": "#EBF0F8",
           "linecolor": "#EBF0F8",
           "ticks": "",
           "title": {
            "standoff": 15
           },
           "zerolinecolor": "#EBF0F8",
           "zerolinewidth": 2
          }
         }
        },
        "title": {
         "text": "Yearly Waste E O L"
        },
        "xaxis": {
         "anchor": "y",
         "domain": [
          0,
          1
         ],
         "title": {
          "text": "Year"
         }
        },
        "yaxis": {
         "anchor": "x",
         "domain": [
          0,
          1
         ],
         "title": {
          "text": "[Tonnes]"
         }
        }
       }
      },
      "text/html": [
       "<div>                            <div id=\"d4eb8664-8cdc-4eb4-abea-0089d9d8d165\" class=\"plotly-graph-div\" style=\"height:525px; width:100%;\"></div>            <script type=\"text/javascript\">                require([\"plotly\"], function(Plotly) {                    window.PLOTLYENV=window.PLOTLYENV || {};                                    if (document.getElementById(\"d4eb8664-8cdc-4eb4-abea-0089d9d8d165\")) {                    Plotly.newPlot(                        \"d4eb8664-8cdc-4eb4-abea-0089d9d8d165\",                        [{\"hovertemplate\":\"Glass sim1 topcon\",\"legendgroup\":\"WasteEOL_glass_sim1_TOPCon_[Tonnes]\",\"line\":{\"color\":\"#636efa\",\"dash\":\"solid\"},\"marker\":{\"symbol\":\"circle\"},\"mode\":\"lines\",\"name\":\"Glass sim1 topcon\",\"orientation\":\"v\",\"showlegend\":true,\"x\":[2020,2021,2022,2023,2024,2025,2026,2027,2028,2029,2030,2031,2032,2033,2034,2035,2036,2037,2038,2039,2040,2041,2042,2043,2044,2045,2046,2047,2048,2049,2050],\"xaxis\":\"x\",\"y\":[0.0,8.061503516767364e-08,2.939339052319436e-05,0.0009316600925422941,0.010890166905173972,0.07355412024250632,0.3505933903350746,1.312903326489619,4.119799464336816,11.29394534120664,27.830338188368124,62.90682258113503,132.38778903994861,262.3319762047817,493.7295798875037,888.700763334928,1538.3816129458996,2572.694218033327,4172.126940097637,6581.509789388376,10125.512760637344,15225.155529954976,22413.904241189844,32350.832667805276,45826.723410878876,63756.80272906776,87151.09712480276,117050.5305129898,154414.76846497416,199948.2658688424,253856.93057818981],\"yaxis\":\"y\",\"type\":\"scatter\"},{\"hovertemplate\":\"Aluminium frames sim1 topcon\",\"legendgroup\":\"WasteEOL_aluminium_frames_sim1_TOPCon_[Tonnes]\",\"line\":{\"color\":\"#EF553B\",\"dash\":\"solid\"},\"marker\":{\"symbol\":\"circle\"},\"mode\":\"lines\",\"name\":\"Aluminium frames sim1 topcon\",\"orientation\":\"v\",\"showlegend\":true,\"x\":[2020,2021,2022,2023,2024,2025,2026,2027,2028,2029,2030,2031,2032,2033,2034,2035,2036,2037,2038,2039,2040,2041,2042,2043,2044,2045,2046,2047,2048,2049,2050],\"xaxis\":\"x\",\"y\":[0.0,8.633568062991641e-09,3.1473705854750487e-06,9.957628828939679e-05,0.0011599295693758135,0.0078029707777676986,0.03704314073724955,0.13818657646876742,0.432052926541427,1.1804087702847625,2.8994989697655495,6.534412043513249,13.713381112102498,27.103002426711367,50.886731633913314,91.38963810405247,157.87168417657412,263.5086786706951,426.5726891703135,671.8090844495375,1031.9808814364183,1549.50592574805,2278.0394382371965,3283.7422901156615,4645.812378910801,6455.635403199931,8813.63904836644,11822.649415411543,15576.3466037612,20141.48422310091,25533.176678211996],\"yaxis\":\"y\",\"type\":\"scatter\"},{\"hovertemplate\":\"Silver sim1 topcon\",\"legendgroup\":\"WasteEOL_silver_sim1_TOPCon_[Tonnes]\",\"line\":{\"color\":\"#00cc96\",\"dash\":\"solid\"},\"marker\":{\"symbol\":\"circle\"},\"mode\":\"lines\",\"name\":\"Silver sim1 topcon\",\"orientation\":\"v\",\"showlegend\":true,\"x\":[2020,2021,2022,2023,2024,2025,2026,2027,2028,2029,2030,2031,2032,2033,2034,2035,2036,2037,2038,2039,2040,2041,2042,2043,2044,2045,2046,2047,2048,2049,2050],\"xaxis\":\"x\",\"y\":[0.0,3.8990698825597655e-11,1.4214611484523334e-08,4.4989847022102455e-07,5.244195600991172e-06,3.5297385621086066e-05,0.000167603962797909,0.0006251350688948836,0.0019535314459352545,0.00533273712293012,0.013084344745205314,0.029447301353692713,0.06170449188885435,0.12175056540353704,0.2281970390069179,0.40911301803598993,0.7054961966742647,1.175554326320605,1.899843779929945,2.9872457600001954,4.581641397760986,6.868944365478091,10.083822882205455,14.514942257644272,20.5068337012391,28.45551493354482,38.79378770359207,51.960893506288706,68.35035864406952,88.23024436990117,111.63298722162327],\"yaxis\":\"y\",\"type\":\"scatter\"},{\"hovertemplate\":\"Silicon sim1 topcon\",\"legendgroup\":\"WasteEOL_silicon_sim1_TOPCon_[Tonnes]\",\"line\":{\"color\":\"#ab63fa\",\"dash\":\"solid\"},\"marker\":{\"symbol\":\"circle\"},\"mode\":\"lines\",\"name\":\"Silicon sim1 topcon\",\"orientation\":\"v\",\"showlegend\":true,\"x\":[2020,2021,2022,2023,2024,2025,2026,2027,2028,2029,2030,2031,2032,2033,2034,2035,2036,2037,2038,2039,2040,2041,2042,2043,2044,2045,2046,2047,2048,2049,2050],\"xaxis\":\"x\",\"y\":[0.0,2.582216457011674e-09,9.414611941610683e-07,2.9823548005180357e-05,0.00034822366047040476,0.0023488277770777398,0.011179538850093625,0.04180211333211019,0.1309657463580144,0.3584389977248259,0.8817624428588081,1.9896557805984767,4.17993665729986,8.268384340053021,15.53540418207356,27.91754049909557,48.25067015446543,80.57075960655217,130.47582051054422,205.54823456681086,315.82851727430386,474.3177789603489,697.4637959583424,1005.5512450951375,1422.8666885585847,1977.441053246567,2700.088656959093,3622.373914038519,4773.074011456736,6172.725093591877,7826.03320255081],\"yaxis\":\"y\",\"type\":\"scatter\"},{\"hovertemplate\":\"Copper sim1 topcon\",\"legendgroup\":\"WasteEOL_copper_sim1_TOPCon_[Tonnes]\",\"line\":{\"color\":\"#FFA15A\",\"dash\":\"solid\"},\"marker\":{\"symbol\":\"circle\"},\"mode\":\"lines\",\"name\":\"Copper sim1 topcon\",\"orientation\":\"v\",\"showlegend\":true,\"x\":[2020,2021,2022,2023,2024,2025,2026,2027,2028,2029,2030,2031,2032,2033,2034,2035,2036,2037,2038,2039,2040,2041,2042,2043,2044,2045,2046,2047,2048,2049,2050],\"xaxis\":\"x\",\"y\":[0.0,5.421759905674266e-11,1.9768863713355037e-08,6.267169837503984e-07,7.32835184746594e-06,4.951936417031298e-05,0.00023615072774696614,0.000884813135176347,0.0027780432288109676,0.007619991188406406,0.018787253305232458,0.04248725666525959,0.0894538320287395,0.1773225699845547,0.333838167407682,0.6010505898112046,1.0406527368617438,1.7405923668612826,2.8230431482590803,4.453723994289325,6.852381508285399,10.30395231587005,15.16943861563949,21.89478498086079,31.01495738532777,43.14894366938749,58.979555880409315,79.20996125679882,104.48742189168642,135.2850041099205,171.73602076831028],\"yaxis\":\"y\",\"type\":\"scatter\"},{\"hovertemplate\":\"Encapsulant sim1 topcon\",\"legendgroup\":\"WasteEOL_encapsulant_sim1_TOPCon_[Tonnes]\",\"line\":{\"color\":\"#19d3f3\",\"dash\":\"solid\"},\"marker\":{\"symbol\":\"circle\"},\"mode\":\"lines\",\"name\":\"Encapsulant sim1 topcon\",\"orientation\":\"v\",\"showlegend\":true,\"x\":[2020,2021,2022,2023,2024,2025,2026,2027,2028,2029,2030,2031,2032,2033,2034,2035,2036,2037,2038,2039,2040,2041,2042,2043,2044,2045,2046,2047,2048,2049,2050],\"xaxis\":\"x\",\"y\":[0.0,5.599185490433733e-09,2.04122835831806e-06,6.459448652811018e-05,0.0007527155597727086,0.005065113085677745,0.02404949695509046,0.0897182087339115,0.28049570091728565,0.7662270186986868,1.8816739946062726,4.239215170460825,8.892951157765324,17.567599359719043,32.96642396057715,59.172820400890046,102.1596834030631,170.41863899591127,275.7164187530689,433.97615505675344,666.2641807660184,999.8336542235287,1469.1290633269678,2116.5831011785504,2992.9320843036166,4156.633425248799,5671.793320873123,7603.8298686701355,10011.968897841132,12937.718048049888,16388.884392447926],\"yaxis\":\"y\",\"type\":\"scatter\"},{\"hovertemplate\":\"Backsheet sim1 topcon\",\"legendgroup\":\"WasteEOL_backsheet_sim1_TOPCon_[Tonnes]\",\"line\":{\"color\":\"#FF6692\",\"dash\":\"solid\"},\"marker\":{\"symbol\":\"circle\"},\"mode\":\"lines\",\"name\":\"Backsheet sim1 topcon\",\"orientation\":\"v\",\"showlegend\":true,\"x\":[2020,2021,2022,2023,2024,2025,2026,2027,2028,2029,2030,2031,2032,2033,2034,2035,2036,2037,2038,2039,2040,2041,2042,2043,2044,2045,2046,2047,2048,2049,2050],\"xaxis\":\"x\",\"y\":[0.0,2.8510749700059166e-09,1.0393548692446384e-06,3.288114215159938e-05,0.00038297159824214003,0.002575745283667269,0.012224200890380819,0.045584103552531785,0.14245950602707508,0.38902094212646615,0.9550678997223486,2.151184961649855,4.512002635776448,8.912379461082224,16.723764000327154,30.01818875753889,51.827102844621386,86.46121365419827,139.89507309537163,220.21532411763064,338.1227950273543,507.4637717521962,745.7417740743413,1074.524304608212,1519.605528383174,2110.7133349231017,2880.4600620079896,3862.1430071900445,5085.935421702292,6573.032328860394,8327.52718089414],\"yaxis\":\"y\",\"type\":\"scatter\"},{\"hovertemplate\":\"Module sim1 topcon\",\"legendgroup\":\"WasteEOL_Module_sim1_TOPCon_[Tonnes]\",\"line\":{\"color\":\"#B6E880\",\"dash\":\"solid\"},\"marker\":{\"symbol\":\"circle\"},\"mode\":\"lines\",\"name\":\"Module sim1 topcon\",\"orientation\":\"v\",\"showlegend\":true,\"x\":[2020,2021,2022,2023,2024,2025,2026,2027,2028,2029,2030,2031,2032,2033,2034,2035,2036,2037,2038,2039,2040,2041,2042,2043,2044,2045,2046,2047,2048,2049,2050],\"xaxis\":\"x\",\"y\":[0.0,1.0037428844599893e-07,3.659678900559105e-05,0.0011596121729705521,0.013546579840483497,0.09143159391648817,0.43549352245843387,1.6297042767810108,5.110504918855365,14.000993798352718,34.48021309337153,77.8932250953764,163.83721892681035,324.4824149277354,610.4039388708094,1098.2091147043518,1900.2369024581596,3176.569655653866,5149.509828555124,8120.499557333398,12489.143158047485,18773.44955732045,27629.53157428454,39867.64333604134,56459.46188212162,78528.83040428908,107314.85155659344,144092.69757306314,190034.93118027126,245996.74081092532,312215.9210402846],\"yaxis\":\"y\",\"type\":\"scatter\"}],                        {\"template\":{\"data\":{\"barpolar\":[{\"marker\":{\"line\":{\"color\":\"white\",\"width\":0.5},\"pattern\":{\"fillmode\":\"overlay\",\"size\":10,\"solidity\":0.2}},\"type\":\"barpolar\"}],\"bar\":[{\"error_x\":{\"color\":\"#2a3f5f\"},\"error_y\":{\"color\":\"#2a3f5f\"},\"marker\":{\"line\":{\"color\":\"white\",\"width\":0.5},\"pattern\":{\"fillmode\":\"overlay\",\"size\":10,\"solidity\":0.2}},\"type\":\"bar\"}],\"carpet\":[{\"aaxis\":{\"endlinecolor\":\"#2a3f5f\",\"gridcolor\":\"#C8D4E3\",\"linecolor\":\"#C8D4E3\",\"minorgridcolor\":\"#C8D4E3\",\"startlinecolor\":\"#2a3f5f\"},\"baxis\":{\"endlinecolor\":\"#2a3f5f\",\"gridcolor\":\"#C8D4E3\",\"linecolor\":\"#C8D4E3\",\"minorgridcolor\":\"#C8D4E3\",\"startlinecolor\":\"#2a3f5f\"},\"type\":\"carpet\"}],\"choropleth\":[{\"colorbar\":{\"outlinewidth\":0,\"ticks\":\"\"},\"type\":\"choropleth\"}],\"contourcarpet\":[{\"colorbar\":{\"outlinewidth\":0,\"ticks\":\"\"},\"type\":\"contourcarpet\"}],\"contour\":[{\"colorbar\":{\"outlinewidth\":0,\"ticks\":\"\"},\"colorscale\":[[0.0,\"#0d0887\"],[0.1111111111111111,\"#46039f\"],[0.2222222222222222,\"#7201a8\"],[0.3333333333333333,\"#9c179e\"],[0.4444444444444444,\"#bd3786\"],[0.5555555555555556,\"#d8576b\"],[0.6666666666666666,\"#ed7953\"],[0.7777777777777778,\"#fb9f3a\"],[0.8888888888888888,\"#fdca26\"],[1.0,\"#f0f921\"]],\"type\":\"contour\"}],\"heatmapgl\":[{\"colorbar\":{\"outlinewidth\":0,\"ticks\":\"\"},\"colorscale\":[[0.0,\"#0d0887\"],[0.1111111111111111,\"#46039f\"],[0.2222222222222222,\"#7201a8\"],[0.3333333333333333,\"#9c179e\"],[0.4444444444444444,\"#bd3786\"],[0.5555555555555556,\"#d8576b\"],[0.6666666666666666,\"#ed7953\"],[0.7777777777777778,\"#fb9f3a\"],[0.8888888888888888,\"#fdca26\"],[1.0,\"#f0f921\"]],\"type\":\"heatmapgl\"}],\"heatmap\":[{\"colorbar\":{\"outlinewidth\":0,\"ticks\":\"\"},\"colorscale\":[[0.0,\"#0d0887\"],[0.1111111111111111,\"#46039f\"],[0.2222222222222222,\"#7201a8\"],[0.3333333333333333,\"#9c179e\"],[0.4444444444444444,\"#bd3786\"],[0.5555555555555556,\"#d8576b\"],[0.6666666666666666,\"#ed7953\"],[0.7777777777777778,\"#fb9f3a\"],[0.8888888888888888,\"#fdca26\"],[1.0,\"#f0f921\"]],\"type\":\"heatmap\"}],\"histogram2dcontour\":[{\"colorbar\":{\"outlinewidth\":0,\"ticks\":\"\"},\"colorscale\":[[0.0,\"#0d0887\"],[0.1111111111111111,\"#46039f\"],[0.2222222222222222,\"#7201a8\"],[0.3333333333333333,\"#9c179e\"],[0.4444444444444444,\"#bd3786\"],[0.5555555555555556,\"#d8576b\"],[0.6666666666666666,\"#ed7953\"],[0.7777777777777778,\"#fb9f3a\"],[0.8888888888888888,\"#fdca26\"],[1.0,\"#f0f921\"]],\"type\":\"histogram2dcontour\"}],\"histogram2d\":[{\"colorbar\":{\"outlinewidth\":0,\"ticks\":\"\"},\"colorscale\":[[0.0,\"#0d0887\"],[0.1111111111111111,\"#46039f\"],[0.2222222222222222,\"#7201a8\"],[0.3333333333333333,\"#9c179e\"],[0.4444444444444444,\"#bd3786\"],[0.5555555555555556,\"#d8576b\"],[0.6666666666666666,\"#ed7953\"],[0.7777777777777778,\"#fb9f3a\"],[0.8888888888888888,\"#fdca26\"],[1.0,\"#f0f921\"]],\"type\":\"histogram2d\"}],\"histogram\":[{\"marker\":{\"pattern\":{\"fillmode\":\"overlay\",\"size\":10,\"solidity\":0.2}},\"type\":\"histogram\"}],\"mesh3d\":[{\"colorbar\":{\"outlinewidth\":0,\"ticks\":\"\"},\"type\":\"mesh3d\"}],\"parcoords\":[{\"line\":{\"colorbar\":{\"outlinewidth\":0,\"ticks\":\"\"}},\"type\":\"parcoords\"}],\"pie\":[{\"automargin\":true,\"type\":\"pie\"}],\"scatter3d\":[{\"line\":{\"colorbar\":{\"outlinewidth\":0,\"ticks\":\"\"}},\"marker\":{\"colorbar\":{\"outlinewidth\":0,\"ticks\":\"\"}},\"type\":\"scatter3d\"}],\"scattercarpet\":[{\"marker\":{\"colorbar\":{\"outlinewidth\":0,\"ticks\":\"\"}},\"type\":\"scattercarpet\"}],\"scattergeo\":[{\"marker\":{\"colorbar\":{\"outlinewidth\":0,\"ticks\":\"\"}},\"type\":\"scattergeo\"}],\"scattergl\":[{\"marker\":{\"colorbar\":{\"outlinewidth\":0,\"ticks\":\"\"}},\"type\":\"scattergl\"}],\"scattermapbox\":[{\"marker\":{\"colorbar\":{\"outlinewidth\":0,\"ticks\":\"\"}},\"type\":\"scattermapbox\"}],\"scatterpolargl\":[{\"marker\":{\"colorbar\":{\"outlinewidth\":0,\"ticks\":\"\"}},\"type\":\"scatterpolargl\"}],\"scatterpolar\":[{\"marker\":{\"colorbar\":{\"outlinewidth\":0,\"ticks\":\"\"}},\"type\":\"scatterpolar\"}],\"scatter\":[{\"fillpattern\":{\"fillmode\":\"overlay\",\"size\":10,\"solidity\":0.2},\"type\":\"scatter\"}],\"scatterternary\":[{\"marker\":{\"colorbar\":{\"outlinewidth\":0,\"ticks\":\"\"}},\"type\":\"scatterternary\"}],\"surface\":[{\"colorbar\":{\"outlinewidth\":0,\"ticks\":\"\"},\"colorscale\":[[0.0,\"#0d0887\"],[0.1111111111111111,\"#46039f\"],[0.2222222222222222,\"#7201a8\"],[0.3333333333333333,\"#9c179e\"],[0.4444444444444444,\"#bd3786\"],[0.5555555555555556,\"#d8576b\"],[0.6666666666666666,\"#ed7953\"],[0.7777777777777778,\"#fb9f3a\"],[0.8888888888888888,\"#fdca26\"],[1.0,\"#f0f921\"]],\"type\":\"surface\"}],\"table\":[{\"cells\":{\"fill\":{\"color\":\"#EBF0F8\"},\"line\":{\"color\":\"white\"}},\"header\":{\"fill\":{\"color\":\"#C8D4E3\"},\"line\":{\"color\":\"white\"}},\"type\":\"table\"}]},\"layout\":{\"annotationdefaults\":{\"arrowcolor\":\"#2a3f5f\",\"arrowhead\":0,\"arrowwidth\":1},\"autotypenumbers\":\"strict\",\"coloraxis\":{\"colorbar\":{\"outlinewidth\":0,\"ticks\":\"\"}},\"colorscale\":{\"diverging\":[[0,\"#8e0152\"],[0.1,\"#c51b7d\"],[0.2,\"#de77ae\"],[0.3,\"#f1b6da\"],[0.4,\"#fde0ef\"],[0.5,\"#f7f7f7\"],[0.6,\"#e6f5d0\"],[0.7,\"#b8e186\"],[0.8,\"#7fbc41\"],[0.9,\"#4d9221\"],[1,\"#276419\"]],\"sequential\":[[0.0,\"#0d0887\"],[0.1111111111111111,\"#46039f\"],[0.2222222222222222,\"#7201a8\"],[0.3333333333333333,\"#9c179e\"],[0.4444444444444444,\"#bd3786\"],[0.5555555555555556,\"#d8576b\"],[0.6666666666666666,\"#ed7953\"],[0.7777777777777778,\"#fb9f3a\"],[0.8888888888888888,\"#fdca26\"],[1.0,\"#f0f921\"]],\"sequentialminus\":[[0.0,\"#0d0887\"],[0.1111111111111111,\"#46039f\"],[0.2222222222222222,\"#7201a8\"],[0.3333333333333333,\"#9c179e\"],[0.4444444444444444,\"#bd3786\"],[0.5555555555555556,\"#d8576b\"],[0.6666666666666666,\"#ed7953\"],[0.7777777777777778,\"#fb9f3a\"],[0.8888888888888888,\"#fdca26\"],[1.0,\"#f0f921\"]]},\"colorway\":[\"#636efa\",\"#EF553B\",\"#00cc96\",\"#ab63fa\",\"#FFA15A\",\"#19d3f3\",\"#FF6692\",\"#B6E880\",\"#FF97FF\",\"#FECB52\"],\"font\":{\"color\":\"#2a3f5f\"},\"geo\":{\"bgcolor\":\"white\",\"lakecolor\":\"white\",\"landcolor\":\"white\",\"showlakes\":true,\"showland\":true,\"subunitcolor\":\"#C8D4E3\"},\"hoverlabel\":{\"align\":\"left\"},\"hovermode\":\"closest\",\"mapbox\":{\"style\":\"light\"},\"paper_bgcolor\":\"white\",\"plot_bgcolor\":\"white\",\"polar\":{\"angularaxis\":{\"gridcolor\":\"#EBF0F8\",\"linecolor\":\"#EBF0F8\",\"ticks\":\"\"},\"bgcolor\":\"white\",\"radialaxis\":{\"gridcolor\":\"#EBF0F8\",\"linecolor\":\"#EBF0F8\",\"ticks\":\"\"}},\"scene\":{\"xaxis\":{\"backgroundcolor\":\"white\",\"gridcolor\":\"#DFE8F3\",\"gridwidth\":2,\"linecolor\":\"#EBF0F8\",\"showbackground\":true,\"ticks\":\"\",\"zerolinecolor\":\"#EBF0F8\"},\"yaxis\":{\"backgroundcolor\":\"white\",\"gridcolor\":\"#DFE8F3\",\"gridwidth\":2,\"linecolor\":\"#EBF0F8\",\"showbackground\":true,\"ticks\":\"\",\"zerolinecolor\":\"#EBF0F8\"},\"zaxis\":{\"backgroundcolor\":\"white\",\"gridcolor\":\"#DFE8F3\",\"gridwidth\":2,\"linecolor\":\"#EBF0F8\",\"showbackground\":true,\"ticks\":\"\",\"zerolinecolor\":\"#EBF0F8\"}},\"shapedefaults\":{\"line\":{\"color\":\"#2a3f5f\"}},\"ternary\":{\"aaxis\":{\"gridcolor\":\"#DFE8F3\",\"linecolor\":\"#A2B1C6\",\"ticks\":\"\"},\"baxis\":{\"gridcolor\":\"#DFE8F3\",\"linecolor\":\"#A2B1C6\",\"ticks\":\"\"},\"bgcolor\":\"white\",\"caxis\":{\"gridcolor\":\"#DFE8F3\",\"linecolor\":\"#A2B1C6\",\"ticks\":\"\"}},\"title\":{\"x\":0.05},\"xaxis\":{\"automargin\":true,\"gridcolor\":\"#EBF0F8\",\"linecolor\":\"#EBF0F8\",\"ticks\":\"\",\"title\":{\"standoff\":15},\"zerolinecolor\":\"#EBF0F8\",\"zerolinewidth\":2},\"yaxis\":{\"automargin\":true,\"gridcolor\":\"#EBF0F8\",\"linecolor\":\"#EBF0F8\",\"ticks\":\"\",\"title\":{\"standoff\":15},\"zerolinecolor\":\"#EBF0F8\",\"zerolinewidth\":2}}},\"xaxis\":{\"anchor\":\"y\",\"domain\":[0.0,1.0],\"title\":{\"text\":\"Year\"}},\"yaxis\":{\"anchor\":\"x\",\"domain\":[0.0,1.0],\"title\":{\"text\":\"[Tonnes]\"}},\"legend\":{\"title\":{\"text\":\"variable\"},\"tracegroupgap\":0},\"margin\":{\"t\":60},\"title\":{\"text\":\"Yearly Waste E O L\"}},                        {\"responsive\": true}                    ).then(function(){\n",
       "                            \n",
       "var gd = document.getElementById('d4eb8664-8cdc-4eb4-abea-0089d9d8d165');\n",
       "var x = new MutationObserver(function (mutations, observer) {{\n",
       "        var display = window.getComputedStyle(gd).display;\n",
       "        if (!display || display === 'none') {{\n",
       "            console.log([gd, 'removed!']);\n",
       "            Plotly.purge(gd);\n",
       "            observer.disconnect();\n",
       "        }}\n",
       "}});\n",
       "\n",
       "// Listen for the removal of the full notebook cells\n",
       "var notebookContainer = gd.closest('#notebook-container');\n",
       "if (notebookContainer) {{\n",
       "    x.observe(notebookContainer, {childList: true});\n",
       "}}\n",
       "\n",
       "// Listen for the clearing of the current output cell\n",
       "var outputEl = gd.closest('.output');\n",
       "if (outputEl) {{\n",
       "    x.observe(outputEl, {childList: true});\n",
       "}}\n",
       "\n",
       "                        })                };                });            </script>        </div>"
      ]
     },
     "metadata": {},
     "output_type": "display_data"
    },
    {
     "data": {
      "application/vnd.plotly.v1+json": {
       "config": {
        "plotlyServerURL": "https://plot.ly"
       },
       "data": [
        {
         "hovertemplate": "Glass sim1 topcon",
         "legendgroup": "WasteMFG_glass_sim1_TOPCon_[Tonnes]",
         "line": {
          "color": "#636efa",
          "dash": "solid"
         },
         "marker": {
          "symbol": "circle"
         },
         "mode": "lines",
         "name": "Glass sim1 topcon",
         "orientation": "v",
         "showlegend": true,
         "type": "scatter",
         "x": [
          2020,
          2021,
          2022,
          2023,
          2024,
          2025,
          2026,
          2027,
          2028,
          2029,
          2030,
          2031,
          2032,
          2033,
          2034,
          2035,
          2036,
          2037,
          2038,
          2039,
          2040,
          2041,
          2042,
          2043,
          2044,
          2045,
          2046,
          2047,
          2048,
          2049,
          2050
         ],
         "xaxis": "x",
         "y": [
          55957.16594964563,
          63281.01950648584,
          54726.62236942761,
          54814.16092278979,
          51950.51768537158,
          50471.733475992434,
          46411.23863977295,
          47283.46552364282,
          44338.33192559082,
          45297.98966566675,
          42111.258170804686,
          50059.74753554077,
          50059.74753554077,
          72570.27617406103,
          72570.27617406103,
          81624.96022622315,
          81624.96022622315,
          85229.10919264454,
          85229.10919264454,
          93869.50767329345,
          93869.50767329345,
          95330.31920671191,
          95330.31920671191,
          105436.13749942773,
          105436.13749942773,
          111703.19874529493,
          111703.19874529493,
          115463.97449542675,
          115463.97449542675,
          124321.51557391798,
          124321.51557391798
         ],
         "yaxis": "y"
        },
        {
         "hovertemplate": "Aluminium frames sim1 topcon",
         "legendgroup": "WasteMFG_aluminium_frames_sim1_TOPCon_[Tonnes]",
         "line": {
          "color": "#EF553B",
          "dash": "solid"
         },
         "marker": {
          "symbol": "circle"
         },
         "mode": "lines",
         "name": "Aluminium frames sim1 topcon",
         "orientation": "v",
         "showlegend": true,
         "type": "scatter",
         "x": [
          2020,
          2021,
          2022,
          2023,
          2024,
          2025,
          2026,
          2027,
          2028,
          2029,
          2030,
          2031,
          2032,
          2033,
          2034,
          2035,
          2036,
          2037,
          2038,
          2039,
          2040,
          2041,
          2042,
          2043,
          2044,
          2045,
          2046,
          2047,
          2048,
          2049,
          2050
         ],
         "xaxis": "x",
         "y": [
          3280.189686514633,
          3728.7004635854796,
          3305.442079754181,
          3475.026584658371,
          3408.773500412628,
          3434.1497692025146,
          3381.637570389023,
          3607.6898258059996,
          3552.453214664612,
          3945.048614861023,
          3884.54062588707,
          4579.583493134826,
          4579.583493134826,
          6638.899619360138,
          6638.899619360138,
          7467.243421761322,
          7467.243421761322,
          7796.959449627899,
          7796.959449627899,
          8587.403433149719,
          8587.403433149719,
          8721.041909457825,
          8721.041909457825,
          9645.54594546167,
          9645.54594546167,
          10218.871454378113,
          10218.871454378113,
          10562.916068955079,
          10562.916068955079,
          11373.22476825525,
          11373.22476825525
         ],
         "yaxis": "y"
        },
        {
         "hovertemplate": "Silver sim1 topcon",
         "legendgroup": "WasteMFG_silver_sim1_TOPCon_[Tonnes]",
         "line": {
          "color": "#00cc96",
          "dash": "solid"
         },
         "marker": {
          "symbol": "circle"
         },
         "mode": "lines",
         "name": "Silver sim1 topcon",
         "orientation": "v",
         "showlegend": true,
         "type": "scatter",
         "x": [
          2020,
          2021,
          2022,
          2023,
          2024,
          2025,
          2026,
          2027,
          2028,
          2029,
          2030,
          2031,
          2032,
          2033,
          2034,
          2035,
          2036,
          2037,
          2038,
          2039,
          2040,
          2041,
          2042,
          2043,
          2044,
          2045,
          2046,
          2047,
          2048,
          2049,
          2050
         ],
         "xaxis": "x",
         "y": [
          129.52925746388746,
          149.02450428563975,
          128.5231207649286,
          131.2164765766931,
          124.01898013943995,
          120.09884265953964,
          112.92463047686475,
          114.68688066931081,
          107.14045991469807,
          112.44515107162673,
          104.17855470011341,
          122.66898845442009,
          121.49574626941497,
          174.42831378965568,
          172.72749599539029,
          192.36589057903612,
          190.45285962300144,
          196.86480213998342,
          194.8673013290931,
          212.42264985743296,
          210.22264542852997,
          211.25992092914308,
          209.0256796972251,
          228.7130759780084,
          226.2419863215834,
          237.07170555007087,
          234.4537357955301,
          239.64111393374085,
          236.93500348781384,
          252.19719918199968,
          249.28349598220765
         ],
         "yaxis": "y"
        },
        {
         "hovertemplate": "Silicon sim1 topcon",
         "legendgroup": "WasteMFG_silicon_sim1_TOPCon_[Tonnes]",
         "line": {
          "color": "#ab63fa",
          "dash": "solid"
         },
         "marker": {
          "symbol": "circle"
         },
         "mode": "lines",
         "name": "Silicon sim1 topcon",
         "orientation": "v",
         "showlegend": true,
         "type": "scatter",
         "x": [
          2020,
          2021,
          2022,
          2023,
          2024,
          2025,
          2026,
          2027,
          2028,
          2029,
          2030,
          2031,
          2032,
          2033,
          2034,
          2035,
          2036,
          2037,
          2038,
          2039,
          2040,
          2041,
          2042,
          2043,
          2044,
          2045,
          2046,
          2047,
          2048,
          2049,
          2050
         ],
         "xaxis": "x",
         "y": [
          16637.909343534047,
          20110.308569046654,
          18377.030968927877,
          18061.31845765843,
          16147.714196484252,
          15773.330106113095,
          15080.193878509579,
          15722.265548428002,
          15040.049611116268,
          16216.45031333841,
          15638.808045018952,
          18461.527530313873,
          18461.527530313873,
          26763.182345630707,
          26763.182345630707,
          30102.458053895112,
          30102.458053895112,
          31431.63166428346,
          31431.63166428346,
          34618.123052601804,
          34618.123052601804,
          35156.85554064823,
          35156.85554064823,
          38883.77890347302,
          38883.77890347302,
          41195.00757362572,
          41195.00757362572,
          42581.94355441749,
          42581.94355441749,
          45848.514932056794,
          45848.514932056794
         ],
         "yaxis": "y"
        },
        {
         "hovertemplate": "Copper sim1 topcon",
         "legendgroup": "WasteMFG_copper_sim1_TOPCon_[Tonnes]",
         "line": {
          "color": "#FFA15A",
          "dash": "solid"
         },
         "marker": {
          "symbol": "circle"
         },
         "mode": "lines",
         "name": "Copper sim1 topcon",
         "orientation": "v",
         "showlegend": true,
         "type": "scatter",
         "x": [
          2020,
          2021,
          2022,
          2023,
          2024,
          2025,
          2026,
          2027,
          2028,
          2029,
          2030,
          2031,
          2032,
          2033,
          2034,
          2035,
          2036,
          2037,
          2038,
          2039,
          2040,
          2041,
          2042,
          2043,
          2044,
          2045,
          2046,
          2047,
          2048,
          2049,
          2050
         ],
         "xaxis": "x",
         "y": [
          87.46269841648245,
          105.57917809236932,
          95.71468196271955,
          103.26297064659751,
          103.36185609143233,
          102.09674204420054,
          98.0898809938004,
          101.99564201253592,
          97.62318804583454,
          105.23928045214844,
          100.44955121887637,
          119.40937869107616,
          119.40937869107616,
          173.104580346359,
          173.104580346359,
          194.703055171767,
          194.703055171767,
          203.30016582409166,
          203.30016582409166,
          223.91042985878636,
          223.91042985878636,
          227.39495797124576,
          227.39495797124576,
          251.50074241694952,
          251.50074241694952,
          266.4497968255174,
          266.4497968255174,
          275.42051517364433,
          275.42051517364433,
          296.5487375275898,
          296.5487375275898
         ],
         "yaxis": "y"
        },
        {
         "hovertemplate": "Encapsulant sim1 topcon",
         "legendgroup": "WasteMFG_encapsulant_sim1_TOPCon_[Tonnes]",
         "line": {
          "color": "#19d3f3",
          "dash": "solid"
         },
         "marker": {
          "symbol": "circle"
         },
         "mode": "lines",
         "name": "Encapsulant sim1 topcon",
         "orientation": "v",
         "showlegend": true,
         "type": "scatter",
         "x": [
          2020,
          2021,
          2022,
          2023,
          2024,
          2025,
          2026,
          2027,
          2028,
          2029,
          2030,
          2031,
          2032,
          2033,
          2034,
          2035,
          2036,
          2037,
          2038,
          2039,
          2040,
          2041,
          2042,
          2043,
          2044,
          2045,
          2046,
          2047,
          2048,
          2049,
          2050
         ],
         "xaxis": "x",
         "y": [
          2073.7147523957137,
          2373.228967201828,
          2068.53865806012,
          2200.234083256287,
          2121.1408733493654,
          2060.499788388031,
          1964.7857566718596,
          2076.9589374774473,
          2025.584124960373,
          2274.2024921822053,
          2263.029816847748,
          2696.359504350418,
          2696.359504350418,
          3908.8402065220644,
          3908.8402065220644,
          4396.551084120942,
          4396.551084120942,
          4590.680735170563,
          4590.680735170563,
          5056.077020841644,
          5056.077020841644,
          5134.760459254913,
          5134.760459254913,
          5679.088398253326,
          5679.088398253326,
          6016.650031832184,
          6016.650031832184,
          6219.216044183716,
          6219.216044183716,
          6696.308243963684,
          6696.308243963684
         ],
         "yaxis": "y"
        },
        {
         "hovertemplate": "Backsheet sim1 topcon",
         "legendgroup": "WasteMFG_backsheet_sim1_TOPCon_[Tonnes]",
         "line": {
          "color": "#FF6692",
          "dash": "solid"
         },
         "marker": {
          "symbol": "circle"
         },
         "mode": "lines",
         "name": "Backsheet sim1 topcon",
         "orientation": "v",
         "showlegend": true,
         "type": "scatter",
         "x": [
          2020,
          2021,
          2022,
          2023,
          2024,
          2025,
          2026,
          2027,
          2028,
          2029,
          2030,
          2031,
          2032,
          2033,
          2034,
          2035,
          2036,
          2037,
          2038,
          2039,
          2040,
          2041,
          2042,
          2043,
          2044,
          2045,
          2046,
          2047,
          2048,
          2049,
          2050
         ],
         "xaxis": "x",
         "y": [
          1973.895906117302,
          2239.904329054443,
          1968.1131719991836,
          2049.509595600716,
          2005.670511092987,
          2018.1459441313248,
          1922.6901257502213,
          1974.9806490922851,
          1868.9268674696884,
          1979.7242069478455,
          1857.1468317294082,
          2079.196278644562,
          2079.196278644562,
          3014.1551963319703,
          3014.1551963319703,
          3390.2351070864256,
          3390.2351070864256,
          3539.9308903770598,
          3539.9308903770598,
          3898.8037423469696,
          3898.8037423469696,
          3959.4775182569883,
          3959.4775182569883,
          4379.215547737747,
          4379.215547737747,
          4639.513512908142,
          4639.513512908142,
          4795.714679103394,
          4795.714679103394,
          5163.606395602035,
          5163.606395602035
         ],
         "yaxis": "y"
        },
        {
         "hovertemplate": "Module sim1 topcon",
         "legendgroup": "WasteMFG_Module_sim1_TOPCon_[Tonnes]",
         "line": {
          "color": "#B6E880",
          "dash": "solid"
         },
         "marker": {
          "symbol": "circle"
         },
         "mode": "lines",
         "name": "Module sim1 topcon",
         "orientation": "v",
         "showlegend": true,
         "type": "scatter",
         "x": [
          2020,
          2021,
          2022,
          2023,
          2024,
          2025,
          2026,
          2027,
          2028,
          2029,
          2030,
          2031,
          2032,
          2033,
          2034,
          2035,
          2036,
          2037,
          2038,
          2039,
          2040,
          2041,
          2042,
          2043,
          2044,
          2045,
          2046,
          2047,
          2048,
          2049,
          2050
         ],
         "xaxis": "x",
         "y": [
          80139.86759408771,
          91987.76551775225,
          80669.98505089663,
          80834.72909118689,
          75861.19760294168,
          73980.05466853113,
          68971.5604825643,
          70882.0430071284,
          67030.1093917623,
          69931.09972452,
          65959.41159620686,
          78118.49270912995,
          78117.31946694493,
          113242.88643604192,
          113241.18561824766,
          127368.51683883775,
          127366.60380788171,
          132988.4769000676,
          132986.4793992567,
          146466.24800194983,
          146464.04799752095,
          148741.10951323024,
          148738.87527199835,
          164503.98011274848,
          164501.50902309205,
          174276.76282041467,
          174274.14485066014,
          180138.82647119384,
          180136.12036074788,
          193951.91585050532,
          193949.00214730555
         ],
         "yaxis": "y"
        }
       ],
       "layout": {
        "legend": {
         "title": {
          "text": "variable"
         },
         "tracegroupgap": 0
        },
        "margin": {
         "t": 60
        },
        "template": {
         "data": {
          "bar": [
           {
            "error_x": {
             "color": "#2a3f5f"
            },
            "error_y": {
             "color": "#2a3f5f"
            },
            "marker": {
             "line": {
              "color": "white",
              "width": 0.5
             },
             "pattern": {
              "fillmode": "overlay",
              "size": 10,
              "solidity": 0.2
             }
            },
            "type": "bar"
           }
          ],
          "barpolar": [
           {
            "marker": {
             "line": {
              "color": "white",
              "width": 0.5
             },
             "pattern": {
              "fillmode": "overlay",
              "size": 10,
              "solidity": 0.2
             }
            },
            "type": "barpolar"
           }
          ],
          "carpet": [
           {
            "aaxis": {
             "endlinecolor": "#2a3f5f",
             "gridcolor": "#C8D4E3",
             "linecolor": "#C8D4E3",
             "minorgridcolor": "#C8D4E3",
             "startlinecolor": "#2a3f5f"
            },
            "baxis": {
             "endlinecolor": "#2a3f5f",
             "gridcolor": "#C8D4E3",
             "linecolor": "#C8D4E3",
             "minorgridcolor": "#C8D4E3",
             "startlinecolor": "#2a3f5f"
            },
            "type": "carpet"
           }
          ],
          "choropleth": [
           {
            "colorbar": {
             "outlinewidth": 0,
             "ticks": ""
            },
            "type": "choropleth"
           }
          ],
          "contour": [
           {
            "colorbar": {
             "outlinewidth": 0,
             "ticks": ""
            },
            "colorscale": [
             [
              0,
              "#0d0887"
             ],
             [
              0.1111111111111111,
              "#46039f"
             ],
             [
              0.2222222222222222,
              "#7201a8"
             ],
             [
              0.3333333333333333,
              "#9c179e"
             ],
             [
              0.4444444444444444,
              "#bd3786"
             ],
             [
              0.5555555555555556,
              "#d8576b"
             ],
             [
              0.6666666666666666,
              "#ed7953"
             ],
             [
              0.7777777777777778,
              "#fb9f3a"
             ],
             [
              0.8888888888888888,
              "#fdca26"
             ],
             [
              1,
              "#f0f921"
             ]
            ],
            "type": "contour"
           }
          ],
          "contourcarpet": [
           {
            "colorbar": {
             "outlinewidth": 0,
             "ticks": ""
            },
            "type": "contourcarpet"
           }
          ],
          "heatmap": [
           {
            "colorbar": {
             "outlinewidth": 0,
             "ticks": ""
            },
            "colorscale": [
             [
              0,
              "#0d0887"
             ],
             [
              0.1111111111111111,
              "#46039f"
             ],
             [
              0.2222222222222222,
              "#7201a8"
             ],
             [
              0.3333333333333333,
              "#9c179e"
             ],
             [
              0.4444444444444444,
              "#bd3786"
             ],
             [
              0.5555555555555556,
              "#d8576b"
             ],
             [
              0.6666666666666666,
              "#ed7953"
             ],
             [
              0.7777777777777778,
              "#fb9f3a"
             ],
             [
              0.8888888888888888,
              "#fdca26"
             ],
             [
              1,
              "#f0f921"
             ]
            ],
            "type": "heatmap"
           }
          ],
          "heatmapgl": [
           {
            "colorbar": {
             "outlinewidth": 0,
             "ticks": ""
            },
            "colorscale": [
             [
              0,
              "#0d0887"
             ],
             [
              0.1111111111111111,
              "#46039f"
             ],
             [
              0.2222222222222222,
              "#7201a8"
             ],
             [
              0.3333333333333333,
              "#9c179e"
             ],
             [
              0.4444444444444444,
              "#bd3786"
             ],
             [
              0.5555555555555556,
              "#d8576b"
             ],
             [
              0.6666666666666666,
              "#ed7953"
             ],
             [
              0.7777777777777778,
              "#fb9f3a"
             ],
             [
              0.8888888888888888,
              "#fdca26"
             ],
             [
              1,
              "#f0f921"
             ]
            ],
            "type": "heatmapgl"
           }
          ],
          "histogram": [
           {
            "marker": {
             "pattern": {
              "fillmode": "overlay",
              "size": 10,
              "solidity": 0.2
             }
            },
            "type": "histogram"
           }
          ],
          "histogram2d": [
           {
            "colorbar": {
             "outlinewidth": 0,
             "ticks": ""
            },
            "colorscale": [
             [
              0,
              "#0d0887"
             ],
             [
              0.1111111111111111,
              "#46039f"
             ],
             [
              0.2222222222222222,
              "#7201a8"
             ],
             [
              0.3333333333333333,
              "#9c179e"
             ],
             [
              0.4444444444444444,
              "#bd3786"
             ],
             [
              0.5555555555555556,
              "#d8576b"
             ],
             [
              0.6666666666666666,
              "#ed7953"
             ],
             [
              0.7777777777777778,
              "#fb9f3a"
             ],
             [
              0.8888888888888888,
              "#fdca26"
             ],
             [
              1,
              "#f0f921"
             ]
            ],
            "type": "histogram2d"
           }
          ],
          "histogram2dcontour": [
           {
            "colorbar": {
             "outlinewidth": 0,
             "ticks": ""
            },
            "colorscale": [
             [
              0,
              "#0d0887"
             ],
             [
              0.1111111111111111,
              "#46039f"
             ],
             [
              0.2222222222222222,
              "#7201a8"
             ],
             [
              0.3333333333333333,
              "#9c179e"
             ],
             [
              0.4444444444444444,
              "#bd3786"
             ],
             [
              0.5555555555555556,
              "#d8576b"
             ],
             [
              0.6666666666666666,
              "#ed7953"
             ],
             [
              0.7777777777777778,
              "#fb9f3a"
             ],
             [
              0.8888888888888888,
              "#fdca26"
             ],
             [
              1,
              "#f0f921"
             ]
            ],
            "type": "histogram2dcontour"
           }
          ],
          "mesh3d": [
           {
            "colorbar": {
             "outlinewidth": 0,
             "ticks": ""
            },
            "type": "mesh3d"
           }
          ],
          "parcoords": [
           {
            "line": {
             "colorbar": {
              "outlinewidth": 0,
              "ticks": ""
             }
            },
            "type": "parcoords"
           }
          ],
          "pie": [
           {
            "automargin": true,
            "type": "pie"
           }
          ],
          "scatter": [
           {
            "fillpattern": {
             "fillmode": "overlay",
             "size": 10,
             "solidity": 0.2
            },
            "type": "scatter"
           }
          ],
          "scatter3d": [
           {
            "line": {
             "colorbar": {
              "outlinewidth": 0,
              "ticks": ""
             }
            },
            "marker": {
             "colorbar": {
              "outlinewidth": 0,
              "ticks": ""
             }
            },
            "type": "scatter3d"
           }
          ],
          "scattercarpet": [
           {
            "marker": {
             "colorbar": {
              "outlinewidth": 0,
              "ticks": ""
             }
            },
            "type": "scattercarpet"
           }
          ],
          "scattergeo": [
           {
            "marker": {
             "colorbar": {
              "outlinewidth": 0,
              "ticks": ""
             }
            },
            "type": "scattergeo"
           }
          ],
          "scattergl": [
           {
            "marker": {
             "colorbar": {
              "outlinewidth": 0,
              "ticks": ""
             }
            },
            "type": "scattergl"
           }
          ],
          "scattermapbox": [
           {
            "marker": {
             "colorbar": {
              "outlinewidth": 0,
              "ticks": ""
             }
            },
            "type": "scattermapbox"
           }
          ],
          "scatterpolar": [
           {
            "marker": {
             "colorbar": {
              "outlinewidth": 0,
              "ticks": ""
             }
            },
            "type": "scatterpolar"
           }
          ],
          "scatterpolargl": [
           {
            "marker": {
             "colorbar": {
              "outlinewidth": 0,
              "ticks": ""
             }
            },
            "type": "scatterpolargl"
           }
          ],
          "scatterternary": [
           {
            "marker": {
             "colorbar": {
              "outlinewidth": 0,
              "ticks": ""
             }
            },
            "type": "scatterternary"
           }
          ],
          "surface": [
           {
            "colorbar": {
             "outlinewidth": 0,
             "ticks": ""
            },
            "colorscale": [
             [
              0,
              "#0d0887"
             ],
             [
              0.1111111111111111,
              "#46039f"
             ],
             [
              0.2222222222222222,
              "#7201a8"
             ],
             [
              0.3333333333333333,
              "#9c179e"
             ],
             [
              0.4444444444444444,
              "#bd3786"
             ],
             [
              0.5555555555555556,
              "#d8576b"
             ],
             [
              0.6666666666666666,
              "#ed7953"
             ],
             [
              0.7777777777777778,
              "#fb9f3a"
             ],
             [
              0.8888888888888888,
              "#fdca26"
             ],
             [
              1,
              "#f0f921"
             ]
            ],
            "type": "surface"
           }
          ],
          "table": [
           {
            "cells": {
             "fill": {
              "color": "#EBF0F8"
             },
             "line": {
              "color": "white"
             }
            },
            "header": {
             "fill": {
              "color": "#C8D4E3"
             },
             "line": {
              "color": "white"
             }
            },
            "type": "table"
           }
          ]
         },
         "layout": {
          "annotationdefaults": {
           "arrowcolor": "#2a3f5f",
           "arrowhead": 0,
           "arrowwidth": 1
          },
          "autotypenumbers": "strict",
          "coloraxis": {
           "colorbar": {
            "outlinewidth": 0,
            "ticks": ""
           }
          },
          "colorscale": {
           "diverging": [
            [
             0,
             "#8e0152"
            ],
            [
             0.1,
             "#c51b7d"
            ],
            [
             0.2,
             "#de77ae"
            ],
            [
             0.3,
             "#f1b6da"
            ],
            [
             0.4,
             "#fde0ef"
            ],
            [
             0.5,
             "#f7f7f7"
            ],
            [
             0.6,
             "#e6f5d0"
            ],
            [
             0.7,
             "#b8e186"
            ],
            [
             0.8,
             "#7fbc41"
            ],
            [
             0.9,
             "#4d9221"
            ],
            [
             1,
             "#276419"
            ]
           ],
           "sequential": [
            [
             0,
             "#0d0887"
            ],
            [
             0.1111111111111111,
             "#46039f"
            ],
            [
             0.2222222222222222,
             "#7201a8"
            ],
            [
             0.3333333333333333,
             "#9c179e"
            ],
            [
             0.4444444444444444,
             "#bd3786"
            ],
            [
             0.5555555555555556,
             "#d8576b"
            ],
            [
             0.6666666666666666,
             "#ed7953"
            ],
            [
             0.7777777777777778,
             "#fb9f3a"
            ],
            [
             0.8888888888888888,
             "#fdca26"
            ],
            [
             1,
             "#f0f921"
            ]
           ],
           "sequentialminus": [
            [
             0,
             "#0d0887"
            ],
            [
             0.1111111111111111,
             "#46039f"
            ],
            [
             0.2222222222222222,
             "#7201a8"
            ],
            [
             0.3333333333333333,
             "#9c179e"
            ],
            [
             0.4444444444444444,
             "#bd3786"
            ],
            [
             0.5555555555555556,
             "#d8576b"
            ],
            [
             0.6666666666666666,
             "#ed7953"
            ],
            [
             0.7777777777777778,
             "#fb9f3a"
            ],
            [
             0.8888888888888888,
             "#fdca26"
            ],
            [
             1,
             "#f0f921"
            ]
           ]
          },
          "colorway": [
           "#636efa",
           "#EF553B",
           "#00cc96",
           "#ab63fa",
           "#FFA15A",
           "#19d3f3",
           "#FF6692",
           "#B6E880",
           "#FF97FF",
           "#FECB52"
          ],
          "font": {
           "color": "#2a3f5f"
          },
          "geo": {
           "bgcolor": "white",
           "lakecolor": "white",
           "landcolor": "white",
           "showlakes": true,
           "showland": true,
           "subunitcolor": "#C8D4E3"
          },
          "hoverlabel": {
           "align": "left"
          },
          "hovermode": "closest",
          "mapbox": {
           "style": "light"
          },
          "paper_bgcolor": "white",
          "plot_bgcolor": "white",
          "polar": {
           "angularaxis": {
            "gridcolor": "#EBF0F8",
            "linecolor": "#EBF0F8",
            "ticks": ""
           },
           "bgcolor": "white",
           "radialaxis": {
            "gridcolor": "#EBF0F8",
            "linecolor": "#EBF0F8",
            "ticks": ""
           }
          },
          "scene": {
           "xaxis": {
            "backgroundcolor": "white",
            "gridcolor": "#DFE8F3",
            "gridwidth": 2,
            "linecolor": "#EBF0F8",
            "showbackground": true,
            "ticks": "",
            "zerolinecolor": "#EBF0F8"
           },
           "yaxis": {
            "backgroundcolor": "white",
            "gridcolor": "#DFE8F3",
            "gridwidth": 2,
            "linecolor": "#EBF0F8",
            "showbackground": true,
            "ticks": "",
            "zerolinecolor": "#EBF0F8"
           },
           "zaxis": {
            "backgroundcolor": "white",
            "gridcolor": "#DFE8F3",
            "gridwidth": 2,
            "linecolor": "#EBF0F8",
            "showbackground": true,
            "ticks": "",
            "zerolinecolor": "#EBF0F8"
           }
          },
          "shapedefaults": {
           "line": {
            "color": "#2a3f5f"
           }
          },
          "ternary": {
           "aaxis": {
            "gridcolor": "#DFE8F3",
            "linecolor": "#A2B1C6",
            "ticks": ""
           },
           "baxis": {
            "gridcolor": "#DFE8F3",
            "linecolor": "#A2B1C6",
            "ticks": ""
           },
           "bgcolor": "white",
           "caxis": {
            "gridcolor": "#DFE8F3",
            "linecolor": "#A2B1C6",
            "ticks": ""
           }
          },
          "title": {
           "x": 0.05
          },
          "xaxis": {
           "automargin": true,
           "gridcolor": "#EBF0F8",
           "linecolor": "#EBF0F8",
           "ticks": "",
           "title": {
            "standoff": 15
           },
           "zerolinecolor": "#EBF0F8",
           "zerolinewidth": 2
          },
          "yaxis": {
           "automargin": true,
           "gridcolor": "#EBF0F8",
           "linecolor": "#EBF0F8",
           "ticks": "",
           "title": {
            "standoff": 15
           },
           "zerolinecolor": "#EBF0F8",
           "zerolinewidth": 2
          }
         }
        },
        "title": {
         "text": "Yearly Waste M F G"
        },
        "xaxis": {
         "anchor": "y",
         "domain": [
          0,
          1
         ],
         "title": {
          "text": "Year"
         }
        },
        "yaxis": {
         "anchor": "x",
         "domain": [
          0,
          1
         ],
         "title": {
          "text": "[Tonnes]"
         }
        }
       }
      },
      "text/html": [
       "<div>                            <div id=\"83a95952-85e7-4ce7-ba88-f95a858c0a09\" class=\"plotly-graph-div\" style=\"height:525px; width:100%;\"></div>            <script type=\"text/javascript\">                require([\"plotly\"], function(Plotly) {                    window.PLOTLYENV=window.PLOTLYENV || {};                                    if (document.getElementById(\"83a95952-85e7-4ce7-ba88-f95a858c0a09\")) {                    Plotly.newPlot(                        \"83a95952-85e7-4ce7-ba88-f95a858c0a09\",                        [{\"hovertemplate\":\"Glass sim1 topcon\",\"legendgroup\":\"WasteMFG_glass_sim1_TOPCon_[Tonnes]\",\"line\":{\"color\":\"#636efa\",\"dash\":\"solid\"},\"marker\":{\"symbol\":\"circle\"},\"mode\":\"lines\",\"name\":\"Glass sim1 topcon\",\"orientation\":\"v\",\"showlegend\":true,\"x\":[2020,2021,2022,2023,2024,2025,2026,2027,2028,2029,2030,2031,2032,2033,2034,2035,2036,2037,2038,2039,2040,2041,2042,2043,2044,2045,2046,2047,2048,2049,2050],\"xaxis\":\"x\",\"y\":[55957.16594964563,63281.01950648584,54726.62236942761,54814.16092278979,51950.51768537158,50471.733475992434,46411.23863977295,47283.46552364282,44338.33192559082,45297.98966566675,42111.258170804686,50059.74753554077,50059.74753554077,72570.27617406103,72570.27617406103,81624.96022622315,81624.96022622315,85229.10919264454,85229.10919264454,93869.50767329345,93869.50767329345,95330.31920671191,95330.31920671191,105436.13749942773,105436.13749942773,111703.19874529493,111703.19874529493,115463.97449542675,115463.97449542675,124321.51557391798,124321.51557391798],\"yaxis\":\"y\",\"type\":\"scatter\"},{\"hovertemplate\":\"Aluminium frames sim1 topcon\",\"legendgroup\":\"WasteMFG_aluminium_frames_sim1_TOPCon_[Tonnes]\",\"line\":{\"color\":\"#EF553B\",\"dash\":\"solid\"},\"marker\":{\"symbol\":\"circle\"},\"mode\":\"lines\",\"name\":\"Aluminium frames sim1 topcon\",\"orientation\":\"v\",\"showlegend\":true,\"x\":[2020,2021,2022,2023,2024,2025,2026,2027,2028,2029,2030,2031,2032,2033,2034,2035,2036,2037,2038,2039,2040,2041,2042,2043,2044,2045,2046,2047,2048,2049,2050],\"xaxis\":\"x\",\"y\":[3280.189686514633,3728.7004635854796,3305.442079754181,3475.026584658371,3408.773500412628,3434.1497692025146,3381.637570389023,3607.6898258059996,3552.453214664612,3945.048614861023,3884.54062588707,4579.583493134826,4579.583493134826,6638.899619360138,6638.899619360138,7467.243421761322,7467.243421761322,7796.959449627899,7796.959449627899,8587.403433149719,8587.403433149719,8721.041909457825,8721.041909457825,9645.54594546167,9645.54594546167,10218.871454378113,10218.871454378113,10562.916068955079,10562.916068955079,11373.22476825525,11373.22476825525],\"yaxis\":\"y\",\"type\":\"scatter\"},{\"hovertemplate\":\"Silver sim1 topcon\",\"legendgroup\":\"WasteMFG_silver_sim1_TOPCon_[Tonnes]\",\"line\":{\"color\":\"#00cc96\",\"dash\":\"solid\"},\"marker\":{\"symbol\":\"circle\"},\"mode\":\"lines\",\"name\":\"Silver sim1 topcon\",\"orientation\":\"v\",\"showlegend\":true,\"x\":[2020,2021,2022,2023,2024,2025,2026,2027,2028,2029,2030,2031,2032,2033,2034,2035,2036,2037,2038,2039,2040,2041,2042,2043,2044,2045,2046,2047,2048,2049,2050],\"xaxis\":\"x\",\"y\":[129.52925746388746,149.02450428563975,128.5231207649286,131.2164765766931,124.01898013943995,120.09884265953964,112.92463047686475,114.68688066931081,107.14045991469807,112.44515107162673,104.17855470011341,122.66898845442009,121.49574626941497,174.42831378965568,172.72749599539029,192.36589057903612,190.45285962300144,196.86480213998342,194.8673013290931,212.42264985743296,210.22264542852997,211.25992092914308,209.0256796972251,228.7130759780084,226.2419863215834,237.07170555007087,234.4537357955301,239.64111393374085,236.93500348781384,252.19719918199968,249.28349598220765],\"yaxis\":\"y\",\"type\":\"scatter\"},{\"hovertemplate\":\"Silicon sim1 topcon\",\"legendgroup\":\"WasteMFG_silicon_sim1_TOPCon_[Tonnes]\",\"line\":{\"color\":\"#ab63fa\",\"dash\":\"solid\"},\"marker\":{\"symbol\":\"circle\"},\"mode\":\"lines\",\"name\":\"Silicon sim1 topcon\",\"orientation\":\"v\",\"showlegend\":true,\"x\":[2020,2021,2022,2023,2024,2025,2026,2027,2028,2029,2030,2031,2032,2033,2034,2035,2036,2037,2038,2039,2040,2041,2042,2043,2044,2045,2046,2047,2048,2049,2050],\"xaxis\":\"x\",\"y\":[16637.909343534047,20110.308569046654,18377.030968927877,18061.31845765843,16147.714196484252,15773.330106113095,15080.193878509579,15722.265548428002,15040.049611116268,16216.45031333841,15638.808045018952,18461.527530313873,18461.527530313873,26763.182345630707,26763.182345630707,30102.458053895112,30102.458053895112,31431.63166428346,31431.63166428346,34618.123052601804,34618.123052601804,35156.85554064823,35156.85554064823,38883.77890347302,38883.77890347302,41195.00757362572,41195.00757362572,42581.94355441749,42581.94355441749,45848.514932056794,45848.514932056794],\"yaxis\":\"y\",\"type\":\"scatter\"},{\"hovertemplate\":\"Copper sim1 topcon\",\"legendgroup\":\"WasteMFG_copper_sim1_TOPCon_[Tonnes]\",\"line\":{\"color\":\"#FFA15A\",\"dash\":\"solid\"},\"marker\":{\"symbol\":\"circle\"},\"mode\":\"lines\",\"name\":\"Copper sim1 topcon\",\"orientation\":\"v\",\"showlegend\":true,\"x\":[2020,2021,2022,2023,2024,2025,2026,2027,2028,2029,2030,2031,2032,2033,2034,2035,2036,2037,2038,2039,2040,2041,2042,2043,2044,2045,2046,2047,2048,2049,2050],\"xaxis\":\"x\",\"y\":[87.46269841648245,105.57917809236932,95.71468196271955,103.26297064659751,103.36185609143233,102.09674204420054,98.0898809938004,101.99564201253592,97.62318804583454,105.23928045214844,100.44955121887637,119.40937869107616,119.40937869107616,173.104580346359,173.104580346359,194.703055171767,194.703055171767,203.30016582409166,203.30016582409166,223.91042985878636,223.91042985878636,227.39495797124576,227.39495797124576,251.50074241694952,251.50074241694952,266.4497968255174,266.4497968255174,275.42051517364433,275.42051517364433,296.5487375275898,296.5487375275898],\"yaxis\":\"y\",\"type\":\"scatter\"},{\"hovertemplate\":\"Encapsulant sim1 topcon\",\"legendgroup\":\"WasteMFG_encapsulant_sim1_TOPCon_[Tonnes]\",\"line\":{\"color\":\"#19d3f3\",\"dash\":\"solid\"},\"marker\":{\"symbol\":\"circle\"},\"mode\":\"lines\",\"name\":\"Encapsulant sim1 topcon\",\"orientation\":\"v\",\"showlegend\":true,\"x\":[2020,2021,2022,2023,2024,2025,2026,2027,2028,2029,2030,2031,2032,2033,2034,2035,2036,2037,2038,2039,2040,2041,2042,2043,2044,2045,2046,2047,2048,2049,2050],\"xaxis\":\"x\",\"y\":[2073.7147523957137,2373.228967201828,2068.53865806012,2200.234083256287,2121.1408733493654,2060.499788388031,1964.7857566718596,2076.9589374774473,2025.584124960373,2274.2024921822053,2263.029816847748,2696.359504350418,2696.359504350418,3908.8402065220644,3908.8402065220644,4396.551084120942,4396.551084120942,4590.680735170563,4590.680735170563,5056.077020841644,5056.077020841644,5134.760459254913,5134.760459254913,5679.088398253326,5679.088398253326,6016.650031832184,6016.650031832184,6219.216044183716,6219.216044183716,6696.308243963684,6696.308243963684],\"yaxis\":\"y\",\"type\":\"scatter\"},{\"hovertemplate\":\"Backsheet sim1 topcon\",\"legendgroup\":\"WasteMFG_backsheet_sim1_TOPCon_[Tonnes]\",\"line\":{\"color\":\"#FF6692\",\"dash\":\"solid\"},\"marker\":{\"symbol\":\"circle\"},\"mode\":\"lines\",\"name\":\"Backsheet sim1 topcon\",\"orientation\":\"v\",\"showlegend\":true,\"x\":[2020,2021,2022,2023,2024,2025,2026,2027,2028,2029,2030,2031,2032,2033,2034,2035,2036,2037,2038,2039,2040,2041,2042,2043,2044,2045,2046,2047,2048,2049,2050],\"xaxis\":\"x\",\"y\":[1973.895906117302,2239.904329054443,1968.1131719991836,2049.509595600716,2005.670511092987,2018.1459441313248,1922.6901257502213,1974.9806490922851,1868.9268674696884,1979.7242069478455,1857.1468317294082,2079.196278644562,2079.196278644562,3014.1551963319703,3014.1551963319703,3390.2351070864256,3390.2351070864256,3539.9308903770598,3539.9308903770598,3898.8037423469696,3898.8037423469696,3959.4775182569883,3959.4775182569883,4379.215547737747,4379.215547737747,4639.513512908142,4639.513512908142,4795.714679103394,4795.714679103394,5163.606395602035,5163.606395602035],\"yaxis\":\"y\",\"type\":\"scatter\"},{\"hovertemplate\":\"Module sim1 topcon\",\"legendgroup\":\"WasteMFG_Module_sim1_TOPCon_[Tonnes]\",\"line\":{\"color\":\"#B6E880\",\"dash\":\"solid\"},\"marker\":{\"symbol\":\"circle\"},\"mode\":\"lines\",\"name\":\"Module sim1 topcon\",\"orientation\":\"v\",\"showlegend\":true,\"x\":[2020,2021,2022,2023,2024,2025,2026,2027,2028,2029,2030,2031,2032,2033,2034,2035,2036,2037,2038,2039,2040,2041,2042,2043,2044,2045,2046,2047,2048,2049,2050],\"xaxis\":\"x\",\"y\":[80139.86759408771,91987.76551775225,80669.98505089663,80834.72909118689,75861.19760294168,73980.05466853113,68971.5604825643,70882.0430071284,67030.1093917623,69931.09972452,65959.41159620686,78118.49270912995,78117.31946694493,113242.88643604192,113241.18561824766,127368.51683883775,127366.60380788171,132988.4769000676,132986.4793992567,146466.24800194983,146464.04799752095,148741.10951323024,148738.87527199835,164503.98011274848,164501.50902309205,174276.76282041467,174274.14485066014,180138.82647119384,180136.12036074788,193951.91585050532,193949.00214730555],\"yaxis\":\"y\",\"type\":\"scatter\"}],                        {\"template\":{\"data\":{\"barpolar\":[{\"marker\":{\"line\":{\"color\":\"white\",\"width\":0.5},\"pattern\":{\"fillmode\":\"overlay\",\"size\":10,\"solidity\":0.2}},\"type\":\"barpolar\"}],\"bar\":[{\"error_x\":{\"color\":\"#2a3f5f\"},\"error_y\":{\"color\":\"#2a3f5f\"},\"marker\":{\"line\":{\"color\":\"white\",\"width\":0.5},\"pattern\":{\"fillmode\":\"overlay\",\"size\":10,\"solidity\":0.2}},\"type\":\"bar\"}],\"carpet\":[{\"aaxis\":{\"endlinecolor\":\"#2a3f5f\",\"gridcolor\":\"#C8D4E3\",\"linecolor\":\"#C8D4E3\",\"minorgridcolor\":\"#C8D4E3\",\"startlinecolor\":\"#2a3f5f\"},\"baxis\":{\"endlinecolor\":\"#2a3f5f\",\"gridcolor\":\"#C8D4E3\",\"linecolor\":\"#C8D4E3\",\"minorgridcolor\":\"#C8D4E3\",\"startlinecolor\":\"#2a3f5f\"},\"type\":\"carpet\"}],\"choropleth\":[{\"colorbar\":{\"outlinewidth\":0,\"ticks\":\"\"},\"type\":\"choropleth\"}],\"contourcarpet\":[{\"colorbar\":{\"outlinewidth\":0,\"ticks\":\"\"},\"type\":\"contourcarpet\"}],\"contour\":[{\"colorbar\":{\"outlinewidth\":0,\"ticks\":\"\"},\"colorscale\":[[0.0,\"#0d0887\"],[0.1111111111111111,\"#46039f\"],[0.2222222222222222,\"#7201a8\"],[0.3333333333333333,\"#9c179e\"],[0.4444444444444444,\"#bd3786\"],[0.5555555555555556,\"#d8576b\"],[0.6666666666666666,\"#ed7953\"],[0.7777777777777778,\"#fb9f3a\"],[0.8888888888888888,\"#fdca26\"],[1.0,\"#f0f921\"]],\"type\":\"contour\"}],\"heatmapgl\":[{\"colorbar\":{\"outlinewidth\":0,\"ticks\":\"\"},\"colorscale\":[[0.0,\"#0d0887\"],[0.1111111111111111,\"#46039f\"],[0.2222222222222222,\"#7201a8\"],[0.3333333333333333,\"#9c179e\"],[0.4444444444444444,\"#bd3786\"],[0.5555555555555556,\"#d8576b\"],[0.6666666666666666,\"#ed7953\"],[0.7777777777777778,\"#fb9f3a\"],[0.8888888888888888,\"#fdca26\"],[1.0,\"#f0f921\"]],\"type\":\"heatmapgl\"}],\"heatmap\":[{\"colorbar\":{\"outlinewidth\":0,\"ticks\":\"\"},\"colorscale\":[[0.0,\"#0d0887\"],[0.1111111111111111,\"#46039f\"],[0.2222222222222222,\"#7201a8\"],[0.3333333333333333,\"#9c179e\"],[0.4444444444444444,\"#bd3786\"],[0.5555555555555556,\"#d8576b\"],[0.6666666666666666,\"#ed7953\"],[0.7777777777777778,\"#fb9f3a\"],[0.8888888888888888,\"#fdca26\"],[1.0,\"#f0f921\"]],\"type\":\"heatmap\"}],\"histogram2dcontour\":[{\"colorbar\":{\"outlinewidth\":0,\"ticks\":\"\"},\"colorscale\":[[0.0,\"#0d0887\"],[0.1111111111111111,\"#46039f\"],[0.2222222222222222,\"#7201a8\"],[0.3333333333333333,\"#9c179e\"],[0.4444444444444444,\"#bd3786\"],[0.5555555555555556,\"#d8576b\"],[0.6666666666666666,\"#ed7953\"],[0.7777777777777778,\"#fb9f3a\"],[0.8888888888888888,\"#fdca26\"],[1.0,\"#f0f921\"]],\"type\":\"histogram2dcontour\"}],\"histogram2d\":[{\"colorbar\":{\"outlinewidth\":0,\"ticks\":\"\"},\"colorscale\":[[0.0,\"#0d0887\"],[0.1111111111111111,\"#46039f\"],[0.2222222222222222,\"#7201a8\"],[0.3333333333333333,\"#9c179e\"],[0.4444444444444444,\"#bd3786\"],[0.5555555555555556,\"#d8576b\"],[0.6666666666666666,\"#ed7953\"],[0.7777777777777778,\"#fb9f3a\"],[0.8888888888888888,\"#fdca26\"],[1.0,\"#f0f921\"]],\"type\":\"histogram2d\"}],\"histogram\":[{\"marker\":{\"pattern\":{\"fillmode\":\"overlay\",\"size\":10,\"solidity\":0.2}},\"type\":\"histogram\"}],\"mesh3d\":[{\"colorbar\":{\"outlinewidth\":0,\"ticks\":\"\"},\"type\":\"mesh3d\"}],\"parcoords\":[{\"line\":{\"colorbar\":{\"outlinewidth\":0,\"ticks\":\"\"}},\"type\":\"parcoords\"}],\"pie\":[{\"automargin\":true,\"type\":\"pie\"}],\"scatter3d\":[{\"line\":{\"colorbar\":{\"outlinewidth\":0,\"ticks\":\"\"}},\"marker\":{\"colorbar\":{\"outlinewidth\":0,\"ticks\":\"\"}},\"type\":\"scatter3d\"}],\"scattercarpet\":[{\"marker\":{\"colorbar\":{\"outlinewidth\":0,\"ticks\":\"\"}},\"type\":\"scattercarpet\"}],\"scattergeo\":[{\"marker\":{\"colorbar\":{\"outlinewidth\":0,\"ticks\":\"\"}},\"type\":\"scattergeo\"}],\"scattergl\":[{\"marker\":{\"colorbar\":{\"outlinewidth\":0,\"ticks\":\"\"}},\"type\":\"scattergl\"}],\"scattermapbox\":[{\"marker\":{\"colorbar\":{\"outlinewidth\":0,\"ticks\":\"\"}},\"type\":\"scattermapbox\"}],\"scatterpolargl\":[{\"marker\":{\"colorbar\":{\"outlinewidth\":0,\"ticks\":\"\"}},\"type\":\"scatterpolargl\"}],\"scatterpolar\":[{\"marker\":{\"colorbar\":{\"outlinewidth\":0,\"ticks\":\"\"}},\"type\":\"scatterpolar\"}],\"scatter\":[{\"fillpattern\":{\"fillmode\":\"overlay\",\"size\":10,\"solidity\":0.2},\"type\":\"scatter\"}],\"scatterternary\":[{\"marker\":{\"colorbar\":{\"outlinewidth\":0,\"ticks\":\"\"}},\"type\":\"scatterternary\"}],\"surface\":[{\"colorbar\":{\"outlinewidth\":0,\"ticks\":\"\"},\"colorscale\":[[0.0,\"#0d0887\"],[0.1111111111111111,\"#46039f\"],[0.2222222222222222,\"#7201a8\"],[0.3333333333333333,\"#9c179e\"],[0.4444444444444444,\"#bd3786\"],[0.5555555555555556,\"#d8576b\"],[0.6666666666666666,\"#ed7953\"],[0.7777777777777778,\"#fb9f3a\"],[0.8888888888888888,\"#fdca26\"],[1.0,\"#f0f921\"]],\"type\":\"surface\"}],\"table\":[{\"cells\":{\"fill\":{\"color\":\"#EBF0F8\"},\"line\":{\"color\":\"white\"}},\"header\":{\"fill\":{\"color\":\"#C8D4E3\"},\"line\":{\"color\":\"white\"}},\"type\":\"table\"}]},\"layout\":{\"annotationdefaults\":{\"arrowcolor\":\"#2a3f5f\",\"arrowhead\":0,\"arrowwidth\":1},\"autotypenumbers\":\"strict\",\"coloraxis\":{\"colorbar\":{\"outlinewidth\":0,\"ticks\":\"\"}},\"colorscale\":{\"diverging\":[[0,\"#8e0152\"],[0.1,\"#c51b7d\"],[0.2,\"#de77ae\"],[0.3,\"#f1b6da\"],[0.4,\"#fde0ef\"],[0.5,\"#f7f7f7\"],[0.6,\"#e6f5d0\"],[0.7,\"#b8e186\"],[0.8,\"#7fbc41\"],[0.9,\"#4d9221\"],[1,\"#276419\"]],\"sequential\":[[0.0,\"#0d0887\"],[0.1111111111111111,\"#46039f\"],[0.2222222222222222,\"#7201a8\"],[0.3333333333333333,\"#9c179e\"],[0.4444444444444444,\"#bd3786\"],[0.5555555555555556,\"#d8576b\"],[0.6666666666666666,\"#ed7953\"],[0.7777777777777778,\"#fb9f3a\"],[0.8888888888888888,\"#fdca26\"],[1.0,\"#f0f921\"]],\"sequentialminus\":[[0.0,\"#0d0887\"],[0.1111111111111111,\"#46039f\"],[0.2222222222222222,\"#7201a8\"],[0.3333333333333333,\"#9c179e\"],[0.4444444444444444,\"#bd3786\"],[0.5555555555555556,\"#d8576b\"],[0.6666666666666666,\"#ed7953\"],[0.7777777777777778,\"#fb9f3a\"],[0.8888888888888888,\"#fdca26\"],[1.0,\"#f0f921\"]]},\"colorway\":[\"#636efa\",\"#EF553B\",\"#00cc96\",\"#ab63fa\",\"#FFA15A\",\"#19d3f3\",\"#FF6692\",\"#B6E880\",\"#FF97FF\",\"#FECB52\"],\"font\":{\"color\":\"#2a3f5f\"},\"geo\":{\"bgcolor\":\"white\",\"lakecolor\":\"white\",\"landcolor\":\"white\",\"showlakes\":true,\"showland\":true,\"subunitcolor\":\"#C8D4E3\"},\"hoverlabel\":{\"align\":\"left\"},\"hovermode\":\"closest\",\"mapbox\":{\"style\":\"light\"},\"paper_bgcolor\":\"white\",\"plot_bgcolor\":\"white\",\"polar\":{\"angularaxis\":{\"gridcolor\":\"#EBF0F8\",\"linecolor\":\"#EBF0F8\",\"ticks\":\"\"},\"bgcolor\":\"white\",\"radialaxis\":{\"gridcolor\":\"#EBF0F8\",\"linecolor\":\"#EBF0F8\",\"ticks\":\"\"}},\"scene\":{\"xaxis\":{\"backgroundcolor\":\"white\",\"gridcolor\":\"#DFE8F3\",\"gridwidth\":2,\"linecolor\":\"#EBF0F8\",\"showbackground\":true,\"ticks\":\"\",\"zerolinecolor\":\"#EBF0F8\"},\"yaxis\":{\"backgroundcolor\":\"white\",\"gridcolor\":\"#DFE8F3\",\"gridwidth\":2,\"linecolor\":\"#EBF0F8\",\"showbackground\":true,\"ticks\":\"\",\"zerolinecolor\":\"#EBF0F8\"},\"zaxis\":{\"backgroundcolor\":\"white\",\"gridcolor\":\"#DFE8F3\",\"gridwidth\":2,\"linecolor\":\"#EBF0F8\",\"showbackground\":true,\"ticks\":\"\",\"zerolinecolor\":\"#EBF0F8\"}},\"shapedefaults\":{\"line\":{\"color\":\"#2a3f5f\"}},\"ternary\":{\"aaxis\":{\"gridcolor\":\"#DFE8F3\",\"linecolor\":\"#A2B1C6\",\"ticks\":\"\"},\"baxis\":{\"gridcolor\":\"#DFE8F3\",\"linecolor\":\"#A2B1C6\",\"ticks\":\"\"},\"bgcolor\":\"white\",\"caxis\":{\"gridcolor\":\"#DFE8F3\",\"linecolor\":\"#A2B1C6\",\"ticks\":\"\"}},\"title\":{\"x\":0.05},\"xaxis\":{\"automargin\":true,\"gridcolor\":\"#EBF0F8\",\"linecolor\":\"#EBF0F8\",\"ticks\":\"\",\"title\":{\"standoff\":15},\"zerolinecolor\":\"#EBF0F8\",\"zerolinewidth\":2},\"yaxis\":{\"automargin\":true,\"gridcolor\":\"#EBF0F8\",\"linecolor\":\"#EBF0F8\",\"ticks\":\"\",\"title\":{\"standoff\":15},\"zerolinecolor\":\"#EBF0F8\",\"zerolinewidth\":2}}},\"xaxis\":{\"anchor\":\"y\",\"domain\":[0.0,1.0],\"title\":{\"text\":\"Year\"}},\"yaxis\":{\"anchor\":\"x\",\"domain\":[0.0,1.0],\"title\":{\"text\":\"[Tonnes]\"}},\"legend\":{\"title\":{\"text\":\"variable\"},\"tracegroupgap\":0},\"margin\":{\"t\":60},\"title\":{\"text\":\"Yearly Waste M F G\"}},                        {\"responsive\": true}                    ).then(function(){\n",
       "                            \n",
       "var gd = document.getElementById('83a95952-85e7-4ce7-ba88-f95a858c0a09');\n",
       "var x = new MutationObserver(function (mutations, observer) {{\n",
       "        var display = window.getComputedStyle(gd).display;\n",
       "        if (!display || display === 'none') {{\n",
       "            console.log([gd, 'removed!']);\n",
       "            Plotly.purge(gd);\n",
       "            observer.disconnect();\n",
       "        }}\n",
       "}});\n",
       "\n",
       "// Listen for the removal of the full notebook cells\n",
       "var notebookContainer = gd.closest('#notebook-container');\n",
       "if (notebookContainer) {{\n",
       "    x.observe(notebookContainer, {childList: true});\n",
       "}}\n",
       "\n",
       "// Listen for the clearing of the current output cell\n",
       "var outputEl = gd.closest('.output');\n",
       "if (outputEl) {{\n",
       "    x.observe(outputEl, {childList: true});\n",
       "}}\n",
       "\n",
       "                        })                };                });            </script>        </div>"
      ]
     },
     "metadata": {},
     "output_type": "display_data"
    },
    {
     "data": {
      "application/vnd.plotly.v1+json": {
       "config": {
        "plotlyServerURL": "https://plot.ly"
       },
       "data": [
        {
         "hovertemplate": "Glass sim1 topcon",
         "legendgroup": "VirginStock_glass_sim1_TOPCon_[Tonnes]",
         "line": {
          "color": "#636efa",
          "dash": "solid"
         },
         "marker": {
          "symbol": "circle"
         },
         "mode": "lines",
         "name": "Glass sim1 topcon",
         "orientation": "v",
         "showlegend": true,
         "type": "scatter",
         "x": [
          2020,
          2021,
          2022,
          2023,
          2024,
          2025,
          2026,
          2027,
          2028,
          2029,
          2030,
          2031,
          2032,
          2033,
          2034,
          2035,
          2036,
          2037,
          2038,
          2039,
          2040,
          2041,
          2042,
          2043,
          2044,
          2045,
          2046,
          2047,
          2048,
          2049,
          2050
         ],
         "xaxis": "x",
         "y": [
          1049459.2263624459,
          2305533.4523744774,
          3435781.7458364246,
          4641018.353637433,
          5834734.293099096,
          7049164.838719702,
          8250905.8703036755,
          9540689.43614227,
          10818451.163104536,
          12244710.283560038,
          13657839.75237899,
          15337697.052229347,
          17017554.3520797,
          19452798.518994503,
          21888042.685909305,
          24627135.310950343,
          27366227.93599138,
          30226265.157221064,
          33086302.378450744,
          36236285.85742033,
          39386269.33638992,
          42585273.33661515,
          45784277.33684038,
          49322402.75628426,
          52860528.175728135,
          56608957.66382528,
          60357387.15192243,
          64232017.16854748,
          68106647.18517254,
          72278510.1238946,
          76450373.06261668
         ],
         "yaxis": "y"
        },
        {
         "hovertemplate": "Aluminium frames sim1 topcon",
         "legendgroup": "VirginStock_aluminium_frames_sim1_TOPCon_[Tonnes]",
         "line": {
          "color": "#EF553B",
          "dash": "solid"
         },
         "marker": {
          "symbol": "circle"
         },
         "mode": "lines",
         "name": "Aluminium frames sim1 topcon",
         "orientation": "v",
         "showlegend": true,
         "type": "scatter",
         "x": [
          2020,
          2021,
          2022,
          2023,
          2024,
          2025,
          2026,
          2027,
          2028,
          2029,
          2030,
          2031,
          2032,
          2033,
          2034,
          2035,
          2036,
          2037,
          2038,
          2039,
          2040,
          2041,
          2042,
          2043,
          2044,
          2045,
          2046,
          2047,
          2048,
          2049,
          2050
         ],
         "xaxis": "x",
         "y": [
          110073.47941324257,
          235197.656043628,
          346118.53120316414,
          462730.16156082734,
          577118.5340578955,
          692358.4591989197,
          805836.2300173434,
          926899.6469906988,
          1046109.4864089746,
          1178493.6681157204,
          1308847.3803938106,
          1462524.6788211535,
          1616201.9772484964,
          1838983.8436699775,
          2061765.7100914586,
          2312344.348405596,
          2562922.986719733,
          2824565.9212710042,
          3086208.8558222754,
          3374376.75626354,
          3662544.656704805,
          3955197.069773861,
          4247849.482842918,
          4571525.52128123,
          4895201.559719543,
          5238116.709195319,
          5581031.858671094,
          5935492.129441398,
          6289952.400211702,
          6671604.238072617,
          7053256.075933532
         ],
         "yaxis": "y"
        },
        {
         "hovertemplate": "Silver sim1 topcon",
         "legendgroup": "VirginStock_silver_sim1_TOPCon_[Tonnes]",
         "line": {
          "color": "#00cc96",
          "dash": "solid"
         },
         "marker": {
          "symbol": "circle"
         },
         "mode": "lines",
         "name": "Silver sim1 topcon",
         "orientation": "v",
         "showlegend": true,
         "type": "scatter",
         "x": [
          2020,
          2021,
          2022,
          2023,
          2024,
          2025,
          2026,
          2027,
          2028,
          2029,
          2030,
          2031,
          2032,
          2033,
          2034,
          2035,
          2036,
          2037,
          2038,
          2039,
          2040,
          2041,
          2042,
          2043,
          2044,
          2045,
          2046,
          2047,
          2048,
          2049,
          2050
         ],
         "xaxis": "x",
         "y": [
          599.6724882587384,
          1289.6007488404043,
          1884.615196826185,
          2492.098884681246,
          3066.260829771246,
          3622.2739902320777,
          4145.073205402748,
          4676.030986279186,
          5172.051634032418,
          5692.631037141801,
          6174.939160753438,
          6742.851144338716,
          7305.331451141563,
          8112.8699409084875,
          8912.53427422048,
          9803.117100975276,
          10684.843302933616,
          11596.254423952058,
          12498.417856031192,
          13481.856049815604,
          14455.10903791065,
          15433.164227397423,
          16400.875707477167,
          17459.732540708686,
          18507.14914404935,
          19604.70333641079,
          20690.137298427133,
          21799.58689997223,
          22896.508212415814,
          24064.087838258405,
          25218.17809743529
         ],
         "yaxis": "y"
        },
        {
         "hovertemplate": "Silicon sim1 topcon",
         "legendgroup": "VirginStock_silicon_sim1_TOPCon_[Tonnes]",
         "line": {
          "color": "#ab63fa",
          "dash": "solid"
         },
         "marker": {
          "symbol": "circle"
         },
         "mode": "lines",
         "name": "Silicon sim1 topcon",
         "orientation": "v",
         "showlegend": true,
         "type": "scatter",
         "x": [
          2020,
          2021,
          2022,
          2023,
          2024,
          2025,
          2026,
          2027,
          2028,
          2029,
          2030,
          2031,
          2032,
          2033,
          2034,
          2035,
          2036,
          2037,
          2038,
          2039,
          2040,
          2041,
          2042,
          2043,
          2044,
          2045,
          2046,
          2047,
          2048,
          2049,
          2050
         ],
         "xaxis": "x",
         "y": [
          48075.639460522565,
          105300.23347900013,
          156741.81207799114,
          209312.95089432783,
          258859.8612323134,
          308139.4218466987,
          355939.2948724555,
          406309.7856882355,
          455208.72181531234,
          508733.7704225213,
          561157.1067406869,
          623042.5691034641,
          684928.0314662413,
          774641.7299150346,
          864355.4283638279,
          965262.8170868093,
          1066170.2058097909,
          1171533.1588572422,
          1276896.1119046935,
          1392940.6021411608,
          1508985.092377628,
          1626835.48459365,
          1744685.8768096722,
          1875029.4050958455,
          2005372.9333820187,
          2143464.003394826,
          2281555.0734076328,
          2424295.334788702,
          2567035.596169771,
          2720725.8333702455,
          2874416.07057072
         ],
         "yaxis": "y"
        },
        {
         "hovertemplate": "Copper sim1 topcon",
         "legendgroup": "VirginStock_copper_sim1_TOPCon_[Tonnes]",
         "line": {
          "color": "#FFA15A",
          "dash": "solid"
         },
         "marker": {
          "symbol": "circle"
         },
         "mode": "lines",
         "name": "Copper sim1 topcon",
         "orientation": "v",
         "showlegend": true,
         "type": "scatter",
         "x": [
          2020,
          2021,
          2022,
          2023,
          2024,
          2025,
          2026,
          2027,
          2028,
          2029,
          2030,
          2031,
          2032,
          2033,
          2034,
          2035,
          2036,
          2037,
          2038,
          2039,
          2040,
          2041,
          2042,
          2043,
          2044,
          2045,
          2046,
          2047,
          2048,
          2049,
          2050
         ],
         "xaxis": "x",
         "y": [
          741.2093086142581,
          1635.948106007218,
          2447.0894785726396,
          3322.199399306516,
          4198.147332284756,
          5063.373959777981,
          5894.6441376915445,
          6759.013985255408,
          7586.329138186211,
          8478.187447102722,
          9329.45483031354,
          10341.39871752605,
          11353.34260473856,
          12820.330573775504,
          14287.318542812447,
          15937.344434098608,
          17587.37032538477,
          19310.253086605888,
          21033.135847827005,
          22930.681863579433,
          24828.227879331862,
          26755.30379434242,
          28682.37970935298,
          30813.741933225432,
          32945.104157097885,
          35203.15328273786,
          37461.20240837784,
          39795.27457086635,
          42129.34673335486,
          44642.47162765647,
          47155.59652195808
         ],
         "yaxis": "y"
        },
        {
         "hovertemplate": "Encapsulant sim1 topcon",
         "legendgroup": "VirginStock_encapsulant_sim1_TOPCon_[Tonnes]",
         "line": {
          "color": "#19d3f3",
          "dash": "solid"
         },
         "marker": {
          "symbol": "circle"
         },
         "mode": "lines",
         "name": "Encapsulant sim1 topcon",
         "orientation": "v",
         "showlegend": true,
         "type": "scatter",
         "x": [
          2020,
          2021,
          2022,
          2023,
          2024,
          2025,
          2026,
          2027,
          2028,
          2029,
          2030,
          2031,
          2032,
          2033,
          2034,
          2035,
          2036,
          2037,
          2038,
          2039,
          2040,
          2041,
          2042,
          2043,
          2044,
          2045,
          2046,
          2047,
          2048,
          2049,
          2050
         ],
         "xaxis": "x",
         "y": [
          69587.74336898379,
          149226.29931535403,
          218640.34824354603,
          292473.70674207894,
          363652.9306799768,
          432797.21888091747,
          498729.62682292616,
          568426.2354631089,
          636398.8571060745,
          712714.3769779607,
          788654.9748587578,
          879136.8374208526,
          969618.6999829474,
          1100787.8344299966,
          1231956.9688770457,
          1379492.240156272,
          1527027.511435498,
          1681077.2005351805,
          1835126.889634863,
          2004793.9037570658,
          2174460.9178792685,
          2346768.3158408427,
          2519075.713802417,
          2709649.1499854145,
          2900222.586168412,
          3102123.593948015,
          3304024.601727618,
          3512723.126700225,
          3721421.6516728317,
          3946129.982007184,
          4170838.3123415364
         ],
         "yaxis": "y"
        },
        {
         "hovertemplate": "Backsheet sim1 topcon",
         "legendgroup": "VirginStock_backsheet_sim1_TOPCon_[Tonnes]",
         "line": {
          "color": "#FF6692",
          "dash": "solid"
         },
         "marker": {
          "symbol": "circle"
         },
         "mode": "lines",
         "name": "Backsheet sim1 topcon",
         "orientation": "v",
         "showlegend": true,
         "type": "scatter",
         "x": [
          2020,
          2021,
          2022,
          2023,
          2024,
          2025,
          2026,
          2027,
          2028,
          2029,
          2030,
          2031,
          2032,
          2033,
          2034,
          2035,
          2036,
          2037,
          2038,
          2039,
          2040,
          2041,
          2042,
          2043,
          2044,
          2045,
          2046,
          2047,
          2048,
          2049,
          2050
         ],
         "xaxis": "x",
         "y": [
          36351.67414580671,
          77602.21427572284,
          113847.39239725475,
          151591.5838447817,
          188528.42566969857,
          225695.01764265116,
          261103.67557543598,
          297475.32657161064,
          331893.8692506104,
          368352.87858666654,
          402554.4776977054,
          440845.38522338786,
          479136.29274907033,
          534645.5965489222,
          590154.9003487742,
          652590.1693558906,
          715025.438363007,
          780217.5357916822,
          845409.6332203574,
          917210.8071125664,
          989011.9810047755,
          1061930.5356688083,
          1134849.090332841,
          1215497.6271235913,
          1296146.1639143415,
          1381588.4017211213,
          1467030.639527901,
          1555349.5102296208,
          1643668.3809313406,
          1738762.4213660008,
          1833856.461800661
         ],
         "yaxis": "y"
        },
        {
         "hovertemplate": "Module sim1 topcon",
         "legendgroup": "VirginStock_Module_sim1_TOPCon_[Tonnes]",
         "line": {
          "color": "#B6E880",
          "dash": "solid"
         },
         "marker": {
          "symbol": "circle"
         },
         "mode": "lines",
         "name": "Module sim1 topcon",
         "orientation": "v",
         "showlegend": true,
         "type": "scatter",
         "x": [
          2020,
          2021,
          2022,
          2023,
          2024,
          2025,
          2026,
          2027,
          2028,
          2029,
          2030,
          2031,
          2032,
          2033,
          2034,
          2035,
          2036,
          2037,
          2038,
          2039,
          2040,
          2041,
          2042,
          2043,
          2044,
          2045,
          2046,
          2047,
          2048,
          2049,
          2050
         ],
         "xaxis": "x",
         "y": [
          1314888.6445478746,
          2875785.4043430304,
          4275461.53443378,
          5762941.054963436,
          7230158.452901036,
          8716840.604238898,
          10182554.41493493,
          11751235.475827456,
          13300820.478457725,
          15027175.796147149,
          16734558.086061016,
          18760330.772660065,
          20786098.027582332,
          23722790.724073112,
          26659475.54640744,
          29962565.34748998,
          33265646.291947722,
          36714565.481186725,
          40163475.42273679,
          43962020.46460806,
          47760555.32127364,
          51618193.21051405,
          55475820.75604506,
          59742377.93424427,
          64008923.672213584,
          68529058.2287037,
          73049180.66496345,
          77721472.13117824,
          82393751.06910393,
          87424439.15817654,
          92455113.75788249
         ],
         "yaxis": "y"
        }
       ],
       "layout": {
        "legend": {
         "title": {
          "text": "variable"
         },
         "tracegroupgap": 0
        },
        "margin": {
         "t": 60
        },
        "template": {
         "data": {
          "bar": [
           {
            "error_x": {
             "color": "#2a3f5f"
            },
            "error_y": {
             "color": "#2a3f5f"
            },
            "marker": {
             "line": {
              "color": "white",
              "width": 0.5
             },
             "pattern": {
              "fillmode": "overlay",
              "size": 10,
              "solidity": 0.2
             }
            },
            "type": "bar"
           }
          ],
          "barpolar": [
           {
            "marker": {
             "line": {
              "color": "white",
              "width": 0.5
             },
             "pattern": {
              "fillmode": "overlay",
              "size": 10,
              "solidity": 0.2
             }
            },
            "type": "barpolar"
           }
          ],
          "carpet": [
           {
            "aaxis": {
             "endlinecolor": "#2a3f5f",
             "gridcolor": "#C8D4E3",
             "linecolor": "#C8D4E3",
             "minorgridcolor": "#C8D4E3",
             "startlinecolor": "#2a3f5f"
            },
            "baxis": {
             "endlinecolor": "#2a3f5f",
             "gridcolor": "#C8D4E3",
             "linecolor": "#C8D4E3",
             "minorgridcolor": "#C8D4E3",
             "startlinecolor": "#2a3f5f"
            },
            "type": "carpet"
           }
          ],
          "choropleth": [
           {
            "colorbar": {
             "outlinewidth": 0,
             "ticks": ""
            },
            "type": "choropleth"
           }
          ],
          "contour": [
           {
            "colorbar": {
             "outlinewidth": 0,
             "ticks": ""
            },
            "colorscale": [
             [
              0,
              "#0d0887"
             ],
             [
              0.1111111111111111,
              "#46039f"
             ],
             [
              0.2222222222222222,
              "#7201a8"
             ],
             [
              0.3333333333333333,
              "#9c179e"
             ],
             [
              0.4444444444444444,
              "#bd3786"
             ],
             [
              0.5555555555555556,
              "#d8576b"
             ],
             [
              0.6666666666666666,
              "#ed7953"
             ],
             [
              0.7777777777777778,
              "#fb9f3a"
             ],
             [
              0.8888888888888888,
              "#fdca26"
             ],
             [
              1,
              "#f0f921"
             ]
            ],
            "type": "contour"
           }
          ],
          "contourcarpet": [
           {
            "colorbar": {
             "outlinewidth": 0,
             "ticks": ""
            },
            "type": "contourcarpet"
           }
          ],
          "heatmap": [
           {
            "colorbar": {
             "outlinewidth": 0,
             "ticks": ""
            },
            "colorscale": [
             [
              0,
              "#0d0887"
             ],
             [
              0.1111111111111111,
              "#46039f"
             ],
             [
              0.2222222222222222,
              "#7201a8"
             ],
             [
              0.3333333333333333,
              "#9c179e"
             ],
             [
              0.4444444444444444,
              "#bd3786"
             ],
             [
              0.5555555555555556,
              "#d8576b"
             ],
             [
              0.6666666666666666,
              "#ed7953"
             ],
             [
              0.7777777777777778,
              "#fb9f3a"
             ],
             [
              0.8888888888888888,
              "#fdca26"
             ],
             [
              1,
              "#f0f921"
             ]
            ],
            "type": "heatmap"
           }
          ],
          "heatmapgl": [
           {
            "colorbar": {
             "outlinewidth": 0,
             "ticks": ""
            },
            "colorscale": [
             [
              0,
              "#0d0887"
             ],
             [
              0.1111111111111111,
              "#46039f"
             ],
             [
              0.2222222222222222,
              "#7201a8"
             ],
             [
              0.3333333333333333,
              "#9c179e"
             ],
             [
              0.4444444444444444,
              "#bd3786"
             ],
             [
              0.5555555555555556,
              "#d8576b"
             ],
             [
              0.6666666666666666,
              "#ed7953"
             ],
             [
              0.7777777777777778,
              "#fb9f3a"
             ],
             [
              0.8888888888888888,
              "#fdca26"
             ],
             [
              1,
              "#f0f921"
             ]
            ],
            "type": "heatmapgl"
           }
          ],
          "histogram": [
           {
            "marker": {
             "pattern": {
              "fillmode": "overlay",
              "size": 10,
              "solidity": 0.2
             }
            },
            "type": "histogram"
           }
          ],
          "histogram2d": [
           {
            "colorbar": {
             "outlinewidth": 0,
             "ticks": ""
            },
            "colorscale": [
             [
              0,
              "#0d0887"
             ],
             [
              0.1111111111111111,
              "#46039f"
             ],
             [
              0.2222222222222222,
              "#7201a8"
             ],
             [
              0.3333333333333333,
              "#9c179e"
             ],
             [
              0.4444444444444444,
              "#bd3786"
             ],
             [
              0.5555555555555556,
              "#d8576b"
             ],
             [
              0.6666666666666666,
              "#ed7953"
             ],
             [
              0.7777777777777778,
              "#fb9f3a"
             ],
             [
              0.8888888888888888,
              "#fdca26"
             ],
             [
              1,
              "#f0f921"
             ]
            ],
            "type": "histogram2d"
           }
          ],
          "histogram2dcontour": [
           {
            "colorbar": {
             "outlinewidth": 0,
             "ticks": ""
            },
            "colorscale": [
             [
              0,
              "#0d0887"
             ],
             [
              0.1111111111111111,
              "#46039f"
             ],
             [
              0.2222222222222222,
              "#7201a8"
             ],
             [
              0.3333333333333333,
              "#9c179e"
             ],
             [
              0.4444444444444444,
              "#bd3786"
             ],
             [
              0.5555555555555556,
              "#d8576b"
             ],
             [
              0.6666666666666666,
              "#ed7953"
             ],
             [
              0.7777777777777778,
              "#fb9f3a"
             ],
             [
              0.8888888888888888,
              "#fdca26"
             ],
             [
              1,
              "#f0f921"
             ]
            ],
            "type": "histogram2dcontour"
           }
          ],
          "mesh3d": [
           {
            "colorbar": {
             "outlinewidth": 0,
             "ticks": ""
            },
            "type": "mesh3d"
           }
          ],
          "parcoords": [
           {
            "line": {
             "colorbar": {
              "outlinewidth": 0,
              "ticks": ""
             }
            },
            "type": "parcoords"
           }
          ],
          "pie": [
           {
            "automargin": true,
            "type": "pie"
           }
          ],
          "scatter": [
           {
            "fillpattern": {
             "fillmode": "overlay",
             "size": 10,
             "solidity": 0.2
            },
            "type": "scatter"
           }
          ],
          "scatter3d": [
           {
            "line": {
             "colorbar": {
              "outlinewidth": 0,
              "ticks": ""
             }
            },
            "marker": {
             "colorbar": {
              "outlinewidth": 0,
              "ticks": ""
             }
            },
            "type": "scatter3d"
           }
          ],
          "scattercarpet": [
           {
            "marker": {
             "colorbar": {
              "outlinewidth": 0,
              "ticks": ""
             }
            },
            "type": "scattercarpet"
           }
          ],
          "scattergeo": [
           {
            "marker": {
             "colorbar": {
              "outlinewidth": 0,
              "ticks": ""
             }
            },
            "type": "scattergeo"
           }
          ],
          "scattergl": [
           {
            "marker": {
             "colorbar": {
              "outlinewidth": 0,
              "ticks": ""
             }
            },
            "type": "scattergl"
           }
          ],
          "scattermapbox": [
           {
            "marker": {
             "colorbar": {
              "outlinewidth": 0,
              "ticks": ""
             }
            },
            "type": "scattermapbox"
           }
          ],
          "scatterpolar": [
           {
            "marker": {
             "colorbar": {
              "outlinewidth": 0,
              "ticks": ""
             }
            },
            "type": "scatterpolar"
           }
          ],
          "scatterpolargl": [
           {
            "marker": {
             "colorbar": {
              "outlinewidth": 0,
              "ticks": ""
             }
            },
            "type": "scatterpolargl"
           }
          ],
          "scatterternary": [
           {
            "marker": {
             "colorbar": {
              "outlinewidth": 0,
              "ticks": ""
             }
            },
            "type": "scatterternary"
           }
          ],
          "surface": [
           {
            "colorbar": {
             "outlinewidth": 0,
             "ticks": ""
            },
            "colorscale": [
             [
              0,
              "#0d0887"
             ],
             [
              0.1111111111111111,
              "#46039f"
             ],
             [
              0.2222222222222222,
              "#7201a8"
             ],
             [
              0.3333333333333333,
              "#9c179e"
             ],
             [
              0.4444444444444444,
              "#bd3786"
             ],
             [
              0.5555555555555556,
              "#d8576b"
             ],
             [
              0.6666666666666666,
              "#ed7953"
             ],
             [
              0.7777777777777778,
              "#fb9f3a"
             ],
             [
              0.8888888888888888,
              "#fdca26"
             ],
             [
              1,
              "#f0f921"
             ]
            ],
            "type": "surface"
           }
          ],
          "table": [
           {
            "cells": {
             "fill": {
              "color": "#EBF0F8"
             },
             "line": {
              "color": "white"
             }
            },
            "header": {
             "fill": {
              "color": "#C8D4E3"
             },
             "line": {
              "color": "white"
             }
            },
            "type": "table"
           }
          ]
         },
         "layout": {
          "annotationdefaults": {
           "arrowcolor": "#2a3f5f",
           "arrowhead": 0,
           "arrowwidth": 1
          },
          "autotypenumbers": "strict",
          "coloraxis": {
           "colorbar": {
            "outlinewidth": 0,
            "ticks": ""
           }
          },
          "colorscale": {
           "diverging": [
            [
             0,
             "#8e0152"
            ],
            [
             0.1,
             "#c51b7d"
            ],
            [
             0.2,
             "#de77ae"
            ],
            [
             0.3,
             "#f1b6da"
            ],
            [
             0.4,
             "#fde0ef"
            ],
            [
             0.5,
             "#f7f7f7"
            ],
            [
             0.6,
             "#e6f5d0"
            ],
            [
             0.7,
             "#b8e186"
            ],
            [
             0.8,
             "#7fbc41"
            ],
            [
             0.9,
             "#4d9221"
            ],
            [
             1,
             "#276419"
            ]
           ],
           "sequential": [
            [
             0,
             "#0d0887"
            ],
            [
             0.1111111111111111,
             "#46039f"
            ],
            [
             0.2222222222222222,
             "#7201a8"
            ],
            [
             0.3333333333333333,
             "#9c179e"
            ],
            [
             0.4444444444444444,
             "#bd3786"
            ],
            [
             0.5555555555555556,
             "#d8576b"
            ],
            [
             0.6666666666666666,
             "#ed7953"
            ],
            [
             0.7777777777777778,
             "#fb9f3a"
            ],
            [
             0.8888888888888888,
             "#fdca26"
            ],
            [
             1,
             "#f0f921"
            ]
           ],
           "sequentialminus": [
            [
             0,
             "#0d0887"
            ],
            [
             0.1111111111111111,
             "#46039f"
            ],
            [
             0.2222222222222222,
             "#7201a8"
            ],
            [
             0.3333333333333333,
             "#9c179e"
            ],
            [
             0.4444444444444444,
             "#bd3786"
            ],
            [
             0.5555555555555556,
             "#d8576b"
            ],
            [
             0.6666666666666666,
             "#ed7953"
            ],
            [
             0.7777777777777778,
             "#fb9f3a"
            ],
            [
             0.8888888888888888,
             "#fdca26"
            ],
            [
             1,
             "#f0f921"
            ]
           ]
          },
          "colorway": [
           "#636efa",
           "#EF553B",
           "#00cc96",
           "#ab63fa",
           "#FFA15A",
           "#19d3f3",
           "#FF6692",
           "#B6E880",
           "#FF97FF",
           "#FECB52"
          ],
          "font": {
           "color": "#2a3f5f"
          },
          "geo": {
           "bgcolor": "white",
           "lakecolor": "white",
           "landcolor": "white",
           "showlakes": true,
           "showland": true,
           "subunitcolor": "#C8D4E3"
          },
          "hoverlabel": {
           "align": "left"
          },
          "hovermode": "closest",
          "mapbox": {
           "style": "light"
          },
          "paper_bgcolor": "white",
          "plot_bgcolor": "white",
          "polar": {
           "angularaxis": {
            "gridcolor": "#EBF0F8",
            "linecolor": "#EBF0F8",
            "ticks": ""
           },
           "bgcolor": "white",
           "radialaxis": {
            "gridcolor": "#EBF0F8",
            "linecolor": "#EBF0F8",
            "ticks": ""
           }
          },
          "scene": {
           "xaxis": {
            "backgroundcolor": "white",
            "gridcolor": "#DFE8F3",
            "gridwidth": 2,
            "linecolor": "#EBF0F8",
            "showbackground": true,
            "ticks": "",
            "zerolinecolor": "#EBF0F8"
           },
           "yaxis": {
            "backgroundcolor": "white",
            "gridcolor": "#DFE8F3",
            "gridwidth": 2,
            "linecolor": "#EBF0F8",
            "showbackground": true,
            "ticks": "",
            "zerolinecolor": "#EBF0F8"
           },
           "zaxis": {
            "backgroundcolor": "white",
            "gridcolor": "#DFE8F3",
            "gridwidth": 2,
            "linecolor": "#EBF0F8",
            "showbackground": true,
            "ticks": "",
            "zerolinecolor": "#EBF0F8"
           }
          },
          "shapedefaults": {
           "line": {
            "color": "#2a3f5f"
           }
          },
          "ternary": {
           "aaxis": {
            "gridcolor": "#DFE8F3",
            "linecolor": "#A2B1C6",
            "ticks": ""
           },
           "baxis": {
            "gridcolor": "#DFE8F3",
            "linecolor": "#A2B1C6",
            "ticks": ""
           },
           "bgcolor": "white",
           "caxis": {
            "gridcolor": "#DFE8F3",
            "linecolor": "#A2B1C6",
            "ticks": ""
           }
          },
          "title": {
           "x": 0.05
          },
          "xaxis": {
           "automargin": true,
           "gridcolor": "#EBF0F8",
           "linecolor": "#EBF0F8",
           "ticks": "",
           "title": {
            "standoff": 15
           },
           "zerolinecolor": "#EBF0F8",
           "zerolinewidth": 2
          },
          "yaxis": {
           "automargin": true,
           "gridcolor": "#EBF0F8",
           "linecolor": "#EBF0F8",
           "ticks": "",
           "title": {
            "standoff": 15
           },
           "zerolinecolor": "#EBF0F8",
           "zerolinewidth": 2
          }
         }
        },
        "title": {
         "text": "Cumulative Virgin Stock"
        },
        "xaxis": {
         "anchor": "y",
         "domain": [
          0,
          1
         ],
         "title": {
          "text": "Year"
         }
        },
        "yaxis": {
         "anchor": "x",
         "domain": [
          0,
          1
         ],
         "title": {
          "text": "[Tonnes]"
         }
        }
       }
      },
      "text/html": [
       "<div>                            <div id=\"a372b2f9-1447-4050-bb89-92f49c45853a\" class=\"plotly-graph-div\" style=\"height:525px; width:100%;\"></div>            <script type=\"text/javascript\">                require([\"plotly\"], function(Plotly) {                    window.PLOTLYENV=window.PLOTLYENV || {};                                    if (document.getElementById(\"a372b2f9-1447-4050-bb89-92f49c45853a\")) {                    Plotly.newPlot(                        \"a372b2f9-1447-4050-bb89-92f49c45853a\",                        [{\"hovertemplate\":\"Glass sim1 topcon\",\"legendgroup\":\"VirginStock_glass_sim1_TOPCon_[Tonnes]\",\"line\":{\"color\":\"#636efa\",\"dash\":\"solid\"},\"marker\":{\"symbol\":\"circle\"},\"mode\":\"lines\",\"name\":\"Glass sim1 topcon\",\"orientation\":\"v\",\"showlegend\":true,\"x\":[2020,2021,2022,2023,2024,2025,2026,2027,2028,2029,2030,2031,2032,2033,2034,2035,2036,2037,2038,2039,2040,2041,2042,2043,2044,2045,2046,2047,2048,2049,2050],\"xaxis\":\"x\",\"y\":[1049459.2263624459,2305533.4523744774,3435781.7458364246,4641018.353637433,5834734.293099096,7049164.838719702,8250905.8703036755,9540689.43614227,10818451.163104536,12244710.283560038,13657839.75237899,15337697.052229347,17017554.3520797,19452798.518994503,21888042.685909305,24627135.310950343,27366227.93599138,30226265.157221064,33086302.378450744,36236285.85742033,39386269.33638992,42585273.33661515,45784277.33684038,49322402.75628426,52860528.175728135,56608957.66382528,60357387.15192243,64232017.16854748,68106647.18517254,72278510.1238946,76450373.06261668],\"yaxis\":\"y\",\"type\":\"scatter\"},{\"hovertemplate\":\"Aluminium frames sim1 topcon\",\"legendgroup\":\"VirginStock_aluminium_frames_sim1_TOPCon_[Tonnes]\",\"line\":{\"color\":\"#EF553B\",\"dash\":\"solid\"},\"marker\":{\"symbol\":\"circle\"},\"mode\":\"lines\",\"name\":\"Aluminium frames sim1 topcon\",\"orientation\":\"v\",\"showlegend\":true,\"x\":[2020,2021,2022,2023,2024,2025,2026,2027,2028,2029,2030,2031,2032,2033,2034,2035,2036,2037,2038,2039,2040,2041,2042,2043,2044,2045,2046,2047,2048,2049,2050],\"xaxis\":\"x\",\"y\":[110073.47941324257,235197.656043628,346118.53120316414,462730.16156082734,577118.5340578955,692358.4591989197,805836.2300173434,926899.6469906988,1046109.4864089746,1178493.6681157204,1308847.3803938106,1462524.6788211535,1616201.9772484964,1838983.8436699775,2061765.7100914586,2312344.348405596,2562922.986719733,2824565.9212710042,3086208.8558222754,3374376.75626354,3662544.656704805,3955197.069773861,4247849.482842918,4571525.52128123,4895201.559719543,5238116.709195319,5581031.858671094,5935492.129441398,6289952.400211702,6671604.238072617,7053256.075933532],\"yaxis\":\"y\",\"type\":\"scatter\"},{\"hovertemplate\":\"Silver sim1 topcon\",\"legendgroup\":\"VirginStock_silver_sim1_TOPCon_[Tonnes]\",\"line\":{\"color\":\"#00cc96\",\"dash\":\"solid\"},\"marker\":{\"symbol\":\"circle\"},\"mode\":\"lines\",\"name\":\"Silver sim1 topcon\",\"orientation\":\"v\",\"showlegend\":true,\"x\":[2020,2021,2022,2023,2024,2025,2026,2027,2028,2029,2030,2031,2032,2033,2034,2035,2036,2037,2038,2039,2040,2041,2042,2043,2044,2045,2046,2047,2048,2049,2050],\"xaxis\":\"x\",\"y\":[599.6724882587384,1289.6007488404043,1884.615196826185,2492.098884681246,3066.260829771246,3622.2739902320777,4145.073205402748,4676.030986279186,5172.051634032418,5692.631037141801,6174.939160753438,6742.851144338716,7305.331451141563,8112.8699409084875,8912.53427422048,9803.117100975276,10684.843302933616,11596.254423952058,12498.417856031192,13481.856049815604,14455.10903791065,15433.164227397423,16400.875707477167,17459.732540708686,18507.14914404935,19604.70333641079,20690.137298427133,21799.58689997223,22896.508212415814,24064.087838258405,25218.17809743529],\"yaxis\":\"y\",\"type\":\"scatter\"},{\"hovertemplate\":\"Silicon sim1 topcon\",\"legendgroup\":\"VirginStock_silicon_sim1_TOPCon_[Tonnes]\",\"line\":{\"color\":\"#ab63fa\",\"dash\":\"solid\"},\"marker\":{\"symbol\":\"circle\"},\"mode\":\"lines\",\"name\":\"Silicon sim1 topcon\",\"orientation\":\"v\",\"showlegend\":true,\"x\":[2020,2021,2022,2023,2024,2025,2026,2027,2028,2029,2030,2031,2032,2033,2034,2035,2036,2037,2038,2039,2040,2041,2042,2043,2044,2045,2046,2047,2048,2049,2050],\"xaxis\":\"x\",\"y\":[48075.639460522565,105300.23347900013,156741.81207799114,209312.95089432783,258859.8612323134,308139.4218466987,355939.2948724555,406309.7856882355,455208.72181531234,508733.7704225213,561157.1067406869,623042.5691034641,684928.0314662413,774641.7299150346,864355.4283638279,965262.8170868093,1066170.2058097909,1171533.1588572422,1276896.1119046935,1392940.6021411608,1508985.092377628,1626835.48459365,1744685.8768096722,1875029.4050958455,2005372.9333820187,2143464.003394826,2281555.0734076328,2424295.334788702,2567035.596169771,2720725.8333702455,2874416.07057072],\"yaxis\":\"y\",\"type\":\"scatter\"},{\"hovertemplate\":\"Copper sim1 topcon\",\"legendgroup\":\"VirginStock_copper_sim1_TOPCon_[Tonnes]\",\"line\":{\"color\":\"#FFA15A\",\"dash\":\"solid\"},\"marker\":{\"symbol\":\"circle\"},\"mode\":\"lines\",\"name\":\"Copper sim1 topcon\",\"orientation\":\"v\",\"showlegend\":true,\"x\":[2020,2021,2022,2023,2024,2025,2026,2027,2028,2029,2030,2031,2032,2033,2034,2035,2036,2037,2038,2039,2040,2041,2042,2043,2044,2045,2046,2047,2048,2049,2050],\"xaxis\":\"x\",\"y\":[741.2093086142581,1635.948106007218,2447.0894785726396,3322.199399306516,4198.147332284756,5063.373959777981,5894.6441376915445,6759.013985255408,7586.329138186211,8478.187447102722,9329.45483031354,10341.39871752605,11353.34260473856,12820.330573775504,14287.318542812447,15937.344434098608,17587.37032538477,19310.253086605888,21033.135847827005,22930.681863579433,24828.227879331862,26755.30379434242,28682.37970935298,30813.741933225432,32945.104157097885,35203.15328273786,37461.20240837784,39795.27457086635,42129.34673335486,44642.47162765647,47155.59652195808],\"yaxis\":\"y\",\"type\":\"scatter\"},{\"hovertemplate\":\"Encapsulant sim1 topcon\",\"legendgroup\":\"VirginStock_encapsulant_sim1_TOPCon_[Tonnes]\",\"line\":{\"color\":\"#19d3f3\",\"dash\":\"solid\"},\"marker\":{\"symbol\":\"circle\"},\"mode\":\"lines\",\"name\":\"Encapsulant sim1 topcon\",\"orientation\":\"v\",\"showlegend\":true,\"x\":[2020,2021,2022,2023,2024,2025,2026,2027,2028,2029,2030,2031,2032,2033,2034,2035,2036,2037,2038,2039,2040,2041,2042,2043,2044,2045,2046,2047,2048,2049,2050],\"xaxis\":\"x\",\"y\":[69587.74336898379,149226.29931535403,218640.34824354603,292473.70674207894,363652.9306799768,432797.21888091747,498729.62682292616,568426.2354631089,636398.8571060745,712714.3769779607,788654.9748587578,879136.8374208526,969618.6999829474,1100787.8344299966,1231956.9688770457,1379492.240156272,1527027.511435498,1681077.2005351805,1835126.889634863,2004793.9037570658,2174460.9178792685,2346768.3158408427,2519075.713802417,2709649.1499854145,2900222.586168412,3102123.593948015,3304024.601727618,3512723.126700225,3721421.6516728317,3946129.982007184,4170838.3123415364],\"yaxis\":\"y\",\"type\":\"scatter\"},{\"hovertemplate\":\"Backsheet sim1 topcon\",\"legendgroup\":\"VirginStock_backsheet_sim1_TOPCon_[Tonnes]\",\"line\":{\"color\":\"#FF6692\",\"dash\":\"solid\"},\"marker\":{\"symbol\":\"circle\"},\"mode\":\"lines\",\"name\":\"Backsheet sim1 topcon\",\"orientation\":\"v\",\"showlegend\":true,\"x\":[2020,2021,2022,2023,2024,2025,2026,2027,2028,2029,2030,2031,2032,2033,2034,2035,2036,2037,2038,2039,2040,2041,2042,2043,2044,2045,2046,2047,2048,2049,2050],\"xaxis\":\"x\",\"y\":[36351.67414580671,77602.21427572284,113847.39239725475,151591.5838447817,188528.42566969857,225695.01764265116,261103.67557543598,297475.32657161064,331893.8692506104,368352.87858666654,402554.4776977054,440845.38522338786,479136.29274907033,534645.5965489222,590154.9003487742,652590.1693558906,715025.438363007,780217.5357916822,845409.6332203574,917210.8071125664,989011.9810047755,1061930.5356688083,1134849.090332841,1215497.6271235913,1296146.1639143415,1381588.4017211213,1467030.639527901,1555349.5102296208,1643668.3809313406,1738762.4213660008,1833856.461800661],\"yaxis\":\"y\",\"type\":\"scatter\"},{\"hovertemplate\":\"Module sim1 topcon\",\"legendgroup\":\"VirginStock_Module_sim1_TOPCon_[Tonnes]\",\"line\":{\"color\":\"#B6E880\",\"dash\":\"solid\"},\"marker\":{\"symbol\":\"circle\"},\"mode\":\"lines\",\"name\":\"Module sim1 topcon\",\"orientation\":\"v\",\"showlegend\":true,\"x\":[2020,2021,2022,2023,2024,2025,2026,2027,2028,2029,2030,2031,2032,2033,2034,2035,2036,2037,2038,2039,2040,2041,2042,2043,2044,2045,2046,2047,2048,2049,2050],\"xaxis\":\"x\",\"y\":[1314888.6445478746,2875785.4043430304,4275461.53443378,5762941.054963436,7230158.452901036,8716840.604238898,10182554.41493493,11751235.475827456,13300820.478457725,15027175.796147149,16734558.086061016,18760330.772660065,20786098.027582332,23722790.724073112,26659475.54640744,29962565.34748998,33265646.291947722,36714565.481186725,40163475.42273679,43962020.46460806,47760555.32127364,51618193.21051405,55475820.75604506,59742377.93424427,64008923.672213584,68529058.2287037,73049180.66496345,77721472.13117824,82393751.06910393,87424439.15817654,92455113.75788249],\"yaxis\":\"y\",\"type\":\"scatter\"}],                        {\"template\":{\"data\":{\"barpolar\":[{\"marker\":{\"line\":{\"color\":\"white\",\"width\":0.5},\"pattern\":{\"fillmode\":\"overlay\",\"size\":10,\"solidity\":0.2}},\"type\":\"barpolar\"}],\"bar\":[{\"error_x\":{\"color\":\"#2a3f5f\"},\"error_y\":{\"color\":\"#2a3f5f\"},\"marker\":{\"line\":{\"color\":\"white\",\"width\":0.5},\"pattern\":{\"fillmode\":\"overlay\",\"size\":10,\"solidity\":0.2}},\"type\":\"bar\"}],\"carpet\":[{\"aaxis\":{\"endlinecolor\":\"#2a3f5f\",\"gridcolor\":\"#C8D4E3\",\"linecolor\":\"#C8D4E3\",\"minorgridcolor\":\"#C8D4E3\",\"startlinecolor\":\"#2a3f5f\"},\"baxis\":{\"endlinecolor\":\"#2a3f5f\",\"gridcolor\":\"#C8D4E3\",\"linecolor\":\"#C8D4E3\",\"minorgridcolor\":\"#C8D4E3\",\"startlinecolor\":\"#2a3f5f\"},\"type\":\"carpet\"}],\"choropleth\":[{\"colorbar\":{\"outlinewidth\":0,\"ticks\":\"\"},\"type\":\"choropleth\"}],\"contourcarpet\":[{\"colorbar\":{\"outlinewidth\":0,\"ticks\":\"\"},\"type\":\"contourcarpet\"}],\"contour\":[{\"colorbar\":{\"outlinewidth\":0,\"ticks\":\"\"},\"colorscale\":[[0.0,\"#0d0887\"],[0.1111111111111111,\"#46039f\"],[0.2222222222222222,\"#7201a8\"],[0.3333333333333333,\"#9c179e\"],[0.4444444444444444,\"#bd3786\"],[0.5555555555555556,\"#d8576b\"],[0.6666666666666666,\"#ed7953\"],[0.7777777777777778,\"#fb9f3a\"],[0.8888888888888888,\"#fdca26\"],[1.0,\"#f0f921\"]],\"type\":\"contour\"}],\"heatmapgl\":[{\"colorbar\":{\"outlinewidth\":0,\"ticks\":\"\"},\"colorscale\":[[0.0,\"#0d0887\"],[0.1111111111111111,\"#46039f\"],[0.2222222222222222,\"#7201a8\"],[0.3333333333333333,\"#9c179e\"],[0.4444444444444444,\"#bd3786\"],[0.5555555555555556,\"#d8576b\"],[0.6666666666666666,\"#ed7953\"],[0.7777777777777778,\"#fb9f3a\"],[0.8888888888888888,\"#fdca26\"],[1.0,\"#f0f921\"]],\"type\":\"heatmapgl\"}],\"heatmap\":[{\"colorbar\":{\"outlinewidth\":0,\"ticks\":\"\"},\"colorscale\":[[0.0,\"#0d0887\"],[0.1111111111111111,\"#46039f\"],[0.2222222222222222,\"#7201a8\"],[0.3333333333333333,\"#9c179e\"],[0.4444444444444444,\"#bd3786\"],[0.5555555555555556,\"#d8576b\"],[0.6666666666666666,\"#ed7953\"],[0.7777777777777778,\"#fb9f3a\"],[0.8888888888888888,\"#fdca26\"],[1.0,\"#f0f921\"]],\"type\":\"heatmap\"}],\"histogram2dcontour\":[{\"colorbar\":{\"outlinewidth\":0,\"ticks\":\"\"},\"colorscale\":[[0.0,\"#0d0887\"],[0.1111111111111111,\"#46039f\"],[0.2222222222222222,\"#7201a8\"],[0.3333333333333333,\"#9c179e\"],[0.4444444444444444,\"#bd3786\"],[0.5555555555555556,\"#d8576b\"],[0.6666666666666666,\"#ed7953\"],[0.7777777777777778,\"#fb9f3a\"],[0.8888888888888888,\"#fdca26\"],[1.0,\"#f0f921\"]],\"type\":\"histogram2dcontour\"}],\"histogram2d\":[{\"colorbar\":{\"outlinewidth\":0,\"ticks\":\"\"},\"colorscale\":[[0.0,\"#0d0887\"],[0.1111111111111111,\"#46039f\"],[0.2222222222222222,\"#7201a8\"],[0.3333333333333333,\"#9c179e\"],[0.4444444444444444,\"#bd3786\"],[0.5555555555555556,\"#d8576b\"],[0.6666666666666666,\"#ed7953\"],[0.7777777777777778,\"#fb9f3a\"],[0.8888888888888888,\"#fdca26\"],[1.0,\"#f0f921\"]],\"type\":\"histogram2d\"}],\"histogram\":[{\"marker\":{\"pattern\":{\"fillmode\":\"overlay\",\"size\":10,\"solidity\":0.2}},\"type\":\"histogram\"}],\"mesh3d\":[{\"colorbar\":{\"outlinewidth\":0,\"ticks\":\"\"},\"type\":\"mesh3d\"}],\"parcoords\":[{\"line\":{\"colorbar\":{\"outlinewidth\":0,\"ticks\":\"\"}},\"type\":\"parcoords\"}],\"pie\":[{\"automargin\":true,\"type\":\"pie\"}],\"scatter3d\":[{\"line\":{\"colorbar\":{\"outlinewidth\":0,\"ticks\":\"\"}},\"marker\":{\"colorbar\":{\"outlinewidth\":0,\"ticks\":\"\"}},\"type\":\"scatter3d\"}],\"scattercarpet\":[{\"marker\":{\"colorbar\":{\"outlinewidth\":0,\"ticks\":\"\"}},\"type\":\"scattercarpet\"}],\"scattergeo\":[{\"marker\":{\"colorbar\":{\"outlinewidth\":0,\"ticks\":\"\"}},\"type\":\"scattergeo\"}],\"scattergl\":[{\"marker\":{\"colorbar\":{\"outlinewidth\":0,\"ticks\":\"\"}},\"type\":\"scattergl\"}],\"scattermapbox\":[{\"marker\":{\"colorbar\":{\"outlinewidth\":0,\"ticks\":\"\"}},\"type\":\"scattermapbox\"}],\"scatterpolargl\":[{\"marker\":{\"colorbar\":{\"outlinewidth\":0,\"ticks\":\"\"}},\"type\":\"scatterpolargl\"}],\"scatterpolar\":[{\"marker\":{\"colorbar\":{\"outlinewidth\":0,\"ticks\":\"\"}},\"type\":\"scatterpolar\"}],\"scatter\":[{\"fillpattern\":{\"fillmode\":\"overlay\",\"size\":10,\"solidity\":0.2},\"type\":\"scatter\"}],\"scatterternary\":[{\"marker\":{\"colorbar\":{\"outlinewidth\":0,\"ticks\":\"\"}},\"type\":\"scatterternary\"}],\"surface\":[{\"colorbar\":{\"outlinewidth\":0,\"ticks\":\"\"},\"colorscale\":[[0.0,\"#0d0887\"],[0.1111111111111111,\"#46039f\"],[0.2222222222222222,\"#7201a8\"],[0.3333333333333333,\"#9c179e\"],[0.4444444444444444,\"#bd3786\"],[0.5555555555555556,\"#d8576b\"],[0.6666666666666666,\"#ed7953\"],[0.7777777777777778,\"#fb9f3a\"],[0.8888888888888888,\"#fdca26\"],[1.0,\"#f0f921\"]],\"type\":\"surface\"}],\"table\":[{\"cells\":{\"fill\":{\"color\":\"#EBF0F8\"},\"line\":{\"color\":\"white\"}},\"header\":{\"fill\":{\"color\":\"#C8D4E3\"},\"line\":{\"color\":\"white\"}},\"type\":\"table\"}]},\"layout\":{\"annotationdefaults\":{\"arrowcolor\":\"#2a3f5f\",\"arrowhead\":0,\"arrowwidth\":1},\"autotypenumbers\":\"strict\",\"coloraxis\":{\"colorbar\":{\"outlinewidth\":0,\"ticks\":\"\"}},\"colorscale\":{\"diverging\":[[0,\"#8e0152\"],[0.1,\"#c51b7d\"],[0.2,\"#de77ae\"],[0.3,\"#f1b6da\"],[0.4,\"#fde0ef\"],[0.5,\"#f7f7f7\"],[0.6,\"#e6f5d0\"],[0.7,\"#b8e186\"],[0.8,\"#7fbc41\"],[0.9,\"#4d9221\"],[1,\"#276419\"]],\"sequential\":[[0.0,\"#0d0887\"],[0.1111111111111111,\"#46039f\"],[0.2222222222222222,\"#7201a8\"],[0.3333333333333333,\"#9c179e\"],[0.4444444444444444,\"#bd3786\"],[0.5555555555555556,\"#d8576b\"],[0.6666666666666666,\"#ed7953\"],[0.7777777777777778,\"#fb9f3a\"],[0.8888888888888888,\"#fdca26\"],[1.0,\"#f0f921\"]],\"sequentialminus\":[[0.0,\"#0d0887\"],[0.1111111111111111,\"#46039f\"],[0.2222222222222222,\"#7201a8\"],[0.3333333333333333,\"#9c179e\"],[0.4444444444444444,\"#bd3786\"],[0.5555555555555556,\"#d8576b\"],[0.6666666666666666,\"#ed7953\"],[0.7777777777777778,\"#fb9f3a\"],[0.8888888888888888,\"#fdca26\"],[1.0,\"#f0f921\"]]},\"colorway\":[\"#636efa\",\"#EF553B\",\"#00cc96\",\"#ab63fa\",\"#FFA15A\",\"#19d3f3\",\"#FF6692\",\"#B6E880\",\"#FF97FF\",\"#FECB52\"],\"font\":{\"color\":\"#2a3f5f\"},\"geo\":{\"bgcolor\":\"white\",\"lakecolor\":\"white\",\"landcolor\":\"white\",\"showlakes\":true,\"showland\":true,\"subunitcolor\":\"#C8D4E3\"},\"hoverlabel\":{\"align\":\"left\"},\"hovermode\":\"closest\",\"mapbox\":{\"style\":\"light\"},\"paper_bgcolor\":\"white\",\"plot_bgcolor\":\"white\",\"polar\":{\"angularaxis\":{\"gridcolor\":\"#EBF0F8\",\"linecolor\":\"#EBF0F8\",\"ticks\":\"\"},\"bgcolor\":\"white\",\"radialaxis\":{\"gridcolor\":\"#EBF0F8\",\"linecolor\":\"#EBF0F8\",\"ticks\":\"\"}},\"scene\":{\"xaxis\":{\"backgroundcolor\":\"white\",\"gridcolor\":\"#DFE8F3\",\"gridwidth\":2,\"linecolor\":\"#EBF0F8\",\"showbackground\":true,\"ticks\":\"\",\"zerolinecolor\":\"#EBF0F8\"},\"yaxis\":{\"backgroundcolor\":\"white\",\"gridcolor\":\"#DFE8F3\",\"gridwidth\":2,\"linecolor\":\"#EBF0F8\",\"showbackground\":true,\"ticks\":\"\",\"zerolinecolor\":\"#EBF0F8\"},\"zaxis\":{\"backgroundcolor\":\"white\",\"gridcolor\":\"#DFE8F3\",\"gridwidth\":2,\"linecolor\":\"#EBF0F8\",\"showbackground\":true,\"ticks\":\"\",\"zerolinecolor\":\"#EBF0F8\"}},\"shapedefaults\":{\"line\":{\"color\":\"#2a3f5f\"}},\"ternary\":{\"aaxis\":{\"gridcolor\":\"#DFE8F3\",\"linecolor\":\"#A2B1C6\",\"ticks\":\"\"},\"baxis\":{\"gridcolor\":\"#DFE8F3\",\"linecolor\":\"#A2B1C6\",\"ticks\":\"\"},\"bgcolor\":\"white\",\"caxis\":{\"gridcolor\":\"#DFE8F3\",\"linecolor\":\"#A2B1C6\",\"ticks\":\"\"}},\"title\":{\"x\":0.05},\"xaxis\":{\"automargin\":true,\"gridcolor\":\"#EBF0F8\",\"linecolor\":\"#EBF0F8\",\"ticks\":\"\",\"title\":{\"standoff\":15},\"zerolinecolor\":\"#EBF0F8\",\"zerolinewidth\":2},\"yaxis\":{\"automargin\":true,\"gridcolor\":\"#EBF0F8\",\"linecolor\":\"#EBF0F8\",\"ticks\":\"\",\"title\":{\"standoff\":15},\"zerolinecolor\":\"#EBF0F8\",\"zerolinewidth\":2}}},\"xaxis\":{\"anchor\":\"y\",\"domain\":[0.0,1.0],\"title\":{\"text\":\"Year\"}},\"yaxis\":{\"anchor\":\"x\",\"domain\":[0.0,1.0],\"title\":{\"text\":\"[Tonnes]\"}},\"legend\":{\"title\":{\"text\":\"variable\"},\"tracegroupgap\":0},\"margin\":{\"t\":60},\"title\":{\"text\":\"Cumulative Virgin Stock\"}},                        {\"responsive\": true}                    ).then(function(){\n",
       "                            \n",
       "var gd = document.getElementById('a372b2f9-1447-4050-bb89-92f49c45853a');\n",
       "var x = new MutationObserver(function (mutations, observer) {{\n",
       "        var display = window.getComputedStyle(gd).display;\n",
       "        if (!display || display === 'none') {{\n",
       "            console.log([gd, 'removed!']);\n",
       "            Plotly.purge(gd);\n",
       "            observer.disconnect();\n",
       "        }}\n",
       "}});\n",
       "\n",
       "// Listen for the removal of the full notebook cells\n",
       "var notebookContainer = gd.closest('#notebook-container');\n",
       "if (notebookContainer) {{\n",
       "    x.observe(notebookContainer, {childList: true});\n",
       "}}\n",
       "\n",
       "// Listen for the clearing of the current output cell\n",
       "var outputEl = gd.closest('.output');\n",
       "if (outputEl) {{\n",
       "    x.observe(outputEl, {childList: true});\n",
       "}}\n",
       "\n",
       "                        })                };                });            </script>        </div>"
      ]
     },
     "metadata": {},
     "output_type": "display_data"
    },
    {
     "data": {
      "application/vnd.plotly.v1+json": {
       "config": {
        "plotlyServerURL": "https://plot.ly"
       },
       "data": [
        {
         "hovertemplate": "Glass sim1 topcon",
         "legendgroup": "WasteAll_glass_sim1_TOPCon_[Tonnes]",
         "line": {
          "color": "#636efa",
          "dash": "solid"
         },
         "marker": {
          "symbol": "circle"
         },
         "mode": "lines",
         "name": "Glass sim1 topcon",
         "orientation": "v",
         "showlegend": true,
         "type": "scatter",
         "x": [
          2020,
          2021,
          2022,
          2023,
          2024,
          2025,
          2026,
          2027,
          2028,
          2029,
          2030,
          2031,
          2032,
          2033,
          2034,
          2035,
          2036,
          2037,
          2038,
          2039,
          2040,
          2041,
          2042,
          2043,
          2044,
          2045,
          2046,
          2047,
          2048,
          2049,
          2050
         ],
         "xaxis": "x",
         "y": [
          55957.16594964563,
          119238.18545621209,
          173964.80785503308,
          228778.96970948298,
          280729.49828502146,
          331201.3053151341,
          377612.8945482974,
          424897.6729752667,
          469240.1247003219,
          514549.40831132984,
          556688.4968203229,
          606811.1511784449,
          657003.2865030256,
          729835.8946532914,
          802899.90040724,
          885413.5613967981,
          968576.9032359672,
          1056378.706646645,
          1145779.942779387,
          1246230.9602420689,
          1350225.9806759995,
          1460781.4554126663,
          1578525.678860568,
          1716312.649027801,
          1867575.5099381076,
          2043035.5114124701,
          2241889.807282568,
          2474404.3122909847,
          2744283.0552513856,
          3068552.836694146,
          3446731.282846254
         ],
         "yaxis": "y"
        },
        {
         "hovertemplate": "Aluminium frames sim1 topcon",
         "legendgroup": "WasteAll_aluminium_frames_sim1_TOPCon_[Tonnes]",
         "line": {
          "color": "#EF553B",
          "dash": "solid"
         },
         "marker": {
          "symbol": "circle"
         },
         "mode": "lines",
         "name": "Aluminium frames sim1 topcon",
         "orientation": "v",
         "showlegend": true,
         "type": "scatter",
         "x": [
          2020,
          2021,
          2022,
          2023,
          2024,
          2025,
          2026,
          2027,
          2028,
          2029,
          2030,
          2031,
          2032,
          2033,
          2034,
          2035,
          2036,
          2037,
          2038,
          2039,
          2040,
          2041,
          2042,
          2043,
          2044,
          2045,
          2046,
          2047,
          2048,
          2049,
          2050
         ],
         "xaxis": "x",
         "y": [
          3280.189686514633,
          7008.890150108747,
          10314.332233010298,
          13789.358917244957,
          17198.133577587156,
          20632.291149760447,
          24013.96576329021,
          27621.79377567268,
          31174.67904326383,
          35120.908066895136,
          39008.34819175197,
          43594.46609693031,
          48187.76297117724,
          54853.76559296409,
          61543.55194395814,
          69102.18500382351,
          76727.3001097614,
          84787.76823806,
          93011.30037685821,
          102270.51289445747,
          111889.8972090436,
          122160.44504424947,
          133159.5263919445,
          146088.81462752182,
          160380.1729518943,
          177054.67980947235,
          196087.1903122169,
          218472.75579658351,
          244612.0184692998,
          276126.72746065597,
          313033.12890712323
         ],
         "yaxis": "y"
        },
        {
         "hovertemplate": "Silver sim1 topcon",
         "legendgroup": "WasteAll_silver_sim1_TOPCon_[Tonnes]",
         "line": {
          "color": "#00cc96",
          "dash": "solid"
         },
         "marker": {
          "symbol": "circle"
         },
         "mode": "lines",
         "name": "Silver sim1 topcon",
         "orientation": "v",
         "showlegend": true,
         "type": "scatter",
         "x": [
          2020,
          2021,
          2022,
          2023,
          2024,
          2025,
          2026,
          2027,
          2028,
          2029,
          2030,
          2031,
          2032,
          2033,
          2034,
          2035,
          2036,
          2037,
          2038,
          2039,
          2040,
          2041,
          2042,
          2043,
          2044,
          2045,
          2046,
          2047,
          2048,
          2049,
          2050
         ],
         "xaxis": "x",
         "y": [
          129.52925746388746,
          278.5537617495662,
          407.0768825287094,
          538.293359555301,
          662.3123449389366,
          782.4112228958618,
          895.3360209766893,
          1010.023526781069,
          1117.165940227213,
          1229.6164240359626,
          1333.8080630808213,
          1456.506498836595,
          1578.063949597899,
          1752.6140139529582,
          1925.5697069873554,
          2118.3447105844275,
          2309.5030664041033,
          2507.543422870407,
          2704.3105679794303,
          2919.7204635968633,
          3134.5247504231543,
          3352.653615717775,
          3571.763118297206,
          3814.9911365328585,
          4061.739956555681,
          4327.267177039297,
          4600.51470053842,
          4892.116707978449,
          5197.402070110333,
          5537.829513662234,
          5898.745996866065
         ],
         "yaxis": "y"
        },
        {
         "hovertemplate": "Silicon sim1 topcon",
         "legendgroup": "WasteAll_silicon_sim1_TOPCon_[Tonnes]",
         "line": {
          "color": "#ab63fa",
          "dash": "solid"
         },
         "marker": {
          "symbol": "circle"
         },
         "mode": "lines",
         "name": "Silicon sim1 topcon",
         "orientation": "v",
         "showlegend": true,
         "type": "scatter",
         "x": [
          2020,
          2021,
          2022,
          2023,
          2024,
          2025,
          2026,
          2027,
          2028,
          2029,
          2030,
          2031,
          2032,
          2033,
          2034,
          2035,
          2036,
          2037,
          2038,
          2039,
          2040,
          2041,
          2042,
          2043,
          2044,
          2045,
          2046,
          2047,
          2048,
          2049,
          2050
         ],
         "xaxis": "x",
         "y": [
          16637.909343534047,
          36748.217912583284,
          55125.24888245262,
          73186.56736993461,
          89334.28191464252,
          105107.61436958339,
          120187.81942763182,
          135910.12677817314,
          150950.30735503577,
          167167.1161073719,
          182806.8059148337,
          201270.3231009282,
          219736.03056789935,
          246507.4812978701,
          273286.19904768287,
          303416.5746420771,
          333567.28336612665,
          365079.48579001665,
          396641.59327481064,
          431465.2645619793,
          466399.2161318554,
          502030.38945146394,
          537884.7087880705,
          577774.0389366386,
          618080.6845286703,
          661253.1331555425,
          705148.2293861273,
          751352.5468545833,
          798707.5644204576,
          850728.8044461062,
          904403.3525807138
         ],
         "yaxis": "y"
        },
        {
         "hovertemplate": "Copper sim1 topcon",
         "legendgroup": "WasteAll_copper_sim1_TOPCon_[Tonnes]",
         "line": {
          "color": "#FFA15A",
          "dash": "solid"
         },
         "marker": {
          "symbol": "circle"
         },
         "mode": "lines",
         "name": "Copper sim1 topcon",
         "orientation": "v",
         "showlegend": true,
         "type": "scatter",
         "x": [
          2020,
          2021,
          2022,
          2023,
          2024,
          2025,
          2026,
          2027,
          2028,
          2029,
          2030,
          2031,
          2032,
          2033,
          2034,
          2035,
          2036,
          2037,
          2038,
          2039,
          2040,
          2041,
          2042,
          2043,
          2044,
          2045,
          2046,
          2047,
          2048,
          2049,
          2050
         ],
         "xaxis": "x",
         "y": [
          87.46269841648245,
          193.041876508906,
          288.75655849139446,
          392.019529764709,
          495.38139318449316,
          597.4781847480579,
          695.568301892586,
          797.5648287182571,
          895.1907948073205,
          1000.4376952506573,
          1100.9060337228389,
          1220.3578996705803,
          1339.8567321936853,
          1513.1386351100289,
          1686.5770536237956,
          1881.8811593853738,
          2077.624867294003,
          2282.665625484956,
          2488.7888344573066,
          2717.152988310382,
          2947.915799677454,
          3185.6147099645696,
          3428.179106551455,
          3701.5746339492653,
          3984.0903337515424,
          4293.6890742464475,
          4619.118426952375,
          4973.748903382818,
          5353.656840448149,
          5785.490582085659,
          6253.7753403815595
         ],
         "yaxis": "y"
        },
        {
         "hovertemplate": "Encapsulant sim1 topcon",
         "legendgroup": "WasteAll_encapsulant_sim1_TOPCon_[Tonnes]",
         "line": {
          "color": "#19d3f3",
          "dash": "solid"
         },
         "marker": {
          "symbol": "circle"
         },
         "mode": "lines",
         "name": "Encapsulant sim1 topcon",
         "orientation": "v",
         "showlegend": true,
         "type": "scatter",
         "x": [
          2020,
          2021,
          2022,
          2023,
          2024,
          2025,
          2026,
          2027,
          2028,
          2029,
          2030,
          2031,
          2032,
          2033,
          2034,
          2035,
          2036,
          2037,
          2038,
          2039,
          2040,
          2041,
          2042,
          2043,
          2044,
          2045,
          2046,
          2047,
          2048,
          2049,
          2050
         ],
         "xaxis": "x",
         "y": [
          2073.7147523957137,
          4446.943719603141,
          6515.482379704489,
          8715.716527555262,
          10836.858153620185,
          12897.363007121303,
          14862.172813290117,
          16939.2214689763,
          18965.08608963759,
          21240.054808838493,
          23504.966299680847,
          26205.565019201727,
          28910.81747470991,
          32837.225280591694,
          36779.03191107434,
          41234.75581559617,
          45733.46658312017,
          50494.56595728664,
          55360.96311121027,
          60851.01628710867,
          66573.35748871634,
          72707.95160219478,
          79311.84112477666,
          87107.51262420854,
          95779.53310676548,
          105952.81656384646,
          117641.25991655176,
          131464.3058294056,
          147695.49077143046,
          167329.51706344401,
          190414.70969985562
         ],
         "yaxis": "y"
        },
        {
         "hovertemplate": "Backsheet sim1 topcon",
         "legendgroup": "WasteAll_backsheet_sim1_TOPCon_[Tonnes]",
         "line": {
          "color": "#FF6692",
          "dash": "solid"
         },
         "marker": {
          "symbol": "circle"
         },
         "mode": "lines",
         "name": "Backsheet sim1 topcon",
         "orientation": "v",
         "showlegend": true,
         "type": "scatter",
         "x": [
          2020,
          2021,
          2022,
          2023,
          2024,
          2025,
          2026,
          2027,
          2028,
          2029,
          2030,
          2031,
          2032,
          2033,
          2034,
          2035,
          2036,
          2037,
          2038,
          2039,
          2040,
          2041,
          2042,
          2043,
          2044,
          2045,
          2046,
          2047,
          2048,
          2049,
          2050
         ],
         "xaxis": "x",
         "y": [
          1973.895906117302,
          4213.800235174596,
          6181.913408213135,
          8231.423036694992,
          10237.093930759578,
          12255.242450636186,
          14177.944800587298,
          16152.971033783137,
          18022.040360758852,
          20002.153588648824,
          21860.255488277955,
          23941.602951884168,
          26025.311233164506,
          29048.378808957557,
          32079.257769289856,
          35499.51106513382,
          38941.57327506487,
          42567.965379096124,
          46247.791342568555,
          50366.810409033154,
          54603.73694640748,
          59070.678236416665,
          63775.89752874799,
          69229.63738109395,
          75128.45845721487,
          81878.68530504612,
          89398.65887996226,
          98056.5165662557,
          107938.16666706138,
          119674.80539152381,
          133165.93896802
         ],
         "yaxis": "y"
        },
        {
         "hovertemplate": "Module sim1 topcon",
         "legendgroup": "WasteAll_Module_sim1_TOPCon_[Tonnes]",
         "line": {
          "color": "#B6E880",
          "dash": "solid"
         },
         "marker": {
          "symbol": "circle"
         },
         "mode": "lines",
         "name": "Module sim1 topcon",
         "orientation": "v",
         "showlegend": true,
         "type": "scatter",
         "x": [
          2020,
          2021,
          2022,
          2023,
          2024,
          2025,
          2026,
          2027,
          2028,
          2029,
          2030,
          2031,
          2032,
          2033,
          2034,
          2035,
          2036,
          2037,
          2038,
          2039,
          2040,
          2041,
          2042,
          2043,
          2044,
          2045,
          2046,
          2047,
          2048,
          2049,
          2050
         ],
         "xaxis": "x",
         "y": [
          80139.86759408771,
          172127.63311194035,
          252797.61819943375,
          333632.3484502328,
          409493.5595997544,
          483473.70569987944,
          552445.7016759661,
          623329.3743873714,
          690364.5942840525,
          760309.6950023709,
          826303.586811671,
          904499.9727458963,
          982781.1294317681,
          1096348.4982827378,
          1210200.0878398563,
          1338666.8137933984,
          1467933.6545037383,
          1604098.7010594597,
          1742234.6902872715,
          1896821.4378465547,
          2055774.6290021231,
          2223289.188072674,
          2399657.594918957,
          2604029.2183677466,
          2824990.18927296,
          3077795.782497664,
          3359384.7789049176,
          3683616.302949175,
          4053787.354490194,
          4493736.011151625,
          4999900.934339215
         ],
         "yaxis": "y"
        }
       ],
       "layout": {
        "legend": {
         "title": {
          "text": "variable"
         },
         "tracegroupgap": 0
        },
        "margin": {
         "t": 60
        },
        "template": {
         "data": {
          "bar": [
           {
            "error_x": {
             "color": "#2a3f5f"
            },
            "error_y": {
             "color": "#2a3f5f"
            },
            "marker": {
             "line": {
              "color": "white",
              "width": 0.5
             },
             "pattern": {
              "fillmode": "overlay",
              "size": 10,
              "solidity": 0.2
             }
            },
            "type": "bar"
           }
          ],
          "barpolar": [
           {
            "marker": {
             "line": {
              "color": "white",
              "width": 0.5
             },
             "pattern": {
              "fillmode": "overlay",
              "size": 10,
              "solidity": 0.2
             }
            },
            "type": "barpolar"
           }
          ],
          "carpet": [
           {
            "aaxis": {
             "endlinecolor": "#2a3f5f",
             "gridcolor": "#C8D4E3",
             "linecolor": "#C8D4E3",
             "minorgridcolor": "#C8D4E3",
             "startlinecolor": "#2a3f5f"
            },
            "baxis": {
             "endlinecolor": "#2a3f5f",
             "gridcolor": "#C8D4E3",
             "linecolor": "#C8D4E3",
             "minorgridcolor": "#C8D4E3",
             "startlinecolor": "#2a3f5f"
            },
            "type": "carpet"
           }
          ],
          "choropleth": [
           {
            "colorbar": {
             "outlinewidth": 0,
             "ticks": ""
            },
            "type": "choropleth"
           }
          ],
          "contour": [
           {
            "colorbar": {
             "outlinewidth": 0,
             "ticks": ""
            },
            "colorscale": [
             [
              0,
              "#0d0887"
             ],
             [
              0.1111111111111111,
              "#46039f"
             ],
             [
              0.2222222222222222,
              "#7201a8"
             ],
             [
              0.3333333333333333,
              "#9c179e"
             ],
             [
              0.4444444444444444,
              "#bd3786"
             ],
             [
              0.5555555555555556,
              "#d8576b"
             ],
             [
              0.6666666666666666,
              "#ed7953"
             ],
             [
              0.7777777777777778,
              "#fb9f3a"
             ],
             [
              0.8888888888888888,
              "#fdca26"
             ],
             [
              1,
              "#f0f921"
             ]
            ],
            "type": "contour"
           }
          ],
          "contourcarpet": [
           {
            "colorbar": {
             "outlinewidth": 0,
             "ticks": ""
            },
            "type": "contourcarpet"
           }
          ],
          "heatmap": [
           {
            "colorbar": {
             "outlinewidth": 0,
             "ticks": ""
            },
            "colorscale": [
             [
              0,
              "#0d0887"
             ],
             [
              0.1111111111111111,
              "#46039f"
             ],
             [
              0.2222222222222222,
              "#7201a8"
             ],
             [
              0.3333333333333333,
              "#9c179e"
             ],
             [
              0.4444444444444444,
              "#bd3786"
             ],
             [
              0.5555555555555556,
              "#d8576b"
             ],
             [
              0.6666666666666666,
              "#ed7953"
             ],
             [
              0.7777777777777778,
              "#fb9f3a"
             ],
             [
              0.8888888888888888,
              "#fdca26"
             ],
             [
              1,
              "#f0f921"
             ]
            ],
            "type": "heatmap"
           }
          ],
          "heatmapgl": [
           {
            "colorbar": {
             "outlinewidth": 0,
             "ticks": ""
            },
            "colorscale": [
             [
              0,
              "#0d0887"
             ],
             [
              0.1111111111111111,
              "#46039f"
             ],
             [
              0.2222222222222222,
              "#7201a8"
             ],
             [
              0.3333333333333333,
              "#9c179e"
             ],
             [
              0.4444444444444444,
              "#bd3786"
             ],
             [
              0.5555555555555556,
              "#d8576b"
             ],
             [
              0.6666666666666666,
              "#ed7953"
             ],
             [
              0.7777777777777778,
              "#fb9f3a"
             ],
             [
              0.8888888888888888,
              "#fdca26"
             ],
             [
              1,
              "#f0f921"
             ]
            ],
            "type": "heatmapgl"
           }
          ],
          "histogram": [
           {
            "marker": {
             "pattern": {
              "fillmode": "overlay",
              "size": 10,
              "solidity": 0.2
             }
            },
            "type": "histogram"
           }
          ],
          "histogram2d": [
           {
            "colorbar": {
             "outlinewidth": 0,
             "ticks": ""
            },
            "colorscale": [
             [
              0,
              "#0d0887"
             ],
             [
              0.1111111111111111,
              "#46039f"
             ],
             [
              0.2222222222222222,
              "#7201a8"
             ],
             [
              0.3333333333333333,
              "#9c179e"
             ],
             [
              0.4444444444444444,
              "#bd3786"
             ],
             [
              0.5555555555555556,
              "#d8576b"
             ],
             [
              0.6666666666666666,
              "#ed7953"
             ],
             [
              0.7777777777777778,
              "#fb9f3a"
             ],
             [
              0.8888888888888888,
              "#fdca26"
             ],
             [
              1,
              "#f0f921"
             ]
            ],
            "type": "histogram2d"
           }
          ],
          "histogram2dcontour": [
           {
            "colorbar": {
             "outlinewidth": 0,
             "ticks": ""
            },
            "colorscale": [
             [
              0,
              "#0d0887"
             ],
             [
              0.1111111111111111,
              "#46039f"
             ],
             [
              0.2222222222222222,
              "#7201a8"
             ],
             [
              0.3333333333333333,
              "#9c179e"
             ],
             [
              0.4444444444444444,
              "#bd3786"
             ],
             [
              0.5555555555555556,
              "#d8576b"
             ],
             [
              0.6666666666666666,
              "#ed7953"
             ],
             [
              0.7777777777777778,
              "#fb9f3a"
             ],
             [
              0.8888888888888888,
              "#fdca26"
             ],
             [
              1,
              "#f0f921"
             ]
            ],
            "type": "histogram2dcontour"
           }
          ],
          "mesh3d": [
           {
            "colorbar": {
             "outlinewidth": 0,
             "ticks": ""
            },
            "type": "mesh3d"
           }
          ],
          "parcoords": [
           {
            "line": {
             "colorbar": {
              "outlinewidth": 0,
              "ticks": ""
             }
            },
            "type": "parcoords"
           }
          ],
          "pie": [
           {
            "automargin": true,
            "type": "pie"
           }
          ],
          "scatter": [
           {
            "fillpattern": {
             "fillmode": "overlay",
             "size": 10,
             "solidity": 0.2
            },
            "type": "scatter"
           }
          ],
          "scatter3d": [
           {
            "line": {
             "colorbar": {
              "outlinewidth": 0,
              "ticks": ""
             }
            },
            "marker": {
             "colorbar": {
              "outlinewidth": 0,
              "ticks": ""
             }
            },
            "type": "scatter3d"
           }
          ],
          "scattercarpet": [
           {
            "marker": {
             "colorbar": {
              "outlinewidth": 0,
              "ticks": ""
             }
            },
            "type": "scattercarpet"
           }
          ],
          "scattergeo": [
           {
            "marker": {
             "colorbar": {
              "outlinewidth": 0,
              "ticks": ""
             }
            },
            "type": "scattergeo"
           }
          ],
          "scattergl": [
           {
            "marker": {
             "colorbar": {
              "outlinewidth": 0,
              "ticks": ""
             }
            },
            "type": "scattergl"
           }
          ],
          "scattermapbox": [
           {
            "marker": {
             "colorbar": {
              "outlinewidth": 0,
              "ticks": ""
             }
            },
            "type": "scattermapbox"
           }
          ],
          "scatterpolar": [
           {
            "marker": {
             "colorbar": {
              "outlinewidth": 0,
              "ticks": ""
             }
            },
            "type": "scatterpolar"
           }
          ],
          "scatterpolargl": [
           {
            "marker": {
             "colorbar": {
              "outlinewidth": 0,
              "ticks": ""
             }
            },
            "type": "scatterpolargl"
           }
          ],
          "scatterternary": [
           {
            "marker": {
             "colorbar": {
              "outlinewidth": 0,
              "ticks": ""
             }
            },
            "type": "scatterternary"
           }
          ],
          "surface": [
           {
            "colorbar": {
             "outlinewidth": 0,
             "ticks": ""
            },
            "colorscale": [
             [
              0,
              "#0d0887"
             ],
             [
              0.1111111111111111,
              "#46039f"
             ],
             [
              0.2222222222222222,
              "#7201a8"
             ],
             [
              0.3333333333333333,
              "#9c179e"
             ],
             [
              0.4444444444444444,
              "#bd3786"
             ],
             [
              0.5555555555555556,
              "#d8576b"
             ],
             [
              0.6666666666666666,
              "#ed7953"
             ],
             [
              0.7777777777777778,
              "#fb9f3a"
             ],
             [
              0.8888888888888888,
              "#fdca26"
             ],
             [
              1,
              "#f0f921"
             ]
            ],
            "type": "surface"
           }
          ],
          "table": [
           {
            "cells": {
             "fill": {
              "color": "#EBF0F8"
             },
             "line": {
              "color": "white"
             }
            },
            "header": {
             "fill": {
              "color": "#C8D4E3"
             },
             "line": {
              "color": "white"
             }
            },
            "type": "table"
           }
          ]
         },
         "layout": {
          "annotationdefaults": {
           "arrowcolor": "#2a3f5f",
           "arrowhead": 0,
           "arrowwidth": 1
          },
          "autotypenumbers": "strict",
          "coloraxis": {
           "colorbar": {
            "outlinewidth": 0,
            "ticks": ""
           }
          },
          "colorscale": {
           "diverging": [
            [
             0,
             "#8e0152"
            ],
            [
             0.1,
             "#c51b7d"
            ],
            [
             0.2,
             "#de77ae"
            ],
            [
             0.3,
             "#f1b6da"
            ],
            [
             0.4,
             "#fde0ef"
            ],
            [
             0.5,
             "#f7f7f7"
            ],
            [
             0.6,
             "#e6f5d0"
            ],
            [
             0.7,
             "#b8e186"
            ],
            [
             0.8,
             "#7fbc41"
            ],
            [
             0.9,
             "#4d9221"
            ],
            [
             1,
             "#276419"
            ]
           ],
           "sequential": [
            [
             0,
             "#0d0887"
            ],
            [
             0.1111111111111111,
             "#46039f"
            ],
            [
             0.2222222222222222,
             "#7201a8"
            ],
            [
             0.3333333333333333,
             "#9c179e"
            ],
            [
             0.4444444444444444,
             "#bd3786"
            ],
            [
             0.5555555555555556,
             "#d8576b"
            ],
            [
             0.6666666666666666,
             "#ed7953"
            ],
            [
             0.7777777777777778,
             "#fb9f3a"
            ],
            [
             0.8888888888888888,
             "#fdca26"
            ],
            [
             1,
             "#f0f921"
            ]
           ],
           "sequentialminus": [
            [
             0,
             "#0d0887"
            ],
            [
             0.1111111111111111,
             "#46039f"
            ],
            [
             0.2222222222222222,
             "#7201a8"
            ],
            [
             0.3333333333333333,
             "#9c179e"
            ],
            [
             0.4444444444444444,
             "#bd3786"
            ],
            [
             0.5555555555555556,
             "#d8576b"
            ],
            [
             0.6666666666666666,
             "#ed7953"
            ],
            [
             0.7777777777777778,
             "#fb9f3a"
            ],
            [
             0.8888888888888888,
             "#fdca26"
            ],
            [
             1,
             "#f0f921"
            ]
           ]
          },
          "colorway": [
           "#636efa",
           "#EF553B",
           "#00cc96",
           "#ab63fa",
           "#FFA15A",
           "#19d3f3",
           "#FF6692",
           "#B6E880",
           "#FF97FF",
           "#FECB52"
          ],
          "font": {
           "color": "#2a3f5f"
          },
          "geo": {
           "bgcolor": "white",
           "lakecolor": "white",
           "landcolor": "white",
           "showlakes": true,
           "showland": true,
           "subunitcolor": "#C8D4E3"
          },
          "hoverlabel": {
           "align": "left"
          },
          "hovermode": "closest",
          "mapbox": {
           "style": "light"
          },
          "paper_bgcolor": "white",
          "plot_bgcolor": "white",
          "polar": {
           "angularaxis": {
            "gridcolor": "#EBF0F8",
            "linecolor": "#EBF0F8",
            "ticks": ""
           },
           "bgcolor": "white",
           "radialaxis": {
            "gridcolor": "#EBF0F8",
            "linecolor": "#EBF0F8",
            "ticks": ""
           }
          },
          "scene": {
           "xaxis": {
            "backgroundcolor": "white",
            "gridcolor": "#DFE8F3",
            "gridwidth": 2,
            "linecolor": "#EBF0F8",
            "showbackground": true,
            "ticks": "",
            "zerolinecolor": "#EBF0F8"
           },
           "yaxis": {
            "backgroundcolor": "white",
            "gridcolor": "#DFE8F3",
            "gridwidth": 2,
            "linecolor": "#EBF0F8",
            "showbackground": true,
            "ticks": "",
            "zerolinecolor": "#EBF0F8"
           },
           "zaxis": {
            "backgroundcolor": "white",
            "gridcolor": "#DFE8F3",
            "gridwidth": 2,
            "linecolor": "#EBF0F8",
            "showbackground": true,
            "ticks": "",
            "zerolinecolor": "#EBF0F8"
           }
          },
          "shapedefaults": {
           "line": {
            "color": "#2a3f5f"
           }
          },
          "ternary": {
           "aaxis": {
            "gridcolor": "#DFE8F3",
            "linecolor": "#A2B1C6",
            "ticks": ""
           },
           "baxis": {
            "gridcolor": "#DFE8F3",
            "linecolor": "#A2B1C6",
            "ticks": ""
           },
           "bgcolor": "white",
           "caxis": {
            "gridcolor": "#DFE8F3",
            "linecolor": "#A2B1C6",
            "ticks": ""
           }
          },
          "title": {
           "x": 0.05
          },
          "xaxis": {
           "automargin": true,
           "gridcolor": "#EBF0F8",
           "linecolor": "#EBF0F8",
           "ticks": "",
           "title": {
            "standoff": 15
           },
           "zerolinecolor": "#EBF0F8",
           "zerolinewidth": 2
          },
          "yaxis": {
           "automargin": true,
           "gridcolor": "#EBF0F8",
           "linecolor": "#EBF0F8",
           "ticks": "",
           "title": {
            "standoff": 15
           },
           "zerolinecolor": "#EBF0F8",
           "zerolinewidth": 2
          }
         }
        },
        "title": {
         "text": "Cumulative Waste All"
        },
        "xaxis": {
         "anchor": "y",
         "domain": [
          0,
          1
         ],
         "title": {
          "text": "Year"
         }
        },
        "yaxis": {
         "anchor": "x",
         "domain": [
          0,
          1
         ],
         "title": {
          "text": "[Tonnes]"
         }
        }
       }
      },
      "text/html": [
       "<div>                            <div id=\"ebeeb722-73f1-4298-b5c6-21879ebda275\" class=\"plotly-graph-div\" style=\"height:525px; width:100%;\"></div>            <script type=\"text/javascript\">                require([\"plotly\"], function(Plotly) {                    window.PLOTLYENV=window.PLOTLYENV || {};                                    if (document.getElementById(\"ebeeb722-73f1-4298-b5c6-21879ebda275\")) {                    Plotly.newPlot(                        \"ebeeb722-73f1-4298-b5c6-21879ebda275\",                        [{\"hovertemplate\":\"Glass sim1 topcon\",\"legendgroup\":\"WasteAll_glass_sim1_TOPCon_[Tonnes]\",\"line\":{\"color\":\"#636efa\",\"dash\":\"solid\"},\"marker\":{\"symbol\":\"circle\"},\"mode\":\"lines\",\"name\":\"Glass sim1 topcon\",\"orientation\":\"v\",\"showlegend\":true,\"x\":[2020,2021,2022,2023,2024,2025,2026,2027,2028,2029,2030,2031,2032,2033,2034,2035,2036,2037,2038,2039,2040,2041,2042,2043,2044,2045,2046,2047,2048,2049,2050],\"xaxis\":\"x\",\"y\":[55957.16594964563,119238.18545621209,173964.80785503308,228778.96970948298,280729.49828502146,331201.3053151341,377612.8945482974,424897.6729752667,469240.1247003219,514549.40831132984,556688.4968203229,606811.1511784449,657003.2865030256,729835.8946532914,802899.90040724,885413.5613967981,968576.9032359672,1056378.706646645,1145779.942779387,1246230.9602420689,1350225.9806759995,1460781.4554126663,1578525.678860568,1716312.649027801,1867575.5099381076,2043035.5114124701,2241889.807282568,2474404.3122909847,2744283.0552513856,3068552.836694146,3446731.282846254],\"yaxis\":\"y\",\"type\":\"scatter\"},{\"hovertemplate\":\"Aluminium frames sim1 topcon\",\"legendgroup\":\"WasteAll_aluminium_frames_sim1_TOPCon_[Tonnes]\",\"line\":{\"color\":\"#EF553B\",\"dash\":\"solid\"},\"marker\":{\"symbol\":\"circle\"},\"mode\":\"lines\",\"name\":\"Aluminium frames sim1 topcon\",\"orientation\":\"v\",\"showlegend\":true,\"x\":[2020,2021,2022,2023,2024,2025,2026,2027,2028,2029,2030,2031,2032,2033,2034,2035,2036,2037,2038,2039,2040,2041,2042,2043,2044,2045,2046,2047,2048,2049,2050],\"xaxis\":\"x\",\"y\":[3280.189686514633,7008.890150108747,10314.332233010298,13789.358917244957,17198.133577587156,20632.291149760447,24013.96576329021,27621.79377567268,31174.67904326383,35120.908066895136,39008.34819175197,43594.46609693031,48187.76297117724,54853.76559296409,61543.55194395814,69102.18500382351,76727.3001097614,84787.76823806,93011.30037685821,102270.51289445747,111889.8972090436,122160.44504424947,133159.5263919445,146088.81462752182,160380.1729518943,177054.67980947235,196087.1903122169,218472.75579658351,244612.0184692998,276126.72746065597,313033.12890712323],\"yaxis\":\"y\",\"type\":\"scatter\"},{\"hovertemplate\":\"Silver sim1 topcon\",\"legendgroup\":\"WasteAll_silver_sim1_TOPCon_[Tonnes]\",\"line\":{\"color\":\"#00cc96\",\"dash\":\"solid\"},\"marker\":{\"symbol\":\"circle\"},\"mode\":\"lines\",\"name\":\"Silver sim1 topcon\",\"orientation\":\"v\",\"showlegend\":true,\"x\":[2020,2021,2022,2023,2024,2025,2026,2027,2028,2029,2030,2031,2032,2033,2034,2035,2036,2037,2038,2039,2040,2041,2042,2043,2044,2045,2046,2047,2048,2049,2050],\"xaxis\":\"x\",\"y\":[129.52925746388746,278.5537617495662,407.0768825287094,538.293359555301,662.3123449389366,782.4112228958618,895.3360209766893,1010.023526781069,1117.165940227213,1229.6164240359626,1333.8080630808213,1456.506498836595,1578.063949597899,1752.6140139529582,1925.5697069873554,2118.3447105844275,2309.5030664041033,2507.543422870407,2704.3105679794303,2919.7204635968633,3134.5247504231543,3352.653615717775,3571.763118297206,3814.9911365328585,4061.739956555681,4327.267177039297,4600.51470053842,4892.116707978449,5197.402070110333,5537.829513662234,5898.745996866065],\"yaxis\":\"y\",\"type\":\"scatter\"},{\"hovertemplate\":\"Silicon sim1 topcon\",\"legendgroup\":\"WasteAll_silicon_sim1_TOPCon_[Tonnes]\",\"line\":{\"color\":\"#ab63fa\",\"dash\":\"solid\"},\"marker\":{\"symbol\":\"circle\"},\"mode\":\"lines\",\"name\":\"Silicon sim1 topcon\",\"orientation\":\"v\",\"showlegend\":true,\"x\":[2020,2021,2022,2023,2024,2025,2026,2027,2028,2029,2030,2031,2032,2033,2034,2035,2036,2037,2038,2039,2040,2041,2042,2043,2044,2045,2046,2047,2048,2049,2050],\"xaxis\":\"x\",\"y\":[16637.909343534047,36748.217912583284,55125.24888245262,73186.56736993461,89334.28191464252,105107.61436958339,120187.81942763182,135910.12677817314,150950.30735503577,167167.1161073719,182806.8059148337,201270.3231009282,219736.03056789935,246507.4812978701,273286.19904768287,303416.5746420771,333567.28336612665,365079.48579001665,396641.59327481064,431465.2645619793,466399.2161318554,502030.38945146394,537884.7087880705,577774.0389366386,618080.6845286703,661253.1331555425,705148.2293861273,751352.5468545833,798707.5644204576,850728.8044461062,904403.3525807138],\"yaxis\":\"y\",\"type\":\"scatter\"},{\"hovertemplate\":\"Copper sim1 topcon\",\"legendgroup\":\"WasteAll_copper_sim1_TOPCon_[Tonnes]\",\"line\":{\"color\":\"#FFA15A\",\"dash\":\"solid\"},\"marker\":{\"symbol\":\"circle\"},\"mode\":\"lines\",\"name\":\"Copper sim1 topcon\",\"orientation\":\"v\",\"showlegend\":true,\"x\":[2020,2021,2022,2023,2024,2025,2026,2027,2028,2029,2030,2031,2032,2033,2034,2035,2036,2037,2038,2039,2040,2041,2042,2043,2044,2045,2046,2047,2048,2049,2050],\"xaxis\":\"x\",\"y\":[87.46269841648245,193.041876508906,288.75655849139446,392.019529764709,495.38139318449316,597.4781847480579,695.568301892586,797.5648287182571,895.1907948073205,1000.4376952506573,1100.9060337228389,1220.3578996705803,1339.8567321936853,1513.1386351100289,1686.5770536237956,1881.8811593853738,2077.624867294003,2282.665625484956,2488.7888344573066,2717.152988310382,2947.915799677454,3185.6147099645696,3428.179106551455,3701.5746339492653,3984.0903337515424,4293.6890742464475,4619.118426952375,4973.748903382818,5353.656840448149,5785.490582085659,6253.7753403815595],\"yaxis\":\"y\",\"type\":\"scatter\"},{\"hovertemplate\":\"Encapsulant sim1 topcon\",\"legendgroup\":\"WasteAll_encapsulant_sim1_TOPCon_[Tonnes]\",\"line\":{\"color\":\"#19d3f3\",\"dash\":\"solid\"},\"marker\":{\"symbol\":\"circle\"},\"mode\":\"lines\",\"name\":\"Encapsulant sim1 topcon\",\"orientation\":\"v\",\"showlegend\":true,\"x\":[2020,2021,2022,2023,2024,2025,2026,2027,2028,2029,2030,2031,2032,2033,2034,2035,2036,2037,2038,2039,2040,2041,2042,2043,2044,2045,2046,2047,2048,2049,2050],\"xaxis\":\"x\",\"y\":[2073.7147523957137,4446.943719603141,6515.482379704489,8715.716527555262,10836.858153620185,12897.363007121303,14862.172813290117,16939.2214689763,18965.08608963759,21240.054808838493,23504.966299680847,26205.565019201727,28910.81747470991,32837.225280591694,36779.03191107434,41234.75581559617,45733.46658312017,50494.56595728664,55360.96311121027,60851.01628710867,66573.35748871634,72707.95160219478,79311.84112477666,87107.51262420854,95779.53310676548,105952.81656384646,117641.25991655176,131464.3058294056,147695.49077143046,167329.51706344401,190414.70969985562],\"yaxis\":\"y\",\"type\":\"scatter\"},{\"hovertemplate\":\"Backsheet sim1 topcon\",\"legendgroup\":\"WasteAll_backsheet_sim1_TOPCon_[Tonnes]\",\"line\":{\"color\":\"#FF6692\",\"dash\":\"solid\"},\"marker\":{\"symbol\":\"circle\"},\"mode\":\"lines\",\"name\":\"Backsheet sim1 topcon\",\"orientation\":\"v\",\"showlegend\":true,\"x\":[2020,2021,2022,2023,2024,2025,2026,2027,2028,2029,2030,2031,2032,2033,2034,2035,2036,2037,2038,2039,2040,2041,2042,2043,2044,2045,2046,2047,2048,2049,2050],\"xaxis\":\"x\",\"y\":[1973.895906117302,4213.800235174596,6181.913408213135,8231.423036694992,10237.093930759578,12255.242450636186,14177.944800587298,16152.971033783137,18022.040360758852,20002.153588648824,21860.255488277955,23941.602951884168,26025.311233164506,29048.378808957557,32079.257769289856,35499.51106513382,38941.57327506487,42567.965379096124,46247.791342568555,50366.810409033154,54603.73694640748,59070.678236416665,63775.89752874799,69229.63738109395,75128.45845721487,81878.68530504612,89398.65887996226,98056.5165662557,107938.16666706138,119674.80539152381,133165.93896802],\"yaxis\":\"y\",\"type\":\"scatter\"},{\"hovertemplate\":\"Module sim1 topcon\",\"legendgroup\":\"WasteAll_Module_sim1_TOPCon_[Tonnes]\",\"line\":{\"color\":\"#B6E880\",\"dash\":\"solid\"},\"marker\":{\"symbol\":\"circle\"},\"mode\":\"lines\",\"name\":\"Module sim1 topcon\",\"orientation\":\"v\",\"showlegend\":true,\"x\":[2020,2021,2022,2023,2024,2025,2026,2027,2028,2029,2030,2031,2032,2033,2034,2035,2036,2037,2038,2039,2040,2041,2042,2043,2044,2045,2046,2047,2048,2049,2050],\"xaxis\":\"x\",\"y\":[80139.86759408771,172127.63311194035,252797.61819943375,333632.3484502328,409493.5595997544,483473.70569987944,552445.7016759661,623329.3743873714,690364.5942840525,760309.6950023709,826303.586811671,904499.9727458963,982781.1294317681,1096348.4982827378,1210200.0878398563,1338666.8137933984,1467933.6545037383,1604098.7010594597,1742234.6902872715,1896821.4378465547,2055774.6290021231,2223289.188072674,2399657.594918957,2604029.2183677466,2824990.18927296,3077795.782497664,3359384.7789049176,3683616.302949175,4053787.354490194,4493736.011151625,4999900.934339215],\"yaxis\":\"y\",\"type\":\"scatter\"}],                        {\"template\":{\"data\":{\"barpolar\":[{\"marker\":{\"line\":{\"color\":\"white\",\"width\":0.5},\"pattern\":{\"fillmode\":\"overlay\",\"size\":10,\"solidity\":0.2}},\"type\":\"barpolar\"}],\"bar\":[{\"error_x\":{\"color\":\"#2a3f5f\"},\"error_y\":{\"color\":\"#2a3f5f\"},\"marker\":{\"line\":{\"color\":\"white\",\"width\":0.5},\"pattern\":{\"fillmode\":\"overlay\",\"size\":10,\"solidity\":0.2}},\"type\":\"bar\"}],\"carpet\":[{\"aaxis\":{\"endlinecolor\":\"#2a3f5f\",\"gridcolor\":\"#C8D4E3\",\"linecolor\":\"#C8D4E3\",\"minorgridcolor\":\"#C8D4E3\",\"startlinecolor\":\"#2a3f5f\"},\"baxis\":{\"endlinecolor\":\"#2a3f5f\",\"gridcolor\":\"#C8D4E3\",\"linecolor\":\"#C8D4E3\",\"minorgridcolor\":\"#C8D4E3\",\"startlinecolor\":\"#2a3f5f\"},\"type\":\"carpet\"}],\"choropleth\":[{\"colorbar\":{\"outlinewidth\":0,\"ticks\":\"\"},\"type\":\"choropleth\"}],\"contourcarpet\":[{\"colorbar\":{\"outlinewidth\":0,\"ticks\":\"\"},\"type\":\"contourcarpet\"}],\"contour\":[{\"colorbar\":{\"outlinewidth\":0,\"ticks\":\"\"},\"colorscale\":[[0.0,\"#0d0887\"],[0.1111111111111111,\"#46039f\"],[0.2222222222222222,\"#7201a8\"],[0.3333333333333333,\"#9c179e\"],[0.4444444444444444,\"#bd3786\"],[0.5555555555555556,\"#d8576b\"],[0.6666666666666666,\"#ed7953\"],[0.7777777777777778,\"#fb9f3a\"],[0.8888888888888888,\"#fdca26\"],[1.0,\"#f0f921\"]],\"type\":\"contour\"}],\"heatmapgl\":[{\"colorbar\":{\"outlinewidth\":0,\"ticks\":\"\"},\"colorscale\":[[0.0,\"#0d0887\"],[0.1111111111111111,\"#46039f\"],[0.2222222222222222,\"#7201a8\"],[0.3333333333333333,\"#9c179e\"],[0.4444444444444444,\"#bd3786\"],[0.5555555555555556,\"#d8576b\"],[0.6666666666666666,\"#ed7953\"],[0.7777777777777778,\"#fb9f3a\"],[0.8888888888888888,\"#fdca26\"],[1.0,\"#f0f921\"]],\"type\":\"heatmapgl\"}],\"heatmap\":[{\"colorbar\":{\"outlinewidth\":0,\"ticks\":\"\"},\"colorscale\":[[0.0,\"#0d0887\"],[0.1111111111111111,\"#46039f\"],[0.2222222222222222,\"#7201a8\"],[0.3333333333333333,\"#9c179e\"],[0.4444444444444444,\"#bd3786\"],[0.5555555555555556,\"#d8576b\"],[0.6666666666666666,\"#ed7953\"],[0.7777777777777778,\"#fb9f3a\"],[0.8888888888888888,\"#fdca26\"],[1.0,\"#f0f921\"]],\"type\":\"heatmap\"}],\"histogram2dcontour\":[{\"colorbar\":{\"outlinewidth\":0,\"ticks\":\"\"},\"colorscale\":[[0.0,\"#0d0887\"],[0.1111111111111111,\"#46039f\"],[0.2222222222222222,\"#7201a8\"],[0.3333333333333333,\"#9c179e\"],[0.4444444444444444,\"#bd3786\"],[0.5555555555555556,\"#d8576b\"],[0.6666666666666666,\"#ed7953\"],[0.7777777777777778,\"#fb9f3a\"],[0.8888888888888888,\"#fdca26\"],[1.0,\"#f0f921\"]],\"type\":\"histogram2dcontour\"}],\"histogram2d\":[{\"colorbar\":{\"outlinewidth\":0,\"ticks\":\"\"},\"colorscale\":[[0.0,\"#0d0887\"],[0.1111111111111111,\"#46039f\"],[0.2222222222222222,\"#7201a8\"],[0.3333333333333333,\"#9c179e\"],[0.4444444444444444,\"#bd3786\"],[0.5555555555555556,\"#d8576b\"],[0.6666666666666666,\"#ed7953\"],[0.7777777777777778,\"#fb9f3a\"],[0.8888888888888888,\"#fdca26\"],[1.0,\"#f0f921\"]],\"type\":\"histogram2d\"}],\"histogram\":[{\"marker\":{\"pattern\":{\"fillmode\":\"overlay\",\"size\":10,\"solidity\":0.2}},\"type\":\"histogram\"}],\"mesh3d\":[{\"colorbar\":{\"outlinewidth\":0,\"ticks\":\"\"},\"type\":\"mesh3d\"}],\"parcoords\":[{\"line\":{\"colorbar\":{\"outlinewidth\":0,\"ticks\":\"\"}},\"type\":\"parcoords\"}],\"pie\":[{\"automargin\":true,\"type\":\"pie\"}],\"scatter3d\":[{\"line\":{\"colorbar\":{\"outlinewidth\":0,\"ticks\":\"\"}},\"marker\":{\"colorbar\":{\"outlinewidth\":0,\"ticks\":\"\"}},\"type\":\"scatter3d\"}],\"scattercarpet\":[{\"marker\":{\"colorbar\":{\"outlinewidth\":0,\"ticks\":\"\"}},\"type\":\"scattercarpet\"}],\"scattergeo\":[{\"marker\":{\"colorbar\":{\"outlinewidth\":0,\"ticks\":\"\"}},\"type\":\"scattergeo\"}],\"scattergl\":[{\"marker\":{\"colorbar\":{\"outlinewidth\":0,\"ticks\":\"\"}},\"type\":\"scattergl\"}],\"scattermapbox\":[{\"marker\":{\"colorbar\":{\"outlinewidth\":0,\"ticks\":\"\"}},\"type\":\"scattermapbox\"}],\"scatterpolargl\":[{\"marker\":{\"colorbar\":{\"outlinewidth\":0,\"ticks\":\"\"}},\"type\":\"scatterpolargl\"}],\"scatterpolar\":[{\"marker\":{\"colorbar\":{\"outlinewidth\":0,\"ticks\":\"\"}},\"type\":\"scatterpolar\"}],\"scatter\":[{\"fillpattern\":{\"fillmode\":\"overlay\",\"size\":10,\"solidity\":0.2},\"type\":\"scatter\"}],\"scatterternary\":[{\"marker\":{\"colorbar\":{\"outlinewidth\":0,\"ticks\":\"\"}},\"type\":\"scatterternary\"}],\"surface\":[{\"colorbar\":{\"outlinewidth\":0,\"ticks\":\"\"},\"colorscale\":[[0.0,\"#0d0887\"],[0.1111111111111111,\"#46039f\"],[0.2222222222222222,\"#7201a8\"],[0.3333333333333333,\"#9c179e\"],[0.4444444444444444,\"#bd3786\"],[0.5555555555555556,\"#d8576b\"],[0.6666666666666666,\"#ed7953\"],[0.7777777777777778,\"#fb9f3a\"],[0.8888888888888888,\"#fdca26\"],[1.0,\"#f0f921\"]],\"type\":\"surface\"}],\"table\":[{\"cells\":{\"fill\":{\"color\":\"#EBF0F8\"},\"line\":{\"color\":\"white\"}},\"header\":{\"fill\":{\"color\":\"#C8D4E3\"},\"line\":{\"color\":\"white\"}},\"type\":\"table\"}]},\"layout\":{\"annotationdefaults\":{\"arrowcolor\":\"#2a3f5f\",\"arrowhead\":0,\"arrowwidth\":1},\"autotypenumbers\":\"strict\",\"coloraxis\":{\"colorbar\":{\"outlinewidth\":0,\"ticks\":\"\"}},\"colorscale\":{\"diverging\":[[0,\"#8e0152\"],[0.1,\"#c51b7d\"],[0.2,\"#de77ae\"],[0.3,\"#f1b6da\"],[0.4,\"#fde0ef\"],[0.5,\"#f7f7f7\"],[0.6,\"#e6f5d0\"],[0.7,\"#b8e186\"],[0.8,\"#7fbc41\"],[0.9,\"#4d9221\"],[1,\"#276419\"]],\"sequential\":[[0.0,\"#0d0887\"],[0.1111111111111111,\"#46039f\"],[0.2222222222222222,\"#7201a8\"],[0.3333333333333333,\"#9c179e\"],[0.4444444444444444,\"#bd3786\"],[0.5555555555555556,\"#d8576b\"],[0.6666666666666666,\"#ed7953\"],[0.7777777777777778,\"#fb9f3a\"],[0.8888888888888888,\"#fdca26\"],[1.0,\"#f0f921\"]],\"sequentialminus\":[[0.0,\"#0d0887\"],[0.1111111111111111,\"#46039f\"],[0.2222222222222222,\"#7201a8\"],[0.3333333333333333,\"#9c179e\"],[0.4444444444444444,\"#bd3786\"],[0.5555555555555556,\"#d8576b\"],[0.6666666666666666,\"#ed7953\"],[0.7777777777777778,\"#fb9f3a\"],[0.8888888888888888,\"#fdca26\"],[1.0,\"#f0f921\"]]},\"colorway\":[\"#636efa\",\"#EF553B\",\"#00cc96\",\"#ab63fa\",\"#FFA15A\",\"#19d3f3\",\"#FF6692\",\"#B6E880\",\"#FF97FF\",\"#FECB52\"],\"font\":{\"color\":\"#2a3f5f\"},\"geo\":{\"bgcolor\":\"white\",\"lakecolor\":\"white\",\"landcolor\":\"white\",\"showlakes\":true,\"showland\":true,\"subunitcolor\":\"#C8D4E3\"},\"hoverlabel\":{\"align\":\"left\"},\"hovermode\":\"closest\",\"mapbox\":{\"style\":\"light\"},\"paper_bgcolor\":\"white\",\"plot_bgcolor\":\"white\",\"polar\":{\"angularaxis\":{\"gridcolor\":\"#EBF0F8\",\"linecolor\":\"#EBF0F8\",\"ticks\":\"\"},\"bgcolor\":\"white\",\"radialaxis\":{\"gridcolor\":\"#EBF0F8\",\"linecolor\":\"#EBF0F8\",\"ticks\":\"\"}},\"scene\":{\"xaxis\":{\"backgroundcolor\":\"white\",\"gridcolor\":\"#DFE8F3\",\"gridwidth\":2,\"linecolor\":\"#EBF0F8\",\"showbackground\":true,\"ticks\":\"\",\"zerolinecolor\":\"#EBF0F8\"},\"yaxis\":{\"backgroundcolor\":\"white\",\"gridcolor\":\"#DFE8F3\",\"gridwidth\":2,\"linecolor\":\"#EBF0F8\",\"showbackground\":true,\"ticks\":\"\",\"zerolinecolor\":\"#EBF0F8\"},\"zaxis\":{\"backgroundcolor\":\"white\",\"gridcolor\":\"#DFE8F3\",\"gridwidth\":2,\"linecolor\":\"#EBF0F8\",\"showbackground\":true,\"ticks\":\"\",\"zerolinecolor\":\"#EBF0F8\"}},\"shapedefaults\":{\"line\":{\"color\":\"#2a3f5f\"}},\"ternary\":{\"aaxis\":{\"gridcolor\":\"#DFE8F3\",\"linecolor\":\"#A2B1C6\",\"ticks\":\"\"},\"baxis\":{\"gridcolor\":\"#DFE8F3\",\"linecolor\":\"#A2B1C6\",\"ticks\":\"\"},\"bgcolor\":\"white\",\"caxis\":{\"gridcolor\":\"#DFE8F3\",\"linecolor\":\"#A2B1C6\",\"ticks\":\"\"}},\"title\":{\"x\":0.05},\"xaxis\":{\"automargin\":true,\"gridcolor\":\"#EBF0F8\",\"linecolor\":\"#EBF0F8\",\"ticks\":\"\",\"title\":{\"standoff\":15},\"zerolinecolor\":\"#EBF0F8\",\"zerolinewidth\":2},\"yaxis\":{\"automargin\":true,\"gridcolor\":\"#EBF0F8\",\"linecolor\":\"#EBF0F8\",\"ticks\":\"\",\"title\":{\"standoff\":15},\"zerolinecolor\":\"#EBF0F8\",\"zerolinewidth\":2}}},\"xaxis\":{\"anchor\":\"y\",\"domain\":[0.0,1.0],\"title\":{\"text\":\"Year\"}},\"yaxis\":{\"anchor\":\"x\",\"domain\":[0.0,1.0],\"title\":{\"text\":\"[Tonnes]\"}},\"legend\":{\"title\":{\"text\":\"variable\"},\"tracegroupgap\":0},\"margin\":{\"t\":60},\"title\":{\"text\":\"Cumulative Waste All\"}},                        {\"responsive\": true}                    ).then(function(){\n",
       "                            \n",
       "var gd = document.getElementById('ebeeb722-73f1-4298-b5c6-21879ebda275');\n",
       "var x = new MutationObserver(function (mutations, observer) {{\n",
       "        var display = window.getComputedStyle(gd).display;\n",
       "        if (!display || display === 'none') {{\n",
       "            console.log([gd, 'removed!']);\n",
       "            Plotly.purge(gd);\n",
       "            observer.disconnect();\n",
       "        }}\n",
       "}});\n",
       "\n",
       "// Listen for the removal of the full notebook cells\n",
       "var notebookContainer = gd.closest('#notebook-container');\n",
       "if (notebookContainer) {{\n",
       "    x.observe(notebookContainer, {childList: true});\n",
       "}}\n",
       "\n",
       "// Listen for the clearing of the current output cell\n",
       "var outputEl = gd.closest('.output');\n",
       "if (outputEl) {{\n",
       "    x.observe(outputEl, {childList: true});\n",
       "}}\n",
       "\n",
       "                        })                };                });            </script>        </div>"
      ]
     },
     "metadata": {},
     "output_type": "display_data"
    },
    {
     "data": {
      "application/vnd.plotly.v1+json": {
       "config": {
        "plotlyServerURL": "https://plot.ly"
       },
       "data": [
        {
         "hovertemplate": "Glass sim1 topcon",
         "legendgroup": "WasteEOL_glass_sim1_TOPCon_[Tonnes]",
         "line": {
          "color": "#636efa",
          "dash": "solid"
         },
         "marker": {
          "symbol": "circle"
         },
         "mode": "lines",
         "name": "Glass sim1 topcon",
         "orientation": "v",
         "showlegend": true,
         "type": "scatter",
         "x": [
          2020,
          2021,
          2022,
          2023,
          2024,
          2025,
          2026,
          2027,
          2028,
          2029,
          2030,
          2031,
          2032,
          2033,
          2034,
          2035,
          2036,
          2037,
          2038,
          2039,
          2040,
          2041,
          2042,
          2043,
          2044,
          2045,
          2046,
          2047,
          2048,
          2049,
          2050
         ],
         "xaxis": "x",
         "y": [
          0,
          8.061503516767364e-08,
          2.9474005558362035e-05,
          0.0009611340981006562,
          0.011851301003274629,
          0.08540542124578095,
          0.4359988115808555,
          1.7489021380704746,
          5.86870160240729,
          17.16264694361393,
          44.99298513198205,
          107.89980771311708,
          240.2875967530657,
          502.6195729578474,
          996.3491528453511,
          1885.049916180279,
          3423.4315291261787,
          5996.125747159505,
          10168.252687257143,
          16749.76247664552,
          26875.27523728286,
          42100.430767237835,
          64514.335008427675,
          96865.16767623296,
          142691.89108711184,
          206448.69381617958,
          293599.79094098235,
          410650.32145397214,
          565065.0899189463,
          765013.3557877886,
          1018870.2863659784
         ],
         "yaxis": "y"
        },
        {
         "hovertemplate": "Aluminium frames sim1 topcon",
         "legendgroup": "WasteEOL_aluminium_frames_sim1_TOPCon_[Tonnes]",
         "line": {
          "color": "#EF553B",
          "dash": "solid"
         },
         "marker": {
          "symbol": "circle"
         },
         "mode": "lines",
         "name": "Aluminium frames sim1 topcon",
         "orientation": "v",
         "showlegend": true,
         "type": "scatter",
         "x": [
          2020,
          2021,
          2022,
          2023,
          2024,
          2025,
          2026,
          2027,
          2028,
          2029,
          2030,
          2031,
          2032,
          2033,
          2034,
          2035,
          2036,
          2037,
          2038,
          2039,
          2040,
          2041,
          2042,
          2043,
          2044,
          2045,
          2046,
          2047,
          2048,
          2049,
          2050
         ],
         "xaxis": "x",
         "y": [
          0,
          8.633568062991641e-09,
          3.1560041535380405e-06,
          0.00010273229244293482,
          0.0012626618618187483,
          0.009065632639586447,
          0.046108773376836,
          0.18429534984560342,
          0.6163482763870305,
          1.796757046671793,
          4.696256016437342,
          11.230668059950592,
          24.94404917205309,
          52.047051598764455,
          102.93378323267777,
          194.32342133673023,
          352.1951055133044,
          615.7037841839995,
          1042.2764733543129,
          1714.0855578038504,
          2746.0664392402687,
          4295.572364988318,
          6573.611803225514,
          9857.354093341175,
          14503.166472251976,
          20958.801875451907,
          29772.440923818347,
          41595.09033922989,
          57171.436942991095,
          77312.92116609201,
          102846.09784430401
         ],
         "yaxis": "y"
        },
        {
         "hovertemplate": "Silver sim1 topcon",
         "legendgroup": "WasteEOL_silver_sim1_TOPCon_[Tonnes]",
         "line": {
          "color": "#00cc96",
          "dash": "solid"
         },
         "marker": {
          "symbol": "circle"
         },
         "mode": "lines",
         "name": "Silver sim1 topcon",
         "orientation": "v",
         "showlegend": true,
         "type": "scatter",
         "x": [
          2020,
          2021,
          2022,
          2023,
          2024,
          2025,
          2026,
          2027,
          2028,
          2029,
          2030,
          2031,
          2032,
          2033,
          2034,
          2035,
          2036,
          2037,
          2038,
          2039,
          2040,
          2041,
          2042,
          2043,
          2044,
          2045,
          2046,
          2047,
          2048,
          2049,
          2050
         ],
         "xaxis": "x",
         "y": [
          0,
          3.8990698825597655e-11,
          1.425360218334893e-08,
          4.6415207240437346e-07,
          5.708347673395546e-06,
          4.100573329448161e-05,
          0.0002086096960923906,
          0.0008337447649872742,
          0.0027872762109225286,
          0.00812001333385265,
          0.02120435807905796,
          0.05065165943275067,
          0.11235615132160502,
          0.23410671672514205,
          0.46230375573205995,
          0.8714167737680498,
          1.5769129704423146,
          2.7524672967629193,
          4.652311076692865,
          7.63955683669306,
          12.221198234454047,
          19.090142599932136,
          29.17396548213759,
          43.68890773978186,
          64.19574144102096,
          92.65125637456578,
          131.44504407815785,
          183.40593758444655,
          251.75629622851608,
          339.98654059841726,
          451.6195278200405
         ],
         "yaxis": "y"
        },
        {
         "hovertemplate": "Silicon sim1 topcon",
         "legendgroup": "WasteEOL_silicon_sim1_TOPCon_[Tonnes]",
         "line": {
          "color": "#ab63fa",
          "dash": "solid"
         },
         "marker": {
          "symbol": "circle"
         },
         "mode": "lines",
         "name": "Silicon sim1 topcon",
         "orientation": "v",
         "showlegend": true,
         "type": "scatter",
         "x": [
          2020,
          2021,
          2022,
          2023,
          2024,
          2025,
          2026,
          2027,
          2028,
          2029,
          2030,
          2031,
          2032,
          2033,
          2034,
          2035,
          2036,
          2037,
          2038,
          2039,
          2040,
          2041,
          2042,
          2043,
          2044,
          2045,
          2046,
          2047,
          2048,
          2049,
          2050
         ],
         "xaxis": "x",
         "y": [
          0,
          2.582216457011674e-09,
          9.440434106180801e-07,
          3.0767591415798433e-05,
          0.0003789912518862032,
          0.002727819028963943,
          0.013907357879057568,
          0.05570947121116776,
          0.18667521756918215,
          0.545114215294008,
          1.4268766581528163,
          3.416532438751293,
          7.596469096051154,
          15.864853436104175,
          31.400257618177733,
          59.3177981172733,
          107.56846827173874,
          188.1392278782909,
          318.61504838883513,
          524.163282955646,
          839.9918002299498,
          1314.3095791902988,
          2011.7733751486412,
          3017.3246202437786,
          4440.191308802363,
          6417.63236204893,
          9117.721019008022,
          12740.094933046541,
          17513.168944503275,
          23685.894038095154,
          31511.927240645964
         ],
         "yaxis": "y"
        },
        {
         "hovertemplate": "Copper sim1 topcon",
         "legendgroup": "WasteEOL_copper_sim1_TOPCon_[Tonnes]",
         "line": {
          "color": "#FFA15A",
          "dash": "solid"
         },
         "marker": {
          "symbol": "circle"
         },
         "mode": "lines",
         "name": "Copper sim1 topcon",
         "orientation": "v",
         "showlegend": true,
         "type": "scatter",
         "x": [
          2020,
          2021,
          2022,
          2023,
          2024,
          2025,
          2026,
          2027,
          2028,
          2029,
          2030,
          2031,
          2032,
          2033,
          2034,
          2035,
          2036,
          2037,
          2038,
          2039,
          2040,
          2041,
          2042,
          2043,
          2044,
          2045,
          2046,
          2047,
          2048,
          2049,
          2050
         ],
         "xaxis": "x",
         "y": [
          0,
          5.421759905674266e-11,
          1.9823081312411778e-08,
          6.465400650628102e-07,
          7.97489191252875e-06,
          5.749425608284173e-05,
          0.0002936449838298079,
          0.001178458119006155,
          0.003956501347817123,
          0.011576492536223528,
          0.030363745841455986,
          0.07285100250671558,
          0.16230483453545508,
          0.3396274045200098,
          0.6734655719276919,
          1.2745161617388965,
          2.31516889860064,
          4.055761265461923,
          6.878804413721003,
          11.332528408010328,
          18.184909916295727,
          28.48886223216578,
          43.658300847805265,
          65.55308582866606,
          96.56804321399383,
          139.7169868833813,
          198.69654276379063,
          277.90650402058947,
          382.3939259122759,
          517.6789300221964,
          689.4149507905066
         ],
         "yaxis": "y"
        },
        {
         "hovertemplate": "Encapsulant sim1 topcon",
         "legendgroup": "WasteEOL_encapsulant_sim1_TOPCon_[Tonnes]",
         "line": {
          "color": "#19d3f3",
          "dash": "solid"
         },
         "marker": {
          "symbol": "circle"
         },
         "mode": "lines",
         "name": "Encapsulant sim1 topcon",
         "orientation": "v",
         "showlegend": true,
         "type": "scatter",
         "x": [
          2020,
          2021,
          2022,
          2023,
          2024,
          2025,
          2026,
          2027,
          2028,
          2029,
          2030,
          2031,
          2032,
          2033,
          2034,
          2035,
          2036,
          2037,
          2038,
          2039,
          2040,
          2041,
          2042,
          2043,
          2044,
          2045,
          2046,
          2047,
          2048,
          2049,
          2050
         ],
         "xaxis": "x",
         "y": [
          0,
          5.599185490433733e-09,
          2.0468275438084935e-06,
          6.664131407191867e-05,
          0.0008193568738446272,
          0.005884469959522372,
          0.029933966914612833,
          0.11965217564852433,
          0.40014787656580997,
          1.1663748952644968,
          3.0480488898707696,
          7.287264060331594,
          16.18021521809692,
          33.74781457781596,
          66.71423853839312,
          125.88705893928316,
          228.04674234234625,
          398.46538133825754,
          674.1818000913265,
          1108.15795514808,
          1774.4221359140984,
          2774.255790137627,
          4243.384853464595,
          6359.967954643145,
          9352.900038946762,
          13509.53346419556,
          19181.326785068683,
          26785.156653738817,
          36797.12555157995,
          49734.843599629836,
          66123.72799207777
         ],
         "yaxis": "y"
        },
        {
         "hovertemplate": "Backsheet sim1 topcon",
         "legendgroup": "WasteEOL_backsheet_sim1_TOPCon_[Tonnes]",
         "line": {
          "color": "#FF6692",
          "dash": "solid"
         },
         "marker": {
          "symbol": "circle"
         },
         "mode": "lines",
         "name": "Backsheet sim1 topcon",
         "orientation": "v",
         "showlegend": true,
         "type": "scatter",
         "x": [
          2020,
          2021,
          2022,
          2023,
          2024,
          2025,
          2026,
          2027,
          2028,
          2029,
          2030,
          2031,
          2032,
          2033,
          2034,
          2035,
          2036,
          2037,
          2038,
          2039,
          2040,
          2041,
          2042,
          2043,
          2044,
          2045,
          2046,
          2047,
          2048,
          2049,
          2050
         ],
         "xaxis": "x",
         "y": [
          0,
          2.8510749700059166e-09,
          1.0422059442146444e-06,
          3.392334809581403e-05,
          0.0004168949463379541,
          0.0029926402300052227,
          0.015216841120386041,
          0.06080094467291783,
          0.2032604506999929,
          0.5922813928264591,
          1.5473492925488077,
          3.6985342541986626,
          8.21053688997511,
          17.122916351057334,
          33.84668035138449,
          63.864869108923386,
          115.69197195354477,
          202.15318560774304,
          342.0482587031147,
          562.2635828207453,
          900.3863778480996,
          1407.850149600296,
          2153.591923674637,
          3228.116228282849,
          4747.721756666023,
          6858.435091589125,
          9738.895153597114,
          13601.038160787159,
          18686.973582489452,
          25260.005911349846,
          33587.53309224399
         ],
         "yaxis": "y"
        },
        {
         "hovertemplate": "Module sim1 topcon",
         "legendgroup": "WasteEOL_Module_sim1_TOPCon_[Tonnes]",
         "line": {
          "color": "#B6E880",
          "dash": "solid"
         },
         "marker": {
          "symbol": "circle"
         },
         "mode": "lines",
         "name": "Module sim1 topcon",
         "orientation": "v",
         "showlegend": true,
         "type": "scatter",
         "x": [
          2020,
          2021,
          2022,
          2023,
          2024,
          2025,
          2026,
          2027,
          2028,
          2029,
          2030,
          2031,
          2032,
          2033,
          2034,
          2035,
          2036,
          2037,
          2038,
          2039,
          2040,
          2041,
          2042,
          2043,
          2044,
          2045,
          2046,
          2047,
          2048,
          2049,
          2050
         ],
         "xaxis": "x",
         "y": [
          0,
          1.0037428844599893e-07,
          3.669716329403705e-05,
          0.001196309336264589,
          0.014742889176748085,
          0.10617448309323625,
          0.5416680055516702,
          2.171372282332681,
          7.2818772011880455,
          21.282870999540762,
          55.763084092912294,
          133.65630918828867,
          297.493528115099,
          621.9759430428344,
          1232.3798819136437,
          2330.5889966179957,
          4230.825899076155,
          7407.395554730021,
          12556.905383285146,
          20677.404940618544,
          33166.548098666026,
          51939.99765598647,
          79569.52923027101,
          119437.17256631237,
          175896.634448434,
          254425.46485272306,
          361740.3164093165,
          505833.01398237963,
          695867.9451626509,
          941864.6859735763,
          1254080.607013861
         ],
         "yaxis": "y"
        }
       ],
       "layout": {
        "legend": {
         "title": {
          "text": "variable"
         },
         "tracegroupgap": 0
        },
        "margin": {
         "t": 60
        },
        "template": {
         "data": {
          "bar": [
           {
            "error_x": {
             "color": "#2a3f5f"
            },
            "error_y": {
             "color": "#2a3f5f"
            },
            "marker": {
             "line": {
              "color": "white",
              "width": 0.5
             },
             "pattern": {
              "fillmode": "overlay",
              "size": 10,
              "solidity": 0.2
             }
            },
            "type": "bar"
           }
          ],
          "barpolar": [
           {
            "marker": {
             "line": {
              "color": "white",
              "width": 0.5
             },
             "pattern": {
              "fillmode": "overlay",
              "size": 10,
              "solidity": 0.2
             }
            },
            "type": "barpolar"
           }
          ],
          "carpet": [
           {
            "aaxis": {
             "endlinecolor": "#2a3f5f",
             "gridcolor": "#C8D4E3",
             "linecolor": "#C8D4E3",
             "minorgridcolor": "#C8D4E3",
             "startlinecolor": "#2a3f5f"
            },
            "baxis": {
             "endlinecolor": "#2a3f5f",
             "gridcolor": "#C8D4E3",
             "linecolor": "#C8D4E3",
             "minorgridcolor": "#C8D4E3",
             "startlinecolor": "#2a3f5f"
            },
            "type": "carpet"
           }
          ],
          "choropleth": [
           {
            "colorbar": {
             "outlinewidth": 0,
             "ticks": ""
            },
            "type": "choropleth"
           }
          ],
          "contour": [
           {
            "colorbar": {
             "outlinewidth": 0,
             "ticks": ""
            },
            "colorscale": [
             [
              0,
              "#0d0887"
             ],
             [
              0.1111111111111111,
              "#46039f"
             ],
             [
              0.2222222222222222,
              "#7201a8"
             ],
             [
              0.3333333333333333,
              "#9c179e"
             ],
             [
              0.4444444444444444,
              "#bd3786"
             ],
             [
              0.5555555555555556,
              "#d8576b"
             ],
             [
              0.6666666666666666,
              "#ed7953"
             ],
             [
              0.7777777777777778,
              "#fb9f3a"
             ],
             [
              0.8888888888888888,
              "#fdca26"
             ],
             [
              1,
              "#f0f921"
             ]
            ],
            "type": "contour"
           }
          ],
          "contourcarpet": [
           {
            "colorbar": {
             "outlinewidth": 0,
             "ticks": ""
            },
            "type": "contourcarpet"
           }
          ],
          "heatmap": [
           {
            "colorbar": {
             "outlinewidth": 0,
             "ticks": ""
            },
            "colorscale": [
             [
              0,
              "#0d0887"
             ],
             [
              0.1111111111111111,
              "#46039f"
             ],
             [
              0.2222222222222222,
              "#7201a8"
             ],
             [
              0.3333333333333333,
              "#9c179e"
             ],
             [
              0.4444444444444444,
              "#bd3786"
             ],
             [
              0.5555555555555556,
              "#d8576b"
             ],
             [
              0.6666666666666666,
              "#ed7953"
             ],
             [
              0.7777777777777778,
              "#fb9f3a"
             ],
             [
              0.8888888888888888,
              "#fdca26"
             ],
             [
              1,
              "#f0f921"
             ]
            ],
            "type": "heatmap"
           }
          ],
          "heatmapgl": [
           {
            "colorbar": {
             "outlinewidth": 0,
             "ticks": ""
            },
            "colorscale": [
             [
              0,
              "#0d0887"
             ],
             [
              0.1111111111111111,
              "#46039f"
             ],
             [
              0.2222222222222222,
              "#7201a8"
             ],
             [
              0.3333333333333333,
              "#9c179e"
             ],
             [
              0.4444444444444444,
              "#bd3786"
             ],
             [
              0.5555555555555556,
              "#d8576b"
             ],
             [
              0.6666666666666666,
              "#ed7953"
             ],
             [
              0.7777777777777778,
              "#fb9f3a"
             ],
             [
              0.8888888888888888,
              "#fdca26"
             ],
             [
              1,
              "#f0f921"
             ]
            ],
            "type": "heatmapgl"
           }
          ],
          "histogram": [
           {
            "marker": {
             "pattern": {
              "fillmode": "overlay",
              "size": 10,
              "solidity": 0.2
             }
            },
            "type": "histogram"
           }
          ],
          "histogram2d": [
           {
            "colorbar": {
             "outlinewidth": 0,
             "ticks": ""
            },
            "colorscale": [
             [
              0,
              "#0d0887"
             ],
             [
              0.1111111111111111,
              "#46039f"
             ],
             [
              0.2222222222222222,
              "#7201a8"
             ],
             [
              0.3333333333333333,
              "#9c179e"
             ],
             [
              0.4444444444444444,
              "#bd3786"
             ],
             [
              0.5555555555555556,
              "#d8576b"
             ],
             [
              0.6666666666666666,
              "#ed7953"
             ],
             [
              0.7777777777777778,
              "#fb9f3a"
             ],
             [
              0.8888888888888888,
              "#fdca26"
             ],
             [
              1,
              "#f0f921"
             ]
            ],
            "type": "histogram2d"
           }
          ],
          "histogram2dcontour": [
           {
            "colorbar": {
             "outlinewidth": 0,
             "ticks": ""
            },
            "colorscale": [
             [
              0,
              "#0d0887"
             ],
             [
              0.1111111111111111,
              "#46039f"
             ],
             [
              0.2222222222222222,
              "#7201a8"
             ],
             [
              0.3333333333333333,
              "#9c179e"
             ],
             [
              0.4444444444444444,
              "#bd3786"
             ],
             [
              0.5555555555555556,
              "#d8576b"
             ],
             [
              0.6666666666666666,
              "#ed7953"
             ],
             [
              0.7777777777777778,
              "#fb9f3a"
             ],
             [
              0.8888888888888888,
              "#fdca26"
             ],
             [
              1,
              "#f0f921"
             ]
            ],
            "type": "histogram2dcontour"
           }
          ],
          "mesh3d": [
           {
            "colorbar": {
             "outlinewidth": 0,
             "ticks": ""
            },
            "type": "mesh3d"
           }
          ],
          "parcoords": [
           {
            "line": {
             "colorbar": {
              "outlinewidth": 0,
              "ticks": ""
             }
            },
            "type": "parcoords"
           }
          ],
          "pie": [
           {
            "automargin": true,
            "type": "pie"
           }
          ],
          "scatter": [
           {
            "fillpattern": {
             "fillmode": "overlay",
             "size": 10,
             "solidity": 0.2
            },
            "type": "scatter"
           }
          ],
          "scatter3d": [
           {
            "line": {
             "colorbar": {
              "outlinewidth": 0,
              "ticks": ""
             }
            },
            "marker": {
             "colorbar": {
              "outlinewidth": 0,
              "ticks": ""
             }
            },
            "type": "scatter3d"
           }
          ],
          "scattercarpet": [
           {
            "marker": {
             "colorbar": {
              "outlinewidth": 0,
              "ticks": ""
             }
            },
            "type": "scattercarpet"
           }
          ],
          "scattergeo": [
           {
            "marker": {
             "colorbar": {
              "outlinewidth": 0,
              "ticks": ""
             }
            },
            "type": "scattergeo"
           }
          ],
          "scattergl": [
           {
            "marker": {
             "colorbar": {
              "outlinewidth": 0,
              "ticks": ""
             }
            },
            "type": "scattergl"
           }
          ],
          "scattermapbox": [
           {
            "marker": {
             "colorbar": {
              "outlinewidth": 0,
              "ticks": ""
             }
            },
            "type": "scattermapbox"
           }
          ],
          "scatterpolar": [
           {
            "marker": {
             "colorbar": {
              "outlinewidth": 0,
              "ticks": ""
             }
            },
            "type": "scatterpolar"
           }
          ],
          "scatterpolargl": [
           {
            "marker": {
             "colorbar": {
              "outlinewidth": 0,
              "ticks": ""
             }
            },
            "type": "scatterpolargl"
           }
          ],
          "scatterternary": [
           {
            "marker": {
             "colorbar": {
              "outlinewidth": 0,
              "ticks": ""
             }
            },
            "type": "scatterternary"
           }
          ],
          "surface": [
           {
            "colorbar": {
             "outlinewidth": 0,
             "ticks": ""
            },
            "colorscale": [
             [
              0,
              "#0d0887"
             ],
             [
              0.1111111111111111,
              "#46039f"
             ],
             [
              0.2222222222222222,
              "#7201a8"
             ],
             [
              0.3333333333333333,
              "#9c179e"
             ],
             [
              0.4444444444444444,
              "#bd3786"
             ],
             [
              0.5555555555555556,
              "#d8576b"
             ],
             [
              0.6666666666666666,
              "#ed7953"
             ],
             [
              0.7777777777777778,
              "#fb9f3a"
             ],
             [
              0.8888888888888888,
              "#fdca26"
             ],
             [
              1,
              "#f0f921"
             ]
            ],
            "type": "surface"
           }
          ],
          "table": [
           {
            "cells": {
             "fill": {
              "color": "#EBF0F8"
             },
             "line": {
              "color": "white"
             }
            },
            "header": {
             "fill": {
              "color": "#C8D4E3"
             },
             "line": {
              "color": "white"
             }
            },
            "type": "table"
           }
          ]
         },
         "layout": {
          "annotationdefaults": {
           "arrowcolor": "#2a3f5f",
           "arrowhead": 0,
           "arrowwidth": 1
          },
          "autotypenumbers": "strict",
          "coloraxis": {
           "colorbar": {
            "outlinewidth": 0,
            "ticks": ""
           }
          },
          "colorscale": {
           "diverging": [
            [
             0,
             "#8e0152"
            ],
            [
             0.1,
             "#c51b7d"
            ],
            [
             0.2,
             "#de77ae"
            ],
            [
             0.3,
             "#f1b6da"
            ],
            [
             0.4,
             "#fde0ef"
            ],
            [
             0.5,
             "#f7f7f7"
            ],
            [
             0.6,
             "#e6f5d0"
            ],
            [
             0.7,
             "#b8e186"
            ],
            [
             0.8,
             "#7fbc41"
            ],
            [
             0.9,
             "#4d9221"
            ],
            [
             1,
             "#276419"
            ]
           ],
           "sequential": [
            [
             0,
             "#0d0887"
            ],
            [
             0.1111111111111111,
             "#46039f"
            ],
            [
             0.2222222222222222,
             "#7201a8"
            ],
            [
             0.3333333333333333,
             "#9c179e"
            ],
            [
             0.4444444444444444,
             "#bd3786"
            ],
            [
             0.5555555555555556,
             "#d8576b"
            ],
            [
             0.6666666666666666,
             "#ed7953"
            ],
            [
             0.7777777777777778,
             "#fb9f3a"
            ],
            [
             0.8888888888888888,
             "#fdca26"
            ],
            [
             1,
             "#f0f921"
            ]
           ],
           "sequentialminus": [
            [
             0,
             "#0d0887"
            ],
            [
             0.1111111111111111,
             "#46039f"
            ],
            [
             0.2222222222222222,
             "#7201a8"
            ],
            [
             0.3333333333333333,
             "#9c179e"
            ],
            [
             0.4444444444444444,
             "#bd3786"
            ],
            [
             0.5555555555555556,
             "#d8576b"
            ],
            [
             0.6666666666666666,
             "#ed7953"
            ],
            [
             0.7777777777777778,
             "#fb9f3a"
            ],
            [
             0.8888888888888888,
             "#fdca26"
            ],
            [
             1,
             "#f0f921"
            ]
           ]
          },
          "colorway": [
           "#636efa",
           "#EF553B",
           "#00cc96",
           "#ab63fa",
           "#FFA15A",
           "#19d3f3",
           "#FF6692",
           "#B6E880",
           "#FF97FF",
           "#FECB52"
          ],
          "font": {
           "color": "#2a3f5f"
          },
          "geo": {
           "bgcolor": "white",
           "lakecolor": "white",
           "landcolor": "white",
           "showlakes": true,
           "showland": true,
           "subunitcolor": "#C8D4E3"
          },
          "hoverlabel": {
           "align": "left"
          },
          "hovermode": "closest",
          "mapbox": {
           "style": "light"
          },
          "paper_bgcolor": "white",
          "plot_bgcolor": "white",
          "polar": {
           "angularaxis": {
            "gridcolor": "#EBF0F8",
            "linecolor": "#EBF0F8",
            "ticks": ""
           },
           "bgcolor": "white",
           "radialaxis": {
            "gridcolor": "#EBF0F8",
            "linecolor": "#EBF0F8",
            "ticks": ""
           }
          },
          "scene": {
           "xaxis": {
            "backgroundcolor": "white",
            "gridcolor": "#DFE8F3",
            "gridwidth": 2,
            "linecolor": "#EBF0F8",
            "showbackground": true,
            "ticks": "",
            "zerolinecolor": "#EBF0F8"
           },
           "yaxis": {
            "backgroundcolor": "white",
            "gridcolor": "#DFE8F3",
            "gridwidth": 2,
            "linecolor": "#EBF0F8",
            "showbackground": true,
            "ticks": "",
            "zerolinecolor": "#EBF0F8"
           },
           "zaxis": {
            "backgroundcolor": "white",
            "gridcolor": "#DFE8F3",
            "gridwidth": 2,
            "linecolor": "#EBF0F8",
            "showbackground": true,
            "ticks": "",
            "zerolinecolor": "#EBF0F8"
           }
          },
          "shapedefaults": {
           "line": {
            "color": "#2a3f5f"
           }
          },
          "ternary": {
           "aaxis": {
            "gridcolor": "#DFE8F3",
            "linecolor": "#A2B1C6",
            "ticks": ""
           },
           "baxis": {
            "gridcolor": "#DFE8F3",
            "linecolor": "#A2B1C6",
            "ticks": ""
           },
           "bgcolor": "white",
           "caxis": {
            "gridcolor": "#DFE8F3",
            "linecolor": "#A2B1C6",
            "ticks": ""
           }
          },
          "title": {
           "x": 0.05
          },
          "xaxis": {
           "automargin": true,
           "gridcolor": "#EBF0F8",
           "linecolor": "#EBF0F8",
           "ticks": "",
           "title": {
            "standoff": 15
           },
           "zerolinecolor": "#EBF0F8",
           "zerolinewidth": 2
          },
          "yaxis": {
           "automargin": true,
           "gridcolor": "#EBF0F8",
           "linecolor": "#EBF0F8",
           "ticks": "",
           "title": {
            "standoff": 15
           },
           "zerolinecolor": "#EBF0F8",
           "zerolinewidth": 2
          }
         }
        },
        "title": {
         "text": "Cumulative Waste E O L"
        },
        "xaxis": {
         "anchor": "y",
         "domain": [
          0,
          1
         ],
         "title": {
          "text": "Year"
         }
        },
        "yaxis": {
         "anchor": "x",
         "domain": [
          0,
          1
         ],
         "title": {
          "text": "[Tonnes]"
         }
        }
       }
      },
      "text/html": [
       "<div>                            <div id=\"610e4ce1-e109-4dd9-b123-67767b29892e\" class=\"plotly-graph-div\" style=\"height:525px; width:100%;\"></div>            <script type=\"text/javascript\">                require([\"plotly\"], function(Plotly) {                    window.PLOTLYENV=window.PLOTLYENV || {};                                    if (document.getElementById(\"610e4ce1-e109-4dd9-b123-67767b29892e\")) {                    Plotly.newPlot(                        \"610e4ce1-e109-4dd9-b123-67767b29892e\",                        [{\"hovertemplate\":\"Glass sim1 topcon\",\"legendgroup\":\"WasteEOL_glass_sim1_TOPCon_[Tonnes]\",\"line\":{\"color\":\"#636efa\",\"dash\":\"solid\"},\"marker\":{\"symbol\":\"circle\"},\"mode\":\"lines\",\"name\":\"Glass sim1 topcon\",\"orientation\":\"v\",\"showlegend\":true,\"x\":[2020,2021,2022,2023,2024,2025,2026,2027,2028,2029,2030,2031,2032,2033,2034,2035,2036,2037,2038,2039,2040,2041,2042,2043,2044,2045,2046,2047,2048,2049,2050],\"xaxis\":\"x\",\"y\":[0.0,8.061503516767364e-08,2.9474005558362035e-05,0.0009611340981006562,0.011851301003274629,0.08540542124578095,0.4359988115808555,1.7489021380704746,5.86870160240729,17.16264694361393,44.99298513198205,107.89980771311708,240.2875967530657,502.6195729578474,996.3491528453511,1885.049916180279,3423.4315291261787,5996.125747159505,10168.252687257143,16749.76247664552,26875.27523728286,42100.430767237835,64514.335008427675,96865.16767623296,142691.89108711184,206448.69381617958,293599.79094098235,410650.32145397214,565065.0899189463,765013.3557877886,1018870.2863659784],\"yaxis\":\"y\",\"type\":\"scatter\"},{\"hovertemplate\":\"Aluminium frames sim1 topcon\",\"legendgroup\":\"WasteEOL_aluminium_frames_sim1_TOPCon_[Tonnes]\",\"line\":{\"color\":\"#EF553B\",\"dash\":\"solid\"},\"marker\":{\"symbol\":\"circle\"},\"mode\":\"lines\",\"name\":\"Aluminium frames sim1 topcon\",\"orientation\":\"v\",\"showlegend\":true,\"x\":[2020,2021,2022,2023,2024,2025,2026,2027,2028,2029,2030,2031,2032,2033,2034,2035,2036,2037,2038,2039,2040,2041,2042,2043,2044,2045,2046,2047,2048,2049,2050],\"xaxis\":\"x\",\"y\":[0.0,8.633568062991641e-09,3.1560041535380405e-06,0.00010273229244293482,0.0012626618618187483,0.009065632639586447,0.046108773376836,0.18429534984560342,0.6163482763870305,1.796757046671793,4.696256016437342,11.230668059950592,24.94404917205309,52.047051598764455,102.93378323267777,194.32342133673023,352.1951055133044,615.7037841839995,1042.2764733543129,1714.0855578038504,2746.0664392402687,4295.572364988318,6573.611803225514,9857.354093341175,14503.166472251976,20958.801875451907,29772.440923818347,41595.09033922989,57171.436942991095,77312.92116609201,102846.09784430401],\"yaxis\":\"y\",\"type\":\"scatter\"},{\"hovertemplate\":\"Silver sim1 topcon\",\"legendgroup\":\"WasteEOL_silver_sim1_TOPCon_[Tonnes]\",\"line\":{\"color\":\"#00cc96\",\"dash\":\"solid\"},\"marker\":{\"symbol\":\"circle\"},\"mode\":\"lines\",\"name\":\"Silver sim1 topcon\",\"orientation\":\"v\",\"showlegend\":true,\"x\":[2020,2021,2022,2023,2024,2025,2026,2027,2028,2029,2030,2031,2032,2033,2034,2035,2036,2037,2038,2039,2040,2041,2042,2043,2044,2045,2046,2047,2048,2049,2050],\"xaxis\":\"x\",\"y\":[0.0,3.8990698825597655e-11,1.425360218334893e-08,4.6415207240437346e-07,5.708347673395546e-06,4.100573329448161e-05,0.0002086096960923906,0.0008337447649872742,0.0027872762109225286,0.00812001333385265,0.02120435807905796,0.05065165943275067,0.11235615132160502,0.23410671672514205,0.46230375573205995,0.8714167737680498,1.5769129704423146,2.7524672967629193,4.652311076692865,7.63955683669306,12.221198234454047,19.090142599932136,29.17396548213759,43.68890773978186,64.19574144102096,92.65125637456578,131.44504407815785,183.40593758444655,251.75629622851608,339.98654059841726,451.6195278200405],\"yaxis\":\"y\",\"type\":\"scatter\"},{\"hovertemplate\":\"Silicon sim1 topcon\",\"legendgroup\":\"WasteEOL_silicon_sim1_TOPCon_[Tonnes]\",\"line\":{\"color\":\"#ab63fa\",\"dash\":\"solid\"},\"marker\":{\"symbol\":\"circle\"},\"mode\":\"lines\",\"name\":\"Silicon sim1 topcon\",\"orientation\":\"v\",\"showlegend\":true,\"x\":[2020,2021,2022,2023,2024,2025,2026,2027,2028,2029,2030,2031,2032,2033,2034,2035,2036,2037,2038,2039,2040,2041,2042,2043,2044,2045,2046,2047,2048,2049,2050],\"xaxis\":\"x\",\"y\":[0.0,2.582216457011674e-09,9.440434106180801e-07,3.0767591415798433e-05,0.0003789912518862032,0.002727819028963943,0.013907357879057568,0.05570947121116776,0.18667521756918215,0.545114215294008,1.4268766581528163,3.416532438751293,7.596469096051154,15.864853436104175,31.400257618177733,59.3177981172733,107.56846827173874,188.1392278782909,318.61504838883513,524.163282955646,839.9918002299498,1314.3095791902988,2011.7733751486412,3017.3246202437786,4440.191308802363,6417.63236204893,9117.721019008022,12740.094933046541,17513.168944503275,23685.894038095154,31511.927240645964],\"yaxis\":\"y\",\"type\":\"scatter\"},{\"hovertemplate\":\"Copper sim1 topcon\",\"legendgroup\":\"WasteEOL_copper_sim1_TOPCon_[Tonnes]\",\"line\":{\"color\":\"#FFA15A\",\"dash\":\"solid\"},\"marker\":{\"symbol\":\"circle\"},\"mode\":\"lines\",\"name\":\"Copper sim1 topcon\",\"orientation\":\"v\",\"showlegend\":true,\"x\":[2020,2021,2022,2023,2024,2025,2026,2027,2028,2029,2030,2031,2032,2033,2034,2035,2036,2037,2038,2039,2040,2041,2042,2043,2044,2045,2046,2047,2048,2049,2050],\"xaxis\":\"x\",\"y\":[0.0,5.421759905674266e-11,1.9823081312411778e-08,6.465400650628102e-07,7.97489191252875e-06,5.749425608284173e-05,0.0002936449838298079,0.001178458119006155,0.003956501347817123,0.011576492536223528,0.030363745841455986,0.07285100250671558,0.16230483453545508,0.3396274045200098,0.6734655719276919,1.2745161617388965,2.31516889860064,4.055761265461923,6.878804413721003,11.332528408010328,18.184909916295727,28.48886223216578,43.658300847805265,65.55308582866606,96.56804321399383,139.7169868833813,198.69654276379063,277.90650402058947,382.3939259122759,517.6789300221964,689.4149507905066],\"yaxis\":\"y\",\"type\":\"scatter\"},{\"hovertemplate\":\"Encapsulant sim1 topcon\",\"legendgroup\":\"WasteEOL_encapsulant_sim1_TOPCon_[Tonnes]\",\"line\":{\"color\":\"#19d3f3\",\"dash\":\"solid\"},\"marker\":{\"symbol\":\"circle\"},\"mode\":\"lines\",\"name\":\"Encapsulant sim1 topcon\",\"orientation\":\"v\",\"showlegend\":true,\"x\":[2020,2021,2022,2023,2024,2025,2026,2027,2028,2029,2030,2031,2032,2033,2034,2035,2036,2037,2038,2039,2040,2041,2042,2043,2044,2045,2046,2047,2048,2049,2050],\"xaxis\":\"x\",\"y\":[0.0,5.599185490433733e-09,2.0468275438084935e-06,6.664131407191867e-05,0.0008193568738446272,0.005884469959522372,0.029933966914612833,0.11965217564852433,0.40014787656580997,1.1663748952644968,3.0480488898707696,7.287264060331594,16.18021521809692,33.74781457781596,66.71423853839312,125.88705893928316,228.04674234234625,398.46538133825754,674.1818000913265,1108.15795514808,1774.4221359140984,2774.255790137627,4243.384853464595,6359.967954643145,9352.900038946762,13509.53346419556,19181.326785068683,26785.156653738817,36797.12555157995,49734.843599629836,66123.72799207777],\"yaxis\":\"y\",\"type\":\"scatter\"},{\"hovertemplate\":\"Backsheet sim1 topcon\",\"legendgroup\":\"WasteEOL_backsheet_sim1_TOPCon_[Tonnes]\",\"line\":{\"color\":\"#FF6692\",\"dash\":\"solid\"},\"marker\":{\"symbol\":\"circle\"},\"mode\":\"lines\",\"name\":\"Backsheet sim1 topcon\",\"orientation\":\"v\",\"showlegend\":true,\"x\":[2020,2021,2022,2023,2024,2025,2026,2027,2028,2029,2030,2031,2032,2033,2034,2035,2036,2037,2038,2039,2040,2041,2042,2043,2044,2045,2046,2047,2048,2049,2050],\"xaxis\":\"x\",\"y\":[0.0,2.8510749700059166e-09,1.0422059442146444e-06,3.392334809581403e-05,0.0004168949463379541,0.0029926402300052227,0.015216841120386041,0.06080094467291783,0.2032604506999929,0.5922813928264591,1.5473492925488077,3.6985342541986626,8.21053688997511,17.122916351057334,33.84668035138449,63.864869108923386,115.69197195354477,202.15318560774304,342.0482587031147,562.2635828207453,900.3863778480996,1407.850149600296,2153.591923674637,3228.116228282849,4747.721756666023,6858.435091589125,9738.895153597114,13601.038160787159,18686.973582489452,25260.005911349846,33587.53309224399],\"yaxis\":\"y\",\"type\":\"scatter\"},{\"hovertemplate\":\"Module sim1 topcon\",\"legendgroup\":\"WasteEOL_Module_sim1_TOPCon_[Tonnes]\",\"line\":{\"color\":\"#B6E880\",\"dash\":\"solid\"},\"marker\":{\"symbol\":\"circle\"},\"mode\":\"lines\",\"name\":\"Module sim1 topcon\",\"orientation\":\"v\",\"showlegend\":true,\"x\":[2020,2021,2022,2023,2024,2025,2026,2027,2028,2029,2030,2031,2032,2033,2034,2035,2036,2037,2038,2039,2040,2041,2042,2043,2044,2045,2046,2047,2048,2049,2050],\"xaxis\":\"x\",\"y\":[0.0,1.0037428844599893e-07,3.669716329403705e-05,0.001196309336264589,0.014742889176748085,0.10617448309323625,0.5416680055516702,2.171372282332681,7.2818772011880455,21.282870999540762,55.763084092912294,133.65630918828867,297.493528115099,621.9759430428344,1232.3798819136437,2330.5889966179957,4230.825899076155,7407.395554730021,12556.905383285146,20677.404940618544,33166.548098666026,51939.99765598647,79569.52923027101,119437.17256631237,175896.634448434,254425.46485272306,361740.3164093165,505833.01398237963,695867.9451626509,941864.6859735763,1254080.607013861],\"yaxis\":\"y\",\"type\":\"scatter\"}],                        {\"template\":{\"data\":{\"barpolar\":[{\"marker\":{\"line\":{\"color\":\"white\",\"width\":0.5},\"pattern\":{\"fillmode\":\"overlay\",\"size\":10,\"solidity\":0.2}},\"type\":\"barpolar\"}],\"bar\":[{\"error_x\":{\"color\":\"#2a3f5f\"},\"error_y\":{\"color\":\"#2a3f5f\"},\"marker\":{\"line\":{\"color\":\"white\",\"width\":0.5},\"pattern\":{\"fillmode\":\"overlay\",\"size\":10,\"solidity\":0.2}},\"type\":\"bar\"}],\"carpet\":[{\"aaxis\":{\"endlinecolor\":\"#2a3f5f\",\"gridcolor\":\"#C8D4E3\",\"linecolor\":\"#C8D4E3\",\"minorgridcolor\":\"#C8D4E3\",\"startlinecolor\":\"#2a3f5f\"},\"baxis\":{\"endlinecolor\":\"#2a3f5f\",\"gridcolor\":\"#C8D4E3\",\"linecolor\":\"#C8D4E3\",\"minorgridcolor\":\"#C8D4E3\",\"startlinecolor\":\"#2a3f5f\"},\"type\":\"carpet\"}],\"choropleth\":[{\"colorbar\":{\"outlinewidth\":0,\"ticks\":\"\"},\"type\":\"choropleth\"}],\"contourcarpet\":[{\"colorbar\":{\"outlinewidth\":0,\"ticks\":\"\"},\"type\":\"contourcarpet\"}],\"contour\":[{\"colorbar\":{\"outlinewidth\":0,\"ticks\":\"\"},\"colorscale\":[[0.0,\"#0d0887\"],[0.1111111111111111,\"#46039f\"],[0.2222222222222222,\"#7201a8\"],[0.3333333333333333,\"#9c179e\"],[0.4444444444444444,\"#bd3786\"],[0.5555555555555556,\"#d8576b\"],[0.6666666666666666,\"#ed7953\"],[0.7777777777777778,\"#fb9f3a\"],[0.8888888888888888,\"#fdca26\"],[1.0,\"#f0f921\"]],\"type\":\"contour\"}],\"heatmapgl\":[{\"colorbar\":{\"outlinewidth\":0,\"ticks\":\"\"},\"colorscale\":[[0.0,\"#0d0887\"],[0.1111111111111111,\"#46039f\"],[0.2222222222222222,\"#7201a8\"],[0.3333333333333333,\"#9c179e\"],[0.4444444444444444,\"#bd3786\"],[0.5555555555555556,\"#d8576b\"],[0.6666666666666666,\"#ed7953\"],[0.7777777777777778,\"#fb9f3a\"],[0.8888888888888888,\"#fdca26\"],[1.0,\"#f0f921\"]],\"type\":\"heatmapgl\"}],\"heatmap\":[{\"colorbar\":{\"outlinewidth\":0,\"ticks\":\"\"},\"colorscale\":[[0.0,\"#0d0887\"],[0.1111111111111111,\"#46039f\"],[0.2222222222222222,\"#7201a8\"],[0.3333333333333333,\"#9c179e\"],[0.4444444444444444,\"#bd3786\"],[0.5555555555555556,\"#d8576b\"],[0.6666666666666666,\"#ed7953\"],[0.7777777777777778,\"#fb9f3a\"],[0.8888888888888888,\"#fdca26\"],[1.0,\"#f0f921\"]],\"type\":\"heatmap\"}],\"histogram2dcontour\":[{\"colorbar\":{\"outlinewidth\":0,\"ticks\":\"\"},\"colorscale\":[[0.0,\"#0d0887\"],[0.1111111111111111,\"#46039f\"],[0.2222222222222222,\"#7201a8\"],[0.3333333333333333,\"#9c179e\"],[0.4444444444444444,\"#bd3786\"],[0.5555555555555556,\"#d8576b\"],[0.6666666666666666,\"#ed7953\"],[0.7777777777777778,\"#fb9f3a\"],[0.8888888888888888,\"#fdca26\"],[1.0,\"#f0f921\"]],\"type\":\"histogram2dcontour\"}],\"histogram2d\":[{\"colorbar\":{\"outlinewidth\":0,\"ticks\":\"\"},\"colorscale\":[[0.0,\"#0d0887\"],[0.1111111111111111,\"#46039f\"],[0.2222222222222222,\"#7201a8\"],[0.3333333333333333,\"#9c179e\"],[0.4444444444444444,\"#bd3786\"],[0.5555555555555556,\"#d8576b\"],[0.6666666666666666,\"#ed7953\"],[0.7777777777777778,\"#fb9f3a\"],[0.8888888888888888,\"#fdca26\"],[1.0,\"#f0f921\"]],\"type\":\"histogram2d\"}],\"histogram\":[{\"marker\":{\"pattern\":{\"fillmode\":\"overlay\",\"size\":10,\"solidity\":0.2}},\"type\":\"histogram\"}],\"mesh3d\":[{\"colorbar\":{\"outlinewidth\":0,\"ticks\":\"\"},\"type\":\"mesh3d\"}],\"parcoords\":[{\"line\":{\"colorbar\":{\"outlinewidth\":0,\"ticks\":\"\"}},\"type\":\"parcoords\"}],\"pie\":[{\"automargin\":true,\"type\":\"pie\"}],\"scatter3d\":[{\"line\":{\"colorbar\":{\"outlinewidth\":0,\"ticks\":\"\"}},\"marker\":{\"colorbar\":{\"outlinewidth\":0,\"ticks\":\"\"}},\"type\":\"scatter3d\"}],\"scattercarpet\":[{\"marker\":{\"colorbar\":{\"outlinewidth\":0,\"ticks\":\"\"}},\"type\":\"scattercarpet\"}],\"scattergeo\":[{\"marker\":{\"colorbar\":{\"outlinewidth\":0,\"ticks\":\"\"}},\"type\":\"scattergeo\"}],\"scattergl\":[{\"marker\":{\"colorbar\":{\"outlinewidth\":0,\"ticks\":\"\"}},\"type\":\"scattergl\"}],\"scattermapbox\":[{\"marker\":{\"colorbar\":{\"outlinewidth\":0,\"ticks\":\"\"}},\"type\":\"scattermapbox\"}],\"scatterpolargl\":[{\"marker\":{\"colorbar\":{\"outlinewidth\":0,\"ticks\":\"\"}},\"type\":\"scatterpolargl\"}],\"scatterpolar\":[{\"marker\":{\"colorbar\":{\"outlinewidth\":0,\"ticks\":\"\"}},\"type\":\"scatterpolar\"}],\"scatter\":[{\"fillpattern\":{\"fillmode\":\"overlay\",\"size\":10,\"solidity\":0.2},\"type\":\"scatter\"}],\"scatterternary\":[{\"marker\":{\"colorbar\":{\"outlinewidth\":0,\"ticks\":\"\"}},\"type\":\"scatterternary\"}],\"surface\":[{\"colorbar\":{\"outlinewidth\":0,\"ticks\":\"\"},\"colorscale\":[[0.0,\"#0d0887\"],[0.1111111111111111,\"#46039f\"],[0.2222222222222222,\"#7201a8\"],[0.3333333333333333,\"#9c179e\"],[0.4444444444444444,\"#bd3786\"],[0.5555555555555556,\"#d8576b\"],[0.6666666666666666,\"#ed7953\"],[0.7777777777777778,\"#fb9f3a\"],[0.8888888888888888,\"#fdca26\"],[1.0,\"#f0f921\"]],\"type\":\"surface\"}],\"table\":[{\"cells\":{\"fill\":{\"color\":\"#EBF0F8\"},\"line\":{\"color\":\"white\"}},\"header\":{\"fill\":{\"color\":\"#C8D4E3\"},\"line\":{\"color\":\"white\"}},\"type\":\"table\"}]},\"layout\":{\"annotationdefaults\":{\"arrowcolor\":\"#2a3f5f\",\"arrowhead\":0,\"arrowwidth\":1},\"autotypenumbers\":\"strict\",\"coloraxis\":{\"colorbar\":{\"outlinewidth\":0,\"ticks\":\"\"}},\"colorscale\":{\"diverging\":[[0,\"#8e0152\"],[0.1,\"#c51b7d\"],[0.2,\"#de77ae\"],[0.3,\"#f1b6da\"],[0.4,\"#fde0ef\"],[0.5,\"#f7f7f7\"],[0.6,\"#e6f5d0\"],[0.7,\"#b8e186\"],[0.8,\"#7fbc41\"],[0.9,\"#4d9221\"],[1,\"#276419\"]],\"sequential\":[[0.0,\"#0d0887\"],[0.1111111111111111,\"#46039f\"],[0.2222222222222222,\"#7201a8\"],[0.3333333333333333,\"#9c179e\"],[0.4444444444444444,\"#bd3786\"],[0.5555555555555556,\"#d8576b\"],[0.6666666666666666,\"#ed7953\"],[0.7777777777777778,\"#fb9f3a\"],[0.8888888888888888,\"#fdca26\"],[1.0,\"#f0f921\"]],\"sequentialminus\":[[0.0,\"#0d0887\"],[0.1111111111111111,\"#46039f\"],[0.2222222222222222,\"#7201a8\"],[0.3333333333333333,\"#9c179e\"],[0.4444444444444444,\"#bd3786\"],[0.5555555555555556,\"#d8576b\"],[0.6666666666666666,\"#ed7953\"],[0.7777777777777778,\"#fb9f3a\"],[0.8888888888888888,\"#fdca26\"],[1.0,\"#f0f921\"]]},\"colorway\":[\"#636efa\",\"#EF553B\",\"#00cc96\",\"#ab63fa\",\"#FFA15A\",\"#19d3f3\",\"#FF6692\",\"#B6E880\",\"#FF97FF\",\"#FECB52\"],\"font\":{\"color\":\"#2a3f5f\"},\"geo\":{\"bgcolor\":\"white\",\"lakecolor\":\"white\",\"landcolor\":\"white\",\"showlakes\":true,\"showland\":true,\"subunitcolor\":\"#C8D4E3\"},\"hoverlabel\":{\"align\":\"left\"},\"hovermode\":\"closest\",\"mapbox\":{\"style\":\"light\"},\"paper_bgcolor\":\"white\",\"plot_bgcolor\":\"white\",\"polar\":{\"angularaxis\":{\"gridcolor\":\"#EBF0F8\",\"linecolor\":\"#EBF0F8\",\"ticks\":\"\"},\"bgcolor\":\"white\",\"radialaxis\":{\"gridcolor\":\"#EBF0F8\",\"linecolor\":\"#EBF0F8\",\"ticks\":\"\"}},\"scene\":{\"xaxis\":{\"backgroundcolor\":\"white\",\"gridcolor\":\"#DFE8F3\",\"gridwidth\":2,\"linecolor\":\"#EBF0F8\",\"showbackground\":true,\"ticks\":\"\",\"zerolinecolor\":\"#EBF0F8\"},\"yaxis\":{\"backgroundcolor\":\"white\",\"gridcolor\":\"#DFE8F3\",\"gridwidth\":2,\"linecolor\":\"#EBF0F8\",\"showbackground\":true,\"ticks\":\"\",\"zerolinecolor\":\"#EBF0F8\"},\"zaxis\":{\"backgroundcolor\":\"white\",\"gridcolor\":\"#DFE8F3\",\"gridwidth\":2,\"linecolor\":\"#EBF0F8\",\"showbackground\":true,\"ticks\":\"\",\"zerolinecolor\":\"#EBF0F8\"}},\"shapedefaults\":{\"line\":{\"color\":\"#2a3f5f\"}},\"ternary\":{\"aaxis\":{\"gridcolor\":\"#DFE8F3\",\"linecolor\":\"#A2B1C6\",\"ticks\":\"\"},\"baxis\":{\"gridcolor\":\"#DFE8F3\",\"linecolor\":\"#A2B1C6\",\"ticks\":\"\"},\"bgcolor\":\"white\",\"caxis\":{\"gridcolor\":\"#DFE8F3\",\"linecolor\":\"#A2B1C6\",\"ticks\":\"\"}},\"title\":{\"x\":0.05},\"xaxis\":{\"automargin\":true,\"gridcolor\":\"#EBF0F8\",\"linecolor\":\"#EBF0F8\",\"ticks\":\"\",\"title\":{\"standoff\":15},\"zerolinecolor\":\"#EBF0F8\",\"zerolinewidth\":2},\"yaxis\":{\"automargin\":true,\"gridcolor\":\"#EBF0F8\",\"linecolor\":\"#EBF0F8\",\"ticks\":\"\",\"title\":{\"standoff\":15},\"zerolinecolor\":\"#EBF0F8\",\"zerolinewidth\":2}}},\"xaxis\":{\"anchor\":\"y\",\"domain\":[0.0,1.0],\"title\":{\"text\":\"Year\"}},\"yaxis\":{\"anchor\":\"x\",\"domain\":[0.0,1.0],\"title\":{\"text\":\"[Tonnes]\"}},\"legend\":{\"title\":{\"text\":\"variable\"},\"tracegroupgap\":0},\"margin\":{\"t\":60},\"title\":{\"text\":\"Cumulative Waste E O L\"}},                        {\"responsive\": true}                    ).then(function(){\n",
       "                            \n",
       "var gd = document.getElementById('610e4ce1-e109-4dd9-b123-67767b29892e');\n",
       "var x = new MutationObserver(function (mutations, observer) {{\n",
       "        var display = window.getComputedStyle(gd).display;\n",
       "        if (!display || display === 'none') {{\n",
       "            console.log([gd, 'removed!']);\n",
       "            Plotly.purge(gd);\n",
       "            observer.disconnect();\n",
       "        }}\n",
       "}});\n",
       "\n",
       "// Listen for the removal of the full notebook cells\n",
       "var notebookContainer = gd.closest('#notebook-container');\n",
       "if (notebookContainer) {{\n",
       "    x.observe(notebookContainer, {childList: true});\n",
       "}}\n",
       "\n",
       "// Listen for the clearing of the current output cell\n",
       "var outputEl = gd.closest('.output');\n",
       "if (outputEl) {{\n",
       "    x.observe(outputEl, {childList: true});\n",
       "}}\n",
       "\n",
       "                        })                };                });            </script>        </div>"
      ]
     },
     "metadata": {},
     "output_type": "display_data"
    },
    {
     "data": {
      "application/vnd.plotly.v1+json": {
       "config": {
        "plotlyServerURL": "https://plot.ly"
       },
       "data": [
        {
         "hovertemplate": "Glass sim1 topcon",
         "legendgroup": "WasteMFG_glass_sim1_TOPCon_[Tonnes]",
         "line": {
          "color": "#636efa",
          "dash": "solid"
         },
         "marker": {
          "symbol": "circle"
         },
         "mode": "lines",
         "name": "Glass sim1 topcon",
         "orientation": "v",
         "showlegend": true,
         "type": "scatter",
         "x": [
          2020,
          2021,
          2022,
          2023,
          2024,
          2025,
          2026,
          2027,
          2028,
          2029,
          2030,
          2031,
          2032,
          2033,
          2034,
          2035,
          2036,
          2037,
          2038,
          2039,
          2040,
          2041,
          2042,
          2043,
          2044,
          2045,
          2046,
          2047,
          2048,
          2049,
          2050
         ],
         "xaxis": "x",
         "y": [
          55957.16594964563,
          119238.18545613147,
          173964.80782555908,
          228778.96874834888,
          280729.48643372045,
          331201.2199097129,
          377612.45854948583,
          424895.92407312867,
          469234.2559987195,
          514532.24566438625,
          556643.5038351909,
          606703.2513707316,
          656762.9989062723,
          729333.2750803333,
          801903.5512543943,
          883528.5114806175,
          965153.4717068406,
          1050382.5808994852,
          1135611.6900921296,
          1229481.197765423,
          1323350.7054387163,
          1418681.0246454282,
          1514011.34385214,
          1619447.4813515677,
          1724883.6188509953,
          1836586.8175962903,
          1948290.0163415852,
          2063753.990837012,
          2179217.9653324387,
          2303539.4809063566,
          2427860.9964802745
         ],
         "yaxis": "y"
        },
        {
         "hovertemplate": "Aluminium frames sim1 topcon",
         "legendgroup": "WasteMFG_aluminium_frames_sim1_TOPCon_[Tonnes]",
         "line": {
          "color": "#EF553B",
          "dash": "solid"
         },
         "marker": {
          "symbol": "circle"
         },
         "mode": "lines",
         "name": "Aluminium frames sim1 topcon",
         "orientation": "v",
         "showlegend": true,
         "type": "scatter",
         "x": [
          2020,
          2021,
          2022,
          2023,
          2024,
          2025,
          2026,
          2027,
          2028,
          2029,
          2030,
          2031,
          2032,
          2033,
          2034,
          2035,
          2036,
          2037,
          2038,
          2039,
          2040,
          2041,
          2042,
          2043,
          2044,
          2045,
          2046,
          2047,
          2048,
          2049,
          2050
         ],
         "xaxis": "x",
         "y": [
          3280.189686514633,
          7008.890150100113,
          10314.332229854293,
          13789.358814512665,
          17198.132314925293,
          20632.282084127808,
          24013.91965451683,
          27621.60948032283,
          31174.062694987442,
          35119.111309848464,
          39003.651935735536,
          43583.235428870365,
          48162.81892200519,
          54801.718541365335,
          61440.61816072547,
          68907.86158248679,
          76375.10500424811,
          84172.06445387601,
          91969.02390350391,
          100556.42733665364,
          109143.83076980336,
          117864.87267926119,
          126585.91458871901,
          136231.4605341807,
          145877.00647964235,
          156095.87793402048,
          166314.7493883986,
          176877.6654573537,
          187440.5815263088,
          198813.80629456404,
          210187.0310628193
         ],
         "yaxis": "y"
        },
        {
         "hovertemplate": "Silver sim1 topcon",
         "legendgroup": "WasteMFG_silver_sim1_TOPCon_[Tonnes]",
         "line": {
          "color": "#00cc96",
          "dash": "solid"
         },
         "marker": {
          "symbol": "circle"
         },
         "mode": "lines",
         "name": "Silver sim1 topcon",
         "orientation": "v",
         "showlegend": true,
         "type": "scatter",
         "x": [
          2020,
          2021,
          2022,
          2023,
          2024,
          2025,
          2026,
          2027,
          2028,
          2029,
          2030,
          2031,
          2032,
          2033,
          2034,
          2035,
          2036,
          2037,
          2038,
          2039,
          2040,
          2041,
          2042,
          2043,
          2044,
          2045,
          2046,
          2047,
          2048,
          2049,
          2050
         ],
         "xaxis": "x",
         "y": [
          129.52925746388746,
          278.5537617495272,
          407.0768825144558,
          538.2933590911489,
          662.3123392305888,
          782.4111818901284,
          895.3358123669932,
          1010.022693036304,
          1117.163152951002,
          1229.6083040226288,
          1333.7868587227422,
          1456.4558471771622,
          1577.9515934465771,
          1752.3799072362328,
          1925.107403231623,
          2117.473293810659,
          2307.9261534336606,
          2504.790955573644,
          2699.6582569027373,
          2912.0809067601704,
          3122.3035521887005,
          3333.5634731178434,
          3542.5891528150687,
          3771.302228793077,
          3997.5442151146603,
          4234.615920664732,
          4469.069656460262,
          4708.710770394003,
          4945.645773881816,
          5197.842973063816,
          5447.126469046024
         ],
         "yaxis": "y"
        },
        {
         "hovertemplate": "Silicon sim1 topcon",
         "legendgroup": "WasteMFG_silicon_sim1_TOPCon_[Tonnes]",
         "line": {
          "color": "#ab63fa",
          "dash": "solid"
         },
         "marker": {
          "symbol": "circle"
         },
         "mode": "lines",
         "name": "Silicon sim1 topcon",
         "orientation": "v",
         "showlegend": true,
         "type": "scatter",
         "x": [
          2020,
          2021,
          2022,
          2023,
          2024,
          2025,
          2026,
          2027,
          2028,
          2029,
          2030,
          2031,
          2032,
          2033,
          2034,
          2035,
          2036,
          2037,
          2038,
          2039,
          2040,
          2041,
          2042,
          2043,
          2044,
          2045,
          2046,
          2047,
          2048,
          2049,
          2050
         ],
         "xaxis": "x",
         "y": [
          16637.909343534047,
          36748.2179125807,
          55125.24888150858,
          73186.56733916701,
          89334.28153565127,
          105107.61164176436,
          120187.80552027395,
          135910.07106870195,
          150950.1206798182,
          167166.5709931566,
          182805.37903817557,
          201266.90656848944,
          219728.43409880332,
          246491.61644443404,
          273254.79879006476,
          303357.25684395985,
          333459.71489785495,
          364891.3465621384,
          396322.97822642187,
          430941.1012790237,
          465559.2243316255,
          500716.0798722737,
          535872.935412922,
          574756.714316395,
          613640.493219868,
          654835.5007934938,
          696030.5083671196,
          738612.451921537,
          781194.3954759545,
          827042.9104080113,
          872891.4253400681
         ],
         "yaxis": "y"
        },
        {
         "hovertemplate": "Copper sim1 topcon",
         "legendgroup": "WasteMFG_copper_sim1_TOPCon_[Tonnes]",
         "line": {
          "color": "#FFA15A",
          "dash": "solid"
         },
         "marker": {
          "symbol": "circle"
         },
         "mode": "lines",
         "name": "Copper sim1 topcon",
         "orientation": "v",
         "showlegend": true,
         "type": "scatter",
         "x": [
          2020,
          2021,
          2022,
          2023,
          2024,
          2025,
          2026,
          2027,
          2028,
          2029,
          2030,
          2031,
          2032,
          2033,
          2034,
          2035,
          2036,
          2037,
          2038,
          2039,
          2040,
          2041,
          2042,
          2043,
          2044,
          2045,
          2046,
          2047,
          2048,
          2049,
          2050
         ],
         "xaxis": "x",
         "y": [
          87.46269841648245,
          193.04187650885177,
          288.75655847157134,
          392.01952911816886,
          495.3813852096012,
          597.4781272538017,
          695.5680082476022,
          797.563650260138,
          895.1868383059726,
          1000.4261187581211,
          1100.8756699769974,
          1220.2850486680736,
          1339.6944273591498,
          1512.7990077055088,
          1685.9035880518677,
          1880.6066432236348,
          2075.309698395402,
          2278.609864219494,
          2481.9100300435857,
          2705.820459902372,
          2929.7308897611583,
          3157.125847732404,
          3384.52080570365,
          3636.021548120599,
          3887.5222905375485,
          4153.972087363066,
          4420.421884188583,
          4695.842399362227,
          4971.2629145358715,
          5267.811652063461,
          5564.360389591051
         ],
         "yaxis": "y"
        },
        {
         "hovertemplate": "Encapsulant sim1 topcon",
         "legendgroup": "WasteMFG_encapsulant_sim1_TOPCon_[Tonnes]",
         "line": {
          "color": "#19d3f3",
          "dash": "solid"
         },
         "marker": {
          "symbol": "circle"
         },
         "mode": "lines",
         "name": "Encapsulant sim1 topcon",
         "orientation": "v",
         "showlegend": true,
         "type": "scatter",
         "x": [
          2020,
          2021,
          2022,
          2023,
          2024,
          2025,
          2026,
          2027,
          2028,
          2029,
          2030,
          2031,
          2032,
          2033,
          2034,
          2035,
          2036,
          2037,
          2038,
          2039,
          2040,
          2041,
          2042,
          2043,
          2044,
          2045,
          2046,
          2047,
          2048,
          2049,
          2050
         ],
         "xaxis": "x",
         "y": [
          2073.7147523957137,
          4446.9437195975415,
          6515.482377657661,
          8715.716460913947,
          10836.857334263314,
          12897.357122651345,
          14862.142879323204,
          16939.101816800652,
          18964.685941761025,
          21238.88843394323,
          23501.91825079098,
          26198.277755141396,
          28894.637259491814,
          32803.47746601388,
          36712.317672535944,
          41108.868756656884,
          45505.419840777824,
          50096.10057594839,
          54686.78131111895,
          59742.8583319606,
          64798.93535280224,
          69933.69581205715,
          75068.45627131207,
          80747.5446695654,
          86426.63306781872,
          92443.2830996509,
          98459.93313148308,
          104679.1491756668,
          110898.36521985052,
          117594.6734638142,
          124290.98170777787
         ],
         "yaxis": "y"
        },
        {
         "hovertemplate": "Backsheet sim1 topcon",
         "legendgroup": "WasteMFG_backsheet_sim1_TOPCon_[Tonnes]",
         "line": {
          "color": "#FF6692",
          "dash": "solid"
         },
         "marker": {
          "symbol": "circle"
         },
         "mode": "lines",
         "name": "Backsheet sim1 topcon",
         "orientation": "v",
         "showlegend": true,
         "type": "scatter",
         "x": [
          2020,
          2021,
          2022,
          2023,
          2024,
          2025,
          2026,
          2027,
          2028,
          2029,
          2030,
          2031,
          2032,
          2033,
          2034,
          2035,
          2036,
          2037,
          2038,
          2039,
          2040,
          2041,
          2042,
          2043,
          2044,
          2045,
          2046,
          2047,
          2048,
          2049,
          2050
         ],
         "xaxis": "x",
         "y": [
          1973.895906117302,
          4213.800235171745,
          6181.913407170929,
          8231.423002771644,
          10237.093513864631,
          12255.239457995956,
          14177.929583746178,
          16152.910232838463,
          18021.837100308152,
          20001.561307255997,
          21858.708138985407,
          23937.90441762997,
          26017.10069627453,
          29031.2558926065,
          32045.41108893847,
          35435.64619602489,
          38825.88130311132,
          42365.812193488375,
          45905.74308386543,
          49804.546826212405,
          53703.35056855938,
          57662.828086816364,
          61622.30560507335,
          66001.5211528111,
          70380.73670054885,
          75020.250213457,
          79659.76372636514,
          84455.47840546853,
          89251.19308457192,
          94414.79948017396,
          99578.40587577599
         ],
         "yaxis": "y"
        },
        {
         "hovertemplate": "Module sim1 topcon",
         "legendgroup": "WasteMFG_Module_sim1_TOPCon_[Tonnes]",
         "line": {
          "color": "#B6E880",
          "dash": "solid"
         },
         "marker": {
          "symbol": "circle"
         },
         "mode": "lines",
         "name": "Module sim1 topcon",
         "orientation": "v",
         "showlegend": true,
         "type": "scatter",
         "x": [
          2020,
          2021,
          2022,
          2023,
          2024,
          2025,
          2026,
          2027,
          2028,
          2029,
          2030,
          2031,
          2032,
          2033,
          2034,
          2035,
          2036,
          2037,
          2038,
          2039,
          2040,
          2041,
          2042,
          2043,
          2044,
          2045,
          2046,
          2047,
          2048,
          2049,
          2050
         ],
         "xaxis": "x",
         "y": [
          80139.86759408771,
          172127.63311183997,
          252797.6181627366,
          333632.3472539235,
          409493.5448568652,
          483473.5995253963,
          552445.1600079606,
          623327.203015089,
          690357.3124068513,
          760288.4121313713,
          826247.8237275782,
          904366.3164367081,
          982483.635903653,
          1095726.522339695,
          1208967.7079579425,
          1336336.2247967802,
          1463702.8286046619,
          1596691.3055047295,
          1729677.7849039861,
          1876144.032905936,
          2022608.080903457,
          2171349.190416687,
          2320088.0656886855,
          2484592.045801434,
          2649093.5548245264,
          2823370.317644941,
          2997644.4624956013,
          3177783.288966795,
          3357919.409327543,
          3551871.325178048,
          3745820.327325354
         ],
         "yaxis": "y"
        }
       ],
       "layout": {
        "legend": {
         "title": {
          "text": "variable"
         },
         "tracegroupgap": 0
        },
        "margin": {
         "t": 60
        },
        "template": {
         "data": {
          "bar": [
           {
            "error_x": {
             "color": "#2a3f5f"
            },
            "error_y": {
             "color": "#2a3f5f"
            },
            "marker": {
             "line": {
              "color": "white",
              "width": 0.5
             },
             "pattern": {
              "fillmode": "overlay",
              "size": 10,
              "solidity": 0.2
             }
            },
            "type": "bar"
           }
          ],
          "barpolar": [
           {
            "marker": {
             "line": {
              "color": "white",
              "width": 0.5
             },
             "pattern": {
              "fillmode": "overlay",
              "size": 10,
              "solidity": 0.2
             }
            },
            "type": "barpolar"
           }
          ],
          "carpet": [
           {
            "aaxis": {
             "endlinecolor": "#2a3f5f",
             "gridcolor": "#C8D4E3",
             "linecolor": "#C8D4E3",
             "minorgridcolor": "#C8D4E3",
             "startlinecolor": "#2a3f5f"
            },
            "baxis": {
             "endlinecolor": "#2a3f5f",
             "gridcolor": "#C8D4E3",
             "linecolor": "#C8D4E3",
             "minorgridcolor": "#C8D4E3",
             "startlinecolor": "#2a3f5f"
            },
            "type": "carpet"
           }
          ],
          "choropleth": [
           {
            "colorbar": {
             "outlinewidth": 0,
             "ticks": ""
            },
            "type": "choropleth"
           }
          ],
          "contour": [
           {
            "colorbar": {
             "outlinewidth": 0,
             "ticks": ""
            },
            "colorscale": [
             [
              0,
              "#0d0887"
             ],
             [
              0.1111111111111111,
              "#46039f"
             ],
             [
              0.2222222222222222,
              "#7201a8"
             ],
             [
              0.3333333333333333,
              "#9c179e"
             ],
             [
              0.4444444444444444,
              "#bd3786"
             ],
             [
              0.5555555555555556,
              "#d8576b"
             ],
             [
              0.6666666666666666,
              "#ed7953"
             ],
             [
              0.7777777777777778,
              "#fb9f3a"
             ],
             [
              0.8888888888888888,
              "#fdca26"
             ],
             [
              1,
              "#f0f921"
             ]
            ],
            "type": "contour"
           }
          ],
          "contourcarpet": [
           {
            "colorbar": {
             "outlinewidth": 0,
             "ticks": ""
            },
            "type": "contourcarpet"
           }
          ],
          "heatmap": [
           {
            "colorbar": {
             "outlinewidth": 0,
             "ticks": ""
            },
            "colorscale": [
             [
              0,
              "#0d0887"
             ],
             [
              0.1111111111111111,
              "#46039f"
             ],
             [
              0.2222222222222222,
              "#7201a8"
             ],
             [
              0.3333333333333333,
              "#9c179e"
             ],
             [
              0.4444444444444444,
              "#bd3786"
             ],
             [
              0.5555555555555556,
              "#d8576b"
             ],
             [
              0.6666666666666666,
              "#ed7953"
             ],
             [
              0.7777777777777778,
              "#fb9f3a"
             ],
             [
              0.8888888888888888,
              "#fdca26"
             ],
             [
              1,
              "#f0f921"
             ]
            ],
            "type": "heatmap"
           }
          ],
          "heatmapgl": [
           {
            "colorbar": {
             "outlinewidth": 0,
             "ticks": ""
            },
            "colorscale": [
             [
              0,
              "#0d0887"
             ],
             [
              0.1111111111111111,
              "#46039f"
             ],
             [
              0.2222222222222222,
              "#7201a8"
             ],
             [
              0.3333333333333333,
              "#9c179e"
             ],
             [
              0.4444444444444444,
              "#bd3786"
             ],
             [
              0.5555555555555556,
              "#d8576b"
             ],
             [
              0.6666666666666666,
              "#ed7953"
             ],
             [
              0.7777777777777778,
              "#fb9f3a"
             ],
             [
              0.8888888888888888,
              "#fdca26"
             ],
             [
              1,
              "#f0f921"
             ]
            ],
            "type": "heatmapgl"
           }
          ],
          "histogram": [
           {
            "marker": {
             "pattern": {
              "fillmode": "overlay",
              "size": 10,
              "solidity": 0.2
             }
            },
            "type": "histogram"
           }
          ],
          "histogram2d": [
           {
            "colorbar": {
             "outlinewidth": 0,
             "ticks": ""
            },
            "colorscale": [
             [
              0,
              "#0d0887"
             ],
             [
              0.1111111111111111,
              "#46039f"
             ],
             [
              0.2222222222222222,
              "#7201a8"
             ],
             [
              0.3333333333333333,
              "#9c179e"
             ],
             [
              0.4444444444444444,
              "#bd3786"
             ],
             [
              0.5555555555555556,
              "#d8576b"
             ],
             [
              0.6666666666666666,
              "#ed7953"
             ],
             [
              0.7777777777777778,
              "#fb9f3a"
             ],
             [
              0.8888888888888888,
              "#fdca26"
             ],
             [
              1,
              "#f0f921"
             ]
            ],
            "type": "histogram2d"
           }
          ],
          "histogram2dcontour": [
           {
            "colorbar": {
             "outlinewidth": 0,
             "ticks": ""
            },
            "colorscale": [
             [
              0,
              "#0d0887"
             ],
             [
              0.1111111111111111,
              "#46039f"
             ],
             [
              0.2222222222222222,
              "#7201a8"
             ],
             [
              0.3333333333333333,
              "#9c179e"
             ],
             [
              0.4444444444444444,
              "#bd3786"
             ],
             [
              0.5555555555555556,
              "#d8576b"
             ],
             [
              0.6666666666666666,
              "#ed7953"
             ],
             [
              0.7777777777777778,
              "#fb9f3a"
             ],
             [
              0.8888888888888888,
              "#fdca26"
             ],
             [
              1,
              "#f0f921"
             ]
            ],
            "type": "histogram2dcontour"
           }
          ],
          "mesh3d": [
           {
            "colorbar": {
             "outlinewidth": 0,
             "ticks": ""
            },
            "type": "mesh3d"
           }
          ],
          "parcoords": [
           {
            "line": {
             "colorbar": {
              "outlinewidth": 0,
              "ticks": ""
             }
            },
            "type": "parcoords"
           }
          ],
          "pie": [
           {
            "automargin": true,
            "type": "pie"
           }
          ],
          "scatter": [
           {
            "fillpattern": {
             "fillmode": "overlay",
             "size": 10,
             "solidity": 0.2
            },
            "type": "scatter"
           }
          ],
          "scatter3d": [
           {
            "line": {
             "colorbar": {
              "outlinewidth": 0,
              "ticks": ""
             }
            },
            "marker": {
             "colorbar": {
              "outlinewidth": 0,
              "ticks": ""
             }
            },
            "type": "scatter3d"
           }
          ],
          "scattercarpet": [
           {
            "marker": {
             "colorbar": {
              "outlinewidth": 0,
              "ticks": ""
             }
            },
            "type": "scattercarpet"
           }
          ],
          "scattergeo": [
           {
            "marker": {
             "colorbar": {
              "outlinewidth": 0,
              "ticks": ""
             }
            },
            "type": "scattergeo"
           }
          ],
          "scattergl": [
           {
            "marker": {
             "colorbar": {
              "outlinewidth": 0,
              "ticks": ""
             }
            },
            "type": "scattergl"
           }
          ],
          "scattermapbox": [
           {
            "marker": {
             "colorbar": {
              "outlinewidth": 0,
              "ticks": ""
             }
            },
            "type": "scattermapbox"
           }
          ],
          "scatterpolar": [
           {
            "marker": {
             "colorbar": {
              "outlinewidth": 0,
              "ticks": ""
             }
            },
            "type": "scatterpolar"
           }
          ],
          "scatterpolargl": [
           {
            "marker": {
             "colorbar": {
              "outlinewidth": 0,
              "ticks": ""
             }
            },
            "type": "scatterpolargl"
           }
          ],
          "scatterternary": [
           {
            "marker": {
             "colorbar": {
              "outlinewidth": 0,
              "ticks": ""
             }
            },
            "type": "scatterternary"
           }
          ],
          "surface": [
           {
            "colorbar": {
             "outlinewidth": 0,
             "ticks": ""
            },
            "colorscale": [
             [
              0,
              "#0d0887"
             ],
             [
              0.1111111111111111,
              "#46039f"
             ],
             [
              0.2222222222222222,
              "#7201a8"
             ],
             [
              0.3333333333333333,
              "#9c179e"
             ],
             [
              0.4444444444444444,
              "#bd3786"
             ],
             [
              0.5555555555555556,
              "#d8576b"
             ],
             [
              0.6666666666666666,
              "#ed7953"
             ],
             [
              0.7777777777777778,
              "#fb9f3a"
             ],
             [
              0.8888888888888888,
              "#fdca26"
             ],
             [
              1,
              "#f0f921"
             ]
            ],
            "type": "surface"
           }
          ],
          "table": [
           {
            "cells": {
             "fill": {
              "color": "#EBF0F8"
             },
             "line": {
              "color": "white"
             }
            },
            "header": {
             "fill": {
              "color": "#C8D4E3"
             },
             "line": {
              "color": "white"
             }
            },
            "type": "table"
           }
          ]
         },
         "layout": {
          "annotationdefaults": {
           "arrowcolor": "#2a3f5f",
           "arrowhead": 0,
           "arrowwidth": 1
          },
          "autotypenumbers": "strict",
          "coloraxis": {
           "colorbar": {
            "outlinewidth": 0,
            "ticks": ""
           }
          },
          "colorscale": {
           "diverging": [
            [
             0,
             "#8e0152"
            ],
            [
             0.1,
             "#c51b7d"
            ],
            [
             0.2,
             "#de77ae"
            ],
            [
             0.3,
             "#f1b6da"
            ],
            [
             0.4,
             "#fde0ef"
            ],
            [
             0.5,
             "#f7f7f7"
            ],
            [
             0.6,
             "#e6f5d0"
            ],
            [
             0.7,
             "#b8e186"
            ],
            [
             0.8,
             "#7fbc41"
            ],
            [
             0.9,
             "#4d9221"
            ],
            [
             1,
             "#276419"
            ]
           ],
           "sequential": [
            [
             0,
             "#0d0887"
            ],
            [
             0.1111111111111111,
             "#46039f"
            ],
            [
             0.2222222222222222,
             "#7201a8"
            ],
            [
             0.3333333333333333,
             "#9c179e"
            ],
            [
             0.4444444444444444,
             "#bd3786"
            ],
            [
             0.5555555555555556,
             "#d8576b"
            ],
            [
             0.6666666666666666,
             "#ed7953"
            ],
            [
             0.7777777777777778,
             "#fb9f3a"
            ],
            [
             0.8888888888888888,
             "#fdca26"
            ],
            [
             1,
             "#f0f921"
            ]
           ],
           "sequentialminus": [
            [
             0,
             "#0d0887"
            ],
            [
             0.1111111111111111,
             "#46039f"
            ],
            [
             0.2222222222222222,
             "#7201a8"
            ],
            [
             0.3333333333333333,
             "#9c179e"
            ],
            [
             0.4444444444444444,
             "#bd3786"
            ],
            [
             0.5555555555555556,
             "#d8576b"
            ],
            [
             0.6666666666666666,
             "#ed7953"
            ],
            [
             0.7777777777777778,
             "#fb9f3a"
            ],
            [
             0.8888888888888888,
             "#fdca26"
            ],
            [
             1,
             "#f0f921"
            ]
           ]
          },
          "colorway": [
           "#636efa",
           "#EF553B",
           "#00cc96",
           "#ab63fa",
           "#FFA15A",
           "#19d3f3",
           "#FF6692",
           "#B6E880",
           "#FF97FF",
           "#FECB52"
          ],
          "font": {
           "color": "#2a3f5f"
          },
          "geo": {
           "bgcolor": "white",
           "lakecolor": "white",
           "landcolor": "white",
           "showlakes": true,
           "showland": true,
           "subunitcolor": "#C8D4E3"
          },
          "hoverlabel": {
           "align": "left"
          },
          "hovermode": "closest",
          "mapbox": {
           "style": "light"
          },
          "paper_bgcolor": "white",
          "plot_bgcolor": "white",
          "polar": {
           "angularaxis": {
            "gridcolor": "#EBF0F8",
            "linecolor": "#EBF0F8",
            "ticks": ""
           },
           "bgcolor": "white",
           "radialaxis": {
            "gridcolor": "#EBF0F8",
            "linecolor": "#EBF0F8",
            "ticks": ""
           }
          },
          "scene": {
           "xaxis": {
            "backgroundcolor": "white",
            "gridcolor": "#DFE8F3",
            "gridwidth": 2,
            "linecolor": "#EBF0F8",
            "showbackground": true,
            "ticks": "",
            "zerolinecolor": "#EBF0F8"
           },
           "yaxis": {
            "backgroundcolor": "white",
            "gridcolor": "#DFE8F3",
            "gridwidth": 2,
            "linecolor": "#EBF0F8",
            "showbackground": true,
            "ticks": "",
            "zerolinecolor": "#EBF0F8"
           },
           "zaxis": {
            "backgroundcolor": "white",
            "gridcolor": "#DFE8F3",
            "gridwidth": 2,
            "linecolor": "#EBF0F8",
            "showbackground": true,
            "ticks": "",
            "zerolinecolor": "#EBF0F8"
           }
          },
          "shapedefaults": {
           "line": {
            "color": "#2a3f5f"
           }
          },
          "ternary": {
           "aaxis": {
            "gridcolor": "#DFE8F3",
            "linecolor": "#A2B1C6",
            "ticks": ""
           },
           "baxis": {
            "gridcolor": "#DFE8F3",
            "linecolor": "#A2B1C6",
            "ticks": ""
           },
           "bgcolor": "white",
           "caxis": {
            "gridcolor": "#DFE8F3",
            "linecolor": "#A2B1C6",
            "ticks": ""
           }
          },
          "title": {
           "x": 0.05
          },
          "xaxis": {
           "automargin": true,
           "gridcolor": "#EBF0F8",
           "linecolor": "#EBF0F8",
           "ticks": "",
           "title": {
            "standoff": 15
           },
           "zerolinecolor": "#EBF0F8",
           "zerolinewidth": 2
          },
          "yaxis": {
           "automargin": true,
           "gridcolor": "#EBF0F8",
           "linecolor": "#EBF0F8",
           "ticks": "",
           "title": {
            "standoff": 15
           },
           "zerolinecolor": "#EBF0F8",
           "zerolinewidth": 2
          }
         }
        },
        "title": {
         "text": "Cumulative Waste M F G"
        },
        "xaxis": {
         "anchor": "y",
         "domain": [
          0,
          1
         ],
         "title": {
          "text": "Year"
         }
        },
        "yaxis": {
         "anchor": "x",
         "domain": [
          0,
          1
         ],
         "title": {
          "text": "[Tonnes]"
         }
        }
       }
      },
      "text/html": [
       "<div>                            <div id=\"ad072665-c52d-45d0-acda-8065aa367988\" class=\"plotly-graph-div\" style=\"height:525px; width:100%;\"></div>            <script type=\"text/javascript\">                require([\"plotly\"], function(Plotly) {                    window.PLOTLYENV=window.PLOTLYENV || {};                                    if (document.getElementById(\"ad072665-c52d-45d0-acda-8065aa367988\")) {                    Plotly.newPlot(                        \"ad072665-c52d-45d0-acda-8065aa367988\",                        [{\"hovertemplate\":\"Glass sim1 topcon\",\"legendgroup\":\"WasteMFG_glass_sim1_TOPCon_[Tonnes]\",\"line\":{\"color\":\"#636efa\",\"dash\":\"solid\"},\"marker\":{\"symbol\":\"circle\"},\"mode\":\"lines\",\"name\":\"Glass sim1 topcon\",\"orientation\":\"v\",\"showlegend\":true,\"x\":[2020,2021,2022,2023,2024,2025,2026,2027,2028,2029,2030,2031,2032,2033,2034,2035,2036,2037,2038,2039,2040,2041,2042,2043,2044,2045,2046,2047,2048,2049,2050],\"xaxis\":\"x\",\"y\":[55957.16594964563,119238.18545613147,173964.80782555908,228778.96874834888,280729.48643372045,331201.2199097129,377612.45854948583,424895.92407312867,469234.2559987195,514532.24566438625,556643.5038351909,606703.2513707316,656762.9989062723,729333.2750803333,801903.5512543943,883528.5114806175,965153.4717068406,1050382.5808994852,1135611.6900921296,1229481.197765423,1323350.7054387163,1418681.0246454282,1514011.34385214,1619447.4813515677,1724883.6188509953,1836586.8175962903,1948290.0163415852,2063753.990837012,2179217.9653324387,2303539.4809063566,2427860.9964802745],\"yaxis\":\"y\",\"type\":\"scatter\"},{\"hovertemplate\":\"Aluminium frames sim1 topcon\",\"legendgroup\":\"WasteMFG_aluminium_frames_sim1_TOPCon_[Tonnes]\",\"line\":{\"color\":\"#EF553B\",\"dash\":\"solid\"},\"marker\":{\"symbol\":\"circle\"},\"mode\":\"lines\",\"name\":\"Aluminium frames sim1 topcon\",\"orientation\":\"v\",\"showlegend\":true,\"x\":[2020,2021,2022,2023,2024,2025,2026,2027,2028,2029,2030,2031,2032,2033,2034,2035,2036,2037,2038,2039,2040,2041,2042,2043,2044,2045,2046,2047,2048,2049,2050],\"xaxis\":\"x\",\"y\":[3280.189686514633,7008.890150100113,10314.332229854293,13789.358814512665,17198.132314925293,20632.282084127808,24013.91965451683,27621.60948032283,31174.062694987442,35119.111309848464,39003.651935735536,43583.235428870365,48162.81892200519,54801.718541365335,61440.61816072547,68907.86158248679,76375.10500424811,84172.06445387601,91969.02390350391,100556.42733665364,109143.83076980336,117864.87267926119,126585.91458871901,136231.4605341807,145877.00647964235,156095.87793402048,166314.7493883986,176877.6654573537,187440.5815263088,198813.80629456404,210187.0310628193],\"yaxis\":\"y\",\"type\":\"scatter\"},{\"hovertemplate\":\"Silver sim1 topcon\",\"legendgroup\":\"WasteMFG_silver_sim1_TOPCon_[Tonnes]\",\"line\":{\"color\":\"#00cc96\",\"dash\":\"solid\"},\"marker\":{\"symbol\":\"circle\"},\"mode\":\"lines\",\"name\":\"Silver sim1 topcon\",\"orientation\":\"v\",\"showlegend\":true,\"x\":[2020,2021,2022,2023,2024,2025,2026,2027,2028,2029,2030,2031,2032,2033,2034,2035,2036,2037,2038,2039,2040,2041,2042,2043,2044,2045,2046,2047,2048,2049,2050],\"xaxis\":\"x\",\"y\":[129.52925746388746,278.5537617495272,407.0768825144558,538.2933590911489,662.3123392305888,782.4111818901284,895.3358123669932,1010.022693036304,1117.163152951002,1229.6083040226288,1333.7868587227422,1456.4558471771622,1577.9515934465771,1752.3799072362328,1925.107403231623,2117.473293810659,2307.9261534336606,2504.790955573644,2699.6582569027373,2912.0809067601704,3122.3035521887005,3333.5634731178434,3542.5891528150687,3771.302228793077,3997.5442151146603,4234.615920664732,4469.069656460262,4708.710770394003,4945.645773881816,5197.842973063816,5447.126469046024],\"yaxis\":\"y\",\"type\":\"scatter\"},{\"hovertemplate\":\"Silicon sim1 topcon\",\"legendgroup\":\"WasteMFG_silicon_sim1_TOPCon_[Tonnes]\",\"line\":{\"color\":\"#ab63fa\",\"dash\":\"solid\"},\"marker\":{\"symbol\":\"circle\"},\"mode\":\"lines\",\"name\":\"Silicon sim1 topcon\",\"orientation\":\"v\",\"showlegend\":true,\"x\":[2020,2021,2022,2023,2024,2025,2026,2027,2028,2029,2030,2031,2032,2033,2034,2035,2036,2037,2038,2039,2040,2041,2042,2043,2044,2045,2046,2047,2048,2049,2050],\"xaxis\":\"x\",\"y\":[16637.909343534047,36748.2179125807,55125.24888150858,73186.56733916701,89334.28153565127,105107.61164176436,120187.80552027395,135910.07106870195,150950.1206798182,167166.5709931566,182805.37903817557,201266.90656848944,219728.43409880332,246491.61644443404,273254.79879006476,303357.25684395985,333459.71489785495,364891.3465621384,396322.97822642187,430941.1012790237,465559.2243316255,500716.0798722737,535872.935412922,574756.714316395,613640.493219868,654835.5007934938,696030.5083671196,738612.451921537,781194.3954759545,827042.9104080113,872891.4253400681],\"yaxis\":\"y\",\"type\":\"scatter\"},{\"hovertemplate\":\"Copper sim1 topcon\",\"legendgroup\":\"WasteMFG_copper_sim1_TOPCon_[Tonnes]\",\"line\":{\"color\":\"#FFA15A\",\"dash\":\"solid\"},\"marker\":{\"symbol\":\"circle\"},\"mode\":\"lines\",\"name\":\"Copper sim1 topcon\",\"orientation\":\"v\",\"showlegend\":true,\"x\":[2020,2021,2022,2023,2024,2025,2026,2027,2028,2029,2030,2031,2032,2033,2034,2035,2036,2037,2038,2039,2040,2041,2042,2043,2044,2045,2046,2047,2048,2049,2050],\"xaxis\":\"x\",\"y\":[87.46269841648245,193.04187650885177,288.75655847157134,392.01952911816886,495.3813852096012,597.4781272538017,695.5680082476022,797.563650260138,895.1868383059726,1000.4261187581211,1100.8756699769974,1220.2850486680736,1339.6944273591498,1512.7990077055088,1685.9035880518677,1880.6066432236348,2075.309698395402,2278.609864219494,2481.9100300435857,2705.820459902372,2929.7308897611583,3157.125847732404,3384.52080570365,3636.021548120599,3887.5222905375485,4153.972087363066,4420.421884188583,4695.842399362227,4971.2629145358715,5267.811652063461,5564.360389591051],\"yaxis\":\"y\",\"type\":\"scatter\"},{\"hovertemplate\":\"Encapsulant sim1 topcon\",\"legendgroup\":\"WasteMFG_encapsulant_sim1_TOPCon_[Tonnes]\",\"line\":{\"color\":\"#19d3f3\",\"dash\":\"solid\"},\"marker\":{\"symbol\":\"circle\"},\"mode\":\"lines\",\"name\":\"Encapsulant sim1 topcon\",\"orientation\":\"v\",\"showlegend\":true,\"x\":[2020,2021,2022,2023,2024,2025,2026,2027,2028,2029,2030,2031,2032,2033,2034,2035,2036,2037,2038,2039,2040,2041,2042,2043,2044,2045,2046,2047,2048,2049,2050],\"xaxis\":\"x\",\"y\":[2073.7147523957137,4446.9437195975415,6515.482377657661,8715.716460913947,10836.857334263314,12897.357122651345,14862.142879323204,16939.101816800652,18964.685941761025,21238.88843394323,23501.91825079098,26198.277755141396,28894.637259491814,32803.47746601388,36712.317672535944,41108.868756656884,45505.419840777824,50096.10057594839,54686.78131111895,59742.8583319606,64798.93535280224,69933.69581205715,75068.45627131207,80747.5446695654,86426.63306781872,92443.2830996509,98459.93313148308,104679.1491756668,110898.36521985052,117594.6734638142,124290.98170777787],\"yaxis\":\"y\",\"type\":\"scatter\"},{\"hovertemplate\":\"Backsheet sim1 topcon\",\"legendgroup\":\"WasteMFG_backsheet_sim1_TOPCon_[Tonnes]\",\"line\":{\"color\":\"#FF6692\",\"dash\":\"solid\"},\"marker\":{\"symbol\":\"circle\"},\"mode\":\"lines\",\"name\":\"Backsheet sim1 topcon\",\"orientation\":\"v\",\"showlegend\":true,\"x\":[2020,2021,2022,2023,2024,2025,2026,2027,2028,2029,2030,2031,2032,2033,2034,2035,2036,2037,2038,2039,2040,2041,2042,2043,2044,2045,2046,2047,2048,2049,2050],\"xaxis\":\"x\",\"y\":[1973.895906117302,4213.800235171745,6181.913407170929,8231.423002771644,10237.093513864631,12255.239457995956,14177.929583746178,16152.910232838463,18021.837100308152,20001.561307255997,21858.708138985407,23937.90441762997,26017.10069627453,29031.2558926065,32045.41108893847,35435.64619602489,38825.88130311132,42365.812193488375,45905.74308386543,49804.546826212405,53703.35056855938,57662.828086816364,61622.30560507335,66001.5211528111,70380.73670054885,75020.250213457,79659.76372636514,84455.47840546853,89251.19308457192,94414.79948017396,99578.40587577599],\"yaxis\":\"y\",\"type\":\"scatter\"},{\"hovertemplate\":\"Module sim1 topcon\",\"legendgroup\":\"WasteMFG_Module_sim1_TOPCon_[Tonnes]\",\"line\":{\"color\":\"#B6E880\",\"dash\":\"solid\"},\"marker\":{\"symbol\":\"circle\"},\"mode\":\"lines\",\"name\":\"Module sim1 topcon\",\"orientation\":\"v\",\"showlegend\":true,\"x\":[2020,2021,2022,2023,2024,2025,2026,2027,2028,2029,2030,2031,2032,2033,2034,2035,2036,2037,2038,2039,2040,2041,2042,2043,2044,2045,2046,2047,2048,2049,2050],\"xaxis\":\"x\",\"y\":[80139.86759408771,172127.63311183997,252797.6181627366,333632.3472539235,409493.5448568652,483473.5995253963,552445.1600079606,623327.203015089,690357.3124068513,760288.4121313713,826247.8237275782,904366.3164367081,982483.635903653,1095726.522339695,1208967.7079579425,1336336.2247967802,1463702.8286046619,1596691.3055047295,1729677.7849039861,1876144.032905936,2022608.080903457,2171349.190416687,2320088.0656886855,2484592.045801434,2649093.5548245264,2823370.317644941,2997644.4624956013,3177783.288966795,3357919.409327543,3551871.325178048,3745820.327325354],\"yaxis\":\"y\",\"type\":\"scatter\"}],                        {\"template\":{\"data\":{\"barpolar\":[{\"marker\":{\"line\":{\"color\":\"white\",\"width\":0.5},\"pattern\":{\"fillmode\":\"overlay\",\"size\":10,\"solidity\":0.2}},\"type\":\"barpolar\"}],\"bar\":[{\"error_x\":{\"color\":\"#2a3f5f\"},\"error_y\":{\"color\":\"#2a3f5f\"},\"marker\":{\"line\":{\"color\":\"white\",\"width\":0.5},\"pattern\":{\"fillmode\":\"overlay\",\"size\":10,\"solidity\":0.2}},\"type\":\"bar\"}],\"carpet\":[{\"aaxis\":{\"endlinecolor\":\"#2a3f5f\",\"gridcolor\":\"#C8D4E3\",\"linecolor\":\"#C8D4E3\",\"minorgridcolor\":\"#C8D4E3\",\"startlinecolor\":\"#2a3f5f\"},\"baxis\":{\"endlinecolor\":\"#2a3f5f\",\"gridcolor\":\"#C8D4E3\",\"linecolor\":\"#C8D4E3\",\"minorgridcolor\":\"#C8D4E3\",\"startlinecolor\":\"#2a3f5f\"},\"type\":\"carpet\"}],\"choropleth\":[{\"colorbar\":{\"outlinewidth\":0,\"ticks\":\"\"},\"type\":\"choropleth\"}],\"contourcarpet\":[{\"colorbar\":{\"outlinewidth\":0,\"ticks\":\"\"},\"type\":\"contourcarpet\"}],\"contour\":[{\"colorbar\":{\"outlinewidth\":0,\"ticks\":\"\"},\"colorscale\":[[0.0,\"#0d0887\"],[0.1111111111111111,\"#46039f\"],[0.2222222222222222,\"#7201a8\"],[0.3333333333333333,\"#9c179e\"],[0.4444444444444444,\"#bd3786\"],[0.5555555555555556,\"#d8576b\"],[0.6666666666666666,\"#ed7953\"],[0.7777777777777778,\"#fb9f3a\"],[0.8888888888888888,\"#fdca26\"],[1.0,\"#f0f921\"]],\"type\":\"contour\"}],\"heatmapgl\":[{\"colorbar\":{\"outlinewidth\":0,\"ticks\":\"\"},\"colorscale\":[[0.0,\"#0d0887\"],[0.1111111111111111,\"#46039f\"],[0.2222222222222222,\"#7201a8\"],[0.3333333333333333,\"#9c179e\"],[0.4444444444444444,\"#bd3786\"],[0.5555555555555556,\"#d8576b\"],[0.6666666666666666,\"#ed7953\"],[0.7777777777777778,\"#fb9f3a\"],[0.8888888888888888,\"#fdca26\"],[1.0,\"#f0f921\"]],\"type\":\"heatmapgl\"}],\"heatmap\":[{\"colorbar\":{\"outlinewidth\":0,\"ticks\":\"\"},\"colorscale\":[[0.0,\"#0d0887\"],[0.1111111111111111,\"#46039f\"],[0.2222222222222222,\"#7201a8\"],[0.3333333333333333,\"#9c179e\"],[0.4444444444444444,\"#bd3786\"],[0.5555555555555556,\"#d8576b\"],[0.6666666666666666,\"#ed7953\"],[0.7777777777777778,\"#fb9f3a\"],[0.8888888888888888,\"#fdca26\"],[1.0,\"#f0f921\"]],\"type\":\"heatmap\"}],\"histogram2dcontour\":[{\"colorbar\":{\"outlinewidth\":0,\"ticks\":\"\"},\"colorscale\":[[0.0,\"#0d0887\"],[0.1111111111111111,\"#46039f\"],[0.2222222222222222,\"#7201a8\"],[0.3333333333333333,\"#9c179e\"],[0.4444444444444444,\"#bd3786\"],[0.5555555555555556,\"#d8576b\"],[0.6666666666666666,\"#ed7953\"],[0.7777777777777778,\"#fb9f3a\"],[0.8888888888888888,\"#fdca26\"],[1.0,\"#f0f921\"]],\"type\":\"histogram2dcontour\"}],\"histogram2d\":[{\"colorbar\":{\"outlinewidth\":0,\"ticks\":\"\"},\"colorscale\":[[0.0,\"#0d0887\"],[0.1111111111111111,\"#46039f\"],[0.2222222222222222,\"#7201a8\"],[0.3333333333333333,\"#9c179e\"],[0.4444444444444444,\"#bd3786\"],[0.5555555555555556,\"#d8576b\"],[0.6666666666666666,\"#ed7953\"],[0.7777777777777778,\"#fb9f3a\"],[0.8888888888888888,\"#fdca26\"],[1.0,\"#f0f921\"]],\"type\":\"histogram2d\"}],\"histogram\":[{\"marker\":{\"pattern\":{\"fillmode\":\"overlay\",\"size\":10,\"solidity\":0.2}},\"type\":\"histogram\"}],\"mesh3d\":[{\"colorbar\":{\"outlinewidth\":0,\"ticks\":\"\"},\"type\":\"mesh3d\"}],\"parcoords\":[{\"line\":{\"colorbar\":{\"outlinewidth\":0,\"ticks\":\"\"}},\"type\":\"parcoords\"}],\"pie\":[{\"automargin\":true,\"type\":\"pie\"}],\"scatter3d\":[{\"line\":{\"colorbar\":{\"outlinewidth\":0,\"ticks\":\"\"}},\"marker\":{\"colorbar\":{\"outlinewidth\":0,\"ticks\":\"\"}},\"type\":\"scatter3d\"}],\"scattercarpet\":[{\"marker\":{\"colorbar\":{\"outlinewidth\":0,\"ticks\":\"\"}},\"type\":\"scattercarpet\"}],\"scattergeo\":[{\"marker\":{\"colorbar\":{\"outlinewidth\":0,\"ticks\":\"\"}},\"type\":\"scattergeo\"}],\"scattergl\":[{\"marker\":{\"colorbar\":{\"outlinewidth\":0,\"ticks\":\"\"}},\"type\":\"scattergl\"}],\"scattermapbox\":[{\"marker\":{\"colorbar\":{\"outlinewidth\":0,\"ticks\":\"\"}},\"type\":\"scattermapbox\"}],\"scatterpolargl\":[{\"marker\":{\"colorbar\":{\"outlinewidth\":0,\"ticks\":\"\"}},\"type\":\"scatterpolargl\"}],\"scatterpolar\":[{\"marker\":{\"colorbar\":{\"outlinewidth\":0,\"ticks\":\"\"}},\"type\":\"scatterpolar\"}],\"scatter\":[{\"fillpattern\":{\"fillmode\":\"overlay\",\"size\":10,\"solidity\":0.2},\"type\":\"scatter\"}],\"scatterternary\":[{\"marker\":{\"colorbar\":{\"outlinewidth\":0,\"ticks\":\"\"}},\"type\":\"scatterternary\"}],\"surface\":[{\"colorbar\":{\"outlinewidth\":0,\"ticks\":\"\"},\"colorscale\":[[0.0,\"#0d0887\"],[0.1111111111111111,\"#46039f\"],[0.2222222222222222,\"#7201a8\"],[0.3333333333333333,\"#9c179e\"],[0.4444444444444444,\"#bd3786\"],[0.5555555555555556,\"#d8576b\"],[0.6666666666666666,\"#ed7953\"],[0.7777777777777778,\"#fb9f3a\"],[0.8888888888888888,\"#fdca26\"],[1.0,\"#f0f921\"]],\"type\":\"surface\"}],\"table\":[{\"cells\":{\"fill\":{\"color\":\"#EBF0F8\"},\"line\":{\"color\":\"white\"}},\"header\":{\"fill\":{\"color\":\"#C8D4E3\"},\"line\":{\"color\":\"white\"}},\"type\":\"table\"}]},\"layout\":{\"annotationdefaults\":{\"arrowcolor\":\"#2a3f5f\",\"arrowhead\":0,\"arrowwidth\":1},\"autotypenumbers\":\"strict\",\"coloraxis\":{\"colorbar\":{\"outlinewidth\":0,\"ticks\":\"\"}},\"colorscale\":{\"diverging\":[[0,\"#8e0152\"],[0.1,\"#c51b7d\"],[0.2,\"#de77ae\"],[0.3,\"#f1b6da\"],[0.4,\"#fde0ef\"],[0.5,\"#f7f7f7\"],[0.6,\"#e6f5d0\"],[0.7,\"#b8e186\"],[0.8,\"#7fbc41\"],[0.9,\"#4d9221\"],[1,\"#276419\"]],\"sequential\":[[0.0,\"#0d0887\"],[0.1111111111111111,\"#46039f\"],[0.2222222222222222,\"#7201a8\"],[0.3333333333333333,\"#9c179e\"],[0.4444444444444444,\"#bd3786\"],[0.5555555555555556,\"#d8576b\"],[0.6666666666666666,\"#ed7953\"],[0.7777777777777778,\"#fb9f3a\"],[0.8888888888888888,\"#fdca26\"],[1.0,\"#f0f921\"]],\"sequentialminus\":[[0.0,\"#0d0887\"],[0.1111111111111111,\"#46039f\"],[0.2222222222222222,\"#7201a8\"],[0.3333333333333333,\"#9c179e\"],[0.4444444444444444,\"#bd3786\"],[0.5555555555555556,\"#d8576b\"],[0.6666666666666666,\"#ed7953\"],[0.7777777777777778,\"#fb9f3a\"],[0.8888888888888888,\"#fdca26\"],[1.0,\"#f0f921\"]]},\"colorway\":[\"#636efa\",\"#EF553B\",\"#00cc96\",\"#ab63fa\",\"#FFA15A\",\"#19d3f3\",\"#FF6692\",\"#B6E880\",\"#FF97FF\",\"#FECB52\"],\"font\":{\"color\":\"#2a3f5f\"},\"geo\":{\"bgcolor\":\"white\",\"lakecolor\":\"white\",\"landcolor\":\"white\",\"showlakes\":true,\"showland\":true,\"subunitcolor\":\"#C8D4E3\"},\"hoverlabel\":{\"align\":\"left\"},\"hovermode\":\"closest\",\"mapbox\":{\"style\":\"light\"},\"paper_bgcolor\":\"white\",\"plot_bgcolor\":\"white\",\"polar\":{\"angularaxis\":{\"gridcolor\":\"#EBF0F8\",\"linecolor\":\"#EBF0F8\",\"ticks\":\"\"},\"bgcolor\":\"white\",\"radialaxis\":{\"gridcolor\":\"#EBF0F8\",\"linecolor\":\"#EBF0F8\",\"ticks\":\"\"}},\"scene\":{\"xaxis\":{\"backgroundcolor\":\"white\",\"gridcolor\":\"#DFE8F3\",\"gridwidth\":2,\"linecolor\":\"#EBF0F8\",\"showbackground\":true,\"ticks\":\"\",\"zerolinecolor\":\"#EBF0F8\"},\"yaxis\":{\"backgroundcolor\":\"white\",\"gridcolor\":\"#DFE8F3\",\"gridwidth\":2,\"linecolor\":\"#EBF0F8\",\"showbackground\":true,\"ticks\":\"\",\"zerolinecolor\":\"#EBF0F8\"},\"zaxis\":{\"backgroundcolor\":\"white\",\"gridcolor\":\"#DFE8F3\",\"gridwidth\":2,\"linecolor\":\"#EBF0F8\",\"showbackground\":true,\"ticks\":\"\",\"zerolinecolor\":\"#EBF0F8\"}},\"shapedefaults\":{\"line\":{\"color\":\"#2a3f5f\"}},\"ternary\":{\"aaxis\":{\"gridcolor\":\"#DFE8F3\",\"linecolor\":\"#A2B1C6\",\"ticks\":\"\"},\"baxis\":{\"gridcolor\":\"#DFE8F3\",\"linecolor\":\"#A2B1C6\",\"ticks\":\"\"},\"bgcolor\":\"white\",\"caxis\":{\"gridcolor\":\"#DFE8F3\",\"linecolor\":\"#A2B1C6\",\"ticks\":\"\"}},\"title\":{\"x\":0.05},\"xaxis\":{\"automargin\":true,\"gridcolor\":\"#EBF0F8\",\"linecolor\":\"#EBF0F8\",\"ticks\":\"\",\"title\":{\"standoff\":15},\"zerolinecolor\":\"#EBF0F8\",\"zerolinewidth\":2},\"yaxis\":{\"automargin\":true,\"gridcolor\":\"#EBF0F8\",\"linecolor\":\"#EBF0F8\",\"ticks\":\"\",\"title\":{\"standoff\":15},\"zerolinecolor\":\"#EBF0F8\",\"zerolinewidth\":2}}},\"xaxis\":{\"anchor\":\"y\",\"domain\":[0.0,1.0],\"title\":{\"text\":\"Year\"}},\"yaxis\":{\"anchor\":\"x\",\"domain\":[0.0,1.0],\"title\":{\"text\":\"[Tonnes]\"}},\"legend\":{\"title\":{\"text\":\"variable\"},\"tracegroupgap\":0},\"margin\":{\"t\":60},\"title\":{\"text\":\"Cumulative Waste M F G\"}},                        {\"responsive\": true}                    ).then(function(){\n",
       "                            \n",
       "var gd = document.getElementById('ad072665-c52d-45d0-acda-8065aa367988');\n",
       "var x = new MutationObserver(function (mutations, observer) {{\n",
       "        var display = window.getComputedStyle(gd).display;\n",
       "        if (!display || display === 'none') {{\n",
       "            console.log([gd, 'removed!']);\n",
       "            Plotly.purge(gd);\n",
       "            observer.disconnect();\n",
       "        }}\n",
       "}});\n",
       "\n",
       "// Listen for the removal of the full notebook cells\n",
       "var notebookContainer = gd.closest('#notebook-container');\n",
       "if (notebookContainer) {{\n",
       "    x.observe(notebookContainer, {childList: true});\n",
       "}}\n",
       "\n",
       "// Listen for the clearing of the current output cell\n",
       "var outputEl = gd.closest('.output');\n",
       "if (outputEl) {{\n",
       "    x.observe(outputEl, {childList: true});\n",
       "}}\n",
       "\n",
       "                        })                };                });            </script>        </div>"
      ]
     },
     "metadata": {},
     "output_type": "display_data"
    },
    {
     "name": "stdout",
     "output_type": "stream",
     "text": [
      "[]\n"
     ]
    },
    {
     "data": {
      "application/vnd.plotly.v1+json": {
       "config": {
        "plotlyServerURL": "https://plot.ly"
       },
       "data": [
        {
         "hovertemplate": "Capacity, sim1', 'TOPCon",
         "legendgroup": "newInstalledCapacity_sim1_TOPCon_[MW]",
         "line": {
          "color": "#636efa",
          "dash": "solid"
         },
         "marker": {
          "symbol": "circle"
         },
         "mode": "lines",
         "name": "Capacity, sim1', 'TOPCon",
         "orientation": "v",
         "showlegend": true,
         "type": "scatter",
         "x": [
          2020,
          2021,
          2022,
          2023,
          2024,
          2025,
          2026,
          2027,
          2028,
          2029,
          2030,
          2031,
          2032,
          2033,
          2034,
          2035,
          2036,
          2037,
          2038,
          2039,
          2040,
          2041,
          2042,
          2043,
          2044,
          2045,
          2046,
          2047,
          2048,
          2049,
          2050
         ],
         "xaxis": "x",
         "y": [
          19914.550100562494,
          44009.3545658006,
          65902.50161909257,
          89499.23057909257,
          113095.95953909258,
          137332.37550909258,
          161568.7914790926,
          187827.09279909258,
          214085.39411909258,
          243699.3874690926,
          273313.38081909256,
          308517.00794909254,
          343720.6350790925,
          394754.3911190925,
          445788.14715909254,
          503189.4487190925,
          560590.7502790926,
          620526.6054990926,
          680462.4607190926,
          746474.5224990926,
          812486.5842790926,
          879525.9357890926,
          946565.2872990925,
          1020711.3757890925,
          1094857.4642790924,
          1173410.7521290923,
          1251964.0399790923,
          1333162.0264890923,
          1414360.0129990922,
          1501786.9077390921,
          1589213.802479092
         ],
         "yaxis": "y"
        }
       ],
       "layout": {
        "legend": {
         "title": {
          "text": "variable"
         },
         "tracegroupgap": 0
        },
        "margin": {
         "t": 60
        },
        "template": {
         "data": {
          "bar": [
           {
            "error_x": {
             "color": "#2a3f5f"
            },
            "error_y": {
             "color": "#2a3f5f"
            },
            "marker": {
             "line": {
              "color": "white",
              "width": 0.5
             },
             "pattern": {
              "fillmode": "overlay",
              "size": 10,
              "solidity": 0.2
             }
            },
            "type": "bar"
           }
          ],
          "barpolar": [
           {
            "marker": {
             "line": {
              "color": "white",
              "width": 0.5
             },
             "pattern": {
              "fillmode": "overlay",
              "size": 10,
              "solidity": 0.2
             }
            },
            "type": "barpolar"
           }
          ],
          "carpet": [
           {
            "aaxis": {
             "endlinecolor": "#2a3f5f",
             "gridcolor": "#C8D4E3",
             "linecolor": "#C8D4E3",
             "minorgridcolor": "#C8D4E3",
             "startlinecolor": "#2a3f5f"
            },
            "baxis": {
             "endlinecolor": "#2a3f5f",
             "gridcolor": "#C8D4E3",
             "linecolor": "#C8D4E3",
             "minorgridcolor": "#C8D4E3",
             "startlinecolor": "#2a3f5f"
            },
            "type": "carpet"
           }
          ],
          "choropleth": [
           {
            "colorbar": {
             "outlinewidth": 0,
             "ticks": ""
            },
            "type": "choropleth"
           }
          ],
          "contour": [
           {
            "colorbar": {
             "outlinewidth": 0,
             "ticks": ""
            },
            "colorscale": [
             [
              0,
              "#0d0887"
             ],
             [
              0.1111111111111111,
              "#46039f"
             ],
             [
              0.2222222222222222,
              "#7201a8"
             ],
             [
              0.3333333333333333,
              "#9c179e"
             ],
             [
              0.4444444444444444,
              "#bd3786"
             ],
             [
              0.5555555555555556,
              "#d8576b"
             ],
             [
              0.6666666666666666,
              "#ed7953"
             ],
             [
              0.7777777777777778,
              "#fb9f3a"
             ],
             [
              0.8888888888888888,
              "#fdca26"
             ],
             [
              1,
              "#f0f921"
             ]
            ],
            "type": "contour"
           }
          ],
          "contourcarpet": [
           {
            "colorbar": {
             "outlinewidth": 0,
             "ticks": ""
            },
            "type": "contourcarpet"
           }
          ],
          "heatmap": [
           {
            "colorbar": {
             "outlinewidth": 0,
             "ticks": ""
            },
            "colorscale": [
             [
              0,
              "#0d0887"
             ],
             [
              0.1111111111111111,
              "#46039f"
             ],
             [
              0.2222222222222222,
              "#7201a8"
             ],
             [
              0.3333333333333333,
              "#9c179e"
             ],
             [
              0.4444444444444444,
              "#bd3786"
             ],
             [
              0.5555555555555556,
              "#d8576b"
             ],
             [
              0.6666666666666666,
              "#ed7953"
             ],
             [
              0.7777777777777778,
              "#fb9f3a"
             ],
             [
              0.8888888888888888,
              "#fdca26"
             ],
             [
              1,
              "#f0f921"
             ]
            ],
            "type": "heatmap"
           }
          ],
          "heatmapgl": [
           {
            "colorbar": {
             "outlinewidth": 0,
             "ticks": ""
            },
            "colorscale": [
             [
              0,
              "#0d0887"
             ],
             [
              0.1111111111111111,
              "#46039f"
             ],
             [
              0.2222222222222222,
              "#7201a8"
             ],
             [
              0.3333333333333333,
              "#9c179e"
             ],
             [
              0.4444444444444444,
              "#bd3786"
             ],
             [
              0.5555555555555556,
              "#d8576b"
             ],
             [
              0.6666666666666666,
              "#ed7953"
             ],
             [
              0.7777777777777778,
              "#fb9f3a"
             ],
             [
              0.8888888888888888,
              "#fdca26"
             ],
             [
              1,
              "#f0f921"
             ]
            ],
            "type": "heatmapgl"
           }
          ],
          "histogram": [
           {
            "marker": {
             "pattern": {
              "fillmode": "overlay",
              "size": 10,
              "solidity": 0.2
             }
            },
            "type": "histogram"
           }
          ],
          "histogram2d": [
           {
            "colorbar": {
             "outlinewidth": 0,
             "ticks": ""
            },
            "colorscale": [
             [
              0,
              "#0d0887"
             ],
             [
              0.1111111111111111,
              "#46039f"
             ],
             [
              0.2222222222222222,
              "#7201a8"
             ],
             [
              0.3333333333333333,
              "#9c179e"
             ],
             [
              0.4444444444444444,
              "#bd3786"
             ],
             [
              0.5555555555555556,
              "#d8576b"
             ],
             [
              0.6666666666666666,
              "#ed7953"
             ],
             [
              0.7777777777777778,
              "#fb9f3a"
             ],
             [
              0.8888888888888888,
              "#fdca26"
             ],
             [
              1,
              "#f0f921"
             ]
            ],
            "type": "histogram2d"
           }
          ],
          "histogram2dcontour": [
           {
            "colorbar": {
             "outlinewidth": 0,
             "ticks": ""
            },
            "colorscale": [
             [
              0,
              "#0d0887"
             ],
             [
              0.1111111111111111,
              "#46039f"
             ],
             [
              0.2222222222222222,
              "#7201a8"
             ],
             [
              0.3333333333333333,
              "#9c179e"
             ],
             [
              0.4444444444444444,
              "#bd3786"
             ],
             [
              0.5555555555555556,
              "#d8576b"
             ],
             [
              0.6666666666666666,
              "#ed7953"
             ],
             [
              0.7777777777777778,
              "#fb9f3a"
             ],
             [
              0.8888888888888888,
              "#fdca26"
             ],
             [
              1,
              "#f0f921"
             ]
            ],
            "type": "histogram2dcontour"
           }
          ],
          "mesh3d": [
           {
            "colorbar": {
             "outlinewidth": 0,
             "ticks": ""
            },
            "type": "mesh3d"
           }
          ],
          "parcoords": [
           {
            "line": {
             "colorbar": {
              "outlinewidth": 0,
              "ticks": ""
             }
            },
            "type": "parcoords"
           }
          ],
          "pie": [
           {
            "automargin": true,
            "type": "pie"
           }
          ],
          "scatter": [
           {
            "fillpattern": {
             "fillmode": "overlay",
             "size": 10,
             "solidity": 0.2
            },
            "type": "scatter"
           }
          ],
          "scatter3d": [
           {
            "line": {
             "colorbar": {
              "outlinewidth": 0,
              "ticks": ""
             }
            },
            "marker": {
             "colorbar": {
              "outlinewidth": 0,
              "ticks": ""
             }
            },
            "type": "scatter3d"
           }
          ],
          "scattercarpet": [
           {
            "marker": {
             "colorbar": {
              "outlinewidth": 0,
              "ticks": ""
             }
            },
            "type": "scattercarpet"
           }
          ],
          "scattergeo": [
           {
            "marker": {
             "colorbar": {
              "outlinewidth": 0,
              "ticks": ""
             }
            },
            "type": "scattergeo"
           }
          ],
          "scattergl": [
           {
            "marker": {
             "colorbar": {
              "outlinewidth": 0,
              "ticks": ""
             }
            },
            "type": "scattergl"
           }
          ],
          "scattermapbox": [
           {
            "marker": {
             "colorbar": {
              "outlinewidth": 0,
              "ticks": ""
             }
            },
            "type": "scattermapbox"
           }
          ],
          "scatterpolar": [
           {
            "marker": {
             "colorbar": {
              "outlinewidth": 0,
              "ticks": ""
             }
            },
            "type": "scatterpolar"
           }
          ],
          "scatterpolargl": [
           {
            "marker": {
             "colorbar": {
              "outlinewidth": 0,
              "ticks": ""
             }
            },
            "type": "scatterpolargl"
           }
          ],
          "scatterternary": [
           {
            "marker": {
             "colorbar": {
              "outlinewidth": 0,
              "ticks": ""
             }
            },
            "type": "scatterternary"
           }
          ],
          "surface": [
           {
            "colorbar": {
             "outlinewidth": 0,
             "ticks": ""
            },
            "colorscale": [
             [
              0,
              "#0d0887"
             ],
             [
              0.1111111111111111,
              "#46039f"
             ],
             [
              0.2222222222222222,
              "#7201a8"
             ],
             [
              0.3333333333333333,
              "#9c179e"
             ],
             [
              0.4444444444444444,
              "#bd3786"
             ],
             [
              0.5555555555555556,
              "#d8576b"
             ],
             [
              0.6666666666666666,
              "#ed7953"
             ],
             [
              0.7777777777777778,
              "#fb9f3a"
             ],
             [
              0.8888888888888888,
              "#fdca26"
             ],
             [
              1,
              "#f0f921"
             ]
            ],
            "type": "surface"
           }
          ],
          "table": [
           {
            "cells": {
             "fill": {
              "color": "#EBF0F8"
             },
             "line": {
              "color": "white"
             }
            },
            "header": {
             "fill": {
              "color": "#C8D4E3"
             },
             "line": {
              "color": "white"
             }
            },
            "type": "table"
           }
          ]
         },
         "layout": {
          "annotationdefaults": {
           "arrowcolor": "#2a3f5f",
           "arrowhead": 0,
           "arrowwidth": 1
          },
          "autotypenumbers": "strict",
          "coloraxis": {
           "colorbar": {
            "outlinewidth": 0,
            "ticks": ""
           }
          },
          "colorscale": {
           "diverging": [
            [
             0,
             "#8e0152"
            ],
            [
             0.1,
             "#c51b7d"
            ],
            [
             0.2,
             "#de77ae"
            ],
            [
             0.3,
             "#f1b6da"
            ],
            [
             0.4,
             "#fde0ef"
            ],
            [
             0.5,
             "#f7f7f7"
            ],
            [
             0.6,
             "#e6f5d0"
            ],
            [
             0.7,
             "#b8e186"
            ],
            [
             0.8,
             "#7fbc41"
            ],
            [
             0.9,
             "#4d9221"
            ],
            [
             1,
             "#276419"
            ]
           ],
           "sequential": [
            [
             0,
             "#0d0887"
            ],
            [
             0.1111111111111111,
             "#46039f"
            ],
            [
             0.2222222222222222,
             "#7201a8"
            ],
            [
             0.3333333333333333,
             "#9c179e"
            ],
            [
             0.4444444444444444,
             "#bd3786"
            ],
            [
             0.5555555555555556,
             "#d8576b"
            ],
            [
             0.6666666666666666,
             "#ed7953"
            ],
            [
             0.7777777777777778,
             "#fb9f3a"
            ],
            [
             0.8888888888888888,
             "#fdca26"
            ],
            [
             1,
             "#f0f921"
            ]
           ],
           "sequentialminus": [
            [
             0,
             "#0d0887"
            ],
            [
             0.1111111111111111,
             "#46039f"
            ],
            [
             0.2222222222222222,
             "#7201a8"
            ],
            [
             0.3333333333333333,
             "#9c179e"
            ],
            [
             0.4444444444444444,
             "#bd3786"
            ],
            [
             0.5555555555555556,
             "#d8576b"
            ],
            [
             0.6666666666666666,
             "#ed7953"
            ],
            [
             0.7777777777777778,
             "#fb9f3a"
            ],
            [
             0.8888888888888888,
             "#fdca26"
            ],
            [
             1,
             "#f0f921"
            ]
           ]
          },
          "colorway": [
           "#636efa",
           "#EF553B",
           "#00cc96",
           "#ab63fa",
           "#FFA15A",
           "#19d3f3",
           "#FF6692",
           "#B6E880",
           "#FF97FF",
           "#FECB52"
          ],
          "font": {
           "color": "#2a3f5f"
          },
          "geo": {
           "bgcolor": "white",
           "lakecolor": "white",
           "landcolor": "white",
           "showlakes": true,
           "showland": true,
           "subunitcolor": "#C8D4E3"
          },
          "hoverlabel": {
           "align": "left"
          },
          "hovermode": "closest",
          "mapbox": {
           "style": "light"
          },
          "paper_bgcolor": "white",
          "plot_bgcolor": "white",
          "polar": {
           "angularaxis": {
            "gridcolor": "#EBF0F8",
            "linecolor": "#EBF0F8",
            "ticks": ""
           },
           "bgcolor": "white",
           "radialaxis": {
            "gridcolor": "#EBF0F8",
            "linecolor": "#EBF0F8",
            "ticks": ""
           }
          },
          "scene": {
           "xaxis": {
            "backgroundcolor": "white",
            "gridcolor": "#DFE8F3",
            "gridwidth": 2,
            "linecolor": "#EBF0F8",
            "showbackground": true,
            "ticks": "",
            "zerolinecolor": "#EBF0F8"
           },
           "yaxis": {
            "backgroundcolor": "white",
            "gridcolor": "#DFE8F3",
            "gridwidth": 2,
            "linecolor": "#EBF0F8",
            "showbackground": true,
            "ticks": "",
            "zerolinecolor": "#EBF0F8"
           },
           "zaxis": {
            "backgroundcolor": "white",
            "gridcolor": "#DFE8F3",
            "gridwidth": 2,
            "linecolor": "#EBF0F8",
            "showbackground": true,
            "ticks": "",
            "zerolinecolor": "#EBF0F8"
           }
          },
          "shapedefaults": {
           "line": {
            "color": "#2a3f5f"
           }
          },
          "ternary": {
           "aaxis": {
            "gridcolor": "#DFE8F3",
            "linecolor": "#A2B1C6",
            "ticks": ""
           },
           "baxis": {
            "gridcolor": "#DFE8F3",
            "linecolor": "#A2B1C6",
            "ticks": ""
           },
           "bgcolor": "white",
           "caxis": {
            "gridcolor": "#DFE8F3",
            "linecolor": "#A2B1C6",
            "ticks": ""
           }
          },
          "title": {
           "x": 0.05
          },
          "xaxis": {
           "automargin": true,
           "gridcolor": "#EBF0F8",
           "linecolor": "#EBF0F8",
           "ticks": "",
           "title": {
            "standoff": 15
           },
           "zerolinecolor": "#EBF0F8",
           "zerolinewidth": 2
          },
          "yaxis": {
           "automargin": true,
           "gridcolor": "#EBF0F8",
           "linecolor": "#EBF0F8",
           "ticks": "",
           "title": {
            "standoff": 15
           },
           "zerolinecolor": "#EBF0F8",
           "zerolinewidth": 2
          }
         }
        },
        "title": {
         "text": "Installed Capacity and Cumulative new Installs"
        },
        "xaxis": {
         "anchor": "y",
         "domain": [
          0,
          1
         ],
         "title": {
          "text": "Year"
         }
        },
        "yaxis": {
         "anchor": "x",
         "domain": [
          0,
          1
         ],
         "title": {
          "text": "[MW]"
         }
        }
       }
      },
      "text/html": [
       "<div>                            <div id=\"35972dd8-cc55-44b6-8ab5-35e125440a3d\" class=\"plotly-graph-div\" style=\"height:525px; width:100%;\"></div>            <script type=\"text/javascript\">                require([\"plotly\"], function(Plotly) {                    window.PLOTLYENV=window.PLOTLYENV || {};                                    if (document.getElementById(\"35972dd8-cc55-44b6-8ab5-35e125440a3d\")) {                    Plotly.newPlot(                        \"35972dd8-cc55-44b6-8ab5-35e125440a3d\",                        [{\"hovertemplate\":\"Capacity, sim1', 'TOPCon\",\"legendgroup\":\"newInstalledCapacity_sim1_TOPCon_[MW]\",\"line\":{\"color\":\"#636efa\",\"dash\":\"solid\"},\"marker\":{\"symbol\":\"circle\"},\"mode\":\"lines\",\"name\":\"Capacity, sim1', 'TOPCon\",\"orientation\":\"v\",\"showlegend\":true,\"x\":[2020,2021,2022,2023,2024,2025,2026,2027,2028,2029,2030,2031,2032,2033,2034,2035,2036,2037,2038,2039,2040,2041,2042,2043,2044,2045,2046,2047,2048,2049,2050],\"xaxis\":\"x\",\"y\":[19914.550100562494,44009.3545658006,65902.50161909257,89499.23057909257,113095.95953909258,137332.37550909258,161568.7914790926,187827.09279909258,214085.39411909258,243699.3874690926,273313.38081909256,308517.00794909254,343720.6350790925,394754.3911190925,445788.14715909254,503189.4487190925,560590.7502790926,620526.6054990926,680462.4607190926,746474.5224990926,812486.5842790926,879525.9357890926,946565.2872990925,1020711.3757890925,1094857.4642790924,1173410.7521290923,1251964.0399790923,1333162.0264890923,1414360.0129990922,1501786.9077390921,1589213.802479092],\"yaxis\":\"y\",\"type\":\"scatter\"}],                        {\"template\":{\"data\":{\"barpolar\":[{\"marker\":{\"line\":{\"color\":\"white\",\"width\":0.5},\"pattern\":{\"fillmode\":\"overlay\",\"size\":10,\"solidity\":0.2}},\"type\":\"barpolar\"}],\"bar\":[{\"error_x\":{\"color\":\"#2a3f5f\"},\"error_y\":{\"color\":\"#2a3f5f\"},\"marker\":{\"line\":{\"color\":\"white\",\"width\":0.5},\"pattern\":{\"fillmode\":\"overlay\",\"size\":10,\"solidity\":0.2}},\"type\":\"bar\"}],\"carpet\":[{\"aaxis\":{\"endlinecolor\":\"#2a3f5f\",\"gridcolor\":\"#C8D4E3\",\"linecolor\":\"#C8D4E3\",\"minorgridcolor\":\"#C8D4E3\",\"startlinecolor\":\"#2a3f5f\"},\"baxis\":{\"endlinecolor\":\"#2a3f5f\",\"gridcolor\":\"#C8D4E3\",\"linecolor\":\"#C8D4E3\",\"minorgridcolor\":\"#C8D4E3\",\"startlinecolor\":\"#2a3f5f\"},\"type\":\"carpet\"}],\"choropleth\":[{\"colorbar\":{\"outlinewidth\":0,\"ticks\":\"\"},\"type\":\"choropleth\"}],\"contourcarpet\":[{\"colorbar\":{\"outlinewidth\":0,\"ticks\":\"\"},\"type\":\"contourcarpet\"}],\"contour\":[{\"colorbar\":{\"outlinewidth\":0,\"ticks\":\"\"},\"colorscale\":[[0.0,\"#0d0887\"],[0.1111111111111111,\"#46039f\"],[0.2222222222222222,\"#7201a8\"],[0.3333333333333333,\"#9c179e\"],[0.4444444444444444,\"#bd3786\"],[0.5555555555555556,\"#d8576b\"],[0.6666666666666666,\"#ed7953\"],[0.7777777777777778,\"#fb9f3a\"],[0.8888888888888888,\"#fdca26\"],[1.0,\"#f0f921\"]],\"type\":\"contour\"}],\"heatmapgl\":[{\"colorbar\":{\"outlinewidth\":0,\"ticks\":\"\"},\"colorscale\":[[0.0,\"#0d0887\"],[0.1111111111111111,\"#46039f\"],[0.2222222222222222,\"#7201a8\"],[0.3333333333333333,\"#9c179e\"],[0.4444444444444444,\"#bd3786\"],[0.5555555555555556,\"#d8576b\"],[0.6666666666666666,\"#ed7953\"],[0.7777777777777778,\"#fb9f3a\"],[0.8888888888888888,\"#fdca26\"],[1.0,\"#f0f921\"]],\"type\":\"heatmapgl\"}],\"heatmap\":[{\"colorbar\":{\"outlinewidth\":0,\"ticks\":\"\"},\"colorscale\":[[0.0,\"#0d0887\"],[0.1111111111111111,\"#46039f\"],[0.2222222222222222,\"#7201a8\"],[0.3333333333333333,\"#9c179e\"],[0.4444444444444444,\"#bd3786\"],[0.5555555555555556,\"#d8576b\"],[0.6666666666666666,\"#ed7953\"],[0.7777777777777778,\"#fb9f3a\"],[0.8888888888888888,\"#fdca26\"],[1.0,\"#f0f921\"]],\"type\":\"heatmap\"}],\"histogram2dcontour\":[{\"colorbar\":{\"outlinewidth\":0,\"ticks\":\"\"},\"colorscale\":[[0.0,\"#0d0887\"],[0.1111111111111111,\"#46039f\"],[0.2222222222222222,\"#7201a8\"],[0.3333333333333333,\"#9c179e\"],[0.4444444444444444,\"#bd3786\"],[0.5555555555555556,\"#d8576b\"],[0.6666666666666666,\"#ed7953\"],[0.7777777777777778,\"#fb9f3a\"],[0.8888888888888888,\"#fdca26\"],[1.0,\"#f0f921\"]],\"type\":\"histogram2dcontour\"}],\"histogram2d\":[{\"colorbar\":{\"outlinewidth\":0,\"ticks\":\"\"},\"colorscale\":[[0.0,\"#0d0887\"],[0.1111111111111111,\"#46039f\"],[0.2222222222222222,\"#7201a8\"],[0.3333333333333333,\"#9c179e\"],[0.4444444444444444,\"#bd3786\"],[0.5555555555555556,\"#d8576b\"],[0.6666666666666666,\"#ed7953\"],[0.7777777777777778,\"#fb9f3a\"],[0.8888888888888888,\"#fdca26\"],[1.0,\"#f0f921\"]],\"type\":\"histogram2d\"}],\"histogram\":[{\"marker\":{\"pattern\":{\"fillmode\":\"overlay\",\"size\":10,\"solidity\":0.2}},\"type\":\"histogram\"}],\"mesh3d\":[{\"colorbar\":{\"outlinewidth\":0,\"ticks\":\"\"},\"type\":\"mesh3d\"}],\"parcoords\":[{\"line\":{\"colorbar\":{\"outlinewidth\":0,\"ticks\":\"\"}},\"type\":\"parcoords\"}],\"pie\":[{\"automargin\":true,\"type\":\"pie\"}],\"scatter3d\":[{\"line\":{\"colorbar\":{\"outlinewidth\":0,\"ticks\":\"\"}},\"marker\":{\"colorbar\":{\"outlinewidth\":0,\"ticks\":\"\"}},\"type\":\"scatter3d\"}],\"scattercarpet\":[{\"marker\":{\"colorbar\":{\"outlinewidth\":0,\"ticks\":\"\"}},\"type\":\"scattercarpet\"}],\"scattergeo\":[{\"marker\":{\"colorbar\":{\"outlinewidth\":0,\"ticks\":\"\"}},\"type\":\"scattergeo\"}],\"scattergl\":[{\"marker\":{\"colorbar\":{\"outlinewidth\":0,\"ticks\":\"\"}},\"type\":\"scattergl\"}],\"scattermapbox\":[{\"marker\":{\"colorbar\":{\"outlinewidth\":0,\"ticks\":\"\"}},\"type\":\"scattermapbox\"}],\"scatterpolargl\":[{\"marker\":{\"colorbar\":{\"outlinewidth\":0,\"ticks\":\"\"}},\"type\":\"scatterpolargl\"}],\"scatterpolar\":[{\"marker\":{\"colorbar\":{\"outlinewidth\":0,\"ticks\":\"\"}},\"type\":\"scatterpolar\"}],\"scatter\":[{\"fillpattern\":{\"fillmode\":\"overlay\",\"size\":10,\"solidity\":0.2},\"type\":\"scatter\"}],\"scatterternary\":[{\"marker\":{\"colorbar\":{\"outlinewidth\":0,\"ticks\":\"\"}},\"type\":\"scatterternary\"}],\"surface\":[{\"colorbar\":{\"outlinewidth\":0,\"ticks\":\"\"},\"colorscale\":[[0.0,\"#0d0887\"],[0.1111111111111111,\"#46039f\"],[0.2222222222222222,\"#7201a8\"],[0.3333333333333333,\"#9c179e\"],[0.4444444444444444,\"#bd3786\"],[0.5555555555555556,\"#d8576b\"],[0.6666666666666666,\"#ed7953\"],[0.7777777777777778,\"#fb9f3a\"],[0.8888888888888888,\"#fdca26\"],[1.0,\"#f0f921\"]],\"type\":\"surface\"}],\"table\":[{\"cells\":{\"fill\":{\"color\":\"#EBF0F8\"},\"line\":{\"color\":\"white\"}},\"header\":{\"fill\":{\"color\":\"#C8D4E3\"},\"line\":{\"color\":\"white\"}},\"type\":\"table\"}]},\"layout\":{\"annotationdefaults\":{\"arrowcolor\":\"#2a3f5f\",\"arrowhead\":0,\"arrowwidth\":1},\"autotypenumbers\":\"strict\",\"coloraxis\":{\"colorbar\":{\"outlinewidth\":0,\"ticks\":\"\"}},\"colorscale\":{\"diverging\":[[0,\"#8e0152\"],[0.1,\"#c51b7d\"],[0.2,\"#de77ae\"],[0.3,\"#f1b6da\"],[0.4,\"#fde0ef\"],[0.5,\"#f7f7f7\"],[0.6,\"#e6f5d0\"],[0.7,\"#b8e186\"],[0.8,\"#7fbc41\"],[0.9,\"#4d9221\"],[1,\"#276419\"]],\"sequential\":[[0.0,\"#0d0887\"],[0.1111111111111111,\"#46039f\"],[0.2222222222222222,\"#7201a8\"],[0.3333333333333333,\"#9c179e\"],[0.4444444444444444,\"#bd3786\"],[0.5555555555555556,\"#d8576b\"],[0.6666666666666666,\"#ed7953\"],[0.7777777777777778,\"#fb9f3a\"],[0.8888888888888888,\"#fdca26\"],[1.0,\"#f0f921\"]],\"sequentialminus\":[[0.0,\"#0d0887\"],[0.1111111111111111,\"#46039f\"],[0.2222222222222222,\"#7201a8\"],[0.3333333333333333,\"#9c179e\"],[0.4444444444444444,\"#bd3786\"],[0.5555555555555556,\"#d8576b\"],[0.6666666666666666,\"#ed7953\"],[0.7777777777777778,\"#fb9f3a\"],[0.8888888888888888,\"#fdca26\"],[1.0,\"#f0f921\"]]},\"colorway\":[\"#636efa\",\"#EF553B\",\"#00cc96\",\"#ab63fa\",\"#FFA15A\",\"#19d3f3\",\"#FF6692\",\"#B6E880\",\"#FF97FF\",\"#FECB52\"],\"font\":{\"color\":\"#2a3f5f\"},\"geo\":{\"bgcolor\":\"white\",\"lakecolor\":\"white\",\"landcolor\":\"white\",\"showlakes\":true,\"showland\":true,\"subunitcolor\":\"#C8D4E3\"},\"hoverlabel\":{\"align\":\"left\"},\"hovermode\":\"closest\",\"mapbox\":{\"style\":\"light\"},\"paper_bgcolor\":\"white\",\"plot_bgcolor\":\"white\",\"polar\":{\"angularaxis\":{\"gridcolor\":\"#EBF0F8\",\"linecolor\":\"#EBF0F8\",\"ticks\":\"\"},\"bgcolor\":\"white\",\"radialaxis\":{\"gridcolor\":\"#EBF0F8\",\"linecolor\":\"#EBF0F8\",\"ticks\":\"\"}},\"scene\":{\"xaxis\":{\"backgroundcolor\":\"white\",\"gridcolor\":\"#DFE8F3\",\"gridwidth\":2,\"linecolor\":\"#EBF0F8\",\"showbackground\":true,\"ticks\":\"\",\"zerolinecolor\":\"#EBF0F8\"},\"yaxis\":{\"backgroundcolor\":\"white\",\"gridcolor\":\"#DFE8F3\",\"gridwidth\":2,\"linecolor\":\"#EBF0F8\",\"showbackground\":true,\"ticks\":\"\",\"zerolinecolor\":\"#EBF0F8\"},\"zaxis\":{\"backgroundcolor\":\"white\",\"gridcolor\":\"#DFE8F3\",\"gridwidth\":2,\"linecolor\":\"#EBF0F8\",\"showbackground\":true,\"ticks\":\"\",\"zerolinecolor\":\"#EBF0F8\"}},\"shapedefaults\":{\"line\":{\"color\":\"#2a3f5f\"}},\"ternary\":{\"aaxis\":{\"gridcolor\":\"#DFE8F3\",\"linecolor\":\"#A2B1C6\",\"ticks\":\"\"},\"baxis\":{\"gridcolor\":\"#DFE8F3\",\"linecolor\":\"#A2B1C6\",\"ticks\":\"\"},\"bgcolor\":\"white\",\"caxis\":{\"gridcolor\":\"#DFE8F3\",\"linecolor\":\"#A2B1C6\",\"ticks\":\"\"}},\"title\":{\"x\":0.05},\"xaxis\":{\"automargin\":true,\"gridcolor\":\"#EBF0F8\",\"linecolor\":\"#EBF0F8\",\"ticks\":\"\",\"title\":{\"standoff\":15},\"zerolinecolor\":\"#EBF0F8\",\"zerolinewidth\":2},\"yaxis\":{\"automargin\":true,\"gridcolor\":\"#EBF0F8\",\"linecolor\":\"#EBF0F8\",\"ticks\":\"\",\"title\":{\"standoff\":15},\"zerolinecolor\":\"#EBF0F8\",\"zerolinewidth\":2}}},\"xaxis\":{\"anchor\":\"y\",\"domain\":[0.0,1.0],\"title\":{\"text\":\"Year\"}},\"yaxis\":{\"anchor\":\"x\",\"domain\":[0.0,1.0],\"title\":{\"text\":\"[MW]\"}},\"legend\":{\"title\":{\"text\":\"variable\"},\"tracegroupgap\":0},\"margin\":{\"t\":60},\"title\":{\"text\":\"Installed Capacity and Cumulative new Installs\"}},                        {\"responsive\": true}                    ).then(function(){\n",
       "                            \n",
       "var gd = document.getElementById('35972dd8-cc55-44b6-8ab5-35e125440a3d');\n",
       "var x = new MutationObserver(function (mutations, observer) {{\n",
       "        var display = window.getComputedStyle(gd).display;\n",
       "        if (!display || display === 'none') {{\n",
       "            console.log([gd, 'removed!']);\n",
       "            Plotly.purge(gd);\n",
       "            observer.disconnect();\n",
       "        }}\n",
       "}});\n",
       "\n",
       "// Listen for the removal of the full notebook cells\n",
       "var notebookContainer = gd.closest('#notebook-container');\n",
       "if (notebookContainer) {{\n",
       "    x.observe(notebookContainer, {childList: true});\n",
       "}}\n",
       "\n",
       "// Listen for the clearing of the current output cell\n",
       "var outputEl = gd.closest('.output');\n",
       "if (outputEl) {{\n",
       "    x.observe(outputEl, {childList: true});\n",
       "}}\n",
       "\n",
       "                        })                };                });            </script>        </div>"
      ]
     },
     "metadata": {},
     "output_type": "display_data"
    }
   ],
   "source": [
    "sim1.plotMetricResults()"
   ]
  },
  {
   "cell_type": "code",
   "execution_count": 62,
   "id": "7e4a3c28",
   "metadata": {},
   "outputs": [
    {
     "data": {
      "image/png": "[encoded data removed]",
      "text/plain": [
       "<Figure size 640x480 with 1 Axes>"
      ]
     },
     "metadata": {},
     "output_type": "display_data"
    }
   ],
   "source": [
    "sim1.plotMaterialComparisonAcrossScenarios(keyword='mat_Virgin_Stock', material='silver')"
   ]
  },
  {
   "cell_type": "code",
   "execution_count": 80,
   "id": "d33c755f",
   "metadata": {},
   "outputs": [
    {
     "data": {
      "text/html": [
       "<div>\n",
       "<style scoped>\n",
       "    .dataframe tbody tr th:only-of-type {\n",
       "        vertical-align: middle;\n",
       "    }\n",
       "\n",
       "    .dataframe tbody tr th {\n",
       "        vertical-align: top;\n",
       "    }\n",
       "\n",
       "    .dataframe thead th {\n",
       "        text-align: right;\n",
       "    }\n",
       "</style>\n",
       "<table border=\"1\" class=\"dataframe\">\n",
       "  <thead>\n",
       "    <tr style=\"text-align: right;\">\n",
       "      <th></th>\n",
       "      <th>e_out_annual_[Wh]</th>\n",
       "    </tr>\n",
       "  </thead>\n",
       "  <tbody>\n",
       "    <tr>\n",
       "      <th>0</th>\n",
       "      <td>2.771659e+13</td>\n",
       "    </tr>\n",
       "    <tr>\n",
       "      <th>1</th>\n",
       "      <td>6.111257e+13</td>\n",
       "    </tr>\n",
       "    <tr>\n",
       "      <th>2</th>\n",
       "      <td>9.127735e+13</td>\n",
       "    </tr>\n",
       "    <tr>\n",
       "      <th>3</th>\n",
       "      <td>1.236623e+14</td>\n",
       "    </tr>\n",
       "    <tr>\n",
       "      <th>4</th>\n",
       "      <td>1.558854e+14</td>\n",
       "    </tr>\n",
       "    <tr>\n",
       "      <th>5</th>\n",
       "      <td>1.888376e+14</td>\n",
       "    </tr>\n",
       "    <tr>\n",
       "      <th>6</th>\n",
       "      <td>2.216250e+14</td>\n",
       "    </tr>\n",
       "    <tr>\n",
       "      <th>7</th>\n",
       "      <td>2.570626e+14</td>\n",
       "    </tr>\n",
       "    <tr>\n",
       "      <th>8</th>\n",
       "      <td>2.923228e+14</td>\n",
       "    </tr>\n",
       "    <tr>\n",
       "      <th>9</th>\n",
       "      <td>3.320769e+14</td>\n",
       "    </tr>\n",
       "    <tr>\n",
       "      <th>10</th>\n",
       "      <td>3.716318e+14</td>\n",
       "    </tr>\n",
       "    <tr>\n",
       "      <th>11</th>\n",
       "      <td>4.187675e+14</td>\n",
       "    </tr>\n",
       "    <tr>\n",
       "      <th>12</th>\n",
       "      <td>4.656656e+14</td>\n",
       "    </tr>\n",
       "    <tr>\n",
       "      <th>13</th>\n",
       "      <td>5.343577e+14</td>\n",
       "    </tr>\n",
       "    <tr>\n",
       "      <th>14</th>\n",
       "      <td>6.027002e+14</td>\n",
       "    </tr>\n",
       "    <tr>\n",
       "      <th>15</th>\n",
       "      <td>6.795525e+14</td>\n",
       "    </tr>\n",
       "    <tr>\n",
       "      <th>16</th>\n",
       "      <td>7.560034e+14</td>\n",
       "    </tr>\n",
       "    <tr>\n",
       "      <th>17</th>\n",
       "      <td>8.355721e+14</td>\n",
       "    </tr>\n",
       "    <tr>\n",
       "      <th>18</th>\n",
       "      <td>9.147008e+14</td>\n",
       "    </tr>\n",
       "    <tr>\n",
       "      <th>19</th>\n",
       "      <td>1.001827e+15</td>\n",
       "    </tr>\n",
       "    <tr>\n",
       "      <th>20</th>\n",
       "      <td>1.088426e+15</td>\n",
       "    </tr>\n",
       "    <tr>\n",
       "      <th>21</th>\n",
       "      <td>1.175889e+15</td>\n",
       "    </tr>\n",
       "    <tr>\n",
       "      <th>22</th>\n",
       "      <td>1.262728e+15</td>\n",
       "    </tr>\n",
       "    <tr>\n",
       "      <th>23</th>\n",
       "      <td>1.358769e+15</td>\n",
       "    </tr>\n",
       "    <tr>\n",
       "      <th>24</th>\n",
       "      <td>1.453984e+15</td>\n",
       "    </tr>\n",
       "    <tr>\n",
       "      <th>25</th>\n",
       "      <td>1.554401e+15</td>\n",
       "    </tr>\n",
       "    <tr>\n",
       "      <th>26</th>\n",
       "      <td>1.653722e+15</td>\n",
       "    </tr>\n",
       "    <tr>\n",
       "      <th>27</th>\n",
       "      <td>1.755473e+15</td>\n",
       "    </tr>\n",
       "    <tr>\n",
       "      <th>28</th>\n",
       "      <td>1.855778e+15</td>\n",
       "    </tr>\n",
       "    <tr>\n",
       "      <th>29</th>\n",
       "      <td>1.963113e+15</td>\n",
       "    </tr>\n",
       "    <tr>\n",
       "      <th>30</th>\n",
       "      <td>2.068573e+15</td>\n",
       "    </tr>\n",
       "  </tbody>\n",
       "</table>\n",
       "</div>"
      ],
      "text/plain": [
       "    e_out_annual_[Wh]\n",
       "0        2.771659e+13\n",
       "1        6.111257e+13\n",
       "2        9.127735e+13\n",
       "3        1.236623e+14\n",
       "4        1.558854e+14\n",
       "5        1.888376e+14\n",
       "6        2.216250e+14\n",
       "7        2.570626e+14\n",
       "8        2.923228e+14\n",
       "9        3.320769e+14\n",
       "10       3.716318e+14\n",
       "11       4.187675e+14\n",
       "12       4.656656e+14\n",
       "13       5.343577e+14\n",
       "14       6.027002e+14\n",
       "15       6.795525e+14\n",
       "16       7.560034e+14\n",
       "17       8.355721e+14\n",
       "18       9.147008e+14\n",
       "19       1.001827e+15\n",
       "20       1.088426e+15\n",
       "21       1.175889e+15\n",
       "22       1.262728e+15\n",
       "23       1.358769e+15\n",
       "24       1.453984e+15\n",
       "25       1.554401e+15\n",
       "26       1.653722e+15\n",
       "27       1.755473e+15\n",
       "28       1.855778e+15\n",
       "29       1.963113e+15\n",
       "30       2.068573e+15"
      ]
     },
     "execution_count": 80,
     "metadata": {},
     "output_type": "execute_result"
    }
   ],
   "source": [
    "sim1.scenario['PERC'].dataOut_e.loc[0:30,['e_out_annual_[Wh]']]"
   ]
  },
  {
   "cell_type": "code",
   "execution_count": 81,
   "id": "e7be9bf1",
   "metadata": {},
   "outputs": [],
   "source": [
    "perc_energyGen_annual = sim1.scenario['PERC'].dataOut_e.loc[0:30,['e_out_annual_[Wh]']]\n",
    "shj_energyGen_annual = sim1.scenario['SHJ'].dataOut_e.loc[0:30,['e_out_annual_[Wh]']]\n",
    "topcon_energyGen_annual = sim1.scenario['TOPCon'].dataOut_e.loc[0:30,['e_out_annual_[Wh]']]\n",
    "energyGen = pd.concat([perc_energyGen_annual, shj_energyGen_annual, topcon_energyGen_annual],axis=1)\n",
    "energyGen.index=idx_temp"
   ]
  },
  {
   "cell_type": "code",
   "execution_count": 83,
   "id": "f8b0b2fd",
   "metadata": {},
   "outputs": [
    {
     "data": {
      "image/png": "[encoded data removed]",
      "text/plain": [
       "<Figure size 640x480 with 1 Axes>"
      ]
     },
     "metadata": {},
     "output_type": "display_data"
    }
   ],
   "source": [
    "fig, ax1 = plt.subplots()\n",
    "\n",
    "ax1.plot(energyGen)\n",
    "#ax1.set_ylabel('Annual Deployments [MW]', color='blue')\n",
    "\n",
    "#ax2 = ax1.twinx()\n",
    "#ax2.plot(sf_reeds['TW_cum'], color='orange')\n",
    "#ax2.set_ylabel('Cumulative Capacity [TW]', color='orange')\n",
    "\n",
    "#plt.legend(['Cumulative Capacity'])\n",
    "plt.title('Annual Energy Generation')\n",
    "plt.show()"
   ]
  },
  {
   "cell_type": "code",
   "execution_count": null,
   "id": "5828ff22",
   "metadata": {},
   "outputs": [],
   "source": []
  },
  {
   "cell_type": "code",
   "execution_count": null,
   "id": "0a2bf027",
   "metadata": {},
   "outputs": [],
   "source": []
  }
 ],
 "metadata": {
  "kernelspec": {
   "display_name": "Python 3 (ipykernel)",
   "language": "python",
   "name": "python3"
  },
  "language_info": {
   "codemirror_mode": {
    "name": "ipython",
    "version": 3
   },
   "file_extension": ".py",
   "mimetype": "text/x-python",
   "name": "python",
   "nbconvert_exporter": "python",
   "pygments_lexer": "ipython3",
   "version": "3.8.8"
  }
 },
 "nbformat": 4,
 "nbformat_minor": 5
}
