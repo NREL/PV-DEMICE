{
 "cells": [
  {
   "cell_type": "markdown",
   "id": "46b25297",
   "metadata": {},
   "source": [
    "# Analysis of Cell Technology\n",
    "3 competing cell technologies may claim marketshare in future; Bifacial PERC, bifacial SHJ, and Bifacial TOPCon. Each design has different efficiency and a different silver intensity. This analysis seeks compare these technologies on a mass and energy basis. A global deployment projection is used so that silver demand can be evaluated at the global level."
   ]
  },
  {
   "cell_type": "code",
   "execution_count": 1,
   "id": "4b9c125d",
   "metadata": {},
   "outputs": [],
   "source": [
    "import numpy as np\n",
    "import pandas as pd\n",
    "import os,sys\n",
    "from pathlib import Path\n",
    "import matplotlib.pyplot as plt\n",
    "\n",
    "cwd = os.getcwd() #grabs current working directory\n",
    "\n",
    "testfolder = str(Path().resolve().parent.parent / 'PV_ICE' / 'TEMP' / 'CellTechCompare')\n",
    "inputfolder = str(Path().resolve().parent.parent / 'PV_ICE' / 'TEMP')\n",
    "baselinesfolder = str(Path().resolve().parent.parent /'PV_ICE' / 'baselines')\n",
    "supportMatfolder = str(Path().resolve().parent.parent / 'PV_ICE' / 'baselines' / 'SupportingMaterial')\n",
    "\n",
    "if not os.path.exists(testfolder):\n",
    "    os.makedirs(testfolder)"
   ]
  },
  {
   "cell_type": "code",
   "execution_count": 2,
   "id": "8b533e21",
   "metadata": {},
   "outputs": [],
   "source": [
    "scennames = ['PERC','SHJ','TOPCon']\n",
    "MATERIALS = ['glass','aluminium_frames','silver','silicon', 'copper', 'encapsulant', 'backsheet']\n",
    "moduleFile_m = os.path.join(baselinesfolder, 'baseline_modules_mass_US.csv')\n",
    "moduleFile_e = os.path.join(baselinesfolder, 'baseline_modules_energy.csv')"
   ]
  },
  {
   "cell_type": "code",
   "execution_count": null,
   "id": "54cc0c1c",
   "metadata": {},
   "outputs": [],
   "source": []
  },
  {
   "cell_type": "code",
   "execution_count": null,
   "id": "27ed86c7",
   "metadata": {},
   "outputs": [],
   "source": []
  },
  {
   "cell_type": "code",
   "execution_count": null,
   "id": "2af3a8c7",
   "metadata": {},
   "outputs": [],
   "source": [
    "#load in a baseline and materials for modification\n",
    "sim1 = PV_ICE.Simulation(name='sim1', path=testfolder)\n",
    "for scen in scennames:\n",
    "    sim1.createScenario(name=scen, massmodulefile=moduleFile_m, energymodulefile=moduleFile_e)\n",
    "        for mat in range (0, len(MATERIALS)):\n",
    "            matbaseline_m = r'..\\baselines\\baseline_material_mass_'+MATERIALS[mat]+'.csv'\n",
    "            matbaseline_e = r'..\\baselines\\baseline_material_energy_'+MATERIALS[mat]+'.csv'\n",
    "            sim1.scenario['USHistory'].addMaterial(MATERIALS[mat], massmatfile=matbaseline_m, energymatfile=matbaseline_e)"
   ]
  },
  {
   "cell_type": "code",
   "execution_count": null,
   "id": "f4f671c9",
   "metadata": {},
   "outputs": [],
   "source": []
  },
  {
   "cell_type": "code",
   "execution_count": null,
   "id": "ec7ab44e",
   "metadata": {},
   "outputs": [],
   "source": []
  },
  {
   "cell_type": "code",
   "execution_count": null,
   "id": "7cc5e39b",
   "metadata": {},
   "outputs": [],
   "source": [
    "rtest = PV_ICE.Simulation(name='Sim1', path=inputfolder) #create fake simulation\n",
    "rtest.createScenario(name='test', massmodulefile=r'..\\baselines\\baseline_modules_mass_US.csv') #create fake scenario, pull in module baseline\n",
    "baseline = rtest.scenario['test'].dataIn_m #save baseline data as a seperate dataframe\n",
    "baseline = baseline.drop(columns=['new_Installed_Capacity_[MW]']) #drop the installs column\n",
    "baseline.set_index('year', inplace=True) #set index inplace to the year column\n",
    "baseline.index = pd.PeriodIndex(baseline.index, freq='A')  # A -- Annual #inform the index that it is an annual period"
   ]
  },
  {
   "cell_type": "code",
   "execution_count": null,
   "id": "798acc64",
   "metadata": {},
   "outputs": [],
   "source": [
    "for scen in scennames:\n",
    "    filetitle = scen+'.csv'\n",
    "    subtestfolder = os.path.join(testfolder, 'Inputs')\n",
    "    if not os.path.exists(subtestfolder):\n",
    "        os.makedirs(subtestfolder)\n",
    "    filetitle = os.path.join(subtestfolder, filetitle)"
   ]
  },
  {
   "cell_type": "code",
   "execution_count": null,
   "id": "575b509b",
   "metadata": {},
   "outputs": [],
   "source": []
  },
  {
   "cell_type": "code",
   "execution_count": null,
   "id": "1078225e",
   "metadata": {},
   "outputs": [],
   "source": [
    "#load in a baseline and materials for modification\n",
    "r1 = PV_ICE.Simulation(name='sim1', path=testfolder)\n",
    "r1.createScenario(name='USHistory', massmodulefile=moduleFile) #points at the old module history installs file\n",
    "for mat in range (0, len(MATERIALS)):\n",
    "    MATERIALBASELINE = r'..\\baselines\\baseline_material_mass_'+MATERIALS[mat]+'.csv'\n",
    "    r1.scenario['USHistory'].addMaterial(MATERIALS[mat], massmatfile=MATERIALBASELINE)"
   ]
  },
  {
   "cell_type": "code",
   "execution_count": null,
   "id": "3f028b48",
   "metadata": {},
   "outputs": [],
   "source": [
    "for scens in scennames:\n",
    "    r1.scenario[scens].dataIn_m.loc[0:len(installs_df['year']-1),'new_Installed_Capacity_[MW]'] = installs_df[scens]"
   ]
  }
 ],
 "metadata": {
  "kernelspec": {
   "display_name": "Python 3 (ipykernel)",
   "language": "python",
   "name": "python3"
  },
  "language_info": {
   "codemirror_mode": {
    "name": "ipython",
    "version": 3
   },
   "file_extension": ".py",
   "mimetype": "text/x-python",
   "name": "python",
   "nbconvert_exporter": "python",
   "pygments_lexer": "ipython3",
   "version": "3.8.8"
  }
 },
 "nbformat": 4,
 "nbformat_minor": 5
}
