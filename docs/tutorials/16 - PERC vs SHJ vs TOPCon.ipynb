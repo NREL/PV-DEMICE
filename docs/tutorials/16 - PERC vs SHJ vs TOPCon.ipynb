{
 "cells": [
  {
   "attachments": {},
   "cell_type": "markdown",
   "id": "46b25297",
   "metadata": {},
   "source": [
    "# Analysis of Cell Technology\n",
    "3 competing cell technologies may claim marketshare in future; Bifacial PERC, bifacial SHJ, and Bifacial TOPCon. Each design has different efficiency and a different silver intensity. This analysis seeks compare these technologies on a mass and energy basis. A psuedo global deployment projection hitting 100% RE targets in 2050 is used so that silver demand can be evaluated at the global level.\n",
    "\n",
    "Make 4+ scenarios\n",
    "1. All PERC\n",
    "2. All SHJ\n",
    "3. All TOPCon\n",
    "4. Realistic blend / ITRPV numbers from Martin Springer or Jarett Zuboy – DURAMat tech scounting report\n",
    "5. All of the above and turn Bifacial ON/OFF\n",
    "\n",
    "We will use the silver intensity and module efficiency projections from:\n",
    "\n",
    "    Zhang, Yuchao, Moonyong Kim, Li Wang, Pierre Verlinden, and Brett Hallam. 2021. “Design Considerations for Multi-Terawatt Scale Manufacturing of Existing and Future Photovoltaic Technologies: Challenges and Opportunities Related to Silver, Indium and Bismuth Consumption.” Energy & Environmental Science. https://doi.org/10.1039/D1EE01814K. \n",
    "\n",
    "and\n",
    "\n",
    "    Gervais, Estelle, Shivenes Shammugam, Lorenz Friedrich, and Thomas Schlegl. 2021. “Raw Material Needs for the Large-Scale Deployment of Photovoltaics – Effects of Innovation-Driven Roadmaps on Material Constraints until 2050.” Renewable and Sustainable Energy Reviews 137 (March): 110589. https://doi.org/10.1016/j.rser.2020.110589."
   ]
  },
  {
   "cell_type": "code",
   "execution_count": 1,
   "id": "4b9c125d",
   "metadata": {},
   "outputs": [],
   "source": [
    "import numpy as np\n",
    "import pandas as pd\n",
    "import os,sys\n",
    "from pathlib import Path\n",
    "import matplotlib.pyplot as plt\n",
    "\n",
    "cwd = os.getcwd() #grabs current working directory\n",
    "\n",
    "testfolder = str(Path().resolve().parent.parent / 'PV_ICE' / 'TEMP' / 'CellTechCompare')\n",
    "inputfolder = str(Path().resolve().parent.parent / 'PV_ICE' / 'TEMP')\n",
    "baselinesfolder = str(Path().resolve().parent.parent /'PV_ICE' / 'baselines')\n",
    "supportMatfolder = str(Path().resolve().parent.parent / 'PV_ICE' / 'baselines' / 'SupportingMaterial')\n",
    "\n",
    "if not os.path.exists(testfolder):\n",
    "    os.makedirs(testfolder)"
   ]
  },
  {
   "cell_type": "markdown",
   "id": "38996330",
   "metadata": {},
   "source": [
    "# Data Preparation\n",
    "Bring in the data from Zhang et al 2021 and Gervais et al 2021."
   ]
  },
  {
   "cell_type": "code",
   "execution_count": 92,
   "id": "bf7d2b91",
   "metadata": {},
   "outputs": [],
   "source": [
    "lit_celltech = pd.read_excel(os.path.join(supportMatfolder,'CellTechCompare','PERCvSHJvTOPCon-LitData.xlsx'), sheet_name='Sheet2',\n",
    "                             header=[0,1,2], index_col=0)"
   ]
  },
  {
   "cell_type": "code",
   "execution_count": 93,
   "id": "69a13a00",
   "metadata": {},
   "outputs": [
    {
     "data": {
      "text/plain": [
       "<bound method MultiIndex.get_level_values of MultiIndex([('Zhang et al 2021 (hallam)',   'PERC',  'ModuleEff'),\n",
       "            ('Zhang et al 2021 (hallam)',   'PERC', 'Ag_mgpcell'),\n",
       "            ('Zhang et al 2021 (hallam)',    'SHJ',  'ModuleEff'),\n",
       "            ('Zhang et al 2021 (hallam)',    'SHJ', 'Ag_mgpcell'),\n",
       "            ('Zhang et al 2021 (hallam)', 'TOPCon',  'ModuleEff'),\n",
       "            ('Zhang et al 2021 (hallam)', 'TOPCon', 'Ag_mgpcell')],\n",
       "           names=[None, None, 'year'])>"
      ]
     },
     "execution_count": 93,
     "metadata": {},
     "output_type": "execute_result"
    }
   ],
   "source": [
    "lit_celltech.columns.get_level_values"
   ]
  },
  {
   "cell_type": "code",
   "execution_count": 94,
   "id": "acd475e2",
   "metadata": {},
   "outputs": [],
   "source": [
    "#Zhang et al Table 2 gives cell size assumptions 166mm cells\n",
    "cell_size_m2 = np.square(0.166)"
   ]
  },
  {
   "cell_type": "code",
   "execution_count": 95,
   "id": "27ed86c7",
   "metadata": {},
   "outputs": [],
   "source": [
    "#calculate silver use per meter squared for each tech\n",
    "zhang_perc_Ag_kgpm2 = lit_celltech['Zhang et al 2021 (hallam)']['PERC']['Ag_mgpcell']/1000/cell_size_m2 #creates series\n",
    "zhang_shj_Ag_kgpm2 = lit_celltech['Zhang et al 2021 (hallam)']['SHJ']['Ag_mgpcell']/1000/cell_size_m2\n",
    "zhang_topcon_Ag_kgpm2 = lit_celltech['Zhang et al 2021 (hallam)']['TOPCon']['Ag_mgpcell']/1000/cell_size_m2"
   ]
  },
  {
   "cell_type": "markdown",
   "id": "1cc99fc1",
   "metadata": {},
   "source": [
    "Gervais et al 2021 also project silver use, but through 2050. We wil use Zhang et al silver intensity through 2030, then a futher decrease from Gervais et al to 2050. There is no projection of TOPCon from Gervais et al, so we will assume a similar magnitude of continued decrease."
   ]
  },
  {
   "cell_type": "code",
   "execution_count": 96,
   "id": "3278229e",
   "metadata": {},
   "outputs": [
    {
     "data": {
      "text/plain": [
       "                                   year      \n",
       "Zhang et al 2021 (hallam)  PERC    ModuleEff     24.5\n",
       "                                   Ag_mgpcell    57.0\n",
       "                           SHJ     ModuleEff     25.3\n",
       "                                   Ag_mgpcell    99.0\n",
       "                           TOPCon  ModuleEff     25.0\n",
       "                                   Ag_mgpcell    95.0\n",
       "Name: 2030, dtype: float64"
      ]
     },
     "execution_count": 96,
     "metadata": {},
     "output_type": "execute_result"
    }
   ],
   "source": [
    "lit_celltech.loc[2030]"
   ]
  },
  {
   "cell_type": "code",
   "execution_count": 97,
   "id": "60b77442",
   "metadata": {},
   "outputs": [],
   "source": [
    "Gervais_perc_2050 = pd.Series({2050:40}) #mg/cell\n",
    "Gervais_shj_2050 = pd.Series({2050:80}) #mg/cell\n",
    "guess_topcon_2050 = pd.Series({2050:(95-18)}) # mg/cell 99-80 = 19, 57-40 = 17, guess further 18mg decrease\n",
    "#assuming the same cell size as Zhang et al (it isn't specified in Gervais)\n",
    "Gervais_perc_2050_kgpm2 = Gervais_perc_2050/1000/cell_size_m2\n",
    "Gervais_shj_2050_kgpm2 = Gervais_shj_2050/1000/cell_size_m2\n",
    "guess_topcon_2050_kgpm2 = guess_topcon_2050/1000/cell_size_m2"
   ]
  },
  {
   "cell_type": "code",
   "execution_count": 98,
   "id": "81dcb620",
   "metadata": {},
   "outputs": [],
   "source": [
    "perc_Ag_kgpm2 = pd.concat([zhang_perc_Ag_kgpm2.loc[:2049], Gervais_perc_2050_kgpm2])\n",
    "shj_Ag_kgpm2 = pd.concat([zhang_shj_Ag_kgpm2.loc[:2049], Gervais_shj_2050_kgpm2])\n",
    "topcon_Ag_kgpm2 = pd.concat([zhang_topcon_Ag_kgpm2.loc[:2049], guess_topcon_2050_kgpm2])"
   ]
  },
  {
   "cell_type": "code",
   "execution_count": 99,
   "id": "8ea221e1",
   "metadata": {},
   "outputs": [],
   "source": [
    "#filled projections 2020 through 2050\n",
    "perc_Ag_kgpm2.interpolate(inplace=True)\n",
    "shj_Ag_kgpm2.interpolate(inplace=True)\n",
    "topcon_Ag_kgpm2.interpolate(inplace=True)"
   ]
  },
  {
   "cell_type": "markdown",
   "id": "19880eed",
   "metadata": {},
   "source": [
    "Now lets use Zhang et al's projections of efficiency increases. These are reasonably ambitious, achieving ~25% by 2030, but PV is usually an overachiever. We will hold efficiency constant after 2030."
   ]
  },
  {
   "cell_type": "code",
   "execution_count": 102,
   "id": "c6ed0d58",
   "metadata": {},
   "outputs": [],
   "source": [
    "zhang_perc_modeff = lit_celltech['Zhang et al 2021 (hallam)']['PERC']['ModuleEff']\n",
    "zhang_shj_modeff = lit_celltech['Zhang et al 2021 (hallam)']['SHJ']['ModuleEff']\n",
    "zhang_topcon_modeff = lit_celltech['Zhang et al 2021 (hallam)']['TOPCon']['ModuleEff']"
   ]
  },
  {
   "cell_type": "code",
   "execution_count": 103,
   "id": "2d7cd9b2",
   "metadata": {},
   "outputs": [],
   "source": [
    "zhang_perc_modeff.interpolate(inplace=True)\n",
    "zhang_shj_modeff.interpolate(inplace=True)\n",
    "zhang_topcon_modeff.interpolate(inplace=True)"
   ]
  },
  {
   "cell_type": "code",
   "execution_count": 106,
   "id": "17790a29",
   "metadata": {},
   "outputs": [],
   "source": [
    "modeffs = pd.concat([zhang_perc_modeff,zhang_shj_modeff,zhang_topcon_modeff], axis=1)\n",
    "modeffs.columns=['PERC','SHJ','TOPCon']\n",
    "Aguse = pd.concat([perc_Ag_kgpm2,shj_Ag_kgpm2,topcon_Ag_kgpm2], axis=1)\n",
    "Aguse.columns=['PERC','SHJ','TOPCon']"
   ]
  },
  {
   "cell_type": "code",
   "execution_count": 112,
   "id": "284416f2",
   "metadata": {},
   "outputs": [
    {
     "data": {
      "text/plain": [
       "Text(0, 0.5, 'Module Efficiency [%]')"
      ]
     },
     "execution_count": 112,
     "metadata": {},
     "output_type": "execute_result"
    },
    {
     "data": {
      "image/png": "[encoded data removed]",
      "text/plain": [
       "<Figure size 640x480 with 1 Axes>"
      ]
     },
     "metadata": {},
     "output_type": "display_data"
    }
   ],
   "source": [
    "plt.plot(modeffs, label=modeffs.columns)\n",
    "plt.legend()\n",
    "plt.title('Module Efficiency over Time')\n",
    "plt.ylabel('Module Efficiency [%]')"
   ]
  },
  {
   "cell_type": "code",
   "execution_count": 113,
   "id": "f1e721b4",
   "metadata": {},
   "outputs": [
    {
     "data": {
      "text/plain": [
       "Text(0, 0.5, 'Silver Intensity [kg/m2]')"
      ]
     },
     "execution_count": 113,
     "metadata": {},
     "output_type": "execute_result"
    },
    {
     "data": {
      "image/png": "[encoded data removed]",
      "text/plain": [
       "<Figure size 640x480 with 1 Axes>"
      ]
     },
     "metadata": {},
     "output_type": "display_data"
    }
   ],
   "source": [
    "plt.plot(Aguse, label=Aguse.columns)\n",
    "plt.legend()\n",
    "plt.title('Silver Use over time')\n",
    "plt.ylabel('Silver Intensity [kg/m2]')"
   ]
  },
  {
   "cell_type": "markdown",
   "id": "b75ebc34",
   "metadata": {},
   "source": [
    "One important aspect of these technologies is bifaciality. Each has a different bifaciality factor, and they are not expected to increase substantially with time (ITRPV 2022). We plan to explore monofacial and bifacial modules of these technologies (for example residential vs utility). We will use a static inventory of bifacial factors."
   ]
  },
  {
   "cell_type": "code",
   "execution_count": 114,
   "id": "5242e504",
   "metadata": {},
   "outputs": [],
   "source": [
    "bifiFactors = {'PERC':0.7,\n",
    "              'SHJ':0.9,\n",
    "              'TOPCon':0.8} # ITRPV 2022, Fig. 58"
   ]
  },
  {
   "cell_type": "markdown",
   "id": "4b7a9589",
   "metadata": {},
   "source": [
    "To create a blended scenario, we will use the ITRPV 2022 cell market share projection through 2030, and then keep it constant through 2050."
   ]
  },
  {
   "cell_type": "code",
   "execution_count": 204,
   "id": "9e758e47",
   "metadata": {},
   "outputs": [],
   "source": [
    "#insert data from Jarett here\n",
    "itrpv_celltech_marketshare = pd.read_csv(os.path.join(supportMatfolder,'CellTechCompare','ITRPV_celltech_marketshare.csv'), index_col=0)"
   ]
  },
  {
   "cell_type": "code",
   "execution_count": 205,
   "id": "d3987b5e",
   "metadata": {
    "scrolled": true
   },
   "outputs": [
    {
     "data": {
      "text/plain": [
       "Index(['p-type (Al-BSF)', 'p-type (PERC)', 'p-type (TOPCon)',\n",
       "       'n-type (back contact)', 'n-type (SHJ)', 'n-type (TOPCon)',\n",
       "       'n-type (other)', 'tandem (Si-based)'],\n",
       "      dtype='object')"
      ]
     },
     "execution_count": 205,
     "metadata": {},
     "output_type": "execute_result"
    }
   ],
   "source": [
    "itrpv_celltech_marketshare.columns\n",
    "#there are more cell techs here than I need - I'm not currently concerned with n-type vs p-type\n",
    "#the marketshares of \"n-type back contact\", \"n-type other\", \"tandem si-based\" are small and outside scope of study\n",
    "#remove and renormalize."
   ]
  },
  {
   "cell_type": "code",
   "execution_count": 209,
   "id": "031f7223",
   "metadata": {},
   "outputs": [],
   "source": [
    "#subset for desired techs\n",
    "celltech_marketshare_sub_raw = itrpv_celltech_marketshare.loc[2020:].filter(regex=('PERC|TOPCon|SHJ')) \n",
    "#interpolate to fill gaps\n",
    "celltech_marketshare_sub_raw.interpolate(inplace=True, limit_direction='both')\n",
    "#renormalize\n",
    "celltech_marketshare_sub_raw['temp_sum'] = celltech_marketshare_sub_raw.iloc[:,[0,1,2,3]].sum(axis=1)\n",
    "celltech_marketshare_sub_raw['scale'] = 1/celltech_marketshare_sub_raw['temp_sum'] #create scaling factor\n",
    "celltech_marketshare_scaled = celltech_marketshare_sub_raw.iloc[:,[0,1,2,3]]*celltech_marketshare_sub_raw.loc[:,['scale']].values\n",
    "#celltech_marketshare_scaled.sum(axis=1) # test check that everything adds to 1"
   ]
  },
  {
   "cell_type": "code",
   "execution_count": 210,
   "id": "eaf7d052",
   "metadata": {},
   "outputs": [
    {
     "data": {
      "text/plain": [
       "Index(['p-type (PERC)', 'p-type (TOPCon)', 'n-type (SHJ)', 'n-type (TOPCon)'], dtype='object')"
      ]
     },
     "execution_count": 210,
     "metadata": {},
     "output_type": "execute_result"
    }
   ],
   "source": [
    "celltech_marketshare_scaled.columns"
   ]
  },
  {
   "cell_type": "code",
   "execution_count": 222,
   "id": "6568cc01",
   "metadata": {
    "scrolled": false
   },
   "outputs": [
    {
     "data": {
      "image/png": "[encoded data removed]",
      "text/plain": [
       "<Figure size 640x480 with 1 Axes>"
      ]
     },
     "metadata": {},
     "output_type": "display_data"
    }
   ],
   "source": [
    "plt.plot([],[],color='blue', label='PERC')\n",
    "plt.plot([],[],color='orange', label='TOPCon (p-type)')\n",
    "plt.plot([],[],color='red', label='TOPCon (n-type)')\n",
    "plt.plot([],[],color='purple', label='SHJ')\n",
    "#plt.plot([],[],color='red', label='Cell')\n",
    "\n",
    "plt.stackplot(celltech_marketshare_scaled.index,\n",
    "              celltech_marketshare_scaled['p-type (PERC)'],\n",
    "              celltech_marketshare_scaled['p-type (TOPCon)'],\n",
    "              celltech_marketshare_scaled['n-type (TOPCon)'],\n",
    "              celltech_marketshare_scaled['n-type (SHJ)'],\n",
    "              colors = ['blue','orange','red','purple'])\n",
    "\n",
    "plt.title('Market Share Cell Type: Blended Projection')\n",
    "plt.ylabel('Market Share [fraction]')\n",
    "#plt.xlim(1995,2022)\n",
    "plt.legend(loc='lower center')\n",
    "plt.show()"
   ]
  },
  {
   "cell_type": "code",
   "execution_count": 224,
   "id": "9b2d91e9",
   "metadata": {},
   "outputs": [],
   "source": [
    "celltech_marketshare_scaled['TOPCon'] = celltech_marketshare_scaled.filter(like='TOPCon').sum(axis=1)"
   ]
  },
  {
   "cell_type": "markdown",
   "id": "211f34d5",
   "metadata": {},
   "source": [
    "Other Assumptions:\n",
    "- silicon wafer thickness is identical, and improvements are identical\n",
    "- glass-glass module package for bifacial using 2.5mm glass for both\n",
    "- module manufacturing energy is identical (until we get better data)\n",
    "- degradation rates between the technologies are identical (until we get better data)\n",
    "- Weibull Failure probabilities are identical between technologies (until we get better data)\n",
    "- No ciruclarity"
   ]
  },
  {
   "cell_type": "code",
   "execution_count": 227,
   "id": "aa75cc92",
   "metadata": {},
   "outputs": [
    {
     "name": "stdout",
     "output_type": "stream",
     "text": [
      "The mass per module area of glass is 12500.0 g/m^2\n"
     ]
    }
   ],
   "source": [
    "#glass-glass package mass per area calculation\n",
    "#ITRPV 2022 Figs 36 and 38, we are assuming that the front and back glass heave equal thickness of 2.5mm\n",
    "density_glass = 2500*1000 # g/m^3 \n",
    "glassperm2 = (2.5/1000)* 2 * density_glass\n",
    "print('The mass per module area of glass is '+str(glassperm2)+' g/m^2')"
   ]
  },
  {
   "cell_type": "markdown",
   "id": "d52744b3",
   "metadata": {},
   "source": [
    "Pull in deployment projection "
   ]
  },
  {
   "cell_type": "code",
   "execution_count": null,
   "id": "f915aa9c",
   "metadata": {},
   "outputs": [],
   "source": []
  },
  {
   "cell_type": "code",
   "execution_count": null,
   "id": "58cec3e2",
   "metadata": {},
   "outputs": [],
   "source": []
  },
  {
   "cell_type": "code",
   "execution_count": null,
   "id": "4baa8bc8",
   "metadata": {},
   "outputs": [],
   "source": []
  },
  {
   "cell_type": "markdown",
   "id": "6a75d0b8",
   "metadata": {},
   "source": [
    "# Scenario Creation"
   ]
  },
  {
   "cell_type": "code",
   "execution_count": 236,
   "id": "1b1db14b",
   "metadata": {},
   "outputs": [],
   "source": [
    "scennames = ['PERC','SHJ','TOPCon'] #add later Blend and bifi on/off\n",
    "MATERIALS = ['glass','aluminium_frames','silver','silicon', 'copper', 'encapsulant', 'backsheet']\n",
    "moduleFile_m = os.path.join(baselinesfolder, 'baseline_modules_mass_US.csv')\n",
    "moduleFile_e = os.path.join(baselinesfolder, 'baseline_modules_energy.csv')"
   ]
  },
  {
   "cell_type": "code",
   "execution_count": 238,
   "id": "2af3a8c7",
   "metadata": {},
   "outputs": [
    {
     "name": "stdout",
     "output_type": "stream",
     "text": [
      "path = C:\\Users\\hmirletz\\Documents\\GitHub\\PV_ICE\\PV_ICE\\TEMP\\CellTechCompare\n"
     ]
    }
   ],
   "source": [
    "#load in a baseline and materials for modification\n",
    "import PV_ICE\n",
    "\n",
    "sim1 = PV_ICE.Simulation(name='sim1', path=testfolder)\n",
    "for scen in scennames:\n",
    "    sim1.createScenario(name=scen, massmodulefile=moduleFile_m, energymodulefile=moduleFile_e)\n",
    "    for mat in range (0, len(MATERIALS)):\n",
    "        matbaseline_m = os.path.join(baselinesfolder,'baseline_material_mass_'+MATERIALS[mat]+'.csv')\n",
    "        matbaseline_e = os.path.join(baselinesfolder,'baseline_material_energy_'+MATERIALS[mat]+'.csv')\n",
    "        sim1.scenario[scen].addMaterial(MATERIALS[mat], massmatfile=matbaseline_m, energymatfile=matbaseline_e)"
   ]
  },
  {
   "cell_type": "markdown",
   "id": "b083ed5c",
   "metadata": {},
   "source": [
    "Modify the all one tech scenarios Scenarios:\n",
    "\n",
    "Module level\n",
    "- trim to 2020-2050\n",
    "- no circularity\n",
    "- deployment projection\n",
    "- module eff\n",
    "\n",
    "material level\n",
    "- glass per m2\n",
    "- silver per m2"
   ]
  },
  {
   "cell_type": "code",
   "execution_count": 257,
   "id": "bb84dbab",
   "metadata": {},
   "outputs": [
    {
     "name": "stdout",
     "output_type": "stream",
     "text": [
      "endYear not provided. Setting to end year of Module data 2050\n"
     ]
    }
   ],
   "source": [
    "#trim to 2020-2050, this trims module and materials\n",
    "sim1.trim_Years(startYear=2020)"
   ]
  },
  {
   "cell_type": "code",
   "execution_count": 278,
   "id": "8994c7bc",
   "metadata": {},
   "outputs": [],
   "source": [
    "#no circularity\n",
    "sim1.scenMod_noCircularity()"
   ]
  },
  {
   "cell_type": "code",
   "execution_count": null,
   "id": "ebc9be9c",
   "metadata": {},
   "outputs": [],
   "source": [
    "#deployment projection\n",
    "#NEED TO PULL IN DEPLOYMENT PROJECTION\n",
    "\n",
    "for scen in scennames:\n",
    "    sim1.scenario[scen].dataIn_m.loc[0:len(installs_df['year']-1),'new_Installed_Capacity_[MW]'] = installs_df[scens]"
   ]
  },
  {
   "cell_type": "code",
   "execution_count": 273,
   "id": "cff2ade4",
   "metadata": {},
   "outputs": [],
   "source": [
    "#module eff\n",
    "#modeffs\n",
    "for scen in scennames:\n",
    "    sim1.scenario[scen].dataIn_m.loc[0:len(modeffs.index-1),'mod_eff'] = modeffs[scen].values"
   ]
  },
  {
   "cell_type": "code",
   "execution_count": 247,
   "id": "36e4d3d3",
   "metadata": {},
   "outputs": [],
   "source": [
    "#glass modify\n",
    "for scen in scennames:\n",
    "    sim1.scenario[scen].material['glass'].matdataIn_m['mat_massperm2'] = glassperm2"
   ]
  },
  {
   "cell_type": "code",
   "execution_count": 282,
   "id": "1c74a8d7",
   "metadata": {},
   "outputs": [],
   "source": [
    "#silver modify\n",
    "#Aguse\n",
    "for scen in scennames:\n",
    "    sim1.scenario[scen].material['silver'].matdataIn_m.loc[0:len(Aguse.index-1),'mat_massperm2'] = Aguse[scen].values"
   ]
  },
  {
   "cell_type": "code",
   "execution_count": null,
   "id": "f00bff25",
   "metadata": {},
   "outputs": [],
   "source": []
  },
  {
   "cell_type": "code",
   "execution_count": null,
   "id": "31db0303",
   "metadata": {},
   "outputs": [],
   "source": []
  },
  {
   "cell_type": "markdown",
   "id": "64a15b9a",
   "metadata": {},
   "source": [
    "# Run Simulations"
   ]
  },
  {
   "cell_type": "code",
   "execution_count": null,
   "id": "7ed29608",
   "metadata": {},
   "outputs": [],
   "source": [
    "bifiFactors\n",
    "\n",
    "sim1.calculateFlows(bifacialityfactors=bifi[scen]) #modify bifi factors at calc flows"
   ]
  }
 ],
 "metadata": {
  "kernelspec": {
   "display_name": "Python 3 (ipykernel)",
   "language": "python",
   "name": "python3"
  },
  "language_info": {
   "codemirror_mode": {
    "name": "ipython",
    "version": 3
   },
   "file_extension": ".py",
   "mimetype": "text/x-python",
   "name": "python",
   "nbconvert_exporter": "python",
   "pygments_lexer": "ipython3",
   "version": "3.8.8"
  }
 },
 "nbformat": 4,
 "nbformat_minor": 5
}
