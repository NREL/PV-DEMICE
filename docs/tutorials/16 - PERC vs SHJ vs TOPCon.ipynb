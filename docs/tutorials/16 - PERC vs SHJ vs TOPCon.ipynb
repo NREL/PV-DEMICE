{
 "cells": [
  {
   "attachments": {},
   "cell_type": "markdown",
   "id": "46b25297",
   "metadata": {},
   "source": [
    "# Analysis of Cell Technology\n",
    "3 competing cell technologies may claim marketshare in future; Bifacial PERC, bifacial SHJ, and Bifacial TOPCon. Each design has different efficiency and a different silver intensity. This analysis seeks compare these technologies on a mass and energy basis. A psuedo global deployment projection hitting 100% RE targets in 2050 is used so that silver demand can be evaluated at the global level.\n",
    "\n",
    "Make 4+ scenarios\n",
    "1. All PERC\n",
    "2. All SHJ\n",
    "3. All TOPCon\n",
    "4. Realistic blend / ITRPV numbers from Martin Springer or Jarett Zuboy – DURAMat tech scounting report\n",
    "5. All of the above and turn Bifacial ON/OFF\n",
    "\n",
    "We will use the silver intensity and module efficiency projections from:\n",
    "\n",
    "    Zhang, Yuchao, Moonyong Kim, Li Wang, Pierre Verlinden, and Brett Hallam. 2021. “Design Considerations for Multi-Terawatt Scale Manufacturing of Existing and Future Photovoltaic Technologies: Challenges and Opportunities Related to Silver, Indium and Bismuth Consumption.” Energy & Environmental Science. https://doi.org/10.1039/D1EE01814K. \n",
    "\n",
    "and\n",
    "\n",
    "    Gervais, Estelle, Shivenes Shammugam, Lorenz Friedrich, and Thomas Schlegl. 2021. “Raw Material Needs for the Large-Scale Deployment of Photovoltaics – Effects of Innovation-Driven Roadmaps on Material Constraints until 2050.” Renewable and Sustainable Energy Reviews 137 (March): 110589. https://doi.org/10.1016/j.rser.2020.110589."
   ]
  },
  {
   "cell_type": "code",
   "execution_count": 1,
   "id": "4b9c125d",
   "metadata": {},
   "outputs": [],
   "source": [
    "import numpy as np\n",
    "import pandas as pd\n",
    "import os,sys\n",
    "from pathlib import Path\n",
    "import matplotlib.pyplot as plt\n",
    "\n",
    "cwd = os.getcwd() #grabs current working directory\n",
    "\n",
    "testfolder = str(Path().resolve().parent.parent / 'PV_ICE' / 'TEMP' / 'CellTechCompare')\n",
    "inputfolder = str(Path().resolve().parent.parent / 'PV_ICE' / 'TEMP')\n",
    "baselinesfolder = str(Path().resolve().parent.parent /'PV_ICE' / 'baselines')\n",
    "supportMatfolder = str(Path().resolve().parent.parent / 'PV_ICE' / 'baselines' / 'SupportingMaterial')\n",
    "\n",
    "if not os.path.exists(testfolder):\n",
    "    os.makedirs(testfolder)"
   ]
  },
  {
   "cell_type": "code",
   "execution_count": 2,
   "id": "8b533e21",
   "metadata": {},
   "outputs": [],
   "source": [
    "scennames = ['PERC','SHJ','TOPCon'] #add turn on/off bifacial\n",
    "MATERIALS = ['glass','aluminium_frames','silver','silicon', 'copper', 'encapsulant', 'backsheet']\n",
    "moduleFile_m = os.path.join(baselinesfolder, 'baseline_modules_mass_US.csv')\n",
    "moduleFile_e = os.path.join(baselinesfolder, 'baseline_modules_energy.csv')"
   ]
  },
  {
   "cell_type": "markdown",
   "id": "13eb8591",
   "metadata": {},
   "source": [
    "Bring in the data from Zhang et al 2021 and Gervais et al 2021."
   ]
  },
  {
   "cell_type": "code",
   "execution_count": 92,
   "id": "39df9426",
   "metadata": {},
   "outputs": [],
   "source": [
    "lit_celltech = pd.read_excel(os.path.join(supportMatfolder,'PERCvSHJvTOPCon-LitData.xlsx'), sheet_name='Sheet2',\n",
    "                             header=[0,1,2], index_col=0)"
   ]
  },
  {
   "cell_type": "code",
   "execution_count": 93,
   "id": "2f884bf6",
   "metadata": {},
   "outputs": [
    {
     "data": {
      "text/plain": [
       "<bound method MultiIndex.get_level_values of MultiIndex([('Zhang et al 2021 (hallam)',   'PERC',  'ModuleEff'),\n",
       "            ('Zhang et al 2021 (hallam)',   'PERC', 'Ag_mgpcell'),\n",
       "            ('Zhang et al 2021 (hallam)',    'SHJ',  'ModuleEff'),\n",
       "            ('Zhang et al 2021 (hallam)',    'SHJ', 'Ag_mgpcell'),\n",
       "            ('Zhang et al 2021 (hallam)', 'TOPCon',  'ModuleEff'),\n",
       "            ('Zhang et al 2021 (hallam)', 'TOPCon', 'Ag_mgpcell')],\n",
       "           names=[None, None, 'year'])>"
      ]
     },
     "execution_count": 93,
     "metadata": {},
     "output_type": "execute_result"
    }
   ],
   "source": [
    "lit_celltech.columns.get_level_values"
   ]
  },
  {
   "cell_type": "code",
   "execution_count": 94,
   "id": "bc3a5c85",
   "metadata": {},
   "outputs": [],
   "source": [
    "#Zhang et al Table 2 gives cell size assumptions 166mm cells\n",
    "cell_size_m2 = np.square(0.166)"
   ]
  },
  {
   "cell_type": "code",
   "execution_count": 95,
   "id": "27ed86c7",
   "metadata": {},
   "outputs": [],
   "source": [
    "#calculate silver use per meter squared for each tech\n",
    "zhang_perc_Ag_kgpm2 = lit_celltech['Zhang et al 2021 (hallam)']['PERC']['Ag_mgpcell']/1000/cell_size_m2 #creates series\n",
    "zhang_shj_Ag_kgpm2 = lit_celltech['Zhang et al 2021 (hallam)']['SHJ']['Ag_mgpcell']/1000/cell_size_m2\n",
    "zhang_topcon_Ag_kgpm2 = lit_celltech['Zhang et al 2021 (hallam)']['TOPCon']['Ag_mgpcell']/1000/cell_size_m2"
   ]
  },
  {
   "cell_type": "markdown",
   "id": "2a0d0b40",
   "metadata": {},
   "source": [
    "Gervais et al 2021 also project silver use, but through 2050. We wil use Zhang et al silver intensity through 2030, then a futher decrease from Gervais et al to 2050. There is no projection of TOPCon from Gervais et al, so we will assume a similar magnitude of continued decrease."
   ]
  },
  {
   "cell_type": "code",
   "execution_count": 96,
   "id": "d5b58e92",
   "metadata": {},
   "outputs": [
    {
     "data": {
      "text/plain": [
       "                                   year      \n",
       "Zhang et al 2021 (hallam)  PERC    ModuleEff     24.5\n",
       "                                   Ag_mgpcell    57.0\n",
       "                           SHJ     ModuleEff     25.3\n",
       "                                   Ag_mgpcell    99.0\n",
       "                           TOPCon  ModuleEff     25.0\n",
       "                                   Ag_mgpcell    95.0\n",
       "Name: 2030, dtype: float64"
      ]
     },
     "execution_count": 96,
     "metadata": {},
     "output_type": "execute_result"
    }
   ],
   "source": [
    "lit_celltech.loc[2030]"
   ]
  },
  {
   "cell_type": "code",
   "execution_count": 97,
   "id": "97dab600",
   "metadata": {},
   "outputs": [],
   "source": [
    "Gervais_perc_2050 = pd.Series({2050:40}) #mg/cell\n",
    "Gervais_shj_2050 = pd.Series({2050:80}) #mg/cell\n",
    "guess_topcon_2050 = pd.Series({2050:(95-18)}) # mg/cell 99-80 = 19, 57-40 = 17, guess further 18mg decrease\n",
    "#assuming the same cell size as Zhang et al (it isn't specified in Gervais)\n",
    "Gervais_perc_2050_kgpm2 = Gervais_perc_2050/1000/cell_size_m2\n",
    "Gervais_shj_2050_kgpm2 = Gervais_shj_2050/1000/cell_size_m2\n",
    "guess_topcon_2050_kgpm2 = guess_topcon_2050/1000/cell_size_m2"
   ]
  },
  {
   "cell_type": "code",
   "execution_count": 98,
   "id": "b59bf581",
   "metadata": {},
   "outputs": [],
   "source": [
    "perc_Ag_kgpm2 = pd.concat([zhang_perc_Ag_kgpm2.loc[:2049], Gervais_perc_2050_kgpm2])\n",
    "shj_Ag_kgpm2 = pd.concat([zhang_shj_Ag_kgpm2.loc[:2049], Gervais_shj_2050_kgpm2])\n",
    "topcon_Ag_kgpm2 = pd.concat([zhang_topcon_Ag_kgpm2.loc[:2049], guess_topcon_2050_kgpm2])"
   ]
  },
  {
   "cell_type": "code",
   "execution_count": 99,
   "id": "9e29aa44",
   "metadata": {},
   "outputs": [],
   "source": [
    "#filled projections 2020 through 2050\n",
    "perc_Ag_kgpm2.interpolate(inplace=True)\n",
    "shj_Ag_kgpm2.interpolate(inplace=True)\n",
    "topcon_Ag_kgpm2.interpolate(inplace=True)"
   ]
  },
  {
   "cell_type": "markdown",
   "id": "642d7a44",
   "metadata": {},
   "source": [
    "Now lets use Zhang et al's projections of efficiency increases. These are reasonably ambitious, achieving ~25% by 2030, but PV is usually an overachiever. We will hold efficiency constant after 2030."
   ]
  },
  {
   "cell_type": "code",
   "execution_count": 102,
   "id": "d6e75fdf",
   "metadata": {},
   "outputs": [],
   "source": [
    "zhang_perc_modeff = lit_celltech['Zhang et al 2021 (hallam)']['PERC']['ModuleEff']\n",
    "zhang_shj_modeff = lit_celltech['Zhang et al 2021 (hallam)']['SHJ']['ModuleEff']\n",
    "zhang_topcon_modeff = lit_celltech['Zhang et al 2021 (hallam)']['TOPCon']['ModuleEff']"
   ]
  },
  {
   "cell_type": "code",
   "execution_count": 103,
   "id": "e1d40f35",
   "metadata": {},
   "outputs": [],
   "source": [
    "zhang_perc_modeff.interpolate(inplace=True)\n",
    "zhang_shj_modeff.interpolate(inplace=True)\n",
    "zhang_topcon_modeff.interpolate(inplace=True)"
   ]
  },
  {
   "cell_type": "code",
   "execution_count": 106,
   "id": "ec859e4f",
   "metadata": {},
   "outputs": [],
   "source": [
    "modeffs = pd.concat([zhang_perc_modeff,zhang_shj_modeff,zhang_topcon_modeff], axis=1)\n",
    "modeffs.columns=['PERC','SHJ','TOPCon']\n",
    "Aguse = pd.concat([perc_Ag_kgpm2,shj_Ag_kgpm2,topcon_Ag_kgpm2], axis=1)\n",
    "Aguse.columns=['PERC','SHJ','TOPCon']"
   ]
  },
  {
   "cell_type": "code",
   "execution_count": 112,
   "id": "af492279",
   "metadata": {},
   "outputs": [
    {
     "data": {
      "text/plain": [
       "Text(0, 0.5, 'Module Efficiency [%]')"
      ]
     },
     "execution_count": 112,
     "metadata": {},
     "output_type": "execute_result"
    },
    {
     "data": {
      "image/png": "[encoded data removed]",
      "text/plain": [
       "<Figure size 640x480 with 1 Axes>"
      ]
     },
     "metadata": {},
     "output_type": "display_data"
    }
   ],
   "source": [
    "plt.plot(modeffs, label=modeffs.columns)\n",
    "plt.legend()\n",
    "plt.title('Module Efficiency over Time')\n",
    "plt.ylabel('Module Efficiency [%]')"
   ]
  },
  {
   "cell_type": "code",
   "execution_count": 113,
   "id": "aa6e68c2",
   "metadata": {},
   "outputs": [
    {
     "data": {
      "text/plain": [
       "Text(0, 0.5, 'Silver Intensity [kg/m2]')"
      ]
     },
     "execution_count": 113,
     "metadata": {},
     "output_type": "execute_result"
    },
    {
     "data": {
      "image/png": "[encoded data removed]",
      "text/plain": [
       "<Figure size 640x480 with 1 Axes>"
      ]
     },
     "metadata": {},
     "output_type": "display_data"
    }
   ],
   "source": [
    "plt.plot(Aguse, label=Aguse.columns)\n",
    "plt.legend()\n",
    "plt.title('Silver Use over time')\n",
    "plt.ylabel('Silver Intensity [kg/m2]')"
   ]
  },
  {
   "cell_type": "markdown",
   "id": "8f58030e",
   "metadata": {},
   "source": [
    "One important aspect of these technologies is bifaciality. Each has a different bifaciality factor, and they are not expected to increase substantially with time (ITRPV 2022). We plan to explore monofacial and bifacial modules of these technologies (for example residential vs utility). We will use a static inventory of bifacial factors."
   ]
  },
  {
   "cell_type": "code",
   "execution_count": 114,
   "id": "42299fd1",
   "metadata": {},
   "outputs": [],
   "source": [
    "bifiFactors = {'PERC':0.7,\n",
    "              'SHJ':0.9,\n",
    "              'TOPCon':0.8} # ITRPV 2022, Fig. 58"
   ]
  },
  {
   "cell_type": "markdown",
   "id": "ab82e549",
   "metadata": {},
   "source": [
    "To create a blended scenario, we will use the ITRPV 2022 cell market share projection through 2030, and then keep it constant through 2050."
   ]
  },
  {
   "cell_type": "code",
   "execution_count": null,
   "id": "894ae4d5",
   "metadata": {},
   "outputs": [],
   "source": [
    "#insert data from Jarett here"
   ]
  },
  {
   "cell_type": "code",
   "execution_count": null,
   "id": "b3dd58b4",
   "metadata": {},
   "outputs": [],
   "source": []
  },
  {
   "cell_type": "code",
   "execution_count": null,
   "id": "e8d4f906",
   "metadata": {},
   "outputs": [],
   "source": []
  },
  {
   "cell_type": "code",
   "execution_count": null,
   "id": "148cb7f8",
   "metadata": {},
   "outputs": [],
   "source": []
  },
  {
   "cell_type": "markdown",
   "id": "fdfe5858",
   "metadata": {},
   "source": [
    "Other Assumptions:\n",
    "- silicon wafer thickness is identical, and improvements are identical\n",
    "- module manufacturing energy is identical (until we get better data)\n",
    "- degradation rates between the technologies are identical (until we get better data)\n",
    "- Weibull Failure probabilities are identical between technologies (until we get better data)\n",
    "- No ciruclarity"
   ]
  },
  {
   "cell_type": "code",
   "execution_count": null,
   "id": "82123a86",
   "metadata": {},
   "outputs": [],
   "source": []
  },
  {
   "cell_type": "code",
   "execution_count": null,
   "id": "2af3a8c7",
   "metadata": {},
   "outputs": [],
   "source": [
    "#load in a baseline and materials for modification\n",
    "sim1 = PV_ICE.Simulation(name='sim1', path=testfolder)\n",
    "for scen in scennames:\n",
    "    sim1.createScenario(name=scen, massmodulefile=moduleFile_m, energymodulefile=moduleFile_e)\n",
    "        for mat in range (0, len(MATERIALS)):\n",
    "            matbaseline_m = r'..\\baselines\\baseline_material_mass_'+MATERIALS[mat]+'.csv'\n",
    "            matbaseline_e = r'..\\baselines\\baseline_material_energy_'+MATERIALS[mat]+'.csv'\n",
    "            sim1.scenario['USHistory'].addMaterial(MATERIALS[mat], massmatfile=matbaseline_m, energymatfile=matbaseline_e)"
   ]
  },
  {
   "cell_type": "code",
   "execution_count": null,
   "id": "f4f671c9",
   "metadata": {},
   "outputs": [],
   "source": []
  },
  {
   "cell_type": "code",
   "execution_count": null,
   "id": "ec7ab44e",
   "metadata": {},
   "outputs": [],
   "source": []
  },
  {
   "cell_type": "code",
   "execution_count": null,
   "id": "7cc5e39b",
   "metadata": {},
   "outputs": [],
   "source": [
    "rtest = PV_ICE.Simulation(name='Sim1', path=inputfolder) #create fake simulation\n",
    "rtest.createScenario(name='test', massmodulefile=r'..\\baselines\\baseline_modules_mass_US.csv') #create fake scenario, pull in module baseline\n",
    "baseline = rtest.scenario['test'].dataIn_m #save baseline data as a seperate dataframe\n",
    "baseline = baseline.drop(columns=['new_Installed_Capacity_[MW]']) #drop the installs column\n",
    "baseline.set_index('year', inplace=True) #set index inplace to the year column\n",
    "baseline.index = pd.PeriodIndex(baseline.index, freq='A')  # A -- Annual #inform the index that it is an annual period"
   ]
  },
  {
   "cell_type": "code",
   "execution_count": null,
   "id": "798acc64",
   "metadata": {},
   "outputs": [],
   "source": [
    "for scen in scennames:\n",
    "    filetitle = scen+'.csv'\n",
    "    subtestfolder = os.path.join(testfolder, 'Inputs')\n",
    "    if not os.path.exists(subtestfolder):\n",
    "        os.makedirs(subtestfolder)\n",
    "    filetitle = os.path.join(subtestfolder, filetitle)"
   ]
  },
  {
   "cell_type": "code",
   "execution_count": null,
   "id": "575b509b",
   "metadata": {},
   "outputs": [],
   "source": []
  },
  {
   "cell_type": "code",
   "execution_count": null,
   "id": "1078225e",
   "metadata": {},
   "outputs": [],
   "source": [
    "#load in a baseline and materials for modification\n",
    "r1 = PV_ICE.Simulation(name='sim1', path=testfolder)\n",
    "r1.createScenario(name='USHistory', massmodulefile=moduleFile) #points at the old module history installs file\n",
    "for mat in range (0, len(MATERIALS)):\n",
    "    MATERIALBASELINE = r'..\\baselines\\baseline_material_mass_'+MATERIALS[mat]+'.csv'\n",
    "    r1.scenario['USHistory'].addMaterial(MATERIALS[mat], massmatfile=MATERIALBASELINE)"
   ]
  },
  {
   "cell_type": "code",
   "execution_count": null,
   "id": "3f028b48",
   "metadata": {},
   "outputs": [],
   "source": [
    "for scens in scennames:\n",
    "    r1.scenario[scens].dataIn_m.loc[0:len(installs_df['year']-1),'new_Installed_Capacity_[MW]'] = installs_df[scens]"
   ]
  }
 ],
 "metadata": {
  "kernelspec": {
   "display_name": "Python 3 (ipykernel)",
   "language": "python",
   "name": "python3"
  },
  "language_info": {
   "codemirror_mode": {
    "name": "ipython",
    "version": 3
   },
   "file_extension": ".py",
   "mimetype": "text/x-python",
   "name": "python",
   "nbconvert_exporter": "python",
   "pygments_lexer": "ipython3",
   "version": "3.8.8"
  }
 },
 "nbformat": 4,
 "nbformat_minor": 5
}
