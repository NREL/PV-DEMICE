{
 "cells": [
  {
   "cell_type": "code",
   "execution_count": 1,
   "id": "a37beaf8",
   "metadata": {},
   "outputs": [],
   "source": [
    "import numpy as np\n",
    "import pandas as pd\n",
    "import os,sys\n",
    "from pathlib import Path\n",
    "import matplotlib.pyplot as plt\n",
    "\n",
    "cwd = os.getcwd() #grabs current working directory\n"
   ]
  },
  {
   "cell_type": "code",
   "execution_count": null,
   "id": "20abc6b4",
   "metadata": {
    "scrolled": false
   },
   "outputs": [],
   "source": [
    "#Lifetime and Degradation\n",
    "#median annual power degradation Jordan et al 2022, Table 6\n",
    "idx_temp = pd.RangeIndex(start=2022,stop=2051,step=1) #create the index\n",
    "\n",
    "df_shj_eff = pd.DataFrame(index=idx_temp, columns=['mod_eff'], dtype=float)\n",
    "df_shj_eff.loc[2022] = 19.0\n",
    "df_shj_eff.loc[2030] = 20.5\n",
    "df_shj_eff.loc[2050] = 22\n",
    "df_shj_eff.interpolate(inplace=True)\n",
    "\n",
    "df_shj_deg = pd.DataFrame(index=idx_temp, columns=['mod_deg'], dtype=float)\n",
    "df_shj_deg.loc[2022] = 1.6\n",
    "df_shj_deg.loc[2030] = 1.4\n",
    "df_shj_deg.loc[2050] = 1.2\n",
    "df_shj_deg.interpolate(inplace=True)\n",
    "\n",
    "#degradation rate:\n",
    "#sim1.modifyScenario('SHJ', 'mod_degradation', df_shj_deg.loc[2022:,'mod_deg'], start_year=2022) \n",
    "\n",
    "#Mod Project Lifetime\n",
    "df_shj_life = pd.DataFrame(index=idx_temp, columns=['mod_lifetime'], dtype=float)\n",
    "df_shj_life.loc[2022] = 25\n",
    "df_shj_life.loc[2030] = 25\n",
    "df_shj_life.loc[2050] = 25\n",
    "df_shj_life.interpolate(inplace=True)\n",
    "#sim1.modifyScenario('SHJ', 'mod_lifetime', df_shj_life.loc[2022:,'mod_lifetime'], start_year=2022) #\n",
    "\n",
    "#T50\n",
    "df_shj_t50 = pd.DataFrame(index=idx_temp, columns=['mod_t50'], dtype=float)\n",
    "df_shj_t50.loc[2022] = 25\n",
    "df_shj_t50.loc[2030] = 28\n",
    "df_shj_t50.loc[2050] = 40\n",
    "df_shj_t50.interpolate(inplace=True)\n",
    "#sim1.modifyScenario('SHJ', 'mod_reliability_t50', df_shj_t50.loc[2022:,'mod_t50'], start_year=2022)\n",
    "#t90\n",
    "df_shj_t90 = pd.DataFrame(index=idx_temp, columns=['mod_t90'], dtype=float)\n",
    "df_shj_t90.loc[2022] = 30\n",
    "df_shj_t90.loc[2030] = 33\n",
    "df_shj_t90.loc[2050] = 44\n",
    "df_shj_t90.interpolate(inplace=True)\n",
    "#sim1.modifyScenario('SHJ', 'mod_reliability_t90', df_shj_t90.loc[2022:,'mod_t90'], start_year=2022) \n",
    "\n",
    "pd.concat([df_shj_eff,df_shj_t50,df_shj_t90,df_shj_deg,df_shj_life], axis=1)"
   ]
  },
  {
   "cell_type": "code",
   "execution_count": null,
   "id": "4a55a2e3",
   "metadata": {
    "scrolled": false
   },
   "outputs": [],
   "source": [
    "idx_temp = pd.RangeIndex(start=2022,stop=2051,step=1) #create the index\n",
    "df_shj_merchanttail = pd.DataFrame(index=idx_temp, columns=['mod_merchanttail'], dtype=float)\n",
    "df_shj_merchanttail.loc[2022] = 0\n",
    "df_shj_merchanttail.loc[2030] = 0\n",
    "df_shj_merchanttail.loc[2050] = 0\n",
    "df_shj_merchanttail.interpolate(inplace=True)\n",
    "#module collection\n",
    "df_shj_modcollect = pd.DataFrame(index=idx_temp, columns=['mod_collect'], dtype=float)\n",
    "df_shj_modcollect.loc[2022] = 15\n",
    "df_shj_modcollect.loc[2030] = 30\n",
    "df_shj_modcollect.loc[2050] = 75\n",
    "df_shj_modcollect.interpolate(inplace=True)\n",
    "#collection\n",
    "#sim1.modifyScenario('SHJ', 'mod_EOL_collection_eff', df_shj_modcollect.loc[2022:,'mod_collect'], start_year=2022) #\n",
    "df_shj_modremfg = pd.DataFrame(index=idx_temp, columns=['mod_remfg'], dtype=float)\n",
    "df_shj_modremfg.loc[2022] = 0\n",
    "df_shj_modremfg.loc[2030] = 0\n",
    "df_shj_modremfg.loc[2050] = 0\n",
    "df_shj_modremfg.interpolate(inplace=True)\n",
    "\n",
    "#module recycling target\n",
    "df_shj_modrecycle = pd.DataFrame(index=idx_temp, columns=['mod_recycle'], dtype=float)\n",
    "df_shj_modrecycle.loc[2022] = 75\n",
    "df_shj_modrecycle.loc[2030] = 80\n",
    "df_shj_modrecycle.loc[2050] = 95\n",
    "df_shj_modrecycle.interpolate(inplace=True)\n",
    "\n",
    "df_modrecycle_alt = 100-df_shj_modremfg\n",
    "\n",
    "pd.concat([df_shj_merchanttail,df_shj_modcollect,df_shj_modremfg,df_shj_modrecycle, df_modrecycle_alt], axis=1)"
   ]
  },
  {
   "cell_type": "code",
   "execution_count": null,
   "id": "c6f5fe45",
   "metadata": {},
   "outputs": [],
   "source": []
  },
  {
   "cell_type": "code",
   "execution_count": null,
   "id": "91400dfb",
   "metadata": {
    "scrolled": false
   },
   "outputs": [],
   "source": [
    "idx_temp = pd.RangeIndex(start=2022,stop=2051,step=1) #create the index\n",
    "columns = ['mat_MFG_scrap_Recycled','mat_MFG_scrap_Recycling_eff','mat_MFG_scrap_Recycled_into_HQ',\n",
    "           'mat_MFG_scrap_Recycled_into_HQ_Reused4MFG','mat_PG3_ReMFG_target','mat_ReMFG_yield',\n",
    "           'mat_PG4_Recycling_target','mat_Recycling_yield','mat_EOL_Recycled_into_HQ','mat_EOL_RecycledHQ_Reused4MFG']\n",
    "glassimprovedrecycle = pd.DataFrame(index=idx_temp, columns=columns, dtype=float)\n",
    "\n",
    "#MFGing Scrap\n",
    "glassimprovedrecycle['mat_MFG_scrap_Recycled'].loc[2022] = 80\n",
    "glassimprovedrecycle['mat_MFG_scrap_Recycled'].loc[2030] = 100\n",
    "glassimprovedrecycle['mat_MFG_scrap_Recycled'].loc[2050] = 100\n",
    "\n",
    "glassimprovedrecycle['mat_MFG_scrap_Recycling_eff'].loc[2022] = 50\n",
    "glassimprovedrecycle['mat_MFG_scrap_Recycling_eff'].loc[2030] = 80\n",
    "glassimprovedrecycle['mat_MFG_scrap_Recycling_eff'].loc[2050] = 90\n",
    "\n",
    "glassimprovedrecycle['mat_MFG_scrap_Recycled_into_HQ'].loc[2022] = 0\n",
    "glassimprovedrecycle['mat_MFG_scrap_Recycled_into_HQ'].loc[2030] = 30\n",
    "glassimprovedrecycle['mat_MFG_scrap_Recycled_into_HQ'].loc[2050] = 75\n",
    "\n",
    "glassimprovedrecycle['mat_MFG_scrap_Recycled_into_HQ_Reused4MFG'].loc[2022] = 0\n",
    "glassimprovedrecycle['mat_MFG_scrap_Recycled_into_HQ_Reused4MFG'].loc[2030] = 100\n",
    "glassimprovedrecycle['mat_MFG_scrap_Recycled_into_HQ_Reused4MFG'].loc[2050] = 100\n",
    "\n",
    "#REMFG\n",
    "\n",
    "glassimprovedrecycle['mat_PG3_ReMFG_target'].loc[2022] = 0\n",
    "glassimprovedrecycle['mat_PG3_ReMFG_target'].loc[2030] = 50\n",
    "glassimprovedrecycle['mat_PG3_ReMFG_target'].loc[2050] = 100\n",
    "\n",
    "\n",
    "glassimprovedrecycle['mat_ReMFG_yield'].loc[2022] = 60\n",
    "glassimprovedrecycle['mat_ReMFG_yield'].loc[2030] = 80\n",
    "glassimprovedrecycle['mat_ReMFG_yield'].loc[2050] = 98\n",
    "\n",
    "#EoL Recycling\n",
    "#glassimprovedrecycle['mat_PG4_Recycling_target'].loc[2022] = 90\n",
    "#glassimprovedrecycle['mat_PG4_Recycling_target'].loc[2030] = 100\n",
    "#glassimprovedrecycle['mat_PG4_Recycling_target'].loc[2050] = 100\n",
    "glassimprovedrecycle['mat_PG4_Recycling_target'] = 100-glassimprovedrecycle['mat_PG3_ReMFG_target']\n",
    "\n",
    "glassimprovedrecycle['mat_Recycling_yield'].loc[2022] = 40\n",
    "glassimprovedrecycle['mat_Recycling_yield'].loc[2030] = 60\n",
    "glassimprovedrecycle['mat_Recycling_yield'].loc[2050] = 90\n",
    "\n",
    "glassimprovedrecycle['mat_EOL_Recycled_into_HQ'].loc[2022] = 0\n",
    "glassimprovedrecycle['mat_EOL_Recycled_into_HQ'].loc[2030] = 30\n",
    "glassimprovedrecycle['mat_EOL_Recycled_into_HQ'].loc[2050] = 75\n",
    "\n",
    "glassimprovedrecycle['mat_EOL_RecycledHQ_Reused4MFG'].loc[2022] = 100\n",
    "glassimprovedrecycle['mat_EOL_RecycledHQ_Reused4MFG'].loc[2030] = 100\n",
    "glassimprovedrecycle['mat_EOL_RecycledHQ_Reused4MFG'].loc[2050] = 100\n",
    "\n",
    "\n",
    "glassimprovedrecycle.interpolate()"
   ]
  },
  {
   "cell_type": "code",
   "execution_count": null,
   "id": "45abe50d",
   "metadata": {},
   "outputs": [],
   "source": [
    "idx_temp = pd.RangeIndex(start=2022,stop=2051,step=1) #create the index\n",
    "columns = ['mat_MFG_scrap_Recycled','mat_MFG_scrap_Recycling_eff','mat_MFG_scrap_Recycled_into_HQ',\n",
    "           'mat_MFG_scrap_Recycled_into_HQ_Reused4MFG','mat_PG3_ReMFG_target','mat_ReMFG_yield',\n",
    "           'mat_PG4_Recycling_target','mat_Recycling_yield','mat_EOL_Recycled_into_HQ','mat_EOL_RecycledHQ_Reused4MFG']\n",
    "Siimprovedrecycle = pd.DataFrame(index=idx_temp, columns=columns, dtype=float)\n",
    "\n",
    "#MFGing Scrap\n",
    "Siimprovedrecycle['mat_MFG_scrap_Recycled'].loc[2022] = 100\n",
    "Siimprovedrecycle['mat_MFG_scrap_Recycled'].loc[2030] = 100\n",
    "Siimprovedrecycle['mat_MFG_scrap_Recycled'].loc[2050] = 100\n",
    "\n",
    "Siimprovedrecycle['mat_MFG_scrap_Recycling_eff'].loc[2022] = 20\n",
    "Siimprovedrecycle['mat_MFG_scrap_Recycling_eff'].loc[2030] = 30\n",
    "Siimprovedrecycle['mat_MFG_scrap_Recycling_eff'].loc[2050] = 60\n",
    "\n",
    "Siimprovedrecycle['mat_MFG_scrap_Recycled_into_HQ'].loc[2022] = 0\n",
    "Siimprovedrecycle['mat_MFG_scrap_Recycled_into_HQ'].loc[2030] = 50\n",
    "Siimprovedrecycle['mat_MFG_scrap_Recycled_into_HQ'].loc[2050] = 100\n",
    "\n",
    "Siimprovedrecycle['mat_MFG_scrap_Recycled_into_HQ_Reused4MFG'].loc[2022] = 100\n",
    "Siimprovedrecycle['mat_MFG_scrap_Recycled_into_HQ_Reused4MFG'].loc[2030] = 100\n",
    "Siimprovedrecycle['mat_MFG_scrap_Recycled_into_HQ_Reused4MFG'].loc[2050] = 100\n",
    "\n",
    "#REMFG\n",
    "\n",
    "Siimprovedrecycle['mat_PG3_ReMFG_target'].loc[2022] = 0\n",
    "Siimprovedrecycle['mat_PG3_ReMFG_target'].loc[2030] = 30\n",
    "Siimprovedrecycle['mat_PG3_ReMFG_target'].loc[2050] = 80\n",
    "\n",
    "Siimprovedrecycle['mat_ReMFG_yield'].loc[2022] = 0\n",
    "Siimprovedrecycle['mat_ReMFG_yield'].loc[2030] = 50\n",
    "Siimprovedrecycle['mat_ReMFG_yield'].loc[2050] = 90\n",
    "\n",
    "#EoL Recycling\n",
    "Siimprovedrecycle['mat_PG4_Recycling_target'].loc[2022] = 100\n",
    "Siimprovedrecycle['mat_PG4_Recycling_target'].loc[2030] = 50\n",
    "Siimprovedrecycle['mat_PG4_Recycling_target'].loc[2050] = 10\n",
    "\n",
    "Siimprovedrecycle['mat_Recycling_yield'].loc[2022] = 20\n",
    "Siimprovedrecycle['mat_Recycling_yield'].loc[2030] = 30\n",
    "Siimprovedrecycle['mat_Recycling_yield'].loc[2050] = 75\n",
    "\n",
    "Siimprovedrecycle['mat_EOL_Recycled_into_HQ'].loc[2022] = 0\n",
    "Siimprovedrecycle['mat_EOL_Recycled_into_HQ'].loc[2030] = 50\n",
    "Siimprovedrecycle['mat_EOL_Recycled_into_HQ'].loc[2050] = 90\n",
    "\n",
    "Siimprovedrecycle['mat_EOL_RecycledHQ_Reused4MFG'].loc[2022] = 0\n",
    "Siimprovedrecycle['mat_EOL_RecycledHQ_Reused4MFG'].loc[2030] = 100\n",
    "Siimprovedrecycle['mat_EOL_RecycledHQ_Reused4MFG'].loc[2050] = 100\n",
    "\n",
    "\n",
    "Siimprovedrecycle.interpolate()"
   ]
  },
  {
   "cell_type": "code",
   "execution_count": null,
   "id": "ec93f0b1",
   "metadata": {},
   "outputs": [],
   "source": [
    "idx_temp = pd.RangeIndex(start=2022,stop=2051,step=1) #create the index\n",
    "columns = ['mat_MFG_scrap_Recycled','mat_MFG_scrap_Recycling_eff','mat_MFG_scrap_Recycled_into_HQ',\n",
    "           'mat_MFG_scrap_Recycled_into_HQ_Reused4MFG','mat_PG3_ReMFG_target','mat_ReMFG_yield',\n",
    "           'mat_PG4_Recycling_target','mat_Recycling_yield','mat_EOL_Recycled_into_HQ','mat_EOL_RecycledHQ_Reused4MFG']\n",
    "Alimprovedrecycle = pd.DataFrame(index=idx_temp, columns=columns, dtype=float)\n",
    "\n",
    "#MFGing Scrap\n",
    "Alimprovedrecycle['mat_MFG_scrap_Recycled'].loc[2022] = 100\n",
    "Alimprovedrecycle['mat_MFG_scrap_Recycled'].loc[2030] = 100\n",
    "Alimprovedrecycle['mat_MFG_scrap_Recycled'].loc[2050] = 100\n",
    "\n",
    "Alimprovedrecycle['mat_MFG_scrap_Recycling_eff'].loc[2022] = 60\n",
    "Alimprovedrecycle['mat_MFG_scrap_Recycling_eff'].loc[2030] = 70\n",
    "Alimprovedrecycle['mat_MFG_scrap_Recycling_eff'].loc[2050] = 90\n",
    "\n",
    "Alimprovedrecycle['mat_MFG_scrap_Recycled_into_HQ'].loc[2022] = 100\n",
    "Alimprovedrecycle['mat_MFG_scrap_Recycled_into_HQ'].loc[2030] = 100\n",
    "Alimprovedrecycle['mat_MFG_scrap_Recycled_into_HQ'].loc[2050] = 100\n",
    "\n",
    "Alimprovedrecycle['mat_MFG_scrap_Recycled_into_HQ_Reused4MFG'].loc[2022] = 100\n",
    "Alimprovedrecycle['mat_MFG_scrap_Recycled_into_HQ_Reused4MFG'].loc[2030] = 100\n",
    "Alimprovedrecycle['mat_MFG_scrap_Recycled_into_HQ_Reused4MFG'].loc[2050] = 100\n",
    "\n",
    "#REMFG\n",
    "\n",
    "Alimprovedrecycle['mat_PG3_ReMFG_target'].loc[2022] = 0\n",
    "Alimprovedrecycle['mat_PG3_ReMFG_target'].loc[2030] = 0\n",
    "Alimprovedrecycle['mat_PG3_ReMFG_target'].loc[2050] = 0\n",
    "\n",
    "Alimprovedrecycle['mat_ReMFG_yield'].loc[2022] = 0\n",
    "Alimprovedrecycle['mat_ReMFG_yield'].loc[2030] = 0\n",
    "Alimprovedrecycle['mat_ReMFG_yield'].loc[2050] = 0\n",
    "\n",
    "#EoL Recycling\n",
    "Alimprovedrecycle['mat_PG4_Recycling_target'].loc[2022] = 100\n",
    "Alimprovedrecycle['mat_PG4_Recycling_target'].loc[2030] = 100\n",
    "Alimprovedrecycle['mat_PG4_Recycling_target'].loc[2050] = 100\n",
    "\n",
    "Alimprovedrecycle['mat_Recycling_yield'].loc[2022] = 42\n",
    "Alimprovedrecycle['mat_Recycling_yield'].loc[2030] = 75\n",
    "Alimprovedrecycle['mat_Recycling_yield'].loc[2050] = 98\n",
    "\n",
    "Alimprovedrecycle['mat_EOL_Recycled_into_HQ'].loc[2022] = 100\n",
    "Alimprovedrecycle['mat_EOL_Recycled_into_HQ'].loc[2030] = 100\n",
    "Alimprovedrecycle['mat_EOL_Recycled_into_HQ'].loc[2050] = 100\n",
    "\n",
    "Alimprovedrecycle['mat_EOL_RecycledHQ_Reused4MFG'].loc[2022] = 20\n",
    "Alimprovedrecycle['mat_EOL_RecycledHQ_Reused4MFG'].loc[2030] = 50\n",
    "Alimprovedrecycle['mat_EOL_RecycledHQ_Reused4MFG'].loc[2050] = 100\n",
    "\n",
    "\n",
    "Alimprovedrecycle.interpolate()"
   ]
  },
  {
   "cell_type": "code",
   "execution_count": null,
   "id": "60cff785",
   "metadata": {},
   "outputs": [],
   "source": [
    "idx_temp = pd.RangeIndex(start=2022,stop=2051,step=1) #create the index\n",
    "columns = ['mat_MFG_scrap_Recycled','mat_MFG_scrap_Recycling_eff','mat_MFG_scrap_Recycled_into_HQ',\n",
    "           'mat_MFG_scrap_Recycled_into_HQ_Reused4MFG','mat_PG3_ReMFG_target','mat_ReMFG_yield',\n",
    "           'mat_PG4_Recycling_target','mat_Recycling_yield','mat_EOL_Recycled_into_HQ','mat_EOL_RecycledHQ_Reused4MFG']\n",
    "Agimprovedrecycle = pd.DataFrame(index=idx_temp, columns=columns, dtype=float)\n",
    "\n",
    "#MFGing Scrap\n",
    "Agimprovedrecycle['mat_MFG_scrap_Recycled'].loc[2022] = 95\n",
    "Agimprovedrecycle['mat_MFG_scrap_Recycled'].loc[2030] = 100\n",
    "Agimprovedrecycle['mat_MFG_scrap_Recycled'].loc[2050] = 100\n",
    "\n",
    "Agimprovedrecycle['mat_MFG_scrap_Recycling_eff'].loc[2022] = 97\n",
    "Agimprovedrecycle['mat_MFG_scrap_Recycling_eff'].loc[2030] = 98\n",
    "Agimprovedrecycle['mat_MFG_scrap_Recycling_eff'].loc[2050] = 99\n",
    "\n",
    "Agimprovedrecycle['mat_MFG_scrap_Recycled_into_HQ'].loc[2022] = 100\n",
    "Agimprovedrecycle['mat_MFG_scrap_Recycled_into_HQ'].loc[2030] = 100\n",
    "Agimprovedrecycle['mat_MFG_scrap_Recycled_into_HQ'].loc[2050] = 100\n",
    "\n",
    "Agimprovedrecycle['mat_MFG_scrap_Recycled_into_HQ_Reused4MFG'].loc[2022] = 16.61\n",
    "Agimprovedrecycle['mat_MFG_scrap_Recycled_into_HQ_Reused4MFG'].loc[2030] = 30\n",
    "Agimprovedrecycle['mat_MFG_scrap_Recycled_into_HQ_Reused4MFG'].loc[2050] = 75\n",
    "\n",
    "#REMFG\n",
    "\n",
    "Agimprovedrecycle['mat_PG3_ReMFG_target'].loc[2022] = 0\n",
    "Agimprovedrecycle['mat_PG3_ReMFG_target'].loc[2030] = 0\n",
    "Agimprovedrecycle['mat_PG3_ReMFG_target'].loc[2050] = 0\n",
    "\n",
    "Agimprovedrecycle['mat_ReMFG_yield'].loc[2022] = 0\n",
    "Agimprovedrecycle['mat_ReMFG_yield'].loc[2030] = 0\n",
    "Agimprovedrecycle['mat_ReMFG_yield'].loc[2050] = 0\n",
    "\n",
    "#EoL Recycling\n",
    "Agimprovedrecycle['mat_PG4_Recycling_target'].loc[2022] = 0\n",
    "Agimprovedrecycle['mat_PG4_Recycling_target'].loc[2030] = 100\n",
    "Agimprovedrecycle['mat_PG4_Recycling_target'].loc[2050] = 100\n",
    "\n",
    "Agimprovedrecycle['mat_Recycling_yield'].loc[2022] = 97\n",
    "Agimprovedrecycle['mat_Recycling_yield'].loc[2030] = 98\n",
    "Agimprovedrecycle['mat_Recycling_yield'].loc[2050] = 99\n",
    "\n",
    "Agimprovedrecycle['mat_EOL_Recycled_into_HQ'].loc[2022] = 80\n",
    "Agimprovedrecycle['mat_EOL_Recycled_into_HQ'].loc[2030] = 100\n",
    "Agimprovedrecycle['mat_EOL_Recycled_into_HQ'].loc[2050] = 100\n",
    "\n",
    "Agimprovedrecycle['mat_EOL_RecycledHQ_Reused4MFG'].loc[2022] = 16.61\n",
    "Agimprovedrecycle['mat_EOL_RecycledHQ_Reused4MFG'].loc[2030] = 30\n",
    "Agimprovedrecycle['mat_EOL_RecycledHQ_Reused4MFG'].loc[2050] = 75\n",
    "\n",
    "\n",
    "Agimprovedrecycle.interpolate()"
   ]
  },
  {
   "cell_type": "code",
   "execution_count": 2,
   "id": "0f828010",
   "metadata": {},
   "outputs": [],
   "source": [
    "import PV_ICE"
   ]
  },
  {
   "cell_type": "code",
   "execution_count": null,
   "id": "0e857deb",
   "metadata": {
    "scrolled": false
   },
   "outputs": [],
   "source": [
    "cdf = PV_ICE.weibull_cdf(12.596192434998898, 41.18098)\n",
    "\n",
    "year = range(0,50,1)\n",
    "cdfs = pd.DataFrame(index=year, columns=['cdf'], dtype=float)\n",
    "for yr in year:\n",
    "    cdfs.loc[yr] = cdf(yr)\n",
    "    \n",
    "#round(cdfs,2)\n",
    "plt.plot(cdfs)\n"
   ]
  },
  {
   "cell_type": "code",
   "execution_count": null,
   "id": "fe178017",
   "metadata": {
    "scrolled": true
   },
   "outputs": [],
   "source": [
    "alpha = 12.596192434998898\n",
    "beta = 41.18098"
   ]
  },
  {
   "cell_type": "code",
   "execution_count": null,
   "id": "c96787cd",
   "metadata": {},
   "outputs": [],
   "source": [
    "cdf = PV_ICE.weibull_cdf(12.596192434998898, 41.18098)\n",
    "\n",
    "year = range(0,50,1)\n",
    "cdfs = pd.DataFrame(index=year, columns=['cdf'], dtype=float)\n",
    "for yr in year:\n",
    "    cdfs.loc[yr] = cdf(yr)"
   ]
  },
  {
   "cell_type": "code",
   "execution_count": null,
   "id": "c1dee33d",
   "metadata": {},
   "outputs": [],
   "source": [
    "def alphabeta2T50T90(alpha,beta):\n",
    "    T10 = round(-beta*-np.abs(np.log(0.9))**(1/alpha),2)\n",
    "    T50 = round(-beta*-np.abs(np.log(0.5))**(1/alpha),2)\n",
    "    T90 = round(-beta*-np.abs(np.log(0.1))**(1/alpha),2)\n",
    "    return T10,T50,T90\n",
    "\n"
   ]
  },
  {
   "cell_type": "code",
   "execution_count": null,
   "id": "7e0c5918",
   "metadata": {},
   "outputs": [],
   "source": [
    "alphabeta2T50T90(alpha,beta)"
   ]
  },
  {
   "cell_type": "code",
   "execution_count": null,
   "id": "ed082b6c",
   "metadata": {},
   "outputs": [],
   "source": [
    "alpha = pd.Series([x / 10.0 for x in range(1, 500,1)])\n",
    "beta = pd.Series([x / 10.0 for x in range(1, 1000,1)])"
   ]
  },
  {
   "cell_type": "code",
   "execution_count": null,
   "id": "8958a0bf",
   "metadata": {},
   "outputs": [],
   "source": [
    "ts = pd.DataFrame(columns=['alpha','beta','T10','T50','T90'], dtype=float)\n",
    "for a in alpha:\n",
    "    for b in beta:\n",
    "        tstemp = pd.DataFrame(columns=['alpha','beta','T10','T50','T90'], dtype=float)\n",
    "        tstemp['alpha'] = a\n",
    "        tstemp['beta'] = b\n",
    "        tstemp['T10'],tstemp['T50'],tstemp['T90'] = alphabeta2T50T90(a,b)\n",
    "        ts = pd.concat([ts,tstemp])"
   ]
  },
  {
   "cell_type": "code",
   "execution_count": null,
   "id": "e85b7e07",
   "metadata": {
    "scrolled": true
   },
   "outputs": [],
   "source": [
    "tstemp"
   ]
  },
  {
   "cell_type": "code",
   "execution_count": 3,
   "id": "0081982c",
   "metadata": {},
   "outputs": [],
   "source": [
    "def alphabeta2T10(alpha,beta):\n",
    "    T10 = round(-beta*-np.abs(np.log(0.9))**(1/alpha),2)\n",
    "    return T10"
   ]
  },
  {
   "cell_type": "code",
   "execution_count": 8,
   "id": "e3f10d81",
   "metadata": {},
   "outputs": [
    {
     "data": {
      "text/plain": [
       "{'alpha': 1.7320208456446204, 'beta': 12.356658738626832}"
      ]
     },
     "execution_count": 8,
     "metadata": {},
     "output_type": "execute_result"
    }
   ],
   "source": [
    "PV_ICE.weibull_params({10:0.5,20:0.9})"
   ]
  },
  {
   "cell_type": "code",
   "execution_count": 14,
   "id": "7465d936",
   "metadata": {},
   "outputs": [
    {
     "data": {
      "text/plain": [
       "11"
      ]
     },
     "execution_count": 14,
     "metadata": {},
     "output_type": "execute_result"
    }
   ],
   "source": [
    "t5"
   ]
  },
  {
   "cell_type": "code",
   "execution_count": 13,
   "id": "0e1dcfc2",
   "metadata": {},
   "outputs": [
    {
     "ename": "ValueError",
     "evalue": "not enough values to unpack (expected 2, got 1)",
     "output_type": "error",
     "traceback": [
      "\u001b[1;31m---------------------------------------------------------------------------\u001b[0m",
      "\u001b[1;31mValueError\u001b[0m                                Traceback (most recent call last)",
      "Input \u001b[1;32mIn [13]\u001b[0m, in \u001b[0;36m<cell line: 4>\u001b[1;34m()\u001b[0m\n\u001b[0;32m      4\u001b[0m \u001b[38;5;28;01mfor\u001b[39;00m t5 \u001b[38;5;129;01min\u001b[39;00m T50:\n\u001b[0;32m      5\u001b[0m     \u001b[38;5;28;01mfor\u001b[39;00m t9 \u001b[38;5;129;01min\u001b[39;00m T90:\n\u001b[1;32m----> 6\u001b[0m         params \u001b[38;5;241m=\u001b[39m \u001b[43mPV_ICE\u001b[49m\u001b[38;5;241;43m.\u001b[39;49m\u001b[43mweibull_params\u001b[49m\u001b[43m(\u001b[49m\u001b[43m{\u001b[49m\u001b[43mt5\u001b[49m\u001b[43m:\u001b[49m\u001b[38;5;241;43m0.5\u001b[39;49m\u001b[43m,\u001b[49m\u001b[43mt9\u001b[49m\u001b[43m:\u001b[49m\u001b[38;5;241;43m0.9\u001b[39;49m\u001b[43m}\u001b[49m\u001b[43m)\u001b[49m\n\u001b[0;32m      7\u001b[0m         T10 \u001b[38;5;241m=\u001b[39m alphabeta2T10(params[\u001b[38;5;124m'\u001b[39m\u001b[38;5;124malpha\u001b[39m\u001b[38;5;124m'\u001b[39m],params[\u001b[38;5;124m'\u001b[39m\u001b[38;5;124mbeta\u001b[39m\u001b[38;5;124m'\u001b[39m])\n\u001b[0;32m      8\u001b[0m         tstemp2 \u001b[38;5;241m=\u001b[39m pd\u001b[38;5;241m.\u001b[39mDataFrame(columns\u001b[38;5;241m=\u001b[39m[\u001b[38;5;124m'\u001b[39m\u001b[38;5;124malpha\u001b[39m\u001b[38;5;124m'\u001b[39m,\u001b[38;5;124m'\u001b[39m\u001b[38;5;124mbeta\u001b[39m\u001b[38;5;124m'\u001b[39m,\u001b[38;5;124m'\u001b[39m\u001b[38;5;124mT10\u001b[39m\u001b[38;5;124m'\u001b[39m,\u001b[38;5;124m'\u001b[39m\u001b[38;5;124mT50\u001b[39m\u001b[38;5;124m'\u001b[39m,\u001b[38;5;124m'\u001b[39m\u001b[38;5;124mT90\u001b[39m\u001b[38;5;124m'\u001b[39m], dtype\u001b[38;5;241m=\u001b[39m\u001b[38;5;28mfloat\u001b[39m)\n",
      "File \u001b[1;32m~\\Documents\\GitHub\\PV_ICE\\PV_ICE\\main.py:2465\u001b[0m, in \u001b[0;36mweibull_params\u001b[1;34m(keypoints)\u001b[0m\n\u001b[0;32m   2441\u001b[0m \u001b[38;5;28;01mdef\u001b[39;00m \u001b[38;5;21mweibull_params\u001b[39m(keypoints):\n\u001b[0;32m   2442\u001b[0m     \u001b[38;5;124mr\u001b[39m\u001b[38;5;124;03m'''Returns shape parameter `alpha` and scale parameter `beta`\u001b[39;00m\n\u001b[0;32m   2443\u001b[0m \u001b[38;5;124;03m    for a Weibull distribution whose CDF passes through the\u001b[39;00m\n\u001b[0;32m   2444\u001b[0m \u001b[38;5;124;03m    two time: value pairs in `keypoints`\u001b[39;00m\n\u001b[1;32m   (...)\u001b[0m\n\u001b[0;32m   2462\u001b[0m \n\u001b[0;32m   2463\u001b[0m \u001b[38;5;124;03m    '''\u001b[39;00m\n\u001b[1;32m-> 2465\u001b[0m     t1, t2 \u001b[38;5;241m=\u001b[39m \u001b[38;5;28mtuple\u001b[39m(keypoints\u001b[38;5;241m.\u001b[39mkeys())\n\u001b[0;32m   2466\u001b[0m     cdf1, cdf2 \u001b[38;5;241m=\u001b[39m \u001b[38;5;28mtuple\u001b[39m(keypoints\u001b[38;5;241m.\u001b[39mvalues())\n\u001b[0;32m   2467\u001b[0m     alpha \u001b[38;5;241m=\u001b[39m np\u001b[38;5;241m.\u001b[39mndarray\u001b[38;5;241m.\u001b[39mitem(np\u001b[38;5;241m.\u001b[39mreal_if_close(\n\u001b[0;32m   2468\u001b[0m         (np\u001b[38;5;241m.\u001b[39mlog(np\u001b[38;5;241m.\u001b[39mlog(\u001b[38;5;241m1\u001b[39m \u001b[38;5;241m-\u001b[39m cdf1)\u001b[38;5;241m+\u001b[39m\u001b[38;5;241m0\u001b[39mj) \u001b[38;5;241m-\u001b[39m np\u001b[38;5;241m.\u001b[39mlog(np\u001b[38;5;241m.\u001b[39mlog(\u001b[38;5;241m1\u001b[39m \u001b[38;5;241m-\u001b[39m cdf2)\u001b[38;5;241m+\u001b[39m\u001b[38;5;241m0\u001b[39mj))\u001b[38;5;241m/\u001b[39m(np\u001b[38;5;241m.\u001b[39mlog(t1) \u001b[38;5;241m-\u001b[39m np\u001b[38;5;241m.\u001b[39mlog(t2))\n\u001b[0;32m   2469\u001b[0m     ))\n",
      "\u001b[1;31mValueError\u001b[0m: not enough values to unpack (expected 2, got 1)"
     ]
    }
   ],
   "source": [
    "T50 = pd.Series(range(10,20,1))\n",
    "T90 = pd.Series(range(11,21,1))\n",
    "ts2 = pd.DataFrame(columns=['alpha','beta','T10','T50','T90'], dtype=float)\n",
    "for t5 in T50:\n",
    "    for t9 in T90:\n",
    "        params = PV_ICE.weibull_params({t5:0.5,t9:0.9})\n",
    "        T10 = alphabeta2T10(params['alpha'],params['beta'])\n",
    "        tstemp2 = pd.DataFrame(columns=['alpha','beta','T10','T50','T90'], dtype=float)\n",
    "        tstemp2['alpha'] = params['alpha']\n",
    "        tstemp2['beta'] = params['beta']\n",
    "        tstemp2['T50'] = t5\n",
    "        tstemp2['T90'] = t9\n",
    "        tstemp2['T10'] = T10\n",
    "        ts2 = pd.concat([ts2,tstemp2])"
   ]
  },
  {
   "cell_type": "code",
   "execution_count": 20,
   "id": "f1c6f17d",
   "metadata": {},
   "outputs": [
    {
     "data": {
      "text/html": [
       "<div>\n",
       "<style scoped>\n",
       "    .dataframe tbody tr th:only-of-type {\n",
       "        vertical-align: middle;\n",
       "    }\n",
       "\n",
       "    .dataframe tbody tr th {\n",
       "        vertical-align: top;\n",
       "    }\n",
       "\n",
       "    .dataframe thead th {\n",
       "        text-align: right;\n",
       "    }\n",
       "</style>\n",
       "<table border=\"1\" class=\"dataframe\">\n",
       "  <thead>\n",
       "    <tr style=\"text-align: right;\">\n",
       "      <th></th>\n",
       "      <th>alpha</th>\n",
       "      <th>beta</th>\n",
       "      <th>T10</th>\n",
       "      <th>T50</th>\n",
       "      <th>T90</th>\n",
       "    </tr>\n",
       "  </thead>\n",
       "  <tbody>\n",
       "  </tbody>\n",
       "</table>\n",
       "</div>"
      ],
      "text/plain": [
       "Empty DataFrame\n",
       "Columns: [alpha, beta, T10, T50, T90]\n",
       "Index: []"
      ]
     },
     "execution_count": 20,
     "metadata": {},
     "output_type": "execute_result"
    }
   ],
   "source": [
    "ts2"
   ]
  },
  {
   "cell_type": "code",
   "execution_count": 16,
   "id": "dd8b4e0c",
   "metadata": {},
   "outputs": [
    {
     "ename": "TypeError",
     "evalue": "unhashable type: 'Series'",
     "output_type": "error",
     "traceback": [
      "\u001b[1;31m---------------------------------------------------------------------------\u001b[0m",
      "\u001b[1;31mTypeError\u001b[0m                                 Traceback (most recent call last)",
      "Input \u001b[1;32mIn [16]\u001b[0m, in \u001b[0;36m<cell line: 1>\u001b[1;34m()\u001b[0m\n\u001b[1;32m----> 1\u001b[0m params \u001b[38;5;241m=\u001b[39m PV_ICE\u001b[38;5;241m.\u001b[39mweibull_params({T50:\u001b[38;5;241m0.5\u001b[39m,T90:\u001b[38;5;241m0.9\u001b[39m})\n\u001b[0;32m      2\u001b[0m T10 \u001b[38;5;241m=\u001b[39m alphabeta2T10(params[\u001b[38;5;124m'\u001b[39m\u001b[38;5;124malpha\u001b[39m\u001b[38;5;124m'\u001b[39m],params[\u001b[38;5;124m'\u001b[39m\u001b[38;5;124mbeta\u001b[39m\u001b[38;5;124m'\u001b[39m])\n\u001b[0;32m      3\u001b[0m tstemp2 \u001b[38;5;241m=\u001b[39m pd\u001b[38;5;241m.\u001b[39mDataFrame(columns\u001b[38;5;241m=\u001b[39m[\u001b[38;5;124m'\u001b[39m\u001b[38;5;124malpha\u001b[39m\u001b[38;5;124m'\u001b[39m,\u001b[38;5;124m'\u001b[39m\u001b[38;5;124mbeta\u001b[39m\u001b[38;5;124m'\u001b[39m,\u001b[38;5;124m'\u001b[39m\u001b[38;5;124mT10\u001b[39m\u001b[38;5;124m'\u001b[39m,\u001b[38;5;124m'\u001b[39m\u001b[38;5;124mT50\u001b[39m\u001b[38;5;124m'\u001b[39m,\u001b[38;5;124m'\u001b[39m\u001b[38;5;124mT90\u001b[39m\u001b[38;5;124m'\u001b[39m], dtype\u001b[38;5;241m=\u001b[39m\u001b[38;5;28mfloat\u001b[39m)\n",
      "\u001b[1;31mTypeError\u001b[0m: unhashable type: 'Series'"
     ]
    }
   ],
   "source": [
    "params = PV_ICE.weibull_params({T50:0.5,T90:0.9})\n",
    "T10 = alphabeta2T10(params['alpha'],params['beta'])\n",
    "tstemp2 = pd.DataFrame(columns=['alpha','beta','T10','T50','T90'], dtype=float)\n",
    "tstemp2['alpha'] = params['alpha']\n",
    "tstemp2['beta'] = params['beta']\n",
    "tstemp2['T50'] = t5\n",
    "tstemp2['T90'] = t9\n",
    "tstemp2['T10'] = T10\n",
    "ts2 = pd.concat([ts2,tstemp2])"
   ]
  },
  {
   "cell_type": "code",
   "execution_count": null,
   "id": "92a45af5",
   "metadata": {},
   "outputs": [],
   "source": [
    "alphabeta2T10(1,5)"
   ]
  },
  {
   "cell_type": "code",
   "execution_count": null,
   "id": "eee163d2",
   "metadata": {},
   "outputs": [],
   "source": [
    "params = PV_ICE.weibull_params({t5:0.5,t9:0.9})\n",
    "params['beta']"
   ]
  }
 ],
 "metadata": {
  "kernelspec": {
   "display_name": "Python 3 (ipykernel)",
   "language": "python",
   "name": "python3"
  },
  "language_info": {
   "codemirror_mode": {
    "name": "ipython",
    "version": 3
   },
   "file_extension": ".py",
   "mimetype": "text/x-python",
   "name": "python",
   "nbconvert_exporter": "python",
   "pygments_lexer": "ipython3",
   "version": "3.8.8"
  }
 },
 "nbformat": 4,
 "nbformat_minor": 5
}
