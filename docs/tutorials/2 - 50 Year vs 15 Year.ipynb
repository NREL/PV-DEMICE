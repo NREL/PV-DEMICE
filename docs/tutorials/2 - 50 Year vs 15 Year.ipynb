{
 "cells": [
  {
   "cell_type": "markdown",
   "metadata": {
    "tags": []
   },
   "source": [
    "# 2 - 15 vs 50 Year Module\n",
    "\n",
    "Comparison of a 15-year module lifetime vs 50-year module lifetime from a material circularity standpoint. \n",
    "\n",
    "\n",
    "\n",
    "\n",
    "\n",
    "![Folder 15 vs 50 year Module](../images_wiki/2_15vs50Overview.PNG)\n",
    "\n",
    "This scenario is a though experiment comparing a 15-year 95% recyclable module versus a 50-year module 30% recyclable module.\n",
    "This is done to understand potential tradeoffs in PV technology evolution - is it better to create\n",
    "a completely recyclable PV panel, or to extend the module lifetime.\n",
    "This scenario assumes that the 15-year module is 95% recyclable into high quality material, i.e. it will be used to create new modules.\n",
    "\n",
    "95% recyclability is represented by a 100% collection rate and a 95% efficient recycling process.\n",
    "\n",
    "The 50-year module uses the previous settings.\n",
    "\n",
    "Plot the annual waste glass sent to the landfill for this scenario. \n",
    "Here, because the 15-module is 100% collected and only 5% is landfilled during the recycling process\n",
    "the landfilled glass is very low regardless of capacity assumptions.\n",
    "Thus, if the intent is to avoid landfilled material, a 95% recyclable module is the best technology evolution.\n"
   ]
  },
  {
   "cell_type": "code",
   "execution_count": null,
   "metadata": {},
   "outputs": [],
   "source": [
    "import os\n",
    "from pathlib import Path\n",
    "\n",
    "testfolder = str(Path().resolve().parent.parent / 'PV_ICE' / 'TEMP' / 'Tutorial2')\n",
    "\n",
    "if not os.path.exists(testfolder):\n",
    "    os.makedirs(testfolder)"
   ]
  },
  {
   "cell_type": "code",
   "execution_count": null,
   "metadata": {},
   "outputs": [],
   "source": [
    "import PV_ICE"
   ]
  },
  {
   "cell_type": "code",
   "execution_count": null,
   "metadata": {},
   "outputs": [],
   "source": [
    "import matplotlib.pyplot as plt\n",
    "import pandas as pd\n",
    "\n",
    "plt.rcParams.update({'font.size': 14})\n",
    "plt.rcParams['figure.figsize'] = (12, 5)"
   ]
  },
  {
   "cell_type": "code",
   "execution_count": null,
   "metadata": {},
   "outputs": [],
   "source": [
    "r1 = PV_ICE.Simulation(name='Simulation1', path=testfolder)\n",
    "r1.createScenario(name='50_Year_Module', massmodulefile='baseline_modules_mass_US.csv')\n",
    "r1.scenario['50_Year_Module'].addMaterials(['glass', 'silicon', 'silver', 'copper', 'aluminium_frames', 'encapsulant'])\n",
    "\n",
    "r1.createScenario(name='15_Year_Module', massmodulefile='baseline_modules_mass_US.csv')\n",
    "r1.scenario['15_Year_Module'].addMaterials(['glass', 'silicon', 'silver', 'copper', 'aluminium_frames', 'encapsulant'])\n",
    "\n",
    "r1.createScenario(name='base', massmodulefile='baseline_modules_mass_US.csv')\n",
    "r1.scenario['base'].addMaterials(['glass', 'silicon', 'silver', 'copper', 'aluminium_frames', 'encapsulant'])\n"
   ]
  },
  {
   "cell_type": "code",
   "execution_count": null,
   "metadata": {},
   "outputs": [],
   "source": [
    "r1.scenario['50_Year_Module'].dataIn_m.keys()"
   ]
  },
  {
   "cell_type": "markdown",
   "metadata": {},
   "source": [
    "## Change Reliability Values"
   ]
  },
  {
   "cell_type": "code",
   "execution_count": null,
   "metadata": {},
   "outputs": [],
   "source": [
    "r1.scenario['50_Year_Module'].dataIn_m['mod_reliability_t50'] = 60\n",
    "r1.scenario['50_Year_Module'].dataIn_m['mod_reliability_t90'] = 70\n",
    "r1.scenario['50_Year_Module'].dataIn_m['mod_lifetime'] = 50\n",
    "r1.scenario['15_Year_Module'].dataIn_m['mod_degradation'] = 0.4\n",
    "\n",
    "r1.scenario['15_Year_Module'].dataIn_m['mod_reliability_t50'] = 20\n",
    "r1.scenario['15_Year_Module'].dataIn_m['mod_reliability_t90'] = 25\n",
    "r1.scenario['15_Year_Module'].dataIn_m['mod_lifetime'] = 15\n",
    "r1.scenario['15_Year_Module'].dataIn_m['mod_degradation'] = 1.4\n",
    "\n"
   ]
  },
  {
   "cell_type": "markdown",
   "metadata": {},
   "source": [
    "## Change Recyclability Values"
   ]
  },
  {
   "cell_type": "code",
   "execution_count": null,
   "metadata": {},
   "outputs": [],
   "source": [
    "r1.scenario['15_Year_Module'].dataIn_m['mod_EOL_pg4_recycled'] = 100.0 #100% collection\n",
    "r1.scenario['15_Year_Module'].dataIn_m['mod_EOL_collection_eff'] = 100.0\n",
    "#r1.scenario['15_Year_Module'].material['glass'].materialdata['mat_MFG_eff'] = 100 #100% efficiency of recycling\n",
    "r1.scenario['15_Year_Module'].material['glass'].matdataIn_m['mat_MFG_scrap_Recycled'] = 100.0\n",
    "r1.scenario['15_Year_Module'].material['glass'].matdataIn_m['mat_MFG_scrap_Recycling_eff'] = 90.0\n",
    "r1.scenario['15_Year_Module'].material['glass'].matdataIn_m['mat_MFG_scrap_Recycled_into_HQ'] = 100.0\n",
    "r1.scenario['15_Year_Module'].material['glass'].matdataIn_m['mat_MFG_scrap_Recycled_into_HQ_Reused4MFG'] = 100.0\n",
    "r1.scenario['15_Year_Module'].material['glass'].matdataIn_m['mat_PG4_Recycling_target'] = 100.0\n",
    "r1.scenario['15_Year_Module'].material['glass'].matdataIn_m['mat_Recycling_yield'] = 90.0\n",
    "r1.scenario['15_Year_Module'].material['glass'].matdataIn_m['mat_EOL_Recycled_into_HQ'] = 100.0\n",
    "r1.scenario['15_Year_Module'].material['glass'].matdataIn_m['mat_EOL_RecycledHQ_Reused4MFG'] = 100.0 #95% of the above 2 gets turned into new panels\n",
    "\n",
    "r1.scenario['50_Year_Module'].dataIn_m['mod_EOL_pg4_recycled'] = 100.0 #100% collection\n",
    "r1.scenario['50_Year_Module'].dataIn_m['mod_EOL_collection_eff'] = 100.0\n",
    "#r1.scenario['50_Year_Module'].material['glass'].materialdata['mat_MFG_eff'] = 100 #100% efficiency of recycling\n",
    "r1.scenario['50_Year_Module'].material['glass'].matdataIn_m['mat_MFG_scrap_Recycled'] = 100.0\n",
    "r1.scenario['50_Year_Module'].material['glass'].matdataIn_m['mat_MFG_scrap_Recycling_eff'] = 30.0\n",
    "r1.scenario['50_Year_Module'].material['glass'].matdataIn_m['mat_MFG_scrap_Recycled_into_HQ'] = 100.0\n",
    "r1.scenario['50_Year_Module'].material['glass'].matdataIn_m['mat_MFG_scrap_Recycled_into_HQ_Reused4MFG'] = 100.0\n",
    "r1.scenario['50_Year_Module'].material['glass'].matdataIn_m['mat_PG4_Recycling_target'] = 100.0\n",
    "r1.scenario['50_Year_Module'].material['glass'].matdataIn_m['mat_Recycling_yield'] = 30.0\n",
    "r1.scenario['50_Year_Module'].material['glass'].matdataIn_m['mat_EOL_Recycled_into_HQ'] = 100.0\n",
    "r1.scenario['50_Year_Module'].material['glass'].matdataIn_m['mat_EOL_RecycledHQ_Reused4MFG'] = 100.0 #95% of the above 2 gets turned into new panels\n"
   ]
  },
  {
   "cell_type": "markdown",
   "metadata": {},
   "source": [
    "## Turn IRENA lifetime values on or off & run PV ICE simulation"
   ]
  },
  {
   "cell_type": "code",
   "execution_count": null,
   "metadata": {},
   "outputs": [],
   "source": [
    "IRENA= False\n",
    "ELorRL = 'RL'\n",
    "if IRENA:\n",
    "    if ELorRL == 'RL':\n",
    "        weibullInputParams = {'alpha': 5.3759, 'beta': 30}  # Regular-loss scenario IRENA\n",
    "    if ELorRL == 'EL':\n",
    "        weibullInputParams = {'alpha': 2.49, 'beta': 30}  # Regular-loss scenario IRENA\n",
    "    r1.calculateMassFlow(weibullInputParams=weibullInputParams)\n",
    "    title_Method = 'Irena_'+ELorRL\n",
    "else:\n",
    "    r1.calculateMassFlow()\n",
    "    title_Method = 'PVICE'\n"
   ]
  },
  {
   "cell_type": "code",
   "execution_count": null,
   "metadata": {},
   "outputs": [],
   "source": [
    "r1.scenario['base'].material['glass'].matdataOut_m.keys()"
   ]
  },
  {
   "cell_type": "code",
   "execution_count": null,
   "metadata": {},
   "outputs": [],
   "source": [
    "r1.plotMaterialComparisonAcrossScenarios(material='glass', keyword='mat_Total_Landfilled')\n",
    "print(\"Modules installed between 2010 and 2020 become decommissioned on ~2035-2045, that is why the baseline has 'jaggedy' lines that follow the installs on those years.\")\n",
    "print(\"This jaggedy lines are not seen in the 15_Year_Module example, because 90% of it is going into recycling. You can still see a bit of effect on 2025-2035.\")\n",
    "print(\"For base, after 2045, and for 15_years, after 2035 become nice curves because the installs follow a CAGR projection.\")\n",
    "print(\"IF more years where plotted for the 50_year_module, we would see the same jaggediness around 2065-2075\")\n"
   ]
  },
  {
   "cell_type": "code",
   "execution_count": null,
   "metadata": {},
   "outputs": [],
   "source": [
    "r1.plotMaterialComparisonAcrossScenarios(material='silicon', keyword='mat_Total_Landfilled')"
   ]
  },
  {
   "cell_type": "code",
   "execution_count": null,
   "metadata": {
    "scrolled": true
   },
   "outputs": [],
   "source": [
    "r1.scenario['base'].dataOut_m.keys()"
   ]
  },
  {
   "cell_type": "code",
   "execution_count": null,
   "metadata": {},
   "outputs": [],
   "source": [
    "r1.plotScenariosComparison(keyword='Effective_Capacity_[W]')"
   ]
  },
  {
   "cell_type": "markdown",
   "metadata": {},
   "source": [
    "### Modifying Installed Capacity requirements to match 50 Year Module"
   ]
  },
  {
   "cell_type": "code",
   "execution_count": null,
   "metadata": {},
   "outputs": [],
   "source": [
    "import copy"
   ]
  },
  {
   "cell_type": "code",
   "execution_count": null,
   "metadata": {},
   "outputs": [],
   "source": [
    "r1.scenario['15_Year_Module_IncreasedInstalls'] = copy.deepcopy(r1.scenario['15_Year_Module'])"
   ]
  },
  {
   "cell_type": "code",
   "execution_count": null,
   "metadata": {
    "scrolled": true
   },
   "outputs": [],
   "source": [
    "r1.calculateMassFlow(scenarios='15_Year_Module_IncreasedInstalls')"
   ]
  },
  {
   "cell_type": "markdown",
   "metadata": {},
   "source": [
    "### Modifing the installed capacity requiremetns according to t50. \n",
    "\n",
    "Needs to run each year becuase it needs to calculate the acumulated installs and deads.\n"
   ]
  },
  {
   "cell_type": "code",
   "execution_count": null,
   "metadata": {},
   "outputs": [],
   "source": [
    "a = r1.scenario['15_Year_Module_IncreasedInstalls'].dataIn_m"
   ]
  },
  {
   "cell_type": "code",
   "execution_count": null,
   "metadata": {},
   "outputs": [],
   "source": [
    "Under_Installment = []\n",
    "for i in range (0, len(r1.scenario['base'].dataIn_m)):\n",
    "    Under_Installment = ( (r1.scenario['base'].dataOut_m['Effective_Capacity_[W]'][i] - \n",
    "                         r1.scenario['15_Year_Module_IncreasedInstalls'].dataOut_m['Effective_Capacity_[W]'][i])/1000000 )  # MWATTS\n",
    "    r1.scenario['15_Year_Module_IncreasedInstalls'].dataIn_m.loc[i, 'new_Installed_Capacity_[MW]'] += Under_Installment\n",
    "    r1.calculateMassFlow(scenarios='15_Year_Module_IncreasedInstalls')\n"
   ]
  },
  {
   "cell_type": "code",
   "execution_count": null,
   "metadata": {},
   "outputs": [],
   "source": [
    "plt.plot(r1.scenario['15_Year_Module'].dataIn_m['new_Installed_Capacity_[MW]'], 'r')\n",
    "plt.plot(r1.scenario['15_Year_Module_IncreasedInstalls'].dataIn_m['new_Installed_Capacity_[MW]'])"
   ]
  },
  {
   "cell_type": "markdown",
   "metadata": {},
   "source": [
    "Now copying to make the 50-year module with decreased installs"
   ]
  },
  {
   "cell_type": "code",
   "execution_count": null,
   "metadata": {},
   "outputs": [],
   "source": [
    "r1.scenario['50_Year_Module_DecreasedInstalls'] = copy.deepcopy(r1.scenario['50_Year_Module'])"
   ]
  },
  {
   "cell_type": "code",
   "execution_count": null,
   "metadata": {},
   "outputs": [],
   "source": [
    "r1.calculateMassFlow(scenarios='50_Year_Module_DecreasedInstalls')"
   ]
  },
  {
   "cell_type": "code",
   "execution_count": null,
   "metadata": {},
   "outputs": [],
   "source": [
    "Over_Installment = []\n",
    "for i in range (0, len(r1.scenario['base'].dataIn_m)):\n",
    "    Over_Installment = ( (r1.scenario['50_Year_Module_DecreasedInstalls'].dataOut_m['Effective_Capacity_[W]'][i] - \n",
    "                         r1.scenario['base'].dataOut_m['Effective_Capacity_[W]'][i])/1000000 )  # MWATTS\n",
    "    r1.scenario['50_Year_Module_DecreasedInstalls'].dataIn_m.loc[i, 'new_Installed_Capacity_[MW]'] -= Over_Installment\n",
    "    r1.calculateMassFlow(scenarios='50_Year_Module_DecreasedInstalls')\n"
   ]
  },
  {
   "cell_type": "code",
   "execution_count": null,
   "metadata": {},
   "outputs": [],
   "source": [
    "r1.plotScenariosComparison(keyword='new_Installed_Capacity_[MW]')\n"
   ]
  },
  {
   "cell_type": "code",
   "execution_count": null,
   "metadata": {},
   "outputs": [],
   "source": [
    "r1.plotScenariosComparison(keyword='Effective_Capacity_[W]')"
   ]
  },
  {
   "cell_type": "code",
   "execution_count": null,
   "metadata": {},
   "outputs": [],
   "source": [
    "r1.plotMaterialComparisonAcrossScenarios(material='glass', keyword='mat_Virgin_Stock')\n"
   ]
  },
  {
   "cell_type": "code",
   "execution_count": null,
   "metadata": {},
   "outputs": [],
   "source": [
    "r1.plotMaterialComparisonAcrossScenarios(material='glass', keyword='mat_Total_Landfilled')\n"
   ]
  },
  {
   "cell_type": "markdown",
   "metadata": {},
   "source": [
    "## Same plots but not automatic from the software to control more the parameters"
   ]
  },
  {
   "cell_type": "code",
   "execution_count": null,
   "metadata": {},
   "outputs": [],
   "source": [
    "plt.plot(r1.scenario['base'].dataIn_m['year'], r1.scenario['base'].dataOut_m['Effective_Capacity_[W]']/1e12, 'g', label='base')\n",
    "plt.plot(r1.scenario['base'].dataIn_m['year'], r1.scenario['50_Year_Module'].dataOut_m['Effective_Capacity_[W]']/1e12, 'r', label='50 year Module')\n",
    "plt.plot(r1.scenario['base'].dataIn_m['year'], r1.scenario['15_Year_Module'].dataOut_m['Effective_Capacity_[W]']/1e12, 'b', label='15 year Module')\n",
    "plt.plot(r1.scenario['base'].dataIn_m['year'], r1.scenario['50_Year_Module_DecreasedInstalls'].dataOut_m['Effective_Capacity_[W]']/1e12, 'r--', label='50 year Module w base capacity')\n",
    "plt.plot(r1.scenario['base'].dataIn_m['year'], r1.scenario['15_Year_Module_IncreasedInstalls'].dataOut_m['Effective_Capacity_[W]']/1e12, 'b--', label='15 year Module w. base capacity')\n",
    "\n",
    "plt.ylabel('Power [TW]')\n",
    "\n",
    "plt.title('Installed Active Capacity')\n",
    "plt.xlim([2000, 2050])\n",
    "plt.legend()"
   ]
  },
  {
   "cell_type": "code",
   "execution_count": null,
   "metadata": {},
   "outputs": [],
   "source": [
    "plt.plot(r1.scenario['base'].dataIn_m['year'], r1.scenario['base'].dataIn_m['new_Installed_Capacity_[MW]']/1e3, 'g', label='base')\n",
    "plt.plot(r1.scenario['base'].dataIn_m['year'], r1.scenario['50_Year_Module'].dataIn_m['new_Installed_Capacity_[MW]']/1e3, 'r', label='50 year Module')\n",
    "plt.plot(r1.scenario['base'].dataIn_m['year'], r1.scenario['15_Year_Module'].dataIn_m['new_Installed_Capacity_[MW]']/1e3, 'b', label='15 year Module')\n",
    "plt.plot(r1.scenario['base'].dataIn_m['year'], r1.scenario['50_Year_Module_DecreasedInstalls'].dataIn_m['new_Installed_Capacity_[MW]']/1e3, 'r--', label='50 year Module w base capacity')\n",
    "plt.plot(r1.scenario['base'].dataIn_m['year'], r1.scenario['15_Year_Module_IncreasedInstalls'].dataIn_m['new_Installed_Capacity_[MW]']/1e3, 'b--', label='15 year Module w. base capacity')\n",
    "\n",
    "plt.ylabel('Power [GW]')\n",
    "\n",
    "plt.title('New Installed Capacity')\n",
    "plt.xlim([2000, 2050])\n",
    "plt.legend()"
   ]
  },
  {
   "cell_type": "code",
   "execution_count": null,
   "metadata": {},
   "outputs": [],
   "source": [
    "plt.plot(r1.scenario['base'].dataIn_m['year'], r1.scenario['base'].material['glass'].matdataOut_m['mat_Virgin_Stock']/1e9, 'g', label='base')\n",
    "plt.plot(r1.scenario['base'].dataIn_m['year'], r1.scenario['50_Year_Module'].material['glass'].matdataOut_m['mat_Virgin_Stock']/1e9, 'r', label='50 Year Module')\n",
    "plt.plot(r1.scenario['base'].dataIn_m['year'], r1.scenario['15_Year_Module'].material['glass'].matdataOut_m['mat_Virgin_Stock']/1e9, 'b', label='15 Year Module')\n",
    "plt.plot(r1.scenario['base'].dataIn_m['year'], r1.scenario['50_Year_Module_DecreasedInstalls'].material['glass'].matdataOut_m['mat_Virgin_Stock']/1e9, 'r--', label='50 Year Module w. base capacity')\n",
    "plt.plot(r1.scenario['base'].dataIn_m['year'], r1.scenario['15_Year_Module_IncreasedInstalls'].material['glass'].matdataOut_m['mat_Virgin_Stock']/1e9, 'b--', label='15 Year Module w. base capacity')\n",
    "\n",
    "plt.ylabel('Virgin Glass [Million Tonnes]')\n",
    "plt.legend()\n",
    "plt.title('Annual Virgin Material Input')\n",
    "plt.xlim([2000, 2050])\n",
    "\n"
   ]
  },
  {
   "cell_type": "code",
   "execution_count": null,
   "metadata": {},
   "outputs": [],
   "source": [
    "plt.plot(r1.scenario['base'].dataIn_m['year'], r1.scenario['base'].material['glass'].matdataOut_m['mat_Total_Landfilled']/1e9, 'g', label='base')\n",
    "plt.plot(r1.scenario['base'].dataIn_m['year'], r1.scenario['50_Year_Module'].material['glass'].matdataOut_m['mat_Total_Landfilled']/1e9, 'r', label='50 Year Module')\n",
    "plt.plot(r1.scenario['base'].dataIn_m['year'], r1.scenario['15_Year_Module'].material['glass'].matdataOut_m['mat_Total_Landfilled']/1e9, 'b', label='15 Year Module')\n",
    "plt.plot(r1.scenario['base'].dataIn_m['year'], r1.scenario['50_Year_Module_DecreasedInstalls'].material['glass'].matdataOut_m['mat_Total_Landfilled']/1e9, 'r--', label='50 Year Module w. base capacity')\n",
    "plt.plot(r1.scenario['base'].dataIn_m['year'], r1.scenario['15_Year_Module_IncreasedInstalls'].material['glass'].matdataOut_m['mat_Total_Landfilled']/1e9, 'b--', label='15 Year Module w. base capacity')\n",
    "\n",
    "plt.ylabel('Landfilled Glass\\n [Million Tonnes]')\n",
    "plt.legend()\n",
    "plt.title('Annual Landfilled Waste')\n",
    "plt.xlim([2000, 2050])\n"
   ]
  },
  {
   "cell_type": "markdown",
   "metadata": {},
   "source": [
    "# Calculating Overall changes between the Scenarios"
   ]
  },
  {
   "cell_type": "code",
   "execution_count": null,
   "metadata": {},
   "outputs": [],
   "source": [
    "cum_Waste = []\n",
    "cum_VirginNeeds = []\n",
    "cum_InstalledCapacity = []\n",
    "cum_NewInstalls = []\n",
    "\n",
    "for ii in range (0, len(r1.scenario.keys())):\n",
    "    # Cumulative\n",
    "    scen = list(r1.scenario.keys())[ii]\n",
    "    cum_Waste.append(r1.scenario[scen].material['glass'].matdataOut_m['mat_Total_Landfilled'].sum())\n",
    "    cum_VirginNeeds.append(r1.scenario[scen].material['glass'].matdataOut_m['mat_Virgin_Stock'].sum())\n",
    "    cum_NewInstalls.append(r1.scenario[scen].dataIn_m['new_Installed_Capacity_[MW]'].sum())\n",
    "    cum_InstalledCapacity.append(r1.scenario[scen].dataOut_m['Effective_Capacity_[W]'].iloc[-1])\n",
    "\n",
    "df = pd.DataFrame(list(zip(list(r1.scenario.keys()), cum_Waste, cum_VirginNeeds, cum_NewInstalls, cum_InstalledCapacity)),\n",
    "               columns =['scenarios','cum_Waste', 'cum_VirginNeeds', 'cum_NewInstalls', 'cum_InstalledCapacity'])"
   ]
  },
  {
   "cell_type": "markdown",
   "metadata": {},
   "source": [
    "##  Normalize by Base Scenario (row 2)"
   ]
  },
  {
   "cell_type": "code",
   "execution_count": null,
   "metadata": {},
   "outputs": [],
   "source": [
    "df[['cum_Waste', 'cum_VirginNeeds', 'cum_NewInstalls', 'cum_InstalledCapacity']] = df[['cum_Waste', 'cum_VirginNeeds', 'cum_NewInstalls', 'cum_InstalledCapacity']]*100/df[['cum_Waste', 'cum_VirginNeeds', 'cum_NewInstalls', 'cum_InstalledCapacity']].iloc[2] -100"
   ]
  },
  {
   "cell_type": "code",
   "execution_count": null,
   "metadata": {},
   "outputs": [],
   "source": [
    "df.round(2)"
   ]
  },
  {
   "cell_type": "markdown",
   "metadata": {},
   "source": [
    "## LCA Analysis of 15 vs 50 Year Module\n",
    "\n",
    "We have previously obtained results for ladnfilled waste for 50 year module, 15 year module, and 15 year module with increased installations to reach to 50 year module installed capacity. This is applies the LCA methodology to evaluate environmetnal impacts based on landfilled area."
   ]
  },
  {
   "cell_type": "code",
   "execution_count": null,
   "metadata": {},
   "outputs": [],
   "source": [
    "Area_50years = r1.scenario['50_Year_Module'].material['glass'].matdataOut_m['mat_Virgin_Stock'].sum()\n",
    "Area_15years = r1.scenario['15_Year_Module'].material['glass'].matdataOut_m['mat_Virgin_Stock'].sum()\n",
    "Area_15years_Increased_Installs = r1.scenario['15_Year_Module_IncreasedInstalls'].material['glass'].matdataOut_m['mat_Virgin_Stock'].sum()"
   ]
  },
  {
   "cell_type": "markdown",
   "metadata": {},
   "source": [
    "#### First we calculate the Area, based on the glass thickness and glass density and the Total Landfilled Waste [kg]. The PV panel area will be equal to the Glass Area for our modeled scenarios so far."
   ]
  },
  {
   "cell_type": "code",
   "execution_count": null,
   "metadata": {},
   "outputs": [],
   "source": [
    "[acidification, carcinogenics, ecotoxicity, eutrophication, \n",
    "fossil_fuel_depletion, global_warming,\n",
    "non_carcinogenics, ozone_depletion, respiratory_effects, smog] = PV_ICE.calculateLCA(Area_50years)"
   ]
  },
  {
   "cell_type": "code",
   "execution_count": null,
   "metadata": {},
   "outputs": [],
   "source": [
    "[acidification2, carcinogenics2, ecotoxicity2, eutrophication2, \n",
    "fossil_fuel_depletion2, global_warming2,\n",
    "non_carcinogenics2, ozone_depletion2, respiratory_effects2, smog2] = PV_ICE.calculateLCA(Area_15years)"
   ]
  },
  {
   "cell_type": "code",
   "execution_count": null,
   "metadata": {},
   "outputs": [],
   "source": [
    "[acidification3, carcinogenics3, ecotoxicity3, eutrophication3, \n",
    "fossil_fuel_depletion3, global_warming3,\n",
    "non_carcinogenics3, ozone_depletion3, respiratory_effects3, smog3] = PV_ICE.calculateLCA(Area_15years_Increased_Installs)"
   ]
  },
  {
   "cell_type": "code",
   "execution_count": null,
   "metadata": {},
   "outputs": [],
   "source": [
    "global_warming = pd.DataFrame({'Global warming':['50 year', '15 year', '15 year Increased Installs'], \n",
    "                               'val':[global_warming, global_warming2, global_warming3]})"
   ]
  },
  {
   "cell_type": "code",
   "execution_count": null,
   "metadata": {},
   "outputs": [],
   "source": [
    "ax = global_warming.plot.bar(x='Global warming', y='val', rot=0)\n",
    "plt.title('Global Warming Effect, in kg CO2 eq')"
   ]
  }
 ],
 "metadata": {
  "kernelspec": {
   "display_name": "Python 3 (ipykernel)",
   "language": "python",
   "name": "python3"
  },
  "language_info": {
   "codemirror_mode": {
    "name": "ipython",
    "version": 3
   },
   "file_extension": ".py",
   "mimetype": "text/x-python",
   "name": "python",
   "nbconvert_exporter": "python",
   "pygments_lexer": "ipython3",
   "version": "3.9.13"
  }
 },
 "nbformat": 4,
 "nbformat_minor": 4
}
