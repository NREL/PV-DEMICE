{
 "cells": [
  {
   "cell_type": "markdown",
   "metadata": {},
   "source": [
    "# Energy Flows for PV ICE"
   ]
  },
  {
   "cell_type": "markdown",
   "metadata": {},
   "source": [
    "This journal documents and demonstrates the new Energy flows calculation capacity of PV ICE"
   ]
  },
  {
   "cell_type": "code",
   "execution_count": 1,
   "metadata": {},
   "outputs": [
    {
     "name": "stdout",
     "output_type": "stream",
     "text": [
      "Your simulation will be stored in C:\\Users\\hmirletz\\Documents\\GitHub\\PV_ICE\\PV_ICE\\TEMP\n"
     ]
    }
   ],
   "source": [
    "import os\n",
    "from pathlib import Path\n",
    "import PV_ICE\n",
    "import matplotlib.pyplot as plt\n",
    "import pandas as pd\n",
    "import numpy as np\n",
    "\n",
    "testfolder = str(Path().resolve().parent.parent / 'PV_ICE' / 'TEMP')\n",
    "\n",
    "# Another option using relative address; for some operative systems you might need '/' instead of '\\'\n",
    "# testfolder = os.path.abspath(r'..\\..\\PV_ICE\\TEMP')  \n",
    "\n",
    "print (\"Your simulation will be stored in %s\" % testfolder)"
   ]
  },
  {
   "cell_type": "code",
   "execution_count": 2,
   "metadata": {},
   "outputs": [
    {
     "data": {
      "text/plain": [
       "'v0.2.0+142.gaebaec0.dirty'"
      ]
     },
     "execution_count": 2,
     "metadata": {},
     "output_type": "execute_result"
    }
   ],
   "source": [
    "PV_ICE.__version__"
   ]
  },
  {
   "cell_type": "markdown",
   "metadata": {},
   "source": [
    "### Add Scenarios and Materials\n"
   ]
  },
  {
   "cell_type": "code",
   "execution_count": 3,
   "metadata": {},
   "outputs": [
    {
     "name": "stdout",
     "output_type": "stream",
     "text": [
      "C:\\Users\\hmirletz\\Documents\\GitHub\\PV_ICE\\docs\\tutorials\n"
     ]
    }
   ],
   "source": [
    "cwd=os.getcwd()\n",
    "print(os.getcwd())"
   ]
  },
  {
   "cell_type": "code",
   "execution_count": 4,
   "metadata": {
    "scrolled": false
   },
   "outputs": [],
   "source": [
    "MATERIALS = ['glass']#,'aluminium_frames','silver','silicon', 'copper', 'encapsulant', 'backsheet']\n",
    "MATERIAL = MATERIALS[0]\n",
    "moduleFile_recycle = r'..\\baselines\\perovskite_modules_US_recycle.csv'\n",
    "moduleFile_reMFG = r'..\\baselines\\perovskite_modules_US_reMFG.csv'"
   ]
  },
  {
   "cell_type": "code",
   "execution_count": 5,
   "metadata": {},
   "outputs": [
    {
     "name": "stdout",
     "output_type": "stream",
     "text": [
      "path = C:\\Users\\hmirletz\\Documents\\GitHub\\PV_ICE\\PV_ICE\\TEMP\n"
     ]
    }
   ],
   "source": [
    "r1 = PV_ICE.Simulation(name='perovskite_energies', path=testfolder)\n",
    "\n",
    "r1.createScenario(name='perovskite_recycle', file=moduleFile_recycle)\n",
    "for mat in range (0, len(MATERIALS)):\n",
    "    MATERIALBASELINE = r'..\\baselines\\perovskite_material_'+MATERIALS[mat]+'.csv'\n",
    "    r1.scenario['perovskite_recycle'].addMaterial(MATERIALS[mat], file=MATERIALBASELINE)\n",
    "\n",
    "r1.createScenario(name='perovskite_reMFG', file=moduleFile_reMFG)\n",
    "for mat in range (0, len(MATERIALS)):\n",
    "    MATERIALBASELINE = r'..\\baselines\\perovskite_material_'+MATERIALS[mat]+'.csv'\n",
    "    r1.scenario['perovskite_reMFG'].addMaterial(MATERIALS[mat], file=MATERIALBASELINE)"
   ]
  },
  {
   "cell_type": "markdown",
   "metadata": {},
   "source": [
    "### Set All Material Virgin, MFG, and circularity to 0\n",
    "\n",
    "Do we want to do this?"
   ]
  },
  {
   "cell_type": "code",
   "execution_count": 6,
   "metadata": {
    "scrolled": true
   },
   "outputs": [],
   "source": [
    "#r1.scenMod_noCircularity() # sets all module and material circular variables to 0, creating fully linear\n",
    "#r1.scenMod_PerfectManufacturing() #sets all manufacturing values to 100% efficiency/yield\n",
    "#check:\n",
    "#r1.scenario['USHistory'].material['glass'].materialdata['mat_MFG_eff']"
   ]
  },
  {
   "cell_type": "markdown",
   "metadata": {},
   "source": [
    "### Run the Mass Flow Calculations on All Scenarios and Materials"
   ]
  },
  {
   "cell_type": "code",
   "execution_count": 7,
   "metadata": {},
   "outputs": [
    {
     "name": "stdout",
     "output_type": "stream",
     "text": [
      "Working on Scenario:  perovskite_recycle\n",
      "********************\n",
      "Finished Area+Power Generation Calculations\n",
      "==> Working on Material :  glass\n",
      "Working on Scenario:  perovskite_reMFG\n",
      "********************\n",
      "Finished Area+Power Generation Calculations\n",
      "==> Working on Material :  glass\n"
     ]
    }
   ],
   "source": [
    "r1.calculateMassFlow()"
   ]
  },
  {
   "cell_type": "markdown",
   "metadata": {},
   "source": [
    "## Testing Energy Flows"
   ]
  },
  {
   "cell_type": "code",
   "execution_count": 8,
   "metadata": {},
   "outputs": [],
   "source": [
    "matEfile_glass = pd.read_csv(str(Path().resolve().parent.parent /'PV_ICE' / 'baselines'/'perovskite_energy_material_glass.csv'))\n",
    "\n",
    "modEfile = pd.read_csv(str(Path().resolve().parent.parent /'PV_ICE' / 'baselines'/'perovskite_energy_modules.csv'))"
   ]
  },
  {
   "cell_type": "code",
   "execution_count": 9,
   "metadata": {},
   "outputs": [],
   "source": [
    "matEfile_glass_simple = matEfile_glass.drop(0)\n",
    "modEfile_simple = modEfile.drop(0)"
   ]
  },
  {
   "cell_type": "code",
   "execution_count": 10,
   "metadata": {},
   "outputs": [
    {
     "ename": "TypeError",
     "evalue": "'NoneType' object is not iterable",
     "output_type": "error",
     "traceback": [
      "\u001b[1;31m---------------------------------------------------------------------------\u001b[0m",
      "\u001b[1;31mTypeError\u001b[0m                                 Traceback (most recent call last)",
      "Input \u001b[1;32mIn [10]\u001b[0m, in \u001b[0;36m<cell line: 1>\u001b[1;34m()\u001b[0m\n\u001b[1;32m----> 1\u001b[0m \u001b[43mr1\u001b[49m\u001b[38;5;241;43m.\u001b[39;49m\u001b[43mcalculateEnergyFlow\u001b[49m\u001b[43m(\u001b[49m\u001b[43mmodEnergy\u001b[49m\u001b[38;5;241;43m=\u001b[39;49m\u001b[43mmodEfile_simple\u001b[49m\u001b[43m,\u001b[49m\u001b[43m \u001b[49m\u001b[43mmatEnergy\u001b[49m\u001b[38;5;241;43m=\u001b[39;49m\u001b[43mmatEfile_glass_simple\u001b[49m\u001b[43m)\u001b[49m\n",
      "File \u001b[1;32mc:\\users\\hmirletz\\documents\\github\\pv_ice\\PV_ICE\\main.py:1008\u001b[0m, in \u001b[0;36mSimulation.calculateEnergyFlow\u001b[1;34m(self, scenarios, materials, modEnergy, matEnergy)\u001b[0m\n\u001b[0;32m   1005\u001b[0m         scenarios \u001b[38;5;241m=\u001b[39m [scenarios]\n\u001b[0;32m   1007\u001b[0m \u001b[38;5;28;01mfor\u001b[39;00m scen \u001b[38;5;129;01min\u001b[39;00m scenarios:\n\u001b[1;32m-> 1008\u001b[0m     \u001b[38;5;28;01mfor\u001b[39;00m mat \u001b[38;5;129;01min\u001b[39;00m materials:\n\u001b[0;32m   1009\u001b[0m         df \u001b[38;5;241m=\u001b[39m \u001b[38;5;28mself\u001b[39m\u001b[38;5;241m.\u001b[39mscenario[scen]\u001b[38;5;241m.\u001b[39mdata\n\u001b[0;32m   1010\u001b[0m         dm \u001b[38;5;241m=\u001b[39m \u001b[38;5;28mself\u001b[39m\u001b[38;5;241m.\u001b[39mscenario[scen]\u001b[38;5;241m.\u001b[39mmaterial[materials]\u001b[38;5;241m.\u001b[39mmaterialdata\n",
      "\u001b[1;31mTypeError\u001b[0m: 'NoneType' object is not iterable"
     ]
    }
   ],
   "source": [
    "r1.calculateEnergyFlow(modEnergy=modEfile_simple, matEnergy=matEfile_glass_simple)"
   ]
  },
  {
   "cell_type": "markdown",
   "metadata": {},
   "source": [
    "###  Use internal plotting functions to plot results"
   ]
  },
  {
   "cell_type": "markdown",
   "metadata": {},
   "source": [
    "Pull out the keywords by printing the keys to the module data or the material data:\n",
    "\n",
    "    print(r1.scenario.keys())\n",
    "    \n",
    "    print(r1.scenario['standard'].data.keys())\n",
    "    \n",
    "    print(r1.scenario['standard'].material['glass'].materialdata.keys())"
   ]
  },
  {
   "cell_type": "code",
   "execution_count": null,
   "metadata": {},
   "outputs": [],
   "source": [
    "#print(r1.scenario.keys())\n",
    "print(r1.scenario['USHistory'].data.keys())\n",
    "#print(r1.scenario['USHistory'].material['glass'].materialdata.keys())"
   ]
  },
  {
   "cell_type": "markdown",
   "metadata": {},
   "source": [
    "### Run the Energy flow calculations for all scenarios and materials"
   ]
  },
  {
   "cell_type": "code",
   "execution_count": null,
   "metadata": {},
   "outputs": [],
   "source": []
  },
  {
   "cell_type": "code",
   "execution_count": null,
   "metadata": {},
   "outputs": [],
   "source": []
  },
  {
   "cell_type": "markdown",
   "metadata": {},
   "source": [
    "# Calculations for file prep (module and glass)\n",
    "\n",
    "### Module\n",
    "We are doing a case study comparing recycling versus remanufacturing the glass for a perovskite module. The assumption is that the perovskite module lasts for 15 years, with weibull parameters that fail 10% of the modules before year 15, and a power degradation such that the module is at 80% of nameplate power at year 15. See the Lifetime vs Recycling journal for calculation of weibull parameters and degradation rates.\n",
    "\n",
    "### Glass\n",
    "The assumption is that a perovskite module will be a glass-glass package. Modern c-Si glass-glass (35% marketshare) bifacial modules (27% marketshare) are most likely 2.5mm front glass (28% marketshare) and 2.5 mm back glass (95% marketshare) [ITRPV 2022]. Therefore, we will assume a perovskite glass glass module will use 2 sheets of glass that are 2.5 mm thick.\n"
   ]
  },
  {
   "cell_type": "code",
   "execution_count": null,
   "metadata": {},
   "outputs": [],
   "source": [
    "density_glass = 2500*1000 # g/m^3    \n",
    "glass_thickness = 2.5/1e3 #m\n",
    "mass_glass = 2*glass_thickness*density_glass\n",
    "print('The mass of glass per module area for a perovskite glass-glass package is assumed to be '+\n",
    "     str(mass_glass) + ' g/m^2.')"
   ]
  },
  {
   "cell_type": "markdown",
   "metadata": {},
   "source": [
    "## Energy flows (module and glass)\n",
    "\n",
    "### Module\n",
    "We will assume that a perovskite module is disassemble-able or openable with either a laser applied to a vacuum edge seal OR with a hot knife. Laser edge seal can be done with a 16 W laser. \n",
    "\n",
    "The hot knife procedure with EVA heats the blade to 300 C (https://www.npcgroup.net/eng/solarpower/reuse-recycle/dismantling#comp) and is currently only used on glass-backsheet modules. The NPC website indicates that cycle time is 60 seconds for one 6x10 cell module. Small commercially availble hot knives can achieve greater than 300C drawing less than 150W. We will assume worst case scenario; hot knife for 60 seconds at 150 W"
   ]
  },
  {
   "cell_type": "code",
   "execution_count": null,
   "metadata": {},
   "outputs": [],
   "source": [
    "e_hotknife_tot = 150*60*(1/3600)*(1/1000) # 150 W * 60 s = W*s *(hr/s)*(kW/W)\n",
    "area_mod = 1.090*2.100 #m\n",
    "e_hotknife = e_hotknife_tot/area_mod # E/module to E/m2\n",
    "print('Energy for hot knife separation is '+ str(round(e_hotknife, 4))+' kWh/m2. This will be used as energy of module reMFG Disassembly')"
   ]
  },
  {
   "cell_type": "markdown",
   "metadata": {},
   "source": [
    "### Glass\n",
    "The process to remove the perovskite from the glass is relatively simple regardless of architecture (all back contact or stack). A dunk in a water-based solvent at room temperature can remove the perovskite layer, and simple heating/baking or UV+Ozone steps should round out the cleaning preparation for a new perovskite deposition. \n",
    "\n",
    "Using Rodriguez-Garcia G, Aydin E, De Wolf S, Carlson B, Kellar J, Celik I. Life Cycle Assessment of Coated-Glass Recovery from Perovskite Solar Cells. ACS Sustainable Chem Eng [Internet]. 2021 Nov 3 [cited 2021 Nov 8]; Available from: https://doi.org/10.1021/acssuschemeng.1c05029, we will assume a room temperature water bath with sonication, a heating/drying/baking step, and a UV+Ozone step.\n"
   ]
  },
  {
   "cell_type": "code",
   "execution_count": null,
   "metadata": {},
   "outputs": [],
   "source": [
    "e_sonicate = 4  #kWh/m2 ultrasonication\n",
    "e_uvozone = 3.57  #kWh/m2 ozone+UV\n",
    "e_bake = 0.06  #kWh/m2 hot plate drying\n",
    "e_glassreMFG_area = e_sonicate+e_uvozone+e_bake\n",
    "e_glass_reMFG_mass = e_glassreMFG_area/(mass_glass/1000) #kWh/m2 *m2/g\n",
    "\n",
    "print('Energy to remanufacture the glass (material energy only) is ' + str(round(e_glass_reMFG_mass, 2)) + 'kWh/kg')\n",
    "\n"
   ]
  },
  {
   "cell_type": "code",
   "execution_count": null,
   "metadata": {},
   "outputs": [],
   "source": []
  }
 ],
 "metadata": {
  "kernelspec": {
   "display_name": "Python 3 (ipykernel)",
   "language": "python",
   "name": "python3"
  },
  "language_info": {
   "codemirror_mode": {
    "name": "ipython",
    "version": 3
   },
   "file_extension": ".py",
   "mimetype": "text/x-python",
   "name": "python",
   "nbconvert_exporter": "python",
   "pygments_lexer": "ipython3",
   "version": "3.8.8"
  }
 },
 "nbformat": 4,
 "nbformat_minor": 2
}
