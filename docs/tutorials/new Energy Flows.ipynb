{
 "cells": [
  {
   "cell_type": "markdown",
   "metadata": {},
   "source": [
    "# Energy Flows for PV ICE"
   ]
  },
  {
   "cell_type": "markdown",
   "metadata": {},
   "source": [
    "This journal documents and demonstrates the new Energy flows calculation capacity of PV ICE"
   ]
  },
  {
   "cell_type": "code",
   "execution_count": 8,
   "metadata": {},
   "outputs": [
    {
     "name": "stdout",
     "output_type": "stream",
     "text": [
      "Your simulation will be stored in C:\\Users\\hmirletz\\Documents\\GitHub\\PV_ICE\\PV_ICE\\TEMP\n"
     ]
    }
   ],
   "source": [
    "import os\n",
    "from pathlib import Path\n",
    "import PV_ICE\n",
    "import matplotlib.pyplot as plt\n",
    "import pandas as pd\n",
    "import numpy as np\n",
    "\n",
    "testfolder = str(Path().resolve().parent.parent / 'PV_ICE' / 'TEMP')\n",
    "baselinesfolder = str(Path().resolve().parent.parent /'PV_ICE' / 'baselines')\n",
    "\n",
    "# Another option using relative address; for some operative systems you might need '/' instead of '\\'\n",
    "# testfolder = os.path.abspath(r'..\\..\\PV_ICE\\TEMP')  \n",
    "\n",
    "print (\"Your simulation will be stored in %s\" % testfolder)"
   ]
  },
  {
   "cell_type": "code",
   "execution_count": 9,
   "metadata": {},
   "outputs": [
    {
     "data": {
      "text/plain": [
       "'v0.2.0+382.g64a81aa.dirty'"
      ]
     },
     "execution_count": 9,
     "metadata": {},
     "output_type": "execute_result"
    }
   ],
   "source": [
    "PV_ICE.__version__"
   ]
  },
  {
   "cell_type": "markdown",
   "metadata": {},
   "source": [
    "### Add Scenarios and Materials"
   ]
  },
  {
   "cell_type": "code",
   "execution_count": 10,
   "metadata": {},
   "outputs": [
    {
     "name": "stdout",
     "output_type": "stream",
     "text": [
      "C:\\Users\\hmirletz\\Documents\\GitHub\\PV_ICE\\PV_ICE\\TEMP\n"
     ]
    }
   ],
   "source": [
    "cwd=os.getcwd()\n",
    "print(os.getcwd())\n"
   ]
  },
  {
   "cell_type": "code",
   "execution_count": 11,
   "metadata": {
    "scrolled": false
   },
   "outputs": [],
   "source": [
    "MATERIALS = ['glass']#,'aluminium_frames','silver','silicon', 'copper', 'encapsulant', 'backsheet']\n",
    "MATERIAL = MATERIALS[0]\n",
    "\n",
    "moduleFile_m = r'..\\baselines\\baseline_modules_mass_US.csv'\n",
    "moduleFile_e = r'..\\baselines\\baseline_modules_energy.csv'"
   ]
  },
  {
   "cell_type": "code",
   "execution_count": 13,
   "metadata": {},
   "outputs": [
    {
     "name": "stdout",
     "output_type": "stream",
     "text": [
      "path = C:\\Users\\hmirletz\\Documents\\GitHub\\PV_ICE\\PV_ICE\\TEMP\n"
     ]
    }
   ],
   "source": [
    "r1 = PV_ICE.Simulation(name='energy_test', path=testfolder)\n",
    "\n",
    "r1.createScenario(name='energy_test', massmodulefile=moduleFile_m, energymodulefile=moduleFile_e)\n",
    "for mat in range (0, len(MATERIALS)):\n",
    "    matbaseline_m = os.path.join(baselinesfolder,'baseline_material_mass_'+MATERIALS[mat]+'.csv')\n",
    "    matbaseline_e = os.path.join(baselinesfolder,'baseline_material_energy_'+MATERIALS[mat]+'.csv')\n",
    "    r1.scenario['energy_test'].addMaterial(MATERIALS[mat], massmatfile=matbaseline_m, energymatfile=matbaseline_e)\n"
   ]
  },
  {
   "cell_type": "markdown",
   "metadata": {},
   "source": [
    "# Calculate flows"
   ]
  },
  {
   "cell_type": "code",
   "execution_count": 14,
   "metadata": {},
   "outputs": [
    {
     "name": "stdout",
     "output_type": "stream",
     "text": [
      ">>>> Calculating Material Flows <<<<\n",
      "\n",
      "Working on Scenario:  energy_test\n",
      "********************\n",
      "Finished Area+Power Generation Calculations\n",
      "==> Working on Material :  glass\n",
      "\n",
      "\n",
      ">>>> Calculating Energy Flows <<<<\n",
      "\n",
      "Working on Scenario:  energy_test\n",
      "********************\n",
      "==> Working on Energy for Material :  glass\n"
     ]
    }
   ],
   "source": [
    "r1.calculateFlows()"
   ]
  },
  {
   "cell_type": "markdown",
   "metadata": {},
   "source": [
    "Now run the energy calculation. Currently this is not a class, just a function that will return a dataframe. Each scenario will need to be run seperately, and read in the perovskite energy files."
   ]
  },
  {
   "cell_type": "markdown",
   "metadata": {},
   "source": [
    "## Energy Analysis"
   ]
  },
  {
   "cell_type": "code",
   "execution_count": 15,
   "metadata": {},
   "outputs": [
    {
     "name": "stderr",
     "output_type": "stream",
     "text": [
      "C:\\Users\\hmirletz\\Documents\\GitHub\\PV_ICE\\PV_ICE\\main.py:1889: SettingWithCopyWarning: \n",
      "A value is trying to be set on a copy of a slice from a DataFrame.\n",
      "Try using .loc[row_indexer,col_indexer] = value instead\n",
      "\n",
      "See the caveats in the documentation: https://pandas.pydata.org/pandas-docs/stable/user_guide/indexing.html#returning-a-view-versus-a-copy\n",
      "  energy_demands[colname] = energy_demands.filter(like=scen).sum(axis=1)\n"
     ]
    }
   ],
   "source": [
    "allenergy, energyGen, energy_demands = r1.aggregateEnergyResults()"
   ]
  },
  {
   "cell_type": "code",
   "execution_count": 19,
   "metadata": {},
   "outputs": [
    {
     "data": {
      "text/plain": [
       "Index(['energy_test_mod_MFG', 'energy_test_mod_Install',\n",
       "       'energy_test_mod_OandM', 'energy_test_mod_Repair',\n",
       "       'energy_test_mod_Demount', 'energy_test_mod_Store',\n",
       "       'energy_test_mod_Resell_Certify', 'energy_test_mod_ReMFG_Disassembly',\n",
       "       'energy_test_mod_Recycle_Crush', 'energy_test_glass_mat_extraction',\n",
       "       'energy_test_glass_mat_MFG_virgin', 'energy_test_glass_mat_MFGScrap_LQ',\n",
       "       'energy_test_glass_mat_MFGScrap_HQ', 'energy_test_glass_mat_Landfill',\n",
       "       'energy_test_glass_mat_EoL_ReMFG_clean',\n",
       "       'energy_test_glass_mat_Recycled_LQ',\n",
       "       'energy_test_glass_mat_Recycled_HQ', 'energy_test_e_demand_total',\n",
       "       'energy_test_glass_mat_MFG_virgin_fuel',\n",
       "       'energy_test_glass_mat_MFGScrap_HQ_fuel',\n",
       "       'energy_test_glass_mat_Landfill_fuel'],\n",
       "      dtype='object')"
      ]
     },
     "execution_count": 19,
     "metadata": {},
     "output_type": "execute_result"
    }
   ],
   "source": [
    "energy_demands#.filter(like='_fuel')\n",
    "energy_demands.columns"
   ]
  },
  {
   "cell_type": "code",
   "execution_count": 20,
   "metadata": {},
   "outputs": [
    {
     "data": {
      "text/plain": [
       "year\n",
       "1995    0.800397\n",
       "1996    0.800397\n",
       "1997    0.800397\n",
       "1998    0.800267\n",
       "1999    0.800154\n",
       "2000    0.800060\n",
       "2001    0.799984\n",
       "2002    0.802001\n",
       "2003    0.804099\n",
       "2004    0.806283\n",
       "2005    0.808557\n",
       "2006    0.810924\n",
       "2007    0.814757\n",
       "2008    0.818673\n",
       "2009    0.822673\n",
       "2010    0.826760\n",
       "2011    0.830937\n",
       "2012    0.835207\n",
       "2013    0.839573\n",
       "2014    0.844039\n",
       "2015    0.848608\n",
       "2016    0.853283\n",
       "2017    0.858069\n",
       "2018    0.862969\n",
       "2019    0.867987\n",
       "2020    0.867987\n",
       "2021    0.867987\n",
       "2022    0.867987\n",
       "2023    0.867987\n",
       "2024    0.867987\n",
       "2025    0.867987\n",
       "2026    0.867987\n",
       "2027    0.867987\n",
       "2028    0.867987\n",
       "2029    0.867987\n",
       "2030    0.867987\n",
       "2031    0.867987\n",
       "2032    0.867987\n",
       "2033    0.867987\n",
       "2034    0.867987\n",
       "2035    0.867987\n",
       "2036    0.867987\n",
       "2037    0.867987\n",
       "2038    0.867987\n",
       "2039    0.867987\n",
       "2040    0.867987\n",
       "2041    0.867987\n",
       "2042    0.867987\n",
       "2043    0.867987\n",
       "2044    0.867987\n",
       "2045    0.867987\n",
       "2046    0.867987\n",
       "2047    0.867987\n",
       "2048    0.867987\n",
       "2049    0.867987\n",
       "2050    0.867987\n",
       "dtype: float64"
      ]
     },
     "execution_count": 20,
     "metadata": {},
     "output_type": "execute_result"
    }
   ],
   "source": [
    "energy_demands['energy_test_glass_mat_MFG_virgin_fuel']/energy_demands['energy_test_glass_mat_MFG_virgin']"
   ]
  }
 ],
 "metadata": {
  "kernelspec": {
   "display_name": "Python 3 (ipykernel)",
   "language": "python",
   "name": "python3"
  },
  "language_info": {
   "codemirror_mode": {
    "name": "ipython",
    "version": 3
   },
   "file_extension": ".py",
   "mimetype": "text/x-python",
   "name": "python",
   "nbconvert_exporter": "python",
   "pygments_lexer": "ipython3",
   "version": "3.8.8"
  }
 },
 "nbformat": 4,
 "nbformat_minor": 2
}
