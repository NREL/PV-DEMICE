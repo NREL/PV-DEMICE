{
 "cells": [
  {
   "cell_type": "markdown",
   "metadata": {},
   "source": [
    "# 100% RE by 2050 and the Effects of Lifetime and Recycling\n",
    "\n",
    "Comparison case using the functions in PV ICE to compare how PV module lifetime and PV module recycling effect the energy transition to 100% clean energy by 2050.\n",
    "\n",
    "\n",
    "\n",
    "\n",
    "\n",
    "![Folder 15 vs 50 year Module](../images_wiki/2_15vs50Overview.PNG)"
   ]
  },
  {
   "cell_type": "code",
   "execution_count": 1,
   "metadata": {},
   "outputs": [
    {
     "data": {
      "text/plain": [
       "'v0.2.0+169.gf24c0ba.dirty'"
      ]
     },
     "execution_count": 1,
     "metadata": {},
     "output_type": "execute_result"
    }
   ],
   "source": [
    "import PV_ICE\n",
    "import numpy as np\n",
    "import pandas as pd\n",
    "import os,sys\n",
    "import matplotlib.pyplot as plt\n",
    "from IPython.display import display\n",
    "plt.rcParams.update({'font.size': 22})\n",
    "plt.rcParams['figure.figsize'] = (12, 8)\n",
    "\n",
    "import os\n",
    "from pathlib import Path\n",
    "\n",
    "PV_ICE.__version__"
   ]
  },
  {
   "cell_type": "code",
   "execution_count": 2,
   "metadata": {},
   "outputs": [
    {
     "name": "stdout",
     "output_type": "stream",
     "text": [
      "Your simulation will be stored in C:\\Users\\hmirletz\\Documents\\GitHub\\PV_ICE\\PV_ICE\\TEMP\\SFs_LifeVSRecycle\n",
      "Your simulation input data will be written/read from C:\\Users\\hmirletz\\Documents\\GitHub\\PV_ICE\\PV_ICE\\TEMP\n",
      "Material files will be from C:\\Users\\hmirletz\\Documents\\GitHub\\PV_ICE\\PV_ICE\\baselines\n"
     ]
    }
   ],
   "source": [
    "testfolder = str(Path().resolve().parent.parent / 'PV_ICE' / 'TEMP' / 'SFs_LifeVSRecycle')\n",
    "inputfolder = str(Path().resolve().parent.parent / 'PV_ICE' / 'TEMP')\n",
    "materialsfolder = str(Path().resolve().parent.parent /'PV_ICE' / 'baselines')\n",
    "print (\"Your simulation will be stored in %s\" % testfolder)\n",
    "print(\"Your simulation input data will be written/read from %s\" % inputfolder)\n",
    "print(\"Material files will be from %s\" % materialsfolder)"
   ]
  },
  {
   "cell_type": "code",
   "execution_count": 3,
   "metadata": {},
   "outputs": [],
   "source": [
    "if not os.path.exists(testfolder):\n",
    "    os.makedirs(testfolder)"
   ]
  },
  {
   "cell_type": "markdown",
   "metadata": {},
   "source": [
    "# Deployment Schedule File Preparation"
   ]
  },
  {
   "cell_type": "markdown",
   "metadata": {},
   "source": [
    "NOTE: this section of code should only need to be run once to populate data, and again anytime the ReeDS file is updated."
   ]
  },
  {
   "cell_type": "markdown",
   "metadata": {},
   "source": [
    "First, we load the Module Baseline. This file will be used later to populate all the columns other than 'new_Installed_Capacity_[MW]'. Deployment schedule for this analysis will be supplied by the REEDS model. This analysis will use PV ICE developed material and module baselines."
   ]
  },
  {
   "cell_type": "code",
   "execution_count": 4,
   "metadata": {},
   "outputs": [
    {
     "name": "stdout",
     "output_type": "stream",
     "text": [
      "path = C:\\Users\\hmirletz\\Documents\\GitHub\\PV_ICE\\PV_ICE\\TEMP\n"
     ]
    }
   ],
   "source": [
    "rtest = PV_ICE.Simulation(name='Sim1', path=inputfolder)\n",
    "rtest.createScenario(name='test', file=r'..\\baselines\\baseline_modules_US.csv')\n",
    "baseline = rtest.scenario['test'].data\n",
    "baseline = baseline.drop(columns=['new_Installed_Capacity_[MW]'])\n",
    "baseline.set_index('year', inplace=True)\n",
    "baseline.index = pd.PeriodIndex(baseline.index, freq='A')  # A -- Annual\n",
    "#baseline.head(5)"
   ]
  },
  {
   "cell_type": "markdown",
   "metadata": {},
   "source": [
    "Drop 1995 through 2009 because chosen deployment schedule begins in 2010. Technically this neglects ~1.5 GW of installs from 1995 through 2009."
   ]
  },
  {
   "cell_type": "code",
   "execution_count": 5,
   "metadata": {},
   "outputs": [],
   "source": [
    "baseline.drop(baseline.loc['1995':'2009'].index, inplace=True)"
   ]
  },
  {
   "cell_type": "markdown",
   "metadata": {},
   "source": [
    "Now we load the deployment schedule. This is derived from ReEDS simulation output, and in this case we're using one of the deployment projections as used in Solar Futures (includes PCA regions, States). \n",
    "\n",
    "NOTE: The ReEDS deployment file is stored outside of the PV ICE folder and therefore not publicly available on github. Please contact the authors for this file."
   ]
  },
  {
   "cell_type": "code",
   "execution_count": 6,
   "metadata": {
    "scrolled": true
   },
   "outputs": [
    {
     "name": "stdout",
     "output_type": "stream",
     "text": [
      "Input file is stored in C:\\Users\\hmirletz\\Documents\\GitHub\\December Core Scenarios ReEDS Outputs Solar Futures v3a.xlsx\n"
     ]
    }
   ],
   "source": [
    "#please contact the authors for this file\n",
    "reedsFile = str(Path().resolve().parent.parent.parent / 'December Core Scenarios ReEDS Outputs Solar Futures v3a.xlsx')\n",
    "print (\"Input file is stored in %s\" % reedsFile)"
   ]
  },
  {
   "cell_type": "code",
   "execution_count": 7,
   "metadata": {},
   "outputs": [],
   "source": [
    "REEDSInput = pd.read_excel(reedsFile, sheet_name=\"new installs PV\")\n",
    "#NEED TO CHECK THAT AC to DC has been taken care of in excel file (there is a multiplier, is set to 1)"
   ]
  },
  {
   "cell_type": "markdown",
   "metadata": {},
   "source": [
    "First create a copy which groups the data by PCA region"
   ]
  },
  {
   "cell_type": "code",
   "execution_count": 8,
   "metadata": {},
   "outputs": [],
   "source": [
    "rawdf = REEDSInput.copy()\n",
    "rawdf.drop(columns=['State'], inplace=True)\n",
    "rawdf.drop(columns=['Tech'], inplace=True) #tech=pvtotal from \"new installs PV sheet\", so can drop\n",
    "rawdf.set_index(['Scenario','Year','PCA'], inplace=True)"
   ]
  },
  {
   "cell_type": "markdown",
   "metadata": {},
   "source": [
    "For each Scenario and for each PCA, combine with baseline and save as input file. This will be in a folder PCAs under the simulation folder in TEMP"
   ]
  },
  {
   "cell_type": "code",
   "execution_count": 9,
   "metadata": {},
   "outputs": [],
   "source": [
    "for ii in range (len(rawdf.unstack(level=1))):\n",
    "    PCA = rawdf.unstack(level=1).iloc[ii].name[1]\n",
    "    SCEN = rawdf.unstack(level=1).iloc[ii].name[0]\n",
    "    SCEN=SCEN.replace('+', '_')\n",
    "    filetitle = SCEN+'_'+PCA +'.csv'\n",
    "    subtestfolder = os.path.join(testfolder, 'PCAs')\n",
    "    if not os.path.exists(subtestfolder):\n",
    "        os.makedirs(subtestfolder)\n",
    "    filetitle = os.path.join(subtestfolder, filetitle)\n",
    "    A = rawdf.unstack(level=1).iloc[ii]\n",
    "    A = A.droplevel(level=0)\n",
    "    A.name = 'new_Installed_Capacity_[MW]'\n",
    "    A = pd.DataFrame(A)\n",
    "    A.index=pd.PeriodIndex(A.index, freq='A')\n",
    "    A = pd.DataFrame(A)\n",
    "    A['new_Installed_Capacity_[MW]'] = A['new_Installed_Capacity_[MW]'] * 0.85\n",
    "    A['new_Installed_Capacity_[MW]'] = A['new_Installed_Capacity_[MW]'] * 1000   # ReEDS file is in GW.\n",
    "    # Add other columns\n",
    "    A = pd.concat([A, baseline.reindex(A.index)], axis=1)\n",
    "   \n",
    "    header = \"year,new_Installed_Capacity_[MW],mod_eff,mod_reliability_t50,mod_reliability_t90,mod_degradation,\"\\\n",
    "    \"mod_lifetime,mod_MFG_eff,mod_Repair,mod_MerchantTail,mod_EOL_collection_eff,mod_EOL_pg0_resell,\"\\\n",
    "    \"mod_EOL_pg1_landfill,mod_EOL_pg2_stored,mod_EOL_pg3_reMFG,mod_EOL_pg4_recycled,mod_EOL_reMFG_yield,\"\\\n",
    "    \"mod_EOL_sp_reMFG_recycle,mod_EOL_pb1_landfill,mod_EOL_pb2_stored,mod_EOL_pb3_reMFG,mod_EOL_pb4_recycled\\n\"\\\n",
    "    \"year,MW,%,years,years,%,years,%,%,%,%,%,%,%,%,%,%,%,%,%,%,%\\n\"\n",
    "\n",
    "    with open(filetitle, 'w', newline='') as ict:\n",
    "    # Write the header lines, including the index variable for\n",
    "    # the last one if you're letting Pandas produce that for you.\n",
    "    # (see above).\n",
    "        for line in header:\n",
    "            ict.write(line)\n",
    "\n",
    "        #    savedata.to_csv(ict, index=False)\n",
    "        A.to_csv(ict, header=False)"
   ]
  },
  {
   "cell_type": "markdown",
   "metadata": {},
   "source": [
    "For each Scenario and each State, combine with baseline file and save as input file. This will be in a folder States under the simulation folder in TEMP"
   ]
  },
  {
   "cell_type": "code",
   "execution_count": 10,
   "metadata": {},
   "outputs": [],
   "source": [
    "rawdf = REEDSInput.copy()\n",
    "#rawdf.drop(columns=['State'], inplace=True)\n",
    "rawdf.drop(columns=['Tech'], inplace=True)\n",
    "rawdf.set_index(['Scenario','Year','PCA', 'State'], inplace=True)"
   ]
  },
  {
   "cell_type": "code",
   "execution_count": 11,
   "metadata": {},
   "outputs": [],
   "source": [
    "df = rawdf.groupby(['Scenario','State', 'Year'])['Capacity (GW)'].sum()\n",
    "df = pd.DataFrame(df)"
   ]
  },
  {
   "cell_type": "code",
   "execution_count": 12,
   "metadata": {},
   "outputs": [],
   "source": [
    "for ii in range (len(df.unstack(level=2))):   \n",
    "    STATE = df.unstack(level=2).iloc[ii].name[1]\n",
    "    SCEN = df.unstack(level=2).iloc[ii].name[0]\n",
    "    SCEN=SCEN.replace('+', '_')\n",
    "    filetitle = SCEN+'_'+STATE +'.csv'\n",
    "    \n",
    "    subtestfolder = os.path.join(testfolder, 'States')\n",
    "    if not os.path.exists(subtestfolder):\n",
    "        os.makedirs(subtestfolder)\n",
    "    filetitle = os.path.join(subtestfolder, filetitle)\n",
    "\n",
    "    A = df.unstack(level=2).iloc[ii]\n",
    "    A = A.droplevel(level=0)\n",
    "    A.name = 'new_Installed_Capacity_[MW]'\n",
    "    A = pd.DataFrame(A)\n",
    "    A.index=pd.PeriodIndex(A.index, freq='A')\n",
    "    A = pd.DataFrame(A)\n",
    "    A['new_Installed_Capacity_[MW]'] = A['new_Installed_Capacity_[MW]'] * 0.85 # marketshares['Si']\n",
    "    A['new_Installed_Capacity_[MW]'] = A['new_Installed_Capacity_[MW]'] * 1000   # ReEDS file is in GW.\n",
    "    # Add other columns\n",
    "    A = pd.concat([A, baseline.reindex(A.index)], axis=1)\n",
    "    \n",
    "    \n",
    "    header = \"year,new_Installed_Capacity_[MW],mod_eff,mod_reliability_t50,mod_reliability_t90,mod_degradation,\"\\\n",
    "    \"mod_lifetime,mod_MFG_eff,mod_Repair,mod_MerchantTail,mod_EOL_collection_eff,mod_EOL_pg0_resell,\"\\\n",
    "    \"mod_EOL_pg1_landfill,mod_EOL_pg2_stored,mod_EOL_pg3_reMFG,mod_EOL_pg4_recycled,mod_EOL_reMFG_yield,\"\\\n",
    "    \"mod_EOL_sp_reMFG_recycle,mod_EOL_pb1_landfill,mod_EOL_pb2_stored,mod_EOL_pb3_reMFG,mod_EOL_pb4_recycled\\n\"\\\n",
    "    \"year,MW,%,years,years,%,years,%,%,%,%,%,%,%,%,%,%,%,%,%,%,%\\n\"\n",
    "\n",
    "    with open(filetitle, 'w', newline='') as ict:\n",
    "    # Write the header lines, including the index variable for\n",
    "    # the last one if you're letting Pandas produce that for you.\n",
    "    # (see above).\n",
    "        for line in header:\n",
    "            ict.write(line)\n",
    "\n",
    "        #    savedata.to_csv(ict, index=False)\n",
    "        A.to_csv(ict, header=False)"
   ]
  },
  {
   "cell_type": "markdown",
   "metadata": {},
   "source": [
    "Finally, make an overall US baseline which ignores PCA regions and states. This is useful for speeding the simulation and is the deployment schedule used in this analysis."
   ]
  },
  {
   "cell_type": "code",
   "execution_count": 13,
   "metadata": {},
   "outputs": [],
   "source": [
    "rawdf = REEDSInput.copy()\n",
    "#rawdf.drop(columns=['State'], inplace=True)\n",
    "rawdf.drop(columns=['Tech'], inplace=True)\n",
    "rawdf.set_index(['Scenario','Year'], inplace=True)"
   ]
  },
  {
   "cell_type": "code",
   "execution_count": 14,
   "metadata": {},
   "outputs": [],
   "source": [
    "df = rawdf.groupby(['Scenario','Year'])['Capacity (GW)'].sum()"
   ]
  },
  {
   "cell_type": "code",
   "execution_count": 15,
   "metadata": {},
   "outputs": [],
   "source": [
    "for ii in range (len(df.unstack(level=1))):\n",
    "    SCEN = df.unstack(level=1).index[ii]\n",
    "    SCEN=SCEN.replace('+', '_')\n",
    "    filetitle = SCEN+'.csv'\n",
    "    \n",
    "    subtestfolder = os.path.join(testfolder, 'USA')\n",
    "    if not os.path.exists(subtestfolder):\n",
    "        os.makedirs(subtestfolder)\n",
    "    filetitle = os.path.join(subtestfolder, filetitle)\n",
    "    \n",
    "    A = df.unstack(level=1).iloc[ii]\n",
    "\n",
    "    A.name = 'new_Installed_Capacity_[MW]'\n",
    "    A = pd.DataFrame(A)\n",
    "    A.index=pd.PeriodIndex(A.index, freq='A')\n",
    "    A = pd.DataFrame(A)\n",
    "    A['new_Installed_Capacity_[MW]'] = A['new_Installed_Capacity_[MW]'] * 0.85 # marketshares['Si']\n",
    "    A['new_Installed_Capacity_[MW]'] = A['new_Installed_Capacity_[MW]'] * 1000   # ReEDS file is in GW.\n",
    "    # Add other columns\n",
    "    A = pd.concat([A, baseline.reindex(A.index)], axis=1)\n",
    "   \n",
    "    header = \"year,new_Installed_Capacity_[MW],mod_eff,mod_reliability_t50,mod_reliability_t90,mod_degradation,\"\\\n",
    "    \"mod_lifetime,mod_MFG_eff,mod_Repair,mod_MerchantTail,mod_EOL_collection_eff,mod_EOL_pg0_resell,\"\\\n",
    "    \"mod_EOL_pg1_landfill,mod_EOL_pg2_stored,mod_EOL_pg3_reMFG,mod_EOL_pg4_recycled,mod_EOL_reMFG_yield,\"\\\n",
    "    \"mod_EOL_sp_reMFG_recycle,mod_EOL_pb1_landfill,mod_EOL_pb2_stored,mod_EOL_pb3_reMFG,mod_EOL_pb4_recycled\\n\"\\\n",
    "    \"year,MW,%,years,years,%,years,%,%,%,%,%,%,%,%,%,%,%,%,%,%,%\\n\"\n",
    "\n",
    "    with open(filetitle, 'w', newline='') as ict:\n",
    "    # Write the header lines, including the index variable for\n",
    "    # the last one if you're letting Pandas produce that for you.\n",
    "    # (see above).\n",
    "        for line in header:\n",
    "            ict.write(line)\n",
    "\n",
    "        #    savedata.to_csv(ict, index=False)\n",
    "        A.to_csv(ict, header=False)"
   ]
  },
  {
   "cell_type": "markdown",
   "metadata": {},
   "source": [
    "# Analysis"
   ]
  },
  {
   "cell_type": "markdown",
   "metadata": {},
   "source": [
    "The Solar Futures report has a variety of deployment scenarios.  In this case, we are only concerned with the highest capacity and deployment rate, Decarbonization + Electrification (Decarb+E).\n",
    "\n",
    "step: Collect all the scenario names and downselect to the scenario(s) of interest."
   ]
  },
  {
   "cell_type": "code",
   "execution_count": 16,
   "metadata": {},
   "outputs": [
    {
     "data": {
      "text/plain": [
       "['95-by-35_Elec.Adv_DR']"
      ]
     },
     "execution_count": 16,
     "metadata": {},
     "output_type": "execute_result"
    }
   ],
   "source": [
    "scenarios = ['Reference.Mod',\n",
    " 'Reference.Adv',\n",
    " 'Reference.Adv_DR',\n",
    " '95-by-35.Mod',\n",
    " '95-by-35.Adv',\n",
    " '95-by-35.Adv_DR',\n",
    " '95-by-35_Elec.Mod',\n",
    " '95-by-35_Elec.Adv',\n",
    " '95-by-35_Elec.Adv_DR']\n",
    "\n",
    "SFscenarios = ['95-by-35_Elec.Adv_DR'] #Decarb+E\n",
    "SFscenarios"
   ]
  },
  {
   "cell_type": "code",
   "execution_count": 17,
   "metadata": {},
   "outputs": [],
   "source": [
    "#add materials for simulation\n",
    "MATERIALS = ['glass','aluminium_frames','silicon','silver', 'copper', 'encapsulant', 'backsheet']"
   ]
  },
  {
   "cell_type": "markdown",
   "metadata": {},
   "source": [
    "Set up the PV ICE simulation with scenario and materials"
   ]
  },
  {
   "cell_type": "code",
   "execution_count": 18,
   "metadata": {},
   "outputs": [
    {
     "name": "stdout",
     "output_type": "stream",
     "text": [
      "path = C:\\Users\\hmirletz\\Documents\\GitHub\\PV_ICE\\PV_ICE\\TEMP\\SFs_LifeVSRecycle\n",
      "endYear not provided. Setting to end year of Module data 2050\n"
     ]
    }
   ],
   "source": [
    "r1 = PV_ICE.Simulation(name='SF-LvR', path=testfolder) #create simulation r1\n",
    "#baselinefolder = r'..\\baselines'    \n",
    "\n",
    "for scen in range(len(SFscenarios)):\n",
    "    modulefile = SFscenarios[scen]+'.csv' #pick the scenario csv\n",
    "    modulefile = os.path.join(testfolder, 'USA', modulefile) #point at the file path for the whole US\n",
    "    r1.createScenario(name='Decarb+E_PVICE_defaults', file=modulefile) #change name=SFscenarios[scen] if multiple scenarios\n",
    "    r1.scenario['Decarb+E_PVICE_defaults'].addMaterials(MATERIALS)  # baselinefolder=baselinefolder)\n",
    "    r1.trim_Years(startYear=2010)"
   ]
  },
  {
   "cell_type": "markdown",
   "metadata": {},
   "source": [
    "Run the simulation"
   ]
  },
  {
   "cell_type": "code",
   "execution_count": 19,
   "metadata": {
    "scrolled": false
   },
   "outputs": [
    {
     "name": "stdout",
     "output_type": "stream",
     "text": [
      "Working on Scenario:  Decarb+E_PVICE_defaults\n",
      "********************\n",
      "Finished Area+Power Generation Calculations\n",
      "==> Working on Material :  glass\n",
      "==> Working on Material :  aluminium_frames\n",
      "==> Working on Material :  silicon\n",
      "==> Working on Material :  silver\n",
      "==> Working on Material :  copper\n",
      "==> Working on Material :  encapsulant\n",
      "==> Working on Material :  backsheet\n"
     ]
    }
   ],
   "source": [
    "r1.calculateMassFlow()"
   ]
  },
  {
   "cell_type": "code",
   "execution_count": 20,
   "metadata": {},
   "outputs": [
    {
     "data": {
      "text/html": [
       "<div>\n",
       "<style scoped>\n",
       "    .dataframe tbody tr th:only-of-type {\n",
       "        vertical-align: middle;\n",
       "    }\n",
       "\n",
       "    .dataframe tbody tr th {\n",
       "        vertical-align: top;\n",
       "    }\n",
       "\n",
       "    .dataframe thead th {\n",
       "        text-align: right;\n",
       "    }\n",
       "</style>\n",
       "<table border=\"1\" class=\"dataframe\">\n",
       "  <thead>\n",
       "    <tr style=\"text-align: right;\">\n",
       "      <th></th>\n",
       "      <th>year</th>\n",
       "      <th>mat_virgin_eff</th>\n",
       "      <th>mat_massperm2</th>\n",
       "      <th>mat_MFG_eff</th>\n",
       "      <th>mat_MFG_scrap_Recycled</th>\n",
       "      <th>mat_MFG_scrap_Recycling_eff</th>\n",
       "      <th>mat_MFG_scrap_Recycled_into_HQ</th>\n",
       "      <th>mat_MFG_scrap_Recycled_into_HQ_Reused4MFG</th>\n",
       "      <th>mat_PG3_ReMFG_target</th>\n",
       "      <th>mat_ReMFG_yield</th>\n",
       "      <th>...</th>\n",
       "      <th>mat_MFG_Recycled_into_HQ</th>\n",
       "      <th>mat_MFG_Recycled_into_OQ</th>\n",
       "      <th>mat_MFG_Recycled_HQ_into_MFG</th>\n",
       "      <th>mat_MFG_Recycled_HQ_into_OU</th>\n",
       "      <th>mat_Virgin_Stock</th>\n",
       "      <th>mat_Virgin_Stock_Raw</th>\n",
       "      <th>mat_Total_EOL_Landfilled</th>\n",
       "      <th>mat_Total_MFG_Landfilled</th>\n",
       "      <th>mat_Total_Landfilled</th>\n",
       "      <th>mat_Total_Recycled_OU</th>\n",
       "    </tr>\n",
       "  </thead>\n",
       "  <tbody>\n",
       "    <tr>\n",
       "      <th>36</th>\n",
       "      <td>2046</td>\n",
       "      <td>60.0</td>\n",
       "      <td>10120.275</td>\n",
       "      <td>99.0</td>\n",
       "      <td>80.0</td>\n",
       "      <td>50.0</td>\n",
       "      <td>20.0</td>\n",
       "      <td>10.0</td>\n",
       "      <td>0.0</td>\n",
       "      <td>50.0</td>\n",
       "      <td>...</td>\n",
       "      <td>7.225230e+09</td>\n",
       "      <td>2.890092e+10</td>\n",
       "      <td>7.225230e+08</td>\n",
       "      <td>6.502707e+09</td>\n",
       "      <td>3.029895e+12</td>\n",
       "      <td>5.049824e+12</td>\n",
       "      <td>3.773865e+11</td>\n",
       "      <td>5.418922e+10</td>\n",
       "      <td>4.315757e+11</td>\n",
       "      <td>4.363516e+10</td>\n",
       "    </tr>\n",
       "    <tr>\n",
       "      <th>37</th>\n",
       "      <td>2047</td>\n",
       "      <td>60.0</td>\n",
       "      <td>10120.275</td>\n",
       "      <td>99.0</td>\n",
       "      <td>80.0</td>\n",
       "      <td>50.0</td>\n",
       "      <td>20.0</td>\n",
       "      <td>10.0</td>\n",
       "      <td>0.0</td>\n",
       "      <td>50.0</td>\n",
       "      <td>...</td>\n",
       "      <td>4.270160e+09</td>\n",
       "      <td>1.708064e+10</td>\n",
       "      <td>4.270160e+08</td>\n",
       "      <td>3.843144e+09</td>\n",
       "      <td>1.790694e+12</td>\n",
       "      <td>2.984490e+12</td>\n",
       "      <td>2.016349e+11</td>\n",
       "      <td>3.202620e+10</td>\n",
       "      <td>2.336611e+11</td>\n",
       "      <td>2.532183e+10</td>\n",
       "    </tr>\n",
       "    <tr>\n",
       "      <th>38</th>\n",
       "      <td>2048</td>\n",
       "      <td>60.0</td>\n",
       "      <td>10120.275</td>\n",
       "      <td>99.0</td>\n",
       "      <td>80.0</td>\n",
       "      <td>50.0</td>\n",
       "      <td>20.0</td>\n",
       "      <td>10.0</td>\n",
       "      <td>0.0</td>\n",
       "      <td>50.0</td>\n",
       "      <td>...</td>\n",
       "      <td>4.260431e+09</td>\n",
       "      <td>1.704172e+10</td>\n",
       "      <td>4.260431e+08</td>\n",
       "      <td>3.834388e+09</td>\n",
       "      <td>1.786604e+12</td>\n",
       "      <td>2.977674e+12</td>\n",
       "      <td>2.388191e+11</td>\n",
       "      <td>3.195323e+10</td>\n",
       "      <td>2.707724e+11</td>\n",
       "      <td>2.608522e+10</td>\n",
       "    </tr>\n",
       "    <tr>\n",
       "      <th>39</th>\n",
       "      <td>2049</td>\n",
       "      <td>60.0</td>\n",
       "      <td>10120.275</td>\n",
       "      <td>99.0</td>\n",
       "      <td>80.0</td>\n",
       "      <td>50.0</td>\n",
       "      <td>20.0</td>\n",
       "      <td>10.0</td>\n",
       "      <td>0.0</td>\n",
       "      <td>50.0</td>\n",
       "      <td>...</td>\n",
       "      <td>6.976729e+09</td>\n",
       "      <td>2.790692e+10</td>\n",
       "      <td>6.976729e+08</td>\n",
       "      <td>6.279056e+09</td>\n",
       "      <td>2.925684e+12</td>\n",
       "      <td>4.876139e+12</td>\n",
       "      <td>3.739156e+11</td>\n",
       "      <td>5.232547e+10</td>\n",
       "      <td>4.262411e+11</td>\n",
       "      <td>4.234180e+10</td>\n",
       "    </tr>\n",
       "    <tr>\n",
       "      <th>40</th>\n",
       "      <td>2050</td>\n",
       "      <td>60.0</td>\n",
       "      <td>10120.275</td>\n",
       "      <td>99.0</td>\n",
       "      <td>80.0</td>\n",
       "      <td>50.0</td>\n",
       "      <td>20.0</td>\n",
       "      <td>10.0</td>\n",
       "      <td>0.0</td>\n",
       "      <td>50.0</td>\n",
       "      <td>...</td>\n",
       "      <td>6.961875e+09</td>\n",
       "      <td>2.784750e+10</td>\n",
       "      <td>6.961875e+08</td>\n",
       "      <td>6.265688e+09</td>\n",
       "      <td>2.919476e+12</td>\n",
       "      <td>4.865793e+12</td>\n",
       "      <td>2.939902e+11</td>\n",
       "      <td>5.221406e+10</td>\n",
       "      <td>3.462042e+11</td>\n",
       "      <td>4.052568e+10</td>\n",
       "    </tr>\n",
       "  </tbody>\n",
       "</table>\n",
       "<p>5 rows × 56 columns</p>\n",
       "</div>"
      ],
      "text/plain": [
       "    year  mat_virgin_eff  mat_massperm2  mat_MFG_eff  mat_MFG_scrap_Recycled  \\\n",
       "36  2046            60.0      10120.275         99.0                    80.0   \n",
       "37  2047            60.0      10120.275         99.0                    80.0   \n",
       "38  2048            60.0      10120.275         99.0                    80.0   \n",
       "39  2049            60.0      10120.275         99.0                    80.0   \n",
       "40  2050            60.0      10120.275         99.0                    80.0   \n",
       "\n",
       "    mat_MFG_scrap_Recycling_eff  mat_MFG_scrap_Recycled_into_HQ  \\\n",
       "36                         50.0                            20.0   \n",
       "37                         50.0                            20.0   \n",
       "38                         50.0                            20.0   \n",
       "39                         50.0                            20.0   \n",
       "40                         50.0                            20.0   \n",
       "\n",
       "    mat_MFG_scrap_Recycled_into_HQ_Reused4MFG  mat_PG3_ReMFG_target  \\\n",
       "36                                       10.0                   0.0   \n",
       "37                                       10.0                   0.0   \n",
       "38                                       10.0                   0.0   \n",
       "39                                       10.0                   0.0   \n",
       "40                                       10.0                   0.0   \n",
       "\n",
       "    mat_ReMFG_yield  ...  mat_MFG_Recycled_into_HQ  mat_MFG_Recycled_into_OQ  \\\n",
       "36             50.0  ...              7.225230e+09              2.890092e+10   \n",
       "37             50.0  ...              4.270160e+09              1.708064e+10   \n",
       "38             50.0  ...              4.260431e+09              1.704172e+10   \n",
       "39             50.0  ...              6.976729e+09              2.790692e+10   \n",
       "40             50.0  ...              6.961875e+09              2.784750e+10   \n",
       "\n",
       "    mat_MFG_Recycled_HQ_into_MFG  mat_MFG_Recycled_HQ_into_OU  \\\n",
       "36                  7.225230e+08                 6.502707e+09   \n",
       "37                  4.270160e+08                 3.843144e+09   \n",
       "38                  4.260431e+08                 3.834388e+09   \n",
       "39                  6.976729e+08                 6.279056e+09   \n",
       "40                  6.961875e+08                 6.265688e+09   \n",
       "\n",
       "    mat_Virgin_Stock  mat_Virgin_Stock_Raw  mat_Total_EOL_Landfilled  \\\n",
       "36      3.029895e+12          5.049824e+12              3.773865e+11   \n",
       "37      1.790694e+12          2.984490e+12              2.016349e+11   \n",
       "38      1.786604e+12          2.977674e+12              2.388191e+11   \n",
       "39      2.925684e+12          4.876139e+12              3.739156e+11   \n",
       "40      2.919476e+12          4.865793e+12              2.939902e+11   \n",
       "\n",
       "    mat_Total_MFG_Landfilled  mat_Total_Landfilled  mat_Total_Recycled_OU  \n",
       "36              5.418922e+10          4.315757e+11           4.363516e+10  \n",
       "37              3.202620e+10          2.336611e+11           2.532183e+10  \n",
       "38              3.195323e+10          2.707724e+11           2.608522e+10  \n",
       "39              5.232547e+10          4.262411e+11           4.234180e+10  \n",
       "40              5.221406e+10          3.462042e+11           4.052568e+10  \n",
       "\n",
       "[5 rows x 56 columns]"
      ]
     },
     "execution_count": 20,
     "metadata": {},
     "output_type": "execute_result"
    }
   ],
   "source": [
    "r1.scenario['Decarb+E_PVICE_defaults'].material['glass'].materialdata.tail(5)"
   ]
  },
  {
   "cell_type": "code",
   "execution_count": 21,
   "metadata": {},
   "outputs": [
    {
     "data": {
      "image/png": "[encoded data removed]",
      "text/plain": [
       "<Figure size 864x576 with 1 Axes>"
      ]
     },
     "metadata": {
      "needs_background": "light"
     },
     "output_type": "display_data"
    }
   ],
   "source": [
    "r1.plotScenariosComparison('Installed_Capacity_[W]') \n",
    "# leaving the key/argument of this function will print out set of plotting options"
   ]
  },
  {
   "cell_type": "markdown",
   "metadata": {},
   "source": [
    "## Lifetime and Recycling Scenario Creation"
   ]
  },
  {
   "cell_type": "markdown",
   "metadata": {},
   "source": [
    "The range of potential future technology directions for PV will be explored in terms of module lifetime and EoL recycling rates. Currently technology is ~32 year module with a 6% EoL recycling rate (15% collection, 40% of collected modules sent to recycling). Lifetimes could improve, with 50 years targeted by DOE SETO, and/or recycling rates could improve, as exemplified by CdTe management from First Solar or perovskite technology. This analysis will explore on a mass flow basis, which of these two circular economy levers (lifetime or recycling) is the most important research priority for achieving the energy transition while minimizing waste and material extraction.\n",
    "\n",
    "We will explore from a 15 year module lifetime to a 50 year module lifetime, and from 0% recycled to 100% recycled."
   ]
  },
  {
   "cell_type": "markdown",
   "metadata": {},
   "source": [
    "### Create lifetime and recycling ranges"
   ]
  },
  {
   "cell_type": "code",
   "execution_count": 22,
   "metadata": {},
   "outputs": [],
   "source": [
    "Lifetime_Range = pd.concat([pd.Series(range(15,30,3)),pd.Series(range(30,51,2))]) # absolute lifetime values\n",
    "Lifetime_Range.reset_index(inplace=True, drop=True)\n",
    "Lifetime_Diff30 = Lifetime_Range-30\n",
    "Degradation_Range = pd.Series([1.470, 1.220, 1.050, 0.920, 0.820, 0.740, 0.690, 0.650, 0.615, 0.582, 0.555, 0.525, 0.505, 0.480, 0.460, 0.445])\n",
    "# degradation rates are calculated to be ~80% by the respective lifetime\n",
    "Recycling_Range = pd.Series(range(0,105,5)) # this is absolute recycling values from 0-100\n",
    "#print(Lifetime_Range)\n",
    "#print(Degradation_Range)\n",
    "#print(Recycling_Range)"
   ]
  },
  {
   "cell_type": "code",
   "execution_count": 23,
   "metadata": {},
   "outputs": [],
   "source": [
    "#list of material recycling variables\n",
    "RecyclingPaths = ['mat_MFG_scrap_Recycled', 'mat_MFG_scrap_Recycled_into_HQ', 'mat_MFG_scrap_Recycled_into_HQ_Reused4MFG', \n",
    "                  'mat_PG4_Recycling_target', 'mat_EOL_Recycled_into_HQ', 'mat_EOL_RecycledHQ_Reused4MFG']\n",
    "RecyclingYields = ['mat_MFG_scrap_Recycling_eff', 'mat_Recycling_yield']"
   ]
  },
  {
   "cell_type": "markdown",
   "metadata": {},
   "source": [
    "Automatically generate T50 and T90 values for each lifetime, by creating a linear regression for mod_reliability_t50 & mod_reliability_t90 vs. mod_lifetime to estimate t50 and t90 values to input for various lifetimes."
   ]
  },
  {
   "cell_type": "code",
   "execution_count": 24,
   "metadata": {},
   "outputs": [],
   "source": [
    "#first create data frame with the existing lifetimes and T50 and T90 values (which vary with time)\n",
    "reliability_baselines = pd.DataFrame()\n",
    "reliability_baselines['mod_lifetime'] = r1.scenario['Decarb+E_PVICE_defaults'].data['mod_lifetime']\n",
    "reliability_baselines['mod_reliability_t50'] = r1.scenario['Decarb+E_PVICE_defaults'].data['mod_reliability_t50']\n",
    "reliability_baselines['mod_reliability_t90'] = r1.scenario['Decarb+E_PVICE_defaults'].data['mod_reliability_t90']"
   ]
  },
  {
   "cell_type": "code",
   "execution_count": 25,
   "metadata": {},
   "outputs": [],
   "source": [
    "X_lifetime = reliability_baselines.iloc[:, 0].values.reshape(-1, 1)  # values converts it into a numpy array\n",
    "Y1_t50 = reliability_baselines.iloc[:, 1].values.reshape(-1, 1)  # -1 means that calculate the dimension of rows, but have 1 column\n",
    "Y2_t90 = reliability_baselines.iloc[:, 2].values.reshape(-1, 1)\n",
    "range_lifetimes = np.array(Lifetime_Range).reshape(-1,1)\n",
    "\n",
    "from sklearn.linear_model import LinearRegression #pull in tools\n",
    "from itertools import chain\n",
    "\n",
    "linear_regressor_Y1 = LinearRegression() #create linear regression\n",
    "linear_regressor_Y1.fit(X_lifetime, Y1_t50)  # perform linear regression\n",
    "t50_list = linear_regressor_Y1.predict(range_lifetimes).tolist()  # make predictions based on improved lifetime values\n",
    "t50_list = list(chain(*t50_list)) #unnest list\n",
    "t50_range_simple = pd.Series([ '%.2f' % elem for elem in t50_list ]) #pull out the T50 values\n",
    "\n",
    "linear_regressor_Y2 = LinearRegression() \n",
    "linear_regressor_Y2.fit(X_lifetime, Y2_t90)\n",
    "t90_list = linear_regressor_Y2.predict(range_lifetimes).tolist()\n",
    "t90_list = list(chain(*t90_list)) #unnest list\n",
    "t90_range_simple = pd.Series([ '%.2f' % elem for elem in t90_list ]) #pull out the T90 values"
   ]
  },
  {
   "cell_type": "code",
   "execution_count": 26,
   "metadata": {
    "scrolled": true
   },
   "outputs": [
    {
     "name": "stdout",
     "output_type": "stream",
     "text": [
      "    mod_lifetime  mod_degradation    t50    t90\n",
      "0             15            1.470  13.95  19.78\n",
      "1             18            1.220  17.56  23.15\n",
      "2             21            1.050  21.17  26.53\n",
      "3             24            0.920  24.78  29.90\n",
      "4             27            0.820  28.39  33.28\n",
      "5             30            0.740  32.00  36.65\n",
      "6             32            0.690  34.41  38.90\n",
      "7             34            0.650  36.81  41.15\n",
      "8             36            0.615  39.22  43.40\n",
      "9             38            0.582  41.63  45.65\n",
      "10            40            0.555  44.03  47.90\n",
      "11            42            0.525  46.44  50.15\n",
      "12            44            0.505  48.85  52.40\n",
      "13            46            0.480  51.25  54.65\n",
      "14            48            0.460  53.66  56.90\n",
      "15            50            0.445  56.07  59.15\n"
     ]
    }
   ],
   "source": [
    "#create a tidy dataframe summarizing all the lifetime, degradation, reliability values\n",
    "lifetime_range_df = pd.concat([Lifetime_Range, Degradation_Range, t50_range_simple, t90_range_simple], axis=1)\n",
    "lifetime_range_df.columns = 'mod_lifetime', 'mod_degradation', 't50', 't90'\n",
    "print(lifetime_range_df)\n",
    "lifetime_range_df.to_csv(os.path.join(testfolder,'Table2-lifeDegT50T90.csv'))"
   ]
  },
  {
   "cell_type": "code",
   "execution_count": 27,
   "metadata": {
    "scrolled": true
   },
   "outputs": [
    {
     "name": "stdout",
     "output_type": "stream",
     "text": [
      "    mod_lifetime  mod_degradation    t50    t90\n",
      "0             15            1.470  13.95  19.78\n",
      "1             18            1.220  17.56  23.15\n",
      "2             21            1.050  21.17  26.53\n",
      "3             24            0.920  24.78  29.90\n",
      "4             27            0.820  28.39  33.28\n",
      "5             30            0.740  32.00  36.65\n",
      "6             32            0.690  34.41  38.90\n",
      "8             36            0.615  39.22  43.40\n",
      "10            40            0.555  44.03  47.90\n",
      "12            44            0.505  48.85  52.40\n",
      "15            50            0.445  56.07  59.15\n"
     ]
    }
   ],
   "source": [
    "#If you want the full list above, do not run this cell. The results indicated little difference for values about 32 years\n",
    "#drop some of the higher lifetime values due to small value add and graphing\n",
    "unnecessary = [48,46,42,38,34]\n",
    "lifetime_range_df = lifetime_range_df[lifetime_range_df.mod_lifetime.isin(unnecessary)==False]\n",
    "print(lifetime_range_df)"
   ]
  },
  {
   "cell_type": "markdown",
   "metadata": {},
   "source": [
    "### Create all Scenarios\n",
    "Now with the lifetime and recycling ranges defined, we will create a PV ICE scenario for each combination\n",
    "\n",
    "Notes/Assumptions:\n",
    "- scenario modifictions start in 2020, maintaining historical values and rates\n",
    "- all recycling is closed loop (i.e. offsets virgin material demand)\n",
    "- assuming 100% collection of modules and materials\n",
    "- material recycling yields/efficiency are varied from 0% to 100% in 5% increments\n",
    "\n",
    "This method simplifies the coding, but can be representative of more complex systems (i.e. 50% collection rate with 80% recycling yield = 40% overall recycling rate.)"
   ]
  },
  {
   "cell_type": "code",
   "execution_count": null,
   "metadata": {},
   "outputs": [],
   "source": [
    "#NOTE: Be patient, this takes a moment\n",
    "#these scenarios are being added to the r1 simulation with the Decarb+E_PVICE_Default scenario\n",
    "#All combinations of recycling and lifetime\n",
    "for life in range(0,len(Lifetime_Range)): #loop over lifetimes\n",
    "    for recycle in range (0,len(Recycling_Range)): #loop over recycling rates\n",
    "        scenname = str(Lifetime_Range[life])+'years & '+ str(Recycling_Range[recycle])+'% Recycled' #name the scenario\n",
    "        r1.createScenario(name=scenname,file=modulefile) #create the scenario with name\n",
    "        r1.scenario[scenname].addMaterials(MATERIALS) # add all materials listed in MATERIALS\n",
    "        r1.trim_Years(startYear=2010, endYear=2050)\n",
    "        #Modify Module flows\n",
    "        #modify lifetimes\n",
    "        r1.modifyScenario(scenname, 'mod_lifetime', Lifetime_Range[life], 2020)\n",
    "        r1.modifyScenario(scenname, 'mod_reliability_t50', float(t50_range_simple[life]), 2020)\n",
    "        r1.modifyScenario(scenname, 'mod_reliability_t90', float(t90_range_simple[life]), 2020)\n",
    "        r1.modifyScenario(scenname, 'mod_degradation', Degradation_Range[life], 2020)\n",
    "        #set module collection to 100%\n",
    "        r1.modifyScenario(scenname, 'mod_EOL_collection_eff', 100.0, 2020)\n",
    "        #modify path good to ensure everything goes to recycling\n",
    "        r1.modifyScenario(scenname, 'mod_EOL_pg0_resell', 0.0, 2020)\n",
    "        r1.modifyScenario(scenname, 'mod_EOL_pg2_stored', 0.0, 2020)\n",
    "        r1.modifyScenario(scenname, 'mod_EOL_pg3_reMFG', 0.0, 2020)\n",
    "        r1.modifyScenario(scenname, 'mod_EOL_pg4_recycled', 100.0, 2020)#all good status modules go to recycling\n",
    "        r1.modifyScenario(scenname, 'mod_EOL_sp_reMFG_recycle', 100.0, 2020) #just in case\n",
    "        #modify path bad to ensure everything goes to recycling\n",
    "        r1.modifyScenario(scenname, 'mod_EOL_pb2_stored', 0.0, 2020)\n",
    "        r1.modifyScenario(scenname, 'mod_EOL_pb3_reMFG', 0.0, 2020)\n",
    "        r1.modifyScenario(scenname, 'mod_EOL_pb4_recycled', 100.0, 2020)#all bad status modules go to recycling\n",
    "        \n",
    "        #Modify Material flows\n",
    "        #set all material recycling paths to 100%, this directs everything to closed loop recycling\n",
    "        for var in range(0,len(RecyclingPaths)): #reMFG is 0.0 by default rn\n",
    "            r1.scenario[scenname].modifyMaterials(MATERIALS, stage=RecyclingPaths[var], value=100.0, start_year=2020)\n",
    "        \n",
    "        #set material recycling yields to the variable rates 0% to 100%\n",
    "        for ylds in range(0,len(RecyclingYields)):\n",
    "            r1.scenario[scenname].modifyMaterials(MATERIALS, stage=RecyclingYields[ylds], value=Recycling_Range[recycle], start_year=2020)"
   ]
  },
  {
   "cell_type": "code",
   "execution_count": null,
   "metadata": {},
   "outputs": [],
   "source": [
    "#Check some scenario dataframes\n",
    "#r1.scenario['Decarb+E_PVICE_defaults'].data.head(15)\n",
    "#r1.scenario['15years & 0% Recycled'].data.head(15)\n",
    "#r1.scenario['50years & 0% Recycled'].data.head(15)\n",
    "#r1.scenario['50years & 0% Recycled'].material['glass'].materialdata.head(15)"
   ]
  },
  {
   "cell_type": "code",
   "execution_count": null,
   "metadata": {
    "scrolled": true
   },
   "outputs": [],
   "source": [
    "print('There are a total of ' + str(len(r1.scenario.keys())) + 'scenarios, including the PV ICE Baseline.')"
   ]
  },
  {
   "cell_type": "markdown",
   "metadata": {},
   "source": [
    "Now we run the scenarios. This run of the simulation uses identical installations (i.e. no replacements)"
   ]
  },
  {
   "cell_type": "code",
   "execution_count": null,
   "metadata": {},
   "outputs": [],
   "source": [
    "r1.calculateMassFlow()"
   ]
  },
  {
   "cell_type": "code",
   "execution_count": null,
   "metadata": {
    "scrolled": true
   },
   "outputs": [],
   "source": [
    "r1.plotScenariosComparison('Installed_Capacity_[W]')"
   ]
  },
  {
   "cell_type": "code",
   "execution_count": null,
   "metadata": {
    "scrolled": true
   },
   "outputs": [],
   "source": [
    "r1.plotMaterialComparisonAcrossScenarios(material='glass', keyword='mat_Total_Landfilled')"
   ]
  },
  {
   "cell_type": "markdown",
   "metadata": {},
   "source": [
    "Use the PV ICE \"aggregate results\" function to print out a table of Virgin Material Demands, Lifecycle Wastes (MFG, EoL, both), new installed capacity and effective cumulative capacity, both annually and cumulatively."
   ]
  },
  {
   "cell_type": "code",
   "execution_count": null,
   "metadata": {},
   "outputs": [],
   "source": [
    "#assign two variables to be the dataframe outputs of this function\n",
    "yearlyRvL_identinstall, cumRvL_identinstall = r1.aggregateResults() \n",
    "#yearlyRvL_identinstall.tail(5)"
   ]
  },
  {
   "cell_type": "code",
   "execution_count": null,
   "metadata": {},
   "outputs": [],
   "source": [
    "#save these dataframes to csv files\n",
    "yearlyRvL_identinstall.to_csv(os.path.join(testfolder,'yearlyRvL-identinstall.csv'))\n",
    "cumRvL_identinstall.to_csv(os.path.join(testfolder,'cumulativeRvL-identinstall.csv'))"
   ]
  },
  {
   "cell_type": "markdown",
   "metadata": {},
   "source": [
    "Read the aggregated results back into the journal from csvs (run time on simulations can be long)"
   ]
  },
  {
   "cell_type": "code",
   "execution_count": null,
   "metadata": {},
   "outputs": [],
   "source": [
    "yearlyRvL_identinstall = pd.read_csv(os.path.join(testfolder,'yearlyRvL-identinstall.csv'), index_col='year')\n",
    "cumRvL_identinstall = pd.read_csv(os.path.join(testfolder,'cumulativeRvL-identinstall.csv'), index_col='year')"
   ]
  },
  {
   "cell_type": "markdown",
   "metadata": {},
   "source": [
    "### Figure 2 \n",
    "Here we select the data for figure 2. This is done by selecting a single column example of each lifetime, adding the PV ICE baseline, selecting for the effective capacity column, and printing to csv for graphing. \n",
    "\n",
    "Recycling rate doesn't have an effect on effective capacity, only on the virgin material demand and lifecycle wastes, therefore we can select a single lifetime example and it doesn't matter which recycling rate it is."
   ]
  },
  {
   "cell_type": "code",
   "execution_count": null,
   "metadata": {
    "scrolled": true
   },
   "outputs": [],
   "source": [
    "singleLifeset = yearlyRvL_identinstall.filter(like='95%') #select a single lifetime of each\n",
    "PVICEset = yearlyRvL_identinstall.filter(like='PVICE_defaults') #pvice baseline\n",
    "singleLifesetfull = pd.concat([PVICEset,singleLifeset], axis=1) #combine\n",
    "singleLifeActiveCap = singleLifesetfull.filter(regex='^ActiveCapacity') #select for effective capacity\n",
    "singleLifeActiveCap.to_csv('fig2-identicalinsalls-activecapacity.csv')"
   ]
  },
  {
   "cell_type": "code",
   "execution_count": null,
   "metadata": {},
   "outputs": [],
   "source": [
    "#simple version of Figure 2\n",
    "plt.plot(singleLifeActiveCap)"
   ]
  },
  {
   "cell_type": "markdown",
   "metadata": {},
   "source": [
    "Heat Map - Identical Installs\n",
    "\n",
    "This Heatmap is not used in the publication. There are two graphs, virgin material demand and life cycle wastes. The X-axis is module lifetime and the y-axis is Recycling Rate. The colors are relative to the virgin material demand and life cycle wastes of the PV ICE Baseline. These graphs are for identical installations, meaning that shorter lifetime scenarios do not meet energy transition capacity targets"
   ]
  },
  {
   "cell_type": "code",
   "execution_count": null,
   "metadata": {},
   "outputs": [],
   "source": [
    "#make a dataframe to become the multiIndex for heat map creation\n",
    "lifeRecycIndex = pd.DataFrame(columns = ['Life','Recycling'])\n",
    "for life in range(0,len(Lifetime_Range)): #loop over lifetimes\n",
    "    for recycle in range (0,len(Recycling_Range)): #loop over recycling rates\n",
    "        toappend = pd.DataFrame([[Lifetime_Range[life],Recycling_Range[recycle]]], columns=('Life', 'Recycling'))\n",
    "        lifeRecycIndex = pd.concat([lifeRecycIndex, toappend])\n",
    "pvice_index = pd.DataFrame([['pvice','pvice']], columns=('Life', 'Recycling'))\n",
    "lifeRecycIndex_complete = pd.concat([pvice_index,lifeRecycIndex])"
   ]
  },
  {
   "cell_type": "code",
   "execution_count": null,
   "metadata": {},
   "outputs": [],
   "source": [
    "#ii = indentical installs\n",
    "#manipulate dataframes for the heat map form, waste & virgin\n",
    "heatmap_cums = cumRvL_identinstall.copy()\n",
    "#filter down to \"waste all module\" and \"virgin stock module\"\n",
    "heatmap_cums_modulewaste = heatmap_cums.filter(regex='WasteAll_Module')\n",
    "heatmap_cums_virgindemand = heatmap_cums.filter(regex='VirginStock_Module')\n",
    "\n",
    "#Combine the multi index and heatmap data\n",
    "#transpose the dataframe, moving columns to the index\n",
    "heatmap_cums_modulewaste_twist = heatmap_cums_modulewaste.T \n",
    "heatmap_cums_virgindemand_twist = heatmap_cums_virgindemand.T\n",
    "#Wastes\n",
    "lifeRecycIndex_complete.index= heatmap_cums_modulewaste_twist.index #make index match for join\n",
    "module_waste_heatmapdata = lifeRecycIndex_complete.join(heatmap_cums_modulewaste_twist) #join dataframes\n",
    "module_waste_heatmapdata.set_index(['Life','Recycling'], inplace=True) #create multi index for unstacking\n",
    "#Virgin demands\n",
    "lifeRecycIndex_complete.index= heatmap_cums_virgindemand_twist.index #make index match for join\n",
    "virgin_material_heatmapdata = lifeRecycIndex_complete.join(heatmap_cums_virgindemand_twist) #join dataframes\n",
    "virgin_material_heatmapdata.set_index(['Life','Recycling'], inplace=True) #create multi index for unstacking\n",
    "\n",
    "#create subset data of just 2050 cumulative wastes\n",
    "modulewaste_heatmap_tonnes = pd.DataFrame(module_waste_heatmapdata[2050]) #select only 2050 cumulative values\n",
    "modulewaste_heatmap = modulewaste_heatmap_tonnes/1e6 #convert to million metric tonnes\n",
    "heatdata_Waste_pivot_orig = modulewaste_heatmap.unstack(level=0) #compare recycling vs lifetime\n",
    "heatdata_Waste_pivot_ii = heatdata_Waste_pivot_orig[::-1] #reverse the order of recycling rate\n",
    "\n",
    "#create subset data of just 2050 cumulative virgin demands\n",
    "virgin_mat_demand_tonnes = pd.DataFrame(virgin_material_heatmapdata[2050]) #select only 2050 - need to improve to remove label\n",
    "virgin_mat_demand = virgin_mat_demand_tonnes/1e6 #convert to million metric tonnes\n",
    "heatdata_virgin_pivot_orig = virgin_mat_demand.unstack(level=0) #pivot\n",
    "heatdata_Virgin_pivot_ii = heatdata_virgin_pivot_orig[::-1] #reverse order of recycling rate"
   ]
  },
  {
   "cell_type": "code",
   "execution_count": null,
   "metadata": {},
   "outputs": [],
   "source": [
    "print('Minimum waste is '+str(round(np.min(heatdata_Waste_pivot_ii).min(),0))+' million metric tonnes')\n",
    "print('Maximum waste is '+str(round(np.max(heatdata_Waste_pivot_ii).max(),0))+' million metric tonnes')\n",
    "print('Minimum virgin is '+str(round(np.min(heatdata_Virgin_pivot_ii).min(),0))+' million metric tonnes')\n",
    "print('Maximum virgin is '+str(round(np.max(heatdata_Virgin_pivot_ii).max(),0))+' million metric tonnes')\n"
   ]
  },
  {
   "cell_type": "code",
   "execution_count": null,
   "metadata": {},
   "outputs": [],
   "source": [
    "#Make heat maps with cumulative data\n",
    "import seaborn as sns\n",
    "plt.style.use(\"seaborn\")\n",
    "\n",
    "#plt.rcParams.update({'font.size': 20})\n",
    "plt.rcParams['figure.figsize'] = (10, 18)\n",
    "fig,ax = plt.subplots(2, 1)\n",
    "sns.set(font_scale=1.5)\n",
    "color = plt.get_cmap('coolwarm')\n",
    "color.set_bad('white')\n",
    "\n",
    "#Wastes\n",
    "plt.subplot(2,1,1)\n",
    "sns.heatmap(heatdata_Waste_pivot_ii, annot = False, \n",
    "            cmap='coolwarm', #sns.diverging_palette(220, 20, n=200), \n",
    "            vmin= 0.0, #(np.min(heatdata_Waste_pivot_ii).min()),\n",
    "            vmax= 100.0, #(np.max(heatdata_Waste_pivot_ii).max()),  #using same scale as cc below\n",
    "            center = 8.3 , #fix to be dynamic finding pvice value\n",
    "            cbar_kws={'label': 'Lifecycle Wastes by 2050 [Million Metric Tonnes]'})\n",
    "plt.title('Lifecycle Wastes')\n",
    "plt.ylabel('Recycling Rate (%)')\n",
    "plt.xlabel('Lifetime (years)')\n",
    "plt.yticks(rotation=0)\n",
    "#plt.xticks(fontsize=14)\n",
    "#\n",
    "\n",
    "#Virgin Demands\n",
    "plt.subplot(2,1,2)\n",
    "sns.heatmap(heatdata_Virgin_pivot_ii, annot = False,\n",
    "           cmap='coolwarm', #sns.diverging_palette(220, 20, n=200), \n",
    "            vmin= 20.0, #(np.min(heatdata_Virgin_pivot_ii).min()),\n",
    "            vmax= 180.0, #(np.max(heatdata_Virgin_pivot_ii).max()), #using max cc below\n",
    "            center=96.685293, #fix to be dynamic\n",
    "           cbar_kws={'label': 'Virgin Material Demands by 2050 [Million Metric Tonnes]'})\n",
    "plt.title('Virgin Demands')\n",
    "plt.ylabel('Recycling Rate (%)')\n",
    "plt.xlabel('Lifetime (years)')\n",
    "plt.yticks(rotation=0)\n",
    "#plt.xticks(fontsize=14)\n",
    "\n",
    "#Installed Capacity\n",
    "#plt.subplot(3,1,3)\n",
    "#sns.heatmap(heatdata_InstalledCap_pivot, annot = False,\n",
    "#           cmap=sns.diverging_palette(20, 220, n=200), \n",
    "#            vmin=-70.0, vmax=10.0, center=0, square=True)\n",
    "#plt.title('Installed Capacity')\n",
    "#plt.xlabel('Recycling Rate')\n",
    "#plt.yticks(rotation=0)\n",
    "\n",
    "fig.suptitle('2050 Cumulative Wastes and Material Demands:\\n Identical Installs', fontsize=22, x=0.45)\n",
    "plt.subplots_adjust(top=0.9)\n",
    "fig.tight_layout(h_pad=1)\n",
    "# set the spacing between subplots\n",
    "#plt.subplots_adjust(left=0.1,bottom=0.1, right=0.9, top=0.9, wspace=0.4, hspace=0.3)\n",
    "\n",
    "\n",
    "plt.savefig('heatmap-identicalInstalls.png')\n",
    "plt.show()"
   ]
  },
  {
   "cell_type": "markdown",
   "metadata": {},
   "source": [
    "### Figure 7 Pie Charts\n",
    "Printing out the data for pie chart of cumulative Virgin Material Demands and Lifecycle Wastes in 2050, PV ICE scenario"
   ]
  },
  {
   "cell_type": "code",
   "execution_count": null,
   "metadata": {},
   "outputs": [],
   "source": [
    "pvice_cums = cumRvL_identinstall.filter(like='Decarb+E_PVICE_defaults')\n",
    "pvice_cumwastes = pvice_cums.filter(regex='WasteAll')\n",
    "pvice_2050_cumwastes = pd.DataFrame(pvice_cumwastes.loc[2050])\n",
    "pvice_2050_cumwastes.to_csv(os.path.join(testfolder,'PVICE_cumulativeWastes2050_pieChart.csv'))"
   ]
  },
  {
   "cell_type": "markdown",
   "metadata": {},
   "source": [
    "## Installation with Replacements - Compensation Calculation\n",
    "\n",
    "This section of the analysis runs the capacity compensation simulation. For each scenario, each year the deployment \"new installed capacity\" is adjusted (up for short-lived modules or down for long-lived modules) by the difference in effective capacity between the scenario and the PV ICE Baseline effective capacity. \n",
    "\n",
    "NOTE: this mass flow calculation takes a LONG time to run, recommend leaving it overnight. A csv of the yearly and cumulative aggregated results is saved as csv and read back in to speed analysis and graphing."
   ]
  },
  {
   "cell_type": "code",
   "execution_count": null,
   "metadata": {
    "scrolled": true
   },
   "outputs": [],
   "source": [
    "\n",
    "for row in range (0,len(r1.scenario['Decarb+E_PVICE_defaults'].data)):\n",
    "    for scenario in range (0, len(r1.scenario.keys())):\n",
    "        scen = list(r1.scenario.keys())[scenario]\n",
    "        Under_Installment = ( (r1.scenario['Decarb+E_PVICE_defaults'].data['Installed_Capacity_[W]'][row] - \n",
    "                               r1.scenario[scen].data['Installed_Capacity_[W]'][row])/1000000 )  # MWATTS\n",
    "        r1.scenario[scen].data['new_Installed_Capacity_[MW]'][row] += Under_Installment\n",
    "    r1.calculateMassFlow()\n"
   ]
  },
  {
   "cell_type": "code",
   "execution_count": null,
   "metadata": {},
   "outputs": [],
   "source": [
    "yearlyRvL_installcomp, cumRvL_installcomp = r1.aggregateResults()\n",
    "yearlyRvL_installcomp.to_csv(os.path.join(testfolder,'yearlyRvL-installcomp.csv'))\n",
    "cumRvL_installcomp.to_csv(os.path.join(testfolder,'cumulativeRvL-installcomp.csv'))"
   ]
  },
  {
   "cell_type": "markdown",
   "metadata": {},
   "source": [
    "Read the csvs back in for plotting (installation compensation calc runs a LONG time)."
   ]
  },
  {
   "cell_type": "code",
   "execution_count": null,
   "metadata": {},
   "outputs": [],
   "source": [
    "yearlyRvL_installcomp = pd.read_csv(os.path.join(testfolder,'yearlyRvL-installcomp.csv'), index_col='year')\n",
    "cumRvL_installcomp = pd.read_csv(os.path.join(testfolder,'cumulativeRvL-installcomp.csv'), index_col='year')"
   ]
  },
  {
   "cell_type": "markdown",
   "metadata": {},
   "source": [
    "### Figure 3\n",
    "Bar chart of additional installations"
   ]
  },
  {
   "cell_type": "code",
   "execution_count": null,
   "metadata": {},
   "outputs": [],
   "source": [
    "singleLifeRange = cumRvL_installcomp.filter(like='95%') #select a single lifetime of each\n",
    "newinstallsedofSingleLifeRange = singleLifeRange.filter(regex='newInstalledCapacity') #select for new installs\n",
    "LifeRange_installsComped = pd.DataFrame(newinstallsedofSingleLifeRange.loc[2050]) #select only the 2050 cumulatives\n",
    "LifeRange_installsComped.set_index(Lifetime_Range, inplace=True) #set the index to the lifetime range for label ease\n",
    "LifeRange_installsComped_TW = LifeRange_installsComped/1e6 #convert to TW\n",
    "\n",
    "pvice_newinstalls = cumRvL_installcomp.filter(like='newInstalledCapacity_SF-LvR_Decarb+E_PVICE_defaults')\n",
    "pvice_newinstalls_2050 = pvice_newinstalls.loc[2050].values\n",
    "pvice_newinstalls_TW = pvice_newinstalls_2050/1e6\n",
    "#pvice_newinstalls_TW.columns = LifeRange_installsComped_TW.columns\n",
    "LifeRange_installsComped_TW_relative = LifeRange_installsComped_TW-pvice_newinstalls_TW\n",
    "\n",
    "LifeRange_installsComped_TW_relative.to_csv(os.path.join(testfolder,'AddedReqInstalls-BarChartData.csv'))"
   ]
  },
  {
   "cell_type": "code",
   "execution_count": null,
   "metadata": {
    "scrolled": false
   },
   "outputs": [],
   "source": [
    "LifeRange_installsComped_TW_relative.plot(kind='bar')"
   ]
  },
  {
   "cell_type": "markdown",
   "metadata": {},
   "source": [
    "### Figure 4 Heat Maps with Replacements\n",
    "\n",
    "This creates the data frames and heat maps of virgin material demand and lifecycle wastes for all 336 scenarios, including replacement modules. Colors are relative to the PV ICE baseline."
   ]
  },
  {
   "cell_type": "code",
   "execution_count": null,
   "metadata": {},
   "outputs": [],
   "source": [
    "#cc = compensated capacity\n",
    "#manipulate dataframes for the heat map form, waste & virgin\n",
    "heatmap_cums_cc = cumRvL_installcomp.copy()\n",
    "#filter down to \"waste all module\"\n",
    "heatmap_cums_modulewaste_cc = heatmap_cums_cc.filter(regex='WasteAll_Module')\n",
    "heatmap_cums_virgindemand_cc = heatmap_cums_cc.filter(regex='VirginStock_Module')\n",
    "\n",
    "#Combine the multi index and heatmap data\n",
    "heatmap_cums_modulewaste_twist_cc = heatmap_cums_modulewaste_cc.T #transpose the dataframe\n",
    "heatmap_cums_virgindemand_twist_cc = heatmap_cums_virgindemand_cc.T\n",
    "\n",
    "#create subset data of just 2050 cumulative wastes\n",
    "lifeRecycIndex_complete.index= heatmap_cums_modulewaste_twist_cc.index #make index match for join\n",
    "module_waste_heatmapdata_cc = lifeRecycIndex_complete.join(heatmap_cums_modulewaste_twist_cc) #join dataframes\n",
    "module_waste_heatmapdata_cc.set_index(['Life','Recycling'], inplace=True) #create multi index for unstacking\n",
    "modulewaste_heatmap_tonnes_cc = pd.DataFrame(module_waste_heatmapdata_cc[2050]) #select only 2050 cumulative values\n",
    "modulewaste_heatmap_cc = modulewaste_heatmap_tonnes_cc/1e6 #convert to million metric tonnes\n",
    "heatdata_Waste_pivot_orig_cc = modulewaste_heatmap_cc.unstack(level=0) #compare recycling vs lifetime\n",
    "heatdata_Waste_pivot_cc_dropcol = heatdata_Waste_pivot_orig_cc[::-1] #reverse the order of recycling rate\n",
    "heatdata_Waste_pivot_cc = heatdata_Waste_pivot_cc_dropcol.iloc[1:,:-1] #remove pvice col\n",
    "heatdata_Waste_pivot_cc.columns = heatdata_Waste_pivot_cc.columns.droplevel(0) #remove 2050 from label\n",
    "\n",
    "#create subset data of just 2050 cumulative virgin demands\n",
    "lifeRecycIndex_complete.index= heatmap_cums_virgindemand_twist_cc.index #make index match for join\n",
    "virgin_material_heatmapdata_cc = lifeRecycIndex_complete.join(heatmap_cums_virgindemand_twist_cc) #join dataframes\n",
    "virgin_material_heatmapdata_cc.set_index(['Life','Recycling'], inplace=True) #create multi index for unstacking\n",
    "virgin_mat_demand_tonnes_cc = pd.DataFrame(virgin_material_heatmapdata_cc.loc[:,2050]) #select only 2050 - need to improve to remove label\n",
    "virgin_mat_demand_cc = virgin_mat_demand_tonnes_cc/1e6 #convert to million metric tonnes\n",
    "heatdata_virgin_pivot_orig_cc = virgin_mat_demand_cc.unstack(level=0)\n",
    "heatdata_Virgin_pivot_cc_dropcol = heatdata_virgin_pivot_orig_cc[::-1] #reverse order of recycling rate\n",
    "heatdata_Virgin_pivot_cc = heatdata_Virgin_pivot_cc_dropcol.iloc[1:,:-1] #removes pvice column from recycling rate\n",
    "heatdata_Virgin_pivot_cc.columns=heatdata_Virgin_pivot_cc.columns.droplevel(0) #remove 2050 from label"
   ]
  },
  {
   "cell_type": "markdown",
   "metadata": {},
   "source": [
    "First, pull out the material demand and wastes for the PV ICE Baseline"
   ]
  },
  {
   "cell_type": "code",
   "execution_count": null,
   "metadata": {
    "scrolled": false
   },
   "outputs": [],
   "source": [
    "#virgin material demand\n",
    "virgin_mat_demand_cc.loc['pvice'] # = virgin_mat_demand.loc['pvice'] THEY ARE THE SAME"
   ]
  },
  {
   "cell_type": "code",
   "execution_count": null,
   "metadata": {
    "scrolled": true
   },
   "outputs": [],
   "source": [
    "#lifecycle wastes\n",
    "modulewaste_heatmap_cc.loc['pvice'] "
   ]
  },
  {
   "cell_type": "code",
   "execution_count": null,
   "metadata": {},
   "outputs": [],
   "source": [
    "#this defines the upper and lower bounds for the color map\n",
    "print('Minimum waste is '+str(round(np.min(heatdata_Waste_pivot_cc).min(),2))+' million metric tonnes')\n",
    "print('Maximum waste is '+str(round(np.max(heatdata_Waste_pivot_cc).max(),0))+' million metric tonnes')\n",
    "print('Minimum virgin is '+str(round(np.min(heatdata_Virgin_pivot_cc).min(),0))+' million metric tonnes')\n",
    "print('Maximum virgin is '+str(round(np.max(heatdata_Virgin_pivot_cc).max(),0))+' million metric tonnes')\n"
   ]
  },
  {
   "cell_type": "code",
   "execution_count": null,
   "metadata": {},
   "outputs": [],
   "source": [
    "print('Minimum Virgin demand for compensated capacity is '\n",
    "      +str(round(np.min(virgin_mat_demand_cc).min(),2))+' million metric tonnes'+\n",
    "     ' for scenario (Life,Recycling) '+ str(virgin_mat_demand_cc.idxmin()))"
   ]
  },
  {
   "cell_type": "code",
   "execution_count": null,
   "metadata": {},
   "outputs": [],
   "source": [
    "print('Maximum Virgin demand for compensated capacity is '\n",
    "      +str(round(np.max(virgin_mat_demand_cc).max(),2))+' million metric tonnes'+\n",
    "     ' for scenario (Life,Recycling) '+ str(virgin_mat_demand_cc.idxmax()))"
   ]
  },
  {
   "cell_type": "code",
   "execution_count": null,
   "metadata": {},
   "outputs": [],
   "source": [
    "#Make heat maps with cumulative data\n",
    "import seaborn as sns\n",
    "plt.style.use(\"seaborn\")\n",
    "\n",
    "#plt.rcParams.update({'font.size': 20})\n",
    "plt.rcParams['figure.figsize'] = (10, 18)\n",
    "fig,ax = plt.subplots(2, 1)\n",
    "sns.set(font_scale=1.5)\n",
    "\n",
    "mask_virgin = (heatdata_Virgin_pivot_cc > 95) & (heatdata_Virgin_pivot_cc < 99) # 96.685293\n",
    "mask_waste = (heatdata_Waste_pivot_cc > 6) & (heatdata_Waste_pivot_cc < 10) #8.330916\n",
    "\n",
    "#Virgin Demands\n",
    "plt.subplot(2,1,1)\n",
    "axx = sns.heatmap(heatdata_Virgin_pivot_cc, annot = False,\n",
    "           cmap= sns.diverging_palette(255,0, s=100, sep=1, n=60), \n",
    "            vmin= 80.0 ,#(round(np.min(heatdata_Virgin_pivot_cc).min(),0)), \n",
    "            vmax= (round(np.max(heatdata_Virgin_pivot_cc).max(),-1)),\n",
    "            center=96.685293, #fix to be dynamic\n",
    "           cbar_kws={'label': 'Cumulative by 2050 [Million Metric Tonnes]'},\n",
    "           mask = mask_virgin)\n",
    "plt.title('Virgin Demands', fontsize=20)\n",
    "plt.ylabel('Recycling Rate [%]', fontsize=20)\n",
    "plt.xlabel('Lifetime (years)', fontsize=20)\n",
    "plt.yticks(rotation=0)\n",
    "plt.yticks(fontsize=20)\n",
    "plt.xticks(fontsize=20)\n",
    "axx.set_facecolor(\"white\")\n",
    "axx.patch.set(hatch='x', edgecolor='aliceblue')\n",
    "#Wastes\n",
    "plt.subplot(2,1,2)\n",
    "axy = sns.heatmap(heatdata_Waste_pivot_cc, annot = False, \n",
    "            cmap= sns.diverging_palette(220, 20, s=100,sep=1, n=60), \n",
    "            vmin= 0.0, #(round(np.min(heatdata_Waste_pivot_cc).min(),0)), \n",
    "            vmax= (round(np.max(heatdata_Waste_pivot_cc).max(),-1)), \n",
    "            center = 8.330916 , #fix to be dynamic finding pvice value\n",
    "            cbar_kws={'label': 'Cumulative by 2050 [Million Metric Tonnes]'},\n",
    "            mask = mask_waste)\n",
    "plt.title('Lifecycle Wastes', fontsize=20)\n",
    "plt.ylabel('Recycling Rate [%]', fontsize=20)\n",
    "plt.xlabel('Lifetime (years)', fontsize=20)\n",
    "plt.yticks(rotation=0)\n",
    "plt.yticks(fontsize=20)\n",
    "plt.xticks(fontsize=20)\n",
    "axy.set_facecolor(\"white\")\n",
    "axy.patch.set(hatch='x', edgecolor='ghostwhite')\n",
    "#\n",
    "\n",
    "fig.suptitle('2050 Cumulative Material Demands and Lifeycle Wastes:\\n With Replacements', fontsize=22, x=0.45)\n",
    "plt.subplots_adjust(top=0.9)\n",
    "fig.tight_layout(h_pad=1)\n",
    "# set the spacing between subplots\n",
    "#plt.subplots_adjust(left=0.1,bottom=0.1, right=0.9, top=0.9, wspace=0.4, hspace=0.3)\n",
    "\n",
    "plt.savefig('fig4.tif', dpi=300)\n",
    "plt.show()"
   ]
  },
  {
   "cell_type": "markdown",
   "metadata": {},
   "source": [
    "### Figure 5 - Time Shifted Demand and Wastes\n",
    "\n",
    "This code exports the data for Figure 5. The 0% recycling scenario is selected to represent the full material demand (since all other recycling scenarios offset the virgin material demand with recycled content). This allows comparison of overall material demands, and a visualization of how much of the lifecycle wastes could offset demand and when."
   ]
  },
  {
   "cell_type": "code",
   "execution_count": null,
   "metadata": {},
   "outputs": [],
   "source": [
    "#select out the 15 year, 0% recycling data and pv ice data\n",
    "data15yr = yearlyRvL_installcomp.filter(regex = r'(15years & 0%)')\n",
    "datapvice = yearlyRvL_installcomp.filter(regex = 'PVICE')\n",
    "fig5data_annual = pd.concat([datapvice,data15yr], axis=1)\n",
    "fig5data_annual_module = fig5data_annual.filter(regex='Module')\n",
    "#sum each 5 year increment\n",
    "#fig5data_annual_module.to_csv(os.path.join(testfolder,'fig5-annualdata.csv')) #annual as sanity check\n",
    "#groups the index by 5s, this leaves 2050 dangling, just add it in to 2045-2050\n",
    "fig5data = fig5data_annual_module.groupby(np.arange(len(fig5data_annual))//5).sum() \n",
    "fig5data.to_csv(os.path.join(testfolder,'fig5-5yrdata.csv'))"
   ]
  },
  {
   "cell_type": "markdown",
   "metadata": {},
   "source": [
    "### Table 1 - Select results\n",
    "\n",
    "Print out table 1 select results for virgin material demand and lifecycle wastes."
   ]
  },
  {
   "cell_type": "code",
   "execution_count": null,
   "metadata": {},
   "outputs": [],
   "source": [
    "heatdata_Virgin_pivot_cc.loc[[0,50,90,95,100],[15,30,50]]"
   ]
  },
  {
   "cell_type": "code",
   "execution_count": null,
   "metadata": {},
   "outputs": [],
   "source": [
    "heatdata_Waste_pivot_cc.loc[[0,50,90,95,100],[15,30,50]]"
   ]
  },
  {
   "cell_type": "markdown",
   "metadata": {},
   "source": [
    "# Sanity Check: BOM decrease and Efficiency increase\n",
    "\n",
    "These results were presented at PVRW 2022."
   ]
  },
  {
   "cell_type": "markdown",
   "metadata": {},
   "source": [
    "## BOM modification"
   ]
  },
  {
   "cell_type": "markdown",
   "metadata": {},
   "source": [
    "First method of approximating a \"thin film\" BOM as just glass, backsheet, an Aluminum Frame. This is similar to CdTe modules. A second method of reducing mass to thin film design is presented below."
   ]
  },
  {
   "cell_type": "code",
   "execution_count": null,
   "metadata": {},
   "outputs": [],
   "source": [
    "thinfilmMaterials = ['glass','backsheet','aluminium_frames']\n",
    "#create a subset of 15 year module with all recycling values\n",
    "life15 = lifetime_range_df.iloc[0,:]"
   ]
  },
  {
   "cell_type": "code",
   "execution_count": null,
   "metadata": {},
   "outputs": [],
   "source": [
    "r3 = PV_ICE.Simulation(name='SanityCheck', path=testfolder) #create simulation \n",
    "#baselinefolder = r'..\\baselines'    \n",
    "\n",
    "for scen in range(len(SFscenarios)):\n",
    "    modulefile = SFscenarios[scen]+'.csv' #pick the scenario csv\n",
    "    modulefile = os.path.join(testfolder, 'USA', modulefile) #point at the file path for the whole US\n",
    "    r3.createScenario(name='Decarb+E_PVICE_defaults', file=modulefile) #change name=SFscenarios[scen] if multiple scenarios\n",
    "    r3.scenario['Decarb+E_PVICE_defaults'].addMaterials(thinfilmMaterials)  # add materials\n",
    "    r3.trim_Years(startYear=2010)"
   ]
  },
  {
   "cell_type": "code",
   "execution_count": null,
   "metadata": {},
   "outputs": [],
   "source": [
    "for recycle in range (0,len(Recycling_Range)): #loop over recycling rates\n",
    "    scenname = 'ThinFilm 15 years & '+ str(Recycling_Range[recycle])+'% Recycled' #name the scenario\n",
    "    r3.createScenario(name=scenname,file=modulefile) #create the scenario with name\n",
    "    r3.scenario[scenname].addMaterials(thinfilmMaterials)  # baselinefolder=baselinefolder)\n",
    "    r3.trim_Years(startYear=2010, endYear=2050)\n",
    "    r3.modifyScenario(scenname, 'mod_lifetime', 15, 2020)\n",
    "    r3.modifyScenario(scenname, 'mod_reliability_t50', float(life15['t50']), 2020)\n",
    "    r3.modifyScenario(scenname, 'mod_reliability_t90', float(life15['t90']), 2020)\n",
    "    r3.modifyScenario(scenname, 'mod_degradation', life15['mod_degradation'], 2020)\n",
    "    r3.modifyScenario(scenname, 'mod_EOL_collected_recycled', 100.0, 2020)\n",
    "    r3.modifyScenario(scenname, 'mod_EOL_collection_eff', 100.0, 2020)\n",
    "        \n",
    "    for var in range(0,len(RecyclingPaths)):\n",
    "        r3.scenario[scenname].modifyMaterials(thinfilmMaterials, stage=RecyclingPaths[var], value=100.0, start_year=2020)\n",
    "        \n",
    "    for ylds in range(0,len(RecyclingYields)):\n",
    "        r3.scenario[scenname].modifyMaterials(thinfilmMaterials, stage=RecyclingYields[ylds], \n",
    "                                                  value=Recycling_Range[recycle], start_year=2020)"
   ]
  },
  {
   "cell_type": "code",
   "execution_count": null,
   "metadata": {},
   "outputs": [],
   "source": [
    "r3.calculateMassFlow()"
   ]
  },
  {
   "cell_type": "code",
   "execution_count": null,
   "metadata": {
    "scrolled": true
   },
   "outputs": [],
   "source": [
    "r3.plotScenariosComparison('Installed_Capacity_[W]')"
   ]
  },
  {
   "cell_type": "code",
   "execution_count": null,
   "metadata": {
    "scrolled": true
   },
   "outputs": [],
   "source": [
    "r3.plotMaterialComparisonAcrossScenarios(material='glass', keyword='mat_Total_Landfilled')"
   ]
  },
  {
   "cell_type": "code",
   "execution_count": null,
   "metadata": {},
   "outputs": [],
   "source": [
    "yearlythinfilmresults, cumthinfilmresults = r3.aggregateResults()\n",
    "yearlythinfilmresults.to_csv(os.path.join(testfolder,'yearlythinfilmresults.csv'))\n",
    "cumthinfilmresults.to_csv(os.path.join(testfolder,'cumthinfilmresults.csv'))"
   ]
  },
  {
   "cell_type": "markdown",
   "metadata": {},
   "source": [
    "Now calculate installation compensation for the 15 year module."
   ]
  },
  {
   "cell_type": "code",
   "execution_count": null,
   "metadata": {},
   "outputs": [],
   "source": [
    "for row in range (0,len(r3.scenario['Decarb+E_PVICE_defaults'].data)):\n",
    "    for scenario in range (0, len(r3.scenario.keys())):\n",
    "        scen = list(r3.scenario.keys())[scenario]\n",
    "        Under_Installment = ( (r3.scenario['Decarb+E_PVICE_defaults'].data['Installed_Capacity_[W]'][row] - \n",
    "                               r3.scenario[scen].data['Installed_Capacity_[W]'][row])/1000000 )  # MWATTS\n",
    "        r3.scenario[scen].data['new_Installed_Capacity_[MW]'][row] += Under_Installment\n",
    "    r3.calculateMassFlow()"
   ]
  },
  {
   "cell_type": "code",
   "execution_count": null,
   "metadata": {},
   "outputs": [],
   "source": [
    "yearlythinfilmresults_cc, cumthinfilmresults_cc = r3.aggregateResults()\n",
    "yearlythinfilmresults_cc.to_csv(os.path.join(testfolder,'yearlythinfilmresults_cc.csv'))\n",
    "cumthinfilmresults_cc.to_csv(os.path.join(testfolder,'cumthinfilmresults_cc.csv'))"
   ]
  },
  {
   "cell_type": "code",
   "execution_count": null,
   "metadata": {
    "scrolled": true
   },
   "outputs": [],
   "source": [
    "r3.plotScenariosComparison('Installed_Capacity_[W]')"
   ]
  },
  {
   "cell_type": "markdown",
   "metadata": {},
   "source": [
    "Search for the cumulative value that is less/more than the PV ICE baseline with all materials."
   ]
  },
  {
   "cell_type": "code",
   "execution_count": null,
   "metadata": {},
   "outputs": [],
   "source": [
    "#PV ICE all materials values\n",
    "PVICE_virgin = cumRvL_identinstall.loc[2050]['VirginStock_Module_SF-LvR_Decarb+E_PVICE_defaults_[Tonnes]']/1e6\n",
    "PVICE_waste = cumRvL_identinstall.loc[2050]['WasteAll_Module_SF-LvR_Decarb+E_PVICE_defaults_[Tonnes]']/1e6\n",
    "\n",
    "print('PV ICE Baseline Values: \\nVirgin Material Demand '\n",
    "      +str(round(PVICE_virgin,2))+' million metric tonnes\\n'+\n",
    "     'Lifecycle Waste '+ str(round(PVICE_waste,2)) + ' million metric tonnes')"
   ]
  },
  {
   "cell_type": "code",
   "execution_count": null,
   "metadata": {
    "scrolled": false
   },
   "outputs": [],
   "source": [
    "thinfilm_virginmod = pd.DataFrame(cumthinfilmresults_cc.loc[2050].filter(like='VirginStock_Module'))\n",
    "thinfilm_virginmod[::-1]>=PVICE_virgin*1e6"
   ]
  },
  {
   "cell_type": "markdown",
   "metadata": {},
   "source": [
    "Here, we compare the PV ICE c-Si virgin material demand to a thin film of 15 year life. These results indicate that lowering the BOM will lower the required closed-loop recycling rate to reduce virgin material demands from 95% to 75%."
   ]
  },
  {
   "cell_type": "code",
   "execution_count": null,
   "metadata": {},
   "outputs": [],
   "source": [
    "thinfilm_waste = pd.DataFrame(cumthinfilmresults_cc.loc[2050].filter(like='WasteAll_Module'))\n",
    "thinfilm_waste[::-1]>=PVICE_waste*1e6"
   ]
  },
  {
   "cell_type": "markdown",
   "metadata": {},
   "source": [
    "This compares the thin film BOM waste to the PV ICE c-Si baseline waste. The recyling requirement for lowering waste is still quite high. Given that most of the waste is attributable to pre-2020 low open-loop recycleable modules, little can be done about the pre 2050 waste.\n",
    "\n",
    "## Efficiency Modifcation\n",
    "\n",
    "Now that we have confirmed that decreasing the mass per module area will lower the required closed-loop recycling rate, lets check that increasing module efficiency will have the same effect. Currently, PV ICE baseline is 20% efficiency in 2020 and 25% efficient in 2050. Oberbeck et al 2020 expect 30% efficient tandem devices (perovskite + silicon). Therefore, we will use this as an approximation of an efficiency increase, and will apply it to the 15 year module."
   ]
  },
  {
   "cell_type": "code",
   "execution_count": null,
   "metadata": {},
   "outputs": [],
   "source": [
    "#create a subset of 15 year module with all recycling values\n",
    "life15 = lifetime_range_df.iloc[0,:]"
   ]
  },
  {
   "cell_type": "code",
   "execution_count": null,
   "metadata": {},
   "outputs": [],
   "source": [
    "reff = PV_ICE.Simulation(name='SanityCheck', path=testfolder) #create simulation r1\n",
    "#baselinefolder = r'..\\baselines'    \n",
    "\n",
    "for scen in range(len(SFscenarios)):\n",
    "    modulefile = SFscenarios[scen]+'.csv' #pick the scenario csv\n",
    "    modulefile = os.path.join(testfolder, 'USA', modulefile) #point at the file path for the whole US\n",
    "    reff.createScenario(name='Decarb+E_PVICE_defaults', file=modulefile) #change name=SFscenarios[scen] if multiple scenarios\n",
    "    reff.scenario['Decarb+E_PVICE_defaults'].addMaterials(MATERIALS)  # baselinefolder=baselinefolder)\n",
    "    reff.trim_Years(startYear=2010)"
   ]
  },
  {
   "cell_type": "code",
   "execution_count": null,
   "metadata": {},
   "outputs": [],
   "source": [
    "for recycle in range (0,len(Recycling_Range)): #loop over recycling rates\n",
    "    scenname = 'Tandem 15 years & '+ str(Recycling_Range[recycle])+'% Recycled' #name the scenario\n",
    "    reff.createScenario(name=scenname,file=modulefile) #create the scenario with name\n",
    "    reff.scenario[scenname].addMaterials(MATERIALS)  # baselinefolder=baselinefolder)\n",
    "    reff.trim_Years(startYear=2010, endYear=2050)\n",
    "    reff.modifyScenario(scenname, 'mod_lifetime', 15, 2020)\n",
    "    reff.modifyScenario(scenname, 'mod_reliability_t50', float(life15['t50']), 2020)\n",
    "    reff.modifyScenario(scenname, 'mod_reliability_t90', float(life15['t90']), 2020)\n",
    "    reff.modifyScenario(scenname, 'mod_degradation', life15['mod_degradation'], 2020)\n",
    "    reff.modifyScenario(scenname, 'mod_EOL_collected_recycled', 100.0, 2020)\n",
    "    reff.modifyScenario(scenname, 'mod_EOL_collection_eff', 100.0, 2020)\n",
    "    reff.modifyScenario(scenname, 'mod_eff', 30.0, 2020)\n",
    "        \n",
    "    for var in range(0,len(RecyclingPaths)):\n",
    "        reff.scenario[scenname].modifyMaterials(MATERIALS, stage=RecyclingPaths[var], value=100.0, start_year=2020)\n",
    "        \n",
    "    for ylds in range(0,len(RecyclingYields)):\n",
    "        reff.scenario[scenname].modifyMaterials(MATERIALS, stage=RecyclingYields[ylds], \n",
    "                                                  value=Recycling_Range[recycle], start_year=2020)"
   ]
  },
  {
   "cell_type": "code",
   "execution_count": null,
   "metadata": {},
   "outputs": [],
   "source": [
    "baselineeff = reff.scenario['Decarb+E_PVICE_defaults'].data['mod_eff']\n",
    "tandemeff = reff.scenario['Tandem 15 years & 0% Recycled'].data['mod_eff']\n",
    "\n",
    "mod_eff_compare_t = pd.DataFrame([baselineeff,tandemeff])\n",
    "mod_eff_compare = mod_eff_compare_t.T\n",
    "mod_eff_compare.index=range(2010,2051)\n",
    "mod_eff_compare.columns = ('PV ICE','High Efficiency')\n",
    "plt.plot(mod_eff_compare)\n",
    "plt.title('Module Efficiency Comparison')\n",
    "plt.legend(mod_eff_compare.columns)\n",
    "plt.ylabel('Module Efficiency [%]')"
   ]
  },
  {
   "cell_type": "code",
   "execution_count": null,
   "metadata": {},
   "outputs": [],
   "source": [
    "reff.calculateMassFlow()"
   ]
  },
  {
   "cell_type": "code",
   "execution_count": null,
   "metadata": {
    "scrolled": true
   },
   "outputs": [],
   "source": [
    "for row in range (0,len(reff.scenario['Decarb+E_PVICE_defaults'].data)):\n",
    "    for scenario in range (0, len(reff.scenario.keys())):\n",
    "        scen = list(reff.scenario.keys())[scenario]\n",
    "        Under_Installment = ( (reff.scenario['Decarb+E_PVICE_defaults'].data['Installed_Capacity_[W]'][row] - \n",
    "                               reff.scenario[scen].data['Installed_Capacity_[W]'][row])/1000000 )  # MWATTS\n",
    "        reff.scenario[scen].data['new_Installed_Capacity_[MW]'][row] += Under_Installment\n",
    "    reff.calculateMassFlow()"
   ]
  },
  {
   "cell_type": "code",
   "execution_count": null,
   "metadata": {},
   "outputs": [],
   "source": [
    "yearly_higheff_cc, cum_higheff_cc = reff.aggregateResults()\n",
    "yearly_higheff_cc.to_csv(os.path.join(testfolder,'yearly_higheff_cc.csv'))\n",
    "cum_higheff_cc.to_csv(os.path.join(testfolder,'cum_higheff_cc.csv'))"
   ]
  },
  {
   "cell_type": "markdown",
   "metadata": {},
   "source": [
    "First we check the change in deployed capacity, since modifying module efficiency will primarily effect the deployment (and as a result effect virgin mateiral demand). Installs are only dependent on life, not recycling, therefore we can select any of the recycling rates."
   ]
  },
  {
   "cell_type": "code",
   "execution_count": null,
   "metadata": {
    "scrolled": true
   },
   "outputs": [],
   "source": [
    "reff.plotScenariosComparison('Area')"
   ]
  },
  {
   "cell_type": "markdown",
   "metadata": {},
   "source": [
    "Because we deploy using MW, the difference from efficiency improvement will not appear in MW deployed but in the area of those MW deployed. Therefore, we will compare the area deployed as a proxy for # of modules and compare the tandem 30% efficiency against the c-Si 25% efficiency 15 year modules, and PV ICE."
   ]
  },
  {
   "cell_type": "code",
   "execution_count": null,
   "metadata": {
    "scrolled": true
   },
   "outputs": [],
   "source": [
    "#'Area' is what gets installed annually, so cumcum = sum area installed\n",
    "tandem_annualareainstalled = pd.Series(reff.scenario['Tandem 15 years & 0% Recycled'].data['Area'])\n",
    "tandem_cumareainstalled = pd.Series(tandem_annualareainstalled.cumsum())\n",
    "\n",
    "PVICE_annualareainstalled = pd.Series(reff.scenario['Decarb+E_PVICE_defaults'].data['Area'])\n",
    "PVICE_cumareainstalled = PVICE_annualareainstalled.cumsum()\n",
    "\n",
    "#the area deployed for the 15 yr BOM modified will be the same as the main analysis, because the eff is the same\n",
    "#therefore, use r3 to get this number\n",
    "cSi15yr_annualareainstalled = pd.Series(r3.scenario['ThinFilm 15 years & 0% Recycled'].data['Area'])\n",
    "cSi15yr_cumareainstalled = cSi15yr_annualareainstalled.cumsum()\n",
    "\n",
    "areacompare = pd.DataFrame([tandem_cumareainstalled, PVICE_cumareainstalled, cSi15yr_cumareainstalled], \n",
    "             index=['15-yr High Efficiency','PV ICE','15-yr c-Si'])\n",
    "areacompare_df = areacompare.T\n",
    "areacompare_df.index=range(2010,2051)\n",
    "\n",
    "plt.plot(areacompare_df)\n",
    "plt.legend(areacompare_df.columns)\n",
    "plt.title('Cumulative Area Deployed')\n",
    "plt.ylabel('Area Deployed [m^2]')"
   ]
  },
  {
   "cell_type": "markdown",
   "metadata": {},
   "source": [
    "Area comparison"
   ]
  },
  {
   "cell_type": "code",
   "execution_count": null,
   "metadata": {
    "scrolled": false
   },
   "outputs": [],
   "source": [
    "#Make a pretty chart to compare areas vs landmarks\n",
    "areacompare_km = areacompare_df/1e6\n",
    "areacompare_km_graphing = pd.DataFrame(areacompare_km.loc[2050])\n",
    "areacompare_km_graphing.columns=['Area km^2']\n",
    "otherland = pd.DataFrame({'Area km^2':[8991,14357,6446]}, \n",
    "                         index=['Yellowstone','Connecticut','Delaware'])\n",
    "areacompare_km_graph = areacompare_km_graphing.append(otherland)\n",
    "areacompare_km_graph_rnd = round(areacompare_km_graph,0)\n",
    "areacompare_km_graph_sorted = areacompare_km_graph_rnd.sort_values('Area km^2', ascending=False)\n",
    "areacompare_km_graph_sorted"
   ]
  },
  {
   "cell_type": "code",
   "execution_count": null,
   "metadata": {},
   "outputs": [],
   "source": [
    "# import the circlify library\n",
    "import circlify\n",
    "\n",
    "# compute circle positions:\n",
    "circles = circlify.circlify(\n",
    "    areacompare_km_graph_sorted['Area km^2'].tolist(), \n",
    "    show_enclosure=False, \n",
    "    target_enclosure=circlify.Circle(x=0, y=0, r=1)\n",
    ")\n",
    "\n",
    "# Create just a figure and only one subplot\n",
    "fig, ax = plt.subplots(figsize=(11,11))\n",
    "\n",
    "# Remove axes\n",
    "ax.axis('off')\n",
    "\n",
    "# Find axis boundaries\n",
    "lim = max(\n",
    "    max(\n",
    "        abs(circle.x) + circle.r,\n",
    "        abs(circle.y) + circle.r,\n",
    "    )\n",
    "    for circle in circles\n",
    ")\n",
    "plt.xlim(-lim, lim)\n",
    "plt.ylim(-lim, lim)\n",
    "\n",
    "# print circles\n",
    "for circle in circles:\n",
    "    x, y, r = circle\n",
    "    ax.add_patch(plt.Circle((x, y), r, alpha=0.2, linewidth=2, edgecolor='black', fill=False))"
   ]
  },
  {
   "cell_type": "code",
   "execution_count": null,
   "metadata": {},
   "outputs": [],
   "source": []
  },
  {
   "cell_type": "code",
   "execution_count": null,
   "metadata": {},
   "outputs": [],
   "source": []
  },
  {
   "cell_type": "markdown",
   "metadata": {},
   "source": [
    "If we approximate a module as 2 m^2 (current average, though CdTe series 6 modules are 2.47 m^2), then we can use the area deployed to calculate an approximate number of modules."
   ]
  },
  {
   "cell_type": "code",
   "execution_count": null,
   "metadata": {},
   "outputs": [],
   "source": [
    "modulesdeployed_billions = (areacompare_df/2)/1e9\n",
    "modulesdeployed_billions.tail(1)"
   ]
  },
  {
   "cell_type": "code",
   "execution_count": null,
   "metadata": {},
   "outputs": [],
   "source": [
    "reducedmodules = modulesdeployed_billions.loc[2050,'c-Si 15yr']-modulesdeployed_billions.loc[2050,'15 yr Tandem']\n",
    "modulesvspvice = modulesdeployed_billions.loc[2050,'15 yr Tandem']-modulesdeployed_billions.loc[2050,'PV ICE']\n",
    "print('If module eff is 30%, then '+str(round(reducedmodules,2))+' billion fewer modules can be deployed.')\n",
    "print('However, the 15 year 30% effcient module still requires '+str(round(modulesvspvice,2))+\n",
    "      ' billion more modules than the 35 year 25% efficient module.')\n"
   ]
  },
  {
   "cell_type": "markdown",
   "metadata": {},
   "source": [
    "This graph shows the cumulative deployed area over time for the PV ICE baseline, the \"15-year Tandem\" device, which is the same BOM but higher module efficiency (30%), and the c-Si 15 year module with the same efficiency as PV ICE (25%). We see that the higher efficiency lowers the required deployment area. Interestingly, around 2038, PV ICE and the 15-year Tandem device cross, because the replacement requirement for the 15-year Tandem is higher than PV ICE 35 year module. Cumulatively, the Tandem device still requires more area deployment. Next let's look at what level of closed-loop recycling will drop the virgin material requirements."
   ]
  },
  {
   "cell_type": "code",
   "execution_count": null,
   "metadata": {},
   "outputs": [],
   "source": [
    "tandem_virginmod = pd.DataFrame(cum_higheff_cc.loc[2050].filter(like='VirginStock_Module'))\n",
    "tandem_virginmod[::-1]>=PVICE_virgin*1e6"
   ]
  },
  {
   "cell_type": "markdown",
   "metadata": {},
   "source": [
    "These results indicate that due to reduced area deployed, the necessary closed-loop recycling is lowered to 65%. This indicates that virgin material demand is more sensitive to module efficiency than BOM (which lowered the closed-loop recycling need to 75%)."
   ]
  },
  {
   "cell_type": "code",
   "execution_count": null,
   "metadata": {},
   "outputs": [],
   "source": [
    "tandem_virginmod_millionmetrictonnes = tandem_virginmod/1e6\n",
    "tandem_virginmod_millionmetrictonnes.loc['VirginStock_Module_SanityCheck_Tandem 15 years & 60% Recycled_[Tonnes]',2050]"
   ]
  },
  {
   "cell_type": "code",
   "execution_count": null,
   "metadata": {},
   "outputs": [],
   "source": [
    "tandem_wastemod = pd.DataFrame(cum_higheff_cc.loc[2050].filter(like='WasteAll_Module'))\n",
    "tandem_wastemod[::-1]>=PVICE_waste*1e6"
   ]
  },
  {
   "cell_type": "markdown",
   "metadata": {},
   "source": [
    "Like the BOM change, lifecycle wastes are not as sensitive to module efficiency changes, since much waste is due to pre-2020 modules. "
   ]
  },
  {
   "cell_type": "markdown",
   "metadata": {},
   "source": [
    "## Breakthrough Technology: Thin Film + High Efficiency\n",
    "\n",
    "Finally, what if there is breakthrough technology which is 30% efficient and a thin film technology (i.e. low BOM)."
   ]
  },
  {
   "cell_type": "code",
   "execution_count": null,
   "metadata": {},
   "outputs": [],
   "source": [
    "r4 = PV_ICE.Simulation(name='SanityCheck', path=testfolder) #create simulation r1\n",
    "#baselinefolder = r'..\\baselines'    \n",
    "\n",
    "for scen in range(len(SFscenarios)):\n",
    "    modulefile = SFscenarios[scen]+'.csv' #pick the scenario csv\n",
    "    modulefile = os.path.join(testfolder, 'USA', modulefile) #point at the file path for the whole US\n",
    "    r4.createScenario(name='Decarb+E_PVICE_defaults', file=modulefile) #change name=SFscenarios[scen] if multiple scenarios\n",
    "    r4.scenario['Decarb+E_PVICE_defaults'].addMaterials(thinfilmMaterials)  # baselinefolder=baselinefolder)\n",
    "    r4.trim_Years(startYear=2010)"
   ]
  },
  {
   "cell_type": "code",
   "execution_count": null,
   "metadata": {},
   "outputs": [],
   "source": [
    "for recycle in range (0,len(Recycling_Range)): #loop over recycling rates\n",
    "    scenname = 'BkThru 15 years & '+ str(Recycling_Range[recycle])+'% Recycled' #name the scenario\n",
    "    r4.createScenario(name=scenname,file=modulefile) #create the scenario with name\n",
    "    r4.scenario[scenname].addMaterials(thinfilmMaterials)  # baselinefolder=baselinefolder)\n",
    "    r4.trim_Years(startYear=2010, endYear=2050)\n",
    "    r4.modifyScenario(scenname, 'mod_lifetime', 15, 2020)\n",
    "    r4.modifyScenario(scenname, 'mod_reliability_t50', float(life15['t50']), 2020)\n",
    "    r4.modifyScenario(scenname, 'mod_reliability_t90', float(life15['t90']), 2020)\n",
    "    r4.modifyScenario(scenname, 'mod_degradation', life15['mod_degradation'], 2020)\n",
    "    r4.modifyScenario(scenname, 'mod_EOL_collected_recycled', 100.0, 2020)\n",
    "    r4.modifyScenario(scenname, 'mod_EOL_collection_eff', 100.0, 2020)\n",
    "    r4.modifyScenario(scenname, 'mod_eff', 30.0, 2020)\n",
    "        \n",
    "    for var in range(0,len(RecyclingPaths)):\n",
    "        r4.scenario[scenname].modifyMaterials(thinfilmMaterials, stage=RecyclingPaths[var], value=100.0, start_year=2020)\n",
    "        \n",
    "    for ylds in range(0,len(RecyclingYields)):\n",
    "        r4.scenario[scenname].modifyMaterials(thinfilmMaterials, stage=RecyclingYields[ylds], \n",
    "                                                  value=Recycling_Range[recycle], start_year=2020)"
   ]
  },
  {
   "cell_type": "code",
   "execution_count": null,
   "metadata": {
    "scrolled": true
   },
   "outputs": [],
   "source": [
    "r4.calculateMassFlow()"
   ]
  },
  {
   "cell_type": "code",
   "execution_count": null,
   "metadata": {
    "scrolled": true
   },
   "outputs": [],
   "source": [
    "r4.scenario['BkThru 15 years & 5% Recycled'].data['mod_eff']"
   ]
  },
  {
   "cell_type": "markdown",
   "metadata": {},
   "source": [
    "Now run capacity compensation. This is where the difference really lies, in how many fewer modules can be deployed due to increased module efficiency."
   ]
  },
  {
   "cell_type": "code",
   "execution_count": null,
   "metadata": {},
   "outputs": [],
   "source": [
    "for row in range (0,len(r4.scenario['Decarb+E_PVICE_defaults'].data)):\n",
    "    for scenario in range (0, len(r4.scenario.keys())):\n",
    "        scen = list(r4.scenario.keys())[scenario]\n",
    "        Under_Installment = ( (r4.scenario['Decarb+E_PVICE_defaults'].data['Installed_Capacity_[W]'][row] - \n",
    "                               r4.scenario[scen].data['Installed_Capacity_[W]'][row])/1000000 )  # MWATTS\n",
    "        r4.scenario[scen].data['new_Installed_Capacity_[MW]'][row] += Under_Installment\n",
    "    r4.calculateMassFlow()"
   ]
  },
  {
   "cell_type": "code",
   "execution_count": null,
   "metadata": {},
   "outputs": [],
   "source": [
    "yearly_bkthru_cc, cum_bkthru_cc = r4.aggregateResults()\n",
    "yearly_bkthru_cc.to_csv(os.path.join(testfolder,'yearly_bkthru_cc.csv'))\n",
    "cum_bkthru_cc.to_csv(os.path.join(testfolder,'cum_bkthru_cc.csv'))"
   ]
  },
  {
   "cell_type": "markdown",
   "metadata": {},
   "source": [
    "The reduction in area deployed should be identical to the module efficiency improvement analysis above. Therefore, we will just look at the combined effect on virigin material demand and the necessary closed-loop recycling rate."
   ]
  },
  {
   "cell_type": "code",
   "execution_count": null,
   "metadata": {},
   "outputs": [],
   "source": [
    "bkthru_virginmod = pd.DataFrame(cum_bkthru_cc.loc[2050].filter(like='VirginStock_Module'))\n",
    "bkthru_virginmod[::-1]>=PVICE_virgin*1e6"
   ]
  },
  {
   "cell_type": "markdown",
   "metadata": {},
   "source": [
    "The combined lower BOM and higher Efficiency reduce the required circularity to 50% closed-loop.\n",
    "\n",
    "## ALTERNATE BOM MODIFICATION\n",
    "\n",
    "In this BOM modification, we will try to more accurately represent a thin film technology. Parameters will be identical glass baseline, Aluminum Frame, Backsheet, 10% of the c-Si, 50% of the encapsulant, and neglect Ag and Cu. The glass and backsheet baselines account for increasing shares of glass-glass packaging. Silicon absorber will be reduced to a thin film thickness as a proxy, and the encapsulant will be cut in half, since typically, thin film uses 1 sheet of encapsulant instead of the 2 sheets c-Si uses. This will include manufacturing inefficiencies of these materials. Current wafer thickness is ~165 micron, and CdTe thin films are 10s of microns; therefore we will use 10% of c-Si mass per area."
   ]
  },
  {
   "cell_type": "code",
   "execution_count": null,
   "metadata": {},
   "outputs": [],
   "source": [
    "thinfilmBOM = ['glass','backsheet','aluminium_frames','silicon','encapsulant']\n",
    "#create a subset of 15 year module with all recycling values\n",
    "life15 = lifetime_range_df.iloc[0,:]"
   ]
  },
  {
   "cell_type": "code",
   "execution_count": null,
   "metadata": {},
   "outputs": [],
   "source": [
    "r5 = PV_ICE.Simulation(name='SanityCheck', path=testfolder) #create simulation r1\n",
    "#baselinefolder = r'..\\baselines'    \n",
    "\n",
    "for scen in range(len(SFscenarios)):\n",
    "    modulefile = SFscenarios[scen]+'.csv' #pick the scenario csv\n",
    "    modulefile = os.path.join(testfolder, 'USA', modulefile) #point at the file path for the whole US\n",
    "    r5.createScenario(name='Decarb+E_PVICE_defaults', file=modulefile) #change name=SFscenarios[scen] if multiple scenarios\n",
    "    r5.scenario['Decarb+E_PVICE_defaults'].addMaterials(thinfilmBOM)  # baselinefolder=baselinefolder)\n",
    "    r5.trim_Years(startYear=2010)"
   ]
  },
  {
   "cell_type": "code",
   "execution_count": null,
   "metadata": {},
   "outputs": [],
   "source": [
    "for recycle in range (0,len(Recycling_Range)): #loop over recycling rates\n",
    "    scenname = 'ThinFilmBOM 15 years & '+ str(Recycling_Range[recycle])+'% Recycled' #name the scenario\n",
    "    r5.createScenario(name=scenname,file=modulefile) #create the scenario with name\n",
    "    r5.scenario[scenname].addMaterials(thinfilmBOM)  # baselinefolder=baselinefolder)\n",
    "    r5.trim_Years(startYear=2010, endYear=2050)\n",
    "    r5.modifyScenario(scenname, 'mod_lifetime', 15, 2020)\n",
    "    r5.modifyScenario(scenname, 'mod_reliability_t50', float(life15['t50']), 2020)\n",
    "    r5.modifyScenario(scenname, 'mod_reliability_t90', float(life15['t90']), 2020)\n",
    "    r5.modifyScenario(scenname, 'mod_degradation', life15['mod_degradation'], 2020)\n",
    "    r5.modifyScenario(scenname, 'mod_EOL_collected_recycled', 100.0, 2020)\n",
    "    r5.modifyScenario(scenname, 'mod_EOL_collection_eff', 100.0, 2020)\n",
    "        \n",
    "    for var in range(0,len(RecyclingPaths)):\n",
    "        r5.scenario[scenname].modifyMaterials(thinfilmBOM, stage=RecyclingPaths[var], value=100.0, start_year=2020)\n",
    "        \n",
    "    for ylds in range(0,len(RecyclingYields)):\n",
    "        r5.scenario[scenname].modifyMaterials(thinfilmBOM, stage=RecyclingYields[ylds], \n",
    "                                                  value=Recycling_Range[recycle], start_year=2020)"
   ]
  },
  {
   "cell_type": "code",
   "execution_count": null,
   "metadata": {},
   "outputs": [],
   "source": [
    "#Modify the silicon and encapsulant\n",
    "scennames = pd.Series(r5.scenario.keys())\n",
    "\n",
    "#create new mass series\n",
    "selectyears = r1.scenario['Decarb+E_PVICE_defaults'].material['encapsulant'].materialdata['year']>2020\n",
    "newmass_encap = r1.scenario['Decarb+E_PVICE_defaults'].material['encapsulant'].materialdata.loc[selectyears,'mat_massperm2']*0.5\n",
    "newmass_si = r1.scenario['Decarb+E_PVICE_defaults'].material['silicon'].materialdata.loc[selectyears,'mat_massperm2']*0.1\n",
    "\n",
    "#this will change the Decarb+PVICE baseline, but we compare to original data from above\n",
    "for scen in scennames:\n",
    "    r5.scenario[scen].modifyMaterials('encapsulant', stage='mat_massperm2', value = newmass_encap, start_year=2020)\n",
    "    r5.scenario[scen].modifyMaterials('silicon', stage='mat_massperm2', value = newmass_si, start_year=2020)"
   ]
  },
  {
   "cell_type": "code",
   "execution_count": null,
   "metadata": {
    "scrolled": false
   },
   "outputs": [],
   "source": [
    "newsi = pd.Series(r5.scenario['Decarb+E_PVICE_defaults'].material['silicon'].materialdata['mat_massperm2'])\n",
    "newencap = pd.Series(r5.scenario['Decarb+E_PVICE_defaults'].material['encapsulant'].materialdata['mat_massperm2'])\n",
    "basesi = pd.Series(r1.scenario['Decarb+E_PVICE_defaults'].material['silicon'].materialdata['mat_massperm2'])\n",
    "baseencap = pd.Series(r1.scenario['Decarb+E_PVICE_defaults'].material['encapsulant'].materialdata['mat_massperm2'])\n",
    "\n",
    "compareBOM_t = pd.DataFrame([baseencap,newencap,basesi,newsi], \n",
    "                            index=('Encapsulant Baseline','50% Encapsulant','Silicon Baseline','10% Si'))\n",
    "compareBOM = compareBOM_t.T\n",
    "compareBOM.index=range(2010,2051)\n",
    "plt.plot(compareBOM)\n",
    "plt.legend(compareBOM.columns, loc='right', bbox_to_anchor=(0.5, 0.35, 0.5, 0.5))\n",
    "plt.title('Comparing Mass per Area for Encapsulant and Silicon')\n",
    "plt.ylabel('grams per m2')"
   ]
  },
  {
   "cell_type": "code",
   "execution_count": null,
   "metadata": {},
   "outputs": [],
   "source": [
    "r5.calculateMassFlow()"
   ]
  },
  {
   "cell_type": "code",
   "execution_count": null,
   "metadata": {},
   "outputs": [],
   "source": [
    "#Installation Compensation\n",
    "for row in range (0,len(r5.scenario['Decarb+E_PVICE_defaults'].data)):\n",
    "    for scenario in range (0, len(r5.scenario.keys())):\n",
    "        scen = list(r5.scenario.keys())[scenario]\n",
    "        Under_Installment = ( (r5.scenario['Decarb+E_PVICE_defaults'].data['Installed_Capacity_[W]'][row] - \n",
    "                               r5.scenario[scen].data['Installed_Capacity_[W]'][row])/1000000 )  # MWATTS\n",
    "        r5.scenario[scen].data['new_Installed_Capacity_[MW]'][row] += Under_Installment\n",
    "    r5.calculateMassFlow()"
   ]
  },
  {
   "cell_type": "code",
   "execution_count": null,
   "metadata": {},
   "outputs": [],
   "source": [
    "yearly_thinfilmbom_cc, cum_thinfilmbom_cc = r5.aggregateResults()\n",
    "yearly_thinfilmbom_cc.to_csv(os.path.join(testfolder,'yearly_thinfilmbom_cc.csv'))\n",
    "cum_thinfilmbom_cc.to_csv(os.path.join(testfolder,'cum_thinfilmbom_cc.csv'))"
   ]
  },
  {
   "cell_type": "markdown",
   "metadata": {},
   "source": [
    "Now we analyze the results"
   ]
  },
  {
   "cell_type": "code",
   "execution_count": null,
   "metadata": {
    "scrolled": true
   },
   "outputs": [],
   "source": [
    "thinfilmBOM_virginmod = pd.DataFrame(cum_thinfilmbom_cc.loc[2050].filter(like='VirginStock_Module'))\n",
    "thinfilmBOM_virginmod[::-1]>=PVICE_virgin*1e6"
   ]
  },
  {
   "cell_type": "code",
   "execution_count": null,
   "metadata": {},
   "outputs": [],
   "source": [
    "thinfilmBOM_virginmod_millionmetrictonnes = thinfilmBOM_virginmod/1e6\n",
    "thinfilmBOM_virginmod_millionmetrictonnes.loc['VirginStock_Module_SanityCheck_ThinFilmBOM 15 years & 80% Recycled_[Tonnes]',2050]"
   ]
  },
  {
   "cell_type": "code",
   "execution_count": null,
   "metadata": {
    "scrolled": false
   },
   "outputs": [],
   "source": [
    "#Make a pretty bar plot\n",
    "thinfilmBOM_virginmod_millionmetrictonnes.iloc[0]=(PVICE_virgin) #change the PV ICE to correct baseline\n",
    "rr_str = [str(i)+'%' for i in Recycling_Range]\n",
    "rr_str.insert(0,'Baseline')\n",
    "thinfilmBOM_virginmod_millionmetrictonnes.index=rr_str\n",
    "thinfilmBOM_virginmod_millionmetrictonnes.to_csv(os.path.join(testfolder,'thinfilmBOM_barplot.csv'))\n",
    "thinfilmBOM_virginmod_millionmetrictonnes.plot(kind='bar')"
   ]
  },
  {
   "cell_type": "code",
   "execution_count": null,
   "metadata": {},
   "outputs": [],
   "source": [
    "#comparison, c-si full BOM, 15-yr 80% recycled\n",
    "cumRvL_installcomp.filter(regex='VirginStock_Module_').filter(like='15years').filter(like='80%').loc[2050]/1e6"
   ]
  },
  {
   "cell_type": "markdown",
   "metadata": {},
   "source": [
    "These results indicate that 80% closed-loop recycling is required for this thin film BOM to extract fewer materials. This is an overall lowering of the BOM by:"
   ]
  },
  {
   "cell_type": "code",
   "execution_count": null,
   "metadata": {
    "scrolled": true
   },
   "outputs": [],
   "source": [
    "matdf = pd.DataFrame()\n",
    "for mat in thinfilmBOM:\n",
    "    matdf[mat]=r5.scenario['ThinFilmBOM 15 years & 80% Recycled'].material[mat].materialdata['mat_massperm2']\n",
    "\n",
    "matdf.index=range(2010,2051)\n",
    "matdf['module'] = matdf.sum(axis=1)\n",
    "matdf.tail(1)"
   ]
  },
  {
   "cell_type": "markdown",
   "metadata": {},
   "source": [
    "This is ~12kg/m2. For reference, a CdTe series 6 module is ~14kg/m2"
   ]
  },
  {
   "cell_type": "code",
   "execution_count": null,
   "metadata": {},
   "outputs": [],
   "source": [
    "pvicematdf = pd.DataFrame()\n",
    "for mat in MATERIALS:\n",
    "    pvicematdf[mat]=r1.scenario['Decarb+E_PVICE_defaults'].material[mat].materialdata['mat_massperm2']\n",
    "\n",
    "pvicematdf.index=range(2010,2051)\n",
    "pvicematdf['module'] = matdf.sum(axis=1)\n",
    "pvicematdf.tail(1)"
   ]
  },
  {
   "cell_type": "code",
   "execution_count": null,
   "metadata": {},
   "outputs": [],
   "source": [
    "thinfilmfractionBOM = matdf.loc[2050,'module']/pvicematdf.loc[2050,'module']\n",
    "print('The thin film BOM is '+str(thinfilmfractionBOM*100)+'% of the PV ICE BOM')"
   ]
  },
  {
   "cell_type": "code",
   "execution_count": null,
   "metadata": {},
   "outputs": [],
   "source": []
  }
 ],
 "metadata": {
  "kernelspec": {
   "display_name": "Python 3 (ipykernel)",
   "language": "python",
   "name": "python3"
  },
  "language_info": {
   "codemirror_mode": {
    "name": "ipython",
    "version": 3
   },
   "file_extension": ".py",
   "mimetype": "text/x-python",
   "name": "python",
   "nbconvert_exporter": "python",
   "pygments_lexer": "ipython3",
   "version": "3.8.8"
  }
 },
 "nbformat": 4,
 "nbformat_minor": 2
}
