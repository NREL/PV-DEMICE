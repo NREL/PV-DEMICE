{
 "cells": [
  {
   "cell_type": "markdown",
   "id": "9e177e54-f79e-4d25-9f50-aadc098c2370",
   "metadata": {},
   "source": [
    "# 1 &emsp; Creating Two Scenarios with Two Materials <a id='1'></a>\n",
    "***"
   ]
  },
  {
   "cell_type": "markdown",
   "id": "7a02101d-e10d-46ea-b414-556f7fc4b547",
   "metadata": {},
   "source": [
    "## 1.1 &emsp; Set the Working Folder and Import PV_ICE <a id='1.1'></a>"
   ]
  },
  {
   "cell_type": "markdown",
   "id": "59d4e228-8a03-42bf-b038-69f9f545497b",
   "metadata": {},
   "source": [
    "We learned this step in the previous lesson. To refresh additional explanation, just go back to the [tutorial](./01_First_Simulations.ipynb)!"
   ]
  },
  {
   "cell_type": "code",
   "execution_count": 1,
   "id": "223cb42c-fce2-4280-a745-d51a3e5b6c77",
   "metadata": {},
   "outputs": [
    {
     "name": "stdout",
     "output_type": "stream",
     "text": [
      "Your simulation will be stored in /Users/mmendez/Documents/Postdoc/Software_dev/PV_ICE/docs/tutorials/tutorials_v2/TEMP\n",
      "Your baselines are stored in /Users/mmendez/Documents/Postdoc/Software_dev/PV_ICE/PV_ICE/baselines\n"
     ]
    }
   ],
   "source": [
    "import os\n",
    "from pathlib import Path\n",
    "import PV_ICE\n",
    "\n",
    "testfolder = str(Path().resolve() / 'TEMP') # Path to the simulation folder.\n",
    "\n",
    "baselinesfolder = str(Path().resolve().parent.parent.parent / 'PV_ICE' / 'baselines')  # Path to baselines and data.\n",
    "\n",
    "print (\"Your simulation will be stored in %s\" % testfolder)\n",
    "print (\"Your baselines are stored in %s\" % baselinesfolder)"
   ]
  },
  {
   "cell_type": "markdown",
   "id": "2251ed65-0453-402f-9a8a-0d1f414296d0",
   "metadata": {},
   "source": [
    "## 1.2 &emsp; Add Scenarios and Materials <a id='1.2'></a>"
   ]
  },
  {
   "cell_type": "markdown",
   "id": "7483af72-7080-4bc0-8e41-9393a06092ae",
   "metadata": {},
   "source": [
    "Let's do a comparison between `'silicon'` and `'glass'` in two different scenarios. First, we create a new simulation folder and load it with the `'baseline_modules_US.csv'` baseline. The first scenario, `'standard'`, will be the same as in Tutorial 1 but with two materials. In the second scenario, `'decadence'`, we will compare the decadence of these materials, we will modify the uploaded simulation baseline for this specific scenario. "
   ]
  },
  {
   "cell_type": "code",
   "execution_count": 2,
   "id": "450bdf76-6cb5-428b-99f5-3dda4be0b68b",
   "metadata": {},
   "outputs": [
    {
     "name": "stdout",
     "output_type": "stream",
     "text": [
      "path = /Users/mmendez/Documents/Postdoc/Software_dev/PV_ICE/docs/tutorials/tutorials_v2/TEMP\n"
     ]
    }
   ],
   "source": [
    "r1 = PV_ICE.Simulation(name='Simulation_1', path=testfolder)\n",
    "\n",
    "r1.createScenario(name='standard', file= baselinesfolder + '/baseline_modules_US.csv')\n",
    "r1.scenario['standard'].addMaterial('glass', file=baselinesfolder + '/baseline_material_glass.csv')\n",
    "r1.scenario['standard'].addMaterial('silicon', file=baselinesfolder + '/baseline_material_silicon.csv' )\n",
    "r1_standard_before = len(r1.scenario['standard'].data) # This line here is to count the amount of columns before the calculations, and compare it with the generated columns after calculating the massflow.\n",
    "\n",
    "r1.createScenario('decadence', file=baselinesfolder + '/baseline_modules_US.csv')\n",
    "r1.scenario['decadence'].addMaterial('glass', file=baselinesfolder + '/baseline_material_glass.csv')\n",
    "r1.scenario['decadence'].addMaterial('silicon', file=baselinesfolder + '/baseline_material_silicon.csv')\n",
    "r1_decadence_before = len(r1.scenario['decadence'].data) # This line here is to count the amount of columns before the calculations, and compare it with the generated columns after calculating the massflow.\n"
   ]
  },
  {
   "cell_type": "markdown",
   "id": "14eb358c-4c87-4123-bdf7-6b2415c3e905",
   "metadata": {},
   "source": [
    "## 1.3 &emsp; Modify Parameter in the Scenarios <a id='1.3'></a>"
   ]
  },
  {
   "cell_type": "markdown",
   "id": "e22767c1-707a-46c3-ac3c-54b472733df6",
   "metadata": {},
   "source": [
    "PV_ICE has some dedicated functions that create changes based on improvements, but for this example we'll just be modifying values for the full column and comparing effects. To modify these columns, we use the `materialdata` method with the specific column name we want to change. In this case, we will be changing the following columns:\n",
    "* Virgin material efficiency, `'mat_virgin_eff': Percentage of the virgin material is collected and passed to the next step in the manufacturing chain. The material not collected goes to virgin material waste.\n",
    "* Material collected for recycling at the end of life (EOL), `'mat_virgin_eff'`: Percentage of material that will be recycled at the EOL.\n",
    "* `'mat_massperm2'`: Find out what this is.\n",
    "We will set some aleatory values to compare the effects in the `'decadence'` scenario."
   ]
  },
  {
   "cell_type": "code",
   "execution_count": 4,
   "id": "f7b240a7-d0ec-439e-85d8-e6e703518753",
   "metadata": {},
   "outputs": [],
   "source": [
    "r1.scenario['decadence'].data['mod_lifetime'] = 35 # Default in the baseline_US module lifetime starts at 12.5% in 1995, 21% in 2021, reaching 25% in 2050.\n",
    "\n",
    "r1.scenario['decadence'].material['glass'].materialdata['mat_virgin_eff'] = 70.0  # Default in the baseline_material_glass is 60%.\n",
    "\n",
    "r1.scenario['decadence'].material['silicon'].materialdata['mat_virgin_eff'] = 80.0 # Default in the baseline_material_silicon ranges from 20% plateauing in 30%.\n",
    "r1.scenario['decadence'].material['silicon'].materialdata['mat_EOL_collected_Recycled'] = 100.0 # This one is not in the baseline!!\n",
    "r1.scenario['decadence'].material['silicon'].materialdata['mat_massperm2'] = 22 # The minimum value in the baseline_material_silicon is 314 g!"
   ]
  },
  {
   "cell_type": "markdown",
   "id": "34a707c2-62bd-4c79-94d9-ce1ad897d384",
   "metadata": {},
   "source": [
    "Decadence is a pretty optimistic scenario if we compare it with the baselines! However, it is a great example to see the PV_ICE simulation capabilities."
   ]
  },
  {
   "cell_type": "markdown",
   "id": "71d6072b-6570-4015-8776-659049aa111a",
   "metadata": {},
   "source": [
    "## 1.4 &emsp; Run the Mass Flow Calculations on All Scenarios and Materials <a id='1.4'></a>"
   ]
  },
  {
   "cell_type": "markdown",
   "id": "a2c1d9c2-ee7e-4b6c-80d2-3a4d2b4079fb",
   "metadata": {},
   "source": [
    "As we did before, we run the `'calculateMassFlow'` method, in this case we also run the `'aggregateResults'` which... what? \n",
    "VirginStock_glass_Simulation_2_standard_[Tonnes]"
   ]
  },
  {
   "cell_type": "code",
   "execution_count": 5,
   "id": "7b6f4d4b-963f-4462-b503-0fd4a5685b1c",
   "metadata": {},
   "outputs": [
    {
     "name": "stdout",
     "output_type": "stream",
     "text": [
      "Working on Scenario:  standard\n",
      "********************\n",
      "Finished Area+Power Generation Calculations\n",
      "==> Working on Material :  glass\n",
      "==> Working on Material :  silicon\n",
      "Working on Scenario:  decadence\n",
      "********************\n",
      "Finished Area+Power Generation Calculations\n",
      "==> Working on Material :  glass\n",
      "==> Working on Material :  silicon\n"
     ]
    }
   ],
   "source": [
    "r1.calculateMassFlow()\n",
    "r1.aggregateResults();"
   ]
  },
  {
   "cell_type": "markdown",
   "id": "43ae694a-6142-4262-86a5-64312a62b842",
   "metadata": {},
   "source": [
    "Wow those are a lot of calculations!! For further information on the mass flow outputs, see the [PV_ICE Data:Mass output documentation](https://pv-ice.readthedocs.io/en/latest/data.html#pv-ice-outputs)."
   ]
  },
  {
   "cell_type": "code",
   "execution_count": 9,
   "id": "a837cd9a-4150-4e77-9beb-fbf1aa99c83c",
   "metadata": {},
   "outputs": [
    {
     "name": "stdout",
     "output_type": "stream",
     "text": [
      "Your `standard` scenario has 231 columns now! Before it had 56. We have added 175 output columns!\n",
      "Your `decadence` scenario has 231 columns now! Before it had 56. We have added 175 output columns!\n"
     ]
    }
   ],
   "source": [
    "r1_standard_now = len(r1.scenario['decadence'].data.columns)\n",
    "r1_decadence_now = len(r1.scenario['decadence'].data.columns)\n",
    "\n",
    "print('Your `standard` scenario has {} columns now! Before it had {}. We have added {} output columns!'.format(r1_standard_now, r1_standard_before, r1_standard_now - r1_standard_before))\n",
    "print('Your `decadence` scenario has {} columns now! Before it had {}. We have added {} output columns!'.format(r1_decadence_now, r1_decadence_before, r1_decadence_now - r1_decadence_before))"
   ]
  },
  {
   "cell_type": "markdown",
   "id": "b7c2319b-07dd-47b1-b37b-15d5d80519f4",
   "metadata": {},
   "source": [
    "Let's try to unpack and undertand some of these results using the internal plotting function."
   ]
  },
  {
   "cell_type": "markdown",
   "id": "df753e4c-b121-4676-a28d-1ae1daddbc0f",
   "metadata": {},
   "source": [
    "## 1.5 &emsp; Use Internal Plotting Functions to Plot Results <a id='1.5'></a>"
   ]
  },
  {
   "cell_type": "markdown",
   "id": "c1820668-d924-42bd-b19e-541803143fa7",
   "metadata": {},
   "source": [
    "As explained in the previous tutorial, you can get the keyword possibilities calling the method `plotScenariosComparison()` without any argument."
   ]
  },
  {
   "cell_type": "code",
   "execution_count": 10,
   "id": "ba05d8e1-454f-4bdf-a3a4-6e0ede05d750",
   "metadata": {},
   "outputs": [
    {
     "name": "stdout",
     "output_type": "stream",
     "text": [
      "Choose one of the keywords:  ['year', 'new_Installed_Capacity_[MW]', 'mod_eff', 'mod_reliability_t50', 'mod_reliability_t90', 'mod_degradation', 'mod_lifetime', 'mod_MFG_eff', 'mod_Repair', 'mod_MerchantTail', 'mod_EOL_collection_eff', 'mod_EOL_pg0_resell', 'mod_EOL_pg1_landfill', 'mod_EOL_pg2_stored', 'mod_EOL_pg3_reMFG', 'mod_EOL_pg4_recycled', 'mod_EOL_reMFG_yield', 'mod_EOL_sp_reMFG_recycle', 'mod_EOL_pb1_landfill', 'mod_EOL_pb2_stored', 'mod_EOL_pb3_reMFG', 'mod_EOL_pb4_recycled', 'irradiance_stc', 'Area', 'Yearly_Sum_Area_disposedby_Failure', 'Yearly_Sum_Power_disposedby_Failure', 'Yearly_Sum_Area_disposedby_ProjectLifetime', 'Yearly_Sum_Power_disposedby_ProjectLifetime', 'Yearly_Sum_Area_disposed', 'Yearly_Sum_Power_disposed', 'landfilled_noncollected', 'Repaired_[W]', 'Repaired_Area', 'Resold_Area', 'Resold_[W]', 'Cumulative_Active_Area', 'Installed_Capacity_[W]', 'Status_BAD_Area', 'Status_BAD_[W]', 'Area_for_EOL_pathsG', 'Power_for_EOL_pathsG', 'Landfill_0', 'WeibullParams', 'EOL_PG_Year_0', 'EOL_PG_Year_1', 'EOL_PG_Year_2', 'EOL_PG_Year_3', 'EOL_PG_Year_4', 'EOL_PG_Year_5', 'EOL_PG_Year_6', 'EOL_PG_Year_7', 'EOL_PG_Year_8', 'EOL_PG_Year_9', 'EOL_PG_Year_10', 'EOL_PG_Year_11', 'EOL_PG_Year_12', 'EOL_PG_Year_13', 'EOL_PG_Year_14', 'EOL_PG_Year_15', 'EOL_PG_Year_16', 'EOL_PG_Year_17', 'EOL_PG_Year_18', 'EOL_PG_Year_19', 'EOL_PG_Year_20', 'EOL_PG_Year_21', 'EOL_PG_Year_22', 'EOL_PG_Year_23', 'EOL_PG_Year_24', 'EOL_PG_Year_25', 'EOL_PG_Year_26', 'EOL_PG_Year_27', 'EOL_PG_Year_28', 'EOL_PG_Year_29', 'EOL_PG_Year_30', 'EOL_PG_Year_31', 'EOL_PG_Year_32', 'EOL_PG_Year_33', 'EOL_PG_Year_34', 'EOL_PG_Year_35', 'EOL_PG_Year_36', 'EOL_PG_Year_37', 'EOL_PG_Year_38', 'EOL_PG_Year_39', 'EOL_PG_Year_40', 'EOL_PG_Year_41', 'EOL_PG_Year_42', 'EOL_PG_Year_43', 'EOL_PG_Year_44', 'EOL_PG_Year_45', 'EOL_PG_Year_46', 'EOL_PG_Year_47', 'EOL_PG_Year_48', 'EOL_PG_Year_49', 'EOL_PG_Year_50', 'EOL_PG_Year_51', 'EOL_PG_Year_52', 'EOL_PG_Year_53', 'EOL_PG_Year_54', 'EOL_PG_Year_55', 'EOL_L0_Year_0', 'EOL_L0_Year_1', 'EOL_L0_Year_2', 'EOL_L0_Year_3', 'EOL_L0_Year_4', 'EOL_L0_Year_5', 'EOL_L0_Year_6', 'EOL_L0_Year_7', 'EOL_L0_Year_8', 'EOL_L0_Year_9', 'EOL_L0_Year_10', 'EOL_L0_Year_11', 'EOL_L0_Year_12', 'EOL_L0_Year_13', 'EOL_L0_Year_14', 'EOL_L0_Year_15', 'EOL_L0_Year_16', 'EOL_L0_Year_17', 'EOL_L0_Year_18', 'EOL_L0_Year_19', 'EOL_L0_Year_20', 'EOL_L0_Year_21', 'EOL_L0_Year_22', 'EOL_L0_Year_23', 'EOL_L0_Year_24', 'EOL_L0_Year_25', 'EOL_L0_Year_26', 'EOL_L0_Year_27', 'EOL_L0_Year_28', 'EOL_L0_Year_29', 'EOL_L0_Year_30', 'EOL_L0_Year_31', 'EOL_L0_Year_32', 'EOL_L0_Year_33', 'EOL_L0_Year_34', 'EOL_L0_Year_35', 'EOL_L0_Year_36', 'EOL_L0_Year_37', 'EOL_L0_Year_38', 'EOL_L0_Year_39', 'EOL_L0_Year_40', 'EOL_L0_Year_41', 'EOL_L0_Year_42', 'EOL_L0_Year_43', 'EOL_L0_Year_44', 'EOL_L0_Year_45', 'EOL_L0_Year_46', 'EOL_L0_Year_47', 'EOL_L0_Year_48', 'EOL_L0_Year_49', 'EOL_L0_Year_50', 'EOL_L0_Year_51', 'EOL_L0_Year_52', 'EOL_L0_Year_53', 'EOL_L0_Year_54', 'EOL_L0_Year_55', 'EOL_BS_Year0', 'EOL_BS_Year1', 'EOL_BS_Year2', 'EOL_BS_Year3', 'EOL_BS_Year4', 'EOL_BS_Year5', 'EOL_BS_Year6', 'EOL_BS_Year7', 'EOL_BS_Year8', 'EOL_BS_Year9', 'EOL_BS_Year10', 'EOL_BS_Year11', 'EOL_BS_Year12', 'EOL_BS_Year13', 'EOL_BS_Year14', 'EOL_BS_Year15', 'EOL_BS_Year16', 'EOL_BS_Year17', 'EOL_BS_Year18', 'EOL_BS_Year19', 'EOL_BS_Year20', 'EOL_BS_Year21', 'EOL_BS_Year22', 'EOL_BS_Year23', 'EOL_BS_Year24', 'EOL_BS_Year25', 'EOL_BS_Year26', 'EOL_BS_Year27', 'EOL_BS_Year28', 'EOL_BS_Year29', 'EOL_BS_Year30', 'EOL_BS_Year31', 'EOL_BS_Year32', 'EOL_BS_Year33', 'EOL_BS_Year34', 'EOL_BS_Year35', 'EOL_BS_Year36', 'EOL_BS_Year37', 'EOL_BS_Year38', 'EOL_BS_Year39', 'EOL_BS_Year40', 'EOL_BS_Year41', 'EOL_BS_Year42', 'EOL_BS_Year43', 'EOL_BS_Year44', 'EOL_BS_Year45', 'EOL_BS_Year46', 'EOL_BS_Year47', 'EOL_BS_Year48', 'EOL_BS_Year49', 'EOL_BS_Year50', 'EOL_BS_Year51', 'EOL_BS_Year52', 'EOL_BS_Year53', 'EOL_BS_Year54', 'EOL_BS_Year55', 'EOL_Landfill0', 'EOL_BadStatus', 'EOL_PG', 'EOL_PATHS', 'PG1_landfill', 'PG2_stored', 'PG3_reMFG', 'PG3_reMFG_yield', 'PG3_reMFG_unyield', 'PG4_recycled', 'PB1_landfill', 'PB2_stored', 'PB3_reMFG', 'PB3_reMFG_yield', 'PB3_reMFG_unyield', 'PB4_recycled', 'P2_stored', 'P3_reMFG', 'P4_recycled', 'ModuleTotal_MFG']\n"
     ]
    }
   ],
   "source": [
    "r1.plotScenariosComparison() "
   ]
  },
  {
   "cell_type": "markdown",
   "id": "e89b2576-2f1f-41b7-b385-e8fd0da1edd1",
   "metadata": {},
   "source": [
    "Let's see the difference between `'standard'` and `'decadence'` scenarios if we compare their cumulative area disposed by failure."
   ]
  },
  {
   "cell_type": "code",
   "execution_count": 11,
   "id": "53ca7896-4873-4e1b-a1a6-5650c0088814",
   "metadata": {},
   "outputs": [
    {
     "data": {
      "image/png": "[encoded data removed]",
      "text/plain": [
       "<Figure size 432x288 with 1 Axes>"
      ]
     },
     "metadata": {
      "needs_background": "light"
     },
     "output_type": "display_data"
    }
   ],
   "source": [
    "r1.plotScenariosComparison('Yearly_Sum_Area_disposedby_Failure')"
   ]
  },
  {
   "cell_type": "markdown",
   "id": "5c67f4e5-1e66-4146-a530-46a7abf5bc60",
   "metadata": {},
   "source": [
    "Aha! We can see some difference between these two scenarios. The `'standard'` case represents the standard US baseline, whereas the `'decadence'` represents a more optimistic world (see [Section 2.3](#2.3)) so it makes sense that the disposed module area from year 2035 is much smaller than the default baseline scenario."
   ]
  },
  {
   "cell_type": "markdown",
   "id": "e28c1ecf-287f-4b89-8422-b495135f9369",
   "metadata": {},
   "source": [
    "You can check out the material results you can plot by pulling out the keys with the following commands:\n",
    "* `print(r2.scenario.keys())`: shows the scenarios that you created (in this example: `'standard'` and `'decadence'`)\n",
    "* `print(r2.scenario['standard'].material.keys())`: returns the input materials that we loaded into the selected scenario\n",
    "* `print(r1.scenario['standard'].material['glass'].materialdata.keys())`:"
   ]
  },
  {
   "cell_type": "code",
   "execution_count": 12,
   "id": "b14d3d39-9a71-4d40-8c80-23d0c38ca872",
   "metadata": {},
   "outputs": [
    {
     "name": "stdout",
     "output_type": "stream",
     "text": [
      "Index(['year', 'mat_virgin_eff', 'mat_massperm2', 'mat_MFG_eff',\n",
      "       'mat_MFG_scrap_Recycled', 'mat_MFG_scrap_Recycling_eff',\n",
      "       'mat_MFG_scrap_Recycled_into_HQ',\n",
      "       'mat_MFG_scrap_Recycled_into_HQ_Reused4MFG', 'mat_PG3_ReMFG_target',\n",
      "       'mat_ReMFG_yield', 'mat_PG4_Recycling_target', 'mat_Recycling_yield',\n",
      "       'mat_EOL_Recycled_into_HQ', 'mat_EOL_RecycledHQ_Reused4MFG', 'mat_L0',\n",
      "       'mat_PG2_stored', 'mat_L1', 'mat_reMFG', 'mat_reMFG_mod_unyield',\n",
      "       'mat_reMFG_target', 'mat_reMFG_untarget', 'mat_reMFG_yield',\n",
      "       'mat_reMFG_unyield', 'mat_reMFG_all_unyields', 'mat_reMFG_2_recycle',\n",
      "       'mat_L2', 'mat_recycled_PG4', 'mat_recycled_all', 'mat_recycled_target',\n",
      "       'mat_L3', 'mat_recycled_yield', 'mat_L4', 'mat_EOL_Recycled_2_HQ',\n",
      "       'mat_EOL_Recycled_2_OQ', 'mat_EOL_Recycled_HQ_into_MFG',\n",
      "       'mat_EOL_Recycled_HQ_into_OU', 'mat_EnteringModuleManufacturing_total',\n",
      "       'mat_UsedSuccessfullyinModuleManufacturing',\n",
      "       'mat_LostinModuleManufacturing',\n",
      "       'mat_EnteringModuleManufacturing_virgin', 'mat_Manufacturing_Input',\n",
      "       'mat_MFG_Scrap', 'mat_MFG_Scrap_Sentto_Recycling',\n",
      "       'mat_MFG_Scrap_Landfilled', 'mat_MFG_Scrap_Recycled_Successfully',\n",
      "       'mat_MFG_Scrap_Recycled_Losses_Landfilled', 'mat_MFG_Recycled_into_HQ',\n",
      "       'mat_MFG_Recycled_into_OQ', 'mat_MFG_Recycled_HQ_into_MFG',\n",
      "       'mat_MFG_Recycled_HQ_into_OU', 'mat_Virgin_Stock',\n",
      "       'mat_Virgin_Stock_Raw', 'mat_Total_EOL_Landfilled',\n",
      "       'mat_Total_MFG_Landfilled', 'mat_Total_Landfilled',\n",
      "       'mat_Total_Recycled_OU'],\n",
      "      dtype='object')\n"
     ]
    }
   ],
   "source": [
    "print(r1.scenario['standard'].material['glass'].materialdata.keys())"
   ]
  },
  {
   "cell_type": "markdown",
   "id": "6a106960-027d-46af-9e5b-a83f2ee0c1af",
   "metadata": {},
   "source": [
    "Let's now compare how much `'glass'` and `'silicon'` is landfilled between the scenarios throughout the years. "
   ]
  },
  {
   "cell_type": "code",
   "execution_count": 13,
   "id": "3be6c26a-1ea0-4a89-acf9-08add87fbb64",
   "metadata": {},
   "outputs": [
    {
     "data": {
      "image/png": "[encoded data removed]",
      "text/plain": [
       "<Figure size 432x288 with 1 Axes>"
      ]
     },
     "metadata": {
      "needs_background": "light"
     },
     "output_type": "display_data"
    },
    {
     "data": {
      "image/png": "[encoded data removed]",
      "text/plain": [
       "<Figure size 432x288 with 1 Axes>"
      ]
     },
     "metadata": {
      "needs_background": "light"
     },
     "output_type": "display_data"
    }
   ],
   "source": [
    "r1.plotMaterialComparisonAcrossScenarios(material='silicon', keyword='mat_Total_Landfilled')\n",
    "r1.plotMaterialComparisonAcrossScenarios(material='glass', keyword='mat_Total_Landfilled')"
   ]
  },
  {
   "cell_type": "markdown",
   "id": "9c196c53-5b7a-4b75-beac-1cc20a35c8e7",
   "metadata": {},
   "source": [
    "Since we greatly modified the `'silicon'` material mass per m^2 (?) by reducing its weight down to 7% of its original mass, and increased the virgin material efficiency (from 30% to 80%!) we can see a great reduction in total landfilled silicon (about thirteen times smaller).\n",
    "\n",
    "Conversely, since we barely changed the glass values (we just increased the virgin material efficiency by 10%), we can see how both scenarios follow a similar trend.\n",
    "\n",
    "As you can see, it is very practical to be able to quickly visualize your simulation results to get an idea of what happens when we subject the scenarios under different material conditions!\n",
    "\n",
    "Let's keep learning exploring Tutorial 3, an exciting case study where two PV modules are compared to understand potential tradeoffs in PV technology evolution by answering the following question: \n",
    "\n",
    "**Is it better to create a completely recyclable PV panel, or to extend the module lifetime?**"
   ]
  },
  {
   "cell_type": "markdown",
   "id": "4dcc280f-2263-42d7-97e8-4f7d583e445d",
   "metadata": {},
   "source": []
  },
  {
   "cell_type": "markdown",
   "id": "4de69643-cf76-4d13-996a-7a1852825dfb",
   "metadata": {},
   "source": []
  }
 ],
 "metadata": {
  "kernelspec": {
   "display_name": "Python [conda env:PV_ICE]",
   "language": "python",
   "name": "conda-env-PV_ICE-py"
  },
  "language_info": {
   "codemirror_mode": {
    "name": "ipython",
    "version": 3
   },
   "file_extension": ".py",
   "mimetype": "text/x-python",
   "name": "python",
   "nbconvert_exporter": "python",
   "pygments_lexer": "ipython3",
   "version": "3.10.4"
  }
 },
 "nbformat": 4,
 "nbformat_minor": 5
}
