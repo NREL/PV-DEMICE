{
 "cells": [
  {
   "cell_type": "markdown",
   "id": "16bd51af-c599-423d-8afd-783256cf11f9",
   "metadata": {
    "tags": []
   },
   "source": [
    "# 1. First simulations with PV_ICE"
   ]
  },
  {
   "cell_type": "markdown",
   "id": "0b7ad25a-6766-46df-9210-9903752f9076",
   "metadata": {},
   "source": [
    "This notebook will guide you through the basic functionality of PV_ICE. Once you are done with this tutorial, you will be able to:\n",
    "* Set up a PV_ICE simulation and create scenarios.\n",
    "* Compute mass flow calculations.\n",
    "* Plot results."
   ]
  },
  {
   "cell_type": "markdown",
   "id": "1e57abfc-c688-4314-bb1f-d612f16bd591",
   "metadata": {
    "tags": []
   },
   "source": [
    "### 1.1. Simulation setup"
   ]
  },
  {
   "cell_type": "markdown",
   "id": "733b2a53-cf8a-4b82-8a09-6137c058efd4",
   "metadata": {},
   "source": [
    "To setup a PV_ICE simulation we need (1) import necessary packages, (2) create simulation folder path, (3) create a baseline path.\n",
    "\n",
    "First let's import the necessary libraries for this notebook:"
   ]
  },
  {
   "cell_type": "code",
   "execution_count": 1,
   "id": "25a90d36-5d4d-4f78-8615-f488c8fe8ad3",
   "metadata": {},
   "outputs": [],
   "source": [
    "import os\n",
    "from pathlib import Path\n",
    "import PV_ICE"
   ]
  },
  {
   "cell_type": "markdown",
   "id": "6d8aadd0-30f0-4a47-aa5f-61b9a046a202",
   "metadata": {},
   "source": [
    "Let's set the folder where the **simulation** will be saved. By default, this is the TEMP folder in the PV_ICE distribution, however, we have created a TEMP folder in the present folder for simplicity.\n",
    "\n",
    "*Note:* The lines below find the location of the folder relative to this Jupyter Journal, where `Path().resolve()` points at the current notebook absolute location, add `.parent` to navigate to previous folders and `/ 'folder' / ...` to navigate within a specific folder.. You can alternatively point to an empty directory (it will open a load GUI Visual Interface) or specify any other directory in your computer.\n",
    "\n",
    "Using the same logic, setup the **baselines** folder. This is where all the baselines are stored in .csv format. A folder with multiple baselines can be found in the PV_ICE repository (PV_ICE/PV_ICE/baselines), you can always copy this folder and put it in a path of your choice. You may also create your own baselines (folowing the key structure used in PV_ICE for scenarios and materials)."
   ]
  },
  {
   "cell_type": "code",
   "execution_count": 2,
   "id": "c9f301da-105a-473e-8915-8c500f89074c",
   "metadata": {},
   "outputs": [
    {
     "name": "stdout",
     "output_type": "stream",
     "text": [
      "Your simulation will be stored in {}, and your baselines are found in %s /Users/mmendez/Documents/Postdoc/Software_dev/PV_ICE_dev/mac_notebooks/TEMP\n",
      "Your baselines are stored in %s /Users/mmendez/Documents/Postdoc/Software_dev/PV_ICE/PV_ICE/baselines\n"
     ]
    }
   ],
   "source": [
    "testfolder = str(Path().resolve() / 'TEMP') # Path to the simulation folder.\n",
    "\n",
    "baselinesfolder = str(Path().resolve().parent.parent / 'PV_ICE'/ 'PV_ICE' / 'baselines') # Path to baselines and data.\n",
    "\n",
    "print (\"Your simulation will be stored in {}, and your baselines are found in %s\", testfolder)\n",
    "print (\"Your baselines are stored in %s\", baselinesfolder)"
   ]
  },
  {
   "cell_type": "markdown",
   "id": "76243bf3-41f0-470a-aeba-ad926963fec1",
   "metadata": {
    "tags": []
   },
   "source": [
    "### 2.2.  Create simulation object"
   ]
  },
  {
   "cell_type": "markdown",
   "id": "9da2a243-3ccb-4c8f-b07f-39e0ff75eeed",
   "metadata": {},
   "source": [
    "The simulation object will create a cointainer for all the different scenario(s) you might want to test. The method Simulation requires two inputs:\n",
    "* `name` for the simulation (in this example `Simulation_0`), if no name is given the program will autogenerate a default name with the current date\n",
    "* `path`, this is where we insert `testfolder` defined above, we named this simulation object `r1`"
   ]
  },
  {
   "cell_type": "code",
   "execution_count": 3,
   "id": "c13402ef-8876-47a0-9919-dcaa321ddf03",
   "metadata": {},
   "outputs": [
    {
     "name": "stdout",
     "output_type": "stream",
     "text": [
      "path = /Users/mmendez/Documents/Postdoc/Software_dev/PV_ICE_dev/mac_notebooks/TEMP\n",
      "Simulation_0\n",
      "/Users/mmendez/Documents/Postdoc/Software_dev/PV_ICE_dev/mac_notebooks/TEMP\n"
     ]
    }
   ],
   "source": [
    "r1 = PV_ICE.Simulation(name='Simulation_0', path=testfolder); # Is it possible to define more than one simulation here?\n",
    "print(r1.name) # Shows the name of the simulation object\n",
    "print(r1.path) # Shows the path of the simulation object"
   ]
  },
  {
   "cell_type": "markdown",
   "id": "3db500e3-669b-4c40-bc36-a9167e9ebafa",
   "metadata": {},
   "source": [
    "*Warning:* If you re-run this cell it will mess with the path folder location by apending parent folders. To fix this, restart kernel and clear outputs!"
   ]
  },
  {
   "cell_type": "markdown",
   "id": "59fad595-edf4-4c7e-a6ef-81c581799970",
   "metadata": {},
   "source": [
    "### 3. Specify baseline scenario\n",
    "\n",
    "In baselines there are scenarios representing average module for various situations, e.g. throughout US history. Let us load that scenario and name is `standard`:"
   ]
  },
  {
   "cell_type": "code",
   "execution_count": null,
   "id": "7eb8e2db-b912-4084-95ec-f85a6dc3f151",
   "metadata": {},
   "outputs": [],
   "source": []
  },
  {
   "cell_type": "code",
   "execution_count": null,
   "id": "b1c796c5-3f03-4631-bee4-e2c89a001668",
   "metadata": {},
   "outputs": [],
   "source": [
    "r1.createScenario(name='standard0', file=baselinesfolder + '/baseline_modules_US.csv') # No popup in jupyter nor Code if I only provide directory IsADirectoryError: [Errno 21] Is a directory"
   ]
  },
  {
   "cell_type": "markdown",
   "id": "0fb4de68-3e13-4cc0-aa5f-fd8133f783a6",
   "metadata": {},
   "source": [
    "### 4. Specify material(s)"
   ]
  },
  {
   "cell_type": "code",
   "execution_count": null,
   "id": "f7237c2d-744a-4590-9127-1ed76d558073",
   "metadata": {},
   "outputs": [],
   "source": [
    "r1.scenario['standard0'].addMaterial('glass', file=baselinesfolder + '/baseline_material_glass.csv')"
   ]
  },
  {
   "cell_type": "markdown",
   "id": "9c8d9b0e-d7c3-4b01-9de2-2e0e08f373f4",
   "metadata": {},
   "source": [
    "### 5. Run the Mass Flow with Circulkar Pathways Calculations "
   ]
  },
  {
   "cell_type": "code",
   "execution_count": null,
   "id": "70124a85-bf77-48a2-9559-8dfa20e4113c",
   "metadata": {},
   "outputs": [],
   "source": [
    "r1.calculateMassFlow()"
   ]
  },
  {
   "cell_type": "code",
   "execution_count": null,
   "id": "20b169fa-b6f9-443a-9894-2f0839971924",
   "metadata": {},
   "outputs": [],
   "source": [
    "r1.scenario['standard0'].data.head()"
   ]
  },
  {
   "cell_type": "markdown",
   "id": "06991f12-9d32-45eb-aa31-37c519ee44d6",
   "metadata": {},
   "source": [
    "### 6. Plot mass flow results"
   ]
  },
  {
   "cell_type": "code",
   "execution_count": null,
   "id": "4d989839-6bc9-4e74-ab8c-f76dac28e751",
   "metadata": {},
   "outputs": [],
   "source": []
  },
  {
   "cell_type": "code",
   "execution_count": null,
   "id": "1b0b7f26-cbdb-4027-bb33-4d7cc30478bc",
   "metadata": {},
   "outputs": [],
   "source": []
  },
  {
   "cell_type": "raw",
   "id": "b49b94f4-dc70-4599-8faf-ca5c9bb0656d",
   "metadata": {},
   "source": [
    "r1.plotScenariosComparison() #keyError raised - KeyError: 'Cumulative_Area_disposedby_Failure'"
   ]
  },
  {
   "cell_type": "code",
   "execution_count": null,
   "id": "5a5fb311-099e-4e82-9186-b5f90e156ccd",
   "metadata": {},
   "outputs": [],
   "source": [
    "r1.plotMaterialComparisonAcrossScenarios(material='glass', keyword='mat_EOL_Recycled_2_HQ')"
   ]
  },
  {
   "cell_type": "code",
   "execution_count": null,
   "id": "e7bd59fe-3082-4fb3-9c54-e293d9dee5f7",
   "metadata": {},
   "outputs": [],
   "source": [
    "import numpy as np\n",
    "import pandas as pd\n",
    "import datetime\n",
    "import matplotlib.pyplot as plt\n",
    "\n",
    "now = datetime.datetime.now()"
   ]
  },
  {
   "cell_type": "markdown",
   "id": "f99c4c3b-5472-40e7-94f3-a752371ce97e",
   "metadata": {},
   "source": [
    "r1.createScenario(name='standard1', file=baselines + '/baseline_modules_US.csv') # No popup in jupyter nor Code if I only provide directory IsADirectoryError: [Errno 21] Is a directory"
   ]
  },
  {
   "cell_type": "code",
   "execution_count": null,
   "id": "762f44df-b329-4061-9f12-c5e21ddaae8f",
   "metadata": {},
   "outputs": [],
   "source": [
    "df = r1.scenario['standard0'].data"
   ]
  },
  {
   "cell_type": "code",
   "execution_count": null,
   "id": "b8dd2629-c875-4fe5-a202-7244e45e1f2f",
   "metadata": {},
   "outputs": [],
   "source": [
    "df.columns"
   ]
  },
  {
   "cell_type": "code",
   "execution_count": null,
   "id": "3d019b0b-7fb0-42fd-ae80-67838291ec74",
   "metadata": {},
   "outputs": [],
   "source": []
  }
 ],
 "metadata": {
  "kernelspec": {
   "display_name": "Python 3 (ipykernel)",
   "language": "python",
   "name": "python3"
  },
  "language_info": {
   "codemirror_mode": {
    "name": "ipython",
    "version": 3
   },
   "file_extension": ".py",
   "mimetype": "text/x-python",
   "name": "python",
   "nbconvert_exporter": "python",
   "pygments_lexer": "ipython3",
   "version": "3.10.4"
  }
 },
 "nbformat": 4,
 "nbformat_minor": 5
}
