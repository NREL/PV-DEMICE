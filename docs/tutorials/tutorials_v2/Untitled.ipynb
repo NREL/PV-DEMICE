{
 "cells": [
  {
   "cell_type": "code",
   "execution_count": null,
   "id": "eb6ed5c8-d90a-415a-84b6-eb15ed727b61",
   "metadata": {},
   "outputs": [],
   "source": [
    "import "
   ]
  }
 ],
 "metadata": {
  "kernelspec": {
   "display_name": "Python 3 (ipykernel)",
   "language": "python",
   "name": "python3"
  },
  "language_info": {
   "name": ""
  }
 },
 "nbformat": 4,
 "nbformat_minor": 5
}
