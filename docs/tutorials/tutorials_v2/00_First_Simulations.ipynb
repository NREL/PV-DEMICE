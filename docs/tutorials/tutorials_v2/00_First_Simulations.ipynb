{
 "cells": [
  {
   "cell_type": "markdown",
   "id": "16bd51af-c599-423d-8afd-783256cf11f9",
   "metadata": {
    "tags": []
   },
   "source": [
    "# 0 &emsp; First simulations with PV_ICE <a id='0'></a>\n",
    "***"
   ]
  },
  {
   "cell_type": "markdown",
   "id": "0b7ad25a-6766-46df-9210-9903752f9076",
   "metadata": {},
   "source": [
    "This notebook will guide you through the basic functionality of PV_ICE. Once you are done with this tutorial, you will be able to:\n",
    "* Set up a PV_ICE simulation and create scenarios.\n",
    "* Compute mass flow calculations.\n",
    "* Plot results.\n",
    "\n",
    "Please refer to the [PV_ICE documentation page](https://pv-ice.readthedocs.io/en/latest/index.html) to get a complete insight of the package."
   ]
  },
  {
   "cell_type": "markdown",
   "id": "1e57abfc-c688-4314-bb1f-d612f16bd591",
   "metadata": {
    "tags": []
   },
   "source": [
    "## 0.1 &emsp; Simulation Setup <a id='0.1'></a>"
   ]
  },
  {
   "cell_type": "markdown",
   "id": "733b2a53-cf8a-4b82-8a09-6137c058efd4",
   "metadata": {},
   "source": [
    "To setup a PV_ICE simulation we need (1) import necessary packages, (2) create simulation folder path, (3) create a baseline path.\n",
    "\n",
    "First let's import the necessary libraries for this notebook:"
   ]
  },
  {
   "cell_type": "code",
   "execution_count": 1,
   "id": "25a90d36-5d4d-4f78-8615-f488c8fe8ad3",
   "metadata": {},
   "outputs": [],
   "source": [
    "import os # Creates and removes a directory (folder), fetch its contents, change and identify the current directory\n",
    "from pathlib import Path\n",
    "import PV_ICE # Load PV_ICE package"
   ]
  },
  {
   "cell_type": "markdown",
   "id": "6d8aadd0-30f0-4a47-aa5f-61b9a046a202",
   "metadata": {},
   "source": [
    "Let's set the folder where the **simulation** will be saved. By default, this is the TEMP folder in the PV_ICE distribution, however, we have created a TEMP folder in the present folder for simplicity.\n",
    "\n",
    "<div class=\"alert alert-block alert-info\">\n",
    "<b>Tip:</b> The lines below find the location of the folder relative to this Jupyter Journal, where `Path().resolve()` points at the current notebook absolute location, add `.parent` to navigate to previous folders and `/ 'folder' / ...` to navigate within a specific folder.. You can alternatively point to an empty directory (it will open a load GUI Visual Interface) or specify any other directory in your computer.\n",
    "</div>\n",
    "\n",
    "Using the same logic, setup the **baselines** folder. This is where all the baselines are stored in .csv format. A folder with multiple baselines can be found in the PV_ICE repository (PV_ICE/PV_ICE/baselines), you can always copy this folder and put it in a path of your choice. You may also create your own baselines (following the key structure used in PV_ICE for scenarios and materials)."
   ]
  },
  {
   "cell_type": "code",
   "execution_count": 2,
   "id": "c9f301da-105a-473e-8915-8c500f89074c",
   "metadata": {},
   "outputs": [
    {
     "name": "stdout",
     "output_type": "stream",
     "text": [
      "Your simulation will be stored in /Users/mmendez/Documents/Postdoc/Software_dev/PV_ICE/docs/tutorials/tutorials_v2/TEMP\n",
      "Your baselines are stored in /Users/mmendez/Documents/Postdoc/Software_dev/PV_ICE/PV_ICE/baselines\n"
     ]
    }
   ],
   "source": [
    "testfolder = str(Path().resolve() / 'TEMP') # Path to the simulation folder.\n",
    "\n",
    "baselinesfolder = str(Path().resolve().parent.parent.parent / 'PV_ICE' / 'baselines')  # Path to baselines and data.\n",
    "\n",
    "print (\"Your simulation will be stored in %s\" % testfolder)\n",
    "print (\"Your baselines are stored in %s\" % baselinesfolder)"
   ]
  },
  {
   "cell_type": "markdown",
   "id": "76243bf3-41f0-470a-aeba-ad926963fec1",
   "metadata": {
    "tags": []
   },
   "source": [
    "## 0.2.  Create Simulation Object <a id='0.2'></a>"
   ]
  },
  {
   "cell_type": "markdown",
   "id": "9da2a243-3ccb-4c8f-b07f-39e0ff75eeed",
   "metadata": {},
   "source": [
    "The simulation object will create a container for all the different scenario(s) you might want to test. The method Simulation requires two inputs:\n",
    "* `name` for the simulation (in this example `'Simulation_1'`), if no name is given the program will autogenerate a default name with the current date\n",
    "* `path`, this is where we insert `testfolder` defined above, we named this simulation object `r1`"
   ]
  },
  {
   "cell_type": "code",
   "execution_count": 3,
   "id": "c13402ef-8876-47a0-9919-dcaa321ddf03",
   "metadata": {},
   "outputs": [
    {
     "name": "stdout",
     "output_type": "stream",
     "text": [
      "path = /Users/mmendez/Documents/Postdoc/Software_dev/PV_ICE/docs/tutorials/tutorials_v2/TEMP\n",
      "Simulation_1\n",
      "/Users/mmendez/Documents/Postdoc/Software_dev/PV_ICE/docs/tutorials/tutorials_v2/TEMP\n"
     ]
    }
   ],
   "source": [
    "r0 = PV_ICE.Simulation(name='Simulation_1', path=testfolder); # Is it possible to define more than one simulation here?\n",
    "print(r0.name) # Shows the name of the simulation object\n",
    "print(r0.path) # Shows the path of the simulation object"
   ]
  },
  {
   "cell_type": "markdown",
   "id": "3db500e3-669b-4c40-bc36-a9167e9ebafa",
   "metadata": {},
   "source": [
    "<div class=\"alert alert-block alert-warning\">\n",
    "<b>Warning:</b> If you re-run this cell it will mess with the path folder location by appending parent folders. To fix this, restart kernel and clear outputs!\n",
    "</div>"
   ]
  },
  {
   "cell_type": "markdown",
   "id": "59fad595-edf4-4c7e-a6ef-81c581799970",
   "metadata": {},
   "source": [
    "## 0.3 &emsp; Specify Baseline Scenario <a id='1.3'></a>\n",
    "\n",
    "In baselines there are scenarios representing average module for various situations, e.g. throughout US history. Let us load scenario `baseline_modules_US.csv` in the path and name it `standard_0`:"
   ]
  },
  {
   "cell_type": "code",
   "execution_count": 4,
   "id": "b1c796c5-3f03-4631-bee4-e2c89a001668",
   "metadata": {},
   "outputs": [],
   "source": [
    "r0.createScenario(name='standard_0', file=baselinesfolder + '/baseline_modules_US.csv') # No popup in jupyter nor Code if I only provide directory IsADirectoryError: [Errno 21] Is a directory"
   ]
  },
  {
   "cell_type": "markdown",
   "id": "741f7446-f919-4859-aa83-a588b7c1500c",
   "metadata": {},
   "source": [
    "If a file is not provided, the automatic file loader will pop-up. # This one is in development"
   ]
  },
  {
   "cell_type": "markdown",
   "id": "0fb4de68-3e13-4cc0-aa5f-fd8133f783a6",
   "metadata": {},
   "source": [
    "## 0.4 &emsp; Specify Material(s) <a id='0.4'></a>"
   ]
  },
  {
   "cell_type": "markdown",
   "id": "47da37a9-8a3e-404e-b7a0-869d5220daa1",
   "metadata": {},
   "source": [
    "You can add materials to your simulation. In this example we will be adding `'glass'`."
   ]
  },
  {
   "cell_type": "code",
   "execution_count": 6,
   "id": "f7237c2d-744a-4590-9127-1ed76d558073",
   "metadata": {},
   "outputs": [],
   "source": [
    "r0.scenario['standard_0'].addMaterial('glass', file=baselinesfolder + '/baseline_material_glass.csv')"
   ]
  },
  {
   "cell_type": "markdown",
   "id": "9c8d9b0e-d7c3-4b01-9de2-2e0e08f373f4",
   "metadata": {},
   "source": [
    "## 0.5 &emsp; Run the Mass Flow with Circulkar Pathways Calculations <a id='0.5'></a>"
   ]
  },
  {
   "cell_type": "code",
   "execution_count": 10,
   "id": "70124a85-bf77-48a2-9559-8dfa20e4113c",
   "metadata": {},
   "outputs": [
    {
     "name": "stdout",
     "output_type": "stream",
     "text": [
      "Working on Scenario:  standard_0\n",
      "********************\n",
      "Finished Area+Power Generation Calculations\n",
      "==> Working on Material :  glass\n"
     ]
    }
   ],
   "source": [
    "r0.calculateMassFlow()"
   ]
  },
  {
   "cell_type": "code",
   "execution_count": 12,
   "id": "20b169fa-b6f9-443a-9894-2f0839971924",
   "metadata": {},
   "outputs": [
    {
     "data": {
      "text/html": [
       "<div>\n",
       "<style scoped>\n",
       "    .dataframe tbody tr th:only-of-type {\n",
       "        vertical-align: middle;\n",
       "    }\n",
       "\n",
       "    .dataframe tbody tr th {\n",
       "        vertical-align: top;\n",
       "    }\n",
       "\n",
       "    .dataframe thead th {\n",
       "        text-align: right;\n",
       "    }\n",
       "</style>\n",
       "<table border=\"1\" class=\"dataframe\">\n",
       "  <thead>\n",
       "    <tr style=\"text-align: right;\">\n",
       "      <th></th>\n",
       "      <th>year</th>\n",
       "      <th>new_Installed_Capacity_[MW]</th>\n",
       "      <th>mod_eff</th>\n",
       "      <th>mod_reliability_t50</th>\n",
       "      <th>mod_reliability_t90</th>\n",
       "      <th>mod_degradation</th>\n",
       "      <th>mod_lifetime</th>\n",
       "      <th>mod_MFG_eff</th>\n",
       "      <th>mod_Repair</th>\n",
       "      <th>mod_MerchantTail</th>\n",
       "      <th>...</th>\n",
       "      <th>EOL_BS_Year50</th>\n",
       "      <th>EOL_BS_Year51</th>\n",
       "      <th>EOL_BS_Year52</th>\n",
       "      <th>EOL_BS_Year53</th>\n",
       "      <th>EOL_BS_Year54</th>\n",
       "      <th>EOL_BS_Year55</th>\n",
       "      <th>EOL_Landfill0</th>\n",
       "      <th>EOL_BadStatus</th>\n",
       "      <th>EOL_PG</th>\n",
       "      <th>EOL_PATHS</th>\n",
       "    </tr>\n",
       "  </thead>\n",
       "  <tbody>\n",
       "    <tr>\n",
       "      <th>0</th>\n",
       "      <td>1995</td>\n",
       "      <td>12.500000</td>\n",
       "      <td>12.50</td>\n",
       "      <td>16.0</td>\n",
       "      <td>21.0</td>\n",
       "      <td>0.55</td>\n",
       "      <td>10.0</td>\n",
       "      <td>98.0</td>\n",
       "      <td>0.0</td>\n",
       "      <td>0.0</td>\n",
       "      <td>...</td>\n",
       "      <td>0.0</td>\n",
       "      <td>0.0</td>\n",
       "      <td>0.0</td>\n",
       "      <td>0.0</td>\n",
       "      <td>0.0</td>\n",
       "      <td>0.0</td>\n",
       "      <td>0.000000</td>\n",
       "      <td>0.000000</td>\n",
       "      <td>0.0</td>\n",
       "      <td>0.000000</td>\n",
       "    </tr>\n",
       "    <tr>\n",
       "      <th>1</th>\n",
       "      <td>1996</td>\n",
       "      <td>9.667667</td>\n",
       "      <td>12.70</td>\n",
       "      <td>16.0</td>\n",
       "      <td>21.0</td>\n",
       "      <td>0.55</td>\n",
       "      <td>10.0</td>\n",
       "      <td>98.0</td>\n",
       "      <td>0.0</td>\n",
       "      <td>0.0</td>\n",
       "      <td>...</td>\n",
       "      <td>0.0</td>\n",
       "      <td>0.0</td>\n",
       "      <td>0.0</td>\n",
       "      <td>0.0</td>\n",
       "      <td>0.0</td>\n",
       "      <td>0.0</td>\n",
       "      <td>0.284603</td>\n",
       "      <td>0.050224</td>\n",
       "      <td>0.0</td>\n",
       "      <td>0.050224</td>\n",
       "    </tr>\n",
       "    <tr>\n",
       "      <th>2</th>\n",
       "      <td>1997</td>\n",
       "      <td>11.622000</td>\n",
       "      <td>12.88</td>\n",
       "      <td>19.0</td>\n",
       "      <td>23.0</td>\n",
       "      <td>0.55</td>\n",
       "      <td>15.0</td>\n",
       "      <td>98.0</td>\n",
       "      <td>0.0</td>\n",
       "      <td>0.0</td>\n",
       "      <td>...</td>\n",
       "      <td>0.0</td>\n",
       "      <td>0.0</td>\n",
       "      <td>0.0</td>\n",
       "      <td>0.0</td>\n",
       "      <td>0.0</td>\n",
       "      <td>0.0</td>\n",
       "      <td>6.002568</td>\n",
       "      <td>1.059277</td>\n",
       "      <td>0.0</td>\n",
       "      <td>1.059277</td>\n",
       "    </tr>\n",
       "    <tr>\n",
       "      <th>3</th>\n",
       "      <td>1998</td>\n",
       "      <td>11.781000</td>\n",
       "      <td>13.06</td>\n",
       "      <td>19.0</td>\n",
       "      <td>23.0</td>\n",
       "      <td>0.55</td>\n",
       "      <td>15.0</td>\n",
       "      <td>98.0</td>\n",
       "      <td>0.0</td>\n",
       "      <td>0.0</td>\n",
       "      <td>...</td>\n",
       "      <td>0.0</td>\n",
       "      <td>0.0</td>\n",
       "      <td>0.0</td>\n",
       "      <td>0.0</td>\n",
       "      <td>0.0</td>\n",
       "      <td>0.0</td>\n",
       "      <td>34.689422</td>\n",
       "      <td>6.121663</td>\n",
       "      <td>0.0</td>\n",
       "      <td>6.121663</td>\n",
       "    </tr>\n",
       "    <tr>\n",
       "      <th>4</th>\n",
       "      <td>1999</td>\n",
       "      <td>16.884667</td>\n",
       "      <td>13.24</td>\n",
       "      <td>19.0</td>\n",
       "      <td>23.0</td>\n",
       "      <td>0.55</td>\n",
       "      <td>15.0</td>\n",
       "      <td>98.0</td>\n",
       "      <td>0.0</td>\n",
       "      <td>0.0</td>\n",
       "      <td>...</td>\n",
       "      <td>0.0</td>\n",
       "      <td>0.0</td>\n",
       "      <td>0.0</td>\n",
       "      <td>0.0</td>\n",
       "      <td>0.0</td>\n",
       "      <td>0.0</td>\n",
       "      <td>116.130016</td>\n",
       "      <td>20.493532</td>\n",
       "      <td>0.0</td>\n",
       "      <td>20.493532</td>\n",
       "    </tr>\n",
       "  </tbody>\n",
       "</table>\n",
       "<p>5 rows × 231 columns</p>\n",
       "</div>"
      ],
      "text/plain": [
       "   year  new_Installed_Capacity_[MW]  mod_eff  mod_reliability_t50  \\\n",
       "0  1995                    12.500000    12.50                 16.0   \n",
       "1  1996                     9.667667    12.70                 16.0   \n",
       "2  1997                    11.622000    12.88                 19.0   \n",
       "3  1998                    11.781000    13.06                 19.0   \n",
       "4  1999                    16.884667    13.24                 19.0   \n",
       "\n",
       "   mod_reliability_t90  mod_degradation  mod_lifetime  mod_MFG_eff  \\\n",
       "0                 21.0             0.55          10.0         98.0   \n",
       "1                 21.0             0.55          10.0         98.0   \n",
       "2                 23.0             0.55          15.0         98.0   \n",
       "3                 23.0             0.55          15.0         98.0   \n",
       "4                 23.0             0.55          15.0         98.0   \n",
       "\n",
       "   mod_Repair  mod_MerchantTail  ...  EOL_BS_Year50  EOL_BS_Year51  \\\n",
       "0         0.0               0.0  ...            0.0            0.0   \n",
       "1         0.0               0.0  ...            0.0            0.0   \n",
       "2         0.0               0.0  ...            0.0            0.0   \n",
       "3         0.0               0.0  ...            0.0            0.0   \n",
       "4         0.0               0.0  ...            0.0            0.0   \n",
       "\n",
       "   EOL_BS_Year52  EOL_BS_Year53  EOL_BS_Year54  EOL_BS_Year55  EOL_Landfill0  \\\n",
       "0            0.0            0.0            0.0            0.0       0.000000   \n",
       "1            0.0            0.0            0.0            0.0       0.284603   \n",
       "2            0.0            0.0            0.0            0.0       6.002568   \n",
       "3            0.0            0.0            0.0            0.0      34.689422   \n",
       "4            0.0            0.0            0.0            0.0     116.130016   \n",
       "\n",
       "   EOL_BadStatus  EOL_PG  EOL_PATHS  \n",
       "0       0.000000     0.0   0.000000  \n",
       "1       0.050224     0.0   0.050224  \n",
       "2       1.059277     0.0   1.059277  \n",
       "3       6.121663     0.0   6.121663  \n",
       "4      20.493532     0.0  20.493532  \n",
       "\n",
       "[5 rows x 231 columns]"
      ]
     },
     "execution_count": 12,
     "metadata": {},
     "output_type": "execute_result"
    }
   ],
   "source": [
    "r0.scenario['standard_0'].data.head()"
   ]
  },
  {
   "cell_type": "markdown",
   "id": "06991f12-9d32-45eb-aa31-37c519ee44d6",
   "metadata": {},
   "source": [
    "## 0.6 &emsp; Plot Mass Flow Results <a id='1.6'></a>"
   ]
  },
  {
   "cell_type": "markdown",
   "id": "e6608ff9-c248-4036-af9e-65636a719e9e",
   "metadata": {},
   "source": [
    "PV_ICE can also plot the massflow simulation results so you can visualize and interpret the results of your simulation. To see the plotting options, run the plotting method with no inputs:"
   ]
  },
  {
   "cell_type": "code",
   "execution_count": 13,
   "id": "36d5f313-883a-4fa7-84ea-ec8cc10e4e20",
   "metadata": {},
   "outputs": [
    {
     "name": "stdout",
     "output_type": "stream",
     "text": [
      "Choose one of the keywords:  ['year', 'new_Installed_Capacity_[MW]', 'mod_eff', 'mod_reliability_t50', 'mod_reliability_t90', 'mod_degradation', 'mod_lifetime', 'mod_MFG_eff', 'mod_Repair', 'mod_MerchantTail', 'mod_EOL_collection_eff', 'mod_EOL_pg0_resell', 'mod_EOL_pg1_landfill', 'mod_EOL_pg2_stored', 'mod_EOL_pg3_reMFG', 'mod_EOL_pg4_recycled', 'mod_EOL_reMFG_yield', 'mod_EOL_sp_reMFG_recycle', 'mod_EOL_pb1_landfill', 'mod_EOL_pb2_stored', 'mod_EOL_pb3_reMFG', 'mod_EOL_pb4_recycled', 'irradiance_stc', 'Area', 'Yearly_Sum_Area_disposedby_Failure', 'Yearly_Sum_Power_disposedby_Failure', 'Yearly_Sum_Area_disposedby_ProjectLifetime', 'Yearly_Sum_Power_disposedby_ProjectLifetime', 'Yearly_Sum_Area_disposed', 'Yearly_Sum_Power_disposed', 'landfilled_noncollected', 'Repaired_[W]', 'Repaired_Area', 'Resold_Area', 'Resold_[W]', 'Cumulative_Active_Area', 'Installed_Capacity_[W]', 'Status_BAD_Area', 'Status_BAD_[W]', 'Area_for_EOL_pathsG', 'Power_for_EOL_pathsG', 'Landfill_0', 'WeibullParams', 'PG1_landfill', 'PG2_stored', 'PG3_reMFG', 'PG3_reMFG_yield', 'PG3_reMFG_unyield', 'PG4_recycled', 'PB1_landfill', 'PB2_stored', 'PB3_reMFG', 'PB3_reMFG_yield', 'PB3_reMFG_unyield', 'PB4_recycled', 'P2_stored', 'P3_reMFG', 'P4_recycled', 'ModuleTotal_MFG', 'EOL_PG_Year_0', 'EOL_PG_Year_1', 'EOL_PG_Year_2', 'EOL_PG_Year_3', 'EOL_PG_Year_4', 'EOL_PG_Year_5', 'EOL_PG_Year_6', 'EOL_PG_Year_7', 'EOL_PG_Year_8', 'EOL_PG_Year_9', 'EOL_PG_Year_10', 'EOL_PG_Year_11', 'EOL_PG_Year_12', 'EOL_PG_Year_13', 'EOL_PG_Year_14', 'EOL_PG_Year_15', 'EOL_PG_Year_16', 'EOL_PG_Year_17', 'EOL_PG_Year_18', 'EOL_PG_Year_19', 'EOL_PG_Year_20', 'EOL_PG_Year_21', 'EOL_PG_Year_22', 'EOL_PG_Year_23', 'EOL_PG_Year_24', 'EOL_PG_Year_25', 'EOL_PG_Year_26', 'EOL_PG_Year_27', 'EOL_PG_Year_28', 'EOL_PG_Year_29', 'EOL_PG_Year_30', 'EOL_PG_Year_31', 'EOL_PG_Year_32', 'EOL_PG_Year_33', 'EOL_PG_Year_34', 'EOL_PG_Year_35', 'EOL_PG_Year_36', 'EOL_PG_Year_37', 'EOL_PG_Year_38', 'EOL_PG_Year_39', 'EOL_PG_Year_40', 'EOL_PG_Year_41', 'EOL_PG_Year_42', 'EOL_PG_Year_43', 'EOL_PG_Year_44', 'EOL_PG_Year_45', 'EOL_PG_Year_46', 'EOL_PG_Year_47', 'EOL_PG_Year_48', 'EOL_PG_Year_49', 'EOL_PG_Year_50', 'EOL_PG_Year_51', 'EOL_PG_Year_52', 'EOL_PG_Year_53', 'EOL_PG_Year_54', 'EOL_PG_Year_55', 'EOL_L0_Year_0', 'EOL_L0_Year_1', 'EOL_L0_Year_2', 'EOL_L0_Year_3', 'EOL_L0_Year_4', 'EOL_L0_Year_5', 'EOL_L0_Year_6', 'EOL_L0_Year_7', 'EOL_L0_Year_8', 'EOL_L0_Year_9', 'EOL_L0_Year_10', 'EOL_L0_Year_11', 'EOL_L0_Year_12', 'EOL_L0_Year_13', 'EOL_L0_Year_14', 'EOL_L0_Year_15', 'EOL_L0_Year_16', 'EOL_L0_Year_17', 'EOL_L0_Year_18', 'EOL_L0_Year_19', 'EOL_L0_Year_20', 'EOL_L0_Year_21', 'EOL_L0_Year_22', 'EOL_L0_Year_23', 'EOL_L0_Year_24', 'EOL_L0_Year_25', 'EOL_L0_Year_26', 'EOL_L0_Year_27', 'EOL_L0_Year_28', 'EOL_L0_Year_29', 'EOL_L0_Year_30', 'EOL_L0_Year_31', 'EOL_L0_Year_32', 'EOL_L0_Year_33', 'EOL_L0_Year_34', 'EOL_L0_Year_35', 'EOL_L0_Year_36', 'EOL_L0_Year_37', 'EOL_L0_Year_38', 'EOL_L0_Year_39', 'EOL_L0_Year_40', 'EOL_L0_Year_41', 'EOL_L0_Year_42', 'EOL_L0_Year_43', 'EOL_L0_Year_44', 'EOL_L0_Year_45', 'EOL_L0_Year_46', 'EOL_L0_Year_47', 'EOL_L0_Year_48', 'EOL_L0_Year_49', 'EOL_L0_Year_50', 'EOL_L0_Year_51', 'EOL_L0_Year_52', 'EOL_L0_Year_53', 'EOL_L0_Year_54', 'EOL_L0_Year_55', 'EOL_BS_Year0', 'EOL_BS_Year1', 'EOL_BS_Year2', 'EOL_BS_Year3', 'EOL_BS_Year4', 'EOL_BS_Year5', 'EOL_BS_Year6', 'EOL_BS_Year7', 'EOL_BS_Year8', 'EOL_BS_Year9', 'EOL_BS_Year10', 'EOL_BS_Year11', 'EOL_BS_Year12', 'EOL_BS_Year13', 'EOL_BS_Year14', 'EOL_BS_Year15', 'EOL_BS_Year16', 'EOL_BS_Year17', 'EOL_BS_Year18', 'EOL_BS_Year19', 'EOL_BS_Year20', 'EOL_BS_Year21', 'EOL_BS_Year22', 'EOL_BS_Year23', 'EOL_BS_Year24', 'EOL_BS_Year25', 'EOL_BS_Year26', 'EOL_BS_Year27', 'EOL_BS_Year28', 'EOL_BS_Year29', 'EOL_BS_Year30', 'EOL_BS_Year31', 'EOL_BS_Year32', 'EOL_BS_Year33', 'EOL_BS_Year34', 'EOL_BS_Year35', 'EOL_BS_Year36', 'EOL_BS_Year37', 'EOL_BS_Year38', 'EOL_BS_Year39', 'EOL_BS_Year40', 'EOL_BS_Year41', 'EOL_BS_Year42', 'EOL_BS_Year43', 'EOL_BS_Year44', 'EOL_BS_Year45', 'EOL_BS_Year46', 'EOL_BS_Year47', 'EOL_BS_Year48', 'EOL_BS_Year49', 'EOL_BS_Year50', 'EOL_BS_Year51', 'EOL_BS_Year52', 'EOL_BS_Year53', 'EOL_BS_Year54', 'EOL_BS_Year55', 'EOL_Landfill0', 'EOL_BadStatus', 'EOL_PG', 'EOL_PATHS']\n"
     ]
    }
   ],
   "source": [
    "r0.plotScenariosComparison()"
   ]
  },
  {
   "cell_type": "markdown",
   "id": "fdab7539-235c-4b5a-8598-92e5472d7ea6",
   "metadata": {},
   "source": [
    "From this list, select the one that fits your study and select the type of plotting method. There are BLEH plotting options:\n",
    "* `plotScenariosComparison`:\n",
    "* `plotMaterialComparisonAcrossScenarios`:\n",
    "* `plotMetricResults`: You can select the following keyword options: 'VirginStock', 'WasteALL', 'WasteEOL', 'WasteMFG'\n",
    "* `plotMaterialResults`:\n",
    "* `plotInstalledCapacityResults`:\n"
   ]
  },
  {
   "cell_type": "code",
   "execution_count": 14,
   "id": "66e3ad82-7128-4b0a-986b-b1ee612b1158",
   "metadata": {},
   "outputs": [
    {
     "data": {
      "image/png": "[encoded data removed]",
      "text/plain": [
       "<Figure size 432x288 with 1 Axes>"
      ]
     },
     "metadata": {
      "needs_background": "light"
     },
     "output_type": "display_data"
    },
    {
     "data": {
      "image/png": "[encoded data removed]",
      "text/plain": [
       "<Figure size 432x288 with 1 Axes>"
      ]
     },
     "metadata": {
      "needs_background": "light"
     },
     "output_type": "display_data"
    }
   ],
   "source": [
    "r0.plotScenariosComparison('Yearly_Sum_Area_disposedby_Failure') # This one is missing units.\n",
    "r0.plotMaterialComparisonAcrossScenarios(material='glass', keyword='mat_EOL_Recycled_2_HQ')"
   ]
  },
  {
   "cell_type": "markdown",
   "id": "9aca1c89-6c7e-41c9-9cd2-01ee3f98d1b1",
   "metadata": {},
   "source": [
    "We are starting to get an idea of what is going on by looking at these graphs, huh? In the top graph, we can see how the amount of modules that are disposed due to failure ramps up exponentially on 2030. Could you guess why?\n",
    "The bottom graphs shows a similar trend but with amount of recycled glass (spikes?). These plots could be more useful if we compare different scenarios and materials. Let's see how is that done! Go ahead and move on the next [tutorial](./02_Two_Scenarios_Two_Materials.ipynb) if you want to find out how!."
   ]
  },
  {
   "cell_type": "code",
   "execution_count": 16,
   "id": "218351c2-e92f-4c8d-a57e-84b6a549d220",
   "metadata": {},
   "outputs": [
    {
     "ename": "ModuleNotFoundError",
     "evalue": "No module named 'plotly'",
     "output_type": "error",
     "traceback": [
      "\u001b[0;31m---------------------------------------------------------------------------\u001b[0m",
      "\u001b[0;31mModuleNotFoundError\u001b[0m                       Traceback (most recent call last)",
      "Input \u001b[0;32mIn [16]\u001b[0m, in \u001b[0;36m<cell line: 1>\u001b[0;34m()\u001b[0m\n\u001b[0;32m----> 1\u001b[0m \u001b[38;5;28;01mimport\u001b[39;00m \u001b[38;5;21;01mplotly\u001b[39;00m\n\u001b[1;32m      2\u001b[0m r1\u001b[38;5;241m.\u001b[39mplotMetricResults()\n",
      "\u001b[0;31mModuleNotFoundError\u001b[0m: No module named 'plotly'"
     ]
    }
   ],
   "source": [
    "import plotly\n",
    "r0.plotMetricResults() # This one requires plotly, it is not included on the import list. It also give error of no 'USyearly' attribute in 'Simulation' object. "
   ]
  },
  {
   "cell_type": "code",
   "execution_count": null,
   "id": "9505e477-f280-4740-af2e-51618ae5b7fd",
   "metadata": {},
   "outputs": [],
   "source": []
  },
  {
   "cell_type": "code",
   "execution_count": null,
   "id": "eb761cdd-5162-4492-b232-076ca1b3ba79",
   "metadata": {},
   "outputs": [],
   "source": []
  }
 ],
 "metadata": {
  "kernelspec": {
   "display_name": "Python 3 (ipykernel)",
   "language": "python",
   "name": "python3"
  },
  "language_info": {
   "codemirror_mode": {
    "name": "ipython",
    "version": 3
   },
   "file_extension": ".py",
   "mimetype": "text/x-python",
   "name": "python",
   "nbconvert_exporter": "python",
   "pygments_lexer": "ipython3",
   "version": "3.10.5"
  }
 },
 "nbformat": 4,
 "nbformat_minor": 5
}
