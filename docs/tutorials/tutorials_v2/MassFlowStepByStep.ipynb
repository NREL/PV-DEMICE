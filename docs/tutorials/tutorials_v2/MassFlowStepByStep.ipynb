{
 "cells": [
  {
   "cell_type": "markdown",
   "id": "3f85e087-6196-4a31-9a83-f8f2fe3f430b",
   "metadata": {},
   "source": [
    "# Following mass flow calculations"
   ]
  },
  {
   "cell_type": "markdown",
   "id": "dce84e7c-5349-4605-8cb9-be9b52c66cde",
   "metadata": {},
   "source": [
    "### Project  setup "
   ]
  },
  {
   "cell_type": "code",
   "execution_count": 1,
   "id": "849212ca-8773-4c0c-964f-e50f64ce1efc",
   "metadata": {},
   "outputs": [],
   "source": [
    "import os, sys\n",
    "from pathlib import Path\n",
    "import PV_ICE\n",
    "import matplotlib.pyplot as plt\n",
    "import pandas as pd\n",
    "import seaborn as sns\n",
    "import numpy as np\n",
    "    \n",
    "dfindex = pd.RangeIndex(0,56,1)"
   ]
  },
  {
   "cell_type": "code",
   "execution_count": 2,
   "id": "849bde1b-943d-4f43-a4bb-4b4eed69a58b",
   "metadata": {},
   "outputs": [
    {
     "name": "stdout",
     "output_type": "stream",
     "text": [
      "Your simulation will be stored in /Users/mmendez/Documents/Postdoc/Software_dev/PV_ICE/docs/tutorials/tutorials_v2/TEMP\n",
      "Your baselines are stored in /Users/mmendez/Documents/Postdoc/Software_dev/PV_ICE/PV_ICE/baselines\n"
     ]
    }
   ],
   "source": [
    "testfolder = str(Path().resolve() / 'TEMP') # Path to the simulation folder.\n",
    "\n",
    "baselinefolder = str(Path().resolve().parent.parent.parent / 'PV_ICE' / 'baselines')  # Path to baselines and data.\n",
    "\n",
    "print (\"Your simulation will be stored in %s\" % testfolder)\n",
    "print (\"Your baselines are stored in %s\" % baselinefolder)"
   ]
  },
  {
   "cell_type": "code",
   "execution_count": 3,
   "id": "f215eabc-4a20-4dfa-8c27-0b30b310928d",
   "metadata": {},
   "outputs": [
    {
     "name": "stdout",
     "output_type": "stream",
     "text": [
      "path = /Users/mmendez/Documents/Postdoc/Software_dev/PV_ICE/docs/tutorials/tutorials_v2/TEMP\n"
     ]
    }
   ],
   "source": [
    "r0 = PV_ICE.Simulation(name='Simulation_0', path=testfolder) #If no path if given, the default is the current folder, if no name: then the current date is given\n",
    "r0.createScenario(name='Scenario_test_1', file=baselinefolder + '/baseline_modules_US.csv') # With no path given, a window opens up but after selecting, nothing happens :D\n",
    "r0.scenario['Scenario_test_1'].addMaterial('glass', file=baselinefolder + '/baseline_material_glass.csv')\n",
    "r0.scenario['Scenario_test_1'].addMaterial('silicon', file=baselinefolder + '/baseline_material_silicon.csv')\n",
    "\n",
    "\n",
    "# r3.createScenario(name='Repair_0', file=baselinefolder + '/baseline_modules_US.csv')\n",
    "# r3.scenario['Repair_0'].addMaterial('glass', file=baselinefolder + '/baseline_material_glass.csv')\n",
    "# r3.scenario['Repair_0'].addMaterial('silicon', file=baselinefolder + '/baseline_material_silicon.csv')\n",
    "\n",
    "# r3.createScenario(name='Repair_50', file=baselinefolder + '/baseline_modules_US.csv')\n",
    "# r3.scenario['Repair_50'].addMaterial('glass', file=baselinefolder + '/baseline_material_glass.csv')\n",
    "# r3.scenario['Repair_50'].addMaterial('silicon', file=baselinefolder + '/baseline_material_silicon.csv')"
   ]
  },
  {
   "cell_type": "markdown",
   "id": "d145c519-97eb-4928-9e73-2c4486d4f949",
   "metadata": {},
   "source": [
    "### Mass Flow Calculation"
   ]
  },
  {
   "cell_type": "code",
   "execution_count": 4,
   "id": "96d932c1-6cb9-483a-a9d3-3f5ad2fa4070",
   "metadata": {},
   "outputs": [],
   "source": [
    "df = r0.scenario['Scenario_test_1'].data  # The dataframe created is just the baseline implemented with a pointer to the materials dataframes"
   ]
  },
  {
   "cell_type": "code",
   "execution_count": 5,
   "id": "2208b231-65e0-4cab-bf96-01f753f837a9",
   "metadata": {},
   "outputs": [
    {
     "data": {
      "text/plain": [
       "(56, 22)"
      ]
     },
     "execution_count": 5,
     "metadata": {},
     "output_type": "execute_result"
    }
   ],
   "source": [
    "df.shape"
   ]
  },
  {
   "cell_type": "code",
   "execution_count": 6,
   "id": "1d301e7d-a073-4568-a974-300a18c19e62",
   "metadata": {},
   "outputs": [],
   "source": [
    "mat_df = r0.scenario['Scenario_test_1'].material['glass'].materialdata # This is how I can access the material dataframe"
   ]
  },
  {
   "cell_type": "code",
   "execution_count": 7,
   "id": "e10a65a1-314f-464a-b1c1-7ffe953e77e5",
   "metadata": {},
   "outputs": [
    {
     "name": "stdout",
     "output_type": "stream",
     "text": [
      "(56, 22)\n",
      "(56, 14)\n"
     ]
    }
   ],
   "source": [
    "print(df.shape)\n",
    "print(mat_df.shape)"
   ]
  },
  {
   "cell_type": "markdown",
   "id": "876a9e93-ba83-4268-ad06-93959b2b7287",
   "metadata": {},
   "source": [
    "1) `calculateMassFlow` iterates over the scenarios  `df = self.scenario[scen].data`\n",
    "2) Check the `bifacialityfactors` (if any!) you pass it as a string for each studied year:\n",
    "    - if passed, `irradiance_stc` is calculated: `1000.0 + bf['bifi']*100.0 # W/m^2 (min. Bifacial STC Increase)`\n",
    "    - if not, `irradiance_stc` is set to 1000.00 W/m<sup>2</sup> like in the present case:"
   ]
  },
  {
   "cell_type": "code",
   "execution_count": 8,
   "id": "5d0f22b7-ff74-4706-9d28-10e30c035c12",
   "metadata": {},
   "outputs": [
    {
     "data": {
      "text/plain": [
       "(56, 23)"
      ]
     },
     "execution_count": 8,
     "metadata": {},
     "output_type": "execute_result"
    }
   ],
   "source": [
    "df['irradiance_stc'] = 1000.0 # We add one column!!\n",
    "df.shape"
   ]
  },
  {
   "cell_type": "markdown",
   "id": "bd3828f6-981e-433b-9f93-f9e030754d7b",
   "metadata": {},
   "source": [
    "Line 394 is confusing for me, but it does not seem to be working—thus, we do not care :D.\n",
    "We then add another column where we pass `'new_Installed_Capacity_[MW]` to [W]:"
   ]
  },
  {
   "cell_type": "code",
   "execution_count": 9,
   "id": "9889fe20-6493-48db-abff-3f7f47e33567",
   "metadata": {},
   "outputs": [
    {
     "data": {
      "text/plain": [
       "(56, 24)"
      ]
     },
     "execution_count": 9,
     "metadata": {},
     "output_type": "execute_result"
    }
   ],
   "source": [
    "df['new_Installed_Capacity_[W]'] = df['new_Installed_Capacity_[MW]']*1e6\n",
    "df.shape"
   ]
  },
  {
   "cell_type": "markdown",
   "id": "019ed824-aae9-4bd2-9641-d94860cb8095",
   "metadata": {},
   "source": [
    "Now it checks if `reducecapacity` is `True` or `False`, by default is `True`."
   ]
  },
  {
   "cell_type": "code",
   "execution_count": 10,
   "id": "0f1bf764-5012-44f1-802c-8b59f2cdc24c",
   "metadata": {},
   "outputs": [
    {
     "data": {
      "text/plain": [
       "(56, 25)"
      ]
     },
     "execution_count": 10,
     "metadata": {},
     "output_type": "execute_result"
    }
   ],
   "source": [
    "df['Area'] = df['new_Installed_Capacity_[W]']/(df['mod_eff']*0.01)/df['irradiance_stc'] # m^2\n",
    "df.shape"
   ]
  },
  {
   "cell_type": "markdown",
   "id": "3ea6d79c-b783-4c48-99a0-a2abb4386356",
   "metadata": {},
   "source": [
    "If `reducecapacity = False` it runs: `df['Area'] = df['new_Installed_Capacity_[W]']/(df['mod_eff']*0.01)/1000.0 # m^2\n",
    "`"
   ]
  },
  {
   "cell_type": "code",
   "execution_count": 11,
   "id": "b546c30e-c318-4994-b834-01a82efdd712",
   "metadata": {},
   "outputs": [],
   "source": [
    "df['Area'] = df['Area'].fillna(0) # Change NA for 0 (if any!) I counted, there are no NAs df['Area'].isnull().sum()"
   ]
  },
  {
   "cell_type": "markdown",
   "id": "cefc01e0-e6c2-4d5b-91a4-6e3d70379a4d",
   "metadata": {},
   "source": [
    "Calculating waste by generation by year, and cumulative waste by year. Initialize lists:"
   ]
  },
  {
   "cell_type": "code",
   "execution_count": 12,
   "id": "77aaa415-6f43-4b36-a6d2-dd4d9e998051",
   "metadata": {},
   "outputs": [],
   "source": [
    "Generation_Disposed_byYear = []\n",
    "Matrix_Landfilled_noncollected = []\n",
    "Matrix_area_bad_status = []\n",
    "Matrix_Failures = []\n",
    "            # Generation_Active_byYear= [] Not being used at the moment, commenting out.\n",
    "            # Generation_Power_byYear = [] Not being used at the moment, commenting out.\n",
    "weibullParamList = []"
   ]
  },
  {
   "cell_type": "markdown",
   "id": "5c425a86-b3d3-46cb-9f53-999bf9d4c743",
   "metadata": {},
   "source": [
    "Now, the program iterated over the rows: `or generation, row in df.iterrows():`. Within the loop, the following happens:"
   ]
  },
  {
   "cell_type": "markdown",
   "id": "986ac57e-c10b-4983-b9d7-635ebb37a4d6",
   "metadata": {},
   "source": [
    "1) Check for Weibull parameters."
   ]
  },
  {
   "cell_type": "code",
   "execution_count": null,
   "id": "bc8ee052-11d4-4fcf-981e-2db7798e91c0",
   "metadata": {},
   "outputs": [],
   "source": [
    "if weibullInputParams:\n",
    "weibullIParams = weibullInputParams\n",
    "elif 'weibull_alpha' in row:\n",
    "# \"Weibull Input Params passed internally as a column\"\n",
    "weibullIParams = {'alpha': row['weibull_alpha'], 'beta': row['weibull_beta']}\n",
    "else:\n",
    "# \"Calculating Weibull Params from Modules t50 and T90\"\n",
    "t50, t90 = row['t50'], row['t90']\n",
    "weibullIParams = weibull_params({t50: 0.50, t90: 0.90})"
   ]
  },
  {
   "cell_type": "code",
   "execution_count": null,
   "id": "4a682a23-3b55-42b8-95d6-07aa558e2d21",
   "metadata": {},
   "outputs": [],
   "source": []
  },
  {
   "cell_type": "code",
   "execution_count": null,
   "id": "f04c978d-e582-410b-8c58-9d60e1c4fb71",
   "metadata": {},
   "outputs": [],
   "source": [
    "df['weibull_alpha']"
   ]
  },
  {
   "cell_type": "code",
   "execution_count": null,
   "id": "29d61a46-bd42-42f8-82f6-c2703307e13b",
   "metadata": {},
   "outputs": [],
   "source": []
  },
  {
   "cell_type": "code",
   "execution_count": null,
   "id": "7fb2641a-ea29-4027-92ce-65ab0106a02b",
   "metadata": {},
   "outputs": [],
   "source": []
  },
  {
   "cell_type": "code",
   "execution_count": null,
   "id": "7edc5a15-bc4c-4bf4-b3f5-1a585be59e1c",
   "metadata": {},
   "outputs": [],
   "source": []
  },
  {
   "cell_type": "code",
   "execution_count": null,
   "id": "21affdc1-b0a9-485c-bf5c-af6216b61542",
   "metadata": {},
   "outputs": [],
   "source": []
  },
  {
   "cell_type": "code",
   "execution_count": null,
   "id": "ff1e7efe-cf2d-4ac8-8f77-3e7823a20d73",
   "metadata": {},
   "outputs": [],
   "source": []
  },
  {
   "cell_type": "code",
   "execution_count": null,
   "id": "7e21b597-e5a3-45ee-a93e-6d34fd9c806f",
   "metadata": {},
   "outputs": [],
   "source": []
  },
  {
   "cell_type": "code",
   "execution_count": null,
   "id": "a6730b95-7df6-4842-a7fc-499c37e74a8f",
   "metadata": {},
   "outputs": [],
   "source": []
  },
  {
   "cell_type": "code",
   "execution_count": null,
   "id": "d88258bd-364f-4589-b5dd-0a3c98ce4a9e",
   "metadata": {},
   "outputs": [],
   "source": []
  },
  {
   "cell_type": "code",
   "execution_count": null,
   "id": "1defe543-ab28-4e5e-aca6-439ade36595e",
   "metadata": {},
   "outputs": [],
   "source": []
  },
  {
   "cell_type": "code",
   "execution_count": null,
   "id": "a8249053-eba1-4454-a4e1-0891df36b65b",
   "metadata": {},
   "outputs": [],
   "source": []
  },
  {
   "cell_type": "markdown",
   "id": "065af571-f6a8-4c9b-90ad-a1b75deae52d",
   "metadata": {},
   "source": [
    "For Silvana:"
   ]
  },
  {
   "cell_type": "code",
   "execution_count": null,
   "id": "cf2e8bce-c529-4653-b6df-cb0231064f82",
   "metadata": {},
   "outputs": [],
   "source": [
    "for i in range (0, 56):\n",
    "    print('\\'EOL_L0_Year_' + str(i) + '\\': {\\'unit\\': \\'m$^2$\\', \\'source\\': \\'generated\\'},');\n",
    "    \n",
    "for i in range (0, 56):\n",
    "    print('\\'EOL_PG_Year_' + str(i) + '\\': {\\'unit\\': \\'m$^2$\\', \\'source\\': \\'generated\\'},');\n",
    "    \n",
    "for i in range (0, 56):\n",
    "    print('\\'EOL_BS_Year_' + str(i) + '\\': {\\'unit\\': \\'m$^2$\\', \\'source\\': \\'generated\\'},');\n",
    "    \n"
   ]
  },
  {
   "cell_type": "code",
   "execution_count": null,
   "id": "f5483db7-7069-46ab-b046-9b860f073bf5",
   "metadata": {},
   "outputs": [],
   "source": []
  }
 ],
 "metadata": {
  "kernelspec": {
   "display_name": "Python 3 (ipykernel)",
   "language": "python",
   "name": "python3"
  },
  "language_info": {
   "codemirror_mode": {
    "name": "ipython",
    "version": 3
   },
   "file_extension": ".py",
   "mimetype": "text/x-python",
   "name": "python",
   "nbconvert_exporter": "python",
   "pygments_lexer": "ipython3",
   "version": "3.10.5"
  }
 },
 "nbformat": 4,
 "nbformat_minor": 5
}
