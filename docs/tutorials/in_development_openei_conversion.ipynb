{
 "cells": [
  {
   "cell_type": "markdown",
   "id": "88c86ceb",
   "metadata": {},
   "source": [
    "# Converting output files from \"11c - Electric Futures Simulations BIFACIAL (PVSC) CLEANUP\" \n",
    "## into OpenEi format for the various graphs shown on the PVSC PVICE wiki page"
   ]
  },
  {
   "cell_type": "code",
   "execution_count": 8,
   "id": "4ad4c23e",
   "metadata": {},
   "outputs": [],
   "source": [
    "import PV_ICE\n",
    "import numpy as np\n",
    "import pandas as pd\n",
    "import os,sys\n",
    "from pathlib import Path"
   ]
  },
  {
   "cell_type": "code",
   "execution_count": 9,
   "id": "22b75849",
   "metadata": {},
   "outputs": [
    {
     "name": "stdout",
     "output_type": "stream",
     "text": [
      "Your simulation will be stored in C:\\Users\\ahegedus\\Documents\\GitHub\\PV_ICE\\PV_ICE\\TEMP\n",
      "C:\\Users\\ahegedus\\Documents\\GitHub\\PV_ICE\\PV_ICE\\baselines\n"
     ]
    }
   ],
   "source": [
    "testfolder = str(Path().resolve().parent.parent /'PV_ICE' / 'TEMP')\n",
    "baselinesfolder =  str(Path().resolve().parent.parent /'PV_ICE' / 'baselines')\n",
    "# Another option using relative address; for some operative systems you might need '/' instead of '\\'\n",
    "# testfolder = os.path.abspath(r'..\\..\\PV_ICE\\TEMP')  \n",
    "\n",
    "print (\"Your simulation will be stored in %s\" % testfolder)\n",
    "print(baselinesfolder)"
   ]
  },
  {
   "cell_type": "code",
   "execution_count": 11,
   "id": "8dda5270",
   "metadata": {},
   "outputs": [],
   "source": [
    "yearly_results = pd.read_csv(r'C:\\Users\\ahegedus\\Documents\\PV ICE Open EI Data\\PVSC PVICE Python Data Files to Convert to Open EI\\CONVERT FROM THESE\\Yearly_Results.csv')\n",
    "cumulative_results = pd.read_csv(r'C:\\Users\\ahegedus\\Documents\\PV ICE Open EI Data\\PVSC PVICE Python Data Files to Convert to Open EI\\CONVERT FROM THESE\\PVSC_Cumulative_Results.csv')"
   ]
  },
  {
   "cell_type": "markdown",
   "id": "12a9fab4",
   "metadata": {},
   "source": [
    "## Create \"PVSC_Yearly, with Source Comparison, Materials Summed.csv\""
   ]
  },
  {
   "cell_type": "code",
   "execution_count": 12,
   "id": "93c44f29",
   "metadata": {},
   "outputs": [],
   "source": [
    "yearly_source_comparison = pd.DataFrame()"
   ]
  },
  {
   "cell_type": "code",
   "execution_count": 13,
   "id": "7dc35ec6",
   "metadata": {},
   "outputs": [],
   "source": [
    "scenario_col = [\"Today\"]*(2050-1994)+[\"Bifacial Projection\"]*(2050-1994)\n",
    "yearly_source_comparison['@scenario|Module Composition Scenario'] = scenario_col"
   ]
  },
  {
   "cell_type": "code",
   "execution_count": 14,
   "id": "955f27d5",
   "metadata": {},
   "outputs": [],
   "source": [
    "yearly_source_comparison['@timeseries|Year'] = list(yearly_results['year'])*2"
   ]
  },
  {
   "cell_type": "markdown",
   "id": "7edc4265",
   "metadata": {},
   "source": [
    "### Total Virgin Material Demand Columns"
   ]
  },
  {
   "cell_type": "code",
   "execution_count": 15,
   "id": "a72f1765",
   "metadata": {},
   "outputs": [],
   "source": [
    "virgin_material_demand_PVICE_bireduced = yearly_results['VirginStock_glass_Bifacial_ReducedInstalls'] + yearly_results['VirginStock_aluminium_frames_Bifacial_ReducedInstalls'] + yearly_results['VirginStock_silver_Bifacial_ReducedInstalls'] + yearly_results['VirginStock_silicon_Bifacial_ReducedInstalls'] + yearly_results['VirginStock_copper_Bifacial_ReducedInstalls']\n",
    "yearly_source_comparison['@value|TotalVirginMaterialDemand|PV ICE Bifacial Reduced Installs#MetricTonnes'] = [\"NA\"]*(2050-1994) + list(virgin_material_demand_PVICE_bireduced.values)"
   ]
  },
  {
   "cell_type": "code",
   "execution_count": 16,
   "id": "a16620b4",
   "metadata": {},
   "outputs": [],
   "source": [
    "virgin_material_demand_PVICE_bi = yearly_results['VirginStock_glass_Bifacial_SameInstalls'] + yearly_results['VirginStock_aluminium_frames_Bifacial_SameInstalls'] + yearly_results['VirginStock_silver_Bifacial_SameInstalls'] + yearly_results['VirginStock_silicon_Bifacial_SameInstalls'] + yearly_results['VirginStock_copper_Bifacial_SameInstalls']\n",
    "yearly_source_comparison['@value|TotalVirginMaterialDemand|PV ICE Bifacial#MetricTonnes'] = [\"NA\"]*(2050-1994) + list(virgin_material_demand_PVICE_bi.values)"
   ]
  },
  {
   "cell_type": "code",
   "execution_count": 17,
   "id": "f647468c",
   "metadata": {},
   "outputs": [],
   "source": [
    "virgin_material_demand_PVICE_today = yearly_results['VirginStock_glass_PV_ICE_Today'] + yearly_results['VirginStock_aluminium_frames_PV_ICE_Today'] + yearly_results['VirginStock_silver_PV_ICE_Today'] + yearly_results['VirginStock_silicon_PV_ICE_Today'] + yearly_results['VirginStock_copper_PV_ICE_Today']\n",
    "virgin_material_demand_PVICE_bifacialproj = yearly_results['VirginStock_glass_PV_ICE_Bifacial'] + yearly_results['VirginStock_aluminium_frames_PV_ICE_Bifacial'] + yearly_results['VirginStock_silver_PV_ICE_Bifacial'] + yearly_results['VirginStock_silicon_PV_ICE_Bifacial'] + yearly_results['VirginStock_copper_PV_ICE_Bifacial']\n",
    "yearly_source_comparison['@value|TotalVirginMaterialDemand|PV ICE#MetricTonnes'] = list(virgin_material_demand_PVICE_today.values) + list(virgin_material_demand_PVICE_bifacialproj.values)"
   ]
  },
  {
   "cell_type": "code",
   "execution_count": 18,
   "id": "73de42b9",
   "metadata": {
    "scrolled": true
   },
   "outputs": [],
   "source": [
    "lit_sources = [\"PV_ICE\",\"Irena_EL\",\"Irena_RL\"]\n",
    "pretty_sources = ['PV ICE','Irena EL','Irena RL']\n",
    "#virgin material demand cols for lit_sources\n",
    "for source in lit_sources:\n",
    "    virgin_material_demand_today = yearly_results['VirginStock_glass_' + source + '_Today'] + yearly_results['VirginStock_aluminium_frames_' + source + '_Today'] + yearly_results['VirginStock_silver_' + source + '_Today'] + yearly_results['VirginStock_silicon_' + source + '_Today'] + yearly_results['VirginStock_copper_' + source + '_Today']\n",
    "    virgin_material_demand_bifacialproj = yearly_results['VirginStock_glass_' + source + '_Bifacial'] + yearly_results['VirginStock_aluminium_frames_' + source + '_Bifacial'] + yearly_results['VirginStock_silver_' + source + '_Bifacial'] + yearly_results['VirginStock_silicon_' + source + '_Bifacial'] + yearly_results['VirginStock_copper_' + source + '_Bifacial']\n",
    "    better_source_name = pretty_sources[lit_sources.index(source)]\n",
    "    yearly_source_comparison['@value|TotalVirginMaterialDemand|' + better_source_name + '#MetricTonnes'] = list(virgin_material_demand_today.values) + list(virgin_material_demand_bifacialproj.values)\n",
    "    "
   ]
  },
  {
   "cell_type": "markdown",
   "id": "8ce1f670",
   "metadata": {},
   "source": [
    "### Total EOL Material Columns"
   ]
  },
  {
   "cell_type": "code",
   "execution_count": 19,
   "id": "b37d2841",
   "metadata": {},
   "outputs": [],
   "source": [
    "bifacial_scenarios = [\"Bifacial_ReducedInstalls\",\"Bifacial_SameInstalls\"]\n",
    "pretty_scenarios = [\"PV ICE Bifacial Reduced Installs\", \"PV ICE Bifacial\"]\n",
    "for myscenario in bifacial_scenarios:\n",
    "    total_eol_material_bifacialproj = yearly_results['Waste_EOL_glass_' + myscenario] + yearly_results['Waste_EOL_aluminium_frames_' + myscenario] + yearly_results['Waste_EOL_silver_' + myscenario] + yearly_results['Waste_EOL_silicon_' + myscenario] + yearly_results['Waste_EOL_copper_' + myscenario]\n",
    "    better_scenario_name = pretty_scenarios[bifacial_scenarios.index(myscenario)]\n",
    "    yearly_source_comparison['@value|TotalEOLMaterial|' + better_scenario_name + '#MetricTonnes'] = [\"NA\"]*(2050-1994) + list(total_eol_material_bifacialproj.values) "
   ]
  },
  {
   "cell_type": "code",
   "execution_count": 20,
   "id": "a4a7771c",
   "metadata": {},
   "outputs": [],
   "source": [
    "lit_sources = [\"PV_ICE\",\"Irena_EL\",\"Irena_RL\"]\n",
    "pretty_sources = ['PV ICE','Irena EL','Irena RL']\n",
    "for source in lit_sources:\n",
    "    total_eol_today = yearly_results['Waste_EOL_glass_' + source + '_Today'] + yearly_results['Waste_EOL_aluminium_frames_' + source + '_Today'] + yearly_results['Waste_EOL_silver_' + source + '_Today'] + yearly_results['Waste_EOL_silicon_' + source + '_Today'] + yearly_results['Waste_EOL_copper_' + source + '_Today']\n",
    "    total_eol_bifacialproj = yearly_results['Waste_EOL_glass_' + source + '_Bifacial'] + yearly_results['Waste_EOL_aluminium_frames_' + source + '_Bifacial'] + yearly_results['Waste_EOL_silver_' + source + '_Bifacial'] + yearly_results['Waste_EOL_silicon_' + source + '_Bifacial'] + yearly_results['Waste_EOL_copper_' + source + '_Bifacial']\n",
    "    better_source_name = pretty_sources[lit_sources.index(source)]\n",
    "    yearly_source_comparison['@value|TotalEOLMaterial|' + better_source_name + '#MetricTonnes'] = list(total_eol_today.values) + list(total_eol_bifacialproj.values)\n",
    "    "
   ]
  },
  {
   "cell_type": "markdown",
   "id": "576aaf62",
   "metadata": {},
   "source": [
    "### Manufacturing Scrap Columns"
   ]
  },
  {
   "cell_type": "code",
   "execution_count": 21,
   "id": "b59957ff",
   "metadata": {},
   "outputs": [],
   "source": [
    "bifacial_scenarios = [\"Bifacial_ReducedInstalls\",\"Bifacial_SameInstalls\"]\n",
    "pretty_scenarios = [\"PV ICE Bifacial Reduced Installs\", \"PV ICE Bifacial\"]\n",
    "for myscenario in bifacial_scenarios:\n",
    "    total_mfg_scrap_bifacialproj = yearly_results['Waste_MFG_glass_' + myscenario] + yearly_results['Waste_MFG_aluminium_frames_' + myscenario] + yearly_results['Waste_MFG_silver_' + myscenario] + yearly_results['Waste_MFG_silicon_' + myscenario] + yearly_results['Waste_MFG_copper_' + myscenario]\n",
    "    better_scenario_name = pretty_scenarios[bifacial_scenarios.index(myscenario)]\n",
    "    yearly_source_comparison['@value|ManufacturingScrap|' + better_scenario_name + '#MetricTonnes'] = [\"NA\"]*(2050-1994) + list(total_mfg_scrap_bifacialproj.values) "
   ]
  },
  {
   "cell_type": "code",
   "execution_count": 22,
   "id": "9e94f5bd",
   "metadata": {},
   "outputs": [],
   "source": [
    "lit_sources = [\"PV_ICE\",\"Irena_EL\",\"Irena_RL\"]\n",
    "pretty_sources = ['PV ICE','Irena EL','Irena RL']\n",
    "for source in lit_sources:\n",
    "    total_mfg_today = yearly_results['Waste_MFG_glass_' + source + '_Today'] + yearly_results['Waste_MFG_aluminium_frames_' + source + '_Today'] + yearly_results['Waste_MFG_silver_' + source + '_Today'] + yearly_results['Waste_MFG_silicon_' + source + '_Today'] + yearly_results['Waste_MFG_copper_' + source + '_Today']\n",
    "    total_mfg_bifacialproj = yearly_results['Waste_MFG_glass_' + source + '_Bifacial'] + yearly_results['Waste_MFG_aluminium_frames_' + source + '_Bifacial'] + yearly_results['Waste_MFG_silver_' + source + '_Bifacial'] + yearly_results['Waste_MFG_silicon_' + source + '_Bifacial'] + yearly_results['Waste_MFG_copper_' + source + '_Bifacial']\n",
    "    better_source_name = pretty_sources[lit_sources.index(source)]\n",
    "    yearly_source_comparison['@value|ManufacturingScrap|' + better_source_name + '#MetricTonnes'] = list(total_mfg_today.values) + list(total_mfg_bifacialproj.values)"
   ]
  },
  {
   "cell_type": "markdown",
   "id": "ef260fd8",
   "metadata": {},
   "source": [
    "### Manufacturing Scrap and EOL Material Columns"
   ]
  },
  {
   "cell_type": "code",
   "execution_count": 23,
   "id": "d59f0a41",
   "metadata": {},
   "outputs": [],
   "source": [
    "bifacial_scenarios = [\"Bifacial_ReducedInstalls\",\"Bifacial_SameInstalls\"]\n",
    "pretty_scenarios = [\"PV ICE Bifacial Reduced Installs\", \"PV ICE Bifacial\"]\n",
    "for myscenario in bifacial_scenarios:\n",
    "    better_scenario_name = pretty_scenarios[bifacial_scenarios.index(myscenario)]\n",
    "    total_waste = yearly_source_comparison['@value|TotalEOLMaterial|' + better_scenario_name + '#MetricTonnes'] + yearly_source_comparison['@value|ManufacturingScrap|' + better_scenario_name + '#MetricTonnes']\n",
    "    yearly_source_comparison['@value|ManufacturingScrapAndEOLMaterial|' + better_scenario_name + '#MetricTonnes'] = [\"NA\"]*(2050-1994) + list(total_waste.values)[56:] "
   ]
  },
  {
   "cell_type": "code",
   "execution_count": 24,
   "id": "8dba62b3",
   "metadata": {},
   "outputs": [],
   "source": [
    "lit_sources = [\"PV_ICE\",\"Irena_EL\",\"Irena_RL\"]\n",
    "pretty_sources = ['PV ICE','Irena EL','Irena RL']\n",
    "for source in lit_sources:\n",
    "    better_source_name = pretty_sources[lit_sources.index(source)]\n",
    "    total_waste = yearly_source_comparison['@value|TotalEOLMaterial|' + better_source_name + '#MetricTonnes'] + yearly_source_comparison['@value|ManufacturingScrap|' + better_source_name + '#MetricTonnes']\n",
    "    yearly_source_comparison['@value|ManufacturingScrapAndEOLMaterial|' + better_source_name + '#MetricTonnes'] = list(total_waste.values)"
   ]
  },
  {
   "cell_type": "markdown",
   "id": "fcf001a9",
   "metadata": {},
   "source": [
    "### New Installed Capacity Columns"
   ]
  },
  {
   "cell_type": "code",
   "execution_count": 25,
   "id": "73ec8db5",
   "metadata": {},
   "outputs": [],
   "source": [
    "bifacial_scenarios = [\"Bifacial_ReducedInstalls\",\"Bifacial_SameInstalls\"]\n",
    "pretty_scenarios = [\"PV ICE Bifacial Reduced Installs\", \"PV ICE Bifacial\"]\n",
    "for myscenario in bifacial_scenarios:\n",
    "    new_installs = yearly_results['new_Installed_Capacity_[MW]_' + myscenario]\n",
    "    better_scenario_name = pretty_scenarios[bifacial_scenarios.index(myscenario)]\n",
    "    yearly_source_comparison['@value|NewInstalledCapacity|' + better_scenario_name + '#MW'] = [\"NA\"]*(2050-1994) + list(new_installs.values) "
   ]
  },
  {
   "cell_type": "code",
   "execution_count": 26,
   "id": "192a1a80",
   "metadata": {},
   "outputs": [],
   "source": [
    "lit_sources = [\"PV_ICE\",\"Irena_EL\",\"Irena_RL\"]\n",
    "pretty_sources = ['PV ICE','Irena EL','Irena RL']\n",
    "for source in lit_sources:\n",
    "    new_installs = yearly_results['new_Installed_Capacity_[MW]_' + source]\n",
    "    better_source_name = pretty_sources[lit_sources.index(source)]\n",
    "    yearly_source_comparison['@value|NewInstalledCapacity|' + better_source_name + '#MW'] = list(new_installs.values) * 2"
   ]
  },
  {
   "cell_type": "markdown",
   "id": "01e1caf6",
   "metadata": {},
   "source": [
    "### Installed Capacity Columns"
   ]
  },
  {
   "cell_type": "code",
   "execution_count": 27,
   "id": "023aa9d2",
   "metadata": {},
   "outputs": [],
   "source": [
    "bifacial_scenarios = [\"Bifacial_ReducedInstalls\",\"Bifacial_SameInstalls\"]\n",
    "pretty_scenarios = [\"PV ICE Bifacial Reduced Installs\", \"PV ICE Bifacial\"]\n",
    "for myscenario in bifacial_scenarios:\n",
    "    capacity = cumulative_results['Capacity_' + myscenario]\n",
    "    better_scenario_name = pretty_scenarios[bifacial_scenarios.index(myscenario)]\n",
    "    yearly_source_comparison['@value|InstalledCapacity|' + better_scenario_name + '#MW'] = [\"NA\"]*(2050-1994) + list(capacity.values/1000000) #convert to MW "
   ]
  },
  {
   "cell_type": "code",
   "execution_count": 28,
   "id": "3acf0420",
   "metadata": {},
   "outputs": [],
   "source": [
    "lit_sources = [\"PV_ICE\",\"Irena_EL\",\"Irena_RL\"]\n",
    "pretty_sources = ['PV ICE','Irena EL','Irena RL']\n",
    "for source in lit_sources:\n",
    "    capacity_today = cumulative_results['Capacity_' + source + '_Today']\n",
    "    capacity_bifacialproj = cumulative_results['Capacity_' + source + '_Bifacial']\n",
    "    better_source_name = pretty_sources[lit_sources.index(source)]\n",
    "    yearly_source_comparison['@value|InstalledCapacity|' + better_source_name + '#MW'] = list(capacity_today.values) + list(capacity_bifacialproj.values/1000000) #convert to MW"
   ]
  },
  {
   "cell_type": "code",
   "execution_count": 29,
   "id": "e90f4d9b",
   "metadata": {},
   "outputs": [],
   "source": [
    "yearly_source_comparison['@value|InstalledCapacity|Cumulative New Installs#MW'] = cumulative_results['new_Installed_Capacity_[MW]_PV_ICE']"
   ]
  },
  {
   "cell_type": "code",
   "execution_count": 30,
   "id": "74fdcf16",
   "metadata": {},
   "outputs": [],
   "source": [
    "### Save results as CSV, saves in tutorial folder\n",
    "yearly_source_comparison.to_csv('New_PVSC_Yearly, with Source Comparison, Materials Summed.csv')"
   ]
  },
  {
   "cell_type": "markdown",
   "id": "1c8b6912",
   "metadata": {},
   "source": [
    "## Create \"PVSC_Installed Capacity.csv\"\n",
    "### Using Capacity_Today values"
   ]
  },
  {
   "cell_type": "code",
   "execution_count": 31,
   "id": "c87df0e7",
   "metadata": {},
   "outputs": [],
   "source": [
    "installed_capacity = pd.DataFrame()"
   ]
  },
  {
   "cell_type": "code",
   "execution_count": 32,
   "id": "9a751337",
   "metadata": {},
   "outputs": [],
   "source": [
    "scenario_col = [\"Bifacial Projection\"]*(2050-1994)\n",
    "installed_capacity['@scenario|Module Composition Scenario'] = scenario_col"
   ]
  },
  {
   "cell_type": "code",
   "execution_count": 33,
   "id": "13a0b2ce",
   "metadata": {},
   "outputs": [],
   "source": [
    "installed_capacity['@timeseries|Year'] = list(yearly_results['year'])"
   ]
  },
  {
   "cell_type": "code",
   "execution_count": 34,
   "id": "d0a8bd64",
   "metadata": {},
   "outputs": [],
   "source": [
    "####CHANGED INSTALLED CAPACITY VALUES TO MW\n",
    "bifacial_scenarios = [\"Bifacial_ReducedInstalls\",\"Bifacial_SameInstalls\"]\n",
    "pretty_scenarios = [\"PV ICE Bifacial Reduced Installs\", \"PV ICE Bifacial\"]\n",
    "for myscenario in bifacial_scenarios:\n",
    "    capacity = cumulative_results['Capacity_' + myscenario]\n",
    "    better_scenario_name = pretty_scenarios[bifacial_scenarios.index(myscenario)]\n",
    "    installed_capacity['@value|InstalledCapacity|' + better_scenario_name + '#MW'] = list(capacity.values/1000000) #convert to MW "
   ]
  },
  {
   "cell_type": "code",
   "execution_count": 35,
   "id": "70588edb",
   "metadata": {},
   "outputs": [],
   "source": [
    "lit_sources = [\"Irena_EL\",\"Irena_RL\"]\n",
    "pretty_sources = ['Irena EL','Irena RL']\n",
    "for source in lit_sources:\n",
    "    capacity_today = cumulative_results['Capacity_' + source + '_Today']\n",
    "    better_source_name = pretty_sources[lit_sources.index(source)]\n",
    "    installed_capacity['@value|InstalledCapacity|' + better_source_name + '#MW'] = list(capacity_today.values/1000000) #convert to MW"
   ]
  },
  {
   "cell_type": "code",
   "execution_count": 36,
   "id": "4d7ad05f",
   "metadata": {},
   "outputs": [],
   "source": [
    "installed_capacity['@value|InstalledCapacity|Cumulative New Installs#MW'] = cumulative_results['new_Installed_Capacity_[MW]_PV_ICE']"
   ]
  },
  {
   "cell_type": "code",
   "execution_count": 37,
   "id": "e7d83fd7",
   "metadata": {},
   "outputs": [],
   "source": [
    "### Save results as CSV, saves in tutorial folder\n",
    "installed_capacity.to_csv('New_PVSC_Installed Capacity.csv')"
   ]
  },
  {
   "cell_type": "markdown",
   "id": "78dd8ae0",
   "metadata": {},
   "source": [
    "## Create \"PVSC_Cumulative Today with Decade Increments.csv\""
   ]
  },
  {
   "cell_type": "code",
   "execution_count": 30,
   "id": "9cee5dd9",
   "metadata": {},
   "outputs": [],
   "source": [
    "cumulative_today = pd.DataFrame()"
   ]
  },
  {
   "cell_type": "code",
   "execution_count": 31,
   "id": "aee0b6eb",
   "metadata": {},
   "outputs": [],
   "source": [
    "cumulative_today['@scenario|Reliability Approach'] = [\"PV ICE\"]*(2050-1994) + [\"Irena EL\"]*(2050-1994) + [\"Irena RL\"]*(2050-1994) + [\"PV ICE with MFG Scrap\"]*(2050-1994)"
   ]
  },
  {
   "cell_type": "code",
   "execution_count": 32,
   "id": "4b6f4db2",
   "metadata": {},
   "outputs": [],
   "source": [
    "cumulative_today['@timeseries|Year'] = list(yearly_results['year'])*4"
   ]
  },
  {
   "cell_type": "code",
   "execution_count": 33,
   "id": "fb43282d",
   "metadata": {},
   "outputs": [],
   "source": [
    "#Virgin Material Demand Columns\n",
    "materials = ['glass','aluminium_frames','silver','silicon','copper']\n",
    "pretty_materials = ['Glass','AluminiumFrames','Silver','Silicon','Copper']\n",
    "for mymaterial in materials:\n",
    "    better_material_name = pretty_materials[materials.index(mymaterial)]\n",
    "    virgin_material_demand = list(cumulative_results['VirginStock_'+ mymaterial + '_PV_ICE_Today'].values) + list(cumulative_results['VirginStock_'+ mymaterial + '_Irena_EL_Today'].values) + list(cumulative_results['VirginStock_'+ mymaterial + '_Irena_RL_Today'].values) + ['NA'] * (2050-1994)\n",
    "    cumulative_today['@value|VirginMaterialDemand|' + better_material_name + '#MetricTonnes'] = virgin_material_demand"
   ]
  },
  {
   "cell_type": "code",
   "execution_count": 34,
   "id": "02eb0678",
   "metadata": {},
   "outputs": [],
   "source": [
    "#EOL Material Columns\n",
    "materials = ['glass','aluminium_frames','silver','silicon','copper']\n",
    "pretty_materials = ['Glass','AluminiumFrames','Silver','Silicon','Copper']\n",
    "for mymaterial in materials:\n",
    "    better_material_name = pretty_materials[materials.index(mymaterial)]\n",
    "    pv_ice_eol = cumulative_results['Waste_EOL_' + mymaterial + '_PV_ICE_Today'].values\n",
    "    pv_ice_mfg = cumulative_results['Waste_MFG_' + mymaterial + '_PV_ICE_Today'].values                                        \n",
    "    pv_ice_with_mfg = list(pv_ice_eol + pv_ice_mfg)\n",
    "    eol_material = list(cumulative_results['Waste_EOL_' + mymaterial + '_PV_ICE_Today'].values) + list(cumulative_results['Waste_EOL_' + mymaterial + '_Irena_EL_Today'].values) + list(cumulative_results['Waste_EOL_' + mymaterial + '_Irena_RL_Today'].values) + list(pv_ice_with_mfg)\n",
    "    cumulative_today['@value|EOLMaterial|' + better_material_name + '#MetricTonnes'] = eol_material"
   ]
  },
  {
   "cell_type": "code",
   "execution_count": 35,
   "id": "ee762936",
   "metadata": {},
   "outputs": [],
   "source": [
    "#Manufacturing Scrap Columns (NA) -- not used in OpenEI\n",
    "materials = ['glass','aluminium_frames','silver','silicon','copper']\n",
    "pretty_materials = ['Glass','AluminiumFrames','Silver','Silicon','Copper']\n",
    "for mymaterial in materials:\n",
    "    better_material_name = pretty_materials[materials.index(mymaterial)]\n",
    "    cumulative_today['@value|ManufacturingScrap|' + better_material_name + '#MetricTonnes'] = [\"NA\"] * len(cumulative_today)\n"
   ]
  },
  {
   "cell_type": "code",
   "execution_count": 36,
   "id": "2611d5c8",
   "metadata": {},
   "outputs": [],
   "source": [
    "#Manufacturing Scrap and EOL Columns (NA) -- not used in OpenEI\n",
    "materials = ['glass','aluminium_frames','silver','silicon','copper']\n",
    "pretty_materials = ['Glass','AluminiumFrames','Silver','Silicon','Copper']\n",
    "for mymaterial in materials:\n",
    "    better_material_name = pretty_materials[materials.index(mymaterial)]\n",
    "    cumulative_today['@value|ManufacturingScrapAndEOLMaterial|' + better_material_name + '#MetricTonnes'] = [\"NA\"] * len(cumulative_today)\n"
   ]
  },
  {
   "cell_type": "code",
   "execution_count": 37,
   "id": "a6c5b7f4",
   "metadata": {},
   "outputs": [],
   "source": [
    "#New Installed Capacity (NA) -- not used in OpenEI\n",
    "cumulative_today['@value|NewInstalledCapacity|PV|#MW'] = [\"NA\"] * len(cumulative_today)\n",
    "cumulative_today['@value|InstalledCapacity|PV|#W'] = [\"NA\"] * len(cumulative_today)"
   ]
  },
  {
   "cell_type": "code",
   "execution_count": null,
   "id": "21736a37",
   "metadata": {},
   "outputs": [],
   "source": [
    "#SAVE NOW IF ALL YEARS ARE WANTED\n",
    "#cumulative_today.to_csv(\"New_PVSC_Cumulative Today.csv\")"
   ]
  },
  {
   "cell_type": "code",
   "execution_count": 63,
   "id": "595dc5de",
   "metadata": {},
   "outputs": [],
   "source": [
    "#filter for decade increments\n",
    "df_new = cumulative_today.rename(columns={'@timeseries|Year':'year'})\n",
    "cumulative_today = cumulative_today[df_new.year.isin([2020, 2030,2040,2050])]\n",
    "cumulative_today = cumulative_today.rename(columns={'year':'@timeseries|Year'})"
   ]
  },
  {
   "cell_type": "code",
   "execution_count": 64,
   "id": "2af3bce9",
   "metadata": {},
   "outputs": [],
   "source": [
    "cumulative_today.to_csv(\"New_PVSC_Cumulative Today with Decade Increments.csv\")"
   ]
  },
  {
   "cell_type": "markdown",
   "id": "e2a97d38",
   "metadata": {},
   "source": [
    "## Create \"PVSC_Cumulative Bifacial Projection with Decade Increments.csv\""
   ]
  },
  {
   "cell_type": "code",
   "execution_count": 65,
   "id": "344a75c9",
   "metadata": {},
   "outputs": [],
   "source": [
    "cumulative_bifacial = pd.DataFrame()"
   ]
  },
  {
   "cell_type": "code",
   "execution_count": 66,
   "id": "4502baa2",
   "metadata": {},
   "outputs": [],
   "source": [
    "cumulative_bifacial['@scenario|Reliability Approach'] = [\"PV ICE\"]*(2050-1994) + [\"Irena EL\"]*(2050-1994) + [\"Irena RL\"]*(2050-1994) + [\"PV ICE with MFG Scrap\"]*(2050-1994)"
   ]
  },
  {
   "cell_type": "code",
   "execution_count": 67,
   "id": "eeadb630",
   "metadata": {},
   "outputs": [],
   "source": [
    "cumulative_bifacial['@timeseries|Year'] = list(yearly_results['year'])*4"
   ]
  },
  {
   "cell_type": "code",
   "execution_count": 68,
   "id": "a8a03ab3",
   "metadata": {},
   "outputs": [],
   "source": [
    "#Virgin Material Demand Columns\n",
    "materials = ['glass','aluminium_frames','silver','silicon','copper']\n",
    "pretty_materials = ['Glass','AluminiumFrames','Silver','Silicon','Copper']\n",
    "for mymaterial in materials:\n",
    "    better_material_name = pretty_materials[materials.index(mymaterial)]\n",
    "    virgin_material_demand = list(cumulative_results['VirginStock_'+ mymaterial + '_PV_ICE_Bifacial'].values) + list(cumulative_results['VirginStock_'+ mymaterial + '_Irena_EL_Bifacial'].values) + list(cumulative_results['VirginStock_'+ mymaterial + '_Irena_RL_Bifacial'].values) + ['NA'] * (2050-1994)\n",
    "    cumulative_bifacial['@value|VirginMaterialDemand|' + better_material_name + '#MetricTonnes'] = virgin_material_demand"
   ]
  },
  {
   "cell_type": "code",
   "execution_count": 69,
   "id": "100af3f8",
   "metadata": {},
   "outputs": [],
   "source": [
    "#EOL Material Columns\n",
    "materials = ['glass','aluminium_frames','silver','silicon','copper']\n",
    "pretty_materials = ['Glass','AluminiumFrames','Silver','Silicon','Copper']\n",
    "for mymaterial in materials:\n",
    "    better_material_name = pretty_materials[materials.index(mymaterial)]\n",
    "    pv_ice_eol = cumulative_results['Waste_EOL_' + mymaterial + '_PV_ICE_Bifacial'].values\n",
    "    pv_ice_mfg = cumulative_results['Waste_MFG_' + mymaterial + '_PV_ICE_Bifacial'].values                                        \n",
    "    pv_ice_with_mfg = list(pv_ice_eol + pv_ice_mfg)\n",
    "    eol_material = list(cumulative_results['Waste_EOL_' + mymaterial + '_PV_ICE_Bifacial'].values) + list(cumulative_results['Waste_EOL_' + mymaterial + '_Irena_EL_Bifacial'].values) + list(cumulative_results['Waste_EOL_' + mymaterial + '_Irena_RL_Bifacial'].values) + list(pv_ice_with_mfg)\n",
    "    cumulative_bifacial['@value|EOLMaterial|' + better_material_name + '#MetricTonnes'] = eol_material"
   ]
  },
  {
   "cell_type": "code",
   "execution_count": 70,
   "id": "15d1e8fd",
   "metadata": {},
   "outputs": [],
   "source": [
    "#Manufacturing Scrap Columns (NA) -- not used in OpenEI\n",
    "materials = ['glass','aluminium_frames','silver','silicon','copper']\n",
    "pretty_materials = ['Glass','AluminiumFrames','Silver','Silicon','Copper']\n",
    "for mymaterial in materials:\n",
    "    better_material_name = pretty_materials[materials.index(mymaterial)]\n",
    "    cumulative_bifacial['@value|ManufacturingScrap|' + better_material_name + '#MetricTonnes'] = [\"NA\"] * len(cumulative_bifacial)\n"
   ]
  },
  {
   "cell_type": "code",
   "execution_count": 71,
   "id": "e8e321cf",
   "metadata": {},
   "outputs": [],
   "source": [
    "#Manufacturing Scrap and EOL Columns (NA) -- not used in OpenEI\n",
    "materials = ['glass','aluminium_frames','silver','silicon','copper']\n",
    "pretty_materials = ['Glass','AluminiumFrames','Silver','Silicon','Copper']\n",
    "for mymaterial in materials:\n",
    "    better_material_name = pretty_materials[materials.index(mymaterial)]\n",
    "    cumulative_bifacial['@value|ManufacturingScrapAndEOLMaterial|' + better_material_name + '#MetricTonnes'] = [\"NA\"] * len(cumulative_bifacial)\n"
   ]
  },
  {
   "cell_type": "code",
   "execution_count": 72,
   "id": "19c3df4e",
   "metadata": {},
   "outputs": [],
   "source": [
    "#New Installed Capacity (NA) -- not used in OpenEI\n",
    "cumulative_bifacial['@value|NewInstalledCapacity|PV|#MW'] = [\"NA\"] * len(cumulative_bifacial)\n",
    "cumulative_bifacial['@value|InstalledCapacity|PV|#W'] = [\"NA\"] * len(cumulative_bifacial)"
   ]
  },
  {
   "cell_type": "code",
   "execution_count": 73,
   "id": "289040a9",
   "metadata": {},
   "outputs": [],
   "source": [
    "#SAVE NOW IF ALL YEARS ARE WANTED\n",
    "#cumulative_bifacial.to_csv(\"New_PVSC_Cumulative Bifacial.csv\")"
   ]
  },
  {
   "cell_type": "code",
   "execution_count": 74,
   "id": "adeae7b1",
   "metadata": {},
   "outputs": [],
   "source": [
    "#filter for decade increments\n",
    "df_new = cumulative_bifacial.rename(columns={'@timeseries|Year':'year'})\n",
    "cumulative_bifacial = cumulative_bifacial[df_new.year.isin([2020, 2030,2040,2050])]\n",
    "cumulative_bifacial = cumulative_bifacial.rename(columns={'year':'@timeseries|Year'})"
   ]
  },
  {
   "cell_type": "code",
   "execution_count": 75,
   "id": "de7c9238",
   "metadata": {},
   "outputs": [],
   "source": [
    "cumulative_bifacial.to_csv(\"New_PVSC_Cumulative Bifacial Projection with Decade Increments.csv\")"
   ]
  },
  {
   "cell_type": "markdown",
   "id": "2e30dedc",
   "metadata": {},
   "source": [
    "### Now all CSVs are created and are ready to import to OpenEI."
   ]
  }
 ],
 "metadata": {
  "kernelspec": {
   "display_name": "Python 3",
   "language": "python",
   "name": "python3"
  },
  "language_info": {
   "codemirror_mode": {
    "name": "ipython",
    "version": 3
   },
   "file_extension": ".py",
   "mimetype": "text/x-python",
   "name": "python",
   "nbconvert_exporter": "python",
   "pygments_lexer": "ipython3",
   "version": "3.8.8"
  }
 },
 "nbformat": 4,
 "nbformat_minor": 5
}
