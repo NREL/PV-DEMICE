{
 "cells": [
  {
   "cell_type": "markdown",
   "id": "f114f6b6",
   "metadata": {},
   "source": [
    "# Energy in the Balance: PV reliability to power the Energy Transition\n",
    "\n",
    "This journal documents the analysis presented at PVRW 2023 by Heather Mirletz. We explore the energy balance as it is effected by the different aspects of PV reliability, or un-reliability. We will use the PV ICE tool baseline and assume immortal PV modules. Then we will add in predicted degradation, and examine the new deployment, mass, and energy requirements to meet energy transition targets. Next we will add in Weibull controlled failures, and finally economic project lifetimes to examine repowering problems.\n",
    "\n",
    "Through this we will identify the key aspects of PV reliability to emphasize for easing the challenge of energy transition."
   ]
  },
  {
   "cell_type": "code",
   "execution_count": 1,
   "id": "75d922f1",
   "metadata": {},
   "outputs": [],
   "source": [
    "import numpy as np\n",
    "import pandas as pd\n",
    "import os,sys\n",
    "from pathlib import Path\n",
    "import matplotlib.pyplot as plt\n",
    "\n",
    "cwd = os.getcwd() #grabs current working directory\n",
    "\n",
    "testfolder = str(Path().resolve().parent.parent / 'PV_ICE' / 'TEMP' / 'PVRW2023')\n",
    "inputfolder = str(Path().resolve().parent.parent / 'PV_ICE' / 'TEMP')\n",
    "baselinesfolder = str(Path().resolve().parent.parent /'PV_ICE' / 'baselines')\n",
    "supportMatfolder = str(Path().resolve().parent.parent / 'PV_ICE' / 'baselines' / 'SupportingMaterial')\n",
    "\n",
    "if not os.path.exists(testfolder):\n",
    "    os.makedirs(testfolder)"
   ]
  },
  {
   "cell_type": "code",
   "execution_count": 2,
   "id": "4c82abc1",
   "metadata": {},
   "outputs": [],
   "source": [
    "#https://www.learnui.design/tools/data-color-picker.html#palette\n",
    "#color pallette - modify here for all graphs below\n",
    "colorpalette=['#0079C2','#00A4E4','#F7A11A','#5D9732','#933C06',]\n",
    "import matplotlib as mpl #import matplotlib\n",
    "from cycler import cycler #import cycler\n",
    "mpl.rcParams['axes.prop_cycle'] = cycler(color=colorpalette) #reset the default color palette of mpl\n",
    "\n",
    "plt.rcParams.update({'font.size': 14})\n",
    "plt.rcParams['figure.figsize'] = (8, 6)\n",
    "\n",
    "scennames_labels = ['PV ICE','Immortal','Degradation','Failures','Project Life\\nRepowering'] #"
   ]
  },
  {
   "cell_type": "markdown",
   "id": "5fa07c7f",
   "metadata": {},
   "source": [
    "Scenarios and Materials"
   ]
  },
  {
   "cell_type": "code",
   "execution_count": 3,
   "id": "37068d7f",
   "metadata": {},
   "outputs": [],
   "source": [
    "#creating scenarios\n",
    "scennames = ['PV ICE','Immortal','Degradation','Failures','ProjectLife']\n",
    "MATERIALS = ['glass','silver','silicon', 'copper', 'aluminium_frames'] #'encapsulant', 'backsheet',\n",
    "moduleFile_m = os.path.join(baselinesfolder, 'baseline_modules_mass_US.csv')\n",
    "moduleFile_e = os.path.join(baselinesfolder, 'baseline_modules_energy.csv')"
   ]
  },
  {
   "cell_type": "code",
   "execution_count": 4,
   "id": "2135f86d",
   "metadata": {},
   "outputs": [
    {
     "name": "stdout",
     "output_type": "stream",
     "text": [
      "path = C:\\Users\\hmirletz\\Documents\\GitHub\\PV_ICE\\PV_ICE\\TEMP\\PVRW2023\n"
     ]
    }
   ],
   "source": [
    "#load in a baseline and materials for modification\n",
    "import PV_ICE\n",
    "\n",
    "sim1 = PV_ICE.Simulation(name='sim1', path=testfolder)\n",
    "for scen in scennames:\n",
    "    sim1.createScenario(name=scen, massmodulefile=moduleFile_m, energymodulefile=moduleFile_e)\n",
    "    for mat in range (0, len(MATERIALS)):\n",
    "        matbaseline_m = os.path.join(baselinesfolder,'baseline_material_mass_'+MATERIALS[mat]+'.csv')\n",
    "        matbaseline_e = os.path.join(baselinesfolder,'baseline_material_energy_'+MATERIALS[mat]+'.csv')\n",
    "        sim1.scenario[scen].addMaterial(MATERIALS[mat], massmatfile=matbaseline_m, energymatfile=matbaseline_e)"
   ]
  },
  {
   "cell_type": "markdown",
   "id": "34ef266c",
   "metadata": {},
   "source": [
    "## Modify Scenarios"
   ]
  },
  {
   "cell_type": "markdown",
   "id": "764bccc4",
   "metadata": {},
   "source": [
    "### Immortal"
   ]
  },
  {
   "cell_type": "code",
   "execution_count": 5,
   "id": "0d8bf4e8",
   "metadata": {},
   "outputs": [],
   "source": [
    "# Immortal\n",
    "\n",
    "#Lifetime and Degradation\n",
    "#values taken from lifetime vs recycling paper\n",
    "#degradation rate:\n",
    "sim1.modifyScenario('Immortal', 'mod_degradation', 0.0, start_year=2022) #\n",
    "#Mod Project Lifetime\n",
    "sim1.modifyScenario('Immortal', 'mod_lifetime', 200, start_year=2022) #\n",
    "#T50\n",
    "sim1.modifyScenario('Immortal', 'mod_reliability_t50', 250, start_year=2022)\n",
    "#t90\n",
    "sim1.modifyScenario('Immortal', 'mod_reliability_t90', 280, start_year=2022) \n",
    "\n"
   ]
  },
  {
   "cell_type": "markdown",
   "id": "82fd1e2e",
   "metadata": {},
   "source": [
    "### Degradation"
   ]
  },
  {
   "cell_type": "code",
   "execution_count": 6,
   "id": "1295f7e0",
   "metadata": {},
   "outputs": [],
   "source": [
    "# Degradation\n",
    "\n",
    "#Lifetime and Degradation\n",
    "#values taken from lifetime vs recycling paper\n",
    "#degradation rate:\n",
    "sim1.modifyScenario('Degradation', 'mod_degradation', 0.7, start_year=2022) # Jordan et al 2022\n",
    "#Mod Project Lifetime\n",
    "sim1.modifyScenario('Degradation', 'mod_lifetime', 200, start_year=2022) #\n",
    "#T50\n",
    "sim1.modifyScenario('Degradation', 'mod_reliability_t50', 250, start_year=2022)\n",
    "#t90\n",
    "sim1.modifyScenario('Degradation', 'mod_reliability_t90', 280, start_year=2022) "
   ]
  },
  {
   "cell_type": "markdown",
   "id": "c50aec92",
   "metadata": {},
   "source": [
    "### Failures"
   ]
  },
  {
   "cell_type": "code",
   "execution_count": 7,
   "id": "b3a530b9",
   "metadata": {},
   "outputs": [],
   "source": [
    "# Failures\n",
    "\n",
    "#Lifetime and Degradation\n",
    "#values taken from lifetime vs recycling paper\n",
    "#degradation rate:\n",
    "sim1.modifyScenario('Failures', 'mod_degradation', 0.0, start_year=2022) # Jordan et al 2022\n",
    "#Mod Project Lifetime\n",
    "sim1.modifyScenario('Failures', 'mod_lifetime', 200, start_year=2022) #\n",
    "#T50\n",
    "sim1.modifyScenario('Failures', 'mod_reliability_t50', 32, start_year=2022) #for a 30 year module\n",
    "#t90\n",
    "sim1.modifyScenario('Failures', 'mod_reliability_t90', 36, start_year=2022) #for a 30 year module"
   ]
  },
  {
   "cell_type": "markdown",
   "id": "2bad2359",
   "metadata": {},
   "source": [
    "### Project Lifetime/Repowering"
   ]
  },
  {
   "cell_type": "code",
   "execution_count": 8,
   "id": "bc1b81f1",
   "metadata": {},
   "outputs": [],
   "source": [
    "# Project Lifetime/Repowering\n",
    "\n",
    "#Lifetime and Degradation\n",
    "#values taken from lifetime vs recycling paper\n",
    "#degradation rate:\n",
    "sim1.modifyScenario('ProjectLife', 'mod_degradation', 0.0, start_year=2022) # Jordan et al 2022\n",
    "#Mod Project Lifetime\n",
    "sim1.modifyScenario('ProjectLife', 'mod_lifetime', 30, start_year=2022) #30 year project life\n",
    "#T50\n",
    "sim1.modifyScenario('ProjectLife', 'mod_reliability_t50', 250, start_year=2022) #for a 30 year module\n",
    "#t90\n",
    "sim1.modifyScenario('ProjectLife', 'mod_reliability_t90', 280, start_year=2022) #for a 30 year module"
   ]
  },
  {
   "cell_type": "markdown",
   "id": "45fb64a4",
   "metadata": {},
   "source": [
    "Modify Years"
   ]
  },
  {
   "cell_type": "code",
   "execution_count": 9,
   "id": "6f30823b",
   "metadata": {},
   "outputs": [
    {
     "name": "stdout",
     "output_type": "stream",
     "text": [
      "Data trimmed for Energy, years now encompass  2000  to  2100\n",
      "Data trimmed for Energy, years now encompass  2000  to  2100\n",
      "Data trimmed for Energy, years now encompass  2000  to  2100\n",
      "Data trimmed for Energy, years now encompass  2000  to  2100\n",
      "Data trimmed for Energy, years now encompass  2000  to  2100\n",
      "Data trimmed for Mass, years now encompass  2000  to  2100\n",
      "Data trimmed for Energy, years now encompass  2000  to  2100\n",
      "Data trimmed for Energy, years now encompass  2000  to  2100\n",
      "Data trimmed for Energy, years now encompass  2000  to  2100\n",
      "Data trimmed for Energy, years now encompass  2000  to  2100\n",
      "Data trimmed for Energy, years now encompass  2000  to  2100\n",
      "Data trimmed for Mass, years now encompass  2000  to  2100\n",
      "Data trimmed for Energy, years now encompass  2000  to  2100\n",
      "Data trimmed for Energy, years now encompass  2000  to  2100\n",
      "Data trimmed for Energy, years now encompass  2000  to  2100\n",
      "Data trimmed for Energy, years now encompass  2000  to  2100\n",
      "Data trimmed for Energy, years now encompass  2000  to  2100\n",
      "Data trimmed for Mass, years now encompass  2000  to  2100\n",
      "Data trimmed for Energy, years now encompass  2000  to  2100\n",
      "Data trimmed for Energy, years now encompass  2000  to  2100\n",
      "Data trimmed for Energy, years now encompass  2000  to  2100\n",
      "Data trimmed for Energy, years now encompass  2000  to  2100\n",
      "Data trimmed for Energy, years now encompass  2000  to  2100\n",
      "Data trimmed for Mass, years now encompass  2000  to  2100\n",
      "Data trimmed for Energy, years now encompass  2000  to  2100\n",
      "Data trimmed for Energy, years now encompass  2000  to  2100\n",
      "Data trimmed for Energy, years now encompass  2000  to  2100\n",
      "Data trimmed for Energy, years now encompass  2000  to  2100\n",
      "Data trimmed for Energy, years now encompass  2000  to  2100\n",
      "Data trimmed for Mass, years now encompass  2000  to  2100\n"
     ]
    }
   ],
   "source": [
    "#trim to start in 2000, this trims module and materials\n",
    "#had to specify and end year, cannot use to extend\n",
    "sim1.trim_Years(startYear=2000, endYear=2100)"
   ]
  },
  {
   "cell_type": "markdown",
   "id": "0009499d",
   "metadata": {},
   "source": [
    "Global Deployment Projection"
   ]
  },
  {
   "cell_type": "code",
   "execution_count": 10,
   "id": "7802b9ff",
   "metadata": {},
   "outputs": [],
   "source": [
    "global_projection = pd.read_csv(os.path.join(supportMatfolder,'output-globalInstallsProjection.csv'), index_col=0)\n",
    "\n",
    "#fig, ax1 = plt.subplots()\n",
    "\n",
    "#ax1.plot(global_projection['World_cum']/1e6, color='orange')\n",
    "#ax1.set_ylabel('Cumulative Solar Capacity [TW]', color='orange')\n",
    "#ax2 = ax1.twinx()\n",
    "#ax2.plot(global_projection['World_annual_[MWdc]']/1e6)\n",
    "#ax2.set_ylabel('Annual Installations [TW]')\n",
    "#plt.show()\n"
   ]
  },
  {
   "cell_type": "markdown",
   "id": "47b35b1e",
   "metadata": {},
   "source": [
    "Single Install in time"
   ]
  },
  {
   "cell_type": "code",
   "execution_count": 11,
   "id": "8e3bab99",
   "metadata": {},
   "outputs": [],
   "source": [
    "idx_temp = pd.RangeIndex(start=2000,stop=2101,step=1) #create the index\n",
    "single_deploy_2025 = pd.DataFrame(index=idx_temp, columns=['MW'], dtype=float)\n",
    "single_deploy_2025['MW'] = 0.0\n",
    "single_deploy_2025.loc[2025,'MW'] = 100.0"
   ]
  },
  {
   "cell_type": "code",
   "execution_count": 12,
   "id": "5337d92f",
   "metadata": {},
   "outputs": [],
   "source": [
    "#deployment projection for all scenarios\n",
    "sim1.modifyScenario(scenarios=None,stage='new_Installed_Capacity_[MW]', \n",
    "                    value=single_deploy_2025['MW'], start_year=2000) #\n",
    "#single deployment: single_deploy_2025['MW']\n",
    "#global deployment: global_projection['World_annual_[MWdc]']"
   ]
  },
  {
   "cell_type": "markdown",
   "id": "583d9182",
   "metadata": {},
   "source": [
    "## Run Simulation - No Replacements"
   ]
  },
  {
   "cell_type": "code",
   "execution_count": 13,
   "id": "a905ef87",
   "metadata": {
    "scrolled": true
   },
   "outputs": [
    {
     "name": "stdout",
     "output_type": "stream",
     "text": [
      ">>>> Calculating Material Flows <<<<\n",
      "\n",
      "Working on Scenario:  PV ICE\n",
      "********************\n",
      "Finished Area+Power Generation Calculations\n",
      "==> Working on Material :  glass\n",
      "Recycled surplus End of Sim for Mat  glass  Scenario  PV ICE  =  1.1466263852697323  tonnes.\n",
      "==> Working on Material :  silver\n",
      "==> Working on Material :  silicon\n",
      "==> Working on Material :  copper\n",
      "==> Working on Material :  aluminium_frames\n",
      "Recycled surplus End of Sim for Mat  aluminium_frames  Scenario  PV ICE  =  13.465650925158647  tonnes.\n",
      "Working on Scenario:  Immortal\n",
      "********************\n",
      "Finished Area+Power Generation Calculations\n",
      "==> Working on Material :  glass\n",
      "Recycled surplus End of Sim for Mat  glass  Scenario  Immortal  =  2.296891511169899e-06  tonnes.\n",
      "==> Working on Material :  silver\n",
      "==> Working on Material :  silicon\n",
      "==> Working on Material :  copper\n",
      "==> Working on Material :  aluminium_frames\n",
      "Recycled surplus End of Sim for Mat  aluminium_frames  Scenario  Immortal  =  2.697403417513214e-05  tonnes.\n",
      "Working on Scenario:  Degradation\n",
      "********************\n",
      "Finished Area+Power Generation Calculations\n",
      "==> Working on Material :  glass\n",
      "Recycled surplus End of Sim for Mat  glass  Scenario  Degradation  =  2.296891511169899e-06  tonnes.\n",
      "==> Working on Material :  silver\n",
      "==> Working on Material :  silicon\n",
      "==> Working on Material :  copper\n",
      "==> Working on Material :  aluminium_frames\n",
      "Recycled surplus End of Sim for Mat  aluminium_frames  Scenario  Degradation  =  2.697403417513214e-05  tonnes.\n",
      "Working on Scenario:  Failures\n",
      "********************\n",
      "Finished Area+Power Generation Calculations\n",
      "==> Working on Material :  glass\n",
      "Recycled surplus End of Sim for Mat  glass  Scenario  Failures  =  1.146626385269732  tonnes.\n",
      "==> Working on Material :  silver\n",
      "==> Working on Material :  silicon\n",
      "==> Working on Material :  copper\n",
      "==> Working on Material :  aluminium_frames\n",
      "Recycled surplus End of Sim for Mat  aluminium_frames  Scenario  Failures  =  13.46565092515864  tonnes.\n",
      "Working on Scenario:  ProjectLife\n",
      "********************\n",
      "Finished Area+Power Generation Calculations\n",
      "==> Working on Material :  glass\n",
      "Recycled surplus End of Sim for Mat  glass  Scenario  ProjectLife  =  1.1466263852697318  tonnes.\n",
      "==> Working on Material :  silver\n",
      "==> Working on Material :  silicon\n",
      "==> Working on Material :  copper\n",
      "==> Working on Material :  aluminium_frames\n",
      "Recycled surplus End of Sim for Mat  aluminium_frames  Scenario  ProjectLife  =  13.465650925158638  tonnes.\n",
      "\n",
      "\n",
      ">>>> Calculating Energy Flows <<<<\n",
      "\n",
      "Working on Scenario:  PV ICE\n",
      "********************\n",
      "==> Working on Energy for Material :  glass\n",
      "==> Working on Energy for Material :  silver\n",
      "==> Working on Energy for Material :  silicon\n",
      "==> Working on Energy for Material :  copper\n",
      "==> Working on Energy for Material :  aluminium_frames\n",
      "Working on Scenario:  Immortal\n",
      "********************\n",
      "==> Working on Energy for Material :  glass\n",
      "==> Working on Energy for Material :  silver\n",
      "==> Working on Energy for Material :  silicon\n",
      "==> Working on Energy for Material :  copper\n",
      "==> Working on Energy for Material :  aluminium_frames\n",
      "Working on Scenario:  Degradation\n",
      "********************\n",
      "==> Working on Energy for Material :  glass\n",
      "==> Working on Energy for Material :  silver\n",
      "==> Working on Energy for Material :  silicon\n",
      "==> Working on Energy for Material :  copper\n",
      "==> Working on Energy for Material :  aluminium_frames\n",
      "Working on Scenario:  Failures\n",
      "********************\n",
      "==> Working on Energy for Material :  glass\n",
      "==> Working on Energy for Material :  silver\n",
      "==> Working on Energy for Material :  silicon\n",
      "==> Working on Energy for Material :  copper\n",
      "==> Working on Energy for Material :  aluminium_frames\n",
      "Working on Scenario:  ProjectLife\n",
      "********************\n",
      "==> Working on Energy for Material :  glass\n",
      "==> Working on Energy for Material :  silver\n",
      "==> Working on Energy for Material :  silicon\n",
      "==> Working on Energy for Material :  copper\n",
      "==> Working on Energy for Material :  aluminium_frames\n"
     ]
    }
   ],
   "source": [
    "sim1.calculateFlows()\n",
    "#sim1.calculateFlows(scenarios=['CheapCrap'], weibullInputParams=cheapcrapweibull)"
   ]
  },
  {
   "cell_type": "code",
   "execution_count": 14,
   "id": "4eccdc69",
   "metadata": {},
   "outputs": [
    {
     "name": "stderr",
     "output_type": "stream",
     "text": [
      "C:\\Users\\hmirletz\\Documents\\GitHub\\PV_ICE\\PV_ICE\\main.py:1876: SettingWithCopyWarning: \n",
      "A value is trying to be set on a copy of a slice from a DataFrame.\n",
      "Try using .loc[row_indexer,col_indexer] = value instead\n",
      "\n",
      "See the caveats in the documentation: https://pandas.pydata.org/pandas-docs/stable/user_guide/indexing.html#returning-a-view-versus-a-copy\n",
      "  energy_demands[colname] = energy_demands.filter(like=scen).sum(axis=1)\n",
      "C:\\Users\\hmirletz\\Documents\\GitHub\\PV_ICE\\PV_ICE\\main.py:1876: SettingWithCopyWarning: \n",
      "A value is trying to be set on a copy of a slice from a DataFrame.\n",
      "Try using .loc[row_indexer,col_indexer] = value instead\n",
      "\n",
      "See the caveats in the documentation: https://pandas.pydata.org/pandas-docs/stable/user_guide/indexing.html#returning-a-view-versus-a-copy\n",
      "  energy_demands[colname] = energy_demands.filter(like=scen).sum(axis=1)\n",
      "C:\\Users\\hmirletz\\Documents\\GitHub\\PV_ICE\\PV_ICE\\main.py:1876: SettingWithCopyWarning: \n",
      "A value is trying to be set on a copy of a slice from a DataFrame.\n",
      "Try using .loc[row_indexer,col_indexer] = value instead\n",
      "\n",
      "See the caveats in the documentation: https://pandas.pydata.org/pandas-docs/stable/user_guide/indexing.html#returning-a-view-versus-a-copy\n",
      "  energy_demands[colname] = energy_demands.filter(like=scen).sum(axis=1)\n",
      "C:\\Users\\hmirletz\\Documents\\GitHub\\PV_ICE\\PV_ICE\\main.py:1876: SettingWithCopyWarning: \n",
      "A value is trying to be set on a copy of a slice from a DataFrame.\n",
      "Try using .loc[row_indexer,col_indexer] = value instead\n",
      "\n",
      "See the caveats in the documentation: https://pandas.pydata.org/pandas-docs/stable/user_guide/indexing.html#returning-a-view-versus-a-copy\n",
      "  energy_demands[colname] = energy_demands.filter(like=scen).sum(axis=1)\n"
     ]
    }
   ],
   "source": [
    "ii_yearly, ii_cumu = sim1.aggregateResults() #have to do this to get auto plots\n",
    "ii_allenergy, ii_energyGen, ii_energy_demands = sim1.aggregateEnergyResults()"
   ]
  },
  {
   "cell_type": "code",
   "execution_count": 15,
   "id": "e445ee14",
   "metadata": {},
   "outputs": [
    {
     "data": {
      "text/plain": [
       "Text(0.5, 1.0, 'Effective Capacity: No Replacements')"
      ]
     },
     "execution_count": 15,
     "metadata": {},
     "output_type": "execute_result"
    },
    {
     "data": {
      "image/png": "[encoded data removed]",
      "text/plain": [
       "<Figure size 800x600 with 1 Axes>"
      ]
     },
     "metadata": {},
     "output_type": "display_data"
    }
   ],
   "source": [
    "effective_capacity = ii_yearly.filter(like='ActiveCapacity')\n",
    "#plt.plot(ii_cumu['newInstalledCapacity_sim1_PV_ICE_[MW]']/1e6, label='Capacity Target', color='black', ls='--')\n",
    "plt.plot(effective_capacity, label=scennames_labels)\n",
    "plt.legend()\n",
    "plt.ylabel('Effective Capacity [TW]')\n",
    "plt.title('Effective Capacity: No Replacements')\n",
    "#plt.ylim(0,)\n"
   ]
  },
  {
   "cell_type": "markdown",
   "id": "e9366fc4",
   "metadata": {},
   "source": [
    "Note to self: changing the degradation of nameplate to 80% instead of 50% kill threshold did not change the above result"
   ]
  },
  {
   "cell_type": "code",
   "execution_count": null,
   "id": "28860825",
   "metadata": {},
   "outputs": [],
   "source": []
  },
  {
   "cell_type": "markdown",
   "id": "de41f644",
   "metadata": {},
   "source": [
    "## Run Simulation - Replacements"
   ]
  },
  {
   "cell_type": "code",
   "execution_count": null,
   "id": "5dcb4cc9",
   "metadata": {},
   "outputs": [],
   "source": []
  },
  {
   "cell_type": "code",
   "execution_count": null,
   "id": "9ff1df96",
   "metadata": {
    "scrolled": true
   },
   "outputs": [],
   "source": [
    "#currently takes 15 mins to run with 5 mateirals and 5 scenarios\n",
    "\n",
    "for row in range (0,len(sim1.scenario['PV ICE'].dataIn_m)): #loop over length of years\n",
    "    print(row)\n",
    "    for scen in scennames: #loop over scenarios\n",
    "        print(scen)\n",
    "        Under_Installment = global_projection.iloc[row,0] - ((sim1.scenario[scen].dataOut_m['Installed_Capacity_[W]'][row])/1e6)  # MWATTS\n",
    "        sim1.scenario[scen].dataIn_m['new_Installed_Capacity_[MW]'][row] += Under_Installment #overwrite new installed\n",
    "        #calculate flows for that scenario with it's bifi factor and modified weibull\n",
    "        sim1.calculateFlows(scenarios=[scen]) # , bifacialityfactors=bifiPathDict[scen]"
   ]
  },
  {
   "cell_type": "code",
   "execution_count": null,
   "id": "c161550d",
   "metadata": {},
   "outputs": [],
   "source": [
    "cc_yearly, cc_cumu = sim1.aggregateResults() #have to do this to get auto plots\n",
    "allenergy, energyGen, energy_demands = sim1.aggregateEnergyResults()"
   ]
  },
  {
   "cell_type": "code",
   "execution_count": null,
   "id": "55162d40",
   "metadata": {},
   "outputs": [],
   "source": [
    "effective_capacity = cc_yearly.filter(like='ActiveCapacity')\n",
    "#plt.plot(ii_cumu['newInstalledCapacity_sim1_PV_ICE_[MW]']/1e6, label='Capacity Target', color='black', ls='--')\n",
    "plt.plot(effective_capacity, label=scennames_labels)\n",
    "plt.legend()\n",
    "plt.ylabel('Effective Capacity [TW]')\n",
    "plt.title('Effective Capacity: No Replacements')\n",
    "#plt.ylim(0,)"
   ]
  },
  {
   "cell_type": "markdown",
   "id": "d3c58eb9",
   "metadata": {},
   "source": [
    "### Cumulative Installs with Replacements"
   ]
  },
  {
   "cell_type": "code",
   "execution_count": null,
   "id": "0a0e2090",
   "metadata": {
    "scrolled": false
   },
   "outputs": [],
   "source": [
    "cumu_installs = cc_cumu.filter(like='newInstalled')\n",
    "plt.bar(scennames, cumu_installs.loc[2100]/1e6, tick_label=scennames_labels, color=colorpalette)\n",
    "#plt.legend(scennames)\n",
    "plt.ylabel('Cumulative installed [TW]')\n",
    "plt.title('Cumulative Installs with Replacements')"
   ]
  },
  {
   "cell_type": "code",
   "execution_count": null,
   "id": "dd1c9af2",
   "metadata": {},
   "outputs": [],
   "source": [
    "e_annual_sumDemands = energy_demands.filter(like='demand_total')\n",
    "e_annual_sumDemands_cumu = e_annual_sumDemands.cumsum()\n",
    "energyGen_cumu = energyGen.cumsum()\n",
    "energyGen_cumu.columns = e_annual_sumDemands_cumu.columns = scennames\n",
    "netEnergy_cumu = energyGen_cumu.loc[[2100]] - e_annual_sumDemands_cumu.loc[[2100]]"
   ]
  },
  {
   "cell_type": "code",
   "execution_count": null,
   "id": "d013be10",
   "metadata": {},
   "outputs": [],
   "source": [
    "plt.bar(netEnergy_cumu.columns, netEnergy_cumu.loc[2100]/1e12, \n",
    "        tick_label=(scennames_labels), color=colorpalette)\n",
    "plt.title('Net Energy Cumulatively with Replacements')\n",
    "plt.ylabel('Cumulative Net Energy [TWh]')\n",
    "plt.ylim(4e6,5.5e6)"
   ]
  },
  {
   "cell_type": "code",
   "execution_count": null,
   "id": "6eb0ac96",
   "metadata": {},
   "outputs": [],
   "source": []
  },
  {
   "cell_type": "markdown",
   "id": "3ed75dee",
   "metadata": {},
   "source": [
    "# Explore Degradation\n",
    "explore effect of the range of degradation rates as presented in Jordan et al 2022"
   ]
  },
  {
   "cell_type": "code",
   "execution_count": null,
   "id": "bcc974e5",
   "metadata": {},
   "outputs": [],
   "source": [
    "#load in a baseline and materials for modification\n",
    "scennames2 = ['']\n",
    "        scenname = str(Lifetime_Range[life])+'years & '+ str(Recycling_Range[recycle])+'% Recycled' #name the scenario\n",
    "        r1.createScenario(name=scenname,massmodulefile=modulefile) #create the scenario with name\n",
    "\n",
    "for life in range(0,len(Lifetime_Range)): #loop over lifetimes\n",
    "    for recycle in range (0,len(Recycling_Range)): #loop over recycling rates\n",
    "        \n",
    "sim2 = PV_ICE.Simulation(name='sim1', path=testfolder)\n",
    "for scen in scennames2:\n",
    "    sim2.createScenario(name=scen, massmodulefile=moduleFile_m, energymodulefile=moduleFile_e)\n",
    "    for mat in range (0, len(MATERIALS)):\n",
    "        matbaseline_m = os.path.join(baselinesfolder,'baseline_material_mass_'+MATERIALS[mat]+'.csv')\n",
    "        matbaseline_e = os.path.join(baselinesfolder,'baseline_material_energy_'+MATERIALS[mat]+'.csv')\n",
    "        sim1.scenario[scen].addMaterial(MATERIALS[mat], massmatfile=matbaseline_m, energymatfile=matbaseline_e)"
   ]
  },
  {
   "cell_type": "code",
   "execution_count": null,
   "id": "ffa9f05f",
   "metadata": {},
   "outputs": [],
   "source": [
    "# Degradation\n",
    "\n",
    "#Lifetime and Degradation\n",
    "#values taken from lifetime vs recycling paper\n",
    "\n",
    "#Mod Project Lifetime\n",
    "sim2.modifyScenario('Degradation', 'mod_lifetime', 200, start_year=2022) #\n",
    "#T50\n",
    "sim2.modifyScenario('Degradation', 'mod_reliability_t50', 250, start_year=2022)\n",
    "#t90\n",
    "sim2.modifyScenario('Degradation', 'mod_reliability_t90', 280, start_year=2022) "
   ]
  },
  {
   "cell_type": "code",
   "execution_count": null,
   "id": "2699adeb",
   "metadata": {},
   "outputs": [],
   "source": [
    "#degradation rates:\n",
    "#dictionary of deg rates range from Jordan et al 2022\n",
    "\n",
    "for scen in scennames2:\n",
    "    sim2.modifyScenario(scen, 'mod_degradation', VAR, start_year=2022) # Jordan et al 2022"
   ]
  },
  {
   "cell_type": "code",
   "execution_count": null,
   "id": "99ade64d",
   "metadata": {},
   "outputs": [],
   "source": []
  },
  {
   "cell_type": "code",
   "execution_count": null,
   "id": "7f4147d5",
   "metadata": {},
   "outputs": [],
   "source": []
  },
  {
   "cell_type": "code",
   "execution_count": null,
   "id": "36179fe1",
   "metadata": {},
   "outputs": [],
   "source": []
  },
  {
   "cell_type": "markdown",
   "id": "7e6679a7",
   "metadata": {},
   "source": [
    "# Explore Failures\n",
    "Explore the effect of the range of failures from Heislmair and IRENA"
   ]
  },
  {
   "cell_type": "code",
   "execution_count": null,
   "id": "a3d720d3",
   "metadata": {},
   "outputs": [],
   "source": []
  },
  {
   "cell_type": "code",
   "execution_count": null,
   "id": "39aa9041",
   "metadata": {},
   "outputs": [],
   "source": []
  },
  {
   "cell_type": "code",
   "execution_count": null,
   "id": "ea6c03ee",
   "metadata": {},
   "outputs": [],
   "source": []
  },
  {
   "cell_type": "markdown",
   "id": "ad2f923c",
   "metadata": {},
   "source": [
    "# Explore Project Life / Repowering\n",
    "Explore if repowering happens at varying lifetimes"
   ]
  },
  {
   "cell_type": "code",
   "execution_count": null,
   "id": "7261b794",
   "metadata": {},
   "outputs": [],
   "source": [
    "# years of project life: 8,10,12,15,18,20\n"
   ]
  },
  {
   "cell_type": "code",
   "execution_count": null,
   "id": "cde1dee1",
   "metadata": {},
   "outputs": [],
   "source": []
  },
  {
   "cell_type": "code",
   "execution_count": null,
   "id": "24ab03d9",
   "metadata": {},
   "outputs": [],
   "source": []
  },
  {
   "cell_type": "code",
   "execution_count": null,
   "id": "77af81fc",
   "metadata": {},
   "outputs": [],
   "source": []
  },
  {
   "cell_type": "markdown",
   "id": "25f33984",
   "metadata": {},
   "source": [
    "# Repowering with Bifi\n",
    "Run a scenario where an older (PV ICE baseline) single install is put in. Then at economic lifetime, repower with bifi panels (change the module type after first install before second install)."
   ]
  },
  {
   "cell_type": "code",
   "execution_count": null,
   "id": "c34f3c71",
   "metadata": {},
   "outputs": [],
   "source": []
  },
  {
   "cell_type": "code",
   "execution_count": null,
   "id": "1ec85266",
   "metadata": {},
   "outputs": [],
   "source": []
  },
  {
   "cell_type": "code",
   "execution_count": null,
   "id": "423e9d83",
   "metadata": {},
   "outputs": [],
   "source": []
  },
  {
   "cell_type": "code",
   "execution_count": null,
   "id": "7b1972e3",
   "metadata": {},
   "outputs": [],
   "source": []
  },
  {
   "cell_type": "code",
   "execution_count": null,
   "id": "eb0762ed",
   "metadata": {},
   "outputs": [],
   "source": []
  },
  {
   "cell_type": "code",
   "execution_count": null,
   "id": "40c02acf",
   "metadata": {},
   "outputs": [],
   "source": []
  },
  {
   "cell_type": "code",
   "execution_count": null,
   "id": "ff1f3a33",
   "metadata": {},
   "outputs": [],
   "source": []
  },
  {
   "cell_type": "code",
   "execution_count": null,
   "id": "6a27ae06",
   "metadata": {},
   "outputs": [],
   "source": [
    "#modify silver usage\n",
    "#sim1.scenario['TOPCon'].modifyMaterials('silver', 'mat_massperm2', celltech_aguse.loc[2022:,'TOPCon'], start_year=2022)"
   ]
  },
  {
   "cell_type": "code",
   "execution_count": null,
   "id": "5faeb149",
   "metadata": {},
   "outputs": [],
   "source": [
    "single_deploy_2020 = pd.DataFrame(index=idx_temp, columns=['MW'], dtype=float)\n",
    "single_deploy_2020['MW'] = 0.0\n",
    "single_deploy_2020.loc[2020,'MW'] = 100.0"
   ]
  },
  {
   "cell_type": "code",
   "execution_count": null,
   "id": "ef4cdeec",
   "metadata": {},
   "outputs": [],
   "source": [
    "bifiFactors = {'PERC_50':0.7, # ITRPV 2022, Fig. 58\n",
    "               'SHJ':0.9, # ITRPV 2022, Fig. 58\n",
    "               'TOPCon':0.8, # ITRPV 2022, Fig. 58\n",
    "               'Perovskite': 0.0,\n",
    "               'RecycledPERC':0.6,\n",
    "                'PV_ICE':0.0,\n",
    "                'CheapCrap':0.0} \n",
    "\n",
    "#MAY NEED TO CHANGE TO BE DYNAMIC"
   ]
  },
  {
   "cell_type": "code",
   "execution_count": null,
   "id": "5b74bfac",
   "metadata": {},
   "outputs": [],
   "source": [
    "#PV ICE currently set up to read in a csv of bifi factors, so generate files to read in \n",
    "idx_temp = pd.RangeIndex(start=2050,stop=2101,step=1) #create the index\n",
    "df_temp = pd.DataFrame(index=idx_temp, columns=['bifi'], dtype=float)\n",
    "bifi_perc = df_temp.copy()\n",
    "bifi_perc['bifi'] = bifiFactors['PERC']\n",
    "bifi_shj = df_temp.copy()\n",
    "bifi_shj['bifi'] = bifiFactors['SHJ']\n",
    "bifi_topcon = df_temp.copy()\n",
    "bifi_topcon['bifi'] = bifiFactors['TOPCon']"
   ]
  },
  {
   "cell_type": "code",
   "execution_count": null,
   "id": "e4124b75",
   "metadata": {},
   "outputs": [],
   "source": [
    "bifi_perc.to_csv(path_or_buf=os.path.join(testfolder,'bifi_perc.csv'), index_label='Year')\n",
    "bifi_shj.to_csv(path_or_buf=os.path.join(testfolder,'bifi_shj.csv'), index_label='Year')\n",
    "bifi_topcon.to_csv(path_or_buf=os.path.join(testfolder,'bifi_topcon.csv'), index_label='Year')"
   ]
  },
  {
   "cell_type": "code",
   "execution_count": null,
   "id": "7613cf6b",
   "metadata": {},
   "outputs": [],
   "source": [
    "bifi_perc_path = os.path.join(testfolder,'bifi_perc.csv')\n",
    "bifi_shj_path = os.path.join(testfolder,'bifi_shj.csv')\n",
    "bifi_topcon_path = os.path.join(testfolder,'bifi_topcon.csv')"
   ]
  },
  {
   "cell_type": "code",
   "execution_count": null,
   "id": "89cbe328",
   "metadata": {},
   "outputs": [],
   "source": []
  },
  {
   "cell_type": "code",
   "execution_count": null,
   "id": "55077b66",
   "metadata": {},
   "outputs": [],
   "source": []
  }
 ],
 "metadata": {
  "kernelspec": {
   "display_name": "Python 3 (ipykernel)",
   "language": "python",
   "name": "python3"
  },
  "language_info": {
   "codemirror_mode": {
    "name": "ipython",
    "version": 3
   },
   "file_extension": ".py",
   "mimetype": "text/x-python",
   "name": "python",
   "nbconvert_exporter": "python",
   "pygments_lexer": "ipython3",
   "version": "3.8.8"
  }
 },
 "nbformat": 4,
 "nbformat_minor": 5
}
