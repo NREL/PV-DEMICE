{
 "cells": [
  {
   "cell_type": "markdown",
   "metadata": {},
   "source": [
    "# PVICE & Relog - PCA baselines for Si & CdTe & MassFlows Calculations"
   ]
  },
  {
   "cell_type": "markdown",
   "metadata": {},
   "source": [
    "ReEDS installation projections from the Solar Futures Study, published by DOE on 2021.\n",
    "\n",
    "Current sections include:\n",
    "\n",
    "Scenarios of Interest:\n",
    "o\t95-by-35+Elec.Adv+DR ,  a.k.a. \"Solar Futures Decarbonization + Electrification scenario\"\n"
   ]
  },
  {
   "cell_type": "code",
   "execution_count": 1,
   "metadata": {},
   "outputs": [],
   "source": [
    "import PV_ICE\n",
    "import numpy as np\n",
    "import pandas as pd\n",
    "import os,sys\n",
    "import matplotlib.pyplot as plt\n",
    "\n",
    "\n",
    "plt.rcParams.update({'font.size': 22})\n",
    "plt.rcParams['figure.figsize'] = (12, 8)"
   ]
  },
  {
   "cell_type": "code",
   "execution_count": 2,
   "metadata": {},
   "outputs": [
    {
     "name": "stdout",
     "output_type": "stream",
     "text": [
      "Your simulation will be stored in /Users/mmendez/Documents/Postdoc/Software_dev/PV_ICE/PV_ICE/TEMP\n"
     ]
    }
   ],
   "source": [
    "import os\n",
    "from pathlib import Path\n",
    "\n",
    "testfolder = str(Path().resolve().parent.parent.parent / 'PV_ICE' / 'TEMP')\n",
    "\n",
    "print (\"Your simulation will be stored in %s\" % testfolder)\n"
   ]
  },
  {
   "cell_type": "code",
   "execution_count": 3,
   "metadata": {},
   "outputs": [
    {
     "data": {
      "text/plain": [
       "'v0.2.0+290.g3699082.dirty'"
      ]
     },
     "execution_count": 3,
     "metadata": {},
     "output_type": "execute_result"
    }
   ],
   "source": [
    "PV_ICE.__version__"
   ]
  },
  {
   "cell_type": "markdown",
   "metadata": {},
   "source": [
    "## 1. Create Scenarios"
   ]
  },
  {
   "cell_type": "markdown",
   "metadata": {},
   "source": [
    "### A. Reading a standard ReEDS output file"
   ]
  },
  {
   "cell_type": "code",
   "execution_count": 4,
   "metadata": {},
   "outputs": [
    {
     "name": "stdout",
     "output_type": "stream",
     "text": [
      "Input file is stored in /Users/mmendez/Documents/Postdoc/Software_dev/December Core Scenarios ReEDS Outputs Solar Futures v3a.xlsx\n"
     ]
    }
   ],
   "source": [
    "reedsFile = str(Path().resolve().parent.parent.parent.parent / 'December Core Scenarios ReEDS Outputs Solar Futures v3a.xlsx')\n",
    "print (\"Input file is stored in %s\" % reedsFile)"
   ]
  },
  {
   "cell_type": "code",
   "execution_count": 5,
   "metadata": {},
   "outputs": [],
   "source": [
    "REEDSInput = pd.read_excel(reedsFile,\n",
    "#                        sheet_name=\"new installs PV (2)\")\n",
    "                       sheet_name=\"new installs PV\")\n",
    "\n",
    "#index_col=[0,2,3]) #this casts scenario, PCA and State as levels\n"
   ]
  },
  {
   "cell_type": "markdown",
   "metadata": {},
   "source": [
    "### B. Save Input Files by PCA"
   ]
  },
  {
   "cell_type": "markdown",
   "metadata": {},
   "source": [
    "#### Create a copy of the REEDS Input and modify structure for PCA focus"
   ]
  },
  {
   "cell_type": "code",
   "execution_count": 6,
   "metadata": {},
   "outputs": [
    {
     "data": {
      "text/html": [
       "<div>\n",
       "<style scoped>\n",
       "    .dataframe tbody tr th:only-of-type {\n",
       "        vertical-align: middle;\n",
       "    }\n",
       "\n",
       "    .dataframe tbody tr th {\n",
       "        vertical-align: top;\n",
       "    }\n",
       "\n",
       "    .dataframe thead th {\n",
       "        text-align: right;\n",
       "    }\n",
       "</style>\n",
       "<table border=\"1\" class=\"dataframe\">\n",
       "  <thead>\n",
       "    <tr style=\"text-align: right;\">\n",
       "      <th></th>\n",
       "      <th></th>\n",
       "      <th></th>\n",
       "      <th>Capacity (GW)</th>\n",
       "    </tr>\n",
       "    <tr>\n",
       "      <th>Scenario</th>\n",
       "      <th>Year</th>\n",
       "      <th>PCA</th>\n",
       "      <th></th>\n",
       "    </tr>\n",
       "  </thead>\n",
       "  <tbody>\n",
       "    <tr>\n",
       "      <th rowspan=\"21\" valign=\"top\">95-by-35.Adv</th>\n",
       "      <th>2010</th>\n",
       "      <th>p1</th>\n",
       "      <td>0.000017</td>\n",
       "    </tr>\n",
       "    <tr>\n",
       "      <th>2011</th>\n",
       "      <th>p1</th>\n",
       "      <td>0.005158</td>\n",
       "    </tr>\n",
       "    <tr>\n",
       "      <th>2012</th>\n",
       "      <th>p1</th>\n",
       "      <td>0.005158</td>\n",
       "    </tr>\n",
       "    <tr>\n",
       "      <th>2013</th>\n",
       "      <th>p1</th>\n",
       "      <td>0.007146</td>\n",
       "    </tr>\n",
       "    <tr>\n",
       "      <th>2014</th>\n",
       "      <th>p1</th>\n",
       "      <td>0.007146</td>\n",
       "    </tr>\n",
       "    <tr>\n",
       "      <th>2015</th>\n",
       "      <th>p1</th>\n",
       "      <td>0.018253</td>\n",
       "    </tr>\n",
       "    <tr>\n",
       "      <th>2016</th>\n",
       "      <th>p1</th>\n",
       "      <td>0.018253</td>\n",
       "    </tr>\n",
       "    <tr>\n",
       "      <th>2017</th>\n",
       "      <th>p1</th>\n",
       "      <td>0.019460</td>\n",
       "    </tr>\n",
       "    <tr>\n",
       "      <th>2018</th>\n",
       "      <th>p1</th>\n",
       "      <td>0.019460</td>\n",
       "    </tr>\n",
       "    <tr>\n",
       "      <th>2019</th>\n",
       "      <th>p1</th>\n",
       "      <td>0.036320</td>\n",
       "    </tr>\n",
       "    <tr>\n",
       "      <th>2020</th>\n",
       "      <th>p1</th>\n",
       "      <td>0.036320</td>\n",
       "    </tr>\n",
       "    <tr>\n",
       "      <th>2021</th>\n",
       "      <th>p1</th>\n",
       "      <td>0.002434</td>\n",
       "    </tr>\n",
       "    <tr>\n",
       "      <th>2022</th>\n",
       "      <th>p1</th>\n",
       "      <td>0.002434</td>\n",
       "    </tr>\n",
       "    <tr>\n",
       "      <th>2023</th>\n",
       "      <th>p1</th>\n",
       "      <td>0.010066</td>\n",
       "    </tr>\n",
       "    <tr>\n",
       "      <th>2024</th>\n",
       "      <th>p1</th>\n",
       "      <td>0.010066</td>\n",
       "    </tr>\n",
       "    <tr>\n",
       "      <th>2025</th>\n",
       "      <th>p1</th>\n",
       "      <td>0.049445</td>\n",
       "    </tr>\n",
       "    <tr>\n",
       "      <th>2026</th>\n",
       "      <th>p1</th>\n",
       "      <td>0.049445</td>\n",
       "    </tr>\n",
       "    <tr>\n",
       "      <th>2027</th>\n",
       "      <th>p1</th>\n",
       "      <td>0.051342</td>\n",
       "    </tr>\n",
       "    <tr>\n",
       "      <th>2028</th>\n",
       "      <th>p1</th>\n",
       "      <td>0.051342</td>\n",
       "    </tr>\n",
       "    <tr>\n",
       "      <th>2029</th>\n",
       "      <th>p1</th>\n",
       "      <td>0.105931</td>\n",
       "    </tr>\n",
       "    <tr>\n",
       "      <th>2030</th>\n",
       "      <th>p1</th>\n",
       "      <td>0.105931</td>\n",
       "    </tr>\n",
       "  </tbody>\n",
       "</table>\n",
       "</div>"
      ],
      "text/plain": [
       "                       Capacity (GW)\n",
       "Scenario     Year PCA               \n",
       "95-by-35.Adv 2010 p1        0.000017\n",
       "             2011 p1        0.005158\n",
       "             2012 p1        0.005158\n",
       "             2013 p1        0.007146\n",
       "             2014 p1        0.007146\n",
       "             2015 p1        0.018253\n",
       "             2016 p1        0.018253\n",
       "             2017 p1        0.019460\n",
       "             2018 p1        0.019460\n",
       "             2019 p1        0.036320\n",
       "             2020 p1        0.036320\n",
       "             2021 p1        0.002434\n",
       "             2022 p1        0.002434\n",
       "             2023 p1        0.010066\n",
       "             2024 p1        0.010066\n",
       "             2025 p1        0.049445\n",
       "             2026 p1        0.049445\n",
       "             2027 p1        0.051342\n",
       "             2028 p1        0.051342\n",
       "             2029 p1        0.105931\n",
       "             2030 p1        0.105931"
      ]
     },
     "execution_count": 6,
     "metadata": {},
     "output_type": "execute_result"
    }
   ],
   "source": [
    "rawdf = REEDSInput.copy()\n",
    "rawdf.drop(columns=['State'], inplace=True)\n",
    "rawdf.drop(columns=['Tech'], inplace=True) #tech=pvtotal from \"new installs PV sheet\", so can drop\n",
    "rawdf.set_index(['Scenario','Year','PCA'], inplace=True)\n",
    "rawdf.head(21)"
   ]
  },
  {
   "cell_type": "markdown",
   "metadata": {},
   "source": [
    "#### Loading Module Baseline. Will be used later to populate all the columsn otehr than 'new_Installed_Capacity_[MW]' which will be supplied by the REEDS model"
   ]
  },
  {
   "cell_type": "code",
   "execution_count": 7,
   "metadata": {},
   "outputs": [
    {
     "name": "stdout",
     "output_type": "stream",
     "text": [
      "path = /Users/mmendez/Documents/Postdoc/Software_dev/PV_ICE/PV_ICE/TEMP\n"
     ]
    },
    {
     "data": {
      "text/html": [
       "<div>\n",
       "<style scoped>\n",
       "    .dataframe tbody tr th:only-of-type {\n",
       "        vertical-align: middle;\n",
       "    }\n",
       "\n",
       "    .dataframe tbody tr th {\n",
       "        vertical-align: top;\n",
       "    }\n",
       "\n",
       "    .dataframe thead th {\n",
       "        text-align: right;\n",
       "    }\n",
       "</style>\n",
       "<table border=\"1\" class=\"dataframe\">\n",
       "  <thead>\n",
       "    <tr style=\"text-align: right;\">\n",
       "      <th></th>\n",
       "      <th>mod_eff</th>\n",
       "      <th>mod_reliability_t50</th>\n",
       "      <th>mod_reliability_t90</th>\n",
       "      <th>mod_degradation</th>\n",
       "      <th>mod_lifetime</th>\n",
       "      <th>mod_MFG_eff</th>\n",
       "      <th>mod_Repair</th>\n",
       "      <th>mod_MerchantTail</th>\n",
       "      <th>mod_EOL_collection_eff</th>\n",
       "      <th>mod_EOL_pg0_resell</th>\n",
       "      <th>mod_EOL_pg1_landfill</th>\n",
       "      <th>mod_EOL_pg2_stored</th>\n",
       "      <th>mod_EOL_pg3_reMFG</th>\n",
       "      <th>mod_EOL_pg4_recycled</th>\n",
       "      <th>mod_EOL_reMFG_yield</th>\n",
       "      <th>mod_EOL_sp_reMFG_recycle</th>\n",
       "      <th>mod_EOL_pb1_landfill</th>\n",
       "      <th>mod_EOL_pb2_stored</th>\n",
       "      <th>mod_EOL_pb3_reMFG</th>\n",
       "      <th>mod_EOL_pb4_recycled</th>\n",
       "    </tr>\n",
       "    <tr>\n",
       "      <th>year</th>\n",
       "      <th></th>\n",
       "      <th></th>\n",
       "      <th></th>\n",
       "      <th></th>\n",
       "      <th></th>\n",
       "      <th></th>\n",
       "      <th></th>\n",
       "      <th></th>\n",
       "      <th></th>\n",
       "      <th></th>\n",
       "      <th></th>\n",
       "      <th></th>\n",
       "      <th></th>\n",
       "      <th></th>\n",
       "      <th></th>\n",
       "      <th></th>\n",
       "      <th></th>\n",
       "      <th></th>\n",
       "      <th></th>\n",
       "      <th></th>\n",
       "    </tr>\n",
       "  </thead>\n",
       "  <tbody>\n",
       "    <tr>\n",
       "      <th>1995</th>\n",
       "      <td>0.0</td>\n",
       "      <td>0.0</td>\n",
       "      <td>0.0</td>\n",
       "      <td>0.0</td>\n",
       "      <td>0.0</td>\n",
       "      <td>0.0</td>\n",
       "      <td>0.0</td>\n",
       "      <td>0.0</td>\n",
       "      <td>0.0</td>\n",
       "      <td>0.0</td>\n",
       "      <td>100.0</td>\n",
       "      <td>0.0</td>\n",
       "      <td>0.0</td>\n",
       "      <td>0.0</td>\n",
       "      <td>0.0</td>\n",
       "      <td>0.0</td>\n",
       "      <td>100.0</td>\n",
       "      <td>0.0</td>\n",
       "      <td>0.0</td>\n",
       "      <td>0.0</td>\n",
       "    </tr>\n",
       "    <tr>\n",
       "      <th>1996</th>\n",
       "      <td>0.0</td>\n",
       "      <td>0.0</td>\n",
       "      <td>0.0</td>\n",
       "      <td>0.0</td>\n",
       "      <td>0.0</td>\n",
       "      <td>0.0</td>\n",
       "      <td>0.0</td>\n",
       "      <td>0.0</td>\n",
       "      <td>0.0</td>\n",
       "      <td>0.0</td>\n",
       "      <td>100.0</td>\n",
       "      <td>0.0</td>\n",
       "      <td>0.0</td>\n",
       "      <td>0.0</td>\n",
       "      <td>0.0</td>\n",
       "      <td>0.0</td>\n",
       "      <td>100.0</td>\n",
       "      <td>0.0</td>\n",
       "      <td>0.0</td>\n",
       "      <td>0.0</td>\n",
       "    </tr>\n",
       "    <tr>\n",
       "      <th>1997</th>\n",
       "      <td>0.0</td>\n",
       "      <td>0.0</td>\n",
       "      <td>0.0</td>\n",
       "      <td>0.0</td>\n",
       "      <td>0.0</td>\n",
       "      <td>0.0</td>\n",
       "      <td>0.0</td>\n",
       "      <td>0.0</td>\n",
       "      <td>0.0</td>\n",
       "      <td>0.0</td>\n",
       "      <td>100.0</td>\n",
       "      <td>0.0</td>\n",
       "      <td>0.0</td>\n",
       "      <td>0.0</td>\n",
       "      <td>0.0</td>\n",
       "      <td>0.0</td>\n",
       "      <td>100.0</td>\n",
       "      <td>0.0</td>\n",
       "      <td>0.0</td>\n",
       "      <td>0.0</td>\n",
       "    </tr>\n",
       "    <tr>\n",
       "      <th>1998</th>\n",
       "      <td>0.0</td>\n",
       "      <td>0.0</td>\n",
       "      <td>0.0</td>\n",
       "      <td>0.0</td>\n",
       "      <td>0.0</td>\n",
       "      <td>0.0</td>\n",
       "      <td>0.0</td>\n",
       "      <td>0.0</td>\n",
       "      <td>0.0</td>\n",
       "      <td>0.0</td>\n",
       "      <td>100.0</td>\n",
       "      <td>0.0</td>\n",
       "      <td>0.0</td>\n",
       "      <td>0.0</td>\n",
       "      <td>0.0</td>\n",
       "      <td>0.0</td>\n",
       "      <td>100.0</td>\n",
       "      <td>0.0</td>\n",
       "      <td>0.0</td>\n",
       "      <td>0.0</td>\n",
       "    </tr>\n",
       "    <tr>\n",
       "      <th>1999</th>\n",
       "      <td>0.0</td>\n",
       "      <td>0.0</td>\n",
       "      <td>0.0</td>\n",
       "      <td>0.0</td>\n",
       "      <td>0.0</td>\n",
       "      <td>0.0</td>\n",
       "      <td>0.0</td>\n",
       "      <td>0.0</td>\n",
       "      <td>0.0</td>\n",
       "      <td>0.0</td>\n",
       "      <td>100.0</td>\n",
       "      <td>0.0</td>\n",
       "      <td>0.0</td>\n",
       "      <td>0.0</td>\n",
       "      <td>0.0</td>\n",
       "      <td>0.0</td>\n",
       "      <td>100.0</td>\n",
       "      <td>0.0</td>\n",
       "      <td>0.0</td>\n",
       "      <td>0.0</td>\n",
       "    </tr>\n",
       "  </tbody>\n",
       "</table>\n",
       "</div>"
      ],
      "text/plain": [
       "      mod_eff  mod_reliability_t50  mod_reliability_t90  mod_degradation  \\\n",
       "year                                                                       \n",
       "1995      0.0                  0.0                  0.0              0.0   \n",
       "1996      0.0                  0.0                  0.0              0.0   \n",
       "1997      0.0                  0.0                  0.0              0.0   \n",
       "1998      0.0                  0.0                  0.0              0.0   \n",
       "1999      0.0                  0.0                  0.0              0.0   \n",
       "\n",
       "      mod_lifetime  mod_MFG_eff  mod_Repair  mod_MerchantTail  \\\n",
       "year                                                            \n",
       "1995           0.0          0.0         0.0               0.0   \n",
       "1996           0.0          0.0         0.0               0.0   \n",
       "1997           0.0          0.0         0.0               0.0   \n",
       "1998           0.0          0.0         0.0               0.0   \n",
       "1999           0.0          0.0         0.0               0.0   \n",
       "\n",
       "      mod_EOL_collection_eff  mod_EOL_pg0_resell  mod_EOL_pg1_landfill  \\\n",
       "year                                                                     \n",
       "1995                     0.0                 0.0                 100.0   \n",
       "1996                     0.0                 0.0                 100.0   \n",
       "1997                     0.0                 0.0                 100.0   \n",
       "1998                     0.0                 0.0                 100.0   \n",
       "1999                     0.0                 0.0                 100.0   \n",
       "\n",
       "      mod_EOL_pg2_stored  mod_EOL_pg3_reMFG  mod_EOL_pg4_recycled  \\\n",
       "year                                                                \n",
       "1995                 0.0                0.0                   0.0   \n",
       "1996                 0.0                0.0                   0.0   \n",
       "1997                 0.0                0.0                   0.0   \n",
       "1998                 0.0                0.0                   0.0   \n",
       "1999                 0.0                0.0                   0.0   \n",
       "\n",
       "      mod_EOL_reMFG_yield  mod_EOL_sp_reMFG_recycle  mod_EOL_pb1_landfill  \\\n",
       "year                                                                        \n",
       "1995                  0.0                       0.0                 100.0   \n",
       "1996                  0.0                       0.0                 100.0   \n",
       "1997                  0.0                       0.0                 100.0   \n",
       "1998                  0.0                       0.0                 100.0   \n",
       "1999                  0.0                       0.0                 100.0   \n",
       "\n",
       "      mod_EOL_pb2_stored  mod_EOL_pb3_reMFG  mod_EOL_pb4_recycled  \n",
       "year                                                               \n",
       "1995                 0.0                0.0                   0.0  \n",
       "1996                 0.0                0.0                   0.0  \n",
       "1997                 0.0                0.0                   0.0  \n",
       "1998                 0.0                0.0                   0.0  \n",
       "1999                 0.0                0.0                   0.0  "
      ]
     },
     "execution_count": 7,
     "metadata": {},
     "output_type": "execute_result"
    }
   ],
   "source": [
    "r1 = PV_ICE.Simulation(name='Simulation1', path=testfolder)\n",
    "r1.createScenario(name='cSi', massmodulefile=r'../baselines/RELOG/baseline_modules_mass_US_cSi.csv')\n",
    "# MAC: I think we probably want noCircularity so everything goes to landfill and\n",
    "# it's easy to calculate the 'BEST case for Recycling scenario'. Otherwise comment out...\n",
    "r1.scenMod_noCircularity() \n",
    "\n",
    "# This is really the cSi baseline, but got lazy to rename it so the new one will be baselineCdTe\n",
    "baseline = r1.scenario['cSi'].dataIn_m\n",
    "baseline = baseline.drop(columns=['new_Installed_Capacity_[MW]'])\n",
    "baseline.set_index('year', inplace=True)\n",
    "baseline.index = pd.PeriodIndex(baseline.index, freq='A')  # A -- Annual\n",
    "baseline.head()\n",
    "\n",
    "r1.createScenario(name='CdTe', massmodulefile=r'../baselines/RELOG/baseline_modules_mass_US_CdTe.csv')\n",
    "# MAC: I think we probably want noCircularity so everything goes to landfill and\n",
    "# it's easy to calculate the 'BEST case for Recycling scenario'. Otherwise comment out...\n",
    "r1.scenMod_noCircularity() \n",
    "baselineCdTe = r1.scenario['CdTe'].dataIn_m\n",
    "baselineCdTe = baselineCdTe.drop(columns=['new_Installed_Capacity_[MW]'])\n",
    "baselineCdTe.set_index('year', inplace=True)\n",
    "baselineCdTe.index = pd.PeriodIndex(baselineCdTe.index, freq='A')  # A -- Annual\n",
    "baselineCdTe.head()"
   ]
  },
  {
   "cell_type": "markdown",
   "metadata": {},
   "source": [
    "#### For each Scenario and for each PCA, combine with baseline and save as input file"
   ]
  },
  {
   "cell_type": "code",
   "execution_count": 8,
   "metadata": {},
   "outputs": [],
   "source": [
    "# Set header dynamically"
   ]
  },
  {
   "cell_type": "code",
   "execution_count": 9,
   "metadata": {},
   "outputs": [],
   "source": [
    "import csv\n",
    "\n",
    "massmodulefile=r'../baselines/RELOG/baseline_modules_mass_US_cSi.csv'\n",
    "\n",
    "with open(massmodulefile, newline='') as f:\n",
    "    reader = csv.reader(f)\n",
    "    row1 = next(reader)  # gets the first line\n",
    "    row2 = next(reader)  # gets the first line\n",
    "\n",
    "row11 = 'year'\n",
    "for x in row1[1:]:\n",
    "    row11 = row11 + ',' + x \n",
    "\n",
    "row22 = 'year'\n",
    "for x in row2[1:]:\n",
    "    row22 = row22 + ',' + x "
   ]
  },
  {
   "cell_type": "code",
   "execution_count": 10,
   "metadata": {},
   "outputs": [],
   "source": [
    "# Load MarketShare File"
   ]
  },
  {
   "cell_type": "code",
   "execution_count": 11,
   "metadata": {},
   "outputs": [
    {
     "data": {
      "text/html": [
       "<div>\n",
       "<style scoped>\n",
       "    .dataframe tbody tr th:only-of-type {\n",
       "        vertical-align: middle;\n",
       "    }\n",
       "\n",
       "    .dataframe tbody tr th {\n",
       "        vertical-align: top;\n",
       "    }\n",
       "\n",
       "    .dataframe thead th {\n",
       "        text-align: right;\n",
       "    }\n",
       "</style>\n",
       "<table border=\"1\" class=\"dataframe\">\n",
       "  <thead>\n",
       "    <tr style=\"text-align: right;\">\n",
       "      <th></th>\n",
       "      <th>Nameplate Capacity (MW)</th>\n",
       "      <th>cSi Market Share</th>\n",
       "      <th>CdTe Market Share</th>\n",
       "      <th>cSi Capacity (MW)</th>\n",
       "      <th>CdTe Capacity (MW)</th>\n",
       "    </tr>\n",
       "    <tr>\n",
       "      <th>Year</th>\n",
       "      <th></th>\n",
       "      <th></th>\n",
       "      <th></th>\n",
       "      <th></th>\n",
       "      <th></th>\n",
       "    </tr>\n",
       "  </thead>\n",
       "  <tbody>\n",
       "    <tr>\n",
       "      <th>2010</th>\n",
       "      <td>848.588</td>\n",
       "      <td>0.85</td>\n",
       "      <td>0.14</td>\n",
       "      <td>721.29980</td>\n",
       "      <td>118.80232</td>\n",
       "    </tr>\n",
       "    <tr>\n",
       "      <th>2011</th>\n",
       "      <td>1920.510</td>\n",
       "      <td>0.93</td>\n",
       "      <td>0.06</td>\n",
       "      <td>1786.07430</td>\n",
       "      <td>115.23060</td>\n",
       "    </tr>\n",
       "    <tr>\n",
       "      <th>2012</th>\n",
       "      <td>3373.427</td>\n",
       "      <td>0.91</td>\n",
       "      <td>0.07</td>\n",
       "      <td>3069.81857</td>\n",
       "      <td>236.13989</td>\n",
       "    </tr>\n",
       "    <tr>\n",
       "      <th>2013</th>\n",
       "      <td>4765.802</td>\n",
       "      <td>0.85</td>\n",
       "      <td>0.10</td>\n",
       "      <td>4050.93170</td>\n",
       "      <td>476.58020</td>\n",
       "    </tr>\n",
       "    <tr>\n",
       "      <th>2014</th>\n",
       "      <td>6243.873</td>\n",
       "      <td>0.60</td>\n",
       "      <td>0.35</td>\n",
       "      <td>3746.32380</td>\n",
       "      <td>2185.35555</td>\n",
       "    </tr>\n",
       "  </tbody>\n",
       "</table>\n",
       "</div>"
      ],
      "text/plain": [
       "      Nameplate Capacity (MW)  cSi Market Share  CdTe Market Share  \\\n",
       "Year                                                                 \n",
       "2010                  848.588              0.85               0.14   \n",
       "2011                 1920.510              0.93               0.06   \n",
       "2012                 3373.427              0.91               0.07   \n",
       "2013                 4765.802              0.85               0.10   \n",
       "2014                 6243.873              0.60               0.35   \n",
       "\n",
       "      cSi Capacity (MW)  CdTe Capacity (MW)  \n",
       "Year                                         \n",
       "2010          721.29980           118.80232  \n",
       "2011         1786.07430           115.23060  \n",
       "2012         3069.81857           236.13989  \n",
       "2013         4050.93170           476.58020  \n",
       "2014         3746.32380          2185.35555  "
      ]
     },
     "execution_count": 11,
     "metadata": {},
     "output_type": "execute_result"
    }
   ],
   "source": [
    "marketsharefile = r'../baselines/SupportingMaterial/output_RELOG_cSi_CdTe_capacity_reeds.csv'\n",
    "marketshare = pd.read_csv(marketsharefile)\n",
    "# Not elegant but I need to trim down to ReEds year start which is 2010\n",
    "marketshare = marketshare[marketshare['Year']>=2010].reset_index(drop=True)\n",
    "marketshare.set_index('Year', inplace=True)\n",
    "marketshare.head()"
   ]
  },
  {
   "cell_type": "code",
   "execution_count": 12,
   "metadata": {},
   "outputs": [],
   "source": [
    "for ii in range (len(rawdf.unstack(level=1))):\n",
    "    PCA = rawdf.unstack(level=1).iloc[ii].name[1]\n",
    "    SCEN = rawdf.unstack(level=1).iloc[ii].name[0]\n",
    "    SCEN=SCEN.replace('+', '_')\n",
    "    filetitle = SCEN+'_cSI_'+PCA +'.csv'\n",
    "    subtestfolder = os.path.join(testfolder, 'PCAs_RELOG')\n",
    "    if not os.path.exists(subtestfolder):\n",
    "        os.makedirs(subtestfolder)\n",
    "    filetitle = os.path.join(subtestfolder, filetitle)\n",
    "    A = rawdf.unstack(level=1).iloc[ii]\n",
    "    A = A.droplevel(level=0)\n",
    "    A.name = 'new_Installed_Capacity_[MW]'\n",
    "    A = pd.DataFrame(A)\n",
    "    A.index=pd.PeriodIndex(A.index, freq='A')\n",
    "    A = pd.DataFrame(A)\n",
    "    B = A.copy()\n",
    "    B['new_Installed_Capacity_[MW]'] = B['new_Installed_Capacity_[MW]'] * marketshare['cSi Market Share'].values\n",
    "    B['new_Installed_Capacity_[MW]'] = B['new_Installed_Capacity_[MW]'] * 1000   # ReEDS file is in GW.\n",
    "    # Add other columns\n",
    "    B = pd.concat([B, baseline.reindex(A.index)], axis=1)\n",
    "   \n",
    "    header = row11 + '\\n' + row22 + '\\n'\n",
    "    \n",
    "    with open(filetitle, 'w', newline='') as ict:\n",
    "    # Write the header lines, including the index variable for\n",
    "    # the last one if you're letting Pandas produce that for you.\n",
    "    # (see above).\n",
    "        for line in header:\n",
    "            ict.write(line)\n",
    "\n",
    "        #    savedata.to_csv(ict, index=False)\n",
    "        B.to_csv(ict, header=False)\n",
    "    \n",
    "    filetitle = SCEN+'_CdTe_'+PCA +'.csv'\n",
    "    filetitle = os.path.join(subtestfolder, filetitle)\n",
    "\n",
    "    B = A.copy()\n",
    "    B['new_Installed_Capacity_[MW]'] = B['new_Installed_Capacity_[MW]'] * marketshare['CdTe Market Share'].values\n",
    "    B['new_Installed_Capacity_[MW]'] = B['new_Installed_Capacity_[MW]'] * 1000   # ReEDS file is in GW.\n",
    "    # Add other columns\n",
    "    B = pd.concat([B, baselineCdTe.reindex(B.index)], axis=1)\n",
    "    \n",
    "    with open(filetitle, 'w', newline='') as ict:\n",
    "    # Write the header lines, including the index variable for\n",
    "    # the last one if you're letting Pandas produce that for you.\n",
    "    # (see above).\n",
    "        for line in header:\n",
    "            ict.write(line)\n",
    "\n",
    "        #    savedata.to_csv(ict, index=False)\n",
    "        B.to_csv(ict, header=False)\n",
    "    "
   ]
  },
  {
   "cell_type": "code",
   "execution_count": 13,
   "metadata": {},
   "outputs": [],
   "source": [
    "PCAs = list(rawdf.unstack(level=2).iloc[0].unstack(level=0).index.unique())"
   ]
  },
  {
   "cell_type": "markdown",
   "metadata": {},
   "source": [
    "## 2. Loading the PCA baselines and doing the PV ICE Calculations"
   ]
  },
  {
   "cell_type": "code",
   "execution_count": 14,
   "metadata": {},
   "outputs": [],
   "source": [
    "SFscenarios = ['95-by-35_Elec.Adv_DR_cSi', '95-by-35_Elec.Adv_DR_CdTe']"
   ]
  },
  {
   "cell_type": "markdown",
   "metadata": {},
   "source": [
    "### Reading GIS inputs"
   ]
  },
  {
   "cell_type": "code",
   "execution_count": 15,
   "metadata": {},
   "outputs": [],
   "source": [
    "GISfile = str(Path().resolve().parent.parent.parent / 'gis_centroid_n.xlsx')\n",
    "GIS = pd.read_excel(GISfile)\n",
    "GIS = GIS.set_index('id')"
   ]
  },
  {
   "cell_type": "code",
   "execution_count": 16,
   "metadata": {},
   "outputs": [
    {
     "data": {
      "text/html": [
       "<div>\n",
       "<style scoped>\n",
       "    .dataframe tbody tr th:only-of-type {\n",
       "        vertical-align: middle;\n",
       "    }\n",
       "\n",
       "    .dataframe tbody tr th {\n",
       "        vertical-align: top;\n",
       "    }\n",
       "\n",
       "    .dataframe thead th {\n",
       "        text-align: right;\n",
       "    }\n",
       "</style>\n",
       "<table border=\"1\" class=\"dataframe\">\n",
       "  <thead>\n",
       "    <tr style=\"text-align: right;\">\n",
       "      <th></th>\n",
       "      <th>long</th>\n",
       "      <th>lat</th>\n",
       "      <th>country</th>\n",
       "    </tr>\n",
       "    <tr>\n",
       "      <th>id</th>\n",
       "      <th></th>\n",
       "      <th></th>\n",
       "      <th></th>\n",
       "    </tr>\n",
       "  </thead>\n",
       "  <tbody>\n",
       "    <tr>\n",
       "      <th>p1</th>\n",
       "      <td>-121.452252</td>\n",
       "      <td>47.820991</td>\n",
       "      <td>USA</td>\n",
       "    </tr>\n",
       "    <tr>\n",
       "      <th>p10</th>\n",
       "      <td>-117.159039</td>\n",
       "      <td>35.120104</td>\n",
       "      <td>USA</td>\n",
       "    </tr>\n",
       "    <tr>\n",
       "      <th>p100</th>\n",
       "      <td>-78.257714</td>\n",
       "      <td>38.791108</td>\n",
       "      <td>USA</td>\n",
       "    </tr>\n",
       "    <tr>\n",
       "      <th>p101</th>\n",
       "      <td>-82.192477</td>\n",
       "      <td>28.708695</td>\n",
       "      <td>USA</td>\n",
       "    </tr>\n",
       "    <tr>\n",
       "      <th>p102</th>\n",
       "      <td>-80.563731</td>\n",
       "      <td>26.677092</td>\n",
       "      <td>USA</td>\n",
       "    </tr>\n",
       "  </tbody>\n",
       "</table>\n",
       "</div>"
      ],
      "text/plain": [
       "            long        lat country\n",
       "id                                 \n",
       "p1   -121.452252  47.820991     USA\n",
       "p10  -117.159039  35.120104     USA\n",
       "p100  -78.257714  38.791108     USA\n",
       "p101  -82.192477  28.708695     USA\n",
       "p102  -80.563731  26.677092     USA"
      ]
     },
     "execution_count": 16,
     "metadata": {},
     "output_type": "execute_result"
    }
   ],
   "source": [
    "GIS.head()"
   ]
  },
  {
   "cell_type": "code",
   "execution_count": 17,
   "metadata": {},
   "outputs": [
    {
     "data": {
      "text/plain": [
       "-121.4522522"
      ]
     },
     "execution_count": 17,
     "metadata": {},
     "output_type": "execute_result"
    }
   ],
   "source": [
    "GIS.loc['p1'].long"
   ]
  },
  {
   "cell_type": "markdown",
   "metadata": {},
   "source": [
    "#### Create the 2 Scenarios and assign Baselines\n",
    "\n",
    "Keeping track of each scenario as its own PV ICE Object."
   ]
  },
  {
   "cell_type": "code",
   "execution_count": 18,
   "metadata": {},
   "outputs": [
    {
     "data": {
      "text/plain": [
       "PosixPath('/Users/mmendez/Documents/Postdoc/Software_dev/PV_ICE/PV_ICE')"
      ]
     },
     "execution_count": 18,
     "metadata": {},
     "output_type": "execute_result"
    }
   ],
   "source": [
    "Path().resolve().parent"
   ]
  },
  {
   "cell_type": "code",
   "execution_count": 19,
   "metadata": {},
   "outputs": [],
   "source": [
    "baselinefolder = os.path.join(Path().resolve().parent, 'baselines')"
   ]
  },
  {
   "cell_type": "code",
   "execution_count": 20,
   "metadata": {},
   "outputs": [
    {
     "data": {
      "text/plain": [
       "'/Users/mmendez/Documents/Postdoc/Software_dev/PV_ICE/PV_ICE/baselines'"
      ]
     },
     "execution_count": 20,
     "metadata": {},
     "output_type": "execute_result"
    }
   ],
   "source": [
    "baselinefolder"
   ]
  },
  {
   "cell_type": "code",
   "execution_count": 21,
   "metadata": {},
   "outputs": [
    {
     "data": {
      "text/plain": [
       "'/Users/mmendez/Documents/Postdoc/Software_dev/PV_ICE/PV_ICE/TEMP'"
      ]
     },
     "execution_count": 21,
     "metadata": {},
     "output_type": "execute_result"
    }
   ],
   "source": [
    "testfolder"
   ]
  },
  {
   "cell_type": "code",
   "execution_count": 22,
   "metadata": {},
   "outputs": [
    {
     "name": "stdout",
     "output_type": "stream",
     "text": [
      "path = /Users/mmendez/Documents/Postdoc/Software_dev/PV_ICE/PV_ICE/TEMP\n",
      "Adding Mass AND Energy files for:  glass\n",
      "Adding Mass AND Energy files for:  silicon\n",
      "Adding Mass AND Energy files for:  silver\n",
      "Adding Mass AND Energy files for:  copper\n",
      "Adding Mass AND Energy files for:  aluminium_frames\n"
     ]
    },
    {
     "ename": "FileNotFoundError",
     "evalue": "[Errno 2] No such file or directory: '/Users/mmendez/Documents/Postdoc/Software_dev/PV_ICE/PV_ICE/baselines/baseline_material_mass_aluminium_frames.csv'",
     "output_type": "error",
     "traceback": [
      "\u001b[0;31m---------------------------------------------------------------------------\u001b[0m",
      "\u001b[0;31mFileNotFoundError\u001b[0m                         Traceback (most recent call last)",
      "Input \u001b[0;32mIn [22]\u001b[0m, in \u001b[0;36m<cell line: 5>\u001b[0;34m()\u001b[0m\n\u001b[1;32m      7\u001b[0m filetitle \u001b[38;5;241m=\u001b[39m os\u001b[38;5;241m.\u001b[39mpath\u001b[38;5;241m.\u001b[39mjoin(testfolder, \u001b[38;5;124m'\u001b[39m\u001b[38;5;124mPCAs_RELOG\u001b[39m\u001b[38;5;124m'\u001b[39m, filetitle)    \n\u001b[1;32m      8\u001b[0m r1\u001b[38;5;241m.\u001b[39mcreateScenario(name\u001b[38;5;241m=\u001b[39mPCAs[jj], massmodulefile\u001b[38;5;241m=\u001b[39mfiletitle)\n\u001b[0;32m----> 9\u001b[0m \u001b[43mr1\u001b[49m\u001b[38;5;241;43m.\u001b[39;49m\u001b[43mscenario\u001b[49m\u001b[43m[\u001b[49m\u001b[43mPCAs\u001b[49m\u001b[43m[\u001b[49m\u001b[43mjj\u001b[49m\u001b[43m]\u001b[49m\u001b[43m]\u001b[49m\u001b[38;5;241;43m.\u001b[39;49m\u001b[43maddMaterials\u001b[49m\u001b[43m(\u001b[49m\u001b[43m[\u001b[49m\u001b[38;5;124;43m'\u001b[39;49m\u001b[38;5;124;43mglass\u001b[39;49m\u001b[38;5;124;43m'\u001b[39;49m\u001b[43m,\u001b[49m\u001b[43m \u001b[49m\u001b[38;5;124;43m'\u001b[39;49m\u001b[38;5;124;43msilicon\u001b[39;49m\u001b[38;5;124;43m'\u001b[39;49m\u001b[43m,\u001b[49m\u001b[43m \u001b[49m\u001b[38;5;124;43m'\u001b[39;49m\u001b[38;5;124;43msilver\u001b[39;49m\u001b[38;5;124;43m'\u001b[39;49m\u001b[43m,\u001b[49m\u001b[43m \u001b[49m\u001b[38;5;124;43m'\u001b[39;49m\u001b[38;5;124;43mcopper\u001b[39;49m\u001b[38;5;124;43m'\u001b[39;49m\u001b[43m,\u001b[49m\u001b[43m \u001b[49m\u001b[38;5;124;43m'\u001b[39;49m\u001b[38;5;124;43maluminium_frames\u001b[39;49m\u001b[38;5;124;43m'\u001b[39;49m\u001b[43m,\u001b[49m\u001b[43m \u001b[49m\u001b[38;5;124;43m'\u001b[39;49m\u001b[38;5;124;43mencapsulant\u001b[39;49m\u001b[38;5;124;43m'\u001b[39;49m\u001b[43m,\u001b[49m\u001b[43m \u001b[49m\u001b[38;5;124;43m'\u001b[39;49m\u001b[38;5;124;43mbacksheet\u001b[39;49m\u001b[38;5;124;43m'\u001b[39;49m\u001b[43m]\u001b[49m\u001b[43m,\u001b[49m\u001b[43m \u001b[49m\u001b[43mbaselinefolder\u001b[49m\u001b[38;5;241;43m=\u001b[39;49m\u001b[43mbaselinefolder\u001b[49m\u001b[43m)\u001b[49m\n\u001b[1;32m     10\u001b[0m \u001b[38;5;66;03m# All -- but these where not included in the Reeds initial study as we didnt have encapsulant or backsheet\u001b[39;00m\n\u001b[1;32m     11\u001b[0m \u001b[38;5;66;03m# r1.scenario[PCAs[jj]].addMaterials(['glass', 'silicon', 'silver', 'copper', 'aluminium_frames', 'encapsulant', 'backsheet'], baselinefolder=r'..\\baselines')\u001b[39;00m\n\u001b[1;32m     12\u001b[0m r1\u001b[38;5;241m.\u001b[39mscenario[PCAs[jj]]\u001b[38;5;241m.\u001b[39mlatitude \u001b[38;5;241m=\u001b[39m GIS\u001b[38;5;241m.\u001b[39mloc[PCAs[jj]]\u001b[38;5;241m.\u001b[39mlat\n",
      "File \u001b[0;32m~/Documents/Postdoc/Software_dev/PV_ICE/PV_ICE/main.py:1740\u001b[0m, in \u001b[0;36mScenario.addMaterials\u001b[0;34m(self, materials, baselinefolder, nameformat)\u001b[0m\n\u001b[1;32m   1737\u001b[0m \u001b[38;5;28;01melse\u001b[39;00m:\n\u001b[1;32m   1738\u001b[0m     filematenergy \u001b[38;5;241m=\u001b[39m \u001b[38;5;28;01mNone\u001b[39;00m\n\u001b[0;32m-> 1740\u001b[0m \u001b[38;5;28mself\u001b[39m\u001b[38;5;241m.\u001b[39mmaterial[mat] \u001b[38;5;241m=\u001b[39m \u001b[43mMaterial\u001b[49m\u001b[43m(\u001b[49m\u001b[43mmat\u001b[49m\u001b[43m,\u001b[49m\u001b[43m \u001b[49m\u001b[43mmassmatfile\u001b[49m\u001b[43m \u001b[49m\u001b[38;5;241;43m=\u001b[39;49m\u001b[43m \u001b[49m\u001b[43mfilematmass\u001b[49m\u001b[43m,\u001b[49m\n\u001b[1;32m   1741\u001b[0m \u001b[43m                              \u001b[49m\u001b[43menergymatfile\u001b[49m\u001b[43m \u001b[49m\u001b[38;5;241;43m=\u001b[39;49m\u001b[43m \u001b[49m\u001b[43mfilematenergy\u001b[49m\u001b[43m)\u001b[49m\n",
      "File \u001b[0;32m~/Documents/Postdoc/Software_dev/PV_ICE/PV_ICE/main.py:1780\u001b[0m, in \u001b[0;36mMaterial.__init__\u001b[0;34m(self, materialname, massmatfile, energymatfile)\u001b[0m\n\u001b[1;32m   1776\u001b[0m     \u001b[38;5;28;01mexcept\u001b[39;00m:\n\u001b[1;32m   1777\u001b[0m         \u001b[38;5;28;01mraise\u001b[39;00m \u001b[38;5;167;01mException\u001b[39;00m(\u001b[38;5;124m'\u001b[39m\u001b[38;5;124mInteractive load failed. Tkinter not supported\u001b[39m\u001b[38;5;124m'\u001b[39m\u001b[38;5;241m+\u001b[39m\n\u001b[1;32m   1778\u001b[0m                         \u001b[38;5;124m'\u001b[39m\u001b[38;5;124mon this system. Try installing X-Quartz and reloading\u001b[39m\u001b[38;5;124m'\u001b[39m)\n\u001b[0;32m-> 1780\u001b[0m data, meta \u001b[38;5;241m=\u001b[39m \u001b[43m_readPVICEFile\u001b[49m\u001b[43m(\u001b[49m\u001b[43mmassmatfile\u001b[49m\u001b[43m)\u001b[49m\n\u001b[1;32m   1782\u001b[0m \u001b[38;5;28mself\u001b[39m\u001b[38;5;241m.\u001b[39mmassmatfile \u001b[38;5;241m=\u001b[39m massmatfile\n\u001b[1;32m   1783\u001b[0m \u001b[38;5;28mself\u001b[39m\u001b[38;5;241m.\u001b[39mmatmetdataIn_m \u001b[38;5;241m=\u001b[39m meta\n",
      "File \u001b[0;32m~/Documents/Postdoc/Software_dev/PV_ICE/PV_ICE/main.py:39\u001b[0m, in \u001b[0;36m_readPVICEFile\u001b[0;34m(file)\u001b[0m\n\u001b[1;32m     37\u001b[0m \u001b[38;5;28;01mdef\u001b[39;00m \u001b[38;5;21m_readPVICEFile\u001b[39m(file):\n\u001b[0;32m---> 39\u001b[0m     csvdata \u001b[38;5;241m=\u001b[39m \u001b[38;5;28;43mopen\u001b[39;49m\u001b[43m(\u001b[49m\u001b[38;5;28;43mstr\u001b[39;49m\u001b[43m(\u001b[49m\u001b[43mfile\u001b[49m\u001b[43m)\u001b[49m\u001b[43m,\u001b[49m\u001b[43m \u001b[49m\u001b[38;5;124;43m'\u001b[39;49m\u001b[38;5;124;43mr\u001b[39;49m\u001b[38;5;124;43m'\u001b[39;49m\u001b[43m,\u001b[49m\u001b[43m \u001b[49m\u001b[43mencoding\u001b[49m\u001b[38;5;241;43m=\u001b[39;49m\u001b[38;5;124;43m\"\u001b[39;49m\u001b[38;5;124;43mUTF-8\u001b[39;49m\u001b[38;5;124;43m\"\u001b[39;49m\u001b[43m)\u001b[49m\n\u001b[1;32m     40\u001b[0m     csvdata \u001b[38;5;241m=\u001b[39m \u001b[38;5;28mopen\u001b[39m(\u001b[38;5;28mstr\u001b[39m(file), \u001b[38;5;124m'\u001b[39m\u001b[38;5;124mr\u001b[39m\u001b[38;5;124m'\u001b[39m, encoding\u001b[38;5;241m=\u001b[39m\u001b[38;5;124m\"\u001b[39m\u001b[38;5;124mUTF-8-sig\u001b[39m\u001b[38;5;124m\"\u001b[39m)\n\u001b[1;32m     41\u001b[0m     firstline \u001b[38;5;241m=\u001b[39m csvdata\u001b[38;5;241m.\u001b[39mreadline()\n",
      "\u001b[0;31mFileNotFoundError\u001b[0m: [Errno 2] No such file or directory: '/Users/mmendez/Documents/Postdoc/Software_dev/PV_ICE/PV_ICE/baselines/baseline_material_mass_aluminium_frames.csv'"
     ]
    }
   ],
   "source": [
    "#for ii in range (0, 1): #len(scenarios):\n",
    "i = 0\n",
    "r1 = PV_ICE.Simulation(name=SFscenarios[i], path=testfolder)\n",
    "\n",
    "for jj in range (0, len(PCAs)): \n",
    "    filetitle = SFscenarios[i]+'_'+PCAs[jj]+'.csv'\n",
    "    filetitle = os.path.join(testfolder, 'PCAs_RELOG', filetitle)    \n",
    "    r1.createScenario(name=PCAs[jj], massmodulefile=filetitle)\n",
    "    r1.scenario[PCAs[jj]].addMaterials(['glass', 'silicon', 'silver', 'copper', 'aluminium_frames', 'encapsulant', 'backsheet'], baselinefolder=baselinefolder)\n",
    "    # All -- but these where not included in the Reeds initial study as we didnt have encapsulant or backsheet\n",
    "    # r1.scenario[PCAs[jj]].addMaterials(['glass', 'silicon', 'silver', 'copper', 'aluminium_frames', 'encapsulant', 'backsheet'], baselinefolder=r'..\\baselines')\n",
    "    r1.scenario[PCAs[jj]].latitude = GIS.loc[PCAs[jj]].lat\n",
    "    r1.scenario[PCAs[jj]].longitude = GIS.loc[PCAs[jj]].long\n",
    "\n",
    "r1.trim_Years(startYear=2010, endYear=2050)\n",
    "\n",
    "i = 1\n",
    "r2 = PV_ICE.Simulation(name=SFscenarios[i], path=testfolder)\n",
    "\n",
    "for jj in range (0, len(PCAs)): \n",
    "    filetitle = SFscenarios[i]+'_'+PCAs[jj]+'.csv'\n",
    "    filetitle = os.path.join(testfolder, 'PCAs_RELOG', filetitle)        \n",
    "    r2.createScenario(name=PCAs[jj], massmodulefile=filetitle)\n",
    "    # MAC Add here the materials you want.\n",
    "    r2.scenario[PCAs[jj]].addMaterials(['cadmium', 'tellurium', 'glass_cdte', 'aluminium_frames_cdte'], baselinefolder=baselinefolder)\n",
    "    # All -- but these where not included in the Reeds initial study as we didnt have encapsulant or backsheet\n",
    "    # r2.scenario[PCAs[jj]].addMaterials(['glass', 'silicon', 'silver', 'copper', 'aluminium_frames', 'encapsulant', 'backsheet'], baselinefolder=r'..\\baselines')\n",
    "    r2.scenario[PCAs[jj]].latitude = GIS.loc[PCAs[jj]].lat\n",
    "    r2.scenario[PCAs[jj]].longitude = GIS.loc[PCAs[jj]].long\n",
    "\n",
    "r2.trim_Years(startYear=2010, endYear=2050)\n"
   ]
  },
  {
   "cell_type": "markdown",
   "metadata": {},
   "source": [
    "### Set characteristics for Manufacturing (probably don't want to inflate this as the waste happens elsewhere, just want EOL"
   ]
  },
  {
   "cell_type": "code",
   "execution_count": null,
   "metadata": {},
   "outputs": [],
   "source": [
    "PERFECTMFG = True\n",
    "\n",
    "if PERFECTMFG:\n",
    "    r1.scenMod_PerfectManufacturing()\n",
    "    r2.scenMod_PerfectManufacturing()\n",
    "    title_Method = 'PVICE_PerfectMFG'\n",
    "else:\n",
    "    title_Method = 'PVICE'\n"
   ]
  },
  {
   "cell_type": "markdown",
   "metadata": {},
   "source": [
    "#### Calculate Mass Flow"
   ]
  },
  {
   "cell_type": "code",
   "execution_count": null,
   "metadata": {},
   "outputs": [],
   "source": [
    "r1.calculateMassFlow()\n",
    "r2.calculateMassFlow()"
   ]
  },
  {
   "cell_type": "code",
   "execution_count": null,
   "metadata": {},
   "outputs": [],
   "source": [
    "print(\"PCAs:\", r1.scenario.keys())\n",
    "print(\"Module Keys:\", r1.scenario[PCAs[jj]].dataIn_m.keys())\n",
    "print(\"Material Keys: \", r1.scenario[PCAs[jj]].material['glass'].matdataIn_m.keys())"
   ]
  },
  {
   "cell_type": "code",
   "execution_count": null,
   "metadata": {},
   "outputs": [],
   "source": [
    "\"\"\"\n",
    "r1.plotScenariosComparison(keyword='Cumulative_Area_disposedby_Failure')\n",
    "r1.plotMaterialComparisonAcrossScenarios(material='silicon', keyword='mat_Total_Landfilled')\n",
    "r1.scenario['p1'].dataIn_m.head(21)\n",
    "r2.scenario['p1'].dataIn_m.head(21)\n",
    "r3.scenario['p1'].dataIn_m.head(21)\n",
    "\"\"\"\n",
    "pass"
   ]
  },
  {
   "cell_type": "markdown",
   "metadata": {},
   "source": [
    "## 4. Aggregate & Save Data"
   ]
  },
  {
   "cell_type": "code",
   "execution_count": null,
   "metadata": {},
   "outputs": [],
   "source": [
    "r1.aggregateResults()\n",
    "r2.aggregateResults()"
   ]
  },
  {
   "cell_type": "code",
   "execution_count": null,
   "metadata": {},
   "outputs": [],
   "source": [
    "datay = r1.USyearly\n",
    "datac = r1.UScum\n"
   ]
  },
  {
   "cell_type": "code",
   "execution_count": null,
   "metadata": {},
   "outputs": [],
   "source": [
    "datay_CdTe = r2.USyearly\n",
    "datac_CdTe = r2.UScum\n"
   ]
  },
  {
   "cell_type": "code",
   "execution_count": null,
   "metadata": {},
   "outputs": [],
   "source": [
    "datay.keys()"
   ]
  },
  {
   "cell_type": "code",
   "execution_count": null,
   "metadata": {},
   "outputs": [],
   "source": [
    "filter_colc = [col for col in datay if col.startswith('WasteEOL')]\n",
    "datay[filter_colc].to_csv('PVICE_RELOG_PCA_cSi_WasteEOL.csv')\n",
    "filter_colc = [col for col in datay_CdTe if col.startswith('WasteEOL')]\n",
    "datay_CdTe[filter_colc].to_csv('PVICE_RELOG_PCA_CdTe_WasteEOL.csv')"
   ]
  }
 ],
 "metadata": {
  "kernelspec": {
   "display_name": "PV_ICE",
   "language": "python",
   "name": "pv_ice"
  },
  "language_info": {
   "codemirror_mode": {
    "name": "ipython",
    "version": 3
   },
   "file_extension": ".py",
   "mimetype": "text/x-python",
   "name": "python",
   "nbconvert_exporter": "python",
   "pygments_lexer": "ipython3",
   "version": "3.10.4"
  }
 },
 "nbformat": 4,
 "nbformat_minor": 4
}
