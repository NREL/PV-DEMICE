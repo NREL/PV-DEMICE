{
 "cells": [
  {
   "cell_type": "markdown",
   "metadata": {},
   "source": [
    "# ReEDS Scenarios on PV ICE Tool"
   ]
  },
  {
   "cell_type": "markdown",
   "metadata": {},
   "source": [
    "To explore different scenarios for furture installation projections of PV (or any technology), ReEDS output data can be useful in providing standard scenarios. ReEDS installation projections are used in this journal as input data to the PV ICE tool. \n",
    "\n",
    "Current sections include:\n",
    "\n",
    "<ol>\n",
    "    <li> ### Reading a cumulative capacity ReEDS output file </li>\n",
    "    <li> ### Reading an annual built ReEDS output file </li>\n",
    "    <li> ### Saving PCA data as PV ICE input format </li>\n",
    "    <li> ### Saving State data as PV ICE input format </li>\n",
    "</ol>\n"
   ]
  },
  {
   "cell_type": "code",
   "execution_count": 1,
   "metadata": {},
   "outputs": [],
   "source": [
    "import numpy as np\n",
    "import pandas as pd\n",
    "import os,sys\n",
    "import matplotlib.pyplot as plt\n",
    "plt.rcParams.update({'font.size': 22})\n",
    "plt.rcParams['figure.figsize'] = (12, 8)"
   ]
  },
  {
   "cell_type": "code",
   "execution_count": 2,
   "metadata": {},
   "outputs": [
    {
     "name": "stdout",
     "output_type": "stream",
     "text": [
      "Your simulation will be stored in C:\\Users\\hmirletz\\Documents\\GitHub\\PV_ICE\\PV_ICE\\TEMP\n"
     ]
    }
   ],
   "source": [
    "import os\n",
    "from pathlib import Path\n",
    "\n",
    "testfolder = str(Path().resolve().parent.parent.parent / 'PV_ICE' / 'TEMP')\n",
    "\n",
    "print (\"Your simulation will be stored in %s\" % testfolder)\n"
   ]
  },
  {
   "cell_type": "markdown",
   "metadata": {},
   "source": [
    "# Reading a ReEDS cumulative capacity output file\n",
    "This reEDS output file is the cumulative capacity every other year. To get GW/yr installed, we need to take the difference between the years, then divide by 2. This is less accurate than getting an \"annual built\" data file because the cumulative capacity accounts for 30 year lifetime removal from field (default ReEDS assumption). This munging also neglects PCA region."
   ]
  },
  {
   "cell_type": "code",
   "execution_count": null,
   "metadata": {},
   "outputs": [],
   "source": [
    "#We need to come up with a default location to save ReEDS output files\n",
    "#reedsFile = str(Path().resolve().parent.parent.parent.parent / 'December Core Scenarios ReEDS Outputs Solar Futures v3a.xlsx')\n",
    "#print (\"Input file is stored in %s\" % reedsFile)\n",
    "reedsFile = str(Path().resolve().parent.parent.parent/ 'PV_ICE' / 'baselines' / 'SupportingMaterial' / '100REby2035-cumulative.csv')\n",
    "print (\"Input file is stored in %s\" % reedsFile)"
   ]
  },
  {
   "cell_type": "code",
   "execution_count": null,
   "metadata": {},
   "outputs": [],
   "source": [
    "REEDSInput = pd.read_csv(reedsFile)\n",
    "REEDSInput.head"
   ]
  },
  {
   "cell_type": "markdown",
   "metadata": {},
   "source": [
    "### Aggregate down to simple MW Installed input"
   ]
  },
  {
   "cell_type": "code",
   "execution_count": null,
   "metadata": {},
   "outputs": [],
   "source": [
    "rawdf = REEDSInput.copy()\n",
    "\n",
    "#currently, we're ignoring region, so drop PCA\n",
    "rawdf.drop(columns=['PCA'], inplace=True)\n",
    "\n",
    "#aggregate and sum by scenarios and year to get an annual (bi-annual) installation by scenario\n",
    "df = rawdf.groupby(['scenario', 'year'])['Capacity (GW)'].sum()\n",
    "df_evens = pd.DataFrame(df)\n",
    "df_evens_byscen = df.unstack(level='scenario')#this df contains all the scenarios, even years only\n",
    "print(df_evens_byscen)"
   ]
  },
  {
   "cell_type": "markdown",
   "metadata": {},
   "source": [
    "### Take the difference and Divide by 2\n",
    "The file provided is cumulative installs, therefore we need to take the difference between years"
   ]
  },
  {
   "cell_type": "code",
   "execution_count": null,
   "metadata": {},
   "outputs": [],
   "source": [
    "#take the difference between years to get the annual installs (not cumulative)\n",
    "#grab scenario names\n",
    "SCEN = df_evens.index.levels[0]\n",
    "#len(SCEN)\n",
    "#create a for loop to iterate through all the provided scenarios\n",
    "for i in range(len(SCEN)):\n",
    "    df_evens_byscen[SCEN[i]+'_added_cap(GW)'] = df[SCEN[i]].diff() #takes diff between rows and creates new column\n",
    "#print(df_evens_byscen)\n",
    "df_addedCap_evens = df_evens_byscen.filter(regex = 'added_cap') #create df of just added capacity, removes multiIndex\n",
    "print(df_addedCap_evens)"
   ]
  },
  {
   "cell_type": "markdown",
   "metadata": {},
   "source": [
    "Because we prefer to use real world data whereever possible, anything prior to the current year will use real world installs. Therefore, we can ignore the NaN values in 2010.\n",
    "\n",
    "Now we divide this added installations in half."
   ]
  },
  {
   "cell_type": "code",
   "execution_count": null,
   "metadata": {},
   "outputs": [],
   "source": [
    "df_annualAdds_evens = df_addedCap_evens/2\n",
    "print(df_annualAdds_evens)"
   ]
  },
  {
   "cell_type": "markdown",
   "metadata": {},
   "source": [
    "### Create the odd years"
   ]
  },
  {
   "cell_type": "code",
   "execution_count": null,
   "metadata": {},
   "outputs": [],
   "source": [
    "#Now create the odd years by duplicating the even years and changing the index\n",
    "df_odds = df_annualAdds_evens.copy()\n",
    "df_odds.index = df_odds.index-1 #set the index = one year less\n",
    "print(df_odds)"
   ]
  },
  {
   "cell_type": "code",
   "execution_count": null,
   "metadata": {},
   "outputs": [],
   "source": [
    "#put the evens and odds together, sort by year\n",
    "df_allyrs = pd.concat([df_annualAdds_evens, df_odds])\n",
    "df_allyrs.sort_index(axis=0, inplace=True)\n",
    "#df_allyrs_byscen = df_allyrs.unstack(level=0)\n",
    "#print(df_allyrs_byscen)\n",
    "\n",
    "#modify by DC:AC ratio(1.2 avg) and 85% average marketshare of c-Si technology and convert to MW\n",
    "df_cSi_installs = df_allyrs*1.2*0.85*1000\n",
    "print(df_cSi_installs)"
   ]
  },
  {
   "cell_type": "code",
   "execution_count": null,
   "metadata": {},
   "outputs": [],
   "source": [
    "#output the file\n",
    "df_cSi_installs.to_csv('output_reeds4PVICE.csv', index=True)"
   ]
  },
  {
   "cell_type": "markdown",
   "metadata": {},
   "source": [
    "# Reading a ReEDS annual built capacity file\n",
    "This data file is the \"annual built capacity\", or the additions (not net additions) to the grid. This is an annual number reported biannually, so the assumption is that the previous odd year installed the same amount of PV capacity."
   ]
  },
  {
   "cell_type": "code",
   "execution_count": 3,
   "metadata": {
    "scrolled": true
   },
   "outputs": [
    {
     "name": "stdout",
     "output_type": "stream",
     "text": [
      "Input file is stored in C:\\Users\\hmirletz\\Documents\\GitHub\\PV_ICE\\PV_ICE\\baselines\\SupportingMaterial\\100REby2035-annuals.csv\n"
     ]
    },
    {
     "data": {
      "text/plain": [
       "<bound method NDFrame.head of          tech  scenario region  year  Capacity (GW)\n",
       "0         upv  a1_RE100     p1  2012       0.000000\n",
       "1         upv  a1_RE100     p1  2014       0.000000\n",
       "2         upv  a1_RE100     p1  2016       0.000000\n",
       "3         upv  a1_RE100     p1  2018       0.000000\n",
       "4         upv  a1_RE100     p1  2020       0.012500\n",
       "...       ...       ...    ...   ...            ...\n",
       "24115  distpv    a1_Ref    p99  2042       0.131880\n",
       "24116  distpv    a1_Ref    p99  2044       0.146862\n",
       "24117  distpv    a1_Ref    p99  2046       0.257416\n",
       "24118  distpv    a1_Ref    p99  2048       0.112180\n",
       "24119  distpv    a1_Ref    p99  2050       0.213627\n",
       "\n",
       "[24120 rows x 5 columns]>"
      ]
     },
     "execution_count": 3,
     "metadata": {},
     "output_type": "execute_result"
    }
   ],
   "source": [
    "reedsFile = str(Path().resolve().parent.parent.parent/ 'PV_ICE' / 'baselines' / 'SupportingMaterial' / '100REby2035-annuals.csv')\n",
    "print (\"Input file is stored in %s\" % reedsFile)\n",
    "REEDSInput = pd.read_csv(reedsFile)\n",
    "REEDSInput.head"
   ]
  },
  {
   "cell_type": "code",
   "execution_count": null,
   "metadata": {
    "scrolled": true
   },
   "outputs": [],
   "source": [
    "rawdf = REEDSInput.copy()\n",
    "\n",
    "#currently, we're ignoring region, so drop PCA\n",
    "rawdf.drop(columns=['region'], inplace=True)\n",
    "\n",
    "#aggregate and sum by scenarios and year to get an annual (bi-annual) installation by scenario\n",
    "df = pd.DataFrame(rawdf.groupby(['tech', 'scenario', 'year'])['Capacity (GW)'].sum())\n",
    "df.head"
   ]
  },
  {
   "cell_type": "markdown",
   "metadata": {},
   "source": [
    "Now we multiply each technology by it's respective DC:AC ratio, because distributed PV (i.e. rooftop) in ReEDS is reported in AC with a 1.1 DC:AC ratio. We install in DC, therefore, we multiply ReEDS output by 1.1. For both types of utility PV (Distributed UPV and UPV), the DC:AC ratio is 1.3."
   ]
  },
  {
   "cell_type": "code",
   "execution_count": null,
   "metadata": {
    "scrolled": true
   },
   "outputs": [],
   "source": [
    "#create a litte dataframe of the factors with index that matches tech names\n",
    "dc_ac = pd.DataFrame({'factor':[1.1,1.3,1.3]}, index=['distpv','dupv','upv'])\n",
    "#multiply techs by DC:AC ratios\n",
    "df_dc = df.mul(dc_ac['factor'], level=0, axis='index')\n",
    "print(df_dc)"
   ]
  },
  {
   "cell_type": "markdown",
   "metadata": {},
   "source": [
    "Now we're in DC, we can sum the techs for each scenario and year."
   ]
  },
  {
   "cell_type": "code",
   "execution_count": null,
   "metadata": {
    "scrolled": false
   },
   "outputs": [],
   "source": [
    "df_byscen = pd.DataFrame(df_dc.groupby(['scenario', 'year'])['Capacity (GW)'].sum())\n",
    "df_evens_byscen = df_byscen.unstack(level='scenario')\n",
    "#print(df_evens_byscen)"
   ]
  },
  {
   "cell_type": "markdown",
   "metadata": {},
   "source": [
    "This gives us the annual added capacity, by scenario, but only on even years. ReEDS recommendation is to back duplicate the installation, i.e. the same amount of PV is installed in 2049 and 2050. Now we create an odd year data set."
   ]
  },
  {
   "cell_type": "code",
   "execution_count": null,
   "metadata": {
    "scrolled": false
   },
   "outputs": [],
   "source": [
    "#Now create the odd years by duplicating the even years and changing the index\n",
    "df_odds = df_evens_byscen.copy()\n",
    "df_odds.index = df_odds.index-1 #set the index = one year less\n",
    "#print(df_odds)"
   ]
  },
  {
   "cell_type": "markdown",
   "metadata": {},
   "source": [
    "Now concatinate the two dataframes, and reorder by year number."
   ]
  },
  {
   "cell_type": "code",
   "execution_count": null,
   "metadata": {
    "scrolled": false
   },
   "outputs": [],
   "source": [
    "#put the evens and odds together, sort by year\n",
    "df_allyrs = pd.concat([df_evens_byscen, df_odds])\n",
    "df_allyrs.sort_index(axis=0, inplace=True)\n",
    "#print(df_allyrs)"
   ]
  },
  {
   "cell_type": "markdown",
   "metadata": {},
   "source": [
    "Finally, we only consider c-Si installations right now, and the historical average is 85% c-Si market share in the US (most of the rest is CdTe). Therefore, we multiply everything by 0.85 to account for only c-Si material."
   ]
  },
  {
   "cell_type": "code",
   "execution_count": null,
   "metadata": {},
   "outputs": [],
   "source": [
    "#multiply by 85% average marketshare of c-Si technology and convert to MW\n",
    "df_cSi_installs = df_allyrs*0.85*1000\n",
    "print(df_cSi_installs)"
   ]
  },
  {
   "cell_type": "code",
   "execution_count": null,
   "metadata": {},
   "outputs": [],
   "source": [
    "#output the file\n",
    "df_cSi_installs.to_csv('output_reeds4PVICE.csv', index=True)"
   ]
  },
  {
   "cell_type": "markdown",
   "metadata": {},
   "source": [
    "# Append to Projections Options File"
   ]
  },
  {
   "cell_type": "code",
   "execution_count": null,
   "metadata": {},
   "outputs": [],
   "source": []
  },
  {
   "cell_type": "code",
   "execution_count": null,
   "metadata": {},
   "outputs": [],
   "source": []
  },
  {
   "cell_type": "markdown",
   "metadata": {},
   "source": [
    "## Save Input Files by PCA Region for Mapping"
   ]
  },
  {
   "cell_type": "code",
   "execution_count": 4,
   "metadata": {
    "scrolled": true
   },
   "outputs": [
    {
     "data": {
      "text/plain": [
       "<bound method NDFrame.head of                              Capacity (GW)\n",
       "tech   scenario year region               \n",
       "distpv a1_RE100 2012 p1           0.004689\n",
       "                     p10          0.150564\n",
       "                     p100         0.000000\n",
       "                     p101         0.008424\n",
       "                     p102         0.004160\n",
       "...                                    ...\n",
       "upv    a1_Ref   2050 p95          1.309897\n",
       "                     p96          0.732107\n",
       "                     p97          1.500091\n",
       "                     p98          0.580900\n",
       "                     p99          3.798898\n",
       "\n",
       "[24120 rows x 1 columns]>"
      ]
     },
     "execution_count": 4,
     "metadata": {},
     "output_type": "execute_result"
    }
   ],
   "source": [
    "rawdf2 = REEDSInput.copy()\n",
    "\n",
    "#aggregate and sum by scenarios and year to get an annual (bi-annual) installation by scenario\n",
    "df_byregion = pd.DataFrame(rawdf2.groupby(['tech', 'scenario', 'year', 'region'])['Capacity (GW)'].sum())\n",
    "df_byregion.head"
   ]
  },
  {
   "cell_type": "markdown",
   "metadata": {},
   "source": [
    "Multiply the dataframe by the tech factors AC to DC ratio here so that it can be dropped and simplify the df"
   ]
  },
  {
   "cell_type": "code",
   "execution_count": 5,
   "metadata": {},
   "outputs": [],
   "source": [
    "#create a litte dataframe of the factors with index that matches tech names\n",
    "dc_ac = pd.DataFrame({'factor':[1.1,1.3,1.3]}, index=['distpv','dupv','upv'])\n",
    "#multiply techs by DC:AC ratios\n",
    "df_byregion_dc = df_byregion.mul(dc_ac['factor'], level=0, axis='index')"
   ]
  },
  {
   "cell_type": "code",
   "execution_count": 6,
   "metadata": {},
   "outputs": [],
   "source": [
    "#now weight by c-si technology ~85% marketshare\n",
    "c_si = pd.DataFrame({'factor':[1.0,0.85,0.85]}, index=['distpv','dupv','upv']) \n",
    "#distpv = residential, which is pretty much all c-Si, others are utility, so 85%\n",
    "df_byregion_dc_si = df_byregion_dc.mul(c_si['factor'], level=0, axis='index')"
   ]
  },
  {
   "cell_type": "code",
   "execution_count": 7,
   "metadata": {},
   "outputs": [],
   "source": [
    "df_byregion_dc_si_mw = df_byregion_dc_si*1000 #reeds outputs are in GW, so changing to MW for PV ICE"
   ]
  },
  {
   "cell_type": "markdown",
   "metadata": {},
   "source": [
    "Now everything is c-Si in DC, can use groupby sum to combine the techs"
   ]
  },
  {
   "cell_type": "code",
   "execution_count": 8,
   "metadata": {
    "scrolled": false
   },
   "outputs": [
    {
     "data": {
      "text/html": [
       "<div>\n",
       "<style scoped>\n",
       "    .dataframe tbody tr th:only-of-type {\n",
       "        vertical-align: middle;\n",
       "    }\n",
       "\n",
       "    .dataframe tbody tr th {\n",
       "        vertical-align: top;\n",
       "    }\n",
       "\n",
       "    .dataframe thead th {\n",
       "        text-align: right;\n",
       "    }\n",
       "</style>\n",
       "<table border=\"1\" class=\"dataframe\">\n",
       "  <thead>\n",
       "    <tr style=\"text-align: right;\">\n",
       "      <th></th>\n",
       "      <th></th>\n",
       "      <th></th>\n",
       "      <th>new_Installed_Capacity_[MW]</th>\n",
       "    </tr>\n",
       "    <tr>\n",
       "      <th>scenario</th>\n",
       "      <th>year</th>\n",
       "      <th>region</th>\n",
       "      <th></th>\n",
       "    </tr>\n",
       "  </thead>\n",
       "  <tbody>\n",
       "    <tr>\n",
       "      <th rowspan=\"5\" valign=\"top\">a1_RE100</th>\n",
       "      <th rowspan=\"5\" valign=\"top\">2012</th>\n",
       "      <th>p1</th>\n",
       "      <td>5.158000</td>\n",
       "    </tr>\n",
       "    <tr>\n",
       "      <th>p10</th>\n",
       "      <td>314.684500</td>\n",
       "    </tr>\n",
       "    <tr>\n",
       "      <th>p100</th>\n",
       "      <td>0.000000</td>\n",
       "    </tr>\n",
       "    <tr>\n",
       "      <th>p101</th>\n",
       "      <td>21.918750</td>\n",
       "    </tr>\n",
       "    <tr>\n",
       "      <th>p102</th>\n",
       "      <td>4.575500</td>\n",
       "    </tr>\n",
       "    <tr>\n",
       "      <th>...</th>\n",
       "      <th>...</th>\n",
       "      <th>...</th>\n",
       "      <td>...</td>\n",
       "    </tr>\n",
       "    <tr>\n",
       "      <th rowspan=\"5\" valign=\"top\">a1_Ref</th>\n",
       "      <th rowspan=\"5\" valign=\"top\">2050</th>\n",
       "      <th>p95</th>\n",
       "      <td>1477.385354</td>\n",
       "    </tr>\n",
       "    <tr>\n",
       "      <th>p96</th>\n",
       "      <td>877.839139</td>\n",
       "    </tr>\n",
       "    <tr>\n",
       "      <th>p97</th>\n",
       "      <td>1755.434607</td>\n",
       "    </tr>\n",
       "    <tr>\n",
       "      <th>p98</th>\n",
       "      <td>745.414000</td>\n",
       "    </tr>\n",
       "    <tr>\n",
       "      <th>p99</th>\n",
       "      <td>4432.771983</td>\n",
       "    </tr>\n",
       "  </tbody>\n",
       "</table>\n",
       "<p>8040 rows × 1 columns</p>\n",
       "</div>"
      ],
      "text/plain": [
       "                      new_Installed_Capacity_[MW]\n",
       "scenario year region                             \n",
       "a1_RE100 2012 p1                         5.158000\n",
       "              p10                      314.684500\n",
       "              p100                       0.000000\n",
       "              p101                      21.918750\n",
       "              p102                       4.575500\n",
       "...                                           ...\n",
       "a1_Ref   2050 p95                     1477.385354\n",
       "              p96                      877.839139\n",
       "              p97                     1755.434607\n",
       "              p98                      745.414000\n",
       "              p99                     4432.771983\n",
       "\n",
       "[8040 rows x 1 columns]"
      ]
     },
     "execution_count": 8,
     "metadata": {},
     "output_type": "execute_result"
    }
   ],
   "source": [
    "#after multiplying to get dc, sum the installs across techs, to simplify for PCA region analysis\n",
    "df_dc_byregion = pd.DataFrame(df_byregion_dc_si_mw.groupby(['scenario', 'year', 'region'])['Capacity (GW)'].sum()) \n",
    "df_dc_byregion.rename(columns = {'Capacity (GW)':'new_Installed_Capacity_[MW]'}, inplace = True)\n",
    "df_dc_byregion"
   ]
  },
  {
   "cell_type": "markdown",
   "metadata": {},
   "source": [
    "#### Loading Module Baseline. Will be used later to populate all the columsn otehr than 'new_Installed_Capacity_[MW]' which will be supplied by the REEDS model"
   ]
  },
  {
   "cell_type": "code",
   "execution_count": 71,
   "metadata": {},
   "outputs": [
    {
     "name": "stdout",
     "output_type": "stream",
     "text": [
      "path = C:\\Users\\hmirletz\\Documents\\GitHub\\PV_ICE\\PV_ICE\\TEMP\n"
     ]
    },
    {
     "data": {
      "text/html": [
       "<div>\n",
       "<style scoped>\n",
       "    .dataframe tbody tr th:only-of-type {\n",
       "        vertical-align: middle;\n",
       "    }\n",
       "\n",
       "    .dataframe tbody tr th {\n",
       "        vertical-align: top;\n",
       "    }\n",
       "\n",
       "    .dataframe thead th {\n",
       "        text-align: right;\n",
       "    }\n",
       "</style>\n",
       "<table border=\"1\" class=\"dataframe\">\n",
       "  <thead>\n",
       "    <tr style=\"text-align: right;\">\n",
       "      <th></th>\n",
       "      <th>new_Installed_Capacity_[MW]</th>\n",
       "    </tr>\n",
       "    <tr>\n",
       "      <th>year</th>\n",
       "      <th></th>\n",
       "    </tr>\n",
       "  </thead>\n",
       "  <tbody>\n",
       "    <tr>\n",
       "      <th>1995</th>\n",
       "      <td>12.500000</td>\n",
       "    </tr>\n",
       "    <tr>\n",
       "      <th>1996</th>\n",
       "      <td>9.667667</td>\n",
       "    </tr>\n",
       "    <tr>\n",
       "      <th>1997</th>\n",
       "      <td>11.622000</td>\n",
       "    </tr>\n",
       "    <tr>\n",
       "      <th>1998</th>\n",
       "      <td>11.781000</td>\n",
       "    </tr>\n",
       "    <tr>\n",
       "      <th>1999</th>\n",
       "      <td>16.884667</td>\n",
       "    </tr>\n",
       "    <tr>\n",
       "      <th>2000</th>\n",
       "      <td>20.926667</td>\n",
       "    </tr>\n",
       "    <tr>\n",
       "      <th>2001</th>\n",
       "      <td>27.985000</td>\n",
       "    </tr>\n",
       "    <tr>\n",
       "      <th>2002</th>\n",
       "      <td>42.476000</td>\n",
       "    </tr>\n",
       "    <tr>\n",
       "      <th>2003</th>\n",
       "      <td>59.745000</td>\n",
       "    </tr>\n",
       "    <tr>\n",
       "      <th>2004</th>\n",
       "      <td>94.752000</td>\n",
       "    </tr>\n",
       "    <tr>\n",
       "      <th>2005</th>\n",
       "      <td>96.581173</td>\n",
       "    </tr>\n",
       "    <tr>\n",
       "      <th>2006</th>\n",
       "      <td>98.213072</td>\n",
       "    </tr>\n",
       "    <tr>\n",
       "      <th>2007</th>\n",
       "      <td>324.232748</td>\n",
       "    </tr>\n",
       "    <tr>\n",
       "      <th>2008</th>\n",
       "      <td>314.585109</td>\n",
       "    </tr>\n",
       "    <tr>\n",
       "      <th>2009</th>\n",
       "      <td>431.244804</td>\n",
       "    </tr>\n",
       "    <tr>\n",
       "      <th>2010</th>\n",
       "      <td>719.844438</td>\n",
       "    </tr>\n",
       "    <tr>\n",
       "      <th>2011</th>\n",
       "      <td>1781.377078</td>\n",
       "    </tr>\n",
       "    <tr>\n",
       "      <th>2012</th>\n",
       "      <td>3064.162281</td>\n",
       "    </tr>\n",
       "    <tr>\n",
       "      <th>2013</th>\n",
       "      <td>4037.449113</td>\n",
       "    </tr>\n",
       "    <tr>\n",
       "      <th>2014</th>\n",
       "      <td>3722.199485</td>\n",
       "    </tr>\n",
       "    <tr>\n",
       "      <th>2015</th>\n",
       "      <td>6834.328813</td>\n",
       "    </tr>\n",
       "    <tr>\n",
       "      <th>2016</th>\n",
       "      <td>12897.665950</td>\n",
       "    </tr>\n",
       "    <tr>\n",
       "      <th>2017</th>\n",
       "      <td>9784.506215</td>\n",
       "    </tr>\n",
       "    <tr>\n",
       "      <th>2018</th>\n",
       "      <td>9352.529448</td>\n",
       "    </tr>\n",
       "    <tr>\n",
       "      <th>2019</th>\n",
       "      <td>10949.782340</td>\n",
       "    </tr>\n",
       "    <tr>\n",
       "      <th>2020</th>\n",
       "      <td>14903.790000</td>\n",
       "    </tr>\n",
       "  </tbody>\n",
       "</table>\n",
       "</div>"
      ],
      "text/plain": [
       "      new_Installed_Capacity_[MW]\n",
       "year                             \n",
       "1995                    12.500000\n",
       "1996                     9.667667\n",
       "1997                    11.622000\n",
       "1998                    11.781000\n",
       "1999                    16.884667\n",
       "2000                    20.926667\n",
       "2001                    27.985000\n",
       "2002                    42.476000\n",
       "2003                    59.745000\n",
       "2004                    94.752000\n",
       "2005                    96.581173\n",
       "2006                    98.213072\n",
       "2007                   324.232748\n",
       "2008                   314.585109\n",
       "2009                   431.244804\n",
       "2010                   719.844438\n",
       "2011                  1781.377078\n",
       "2012                  3064.162281\n",
       "2013                  4037.449113\n",
       "2014                  3722.199485\n",
       "2015                  6834.328813\n",
       "2016                 12897.665950\n",
       "2017                  9784.506215\n",
       "2018                  9352.529448\n",
       "2019                 10949.782340\n",
       "2020                 14903.790000"
      ]
     },
     "execution_count": 71,
     "metadata": {},
     "output_type": "execute_result"
    }
   ],
   "source": [
    "import PV_ICE\n",
    "r1 = PV_ICE.Simulation(name='Simulation1', path=testfolder)\n",
    "r1.createScenario(name='US', file=r'..\\baselines\\baseline_modules_US_100RE2050.csv')\n",
    "baseline = r1.scenario['US'].data\n",
    "baseline.set_index('year', inplace=True)\n",
    "history = pd.DataFrame(baseline['new_Installed_Capacity_[MW]'].loc[1995:2020]) #preserve historical installs\n",
    "baseline = baseline.drop(columns=['new_Installed_Capacity_[MW]'])\n",
    "baseline.index = pd.PeriodIndex(baseline.index, freq='A')  # A -- Annual\n",
    "history"
   ]
  },
  {
   "cell_type": "markdown",
   "metadata": {},
   "source": [
    "Now join the pca region to the module file and create files by scenario and pca region"
   ]
  },
  {
   "cell_type": "code",
   "execution_count": null,
   "metadata": {},
   "outputs": [],
   "source": [
    "df_odds = df_evens_byscen.copy()\n",
    "df_odds.index = df_odds.index-1 #set the index = one year less\n",
    "#put the evens and odds together, sort by year\n",
    "df_allyrs = pd.concat([df_evens_byscen, df_odds])\n",
    "df_allyrs.sort_index(axis=0, inplace=True)"
   ]
  },
  {
   "cell_type": "code",
   "execution_count": 73,
   "metadata": {},
   "outputs": [],
   "source": [
    "for scenarios in range(len(df_dc_byregion.index.levels[0])): # iterate over the scenarios (3 scenarios)\n",
    "    scenario_name = df_dc_byregion.index.levels[0][scenarios] #assigns the current scenario name to a variable\n",
    "    for pcas in range(len(df_dc_byregion.index.levels[2])): #iterate over pca regions (134 pca regions)\n",
    "        pca = df_dc_byregion.index.levels[2][pcas] #assigns current pca name to a variable\n",
    "        filetitle = scenario_name+'_'+pca +'.csv'\n",
    "        subtestfolder = os.path.join(testfolder, 'ColePCAs')\n",
    "        if not os.path.exists(subtestfolder):\n",
    "            os.makedirs(subtestfolder)\n",
    "        filetitle = os.path.join(subtestfolder, filetitle) #these lines create a folder and file naming structure\n",
    "        \n",
    "        B = df_dc_byregion.xs(scenario_name,level='scenario') #takes cross section by the scenario name\n",
    "        A = B.xs(pca,level='region') #takes cross section by the pca region\n",
    "        A.name = 'new_Installed_Capacity_[MW]' #makes sure the name is right for pv ice\n",
    "        A = pd.DataFrame(A)\n",
    "        A.index=pd.PeriodIndex(A.index, freq='A')\n",
    "        A = pd.DataFrame(A)\n",
    "        # Add other columns\n",
    "        A = pd.concat([A.reindex(baseline.index), baseline], axis=1)\n",
    "        A.update(history) #not working yet\n",
    "        #A.replace((['new_Installed_Capacity_[MW]'][1995:2020]), history, inplace=True)\n",
    "        \n",
    "        header = \"year,new_Installed_Capacity_[MW],mod_eff,mod_reliability_t50,mod_reliability_t90,\"\\\n",
    "    \"mod_degradation,mod_lifetime,mod_MFG_eff,mod_EOL_collection_eff,mod_EOL_collected_recycled,\"\\\n",
    "    \"mod_Repair,mod_MerchantTail,mod_Reuse\\n\"\\\n",
    "    \"year,MW,%,years,years,%,years,%,%,%,%,%,%\\n\"\n",
    "\n",
    "        with open(filetitle, 'w', newline='') as ict:\n",
    "    # Write the header lines, including the index variable for\n",
    "    # the last one if you're letting Pandas produce that for you.\n",
    "    # (see above).\n",
    "            for line in header:\n",
    "                ict.write(line)\n",
    "\n",
    "        #    savedata.to_csv(ict, index=False)\n",
    "            A.to_csv(ict, header=False)\n",
    "        "
   ]
  },
  {
   "cell_type": "code",
   "execution_count": null,
   "metadata": {},
   "outputs": [],
   "source": []
  },
  {
   "cell_type": "markdown",
   "metadata": {},
   "source": [
    "## Save Input Files By States"
   ]
  },
  {
   "cell_type": "markdown",
   "metadata": {},
   "source": [
    "#### Reassign data from REEDS Input, as we need one of the columns we dropped."
   ]
  },
  {
   "cell_type": "code",
   "execution_count": null,
   "metadata": {},
   "outputs": [],
   "source": [
    "rawdf = REEDSInput.copy()\n",
    "#rawdf.drop(columns=['State'], inplace=True)\n",
    "rawdf.drop(columns=['Tech'], inplace=True)\n",
    "rawdf.set_index(['Scenario','Year','PCA', 'State'], inplace=True)\n",
    "rawdf.head(21)\n"
   ]
  },
  {
   "cell_type": "markdown",
   "metadata": {},
   "source": [
    "#### Group data so we can work with the States instead"
   ]
  },
  {
   "cell_type": "code",
   "execution_count": null,
   "metadata": {},
   "outputs": [],
   "source": [
    "#df = rawdf.groupby(['Scenario','State', 'Year'])['Capacity (GW)'].sum(axis=0)\n",
    "df = rawdf.groupby(['Scenario','State', 'Year'])['Capacity (GW)'].sum()\n",
    "df = pd.DataFrame(df)\n",
    "df.head()"
   ]
  },
  {
   "cell_type": "markdown",
   "metadata": {},
   "source": [
    "#### For each Scenario and for each STATE, combine with baseline and save as input file"
   ]
  },
  {
   "cell_type": "code",
   "execution_count": null,
   "metadata": {},
   "outputs": [],
   "source": [
    "for ii in range (len(df.unstack(level=2))):   \n",
    "    STATE = df.unstack(level=2).iloc[ii].name[1]\n",
    "    SCEN = df.unstack(level=2).iloc[ii].name[0]\n",
    "    SCEN=SCEN.replace('+', '_')\n",
    "    filetitle = SCEN+'_'+STATE +'.csv'\n",
    "    \n",
    "    subtestfolder = os.path.join(testfolder, 'STATEs')\n",
    "    if not os.path.exists(subtestfolder):\n",
    "        os.makedirs(subtestfolder)\n",
    "    filetitle = os.path.join(subtestfolder, filetitle)\n",
    "\n",
    "    A = df.unstack(level=2).iloc[ii]\n",
    "    A = A.droplevel(level=0)\n",
    "    A.name = 'new_Installed_Capacity_[MW]'\n",
    "    A = pd.DataFrame(A)\n",
    "    A.index=pd.PeriodIndex(A.index, freq='A')\n",
    "    A = pd.DataFrame(A)\n",
    "    A['new_Installed_Capacity_[MW]'] = A['new_Installed_Capacity_[MW]'] * 0.85 # marketshares['Si']\n",
    "    A['new_Installed_Capacity_[MW]'] = A['new_Installed_Capacity_[MW]'] * 1000   # ReEDS file is in GW.\n",
    "    # Add other columns\n",
    "    A = pd.concat([A, baseline.reindex(A.index)], axis=1)\n",
    "    \n",
    "    \n",
    "    header = \"year,new_Installed_Capacity_[MW],mod_eff,mod_reliability_t50,mod_reliability_t90,\"\\\n",
    "    \"mod_degradation,mod_lifetime,mod_MFG_eff,mod_EOL_collection_eff,mod_EOL_collected_recycled,\"\\\n",
    "    \"mod_Repair,mod_MerchantTail,mod_Reuse\\n\"\\\n",
    "    \"year,MW,%,years,years,%,years,%,%,%,%,%,%\\n\"\n",
    "\n",
    "    with open(filetitle, 'w', newline='') as ict:\n",
    "    # Write the header lines, including the index variable for\n",
    "    # the last one if you're letting Pandas produce that for you.\n",
    "    # (see above).\n",
    "        for line in header:\n",
    "            ict.write(line)\n",
    "\n",
    "        #    savedata.to_csv(ict, index=False)\n",
    "        A.to_csv(ict, header=False)"
   ]
  },
  {
   "cell_type": "markdown",
   "metadata": {},
   "source": [
    "# Saving US Baseline"
   ]
  },
  {
   "cell_type": "markdown",
   "metadata": {},
   "source": [
    "### Create a copy of the REEDS Input and modify structure for PCA focus"
   ]
  },
  {
   "cell_type": "code",
   "execution_count": null,
   "metadata": {},
   "outputs": [],
   "source": [
    "rawdf = REEDSInput.copy()\n",
    "#rawdf.drop(columns=['State'], inplace=True)\n",
    "rawdf.drop(columns=['Tech'], inplace=True)\n",
    "rawdf.set_index(['Scenario','Year'], inplace=True)\n",
    "rawdf.head(21)"
   ]
  },
  {
   "cell_type": "code",
   "execution_count": null,
   "metadata": {},
   "outputs": [],
   "source": [
    "#df = rawdf.groupby(['Scenario','Year'])['Capacity (GW)'].sum(axis=0)\n",
    "df = rawdf.groupby(['Scenario','Year'])['Capacity (GW)'].sum()\n"
   ]
  },
  {
   "cell_type": "markdown",
   "metadata": {},
   "source": [
    "### Loading Module Baseline. Will be used later to populate all the columsn other than 'new_Installed_Capacity_[MW]' which will be supplied by the REEDS model"
   ]
  },
  {
   "cell_type": "code",
   "execution_count": null,
   "metadata": {},
   "outputs": [],
   "source": [
    "import PV_ICE\n",
    "r1 = PV_ICE.Simulation(name='Simulation1', path=testfolder)\n",
    "r1.createScenario(name='US', file=r'..\\baselines\\SolarFutures_2021\\baseline_modules_US_Reeds.csv')\n",
    "baseline = r1.scenario['US'].data\n",
    "baseline = baseline.drop(columns=['new_Installed_Capacity_[MW]'])\n",
    "baseline.set_index('year', inplace=True)\n",
    "baseline.index = pd.PeriodIndex(baseline.index, freq='A')  # A -- Annual\n",
    "baseline.head()"
   ]
  },
  {
   "cell_type": "markdown",
   "metadata": {},
   "source": [
    "### For each Scenario, combine with baseline and save as input file¶"
   ]
  },
  {
   "cell_type": "code",
   "execution_count": null,
   "metadata": {},
   "outputs": [],
   "source": [
    "for ii in range (len(df.unstack(level=1))):\n",
    "    SCEN = df.unstack(level=1).index[ii]\n",
    "    SCEN=SCEN.replace('+', '_')\n",
    "    filetitle = SCEN+'.csv'\n",
    "    \n",
    "    subtestfolder = os.path.join(testfolder, 'USA')\n",
    "    if not os.path.exists(subtestfolder):\n",
    "        os.makedirs(subtestfolder)\n",
    "    filetitle = os.path.join(subtestfolder, filetitle)\n",
    "    \n",
    "    A = df.unstack(level=1).iloc[ii]\n",
    "\n",
    "    A.name = 'new_Installed_Capacity_[MW]'\n",
    "    A = pd.DataFrame(A)\n",
    "    A.index=pd.PeriodIndex(A.index, freq='A')\n",
    "    A = pd.DataFrame(A)\n",
    "    A['new_Installed_Capacity_[MW]'] = A['new_Installed_Capacity_[MW]'] * 0.85 # marketshares['Si']\n",
    "    A['new_Installed_Capacity_[MW]'] = A['new_Installed_Capacity_[MW]'] * 1000   # ReEDS file is in GW.\n",
    "    # Add other columns\n",
    "    A = pd.concat([A, baseline.reindex(A.index)], axis=1)\n",
    "   \n",
    "    header = \"year,new_Installed_Capacity_[MW],mod_eff,mod_reliability_t50,mod_reliability_t90,\"\\\n",
    "    \"mod_degradation,mod_lifetime,mod_MFG_eff,mod_EOL_collection_eff,mod_EOL_collected_recycled,\"\\\n",
    "    \"mod_Repair,mod_MerchantTail,mod_Reuse\\n\"\\\n",
    "    \"year,MW,%,years,years,%,years,%,%,%,%,%,%\\n\"\n",
    "\n",
    "    with open(filetitle, 'w', newline='') as ict:\n",
    "    # Write the header lines, including the index variable for\n",
    "    # the last one if you're letting Pandas produce that for you.\n",
    "    # (see above).\n",
    "        for line in header:\n",
    "            ict.write(line)\n",
    "\n",
    "        #    savedata.to_csv(ict, index=False)\n",
    "        A.to_csv(ict, header=False)"
   ]
  },
  {
   "cell_type": "code",
   "execution_count": null,
   "metadata": {},
   "outputs": [],
   "source": []
  },
  {
   "cell_type": "code",
   "execution_count": null,
   "metadata": {},
   "outputs": [],
   "source": []
  }
 ],
 "metadata": {
  "kernelspec": {
   "display_name": "Python 3",
   "language": "python",
   "name": "python3"
  },
  "language_info": {
   "codemirror_mode": {
    "name": "ipython",
    "version": 3
   },
   "file_extension": ".py",
   "mimetype": "text/x-python",
   "name": "python",
   "nbconvert_exporter": "python",
   "pygments_lexer": "ipython3",
   "version": "3.8.8"
  }
 },
 "nbformat": 4,
 "nbformat_minor": 4
}
