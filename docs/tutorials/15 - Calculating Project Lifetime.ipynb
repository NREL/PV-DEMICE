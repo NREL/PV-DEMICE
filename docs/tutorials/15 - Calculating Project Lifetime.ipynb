{
 "cells": [
  {
   "cell_type": "code",
   "execution_count": 4,
   "id": "8bd79c5a-33af-4bca-bbb5-015c24a77889",
   "metadata": {},
   "outputs": [],
   "source": [
    "import numpy as np\n",
    "import pandas as pd\n",
    "import os,sys\n",
    "from pathlib import Path\n",
    "import matplotlib.pyplot as plt\n",
    "import PV_ICE\n",
    "cwd = os.getcwd() #grabs current working directory"
   ]
  },
  {
   "cell_type": "code",
   "execution_count": 5,
   "id": "7aee5c50-a2e3-4ae7-9400-c11622604841",
   "metadata": {},
   "outputs": [
    {
     "name": "stdout",
     "output_type": "stream",
     "text": [
      "Python version  3.11.5 | packaged by Anaconda, Inc. | (main, Sep 11 2023, 13:26:23) [MSC v.1916 64 bit (AMD64)]\n",
      "Pandas version  2.0.3\n",
      "pyplot  3.7.2\n",
      "PV_ICE version  \n"
     ]
    }
   ],
   "source": [
    "#print(\"Working on a \", platform.system(), platform.release())\n",
    "print(\"Python version \", sys.version)\n",
    "print(\"Pandas version \", pd.__version__)\n",
    "print(\"pyplot \", plt.matplotlib.__version__)\n",
    "print(\"PV_ICE version \", PV_ICE.__version__)"
   ]
  },
  {
   "cell_type": "markdown",
   "id": "1a748f9e-ef62-4443-bc4d-bd03a7834775",
   "metadata": {},
   "source": [
    "# Calculations for Project Life, T10, T50, T90\n",
    "\n",
    "If we assert that ~10% of modules fail before the project lifetime, then this corresponds roughly to the T10 value of a Weibull curve (assuming use of only 1). Additionally, if we assume at End of Life wearout phase that n% of modules will fail within x years, then we have a system of equations that we can solve to create T50 and T90 values for a given project lifetime and End of Life wearout spread.\n",
    "\n",
    "     (ex) TN0 - x years = TM0\n",
    "     and TN0 = -beta*-np.abs(np.log(1-TN0))^(1/alpha)"
   ]
  },
  {
   "cell_type": "markdown",
   "id": "daac4d08-d1ce-484a-bc55-1c05beff75cc",
   "metadata": {},
   "source": [
    "Define functions for calculating module lifetime"
   ]
  },
  {
   "cell_type": "code",
   "execution_count": 6,
   "id": "730afa00-604d-4dea-b363-5d2fd29643a2",
   "metadata": {},
   "outputs": [],
   "source": [
    "def alphabeta2T10T50T90(alpha,beta):\n",
    "    T10 = round(-beta*-np.abs(np.log(0.9))**(1/alpha),2)\n",
    "    T50 = round(-beta*-np.abs(np.log(0.5))**(1/alpha),2)\n",
    "    T90 = round(-beta*-np.abs(np.log(0.1))**(1/alpha),2)\n",
    "    return T10,T50,T90\n",
    "\n",
    "def alphabeta2T10(alpha,beta):\n",
    "    T10 = round(-beta*-np.abs(np.log(0.9))**(1/alpha),2)\n",
    "    return T10\n",
    "\n",
    "def alphabeta2T90(alpha,beta):\n",
    "    T90 = round(-beta*-np.abs(np.log(0.1))**(1/alpha),2)\n",
    "    return T90\n",
    "\n",
    "def projectlife2T50T90(projectlife, N=10, plot=True):\n",
    "    #defaulting the T10 to T90 span to 10 based on Abenante 2018\n",
    "    T10 = projectlife\n",
    "    T90 = T10+N\n",
    "    params = PV_ICE.weibull_params({T10: 0.10, T90: 0.90})\n",
    "    T50 = round(-params['beta']*-np.abs(np.log(0.5))**(1/params['alpha']),2)\n",
    "    if plot==True:\n",
    "        plt.plot(PV_ICE.weibull_cdf_vis(params['alpha'],params['beta']))\n",
    "    return T50,T90"
   ]
  },
  {
   "cell_type": "code",
   "execution_count": 12,
   "id": "d9f53320-d434-4b27-8526-674d095f7458",
   "metadata": {},
   "outputs": [
    {
     "data": {
      "text/html": [
       "<div>\n",
       "<style scoped>\n",
       "    .dataframe tbody tr th:only-of-type {\n",
       "        vertical-align: middle;\n",
       "    }\n",
       "\n",
       "    .dataframe tbody tr th {\n",
       "        vertical-align: top;\n",
       "    }\n",
       "\n",
       "    .dataframe thead th {\n",
       "        text-align: right;\n",
       "    }\n",
       "</style>\n",
       "<table border=\"1\" class=\"dataframe\">\n",
       "  <thead>\n",
       "    <tr style=\"text-align: right;\">\n",
       "      <th></th>\n",
       "      <th>T50</th>\n",
       "      <th>T90</th>\n",
       "      <th>T10</th>\n",
       "    </tr>\n",
       "  </thead>\n",
       "  <tbody>\n",
       "    <tr>\n",
       "      <th>0</th>\n",
       "      <td>16</td>\n",
       "      <td>21</td>\n",
       "      <td>10.44</td>\n",
       "    </tr>\n",
       "    <tr>\n",
       "      <th>1</th>\n",
       "      <td>19</td>\n",
       "      <td>23</td>\n",
       "      <td>14.08</td>\n",
       "    </tr>\n",
       "    <tr>\n",
       "      <th>2</th>\n",
       "      <td>20</td>\n",
       "      <td>25</td>\n",
       "      <td>14.09</td>\n",
       "    </tr>\n",
       "    <tr>\n",
       "      <th>3</th>\n",
       "      <td>21</td>\n",
       "      <td>26</td>\n",
       "      <td>15.02</td>\n",
       "    </tr>\n",
       "    <tr>\n",
       "      <th>4</th>\n",
       "      <td>24</td>\n",
       "      <td>29</td>\n",
       "      <td>17.83</td>\n",
       "    </tr>\n",
       "    <tr>\n",
       "      <th>5</th>\n",
       "      <td>25</td>\n",
       "      <td>30</td>\n",
       "      <td>18.78</td>\n",
       "    </tr>\n",
       "    <tr>\n",
       "      <th>6</th>\n",
       "      <td>28</td>\n",
       "      <td>33</td>\n",
       "      <td>21.64</td>\n",
       "    </tr>\n",
       "    <tr>\n",
       "      <th>7</th>\n",
       "      <td>33</td>\n",
       "      <td>38</td>\n",
       "      <td>26.45</td>\n",
       "    </tr>\n",
       "    <tr>\n",
       "      <th>8</th>\n",
       "      <td>40</td>\n",
       "      <td>44</td>\n",
       "      <td>34.44</td>\n",
       "    </tr>\n",
       "  </tbody>\n",
       "</table>\n",
       "</div>"
      ],
      "text/plain": [
       "   T50  T90    T10\n",
       "0   16   21  10.44\n",
       "1   19   23  14.08\n",
       "2   20   25  14.09\n",
       "3   21   26  15.02\n",
       "4   24   29  17.83\n",
       "5   25   30  18.78\n",
       "6   28   33  21.64\n",
       "7   33   38  26.45\n",
       "8   40   44  34.44"
      ]
     },
     "execution_count": 12,
     "metadata": {},
     "output_type": "execute_result"
    }
   ],
   "source": [
    "T50 = pd.Series([16,19,20,21,24,25,28,33,40])\n",
    "T90 = pd.Series([21,23,25,26,29,30,33,38,44])\n",
    "inputsdf = pd.concat([T50,T90],axis=1, keys=['T50','T90'])\n",
    "\n",
    "for row in inputsdf.index:\n",
    "    t50, t90 = inputsdf.loc[row,'T50'], inputsdf.loc[row,'T90']\n",
    "    params = PV_ICE.weibull_params({t50: 0.50, t90: 0.90})\n",
    "    T10 = alphabeta2T10(params['alpha'],params['beta'])\n",
    "    inputsdf.loc[row,'T10'] = T10\n",
    "inputsdf"
   ]
  },
  {
   "cell_type": "code",
   "execution_count": 9,
   "id": "108354d1-cb3a-4f02-b7d6-92d7780e3d59",
   "metadata": {},
   "outputs": [
    {
     "data": {
      "text/plain": [
       "38.99"
      ]
     },
     "execution_count": 9,
     "metadata": {},
     "output_type": "execute_result"
    }
   ],
   "source": [
    "params = PV_ICE.weibull_params({44.83: 0.50, 49: 0.90})\n",
    "T10 = alphabeta2T10(params['alpha'],params['beta'])\n",
    "T10"
   ]
  },
  {
   "cell_type": "code",
   "execution_count": 10,
   "id": "20221cf6-6cf5-4f0a-bfe3-33b1eb9bc07d",
   "metadata": {},
   "outputs": [
    {
     "data": {
      "text/plain": [
       "20.0"
      ]
     },
     "execution_count": 10,
     "metadata": {},
     "output_type": "execute_result"
    }
   ],
   "source": [
    "alphabeta2T10(5.692,29.697)"
   ]
  },
  {
   "cell_type": "code",
   "execution_count": 11,
   "id": "032e26b0-0e85-42a9-af17-7ca14938541b",
   "metadata": {},
   "outputs": [
    {
     "data": {
      "text/plain": [
       "(44.9, 87.77, 134.56)"
      ]
     },
     "execution_count": 11,
     "metadata": {},
     "output_type": "execute_result"
    }
   ],
   "source": [
    "alphabeta2T10T50T90(2.810,100)"
   ]
  },
  {
   "cell_type": "code",
   "execution_count": 8,
   "id": "78da16af-2afc-473a-955b-b897d92aeb96",
   "metadata": {},
   "outputs": [
    {
     "data": {
      "text/plain": [
       "(34.75, 39)"
      ]
     },
     "execution_count": 8,
     "metadata": {},
     "output_type": "execute_result"
    },
    {
     "data": {
      "image/png": "[encoded data removed]",
      "text/plain": [
       "<Figure size 640x480 with 1 Axes>"
      ]
     },
     "metadata": {},
     "output_type": "display_data"
    }
   ],
   "source": [
    "projectlife2T50T90(29)"
   ]
  },
  {
   "cell_type": "code",
   "execution_count": null,
   "id": "2b1649db-f35d-4ef5-8ff9-ae6af7f6e27b",
   "metadata": {},
   "outputs": [],
   "source": [
    "df_t50t90 = pd.DataFrame()\n",
    "for row in life.index:\n",
    "    T50,T90 = projectlife2T50T90(life.loc[row,'mod_lifetime'])\n",
    "    df_t50t90.loc[row,'T50'] = T50\n",
    "    df_t50t90.loc[row,'T90'] = T90\n",
    "    \n",
    "pd.concat([round(life,0),df_t50t90],axis=1)"
   ]
  }
 ],
 "metadata": {
  "kernelspec": {
   "display_name": "Python 3 (ipykernel)",
   "language": "python",
   "name": "python3"
  },
  "language_info": {
   "codemirror_mode": {
    "name": "ipython",
    "version": 3
   },
   "file_extension": ".py",
   "mimetype": "text/x-python",
   "name": "python",
   "nbconvert_exporter": "python",
   "pygments_lexer": "ipython3",
   "version": "3.11.5"
  }
 },
 "nbformat": 4,
 "nbformat_minor": 5
}
