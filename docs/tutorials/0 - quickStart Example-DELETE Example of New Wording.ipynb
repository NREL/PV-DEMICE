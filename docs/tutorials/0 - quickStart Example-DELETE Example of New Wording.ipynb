{
 "cells": [
  {
   "cell_type": "code",
   "execution_count": 1,
   "metadata": {
    "slideshow": {
     "slide_type": "subslide"
    }
   },
   "outputs": [
    {
     "name": "stdout",
     "output_type": "stream",
     "text": [
      "Your simulation will be stored in C:\\Users\\sayala\\Documents\\GitHub\\PV_ICE\\PV_ICE\\TEMP\n"
     ]
    }
   ],
   "source": [
    "import os\n",
    "from pathlib import Path\n",
    "\n",
    "testfolder = str(Path().resolve().parent.parent / 'PV_ICE' / 'TEMP')\n",
    "\n",
    "# Another option using relative address; for some operative systems you might need '/' instead of '\\'\n",
    "# testfolder = os.path.abspath(r'..\\..\\PV_DEMICE\\TEMP')  \n",
    "\n",
    "print (\"Your simulation will be stored in %s\" % testfolder)"
   ]
  },
  {
   "cell_type": "code",
   "execution_count": 2,
   "metadata": {
    "slideshow": {
     "slide_type": "subslide"
    }
   },
   "outputs": [
    {
     "data": {
      "text/plain": [
       "'v0.2.0+203.g5349e93.dirty'"
      ]
     },
     "execution_count": 2,
     "metadata": {},
     "output_type": "execute_result"
    }
   ],
   "source": [
    "import PV_ICE\n",
    "PV_ICE.__version__"
   ]
  },
  {
   "cell_type": "code",
   "execution_count": null,
   "metadata": {},
   "outputs": [],
   "source": [
    "addMaterials(['glass', 'everything']) broken\n",
    "\n",
    "for mat in materiallist:\n",
    "    addMaterial('glass')"
   ]
  },
  {
   "cell_type": "code",
   "execution_count": 12,
   "metadata": {},
   "outputs": [
    {
     "name": "stdout",
     "output_type": "stream",
     "text": [
      "path = C:\\Users\\sayala\\Documents\\GitHub\\PV_ICE\\PV_ICE\\TEMP\n",
      "Deprecation warning: file has been deprecated as of v 0.3 as an input to class Material and will be fully removed for v 0.4; Use 'massmatfile' instead. \n",
      " Internally renaming as massmatfile to continue\n"
     ]
    }
   ],
   "source": [
    "r1 = PV_ICE.Simulation(name='Simulation1', path=testfolder)\n",
    "r1.createScenario(name='standard', massmodulefile=r'..\\baselines\\baseline_modules_mass_US.csv') # can also be file\n",
    "r1.scenario['standard'].addEnergytoModule(energymodulefile=r'..\\baselines\\baseline_modules_energy.csv')\n",
    "r1.scenario['standard'].addMaterial('glass', massmatfile =r'..\\baselines\\baseline_material_mass_glass.csv') # can also be file\n",
    "r1.scenario['standard'].material['glass'].addEnergytoMaterial(energymatfile=r'..\\baselines\\baseline_material_energy_glass.csv')\n"
   ]
  },
  {
   "cell_type": "code",
   "execution_count": 4,
   "metadata": {},
   "outputs": [
    {
     "name": "stdout",
     "output_type": "stream",
     "text": [
      ">>>> Calculating Material Flows <<<<\n",
      "\n",
      "Working on Scenario:  standard\n",
      "********************\n",
      "Finished Area+Power Generation Calculations\n",
      "==> Working on Material :  glass\n"
     ]
    }
   ],
   "source": [
    "r1.calculateMassFlow()"
   ]
  },
  {
   "cell_type": "code",
   "execution_count": 15,
   "metadata": {},
   "outputs": [
    {
     "name": "stdout",
     "output_type": "stream",
     "text": [
      "\n",
      "\n",
      ">>>> Calculating Energy Flows <<<<\n",
      "\n",
      "Working on Scenario:  standard\n",
      "********************\n",
      "==> Working on Energy for Material :  glass\n"
     ]
    }
   ],
   "source": [
    "r1.calculateEnergyFlow()"
   ]
  },
  {
   "cell_type": "code",
   "execution_count": 14,
   "metadata": {},
   "outputs": [
    {
     "name": "stdout",
     "output_type": "stream",
     "text": [
      ">>>> Calculating Material Flows <<<<\n",
      "\n",
      "Working on Scenario:  standard\n",
      "********************\n",
      "Finished Area+Power Generation Calculations\n",
      "==> Working on Material :  glass\n",
      "\n",
      "\n",
      ">>>> Calculating Energy Flows <<<<\n",
      "\n",
      "Working on Scenario:  standard\n",
      "********************\n",
      "==> Working on Energy for Material :  glass\n"
     ]
    }
   ],
   "source": [
    "r1.calculateFlows()"
   ]
  },
  {
   "cell_type": "code",
   "execution_count": 5,
   "metadata": {},
   "outputs": [
    {
     "data": {
      "text/plain": [
       "Index(['year', 'new_Installed_Capacity_[MW]', 'mod_eff', 'mod_reliability_t50',\n",
       "       'mod_reliability_t90', 'mod_degradation', 'mod_lifetime', 'mod_MFG_eff',\n",
       "       'mod_Repair', 'mod_MerchantTail', 'mod_EOL_collection_eff',\n",
       "       'mod_EOL_pg0_resell', 'mod_EOL_pg1_landfill', 'mod_EOL_pg2_stored',\n",
       "       'mod_EOL_pg3_reMFG', 'mod_EOL_pg4_recycled', 'mod_EOL_reMFG_yield',\n",
       "       'mod_EOL_sp_reMFG_recycle', 'mod_EOL_pb1_landfill',\n",
       "       'mod_EOL_pb2_stored', 'mod_EOL_pb3_reMFG', 'mod_EOL_pb4_recycled'],\n",
       "      dtype='object')"
      ]
     },
     "execution_count": 5,
     "metadata": {},
     "output_type": "execute_result"
    }
   ],
   "source": [
    "r1.scenario['standard'].dataIn_m.keys()\n"
   ]
  },
  {
   "cell_type": "code",
   "execution_count": 6,
   "metadata": {},
   "outputs": [
    {
     "data": {
      "text/plain": [
       "['Area',\n",
       " 'Area_for_EOL_pathsG',\n",
       " 'Cumulative_Active_Area',\n",
       " 'EOL_BS_Year0',\n",
       " 'EOL_BS_Year1',\n",
       " 'EOL_BS_Year10',\n",
       " 'EOL_BS_Year11',\n",
       " 'EOL_BS_Year12',\n",
       " 'EOL_BS_Year13',\n",
       " 'EOL_BS_Year14',\n",
       " 'EOL_BS_Year15',\n",
       " 'EOL_BS_Year16',\n",
       " 'EOL_BS_Year17',\n",
       " 'EOL_BS_Year18',\n",
       " 'EOL_BS_Year19',\n",
       " 'EOL_BS_Year2',\n",
       " 'EOL_BS_Year20',\n",
       " 'EOL_BS_Year21',\n",
       " 'EOL_BS_Year22',\n",
       " 'EOL_BS_Year23',\n",
       " 'EOL_BS_Year24',\n",
       " 'EOL_BS_Year25',\n",
       " 'EOL_BS_Year26',\n",
       " 'EOL_BS_Year27',\n",
       " 'EOL_BS_Year28',\n",
       " 'EOL_BS_Year29',\n",
       " 'EOL_BS_Year3',\n",
       " 'EOL_BS_Year30',\n",
       " 'EOL_BS_Year31',\n",
       " 'EOL_BS_Year32',\n",
       " 'EOL_BS_Year33',\n",
       " 'EOL_BS_Year34',\n",
       " 'EOL_BS_Year35',\n",
       " 'EOL_BS_Year36',\n",
       " 'EOL_BS_Year37',\n",
       " 'EOL_BS_Year38',\n",
       " 'EOL_BS_Year39',\n",
       " 'EOL_BS_Year4',\n",
       " 'EOL_BS_Year40',\n",
       " 'EOL_BS_Year41',\n",
       " 'EOL_BS_Year42',\n",
       " 'EOL_BS_Year43',\n",
       " 'EOL_BS_Year44',\n",
       " 'EOL_BS_Year45',\n",
       " 'EOL_BS_Year46',\n",
       " 'EOL_BS_Year47',\n",
       " 'EOL_BS_Year48',\n",
       " 'EOL_BS_Year49',\n",
       " 'EOL_BS_Year5',\n",
       " 'EOL_BS_Year50',\n",
       " 'EOL_BS_Year51',\n",
       " 'EOL_BS_Year52',\n",
       " 'EOL_BS_Year53',\n",
       " 'EOL_BS_Year54',\n",
       " 'EOL_BS_Year55',\n",
       " 'EOL_BS_Year6',\n",
       " 'EOL_BS_Year7',\n",
       " 'EOL_BS_Year8',\n",
       " 'EOL_BS_Year9',\n",
       " 'EOL_BadStatus',\n",
       " 'EOL_L0_Year_0',\n",
       " 'EOL_L0_Year_1',\n",
       " 'EOL_L0_Year_10',\n",
       " 'EOL_L0_Year_11',\n",
       " 'EOL_L0_Year_12',\n",
       " 'EOL_L0_Year_13',\n",
       " 'EOL_L0_Year_14',\n",
       " 'EOL_L0_Year_15',\n",
       " 'EOL_L0_Year_16',\n",
       " 'EOL_L0_Year_17',\n",
       " 'EOL_L0_Year_18',\n",
       " 'EOL_L0_Year_19',\n",
       " 'EOL_L0_Year_2',\n",
       " 'EOL_L0_Year_20',\n",
       " 'EOL_L0_Year_21',\n",
       " 'EOL_L0_Year_22',\n",
       " 'EOL_L0_Year_23',\n",
       " 'EOL_L0_Year_24',\n",
       " 'EOL_L0_Year_25',\n",
       " 'EOL_L0_Year_26',\n",
       " 'EOL_L0_Year_27',\n",
       " 'EOL_L0_Year_28',\n",
       " 'EOL_L0_Year_29',\n",
       " 'EOL_L0_Year_3',\n",
       " 'EOL_L0_Year_30',\n",
       " 'EOL_L0_Year_31',\n",
       " 'EOL_L0_Year_32',\n",
       " 'EOL_L0_Year_33',\n",
       " 'EOL_L0_Year_34',\n",
       " 'EOL_L0_Year_35',\n",
       " 'EOL_L0_Year_36',\n",
       " 'EOL_L0_Year_37',\n",
       " 'EOL_L0_Year_38',\n",
       " 'EOL_L0_Year_39',\n",
       " 'EOL_L0_Year_4',\n",
       " 'EOL_L0_Year_40',\n",
       " 'EOL_L0_Year_41',\n",
       " 'EOL_L0_Year_42',\n",
       " 'EOL_L0_Year_43',\n",
       " 'EOL_L0_Year_44',\n",
       " 'EOL_L0_Year_45',\n",
       " 'EOL_L0_Year_46',\n",
       " 'EOL_L0_Year_47',\n",
       " 'EOL_L0_Year_48',\n",
       " 'EOL_L0_Year_49',\n",
       " 'EOL_L0_Year_5',\n",
       " 'EOL_L0_Year_50',\n",
       " 'EOL_L0_Year_51',\n",
       " 'EOL_L0_Year_52',\n",
       " 'EOL_L0_Year_53',\n",
       " 'EOL_L0_Year_54',\n",
       " 'EOL_L0_Year_55',\n",
       " 'EOL_L0_Year_6',\n",
       " 'EOL_L0_Year_7',\n",
       " 'EOL_L0_Year_8',\n",
       " 'EOL_L0_Year_9',\n",
       " 'EOL_Landfill0',\n",
       " 'EOL_PATHS',\n",
       " 'EOL_PG',\n",
       " 'EOL_PG_Year_0',\n",
       " 'EOL_PG_Year_1',\n",
       " 'EOL_PG_Year_10',\n",
       " 'EOL_PG_Year_11',\n",
       " 'EOL_PG_Year_12',\n",
       " 'EOL_PG_Year_13',\n",
       " 'EOL_PG_Year_14',\n",
       " 'EOL_PG_Year_15',\n",
       " 'EOL_PG_Year_16',\n",
       " 'EOL_PG_Year_17',\n",
       " 'EOL_PG_Year_18',\n",
       " 'EOL_PG_Year_19',\n",
       " 'EOL_PG_Year_2',\n",
       " 'EOL_PG_Year_20',\n",
       " 'EOL_PG_Year_21',\n",
       " 'EOL_PG_Year_22',\n",
       " 'EOL_PG_Year_23',\n",
       " 'EOL_PG_Year_24',\n",
       " 'EOL_PG_Year_25',\n",
       " 'EOL_PG_Year_26',\n",
       " 'EOL_PG_Year_27',\n",
       " 'EOL_PG_Year_28',\n",
       " 'EOL_PG_Year_29',\n",
       " 'EOL_PG_Year_3',\n",
       " 'EOL_PG_Year_30',\n",
       " 'EOL_PG_Year_31',\n",
       " 'EOL_PG_Year_32',\n",
       " 'EOL_PG_Year_33',\n",
       " 'EOL_PG_Year_34',\n",
       " 'EOL_PG_Year_35',\n",
       " 'EOL_PG_Year_36',\n",
       " 'EOL_PG_Year_37',\n",
       " 'EOL_PG_Year_38',\n",
       " 'EOL_PG_Year_39',\n",
       " 'EOL_PG_Year_4',\n",
       " 'EOL_PG_Year_40',\n",
       " 'EOL_PG_Year_41',\n",
       " 'EOL_PG_Year_42',\n",
       " 'EOL_PG_Year_43',\n",
       " 'EOL_PG_Year_44',\n",
       " 'EOL_PG_Year_45',\n",
       " 'EOL_PG_Year_46',\n",
       " 'EOL_PG_Year_47',\n",
       " 'EOL_PG_Year_48',\n",
       " 'EOL_PG_Year_49',\n",
       " 'EOL_PG_Year_5',\n",
       " 'EOL_PG_Year_50',\n",
       " 'EOL_PG_Year_51',\n",
       " 'EOL_PG_Year_52',\n",
       " 'EOL_PG_Year_53',\n",
       " 'EOL_PG_Year_54',\n",
       " 'EOL_PG_Year_55',\n",
       " 'EOL_PG_Year_6',\n",
       " 'EOL_PG_Year_7',\n",
       " 'EOL_PG_Year_8',\n",
       " 'EOL_PG_Year_9',\n",
       " 'Installed_Capacity_[W]',\n",
       " 'Landfill_0',\n",
       " 'ModuleTotal_MFG',\n",
       " 'P2_stored',\n",
       " 'P3_reMFG',\n",
       " 'P4_recycled',\n",
       " 'PB1_landfill',\n",
       " 'PB2_stored',\n",
       " 'PB3_reMFG',\n",
       " 'PB3_reMFG_unyield',\n",
       " 'PB3_reMFG_yield',\n",
       " 'PB4_recycled',\n",
       " 'PG1_landfill',\n",
       " 'PG2_stored',\n",
       " 'PG3_reMFG',\n",
       " 'PG3_reMFG_unyield',\n",
       " 'PG3_reMFG_yield',\n",
       " 'PG4_recycled',\n",
       " 'Power_for_EOL_pathsG',\n",
       " 'Repaired_Area',\n",
       " 'Repaired_[W]',\n",
       " 'Resold_Area',\n",
       " 'Resold_[W]',\n",
       " 'Status_BAD_Area',\n",
       " 'Status_BAD_[W]',\n",
       " 'WeibullParams',\n",
       " 'Yearly_Sum_Area_disposed',\n",
       " 'Yearly_Sum_Area_disposedby_Failure',\n",
       " 'Yearly_Sum_Area_disposedby_ProjectLifetime',\n",
       " 'Yearly_Sum_Power_disposed',\n",
       " 'Yearly_Sum_Power_disposedby_Failure',\n",
       " 'Yearly_Sum_Power_disposedby_ProjectLifetime',\n",
       " 'irradiance_stc',\n",
       " 'landfilled_noncollected']"
      ]
     },
     "execution_count": 6,
     "metadata": {},
     "output_type": "execute_result"
    }
   ],
   "source": [
    "list(r1.scenario['standard'].dataOut_m.keys())"
   ]
  },
  {
   "cell_type": "code",
   "execution_count": 16,
   "metadata": {},
   "outputs": [
    {
     "data": {
      "text/plain": [
       "['mod_MFG',\n",
       " 'mod_Install',\n",
       " 'mod_OandM',\n",
       " 'mod_Repair',\n",
       " 'mod_Demount',\n",
       " 'mod_Store',\n",
       " 'mod_Resell_Certify',\n",
       " 'mod_ReMFG_Disassembly',\n",
       " 'mod_Recycle_Crush',\n",
       " 'e_out_annual_[Wh]']"
      ]
     },
     "execution_count": 16,
     "metadata": {},
     "output_type": "execute_result"
    }
   ],
   "source": [
    "list(r1.scenario['standard'].dataOut_e.keys())"
   ]
  },
  {
   "cell_type": "code",
   "execution_count": 19,
   "metadata": {},
   "outputs": [
    {
     "data": {
      "text/plain": [
       "['year',\n",
       " 'mat_virgin_eff',\n",
       " 'mat_massperm2',\n",
       " 'mat_MFG_eff',\n",
       " 'mat_MFG_scrap_Recycled',\n",
       " 'mat_MFG_scrap_Recycling_eff',\n",
       " 'mat_MFG_scrap_Recycled_into_HQ',\n",
       " 'mat_MFG_scrap_Recycled_into_HQ_Reused4MFG',\n",
       " 'mat_PG3_ReMFG_target',\n",
       " 'mat_ReMFG_yield',\n",
       " 'mat_PG4_Recycling_target',\n",
       " 'mat_Recycling_yield',\n",
       " 'mat_EOL_Recycled_into_HQ',\n",
       " 'mat_EOL_RecycledHQ_Reused4MFG']"
      ]
     },
     "execution_count": 19,
     "metadata": {},
     "output_type": "execute_result"
    }
   ],
   "source": [
    "list(r1.scenario['standard'].material['glass'].matdataIn_m.keys())"
   ]
  },
  {
   "cell_type": "code",
   "execution_count": 17,
   "metadata": {},
   "outputs": [
    {
     "data": {
      "text/plain": [
       "['mat_EOL_Recycled_2_HQ',\n",
       " 'mat_EOL_Recycled_2_OQ',\n",
       " 'mat_EOL_Recycled_HQ_into_MFG',\n",
       " 'mat_EOL_Recycled_HQ_into_OU',\n",
       " 'mat_EnteringModuleManufacturing_total',\n",
       " 'mat_EnteringModuleManufacturing_virgin',\n",
       " 'mat_L0',\n",
       " 'mat_L1',\n",
       " 'mat_L2',\n",
       " 'mat_L3',\n",
       " 'mat_L4',\n",
       " 'mat_LostinModuleManufacturing',\n",
       " 'mat_MFG_Recycled_HQ_into_MFG',\n",
       " 'mat_MFG_Recycled_HQ_into_OU',\n",
       " 'mat_MFG_Recycled_into_HQ',\n",
       " 'mat_MFG_Recycled_into_OQ',\n",
       " 'mat_MFG_Scrap',\n",
       " 'mat_MFG_Scrap_Landfilled',\n",
       " 'mat_MFG_Scrap_Recycled_Losses_Landfilled',\n",
       " 'mat_MFG_Scrap_Recycled_Successfully',\n",
       " 'mat_MFG_Scrap_Sentto_Recycling',\n",
       " 'mat_Manufacturing_Input',\n",
       " 'mat_PG2_stored',\n",
       " 'mat_Total_EOL_Landfilled',\n",
       " 'mat_Total_Landfilled',\n",
       " 'mat_Total_MFG_Landfilled',\n",
       " 'mat_Total_Recycled_OU',\n",
       " 'mat_UsedSuccessfullyinModuleManufacturing',\n",
       " 'mat_Virgin_Stock',\n",
       " 'mat_Virgin_Stock_Raw',\n",
       " 'mat_reMFG',\n",
       " 'mat_reMFG_2_recycle',\n",
       " 'mat_reMFG_all_unyields',\n",
       " 'mat_reMFG_mod_unyield',\n",
       " 'mat_reMFG_target',\n",
       " 'mat_reMFG_untarget',\n",
       " 'mat_reMFG_unyield',\n",
       " 'mat_reMFG_yield',\n",
       " 'mat_recycled_PG4',\n",
       " 'mat_recycled_all',\n",
       " 'mat_recycled_target',\n",
       " 'mat_recycled_yield']"
      ]
     },
     "execution_count": 17,
     "metadata": {},
     "output_type": "execute_result"
    }
   ],
   "source": [
    "list(r1.scenario['standard'].material['glass'].matdataOut_m.keys())"
   ]
  },
  {
   "cell_type": "code",
   "execution_count": 20,
   "metadata": {},
   "outputs": [
    {
     "data": {
      "text/plain": [
       "['year',\n",
       " 'e_mat_extraction',\n",
       " 'e_mat_MFG',\n",
       " 'e_mat_MFG_fuelfraction',\n",
       " 'e_mat_MFGScrap_LQ',\n",
       " 'e_mat_MFGScrap_HQ',\n",
       " 'e_mat_Landfill',\n",
       " 'e_mat_Landfill_fuelfraction',\n",
       " 'e_mat_EoL_ReMFG_clean',\n",
       " 'e_mat_Recycled_LQ',\n",
       " 'e_mat_Recycled_HQ']"
      ]
     },
     "execution_count": 20,
     "metadata": {},
     "output_type": "execute_result"
    }
   ],
   "source": [
    "list(r1.scenario['standard'].material['glass'].matdataIn_e.keys())"
   ]
  },
  {
   "cell_type": "code",
   "execution_count": 18,
   "metadata": {},
   "outputs": [
    {
     "data": {
      "text/plain": [
       "['mat_extraction',\n",
       " 'mat_MFG_virgin',\n",
       " 'mat_MFGScrap_LQ',\n",
       " 'mat_MFGScrap_HQ',\n",
       " 'mat_Landfill',\n",
       " 'mat_EoL_ReMFG_clean',\n",
       " 'mat_Recycled_LQ',\n",
       " 'mat_Recycled_HQ']"
      ]
     },
     "execution_count": 18,
     "metadata": {},
     "output_type": "execute_result"
    }
   ],
   "source": [
    "list(r1.scenario['standard'].material['glass'].matdataOut_e.keys())"
   ]
  },
  {
   "cell_type": "code",
   "execution_count": 11,
   "metadata": {},
   "outputs": [
    {
     "data": {
      "text/plain": [
       "['materialname',\n",
       " 'massmatfile',\n",
       " 'matmetdataIn_m',\n",
       " 'matdataIn_m',\n",
       " 'energymatfile',\n",
       " 'matmetdataIn_e',\n",
       " 'matdataIn_e',\n",
       " 'matdataOut_m',\n",
       " 'matdataOut_e']"
      ]
     },
     "execution_count": 11,
     "metadata": {},
     "output_type": "execute_result"
    }
   ],
   "source": [
    "list(r1.scenario['standard'].material['glass'].__dict__)"
   ]
  },
  {
   "cell_type": "code",
   "execution_count": 21,
   "metadata": {},
   "outputs": [
    {
     "data": {
      "text/plain": [
       "'..\\\\baselines\\\\baseline_material_mass_glass.csv'"
      ]
     },
     "execution_count": 21,
     "metadata": {},
     "output_type": "execute_result"
    }
   ],
   "source": [
    "r1.scenario['standard'].material['glass'].massmatfile"
   ]
  }
 ],
 "metadata": {
  "kernelspec": {
   "display_name": "Python 3 (ipykernel)",
   "language": "python",
   "name": "python3"
  },
  "language_info": {
   "codemirror_mode": {
    "name": "ipython",
    "version": 3
   },
   "file_extension": ".py",
   "mimetype": "text/x-python",
   "name": "python",
   "nbconvert_exporter": "python",
   "pygments_lexer": "ipython3",
   "version": "3.8.8"
  }
 },
 "nbformat": 4,
 "nbformat_minor": 2
}
