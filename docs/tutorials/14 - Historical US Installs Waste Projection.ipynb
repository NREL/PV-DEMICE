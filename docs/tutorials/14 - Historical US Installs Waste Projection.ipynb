{
 "cells": [
  {
   "cell_type": "markdown",
   "metadata": {},
   "source": [
    "# 1 - Estimate when US Installs will reach EoL\n",
    "\n",
    "\n",
    "Historical installations for U.S. Utility and non-Residential sector was calculated from\n",
    "1. L. Sherwood, “U.S. Solar Market Trends 2008,” Interstate Renewable Energy Council, Jul. 2009. Accessed: Sep. 15, 2021. [Online]. Available: https://irecusa.org/wp-content/uploads/2021/07/Solar-Market-Trends-2008.pdf\n",
    "2. All Sherwood reports 2009-2014 for 1999 through 2009\n",
    "3. Wood Mackenzie Data from 2010 forward.\n",
    "4. “U.S. Solar Market Insight Report: 2012 Year in Review Full Report,” Greentech Media Inc. & SEIA, 2013 as a sanity check.\n",
    "The calculations to select for only these 2 sectors and weight for c-Si can be found in Supporting Materials folder, files \"Calculations-Installs-Subset-CommUtility.xlsx\", \"Installs-SubsetCommUtility.xlsx\", and \"Installs-SubsetCommUtility.csv\".\n",
    "\n",
    "These installations where then put into a module file. Installations after 2020 are set to 0, manufacturing efficiency is set to 100, and all circular EoL pathways are set to 0, sending all EoL material to the landfill. All lifetime and reliability, module efficiencies, and module degradation rates are taken from PV ICE baseline. The purpose of this calculation is to estimate when currently installed PV modules will come out of the field and need to be managed at EoL.\n"
   ]
  },
  {
   "cell_type": "markdown",
   "metadata": {},
   "source": [
    "This analysis conducted for Taylor Curtis"
   ]
  },
  {
   "cell_type": "code",
   "execution_count": 1,
   "metadata": {},
   "outputs": [
    {
     "name": "stdout",
     "output_type": "stream",
     "text": [
      "Your simulation will be stored in C:\\Users\\hmirletz\\Documents\\GitHub\\PV_ICE\\PV_ICE\\TEMP\n"
     ]
    }
   ],
   "source": [
    "import os\n",
    "from pathlib import Path\n",
    "import PV_ICE\n",
    "import matplotlib.pyplot as plt\n",
    "import pandas as pd\n",
    "import numpy as np\n",
    "\n",
    "testfolder = str(Path().resolve().parent.parent / 'PV_ICE' / 'TEMP')\n",
    "\n",
    "# Another option using relative address; for some operative systems you might need '/' instead of '\\'\n",
    "# testfolder = os.path.abspath(r'..\\..\\PV_DEMICE\\TEMP')  \n",
    "\n",
    "print (\"Your simulation will be stored in %s\" % testfolder)"
   ]
  },
  {
   "cell_type": "code",
   "execution_count": 2,
   "metadata": {},
   "outputs": [
    {
     "data": {
      "text/plain": [
       "'v0.2.0+133.g7ee59f6.dirty'"
      ]
     },
     "execution_count": 2,
     "metadata": {},
     "output_type": "execute_result"
    }
   ],
   "source": [
    "PV_ICE.__version__"
   ]
  },
  {
   "cell_type": "markdown",
   "metadata": {},
   "source": [
    "### Add Scenarios and Materials\n"
   ]
  },
  {
   "cell_type": "code",
   "execution_count": 3,
   "metadata": {},
   "outputs": [
    {
     "name": "stdout",
     "output_type": "stream",
     "text": [
      "C:\\Users\\hmirletz\\Documents\\GitHub\\PV_ICE\\docs\\tutorials\n"
     ]
    }
   ],
   "source": [
    "cwd=os.getcwd()\n",
    "print(os.getcwd())"
   ]
  },
  {
   "cell_type": "code",
   "execution_count": 4,
   "metadata": {
    "scrolled": false
   },
   "outputs": [],
   "source": [
    "MATERIALS = ['glass']#,'aluminium_frames','silver','silicon', 'copper', 'encapsulant', 'backsheet']\n",
    "MATERIAL = MATERIALS[0]\n",
    "moduleFile = r'..\\baselines\\baseline_modules_US_HistoryUtilCommOnly_dev.csv'"
   ]
  },
  {
   "cell_type": "code",
   "execution_count": 5,
   "metadata": {},
   "outputs": [
    {
     "name": "stdout",
     "output_type": "stream",
     "text": [
      "path = C:\\Users\\hmirletz\\Documents\\GitHub\\PV_ICE\\PV_ICE\\TEMP\n"
     ]
    }
   ],
   "source": [
    "r1 = PV_ICE.Simulation(name='Simulation1', path=testfolder)\n",
    "r1.createScenario(name='USHistory', file=moduleFile)\n",
    "for mat in range (0, len(MATERIALS)):\n",
    "    MATERIALBASELINE = r'..\\baselines\\baseline_material_'+MATERIALS[mat]+'_dev.csv'\n",
    "    r1.scenario['USHistory'].addMaterial(MATERIALS[mat], file=MATERIALBASELINE)"
   ]
  },
  {
   "cell_type": "markdown",
   "metadata": {},
   "source": [
    "### Set All Material Virgin, MFG, and circularity to 0\n",
    "\n",
    "The effective this will be to neglect all inefficiencies in the extraction and manufacturing process, looking at just the PV module material coming out of the field, and assuming it all goes to the landfill."
   ]
  },
  {
   "cell_type": "code",
   "execution_count": 6,
   "metadata": {},
   "outputs": [
    {
     "data": {
      "text/plain": [
       "Index(['year', 'mat_virgin_eff', 'mat_massperm2', 'mat_MFG_eff',\n",
       "       'mat_MFG_scrap_Recycled', 'mat_MFG_scrap_Recycling_eff',\n",
       "       'mat_MFG_scrap_Recycled_into_HQ',\n",
       "       'mat_MFG_scrap_Recycled_into_HQ_Reused4MFG', 'mat_PG3_ReMFG_target',\n",
       "       'mat_ReMFG_yield', 'mat_PG4_Recycling_target', 'mat_Recycling_yield',\n",
       "       'mat_EOL_Recycled_into_HQ', 'mat_EOL_RecycledHQ_Reused4MFG'],\n",
       "      dtype='object')"
      ]
     },
     "execution_count": 6,
     "metadata": {},
     "output_type": "execute_result"
    }
   ],
   "source": [
    " r1.scenario['USHistory'].material['glass'].materialdata.keys()"
   ]
  },
  {
   "cell_type": "code",
   "execution_count": 7,
   "metadata": {},
   "outputs": [],
   "source": [
    "#list of material recycling variables\n",
    "RecyclingPaths = ['mat_MFG_scrap_Recycled', 'mat_MFG_scrap_Recycled_into_HQ', 'mat_MFG_scrap_Recycled_into_HQ_Reused4MFG', 'mat_EOL_collected_Recycled', 'mat_EOL_Recycled_into_HQ', 'mat_EoL_Recycled_HQ_into_MFG']\n",
    "RecyclingYields = ['mat_MFG_scrap_Recycling_eff', 'mat_EOL_Recycling_eff']"
   ]
  },
  {
   "cell_type": "code",
   "execution_count": 8,
   "metadata": {},
   "outputs": [],
   "source": [
    "for mat in range (0, len(MATERIALS)):\n",
    "    r1.scenario['USHistory'].material[MATERIALS[mat]].materialdata['mat_virgin_eff'] = 100.0\n",
    "    r1.scenario['USHistory'].material[MATERIALS[mat]].materialdata['mat_MFG_eff'] = 100.0\n",
    "    for var in range (0,len(RecyclingPaths)):\n",
    "        r1.scenario['USHistory'].material[MATERIALS[mat]].materialdata[RecyclingPaths[var]] = 0.0\n",
    "    for ylds in range(0,len(RecyclingYields)):\n",
    "        r1.scenario['USHistory'].material[MATERIALS[mat]].materialdata[RecyclingYields[ylds]] = 0.0"
   ]
  },
  {
   "cell_type": "markdown",
   "metadata": {},
   "source": [
    "### Run the Mass Flow Calculations on All Scenarios and Materials"
   ]
  },
  {
   "cell_type": "code",
   "execution_count": 9,
   "metadata": {},
   "outputs": [
    {
     "name": "stdout",
     "output_type": "stream",
     "text": [
      "Working on Scenario:  USHistory\n",
      "********************\n",
      "Finished Area+Power Generation Calculations\n",
      "==> Working on Material :  glass\n"
     ]
    }
   ],
   "source": [
    "r1.calculateMassFlow()\n"
   ]
  },
  {
   "cell_type": "markdown",
   "metadata": {},
   "source": [
    "###  Use internal plotting functions to plot results"
   ]
  },
  {
   "cell_type": "markdown",
   "metadata": {},
   "source": [
    "Pull out the keywords by printing the keys to the module data or the material data:\n",
    "\n",
    "    print(r1.scenario.keys())\n",
    "    \n",
    "    print(r1.scenario['standard'].data.keys())\n",
    "    \n",
    "    print(r1.scenario['standard'].material['glass'].materialdata.keys())"
   ]
  },
  {
   "cell_type": "code",
   "execution_count": 10,
   "metadata": {},
   "outputs": [
    {
     "name": "stdout",
     "output_type": "stream",
     "text": [
      "Index(['year', 'mat_virgin_eff', 'mat_massperm2', 'mat_MFG_eff',\n",
      "       'mat_MFG_scrap_Recycled', 'mat_MFG_scrap_Recycling_eff',\n",
      "       'mat_MFG_scrap_Recycled_into_HQ',\n",
      "       'mat_MFG_scrap_Recycled_into_HQ_Reused4MFG', 'mat_PG3_ReMFG_target',\n",
      "       'mat_ReMFG_yield', 'mat_PG4_Recycling_target', 'mat_Recycling_yield',\n",
      "       'mat_EOL_Recycled_into_HQ', 'mat_EOL_RecycledHQ_Reused4MFG',\n",
      "       'mat_EOL_collected_Recycled', 'mat_EoL_Recycled_HQ_into_MFG',\n",
      "       'mat_EOL_Recycling_eff', 'mat_L0', 'mat_PG2_stored', 'mat_L1',\n",
      "       'mat_reMFG', 'mat_reMFG_mod_unyield', 'mat_reMFG_target',\n",
      "       'mat_reMFG_untarget', 'mat_reMFG_yield', 'mat_reMFG_unyield',\n",
      "       'mat_reMFG_all_unyields', 'mat_reMFG_2_recycle', 'mat_L2',\n",
      "       'mat_recycled_PG4', 'mat_recycled_all', 'mat_recycled_target', 'mat_L3',\n",
      "       'mat_recycled_yield', 'mat_L4', 'mat_EOL_Recycled_2_HQ',\n",
      "       'mat_EOL_Recycled_2_OQ', 'mat_EOL_Recycled_HQ_into_MFG',\n",
      "       'mat_EOL_Recycled_HQ_into_OU', 'mat_EnteringModuleManufacturing_total',\n",
      "       'mat_UsedSuccessfullyinModuleManufacturing',\n",
      "       'mat_LostinModuleManufacturing',\n",
      "       'mat_EnteringModuleManufacturing_virgin', 'mat_Manufacturing_Input',\n",
      "       'mat_MFG_Scrap', 'mat_MFG_Scrap_Sentto_Recycling',\n",
      "       'mat_MFG_Scrap_Landfilled', 'mat_MFG_Scrap_Recycled_Successfully',\n",
      "       'mat_MFG_Scrap_Recycled_Losses_Landfilled', 'mat_MFG_Recycled_into_HQ',\n",
      "       'mat_MFG_Recycled_into_OQ', 'mat_MFG_Recycled_HQ_into_MFG',\n",
      "       'mat_MFG_Recycled_HQ_into_OU', 'mat_Virgin_Stock',\n",
      "       'mat_Virgin_Stock_Raw', 'mat_Total_EOL_Landfilled',\n",
      "       'mat_Total_MFG_Landfilled', 'mat_Total_Landfilled',\n",
      "       'mat_Total_Recycled_OU'],\n",
      "      dtype='object')\n"
     ]
    }
   ],
   "source": [
    "#print(r1.scenario.keys())\n",
    "#print(r1.scenario['USHistory'].data.keys())\n",
    "print(r1.scenario['USHistory'].material['glass'].materialdata.keys())"
   ]
  },
  {
   "cell_type": "code",
   "execution_count": 12,
   "metadata": {
    "scrolled": false
   },
   "outputs": [
    {
     "name": "stdout",
     "output_type": "stream",
     "text": [
      "Warning: Keyword / Units not Found\n"
     ]
    },
    {
     "data": {
      "image/png": "[encoded data removed]",
      "text/plain": [
       "<Figure size 432x288 with 1 Axes>"
      ]
     },
     "metadata": {
      "needs_background": "light"
     },
     "output_type": "display_data"
    }
   ],
   "source": [
    "r1.plotScenariosComparison(keyword='Yearly_Sum_Area_disposed')"
   ]
  },
  {
   "cell_type": "code",
   "execution_count": 16,
   "metadata": {},
   "outputs": [
    {
     "data": {
      "image/png": "[encoded data removed]",
      "text/plain": [
       "<Figure size 432x288 with 1 Axes>"
      ]
     },
     "metadata": {
      "needs_background": "light"
     },
     "output_type": "display_data"
    }
   ],
   "source": [
    "r1.plotMaterialComparisonAcrossScenarios(material='glass', keyword='mat_Total_MFG_Landfilled')"
   ]
  },
  {
   "cell_type": "code",
   "execution_count": 14,
   "metadata": {},
   "outputs": [
    {
     "data": {
      "text/plain": [
       "Text(0, 0.5, 'Installed Cap [W]')"
      ]
     },
     "execution_count": 14,
     "metadata": {},
     "output_type": "execute_result"
    },
    {
     "data": {
      "image/png": "[encoded data removed]",
      "text/plain": [
       "<Figure size 432x288 with 1 Axes>"
      ]
     },
     "metadata": {
      "needs_background": "light"
     },
     "output_type": "display_data"
    }
   ],
   "source": [
    "plt.plot(r1.scenario['USHistory'].data['year'], \n",
    "         r1.scenario['USHistory'].data['Installed_Capacity_[W]'], label='Installed [W]')\n",
    "\n",
    "plt.title('Installed Capacity Annually')\n",
    "plt.ylabel('Installed Cap [W]')"
   ]
  },
  {
   "cell_type": "code",
   "execution_count": 17,
   "metadata": {},
   "outputs": [],
   "source": [
    "usyearlyr1, uscumr1 = r1.aggregateResults()\n",
    "usyearlyr1.to_csv('r1-usyearly-func.csv')\n",
    "uscumr1.to_csv('r1-uscum-func.csv')"
   ]
  },
  {
   "cell_type": "markdown",
   "metadata": {},
   "source": [
    "## Pretty Plots"
   ]
  },
  {
   "cell_type": "code",
   "execution_count": 18,
   "metadata": {
    "scrolled": true
   },
   "outputs": [
    {
     "data": {
      "text/html": [
       "<div>\n",
       "<style scoped>\n",
       "    .dataframe tbody tr th:only-of-type {\n",
       "        vertical-align: middle;\n",
       "    }\n",
       "\n",
       "    .dataframe tbody tr th {\n",
       "        vertical-align: top;\n",
       "    }\n",
       "\n",
       "    .dataframe thead th {\n",
       "        text-align: right;\n",
       "    }\n",
       "</style>\n",
       "<table border=\"1\" class=\"dataframe\">\n",
       "  <thead>\n",
       "    <tr style=\"text-align: right;\">\n",
       "      <th></th>\n",
       "      <th>Waste_glass</th>\n",
       "      <th>Waste_Module</th>\n",
       "    </tr>\n",
       "  </thead>\n",
       "  <tbody>\n",
       "    <tr>\n",
       "      <th>0</th>\n",
       "      <td>0.000000e+00</td>\n",
       "      <td>0.000000e+00</td>\n",
       "    </tr>\n",
       "    <tr>\n",
       "      <th>1</th>\n",
       "      <td>2.620761e+03</td>\n",
       "      <td>2.620761e+03</td>\n",
       "    </tr>\n",
       "    <tr>\n",
       "      <th>2</th>\n",
       "      <td>5.527447e+04</td>\n",
       "      <td>5.527447e+04</td>\n",
       "    </tr>\n",
       "    <tr>\n",
       "      <th>3</th>\n",
       "      <td>3.194365e+05</td>\n",
       "      <td>3.194365e+05</td>\n",
       "    </tr>\n",
       "    <tr>\n",
       "      <th>4</th>\n",
       "      <td>1.069380e+06</td>\n",
       "      <td>1.069380e+06</td>\n",
       "    </tr>\n",
       "    <tr>\n",
       "      <th>5</th>\n",
       "      <td>2.652191e+06</td>\n",
       "      <td>2.652191e+06</td>\n",
       "    </tr>\n",
       "    <tr>\n",
       "      <th>6</th>\n",
       "      <td>5.469084e+06</td>\n",
       "      <td>5.469084e+06</td>\n",
       "    </tr>\n",
       "    <tr>\n",
       "      <th>7</th>\n",
       "      <td>9.963942e+06</td>\n",
       "      <td>9.963942e+06</td>\n",
       "    </tr>\n",
       "    <tr>\n",
       "      <th>8</th>\n",
       "      <td>1.660546e+07</td>\n",
       "      <td>1.660546e+07</td>\n",
       "    </tr>\n",
       "    <tr>\n",
       "      <th>9</th>\n",
       "      <td>2.585632e+07</td>\n",
       "      <td>2.585632e+07</td>\n",
       "    </tr>\n",
       "  </tbody>\n",
       "</table>\n",
       "</div>"
      ],
      "text/plain": [
       "    Waste_glass  Waste_Module\n",
       "0  0.000000e+00  0.000000e+00\n",
       "1  2.620761e+03  2.620761e+03\n",
       "2  5.527447e+04  5.527447e+04\n",
       "3  3.194365e+05  3.194365e+05\n",
       "4  1.069380e+06  1.069380e+06\n",
       "5  2.652191e+06  2.652191e+06\n",
       "6  5.469084e+06  5.469084e+06\n",
       "7  9.963942e+06  9.963942e+06\n",
       "8  1.660546e+07  1.660546e+07\n",
       "9  2.585632e+07  2.585632e+07"
      ]
     },
     "execution_count": 18,
     "metadata": {},
     "output_type": "execute_result"
    }
   ],
   "source": [
    "#create a yearly Module Waste Mass\n",
    "USyearly=pd.DataFrame()\n",
    "keyword = 'mat_Total_Landfilled'\n",
    "for mat in range (0, len(MATERIALS)):\n",
    "    material = MATERIALS[mat]\n",
    "    foo = r1.scenario['USHistory'].material[material].materialdata[keyword].copy()\n",
    "    foo = foo.to_frame(name=material)\n",
    "    USyearly[\"Waste_\"+material] = foo[material]\n",
    "\n",
    "#sum the columns for module mass\n",
    "USyearly['Waste_Module'] = USyearly.sum(axis=1)\n",
    "\n",
    "USyearly.head(10)"
   ]
  },
  {
   "cell_type": "code",
   "execution_count": 19,
   "metadata": {},
   "outputs": [],
   "source": [
    "#add index\n",
    "USyearly.index = r1.scenario['USHistory'].data['year']"
   ]
  },
  {
   "cell_type": "code",
   "execution_count": 20,
   "metadata": {},
   "outputs": [],
   "source": [
    "#Convert to million metric tonnes\n",
    "USyearly_mil_tonnes=USyearly/1000000000000"
   ]
  },
  {
   "cell_type": "code",
   "execution_count": 21,
   "metadata": {},
   "outputs": [],
   "source": [
    "#Adding new installed capacity for decomissioning calc\n",
    "USyearly_mil_tonnes['new_Installed_Capacity_[MW]'] = r1.scenario['USHistory'].data['new_Installed_Capacity_[MW]'].values"
   ]
  },
  {
   "cell_type": "code",
   "execution_count": 22,
   "metadata": {
    "scrolled": true
   },
   "outputs": [
    {
     "data": {
      "text/html": [
       "<div>\n",
       "<style scoped>\n",
       "    .dataframe tbody tr th:only-of-type {\n",
       "        vertical-align: middle;\n",
       "    }\n",
       "\n",
       "    .dataframe tbody tr th {\n",
       "        vertical-align: top;\n",
       "    }\n",
       "\n",
       "    .dataframe thead th {\n",
       "        text-align: right;\n",
       "    }\n",
       "</style>\n",
       "<table border=\"1\" class=\"dataframe\">\n",
       "  <thead>\n",
       "    <tr style=\"text-align: right;\">\n",
       "      <th></th>\n",
       "      <th>Waste_glass</th>\n",
       "      <th>Waste_Module</th>\n",
       "      <th>new_Installed_Capacity_[MW]</th>\n",
       "    </tr>\n",
       "    <tr>\n",
       "      <th>year</th>\n",
       "      <th></th>\n",
       "      <th></th>\n",
       "      <th></th>\n",
       "    </tr>\n",
       "  </thead>\n",
       "  <tbody>\n",
       "    <tr>\n",
       "      <th>1995</th>\n",
       "      <td>0.000000e+00</td>\n",
       "      <td>0.000000e+00</td>\n",
       "      <td>12.500000</td>\n",
       "    </tr>\n",
       "    <tr>\n",
       "      <th>1996</th>\n",
       "      <td>2.620761e-09</td>\n",
       "      <td>2.620761e-09</td>\n",
       "      <td>22.167667</td>\n",
       "    </tr>\n",
       "    <tr>\n",
       "      <th>1997</th>\n",
       "      <td>5.789523e-08</td>\n",
       "      <td>5.789523e-08</td>\n",
       "      <td>33.789667</td>\n",
       "    </tr>\n",
       "    <tr>\n",
       "      <th>1998</th>\n",
       "      <td>3.773318e-07</td>\n",
       "      <td>3.773318e-07</td>\n",
       "      <td>45.570667</td>\n",
       "    </tr>\n",
       "    <tr>\n",
       "      <th>1999</th>\n",
       "      <td>1.446712e-06</td>\n",
       "      <td>1.446712e-06</td>\n",
       "      <td>48.515667</td>\n",
       "    </tr>\n",
       "  </tbody>\n",
       "</table>\n",
       "</div>"
      ],
      "text/plain": [
       "       Waste_glass  Waste_Module  new_Installed_Capacity_[MW]\n",
       "year                                                         \n",
       "1995  0.000000e+00  0.000000e+00                    12.500000\n",
       "1996  2.620761e-09  2.620761e-09                    22.167667\n",
       "1997  5.789523e-08  5.789523e-08                    33.789667\n",
       "1998  3.773318e-07  3.773318e-07                    45.570667\n",
       "1999  1.446712e-06  1.446712e-06                    48.515667"
      ]
     },
     "execution_count": 22,
     "metadata": {},
     "output_type": "execute_result"
    }
   ],
   "source": [
    "UScum = USyearly_mil_tonnes.copy()\n",
    "UScum = UScum.cumsum()\n",
    "\n",
    "UScum.head()"
   ]
  },
  {
   "cell_type": "code",
   "execution_count": 23,
   "metadata": {
    "scrolled": true
   },
   "outputs": [
    {
     "data": {
      "text/html": [
       "<div>\n",
       "<style scoped>\n",
       "    .dataframe tbody tr th:only-of-type {\n",
       "        vertical-align: middle;\n",
       "    }\n",
       "\n",
       "    .dataframe tbody tr th {\n",
       "        vertical-align: top;\n",
       "    }\n",
       "\n",
       "    .dataframe thead th {\n",
       "        text-align: right;\n",
       "    }\n",
       "</style>\n",
       "<table border=\"1\" class=\"dataframe\">\n",
       "  <thead>\n",
       "    <tr style=\"text-align: right;\">\n",
       "      <th></th>\n",
       "      <th>2050</th>\n",
       "    </tr>\n",
       "  </thead>\n",
       "  <tbody>\n",
       "    <tr>\n",
       "      <th>Waste_glass</th>\n",
       "      <td>2.43659</td>\n",
       "    </tr>\n",
       "    <tr>\n",
       "      <th>Waste_Module</th>\n",
       "      <td>2.43659</td>\n",
       "    </tr>\n",
       "    <tr>\n",
       "      <th>new_Installed_Capacity_[MW]</th>\n",
       "      <td>64435.72491</td>\n",
       "    </tr>\n",
       "  </tbody>\n",
       "</table>\n",
       "</div>"
      ],
      "text/plain": [
       "                                    2050\n",
       "Waste_glass                      2.43659\n",
       "Waste_Module                     2.43659\n",
       "new_Installed_Capacity_[MW]  64435.72491"
      ]
     },
     "execution_count": 23,
     "metadata": {},
     "output_type": "execute_result"
    }
   ],
   "source": [
    "bottoms = pd.DataFrame(UScum.loc[2050])\n",
    "bottoms"
   ]
  },
  {
   "cell_type": "code",
   "execution_count": 24,
   "metadata": {},
   "outputs": [
    {
     "ename": "KeyError",
     "evalue": "'Waste_aluminium_frames'",
     "output_type": "error",
     "traceback": [
      "\u001b[1;31m---------------------------------------------------------------------------\u001b[0m",
      "\u001b[1;31mKeyError\u001b[0m                                  Traceback (most recent call last)",
      "File \u001b[1;32m~\\Anaconda3\\lib\\site-packages\\pandas\\core\\indexes\\base.py:3621\u001b[0m, in \u001b[0;36mIndex.get_loc\u001b[1;34m(self, key, method, tolerance)\u001b[0m\n\u001b[0;32m   3620\u001b[0m \u001b[38;5;28;01mtry\u001b[39;00m:\n\u001b[1;32m-> 3621\u001b[0m     \u001b[38;5;28;01mreturn\u001b[39;00m \u001b[38;5;28;43mself\u001b[39;49m\u001b[38;5;241;43m.\u001b[39;49m\u001b[43m_engine\u001b[49m\u001b[38;5;241;43m.\u001b[39;49m\u001b[43mget_loc\u001b[49m\u001b[43m(\u001b[49m\u001b[43mcasted_key\u001b[49m\u001b[43m)\u001b[49m\n\u001b[0;32m   3622\u001b[0m \u001b[38;5;28;01mexcept\u001b[39;00m \u001b[38;5;167;01mKeyError\u001b[39;00m \u001b[38;5;28;01mas\u001b[39;00m err:\n",
      "File \u001b[1;32m~\\Anaconda3\\lib\\site-packages\\pandas\\_libs\\index.pyx:136\u001b[0m, in \u001b[0;36mpandas._libs.index.IndexEngine.get_loc\u001b[1;34m()\u001b[0m\n",
      "File \u001b[1;32m~\\Anaconda3\\lib\\site-packages\\pandas\\_libs\\index.pyx:163\u001b[0m, in \u001b[0;36mpandas._libs.index.IndexEngine.get_loc\u001b[1;34m()\u001b[0m\n",
      "File \u001b[1;32mpandas\\_libs\\hashtable_class_helper.pxi:5198\u001b[0m, in \u001b[0;36mpandas._libs.hashtable.PyObjectHashTable.get_item\u001b[1;34m()\u001b[0m\n",
      "File \u001b[1;32mpandas\\_libs\\hashtable_class_helper.pxi:5206\u001b[0m, in \u001b[0;36mpandas._libs.hashtable.PyObjectHashTable.get_item\u001b[1;34m()\u001b[0m\n",
      "\u001b[1;31mKeyError\u001b[0m: 'Waste_aluminium_frames'",
      "\nThe above exception was the direct cause of the following exception:\n",
      "\u001b[1;31mKeyError\u001b[0m                                  Traceback (most recent call last)",
      "Input \u001b[1;32mIn [24]\u001b[0m, in \u001b[0;36m<cell line: 30>\u001b[1;34m()\u001b[0m\n\u001b[0;32m     27\u001b[0m bottoms \u001b[38;5;241m=\u001b[39m pd\u001b[38;5;241m.\u001b[39mDataFrame(UScum\u001b[38;5;241m.\u001b[39mloc[\u001b[38;5;241m2050\u001b[39m])\n\u001b[0;32m     29\u001b[0m p0 \u001b[38;5;241m=\u001b[39m a1\u001b[38;5;241m.\u001b[39mbar(ind, UScum\u001b[38;5;241m.\u001b[39mloc[\u001b[38;5;241m2050\u001b[39m][\u001b[38;5;124m'\u001b[39m\u001b[38;5;124mWaste_glass\u001b[39m\u001b[38;5;124m'\u001b[39m], width, color\u001b[38;5;241m=\u001b[39m\u001b[38;5;124m'\u001b[39m\u001b[38;5;124mc\u001b[39m\u001b[38;5;124m'\u001b[39m)\n\u001b[1;32m---> 30\u001b[0m p1 \u001b[38;5;241m=\u001b[39m a1\u001b[38;5;241m.\u001b[39mbar(ind, \u001b[43mUScum\u001b[49m\u001b[38;5;241;43m.\u001b[39;49m\u001b[43mloc\u001b[49m\u001b[43m[\u001b[49m\u001b[38;5;241;43m2050\u001b[39;49m\u001b[43m]\u001b[49m\u001b[43m[\u001b[49m\u001b[38;5;124;43m'\u001b[39;49m\u001b[38;5;124;43mWaste_aluminium_frames\u001b[39;49m\u001b[38;5;124;43m'\u001b[39;49m\u001b[43m]\u001b[49m, width, bottom\u001b[38;5;241m=\u001b[39mbottoms\u001b[38;5;241m.\u001b[39miloc[\u001b[38;5;241m0\u001b[39m])\n\u001b[0;32m     31\u001b[0m p2 \u001b[38;5;241m=\u001b[39m a1\u001b[38;5;241m.\u001b[39mbar(ind, UScum\u001b[38;5;241m.\u001b[39mloc[\u001b[38;5;241m2050\u001b[39m][\u001b[38;5;124m'\u001b[39m\u001b[38;5;124mWaste_silicon\u001b[39m\u001b[38;5;124m'\u001b[39m], width, bottom\u001b[38;5;241m=\u001b[39m(bottoms\u001b[38;5;241m.\u001b[39miloc[\u001b[38;5;241m1\u001b[39m]\u001b[38;5;241m+\u001b[39mbottoms\u001b[38;5;241m.\u001b[39miloc[\u001b[38;5;241m0\u001b[39m]))\n\u001b[0;32m     32\u001b[0m p3 \u001b[38;5;241m=\u001b[39m a1\u001b[38;5;241m.\u001b[39mbar(ind, UScum\u001b[38;5;241m.\u001b[39mloc[\u001b[38;5;241m2050\u001b[39m][\u001b[38;5;124m'\u001b[39m\u001b[38;5;124mWaste_copper\u001b[39m\u001b[38;5;124m'\u001b[39m], width, bottom\u001b[38;5;241m=\u001b[39m(bottoms\u001b[38;5;241m.\u001b[39miloc[\u001b[38;5;241m2\u001b[39m]\u001b[38;5;241m+\u001b[39mbottoms\u001b[38;5;241m.\u001b[39miloc[\u001b[38;5;241m1\u001b[39m]\u001b[38;5;241m+\u001b[39mbottoms\u001b[38;5;241m.\u001b[39miloc[\u001b[38;5;241m0\u001b[39m]))\n",
      "File \u001b[1;32m~\\Anaconda3\\lib\\site-packages\\pandas\\core\\series.py:958\u001b[0m, in \u001b[0;36mSeries.__getitem__\u001b[1;34m(self, key)\u001b[0m\n\u001b[0;32m    955\u001b[0m     \u001b[38;5;28;01mreturn\u001b[39;00m \u001b[38;5;28mself\u001b[39m\u001b[38;5;241m.\u001b[39m_values[key]\n\u001b[0;32m    957\u001b[0m \u001b[38;5;28;01melif\u001b[39;00m key_is_scalar:\n\u001b[1;32m--> 958\u001b[0m     \u001b[38;5;28;01mreturn\u001b[39;00m \u001b[38;5;28;43mself\u001b[39;49m\u001b[38;5;241;43m.\u001b[39;49m\u001b[43m_get_value\u001b[49m\u001b[43m(\u001b[49m\u001b[43mkey\u001b[49m\u001b[43m)\u001b[49m\n\u001b[0;32m    960\u001b[0m \u001b[38;5;28;01mif\u001b[39;00m is_hashable(key):\n\u001b[0;32m    961\u001b[0m     \u001b[38;5;66;03m# Otherwise index.get_value will raise InvalidIndexError\u001b[39;00m\n\u001b[0;32m    962\u001b[0m     \u001b[38;5;28;01mtry\u001b[39;00m:\n\u001b[0;32m    963\u001b[0m         \u001b[38;5;66;03m# For labels that don't resolve as scalars like tuples and frozensets\u001b[39;00m\n",
      "File \u001b[1;32m~\\Anaconda3\\lib\\site-packages\\pandas\\core\\series.py:1069\u001b[0m, in \u001b[0;36mSeries._get_value\u001b[1;34m(self, label, takeable)\u001b[0m\n\u001b[0;32m   1066\u001b[0m     \u001b[38;5;28;01mreturn\u001b[39;00m \u001b[38;5;28mself\u001b[39m\u001b[38;5;241m.\u001b[39m_values[label]\n\u001b[0;32m   1068\u001b[0m \u001b[38;5;66;03m# Similar to Index.get_value, but we do not fall back to positional\u001b[39;00m\n\u001b[1;32m-> 1069\u001b[0m loc \u001b[38;5;241m=\u001b[39m \u001b[38;5;28;43mself\u001b[39;49m\u001b[38;5;241;43m.\u001b[39;49m\u001b[43mindex\u001b[49m\u001b[38;5;241;43m.\u001b[39;49m\u001b[43mget_loc\u001b[49m\u001b[43m(\u001b[49m\u001b[43mlabel\u001b[49m\u001b[43m)\u001b[49m\n\u001b[0;32m   1070\u001b[0m \u001b[38;5;28;01mreturn\u001b[39;00m \u001b[38;5;28mself\u001b[39m\u001b[38;5;241m.\u001b[39mindex\u001b[38;5;241m.\u001b[39m_get_values_for_loc(\u001b[38;5;28mself\u001b[39m, loc, label)\n",
      "File \u001b[1;32m~\\Anaconda3\\lib\\site-packages\\pandas\\core\\indexes\\base.py:3623\u001b[0m, in \u001b[0;36mIndex.get_loc\u001b[1;34m(self, key, method, tolerance)\u001b[0m\n\u001b[0;32m   3621\u001b[0m     \u001b[38;5;28;01mreturn\u001b[39;00m \u001b[38;5;28mself\u001b[39m\u001b[38;5;241m.\u001b[39m_engine\u001b[38;5;241m.\u001b[39mget_loc(casted_key)\n\u001b[0;32m   3622\u001b[0m \u001b[38;5;28;01mexcept\u001b[39;00m \u001b[38;5;167;01mKeyError\u001b[39;00m \u001b[38;5;28;01mas\u001b[39;00m err:\n\u001b[1;32m-> 3623\u001b[0m     \u001b[38;5;28;01mraise\u001b[39;00m \u001b[38;5;167;01mKeyError\u001b[39;00m(key) \u001b[38;5;28;01mfrom\u001b[39;00m \u001b[38;5;21;01merr\u001b[39;00m\n\u001b[0;32m   3624\u001b[0m \u001b[38;5;28;01mexcept\u001b[39;00m \u001b[38;5;167;01mTypeError\u001b[39;00m:\n\u001b[0;32m   3625\u001b[0m     \u001b[38;5;66;03m# If we have a listlike key, _check_indexing_error will raise\u001b[39;00m\n\u001b[0;32m   3626\u001b[0m     \u001b[38;5;66;03m#  InvalidIndexError. Otherwise we fall through and re-raise\u001b[39;00m\n\u001b[0;32m   3627\u001b[0m     \u001b[38;5;66;03m#  the TypeError.\u001b[39;00m\n\u001b[0;32m   3628\u001b[0m     \u001b[38;5;28mself\u001b[39m\u001b[38;5;241m.\u001b[39m_check_indexing_error(key)\n",
      "\u001b[1;31mKeyError\u001b[0m: 'Waste_aluminium_frames'"
     ]
    },
    {
     "data": {
      "image/png": "[encoded data removed]",
      "text/plain": [
       "<Figure size 1080x576 with 2 Axes>"
      ]
     },
     "metadata": {
      "needs_background": "light"
     },
     "output_type": "display_data"
    }
   ],
   "source": [
    "plt.rcParams.update({'font.size': 15})\n",
    "plt.rcParams['figure.figsize'] = (15, 8)\n",
    "\n",
    "f, (a0, a1) = plt.subplots(1, 2, gridspec_kw={'width_ratios': [3, 1]})\n",
    "\n",
    "########################    \n",
    "# SUBPLOT 1\n",
    "########################\n",
    "a0.plot(USyearly_mil_tonnes.index, USyearly_mil_tonnes['Waste_Module'], 'k.', linewidth=5, label='EoL Module Mass')\n",
    "a0.plot(USyearly_mil_tonnes.index, USyearly_mil_tonnes['Waste_glass'], 'k', linewidth=5, label='EoL Glass Mass')\n",
    "a0.fill_between(USyearly_mil_tonnes.index, USyearly_mil_tonnes['Waste_glass'], USyearly_mil_tonnes['Waste_Module'],\n",
    "                color='k', alpha=0.3, interpolate=True)\n",
    "\n",
    "a0.legend()\n",
    "a0.set_title('Yearly EoL Material Mass')\n",
    "a0.set_ylabel('Mass [Million Tonnes]')\n",
    "a0.set_xlim([1995, 2050])\n",
    "a0.set_xlabel('Years')\n",
    "\n",
    "########################    \n",
    "# SUBPLOT 2\n",
    "########################\n",
    "## Plot BARS Stuff\n",
    "ind=np.arange(1)\n",
    "width=0.35 # width of the bars.\n",
    "\n",
    "bottoms = pd.DataFrame(UScum.loc[2050])\n",
    "\n",
    "p0 = a1.bar(ind, UScum.loc[2050]['Waste_glass'], width, color='c')\n",
    "p1 = a1.bar(ind, UScum.loc[2050]['Waste_aluminium_frames'], width, bottom=bottoms.iloc[0])\n",
    "p2 = a1.bar(ind, UScum.loc[2050]['Waste_silicon'], width, bottom=(bottoms.iloc[1]+bottoms.iloc[0]))\n",
    "p3 = a1.bar(ind, UScum.loc[2050]['Waste_copper'], width, bottom=(bottoms.iloc[2]+bottoms.iloc[1]+bottoms.iloc[0]))\n",
    "p4 = a1.bar(ind, UScum.loc[2050]['Waste_silver'], width, bottom=(bottoms.iloc[3]+bottoms.iloc[2]+bottoms.iloc[1]+bottoms.iloc[0]))\n",
    "p5 = a1.bar(ind, UScum.loc[2050]['Waste_encapsulant'], width, bottom=(bottoms.iloc[4]+bottoms.iloc[3]+bottoms.iloc[2]+bottoms.iloc[1]+bottoms.iloc[0]))\n",
    "p6 = a1.bar(ind, UScum.loc[2050]['Waste_backsheet'], width, bottom=(bottoms.iloc[5]+bottoms.iloc[4]+bottoms.iloc[3]+bottoms.iloc[2]+bottoms.iloc[1]+bottoms.iloc[0]))\n",
    "\n",
    "a1.yaxis.set_label_position(\"right\")\n",
    "a1.yaxis.tick_right()\n",
    "a1.set_ylabel('EoL PV Material [Million Tonnes]')\n",
    "a1.set_xlabel('Cumulative in 2050')\n",
    "a1.set_xticks(ind)\n",
    "a1.legend((p0[0], p1[0], p2[0], p3[0], p4[0], p5[0], p6[0] ), ('Glass', 'Aluminium frames', 'Silicon','Copper','Silver', 'Encapsulant', 'Backsheet'))"
   ]
  },
  {
   "cell_type": "markdown",
   "metadata": {},
   "source": [
    "### plot of decommissioned in MW\n",
    "decommissioned yearly = cumulative new installs - yearly active capacity"
   ]
  },
  {
   "cell_type": "code",
   "execution_count": 26,
   "metadata": {
    "scrolled": true
   },
   "outputs": [
    {
     "data": {
      "text/html": [
       "<div>\n",
       "<style scoped>\n",
       "    .dataframe tbody tr th:only-of-type {\n",
       "        vertical-align: middle;\n",
       "    }\n",
       "\n",
       "    .dataframe tbody tr th {\n",
       "        vertical-align: top;\n",
       "    }\n",
       "\n",
       "    .dataframe thead th {\n",
       "        text-align: right;\n",
       "    }\n",
       "</style>\n",
       "<table border=\"1\" class=\"dataframe\">\n",
       "  <thead>\n",
       "    <tr style=\"text-align: right;\">\n",
       "      <th></th>\n",
       "      <th>Waste_glass</th>\n",
       "      <th>Waste_Module</th>\n",
       "      <th>new_Installed_Capacity_[MW]</th>\n",
       "      <th>Active_Capacity_[W]</th>\n",
       "    </tr>\n",
       "    <tr>\n",
       "      <th>year</th>\n",
       "      <th></th>\n",
       "      <th></th>\n",
       "      <th></th>\n",
       "      <th></th>\n",
       "    </tr>\n",
       "  </thead>\n",
       "  <tbody>\n",
       "    <tr>\n",
       "      <th>1995</th>\n",
       "      <td>0.000000e+00</td>\n",
       "      <td>0.000000e+00</td>\n",
       "      <td>12.500000</td>\n",
       "      <td>1.250000e+07</td>\n",
       "    </tr>\n",
       "    <tr>\n",
       "      <th>1996</th>\n",
       "      <td>2.620761e-09</td>\n",
       "      <td>2.620761e-09</td>\n",
       "      <td>9.667667</td>\n",
       "      <td>2.209888e+07</td>\n",
       "    </tr>\n",
       "    <tr>\n",
       "      <th>1997</th>\n",
       "      <td>5.527447e-08</td>\n",
       "      <td>5.527447e-08</td>\n",
       "      <td>11.622000</td>\n",
       "      <td>3.359846e+07</td>\n",
       "    </tr>\n",
       "    <tr>\n",
       "      <th>1998</th>\n",
       "      <td>3.194365e-07</td>\n",
       "      <td>3.194365e-07</td>\n",
       "      <td>11.781000</td>\n",
       "      <td>4.518963e+07</td>\n",
       "    </tr>\n",
       "    <tr>\n",
       "      <th>1999</th>\n",
       "      <td>1.069380e-06</td>\n",
       "      <td>1.069380e-06</td>\n",
       "      <td>2.945000</td>\n",
       "      <td>4.786931e+07</td>\n",
       "    </tr>\n",
       "  </tbody>\n",
       "</table>\n",
       "</div>"
      ],
      "text/plain": [
       "       Waste_glass  Waste_Module  new_Installed_Capacity_[MW]  \\\n",
       "year                                                            \n",
       "1995  0.000000e+00  0.000000e+00                    12.500000   \n",
       "1996  2.620761e-09  2.620761e-09                     9.667667   \n",
       "1997  5.527447e-08  5.527447e-08                    11.622000   \n",
       "1998  3.194365e-07  3.194365e-07                    11.781000   \n",
       "1999  1.069380e-06  1.069380e-06                     2.945000   \n",
       "\n",
       "      Active_Capacity_[W]  \n",
       "year                       \n",
       "1995         1.250000e+07  \n",
       "1996         2.209888e+07  \n",
       "1997         3.359846e+07  \n",
       "1998         4.518963e+07  \n",
       "1999         4.786931e+07  "
      ]
     },
     "execution_count": 26,
     "metadata": {},
     "output_type": "execute_result"
    }
   ],
   "source": [
    "#Add Installed capacity to yearly\n",
    "USyearly_mil_tonnes['Active_Capacity_[W]'] = r1.scenario['USHistory'].data['Installed_Capacity_[W]'].values\n",
    "USyearly_mil_tonnes.head()"
   ]
  },
  {
   "cell_type": "code",
   "execution_count": 27,
   "metadata": {},
   "outputs": [],
   "source": [
    "USyearly_mil_tonnes.to_csv('r1-usyearly.csv')\n",
    "UScum.to_csv('r1-uscum.csv')"
   ]
  },
  {
   "cell_type": "code",
   "execution_count": 33,
   "metadata": {
    "scrolled": false
   },
   "outputs": [
    {
     "data": {
      "text/plain": [
       "Text(0, 0.5, 'MW')"
      ]
     },
     "execution_count": 33,
     "metadata": {},
     "output_type": "execute_result"
    },
    {
     "data": {
      "image/png": "[encoded data removed]",
      "text/plain": [
       "<Figure size 1080x576 with 1 Axes>"
      ]
     },
     "metadata": {
      "needs_background": "light"
     },
     "output_type": "display_data"
    }
   ],
   "source": [
    "USyearly_mil_tonnes['Decommissioned_yearly_[MW]'] = UScum['new_Installed_Capacity_[MW]'] - (USyearly_mil_tonnes['Active_Capacity_[W]']/1e6)\n",
    "plt.plot(USyearly_mil_tonnes['Decommissioned_yearly_[MW]'], label='decommissioned', color='r')\n",
    "plt.plot(UScum['new_Installed_Capacity_[MW]'], label='cum installs')\n",
    "plt.plot((USyearly_mil_tonnes['Active_Capacity_[W]']/1e6), label='active capacity')\n",
    "plt.plot(USyearly_mil_tonnes['new_Installed_Capacity_[MW]'], label='yearly new installs')\n",
    "plt.legend()\n",
    "plt.ylim(-1000,70000)\n",
    "plt.ylabel('MW')"
   ]
  },
  {
   "cell_type": "code",
   "execution_count": 29,
   "metadata": {
    "scrolled": true
   },
   "outputs": [
    {
     "data": {
      "text/html": [
       "<div>\n",
       "<style scoped>\n",
       "    .dataframe tbody tr th:only-of-type {\n",
       "        vertical-align: middle;\n",
       "    }\n",
       "\n",
       "    .dataframe tbody tr th {\n",
       "        vertical-align: top;\n",
       "    }\n",
       "\n",
       "    .dataframe thead th {\n",
       "        text-align: right;\n",
       "    }\n",
       "</style>\n",
       "<table border=\"1\" class=\"dataframe\">\n",
       "  <thead>\n",
       "    <tr style=\"text-align: right;\">\n",
       "      <th></th>\n",
       "      <th>Annual_Installations_[MW]</th>\n",
       "      <th>Active_Generating_Capacity_[MW]</th>\n",
       "      <th>Annually_Decommissioned_[MW]</th>\n",
       "      <th>Cumulative_Decommissioned_[MW]</th>\n",
       "      <th>Cumulative_Decommissioned_Module_Mass_[million metric tonnes]</th>\n",
       "    </tr>\n",
       "    <tr>\n",
       "      <th>year</th>\n",
       "      <th></th>\n",
       "      <th></th>\n",
       "      <th></th>\n",
       "      <th></th>\n",
       "      <th></th>\n",
       "    </tr>\n",
       "  </thead>\n",
       "  <tbody>\n",
       "    <tr>\n",
       "      <th>1995</th>\n",
       "      <td>12.500000</td>\n",
       "      <td>12.500000</td>\n",
       "      <td>0.000000</td>\n",
       "      <td>0.000000</td>\n",
       "      <td>0.000000e+00</td>\n",
       "    </tr>\n",
       "    <tr>\n",
       "      <th>1996</th>\n",
       "      <td>9.667667</td>\n",
       "      <td>22.098875</td>\n",
       "      <td>0.068792</td>\n",
       "      <td>0.068792</td>\n",
       "      <td>2.620761e-09</td>\n",
       "    </tr>\n",
       "    <tr>\n",
       "      <th>1997</th>\n",
       "      <td>11.622000</td>\n",
       "      <td>33.598458</td>\n",
       "      <td>0.191209</td>\n",
       "      <td>0.260001</td>\n",
       "      <td>5.789523e-08</td>\n",
       "    </tr>\n",
       "    <tr>\n",
       "      <th>1998</th>\n",
       "      <td>11.781000</td>\n",
       "      <td>45.189635</td>\n",
       "      <td>0.381032</td>\n",
       "      <td>0.641033</td>\n",
       "      <td>3.773318e-07</td>\n",
       "    </tr>\n",
       "    <tr>\n",
       "      <th>1999</th>\n",
       "      <td>2.945000</td>\n",
       "      <td>47.869314</td>\n",
       "      <td>0.646352</td>\n",
       "      <td>1.287385</td>\n",
       "      <td>1.446712e-06</td>\n",
       "    </tr>\n",
       "    <tr>\n",
       "      <th>2000</th>\n",
       "      <td>3.406667</td>\n",
       "      <td>50.971274</td>\n",
       "      <td>0.951059</td>\n",
       "      <td>2.238444</td>\n",
       "      <td>4.098903e-06</td>\n",
       "    </tr>\n",
       "    <tr>\n",
       "      <th>2001</th>\n",
       "      <td>6.079500</td>\n",
       "      <td>56.683705</td>\n",
       "      <td>1.318129</td>\n",
       "      <td>3.556573</td>\n",
       "      <td>9.567986e-06</td>\n",
       "    </tr>\n",
       "    <tr>\n",
       "      <th>2002</th>\n",
       "      <td>11.001667</td>\n",
       "      <td>67.214711</td>\n",
       "      <td>1.788789</td>\n",
       "      <td>5.345362</td>\n",
       "      <td>1.953193e-05</td>\n",
       "    </tr>\n",
       "    <tr>\n",
       "      <th>2003</th>\n",
       "      <td>28.639667</td>\n",
       "      <td>95.218780</td>\n",
       "      <td>2.424386</td>\n",
       "      <td>7.769748</td>\n",
       "      <td>3.613739e-05</td>\n",
       "    </tr>\n",
       "    <tr>\n",
       "      <th>2004</th>\n",
       "      <td>31.302000</td>\n",
       "      <td>125.576293</td>\n",
       "      <td>3.368874</td>\n",
       "      <td>11.138622</td>\n",
       "      <td>6.199371e-05</td>\n",
       "    </tr>\n",
       "    <tr>\n",
       "      <th>2005</th>\n",
       "      <td>47.821746</td>\n",
       "      <td>161.242311</td>\n",
       "      <td>15.524601</td>\n",
       "      <td>26.663223</td>\n",
       "      <td>8.176012e-04</td>\n",
       "    </tr>\n",
       "    <tr>\n",
       "      <th>2006</th>\n",
       "      <td>62.388685</td>\n",
       "      <td>213.957849</td>\n",
       "      <td>25.197748</td>\n",
       "      <td>51.860972</td>\n",
       "      <td>1.385559e-03</td>\n",
       "    </tr>\n",
       "    <tr>\n",
       "      <th>2007</th>\n",
       "      <td>95.730302</td>\n",
       "      <td>308.303070</td>\n",
       "      <td>26.582829</td>\n",
       "      <td>78.443801</td>\n",
       "      <td>1.392779e-03</td>\n",
       "    </tr>\n",
       "    <tr>\n",
       "      <th>2008</th>\n",
       "      <td>197.779099</td>\n",
       "      <td>504.041072</td>\n",
       "      <td>28.623927</td>\n",
       "      <td>107.067727</td>\n",
       "      <td>1.405721e-03</td>\n",
       "    </tr>\n",
       "    <tr>\n",
       "      <th>2009</th>\n",
       "      <td>267.473903</td>\n",
       "      <td>768.153182</td>\n",
       "      <td>31.985719</td>\n",
       "      <td>139.053447</td>\n",
       "      <td>1.427962e-03</td>\n",
       "    </tr>\n",
       "    <tr>\n",
       "      <th>2010</th>\n",
       "      <td>507.602756</td>\n",
       "      <td>1270.578849</td>\n",
       "      <td>37.162809</td>\n",
       "      <td>176.216256</td>\n",
       "      <td>1.464836e-03</td>\n",
       "    </tr>\n",
       "    <tr>\n",
       "      <th>2011</th>\n",
       "      <td>1481.228629</td>\n",
       "      <td>2744.786458</td>\n",
       "      <td>44.183829</td>\n",
       "      <td>220.400085</td>\n",
       "      <td>1.523994e-03</td>\n",
       "    </tr>\n",
       "    <tr>\n",
       "      <th>2012</th>\n",
       "      <td>2607.623226</td>\n",
       "      <td>5331.317675</td>\n",
       "      <td>65.275837</td>\n",
       "      <td>285.675922</td>\n",
       "      <td>2.219614e-03</td>\n",
       "    </tr>\n",
       "    <tr>\n",
       "      <th>2013</th>\n",
       "      <td>3353.884318</td>\n",
       "      <td>8656.213736</td>\n",
       "      <td>94.264095</td>\n",
       "      <td>379.940017</td>\n",
       "      <td>2.915921e-03</td>\n",
       "    </tr>\n",
       "    <tr>\n",
       "      <th>2014</th>\n",
       "      <td>2955.356988</td>\n",
       "      <td>11579.464160</td>\n",
       "      <td>126.370658</td>\n",
       "      <td>506.310675</td>\n",
       "      <td>3.163165e-03</td>\n",
       "    </tr>\n",
       "    <tr>\n",
       "      <th>2015</th>\n",
       "      <td>4850.675866</td>\n",
       "      <td>16390.789387</td>\n",
       "      <td>165.721298</td>\n",
       "      <td>672.031973</td>\n",
       "      <td>3.309989e-03</td>\n",
       "    </tr>\n",
       "    <tr>\n",
       "      <th>2016</th>\n",
       "      <td>10615.357720</td>\n",
       "      <td>26951.009313</td>\n",
       "      <td>220.859091</td>\n",
       "      <td>892.891064</td>\n",
       "      <td>3.539458e-03</td>\n",
       "    </tr>\n",
       "    <tr>\n",
       "      <th>2017</th>\n",
       "      <td>7777.051848</td>\n",
       "      <td>34639.343790</td>\n",
       "      <td>309.576463</td>\n",
       "      <td>1202.467527</td>\n",
       "      <td>3.884788e-03</td>\n",
       "    </tr>\n",
       "    <tr>\n",
       "      <th>2018</th>\n",
       "      <td>7243.125475</td>\n",
       "      <td>41768.107399</td>\n",
       "      <td>423.938329</td>\n",
       "      <td>1626.405856</td>\n",
       "      <td>4.387237e-03</td>\n",
       "    </tr>\n",
       "    <tr>\n",
       "      <th>2019</th>\n",
       "      <td>8620.729182</td>\n",
       "      <td>50249.685162</td>\n",
       "      <td>563.089748</td>\n",
       "      <td>2189.495604</td>\n",
       "      <td>5.096299e-03</td>\n",
       "    </tr>\n",
       "    <tr>\n",
       "      <th>2020</th>\n",
       "      <td>13622.950000</td>\n",
       "      <td>63702.500936</td>\n",
       "      <td>733.223974</td>\n",
       "      <td>2922.719578</td>\n",
       "      <td>6.145945e-03</td>\n",
       "    </tr>\n",
       "    <tr>\n",
       "      <th>2021</th>\n",
       "      <td>0.000000</td>\n",
       "      <td>63458.668371</td>\n",
       "      <td>977.056539</td>\n",
       "      <td>3899.776117</td>\n",
       "      <td>7.561837e-03</td>\n",
       "    </tr>\n",
       "    <tr>\n",
       "      <th>2022</th>\n",
       "      <td>0.000000</td>\n",
       "      <td>63207.695749</td>\n",
       "      <td>1228.029161</td>\n",
       "      <td>5127.805278</td>\n",
       "      <td>9.455032e-03</td>\n",
       "    </tr>\n",
       "    <tr>\n",
       "      <th>2023</th>\n",
       "      <td>0.000000</td>\n",
       "      <td>62943.948040</td>\n",
       "      <td>1491.776870</td>\n",
       "      <td>6619.582148</td>\n",
       "      <td>1.216790e-02</td>\n",
       "    </tr>\n",
       "    <tr>\n",
       "      <th>2024</th>\n",
       "      <td>0.000000</td>\n",
       "      <td>62671.849204</td>\n",
       "      <td>1763.875706</td>\n",
       "      <td>8383.457854</td>\n",
       "      <td>1.539274e-02</td>\n",
       "    </tr>\n",
       "    <tr>\n",
       "      <th>2025</th>\n",
       "      <td>0.000000</td>\n",
       "      <td>62382.424729</td>\n",
       "      <td>2053.300181</td>\n",
       "      <td>10436.758035</td>\n",
       "      <td>1.965999e-02</td>\n",
       "    </tr>\n",
       "    <tr>\n",
       "      <th>2026</th>\n",
       "      <td>0.000000</td>\n",
       "      <td>62067.524085</td>\n",
       "      <td>2368.200825</td>\n",
       "      <td>12804.958859</td>\n",
       "      <td>2.542853e-02</td>\n",
       "    </tr>\n",
       "    <tr>\n",
       "      <th>2027</th>\n",
       "      <td>0.000000</td>\n",
       "      <td>61759.786111</td>\n",
       "      <td>2675.938798</td>\n",
       "      <td>15480.897658</td>\n",
       "      <td>3.062367e-02</td>\n",
       "    </tr>\n",
       "    <tr>\n",
       "      <th>2028</th>\n",
       "      <td>0.000000</td>\n",
       "      <td>61383.156668</td>\n",
       "      <td>3052.568241</td>\n",
       "      <td>18533.465899</td>\n",
       "      <td>3.987101e-02</td>\n",
       "    </tr>\n",
       "    <tr>\n",
       "      <th>2029</th>\n",
       "      <td>0.000000</td>\n",
       "      <td>60915.573625</td>\n",
       "      <td>3520.151285</td>\n",
       "      <td>22053.617184</td>\n",
       "      <td>5.439437e-02</td>\n",
       "    </tr>\n",
       "    <tr>\n",
       "      <th>2030</th>\n",
       "      <td>0.000000</td>\n",
       "      <td>60315.860209</td>\n",
       "      <td>4119.864701</td>\n",
       "      <td>26173.481885</td>\n",
       "      <td>7.653370e-02</td>\n",
       "    </tr>\n",
       "    <tr>\n",
       "      <th>2031</th>\n",
       "      <td>0.000000</td>\n",
       "      <td>59829.960075</td>\n",
       "      <td>4605.764834</td>\n",
       "      <td>30779.246719</td>\n",
       "      <td>9.121889e-02</td>\n",
       "    </tr>\n",
       "    <tr>\n",
       "      <th>2032</th>\n",
       "      <td>0.000000</td>\n",
       "      <td>58892.296062</td>\n",
       "      <td>5543.428847</td>\n",
       "      <td>36322.675567</td>\n",
       "      <td>1.312155e-01</td>\n",
       "    </tr>\n",
       "    <tr>\n",
       "      <th>2033</th>\n",
       "      <td>0.000000</td>\n",
       "      <td>58216.751860</td>\n",
       "      <td>6218.973050</td>\n",
       "      <td>42541.648616</td>\n",
       "      <td>1.558353e-01</td>\n",
       "    </tr>\n",
       "    <tr>\n",
       "      <th>2034</th>\n",
       "      <td>0.000000</td>\n",
       "      <td>56464.869411</td>\n",
       "      <td>7970.855498</td>\n",
       "      <td>50512.504115</td>\n",
       "      <td>2.397459e-01</td>\n",
       "    </tr>\n",
       "    <tr>\n",
       "      <th>2035</th>\n",
       "      <td>0.000000</td>\n",
       "      <td>53941.000640</td>\n",
       "      <td>10494.724270</td>\n",
       "      <td>61007.228385</td>\n",
       "      <td>3.651526e-01</td>\n",
       "    </tr>\n",
       "    <tr>\n",
       "      <th>2036</th>\n",
       "      <td>0.000000</td>\n",
       "      <td>53042.952480</td>\n",
       "      <td>11392.772430</td>\n",
       "      <td>72400.000815</td>\n",
       "      <td>4.006180e-01</td>\n",
       "    </tr>\n",
       "    <tr>\n",
       "      <th>2037</th>\n",
       "      <td>0.000000</td>\n",
       "      <td>49422.131425</td>\n",
       "      <td>15013.593485</td>\n",
       "      <td>87413.594300</td>\n",
       "      <td>5.814262e-01</td>\n",
       "    </tr>\n",
       "    <tr>\n",
       "      <th>2038</th>\n",
       "      <td>0.000000</td>\n",
       "      <td>48209.182420</td>\n",
       "      <td>16226.542490</td>\n",
       "      <td>103640.136789</td>\n",
       "      <td>6.326701e-01</td>\n",
       "    </tr>\n",
       "    <tr>\n",
       "      <th>2039</th>\n",
       "      <td>0.000000</td>\n",
       "      <td>46701.435939</td>\n",
       "      <td>17734.288971</td>\n",
       "      <td>121374.425760</td>\n",
       "      <td>6.987351e-01</td>\n",
       "    </tr>\n",
       "    <tr>\n",
       "      <th>2040</th>\n",
       "      <td>0.000000</td>\n",
       "      <td>43028.002779</td>\n",
       "      <td>21407.722130</td>\n",
       "      <td>142782.147891</td>\n",
       "      <td>8.802027e-01</td>\n",
       "    </tr>\n",
       "    <tr>\n",
       "      <th>2041</th>\n",
       "      <td>0.000000</td>\n",
       "      <td>41030.206901</td>\n",
       "      <td>23405.518009</td>\n",
       "      <td>166187.665900</td>\n",
       "      <td>9.705293e-01</td>\n",
       "    </tr>\n",
       "    <tr>\n",
       "      <th>2042</th>\n",
       "      <td>0.000000</td>\n",
       "      <td>38659.201349</td>\n",
       "      <td>25776.523561</td>\n",
       "      <td>191964.189460</td>\n",
       "      <td>1.079668e+00</td>\n",
       "    </tr>\n",
       "    <tr>\n",
       "      <th>2043</th>\n",
       "      <td>0.000000</td>\n",
       "      <td>33684.839873</td>\n",
       "      <td>30750.885037</td>\n",
       "      <td>222715.074497</td>\n",
       "      <td>1.322586e+00</td>\n",
       "    </tr>\n",
       "    <tr>\n",
       "      <th>2044</th>\n",
       "      <td>0.000000</td>\n",
       "      <td>26132.445870</td>\n",
       "      <td>38303.279040</td>\n",
       "      <td>261018.353537</td>\n",
       "      <td>1.689291e+00</td>\n",
       "    </tr>\n",
       "    <tr>\n",
       "      <th>2045</th>\n",
       "      <td>0.000000</td>\n",
       "      <td>24086.073519</td>\n",
       "      <td>40349.651391</td>\n",
       "      <td>301368.004928</td>\n",
       "      <td>1.783949e+00</td>\n",
       "    </tr>\n",
       "    <tr>\n",
       "      <th>2046</th>\n",
       "      <td>0.000000</td>\n",
       "      <td>18918.291899</td>\n",
       "      <td>45517.433011</td>\n",
       "      <td>346885.437939</td>\n",
       "      <td>2.035040e+00</td>\n",
       "    </tr>\n",
       "    <tr>\n",
       "      <th>2047</th>\n",
       "      <td>0.000000</td>\n",
       "      <td>17166.723758</td>\n",
       "      <td>47269.001152</td>\n",
       "      <td>394154.439091</td>\n",
       "      <td>2.116249e+00</td>\n",
       "    </tr>\n",
       "    <tr>\n",
       "      <th>2048</th>\n",
       "      <td>0.000000</td>\n",
       "      <td>15302.957668</td>\n",
       "      <td>49132.767242</td>\n",
       "      <td>443287.206333</td>\n",
       "      <td>2.203655e+00</td>\n",
       "    </tr>\n",
       "    <tr>\n",
       "      <th>2049</th>\n",
       "      <td>0.000000</td>\n",
       "      <td>11852.275175</td>\n",
       "      <td>52583.449735</td>\n",
       "      <td>495870.656068</td>\n",
       "      <td>2.369261e+00</td>\n",
       "    </tr>\n",
       "    <tr>\n",
       "      <th>2050</th>\n",
       "      <td>0.000000</td>\n",
       "      <td>10441.003303</td>\n",
       "      <td>53994.721606</td>\n",
       "      <td>549865.377674</td>\n",
       "      <td>2.436590e+00</td>\n",
       "    </tr>\n",
       "  </tbody>\n",
       "</table>\n",
       "</div>"
      ],
      "text/plain": [
       "      Annual_Installations_[MW]  Active_Generating_Capacity_[MW]  \\\n",
       "year                                                               \n",
       "1995                  12.500000                        12.500000   \n",
       "1996                   9.667667                        22.098875   \n",
       "1997                  11.622000                        33.598458   \n",
       "1998                  11.781000                        45.189635   \n",
       "1999                   2.945000                        47.869314   \n",
       "2000                   3.406667                        50.971274   \n",
       "2001                   6.079500                        56.683705   \n",
       "2002                  11.001667                        67.214711   \n",
       "2003                  28.639667                        95.218780   \n",
       "2004                  31.302000                       125.576293   \n",
       "2005                  47.821746                       161.242311   \n",
       "2006                  62.388685                       213.957849   \n",
       "2007                  95.730302                       308.303070   \n",
       "2008                 197.779099                       504.041072   \n",
       "2009                 267.473903                       768.153182   \n",
       "2010                 507.602756                      1270.578849   \n",
       "2011                1481.228629                      2744.786458   \n",
       "2012                2607.623226                      5331.317675   \n",
       "2013                3353.884318                      8656.213736   \n",
       "2014                2955.356988                     11579.464160   \n",
       "2015                4850.675866                     16390.789387   \n",
       "2016               10615.357720                     26951.009313   \n",
       "2017                7777.051848                     34639.343790   \n",
       "2018                7243.125475                     41768.107399   \n",
       "2019                8620.729182                     50249.685162   \n",
       "2020               13622.950000                     63702.500936   \n",
       "2021                   0.000000                     63458.668371   \n",
       "2022                   0.000000                     63207.695749   \n",
       "2023                   0.000000                     62943.948040   \n",
       "2024                   0.000000                     62671.849204   \n",
       "2025                   0.000000                     62382.424729   \n",
       "2026                   0.000000                     62067.524085   \n",
       "2027                   0.000000                     61759.786111   \n",
       "2028                   0.000000                     61383.156668   \n",
       "2029                   0.000000                     60915.573625   \n",
       "2030                   0.000000                     60315.860209   \n",
       "2031                   0.000000                     59829.960075   \n",
       "2032                   0.000000                     58892.296062   \n",
       "2033                   0.000000                     58216.751860   \n",
       "2034                   0.000000                     56464.869411   \n",
       "2035                   0.000000                     53941.000640   \n",
       "2036                   0.000000                     53042.952480   \n",
       "2037                   0.000000                     49422.131425   \n",
       "2038                   0.000000                     48209.182420   \n",
       "2039                   0.000000                     46701.435939   \n",
       "2040                   0.000000                     43028.002779   \n",
       "2041                   0.000000                     41030.206901   \n",
       "2042                   0.000000                     38659.201349   \n",
       "2043                   0.000000                     33684.839873   \n",
       "2044                   0.000000                     26132.445870   \n",
       "2045                   0.000000                     24086.073519   \n",
       "2046                   0.000000                     18918.291899   \n",
       "2047                   0.000000                     17166.723758   \n",
       "2048                   0.000000                     15302.957668   \n",
       "2049                   0.000000                     11852.275175   \n",
       "2050                   0.000000                     10441.003303   \n",
       "\n",
       "      Annually_Decommissioned_[MW]  Cumulative_Decommissioned_[MW]  \\\n",
       "year                                                                 \n",
       "1995                      0.000000                        0.000000   \n",
       "1996                      0.068792                        0.068792   \n",
       "1997                      0.191209                        0.260001   \n",
       "1998                      0.381032                        0.641033   \n",
       "1999                      0.646352                        1.287385   \n",
       "2000                      0.951059                        2.238444   \n",
       "2001                      1.318129                        3.556573   \n",
       "2002                      1.788789                        5.345362   \n",
       "2003                      2.424386                        7.769748   \n",
       "2004                      3.368874                       11.138622   \n",
       "2005                     15.524601                       26.663223   \n",
       "2006                     25.197748                       51.860972   \n",
       "2007                     26.582829                       78.443801   \n",
       "2008                     28.623927                      107.067727   \n",
       "2009                     31.985719                      139.053447   \n",
       "2010                     37.162809                      176.216256   \n",
       "2011                     44.183829                      220.400085   \n",
       "2012                     65.275837                      285.675922   \n",
       "2013                     94.264095                      379.940017   \n",
       "2014                    126.370658                      506.310675   \n",
       "2015                    165.721298                      672.031973   \n",
       "2016                    220.859091                      892.891064   \n",
       "2017                    309.576463                     1202.467527   \n",
       "2018                    423.938329                     1626.405856   \n",
       "2019                    563.089748                     2189.495604   \n",
       "2020                    733.223974                     2922.719578   \n",
       "2021                    977.056539                     3899.776117   \n",
       "2022                   1228.029161                     5127.805278   \n",
       "2023                   1491.776870                     6619.582148   \n",
       "2024                   1763.875706                     8383.457854   \n",
       "2025                   2053.300181                    10436.758035   \n",
       "2026                   2368.200825                    12804.958859   \n",
       "2027                   2675.938798                    15480.897658   \n",
       "2028                   3052.568241                    18533.465899   \n",
       "2029                   3520.151285                    22053.617184   \n",
       "2030                   4119.864701                    26173.481885   \n",
       "2031                   4605.764834                    30779.246719   \n",
       "2032                   5543.428847                    36322.675567   \n",
       "2033                   6218.973050                    42541.648616   \n",
       "2034                   7970.855498                    50512.504115   \n",
       "2035                  10494.724270                    61007.228385   \n",
       "2036                  11392.772430                    72400.000815   \n",
       "2037                  15013.593485                    87413.594300   \n",
       "2038                  16226.542490                   103640.136789   \n",
       "2039                  17734.288971                   121374.425760   \n",
       "2040                  21407.722130                   142782.147891   \n",
       "2041                  23405.518009                   166187.665900   \n",
       "2042                  25776.523561                   191964.189460   \n",
       "2043                  30750.885037                   222715.074497   \n",
       "2044                  38303.279040                   261018.353537   \n",
       "2045                  40349.651391                   301368.004928   \n",
       "2046                  45517.433011                   346885.437939   \n",
       "2047                  47269.001152                   394154.439091   \n",
       "2048                  49132.767242                   443287.206333   \n",
       "2049                  52583.449735                   495870.656068   \n",
       "2050                  53994.721606                   549865.377674   \n",
       "\n",
       "      Cumulative_Decommissioned_Module_Mass_[million metric tonnes]  \n",
       "year                                                                 \n",
       "1995                                       0.000000e+00              \n",
       "1996                                       2.620761e-09              \n",
       "1997                                       5.789523e-08              \n",
       "1998                                       3.773318e-07              \n",
       "1999                                       1.446712e-06              \n",
       "2000                                       4.098903e-06              \n",
       "2001                                       9.567986e-06              \n",
       "2002                                       1.953193e-05              \n",
       "2003                                       3.613739e-05              \n",
       "2004                                       6.199371e-05              \n",
       "2005                                       8.176012e-04              \n",
       "2006                                       1.385559e-03              \n",
       "2007                                       1.392779e-03              \n",
       "2008                                       1.405721e-03              \n",
       "2009                                       1.427962e-03              \n",
       "2010                                       1.464836e-03              \n",
       "2011                                       1.523994e-03              \n",
       "2012                                       2.219614e-03              \n",
       "2013                                       2.915921e-03              \n",
       "2014                                       3.163165e-03              \n",
       "2015                                       3.309989e-03              \n",
       "2016                                       3.539458e-03              \n",
       "2017                                       3.884788e-03              \n",
       "2018                                       4.387237e-03              \n",
       "2019                                       5.096299e-03              \n",
       "2020                                       6.145945e-03              \n",
       "2021                                       7.561837e-03              \n",
       "2022                                       9.455032e-03              \n",
       "2023                                       1.216790e-02              \n",
       "2024                                       1.539274e-02              \n",
       "2025                                       1.965999e-02              \n",
       "2026                                       2.542853e-02              \n",
       "2027                                       3.062367e-02              \n",
       "2028                                       3.987101e-02              \n",
       "2029                                       5.439437e-02              \n",
       "2030                                       7.653370e-02              \n",
       "2031                                       9.121889e-02              \n",
       "2032                                       1.312155e-01              \n",
       "2033                                       1.558353e-01              \n",
       "2034                                       2.397459e-01              \n",
       "2035                                       3.651526e-01              \n",
       "2036                                       4.006180e-01              \n",
       "2037                                       5.814262e-01              \n",
       "2038                                       6.326701e-01              \n",
       "2039                                       6.987351e-01              \n",
       "2040                                       8.802027e-01              \n",
       "2041                                       9.705293e-01              \n",
       "2042                                       1.079668e+00              \n",
       "2043                                       1.322586e+00              \n",
       "2044                                       1.689291e+00              \n",
       "2045                                       1.783949e+00              \n",
       "2046                                       2.035040e+00              \n",
       "2047                                       2.116249e+00              \n",
       "2048                                       2.203655e+00              \n",
       "2049                                       2.369261e+00              \n",
       "2050                                       2.436590e+00              "
      ]
     },
     "execution_count": 29,
     "metadata": {},
     "output_type": "execute_result"
    }
   ],
   "source": [
    "#Print out results to file for Taylor\n",
    "tidy_results = pd.DataFrame()\n",
    "tidy_results['Annual_Installations_[MW]'] = USyearly_mil_tonnes['new_Installed_Capacity_[MW]']\n",
    "tidy_results['Active_Generating_Capacity_[MW]'] = (USyearly_mil_tonnes['Active_Capacity_[W]']/1e6)\n",
    "tidy_results['Annually_Decommissioned_[MW]'] = USyearly_mil_tonnes['Decommissioned_yearly_[MW]']\n",
    "tidy_results['Cumulative_Decommissioned_[MW]'] = USyearly_mil_tonnes['Decommissioned_yearly_[MW]'].cumsum()\n",
    "tidy_results['Cumulative_Decommissioned_Module_Mass_[million metric tonnes]'] = UScum['Waste_Module']\n",
    "\n",
    "tidy_results"
   ]
  },
  {
   "cell_type": "code",
   "execution_count": 30,
   "metadata": {},
   "outputs": [],
   "source": [
    "tidy_results.to_csv(path_or_buf=r'..\\baselines\\SupportingMaterial\\US_Historical_PV_Decomissioning.csv')"
   ]
  },
  {
   "cell_type": "markdown",
   "metadata": {},
   "source": [
    "# Test with New PV ICE functions"
   ]
  },
  {
   "cell_type": "code",
   "execution_count": null,
   "metadata": {},
   "outputs": [],
   "source": [
    "import os\n",
    "from pathlib import Path\n",
    "import PV_ICE\n",
    "import matplotlib.pyplot as plt\n",
    "import pandas as pd\n",
    "import numpy as np\n",
    "\n",
    "testfolder = str(Path().resolve().parent.parent / 'PV_ICE' / 'TEMP')\n",
    "\n",
    "# Another option using relative address; for some operative systems you might need '/' instead of '\\'\n",
    "# testfolder = os.path.abspath(r'..\\..\\PV_DEMICE\\TEMP')  \n",
    "\n",
    "print (\"Your simulation will be stored in %s\" % testfolder)"
   ]
  },
  {
   "cell_type": "code",
   "execution_count": null,
   "metadata": {},
   "outputs": [],
   "source": [
    "PV_ICE.__version__"
   ]
  },
  {
   "cell_type": "code",
   "execution_count": null,
   "metadata": {},
   "outputs": [],
   "source": [
    "cwd=os.getcwd()\n",
    "print(os.getcwd())"
   ]
  },
  {
   "cell_type": "code",
   "execution_count": null,
   "metadata": {},
   "outputs": [],
   "source": [
    "MATERIALS = ['glass','aluminium_frames','silver','silicon', 'copper', 'encapsulant']\n",
    "MATERIAL = MATERIALS[0]\n",
    "moduleFile = r'..\\baselines\\baseline_modules_US_HistoryUtilCommOnly.csv'"
   ]
  },
  {
   "cell_type": "code",
   "execution_count": null,
   "metadata": {},
   "outputs": [],
   "source": [
    "r2 = PV_ICE.Simulation(name='Simulation1', path=testfolder)\n",
    "r2.createScenario(name='USHistory', file=moduleFile)\n",
    "for mat in range (0, len(MATERIALS)):\n",
    "    MATERIALBASELINE = r'..\\baselines\\baseline_material_'+MATERIALS[mat]+'.csv'\n",
    "    r2.scenario['USHistory'].addMaterial(MATERIALS[mat], file=MATERIALBASELINE)"
   ]
  },
  {
   "cell_type": "markdown",
   "metadata": {},
   "source": [
    "### Set circular paths to 0 using new PV ICE function"
   ]
  },
  {
   "cell_type": "code",
   "execution_count": null,
   "metadata": {},
   "outputs": [],
   "source": [
    "#format r2.scenMod_Description(scenarios='scenariolist')\n",
    "r2.scenMod_noCircularity() # sets all module and material circular variables to 0, creating fully linear\n",
    "r2.scenMod_PerfectManufacturing() #sets all manufacturing values to 100% efficiency/yield\n",
    "#check:\n",
    "r2.scenario['USHistory'].material['glass'].materialdata['mat_MFG_eff']"
   ]
  },
  {
   "cell_type": "code",
   "execution_count": null,
   "metadata": {},
   "outputs": [],
   "source": [
    "r2.calculateMassFlow()"
   ]
  },
  {
   "cell_type": "code",
   "execution_count": null,
   "metadata": {},
   "outputs": [],
   "source": [
    "Usyearlyr2, UScumr2 = r2.aggregateResults()"
   ]
  },
  {
   "cell_type": "code",
   "execution_count": null,
   "metadata": {},
   "outputs": [],
   "source": [
    "Usyearlyr2.head()"
   ]
  },
  {
   "cell_type": "code",
   "execution_count": null,
   "metadata": {},
   "outputs": [],
   "source": [
    "UScumr2.head()"
   ]
  },
  {
   "cell_type": "code",
   "execution_count": null,
   "metadata": {},
   "outputs": [],
   "source": [
    "Usyearlyr2.to_csv('r2-usyearly.csv')\n",
    "UScumr2.to_csv('r2-uscum.csv')"
   ]
  },
  {
   "cell_type": "code",
   "execution_count": null,
   "metadata": {},
   "outputs": [],
   "source": []
  }
 ],
 "metadata": {
  "kernelspec": {
   "display_name": "Python 3 (ipykernel)",
   "language": "python",
   "name": "python3"
  },
  "language_info": {
   "codemirror_mode": {
    "name": "ipython",
    "version": 3
   },
   "file_extension": ".py",
   "mimetype": "text/x-python",
   "name": "python",
   "nbconvert_exporter": "python",
   "pygments_lexer": "ipython3",
   "version": "3.8.8"
  }
 },
 "nbformat": 4,
 "nbformat_minor": 2
}
