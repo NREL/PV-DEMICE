{
 "cells": [
  {
   "cell_type": "markdown",
   "metadata": {},
   "source": [
    "# 1 - Estimate when US Installs will reach EoL\n",
    "\n",
    "\n",
    "Historical installations for U.S. Utility and non-Residential sector was calculated from\n",
    "1. L. Sherwood, “U.S. Solar Market Trends 2008,” Interstate Renewable Energy Council, Jul. 2009. Accessed: Sep. 15, 2021. [Online]. Available: https://irecusa.org/wp-content/uploads/2021/07/Solar-Market-Trends-2008.pdf\n",
    "2. All Sherwood reports 2009-2014 for 1999 through 2009\n",
    "3. Wood Mackenzie Data from 2010 forward.\n",
    "4. “U.S. Solar Market Insight Report: 2012 Year in Review Full Report,” Greentech Media Inc. & SEIA, 2013 as a sanity check.\n",
    "The calculations to select for only these 2 sectors and weight for c-Si can be found in Supporting Materials folder, files \"Calculations-Installs-Subset-CommUtility.xlsx\", \"Installs-SubsetCommUtility.xlsx\", and \"Installs-SubsetCommUtility.csv\".\n",
    "\n",
    "These installations where then put into a module file. Installations after 2020 are set to 0, manufacturing efficiency is set to 100, and all circular EoL pathways are set to 0, sending all EoL material to the landfill. All lifetime and reliability, module efficiencies, and module degradation rates are taken from PV ICE baseline. The purpose of this calculation is to estimate when currently installed PV modules will come out of the field and need to be managed at EoL.\n"
   ]
  },
  {
   "cell_type": "markdown",
   "metadata": {},
   "source": [
    "This analysis conducted for Taylor Curtis"
   ]
  },
  {
   "cell_type": "code",
   "execution_count": 1,
   "metadata": {},
   "outputs": [
    {
     "name": "stdout",
     "output_type": "stream",
     "text": [
      "Your simulation will be stored in C:\\Users\\hmirletz\\Documents\\GitHub\\PV_ICE\\PV_ICE\\TEMP\n"
     ]
    }
   ],
   "source": [
    "import os\n",
    "from pathlib import Path\n",
    "import PV_ICE\n",
    "import matplotlib.pyplot as plt\n",
    "import pandas as pd\n",
    "import numpy as np\n",
    "\n",
    "testfolder = str(Path().resolve().parent.parent / 'PV_ICE' / 'TEMP')\n",
    "\n",
    "# Another option using relative address; for some operative systems you might need '/' instead of '\\'\n",
    "# testfolder = os.path.abspath(r'..\\..\\PV_DEMICE\\TEMP')  \n",
    "\n",
    "print (\"Your simulation will be stored in %s\" % testfolder)"
   ]
  },
  {
   "cell_type": "code",
   "execution_count": 2,
   "metadata": {},
   "outputs": [
    {
     "data": {
      "text/plain": [
       "'v0.2.0+223.ge0bffee.dirty'"
      ]
     },
     "execution_count": 2,
     "metadata": {},
     "output_type": "execute_result"
    }
   ],
   "source": [
    "PV_ICE.__version__"
   ]
  },
  {
   "cell_type": "markdown",
   "metadata": {},
   "source": [
    "### Add Scenarios and Materials\n"
   ]
  },
  {
   "cell_type": "code",
   "execution_count": 3,
   "metadata": {},
   "outputs": [
    {
     "name": "stdout",
     "output_type": "stream",
     "text": [
      "C:\\Users\\hmirletz\\Documents\\GitHub\\PV_ICE\\docs\\tutorials\n"
     ]
    }
   ],
   "source": [
    "cwd=os.getcwd()\n",
    "print(os.getcwd())"
   ]
  },
  {
   "cell_type": "code",
   "execution_count": 4,
   "metadata": {
    "scrolled": false
   },
   "outputs": [],
   "source": [
    "MATERIALS = ['glass','aluminium_frames','silver','silicon', 'copper', 'encapsulant', 'backsheet']\n",
    "MATERIAL = MATERIALS[0]\n",
    "moduleFile = r'..\\baselines\\baseline_modules_mass_US_HistoryUtilCommOnly.csv'"
   ]
  },
  {
   "cell_type": "code",
   "execution_count": 5,
   "metadata": {
    "scrolled": true
   },
   "outputs": [
    {
     "name": "stdout",
     "output_type": "stream",
     "text": [
      "path = C:\\Users\\hmirletz\\Documents\\GitHub\\PV_ICE\\PV_ICE\\TEMP\n"
     ]
    }
   ],
   "source": [
    "r1 = PV_ICE.Simulation(name='Simulation1', path=testfolder)\n",
    "r1.createScenario(name='USHistory', massmodulefile=moduleFile)\n",
    "for mat in range (0, len(MATERIALS)):\n",
    "    MATERIALBASELINE = r'..\\baselines\\baseline_material_mass_'+MATERIALS[mat]+'.csv'\n",
    "    r1.scenario['USHistory'].addMaterial(MATERIALS[mat], massmatfile=MATERIALBASELINE)"
   ]
  },
  {
   "cell_type": "markdown",
   "metadata": {},
   "source": [
    "### Set All Material Virgin, MFG, and circularity to 0\n",
    "\n",
    "The effective this will be to neglect all inefficiencies in the extraction and manufacturing process, looking at just the PV module material coming out of the field, and assuming it all goes to the landfill."
   ]
  },
  {
   "cell_type": "code",
   "execution_count": 6,
   "metadata": {
    "scrolled": true
   },
   "outputs": [],
   "source": [
    "r1.scenMod_noCircularity() # sets all module and material circular variables to 0, creating fully linear\n",
    "r1.scenMod_PerfectManufacturing() #sets all manufacturing values to 100% efficiency/yield\n",
    "#check:\n",
    "#r1.scenario['USHistory'].material['glass'].materialdata['mat_MFG_eff']"
   ]
  },
  {
   "cell_type": "markdown",
   "metadata": {},
   "source": [
    "### Run the Mass Flow Calculations on All Scenarios and Materials"
   ]
  },
  {
   "cell_type": "code",
   "execution_count": 7,
   "metadata": {},
   "outputs": [
    {
     "name": "stdout",
     "output_type": "stream",
     "text": [
      ">>>> Calculating Material Flows <<<<\n",
      "\n",
      "Working on Scenario:  USHistory\n",
      "********************\n",
      "Finished Area+Power Generation Calculations\n",
      "==> Working on Material :  glass\n",
      "==> Working on Material :  aluminium_frames\n",
      "==> Working on Material :  silver\n",
      "==> Working on Material :  silicon\n",
      "==> Working on Material :  copper\n",
      "==> Working on Material :  encapsulant\n",
      "==> Working on Material :  backsheet\n"
     ]
    }
   ],
   "source": [
    "r1.calculateMassFlow()\n"
   ]
  },
  {
   "cell_type": "markdown",
   "metadata": {},
   "source": [
    "###  Use internal plotting functions to plot results"
   ]
  },
  {
   "cell_type": "markdown",
   "metadata": {},
   "source": [
    "Pull out the keywords by printing the keys to the module data or the material data:\n",
    "\n",
    "    print(r1.scenario.keys())\n",
    "    \n",
    "    print(r1.scenario['standard'].data.keys())\n",
    "    \n",
    "    print(r1.scenario['standard'].material['glass'].materialdata.keys())"
   ]
  },
  {
   "cell_type": "code",
   "execution_count": 8,
   "metadata": {},
   "outputs": [
    {
     "name": "stdout",
     "output_type": "stream",
     "text": [
      "Index(['Area', 'Area_for_EOL_pathsG', 'Cumulative_Active_Area', 'EOL_BS_Year0',\n",
      "       'EOL_BS_Year1', 'EOL_BS_Year10', 'EOL_BS_Year11', 'EOL_BS_Year12',\n",
      "       'EOL_BS_Year13', 'EOL_BS_Year14',\n",
      "       ...\n",
      "       'Status_BAD_[W]', 'WeibullParams', 'Yearly_Sum_Area_disposed',\n",
      "       'Yearly_Sum_Area_disposedby_Failure',\n",
      "       'Yearly_Sum_Area_disposedby_ProjectLifetime',\n",
      "       'Yearly_Sum_Power_disposed', 'Yearly_Sum_Power_disposedby_Failure',\n",
      "       'Yearly_Sum_Power_disposedby_ProjectLifetime', 'irradiance_stc',\n",
      "       'landfilled_noncollected'],\n",
      "      dtype='object', length=209)\n"
     ]
    }
   ],
   "source": [
    "#print(r1.scenario.keys())\n",
    "print(r1.scenario['USHistory'].dataOut_m.keys())\n",
    "#print(r1.scenario['USHistory'].material['glass'].materialdata.keys())"
   ]
  },
  {
   "cell_type": "code",
   "execution_count": 9,
   "metadata": {
    "scrolled": true
   },
   "outputs": [
    {
     "name": "stdout",
     "output_type": "stream",
     "text": [
      "Warning: Keyword / Units not Found\n"
     ]
    },
    {
     "ename": "AttributeError",
     "evalue": "'Scenario' object has no attribute 'dataIn_e'",
     "output_type": "error",
     "traceback": [
      "\u001b[1;31m---------------------------------------------------------------------------\u001b[0m",
      "\u001b[1;31mAttributeError\u001b[0m                            Traceback (most recent call last)",
      "Input \u001b[1;32mIn [9]\u001b[0m, in \u001b[0;36m<cell line: 1>\u001b[1;34m()\u001b[0m\n\u001b[1;32m----> 1\u001b[0m \u001b[43mr1\u001b[49m\u001b[38;5;241;43m.\u001b[39;49m\u001b[43mplotScenariosComparison\u001b[49m\u001b[43m(\u001b[49m\u001b[43mkeyword\u001b[49m\u001b[38;5;241;43m=\u001b[39;49m\u001b[38;5;124;43m'\u001b[39;49m\u001b[38;5;124;43mYearly_Sum_Area_disposed\u001b[39;49m\u001b[38;5;124;43m'\u001b[39;49m\u001b[43m)\u001b[49m\n",
      "File \u001b[1;32m~\\Documents\\GitHub\\PV_ICE\\PV_ICE\\main.py:1432\u001b[0m, in \u001b[0;36mSimulation.plotScenariosComparison\u001b[1;34m(self, keyword, scenarios)\u001b[0m\n\u001b[0;32m   1430\u001b[0m \u001b[38;5;28;01mif\u001b[39;00m keyword \u001b[38;5;129;01min\u001b[39;00m \u001b[38;5;28mself\u001b[39m\u001b[38;5;241m.\u001b[39mscenario[scen]\u001b[38;5;241m.\u001b[39mdataIn_m:                \n\u001b[0;32m   1431\u001b[0m     plt\u001b[38;5;241m.\u001b[39mplot(\u001b[38;5;28mself\u001b[39m\u001b[38;5;241m.\u001b[39mscenario[scen]\u001b[38;5;241m.\u001b[39mdataIn_m[\u001b[38;5;124m'\u001b[39m\u001b[38;5;124myear\u001b[39m\u001b[38;5;124m'\u001b[39m],\u001b[38;5;28mself\u001b[39m\u001b[38;5;241m.\u001b[39mscenario[scen]\u001b[38;5;241m.\u001b[39mdataIn_m[keyword], label\u001b[38;5;241m=\u001b[39mscen)\n\u001b[1;32m-> 1432\u001b[0m \u001b[38;5;28;01melif\u001b[39;00m keyword \u001b[38;5;129;01min\u001b[39;00m \u001b[38;5;28;43mself\u001b[39;49m\u001b[38;5;241;43m.\u001b[39;49m\u001b[43mscenario\u001b[49m\u001b[43m[\u001b[49m\u001b[43mscen\u001b[49m\u001b[43m]\u001b[49m\u001b[38;5;241;43m.\u001b[39;49m\u001b[43mdataIn_e\u001b[49m: \n\u001b[0;32m   1433\u001b[0m     plt\u001b[38;5;241m.\u001b[39mplot(\u001b[38;5;28mself\u001b[39m\u001b[38;5;241m.\u001b[39mscenario[scen]\u001b[38;5;241m.\u001b[39mdataIn_e[\u001b[38;5;124m'\u001b[39m\u001b[38;5;124myear\u001b[39m\u001b[38;5;124m'\u001b[39m],\u001b[38;5;28mself\u001b[39m\u001b[38;5;241m.\u001b[39mscenario[scen]\u001b[38;5;241m.\u001b[39mdataIn_e[keyword], label\u001b[38;5;241m=\u001b[39mscen)\n\u001b[0;32m   1434\u001b[0m \u001b[38;5;28;01melif\u001b[39;00m keyword \u001b[38;5;129;01min\u001b[39;00m \u001b[38;5;28mself\u001b[39m\u001b[38;5;241m.\u001b[39mscenario[scen]\u001b[38;5;241m.\u001b[39mdataOut_m: \n",
      "\u001b[1;31mAttributeError\u001b[0m: 'Scenario' object has no attribute 'dataIn_e'"
     ]
    },
    {
     "data": {
      "text/plain": [
       "<Figure size 432x288 with 0 Axes>"
      ]
     },
     "metadata": {},
     "output_type": "display_data"
    }
   ],
   "source": [
    "r1.plotScenariosComparison(keyword='Yearly_Sum_Area_disposed')"
   ]
  },
  {
   "cell_type": "code",
   "execution_count": 10,
   "metadata": {},
   "outputs": [
    {
     "ename": "TypeError",
     "evalue": "argument of type 'NoneType' is not iterable",
     "output_type": "error",
     "traceback": [
      "\u001b[1;31m---------------------------------------------------------------------------\u001b[0m",
      "\u001b[1;31mTypeError\u001b[0m                                 Traceback (most recent call last)",
      "Input \u001b[1;32mIn [10]\u001b[0m, in \u001b[0;36m<cell line: 1>\u001b[1;34m()\u001b[0m\n\u001b[1;32m----> 1\u001b[0m \u001b[43mr1\u001b[49m\u001b[38;5;241;43m.\u001b[39;49m\u001b[43mplotMaterialComparisonAcrossScenarios\u001b[49m\u001b[43m(\u001b[49m\u001b[43mmaterial\u001b[49m\u001b[38;5;241;43m=\u001b[39;49m\u001b[38;5;124;43m'\u001b[39;49m\u001b[38;5;124;43mglass\u001b[39;49m\u001b[38;5;124;43m'\u001b[39;49m\u001b[43m,\u001b[49m\u001b[43m \u001b[49m\u001b[43mkeyword\u001b[49m\u001b[38;5;241;43m=\u001b[39;49m\u001b[38;5;124;43m'\u001b[39;49m\u001b[38;5;124;43mmat_Total_MFG_Landfilled\u001b[39;49m\u001b[38;5;124;43m'\u001b[39;49m\u001b[43m)\u001b[49m\n",
      "File \u001b[1;32m~\\Documents\\GitHub\\PV_ICE\\PV_ICE\\main.py:1600\u001b[0m, in \u001b[0;36mSimulation.plotMaterialComparisonAcrossScenarios\u001b[1;34m(self, keyword, scenarios, material)\u001b[0m\n\u001b[0;32m   1598\u001b[0m \u001b[38;5;28;01mif\u001b[39;00m keyword \u001b[38;5;129;01min\u001b[39;00m \u001b[38;5;28mself\u001b[39m\u001b[38;5;241m.\u001b[39mscenario[scen]\u001b[38;5;241m.\u001b[39mmaterial[material]\u001b[38;5;241m.\u001b[39mmatdataIn_m:                \n\u001b[0;32m   1599\u001b[0m     plt\u001b[38;5;241m.\u001b[39mplot(\u001b[38;5;28mself\u001b[39m\u001b[38;5;241m.\u001b[39mscenario[scen]\u001b[38;5;241m.\u001b[39mdataIn_m[\u001b[38;5;124m'\u001b[39m\u001b[38;5;124myear\u001b[39m\u001b[38;5;124m'\u001b[39m],\u001b[38;5;28mself\u001b[39m\u001b[38;5;241m.\u001b[39mscenario[scen]\u001b[38;5;241m.\u001b[39mmaterial[material]\u001b[38;5;241m.\u001b[39mmatdataIn_m[keyword], label\u001b[38;5;241m=\u001b[39mscen)\n\u001b[1;32m-> 1600\u001b[0m \u001b[38;5;28;01melif\u001b[39;00m \u001b[43mkeyword\u001b[49m\u001b[43m \u001b[49m\u001b[38;5;129;43;01min\u001b[39;49;00m\u001b[43m \u001b[49m\u001b[38;5;28;43mself\u001b[39;49m\u001b[38;5;241;43m.\u001b[39;49m\u001b[43mscenario\u001b[49m\u001b[43m[\u001b[49m\u001b[43mscen\u001b[49m\u001b[43m]\u001b[49m\u001b[38;5;241;43m.\u001b[39;49m\u001b[43mmaterial\u001b[49m\u001b[43m[\u001b[49m\u001b[43mmaterial\u001b[49m\u001b[43m]\u001b[49m\u001b[38;5;241;43m.\u001b[39;49m\u001b[43mmatdataIn_e\u001b[49m:   \n\u001b[0;32m   1601\u001b[0m     plt\u001b[38;5;241m.\u001b[39mplot(\u001b[38;5;28mself\u001b[39m\u001b[38;5;241m.\u001b[39mscenario[scen]\u001b[38;5;241m.\u001b[39mdataIn_m[\u001b[38;5;124m'\u001b[39m\u001b[38;5;124myear\u001b[39m\u001b[38;5;124m'\u001b[39m],\u001b[38;5;28mself\u001b[39m\u001b[38;5;241m.\u001b[39mscenario[scen]\u001b[38;5;241m.\u001b[39mmaterial[material]\u001b[38;5;241m.\u001b[39mmatdataIn_e[keyword], label\u001b[38;5;241m=\u001b[39mscen)\n\u001b[0;32m   1602\u001b[0m \u001b[38;5;28;01melif\u001b[39;00m keyword \u001b[38;5;129;01min\u001b[39;00m \u001b[38;5;28mself\u001b[39m\u001b[38;5;241m.\u001b[39mscenario[scen]\u001b[38;5;241m.\u001b[39mmaterial[material]\u001b[38;5;241m.\u001b[39mmatdataOut_m:   \n",
      "\u001b[1;31mTypeError\u001b[0m: argument of type 'NoneType' is not iterable"
     ]
    },
    {
     "data": {
      "text/plain": [
       "<Figure size 432x288 with 0 Axes>"
      ]
     },
     "metadata": {},
     "output_type": "display_data"
    }
   ],
   "source": [
    "r1.plotMaterialComparisonAcrossScenarios(material='glass', keyword='mat_Total_MFG_Landfilled')"
   ]
  },
  {
   "cell_type": "code",
   "execution_count": 11,
   "metadata": {},
   "outputs": [
    {
     "data": {
      "text/plain": [
       "Text(0, 0.5, 'Installed Cap [W]')"
      ]
     },
     "execution_count": 11,
     "metadata": {},
     "output_type": "execute_result"
    },
    {
     "data": {
      "image/png": "[encoded data removed]",
      "text/plain": [
       "<Figure size 432x288 with 1 Axes>"
      ]
     },
     "metadata": {
      "needs_background": "light"
     },
     "output_type": "display_data"
    }
   ],
   "source": [
    "plt.plot(r1.scenario['USHistory'].dataIn_m['year'], \n",
    "         r1.scenario['USHistory'].dataOut_m['Installed_Capacity_[W]'], label='Installed [W]')\n",
    "\n",
    "plt.title('Installed Capacity Annually')\n",
    "plt.ylabel('Installed Cap [W]')"
   ]
  },
  {
   "cell_type": "code",
   "execution_count": 12,
   "metadata": {},
   "outputs": [],
   "source": [
    "usyearlyr1, uscumr1 = r1.aggregateResults()\n",
    "usyearlyr1.to_csv('historicalUS-yearly.csv')\n",
    "uscumr1.to_csv('historicalUS-cumulative.csv')"
   ]
  },
  {
   "cell_type": "markdown",
   "metadata": {},
   "source": [
    "## Pretty Plots"
   ]
  },
  {
   "cell_type": "code",
   "execution_count": 15,
   "metadata": {
    "scrolled": true
   },
   "outputs": [
    {
     "data": {
      "text/html": [
       "<div>\n",
       "<style scoped>\n",
       "    .dataframe tbody tr th:only-of-type {\n",
       "        vertical-align: middle;\n",
       "    }\n",
       "\n",
       "    .dataframe tbody tr th {\n",
       "        vertical-align: top;\n",
       "    }\n",
       "\n",
       "    .dataframe thead th {\n",
       "        text-align: right;\n",
       "    }\n",
       "</style>\n",
       "<table border=\"1\" class=\"dataframe\">\n",
       "  <thead>\n",
       "    <tr style=\"text-align: right;\">\n",
       "      <th></th>\n",
       "      <th>Waste_glass</th>\n",
       "      <th>Waste_aluminium_frames</th>\n",
       "      <th>Waste_silver</th>\n",
       "      <th>Waste_silicon</th>\n",
       "      <th>Waste_copper</th>\n",
       "      <th>Waste_encapsulant</th>\n",
       "      <th>Waste_backsheet</th>\n",
       "      <th>Waste_Module</th>\n",
       "    </tr>\n",
       "  </thead>\n",
       "  <tbody>\n",
       "    <tr>\n",
       "      <th>0</th>\n",
       "      <td>0.000000e+00</td>\n",
       "      <td>0.000000e+00</td>\n",
       "      <td>0.000000</td>\n",
       "      <td>0.000000e+00</td>\n",
       "      <td>0.000000</td>\n",
       "      <td>0.000000e+00</td>\n",
       "      <td>0.000000</td>\n",
       "      <td>0.000000e+00</td>\n",
       "    </tr>\n",
       "    <tr>\n",
       "      <th>1</th>\n",
       "      <td>2.620761e+03</td>\n",
       "      <td>1.008931e+03</td>\n",
       "      <td>29.464807</td>\n",
       "      <td>2.813476e+02</td>\n",
       "      <td>1.800032</td>\n",
       "      <td>2.832639e+02</td>\n",
       "      <td>60.268924</td>\n",
       "      <td>4.285837e+03</td>\n",
       "    </tr>\n",
       "    <tr>\n",
       "      <th>2</th>\n",
       "      <td>5.527447e+04</td>\n",
       "      <td>2.126104e+04</td>\n",
       "      <td>620.568471</td>\n",
       "      <td>5.929703e+03</td>\n",
       "      <td>37.964478</td>\n",
       "      <td>5.974321e+03</td>\n",
       "      <td>1272.783717</td>\n",
       "      <td>9.037085e+04</td>\n",
       "    </tr>\n",
       "    <tr>\n",
       "      <th>3</th>\n",
       "      <td>3.194365e+05</td>\n",
       "      <td>1.226027e+05</td>\n",
       "      <td>3573.605687</td>\n",
       "      <td>3.420721e+04</td>\n",
       "      <td>219.400390</td>\n",
       "      <td>3.452618e+04</td>\n",
       "      <td>7379.580016</td>\n",
       "      <td>5.219452e+05</td>\n",
       "    </tr>\n",
       "    <tr>\n",
       "      <th>4</th>\n",
       "      <td>1.069380e+06</td>\n",
       "      <td>4.097185e+05</td>\n",
       "      <td>11929.573073</td>\n",
       "      <td>1.143532e+05</td>\n",
       "      <td>734.488196</td>\n",
       "      <td>1.155835e+05</td>\n",
       "      <td>24768.574188</td>\n",
       "      <td>1.746468e+06</td>\n",
       "    </tr>\n",
       "    <tr>\n",
       "      <th>5</th>\n",
       "      <td>2.652191e+06</td>\n",
       "      <td>1.014814e+06</td>\n",
       "      <td>29528.414434</td>\n",
       "      <td>2.833293e+05</td>\n",
       "      <td>1821.619507</td>\n",
       "      <td>2.866611e+05</td>\n",
       "      <td>61539.374804</td>\n",
       "      <td>4.329885e+06</td>\n",
       "    </tr>\n",
       "    <tr>\n",
       "      <th>6</th>\n",
       "      <td>5.469084e+06</td>\n",
       "      <td>2.090106e+06</td>\n",
       "      <td>60797.006105</td>\n",
       "      <td>5.838039e+05</td>\n",
       "      <td>3756.361575</td>\n",
       "      <td>5.911239e+05</td>\n",
       "      <td>127077.121714</td>\n",
       "      <td>8.925748e+06</td>\n",
       "    </tr>\n",
       "    <tr>\n",
       "      <th>7</th>\n",
       "      <td>9.963942e+06</td>\n",
       "      <td>3.802704e+06</td>\n",
       "      <td>110609.055889</td>\n",
       "      <td>1.062870e+06</td>\n",
       "      <td>6843.590824</td>\n",
       "      <td>1.076949e+06</td>\n",
       "      <td>231809.946600</td>\n",
       "      <td>1.625573e+07</td>\n",
       "    </tr>\n",
       "    <tr>\n",
       "      <th>8</th>\n",
       "      <td>1.660546e+07</td>\n",
       "      <td>6.326748e+06</td>\n",
       "      <td>184065.360499</td>\n",
       "      <td>1.770048e+06</td>\n",
       "      <td>11405.222120</td>\n",
       "      <td>1.794795e+06</td>\n",
       "      <td>386828.598029</td>\n",
       "      <td>2.707935e+07</td>\n",
       "    </tr>\n",
       "    <tr>\n",
       "      <th>9</th>\n",
       "      <td>2.585632e+07</td>\n",
       "      <td>9.830306e+06</td>\n",
       "      <td>286115.909822</td>\n",
       "      <td>2.753878e+06</td>\n",
       "      <td>17759.041405</td>\n",
       "      <td>2.794671e+06</td>\n",
       "      <td>603218.561259</td>\n",
       "      <td>4.214227e+07</td>\n",
       "    </tr>\n",
       "  </tbody>\n",
       "</table>\n",
       "</div>"
      ],
      "text/plain": [
       "    Waste_glass  Waste_aluminium_frames   Waste_silver  Waste_silicon  \\\n",
       "0  0.000000e+00            0.000000e+00       0.000000   0.000000e+00   \n",
       "1  2.620761e+03            1.008931e+03      29.464807   2.813476e+02   \n",
       "2  5.527447e+04            2.126104e+04     620.568471   5.929703e+03   \n",
       "3  3.194365e+05            1.226027e+05    3573.605687   3.420721e+04   \n",
       "4  1.069380e+06            4.097185e+05   11929.573073   1.143532e+05   \n",
       "5  2.652191e+06            1.014814e+06   29528.414434   2.833293e+05   \n",
       "6  5.469084e+06            2.090106e+06   60797.006105   5.838039e+05   \n",
       "7  9.963942e+06            3.802704e+06  110609.055889   1.062870e+06   \n",
       "8  1.660546e+07            6.326748e+06  184065.360499   1.770048e+06   \n",
       "9  2.585632e+07            9.830306e+06  286115.909822   2.753878e+06   \n",
       "\n",
       "   Waste_copper  Waste_encapsulant  Waste_backsheet  Waste_Module  \n",
       "0      0.000000       0.000000e+00         0.000000  0.000000e+00  \n",
       "1      1.800032       2.832639e+02        60.268924  4.285837e+03  \n",
       "2     37.964478       5.974321e+03      1272.783717  9.037085e+04  \n",
       "3    219.400390       3.452618e+04      7379.580016  5.219452e+05  \n",
       "4    734.488196       1.155835e+05     24768.574188  1.746468e+06  \n",
       "5   1821.619507       2.866611e+05     61539.374804  4.329885e+06  \n",
       "6   3756.361575       5.911239e+05    127077.121714  8.925748e+06  \n",
       "7   6843.590824       1.076949e+06    231809.946600  1.625573e+07  \n",
       "8  11405.222120       1.794795e+06    386828.598029  2.707935e+07  \n",
       "9  17759.041405       2.794671e+06    603218.561259  4.214227e+07  "
      ]
     },
     "execution_count": 15,
     "metadata": {},
     "output_type": "execute_result"
    }
   ],
   "source": [
    "#create a yearly Module Waste Mass\n",
    "USyearly=pd.DataFrame()\n",
    "keyword = 'mat_Total_Landfilled'\n",
    "for mat in range (0, len(MATERIALS)):\n",
    "    material = MATERIALS[mat]\n",
    "    foo = r1.scenario['USHistory'].material[material].matdataOut_m[keyword].copy()\n",
    "    foo = foo.to_frame(name=material)\n",
    "    USyearly[\"Waste_\"+material] = foo[material]\n",
    "\n",
    "#sum the columns for module mass\n",
    "USyearly['Waste_Module'] = USyearly.sum(axis=1)\n",
    "\n",
    "USyearly.head(10)"
   ]
  },
  {
   "cell_type": "code",
   "execution_count": null,
   "metadata": {},
   "outputs": [],
   "source": [
    "#add index\n",
    "USyearly.index = r1.scenario['USHistory'].dataIn_m['year']"
   ]
  },
  {
   "cell_type": "code",
   "execution_count": null,
   "metadata": {},
   "outputs": [],
   "source": [
    "#Convert to million metric tonnes\n",
    "USyearly_mil_tonnes=USyearly/1000000000000"
   ]
  },
  {
   "cell_type": "code",
   "execution_count": null,
   "metadata": {},
   "outputs": [],
   "source": [
    "#Adding new installed capacity for decomissioning calc\n",
    "USyearly_mil_tonnes['new_Installed_Capacity_[MW]'] = r1.scenario['USHistory'].dataIn_m['new_Installed_Capacity_[MW]'].values"
   ]
  },
  {
   "cell_type": "code",
   "execution_count": null,
   "metadata": {
    "scrolled": true
   },
   "outputs": [],
   "source": [
    "UScum = USyearly_mil_tonnes.copy()\n",
    "UScum = UScum.cumsum()\n",
    "\n",
    "UScum.head()"
   ]
  },
  {
   "cell_type": "code",
   "execution_count": null,
   "metadata": {
    "scrolled": true
   },
   "outputs": [],
   "source": [
    "bottoms = pd.DataFrame(UScum.loc[2050])\n",
    "bottoms"
   ]
  },
  {
   "cell_type": "code",
   "execution_count": null,
   "metadata": {
    "scrolled": true
   },
   "outputs": [],
   "source": [
    "plt.rcParams.update({'font.size': 15})\n",
    "plt.rcParams['figure.figsize'] = (15, 8)\n",
    "\n",
    "f, (a0, a1) = plt.subplots(1, 2, gridspec_kw={'width_ratios': [3, 1]})\n",
    "\n",
    "########################    \n",
    "# SUBPLOT 1\n",
    "########################\n",
    "a0.plot(USyearly_mil_tonnes.index, USyearly_mil_tonnes['Waste_Module'], 'k.', linewidth=5, label='EoL Module Mass')\n",
    "a0.plot(USyearly_mil_tonnes.index, USyearly_mil_tonnes['Waste_glass'], 'k', linewidth=5, label='EoL Glass Mass')\n",
    "a0.fill_between(USyearly_mil_tonnes.index, USyearly_mil_tonnes['Waste_glass'], USyearly_mil_tonnes['Waste_Module'],\n",
    "                color='k', alpha=0.3, interpolate=True)\n",
    "\n",
    "a0.legend()\n",
    "a0.set_title('Yearly EoL Material Mass')\n",
    "a0.set_ylabel('Mass [Million Tonnes]')\n",
    "a0.set_xlim([1995, 2050])\n",
    "a0.set_xlabel('Years')\n",
    "\n",
    "########################    \n",
    "# SUBPLOT 2\n",
    "########################\n",
    "## Plot BARS Stuff\n",
    "ind=np.arange(1)\n",
    "width=0.35 # width of the bars.\n",
    "\n",
    "bottoms = pd.DataFrame(UScum.loc[2050])\n",
    "\n",
    "p0 = a1.bar(ind, UScum.loc[2050]['Waste_glass'], width, color='c')\n",
    "p1 = a1.bar(ind, UScum.loc[2050]['Waste_aluminium_frames'], width, bottom=bottoms.iloc[0])\n",
    "p2 = a1.bar(ind, UScum.loc[2050]['Waste_silicon'], width, bottom=(bottoms.iloc[1]+bottoms.iloc[0]))\n",
    "p3 = a1.bar(ind, UScum.loc[2050]['Waste_copper'], width, bottom=(bottoms.iloc[2]+bottoms.iloc[1]+bottoms.iloc[0]))\n",
    "p4 = a1.bar(ind, UScum.loc[2050]['Waste_silver'], width, bottom=(bottoms.iloc[3]+bottoms.iloc[2]+bottoms.iloc[1]+bottoms.iloc[0]))\n",
    "p5 = a1.bar(ind, UScum.loc[2050]['Waste_encapsulant'], width, bottom=(bottoms.iloc[4]+bottoms.iloc[3]+bottoms.iloc[2]+bottoms.iloc[1]+bottoms.iloc[0]))\n",
    "p6 = a1.bar(ind, UScum.loc[2050]['Waste_backsheet'], width, bottom=(bottoms.iloc[5]+bottoms.iloc[4]+bottoms.iloc[3]+bottoms.iloc[2]+bottoms.iloc[1]+bottoms.iloc[0]))\n",
    "\n",
    "a1.yaxis.set_label_position(\"right\")\n",
    "a1.yaxis.tick_right()\n",
    "a1.set_ylabel('EoL PV Material [Million Tonnes]')\n",
    "a1.set_xlabel('Cumulative in 2050')\n",
    "a1.set_xticks(ind)\n",
    "a1.legend((p0[0], p1[0], p2[0], p3[0], p4[0], p5[0], p6[0] ), ('Glass', 'Aluminium frames', 'Silicon','Copper','Silver', 'Encapsulant', 'Backsheet'))"
   ]
  },
  {
   "cell_type": "markdown",
   "metadata": {},
   "source": [
    "# Plot and Table of decommissioned in MW\n",
    "decommissioned yearly = cumulative new installs - yearly active capacity\n",
    "\n",
    "the decommissioned yearly column is actually cumulative, so do reverse cum on it.\n",
    "\n",
    "Create a table output of installs, active generating capacity annually decommissioned, cumulatively decomissioned, and cumulative decomissioned module mass."
   ]
  },
  {
   "cell_type": "code",
   "execution_count": null,
   "metadata": {},
   "outputs": [],
   "source": [
    "usyearlyr1.head()"
   ]
  },
  {
   "cell_type": "code",
   "execution_count": null,
   "metadata": {
    "scrolled": true
   },
   "outputs": [],
   "source": [
    "tidy_results = usyearlyr1.iloc[:,32:]\n",
    "tidy_results.columns = ('new_Installed_Capacity_[MW]', 'Active_Capacity_[MW]','Cumulative_Decomissioned_Capacity_[MW]')"
   ]
  },
  {
   "cell_type": "code",
   "execution_count": null,
   "metadata": {
    "scrolled": true
   },
   "outputs": [],
   "source": [
    "#tidy_results['Annual_Decommissioned_Capacity_[MW]'] = \n",
    "tidy_results['Annual_Decomissioned_Capacity_[MW]'] = tidy_results['Cumulative_Decomissioned_Capacity_[MW]']-tidy_results['Cumulative_Decomissioned_Capacity_[MW]'].shift(1).fillna(0)\n",
    "tidy_results['Cumulative_Module_Mass_Decommissioned_[million tonnes]'] = usyearlyr1.filter(like='WasteAll_Module')/1e6\n",
    "tidy_results"
   ]
  },
  {
   "cell_type": "code",
   "execution_count": null,
   "metadata": {},
   "outputs": [],
   "source": [
    "tidy_results.to_csv(path_or_buf=r'..\\baselines\\SupportingMaterial\\US_Historical_PV_Decomissioning.csv')"
   ]
  }
 ],
 "metadata": {
  "kernelspec": {
   "display_name": "Python 3 (ipykernel)",
   "language": "python",
   "name": "python3"
  },
  "language_info": {
   "codemirror_mode": {
    "name": "ipython",
    "version": 3
   },
   "file_extension": ".py",
   "mimetype": "text/x-python",
   "name": "python",
   "nbconvert_exporter": "python",
   "pygments_lexer": "ipython3",
   "version": "3.8.8"
  }
 },
 "nbformat": 4,
 "nbformat_minor": 2
}
