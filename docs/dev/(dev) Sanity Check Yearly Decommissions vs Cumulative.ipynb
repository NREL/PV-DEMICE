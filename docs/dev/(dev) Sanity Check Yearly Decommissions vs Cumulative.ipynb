{
 "cells": [
  {
   "cell_type": "markdown",
   "id": "92190c95",
   "metadata": {},
   "source": [
    "While the cumulative numbers are working okay, there is some +1 or -1 year offset in the yearly decommisions that throws the Area to Power calculation off"
   ]
  },
  {
   "cell_type": "code",
   "execution_count": 1,
   "id": "c557fd3f",
   "metadata": {},
   "outputs": [
    {
     "name": "stdout",
     "output_type": "stream",
     "text": [
      "Your simulation will be stored in C:\\Users\\sayala\\Documents\\GitHub\\PV_ICE\\PV_ICE\\TEMP\\debug19\n"
     ]
    }
   ],
   "source": [
    "import os\n",
    "from pathlib import Path\n",
    "import PV_ICE\n",
    "import matplotlib.pyplot as plt\n",
    "import pandas as pd\n",
    "import numpy as np\n",
    "\n",
    "testfolder = str(Path().resolve().parent.parent / 'PV_ICE' / 'TEMP' / 'debug19')\n",
    "baselinesfolder = str(Path().resolve().parent.parent / 'PV_ICE' / 'baselines')\n",
    "supportMatfolder = str(Path().resolve().parent.parent / 'PV_ICE' / 'baselines' / 'SupportingMaterial')\n",
    "#resultsfolder = str(Path().resolve().parent.parent / 'PV_ICE' / 'baselines' / 'SupportingMaterial'/ 'USHistoryResults')\n",
    "\n",
    "\n",
    "print (\"Your simulation will be stored in %s\" % testfolder)"
   ]
  },
  {
   "cell_type": "code",
   "execution_count": 2,
   "id": "63c187bc",
   "metadata": {},
   "outputs": [],
   "source": [
    "modulefile = r'C:\\Users\\sayala\\Documents\\GitHub\\PV_ICE\\tests\\baseline_modules_test_3.csv'\n",
    "materialfile = r'C:\\Users\\sayala\\Documents\\GitHub\\PV_ICE\\tests\\baseline_material_test_3.csv'"
   ]
  },
  {
   "cell_type": "code",
   "execution_count": 3,
   "id": "1a03186a",
   "metadata": {},
   "outputs": [
    {
     "data": {
      "text/plain": [
       "'v0.2.0+365.g1c86b9a.dirty'"
      ]
     },
     "execution_count": 3,
     "metadata": {},
     "output_type": "execute_result"
    }
   ],
   "source": [
    "PV_ICE.__version__"
   ]
  },
  {
   "cell_type": "code",
   "execution_count": 4,
   "id": "cfdf46b7",
   "metadata": {},
   "outputs": [
    {
     "name": "stdout",
     "output_type": "stream",
     "text": [
      "path = C:\\Users\\sayala\\Documents\\GitHub\\PV_ICE\\PV_ICE\\TEMP\\debug19\n"
     ]
    }
   ],
   "source": [
    "r1 = PV_ICE.Simulation(name='sim1', path=testfolder)\n",
    "r1.createScenario(name='scen1', massmodulefile=modulefile) #create the scenario, name and mod file attach\n",
    "r1.scenario['scen1'].addMaterial('mat1', massmatfile=materialfile) # add all materials listed in MATERIALS"
   ]
  },
  {
   "cell_type": "code",
   "execution_count": 5,
   "id": "8499c7f8",
   "metadata": {},
   "outputs": [
    {
     "name": "stdout",
     "output_type": "stream",
     "text": [
      ">>>> Calculating Material Flows <<<<\n",
      "\n",
      "Working on Scenario:  scen1\n",
      "********************\n",
      "Finished Area+Power Generation Calculations\n",
      "==> Working on Material :  mat1\n"
     ]
    }
   ],
   "source": [
    "r1.calculateMassFlow()\n"
   ]
  },
  {
   "cell_type": "code",
   "execution_count": 6,
   "id": "6da28375",
   "metadata": {},
   "outputs": [],
   "source": [
    "r1.scenario['scen1'].dataOut_m.to_csv('dataOut_m.csv')"
   ]
  },
  {
   "cell_type": "code",
   "execution_count": null,
   "id": "9d1a0cb2",
   "metadata": {},
   "outputs": [],
   "source": [
    "r1.scenario['scen1'].dataOut_m.to_csv('dataOut_m.csv')"
   ]
  },
  {
   "cell_type": "code",
   "execution_count": null,
   "id": "aac684e5",
   "metadata": {},
   "outputs": [],
   "source": []
  }
 ],
 "metadata": {
  "kernelspec": {
   "display_name": "Python 3 (ipykernel)",
   "language": "python",
   "name": "python3"
  },
  "language_info": {
   "codemirror_mode": {
    "name": "ipython",
    "version": 3
   },
   "file_extension": ".py",
   "mimetype": "text/x-python",
   "name": "python",
   "nbconvert_exporter": "python",
   "pygments_lexer": "ipython3",
   "version": "3.9.13"
  }
 },
 "nbformat": 4,
 "nbformat_minor": 5
}
