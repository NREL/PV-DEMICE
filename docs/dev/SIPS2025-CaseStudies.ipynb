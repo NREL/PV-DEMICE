{
 "cells": [
  {
   "cell_type": "markdown",
   "id": "badb9b1e-e3ab-46ab-835d-46aec0dc01ac",
   "metadata": {},
   "source": [
    "# SIPS: QUIP SERIES\n",
    "This journal explores the case studies of the SIPS 2025 project understanding the implications of repowering and module reuse. This compliments analyses conducted in SAM and PV Watts. Below are the Residential, Commercial, and Utility scale case studies"
   ]
  },
  {
   "cell_type": "code",
   "execution_count": 1,
   "id": "51c46971-8cdf-4836-8418-0469123f3ab9",
   "metadata": {},
   "outputs": [
    {
     "name": "stdout",
     "output_type": "stream",
     "text": [
      "Python version  3.11.5 | packaged by Anaconda, Inc. | (main, Sep 11 2023, 13:26:23) [MSC v.1916 64 bit (AMD64)]\n",
      "Pandas version  2.0.3\n",
      "pyplot  3.7.2\n",
      "PV_ICE version  \n"
     ]
    }
   ],
   "source": [
    "#setup\n",
    "import numpy as np\n",
    "import pandas as pd\n",
    "import os,sys\n",
    "from pathlib import Path\n",
    "import matplotlib.pyplot as plt\n",
    "import plotly.express as px\n",
    "\n",
    "import PV_ICE\n",
    "\n",
    "cwd = os.getcwd() #grabs current working directory\n",
    "\n",
    "testfolder = str(Path().resolve().parent.parent / 'PV_ICE' / 'TEMP' / 'SIPS-Repowering')\n",
    "#inputfolder = str(Path().resolve().parent.parent / 'PV_ICE' / 'baselines'/'NRELStdScenarios')\n",
    "baselinesfolder = str(Path().resolve().parent.parent /'PV_ICE' / 'baselines')\n",
    "supportMatfolder = str(Path().resolve().parent.parent / 'PV_ICE' / 'baselines' / 'SupportingMaterial')\n",
    "#altBaselinesfolder = str(Path().resolve().parent.parent / 'PV_ICE' / 'baselines' / 'Energy_CellModuleTechCompare')\n",
    "\n",
    "if not os.path.exists(testfolder):\n",
    "    os.makedirs(testfolder)\n",
    "\n",
    "print(\"Python version \", sys.version)\n",
    "print(\"Pandas version \", pd.__version__)\n",
    "print(\"pyplot \", plt.matplotlib.__version__)\n",
    "print(\"PV_ICE version \", PV_ICE.__version__)"
   ]
  },
  {
   "cell_type": "code",
   "execution_count": 2,
   "id": "613f82f3-f393-43dc-9386-0b9329ab0804",
   "metadata": {},
   "outputs": [
    {
     "name": "stdout",
     "output_type": "stream",
     "text": [
      "path = C:\\Users\\hmirletz\\Documents\\GitHub\\PV_ICE\\PV_ICE\\TEMP\\SIPS-Repowering\n",
      "Baseline folder directed to default:  C:\\Users\\hmirletz\\Documents\\GitHub\\PV_ICE\\PV_ICE\\baselines\n"
     ]
    }
   ],
   "source": [
    "sim1 = PV_ICE.Simulation(name='SIPS', path=testfolder)"
   ]
  },
  {
   "cell_type": "markdown",
   "id": "a43f9553-be86-4a17-92d2-b32c65992b15",
   "metadata": {},
   "source": [
    "## Residential Case Study\n",
    "This case study considers a residential system where the PV system is not at technical end of life (installed 2015), but the roof needs replacing in 2024. The owner has the option of keeping the old system or replacing the PV system."
   ]
  },
  {
   "cell_type": "code",
   "execution_count": 3,
   "id": "93a52417-0815-46cc-8b4f-c86fc2b6e556",
   "metadata": {},
   "outputs": [],
   "source": [
    "#c-Si\n",
    "MATERIALS = ['glass','aluminium_frames','silver','silicon', 'copper', 'encapsulant', 'backsheet']\n",
    "moduleFile_m = os.path.join(baselinesfolder, 'baseline_modules_mass_US_updatedT50T90.csv')\n",
    "moduleFile_e = os.path.join(baselinesfolder, 'baseline_modules_energy.csv')\n",
    "\n",
    "#CdTe\n",
    "#MATERIALS_CdTe = ['glass_cdte','aluminium_frames_cdte', 'copper_cdte', 'encapsulant_cdte','cadmium','tellurium']\n",
    "#moduleFile_CdTe = os.path.join(baselinesfolder, 'baseline_modules_mass_US_CdTe.csv')"
   ]
  },
  {
   "cell_type": "code",
   "execution_count": 4,
   "id": "5ee5a3e3-29a3-4eea-94c5-e5ae75fb1da6",
   "metadata": {},
   "outputs": [],
   "source": [
    "#residential system parameters\n",
    "resi_sys1_size = 0.00552 #MW, first system on roof (degrades to 5 kW in 2024 after 9 years (2024-2015))\n",
    "resi_sys1_deg = 1.1 #%/yr, corresponds to 20 yr life\n",
    "resi_sys1_life = 20 #years of life\n",
    "resi_sys1_life_repower = 9 #years of life but remove for repowering\n",
    "\n",
    "resi_sys2_size = 0.0073 #MW, 2nd system on roof\n",
    "resi_sys2_deg = 0.7 #%/yr, corresponds to 30 yr life\n",
    "resi_sys2_life = 30 #years of life"
   ]
  },
  {
   "cell_type": "code",
   "execution_count": 5,
   "id": "efedbc4b-0216-48aa-a884-dbc8ce255975",
   "metadata": {},
   "outputs": [],
   "source": [
    "#Residential case study\n",
    "sim1.createScenario(name='Resi_keep', massmodulefile=moduleFile_m, energymodulefile=moduleFile_e) #create the scenario, name and mod file attach\n",
    "for mat in MATERIALS:\n",
    "    materialfile_m = os.path.join(baselinesfolder, 'baseline_material_mass_'+str(mat)+'.csv')\n",
    "    materialfile_e = os.path.join(baselinesfolder, 'baseline_material_energy_'+str(mat)+'.csv')\n",
    "    sim1.scenario['Resi_keep'].addMaterial(mat, massmatfile=materialfile_m, energymatfile=materialfile_e) # add all materials listed in MATERIALS"
   ]
  },
  {
   "cell_type": "code",
   "execution_count": 6,
   "id": "7be01ab2-6824-4687-a1b8-23b68dbeb4ac",
   "metadata": {},
   "outputs": [],
   "source": [
    "#Residential case study\n",
    "sim1.createScenario(name='Resi_repower', massmodulefile=moduleFile_m, energymodulefile=moduleFile_e) #create the scenario, name and mod file attach\n",
    "for mat in MATERIALS:\n",
    "    materialfile = os.path.join(baselinesfolder, 'baseline_material_mass_'+str(mat)+'.csv')\n",
    "    materialfile_e = os.path.join(baselinesfolder, 'baseline_material_energy_'+str(mat)+'.csv')\n",
    "    sim1.scenario['Resi_repower'].addMaterial(mat, massmatfile=materialfile_m, energymatfile=materialfile_e) # add all materials listed in MATERIALS"
   ]
  },
  {
   "cell_type": "markdown",
   "id": "68bf3167-c4a5-4da3-91ed-57f0f9bacd5f",
   "metadata": {},
   "source": [
    "idx_temp = pd.RangeIndex(start=2024,stop=2051,step=1) #create the index\n",
    "CdTeRamp = pd.DataFrame(index=idx_temp, columns=['CdTe_deploy_[MWdc]'], dtype=float)\n",
    "CdTeRamp.loc[2024] = 14000\n",
    "CdTeRamp.loc[2030] = 50000#22000\n",
    "CdTeRamp_full = round(CdTeRamp.interpolate(),0)\n",
    "#CdTeRamp_full"
   ]
  },
  {
   "cell_type": "code",
   "execution_count": 7,
   "id": "61014a62-9b16-431d-9c5e-3aa2f19acef6",
   "metadata": {},
   "outputs": [],
   "source": [
    "#Modify the Scenario \n",
    "sim1.modifyScenario(scenarios='Resi_keep',stage='new_Installed_Capacity_[MW]', value=0, start_year=1995) #\n",
    "#sim1.modifyScenario(scenarios='NAME',stage='new_Installed_Capacity_[MW]', value=0.005, start_year=2015) #5kW system installed in 2015\n",
    "sim1.scenario['Resi_keep'].dataIn_m.loc[2015-1995, 'new_Installed_Capacity_[MW]'] = resi_sys1_size\n",
    "sim1.scenario['Resi_keep'].dataIn_m.loc[2015-1995, 'mod_degradation'] = resi_sys1_deg\n",
    "sim1.scenario['Resi_keep'].dataIn_m.loc[2015-1995, 'mod_lifetime'] = resi_sys1_life\n"
   ]
  },
  {
   "cell_type": "code",
   "execution_count": 8,
   "id": "5ac8fa8a-7c2b-40ee-8b64-5c1e34594d6f",
   "metadata": {},
   "outputs": [],
   "source": [
    "#Modify the Scenario \n",
    "sim1.modifyScenario(scenarios='Resi_repower',stage='new_Installed_Capacity_[MW]', value=0, start_year=1995) #\n",
    "#sim1.modifyScenario(scenarios='NAME',stage='new_Installed_Capacity_[MW]', value=0.005, start_year=2015) #5kW system installed in 2015\n",
    "sim1.scenario['Resi_repower'].dataIn_m.loc[2015-1995, 'new_Installed_Capacity_[MW]'] = resi_sys1_size\n",
    "sim1.scenario['Resi_repower'].dataIn_m.loc[2015-1995, 'mod_degradation'] = resi_sys1_deg\n",
    "sim1.scenario['Resi_repower'].dataIn_m.loc[2015-1995, 'mod_lifetime'] = resi_sys1_life_repower\n",
    "\n",
    "sim1.scenario['Resi_repower'].dataIn_m.loc[2024-1995, 'new_Installed_Capacity_[MW]'] = resi_sys2_size\n",
    "sim1.scenario['Resi_repower'].dataIn_m.loc[2024-1995, 'mod_degradation'] = resi_sys2_deg\n",
    "sim1.scenario['Resi_repower'].dataIn_m.loc[2024-1995, 'mod_lifetime'] = resi_sys2_life"
   ]
  },
  {
   "cell_type": "code",
   "execution_count": 9,
   "id": "4e2d9061-0112-4364-af82-fe4f8fc8110f",
   "metadata": {},
   "outputs": [
    {
     "name": "stdout",
     "output_type": "stream",
     "text": [
      "Trimming and extending  Resi_keep\n",
      "Resi_keep glass : Data trimmed for Energy, years now encompass  2010  to  2060\n",
      "Resi_keep aluminium_frames : Data trimmed for Energy, years now encompass  2010  to  2060\n",
      "Resi_keep silver : Data trimmed for Energy, years now encompass  2010  to  2060\n",
      "Resi_keep silicon : Data trimmed for Energy, years now encompass  2010  to  2060\n",
      "Resi_keep copper : Data trimmed for Energy, years now encompass  2010  to  2060\n",
      "Resi_keep encapsulant : Data trimmed for Energy, years now encompass  2010  to  2060\n",
      "Resi_keep backsheet : Data trimmed for Energy, years now encompass  2010  to  2060\n",
      "Resi_keep backsheet : Data trimmed for Mass, years now encompass  2010  to  2060\n",
      "Trimming and extending  Resi_repower\n",
      "Resi_repower glass : Data trimmed for Energy, years now encompass  2010  to  2060\n",
      "Resi_repower aluminium_frames : Data trimmed for Energy, years now encompass  2010  to  2060\n",
      "Resi_repower silver : Data trimmed for Energy, years now encompass  2010  to  2060\n",
      "Resi_repower silicon : Data trimmed for Energy, years now encompass  2010  to  2060\n",
      "Resi_repower copper : Data trimmed for Energy, years now encompass  2010  to  2060\n",
      "Resi_repower encapsulant : Data trimmed for Energy, years now encompass  2010  to  2060\n",
      "Resi_repower backsheet : Data trimmed for Energy, years now encompass  2010  to  2060\n",
      "Resi_repower backsheet : Data trimmed for Mass, years now encompass  2010  to  2060\n"
     ]
    }
   ],
   "source": [
    "#extend the analysis period for full energy calc\n",
    "sim1.trim_Years(2010,2060)"
   ]
  },
  {
   "cell_type": "code",
   "execution_count": 10,
   "id": "6268306d-58bc-4065-9810-0871f6871744",
   "metadata": {
    "scrolled": true
   },
   "outputs": [],
   "source": [
    "#do we also need a reuse scenario where both systems are used for full life? - wouldn't it just be additive?\n"
   ]
  },
  {
   "cell_type": "code",
   "execution_count": 11,
   "id": "e791648b-0ccb-47aa-8b84-fcd97b12394c",
   "metadata": {},
   "outputs": [
    {
     "data": {
      "text/plain": [
       "<matplotlib.legend.Legend at 0x1bd577ff450>"
      ]
     },
     "execution_count": 11,
     "metadata": {},
     "output_type": "execute_result"
    },
    {
     "data": {
      "image/png": "[encoded data removed]",
      "text/plain": [
       "<Figure size 640x480 with 1 Axes>"
      ]
     },
     "metadata": {},
     "output_type": "display_data"
    }
   ],
   "source": [
    "plt.plot(sim1.scenario['Resi_keep'].dataIn_m.loc[:, 'year'], \n",
    "         sim1.scenario['Resi_keep'].dataIn_m.loc[:, 'new_Installed_Capacity_[MW]'])\n",
    "plt.plot(sim1.scenario['Resi_repower'].dataIn_m.loc[:, 'year'], \n",
    "         sim1.scenario['Resi_repower'].dataIn_m.loc[:, 'new_Installed_Capacity_[MW]'], ls='--')\n",
    "plt.ylim(0,0.01)\n",
    "plt.ylabel('Deployed [MW_dc]')\n",
    "plt.legend(['Keep','Repower'])"
   ]
  },
  {
   "cell_type": "code",
   "execution_count": 12,
   "id": "828595fe-ad41-40a2-9c90-7e59e4968a35",
   "metadata": {
    "scrolled": true
   },
   "outputs": [
    {
     "name": "stdout",
     "output_type": "stream",
     "text": [
      ">>>> Calculating Material Flows <<<<\n",
      "\n",
      "Working on Scenario:  Resi_keep\n",
      "********************\n",
      "Finished Area+Power Generation Calculations\n",
      "==> Working on Material :  glass\n",
      "Recycled surplus End of Sim for Mat  glass  Scenario  Resi_keep  =  6.923027231999998e-05  tonnes.\n",
      "==> Working on Material :  aluminium_frames\n",
      "Recycled surplus End of Sim for Mat  aluminium_frames  Scenario  Resi_keep  =  0.0012234953067535056  tonnes.\n",
      "==> Working on Material :  silver\n",
      "==> Working on Material :  silicon\n",
      "==> Working on Material :  copper\n",
      "==> Working on Material :  encapsulant\n",
      "==> Working on Material :  backsheet\n",
      "Working on Scenario:  Resi_repower\n",
      "********************\n",
      "Finished Area+Power Generation Calculations\n",
      "==> Working on Material :  glass\n",
      "==> Working on Material :  aluminium_frames\n",
      "==> Working on Material :  silver\n",
      "==> Working on Material :  silicon\n",
      "==> Working on Material :  copper\n",
      "==> Working on Material :  encapsulant\n",
      "==> Working on Material :  backsheet\n",
      "\n",
      "\n",
      ">>>> Calculating Energy Flows <<<<\n",
      "\n",
      "Working on Scenario:  Resi_keep\n",
      "********************\n",
      "==> Working on Energy for Material :  glass\n",
      "==> Working on Energy for Material :  aluminium_frames\n",
      "==> Working on Energy for Material :  silver\n",
      "==> Working on Energy for Material :  silicon\n",
      "==> Working on Energy for Material :  copper\n",
      "==> Working on Energy for Material :  encapsulant\n",
      "==> Working on Energy for Material :  backsheet\n",
      "Working on Scenario:  Resi_repower\n",
      "********************\n",
      "==> Working on Energy for Material :  glass\n",
      "==> Working on Energy for Material :  aluminium_frames\n",
      "==> Working on Energy for Material :  silver\n",
      "==> Working on Energy for Material :  silicon\n",
      "==> Working on Energy for Material :  copper\n",
      "==> Working on Energy for Material :  encapsulant\n",
      "==> Working on Energy for Material :  backsheet\n"
     ]
    }
   ],
   "source": [
    "sim1.calculateFlows()"
   ]
  },
  {
   "cell_type": "code",
   "execution_count": 13,
   "id": "2e42289d-aded-4577-92c4-65ec1855d329",
   "metadata": {},
   "outputs": [
    {
     "name": "stderr",
     "output_type": "stream",
     "text": [
      "C:\\Users\\hmirletz\\Documents\\GitHub\\PV_ICE\\PV_ICE\\main.py:2263: SettingWithCopyWarning: \n",
      "A value is trying to be set on a copy of a slice from a DataFrame.\n",
      "Try using .loc[row_indexer,col_indexer] = value instead\n",
      "\n",
      "See the caveats in the documentation: https://pandas.pydata.org/pandas-docs/stable/user_guide/indexing.html#returning-a-view-versus-a-copy\n",
      "  scende_demands.loc[:,colname] = scende_demands.sum(axis=1) #sums module and material energy demands\n",
      "C:\\Users\\hmirletz\\Documents\\GitHub\\PV_ICE\\PV_ICE\\main.py:2263: SettingWithCopyWarning: \n",
      "A value is trying to be set on a copy of a slice from a DataFrame.\n",
      "Try using .loc[row_indexer,col_indexer] = value instead\n",
      "\n",
      "See the caveats in the documentation: https://pandas.pydata.org/pandas-docs/stable/user_guide/indexing.html#returning-a-view-versus-a-copy\n",
      "  scende_demands.loc[:,colname] = scende_demands.sum(axis=1) #sums module and material energy demands\n"
     ]
    }
   ],
   "source": [
    "sim1_yearly, sim1_cumu = sim1.aggregateResults()\n",
    "sim1_allenergy, sim1_energyGen, sim1_energyDemands_all = sim1.aggregateEnergyResults()\n"
   ]
  },
  {
   "cell_type": "code",
   "execution_count": 19,
   "id": "6db33248-50a3-4274-a1b3-a9ced04a20e7",
   "metadata": {},
   "outputs": [
    {
     "data": {
      "text/plain": [
       "Text(0, 0.5, 'Decommissioned Capacity [kW_dc]')"
      ]
     },
     "execution_count": 19,
     "metadata": {},
     "output_type": "execute_result"
    },
    {
     "data": {
      "image/png": "[encoded data removed]",
      "text/plain": [
       "<Figure size 640x480 with 1 Axes>"
      ]
     },
     "metadata": {},
     "output_type": "display_data"
    }
   ],
   "source": [
    "decommisioned = sim1_yearly.filter(like='Decommisioned')\n",
    "plt.plot(decommisioned*1000)\n",
    "plt.legend(['Keep','Repower'])\n",
    "plt.ylim(0,14)\n",
    "plt.ylabel('Decommissioned Capacity [kW_dc]')"
   ]
  },
  {
   "cell_type": "code",
   "execution_count": 15,
   "id": "eedd27d0-17da-4752-8479-1191cd246ead",
   "metadata": {},
   "outputs": [
    {
     "data": {
      "text/plain": [
       "Text(0, 0.5, 'Annual Energy Generation [MWh]')"
      ]
     },
     "execution_count": 15,
     "metadata": {},
     "output_type": "execute_result"
    },
    {
     "data": {
      "image/png": "[encoded data removed]",
      "text/plain": [
       "<Figure size 640x480 with 1 Axes>"
      ]
     },
     "metadata": {},
     "output_type": "display_data"
    }
   ],
   "source": [
    "plt.plot(sim1_energyGen/1e6)\n",
    "plt.legend(['Keep','Repower'])\n",
    "plt.ylim(0,12.0)\n",
    "plt.ylabel('Annual Energy Generation [MWh]')"
   ]
  },
  {
   "cell_type": "code",
   "execution_count": 72,
   "id": "5b55fdcd-bfc4-4742-a365-8816b5cc38a9",
   "metadata": {},
   "outputs": [
    {
     "data": {
      "text/html": [
       "<div>\n",
       "<style scoped>\n",
       "    .dataframe tbody tr th:only-of-type {\n",
       "        vertical-align: middle;\n",
       "    }\n",
       "\n",
       "    .dataframe tbody tr th {\n",
       "        vertical-align: top;\n",
       "    }\n",
       "\n",
       "    .dataframe thead th {\n",
       "        text-align: right;\n",
       "    }\n",
       "</style>\n",
       "<table border=\"1\" class=\"dataframe\">\n",
       "  <thead>\n",
       "    <tr style=\"text-align: right;\">\n",
       "      <th></th>\n",
       "      <th>Keep_[MWh]</th>\n",
       "      <th>Repower_[MWh]</th>\n",
       "    </tr>\n",
       "  </thead>\n",
       "  <tbody>\n",
       "    <tr>\n",
       "      <th>Energy_Gen</th>\n",
       "      <td>148.307821</td>\n",
       "      <td>365.792917</td>\n",
       "    </tr>\n",
       "  </tbody>\n",
       "</table>\n",
       "</div>"
      ],
      "text/plain": [
       "            Keep_[MWh]  Repower_[MWh]\n",
       "Energy_Gen  148.307821     365.792917"
      ]
     },
     "execution_count": 72,
     "metadata": {},
     "output_type": "execute_result"
    }
   ],
   "source": [
    "cumu_energy_gen = sim1_energyGen.cumsum().loc[[2060]]\n",
    "cumu_energy_gen_MWh = cumu_energy_gen/1e6\n",
    "cumu_energy_gen_MWh.columns = ['Keep_[MWh]', 'Repower_[MWh]']\n",
    "cumu_energy_gen_MWh.index=['Energy_Gen']\n",
    "cumu_energy_gen_MWh"
   ]
  },
  {
   "cell_type": "code",
   "execution_count": 73,
   "id": "245df34e-ddc9-416c-9eb3-512ab8d8341c",
   "metadata": {},
   "outputs": [],
   "source": [
    "#sum the energy demands\n",
    "energydemand_keep = sim1_energyDemands_all.filter(like='keep').sum(axis=1).sum()/1e6 #MWh\n",
    "energydemand_repower = sim1_energyDemands_all.filter(like='repower').sum(axis=1).sum()/1e6 #MWh"
   ]
  },
  {
   "cell_type": "code",
   "execution_count": 75,
   "id": "cce5ad74-8191-4b71-b4f1-dbea5c280317",
   "metadata": {},
   "outputs": [
    {
     "data": {
      "text/html": [
       "<div>\n",
       "<style scoped>\n",
       "    .dataframe tbody tr th:only-of-type {\n",
       "        vertical-align: middle;\n",
       "    }\n",
       "\n",
       "    .dataframe tbody tr th {\n",
       "        vertical-align: top;\n",
       "    }\n",
       "\n",
       "    .dataframe thead th {\n",
       "        text-align: right;\n",
       "    }\n",
       "</style>\n",
       "<table border=\"1\" class=\"dataframe\">\n",
       "  <thead>\n",
       "    <tr style=\"text-align: right;\">\n",
       "      <th></th>\n",
       "      <th>Keep_[MWh]</th>\n",
       "      <th>Repower_[MWh]</th>\n",
       "    </tr>\n",
       "  </thead>\n",
       "  <tbody>\n",
       "    <tr>\n",
       "      <th>Energy_Gen</th>\n",
       "      <td>148.307821</td>\n",
       "      <td>365.792917</td>\n",
       "    </tr>\n",
       "    <tr>\n",
       "      <th>Energy_Demand</th>\n",
       "      <td>22.049576</td>\n",
       "      <td>35.809028</td>\n",
       "    </tr>\n",
       "  </tbody>\n",
       "</table>\n",
       "</div>"
      ],
      "text/plain": [
       "               Keep_[MWh]  Repower_[MWh]\n",
       "Energy_Gen     148.307821     365.792917\n",
       "Energy_Demand   22.049576      35.809028"
      ]
     },
     "execution_count": 75,
     "metadata": {},
     "output_type": "execute_result"
    }
   ],
   "source": [
    "cumu_energy_MWh = cumu_energy_gen_MWh.copy()\n",
    "cumu_energy_MWh.loc['Energy_Demand','Keep_[MWh]'] = energydemand_keep\n",
    "cumu_energy_MWh.loc['Energy_Demand','Repower_[MWh]'] = energydemand_repower\n",
    "cumu_energy_MWh"
   ]
  },
  {
   "cell_type": "code",
   "execution_count": 78,
   "id": "6319d6ed-18d2-4869-8d66-4a307731c6d5",
   "metadata": {},
   "outputs": [
    {
     "data": {
      "text/html": [
       "<div>\n",
       "<style scoped>\n",
       "    .dataframe tbody tr th:only-of-type {\n",
       "        vertical-align: middle;\n",
       "    }\n",
       "\n",
       "    .dataframe tbody tr th {\n",
       "        vertical-align: top;\n",
       "    }\n",
       "\n",
       "    .dataframe thead th {\n",
       "        text-align: right;\n",
       "    }\n",
       "</style>\n",
       "<table border=\"1\" class=\"dataframe\">\n",
       "  <thead>\n",
       "    <tr style=\"text-align: right;\">\n",
       "      <th></th>\n",
       "      <th>Keep_[MWh]</th>\n",
       "      <th>Repower_[MWh]</th>\n",
       "    </tr>\n",
       "  </thead>\n",
       "  <tbody>\n",
       "    <tr>\n",
       "      <th>Energy_Gen</th>\n",
       "      <td>148.307821</td>\n",
       "      <td>365.792917</td>\n",
       "    </tr>\n",
       "    <tr>\n",
       "      <th>Energy_Demand</th>\n",
       "      <td>22.049576</td>\n",
       "      <td>35.809028</td>\n",
       "    </tr>\n",
       "    <tr>\n",
       "      <th>EROI</th>\n",
       "      <td>6.726108</td>\n",
       "      <td>10.215103</td>\n",
       "    </tr>\n",
       "  </tbody>\n",
       "</table>\n",
       "</div>"
      ],
      "text/plain": [
       "               Keep_[MWh]  Repower_[MWh]\n",
       "Energy_Gen     148.307821     365.792917\n",
       "Energy_Demand   22.049576      35.809028\n",
       "EROI             6.726108      10.215103"
      ]
     },
     "execution_count": 78,
     "metadata": {},
     "output_type": "execute_result"
    }
   ],
   "source": [
    "#EROI\n",
    "cumu_energy_MWh.loc['EROI'] = cumu_energy_MWh.loc['Energy_Gen']/cumu_energy_MWh.loc['Energy_Demand']\n",
    "cumu_energy_MWh"
   ]
  },
  {
   "cell_type": "code",
   "execution_count": 50,
   "id": "77030757-12bb-4e0e-834e-6a23fbd59d8c",
   "metadata": {},
   "outputs": [],
   "source": [
    "#material demands\n",
    "modmass_keep = sim1_yearly.loc[2015,'VirginStock_Module_SIPS_Resi_keep_[Tonnes]']\n",
    "modmass_repower = sim1_yearly.loc[:,'VirginStock_Module_SIPS_Resi_repower_[Tonnes]'].sum()\n"
   ]
  },
  {
   "cell_type": "code",
   "execution_count": null,
   "id": "720d84de-79ee-45bc-976f-4d2261852ea4",
   "metadata": {},
   "outputs": [],
   "source": []
  },
  {
   "cell_type": "markdown",
   "id": "b229bce9-496d-4f55-b8a1-2fd1158b3a75",
   "metadata": {},
   "source": [
    "# Commercial Case Study\n",
    "This case study considers a set of commerical PV installations."
   ]
  },
  {
   "cell_type": "code",
   "execution_count": null,
   "id": "5601df4c-6556-4b71-8922-6a05dbe9ccc6",
   "metadata": {},
   "outputs": [],
   "source": []
  },
  {
   "cell_type": "code",
   "execution_count": null,
   "id": "76aec89f-0650-43c9-94db-b3f70de82ef9",
   "metadata": {},
   "outputs": [],
   "source": []
  },
  {
   "cell_type": "code",
   "execution_count": null,
   "id": "bf115fa7-ac29-41c2-bfcd-7b8dc1beb64b",
   "metadata": {},
   "outputs": [],
   "source": []
  },
  {
   "cell_type": "markdown",
   "id": "afcc89b5-fccf-4c63-91e7-194446218e18",
   "metadata": {},
   "source": [
    "# Utility Case Study\n",
    "This case study considers a set of utility scale PV installations."
   ]
  },
  {
   "cell_type": "code",
   "execution_count": null,
   "id": "3210d68d-f56b-4da3-b500-8073b707a2d5",
   "metadata": {},
   "outputs": [],
   "source": []
  }
 ],
 "metadata": {
  "kernelspec": {
   "display_name": "Python 3 (ipykernel)",
   "language": "python",
   "name": "python3"
  },
  "language_info": {
   "codemirror_mode": {
    "name": "ipython",
    "version": 3
   },
   "file_extension": ".py",
   "mimetype": "text/x-python",
   "name": "python",
   "nbconvert_exporter": "python",
   "pygments_lexer": "ipython3",
   "version": "3.11.5"
  }
 },
 "nbformat": 4,
 "nbformat_minor": 5
}
