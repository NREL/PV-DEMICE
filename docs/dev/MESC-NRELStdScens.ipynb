{
 "cells": [
  {
   "cell_type": "code",
   "execution_count": 1,
   "id": "140c621b-411e-449b-9453-f165d54630f6",
   "metadata": {},
   "outputs": [],
   "source": [
    "import numpy as np\n",
    "import pandas as pd\n",
    "import os,sys\n",
    "from pathlib import Path\n",
    "import matplotlib.pyplot as plt\n",
    "\n",
    "import PV_ICE\n",
    "\n",
    "cwd = os.getcwd() #grabs current working directory\n",
    "\n",
    "testfolder = str(Path().resolve().parent.parent / 'PV_ICE' / 'TEMP' / 'MESC-NRELStdScens')\n",
    "inputfolder = str(Path().resolve().parent.parent / 'PV_ICE' / 'baselines'/'NRELStdScenarios')\n",
    "baselinesfolder = str(Path().resolve().parent.parent /'PV_ICE' / 'baselines')\n",
    "supportMatfolder = str(Path().resolve().parent.parent / 'PV_ICE' / 'baselines' / 'SupportingMaterial')\n",
    "#altBaselinesfolder = str(Path().resolve().parent.parent / 'PV_ICE' / 'baselines' / 'Energy_CellModuleTechCompare')\n",
    "\n",
    "if not os.path.exists(testfolder):\n",
    "    os.makedirs(testfolder)"
   ]
  },
  {
   "cell_type": "code",
   "execution_count": 46,
   "id": "8f5a4f49-9961-4781-b80b-e2ce086fe6dc",
   "metadata": {},
   "outputs": [
    {
     "name": "stdout",
     "output_type": "stream",
     "text": [
      "Python version  3.11.5 | packaged by Anaconda, Inc. | (main, Sep 11 2023, 13:26:23) [MSC v.1916 64 bit (AMD64)]\n",
      "Pandas version  2.0.3\n",
      "pyplot  3.7.2\n",
      "PV_ICE version  \n"
     ]
    }
   ],
   "source": [
    "print(\"Python version \", sys.version)\n",
    "print(\"Pandas version \", pd.__version__)\n",
    "print(\"pyplot \", plt.matplotlib.__version__)\n",
    "print(\"PV_ICE version \", PV_ICE.__version__)"
   ]
  },
  {
   "cell_type": "markdown",
   "id": "aa001301-c837-4b70-9cb7-0341f337e6dc",
   "metadata": {},
   "source": [
    "### Bring in NREL Standard Scenarios data for projection\n",
    "https://scenarioviewer.nrel.gov/ download the data, save it to the NRELStdScenarios folder in baselines."
   ]
  },
  {
   "cell_type": "code",
   "execution_count": 18,
   "id": "77f5c36b-4fb5-49d5-88fe-132ed7195593",
   "metadata": {},
   "outputs": [],
   "source": [
    "stdsceninput_raw = pd.read_csv(os.path.join(inputfolder, 'StdScen23_Mid_Case_NoNascent_annual_national.csv'),\n",
    "           skiprows=[0,1,2,4], header=[0], index_col=1)"
   ]
  },
  {
   "cell_type": "code",
   "execution_count": 23,
   "id": "992e4d5f-8bed-4836-bd66-46df7b4f9f6d",
   "metadata": {},
   "outputs": [],
   "source": [
    "stdscen_pv_evens = stdsceninput_raw.filter(like='(MW)').filter(like='PV')"
   ]
  },
  {
   "cell_type": "code",
   "execution_count": 38,
   "id": "faffb8bb-4b29-400c-9cf1-54b0e897714a",
   "metadata": {},
   "outputs": [],
   "source": [
    "#now make previous odds = next year evens deployment\n",
    "idx_temp = pd.RangeIndex(start=2024,stop=2051,step=1) #create the index\n",
    "stdscens_pv_filled = stdscen_pv_evens.reindex(idx_temp, method='bfill')\n",
    "stdscens_pv_filled"
   ]
  },
  {
   "cell_type": "code",
   "execution_count": 49,
   "id": "23741862-8316-4f28-babe-5d919cb883e7",
   "metadata": {},
   "outputs": [],
   "source": [
    "#stdscens_pv_filled.sum(axis=1)"
   ]
  },
  {
   "cell_type": "markdown",
   "id": "fdc8034a-ed05-40e6-8e06-49b182b80962",
   "metadata": {},
   "source": [
    "### Set up PV ICE simulation using historical US installs with the NREL Std Scenarios projection\n"
   ]
  },
  {
   "cell_type": "code",
   "execution_count": null,
   "id": "a40bff59-71c7-4f1b-9b13-2b2866905a34",
   "metadata": {},
   "outputs": [],
   "source": [
    "MATERIALS = ['glass','aluminium_frames','silver','silicon', 'copper', 'encapsulant', 'backsheet']\n",
    "moduleFile = os.path.join(baselinesfolder, 'baseline_modules_mass_US_updatedT50T90.csv')\n"
   ]
  },
  {
   "cell_type": "code",
   "execution_count": null,
   "id": "6a0ef3d8-980a-4a97-bf6a-a97fca924314",
   "metadata": {},
   "outputs": [],
   "source": [
    "sim1 = PV_ICE.Simulation(name='MESC_StdScen', path=testfolder)\n",
    "sim1.createScenario(name=scens, massmodulefile=moduleFile) #create the scenario, name and mod file attach\n",
    "for mat in MATERIALS:\n",
    "    materialfile = os.path.join(baselinesfolder, 'baseline_material_mass_'+str(mat)+'.csv')\n",
    "    sim1.scenario[scens].addMaterial(mat, massmatfile=materialfile) # add all materials listed in MATERIALS"
   ]
  },
  {
   "cell_type": "code",
   "execution_count": null,
   "id": "ff80e725-f86b-4873-b120-cfe662c5214f",
   "metadata": {},
   "outputs": [],
   "source": []
  },
  {
   "cell_type": "code",
   "execution_count": null,
   "id": "869c95cf-a28a-4b72-acb8-b1f264304000",
   "metadata": {},
   "outputs": [],
   "source": []
  },
  {
   "cell_type": "code",
   "execution_count": null,
   "id": "0037e9c0-8b7a-4ff8-b173-f30a525c32e2",
   "metadata": {},
   "outputs": [],
   "source": []
  },
  {
   "cell_type": "code",
   "execution_count": null,
   "id": "130a5508-31be-41da-b54c-d33086f399d7",
   "metadata": {},
   "outputs": [],
   "source": []
  }
 ],
 "metadata": {
  "kernelspec": {
   "display_name": "Python 3 (ipykernel)",
   "language": "python",
   "name": "python3"
  },
  "language_info": {
   "codemirror_mode": {
    "name": "ipython",
    "version": 3
   },
   "file_extension": ".py",
   "mimetype": "text/x-python",
   "name": "python",
   "nbconvert_exporter": "python",
   "pygments_lexer": "ipython3",
   "version": "3.11.5"
  }
 },
 "nbformat": 4,
 "nbformat_minor": 5
}
